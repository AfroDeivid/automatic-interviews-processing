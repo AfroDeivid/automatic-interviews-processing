{
 "cells": [
  {
   "cell_type": "markdown",
   "metadata": {},
   "source": [
    "# Data cleaning (Preprocessing) for CSV transcripts"
   ]
  },
  {
   "cell_type": "markdown",
   "metadata": {},
   "source": [
    "Perform basic data cleaning on CSV transcript data, particularly if using the *raw* versions of the files. The steps here are intended to clean up any inconsistencies that may remain after manual verification.\n",
    "\n",
    "**Steps 1 & 2:** Initial data preparation has already been completed on the preprocessed version.\n",
    "\n",
    "**Using Raw Data:** You can perform all the steps here."
   ]
  },
  {
   "cell_type": "code",
   "execution_count": 2,
   "metadata": {},
   "outputs": [
    {
     "name": "stdout",
     "output_type": "stream",
     "text": [
      "The autoreload extension is already loaded. To reload it, use:\n",
      "  %reload_ext autoreload\n"
     ]
    }
   ],
   "source": [
    "%load_ext autoreload\n",
    "%autoreload 2"
   ]
  },
  {
   "cell_type": "code",
   "execution_count": 3,
   "metadata": {},
   "outputs": [],
   "source": [
    "from utils.preprocessing_helpers import organize_csv_files_by_dir, process_files\n",
    "from utils.analysis_helpers import *\n",
    "\n",
    "import warnings\n",
    "warnings.filterwarnings(\"ignore\", category=UserWarning, module=\"openpyxl\")"
   ]
  },
  {
   "cell_type": "markdown",
   "metadata": {},
   "source": [
    "### 0. Save the files to procces by experiment (if mixed on another folder)"
   ]
  },
  {
   "cell_type": "code",
   "execution_count": 5,
   "metadata": {},
   "outputs": [
    {
     "name": "stdout",
     "output_type": "stream",
     "text": [
      "../evaluation/references\\ID 05.csv\n",
      "Copied ID 05.csv to ../interviews_corrected/0_raw\\OBE1\n",
      "../evaluation/references\\Id 08.csv\n",
      "Copied Id 08.csv to ../interviews_corrected/0_raw\\OBE1\n",
      "../evaluation/references\\Id 13.csv\n",
      "Copied Id 13.csv to ../interviews_corrected/0_raw\\OBE1\n",
      "../evaluation/references\\Id 13b.csv\n",
      "Copied Id 13b.csv to ../interviews_corrected/0_raw\\OBE1\n",
      "../evaluation/references\\Id 14.csv\n",
      "Copied Id 14.csv to ../interviews_corrected/0_raw\\OBE1\n",
      "../evaluation/references\\Id 15.csv\n",
      "Copied Id 15.csv to ../interviews_corrected/0_raw\\OBE1\n",
      "../evaluation/references\\Id 16.csv\n",
      "Copied Id 16.csv to ../interviews_corrected/0_raw\\OBE1\n",
      "../evaluation/references\\Id 17.csv\n",
      "Copied Id 17.csv to ../interviews_corrected/0_raw\\OBE1\n",
      "../evaluation/references\\Id 18.csv\n",
      "Copied Id 18.csv to ../interviews_corrected/0_raw\\OBE1\n",
      "../evaluation/references\\Id 19.csv\n",
      "Copied Id 19.csv to ../interviews_corrected/0_raw\\OBE1\n",
      "../evaluation/references\\Id 19b.csv\n",
      "Copied Id 19b.csv to ../interviews_corrected/0_raw\\OBE1\n",
      "../evaluation/references\\Id 22.csv\n",
      "Copied Id 22.csv to ../interviews_corrected/0_raw\\OBE1\n",
      "../evaluation/references\\Id 23.csv\n",
      "Copied Id 23.csv to ../interviews_corrected/0_raw\\OBE1\n",
      "../evaluation/references\\Id 24.csv\n",
      "Copied Id 24.csv to ../interviews_corrected/0_raw\\OBE1\n",
      "../evaluation/references\\Id 24b.csv\n",
      "Copied Id 24b.csv to ../interviews_corrected/0_raw\\OBE1\n",
      "../evaluation/references\\Id 7a.csv\n",
      "Copied Id 7a.csv to ../interviews_corrected/0_raw\\OBE1\n",
      "../evaluation/references\\Id 7b.csv\n",
      "Copied Id 7b.csv to ../interviews_corrected/0_raw\\OBE1\n",
      "../evaluation/references\\Participant 20 interview.csv\n",
      "Copied Participant 20 interview.csv to ../interviews_corrected/0_raw\\OBE1\n",
      "../evaluation/references\\S201-1.csv\n",
      "Copied S201-1.csv to ../interviews_corrected/0_raw\\OBE2\n",
      "../evaluation/references\\S201-2.csv\n",
      "Copied S201-2.csv to ../interviews_corrected/0_raw\\OBE2\n",
      "../evaluation/references\\S201-3.csv\n",
      "Copied S201-3.csv to ../interviews_corrected/0_raw\\OBE2\n",
      "../evaluation/references\\S202-1.csv\n",
      "Copied S202-1.csv to ../interviews_corrected/0_raw\\OBE2\n",
      "../evaluation/references\\S203-1.csv\n",
      "Copied S203-1.csv to ../interviews_corrected/0_raw\\OBE2\n",
      "../evaluation/references\\S204-1.csv\n",
      "Copied S204-1.csv to ../interviews_corrected/0_raw\\OBE2\n",
      "../evaluation/references\\S204-2.csv\n",
      "Copied S204-2.csv to ../interviews_corrected/0_raw\\OBE2\n",
      "../evaluation/references\\S205-1.csv\n",
      "Copied S205-1.csv to ../interviews_corrected/0_raw\\OBE2\n",
      "../evaluation/references\\S205-2.csv\n",
      "Copied S205-2.csv to ../interviews_corrected/0_raw\\OBE2\n",
      "../evaluation/references\\S206-1.csv\n",
      "Copied S206-1.csv to ../interviews_corrected/0_raw\\OBE2\n",
      "../evaluation/references\\S206-2.csv\n",
      "Copied S206-2.csv to ../interviews_corrected/0_raw\\OBE2\n",
      "../evaluation/references\\S207-1.csv\n",
      "Copied S207-1.csv to ../interviews_corrected/0_raw\\OBE2\n",
      "../evaluation/references\\S207-2.csv\n",
      "Copied S207-2.csv to ../interviews_corrected/0_raw\\OBE2\n",
      "../evaluation/references\\S208-1.csv\n",
      "Copied S208-1.csv to ../interviews_corrected/0_raw\\OBE2\n",
      "../evaluation/references\\S208-2.csv\n",
      "Copied S208-2.csv to ../interviews_corrected/0_raw\\OBE2\n",
      "../evaluation/references\\S209-1.csv\n",
      "Copied S209-1.csv to ../interviews_corrected/0_raw\\OBE2\n",
      "../evaluation/references\\S209-2.csv\n",
      "Copied S209-2.csv to ../interviews_corrected/0_raw\\OBE2\n",
      "../evaluation/references\\S209-3.csv\n",
      "Copied S209-3.csv to ../interviews_corrected/0_raw\\OBE2\n",
      "../evaluation/references\\S209-4.csv\n",
      "Copied S209-4.csv to ../interviews_corrected/0_raw\\OBE2\n",
      "../evaluation/references\\S210-1.csv\n",
      "Copied S210-1.csv to ../interviews_corrected/0_raw\\OBE2\n",
      "../evaluation/references\\S210-2.csv\n",
      "Copied S210-2.csv to ../interviews_corrected/0_raw\\OBE2\n",
      "../evaluation/references\\S210-3.csv\n",
      "Copied S210-3.csv to ../interviews_corrected/0_raw\\OBE2\n",
      "../evaluation/references\\S211_1.csv\n",
      "Copied S211_1.csv to ../interviews_corrected/0_raw\\OBE2\n",
      "../evaluation/references\\S211_2.csv\n",
      "Copied S211_2.csv to ../interviews_corrected/0_raw\\OBE2\n",
      "../evaluation/references\\S211_3 (partially in french).csv\n",
      "Copied S211_3 (partially in french).csv to ../interviews_corrected/0_raw\\OBE2\n",
      "../evaluation/references\\S212_1.csv\n",
      "Copied S212_1.csv to ../interviews_corrected/0_raw\\OBE2\n",
      "../evaluation/references\\S212_2.csv\n",
      "Copied S212_2.csv to ../interviews_corrected/0_raw\\OBE2\n",
      "../evaluation/references\\S213_1.csv\n",
      "Copied S213_1.csv to ../interviews_corrected/0_raw\\OBE2\n",
      "../evaluation/references\\S213_2.csv\n",
      "Copied S213_2.csv to ../interviews_corrected/0_raw\\OBE2\n",
      "../evaluation/references\\S214_1.csv\n",
      "Copied S214_1.csv to ../interviews_corrected/0_raw\\OBE2\n",
      "../evaluation/references\\S214_2.csv\n",
      "Copied S214_2.csv to ../interviews_corrected/0_raw\\OBE2\n",
      "../evaluation/references\\S217.csv\n",
      "Copied S217.csv to ../interviews_corrected/0_raw\\OBE2\n",
      "../evaluation/references\\S218-1.csv\n",
      "Copied S218-1.csv to ../interviews_corrected/0_raw\\OBE2\n",
      "../evaluation/references\\S218-2.csv\n",
      "Copied S218-2.csv to ../interviews_corrected/0_raw\\OBE2\n",
      "../evaluation/references\\S219-1.csv\n",
      "Copied S219-1.csv to ../interviews_corrected/0_raw\\OBE2\n",
      "../evaluation/references\\S219-2.csv\n",
      "Copied S219-2.csv to ../interviews_corrected/0_raw\\OBE2\n",
      "../evaluation/references\\S220-1.csv\n",
      "Copied S220-1.csv to ../interviews_corrected/0_raw\\OBE2\n",
      "../evaluation/references\\S220-2.csv\n",
      "Copied S220-2.csv to ../interviews_corrected/0_raw\\OBE2\n",
      "../evaluation/references\\S222_c.csv\n",
      "Copied S222_c.csv to ../interviews_corrected/0_raw\\OBE2\n",
      "../evaluation/references\\S222_m.csv\n",
      "Copied S222_m.csv to ../interviews_corrected/0_raw\\OBE2\n",
      "../evaluation/references\\S223.csv\n",
      "Copied S223.csv to ../interviews_corrected/0_raw\\OBE2\n",
      "../evaluation/references\\S225.csv\n",
      "Copied S225.csv to ../interviews_corrected/0_raw\\OBE2\n",
      "../evaluation/references\\S225[1].csv\n",
      "Copied S225[1].csv to ../interviews_corrected/0_raw\\OBE2\n",
      "../evaluation/references\\S226.csv\n",
      "Copied S226.csv to ../interviews_corrected/0_raw\\OBE2\n",
      "../evaluation/references\\S226[1].csv\n",
      "Copied S226[1].csv to ../interviews_corrected/0_raw\\OBE2\n",
      "../evaluation/references\\S226[2].csv\n",
      "Copied S226[2].csv to ../interviews_corrected/0_raw\\OBE2\n",
      "../evaluation/references\\S227 control interview.csv\n",
      "Copied S227 control interview.csv to ../interviews_corrected/0_raw\\OBE2\n",
      "../evaluation/references\\S227 intervention.csv\n",
      "Copied S227 intervention.csv to ../interviews_corrected/0_raw\\OBE2\n",
      "../evaluation/references\\S228 control.csv\n",
      "Copied S228 control.csv to ../interviews_corrected/0_raw\\OBE2\n",
      "../evaluation/references\\S228 intervention.csv\n",
      "Copied S228 intervention.csv to ../interviews_corrected/0_raw\\OBE2\n",
      "../evaluation/references\\S229 control.csv\n",
      "Copied S229 control.csv to ../interviews_corrected/0_raw\\OBE2\n",
      "../evaluation/references\\S229 intervention.csv\n",
      "Copied S229 intervention.csv to ../interviews_corrected/0_raw\\OBE2\n",
      "../evaluation/references\\S230 control.csv\n",
      "Copied S230 control.csv to ../interviews_corrected/0_raw\\OBE2\n",
      "../evaluation/references\\S230 intervention.csv\n",
      "Copied S230 intervention.csv to ../interviews_corrected/0_raw\\OBE2\n",
      "../evaluation/references\\S301final.csv\n",
      "Copied S301final.csv to ../interviews_corrected/0_raw\\Compassion\n",
      "../evaluation/references\\S302con.csv\n",
      "Copied S302con.csv to ../interviews_corrected/0_raw\\Compassion\n",
      "../evaluation/references\\S302man.csv\n",
      "Copied S302man.csv to ../interviews_corrected/0_raw\\Compassion\n",
      "../evaluation/references\\S303con.csv\n",
      "Copied S303con.csv to ../interviews_corrected/0_raw\\Compassion\n",
      "../evaluation/references\\S303man.csv\n",
      "Copied S303man.csv to ../interviews_corrected/0_raw\\Compassion\n",
      "../evaluation/references\\S304.csv\n",
      "Copied S304.csv to ../interviews_corrected/0_raw\\Compassion\n",
      "../evaluation/references\\S305con.csv\n",
      "Copied S305con.csv to ../interviews_corrected/0_raw\\Compassion\n",
      "../evaluation/references\\S306.csv\n",
      "Copied S306.csv to ../interviews_corrected/0_raw\\Compassion\n",
      "../evaluation/references\\S307.csv\n",
      "Copied S307.csv to ../interviews_corrected/0_raw\\Compassion\n",
      "../evaluation/references\\S313.csv\n",
      "Copied S313.csv to ../interviews_corrected/0_raw\\Compassion\n"
     ]
    }
   ],
   "source": [
    "source_directory = \"../evaluation/references\"    \n",
    "destination_directory = \"../interviews_corrected/0_raw\"    \n",
    "\n",
    "organize_csv_files_by_dir(source_directory, destination_directory)"
   ]
  },
  {
   "cell_type": "markdown",
   "metadata": {},
   "source": [
    "### 1. Remove fillers words, repetitions"
   ]
  },
  {
   "cell_type": "code",
   "execution_count": 8,
   "metadata": {},
   "outputs": [],
   "source": [
    "source_directory = \"../interviews_corrected/0_raw\" \n",
    "destination_directory = \"../interviews_corrected/1_cleaned\"    \n",
    "\n",
    "# List of common filler words to remove\n",
    "filler_words = [\"uh\", \"huh\", \"um\", \"hmm\", \"Mm\"]\n",
    "\n",
    "process_files(source_directory, destination_directory, filler_words)"
   ]
  },
  {
   "cell_type": "markdown",
   "metadata": {},
   "source": [
    "### 2. If not done manually, you can try to predict the assignment of Speaker Role "
   ]
  },
  {
   "cell_type": "markdown",
   "metadata": {},
   "source": [
    "- Achieve 100 % accuracy, on this subset of interviews.\n",
    "\n",
    "- Work pretty well, on *normal* audio interviews, might be incorrect on \"0 : No interview (eg. Set-up)\" see **structured_data_manual.xlsx** (even if in this subset it  was correctly predicted)."
   ]
  },
  {
   "cell_type": "code",
   "execution_count": 9,
   "metadata": {},
   "outputs": [
    {
     "name": "stdout",
     "output_type": "stream",
     "text": [
      "File 'S209-2.csv': Couldn't accurately predict the most probable participant. Define the mosts probable interviewers and select by default the participant as a fallback.\n"
     ]
    }
   ],
   "source": [
    "source_directory = \"../interviews_corrected/1_cleaned\"    \n",
    "destination_directory = \"../interviews_corrected/2_cleaned_role\" \n",
    "\n",
    "process_files(source_directory, destination_directory, roles=True)"
   ]
  },
  {
   "cell_type": "markdown",
   "metadata": {},
   "source": [
    "### 3. Manual check to verify the role assignment & cut unrelated parts of the interview (Set-up, etc ...)"
   ]
  },
  {
   "cell_type": "markdown",
   "metadata": {},
   "source": [
    "### 4.Text Format "
   ]
  },
  {
   "cell_type": "code",
   "execution_count": 10,
   "metadata": {},
   "outputs": [],
   "source": [
    "source_directory = \"../interviews_corrected/3_manual_check\"    \n",
    "destination_directory = \"../interviews_corrected/4_text\" \n",
    "\n",
    "process_files(source_directory, destination_directory, text_format=True)"
   ]
  },
  {
   "cell_type": "markdown",
   "metadata": {},
   "source": [
    "### 5. Add conditions information if available"
   ]
  },
  {
   "cell_type": "code",
   "execution_count": 11,
   "metadata": {},
   "outputs": [],
   "source": [
    "source_directory = \"../interviews_corrected/3_manual_check\"  \n",
    "destination_directory = \"../interviews_corrected/5_conditions\"\n",
    "\n",
    "condition_info = pd.read_excel(\"../interviews_corrected/structured_data_manual.xlsx\")\n",
    "\n",
    "process_files(source_directory, destination_directory, conditions=condition_info)"
   ]
  }
 ],
 "metadata": {
  "kernelspec": {
   "display_name": "basic",
   "language": "python",
   "name": "python3"
  },
  "language_info": {
   "codemirror_mode": {
    "name": "ipython",
    "version": 3
   },
   "file_extension": ".py",
   "mimetype": "text/x-python",
   "name": "python",
   "nbconvert_exporter": "python",
   "pygments_lexer": "ipython3",
   "version": "3.10.15"
  }
 },
 "nbformat": 4,
 "nbformat_minor": 2
}
