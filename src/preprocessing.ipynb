{
 "cells": [
  {
   "cell_type": "code",
   "execution_count": null,
   "metadata": {},
   "outputs": [],
   "source": [
    "%load_ext autoreload\n",
    "%autoreload 2"
   ]
  },
  {
   "cell_type": "code",
   "execution_count": 6,
   "metadata": {},
   "outputs": [],
   "source": [
    "from utils.preprocessing_helpers import *\n",
    "\n",
    "import warnings\n",
    "warnings.filterwarnings(\"ignore\", category=UserWarning, module=\"openpyxl\")  "
   ]
  },
  {
   "cell_type": "markdown",
   "metadata": {},
   "source": [
    "# Data Cleaning and Preprocessing for Interview Transcripts"
   ]
  },
  {
   "cell_type": "markdown",
   "metadata": {},
   "source": [
    "This notebook provides a modular workflow to clean and preprocess CSV transcripts from raw interview data. Users can follow the steps that apply to their specific needs, or customize the workflow as required."
   ]
  },
  {
   "cell_type": "markdown",
   "metadata": {},
   "source": [
    "## **Sections**"
   ]
  },
  {
   "cell_type": "markdown",
   "metadata": {},
   "source": [
    "- **Organizing Files by Experiment:** Structure raw files by experiment to improve manageability. *(if mixed on another folder)*\n",
    "- **Removing Filler Words and Repetitions + Visual cleaning:** Clean transcripts by eliminating unnecessary content + visual cleaning\n",
    "- **Predicting Speaker Roles:** Automatically assign speaker roles if they are not manually labeled.\n",
    "- **Text Format + Visual Cleaning:** Prepare transcripts with consistent formatting and timestamps.\n",
    "- **Matching Translations:** Align translated transcripts with original data for bilingual analysis.\n",
    "- **Merging Files:** Combine split transcripts from the same interview.\n",
    "- **Adding Metadata:** Enrich transcripts with additional information such as conditions or utterance indices."
   ]
  },
  {
   "cell_type": "markdown",
   "metadata": {},
   "source": [
    "*The removal of filler words & repetitions, visual cleaning, and speaker role predictions have already been completed in the preprocessed folder.*"
   ]
  },
  {
   "cell_type": "markdown",
   "metadata": {},
   "source": [
    "# **Workflow Sections**"
   ]
  },
  {
   "cell_type": "markdown",
   "metadata": {},
   "source": [
    "## Organizing Files by Experiment *(if mixed on another folder)*\n",
    "Group raw files into folders based on experiments (e.g., OBE1, OBE2, Compassion). This ensures data is well-structured for downstream processing."
   ]
  },
  {
   "cell_type": "code",
   "execution_count": null,
   "metadata": {},
   "outputs": [],
   "source": [
    "source_directory = \"../evaluation/references\"    \n",
    "destination_directory = \"../interviews_corrected/0_raw\"    \n",
    "\n",
    "organize_csv_files_by_experiment(source_directory, destination_directory)"
   ]
  },
  {
   "cell_type": "markdown",
   "metadata": {},
   "source": [
    "## Removing \"Vocalized Fillers\", repetitions + Visual Cleaning \n",
    "\n",
    "Vocalized Fillers are natural sounds, pauses, or expressions that occur in speech, such as \"mmh,\" \"uh,\" or \"hmm.\" While these fillers can represent meaningful pauses or conversational intentions, they are often considered meaningless words that do not contribute additional information and can complicate text analysis by adding unnecessary noise.\n",
    "\n",
    "### Context-Based Decision:\n",
    "\n",
    "**Meditation Interviews:** Fillers were removed during transcription to enhance clarity and focus on meaningful content.\n",
    "\n",
    "**Grief Interviews:** Fillers were retained during transcription, as they provide insight into natural pauses, emotions, and the conversational flow, which are critical for the analysis."
   ]
  },
  {
   "cell_type": "code",
   "execution_count": null,
   "metadata": {},
   "outputs": [],
   "source": [
    "source_directory = \"../interviews_corrected/0_raw\" \n",
    "destination_directory = \"../interviews_corrected/1_cleaned\" \n",
    "\n",
    "# List of common Vocalized Fillers add more if needed or put None\n",
    "vocalized_fillers = [\"Mm-hmm\", \"uh\", \"huh\", \"um\", \"hmm\", \"Mm\",]\n",
    "#vocalized_fillers = None\n",
    "\n",
    "process_files(source_directory, destination_directory, vocalized_fillers)"
   ]
  },
  {
   "cell_type": "markdown",
   "metadata": {},
   "source": [
    "Further cleaning of filler words, including more nuanced removal of conversational fillers, stopword filtering, and lemmatization, is handled during post-transcription analysis in the analysis notebook. This approach allows for targeted preprocessing based on specific analysis goals, ensuring optimal results for tasks such as topic modeling, sentiment analysis, and text visualization.\n",
    "\n",
    "By balancing transcription cleaning and post-analysis processing, this workflow maintains flexibility to adapt to different analytical needs while ensuring that important conversational nuances are preserved or highlighted as required."
   ]
  },
  {
   "cell_type": "markdown",
   "metadata": {},
   "source": [
    "## Predicting Speaker Roles\n",
    "- Achieve 100 % accuracy, on this set of interviews.\n",
    "- Work pretty well, on *normal* audio interviews, might be incorrect on ``\"0 : No interview (eg. Set-up)\"`` (even if in this dataset it  was correctly predicted)."
   ]
  },
  {
   "cell_type": "code",
   "execution_count": null,
   "metadata": {},
   "outputs": [],
   "source": [
    "source_directory = \"../interviews_corrected/1_cleaned\"    \n",
    "destination_directory = \"../interviews_corrected/2_cleaned_role\" \n",
    "\n",
    "process_files(source_directory, destination_directory, roles=True)"
   ]
  },
  {
   "cell_type": "markdown",
   "metadata": {},
   "source": [
    "## Text Format + Visual Cleaning\n",
    "Converts transcripts into a standardized text format with optional timestamps for better readability and analysis."
   ]
  },
  {
   "cell_type": "code",
   "execution_count": 15,
   "metadata": {},
   "outputs": [],
   "source": [
    "source_directory = \"../Grief_submission/1_fr_merged_role\" \n",
    "destination_directory = \"../Grief_submission/2_fr_merged_role_text\"\n",
    "\n",
    "process_files(source_directory, destination_directory, text_format=True, time_stamps=True)"
   ]
  },
  {
   "cell_type": "markdown",
   "metadata": {},
   "source": [
    "## Matching Translations\n",
    "Align transcripts by largest overlap or closest proximity, using as reference the english translation to have as support the original transcript.\n",
    "- Translation *source* and Original *target*"
   ]
  },
  {
   "cell_type": "code",
   "execution_count": 16,
   "metadata": {},
   "outputs": [],
   "source": [
    "ref_folder = \"../results/Grief/french/fr_to_eng\"\n",
    "target_folder = \"../results/Grief/french/fr\"\n",
    "\n",
    "output_folder = \"../results/Grief/french/matched_transcripts\"\n",
    "\n",
    "match_transcripts_folder(ref_folder, target_folder, output_folder)"
   ]
  },
  {
   "cell_type": "markdown",
   "metadata": {},
   "source": [
    "## Merging Files\n",
    "\n",
    "Combines multiple transcripts from a single interview into a single file for easier processing and analysis."
   ]
  },
  {
   "cell_type": "code",
   "execution_count": null,
   "metadata": {},
   "outputs": [],
   "source": [
    "source_directory = \"../Grief_submission/0_fr_role\"\n",
    "destination_directory = \"../Grief_submission/1_fr_merged_role\"\n",
    "\n",
    "merge_csv_in_subdirectories(source_directory, destination_directory)"
   ]
  },
  {
   "cell_type": "markdown",
   "metadata": {},
   "source": [
    "## Adding Metadata (*if available*)\n",
    "Enriches transcripts with experiment-specific metadata, such as experimental conditions or utterance indices."
   ]
  },
  {
   "cell_type": "code",
   "execution_count": null,
   "metadata": {},
   "outputs": [],
   "source": [
    "source_directory = \"../interviews_corrected/3_manual_check\"  \n",
    "destination_directory = \"../interviews_corrected/5_conditions\"\n",
    "condition_info = pd.read_excel(\"../interviews_corrected/structured_data_manual.xlsx\")\n",
    "\n",
    "process_files(source_directory, destination_directory, conditions=condition_info)"
   ]
  },
  {
   "cell_type": "code",
   "execution_count": 14,
   "metadata": {},
   "outputs": [],
   "source": [
    "source_directory = \"../Dataset/meditations_transcripts/transcripts_per_interview/csv\"\n",
    "destination_directory = \"../Dataset/meditations_transcripts/transcripts_per_interview/csv2\"\n",
    "\n",
    "process_files(source_directory, destination_directory, turn=True)"
   ]
  },
  {
   "cell_type": "markdown",
   "metadata": {},
   "source": [
    "# Workflow used for the Grief Transcriptions"
   ]
  },
  {
   "cell_type": "markdown",
   "metadata": {},
   "source": [
    "## For English audio files"
   ]
  },
  {
   "cell_type": "code",
   "execution_count": null,
   "metadata": {},
   "outputs": [],
   "source": [
    "source_directory = \"../results/Grief/eng\"\n",
    "destination_directory = \"../Grief_submission/1_eng_role\"\n",
    "process_files(source_directory, destination_directory, roles=True)\n",
    "\n",
    "source_directory = \"../Grief_submission/1_eng_role\"\n",
    "destination_directory = \"../Grief_submission/2_eng_merged_role_text\"\n",
    "merge_csv_in_subdirectories(source_directory, destination_directory)\n",
    "\n",
    "source_directory = \"../Grief_submission/2_eng_merged_role_text\"\n",
    "destination_directory = \"../Grief_submission/3_eng_merged_role_text\"\n",
    "process_files(source_directory, destination_directory, text_format=True, time_stamps=True)"
   ]
  },
  {
   "cell_type": "markdown",
   "metadata": {},
   "source": [
    "## For French audio files"
   ]
  },
  {
   "cell_type": "code",
   "execution_count": null,
   "metadata": {},
   "outputs": [],
   "source": [
    "ref_folder = \"../results/Grief/fr/fr_to_eng\"\n",
    "target_folder = \"../results/Grief/fr/fr\"\n",
    "output_folder = \"../results/Grief/fr/matched_transcripts\"\n",
    "match_transcripts_folder(ref_folder, target_folder, output_folder)\n",
    "\n",
    "source_directory = \"../results/Grief/fr/matched_transcripts\"\n",
    "destination_directory = \"../Grief_submission/1_fr_role\"\n",
    "process_files(source_directory, destination_directory, roles=True)\n",
    "\n",
    "source_directory = \"../Grief_submission/1_fr_role\"\n",
    "destination_directory = \"../Grief_submission/2_fr_merged_role\"\n",
    "merge_csv_in_subdirectories(source_directory, destination_directory)\n",
    "\n",
    "source_directory = \"../Grief_submission/2_fr_merged_role\"\n",
    "destination_directory = \"../Grief_submission/3_fr_merged_role_text\"\n",
    "process_files(source_directory, destination_directory, text_format=True, time_stamps=True)"
   ]
  }
 ],
 "metadata": {
  "kernelspec": {
   "display_name": "basic",
   "language": "python",
   "name": "python3"
  },
  "language_info": {
   "codemirror_mode": {
    "name": "ipython",
    "version": 3
   },
   "file_extension": ".py",
   "mimetype": "text/x-python",
   "name": "python",
   "nbconvert_exporter": "python",
   "pygments_lexer": "ipython3",
   "version": "3.10.15"
  }
 },
 "nbformat": 4,
 "nbformat_minor": 2
}
