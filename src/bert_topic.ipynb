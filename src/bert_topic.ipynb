{
 "cells": [
  {
   "cell_type": "code",
   "execution_count": 1,
   "metadata": {},
   "outputs": [],
   "source": [
    "%load_ext autoreload\n",
    "%autoreload 2"
   ]
  },
  {
   "cell_type": "code",
   "execution_count": 2,
   "metadata": {},
   "outputs": [],
   "source": [
    "from utils.analysis_helpers import *\n",
    "from bertopic import BERTopic"
   ]
  },
  {
   "cell_type": "markdown",
   "metadata": {},
   "source": [
    "# Define the Documents"
   ]
  },
  {
   "cell_type": "code",
   "execution_count": 3,
   "metadata": {},
   "outputs": [
    {
     "name": "stdout",
     "output_type": "stream",
     "text": [
      "Unique conditions before filtering: ['1' 'C' 'I' '0']\n",
      "Number of interviews before filtering: 82\n",
      "Unique conditions after filtering: ['1' 'C' 'I']\n",
      "Number of interviews (File Name) after filtering: 75\n"
     ]
    }
   ],
   "source": [
    "df_all = pd.read_csv(\"../Dataset/meditation_interviews/transcripts_merged.csv\")\n",
    "\n",
    "print(f\"Unique conditions before filtering: {df_all['Condition'].unique()}\")\n",
    "print(f\"Number of interviews before filtering: {df_all['File Name'].nunique()}\")\n",
    "# *0*: No \"real\" interview (e.g., setup phase, small talk). We filter these out.\n",
    "df_all = df_all[df_all[\"Condition\"] != '0']\n",
    "print(f\"Unique conditions after filtering: {df_all['Condition'].unique()}\")\n",
    "print(f\"Number of interviews (File Name) after filtering: {df_all['File Name'].nunique()}\")"
   ]
  },
  {
   "cell_type": "code",
   "execution_count": 4,
   "metadata": {},
   "outputs": [],
   "source": [
    "# Preoprocessing\n",
    "df = df_all.copy()\n",
    "# Focus only on the participant's or interviewer's speech or both\n",
    "df = df[df[\"Speaker\"] == \"Participant\"] # Interviewer\n",
    "\n",
    "# Focus only on some set of experiment or all\n",
    "#df = df[df[\"Experiment\"] != \"Compassion\"]\n",
    "\n",
    "# Removal of stops-words & punctuation, Lowercased + lemmatize\n",
    "# Plus Customized Stop-word Removal\n",
    "extra_stopwords = [\n",
    "    # Filler Words: Common conversational placeholders without thematic value\n",
    "    \"yeah\", \"okay\", \"yes\", \"mean\", \"oh\", \"ah\", \"like\", \"kind\",\"kinda\", \"course\", \"way\",\n",
    "    # Vague/Ambiguous Words: Frequent but thematically irrelevant in conversations\n",
    "    \"think\", \"know\", \"really\", \"bit\", \"feel\", \"thing\", \"sort\", \"maybe\", \"little\", \"actually\",\n",
    "    \"sure\", \"exactly\", \"tell\", \"ask\", \"people\", \"think\",\n",
    "    # Broad terms or context-specific words overshadowing subtler themes\n",
    "    \"question\", \"sorry\", \"time\", \"first\", \"second\", \"later\", \"experience\", \"end\", \"meditation\" #,\"body\"\n",
    "]\n",
    "df['preprocessed_content'] = df['Content'].apply(lambda x: preprocess_text(x, extra_stopwords=extra_stopwords, retain_stopwords=[\"yourself\", \"myself\"]))\n",
    "\n",
    "# Remove rows with empty content or content that's only punctuation after preprocessing\n",
    "df = df[df['preprocessed_content'].str.strip().str.len() > 0]"
   ]
  },
  {
   "cell_type": "code",
   "execution_count": 5,
   "metadata": {},
   "outputs": [
    {
     "data": {
      "text/html": [
       "<div>\n",
       "<style scoped>\n",
       "    .dataframe tbody tr th:only-of-type {\n",
       "        vertical-align: middle;\n",
       "    }\n",
       "\n",
       "    .dataframe tbody tr th {\n",
       "        vertical-align: top;\n",
       "    }\n",
       "\n",
       "    .dataframe thead th {\n",
       "        text-align: right;\n",
       "    }\n",
       "</style>\n",
       "<table border=\"1\" class=\"dataframe\">\n",
       "  <thead>\n",
       "    <tr style=\"text-align: right;\">\n",
       "      <th></th>\n",
       "      <th>File Name</th>\n",
       "      <th>turn_index</th>\n",
       "      <th>Content</th>\n",
       "      <th>preprocessed_content</th>\n",
       "      <th>Experiment</th>\n",
       "      <th>Condition</th>\n",
       "      <th>Id</th>\n",
       "      <th>Speaker</th>\n",
       "    </tr>\n",
       "  </thead>\n",
       "  <tbody>\n",
       "    <tr>\n",
       "      <th>0</th>\n",
       "      <td>ID 05</td>\n",
       "      <td>1</td>\n",
       "      <td>So, that was very, let's say, unexpected and s...</td>\n",
       "      <td>let unexpected surprising moment realize disco...</td>\n",
       "      <td>OBE1</td>\n",
       "      <td>1</td>\n",
       "      <td>5</td>\n",
       "      <td>Participant</td>\n",
       "    </tr>\n",
       "    <tr>\n",
       "      <th>1</th>\n",
       "      <td>ID 05</td>\n",
       "      <td>3</td>\n",
       "      <td>It was a little bit like, okay, well, so it's ...</td>\n",
       "      <td>watch outside special lot emotion explain moment</td>\n",
       "      <td>OBE1</td>\n",
       "      <td>1</td>\n",
       "      <td>5</td>\n",
       "      <td>Participant</td>\n",
       "    </tr>\n",
       "  </tbody>\n",
       "</table>\n",
       "</div>"
      ],
      "text/plain": [
       "  File Name  turn_index                                            Content  \\\n",
       "0     ID 05           1  So, that was very, let's say, unexpected and s...   \n",
       "1     ID 05           3  It was a little bit like, okay, well, so it's ...   \n",
       "\n",
       "                                preprocessed_content Experiment Condition  Id  \\\n",
       "0  let unexpected surprising moment realize disco...       OBE1         1   5   \n",
       "1   watch outside special lot emotion explain moment       OBE1         1   5   \n",
       "\n",
       "       Speaker  \n",
       "0  Participant  \n",
       "1  Participant  "
      ]
     },
     "execution_count": 5,
     "metadata": {},
     "output_type": "execute_result"
    }
   ],
   "source": [
    "# Split the text into turns by interview (File Name)\n",
    "df = df.groupby(['File Name','turn_index']).agg({ \n",
    "    'Content': ' '.join,  # Combine raw text\n",
    "    'preprocessed_content': ' '.join,  # Combine preprocessed text\n",
    "    'Experiment': 'first',   # Keep the first \n",
    "    'Condition': 'first',   # Keep the first\n",
    "    'Id': 'first',   # Keep the first\n",
    "    'Speaker': 'first',   # Keep the first\n",
    "}).reset_index()\n",
    "df.head(2)"
   ]
  },
  {
   "cell_type": "code",
   "execution_count": 6,
   "metadata": {},
   "outputs": [
    {
     "name": "stdout",
     "output_type": "stream",
     "text": [
      "668\n"
     ]
    }
   ],
   "source": [
    "# Can use as documents before the embedding the preprocessed content or original content\n",
    "df[\"Index\"] = df.index\n",
    "docs = list(df.preprocessed_content)\n",
    "#docs = list(df.Content)\n",
    "print(len(docs))"
   ]
  },
  {
   "cell_type": "markdown",
   "metadata": {},
   "source": [
    "# Define the model"
   ]
  },
  {
   "cell_type": "code",
   "execution_count": 7,
   "metadata": {},
   "outputs": [
    {
     "data": {
      "application/vnd.jupyter.widget-view+json": {
       "model_id": "f921e9e0aebb4ffda312a084946433e3",
       "version_major": 2,
       "version_minor": 0
      },
      "text/plain": [
       "Batches:   0%|          | 0/21 [00:00<?, ?it/s]"
      ]
     },
     "metadata": {},
     "output_type": "display_data"
    }
   ],
   "source": [
    "from sentence_transformers import SentenceTransformer\n",
    "\n",
    "# Pre-calculate embeddings\n",
    "embedding_model = SentenceTransformer(\"all-mpnet-base-v2\") # Better but slower: all-mpnet-base-v2 || Trade-off: all-MiniLM-L6-v2\n",
    "embeddings = embedding_model.encode(docs, show_progress_bar=True)"
   ]
  },
  {
   "cell_type": "code",
   "execution_count": 8,
   "metadata": {},
   "outputs": [],
   "source": [
    "# Fine-tune the numbers of topics generated\n",
    "# By increasing this value you reduce the number of topics\n",
    "# Adapt by respect the total number of documents (in our case number of turns)\n",
    "min_cluster_size = 8"
   ]
  },
  {
   "cell_type": "code",
   "execution_count": 9,
   "metadata": {},
   "outputs": [],
   "source": [
    "from umap import UMAP\n",
    "from hdbscan import HDBSCAN\n",
    "from sklearn.feature_extraction.text import CountVectorizer\n",
    "from bertopic.representation import KeyBERTInspired, MaximalMarginalRelevance\n",
    "\n",
    "# Dimensionality reduction model\n",
    "umap_model = UMAP(n_neighbors=15, n_components=8, min_dist=0.0, metric='cosine', random_state=42)\n",
    "\n",
    "# Clustering model\n",
    "hdbscan_model = HDBSCAN(min_cluster_size=min_cluster_size, metric='euclidean', cluster_selection_method='eom')\n",
    "\n",
    "# Representation model\n",
    "#representation_model = [KeyBERTInspired(), MaximalMarginalRelevance(diversity=.5)]\n",
    "\n",
    "# Vectorizer model used in the case we perform clustering with original content\n",
    "#stops_words = preprocess_text(\"sample\",return_stopwords=True, extra_stopwords=extra_stopwords, retain_stopwords=[\"yourself\", \"myself\"])\n",
    "#vectorizer_model = CountVectorizer(stop_words=stops_words)\n",
    "\n",
    "topic_model = BERTopic(                     \n",
    "# Pipeline models\n",
    "embedding_model=embedding_model,\n",
    "umap_model=umap_model,\n",
    "hdbscan_model=hdbscan_model,\n",
    "#vectorizer_model=vectorizer_model,\n",
    "#representation_model=representation_model,\n",
    "\n",
    "# Hyperparameters\n",
    "verbose=True)"
   ]
  },
  {
   "cell_type": "code",
   "execution_count": 10,
   "metadata": {},
   "outputs": [
    {
     "name": "stderr",
     "output_type": "stream",
     "text": [
      "2025-01-22 14:45:55,029 - BERTopic - Dimensionality - Fitting the dimensionality reduction algorithm\n",
      "2025-01-22 14:46:20,357 - BERTopic - Dimensionality - Completed ✓\n",
      "2025-01-22 14:46:20,361 - BERTopic - Cluster - Start clustering the reduced embeddings\n",
      "2025-01-22 14:46:20,408 - BERTopic - Cluster - Completed ✓\n",
      "2025-01-22 14:46:20,416 - BERTopic - Representation - Extracting topics from clusters using representation models.\n",
      "2025-01-22 14:46:20,480 - BERTopic - Representation - Completed ✓\n"
     ]
    },
    {
     "data": {
      "text/plain": [
       "20"
      ]
     },
     "execution_count": 10,
     "metadata": {},
     "output_type": "execute_result"
    }
   ],
   "source": [
    "topics, ini_probs = topic_model.fit_transform(docs, embeddings=embeddings)\n",
    "num_topics = len(topic_model.get_topics()) \n",
    "num_topics"
   ]
  },
  {
   "cell_type": "code",
   "execution_count": 11,
   "metadata": {},
   "outputs": [
    {
     "data": {
      "text/html": [
       "<div>\n",
       "<style scoped>\n",
       "    .dataframe tbody tr th:only-of-type {\n",
       "        vertical-align: middle;\n",
       "    }\n",
       "\n",
       "    .dataframe tbody tr th {\n",
       "        vertical-align: top;\n",
       "    }\n",
       "\n",
       "    .dataframe thead th {\n",
       "        text-align: right;\n",
       "    }\n",
       "</style>\n",
       "<table border=\"1\" class=\"dataframe\">\n",
       "  <thead>\n",
       "    <tr style=\"text-align: right;\">\n",
       "      <th></th>\n",
       "      <th>Topic</th>\n",
       "      <th>Count</th>\n",
       "      <th>Name</th>\n",
       "      <th>Representation</th>\n",
       "      <th>Representative_Docs</th>\n",
       "    </tr>\n",
       "  </thead>\n",
       "  <tbody>\n",
       "    <tr>\n",
       "      <th>0</th>\n",
       "      <td>-1</td>\n",
       "      <td>206</td>\n",
       "      <td>-1_myself_look_body_real</td>\n",
       "      <td>[myself, look, body, real, point, different, f...</td>\n",
       "      <td>[calm relax big natural comfortable environmen...</td>\n",
       "    </tr>\n",
       "    <tr>\n",
       "      <th>1</th>\n",
       "      <td>0</td>\n",
       "      <td>47</td>\n",
       "      <td>0_interesting_easy_nice_fine</td>\n",
       "      <td>[interesting, easy, nice, fine, fun, absolutel...</td>\n",
       "      <td>[interesting, easy nice, nice interesting]</td>\n",
       "    </tr>\n",
       "    <tr>\n",
       "      <th>2</th>\n",
       "      <td>1</td>\n",
       "      <td>46</td>\n",
       "      <td>1_focus_leg_eye_distract</td>\n",
       "      <td>[focus, leg, eye, distract, try, easy, concent...</td>\n",
       "      <td>[focus myself focus instruction eye closed hea...</td>\n",
       "    </tr>\n",
       "    <tr>\n",
       "      <th>3</th>\n",
       "      <td>2</td>\n",
       "      <td>46</td>\n",
       "      <td>2_relax_fall_sleep_asleep</td>\n",
       "      <td>[relax, fall, sleep, asleep, calm, relaxed, sl...</td>\n",
       "      <td>[calm want sleep, relaxed afraid fall sleep go...</td>\n",
       "    </tr>\n",
       "    <tr>\n",
       "      <th>4</th>\n",
       "      <td>3</td>\n",
       "      <td>44</td>\n",
       "      <td>3_reality_body_different_yourself</td>\n",
       "      <td>[reality, body, different, yourself, room, out...</td>\n",
       "      <td>[understand differently today want life illusi...</td>\n",
       "    </tr>\n",
       "    <tr>\n",
       "      <th>5</th>\n",
       "      <td>4</td>\n",
       "      <td>37</td>\n",
       "      <td>4_body_heavy_light_come</td>\n",
       "      <td>[body, heavy, light, come, half, phrase, outsi...</td>\n",
       "      <td>[body, body, body]</td>\n",
       "    </tr>\n",
       "    <tr>\n",
       "      <th>6</th>\n",
       "      <td>5</td>\n",
       "      <td>29</td>\n",
       "      <td>5_color_yellow_normal_difference</td>\n",
       "      <td>[color, yellow, normal, difference, change, di...</td>\n",
       "      <td>[yellow color blue color, notice change color,...</td>\n",
       "    </tr>\n",
       "    <tr>\n",
       "      <th>7</th>\n",
       "      <td>6</td>\n",
       "      <td>23</td>\n",
       "      <td>6_touch_delay_scene_image</td>\n",
       "      <td>[touch, delay, scene, image, catch, body, touc...</td>\n",
       "      <td>[touch image touch touch difference touch imag...</td>\n",
       "    </tr>\n",
       "    <tr>\n",
       "      <th>8</th>\n",
       "      <td>7</td>\n",
       "      <td>23</td>\n",
       "      <td>7_virtual_body_vr_myself</td>\n",
       "      <td>[virtual, body, vr, myself, hologram, actual, ...</td>\n",
       "      <td>[virtual body mind virtual body look myself ob...</td>\n",
       "    </tr>\n",
       "    <tr>\n",
       "      <th>9</th>\n",
       "      <td>8</td>\n",
       "      <td>23</td>\n",
       "      <td>8_forest_rock_tree_adventure</td>\n",
       "      <td>[forest, rock, tree, adventure, indonesia, riv...</td>\n",
       "      <td>[nice forest love forest good surprise calm re...</td>\n",
       "    </tr>\n",
       "    <tr>\n",
       "      <th>10</th>\n",
       "      <td>9</td>\n",
       "      <td>22</td>\n",
       "      <td>9_eye_open_close_condition</td>\n",
       "      <td>[eye, open, close, condition, 30, view, easy, ...</td>\n",
       "      <td>[eye close, close close normally close eye ope...</td>\n",
       "    </tr>\n",
       "    <tr>\n",
       "      <th>11</th>\n",
       "      <td>10</td>\n",
       "      <td>22</td>\n",
       "      <td>10_avatar_blink_myself_identify</td>\n",
       "      <td>[avatar, blink, myself, identify, recognize, s...</td>\n",
       "      <td>[refer avatar avatar myself, avatar blink, ava...</td>\n",
       "    </tr>\n",
       "    <tr>\n",
       "      <th>12</th>\n",
       "      <td>11</td>\n",
       "      <td>19</td>\n",
       "      <td>11_strange_weird_funny_creepy</td>\n",
       "      <td>[strange, weird, funny, creepy, accept, unders...</td>\n",
       "      <td>[strange accept strange, strange, strange]</td>\n",
       "    </tr>\n",
       "    <tr>\n",
       "      <th>13</th>\n",
       "      <td>12</td>\n",
       "      <td>15</td>\n",
       "      <td>12_want_mental_good_complicated</td>\n",
       "      <td>[want, mental, good, complicated, urgent, unne...</td>\n",
       "      <td>[good good come mental mental, want want, want]</td>\n",
       "    </tr>\n",
       "    <tr>\n",
       "      <th>14</th>\n",
       "      <td>13</td>\n",
       "      <td>14</td>\n",
       "      <td>13_voice_platform_rock_space</td>\n",
       "      <td>[voice, platform, rock, space, cool, sensation...</td>\n",
       "      <td>[cool voice let thought come body leave though...</td>\n",
       "    </tr>\n",
       "    <tr>\n",
       "      <th>15</th>\n",
       "      <td>14</td>\n",
       "      <td>13</td>\n",
       "      <td>14_notice_change_damn_small</td>\n",
       "      <td>[notice, change, damn, small, pay, check, subt...</td>\n",
       "      <td>[change change small short, notice notice thou...</td>\n",
       "    </tr>\n",
       "    <tr>\n",
       "      <th>16</th>\n",
       "      <td>15</td>\n",
       "      <td>12</td>\n",
       "      <td>15_strange_scary_feeling_look</td>\n",
       "      <td>[strange, scary, feeling, look, fully, discomf...</td>\n",
       "      <td>[strange body different separate lot word feel...</td>\n",
       "    </tr>\n",
       "    <tr>\n",
       "      <th>17</th>\n",
       "      <td>16</td>\n",
       "      <td>10</td>\n",
       "      <td>16_100_10_somewhat_percentage</td>\n",
       "      <td>[100, 10, somewhat, percentage, number, total,...</td>\n",
       "      <td>[help 100 term percentage 75, 100, 100]</td>\n",
       "    </tr>\n",
       "    <tr>\n",
       "      <th>18</th>\n",
       "      <td>17</td>\n",
       "      <td>9</td>\n",
       "      <td>17_room_center_mountain_especially</td>\n",
       "      <td>[room, center, mountain, especially, different...</td>\n",
       "      <td>[center square cube bother, room especially es...</td>\n",
       "    </tr>\n",
       "    <tr>\n",
       "      <th>19</th>\n",
       "      <td>18</td>\n",
       "      <td>8</td>\n",
       "      <td>18_quickly_happen_movement_constantly</td>\n",
       "      <td>[quickly, happen, movement, constantly, asynch...</td>\n",
       "      <td>[surprising use quickly enjoy, let happen quic...</td>\n",
       "    </tr>\n",
       "  </tbody>\n",
       "</table>\n",
       "</div>"
      ],
      "text/plain": [
       "    Topic  Count                                   Name  \\\n",
       "0      -1    206               -1_myself_look_body_real   \n",
       "1       0     47           0_interesting_easy_nice_fine   \n",
       "2       1     46               1_focus_leg_eye_distract   \n",
       "3       2     46              2_relax_fall_sleep_asleep   \n",
       "4       3     44      3_reality_body_different_yourself   \n",
       "5       4     37                4_body_heavy_light_come   \n",
       "6       5     29       5_color_yellow_normal_difference   \n",
       "7       6     23              6_touch_delay_scene_image   \n",
       "8       7     23               7_virtual_body_vr_myself   \n",
       "9       8     23           8_forest_rock_tree_adventure   \n",
       "10      9     22             9_eye_open_close_condition   \n",
       "11     10     22        10_avatar_blink_myself_identify   \n",
       "12     11     19          11_strange_weird_funny_creepy   \n",
       "13     12     15        12_want_mental_good_complicated   \n",
       "14     13     14           13_voice_platform_rock_space   \n",
       "15     14     13            14_notice_change_damn_small   \n",
       "16     15     12          15_strange_scary_feeling_look   \n",
       "17     16     10          16_100_10_somewhat_percentage   \n",
       "18     17      9     17_room_center_mountain_especially   \n",
       "19     18      8  18_quickly_happen_movement_constantly   \n",
       "\n",
       "                                       Representation  \\\n",
       "0   [myself, look, body, real, point, different, f...   \n",
       "1   [interesting, easy, nice, fine, fun, absolutel...   \n",
       "2   [focus, leg, eye, distract, try, easy, concent...   \n",
       "3   [relax, fall, sleep, asleep, calm, relaxed, sl...   \n",
       "4   [reality, body, different, yourself, room, out...   \n",
       "5   [body, heavy, light, come, half, phrase, outsi...   \n",
       "6   [color, yellow, normal, difference, change, di...   \n",
       "7   [touch, delay, scene, image, catch, body, touc...   \n",
       "8   [virtual, body, vr, myself, hologram, actual, ...   \n",
       "9   [forest, rock, tree, adventure, indonesia, riv...   \n",
       "10  [eye, open, close, condition, 30, view, easy, ...   \n",
       "11  [avatar, blink, myself, identify, recognize, s...   \n",
       "12  [strange, weird, funny, creepy, accept, unders...   \n",
       "13  [want, mental, good, complicated, urgent, unne...   \n",
       "14  [voice, platform, rock, space, cool, sensation...   \n",
       "15  [notice, change, damn, small, pay, check, subt...   \n",
       "16  [strange, scary, feeling, look, fully, discomf...   \n",
       "17  [100, 10, somewhat, percentage, number, total,...   \n",
       "18  [room, center, mountain, especially, different...   \n",
       "19  [quickly, happen, movement, constantly, asynch...   \n",
       "\n",
       "                                  Representative_Docs  \n",
       "0   [calm relax big natural comfortable environmen...  \n",
       "1          [interesting, easy nice, nice interesting]  \n",
       "2   [focus myself focus instruction eye closed hea...  \n",
       "3   [calm want sleep, relaxed afraid fall sleep go...  \n",
       "4   [understand differently today want life illusi...  \n",
       "5                                  [body, body, body]  \n",
       "6   [yellow color blue color, notice change color,...  \n",
       "7   [touch image touch touch difference touch imag...  \n",
       "8   [virtual body mind virtual body look myself ob...  \n",
       "9   [nice forest love forest good surprise calm re...  \n",
       "10  [eye close, close close normally close eye ope...  \n",
       "11  [refer avatar avatar myself, avatar blink, ava...  \n",
       "12         [strange accept strange, strange, strange]  \n",
       "13    [good good come mental mental, want want, want]  \n",
       "14  [cool voice let thought come body leave though...  \n",
       "15  [change change small short, notice notice thou...  \n",
       "16  [strange body different separate lot word feel...  \n",
       "17            [help 100 term percentage 75, 100, 100]  \n",
       "18  [center square cube bother, room especially es...  \n",
       "19  [surprising use quickly enjoy, let happen quic...  "
      ]
     },
     "execution_count": 11,
     "metadata": {},
     "output_type": "execute_result"
    }
   ],
   "source": [
    "os.makedirs(\"outputs/topics\", exist_ok=True)\n",
    "topic_model.get_topic_info().to_csv(\"outputs/topics/topic_names_info.csv\",index=False)\n",
    "topic_model.get_topic_info()"
   ]
  },
  {
   "cell_type": "code",
   "execution_count": 12,
   "metadata": {},
   "outputs": [
    {
     "data": {
      "application/vnd.plotly.v1+json": {
       "config": {
        "plotlyServerURL": "https://plot.ly"
       },
       "data": [
        {
         "marker": {
          "color": "#D55E00"
         },
         "orientation": "h",
         "type": "bar",
         "x": [
          0.1806781911325633,
          0.18455576233670096,
          0.2082725616881026,
          0.24654365923513602,
          0.2803821094456347
         ],
         "xaxis": "x",
         "y": [
          "fun  ",
          "fine  ",
          "nice  ",
          "easy  ",
          "interesting  "
         ],
         "yaxis": "y"
        },
        {
         "marker": {
          "color": "#0072B2"
         },
         "orientation": "h",
         "type": "bar",
         "x": [
          0.04157292675703238,
          0.04687644895766779,
          0.05078005756333089,
          0.06054192005578088,
          0.09774183481832728
         ],
         "xaxis": "x2",
         "y": [
          "try  ",
          "distract  ",
          "eye  ",
          "leg  ",
          "focus  "
         ],
         "yaxis": "y2"
        },
        {
         "marker": {
          "color": "#CC79A7"
         },
         "orientation": "h",
         "type": "bar",
         "x": [
          0.13122976992377663,
          0.14014845696813083,
          0.1480893432633952,
          0.1526256943864109,
          0.1565527374140179
         ],
         "xaxis": "x3",
         "y": [
          "calm  ",
          "asleep  ",
          "sleep  ",
          "fall  ",
          "relax  "
         ],
         "yaxis": "y3"
        },
        {
         "marker": {
          "color": "#E69F00"
         },
         "orientation": "h",
         "type": "bar",
         "x": [
          0.023830967354262753,
          0.02447249848062646,
          0.028368008814133625,
          0.030551485238913177,
          0.03603277165088155
         ],
         "xaxis": "x4",
         "y": [
          "room  ",
          "yourself  ",
          "different  ",
          "body  ",
          "reality  "
         ],
         "yaxis": "y4"
        },
        {
         "marker": {
          "color": "#56B4E9"
         },
         "orientation": "h",
         "type": "bar",
         "x": [
          0.07691982342444899,
          0.09000469182743577,
          0.13118975409007322,
          0.1567187161253315,
          0.25568271407259
         ],
         "xaxis": "x5",
         "y": [
          "half  ",
          "come  ",
          "light  ",
          "heavy  ",
          "body  "
         ],
         "yaxis": "y5"
        },
        {
         "marker": {
          "color": "#009E73"
         },
         "orientation": "h",
         "type": "bar",
         "x": [
          0.10190853816590308,
          0.1135387457300399,
          0.1158410554598168,
          0.13599433741160677,
          0.3651915243346428
         ],
         "xaxis": "x6",
         "y": [
          "change  ",
          "difference  ",
          "normal  ",
          "yellow  ",
          "color  "
         ],
         "yaxis": "y6"
        },
        {
         "marker": {
          "color": "#F0E442"
         },
         "orientation": "h",
         "type": "bar",
         "x": [
          0.06315841887280614,
          0.07632840050461652,
          0.07691759583839448,
          0.12087050774604846,
          0.2540248102884124
         ],
         "xaxis": "x7",
         "y": [
          "catch  ",
          "image  ",
          "scene  ",
          "delay  ",
          "touch  "
         ],
         "yaxis": "y7"
        },
        {
         "marker": {
          "color": "#D55E00"
         },
         "orientation": "h",
         "type": "bar",
         "x": [
          0.06002692336410228,
          0.061089835302982294,
          0.06458823185624397,
          0.06684059034717905,
          0.0717279256712652
         ],
         "xaxis": "x8",
         "y": [
          "hologram  ",
          "myself  ",
          "vr  ",
          "body  ",
          "virtual  "
         ],
         "yaxis": "y8"
        },
        {
         "marker": {
          "color": "#0072B2"
         },
         "orientation": "h",
         "type": "bar",
         "x": [
          0.08524459476594598,
          0.08524459476594598,
          0.0866460629528685,
          0.11233829011799189,
          0.3070991183568308
         ],
         "xaxis": "x9",
         "y": [
          "indonesia  ",
          "adventure  ",
          "tree  ",
          "rock  ",
          "forest  "
         ],
         "yaxis": "y9"
        },
        {
         "marker": {
          "color": "#CC79A7"
         },
         "orientation": "h",
         "type": "bar",
         "x": [
          0.09246184254103283,
          0.10459485824539465,
          0.21423603057013715,
          0.23251091938564297,
          0.29300607365905285
         ],
         "xaxis": "x10",
         "y": [
          "30  ",
          "condition  ",
          "close  ",
          "open  ",
          "eye  "
         ],
         "yaxis": "y10"
        },
        {
         "marker": {
          "color": "#E69F00"
         },
         "orientation": "h",
         "type": "bar",
         "x": [
          0.16070702291940636,
          0.16334913507507995,
          0.20113788741689426,
          0.24047330867755784,
          0.376768285298814
         ],
         "xaxis": "x11",
         "y": [
          "recognize  ",
          "identify  ",
          "myself  ",
          "blink  ",
          "avatar  "
         ],
         "yaxis": "y11"
        },
        {
         "marker": {
          "color": "#56B4E9"
         },
         "orientation": "h",
         "type": "bar",
         "x": [
          0.15530519390307934,
          0.15530519390307934,
          0.23421246998665612,
          0.24830085228788443,
          0.40056011640997613
         ],
         "xaxis": "x12",
         "y": [
          "accept  ",
          "creepy  ",
          "funny  ",
          "weird  ",
          "strange  "
         ],
         "yaxis": "y12"
        },
        {
         "marker": {
          "color": "#009E73"
         },
         "orientation": "h",
         "type": "bar",
         "x": [
          0.19279265450037436,
          0.19279265450037436,
          0.23117665557837516,
          0.3103317014020872,
          0.4086976927832337
         ],
         "xaxis": "x13",
         "y": [
          "urgent  ",
          "complicated  ",
          "good  ",
          "mental  ",
          "want  "
         ],
         "yaxis": "y13"
        },
        {
         "marker": {
          "color": "#F0E442"
         },
         "orientation": "h",
         "type": "bar",
         "x": [
          0.13095174075020932,
          0.13546997131735244,
          0.16422334784197967,
          0.17405981127360665,
          0.23407774765868522
         ],
         "xaxis": "x14",
         "y": [
          "cool  ",
          "space  ",
          "rock  ",
          "platform  ",
          "voice  "
         ],
         "yaxis": "y14"
        },
        {
         "marker": {
          "color": "#D55E00"
         },
         "orientation": "h",
         "type": "bar",
         "x": [
          0.17007054767747923,
          0.22788240323026002,
          0.2649494161644267,
          0.3984532032792968,
          0.42710749876446047
         ],
         "xaxis": "x15",
         "y": [
          "pay  ",
          "small  ",
          "damn  ",
          "change  ",
          "notice  "
         ],
         "yaxis": "y15"
        },
        {
         "marker": {
          "color": "#0072B2"
         },
         "orientation": "h",
         "type": "bar",
         "x": [
          0.09248234337814894,
          0.0937334676265468,
          0.10267626703038212,
          0.1080484620553841,
          0.15547346836397996
         ],
         "xaxis": "x16",
         "y": [
          "fully  ",
          "look  ",
          "feeling  ",
          "scary  ",
          "strange  "
         ],
         "yaxis": "y16"
        }
       ],
       "layout": {
        "annotations": [
         {
          "font": {
           "size": 16
          },
          "showarrow": false,
          "text": "Topic 0",
          "x": 0.0875,
          "xanchor": "center",
          "xref": "paper",
          "y": 1,
          "yanchor": "bottom",
          "yref": "paper"
         },
         {
          "font": {
           "size": 16
          },
          "showarrow": false,
          "text": "Topic 1",
          "x": 0.36250000000000004,
          "xanchor": "center",
          "xref": "paper",
          "y": 1,
          "yanchor": "bottom",
          "yref": "paper"
         },
         {
          "font": {
           "size": 16
          },
          "showarrow": false,
          "text": "Topic 2",
          "x": 0.6375000000000001,
          "xanchor": "center",
          "xref": "paper",
          "y": 1,
          "yanchor": "bottom",
          "yref": "paper"
         },
         {
          "font": {
           "size": 16
          },
          "showarrow": false,
          "text": "Topic 3",
          "x": 0.9125,
          "xanchor": "center",
          "xref": "paper",
          "y": 1,
          "yanchor": "bottom",
          "yref": "paper"
         },
         {
          "font": {
           "size": 16
          },
          "showarrow": false,
          "text": "Topic 4",
          "x": 0.0875,
          "xanchor": "center",
          "xref": "paper",
          "y": 0.7250000000000001,
          "yanchor": "bottom",
          "yref": "paper"
         },
         {
          "font": {
           "size": 16
          },
          "showarrow": false,
          "text": "Topic 5",
          "x": 0.36250000000000004,
          "xanchor": "center",
          "xref": "paper",
          "y": 0.7250000000000001,
          "yanchor": "bottom",
          "yref": "paper"
         },
         {
          "font": {
           "size": 16
          },
          "showarrow": false,
          "text": "Topic 6",
          "x": 0.6375000000000001,
          "xanchor": "center",
          "xref": "paper",
          "y": 0.7250000000000001,
          "yanchor": "bottom",
          "yref": "paper"
         },
         {
          "font": {
           "size": 16
          },
          "showarrow": false,
          "text": "Topic 7",
          "x": 0.9125,
          "xanchor": "center",
          "xref": "paper",
          "y": 0.7250000000000001,
          "yanchor": "bottom",
          "yref": "paper"
         },
         {
          "font": {
           "size": 16
          },
          "showarrow": false,
          "text": "Topic 8",
          "x": 0.0875,
          "xanchor": "center",
          "xref": "paper",
          "y": 0.45,
          "yanchor": "bottom",
          "yref": "paper"
         },
         {
          "font": {
           "size": 16
          },
          "showarrow": false,
          "text": "Topic 9",
          "x": 0.36250000000000004,
          "xanchor": "center",
          "xref": "paper",
          "y": 0.45,
          "yanchor": "bottom",
          "yref": "paper"
         },
         {
          "font": {
           "size": 16
          },
          "showarrow": false,
          "text": "Topic 10",
          "x": 0.6375000000000001,
          "xanchor": "center",
          "xref": "paper",
          "y": 0.45,
          "yanchor": "bottom",
          "yref": "paper"
         },
         {
          "font": {
           "size": 16
          },
          "showarrow": false,
          "text": "Topic 11",
          "x": 0.9125,
          "xanchor": "center",
          "xref": "paper",
          "y": 0.45,
          "yanchor": "bottom",
          "yref": "paper"
         },
         {
          "font": {
           "size": 16
          },
          "showarrow": false,
          "text": "Topic 12",
          "x": 0.0875,
          "xanchor": "center",
          "xref": "paper",
          "y": 0.175,
          "yanchor": "bottom",
          "yref": "paper"
         },
         {
          "font": {
           "size": 16
          },
          "showarrow": false,
          "text": "Topic 13",
          "x": 0.36250000000000004,
          "xanchor": "center",
          "xref": "paper",
          "y": 0.175,
          "yanchor": "bottom",
          "yref": "paper"
         },
         {
          "font": {
           "size": 16
          },
          "showarrow": false,
          "text": "Topic 14",
          "x": 0.6375000000000001,
          "xanchor": "center",
          "xref": "paper",
          "y": 0.175,
          "yanchor": "bottom",
          "yref": "paper"
         },
         {
          "font": {
           "size": 16
          },
          "showarrow": false,
          "text": "Topic 15",
          "x": 0.9125,
          "xanchor": "center",
          "xref": "paper",
          "y": 0.175,
          "yanchor": "bottom",
          "yref": "paper"
         }
        ],
        "height": 1000,
        "hoverlabel": {
         "bgcolor": "white",
         "font": {
          "family": "Rockwell",
          "size": 16
         }
        },
        "showlegend": false,
        "template": {
         "data": {
          "bar": [
           {
            "error_x": {
             "color": "#2a3f5f"
            },
            "error_y": {
             "color": "#2a3f5f"
            },
            "marker": {
             "line": {
              "color": "white",
              "width": 0.5
             },
             "pattern": {
              "fillmode": "overlay",
              "size": 10,
              "solidity": 0.2
             }
            },
            "type": "bar"
           }
          ],
          "barpolar": [
           {
            "marker": {
             "line": {
              "color": "white",
              "width": 0.5
             },
             "pattern": {
              "fillmode": "overlay",
              "size": 10,
              "solidity": 0.2
             }
            },
            "type": "barpolar"
           }
          ],
          "carpet": [
           {
            "aaxis": {
             "endlinecolor": "#2a3f5f",
             "gridcolor": "#C8D4E3",
             "linecolor": "#C8D4E3",
             "minorgridcolor": "#C8D4E3",
             "startlinecolor": "#2a3f5f"
            },
            "baxis": {
             "endlinecolor": "#2a3f5f",
             "gridcolor": "#C8D4E3",
             "linecolor": "#C8D4E3",
             "minorgridcolor": "#C8D4E3",
             "startlinecolor": "#2a3f5f"
            },
            "type": "carpet"
           }
          ],
          "choropleth": [
           {
            "colorbar": {
             "outlinewidth": 0,
             "ticks": ""
            },
            "type": "choropleth"
           }
          ],
          "contour": [
           {
            "colorbar": {
             "outlinewidth": 0,
             "ticks": ""
            },
            "colorscale": [
             [
              0,
              "#0d0887"
             ],
             [
              0.1111111111111111,
              "#46039f"
             ],
             [
              0.2222222222222222,
              "#7201a8"
             ],
             [
              0.3333333333333333,
              "#9c179e"
             ],
             [
              0.4444444444444444,
              "#bd3786"
             ],
             [
              0.5555555555555556,
              "#d8576b"
             ],
             [
              0.6666666666666666,
              "#ed7953"
             ],
             [
              0.7777777777777778,
              "#fb9f3a"
             ],
             [
              0.8888888888888888,
              "#fdca26"
             ],
             [
              1,
              "#f0f921"
             ]
            ],
            "type": "contour"
           }
          ],
          "contourcarpet": [
           {
            "colorbar": {
             "outlinewidth": 0,
             "ticks": ""
            },
            "type": "contourcarpet"
           }
          ],
          "heatmap": [
           {
            "colorbar": {
             "outlinewidth": 0,
             "ticks": ""
            },
            "colorscale": [
             [
              0,
              "#0d0887"
             ],
             [
              0.1111111111111111,
              "#46039f"
             ],
             [
              0.2222222222222222,
              "#7201a8"
             ],
             [
              0.3333333333333333,
              "#9c179e"
             ],
             [
              0.4444444444444444,
              "#bd3786"
             ],
             [
              0.5555555555555556,
              "#d8576b"
             ],
             [
              0.6666666666666666,
              "#ed7953"
             ],
             [
              0.7777777777777778,
              "#fb9f3a"
             ],
             [
              0.8888888888888888,
              "#fdca26"
             ],
             [
              1,
              "#f0f921"
             ]
            ],
            "type": "heatmap"
           }
          ],
          "heatmapgl": [
           {
            "colorbar": {
             "outlinewidth": 0,
             "ticks": ""
            },
            "colorscale": [
             [
              0,
              "#0d0887"
             ],
             [
              0.1111111111111111,
              "#46039f"
             ],
             [
              0.2222222222222222,
              "#7201a8"
             ],
             [
              0.3333333333333333,
              "#9c179e"
             ],
             [
              0.4444444444444444,
              "#bd3786"
             ],
             [
              0.5555555555555556,
              "#d8576b"
             ],
             [
              0.6666666666666666,
              "#ed7953"
             ],
             [
              0.7777777777777778,
              "#fb9f3a"
             ],
             [
              0.8888888888888888,
              "#fdca26"
             ],
             [
              1,
              "#f0f921"
             ]
            ],
            "type": "heatmapgl"
           }
          ],
          "histogram": [
           {
            "marker": {
             "pattern": {
              "fillmode": "overlay",
              "size": 10,
              "solidity": 0.2
             }
            },
            "type": "histogram"
           }
          ],
          "histogram2d": [
           {
            "colorbar": {
             "outlinewidth": 0,
             "ticks": ""
            },
            "colorscale": [
             [
              0,
              "#0d0887"
             ],
             [
              0.1111111111111111,
              "#46039f"
             ],
             [
              0.2222222222222222,
              "#7201a8"
             ],
             [
              0.3333333333333333,
              "#9c179e"
             ],
             [
              0.4444444444444444,
              "#bd3786"
             ],
             [
              0.5555555555555556,
              "#d8576b"
             ],
             [
              0.6666666666666666,
              "#ed7953"
             ],
             [
              0.7777777777777778,
              "#fb9f3a"
             ],
             [
              0.8888888888888888,
              "#fdca26"
             ],
             [
              1,
              "#f0f921"
             ]
            ],
            "type": "histogram2d"
           }
          ],
          "histogram2dcontour": [
           {
            "colorbar": {
             "outlinewidth": 0,
             "ticks": ""
            },
            "colorscale": [
             [
              0,
              "#0d0887"
             ],
             [
              0.1111111111111111,
              "#46039f"
             ],
             [
              0.2222222222222222,
              "#7201a8"
             ],
             [
              0.3333333333333333,
              "#9c179e"
             ],
             [
              0.4444444444444444,
              "#bd3786"
             ],
             [
              0.5555555555555556,
              "#d8576b"
             ],
             [
              0.6666666666666666,
              "#ed7953"
             ],
             [
              0.7777777777777778,
              "#fb9f3a"
             ],
             [
              0.8888888888888888,
              "#fdca26"
             ],
             [
              1,
              "#f0f921"
             ]
            ],
            "type": "histogram2dcontour"
           }
          ],
          "mesh3d": [
           {
            "colorbar": {
             "outlinewidth": 0,
             "ticks": ""
            },
            "type": "mesh3d"
           }
          ],
          "parcoords": [
           {
            "line": {
             "colorbar": {
              "outlinewidth": 0,
              "ticks": ""
             }
            },
            "type": "parcoords"
           }
          ],
          "pie": [
           {
            "automargin": true,
            "type": "pie"
           }
          ],
          "scatter": [
           {
            "fillpattern": {
             "fillmode": "overlay",
             "size": 10,
             "solidity": 0.2
            },
            "type": "scatter"
           }
          ],
          "scatter3d": [
           {
            "line": {
             "colorbar": {
              "outlinewidth": 0,
              "ticks": ""
             }
            },
            "marker": {
             "colorbar": {
              "outlinewidth": 0,
              "ticks": ""
             }
            },
            "type": "scatter3d"
           }
          ],
          "scattercarpet": [
           {
            "marker": {
             "colorbar": {
              "outlinewidth": 0,
              "ticks": ""
             }
            },
            "type": "scattercarpet"
           }
          ],
          "scattergeo": [
           {
            "marker": {
             "colorbar": {
              "outlinewidth": 0,
              "ticks": ""
             }
            },
            "type": "scattergeo"
           }
          ],
          "scattergl": [
           {
            "marker": {
             "colorbar": {
              "outlinewidth": 0,
              "ticks": ""
             }
            },
            "type": "scattergl"
           }
          ],
          "scattermapbox": [
           {
            "marker": {
             "colorbar": {
              "outlinewidth": 0,
              "ticks": ""
             }
            },
            "type": "scattermapbox"
           }
          ],
          "scatterpolar": [
           {
            "marker": {
             "colorbar": {
              "outlinewidth": 0,
              "ticks": ""
             }
            },
            "type": "scatterpolar"
           }
          ],
          "scatterpolargl": [
           {
            "marker": {
             "colorbar": {
              "outlinewidth": 0,
              "ticks": ""
             }
            },
            "type": "scatterpolargl"
           }
          ],
          "scatterternary": [
           {
            "marker": {
             "colorbar": {
              "outlinewidth": 0,
              "ticks": ""
             }
            },
            "type": "scatterternary"
           }
          ],
          "surface": [
           {
            "colorbar": {
             "outlinewidth": 0,
             "ticks": ""
            },
            "colorscale": [
             [
              0,
              "#0d0887"
             ],
             [
              0.1111111111111111,
              "#46039f"
             ],
             [
              0.2222222222222222,
              "#7201a8"
             ],
             [
              0.3333333333333333,
              "#9c179e"
             ],
             [
              0.4444444444444444,
              "#bd3786"
             ],
             [
              0.5555555555555556,
              "#d8576b"
             ],
             [
              0.6666666666666666,
              "#ed7953"
             ],
             [
              0.7777777777777778,
              "#fb9f3a"
             ],
             [
              0.8888888888888888,
              "#fdca26"
             ],
             [
              1,
              "#f0f921"
             ]
            ],
            "type": "surface"
           }
          ],
          "table": [
           {
            "cells": {
             "fill": {
              "color": "#EBF0F8"
             },
             "line": {
              "color": "white"
             }
            },
            "header": {
             "fill": {
              "color": "#C8D4E3"
             },
             "line": {
              "color": "white"
             }
            },
            "type": "table"
           }
          ]
         },
         "layout": {
          "annotationdefaults": {
           "arrowcolor": "#2a3f5f",
           "arrowhead": 0,
           "arrowwidth": 1
          },
          "autotypenumbers": "strict",
          "coloraxis": {
           "colorbar": {
            "outlinewidth": 0,
            "ticks": ""
           }
          },
          "colorscale": {
           "diverging": [
            [
             0,
             "#8e0152"
            ],
            [
             0.1,
             "#c51b7d"
            ],
            [
             0.2,
             "#de77ae"
            ],
            [
             0.3,
             "#f1b6da"
            ],
            [
             0.4,
             "#fde0ef"
            ],
            [
             0.5,
             "#f7f7f7"
            ],
            [
             0.6,
             "#e6f5d0"
            ],
            [
             0.7,
             "#b8e186"
            ],
            [
             0.8,
             "#7fbc41"
            ],
            [
             0.9,
             "#4d9221"
            ],
            [
             1,
             "#276419"
            ]
           ],
           "sequential": [
            [
             0,
             "#0d0887"
            ],
            [
             0.1111111111111111,
             "#46039f"
            ],
            [
             0.2222222222222222,
             "#7201a8"
            ],
            [
             0.3333333333333333,
             "#9c179e"
            ],
            [
             0.4444444444444444,
             "#bd3786"
            ],
            [
             0.5555555555555556,
             "#d8576b"
            ],
            [
             0.6666666666666666,
             "#ed7953"
            ],
            [
             0.7777777777777778,
             "#fb9f3a"
            ],
            [
             0.8888888888888888,
             "#fdca26"
            ],
            [
             1,
             "#f0f921"
            ]
           ],
           "sequentialminus": [
            [
             0,
             "#0d0887"
            ],
            [
             0.1111111111111111,
             "#46039f"
            ],
            [
             0.2222222222222222,
             "#7201a8"
            ],
            [
             0.3333333333333333,
             "#9c179e"
            ],
            [
             0.4444444444444444,
             "#bd3786"
            ],
            [
             0.5555555555555556,
             "#d8576b"
            ],
            [
             0.6666666666666666,
             "#ed7953"
            ],
            [
             0.7777777777777778,
             "#fb9f3a"
            ],
            [
             0.8888888888888888,
             "#fdca26"
            ],
            [
             1,
             "#f0f921"
            ]
           ]
          },
          "colorway": [
           "#636efa",
           "#EF553B",
           "#00cc96",
           "#ab63fa",
           "#FFA15A",
           "#19d3f3",
           "#FF6692",
           "#B6E880",
           "#FF97FF",
           "#FECB52"
          ],
          "font": {
           "color": "#2a3f5f"
          },
          "geo": {
           "bgcolor": "white",
           "lakecolor": "white",
           "landcolor": "white",
           "showlakes": true,
           "showland": true,
           "subunitcolor": "#C8D4E3"
          },
          "hoverlabel": {
           "align": "left"
          },
          "hovermode": "closest",
          "mapbox": {
           "style": "light"
          },
          "paper_bgcolor": "white",
          "plot_bgcolor": "white",
          "polar": {
           "angularaxis": {
            "gridcolor": "#EBF0F8",
            "linecolor": "#EBF0F8",
            "ticks": ""
           },
           "bgcolor": "white",
           "radialaxis": {
            "gridcolor": "#EBF0F8",
            "linecolor": "#EBF0F8",
            "ticks": ""
           }
          },
          "scene": {
           "xaxis": {
            "backgroundcolor": "white",
            "gridcolor": "#DFE8F3",
            "gridwidth": 2,
            "linecolor": "#EBF0F8",
            "showbackground": true,
            "ticks": "",
            "zerolinecolor": "#EBF0F8"
           },
           "yaxis": {
            "backgroundcolor": "white",
            "gridcolor": "#DFE8F3",
            "gridwidth": 2,
            "linecolor": "#EBF0F8",
            "showbackground": true,
            "ticks": "",
            "zerolinecolor": "#EBF0F8"
           },
           "zaxis": {
            "backgroundcolor": "white",
            "gridcolor": "#DFE8F3",
            "gridwidth": 2,
            "linecolor": "#EBF0F8",
            "showbackground": true,
            "ticks": "",
            "zerolinecolor": "#EBF0F8"
           }
          },
          "shapedefaults": {
           "line": {
            "color": "#2a3f5f"
           }
          },
          "ternary": {
           "aaxis": {
            "gridcolor": "#DFE8F3",
            "linecolor": "#A2B1C6",
            "ticks": ""
           },
           "baxis": {
            "gridcolor": "#DFE8F3",
            "linecolor": "#A2B1C6",
            "ticks": ""
           },
           "bgcolor": "white",
           "caxis": {
            "gridcolor": "#DFE8F3",
            "linecolor": "#A2B1C6",
            "ticks": ""
           }
          },
          "title": {
           "x": 0.05
          },
          "xaxis": {
           "automargin": true,
           "gridcolor": "#EBF0F8",
           "linecolor": "#EBF0F8",
           "ticks": "",
           "title": {
            "standoff": 15
           },
           "zerolinecolor": "#EBF0F8",
           "zerolinewidth": 2
          },
          "yaxis": {
           "automargin": true,
           "gridcolor": "#EBF0F8",
           "linecolor": "#EBF0F8",
           "ticks": "",
           "title": {
            "standoff": 15
           },
           "zerolinecolor": "#EBF0F8",
           "zerolinewidth": 2
          }
         }
        },
        "title": {
         "font": {
          "color": "Black",
          "size": 22
         },
         "text": "Topic Word Scores",
         "x": 0.5,
         "xanchor": "center",
         "yanchor": "top"
        },
        "width": 1000,
        "xaxis": {
         "anchor": "y",
         "domain": [
          0,
          0.175
         ],
         "showgrid": true
        },
        "xaxis10": {
         "anchor": "y10",
         "domain": [
          0.275,
          0.45
         ],
         "showgrid": true
        },
        "xaxis11": {
         "anchor": "y11",
         "domain": [
          0.55,
          0.7250000000000001
         ],
         "showgrid": true
        },
        "xaxis12": {
         "anchor": "y12",
         "domain": [
          0.825,
          1
         ],
         "showgrid": true
        },
        "xaxis13": {
         "anchor": "y13",
         "domain": [
          0,
          0.175
         ],
         "showgrid": true
        },
        "xaxis14": {
         "anchor": "y14",
         "domain": [
          0.275,
          0.45
         ],
         "showgrid": true
        },
        "xaxis15": {
         "anchor": "y15",
         "domain": [
          0.55,
          0.7250000000000001
         ],
         "showgrid": true
        },
        "xaxis16": {
         "anchor": "y16",
         "domain": [
          0.825,
          1
         ],
         "showgrid": true
        },
        "xaxis2": {
         "anchor": "y2",
         "domain": [
          0.275,
          0.45
         ],
         "showgrid": true
        },
        "xaxis3": {
         "anchor": "y3",
         "domain": [
          0.55,
          0.7250000000000001
         ],
         "showgrid": true
        },
        "xaxis4": {
         "anchor": "y4",
         "domain": [
          0.825,
          1
         ],
         "showgrid": true
        },
        "xaxis5": {
         "anchor": "y5",
         "domain": [
          0,
          0.175
         ],
         "showgrid": true
        },
        "xaxis6": {
         "anchor": "y6",
         "domain": [
          0.275,
          0.45
         ],
         "showgrid": true
        },
        "xaxis7": {
         "anchor": "y7",
         "domain": [
          0.55,
          0.7250000000000001
         ],
         "showgrid": true
        },
        "xaxis8": {
         "anchor": "y8",
         "domain": [
          0.825,
          1
         ],
         "showgrid": true
        },
        "xaxis9": {
         "anchor": "y9",
         "domain": [
          0,
          0.175
         ],
         "showgrid": true
        },
        "yaxis": {
         "anchor": "x",
         "domain": [
          0.825,
          1
         ],
         "showgrid": true
        },
        "yaxis10": {
         "anchor": "x10",
         "domain": [
          0.275,
          0.45
         ],
         "showgrid": true
        },
        "yaxis11": {
         "anchor": "x11",
         "domain": [
          0.275,
          0.45
         ],
         "showgrid": true
        },
        "yaxis12": {
         "anchor": "x12",
         "domain": [
          0.275,
          0.45
         ],
         "showgrid": true
        },
        "yaxis13": {
         "anchor": "x13",
         "domain": [
          0,
          0.175
         ],
         "showgrid": true
        },
        "yaxis14": {
         "anchor": "x14",
         "domain": [
          0,
          0.175
         ],
         "showgrid": true
        },
        "yaxis15": {
         "anchor": "x15",
         "domain": [
          0,
          0.175
         ],
         "showgrid": true
        },
        "yaxis16": {
         "anchor": "x16",
         "domain": [
          0,
          0.175
         ],
         "showgrid": true
        },
        "yaxis2": {
         "anchor": "x2",
         "domain": [
          0.825,
          1
         ],
         "showgrid": true
        },
        "yaxis3": {
         "anchor": "x3",
         "domain": [
          0.825,
          1
         ],
         "showgrid": true
        },
        "yaxis4": {
         "anchor": "x4",
         "domain": [
          0.825,
          1
         ],
         "showgrid": true
        },
        "yaxis5": {
         "anchor": "x5",
         "domain": [
          0.55,
          0.7250000000000001
         ],
         "showgrid": true
        },
        "yaxis6": {
         "anchor": "x6",
         "domain": [
          0.55,
          0.7250000000000001
         ],
         "showgrid": true
        },
        "yaxis7": {
         "anchor": "x7",
         "domain": [
          0.55,
          0.7250000000000001
         ],
         "showgrid": true
        },
        "yaxis8": {
         "anchor": "x8",
         "domain": [
          0.55,
          0.7250000000000001
         ],
         "showgrid": true
        },
        "yaxis9": {
         "anchor": "x9",
         "domain": [
          0.275,
          0.45
         ],
         "showgrid": true
        }
       }
      }
     },
     "metadata": {},
     "output_type": "display_data"
    }
   ],
   "source": [
    "topic_model.visualize_barchart(top_n_topics=16)"
   ]
  },
  {
   "cell_type": "code",
   "execution_count": 13,
   "metadata": {},
   "outputs": [
    {
     "data": {
      "application/vnd.plotly.v1+json": {
       "config": {
        "plotlyServerURL": "https://plot.ly"
       },
       "data": [
        {
         "customdata": [
          [
           0,
           "interesting | easy | nice | fine | fun",
           47
          ],
          [
           1,
           "focus | leg | eye | distract | try",
           46
          ],
          [
           2,
           "relax | fall | sleep | asleep | calm",
           46
          ],
          [
           3,
           "reality | body | different | yourself | room",
           44
          ],
          [
           4,
           "body | heavy | light | come | half",
           37
          ],
          [
           5,
           "color | yellow | normal | difference | change",
           29
          ],
          [
           6,
           "touch | delay | scene | image | catch",
           23
          ],
          [
           7,
           "virtual | body | vr | myself | hologram",
           23
          ],
          [
           8,
           "forest | rock | tree | adventure | indonesia",
           23
          ],
          [
           9,
           "eye | open | close | condition | 30",
           22
          ],
          [
           10,
           "avatar | blink | myself | identify | recognize",
           22
          ],
          [
           11,
           "strange | weird | funny | creepy | accept",
           19
          ],
          [
           12,
           "want | mental | good | complicated | urgent",
           15
          ],
          [
           13,
           "voice | platform | rock | space | cool",
           14
          ],
          [
           14,
           "notice | change | damn | small | pay",
           13
          ],
          [
           15,
           "strange | scary | feeling | look | fully",
           12
          ],
          [
           16,
           "100 | 10 | somewhat | percentage | number",
           10
          ],
          [
           17,
           "room | center | mountain | especially | different",
           9
          ],
          [
           18,
           "quickly | happen | movement | constantly | asynchrony",
           8
          ]
         ],
         "hovertemplate": "<b>Topic %{customdata[0]}</b><br>%{customdata[1]}<br>Size: %{customdata[2]}",
         "legendgroup": "",
         "marker": {
          "color": "#B0BEC5",
          "line": {
           "color": "DarkSlateGrey",
           "width": 2
          },
          "size": [
           47,
           46,
           46,
           44,
           37,
           29,
           23,
           23,
           23,
           22,
           22,
           19,
           15,
           14,
           13,
           12,
           10,
           9,
           8
          ],
          "sizemode": "area",
          "sizeref": 0.029375,
          "symbol": "circle"
         },
         "mode": "markers",
         "name": "",
         "orientation": "v",
         "showlegend": false,
         "type": "scatter",
         "x": [
          14.953855514526367,
          -6.73478364944458,
          -8.115899085998535,
          -7.749738693237305,
          -7.570990085601807,
          7.423183917999268,
          -8.14128589630127,
          -7.692111492156982,
          15.896580696105957,
          -6.387793064117432,
          -7.7994160652160645,
          14.687045097351074,
          15.431389808654785,
          -7.512413024902344,
          7.532723426818848,
          -7.876971244812012,
          15.044035911560059,
          15.656745910644531,
          15.101981163024902
         ],
         "xaxis": "x",
         "y": [
          8.410261154174805,
          -2.532177209854126,
          -3.2973170280456543,
          -2.3431451320648193,
          -3.328301191329956,
          1.711853265762329,
          -1.4258887767791748,
          -1.3062998056411743,
          9.990964889526367,
          -2.6038625240325928,
          -0.9690101742744446,
          8.607120513916016,
          8.971891403198242,
          -2.2454092502593994,
          1.8225454092025757,
          -2.9673891067504883,
          8.221939086914062,
          9.676116943359375,
          9.171124458312988
         ],
         "yaxis": "y"
        }
       ],
       "layout": {
        "annotations": [
         {
          "showarrow": false,
          "text": "D1",
          "x": -9.36247878074646,
          "y": 3.8310316264629365,
          "yshift": 10
         },
         {
          "showarrow": false,
          "text": "D2",
          "x": 4.459294509887695,
          "xshift": 10,
          "y": 11.489609622955323
         }
        ],
        "height": 650,
        "hoverlabel": {
         "bgcolor": "white",
         "font": {
          "family": "Rockwell",
          "size": 16
         }
        },
        "legend": {
         "itemsizing": "constant",
         "tracegroupgap": 0
        },
        "margin": {
         "t": 60
        },
        "shapes": [
         {
          "line": {
           "color": "#CFD8DC",
           "width": 2
          },
          "type": "line",
          "x0": 4.459294509887695,
          "x1": 4.459294509887695,
          "y0": -3.8275463700294496,
          "y1": 11.489609622955323
         },
         {
          "line": {
           "color": "#9E9E9E",
           "width": 2
          },
          "type": "line",
          "x0": -9.36247878074646,
          "x1": 18.28106780052185,
          "y0": 3.8310316264629365,
          "y1": 3.8310316264629365
         }
        ],
        "sliders": [
         {
          "active": 0,
          "pad": {
           "t": 50
          },
          "steps": [
           {
            "args": [
             {
              "marker.color": [
               [
                "red",
                "#B0BEC5",
                "#B0BEC5",
                "#B0BEC5",
                "#B0BEC5",
                "#B0BEC5",
                "#B0BEC5",
                "#B0BEC5",
                "#B0BEC5",
                "#B0BEC5",
                "#B0BEC5",
                "#B0BEC5",
                "#B0BEC5",
                "#B0BEC5",
                "#B0BEC5",
                "#B0BEC5",
                "#B0BEC5",
                "#B0BEC5",
                "#B0BEC5"
               ]
              ]
             }
            ],
            "label": "Topic 0",
            "method": "update"
           },
           {
            "args": [
             {
              "marker.color": [
               [
                "#B0BEC5",
                "red",
                "#B0BEC5",
                "#B0BEC5",
                "#B0BEC5",
                "#B0BEC5",
                "#B0BEC5",
                "#B0BEC5",
                "#B0BEC5",
                "#B0BEC5",
                "#B0BEC5",
                "#B0BEC5",
                "#B0BEC5",
                "#B0BEC5",
                "#B0BEC5",
                "#B0BEC5",
                "#B0BEC5",
                "#B0BEC5",
                "#B0BEC5"
               ]
              ]
             }
            ],
            "label": "Topic 1",
            "method": "update"
           },
           {
            "args": [
             {
              "marker.color": [
               [
                "#B0BEC5",
                "#B0BEC5",
                "red",
                "#B0BEC5",
                "#B0BEC5",
                "#B0BEC5",
                "#B0BEC5",
                "#B0BEC5",
                "#B0BEC5",
                "#B0BEC5",
                "#B0BEC5",
                "#B0BEC5",
                "#B0BEC5",
                "#B0BEC5",
                "#B0BEC5",
                "#B0BEC5",
                "#B0BEC5",
                "#B0BEC5",
                "#B0BEC5"
               ]
              ]
             }
            ],
            "label": "Topic 2",
            "method": "update"
           },
           {
            "args": [
             {
              "marker.color": [
               [
                "#B0BEC5",
                "#B0BEC5",
                "#B0BEC5",
                "red",
                "#B0BEC5",
                "#B0BEC5",
                "#B0BEC5",
                "#B0BEC5",
                "#B0BEC5",
                "#B0BEC5",
                "#B0BEC5",
                "#B0BEC5",
                "#B0BEC5",
                "#B0BEC5",
                "#B0BEC5",
                "#B0BEC5",
                "#B0BEC5",
                "#B0BEC5",
                "#B0BEC5"
               ]
              ]
             }
            ],
            "label": "Topic 3",
            "method": "update"
           },
           {
            "args": [
             {
              "marker.color": [
               [
                "#B0BEC5",
                "#B0BEC5",
                "#B0BEC5",
                "#B0BEC5",
                "red",
                "#B0BEC5",
                "#B0BEC5",
                "#B0BEC5",
                "#B0BEC5",
                "#B0BEC5",
                "#B0BEC5",
                "#B0BEC5",
                "#B0BEC5",
                "#B0BEC5",
                "#B0BEC5",
                "#B0BEC5",
                "#B0BEC5",
                "#B0BEC5",
                "#B0BEC5"
               ]
              ]
             }
            ],
            "label": "Topic 4",
            "method": "update"
           },
           {
            "args": [
             {
              "marker.color": [
               [
                "#B0BEC5",
                "#B0BEC5",
                "#B0BEC5",
                "#B0BEC5",
                "#B0BEC5",
                "red",
                "#B0BEC5",
                "#B0BEC5",
                "#B0BEC5",
                "#B0BEC5",
                "#B0BEC5",
                "#B0BEC5",
                "#B0BEC5",
                "#B0BEC5",
                "#B0BEC5",
                "#B0BEC5",
                "#B0BEC5",
                "#B0BEC5",
                "#B0BEC5"
               ]
              ]
             }
            ],
            "label": "Topic 5",
            "method": "update"
           },
           {
            "args": [
             {
              "marker.color": [
               [
                "#B0BEC5",
                "#B0BEC5",
                "#B0BEC5",
                "#B0BEC5",
                "#B0BEC5",
                "#B0BEC5",
                "red",
                "#B0BEC5",
                "#B0BEC5",
                "#B0BEC5",
                "#B0BEC5",
                "#B0BEC5",
                "#B0BEC5",
                "#B0BEC5",
                "#B0BEC5",
                "#B0BEC5",
                "#B0BEC5",
                "#B0BEC5",
                "#B0BEC5"
               ]
              ]
             }
            ],
            "label": "Topic 6",
            "method": "update"
           },
           {
            "args": [
             {
              "marker.color": [
               [
                "#B0BEC5",
                "#B0BEC5",
                "#B0BEC5",
                "#B0BEC5",
                "#B0BEC5",
                "#B0BEC5",
                "#B0BEC5",
                "red",
                "#B0BEC5",
                "#B0BEC5",
                "#B0BEC5",
                "#B0BEC5",
                "#B0BEC5",
                "#B0BEC5",
                "#B0BEC5",
                "#B0BEC5",
                "#B0BEC5",
                "#B0BEC5",
                "#B0BEC5"
               ]
              ]
             }
            ],
            "label": "Topic 7",
            "method": "update"
           },
           {
            "args": [
             {
              "marker.color": [
               [
                "#B0BEC5",
                "#B0BEC5",
                "#B0BEC5",
                "#B0BEC5",
                "#B0BEC5",
                "#B0BEC5",
                "#B0BEC5",
                "#B0BEC5",
                "red",
                "#B0BEC5",
                "#B0BEC5",
                "#B0BEC5",
                "#B0BEC5",
                "#B0BEC5",
                "#B0BEC5",
                "#B0BEC5",
                "#B0BEC5",
                "#B0BEC5",
                "#B0BEC5"
               ]
              ]
             }
            ],
            "label": "Topic 8",
            "method": "update"
           },
           {
            "args": [
             {
              "marker.color": [
               [
                "#B0BEC5",
                "#B0BEC5",
                "#B0BEC5",
                "#B0BEC5",
                "#B0BEC5",
                "#B0BEC5",
                "#B0BEC5",
                "#B0BEC5",
                "#B0BEC5",
                "red",
                "#B0BEC5",
                "#B0BEC5",
                "#B0BEC5",
                "#B0BEC5",
                "#B0BEC5",
                "#B0BEC5",
                "#B0BEC5",
                "#B0BEC5",
                "#B0BEC5"
               ]
              ]
             }
            ],
            "label": "Topic 9",
            "method": "update"
           },
           {
            "args": [
             {
              "marker.color": [
               [
                "#B0BEC5",
                "#B0BEC5",
                "#B0BEC5",
                "#B0BEC5",
                "#B0BEC5",
                "#B0BEC5",
                "#B0BEC5",
                "#B0BEC5",
                "#B0BEC5",
                "#B0BEC5",
                "red",
                "#B0BEC5",
                "#B0BEC5",
                "#B0BEC5",
                "#B0BEC5",
                "#B0BEC5",
                "#B0BEC5",
                "#B0BEC5",
                "#B0BEC5"
               ]
              ]
             }
            ],
            "label": "Topic 10",
            "method": "update"
           },
           {
            "args": [
             {
              "marker.color": [
               [
                "#B0BEC5",
                "#B0BEC5",
                "#B0BEC5",
                "#B0BEC5",
                "#B0BEC5",
                "#B0BEC5",
                "#B0BEC5",
                "#B0BEC5",
                "#B0BEC5",
                "#B0BEC5",
                "#B0BEC5",
                "red",
                "#B0BEC5",
                "#B0BEC5",
                "#B0BEC5",
                "#B0BEC5",
                "#B0BEC5",
                "#B0BEC5",
                "#B0BEC5"
               ]
              ]
             }
            ],
            "label": "Topic 11",
            "method": "update"
           },
           {
            "args": [
             {
              "marker.color": [
               [
                "#B0BEC5",
                "#B0BEC5",
                "#B0BEC5",
                "#B0BEC5",
                "#B0BEC5",
                "#B0BEC5",
                "#B0BEC5",
                "#B0BEC5",
                "#B0BEC5",
                "#B0BEC5",
                "#B0BEC5",
                "#B0BEC5",
                "red",
                "#B0BEC5",
                "#B0BEC5",
                "#B0BEC5",
                "#B0BEC5",
                "#B0BEC5",
                "#B0BEC5"
               ]
              ]
             }
            ],
            "label": "Topic 12",
            "method": "update"
           },
           {
            "args": [
             {
              "marker.color": [
               [
                "#B0BEC5",
                "#B0BEC5",
                "#B0BEC5",
                "#B0BEC5",
                "#B0BEC5",
                "#B0BEC5",
                "#B0BEC5",
                "#B0BEC5",
                "#B0BEC5",
                "#B0BEC5",
                "#B0BEC5",
                "#B0BEC5",
                "#B0BEC5",
                "red",
                "#B0BEC5",
                "#B0BEC5",
                "#B0BEC5",
                "#B0BEC5",
                "#B0BEC5"
               ]
              ]
             }
            ],
            "label": "Topic 13",
            "method": "update"
           },
           {
            "args": [
             {
              "marker.color": [
               [
                "#B0BEC5",
                "#B0BEC5",
                "#B0BEC5",
                "#B0BEC5",
                "#B0BEC5",
                "#B0BEC5",
                "#B0BEC5",
                "#B0BEC5",
                "#B0BEC5",
                "#B0BEC5",
                "#B0BEC5",
                "#B0BEC5",
                "#B0BEC5",
                "#B0BEC5",
                "red",
                "#B0BEC5",
                "#B0BEC5",
                "#B0BEC5",
                "#B0BEC5"
               ]
              ]
             }
            ],
            "label": "Topic 14",
            "method": "update"
           },
           {
            "args": [
             {
              "marker.color": [
               [
                "#B0BEC5",
                "#B0BEC5",
                "#B0BEC5",
                "#B0BEC5",
                "#B0BEC5",
                "#B0BEC5",
                "#B0BEC5",
                "#B0BEC5",
                "#B0BEC5",
                "#B0BEC5",
                "#B0BEC5",
                "#B0BEC5",
                "#B0BEC5",
                "#B0BEC5",
                "#B0BEC5",
                "red",
                "#B0BEC5",
                "#B0BEC5",
                "#B0BEC5"
               ]
              ]
             }
            ],
            "label": "Topic 15",
            "method": "update"
           },
           {
            "args": [
             {
              "marker.color": [
               [
                "#B0BEC5",
                "#B0BEC5",
                "#B0BEC5",
                "#B0BEC5",
                "#B0BEC5",
                "#B0BEC5",
                "#B0BEC5",
                "#B0BEC5",
                "#B0BEC5",
                "#B0BEC5",
                "#B0BEC5",
                "#B0BEC5",
                "#B0BEC5",
                "#B0BEC5",
                "#B0BEC5",
                "#B0BEC5",
                "red",
                "#B0BEC5",
                "#B0BEC5"
               ]
              ]
             }
            ],
            "label": "Topic 16",
            "method": "update"
           },
           {
            "args": [
             {
              "marker.color": [
               [
                "#B0BEC5",
                "#B0BEC5",
                "#B0BEC5",
                "#B0BEC5",
                "#B0BEC5",
                "#B0BEC5",
                "#B0BEC5",
                "#B0BEC5",
                "#B0BEC5",
                "#B0BEC5",
                "#B0BEC5",
                "#B0BEC5",
                "#B0BEC5",
                "#B0BEC5",
                "#B0BEC5",
                "#B0BEC5",
                "#B0BEC5",
                "red",
                "#B0BEC5"
               ]
              ]
             }
            ],
            "label": "Topic 17",
            "method": "update"
           },
           {
            "args": [
             {
              "marker.color": [
               [
                "#B0BEC5",
                "#B0BEC5",
                "#B0BEC5",
                "#B0BEC5",
                "#B0BEC5",
                "#B0BEC5",
                "#B0BEC5",
                "#B0BEC5",
                "#B0BEC5",
                "#B0BEC5",
                "#B0BEC5",
                "#B0BEC5",
                "#B0BEC5",
                "#B0BEC5",
                "#B0BEC5",
                "#B0BEC5",
                "#B0BEC5",
                "#B0BEC5",
                "red"
               ]
              ]
             }
            ],
            "label": "Topic 18",
            "method": "update"
           }
          ]
         }
        ],
        "template": {
         "data": {
          "bar": [
           {
            "error_x": {
             "color": "rgb(36,36,36)"
            },
            "error_y": {
             "color": "rgb(36,36,36)"
            },
            "marker": {
             "line": {
              "color": "white",
              "width": 0.5
             },
             "pattern": {
              "fillmode": "overlay",
              "size": 10,
              "solidity": 0.2
             }
            },
            "type": "bar"
           }
          ],
          "barpolar": [
           {
            "marker": {
             "line": {
              "color": "white",
              "width": 0.5
             },
             "pattern": {
              "fillmode": "overlay",
              "size": 10,
              "solidity": 0.2
             }
            },
            "type": "barpolar"
           }
          ],
          "carpet": [
           {
            "aaxis": {
             "endlinecolor": "rgb(36,36,36)",
             "gridcolor": "white",
             "linecolor": "white",
             "minorgridcolor": "white",
             "startlinecolor": "rgb(36,36,36)"
            },
            "baxis": {
             "endlinecolor": "rgb(36,36,36)",
             "gridcolor": "white",
             "linecolor": "white",
             "minorgridcolor": "white",
             "startlinecolor": "rgb(36,36,36)"
            },
            "type": "carpet"
           }
          ],
          "choropleth": [
           {
            "colorbar": {
             "outlinewidth": 1,
             "tickcolor": "rgb(36,36,36)",
             "ticks": "outside"
            },
            "type": "choropleth"
           }
          ],
          "contour": [
           {
            "colorbar": {
             "outlinewidth": 1,
             "tickcolor": "rgb(36,36,36)",
             "ticks": "outside"
            },
            "colorscale": [
             [
              0,
              "#440154"
             ],
             [
              0.1111111111111111,
              "#482878"
             ],
             [
              0.2222222222222222,
              "#3e4989"
             ],
             [
              0.3333333333333333,
              "#31688e"
             ],
             [
              0.4444444444444444,
              "#26828e"
             ],
             [
              0.5555555555555556,
              "#1f9e89"
             ],
             [
              0.6666666666666666,
              "#35b779"
             ],
             [
              0.7777777777777778,
              "#6ece58"
             ],
             [
              0.8888888888888888,
              "#b5de2b"
             ],
             [
              1,
              "#fde725"
             ]
            ],
            "type": "contour"
           }
          ],
          "contourcarpet": [
           {
            "colorbar": {
             "outlinewidth": 1,
             "tickcolor": "rgb(36,36,36)",
             "ticks": "outside"
            },
            "type": "contourcarpet"
           }
          ],
          "heatmap": [
           {
            "colorbar": {
             "outlinewidth": 1,
             "tickcolor": "rgb(36,36,36)",
             "ticks": "outside"
            },
            "colorscale": [
             [
              0,
              "#440154"
             ],
             [
              0.1111111111111111,
              "#482878"
             ],
             [
              0.2222222222222222,
              "#3e4989"
             ],
             [
              0.3333333333333333,
              "#31688e"
             ],
             [
              0.4444444444444444,
              "#26828e"
             ],
             [
              0.5555555555555556,
              "#1f9e89"
             ],
             [
              0.6666666666666666,
              "#35b779"
             ],
             [
              0.7777777777777778,
              "#6ece58"
             ],
             [
              0.8888888888888888,
              "#b5de2b"
             ],
             [
              1,
              "#fde725"
             ]
            ],
            "type": "heatmap"
           }
          ],
          "heatmapgl": [
           {
            "colorbar": {
             "outlinewidth": 1,
             "tickcolor": "rgb(36,36,36)",
             "ticks": "outside"
            },
            "colorscale": [
             [
              0,
              "#440154"
             ],
             [
              0.1111111111111111,
              "#482878"
             ],
             [
              0.2222222222222222,
              "#3e4989"
             ],
             [
              0.3333333333333333,
              "#31688e"
             ],
             [
              0.4444444444444444,
              "#26828e"
             ],
             [
              0.5555555555555556,
              "#1f9e89"
             ],
             [
              0.6666666666666666,
              "#35b779"
             ],
             [
              0.7777777777777778,
              "#6ece58"
             ],
             [
              0.8888888888888888,
              "#b5de2b"
             ],
             [
              1,
              "#fde725"
             ]
            ],
            "type": "heatmapgl"
           }
          ],
          "histogram": [
           {
            "marker": {
             "line": {
              "color": "white",
              "width": 0.6
             }
            },
            "type": "histogram"
           }
          ],
          "histogram2d": [
           {
            "colorbar": {
             "outlinewidth": 1,
             "tickcolor": "rgb(36,36,36)",
             "ticks": "outside"
            },
            "colorscale": [
             [
              0,
              "#440154"
             ],
             [
              0.1111111111111111,
              "#482878"
             ],
             [
              0.2222222222222222,
              "#3e4989"
             ],
             [
              0.3333333333333333,
              "#31688e"
             ],
             [
              0.4444444444444444,
              "#26828e"
             ],
             [
              0.5555555555555556,
              "#1f9e89"
             ],
             [
              0.6666666666666666,
              "#35b779"
             ],
             [
              0.7777777777777778,
              "#6ece58"
             ],
             [
              0.8888888888888888,
              "#b5de2b"
             ],
             [
              1,
              "#fde725"
             ]
            ],
            "type": "histogram2d"
           }
          ],
          "histogram2dcontour": [
           {
            "colorbar": {
             "outlinewidth": 1,
             "tickcolor": "rgb(36,36,36)",
             "ticks": "outside"
            },
            "colorscale": [
             [
              0,
              "#440154"
             ],
             [
              0.1111111111111111,
              "#482878"
             ],
             [
              0.2222222222222222,
              "#3e4989"
             ],
             [
              0.3333333333333333,
              "#31688e"
             ],
             [
              0.4444444444444444,
              "#26828e"
             ],
             [
              0.5555555555555556,
              "#1f9e89"
             ],
             [
              0.6666666666666666,
              "#35b779"
             ],
             [
              0.7777777777777778,
              "#6ece58"
             ],
             [
              0.8888888888888888,
              "#b5de2b"
             ],
             [
              1,
              "#fde725"
             ]
            ],
            "type": "histogram2dcontour"
           }
          ],
          "mesh3d": [
           {
            "colorbar": {
             "outlinewidth": 1,
             "tickcolor": "rgb(36,36,36)",
             "ticks": "outside"
            },
            "type": "mesh3d"
           }
          ],
          "parcoords": [
           {
            "line": {
             "colorbar": {
              "outlinewidth": 1,
              "tickcolor": "rgb(36,36,36)",
              "ticks": "outside"
             }
            },
            "type": "parcoords"
           }
          ],
          "pie": [
           {
            "automargin": true,
            "type": "pie"
           }
          ],
          "scatter": [
           {
            "fillpattern": {
             "fillmode": "overlay",
             "size": 10,
             "solidity": 0.2
            },
            "type": "scatter"
           }
          ],
          "scatter3d": [
           {
            "line": {
             "colorbar": {
              "outlinewidth": 1,
              "tickcolor": "rgb(36,36,36)",
              "ticks": "outside"
             }
            },
            "marker": {
             "colorbar": {
              "outlinewidth": 1,
              "tickcolor": "rgb(36,36,36)",
              "ticks": "outside"
             }
            },
            "type": "scatter3d"
           }
          ],
          "scattercarpet": [
           {
            "marker": {
             "colorbar": {
              "outlinewidth": 1,
              "tickcolor": "rgb(36,36,36)",
              "ticks": "outside"
             }
            },
            "type": "scattercarpet"
           }
          ],
          "scattergeo": [
           {
            "marker": {
             "colorbar": {
              "outlinewidth": 1,
              "tickcolor": "rgb(36,36,36)",
              "ticks": "outside"
             }
            },
            "type": "scattergeo"
           }
          ],
          "scattergl": [
           {
            "marker": {
             "colorbar": {
              "outlinewidth": 1,
              "tickcolor": "rgb(36,36,36)",
              "ticks": "outside"
             }
            },
            "type": "scattergl"
           }
          ],
          "scattermapbox": [
           {
            "marker": {
             "colorbar": {
              "outlinewidth": 1,
              "tickcolor": "rgb(36,36,36)",
              "ticks": "outside"
             }
            },
            "type": "scattermapbox"
           }
          ],
          "scatterpolar": [
           {
            "marker": {
             "colorbar": {
              "outlinewidth": 1,
              "tickcolor": "rgb(36,36,36)",
              "ticks": "outside"
             }
            },
            "type": "scatterpolar"
           }
          ],
          "scatterpolargl": [
           {
            "marker": {
             "colorbar": {
              "outlinewidth": 1,
              "tickcolor": "rgb(36,36,36)",
              "ticks": "outside"
             }
            },
            "type": "scatterpolargl"
           }
          ],
          "scatterternary": [
           {
            "marker": {
             "colorbar": {
              "outlinewidth": 1,
              "tickcolor": "rgb(36,36,36)",
              "ticks": "outside"
             }
            },
            "type": "scatterternary"
           }
          ],
          "surface": [
           {
            "colorbar": {
             "outlinewidth": 1,
             "tickcolor": "rgb(36,36,36)",
             "ticks": "outside"
            },
            "colorscale": [
             [
              0,
              "#440154"
             ],
             [
              0.1111111111111111,
              "#482878"
             ],
             [
              0.2222222222222222,
              "#3e4989"
             ],
             [
              0.3333333333333333,
              "#31688e"
             ],
             [
              0.4444444444444444,
              "#26828e"
             ],
             [
              0.5555555555555556,
              "#1f9e89"
             ],
             [
              0.6666666666666666,
              "#35b779"
             ],
             [
              0.7777777777777778,
              "#6ece58"
             ],
             [
              0.8888888888888888,
              "#b5de2b"
             ],
             [
              1,
              "#fde725"
             ]
            ],
            "type": "surface"
           }
          ],
          "table": [
           {
            "cells": {
             "fill": {
              "color": "rgb(237,237,237)"
             },
             "line": {
              "color": "white"
             }
            },
            "header": {
             "fill": {
              "color": "rgb(217,217,217)"
             },
             "line": {
              "color": "white"
             }
            },
            "type": "table"
           }
          ]
         },
         "layout": {
          "annotationdefaults": {
           "arrowhead": 0,
           "arrowwidth": 1
          },
          "autotypenumbers": "strict",
          "coloraxis": {
           "colorbar": {
            "outlinewidth": 1,
            "tickcolor": "rgb(36,36,36)",
            "ticks": "outside"
           }
          },
          "colorscale": {
           "diverging": [
            [
             0,
             "rgb(103,0,31)"
            ],
            [
             0.1,
             "rgb(178,24,43)"
            ],
            [
             0.2,
             "rgb(214,96,77)"
            ],
            [
             0.3,
             "rgb(244,165,130)"
            ],
            [
             0.4,
             "rgb(253,219,199)"
            ],
            [
             0.5,
             "rgb(247,247,247)"
            ],
            [
             0.6,
             "rgb(209,229,240)"
            ],
            [
             0.7,
             "rgb(146,197,222)"
            ],
            [
             0.8,
             "rgb(67,147,195)"
            ],
            [
             0.9,
             "rgb(33,102,172)"
            ],
            [
             1,
             "rgb(5,48,97)"
            ]
           ],
           "sequential": [
            [
             0,
             "#440154"
            ],
            [
             0.1111111111111111,
             "#482878"
            ],
            [
             0.2222222222222222,
             "#3e4989"
            ],
            [
             0.3333333333333333,
             "#31688e"
            ],
            [
             0.4444444444444444,
             "#26828e"
            ],
            [
             0.5555555555555556,
             "#1f9e89"
            ],
            [
             0.6666666666666666,
             "#35b779"
            ],
            [
             0.7777777777777778,
             "#6ece58"
            ],
            [
             0.8888888888888888,
             "#b5de2b"
            ],
            [
             1,
             "#fde725"
            ]
           ],
           "sequentialminus": [
            [
             0,
             "#440154"
            ],
            [
             0.1111111111111111,
             "#482878"
            ],
            [
             0.2222222222222222,
             "#3e4989"
            ],
            [
             0.3333333333333333,
             "#31688e"
            ],
            [
             0.4444444444444444,
             "#26828e"
            ],
            [
             0.5555555555555556,
             "#1f9e89"
            ],
            [
             0.6666666666666666,
             "#35b779"
            ],
            [
             0.7777777777777778,
             "#6ece58"
            ],
            [
             0.8888888888888888,
             "#b5de2b"
            ],
            [
             1,
             "#fde725"
            ]
           ]
          },
          "colorway": [
           "#1F77B4",
           "#FF7F0E",
           "#2CA02C",
           "#D62728",
           "#9467BD",
           "#8C564B",
           "#E377C2",
           "#7F7F7F",
           "#BCBD22",
           "#17BECF"
          ],
          "font": {
           "color": "rgb(36,36,36)"
          },
          "geo": {
           "bgcolor": "white",
           "lakecolor": "white",
           "landcolor": "white",
           "showlakes": true,
           "showland": true,
           "subunitcolor": "white"
          },
          "hoverlabel": {
           "align": "left"
          },
          "hovermode": "closest",
          "mapbox": {
           "style": "light"
          },
          "paper_bgcolor": "white",
          "plot_bgcolor": "white",
          "polar": {
           "angularaxis": {
            "gridcolor": "rgb(232,232,232)",
            "linecolor": "rgb(36,36,36)",
            "showgrid": false,
            "showline": true,
            "ticks": "outside"
           },
           "bgcolor": "white",
           "radialaxis": {
            "gridcolor": "rgb(232,232,232)",
            "linecolor": "rgb(36,36,36)",
            "showgrid": false,
            "showline": true,
            "ticks": "outside"
           }
          },
          "scene": {
           "xaxis": {
            "backgroundcolor": "white",
            "gridcolor": "rgb(232,232,232)",
            "gridwidth": 2,
            "linecolor": "rgb(36,36,36)",
            "showbackground": true,
            "showgrid": false,
            "showline": true,
            "ticks": "outside",
            "zeroline": false,
            "zerolinecolor": "rgb(36,36,36)"
           },
           "yaxis": {
            "backgroundcolor": "white",
            "gridcolor": "rgb(232,232,232)",
            "gridwidth": 2,
            "linecolor": "rgb(36,36,36)",
            "showbackground": true,
            "showgrid": false,
            "showline": true,
            "ticks": "outside",
            "zeroline": false,
            "zerolinecolor": "rgb(36,36,36)"
           },
           "zaxis": {
            "backgroundcolor": "white",
            "gridcolor": "rgb(232,232,232)",
            "gridwidth": 2,
            "linecolor": "rgb(36,36,36)",
            "showbackground": true,
            "showgrid": false,
            "showline": true,
            "ticks": "outside",
            "zeroline": false,
            "zerolinecolor": "rgb(36,36,36)"
           }
          },
          "shapedefaults": {
           "fillcolor": "black",
           "line": {
            "width": 0
           },
           "opacity": 0.3
          },
          "ternary": {
           "aaxis": {
            "gridcolor": "rgb(232,232,232)",
            "linecolor": "rgb(36,36,36)",
            "showgrid": false,
            "showline": true,
            "ticks": "outside"
           },
           "baxis": {
            "gridcolor": "rgb(232,232,232)",
            "linecolor": "rgb(36,36,36)",
            "showgrid": false,
            "showline": true,
            "ticks": "outside"
           },
           "bgcolor": "white",
           "caxis": {
            "gridcolor": "rgb(232,232,232)",
            "linecolor": "rgb(36,36,36)",
            "showgrid": false,
            "showline": true,
            "ticks": "outside"
           }
          },
          "title": {
           "x": 0.05
          },
          "xaxis": {
           "automargin": true,
           "gridcolor": "rgb(232,232,232)",
           "linecolor": "rgb(36,36,36)",
           "showgrid": false,
           "showline": true,
           "ticks": "outside",
           "title": {
            "standoff": 15
           },
           "zeroline": false,
           "zerolinecolor": "rgb(36,36,36)"
          },
          "yaxis": {
           "automargin": true,
           "gridcolor": "rgb(232,232,232)",
           "linecolor": "rgb(36,36,36)",
           "showgrid": false,
           "showline": true,
           "ticks": "outside",
           "title": {
            "standoff": 15
           },
           "zeroline": false,
           "zerolinecolor": "rgb(36,36,36)"
          }
         }
        },
        "title": {
         "font": {
          "color": "Black",
          "size": 22
         },
         "text": "<b>Intertopic Distance Map</b>",
         "x": 0.5,
         "xanchor": "center",
         "y": 0.95,
         "yanchor": "top"
        },
        "width": 650,
        "xaxis": {
         "anchor": "y",
         "domain": [
          0,
          1
         ],
         "range": [
          -9.36247878074646,
          18.28106780052185
         ],
         "title": {
          "text": ""
         },
         "visible": false
        },
        "yaxis": {
         "anchor": "x",
         "domain": [
          0,
          1
         ],
         "range": [
          -3.8275463700294496,
          11.489609622955323
         ],
         "title": {
          "text": ""
         },
         "visible": false
        }
       }
      }
     },
     "metadata": {},
     "output_type": "display_data"
    }
   ],
   "source": [
    "topic_model.visualize_topics()"
   ]
  },
  {
   "cell_type": "code",
   "execution_count": 14,
   "metadata": {},
   "outputs": [],
   "source": [
    "#topics_per_class = topic_model.topics_per_class(docs, classes=df.Id)\n",
    "#topic_model.visualize_topics_per_class(topics_per_class)"
   ]
  },
  {
   "cell_type": "code",
   "execution_count": 15,
   "metadata": {},
   "outputs": [],
   "source": [
    "# hierarchical_topics = topic_model.hierarchical_topics(docs)\n",
    "# topic_model.visualize_hierarchy(hierarchical_topics=hierarchical_topics)"
   ]
  },
  {
   "cell_type": "code",
   "execution_count": 16,
   "metadata": {},
   "outputs": [],
   "source": [
    "df['one_topic'] = topics\n",
    "topic_name_to_id = dict(zip(topic_model.get_topic_info().Topic, topic_model.get_topic_info().Name))\n",
    "df['one_topic_name'] = df['one_topic'].map(topic_name_to_id)"
   ]
  },
  {
   "cell_type": "markdown",
   "metadata": {},
   "source": [
    "# Topic Distribution (More than one topic per documents) \n",
    "- To reduce the numbers of outliers and avoid False Positive/Negative (useful when looking at one specif topic)"
   ]
  },
  {
   "cell_type": "code",
   "execution_count": 17,
   "metadata": {},
   "outputs": [
    {
     "name": "stderr",
     "output_type": "stream",
     "text": [
      "100%|██████████| 1/1 [00:00<00:00,  9.14it/s]\n"
     ]
    }
   ],
   "source": [
    "topic_distr, topic_token_distr = topic_model.approximate_distribution(\n",
    "      docs, window = 5, calculate_tokens=True)"
   ]
  },
  {
   "cell_type": "code",
   "execution_count": 18,
   "metadata": {},
   "outputs": [
    {
     "name": "stderr",
     "output_type": "stream",
     "text": [
      "100%|██████████| 350/350 [00:02<00:00, 166.35it/s]\n"
     ]
    },
    {
     "data": {
      "application/vnd.plotly.v1+json": {
       "config": {
        "plotlyServerURL": "https://plot.ly"
       },
       "data": [
        {
         "fillpattern": {
          "shape": ""
         },
         "hovertemplate": "number of topics=0<br>threshold=%{x}<br>share of reviews, %=%{y}<extra></extra>",
         "legendgroup": "0",
         "line": {
          "color": "rgb(255,255,217)"
         },
         "marker": {
          "symbol": "circle"
         },
         "mode": "lines",
         "name": "0",
         "orientation": "v",
         "showlegend": true,
         "stackgroup": "1",
         "type": "scatter",
         "x": [
          0,
          0.001,
          0.002,
          0.003,
          0.004,
          0.005,
          0.006,
          0.007,
          0.008,
          0.009000000000000001,
          0.01,
          0.011,
          0.012,
          0.013000000000000001,
          0.014,
          0.015,
          0.016,
          0.017,
          0.018000000000000002,
          0.019,
          0.02,
          0.021,
          0.022,
          0.023,
          0.024,
          0.025,
          0.026000000000000002,
          0.027,
          0.028,
          0.029,
          0.03,
          0.031,
          0.032,
          0.033,
          0.034,
          0.035,
          0.036000000000000004,
          0.037,
          0.038,
          0.039,
          0.04,
          0.041,
          0.042,
          0.043000000000000003,
          0.044,
          0.045,
          0.046,
          0.047,
          0.048,
          0.049,
          0.05,
          0.051000000000000004,
          0.052000000000000005,
          0.053,
          0.054,
          0.055,
          0.056,
          0.057,
          0.058,
          0.059000000000000004,
          0.06,
          0.061,
          0.062,
          0.063,
          0.064,
          0.065,
          0.066,
          0.067,
          0.068,
          0.069,
          0.07,
          0.07100000000000001,
          0.07200000000000001,
          0.073,
          0.074,
          0.075,
          0.076,
          0.077,
          0.078,
          0.079,
          0.08,
          0.081,
          0.082,
          0.083,
          0.084,
          0.085,
          0.08600000000000001,
          0.08700000000000001,
          0.088,
          0.089,
          0.09,
          0.091,
          0.092,
          0.093,
          0.094,
          0.095,
          0.096,
          0.097,
          0.098,
          0.099,
          0.1,
          0.101,
          0.10200000000000001,
          0.10300000000000001,
          0.10400000000000001,
          0.105,
          0.106,
          0.107,
          0.108,
          0.109,
          0.11,
          0.111,
          0.112,
          0.113,
          0.114,
          0.115,
          0.116,
          0.117,
          0.11800000000000001,
          0.11900000000000001,
          0.12,
          0.121,
          0.122,
          0.123,
          0.124,
          0.125,
          0.126,
          0.127,
          0.128,
          0.129,
          0.13,
          0.131,
          0.132,
          0.133,
          0.134,
          0.135,
          0.136,
          0.137,
          0.138,
          0.139,
          0.14,
          0.14100000000000001,
          0.14200000000000002,
          0.14300000000000002,
          0.14400000000000002,
          0.145,
          0.146,
          0.147,
          0.148,
          0.149,
          0.15,
          0.151,
          0.152,
          0.153,
          0.154,
          0.155,
          0.156,
          0.157,
          0.158,
          0.159,
          0.16,
          0.161,
          0.162,
          0.163,
          0.164,
          0.165,
          0.166,
          0.167,
          0.168,
          0.169,
          0.17,
          0.171,
          0.17200000000000001,
          0.17300000000000001,
          0.17400000000000002,
          0.17500000000000002,
          0.176,
          0.177,
          0.178,
          0.179,
          0.18,
          0.181,
          0.182,
          0.183,
          0.184,
          0.185,
          0.186,
          0.187,
          0.188,
          0.189,
          0.19,
          0.191,
          0.192,
          0.193,
          0.194,
          0.195,
          0.196,
          0.197,
          0.198,
          0.199,
          0.2,
          0.201,
          0.202,
          0.203,
          0.20400000000000001,
          0.20500000000000002,
          0.20600000000000002,
          0.20700000000000002,
          0.20800000000000002,
          0.209,
          0.21,
          0.211,
          0.212,
          0.213,
          0.214,
          0.215,
          0.216,
          0.217,
          0.218,
          0.219,
          0.22,
          0.221,
          0.222,
          0.223,
          0.224,
          0.225,
          0.226,
          0.227,
          0.228,
          0.229,
          0.23,
          0.231,
          0.232,
          0.233,
          0.234,
          0.23500000000000001,
          0.23600000000000002,
          0.23700000000000002,
          0.23800000000000002,
          0.23900000000000002,
          0.24,
          0.241,
          0.242,
          0.243,
          0.244,
          0.245,
          0.246,
          0.247,
          0.248,
          0.249,
          0.25,
          0.251,
          0.252,
          0.253,
          0.254,
          0.255,
          0.256,
          0.257,
          0.258,
          0.259,
          0.26,
          0.261,
          0.262,
          0.263,
          0.264,
          0.265,
          0.266,
          0.267,
          0.268,
          0.269,
          0.27,
          0.271,
          0.272,
          0.273,
          0.274,
          0.275,
          0.276,
          0.277,
          0.278,
          0.279,
          0.28,
          0.281,
          0.28200000000000003,
          0.28300000000000003,
          0.28400000000000003,
          0.28500000000000003,
          0.28600000000000003,
          0.28700000000000003,
          0.28800000000000003,
          0.289,
          0.29,
          0.291,
          0.292,
          0.293,
          0.294,
          0.295,
          0.296,
          0.297,
          0.298,
          0.299,
          0.3,
          0.301,
          0.302,
          0.303,
          0.304,
          0.305,
          0.306,
          0.307,
          0.308,
          0.309,
          0.31,
          0.311,
          0.312,
          0.313,
          0.314,
          0.315,
          0.316,
          0.317,
          0.318,
          0.319,
          0.32,
          0.321,
          0.322,
          0.323,
          0.324,
          0.325,
          0.326,
          0.327,
          0.328,
          0.329,
          0.33,
          0.331,
          0.332,
          0.333,
          0.334,
          0.335,
          0.336,
          0.337,
          0.338,
          0.339,
          0.34,
          0.341,
          0.342,
          0.343,
          0.34400000000000003,
          0.34500000000000003,
          0.34600000000000003,
          0.34700000000000003,
          0.34800000000000003,
          0.34900000000000003
         ],
         "xaxis": "x",
         "y": [
          0,
          11.22754491017964,
          11.22754491017964,
          11.22754491017964,
          11.22754491017964,
          11.22754491017964,
          11.22754491017964,
          11.22754491017964,
          11.22754491017964,
          11.22754491017964,
          11.22754491017964,
          11.22754491017964,
          11.22754491017964,
          11.22754491017964,
          11.22754491017964,
          11.22754491017964,
          11.22754491017964,
          11.22754491017964,
          11.22754491017964,
          11.22754491017964,
          11.22754491017964,
          11.22754491017964,
          11.22754491017964,
          11.22754491017964,
          11.22754491017964,
          11.22754491017964,
          11.22754491017964,
          11.22754491017964,
          11.22754491017964,
          11.22754491017964,
          11.22754491017964,
          11.22754491017964,
          11.22754491017964,
          11.22754491017964,
          11.22754491017964,
          11.22754491017964,
          11.22754491017964,
          11.22754491017964,
          11.22754491017964,
          11.22754491017964,
          11.22754491017964,
          11.22754491017964,
          11.22754491017964,
          11.22754491017964,
          11.22754491017964,
          11.22754491017964,
          11.22754491017964,
          11.22754491017964,
          11.22754491017964,
          11.22754491017964,
          11.22754491017964,
          11.22754491017964,
          11.22754491017964,
          11.22754491017964,
          11.22754491017964,
          11.22754491017964,
          11.22754491017964,
          11.22754491017964,
          11.22754491017964,
          11.22754491017964,
          11.22754491017964,
          11.22754491017964,
          11.22754491017964,
          11.22754491017964,
          11.22754491017964,
          11.22754491017964,
          11.22754491017964,
          11.22754491017964,
          11.22754491017964,
          11.22754491017964,
          11.22754491017964,
          11.22754491017964,
          11.22754491017964,
          11.22754491017964,
          11.22754491017964,
          11.22754491017964,
          11.22754491017964,
          11.22754491017964,
          11.22754491017964,
          11.22754491017964,
          11.22754491017964,
          11.22754491017964,
          11.22754491017964,
          11.22754491017964,
          11.22754491017964,
          11.22754491017964,
          11.22754491017964,
          11.22754491017964,
          11.22754491017964,
          11.22754491017964,
          11.22754491017964,
          11.22754491017964,
          11.22754491017964,
          11.22754491017964,
          11.22754491017964,
          11.22754491017964,
          11.22754491017964,
          11.22754491017964,
          11.22754491017964,
          11.22754491017964,
          11.22754491017964,
          11.22754491017964,
          11.22754491017964,
          11.22754491017964,
          11.22754491017964,
          11.22754491017964,
          11.22754491017964,
          11.22754491017964,
          11.22754491017964,
          11.22754491017964,
          11.22754491017964,
          11.22754491017964,
          11.22754491017964,
          11.22754491017964,
          11.22754491017964,
          11.22754491017964,
          11.22754491017964,
          11.22754491017964,
          11.22754491017964,
          11.22754491017964,
          11.22754491017964,
          11.22754491017964,
          11.22754491017964,
          11.22754491017964,
          11.22754491017964,
          11.22754491017964,
          11.22754491017964,
          11.22754491017964,
          11.22754491017964,
          11.22754491017964,
          11.22754491017964,
          11.22754491017964,
          11.22754491017964,
          11.22754491017964,
          11.22754491017964,
          11.22754491017964,
          11.22754491017964,
          11.22754491017964,
          11.22754491017964,
          11.22754491017964,
          11.22754491017964,
          11.22754491017964,
          11.22754491017964,
          11.22754491017964,
          11.22754491017964,
          11.22754491017964,
          11.22754491017964,
          11.22754491017964,
          11.22754491017964,
          11.22754491017964,
          11.22754491017964,
          11.22754491017964,
          11.22754491017964,
          11.22754491017964,
          11.22754491017964,
          11.22754491017964,
          11.22754491017964,
          11.22754491017964,
          11.22754491017964,
          11.22754491017964,
          11.22754491017964,
          11.22754491017964,
          11.22754491017964,
          11.22754491017964,
          11.22754491017964,
          11.22754491017964,
          11.22754491017964,
          11.22754491017964,
          11.22754491017964,
          11.22754491017964,
          11.22754491017964,
          11.377245508982035,
          11.377245508982035,
          11.377245508982035,
          11.377245508982035,
          11.377245508982035,
          11.377245508982035,
          11.377245508982035,
          11.377245508982035,
          11.377245508982035,
          11.377245508982035,
          11.377245508982035,
          11.377245508982035,
          11.377245508982035,
          11.377245508982035,
          11.377245508982035,
          11.377245508982035,
          11.377245508982035,
          11.377245508982035,
          11.377245508982035,
          11.377245508982035,
          11.377245508982035,
          11.377245508982035,
          11.377245508982035,
          11.377245508982035,
          11.377245508982035,
          11.377245508982035,
          11.377245508982035,
          11.377245508982035,
          11.377245508982035,
          11.377245508982035,
          11.377245508982035,
          11.377245508982035,
          11.52694610778443,
          11.676646706586826,
          11.676646706586826,
          11.676646706586826,
          11.676646706586826,
          11.676646706586826,
          11.676646706586826,
          11.826347305389222,
          11.826347305389222,
          11.826347305389222,
          11.826347305389222,
          11.826347305389222,
          11.826347305389222,
          11.826347305389222,
          12.125748502994012,
          12.125748502994012,
          12.275449101796408,
          12.275449101796408,
          12.275449101796408,
          12.425149700598803,
          12.425149700598803,
          12.425149700598803,
          12.425149700598803,
          12.425149700598803,
          12.574850299401197,
          12.574850299401197,
          12.574850299401197,
          12.574850299401197,
          12.574850299401197,
          12.574850299401197,
          12.574850299401197,
          12.574850299401197,
          12.724550898203592,
          12.724550898203592,
          12.724550898203592,
          12.724550898203592,
          12.724550898203592,
          12.724550898203592,
          12.724550898203592,
          12.724550898203592,
          12.874251497005988,
          12.874251497005988,
          12.874251497005988,
          12.874251497005988,
          12.874251497005988,
          13.023952095808383,
          13.023952095808383,
          13.023952095808383,
          13.023952095808383,
          13.173652694610778,
          13.173652694610778,
          13.323353293413174,
          13.323353293413174,
          13.323353293413174,
          13.323353293413174,
          13.323353293413174,
          13.323353293413174,
          13.47305389221557,
          13.47305389221557,
          13.47305389221557,
          13.47305389221557,
          13.47305389221557,
          13.77245508982036,
          13.77245508982036,
          13.77245508982036,
          13.922155688622755,
          14.221556886227544,
          14.221556886227544,
          14.37125748502994,
          14.37125748502994,
          14.37125748502994,
          14.520958083832335,
          14.520958083832335,
          14.520958083832335,
          14.520958083832335,
          14.520958083832335,
          14.520958083832335,
          14.67065868263473,
          14.67065868263473,
          14.67065868263473,
          14.67065868263473,
          14.67065868263473,
          14.67065868263473,
          14.67065868263473,
          14.67065868263473,
          14.67065868263473,
          14.67065868263473,
          14.820359281437126,
          14.970059880239521,
          14.970059880239521,
          14.970059880239521,
          15.419161676646707,
          15.419161676646707,
          15.718562874251496,
          16.017964071856287,
          16.167664670658684,
          16.167664670658684,
          16.167664670658684,
          16.167664670658684,
          16.317365269461078,
          16.46706586826347,
          16.46706586826347,
          16.46706586826347,
          16.46706586826347,
          16.46706586826347,
          16.46706586826347,
          16.61676646706587,
          16.61676646706587,
          16.61676646706587,
          16.61676646706587,
          16.61676646706587,
          16.61676646706587,
          16.766467065868262,
          16.766467065868262,
          16.766467065868262,
          16.766467065868262,
          16.766467065868262,
          16.766467065868262,
          16.766467065868262,
          16.766467065868262,
          17.065868263473053,
          17.21556886227545,
          17.365269461077844,
          17.365269461077844,
          17.365269461077844,
          17.365269461077844,
          17.51497005988024,
          17.51497005988024,
          17.51497005988024,
          17.51497005988024,
          17.51497005988024,
          17.51497005988024,
          17.664670658682635,
          17.81437125748503,
          17.81437125748503,
          17.964071856287426,
          17.964071856287426,
          17.964071856287426,
          18.263473053892216,
          18.41317365269461,
          18.41317365269461,
          18.562874251497007,
          18.7125748502994,
          18.862275449101798,
          19.311377245508982,
          19.461077844311376,
          19.760479041916167
         ],
         "yaxis": "y"
        },
        {
         "fillpattern": {
          "shape": ""
         },
         "hovertemplate": "number of topics=1<br>threshold=%{x}<br>share of reviews, %=%{y}<extra></extra>",
         "legendgroup": "1",
         "line": {
          "color": "rgb(127,205,187)"
         },
         "marker": {
          "symbol": "circle"
         },
         "mode": "lines",
         "name": "1",
         "orientation": "v",
         "showlegend": true,
         "stackgroup": "1",
         "type": "scatter",
         "x": [
          0,
          0.001,
          0.002,
          0.003,
          0.004,
          0.005,
          0.006,
          0.007,
          0.008,
          0.009000000000000001,
          0.01,
          0.011,
          0.012,
          0.013000000000000001,
          0.014,
          0.015,
          0.016,
          0.017,
          0.018000000000000002,
          0.019,
          0.02,
          0.021,
          0.022,
          0.023,
          0.024,
          0.025,
          0.026000000000000002,
          0.027,
          0.028,
          0.029,
          0.03,
          0.031,
          0.032,
          0.033,
          0.034,
          0.035,
          0.036000000000000004,
          0.037,
          0.038,
          0.039,
          0.04,
          0.041,
          0.042,
          0.043000000000000003,
          0.044,
          0.045,
          0.046,
          0.047,
          0.048,
          0.049,
          0.05,
          0.051000000000000004,
          0.052000000000000005,
          0.053,
          0.054,
          0.055,
          0.056,
          0.057,
          0.058,
          0.059000000000000004,
          0.06,
          0.061,
          0.062,
          0.063,
          0.064,
          0.065,
          0.066,
          0.067,
          0.068,
          0.069,
          0.07,
          0.07100000000000001,
          0.07200000000000001,
          0.073,
          0.074,
          0.075,
          0.076,
          0.077,
          0.078,
          0.079,
          0.08,
          0.081,
          0.082,
          0.083,
          0.084,
          0.085,
          0.08600000000000001,
          0.08700000000000001,
          0.088,
          0.089,
          0.09,
          0.091,
          0.092,
          0.093,
          0.094,
          0.095,
          0.096,
          0.097,
          0.098,
          0.099,
          0.1,
          0.101,
          0.10200000000000001,
          0.10300000000000001,
          0.10400000000000001,
          0.105,
          0.106,
          0.107,
          0.108,
          0.109,
          0.11,
          0.111,
          0.112,
          0.113,
          0.114,
          0.115,
          0.116,
          0.117,
          0.11800000000000001,
          0.11900000000000001,
          0.12,
          0.121,
          0.122,
          0.123,
          0.124,
          0.125,
          0.126,
          0.127,
          0.128,
          0.129,
          0.13,
          0.131,
          0.132,
          0.133,
          0.134,
          0.135,
          0.136,
          0.137,
          0.138,
          0.139,
          0.14,
          0.14100000000000001,
          0.14200000000000002,
          0.14300000000000002,
          0.14400000000000002,
          0.145,
          0.146,
          0.147,
          0.148,
          0.149,
          0.15,
          0.151,
          0.152,
          0.153,
          0.154,
          0.155,
          0.156,
          0.157,
          0.158,
          0.159,
          0.16,
          0.161,
          0.162,
          0.163,
          0.164,
          0.165,
          0.166,
          0.167,
          0.168,
          0.169,
          0.17,
          0.171,
          0.17200000000000001,
          0.17300000000000001,
          0.17400000000000002,
          0.17500000000000002,
          0.176,
          0.177,
          0.178,
          0.179,
          0.18,
          0.181,
          0.182,
          0.183,
          0.184,
          0.185,
          0.186,
          0.187,
          0.188,
          0.189,
          0.19,
          0.191,
          0.192,
          0.193,
          0.194,
          0.195,
          0.196,
          0.197,
          0.198,
          0.199,
          0.2,
          0.201,
          0.202,
          0.203,
          0.20400000000000001,
          0.20500000000000002,
          0.20600000000000002,
          0.20700000000000002,
          0.20800000000000002,
          0.209,
          0.21,
          0.211,
          0.212,
          0.213,
          0.214,
          0.215,
          0.216,
          0.217,
          0.218,
          0.219,
          0.22,
          0.221,
          0.222,
          0.223,
          0.224,
          0.225,
          0.226,
          0.227,
          0.228,
          0.229,
          0.23,
          0.231,
          0.232,
          0.233,
          0.234,
          0.23500000000000001,
          0.23600000000000002,
          0.23700000000000002,
          0.23800000000000002,
          0.23900000000000002,
          0.24,
          0.241,
          0.242,
          0.243,
          0.244,
          0.245,
          0.246,
          0.247,
          0.248,
          0.249,
          0.25,
          0.251,
          0.252,
          0.253,
          0.254,
          0.255,
          0.256,
          0.257,
          0.258,
          0.259,
          0.26,
          0.261,
          0.262,
          0.263,
          0.264,
          0.265,
          0.266,
          0.267,
          0.268,
          0.269,
          0.27,
          0.271,
          0.272,
          0.273,
          0.274,
          0.275,
          0.276,
          0.277,
          0.278,
          0.279,
          0.28,
          0.281,
          0.28200000000000003,
          0.28300000000000003,
          0.28400000000000003,
          0.28500000000000003,
          0.28600000000000003,
          0.28700000000000003,
          0.28800000000000003,
          0.289,
          0.29,
          0.291,
          0.292,
          0.293,
          0.294,
          0.295,
          0.296,
          0.297,
          0.298,
          0.299,
          0.3,
          0.301,
          0.302,
          0.303,
          0.304,
          0.305,
          0.306,
          0.307,
          0.308,
          0.309,
          0.31,
          0.311,
          0.312,
          0.313,
          0.314,
          0.315,
          0.316,
          0.317,
          0.318,
          0.319,
          0.32,
          0.321,
          0.322,
          0.323,
          0.324,
          0.325,
          0.326,
          0.327,
          0.328,
          0.329,
          0.33,
          0.331,
          0.332,
          0.333,
          0.334,
          0.335,
          0.336,
          0.337,
          0.338,
          0.339,
          0.34,
          0.341,
          0.342,
          0.343,
          0.34400000000000003,
          0.34500000000000003,
          0.34600000000000003,
          0.34700000000000003,
          0.34800000000000003,
          0.34900000000000003
         ],
         "xaxis": "x",
         "y": [
          0,
          32.78443113772455,
          32.78443113772455,
          32.78443113772455,
          32.78443113772455,
          32.78443113772455,
          32.78443113772455,
          32.78443113772455,
          32.78443113772455,
          32.78443113772455,
          32.78443113772455,
          32.78443113772455,
          32.78443113772455,
          32.78443113772455,
          32.78443113772455,
          32.78443113772455,
          32.78443113772455,
          32.78443113772455,
          32.78443113772455,
          32.78443113772455,
          32.78443113772455,
          32.78443113772455,
          32.78443113772455,
          32.78443113772455,
          32.78443113772455,
          32.78443113772455,
          32.78443113772455,
          32.78443113772455,
          32.78443113772455,
          32.93413173652694,
          32.93413173652694,
          32.93413173652694,
          32.93413173652694,
          32.93413173652694,
          32.93413173652694,
          32.93413173652694,
          32.93413173652694,
          32.93413173652694,
          32.93413173652694,
          32.93413173652694,
          32.93413173652694,
          32.93413173652694,
          33.08383233532934,
          33.08383233532934,
          33.08383233532934,
          33.08383233532934,
          33.08383233532934,
          33.08383233532934,
          33.08383233532934,
          33.08383233532934,
          33.08383233532934,
          33.08383233532934,
          33.23353293413174,
          33.23353293413174,
          33.23353293413174,
          33.23353293413174,
          33.23353293413174,
          33.23353293413174,
          33.23353293413174,
          33.23353293413174,
          33.23353293413174,
          33.23353293413174,
          33.23353293413174,
          33.383233532934135,
          33.383233532934135,
          33.383233532934135,
          33.532934131736525,
          33.532934131736525,
          33.68263473053892,
          33.83233532934132,
          33.83233532934132,
          33.83233532934132,
          33.83233532934132,
          33.98203592814371,
          33.98203592814371,
          33.98203592814371,
          34.131736526946106,
          34.2814371257485,
          34.2814371257485,
          34.2814371257485,
          34.2814371257485,
          34.2814371257485,
          34.2814371257485,
          34.2814371257485,
          34.4311377245509,
          34.4311377245509,
          34.58083832335329,
          34.58083832335329,
          35.02994011976048,
          35.17964071856287,
          35.32934131736527,
          35.32934131736527,
          35.32934131736527,
          35.32934131736527,
          35.32934131736527,
          35.32934131736527,
          35.32934131736527,
          35.32934131736527,
          35.32934131736527,
          35.32934131736527,
          35.32934131736527,
          35.32934131736527,
          35.32934131736527,
          35.32934131736527,
          35.32934131736527,
          35.32934131736527,
          35.32934131736527,
          35.32934131736527,
          35.47904191616767,
          35.47904191616767,
          35.47904191616767,
          35.47904191616767,
          35.62874251497006,
          35.62874251497006,
          35.778443113772454,
          35.778443113772454,
          35.778443113772454,
          35.778443113772454,
          35.778443113772454,
          35.92814371257485,
          35.92814371257485,
          35.92814371257485,
          35.92814371257485,
          36.07784431137725,
          36.22754491017964,
          36.377245508982035,
          36.377245508982035,
          36.52694610778443,
          36.52694610778443,
          36.52694610778443,
          36.52694610778443,
          36.52694610778443,
          36.52694610778443,
          36.52694610778443,
          36.52694610778443,
          36.82634730538922,
          36.82634730538922,
          36.82634730538922,
          36.97604790419162,
          36.97604790419162,
          37.125748502994014,
          37.4251497005988,
          37.4251497005988,
          37.5748502994012,
          37.874251497005986,
          38.02395209580838,
          38.32335329341317,
          38.47305389221557,
          38.47305389221557,
          38.622754491017965,
          38.622754491017965,
          38.622754491017965,
          38.77245508982036,
          38.92215568862275,
          39.52095808383233,
          39.67065868263473,
          39.82035928143713,
          39.82035928143713,
          40.119760479041915,
          40.41916167664671,
          40.7185628742515,
          41.16766467065868,
          41.16766467065868,
          41.31736526946108,
          41.467065868263475,
          41.76646706586826,
          42.06586826347306,
          42.06586826347306,
          42.06586826347306,
          42.365269461077844,
          42.51497005988024,
          42.365269461077844,
          42.51497005988024,
          42.81437125748503,
          43.26347305389221,
          43.41317365269461,
          43.56287425149701,
          43.56287425149701,
          43.862275449101794,
          43.862275449101794,
          43.862275449101794,
          44.01197604790419,
          44.31137724550898,
          44.461077844311376,
          44.91017964071856,
          46.25748502994012,
          46.25748502994012,
          46.25748502994012,
          46.25748502994012,
          46.40718562874252,
          46.706586826347305,
          47.604790419161674,
          47.75449101796407,
          47.75449101796407,
          47.75449101796407,
          47.75449101796407,
          48.053892215568865,
          48.203592814371255,
          48.35329341317365,
          48.80239520958084,
          48.80239520958084,
          49.10179640718563,
          49.25149700598802,
          49.70059880239521,
          50.1497005988024,
          50.29940119760479,
          50.449101796407184,
          50.449101796407184,
          50.59880239520958,
          50.74850299401198,
          51.19760479041916,
          51.34730538922156,
          51.34730538922156,
          51.34730538922156,
          51.49700598802395,
          51.49700598802395,
          51.49700598802395,
          51.19760479041916,
          51.19760479041916,
          51.047904191616766,
          51.19760479041916,
          51.64670658682635,
          51.49700598802395,
          51.796407185628745,
          52.09580838323353,
          52.09580838323353,
          52.69461077844311,
          52.84431137724551,
          52.9940119760479,
          52.9940119760479,
          53.1437125748503,
          53.1437125748503,
          53.1437125748503,
          53.1437125748503,
          53.293413173652695,
          53.74251497005988,
          54.34131736526946,
          54.34131736526946,
          54.790419161676645,
          54.790419161676645,
          54.94011976047904,
          55.23952095808383,
          55.38922155688623,
          55.23952095808383,
          55.68862275449102,
          55.83832335329341,
          56.287425149700596,
          56.73652694610779,
          57.33532934131737,
          57.78443113772455,
          57.78443113772455,
          58.532934131736525,
          58.68263473053892,
          59.2814371257485,
          59.2814371257485,
          59.73053892215569,
          60.17964071856287,
          60.17964071856287,
          60.62874251497006,
          60.778443113772454,
          60.778443113772454,
          61.07784431137725,
          62.125748502994014,
          62.4251497005988,
          62.5748502994012,
          62.4251497005988,
          62.4251497005988,
          62.724550898203596,
          62.874251497005986,
          62.724550898203596,
          62.724550898203596,
          62.874251497005986,
          62.874251497005986,
          63.17365269461078,
          63.17365269461078,
          63.47305389221557,
          63.47305389221557,
          64.22155688622755,
          64.22155688622755,
          64.22155688622755,
          64.67065868263474,
          64.82035928143712,
          65.11976047904191,
          65.26946107784431,
          65.41916167664671,
          66.01796407185628,
          66.31736526946108,
          66.61676646706587,
          66.61676646706587,
          66.76646706586827,
          66.91616766467065,
          67.21556886227545,
          67.21556886227545,
          67.36526946107784,
          67.06586826347305,
          67.06586826347305,
          67.06586826347305,
          66.76646706586827,
          66.76646706586827,
          67.06586826347305,
          67.21556886227545,
          67.21556886227545,
          67.51497005988024,
          67.66467065868264,
          67.66467065868264,
          67.81437125748504,
          67.81437125748504,
          67.81437125748504,
          67.81437125748504,
          67.96407185628742,
          68.26347305389221,
          68.26347305389221,
          68.26347305389221,
          68.562874251497,
          68.7125748502994,
          68.562874251497,
          68.7125748502994,
          69.0119760479042,
          69.16167664670658,
          69.46107784431138,
          69.61077844311377,
          69.61077844311377,
          69.76047904191617,
          69.46107784431138,
          69.76047904191617,
          69.91017964071857,
          70.20958083832335,
          70.20958083832335,
          70.20958083832335,
          70.50898203592814,
          70.65868263473054,
          70.65868263473054,
          70.65868263473054,
          70.65868263473054,
          70.80838323353294,
          70.65868263473054,
          70.80838323353294,
          70.95808383233533,
          70.95808383233533,
          71.40718562874251,
          71.40718562874251,
          71.10778443113773,
          70.95808383233533,
          71.10778443113773,
          71.10778443113773,
          70.95808383233533,
          70.80838323353294,
          70.35928143712574,
          70.20958083832335,
          70.05988023952096
         ],
         "yaxis": "y"
        },
        {
         "fillpattern": {
          "shape": ""
         },
         "hovertemplate": "number of topics=2<br>threshold=%{x}<br>share of reviews, %=%{y}<extra></extra>",
         "legendgroup": "2",
         "line": {
          "color": "rgb(65,182,196)"
         },
         "marker": {
          "symbol": "circle"
         },
         "mode": "lines",
         "name": "2",
         "orientation": "v",
         "showlegend": true,
         "stackgroup": "1",
         "type": "scatter",
         "x": [
          0,
          0.001,
          0.002,
          0.003,
          0.004,
          0.005,
          0.006,
          0.007,
          0.008,
          0.009000000000000001,
          0.01,
          0.011,
          0.012,
          0.013000000000000001,
          0.014,
          0.015,
          0.016,
          0.017,
          0.018000000000000002,
          0.019,
          0.02,
          0.021,
          0.022,
          0.023,
          0.024,
          0.025,
          0.026000000000000002,
          0.027,
          0.028,
          0.029,
          0.03,
          0.031,
          0.032,
          0.033,
          0.034,
          0.035,
          0.036000000000000004,
          0.037,
          0.038,
          0.039,
          0.04,
          0.041,
          0.042,
          0.043000000000000003,
          0.044,
          0.045,
          0.046,
          0.047,
          0.048,
          0.049,
          0.05,
          0.051000000000000004,
          0.052000000000000005,
          0.053,
          0.054,
          0.055,
          0.056,
          0.057,
          0.058,
          0.059000000000000004,
          0.06,
          0.061,
          0.062,
          0.063,
          0.064,
          0.065,
          0.066,
          0.067,
          0.068,
          0.069,
          0.07,
          0.07100000000000001,
          0.07200000000000001,
          0.073,
          0.074,
          0.075,
          0.076,
          0.077,
          0.078,
          0.079,
          0.08,
          0.081,
          0.082,
          0.083,
          0.084,
          0.085,
          0.08600000000000001,
          0.08700000000000001,
          0.088,
          0.089,
          0.09,
          0.091,
          0.092,
          0.093,
          0.094,
          0.095,
          0.096,
          0.097,
          0.098,
          0.099,
          0.1,
          0.101,
          0.10200000000000001,
          0.10300000000000001,
          0.10400000000000001,
          0.105,
          0.106,
          0.107,
          0.108,
          0.109,
          0.11,
          0.111,
          0.112,
          0.113,
          0.114,
          0.115,
          0.116,
          0.117,
          0.11800000000000001,
          0.11900000000000001,
          0.12,
          0.121,
          0.122,
          0.123,
          0.124,
          0.125,
          0.126,
          0.127,
          0.128,
          0.129,
          0.13,
          0.131,
          0.132,
          0.133,
          0.134,
          0.135,
          0.136,
          0.137,
          0.138,
          0.139,
          0.14,
          0.14100000000000001,
          0.14200000000000002,
          0.14300000000000002,
          0.14400000000000002,
          0.145,
          0.146,
          0.147,
          0.148,
          0.149,
          0.15,
          0.151,
          0.152,
          0.153,
          0.154,
          0.155,
          0.156,
          0.157,
          0.158,
          0.159,
          0.16,
          0.161,
          0.162,
          0.163,
          0.164,
          0.165,
          0.166,
          0.167,
          0.168,
          0.169,
          0.17,
          0.171,
          0.17200000000000001,
          0.17300000000000001,
          0.17400000000000002,
          0.17500000000000002,
          0.176,
          0.177,
          0.178,
          0.179,
          0.18,
          0.181,
          0.182,
          0.183,
          0.184,
          0.185,
          0.186,
          0.187,
          0.188,
          0.189,
          0.19,
          0.191,
          0.192,
          0.193,
          0.194,
          0.195,
          0.196,
          0.197,
          0.198,
          0.199,
          0.2,
          0.201,
          0.202,
          0.203,
          0.20400000000000001,
          0.20500000000000002,
          0.20600000000000002,
          0.20700000000000002,
          0.20800000000000002,
          0.209,
          0.21,
          0.211,
          0.212,
          0.213,
          0.214,
          0.215,
          0.216,
          0.217,
          0.218,
          0.219,
          0.22,
          0.221,
          0.222,
          0.223,
          0.224,
          0.225,
          0.226,
          0.227,
          0.228,
          0.229,
          0.23,
          0.231,
          0.232,
          0.233,
          0.234,
          0.23500000000000001,
          0.23600000000000002,
          0.23700000000000002,
          0.23800000000000002,
          0.23900000000000002,
          0.24,
          0.241,
          0.242,
          0.243,
          0.244,
          0.245,
          0.246,
          0.247,
          0.248,
          0.249,
          0.25,
          0.251,
          0.252,
          0.253,
          0.254,
          0.255,
          0.256,
          0.257,
          0.258,
          0.259,
          0.26,
          0.261,
          0.262,
          0.263,
          0.264,
          0.265,
          0.266,
          0.267,
          0.268,
          0.269,
          0.27,
          0.271,
          0.272,
          0.273,
          0.274,
          0.275,
          0.276,
          0.277,
          0.278,
          0.279,
          0.28,
          0.281,
          0.28200000000000003,
          0.28300000000000003,
          0.28400000000000003,
          0.28500000000000003,
          0.28600000000000003,
          0.28700000000000003,
          0.28800000000000003,
          0.289,
          0.29,
          0.291,
          0.292,
          0.293,
          0.294,
          0.295,
          0.296,
          0.297,
          0.298,
          0.299,
          0.3,
          0.301,
          0.302,
          0.303,
          0.304,
          0.305,
          0.306,
          0.307,
          0.308,
          0.309,
          0.31,
          0.311,
          0.312,
          0.313,
          0.314,
          0.315,
          0.316,
          0.317,
          0.318,
          0.319,
          0.32,
          0.321,
          0.322,
          0.323,
          0.324,
          0.325,
          0.326,
          0.327,
          0.328,
          0.329,
          0.33,
          0.331,
          0.332,
          0.333,
          0.334,
          0.335,
          0.336,
          0.337,
          0.338,
          0.339,
          0.34,
          0.341,
          0.342,
          0.343,
          0.34400000000000003,
          0.34500000000000003,
          0.34600000000000003,
          0.34700000000000003,
          0.34800000000000003,
          0.34900000000000003
         ],
         "xaxis": "x",
         "y": [
          0,
          18.11377245508982,
          18.11377245508982,
          18.11377245508982,
          18.11377245508982,
          18.11377245508982,
          18.11377245508982,
          18.11377245508982,
          18.11377245508982,
          18.11377245508982,
          18.11377245508982,
          18.11377245508982,
          18.11377245508982,
          18.11377245508982,
          18.11377245508982,
          18.11377245508982,
          18.11377245508982,
          18.263473053892216,
          18.263473053892216,
          18.263473053892216,
          18.263473053892216,
          18.263473053892216,
          18.263473053892216,
          18.41317365269461,
          18.41317365269461,
          18.41317365269461,
          18.562874251497007,
          18.562874251497007,
          18.562874251497007,
          18.41317365269461,
          18.41317365269461,
          18.41317365269461,
          18.41317365269461,
          18.41317365269461,
          18.562874251497007,
          18.562874251497007,
          18.562874251497007,
          18.7125748502994,
          18.7125748502994,
          18.862275449101798,
          18.862275449101798,
          18.862275449101798,
          18.862275449101798,
          19.01197604790419,
          19.161676646706585,
          19.161676646706585,
          19.311377245508982,
          19.311377245508982,
          19.311377245508982,
          19.311377245508982,
          19.610778443113773,
          19.760479041916167,
          19.910179640718564,
          19.910179640718564,
          20.059880239520957,
          20.209580838323355,
          20.209580838323355,
          20.35928143712575,
          20.35928143712575,
          20.35928143712575,
          20.508982035928145,
          20.65868263473054,
          20.808383233532933,
          20.808383233532933,
          20.95808383233533,
          20.95808383233533,
          20.808383233532933,
          21.107784431137723,
          20.95808383233533,
          20.808383233532933,
          20.808383233532933,
          20.808383233532933,
          20.95808383233533,
          20.808383233532933,
          20.95808383233533,
          21.107784431137723,
          20.95808383233533,
          20.808383233532933,
          20.95808383233533,
          21.107784431137723,
          21.107784431137723,
          21.25748502994012,
          21.55688622754491,
          21.55688622754491,
          21.55688622754491,
          21.856287425149702,
          21.856287425149702,
          22.005988023952096,
          21.706586826347305,
          21.706586826347305,
          21.706586826347305,
          22.005988023952096,
          22.15568862275449,
          22.15568862275449,
          22.305389221556887,
          22.305389221556887,
          22.305389221556887,
          22.75449101796407,
          22.75449101796407,
          22.904191616766468,
          22.904191616766468,
          22.904191616766468,
          22.904191616766468,
          22.904191616766468,
          22.904191616766468,
          22.904191616766468,
          23.05389221556886,
          23.20359281437126,
          23.20359281437126,
          23.50299401197605,
          23.50299401197605,
          23.50299401197605,
          23.652694610778443,
          23.952095808383234,
          23.802395209580837,
          23.952095808383234,
          23.952095808383234,
          23.952095808383234,
          24.101796407185628,
          23.952095808383234,
          24.251497005988025,
          24.70059880239521,
          25.29940119760479,
          25.449101796407184,
          25.59880239520958,
          26.197604790419163,
          26.197604790419163,
          26.047904191616766,
          27.395209580838323,
          27.395209580838323,
          27.84431137724551,
          27.84431137724551,
          28.44311377245509,
          28.44311377245509,
          28.892215568862277,
          29.34131736526946,
          29.64071856287425,
          29.64071856287425,
          29.64071856287425,
          29.64071856287425,
          30.089820359281436,
          30.089820359281436,
          30.688622754491018,
          30.688622754491018,
          30.688622754491018,
          30.838323353293415,
          30.688622754491018,
          30.838323353293415,
          31.2874251497006,
          31.2874251497006,
          31.2874251497006,
          31.2874251497006,
          31.137724550898202,
          31.2874251497006,
          31.137724550898202,
          31.437125748502993,
          31.58682634730539,
          31.88622754491018,
          31.58682634730539,
          31.437125748502993,
          31.137724550898202,
          30.838323353293415,
          31.137724550898202,
          31.137724550898202,
          30.98802395209581,
          30.838323353293415,
          30.688622754491018,
          30.838323353293415,
          30.98802395209581,
          30.98802395209581,
          30.838323353293415,
          30.98802395209581,
          31.137724550898202,
          30.838323353293415,
          30.389221556886227,
          30.538922155688624,
          30.98802395209581,
          31.137724550898202,
          30.98802395209581,
          31.58682634730539,
          31.736526946107784,
          31.58682634730539,
          31.58682634730539,
          31.58682634730539,
          31.2874251497006,
          29.940119760479043,
          29.940119760479043,
          30.089820359281436,
          30.089820359281436,
          29.940119760479043,
          29.64071856287425,
          28.892215568862277,
          28.892215568862277,
          29.04191616766467,
          29.64071856287425,
          29.64071856287425,
          29.491017964071855,
          29.491017964071855,
          29.491017964071855,
          29.790419161676645,
          30.239520958083833,
          30.389221556886227,
          30.389221556886227,
          30.089820359281436,
          29.790419161676645,
          30.089820359281436,
          29.940119760479043,
          30.089820359281436,
          30.089820359281436,
          30.389221556886227,
          30.239520958083833,
          30.239520958083833,
          30.389221556886227,
          30.538922155688624,
          31.2874251497006,
          31.2874251497006,
          31.2874251497006,
          31.2874251497006,
          31.88622754491018,
          32.035928143712574,
          31.88622754491018,
          31.437125748502993,
          31.437125748502993,
          31.137724550898202,
          31.2874251497006,
          31.2874251497006,
          30.838323353293415,
          30.538922155688624,
          30.389221556886227,
          30.389221556886227,
          30.239520958083833,
          30.538922155688624,
          30.688622754491018,
          30.688622754491018,
          30.688622754491018,
          30.239520958083833,
          29.64071856287425,
          29.64071856287425,
          29.191616766467067,
          29.191616766467067,
          29.04191616766467,
          28.74251497005988,
          28.74251497005988,
          28.74251497005988,
          28.293413173652695,
          28.143712574850298,
          27.84431137724551,
          27.54491017964072,
          27.095808383233532,
          26.79640718562874,
          26.94610778443114,
          26.197604790419163,
          26.047904191616766,
          25.449101796407184,
          25.29940119760479,
          24.850299401197606,
          24.40119760479042,
          24.40119760479042,
          24.101796407185628,
          23.952095808383234,
          23.802395209580837,
          23.802395209580837,
          22.75449101796407,
          22.45508982035928,
          22.305389221556887,
          22.15568862275449,
          22.15568862275449,
          22.15568862275449,
          21.856287425149702,
          21.706586826347305,
          21.856287425149702,
          21.706586826347305,
          21.706586826347305,
          21.407185628742514,
          21.25748502994012,
          20.95808383233533,
          20.95808383233533,
          20.209580838323355,
          20.35928143712575,
          20.35928143712575,
          19.910179640718564,
          19.910179640718564,
          19.610778443113773,
          19.610778443113773,
          19.461077844311376,
          18.862275449101798,
          18.562874251497007,
          18.263473053892216,
          18.263473053892216,
          18.11377245508982,
          17.81437125748503,
          17.365269461077844,
          17.365269461077844,
          17.21556886227545,
          17.065868263473053,
          17.065868263473053,
          16.91616766467066,
          16.91616766467066,
          16.766467065868262,
          16.46706586826347,
          16.317365269461078,
          16.317365269461078,
          15.868263473053892,
          15.568862275449101,
          15.568862275449101,
          15.419161676646707,
          15.419161676646707,
          15.419161676646707,
          15.419161676646707,
          15.119760479041917,
          14.820359281437126,
          14.820359281437126,
          14.970059880239521,
          14.67065868263473,
          14.520958083832335,
          14.520958083832335,
          14.37125748502994,
          14.071856287425149,
          14.071856287425149,
          13.77245508982036,
          13.622754491017965,
          13.622754491017965,
          13.47305389221557,
          13.47305389221557,
          13.023952095808383,
          12.724550898203592,
          12.425149700598803,
          12.425149700598803,
          12.425149700598803,
          11.976047904191617,
          11.826347305389222,
          11.826347305389222,
          11.826347305389222,
          11.826347305389222,
          11.676646706586826,
          11.676646706586826,
          11.377245508982035,
          11.22754491017964,
          11.077844311377245,
          10.62874251497006,
          10.62874251497006,
          10.62874251497006,
          10.62874251497006,
          10.479041916167665,
          10.32934131736527,
          10.32934131736527,
          10.32934131736527,
          10.32934131736527,
          10.32934131736527,
          10.179640718562874
         ],
         "yaxis": "y"
        },
        {
         "fillpattern": {
          "shape": ""
         },
         "hovertemplate": "number of topics=3<br>threshold=%{x}<br>share of reviews, %=%{y}<extra></extra>",
         "legendgroup": "3",
         "line": {
          "color": "rgb(29,145,192)"
         },
         "marker": {
          "symbol": "circle"
         },
         "mode": "lines",
         "name": "3",
         "orientation": "v",
         "showlegend": true,
         "stackgroup": "1",
         "type": "scatter",
         "x": [
          0,
          0.001,
          0.002,
          0.003,
          0.004,
          0.005,
          0.006,
          0.007,
          0.008,
          0.009000000000000001,
          0.01,
          0.011,
          0.012,
          0.013000000000000001,
          0.014,
          0.015,
          0.016,
          0.017,
          0.018000000000000002,
          0.019,
          0.02,
          0.021,
          0.022,
          0.023,
          0.024,
          0.025,
          0.026000000000000002,
          0.027,
          0.028,
          0.029,
          0.03,
          0.031,
          0.032,
          0.033,
          0.034,
          0.035,
          0.036000000000000004,
          0.037,
          0.038,
          0.039,
          0.04,
          0.041,
          0.042,
          0.043000000000000003,
          0.044,
          0.045,
          0.046,
          0.047,
          0.048,
          0.049,
          0.05,
          0.051000000000000004,
          0.052000000000000005,
          0.053,
          0.054,
          0.055,
          0.056,
          0.057,
          0.058,
          0.059000000000000004,
          0.06,
          0.061,
          0.062,
          0.063,
          0.064,
          0.065,
          0.066,
          0.067,
          0.068,
          0.069,
          0.07,
          0.07100000000000001,
          0.07200000000000001,
          0.073,
          0.074,
          0.075,
          0.076,
          0.077,
          0.078,
          0.079,
          0.08,
          0.081,
          0.082,
          0.083,
          0.084,
          0.085,
          0.08600000000000001,
          0.08700000000000001,
          0.088,
          0.089,
          0.09,
          0.091,
          0.092,
          0.093,
          0.094,
          0.095,
          0.096,
          0.097,
          0.098,
          0.099,
          0.1,
          0.101,
          0.10200000000000001,
          0.10300000000000001,
          0.10400000000000001,
          0.105,
          0.106,
          0.107,
          0.108,
          0.109,
          0.11,
          0.111,
          0.112,
          0.113,
          0.114,
          0.115,
          0.116,
          0.117,
          0.11800000000000001,
          0.11900000000000001,
          0.12,
          0.121,
          0.122,
          0.123,
          0.124,
          0.125,
          0.126,
          0.127,
          0.128,
          0.129,
          0.13,
          0.131,
          0.132,
          0.133,
          0.134,
          0.135,
          0.136,
          0.137,
          0.138,
          0.139,
          0.14,
          0.14100000000000001,
          0.14200000000000002,
          0.14300000000000002,
          0.14400000000000002,
          0.145,
          0.146,
          0.147,
          0.148,
          0.149,
          0.15,
          0.151,
          0.152,
          0.153,
          0.154,
          0.155,
          0.156,
          0.157,
          0.158,
          0.159,
          0.16,
          0.161,
          0.162,
          0.163,
          0.164,
          0.165,
          0.166,
          0.167,
          0.168,
          0.169,
          0.17,
          0.171,
          0.17200000000000001,
          0.17300000000000001,
          0.17400000000000002,
          0.17500000000000002,
          0.176,
          0.177,
          0.178,
          0.179,
          0.18,
          0.181,
          0.182,
          0.183,
          0.184,
          0.185,
          0.186,
          0.187,
          0.188,
          0.189,
          0.19,
          0.191,
          0.192,
          0.193,
          0.194,
          0.195,
          0.196,
          0.197,
          0.198,
          0.199,
          0.2,
          0.201,
          0.202,
          0.203,
          0.20400000000000001,
          0.20500000000000002,
          0.20600000000000002,
          0.20700000000000002,
          0.20800000000000002,
          0.209,
          0.21,
          0.211,
          0.212,
          0.213,
          0.214,
          0.215,
          0.216,
          0.217,
          0.218,
          0.219,
          0.22,
          0.221,
          0.222,
          0.223,
          0.224,
          0.225,
          0.226,
          0.227,
          0.228,
          0.229,
          0.23,
          0.231,
          0.232,
          0.233,
          0.234,
          0.23500000000000001,
          0.23600000000000002,
          0.23700000000000002,
          0.23800000000000002,
          0.23900000000000002,
          0.24,
          0.241,
          0.242,
          0.243,
          0.244,
          0.245,
          0.246,
          0.247,
          0.248,
          0.249,
          0.25,
          0.251,
          0.252,
          0.253,
          0.254,
          0.255,
          0.256,
          0.257,
          0.258,
          0.259,
          0.26,
          0.261,
          0.262,
          0.263,
          0.264,
          0.265,
          0.266,
          0.267,
          0.268,
          0.269,
          0.27,
          0.271,
          0.272,
          0.273,
          0.274,
          0.275,
          0.276,
          0.277,
          0.278,
          0.279,
          0.28,
          0.281,
          0.28200000000000003,
          0.28300000000000003,
          0.28400000000000003,
          0.28500000000000003,
          0.28600000000000003,
          0.28700000000000003,
          0.28800000000000003,
          0.289,
          0.29,
          0.291,
          0.292,
          0.293,
          0.294,
          0.295,
          0.296,
          0.297,
          0.298,
          0.299,
          0.3,
          0.301,
          0.302,
          0.303,
          0.304,
          0.305,
          0.306,
          0.307,
          0.308,
          0.309,
          0.31,
          0.311,
          0.312,
          0.313,
          0.314,
          0.315,
          0.316,
          0.317,
          0.318,
          0.319,
          0.32,
          0.321,
          0.322,
          0.323,
          0.324,
          0.325,
          0.326,
          0.327,
          0.328,
          0.329,
          0.33,
          0.331,
          0.332,
          0.333,
          0.334,
          0.335,
          0.336,
          0.337,
          0.338,
          0.339,
          0.34,
          0.341,
          0.342,
          0.343,
          0.34400000000000003,
          0.34500000000000003,
          0.34600000000000003,
          0.34700000000000003,
          0.34800000000000003,
          0.34900000000000003
         ],
         "xaxis": "x",
         "y": [
          0,
          11.22754491017964,
          11.22754491017964,
          11.22754491017964,
          11.22754491017964,
          11.22754491017964,
          11.22754491017964,
          11.22754491017964,
          11.22754491017964,
          11.22754491017964,
          11.22754491017964,
          11.377245508982035,
          11.377245508982035,
          11.377245508982035,
          11.377245508982035,
          11.52694610778443,
          11.52694610778443,
          11.377245508982035,
          11.377245508982035,
          11.377245508982035,
          11.377245508982035,
          11.377245508982035,
          11.52694610778443,
          11.377245508982035,
          11.377245508982035,
          11.377245508982035,
          11.22754491017964,
          11.22754491017964,
          11.22754491017964,
          11.52694610778443,
          11.676646706586826,
          11.826347305389222,
          11.976047904191617,
          12.125748502994012,
          11.976047904191617,
          12.125748502994012,
          12.275449101796408,
          12.125748502994012,
          12.125748502994012,
          12.125748502994012,
          12.125748502994012,
          12.125748502994012,
          12.425149700598803,
          12.275449101796408,
          12.275449101796408,
          12.425149700598803,
          12.425149700598803,
          12.574850299401197,
          12.874251497005988,
          13.173652694610778,
          13.323353293413174,
          13.323353293413174,
          13.323353293413174,
          13.323353293413174,
          13.173652694610778,
          13.023952095808383,
          13.023952095808383,
          12.874251497005988,
          12.874251497005988,
          12.874251497005988,
          12.874251497005988,
          13.023952095808383,
          12.874251497005988,
          13.023952095808383,
          13.023952095808383,
          13.173652694610778,
          13.47305389221557,
          13.47305389221557,
          13.47305389221557,
          13.77245508982036,
          13.77245508982036,
          13.922155688622755,
          13.77245508982036,
          13.922155688622755,
          13.77245508982036,
          13.922155688622755,
          14.37125748502994,
          14.67065868263473,
          14.970059880239521,
          14.970059880239521,
          15.419161676646707,
          15.419161676646707,
          15.269461077844312,
          15.568862275449101,
          15.568862275449101,
          15.419161676646707,
          15.419161676646707,
          15.419161676646707,
          15.568862275449101,
          15.568862275449101,
          15.419161676646707,
          15.269461077844312,
          15.269461077844312,
          15.419161676646707,
          15.568862275449101,
          15.868263473053892,
          16.017964071856287,
          15.868263473053892,
          16.017964071856287,
          16.017964071856287,
          16.167664670658684,
          16.766467065868262,
          16.91616766467066,
          17.21556886227545,
          17.664670658682635,
          17.81437125748503,
          17.81437125748503,
          18.11377245508982,
          17.964071856287426,
          17.964071856287426,
          18.11377245508982,
          18.11377245508982,
          18.11377245508982,
          17.81437125748503,
          17.81437125748503,
          17.964071856287426,
          18.11377245508982,
          18.562874251497007,
          18.41317365269461,
          19.910179640718564,
          19.760479041916167,
          19.760479041916167,
          19.311377245508982,
          19.311377245508982,
          19.461077844311376,
          18.7125748502994,
          19.01197604790419,
          19.01197604790419,
          17.664670658682635,
          17.81437125748503,
          17.664670658682635,
          17.81437125748503,
          17.21556886227545,
          17.365269461077844,
          17.51497005988024,
          16.91616766467066,
          16.91616766467066,
          16.91616766467066,
          16.91616766467066,
          17.065868263473053,
          16.766467065868262,
          16.46706586826347,
          16.46706586826347,
          16.317365269461078,
          16.017964071856287,
          15.868263473053892,
          15.718562874251496,
          15.419161676646707,
          14.970059880239521,
          14.970059880239521,
          14.970059880239521,
          14.970059880239521,
          15.119760479041917,
          14.970059880239521,
          14.520958083832335,
          14.221556886227544,
          13.922155688622755,
          13.922155688622755,
          13.922155688622755,
          14.071856287425149,
          14.37125748502994,
          14.520958083832335,
          14.37125748502994,
          14.520958083832335,
          14.520958083832335,
          14.37125748502994,
          14.37125748502994,
          14.221556886227544,
          14.37125748502994,
          14.071856287425149,
          14.071856287425149,
          13.922155688622755,
          13.77245508982036,
          13.77245508982036,
          13.922155688622755,
          13.622754491017965,
          13.023952095808383,
          12.874251497005988,
          12.724550898203592,
          12.125748502994012,
          12.275449101796408,
          12.425149700598803,
          12.275449101796408,
          12.275449101796408,
          12.125748502994012,
          12.125748502994012,
          12.125748502994012,
          11.976047904191617,
          11.976047904191617,
          11.976047904191617,
          12.125748502994012,
          11.976047904191617,
          11.826347305389222,
          11.676646706586826,
          11.077844311377245,
          11.077844311377245,
          10.928143712574851,
          10.778443113772456,
          10.62874251497006,
          9.880239520958083,
          9.431137724550899,
          8.982035928143713,
          8.832335329341317,
          8.682634730538922,
          8.383233532934131,
          7.934131736526946,
          7.934131736526946,
          7.7844311377245505,
          7.634730538922156,
          7.18562874251497,
          6.736526946107785,
          6.586826347305389,
          6.437125748502994,
          6.287425149700598,
          5.389221556886228,
          5.389221556886228,
          5.389221556886228,
          5.389221556886228,
          4.790419161676646,
          4.640718562874252,
          4.640718562874252,
          4.640718562874252,
          4.640718562874252,
          4.640718562874252,
          4.191616766467066,
          4.191616766467066,
          4.041916167664671,
          4.041916167664671,
          4.041916167664671,
          4.041916167664671,
          4.041916167664671,
          3.7425149700598803,
          3.592814371257485,
          3.592814371257485,
          3.44311377245509,
          3.2934131736526946,
          3.2934131736526946,
          3.2934131736526946,
          3.2934131736526946,
          3.2934131736526946,
          3.2934131736526946,
          3.2934131736526946,
          3.143712574850299,
          3.143712574850299,
          3.143712574850299,
          3.143712574850299,
          2.9940119760479043,
          2.844311377245509,
          2.5449101796407185,
          2.395209580838323,
          2.245508982035928,
          2.245508982035928,
          2.095808383233533,
          2.095808383233533,
          2.095808383233533,
          2.095808383233533,
          2.095808383233533,
          2.095808383233533,
          1.9461077844311376,
          1.9461077844311376,
          1.9461077844311376,
          1.6467065868263473,
          1.6467065868263473,
          1.6467065868263473,
          1.6467065868263473,
          1.6467065868263473,
          1.6467065868263473,
          1.347305389221557,
          1.347305389221557,
          1.347305389221557,
          1.1976047904191616,
          1.0479041916167664,
          1.0479041916167664,
          1.0479041916167664,
          1.0479041916167664,
          1.0479041916167664,
          1.0479041916167664,
          1.0479041916167664,
          0.8982035928143712,
          0.8982035928143712,
          0.7485029940119761,
          0.5988023952095808,
          0.5988023952095808,
          0.4491017964071856,
          0.4491017964071856,
          0.4491017964071856,
          0.4491017964071856,
          0.4491017964071856,
          0.4491017964071856,
          0.4491017964071856,
          0.4491017964071856,
          0.4491017964071856,
          0.4491017964071856,
          0.4491017964071856,
          0.4491017964071856,
          0.4491017964071856,
          0.2994011976047904,
          0.2994011976047904,
          0.2994011976047904,
          0.2994011976047904,
          0.2994011976047904,
          0.2994011976047904,
          0.2994011976047904,
          0.2994011976047904,
          0.2994011976047904,
          0.2994011976047904,
          0.2994011976047904,
          0.2994011976047904,
          0.2994011976047904,
          0.2994011976047904,
          0.2994011976047904,
          0.2994011976047904,
          0.1497005988023952,
          0.1497005988023952,
          0.1497005988023952,
          0.1497005988023952,
          0.1497005988023952,
          0.1497005988023952,
          0,
          0,
          0,
          0,
          0,
          0,
          0,
          0,
          0,
          0,
          0,
          0,
          0,
          0,
          0,
          0,
          0,
          0,
          0,
          0,
          0,
          0,
          0,
          0,
          0,
          0,
          0,
          0,
          0,
          0,
          0,
          0
         ],
         "yaxis": "y"
        },
        {
         "fillpattern": {
          "shape": ""
         },
         "hovertemplate": "number of topics=4<br>threshold=%{x}<br>share of reviews, %=%{y}<extra></extra>",
         "legendgroup": "4",
         "line": {
          "color": "rgb(34,94,168)"
         },
         "marker": {
          "symbol": "circle"
         },
         "mode": "lines",
         "name": "4",
         "orientation": "v",
         "showlegend": true,
         "stackgroup": "1",
         "type": "scatter",
         "x": [
          0,
          0.001,
          0.002,
          0.003,
          0.004,
          0.005,
          0.006,
          0.007,
          0.008,
          0.009000000000000001,
          0.01,
          0.011,
          0.012,
          0.013000000000000001,
          0.014,
          0.015,
          0.016,
          0.017,
          0.018000000000000002,
          0.019,
          0.02,
          0.021,
          0.022,
          0.023,
          0.024,
          0.025,
          0.026000000000000002,
          0.027,
          0.028,
          0.029,
          0.03,
          0.031,
          0.032,
          0.033,
          0.034,
          0.035,
          0.036000000000000004,
          0.037,
          0.038,
          0.039,
          0.04,
          0.041,
          0.042,
          0.043000000000000003,
          0.044,
          0.045,
          0.046,
          0.047,
          0.048,
          0.049,
          0.05,
          0.051000000000000004,
          0.052000000000000005,
          0.053,
          0.054,
          0.055,
          0.056,
          0.057,
          0.058,
          0.059000000000000004,
          0.06,
          0.061,
          0.062,
          0.063,
          0.064,
          0.065,
          0.066,
          0.067,
          0.068,
          0.069,
          0.07,
          0.07100000000000001,
          0.07200000000000001,
          0.073,
          0.074,
          0.075,
          0.076,
          0.077,
          0.078,
          0.079,
          0.08,
          0.081,
          0.082,
          0.083,
          0.084,
          0.085,
          0.08600000000000001,
          0.08700000000000001,
          0.088,
          0.089,
          0.09,
          0.091,
          0.092,
          0.093,
          0.094,
          0.095,
          0.096,
          0.097,
          0.098,
          0.099,
          0.1,
          0.101,
          0.10200000000000001,
          0.10300000000000001,
          0.10400000000000001,
          0.105,
          0.106,
          0.107,
          0.108,
          0.109,
          0.11,
          0.111,
          0.112,
          0.113,
          0.114,
          0.115,
          0.116,
          0.117,
          0.11800000000000001,
          0.11900000000000001,
          0.12,
          0.121,
          0.122,
          0.123,
          0.124,
          0.125,
          0.126,
          0.127,
          0.128,
          0.129,
          0.13,
          0.131,
          0.132,
          0.133,
          0.134,
          0.135,
          0.136,
          0.137,
          0.138,
          0.139,
          0.14,
          0.14100000000000001,
          0.14200000000000002,
          0.14300000000000002,
          0.14400000000000002,
          0.145,
          0.146,
          0.147,
          0.148,
          0.149,
          0.15,
          0.151,
          0.152,
          0.153,
          0.154,
          0.155,
          0.156,
          0.157,
          0.158,
          0.159,
          0.16,
          0.161,
          0.162,
          0.163,
          0.164,
          0.165,
          0.166,
          0.167,
          0.168,
          0.169,
          0.17,
          0.171,
          0.17200000000000001,
          0.17300000000000001,
          0.17400000000000002,
          0.17500000000000002,
          0.176,
          0.177,
          0.178,
          0.179,
          0.18,
          0.181,
          0.182,
          0.183,
          0.184,
          0.185,
          0.186,
          0.187,
          0.188,
          0.189,
          0.19,
          0.191,
          0.192,
          0.193,
          0.194,
          0.195,
          0.196,
          0.197,
          0.198,
          0.199,
          0.2,
          0.201,
          0.202,
          0.203,
          0.20400000000000001,
          0.20500000000000002,
          0.20600000000000002,
          0.20700000000000002,
          0.20800000000000002,
          0.209,
          0.21,
          0.211,
          0.212,
          0.213,
          0.214,
          0.215,
          0.216,
          0.217,
          0.218,
          0.219,
          0.22,
          0.221,
          0.222,
          0.223,
          0.224,
          0.225,
          0.226,
          0.227,
          0.228,
          0.229,
          0.23,
          0.231,
          0.232,
          0.233,
          0.234,
          0.23500000000000001,
          0.23600000000000002,
          0.23700000000000002,
          0.23800000000000002,
          0.23900000000000002,
          0.24,
          0.241,
          0.242,
          0.243,
          0.244,
          0.245,
          0.246,
          0.247,
          0.248,
          0.249,
          0.25,
          0.251,
          0.252,
          0.253,
          0.254,
          0.255,
          0.256,
          0.257,
          0.258,
          0.259,
          0.26,
          0.261,
          0.262,
          0.263,
          0.264,
          0.265,
          0.266,
          0.267,
          0.268,
          0.269,
          0.27,
          0.271,
          0.272,
          0.273,
          0.274,
          0.275,
          0.276,
          0.277,
          0.278,
          0.279,
          0.28,
          0.281,
          0.28200000000000003,
          0.28300000000000003,
          0.28400000000000003,
          0.28500000000000003,
          0.28600000000000003,
          0.28700000000000003,
          0.28800000000000003,
          0.289,
          0.29,
          0.291,
          0.292,
          0.293,
          0.294,
          0.295,
          0.296,
          0.297,
          0.298,
          0.299,
          0.3,
          0.301,
          0.302,
          0.303,
          0.304,
          0.305,
          0.306,
          0.307,
          0.308,
          0.309,
          0.31,
          0.311,
          0.312,
          0.313,
          0.314,
          0.315,
          0.316,
          0.317,
          0.318,
          0.319,
          0.32,
          0.321,
          0.322,
          0.323,
          0.324,
          0.325,
          0.326,
          0.327,
          0.328,
          0.329,
          0.33,
          0.331,
          0.332,
          0.333,
          0.334,
          0.335,
          0.336,
          0.337,
          0.338,
          0.339,
          0.34,
          0.341,
          0.342,
          0.343,
          0.34400000000000003,
          0.34500000000000003,
          0.34600000000000003,
          0.34700000000000003,
          0.34800000000000003,
          0.34900000000000003
         ],
         "xaxis": "x",
         "y": [
          0,
          8.682634730538922,
          8.682634730538922,
          8.682634730538922,
          8.682634730538922,
          8.682634730538922,
          8.682634730538922,
          8.682634730538922,
          8.682634730538922,
          8.682634730538922,
          8.682634730538922,
          8.682634730538922,
          8.682634730538922,
          8.682634730538922,
          8.682634730538922,
          8.682634730538922,
          8.682634730538922,
          8.682634730538922,
          8.682634730538922,
          8.682634730538922,
          8.682634730538922,
          8.832335329341317,
          8.982035928143713,
          9.281437125748504,
          9.281437125748504,
          9.281437125748504,
          9.431137724550899,
          9.580838323353293,
          9.580838323353293,
          9.281437125748504,
          9.281437125748504,
          9.431137724550899,
          9.281437125748504,
          9.131736526946108,
          9.131736526946108,
          9.131736526946108,
          9.281437125748504,
          9.431137724550899,
          9.880239520958083,
          9.880239520958083,
          10.029940119760479,
          10.179640718562874,
          10.029940119760479,
          10.029940119760479,
          10.029940119760479,
          10.179640718562874,
          10.029940119760479,
          10.179640718562874,
          9.880239520958083,
          9.730538922155688,
          9.281437125748504,
          9.281437125748504,
          9.431137724550899,
          9.580838323353293,
          9.580838323353293,
          9.580838323353293,
          9.730538922155688,
          9.880239520958083,
          10.179640718562874,
          10.479041916167665,
          10.778443113772456,
          10.62874251497006,
          10.778443113772456,
          10.62874251497006,
          10.778443113772456,
          11.077844311377245,
          10.928143712574851,
          10.62874251497006,
          10.928143712574851,
          10.778443113772456,
          10.778443113772456,
          10.928143712574851,
          11.377245508982035,
          11.22754491017964,
          11.52694610778443,
          11.22754491017964,
          10.928143712574851,
          10.928143712574851,
          10.778443113772456,
          10.62874251497006,
          10.179640718562874,
          10.32934131736527,
          10.179640718562874,
          9.880239520958083,
          9.730538922155688,
          9.730538922155688,
          9.580838323353293,
          9.580838323353293,
          9.281437125748504,
          9.431137724550899,
          9.580838323353293,
          9.580838323353293,
          9.580838323353293,
          9.580838323353293,
          9.431137724550899,
          9.281437125748504,
          9.281437125748504,
          9.131736526946108,
          9.281437125748504,
          9.131736526946108,
          9.131736526946108,
          8.982035928143713,
          8.982035928143713,
          9.131736526946108,
          8.832335329341317,
          8.982035928143713,
          8.832335329341317,
          8.682634730538922,
          8.832335329341317,
          8.532934131736527,
          8.383233532934131,
          8.532934131736527,
          9.580838323353293,
          9.580838323353293,
          9.580838323353293,
          9.281437125748504,
          9.281437125748504,
          8.832335329341317,
          8.832335329341317,
          7.485029940119761,
          7.335329341317365,
          6.88622754491018,
          6.736526946107785,
          6.586826347305389,
          6.137724550898204,
          6.137724550898204,
          5.838323353293413,
          6.437125748502994,
          6.437125748502994,
          6.287425149700598,
          5.9880239520958085,
          5.9880239520958085,
          5.9880239520958085,
          5.838323353293413,
          5.2395209580838324,
          5.089820359281437,
          4.790419161676646,
          4.790419161676646,
          4.640718562874252,
          4.491017964071856,
          4.341317365269461,
          4.341317365269461,
          3.7425149700598803,
          3.7425149700598803,
          3.7425149700598803,
          3.592814371257485,
          3.592814371257485,
          3.592814371257485,
          3.7425149700598803,
          3.592814371257485,
          3.592814371257485,
          3.7425149700598803,
          3.592814371257485,
          3.44311377245509,
          3.44311377245509,
          3.2934131736526946,
          3.2934131736526946,
          2.9940119760479043,
          2.9940119760479043,
          2.694610778443114,
          2.395209580838323,
          2.095808383233533,
          1.9461077844311376,
          1.6467065868263473,
          1.7964071856287425,
          1.7964071856287425,
          1.6467065868263473,
          1.6467065868263473,
          1.347305389221557,
          1.347305389221557,
          1.347305389221557,
          1.347305389221557,
          1.1976047904191616,
          1.1976047904191616,
          1.0479041916167664,
          1.0479041916167664,
          1.0479041916167664,
          1.0479041916167664,
          1.0479041916167664,
          1.0479041916167664,
          0.7485029940119761,
          0.5988023952095808,
          0.4491017964071856,
          0.2994011976047904,
          0.2994011976047904,
          0.2994011976047904,
          0.2994011976047904,
          0.2994011976047904,
          0.2994011976047904,
          0.2994011976047904,
          0.1497005988023952,
          0.1497005988023952,
          0.1497005988023952,
          0.1497005988023952,
          0.1497005988023952,
          0.1497005988023952,
          0.1497005988023952,
          0.1497005988023952,
          0.1497005988023952,
          0.1497005988023952,
          0.1497005988023952,
          0.1497005988023952,
          0.1497005988023952,
          0,
          0,
          0,
          0,
          0,
          0,
          0,
          0,
          0,
          0,
          0,
          0,
          0,
          0,
          0,
          0,
          0,
          0,
          0,
          0,
          0,
          0,
          0,
          0,
          0,
          0,
          0,
          0,
          0,
          0,
          0,
          0,
          0,
          0,
          0,
          0,
          0,
          0,
          0,
          0,
          0,
          0,
          0,
          0,
          0,
          0,
          0,
          0,
          0,
          0,
          0,
          0,
          0,
          0,
          0,
          0,
          0,
          0,
          0,
          0,
          0,
          0,
          0,
          0,
          0,
          0,
          0,
          0,
          0,
          0,
          0,
          0,
          0,
          0,
          0,
          0,
          0,
          0,
          0,
          0,
          0,
          0,
          0,
          0,
          0,
          0,
          0,
          0,
          0,
          0,
          0,
          0,
          0,
          0,
          0,
          0,
          0,
          0,
          0,
          0,
          0,
          0,
          0,
          0,
          0,
          0,
          0,
          0,
          0,
          0,
          0,
          0,
          0,
          0,
          0,
          0,
          0,
          0,
          0,
          0,
          0,
          0,
          0,
          0,
          0,
          0,
          0,
          0,
          0,
          0,
          0,
          0,
          0,
          0,
          0,
          0,
          0,
          0,
          0,
          0,
          0,
          0,
          0,
          0,
          0,
          0,
          0
         ],
         "yaxis": "y"
        },
        {
         "fillpattern": {
          "shape": ""
         },
         "hovertemplate": "number of topics=5+<br>threshold=%{x}<br>share of reviews, %=%{y}<extra></extra>",
         "legendgroup": "5+",
         "line": {
          "color": "rgb(37,52,148)"
         },
         "marker": {
          "symbol": "circle"
         },
         "mode": "lines",
         "name": "5+",
         "orientation": "v",
         "showlegend": true,
         "stackgroup": "1",
         "type": "scatter",
         "x": [
          0,
          0.001,
          0.002,
          0.003,
          0.004,
          0.005,
          0.006,
          0.007,
          0.008,
          0.009000000000000001,
          0.01,
          0.011,
          0.012,
          0.013000000000000001,
          0.014,
          0.015,
          0.016,
          0.017,
          0.018000000000000002,
          0.019,
          0.02,
          0.021,
          0.022,
          0.023,
          0.024,
          0.025,
          0.026000000000000002,
          0.027,
          0.028,
          0.029,
          0.03,
          0.031,
          0.032,
          0.033,
          0.034,
          0.035,
          0.036000000000000004,
          0.037,
          0.038,
          0.039,
          0.04,
          0.041,
          0.042,
          0.043000000000000003,
          0.044,
          0.045,
          0.046,
          0.047,
          0.048,
          0.049,
          0.05,
          0.051000000000000004,
          0.052000000000000005,
          0.053,
          0.054,
          0.055,
          0.056,
          0.057,
          0.058,
          0.059000000000000004,
          0.06,
          0.061,
          0.062,
          0.063,
          0.064,
          0.065,
          0.066,
          0.067,
          0.068,
          0.069,
          0.07,
          0.07100000000000001,
          0.07200000000000001,
          0.073,
          0.074,
          0.075,
          0.076,
          0.077,
          0.078,
          0.079,
          0.08,
          0.081,
          0.082,
          0.083,
          0.084,
          0.085,
          0.08600000000000001,
          0.08700000000000001,
          0.088,
          0.089,
          0.09,
          0.091,
          0.092,
          0.093,
          0.094,
          0.095,
          0.096,
          0.097,
          0.098,
          0.099,
          0.1,
          0.101,
          0.10200000000000001,
          0.10300000000000001,
          0.10400000000000001,
          0.105,
          0.106,
          0.107,
          0.108,
          0.109,
          0.11,
          0.111,
          0.112,
          0.113,
          0.114,
          0.115,
          0.116,
          0.117,
          0.11800000000000001,
          0.11900000000000001,
          0.12,
          0.121,
          0.122,
          0.123,
          0.124,
          0.125,
          0.126,
          0.127,
          0.128,
          0.129,
          0.13,
          0.131,
          0.132,
          0.133,
          0.134,
          0.135,
          0.136,
          0.137,
          0.138,
          0.139,
          0.14,
          0.14100000000000001,
          0.14200000000000002,
          0.14300000000000002,
          0.14400000000000002,
          0.145,
          0.146,
          0.147,
          0.148,
          0.149,
          0.15,
          0.151,
          0.152,
          0.153,
          0.154,
          0.155,
          0.156,
          0.157,
          0.158,
          0.159,
          0.16,
          0.161,
          0.162,
          0.163,
          0.164,
          0.165,
          0.166,
          0.167,
          0.168,
          0.169,
          0.17,
          0.171,
          0.17200000000000001,
          0.17300000000000001,
          0.17400000000000002,
          0.17500000000000002,
          0.176,
          0.177,
          0.178,
          0.179,
          0.18,
          0.181,
          0.182,
          0.183,
          0.184,
          0.185,
          0.186,
          0.187,
          0.188,
          0.189,
          0.19,
          0.191,
          0.192,
          0.193,
          0.194,
          0.195,
          0.196,
          0.197,
          0.198,
          0.199,
          0.2,
          0.201,
          0.202,
          0.203,
          0.20400000000000001,
          0.20500000000000002,
          0.20600000000000002,
          0.20700000000000002,
          0.20800000000000002,
          0.209,
          0.21,
          0.211,
          0.212,
          0.213,
          0.214,
          0.215,
          0.216,
          0.217,
          0.218,
          0.219,
          0.22,
          0.221,
          0.222,
          0.223,
          0.224,
          0.225,
          0.226,
          0.227,
          0.228,
          0.229,
          0.23,
          0.231,
          0.232,
          0.233,
          0.234,
          0.23500000000000001,
          0.23600000000000002,
          0.23700000000000002,
          0.23800000000000002,
          0.23900000000000002,
          0.24,
          0.241,
          0.242,
          0.243,
          0.244,
          0.245,
          0.246,
          0.247,
          0.248,
          0.249,
          0.25,
          0.251,
          0.252,
          0.253,
          0.254,
          0.255,
          0.256,
          0.257,
          0.258,
          0.259,
          0.26,
          0.261,
          0.262,
          0.263,
          0.264,
          0.265,
          0.266,
          0.267,
          0.268,
          0.269,
          0.27,
          0.271,
          0.272,
          0.273,
          0.274,
          0.275,
          0.276,
          0.277,
          0.278,
          0.279,
          0.28,
          0.281,
          0.28200000000000003,
          0.28300000000000003,
          0.28400000000000003,
          0.28500000000000003,
          0.28600000000000003,
          0.28700000000000003,
          0.28800000000000003,
          0.289,
          0.29,
          0.291,
          0.292,
          0.293,
          0.294,
          0.295,
          0.296,
          0.297,
          0.298,
          0.299,
          0.3,
          0.301,
          0.302,
          0.303,
          0.304,
          0.305,
          0.306,
          0.307,
          0.308,
          0.309,
          0.31,
          0.311,
          0.312,
          0.313,
          0.314,
          0.315,
          0.316,
          0.317,
          0.318,
          0.319,
          0.32,
          0.321,
          0.322,
          0.323,
          0.324,
          0.325,
          0.326,
          0.327,
          0.328,
          0.329,
          0.33,
          0.331,
          0.332,
          0.333,
          0.334,
          0.335,
          0.336,
          0.337,
          0.338,
          0.339,
          0.34,
          0.341,
          0.342,
          0.343,
          0.34400000000000003,
          0.34500000000000003,
          0.34600000000000003,
          0.34700000000000003,
          0.34800000000000003,
          0.34900000000000003
         ],
         "xaxis": "x",
         "y": [
          100,
          17.964071856287426,
          17.964071856287426,
          17.964071856287426,
          17.964071856287426,
          17.964071856287426,
          17.964071856287426,
          17.964071856287426,
          17.964071856287426,
          17.964071856287426,
          17.964071856287426,
          17.81437125748503,
          17.81437125748503,
          17.81437125748503,
          17.81437125748503,
          17.664670658682635,
          17.664670658682635,
          17.664670658682635,
          17.664670658682635,
          17.664670658682635,
          17.664670658682635,
          17.51497005988024,
          17.21556886227545,
          16.91616766467066,
          16.91616766467066,
          16.91616766467066,
          16.766467065868262,
          16.61676646706587,
          16.61676646706587,
          16.61676646706587,
          16.46706586826347,
          16.167664670658684,
          16.167664670658684,
          16.167664670658684,
          16.167664670658684,
          16.017964071856287,
          15.718562874251496,
          15.568862275449101,
          15.119760479041917,
          14.970059880239521,
          14.820359281437126,
          14.67065868263473,
          14.37125748502994,
          14.37125748502994,
          14.221556886227544,
          13.922155688622755,
          13.922155688622755,
          13.622754491017965,
          13.622754491017965,
          13.47305389221557,
          13.47305389221557,
          13.323353293413174,
          12.874251497005988,
          12.724550898203592,
          12.724550898203592,
          12.724550898203592,
          12.574850299401197,
          12.425149700598803,
          12.125748502994012,
          11.826347305389222,
          11.377245508982035,
          11.22754491017964,
          11.077844311377245,
          10.928143712574851,
          10.62874251497006,
          10.179640718562874,
          10.029940119760479,
          10.029940119760479,
          9.730538922155688,
          9.580838323353293,
          9.580838323353293,
          9.281437125748504,
          8.832335329341317,
          8.832335329341317,
          8.532934131736527,
          8.532934131736527,
          8.383233532934131,
          8.083832335329342,
          7.7844311377245505,
          7.7844311377245505,
          7.7844311377245505,
          7.485029940119761,
          7.485029940119761,
          7.485029940119761,
          7.485029940119761,
          7.335329341317365,
          7.335329341317365,
          7.18562874251497,
          7.18562874251497,
          6.88622754491018,
          6.736526946107785,
          6.586826347305389,
          6.437125748502994,
          6.287425149700598,
          6.137724550898204,
          5.9880239520958085,
          5.838323353293413,
          5.688622754491018,
          5.389221556886228,
          5.389221556886228,
          5.2395209580838324,
          4.790419161676646,
          4.640718562874252,
          4.191616766467066,
          4.041916167664671,
          3.7425149700598803,
          3.7425149700598803,
          3.44311377245509,
          3.2934131736526946,
          3.2934131736526946,
          3.2934131736526946,
          3.143712574850299,
          1.7964071856287425,
          1.7964071856287425,
          1.7964071856287425,
          1.7964071856287425,
          1.6467065868263473,
          1.6467065868263473,
          1.6467065868263473,
          1.4970059880239521,
          1.4970059880239521,
          1.4970059880239521,
          1.4970059880239521,
          1.347305389221557,
          1.347305389221557,
          1.347305389221557,
          1.347305389221557,
          0.7485029940119761,
          0.7485029940119761,
          0.7485029940119761,
          0.7485029940119761,
          0.5988023952095808,
          0.5988023952095808,
          0.5988023952095808,
          0.5988023952095808,
          0.5988023952095808,
          0.5988023952095808,
          0.5988023952095808,
          0.5988023952095808,
          0.5988023952095808,
          0.4491017964071856,
          0.4491017964071856,
          0.4491017964071856,
          0.4491017964071856,
          0.4491017964071856,
          0.4491017964071856,
          0.4491017964071856,
          0.4491017964071856,
          0.2994011976047904,
          0.2994011976047904,
          0.2994011976047904,
          0.1497005988023952,
          0.1497005988023952,
          0.1497005988023952,
          0.1497005988023952,
          0.1497005988023952,
          0.1497005988023952,
          0.1497005988023952,
          0.1497005988023952,
          0.1497005988023952,
          0.1497005988023952,
          0.1497005988023952,
          0.1497005988023952,
          0.1497005988023952,
          0,
          0,
          0,
          0,
          0,
          0,
          0,
          0,
          0,
          0,
          0,
          0,
          0,
          0,
          0,
          0,
          0,
          0,
          0,
          0,
          0,
          0,
          0,
          0,
          0,
          0,
          0,
          0,
          0,
          0,
          0,
          0,
          0,
          0,
          0,
          0,
          0,
          0,
          0,
          0,
          0,
          0,
          0,
          0,
          0,
          0,
          0,
          0,
          0,
          0,
          0,
          0,
          0,
          0,
          0,
          0,
          0,
          0,
          0,
          0,
          0,
          0,
          0,
          0,
          0,
          0,
          0,
          0,
          0,
          0,
          0,
          0,
          0,
          0,
          0,
          0,
          0,
          0,
          0,
          0,
          0,
          0,
          0,
          0,
          0,
          0,
          0,
          0,
          0,
          0,
          0,
          0,
          0,
          0,
          0,
          0,
          0,
          0,
          0,
          0,
          0,
          0,
          0,
          0,
          0,
          0,
          0,
          0,
          0,
          0,
          0,
          0,
          0,
          0,
          0,
          0,
          0,
          0,
          0,
          0,
          0,
          0,
          0,
          0,
          0,
          0,
          0,
          0,
          0,
          0,
          0,
          0,
          0,
          0,
          0,
          0,
          0,
          0,
          0,
          0,
          0,
          0,
          0,
          0,
          0,
          0,
          0,
          0,
          0,
          0,
          0,
          0,
          0,
          0,
          0,
          0,
          0,
          0,
          0,
          0,
          0,
          0,
          0,
          0,
          0,
          0,
          0,
          0,
          0,
          0,
          0,
          0,
          0,
          0,
          0,
          0,
          0,
          0,
          0,
          0,
          0,
          0,
          0,
          0,
          0,
          0
         ],
         "yaxis": "y"
        }
       ],
       "layout": {
        "legend": {
         "title": {
          "text": "number of topics"
         },
         "tracegroupgap": 0
        },
        "template": {
         "data": {
          "bar": [
           {
            "error_x": {
             "color": "#2a3f5f"
            },
            "error_y": {
             "color": "#2a3f5f"
            },
            "marker": {
             "line": {
              "color": "#E5ECF6",
              "width": 0.5
             },
             "pattern": {
              "fillmode": "overlay",
              "size": 10,
              "solidity": 0.2
             }
            },
            "type": "bar"
           }
          ],
          "barpolar": [
           {
            "marker": {
             "line": {
              "color": "#E5ECF6",
              "width": 0.5
             },
             "pattern": {
              "fillmode": "overlay",
              "size": 10,
              "solidity": 0.2
             }
            },
            "type": "barpolar"
           }
          ],
          "carpet": [
           {
            "aaxis": {
             "endlinecolor": "#2a3f5f",
             "gridcolor": "white",
             "linecolor": "white",
             "minorgridcolor": "white",
             "startlinecolor": "#2a3f5f"
            },
            "baxis": {
             "endlinecolor": "#2a3f5f",
             "gridcolor": "white",
             "linecolor": "white",
             "minorgridcolor": "white",
             "startlinecolor": "#2a3f5f"
            },
            "type": "carpet"
           }
          ],
          "choropleth": [
           {
            "colorbar": {
             "outlinewidth": 0,
             "ticks": ""
            },
            "type": "choropleth"
           }
          ],
          "contour": [
           {
            "colorbar": {
             "outlinewidth": 0,
             "ticks": ""
            },
            "colorscale": [
             [
              0,
              "#0d0887"
             ],
             [
              0.1111111111111111,
              "#46039f"
             ],
             [
              0.2222222222222222,
              "#7201a8"
             ],
             [
              0.3333333333333333,
              "#9c179e"
             ],
             [
              0.4444444444444444,
              "#bd3786"
             ],
             [
              0.5555555555555556,
              "#d8576b"
             ],
             [
              0.6666666666666666,
              "#ed7953"
             ],
             [
              0.7777777777777778,
              "#fb9f3a"
             ],
             [
              0.8888888888888888,
              "#fdca26"
             ],
             [
              1,
              "#f0f921"
             ]
            ],
            "type": "contour"
           }
          ],
          "contourcarpet": [
           {
            "colorbar": {
             "outlinewidth": 0,
             "ticks": ""
            },
            "type": "contourcarpet"
           }
          ],
          "heatmap": [
           {
            "colorbar": {
             "outlinewidth": 0,
             "ticks": ""
            },
            "colorscale": [
             [
              0,
              "#0d0887"
             ],
             [
              0.1111111111111111,
              "#46039f"
             ],
             [
              0.2222222222222222,
              "#7201a8"
             ],
             [
              0.3333333333333333,
              "#9c179e"
             ],
             [
              0.4444444444444444,
              "#bd3786"
             ],
             [
              0.5555555555555556,
              "#d8576b"
             ],
             [
              0.6666666666666666,
              "#ed7953"
             ],
             [
              0.7777777777777778,
              "#fb9f3a"
             ],
             [
              0.8888888888888888,
              "#fdca26"
             ],
             [
              1,
              "#f0f921"
             ]
            ],
            "type": "heatmap"
           }
          ],
          "heatmapgl": [
           {
            "colorbar": {
             "outlinewidth": 0,
             "ticks": ""
            },
            "colorscale": [
             [
              0,
              "#0d0887"
             ],
             [
              0.1111111111111111,
              "#46039f"
             ],
             [
              0.2222222222222222,
              "#7201a8"
             ],
             [
              0.3333333333333333,
              "#9c179e"
             ],
             [
              0.4444444444444444,
              "#bd3786"
             ],
             [
              0.5555555555555556,
              "#d8576b"
             ],
             [
              0.6666666666666666,
              "#ed7953"
             ],
             [
              0.7777777777777778,
              "#fb9f3a"
             ],
             [
              0.8888888888888888,
              "#fdca26"
             ],
             [
              1,
              "#f0f921"
             ]
            ],
            "type": "heatmapgl"
           }
          ],
          "histogram": [
           {
            "marker": {
             "pattern": {
              "fillmode": "overlay",
              "size": 10,
              "solidity": 0.2
             }
            },
            "type": "histogram"
           }
          ],
          "histogram2d": [
           {
            "colorbar": {
             "outlinewidth": 0,
             "ticks": ""
            },
            "colorscale": [
             [
              0,
              "#0d0887"
             ],
             [
              0.1111111111111111,
              "#46039f"
             ],
             [
              0.2222222222222222,
              "#7201a8"
             ],
             [
              0.3333333333333333,
              "#9c179e"
             ],
             [
              0.4444444444444444,
              "#bd3786"
             ],
             [
              0.5555555555555556,
              "#d8576b"
             ],
             [
              0.6666666666666666,
              "#ed7953"
             ],
             [
              0.7777777777777778,
              "#fb9f3a"
             ],
             [
              0.8888888888888888,
              "#fdca26"
             ],
             [
              1,
              "#f0f921"
             ]
            ],
            "type": "histogram2d"
           }
          ],
          "histogram2dcontour": [
           {
            "colorbar": {
             "outlinewidth": 0,
             "ticks": ""
            },
            "colorscale": [
             [
              0,
              "#0d0887"
             ],
             [
              0.1111111111111111,
              "#46039f"
             ],
             [
              0.2222222222222222,
              "#7201a8"
             ],
             [
              0.3333333333333333,
              "#9c179e"
             ],
             [
              0.4444444444444444,
              "#bd3786"
             ],
             [
              0.5555555555555556,
              "#d8576b"
             ],
             [
              0.6666666666666666,
              "#ed7953"
             ],
             [
              0.7777777777777778,
              "#fb9f3a"
             ],
             [
              0.8888888888888888,
              "#fdca26"
             ],
             [
              1,
              "#f0f921"
             ]
            ],
            "type": "histogram2dcontour"
           }
          ],
          "mesh3d": [
           {
            "colorbar": {
             "outlinewidth": 0,
             "ticks": ""
            },
            "type": "mesh3d"
           }
          ],
          "parcoords": [
           {
            "line": {
             "colorbar": {
              "outlinewidth": 0,
              "ticks": ""
             }
            },
            "type": "parcoords"
           }
          ],
          "pie": [
           {
            "automargin": true,
            "type": "pie"
           }
          ],
          "scatter": [
           {
            "fillpattern": {
             "fillmode": "overlay",
             "size": 10,
             "solidity": 0.2
            },
            "type": "scatter"
           }
          ],
          "scatter3d": [
           {
            "line": {
             "colorbar": {
              "outlinewidth": 0,
              "ticks": ""
             }
            },
            "marker": {
             "colorbar": {
              "outlinewidth": 0,
              "ticks": ""
             }
            },
            "type": "scatter3d"
           }
          ],
          "scattercarpet": [
           {
            "marker": {
             "colorbar": {
              "outlinewidth": 0,
              "ticks": ""
             }
            },
            "type": "scattercarpet"
           }
          ],
          "scattergeo": [
           {
            "marker": {
             "colorbar": {
              "outlinewidth": 0,
              "ticks": ""
             }
            },
            "type": "scattergeo"
           }
          ],
          "scattergl": [
           {
            "marker": {
             "colorbar": {
              "outlinewidth": 0,
              "ticks": ""
             }
            },
            "type": "scattergl"
           }
          ],
          "scattermapbox": [
           {
            "marker": {
             "colorbar": {
              "outlinewidth": 0,
              "ticks": ""
             }
            },
            "type": "scattermapbox"
           }
          ],
          "scatterpolar": [
           {
            "marker": {
             "colorbar": {
              "outlinewidth": 0,
              "ticks": ""
             }
            },
            "type": "scatterpolar"
           }
          ],
          "scatterpolargl": [
           {
            "marker": {
             "colorbar": {
              "outlinewidth": 0,
              "ticks": ""
             }
            },
            "type": "scatterpolargl"
           }
          ],
          "scatterternary": [
           {
            "marker": {
             "colorbar": {
              "outlinewidth": 0,
              "ticks": ""
             }
            },
            "type": "scatterternary"
           }
          ],
          "surface": [
           {
            "colorbar": {
             "outlinewidth": 0,
             "ticks": ""
            },
            "colorscale": [
             [
              0,
              "#0d0887"
             ],
             [
              0.1111111111111111,
              "#46039f"
             ],
             [
              0.2222222222222222,
              "#7201a8"
             ],
             [
              0.3333333333333333,
              "#9c179e"
             ],
             [
              0.4444444444444444,
              "#bd3786"
             ],
             [
              0.5555555555555556,
              "#d8576b"
             ],
             [
              0.6666666666666666,
              "#ed7953"
             ],
             [
              0.7777777777777778,
              "#fb9f3a"
             ],
             [
              0.8888888888888888,
              "#fdca26"
             ],
             [
              1,
              "#f0f921"
             ]
            ],
            "type": "surface"
           }
          ],
          "table": [
           {
            "cells": {
             "fill": {
              "color": "#EBF0F8"
             },
             "line": {
              "color": "white"
             }
            },
            "header": {
             "fill": {
              "color": "#C8D4E3"
             },
             "line": {
              "color": "white"
             }
            },
            "type": "table"
           }
          ]
         },
         "layout": {
          "annotationdefaults": {
           "arrowcolor": "#2a3f5f",
           "arrowhead": 0,
           "arrowwidth": 1
          },
          "autotypenumbers": "strict",
          "coloraxis": {
           "colorbar": {
            "outlinewidth": 0,
            "ticks": ""
           }
          },
          "colorscale": {
           "diverging": [
            [
             0,
             "#8e0152"
            ],
            [
             0.1,
             "#c51b7d"
            ],
            [
             0.2,
             "#de77ae"
            ],
            [
             0.3,
             "#f1b6da"
            ],
            [
             0.4,
             "#fde0ef"
            ],
            [
             0.5,
             "#f7f7f7"
            ],
            [
             0.6,
             "#e6f5d0"
            ],
            [
             0.7,
             "#b8e186"
            ],
            [
             0.8,
             "#7fbc41"
            ],
            [
             0.9,
             "#4d9221"
            ],
            [
             1,
             "#276419"
            ]
           ],
           "sequential": [
            [
             0,
             "#0d0887"
            ],
            [
             0.1111111111111111,
             "#46039f"
            ],
            [
             0.2222222222222222,
             "#7201a8"
            ],
            [
             0.3333333333333333,
             "#9c179e"
            ],
            [
             0.4444444444444444,
             "#bd3786"
            ],
            [
             0.5555555555555556,
             "#d8576b"
            ],
            [
             0.6666666666666666,
             "#ed7953"
            ],
            [
             0.7777777777777778,
             "#fb9f3a"
            ],
            [
             0.8888888888888888,
             "#fdca26"
            ],
            [
             1,
             "#f0f921"
            ]
           ],
           "sequentialminus": [
            [
             0,
             "#0d0887"
            ],
            [
             0.1111111111111111,
             "#46039f"
            ],
            [
             0.2222222222222222,
             "#7201a8"
            ],
            [
             0.3333333333333333,
             "#9c179e"
            ],
            [
             0.4444444444444444,
             "#bd3786"
            ],
            [
             0.5555555555555556,
             "#d8576b"
            ],
            [
             0.6666666666666666,
             "#ed7953"
            ],
            [
             0.7777777777777778,
             "#fb9f3a"
            ],
            [
             0.8888888888888888,
             "#fdca26"
            ],
            [
             1,
             "#f0f921"
            ]
           ]
          },
          "colorway": [
           "#636efa",
           "#EF553B",
           "#00cc96",
           "#ab63fa",
           "#FFA15A",
           "#19d3f3",
           "#FF6692",
           "#B6E880",
           "#FF97FF",
           "#FECB52"
          ],
          "font": {
           "color": "#2a3f5f"
          },
          "geo": {
           "bgcolor": "white",
           "lakecolor": "white",
           "landcolor": "#E5ECF6",
           "showlakes": true,
           "showland": true,
           "subunitcolor": "white"
          },
          "hoverlabel": {
           "align": "left"
          },
          "hovermode": "closest",
          "mapbox": {
           "style": "light"
          },
          "paper_bgcolor": "white",
          "plot_bgcolor": "#E5ECF6",
          "polar": {
           "angularaxis": {
            "gridcolor": "white",
            "linecolor": "white",
            "ticks": ""
           },
           "bgcolor": "#E5ECF6",
           "radialaxis": {
            "gridcolor": "white",
            "linecolor": "white",
            "ticks": ""
           }
          },
          "scene": {
           "xaxis": {
            "backgroundcolor": "#E5ECF6",
            "gridcolor": "white",
            "gridwidth": 2,
            "linecolor": "white",
            "showbackground": true,
            "ticks": "",
            "zerolinecolor": "white"
           },
           "yaxis": {
            "backgroundcolor": "#E5ECF6",
            "gridcolor": "white",
            "gridwidth": 2,
            "linecolor": "white",
            "showbackground": true,
            "ticks": "",
            "zerolinecolor": "white"
           },
           "zaxis": {
            "backgroundcolor": "#E5ECF6",
            "gridcolor": "white",
            "gridwidth": 2,
            "linecolor": "white",
            "showbackground": true,
            "ticks": "",
            "zerolinecolor": "white"
           }
          },
          "shapedefaults": {
           "line": {
            "color": "#2a3f5f"
           }
          },
          "ternary": {
           "aaxis": {
            "gridcolor": "white",
            "linecolor": "white",
            "ticks": ""
           },
           "baxis": {
            "gridcolor": "white",
            "linecolor": "white",
            "ticks": ""
           },
           "bgcolor": "#E5ECF6",
           "caxis": {
            "gridcolor": "white",
            "linecolor": "white",
            "ticks": ""
           }
          },
          "title": {
           "x": 0.05
          },
          "xaxis": {
           "automargin": true,
           "gridcolor": "white",
           "linecolor": "white",
           "ticks": "",
           "title": {
            "standoff": 15
           },
           "zerolinecolor": "white",
           "zerolinewidth": 2
          },
          "yaxis": {
           "automargin": true,
           "gridcolor": "white",
           "linecolor": "white",
           "ticks": "",
           "title": {
            "standoff": 15
           },
           "zerolinecolor": "white",
           "zerolinewidth": 2
          }
         }
        },
        "title": {
         "text": "Distribution of number of topics"
        },
        "xaxis": {
         "anchor": "y",
         "domain": [
          0,
          1
         ],
         "title": {
          "text": "threshold"
         }
        },
        "yaxis": {
         "anchor": "x",
         "domain": [
          0,
          1
         ],
         "title": {
          "text": "share of reviews, %"
         }
        }
       }
      }
     },
     "metadata": {},
     "output_type": "display_data"
    }
   ],
   "source": [
    "import tqdm\n",
    "import numpy as np\n",
    "import plotly.express as px\n",
    "\n",
    "tmp_dfs = []\n",
    "\n",
    "# iterating through different threshold levels\n",
    "for thr in tqdm.tqdm(np.arange(0, 0.35, 0.001)):\n",
    "    # calculating number of topics with probability > threshold for each document\n",
    "    tmp_df = pd.DataFrame(list(map(lambda x: len(list(filter(lambda y: y >= thr, x))), topic_distr))).rename(\n",
    "        columns = {0: 'num_topics'}\n",
    "    )\n",
    "    tmp_df['num_docs'] = 1\n",
    "    \n",
    "    tmp_df['num_topics_group'] = tmp_df['num_topics']\\\n",
    "        .map(lambda x: str(x) if x < 5 else '5+')\n",
    "    \n",
    "    # aggregating stats\n",
    "    tmp_df_aggr = tmp_df.groupby('num_topics_group', as_index = False).num_docs.sum()\n",
    "    tmp_df_aggr['threshold'] = thr\n",
    "    \n",
    "    tmp_dfs.append(tmp_df_aggr)\n",
    "\n",
    "num_topics_stats_df = pd.concat(tmp_dfs).pivot(index = 'threshold', \n",
    "                              values = 'num_docs',\n",
    "                              columns = 'num_topics_group').fillna(0)\n",
    "\n",
    "num_topics_stats_df = num_topics_stats_df.apply(lambda x: 100.*x/num_topics_stats_df.sum(axis = 1))\n",
    "\n",
    "# visualisation\n",
    "colormap = px.colors.sequential.YlGnBu\n",
    "px.area(num_topics_stats_df, \n",
    "       title = 'Distribution of number of topics',\n",
    "       labels = {'num_topics_group': 'number of topics',\n",
    "                'value': 'share of reviews, %'},\n",
    "       color_discrete_map = {\n",
    "          '0': colormap[0],\n",
    "          '1': colormap[3],\n",
    "          '2': colormap[4],\n",
    "          '3': colormap[5],\n",
    "          '4': colormap[6],\n",
    "          '5+': colormap[7]\n",
    "      })"
   ]
  },
  {
   "cell_type": "code",
   "execution_count": 19,
   "metadata": {},
   "outputs": [],
   "source": [
    "threshold = 0.25\n",
    "\n",
    "# Define topic with probability > threshold for each document\n",
    "df['multiple_topics'] = list(map(\n",
    "    lambda doc_topic_distr: list(map(\n",
    "        lambda y: y[0], filter(lambda x: x[1] >= threshold, \n",
    "                               (enumerate(doc_topic_distr)))\n",
    "    )), topic_distr\n",
    "))\n",
    "            \n",
    "df[\"multiple_topics_name\"] = df[\"multiple_topics\"].map(lambda x: [topic_name_to_id.get(i, \"No topic\") for i in x])"
   ]
  },
  {
   "cell_type": "code",
   "execution_count": 20,
   "metadata": {},
   "outputs": [
    {
     "data": {
      "text/html": [
       "<div>\n",
       "<style scoped>\n",
       "    .dataframe tbody tr th:only-of-type {\n",
       "        vertical-align: middle;\n",
       "    }\n",
       "\n",
       "    .dataframe tbody tr th {\n",
       "        vertical-align: top;\n",
       "    }\n",
       "\n",
       "    .dataframe thead th {\n",
       "        text-align: right;\n",
       "    }\n",
       "</style>\n",
       "<table border=\"1\" class=\"dataframe\">\n",
       "  <thead>\n",
       "    <tr style=\"text-align: right;\">\n",
       "      <th></th>\n",
       "      <th>File Name</th>\n",
       "      <th>turn_index</th>\n",
       "      <th>Content</th>\n",
       "      <th>preprocessed_content</th>\n",
       "      <th>Experiment</th>\n",
       "      <th>Condition</th>\n",
       "      <th>Id</th>\n",
       "      <th>Speaker</th>\n",
       "      <th>Index</th>\n",
       "      <th>one_topic</th>\n",
       "      <th>one_topic_name</th>\n",
       "      <th>multiple_topics</th>\n",
       "      <th>multiple_topics_name</th>\n",
       "    </tr>\n",
       "  </thead>\n",
       "  <tbody>\n",
       "    <tr>\n",
       "      <th>0</th>\n",
       "      <td>ID 05</td>\n",
       "      <td>1</td>\n",
       "      <td>So, that was very, let's say, unexpected and s...</td>\n",
       "      <td>let unexpected surprising moment realize disco...</td>\n",
       "      <td>OBE1</td>\n",
       "      <td>1</td>\n",
       "      <td>5</td>\n",
       "      <td>Participant</td>\n",
       "      <td>0</td>\n",
       "      <td>3</td>\n",
       "      <td>3_reality_body_different_yourself</td>\n",
       "      <td>[3]</td>\n",
       "      <td>[3_reality_body_different_yourself]</td>\n",
       "    </tr>\n",
       "    <tr>\n",
       "      <th>1</th>\n",
       "      <td>ID 05</td>\n",
       "      <td>3</td>\n",
       "      <td>It was a little bit like, okay, well, so it's ...</td>\n",
       "      <td>watch outside special lot emotion explain moment</td>\n",
       "      <td>OBE1</td>\n",
       "      <td>1</td>\n",
       "      <td>5</td>\n",
       "      <td>Participant</td>\n",
       "      <td>1</td>\n",
       "      <td>-1</td>\n",
       "      <td>-1_myself_look_body_real</td>\n",
       "      <td>[3, 17]</td>\n",
       "      <td>[3_reality_body_different_yourself, 17_room_ce...</td>\n",
       "    </tr>\n",
       "    <tr>\n",
       "      <th>2</th>\n",
       "      <td>ID 05</td>\n",
       "      <td>5</td>\n",
       "      <td>So I'm not sure I've got all the perfect descr...</td>\n",
       "      <td>perfect description</td>\n",
       "      <td>OBE1</td>\n",
       "      <td>1</td>\n",
       "      <td>5</td>\n",
       "      <td>Participant</td>\n",
       "      <td>2</td>\n",
       "      <td>0</td>\n",
       "      <td>0_interesting_easy_nice_fine</td>\n",
       "      <td>[0]</td>\n",
       "      <td>[0_interesting_easy_nice_fine]</td>\n",
       "    </tr>\n",
       "    <tr>\n",
       "      <th>3</th>\n",
       "      <td>ID 05</td>\n",
       "      <td>7</td>\n",
       "      <td>The thing that I didn't really understand, but...</td>\n",
       "      <td>understand understand body touching basically ...</td>\n",
       "      <td>OBE1</td>\n",
       "      <td>1</td>\n",
       "      <td>5</td>\n",
       "      <td>Participant</td>\n",
       "      <td>3</td>\n",
       "      <td>6</td>\n",
       "      <td>6_touch_delay_scene_image</td>\n",
       "      <td>[0, 6]</td>\n",
       "      <td>[0_interesting_easy_nice_fine, 6_touch_delay_s...</td>\n",
       "    </tr>\n",
       "    <tr>\n",
       "      <th>4</th>\n",
       "      <td>ID 05</td>\n",
       "      <td>9</td>\n",
       "      <td>So I felt like a time lag in the last one of w...</td>\n",
       "      <td>lag body</td>\n",
       "      <td>OBE1</td>\n",
       "      <td>1</td>\n",
       "      <td>5</td>\n",
       "      <td>Participant</td>\n",
       "      <td>4</td>\n",
       "      <td>4</td>\n",
       "      <td>4_body_heavy_light_come</td>\n",
       "      <td>[4]</td>\n",
       "      <td>[4_body_heavy_light_come]</td>\n",
       "    </tr>\n",
       "  </tbody>\n",
       "</table>\n",
       "</div>"
      ],
      "text/plain": [
       "  File Name  turn_index                                            Content  \\\n",
       "0     ID 05           1  So, that was very, let's say, unexpected and s...   \n",
       "1     ID 05           3  It was a little bit like, okay, well, so it's ...   \n",
       "2     ID 05           5  So I'm not sure I've got all the perfect descr...   \n",
       "3     ID 05           7  The thing that I didn't really understand, but...   \n",
       "4     ID 05           9  So I felt like a time lag in the last one of w...   \n",
       "\n",
       "                                preprocessed_content Experiment Condition  Id  \\\n",
       "0  let unexpected surprising moment realize disco...       OBE1         1   5   \n",
       "1   watch outside special lot emotion explain moment       OBE1         1   5   \n",
       "2                                perfect description       OBE1         1   5   \n",
       "3  understand understand body touching basically ...       OBE1         1   5   \n",
       "4                                           lag body       OBE1         1   5   \n",
       "\n",
       "       Speaker  Index  one_topic                     one_topic_name  \\\n",
       "0  Participant      0          3  3_reality_body_different_yourself   \n",
       "1  Participant      1         -1           -1_myself_look_body_real   \n",
       "2  Participant      2          0       0_interesting_easy_nice_fine   \n",
       "3  Participant      3          6          6_touch_delay_scene_image   \n",
       "4  Participant      4          4            4_body_heavy_light_come   \n",
       "\n",
       "  multiple_topics                               multiple_topics_name  \n",
       "0             [3]                [3_reality_body_different_yourself]  \n",
       "1         [3, 17]  [3_reality_body_different_yourself, 17_room_ce...  \n",
       "2             [0]                     [0_interesting_easy_nice_fine]  \n",
       "3          [0, 6]  [0_interesting_easy_nice_fine, 6_touch_delay_s...  \n",
       "4             [4]                          [4_body_heavy_light_come]  "
      ]
     },
     "execution_count": 20,
     "metadata": {},
     "output_type": "execute_result"
    }
   ],
   "source": [
    "df.to_csv(\"outputs/topics/df_topic.csv\", index = False)\n",
    "df.head()"
   ]
  }
 ],
 "metadata": {
  "kernelspec": {
   "display_name": "vamos",
   "language": "python",
   "name": "python3"
  },
  "language_info": {
   "codemirror_mode": {
    "name": "ipython",
    "version": 3
   },
   "file_extension": ".py",
   "mimetype": "text/x-python",
   "name": "python",
   "nbconvert_exporter": "python",
   "pygments_lexer": "ipython3",
   "version": "3.10.16"
  }
 },
 "nbformat": 4,
 "nbformat_minor": 2
}
