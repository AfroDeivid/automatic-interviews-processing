{
 "cells": [
  {
   "cell_type": "code",
   "execution_count": 112,
   "metadata": {},
   "outputs": [
    {
     "name": "stdout",
     "output_type": "stream",
     "text": [
      "The autoreload extension is already loaded. To reload it, use:\n",
      "  %reload_ext autoreload\n"
     ]
    }
   ],
   "source": [
    "%load_ext autoreload\n",
    "%autoreload 2"
   ]
  },
  {
   "cell_type": "code",
   "execution_count": 113,
   "metadata": {},
   "outputs": [],
   "source": [
    "from utils.analysis_helpers import *\n",
    "from bertopic import BERTopic"
   ]
  },
  {
   "cell_type": "markdown",
   "metadata": {},
   "source": [
    "# Define the Docs"
   ]
  },
  {
   "cell_type": "code",
   "execution_count": null,
   "metadata": {},
   "outputs": [
    {
     "data": {
      "text/html": [
       "<div>\n",
       "<style scoped>\n",
       "    .dataframe tbody tr th:only-of-type {\n",
       "        vertical-align: middle;\n",
       "    }\n",
       "\n",
       "    .dataframe tbody tr th {\n",
       "        vertical-align: top;\n",
       "    }\n",
       "\n",
       "    .dataframe thead th {\n",
       "        text-align: right;\n",
       "    }\n",
       "</style>\n",
       "<table border=\"1\" class=\"dataframe\">\n",
       "  <thead>\n",
       "    <tr style=\"text-align: right;\">\n",
       "      <th></th>\n",
       "      <th>File Name</th>\n",
       "      <th>turn_index</th>\n",
       "      <th>Speaker</th>\n",
       "      <th>Experiment</th>\n",
       "      <th>Id</th>\n",
       "      <th>Condition</th>\n",
       "      <th>Full_Content</th>\n",
       "      <th>Content</th>\n",
       "      <th>Speaker_original</th>\n",
       "    </tr>\n",
       "  </thead>\n",
       "  <tbody>\n",
       "    <tr>\n",
       "      <th>0</th>\n",
       "      <td>ID 05</td>\n",
       "      <td>0</td>\n",
       "      <td>Interviewer</td>\n",
       "      <td>OBE1</td>\n",
       "      <td>5</td>\n",
       "      <td>1</td>\n",
       "      <td>No, don't worry, it's just...</td>\n",
       "      <td>no, don't worry, it's just...</td>\n",
       "      <td>Interviewer 1</td>\n",
       "    </tr>\n",
       "    <tr>\n",
       "      <th>1</th>\n",
       "      <td>ID 05</td>\n",
       "      <td>1</td>\n",
       "      <td>Participant</td>\n",
       "      <td>OBE1</td>\n",
       "      <td>5</td>\n",
       "      <td>1</td>\n",
       "      <td>So, that was very, let's say, unexpected and s...</td>\n",
       "      <td>so, that was very, let's say, unexpected and s...</td>\n",
       "      <td>Participant</td>\n",
       "    </tr>\n",
       "    <tr>\n",
       "      <th>2</th>\n",
       "      <td>ID 05</td>\n",
       "      <td>1</td>\n",
       "      <td>Participant</td>\n",
       "      <td>OBE1</td>\n",
       "      <td>5</td>\n",
       "      <td>1</td>\n",
       "      <td>So, that was very, let's say, unexpected and s...</td>\n",
       "      <td>i mean, at least that's what i felt, that i wa...</td>\n",
       "      <td>Participant</td>\n",
       "    </tr>\n",
       "    <tr>\n",
       "      <th>3</th>\n",
       "      <td>ID 05</td>\n",
       "      <td>1</td>\n",
       "      <td>Participant</td>\n",
       "      <td>OBE1</td>\n",
       "      <td>5</td>\n",
       "      <td>1</td>\n",
       "      <td>So, that was very, let's say, unexpected and s...</td>\n",
       "      <td>and then i was observing it from above</td>\n",
       "      <td>Participant</td>\n",
       "    </tr>\n",
       "    <tr>\n",
       "      <th>4</th>\n",
       "      <td>ID 05</td>\n",
       "      <td>1</td>\n",
       "      <td>Participant</td>\n",
       "      <td>OBE1</td>\n",
       "      <td>5</td>\n",
       "      <td>1</td>\n",
       "      <td>So, that was very, let's say, unexpected and s...</td>\n",
       "      <td>and as i was saying, i felt at a specific mome...</td>\n",
       "      <td>Participant</td>\n",
       "    </tr>\n",
       "    <tr>\n",
       "      <th>...</th>\n",
       "      <td>...</td>\n",
       "      <td>...</td>\n",
       "      <td>...</td>\n",
       "      <td>...</td>\n",
       "      <td>...</td>\n",
       "      <td>...</td>\n",
       "      <td>...</td>\n",
       "      <td>...</td>\n",
       "      <td>...</td>\n",
       "    </tr>\n",
       "    <tr>\n",
       "      <th>2913</th>\n",
       "      <td>S313</td>\n",
       "      <td>39</td>\n",
       "      <td>Participant</td>\n",
       "      <td>Compassion</td>\n",
       "      <td>313</td>\n",
       "      <td>1</td>\n",
       "      <td>I know that's true. When I felt like sending l...</td>\n",
       "      <td>i know that's true when i felt like sending lo...</td>\n",
       "      <td>Participant</td>\n",
       "    </tr>\n",
       "    <tr>\n",
       "      <th>2914</th>\n",
       "      <td>S313</td>\n",
       "      <td>39</td>\n",
       "      <td>Participant</td>\n",
       "      <td>Compassion</td>\n",
       "      <td>313</td>\n",
       "      <td>1</td>\n",
       "      <td>I know that's true. When I felt like sending l...</td>\n",
       "      <td>i sent them to the person so maybe in both pla...</td>\n",
       "      <td>Participant</td>\n",
       "    </tr>\n",
       "    <tr>\n",
       "      <th>2915</th>\n",
       "      <td>S313</td>\n",
       "      <td>39</td>\n",
       "      <td>Participant</td>\n",
       "      <td>Compassion</td>\n",
       "      <td>313</td>\n",
       "      <td>1</td>\n",
       "      <td>I know that's true. When I felt like sending l...</td>\n",
       "      <td>i didn't feel it was me, but i felt it was mys...</td>\n",
       "      <td>Participant</td>\n",
       "    </tr>\n",
       "    <tr>\n",
       "      <th>2916</th>\n",
       "      <td>S313</td>\n",
       "      <td>40</td>\n",
       "      <td>Interviewer</td>\n",
       "      <td>Compassion</td>\n",
       "      <td>313</td>\n",
       "      <td>1</td>\n",
       "      <td>Okay, I see. The answers for my questions.</td>\n",
       "      <td>okay</td>\n",
       "      <td>Interviewer 2</td>\n",
       "    </tr>\n",
       "    <tr>\n",
       "      <th>2917</th>\n",
       "      <td>S313</td>\n",
       "      <td>40</td>\n",
       "      <td>Interviewer</td>\n",
       "      <td>Compassion</td>\n",
       "      <td>313</td>\n",
       "      <td>1</td>\n",
       "      <td>Okay, I see. The answers for my questions.</td>\n",
       "      <td>, i see the answers for my questions</td>\n",
       "      <td>Interviewer 2</td>\n",
       "    </tr>\n",
       "  </tbody>\n",
       "</table>\n",
       "<p>2918 rows × 9 columns</p>\n",
       "</div>"
      ],
      "text/plain": [
       "     File Name  turn_index      Speaker  Experiment   Id Condition  \\\n",
       "0        ID 05           0  Interviewer        OBE1    5         1   \n",
       "1        ID 05           1  Participant        OBE1    5         1   \n",
       "2        ID 05           1  Participant        OBE1    5         1   \n",
       "3        ID 05           1  Participant        OBE1    5         1   \n",
       "4        ID 05           1  Participant        OBE1    5         1   \n",
       "...        ...         ...          ...         ...  ...       ...   \n",
       "2913      S313          39  Participant  Compassion  313         1   \n",
       "2914      S313          39  Participant  Compassion  313         1   \n",
       "2915      S313          39  Participant  Compassion  313         1   \n",
       "2916      S313          40  Interviewer  Compassion  313         1   \n",
       "2917      S313          40  Interviewer  Compassion  313         1   \n",
       "\n",
       "                                           Full_Content  \\\n",
       "0                         No, don't worry, it's just...   \n",
       "1     So, that was very, let's say, unexpected and s...   \n",
       "2     So, that was very, let's say, unexpected and s...   \n",
       "3     So, that was very, let's say, unexpected and s...   \n",
       "4     So, that was very, let's say, unexpected and s...   \n",
       "...                                                 ...   \n",
       "2913  I know that's true. When I felt like sending l...   \n",
       "2914  I know that's true. When I felt like sending l...   \n",
       "2915  I know that's true. When I felt like sending l...   \n",
       "2916         Okay, I see. The answers for my questions.   \n",
       "2917         Okay, I see. The answers for my questions.   \n",
       "\n",
       "                                                Content Speaker_original  \n",
       "0                         no, don't worry, it's just...    Interviewer 1  \n",
       "1     so, that was very, let's say, unexpected and s...      Participant  \n",
       "2     i mean, at least that's what i felt, that i wa...      Participant  \n",
       "3               and then i was observing it from above       Participant  \n",
       "4     and as i was saying, i felt at a specific mome...      Participant  \n",
       "...                                                 ...              ...  \n",
       "2913  i know that's true when i felt like sending lo...      Participant  \n",
       "2914  i sent them to the person so maybe in both pla...      Participant  \n",
       "2915  i didn't feel it was me, but i felt it was mys...      Participant  \n",
       "2916                                               okay    Interviewer 2  \n",
       "2917               , i see the answers for my questions    Interviewer 2  \n",
       "\n",
       "[2918 rows x 9 columns]"
      ]
     },
     "execution_count": 114,
     "metadata": {},
     "output_type": "execute_result"
    }
   ],
   "source": [
    "df_all = pd.read_csv(\"outputs/segmented_sentences.csv\")\n",
    "# Rename Segmented_Sentence to Content\n",
    "df_all = df_all.rename(columns={\"Segmented_Sentence\": \"Content\"})"
   ]
  },
  {
   "cell_type": "code",
   "execution_count": 115,
   "metadata": {},
   "outputs": [],
   "source": [
    "# Preoprocessing\n",
    "df = df_all.copy()\n",
    "# Focus only on the participant's or interviewer's speech or both\n",
    "df = df[df[\"Speaker\"] == \"Participant\"]\n",
    "#df = df[df[\"Speaker\"] == \"Interviewer\"]\n",
    "\n",
    "# Select experiment\n",
    "df = df[df[\"Experiment\"] != \"Compassion\"]\n",
    "\n",
    "# Filter tokens (stopwords, punctuations) were removed using the spacy library, \n",
    "# All text was lowercased + lemmatized,\n",
    "# Plus extra_stopwords being the most frequents words in the corpus AND being meaningless \n",
    "extra_stopwords = [\n",
    "    # Filler Words: Common conversational placeholders without thematic value\n",
    "    \"yeah\", \"okay\", \"yes\", \"mean\", \"oh\", \"ah\", \"like\", \"kind\",\"kinda\", \"course\", \"way\",\n",
    "    # Vague/Ambiguous Words: Frequent but thematically irrelevant in conversations\n",
    "    \"think\", \"know\", \"really\", \"bit\", \"feel\", \"thing\", \"sort\", \"maybe\", \"little\", \"actually\",\n",
    "    \"sure\", \"exactly\", \"tell\", \"ask\", \"people\", \"think\",\n",
    "    # Broad terms or context-specific words overshadowing subtler themes\n",
    "    \"question\", \"sorry\", \"time\", \"first\", \"second\", \"later\", \"experience\", \"end\", \"meditation\" #,\"body\"\n",
    "]\n",
    "df['preprocessed_content'] = df['Content'].apply(lambda x: preprocess_text(x, extra_stopwords=extra_stopwords, retain_stopwords=[\"yourself\", \"myself\"]))\n",
    "\n",
    "# Remove rows with empty content or content that's only punctuation after preprocessing\n",
    "df = df[df['preprocessed_content'].str.strip().str.len() > 0]\n",
    "# File S225 is removed because it is empty after preprocessing (only two utterances, not meaningful words for topics)\n",
    " # -> it was the Intervention condition, so mostly only discuss the sencond condition (control)\n",
    "\n",
    "df.to_csv(\"preprocessed_content.csv\", index=False)"
   ]
  },
  {
   "cell_type": "code",
   "execution_count": 116,
   "metadata": {},
   "outputs": [
    {
     "data": {
      "image/png": "[encoded data removed]",
      "text/plain": [
       "<Figure size 640x480 with 1 Axes>"
      ]
     },
     "metadata": {},
     "output_type": "display_data"
    }
   ],
   "source": [
    "# See the length of the preprocessed content\n",
    "df['preprocessed_content'].apply(lambda x: len(x.split())).hist(bins=50)\n",
    "plt.title(\"Length of content\")\n",
    "plt.xlabel(\"Number of words\")\n",
    "plt.ylabel(\"Number of utterances\")\n",
    "plt.show()"
   ]
  },
  {
   "cell_type": "code",
   "execution_count": 117,
   "metadata": {},
   "outputs": [
    {
     "data": {
      "text/html": [
       "<div>\n",
       "<style scoped>\n",
       "    .dataframe tbody tr th:only-of-type {\n",
       "        vertical-align: middle;\n",
       "    }\n",
       "\n",
       "    .dataframe tbody tr th {\n",
       "        vertical-align: top;\n",
       "    }\n",
       "\n",
       "    .dataframe thead th {\n",
       "        text-align: right;\n",
       "    }\n",
       "</style>\n",
       "<table border=\"1\" class=\"dataframe\">\n",
       "  <thead>\n",
       "    <tr style=\"text-align: right;\">\n",
       "      <th></th>\n",
       "      <th>File Name</th>\n",
       "      <th>turn_index</th>\n",
       "      <th>Content</th>\n",
       "      <th>preprocessed_content</th>\n",
       "      <th>Experiment</th>\n",
       "      <th>Condition</th>\n",
       "      <th>Id</th>\n",
       "      <th>Speaker</th>\n",
       "    </tr>\n",
       "  </thead>\n",
       "  <tbody>\n",
       "    <tr>\n",
       "      <th>0</th>\n",
       "      <td>ID 05</td>\n",
       "      <td>1</td>\n",
       "      <td>so, that was very, let's say, unexpected and s...</td>\n",
       "      <td>let unexpected surprising moment go realize ge...</td>\n",
       "      <td>OBE1</td>\n",
       "      <td>1</td>\n",
       "      <td>5</td>\n",
       "      <td>Participant</td>\n",
       "    </tr>\n",
       "    <tr>\n",
       "      <th>1</th>\n",
       "      <td>ID 05</td>\n",
       "      <td>3</td>\n",
       "      <td>a little bit it was a little bit like, okay, w...</td>\n",
       "      <td>watch outside special give lot emotion explain...</td>\n",
       "      <td>OBE1</td>\n",
       "      <td>1</td>\n",
       "      <td>5</td>\n",
       "      <td>Participant</td>\n",
       "    </tr>\n",
       "    <tr>\n",
       "      <th>2</th>\n",
       "      <td>ID 05</td>\n",
       "      <td>5</td>\n",
       "      <td>yeah yeah i feel like i'm back it's okay but y...</td>\n",
       "      <td>get perfect description</td>\n",
       "      <td>OBE1</td>\n",
       "      <td>1</td>\n",
       "      <td>5</td>\n",
       "      <td>Participant</td>\n",
       "    </tr>\n",
       "    <tr>\n",
       "      <th>3</th>\n",
       "      <td>ID 05</td>\n",
       "      <td>7</td>\n",
       "      <td>the thing that i didn't really understand, but...</td>\n",
       "      <td>understand understand body touching basically ...</td>\n",
       "      <td>OBE1</td>\n",
       "      <td>1</td>\n",
       "      <td>5</td>\n",
       "      <td>Participant</td>\n",
       "    </tr>\n",
       "    <tr>\n",
       "      <th>4</th>\n",
       "      <td>ID 05</td>\n",
       "      <td>9</td>\n",
       "      <td>so i felt like a time lag in the last one of w...</td>\n",
       "      <td>lag see body</td>\n",
       "      <td>OBE1</td>\n",
       "      <td>1</td>\n",
       "      <td>5</td>\n",
       "      <td>Participant</td>\n",
       "    </tr>\n",
       "    <tr>\n",
       "      <th>...</th>\n",
       "      <td>...</td>\n",
       "      <td>...</td>\n",
       "      <td>...</td>\n",
       "      <td>...</td>\n",
       "      <td>...</td>\n",
       "      <td>...</td>\n",
       "      <td>...</td>\n",
       "      <td>...</td>\n",
       "    </tr>\n",
       "    <tr>\n",
       "      <th>576</th>\n",
       "      <td>S230 intervention</td>\n",
       "      <td>35</td>\n",
       "      <td>i don't know unpleasant  i probably say i'm no...</td>\n",
       "      <td>unpleasant probably pleasant unpleasant cool i...</td>\n",
       "      <td>OBE2</td>\n",
       "      <td>I</td>\n",
       "      <td>230</td>\n",
       "      <td>Participant</td>\n",
       "    </tr>\n",
       "    <tr>\n",
       "      <th>577</th>\n",
       "      <td>S230 intervention</td>\n",
       "      <td>37</td>\n",
       "      <td>to be honest when i was out of my body i was m...</td>\n",
       "      <td>honest body concentrate happen moment meditate...</td>\n",
       "      <td>OBE2</td>\n",
       "      <td>I</td>\n",
       "      <td>230</td>\n",
       "      <td>Participant</td>\n",
       "    </tr>\n",
       "    <tr>\n",
       "      <th>578</th>\n",
       "      <td>S230 intervention</td>\n",
       "      <td>39</td>\n",
       "      <td>probably yeah, i think i was less concentrate ...</td>\n",
       "      <td>probably concentrate body concentrate look din...</td>\n",
       "      <td>OBE2</td>\n",
       "      <td>I</td>\n",
       "      <td>230</td>\n",
       "      <td>Participant</td>\n",
       "    </tr>\n",
       "    <tr>\n",
       "      <th>579</th>\n",
       "      <td>S230 intervention</td>\n",
       "      <td>41</td>\n",
       "      <td>i don't think so what was the question about l...</td>\n",
       "      <td>have body</td>\n",
       "      <td>OBE2</td>\n",
       "      <td>I</td>\n",
       "      <td>230</td>\n",
       "      <td>Participant</td>\n",
       "    </tr>\n",
       "    <tr>\n",
       "      <th>580</th>\n",
       "      <td>S230 intervention</td>\n",
       "      <td>43</td>\n",
       "      <td>no, really i guess it felt kind of similar to ...</td>\n",
       "      <td>guess similar look myself</td>\n",
       "      <td>OBE2</td>\n",
       "      <td>I</td>\n",
       "      <td>230</td>\n",
       "      <td>Participant</td>\n",
       "    </tr>\n",
       "  </tbody>\n",
       "</table>\n",
       "<p>581 rows × 8 columns</p>\n",
       "</div>"
      ],
      "text/plain": [
       "             File Name  turn_index  \\\n",
       "0                ID 05           1   \n",
       "1                ID 05           3   \n",
       "2                ID 05           5   \n",
       "3                ID 05           7   \n",
       "4                ID 05           9   \n",
       "..                 ...         ...   \n",
       "576  S230 intervention          35   \n",
       "577  S230 intervention          37   \n",
       "578  S230 intervention          39   \n",
       "579  S230 intervention          41   \n",
       "580  S230 intervention          43   \n",
       "\n",
       "                                               Content  \\\n",
       "0    so, that was very, let's say, unexpected and s...   \n",
       "1    a little bit it was a little bit like, okay, w...   \n",
       "2    yeah yeah i feel like i'm back it's okay but y...   \n",
       "3    the thing that i didn't really understand, but...   \n",
       "4    so i felt like a time lag in the last one of w...   \n",
       "..                                                 ...   \n",
       "576  i don't know unpleasant  i probably say i'm no...   \n",
       "577  to be honest when i was out of my body i was m...   \n",
       "578  probably yeah, i think i was less concentrate ...   \n",
       "579  i don't think so what was the question about l...   \n",
       "580  no, really i guess it felt kind of similar to ...   \n",
       "\n",
       "                                  preprocessed_content Experiment Condition  \\\n",
       "0    let unexpected surprising moment go realize ge...       OBE1         1   \n",
       "1    watch outside special give lot emotion explain...       OBE1         1   \n",
       "2                              get perfect description       OBE1         1   \n",
       "3    understand understand body touching basically ...       OBE1         1   \n",
       "4                                         lag see body       OBE1         1   \n",
       "..                                                 ...        ...       ...   \n",
       "576  unpleasant probably pleasant unpleasant cool i...       OBE2         I   \n",
       "577  honest body concentrate happen moment meditate...       OBE2         I   \n",
       "578  probably concentrate body concentrate look din...       OBE2         I   \n",
       "579                                          have body       OBE2         I   \n",
       "580                          guess similar look myself       OBE2         I   \n",
       "\n",
       "      Id      Speaker  \n",
       "0      5  Participant  \n",
       "1      5  Participant  \n",
       "2      5  Participant  \n",
       "3      5  Participant  \n",
       "4      5  Participant  \n",
       "..   ...          ...  \n",
       "576  230  Participant  \n",
       "577  230  Participant  \n",
       "578  230  Participant  \n",
       "579  230  Participant  \n",
       "580  230  Participant  \n",
       "\n",
       "[581 rows x 8 columns]"
      ]
     },
     "execution_count": 117,
     "metadata": {},
     "output_type": "execute_result"
    }
   ],
   "source": [
    "df = df.groupby(['File Name','turn_index']).agg({ \n",
    "    'Content': ' '.join,  # Combine raw text\n",
    "    'preprocessed_content': ' '.join,  # Combine preprocessed text\n",
    "    'Experiment': 'first',   # Keep the first \n",
    "    'Condition': 'first',   # Keep the first\n",
    "    'Id': 'first',   # Keep the first\n",
    "    'Speaker': 'first',   # Keep the first\n",
    "}).reset_index()\n",
    "df"
   ]
  },
  {
   "cell_type": "code",
   "execution_count": 118,
   "metadata": {},
   "outputs": [
    {
     "name": "stdout",
     "output_type": "stream",
     "text": [
      "581\n"
     ]
    }
   ],
   "source": [
    "docs = list(df.preprocessed_content)\n",
    "print(len(docs))"
   ]
  },
  {
   "cell_type": "code",
   "execution_count": 119,
   "metadata": {},
   "outputs": [],
   "source": [
    "# look rows with a specific word in the column preprocessed_content\n",
    "#df[df['preprocessed_content'].str.contains(\"course\")]"
   ]
  },
  {
   "cell_type": "markdown",
   "metadata": {},
   "source": [
    "# Define the model"
   ]
  },
  {
   "cell_type": "code",
   "execution_count": 120,
   "metadata": {},
   "outputs": [
    {
     "name": "stderr",
     "output_type": "stream",
     "text": [
      "Batches: 100%|██████████| 19/19 [00:10<00:00,  1.77it/s]\n"
     ]
    }
   ],
   "source": [
    "from sentence_transformers import SentenceTransformer\n",
    "\n",
    "# Pre-calculate embeddings\n",
    "embedding_model = SentenceTransformer(\"all-mpnet-base-v2\") # Better but slower: all-mpnet-base-v2 || Trade-off: all-MiniLM-L6-v2\n",
    "embeddings = embedding_model.encode(docs, show_progress_bar=True)"
   ]
  },
  {
   "cell_type": "code",
   "execution_count": 163,
   "metadata": {},
   "outputs": [],
   "source": [
    "from umap import UMAP\n",
    "from hdbscan import HDBSCAN\n",
    "from bertopic.representation import KeyBERTInspired, PartOfSpeech, MaximalMarginalRelevance\n",
    "\n",
    "# Dimensionality reduction model\n",
    "umap_model = UMAP(n_neighbors=15, n_components=8, min_dist=0.0, metric='cosine', random_state=42)\n",
    "\n",
    "# Clustering model\n",
    "hdbscan_model = HDBSCAN(min_cluster_size=9, metric='euclidean', cluster_selection_method='eom')\n",
    "\n",
    "main_representation_model = KeyBERTInspired()\n",
    "aspect_representation_model1 = PartOfSpeech(\"en_core_web_sm\")\n",
    "aspect_representation_model2 = [KeyBERTInspired(top_n_words=30), \n",
    "                                MaximalMarginalRelevance(diversity=.5)]\n",
    "\n",
    "representation_model = {\n",
    "   \"Main\": main_representation_model,\n",
    "   \"Aspect1\":  aspect_representation_model1,\n",
    "   \"Aspect2\":  aspect_representation_model2 \n",
    "}\n",
    "\n",
    "topic_model = BERTopic(                     \n",
    "# Pipeline models\n",
    "embedding_model=embedding_model,\n",
    "umap_model=umap_model,\n",
    "hdbscan_model=hdbscan_model,\n",
    "representation_model=representation_model,\n",
    "# Hyperparameters\n",
    "verbose=True)"
   ]
  },
  {
   "cell_type": "code",
   "execution_count": 164,
   "metadata": {},
   "outputs": [
    {
     "name": "stderr",
     "output_type": "stream",
     "text": [
      "2025-01-15 16:59:34,964 - BERTopic - Embedding - Transforming documents to embeddings.\n",
      "Batches: 100%|██████████| 19/19 [00:14<00:00,  1.30it/s]\n",
      "2025-01-15 16:59:49,649 - BERTopic - Embedding - Completed ✓\n",
      "2025-01-15 16:59:49,649 - BERTopic - Dimensionality - Fitting the dimensionality reduction algorithm\n",
      "2025-01-15 16:59:51,260 - BERTopic - Dimensionality - Completed ✓\n",
      "2025-01-15 16:59:51,260 - BERTopic - Cluster - Start clustering the reduced embeddings\n",
      "2025-01-15 16:59:51,268 - BERTopic - Cluster - Completed ✓\n",
      "2025-01-15 16:59:51,283 - BERTopic - Representation - Extracting topics from clusters using representation models.\n",
      "2025-01-15 17:00:11,393 - BERTopic - Representation - Completed ✓\n"
     ]
    },
    {
     "data": {
      "text/plain": [
       "12"
      ]
     },
     "execution_count": 164,
     "metadata": {},
     "output_type": "execute_result"
    }
   ],
   "source": [
    "topics, ini_probs = topic_model.fit_transform(docs)\n",
    "num_topics = len(topic_model.get_topics()) - 1\n",
    "num_topics"
   ]
  },
  {
   "cell_type": "code",
   "execution_count": 165,
   "metadata": {},
   "outputs": [
    {
     "data": {
      "text/html": [
       "<div>\n",
       "<style scoped>\n",
       "    .dataframe tbody tr th:only-of-type {\n",
       "        vertical-align: middle;\n",
       "    }\n",
       "\n",
       "    .dataframe tbody tr th {\n",
       "        vertical-align: top;\n",
       "    }\n",
       "\n",
       "    .dataframe thead th {\n",
       "        text-align: right;\n",
       "    }\n",
       "</style>\n",
       "<table border=\"1\" class=\"dataframe\">\n",
       "  <thead>\n",
       "    <tr style=\"text-align: right;\">\n",
       "      <th></th>\n",
       "      <th>Topic</th>\n",
       "      <th>Count</th>\n",
       "      <th>Name</th>\n",
       "      <th>Representation</th>\n",
       "      <th>Aspect1</th>\n",
       "      <th>Aspect2</th>\n",
       "      <th>Representative_Docs</th>\n",
       "    </tr>\n",
       "  </thead>\n",
       "  <tbody>\n",
       "    <tr>\n",
       "      <th>0</th>\n",
       "      <td>-1</td>\n",
       "      <td>177</td>\n",
       "      <td>-1_instruction_attention_observe_virtual</td>\n",
       "      <td>[instruction, attention, observe, virtual, sen...</td>\n",
       "      <td>[look, attention, body, notice, change, start,...</td>\n",
       "      <td>[instruction, virtual, sensation, touch, breat...</td>\n",
       "      <td>[stage experiment say try foot ground literal ...</td>\n",
       "    </tr>\n",
       "    <tr>\n",
       "      <th>1</th>\n",
       "      <td>0</td>\n",
       "      <td>89</td>\n",
       "      <td>0_astral_self_feeling_observe</td>\n",
       "      <td>[astral, self, feeling, observe, mind, sensati...</td>\n",
       "      <td>[body, different, feeling, sense, lot, interes...</td>\n",
       "      <td>[astral, self, mind, sensation, vr, illusion, ...</td>\n",
       "      <td>[peaceful unusual thought go day separate body...</td>\n",
       "    </tr>\n",
       "    <tr>\n",
       "      <th>2</th>\n",
       "      <td>1</td>\n",
       "      <td>47</td>\n",
       "      <td>1_sleep_relaxed_asleep_sleepy</td>\n",
       "      <td>[sleep, relaxed, asleep, sleepy, relaxing, cal...</td>\n",
       "      <td>[sleep, asleep, calm, fall, relaxed, relief, s...</td>\n",
       "      <td>[sleepy, relaxing, pleasant, cushion, worry, f...</td>\n",
       "      <td>[fall asleep, calm want sleep, relaxed afraid ...</td>\n",
       "    </tr>\n",
       "    <tr>\n",
       "      <th>3</th>\n",
       "      <td>2</td>\n",
       "      <td>43</td>\n",
       "      <td>2_touch_touching_hand_delay</td>\n",
       "      <td>[touch, touching, hand, delay, sensation, move...</td>\n",
       "      <td>[touch, body, delay, hand, move, scene, catch,...</td>\n",
       "      <td>[touch, movement, react, lag, reflect, virtual...</td>\n",
       "      <td>[easily fear touch virtual body touch scene to...</td>\n",
       "    </tr>\n",
       "    <tr>\n",
       "      <th>4</th>\n",
       "      <td>3</td>\n",
       "      <td>40</td>\n",
       "      <td>3_body_weight_shape_heavy</td>\n",
       "      <td>[body, weight, shape, heavy, part, inside, per...</td>\n",
       "      <td>[body, light, heavy, see, outside, come, nice,...</td>\n",
       "      <td>[body, shape, part, impression, place, mind, r...</td>\n",
       "      <td>[body, body, body]</td>\n",
       "    </tr>\n",
       "    <tr>\n",
       "      <th>5</th>\n",
       "      <td>4</td>\n",
       "      <td>40</td>\n",
       "      <td>4_color_yellow_red_blue</td>\n",
       "      <td>[color, yellow, red, blue, gray, white, orange...</td>\n",
       "      <td>[color, pixel, different, difference, image, c...</td>\n",
       "      <td>[color, signal, coat, difference, clear, desig...</td>\n",
       "      <td>[see yellow color blue color, notice change co...</td>\n",
       "    </tr>\n",
       "    <tr>\n",
       "      <th>6</th>\n",
       "      <td>5</td>\n",
       "      <td>29</td>\n",
       "      <td>5_forest_tree_jungle_nature</td>\n",
       "      <td>[forest, tree, jungle, nature, landscape, moun...</td>\n",
       "      <td>[forest, tree, setting, stone, rock, element, ...</td>\n",
       "      <td>[forest, landscape, adventure, environment, pl...</td>\n",
       "      <td>[realize need follow instruction stop stop par...</td>\n",
       "    </tr>\n",
       "    <tr>\n",
       "      <th>7</th>\n",
       "      <td>6</td>\n",
       "      <td>27</td>\n",
       "      <td>6_focus_concentrate_meditate_meditating</td>\n",
       "      <td>[focus, concentrate, meditate, meditating, dis...</td>\n",
       "      <td>[focus, distract, try, eye, meditate, point, f...</td>\n",
       "      <td>[focus, meditate, distract, conection, trip, i...</td>\n",
       "      <td>[find body strange express forest meditate clo...</td>\n",
       "    </tr>\n",
       "    <tr>\n",
       "      <th>8</th>\n",
       "      <td>7</td>\n",
       "      <td>25</td>\n",
       "      <td>7_nice_cool_good_great</td>\n",
       "      <td>[nice, cool, good, great, fine, pretty, ok, fu...</td>\n",
       "      <td>[nice, fine, good, fun, total, free, easy, coo...</td>\n",
       "      <td>[cool, pretty, fun, wow, easy, positive, 10, f...</td>\n",
       "      <td>[nice, nice, fun nice]</td>\n",
       "    </tr>\n",
       "    <tr>\n",
       "      <th>9</th>\n",
       "      <td>8</td>\n",
       "      <td>24</td>\n",
       "      <td>8_want_need_type_love</td>\n",
       "      <td>[want, need, type, love, break, guy, find, hel...</td>\n",
       "      <td>[want, guy, unnecessary, urgent, need, break, ...</td>\n",
       "      <td>[want, type, love, break, guy, find, help, dep...</td>\n",
       "      <td>[want want, see guy, right guy want break]</td>\n",
       "    </tr>\n",
       "    <tr>\n",
       "      <th>10</th>\n",
       "      <td>9</td>\n",
       "      <td>15</td>\n",
       "      <td>9_eye_vision_focus_open</td>\n",
       "      <td>[eye, vision, focus, open, closed, visual, clo...</td>\n",
       "      <td>[eye, close, open, fine, normal, view, point, ...</td>\n",
       "      <td>[focus, visual, meditate, difficult, screen, i...</td>\n",
       "      <td>[easy eye open, real eye close instead keep ey...</td>\n",
       "    </tr>\n",
       "    <tr>\n",
       "      <th>11</th>\n",
       "      <td>10</td>\n",
       "      <td>13</td>\n",
       "      <td>10_blink_avatar_eye_refer</td>\n",
       "      <td>[blink, avatar, eye, refer, myself, breath, lo...</td>\n",
       "      <td>[avatar, sync, link, notice, synchronize, enti...</td>\n",
       "      <td>[blink, avatar, eye, refer, myself, breath, lo...</td>\n",
       "      <td>[blink, avatar blink avatar, avatar blink]</td>\n",
       "    </tr>\n",
       "    <tr>\n",
       "      <th>12</th>\n",
       "      <td>11</td>\n",
       "      <td>12</td>\n",
       "      <td>11_strange_weird_unusual_creepy</td>\n",
       "      <td>[strange, weird, unusual, creepy, scary, nice,...</td>\n",
       "      <td>[strange, funny, weird, amazing, wrong, record...</td>\n",
       "      <td>[unusual, creepy, scary, nice, funny, wrong, a...</td>\n",
       "      <td>[strange accept strange, strange, strange]</td>\n",
       "    </tr>\n",
       "  </tbody>\n",
       "</table>\n",
       "</div>"
      ],
      "text/plain": [
       "    Topic  Count                                      Name  \\\n",
       "0      -1    177  -1_instruction_attention_observe_virtual   \n",
       "1       0     89             0_astral_self_feeling_observe   \n",
       "2       1     47             1_sleep_relaxed_asleep_sleepy   \n",
       "3       2     43               2_touch_touching_hand_delay   \n",
       "4       3     40                 3_body_weight_shape_heavy   \n",
       "5       4     40                   4_color_yellow_red_blue   \n",
       "6       5     29               5_forest_tree_jungle_nature   \n",
       "7       6     27   6_focus_concentrate_meditate_meditating   \n",
       "8       7     25                    7_nice_cool_good_great   \n",
       "9       8     24                     8_want_need_type_love   \n",
       "10      9     15                   9_eye_vision_focus_open   \n",
       "11     10     13                 10_blink_avatar_eye_refer   \n",
       "12     11     12           11_strange_weird_unusual_creepy   \n",
       "\n",
       "                                       Representation  \\\n",
       "0   [instruction, attention, observe, virtual, sen...   \n",
       "1   [astral, self, feeling, observe, mind, sensati...   \n",
       "2   [sleep, relaxed, asleep, sleepy, relaxing, cal...   \n",
       "3   [touch, touching, hand, delay, sensation, move...   \n",
       "4   [body, weight, shape, heavy, part, inside, per...   \n",
       "5   [color, yellow, red, blue, gray, white, orange...   \n",
       "6   [forest, tree, jungle, nature, landscape, moun...   \n",
       "7   [focus, concentrate, meditate, meditating, dis...   \n",
       "8   [nice, cool, good, great, fine, pretty, ok, fu...   \n",
       "9   [want, need, type, love, break, guy, find, hel...   \n",
       "10  [eye, vision, focus, open, closed, visual, clo...   \n",
       "11  [blink, avatar, eye, refer, myself, breath, lo...   \n",
       "12  [strange, weird, unusual, creepy, scary, nice,...   \n",
       "\n",
       "                                              Aspect1  \\\n",
       "0   [look, attention, body, notice, change, start,...   \n",
       "1   [body, different, feeling, sense, lot, interes...   \n",
       "2   [sleep, asleep, calm, fall, relaxed, relief, s...   \n",
       "3   [touch, body, delay, hand, move, scene, catch,...   \n",
       "4   [body, light, heavy, see, outside, come, nice,...   \n",
       "5   [color, pixel, different, difference, image, c...   \n",
       "6   [forest, tree, setting, stone, rock, element, ...   \n",
       "7   [focus, distract, try, eye, meditate, point, f...   \n",
       "8   [nice, fine, good, fun, total, free, easy, coo...   \n",
       "9   [want, guy, unnecessary, urgent, need, break, ...   \n",
       "10  [eye, close, open, fine, normal, view, point, ...   \n",
       "11  [avatar, sync, link, notice, synchronize, enti...   \n",
       "12  [strange, funny, weird, amazing, wrong, record...   \n",
       "\n",
       "                                              Aspect2  \\\n",
       "0   [instruction, virtual, sensation, touch, breat...   \n",
       "1   [astral, self, mind, sensation, vr, illusion, ...   \n",
       "2   [sleepy, relaxing, pleasant, cushion, worry, f...   \n",
       "3   [touch, movement, react, lag, reflect, virtual...   \n",
       "4   [body, shape, part, impression, place, mind, r...   \n",
       "5   [color, signal, coat, difference, clear, desig...   \n",
       "6   [forest, landscape, adventure, environment, pl...   \n",
       "7   [focus, meditate, distract, conection, trip, i...   \n",
       "8   [cool, pretty, fun, wow, easy, positive, 10, f...   \n",
       "9   [want, type, love, break, guy, find, help, dep...   \n",
       "10  [focus, visual, meditate, difficult, screen, i...   \n",
       "11  [blink, avatar, eye, refer, myself, breath, lo...   \n",
       "12  [unusual, creepy, scary, nice, funny, wrong, a...   \n",
       "\n",
       "                                  Representative_Docs  \n",
       "0   [stage experiment say try foot ground literal ...  \n",
       "1   [peaceful unusual thought go day separate body...  \n",
       "2   [fall asleep, calm want sleep, relaxed afraid ...  \n",
       "3   [easily fear touch virtual body touch scene to...  \n",
       "4                                  [body, body, body]  \n",
       "5   [see yellow color blue color, notice change co...  \n",
       "6   [realize need follow instruction stop stop par...  \n",
       "7   [find body strange express forest meditate clo...  \n",
       "8                              [nice, nice, fun nice]  \n",
       "9          [want want, see guy, right guy want break]  \n",
       "10  [easy eye open, real eye close instead keep ey...  \n",
       "11         [blink, avatar blink avatar, avatar blink]  \n",
       "12         [strange accept strange, strange, strange]  "
      ]
     },
     "execution_count": 165,
     "metadata": {},
     "output_type": "execute_result"
    }
   ],
   "source": [
    "topic_model.get_topic_info().to_csv(\"topic_model.csv\")\n",
    "topic_model.get_topic_info()"
   ]
  },
  {
   "cell_type": "code",
   "execution_count": 166,
   "metadata": {},
   "outputs": [
    {
     "data": {
      "application/vnd.plotly.v1+json": {
       "config": {
        "plotlyServerURL": "https://plot.ly"
       },
       "data": [
        {
         "marker": {
          "color": "#D55E00"
         },
         "orientation": "h",
         "type": "bar",
         "x": [
          0.3687063455581665,
          0.39443278312683105,
          0.39678046107292175,
          0.4188748300075531,
          0.42058414220809937
         ],
         "xaxis": "x",
         "y": [
          "mind  ",
          "observe  ",
          "feeling  ",
          "self  ",
          "astral  "
         ],
         "yaxis": "y"
        },
        {
         "marker": {
          "color": "#0072B2"
         },
         "orientation": "h",
         "type": "bar",
         "x": [
          0.6088728904724121,
          0.610931932926178,
          0.6124860048294067,
          0.6573358178138733,
          0.742136538028717
         ],
         "xaxis": "x2",
         "y": [
          "relaxing  ",
          "sleepy  ",
          "asleep  ",
          "relaxed  ",
          "sleep  "
         ],
         "yaxis": "y2"
        },
        {
         "marker": {
          "color": "#CC79A7"
         },
         "orientation": "h",
         "type": "bar",
         "x": [
          0.37416884303092957,
          0.37646496295928955,
          0.43249350786209106,
          0.6231825947761536,
          0.7672442197799683
         ],
         "xaxis": "x3",
         "y": [
          "sensation  ",
          "delay  ",
          "hand  ",
          "touching  ",
          "touch  "
         ],
         "yaxis": "y3"
        },
        {
         "marker": {
          "color": "#E69F00"
         },
         "orientation": "h",
         "type": "bar",
         "x": [
          0.37884217500686646,
          0.41100600361824036,
          0.45238161087036133,
          0.4576905369758606,
          0.9793275594711304
         ],
         "xaxis": "x4",
         "y": [
          "part  ",
          "heavy  ",
          "shape  ",
          "weight  ",
          "body  "
         ],
         "yaxis": "y4"
        },
        {
         "marker": {
          "color": "#56B4E9"
         },
         "orientation": "h",
         "type": "bar",
         "x": [
          0.5065993070602417,
          0.5577359795570374,
          0.5627378225326538,
          0.6099072694778442,
          0.7191773653030396
         ],
         "xaxis": "x5",
         "y": [
          "gray  ",
          "blue  ",
          "red  ",
          "yellow  ",
          "color  "
         ],
         "yaxis": "y5"
        },
        {
         "marker": {
          "color": "#009E73"
         },
         "orientation": "h",
         "type": "bar",
         "x": [
          0.45035016536712646,
          0.5137668251991272,
          0.5888983607292175,
          0.6668061017990112,
          0.8452740907669067
         ],
         "xaxis": "x6",
         "y": [
          "landscape  ",
          "nature  ",
          "jungle  ",
          "tree  ",
          "forest  "
         ],
         "yaxis": "y6"
        },
        {
         "marker": {
          "color": "#F0E442"
         },
         "orientation": "h",
         "type": "bar",
         "x": [
          0.4827492833137512,
          0.5493885278701782,
          0.6002281308174133,
          0.6128661036491394,
          0.6362898349761963
         ],
         "xaxis": "x7",
         "y": [
          "distract  ",
          "meditating  ",
          "meditate  ",
          "concentrate  ",
          "focus  "
         ],
         "yaxis": "y7"
        },
        {
         "marker": {
          "color": "#D55E00"
         },
         "orientation": "h",
         "type": "bar",
         "x": [
          0.5164735317230225,
          0.5981296896934509,
          0.601961076259613,
          0.6958987712860107,
          0.9412621259689331
         ],
         "xaxis": "x8",
         "y": [
          "fine  ",
          "great  ",
          "good  ",
          "cool  ",
          "nice  "
         ],
         "yaxis": "y8"
        },
        {
         "marker": {
          "color": "#0072B2"
         },
         "orientation": "h",
         "type": "bar",
         "x": [
          0.45307624340057373,
          0.4683645963668823,
          0.5066138505935669,
          0.6196973323822021,
          0.8385170698165894
         ],
         "xaxis": "x9",
         "y": [
          "break  ",
          "love  ",
          "type  ",
          "need  ",
          "want  "
         ],
         "yaxis": "y9"
        },
        {
         "marker": {
          "color": "#CC79A7"
         },
         "orientation": "h",
         "type": "bar",
         "x": [
          0.3261960744857788,
          0.3978368639945984,
          0.4148882031440735,
          0.4248060882091522,
          0.6541383862495422
         ],
         "xaxis": "x10",
         "y": [
          "closed  ",
          "open  ",
          "focus  ",
          "vision  ",
          "eye  "
         ],
         "yaxis": "y10"
        },
        {
         "marker": {
          "color": "#E69F00"
         },
         "orientation": "h",
         "type": "bar",
         "x": [
          0.3267880082130432,
          0.3276088535785675,
          0.5266769528388977,
          0.6227668523788452,
          0.8871997594833374
         ],
         "xaxis": "x11",
         "y": [
          "myself  ",
          "refer  ",
          "eye  ",
          "avatar  ",
          "blink  "
         ],
         "yaxis": "y11"
        },
        {
         "marker": {
          "color": "#56B4E9"
         },
         "orientation": "h",
         "type": "bar",
         "x": [
          0.39914530515670776,
          0.46945083141326904,
          0.7383697628974915,
          0.8287321925163269,
          0.8990967273712158
         ],
         "xaxis": "x12",
         "y": [
          "scary  ",
          "creepy  ",
          "unusual  ",
          "weird  ",
          "strange  "
         ],
         "yaxis": "y12"
        }
       ],
       "layout": {
        "annotations": [
         {
          "font": {
           "size": 16
          },
          "showarrow": false,
          "text": "Topic 0",
          "x": 0.0875,
          "xanchor": "center",
          "xref": "paper",
          "y": 1,
          "yanchor": "bottom",
          "yref": "paper"
         },
         {
          "font": {
           "size": 16
          },
          "showarrow": false,
          "text": "Topic 1",
          "x": 0.36250000000000004,
          "xanchor": "center",
          "xref": "paper",
          "y": 1,
          "yanchor": "bottom",
          "yref": "paper"
         },
         {
          "font": {
           "size": 16
          },
          "showarrow": false,
          "text": "Topic 2",
          "x": 0.6375000000000001,
          "xanchor": "center",
          "xref": "paper",
          "y": 1,
          "yanchor": "bottom",
          "yref": "paper"
         },
         {
          "font": {
           "size": 16
          },
          "showarrow": false,
          "text": "Topic 3",
          "x": 0.9125,
          "xanchor": "center",
          "xref": "paper",
          "y": 1,
          "yanchor": "bottom",
          "yref": "paper"
         },
         {
          "font": {
           "size": 16
          },
          "showarrow": false,
          "text": "Topic 4",
          "x": 0.0875,
          "xanchor": "center",
          "xref": "paper",
          "y": 0.6222222222222222,
          "yanchor": "bottom",
          "yref": "paper"
         },
         {
          "font": {
           "size": 16
          },
          "showarrow": false,
          "text": "Topic 5",
          "x": 0.36250000000000004,
          "xanchor": "center",
          "xref": "paper",
          "y": 0.6222222222222222,
          "yanchor": "bottom",
          "yref": "paper"
         },
         {
          "font": {
           "size": 16
          },
          "showarrow": false,
          "text": "Topic 6",
          "x": 0.6375000000000001,
          "xanchor": "center",
          "xref": "paper",
          "y": 0.6222222222222222,
          "yanchor": "bottom",
          "yref": "paper"
         },
         {
          "font": {
           "size": 16
          },
          "showarrow": false,
          "text": "Topic 7",
          "x": 0.9125,
          "xanchor": "center",
          "xref": "paper",
          "y": 0.6222222222222222,
          "yanchor": "bottom",
          "yref": "paper"
         },
         {
          "font": {
           "size": 16
          },
          "showarrow": false,
          "text": "Topic 8",
          "x": 0.0875,
          "xanchor": "center",
          "xref": "paper",
          "y": 0.24444444444444446,
          "yanchor": "bottom",
          "yref": "paper"
         },
         {
          "font": {
           "size": 16
          },
          "showarrow": false,
          "text": "Topic 9",
          "x": 0.36250000000000004,
          "xanchor": "center",
          "xref": "paper",
          "y": 0.24444444444444446,
          "yanchor": "bottom",
          "yref": "paper"
         },
         {
          "font": {
           "size": 16
          },
          "showarrow": false,
          "text": "Topic 10",
          "x": 0.6375000000000001,
          "xanchor": "center",
          "xref": "paper",
          "y": 0.24444444444444446,
          "yanchor": "bottom",
          "yref": "paper"
         },
         {
          "font": {
           "size": 16
          },
          "showarrow": false,
          "text": "Topic 11",
          "x": 0.9125,
          "xanchor": "center",
          "xref": "paper",
          "y": 0.24444444444444446,
          "yanchor": "bottom",
          "yref": "paper"
         }
        ],
        "height": 750,
        "hoverlabel": {
         "bgcolor": "white",
         "font": {
          "family": "Rockwell",
          "size": 16
         }
        },
        "showlegend": false,
        "template": {
         "data": {
          "bar": [
           {
            "error_x": {
             "color": "#2a3f5f"
            },
            "error_y": {
             "color": "#2a3f5f"
            },
            "marker": {
             "line": {
              "color": "white",
              "width": 0.5
             },
             "pattern": {
              "fillmode": "overlay",
              "size": 10,
              "solidity": 0.2
             }
            },
            "type": "bar"
           }
          ],
          "barpolar": [
           {
            "marker": {
             "line": {
              "color": "white",
              "width": 0.5
             },
             "pattern": {
              "fillmode": "overlay",
              "size": 10,
              "solidity": 0.2
             }
            },
            "type": "barpolar"
           }
          ],
          "carpet": [
           {
            "aaxis": {
             "endlinecolor": "#2a3f5f",
             "gridcolor": "#C8D4E3",
             "linecolor": "#C8D4E3",
             "minorgridcolor": "#C8D4E3",
             "startlinecolor": "#2a3f5f"
            },
            "baxis": {
             "endlinecolor": "#2a3f5f",
             "gridcolor": "#C8D4E3",
             "linecolor": "#C8D4E3",
             "minorgridcolor": "#C8D4E3",
             "startlinecolor": "#2a3f5f"
            },
            "type": "carpet"
           }
          ],
          "choropleth": [
           {
            "colorbar": {
             "outlinewidth": 0,
             "ticks": ""
            },
            "type": "choropleth"
           }
          ],
          "contour": [
           {
            "colorbar": {
             "outlinewidth": 0,
             "ticks": ""
            },
            "colorscale": [
             [
              0,
              "#0d0887"
             ],
             [
              0.1111111111111111,
              "#46039f"
             ],
             [
              0.2222222222222222,
              "#7201a8"
             ],
             [
              0.3333333333333333,
              "#9c179e"
             ],
             [
              0.4444444444444444,
              "#bd3786"
             ],
             [
              0.5555555555555556,
              "#d8576b"
             ],
             [
              0.6666666666666666,
              "#ed7953"
             ],
             [
              0.7777777777777778,
              "#fb9f3a"
             ],
             [
              0.8888888888888888,
              "#fdca26"
             ],
             [
              1,
              "#f0f921"
             ]
            ],
            "type": "contour"
           }
          ],
          "contourcarpet": [
           {
            "colorbar": {
             "outlinewidth": 0,
             "ticks": ""
            },
            "type": "contourcarpet"
           }
          ],
          "heatmap": [
           {
            "colorbar": {
             "outlinewidth": 0,
             "ticks": ""
            },
            "colorscale": [
             [
              0,
              "#0d0887"
             ],
             [
              0.1111111111111111,
              "#46039f"
             ],
             [
              0.2222222222222222,
              "#7201a8"
             ],
             [
              0.3333333333333333,
              "#9c179e"
             ],
             [
              0.4444444444444444,
              "#bd3786"
             ],
             [
              0.5555555555555556,
              "#d8576b"
             ],
             [
              0.6666666666666666,
              "#ed7953"
             ],
             [
              0.7777777777777778,
              "#fb9f3a"
             ],
             [
              0.8888888888888888,
              "#fdca26"
             ],
             [
              1,
              "#f0f921"
             ]
            ],
            "type": "heatmap"
           }
          ],
          "heatmapgl": [
           {
            "colorbar": {
             "outlinewidth": 0,
             "ticks": ""
            },
            "colorscale": [
             [
              0,
              "#0d0887"
             ],
             [
              0.1111111111111111,
              "#46039f"
             ],
             [
              0.2222222222222222,
              "#7201a8"
             ],
             [
              0.3333333333333333,
              "#9c179e"
             ],
             [
              0.4444444444444444,
              "#bd3786"
             ],
             [
              0.5555555555555556,
              "#d8576b"
             ],
             [
              0.6666666666666666,
              "#ed7953"
             ],
             [
              0.7777777777777778,
              "#fb9f3a"
             ],
             [
              0.8888888888888888,
              "#fdca26"
             ],
             [
              1,
              "#f0f921"
             ]
            ],
            "type": "heatmapgl"
           }
          ],
          "histogram": [
           {
            "marker": {
             "pattern": {
              "fillmode": "overlay",
              "size": 10,
              "solidity": 0.2
             }
            },
            "type": "histogram"
           }
          ],
          "histogram2d": [
           {
            "colorbar": {
             "outlinewidth": 0,
             "ticks": ""
            },
            "colorscale": [
             [
              0,
              "#0d0887"
             ],
             [
              0.1111111111111111,
              "#46039f"
             ],
             [
              0.2222222222222222,
              "#7201a8"
             ],
             [
              0.3333333333333333,
              "#9c179e"
             ],
             [
              0.4444444444444444,
              "#bd3786"
             ],
             [
              0.5555555555555556,
              "#d8576b"
             ],
             [
              0.6666666666666666,
              "#ed7953"
             ],
             [
              0.7777777777777778,
              "#fb9f3a"
             ],
             [
              0.8888888888888888,
              "#fdca26"
             ],
             [
              1,
              "#f0f921"
             ]
            ],
            "type": "histogram2d"
           }
          ],
          "histogram2dcontour": [
           {
            "colorbar": {
             "outlinewidth": 0,
             "ticks": ""
            },
            "colorscale": [
             [
              0,
              "#0d0887"
             ],
             [
              0.1111111111111111,
              "#46039f"
             ],
             [
              0.2222222222222222,
              "#7201a8"
             ],
             [
              0.3333333333333333,
              "#9c179e"
             ],
             [
              0.4444444444444444,
              "#bd3786"
             ],
             [
              0.5555555555555556,
              "#d8576b"
             ],
             [
              0.6666666666666666,
              "#ed7953"
             ],
             [
              0.7777777777777778,
              "#fb9f3a"
             ],
             [
              0.8888888888888888,
              "#fdca26"
             ],
             [
              1,
              "#f0f921"
             ]
            ],
            "type": "histogram2dcontour"
           }
          ],
          "mesh3d": [
           {
            "colorbar": {
             "outlinewidth": 0,
             "ticks": ""
            },
            "type": "mesh3d"
           }
          ],
          "parcoords": [
           {
            "line": {
             "colorbar": {
              "outlinewidth": 0,
              "ticks": ""
             }
            },
            "type": "parcoords"
           }
          ],
          "pie": [
           {
            "automargin": true,
            "type": "pie"
           }
          ],
          "scatter": [
           {
            "fillpattern": {
             "fillmode": "overlay",
             "size": 10,
             "solidity": 0.2
            },
            "type": "scatter"
           }
          ],
          "scatter3d": [
           {
            "line": {
             "colorbar": {
              "outlinewidth": 0,
              "ticks": ""
             }
            },
            "marker": {
             "colorbar": {
              "outlinewidth": 0,
              "ticks": ""
             }
            },
            "type": "scatter3d"
           }
          ],
          "scattercarpet": [
           {
            "marker": {
             "colorbar": {
              "outlinewidth": 0,
              "ticks": ""
             }
            },
            "type": "scattercarpet"
           }
          ],
          "scattergeo": [
           {
            "marker": {
             "colorbar": {
              "outlinewidth": 0,
              "ticks": ""
             }
            },
            "type": "scattergeo"
           }
          ],
          "scattergl": [
           {
            "marker": {
             "colorbar": {
              "outlinewidth": 0,
              "ticks": ""
             }
            },
            "type": "scattergl"
           }
          ],
          "scattermapbox": [
           {
            "marker": {
             "colorbar": {
              "outlinewidth": 0,
              "ticks": ""
             }
            },
            "type": "scattermapbox"
           }
          ],
          "scatterpolar": [
           {
            "marker": {
             "colorbar": {
              "outlinewidth": 0,
              "ticks": ""
             }
            },
            "type": "scatterpolar"
           }
          ],
          "scatterpolargl": [
           {
            "marker": {
             "colorbar": {
              "outlinewidth": 0,
              "ticks": ""
             }
            },
            "type": "scatterpolargl"
           }
          ],
          "scatterternary": [
           {
            "marker": {
             "colorbar": {
              "outlinewidth": 0,
              "ticks": ""
             }
            },
            "type": "scatterternary"
           }
          ],
          "surface": [
           {
            "colorbar": {
             "outlinewidth": 0,
             "ticks": ""
            },
            "colorscale": [
             [
              0,
              "#0d0887"
             ],
             [
              0.1111111111111111,
              "#46039f"
             ],
             [
              0.2222222222222222,
              "#7201a8"
             ],
             [
              0.3333333333333333,
              "#9c179e"
             ],
             [
              0.4444444444444444,
              "#bd3786"
             ],
             [
              0.5555555555555556,
              "#d8576b"
             ],
             [
              0.6666666666666666,
              "#ed7953"
             ],
             [
              0.7777777777777778,
              "#fb9f3a"
             ],
             [
              0.8888888888888888,
              "#fdca26"
             ],
             [
              1,
              "#f0f921"
             ]
            ],
            "type": "surface"
           }
          ],
          "table": [
           {
            "cells": {
             "fill": {
              "color": "#EBF0F8"
             },
             "line": {
              "color": "white"
             }
            },
            "header": {
             "fill": {
              "color": "#C8D4E3"
             },
             "line": {
              "color": "white"
             }
            },
            "type": "table"
           }
          ]
         },
         "layout": {
          "annotationdefaults": {
           "arrowcolor": "#2a3f5f",
           "arrowhead": 0,
           "arrowwidth": 1
          },
          "autotypenumbers": "strict",
          "coloraxis": {
           "colorbar": {
            "outlinewidth": 0,
            "ticks": ""
           }
          },
          "colorscale": {
           "diverging": [
            [
             0,
             "#8e0152"
            ],
            [
             0.1,
             "#c51b7d"
            ],
            [
             0.2,
             "#de77ae"
            ],
            [
             0.3,
             "#f1b6da"
            ],
            [
             0.4,
             "#fde0ef"
            ],
            [
             0.5,
             "#f7f7f7"
            ],
            [
             0.6,
             "#e6f5d0"
            ],
            [
             0.7,
             "#b8e186"
            ],
            [
             0.8,
             "#7fbc41"
            ],
            [
             0.9,
             "#4d9221"
            ],
            [
             1,
             "#276419"
            ]
           ],
           "sequential": [
            [
             0,
             "#0d0887"
            ],
            [
             0.1111111111111111,
             "#46039f"
            ],
            [
             0.2222222222222222,
             "#7201a8"
            ],
            [
             0.3333333333333333,
             "#9c179e"
            ],
            [
             0.4444444444444444,
             "#bd3786"
            ],
            [
             0.5555555555555556,
             "#d8576b"
            ],
            [
             0.6666666666666666,
             "#ed7953"
            ],
            [
             0.7777777777777778,
             "#fb9f3a"
            ],
            [
             0.8888888888888888,
             "#fdca26"
            ],
            [
             1,
             "#f0f921"
            ]
           ],
           "sequentialminus": [
            [
             0,
             "#0d0887"
            ],
            [
             0.1111111111111111,
             "#46039f"
            ],
            [
             0.2222222222222222,
             "#7201a8"
            ],
            [
             0.3333333333333333,
             "#9c179e"
            ],
            [
             0.4444444444444444,
             "#bd3786"
            ],
            [
             0.5555555555555556,
             "#d8576b"
            ],
            [
             0.6666666666666666,
             "#ed7953"
            ],
            [
             0.7777777777777778,
             "#fb9f3a"
            ],
            [
             0.8888888888888888,
             "#fdca26"
            ],
            [
             1,
             "#f0f921"
            ]
           ]
          },
          "colorway": [
           "#636efa",
           "#EF553B",
           "#00cc96",
           "#ab63fa",
           "#FFA15A",
           "#19d3f3",
           "#FF6692",
           "#B6E880",
           "#FF97FF",
           "#FECB52"
          ],
          "font": {
           "color": "#2a3f5f"
          },
          "geo": {
           "bgcolor": "white",
           "lakecolor": "white",
           "landcolor": "white",
           "showlakes": true,
           "showland": true,
           "subunitcolor": "#C8D4E3"
          },
          "hoverlabel": {
           "align": "left"
          },
          "hovermode": "closest",
          "mapbox": {
           "style": "light"
          },
          "paper_bgcolor": "white",
          "plot_bgcolor": "white",
          "polar": {
           "angularaxis": {
            "gridcolor": "#EBF0F8",
            "linecolor": "#EBF0F8",
            "ticks": ""
           },
           "bgcolor": "white",
           "radialaxis": {
            "gridcolor": "#EBF0F8",
            "linecolor": "#EBF0F8",
            "ticks": ""
           }
          },
          "scene": {
           "xaxis": {
            "backgroundcolor": "white",
            "gridcolor": "#DFE8F3",
            "gridwidth": 2,
            "linecolor": "#EBF0F8",
            "showbackground": true,
            "ticks": "",
            "zerolinecolor": "#EBF0F8"
           },
           "yaxis": {
            "backgroundcolor": "white",
            "gridcolor": "#DFE8F3",
            "gridwidth": 2,
            "linecolor": "#EBF0F8",
            "showbackground": true,
            "ticks": "",
            "zerolinecolor": "#EBF0F8"
           },
           "zaxis": {
            "backgroundcolor": "white",
            "gridcolor": "#DFE8F3",
            "gridwidth": 2,
            "linecolor": "#EBF0F8",
            "showbackground": true,
            "ticks": "",
            "zerolinecolor": "#EBF0F8"
           }
          },
          "shapedefaults": {
           "line": {
            "color": "#2a3f5f"
           }
          },
          "ternary": {
           "aaxis": {
            "gridcolor": "#DFE8F3",
            "linecolor": "#A2B1C6",
            "ticks": ""
           },
           "baxis": {
            "gridcolor": "#DFE8F3",
            "linecolor": "#A2B1C6",
            "ticks": ""
           },
           "bgcolor": "white",
           "caxis": {
            "gridcolor": "#DFE8F3",
            "linecolor": "#A2B1C6",
            "ticks": ""
           }
          },
          "title": {
           "x": 0.05
          },
          "xaxis": {
           "automargin": true,
           "gridcolor": "#EBF0F8",
           "linecolor": "#EBF0F8",
           "ticks": "",
           "title": {
            "standoff": 15
           },
           "zerolinecolor": "#EBF0F8",
           "zerolinewidth": 2
          },
          "yaxis": {
           "automargin": true,
           "gridcolor": "#EBF0F8",
           "linecolor": "#EBF0F8",
           "ticks": "",
           "title": {
            "standoff": 15
           },
           "zerolinecolor": "#EBF0F8",
           "zerolinewidth": 2
          }
         }
        },
        "title": {
         "font": {
          "color": "Black",
          "size": 22
         },
         "text": "Topic Word Scores",
         "x": 0.5,
         "xanchor": "center",
         "yanchor": "top"
        },
        "width": 1000,
        "xaxis": {
         "anchor": "y",
         "domain": [
          0,
          0.175
         ],
         "showgrid": true
        },
        "xaxis10": {
         "anchor": "y10",
         "domain": [
          0.275,
          0.45
         ],
         "showgrid": true
        },
        "xaxis11": {
         "anchor": "y11",
         "domain": [
          0.55,
          0.7250000000000001
         ],
         "showgrid": true
        },
        "xaxis12": {
         "anchor": "y12",
         "domain": [
          0.825,
          1
         ],
         "showgrid": true
        },
        "xaxis2": {
         "anchor": "y2",
         "domain": [
          0.275,
          0.45
         ],
         "showgrid": true
        },
        "xaxis3": {
         "anchor": "y3",
         "domain": [
          0.55,
          0.7250000000000001
         ],
         "showgrid": true
        },
        "xaxis4": {
         "anchor": "y4",
         "domain": [
          0.825,
          1
         ],
         "showgrid": true
        },
        "xaxis5": {
         "anchor": "y5",
         "domain": [
          0,
          0.175
         ],
         "showgrid": true
        },
        "xaxis6": {
         "anchor": "y6",
         "domain": [
          0.275,
          0.45
         ],
         "showgrid": true
        },
        "xaxis7": {
         "anchor": "y7",
         "domain": [
          0.55,
          0.7250000000000001
         ],
         "showgrid": true
        },
        "xaxis8": {
         "anchor": "y8",
         "domain": [
          0.825,
          1
         ],
         "showgrid": true
        },
        "xaxis9": {
         "anchor": "y9",
         "domain": [
          0,
          0.175
         ],
         "showgrid": true
        },
        "yaxis": {
         "anchor": "x",
         "domain": [
          0.7555555555555555,
          1
         ],
         "showgrid": true
        },
        "yaxis10": {
         "anchor": "x10",
         "domain": [
          0,
          0.24444444444444446
         ],
         "showgrid": true
        },
        "yaxis11": {
         "anchor": "x11",
         "domain": [
          0,
          0.24444444444444446
         ],
         "showgrid": true
        },
        "yaxis12": {
         "anchor": "x12",
         "domain": [
          0,
          0.24444444444444446
         ],
         "showgrid": true
        },
        "yaxis2": {
         "anchor": "x2",
         "domain": [
          0.7555555555555555,
          1
         ],
         "showgrid": true
        },
        "yaxis3": {
         "anchor": "x3",
         "domain": [
          0.7555555555555555,
          1
         ],
         "showgrid": true
        },
        "yaxis4": {
         "anchor": "x4",
         "domain": [
          0.7555555555555555,
          1
         ],
         "showgrid": true
        },
        "yaxis5": {
         "anchor": "x5",
         "domain": [
          0.37777777777777777,
          0.6222222222222222
         ],
         "showgrid": true
        },
        "yaxis6": {
         "anchor": "x6",
         "domain": [
          0.37777777777777777,
          0.6222222222222222
         ],
         "showgrid": true
        },
        "yaxis7": {
         "anchor": "x7",
         "domain": [
          0.37777777777777777,
          0.6222222222222222
         ],
         "showgrid": true
        },
        "yaxis8": {
         "anchor": "x8",
         "domain": [
          0.37777777777777777,
          0.6222222222222222
         ],
         "showgrid": true
        },
        "yaxis9": {
         "anchor": "x9",
         "domain": [
          0,
          0.24444444444444446
         ],
         "showgrid": true
        }
       }
      }
     },
     "metadata": {},
     "output_type": "display_data"
    }
   ],
   "source": [
    "topic_model.visualize_barchart(top_n_topics=16)"
   ]
  },
  {
   "cell_type": "code",
   "execution_count": 167,
   "metadata": {},
   "outputs": [
    {
     "data": {
      "text/html": [
       "<div>\n",
       "<style scoped>\n",
       "    .dataframe tbody tr th:only-of-type {\n",
       "        vertical-align: middle;\n",
       "    }\n",
       "\n",
       "    .dataframe tbody tr th {\n",
       "        vertical-align: top;\n",
       "    }\n",
       "\n",
       "    .dataframe thead th {\n",
       "        text-align: right;\n",
       "    }\n",
       "</style>\n",
       "<table border=\"1\" class=\"dataframe\">\n",
       "  <thead>\n",
       "    <tr style=\"text-align: right;\">\n",
       "      <th></th>\n",
       "      <th>Topic</th>\n",
       "      <th>Count</th>\n",
       "      <th>Name</th>\n",
       "      <th>Representation</th>\n",
       "      <th>Aspect1</th>\n",
       "      <th>Aspect2</th>\n",
       "      <th>Representative_Docs</th>\n",
       "    </tr>\n",
       "  </thead>\n",
       "  <tbody>\n",
       "    <tr>\n",
       "      <th>0</th>\n",
       "      <td>-1</td>\n",
       "      <td>177</td>\n",
       "      <td>-1_say_look_body_come</td>\n",
       "      <td>[say, look, body, come, attention, notice, cha...</td>\n",
       "      <td>[look, attention, body, notice, change, start,...</td>\n",
       "      <td>[instruction, virtual, sensation, touch, breat...</td>\n",
       "      <td>[stage experiment say try foot ground literal ...</td>\n",
       "    </tr>\n",
       "    <tr>\n",
       "      <th>1</th>\n",
       "      <td>0</td>\n",
       "      <td>89</td>\n",
       "      <td>0_body_different_feeling_sense</td>\n",
       "      <td>[body, different, feeling, sense, outside, lot...</td>\n",
       "      <td>[body, different, feeling, sense, lot, interes...</td>\n",
       "      <td>[astral, self, mind, sensation, vr, illusion, ...</td>\n",
       "      <td>[peaceful unusual thought go day separate body...</td>\n",
       "    </tr>\n",
       "    <tr>\n",
       "      <th>2</th>\n",
       "      <td>1</td>\n",
       "      <td>47</td>\n",
       "      <td>1_relax_sleep_calm_asleep</td>\n",
       "      <td>[relax, sleep, calm, asleep, fall, fall asleep...</td>\n",
       "      <td>[sleep, asleep, calm, fall, relaxed, relief, s...</td>\n",
       "      <td>[sleepy, relaxing, pleasant, cushion, worry, f...</td>\n",
       "      <td>[fall asleep, calm want sleep, relaxed afraid ...</td>\n",
       "    </tr>\n",
       "    <tr>\n",
       "      <th>3</th>\n",
       "      <td>2</td>\n",
       "      <td>43</td>\n",
       "      <td>2_touch_body_delay_body touch</td>\n",
       "      <td>[touch, body, delay, body touch, hand, scene, ...</td>\n",
       "      <td>[touch, body, delay, hand, move, scene, catch,...</td>\n",
       "      <td>[touch, movement, react, lag, reflect, virtual...</td>\n",
       "      <td>[easily fear touch virtual body touch scene to...</td>\n",
       "    </tr>\n",
       "    <tr>\n",
       "      <th>4</th>\n",
       "      <td>3</td>\n",
       "      <td>40</td>\n",
       "      <td>3_body_body body_light_heavy</td>\n",
       "      <td>[body, body body, light, heavy, body body body...</td>\n",
       "      <td>[body, light, heavy, see, outside, come, nice,...</td>\n",
       "      <td>[body, shape, part, impression, place, mind, r...</td>\n",
       "      <td>[body, body, body]</td>\n",
       "    </tr>\n",
       "    <tr>\n",
       "      <th>5</th>\n",
       "      <td>4</td>\n",
       "      <td>40</td>\n",
       "      <td>4_color_pixel_different_difference</td>\n",
       "      <td>[color, pixel, different, difference, image, c...</td>\n",
       "      <td>[color, pixel, different, difference, image, c...</td>\n",
       "      <td>[color, signal, coat, difference, clear, desig...</td>\n",
       "      <td>[see yellow color blue color, notice change co...</td>\n",
       "    </tr>\n",
       "    <tr>\n",
       "      <th>6</th>\n",
       "      <td>5</td>\n",
       "      <td>29</td>\n",
       "      <td>5_forest_tree_setting_rock</td>\n",
       "      <td>[forest, tree, setting, rock, stone, nature, n...</td>\n",
       "      <td>[forest, tree, setting, stone, rock, element, ...</td>\n",
       "      <td>[forest, landscape, adventure, environment, pl...</td>\n",
       "      <td>[realize need follow instruction stop stop par...</td>\n",
       "    </tr>\n",
       "    <tr>\n",
       "      <th>7</th>\n",
       "      <td>6</td>\n",
       "      <td>27</td>\n",
       "      <td>6_focus_try_eye_distract</td>\n",
       "      <td>[focus, try, eye, distract, meditate, point, c...</td>\n",
       "      <td>[focus, distract, try, eye, meditate, point, f...</td>\n",
       "      <td>[focus, meditate, distract, conection, trip, i...</td>\n",
       "      <td>[find body strange express forest meditate clo...</td>\n",
       "    </tr>\n",
       "    <tr>\n",
       "      <th>8</th>\n",
       "      <td>7</td>\n",
       "      <td>25</td>\n",
       "      <td>7_nice_fine_good_fine nice</td>\n",
       "      <td>[nice, fine, good, fine nice, fun, pretty, eas...</td>\n",
       "      <td>[nice, fine, good, fun, total, free, easy, coo...</td>\n",
       "      <td>[cool, pretty, fun, wow, easy, positive, 10, f...</td>\n",
       "      <td>[nice, nice, fun nice]</td>\n",
       "    </tr>\n",
       "    <tr>\n",
       "      <th>9</th>\n",
       "      <td>8</td>\n",
       "      <td>24</td>\n",
       "      <td>8_want_guy_follow_need</td>\n",
       "      <td>[want, guy, follow, need, answer want want, br...</td>\n",
       "      <td>[want, guy, unnecessary, urgent, need, break, ...</td>\n",
       "      <td>[want, type, love, break, guy, find, help, dep...</td>\n",
       "      <td>[want want, see guy, right guy want break]</td>\n",
       "    </tr>\n",
       "    <tr>\n",
       "      <th>10</th>\n",
       "      <td>9</td>\n",
       "      <td>15</td>\n",
       "      <td>9_eye_close_open_eye close</td>\n",
       "      <td>[eye, close, open, eye close, eye open, close ...</td>\n",
       "      <td>[eye, close, open, fine, normal, view, point, ...</td>\n",
       "      <td>[focus, visual, meditate, difficult, screen, i...</td>\n",
       "      <td>[easy eye open, real eye close instead keep ey...</td>\n",
       "    </tr>\n",
       "    <tr>\n",
       "      <th>11</th>\n",
       "      <td>10</td>\n",
       "      <td>13</td>\n",
       "      <td>10_avatar_blink_sync_link</td>\n",
       "      <td>[avatar, blink, sync, link, notice, avatar bli...</td>\n",
       "      <td>[avatar, sync, link, notice, synchronize, enti...</td>\n",
       "      <td>[blink, avatar, eye, refer, myself, breath, lo...</td>\n",
       "      <td>[blink, avatar blink avatar, avatar blink]</td>\n",
       "    </tr>\n",
       "    <tr>\n",
       "      <th>12</th>\n",
       "      <td>11</td>\n",
       "      <td>12</td>\n",
       "      <td>11_strange_strange strange_weird_funny</td>\n",
       "      <td>[strange, strange strange, weird, funny, accep...</td>\n",
       "      <td>[strange, funny, weird, amazing, wrong, record...</td>\n",
       "      <td>[unusual, creepy, scary, nice, funny, wrong, a...</td>\n",
       "      <td>[strange accept strange, strange, strange]</td>\n",
       "    </tr>\n",
       "  </tbody>\n",
       "</table>\n",
       "</div>"
      ],
      "text/plain": [
       "    Topic  Count                                    Name  \\\n",
       "0      -1    177                   -1_say_look_body_come   \n",
       "1       0     89          0_body_different_feeling_sense   \n",
       "2       1     47               1_relax_sleep_calm_asleep   \n",
       "3       2     43           2_touch_body_delay_body touch   \n",
       "4       3     40            3_body_body body_light_heavy   \n",
       "5       4     40      4_color_pixel_different_difference   \n",
       "6       5     29              5_forest_tree_setting_rock   \n",
       "7       6     27                6_focus_try_eye_distract   \n",
       "8       7     25              7_nice_fine_good_fine nice   \n",
       "9       8     24                  8_want_guy_follow_need   \n",
       "10      9     15              9_eye_close_open_eye close   \n",
       "11     10     13               10_avatar_blink_sync_link   \n",
       "12     11     12  11_strange_strange strange_weird_funny   \n",
       "\n",
       "                                       Representation  \\\n",
       "0   [say, look, body, come, attention, notice, cha...   \n",
       "1   [body, different, feeling, sense, outside, lot...   \n",
       "2   [relax, sleep, calm, asleep, fall, fall asleep...   \n",
       "3   [touch, body, delay, body touch, hand, scene, ...   \n",
       "4   [body, body body, light, heavy, body body body...   \n",
       "5   [color, pixel, different, difference, image, c...   \n",
       "6   [forest, tree, setting, rock, stone, nature, n...   \n",
       "7   [focus, try, eye, distract, meditate, point, c...   \n",
       "8   [nice, fine, good, fine nice, fun, pretty, eas...   \n",
       "9   [want, guy, follow, need, answer want want, br...   \n",
       "10  [eye, close, open, eye close, eye open, close ...   \n",
       "11  [avatar, blink, sync, link, notice, avatar bli...   \n",
       "12  [strange, strange strange, weird, funny, accep...   \n",
       "\n",
       "                                              Aspect1  \\\n",
       "0   [look, attention, body, notice, change, start,...   \n",
       "1   [body, different, feeling, sense, lot, interes...   \n",
       "2   [sleep, asleep, calm, fall, relaxed, relief, s...   \n",
       "3   [touch, body, delay, hand, move, scene, catch,...   \n",
       "4   [body, light, heavy, see, outside, come, nice,...   \n",
       "5   [color, pixel, different, difference, image, c...   \n",
       "6   [forest, tree, setting, stone, rock, element, ...   \n",
       "7   [focus, distract, try, eye, meditate, point, f...   \n",
       "8   [nice, fine, good, fun, total, free, easy, coo...   \n",
       "9   [want, guy, unnecessary, urgent, need, break, ...   \n",
       "10  [eye, close, open, fine, normal, view, point, ...   \n",
       "11  [avatar, sync, link, notice, synchronize, enti...   \n",
       "12  [strange, funny, weird, amazing, wrong, record...   \n",
       "\n",
       "                                              Aspect2  \\\n",
       "0   [instruction, virtual, sensation, touch, breat...   \n",
       "1   [astral, self, mind, sensation, vr, illusion, ...   \n",
       "2   [sleepy, relaxing, pleasant, cushion, worry, f...   \n",
       "3   [touch, movement, react, lag, reflect, virtual...   \n",
       "4   [body, shape, part, impression, place, mind, r...   \n",
       "5   [color, signal, coat, difference, clear, desig...   \n",
       "6   [forest, landscape, adventure, environment, pl...   \n",
       "7   [focus, meditate, distract, conection, trip, i...   \n",
       "8   [cool, pretty, fun, wow, easy, positive, 10, f...   \n",
       "9   [want, type, love, break, guy, find, help, dep...   \n",
       "10  [focus, visual, meditate, difficult, screen, i...   \n",
       "11  [blink, avatar, eye, refer, myself, breath, lo...   \n",
       "12  [unusual, creepy, scary, nice, funny, wrong, a...   \n",
       "\n",
       "                                  Representative_Docs  \n",
       "0   [stage experiment say try foot ground literal ...  \n",
       "1   [peaceful unusual thought go day separate body...  \n",
       "2   [fall asleep, calm want sleep, relaxed afraid ...  \n",
       "3   [easily fear touch virtual body touch scene to...  \n",
       "4                                  [body, body, body]  \n",
       "5   [see yellow color blue color, notice change co...  \n",
       "6   [realize need follow instruction stop stop par...  \n",
       "7   [find body strange express forest meditate clo...  \n",
       "8                              [nice, nice, fun nice]  \n",
       "9          [want want, see guy, right guy want break]  \n",
       "10  [easy eye open, real eye close instead keep ey...  \n",
       "11         [blink, avatar blink avatar, avatar blink]  \n",
       "12         [strange accept strange, strange, strange]  "
      ]
     },
     "execution_count": 167,
     "metadata": {},
     "output_type": "execute_result"
    }
   ],
   "source": [
    "from sklearn.feature_extraction.text import CountVectorizer\n",
    "vectorizer_model = CountVectorizer(ngram_range=(1, 3), stop_words=\"english\")\n",
    "topic_model.update_topics(docs, vectorizer_model=vectorizer_model)\n",
    "\n",
    "topic_model.get_topic_info()"
   ]
  },
  {
   "cell_type": "code",
   "execution_count": 168,
   "metadata": {},
   "outputs": [
    {
     "data": {
      "application/vnd.plotly.v1+json": {
       "config": {
        "plotlyServerURL": "https://plot.ly"
       },
       "data": [
        {
         "marker": {
          "color": "#D55E00"
         },
         "orientation": "h",
         "type": "bar",
         "x": [
          0.012526881724970337,
          0.012737685648452153,
          0.014600256585553343,
          0.0171180032957468,
          0.03033449333449356
         ],
         "xaxis": "x",
         "y": [
          "outside  ",
          "sense  ",
          "feeling  ",
          "different  ",
          "body  "
         ],
         "yaxis": "y"
        },
        {
         "marker": {
          "color": "#0072B2"
         },
         "orientation": "h",
         "type": "bar",
         "x": [
          0.06661605357824704,
          0.0701519964254885,
          0.07216477210950803,
          0.0759919494682649,
          0.08424060166847144
         ],
         "xaxis": "x2",
         "y": [
          "fall  ",
          "asleep  ",
          "calm  ",
          "sleep  ",
          "relax  "
         ],
         "yaxis": "y2"
        },
        {
         "marker": {
          "color": "#CC79A7"
         },
         "orientation": "h",
         "type": "bar",
         "x": [
          0.03841854450047552,
          0.041659940338382544,
          0.04749770998507267,
          0.06437145902961607,
          0.1006831036078025
         ],
         "xaxis": "x3",
         "y": [
          "hand  ",
          "body touch  ",
          "delay  ",
          "body  ",
          "touch  "
         ],
         "yaxis": "y3"
        },
        {
         "marker": {
          "color": "#E69F00"
         },
         "orientation": "h",
         "type": "bar",
         "x": [
          0.05609790325748547,
          0.06731748390898255,
          0.07069764358897365,
          0.08100484276758128,
          0.15482853710297112
         ],
         "xaxis": "x4",
         "y": [
          "body body body  ",
          "heavy  ",
          "light  ",
          "body body  ",
          "body  "
         ],
         "yaxis": "y4"
        },
        {
         "marker": {
          "color": "#56B4E9"
         },
         "orientation": "h",
         "type": "bar",
         "x": [
          0.04282804236841188,
          0.04324525080928659,
          0.05663053777168115,
          0.058578697522806394,
          0.1018368268848332
         ],
         "xaxis": "x5",
         "y": [
          "image  ",
          "difference  ",
          "different  ",
          "pixel  ",
          "color  "
         ],
         "yaxis": "y5"
        },
        {
         "marker": {
          "color": "#009E73"
         },
         "orientation": "h",
         "type": "bar",
         "x": [
          0.0334994100361977,
          0.03422973687176178,
          0.04029029846424394,
          0.04193684882593092,
          0.0937314533799678
         ],
         "xaxis": "x6",
         "y": [
          "stone  ",
          "rock  ",
          "setting  ",
          "tree  ",
          "forest  "
         ],
         "yaxis": "y6"
        },
        {
         "marker": {
          "color": "#F0E442"
         },
         "orientation": "h",
         "type": "bar",
         "x": [
          0.02747260330760418,
          0.03145263661944819,
          0.03253107319093925,
          0.03401445484424901,
          0.0902758800435186
         ],
         "xaxis": "x7",
         "y": [
          "meditate  ",
          "distract  ",
          "eye  ",
          "try  ",
          "focus  "
         ],
         "yaxis": "y7"
        },
        {
         "marker": {
          "color": "#D55E00"
         },
         "orientation": "h",
         "type": "bar",
         "x": [
          0.12060292256242724,
          0.1290288429577201,
          0.15219392708085222,
          0.18740780937289572,
          0.21027098677237482
         ],
         "xaxis": "x8",
         "y": [
          "fun  ",
          "fine nice  ",
          "good  ",
          "fine  ",
          "nice  "
         ],
         "yaxis": "y8"
        },
        {
         "marker": {
          "color": "#0072B2"
         },
         "orientation": "h",
         "type": "bar",
         "x": [
          0.08827576500044637,
          0.0967246426423843,
          0.10747879246622212,
          0.14843436623067968,
          0.2058989186157795
         ],
         "xaxis": "x9",
         "y": [
          "answer want want  ",
          "need  ",
          "follow  ",
          "guy  ",
          "want  "
         ],
         "yaxis": "y9"
        },
        {
         "marker": {
          "color": "#CC79A7"
         },
         "orientation": "h",
         "type": "bar",
         "x": [
          0.0670151185365439,
          0.07636474434579539,
          0.10873634090142083,
          0.11663854615064972,
          0.171618308432778
         ],
         "xaxis": "x10",
         "y": [
          "eye open  ",
          "eye close  ",
          "open  ",
          "close  ",
          "eye  "
         ],
         "yaxis": "y10"
        },
        {
         "marker": {
          "color": "#E69F00"
         },
         "orientation": "h",
         "type": "bar",
         "x": [
          0.09954720399240916,
          0.12000348627091739,
          0.131566824613557,
          0.22480526127258818,
          0.24351965625057614
         ],
         "xaxis": "x11",
         "y": [
          "notice  ",
          "link  ",
          "sync  ",
          "blink  ",
          "avatar  "
         ],
         "yaxis": "y11"
        },
        {
         "marker": {
          "color": "#56B4E9"
         },
         "orientation": "h",
         "type": "bar",
         "x": [
          0.09978999521789592,
          0.15948632169407168,
          0.16047293290333084,
          0.16779537052163793,
          0.33855170957315966
         ],
         "xaxis": "x12",
         "y": [
          "accept strange strange  ",
          "funny  ",
          "weird  ",
          "strange strange  ",
          "strange  "
         ],
         "yaxis": "y12"
        }
       ],
       "layout": {
        "annotations": [
         {
          "font": {
           "size": 16
          },
          "showarrow": false,
          "text": "Topic 0",
          "x": 0.0875,
          "xanchor": "center",
          "xref": "paper",
          "y": 1,
          "yanchor": "bottom",
          "yref": "paper"
         },
         {
          "font": {
           "size": 16
          },
          "showarrow": false,
          "text": "Topic 1",
          "x": 0.36250000000000004,
          "xanchor": "center",
          "xref": "paper",
          "y": 1,
          "yanchor": "bottom",
          "yref": "paper"
         },
         {
          "font": {
           "size": 16
          },
          "showarrow": false,
          "text": "Topic 2",
          "x": 0.6375000000000001,
          "xanchor": "center",
          "xref": "paper",
          "y": 1,
          "yanchor": "bottom",
          "yref": "paper"
         },
         {
          "font": {
           "size": 16
          },
          "showarrow": false,
          "text": "Topic 3",
          "x": 0.9125,
          "xanchor": "center",
          "xref": "paper",
          "y": 1,
          "yanchor": "bottom",
          "yref": "paper"
         },
         {
          "font": {
           "size": 16
          },
          "showarrow": false,
          "text": "Topic 4",
          "x": 0.0875,
          "xanchor": "center",
          "xref": "paper",
          "y": 0.6222222222222222,
          "yanchor": "bottom",
          "yref": "paper"
         },
         {
          "font": {
           "size": 16
          },
          "showarrow": false,
          "text": "Topic 5",
          "x": 0.36250000000000004,
          "xanchor": "center",
          "xref": "paper",
          "y": 0.6222222222222222,
          "yanchor": "bottom",
          "yref": "paper"
         },
         {
          "font": {
           "size": 16
          },
          "showarrow": false,
          "text": "Topic 6",
          "x": 0.6375000000000001,
          "xanchor": "center",
          "xref": "paper",
          "y": 0.6222222222222222,
          "yanchor": "bottom",
          "yref": "paper"
         },
         {
          "font": {
           "size": 16
          },
          "showarrow": false,
          "text": "Topic 7",
          "x": 0.9125,
          "xanchor": "center",
          "xref": "paper",
          "y": 0.6222222222222222,
          "yanchor": "bottom",
          "yref": "paper"
         },
         {
          "font": {
           "size": 16
          },
          "showarrow": false,
          "text": "Topic 8",
          "x": 0.0875,
          "xanchor": "center",
          "xref": "paper",
          "y": 0.24444444444444446,
          "yanchor": "bottom",
          "yref": "paper"
         },
         {
          "font": {
           "size": 16
          },
          "showarrow": false,
          "text": "Topic 9",
          "x": 0.36250000000000004,
          "xanchor": "center",
          "xref": "paper",
          "y": 0.24444444444444446,
          "yanchor": "bottom",
          "yref": "paper"
         },
         {
          "font": {
           "size": 16
          },
          "showarrow": false,
          "text": "Topic 10",
          "x": 0.6375000000000001,
          "xanchor": "center",
          "xref": "paper",
          "y": 0.24444444444444446,
          "yanchor": "bottom",
          "yref": "paper"
         },
         {
          "font": {
           "size": 16
          },
          "showarrow": false,
          "text": "Topic 11",
          "x": 0.9125,
          "xanchor": "center",
          "xref": "paper",
          "y": 0.24444444444444446,
          "yanchor": "bottom",
          "yref": "paper"
         }
        ],
        "height": 750,
        "hoverlabel": {
         "bgcolor": "white",
         "font": {
          "family": "Rockwell",
          "size": 16
         }
        },
        "showlegend": false,
        "template": {
         "data": {
          "bar": [
           {
            "error_x": {
             "color": "#2a3f5f"
            },
            "error_y": {
             "color": "#2a3f5f"
            },
            "marker": {
             "line": {
              "color": "white",
              "width": 0.5
             },
             "pattern": {
              "fillmode": "overlay",
              "size": 10,
              "solidity": 0.2
             }
            },
            "type": "bar"
           }
          ],
          "barpolar": [
           {
            "marker": {
             "line": {
              "color": "white",
              "width": 0.5
             },
             "pattern": {
              "fillmode": "overlay",
              "size": 10,
              "solidity": 0.2
             }
            },
            "type": "barpolar"
           }
          ],
          "carpet": [
           {
            "aaxis": {
             "endlinecolor": "#2a3f5f",
             "gridcolor": "#C8D4E3",
             "linecolor": "#C8D4E3",
             "minorgridcolor": "#C8D4E3",
             "startlinecolor": "#2a3f5f"
            },
            "baxis": {
             "endlinecolor": "#2a3f5f",
             "gridcolor": "#C8D4E3",
             "linecolor": "#C8D4E3",
             "minorgridcolor": "#C8D4E3",
             "startlinecolor": "#2a3f5f"
            },
            "type": "carpet"
           }
          ],
          "choropleth": [
           {
            "colorbar": {
             "outlinewidth": 0,
             "ticks": ""
            },
            "type": "choropleth"
           }
          ],
          "contour": [
           {
            "colorbar": {
             "outlinewidth": 0,
             "ticks": ""
            },
            "colorscale": [
             [
              0,
              "#0d0887"
             ],
             [
              0.1111111111111111,
              "#46039f"
             ],
             [
              0.2222222222222222,
              "#7201a8"
             ],
             [
              0.3333333333333333,
              "#9c179e"
             ],
             [
              0.4444444444444444,
              "#bd3786"
             ],
             [
              0.5555555555555556,
              "#d8576b"
             ],
             [
              0.6666666666666666,
              "#ed7953"
             ],
             [
              0.7777777777777778,
              "#fb9f3a"
             ],
             [
              0.8888888888888888,
              "#fdca26"
             ],
             [
              1,
              "#f0f921"
             ]
            ],
            "type": "contour"
           }
          ],
          "contourcarpet": [
           {
            "colorbar": {
             "outlinewidth": 0,
             "ticks": ""
            },
            "type": "contourcarpet"
           }
          ],
          "heatmap": [
           {
            "colorbar": {
             "outlinewidth": 0,
             "ticks": ""
            },
            "colorscale": [
             [
              0,
              "#0d0887"
             ],
             [
              0.1111111111111111,
              "#46039f"
             ],
             [
              0.2222222222222222,
              "#7201a8"
             ],
             [
              0.3333333333333333,
              "#9c179e"
             ],
             [
              0.4444444444444444,
              "#bd3786"
             ],
             [
              0.5555555555555556,
              "#d8576b"
             ],
             [
              0.6666666666666666,
              "#ed7953"
             ],
             [
              0.7777777777777778,
              "#fb9f3a"
             ],
             [
              0.8888888888888888,
              "#fdca26"
             ],
             [
              1,
              "#f0f921"
             ]
            ],
            "type": "heatmap"
           }
          ],
          "heatmapgl": [
           {
            "colorbar": {
             "outlinewidth": 0,
             "ticks": ""
            },
            "colorscale": [
             [
              0,
              "#0d0887"
             ],
             [
              0.1111111111111111,
              "#46039f"
             ],
             [
              0.2222222222222222,
              "#7201a8"
             ],
             [
              0.3333333333333333,
              "#9c179e"
             ],
             [
              0.4444444444444444,
              "#bd3786"
             ],
             [
              0.5555555555555556,
              "#d8576b"
             ],
             [
              0.6666666666666666,
              "#ed7953"
             ],
             [
              0.7777777777777778,
              "#fb9f3a"
             ],
             [
              0.8888888888888888,
              "#fdca26"
             ],
             [
              1,
              "#f0f921"
             ]
            ],
            "type": "heatmapgl"
           }
          ],
          "histogram": [
           {
            "marker": {
             "pattern": {
              "fillmode": "overlay",
              "size": 10,
              "solidity": 0.2
             }
            },
            "type": "histogram"
           }
          ],
          "histogram2d": [
           {
            "colorbar": {
             "outlinewidth": 0,
             "ticks": ""
            },
            "colorscale": [
             [
              0,
              "#0d0887"
             ],
             [
              0.1111111111111111,
              "#46039f"
             ],
             [
              0.2222222222222222,
              "#7201a8"
             ],
             [
              0.3333333333333333,
              "#9c179e"
             ],
             [
              0.4444444444444444,
              "#bd3786"
             ],
             [
              0.5555555555555556,
              "#d8576b"
             ],
             [
              0.6666666666666666,
              "#ed7953"
             ],
             [
              0.7777777777777778,
              "#fb9f3a"
             ],
             [
              0.8888888888888888,
              "#fdca26"
             ],
             [
              1,
              "#f0f921"
             ]
            ],
            "type": "histogram2d"
           }
          ],
          "histogram2dcontour": [
           {
            "colorbar": {
             "outlinewidth": 0,
             "ticks": ""
            },
            "colorscale": [
             [
              0,
              "#0d0887"
             ],
             [
              0.1111111111111111,
              "#46039f"
             ],
             [
              0.2222222222222222,
              "#7201a8"
             ],
             [
              0.3333333333333333,
              "#9c179e"
             ],
             [
              0.4444444444444444,
              "#bd3786"
             ],
             [
              0.5555555555555556,
              "#d8576b"
             ],
             [
              0.6666666666666666,
              "#ed7953"
             ],
             [
              0.7777777777777778,
              "#fb9f3a"
             ],
             [
              0.8888888888888888,
              "#fdca26"
             ],
             [
              1,
              "#f0f921"
             ]
            ],
            "type": "histogram2dcontour"
           }
          ],
          "mesh3d": [
           {
            "colorbar": {
             "outlinewidth": 0,
             "ticks": ""
            },
            "type": "mesh3d"
           }
          ],
          "parcoords": [
           {
            "line": {
             "colorbar": {
              "outlinewidth": 0,
              "ticks": ""
             }
            },
            "type": "parcoords"
           }
          ],
          "pie": [
           {
            "automargin": true,
            "type": "pie"
           }
          ],
          "scatter": [
           {
            "fillpattern": {
             "fillmode": "overlay",
             "size": 10,
             "solidity": 0.2
            },
            "type": "scatter"
           }
          ],
          "scatter3d": [
           {
            "line": {
             "colorbar": {
              "outlinewidth": 0,
              "ticks": ""
             }
            },
            "marker": {
             "colorbar": {
              "outlinewidth": 0,
              "ticks": ""
             }
            },
            "type": "scatter3d"
           }
          ],
          "scattercarpet": [
           {
            "marker": {
             "colorbar": {
              "outlinewidth": 0,
              "ticks": ""
             }
            },
            "type": "scattercarpet"
           }
          ],
          "scattergeo": [
           {
            "marker": {
             "colorbar": {
              "outlinewidth": 0,
              "ticks": ""
             }
            },
            "type": "scattergeo"
           }
          ],
          "scattergl": [
           {
            "marker": {
             "colorbar": {
              "outlinewidth": 0,
              "ticks": ""
             }
            },
            "type": "scattergl"
           }
          ],
          "scattermapbox": [
           {
            "marker": {
             "colorbar": {
              "outlinewidth": 0,
              "ticks": ""
             }
            },
            "type": "scattermapbox"
           }
          ],
          "scatterpolar": [
           {
            "marker": {
             "colorbar": {
              "outlinewidth": 0,
              "ticks": ""
             }
            },
            "type": "scatterpolar"
           }
          ],
          "scatterpolargl": [
           {
            "marker": {
             "colorbar": {
              "outlinewidth": 0,
              "ticks": ""
             }
            },
            "type": "scatterpolargl"
           }
          ],
          "scatterternary": [
           {
            "marker": {
             "colorbar": {
              "outlinewidth": 0,
              "ticks": ""
             }
            },
            "type": "scatterternary"
           }
          ],
          "surface": [
           {
            "colorbar": {
             "outlinewidth": 0,
             "ticks": ""
            },
            "colorscale": [
             [
              0,
              "#0d0887"
             ],
             [
              0.1111111111111111,
              "#46039f"
             ],
             [
              0.2222222222222222,
              "#7201a8"
             ],
             [
              0.3333333333333333,
              "#9c179e"
             ],
             [
              0.4444444444444444,
              "#bd3786"
             ],
             [
              0.5555555555555556,
              "#d8576b"
             ],
             [
              0.6666666666666666,
              "#ed7953"
             ],
             [
              0.7777777777777778,
              "#fb9f3a"
             ],
             [
              0.8888888888888888,
              "#fdca26"
             ],
             [
              1,
              "#f0f921"
             ]
            ],
            "type": "surface"
           }
          ],
          "table": [
           {
            "cells": {
             "fill": {
              "color": "#EBF0F8"
             },
             "line": {
              "color": "white"
             }
            },
            "header": {
             "fill": {
              "color": "#C8D4E3"
             },
             "line": {
              "color": "white"
             }
            },
            "type": "table"
           }
          ]
         },
         "layout": {
          "annotationdefaults": {
           "arrowcolor": "#2a3f5f",
           "arrowhead": 0,
           "arrowwidth": 1
          },
          "autotypenumbers": "strict",
          "coloraxis": {
           "colorbar": {
            "outlinewidth": 0,
            "ticks": ""
           }
          },
          "colorscale": {
           "diverging": [
            [
             0,
             "#8e0152"
            ],
            [
             0.1,
             "#c51b7d"
            ],
            [
             0.2,
             "#de77ae"
            ],
            [
             0.3,
             "#f1b6da"
            ],
            [
             0.4,
             "#fde0ef"
            ],
            [
             0.5,
             "#f7f7f7"
            ],
            [
             0.6,
             "#e6f5d0"
            ],
            [
             0.7,
             "#b8e186"
            ],
            [
             0.8,
             "#7fbc41"
            ],
            [
             0.9,
             "#4d9221"
            ],
            [
             1,
             "#276419"
            ]
           ],
           "sequential": [
            [
             0,
             "#0d0887"
            ],
            [
             0.1111111111111111,
             "#46039f"
            ],
            [
             0.2222222222222222,
             "#7201a8"
            ],
            [
             0.3333333333333333,
             "#9c179e"
            ],
            [
             0.4444444444444444,
             "#bd3786"
            ],
            [
             0.5555555555555556,
             "#d8576b"
            ],
            [
             0.6666666666666666,
             "#ed7953"
            ],
            [
             0.7777777777777778,
             "#fb9f3a"
            ],
            [
             0.8888888888888888,
             "#fdca26"
            ],
            [
             1,
             "#f0f921"
            ]
           ],
           "sequentialminus": [
            [
             0,
             "#0d0887"
            ],
            [
             0.1111111111111111,
             "#46039f"
            ],
            [
             0.2222222222222222,
             "#7201a8"
            ],
            [
             0.3333333333333333,
             "#9c179e"
            ],
            [
             0.4444444444444444,
             "#bd3786"
            ],
            [
             0.5555555555555556,
             "#d8576b"
            ],
            [
             0.6666666666666666,
             "#ed7953"
            ],
            [
             0.7777777777777778,
             "#fb9f3a"
            ],
            [
             0.8888888888888888,
             "#fdca26"
            ],
            [
             1,
             "#f0f921"
            ]
           ]
          },
          "colorway": [
           "#636efa",
           "#EF553B",
           "#00cc96",
           "#ab63fa",
           "#FFA15A",
           "#19d3f3",
           "#FF6692",
           "#B6E880",
           "#FF97FF",
           "#FECB52"
          ],
          "font": {
           "color": "#2a3f5f"
          },
          "geo": {
           "bgcolor": "white",
           "lakecolor": "white",
           "landcolor": "white",
           "showlakes": true,
           "showland": true,
           "subunitcolor": "#C8D4E3"
          },
          "hoverlabel": {
           "align": "left"
          },
          "hovermode": "closest",
          "mapbox": {
           "style": "light"
          },
          "paper_bgcolor": "white",
          "plot_bgcolor": "white",
          "polar": {
           "angularaxis": {
            "gridcolor": "#EBF0F8",
            "linecolor": "#EBF0F8",
            "ticks": ""
           },
           "bgcolor": "white",
           "radialaxis": {
            "gridcolor": "#EBF0F8",
            "linecolor": "#EBF0F8",
            "ticks": ""
           }
          },
          "scene": {
           "xaxis": {
            "backgroundcolor": "white",
            "gridcolor": "#DFE8F3",
            "gridwidth": 2,
            "linecolor": "#EBF0F8",
            "showbackground": true,
            "ticks": "",
            "zerolinecolor": "#EBF0F8"
           },
           "yaxis": {
            "backgroundcolor": "white",
            "gridcolor": "#DFE8F3",
            "gridwidth": 2,
            "linecolor": "#EBF0F8",
            "showbackground": true,
            "ticks": "",
            "zerolinecolor": "#EBF0F8"
           },
           "zaxis": {
            "backgroundcolor": "white",
            "gridcolor": "#DFE8F3",
            "gridwidth": 2,
            "linecolor": "#EBF0F8",
            "showbackground": true,
            "ticks": "",
            "zerolinecolor": "#EBF0F8"
           }
          },
          "shapedefaults": {
           "line": {
            "color": "#2a3f5f"
           }
          },
          "ternary": {
           "aaxis": {
            "gridcolor": "#DFE8F3",
            "linecolor": "#A2B1C6",
            "ticks": ""
           },
           "baxis": {
            "gridcolor": "#DFE8F3",
            "linecolor": "#A2B1C6",
            "ticks": ""
           },
           "bgcolor": "white",
           "caxis": {
            "gridcolor": "#DFE8F3",
            "linecolor": "#A2B1C6",
            "ticks": ""
           }
          },
          "title": {
           "x": 0.05
          },
          "xaxis": {
           "automargin": true,
           "gridcolor": "#EBF0F8",
           "linecolor": "#EBF0F8",
           "ticks": "",
           "title": {
            "standoff": 15
           },
           "zerolinecolor": "#EBF0F8",
           "zerolinewidth": 2
          },
          "yaxis": {
           "automargin": true,
           "gridcolor": "#EBF0F8",
           "linecolor": "#EBF0F8",
           "ticks": "",
           "title": {
            "standoff": 15
           },
           "zerolinecolor": "#EBF0F8",
           "zerolinewidth": 2
          }
         }
        },
        "title": {
         "font": {
          "color": "Black",
          "size": 22
         },
         "text": "Topic Word Scores",
         "x": 0.5,
         "xanchor": "center",
         "yanchor": "top"
        },
        "width": 1000,
        "xaxis": {
         "anchor": "y",
         "domain": [
          0,
          0.175
         ],
         "showgrid": true
        },
        "xaxis10": {
         "anchor": "y10",
         "domain": [
          0.275,
          0.45
         ],
         "showgrid": true
        },
        "xaxis11": {
         "anchor": "y11",
         "domain": [
          0.55,
          0.7250000000000001
         ],
         "showgrid": true
        },
        "xaxis12": {
         "anchor": "y12",
         "domain": [
          0.825,
          1
         ],
         "showgrid": true
        },
        "xaxis2": {
         "anchor": "y2",
         "domain": [
          0.275,
          0.45
         ],
         "showgrid": true
        },
        "xaxis3": {
         "anchor": "y3",
         "domain": [
          0.55,
          0.7250000000000001
         ],
         "showgrid": true
        },
        "xaxis4": {
         "anchor": "y4",
         "domain": [
          0.825,
          1
         ],
         "showgrid": true
        },
        "xaxis5": {
         "anchor": "y5",
         "domain": [
          0,
          0.175
         ],
         "showgrid": true
        },
        "xaxis6": {
         "anchor": "y6",
         "domain": [
          0.275,
          0.45
         ],
         "showgrid": true
        },
        "xaxis7": {
         "anchor": "y7",
         "domain": [
          0.55,
          0.7250000000000001
         ],
         "showgrid": true
        },
        "xaxis8": {
         "anchor": "y8",
         "domain": [
          0.825,
          1
         ],
         "showgrid": true
        },
        "xaxis9": {
         "anchor": "y9",
         "domain": [
          0,
          0.175
         ],
         "showgrid": true
        },
        "yaxis": {
         "anchor": "x",
         "domain": [
          0.7555555555555555,
          1
         ],
         "showgrid": true
        },
        "yaxis10": {
         "anchor": "x10",
         "domain": [
          0,
          0.24444444444444446
         ],
         "showgrid": true
        },
        "yaxis11": {
         "anchor": "x11",
         "domain": [
          0,
          0.24444444444444446
         ],
         "showgrid": true
        },
        "yaxis12": {
         "anchor": "x12",
         "domain": [
          0,
          0.24444444444444446
         ],
         "showgrid": true
        },
        "yaxis2": {
         "anchor": "x2",
         "domain": [
          0.7555555555555555,
          1
         ],
         "showgrid": true
        },
        "yaxis3": {
         "anchor": "x3",
         "domain": [
          0.7555555555555555,
          1
         ],
         "showgrid": true
        },
        "yaxis4": {
         "anchor": "x4",
         "domain": [
          0.7555555555555555,
          1
         ],
         "showgrid": true
        },
        "yaxis5": {
         "anchor": "x5",
         "domain": [
          0.37777777777777777,
          0.6222222222222222
         ],
         "showgrid": true
        },
        "yaxis6": {
         "anchor": "x6",
         "domain": [
          0.37777777777777777,
          0.6222222222222222
         ],
         "showgrid": true
        },
        "yaxis7": {
         "anchor": "x7",
         "domain": [
          0.37777777777777777,
          0.6222222222222222
         ],
         "showgrid": true
        },
        "yaxis8": {
         "anchor": "x8",
         "domain": [
          0.37777777777777777,
          0.6222222222222222
         ],
         "showgrid": true
        },
        "yaxis9": {
         "anchor": "x9",
         "domain": [
          0,
          0.24444444444444446
         ],
         "showgrid": true
        }
       }
      }
     },
     "metadata": {},
     "output_type": "display_data"
    }
   ],
   "source": [
    "topic_model.visualize_barchart(top_n_topics=16)"
   ]
  },
  {
   "cell_type": "code",
   "execution_count": 169,
   "metadata": {},
   "outputs": [
    {
     "data": {
      "application/vnd.plotly.v1+json": {
       "config": {
        "plotlyServerURL": "https://plot.ly"
       },
       "data": [
        {
         "customdata": [
          [
           0,
           "body | different | feeling | sense | outside",
           89
          ],
          [
           1,
           "relax | sleep | calm | asleep | fall",
           47
          ],
          [
           2,
           "touch | body | delay | body touch | hand",
           43
          ],
          [
           3,
           "body | body body | light | heavy | body body body",
           40
          ],
          [
           4,
           "color | pixel | different | difference | image",
           40
          ],
          [
           5,
           "forest | tree | setting | rock | stone",
           29
          ],
          [
           6,
           "focus | try | eye | distract | meditate",
           27
          ],
          [
           7,
           "nice | fine | good | fine nice | fun",
           25
          ],
          [
           8,
           "want | guy | follow | need | answer want want",
           24
          ],
          [
           9,
           "eye | close | open | eye close | eye open",
           15
          ],
          [
           10,
           "avatar | blink | sync | link | notice",
           13
          ],
          [
           11,
           "strange | strange strange | weird | funny | accept strange strange",
           12
          ]
         ],
         "hovertemplate": "<b>Topic %{customdata[0]}</b><br>%{customdata[1]}<br>Size: %{customdata[2]}",
         "legendgroup": "",
         "marker": {
          "color": "#B0BEC5",
          "line": {
           "color": "DarkSlateGrey",
           "width": 2
          },
          "size": [
           89,
           47,
           43,
           40,
           40,
           29,
           27,
           25,
           24,
           15,
           13,
           12
          ],
          "sizemode": "area",
          "sizeref": 0.055625,
          "symbol": "circle"
         },
         "mode": "markers",
         "name": "",
         "orientation": "v",
         "showlegend": false,
         "type": "scatter",
         "x": [
          18.668855667114258,
          -9.911447525024414,
          17.719223022460938,
          17.671886444091797,
          16.072458267211914,
          18.101367950439453,
          -10.255566596984863,
          16.38144874572754,
          18.160247802734375,
          -10.803478240966797,
          -11.04599380493164,
          18.73292350769043
         ],
         "xaxis": "x",
         "y": [
          3.9349851608276367,
          16.685712814331055,
          4.816061019897461,
          5.782141208648682,
          4.372725009918213,
          4.225290775299072,
          16.908245086669922,
          5.2755913734436035,
          3.6436057090759277,
          16.73299789428711,
          17.129579544067383,
          4.498734951019287
         ],
         "yaxis": "y"
        }
       ],
       "layout": {
        "annotations": [
         {
          "showarrow": false,
          "text": "D1",
          "x": -12.702893257141113,
          "y": 11.398040771484375,
          "yshift": 10
         },
         {
          "showarrow": false,
          "text": "D2",
          "x": 4.419984340667725,
          "xshift": 10,
          "y": 19.699016571044922
         }
        ],
        "height": 650,
        "hoverlabel": {
         "bgcolor": "white",
         "font": {
          "family": "Rockwell",
          "size": 16
         }
        },
        "legend": {
         "itemsizing": "constant",
         "tracegroupgap": 0
        },
        "margin": {
         "t": 60
        },
        "shapes": [
         {
          "line": {
           "color": "#CFD8DC",
           "width": 2
          },
          "type": "line",
          "x0": 4.419984340667725,
          "x1": 4.419984340667725,
          "y0": 3.097064971923828,
          "y1": 19.699016571044922
         },
         {
          "line": {
           "color": "#9E9E9E",
           "width": 2
          },
          "type": "line",
          "x0": -12.702893257141113,
          "x1": 21.542861938476562,
          "y0": 11.398040771484375,
          "y1": 11.398040771484375
         }
        ],
        "sliders": [
         {
          "active": 0,
          "pad": {
           "t": 50
          },
          "steps": [
           {
            "args": [
             {
              "marker.color": [
               [
                "red",
                "#B0BEC5",
                "#B0BEC5",
                "#B0BEC5",
                "#B0BEC5",
                "#B0BEC5",
                "#B0BEC5",
                "#B0BEC5",
                "#B0BEC5",
                "#B0BEC5",
                "#B0BEC5",
                "#B0BEC5"
               ]
              ]
             }
            ],
            "label": "Topic 0",
            "method": "update"
           },
           {
            "args": [
             {
              "marker.color": [
               [
                "#B0BEC5",
                "red",
                "#B0BEC5",
                "#B0BEC5",
                "#B0BEC5",
                "#B0BEC5",
                "#B0BEC5",
                "#B0BEC5",
                "#B0BEC5",
                "#B0BEC5",
                "#B0BEC5",
                "#B0BEC5"
               ]
              ]
             }
            ],
            "label": "Topic 1",
            "method": "update"
           },
           {
            "args": [
             {
              "marker.color": [
               [
                "#B0BEC5",
                "#B0BEC5",
                "red",
                "#B0BEC5",
                "#B0BEC5",
                "#B0BEC5",
                "#B0BEC5",
                "#B0BEC5",
                "#B0BEC5",
                "#B0BEC5",
                "#B0BEC5",
                "#B0BEC5"
               ]
              ]
             }
            ],
            "label": "Topic 2",
            "method": "update"
           },
           {
            "args": [
             {
              "marker.color": [
               [
                "#B0BEC5",
                "#B0BEC5",
                "#B0BEC5",
                "red",
                "#B0BEC5",
                "#B0BEC5",
                "#B0BEC5",
                "#B0BEC5",
                "#B0BEC5",
                "#B0BEC5",
                "#B0BEC5",
                "#B0BEC5"
               ]
              ]
             }
            ],
            "label": "Topic 3",
            "method": "update"
           },
           {
            "args": [
             {
              "marker.color": [
               [
                "#B0BEC5",
                "#B0BEC5",
                "#B0BEC5",
                "#B0BEC5",
                "red",
                "#B0BEC5",
                "#B0BEC5",
                "#B0BEC5",
                "#B0BEC5",
                "#B0BEC5",
                "#B0BEC5",
                "#B0BEC5"
               ]
              ]
             }
            ],
            "label": "Topic 4",
            "method": "update"
           },
           {
            "args": [
             {
              "marker.color": [
               [
                "#B0BEC5",
                "#B0BEC5",
                "#B0BEC5",
                "#B0BEC5",
                "#B0BEC5",
                "red",
                "#B0BEC5",
                "#B0BEC5",
                "#B0BEC5",
                "#B0BEC5",
                "#B0BEC5",
                "#B0BEC5"
               ]
              ]
             }
            ],
            "label": "Topic 5",
            "method": "update"
           },
           {
            "args": [
             {
              "marker.color": [
               [
                "#B0BEC5",
                "#B0BEC5",
                "#B0BEC5",
                "#B0BEC5",
                "#B0BEC5",
                "#B0BEC5",
                "red",
                "#B0BEC5",
                "#B0BEC5",
                "#B0BEC5",
                "#B0BEC5",
                "#B0BEC5"
               ]
              ]
             }
            ],
            "label": "Topic 6",
            "method": "update"
           },
           {
            "args": [
             {
              "marker.color": [
               [
                "#B0BEC5",
                "#B0BEC5",
                "#B0BEC5",
                "#B0BEC5",
                "#B0BEC5",
                "#B0BEC5",
                "#B0BEC5",
                "red",
                "#B0BEC5",
                "#B0BEC5",
                "#B0BEC5",
                "#B0BEC5"
               ]
              ]
             }
            ],
            "label": "Topic 7",
            "method": "update"
           },
           {
            "args": [
             {
              "marker.color": [
               [
                "#B0BEC5",
                "#B0BEC5",
                "#B0BEC5",
                "#B0BEC5",
                "#B0BEC5",
                "#B0BEC5",
                "#B0BEC5",
                "#B0BEC5",
                "red",
                "#B0BEC5",
                "#B0BEC5",
                "#B0BEC5"
               ]
              ]
             }
            ],
            "label": "Topic 8",
            "method": "update"
           },
           {
            "args": [
             {
              "marker.color": [
               [
                "#B0BEC5",
                "#B0BEC5",
                "#B0BEC5",
                "#B0BEC5",
                "#B0BEC5",
                "#B0BEC5",
                "#B0BEC5",
                "#B0BEC5",
                "#B0BEC5",
                "red",
                "#B0BEC5",
                "#B0BEC5"
               ]
              ]
             }
            ],
            "label": "Topic 9",
            "method": "update"
           },
           {
            "args": [
             {
              "marker.color": [
               [
                "#B0BEC5",
                "#B0BEC5",
                "#B0BEC5",
                "#B0BEC5",
                "#B0BEC5",
                "#B0BEC5",
                "#B0BEC5",
                "#B0BEC5",
                "#B0BEC5",
                "#B0BEC5",
                "red",
                "#B0BEC5"
               ]
              ]
             }
            ],
            "label": "Topic 10",
            "method": "update"
           },
           {
            "args": [
             {
              "marker.color": [
               [
                "#B0BEC5",
                "#B0BEC5",
                "#B0BEC5",
                "#B0BEC5",
                "#B0BEC5",
                "#B0BEC5",
                "#B0BEC5",
                "#B0BEC5",
                "#B0BEC5",
                "#B0BEC5",
                "#B0BEC5",
                "red"
               ]
              ]
             }
            ],
            "label": "Topic 11",
            "method": "update"
           }
          ]
         }
        ],
        "template": {
         "data": {
          "bar": [
           {
            "error_x": {
             "color": "rgb(36,36,36)"
            },
            "error_y": {
             "color": "rgb(36,36,36)"
            },
            "marker": {
             "line": {
              "color": "white",
              "width": 0.5
             },
             "pattern": {
              "fillmode": "overlay",
              "size": 10,
              "solidity": 0.2
             }
            },
            "type": "bar"
           }
          ],
          "barpolar": [
           {
            "marker": {
             "line": {
              "color": "white",
              "width": 0.5
             },
             "pattern": {
              "fillmode": "overlay",
              "size": 10,
              "solidity": 0.2
             }
            },
            "type": "barpolar"
           }
          ],
          "carpet": [
           {
            "aaxis": {
             "endlinecolor": "rgb(36,36,36)",
             "gridcolor": "white",
             "linecolor": "white",
             "minorgridcolor": "white",
             "startlinecolor": "rgb(36,36,36)"
            },
            "baxis": {
             "endlinecolor": "rgb(36,36,36)",
             "gridcolor": "white",
             "linecolor": "white",
             "minorgridcolor": "white",
             "startlinecolor": "rgb(36,36,36)"
            },
            "type": "carpet"
           }
          ],
          "choropleth": [
           {
            "colorbar": {
             "outlinewidth": 1,
             "tickcolor": "rgb(36,36,36)",
             "ticks": "outside"
            },
            "type": "choropleth"
           }
          ],
          "contour": [
           {
            "colorbar": {
             "outlinewidth": 1,
             "tickcolor": "rgb(36,36,36)",
             "ticks": "outside"
            },
            "colorscale": [
             [
              0,
              "#440154"
             ],
             [
              0.1111111111111111,
              "#482878"
             ],
             [
              0.2222222222222222,
              "#3e4989"
             ],
             [
              0.3333333333333333,
              "#31688e"
             ],
             [
              0.4444444444444444,
              "#26828e"
             ],
             [
              0.5555555555555556,
              "#1f9e89"
             ],
             [
              0.6666666666666666,
              "#35b779"
             ],
             [
              0.7777777777777778,
              "#6ece58"
             ],
             [
              0.8888888888888888,
              "#b5de2b"
             ],
             [
              1,
              "#fde725"
             ]
            ],
            "type": "contour"
           }
          ],
          "contourcarpet": [
           {
            "colorbar": {
             "outlinewidth": 1,
             "tickcolor": "rgb(36,36,36)",
             "ticks": "outside"
            },
            "type": "contourcarpet"
           }
          ],
          "heatmap": [
           {
            "colorbar": {
             "outlinewidth": 1,
             "tickcolor": "rgb(36,36,36)",
             "ticks": "outside"
            },
            "colorscale": [
             [
              0,
              "#440154"
             ],
             [
              0.1111111111111111,
              "#482878"
             ],
             [
              0.2222222222222222,
              "#3e4989"
             ],
             [
              0.3333333333333333,
              "#31688e"
             ],
             [
              0.4444444444444444,
              "#26828e"
             ],
             [
              0.5555555555555556,
              "#1f9e89"
             ],
             [
              0.6666666666666666,
              "#35b779"
             ],
             [
              0.7777777777777778,
              "#6ece58"
             ],
             [
              0.8888888888888888,
              "#b5de2b"
             ],
             [
              1,
              "#fde725"
             ]
            ],
            "type": "heatmap"
           }
          ],
          "heatmapgl": [
           {
            "colorbar": {
             "outlinewidth": 1,
             "tickcolor": "rgb(36,36,36)",
             "ticks": "outside"
            },
            "colorscale": [
             [
              0,
              "#440154"
             ],
             [
              0.1111111111111111,
              "#482878"
             ],
             [
              0.2222222222222222,
              "#3e4989"
             ],
             [
              0.3333333333333333,
              "#31688e"
             ],
             [
              0.4444444444444444,
              "#26828e"
             ],
             [
              0.5555555555555556,
              "#1f9e89"
             ],
             [
              0.6666666666666666,
              "#35b779"
             ],
             [
              0.7777777777777778,
              "#6ece58"
             ],
             [
              0.8888888888888888,
              "#b5de2b"
             ],
             [
              1,
              "#fde725"
             ]
            ],
            "type": "heatmapgl"
           }
          ],
          "histogram": [
           {
            "marker": {
             "line": {
              "color": "white",
              "width": 0.6
             }
            },
            "type": "histogram"
           }
          ],
          "histogram2d": [
           {
            "colorbar": {
             "outlinewidth": 1,
             "tickcolor": "rgb(36,36,36)",
             "ticks": "outside"
            },
            "colorscale": [
             [
              0,
              "#440154"
             ],
             [
              0.1111111111111111,
              "#482878"
             ],
             [
              0.2222222222222222,
              "#3e4989"
             ],
             [
              0.3333333333333333,
              "#31688e"
             ],
             [
              0.4444444444444444,
              "#26828e"
             ],
             [
              0.5555555555555556,
              "#1f9e89"
             ],
             [
              0.6666666666666666,
              "#35b779"
             ],
             [
              0.7777777777777778,
              "#6ece58"
             ],
             [
              0.8888888888888888,
              "#b5de2b"
             ],
             [
              1,
              "#fde725"
             ]
            ],
            "type": "histogram2d"
           }
          ],
          "histogram2dcontour": [
           {
            "colorbar": {
             "outlinewidth": 1,
             "tickcolor": "rgb(36,36,36)",
             "ticks": "outside"
            },
            "colorscale": [
             [
              0,
              "#440154"
             ],
             [
              0.1111111111111111,
              "#482878"
             ],
             [
              0.2222222222222222,
              "#3e4989"
             ],
             [
              0.3333333333333333,
              "#31688e"
             ],
             [
              0.4444444444444444,
              "#26828e"
             ],
             [
              0.5555555555555556,
              "#1f9e89"
             ],
             [
              0.6666666666666666,
              "#35b779"
             ],
             [
              0.7777777777777778,
              "#6ece58"
             ],
             [
              0.8888888888888888,
              "#b5de2b"
             ],
             [
              1,
              "#fde725"
             ]
            ],
            "type": "histogram2dcontour"
           }
          ],
          "mesh3d": [
           {
            "colorbar": {
             "outlinewidth": 1,
             "tickcolor": "rgb(36,36,36)",
             "ticks": "outside"
            },
            "type": "mesh3d"
           }
          ],
          "parcoords": [
           {
            "line": {
             "colorbar": {
              "outlinewidth": 1,
              "tickcolor": "rgb(36,36,36)",
              "ticks": "outside"
             }
            },
            "type": "parcoords"
           }
          ],
          "pie": [
           {
            "automargin": true,
            "type": "pie"
           }
          ],
          "scatter": [
           {
            "fillpattern": {
             "fillmode": "overlay",
             "size": 10,
             "solidity": 0.2
            },
            "type": "scatter"
           }
          ],
          "scatter3d": [
           {
            "line": {
             "colorbar": {
              "outlinewidth": 1,
              "tickcolor": "rgb(36,36,36)",
              "ticks": "outside"
             }
            },
            "marker": {
             "colorbar": {
              "outlinewidth": 1,
              "tickcolor": "rgb(36,36,36)",
              "ticks": "outside"
             }
            },
            "type": "scatter3d"
           }
          ],
          "scattercarpet": [
           {
            "marker": {
             "colorbar": {
              "outlinewidth": 1,
              "tickcolor": "rgb(36,36,36)",
              "ticks": "outside"
             }
            },
            "type": "scattercarpet"
           }
          ],
          "scattergeo": [
           {
            "marker": {
             "colorbar": {
              "outlinewidth": 1,
              "tickcolor": "rgb(36,36,36)",
              "ticks": "outside"
             }
            },
            "type": "scattergeo"
           }
          ],
          "scattergl": [
           {
            "marker": {
             "colorbar": {
              "outlinewidth": 1,
              "tickcolor": "rgb(36,36,36)",
              "ticks": "outside"
             }
            },
            "type": "scattergl"
           }
          ],
          "scattermapbox": [
           {
            "marker": {
             "colorbar": {
              "outlinewidth": 1,
              "tickcolor": "rgb(36,36,36)",
              "ticks": "outside"
             }
            },
            "type": "scattermapbox"
           }
          ],
          "scatterpolar": [
           {
            "marker": {
             "colorbar": {
              "outlinewidth": 1,
              "tickcolor": "rgb(36,36,36)",
              "ticks": "outside"
             }
            },
            "type": "scatterpolar"
           }
          ],
          "scatterpolargl": [
           {
            "marker": {
             "colorbar": {
              "outlinewidth": 1,
              "tickcolor": "rgb(36,36,36)",
              "ticks": "outside"
             }
            },
            "type": "scatterpolargl"
           }
          ],
          "scatterternary": [
           {
            "marker": {
             "colorbar": {
              "outlinewidth": 1,
              "tickcolor": "rgb(36,36,36)",
              "ticks": "outside"
             }
            },
            "type": "scatterternary"
           }
          ],
          "surface": [
           {
            "colorbar": {
             "outlinewidth": 1,
             "tickcolor": "rgb(36,36,36)",
             "ticks": "outside"
            },
            "colorscale": [
             [
              0,
              "#440154"
             ],
             [
              0.1111111111111111,
              "#482878"
             ],
             [
              0.2222222222222222,
              "#3e4989"
             ],
             [
              0.3333333333333333,
              "#31688e"
             ],
             [
              0.4444444444444444,
              "#26828e"
             ],
             [
              0.5555555555555556,
              "#1f9e89"
             ],
             [
              0.6666666666666666,
              "#35b779"
             ],
             [
              0.7777777777777778,
              "#6ece58"
             ],
             [
              0.8888888888888888,
              "#b5de2b"
             ],
             [
              1,
              "#fde725"
             ]
            ],
            "type": "surface"
           }
          ],
          "table": [
           {
            "cells": {
             "fill": {
              "color": "rgb(237,237,237)"
             },
             "line": {
              "color": "white"
             }
            },
            "header": {
             "fill": {
              "color": "rgb(217,217,217)"
             },
             "line": {
              "color": "white"
             }
            },
            "type": "table"
           }
          ]
         },
         "layout": {
          "annotationdefaults": {
           "arrowhead": 0,
           "arrowwidth": 1
          },
          "autotypenumbers": "strict",
          "coloraxis": {
           "colorbar": {
            "outlinewidth": 1,
            "tickcolor": "rgb(36,36,36)",
            "ticks": "outside"
           }
          },
          "colorscale": {
           "diverging": [
            [
             0,
             "rgb(103,0,31)"
            ],
            [
             0.1,
             "rgb(178,24,43)"
            ],
            [
             0.2,
             "rgb(214,96,77)"
            ],
            [
             0.3,
             "rgb(244,165,130)"
            ],
            [
             0.4,
             "rgb(253,219,199)"
            ],
            [
             0.5,
             "rgb(247,247,247)"
            ],
            [
             0.6,
             "rgb(209,229,240)"
            ],
            [
             0.7,
             "rgb(146,197,222)"
            ],
            [
             0.8,
             "rgb(67,147,195)"
            ],
            [
             0.9,
             "rgb(33,102,172)"
            ],
            [
             1,
             "rgb(5,48,97)"
            ]
           ],
           "sequential": [
            [
             0,
             "#440154"
            ],
            [
             0.1111111111111111,
             "#482878"
            ],
            [
             0.2222222222222222,
             "#3e4989"
            ],
            [
             0.3333333333333333,
             "#31688e"
            ],
            [
             0.4444444444444444,
             "#26828e"
            ],
            [
             0.5555555555555556,
             "#1f9e89"
            ],
            [
             0.6666666666666666,
             "#35b779"
            ],
            [
             0.7777777777777778,
             "#6ece58"
            ],
            [
             0.8888888888888888,
             "#b5de2b"
            ],
            [
             1,
             "#fde725"
            ]
           ],
           "sequentialminus": [
            [
             0,
             "#440154"
            ],
            [
             0.1111111111111111,
             "#482878"
            ],
            [
             0.2222222222222222,
             "#3e4989"
            ],
            [
             0.3333333333333333,
             "#31688e"
            ],
            [
             0.4444444444444444,
             "#26828e"
            ],
            [
             0.5555555555555556,
             "#1f9e89"
            ],
            [
             0.6666666666666666,
             "#35b779"
            ],
            [
             0.7777777777777778,
             "#6ece58"
            ],
            [
             0.8888888888888888,
             "#b5de2b"
            ],
            [
             1,
             "#fde725"
            ]
           ]
          },
          "colorway": [
           "#1F77B4",
           "#FF7F0E",
           "#2CA02C",
           "#D62728",
           "#9467BD",
           "#8C564B",
           "#E377C2",
           "#7F7F7F",
           "#BCBD22",
           "#17BECF"
          ],
          "font": {
           "color": "rgb(36,36,36)"
          },
          "geo": {
           "bgcolor": "white",
           "lakecolor": "white",
           "landcolor": "white",
           "showlakes": true,
           "showland": true,
           "subunitcolor": "white"
          },
          "hoverlabel": {
           "align": "left"
          },
          "hovermode": "closest",
          "mapbox": {
           "style": "light"
          },
          "paper_bgcolor": "white",
          "plot_bgcolor": "white",
          "polar": {
           "angularaxis": {
            "gridcolor": "rgb(232,232,232)",
            "linecolor": "rgb(36,36,36)",
            "showgrid": false,
            "showline": true,
            "ticks": "outside"
           },
           "bgcolor": "white",
           "radialaxis": {
            "gridcolor": "rgb(232,232,232)",
            "linecolor": "rgb(36,36,36)",
            "showgrid": false,
            "showline": true,
            "ticks": "outside"
           }
          },
          "scene": {
           "xaxis": {
            "backgroundcolor": "white",
            "gridcolor": "rgb(232,232,232)",
            "gridwidth": 2,
            "linecolor": "rgb(36,36,36)",
            "showbackground": true,
            "showgrid": false,
            "showline": true,
            "ticks": "outside",
            "zeroline": false,
            "zerolinecolor": "rgb(36,36,36)"
           },
           "yaxis": {
            "backgroundcolor": "white",
            "gridcolor": "rgb(232,232,232)",
            "gridwidth": 2,
            "linecolor": "rgb(36,36,36)",
            "showbackground": true,
            "showgrid": false,
            "showline": true,
            "ticks": "outside",
            "zeroline": false,
            "zerolinecolor": "rgb(36,36,36)"
           },
           "zaxis": {
            "backgroundcolor": "white",
            "gridcolor": "rgb(232,232,232)",
            "gridwidth": 2,
            "linecolor": "rgb(36,36,36)",
            "showbackground": true,
            "showgrid": false,
            "showline": true,
            "ticks": "outside",
            "zeroline": false,
            "zerolinecolor": "rgb(36,36,36)"
           }
          },
          "shapedefaults": {
           "fillcolor": "black",
           "line": {
            "width": 0
           },
           "opacity": 0.3
          },
          "ternary": {
           "aaxis": {
            "gridcolor": "rgb(232,232,232)",
            "linecolor": "rgb(36,36,36)",
            "showgrid": false,
            "showline": true,
            "ticks": "outside"
           },
           "baxis": {
            "gridcolor": "rgb(232,232,232)",
            "linecolor": "rgb(36,36,36)",
            "showgrid": false,
            "showline": true,
            "ticks": "outside"
           },
           "bgcolor": "white",
           "caxis": {
            "gridcolor": "rgb(232,232,232)",
            "linecolor": "rgb(36,36,36)",
            "showgrid": false,
            "showline": true,
            "ticks": "outside"
           }
          },
          "title": {
           "x": 0.05
          },
          "xaxis": {
           "automargin": true,
           "gridcolor": "rgb(232,232,232)",
           "linecolor": "rgb(36,36,36)",
           "showgrid": false,
           "showline": true,
           "ticks": "outside",
           "title": {
            "standoff": 15
           },
           "zeroline": false,
           "zerolinecolor": "rgb(36,36,36)"
          },
          "yaxis": {
           "automargin": true,
           "gridcolor": "rgb(232,232,232)",
           "linecolor": "rgb(36,36,36)",
           "showgrid": false,
           "showline": true,
           "ticks": "outside",
           "title": {
            "standoff": 15
           },
           "zeroline": false,
           "zerolinecolor": "rgb(36,36,36)"
          }
         }
        },
        "title": {
         "font": {
          "color": "Black",
          "size": 22
         },
         "text": "<b>Intertopic Distance Map</b>",
         "x": 0.5,
         "xanchor": "center",
         "y": 0.95,
         "yanchor": "top"
        },
        "width": 650,
        "xaxis": {
         "anchor": "y",
         "domain": [
          0,
          1
         ],
         "range": [
          -12.702893257141113,
          21.542861938476562
         ],
         "title": {
          "text": ""
         },
         "visible": false
        },
        "yaxis": {
         "anchor": "x",
         "domain": [
          0,
          1
         ],
         "range": [
          3.097064971923828,
          19.699016571044922
         ],
         "title": {
          "text": ""
         },
         "visible": false
        }
       }
      }
     },
     "metadata": {},
     "output_type": "display_data"
    }
   ],
   "source": [
    "topic_model.visualize_topics()"
   ]
  },
  {
   "cell_type": "code",
   "execution_count": 170,
   "metadata": {},
   "outputs": [],
   "source": [
    "#topic_model.visualize_heatmap(n_clusters = num_topics-1)"
   ]
  },
  {
   "cell_type": "code",
   "execution_count": 171,
   "metadata": {},
   "outputs": [],
   "source": [
    "#topics_per_class = topic_model.topics_per_class(docs, classes=df.Id)\n",
    "#topic_model.visualize_topics_per_class(topics_per_class)"
   ]
  },
  {
   "cell_type": "code",
   "execution_count": 172,
   "metadata": {},
   "outputs": [],
   "source": [
    "#topics_per_class"
   ]
  },
  {
   "cell_type": "code",
   "execution_count": 173,
   "metadata": {},
   "outputs": [],
   "source": [
    "#hierarchical_topics = topic_model.hierarchical_topics(docs)\n",
    "#topic_model.visualize_hierarchy(hierarchical_topics=hierarchical_topics)"
   ]
  },
  {
   "cell_type": "code",
   "execution_count": 174,
   "metadata": {},
   "outputs": [],
   "source": [
    "df['one_topic'] = topics\n",
    "topic_name_to_id = dict(zip(topic_model.get_topic_info().Topic, topic_model.get_topic_info().Name))\n",
    "df['one_topic_name'] = df['one_topic'].map(topic_name_to_id)\n",
    "\n",
    "df.to_csv(\"df_topic_single.csv\", index = False)"
   ]
  },
  {
   "cell_type": "code",
   "execution_count": 175,
   "metadata": {},
   "outputs": [
    {
     "data": {
      "text/plain": [
       "{-1: '-1_say_look_body_come',\n",
       " 0: '0_body_different_feeling_sense',\n",
       " 1: '1_relax_sleep_calm_asleep',\n",
       " 2: '2_touch_body_delay_body touch',\n",
       " 3: '3_body_body body_light_heavy',\n",
       " 4: '4_color_pixel_different_difference',\n",
       " 5: '5_forest_tree_setting_rock',\n",
       " 6: '6_focus_try_eye_distract',\n",
       " 7: '7_nice_fine_good_fine nice',\n",
       " 8: '8_want_guy_follow_need',\n",
       " 9: '9_eye_close_open_eye close',\n",
       " 10: '10_avatar_blink_sync_link',\n",
       " 11: '11_strange_strange strange_weird_funny'}"
      ]
     },
     "execution_count": 175,
     "metadata": {},
     "output_type": "execute_result"
    }
   ],
   "source": [
    "topic_name_to_id"
   ]
  },
  {
   "cell_type": "markdown",
   "metadata": {},
   "source": [
    "# Topic Distribution (More than one topic per docs) \n",
    "- To reduce the numbers of outliers and avoid False Positive (Interesting when looking at one specif topic)"
   ]
  },
  {
   "cell_type": "markdown",
   "metadata": {},
   "source": [
    "### Look similarities"
   ]
  },
  {
   "cell_type": "code",
   "execution_count": 176,
   "metadata": {},
   "outputs": [
    {
     "data": {
      "text/html": [
       "<div>\n",
       "<style scoped>\n",
       "    .dataframe tbody tr th:only-of-type {\n",
       "        vertical-align: middle;\n",
       "    }\n",
       "\n",
       "    .dataframe tbody tr th {\n",
       "        vertical-align: top;\n",
       "    }\n",
       "\n",
       "    .dataframe thead th {\n",
       "        text-align: right;\n",
       "    }\n",
       "</style>\n",
       "<table border=\"1\" class=\"dataframe\">\n",
       "  <thead>\n",
       "    <tr style=\"text-align: right;\">\n",
       "      <th></th>\n",
       "      <th>topic1</th>\n",
       "      <th>topic2</th>\n",
       "      <th>distance</th>\n",
       "    </tr>\n",
       "  </thead>\n",
       "  <tbody>\n",
       "    <tr>\n",
       "      <th>17</th>\n",
       "      <td>0_body_different_feeling_sense</td>\n",
       "      <td>3_body_body body_light_heavy</td>\n",
       "      <td>0.787594</td>\n",
       "    </tr>\n",
       "    <tr>\n",
       "      <th>16</th>\n",
       "      <td>0_body_different_feeling_sense</td>\n",
       "      <td>2_touch_body_delay_body touch</td>\n",
       "      <td>0.738663</td>\n",
       "    </tr>\n",
       "    <tr>\n",
       "      <th>43</th>\n",
       "      <td>2_touch_body_delay_body touch</td>\n",
       "      <td>3_body_body body_light_heavy</td>\n",
       "      <td>0.720960</td>\n",
       "    </tr>\n",
       "    <tr>\n",
       "      <th>18</th>\n",
       "      <td>0_body_different_feeling_sense</td>\n",
       "      <td>4_color_pixel_different_difference</td>\n",
       "      <td>0.668725</td>\n",
       "    </tr>\n",
       "    <tr>\n",
       "      <th>101</th>\n",
       "      <td>6_focus_try_eye_distract</td>\n",
       "      <td>9_eye_close_open_eye close</td>\n",
       "      <td>0.658147</td>\n",
       "    </tr>\n",
       "    <tr>\n",
       "      <th>22</th>\n",
       "      <td>0_body_different_feeling_sense</td>\n",
       "      <td>8_want_guy_follow_need</td>\n",
       "      <td>0.635073</td>\n",
       "    </tr>\n",
       "    <tr>\n",
       "      <th>19</th>\n",
       "      <td>0_body_different_feeling_sense</td>\n",
       "      <td>5_forest_tree_setting_rock</td>\n",
       "      <td>0.620979</td>\n",
       "    </tr>\n",
       "    <tr>\n",
       "      <th>20</th>\n",
       "      <td>0_body_different_feeling_sense</td>\n",
       "      <td>6_focus_try_eye_distract</td>\n",
       "      <td>0.580960</td>\n",
       "    </tr>\n",
       "    <tr>\n",
       "      <th>21</th>\n",
       "      <td>0_body_different_feeling_sense</td>\n",
       "      <td>7_nice_fine_good_fine nice</td>\n",
       "      <td>0.577164</td>\n",
       "    </tr>\n",
       "    <tr>\n",
       "      <th>46</th>\n",
       "      <td>2_touch_body_delay_body touch</td>\n",
       "      <td>6_focus_try_eye_distract</td>\n",
       "      <td>0.564968</td>\n",
       "    </tr>\n",
       "    <tr>\n",
       "      <th>23</th>\n",
       "      <td>0_body_different_feeling_sense</td>\n",
       "      <td>9_eye_close_open_eye close</td>\n",
       "      <td>0.557540</td>\n",
       "    </tr>\n",
       "    <tr>\n",
       "      <th>45</th>\n",
       "      <td>2_touch_body_delay_body touch</td>\n",
       "      <td>5_forest_tree_setting_rock</td>\n",
       "      <td>0.554326</td>\n",
       "    </tr>\n",
       "    <tr>\n",
       "      <th>88</th>\n",
       "      <td>5_forest_tree_setting_rock</td>\n",
       "      <td>9_eye_close_open_eye close</td>\n",
       "      <td>0.545621</td>\n",
       "    </tr>\n",
       "    <tr>\n",
       "      <th>58</th>\n",
       "      <td>3_body_body body_light_heavy</td>\n",
       "      <td>5_forest_tree_setting_rock</td>\n",
       "      <td>0.538286</td>\n",
       "    </tr>\n",
       "    <tr>\n",
       "      <th>49</th>\n",
       "      <td>2_touch_body_delay_body touch</td>\n",
       "      <td>9_eye_close_open_eye close</td>\n",
       "      <td>0.534131</td>\n",
       "    </tr>\n",
       "    <tr>\n",
       "      <th>153</th>\n",
       "      <td>10_avatar_blink_sync_link</td>\n",
       "      <td>9_eye_close_open_eye close</td>\n",
       "      <td>0.532325</td>\n",
       "    </tr>\n",
       "    <tr>\n",
       "      <th>33</th>\n",
       "      <td>1_relax_sleep_calm_asleep</td>\n",
       "      <td>6_focus_try_eye_distract</td>\n",
       "      <td>0.530758</td>\n",
       "    </tr>\n",
       "    <tr>\n",
       "      <th>150</th>\n",
       "      <td>10_avatar_blink_sync_link</td>\n",
       "      <td>6_focus_try_eye_distract</td>\n",
       "      <td>0.515298</td>\n",
       "    </tr>\n",
       "    <tr>\n",
       "      <th>25</th>\n",
       "      <td>0_body_different_feeling_sense</td>\n",
       "      <td>11_strange_strange strange_weird_funny</td>\n",
       "      <td>0.510425</td>\n",
       "    </tr>\n",
       "    <tr>\n",
       "      <th>71</th>\n",
       "      <td>4_color_pixel_different_difference</td>\n",
       "      <td>5_forest_tree_setting_rock</td>\n",
       "      <td>0.509795</td>\n",
       "    </tr>\n",
       "  </tbody>\n",
       "</table>\n",
       "</div>"
      ],
      "text/plain": [
       "                                 topic1  \\\n",
       "17       0_body_different_feeling_sense   \n",
       "16       0_body_different_feeling_sense   \n",
       "43        2_touch_body_delay_body touch   \n",
       "18       0_body_different_feeling_sense   \n",
       "101            6_focus_try_eye_distract   \n",
       "22       0_body_different_feeling_sense   \n",
       "19       0_body_different_feeling_sense   \n",
       "20       0_body_different_feeling_sense   \n",
       "21       0_body_different_feeling_sense   \n",
       "46        2_touch_body_delay_body touch   \n",
       "23       0_body_different_feeling_sense   \n",
       "45        2_touch_body_delay_body touch   \n",
       "88           5_forest_tree_setting_rock   \n",
       "58         3_body_body body_light_heavy   \n",
       "49        2_touch_body_delay_body touch   \n",
       "153           10_avatar_blink_sync_link   \n",
       "33            1_relax_sleep_calm_asleep   \n",
       "150           10_avatar_blink_sync_link   \n",
       "25       0_body_different_feeling_sense   \n",
       "71   4_color_pixel_different_difference   \n",
       "\n",
       "                                     topic2  distance  \n",
       "17             3_body_body body_light_heavy  0.787594  \n",
       "16            2_touch_body_delay_body touch  0.738663  \n",
       "43             3_body_body body_light_heavy  0.720960  \n",
       "18       4_color_pixel_different_difference  0.668725  \n",
       "101              9_eye_close_open_eye close  0.658147  \n",
       "22                   8_want_guy_follow_need  0.635073  \n",
       "19               5_forest_tree_setting_rock  0.620979  \n",
       "20                 6_focus_try_eye_distract  0.580960  \n",
       "21               7_nice_fine_good_fine nice  0.577164  \n",
       "46                 6_focus_try_eye_distract  0.564968  \n",
       "23               9_eye_close_open_eye close  0.557540  \n",
       "45               5_forest_tree_setting_rock  0.554326  \n",
       "88               9_eye_close_open_eye close  0.545621  \n",
       "58               5_forest_tree_setting_rock  0.538286  \n",
       "49               9_eye_close_open_eye close  0.534131  \n",
       "153              9_eye_close_open_eye close  0.532325  \n",
       "33                 6_focus_try_eye_distract  0.530758  \n",
       "150                6_focus_try_eye_distract  0.515298  \n",
       "25   11_strange_strange strange_weird_funny  0.510425  \n",
       "71               5_forest_tree_setting_rock  0.509795  "
      ]
     },
     "execution_count": 176,
     "metadata": {},
     "output_type": "execute_result"
    }
   ],
   "source": [
    "from sklearn.metrics.pairwise import cosine_similarity\n",
    "import numpy as np \n",
    "\n",
    "distance_matrix = cosine_similarity(np.array(topic_model.topic_embeddings_))\n",
    "dist_df = pd.DataFrame(distance_matrix, columns=topic_model.topic_labels_.values(), \n",
    "                       index=topic_model.topic_labels_.values())\n",
    "\n",
    "tmp = []\n",
    "for rec in dist_df.reset_index().to_dict('records'):\n",
    "    t1 = rec['index']\n",
    "    for t2 in rec:\n",
    "        if t2 == 'index': \n",
    "            continue\n",
    "        tmp.append(\n",
    "            {\n",
    "                'topic1': t1, \n",
    "                'topic2': t2, \n",
    "                'distance': rec[t2]\n",
    "            }\n",
    "        )\n",
    "\n",
    "pair_dist_df = pd.DataFrame(tmp)\n",
    "\n",
    "pair_dist_df = pair_dist_df[(pair_dist_df.topic1.map(\n",
    "      lambda x: not x.startswith('-1'))) & \n",
    "            (pair_dist_df.topic2.map(lambda x: not x.startswith('-1')))]\n",
    "pair_dist_df = pair_dist_df[pair_dist_df.topic1 < pair_dist_df.topic2]\n",
    "pair_dist_df.sort_values('distance', ascending = False).head(20)"
   ]
  },
  {
   "cell_type": "markdown",
   "metadata": {},
   "source": [
    "### Multiples topics"
   ]
  },
  {
   "cell_type": "code",
   "execution_count": 177,
   "metadata": {},
   "outputs": [
    {
     "name": "stderr",
     "output_type": "stream",
     "text": [
      "100%|██████████| 1/1 [00:00<00:00,  3.11it/s]\n"
     ]
    }
   ],
   "source": [
    "topic_distr, topic_token_distr = topic_model.approximate_distribution(\n",
    "      docs, window = 5, calculate_tokens=True)"
   ]
  },
  {
   "cell_type": "code",
   "execution_count": 178,
   "metadata": {},
   "outputs": [
    {
     "name": "stderr",
     "output_type": "stream",
     "text": [
      "100%|██████████| 350/350 [00:01<00:00, 210.61it/s]\n"
     ]
    },
    {
     "data": {
      "application/vnd.plotly.v1+json": {
       "config": {
        "plotlyServerURL": "https://plot.ly"
       },
       "data": [
        {
         "fillpattern": {
          "shape": ""
         },
         "hovertemplate": "number of topics=0<br>threshold=%{x}<br>share of reviews, %=%{y}<extra></extra>",
         "legendgroup": "0",
         "line": {
          "color": "rgb(255,255,217)"
         },
         "marker": {
          "symbol": "circle"
         },
         "mode": "lines",
         "name": "0",
         "orientation": "v",
         "showlegend": true,
         "stackgroup": "1",
         "type": "scatter",
         "x": [
          0,
          0.001,
          0.002,
          0.003,
          0.004,
          0.005,
          0.006,
          0.007,
          0.008,
          0.009000000000000001,
          0.01,
          0.011,
          0.012,
          0.013000000000000001,
          0.014,
          0.015,
          0.016,
          0.017,
          0.018000000000000002,
          0.019,
          0.02,
          0.021,
          0.022,
          0.023,
          0.024,
          0.025,
          0.026000000000000002,
          0.027,
          0.028,
          0.029,
          0.03,
          0.031,
          0.032,
          0.033,
          0.034,
          0.035,
          0.036000000000000004,
          0.037,
          0.038,
          0.039,
          0.04,
          0.041,
          0.042,
          0.043000000000000003,
          0.044,
          0.045,
          0.046,
          0.047,
          0.048,
          0.049,
          0.05,
          0.051000000000000004,
          0.052000000000000005,
          0.053,
          0.054,
          0.055,
          0.056,
          0.057,
          0.058,
          0.059000000000000004,
          0.06,
          0.061,
          0.062,
          0.063,
          0.064,
          0.065,
          0.066,
          0.067,
          0.068,
          0.069,
          0.07,
          0.07100000000000001,
          0.07200000000000001,
          0.073,
          0.074,
          0.075,
          0.076,
          0.077,
          0.078,
          0.079,
          0.08,
          0.081,
          0.082,
          0.083,
          0.084,
          0.085,
          0.08600000000000001,
          0.08700000000000001,
          0.088,
          0.089,
          0.09,
          0.091,
          0.092,
          0.093,
          0.094,
          0.095,
          0.096,
          0.097,
          0.098,
          0.099,
          0.1,
          0.101,
          0.10200000000000001,
          0.10300000000000001,
          0.10400000000000001,
          0.105,
          0.106,
          0.107,
          0.108,
          0.109,
          0.11,
          0.111,
          0.112,
          0.113,
          0.114,
          0.115,
          0.116,
          0.117,
          0.11800000000000001,
          0.11900000000000001,
          0.12,
          0.121,
          0.122,
          0.123,
          0.124,
          0.125,
          0.126,
          0.127,
          0.128,
          0.129,
          0.13,
          0.131,
          0.132,
          0.133,
          0.134,
          0.135,
          0.136,
          0.137,
          0.138,
          0.139,
          0.14,
          0.14100000000000001,
          0.14200000000000002,
          0.14300000000000002,
          0.14400000000000002,
          0.145,
          0.146,
          0.147,
          0.148,
          0.149,
          0.15,
          0.151,
          0.152,
          0.153,
          0.154,
          0.155,
          0.156,
          0.157,
          0.158,
          0.159,
          0.16,
          0.161,
          0.162,
          0.163,
          0.164,
          0.165,
          0.166,
          0.167,
          0.168,
          0.169,
          0.17,
          0.171,
          0.17200000000000001,
          0.17300000000000001,
          0.17400000000000002,
          0.17500000000000002,
          0.176,
          0.177,
          0.178,
          0.179,
          0.18,
          0.181,
          0.182,
          0.183,
          0.184,
          0.185,
          0.186,
          0.187,
          0.188,
          0.189,
          0.19,
          0.191,
          0.192,
          0.193,
          0.194,
          0.195,
          0.196,
          0.197,
          0.198,
          0.199,
          0.2,
          0.201,
          0.202,
          0.203,
          0.20400000000000001,
          0.20500000000000002,
          0.20600000000000002,
          0.20700000000000002,
          0.20800000000000002,
          0.209,
          0.21,
          0.211,
          0.212,
          0.213,
          0.214,
          0.215,
          0.216,
          0.217,
          0.218,
          0.219,
          0.22,
          0.221,
          0.222,
          0.223,
          0.224,
          0.225,
          0.226,
          0.227,
          0.228,
          0.229,
          0.23,
          0.231,
          0.232,
          0.233,
          0.234,
          0.23500000000000001,
          0.23600000000000002,
          0.23700000000000002,
          0.23800000000000002,
          0.23900000000000002,
          0.24,
          0.241,
          0.242,
          0.243,
          0.244,
          0.245,
          0.246,
          0.247,
          0.248,
          0.249,
          0.25,
          0.251,
          0.252,
          0.253,
          0.254,
          0.255,
          0.256,
          0.257,
          0.258,
          0.259,
          0.26,
          0.261,
          0.262,
          0.263,
          0.264,
          0.265,
          0.266,
          0.267,
          0.268,
          0.269,
          0.27,
          0.271,
          0.272,
          0.273,
          0.274,
          0.275,
          0.276,
          0.277,
          0.278,
          0.279,
          0.28,
          0.281,
          0.28200000000000003,
          0.28300000000000003,
          0.28400000000000003,
          0.28500000000000003,
          0.28600000000000003,
          0.28700000000000003,
          0.28800000000000003,
          0.289,
          0.29,
          0.291,
          0.292,
          0.293,
          0.294,
          0.295,
          0.296,
          0.297,
          0.298,
          0.299,
          0.3,
          0.301,
          0.302,
          0.303,
          0.304,
          0.305,
          0.306,
          0.307,
          0.308,
          0.309,
          0.31,
          0.311,
          0.312,
          0.313,
          0.314,
          0.315,
          0.316,
          0.317,
          0.318,
          0.319,
          0.32,
          0.321,
          0.322,
          0.323,
          0.324,
          0.325,
          0.326,
          0.327,
          0.328,
          0.329,
          0.33,
          0.331,
          0.332,
          0.333,
          0.334,
          0.335,
          0.336,
          0.337,
          0.338,
          0.339,
          0.34,
          0.341,
          0.342,
          0.343,
          0.34400000000000003,
          0.34500000000000003,
          0.34600000000000003,
          0.34700000000000003,
          0.34800000000000003,
          0.34900000000000003
         ],
         "xaxis": "x",
         "y": [
          0,
          40.963855421686745,
          40.963855421686745,
          40.963855421686745,
          40.963855421686745,
          40.963855421686745,
          40.963855421686745,
          40.963855421686745,
          40.963855421686745,
          40.963855421686745,
          40.963855421686745,
          40.963855421686745,
          40.963855421686745,
          40.963855421686745,
          40.963855421686745,
          40.963855421686745,
          40.963855421686745,
          40.963855421686745,
          40.963855421686745,
          40.963855421686745,
          40.963855421686745,
          40.963855421686745,
          40.963855421686745,
          40.963855421686745,
          40.963855421686745,
          40.963855421686745,
          40.963855421686745,
          40.963855421686745,
          40.963855421686745,
          40.963855421686745,
          40.963855421686745,
          40.963855421686745,
          40.963855421686745,
          40.963855421686745,
          40.963855421686745,
          40.963855421686745,
          40.963855421686745,
          40.963855421686745,
          40.963855421686745,
          40.963855421686745,
          40.963855421686745,
          40.963855421686745,
          40.963855421686745,
          40.963855421686745,
          40.963855421686745,
          40.963855421686745,
          40.963855421686745,
          40.963855421686745,
          40.963855421686745,
          40.963855421686745,
          40.963855421686745,
          40.963855421686745,
          40.963855421686745,
          40.963855421686745,
          40.963855421686745,
          40.963855421686745,
          40.963855421686745,
          40.963855421686745,
          40.963855421686745,
          40.963855421686745,
          40.963855421686745,
          40.963855421686745,
          40.963855421686745,
          40.963855421686745,
          40.963855421686745,
          40.963855421686745,
          40.963855421686745,
          40.963855421686745,
          40.963855421686745,
          40.963855421686745,
          40.963855421686745,
          40.963855421686745,
          40.963855421686745,
          40.963855421686745,
          40.963855421686745,
          40.963855421686745,
          40.963855421686745,
          40.963855421686745,
          40.963855421686745,
          40.963855421686745,
          40.963855421686745,
          40.963855421686745,
          40.963855421686745,
          40.963855421686745,
          40.963855421686745,
          40.963855421686745,
          40.963855421686745,
          40.963855421686745,
          40.963855421686745,
          40.963855421686745,
          40.963855421686745,
          40.963855421686745,
          40.963855421686745,
          40.963855421686745,
          40.963855421686745,
          40.963855421686745,
          40.963855421686745,
          40.963855421686745,
          40.963855421686745,
          40.963855421686745,
          40.963855421686745,
          40.963855421686745,
          40.963855421686745,
          40.963855421686745,
          40.963855421686745,
          40.963855421686745,
          40.963855421686745,
          40.963855421686745,
          40.963855421686745,
          40.963855421686745,
          40.963855421686745,
          40.963855421686745,
          40.963855421686745,
          40.963855421686745,
          40.963855421686745,
          40.963855421686745,
          40.963855421686745,
          40.963855421686745,
          40.963855421686745,
          40.963855421686745,
          40.963855421686745,
          40.963855421686745,
          40.963855421686745,
          40.963855421686745,
          40.963855421686745,
          40.963855421686745,
          40.963855421686745,
          40.963855421686745,
          40.963855421686745,
          40.963855421686745,
          40.963855421686745,
          40.963855421686745,
          40.963855421686745,
          40.963855421686745,
          40.963855421686745,
          40.963855421686745,
          40.963855421686745,
          40.963855421686745,
          40.963855421686745,
          40.963855421686745,
          40.963855421686745,
          40.963855421686745,
          40.963855421686745,
          40.963855421686745,
          40.963855421686745,
          40.963855421686745,
          40.963855421686745,
          40.963855421686745,
          40.963855421686745,
          40.963855421686745,
          40.963855421686745,
          40.963855421686745,
          40.963855421686745,
          40.963855421686745,
          40.963855421686745,
          40.963855421686745,
          40.963855421686745,
          40.963855421686745,
          40.963855421686745,
          40.963855421686745,
          40.963855421686745,
          40.963855421686745,
          40.963855421686745,
          40.963855421686745,
          40.963855421686745,
          40.963855421686745,
          40.963855421686745,
          40.963855421686745,
          40.963855421686745,
          40.963855421686745,
          40.963855421686745,
          40.963855421686745,
          40.963855421686745,
          40.963855421686745,
          40.963855421686745,
          40.963855421686745,
          40.963855421686745,
          40.963855421686745,
          40.963855421686745,
          40.963855421686745,
          40.963855421686745,
          40.963855421686745,
          40.963855421686745,
          40.963855421686745,
          40.963855421686745,
          40.963855421686745,
          40.963855421686745,
          40.963855421686745,
          40.963855421686745,
          40.963855421686745,
          40.963855421686745,
          40.963855421686745,
          40.963855421686745,
          40.963855421686745,
          40.963855421686745,
          40.963855421686745,
          40.963855421686745,
          40.963855421686745,
          40.963855421686745,
          40.963855421686745,
          40.963855421686745,
          40.963855421686745,
          40.963855421686745,
          40.963855421686745,
          40.963855421686745,
          40.963855421686745,
          40.963855421686745,
          40.963855421686745,
          40.963855421686745,
          40.963855421686745,
          40.963855421686745,
          40.963855421686745,
          40.963855421686745,
          40.963855421686745,
          40.963855421686745,
          40.963855421686745,
          40.963855421686745,
          40.963855421686745,
          40.963855421686745,
          40.963855421686745,
          40.963855421686745,
          40.963855421686745,
          40.963855421686745,
          40.963855421686745,
          40.963855421686745,
          40.963855421686745,
          40.963855421686745,
          40.963855421686745,
          40.963855421686745,
          40.963855421686745,
          40.963855421686745,
          40.963855421686745,
          40.963855421686745,
          40.963855421686745,
          40.963855421686745,
          40.963855421686745,
          40.963855421686745,
          40.963855421686745,
          40.963855421686745,
          40.963855421686745,
          40.963855421686745,
          40.963855421686745,
          40.963855421686745,
          40.963855421686745,
          40.963855421686745,
          40.963855421686745,
          40.963855421686745,
          40.963855421686745,
          40.963855421686745,
          40.963855421686745,
          40.963855421686745,
          40.963855421686745,
          40.963855421686745,
          40.963855421686745,
          40.963855421686745,
          40.963855421686745,
          40.963855421686745,
          40.963855421686745,
          40.963855421686745,
          40.963855421686745,
          40.963855421686745,
          40.963855421686745,
          40.963855421686745,
          40.963855421686745,
          40.963855421686745,
          40.963855421686745,
          40.963855421686745,
          40.963855421686745,
          40.963855421686745,
          40.963855421686745,
          40.963855421686745,
          40.963855421686745,
          40.963855421686745,
          40.963855421686745,
          40.963855421686745,
          40.963855421686745,
          40.963855421686745,
          40.963855421686745,
          40.963855421686745,
          40.963855421686745,
          40.963855421686745,
          40.963855421686745,
          40.963855421686745,
          40.963855421686745,
          40.963855421686745,
          40.963855421686745,
          40.963855421686745,
          40.963855421686745,
          40.963855421686745,
          40.963855421686745,
          40.963855421686745,
          40.963855421686745,
          40.963855421686745,
          40.963855421686745,
          40.963855421686745,
          40.963855421686745,
          40.963855421686745,
          40.963855421686745,
          40.963855421686745,
          40.963855421686745,
          40.963855421686745,
          40.963855421686745,
          40.963855421686745,
          40.963855421686745,
          40.963855421686745,
          40.963855421686745,
          40.963855421686745,
          40.963855421686745,
          40.963855421686745,
          40.963855421686745,
          40.963855421686745,
          40.963855421686745,
          40.963855421686745,
          40.963855421686745,
          40.963855421686745,
          40.963855421686745,
          40.963855421686745,
          40.963855421686745,
          40.963855421686745,
          40.963855421686745,
          40.963855421686745,
          40.963855421686745,
          40.963855421686745,
          40.963855421686745,
          40.963855421686745,
          40.963855421686745,
          40.963855421686745,
          40.963855421686745,
          40.963855421686745,
          40.963855421686745,
          40.963855421686745,
          40.963855421686745,
          40.963855421686745,
          40.963855421686745,
          40.963855421686745,
          40.963855421686745,
          40.963855421686745,
          40.963855421686745,
          40.963855421686745,
          40.963855421686745,
          40.963855421686745,
          40.963855421686745,
          40.963855421686745,
          40.963855421686745,
          40.963855421686745,
          40.963855421686745,
          40.963855421686745,
          40.963855421686745,
          40.963855421686745,
          40.963855421686745
         ],
         "yaxis": "y"
        },
        {
         "fillpattern": {
          "shape": ""
         },
         "hovertemplate": "number of topics=1<br>threshold=%{x}<br>share of reviews, %=%{y}<extra></extra>",
         "legendgroup": "1",
         "line": {
          "color": "rgb(127,205,187)"
         },
         "marker": {
          "symbol": "circle"
         },
         "mode": "lines",
         "name": "1",
         "orientation": "v",
         "showlegend": true,
         "stackgroup": "1",
         "type": "scatter",
         "x": [
          0,
          0.001,
          0.002,
          0.003,
          0.004,
          0.005,
          0.006,
          0.007,
          0.008,
          0.009000000000000001,
          0.01,
          0.011,
          0.012,
          0.013000000000000001,
          0.014,
          0.015,
          0.016,
          0.017,
          0.018000000000000002,
          0.019,
          0.02,
          0.021,
          0.022,
          0.023,
          0.024,
          0.025,
          0.026000000000000002,
          0.027,
          0.028,
          0.029,
          0.03,
          0.031,
          0.032,
          0.033,
          0.034,
          0.035,
          0.036000000000000004,
          0.037,
          0.038,
          0.039,
          0.04,
          0.041,
          0.042,
          0.043000000000000003,
          0.044,
          0.045,
          0.046,
          0.047,
          0.048,
          0.049,
          0.05,
          0.051000000000000004,
          0.052000000000000005,
          0.053,
          0.054,
          0.055,
          0.056,
          0.057,
          0.058,
          0.059000000000000004,
          0.06,
          0.061,
          0.062,
          0.063,
          0.064,
          0.065,
          0.066,
          0.067,
          0.068,
          0.069,
          0.07,
          0.07100000000000001,
          0.07200000000000001,
          0.073,
          0.074,
          0.075,
          0.076,
          0.077,
          0.078,
          0.079,
          0.08,
          0.081,
          0.082,
          0.083,
          0.084,
          0.085,
          0.08600000000000001,
          0.08700000000000001,
          0.088,
          0.089,
          0.09,
          0.091,
          0.092,
          0.093,
          0.094,
          0.095,
          0.096,
          0.097,
          0.098,
          0.099,
          0.1,
          0.101,
          0.10200000000000001,
          0.10300000000000001,
          0.10400000000000001,
          0.105,
          0.106,
          0.107,
          0.108,
          0.109,
          0.11,
          0.111,
          0.112,
          0.113,
          0.114,
          0.115,
          0.116,
          0.117,
          0.11800000000000001,
          0.11900000000000001,
          0.12,
          0.121,
          0.122,
          0.123,
          0.124,
          0.125,
          0.126,
          0.127,
          0.128,
          0.129,
          0.13,
          0.131,
          0.132,
          0.133,
          0.134,
          0.135,
          0.136,
          0.137,
          0.138,
          0.139,
          0.14,
          0.14100000000000001,
          0.14200000000000002,
          0.14300000000000002,
          0.14400000000000002,
          0.145,
          0.146,
          0.147,
          0.148,
          0.149,
          0.15,
          0.151,
          0.152,
          0.153,
          0.154,
          0.155,
          0.156,
          0.157,
          0.158,
          0.159,
          0.16,
          0.161,
          0.162,
          0.163,
          0.164,
          0.165,
          0.166,
          0.167,
          0.168,
          0.169,
          0.17,
          0.171,
          0.17200000000000001,
          0.17300000000000001,
          0.17400000000000002,
          0.17500000000000002,
          0.176,
          0.177,
          0.178,
          0.179,
          0.18,
          0.181,
          0.182,
          0.183,
          0.184,
          0.185,
          0.186,
          0.187,
          0.188,
          0.189,
          0.19,
          0.191,
          0.192,
          0.193,
          0.194,
          0.195,
          0.196,
          0.197,
          0.198,
          0.199,
          0.2,
          0.201,
          0.202,
          0.203,
          0.20400000000000001,
          0.20500000000000002,
          0.20600000000000002,
          0.20700000000000002,
          0.20800000000000002,
          0.209,
          0.21,
          0.211,
          0.212,
          0.213,
          0.214,
          0.215,
          0.216,
          0.217,
          0.218,
          0.219,
          0.22,
          0.221,
          0.222,
          0.223,
          0.224,
          0.225,
          0.226,
          0.227,
          0.228,
          0.229,
          0.23,
          0.231,
          0.232,
          0.233,
          0.234,
          0.23500000000000001,
          0.23600000000000002,
          0.23700000000000002,
          0.23800000000000002,
          0.23900000000000002,
          0.24,
          0.241,
          0.242,
          0.243,
          0.244,
          0.245,
          0.246,
          0.247,
          0.248,
          0.249,
          0.25,
          0.251,
          0.252,
          0.253,
          0.254,
          0.255,
          0.256,
          0.257,
          0.258,
          0.259,
          0.26,
          0.261,
          0.262,
          0.263,
          0.264,
          0.265,
          0.266,
          0.267,
          0.268,
          0.269,
          0.27,
          0.271,
          0.272,
          0.273,
          0.274,
          0.275,
          0.276,
          0.277,
          0.278,
          0.279,
          0.28,
          0.281,
          0.28200000000000003,
          0.28300000000000003,
          0.28400000000000003,
          0.28500000000000003,
          0.28600000000000003,
          0.28700000000000003,
          0.28800000000000003,
          0.289,
          0.29,
          0.291,
          0.292,
          0.293,
          0.294,
          0.295,
          0.296,
          0.297,
          0.298,
          0.299,
          0.3,
          0.301,
          0.302,
          0.303,
          0.304,
          0.305,
          0.306,
          0.307,
          0.308,
          0.309,
          0.31,
          0.311,
          0.312,
          0.313,
          0.314,
          0.315,
          0.316,
          0.317,
          0.318,
          0.319,
          0.32,
          0.321,
          0.322,
          0.323,
          0.324,
          0.325,
          0.326,
          0.327,
          0.328,
          0.329,
          0.33,
          0.331,
          0.332,
          0.333,
          0.334,
          0.335,
          0.336,
          0.337,
          0.338,
          0.339,
          0.34,
          0.341,
          0.342,
          0.343,
          0.34400000000000003,
          0.34500000000000003,
          0.34600000000000003,
          0.34700000000000003,
          0.34800000000000003,
          0.34900000000000003
         ],
         "xaxis": "x",
         "y": [
          0,
          48.53700516351119,
          48.53700516351119,
          48.53700516351119,
          48.53700516351119,
          48.53700516351119,
          48.53700516351119,
          48.53700516351119,
          48.53700516351119,
          48.53700516351119,
          48.53700516351119,
          48.53700516351119,
          48.53700516351119,
          48.53700516351119,
          48.53700516351119,
          48.53700516351119,
          48.53700516351119,
          48.53700516351119,
          48.53700516351119,
          48.53700516351119,
          48.53700516351119,
          48.53700516351119,
          48.53700516351119,
          48.53700516351119,
          48.53700516351119,
          48.53700516351119,
          48.53700516351119,
          48.53700516351119,
          48.53700516351119,
          48.709122203098104,
          48.709122203098104,
          48.709122203098104,
          48.709122203098104,
          48.709122203098104,
          48.709122203098104,
          48.709122203098104,
          48.88123924268503,
          48.88123924268503,
          48.88123924268503,
          48.88123924268503,
          48.88123924268503,
          48.88123924268503,
          48.88123924268503,
          48.88123924268503,
          48.88123924268503,
          49.05335628227194,
          49.05335628227194,
          49.05335628227194,
          49.05335628227194,
          49.05335628227194,
          49.05335628227194,
          49.05335628227194,
          49.05335628227194,
          49.05335628227194,
          49.05335628227194,
          49.05335628227194,
          49.05335628227194,
          49.05335628227194,
          49.05335628227194,
          49.05335628227194,
          49.05335628227194,
          49.05335628227194,
          49.05335628227194,
          49.05335628227194,
          49.05335628227194,
          49.05335628227194,
          49.05335628227194,
          49.05335628227194,
          49.05335628227194,
          49.05335628227194,
          49.05335628227194,
          49.05335628227194,
          49.05335628227194,
          49.05335628227194,
          49.05335628227194,
          49.05335628227194,
          49.05335628227194,
          49.225473321858864,
          49.225473321858864,
          49.225473321858864,
          49.225473321858864,
          49.225473321858864,
          49.225473321858864,
          49.225473321858864,
          49.225473321858864,
          49.225473321858864,
          49.225473321858864,
          49.225473321858864,
          49.225473321858864,
          49.225473321858864,
          49.225473321858864,
          49.225473321858864,
          49.225473321858864,
          49.225473321858864,
          49.225473321858864,
          49.225473321858864,
          49.225473321858864,
          49.225473321858864,
          49.225473321858864,
          49.225473321858864,
          49.225473321858864,
          49.225473321858864,
          49.225473321858864,
          49.225473321858864,
          49.225473321858864,
          49.225473321858864,
          49.225473321858864,
          49.397590361445786,
          49.397590361445786,
          49.397590361445786,
          49.397590361445786,
          49.397590361445786,
          49.397590361445786,
          49.397590361445786,
          49.397590361445786,
          49.397590361445786,
          49.397590361445786,
          49.397590361445786,
          49.397590361445786,
          49.397590361445786,
          49.741824440619624,
          49.741824440619624,
          49.91394148020654,
          49.91394148020654,
          49.91394148020654,
          49.91394148020654,
          49.91394148020654,
          49.91394148020654,
          50.08605851979346,
          50.08605851979346,
          50.08605851979346,
          50.08605851979346,
          50.08605851979346,
          50.08605851979346,
          50.08605851979346,
          50.258175559380376,
          50.258175559380376,
          50.258175559380376,
          50.258175559380376,
          50.258175559380376,
          50.258175559380376,
          50.258175559380376,
          50.258175559380376,
          50.258175559380376,
          50.258175559380376,
          50.258175559380376,
          50.258175559380376,
          50.258175559380376,
          50.4302925989673,
          50.4302925989673,
          50.4302925989673,
          50.4302925989673,
          50.4302925989673,
          50.4302925989673,
          50.4302925989673,
          50.4302925989673,
          50.4302925989673,
          50.4302925989673,
          50.4302925989673,
          50.4302925989673,
          50.4302925989673,
          50.4302925989673,
          50.602409638554214,
          50.602409638554214,
          50.602409638554214,
          50.774526678141136,
          50.774526678141136,
          50.774526678141136,
          50.774526678141136,
          50.774526678141136,
          50.774526678141136,
          50.774526678141136,
          50.774526678141136,
          50.774526678141136,
          50.774526678141136,
          50.774526678141136,
          50.774526678141136,
          50.774526678141136,
          50.774526678141136,
          50.774526678141136,
          50.774526678141136,
          50.774526678141136,
          50.774526678141136,
          50.774526678141136,
          50.774526678141136,
          50.774526678141136,
          50.94664371772806,
          50.94664371772806,
          50.94664371772806,
          50.94664371772806,
          50.94664371772806,
          50.94664371772806,
          50.94664371772806,
          51.11876075731497,
          51.11876075731497,
          51.11876075731497,
          51.11876075731497,
          51.11876075731497,
          51.11876075731497,
          51.11876075731497,
          51.11876075731497,
          51.11876075731497,
          51.11876075731497,
          51.290877796901896,
          51.290877796901896,
          51.290877796901896,
          51.290877796901896,
          51.46299483648881,
          51.46299483648881,
          51.46299483648881,
          51.63511187607573,
          51.63511187607573,
          51.63511187607573,
          51.63511187607573,
          51.63511187607573,
          51.63511187607573,
          51.63511187607573,
          51.63511187607573,
          51.63511187607573,
          51.63511187607573,
          51.63511187607573,
          51.63511187607573,
          51.63511187607573,
          51.63511187607573,
          51.63511187607573,
          51.63511187607573,
          51.63511187607573,
          51.63511187607573,
          51.63511187607573,
          51.63511187607573,
          51.63511187607573,
          51.63511187607573,
          51.63511187607573,
          51.63511187607573,
          51.63511187607573,
          51.63511187607573,
          51.63511187607573,
          51.80722891566265,
          51.80722891566265,
          51.80722891566265,
          51.80722891566265,
          51.80722891566265,
          51.80722891566265,
          51.80722891566265,
          51.80722891566265,
          51.80722891566265,
          51.80722891566265,
          51.80722891566265,
          51.80722891566265,
          51.80722891566265,
          51.80722891566265,
          51.80722891566265,
          51.80722891566265,
          51.80722891566265,
          51.80722891566265,
          51.80722891566265,
          51.80722891566265,
          51.80722891566265,
          51.80722891566265,
          52.151462994836486,
          52.32358003442341,
          52.32358003442341,
          52.32358003442341,
          52.32358003442341,
          52.32358003442341,
          52.32358003442341,
          52.32358003442341,
          52.32358003442341,
          52.32358003442341,
          52.32358003442341,
          52.32358003442341,
          52.32358003442341,
          52.32358003442341,
          52.32358003442341,
          52.32358003442341,
          52.32358003442341,
          52.32358003442341,
          52.32358003442341,
          53.87263339070568,
          53.87263339070568,
          53.87263339070568,
          53.87263339070568,
          54.0447504302926,
          54.0447504302926,
          54.0447504302926,
          54.0447504302926,
          54.0447504302926,
          54.0447504302926,
          54.0447504302926,
          54.0447504302926,
          54.0447504302926,
          54.0447504302926,
          54.0447504302926,
          54.0447504302926,
          54.0447504302926,
          54.0447504302926,
          54.21686746987952,
          54.38898450946644,
          54.38898450946644,
          54.38898450946644,
          54.38898450946644,
          54.38898450946644,
          54.561101549053355,
          54.73321858864028,
          54.73321858864028,
          54.73321858864028,
          54.73321858864028,
          54.90533562822719,
          54.90533562822719,
          54.90533562822719,
          54.90533562822719,
          54.90533562822719,
          54.90533562822719,
          55.077452667814114,
          55.077452667814114,
          55.077452667814114,
          55.24956970740103,
          55.42168674698795,
          55.593803786574874,
          55.593803786574874,
          55.593803786574874,
          55.593803786574874,
          55.76592082616179,
          55.76592082616179,
          55.76592082616179,
          55.76592082616179,
          55.76592082616179,
          55.76592082616179,
          55.76592082616179,
          55.76592082616179,
          55.76592082616179,
          55.76592082616179,
          55.76592082616179,
          55.76592082616179,
          55.76592082616179,
          55.76592082616179,
          55.76592082616179,
          55.76592082616179,
          55.76592082616179,
          55.76592082616179,
          55.76592082616179,
          55.76592082616179,
          55.76592082616179,
          55.76592082616179,
          55.76592082616179,
          55.76592082616179,
          55.76592082616179,
          55.76592082616179,
          55.93803786574871,
          56.11015490533563
         ],
         "yaxis": "y"
        },
        {
         "fillpattern": {
          "shape": ""
         },
         "hovertemplate": "number of topics=2<br>threshold=%{x}<br>share of reviews, %=%{y}<extra></extra>",
         "legendgroup": "2",
         "line": {
          "color": "rgb(65,182,196)"
         },
         "marker": {
          "symbol": "circle"
         },
         "mode": "lines",
         "name": "2",
         "orientation": "v",
         "showlegend": true,
         "stackgroup": "1",
         "type": "scatter",
         "x": [
          0,
          0.001,
          0.002,
          0.003,
          0.004,
          0.005,
          0.006,
          0.007,
          0.008,
          0.009000000000000001,
          0.01,
          0.011,
          0.012,
          0.013000000000000001,
          0.014,
          0.015,
          0.016,
          0.017,
          0.018000000000000002,
          0.019,
          0.02,
          0.021,
          0.022,
          0.023,
          0.024,
          0.025,
          0.026000000000000002,
          0.027,
          0.028,
          0.029,
          0.03,
          0.031,
          0.032,
          0.033,
          0.034,
          0.035,
          0.036000000000000004,
          0.037,
          0.038,
          0.039,
          0.04,
          0.041,
          0.042,
          0.043000000000000003,
          0.044,
          0.045,
          0.046,
          0.047,
          0.048,
          0.049,
          0.05,
          0.051000000000000004,
          0.052000000000000005,
          0.053,
          0.054,
          0.055,
          0.056,
          0.057,
          0.058,
          0.059000000000000004,
          0.06,
          0.061,
          0.062,
          0.063,
          0.064,
          0.065,
          0.066,
          0.067,
          0.068,
          0.069,
          0.07,
          0.07100000000000001,
          0.07200000000000001,
          0.073,
          0.074,
          0.075,
          0.076,
          0.077,
          0.078,
          0.079,
          0.08,
          0.081,
          0.082,
          0.083,
          0.084,
          0.085,
          0.08600000000000001,
          0.08700000000000001,
          0.088,
          0.089,
          0.09,
          0.091,
          0.092,
          0.093,
          0.094,
          0.095,
          0.096,
          0.097,
          0.098,
          0.099,
          0.1,
          0.101,
          0.10200000000000001,
          0.10300000000000001,
          0.10400000000000001,
          0.105,
          0.106,
          0.107,
          0.108,
          0.109,
          0.11,
          0.111,
          0.112,
          0.113,
          0.114,
          0.115,
          0.116,
          0.117,
          0.11800000000000001,
          0.11900000000000001,
          0.12,
          0.121,
          0.122,
          0.123,
          0.124,
          0.125,
          0.126,
          0.127,
          0.128,
          0.129,
          0.13,
          0.131,
          0.132,
          0.133,
          0.134,
          0.135,
          0.136,
          0.137,
          0.138,
          0.139,
          0.14,
          0.14100000000000001,
          0.14200000000000002,
          0.14300000000000002,
          0.14400000000000002,
          0.145,
          0.146,
          0.147,
          0.148,
          0.149,
          0.15,
          0.151,
          0.152,
          0.153,
          0.154,
          0.155,
          0.156,
          0.157,
          0.158,
          0.159,
          0.16,
          0.161,
          0.162,
          0.163,
          0.164,
          0.165,
          0.166,
          0.167,
          0.168,
          0.169,
          0.17,
          0.171,
          0.17200000000000001,
          0.17300000000000001,
          0.17400000000000002,
          0.17500000000000002,
          0.176,
          0.177,
          0.178,
          0.179,
          0.18,
          0.181,
          0.182,
          0.183,
          0.184,
          0.185,
          0.186,
          0.187,
          0.188,
          0.189,
          0.19,
          0.191,
          0.192,
          0.193,
          0.194,
          0.195,
          0.196,
          0.197,
          0.198,
          0.199,
          0.2,
          0.201,
          0.202,
          0.203,
          0.20400000000000001,
          0.20500000000000002,
          0.20600000000000002,
          0.20700000000000002,
          0.20800000000000002,
          0.209,
          0.21,
          0.211,
          0.212,
          0.213,
          0.214,
          0.215,
          0.216,
          0.217,
          0.218,
          0.219,
          0.22,
          0.221,
          0.222,
          0.223,
          0.224,
          0.225,
          0.226,
          0.227,
          0.228,
          0.229,
          0.23,
          0.231,
          0.232,
          0.233,
          0.234,
          0.23500000000000001,
          0.23600000000000002,
          0.23700000000000002,
          0.23800000000000002,
          0.23900000000000002,
          0.24,
          0.241,
          0.242,
          0.243,
          0.244,
          0.245,
          0.246,
          0.247,
          0.248,
          0.249,
          0.25,
          0.251,
          0.252,
          0.253,
          0.254,
          0.255,
          0.256,
          0.257,
          0.258,
          0.259,
          0.26,
          0.261,
          0.262,
          0.263,
          0.264,
          0.265,
          0.266,
          0.267,
          0.268,
          0.269,
          0.27,
          0.271,
          0.272,
          0.273,
          0.274,
          0.275,
          0.276,
          0.277,
          0.278,
          0.279,
          0.28,
          0.281,
          0.28200000000000003,
          0.28300000000000003,
          0.28400000000000003,
          0.28500000000000003,
          0.28600000000000003,
          0.28700000000000003,
          0.28800000000000003,
          0.289,
          0.29,
          0.291,
          0.292,
          0.293,
          0.294,
          0.295,
          0.296,
          0.297,
          0.298,
          0.299,
          0.3,
          0.301,
          0.302,
          0.303,
          0.304,
          0.305,
          0.306,
          0.307,
          0.308,
          0.309,
          0.31,
          0.311,
          0.312,
          0.313,
          0.314,
          0.315,
          0.316,
          0.317,
          0.318,
          0.319,
          0.32,
          0.321,
          0.322,
          0.323,
          0.324,
          0.325,
          0.326,
          0.327,
          0.328,
          0.329,
          0.33,
          0.331,
          0.332,
          0.333,
          0.334,
          0.335,
          0.336,
          0.337,
          0.338,
          0.339,
          0.34,
          0.341,
          0.342,
          0.343,
          0.34400000000000003,
          0.34500000000000003,
          0.34600000000000003,
          0.34700000000000003,
          0.34800000000000003,
          0.34900000000000003
         ],
         "xaxis": "x",
         "y": [
          0,
          6.368330464716007,
          6.368330464716007,
          6.368330464716007,
          6.368330464716007,
          6.368330464716007,
          6.368330464716007,
          6.368330464716007,
          6.368330464716007,
          6.368330464716007,
          6.368330464716007,
          6.368330464716007,
          6.368330464716007,
          6.368330464716007,
          6.368330464716007,
          6.368330464716007,
          6.368330464716007,
          6.368330464716007,
          6.368330464716007,
          6.368330464716007,
          6.368330464716007,
          6.368330464716007,
          6.368330464716007,
          6.368330464716007,
          6.368330464716007,
          6.368330464716007,
          6.368330464716007,
          6.368330464716007,
          6.368330464716007,
          6.196213425129088,
          6.196213425129088,
          6.196213425129088,
          6.196213425129088,
          6.196213425129088,
          6.196213425129088,
          6.196213425129088,
          6.024096385542169,
          6.024096385542169,
          6.024096385542169,
          6.024096385542169,
          6.024096385542169,
          6.024096385542169,
          6.024096385542169,
          6.024096385542169,
          6.024096385542169,
          6.024096385542169,
          6.024096385542169,
          6.024096385542169,
          6.024096385542169,
          6.024096385542169,
          6.024096385542169,
          6.196213425129088,
          6.196213425129088,
          6.196213425129088,
          6.196213425129088,
          6.196213425129088,
          6.196213425129088,
          6.196213425129088,
          6.196213425129088,
          6.196213425129088,
          6.196213425129088,
          6.196213425129088,
          6.196213425129088,
          6.196213425129088,
          6.196213425129088,
          6.196213425129088,
          6.196213425129088,
          6.196213425129088,
          6.196213425129088,
          6.196213425129088,
          6.196213425129088,
          6.196213425129088,
          6.196213425129088,
          6.196213425129088,
          6.196213425129088,
          6.196213425129088,
          6.196213425129088,
          6.024096385542169,
          6.024096385542169,
          6.024096385542169,
          6.024096385542169,
          6.024096385542169,
          6.024096385542169,
          6.024096385542169,
          6.024096385542169,
          6.024096385542169,
          6.024096385542169,
          6.024096385542169,
          6.024096385542169,
          6.024096385542169,
          6.024096385542169,
          6.024096385542169,
          6.196213425129088,
          6.196213425129088,
          6.196213425129088,
          6.196213425129088,
          6.196213425129088,
          6.196213425129088,
          6.196213425129088,
          6.196213425129088,
          6.368330464716007,
          6.368330464716007,
          6.368330464716007,
          6.368330464716007,
          6.368330464716007,
          6.368330464716007,
          6.368330464716007,
          6.196213425129088,
          6.196213425129088,
          6.196213425129088,
          6.196213425129088,
          6.196213425129088,
          6.196213425129088,
          6.196213425129088,
          6.196213425129088,
          6.368330464716007,
          6.368330464716007,
          6.368330464716007,
          6.540447504302926,
          6.540447504302926,
          6.196213425129088,
          6.196213425129088,
          6.024096385542169,
          6.024096385542169,
          6.024096385542169,
          6.024096385542169,
          6.024096385542169,
          6.024096385542169,
          5.851979345955249,
          5.851979345955249,
          5.851979345955249,
          5.851979345955249,
          5.851979345955249,
          5.851979345955249,
          5.851979345955249,
          5.679862306368331,
          5.679862306368331,
          5.679862306368331,
          5.679862306368331,
          5.679862306368331,
          5.679862306368331,
          5.679862306368331,
          5.679862306368331,
          5.679862306368331,
          5.679862306368331,
          5.679862306368331,
          5.679862306368331,
          5.679862306368331,
          5.507745266781411,
          5.507745266781411,
          5.507745266781411,
          5.507745266781411,
          5.507745266781411,
          5.507745266781411,
          5.507745266781411,
          5.507745266781411,
          5.507745266781411,
          5.507745266781411,
          5.507745266781411,
          5.507745266781411,
          5.507745266781411,
          5.507745266781411,
          5.335628227194492,
          5.335628227194492,
          5.335628227194492,
          5.163511187607573,
          5.163511187607573,
          5.163511187607573,
          5.163511187607573,
          5.163511187607573,
          5.163511187607573,
          5.163511187607573,
          5.163511187607573,
          5.163511187607573,
          5.163511187607573,
          5.163511187607573,
          5.163511187607573,
          5.163511187607573,
          5.163511187607573,
          5.163511187607573,
          5.335628227194492,
          5.335628227194492,
          5.335628227194492,
          5.335628227194492,
          5.335628227194492,
          5.335628227194492,
          5.163511187607573,
          5.163511187607573,
          5.335628227194492,
          5.335628227194492,
          5.335628227194492,
          5.335628227194492,
          5.335628227194492,
          5.163511187607573,
          5.163511187607573,
          5.163511187607573,
          5.335628227194492,
          5.335628227194492,
          5.335628227194492,
          5.335628227194492,
          5.335628227194492,
          5.335628227194492,
          5.335628227194492,
          5.163511187607573,
          5.163511187607573,
          5.163511187607573,
          5.163511187607573,
          4.991394148020654,
          4.991394148020654,
          4.991394148020654,
          4.819277108433735,
          4.819277108433735,
          4.819277108433735,
          4.819277108433735,
          4.819277108433735,
          4.819277108433735,
          4.819277108433735,
          4.819277108433735,
          4.819277108433735,
          4.819277108433735,
          4.819277108433735,
          4.819277108433735,
          4.819277108433735,
          4.819277108433735,
          4.819277108433735,
          4.819277108433735,
          4.819277108433735,
          4.819277108433735,
          4.819277108433735,
          4.819277108433735,
          4.819277108433735,
          4.819277108433735,
          4.819277108433735,
          4.819277108433735,
          4.819277108433735,
          4.819277108433735,
          4.819277108433735,
          4.647160068846816,
          4.647160068846816,
          4.647160068846816,
          4.647160068846816,
          4.647160068846816,
          4.647160068846816,
          4.647160068846816,
          4.819277108433735,
          4.819277108433735,
          4.819277108433735,
          4.819277108433735,
          4.819277108433735,
          4.819277108433735,
          4.991394148020654,
          4.991394148020654,
          4.991394148020654,
          4.991394148020654,
          4.991394148020654,
          5.163511187607573,
          5.163511187607573,
          5.163511187607573,
          5.163511187607573,
          4.819277108433735,
          4.647160068846816,
          4.647160068846816,
          4.647160068846816,
          4.647160068846816,
          4.647160068846816,
          4.647160068846816,
          4.647160068846816,
          4.647160068846816,
          4.647160068846816,
          6.196213425129088,
          6.196213425129088,
          6.196213425129088,
          6.196213425129088,
          6.196213425129088,
          6.196213425129088,
          6.196213425129088,
          6.196213425129088,
          6.196213425129088,
          4.647160068846816,
          4.647160068846816,
          4.647160068846816,
          4.647160068846816,
          4.475043029259897,
          4.475043029259897,
          4.475043029259897,
          4.475043029259897,
          4.475043029259897,
          4.647160068846816,
          4.647160068846816,
          4.647160068846816,
          4.647160068846816,
          4.647160068846816,
          4.647160068846816,
          4.647160068846816,
          4.647160068846816,
          4.647160068846816,
          4.475043029259897,
          4.3029259896729775,
          4.3029259896729775,
          4.3029259896729775,
          4.3029259896729775,
          4.3029259896729775,
          4.3029259896729775,
          4.130808950086059,
          4.130808950086059,
          4.130808950086059,
          4.130808950086059,
          3.9586919104991396,
          3.9586919104991396,
          4.130808950086059,
          4.130808950086059,
          4.130808950086059,
          4.130808950086059,
          3.9586919104991396,
          3.9586919104991396,
          3.9586919104991396,
          3.7865748709122204,
          3.6144578313253013,
          3.442340791738382,
          3.442340791738382,
          3.442340791738382,
          3.442340791738382,
          3.270223752151463,
          3.270223752151463,
          3.270223752151463,
          3.270223752151463,
          3.270223752151463,
          3.270223752151463,
          3.270223752151463,
          3.270223752151463,
          3.270223752151463,
          3.270223752151463,
          3.270223752151463,
          3.270223752151463,
          3.270223752151463,
          3.270223752151463,
          3.270223752151463,
          3.270223752151463,
          3.270223752151463,
          3.270223752151463,
          3.270223752151463,
          3.270223752151463,
          3.270223752151463,
          3.270223752151463,
          3.270223752151463,
          3.270223752151463,
          3.270223752151463,
          3.270223752151463,
          3.098106712564544,
          2.9259896729776247
         ],
         "yaxis": "y"
        },
        {
         "fillpattern": {
          "shape": ""
         },
         "hovertemplate": "number of topics=3<br>threshold=%{x}<br>share of reviews, %=%{y}<extra></extra>",
         "legendgroup": "3",
         "line": {
          "color": "rgb(29,145,192)"
         },
         "marker": {
          "symbol": "circle"
         },
         "mode": "lines",
         "name": "3",
         "orientation": "v",
         "showlegend": true,
         "stackgroup": "1",
         "type": "scatter",
         "x": [
          0,
          0.001,
          0.002,
          0.003,
          0.004,
          0.005,
          0.006,
          0.007,
          0.008,
          0.009000000000000001,
          0.01,
          0.011,
          0.012,
          0.013000000000000001,
          0.014,
          0.015,
          0.016,
          0.017,
          0.018000000000000002,
          0.019,
          0.02,
          0.021,
          0.022,
          0.023,
          0.024,
          0.025,
          0.026000000000000002,
          0.027,
          0.028,
          0.029,
          0.03,
          0.031,
          0.032,
          0.033,
          0.034,
          0.035,
          0.036000000000000004,
          0.037,
          0.038,
          0.039,
          0.04,
          0.041,
          0.042,
          0.043000000000000003,
          0.044,
          0.045,
          0.046,
          0.047,
          0.048,
          0.049,
          0.05,
          0.051000000000000004,
          0.052000000000000005,
          0.053,
          0.054,
          0.055,
          0.056,
          0.057,
          0.058,
          0.059000000000000004,
          0.06,
          0.061,
          0.062,
          0.063,
          0.064,
          0.065,
          0.066,
          0.067,
          0.068,
          0.069,
          0.07,
          0.07100000000000001,
          0.07200000000000001,
          0.073,
          0.074,
          0.075,
          0.076,
          0.077,
          0.078,
          0.079,
          0.08,
          0.081,
          0.082,
          0.083,
          0.084,
          0.085,
          0.08600000000000001,
          0.08700000000000001,
          0.088,
          0.089,
          0.09,
          0.091,
          0.092,
          0.093,
          0.094,
          0.095,
          0.096,
          0.097,
          0.098,
          0.099,
          0.1,
          0.101,
          0.10200000000000001,
          0.10300000000000001,
          0.10400000000000001,
          0.105,
          0.106,
          0.107,
          0.108,
          0.109,
          0.11,
          0.111,
          0.112,
          0.113,
          0.114,
          0.115,
          0.116,
          0.117,
          0.11800000000000001,
          0.11900000000000001,
          0.12,
          0.121,
          0.122,
          0.123,
          0.124,
          0.125,
          0.126,
          0.127,
          0.128,
          0.129,
          0.13,
          0.131,
          0.132,
          0.133,
          0.134,
          0.135,
          0.136,
          0.137,
          0.138,
          0.139,
          0.14,
          0.14100000000000001,
          0.14200000000000002,
          0.14300000000000002,
          0.14400000000000002,
          0.145,
          0.146,
          0.147,
          0.148,
          0.149,
          0.15,
          0.151,
          0.152,
          0.153,
          0.154,
          0.155,
          0.156,
          0.157,
          0.158,
          0.159,
          0.16,
          0.161,
          0.162,
          0.163,
          0.164,
          0.165,
          0.166,
          0.167,
          0.168,
          0.169,
          0.17,
          0.171,
          0.17200000000000001,
          0.17300000000000001,
          0.17400000000000002,
          0.17500000000000002,
          0.176,
          0.177,
          0.178,
          0.179,
          0.18,
          0.181,
          0.182,
          0.183,
          0.184,
          0.185,
          0.186,
          0.187,
          0.188,
          0.189,
          0.19,
          0.191,
          0.192,
          0.193,
          0.194,
          0.195,
          0.196,
          0.197,
          0.198,
          0.199,
          0.2,
          0.201,
          0.202,
          0.203,
          0.20400000000000001,
          0.20500000000000002,
          0.20600000000000002,
          0.20700000000000002,
          0.20800000000000002,
          0.209,
          0.21,
          0.211,
          0.212,
          0.213,
          0.214,
          0.215,
          0.216,
          0.217,
          0.218,
          0.219,
          0.22,
          0.221,
          0.222,
          0.223,
          0.224,
          0.225,
          0.226,
          0.227,
          0.228,
          0.229,
          0.23,
          0.231,
          0.232,
          0.233,
          0.234,
          0.23500000000000001,
          0.23600000000000002,
          0.23700000000000002,
          0.23800000000000002,
          0.23900000000000002,
          0.24,
          0.241,
          0.242,
          0.243,
          0.244,
          0.245,
          0.246,
          0.247,
          0.248,
          0.249,
          0.25,
          0.251,
          0.252,
          0.253,
          0.254,
          0.255,
          0.256,
          0.257,
          0.258,
          0.259,
          0.26,
          0.261,
          0.262,
          0.263,
          0.264,
          0.265,
          0.266,
          0.267,
          0.268,
          0.269,
          0.27,
          0.271,
          0.272,
          0.273,
          0.274,
          0.275,
          0.276,
          0.277,
          0.278,
          0.279,
          0.28,
          0.281,
          0.28200000000000003,
          0.28300000000000003,
          0.28400000000000003,
          0.28500000000000003,
          0.28600000000000003,
          0.28700000000000003,
          0.28800000000000003,
          0.289,
          0.29,
          0.291,
          0.292,
          0.293,
          0.294,
          0.295,
          0.296,
          0.297,
          0.298,
          0.299,
          0.3,
          0.301,
          0.302,
          0.303,
          0.304,
          0.305,
          0.306,
          0.307,
          0.308,
          0.309,
          0.31,
          0.311,
          0.312,
          0.313,
          0.314,
          0.315,
          0.316,
          0.317,
          0.318,
          0.319,
          0.32,
          0.321,
          0.322,
          0.323,
          0.324,
          0.325,
          0.326,
          0.327,
          0.328,
          0.329,
          0.33,
          0.331,
          0.332,
          0.333,
          0.334,
          0.335,
          0.336,
          0.337,
          0.338,
          0.339,
          0.34,
          0.341,
          0.342,
          0.343,
          0.34400000000000003,
          0.34500000000000003,
          0.34600000000000003,
          0.34700000000000003,
          0.34800000000000003,
          0.34900000000000003
         ],
         "xaxis": "x",
         "y": [
          0,
          3.9586919104991396,
          3.9586919104991396,
          3.9586919104991396,
          3.9586919104991396,
          3.9586919104991396,
          3.9586919104991396,
          3.9586919104991396,
          3.9586919104991396,
          3.9586919104991396,
          3.9586919104991396,
          3.9586919104991396,
          3.9586919104991396,
          3.9586919104991396,
          3.9586919104991396,
          3.9586919104991396,
          3.9586919104991396,
          3.9586919104991396,
          3.9586919104991396,
          3.9586919104991396,
          3.9586919104991396,
          3.9586919104991396,
          3.9586919104991396,
          3.9586919104991396,
          3.9586919104991396,
          3.9586919104991396,
          3.9586919104991396,
          3.9586919104991396,
          3.9586919104991396,
          3.9586919104991396,
          3.9586919104991396,
          3.9586919104991396,
          3.9586919104991396,
          3.9586919104991396,
          3.9586919104991396,
          3.9586919104991396,
          3.9586919104991396,
          3.9586919104991396,
          3.9586919104991396,
          3.9586919104991396,
          3.9586919104991396,
          3.9586919104991396,
          3.9586919104991396,
          3.9586919104991396,
          3.9586919104991396,
          3.7865748709122204,
          3.7865748709122204,
          3.7865748709122204,
          3.7865748709122204,
          3.7865748709122204,
          3.7865748709122204,
          3.6144578313253013,
          3.6144578313253013,
          3.6144578313253013,
          3.6144578313253013,
          3.6144578313253013,
          3.6144578313253013,
          3.6144578313253013,
          3.6144578313253013,
          3.6144578313253013,
          3.6144578313253013,
          3.6144578313253013,
          3.6144578313253013,
          3.6144578313253013,
          3.6144578313253013,
          3.6144578313253013,
          3.6144578313253013,
          3.6144578313253013,
          3.6144578313253013,
          3.6144578313253013,
          3.6144578313253013,
          3.6144578313253013,
          3.6144578313253013,
          3.6144578313253013,
          3.6144578313253013,
          3.6144578313253013,
          3.6144578313253013,
          3.6144578313253013,
          3.6144578313253013,
          3.6144578313253013,
          3.6144578313253013,
          3.6144578313253013,
          3.6144578313253013,
          3.6144578313253013,
          3.6144578313253013,
          3.6144578313253013,
          3.6144578313253013,
          3.6144578313253013,
          3.6144578313253013,
          3.6144578313253013,
          3.6144578313253013,
          3.6144578313253013,
          3.442340791738382,
          3.442340791738382,
          3.442340791738382,
          3.442340791738382,
          3.442340791738382,
          3.442340791738382,
          3.442340791738382,
          3.442340791738382,
          3.270223752151463,
          3.270223752151463,
          3.270223752151463,
          3.270223752151463,
          3.270223752151463,
          3.270223752151463,
          3.270223752151463,
          3.270223752151463,
          3.270223752151463,
          3.270223752151463,
          3.442340791738382,
          3.442340791738382,
          3.442340791738382,
          3.442340791738382,
          3.442340791738382,
          3.270223752151463,
          3.270223752151463,
          3.270223752151463,
          3.098106712564544,
          3.098106712564544,
          3.098106712564544,
          3.098106712564544,
          3.098106712564544,
          3.098106712564544,
          3.098106712564544,
          3.098106712564544,
          3.098106712564544,
          3.098106712564544,
          3.098106712564544,
          3.098106712564544,
          3.098106712564544,
          3.098106712564544,
          3.098106712564544,
          3.098106712564544,
          3.098106712564544,
          3.098106712564544,
          3.098106712564544,
          3.098106712564544,
          3.098106712564544,
          3.098106712564544,
          3.098106712564544,
          3.098106712564544,
          3.098106712564544,
          3.098106712564544,
          3.098106712564544,
          3.098106712564544,
          3.098106712564544,
          3.098106712564544,
          3.098106712564544,
          3.098106712564544,
          3.098106712564544,
          3.098106712564544,
          3.098106712564544,
          3.098106712564544,
          3.098106712564544,
          3.098106712564544,
          3.098106712564544,
          3.098106712564544,
          3.098106712564544,
          3.098106712564544,
          3.098106712564544,
          3.098106712564544,
          3.098106712564544,
          3.098106712564544,
          3.098106712564544,
          3.098106712564544,
          3.098106712564544,
          3.098106712564544,
          3.098106712564544,
          3.098106712564544,
          3.098106712564544,
          3.098106712564544,
          3.098106712564544,
          3.098106712564544,
          3.098106712564544,
          3.098106712564544,
          3.098106712564544,
          3.098106712564544,
          3.098106712564544,
          3.098106712564544,
          2.9259896729776247,
          2.9259896729776247,
          2.9259896729776247,
          2.9259896729776247,
          2.9259896729776247,
          2.9259896729776247,
          2.9259896729776247,
          2.9259896729776247,
          2.7538726333907055,
          2.7538726333907055,
          2.7538726333907055,
          2.7538726333907055,
          2.7538726333907055,
          2.7538726333907055,
          2.7538726333907055,
          2.7538726333907055,
          2.5817555938037864,
          2.5817555938037864,
          2.5817555938037864,
          2.5817555938037864,
          2.5817555938037864,
          2.5817555938037864,
          2.5817555938037864,
          2.5817555938037864,
          2.5817555938037864,
          2.5817555938037864,
          2.5817555938037864,
          2.5817555938037864,
          2.5817555938037864,
          2.5817555938037864,
          2.5817555938037864,
          2.5817555938037864,
          2.5817555938037864,
          2.5817555938037864,
          2.5817555938037864,
          2.5817555938037864,
          2.5817555938037864,
          2.5817555938037864,
          2.5817555938037864,
          2.5817555938037864,
          2.5817555938037864,
          2.5817555938037864,
          2.5817555938037864,
          2.5817555938037864,
          2.5817555938037864,
          2.5817555938037864,
          2.5817555938037864,
          2.5817555938037864,
          2.5817555938037864,
          2.5817555938037864,
          2.5817555938037864,
          2.5817555938037864,
          2.5817555938037864,
          2.5817555938037864,
          2.5817555938037864,
          2.5817555938037864,
          2.5817555938037864,
          2.5817555938037864,
          2.5817555938037864,
          2.5817555938037864,
          2.5817555938037864,
          2.5817555938037864,
          2.5817555938037864,
          2.5817555938037864,
          2.4096385542168677,
          2.4096385542168677,
          2.4096385542168677,
          2.4096385542168677,
          2.4096385542168677,
          2.4096385542168677,
          2.2375215146299485,
          2.2375215146299485,
          2.2375215146299485,
          2.2375215146299485,
          2.2375215146299485,
          2.0654044750430294,
          2.0654044750430294,
          2.0654044750430294,
          2.0654044750430294,
          2.0654044750430294,
          2.0654044750430294,
          2.0654044750430294,
          2.0654044750430294,
          2.0654044750430294,
          2.0654044750430294,
          2.0654044750430294,
          2.0654044750430294,
          2.0654044750430294,
          2.0654044750430294,
          0.5163511187607573,
          0.5163511187607573,
          0.5163511187607573,
          0.5163511187607573,
          0.5163511187607573,
          0.5163511187607573,
          0.5163511187607573,
          0.5163511187607573,
          0.5163511187607573,
          0.5163511187607573,
          0.5163511187607573,
          0.5163511187607573,
          0.5163511187607573,
          0.5163511187607573,
          0.5163511187607573,
          0.5163511187607573,
          0.5163511187607573,
          0.5163511187607573,
          0.3442340791738382,
          0.3442340791738382,
          0.3442340791738382,
          0.3442340791738382,
          0.3442340791738382,
          0.3442340791738382,
          0.3442340791738382,
          0.3442340791738382,
          0.3442340791738382,
          0.3442340791738382,
          0.3442340791738382,
          0.3442340791738382,
          0.3442340791738382,
          0.3442340791738382,
          0.3442340791738382,
          0.1721170395869191,
          0.1721170395869191,
          0.1721170395869191,
          0.1721170395869191,
          0.1721170395869191,
          0.1721170395869191,
          0.1721170395869191,
          0,
          0,
          0,
          0,
          0,
          0,
          0,
          0,
          0,
          0,
          0,
          0,
          0,
          0,
          0,
          0,
          0,
          0,
          0,
          0,
          0,
          0,
          0,
          0,
          0,
          0,
          0,
          0,
          0,
          0,
          0,
          0,
          0,
          0,
          0,
          0,
          0,
          0,
          0,
          0,
          0
         ],
         "yaxis": "y"
        },
        {
         "fillpattern": {
          "shape": ""
         },
         "hovertemplate": "number of topics=4<br>threshold=%{x}<br>share of reviews, %=%{y}<extra></extra>",
         "legendgroup": "4",
         "line": {
          "color": "rgb(34,94,168)"
         },
         "marker": {
          "symbol": "circle"
         },
         "mode": "lines",
         "name": "4",
         "orientation": "v",
         "showlegend": true,
         "stackgroup": "1",
         "type": "scatter",
         "x": [
          0,
          0.001,
          0.002,
          0.003,
          0.004,
          0.005,
          0.006,
          0.007,
          0.008,
          0.009000000000000001,
          0.01,
          0.011,
          0.012,
          0.013000000000000001,
          0.014,
          0.015,
          0.016,
          0.017,
          0.018000000000000002,
          0.019,
          0.02,
          0.021,
          0.022,
          0.023,
          0.024,
          0.025,
          0.026000000000000002,
          0.027,
          0.028,
          0.029,
          0.03,
          0.031,
          0.032,
          0.033,
          0.034,
          0.035,
          0.036000000000000004,
          0.037,
          0.038,
          0.039,
          0.04,
          0.041,
          0.042,
          0.043000000000000003,
          0.044,
          0.045,
          0.046,
          0.047,
          0.048,
          0.049,
          0.05,
          0.051000000000000004,
          0.052000000000000005,
          0.053,
          0.054,
          0.055,
          0.056,
          0.057,
          0.058,
          0.059000000000000004,
          0.06,
          0.061,
          0.062,
          0.063,
          0.064,
          0.065,
          0.066,
          0.067,
          0.068,
          0.069,
          0.07,
          0.07100000000000001,
          0.07200000000000001,
          0.073,
          0.074,
          0.075,
          0.076,
          0.077,
          0.078,
          0.079,
          0.08,
          0.081,
          0.082,
          0.083,
          0.084,
          0.085,
          0.08600000000000001,
          0.08700000000000001,
          0.088,
          0.089,
          0.09,
          0.091,
          0.092,
          0.093,
          0.094,
          0.095,
          0.096,
          0.097,
          0.098,
          0.099,
          0.1,
          0.101,
          0.10200000000000001,
          0.10300000000000001,
          0.10400000000000001,
          0.105,
          0.106,
          0.107,
          0.108,
          0.109,
          0.11,
          0.111,
          0.112,
          0.113,
          0.114,
          0.115,
          0.116,
          0.117,
          0.11800000000000001,
          0.11900000000000001,
          0.12,
          0.121,
          0.122,
          0.123,
          0.124,
          0.125,
          0.126,
          0.127,
          0.128,
          0.129,
          0.13,
          0.131,
          0.132,
          0.133,
          0.134,
          0.135,
          0.136,
          0.137,
          0.138,
          0.139,
          0.14,
          0.14100000000000001,
          0.14200000000000002,
          0.14300000000000002,
          0.14400000000000002,
          0.145,
          0.146,
          0.147,
          0.148,
          0.149,
          0.15,
          0.151,
          0.152,
          0.153,
          0.154,
          0.155,
          0.156,
          0.157,
          0.158,
          0.159,
          0.16,
          0.161,
          0.162,
          0.163,
          0.164,
          0.165,
          0.166,
          0.167,
          0.168,
          0.169,
          0.17,
          0.171,
          0.17200000000000001,
          0.17300000000000001,
          0.17400000000000002,
          0.17500000000000002,
          0.176,
          0.177,
          0.178,
          0.179,
          0.18,
          0.181,
          0.182,
          0.183,
          0.184,
          0.185,
          0.186,
          0.187,
          0.188,
          0.189,
          0.19,
          0.191,
          0.192,
          0.193,
          0.194,
          0.195,
          0.196,
          0.197,
          0.198,
          0.199,
          0.2,
          0.201,
          0.202,
          0.203,
          0.20400000000000001,
          0.20500000000000002,
          0.20600000000000002,
          0.20700000000000002,
          0.20800000000000002,
          0.209,
          0.21,
          0.211,
          0.212,
          0.213,
          0.214,
          0.215,
          0.216,
          0.217,
          0.218,
          0.219,
          0.22,
          0.221,
          0.222,
          0.223,
          0.224,
          0.225,
          0.226,
          0.227,
          0.228,
          0.229,
          0.23,
          0.231,
          0.232,
          0.233,
          0.234,
          0.23500000000000001,
          0.23600000000000002,
          0.23700000000000002,
          0.23800000000000002,
          0.23900000000000002,
          0.24,
          0.241,
          0.242,
          0.243,
          0.244,
          0.245,
          0.246,
          0.247,
          0.248,
          0.249,
          0.25,
          0.251,
          0.252,
          0.253,
          0.254,
          0.255,
          0.256,
          0.257,
          0.258,
          0.259,
          0.26,
          0.261,
          0.262,
          0.263,
          0.264,
          0.265,
          0.266,
          0.267,
          0.268,
          0.269,
          0.27,
          0.271,
          0.272,
          0.273,
          0.274,
          0.275,
          0.276,
          0.277,
          0.278,
          0.279,
          0.28,
          0.281,
          0.28200000000000003,
          0.28300000000000003,
          0.28400000000000003,
          0.28500000000000003,
          0.28600000000000003,
          0.28700000000000003,
          0.28800000000000003,
          0.289,
          0.29,
          0.291,
          0.292,
          0.293,
          0.294,
          0.295,
          0.296,
          0.297,
          0.298,
          0.299,
          0.3,
          0.301,
          0.302,
          0.303,
          0.304,
          0.305,
          0.306,
          0.307,
          0.308,
          0.309,
          0.31,
          0.311,
          0.312,
          0.313,
          0.314,
          0.315,
          0.316,
          0.317,
          0.318,
          0.319,
          0.32,
          0.321,
          0.322,
          0.323,
          0.324,
          0.325,
          0.326,
          0.327,
          0.328,
          0.329,
          0.33,
          0.331,
          0.332,
          0.333,
          0.334,
          0.335,
          0.336,
          0.337,
          0.338,
          0.339,
          0.34,
          0.341,
          0.342,
          0.343,
          0.34400000000000003,
          0.34500000000000003,
          0.34600000000000003,
          0.34700000000000003,
          0.34800000000000003,
          0.34900000000000003
         ],
         "xaxis": "x",
         "y": [
          0,
          0.1721170395869191,
          0.1721170395869191,
          0.1721170395869191,
          0.1721170395869191,
          0.1721170395869191,
          0.1721170395869191,
          0.1721170395869191,
          0.1721170395869191,
          0.1721170395869191,
          0.1721170395869191,
          0.1721170395869191,
          0.1721170395869191,
          0.1721170395869191,
          0.1721170395869191,
          0.1721170395869191,
          0.1721170395869191,
          0.1721170395869191,
          0.1721170395869191,
          0.1721170395869191,
          0.1721170395869191,
          0.1721170395869191,
          0.1721170395869191,
          0.1721170395869191,
          0.1721170395869191,
          0.1721170395869191,
          0.1721170395869191,
          0.1721170395869191,
          0.1721170395869191,
          0.1721170395869191,
          0.1721170395869191,
          0.1721170395869191,
          0.1721170395869191,
          0.1721170395869191,
          0.1721170395869191,
          0.1721170395869191,
          0.1721170395869191,
          0.1721170395869191,
          0.1721170395869191,
          0.1721170395869191,
          0.1721170395869191,
          0.1721170395869191,
          0.1721170395869191,
          0.1721170395869191,
          0.1721170395869191,
          0.1721170395869191,
          0.1721170395869191,
          0.1721170395869191,
          0.1721170395869191,
          0.1721170395869191,
          0.1721170395869191,
          0.1721170395869191,
          0.1721170395869191,
          0.1721170395869191,
          0.1721170395869191,
          0.1721170395869191,
          0.1721170395869191,
          0.1721170395869191,
          0.1721170395869191,
          0.1721170395869191,
          0.1721170395869191,
          0.1721170395869191,
          0.1721170395869191,
          0.1721170395869191,
          0.1721170395869191,
          0.1721170395869191,
          0.1721170395869191,
          0.1721170395869191,
          0.1721170395869191,
          0.1721170395869191,
          0.1721170395869191,
          0.1721170395869191,
          0.1721170395869191,
          0.1721170395869191,
          0.1721170395869191,
          0.1721170395869191,
          0.1721170395869191,
          0.1721170395869191,
          0.1721170395869191,
          0.1721170395869191,
          0.1721170395869191,
          0.1721170395869191,
          0.1721170395869191,
          0.1721170395869191,
          0.1721170395869191,
          0.1721170395869191,
          0.1721170395869191,
          0.1721170395869191,
          0.1721170395869191,
          0.1721170395869191,
          0.1721170395869191,
          0.1721170395869191,
          0.1721170395869191,
          0.1721170395869191,
          0.1721170395869191,
          0.1721170395869191,
          0.1721170395869191,
          0.1721170395869191,
          0.1721170395869191,
          0.1721170395869191,
          0.1721170395869191,
          0.1721170395869191,
          0.1721170395869191,
          0.1721170395869191,
          0.1721170395869191,
          0.1721170395869191,
          0.1721170395869191,
          0.1721170395869191,
          0.1721170395869191,
          0.1721170395869191,
          0,
          0,
          0,
          0,
          0,
          0,
          0,
          0,
          0,
          0,
          0,
          0,
          0,
          0,
          0,
          0,
          0,
          0,
          0,
          0,
          0,
          0,
          0,
          0,
          0,
          0,
          0,
          0,
          0,
          0,
          0,
          0,
          0,
          0,
          0,
          0,
          0,
          0,
          0,
          0,
          0,
          0,
          0,
          0,
          0,
          0,
          0,
          0,
          0,
          0,
          0,
          0,
          0,
          0,
          0,
          0,
          0,
          0,
          0,
          0,
          0,
          0,
          0,
          0,
          0,
          0,
          0,
          0,
          0,
          0,
          0,
          0,
          0,
          0,
          0,
          0,
          0,
          0,
          0,
          0,
          0,
          0,
          0,
          0,
          0,
          0,
          0,
          0,
          0,
          0,
          0,
          0,
          0,
          0,
          0,
          0,
          0,
          0,
          0,
          0,
          0,
          0,
          0,
          0,
          0,
          0,
          0,
          0,
          0,
          0,
          0,
          0,
          0,
          0,
          0,
          0,
          0,
          0,
          0,
          0,
          0,
          0,
          0,
          0,
          0,
          0,
          0,
          0,
          0,
          0,
          0,
          0,
          0,
          0,
          0,
          0,
          0,
          0,
          0,
          0,
          0,
          0,
          0,
          0,
          0,
          0,
          0,
          0,
          0,
          0,
          0,
          0,
          0,
          0,
          0,
          0,
          0,
          0,
          0,
          0,
          0,
          0,
          0,
          0,
          0,
          0,
          0,
          0,
          0,
          0,
          0,
          0,
          0,
          0,
          0,
          0,
          0,
          0,
          0,
          0,
          0,
          0,
          0,
          0,
          0,
          0,
          0,
          0,
          0,
          0,
          0,
          0,
          0,
          0,
          0,
          0,
          0,
          0,
          0,
          0,
          0,
          0,
          0,
          0,
          0,
          0,
          0,
          0,
          0,
          0,
          0,
          0,
          0,
          0,
          0,
          0,
          0,
          0,
          0,
          0,
          0,
          0,
          0,
          0,
          0,
          0,
          0,
          0,
          0,
          0,
          0,
          0,
          0,
          0,
          0,
          0,
          0,
          0,
          0,
          0
         ],
         "yaxis": "y"
        },
        {
         "fillpattern": {
          "shape": ""
         },
         "hovertemplate": "number of topics=5+<br>threshold=%{x}<br>share of reviews, %=%{y}<extra></extra>",
         "legendgroup": "5+",
         "line": {
          "color": "rgb(37,52,148)"
         },
         "marker": {
          "symbol": "circle"
         },
         "mode": "lines",
         "name": "5+",
         "orientation": "v",
         "showlegend": true,
         "stackgroup": "1",
         "type": "scatter",
         "x": [
          0,
          0.001,
          0.002,
          0.003,
          0.004,
          0.005,
          0.006,
          0.007,
          0.008,
          0.009000000000000001,
          0.01,
          0.011,
          0.012,
          0.013000000000000001,
          0.014,
          0.015,
          0.016,
          0.017,
          0.018000000000000002,
          0.019,
          0.02,
          0.021,
          0.022,
          0.023,
          0.024,
          0.025,
          0.026000000000000002,
          0.027,
          0.028,
          0.029,
          0.03,
          0.031,
          0.032,
          0.033,
          0.034,
          0.035,
          0.036000000000000004,
          0.037,
          0.038,
          0.039,
          0.04,
          0.041,
          0.042,
          0.043000000000000003,
          0.044,
          0.045,
          0.046,
          0.047,
          0.048,
          0.049,
          0.05,
          0.051000000000000004,
          0.052000000000000005,
          0.053,
          0.054,
          0.055,
          0.056,
          0.057,
          0.058,
          0.059000000000000004,
          0.06,
          0.061,
          0.062,
          0.063,
          0.064,
          0.065,
          0.066,
          0.067,
          0.068,
          0.069,
          0.07,
          0.07100000000000001,
          0.07200000000000001,
          0.073,
          0.074,
          0.075,
          0.076,
          0.077,
          0.078,
          0.079,
          0.08,
          0.081,
          0.082,
          0.083,
          0.084,
          0.085,
          0.08600000000000001,
          0.08700000000000001,
          0.088,
          0.089,
          0.09,
          0.091,
          0.092,
          0.093,
          0.094,
          0.095,
          0.096,
          0.097,
          0.098,
          0.099,
          0.1,
          0.101,
          0.10200000000000001,
          0.10300000000000001,
          0.10400000000000001,
          0.105,
          0.106,
          0.107,
          0.108,
          0.109,
          0.11,
          0.111,
          0.112,
          0.113,
          0.114,
          0.115,
          0.116,
          0.117,
          0.11800000000000001,
          0.11900000000000001,
          0.12,
          0.121,
          0.122,
          0.123,
          0.124,
          0.125,
          0.126,
          0.127,
          0.128,
          0.129,
          0.13,
          0.131,
          0.132,
          0.133,
          0.134,
          0.135,
          0.136,
          0.137,
          0.138,
          0.139,
          0.14,
          0.14100000000000001,
          0.14200000000000002,
          0.14300000000000002,
          0.14400000000000002,
          0.145,
          0.146,
          0.147,
          0.148,
          0.149,
          0.15,
          0.151,
          0.152,
          0.153,
          0.154,
          0.155,
          0.156,
          0.157,
          0.158,
          0.159,
          0.16,
          0.161,
          0.162,
          0.163,
          0.164,
          0.165,
          0.166,
          0.167,
          0.168,
          0.169,
          0.17,
          0.171,
          0.17200000000000001,
          0.17300000000000001,
          0.17400000000000002,
          0.17500000000000002,
          0.176,
          0.177,
          0.178,
          0.179,
          0.18,
          0.181,
          0.182,
          0.183,
          0.184,
          0.185,
          0.186,
          0.187,
          0.188,
          0.189,
          0.19,
          0.191,
          0.192,
          0.193,
          0.194,
          0.195,
          0.196,
          0.197,
          0.198,
          0.199,
          0.2,
          0.201,
          0.202,
          0.203,
          0.20400000000000001,
          0.20500000000000002,
          0.20600000000000002,
          0.20700000000000002,
          0.20800000000000002,
          0.209,
          0.21,
          0.211,
          0.212,
          0.213,
          0.214,
          0.215,
          0.216,
          0.217,
          0.218,
          0.219,
          0.22,
          0.221,
          0.222,
          0.223,
          0.224,
          0.225,
          0.226,
          0.227,
          0.228,
          0.229,
          0.23,
          0.231,
          0.232,
          0.233,
          0.234,
          0.23500000000000001,
          0.23600000000000002,
          0.23700000000000002,
          0.23800000000000002,
          0.23900000000000002,
          0.24,
          0.241,
          0.242,
          0.243,
          0.244,
          0.245,
          0.246,
          0.247,
          0.248,
          0.249,
          0.25,
          0.251,
          0.252,
          0.253,
          0.254,
          0.255,
          0.256,
          0.257,
          0.258,
          0.259,
          0.26,
          0.261,
          0.262,
          0.263,
          0.264,
          0.265,
          0.266,
          0.267,
          0.268,
          0.269,
          0.27,
          0.271,
          0.272,
          0.273,
          0.274,
          0.275,
          0.276,
          0.277,
          0.278,
          0.279,
          0.28,
          0.281,
          0.28200000000000003,
          0.28300000000000003,
          0.28400000000000003,
          0.28500000000000003,
          0.28600000000000003,
          0.28700000000000003,
          0.28800000000000003,
          0.289,
          0.29,
          0.291,
          0.292,
          0.293,
          0.294,
          0.295,
          0.296,
          0.297,
          0.298,
          0.299,
          0.3,
          0.301,
          0.302,
          0.303,
          0.304,
          0.305,
          0.306,
          0.307,
          0.308,
          0.309,
          0.31,
          0.311,
          0.312,
          0.313,
          0.314,
          0.315,
          0.316,
          0.317,
          0.318,
          0.319,
          0.32,
          0.321,
          0.322,
          0.323,
          0.324,
          0.325,
          0.326,
          0.327,
          0.328,
          0.329,
          0.33,
          0.331,
          0.332,
          0.333,
          0.334,
          0.335,
          0.336,
          0.337,
          0.338,
          0.339,
          0.34,
          0.341,
          0.342,
          0.343,
          0.34400000000000003,
          0.34500000000000003,
          0.34600000000000003,
          0.34700000000000003,
          0.34800000000000003,
          0.34900000000000003
         ],
         "xaxis": "x",
         "y": [
          100,
          0,
          0,
          0,
          0,
          0,
          0,
          0,
          0,
          0,
          0,
          0,
          0,
          0,
          0,
          0,
          0,
          0,
          0,
          0,
          0,
          0,
          0,
          0,
          0,
          0,
          0,
          0,
          0,
          0,
          0,
          0,
          0,
          0,
          0,
          0,
          0,
          0,
          0,
          0,
          0,
          0,
          0,
          0,
          0,
          0,
          0,
          0,
          0,
          0,
          0,
          0,
          0,
          0,
          0,
          0,
          0,
          0,
          0,
          0,
          0,
          0,
          0,
          0,
          0,
          0,
          0,
          0,
          0,
          0,
          0,
          0,
          0,
          0,
          0,
          0,
          0,
          0,
          0,
          0,
          0,
          0,
          0,
          0,
          0,
          0,
          0,
          0,
          0,
          0,
          0,
          0,
          0,
          0,
          0,
          0,
          0,
          0,
          0,
          0,
          0,
          0,
          0,
          0,
          0,
          0,
          0,
          0,
          0,
          0,
          0,
          0,
          0,
          0,
          0,
          0,
          0,
          0,
          0,
          0,
          0,
          0,
          0,
          0,
          0,
          0,
          0,
          0,
          0,
          0,
          0,
          0,
          0,
          0,
          0,
          0,
          0,
          0,
          0,
          0,
          0,
          0,
          0,
          0,
          0,
          0,
          0,
          0,
          0,
          0,
          0,
          0,
          0,
          0,
          0,
          0,
          0,
          0,
          0,
          0,
          0,
          0,
          0,
          0,
          0,
          0,
          0,
          0,
          0,
          0,
          0,
          0,
          0,
          0,
          0,
          0,
          0,
          0,
          0,
          0,
          0,
          0,
          0,
          0,
          0,
          0,
          0,
          0,
          0,
          0,
          0,
          0,
          0,
          0,
          0,
          0,
          0,
          0,
          0,
          0,
          0,
          0,
          0,
          0,
          0,
          0,
          0,
          0,
          0,
          0,
          0,
          0,
          0,
          0,
          0,
          0,
          0,
          0,
          0,
          0,
          0,
          0,
          0,
          0,
          0,
          0,
          0,
          0,
          0,
          0,
          0,
          0,
          0,
          0,
          0,
          0,
          0,
          0,
          0,
          0,
          0,
          0,
          0,
          0,
          0,
          0,
          0,
          0,
          0,
          0,
          0,
          0,
          0,
          0,
          0,
          0,
          0,
          0,
          0,
          0,
          0,
          0,
          0,
          0,
          0,
          0,
          0,
          0,
          0,
          0,
          0,
          0,
          0,
          0,
          0,
          0,
          0,
          0,
          0,
          0,
          0,
          0,
          0,
          0,
          0,
          0,
          0,
          0,
          0,
          0,
          0,
          0,
          0,
          0,
          0,
          0,
          0,
          0,
          0,
          0,
          0,
          0,
          0,
          0,
          0,
          0,
          0,
          0,
          0,
          0,
          0,
          0,
          0,
          0,
          0,
          0,
          0,
          0,
          0,
          0,
          0,
          0,
          0,
          0,
          0,
          0,
          0,
          0,
          0,
          0,
          0,
          0,
          0,
          0,
          0,
          0,
          0,
          0,
          0,
          0,
          0,
          0,
          0,
          0,
          0,
          0,
          0,
          0,
          0,
          0
         ],
         "yaxis": "y"
        }
       ],
       "layout": {
        "legend": {
         "title": {
          "text": "number of topics"
         },
         "tracegroupgap": 0
        },
        "template": {
         "data": {
          "bar": [
           {
            "error_x": {
             "color": "#2a3f5f"
            },
            "error_y": {
             "color": "#2a3f5f"
            },
            "marker": {
             "line": {
              "color": "#E5ECF6",
              "width": 0.5
             },
             "pattern": {
              "fillmode": "overlay",
              "size": 10,
              "solidity": 0.2
             }
            },
            "type": "bar"
           }
          ],
          "barpolar": [
           {
            "marker": {
             "line": {
              "color": "#E5ECF6",
              "width": 0.5
             },
             "pattern": {
              "fillmode": "overlay",
              "size": 10,
              "solidity": 0.2
             }
            },
            "type": "barpolar"
           }
          ],
          "carpet": [
           {
            "aaxis": {
             "endlinecolor": "#2a3f5f",
             "gridcolor": "white",
             "linecolor": "white",
             "minorgridcolor": "white",
             "startlinecolor": "#2a3f5f"
            },
            "baxis": {
             "endlinecolor": "#2a3f5f",
             "gridcolor": "white",
             "linecolor": "white",
             "minorgridcolor": "white",
             "startlinecolor": "#2a3f5f"
            },
            "type": "carpet"
           }
          ],
          "choropleth": [
           {
            "colorbar": {
             "outlinewidth": 0,
             "ticks": ""
            },
            "type": "choropleth"
           }
          ],
          "contour": [
           {
            "colorbar": {
             "outlinewidth": 0,
             "ticks": ""
            },
            "colorscale": [
             [
              0,
              "#0d0887"
             ],
             [
              0.1111111111111111,
              "#46039f"
             ],
             [
              0.2222222222222222,
              "#7201a8"
             ],
             [
              0.3333333333333333,
              "#9c179e"
             ],
             [
              0.4444444444444444,
              "#bd3786"
             ],
             [
              0.5555555555555556,
              "#d8576b"
             ],
             [
              0.6666666666666666,
              "#ed7953"
             ],
             [
              0.7777777777777778,
              "#fb9f3a"
             ],
             [
              0.8888888888888888,
              "#fdca26"
             ],
             [
              1,
              "#f0f921"
             ]
            ],
            "type": "contour"
           }
          ],
          "contourcarpet": [
           {
            "colorbar": {
             "outlinewidth": 0,
             "ticks": ""
            },
            "type": "contourcarpet"
           }
          ],
          "heatmap": [
           {
            "colorbar": {
             "outlinewidth": 0,
             "ticks": ""
            },
            "colorscale": [
             [
              0,
              "#0d0887"
             ],
             [
              0.1111111111111111,
              "#46039f"
             ],
             [
              0.2222222222222222,
              "#7201a8"
             ],
             [
              0.3333333333333333,
              "#9c179e"
             ],
             [
              0.4444444444444444,
              "#bd3786"
             ],
             [
              0.5555555555555556,
              "#d8576b"
             ],
             [
              0.6666666666666666,
              "#ed7953"
             ],
             [
              0.7777777777777778,
              "#fb9f3a"
             ],
             [
              0.8888888888888888,
              "#fdca26"
             ],
             [
              1,
              "#f0f921"
             ]
            ],
            "type": "heatmap"
           }
          ],
          "heatmapgl": [
           {
            "colorbar": {
             "outlinewidth": 0,
             "ticks": ""
            },
            "colorscale": [
             [
              0,
              "#0d0887"
             ],
             [
              0.1111111111111111,
              "#46039f"
             ],
             [
              0.2222222222222222,
              "#7201a8"
             ],
             [
              0.3333333333333333,
              "#9c179e"
             ],
             [
              0.4444444444444444,
              "#bd3786"
             ],
             [
              0.5555555555555556,
              "#d8576b"
             ],
             [
              0.6666666666666666,
              "#ed7953"
             ],
             [
              0.7777777777777778,
              "#fb9f3a"
             ],
             [
              0.8888888888888888,
              "#fdca26"
             ],
             [
              1,
              "#f0f921"
             ]
            ],
            "type": "heatmapgl"
           }
          ],
          "histogram": [
           {
            "marker": {
             "pattern": {
              "fillmode": "overlay",
              "size": 10,
              "solidity": 0.2
             }
            },
            "type": "histogram"
           }
          ],
          "histogram2d": [
           {
            "colorbar": {
             "outlinewidth": 0,
             "ticks": ""
            },
            "colorscale": [
             [
              0,
              "#0d0887"
             ],
             [
              0.1111111111111111,
              "#46039f"
             ],
             [
              0.2222222222222222,
              "#7201a8"
             ],
             [
              0.3333333333333333,
              "#9c179e"
             ],
             [
              0.4444444444444444,
              "#bd3786"
             ],
             [
              0.5555555555555556,
              "#d8576b"
             ],
             [
              0.6666666666666666,
              "#ed7953"
             ],
             [
              0.7777777777777778,
              "#fb9f3a"
             ],
             [
              0.8888888888888888,
              "#fdca26"
             ],
             [
              1,
              "#f0f921"
             ]
            ],
            "type": "histogram2d"
           }
          ],
          "histogram2dcontour": [
           {
            "colorbar": {
             "outlinewidth": 0,
             "ticks": ""
            },
            "colorscale": [
             [
              0,
              "#0d0887"
             ],
             [
              0.1111111111111111,
              "#46039f"
             ],
             [
              0.2222222222222222,
              "#7201a8"
             ],
             [
              0.3333333333333333,
              "#9c179e"
             ],
             [
              0.4444444444444444,
              "#bd3786"
             ],
             [
              0.5555555555555556,
              "#d8576b"
             ],
             [
              0.6666666666666666,
              "#ed7953"
             ],
             [
              0.7777777777777778,
              "#fb9f3a"
             ],
             [
              0.8888888888888888,
              "#fdca26"
             ],
             [
              1,
              "#f0f921"
             ]
            ],
            "type": "histogram2dcontour"
           }
          ],
          "mesh3d": [
           {
            "colorbar": {
             "outlinewidth": 0,
             "ticks": ""
            },
            "type": "mesh3d"
           }
          ],
          "parcoords": [
           {
            "line": {
             "colorbar": {
              "outlinewidth": 0,
              "ticks": ""
             }
            },
            "type": "parcoords"
           }
          ],
          "pie": [
           {
            "automargin": true,
            "type": "pie"
           }
          ],
          "scatter": [
           {
            "fillpattern": {
             "fillmode": "overlay",
             "size": 10,
             "solidity": 0.2
            },
            "type": "scatter"
           }
          ],
          "scatter3d": [
           {
            "line": {
             "colorbar": {
              "outlinewidth": 0,
              "ticks": ""
             }
            },
            "marker": {
             "colorbar": {
              "outlinewidth": 0,
              "ticks": ""
             }
            },
            "type": "scatter3d"
           }
          ],
          "scattercarpet": [
           {
            "marker": {
             "colorbar": {
              "outlinewidth": 0,
              "ticks": ""
             }
            },
            "type": "scattercarpet"
           }
          ],
          "scattergeo": [
           {
            "marker": {
             "colorbar": {
              "outlinewidth": 0,
              "ticks": ""
             }
            },
            "type": "scattergeo"
           }
          ],
          "scattergl": [
           {
            "marker": {
             "colorbar": {
              "outlinewidth": 0,
              "ticks": ""
             }
            },
            "type": "scattergl"
           }
          ],
          "scattermapbox": [
           {
            "marker": {
             "colorbar": {
              "outlinewidth": 0,
              "ticks": ""
             }
            },
            "type": "scattermapbox"
           }
          ],
          "scatterpolar": [
           {
            "marker": {
             "colorbar": {
              "outlinewidth": 0,
              "ticks": ""
             }
            },
            "type": "scatterpolar"
           }
          ],
          "scatterpolargl": [
           {
            "marker": {
             "colorbar": {
              "outlinewidth": 0,
              "ticks": ""
             }
            },
            "type": "scatterpolargl"
           }
          ],
          "scatterternary": [
           {
            "marker": {
             "colorbar": {
              "outlinewidth": 0,
              "ticks": ""
             }
            },
            "type": "scatterternary"
           }
          ],
          "surface": [
           {
            "colorbar": {
             "outlinewidth": 0,
             "ticks": ""
            },
            "colorscale": [
             [
              0,
              "#0d0887"
             ],
             [
              0.1111111111111111,
              "#46039f"
             ],
             [
              0.2222222222222222,
              "#7201a8"
             ],
             [
              0.3333333333333333,
              "#9c179e"
             ],
             [
              0.4444444444444444,
              "#bd3786"
             ],
             [
              0.5555555555555556,
              "#d8576b"
             ],
             [
              0.6666666666666666,
              "#ed7953"
             ],
             [
              0.7777777777777778,
              "#fb9f3a"
             ],
             [
              0.8888888888888888,
              "#fdca26"
             ],
             [
              1,
              "#f0f921"
             ]
            ],
            "type": "surface"
           }
          ],
          "table": [
           {
            "cells": {
             "fill": {
              "color": "#EBF0F8"
             },
             "line": {
              "color": "white"
             }
            },
            "header": {
             "fill": {
              "color": "#C8D4E3"
             },
             "line": {
              "color": "white"
             }
            },
            "type": "table"
           }
          ]
         },
         "layout": {
          "annotationdefaults": {
           "arrowcolor": "#2a3f5f",
           "arrowhead": 0,
           "arrowwidth": 1
          },
          "autotypenumbers": "strict",
          "coloraxis": {
           "colorbar": {
            "outlinewidth": 0,
            "ticks": ""
           }
          },
          "colorscale": {
           "diverging": [
            [
             0,
             "#8e0152"
            ],
            [
             0.1,
             "#c51b7d"
            ],
            [
             0.2,
             "#de77ae"
            ],
            [
             0.3,
             "#f1b6da"
            ],
            [
             0.4,
             "#fde0ef"
            ],
            [
             0.5,
             "#f7f7f7"
            ],
            [
             0.6,
             "#e6f5d0"
            ],
            [
             0.7,
             "#b8e186"
            ],
            [
             0.8,
             "#7fbc41"
            ],
            [
             0.9,
             "#4d9221"
            ],
            [
             1,
             "#276419"
            ]
           ],
           "sequential": [
            [
             0,
             "#0d0887"
            ],
            [
             0.1111111111111111,
             "#46039f"
            ],
            [
             0.2222222222222222,
             "#7201a8"
            ],
            [
             0.3333333333333333,
             "#9c179e"
            ],
            [
             0.4444444444444444,
             "#bd3786"
            ],
            [
             0.5555555555555556,
             "#d8576b"
            ],
            [
             0.6666666666666666,
             "#ed7953"
            ],
            [
             0.7777777777777778,
             "#fb9f3a"
            ],
            [
             0.8888888888888888,
             "#fdca26"
            ],
            [
             1,
             "#f0f921"
            ]
           ],
           "sequentialminus": [
            [
             0,
             "#0d0887"
            ],
            [
             0.1111111111111111,
             "#46039f"
            ],
            [
             0.2222222222222222,
             "#7201a8"
            ],
            [
             0.3333333333333333,
             "#9c179e"
            ],
            [
             0.4444444444444444,
             "#bd3786"
            ],
            [
             0.5555555555555556,
             "#d8576b"
            ],
            [
             0.6666666666666666,
             "#ed7953"
            ],
            [
             0.7777777777777778,
             "#fb9f3a"
            ],
            [
             0.8888888888888888,
             "#fdca26"
            ],
            [
             1,
             "#f0f921"
            ]
           ]
          },
          "colorway": [
           "#636efa",
           "#EF553B",
           "#00cc96",
           "#ab63fa",
           "#FFA15A",
           "#19d3f3",
           "#FF6692",
           "#B6E880",
           "#FF97FF",
           "#FECB52"
          ],
          "font": {
           "color": "#2a3f5f"
          },
          "geo": {
           "bgcolor": "white",
           "lakecolor": "white",
           "landcolor": "#E5ECF6",
           "showlakes": true,
           "showland": true,
           "subunitcolor": "white"
          },
          "hoverlabel": {
           "align": "left"
          },
          "hovermode": "closest",
          "mapbox": {
           "style": "light"
          },
          "paper_bgcolor": "white",
          "plot_bgcolor": "#E5ECF6",
          "polar": {
           "angularaxis": {
            "gridcolor": "white",
            "linecolor": "white",
            "ticks": ""
           },
           "bgcolor": "#E5ECF6",
           "radialaxis": {
            "gridcolor": "white",
            "linecolor": "white",
            "ticks": ""
           }
          },
          "scene": {
           "xaxis": {
            "backgroundcolor": "#E5ECF6",
            "gridcolor": "white",
            "gridwidth": 2,
            "linecolor": "white",
            "showbackground": true,
            "ticks": "",
            "zerolinecolor": "white"
           },
           "yaxis": {
            "backgroundcolor": "#E5ECF6",
            "gridcolor": "white",
            "gridwidth": 2,
            "linecolor": "white",
            "showbackground": true,
            "ticks": "",
            "zerolinecolor": "white"
           },
           "zaxis": {
            "backgroundcolor": "#E5ECF6",
            "gridcolor": "white",
            "gridwidth": 2,
            "linecolor": "white",
            "showbackground": true,
            "ticks": "",
            "zerolinecolor": "white"
           }
          },
          "shapedefaults": {
           "line": {
            "color": "#2a3f5f"
           }
          },
          "ternary": {
           "aaxis": {
            "gridcolor": "white",
            "linecolor": "white",
            "ticks": ""
           },
           "baxis": {
            "gridcolor": "white",
            "linecolor": "white",
            "ticks": ""
           },
           "bgcolor": "#E5ECF6",
           "caxis": {
            "gridcolor": "white",
            "linecolor": "white",
            "ticks": ""
           }
          },
          "title": {
           "x": 0.05
          },
          "xaxis": {
           "automargin": true,
           "gridcolor": "white",
           "linecolor": "white",
           "ticks": "",
           "title": {
            "standoff": 15
           },
           "zerolinecolor": "white",
           "zerolinewidth": 2
          },
          "yaxis": {
           "automargin": true,
           "gridcolor": "white",
           "linecolor": "white",
           "ticks": "",
           "title": {
            "standoff": 15
           },
           "zerolinecolor": "white",
           "zerolinewidth": 2
          }
         }
        },
        "title": {
         "text": "Distribution of number of topics"
        },
        "xaxis": {
         "anchor": "y",
         "domain": [
          0,
          1
         ],
         "title": {
          "text": "threshold"
         }
        },
        "yaxis": {
         "anchor": "x",
         "domain": [
          0,
          1
         ],
         "title": {
          "text": "share of reviews, %"
         }
        }
       }
      }
     },
     "metadata": {},
     "output_type": "display_data"
    }
   ],
   "source": [
    "import tqdm\n",
    "import plotly.express as px\n",
    "\n",
    "tmp_dfs = []\n",
    "\n",
    "# iterating through different threshold levels\n",
    "for thr in tqdm.tqdm(np.arange(0, 0.35, 0.001)):\n",
    "    # calculating number of topics with probability > threshold for each document\n",
    "    tmp_df = pd.DataFrame(list(map(lambda x: len(list(filter(lambda y: y >= thr, x))), topic_distr))).rename(\n",
    "        columns = {0: 'num_topics'}\n",
    "    )\n",
    "    tmp_df['num_docs'] = 1\n",
    "    \n",
    "    tmp_df['num_topics_group'] = tmp_df['num_topics']\\\n",
    "        .map(lambda x: str(x) if x < 5 else '5+')\n",
    "    \n",
    "    # aggregating stats\n",
    "    tmp_df_aggr = tmp_df.groupby('num_topics_group', as_index = False).num_docs.sum()\n",
    "    tmp_df_aggr['threshold'] = thr\n",
    "    \n",
    "    tmp_dfs.append(tmp_df_aggr)\n",
    "\n",
    "num_topics_stats_df = pd.concat(tmp_dfs).pivot(index = 'threshold', \n",
    "                              values = 'num_docs',\n",
    "                              columns = 'num_topics_group').fillna(0)\n",
    "\n",
    "num_topics_stats_df = num_topics_stats_df.apply(lambda x: 100.*x/num_topics_stats_df.sum(axis = 1))\n",
    "\n",
    "# visualisation\n",
    "colormap = px.colors.sequential.YlGnBu\n",
    "px.area(num_topics_stats_df, \n",
    "       title = 'Distribution of number of topics',\n",
    "       labels = {'num_topics_group': 'number of topics',\n",
    "                'value': 'share of reviews, %'},\n",
    "       color_discrete_map = {\n",
    "          '0': colormap[0],\n",
    "          '1': colormap[3],\n",
    "          '2': colormap[4],\n",
    "          '3': colormap[5],\n",
    "          '4': colormap[6],\n",
    "          '5+': colormap[7]\n",
    "      })"
   ]
  },
  {
   "cell_type": "code",
   "execution_count": 179,
   "metadata": {},
   "outputs": [],
   "source": [
    "threshold = 0.2\n",
    "\n",
    "# define topic with probability > threshold for each document\n",
    "df['multiple_topics'] = list(map(\n",
    "    lambda doc_topic_distr: list(map(\n",
    "        lambda y: y[0], filter(lambda x: x[1] >= threshold, \n",
    "                               (enumerate(doc_topic_distr)))\n",
    "    )), topic_distr\n",
    "))\n",
    "\n",
    "# creating a dataset with docid, topic\n",
    "tmp_data = []\n",
    "\n",
    "for rec in df.to_dict('records'):\n",
    "    if len(rec['multiple_topics']) != 0:\n",
    "        mult_topics = rec['multiple_topics']\n",
    "    else:\n",
    "        mult_topics = [-1]\n",
    "        \n",
    "    for topic in mult_topics: \n",
    "        tmp_data.append(\n",
    "            {\n",
    "                'topic': topic,\n",
    "                'id': rec['Content'],\n",
    "            }\n",
    "        )\n",
    "            \n",
    "mult_topics_df = pd.DataFrame(tmp_data)\n",
    "df[\"multiple_topics_name\"] = df[\"multiple_topics\"].map(lambda x: [topic_name_to_id.get(i, \"No topic\") for i in x])\n"
   ]
  },
  {
   "cell_type": "code",
   "execution_count": 180,
   "metadata": {},
   "outputs": [
    {
     "data": {
      "text/html": [
       "<div>\n",
       "<style scoped>\n",
       "    .dataframe tbody tr th:only-of-type {\n",
       "        vertical-align: middle;\n",
       "    }\n",
       "\n",
       "    .dataframe tbody tr th {\n",
       "        vertical-align: top;\n",
       "    }\n",
       "\n",
       "    .dataframe thead th {\n",
       "        text-align: right;\n",
       "    }\n",
       "</style>\n",
       "<table border=\"1\" class=\"dataframe\">\n",
       "  <thead>\n",
       "    <tr style=\"text-align: right;\">\n",
       "      <th></th>\n",
       "      <th>File Name</th>\n",
       "      <th>turn_index</th>\n",
       "      <th>Content</th>\n",
       "      <th>preprocessed_content</th>\n",
       "      <th>Experiment</th>\n",
       "      <th>Condition</th>\n",
       "      <th>Id</th>\n",
       "      <th>Speaker</th>\n",
       "      <th>one_topic</th>\n",
       "      <th>one_topic_name</th>\n",
       "      <th>multiple_topics</th>\n",
       "      <th>multiple_topics_name</th>\n",
       "    </tr>\n",
       "  </thead>\n",
       "  <tbody>\n",
       "    <tr>\n",
       "      <th>0</th>\n",
       "      <td>ID 05</td>\n",
       "      <td>1</td>\n",
       "      <td>so, that was very, let's say, unexpected and s...</td>\n",
       "      <td>let unexpected surprising moment go realize ge...</td>\n",
       "      <td>OBE1</td>\n",
       "      <td>1</td>\n",
       "      <td>5</td>\n",
       "      <td>Participant</td>\n",
       "      <td>0</td>\n",
       "      <td>0_body_different_feeling_sense</td>\n",
       "      <td>[]</td>\n",
       "      <td>[]</td>\n",
       "    </tr>\n",
       "    <tr>\n",
       "      <th>1</th>\n",
       "      <td>ID 05</td>\n",
       "      <td>3</td>\n",
       "      <td>a little bit it was a little bit like, okay, w...</td>\n",
       "      <td>watch outside special give lot emotion explain...</td>\n",
       "      <td>OBE1</td>\n",
       "      <td>1</td>\n",
       "      <td>5</td>\n",
       "      <td>Participant</td>\n",
       "      <td>-1</td>\n",
       "      <td>-1_say_look_body_come</td>\n",
       "      <td>[]</td>\n",
       "      <td>[]</td>\n",
       "    </tr>\n",
       "    <tr>\n",
       "      <th>2</th>\n",
       "      <td>ID 05</td>\n",
       "      <td>5</td>\n",
       "      <td>yeah yeah i feel like i'm back it's okay but y...</td>\n",
       "      <td>get perfect description</td>\n",
       "      <td>OBE1</td>\n",
       "      <td>1</td>\n",
       "      <td>5</td>\n",
       "      <td>Participant</td>\n",
       "      <td>0</td>\n",
       "      <td>0_body_different_feeling_sense</td>\n",
       "      <td>[]</td>\n",
       "      <td>[]</td>\n",
       "    </tr>\n",
       "    <tr>\n",
       "      <th>3</th>\n",
       "      <td>ID 05</td>\n",
       "      <td>7</td>\n",
       "      <td>the thing that i didn't really understand, but...</td>\n",
       "      <td>understand understand body touching basically ...</td>\n",
       "      <td>OBE1</td>\n",
       "      <td>1</td>\n",
       "      <td>5</td>\n",
       "      <td>Participant</td>\n",
       "      <td>2</td>\n",
       "      <td>2_touch_body_delay_body touch</td>\n",
       "      <td>[2]</td>\n",
       "      <td>[2_touch_body_delay_body touch]</td>\n",
       "    </tr>\n",
       "    <tr>\n",
       "      <th>4</th>\n",
       "      <td>ID 05</td>\n",
       "      <td>9</td>\n",
       "      <td>so i felt like a time lag in the last one of w...</td>\n",
       "      <td>lag see body</td>\n",
       "      <td>OBE1</td>\n",
       "      <td>1</td>\n",
       "      <td>5</td>\n",
       "      <td>Participant</td>\n",
       "      <td>3</td>\n",
       "      <td>3_body_body body_light_heavy</td>\n",
       "      <td>[3]</td>\n",
       "      <td>[3_body_body body_light_heavy]</td>\n",
       "    </tr>\n",
       "  </tbody>\n",
       "</table>\n",
       "</div>"
      ],
      "text/plain": [
       "  File Name  turn_index                                            Content  \\\n",
       "0     ID 05           1  so, that was very, let's say, unexpected and s...   \n",
       "1     ID 05           3  a little bit it was a little bit like, okay, w...   \n",
       "2     ID 05           5  yeah yeah i feel like i'm back it's okay but y...   \n",
       "3     ID 05           7  the thing that i didn't really understand, but...   \n",
       "4     ID 05           9  so i felt like a time lag in the last one of w...   \n",
       "\n",
       "                                preprocessed_content Experiment Condition  Id  \\\n",
       "0  let unexpected surprising moment go realize ge...       OBE1         1   5   \n",
       "1  watch outside special give lot emotion explain...       OBE1         1   5   \n",
       "2                            get perfect description       OBE1         1   5   \n",
       "3  understand understand body touching basically ...       OBE1         1   5   \n",
       "4                                       lag see body       OBE1         1   5   \n",
       "\n",
       "       Speaker  one_topic                  one_topic_name multiple_topics  \\\n",
       "0  Participant          0  0_body_different_feeling_sense              []   \n",
       "1  Participant         -1           -1_say_look_body_come              []   \n",
       "2  Participant          0  0_body_different_feeling_sense              []   \n",
       "3  Participant          2   2_touch_body_delay_body touch             [2]   \n",
       "4  Participant          3    3_body_body body_light_heavy             [3]   \n",
       "\n",
       "              multiple_topics_name  \n",
       "0                               []  \n",
       "1                               []  \n",
       "2                               []  \n",
       "3  [2_touch_body_delay_body touch]  \n",
       "4   [3_body_body body_light_heavy]  "
      ]
     },
     "execution_count": 180,
     "metadata": {},
     "output_type": "execute_result"
    }
   ],
   "source": [
    "df.to_csv(\"df_topic_multiples.csv\", index = False)\n",
    "df.head()"
   ]
  },
  {
   "cell_type": "markdown",
   "metadata": {},
   "source": [
    "### Look differences btw single and multiple topics"
   ]
  },
  {
   "cell_type": "code",
   "execution_count": 181,
   "metadata": {},
   "outputs": [
    {
     "data": {
      "text/plain": [
       "{-1: '-1_say_look_body_come',\n",
       " 0: '0_body_different_feeling_sense',\n",
       " 1: '1_relax_sleep_calm_asleep',\n",
       " 2: '2_touch_body_delay_body touch',\n",
       " 3: '3_body_body body_light_heavy',\n",
       " 4: '4_color_pixel_different_difference',\n",
       " 5: '5_forest_tree_setting_rock',\n",
       " 6: '6_focus_try_eye_distract',\n",
       " 7: '7_nice_fine_good_fine nice',\n",
       " 8: '8_want_guy_follow_need',\n",
       " 9: '9_eye_close_open_eye close',\n",
       " 10: '10_avatar_blink_sync_link',\n",
       " 11: '11_strange_strange strange_weird_funny'}"
      ]
     },
     "execution_count": 181,
     "metadata": {},
     "output_type": "execute_result"
    }
   ],
   "source": [
    "topic_name_to_id"
   ]
  },
  {
   "cell_type": "code",
   "execution_count": 182,
   "metadata": {},
   "outputs": [
    {
     "name": "stdout",
     "output_type": "stream",
     "text": [
      "0\n"
     ]
    },
    {
     "data": {
      "text/html": [
       "<div>\n",
       "<style scoped>\n",
       "    .dataframe tbody tr th:only-of-type {\n",
       "        vertical-align: middle;\n",
       "    }\n",
       "\n",
       "    .dataframe tbody tr th {\n",
       "        vertical-align: top;\n",
       "    }\n",
       "\n",
       "    .dataframe thead th {\n",
       "        text-align: right;\n",
       "    }\n",
       "</style>\n",
       "<table border=\"1\" class=\"dataframe\">\n",
       "  <thead>\n",
       "    <tr style=\"text-align: right;\">\n",
       "      <th></th>\n",
       "      <th>Experiment</th>\n",
       "      <th>Id</th>\n",
       "      <th>Condition</th>\n",
       "      <th>Speaker</th>\n",
       "      <th>Content</th>\n",
       "      <th>multiple_topics_name</th>\n",
       "    </tr>\n",
       "  </thead>\n",
       "  <tbody>\n",
       "  </tbody>\n",
       "</table>\n",
       "</div>"
      ],
      "text/plain": [
       "Empty DataFrame\n",
       "Columns: [Experiment, Id, Condition, Speaker, Content, multiple_topics_name]\n",
       "Index: []"
      ]
     },
     "execution_count": 182,
     "metadata": {},
     "output_type": "execute_result"
    }
   ],
   "source": [
    "# look for a specific topic the topic 12\n",
    "specific_topic = df[df['one_topic'] == 12]\n",
    "print(len(specific_topic))\n",
    "# look at specifc columns\n",
    "specific_topic[['Experiment','Id','Condition','Speaker','Content','multiple_topics_name']]"
   ]
  },
  {
   "cell_type": "code",
   "execution_count": 183,
   "metadata": {},
   "outputs": [
    {
     "name": "stdout",
     "output_type": "stream",
     "text": [
      "0\n"
     ]
    },
    {
     "data": {
      "text/html": [
       "<div>\n",
       "<style scoped>\n",
       "    .dataframe tbody tr th:only-of-type {\n",
       "        vertical-align: middle;\n",
       "    }\n",
       "\n",
       "    .dataframe tbody tr th {\n",
       "        vertical-align: top;\n",
       "    }\n",
       "\n",
       "    .dataframe thead th {\n",
       "        text-align: right;\n",
       "    }\n",
       "</style>\n",
       "<table border=\"1\" class=\"dataframe\">\n",
       "  <thead>\n",
       "    <tr style=\"text-align: right;\">\n",
       "      <th></th>\n",
       "      <th>Experiment</th>\n",
       "      <th>Id</th>\n",
       "      <th>Condition</th>\n",
       "      <th>Speaker</th>\n",
       "      <th>Content</th>\n",
       "      <th>multiple_topics_name</th>\n",
       "    </tr>\n",
       "  </thead>\n",
       "  <tbody>\n",
       "  </tbody>\n",
       "</table>\n",
       "</div>"
      ],
      "text/plain": [
       "Empty DataFrame\n",
       "Columns: [Experiment, Id, Condition, Speaker, Content, multiple_topics_name]\n",
       "Index: []"
      ]
     },
     "execution_count": 183,
     "metadata": {},
     "output_type": "execute_result"
    }
   ],
   "source": [
    "# look for a specific topic the topic 12\n",
    "specific_topic = df[df['multiple_topics'].map(lambda x: 12 in x)]\n",
    "print(len(specific_topic))\n",
    "# look at specifc columns\n",
    "specific_topic[['Experiment','Id','Condition','Speaker','Content','multiple_topics_name']]"
   ]
  }
 ],
 "metadata": {
  "kernelspec": {
   "display_name": "topic",
   "language": "python",
   "name": "python3"
  },
  "language_info": {
   "codemirror_mode": {
    "name": "ipython",
    "version": 3
   },
   "file_extension": ".py",
   "mimetype": "text/x-python",
   "name": "python",
   "nbconvert_exporter": "python",
   "pygments_lexer": "ipython3",
   "version": "3.10.16"
  }
 },
 "nbformat": 4,
 "nbformat_minor": 2
}
