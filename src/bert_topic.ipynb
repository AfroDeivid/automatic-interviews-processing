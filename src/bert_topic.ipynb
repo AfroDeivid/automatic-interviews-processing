{
 "cells": [
  {
   "cell_type": "code",
   "execution_count": 198,
   "metadata": {},
   "outputs": [
    {
     "name": "stdout",
     "output_type": "stream",
     "text": [
      "The autoreload extension is already loaded. To reload it, use:\n",
      "  %reload_ext autoreload\n"
     ]
    }
   ],
   "source": [
    "%load_ext autoreload\n",
    "%autoreload 2"
   ]
  },
  {
   "cell_type": "code",
   "execution_count": 199,
   "metadata": {},
   "outputs": [],
   "source": [
    "from utils.analysis_helpers import *\n",
    "from bertopic import BERTopic"
   ]
  },
  {
   "cell_type": "markdown",
   "metadata": {},
   "source": [
    "# Define the Docs"
   ]
  },
  {
   "cell_type": "code",
   "execution_count": 200,
   "metadata": {},
   "outputs": [
    {
     "name": "stdout",
     "output_type": "stream",
     "text": [
      "Unique conditions before filtering: ['1' 'C' 'I' '0']\n",
      "Number of interviews before filtering: 82\n",
      "Unique conditions after filtering: ['1' 'C' 'I']\n",
      "Number of interviews (File Name) after filtering: 75\n"
     ]
    }
   ],
   "source": [
    "df_all = pd.read_csv(\"../Dataset/meditations_transcripts/transcripts_merged.csv\")\n",
    "\n",
    "print(f\"Unique conditions before filtering: {df_all['Condition'].unique()}\")\n",
    "print(f\"Number of interviews before filtering: {df_all['File Name'].nunique()}\")\n",
    "# *0*: No \"real\" interview (e.g., setup phase, small talk). We filter these out.\n",
    "df_all = df_all[df_all[\"Condition\"] != '0']\n",
    "print(f\"Unique conditions after filtering: {df_all['Condition'].unique()}\")\n",
    "print(f\"Number of interviews (File Name) after filtering: {df_all['File Name'].nunique()}\")"
   ]
  },
  {
   "cell_type": "code",
   "execution_count": 201,
   "metadata": {},
   "outputs": [],
   "source": [
    "# Preoprocessing\n",
    "df = df_all.copy()\n",
    "# Focus only on the participant's or interviewer's speech or both\n",
    "df = df[df[\"Speaker\"] == \"Participant\"]\n",
    "#df = df[df[\"Speaker\"] == \"Interviewer\"]\n",
    "\n",
    "# Select experiment\n",
    "#df = df[df[\"Experiment\"] != \"Compassion\"]\n",
    "\n",
    "# Filter tokens (stopwords, punctuations) were removed using the spacy library, \n",
    "# All text was lowercased + lemmatized,\n",
    "# Plus extra_stopwords being the most frequents words in the corpus AND being meaningless \n",
    "extra_stopwords = [\n",
    "    # Filler Words: Common conversational placeholders without thematic value\n",
    "    \"yeah\", \"okay\", \"yes\", \"mean\", \"oh\", \"ah\", \"like\", \"kind\",\"kinda\", \"course\", \"way\",\n",
    "    # Vague/Ambiguous Words: Frequent but thematically irrelevant in conversations\n",
    "    \"think\", \"know\", \"really\", \"bit\", \"feel\", \"thing\", \"sort\", \"maybe\", \"little\", \"actually\",\n",
    "    \"sure\", \"exactly\", \"tell\", \"ask\", \"people\", \"think\",\n",
    "    # Broad terms or context-specific words overshadowing subtler themes\n",
    "    \"question\", \"sorry\", \"time\", \"first\", \"second\", \"later\", \"experience\", \"end\", \"meditation\" #,\"body\"\n",
    "]\n",
    "df['preprocessed_content'] = df['Content'].apply(lambda x: preprocess_text(x, extra_stopwords=extra_stopwords, retain_stopwords=[\"yourself\", \"myself\"]))\n",
    "\n",
    "# Remove rows with empty content or content that's only punctuation after preprocessing\n",
    "df = df[df['preprocessed_content'].str.strip().str.len() > 0]\n",
    "# File S225 is removed because it is empty after preprocessing (only two utterances, not meaningful words for topics)\n",
    " # -> It was the Intervention condition which was removed, so the participant only discuss during the sencond condition interview (control)\n",
    "\n",
    "df.to_csv(\"preprocessed_content.csv\", index=False)"
   ]
  },
  {
   "cell_type": "code",
   "execution_count": 202,
   "metadata": {},
   "outputs": [
    {
     "data": {
      "text/html": [
       "<div>\n",
       "<style scoped>\n",
       "    .dataframe tbody tr th:only-of-type {\n",
       "        vertical-align: middle;\n",
       "    }\n",
       "\n",
       "    .dataframe tbody tr th {\n",
       "        vertical-align: top;\n",
       "    }\n",
       "\n",
       "    .dataframe thead th {\n",
       "        text-align: right;\n",
       "    }\n",
       "</style>\n",
       "<table border=\"1\" class=\"dataframe\">\n",
       "  <thead>\n",
       "    <tr style=\"text-align: right;\">\n",
       "      <th></th>\n",
       "      <th>File Name</th>\n",
       "      <th>turn_index</th>\n",
       "      <th>Content</th>\n",
       "      <th>preprocessed_content</th>\n",
       "      <th>Experiment</th>\n",
       "      <th>Condition</th>\n",
       "      <th>Id</th>\n",
       "      <th>Speaker</th>\n",
       "    </tr>\n",
       "  </thead>\n",
       "  <tbody>\n",
       "    <tr>\n",
       "      <th>0</th>\n",
       "      <td>ID 05</td>\n",
       "      <td>1</td>\n",
       "      <td>So, that was very, let's say, unexpected and s...</td>\n",
       "      <td>let unexpected surprising moment realize disco...</td>\n",
       "      <td>OBE1</td>\n",
       "      <td>1</td>\n",
       "      <td>5</td>\n",
       "      <td>Participant</td>\n",
       "    </tr>\n",
       "    <tr>\n",
       "      <th>1</th>\n",
       "      <td>ID 05</td>\n",
       "      <td>3</td>\n",
       "      <td>It was a little bit like, okay, well, so it's ...</td>\n",
       "      <td>watch outside special lot emotion explain moment</td>\n",
       "      <td>OBE1</td>\n",
       "      <td>1</td>\n",
       "      <td>5</td>\n",
       "      <td>Participant</td>\n",
       "    </tr>\n",
       "  </tbody>\n",
       "</table>\n",
       "</div>"
      ],
      "text/plain": [
       "  File Name  turn_index                                            Content  \\\n",
       "0     ID 05           1  So, that was very, let's say, unexpected and s...   \n",
       "1     ID 05           3  It was a little bit like, okay, well, so it's ...   \n",
       "\n",
       "                                preprocessed_content Experiment Condition  Id  \\\n",
       "0  let unexpected surprising moment realize disco...       OBE1         1   5   \n",
       "1   watch outside special lot emotion explain moment       OBE1         1   5   \n",
       "\n",
       "       Speaker  \n",
       "0  Participant  \n",
       "1  Participant  "
      ]
     },
     "execution_count": 202,
     "metadata": {},
     "output_type": "execute_result"
    }
   ],
   "source": [
    "df = df.groupby(['File Name','turn_index']).agg({ \n",
    "    'Content': ' '.join,  # Combine raw text\n",
    "    'preprocessed_content': ' '.join,  # Combine preprocessed text\n",
    "    'Experiment': 'first',   # Keep the first \n",
    "    'Condition': 'first',   # Keep the first\n",
    "    'Id': 'first',   # Keep the first\n",
    "    'Speaker': 'first',   # Keep the first\n",
    "}).reset_index()\n",
    "df.head(2)"
   ]
  },
  {
   "cell_type": "code",
   "execution_count": 203,
   "metadata": {},
   "outputs": [
    {
     "name": "stdout",
     "output_type": "stream",
     "text": [
      "668\n"
     ]
    }
   ],
   "source": [
    "df[\"Index\"] = df.index\n",
    "docs = list(df.preprocessed_content)\n",
    "#docs = list(df.Content)\n",
    "print(len(docs))"
   ]
  },
  {
   "cell_type": "markdown",
   "metadata": {},
   "source": [
    "# Define the model"
   ]
  },
  {
   "cell_type": "code",
   "execution_count": 204,
   "metadata": {},
   "outputs": [
    {
     "data": {
      "application/vnd.jupyter.widget-view+json": {
       "model_id": "cc1dabd580474e05be6f4d05baf39d05",
       "version_major": 2,
       "version_minor": 0
      },
      "text/plain": [
       "Batches:   0%|          | 0/21 [00:00<?, ?it/s]"
      ]
     },
     "metadata": {},
     "output_type": "display_data"
    }
   ],
   "source": [
    "from sentence_transformers import SentenceTransformer\n",
    "\n",
    "# Pre-calculate embeddings\n",
    "embedding_model = SentenceTransformer(\"all-mpnet-base-v2\") # Better but slower: all-mpnet-base-v2 || Trade-off: all-MiniLM-L6-v2\n",
    "embeddings = embedding_model.encode(docs, show_progress_bar=True)"
   ]
  },
  {
   "cell_type": "code",
   "execution_count": 205,
   "metadata": {},
   "outputs": [],
   "source": [
    "from umap import UMAP\n",
    "from hdbscan import HDBSCAN\n",
    "from sklearn.feature_extraction.text import CountVectorizer\n",
    "from bertopic.representation import KeyBERTInspired, MaximalMarginalRelevance\n",
    "\n",
    "# Dimensionality reduction model\n",
    "umap_model = UMAP(n_neighbors=15, n_components=8, min_dist=0.0, metric='cosine', random_state=42)\n",
    "\n",
    "# Clustering model\n",
    "hdbscan_model = HDBSCAN(min_cluster_size=8, metric='euclidean', cluster_selection_method='eom')\n",
    "\n",
    "# Representation model\n",
    "#representation_model = [KeyBERTInspired(), MaximalMarginalRelevance(diversity=.5)]\n",
    "\n",
    "# Vectorizer model used if we perform clustering with orignal Content\n",
    "#stops_words = preprocess_text(\"sample\",return_stopwords=True, extra_stopwords=extra_stopwords, retain_stopwords=[\"yourself\", \"myself\"])\n",
    "#vectorizer_model = CountVectorizer(stop_words=stops_words)\n",
    "\n",
    "topic_model = BERTopic(                     \n",
    "# Pipeline models\n",
    "embedding_model=embedding_model,\n",
    "umap_model=umap_model,\n",
    "hdbscan_model=hdbscan_model,\n",
    "#vectorizer_model=vectorizer_model,\n",
    "#representation_model=representation_model,\n",
    "\n",
    "# Hyperparameters\n",
    "verbose=True)"
   ]
  },
  {
   "cell_type": "code",
   "execution_count": 206,
   "metadata": {},
   "outputs": [
    {
     "name": "stderr",
     "output_type": "stream",
     "text": [
      "2025-01-17 14:16:56,765 - BERTopic - Dimensionality - Fitting the dimensionality reduction algorithm\n",
      "2025-01-17 14:16:58,478 - BERTopic - Dimensionality - Completed ✓\n",
      "2025-01-17 14:16:58,480 - BERTopic - Cluster - Start clustering the reduced embeddings\n",
      "2025-01-17 14:16:58,547 - BERTopic - Cluster - Completed ✓\n",
      "2025-01-17 14:16:58,555 - BERTopic - Representation - Extracting topics from clusters using representation models.\n",
      "2025-01-17 14:16:58,612 - BERTopic - Representation - Completed ✓\n"
     ]
    },
    {
     "data": {
      "text/plain": [
       "23"
      ]
     },
     "execution_count": 206,
     "metadata": {},
     "output_type": "execute_result"
    }
   ],
   "source": [
    "topics, ini_probs = topic_model.fit_transform(docs, embeddings=embeddings)\n",
    "num_topics = len(topic_model.get_topics()) \n",
    "num_topics"
   ]
  },
  {
   "cell_type": "code",
   "execution_count": 207,
   "metadata": {},
   "outputs": [
    {
     "data": {
      "text/html": [
       "<div>\n",
       "<style scoped>\n",
       "    .dataframe tbody tr th:only-of-type {\n",
       "        vertical-align: middle;\n",
       "    }\n",
       "\n",
       "    .dataframe tbody tr th {\n",
       "        vertical-align: top;\n",
       "    }\n",
       "\n",
       "    .dataframe thead th {\n",
       "        text-align: right;\n",
       "    }\n",
       "</style>\n",
       "<table border=\"1\" class=\"dataframe\">\n",
       "  <thead>\n",
       "    <tr style=\"text-align: right;\">\n",
       "      <th></th>\n",
       "      <th>Topic</th>\n",
       "      <th>Count</th>\n",
       "      <th>Name</th>\n",
       "      <th>Representation</th>\n",
       "      <th>Representative_Docs</th>\n",
       "    </tr>\n",
       "  </thead>\n",
       "  <tbody>\n",
       "    <tr>\n",
       "      <th>0</th>\n",
       "      <td>-1</td>\n",
       "      <td>193</td>\n",
       "      <td>-1_look_point_real_myself</td>\n",
       "      <td>[look, point, real, myself, place, different, ...</td>\n",
       "      <td>[normal normal eye close look person real clos...</td>\n",
       "    </tr>\n",
       "    <tr>\n",
       "      <th>1</th>\n",
       "      <td>0</td>\n",
       "      <td>96</td>\n",
       "      <td>0_myself_body_reality_virtual</td>\n",
       "      <td>[myself, body, reality, virtual, different, fe...</td>\n",
       "      <td>[need example forget room change forest image ...</td>\n",
       "    </tr>\n",
       "    <tr>\n",
       "      <th>2</th>\n",
       "      <td>1</td>\n",
       "      <td>47</td>\n",
       "      <td>1_focus_leg_eye_distract</td>\n",
       "      <td>[focus, leg, eye, distract, easy, concentrate,...</td>\n",
       "      <td>[focus myself focus instruction eye closed hea...</td>\n",
       "    </tr>\n",
       "    <tr>\n",
       "      <th>3</th>\n",
       "      <td>2</td>\n",
       "      <td>35</td>\n",
       "      <td>2_body_heavy_light_come</td>\n",
       "      <td>[body, heavy, light, come, half, phrase, outsi...</td>\n",
       "      <td>[body, body, body]</td>\n",
       "    </tr>\n",
       "    <tr>\n",
       "      <th>4</th>\n",
       "      <td>3</td>\n",
       "      <td>26</td>\n",
       "      <td>3_calm_relax_relief_stress</td>\n",
       "      <td>[calm, relax, relief, stress, relaxed, sit, ge...</td>\n",
       "      <td>[calm, calm calm, relax relax open release str...</td>\n",
       "    </tr>\n",
       "    <tr>\n",
       "      <th>5</th>\n",
       "      <td>4</td>\n",
       "      <td>25</td>\n",
       "      <td>4_easy_absolutely_nice_good</td>\n",
       "      <td>[easy, absolutely, nice, good, fine, pretty, d...</td>\n",
       "      <td>[easy, absolutely fine, easy nice]</td>\n",
       "    </tr>\n",
       "    <tr>\n",
       "      <th>6</th>\n",
       "      <td>5</td>\n",
       "      <td>23</td>\n",
       "      <td>5_touch_delay_scene_image</td>\n",
       "      <td>[touch, delay, scene, image, body, catch, touc...</td>\n",
       "      <td>[touch image touch touch difference touch imag...</td>\n",
       "    </tr>\n",
       "    <tr>\n",
       "      <th>7</th>\n",
       "      <td>6</td>\n",
       "      <td>23</td>\n",
       "      <td>6_forest_rock_tree_adventure</td>\n",
       "      <td>[forest, rock, tree, adventure, indonesia, riv...</td>\n",
       "      <td>[nice forest love forest good surprise calm re...</td>\n",
       "    </tr>\n",
       "    <tr>\n",
       "      <th>8</th>\n",
       "      <td>7</td>\n",
       "      <td>22</td>\n",
       "      <td>7_eye_open_close_condition</td>\n",
       "      <td>[eye, open, close, condition, 30, view, easy, ...</td>\n",
       "      <td>[eye close, close close normally close eye ope...</td>\n",
       "    </tr>\n",
       "    <tr>\n",
       "      <th>9</th>\n",
       "      <td>8</td>\n",
       "      <td>17</td>\n",
       "      <td>8_voice_platform_rock_space</td>\n",
       "      <td>[voice, platform, rock, space, cool, nice, hea...</td>\n",
       "      <td>[platform rock, voice rock rock touch, space r...</td>\n",
       "    </tr>\n",
       "    <tr>\n",
       "      <th>10</th>\n",
       "      <td>9</td>\n",
       "      <td>16</td>\n",
       "      <td>9_want_follow_fell_resistance</td>\n",
       "      <td>[want, follow, fell, resistance, complicated, ...</td>\n",
       "      <td>[want fell complicated, want want, want]</td>\n",
       "    </tr>\n",
       "    <tr>\n",
       "      <th>11</th>\n",
       "      <td>10</td>\n",
       "      <td>15</td>\n",
       "      <td>10_strange_weird_funny_creepy</td>\n",
       "      <td>[strange, weird, funny, creepy, accept, record...</td>\n",
       "      <td>[strange accept strange, strange, strange]</td>\n",
       "    </tr>\n",
       "    <tr>\n",
       "      <th>12</th>\n",
       "      <td>11</td>\n",
       "      <td>15</td>\n",
       "      <td>11_color_yellow_change_shirt</td>\n",
       "      <td>[color, yellow, change, shirt, signal, wear, c...</td>\n",
       "      <td>[yellow color blue color, notice change color,...</td>\n",
       "    </tr>\n",
       "    <tr>\n",
       "      <th>13</th>\n",
       "      <td>12</td>\n",
       "      <td>14</td>\n",
       "      <td>12_myself_recognize_avatar_synchronize</td>\n",
       "      <td>[myself, recognize, avatar, synchronize, swict...</td>\n",
       "      <td>[recognize myself work, notice look eye close ...</td>\n",
       "    </tr>\n",
       "    <tr>\n",
       "      <th>14</th>\n",
       "      <td>13</td>\n",
       "      <td>14</td>\n",
       "      <td>13_notice_change_small_damn</td>\n",
       "      <td>[notice, change, small, damn, pay, slightly, i...</td>\n",
       "      <td>[notice notice thought disappear remember noti...</td>\n",
       "    </tr>\n",
       "    <tr>\n",
       "      <th>15</th>\n",
       "      <td>14</td>\n",
       "      <td>13</td>\n",
       "      <td>14_fall_sleep_asleep_sleepy</td>\n",
       "      <td>[fall, sleep, asleep, sleepy, relax, afraid, w...</td>\n",
       "      <td>[new expect peace relax alert want fall asleep...</td>\n",
       "    </tr>\n",
       "    <tr>\n",
       "      <th>16</th>\n",
       "      <td>15</td>\n",
       "      <td>12</td>\n",
       "      <td>15_strange_scary_feeling_discomfort</td>\n",
       "      <td>[strange, scary, feeling, discomfort, fully, l...</td>\n",
       "      <td>[strange body different separate lot word feel...</td>\n",
       "    </tr>\n",
       "    <tr>\n",
       "      <th>17</th>\n",
       "      <td>16</td>\n",
       "      <td>12</td>\n",
       "      <td>16_100_10_80_75</td>\n",
       "      <td>[100, 10, 80, 75, total, somewhat, percentage,...</td>\n",
       "      <td>[help 100 term percentage 75, 100, 100]</td>\n",
       "    </tr>\n",
       "    <tr>\n",
       "      <th>18</th>\n",
       "      <td>17</td>\n",
       "      <td>11</td>\n",
       "      <td>17_interesting_publish_probable_knock</td>\n",
       "      <td>[interesting, publish, probable, knock, correc...</td>\n",
       "      <td>[interesting, interesting, interesting]</td>\n",
       "    </tr>\n",
       "    <tr>\n",
       "      <th>19</th>\n",
       "      <td>18</td>\n",
       "      <td>11</td>\n",
       "      <td>18_happy_long_day_mental</td>\n",
       "      <td>[happy, long, day, mental, hour, break, good, ...</td>\n",
       "      <td>[happy come happy, long day, happy repeat happ...</td>\n",
       "    </tr>\n",
       "    <tr>\n",
       "      <th>20</th>\n",
       "      <td>19</td>\n",
       "      <td>10</td>\n",
       "      <td>19_pixel_image_pixelized_wonder</td>\n",
       "      <td>[pixel, image, pixelized, wonder, clear, blurr...</td>\n",
       "      <td>[focus feeling notice youtube pixel strange no...</td>\n",
       "    </tr>\n",
       "    <tr>\n",
       "      <th>21</th>\n",
       "      <td>20</td>\n",
       "      <td>9</td>\n",
       "      <td>20_quickly_happen_drop_dealaye</td>\n",
       "      <td>[quickly, happen, drop, dealaye, constantly, m...</td>\n",
       "      <td>[dealaye future past record happen month, let ...</td>\n",
       "    </tr>\n",
       "    <tr>\n",
       "      <th>22</th>\n",
       "      <td>21</td>\n",
       "      <td>9</td>\n",
       "      <td>21_difference_different_familiar_angle</td>\n",
       "      <td>[difference, different, familiar, angle, direc...</td>\n",
       "      <td>[familiar repeat difference, difference, diffe...</td>\n",
       "    </tr>\n",
       "  </tbody>\n",
       "</table>\n",
       "</div>"
      ],
      "text/plain": [
       "    Topic  Count                                    Name  \\\n",
       "0      -1    193               -1_look_point_real_myself   \n",
       "1       0     96           0_myself_body_reality_virtual   \n",
       "2       1     47                1_focus_leg_eye_distract   \n",
       "3       2     35                 2_body_heavy_light_come   \n",
       "4       3     26              3_calm_relax_relief_stress   \n",
       "5       4     25             4_easy_absolutely_nice_good   \n",
       "6       5     23               5_touch_delay_scene_image   \n",
       "7       6     23            6_forest_rock_tree_adventure   \n",
       "8       7     22              7_eye_open_close_condition   \n",
       "9       8     17             8_voice_platform_rock_space   \n",
       "10      9     16           9_want_follow_fell_resistance   \n",
       "11     10     15           10_strange_weird_funny_creepy   \n",
       "12     11     15            11_color_yellow_change_shirt   \n",
       "13     12     14  12_myself_recognize_avatar_synchronize   \n",
       "14     13     14             13_notice_change_small_damn   \n",
       "15     14     13             14_fall_sleep_asleep_sleepy   \n",
       "16     15     12     15_strange_scary_feeling_discomfort   \n",
       "17     16     12                         16_100_10_80_75   \n",
       "18     17     11   17_interesting_publish_probable_knock   \n",
       "19     18     11                18_happy_long_day_mental   \n",
       "20     19     10         19_pixel_image_pixelized_wonder   \n",
       "21     20      9          20_quickly_happen_drop_dealaye   \n",
       "22     21      9  21_difference_different_familiar_angle   \n",
       "\n",
       "                                       Representation  \\\n",
       "0   [look, point, real, myself, place, different, ...   \n",
       "1   [myself, body, reality, virtual, different, fe...   \n",
       "2   [focus, leg, eye, distract, easy, concentrate,...   \n",
       "3   [body, heavy, light, come, half, phrase, outsi...   \n",
       "4   [calm, relax, relief, stress, relaxed, sit, ge...   \n",
       "5   [easy, absolutely, nice, good, fine, pretty, d...   \n",
       "6   [touch, delay, scene, image, body, catch, touc...   \n",
       "7   [forest, rock, tree, adventure, indonesia, riv...   \n",
       "8   [eye, open, close, condition, 30, view, easy, ...   \n",
       "9   [voice, platform, rock, space, cool, nice, hea...   \n",
       "10  [want, follow, fell, resistance, complicated, ...   \n",
       "11  [strange, weird, funny, creepy, accept, record...   \n",
       "12  [color, yellow, change, shirt, signal, wear, c...   \n",
       "13  [myself, recognize, avatar, synchronize, swict...   \n",
       "14  [notice, change, small, damn, pay, slightly, i...   \n",
       "15  [fall, sleep, asleep, sleepy, relax, afraid, w...   \n",
       "16  [strange, scary, feeling, discomfort, fully, l...   \n",
       "17  [100, 10, 80, 75, total, somewhat, percentage,...   \n",
       "18  [interesting, publish, probable, knock, correc...   \n",
       "19  [happy, long, day, mental, hour, break, good, ...   \n",
       "20  [pixel, image, pixelized, wonder, clear, blurr...   \n",
       "21  [quickly, happen, drop, dealaye, constantly, m...   \n",
       "22  [difference, different, familiar, angle, direc...   \n",
       "\n",
       "                                  Representative_Docs  \n",
       "0   [normal normal eye close look person real clos...  \n",
       "1   [need example forget room change forest image ...  \n",
       "2   [focus myself focus instruction eye closed hea...  \n",
       "3                                  [body, body, body]  \n",
       "4   [calm, calm calm, relax relax open release str...  \n",
       "5                  [easy, absolutely fine, easy nice]  \n",
       "6   [touch image touch touch difference touch imag...  \n",
       "7   [nice forest love forest good surprise calm re...  \n",
       "8   [eye close, close close normally close eye ope...  \n",
       "9   [platform rock, voice rock rock touch, space r...  \n",
       "10           [want fell complicated, want want, want]  \n",
       "11         [strange accept strange, strange, strange]  \n",
       "12  [yellow color blue color, notice change color,...  \n",
       "13  [recognize myself work, notice look eye close ...  \n",
       "14  [notice notice thought disappear remember noti...  \n",
       "15  [new expect peace relax alert want fall asleep...  \n",
       "16  [strange body different separate lot word feel...  \n",
       "17            [help 100 term percentage 75, 100, 100]  \n",
       "18            [interesting, interesting, interesting]  \n",
       "19  [happy come happy, long day, happy repeat happ...  \n",
       "20  [focus feeling notice youtube pixel strange no...  \n",
       "21  [dealaye future past record happen month, let ...  \n",
       "22  [familiar repeat difference, difference, diffe...  "
      ]
     },
     "execution_count": 207,
     "metadata": {},
     "output_type": "execute_result"
    }
   ],
   "source": [
    "topic_model.get_topic_info().to_csv(\"topic_model.csv\")\n",
    "topic_model.get_topic_info()"
   ]
  },
  {
   "cell_type": "code",
   "execution_count": 208,
   "metadata": {},
   "outputs": [
    {
     "data": {
      "application/vnd.plotly.v1+json": {
       "config": {
        "plotlyServerURL": "https://plot.ly"
       },
       "data": [
        {
         "marker": {
          "color": "#D55E00"
         },
         "orientation": "h",
         "type": "bar",
         "x": [
          0.02241462687892606,
          0.023224349004484782,
          0.026883857059984292,
          0.034016214871794355,
          0.035034543303623565
         ],
         "xaxis": "x",
         "y": [
          "different  ",
          "virtual  ",
          "reality  ",
          "body  ",
          "myself  "
         ],
         "yaxis": "y"
        },
        {
         "marker": {
          "color": "#0072B2"
         },
         "orientation": "h",
         "type": "bar",
         "x": [
          0.04088590266367141,
          0.04371108946549861,
          0.04637636392217166,
          0.05656516025009312,
          0.08904176911699524
         ],
         "xaxis": "x2",
         "y": [
          "easy  ",
          "distract  ",
          "eye  ",
          "leg  ",
          "focus  "
         ],
         "yaxis": "y2"
        },
        {
         "marker": {
          "color": "#CC79A7"
         },
         "orientation": "h",
         "type": "bar",
         "x": [
          0.07929042228138271,
          0.09017243031625521,
          0.1334685842310541,
          0.16047970013073626,
          0.23338657554245398
         ],
         "xaxis": "x3",
         "y": [
          "half  ",
          "come  ",
          "light  ",
          "heavy  ",
          "body  "
         ],
         "yaxis": "y3"
        },
        {
         "marker": {
          "color": "#E69F00"
         },
         "orientation": "h",
         "type": "bar",
         "x": [
          0.17272405018136414,
          0.17989135781937,
          0.19239587759453158,
          0.2056059052965017,
          0.2518241572885521
         ],
         "xaxis": "x4",
         "y": [
          "relaxed  ",
          "stress  ",
          "relief  ",
          "relax  ",
          "calm  "
         ],
         "yaxis": "y4"
        },
        {
         "marker": {
          "color": "#56B4E9"
         },
         "orientation": "h",
         "type": "bar",
         "x": [
          0.18758582851770778,
          0.19183756366787177,
          0.29709633322302864,
          0.3091997619692869,
          0.3270872213093713
         ],
         "xaxis": "x5",
         "y": [
          "fine  ",
          "good  ",
          "nice  ",
          "absolutely  ",
          "easy  "
         ],
         "yaxis": "y5"
        },
        {
         "marker": {
          "color": "#009E73"
         },
         "orientation": "h",
         "type": "bar",
         "x": [
          0.06727600448026715,
          0.07233670234649286,
          0.07399761112709574,
          0.11628196034257901,
          0.24482558053544687
         ],
         "xaxis": "x6",
         "y": [
          "body  ",
          "image  ",
          "scene  ",
          "delay  ",
          "touch  "
         ],
         "yaxis": "y6"
        },
        {
         "marker": {
          "color": "#F0E442"
         },
         "orientation": "h",
         "type": "bar",
         "x": [
          0.07871361875698771,
          0.07871361875698771,
          0.07900047850816465,
          0.1023195428278406,
          0.29268411980855885
         ],
         "xaxis": "x7",
         "y": [
          "indonesia  ",
          "adventure  ",
          "tree  ",
          "rock  ",
          "forest  "
         ],
         "yaxis": "y7"
        },
        {
         "marker": {
          "color": "#D55E00"
         },
         "orientation": "h",
         "type": "bar",
         "x": [
          0.08960903887964483,
          0.10083592340940875,
          0.20014217510275256,
          0.21967467407800872,
          0.2722367140065062
         ],
         "xaxis": "x8",
         "y": [
          "30  ",
          "condition  ",
          "close  ",
          "open  ",
          "eye  "
         ],
         "yaxis": "y8"
        },
        {
         "marker": {
          "color": "#0072B2"
         },
         "orientation": "h",
         "type": "bar",
         "x": [
          0.11836895872549454,
          0.12447168479680745,
          0.14976610502623441,
          0.15907608174940818,
          0.21218460967468403
         ],
         "xaxis": "x9",
         "y": [
          "cool  ",
          "space  ",
          "rock  ",
          "platform  ",
          "voice  "
         ],
         "yaxis": "y9"
        },
        {
         "marker": {
          "color": "#CC79A7"
         },
         "orientation": "h",
         "type": "bar",
         "x": [
          0.20965532513714233,
          0.20965532513714233,
          0.20965532513714233,
          0.2822644400377178,
          0.4282086881476175
         ],
         "xaxis": "x10",
         "y": [
          "complicated  ",
          "resistance  ",
          "fell  ",
          "follow  ",
          "want  "
         ],
         "yaxis": "y10"
        },
        {
         "marker": {
          "color": "#E69F00"
         },
         "orientation": "h",
         "type": "bar",
         "x": [
          0.17583995011502257,
          0.17583995011502257,
          0.2630669318648851,
          0.2722855742382696,
          0.43773871687904453
         ],
         "xaxis": "x11",
         "y": [
          "accept  ",
          "creepy  ",
          "funny  ",
          "weird  ",
          "strange  "
         ],
         "yaxis": "y11"
        },
        {
         "marker": {
          "color": "#56B4E9"
         },
         "orientation": "h",
         "type": "bar",
         "x": [
          0.0981891532947991,
          0.0981891532947991,
          0.12270887424480091,
          0.1681458739754936,
          0.44404995708532313
         ],
         "xaxis": "x12",
         "y": [
          "signal  ",
          "shirt  ",
          "change  ",
          "yellow  ",
          "color  "
         ],
         "yaxis": "y12"
        },
        {
         "marker": {
          "color": "#009E73"
         },
         "orientation": "h",
         "type": "bar",
         "x": [
          0.12978662984680236,
          0.18374391565243003,
          0.1957742874232286,
          0.2267701873713217,
          0.24482472522889323
         ],
         "xaxis": "x13",
         "y": [
          "swicthe  ",
          "synchronize  ",
          "avatar  ",
          "recognize  ",
          "myself  "
         ],
         "yaxis": "y13"
        },
        {
         "marker": {
          "color": "#F0E442"
         },
         "orientation": "h",
         "type": "bar",
         "x": [
          0.15447495259001032,
          0.24421404793834647,
          0.31365672645428616,
          0.3560654940693155,
          0.3806299450201044
         ],
         "xaxis": "x14",
         "y": [
          "pay  ",
          "damn  ",
          "small  ",
          "change  ",
          "notice  "
         ],
         "yaxis": "y14"
        },
        {
         "marker": {
          "color": "#D55E00"
         },
         "orientation": "h",
         "type": "bar",
         "x": [
          0.13707060353100112,
          0.17989135781937,
          0.311519417900841,
          0.3280068887079189,
          0.3384265660747213
         ],
         "xaxis": "x15",
         "y": [
          "relax  ",
          "sleepy  ",
          "asleep  ",
          "sleep  ",
          "fall  "
         ],
         "yaxis": "y15"
        },
        {
         "marker": {
          "color": "#0072B2"
         },
         "orientation": "h",
         "type": "bar",
         "x": [
          0.0898523383924105,
          0.0898523383924105,
          0.09609795393847805,
          0.10416541144651188,
          0.14630620186792864
         ],
         "xaxis": "x16",
         "y": [
          "fully  ",
          "discomfort  ",
          "feeling  ",
          "scary  ",
          "strange  "
         ],
         "yaxis": "y16"
        }
       ],
       "layout": {
        "annotations": [
         {
          "font": {
           "size": 16
          },
          "showarrow": false,
          "text": "Topic 0",
          "x": 0.0875,
          "xanchor": "center",
          "xref": "paper",
          "y": 1,
          "yanchor": "bottom",
          "yref": "paper"
         },
         {
          "font": {
           "size": 16
          },
          "showarrow": false,
          "text": "Topic 1",
          "x": 0.36250000000000004,
          "xanchor": "center",
          "xref": "paper",
          "y": 1,
          "yanchor": "bottom",
          "yref": "paper"
         },
         {
          "font": {
           "size": 16
          },
          "showarrow": false,
          "text": "Topic 2",
          "x": 0.6375000000000001,
          "xanchor": "center",
          "xref": "paper",
          "y": 1,
          "yanchor": "bottom",
          "yref": "paper"
         },
         {
          "font": {
           "size": 16
          },
          "showarrow": false,
          "text": "Topic 3",
          "x": 0.9125,
          "xanchor": "center",
          "xref": "paper",
          "y": 1,
          "yanchor": "bottom",
          "yref": "paper"
         },
         {
          "font": {
           "size": 16
          },
          "showarrow": false,
          "text": "Topic 4",
          "x": 0.0875,
          "xanchor": "center",
          "xref": "paper",
          "y": 0.7250000000000001,
          "yanchor": "bottom",
          "yref": "paper"
         },
         {
          "font": {
           "size": 16
          },
          "showarrow": false,
          "text": "Topic 5",
          "x": 0.36250000000000004,
          "xanchor": "center",
          "xref": "paper",
          "y": 0.7250000000000001,
          "yanchor": "bottom",
          "yref": "paper"
         },
         {
          "font": {
           "size": 16
          },
          "showarrow": false,
          "text": "Topic 6",
          "x": 0.6375000000000001,
          "xanchor": "center",
          "xref": "paper",
          "y": 0.7250000000000001,
          "yanchor": "bottom",
          "yref": "paper"
         },
         {
          "font": {
           "size": 16
          },
          "showarrow": false,
          "text": "Topic 7",
          "x": 0.9125,
          "xanchor": "center",
          "xref": "paper",
          "y": 0.7250000000000001,
          "yanchor": "bottom",
          "yref": "paper"
         },
         {
          "font": {
           "size": 16
          },
          "showarrow": false,
          "text": "Topic 8",
          "x": 0.0875,
          "xanchor": "center",
          "xref": "paper",
          "y": 0.45,
          "yanchor": "bottom",
          "yref": "paper"
         },
         {
          "font": {
           "size": 16
          },
          "showarrow": false,
          "text": "Topic 9",
          "x": 0.36250000000000004,
          "xanchor": "center",
          "xref": "paper",
          "y": 0.45,
          "yanchor": "bottom",
          "yref": "paper"
         },
         {
          "font": {
           "size": 16
          },
          "showarrow": false,
          "text": "Topic 10",
          "x": 0.6375000000000001,
          "xanchor": "center",
          "xref": "paper",
          "y": 0.45,
          "yanchor": "bottom",
          "yref": "paper"
         },
         {
          "font": {
           "size": 16
          },
          "showarrow": false,
          "text": "Topic 11",
          "x": 0.9125,
          "xanchor": "center",
          "xref": "paper",
          "y": 0.45,
          "yanchor": "bottom",
          "yref": "paper"
         },
         {
          "font": {
           "size": 16
          },
          "showarrow": false,
          "text": "Topic 12",
          "x": 0.0875,
          "xanchor": "center",
          "xref": "paper",
          "y": 0.175,
          "yanchor": "bottom",
          "yref": "paper"
         },
         {
          "font": {
           "size": 16
          },
          "showarrow": false,
          "text": "Topic 13",
          "x": 0.36250000000000004,
          "xanchor": "center",
          "xref": "paper",
          "y": 0.175,
          "yanchor": "bottom",
          "yref": "paper"
         },
         {
          "font": {
           "size": 16
          },
          "showarrow": false,
          "text": "Topic 14",
          "x": 0.6375000000000001,
          "xanchor": "center",
          "xref": "paper",
          "y": 0.175,
          "yanchor": "bottom",
          "yref": "paper"
         },
         {
          "font": {
           "size": 16
          },
          "showarrow": false,
          "text": "Topic 15",
          "x": 0.9125,
          "xanchor": "center",
          "xref": "paper",
          "y": 0.175,
          "yanchor": "bottom",
          "yref": "paper"
         }
        ],
        "height": 1000,
        "hoverlabel": {
         "bgcolor": "white",
         "font": {
          "family": "Rockwell",
          "size": 16
         }
        },
        "showlegend": false,
        "template": {
         "data": {
          "bar": [
           {
            "error_x": {
             "color": "#2a3f5f"
            },
            "error_y": {
             "color": "#2a3f5f"
            },
            "marker": {
             "line": {
              "color": "white",
              "width": 0.5
             },
             "pattern": {
              "fillmode": "overlay",
              "size": 10,
              "solidity": 0.2
             }
            },
            "type": "bar"
           }
          ],
          "barpolar": [
           {
            "marker": {
             "line": {
              "color": "white",
              "width": 0.5
             },
             "pattern": {
              "fillmode": "overlay",
              "size": 10,
              "solidity": 0.2
             }
            },
            "type": "barpolar"
           }
          ],
          "carpet": [
           {
            "aaxis": {
             "endlinecolor": "#2a3f5f",
             "gridcolor": "#C8D4E3",
             "linecolor": "#C8D4E3",
             "minorgridcolor": "#C8D4E3",
             "startlinecolor": "#2a3f5f"
            },
            "baxis": {
             "endlinecolor": "#2a3f5f",
             "gridcolor": "#C8D4E3",
             "linecolor": "#C8D4E3",
             "minorgridcolor": "#C8D4E3",
             "startlinecolor": "#2a3f5f"
            },
            "type": "carpet"
           }
          ],
          "choropleth": [
           {
            "colorbar": {
             "outlinewidth": 0,
             "ticks": ""
            },
            "type": "choropleth"
           }
          ],
          "contour": [
           {
            "colorbar": {
             "outlinewidth": 0,
             "ticks": ""
            },
            "colorscale": [
             [
              0,
              "#0d0887"
             ],
             [
              0.1111111111111111,
              "#46039f"
             ],
             [
              0.2222222222222222,
              "#7201a8"
             ],
             [
              0.3333333333333333,
              "#9c179e"
             ],
             [
              0.4444444444444444,
              "#bd3786"
             ],
             [
              0.5555555555555556,
              "#d8576b"
             ],
             [
              0.6666666666666666,
              "#ed7953"
             ],
             [
              0.7777777777777778,
              "#fb9f3a"
             ],
             [
              0.8888888888888888,
              "#fdca26"
             ],
             [
              1,
              "#f0f921"
             ]
            ],
            "type": "contour"
           }
          ],
          "contourcarpet": [
           {
            "colorbar": {
             "outlinewidth": 0,
             "ticks": ""
            },
            "type": "contourcarpet"
           }
          ],
          "heatmap": [
           {
            "colorbar": {
             "outlinewidth": 0,
             "ticks": ""
            },
            "colorscale": [
             [
              0,
              "#0d0887"
             ],
             [
              0.1111111111111111,
              "#46039f"
             ],
             [
              0.2222222222222222,
              "#7201a8"
             ],
             [
              0.3333333333333333,
              "#9c179e"
             ],
             [
              0.4444444444444444,
              "#bd3786"
             ],
             [
              0.5555555555555556,
              "#d8576b"
             ],
             [
              0.6666666666666666,
              "#ed7953"
             ],
             [
              0.7777777777777778,
              "#fb9f3a"
             ],
             [
              0.8888888888888888,
              "#fdca26"
             ],
             [
              1,
              "#f0f921"
             ]
            ],
            "type": "heatmap"
           }
          ],
          "heatmapgl": [
           {
            "colorbar": {
             "outlinewidth": 0,
             "ticks": ""
            },
            "colorscale": [
             [
              0,
              "#0d0887"
             ],
             [
              0.1111111111111111,
              "#46039f"
             ],
             [
              0.2222222222222222,
              "#7201a8"
             ],
             [
              0.3333333333333333,
              "#9c179e"
             ],
             [
              0.4444444444444444,
              "#bd3786"
             ],
             [
              0.5555555555555556,
              "#d8576b"
             ],
             [
              0.6666666666666666,
              "#ed7953"
             ],
             [
              0.7777777777777778,
              "#fb9f3a"
             ],
             [
              0.8888888888888888,
              "#fdca26"
             ],
             [
              1,
              "#f0f921"
             ]
            ],
            "type": "heatmapgl"
           }
          ],
          "histogram": [
           {
            "marker": {
             "pattern": {
              "fillmode": "overlay",
              "size": 10,
              "solidity": 0.2
             }
            },
            "type": "histogram"
           }
          ],
          "histogram2d": [
           {
            "colorbar": {
             "outlinewidth": 0,
             "ticks": ""
            },
            "colorscale": [
             [
              0,
              "#0d0887"
             ],
             [
              0.1111111111111111,
              "#46039f"
             ],
             [
              0.2222222222222222,
              "#7201a8"
             ],
             [
              0.3333333333333333,
              "#9c179e"
             ],
             [
              0.4444444444444444,
              "#bd3786"
             ],
             [
              0.5555555555555556,
              "#d8576b"
             ],
             [
              0.6666666666666666,
              "#ed7953"
             ],
             [
              0.7777777777777778,
              "#fb9f3a"
             ],
             [
              0.8888888888888888,
              "#fdca26"
             ],
             [
              1,
              "#f0f921"
             ]
            ],
            "type": "histogram2d"
           }
          ],
          "histogram2dcontour": [
           {
            "colorbar": {
             "outlinewidth": 0,
             "ticks": ""
            },
            "colorscale": [
             [
              0,
              "#0d0887"
             ],
             [
              0.1111111111111111,
              "#46039f"
             ],
             [
              0.2222222222222222,
              "#7201a8"
             ],
             [
              0.3333333333333333,
              "#9c179e"
             ],
             [
              0.4444444444444444,
              "#bd3786"
             ],
             [
              0.5555555555555556,
              "#d8576b"
             ],
             [
              0.6666666666666666,
              "#ed7953"
             ],
             [
              0.7777777777777778,
              "#fb9f3a"
             ],
             [
              0.8888888888888888,
              "#fdca26"
             ],
             [
              1,
              "#f0f921"
             ]
            ],
            "type": "histogram2dcontour"
           }
          ],
          "mesh3d": [
           {
            "colorbar": {
             "outlinewidth": 0,
             "ticks": ""
            },
            "type": "mesh3d"
           }
          ],
          "parcoords": [
           {
            "line": {
             "colorbar": {
              "outlinewidth": 0,
              "ticks": ""
             }
            },
            "type": "parcoords"
           }
          ],
          "pie": [
           {
            "automargin": true,
            "type": "pie"
           }
          ],
          "scatter": [
           {
            "fillpattern": {
             "fillmode": "overlay",
             "size": 10,
             "solidity": 0.2
            },
            "type": "scatter"
           }
          ],
          "scatter3d": [
           {
            "line": {
             "colorbar": {
              "outlinewidth": 0,
              "ticks": ""
             }
            },
            "marker": {
             "colorbar": {
              "outlinewidth": 0,
              "ticks": ""
             }
            },
            "type": "scatter3d"
           }
          ],
          "scattercarpet": [
           {
            "marker": {
             "colorbar": {
              "outlinewidth": 0,
              "ticks": ""
             }
            },
            "type": "scattercarpet"
           }
          ],
          "scattergeo": [
           {
            "marker": {
             "colorbar": {
              "outlinewidth": 0,
              "ticks": ""
             }
            },
            "type": "scattergeo"
           }
          ],
          "scattergl": [
           {
            "marker": {
             "colorbar": {
              "outlinewidth": 0,
              "ticks": ""
             }
            },
            "type": "scattergl"
           }
          ],
          "scattermapbox": [
           {
            "marker": {
             "colorbar": {
              "outlinewidth": 0,
              "ticks": ""
             }
            },
            "type": "scattermapbox"
           }
          ],
          "scatterpolar": [
           {
            "marker": {
             "colorbar": {
              "outlinewidth": 0,
              "ticks": ""
             }
            },
            "type": "scatterpolar"
           }
          ],
          "scatterpolargl": [
           {
            "marker": {
             "colorbar": {
              "outlinewidth": 0,
              "ticks": ""
             }
            },
            "type": "scatterpolargl"
           }
          ],
          "scatterternary": [
           {
            "marker": {
             "colorbar": {
              "outlinewidth": 0,
              "ticks": ""
             }
            },
            "type": "scatterternary"
           }
          ],
          "surface": [
           {
            "colorbar": {
             "outlinewidth": 0,
             "ticks": ""
            },
            "colorscale": [
             [
              0,
              "#0d0887"
             ],
             [
              0.1111111111111111,
              "#46039f"
             ],
             [
              0.2222222222222222,
              "#7201a8"
             ],
             [
              0.3333333333333333,
              "#9c179e"
             ],
             [
              0.4444444444444444,
              "#bd3786"
             ],
             [
              0.5555555555555556,
              "#d8576b"
             ],
             [
              0.6666666666666666,
              "#ed7953"
             ],
             [
              0.7777777777777778,
              "#fb9f3a"
             ],
             [
              0.8888888888888888,
              "#fdca26"
             ],
             [
              1,
              "#f0f921"
             ]
            ],
            "type": "surface"
           }
          ],
          "table": [
           {
            "cells": {
             "fill": {
              "color": "#EBF0F8"
             },
             "line": {
              "color": "white"
             }
            },
            "header": {
             "fill": {
              "color": "#C8D4E3"
             },
             "line": {
              "color": "white"
             }
            },
            "type": "table"
           }
          ]
         },
         "layout": {
          "annotationdefaults": {
           "arrowcolor": "#2a3f5f",
           "arrowhead": 0,
           "arrowwidth": 1
          },
          "autotypenumbers": "strict",
          "coloraxis": {
           "colorbar": {
            "outlinewidth": 0,
            "ticks": ""
           }
          },
          "colorscale": {
           "diverging": [
            [
             0,
             "#8e0152"
            ],
            [
             0.1,
             "#c51b7d"
            ],
            [
             0.2,
             "#de77ae"
            ],
            [
             0.3,
             "#f1b6da"
            ],
            [
             0.4,
             "#fde0ef"
            ],
            [
             0.5,
             "#f7f7f7"
            ],
            [
             0.6,
             "#e6f5d0"
            ],
            [
             0.7,
             "#b8e186"
            ],
            [
             0.8,
             "#7fbc41"
            ],
            [
             0.9,
             "#4d9221"
            ],
            [
             1,
             "#276419"
            ]
           ],
           "sequential": [
            [
             0,
             "#0d0887"
            ],
            [
             0.1111111111111111,
             "#46039f"
            ],
            [
             0.2222222222222222,
             "#7201a8"
            ],
            [
             0.3333333333333333,
             "#9c179e"
            ],
            [
             0.4444444444444444,
             "#bd3786"
            ],
            [
             0.5555555555555556,
             "#d8576b"
            ],
            [
             0.6666666666666666,
             "#ed7953"
            ],
            [
             0.7777777777777778,
             "#fb9f3a"
            ],
            [
             0.8888888888888888,
             "#fdca26"
            ],
            [
             1,
             "#f0f921"
            ]
           ],
           "sequentialminus": [
            [
             0,
             "#0d0887"
            ],
            [
             0.1111111111111111,
             "#46039f"
            ],
            [
             0.2222222222222222,
             "#7201a8"
            ],
            [
             0.3333333333333333,
             "#9c179e"
            ],
            [
             0.4444444444444444,
             "#bd3786"
            ],
            [
             0.5555555555555556,
             "#d8576b"
            ],
            [
             0.6666666666666666,
             "#ed7953"
            ],
            [
             0.7777777777777778,
             "#fb9f3a"
            ],
            [
             0.8888888888888888,
             "#fdca26"
            ],
            [
             1,
             "#f0f921"
            ]
           ]
          },
          "colorway": [
           "#636efa",
           "#EF553B",
           "#00cc96",
           "#ab63fa",
           "#FFA15A",
           "#19d3f3",
           "#FF6692",
           "#B6E880",
           "#FF97FF",
           "#FECB52"
          ],
          "font": {
           "color": "#2a3f5f"
          },
          "geo": {
           "bgcolor": "white",
           "lakecolor": "white",
           "landcolor": "white",
           "showlakes": true,
           "showland": true,
           "subunitcolor": "#C8D4E3"
          },
          "hoverlabel": {
           "align": "left"
          },
          "hovermode": "closest",
          "mapbox": {
           "style": "light"
          },
          "paper_bgcolor": "white",
          "plot_bgcolor": "white",
          "polar": {
           "angularaxis": {
            "gridcolor": "#EBF0F8",
            "linecolor": "#EBF0F8",
            "ticks": ""
           },
           "bgcolor": "white",
           "radialaxis": {
            "gridcolor": "#EBF0F8",
            "linecolor": "#EBF0F8",
            "ticks": ""
           }
          },
          "scene": {
           "xaxis": {
            "backgroundcolor": "white",
            "gridcolor": "#DFE8F3",
            "gridwidth": 2,
            "linecolor": "#EBF0F8",
            "showbackground": true,
            "ticks": "",
            "zerolinecolor": "#EBF0F8"
           },
           "yaxis": {
            "backgroundcolor": "white",
            "gridcolor": "#DFE8F3",
            "gridwidth": 2,
            "linecolor": "#EBF0F8",
            "showbackground": true,
            "ticks": "",
            "zerolinecolor": "#EBF0F8"
           },
           "zaxis": {
            "backgroundcolor": "white",
            "gridcolor": "#DFE8F3",
            "gridwidth": 2,
            "linecolor": "#EBF0F8",
            "showbackground": true,
            "ticks": "",
            "zerolinecolor": "#EBF0F8"
           }
          },
          "shapedefaults": {
           "line": {
            "color": "#2a3f5f"
           }
          },
          "ternary": {
           "aaxis": {
            "gridcolor": "#DFE8F3",
            "linecolor": "#A2B1C6",
            "ticks": ""
           },
           "baxis": {
            "gridcolor": "#DFE8F3",
            "linecolor": "#A2B1C6",
            "ticks": ""
           },
           "bgcolor": "white",
           "caxis": {
            "gridcolor": "#DFE8F3",
            "linecolor": "#A2B1C6",
            "ticks": ""
           }
          },
          "title": {
           "x": 0.05
          },
          "xaxis": {
           "automargin": true,
           "gridcolor": "#EBF0F8",
           "linecolor": "#EBF0F8",
           "ticks": "",
           "title": {
            "standoff": 15
           },
           "zerolinecolor": "#EBF0F8",
           "zerolinewidth": 2
          },
          "yaxis": {
           "automargin": true,
           "gridcolor": "#EBF0F8",
           "linecolor": "#EBF0F8",
           "ticks": "",
           "title": {
            "standoff": 15
           },
           "zerolinecolor": "#EBF0F8",
           "zerolinewidth": 2
          }
         }
        },
        "title": {
         "font": {
          "color": "Black",
          "size": 22
         },
         "text": "Topic Word Scores",
         "x": 0.5,
         "xanchor": "center",
         "yanchor": "top"
        },
        "width": 1000,
        "xaxis": {
         "anchor": "y",
         "domain": [
          0,
          0.175
         ],
         "showgrid": true
        },
        "xaxis10": {
         "anchor": "y10",
         "domain": [
          0.275,
          0.45
         ],
         "showgrid": true
        },
        "xaxis11": {
         "anchor": "y11",
         "domain": [
          0.55,
          0.7250000000000001
         ],
         "showgrid": true
        },
        "xaxis12": {
         "anchor": "y12",
         "domain": [
          0.825,
          1
         ],
         "showgrid": true
        },
        "xaxis13": {
         "anchor": "y13",
         "domain": [
          0,
          0.175
         ],
         "showgrid": true
        },
        "xaxis14": {
         "anchor": "y14",
         "domain": [
          0.275,
          0.45
         ],
         "showgrid": true
        },
        "xaxis15": {
         "anchor": "y15",
         "domain": [
          0.55,
          0.7250000000000001
         ],
         "showgrid": true
        },
        "xaxis16": {
         "anchor": "y16",
         "domain": [
          0.825,
          1
         ],
         "showgrid": true
        },
        "xaxis2": {
         "anchor": "y2",
         "domain": [
          0.275,
          0.45
         ],
         "showgrid": true
        },
        "xaxis3": {
         "anchor": "y3",
         "domain": [
          0.55,
          0.7250000000000001
         ],
         "showgrid": true
        },
        "xaxis4": {
         "anchor": "y4",
         "domain": [
          0.825,
          1
         ],
         "showgrid": true
        },
        "xaxis5": {
         "anchor": "y5",
         "domain": [
          0,
          0.175
         ],
         "showgrid": true
        },
        "xaxis6": {
         "anchor": "y6",
         "domain": [
          0.275,
          0.45
         ],
         "showgrid": true
        },
        "xaxis7": {
         "anchor": "y7",
         "domain": [
          0.55,
          0.7250000000000001
         ],
         "showgrid": true
        },
        "xaxis8": {
         "anchor": "y8",
         "domain": [
          0.825,
          1
         ],
         "showgrid": true
        },
        "xaxis9": {
         "anchor": "y9",
         "domain": [
          0,
          0.175
         ],
         "showgrid": true
        },
        "yaxis": {
         "anchor": "x",
         "domain": [
          0.825,
          1
         ],
         "showgrid": true
        },
        "yaxis10": {
         "anchor": "x10",
         "domain": [
          0.275,
          0.45
         ],
         "showgrid": true
        },
        "yaxis11": {
         "anchor": "x11",
         "domain": [
          0.275,
          0.45
         ],
         "showgrid": true
        },
        "yaxis12": {
         "anchor": "x12",
         "domain": [
          0.275,
          0.45
         ],
         "showgrid": true
        },
        "yaxis13": {
         "anchor": "x13",
         "domain": [
          0,
          0.175
         ],
         "showgrid": true
        },
        "yaxis14": {
         "anchor": "x14",
         "domain": [
          0,
          0.175
         ],
         "showgrid": true
        },
        "yaxis15": {
         "anchor": "x15",
         "domain": [
          0,
          0.175
         ],
         "showgrid": true
        },
        "yaxis16": {
         "anchor": "x16",
         "domain": [
          0,
          0.175
         ],
         "showgrid": true
        },
        "yaxis2": {
         "anchor": "x2",
         "domain": [
          0.825,
          1
         ],
         "showgrid": true
        },
        "yaxis3": {
         "anchor": "x3",
         "domain": [
          0.825,
          1
         ],
         "showgrid": true
        },
        "yaxis4": {
         "anchor": "x4",
         "domain": [
          0.825,
          1
         ],
         "showgrid": true
        },
        "yaxis5": {
         "anchor": "x5",
         "domain": [
          0.55,
          0.7250000000000001
         ],
         "showgrid": true
        },
        "yaxis6": {
         "anchor": "x6",
         "domain": [
          0.55,
          0.7250000000000001
         ],
         "showgrid": true
        },
        "yaxis7": {
         "anchor": "x7",
         "domain": [
          0.55,
          0.7250000000000001
         ],
         "showgrid": true
        },
        "yaxis8": {
         "anchor": "x8",
         "domain": [
          0.55,
          0.7250000000000001
         ],
         "showgrid": true
        },
        "yaxis9": {
         "anchor": "x9",
         "domain": [
          0.275,
          0.45
         ],
         "showgrid": true
        }
       }
      }
     },
     "metadata": {},
     "output_type": "display_data"
    }
   ],
   "source": [
    "topic_model.visualize_barchart(top_n_topics=16)"
   ]
  },
  {
   "cell_type": "code",
   "execution_count": 209,
   "metadata": {},
   "outputs": [
    {
     "data": {
      "application/vnd.plotly.v1+json": {
       "config": {
        "plotlyServerURL": "https://plot.ly"
       },
       "data": [
        {
         "customdata": [
          [
           0,
           "myself | body | reality | virtual | different",
           96
          ],
          [
           1,
           "focus | leg | eye | distract | easy",
           47
          ],
          [
           2,
           "body | heavy | light | come | half",
           35
          ],
          [
           3,
           "calm | relax | relief | stress | relaxed",
           26
          ],
          [
           4,
           "easy | absolutely | nice | good | fine",
           25
          ],
          [
           5,
           "touch | delay | scene | image | body",
           23
          ],
          [
           6,
           "forest | rock | tree | adventure | indonesia",
           23
          ],
          [
           7,
           "eye | open | close | condition | 30",
           22
          ],
          [
           8,
           "voice | platform | rock | space | cool",
           17
          ],
          [
           9,
           "want | follow | fell | resistance | complicated",
           16
          ],
          [
           10,
           "strange | weird | funny | creepy | accept",
           15
          ],
          [
           11,
           "color | yellow | change | shirt | signal",
           15
          ],
          [
           12,
           "myself | recognize | avatar | synchronize | swicthe",
           14
          ],
          [
           13,
           "notice | change | small | damn | pay",
           14
          ],
          [
           14,
           "fall | sleep | asleep | sleepy | relax",
           13
          ],
          [
           15,
           "strange | scary | feeling | discomfort | fully",
           12
          ],
          [
           16,
           "100 | 10 | 80 | 75 | total",
           12
          ],
          [
           17,
           "interesting | publish | probable | knock | correct",
           11
          ],
          [
           18,
           "happy | long | day | mental | hour",
           11
          ],
          [
           19,
           "pixel | image | pixelized | wonder | clear",
           10
          ],
          [
           20,
           "quickly | happen | drop | dealaye | constantly",
           9
          ],
          [
           21,
           "difference | different | familiar | angle | direction",
           9
          ]
         ],
         "hovertemplate": "<b>Topic %{customdata[0]}</b><br>%{customdata[1]}<br>Size: %{customdata[2]}",
         "legendgroup": "",
         "marker": {
          "color": "#B0BEC5",
          "line": {
           "color": "DarkSlateGrey",
           "width": 2
          },
          "size": [
           96,
           47,
           35,
           26,
           25,
           23,
           23,
           22,
           17,
           16,
           15,
           15,
           14,
           14,
           13,
           12,
           12,
           11,
           11,
           10,
           9,
           9
          ],
          "sizemode": "area",
          "sizeref": 0.06,
          "symbol": "circle"
         },
         "mode": "markers",
         "name": "",
         "orientation": "v",
         "showlegend": false,
         "type": "scatter",
         "x": [
          5.46990966796875,
          6.403531551361084,
          5.459717273712158,
          19.89946174621582,
          12.577069282531738,
          5.59952974319458,
          4.8553385734558105,
          6.551390171051025,
          5.123565673828125,
          11.995142936706543,
          16.6278133392334,
          10.605674743652344,
          11.995002746582031,
          11.124841690063477,
          19.77971839904785,
          5.4277167320251465,
          12.832501411437988,
          16.92109489440918,
          11.384628295898438,
          10.433331489562988,
          11.606115341186523,
          16.456363677978516
         ],
         "xaxis": "x",
         "y": [
          11.1580810546875,
          11.64288330078125,
          12.398232460021973,
          11.873748779296875,
          8.846753120422363,
          11.31839370727539,
          11.083598136901855,
          11.799205780029297,
          10.910624504089355,
          8.380035400390625,
          0.8893631100654602,
          8.864147186279297,
          8.199310302734375,
          8.734280586242676,
          11.765933990478516,
          12.13120174407959,
          9.107916831970215,
          1.1835681200027466,
          7.37536096572876,
          8.963386535644531,
          7.60983419418335,
          0.7186821103096008
         ],
         "yaxis": "y"
        }
       ],
       "layout": {
        "annotations": [
         {
          "showarrow": false,
          "text": "D1",
          "x": 4.12703800201416,
          "y": 7.434423446655273,
          "yshift": 10
         },
         {
          "showarrow": false,
          "text": "D2",
          "x": 13.505708694458008,
          "xshift": 10,
          "y": 14.257966995239258
         }
        ],
        "height": 650,
        "hoverlabel": {
         "bgcolor": "white",
         "font": {
          "family": "Rockwell",
          "size": 16
         }
        },
        "legend": {
         "itemsizing": "constant",
         "tracegroupgap": 0
        },
        "margin": {
         "t": 60
        },
        "shapes": [
         {
          "line": {
           "color": "#CFD8DC",
           "width": 2
          },
          "type": "line",
          "x0": 13.505708694458008,
          "x1": 13.505708694458008,
          "y0": 0.6108797788619995,
          "y1": 14.257966995239258
         },
         {
          "line": {
           "color": "#9E9E9E",
           "width": 2
          },
          "type": "line",
          "x0": 4.12703800201416,
          "x1": 22.884380340576172,
          "y0": 7.434423446655273,
          "y1": 7.434423446655273
         }
        ],
        "sliders": [
         {
          "active": 0,
          "pad": {
           "t": 50
          },
          "steps": [
           {
            "args": [
             {
              "marker.color": [
               [
                "red",
                "#B0BEC5",
                "#B0BEC5",
                "#B0BEC5",
                "#B0BEC5",
                "#B0BEC5",
                "#B0BEC5",
                "#B0BEC5",
                "#B0BEC5",
                "#B0BEC5",
                "#B0BEC5",
                "#B0BEC5",
                "#B0BEC5",
                "#B0BEC5",
                "#B0BEC5",
                "#B0BEC5",
                "#B0BEC5",
                "#B0BEC5",
                "#B0BEC5",
                "#B0BEC5",
                "#B0BEC5",
                "#B0BEC5"
               ]
              ]
             }
            ],
            "label": "Topic 0",
            "method": "update"
           },
           {
            "args": [
             {
              "marker.color": [
               [
                "#B0BEC5",
                "red",
                "#B0BEC5",
                "#B0BEC5",
                "#B0BEC5",
                "#B0BEC5",
                "#B0BEC5",
                "#B0BEC5",
                "#B0BEC5",
                "#B0BEC5",
                "#B0BEC5",
                "#B0BEC5",
                "#B0BEC5",
                "#B0BEC5",
                "#B0BEC5",
                "#B0BEC5",
                "#B0BEC5",
                "#B0BEC5",
                "#B0BEC5",
                "#B0BEC5",
                "#B0BEC5",
                "#B0BEC5"
               ]
              ]
             }
            ],
            "label": "Topic 1",
            "method": "update"
           },
           {
            "args": [
             {
              "marker.color": [
               [
                "#B0BEC5",
                "#B0BEC5",
                "red",
                "#B0BEC5",
                "#B0BEC5",
                "#B0BEC5",
                "#B0BEC5",
                "#B0BEC5",
                "#B0BEC5",
                "#B0BEC5",
                "#B0BEC5",
                "#B0BEC5",
                "#B0BEC5",
                "#B0BEC5",
                "#B0BEC5",
                "#B0BEC5",
                "#B0BEC5",
                "#B0BEC5",
                "#B0BEC5",
                "#B0BEC5",
                "#B0BEC5",
                "#B0BEC5"
               ]
              ]
             }
            ],
            "label": "Topic 2",
            "method": "update"
           },
           {
            "args": [
             {
              "marker.color": [
               [
                "#B0BEC5",
                "#B0BEC5",
                "#B0BEC5",
                "red",
                "#B0BEC5",
                "#B0BEC5",
                "#B0BEC5",
                "#B0BEC5",
                "#B0BEC5",
                "#B0BEC5",
                "#B0BEC5",
                "#B0BEC5",
                "#B0BEC5",
                "#B0BEC5",
                "#B0BEC5",
                "#B0BEC5",
                "#B0BEC5",
                "#B0BEC5",
                "#B0BEC5",
                "#B0BEC5",
                "#B0BEC5",
                "#B0BEC5"
               ]
              ]
             }
            ],
            "label": "Topic 3",
            "method": "update"
           },
           {
            "args": [
             {
              "marker.color": [
               [
                "#B0BEC5",
                "#B0BEC5",
                "#B0BEC5",
                "#B0BEC5",
                "red",
                "#B0BEC5",
                "#B0BEC5",
                "#B0BEC5",
                "#B0BEC5",
                "#B0BEC5",
                "#B0BEC5",
                "#B0BEC5",
                "#B0BEC5",
                "#B0BEC5",
                "#B0BEC5",
                "#B0BEC5",
                "#B0BEC5",
                "#B0BEC5",
                "#B0BEC5",
                "#B0BEC5",
                "#B0BEC5",
                "#B0BEC5"
               ]
              ]
             }
            ],
            "label": "Topic 4",
            "method": "update"
           },
           {
            "args": [
             {
              "marker.color": [
               [
                "#B0BEC5",
                "#B0BEC5",
                "#B0BEC5",
                "#B0BEC5",
                "#B0BEC5",
                "red",
                "#B0BEC5",
                "#B0BEC5",
                "#B0BEC5",
                "#B0BEC5",
                "#B0BEC5",
                "#B0BEC5",
                "#B0BEC5",
                "#B0BEC5",
                "#B0BEC5",
                "#B0BEC5",
                "#B0BEC5",
                "#B0BEC5",
                "#B0BEC5",
                "#B0BEC5",
                "#B0BEC5",
                "#B0BEC5"
               ]
              ]
             }
            ],
            "label": "Topic 5",
            "method": "update"
           },
           {
            "args": [
             {
              "marker.color": [
               [
                "#B0BEC5",
                "#B0BEC5",
                "#B0BEC5",
                "#B0BEC5",
                "#B0BEC5",
                "#B0BEC5",
                "red",
                "#B0BEC5",
                "#B0BEC5",
                "#B0BEC5",
                "#B0BEC5",
                "#B0BEC5",
                "#B0BEC5",
                "#B0BEC5",
                "#B0BEC5",
                "#B0BEC5",
                "#B0BEC5",
                "#B0BEC5",
                "#B0BEC5",
                "#B0BEC5",
                "#B0BEC5",
                "#B0BEC5"
               ]
              ]
             }
            ],
            "label": "Topic 6",
            "method": "update"
           },
           {
            "args": [
             {
              "marker.color": [
               [
                "#B0BEC5",
                "#B0BEC5",
                "#B0BEC5",
                "#B0BEC5",
                "#B0BEC5",
                "#B0BEC5",
                "#B0BEC5",
                "red",
                "#B0BEC5",
                "#B0BEC5",
                "#B0BEC5",
                "#B0BEC5",
                "#B0BEC5",
                "#B0BEC5",
                "#B0BEC5",
                "#B0BEC5",
                "#B0BEC5",
                "#B0BEC5",
                "#B0BEC5",
                "#B0BEC5",
                "#B0BEC5",
                "#B0BEC5"
               ]
              ]
             }
            ],
            "label": "Topic 7",
            "method": "update"
           },
           {
            "args": [
             {
              "marker.color": [
               [
                "#B0BEC5",
                "#B0BEC5",
                "#B0BEC5",
                "#B0BEC5",
                "#B0BEC5",
                "#B0BEC5",
                "#B0BEC5",
                "#B0BEC5",
                "red",
                "#B0BEC5",
                "#B0BEC5",
                "#B0BEC5",
                "#B0BEC5",
                "#B0BEC5",
                "#B0BEC5",
                "#B0BEC5",
                "#B0BEC5",
                "#B0BEC5",
                "#B0BEC5",
                "#B0BEC5",
                "#B0BEC5",
                "#B0BEC5"
               ]
              ]
             }
            ],
            "label": "Topic 8",
            "method": "update"
           },
           {
            "args": [
             {
              "marker.color": [
               [
                "#B0BEC5",
                "#B0BEC5",
                "#B0BEC5",
                "#B0BEC5",
                "#B0BEC5",
                "#B0BEC5",
                "#B0BEC5",
                "#B0BEC5",
                "#B0BEC5",
                "red",
                "#B0BEC5",
                "#B0BEC5",
                "#B0BEC5",
                "#B0BEC5",
                "#B0BEC5",
                "#B0BEC5",
                "#B0BEC5",
                "#B0BEC5",
                "#B0BEC5",
                "#B0BEC5",
                "#B0BEC5",
                "#B0BEC5"
               ]
              ]
             }
            ],
            "label": "Topic 9",
            "method": "update"
           },
           {
            "args": [
             {
              "marker.color": [
               [
                "#B0BEC5",
                "#B0BEC5",
                "#B0BEC5",
                "#B0BEC5",
                "#B0BEC5",
                "#B0BEC5",
                "#B0BEC5",
                "#B0BEC5",
                "#B0BEC5",
                "#B0BEC5",
                "red",
                "#B0BEC5",
                "#B0BEC5",
                "#B0BEC5",
                "#B0BEC5",
                "#B0BEC5",
                "#B0BEC5",
                "#B0BEC5",
                "#B0BEC5",
                "#B0BEC5",
                "#B0BEC5",
                "#B0BEC5"
               ]
              ]
             }
            ],
            "label": "Topic 10",
            "method": "update"
           },
           {
            "args": [
             {
              "marker.color": [
               [
                "#B0BEC5",
                "#B0BEC5",
                "#B0BEC5",
                "#B0BEC5",
                "#B0BEC5",
                "#B0BEC5",
                "#B0BEC5",
                "#B0BEC5",
                "#B0BEC5",
                "#B0BEC5",
                "#B0BEC5",
                "red",
                "#B0BEC5",
                "#B0BEC5",
                "#B0BEC5",
                "#B0BEC5",
                "#B0BEC5",
                "#B0BEC5",
                "#B0BEC5",
                "#B0BEC5",
                "#B0BEC5",
                "#B0BEC5"
               ]
              ]
             }
            ],
            "label": "Topic 11",
            "method": "update"
           },
           {
            "args": [
             {
              "marker.color": [
               [
                "#B0BEC5",
                "#B0BEC5",
                "#B0BEC5",
                "#B0BEC5",
                "#B0BEC5",
                "#B0BEC5",
                "#B0BEC5",
                "#B0BEC5",
                "#B0BEC5",
                "#B0BEC5",
                "#B0BEC5",
                "#B0BEC5",
                "red",
                "#B0BEC5",
                "#B0BEC5",
                "#B0BEC5",
                "#B0BEC5",
                "#B0BEC5",
                "#B0BEC5",
                "#B0BEC5",
                "#B0BEC5",
                "#B0BEC5"
               ]
              ]
             }
            ],
            "label": "Topic 12",
            "method": "update"
           },
           {
            "args": [
             {
              "marker.color": [
               [
                "#B0BEC5",
                "#B0BEC5",
                "#B0BEC5",
                "#B0BEC5",
                "#B0BEC5",
                "#B0BEC5",
                "#B0BEC5",
                "#B0BEC5",
                "#B0BEC5",
                "#B0BEC5",
                "#B0BEC5",
                "#B0BEC5",
                "#B0BEC5",
                "red",
                "#B0BEC5",
                "#B0BEC5",
                "#B0BEC5",
                "#B0BEC5",
                "#B0BEC5",
                "#B0BEC5",
                "#B0BEC5",
                "#B0BEC5"
               ]
              ]
             }
            ],
            "label": "Topic 13",
            "method": "update"
           },
           {
            "args": [
             {
              "marker.color": [
               [
                "#B0BEC5",
                "#B0BEC5",
                "#B0BEC5",
                "#B0BEC5",
                "#B0BEC5",
                "#B0BEC5",
                "#B0BEC5",
                "#B0BEC5",
                "#B0BEC5",
                "#B0BEC5",
                "#B0BEC5",
                "#B0BEC5",
                "#B0BEC5",
                "#B0BEC5",
                "red",
                "#B0BEC5",
                "#B0BEC5",
                "#B0BEC5",
                "#B0BEC5",
                "#B0BEC5",
                "#B0BEC5",
                "#B0BEC5"
               ]
              ]
             }
            ],
            "label": "Topic 14",
            "method": "update"
           },
           {
            "args": [
             {
              "marker.color": [
               [
                "#B0BEC5",
                "#B0BEC5",
                "#B0BEC5",
                "#B0BEC5",
                "#B0BEC5",
                "#B0BEC5",
                "#B0BEC5",
                "#B0BEC5",
                "#B0BEC5",
                "#B0BEC5",
                "#B0BEC5",
                "#B0BEC5",
                "#B0BEC5",
                "#B0BEC5",
                "#B0BEC5",
                "red",
                "#B0BEC5",
                "#B0BEC5",
                "#B0BEC5",
                "#B0BEC5",
                "#B0BEC5",
                "#B0BEC5"
               ]
              ]
             }
            ],
            "label": "Topic 15",
            "method": "update"
           },
           {
            "args": [
             {
              "marker.color": [
               [
                "#B0BEC5",
                "#B0BEC5",
                "#B0BEC5",
                "#B0BEC5",
                "#B0BEC5",
                "#B0BEC5",
                "#B0BEC5",
                "#B0BEC5",
                "#B0BEC5",
                "#B0BEC5",
                "#B0BEC5",
                "#B0BEC5",
                "#B0BEC5",
                "#B0BEC5",
                "#B0BEC5",
                "#B0BEC5",
                "red",
                "#B0BEC5",
                "#B0BEC5",
                "#B0BEC5",
                "#B0BEC5",
                "#B0BEC5"
               ]
              ]
             }
            ],
            "label": "Topic 16",
            "method": "update"
           },
           {
            "args": [
             {
              "marker.color": [
               [
                "#B0BEC5",
                "#B0BEC5",
                "#B0BEC5",
                "#B0BEC5",
                "#B0BEC5",
                "#B0BEC5",
                "#B0BEC5",
                "#B0BEC5",
                "#B0BEC5",
                "#B0BEC5",
                "#B0BEC5",
                "#B0BEC5",
                "#B0BEC5",
                "#B0BEC5",
                "#B0BEC5",
                "#B0BEC5",
                "#B0BEC5",
                "red",
                "#B0BEC5",
                "#B0BEC5",
                "#B0BEC5",
                "#B0BEC5"
               ]
              ]
             }
            ],
            "label": "Topic 17",
            "method": "update"
           },
           {
            "args": [
             {
              "marker.color": [
               [
                "#B0BEC5",
                "#B0BEC5",
                "#B0BEC5",
                "#B0BEC5",
                "#B0BEC5",
                "#B0BEC5",
                "#B0BEC5",
                "#B0BEC5",
                "#B0BEC5",
                "#B0BEC5",
                "#B0BEC5",
                "#B0BEC5",
                "#B0BEC5",
                "#B0BEC5",
                "#B0BEC5",
                "#B0BEC5",
                "#B0BEC5",
                "#B0BEC5",
                "red",
                "#B0BEC5",
                "#B0BEC5",
                "#B0BEC5"
               ]
              ]
             }
            ],
            "label": "Topic 18",
            "method": "update"
           },
           {
            "args": [
             {
              "marker.color": [
               [
                "#B0BEC5",
                "#B0BEC5",
                "#B0BEC5",
                "#B0BEC5",
                "#B0BEC5",
                "#B0BEC5",
                "#B0BEC5",
                "#B0BEC5",
                "#B0BEC5",
                "#B0BEC5",
                "#B0BEC5",
                "#B0BEC5",
                "#B0BEC5",
                "#B0BEC5",
                "#B0BEC5",
                "#B0BEC5",
                "#B0BEC5",
                "#B0BEC5",
                "#B0BEC5",
                "red",
                "#B0BEC5",
                "#B0BEC5"
               ]
              ]
             }
            ],
            "label": "Topic 19",
            "method": "update"
           },
           {
            "args": [
             {
              "marker.color": [
               [
                "#B0BEC5",
                "#B0BEC5",
                "#B0BEC5",
                "#B0BEC5",
                "#B0BEC5",
                "#B0BEC5",
                "#B0BEC5",
                "#B0BEC5",
                "#B0BEC5",
                "#B0BEC5",
                "#B0BEC5",
                "#B0BEC5",
                "#B0BEC5",
                "#B0BEC5",
                "#B0BEC5",
                "#B0BEC5",
                "#B0BEC5",
                "#B0BEC5",
                "#B0BEC5",
                "#B0BEC5",
                "red",
                "#B0BEC5"
               ]
              ]
             }
            ],
            "label": "Topic 20",
            "method": "update"
           },
           {
            "args": [
             {
              "marker.color": [
               [
                "#B0BEC5",
                "#B0BEC5",
                "#B0BEC5",
                "#B0BEC5",
                "#B0BEC5",
                "#B0BEC5",
                "#B0BEC5",
                "#B0BEC5",
                "#B0BEC5",
                "#B0BEC5",
                "#B0BEC5",
                "#B0BEC5",
                "#B0BEC5",
                "#B0BEC5",
                "#B0BEC5",
                "#B0BEC5",
                "#B0BEC5",
                "#B0BEC5",
                "#B0BEC5",
                "#B0BEC5",
                "#B0BEC5",
                "red"
               ]
              ]
             }
            ],
            "label": "Topic 21",
            "method": "update"
           }
          ]
         }
        ],
        "template": {
         "data": {
          "bar": [
           {
            "error_x": {
             "color": "rgb(36,36,36)"
            },
            "error_y": {
             "color": "rgb(36,36,36)"
            },
            "marker": {
             "line": {
              "color": "white",
              "width": 0.5
             },
             "pattern": {
              "fillmode": "overlay",
              "size": 10,
              "solidity": 0.2
             }
            },
            "type": "bar"
           }
          ],
          "barpolar": [
           {
            "marker": {
             "line": {
              "color": "white",
              "width": 0.5
             },
             "pattern": {
              "fillmode": "overlay",
              "size": 10,
              "solidity": 0.2
             }
            },
            "type": "barpolar"
           }
          ],
          "carpet": [
           {
            "aaxis": {
             "endlinecolor": "rgb(36,36,36)",
             "gridcolor": "white",
             "linecolor": "white",
             "minorgridcolor": "white",
             "startlinecolor": "rgb(36,36,36)"
            },
            "baxis": {
             "endlinecolor": "rgb(36,36,36)",
             "gridcolor": "white",
             "linecolor": "white",
             "minorgridcolor": "white",
             "startlinecolor": "rgb(36,36,36)"
            },
            "type": "carpet"
           }
          ],
          "choropleth": [
           {
            "colorbar": {
             "outlinewidth": 1,
             "tickcolor": "rgb(36,36,36)",
             "ticks": "outside"
            },
            "type": "choropleth"
           }
          ],
          "contour": [
           {
            "colorbar": {
             "outlinewidth": 1,
             "tickcolor": "rgb(36,36,36)",
             "ticks": "outside"
            },
            "colorscale": [
             [
              0,
              "#440154"
             ],
             [
              0.1111111111111111,
              "#482878"
             ],
             [
              0.2222222222222222,
              "#3e4989"
             ],
             [
              0.3333333333333333,
              "#31688e"
             ],
             [
              0.4444444444444444,
              "#26828e"
             ],
             [
              0.5555555555555556,
              "#1f9e89"
             ],
             [
              0.6666666666666666,
              "#35b779"
             ],
             [
              0.7777777777777778,
              "#6ece58"
             ],
             [
              0.8888888888888888,
              "#b5de2b"
             ],
             [
              1,
              "#fde725"
             ]
            ],
            "type": "contour"
           }
          ],
          "contourcarpet": [
           {
            "colorbar": {
             "outlinewidth": 1,
             "tickcolor": "rgb(36,36,36)",
             "ticks": "outside"
            },
            "type": "contourcarpet"
           }
          ],
          "heatmap": [
           {
            "colorbar": {
             "outlinewidth": 1,
             "tickcolor": "rgb(36,36,36)",
             "ticks": "outside"
            },
            "colorscale": [
             [
              0,
              "#440154"
             ],
             [
              0.1111111111111111,
              "#482878"
             ],
             [
              0.2222222222222222,
              "#3e4989"
             ],
             [
              0.3333333333333333,
              "#31688e"
             ],
             [
              0.4444444444444444,
              "#26828e"
             ],
             [
              0.5555555555555556,
              "#1f9e89"
             ],
             [
              0.6666666666666666,
              "#35b779"
             ],
             [
              0.7777777777777778,
              "#6ece58"
             ],
             [
              0.8888888888888888,
              "#b5de2b"
             ],
             [
              1,
              "#fde725"
             ]
            ],
            "type": "heatmap"
           }
          ],
          "heatmapgl": [
           {
            "colorbar": {
             "outlinewidth": 1,
             "tickcolor": "rgb(36,36,36)",
             "ticks": "outside"
            },
            "colorscale": [
             [
              0,
              "#440154"
             ],
             [
              0.1111111111111111,
              "#482878"
             ],
             [
              0.2222222222222222,
              "#3e4989"
             ],
             [
              0.3333333333333333,
              "#31688e"
             ],
             [
              0.4444444444444444,
              "#26828e"
             ],
             [
              0.5555555555555556,
              "#1f9e89"
             ],
             [
              0.6666666666666666,
              "#35b779"
             ],
             [
              0.7777777777777778,
              "#6ece58"
             ],
             [
              0.8888888888888888,
              "#b5de2b"
             ],
             [
              1,
              "#fde725"
             ]
            ],
            "type": "heatmapgl"
           }
          ],
          "histogram": [
           {
            "marker": {
             "line": {
              "color": "white",
              "width": 0.6
             }
            },
            "type": "histogram"
           }
          ],
          "histogram2d": [
           {
            "colorbar": {
             "outlinewidth": 1,
             "tickcolor": "rgb(36,36,36)",
             "ticks": "outside"
            },
            "colorscale": [
             [
              0,
              "#440154"
             ],
             [
              0.1111111111111111,
              "#482878"
             ],
             [
              0.2222222222222222,
              "#3e4989"
             ],
             [
              0.3333333333333333,
              "#31688e"
             ],
             [
              0.4444444444444444,
              "#26828e"
             ],
             [
              0.5555555555555556,
              "#1f9e89"
             ],
             [
              0.6666666666666666,
              "#35b779"
             ],
             [
              0.7777777777777778,
              "#6ece58"
             ],
             [
              0.8888888888888888,
              "#b5de2b"
             ],
             [
              1,
              "#fde725"
             ]
            ],
            "type": "histogram2d"
           }
          ],
          "histogram2dcontour": [
           {
            "colorbar": {
             "outlinewidth": 1,
             "tickcolor": "rgb(36,36,36)",
             "ticks": "outside"
            },
            "colorscale": [
             [
              0,
              "#440154"
             ],
             [
              0.1111111111111111,
              "#482878"
             ],
             [
              0.2222222222222222,
              "#3e4989"
             ],
             [
              0.3333333333333333,
              "#31688e"
             ],
             [
              0.4444444444444444,
              "#26828e"
             ],
             [
              0.5555555555555556,
              "#1f9e89"
             ],
             [
              0.6666666666666666,
              "#35b779"
             ],
             [
              0.7777777777777778,
              "#6ece58"
             ],
             [
              0.8888888888888888,
              "#b5de2b"
             ],
             [
              1,
              "#fde725"
             ]
            ],
            "type": "histogram2dcontour"
           }
          ],
          "mesh3d": [
           {
            "colorbar": {
             "outlinewidth": 1,
             "tickcolor": "rgb(36,36,36)",
             "ticks": "outside"
            },
            "type": "mesh3d"
           }
          ],
          "parcoords": [
           {
            "line": {
             "colorbar": {
              "outlinewidth": 1,
              "tickcolor": "rgb(36,36,36)",
              "ticks": "outside"
             }
            },
            "type": "parcoords"
           }
          ],
          "pie": [
           {
            "automargin": true,
            "type": "pie"
           }
          ],
          "scatter": [
           {
            "fillpattern": {
             "fillmode": "overlay",
             "size": 10,
             "solidity": 0.2
            },
            "type": "scatter"
           }
          ],
          "scatter3d": [
           {
            "line": {
             "colorbar": {
              "outlinewidth": 1,
              "tickcolor": "rgb(36,36,36)",
              "ticks": "outside"
             }
            },
            "marker": {
             "colorbar": {
              "outlinewidth": 1,
              "tickcolor": "rgb(36,36,36)",
              "ticks": "outside"
             }
            },
            "type": "scatter3d"
           }
          ],
          "scattercarpet": [
           {
            "marker": {
             "colorbar": {
              "outlinewidth": 1,
              "tickcolor": "rgb(36,36,36)",
              "ticks": "outside"
             }
            },
            "type": "scattercarpet"
           }
          ],
          "scattergeo": [
           {
            "marker": {
             "colorbar": {
              "outlinewidth": 1,
              "tickcolor": "rgb(36,36,36)",
              "ticks": "outside"
             }
            },
            "type": "scattergeo"
           }
          ],
          "scattergl": [
           {
            "marker": {
             "colorbar": {
              "outlinewidth": 1,
              "tickcolor": "rgb(36,36,36)",
              "ticks": "outside"
             }
            },
            "type": "scattergl"
           }
          ],
          "scattermapbox": [
           {
            "marker": {
             "colorbar": {
              "outlinewidth": 1,
              "tickcolor": "rgb(36,36,36)",
              "ticks": "outside"
             }
            },
            "type": "scattermapbox"
           }
          ],
          "scatterpolar": [
           {
            "marker": {
             "colorbar": {
              "outlinewidth": 1,
              "tickcolor": "rgb(36,36,36)",
              "ticks": "outside"
             }
            },
            "type": "scatterpolar"
           }
          ],
          "scatterpolargl": [
           {
            "marker": {
             "colorbar": {
              "outlinewidth": 1,
              "tickcolor": "rgb(36,36,36)",
              "ticks": "outside"
             }
            },
            "type": "scatterpolargl"
           }
          ],
          "scatterternary": [
           {
            "marker": {
             "colorbar": {
              "outlinewidth": 1,
              "tickcolor": "rgb(36,36,36)",
              "ticks": "outside"
             }
            },
            "type": "scatterternary"
           }
          ],
          "surface": [
           {
            "colorbar": {
             "outlinewidth": 1,
             "tickcolor": "rgb(36,36,36)",
             "ticks": "outside"
            },
            "colorscale": [
             [
              0,
              "#440154"
             ],
             [
              0.1111111111111111,
              "#482878"
             ],
             [
              0.2222222222222222,
              "#3e4989"
             ],
             [
              0.3333333333333333,
              "#31688e"
             ],
             [
              0.4444444444444444,
              "#26828e"
             ],
             [
              0.5555555555555556,
              "#1f9e89"
             ],
             [
              0.6666666666666666,
              "#35b779"
             ],
             [
              0.7777777777777778,
              "#6ece58"
             ],
             [
              0.8888888888888888,
              "#b5de2b"
             ],
             [
              1,
              "#fde725"
             ]
            ],
            "type": "surface"
           }
          ],
          "table": [
           {
            "cells": {
             "fill": {
              "color": "rgb(237,237,237)"
             },
             "line": {
              "color": "white"
             }
            },
            "header": {
             "fill": {
              "color": "rgb(217,217,217)"
             },
             "line": {
              "color": "white"
             }
            },
            "type": "table"
           }
          ]
         },
         "layout": {
          "annotationdefaults": {
           "arrowhead": 0,
           "arrowwidth": 1
          },
          "autotypenumbers": "strict",
          "coloraxis": {
           "colorbar": {
            "outlinewidth": 1,
            "tickcolor": "rgb(36,36,36)",
            "ticks": "outside"
           }
          },
          "colorscale": {
           "diverging": [
            [
             0,
             "rgb(103,0,31)"
            ],
            [
             0.1,
             "rgb(178,24,43)"
            ],
            [
             0.2,
             "rgb(214,96,77)"
            ],
            [
             0.3,
             "rgb(244,165,130)"
            ],
            [
             0.4,
             "rgb(253,219,199)"
            ],
            [
             0.5,
             "rgb(247,247,247)"
            ],
            [
             0.6,
             "rgb(209,229,240)"
            ],
            [
             0.7,
             "rgb(146,197,222)"
            ],
            [
             0.8,
             "rgb(67,147,195)"
            ],
            [
             0.9,
             "rgb(33,102,172)"
            ],
            [
             1,
             "rgb(5,48,97)"
            ]
           ],
           "sequential": [
            [
             0,
             "#440154"
            ],
            [
             0.1111111111111111,
             "#482878"
            ],
            [
             0.2222222222222222,
             "#3e4989"
            ],
            [
             0.3333333333333333,
             "#31688e"
            ],
            [
             0.4444444444444444,
             "#26828e"
            ],
            [
             0.5555555555555556,
             "#1f9e89"
            ],
            [
             0.6666666666666666,
             "#35b779"
            ],
            [
             0.7777777777777778,
             "#6ece58"
            ],
            [
             0.8888888888888888,
             "#b5de2b"
            ],
            [
             1,
             "#fde725"
            ]
           ],
           "sequentialminus": [
            [
             0,
             "#440154"
            ],
            [
             0.1111111111111111,
             "#482878"
            ],
            [
             0.2222222222222222,
             "#3e4989"
            ],
            [
             0.3333333333333333,
             "#31688e"
            ],
            [
             0.4444444444444444,
             "#26828e"
            ],
            [
             0.5555555555555556,
             "#1f9e89"
            ],
            [
             0.6666666666666666,
             "#35b779"
            ],
            [
             0.7777777777777778,
             "#6ece58"
            ],
            [
             0.8888888888888888,
             "#b5de2b"
            ],
            [
             1,
             "#fde725"
            ]
           ]
          },
          "colorway": [
           "#1F77B4",
           "#FF7F0E",
           "#2CA02C",
           "#D62728",
           "#9467BD",
           "#8C564B",
           "#E377C2",
           "#7F7F7F",
           "#BCBD22",
           "#17BECF"
          ],
          "font": {
           "color": "rgb(36,36,36)"
          },
          "geo": {
           "bgcolor": "white",
           "lakecolor": "white",
           "landcolor": "white",
           "showlakes": true,
           "showland": true,
           "subunitcolor": "white"
          },
          "hoverlabel": {
           "align": "left"
          },
          "hovermode": "closest",
          "mapbox": {
           "style": "light"
          },
          "paper_bgcolor": "white",
          "plot_bgcolor": "white",
          "polar": {
           "angularaxis": {
            "gridcolor": "rgb(232,232,232)",
            "linecolor": "rgb(36,36,36)",
            "showgrid": false,
            "showline": true,
            "ticks": "outside"
           },
           "bgcolor": "white",
           "radialaxis": {
            "gridcolor": "rgb(232,232,232)",
            "linecolor": "rgb(36,36,36)",
            "showgrid": false,
            "showline": true,
            "ticks": "outside"
           }
          },
          "scene": {
           "xaxis": {
            "backgroundcolor": "white",
            "gridcolor": "rgb(232,232,232)",
            "gridwidth": 2,
            "linecolor": "rgb(36,36,36)",
            "showbackground": true,
            "showgrid": false,
            "showline": true,
            "ticks": "outside",
            "zeroline": false,
            "zerolinecolor": "rgb(36,36,36)"
           },
           "yaxis": {
            "backgroundcolor": "white",
            "gridcolor": "rgb(232,232,232)",
            "gridwidth": 2,
            "linecolor": "rgb(36,36,36)",
            "showbackground": true,
            "showgrid": false,
            "showline": true,
            "ticks": "outside",
            "zeroline": false,
            "zerolinecolor": "rgb(36,36,36)"
           },
           "zaxis": {
            "backgroundcolor": "white",
            "gridcolor": "rgb(232,232,232)",
            "gridwidth": 2,
            "linecolor": "rgb(36,36,36)",
            "showbackground": true,
            "showgrid": false,
            "showline": true,
            "ticks": "outside",
            "zeroline": false,
            "zerolinecolor": "rgb(36,36,36)"
           }
          },
          "shapedefaults": {
           "fillcolor": "black",
           "line": {
            "width": 0
           },
           "opacity": 0.3
          },
          "ternary": {
           "aaxis": {
            "gridcolor": "rgb(232,232,232)",
            "linecolor": "rgb(36,36,36)",
            "showgrid": false,
            "showline": true,
            "ticks": "outside"
           },
           "baxis": {
            "gridcolor": "rgb(232,232,232)",
            "linecolor": "rgb(36,36,36)",
            "showgrid": false,
            "showline": true,
            "ticks": "outside"
           },
           "bgcolor": "white",
           "caxis": {
            "gridcolor": "rgb(232,232,232)",
            "linecolor": "rgb(36,36,36)",
            "showgrid": false,
            "showline": true,
            "ticks": "outside"
           }
          },
          "title": {
           "x": 0.05
          },
          "xaxis": {
           "automargin": true,
           "gridcolor": "rgb(232,232,232)",
           "linecolor": "rgb(36,36,36)",
           "showgrid": false,
           "showline": true,
           "ticks": "outside",
           "title": {
            "standoff": 15
           },
           "zeroline": false,
           "zerolinecolor": "rgb(36,36,36)"
          },
          "yaxis": {
           "automargin": true,
           "gridcolor": "rgb(232,232,232)",
           "linecolor": "rgb(36,36,36)",
           "showgrid": false,
           "showline": true,
           "ticks": "outside",
           "title": {
            "standoff": 15
           },
           "zeroline": false,
           "zerolinecolor": "rgb(36,36,36)"
          }
         }
        },
        "title": {
         "font": {
          "color": "Black",
          "size": 22
         },
         "text": "<b>Intertopic Distance Map</b>",
         "x": 0.5,
         "xanchor": "center",
         "y": 0.95,
         "yanchor": "top"
        },
        "width": 650,
        "xaxis": {
         "anchor": "y",
         "domain": [
          0,
          1
         ],
         "range": [
          4.12703800201416,
          22.884380340576172
         ],
         "title": {
          "text": ""
         },
         "visible": false
        },
        "yaxis": {
         "anchor": "x",
         "domain": [
          0,
          1
         ],
         "range": [
          0.6108797788619995,
          14.257966995239258
         ],
         "title": {
          "text": ""
         },
         "visible": false
        }
       }
      }
     },
     "metadata": {},
     "output_type": "display_data"
    }
   ],
   "source": [
    "topic_model.visualize_topics()"
   ]
  },
  {
   "cell_type": "code",
   "execution_count": 190,
   "metadata": {},
   "outputs": [],
   "source": [
    "#topics_per_class = topic_model.topics_per_class(docs, classes=df.Id)\n",
    "#topic_model.visualize_topics_per_class(topics_per_class)"
   ]
  },
  {
   "cell_type": "code",
   "execution_count": 214,
   "metadata": {},
   "outputs": [
    {
     "name": "stderr",
     "output_type": "stream",
     "text": [
      "100%|██████████| 21/21 [00:00<00:00, 82.69it/s]\n"
     ]
    },
    {
     "data": {
      "application/vnd.plotly.v1+json": {
       "config": {
        "plotlyServerURL": "https://plot.ly"
       },
       "data": [
        {
         "hoverinfo": "text",
         "marker": {
          "color": "rgb(61,153,112)"
         },
         "mode": "lines",
         "text": [
          "happy_long_day_mental_hour",
          "",
          "",
          "want_follow_fell_resistance_complicated"
         ],
         "type": "scatter",
         "x": [
          0,
          0.9618191367345508,
          0.9618191367345508,
          0
         ],
         "xaxis": "x",
         "y": [
          -5,
          -5,
          -15,
          -15
         ],
         "yaxis": "y"
        },
        {
         "hoverinfo": "text",
         "marker": {
          "color": "rgb(0,116,217)"
         },
         "mode": "lines",
         "text": [
          "100_10_80_75_total",
          "",
          "",
          "interesting_publish_probable_knock_correct"
         ],
         "type": "scatter",
         "x": [
          0,
          1,
          1,
          0
         ],
         "xaxis": "x",
         "y": [
          -25,
          -25,
          -35,
          -35
         ],
         "yaxis": "y"
        },
        {
         "hoverinfo": "text",
         "marker": {
          "color": "rgb(0,116,217)"
         },
         "mode": "lines",
         "text": [
          "happy_long_want_break_day",
          "",
          "",
          "interesting_100_10_75_probable"
         ],
         "type": "scatter",
         "x": [
          0.9618191367345508,
          1.0130596446145803,
          1.0130596446145803,
          1
         ],
         "xaxis": "x",
         "y": [
          -10,
          -10,
          -30,
          -30
         ],
         "yaxis": "y"
        },
        {
         "hoverinfo": "text",
         "marker": {
          "color": "rgb(255,65,54)"
         },
         "mode": "lines",
         "text": [
          "voice_platform_rock_space_cool",
          "",
          "",
          "easy_absolutely_nice_good_fine"
         ],
         "type": "scatter",
         "x": [
          0,
          0.8688067370398798,
          0.8688067370398798,
          0
         ],
         "xaxis": "x",
         "y": [
          -55,
          -55,
          -65,
          -65
         ],
         "yaxis": "y"
        },
        {
         "hoverinfo": "text",
         "marker": {
          "color": "rgb(255,65,54)"
         },
         "mode": "lines",
         "text": [
          "forest_rock_tree_adventure_indonesia",
          "",
          "",
          "nice_voice_cool_easy_absolutely"
         ],
         "type": "scatter",
         "x": [
          0,
          0.8927078799463158,
          0.8927078799463158,
          0.8688067370398798
         ],
         "xaxis": "x",
         "y": [
          -45,
          -45,
          -60,
          -60
         ],
         "yaxis": "y"
        },
        {
         "hoverinfo": "text",
         "marker": {
          "color": "rgb(255,65,54)"
         },
         "mode": "lines",
         "text": [
          "calm_relax_relief_stress_relaxed",
          "",
          "",
          "fall_sleep_asleep_sleepy_relax"
         ],
         "type": "scatter",
         "x": [
          0,
          0.8763878786791615,
          0.8763878786791615,
          0
         ],
         "xaxis": "x",
         "y": [
          -75,
          -75,
          -85,
          -85
         ],
         "yaxis": "y"
        },
        {
         "hoverinfo": "text",
         "marker": {
          "color": "rgb(255,65,54)"
         },
         "mode": "lines",
         "text": [
          "forest_nice_rock_cool_voice",
          "",
          "",
          "relax_fall_sleep_asleep_calm"
         ],
         "type": "scatter",
         "x": [
          0.8927078799463158,
          0.9737585242983664,
          0.9737585242983664,
          0.8763878786791615
         ],
         "xaxis": "x",
         "y": [
          -52.5,
          -52.5,
          -80,
          -80
         ],
         "yaxis": "y"
        },
        {
         "hoverinfo": "text",
         "marker": {
          "color": "rgb(0,116,217)"
         },
         "mode": "lines",
         "text": [
          "interesting_happy_long_100_want",
          "",
          "",
          "forest_relax_nice_fall_sleep"
         ],
         "type": "scatter",
         "x": [
          1.0130596446145803,
          1.0802151226128958,
          1.0802151226128958,
          0.9737585242983664
         ],
         "xaxis": "x",
         "y": [
          -20,
          -20,
          -66.25,
          -66.25
         ],
         "yaxis": "y"
        },
        {
         "hoverinfo": "text",
         "marker": {
          "color": "rgb(35,205,205)"
         },
         "mode": "lines",
         "text": [
          "strange_weird_funny_creepy_accept",
          "",
          "",
          "strange_scary_feeling_discomfort_fully"
         ],
         "type": "scatter",
         "x": [
          0,
          0.650957921214836,
          0.650957921214836,
          0
         ],
         "xaxis": "x",
         "y": [
          -95,
          -95,
          -105,
          -105
         ],
         "yaxis": "y"
        },
        {
         "hoverinfo": "text",
         "marker": {
          "color": "rgb(133,20,75)"
         },
         "mode": "lines",
         "text": [
          "quickly_happen_drop_dealaye_constantly",
          "",
          "",
          "difference_different_familiar_angle_direction"
         ],
         "type": "scatter",
         "x": [
          0,
          0.9732839818500846,
          0.9732839818500846,
          0
         ],
         "xaxis": "x",
         "y": [
          -115,
          -115,
          -125,
          -125
         ],
         "yaxis": "y"
        },
        {
         "hoverinfo": "text",
         "marker": {
          "color": "rgb(255,220,0)"
         },
         "mode": "lines",
         "text": [
          "body_heavy_light_come_half",
          "",
          "",
          "touch_delay_scene_image_body"
         ],
         "type": "scatter",
         "x": [
          0,
          0.8505716680037488,
          0.8505716680037488,
          0
         ],
         "xaxis": "x",
         "y": [
          -135,
          -135,
          -145,
          -145
         ],
         "yaxis": "y"
        },
        {
         "hoverinfo": "text",
         "marker": {
          "color": "rgb(255,220,0)"
         },
         "mode": "lines",
         "text": [
          "touch_body_delay_scene_image",
          "",
          "",
          "pixel_image_pixelized_wonder_clear"
         ],
         "type": "scatter",
         "x": [
          0.8505716680037488,
          0.9138507163667218,
          0.9138507163667218,
          0
         ],
         "xaxis": "x",
         "y": [
          -140,
          -140,
          -155,
          -155
         ],
         "yaxis": "y"
        },
        {
         "hoverinfo": "text",
         "marker": {
          "color": "rgb(0,116,217)"
         },
         "mode": "lines",
         "text": [
          "quickly_difference_happen_different_drop",
          "",
          "",
          "touch_body_delay_image_scene"
         ],
         "type": "scatter",
         "x": [
          0.9732839818500846,
          1.0008257397334754,
          1.0008257397334754,
          0.9138507163667218
         ],
         "xaxis": "x",
         "y": [
          -120,
          -120,
          -147.5,
          -147.5
         ],
         "yaxis": "y"
        },
        {
         "hoverinfo": "text",
         "marker": {
          "color": "rgb(40,35,35)"
         },
         "mode": "lines",
         "text": [
          "focus_leg_eye_distract_easy",
          "",
          "",
          "myself_body_reality_virtual_different"
         ],
         "type": "scatter",
         "x": [
          0,
          0.6077576211558535,
          0.6077576211558535,
          0
         ],
         "xaxis": "x",
         "y": [
          -175,
          -175,
          -185,
          -185
         ],
         "yaxis": "y"
        },
        {
         "hoverinfo": "text",
         "marker": {
          "color": "rgb(40,35,35)"
         },
         "mode": "lines",
         "text": [
          "eye_open_close_condition_30",
          "",
          "",
          "focus_myself_body_reality_lot"
         ],
         "type": "scatter",
         "x": [
          0,
          0.8150419816041249,
          0.8150419816041249,
          0.6077576211558535
         ],
         "xaxis": "x",
         "y": [
          -165,
          -165,
          -180,
          -180
         ],
         "yaxis": "y"
        },
        {
         "hoverinfo": "text",
         "marker": {
          "color": "rgb(40,35,35)"
         },
         "mode": "lines",
         "text": [
          "focus_eye_myself_body_close",
          "",
          "",
          "myself_recognize_avatar_synchronize_swicthe"
         ],
         "type": "scatter",
         "x": [
          0.8150419816041249,
          0.9600797170167126,
          0.9600797170167126,
          0
         ],
         "xaxis": "x",
         "y": [
          -172.5,
          -172.5,
          -195,
          -195
         ],
         "yaxis": "y"
        },
        {
         "hoverinfo": "text",
         "marker": {
          "color": "rgb(0,116,217)"
         },
         "mode": "lines",
         "text": [
          "touch_body_delay_image_scene",
          "",
          "",
          "myself_focus_eye_body_close"
         ],
         "type": "scatter",
         "x": [
          1.0008257397334754,
          1.0227390647021102,
          1.0227390647021102,
          0.9600797170167126
         ],
         "xaxis": "x",
         "y": [
          -133.75,
          -133.75,
          -183.75,
          -183.75
         ],
         "yaxis": "y"
        },
        {
         "hoverinfo": "text",
         "marker": {
          "color": "rgb(61,153,112)"
         },
         "mode": "lines",
         "text": [
          "notice_change_small_damn_pay",
          "",
          "",
          "color_yellow_change_shirt_signal"
         ],
         "type": "scatter",
         "x": [
          0,
          0.8631872575491197,
          0.8631872575491197,
          0
         ],
         "xaxis": "x",
         "y": [
          -205,
          -205,
          -215,
          -215
         ],
         "yaxis": "y"
        },
        {
         "hoverinfo": "text",
         "marker": {
          "color": "rgb(0,116,217)"
         },
         "mode": "lines",
         "text": [
          "body_myself_focus_eye_touch",
          "",
          "",
          "color_change_notice_yellow_small"
         ],
         "type": "scatter",
         "x": [
          1.0227390647021102,
          1.071226597813912,
          1.071226597813912,
          0.8631872575491197
         ],
         "xaxis": "x",
         "y": [
          -158.75,
          -158.75,
          -210,
          -210
         ],
         "yaxis": "y"
        },
        {
         "hoverinfo": "text",
         "marker": {
          "color": "rgb(0,116,217)"
         },
         "mode": "lines",
         "text": [
          "strange_weird_scary_funny_feeling",
          "",
          "",
          "body_myself_focus_eye_touch"
         ],
         "type": "scatter",
         "x": [
          0.650957921214836,
          1.1349080733032724,
          1.1349080733032724,
          1.071226597813912
         ],
         "xaxis": "x",
         "y": [
          -100,
          -100,
          -184.375,
          -184.375
         ],
         "yaxis": "y"
        },
        {
         "hoverinfo": "text",
         "marker": {
          "color": "rgb(0,116,217)"
         },
         "mode": "lines",
         "text": [
          "forest_nice_relax_want_good",
          "",
          "",
          "body_myself_focus_eye_touch"
         ],
         "type": "scatter",
         "x": [
          1.0802151226128958,
          1.182748729846052,
          1.182748729846052,
          1.1349080733032724
         ],
         "xaxis": "x",
         "y": [
          -43.125,
          -43.125,
          -142.1875,
          -142.1875
         ],
         "yaxis": "y"
        },
        {
         "hoverinfo": "text",
         "hovertext": [
          "happy_long_want_break_day",
          "forest_nice_rock_cool_voice",
          "interesting_happy_long_100_want",
          "touch_body_delay_scene_image",
          "quickly_difference_happen_different_drop",
          "focus_eye_myself_body_close",
          "touch_body_delay_image_scene",
          "body_myself_focus_eye_touch",
          "strange_weird_scary_funny_feeling",
          "forest_nice_relax_want_good"
         ],
         "marker": {
          "color": "black"
         },
         "mode": "markers",
         "showlegend": false,
         "type": "scatter",
         "x": [
          0.9618191367345508,
          0.8927078799463158,
          1.0130596446145803,
          0.8505716680037488,
          0.9732839818500846,
          0.8150419816041249,
          1.0008257397334754,
          1.0227390647021102,
          0.650957921214836,
          1.0802151226128958
         ],
         "y": [
          -10,
          -52.5,
          -20,
          -140,
          -120,
          -172.5,
          -133.75,
          -158.75,
          -100,
          -43.125
         ]
        },
        {
         "hoverinfo": "text",
         "hovertext": [
          "interesting_100_10_75_probable",
          "nice_voice_cool_easy_absolutely",
          "relax_fall_sleep_asleep_calm",
          "forest_relax_nice_fall_sleep",
          "touch_body_delay_image_scene",
          "focus_myself_body_reality_lot",
          "myself_focus_eye_body_close",
          "color_change_notice_yellow_small",
          "body_myself_focus_eye_touch",
          "body_myself_focus_eye_touch"
         ],
         "marker": {
          "color": "black"
         },
         "mode": "markers",
         "showlegend": false,
         "type": "scatter",
         "x": [
          1,
          0.8688067370398798,
          0.8763878786791615,
          0.9737585242983664,
          0.9138507163667218,
          0.6077576211558535,
          0.9600797170167126,
          0.8631872575491197,
          1.071226597813912,
          1.1349080733032724
         ],
         "y": [
          -30,
          -60,
          -80,
          -66.25,
          -147.5,
          -180,
          -183.75,
          -210,
          -184.375,
          -142.1875
         ]
        }
       ],
       "layout": {
        "autosize": false,
        "height": 530,
        "hoverlabel": {
         "bgcolor": "white",
         "font": {
          "family": "Rockwell",
          "size": 16
         }
        },
        "hovermode": "closest",
        "plot_bgcolor": "#ECEFF1",
        "showlegend": false,
        "template": {
         "data": {
          "bar": [
           {
            "error_x": {
             "color": "#2a3f5f"
            },
            "error_y": {
             "color": "#2a3f5f"
            },
            "marker": {
             "line": {
              "color": "white",
              "width": 0.5
             },
             "pattern": {
              "fillmode": "overlay",
              "size": 10,
              "solidity": 0.2
             }
            },
            "type": "bar"
           }
          ],
          "barpolar": [
           {
            "marker": {
             "line": {
              "color": "white",
              "width": 0.5
             },
             "pattern": {
              "fillmode": "overlay",
              "size": 10,
              "solidity": 0.2
             }
            },
            "type": "barpolar"
           }
          ],
          "carpet": [
           {
            "aaxis": {
             "endlinecolor": "#2a3f5f",
             "gridcolor": "#C8D4E3",
             "linecolor": "#C8D4E3",
             "minorgridcolor": "#C8D4E3",
             "startlinecolor": "#2a3f5f"
            },
            "baxis": {
             "endlinecolor": "#2a3f5f",
             "gridcolor": "#C8D4E3",
             "linecolor": "#C8D4E3",
             "minorgridcolor": "#C8D4E3",
             "startlinecolor": "#2a3f5f"
            },
            "type": "carpet"
           }
          ],
          "choropleth": [
           {
            "colorbar": {
             "outlinewidth": 0,
             "ticks": ""
            },
            "type": "choropleth"
           }
          ],
          "contour": [
           {
            "colorbar": {
             "outlinewidth": 0,
             "ticks": ""
            },
            "colorscale": [
             [
              0,
              "#0d0887"
             ],
             [
              0.1111111111111111,
              "#46039f"
             ],
             [
              0.2222222222222222,
              "#7201a8"
             ],
             [
              0.3333333333333333,
              "#9c179e"
             ],
             [
              0.4444444444444444,
              "#bd3786"
             ],
             [
              0.5555555555555556,
              "#d8576b"
             ],
             [
              0.6666666666666666,
              "#ed7953"
             ],
             [
              0.7777777777777778,
              "#fb9f3a"
             ],
             [
              0.8888888888888888,
              "#fdca26"
             ],
             [
              1,
              "#f0f921"
             ]
            ],
            "type": "contour"
           }
          ],
          "contourcarpet": [
           {
            "colorbar": {
             "outlinewidth": 0,
             "ticks": ""
            },
            "type": "contourcarpet"
           }
          ],
          "heatmap": [
           {
            "colorbar": {
             "outlinewidth": 0,
             "ticks": ""
            },
            "colorscale": [
             [
              0,
              "#0d0887"
             ],
             [
              0.1111111111111111,
              "#46039f"
             ],
             [
              0.2222222222222222,
              "#7201a8"
             ],
             [
              0.3333333333333333,
              "#9c179e"
             ],
             [
              0.4444444444444444,
              "#bd3786"
             ],
             [
              0.5555555555555556,
              "#d8576b"
             ],
             [
              0.6666666666666666,
              "#ed7953"
             ],
             [
              0.7777777777777778,
              "#fb9f3a"
             ],
             [
              0.8888888888888888,
              "#fdca26"
             ],
             [
              1,
              "#f0f921"
             ]
            ],
            "type": "heatmap"
           }
          ],
          "heatmapgl": [
           {
            "colorbar": {
             "outlinewidth": 0,
             "ticks": ""
            },
            "colorscale": [
             [
              0,
              "#0d0887"
             ],
             [
              0.1111111111111111,
              "#46039f"
             ],
             [
              0.2222222222222222,
              "#7201a8"
             ],
             [
              0.3333333333333333,
              "#9c179e"
             ],
             [
              0.4444444444444444,
              "#bd3786"
             ],
             [
              0.5555555555555556,
              "#d8576b"
             ],
             [
              0.6666666666666666,
              "#ed7953"
             ],
             [
              0.7777777777777778,
              "#fb9f3a"
             ],
             [
              0.8888888888888888,
              "#fdca26"
             ],
             [
              1,
              "#f0f921"
             ]
            ],
            "type": "heatmapgl"
           }
          ],
          "histogram": [
           {
            "marker": {
             "pattern": {
              "fillmode": "overlay",
              "size": 10,
              "solidity": 0.2
             }
            },
            "type": "histogram"
           }
          ],
          "histogram2d": [
           {
            "colorbar": {
             "outlinewidth": 0,
             "ticks": ""
            },
            "colorscale": [
             [
              0,
              "#0d0887"
             ],
             [
              0.1111111111111111,
              "#46039f"
             ],
             [
              0.2222222222222222,
              "#7201a8"
             ],
             [
              0.3333333333333333,
              "#9c179e"
             ],
             [
              0.4444444444444444,
              "#bd3786"
             ],
             [
              0.5555555555555556,
              "#d8576b"
             ],
             [
              0.6666666666666666,
              "#ed7953"
             ],
             [
              0.7777777777777778,
              "#fb9f3a"
             ],
             [
              0.8888888888888888,
              "#fdca26"
             ],
             [
              1,
              "#f0f921"
             ]
            ],
            "type": "histogram2d"
           }
          ],
          "histogram2dcontour": [
           {
            "colorbar": {
             "outlinewidth": 0,
             "ticks": ""
            },
            "colorscale": [
             [
              0,
              "#0d0887"
             ],
             [
              0.1111111111111111,
              "#46039f"
             ],
             [
              0.2222222222222222,
              "#7201a8"
             ],
             [
              0.3333333333333333,
              "#9c179e"
             ],
             [
              0.4444444444444444,
              "#bd3786"
             ],
             [
              0.5555555555555556,
              "#d8576b"
             ],
             [
              0.6666666666666666,
              "#ed7953"
             ],
             [
              0.7777777777777778,
              "#fb9f3a"
             ],
             [
              0.8888888888888888,
              "#fdca26"
             ],
             [
              1,
              "#f0f921"
             ]
            ],
            "type": "histogram2dcontour"
           }
          ],
          "mesh3d": [
           {
            "colorbar": {
             "outlinewidth": 0,
             "ticks": ""
            },
            "type": "mesh3d"
           }
          ],
          "parcoords": [
           {
            "line": {
             "colorbar": {
              "outlinewidth": 0,
              "ticks": ""
             }
            },
            "type": "parcoords"
           }
          ],
          "pie": [
           {
            "automargin": true,
            "type": "pie"
           }
          ],
          "scatter": [
           {
            "fillpattern": {
             "fillmode": "overlay",
             "size": 10,
             "solidity": 0.2
            },
            "type": "scatter"
           }
          ],
          "scatter3d": [
           {
            "line": {
             "colorbar": {
              "outlinewidth": 0,
              "ticks": ""
             }
            },
            "marker": {
             "colorbar": {
              "outlinewidth": 0,
              "ticks": ""
             }
            },
            "type": "scatter3d"
           }
          ],
          "scattercarpet": [
           {
            "marker": {
             "colorbar": {
              "outlinewidth": 0,
              "ticks": ""
             }
            },
            "type": "scattercarpet"
           }
          ],
          "scattergeo": [
           {
            "marker": {
             "colorbar": {
              "outlinewidth": 0,
              "ticks": ""
             }
            },
            "type": "scattergeo"
           }
          ],
          "scattergl": [
           {
            "marker": {
             "colorbar": {
              "outlinewidth": 0,
              "ticks": ""
             }
            },
            "type": "scattergl"
           }
          ],
          "scattermapbox": [
           {
            "marker": {
             "colorbar": {
              "outlinewidth": 0,
              "ticks": ""
             }
            },
            "type": "scattermapbox"
           }
          ],
          "scatterpolar": [
           {
            "marker": {
             "colorbar": {
              "outlinewidth": 0,
              "ticks": ""
             }
            },
            "type": "scatterpolar"
           }
          ],
          "scatterpolargl": [
           {
            "marker": {
             "colorbar": {
              "outlinewidth": 0,
              "ticks": ""
             }
            },
            "type": "scatterpolargl"
           }
          ],
          "scatterternary": [
           {
            "marker": {
             "colorbar": {
              "outlinewidth": 0,
              "ticks": ""
             }
            },
            "type": "scatterternary"
           }
          ],
          "surface": [
           {
            "colorbar": {
             "outlinewidth": 0,
             "ticks": ""
            },
            "colorscale": [
             [
              0,
              "#0d0887"
             ],
             [
              0.1111111111111111,
              "#46039f"
             ],
             [
              0.2222222222222222,
              "#7201a8"
             ],
             [
              0.3333333333333333,
              "#9c179e"
             ],
             [
              0.4444444444444444,
              "#bd3786"
             ],
             [
              0.5555555555555556,
              "#d8576b"
             ],
             [
              0.6666666666666666,
              "#ed7953"
             ],
             [
              0.7777777777777778,
              "#fb9f3a"
             ],
             [
              0.8888888888888888,
              "#fdca26"
             ],
             [
              1,
              "#f0f921"
             ]
            ],
            "type": "surface"
           }
          ],
          "table": [
           {
            "cells": {
             "fill": {
              "color": "#EBF0F8"
             },
             "line": {
              "color": "white"
             }
            },
            "header": {
             "fill": {
              "color": "#C8D4E3"
             },
             "line": {
              "color": "white"
             }
            },
            "type": "table"
           }
          ]
         },
         "layout": {
          "annotationdefaults": {
           "arrowcolor": "#2a3f5f",
           "arrowhead": 0,
           "arrowwidth": 1
          },
          "autotypenumbers": "strict",
          "coloraxis": {
           "colorbar": {
            "outlinewidth": 0,
            "ticks": ""
           }
          },
          "colorscale": {
           "diverging": [
            [
             0,
             "#8e0152"
            ],
            [
             0.1,
             "#c51b7d"
            ],
            [
             0.2,
             "#de77ae"
            ],
            [
             0.3,
             "#f1b6da"
            ],
            [
             0.4,
             "#fde0ef"
            ],
            [
             0.5,
             "#f7f7f7"
            ],
            [
             0.6,
             "#e6f5d0"
            ],
            [
             0.7,
             "#b8e186"
            ],
            [
             0.8,
             "#7fbc41"
            ],
            [
             0.9,
             "#4d9221"
            ],
            [
             1,
             "#276419"
            ]
           ],
           "sequential": [
            [
             0,
             "#0d0887"
            ],
            [
             0.1111111111111111,
             "#46039f"
            ],
            [
             0.2222222222222222,
             "#7201a8"
            ],
            [
             0.3333333333333333,
             "#9c179e"
            ],
            [
             0.4444444444444444,
             "#bd3786"
            ],
            [
             0.5555555555555556,
             "#d8576b"
            ],
            [
             0.6666666666666666,
             "#ed7953"
            ],
            [
             0.7777777777777778,
             "#fb9f3a"
            ],
            [
             0.8888888888888888,
             "#fdca26"
            ],
            [
             1,
             "#f0f921"
            ]
           ],
           "sequentialminus": [
            [
             0,
             "#0d0887"
            ],
            [
             0.1111111111111111,
             "#46039f"
            ],
            [
             0.2222222222222222,
             "#7201a8"
            ],
            [
             0.3333333333333333,
             "#9c179e"
            ],
            [
             0.4444444444444444,
             "#bd3786"
            ],
            [
             0.5555555555555556,
             "#d8576b"
            ],
            [
             0.6666666666666666,
             "#ed7953"
            ],
            [
             0.7777777777777778,
             "#fb9f3a"
            ],
            [
             0.8888888888888888,
             "#fdca26"
            ],
            [
             1,
             "#f0f921"
            ]
           ]
          },
          "colorway": [
           "#636efa",
           "#EF553B",
           "#00cc96",
           "#ab63fa",
           "#FFA15A",
           "#19d3f3",
           "#FF6692",
           "#B6E880",
           "#FF97FF",
           "#FECB52"
          ],
          "font": {
           "color": "#2a3f5f"
          },
          "geo": {
           "bgcolor": "white",
           "lakecolor": "white",
           "landcolor": "white",
           "showlakes": true,
           "showland": true,
           "subunitcolor": "#C8D4E3"
          },
          "hoverlabel": {
           "align": "left"
          },
          "hovermode": "closest",
          "mapbox": {
           "style": "light"
          },
          "paper_bgcolor": "white",
          "plot_bgcolor": "white",
          "polar": {
           "angularaxis": {
            "gridcolor": "#EBF0F8",
            "linecolor": "#EBF0F8",
            "ticks": ""
           },
           "bgcolor": "white",
           "radialaxis": {
            "gridcolor": "#EBF0F8",
            "linecolor": "#EBF0F8",
            "ticks": ""
           }
          },
          "scene": {
           "xaxis": {
            "backgroundcolor": "white",
            "gridcolor": "#DFE8F3",
            "gridwidth": 2,
            "linecolor": "#EBF0F8",
            "showbackground": true,
            "ticks": "",
            "zerolinecolor": "#EBF0F8"
           },
           "yaxis": {
            "backgroundcolor": "white",
            "gridcolor": "#DFE8F3",
            "gridwidth": 2,
            "linecolor": "#EBF0F8",
            "showbackground": true,
            "ticks": "",
            "zerolinecolor": "#EBF0F8"
           },
           "zaxis": {
            "backgroundcolor": "white",
            "gridcolor": "#DFE8F3",
            "gridwidth": 2,
            "linecolor": "#EBF0F8",
            "showbackground": true,
            "ticks": "",
            "zerolinecolor": "#EBF0F8"
           }
          },
          "shapedefaults": {
           "line": {
            "color": "#2a3f5f"
           }
          },
          "ternary": {
           "aaxis": {
            "gridcolor": "#DFE8F3",
            "linecolor": "#A2B1C6",
            "ticks": ""
           },
           "baxis": {
            "gridcolor": "#DFE8F3",
            "linecolor": "#A2B1C6",
            "ticks": ""
           },
           "bgcolor": "white",
           "caxis": {
            "gridcolor": "#DFE8F3",
            "linecolor": "#A2B1C6",
            "ticks": ""
           }
          },
          "title": {
           "x": 0.05
          },
          "xaxis": {
           "automargin": true,
           "gridcolor": "#EBF0F8",
           "linecolor": "#EBF0F8",
           "ticks": "",
           "title": {
            "standoff": 15
           },
           "zerolinecolor": "#EBF0F8",
           "zerolinewidth": 2
          },
          "yaxis": {
           "automargin": true,
           "gridcolor": "#EBF0F8",
           "linecolor": "#EBF0F8",
           "ticks": "",
           "title": {
            "standoff": 15
           },
           "zerolinecolor": "#EBF0F8",
           "zerolinewidth": 2
          }
         }
        },
        "title": {
         "font": {
          "color": "Black",
          "size": 22
         },
         "text": "<b>Hierarchical Clustering</b>",
         "x": 0.5,
         "xanchor": "center",
         "yanchor": "top"
        },
        "width": 1000,
        "xaxis": {
         "mirror": "allticks",
         "rangemode": "tozero",
         "showgrid": false,
         "showline": true,
         "showticklabels": true,
         "ticks": "outside",
         "type": "linear",
         "zeroline": false
        },
        "yaxis": {
         "mirror": "allticks",
         "range": [
          -220,
          0
         ],
         "rangemode": "tozero",
         "showgrid": false,
         "showline": true,
         "showticklabels": true,
         "tickmode": "array",
         "ticks": "outside",
         "ticktext": [
          "18_happy_long_day",
          "9_want_follow_fell",
          "16_100_10_80",
          "17_interesting_publish_prob...",
          "6_forest_rock_tree",
          "8_voice_platform_rock",
          "4_easy_absolutely_nice",
          "3_calm_relax_relief",
          "14_fall_sleep_asleep",
          "10_strange_weird_funny",
          "15_strange_scary_feeling",
          "20_quickly_happen_drop",
          "21_difference_different_fam...",
          "2_body_heavy_light",
          "5_touch_delay_scene",
          "19_pixel_image_pixelized",
          "7_eye_open_close",
          "1_focus_leg_eye",
          "0_myself_body_reality",
          "12_myself_recognize_avatar",
          "13_notice_change_small",
          "11_color_yellow_change"
         ],
         "tickvals": [
          -5,
          -15,
          -25,
          -35,
          -45,
          -55,
          -65,
          -75,
          -85,
          -95,
          -105,
          -115,
          -125,
          -135,
          -145,
          -155,
          -165,
          -175,
          -185,
          -195,
          -205,
          -215
         ],
         "type": "linear",
         "zeroline": false
        }
       }
      }
     },
     "metadata": {},
     "output_type": "display_data"
    }
   ],
   "source": [
    "hierarchical_topics = topic_model.hierarchical_topics(docs)\n",
    "topic_model.visualize_hierarchy(hierarchical_topics=hierarchical_topics)"
   ]
  },
  {
   "cell_type": "code",
   "execution_count": 215,
   "metadata": {},
   "outputs": [],
   "source": [
    "df['one_topic'] = topics\n",
    "topic_name_to_id = dict(zip(topic_model.get_topic_info().Topic, topic_model.get_topic_info().Name))\n",
    "df['one_topic_name'] = df['one_topic'].map(topic_name_to_id)\n",
    "\n",
    "df.to_csv(\"df_topic_single.csv\", index = False)"
   ]
  },
  {
   "cell_type": "markdown",
   "metadata": {},
   "source": [
    "# Topic Distribution (More than one topic per docs) \n",
    "- To reduce the numbers of outliers and avoid False Positive (Interesting when looking at one specif topic)"
   ]
  },
  {
   "cell_type": "markdown",
   "metadata": {},
   "source": [
    "### Look similarities"
   ]
  },
  {
   "cell_type": "code",
   "execution_count": 216,
   "metadata": {},
   "outputs": [
    {
     "data": {
      "text/html": [
       "<div>\n",
       "<style scoped>\n",
       "    .dataframe tbody tr th:only-of-type {\n",
       "        vertical-align: middle;\n",
       "    }\n",
       "\n",
       "    .dataframe tbody tr th {\n",
       "        vertical-align: top;\n",
       "    }\n",
       "\n",
       "    .dataframe thead th {\n",
       "        text-align: right;\n",
       "    }\n",
       "</style>\n",
       "<table border=\"1\" class=\"dataframe\">\n",
       "  <thead>\n",
       "    <tr style=\"text-align: right;\">\n",
       "      <th></th>\n",
       "      <th>topic1</th>\n",
       "      <th>topic2</th>\n",
       "      <th>distance</th>\n",
       "    </tr>\n",
       "  </thead>\n",
       "  <tbody>\n",
       "    <tr>\n",
       "      <th>39</th>\n",
       "      <td>0_myself_body_reality_virtual</td>\n",
       "      <td>15_strange_scary_feeling_discomfort</td>\n",
       "      <td>0.734466</td>\n",
       "    </tr>\n",
       "    <tr>\n",
       "      <th>25</th>\n",
       "      <td>0_myself_body_reality_virtual</td>\n",
       "      <td>1_focus_leg_eye_distract</td>\n",
       "      <td>0.721013</td>\n",
       "    </tr>\n",
       "    <tr>\n",
       "      <th>349</th>\n",
       "      <td>14_fall_sleep_asleep_sleepy</td>\n",
       "      <td>3_calm_relax_relief_stress</td>\n",
       "      <td>0.688762</td>\n",
       "    </tr>\n",
       "    <tr>\n",
       "      <th>32</th>\n",
       "      <td>0_myself_body_reality_virtual</td>\n",
       "      <td>8_voice_platform_rock_space</td>\n",
       "      <td>0.619530</td>\n",
       "    </tr>\n",
       "    <tr>\n",
       "      <th>54</th>\n",
       "      <td>1_focus_leg_eye_distract</td>\n",
       "      <td>7_eye_open_close_condition</td>\n",
       "      <td>0.618645</td>\n",
       "    </tr>\n",
       "    <tr>\n",
       "      <th>493</th>\n",
       "      <td>20_quickly_happen_drop_dealaye</td>\n",
       "      <td>9_want_follow_fell_resistance</td>\n",
       "      <td>0.586680</td>\n",
       "    </tr>\n",
       "    <tr>\n",
       "      <th>371</th>\n",
       "      <td>15_strange_scary_feeling_discomfort</td>\n",
       "      <td>2_body_heavy_light_come</td>\n",
       "      <td>0.580514</td>\n",
       "    </tr>\n",
       "    <tr>\n",
       "      <th>271</th>\n",
       "      <td>10_strange_weird_funny_creepy</td>\n",
       "      <td>17_interesting_publish_probable_knock</td>\n",
       "      <td>0.576279</td>\n",
       "    </tr>\n",
       "    <tr>\n",
       "      <th>29</th>\n",
       "      <td>0_myself_body_reality_virtual</td>\n",
       "      <td>5_touch_delay_scene_image</td>\n",
       "      <td>0.560294</td>\n",
       "    </tr>\n",
       "    <tr>\n",
       "      <th>458</th>\n",
       "      <td>18_happy_long_day_mental</td>\n",
       "      <td>20_quickly_happen_drop_dealaye</td>\n",
       "      <td>0.550646</td>\n",
       "    </tr>\n",
       "    <tr>\n",
       "      <th>364</th>\n",
       "      <td>14_fall_sleep_asleep_sleepy</td>\n",
       "      <td>18_happy_long_day_mental</td>\n",
       "      <td>0.541630</td>\n",
       "    </tr>\n",
       "    <tr>\n",
       "      <th>441</th>\n",
       "      <td>18_happy_long_day_mental</td>\n",
       "      <td>3_calm_relax_relief_stress</td>\n",
       "      <td>0.535248</td>\n",
       "    </tr>\n",
       "    <tr>\n",
       "      <th>125</th>\n",
       "      <td>4_easy_absolutely_nice_good</td>\n",
       "      <td>9_want_follow_fell_resistance</td>\n",
       "      <td>0.528293</td>\n",
       "    </tr>\n",
       "    <tr>\n",
       "      <th>442</th>\n",
       "      <td>18_happy_long_day_mental</td>\n",
       "      <td>4_easy_absolutely_nice_good</td>\n",
       "      <td>0.526498</td>\n",
       "    </tr>\n",
       "    <tr>\n",
       "      <th>419</th>\n",
       "      <td>17_interesting_publish_probable_knock</td>\n",
       "      <td>4_easy_absolutely_nice_good</td>\n",
       "      <td>0.524879</td>\n",
       "    </tr>\n",
       "    <tr>\n",
       "      <th>26</th>\n",
       "      <td>0_myself_body_reality_virtual</td>\n",
       "      <td>2_body_heavy_light_come</td>\n",
       "      <td>0.523018</td>\n",
       "    </tr>\n",
       "    <tr>\n",
       "      <th>374</th>\n",
       "      <td>15_strange_scary_feeling_discomfort</td>\n",
       "      <td>5_touch_delay_scene_image</td>\n",
       "      <td>0.522825</td>\n",
       "    </tr>\n",
       "    <tr>\n",
       "      <th>269</th>\n",
       "      <td>10_strange_weird_funny_creepy</td>\n",
       "      <td>15_strange_scary_feeling_discomfort</td>\n",
       "      <td>0.516505</td>\n",
       "    </tr>\n",
       "    <tr>\n",
       "      <th>217</th>\n",
       "      <td>8_voice_platform_rock_space</td>\n",
       "      <td>9_want_follow_fell_resistance</td>\n",
       "      <td>0.515265</td>\n",
       "    </tr>\n",
       "    <tr>\n",
       "      <th>447</th>\n",
       "      <td>18_happy_long_day_mental</td>\n",
       "      <td>9_want_follow_fell_resistance</td>\n",
       "      <td>0.513178</td>\n",
       "    </tr>\n",
       "  </tbody>\n",
       "</table>\n",
       "</div>"
      ],
      "text/plain": [
       "                                    topic1  \\\n",
       "39           0_myself_body_reality_virtual   \n",
       "25           0_myself_body_reality_virtual   \n",
       "349            14_fall_sleep_asleep_sleepy   \n",
       "32           0_myself_body_reality_virtual   \n",
       "54                1_focus_leg_eye_distract   \n",
       "493         20_quickly_happen_drop_dealaye   \n",
       "371    15_strange_scary_feeling_discomfort   \n",
       "271          10_strange_weird_funny_creepy   \n",
       "29           0_myself_body_reality_virtual   \n",
       "458               18_happy_long_day_mental   \n",
       "364            14_fall_sleep_asleep_sleepy   \n",
       "441               18_happy_long_day_mental   \n",
       "125            4_easy_absolutely_nice_good   \n",
       "442               18_happy_long_day_mental   \n",
       "419  17_interesting_publish_probable_knock   \n",
       "26           0_myself_body_reality_virtual   \n",
       "374    15_strange_scary_feeling_discomfort   \n",
       "269          10_strange_weird_funny_creepy   \n",
       "217            8_voice_platform_rock_space   \n",
       "447               18_happy_long_day_mental   \n",
       "\n",
       "                                    topic2  distance  \n",
       "39     15_strange_scary_feeling_discomfort  0.734466  \n",
       "25                1_focus_leg_eye_distract  0.721013  \n",
       "349             3_calm_relax_relief_stress  0.688762  \n",
       "32             8_voice_platform_rock_space  0.619530  \n",
       "54              7_eye_open_close_condition  0.618645  \n",
       "493          9_want_follow_fell_resistance  0.586680  \n",
       "371                2_body_heavy_light_come  0.580514  \n",
       "271  17_interesting_publish_probable_knock  0.576279  \n",
       "29               5_touch_delay_scene_image  0.560294  \n",
       "458         20_quickly_happen_drop_dealaye  0.550646  \n",
       "364               18_happy_long_day_mental  0.541630  \n",
       "441             3_calm_relax_relief_stress  0.535248  \n",
       "125          9_want_follow_fell_resistance  0.528293  \n",
       "442            4_easy_absolutely_nice_good  0.526498  \n",
       "419            4_easy_absolutely_nice_good  0.524879  \n",
       "26                 2_body_heavy_light_come  0.523018  \n",
       "374              5_touch_delay_scene_image  0.522825  \n",
       "269    15_strange_scary_feeling_discomfort  0.516505  \n",
       "217          9_want_follow_fell_resistance  0.515265  \n",
       "447          9_want_follow_fell_resistance  0.513178  "
      ]
     },
     "execution_count": 216,
     "metadata": {},
     "output_type": "execute_result"
    }
   ],
   "source": [
    "from sklearn.metrics.pairwise import cosine_similarity\n",
    "import numpy as np \n",
    "\n",
    "distance_matrix = cosine_similarity(np.array(topic_model.topic_embeddings_))\n",
    "dist_df = pd.DataFrame(distance_matrix, columns=topic_model.topic_labels_.values(), \n",
    "                       index=topic_model.topic_labels_.values())\n",
    "\n",
    "tmp = []\n",
    "for rec in dist_df.reset_index().to_dict('records'):\n",
    "    t1 = rec['index']\n",
    "    for t2 in rec:\n",
    "        if t2 == 'index': \n",
    "            continue\n",
    "        tmp.append(\n",
    "            {\n",
    "                'topic1': t1, \n",
    "                'topic2': t2, \n",
    "                'distance': rec[t2]\n",
    "            }\n",
    "        )\n",
    "\n",
    "pair_dist_df = pd.DataFrame(tmp)\n",
    "\n",
    "pair_dist_df = pair_dist_df[(pair_dist_df.topic1.map(\n",
    "      lambda x: not x.startswith('-1'))) & \n",
    "            (pair_dist_df.topic2.map(lambda x: not x.startswith('-1')))]\n",
    "pair_dist_df = pair_dist_df[pair_dist_df.topic1 < pair_dist_df.topic2]\n",
    "pair_dist_df.sort_values('distance', ascending = False).head(20)"
   ]
  },
  {
   "cell_type": "markdown",
   "metadata": {},
   "source": [
    "## Multiples topics"
   ]
  },
  {
   "cell_type": "code",
   "execution_count": 217,
   "metadata": {},
   "outputs": [
    {
     "name": "stderr",
     "output_type": "stream",
     "text": [
      "100%|██████████| 1/1 [00:00<00:00,  7.11it/s]\n"
     ]
    }
   ],
   "source": [
    "topic_distr, topic_token_distr = topic_model.approximate_distribution(\n",
    "      docs, window = 5, calculate_tokens=True)"
   ]
  },
  {
   "cell_type": "code",
   "execution_count": 218,
   "metadata": {},
   "outputs": [
    {
     "name": "stderr",
     "output_type": "stream",
     "text": [
      "100%|██████████| 350/350 [00:05<00:00, 63.19it/s] \n"
     ]
    },
    {
     "data": {
      "application/vnd.plotly.v1+json": {
       "config": {
        "plotlyServerURL": "https://plot.ly"
       },
       "data": [
        {
         "fillpattern": {
          "shape": ""
         },
         "hovertemplate": "number of topics=0<br>threshold=%{x}<br>share of reviews, %=%{y}<extra></extra>",
         "legendgroup": "0",
         "line": {
          "color": "rgb(255,255,217)"
         },
         "marker": {
          "symbol": "circle"
         },
         "mode": "lines",
         "name": "0",
         "orientation": "v",
         "showlegend": true,
         "stackgroup": "1",
         "type": "scatter",
         "x": [
          0,
          0.001,
          0.002,
          0.003,
          0.004,
          0.005,
          0.006,
          0.007,
          0.008,
          0.009000000000000001,
          0.01,
          0.011,
          0.012,
          0.013000000000000001,
          0.014,
          0.015,
          0.016,
          0.017,
          0.018000000000000002,
          0.019,
          0.02,
          0.021,
          0.022,
          0.023,
          0.024,
          0.025,
          0.026000000000000002,
          0.027,
          0.028,
          0.029,
          0.03,
          0.031,
          0.032,
          0.033,
          0.034,
          0.035,
          0.036000000000000004,
          0.037,
          0.038,
          0.039,
          0.04,
          0.041,
          0.042,
          0.043000000000000003,
          0.044,
          0.045,
          0.046,
          0.047,
          0.048,
          0.049,
          0.05,
          0.051000000000000004,
          0.052000000000000005,
          0.053,
          0.054,
          0.055,
          0.056,
          0.057,
          0.058,
          0.059000000000000004,
          0.06,
          0.061,
          0.062,
          0.063,
          0.064,
          0.065,
          0.066,
          0.067,
          0.068,
          0.069,
          0.07,
          0.07100000000000001,
          0.07200000000000001,
          0.073,
          0.074,
          0.075,
          0.076,
          0.077,
          0.078,
          0.079,
          0.08,
          0.081,
          0.082,
          0.083,
          0.084,
          0.085,
          0.08600000000000001,
          0.08700000000000001,
          0.088,
          0.089,
          0.09,
          0.091,
          0.092,
          0.093,
          0.094,
          0.095,
          0.096,
          0.097,
          0.098,
          0.099,
          0.1,
          0.101,
          0.10200000000000001,
          0.10300000000000001,
          0.10400000000000001,
          0.105,
          0.106,
          0.107,
          0.108,
          0.109,
          0.11,
          0.111,
          0.112,
          0.113,
          0.114,
          0.115,
          0.116,
          0.117,
          0.11800000000000001,
          0.11900000000000001,
          0.12,
          0.121,
          0.122,
          0.123,
          0.124,
          0.125,
          0.126,
          0.127,
          0.128,
          0.129,
          0.13,
          0.131,
          0.132,
          0.133,
          0.134,
          0.135,
          0.136,
          0.137,
          0.138,
          0.139,
          0.14,
          0.14100000000000001,
          0.14200000000000002,
          0.14300000000000002,
          0.14400000000000002,
          0.145,
          0.146,
          0.147,
          0.148,
          0.149,
          0.15,
          0.151,
          0.152,
          0.153,
          0.154,
          0.155,
          0.156,
          0.157,
          0.158,
          0.159,
          0.16,
          0.161,
          0.162,
          0.163,
          0.164,
          0.165,
          0.166,
          0.167,
          0.168,
          0.169,
          0.17,
          0.171,
          0.17200000000000001,
          0.17300000000000001,
          0.17400000000000002,
          0.17500000000000002,
          0.176,
          0.177,
          0.178,
          0.179,
          0.18,
          0.181,
          0.182,
          0.183,
          0.184,
          0.185,
          0.186,
          0.187,
          0.188,
          0.189,
          0.19,
          0.191,
          0.192,
          0.193,
          0.194,
          0.195,
          0.196,
          0.197,
          0.198,
          0.199,
          0.2,
          0.201,
          0.202,
          0.203,
          0.20400000000000001,
          0.20500000000000002,
          0.20600000000000002,
          0.20700000000000002,
          0.20800000000000002,
          0.209,
          0.21,
          0.211,
          0.212,
          0.213,
          0.214,
          0.215,
          0.216,
          0.217,
          0.218,
          0.219,
          0.22,
          0.221,
          0.222,
          0.223,
          0.224,
          0.225,
          0.226,
          0.227,
          0.228,
          0.229,
          0.23,
          0.231,
          0.232,
          0.233,
          0.234,
          0.23500000000000001,
          0.23600000000000002,
          0.23700000000000002,
          0.23800000000000002,
          0.23900000000000002,
          0.24,
          0.241,
          0.242,
          0.243,
          0.244,
          0.245,
          0.246,
          0.247,
          0.248,
          0.249,
          0.25,
          0.251,
          0.252,
          0.253,
          0.254,
          0.255,
          0.256,
          0.257,
          0.258,
          0.259,
          0.26,
          0.261,
          0.262,
          0.263,
          0.264,
          0.265,
          0.266,
          0.267,
          0.268,
          0.269,
          0.27,
          0.271,
          0.272,
          0.273,
          0.274,
          0.275,
          0.276,
          0.277,
          0.278,
          0.279,
          0.28,
          0.281,
          0.28200000000000003,
          0.28300000000000003,
          0.28400000000000003,
          0.28500000000000003,
          0.28600000000000003,
          0.28700000000000003,
          0.28800000000000003,
          0.289,
          0.29,
          0.291,
          0.292,
          0.293,
          0.294,
          0.295,
          0.296,
          0.297,
          0.298,
          0.299,
          0.3,
          0.301,
          0.302,
          0.303,
          0.304,
          0.305,
          0.306,
          0.307,
          0.308,
          0.309,
          0.31,
          0.311,
          0.312,
          0.313,
          0.314,
          0.315,
          0.316,
          0.317,
          0.318,
          0.319,
          0.32,
          0.321,
          0.322,
          0.323,
          0.324,
          0.325,
          0.326,
          0.327,
          0.328,
          0.329,
          0.33,
          0.331,
          0.332,
          0.333,
          0.334,
          0.335,
          0.336,
          0.337,
          0.338,
          0.339,
          0.34,
          0.341,
          0.342,
          0.343,
          0.34400000000000003,
          0.34500000000000003,
          0.34600000000000003,
          0.34700000000000003,
          0.34800000000000003,
          0.34900000000000003
         ],
         "xaxis": "x",
         "y": [
          0,
          10.62874251497006,
          10.62874251497006,
          10.62874251497006,
          10.62874251497006,
          10.62874251497006,
          10.62874251497006,
          10.62874251497006,
          10.62874251497006,
          10.62874251497006,
          10.62874251497006,
          10.62874251497006,
          10.62874251497006,
          10.62874251497006,
          10.62874251497006,
          10.62874251497006,
          10.62874251497006,
          10.62874251497006,
          10.62874251497006,
          10.62874251497006,
          10.62874251497006,
          10.62874251497006,
          10.62874251497006,
          10.62874251497006,
          10.62874251497006,
          10.62874251497006,
          10.62874251497006,
          10.62874251497006,
          10.62874251497006,
          10.62874251497006,
          10.62874251497006,
          10.62874251497006,
          10.62874251497006,
          10.62874251497006,
          10.62874251497006,
          10.62874251497006,
          10.62874251497006,
          10.62874251497006,
          10.62874251497006,
          10.62874251497006,
          10.62874251497006,
          10.62874251497006,
          10.62874251497006,
          10.62874251497006,
          10.62874251497006,
          10.62874251497006,
          10.62874251497006,
          10.62874251497006,
          10.62874251497006,
          10.62874251497006,
          10.62874251497006,
          10.62874251497006,
          10.62874251497006,
          10.62874251497006,
          10.62874251497006,
          10.62874251497006,
          10.62874251497006,
          10.62874251497006,
          10.62874251497006,
          10.62874251497006,
          10.62874251497006,
          10.62874251497006,
          10.62874251497006,
          10.62874251497006,
          10.62874251497006,
          10.62874251497006,
          10.62874251497006,
          10.62874251497006,
          10.62874251497006,
          10.62874251497006,
          10.62874251497006,
          10.62874251497006,
          10.62874251497006,
          10.62874251497006,
          10.62874251497006,
          10.62874251497006,
          10.62874251497006,
          10.62874251497006,
          10.62874251497006,
          10.62874251497006,
          10.62874251497006,
          10.62874251497006,
          10.62874251497006,
          10.62874251497006,
          10.62874251497006,
          10.62874251497006,
          10.62874251497006,
          10.62874251497006,
          10.62874251497006,
          10.62874251497006,
          10.62874251497006,
          10.62874251497006,
          10.62874251497006,
          10.62874251497006,
          10.62874251497006,
          10.62874251497006,
          10.62874251497006,
          10.62874251497006,
          10.62874251497006,
          10.62874251497006,
          10.62874251497006,
          10.62874251497006,
          10.62874251497006,
          10.62874251497006,
          10.62874251497006,
          10.62874251497006,
          10.62874251497006,
          10.62874251497006,
          10.62874251497006,
          10.62874251497006,
          10.62874251497006,
          10.62874251497006,
          10.62874251497006,
          10.62874251497006,
          10.62874251497006,
          10.62874251497006,
          10.62874251497006,
          10.62874251497006,
          10.62874251497006,
          10.62874251497006,
          10.62874251497006,
          10.62874251497006,
          10.62874251497006,
          10.62874251497006,
          10.62874251497006,
          10.62874251497006,
          10.62874251497006,
          10.62874251497006,
          10.62874251497006,
          10.62874251497006,
          10.62874251497006,
          10.62874251497006,
          10.62874251497006,
          10.62874251497006,
          10.62874251497006,
          10.62874251497006,
          10.62874251497006,
          10.62874251497006,
          10.62874251497006,
          10.62874251497006,
          10.62874251497006,
          10.62874251497006,
          10.62874251497006,
          10.62874251497006,
          10.62874251497006,
          10.62874251497006,
          10.62874251497006,
          10.62874251497006,
          10.62874251497006,
          10.62874251497006,
          10.62874251497006,
          10.62874251497006,
          10.62874251497006,
          10.62874251497006,
          10.62874251497006,
          10.62874251497006,
          10.62874251497006,
          10.62874251497006,
          10.62874251497006,
          10.62874251497006,
          10.62874251497006,
          10.62874251497006,
          10.62874251497006,
          10.62874251497006,
          10.62874251497006,
          10.62874251497006,
          10.62874251497006,
          10.62874251497006,
          10.62874251497006,
          10.62874251497006,
          10.62874251497006,
          10.62874251497006,
          10.62874251497006,
          10.62874251497006,
          10.62874251497006,
          10.62874251497006,
          10.62874251497006,
          10.62874251497006,
          10.778443113772456,
          10.778443113772456,
          10.778443113772456,
          10.778443113772456,
          10.778443113772456,
          10.778443113772456,
          10.778443113772456,
          10.778443113772456,
          10.778443113772456,
          10.778443113772456,
          10.778443113772456,
          10.778443113772456,
          10.778443113772456,
          10.778443113772456,
          10.778443113772456,
          10.778443113772456,
          10.778443113772456,
          10.928143712574851,
          10.928143712574851,
          10.928143712574851,
          10.928143712574851,
          10.928143712574851,
          11.077844311377245,
          11.077844311377245,
          11.077844311377245,
          11.077844311377245,
          11.077844311377245,
          11.077844311377245,
          11.077844311377245,
          11.22754491017964,
          11.22754491017964,
          11.22754491017964,
          11.22754491017964,
          11.22754491017964,
          11.22754491017964,
          11.22754491017964,
          11.22754491017964,
          11.22754491017964,
          11.22754491017964,
          11.22754491017964,
          11.22754491017964,
          11.22754491017964,
          11.22754491017964,
          11.377245508982035,
          11.377245508982035,
          11.377245508982035,
          11.377245508982035,
          11.377245508982035,
          11.377245508982035,
          11.377245508982035,
          11.377245508982035,
          11.377245508982035,
          11.377245508982035,
          11.52694610778443,
          11.52694610778443,
          11.52694610778443,
          11.52694610778443,
          11.52694610778443,
          11.52694610778443,
          11.52694610778443,
          11.52694610778443,
          11.52694610778443,
          11.52694610778443,
          11.676646706586826,
          11.676646706586826,
          11.676646706586826,
          11.676646706586826,
          11.676646706586826,
          11.676646706586826,
          11.676646706586826,
          11.676646706586826,
          11.676646706586826,
          11.676646706586826,
          11.676646706586826,
          11.676646706586826,
          11.676646706586826,
          11.676646706586826,
          11.676646706586826,
          11.676646706586826,
          11.676646706586826,
          12.125748502994012,
          12.125748502994012,
          12.125748502994012,
          12.275449101796408,
          12.275449101796408,
          12.275449101796408,
          12.275449101796408,
          12.275449101796408,
          12.425149700598803,
          12.425149700598803,
          12.425149700598803,
          12.574850299401197,
          12.724550898203592,
          13.023952095808383,
          13.023952095808383,
          13.023952095808383,
          13.023952095808383,
          13.023952095808383,
          13.173652694610778,
          13.47305389221557,
          13.47305389221557,
          13.47305389221557,
          13.47305389221557,
          13.47305389221557,
          13.47305389221557,
          13.622754491017965,
          13.622754491017965,
          13.622754491017965,
          13.622754491017965,
          13.622754491017965,
          13.922155688622755,
          13.922155688622755,
          14.071856287425149,
          14.071856287425149,
          14.221556886227544,
          14.221556886227544,
          14.221556886227544,
          14.37125748502994,
          14.520958083832335,
          14.67065868263473,
          14.820359281437126,
          14.970059880239521,
          15.119760479041917,
          15.119760479041917,
          15.119760479041917,
          15.269461077844312,
          15.269461077844312,
          15.419161676646707,
          15.718562874251496,
          15.868263473053892,
          15.868263473053892,
          16.017964071856287,
          16.017964071856287,
          16.167664670658684,
          16.46706586826347,
          16.61676646706587,
          16.61676646706587,
          16.61676646706587,
          16.61676646706587,
          16.61676646706587,
          16.61676646706587,
          16.61676646706587,
          16.61676646706587,
          16.766467065868262,
          16.766467065868262,
          16.766467065868262,
          17.065868263473053,
          17.21556886227545,
          17.21556886227545,
          17.365269461077844,
          17.664670658682635,
          17.664670658682635,
          17.81437125748503,
          17.81437125748503,
          17.964071856287426,
          17.964071856287426,
          17.964071856287426,
          18.263473053892216,
          18.263473053892216,
          18.562874251497007,
          18.562874251497007,
          18.862275449101798,
          18.862275449101798,
          19.01197604790419,
          19.01197604790419,
          19.01197604790419,
          19.161676646706585,
          19.311377245508982,
          19.311377245508982,
          19.311377245508982,
          19.461077844311376,
          19.461077844311376
         ],
         "yaxis": "y"
        },
        {
         "fillpattern": {
          "shape": ""
         },
         "hovertemplate": "number of topics=1<br>threshold=%{x}<br>share of reviews, %=%{y}<extra></extra>",
         "legendgroup": "1",
         "line": {
          "color": "rgb(127,205,187)"
         },
         "marker": {
          "symbol": "circle"
         },
         "mode": "lines",
         "name": "1",
         "orientation": "v",
         "showlegend": true,
         "stackgroup": "1",
         "type": "scatter",
         "x": [
          0,
          0.001,
          0.002,
          0.003,
          0.004,
          0.005,
          0.006,
          0.007,
          0.008,
          0.009000000000000001,
          0.01,
          0.011,
          0.012,
          0.013000000000000001,
          0.014,
          0.015,
          0.016,
          0.017,
          0.018000000000000002,
          0.019,
          0.02,
          0.021,
          0.022,
          0.023,
          0.024,
          0.025,
          0.026000000000000002,
          0.027,
          0.028,
          0.029,
          0.03,
          0.031,
          0.032,
          0.033,
          0.034,
          0.035,
          0.036000000000000004,
          0.037,
          0.038,
          0.039,
          0.04,
          0.041,
          0.042,
          0.043000000000000003,
          0.044,
          0.045,
          0.046,
          0.047,
          0.048,
          0.049,
          0.05,
          0.051000000000000004,
          0.052000000000000005,
          0.053,
          0.054,
          0.055,
          0.056,
          0.057,
          0.058,
          0.059000000000000004,
          0.06,
          0.061,
          0.062,
          0.063,
          0.064,
          0.065,
          0.066,
          0.067,
          0.068,
          0.069,
          0.07,
          0.07100000000000001,
          0.07200000000000001,
          0.073,
          0.074,
          0.075,
          0.076,
          0.077,
          0.078,
          0.079,
          0.08,
          0.081,
          0.082,
          0.083,
          0.084,
          0.085,
          0.08600000000000001,
          0.08700000000000001,
          0.088,
          0.089,
          0.09,
          0.091,
          0.092,
          0.093,
          0.094,
          0.095,
          0.096,
          0.097,
          0.098,
          0.099,
          0.1,
          0.101,
          0.10200000000000001,
          0.10300000000000001,
          0.10400000000000001,
          0.105,
          0.106,
          0.107,
          0.108,
          0.109,
          0.11,
          0.111,
          0.112,
          0.113,
          0.114,
          0.115,
          0.116,
          0.117,
          0.11800000000000001,
          0.11900000000000001,
          0.12,
          0.121,
          0.122,
          0.123,
          0.124,
          0.125,
          0.126,
          0.127,
          0.128,
          0.129,
          0.13,
          0.131,
          0.132,
          0.133,
          0.134,
          0.135,
          0.136,
          0.137,
          0.138,
          0.139,
          0.14,
          0.14100000000000001,
          0.14200000000000002,
          0.14300000000000002,
          0.14400000000000002,
          0.145,
          0.146,
          0.147,
          0.148,
          0.149,
          0.15,
          0.151,
          0.152,
          0.153,
          0.154,
          0.155,
          0.156,
          0.157,
          0.158,
          0.159,
          0.16,
          0.161,
          0.162,
          0.163,
          0.164,
          0.165,
          0.166,
          0.167,
          0.168,
          0.169,
          0.17,
          0.171,
          0.17200000000000001,
          0.17300000000000001,
          0.17400000000000002,
          0.17500000000000002,
          0.176,
          0.177,
          0.178,
          0.179,
          0.18,
          0.181,
          0.182,
          0.183,
          0.184,
          0.185,
          0.186,
          0.187,
          0.188,
          0.189,
          0.19,
          0.191,
          0.192,
          0.193,
          0.194,
          0.195,
          0.196,
          0.197,
          0.198,
          0.199,
          0.2,
          0.201,
          0.202,
          0.203,
          0.20400000000000001,
          0.20500000000000002,
          0.20600000000000002,
          0.20700000000000002,
          0.20800000000000002,
          0.209,
          0.21,
          0.211,
          0.212,
          0.213,
          0.214,
          0.215,
          0.216,
          0.217,
          0.218,
          0.219,
          0.22,
          0.221,
          0.222,
          0.223,
          0.224,
          0.225,
          0.226,
          0.227,
          0.228,
          0.229,
          0.23,
          0.231,
          0.232,
          0.233,
          0.234,
          0.23500000000000001,
          0.23600000000000002,
          0.23700000000000002,
          0.23800000000000002,
          0.23900000000000002,
          0.24,
          0.241,
          0.242,
          0.243,
          0.244,
          0.245,
          0.246,
          0.247,
          0.248,
          0.249,
          0.25,
          0.251,
          0.252,
          0.253,
          0.254,
          0.255,
          0.256,
          0.257,
          0.258,
          0.259,
          0.26,
          0.261,
          0.262,
          0.263,
          0.264,
          0.265,
          0.266,
          0.267,
          0.268,
          0.269,
          0.27,
          0.271,
          0.272,
          0.273,
          0.274,
          0.275,
          0.276,
          0.277,
          0.278,
          0.279,
          0.28,
          0.281,
          0.28200000000000003,
          0.28300000000000003,
          0.28400000000000003,
          0.28500000000000003,
          0.28600000000000003,
          0.28700000000000003,
          0.28800000000000003,
          0.289,
          0.29,
          0.291,
          0.292,
          0.293,
          0.294,
          0.295,
          0.296,
          0.297,
          0.298,
          0.299,
          0.3,
          0.301,
          0.302,
          0.303,
          0.304,
          0.305,
          0.306,
          0.307,
          0.308,
          0.309,
          0.31,
          0.311,
          0.312,
          0.313,
          0.314,
          0.315,
          0.316,
          0.317,
          0.318,
          0.319,
          0.32,
          0.321,
          0.322,
          0.323,
          0.324,
          0.325,
          0.326,
          0.327,
          0.328,
          0.329,
          0.33,
          0.331,
          0.332,
          0.333,
          0.334,
          0.335,
          0.336,
          0.337,
          0.338,
          0.339,
          0.34,
          0.341,
          0.342,
          0.343,
          0.34400000000000003,
          0.34500000000000003,
          0.34600000000000003,
          0.34700000000000003,
          0.34800000000000003,
          0.34900000000000003
         ],
         "xaxis": "x",
         "y": [
          0,
          32.035928143712574,
          32.035928143712574,
          32.035928143712574,
          32.035928143712574,
          32.035928143712574,
          32.035928143712574,
          32.035928143712574,
          32.035928143712574,
          32.035928143712574,
          32.035928143712574,
          32.035928143712574,
          32.035928143712574,
          32.035928143712574,
          32.035928143712574,
          32.035928143712574,
          32.035928143712574,
          32.035928143712574,
          32.035928143712574,
          32.035928143712574,
          32.035928143712574,
          32.035928143712574,
          32.035928143712574,
          32.035928143712574,
          32.035928143712574,
          32.035928143712574,
          32.035928143712574,
          32.035928143712574,
          32.035928143712574,
          32.035928143712574,
          32.035928143712574,
          32.035928143712574,
          32.035928143712574,
          32.035928143712574,
          32.035928143712574,
          32.035928143712574,
          32.035928143712574,
          32.035928143712574,
          32.035928143712574,
          32.035928143712574,
          32.035928143712574,
          32.035928143712574,
          32.035928143712574,
          32.035928143712574,
          32.035928143712574,
          32.035928143712574,
          32.035928143712574,
          32.035928143712574,
          32.035928143712574,
          32.035928143712574,
          32.035928143712574,
          32.035928143712574,
          32.035928143712574,
          32.035928143712574,
          32.18562874251497,
          32.18562874251497,
          32.33532934131737,
          32.33532934131737,
          32.33532934131737,
          32.33532934131737,
          32.48502994011976,
          32.48502994011976,
          32.48502994011976,
          32.48502994011976,
          32.48502994011976,
          32.48502994011976,
          32.48502994011976,
          32.48502994011976,
          32.48502994011976,
          32.48502994011976,
          32.48502994011976,
          32.48502994011976,
          32.48502994011976,
          32.634730538922156,
          32.634730538922156,
          32.634730538922156,
          32.634730538922156,
          32.634730538922156,
          32.634730538922156,
          32.634730538922156,
          32.634730538922156,
          32.634730538922156,
          32.78443113772455,
          32.93413173652694,
          33.08383233532934,
          33.08383233532934,
          33.23353293413174,
          33.383233532934135,
          33.383233532934135,
          33.532934131736525,
          33.68263473053892,
          33.83233532934132,
          33.83233532934132,
          33.83233532934132,
          33.98203592814371,
          33.98203592814371,
          33.98203592814371,
          33.98203592814371,
          33.98203592814371,
          33.98203592814371,
          33.98203592814371,
          33.98203592814371,
          34.131736526946106,
          34.2814371257485,
          34.2814371257485,
          34.2814371257485,
          34.2814371257485,
          34.2814371257485,
          34.4311377245509,
          34.4311377245509,
          34.58083832335329,
          34.58083832335329,
          34.58083832335329,
          34.58083832335329,
          34.58083832335329,
          34.73053892215569,
          34.73053892215569,
          34.73053892215569,
          34.73053892215569,
          34.73053892215569,
          34.73053892215569,
          34.73053892215569,
          35.02994011976048,
          35.02994011976048,
          35.17964071856287,
          35.47904191616767,
          35.62874251497006,
          35.62874251497006,
          35.778443113772454,
          35.778443113772454,
          35.778443113772454,
          35.778443113772454,
          35.778443113772454,
          36.22754491017964,
          36.377245508982035,
          36.377245508982035,
          36.377245508982035,
          36.52694610778443,
          36.82634730538922,
          36.82634730538922,
          36.82634730538922,
          36.82634730538922,
          36.97604790419162,
          36.97604790419162,
          36.97604790419162,
          37.125748502994014,
          37.4251497005988,
          37.4251497005988,
          37.5748502994012,
          37.5748502994012,
          37.5748502994012,
          37.5748502994012,
          37.874251497005986,
          38.02395209580838,
          38.02395209580838,
          38.02395209580838,
          38.02395209580838,
          38.02395209580838,
          38.02395209580838,
          38.17365269461078,
          38.47305389221557,
          38.622754491017965,
          38.622754491017965,
          38.77245508982036,
          38.92215568862275,
          38.92215568862275,
          39.37125748502994,
          39.67065868263473,
          40.119760479041915,
          40.26946107784431,
          40.41916167664671,
          40.5688622754491,
          40.5688622754491,
          41.01796407185629,
          41.01796407185629,
          41.16766467065868,
          41.31736526946108,
          41.467065868263475,
          41.76646706586826,
          41.91616766467066,
          42.21556886227545,
          42.365269461077844,
          42.365269461077844,
          42.51497005988024,
          42.81437125748503,
          42.81437125748503,
          43.11377245508982,
          43.26347305389221,
          43.26347305389221,
          43.26347305389221,
          43.26347305389221,
          43.712574850299404,
          43.712574850299404,
          44.01197604790419,
          44.16167664670659,
          44.61077844311377,
          44.76047904191617,
          46.8562874251497,
          47.30538922155689,
          47.604790419161674,
          47.75449101796407,
          48.35329341317365,
          48.80239520958084,
          49.10179640718563,
          49.25149700598802,
          49.70059880239521,
          49.70059880239521,
          50.1497005988024,
          50.59880239520958,
          50.59880239520958,
          50.59880239520958,
          50.59880239520958,
          50.89820359281437,
          50.89820359281437,
          51.047904191616766,
          51.19760479041916,
          51.34730538922156,
          51.34730538922156,
          51.64670658682635,
          51.64670658682635,
          51.796407185628745,
          51.946107784431135,
          52.395209580838326,
          52.544910179640716,
          52.544910179640716,
          52.544910179640716,
          52.544910179640716,
          52.69461077844311,
          52.69461077844311,
          53.1437125748503,
          53.44311377245509,
          53.74251497005988,
          54.64071856287425,
          54.790419161676645,
          55.08982035928144,
          55.08982035928144,
          55.23952095808383,
          55.98802395209581,
          56.137724550898206,
          56.137724550898206,
          56.287425149700596,
          56.287425149700596,
          56.43712574850299,
          56.58682634730539,
          57.035928143712574,
          57.18562874251497,
          57.48502994011976,
          58.383233532934135,
          58.532934131736525,
          58.98203592814371,
          59.131736526946106,
          59.2814371257485,
          59.4311377245509,
          59.880239520958085,
          60.32934131736527,
          60.32934131736527,
          60.778443113772454,
          61.07784431137725,
          60.92814371257485,
          61.07784431137725,
          62.125748502994014,
          62.125748502994014,
          62.4251497005988,
          62.724550898203596,
          62.874251497005986,
          63.02395209580838,
          63.32335329341317,
          63.47305389221557,
          63.77245508982036,
          63.92215568862275,
          63.92215568862275,
          63.77245508982036,
          63.77245508982036,
          64.37125748502994,
          64.52095808383234,
          64.82035928143712,
          64.97005988023952,
          64.82035928143712,
          64.97005988023952,
          65.11976047904191,
          65.11976047904191,
          65.26946107784431,
          65.86826347305389,
          65.7185628742515,
          65.86826347305389,
          66.01796407185628,
          66.46706586826348,
          66.91616766467065,
          66.61676646706587,
          66.91616766467065,
          66.91616766467065,
          67.36526946107784,
          67.51497005988024,
          67.66467065868264,
          67.66467065868264,
          67.81437125748504,
          67.96407185628742,
          67.81437125748504,
          67.66467065868264,
          67.81437125748504,
          67.66467065868264,
          67.81437125748504,
          67.96407185628742,
          68.11377245508982,
          68.41317365269461,
          68.26347305389221,
          68.11377245508982,
          68.11377245508982,
          68.11377245508982,
          68.26347305389221,
          68.41317365269461,
          68.41317365269461,
          68.26347305389221,
          68.26347305389221,
          68.26347305389221,
          68.41317365269461,
          69.0119760479042,
          69.16167664670658,
          69.31137724550898,
          69.46107784431138,
          69.61077844311377,
          69.61077844311377,
          69.61077844311377,
          69.76047904191617,
          69.46107784431138,
          69.31137724550898,
          69.31137724550898,
          69.16167664670658,
          69.0119760479042,
          69.16167664670658,
          69.31137724550898,
          69.61077844311377,
          69.46107784431138,
          69.46107784431138,
          70.05988023952096,
          70.05988023952096,
          70.05988023952096,
          69.76047904191617,
          69.76047904191617,
          69.46107784431138,
          69.61077844311377,
          69.46107784431138,
          69.61077844311377,
          69.76047904191617,
          69.76047904191617,
          69.61077844311377,
          69.76047904191617,
          69.76047904191617,
          69.61077844311377,
          69.91017964071857
         ],
         "yaxis": "y"
        },
        {
         "fillpattern": {
          "shape": ""
         },
         "hovertemplate": "number of topics=2<br>threshold=%{x}<br>share of reviews, %=%{y}<extra></extra>",
         "legendgroup": "2",
         "line": {
          "color": "rgb(65,182,196)"
         },
         "marker": {
          "symbol": "circle"
         },
         "mode": "lines",
         "name": "2",
         "orientation": "v",
         "showlegend": true,
         "stackgroup": "1",
         "type": "scatter",
         "x": [
          0,
          0.001,
          0.002,
          0.003,
          0.004,
          0.005,
          0.006,
          0.007,
          0.008,
          0.009000000000000001,
          0.01,
          0.011,
          0.012,
          0.013000000000000001,
          0.014,
          0.015,
          0.016,
          0.017,
          0.018000000000000002,
          0.019,
          0.02,
          0.021,
          0.022,
          0.023,
          0.024,
          0.025,
          0.026000000000000002,
          0.027,
          0.028,
          0.029,
          0.03,
          0.031,
          0.032,
          0.033,
          0.034,
          0.035,
          0.036000000000000004,
          0.037,
          0.038,
          0.039,
          0.04,
          0.041,
          0.042,
          0.043000000000000003,
          0.044,
          0.045,
          0.046,
          0.047,
          0.048,
          0.049,
          0.05,
          0.051000000000000004,
          0.052000000000000005,
          0.053,
          0.054,
          0.055,
          0.056,
          0.057,
          0.058,
          0.059000000000000004,
          0.06,
          0.061,
          0.062,
          0.063,
          0.064,
          0.065,
          0.066,
          0.067,
          0.068,
          0.069,
          0.07,
          0.07100000000000001,
          0.07200000000000001,
          0.073,
          0.074,
          0.075,
          0.076,
          0.077,
          0.078,
          0.079,
          0.08,
          0.081,
          0.082,
          0.083,
          0.084,
          0.085,
          0.08600000000000001,
          0.08700000000000001,
          0.088,
          0.089,
          0.09,
          0.091,
          0.092,
          0.093,
          0.094,
          0.095,
          0.096,
          0.097,
          0.098,
          0.099,
          0.1,
          0.101,
          0.10200000000000001,
          0.10300000000000001,
          0.10400000000000001,
          0.105,
          0.106,
          0.107,
          0.108,
          0.109,
          0.11,
          0.111,
          0.112,
          0.113,
          0.114,
          0.115,
          0.116,
          0.117,
          0.11800000000000001,
          0.11900000000000001,
          0.12,
          0.121,
          0.122,
          0.123,
          0.124,
          0.125,
          0.126,
          0.127,
          0.128,
          0.129,
          0.13,
          0.131,
          0.132,
          0.133,
          0.134,
          0.135,
          0.136,
          0.137,
          0.138,
          0.139,
          0.14,
          0.14100000000000001,
          0.14200000000000002,
          0.14300000000000002,
          0.14400000000000002,
          0.145,
          0.146,
          0.147,
          0.148,
          0.149,
          0.15,
          0.151,
          0.152,
          0.153,
          0.154,
          0.155,
          0.156,
          0.157,
          0.158,
          0.159,
          0.16,
          0.161,
          0.162,
          0.163,
          0.164,
          0.165,
          0.166,
          0.167,
          0.168,
          0.169,
          0.17,
          0.171,
          0.17200000000000001,
          0.17300000000000001,
          0.17400000000000002,
          0.17500000000000002,
          0.176,
          0.177,
          0.178,
          0.179,
          0.18,
          0.181,
          0.182,
          0.183,
          0.184,
          0.185,
          0.186,
          0.187,
          0.188,
          0.189,
          0.19,
          0.191,
          0.192,
          0.193,
          0.194,
          0.195,
          0.196,
          0.197,
          0.198,
          0.199,
          0.2,
          0.201,
          0.202,
          0.203,
          0.20400000000000001,
          0.20500000000000002,
          0.20600000000000002,
          0.20700000000000002,
          0.20800000000000002,
          0.209,
          0.21,
          0.211,
          0.212,
          0.213,
          0.214,
          0.215,
          0.216,
          0.217,
          0.218,
          0.219,
          0.22,
          0.221,
          0.222,
          0.223,
          0.224,
          0.225,
          0.226,
          0.227,
          0.228,
          0.229,
          0.23,
          0.231,
          0.232,
          0.233,
          0.234,
          0.23500000000000001,
          0.23600000000000002,
          0.23700000000000002,
          0.23800000000000002,
          0.23900000000000002,
          0.24,
          0.241,
          0.242,
          0.243,
          0.244,
          0.245,
          0.246,
          0.247,
          0.248,
          0.249,
          0.25,
          0.251,
          0.252,
          0.253,
          0.254,
          0.255,
          0.256,
          0.257,
          0.258,
          0.259,
          0.26,
          0.261,
          0.262,
          0.263,
          0.264,
          0.265,
          0.266,
          0.267,
          0.268,
          0.269,
          0.27,
          0.271,
          0.272,
          0.273,
          0.274,
          0.275,
          0.276,
          0.277,
          0.278,
          0.279,
          0.28,
          0.281,
          0.28200000000000003,
          0.28300000000000003,
          0.28400000000000003,
          0.28500000000000003,
          0.28600000000000003,
          0.28700000000000003,
          0.28800000000000003,
          0.289,
          0.29,
          0.291,
          0.292,
          0.293,
          0.294,
          0.295,
          0.296,
          0.297,
          0.298,
          0.299,
          0.3,
          0.301,
          0.302,
          0.303,
          0.304,
          0.305,
          0.306,
          0.307,
          0.308,
          0.309,
          0.31,
          0.311,
          0.312,
          0.313,
          0.314,
          0.315,
          0.316,
          0.317,
          0.318,
          0.319,
          0.32,
          0.321,
          0.322,
          0.323,
          0.324,
          0.325,
          0.326,
          0.327,
          0.328,
          0.329,
          0.33,
          0.331,
          0.332,
          0.333,
          0.334,
          0.335,
          0.336,
          0.337,
          0.338,
          0.339,
          0.34,
          0.341,
          0.342,
          0.343,
          0.34400000000000003,
          0.34500000000000003,
          0.34600000000000003,
          0.34700000000000003,
          0.34800000000000003,
          0.34900000000000003
         ],
         "xaxis": "x",
         "y": [
          0,
          17.664670658682635,
          17.664670658682635,
          17.664670658682635,
          17.664670658682635,
          17.664670658682635,
          17.664670658682635,
          17.664670658682635,
          17.664670658682635,
          17.664670658682635,
          17.664670658682635,
          17.664670658682635,
          17.664670658682635,
          17.664670658682635,
          17.664670658682635,
          17.664670658682635,
          17.664670658682635,
          17.664670658682635,
          17.664670658682635,
          17.664670658682635,
          17.664670658682635,
          17.664670658682635,
          17.664670658682635,
          17.664670658682635,
          17.664670658682635,
          17.664670658682635,
          17.664670658682635,
          17.664670658682635,
          17.81437125748503,
          17.964071856287426,
          18.11377245508982,
          18.11377245508982,
          18.11377245508982,
          18.11377245508982,
          18.11377245508982,
          18.11377245508982,
          18.41317365269461,
          18.41317365269461,
          18.41317365269461,
          18.41317365269461,
          18.562874251497007,
          18.562874251497007,
          18.562874251497007,
          18.562874251497007,
          18.562874251497007,
          18.562874251497007,
          18.562874251497007,
          18.862275449101798,
          19.01197604790419,
          19.161676646706585,
          19.161676646706585,
          19.161676646706585,
          19.311377245508982,
          19.311377245508982,
          19.461077844311376,
          19.610778443113773,
          19.461077844311376,
          19.461077844311376,
          19.610778443113773,
          19.610778443113773,
          19.610778443113773,
          19.610778443113773,
          19.610778443113773,
          19.610778443113773,
          19.610778443113773,
          19.760479041916167,
          20.059880239520957,
          20.209580838323355,
          20.209580838323355,
          20.35928143712575,
          20.35928143712575,
          20.35928143712575,
          20.808383233532933,
          20.65868263473054,
          20.65868263473054,
          20.65868263473054,
          20.65868263473054,
          20.808383233532933,
          20.95808383233533,
          21.107784431137723,
          21.25748502994012,
          21.407185628742514,
          21.55688622754491,
          21.55688622754491,
          21.55688622754491,
          21.55688622754491,
          21.55688622754491,
          21.407185628742514,
          21.407185628742514,
          21.407185628742514,
          21.407185628742514,
          21.407185628742514,
          21.706586826347305,
          22.005988023952096,
          22.005988023952096,
          22.005988023952096,
          22.15568862275449,
          22.15568862275449,
          22.15568862275449,
          22.15568862275449,
          22.305389221556887,
          22.305389221556887,
          22.604790419161677,
          22.604790419161677,
          22.604790419161677,
          22.75449101796407,
          22.75449101796407,
          23.05389221556886,
          22.904191616766468,
          22.904191616766468,
          22.904191616766468,
          23.20359281437126,
          23.20359281437126,
          23.50299401197605,
          23.802395209580837,
          23.802395209580837,
          24.40119760479042,
          24.550898203592816,
          24.70059880239521,
          25.149700598802394,
          25.449101796407184,
          25.898203592814372,
          25.59880239520958,
          25.59880239520958,
          25.59880239520958,
          25.748502994011975,
          25.748502994011975,
          25.898203592814372,
          25.898203592814372,
          25.898203592814372,
          26.047904191616766,
          26.197604790419163,
          26.646706586826348,
          27.095808383233532,
          26.94610778443114,
          26.94610778443114,
          26.94610778443114,
          26.79640718562874,
          26.79640718562874,
          27.24550898203593,
          27.54491017964072,
          27.84431137724551,
          27.994011976047904,
          28.293413173652695,
          28.44311377245509,
          28.74251497005988,
          28.44311377245509,
          28.74251497005988,
          29.04191616766467,
          29.191616766467067,
          29.491017964071855,
          29.790419161676645,
          29.790419161676645,
          29.64071856287425,
          29.940119760479043,
          29.940119760479043,
          30.389221556886227,
          30.838323353293415,
          30.98802395209581,
          30.98802395209581,
          30.838323353293415,
          31.137724550898202,
          31.137724550898202,
          31.2874251497006,
          31.58682634730539,
          31.736526946107784,
          31.736526946107784,
          32.78443113772455,
          32.93413173652694,
          33.08383233532934,
          33.08383233532934,
          32.93413173652694,
          33.383233532934135,
          33.08383233532934,
          33.23353293413174,
          33.532934131736525,
          33.383233532934135,
          33.68263473053892,
          33.383233532934135,
          33.383233532934135,
          33.532934131736525,
          33.383233532934135,
          33.532934131736525,
          33.383233532934135,
          33.23353293413174,
          33.532934131736525,
          33.383233532934135,
          33.532934131736525,
          34.131736526946106,
          34.4311377245509,
          35.02994011976048,
          34.880239520958085,
          34.880239520958085,
          34.58083832335329,
          34.4311377245509,
          33.83233532934132,
          33.98203592814371,
          32.035928143712574,
          32.035928143712574,
          32.035928143712574,
          31.736526946107784,
          31.437125748502993,
          31.137724550898202,
          30.838323353293415,
          30.838323353293415,
          30.538922155688624,
          30.538922155688624,
          30.239520958083833,
          30.089820359281436,
          30.239520958083833,
          30.538922155688624,
          30.688622754491018,
          30.538922155688624,
          30.688622754491018,
          30.98802395209581,
          30.98802395209581,
          30.838323353293415,
          30.98802395209581,
          31.137724550898202,
          31.137724550898202,
          30.98802395209581,
          30.688622754491018,
          30.239520958083833,
          30.389221556886227,
          30.688622754491018,
          30.688622754491018,
          30.688622754491018,
          30.538922155688624,
          30.538922155688624,
          30.239520958083833,
          30.089820359281436,
          29.790419161676645,
          29.04191616766467,
          29.04191616766467,
          29.04191616766467,
          29.04191616766467,
          28.892215568862277,
          28.74251497005988,
          28.74251497005988,
          29.04191616766467,
          29.191616766467067,
          29.04191616766467,
          29.34131736526946,
          29.191616766467067,
          29.04191616766467,
          29.04191616766467,
          28.74251497005988,
          27.84431137724551,
          27.694610778443113,
          27.395209580838323,
          27.395209580838323,
          27.24550898203593,
          27.095808383233532,
          26.646706586826348,
          26.347305389221557,
          26.49700598802395,
          26.197604790419163,
          25.898203592814372,
          25.59880239520958,
          25.449101796407184,
          24.40119760479042,
          24.251497005988025,
          24.101796407185628,
          23.802395209580837,
          23.652694610778443,
          23.50299401197605,
          23.05389221556886,
          23.05389221556886,
          22.75449101796407,
          22.45508982035928,
          22.305389221556887,
          22.15568862275449,
          22.305389221556887,
          21.706586826347305,
          21.706586826347305,
          21.55688622754491,
          21.25748502994012,
          21.107784431137723,
          20.95808383233533,
          20.808383233532933,
          20.808383233532933,
          20.65868263473054,
          20.059880239520957,
          20.059880239520957,
          19.910179640718564,
          19.760479041916167,
          19.311377245508982,
          18.862275449101798,
          18.862275449101798,
          18.562874251497007,
          18.41317365269461,
          17.964071856287426,
          17.664670658682635,
          17.81437125748503,
          17.81437125748503,
          17.51497005988024,
          17.21556886227545,
          17.21556886227545,
          17.21556886227545,
          17.065868263473053,
          17.065868263473053,
          16.91616766467066,
          16.766467065868262,
          16.46706586826347,
          16.167664670658684,
          16.167664670658684,
          16.017964071856287,
          16.017964071856287,
          16.017964071856287,
          15.718562874251496,
          15.568862275449101,
          15.419161676646707,
          15.269461077844312,
          15.119760479041917,
          15.119760479041917,
          14.970059880239521,
          14.37125748502994,
          14.221556886227544,
          14.071856287425149,
          13.922155688622755,
          13.77245508982036,
          13.622754491017965,
          13.622754491017965,
          13.47305389221557,
          13.47305389221557,
          13.47305389221557,
          13.47305389221557,
          13.47305389221557,
          13.323353293413174,
          13.173652694610778,
          12.874251497005988,
          12.574850299401197,
          12.574850299401197,
          12.574850299401197,
          11.976047904191617,
          11.676646706586826,
          11.676646706586826,
          11.676646706586826,
          11.676646706586826,
          11.676646706586826,
          11.52694610778443,
          11.52694610778443,
          11.377245508982035,
          11.22754491017964,
          11.077844311377245,
          11.077844311377245,
          10.928143712574851,
          10.928143712574851,
          10.928143712574851,
          10.62874251497006
         ],
         "yaxis": "y"
        },
        {
         "fillpattern": {
          "shape": ""
         },
         "hovertemplate": "number of topics=3<br>threshold=%{x}<br>share of reviews, %=%{y}<extra></extra>",
         "legendgroup": "3",
         "line": {
          "color": "rgb(29,145,192)"
         },
         "marker": {
          "symbol": "circle"
         },
         "mode": "lines",
         "name": "3",
         "orientation": "v",
         "showlegend": true,
         "stackgroup": "1",
         "type": "scatter",
         "x": [
          0,
          0.001,
          0.002,
          0.003,
          0.004,
          0.005,
          0.006,
          0.007,
          0.008,
          0.009000000000000001,
          0.01,
          0.011,
          0.012,
          0.013000000000000001,
          0.014,
          0.015,
          0.016,
          0.017,
          0.018000000000000002,
          0.019,
          0.02,
          0.021,
          0.022,
          0.023,
          0.024,
          0.025,
          0.026000000000000002,
          0.027,
          0.028,
          0.029,
          0.03,
          0.031,
          0.032,
          0.033,
          0.034,
          0.035,
          0.036000000000000004,
          0.037,
          0.038,
          0.039,
          0.04,
          0.041,
          0.042,
          0.043000000000000003,
          0.044,
          0.045,
          0.046,
          0.047,
          0.048,
          0.049,
          0.05,
          0.051000000000000004,
          0.052000000000000005,
          0.053,
          0.054,
          0.055,
          0.056,
          0.057,
          0.058,
          0.059000000000000004,
          0.06,
          0.061,
          0.062,
          0.063,
          0.064,
          0.065,
          0.066,
          0.067,
          0.068,
          0.069,
          0.07,
          0.07100000000000001,
          0.07200000000000001,
          0.073,
          0.074,
          0.075,
          0.076,
          0.077,
          0.078,
          0.079,
          0.08,
          0.081,
          0.082,
          0.083,
          0.084,
          0.085,
          0.08600000000000001,
          0.08700000000000001,
          0.088,
          0.089,
          0.09,
          0.091,
          0.092,
          0.093,
          0.094,
          0.095,
          0.096,
          0.097,
          0.098,
          0.099,
          0.1,
          0.101,
          0.10200000000000001,
          0.10300000000000001,
          0.10400000000000001,
          0.105,
          0.106,
          0.107,
          0.108,
          0.109,
          0.11,
          0.111,
          0.112,
          0.113,
          0.114,
          0.115,
          0.116,
          0.117,
          0.11800000000000001,
          0.11900000000000001,
          0.12,
          0.121,
          0.122,
          0.123,
          0.124,
          0.125,
          0.126,
          0.127,
          0.128,
          0.129,
          0.13,
          0.131,
          0.132,
          0.133,
          0.134,
          0.135,
          0.136,
          0.137,
          0.138,
          0.139,
          0.14,
          0.14100000000000001,
          0.14200000000000002,
          0.14300000000000002,
          0.14400000000000002,
          0.145,
          0.146,
          0.147,
          0.148,
          0.149,
          0.15,
          0.151,
          0.152,
          0.153,
          0.154,
          0.155,
          0.156,
          0.157,
          0.158,
          0.159,
          0.16,
          0.161,
          0.162,
          0.163,
          0.164,
          0.165,
          0.166,
          0.167,
          0.168,
          0.169,
          0.17,
          0.171,
          0.17200000000000001,
          0.17300000000000001,
          0.17400000000000002,
          0.17500000000000002,
          0.176,
          0.177,
          0.178,
          0.179,
          0.18,
          0.181,
          0.182,
          0.183,
          0.184,
          0.185,
          0.186,
          0.187,
          0.188,
          0.189,
          0.19,
          0.191,
          0.192,
          0.193,
          0.194,
          0.195,
          0.196,
          0.197,
          0.198,
          0.199,
          0.2,
          0.201,
          0.202,
          0.203,
          0.20400000000000001,
          0.20500000000000002,
          0.20600000000000002,
          0.20700000000000002,
          0.20800000000000002,
          0.209,
          0.21,
          0.211,
          0.212,
          0.213,
          0.214,
          0.215,
          0.216,
          0.217,
          0.218,
          0.219,
          0.22,
          0.221,
          0.222,
          0.223,
          0.224,
          0.225,
          0.226,
          0.227,
          0.228,
          0.229,
          0.23,
          0.231,
          0.232,
          0.233,
          0.234,
          0.23500000000000001,
          0.23600000000000002,
          0.23700000000000002,
          0.23800000000000002,
          0.23900000000000002,
          0.24,
          0.241,
          0.242,
          0.243,
          0.244,
          0.245,
          0.246,
          0.247,
          0.248,
          0.249,
          0.25,
          0.251,
          0.252,
          0.253,
          0.254,
          0.255,
          0.256,
          0.257,
          0.258,
          0.259,
          0.26,
          0.261,
          0.262,
          0.263,
          0.264,
          0.265,
          0.266,
          0.267,
          0.268,
          0.269,
          0.27,
          0.271,
          0.272,
          0.273,
          0.274,
          0.275,
          0.276,
          0.277,
          0.278,
          0.279,
          0.28,
          0.281,
          0.28200000000000003,
          0.28300000000000003,
          0.28400000000000003,
          0.28500000000000003,
          0.28600000000000003,
          0.28700000000000003,
          0.28800000000000003,
          0.289,
          0.29,
          0.291,
          0.292,
          0.293,
          0.294,
          0.295,
          0.296,
          0.297,
          0.298,
          0.299,
          0.3,
          0.301,
          0.302,
          0.303,
          0.304,
          0.305,
          0.306,
          0.307,
          0.308,
          0.309,
          0.31,
          0.311,
          0.312,
          0.313,
          0.314,
          0.315,
          0.316,
          0.317,
          0.318,
          0.319,
          0.32,
          0.321,
          0.322,
          0.323,
          0.324,
          0.325,
          0.326,
          0.327,
          0.328,
          0.329,
          0.33,
          0.331,
          0.332,
          0.333,
          0.334,
          0.335,
          0.336,
          0.337,
          0.338,
          0.339,
          0.34,
          0.341,
          0.342,
          0.343,
          0.34400000000000003,
          0.34500000000000003,
          0.34600000000000003,
          0.34700000000000003,
          0.34800000000000003,
          0.34900000000000003
         ],
         "xaxis": "x",
         "y": [
          0,
          12.724550898203592,
          12.724550898203592,
          12.724550898203592,
          12.724550898203592,
          12.724550898203592,
          12.724550898203592,
          12.724550898203592,
          12.724550898203592,
          12.724550898203592,
          12.724550898203592,
          12.724550898203592,
          12.724550898203592,
          12.724550898203592,
          12.874251497005988,
          13.023952095808383,
          13.023952095808383,
          13.023952095808383,
          13.023952095808383,
          13.023952095808383,
          13.023952095808383,
          13.023952095808383,
          13.173652694610778,
          13.173652694610778,
          13.173652694610778,
          13.47305389221557,
          13.47305389221557,
          13.77245508982036,
          13.622754491017965,
          13.622754491017965,
          13.47305389221557,
          13.47305389221557,
          13.47305389221557,
          13.77245508982036,
          13.77245508982036,
          13.922155688622755,
          13.77245508982036,
          13.922155688622755,
          13.922155688622755,
          14.071856287425149,
          13.922155688622755,
          14.071856287425149,
          14.221556886227544,
          14.221556886227544,
          14.67065868263473,
          14.67065868263473,
          14.67065868263473,
          14.37125748502994,
          14.37125748502994,
          14.37125748502994,
          14.520958083832335,
          14.520958083832335,
          14.520958083832335,
          14.520958083832335,
          14.37125748502994,
          14.520958083832335,
          14.520958083832335,
          14.520958083832335,
          14.67065868263473,
          14.67065868263473,
          14.67065868263473,
          14.820359281437126,
          14.820359281437126,
          14.820359281437126,
          14.970059880239521,
          15.269461077844312,
          14.970059880239521,
          14.970059880239521,
          15.269461077844312,
          15.119760479041917,
          15.269461077844312,
          15.568862275449101,
          15.269461077844312,
          15.568862275449101,
          15.718562874251496,
          15.718562874251496,
          15.868263473053892,
          16.017964071856287,
          15.868263473053892,
          15.718562874251496,
          15.868263473053892,
          16.317365269461078,
          16.017964071856287,
          16.167664670658684,
          16.017964071856287,
          16.317365269461078,
          16.317365269461078,
          16.766467065868262,
          17.065868263473053,
          16.91616766467066,
          16.766467065868262,
          16.91616766467066,
          16.766467065868262,
          16.46706586826347,
          16.766467065868262,
          16.91616766467066,
          16.766467065868262,
          17.365269461077844,
          17.51497005988024,
          18.11377245508982,
          18.41317365269461,
          18.7125748502994,
          18.562874251497007,
          18.862275449101798,
          19.610778443113773,
          19.610778443113773,
          19.760479041916167,
          19.610778443113773,
          19.610778443113773,
          19.610778443113773,
          19.610778443113773,
          19.311377245508982,
          19.610778443113773,
          19.461077844311376,
          19.311377245508982,
          19.311377245508982,
          18.862275449101798,
          19.01197604790419,
          18.862275449101798,
          18.41317365269461,
          18.41317365269461,
          18.11377245508982,
          18.11377245508982,
          18.263473053892216,
          18.263473053892216,
          17.964071856287426,
          19.161676646706585,
          19.311377245508982,
          19.610778443113773,
          19.910179640718564,
          20.059880239520957,
          19.910179640718564,
          19.461077844311376,
          19.610778443113773,
          19.610778443113773,
          20.059880239520957,
          20.209580838323355,
          20.35928143712575,
          20.209580838323355,
          20.059880239520957,
          19.910179640718564,
          19.610778443113773,
          19.311377245508982,
          19.01197604790419,
          18.862275449101798,
          18.41317365269461,
          18.41317365269461,
          18.11377245508982,
          17.81437125748503,
          17.964071856287426,
          17.81437125748503,
          17.964071856287426,
          17.664670658682635,
          17.664670658682635,
          17.365269461077844,
          17.365269461077844,
          17.21556886227545,
          16.91616766467066,
          16.91616766467066,
          16.766467065868262,
          16.61676646706587,
          16.317365269461078,
          16.766467065868262,
          16.46706586826347,
          16.017964071856287,
          15.868263473053892,
          15.419161676646707,
          14.071856287425149,
          13.47305389221557,
          13.323353293413174,
          13.323353293413174,
          13.323353293413174,
          13.023952095808383,
          12.874251497005988,
          12.874251497005988,
          12.425149700598803,
          12.574850299401197,
          12.125748502994012,
          12.275449101796408,
          12.275449101796408,
          11.826347305389222,
          11.826347305389222,
          11.676646706586826,
          11.826347305389222,
          11.826347305389222,
          11.676646706586826,
          11.52694610778443,
          11.377245508982035,
          10.778443113772456,
          10.62874251497006,
          10.179640718562874,
          9.880239520958083,
          9.880239520958083,
          9.880239520958083,
          9.880239520958083,
          10.029940119760479,
          9.730538922155688,
          9.580838323353293,
          9.131736526946108,
          8.832335329341317,
          8.832335329341317,
          8.532934131736527,
          8.383233532934131,
          8.383233532934131,
          8.383233532934131,
          8.233532934131736,
          8.233532934131736,
          7.934131736526946,
          7.634730538922156,
          7.485029940119761,
          7.18562874251497,
          7.0359281437125745,
          6.88622754491018,
          6.736526946107785,
          6.287425149700598,
          6.137724550898204,
          6.437125748502994,
          6.287425149700598,
          5.838323353293413,
          5.838323353293413,
          5.838323353293413,
          5.9880239520958085,
          5.9880239520958085,
          5.688622754491018,
          5.389221556886228,
          5.389221556886228,
          5.389221556886228,
          5.389221556886228,
          5.389221556886228,
          5.2395209580838324,
          5.089820359281437,
          4.940119760479042,
          4.790419161676646,
          4.640718562874252,
          4.341317365269461,
          4.341317365269461,
          4.341317365269461,
          3.7425149700598803,
          3.592814371257485,
          3.2934131736526946,
          2.9940119760479043,
          2.9940119760479043,
          2.5449101796407185,
          2.5449101796407185,
          2.245508982035928,
          2.095808383233533,
          2.095808383233533,
          2.095808383233533,
          2.095808383233533,
          1.9461077844311376,
          1.7964071856287425,
          1.7964071856287425,
          1.7964071856287425,
          1.7964071856287425,
          1.6467065868263473,
          1.4970059880239521,
          1.347305389221557,
          1.347305389221557,
          1.347305389221557,
          1.347305389221557,
          1.347305389221557,
          1.347305389221557,
          1.1976047904191616,
          1.1976047904191616,
          1.1976047904191616,
          1.1976047904191616,
          1.1976047904191616,
          1.0479041916167664,
          1.0479041916167664,
          1.0479041916167664,
          1.0479041916167664,
          1.0479041916167664,
          0.8982035928143712,
          0.8982035928143712,
          0.7485029940119761,
          0.5988023952095808,
          0.5988023952095808,
          0.5988023952095808,
          0.5988023952095808,
          0.5988023952095808,
          0.5988023952095808,
          0.5988023952095808,
          0.5988023952095808,
          0.5988023952095808,
          0.5988023952095808,
          0.5988023952095808,
          0.5988023952095808,
          0.5988023952095808,
          0.5988023952095808,
          0.5988023952095808,
          0.5988023952095808,
          0.5988023952095808,
          0.5988023952095808,
          0.2994011976047904,
          0.2994011976047904,
          0.2994011976047904,
          0.2994011976047904,
          0.2994011976047904,
          0.2994011976047904,
          0.1497005988023952,
          0.1497005988023952,
          0.1497005988023952,
          0.1497005988023952,
          0.1497005988023952,
          0.1497005988023952,
          0.1497005988023952,
          0.1497005988023952,
          0,
          0,
          0,
          0,
          0,
          0,
          0,
          0,
          0,
          0,
          0,
          0,
          0,
          0,
          0,
          0,
          0,
          0,
          0,
          0,
          0,
          0,
          0,
          0,
          0,
          0,
          0,
          0,
          0,
          0,
          0,
          0,
          0,
          0,
          0,
          0,
          0,
          0,
          0,
          0,
          0,
          0,
          0
         ],
         "yaxis": "y"
        },
        {
         "fillpattern": {
          "shape": ""
         },
         "hovertemplate": "number of topics=4<br>threshold=%{x}<br>share of reviews, %=%{y}<extra></extra>",
         "legendgroup": "4",
         "line": {
          "color": "rgb(34,94,168)"
         },
         "marker": {
          "symbol": "circle"
         },
         "mode": "lines",
         "name": "4",
         "orientation": "v",
         "showlegend": true,
         "stackgroup": "1",
         "type": "scatter",
         "x": [
          0,
          0.001,
          0.002,
          0.003,
          0.004,
          0.005,
          0.006,
          0.007,
          0.008,
          0.009000000000000001,
          0.01,
          0.011,
          0.012,
          0.013000000000000001,
          0.014,
          0.015,
          0.016,
          0.017,
          0.018000000000000002,
          0.019,
          0.02,
          0.021,
          0.022,
          0.023,
          0.024,
          0.025,
          0.026000000000000002,
          0.027,
          0.028,
          0.029,
          0.03,
          0.031,
          0.032,
          0.033,
          0.034,
          0.035,
          0.036000000000000004,
          0.037,
          0.038,
          0.039,
          0.04,
          0.041,
          0.042,
          0.043000000000000003,
          0.044,
          0.045,
          0.046,
          0.047,
          0.048,
          0.049,
          0.05,
          0.051000000000000004,
          0.052000000000000005,
          0.053,
          0.054,
          0.055,
          0.056,
          0.057,
          0.058,
          0.059000000000000004,
          0.06,
          0.061,
          0.062,
          0.063,
          0.064,
          0.065,
          0.066,
          0.067,
          0.068,
          0.069,
          0.07,
          0.07100000000000001,
          0.07200000000000001,
          0.073,
          0.074,
          0.075,
          0.076,
          0.077,
          0.078,
          0.079,
          0.08,
          0.081,
          0.082,
          0.083,
          0.084,
          0.085,
          0.08600000000000001,
          0.08700000000000001,
          0.088,
          0.089,
          0.09,
          0.091,
          0.092,
          0.093,
          0.094,
          0.095,
          0.096,
          0.097,
          0.098,
          0.099,
          0.1,
          0.101,
          0.10200000000000001,
          0.10300000000000001,
          0.10400000000000001,
          0.105,
          0.106,
          0.107,
          0.108,
          0.109,
          0.11,
          0.111,
          0.112,
          0.113,
          0.114,
          0.115,
          0.116,
          0.117,
          0.11800000000000001,
          0.11900000000000001,
          0.12,
          0.121,
          0.122,
          0.123,
          0.124,
          0.125,
          0.126,
          0.127,
          0.128,
          0.129,
          0.13,
          0.131,
          0.132,
          0.133,
          0.134,
          0.135,
          0.136,
          0.137,
          0.138,
          0.139,
          0.14,
          0.14100000000000001,
          0.14200000000000002,
          0.14300000000000002,
          0.14400000000000002,
          0.145,
          0.146,
          0.147,
          0.148,
          0.149,
          0.15,
          0.151,
          0.152,
          0.153,
          0.154,
          0.155,
          0.156,
          0.157,
          0.158,
          0.159,
          0.16,
          0.161,
          0.162,
          0.163,
          0.164,
          0.165,
          0.166,
          0.167,
          0.168,
          0.169,
          0.17,
          0.171,
          0.17200000000000001,
          0.17300000000000001,
          0.17400000000000002,
          0.17500000000000002,
          0.176,
          0.177,
          0.178,
          0.179,
          0.18,
          0.181,
          0.182,
          0.183,
          0.184,
          0.185,
          0.186,
          0.187,
          0.188,
          0.189,
          0.19,
          0.191,
          0.192,
          0.193,
          0.194,
          0.195,
          0.196,
          0.197,
          0.198,
          0.199,
          0.2,
          0.201,
          0.202,
          0.203,
          0.20400000000000001,
          0.20500000000000002,
          0.20600000000000002,
          0.20700000000000002,
          0.20800000000000002,
          0.209,
          0.21,
          0.211,
          0.212,
          0.213,
          0.214,
          0.215,
          0.216,
          0.217,
          0.218,
          0.219,
          0.22,
          0.221,
          0.222,
          0.223,
          0.224,
          0.225,
          0.226,
          0.227,
          0.228,
          0.229,
          0.23,
          0.231,
          0.232,
          0.233,
          0.234,
          0.23500000000000001,
          0.23600000000000002,
          0.23700000000000002,
          0.23800000000000002,
          0.23900000000000002,
          0.24,
          0.241,
          0.242,
          0.243,
          0.244,
          0.245,
          0.246,
          0.247,
          0.248,
          0.249,
          0.25,
          0.251,
          0.252,
          0.253,
          0.254,
          0.255,
          0.256,
          0.257,
          0.258,
          0.259,
          0.26,
          0.261,
          0.262,
          0.263,
          0.264,
          0.265,
          0.266,
          0.267,
          0.268,
          0.269,
          0.27,
          0.271,
          0.272,
          0.273,
          0.274,
          0.275,
          0.276,
          0.277,
          0.278,
          0.279,
          0.28,
          0.281,
          0.28200000000000003,
          0.28300000000000003,
          0.28400000000000003,
          0.28500000000000003,
          0.28600000000000003,
          0.28700000000000003,
          0.28800000000000003,
          0.289,
          0.29,
          0.291,
          0.292,
          0.293,
          0.294,
          0.295,
          0.296,
          0.297,
          0.298,
          0.299,
          0.3,
          0.301,
          0.302,
          0.303,
          0.304,
          0.305,
          0.306,
          0.307,
          0.308,
          0.309,
          0.31,
          0.311,
          0.312,
          0.313,
          0.314,
          0.315,
          0.316,
          0.317,
          0.318,
          0.319,
          0.32,
          0.321,
          0.322,
          0.323,
          0.324,
          0.325,
          0.326,
          0.327,
          0.328,
          0.329,
          0.33,
          0.331,
          0.332,
          0.333,
          0.334,
          0.335,
          0.336,
          0.337,
          0.338,
          0.339,
          0.34,
          0.341,
          0.342,
          0.343,
          0.34400000000000003,
          0.34500000000000003,
          0.34600000000000003,
          0.34700000000000003,
          0.34800000000000003,
          0.34900000000000003
         ],
         "xaxis": "x",
         "y": [
          0,
          10.479041916167665,
          10.479041916167665,
          10.479041916167665,
          10.479041916167665,
          10.479041916167665,
          10.479041916167665,
          10.479041916167665,
          10.479041916167665,
          10.479041916167665,
          10.479041916167665,
          10.479041916167665,
          10.479041916167665,
          10.479041916167665,
          10.32934131736527,
          10.32934131736527,
          10.479041916167665,
          10.479041916167665,
          10.479041916167665,
          10.479041916167665,
          10.479041916167665,
          10.778443113772456,
          10.928143712574851,
          10.928143712574851,
          11.22754491017964,
          11.077844311377245,
          11.077844311377245,
          10.778443113772456,
          10.778443113772456,
          10.778443113772456,
          10.778443113772456,
          11.22754491017964,
          11.377245508982035,
          11.22754491017964,
          11.377245508982035,
          11.377245508982035,
          11.377245508982035,
          11.52694610778443,
          11.52694610778443,
          11.52694610778443,
          11.676646706586826,
          11.52694610778443,
          11.676646706586826,
          11.826347305389222,
          11.52694610778443,
          11.52694610778443,
          11.676646706586826,
          11.676646706586826,
          11.52694610778443,
          11.377245508982035,
          11.52694610778443,
          11.676646706586826,
          11.676646706586826,
          11.976047904191617,
          12.724550898203592,
          12.425149700598803,
          12.425149700598803,
          12.724550898203592,
          12.425149700598803,
          12.724550898203592,
          13.023952095808383,
          12.874251497005988,
          12.874251497005988,
          12.874251497005988,
          12.724550898203592,
          12.275449101796408,
          12.425149700598803,
          12.425149700598803,
          12.125748502994012,
          12.125748502994012,
          12.125748502994012,
          12.125748502994012,
          12.125748502994012,
          12.425149700598803,
          12.425149700598803,
          12.574850299401197,
          12.574850299401197,
          12.425149700598803,
          12.724550898203592,
          12.874251497005988,
          12.574850299401197,
          12.275449101796408,
          12.275449101796408,
          11.976047904191617,
          12.425149700598803,
          12.125748502994012,
          12.275449101796408,
          12.275449101796408,
          12.425149700598803,
          12.574850299401197,
          12.874251497005988,
          12.724550898203592,
          12.724550898203592,
          12.724550898203592,
          12.574850299401197,
          12.574850299401197,
          12.724550898203592,
          12.275449101796408,
          12.125748502994012,
          11.826347305389222,
          11.826347305389222,
          11.52694610778443,
          11.377245508982035,
          10.928143712574851,
          10.179640718562874,
          10.029940119760479,
          9.880239520958083,
          9.880239520958083,
          10.029940119760479,
          10.179640718562874,
          10.029940119760479,
          10.179640718562874,
          10.029940119760479,
          9.880239520958083,
          9.730538922155688,
          9.880239520958083,
          9.730538922155688,
          9.580838323353293,
          9.580838323353293,
          9.580838323353293,
          9.281437125748504,
          9.281437125748504,
          9.431137724550899,
          9.730538922155688,
          9.580838323353293,
          9.431137724550899,
          8.233532934131736,
          8.083832335329342,
          7.634730538922156,
          7.335329341317365,
          7.0359281437125745,
          7.0359281437125745,
          7.0359281437125745,
          5.9880239520958085,
          5.9880239520958085,
          5.538922155688622,
          5.389221556886228,
          5.2395209580838324,
          5.2395209580838324,
          4.940119760479042,
          4.790419161676646,
          4.790419161676646,
          4.790419161676646,
          4.940119760479042,
          4.940119760479042,
          4.940119760479042,
          4.940119760479042,
          4.940119760479042,
          4.790419161676646,
          4.491017964071856,
          4.341317365269461,
          3.8922155688622753,
          3.8922155688622753,
          3.8922155688622753,
          3.8922155688622753,
          3.8922155688622753,
          3.592814371257485,
          3.44311377245509,
          3.2934131736526946,
          3.2934131736526946,
          3.44311377245509,
          3.2934131736526946,
          2.844311377245509,
          2.844311377245509,
          2.844311377245509,
          2.844311377245509,
          2.844311377245509,
          2.844311377245509,
          2.844311377245509,
          2.694610778443114,
          2.5449101796407185,
          2.5449101796407185,
          2.395209580838323,
          2.395209580838323,
          2.245508982035928,
          2.245508982035928,
          2.095808383233533,
          2.095808383233533,
          1.7964071856287425,
          1.6467065868263473,
          1.6467065868263473,
          1.6467065868263473,
          1.6467065868263473,
          1.4970059880239521,
          1.347305389221557,
          1.1976047904191616,
          1.1976047904191616,
          1.0479041916167664,
          1.0479041916167664,
          0.8982035928143712,
          0.7485029940119761,
          0.7485029940119761,
          0.7485029940119761,
          0.7485029940119761,
          0.7485029940119761,
          0.5988023952095808,
          0.5988023952095808,
          0.5988023952095808,
          0.5988023952095808,
          0.5988023952095808,
          0.5988023952095808,
          0.5988023952095808,
          0.5988023952095808,
          0.5988023952095808,
          0.4491017964071856,
          0.4491017964071856,
          0.4491017964071856,
          0.4491017964071856,
          0.4491017964071856,
          0.4491017964071856,
          0.4491017964071856,
          0.4491017964071856,
          0.4491017964071856,
          0.4491017964071856,
          0.4491017964071856,
          0.4491017964071856,
          0.1497005988023952,
          0.1497005988023952,
          0.1497005988023952,
          0.1497005988023952,
          0.1497005988023952,
          0,
          0,
          0,
          0,
          0,
          0,
          0,
          0,
          0,
          0,
          0,
          0,
          0,
          0,
          0,
          0,
          0,
          0,
          0,
          0,
          0,
          0,
          0,
          0,
          0,
          0,
          0,
          0,
          0,
          0,
          0,
          0,
          0,
          0,
          0,
          0,
          0,
          0,
          0,
          0,
          0,
          0,
          0,
          0,
          0,
          0,
          0,
          0,
          0,
          0,
          0,
          0,
          0,
          0,
          0,
          0,
          0,
          0,
          0,
          0,
          0,
          0,
          0,
          0,
          0,
          0,
          0,
          0,
          0,
          0,
          0,
          0,
          0,
          0,
          0,
          0,
          0,
          0,
          0,
          0,
          0,
          0,
          0,
          0,
          0,
          0,
          0,
          0,
          0,
          0,
          0,
          0,
          0,
          0,
          0,
          0,
          0,
          0,
          0,
          0,
          0,
          0,
          0,
          0,
          0,
          0,
          0,
          0,
          0,
          0,
          0,
          0,
          0,
          0,
          0,
          0,
          0,
          0,
          0,
          0,
          0,
          0,
          0,
          0,
          0,
          0,
          0,
          0,
          0
         ],
         "yaxis": "y"
        },
        {
         "fillpattern": {
          "shape": ""
         },
         "hovertemplate": "number of topics=5+<br>threshold=%{x}<br>share of reviews, %=%{y}<extra></extra>",
         "legendgroup": "5+",
         "line": {
          "color": "rgb(37,52,148)"
         },
         "marker": {
          "symbol": "circle"
         },
         "mode": "lines",
         "name": "5+",
         "orientation": "v",
         "showlegend": true,
         "stackgroup": "1",
         "type": "scatter",
         "x": [
          0,
          0.001,
          0.002,
          0.003,
          0.004,
          0.005,
          0.006,
          0.007,
          0.008,
          0.009000000000000001,
          0.01,
          0.011,
          0.012,
          0.013000000000000001,
          0.014,
          0.015,
          0.016,
          0.017,
          0.018000000000000002,
          0.019,
          0.02,
          0.021,
          0.022,
          0.023,
          0.024,
          0.025,
          0.026000000000000002,
          0.027,
          0.028,
          0.029,
          0.03,
          0.031,
          0.032,
          0.033,
          0.034,
          0.035,
          0.036000000000000004,
          0.037,
          0.038,
          0.039,
          0.04,
          0.041,
          0.042,
          0.043000000000000003,
          0.044,
          0.045,
          0.046,
          0.047,
          0.048,
          0.049,
          0.05,
          0.051000000000000004,
          0.052000000000000005,
          0.053,
          0.054,
          0.055,
          0.056,
          0.057,
          0.058,
          0.059000000000000004,
          0.06,
          0.061,
          0.062,
          0.063,
          0.064,
          0.065,
          0.066,
          0.067,
          0.068,
          0.069,
          0.07,
          0.07100000000000001,
          0.07200000000000001,
          0.073,
          0.074,
          0.075,
          0.076,
          0.077,
          0.078,
          0.079,
          0.08,
          0.081,
          0.082,
          0.083,
          0.084,
          0.085,
          0.08600000000000001,
          0.08700000000000001,
          0.088,
          0.089,
          0.09,
          0.091,
          0.092,
          0.093,
          0.094,
          0.095,
          0.096,
          0.097,
          0.098,
          0.099,
          0.1,
          0.101,
          0.10200000000000001,
          0.10300000000000001,
          0.10400000000000001,
          0.105,
          0.106,
          0.107,
          0.108,
          0.109,
          0.11,
          0.111,
          0.112,
          0.113,
          0.114,
          0.115,
          0.116,
          0.117,
          0.11800000000000001,
          0.11900000000000001,
          0.12,
          0.121,
          0.122,
          0.123,
          0.124,
          0.125,
          0.126,
          0.127,
          0.128,
          0.129,
          0.13,
          0.131,
          0.132,
          0.133,
          0.134,
          0.135,
          0.136,
          0.137,
          0.138,
          0.139,
          0.14,
          0.14100000000000001,
          0.14200000000000002,
          0.14300000000000002,
          0.14400000000000002,
          0.145,
          0.146,
          0.147,
          0.148,
          0.149,
          0.15,
          0.151,
          0.152,
          0.153,
          0.154,
          0.155,
          0.156,
          0.157,
          0.158,
          0.159,
          0.16,
          0.161,
          0.162,
          0.163,
          0.164,
          0.165,
          0.166,
          0.167,
          0.168,
          0.169,
          0.17,
          0.171,
          0.17200000000000001,
          0.17300000000000001,
          0.17400000000000002,
          0.17500000000000002,
          0.176,
          0.177,
          0.178,
          0.179,
          0.18,
          0.181,
          0.182,
          0.183,
          0.184,
          0.185,
          0.186,
          0.187,
          0.188,
          0.189,
          0.19,
          0.191,
          0.192,
          0.193,
          0.194,
          0.195,
          0.196,
          0.197,
          0.198,
          0.199,
          0.2,
          0.201,
          0.202,
          0.203,
          0.20400000000000001,
          0.20500000000000002,
          0.20600000000000002,
          0.20700000000000002,
          0.20800000000000002,
          0.209,
          0.21,
          0.211,
          0.212,
          0.213,
          0.214,
          0.215,
          0.216,
          0.217,
          0.218,
          0.219,
          0.22,
          0.221,
          0.222,
          0.223,
          0.224,
          0.225,
          0.226,
          0.227,
          0.228,
          0.229,
          0.23,
          0.231,
          0.232,
          0.233,
          0.234,
          0.23500000000000001,
          0.23600000000000002,
          0.23700000000000002,
          0.23800000000000002,
          0.23900000000000002,
          0.24,
          0.241,
          0.242,
          0.243,
          0.244,
          0.245,
          0.246,
          0.247,
          0.248,
          0.249,
          0.25,
          0.251,
          0.252,
          0.253,
          0.254,
          0.255,
          0.256,
          0.257,
          0.258,
          0.259,
          0.26,
          0.261,
          0.262,
          0.263,
          0.264,
          0.265,
          0.266,
          0.267,
          0.268,
          0.269,
          0.27,
          0.271,
          0.272,
          0.273,
          0.274,
          0.275,
          0.276,
          0.277,
          0.278,
          0.279,
          0.28,
          0.281,
          0.28200000000000003,
          0.28300000000000003,
          0.28400000000000003,
          0.28500000000000003,
          0.28600000000000003,
          0.28700000000000003,
          0.28800000000000003,
          0.289,
          0.29,
          0.291,
          0.292,
          0.293,
          0.294,
          0.295,
          0.296,
          0.297,
          0.298,
          0.299,
          0.3,
          0.301,
          0.302,
          0.303,
          0.304,
          0.305,
          0.306,
          0.307,
          0.308,
          0.309,
          0.31,
          0.311,
          0.312,
          0.313,
          0.314,
          0.315,
          0.316,
          0.317,
          0.318,
          0.319,
          0.32,
          0.321,
          0.322,
          0.323,
          0.324,
          0.325,
          0.326,
          0.327,
          0.328,
          0.329,
          0.33,
          0.331,
          0.332,
          0.333,
          0.334,
          0.335,
          0.336,
          0.337,
          0.338,
          0.339,
          0.34,
          0.341,
          0.342,
          0.343,
          0.34400000000000003,
          0.34500000000000003,
          0.34600000000000003,
          0.34700000000000003,
          0.34800000000000003,
          0.34900000000000003
         ],
         "xaxis": "x",
         "y": [
          100,
          16.46706586826347,
          16.46706586826347,
          16.46706586826347,
          16.46706586826347,
          16.46706586826347,
          16.46706586826347,
          16.46706586826347,
          16.46706586826347,
          16.46706586826347,
          16.46706586826347,
          16.46706586826347,
          16.46706586826347,
          16.46706586826347,
          16.46706586826347,
          16.317365269461078,
          16.167664670658684,
          16.167664670658684,
          16.167664670658684,
          16.167664670658684,
          16.167664670658684,
          15.868263473053892,
          15.568862275449101,
          15.568862275449101,
          15.269461077844312,
          15.119760479041917,
          15.119760479041917,
          15.119760479041917,
          15.119760479041917,
          14.970059880239521,
          14.970059880239521,
          14.520958083832335,
          14.37125748502994,
          14.221556886227544,
          14.071856287425149,
          13.922155688622755,
          13.77245508982036,
          13.47305389221557,
          13.47305389221557,
          13.323353293413174,
          13.173652694610778,
          13.173652694610778,
          12.874251497005988,
          12.724550898203592,
          12.574850299401197,
          12.574850299401197,
          12.425149700598803,
          12.425149700598803,
          12.425149700598803,
          12.425149700598803,
          12.125748502994012,
          11.976047904191617,
          11.826347305389222,
          11.52694610778443,
          10.62874251497006,
          10.62874251497006,
          10.62874251497006,
          10.32934131736527,
          10.32934131736527,
          10.029940119760479,
          9.580838323353293,
          9.580838323353293,
          9.580838323353293,
          9.580838323353293,
          9.580838323353293,
          9.580838323353293,
          9.431137724550899,
          9.281437125748504,
          9.281437125748504,
          9.281437125748504,
          9.131736526946108,
          8.832335329341317,
          8.682634730538922,
          8.083832335329342,
          7.934131736526946,
          7.7844311377245505,
          7.634730538922156,
          7.485029940119761,
          7.18562874251497,
          7.0359281437125745,
          7.0359281437125745,
          6.736526946107785,
          6.736526946107785,
          6.736526946107785,
          6.287425149700598,
          6.287425149700598,
          5.9880239520958085,
          5.538922155688622,
          5.089820359281437,
          4.940119760479042,
          4.640718562874252,
          4.491017964071856,
          4.341317365269461,
          4.341317365269461,
          4.041916167664671,
          3.8922155688622753,
          3.7425149700598803,
          3.592814371257485,
          3.592814371257485,
          3.2934131736526946,
          2.844311377245509,
          2.844311377245509,
          2.694610778443114,
          2.694610778443114,
          2.694610778443114,
          2.694610778443114,
          2.694610778443114,
          2.5449101796407185,
          2.395209580838323,
          2.245508982035928,
          2.245508982035928,
          2.095808383233533,
          1.9461077844311376,
          1.9461077844311376,
          1.9461077844311376,
          1.6467065868263473,
          1.6467065868263473,
          1.4970059880239521,
          1.4970059880239521,
          1.4970059880239521,
          1.4970059880239521,
          1.347305389221557,
          1.1976047904191616,
          0.7485029940119761,
          0.7485029940119761,
          0.7485029940119761,
          0.5988023952095808,
          0.4491017964071856,
          0.4491017964071856,
          0.4491017964071856,
          0.4491017964071856,
          0.4491017964071856,
          0.4491017964071856,
          0.4491017964071856,
          0.4491017964071856,
          0.4491017964071856,
          0.4491017964071856,
          0.4491017964071856,
          0.2994011976047904,
          0.2994011976047904,
          0.2994011976047904,
          0.2994011976047904,
          0.2994011976047904,
          0.1497005988023952,
          0.1497005988023952,
          0.1497005988023952,
          0.1497005988023952,
          0.1497005988023952,
          0.1497005988023952,
          0.1497005988023952,
          0.1497005988023952,
          0.1497005988023952,
          0.1497005988023952,
          0.1497005988023952,
          0.1497005988023952,
          0.1497005988023952,
          0.1497005988023952,
          0.1497005988023952,
          0.1497005988023952,
          0.1497005988023952,
          0,
          0,
          0,
          0,
          0,
          0,
          0,
          0,
          0,
          0,
          0,
          0,
          0,
          0,
          0,
          0,
          0,
          0,
          0,
          0,
          0,
          0,
          0,
          0,
          0,
          0,
          0,
          0,
          0,
          0,
          0,
          0,
          0,
          0,
          0,
          0,
          0,
          0,
          0,
          0,
          0,
          0,
          0,
          0,
          0,
          0,
          0,
          0,
          0,
          0,
          0,
          0,
          0,
          0,
          0,
          0,
          0,
          0,
          0,
          0,
          0,
          0,
          0,
          0,
          0,
          0,
          0,
          0,
          0,
          0,
          0,
          0,
          0,
          0,
          0,
          0,
          0,
          0,
          0,
          0,
          0,
          0,
          0,
          0,
          0,
          0,
          0,
          0,
          0,
          0,
          0,
          0,
          0,
          0,
          0,
          0,
          0,
          0,
          0,
          0,
          0,
          0,
          0,
          0,
          0,
          0,
          0,
          0,
          0,
          0,
          0,
          0,
          0,
          0,
          0,
          0,
          0,
          0,
          0,
          0,
          0,
          0,
          0,
          0,
          0,
          0,
          0,
          0,
          0,
          0,
          0,
          0,
          0,
          0,
          0,
          0,
          0,
          0,
          0,
          0,
          0,
          0,
          0,
          0,
          0,
          0,
          0,
          0,
          0,
          0,
          0,
          0,
          0,
          0,
          0,
          0,
          0,
          0,
          0,
          0,
          0,
          0,
          0,
          0,
          0,
          0,
          0,
          0,
          0,
          0,
          0,
          0,
          0,
          0,
          0,
          0,
          0,
          0,
          0,
          0,
          0,
          0,
          0,
          0,
          0,
          0,
          0,
          0,
          0,
          0
         ],
         "yaxis": "y"
        }
       ],
       "layout": {
        "legend": {
         "title": {
          "text": "number of topics"
         },
         "tracegroupgap": 0
        },
        "template": {
         "data": {
          "bar": [
           {
            "error_x": {
             "color": "#2a3f5f"
            },
            "error_y": {
             "color": "#2a3f5f"
            },
            "marker": {
             "line": {
              "color": "#E5ECF6",
              "width": 0.5
             },
             "pattern": {
              "fillmode": "overlay",
              "size": 10,
              "solidity": 0.2
             }
            },
            "type": "bar"
           }
          ],
          "barpolar": [
           {
            "marker": {
             "line": {
              "color": "#E5ECF6",
              "width": 0.5
             },
             "pattern": {
              "fillmode": "overlay",
              "size": 10,
              "solidity": 0.2
             }
            },
            "type": "barpolar"
           }
          ],
          "carpet": [
           {
            "aaxis": {
             "endlinecolor": "#2a3f5f",
             "gridcolor": "white",
             "linecolor": "white",
             "minorgridcolor": "white",
             "startlinecolor": "#2a3f5f"
            },
            "baxis": {
             "endlinecolor": "#2a3f5f",
             "gridcolor": "white",
             "linecolor": "white",
             "minorgridcolor": "white",
             "startlinecolor": "#2a3f5f"
            },
            "type": "carpet"
           }
          ],
          "choropleth": [
           {
            "colorbar": {
             "outlinewidth": 0,
             "ticks": ""
            },
            "type": "choropleth"
           }
          ],
          "contour": [
           {
            "colorbar": {
             "outlinewidth": 0,
             "ticks": ""
            },
            "colorscale": [
             [
              0,
              "#0d0887"
             ],
             [
              0.1111111111111111,
              "#46039f"
             ],
             [
              0.2222222222222222,
              "#7201a8"
             ],
             [
              0.3333333333333333,
              "#9c179e"
             ],
             [
              0.4444444444444444,
              "#bd3786"
             ],
             [
              0.5555555555555556,
              "#d8576b"
             ],
             [
              0.6666666666666666,
              "#ed7953"
             ],
             [
              0.7777777777777778,
              "#fb9f3a"
             ],
             [
              0.8888888888888888,
              "#fdca26"
             ],
             [
              1,
              "#f0f921"
             ]
            ],
            "type": "contour"
           }
          ],
          "contourcarpet": [
           {
            "colorbar": {
             "outlinewidth": 0,
             "ticks": ""
            },
            "type": "contourcarpet"
           }
          ],
          "heatmap": [
           {
            "colorbar": {
             "outlinewidth": 0,
             "ticks": ""
            },
            "colorscale": [
             [
              0,
              "#0d0887"
             ],
             [
              0.1111111111111111,
              "#46039f"
             ],
             [
              0.2222222222222222,
              "#7201a8"
             ],
             [
              0.3333333333333333,
              "#9c179e"
             ],
             [
              0.4444444444444444,
              "#bd3786"
             ],
             [
              0.5555555555555556,
              "#d8576b"
             ],
             [
              0.6666666666666666,
              "#ed7953"
             ],
             [
              0.7777777777777778,
              "#fb9f3a"
             ],
             [
              0.8888888888888888,
              "#fdca26"
             ],
             [
              1,
              "#f0f921"
             ]
            ],
            "type": "heatmap"
           }
          ],
          "heatmapgl": [
           {
            "colorbar": {
             "outlinewidth": 0,
             "ticks": ""
            },
            "colorscale": [
             [
              0,
              "#0d0887"
             ],
             [
              0.1111111111111111,
              "#46039f"
             ],
             [
              0.2222222222222222,
              "#7201a8"
             ],
             [
              0.3333333333333333,
              "#9c179e"
             ],
             [
              0.4444444444444444,
              "#bd3786"
             ],
             [
              0.5555555555555556,
              "#d8576b"
             ],
             [
              0.6666666666666666,
              "#ed7953"
             ],
             [
              0.7777777777777778,
              "#fb9f3a"
             ],
             [
              0.8888888888888888,
              "#fdca26"
             ],
             [
              1,
              "#f0f921"
             ]
            ],
            "type": "heatmapgl"
           }
          ],
          "histogram": [
           {
            "marker": {
             "pattern": {
              "fillmode": "overlay",
              "size": 10,
              "solidity": 0.2
             }
            },
            "type": "histogram"
           }
          ],
          "histogram2d": [
           {
            "colorbar": {
             "outlinewidth": 0,
             "ticks": ""
            },
            "colorscale": [
             [
              0,
              "#0d0887"
             ],
             [
              0.1111111111111111,
              "#46039f"
             ],
             [
              0.2222222222222222,
              "#7201a8"
             ],
             [
              0.3333333333333333,
              "#9c179e"
             ],
             [
              0.4444444444444444,
              "#bd3786"
             ],
             [
              0.5555555555555556,
              "#d8576b"
             ],
             [
              0.6666666666666666,
              "#ed7953"
             ],
             [
              0.7777777777777778,
              "#fb9f3a"
             ],
             [
              0.8888888888888888,
              "#fdca26"
             ],
             [
              1,
              "#f0f921"
             ]
            ],
            "type": "histogram2d"
           }
          ],
          "histogram2dcontour": [
           {
            "colorbar": {
             "outlinewidth": 0,
             "ticks": ""
            },
            "colorscale": [
             [
              0,
              "#0d0887"
             ],
             [
              0.1111111111111111,
              "#46039f"
             ],
             [
              0.2222222222222222,
              "#7201a8"
             ],
             [
              0.3333333333333333,
              "#9c179e"
             ],
             [
              0.4444444444444444,
              "#bd3786"
             ],
             [
              0.5555555555555556,
              "#d8576b"
             ],
             [
              0.6666666666666666,
              "#ed7953"
             ],
             [
              0.7777777777777778,
              "#fb9f3a"
             ],
             [
              0.8888888888888888,
              "#fdca26"
             ],
             [
              1,
              "#f0f921"
             ]
            ],
            "type": "histogram2dcontour"
           }
          ],
          "mesh3d": [
           {
            "colorbar": {
             "outlinewidth": 0,
             "ticks": ""
            },
            "type": "mesh3d"
           }
          ],
          "parcoords": [
           {
            "line": {
             "colorbar": {
              "outlinewidth": 0,
              "ticks": ""
             }
            },
            "type": "parcoords"
           }
          ],
          "pie": [
           {
            "automargin": true,
            "type": "pie"
           }
          ],
          "scatter": [
           {
            "fillpattern": {
             "fillmode": "overlay",
             "size": 10,
             "solidity": 0.2
            },
            "type": "scatter"
           }
          ],
          "scatter3d": [
           {
            "line": {
             "colorbar": {
              "outlinewidth": 0,
              "ticks": ""
             }
            },
            "marker": {
             "colorbar": {
              "outlinewidth": 0,
              "ticks": ""
             }
            },
            "type": "scatter3d"
           }
          ],
          "scattercarpet": [
           {
            "marker": {
             "colorbar": {
              "outlinewidth": 0,
              "ticks": ""
             }
            },
            "type": "scattercarpet"
           }
          ],
          "scattergeo": [
           {
            "marker": {
             "colorbar": {
              "outlinewidth": 0,
              "ticks": ""
             }
            },
            "type": "scattergeo"
           }
          ],
          "scattergl": [
           {
            "marker": {
             "colorbar": {
              "outlinewidth": 0,
              "ticks": ""
             }
            },
            "type": "scattergl"
           }
          ],
          "scattermapbox": [
           {
            "marker": {
             "colorbar": {
              "outlinewidth": 0,
              "ticks": ""
             }
            },
            "type": "scattermapbox"
           }
          ],
          "scatterpolar": [
           {
            "marker": {
             "colorbar": {
              "outlinewidth": 0,
              "ticks": ""
             }
            },
            "type": "scatterpolar"
           }
          ],
          "scatterpolargl": [
           {
            "marker": {
             "colorbar": {
              "outlinewidth": 0,
              "ticks": ""
             }
            },
            "type": "scatterpolargl"
           }
          ],
          "scatterternary": [
           {
            "marker": {
             "colorbar": {
              "outlinewidth": 0,
              "ticks": ""
             }
            },
            "type": "scatterternary"
           }
          ],
          "surface": [
           {
            "colorbar": {
             "outlinewidth": 0,
             "ticks": ""
            },
            "colorscale": [
             [
              0,
              "#0d0887"
             ],
             [
              0.1111111111111111,
              "#46039f"
             ],
             [
              0.2222222222222222,
              "#7201a8"
             ],
             [
              0.3333333333333333,
              "#9c179e"
             ],
             [
              0.4444444444444444,
              "#bd3786"
             ],
             [
              0.5555555555555556,
              "#d8576b"
             ],
             [
              0.6666666666666666,
              "#ed7953"
             ],
             [
              0.7777777777777778,
              "#fb9f3a"
             ],
             [
              0.8888888888888888,
              "#fdca26"
             ],
             [
              1,
              "#f0f921"
             ]
            ],
            "type": "surface"
           }
          ],
          "table": [
           {
            "cells": {
             "fill": {
              "color": "#EBF0F8"
             },
             "line": {
              "color": "white"
             }
            },
            "header": {
             "fill": {
              "color": "#C8D4E3"
             },
             "line": {
              "color": "white"
             }
            },
            "type": "table"
           }
          ]
         },
         "layout": {
          "annotationdefaults": {
           "arrowcolor": "#2a3f5f",
           "arrowhead": 0,
           "arrowwidth": 1
          },
          "autotypenumbers": "strict",
          "coloraxis": {
           "colorbar": {
            "outlinewidth": 0,
            "ticks": ""
           }
          },
          "colorscale": {
           "diverging": [
            [
             0,
             "#8e0152"
            ],
            [
             0.1,
             "#c51b7d"
            ],
            [
             0.2,
             "#de77ae"
            ],
            [
             0.3,
             "#f1b6da"
            ],
            [
             0.4,
             "#fde0ef"
            ],
            [
             0.5,
             "#f7f7f7"
            ],
            [
             0.6,
             "#e6f5d0"
            ],
            [
             0.7,
             "#b8e186"
            ],
            [
             0.8,
             "#7fbc41"
            ],
            [
             0.9,
             "#4d9221"
            ],
            [
             1,
             "#276419"
            ]
           ],
           "sequential": [
            [
             0,
             "#0d0887"
            ],
            [
             0.1111111111111111,
             "#46039f"
            ],
            [
             0.2222222222222222,
             "#7201a8"
            ],
            [
             0.3333333333333333,
             "#9c179e"
            ],
            [
             0.4444444444444444,
             "#bd3786"
            ],
            [
             0.5555555555555556,
             "#d8576b"
            ],
            [
             0.6666666666666666,
             "#ed7953"
            ],
            [
             0.7777777777777778,
             "#fb9f3a"
            ],
            [
             0.8888888888888888,
             "#fdca26"
            ],
            [
             1,
             "#f0f921"
            ]
           ],
           "sequentialminus": [
            [
             0,
             "#0d0887"
            ],
            [
             0.1111111111111111,
             "#46039f"
            ],
            [
             0.2222222222222222,
             "#7201a8"
            ],
            [
             0.3333333333333333,
             "#9c179e"
            ],
            [
             0.4444444444444444,
             "#bd3786"
            ],
            [
             0.5555555555555556,
             "#d8576b"
            ],
            [
             0.6666666666666666,
             "#ed7953"
            ],
            [
             0.7777777777777778,
             "#fb9f3a"
            ],
            [
             0.8888888888888888,
             "#fdca26"
            ],
            [
             1,
             "#f0f921"
            ]
           ]
          },
          "colorway": [
           "#636efa",
           "#EF553B",
           "#00cc96",
           "#ab63fa",
           "#FFA15A",
           "#19d3f3",
           "#FF6692",
           "#B6E880",
           "#FF97FF",
           "#FECB52"
          ],
          "font": {
           "color": "#2a3f5f"
          },
          "geo": {
           "bgcolor": "white",
           "lakecolor": "white",
           "landcolor": "#E5ECF6",
           "showlakes": true,
           "showland": true,
           "subunitcolor": "white"
          },
          "hoverlabel": {
           "align": "left"
          },
          "hovermode": "closest",
          "mapbox": {
           "style": "light"
          },
          "paper_bgcolor": "white",
          "plot_bgcolor": "#E5ECF6",
          "polar": {
           "angularaxis": {
            "gridcolor": "white",
            "linecolor": "white",
            "ticks": ""
           },
           "bgcolor": "#E5ECF6",
           "radialaxis": {
            "gridcolor": "white",
            "linecolor": "white",
            "ticks": ""
           }
          },
          "scene": {
           "xaxis": {
            "backgroundcolor": "#E5ECF6",
            "gridcolor": "white",
            "gridwidth": 2,
            "linecolor": "white",
            "showbackground": true,
            "ticks": "",
            "zerolinecolor": "white"
           },
           "yaxis": {
            "backgroundcolor": "#E5ECF6",
            "gridcolor": "white",
            "gridwidth": 2,
            "linecolor": "white",
            "showbackground": true,
            "ticks": "",
            "zerolinecolor": "white"
           },
           "zaxis": {
            "backgroundcolor": "#E5ECF6",
            "gridcolor": "white",
            "gridwidth": 2,
            "linecolor": "white",
            "showbackground": true,
            "ticks": "",
            "zerolinecolor": "white"
           }
          },
          "shapedefaults": {
           "line": {
            "color": "#2a3f5f"
           }
          },
          "ternary": {
           "aaxis": {
            "gridcolor": "white",
            "linecolor": "white",
            "ticks": ""
           },
           "baxis": {
            "gridcolor": "white",
            "linecolor": "white",
            "ticks": ""
           },
           "bgcolor": "#E5ECF6",
           "caxis": {
            "gridcolor": "white",
            "linecolor": "white",
            "ticks": ""
           }
          },
          "title": {
           "x": 0.05
          },
          "xaxis": {
           "automargin": true,
           "gridcolor": "white",
           "linecolor": "white",
           "ticks": "",
           "title": {
            "standoff": 15
           },
           "zerolinecolor": "white",
           "zerolinewidth": 2
          },
          "yaxis": {
           "automargin": true,
           "gridcolor": "white",
           "linecolor": "white",
           "ticks": "",
           "title": {
            "standoff": 15
           },
           "zerolinecolor": "white",
           "zerolinewidth": 2
          }
         }
        },
        "title": {
         "text": "Distribution of number of topics"
        },
        "xaxis": {
         "anchor": "y",
         "domain": [
          0,
          1
         ],
         "title": {
          "text": "threshold"
         }
        },
        "yaxis": {
         "anchor": "x",
         "domain": [
          0,
          1
         ],
         "title": {
          "text": "share of reviews, %"
         }
        }
       }
      }
     },
     "metadata": {},
     "output_type": "display_data"
    }
   ],
   "source": [
    "import tqdm\n",
    "import plotly.express as px\n",
    "\n",
    "tmp_dfs = []\n",
    "\n",
    "# iterating through different threshold levels\n",
    "for thr in tqdm.tqdm(np.arange(0, 0.35, 0.001)):\n",
    "    # calculating number of topics with probability > threshold for each document\n",
    "    tmp_df = pd.DataFrame(list(map(lambda x: len(list(filter(lambda y: y >= thr, x))), topic_distr))).rename(\n",
    "        columns = {0: 'num_topics'}\n",
    "    )\n",
    "    tmp_df['num_docs'] = 1\n",
    "    \n",
    "    tmp_df['num_topics_group'] = tmp_df['num_topics']\\\n",
    "        .map(lambda x: str(x) if x < 5 else '5+')\n",
    "    \n",
    "    # aggregating stats\n",
    "    tmp_df_aggr = tmp_df.groupby('num_topics_group', as_index = False).num_docs.sum()\n",
    "    tmp_df_aggr['threshold'] = thr\n",
    "    \n",
    "    tmp_dfs.append(tmp_df_aggr)\n",
    "\n",
    "num_topics_stats_df = pd.concat(tmp_dfs).pivot(index = 'threshold', \n",
    "                              values = 'num_docs',\n",
    "                              columns = 'num_topics_group').fillna(0)\n",
    "\n",
    "num_topics_stats_df = num_topics_stats_df.apply(lambda x: 100.*x/num_topics_stats_df.sum(axis = 1))\n",
    "\n",
    "# visualisation\n",
    "colormap = px.colors.sequential.YlGnBu\n",
    "px.area(num_topics_stats_df, \n",
    "       title = 'Distribution of number of topics',\n",
    "       labels = {'num_topics_group': 'number of topics',\n",
    "                'value': 'share of reviews, %'},\n",
    "       color_discrete_map = {\n",
    "          '0': colormap[0],\n",
    "          '1': colormap[3],\n",
    "          '2': colormap[4],\n",
    "          '3': colormap[5],\n",
    "          '4': colormap[6],\n",
    "          '5+': colormap[7]\n",
    "      })"
   ]
  },
  {
   "cell_type": "code",
   "execution_count": 219,
   "metadata": {},
   "outputs": [],
   "source": [
    "threshold = 0.25\n",
    "\n",
    "# define topic with probability > threshold for each document\n",
    "df['multiple_topics'] = list(map(\n",
    "    lambda doc_topic_distr: list(map(\n",
    "        lambda y: y[0], filter(lambda x: x[1] >= threshold, \n",
    "                               (enumerate(doc_topic_distr)))\n",
    "    )), topic_distr\n",
    "))\n",
    "\n",
    "# creating a dataset with docid, topic\n",
    "tmp_data = []\n",
    "\n",
    "for rec in df.to_dict('records'):\n",
    "    if len(rec['multiple_topics']) != 0:\n",
    "        mult_topics = rec['multiple_topics']\n",
    "    else:\n",
    "        mult_topics = [-1]\n",
    "        \n",
    "    for topic in mult_topics: \n",
    "        tmp_data.append(\n",
    "            {\n",
    "                'topic': topic,\n",
    "                'id': rec['Content'],\n",
    "            }\n",
    "        )\n",
    "            \n",
    "mult_topics_df = pd.DataFrame(tmp_data)\n",
    "df[\"multiple_topics_name\"] = df[\"multiple_topics\"].map(lambda x: [topic_name_to_id.get(i, \"No topic\") for i in x])\n"
   ]
  },
  {
   "cell_type": "code",
   "execution_count": 220,
   "metadata": {},
   "outputs": [
    {
     "data": {
      "text/html": [
       "<div>\n",
       "<style scoped>\n",
       "    .dataframe tbody tr th:only-of-type {\n",
       "        vertical-align: middle;\n",
       "    }\n",
       "\n",
       "    .dataframe tbody tr th {\n",
       "        vertical-align: top;\n",
       "    }\n",
       "\n",
       "    .dataframe thead th {\n",
       "        text-align: right;\n",
       "    }\n",
       "</style>\n",
       "<table border=\"1\" class=\"dataframe\">\n",
       "  <thead>\n",
       "    <tr style=\"text-align: right;\">\n",
       "      <th></th>\n",
       "      <th>File Name</th>\n",
       "      <th>turn_index</th>\n",
       "      <th>Content</th>\n",
       "      <th>preprocessed_content</th>\n",
       "      <th>Experiment</th>\n",
       "      <th>Condition</th>\n",
       "      <th>Id</th>\n",
       "      <th>Speaker</th>\n",
       "      <th>Index</th>\n",
       "      <th>one_topic</th>\n",
       "      <th>one_topic_name</th>\n",
       "      <th>multiple_topics</th>\n",
       "      <th>multiple_topics_name</th>\n",
       "    </tr>\n",
       "  </thead>\n",
       "  <tbody>\n",
       "    <tr>\n",
       "      <th>0</th>\n",
       "      <td>ID 05</td>\n",
       "      <td>1</td>\n",
       "      <td>So, that was very, let's say, unexpected and s...</td>\n",
       "      <td>let unexpected surprising moment realize disco...</td>\n",
       "      <td>OBE1</td>\n",
       "      <td>1</td>\n",
       "      <td>5</td>\n",
       "      <td>Participant</td>\n",
       "      <td>0</td>\n",
       "      <td>0</td>\n",
       "      <td>0_myself_body_reality_virtual</td>\n",
       "      <td>[0]</td>\n",
       "      <td>[0_myself_body_reality_virtual]</td>\n",
       "    </tr>\n",
       "    <tr>\n",
       "      <th>1</th>\n",
       "      <td>ID 05</td>\n",
       "      <td>3</td>\n",
       "      <td>It was a little bit like, okay, well, so it's ...</td>\n",
       "      <td>watch outside special lot emotion explain moment</td>\n",
       "      <td>OBE1</td>\n",
       "      <td>1</td>\n",
       "      <td>5</td>\n",
       "      <td>Participant</td>\n",
       "      <td>1</td>\n",
       "      <td>-1</td>\n",
       "      <td>-1_look_point_real_myself</td>\n",
       "      <td>[0]</td>\n",
       "      <td>[0_myself_body_reality_virtual]</td>\n",
       "    </tr>\n",
       "    <tr>\n",
       "      <th>2</th>\n",
       "      <td>ID 05</td>\n",
       "      <td>5</td>\n",
       "      <td>So I'm not sure I've got all the perfect descr...</td>\n",
       "      <td>perfect description</td>\n",
       "      <td>OBE1</td>\n",
       "      <td>1</td>\n",
       "      <td>5</td>\n",
       "      <td>Participant</td>\n",
       "      <td>2</td>\n",
       "      <td>-1</td>\n",
       "      <td>-1_look_point_real_myself</td>\n",
       "      <td>[]</td>\n",
       "      <td>[]</td>\n",
       "    </tr>\n",
       "    <tr>\n",
       "      <th>3</th>\n",
       "      <td>ID 05</td>\n",
       "      <td>7</td>\n",
       "      <td>The thing that I didn't really understand, but...</td>\n",
       "      <td>understand understand body touching basically ...</td>\n",
       "      <td>OBE1</td>\n",
       "      <td>1</td>\n",
       "      <td>5</td>\n",
       "      <td>Participant</td>\n",
       "      <td>3</td>\n",
       "      <td>5</td>\n",
       "      <td>5_touch_delay_scene_image</td>\n",
       "      <td>[5, 17]</td>\n",
       "      <td>[5_touch_delay_scene_image, 17_interesting_pub...</td>\n",
       "    </tr>\n",
       "    <tr>\n",
       "      <th>4</th>\n",
       "      <td>ID 05</td>\n",
       "      <td>9</td>\n",
       "      <td>So I felt like a time lag in the last one of w...</td>\n",
       "      <td>lag body</td>\n",
       "      <td>OBE1</td>\n",
       "      <td>1</td>\n",
       "      <td>5</td>\n",
       "      <td>Participant</td>\n",
       "      <td>4</td>\n",
       "      <td>2</td>\n",
       "      <td>2_body_heavy_light_come</td>\n",
       "      <td>[2]</td>\n",
       "      <td>[2_body_heavy_light_come]</td>\n",
       "    </tr>\n",
       "  </tbody>\n",
       "</table>\n",
       "</div>"
      ],
      "text/plain": [
       "  File Name  turn_index                                            Content  \\\n",
       "0     ID 05           1  So, that was very, let's say, unexpected and s...   \n",
       "1     ID 05           3  It was a little bit like, okay, well, so it's ...   \n",
       "2     ID 05           5  So I'm not sure I've got all the perfect descr...   \n",
       "3     ID 05           7  The thing that I didn't really understand, but...   \n",
       "4     ID 05           9  So I felt like a time lag in the last one of w...   \n",
       "\n",
       "                                preprocessed_content Experiment Condition  Id  \\\n",
       "0  let unexpected surprising moment realize disco...       OBE1         1   5   \n",
       "1   watch outside special lot emotion explain moment       OBE1         1   5   \n",
       "2                                perfect description       OBE1         1   5   \n",
       "3  understand understand body touching basically ...       OBE1         1   5   \n",
       "4                                           lag body       OBE1         1   5   \n",
       "\n",
       "       Speaker  Index  one_topic                 one_topic_name  \\\n",
       "0  Participant      0          0  0_myself_body_reality_virtual   \n",
       "1  Participant      1         -1      -1_look_point_real_myself   \n",
       "2  Participant      2         -1      -1_look_point_real_myself   \n",
       "3  Participant      3          5      5_touch_delay_scene_image   \n",
       "4  Participant      4          2        2_body_heavy_light_come   \n",
       "\n",
       "  multiple_topics                               multiple_topics_name  \n",
       "0             [0]                    [0_myself_body_reality_virtual]  \n",
       "1             [0]                    [0_myself_body_reality_virtual]  \n",
       "2              []                                                 []  \n",
       "3         [5, 17]  [5_touch_delay_scene_image, 17_interesting_pub...  \n",
       "4             [2]                          [2_body_heavy_light_come]  "
      ]
     },
     "execution_count": 220,
     "metadata": {},
     "output_type": "execute_result"
    }
   ],
   "source": [
    "df.to_csv(\"df_topic_multiples.csv\", index = False)\n",
    "df.head()"
   ]
  }
 ],
 "metadata": {
  "kernelspec": {
   "display_name": "topic",
   "language": "python",
   "name": "python3"
  },
  "language_info": {
   "codemirror_mode": {
    "name": "ipython",
    "version": 3
   },
   "file_extension": ".py",
   "mimetype": "text/x-python",
   "name": "python",
   "nbconvert_exporter": "python",
   "pygments_lexer": "ipython3",
   "version": "3.10.16"
  }
 },
 "nbformat": 4,
 "nbformat_minor": 2
}
