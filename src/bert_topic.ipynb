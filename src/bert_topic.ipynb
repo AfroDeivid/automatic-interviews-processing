{
 "cells": [
  {
   "cell_type": "markdown",
   "metadata": {},
   "source": [
    "# Topic Modeling with BERTopic\n",
    "This notebook explores topic modeling using the *BERTopic* library on conversational data, such as interview transcripts. The workflow is tailored to handle challenges inherent to conversational datasets, like shifting contexts and overlapping themes, ensuring meaningful and coherent topic extraction.\n",
    "\n",
    "The process includes:\n",
    "\n",
    "- **Document Preparation:** Preprocessing and segmenting transcripts to optimize context preservation.\n",
    "- **Topic Modeling Pipeline:** Combining embedding generation, dimensionality reduction, clustering, and topic representation for flexible and efficient topic extraction.\n",
    "- **Topic Assignment:** Exploring multiple topic assignments per document to reduce noise and improve analytical accuracy."
   ]
  },
  {
   "cell_type": "code",
   "execution_count": 1,
   "metadata": {},
   "outputs": [],
   "source": [
    "%load_ext autoreload\n",
    "%autoreload 2"
   ]
  },
  {
   "cell_type": "code",
   "execution_count": 2,
   "metadata": {},
   "outputs": [],
   "source": [
    "from utils.analysis_helpers import *\n",
    "from bertopic import BERTopic"
   ]
  },
  {
   "cell_type": "markdown",
   "metadata": {},
   "source": [
    "# Defining and preprocessing Documents for Topic Modeling\n",
    "\n",
    "In this section, we focus on defining and preparing the dataset for topic modeling. Conversational data, such as interviews, requires specific preprocessing and representation strategies to ensure meaningful and coherent results. The main steps include:\n",
    "\n",
    "- Loading and filtering the dataset.\n",
    "- Preprocessing the text to clean and standardize the content.\n",
    "- Splitting the data into turns to preserve the local context.\n",
    "- Preparing the text for embedding generation and topic modeling."
   ]
  },
  {
   "cell_type": "code",
   "execution_count": 3,
   "metadata": {},
   "outputs": [
    {
     "name": "stdout",
     "output_type": "stream",
     "text": [
      "Unique conditions before filtering: ['1' 'C' 'I' '0']\n",
      "Number of interviews before filtering: 82\n",
      "Unique conditions after filtering: ['1' 'C' 'I']\n",
      "Number of interviews (File Name) after filtering: 75\n"
     ]
    }
   ],
   "source": [
    "df_all = pd.read_csv(\"../Dataset/meditation_interviews/transcripts_merged.csv\")\n",
    "\n",
    "print(f\"Unique conditions before filtering: {df_all['Condition'].unique()}\")\n",
    "print(f\"Number of interviews before filtering: {df_all['File Name'].nunique()}\")\n",
    "# *0*: No \"real\" interview (e.g., setup phase, small talk). We filter these out.\n",
    "df_all = df_all[df_all[\"Condition\"] != '0']\n",
    "print(f\"Unique conditions after filtering: {df_all['Condition'].unique()}\")\n",
    "print(f\"Number of interviews (File Name) after filtering: {df_all['File Name'].nunique()}\")"
   ]
  },
  {
   "cell_type": "markdown",
   "metadata": {},
   "source": [
    "## Preprocessing the Data\n",
    "\n",
    "- **Speaker and Experiment Filtering**  \n",
    "The dataset can be filtered to focus on specific speakers (Participants or Interviewers) and experiments.\n",
    "\n",
    "- **Text Cleaning Steps**\n",
    "    - **Lowercasing:** Text was converted to lowercase.\n",
    "    - **Lemmatization:** Words were reduced to their base forms.\n",
    "    - **Stop-word Removal:** Both generic and custom stop words were removed to produce meaningful topic.\n",
    "\n",
    "Rows with empty or non-informative content after preprocessing are removed to ensure high-quality input for modeling."
   ]
  },
  {
   "cell_type": "code",
   "execution_count": 4,
   "metadata": {},
   "outputs": [],
   "source": [
    "df = df_all.copy()\n",
    "# Focus only on the participant's or interviewer's speech or both\n",
    "df = df[df[\"Speaker\"] == \"Participant\"] #Interviewer\n",
    "\n",
    "# Focus only on some set of experiment\n",
    "#df = df[df[\"Experiment\"] != \"Compassion\"]\n",
    "\n",
    "# Preprocess the content\n",
    "extra_stopwords = [\n",
    "    # Filler Words: Common conversational placeholders without thematic value\n",
    "    \"yeah\", \"okay\", \"yes\", \"mean\", \"oh\", \"ah\", \"like\", \"kind\",\"kinda\", \"course\", \"way\",\n",
    "    # Vague/Ambiguous Words: Frequent but thematically irrelevant in conversations\n",
    "    \"think\", \"know\", \"really\", \"bit\", \"feel\", \"thing\", \"sort\", \"maybe\", \"little\", \"actually\",\n",
    "    \"sure\", \"exactly\", \"tell\", \"ask\", \"people\", \"think\",\n",
    "    # Broad terms or context-specific words overshadowing subtler themes\n",
    "    \"question\", \"sorry\", \"time\", \"first\", \"second\", \"later\", \"experience\", \"end\", \"meditation\"\n",
    "]\n",
    "df['preprocessed_content'] = df['Content'].apply(lambda x: preprocess_text(x, extra_stopwords=extra_stopwords, retain_stopwords=[\"yourself\", \"myself\"]))\n",
    "\n",
    "# Remove rows with empty content or content that's only punctuation after preprocessing\n",
    "df = df[df['preprocessed_content'].str.strip().str.len() > 0]"
   ]
  },
  {
   "cell_type": "markdown",
   "metadata": {},
   "source": [
    "## Splitting Data into Turns\n",
    "To address the challenges of conversational data, the text is split into *turns*:\n",
    "\n",
    "- A *turn* represents one speaker's uninterrupted speech until another speaker begins.\n",
    "- This approach preserves local context and avoids blending contributions from multiple speakers."
   ]
  },
  {
   "cell_type": "code",
   "execution_count": 5,
   "metadata": {},
   "outputs": [
    {
     "data": {
      "text/html": [
       "<div>\n",
       "<style scoped>\n",
       "    .dataframe tbody tr th:only-of-type {\n",
       "        vertical-align: middle;\n",
       "    }\n",
       "\n",
       "    .dataframe tbody tr th {\n",
       "        vertical-align: top;\n",
       "    }\n",
       "\n",
       "    .dataframe thead th {\n",
       "        text-align: right;\n",
       "    }\n",
       "</style>\n",
       "<table border=\"1\" class=\"dataframe\">\n",
       "  <thead>\n",
       "    <tr style=\"text-align: right;\">\n",
       "      <th></th>\n",
       "      <th>File Name</th>\n",
       "      <th>turn_index</th>\n",
       "      <th>Content</th>\n",
       "      <th>preprocessed_content</th>\n",
       "      <th>Experiment</th>\n",
       "      <th>Condition</th>\n",
       "      <th>Id</th>\n",
       "      <th>Speaker</th>\n",
       "    </tr>\n",
       "  </thead>\n",
       "  <tbody>\n",
       "    <tr>\n",
       "      <th>0</th>\n",
       "      <td>ID 05</td>\n",
       "      <td>1</td>\n",
       "      <td>So, that was very, let's say, unexpected and s...</td>\n",
       "      <td>let unexpected surprising moment realize disco...</td>\n",
       "      <td>OBE1</td>\n",
       "      <td>1</td>\n",
       "      <td>5</td>\n",
       "      <td>Participant</td>\n",
       "    </tr>\n",
       "    <tr>\n",
       "      <th>1</th>\n",
       "      <td>ID 05</td>\n",
       "      <td>3</td>\n",
       "      <td>It was a little bit like, okay, well, so it's ...</td>\n",
       "      <td>watch outside special lot emotion explain moment</td>\n",
       "      <td>OBE1</td>\n",
       "      <td>1</td>\n",
       "      <td>5</td>\n",
       "      <td>Participant</td>\n",
       "    </tr>\n",
       "  </tbody>\n",
       "</table>\n",
       "</div>"
      ],
      "text/plain": [
       "  File Name  turn_index                                            Content  \\\n",
       "0     ID 05           1  So, that was very, let's say, unexpected and s...   \n",
       "1     ID 05           3  It was a little bit like, okay, well, so it's ...   \n",
       "\n",
       "                                preprocessed_content Experiment Condition  Id  \\\n",
       "0  let unexpected surprising moment realize disco...       OBE1         1   5   \n",
       "1   watch outside special lot emotion explain moment       OBE1         1   5   \n",
       "\n",
       "       Speaker  \n",
       "0  Participant  \n",
       "1  Participant  "
      ]
     },
     "execution_count": 5,
     "metadata": {},
     "output_type": "execute_result"
    }
   ],
   "source": [
    "# Split the text into turns by interview (File Name)\n",
    "df = df.groupby(['File Name','turn_index']).agg({ \n",
    "    'Content': ' '.join,  # Combine raw text\n",
    "    'preprocessed_content': ' '.join,  # Combine preprocessed text\n",
    "    'Experiment': 'first',\n",
    "    'Condition': 'first', \n",
    "    'Id': 'first',  \n",
    "    'Speaker': 'first',   \n",
    "}).reset_index()\n",
    "df.head(2)"
   ]
  },
  {
   "cell_type": "markdown",
   "metadata": {},
   "source": [
    "The preprocessed text is converted into documents for embedding generation. The choice of document representation significantly impacts the quality and coherence of the topics generated:\n",
    "\n",
    "- **Preprocessed Content:** Cleaned and standardized text, which is ideal for improving topic coherence and ensuring embeddings capture meaningful content.  \n",
    "    - *Conversational datasets:* often involve shifting topics, filler words, and inconsistent sentence structures. For smaller datasets, preprocessing **before embedding generation** can yield better results by reducing noise and improving focus on meaningful terms.\n",
    "\n",
    "- **Original Content:** Raw, unprocessed text, retaining the original language structure. This is useful for preserving context but can produce noisier results, especially for **smaller** datasets &/or **conversational** data.  \n",
    "    - *Standard Approach:* Preprocessing (e.g., stop-word removal, lemmatization) is typically performed **after embeddings are generated** to preserve the raw context during vectorization. This ensures embeddings reflect the text's full semantic structure before clustering.\n",
    "\n",
    "I recommend testing both strategies with your dataset to determine which approach works best for your specific case. For this project, preprocessing **before embeddings** provided better results, as supported by the literature and testing."
   ]
  },
  {
   "cell_type": "code",
   "execution_count": 6,
   "metadata": {},
   "outputs": [
    {
     "name": "stdout",
     "output_type": "stream",
     "text": [
      "668\n"
     ]
    }
   ],
   "source": [
    "df[\"Index\"] = df.index\n",
    "docs = list(df.preprocessed_content)\n",
    "#docs = list(df.Content)\n",
    "print(len(docs))"
   ]
  },
  {
   "cell_type": "markdown",
   "metadata": {},
   "source": [
    "# Defining the Topic Modeling Pipeline\n",
    "This section outlines the pipeline for topic modeling, which includes embedding generation, dimensionality reduction, clustering, topic representation, and visualization. The pipeline is designed to efficiently process the dataset while allowing flexibility for fine-tuning the quality and number of topics.\n",
    "\n",
    "- **Embedding Model:** We use ``all-mpnet-base-v2`` from SentenceTransformers for generating high-quality embeddings. Alternatives use ``all-MiniLM-L6-v2`` for faster processing but slightly lower accuracy.\n",
    "- **Dimensionality Reduction:** UMAP reduces the high-dimensional embedding space to a lower-dimensional space to enhance clustering performance.\n",
    "- **Clustering:** HDBSCAN is used for clustering embeddings. It dynamically determines the number of clusters (topics) and identifies outliers.\n",
    "    - The parameter ``min_cluster_size`` controls the minimum number of documents per topic, allowing to fine-tuning the numbers of topics generated, especially critical for smaller datasets.\n",
    "- **Topic Representation and Vectorization (Optional):** When working with raw, unprocessed text, additional steps can refine topic quality and reduce noise."
   ]
  },
  {
   "cell_type": "code",
   "execution_count": 7,
   "metadata": {},
   "outputs": [
    {
     "data": {
      "application/vnd.jupyter.widget-view+json": {
       "model_id": "71bba74cd2514a459ad5902a1483827b",
       "version_major": 2,
       "version_minor": 0
      },
      "text/plain": [
       "Batches:   0%|          | 0/21 [00:00<?, ?it/s]"
      ]
     },
     "metadata": {},
     "output_type": "display_data"
    }
   ],
   "source": [
    "from sentence_transformers import SentenceTransformer\n",
    "\n",
    "# Pre-calculate embeddings\n",
    "embedding_model = SentenceTransformer(\"all-mpnet-base-v2\") # Better but slower: all-mpnet-base-v2 || Trade-off: all-MiniLM-L6-v2\n",
    "embeddings = embedding_model.encode(docs, show_progress_bar=True)"
   ]
  },
  {
   "cell_type": "code",
   "execution_count": 8,
   "metadata": {},
   "outputs": [],
   "source": [
    "# Fine-tune the numbers of topics generated\n",
    "# By increasing this value you reduce the number of topics\n",
    "# Adapt by respect the total number of documents (in our case number of turns)\n",
    "min_cluster_size = 8"
   ]
  },
  {
   "cell_type": "code",
   "execution_count": 9,
   "metadata": {},
   "outputs": [],
   "source": [
    "from umap import UMAP\n",
    "from hdbscan import HDBSCAN\n",
    "\n",
    "# Dimensionality reduction model\n",
    "umap_model = UMAP(n_neighbors=15, n_components=8, min_dist=0.0, metric='cosine', random_state=42)\n",
    "\n",
    "# Clustering model\n",
    "hdbscan_model = HDBSCAN(min_cluster_size=min_cluster_size, metric='euclidean', cluster_selection_method='eom')\n",
    "\n",
    "# Optional: Topic representation for raw content\n",
    "#from bertopic.representation import KeyBERTInspired, MaximalMarginalRelevance\n",
    "#representation_model = [KeyBERTInspired(), MaximalMarginalRelevance(diversity=.5)]\n",
    "\n",
    "# Optional: Vectorizer model for raw content\n",
    "#from sklearn.feature_extraction.text import CountVectorizer\n",
    "#stops_words = preprocess_text(\"sample\", return_stopwords=True, extra_stopwords=extra_stopwords, retain_stopwords=[\"yourself\", \"myself\"])\n",
    "#vectorizer_model = CountVectorizer(stop_words=stops_words)\n",
    "\n",
    "topic_model = BERTopic(                     \n",
    "embedding_model=embedding_model,  # Embedding generation\n",
    "umap_model=umap_model,            # Dimensionality reduction\n",
    "hdbscan_model=hdbscan_model,      # Clustering\n",
    "#vectorizer_model=vectorizer_model,\n",
    "#representation_model=representation_model,\n",
    "verbose=True)"
   ]
  },
  {
   "cell_type": "code",
   "execution_count": 10,
   "metadata": {},
   "outputs": [
    {
     "name": "stderr",
     "output_type": "stream",
     "text": [
      "2025-02-02 13:22:26,090 - BERTopic - Dimensionality - Fitting the dimensionality reduction algorithm\n",
      "2025-02-02 13:22:50,274 - BERTopic - Dimensionality - Completed ✓\n",
      "2025-02-02 13:22:50,276 - BERTopic - Cluster - Start clustering the reduced embeddings\n",
      "2025-02-02 13:22:50,341 - BERTopic - Cluster - Completed ✓\n",
      "2025-02-02 13:22:50,362 - BERTopic - Representation - Extracting topics from clusters using representation models.\n",
      "2025-02-02 13:22:50,416 - BERTopic - Representation - Completed ✓\n"
     ]
    },
    {
     "data": {
      "text/plain": [
       "20"
      ]
     },
     "execution_count": 10,
     "metadata": {},
     "output_type": "execute_result"
    }
   ],
   "source": [
    "topics, ini_probs = topic_model.fit_transform(docs, embeddings=embeddings)\n",
    "num_topics = len(topic_model.get_topics()) \n",
    "num_topics"
   ]
  },
  {
   "cell_type": "code",
   "execution_count": 11,
   "metadata": {},
   "outputs": [
    {
     "data": {
      "text/html": [
       "<div>\n",
       "<style scoped>\n",
       "    .dataframe tbody tr th:only-of-type {\n",
       "        vertical-align: middle;\n",
       "    }\n",
       "\n",
       "    .dataframe tbody tr th {\n",
       "        vertical-align: top;\n",
       "    }\n",
       "\n",
       "    .dataframe thead th {\n",
       "        text-align: right;\n",
       "    }\n",
       "</style>\n",
       "<table border=\"1\" class=\"dataframe\">\n",
       "  <thead>\n",
       "    <tr style=\"text-align: right;\">\n",
       "      <th></th>\n",
       "      <th>Topic</th>\n",
       "      <th>Count</th>\n",
       "      <th>Name</th>\n",
       "      <th>Representation</th>\n",
       "      <th>Representative_Docs</th>\n",
       "    </tr>\n",
       "  </thead>\n",
       "  <tbody>\n",
       "    <tr>\n",
       "      <th>0</th>\n",
       "      <td>-1</td>\n",
       "      <td>206</td>\n",
       "      <td>-1_myself_look_body_real</td>\n",
       "      <td>[myself, look, body, real, point, different, f...</td>\n",
       "      <td>[calm relax big natural comfortable environmen...</td>\n",
       "    </tr>\n",
       "    <tr>\n",
       "      <th>1</th>\n",
       "      <td>0</td>\n",
       "      <td>47</td>\n",
       "      <td>0_interesting_easy_nice_fine</td>\n",
       "      <td>[interesting, easy, nice, fine, fun, absolutel...</td>\n",
       "      <td>[interesting, easy nice, nice interesting]</td>\n",
       "    </tr>\n",
       "    <tr>\n",
       "      <th>2</th>\n",
       "      <td>1</td>\n",
       "      <td>46</td>\n",
       "      <td>1_focus_leg_eye_distract</td>\n",
       "      <td>[focus, leg, eye, distract, try, easy, concent...</td>\n",
       "      <td>[focus myself focus instruction eye closed hea...</td>\n",
       "    </tr>\n",
       "    <tr>\n",
       "      <th>3</th>\n",
       "      <td>2</td>\n",
       "      <td>46</td>\n",
       "      <td>2_relax_fall_sleep_asleep</td>\n",
       "      <td>[relax, fall, sleep, asleep, calm, relaxed, sl...</td>\n",
       "      <td>[calm want sleep, relaxed afraid fall sleep go...</td>\n",
       "    </tr>\n",
       "    <tr>\n",
       "      <th>4</th>\n",
       "      <td>3</td>\n",
       "      <td>44</td>\n",
       "      <td>3_reality_body_different_yourself</td>\n",
       "      <td>[reality, body, different, yourself, room, out...</td>\n",
       "      <td>[understand differently today want life illusi...</td>\n",
       "    </tr>\n",
       "    <tr>\n",
       "      <th>5</th>\n",
       "      <td>4</td>\n",
       "      <td>37</td>\n",
       "      <td>4_body_heavy_light_come</td>\n",
       "      <td>[body, heavy, light, come, half, phrase, outsi...</td>\n",
       "      <td>[body, body, body]</td>\n",
       "    </tr>\n",
       "    <tr>\n",
       "      <th>6</th>\n",
       "      <td>5</td>\n",
       "      <td>29</td>\n",
       "      <td>5_color_yellow_normal_difference</td>\n",
       "      <td>[color, yellow, normal, difference, change, di...</td>\n",
       "      <td>[yellow color blue color, notice change color,...</td>\n",
       "    </tr>\n",
       "    <tr>\n",
       "      <th>7</th>\n",
       "      <td>6</td>\n",
       "      <td>23</td>\n",
       "      <td>6_touch_delay_scene_image</td>\n",
       "      <td>[touch, delay, scene, image, catch, body, touc...</td>\n",
       "      <td>[touch image touch touch difference touch imag...</td>\n",
       "    </tr>\n",
       "    <tr>\n",
       "      <th>8</th>\n",
       "      <td>7</td>\n",
       "      <td>23</td>\n",
       "      <td>7_virtual_body_vr_myself</td>\n",
       "      <td>[virtual, body, vr, myself, hologram, actual, ...</td>\n",
       "      <td>[virtual body mind virtual body look myself ob...</td>\n",
       "    </tr>\n",
       "    <tr>\n",
       "      <th>9</th>\n",
       "      <td>8</td>\n",
       "      <td>23</td>\n",
       "      <td>8_forest_rock_tree_adventure</td>\n",
       "      <td>[forest, rock, tree, adventure, indonesia, riv...</td>\n",
       "      <td>[nice forest love forest good surprise calm re...</td>\n",
       "    </tr>\n",
       "    <tr>\n",
       "      <th>10</th>\n",
       "      <td>9</td>\n",
       "      <td>22</td>\n",
       "      <td>9_eye_open_close_condition</td>\n",
       "      <td>[eye, open, close, condition, 30, view, easy, ...</td>\n",
       "      <td>[eye close, close close normally close eye ope...</td>\n",
       "    </tr>\n",
       "    <tr>\n",
       "      <th>11</th>\n",
       "      <td>10</td>\n",
       "      <td>22</td>\n",
       "      <td>10_avatar_blink_myself_identify</td>\n",
       "      <td>[avatar, blink, myself, identify, recognize, s...</td>\n",
       "      <td>[refer avatar avatar myself, avatar blink, ava...</td>\n",
       "    </tr>\n",
       "    <tr>\n",
       "      <th>12</th>\n",
       "      <td>11</td>\n",
       "      <td>19</td>\n",
       "      <td>11_strange_weird_funny_creepy</td>\n",
       "      <td>[strange, weird, funny, creepy, accept, unders...</td>\n",
       "      <td>[strange accept strange, strange, strange]</td>\n",
       "    </tr>\n",
       "    <tr>\n",
       "      <th>13</th>\n",
       "      <td>12</td>\n",
       "      <td>15</td>\n",
       "      <td>12_want_mental_good_complicated</td>\n",
       "      <td>[want, mental, good, complicated, urgent, unne...</td>\n",
       "      <td>[good good come mental mental, want want, want]</td>\n",
       "    </tr>\n",
       "    <tr>\n",
       "      <th>14</th>\n",
       "      <td>13</td>\n",
       "      <td>14</td>\n",
       "      <td>13_voice_platform_rock_space</td>\n",
       "      <td>[voice, platform, rock, space, cool, sensation...</td>\n",
       "      <td>[cool voice let thought come body leave though...</td>\n",
       "    </tr>\n",
       "    <tr>\n",
       "      <th>15</th>\n",
       "      <td>14</td>\n",
       "      <td>13</td>\n",
       "      <td>14_notice_change_damn_small</td>\n",
       "      <td>[notice, change, damn, small, pay, check, subt...</td>\n",
       "      <td>[change change small short, notice notice thou...</td>\n",
       "    </tr>\n",
       "    <tr>\n",
       "      <th>16</th>\n",
       "      <td>15</td>\n",
       "      <td>12</td>\n",
       "      <td>15_strange_scary_feeling_look</td>\n",
       "      <td>[strange, scary, feeling, look, fully, discomf...</td>\n",
       "      <td>[strange body different separate lot word feel...</td>\n",
       "    </tr>\n",
       "    <tr>\n",
       "      <th>17</th>\n",
       "      <td>16</td>\n",
       "      <td>10</td>\n",
       "      <td>16_100_10_somewhat_percentage</td>\n",
       "      <td>[100, 10, somewhat, percentage, number, total,...</td>\n",
       "      <td>[help 100 term percentage 75, 100, 100]</td>\n",
       "    </tr>\n",
       "    <tr>\n",
       "      <th>18</th>\n",
       "      <td>17</td>\n",
       "      <td>9</td>\n",
       "      <td>17_room_center_mountain_especially</td>\n",
       "      <td>[room, center, mountain, especially, different...</td>\n",
       "      <td>[center square cube bother, room especially es...</td>\n",
       "    </tr>\n",
       "    <tr>\n",
       "      <th>19</th>\n",
       "      <td>18</td>\n",
       "      <td>8</td>\n",
       "      <td>18_quickly_happen_movement_constantly</td>\n",
       "      <td>[quickly, happen, movement, constantly, asynch...</td>\n",
       "      <td>[surprising use quickly enjoy, let happen quic...</td>\n",
       "    </tr>\n",
       "  </tbody>\n",
       "</table>\n",
       "</div>"
      ],
      "text/plain": [
       "    Topic  Count                                   Name  \\\n",
       "0      -1    206               -1_myself_look_body_real   \n",
       "1       0     47           0_interesting_easy_nice_fine   \n",
       "2       1     46               1_focus_leg_eye_distract   \n",
       "3       2     46              2_relax_fall_sleep_asleep   \n",
       "4       3     44      3_reality_body_different_yourself   \n",
       "5       4     37                4_body_heavy_light_come   \n",
       "6       5     29       5_color_yellow_normal_difference   \n",
       "7       6     23              6_touch_delay_scene_image   \n",
       "8       7     23               7_virtual_body_vr_myself   \n",
       "9       8     23           8_forest_rock_tree_adventure   \n",
       "10      9     22             9_eye_open_close_condition   \n",
       "11     10     22        10_avatar_blink_myself_identify   \n",
       "12     11     19          11_strange_weird_funny_creepy   \n",
       "13     12     15        12_want_mental_good_complicated   \n",
       "14     13     14           13_voice_platform_rock_space   \n",
       "15     14     13            14_notice_change_damn_small   \n",
       "16     15     12          15_strange_scary_feeling_look   \n",
       "17     16     10          16_100_10_somewhat_percentage   \n",
       "18     17      9     17_room_center_mountain_especially   \n",
       "19     18      8  18_quickly_happen_movement_constantly   \n",
       "\n",
       "                                       Representation  \\\n",
       "0   [myself, look, body, real, point, different, f...   \n",
       "1   [interesting, easy, nice, fine, fun, absolutel...   \n",
       "2   [focus, leg, eye, distract, try, easy, concent...   \n",
       "3   [relax, fall, sleep, asleep, calm, relaxed, sl...   \n",
       "4   [reality, body, different, yourself, room, out...   \n",
       "5   [body, heavy, light, come, half, phrase, outsi...   \n",
       "6   [color, yellow, normal, difference, change, di...   \n",
       "7   [touch, delay, scene, image, catch, body, touc...   \n",
       "8   [virtual, body, vr, myself, hologram, actual, ...   \n",
       "9   [forest, rock, tree, adventure, indonesia, riv...   \n",
       "10  [eye, open, close, condition, 30, view, easy, ...   \n",
       "11  [avatar, blink, myself, identify, recognize, s...   \n",
       "12  [strange, weird, funny, creepy, accept, unders...   \n",
       "13  [want, mental, good, complicated, urgent, unne...   \n",
       "14  [voice, platform, rock, space, cool, sensation...   \n",
       "15  [notice, change, damn, small, pay, check, subt...   \n",
       "16  [strange, scary, feeling, look, fully, discomf...   \n",
       "17  [100, 10, somewhat, percentage, number, total,...   \n",
       "18  [room, center, mountain, especially, different...   \n",
       "19  [quickly, happen, movement, constantly, asynch...   \n",
       "\n",
       "                                  Representative_Docs  \n",
       "0   [calm relax big natural comfortable environmen...  \n",
       "1          [interesting, easy nice, nice interesting]  \n",
       "2   [focus myself focus instruction eye closed hea...  \n",
       "3   [calm want sleep, relaxed afraid fall sleep go...  \n",
       "4   [understand differently today want life illusi...  \n",
       "5                                  [body, body, body]  \n",
       "6   [yellow color blue color, notice change color,...  \n",
       "7   [touch image touch touch difference touch imag...  \n",
       "8   [virtual body mind virtual body look myself ob...  \n",
       "9   [nice forest love forest good surprise calm re...  \n",
       "10  [eye close, close close normally close eye ope...  \n",
       "11  [refer avatar avatar myself, avatar blink, ava...  \n",
       "12         [strange accept strange, strange, strange]  \n",
       "13    [good good come mental mental, want want, want]  \n",
       "14  [cool voice let thought come body leave though...  \n",
       "15  [change change small short, notice notice thou...  \n",
       "16  [strange body different separate lot word feel...  \n",
       "17            [help 100 term percentage 75, 100, 100]  \n",
       "18  [center square cube bother, room especially es...  \n",
       "19  [surprising use quickly enjoy, let happen quic...  "
      ]
     },
     "execution_count": 11,
     "metadata": {},
     "output_type": "execute_result"
    }
   ],
   "source": [
    "os.makedirs(\"outputs/topics\", exist_ok=True)\n",
    "topic_model.get_topic_info().to_csv(\"outputs/topics/topic_names_info.csv\",index=False)\n",
    "topic_model.get_topic_info()"
   ]
  },
  {
   "cell_type": "code",
   "execution_count": 12,
   "metadata": {},
   "outputs": [
    {
     "data": {
      "application/vnd.plotly.v1+json": {
       "config": {
        "plotlyServerURL": "https://plot.ly"
       },
       "data": [
        {
         "marker": {
          "color": "#D55E00"
         },
         "orientation": "h",
         "type": "bar",
         "x": [
          0.1806781911325633,
          0.18455576233670096,
          0.2082725616881026,
          0.24654365923513602,
          0.2803821094456347
         ],
         "xaxis": "x",
         "y": [
          "fun  ",
          "fine  ",
          "nice  ",
          "easy  ",
          "interesting  "
         ],
         "yaxis": "y"
        },
        {
         "marker": {
          "color": "#0072B2"
         },
         "orientation": "h",
         "type": "bar",
         "x": [
          0.04157292675703238,
          0.04687644895766779,
          0.05078005756333089,
          0.06054192005578088,
          0.09774183481832728
         ],
         "xaxis": "x2",
         "y": [
          "try  ",
          "distract  ",
          "eye  ",
          "leg  ",
          "focus  "
         ],
         "yaxis": "y2"
        },
        {
         "marker": {
          "color": "#CC79A7"
         },
         "orientation": "h",
         "type": "bar",
         "x": [
          0.13122976992377663,
          0.14014845696813083,
          0.1480893432633952,
          0.1526256943864109,
          0.1565527374140179
         ],
         "xaxis": "x3",
         "y": [
          "calm  ",
          "asleep  ",
          "sleep  ",
          "fall  ",
          "relax  "
         ],
         "yaxis": "y3"
        },
        {
         "marker": {
          "color": "#E69F00"
         },
         "orientation": "h",
         "type": "bar",
         "x": [
          0.023830967354262753,
          0.02447249848062646,
          0.028368008814133625,
          0.030551485238913177,
          0.03603277165088155
         ],
         "xaxis": "x4",
         "y": [
          "room  ",
          "yourself  ",
          "different  ",
          "body  ",
          "reality  "
         ],
         "yaxis": "y4"
        },
        {
         "marker": {
          "color": "#56B4E9"
         },
         "orientation": "h",
         "type": "bar",
         "x": [
          0.07691982342444899,
          0.09000469182743577,
          0.13118975409007322,
          0.1567187161253315,
          0.25568271407259
         ],
         "xaxis": "x5",
         "y": [
          "half  ",
          "come  ",
          "light  ",
          "heavy  ",
          "body  "
         ],
         "yaxis": "y5"
        },
        {
         "marker": {
          "color": "#009E73"
         },
         "orientation": "h",
         "type": "bar",
         "x": [
          0.10190853816590308,
          0.1135387457300399,
          0.1158410554598168,
          0.13599433741160677,
          0.3651915243346428
         ],
         "xaxis": "x6",
         "y": [
          "change  ",
          "difference  ",
          "normal  ",
          "yellow  ",
          "color  "
         ],
         "yaxis": "y6"
        },
        {
         "marker": {
          "color": "#F0E442"
         },
         "orientation": "h",
         "type": "bar",
         "x": [
          0.06315841887280614,
          0.07632840050461652,
          0.07691759583839448,
          0.12087050774604846,
          0.2540248102884124
         ],
         "xaxis": "x7",
         "y": [
          "catch  ",
          "image  ",
          "scene  ",
          "delay  ",
          "touch  "
         ],
         "yaxis": "y7"
        },
        {
         "marker": {
          "color": "#D55E00"
         },
         "orientation": "h",
         "type": "bar",
         "x": [
          0.06002692336410228,
          0.061089835302982294,
          0.06458823185624397,
          0.06684059034717905,
          0.0717279256712652
         ],
         "xaxis": "x8",
         "y": [
          "hologram  ",
          "myself  ",
          "vr  ",
          "body  ",
          "virtual  "
         ],
         "yaxis": "y8"
        },
        {
         "marker": {
          "color": "#0072B2"
         },
         "orientation": "h",
         "type": "bar",
         "x": [
          0.08524459476594598,
          0.08524459476594598,
          0.0866460629528685,
          0.11233829011799189,
          0.3070991183568308
         ],
         "xaxis": "x9",
         "y": [
          "indonesia  ",
          "adventure  ",
          "tree  ",
          "rock  ",
          "forest  "
         ],
         "yaxis": "y9"
        },
        {
         "marker": {
          "color": "#CC79A7"
         },
         "orientation": "h",
         "type": "bar",
         "x": [
          0.09246184254103283,
          0.10459485824539465,
          0.21423603057013715,
          0.23251091938564297,
          0.29300607365905285
         ],
         "xaxis": "x10",
         "y": [
          "30  ",
          "condition  ",
          "close  ",
          "open  ",
          "eye  "
         ],
         "yaxis": "y10"
        },
        {
         "marker": {
          "color": "#E69F00"
         },
         "orientation": "h",
         "type": "bar",
         "x": [
          0.16070702291940636,
          0.16334913507507995,
          0.20113788741689426,
          0.24047330867755784,
          0.376768285298814
         ],
         "xaxis": "x11",
         "y": [
          "recognize  ",
          "identify  ",
          "myself  ",
          "blink  ",
          "avatar  "
         ],
         "yaxis": "y11"
        },
        {
         "marker": {
          "color": "#56B4E9"
         },
         "orientation": "h",
         "type": "bar",
         "x": [
          0.15530519390307934,
          0.15530519390307934,
          0.23421246998665612,
          0.24830085228788443,
          0.40056011640997613
         ],
         "xaxis": "x12",
         "y": [
          "accept  ",
          "creepy  ",
          "funny  ",
          "weird  ",
          "strange  "
         ],
         "yaxis": "y12"
        },
        {
         "marker": {
          "color": "#009E73"
         },
         "orientation": "h",
         "type": "bar",
         "x": [
          0.19279265450037436,
          0.19279265450037436,
          0.23117665557837516,
          0.3103317014020872,
          0.4086976927832337
         ],
         "xaxis": "x13",
         "y": [
          "urgent  ",
          "complicated  ",
          "good  ",
          "mental  ",
          "want  "
         ],
         "yaxis": "y13"
        },
        {
         "marker": {
          "color": "#F0E442"
         },
         "orientation": "h",
         "type": "bar",
         "x": [
          0.13095174075020932,
          0.13546997131735244,
          0.16422334784197967,
          0.17405981127360665,
          0.23407774765868522
         ],
         "xaxis": "x14",
         "y": [
          "cool  ",
          "space  ",
          "rock  ",
          "platform  ",
          "voice  "
         ],
         "yaxis": "y14"
        },
        {
         "marker": {
          "color": "#D55E00"
         },
         "orientation": "h",
         "type": "bar",
         "x": [
          0.17007054767747923,
          0.22788240323026002,
          0.2649494161644267,
          0.3984532032792968,
          0.42710749876446047
         ],
         "xaxis": "x15",
         "y": [
          "pay  ",
          "small  ",
          "damn  ",
          "change  ",
          "notice  "
         ],
         "yaxis": "y15"
        },
        {
         "marker": {
          "color": "#0072B2"
         },
         "orientation": "h",
         "type": "bar",
         "x": [
          0.09248234337814894,
          0.0937334676265468,
          0.10267626703038212,
          0.1080484620553841,
          0.15547346836397996
         ],
         "xaxis": "x16",
         "y": [
          "fully  ",
          "look  ",
          "feeling  ",
          "scary  ",
          "strange  "
         ],
         "yaxis": "y16"
        }
       ],
       "layout": {
        "annotations": [
         {
          "font": {
           "size": 16
          },
          "showarrow": false,
          "text": "Topic 0",
          "x": 0.0875,
          "xanchor": "center",
          "xref": "paper",
          "y": 1,
          "yanchor": "bottom",
          "yref": "paper"
         },
         {
          "font": {
           "size": 16
          },
          "showarrow": false,
          "text": "Topic 1",
          "x": 0.36250000000000004,
          "xanchor": "center",
          "xref": "paper",
          "y": 1,
          "yanchor": "bottom",
          "yref": "paper"
         },
         {
          "font": {
           "size": 16
          },
          "showarrow": false,
          "text": "Topic 2",
          "x": 0.6375000000000001,
          "xanchor": "center",
          "xref": "paper",
          "y": 1,
          "yanchor": "bottom",
          "yref": "paper"
         },
         {
          "font": {
           "size": 16
          },
          "showarrow": false,
          "text": "Topic 3",
          "x": 0.9125,
          "xanchor": "center",
          "xref": "paper",
          "y": 1,
          "yanchor": "bottom",
          "yref": "paper"
         },
         {
          "font": {
           "size": 16
          },
          "showarrow": false,
          "text": "Topic 4",
          "x": 0.0875,
          "xanchor": "center",
          "xref": "paper",
          "y": 0.7250000000000001,
          "yanchor": "bottom",
          "yref": "paper"
         },
         {
          "font": {
           "size": 16
          },
          "showarrow": false,
          "text": "Topic 5",
          "x": 0.36250000000000004,
          "xanchor": "center",
          "xref": "paper",
          "y": 0.7250000000000001,
          "yanchor": "bottom",
          "yref": "paper"
         },
         {
          "font": {
           "size": 16
          },
          "showarrow": false,
          "text": "Topic 6",
          "x": 0.6375000000000001,
          "xanchor": "center",
          "xref": "paper",
          "y": 0.7250000000000001,
          "yanchor": "bottom",
          "yref": "paper"
         },
         {
          "font": {
           "size": 16
          },
          "showarrow": false,
          "text": "Topic 7",
          "x": 0.9125,
          "xanchor": "center",
          "xref": "paper",
          "y": 0.7250000000000001,
          "yanchor": "bottom",
          "yref": "paper"
         },
         {
          "font": {
           "size": 16
          },
          "showarrow": false,
          "text": "Topic 8",
          "x": 0.0875,
          "xanchor": "center",
          "xref": "paper",
          "y": 0.45,
          "yanchor": "bottom",
          "yref": "paper"
         },
         {
          "font": {
           "size": 16
          },
          "showarrow": false,
          "text": "Topic 9",
          "x": 0.36250000000000004,
          "xanchor": "center",
          "xref": "paper",
          "y": 0.45,
          "yanchor": "bottom",
          "yref": "paper"
         },
         {
          "font": {
           "size": 16
          },
          "showarrow": false,
          "text": "Topic 10",
          "x": 0.6375000000000001,
          "xanchor": "center",
          "xref": "paper",
          "y": 0.45,
          "yanchor": "bottom",
          "yref": "paper"
         },
         {
          "font": {
           "size": 16
          },
          "showarrow": false,
          "text": "Topic 11",
          "x": 0.9125,
          "xanchor": "center",
          "xref": "paper",
          "y": 0.45,
          "yanchor": "bottom",
          "yref": "paper"
         },
         {
          "font": {
           "size": 16
          },
          "showarrow": false,
          "text": "Topic 12",
          "x": 0.0875,
          "xanchor": "center",
          "xref": "paper",
          "y": 0.175,
          "yanchor": "bottom",
          "yref": "paper"
         },
         {
          "font": {
           "size": 16
          },
          "showarrow": false,
          "text": "Topic 13",
          "x": 0.36250000000000004,
          "xanchor": "center",
          "xref": "paper",
          "y": 0.175,
          "yanchor": "bottom",
          "yref": "paper"
         },
         {
          "font": {
           "size": 16
          },
          "showarrow": false,
          "text": "Topic 14",
          "x": 0.6375000000000001,
          "xanchor": "center",
          "xref": "paper",
          "y": 0.175,
          "yanchor": "bottom",
          "yref": "paper"
         },
         {
          "font": {
           "size": 16
          },
          "showarrow": false,
          "text": "Topic 15",
          "x": 0.9125,
          "xanchor": "center",
          "xref": "paper",
          "y": 0.175,
          "yanchor": "bottom",
          "yref": "paper"
         }
        ],
        "height": 1000,
        "hoverlabel": {
         "bgcolor": "white",
         "font": {
          "family": "Rockwell",
          "size": 16
         }
        },
        "showlegend": false,
        "template": {
         "data": {
          "bar": [
           {
            "error_x": {
             "color": "#2a3f5f"
            },
            "error_y": {
             "color": "#2a3f5f"
            },
            "marker": {
             "line": {
              "color": "white",
              "width": 0.5
             },
             "pattern": {
              "fillmode": "overlay",
              "size": 10,
              "solidity": 0.2
             }
            },
            "type": "bar"
           }
          ],
          "barpolar": [
           {
            "marker": {
             "line": {
              "color": "white",
              "width": 0.5
             },
             "pattern": {
              "fillmode": "overlay",
              "size": 10,
              "solidity": 0.2
             }
            },
            "type": "barpolar"
           }
          ],
          "carpet": [
           {
            "aaxis": {
             "endlinecolor": "#2a3f5f",
             "gridcolor": "#C8D4E3",
             "linecolor": "#C8D4E3",
             "minorgridcolor": "#C8D4E3",
             "startlinecolor": "#2a3f5f"
            },
            "baxis": {
             "endlinecolor": "#2a3f5f",
             "gridcolor": "#C8D4E3",
             "linecolor": "#C8D4E3",
             "minorgridcolor": "#C8D4E3",
             "startlinecolor": "#2a3f5f"
            },
            "type": "carpet"
           }
          ],
          "choropleth": [
           {
            "colorbar": {
             "outlinewidth": 0,
             "ticks": ""
            },
            "type": "choropleth"
           }
          ],
          "contour": [
           {
            "colorbar": {
             "outlinewidth": 0,
             "ticks": ""
            },
            "colorscale": [
             [
              0,
              "#0d0887"
             ],
             [
              0.1111111111111111,
              "#46039f"
             ],
             [
              0.2222222222222222,
              "#7201a8"
             ],
             [
              0.3333333333333333,
              "#9c179e"
             ],
             [
              0.4444444444444444,
              "#bd3786"
             ],
             [
              0.5555555555555556,
              "#d8576b"
             ],
             [
              0.6666666666666666,
              "#ed7953"
             ],
             [
              0.7777777777777778,
              "#fb9f3a"
             ],
             [
              0.8888888888888888,
              "#fdca26"
             ],
             [
              1,
              "#f0f921"
             ]
            ],
            "type": "contour"
           }
          ],
          "contourcarpet": [
           {
            "colorbar": {
             "outlinewidth": 0,
             "ticks": ""
            },
            "type": "contourcarpet"
           }
          ],
          "heatmap": [
           {
            "colorbar": {
             "outlinewidth": 0,
             "ticks": ""
            },
            "colorscale": [
             [
              0,
              "#0d0887"
             ],
             [
              0.1111111111111111,
              "#46039f"
             ],
             [
              0.2222222222222222,
              "#7201a8"
             ],
             [
              0.3333333333333333,
              "#9c179e"
             ],
             [
              0.4444444444444444,
              "#bd3786"
             ],
             [
              0.5555555555555556,
              "#d8576b"
             ],
             [
              0.6666666666666666,
              "#ed7953"
             ],
             [
              0.7777777777777778,
              "#fb9f3a"
             ],
             [
              0.8888888888888888,
              "#fdca26"
             ],
             [
              1,
              "#f0f921"
             ]
            ],
            "type": "heatmap"
           }
          ],
          "histogram": [
           {
            "marker": {
             "pattern": {
              "fillmode": "overlay",
              "size": 10,
              "solidity": 0.2
             }
            },
            "type": "histogram"
           }
          ],
          "histogram2d": [
           {
            "colorbar": {
             "outlinewidth": 0,
             "ticks": ""
            },
            "colorscale": [
             [
              0,
              "#0d0887"
             ],
             [
              0.1111111111111111,
              "#46039f"
             ],
             [
              0.2222222222222222,
              "#7201a8"
             ],
             [
              0.3333333333333333,
              "#9c179e"
             ],
             [
              0.4444444444444444,
              "#bd3786"
             ],
             [
              0.5555555555555556,
              "#d8576b"
             ],
             [
              0.6666666666666666,
              "#ed7953"
             ],
             [
              0.7777777777777778,
              "#fb9f3a"
             ],
             [
              0.8888888888888888,
              "#fdca26"
             ],
             [
              1,
              "#f0f921"
             ]
            ],
            "type": "histogram2d"
           }
          ],
          "histogram2dcontour": [
           {
            "colorbar": {
             "outlinewidth": 0,
             "ticks": ""
            },
            "colorscale": [
             [
              0,
              "#0d0887"
             ],
             [
              0.1111111111111111,
              "#46039f"
             ],
             [
              0.2222222222222222,
              "#7201a8"
             ],
             [
              0.3333333333333333,
              "#9c179e"
             ],
             [
              0.4444444444444444,
              "#bd3786"
             ],
             [
              0.5555555555555556,
              "#d8576b"
             ],
             [
              0.6666666666666666,
              "#ed7953"
             ],
             [
              0.7777777777777778,
              "#fb9f3a"
             ],
             [
              0.8888888888888888,
              "#fdca26"
             ],
             [
              1,
              "#f0f921"
             ]
            ],
            "type": "histogram2dcontour"
           }
          ],
          "mesh3d": [
           {
            "colorbar": {
             "outlinewidth": 0,
             "ticks": ""
            },
            "type": "mesh3d"
           }
          ],
          "parcoords": [
           {
            "line": {
             "colorbar": {
              "outlinewidth": 0,
              "ticks": ""
             }
            },
            "type": "parcoords"
           }
          ],
          "pie": [
           {
            "automargin": true,
            "type": "pie"
           }
          ],
          "scatter": [
           {
            "fillpattern": {
             "fillmode": "overlay",
             "size": 10,
             "solidity": 0.2
            },
            "type": "scatter"
           }
          ],
          "scatter3d": [
           {
            "line": {
             "colorbar": {
              "outlinewidth": 0,
              "ticks": ""
             }
            },
            "marker": {
             "colorbar": {
              "outlinewidth": 0,
              "ticks": ""
             }
            },
            "type": "scatter3d"
           }
          ],
          "scattercarpet": [
           {
            "marker": {
             "colorbar": {
              "outlinewidth": 0,
              "ticks": ""
             }
            },
            "type": "scattercarpet"
           }
          ],
          "scattergeo": [
           {
            "marker": {
             "colorbar": {
              "outlinewidth": 0,
              "ticks": ""
             }
            },
            "type": "scattergeo"
           }
          ],
          "scattergl": [
           {
            "marker": {
             "colorbar": {
              "outlinewidth": 0,
              "ticks": ""
             }
            },
            "type": "scattergl"
           }
          ],
          "scattermap": [
           {
            "marker": {
             "colorbar": {
              "outlinewidth": 0,
              "ticks": ""
             }
            },
            "type": "scattermap"
           }
          ],
          "scattermapbox": [
           {
            "marker": {
             "colorbar": {
              "outlinewidth": 0,
              "ticks": ""
             }
            },
            "type": "scattermapbox"
           }
          ],
          "scatterpolar": [
           {
            "marker": {
             "colorbar": {
              "outlinewidth": 0,
              "ticks": ""
             }
            },
            "type": "scatterpolar"
           }
          ],
          "scatterpolargl": [
           {
            "marker": {
             "colorbar": {
              "outlinewidth": 0,
              "ticks": ""
             }
            },
            "type": "scatterpolargl"
           }
          ],
          "scatterternary": [
           {
            "marker": {
             "colorbar": {
              "outlinewidth": 0,
              "ticks": ""
             }
            },
            "type": "scatterternary"
           }
          ],
          "surface": [
           {
            "colorbar": {
             "outlinewidth": 0,
             "ticks": ""
            },
            "colorscale": [
             [
              0,
              "#0d0887"
             ],
             [
              0.1111111111111111,
              "#46039f"
             ],
             [
              0.2222222222222222,
              "#7201a8"
             ],
             [
              0.3333333333333333,
              "#9c179e"
             ],
             [
              0.4444444444444444,
              "#bd3786"
             ],
             [
              0.5555555555555556,
              "#d8576b"
             ],
             [
              0.6666666666666666,
              "#ed7953"
             ],
             [
              0.7777777777777778,
              "#fb9f3a"
             ],
             [
              0.8888888888888888,
              "#fdca26"
             ],
             [
              1,
              "#f0f921"
             ]
            ],
            "type": "surface"
           }
          ],
          "table": [
           {
            "cells": {
             "fill": {
              "color": "#EBF0F8"
             },
             "line": {
              "color": "white"
             }
            },
            "header": {
             "fill": {
              "color": "#C8D4E3"
             },
             "line": {
              "color": "white"
             }
            },
            "type": "table"
           }
          ]
         },
         "layout": {
          "annotationdefaults": {
           "arrowcolor": "#2a3f5f",
           "arrowhead": 0,
           "arrowwidth": 1
          },
          "autotypenumbers": "strict",
          "coloraxis": {
           "colorbar": {
            "outlinewidth": 0,
            "ticks": ""
           }
          },
          "colorscale": {
           "diverging": [
            [
             0,
             "#8e0152"
            ],
            [
             0.1,
             "#c51b7d"
            ],
            [
             0.2,
             "#de77ae"
            ],
            [
             0.3,
             "#f1b6da"
            ],
            [
             0.4,
             "#fde0ef"
            ],
            [
             0.5,
             "#f7f7f7"
            ],
            [
             0.6,
             "#e6f5d0"
            ],
            [
             0.7,
             "#b8e186"
            ],
            [
             0.8,
             "#7fbc41"
            ],
            [
             0.9,
             "#4d9221"
            ],
            [
             1,
             "#276419"
            ]
           ],
           "sequential": [
            [
             0,
             "#0d0887"
            ],
            [
             0.1111111111111111,
             "#46039f"
            ],
            [
             0.2222222222222222,
             "#7201a8"
            ],
            [
             0.3333333333333333,
             "#9c179e"
            ],
            [
             0.4444444444444444,
             "#bd3786"
            ],
            [
             0.5555555555555556,
             "#d8576b"
            ],
            [
             0.6666666666666666,
             "#ed7953"
            ],
            [
             0.7777777777777778,
             "#fb9f3a"
            ],
            [
             0.8888888888888888,
             "#fdca26"
            ],
            [
             1,
             "#f0f921"
            ]
           ],
           "sequentialminus": [
            [
             0,
             "#0d0887"
            ],
            [
             0.1111111111111111,
             "#46039f"
            ],
            [
             0.2222222222222222,
             "#7201a8"
            ],
            [
             0.3333333333333333,
             "#9c179e"
            ],
            [
             0.4444444444444444,
             "#bd3786"
            ],
            [
             0.5555555555555556,
             "#d8576b"
            ],
            [
             0.6666666666666666,
             "#ed7953"
            ],
            [
             0.7777777777777778,
             "#fb9f3a"
            ],
            [
             0.8888888888888888,
             "#fdca26"
            ],
            [
             1,
             "#f0f921"
            ]
           ]
          },
          "colorway": [
           "#636efa",
           "#EF553B",
           "#00cc96",
           "#ab63fa",
           "#FFA15A",
           "#19d3f3",
           "#FF6692",
           "#B6E880",
           "#FF97FF",
           "#FECB52"
          ],
          "font": {
           "color": "#2a3f5f"
          },
          "geo": {
           "bgcolor": "white",
           "lakecolor": "white",
           "landcolor": "white",
           "showlakes": true,
           "showland": true,
           "subunitcolor": "#C8D4E3"
          },
          "hoverlabel": {
           "align": "left"
          },
          "hovermode": "closest",
          "mapbox": {
           "style": "light"
          },
          "paper_bgcolor": "white",
          "plot_bgcolor": "white",
          "polar": {
           "angularaxis": {
            "gridcolor": "#EBF0F8",
            "linecolor": "#EBF0F8",
            "ticks": ""
           },
           "bgcolor": "white",
           "radialaxis": {
            "gridcolor": "#EBF0F8",
            "linecolor": "#EBF0F8",
            "ticks": ""
           }
          },
          "scene": {
           "xaxis": {
            "backgroundcolor": "white",
            "gridcolor": "#DFE8F3",
            "gridwidth": 2,
            "linecolor": "#EBF0F8",
            "showbackground": true,
            "ticks": "",
            "zerolinecolor": "#EBF0F8"
           },
           "yaxis": {
            "backgroundcolor": "white",
            "gridcolor": "#DFE8F3",
            "gridwidth": 2,
            "linecolor": "#EBF0F8",
            "showbackground": true,
            "ticks": "",
            "zerolinecolor": "#EBF0F8"
           },
           "zaxis": {
            "backgroundcolor": "white",
            "gridcolor": "#DFE8F3",
            "gridwidth": 2,
            "linecolor": "#EBF0F8",
            "showbackground": true,
            "ticks": "",
            "zerolinecolor": "#EBF0F8"
           }
          },
          "shapedefaults": {
           "line": {
            "color": "#2a3f5f"
           }
          },
          "ternary": {
           "aaxis": {
            "gridcolor": "#DFE8F3",
            "linecolor": "#A2B1C6",
            "ticks": ""
           },
           "baxis": {
            "gridcolor": "#DFE8F3",
            "linecolor": "#A2B1C6",
            "ticks": ""
           },
           "bgcolor": "white",
           "caxis": {
            "gridcolor": "#DFE8F3",
            "linecolor": "#A2B1C6",
            "ticks": ""
           }
          },
          "title": {
           "x": 0.05
          },
          "xaxis": {
           "automargin": true,
           "gridcolor": "#EBF0F8",
           "linecolor": "#EBF0F8",
           "ticks": "",
           "title": {
            "standoff": 15
           },
           "zerolinecolor": "#EBF0F8",
           "zerolinewidth": 2
          },
          "yaxis": {
           "automargin": true,
           "gridcolor": "#EBF0F8",
           "linecolor": "#EBF0F8",
           "ticks": "",
           "title": {
            "standoff": 15
           },
           "zerolinecolor": "#EBF0F8",
           "zerolinewidth": 2
          }
         }
        },
        "title": {
         "font": {
          "color": "Black",
          "size": 22
         },
         "text": "Topic Word Scores",
         "x": 0.5,
         "xanchor": "center",
         "yanchor": "top"
        },
        "width": 1000,
        "xaxis": {
         "anchor": "y",
         "domain": [
          0,
          0.175
         ],
         "showgrid": true
        },
        "xaxis10": {
         "anchor": "y10",
         "domain": [
          0.275,
          0.45
         ],
         "showgrid": true
        },
        "xaxis11": {
         "anchor": "y11",
         "domain": [
          0.55,
          0.7250000000000001
         ],
         "showgrid": true
        },
        "xaxis12": {
         "anchor": "y12",
         "domain": [
          0.825,
          1
         ],
         "showgrid": true
        },
        "xaxis13": {
         "anchor": "y13",
         "domain": [
          0,
          0.175
         ],
         "showgrid": true
        },
        "xaxis14": {
         "anchor": "y14",
         "domain": [
          0.275,
          0.45
         ],
         "showgrid": true
        },
        "xaxis15": {
         "anchor": "y15",
         "domain": [
          0.55,
          0.7250000000000001
         ],
         "showgrid": true
        },
        "xaxis16": {
         "anchor": "y16",
         "domain": [
          0.825,
          1
         ],
         "showgrid": true
        },
        "xaxis2": {
         "anchor": "y2",
         "domain": [
          0.275,
          0.45
         ],
         "showgrid": true
        },
        "xaxis3": {
         "anchor": "y3",
         "domain": [
          0.55,
          0.7250000000000001
         ],
         "showgrid": true
        },
        "xaxis4": {
         "anchor": "y4",
         "domain": [
          0.825,
          1
         ],
         "showgrid": true
        },
        "xaxis5": {
         "anchor": "y5",
         "domain": [
          0,
          0.175
         ],
         "showgrid": true
        },
        "xaxis6": {
         "anchor": "y6",
         "domain": [
          0.275,
          0.45
         ],
         "showgrid": true
        },
        "xaxis7": {
         "anchor": "y7",
         "domain": [
          0.55,
          0.7250000000000001
         ],
         "showgrid": true
        },
        "xaxis8": {
         "anchor": "y8",
         "domain": [
          0.825,
          1
         ],
         "showgrid": true
        },
        "xaxis9": {
         "anchor": "y9",
         "domain": [
          0,
          0.175
         ],
         "showgrid": true
        },
        "yaxis": {
         "anchor": "x",
         "domain": [
          0.825,
          1
         ],
         "showgrid": true
        },
        "yaxis10": {
         "anchor": "x10",
         "domain": [
          0.275,
          0.45
         ],
         "showgrid": true
        },
        "yaxis11": {
         "anchor": "x11",
         "domain": [
          0.275,
          0.45
         ],
         "showgrid": true
        },
        "yaxis12": {
         "anchor": "x12",
         "domain": [
          0.275,
          0.45
         ],
         "showgrid": true
        },
        "yaxis13": {
         "anchor": "x13",
         "domain": [
          0,
          0.175
         ],
         "showgrid": true
        },
        "yaxis14": {
         "anchor": "x14",
         "domain": [
          0,
          0.175
         ],
         "showgrid": true
        },
        "yaxis15": {
         "anchor": "x15",
         "domain": [
          0,
          0.175
         ],
         "showgrid": true
        },
        "yaxis16": {
         "anchor": "x16",
         "domain": [
          0,
          0.175
         ],
         "showgrid": true
        },
        "yaxis2": {
         "anchor": "x2",
         "domain": [
          0.825,
          1
         ],
         "showgrid": true
        },
        "yaxis3": {
         "anchor": "x3",
         "domain": [
          0.825,
          1
         ],
         "showgrid": true
        },
        "yaxis4": {
         "anchor": "x4",
         "domain": [
          0.825,
          1
         ],
         "showgrid": true
        },
        "yaxis5": {
         "anchor": "x5",
         "domain": [
          0.55,
          0.7250000000000001
         ],
         "showgrid": true
        },
        "yaxis6": {
         "anchor": "x6",
         "domain": [
          0.55,
          0.7250000000000001
         ],
         "showgrid": true
        },
        "yaxis7": {
         "anchor": "x7",
         "domain": [
          0.55,
          0.7250000000000001
         ],
         "showgrid": true
        },
        "yaxis8": {
         "anchor": "x8",
         "domain": [
          0.55,
          0.7250000000000001
         ],
         "showgrid": true
        },
        "yaxis9": {
         "anchor": "x9",
         "domain": [
          0.275,
          0.45
         ],
         "showgrid": true
        }
       }
      }
     },
     "metadata": {},
     "output_type": "display_data"
    }
   ],
   "source": [
    "topic_model.visualize_barchart(top_n_topics=16)"
   ]
  },
  {
   "cell_type": "code",
   "execution_count": 13,
   "metadata": {},
   "outputs": [
    {
     "data": {
      "application/vnd.plotly.v1+json": {
       "config": {
        "plotlyServerURL": "https://plot.ly"
       },
       "data": [
        {
         "customdata": [
          [
           0,
           "interesting | easy | nice | fine | fun",
           47
          ],
          [
           1,
           "focus | leg | eye | distract | try",
           46
          ],
          [
           2,
           "relax | fall | sleep | asleep | calm",
           46
          ],
          [
           3,
           "reality | body | different | yourself | room",
           44
          ],
          [
           4,
           "body | heavy | light | come | half",
           37
          ],
          [
           5,
           "color | yellow | normal | difference | change",
           29
          ],
          [
           6,
           "touch | delay | scene | image | catch",
           23
          ],
          [
           7,
           "virtual | body | vr | myself | hologram",
           23
          ],
          [
           8,
           "forest | rock | tree | adventure | indonesia",
           23
          ],
          [
           9,
           "eye | open | close | condition | 30",
           22
          ],
          [
           10,
           "avatar | blink | myself | identify | recognize",
           22
          ],
          [
           11,
           "strange | weird | funny | creepy | accept",
           19
          ],
          [
           12,
           "want | mental | good | complicated | urgent",
           15
          ],
          [
           13,
           "voice | platform | rock | space | cool",
           14
          ],
          [
           14,
           "notice | change | damn | small | pay",
           13
          ],
          [
           15,
           "strange | scary | feeling | look | fully",
           12
          ],
          [
           16,
           "100 | 10 | somewhat | percentage | number",
           10
          ],
          [
           17,
           "room | center | mountain | especially | different",
           9
          ],
          [
           18,
           "quickly | happen | movement | constantly | asynchrony",
           8
          ]
         ],
         "hovertemplate": "<b>Topic %{customdata[0]}</b><br>%{customdata[1]}<br>Size: %{customdata[2]}",
         "legendgroup": "",
         "marker": {
          "color": "#B0BEC5",
          "line": {
           "color": "DarkSlateGrey",
           "width": 2
          },
          "size": {
           "bdata": "Ly4uLCUdFxcXFhYTDw4NDAoJCA==",
           "dtype": "i1"
          },
          "sizemode": "area",
          "sizeref": 0.029375,
          "symbol": "circle"
         },
         "mode": "markers",
         "name": "",
         "orientation": "v",
         "showlegend": false,
         "type": "scatter",
         "x": {
          "bdata": "/kJvQVmD18C52gHB3P33wI1F8sC5iu1AtUICwccl9sBlWH5BzWjMwNGU+cAj/mpB+eZ2QbBl8MASDPFAJhD8wF+0cEEIgnpBt6FxQQ==",
          "dtype": "f4"
         },
         "xaxis": "x",
         "y": {
          "bdata": "bpAGQTEPIsA+B1PAF/YVwOMCVcACHts/hoO2v9U0p7/+2h9Br6UmwA0ReL/EtglB3owPQcm0D8ArSek/tOk9wBCNA0Fg0RpB7bwSQQ==",
          "dtype": "f4"
         },
         "yaxis": "y"
        }
       ],
       "layout": {
        "annotations": [
         {
          "showarrow": false,
          "text": "D1",
          "x": -9.36247878074646,
          "y": 3.8310316264629365,
          "yshift": 10
         },
         {
          "showarrow": false,
          "text": "D2",
          "x": 4.459294509887695,
          "xshift": 10,
          "y": 11.489609622955323
         }
        ],
        "height": 650,
        "hoverlabel": {
         "bgcolor": "white",
         "font": {
          "family": "Rockwell",
          "size": 16
         }
        },
        "legend": {
         "itemsizing": "constant",
         "tracegroupgap": 0
        },
        "margin": {
         "t": 60
        },
        "shapes": [
         {
          "line": {
           "color": "#CFD8DC",
           "width": 2
          },
          "type": "line",
          "x0": 4.459294509887695,
          "x1": 4.459294509887695,
          "y0": -3.8275463700294496,
          "y1": 11.489609622955323
         },
         {
          "line": {
           "color": "#9E9E9E",
           "width": 2
          },
          "type": "line",
          "x0": -9.36247878074646,
          "x1": 18.28106780052185,
          "y0": 3.8310316264629365,
          "y1": 3.8310316264629365
         }
        ],
        "sliders": [
         {
          "active": 0,
          "pad": {
           "t": 50
          },
          "steps": [
           {
            "args": [
             {
              "marker.color": [
               [
                "red",
                "#B0BEC5",
                "#B0BEC5",
                "#B0BEC5",
                "#B0BEC5",
                "#B0BEC5",
                "#B0BEC5",
                "#B0BEC5",
                "#B0BEC5",
                "#B0BEC5",
                "#B0BEC5",
                "#B0BEC5",
                "#B0BEC5",
                "#B0BEC5",
                "#B0BEC5",
                "#B0BEC5",
                "#B0BEC5",
                "#B0BEC5",
                "#B0BEC5"
               ]
              ]
             }
            ],
            "label": "Topic 0",
            "method": "update"
           },
           {
            "args": [
             {
              "marker.color": [
               [
                "#B0BEC5",
                "red",
                "#B0BEC5",
                "#B0BEC5",
                "#B0BEC5",
                "#B0BEC5",
                "#B0BEC5",
                "#B0BEC5",
                "#B0BEC5",
                "#B0BEC5",
                "#B0BEC5",
                "#B0BEC5",
                "#B0BEC5",
                "#B0BEC5",
                "#B0BEC5",
                "#B0BEC5",
                "#B0BEC5",
                "#B0BEC5",
                "#B0BEC5"
               ]
              ]
             }
            ],
            "label": "Topic 1",
            "method": "update"
           },
           {
            "args": [
             {
              "marker.color": [
               [
                "#B0BEC5",
                "#B0BEC5",
                "red",
                "#B0BEC5",
                "#B0BEC5",
                "#B0BEC5",
                "#B0BEC5",
                "#B0BEC5",
                "#B0BEC5",
                "#B0BEC5",
                "#B0BEC5",
                "#B0BEC5",
                "#B0BEC5",
                "#B0BEC5",
                "#B0BEC5",
                "#B0BEC5",
                "#B0BEC5",
                "#B0BEC5",
                "#B0BEC5"
               ]
              ]
             }
            ],
            "label": "Topic 2",
            "method": "update"
           },
           {
            "args": [
             {
              "marker.color": [
               [
                "#B0BEC5",
                "#B0BEC5",
                "#B0BEC5",
                "red",
                "#B0BEC5",
                "#B0BEC5",
                "#B0BEC5",
                "#B0BEC5",
                "#B0BEC5",
                "#B0BEC5",
                "#B0BEC5",
                "#B0BEC5",
                "#B0BEC5",
                "#B0BEC5",
                "#B0BEC5",
                "#B0BEC5",
                "#B0BEC5",
                "#B0BEC5",
                "#B0BEC5"
               ]
              ]
             }
            ],
            "label": "Topic 3",
            "method": "update"
           },
           {
            "args": [
             {
              "marker.color": [
               [
                "#B0BEC5",
                "#B0BEC5",
                "#B0BEC5",
                "#B0BEC5",
                "red",
                "#B0BEC5",
                "#B0BEC5",
                "#B0BEC5",
                "#B0BEC5",
                "#B0BEC5",
                "#B0BEC5",
                "#B0BEC5",
                "#B0BEC5",
                "#B0BEC5",
                "#B0BEC5",
                "#B0BEC5",
                "#B0BEC5",
                "#B0BEC5",
                "#B0BEC5"
               ]
              ]
             }
            ],
            "label": "Topic 4",
            "method": "update"
           },
           {
            "args": [
             {
              "marker.color": [
               [
                "#B0BEC5",
                "#B0BEC5",
                "#B0BEC5",
                "#B0BEC5",
                "#B0BEC5",
                "red",
                "#B0BEC5",
                "#B0BEC5",
                "#B0BEC5",
                "#B0BEC5",
                "#B0BEC5",
                "#B0BEC5",
                "#B0BEC5",
                "#B0BEC5",
                "#B0BEC5",
                "#B0BEC5",
                "#B0BEC5",
                "#B0BEC5",
                "#B0BEC5"
               ]
              ]
             }
            ],
            "label": "Topic 5",
            "method": "update"
           },
           {
            "args": [
             {
              "marker.color": [
               [
                "#B0BEC5",
                "#B0BEC5",
                "#B0BEC5",
                "#B0BEC5",
                "#B0BEC5",
                "#B0BEC5",
                "red",
                "#B0BEC5",
                "#B0BEC5",
                "#B0BEC5",
                "#B0BEC5",
                "#B0BEC5",
                "#B0BEC5",
                "#B0BEC5",
                "#B0BEC5",
                "#B0BEC5",
                "#B0BEC5",
                "#B0BEC5",
                "#B0BEC5"
               ]
              ]
             }
            ],
            "label": "Topic 6",
            "method": "update"
           },
           {
            "args": [
             {
              "marker.color": [
               [
                "#B0BEC5",
                "#B0BEC5",
                "#B0BEC5",
                "#B0BEC5",
                "#B0BEC5",
                "#B0BEC5",
                "#B0BEC5",
                "red",
                "#B0BEC5",
                "#B0BEC5",
                "#B0BEC5",
                "#B0BEC5",
                "#B0BEC5",
                "#B0BEC5",
                "#B0BEC5",
                "#B0BEC5",
                "#B0BEC5",
                "#B0BEC5",
                "#B0BEC5"
               ]
              ]
             }
            ],
            "label": "Topic 7",
            "method": "update"
           },
           {
            "args": [
             {
              "marker.color": [
               [
                "#B0BEC5",
                "#B0BEC5",
                "#B0BEC5",
                "#B0BEC5",
                "#B0BEC5",
                "#B0BEC5",
                "#B0BEC5",
                "#B0BEC5",
                "red",
                "#B0BEC5",
                "#B0BEC5",
                "#B0BEC5",
                "#B0BEC5",
                "#B0BEC5",
                "#B0BEC5",
                "#B0BEC5",
                "#B0BEC5",
                "#B0BEC5",
                "#B0BEC5"
               ]
              ]
             }
            ],
            "label": "Topic 8",
            "method": "update"
           },
           {
            "args": [
             {
              "marker.color": [
               [
                "#B0BEC5",
                "#B0BEC5",
                "#B0BEC5",
                "#B0BEC5",
                "#B0BEC5",
                "#B0BEC5",
                "#B0BEC5",
                "#B0BEC5",
                "#B0BEC5",
                "red",
                "#B0BEC5",
                "#B0BEC5",
                "#B0BEC5",
                "#B0BEC5",
                "#B0BEC5",
                "#B0BEC5",
                "#B0BEC5",
                "#B0BEC5",
                "#B0BEC5"
               ]
              ]
             }
            ],
            "label": "Topic 9",
            "method": "update"
           },
           {
            "args": [
             {
              "marker.color": [
               [
                "#B0BEC5",
                "#B0BEC5",
                "#B0BEC5",
                "#B0BEC5",
                "#B0BEC5",
                "#B0BEC5",
                "#B0BEC5",
                "#B0BEC5",
                "#B0BEC5",
                "#B0BEC5",
                "red",
                "#B0BEC5",
                "#B0BEC5",
                "#B0BEC5",
                "#B0BEC5",
                "#B0BEC5",
                "#B0BEC5",
                "#B0BEC5",
                "#B0BEC5"
               ]
              ]
             }
            ],
            "label": "Topic 10",
            "method": "update"
           },
           {
            "args": [
             {
              "marker.color": [
               [
                "#B0BEC5",
                "#B0BEC5",
                "#B0BEC5",
                "#B0BEC5",
                "#B0BEC5",
                "#B0BEC5",
                "#B0BEC5",
                "#B0BEC5",
                "#B0BEC5",
                "#B0BEC5",
                "#B0BEC5",
                "red",
                "#B0BEC5",
                "#B0BEC5",
                "#B0BEC5",
                "#B0BEC5",
                "#B0BEC5",
                "#B0BEC5",
                "#B0BEC5"
               ]
              ]
             }
            ],
            "label": "Topic 11",
            "method": "update"
           },
           {
            "args": [
             {
              "marker.color": [
               [
                "#B0BEC5",
                "#B0BEC5",
                "#B0BEC5",
                "#B0BEC5",
                "#B0BEC5",
                "#B0BEC5",
                "#B0BEC5",
                "#B0BEC5",
                "#B0BEC5",
                "#B0BEC5",
                "#B0BEC5",
                "#B0BEC5",
                "red",
                "#B0BEC5",
                "#B0BEC5",
                "#B0BEC5",
                "#B0BEC5",
                "#B0BEC5",
                "#B0BEC5"
               ]
              ]
             }
            ],
            "label": "Topic 12",
            "method": "update"
           },
           {
            "args": [
             {
              "marker.color": [
               [
                "#B0BEC5",
                "#B0BEC5",
                "#B0BEC5",
                "#B0BEC5",
                "#B0BEC5",
                "#B0BEC5",
                "#B0BEC5",
                "#B0BEC5",
                "#B0BEC5",
                "#B0BEC5",
                "#B0BEC5",
                "#B0BEC5",
                "#B0BEC5",
                "red",
                "#B0BEC5",
                "#B0BEC5",
                "#B0BEC5",
                "#B0BEC5",
                "#B0BEC5"
               ]
              ]
             }
            ],
            "label": "Topic 13",
            "method": "update"
           },
           {
            "args": [
             {
              "marker.color": [
               [
                "#B0BEC5",
                "#B0BEC5",
                "#B0BEC5",
                "#B0BEC5",
                "#B0BEC5",
                "#B0BEC5",
                "#B0BEC5",
                "#B0BEC5",
                "#B0BEC5",
                "#B0BEC5",
                "#B0BEC5",
                "#B0BEC5",
                "#B0BEC5",
                "#B0BEC5",
                "red",
                "#B0BEC5",
                "#B0BEC5",
                "#B0BEC5",
                "#B0BEC5"
               ]
              ]
             }
            ],
            "label": "Topic 14",
            "method": "update"
           },
           {
            "args": [
             {
              "marker.color": [
               [
                "#B0BEC5",
                "#B0BEC5",
                "#B0BEC5",
                "#B0BEC5",
                "#B0BEC5",
                "#B0BEC5",
                "#B0BEC5",
                "#B0BEC5",
                "#B0BEC5",
                "#B0BEC5",
                "#B0BEC5",
                "#B0BEC5",
                "#B0BEC5",
                "#B0BEC5",
                "#B0BEC5",
                "red",
                "#B0BEC5",
                "#B0BEC5",
                "#B0BEC5"
               ]
              ]
             }
            ],
            "label": "Topic 15",
            "method": "update"
           },
           {
            "args": [
             {
              "marker.color": [
               [
                "#B0BEC5",
                "#B0BEC5",
                "#B0BEC5",
                "#B0BEC5",
                "#B0BEC5",
                "#B0BEC5",
                "#B0BEC5",
                "#B0BEC5",
                "#B0BEC5",
                "#B0BEC5",
                "#B0BEC5",
                "#B0BEC5",
                "#B0BEC5",
                "#B0BEC5",
                "#B0BEC5",
                "#B0BEC5",
                "red",
                "#B0BEC5",
                "#B0BEC5"
               ]
              ]
             }
            ],
            "label": "Topic 16",
            "method": "update"
           },
           {
            "args": [
             {
              "marker.color": [
               [
                "#B0BEC5",
                "#B0BEC5",
                "#B0BEC5",
                "#B0BEC5",
                "#B0BEC5",
                "#B0BEC5",
                "#B0BEC5",
                "#B0BEC5",
                "#B0BEC5",
                "#B0BEC5",
                "#B0BEC5",
                "#B0BEC5",
                "#B0BEC5",
                "#B0BEC5",
                "#B0BEC5",
                "#B0BEC5",
                "#B0BEC5",
                "red",
                "#B0BEC5"
               ]
              ]
             }
            ],
            "label": "Topic 17",
            "method": "update"
           },
           {
            "args": [
             {
              "marker.color": [
               [
                "#B0BEC5",
                "#B0BEC5",
                "#B0BEC5",
                "#B0BEC5",
                "#B0BEC5",
                "#B0BEC5",
                "#B0BEC5",
                "#B0BEC5",
                "#B0BEC5",
                "#B0BEC5",
                "#B0BEC5",
                "#B0BEC5",
                "#B0BEC5",
                "#B0BEC5",
                "#B0BEC5",
                "#B0BEC5",
                "#B0BEC5",
                "#B0BEC5",
                "red"
               ]
              ]
             }
            ],
            "label": "Topic 18",
            "method": "update"
           }
          ]
         }
        ],
        "template": {
         "data": {
          "bar": [
           {
            "error_x": {
             "color": "rgb(36,36,36)"
            },
            "error_y": {
             "color": "rgb(36,36,36)"
            },
            "marker": {
             "line": {
              "color": "white",
              "width": 0.5
             },
             "pattern": {
              "fillmode": "overlay",
              "size": 10,
              "solidity": 0.2
             }
            },
            "type": "bar"
           }
          ],
          "barpolar": [
           {
            "marker": {
             "line": {
              "color": "white",
              "width": 0.5
             },
             "pattern": {
              "fillmode": "overlay",
              "size": 10,
              "solidity": 0.2
             }
            },
            "type": "barpolar"
           }
          ],
          "carpet": [
           {
            "aaxis": {
             "endlinecolor": "rgb(36,36,36)",
             "gridcolor": "white",
             "linecolor": "white",
             "minorgridcolor": "white",
             "startlinecolor": "rgb(36,36,36)"
            },
            "baxis": {
             "endlinecolor": "rgb(36,36,36)",
             "gridcolor": "white",
             "linecolor": "white",
             "minorgridcolor": "white",
             "startlinecolor": "rgb(36,36,36)"
            },
            "type": "carpet"
           }
          ],
          "choropleth": [
           {
            "colorbar": {
             "outlinewidth": 1,
             "tickcolor": "rgb(36,36,36)",
             "ticks": "outside"
            },
            "type": "choropleth"
           }
          ],
          "contour": [
           {
            "colorbar": {
             "outlinewidth": 1,
             "tickcolor": "rgb(36,36,36)",
             "ticks": "outside"
            },
            "colorscale": [
             [
              0,
              "#440154"
             ],
             [
              0.1111111111111111,
              "#482878"
             ],
             [
              0.2222222222222222,
              "#3e4989"
             ],
             [
              0.3333333333333333,
              "#31688e"
             ],
             [
              0.4444444444444444,
              "#26828e"
             ],
             [
              0.5555555555555556,
              "#1f9e89"
             ],
             [
              0.6666666666666666,
              "#35b779"
             ],
             [
              0.7777777777777778,
              "#6ece58"
             ],
             [
              0.8888888888888888,
              "#b5de2b"
             ],
             [
              1,
              "#fde725"
             ]
            ],
            "type": "contour"
           }
          ],
          "contourcarpet": [
           {
            "colorbar": {
             "outlinewidth": 1,
             "tickcolor": "rgb(36,36,36)",
             "ticks": "outside"
            },
            "type": "contourcarpet"
           }
          ],
          "heatmap": [
           {
            "colorbar": {
             "outlinewidth": 1,
             "tickcolor": "rgb(36,36,36)",
             "ticks": "outside"
            },
            "colorscale": [
             [
              0,
              "#440154"
             ],
             [
              0.1111111111111111,
              "#482878"
             ],
             [
              0.2222222222222222,
              "#3e4989"
             ],
             [
              0.3333333333333333,
              "#31688e"
             ],
             [
              0.4444444444444444,
              "#26828e"
             ],
             [
              0.5555555555555556,
              "#1f9e89"
             ],
             [
              0.6666666666666666,
              "#35b779"
             ],
             [
              0.7777777777777778,
              "#6ece58"
             ],
             [
              0.8888888888888888,
              "#b5de2b"
             ],
             [
              1,
              "#fde725"
             ]
            ],
            "type": "heatmap"
           }
          ],
          "histogram": [
           {
            "marker": {
             "line": {
              "color": "white",
              "width": 0.6
             }
            },
            "type": "histogram"
           }
          ],
          "histogram2d": [
           {
            "colorbar": {
             "outlinewidth": 1,
             "tickcolor": "rgb(36,36,36)",
             "ticks": "outside"
            },
            "colorscale": [
             [
              0,
              "#440154"
             ],
             [
              0.1111111111111111,
              "#482878"
             ],
             [
              0.2222222222222222,
              "#3e4989"
             ],
             [
              0.3333333333333333,
              "#31688e"
             ],
             [
              0.4444444444444444,
              "#26828e"
             ],
             [
              0.5555555555555556,
              "#1f9e89"
             ],
             [
              0.6666666666666666,
              "#35b779"
             ],
             [
              0.7777777777777778,
              "#6ece58"
             ],
             [
              0.8888888888888888,
              "#b5de2b"
             ],
             [
              1,
              "#fde725"
             ]
            ],
            "type": "histogram2d"
           }
          ],
          "histogram2dcontour": [
           {
            "colorbar": {
             "outlinewidth": 1,
             "tickcolor": "rgb(36,36,36)",
             "ticks": "outside"
            },
            "colorscale": [
             [
              0,
              "#440154"
             ],
             [
              0.1111111111111111,
              "#482878"
             ],
             [
              0.2222222222222222,
              "#3e4989"
             ],
             [
              0.3333333333333333,
              "#31688e"
             ],
             [
              0.4444444444444444,
              "#26828e"
             ],
             [
              0.5555555555555556,
              "#1f9e89"
             ],
             [
              0.6666666666666666,
              "#35b779"
             ],
             [
              0.7777777777777778,
              "#6ece58"
             ],
             [
              0.8888888888888888,
              "#b5de2b"
             ],
             [
              1,
              "#fde725"
             ]
            ],
            "type": "histogram2dcontour"
           }
          ],
          "mesh3d": [
           {
            "colorbar": {
             "outlinewidth": 1,
             "tickcolor": "rgb(36,36,36)",
             "ticks": "outside"
            },
            "type": "mesh3d"
           }
          ],
          "parcoords": [
           {
            "line": {
             "colorbar": {
              "outlinewidth": 1,
              "tickcolor": "rgb(36,36,36)",
              "ticks": "outside"
             }
            },
            "type": "parcoords"
           }
          ],
          "pie": [
           {
            "automargin": true,
            "type": "pie"
           }
          ],
          "scatter": [
           {
            "fillpattern": {
             "fillmode": "overlay",
             "size": 10,
             "solidity": 0.2
            },
            "type": "scatter"
           }
          ],
          "scatter3d": [
           {
            "line": {
             "colorbar": {
              "outlinewidth": 1,
              "tickcolor": "rgb(36,36,36)",
              "ticks": "outside"
             }
            },
            "marker": {
             "colorbar": {
              "outlinewidth": 1,
              "tickcolor": "rgb(36,36,36)",
              "ticks": "outside"
             }
            },
            "type": "scatter3d"
           }
          ],
          "scattercarpet": [
           {
            "marker": {
             "colorbar": {
              "outlinewidth": 1,
              "tickcolor": "rgb(36,36,36)",
              "ticks": "outside"
             }
            },
            "type": "scattercarpet"
           }
          ],
          "scattergeo": [
           {
            "marker": {
             "colorbar": {
              "outlinewidth": 1,
              "tickcolor": "rgb(36,36,36)",
              "ticks": "outside"
             }
            },
            "type": "scattergeo"
           }
          ],
          "scattergl": [
           {
            "marker": {
             "colorbar": {
              "outlinewidth": 1,
              "tickcolor": "rgb(36,36,36)",
              "ticks": "outside"
             }
            },
            "type": "scattergl"
           }
          ],
          "scattermap": [
           {
            "marker": {
             "colorbar": {
              "outlinewidth": 1,
              "tickcolor": "rgb(36,36,36)",
              "ticks": "outside"
             }
            },
            "type": "scattermap"
           }
          ],
          "scattermapbox": [
           {
            "marker": {
             "colorbar": {
              "outlinewidth": 1,
              "tickcolor": "rgb(36,36,36)",
              "ticks": "outside"
             }
            },
            "type": "scattermapbox"
           }
          ],
          "scatterpolar": [
           {
            "marker": {
             "colorbar": {
              "outlinewidth": 1,
              "tickcolor": "rgb(36,36,36)",
              "ticks": "outside"
             }
            },
            "type": "scatterpolar"
           }
          ],
          "scatterpolargl": [
           {
            "marker": {
             "colorbar": {
              "outlinewidth": 1,
              "tickcolor": "rgb(36,36,36)",
              "ticks": "outside"
             }
            },
            "type": "scatterpolargl"
           }
          ],
          "scatterternary": [
           {
            "marker": {
             "colorbar": {
              "outlinewidth": 1,
              "tickcolor": "rgb(36,36,36)",
              "ticks": "outside"
             }
            },
            "type": "scatterternary"
           }
          ],
          "surface": [
           {
            "colorbar": {
             "outlinewidth": 1,
             "tickcolor": "rgb(36,36,36)",
             "ticks": "outside"
            },
            "colorscale": [
             [
              0,
              "#440154"
             ],
             [
              0.1111111111111111,
              "#482878"
             ],
             [
              0.2222222222222222,
              "#3e4989"
             ],
             [
              0.3333333333333333,
              "#31688e"
             ],
             [
              0.4444444444444444,
              "#26828e"
             ],
             [
              0.5555555555555556,
              "#1f9e89"
             ],
             [
              0.6666666666666666,
              "#35b779"
             ],
             [
              0.7777777777777778,
              "#6ece58"
             ],
             [
              0.8888888888888888,
              "#b5de2b"
             ],
             [
              1,
              "#fde725"
             ]
            ],
            "type": "surface"
           }
          ],
          "table": [
           {
            "cells": {
             "fill": {
              "color": "rgb(237,237,237)"
             },
             "line": {
              "color": "white"
             }
            },
            "header": {
             "fill": {
              "color": "rgb(217,217,217)"
             },
             "line": {
              "color": "white"
             }
            },
            "type": "table"
           }
          ]
         },
         "layout": {
          "annotationdefaults": {
           "arrowhead": 0,
           "arrowwidth": 1
          },
          "autotypenumbers": "strict",
          "coloraxis": {
           "colorbar": {
            "outlinewidth": 1,
            "tickcolor": "rgb(36,36,36)",
            "ticks": "outside"
           }
          },
          "colorscale": {
           "diverging": [
            [
             0,
             "rgb(103,0,31)"
            ],
            [
             0.1,
             "rgb(178,24,43)"
            ],
            [
             0.2,
             "rgb(214,96,77)"
            ],
            [
             0.3,
             "rgb(244,165,130)"
            ],
            [
             0.4,
             "rgb(253,219,199)"
            ],
            [
             0.5,
             "rgb(247,247,247)"
            ],
            [
             0.6,
             "rgb(209,229,240)"
            ],
            [
             0.7,
             "rgb(146,197,222)"
            ],
            [
             0.8,
             "rgb(67,147,195)"
            ],
            [
             0.9,
             "rgb(33,102,172)"
            ],
            [
             1,
             "rgb(5,48,97)"
            ]
           ],
           "sequential": [
            [
             0,
             "#440154"
            ],
            [
             0.1111111111111111,
             "#482878"
            ],
            [
             0.2222222222222222,
             "#3e4989"
            ],
            [
             0.3333333333333333,
             "#31688e"
            ],
            [
             0.4444444444444444,
             "#26828e"
            ],
            [
             0.5555555555555556,
             "#1f9e89"
            ],
            [
             0.6666666666666666,
             "#35b779"
            ],
            [
             0.7777777777777778,
             "#6ece58"
            ],
            [
             0.8888888888888888,
             "#b5de2b"
            ],
            [
             1,
             "#fde725"
            ]
           ],
           "sequentialminus": [
            [
             0,
             "#440154"
            ],
            [
             0.1111111111111111,
             "#482878"
            ],
            [
             0.2222222222222222,
             "#3e4989"
            ],
            [
             0.3333333333333333,
             "#31688e"
            ],
            [
             0.4444444444444444,
             "#26828e"
            ],
            [
             0.5555555555555556,
             "#1f9e89"
            ],
            [
             0.6666666666666666,
             "#35b779"
            ],
            [
             0.7777777777777778,
             "#6ece58"
            ],
            [
             0.8888888888888888,
             "#b5de2b"
            ],
            [
             1,
             "#fde725"
            ]
           ]
          },
          "colorway": [
           "#1F77B4",
           "#FF7F0E",
           "#2CA02C",
           "#D62728",
           "#9467BD",
           "#8C564B",
           "#E377C2",
           "#7F7F7F",
           "#BCBD22",
           "#17BECF"
          ],
          "font": {
           "color": "rgb(36,36,36)"
          },
          "geo": {
           "bgcolor": "white",
           "lakecolor": "white",
           "landcolor": "white",
           "showlakes": true,
           "showland": true,
           "subunitcolor": "white"
          },
          "hoverlabel": {
           "align": "left"
          },
          "hovermode": "closest",
          "mapbox": {
           "style": "light"
          },
          "paper_bgcolor": "white",
          "plot_bgcolor": "white",
          "polar": {
           "angularaxis": {
            "gridcolor": "rgb(232,232,232)",
            "linecolor": "rgb(36,36,36)",
            "showgrid": false,
            "showline": true,
            "ticks": "outside"
           },
           "bgcolor": "white",
           "radialaxis": {
            "gridcolor": "rgb(232,232,232)",
            "linecolor": "rgb(36,36,36)",
            "showgrid": false,
            "showline": true,
            "ticks": "outside"
           }
          },
          "scene": {
           "xaxis": {
            "backgroundcolor": "white",
            "gridcolor": "rgb(232,232,232)",
            "gridwidth": 2,
            "linecolor": "rgb(36,36,36)",
            "showbackground": true,
            "showgrid": false,
            "showline": true,
            "ticks": "outside",
            "zeroline": false,
            "zerolinecolor": "rgb(36,36,36)"
           },
           "yaxis": {
            "backgroundcolor": "white",
            "gridcolor": "rgb(232,232,232)",
            "gridwidth": 2,
            "linecolor": "rgb(36,36,36)",
            "showbackground": true,
            "showgrid": false,
            "showline": true,
            "ticks": "outside",
            "zeroline": false,
            "zerolinecolor": "rgb(36,36,36)"
           },
           "zaxis": {
            "backgroundcolor": "white",
            "gridcolor": "rgb(232,232,232)",
            "gridwidth": 2,
            "linecolor": "rgb(36,36,36)",
            "showbackground": true,
            "showgrid": false,
            "showline": true,
            "ticks": "outside",
            "zeroline": false,
            "zerolinecolor": "rgb(36,36,36)"
           }
          },
          "shapedefaults": {
           "fillcolor": "black",
           "line": {
            "width": 0
           },
           "opacity": 0.3
          },
          "ternary": {
           "aaxis": {
            "gridcolor": "rgb(232,232,232)",
            "linecolor": "rgb(36,36,36)",
            "showgrid": false,
            "showline": true,
            "ticks": "outside"
           },
           "baxis": {
            "gridcolor": "rgb(232,232,232)",
            "linecolor": "rgb(36,36,36)",
            "showgrid": false,
            "showline": true,
            "ticks": "outside"
           },
           "bgcolor": "white",
           "caxis": {
            "gridcolor": "rgb(232,232,232)",
            "linecolor": "rgb(36,36,36)",
            "showgrid": false,
            "showline": true,
            "ticks": "outside"
           }
          },
          "title": {
           "x": 0.05
          },
          "xaxis": {
           "automargin": true,
           "gridcolor": "rgb(232,232,232)",
           "linecolor": "rgb(36,36,36)",
           "showgrid": false,
           "showline": true,
           "ticks": "outside",
           "title": {
            "standoff": 15
           },
           "zeroline": false,
           "zerolinecolor": "rgb(36,36,36)"
          },
          "yaxis": {
           "automargin": true,
           "gridcolor": "rgb(232,232,232)",
           "linecolor": "rgb(36,36,36)",
           "showgrid": false,
           "showline": true,
           "ticks": "outside",
           "title": {
            "standoff": 15
           },
           "zeroline": false,
           "zerolinecolor": "rgb(36,36,36)"
          }
         }
        },
        "title": {
         "font": {
          "color": "Black",
          "size": 22
         },
         "text": "<b>Intertopic Distance Map</b>",
         "x": 0.5,
         "xanchor": "center",
         "y": 0.95,
         "yanchor": "top"
        },
        "width": 650,
        "xaxis": {
         "anchor": "y",
         "domain": [
          0,
          1
         ],
         "range": [
          -9.36247878074646,
          18.28106780052185
         ],
         "title": {
          "text": ""
         },
         "visible": false
        },
        "yaxis": {
         "anchor": "x",
         "domain": [
          0,
          1
         ],
         "range": [
          -3.8275463700294496,
          11.489609622955323
         ],
         "title": {
          "text": ""
         },
         "visible": false
        }
       }
      }
     },
     "metadata": {},
     "output_type": "display_data"
    }
   ],
   "source": [
    "topic_model.visualize_topics()"
   ]
  },
  {
   "cell_type": "code",
   "execution_count": 14,
   "metadata": {},
   "outputs": [
    {
     "data": {
      "application/vnd.plotly.v1+json": {
       "config": {
        "plotlyServerURL": "https://plot.ly"
       },
       "data": [
        {
         "hoverinfo": "text",
         "hovertext": [
          "frame reference create scene",
          "initially guess initially focused breathing notice change aside breathing body",
          "foot wind face sensation want want fit",
          "levitate sit platafrom high rock",
          "able place place hand shoulder shoulder heart example word",
          "watch outside special lot emotion explain moment",
          "look place place difficult self love",
          "exist bring bring real person let",
          "intensity intense gauge control sensation intense able seize",
          "interesting vr sensation",
          "observe movement synchronize strange",
          "comment short mood let mood probably distracted mood",
          "day",
          "elicit feeling thought moment feeling thought myself",
          "begin begin begin switch reality setting start listen bird surround wind peaceful",
          "need come real surrounding home myself easy control situation",
          "follow",
          "low resolution representation",
          "pretty easy somebody unfortunate annoyed perfectionist self critical",
          "body strange beginning strange face weird start follow instruction myself sensation away sensation super quiet able follow good difficult try able sensation try concentrate instruction disturb easy try movement image experiment able sensation distract sound moment open eye letter read eye close let focus general perspective",
          "fine observe nature scene immersive look screen film obviously head obviously flat screen natural",
          "interesting double mind lie mind lot day",
          "pretty noticeable slight difference pretty drastic control stuff high low pretty different sleepiness notice important consider different cause flexible",
          "sense right suppose inner",
          "probably different usually sound rainforest sound water sound whispering ear guide talk enjoyable oppose run water whisper weirdly ear",
          "stage experiment try foot ground literal metaphorical lifestyle moment come tap completely different virtual self pretty clear phase explain continuation screen screen delay start confuse fourth guess change perception",
          "learn new",
          "lift hand lady lonely raise hand hear",
          "difficult blurry definition right",
          "guess viewpoint change rock disappear notice compare platform effectively platform rock world fact i. train station train environment train train start realise strange expect movement start immerse yourself scene effectively touching blurred expect touch body dissociate wonder lot sport lot probably aware body feeling lot run injury aware blurred interesting",
          "nice vr listen nice different real life recording",
          "mental representation body 50 50",
          "prefer impressive expect different disapointing place place place nice nice body prefer",
          "enjoy",
          "myself pixel stop paralyze",
          "affraid moment happen use",
          "specific disconnection focus body focus heart listen heart sleep example lie bed focus heart breathing heart try listen heart help relax state true music meditate heard voice disconecte",
          "previous life",
          "true body point disconnect",
          "quality image good forest understand real image body mosaic image",
          "nice cool design avatar clear pixelized",
          "notice hand repeat movement sad delay love exact easy",
          "wonder quick wonder point exercise long eventually disassociate touch possible fact start imagine probably look case distinction long start line start blur",
          "point twitch head notice look myself twitch head head remember head ago",
          "expect scene expect want strange feeling definitely scene start realistic platform platform probably",
          "nature surrounding stay original location angle float body foot",
          "wait type response",
          "represent mind body different body",
          "body image body real body image clear point point point flash flash understand want describe",
          "obviously identify direct association myself outside body pattern recognition",
          "calm relax big natural comfortable environment surprise image body suddenly particularly strange video myself strange image myself strange correspond myself environment touching normal visually representation body touch obviously feeling spot definitely twice touch actual touch correspond visual guess long long eventually start sensation happen long disassociate guess certain boundary blur",
          "comfortable comfortable myself myself cute myself nice confirmation set close real real mountain setting easy let thinking concentrate bird setting beautiful voice visual",
          "control manage let myself completely conscious experiment point probably probably possible completely disconnect point point",
          "distinct immediately real body example camera image project imagine projection camera",
          "stop",
          "difference warm feeling chest love myself notice particular difference topic",
          "strange myself look touch place",
          "normal beginning cool look aware posture look myself weird angle",
          "hand body hand stange",
          "strike outside setting forest sun light impression body light inside",
          "interesting outside mind imagine",
          "happy repeat happy long life",
          "lady come form sponge sit hand chest thank help help place hand foot thank support help remove help thank thank motivational speech",
          "guess case",
          "true send love send person place myself image send love weird send love send image",
          "sync sync myself breathe",
          "thank lot",
          "outside",
          "perception body real life",
          "understand body body happen body remember thought observe situation situation happen body",
          "concrete myself space physical connected simulation personal",
          "sense",
          "experiment want compare want",
          "girl talk mouse arround lag concentrate",
          "happy come happy",
          "disturbing myself mirror blur",
          "myself despite myself instruction send myself despite myself away",
          "guess fear intense",
          "wonder sensation different image clear pixelized",
          "real",
          "beginning look cctv closed circuit television myself",
          "couple difficult hard practice non judgmental lot weird period able collect myself calm come change stuff constant calm anxiety prompt guy variance",
          "view different hard main difference fast",
          "realize need follow instruction stop stop setting real wind wind tree leave sound tree leave natural tree place middle away clue real place sum explain myself setting element setting",
          "zoom start look body obviously current moment point reverse start happen past weird point instead look myself look old version myself myself",
          "confused float write bring relaxed strange place place peaceful peace round",
          "relax pretty good weird stare representation body overall generally enjoyable",
          "warmth",
          "i. cloud image fast",
          "relaxed point mind start wander wonder",
          "nice recording",
          "experiment nice include virtual reality change scenario great self image face person weird experiment myself body image sit look bad difficult focus tired experiment hard focus want answer",
          "different normal life",
          "follow moment body",
          "expect hit",
          "relaxing actual exercise sensation afraid intense overwhelming able come baseline find calmness",
          "warmth send yourself body near myself person able touch body",
          "different direction scared clear correct word clear mind observe happen",
          "cool immersive wear forget cool",
          "feeling elevate hear sound look body wow",
          "necessarily avatar act anchor attention guess eye close blank slate brain fill guess eye open avatar offer lot change imagery stare fill busy brain able focus step eye close fill thought imagery distract easily specifically look",
          "break",
          "remove headset realize mismatch",
          "different stage",
          "condition relaxed real condition eye open virtual reality disconcert look myself distracted flow state exercise",
          "long",
          "minute half",
          "easy home myself hear example noise outside fall natural light close eye connection real alignment",
          "awake conscious awake avatar feeling send myself",
          "helpful distracted look leg shimmering stuff different avatar complete glittery find distract helpful try focus focus look avatar distract try aware body",
          "easy relax look forest close eye hard enjoyable enjoyable close eye reference reference nature definitely nature allow stay calm scared close eye scary scary close eye guess feeling able control stuff",
          "hand hand form view body strange body follow want real life",
          "new stuff hard body self awareness challenging reason challenge myself",
          "viewpoint outside",
          "section obviously use vr cool forest find interesting float strange myself body sense leave cool",
          "try understand connect information image white cross help prove myself",
          "blink",
          "explain imagine area heart emanate aura warm basically emotion feeling",
          "feedback technical person clearly",
          "phase",
          "suprise din't expect expect trust understand exercice exercice real right beginning confused honest understand game pretty beginning real real recorded play sequence past disturbing tend want believe true relate fact 100 convinced game ok match point disconnected feeling pay attention feeling anymore watch movie guess difference match",
          "body virtual visualization body",
          "normal normal eye close look person real close eye fine normal hear focus fine real look",
          "help relate outside help connect connect apart link use",
          "disconnection weird sensation describe",
          "definitely warmth inside connect try overall idea compassionate myself try compassionate leg foreign connect overall sense relaxed stuff exercise specifically try focus compassionate leg sense",
          "beginning different slowly",
          "comment sound distract sound machine listen bird stuff background noise distract focus attention focus wonder figure disturbing thought",
          "myself warm relaxed myself myself good good lot sensation feeling connection myself despite away image connection myself good",
          "reassure sense artificial body necessary",
          "wonder link breath try link",
          "long",
          "particular emotion",
          "notice notice entire breathing sync",
          "dealaye future past record happen month",
          "different instruction correct exact personalise attention look look shape personalised previous previous ok repeat surrounding comfortable instruction particular attention follow attention happy amazing different reality",
          "instructive moment guide jar sense",
          "moment nature set",
          "wonder choose pixelate oppose realistic",
          "follow resistance",
          "blink",
          "equally myself high myself high person different feeling different experiment",
          "moment mismatch headset realize physical body movement",
          "turn head",
          "beginning use",
          "computer mouse white girl",
          "particle picture",
          "completely music monk din't understand look vertebrae clear vertebrae fact pineal gland effect great hand",
          "competition yourself try sense",
          "focus feeling notice youtube pixel strange notice picture",
          "different everyday life",
          "look solid r shape mind inside myself r shape",
          "need french impression distant sensation feeling session hard come session mask short long session setting easily",
          "help forget body touch happen body jump body sensation whoa float",
          "nature set try look natural reaction unknown let uncomfortable stare mind turn look slowly",
          "lady",
          "different disconnected surrounding happen surround example session session remove headset notice",
          "shift strange",
          "high fidelity",
          "want prove body stand hand",
          "wait bring close",
          "fact body pixel body weird explain strange pixel pixel teacher lot come",
          "sense i. happen buddy myself myself",
          "viewpoint look detach body cool cool body",
          "definitely lot sensation float body weight mask weird sit answer",
          "forest alive movement great alive depend alive let movement movement bird repetitive fly real forest moment close eye inside",
          "shoulder movement outline voice pay attention difference look boy pay attention shoulder breathe flow guess pay attention surrounding differently",
          "middle",
          "possible stand",
          "audio mouse",
          "easy inner self physical self easy myself",
          "cool platform sit forest elevate ground level right",
          "forget itch forget friend eat weird pass imagine yourself walk forget body realize wow weight body float",
          "feeling body touch body body body body body",
          "body weird myself touch waist knock knee sit direction look shoulder chest sit direction",
          "right reason train myself train mood easy calm reason different mode calm",
          "tire",
          "design",
          "guess shocking headset",
          "myself outside float beginning fascinating reach certain level myself outside session able ok reach certain level",
          "small identification",
          "technical point point point flash flash",
          "enjoy",
          "good quality pixel quality pixel good knowledge technical technical production",
          "find easy state myself funny float air identify myself avatar moment imagine body definitely strong previous",
          "happen real a. lag notice",
          "vivid",
          "noise long",
          "instruction moment hand obviously bad feeling example period intense",
          "hologram",
          "manage warmth relax voice relax",
          "guy",
          "stay hour day",
          "hand",
          "true young height fly stay city afraid height switzerland god god year come verbier high mountain come earth apparently come day mention environment room stay boundary reference",
          "cool pretty job point disconnect",
          "depend",
          "zoom body observe physical link yourself",
          "guess moment person try control breathing let point right aware feeling thought moment aware try control different touch confusing point happen point different look different person scene trait mixed feeling",
          "find",
          "long day",
          "din't",
          "float calm breathe calm notice dark exhale light bright inhale understand pattern cool breathe",
          "want realize especially light remember boy release control try control breathing let happen naturally guess",
          "minute",
          "start wander happen normal try focus example stone stone structure work",
          null
         ],
         "marker": {
          "color": "#CFD8DC",
          "opacity": 0.5,
          "size": 5
         },
         "mode": "markers+text",
         "name": "other",
         "showlegend": false,
         "type": "scattergl",
         "x": {
          "bdata": "NdYPwfk9FMFwVRvB2iv2wJSgJMFYjAvBVtfZwJrczcCPyhPB8V8gwV0W6sD6QBnBOSu4wMZBFcG8mQfBDV7mwMw8vMDbJtjAs+MXweobH8HMNhXBG6exwAcpIcGCLwjB9MwhwV7xF8GkQBDB5LbjwIAt3MDEMxbB7DkgwXCQHMHtsdnAPaJ8wEF54MAhv//A/rQiwdc6GsFQTRbBdmTuwEOH0cAfpQPB1s0LwQJID8FZ6hLBiksawfaq+cA+tR3BjpwJwTZNEcGoehbB8AUOwdYQIcEhYArBAN/CwL71EsFqjQTBThkTwb+04MC33ebA+dWzwBIetMBruB7BUT6iwDYKA8E8uubAtL2swKYB48CnUxLB98IawdEeH8HFVQLB814jwYfF/cCmLLDAQigcwUIbH8H6cg7BoFzawEOlzcDF+RXBg9UWwbCAE8FsLgTBIUcUweMSCMEp9yPBHTAPwbW28cC5oA/B/d1fwNONJMFhhKnALLT+wPkQEcFvtxXBO34QwTshFsF/vxvBOP4SwQHlJcEirL7AqMwYwSeTBcHUwifBGfK3wPGxqsCN8xLBA/IVwSlYJsGoYxfBM9QSwcLKGMEgVufAOXccwXa1DsFercfA2IYQwUwZ+cDv5QXBz/ASweGdCsG8OhPBrgYQwcLrFsFP9RHBSLQQwfQPIcHP5xLBTuoRwTu82MAGLbjAmuoMwdHo6MCF99nAw2wewX34/8CYt//ASnvawNilwMBuisjAYbcewdwDGcETzwzBaDYPwdoX/MCvqArBXZ0UwQXuFcFbN9zAbweqwEaXGMGPBRjBjywKwb87F8HXxsDAnwwYwYe85sCNdRHB8y7hwJ+z0sDoQ+PAUO7/wBmHFsEPIxzBEegiwaIAGsHYmOPAu0PxwCth/cDqhBnBKVzywBGXCsHrSwrBTmoIwVNkGcFSKNzAWc/5wFiXGMEjKBvBpj6ywHrR78B0HX7AN474wB6SGMEEwvXABjgSwR+bucDCPwLBJNYMwZ1ZG8EImrfAeBa6wCHp4MDeJgjBlHcWwaGxScC1wRPBcgwUwaDtz8D96bfA9T7DwKEtF8E9NxzBgEWpwBF1AsEfDQTB",
          "dtype": "f4"
         },
         "y": {
          "bdata": "bDOTQM/dq0CzeIlAxNXiQAUFxkD9Sq5AjabfQAZz8T8cpMNAeOGHQGgSd0DLwNFAttfnQIt9tkCZ2vRAMSjdQGtsvUCqjWBAgtzJQJ8Ww0CCpadA0p7iQBvd0EAq/LBAkMPNQG7Ep0BuQNdAyn+bQB9mZEBePaZATkyIQNZToUBzWuJAcWbWQKDcW0AUj55Az0+zQFW8rUDTq4RAbJxgQIwIXEANHplAlT2MQGVv/kBPUqpApaSRQCeSdUCiSqFAoVBbQPszlECNTqVAetDKQNBLqEDWtlxARtHYQDc1vEAtvJpAYA7ZQMnmlUC6iOtAkFzaQM015kDKPdhAAzHIQHpyz0Dj1XdA5CvBQA8O6EARuJ1A3BOuQMFRlUBuvqxASQWoQDKMiUDGrOZAe1GdQEEwpUCLpLRAqOdhQHnz7z95IaZASLPKQP+rBEHOz/RAvoWMQD3W2UBHS5xA2J3CQGLMY0AN/ehADziuQCsoo0Be6H9AT1mcQOolsEC0tspABxu7QFBnxUBivIxAtHK8QF6l1kBQMt1AFxR7QHuqt0ALbJtAqsDjQBrw1UBDrAdBzPKvQH7U1UD15tZAuwSKQFiFv0D/5OZAo62PQKejg0DF601AkA6vQIgcsEAUUrhA2H+yQIAxVkDN8QhBKY2DQMWug0D4eMJAu9zaQPWd2EBa/LpA5KCbQEYuhkBMzuNA7JCxQMi5eUCcmrVAZx3XQFwonkBw6J1ANlVhQJKcvUBXAk9AqLmnQLxAfED1PAZBCCDWQB0WikB512tAi37/QN5T4UDBWmZAyimBQP3Xt0AjNKRAl92VQCrz1kCsZ8dATg1/QMSGP0D3AMdAeWKWQFYFwUCpJFhAoCeiQINghUBCF4hAjuLEQGCNs0CHgdRA38XgQKFeikAi5L9AoKrhQLKnnkAQspVAP32dQLHL1ED6xspAVzivQAVefUBEjJJAc49QQOUfkEBjmNZA4mCtQEq/uUCxfnVAwV3IQMW540CSqJxA7DNsQM2S50BzL8dAUrDqQD56lkAmTdpATB6EQNZxzECOyopAQ/WrQCOi1kB24+VAjHfYQN9W10AgIu1A4l3TQJCp7kBnLrBA",
          "dtype": "f4"
         }
        },
        {
         "hoverinfo": "text",
         "hovertext": [
          "interesting observe myself",
          "correct",
          "perfect description",
          "nice",
          "easy easy imagine",
          "fine",
          "positive",
          "good world",
          "pretty",
          "definitely",
          "fun",
          "definitely find easy situation easy",
          "interesting",
          "interesting publish",
          "pretty",
          "absolutely",
          "difficult",
          "easy nice",
          "interesting",
          "cool",
          "easy compassion myself",
          "interesting knock",
          "fun",
          "easy",
          "easy myself",
          "nice interesting",
          "good",
          "fine fine",
          "free",
          "basically",
          "absolutely fine",
          "interesting",
          "easy",
          "right",
          "interesting",
          "cool",
          "interesting",
          "probable",
          "problem great nice",
          "definitely",
          "good wow",
          "fun nice",
          "good",
          "absolutely",
          "nice",
          "ok",
          "nice",
          null
         ],
         "marker": {
          "opacity": 0.5,
          "size": 5
         },
         "mode": "markers+text",
         "name": "0_interesting_easy_nice",
         "text": [
          "",
          "",
          "",
          "",
          "",
          "",
          "",
          "",
          "",
          "",
          "",
          "",
          "",
          "",
          "",
          "",
          "",
          "",
          "",
          "",
          "",
          "",
          "",
          "",
          "",
          "",
          "",
          "",
          "",
          "",
          "",
          "",
          "",
          "",
          "",
          "",
          "",
          "",
          "",
          "",
          "",
          "",
          "",
          "",
          "",
          "",
          "",
          "0_interesting_easy_nice"
         ],
         "textfont": {
          "size": 12
         },
         "type": "scattergl",
         "x": {
          "bdata": "gEcIwGByMsBoWXjA89xTwDwcVcAqBVXA/fNIwMpVXcABe1XAdYo3wL+fZsBgmlbADtMJwBQIB8BfdFXA4ik5wP1oWcA3DlfAA4gIwLvOUcBheFjAbwcOwAT+Z8BSJ1fAjIBWwCL4B8DYRVPAaYRdwM3rYMCeS3vAGXdYwMUXCMAqHFfAbbw+wFNVCMCSiVPAnkMIwEN8QsD/VVvA/+42wKq5VcB292PAyDJTwLclOcC3c1PA3wFTwM4NVMBhuEXA",
          "dtype": "f4"
         },
         "y": {
          "bdata": "I2nCQAliwkBzYq5A94GzQBvj2kBxib5AS2nEQF0FwkAuT7FAN2fGQAp20kBG49xAqpvBQBnYwkDhnrFAh5/FQK1j3EDXEdlAvlLCQLgrtUDVzt5AQti/QLcE0kB4P9xAevXbQPtnwkBBf75AlO++QLmbzkCX2bBALlLAQI+ZwkB8R9xAI/7BQLdwwkBKurNAUmzCQHUPy0Dc1cNALRbHQMbkvkAgFM9AbXS9QAbVxUCWjLNAW229QFkxs0DP18RA",
          "dtype": "f4"
         }
        },
        {
         "hoverinfo": "text",
         "hovertext": [
          "focused",
          "concentrate",
          "realm relaxing easy follow induce sense ease diminish spend wait track track start instead focus induce feeling want focus spend got come partially successful sense able relax step instruct try induce feeling",
          "relax able eye open look guess remember eye close focus voice hear calm personal",
          "focus myself focus instruction eye closed hear strong hear type distract difficult eye close pay attention outside focus pay attention happen extremely focused follow section myself sensation start single let start",
          "find body strange express forest meditate close eye focus watch focus wow",
          "gain focus tempt point forget body focus come come light moment forget breathe forget breathing focus personally understand focus different good stop focus try stop anybody stop nice focus breathe heart",
          "try medidate notice brain need fight distract bring stupid thinking buy shop fight try focus focus body eventually conection disconection hope",
          "beginning concentrate body lose focus beginning",
          "guess sense able picture find myself focus head look head easy picture maintain focus image eye close head try probably pop head lot easy image head easily displace thought stare head anchor strongly hard stare",
          "lot easy maintain focus expect long element new easy try stay moment",
          "beginning certain point start look tree observe start sleep",
          "speak right voice low pitch calm close eye instinctively",
          "bunch stuff topic lot jump forth topic easy easy apply mindfulness bodily sensation cognition notice massive difference start begin flexibility cognitively let thought pass oppose getting stick judge notice big change notice notice change body gradual relaxation body",
          "concentrated",
          "practice regularly compassion regularly imagine practice elicit feeling reaction easily practice foreign concept try elicit spot life changingly immediately",
          "having able look head chest distraction able focus cultivate feeling direct intended generate self compassion opposite effect eye close distract annoy distract suppose detract away task self compassion guess incorporate concentrate ability suppose distract annoy distract",
          "tense beginning improve good enjoy eye open expect myself easy visualize body sensation prefer eye close",
          "term try focus specific body past generally lot focus breathing try concentrate specific area",
          "concentrate remove thought emotion positive negative",
          "honest body concentrate happen moment meditate normal distract din't compelling myslef compelling meditate basically concentrate moment myself singular meditating",
          "eye close find lot hard lot hard stay track guess stay focused minute step chaotic brain guess eye close compare eye open find myself drift lot lot easy drift suppose ignore thought sense eye open lot easy focus attention",
          "focus leg imagine leg find easy eye shut visualize leg",
          "good relate lot example focus lot relate focus precise",
          "point eye open face nature focus rock focus",
          "ok fascinating definitely practice decentere myself lose focus need work",
          "focused",
          "focus myself exercise yourself heart brain leg myself able focus image start image zine image remind myself focus totally focused exercise",
          "beginning look try follow voice allow myself follow goal",
          "intensely eye closed receptive open eye potentially lose focus wander beautiful tree forget instruction need follow ear definitely prefer eye close",
          "help help focus talk raise hand hand raising help",
          "distract especially beginning body point",
          "use yoga class try guide youtube properly",
          "absolutely fight meditate try cut sense disconect outside world earplug usually close eye focus body",
          "look tree fastly attention",
          "definitely follow effort spend follow open look body lot easy pinpoint attention distract able follow step distract lot easy",
          "guess relate look place visit year moment distract start trip try focus task",
          "meditate open surprised observe myself",
          "impact touching focus match focus forget rest focus tooth care tooth cool blink",
          "zone stuff whithout distract",
          "difficult example let concentrate leg start leg try leg super easy myself focused leg focus heart super easy example leg bad let focus leg need leg need focus leg need leg order focus leg distract start leg order focus leg",
          "beginning control myself attention place slow slow unusual myself normally mirror rest imagine absolutely new position myself surprise concentrate body",
          "try hand hand hand hand nah nah try true reality point start observe stare myself close eye prefer intake eye close understand fact open eye prefer close",
          "point point suppose suppose look nature focus",
          "come come crescendo stick right away read myself concentrate body moment",
          "physically focus",
          null
         ],
         "marker": {
          "opacity": 0.5,
          "size": 5
         },
         "mode": "markers+text",
         "name": "1_focus_leg_eye",
         "text": [
          "",
          "",
          "",
          "",
          "",
          "",
          "",
          "",
          "",
          "",
          "",
          "",
          "",
          "",
          "",
          "",
          "",
          "",
          "",
          "",
          "",
          "",
          "",
          "",
          "",
          "",
          "",
          "",
          "",
          "",
          "",
          "",
          "",
          "",
          "",
          "",
          "",
          "",
          "",
          "",
          "",
          "",
          "",
          "",
          "",
          "",
          "1_focus_leg_eye"
         ],
         "textfont": {
          "size": 12
         },
         "type": "scattergl",
         "x": {
          "bdata": "ZukgwcyfIMEu6hzBSOYawawfIMGlyhvBMBMfwREnIcGWfyDB67YXwUWEG8Go1xXBdeQZwQF7HMFEMyHBf10gwdihIsGb9hfBnRohwcorIcGFPSDB85sXwTkAH8Fk3RjBewwbwYfyHcGe6yDBP9YfwU9dFsECBhbBVCAfwVlBIsFQnhbBNdYhwVXlFsExKhjBbkIXwY85GsHxUx3BL7wiwQAyIcF46xbB1RkYwWKlGMGrKyDB2fUfwdrOHME=",
          "dtype": "f4"
         },
         "y": {
          "bdata": "p7n7QMZ++kAtotdARyDpQCKA7UCGauFAd03rQMAK5EBUHvhAB6nvQJ088EB4oftAI9rmQKR50UDw4vpAQsXjQJoY4kD+feZAZ6ruQKy040BzROtAaxjvQKWc8EB98vlA4WH8QJO78ECJw/pABPTvQJyC5EB4lP5Au17vQKmW8EB/oOFA/fPjQO7B+UBdvuhAPOXuQAtA30ABOvtAx4bxQDBV8EC8g9tAWX3rQFz3+0CLeO1ABK/5QJy97UA=",
          "dtype": "f4"
         }
        },
        {
         "hoverinfo": "text",
         "hovertext": [
          "realize miss couple word relaxed eye close start sleepy",
          "place real relax",
          "calm",
          "relief relief absolutely",
          "fine sit",
          "good sleepy usual",
          "relaxed",
          "general city calm",
          "general person sit",
          "session calm rest",
          "head relax",
          "true peaceful image calming relaxed",
          "comfortable",
          "session",
          "relaxed",
          "fact fact clear stress stress good",
          "calm calm",
          "sleep",
          "super nice relax want sleep point",
          "person sit",
          "relief",
          "edge fall asleep",
          "session relaxing",
          "relaxed afraid fall sleep good afraid fall asleep worry fall asleep voice tone voice relax hard relax relaxing want fall asleep sleep yesterday sleep worried nice myself body",
          "fall asleep",
          "sleepy",
          "calm want sleep",
          "calm",
          "peaceful",
          "relax video great short nice focus",
          "overall pleasant setting",
          "problem comfortable",
          "confortable myself position comfortable",
          "close close close eye sleepy",
          "ready sip water cushion",
          "relaxed",
          "tiredness",
          "relax relax open release stress intense",
          "annoy properly foggy tired",
          "come cool cool comeback",
          "sleep easily",
          "calm body",
          "new expect peace relax alert want fall asleep good",
          "episode",
          "session",
          "help relax",
          null
         ],
         "marker": {
          "opacity": 0.5,
          "size": 5
         },
         "mode": "markers+text",
         "name": "2_relax_fall_sleep",
         "text": [
          "",
          "",
          "",
          "",
          "",
          "",
          "",
          "",
          "",
          "",
          "",
          "",
          "",
          "",
          "",
          "",
          "",
          "",
          "",
          "",
          "",
          "",
          "",
          "",
          "",
          "",
          "",
          "",
          "",
          "",
          "",
          "",
          "",
          "",
          "",
          "",
          "",
          "",
          "",
          "",
          "",
          "",
          "",
          "",
          "",
          "",
          "2_relax_fall_sleep"
         ],
         "textfont": {
          "size": 12
         },
         "type": "scattergl",
         "x": {
          "bdata": "BV0Lwf+908BTwb7ACnfKwAGyyMBDq9/ACHvLwEDhx8DB6MjAUGvRwPqbzsDd8MvAXwfJwEFS1sDkNczARqnFwBpNvsDh493AP7bZwBX/yMCQP8rA9kvewNd+08DaFd7Ac4HewPxe4cD2Vd3ACB29wBz4vsCPHszAQ2PVwHUuycDnK8nALHzmwCAAycAVZsvAcDziwCTwysANIOHAVd27wIrU3cBlTr7AvcfdwBj91sCPE9fAKkrKwADO0cA=",
          "dtype": "f4"
         },
         "y": {
          "bdata": "5/EBQSclBEGHIQ9BHzoMQczVAEGUAxRBDoIMQb/oC0EwJgBBjHMJQS6uC0H94AtB3hQBQR+HBkFgNAxBf+cMQQc7D0EzLhRBPaISQYVSAEFFIgxBrzYUQfNjB0F5uhNBXoIUQS5DFUHUbRRBGtUPQW02D0HMlQ1B7FoBQea5AEE2TABB14gUQebJAEFLdQxBf6YVQVymDEHsNxVBp2kOQdYyFEFtUw9BntoTQXZCBkE2UAZBXvEMQVoBDEE=",
          "dtype": "f4"
         }
        },
        {
         "hoverinfo": "text",
         "hovertext": [
          "guess fear bodily sensation thought fear overwhelm able handle practice lot tap bodily sensation non judgmental scared embrace unfamiliar definitely sensation",
          "separate separate yourself separate consciousness consciousness yourself different moment understand anymore",
          "body absolutely thought head guess prime possibility start realize true especially touch attached vision realize myself close close body soul body lean notice allow myself notice lean connect vision body body look entity body fair body presence mind",
          "use idea leave body metaphysical spiritual yourself body confusing bad shocking nature setting finish body integrate",
          "glass physically want want come boring peaceful nice need come feeling unusual find myself extremely bored extremely calm relaxed",
          "right nature set stage understand competent task answer competent task",
          "nice option version reality illusion confirmation sophisticated virtual reality stuff 100 believe live today illusion extreme peace worry participation game change role apparently fast switch",
          "natural easy identify able identify right beginning attached easy body therapeutic nice perspective realise soul",
          "connected hand foot eye everyday sense use day explain sense use day sense use certain extent example voice pay attention specific color shape change shape right voice pay attention realize change light relaxing interesting enjoy",
          "example try identify myself focus focus forget focus avatar loss focus body forget body come constant let self come probably different region brain activate different feeling reality want body dream type change",
          "exploration normally deep tree picture relaxation look detail nice idea distract myself thought completely blank beautiful world want sleep calm notice notice breath sport swimming breathe swim notice change breathe myself extremely slow different",
          "hard look cross switch questionnaire stay answer automatically work",
          "lot emotion happen myself wave emotion myself real suddenly wave self love compassion believe exist want person sad stress sit forest adorable realise self love want perspective myself want protect myself weird come look emotional protective realise body life struggle mind body dissociation mind body right realise body exist separate having separate myself body realise body hard explain entity task",
          "situation introspective try push thought drift envision sense introspective",
          "understand differently today want life illusion game forgot illusion buddhist high level student today happy peaceful wrong problem night dream butterfly understand illusion life butterfly today illusion change different different virtual reality imagination trust need need touch smell different reality cute direction extremely cool concentration profound thinking",
          "moment room room talk instruction familiar change clothe suddenly environment change open eye forest strange",
          "differ different relate physical love body watch myself find easy relate thought mind instead feeling thinking body",
          "point meditate gear disturbing completely dissociate outside gear eye close disassociate room place virtual reality myself watch virtual reality easy focus body focus stay room inner eye close clear room relate person obviously previous close eye space mind hard relate focus attention leg heart mind main difference find elena strange answer relate myself relate angry compassionate answer general",
          "a. consider warm feeling complete change mentality elicit feeling gratitude yourself step minor",
          "thunder thunder special click noise silence shock come astral journey outside travel astral journey travel rest need thought astral travel far journey mind travel",
          "example questionnaire virtual reality notice answer self love let eye open earth love self love",
          "double safe hide real life live car life straight away frightening safe repeat safe hear confirm good fine visually sound nature voice nice opinion nice future create buy example buy dress different dress sporty classic virtual reality game press information program right thousand franc setting interesting future need store need need place good",
          "lot detail feeling feeling word mouth",
          "example search job month unlucky find god manage suck figure aspect self criticism",
          "breath look brighter breathe oxygen breathe fade interesting want disappear breathe completely dissolve task definition sense task dark sense dark dark long dark room concept film dark walk person darkness interact dissolve person remind stranger walk wet floor dark stranger",
          "attention straight idea myself train mother observation observe reality place emotion picture different minute boring want want vibrant energy reality",
          "real memory vivid bird sound forest remind bird sound home enhance emotion strong real dream dream emotional good expect peaceful draw attention surrounding super peaceful jump body entity currently body body touch touch body currently jump space look shell shell concrete stick solid barrier shell ghost physical real solid",
          "instability uncertainty interesting word use torment happen certitude relate",
          "love sport sport hamam detach yourself reality reality compulsive thinking everybody love sadhguru sadhguru indian relax fun day train travel lot scenery understand normally reality mood deliberately spontaneously",
          "characteristic life body body barrier piece paper intensely separated distinctly body clean distinction non oneness stuff",
          "start different stuff mirror far close mirror sensation different quality body puzzle life god profoundly good example idea button home room office room virtual reality extremely high level picture good speaker sound buy room",
          "cry nervous weird let outside observe environment plus body big person big picture large picture ability look good sense frightening feeling stay reconnecte fact myself outside come touch myself",
          "different forest instead observer inside body lot aware surrounding relation surrounding task relationship myself task forest feeling memory stuff scene garden twin sister hug vivid vivid ordinary memory",
          "real spiritual unnatural surrounding psychological connection forest therapeutic effect connect mind body real impactful sense abstract dream spiritual connection try find relationship yourself real life",
          "complete word use interesting relate lot",
          "profound hear voice yourself outside disturbing example lot osteopath work colaboration start press body relax basically relax problem interesting yourself outside easy focus body outside interesting able visualize body outside let pain outside understand inside precise past correspond reality probably interception different different feeling outside process probably different guess different system probably describe definitely visualize outside",
          "change interesting empower myself state change change perception self able myself state state achieve feeling outer body contribute sense calm guess control wrong word mindfulness allow guess scared sit upright close myself certain sensation thought",
          "real dissolve away personally personality bright",
          "let unexpected surprising moment realize disconnect getting disconnected body basically stay observe specific moment lot emotion come lot trouble moment try deal leave weird feeling basically big environment observe big big len interesting frightening oof earth reconnecte body discuss feeling connection reason mind reconnecte body",
          "peaceful unusual thought day separate body myself day separate yourself early interesting outside normally reason myself mirror feeling experiment slowly emotionally peaceful nice different different",
          "use idea experiment",
          "image 3d image appear point word telepathy trip dream example dream dream talk telepathy communicate world realize appear necessarily control control astral journey want body explain myself understand lsd lsd castaneda write book pretty clear program yourself ok",
          "lot participant study lot different person",
          "characterize nutshell incertitude certitude term react confident slow able trust myself practice able open armed stuff",
          null
         ],
         "marker": {
          "opacity": 0.5,
          "size": 5
         },
         "mode": "markers+text",
         "name": "3_reality_body_different",
         "text": [
          "",
          "",
          "",
          "",
          "",
          "",
          "",
          "",
          "",
          "",
          "",
          "",
          "",
          "",
          "",
          "",
          "",
          "",
          "",
          "",
          "",
          "",
          "",
          "",
          "",
          "",
          "",
          "",
          "",
          "",
          "",
          "",
          "",
          "",
          "",
          "",
          "",
          "",
          "",
          "",
          "",
          "",
          "",
          "",
          "3_reality_body_different"
         ],
         "textfont": {
          "size": 12
         },
         "type": "scattergl",
         "x": {
          "bdata": "ORcUwWAFIMFXXx7BY5AfwV+xHsF+bBrBHpYkwdj3GcGw8iPBXMAdwfyKIsGA4SbBmmUewU/wGMG7tSLB3RQkwSGQGcH0iyDBMCMawXZsI8FHtyXB12clwWdyFsEJbxnBreUiwWOTIMHkjiTBUGQVwXZLHsHxgCHBFwclwd7aGMFNjx/B5A4fwWdDH8Fu/hvBBpccwUKxGsGjViDBUysfwUroI8FVIyPB/eEiwbbmGcE5Bx/B",
          "dtype": "f4"
         },
         "y": {
          "bdata": "5y++QGqBs0By4blAoAq0QP1QwUA8bsBATsa9QIEwwUDOGsFAZ/mwQPZtw0D3P61A17O1QABVwkCpLcJAcSi3QF+UvEDn6rtA0hXJQMbzvkCpr7RABjrAQJj2u0DHNMdAA2y/QAYewkCyW71AEB/GQDxsxkCKIbZACxy/QKC3tkDnDblAgM+zQAE/xkB3471A2Dq/QLp/xEChEbFA1x7BQPkqqUA0FL5A3nWlQNntvUAPI7xA",
          "dtype": "f4"
         }
        },
        {
         "hoverinfo": "text",
         "hovertext": [
          "body body body body weird expect body appear",
          "weird body imagine representation body",
          "body",
          "leg",
          "beginning body",
          "real body",
          "body",
          "light",
          "helpful leave thought heavy pack body",
          "different body",
          "body",
          "nice prefer strange body",
          "lag body",
          "heavier",
          "light come heavy wow intense nice light want come body",
          "body",
          "body strange",
          "outside outside outside body",
          "difference body",
          "body",
          "dream dream body",
          "light body purpose effective",
          "heavy",
          "body",
          "body",
          "hard phrase hard phrase body hard",
          "cool body afar underneath interesting",
          "probably concentrate body concentrate look din't pay attention weight",
          "weird body",
          "half body start half",
          "inside outside body dark",
          "heavy light scene heavy weight body",
          "come body noise come come",
          "absolutely body expand boundary",
          "body clearly identify",
          "body",
          "body",
          null
         ],
         "marker": {
          "opacity": 0.5,
          "size": 5
         },
         "mode": "markers+text",
         "name": "4_body_heavy_light",
         "text": [
          "",
          "",
          "",
          "",
          "",
          "",
          "",
          "",
          "",
          "",
          "",
          "",
          "",
          "",
          "",
          "",
          "",
          "",
          "",
          "",
          "",
          "",
          "",
          "",
          "",
          "",
          "",
          "",
          "",
          "",
          "",
          "",
          "",
          "",
          "",
          "",
          "",
          "4_body_heavy_light"
         ],
         "textfont": {
          "size": 12
         },
         "type": "scattergl",
         "x": {
          "bdata": "n6zkwCxy6sCSGtfADa3XwPLm3MAg+dXAq57WwMuv98ALZvTAPQ3bwJYO18Aq9ubABsDgwGHo88AbvfPA7SvWwOAm6cCSPNjAb+PZwAOv18C7YNXAvlj1wLDJ9MB8ntnABuXXwEQ41cBG6OXAGtPvwNDs5sByoNzAWK/OwHtU88A+O97A/wviwG0g1sAZFdfAUP7UwPfr4MA=",
          "dtype": "f4"
         },
         "y": {
          "bdata": "jXAeQMYKLEA92cg/L4HQP3VXxT+foco/bWfGP5O9CUBEzf8/e3frP+5MyD80ySVAgwkKQD0K/j/dhP8/GPjEPxLaL0DX9dE/vijTP/VryD9D78Q/7iUCQMhJAEBn4ss/nQ/MPy5pvj8y5ChAAnvvP7UrJ0BuI8c/DeCOQKs++T9yObE/PLbLP0XJ9z+5osk/74S/P9NX+D8=",
          "dtype": "f4"
         }
        },
        {
         "hoverinfo": "text",
         "hovertext": [
          "different",
          "body color clothe gesture image",
          "link breath dark",
          "normal normal",
          "difference color head signal send rest look similar coat color clothe upper red wear jean let sit position sit",
          "thought normal image",
          "normal",
          "live anymore",
          "color t shirt hair look",
          "color wear trouser t shirt different color",
          "color change fact experiment send signal receive aware situation relate",
          "notice change color",
          "hand different color",
          "try difference hard",
          "different direction",
          "color come myself white gray imagination find yellow orange come yellow",
          "different",
          "yellow deep breath",
          "difference",
          "different normal",
          "pixel body color change light darker",
          "nice focus change color grass notice realize color change",
          "technology point color point bright",
          "challet person tutor notice high stylish change",
          "angle different",
          "different color",
          "yellow color blue color",
          "difference",
          "familiar repeat difference",
          null
         ],
         "marker": {
          "opacity": 0.5,
          "size": 5
         },
         "mode": "markers+text",
         "name": "5_color_yellow_normal",
         "text": [
          "",
          "",
          "",
          "",
          "",
          "",
          "",
          "",
          "",
          "",
          "",
          "",
          "",
          "",
          "",
          "",
          "",
          "",
          "",
          "",
          "",
          "",
          "",
          "",
          "",
          "",
          "",
          "",
          "",
          "5_color_yellow_normal"
         ],
         "textfont": {
          "size": 12
         },
         "type": "scattergl",
         "x": {
          "bdata": "6MytwOtm0sA62NXAH0GrwKUxx8Aj667AxJWqwKoHqcDq/8vAkKDLwNrEycDV38bAChPSwP5tqsBR17DAOSXMwEWGrcAGEtPACLqrwIkSrMBwZcrA4zzJwCuCz8B4X8jAXeKvwFJWwcANMsvALhmswBHsq8Bh+L3A",
          "dtype": "f4"
         },
         "y": {
          "bdata": "GFiPQKoQkEDJ3IRApjaBQADVkEBepHZABdSAQOdmdUCjGJFAXXORQBIWlkCZLptAaruRQI7aj0BlsJBAa2eRQCl5j0BHBYlAM5eOQIBWg0Ap95VAPhSdQD/tl0DenJ5ARcqOQDh8kEBtr5FAXUeOQBKTi0ACd45A",
          "dtype": "f4"
         }
        },
        {
         "hoverinfo": "text",
         "hovertext": [
          "weird delay touch delay",
          "repeat detect virtual real mind virtual touch backside",
          "real body touch example touch real body react touch body immediate reaction reaction body body try avoid touch non awareness body help myself touch",
          "touch touch",
          "beginning body touch strange body especially strange",
          "touch image touch touch difference touch image example session white cross ending session touch stop immediately moment notice real touch image image small technical detail help help mind notice real technical production",
          "technical problem remember click image delay situation",
          "view touch scene happen confuse understand previous previous scene",
          "easily fear touch virtual body touch scene touch backside real touch real touch use scene touch backside",
          "understand understand body touching basically beginning interesting lag right",
          "delay touch stick",
          "touch limit body powerfull body normal",
          "example prove myself feeling catch confusing focus image catch catch button touch button white white feeling want catch scene",
          "interesting point myself 3d notice pretty quickly reverse delay",
          "especially come strange outside body touch touch",
          "touch weird difficult",
          "watch scene notice delay hand hand strange feeling understand body",
          "touching hard body perfect vision delay convincing body awareness delay body touch place getting touch disturb fact touch right place compute delay touch approximately",
          "normal previous session myself scene body touch different weird different platform new happen session weird",
          "delay huge delay",
          "touch body touch avoid touch focus image myself touch head try try touch image help locate touch example try image middle reflect middle try combine middle need reflect confusing",
          "clear follow instruction connection try share perception body stretch explain",
          "interesting experiment matter touching image myself synchronize feeling touching synchronize",
          null
         ],
         "marker": {
          "opacity": 0.5,
          "size": 5
         },
         "mode": "markers+text",
         "name": "6_touch_delay_scene",
         "text": [
          "",
          "",
          "",
          "",
          "",
          "",
          "",
          "",
          "",
          "",
          "",
          "",
          "",
          "",
          "",
          "",
          "",
          "",
          "",
          "",
          "",
          "",
          "",
          "6_touch_delay_scene"
         ],
         "textfont": {
          "size": 12
         },
         "type": "scattergl",
         "x": {
          "bdata": "nkEBwfwSCcHv5AfBuicEwTIbBMH6vQrBDBb6wMCxBcF4cgfBWqoCwRhyAsEEtQXBkdoIwUQM/8DSVQbBPbYEwRT3AsHcLwXBhjMEwcxd/MBAZQjBe88OwdTtCcFtRgXB",
          "dtype": "f4"
         },
         "y": {
          "bdata": "tOV4QLNSh0CG44hAGl2KQBnygkBRWYFAnAlwQCkEgkCi5IZAvKt9QCPwfECllIZAqkGDQI1td0A76IZAXwmDQMAAhUCYTYFA8t6BQCOIc0BqN4NAL5CEQB+lgUBjR4JA",
          "dtype": "f4"
         }
        },
        {
         "hoverinfo": "text",
         "hovertext": [
          "try myself virtual person physical",
          "body mirror body myself outside representation myself outside body internal state mirror example need focus meditate focus actual body",
          "surprisingly distract minute face disassociate fact sit virtual reality",
          "relate fear height follow instruction session hologram virtual reality disturbing woman myself virtual self",
          "answer want surprising saw body expect focus respiration good need french project body body inside energy",
          "previously try need imagine brain focus myself continue imagine lose vr equipment need use brain easy",
          "control body wonder body",
          "observe body correspond myself mirror sensation focus body",
          "true exaggerated movement point purpose hologram movement reflect force myself exaggerated movement hologram purpose case help body consciousness conclusion help disturb distract follow actual goal stage",
          "usually vr lay machine sit watch different",
          "outside observe paralyzed useful",
          "weird body vr",
          "disturbing woman narrate stuff try focus movement shoulder pelvis distract real self try concentrate hologram right hologram accurate actual movement distract honestly",
          "body point sit float elevated chair look person myself body sit float person bag mind connected body change touch bag different connection visual change impact watch myself",
          "virtual reality beginning weird anxious tense minute start repeat phrase myself touch body normal enjoy",
          "want semester project use panorama vr equipment design come achieve object chalet collect hover chalet continue hover object hear music story achieve want",
          "delay identify myself look myself 3d. notice delay myself copy recording myself point aware actual body stop trust start trust actual breathing instead person",
          "control myself interesting let control observe body yourself mirror myself 100 unusual",
          "unpleasant probably pleasant unpleasant cool interesting myself perspective control puppet instead",
          "good curious different vr kill zombie",
          "virtual body mind virtual body look myself observe image myself need body body shifting",
          "enjoy include vr",
          "need example forget room change forest image change physical movement difficult forest focus virtual body look moment physical body need virtual body shift physical body headset realize true true stay",
          null
         ],
         "marker": {
          "opacity": 0.5,
          "size": 5
         },
         "mode": "markers+text",
         "name": "7_virtual_body_vr",
         "text": [
          "",
          "",
          "",
          "",
          "",
          "",
          "",
          "",
          "",
          "",
          "",
          "",
          "",
          "",
          "",
          "",
          "",
          "",
          "",
          "",
          "",
          "",
          "",
          "7_virtual_body_vr"
         ],
         "textfont": {
          "size": 12
         },
         "type": "scattergl",
         "x": {
          "bdata": "1cofwZ1rHcE8aCPBGe0jwTiXIMFVjCPBL6QdwRwhHMGpzyPBDTwhwQqpFsElch/BtNUlwTiAHMEVhyLBWVAkwanwHsHw0B7BttojwcPEIMHFQB/BEyMjwW/hIcGIlSDB",
          "dtype": "f4"
         },
         "y": {
          "bdata": "X+GSQIZ7nkCho45AJ2aWQKZdrEAcoZBApaWeQAFjm0D3IpFALMuJQH7Dn0Cho4dAJ2KVQFKNkkCbtplADQiYQC4ymEBiOqJABzidQHCyh0BjgZdAjxqPQJ2+lUD2e5ZA",
          "dtype": "f4"
         }
        },
        {
         "hoverinfo": "text",
         "hovertext": [
          "focus sound river bird relaxing landscape",
          "love want try forest nice",
          "forest",
          "grass cover",
          "interesting moment enter forest shock",
          "appreciate real forest look rock tree",
          "rock forest border",
          "forest",
          "away plataform away forest",
          "session inspire adventure adventure forest",
          "pleasant memory indonesia indonesia year jungle",
          "start pile stone relax guess element love environment forest nature good",
          "tall building",
          "element nature tree sound river water help relax",
          "different want set forest contact",
          "grass near stone green brown notice",
          "heavy nice setting forest nice sea sea",
          "easy forest dark",
          "nice forest love forest good surprise calm relax",
          "fact immerse forest helpful",
          "environment effectively rock weird obviously expect happen",
          "smell want smell forest",
          "simple happen tree rock diversity interesting",
          null
         ],
         "marker": {
          "opacity": 0.5,
          "size": 5
         },
         "mode": "markers+text",
         "name": "8_forest_rock_tree",
         "text": [
          "",
          "",
          "",
          "",
          "",
          "",
          "",
          "",
          "",
          "",
          "",
          "",
          "",
          "",
          "",
          "",
          "",
          "",
          "",
          "",
          "",
          "",
          "",
          "8_forest_rock_tree"
         ],
         "textfont": {
          "size": 12
         },
         "type": "scattergl",
         "x": {
          "bdata": "m9T6wEaV8sCiKe3A5yrowKnr7MBqHPHAgSfvwFI87cDLPO7AJBDqwC1w+sBKZPzArHjxwNjP+8Bmbe7AWu/FwGK/78DjmOzAbwr2wLaB7MCvP/zA2PfuwMS09sAo8u/A",
          "dtype": "f4"
         },
         "y": {
          "bdata": "OIP3QD4N+UAEQP1ApijsQFPZ/EA8YvpAXGj6QIAr/UAYG/xAnxQAQWwx8EDeV/RAcb7hQBge9kDeXPtArlqqQNUP+kD8if1Aq932QD11/UB0vPFAvIX8QB8H90DBifRA",
          "dtype": "f4"
         }
        },
        {
         "hoverinfo": "text",
         "hovertext": [
          "close close normally close eye open eye",
          "open eye hard different regular open eye hard explain difference",
          "eye close body scan feeling inside body",
          "tendency close eye",
          "beginning eye close open",
          "prefer version feeling eye open myself prefer vision angle point view remarkable difference point view great",
          "easy eye close find easy eye open difficult",
          "play role screen close eye natural environment tiring open",
          "easy eye open",
          "eye close likewise",
          "aware open eye fine closed eye start feeling point fall asleep visual clue",
          "close eye different color meditate different color",
          "eye open eye close",
          "difficult eye open want close",
          "eye close",
          "relaxed start slip extremely eye open sense close associate close eye general",
          "30 eye open condition",
          "78 focus teacher condition condition 30",
          "easy eye close",
          "simple active",
          "condition 70 eye open 30",
          "real eye close instead eye open normally eye close hear instruction follow follow",
          null
         ],
         "marker": {
          "opacity": 0.5,
          "size": 5
         },
         "mode": "markers+text",
         "name": "9_eye_open_close",
         "text": [
          "",
          "",
          "",
          "",
          "",
          "",
          "",
          "",
          "",
          "",
          "",
          "",
          "",
          "",
          "",
          "",
          "",
          "",
          "",
          "",
          "",
          "",
          "9_eye_open_close"
         ],
         "textfont": {
          "size": 12
         },
         "type": "scattergl",
         "x": {
          "bdata": "NhIQwSASEsGQxg7BUQMRwZI0EMFBaxHBZTMRwWjmEcF8cRDByBEQwVkjD8FGGA/BQ5wQwWE4EMHLFQ/BViISwYH+DcEpUwrBWaIQwcQQDMGh1AvBJjURwXW0D8E=",
          "dtype": "f4"
         },
         "y": {
          "bdata": "MN8PQe9hDUG6qwtBBvYOQavaD0H4oQ5BJcMOQaK5DkEgUA9BmvoPQXEwCEE4GxFB+ZEPQfTMD0Ge4xBBdLIPQW2UEEFVPg5BfaQPQe3cDEGOhw9BBOoOQYTTDkE=",
          "dtype": "f4"
         }
        },
        {
         "hoverinfo": "text",
         "hovertext": [
          "identify",
          "identify look image",
          "perceive actual avatar tiny",
          "refer avatar avatar myself",
          "myself",
          "myself",
          "myself hit swicthe convice",
          "recognize myself work",
          "frequently",
          "briefly myself normally",
          "avatar blink avatar",
          "recognize myself",
          "example myself avatar",
          "avatar blink",
          "identify myself",
          "myself",
          "body blink",
          "guess similar look myself",
          "notice look eye close blink different notice especially touch synchronize rest synchronize",
          "myself",
          "appear",
          "synchrony avatar completely",
          null
         ],
         "marker": {
          "opacity": 0.5,
          "size": 5
         },
         "mode": "markers+text",
         "name": "10_avatar_blink_myself",
         "text": [
          "",
          "",
          "",
          "",
          "",
          "",
          "",
          "",
          "",
          "",
          "",
          "",
          "",
          "",
          "",
          "",
          "",
          "",
          "",
          "",
          "",
          "",
          "10_avatar_blink_myself"
         ],
         "textfont": {
          "size": 12
         },
         "type": "scattergl",
         "x": {
          "bdata": "/RqywE5YscCc5M3A8dvJwEVbpsATUKbAyH+lwJ4Dr8ALY6PAyPmjwKUVysDKba3AKDnNwOeNyMAyOq7AGNGlwBoZycDDarDA78PnwIcjpsBPJrTAMqHLwLvUt8A=",
          "dtype": "f4"
         },
         "y": {
          "bdata": "t/pIQLKJTEC6FVtAyNhWQIRvTkD9YU5AgV9QQEurSEAUzlRAwytTQNtgUkDbq0hAIiNbQEhbT0APl0dAt2ROQN5jT0DAB0tAAc52QDUtTkA8hktAPz9WQHeLUUA=",
          "dtype": "f4"
         }
        },
        {
         "hoverinfo": "text",
         "hovertext": [
          "creepy",
          "understand",
          "great wrong record find amazing strange wow",
          "probably weird myself",
          "try understand",
          "weird",
          "guess curious",
          "explain",
          "strange",
          "strange",
          "confused",
          "funny weird funny",
          "strange nice",
          "particularly unusual",
          "strange lot",
          "weird",
          "wonder",
          "scary",
          "strange accept strange",
          null
         ],
         "marker": {
          "opacity": 0.5,
          "size": 5
         },
         "mode": "markers+text",
         "name": "11_strange_weird_funny",
         "text": [
          "",
          "",
          "",
          "",
          "",
          "",
          "",
          "",
          "",
          "",
          "",
          "",
          "",
          "",
          "",
          "",
          "",
          "",
          "",
          "11_strange_weird_funny"
         ],
         "textfont": {
          "size": 12
         },
         "type": "scattergl",
         "x": {
          "bdata": "pDZ0wF7Sg8BBJHLAjOBtwEYVhMCufmzABKaWwNqAg8BLbmvAmPxqwEVgg8Af0mzATOlowIQUbMCHMWrAHuprwILDmMCQJnTAQX9twPPzecA=",
          "dtype": "f4"
         },
         "y": {
          "bdata": "UHOYQBOIr0Cb2qBACNiaQAWHr0DRQppAD7fCQKNCr0AxrptA08ybQMoXrkC2FJhAsgycQEySm0ANwJtAgn2aQBOuw0Dl5JdAwhGcQGOBo0A=",
          "dtype": "f4"
         }
        },
        {
         "hoverinfo": "text",
         "hovertext": [
          "need",
          "want want",
          "urgent",
          "unnecessary",
          "need follow",
          "help lot",
          "want fell complicated",
          "watching",
          "want",
          "love",
          "good good come mental mental",
          "want type",
          "good love",
          "miss",
          "right guy want break",
          null
         ],
         "marker": {
          "opacity": 0.5,
          "size": 5
         },
         "mode": "markers+text",
         "name": "12_want_mental_good",
         "text": [
          "",
          "",
          "",
          "",
          "",
          "",
          "",
          "",
          "",
          "",
          "",
          "",
          "",
          "",
          "",
          "12_want_mental_good"
         ],
         "textfont": {
          "size": 12
         },
         "type": "scattergl",
         "x": {
          "bdata": "bDO0wJfot8AcobDAnGCswIgjusCQuK7AxF+3wFvJu8ATPbfApeLJwJQisMB4jbbA/8+zwNWRysDj8LjAXcC3wA==",
          "dtype": "f4"
         },
         "y": {
          "bdata": "rorGQHYAykACm8JAILS+QLqHwkBaDcJATXHIQDV/vED/+shAlQDYQE0a50B0fshARWLkQPE610Dn78pAfObLQA==",
          "dtype": "f4"
         }
        },
        {
         "hoverinfo": "text",
         "hovertext": [
          "platform rock",
          "platform highly body great feeling",
          "nice guide voice real",
          "cool strong body away beginning realize body realize whoa",
          "contact sensation sensation forest",
          "try hear feedback hear secret stuff",
          "space reference nice 3,000 meter riga nice instruction voice",
          "wave",
          "sound",
          "space noise",
          "cool voice let thought come body leave thought cool",
          "voice",
          "sensation platform",
          "voice rock rock touch",
          null
         ],
         "marker": {
          "opacity": 0.5,
          "size": 5
         },
         "mode": "markers+text",
         "name": "13_voice_platform_rock",
         "text": [
          "",
          "",
          "",
          "",
          "",
          "",
          "",
          "",
          "",
          "",
          "",
          "",
          "",
          "",
          "13_voice_platform_rock"
         ],
         "textfont": {
          "size": 12
         },
         "type": "scattergl",
         "x": {
          "bdata": "QoQFwVFRBcG5xgLBrUcIwUcMB8EaxfnAESUGwRuX+8A/YfzA4pQFwX4BBsFqPQHBLeQGwenYA8ERrgPB",
          "dtype": "f4"
         },
         "y": {
          "bdata": "2yC6QIw2u0CWDMRAl+LAQC3crEAM8LZAKqrTQEsgvkDkTLhAfRjUQAhGwUD6dL9A2KuwQKOKvUC5g75A",
          "dtype": "f4"
         }
        },
        {
         "hoverinfo": "text",
         "hovertext": [
          "small",
          "slightly",
          "subtle",
          "change",
          "check notice change notice pay attention",
          "change game thinking realize minute damn",
          "change change small short",
          "damn pay attention",
          "notice notice thought disappear remember notice change",
          "notice",
          "water notice ' case worry",
          "notice",
          "change",
          null
         ],
         "marker": {
          "opacity": 0.5,
          "size": 5
         },
         "mode": "markers+text",
         "name": "14_notice_change_damn",
         "text": [
          "",
          "",
          "",
          "",
          "",
          "",
          "",
          "",
          "",
          "",
          "",
          "",
          "",
          "14_notice_change_damn"
         ],
         "textfont": {
          "size": 12
         },
         "type": "scattergl",
         "x": {
          "bdata": "J1CqwH7+qcBAoqvAHH29wMzvt8BJ9L7A9ru7wAlZtsDGfbjA+3C2wN7it8Dqq7bADW29wFxBtsA=",
          "dtype": "f4"
         },
         "y": {
          "bdata": "qEybQAorl0CzHp1AsgesQG/kpUAHhK1AfkKsQDpzpkD/rqVAl/SlQF1QpkC6E6ZA6NOrQHRapUA=",
          "dtype": "f4"
         }
        },
        {
         "hoverinfo": "text",
         "hovertext": [
          "strange picture represent fact strange sensation day outside body",
          "scary try let myself believe succe fully fully convince ok funny yourself form outside point match imagination imagine look probably usually imagine yourself outisde strange interesting",
          "uncomfortable myself relax body look look body bad feeling strange",
          "scary look relate weird discomfort look",
          "let weirdness discomfort pleasant weird",
          "start feeling body",
          "honestly disconcert myself weird myself",
          "strange body different separate lot word feeling word relevant comment interesting explain myself feeling body",
          "strange present body sense alive sense removed physical sense unsure",
          "scary whoa controlled realize feeling heavy",
          "strange find strange look pay attention net unclear dream",
          "feeling body",
          null
         ],
         "marker": {
          "opacity": 0.5,
          "size": 5
         },
         "mode": "markers+text",
         "name": "15_strange_scary_feeling",
         "text": [
          "",
          "",
          "",
          "",
          "",
          "",
          "",
          "",
          "",
          "",
          "",
          "",
          "15_strange_scary_feeling"
         ],
         "textfont": {
          "size": 12
         },
         "type": "scattergl",
         "x": {
          "bdata": "EGEPwQGNDsFo7gvBL5ULwUjfCcFsKAvBDpkIwZUoDcF3Dw7BA6b3wBwKDsFeEw3BPxoLwQ==",
          "dtype": "f4"
         },
         "y": {
          "bdata": "aA2hQE2yo0DH86FA6/2kQMzhpEDtvplAh7yjQFfOnUCjZp1AFgEDQM7Rn0B5yJ5A38eYQA==",
          "dtype": "f4"
         }
        },
        {
         "hoverinfo": "text",
         "hovertext": [
          "total",
          "help 100 term percentage 75",
          "100",
          "100",
          "number",
          "80",
          "10",
          "guess practice answer",
          "5 10",
          "100 somewhat",
          null
         ],
         "marker": {
          "opacity": 0.5,
          "size": 5
         },
         "mode": "markers+text",
         "name": "16_100_10_somewhat",
         "text": [
          "",
          "",
          "",
          "",
          "",
          "",
          "",
          "",
          "",
          "",
          "16_100_10_somewhat"
         ],
         "textfont": {
          "size": 12
         },
         "type": "scattergl",
         "x": {
          "bdata": "HqaZwGjnncCz+5rAtsaZwOe1mcDBOpjAsCCZwJIVnsDER5jAV5aYwLI7msA=",
          "dtype": "f4"
         },
         "y": {
          "bdata": "dMnUQHbZyUA+EtRAVPXUQCoL1EAMnNVAuqDUQAQhykD0w9RA9LHUQLuN0kA=",
          "dtype": "f4"
         }
        },
        {
         "hoverinfo": "text",
         "hovertext": [
          "center",
          "room especially especially mountain afraid mountain height special experientially push fine",
          "different different reason myself room",
          "different room room different place",
          "nice love location",
          "middle long forget moment",
          "center square cube bother",
          "place",
          "beach",
          null
         ],
         "marker": {
          "opacity": 0.5,
          "size": 5
         },
         "mode": "markers+text",
         "name": "17_room_center_mountain",
         "text": [
          "",
          "",
          "",
          "",
          "",
          "",
          "",
          "",
          "",
          "17_room_center_mountain"
         ],
         "textfont": {
          "size": 12
         },
         "type": "scattergl",
         "x": {
          "bdata": "sE/jwB7a7cDpb9zAvW7bwJD/1cBTa+XAcLbmwFBa3cClW+LATjXhwA==",
          "dtype": "f4"
         },
         "y": {
          "bdata": "RZXVQCwF4EBHPt5AZhjeQHa75kCwpNRArRHVQCMs5EDbEepAxEreQA==",
          "dtype": "f4"
         }
        },
        {
         "hoverinfo": "text",
         "hovertext": [
          "asynchrony",
          "surprising use quickly enjoy",
          "fast",
          "fly",
          "drop constantly talk come",
          "let happen quickly real realize anymore slow different",
          "movement movement quick",
          "happen happen quickly",
          null
         ],
         "marker": {
          "opacity": 0.5,
          "size": 5
         },
         "mode": "markers+text",
         "name": "18_quickly_happen_movement",
         "text": [
          "",
          "",
          "",
          "",
          "",
          "",
          "",
          "",
          "18_quickly_happen_movement"
         ],
         "textfont": {
          "size": 12
         },
         "type": "scattergl",
         "x": {
          "bdata": "ngr2wNaB1MBLg9TA2JLdwA+p2MDt/9bARnTWwJZz1cBuBtvA",
          "dtype": "f4"
         },
         "y": {
          "bdata": "brF2QKCIuEBb5blAN86/QEnKu0D3drhAp3K4QCCVt0C+O7JA",
          "dtype": "f4"
         }
        }
       ],
       "layout": {
        "annotations": [
         {
          "showarrow": false,
          "text": "D1",
          "x": -12.05782527923584,
          "y": 5.966500741243363,
          "yshift": 10
         },
         {
          "showarrow": false,
          "text": "D2",
          "x": -6.925606560707092,
          "xshift": 10,
          "y": 10.756120729446412
         }
        ],
        "height": 750,
        "shapes": [
         {
          "line": {
           "color": "#CFD8DC",
           "width": 2
          },
          "type": "line",
          "x0": -6.925606560707092,
          "x1": -6.925606560707092,
          "y0": 1.1768807530403138,
          "y1": 10.756120729446412
         },
         {
          "line": {
           "color": "#9E9E9E",
           "width": 2
          },
          "type": "line",
          "x0": -12.05782527923584,
          "x1": -1.7933878421783447,
          "y0": 5.966500741243363,
          "y1": 5.966500741243363
         }
        ],
        "template": {
         "data": {
          "bar": [
           {
            "error_x": {
             "color": "rgb(36,36,36)"
            },
            "error_y": {
             "color": "rgb(36,36,36)"
            },
            "marker": {
             "line": {
              "color": "white",
              "width": 0.5
             },
             "pattern": {
              "fillmode": "overlay",
              "size": 10,
              "solidity": 0.2
             }
            },
            "type": "bar"
           }
          ],
          "barpolar": [
           {
            "marker": {
             "line": {
              "color": "white",
              "width": 0.5
             },
             "pattern": {
              "fillmode": "overlay",
              "size": 10,
              "solidity": 0.2
             }
            },
            "type": "barpolar"
           }
          ],
          "carpet": [
           {
            "aaxis": {
             "endlinecolor": "rgb(36,36,36)",
             "gridcolor": "white",
             "linecolor": "white",
             "minorgridcolor": "white",
             "startlinecolor": "rgb(36,36,36)"
            },
            "baxis": {
             "endlinecolor": "rgb(36,36,36)",
             "gridcolor": "white",
             "linecolor": "white",
             "minorgridcolor": "white",
             "startlinecolor": "rgb(36,36,36)"
            },
            "type": "carpet"
           }
          ],
          "choropleth": [
           {
            "colorbar": {
             "outlinewidth": 1,
             "tickcolor": "rgb(36,36,36)",
             "ticks": "outside"
            },
            "type": "choropleth"
           }
          ],
          "contour": [
           {
            "colorbar": {
             "outlinewidth": 1,
             "tickcolor": "rgb(36,36,36)",
             "ticks": "outside"
            },
            "colorscale": [
             [
              0,
              "#440154"
             ],
             [
              0.1111111111111111,
              "#482878"
             ],
             [
              0.2222222222222222,
              "#3e4989"
             ],
             [
              0.3333333333333333,
              "#31688e"
             ],
             [
              0.4444444444444444,
              "#26828e"
             ],
             [
              0.5555555555555556,
              "#1f9e89"
             ],
             [
              0.6666666666666666,
              "#35b779"
             ],
             [
              0.7777777777777778,
              "#6ece58"
             ],
             [
              0.8888888888888888,
              "#b5de2b"
             ],
             [
              1,
              "#fde725"
             ]
            ],
            "type": "contour"
           }
          ],
          "contourcarpet": [
           {
            "colorbar": {
             "outlinewidth": 1,
             "tickcolor": "rgb(36,36,36)",
             "ticks": "outside"
            },
            "type": "contourcarpet"
           }
          ],
          "heatmap": [
           {
            "colorbar": {
             "outlinewidth": 1,
             "tickcolor": "rgb(36,36,36)",
             "ticks": "outside"
            },
            "colorscale": [
             [
              0,
              "#440154"
             ],
             [
              0.1111111111111111,
              "#482878"
             ],
             [
              0.2222222222222222,
              "#3e4989"
             ],
             [
              0.3333333333333333,
              "#31688e"
             ],
             [
              0.4444444444444444,
              "#26828e"
             ],
             [
              0.5555555555555556,
              "#1f9e89"
             ],
             [
              0.6666666666666666,
              "#35b779"
             ],
             [
              0.7777777777777778,
              "#6ece58"
             ],
             [
              0.8888888888888888,
              "#b5de2b"
             ],
             [
              1,
              "#fde725"
             ]
            ],
            "type": "heatmap"
           }
          ],
          "histogram": [
           {
            "marker": {
             "line": {
              "color": "white",
              "width": 0.6
             }
            },
            "type": "histogram"
           }
          ],
          "histogram2d": [
           {
            "colorbar": {
             "outlinewidth": 1,
             "tickcolor": "rgb(36,36,36)",
             "ticks": "outside"
            },
            "colorscale": [
             [
              0,
              "#440154"
             ],
             [
              0.1111111111111111,
              "#482878"
             ],
             [
              0.2222222222222222,
              "#3e4989"
             ],
             [
              0.3333333333333333,
              "#31688e"
             ],
             [
              0.4444444444444444,
              "#26828e"
             ],
             [
              0.5555555555555556,
              "#1f9e89"
             ],
             [
              0.6666666666666666,
              "#35b779"
             ],
             [
              0.7777777777777778,
              "#6ece58"
             ],
             [
              0.8888888888888888,
              "#b5de2b"
             ],
             [
              1,
              "#fde725"
             ]
            ],
            "type": "histogram2d"
           }
          ],
          "histogram2dcontour": [
           {
            "colorbar": {
             "outlinewidth": 1,
             "tickcolor": "rgb(36,36,36)",
             "ticks": "outside"
            },
            "colorscale": [
             [
              0,
              "#440154"
             ],
             [
              0.1111111111111111,
              "#482878"
             ],
             [
              0.2222222222222222,
              "#3e4989"
             ],
             [
              0.3333333333333333,
              "#31688e"
             ],
             [
              0.4444444444444444,
              "#26828e"
             ],
             [
              0.5555555555555556,
              "#1f9e89"
             ],
             [
              0.6666666666666666,
              "#35b779"
             ],
             [
              0.7777777777777778,
              "#6ece58"
             ],
             [
              0.8888888888888888,
              "#b5de2b"
             ],
             [
              1,
              "#fde725"
             ]
            ],
            "type": "histogram2dcontour"
           }
          ],
          "mesh3d": [
           {
            "colorbar": {
             "outlinewidth": 1,
             "tickcolor": "rgb(36,36,36)",
             "ticks": "outside"
            },
            "type": "mesh3d"
           }
          ],
          "parcoords": [
           {
            "line": {
             "colorbar": {
              "outlinewidth": 1,
              "tickcolor": "rgb(36,36,36)",
              "ticks": "outside"
             }
            },
            "type": "parcoords"
           }
          ],
          "pie": [
           {
            "automargin": true,
            "type": "pie"
           }
          ],
          "scatter": [
           {
            "fillpattern": {
             "fillmode": "overlay",
             "size": 10,
             "solidity": 0.2
            },
            "type": "scatter"
           }
          ],
          "scatter3d": [
           {
            "line": {
             "colorbar": {
              "outlinewidth": 1,
              "tickcolor": "rgb(36,36,36)",
              "ticks": "outside"
             }
            },
            "marker": {
             "colorbar": {
              "outlinewidth": 1,
              "tickcolor": "rgb(36,36,36)",
              "ticks": "outside"
             }
            },
            "type": "scatter3d"
           }
          ],
          "scattercarpet": [
           {
            "marker": {
             "colorbar": {
              "outlinewidth": 1,
              "tickcolor": "rgb(36,36,36)",
              "ticks": "outside"
             }
            },
            "type": "scattercarpet"
           }
          ],
          "scattergeo": [
           {
            "marker": {
             "colorbar": {
              "outlinewidth": 1,
              "tickcolor": "rgb(36,36,36)",
              "ticks": "outside"
             }
            },
            "type": "scattergeo"
           }
          ],
          "scattergl": [
           {
            "marker": {
             "colorbar": {
              "outlinewidth": 1,
              "tickcolor": "rgb(36,36,36)",
              "ticks": "outside"
             }
            },
            "type": "scattergl"
           }
          ],
          "scattermap": [
           {
            "marker": {
             "colorbar": {
              "outlinewidth": 1,
              "tickcolor": "rgb(36,36,36)",
              "ticks": "outside"
             }
            },
            "type": "scattermap"
           }
          ],
          "scattermapbox": [
           {
            "marker": {
             "colorbar": {
              "outlinewidth": 1,
              "tickcolor": "rgb(36,36,36)",
              "ticks": "outside"
             }
            },
            "type": "scattermapbox"
           }
          ],
          "scatterpolar": [
           {
            "marker": {
             "colorbar": {
              "outlinewidth": 1,
              "tickcolor": "rgb(36,36,36)",
              "ticks": "outside"
             }
            },
            "type": "scatterpolar"
           }
          ],
          "scatterpolargl": [
           {
            "marker": {
             "colorbar": {
              "outlinewidth": 1,
              "tickcolor": "rgb(36,36,36)",
              "ticks": "outside"
             }
            },
            "type": "scatterpolargl"
           }
          ],
          "scatterternary": [
           {
            "marker": {
             "colorbar": {
              "outlinewidth": 1,
              "tickcolor": "rgb(36,36,36)",
              "ticks": "outside"
             }
            },
            "type": "scatterternary"
           }
          ],
          "surface": [
           {
            "colorbar": {
             "outlinewidth": 1,
             "tickcolor": "rgb(36,36,36)",
             "ticks": "outside"
            },
            "colorscale": [
             [
              0,
              "#440154"
             ],
             [
              0.1111111111111111,
              "#482878"
             ],
             [
              0.2222222222222222,
              "#3e4989"
             ],
             [
              0.3333333333333333,
              "#31688e"
             ],
             [
              0.4444444444444444,
              "#26828e"
             ],
             [
              0.5555555555555556,
              "#1f9e89"
             ],
             [
              0.6666666666666666,
              "#35b779"
             ],
             [
              0.7777777777777778,
              "#6ece58"
             ],
             [
              0.8888888888888888,
              "#b5de2b"
             ],
             [
              1,
              "#fde725"
             ]
            ],
            "type": "surface"
           }
          ],
          "table": [
           {
            "cells": {
             "fill": {
              "color": "rgb(237,237,237)"
             },
             "line": {
              "color": "white"
             }
            },
            "header": {
             "fill": {
              "color": "rgb(217,217,217)"
             },
             "line": {
              "color": "white"
             }
            },
            "type": "table"
           }
          ]
         },
         "layout": {
          "annotationdefaults": {
           "arrowhead": 0,
           "arrowwidth": 1
          },
          "autotypenumbers": "strict",
          "coloraxis": {
           "colorbar": {
            "outlinewidth": 1,
            "tickcolor": "rgb(36,36,36)",
            "ticks": "outside"
           }
          },
          "colorscale": {
           "diverging": [
            [
             0,
             "rgb(103,0,31)"
            ],
            [
             0.1,
             "rgb(178,24,43)"
            ],
            [
             0.2,
             "rgb(214,96,77)"
            ],
            [
             0.3,
             "rgb(244,165,130)"
            ],
            [
             0.4,
             "rgb(253,219,199)"
            ],
            [
             0.5,
             "rgb(247,247,247)"
            ],
            [
             0.6,
             "rgb(209,229,240)"
            ],
            [
             0.7,
             "rgb(146,197,222)"
            ],
            [
             0.8,
             "rgb(67,147,195)"
            ],
            [
             0.9,
             "rgb(33,102,172)"
            ],
            [
             1,
             "rgb(5,48,97)"
            ]
           ],
           "sequential": [
            [
             0,
             "#440154"
            ],
            [
             0.1111111111111111,
             "#482878"
            ],
            [
             0.2222222222222222,
             "#3e4989"
            ],
            [
             0.3333333333333333,
             "#31688e"
            ],
            [
             0.4444444444444444,
             "#26828e"
            ],
            [
             0.5555555555555556,
             "#1f9e89"
            ],
            [
             0.6666666666666666,
             "#35b779"
            ],
            [
             0.7777777777777778,
             "#6ece58"
            ],
            [
             0.8888888888888888,
             "#b5de2b"
            ],
            [
             1,
             "#fde725"
            ]
           ],
           "sequentialminus": [
            [
             0,
             "#440154"
            ],
            [
             0.1111111111111111,
             "#482878"
            ],
            [
             0.2222222222222222,
             "#3e4989"
            ],
            [
             0.3333333333333333,
             "#31688e"
            ],
            [
             0.4444444444444444,
             "#26828e"
            ],
            [
             0.5555555555555556,
             "#1f9e89"
            ],
            [
             0.6666666666666666,
             "#35b779"
            ],
            [
             0.7777777777777778,
             "#6ece58"
            ],
            [
             0.8888888888888888,
             "#b5de2b"
            ],
            [
             1,
             "#fde725"
            ]
           ]
          },
          "colorway": [
           "#1F77B4",
           "#FF7F0E",
           "#2CA02C",
           "#D62728",
           "#9467BD",
           "#8C564B",
           "#E377C2",
           "#7F7F7F",
           "#BCBD22",
           "#17BECF"
          ],
          "font": {
           "color": "rgb(36,36,36)"
          },
          "geo": {
           "bgcolor": "white",
           "lakecolor": "white",
           "landcolor": "white",
           "showlakes": true,
           "showland": true,
           "subunitcolor": "white"
          },
          "hoverlabel": {
           "align": "left"
          },
          "hovermode": "closest",
          "mapbox": {
           "style": "light"
          },
          "paper_bgcolor": "white",
          "plot_bgcolor": "white",
          "polar": {
           "angularaxis": {
            "gridcolor": "rgb(232,232,232)",
            "linecolor": "rgb(36,36,36)",
            "showgrid": false,
            "showline": true,
            "ticks": "outside"
           },
           "bgcolor": "white",
           "radialaxis": {
            "gridcolor": "rgb(232,232,232)",
            "linecolor": "rgb(36,36,36)",
            "showgrid": false,
            "showline": true,
            "ticks": "outside"
           }
          },
          "scene": {
           "xaxis": {
            "backgroundcolor": "white",
            "gridcolor": "rgb(232,232,232)",
            "gridwidth": 2,
            "linecolor": "rgb(36,36,36)",
            "showbackground": true,
            "showgrid": false,
            "showline": true,
            "ticks": "outside",
            "zeroline": false,
            "zerolinecolor": "rgb(36,36,36)"
           },
           "yaxis": {
            "backgroundcolor": "white",
            "gridcolor": "rgb(232,232,232)",
            "gridwidth": 2,
            "linecolor": "rgb(36,36,36)",
            "showbackground": true,
            "showgrid": false,
            "showline": true,
            "ticks": "outside",
            "zeroline": false,
            "zerolinecolor": "rgb(36,36,36)"
           },
           "zaxis": {
            "backgroundcolor": "white",
            "gridcolor": "rgb(232,232,232)",
            "gridwidth": 2,
            "linecolor": "rgb(36,36,36)",
            "showbackground": true,
            "showgrid": false,
            "showline": true,
            "ticks": "outside",
            "zeroline": false,
            "zerolinecolor": "rgb(36,36,36)"
           }
          },
          "shapedefaults": {
           "fillcolor": "black",
           "line": {
            "width": 0
           },
           "opacity": 0.3
          },
          "ternary": {
           "aaxis": {
            "gridcolor": "rgb(232,232,232)",
            "linecolor": "rgb(36,36,36)",
            "showgrid": false,
            "showline": true,
            "ticks": "outside"
           },
           "baxis": {
            "gridcolor": "rgb(232,232,232)",
            "linecolor": "rgb(36,36,36)",
            "showgrid": false,
            "showline": true,
            "ticks": "outside"
           },
           "bgcolor": "white",
           "caxis": {
            "gridcolor": "rgb(232,232,232)",
            "linecolor": "rgb(36,36,36)",
            "showgrid": false,
            "showline": true,
            "ticks": "outside"
           }
          },
          "title": {
           "x": 0.05
          },
          "xaxis": {
           "automargin": true,
           "gridcolor": "rgb(232,232,232)",
           "linecolor": "rgb(36,36,36)",
           "showgrid": false,
           "showline": true,
           "ticks": "outside",
           "title": {
            "standoff": 15
           },
           "zeroline": false,
           "zerolinecolor": "rgb(36,36,36)"
          },
          "yaxis": {
           "automargin": true,
           "gridcolor": "rgb(232,232,232)",
           "linecolor": "rgb(36,36,36)",
           "showgrid": false,
           "showline": true,
           "ticks": "outside",
           "title": {
            "standoff": 15
           },
           "zeroline": false,
           "zerolinecolor": "rgb(36,36,36)"
          }
         }
        },
        "title": {
         "font": {
          "color": "Black",
          "size": 22
         },
         "text": "<b>Documents and Topics</b>",
         "x": 0.5,
         "xanchor": "center",
         "yanchor": "top"
        },
        "width": 1200,
        "xaxis": {
         "visible": false
        },
        "yaxis": {
         "visible": false
        }
       }
      }
     },
     "metadata": {},
     "output_type": "display_data"
    }
   ],
   "source": [
    "topic_model.visualize_documents(docs, embeddings=embeddings)"
   ]
  },
  {
   "cell_type": "code",
   "execution_count": 15,
   "metadata": {},
   "outputs": [],
   "source": [
    "#topics_per_class = topic_model.topics_per_class(docs, classes=df.Id)\n",
    "#topic_model.visualize_topics_per_class(topics_per_class)"
   ]
  },
  {
   "cell_type": "code",
   "execution_count": 16,
   "metadata": {},
   "outputs": [],
   "source": [
    "# hierarchical_topics = topic_model.hierarchical_topics(docs)\n",
    "# topic_model.visualize_hierarchy(hierarchical_topics=hierarchical_topics)"
   ]
  },
  {
   "cell_type": "code",
   "execution_count": 17,
   "metadata": {},
   "outputs": [],
   "source": [
    "df['one_topic'] = topics\n",
    "topic_name_to_id = dict(zip(topic_model.get_topic_info().Topic, topic_model.get_topic_info().Name))\n",
    "df['one_topic_name'] = df['one_topic'].map(topic_name_to_id)"
   ]
  },
  {
   "cell_type": "markdown",
   "metadata": {},
   "source": [
    "# Topic Distribution: Assigning Multiple Topics Per Document\n",
    "\n",
    "In some cases, documents may align with multiple topics rather than a single one. Assigning multiple topics to a document allows for:\n",
    "\n",
    "1. **Reducing Outliers:** Avoid documents being classified as noise due to marginal probabilities.\n",
    "2.**Improved Accuracy:** Mitigates false positives/negatives by acknowledging topic overlaps.\n",
    "3. **Detailed Analysis:** Useful for cases where a specific topic is of interest, ensuring documents are not incorrectly excluded."
   ]
  },
  {
   "cell_type": "code",
   "execution_count": 18,
   "metadata": {},
   "outputs": [
    {
     "name": "stderr",
     "output_type": "stream",
     "text": [
      "100%|██████████| 1/1 [00:00<00:00, 16.22it/s]\n"
     ]
    }
   ],
   "source": [
    "topic_distr, topic_token_distr = topic_model.approximate_distribution(\n",
    "      docs, window = 5, calculate_tokens=True)"
   ]
  },
  {
   "cell_type": "code",
   "execution_count": 19,
   "metadata": {},
   "outputs": [
    {
     "name": "stderr",
     "output_type": "stream",
     "text": [
      "100%|██████████| 350/350 [00:02<00:00, 153.22it/s]\n"
     ]
    }
   ],
   "source": [
    "import tqdm\n",
    "import numpy as np\n",
    "import plotly.express as px\n",
    "\n",
    "tmp_dfs = []\n",
    "\n",
    "# iterating through different threshold levels\n",
    "for thr in tqdm.tqdm(np.arange(0, 0.35, 0.001)):\n",
    "    # calculating number of topics with probability > threshold for each document\n",
    "    tmp_df = pd.DataFrame(list(map(lambda x: len(list(filter(lambda y: y >= thr, x))), topic_distr))).rename(\n",
    "        columns = {0: 'num_topics'}\n",
    "    )\n",
    "    tmp_df['num_docs'] = 1\n",
    "    \n",
    "    tmp_df['num_topics_group'] = tmp_df['num_topics']\\\n",
    "        .map(lambda x: str(x) if x < 5 else '5+')\n",
    "    \n",
    "    # aggregating stats\n",
    "    tmp_df_aggr = tmp_df.groupby('num_topics_group', as_index = False).num_docs.sum()\n",
    "    tmp_df_aggr['threshold'] = thr\n",
    "    \n",
    "    tmp_dfs.append(tmp_df_aggr)\n",
    "\n",
    "num_topics_stats_df = pd.concat(tmp_dfs).pivot(index = 'threshold', \n",
    "                              values = 'num_docs',\n",
    "                              columns = 'num_topics_group').fillna(0)\n",
    "\n",
    "num_topics_stats_df = num_topics_stats_df.apply(lambda x: 100.*x/num_topics_stats_df.sum(axis = 1))"
   ]
  },
  {
   "cell_type": "markdown",
   "metadata": {},
   "source": [
    "### Iterative Threshold Testing\n",
    "In this approach, multiple thresholds are tested to understand how the distribution of topics changes across documents. This allows for:\n",
    "\n",
    "- **Proportion Analysis:** Examining the number of topics assigned to documents at various confidence levels.\n",
    "- **Outlier Reduction:** Identifying a threshold that minimizes the number of documents classified as outliers (no assigned topics).\n",
    "- **Avoiding Overlap:** Ensuring that documents are not assigned an excessive number of topics, which could dilute interpretability."
   ]
  },
  {
   "cell_type": "code",
   "execution_count": 20,
   "metadata": {},
   "outputs": [
    {
     "data": {
      "application/vnd.plotly.v1+json": {
       "config": {
        "plotlyServerURL": "https://plot.ly"
       },
       "data": [
        {
         "fillpattern": {
          "shape": ""
         },
         "hovertemplate": "number of topics=0<br>threshold=%{x}<br>share of reviews, %=%{y}<extra></extra>",
         "legendgroup": "0",
         "line": {
          "color": "rgb(255,255,217)"
         },
         "marker": {
          "symbol": "circle"
         },
         "mode": "lines",
         "name": "0",
         "orientation": "v",
         "showlegend": true,
         "stackgroup": "1",
         "type": "scatter",
         "x": {
          "bdata": "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",
          "dtype": "f8"
         },
         "xaxis": "x",
         "y": {
          "bdata": "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",
          "dtype": "f8"
         },
         "yaxis": "y"
        },
        {
         "fillpattern": {
          "shape": ""
         },
         "hovertemplate": "number of topics=1<br>threshold=%{x}<br>share of reviews, %=%{y}<extra></extra>",
         "legendgroup": "1",
         "line": {
          "color": "rgb(127,205,187)"
         },
         "marker": {
          "symbol": "circle"
         },
         "mode": "lines",
         "name": "1",
         "orientation": "v",
         "showlegend": true,
         "stackgroup": "1",
         "type": "scatter",
         "x": {
          "bdata": "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",
          "dtype": "f8"
         },
         "xaxis": "x",
         "y": {
          "bdata": "AAAAAAAAAADaPlE9aGRAQNo+UT1oZEBA2j5RPWhkQEDaPlE9aGRAQNo+UT1oZEBA2j5RPWhkQEDaPlE9aGRAQNo+UT1oZEBA2j5RPWhkQEDaPlE9aGRAQNo+UT1oZEBA2j5RPWhkQEDaPlE9aGRAQNo+UT1oZEBA2j5RPWhkQEDaPlE9aGRAQNo+UT1oZEBA2j5RPWhkQEDaPlE9aGRAQNo+UT1oZEBA2j5RPWhkQEDaPlE9aGRAQNo+UT1oZEBA2j5RPWhkQEDaPlE9aGRAQNo+UT1oZEBA2j5RPWhkQEDaPlE9aGRAQPtE9aCRd0BA+0T1oJF3QED7RPWgkXdAQPtE9aCRd0BA+0T1oJF3QED7RPWgkXdAQPtE9aCRd0BA+0T1oJF3QED7RPWgkXdAQPtE9aCRd0BA+0T1oJF3QED7RPWgkXdAQPtE9aCRd0BAHUuZBLuKQEAdS5kEu4pAQB1LmQS7ikBAHUuZBLuKQEAdS5kEu4pAQB1LmQS7ikBAHUuZBLuKQEAdS5kEu4pAQB1LmQS7ikBAHUuZBLuKQEA/UT1o5J1AQD9RPWjknUBAP1E9aOSdQEA/UT1o5J1AQD9RPWjknUBAP1E9aOSdQEA/UT1o5J1AQD9RPWjknUBAP1E9aOSdQEA/UT1o5J1AQD9RPWjknUBAYVfhyw2xQEBhV+HLDbFAQGFX4csNsUBAgl2FLzfEQECCXYUvN8RAQKRjKZNg10BAxmnN9onqQEDGac32iepAQMZpzfaJ6kBAxmnN9onqQEDnb3Fas/1AQOdvcVqz/UBA529xWrP9QEAJdhW+3BBBQCt8uSEGJEFAK3y5IQYkQUArfLkhBiRBQCt8uSEGJEFAK3y5IQYkQUArfLkhBiRBQCt8uSEGJEFATYJdhS83QUBNgl2FLzdBQG6IAelYSkFAbogB6VhKQUDUmu0T1YNBQPWgkXf+lkFAF6c12yeqQUAXpzXbJ6pBQBenNdsnqkFAF6c12yeqQUAXpzXbJ6pBQBenNdsnqkFAF6c12yeqQUAXpzXbJ6pBQBenNdsnqkFAF6c12yeqQUAXpzXbJ6pBQBenNdsnqkFAF6c12yeqQUAXpzXbJ6pBQBenNdsnqkFAF6c12yeqQUAXpzXbJ6pBQBenNdsnqkFAOa3ZPlG9QUA5rdk+Ub1BQDmt2T5RvUFAOa3ZPlG9QUBas32ietBBQFqzfaJ60EFAfLkhBqTjQUB8uSEGpONBQHy5IQak40FAfLkhBqTjQUB8uSEGpONBQJ6/xWnN9kFAnr/Fac32QUCev8VpzfZBQJ6/xWnN9kFAwMVpzfYJQkDhyw0xIB1CQAPSsZRJMEJAA9KxlEkwQkAl2FX4ckNCQCXYVfhyQ0JAJdhV+HJDQkAl2FX4ckNCQCXYVfhyQ0JAJdhV+HJDQkAl2FX4ckNCQCXYVfhyQ0JAaOSdv8VpQkBo5J2/xWlCQGjknb/FaUJAiupBI+98QkCK6kEj73xCQKzw5YYYkEJA7/wtTmu2QkDv/C1Oa7ZCQBED0rGUyUJAVA8aeefvQkB2Fb7cEANDQLkhBqRjKUNA2yeqB408Q0DbJ6oHjTxDQP0tTmu2T0NA/S1Oa7ZPQ0D9LU5rtk9DQB808s7fYkNAQDqWMgl2Q0DHUibBrsJDQOlYyiTY1UNAC19uiAHpQ0ALX26IAelDQE5rtk9UD0RAknf+Fqc1REDVg0be+VtEQDqWMgl2lURAOpYyCXaVREBcnNZsn6hEQH6ietDIu0RAwa7ClxviREAFuwpfbghFQAW7Cl9uCEVABbsKX24IRUBIx1ImwS5FQGrN9onqQUVASMdSJsEuRUBqzfaJ6kFFQK3ZPlE9aEVAEuwqfLmhRUA08s7f4rRFQFb4ckMMyEVAVvhyQwzIRUCZBLsKX+5FQJkEuwpf7kVAmQS7Cl/uRUC7Cl9uiAFGQP4WpzXbJ0ZAIB1LmQQ7RkCFLzfEgHRGQLVm+0T1IEdAtWb7RPUgR0C1ZvtE9SBHQLVm+0T1IEdA12yfqB40R0AaeedvcVpHQOSdv8VpzUdABqRjKZPgR0AGpGMpk+BHQAakYymT4EdABqRjKZPgR0BKsKvw5QZIQGu2T1QPGkhAjbzztzgtSEDyzt/itGZIQPLO3+K0ZkhANtsnqgeNSEBX4csNMaBIQL3ztzit2UhAIgakYykTSUBDDEjHUiZJQGUS7Cp8OUlAZRLsKnw5SUCHGJCOpUxJQKkeNPLOX0lADjEgHUuZSUAwN8SAdKxJQDA3xIB0rElAMDfEgHSsSUBRPWjknb9JQFE9aOSdv0lAUT1o5J2/SUAOMSAdS5lJQA4xIB1LmUlA7Cp8uSGGSUAOMSAdS5lJQHNDDEjH0klAUT1o5J2/SUCVSbCr8OVJQNhV+HJDDEpA2FX4ckMMSkBfbogB6VhKQIF0LGUSbEpAonrQyDt/SkCietDIO39KQMSAdCxlkkpAxIB0LGWSSkDEgHQsZZJKQMSAdCxlkkpA5oYYkI6lSkBLmQS7Ct9KQNKxlEmwK0tA0rGUSbArS0A3xIB0LGVLQDfEgHQsZUtAWcok2FV4S0Cc1myfqJ5LQL7cEAPSsUtAnNZsn6ieS0AC6VjKJNhLQCPv/C1O60tAiAHpWMokTEDuE9WDRl5MQHUsZRLsqkxA2j5RPWjkTEDaPlE9aORMQIJdhS83RE1ApGMpk2BXTUArfLkhBqRNQCt8uSEGpE1AkI6lTILdTUD1oJF3/hZOQPWgkXf+Fk5AWrN9onpQTkB8uSEGpGNOQHy5IQakY05AwMVpzfaJTkCs8OWGGBBPQO/8LU5rNk9AEQPSsZRJT0Dv/C1OazZPQO/8LU5rNk9AMwl2Fb5cT0BUDxp5529PQDMJdhW+XE9AMwl2Fb5cT0BUDxp5529PQFQPGnnnb09AmBtiQDqWT0CYG2JAOpZPQNsnqgeNvE9A2yeqB428T0BCI+/8LQ5QQEIj7/wtDlBAQiPv/C0OUEB1LGUS7CpQQIUvN8SANFBApzXbJ6pHUEC4OK3ZPlFQQMk7f4vTWlBADEjHUiaBUEAuTmu2T5RQQFBUDxp5p1BAUFQPGnmnUEBhV+HLDbFQQHFas32iulBAk2BX4cvNUECTYFfhy81QQKRjKZNg11BAgl2FLzfEUECCXYUvN8RQQIJdhS83xFBAYVfhyw2xUEBhV+HLDbFQQIJdhS83xFBAk2BX4cvNUECTYFfhy81QQLVm+0T14FBAxmnN9onqUEDGac32iepQQNdsn6ge9FBA12yfqB70UEDXbJ+oHvRQQNdsn6ge9FBA529xWrP9UEAJdhW+3BBRQAl2Fb7cEFFACXYVvtwQUUArfLkhBiRRQDx/i9OaLVFAK3y5IQYkUUA8f4vTmi1RQF6FLzfEQFFAbogB6VhKUUCQjqVMgl1RQKGRd/4WZ1FAoZF3/hZnUUCylEmwq3BRQJCOpUyCXVFAspRJsKtwUUDDlxtiQHpRQOSdv8VpjVFA5J2/xWmNUUDknb/FaY1RQAakYymToFFAF6c12yeqUUAXpzXbJ6pRQBenNdsnqlFAF6c12yeqUUAoqgeNvLNRQBenNdsnqlFAKKoHjbyzUUA5rdk+Ub1RQDmt2T5RvVFAa7ZPVA/aUUBrtk9UD9pRQEqwq/DlxlFAOa3ZPlG9UUBKsKvw5cZRQEqwq/DlxlFAOa3ZPlG9UUAoqgeNvLNRQPWgkXf+llFA5J2/xWmNUUDUmu0T1YNRQA==",
          "dtype": "f8"
         },
         "yaxis": "y"
        },
        {
         "fillpattern": {
          "shape": ""
         },
         "hovertemplate": "number of topics=2<br>threshold=%{x}<br>share of reviews, %=%{y}<extra></extra>",
         "legendgroup": "2",
         "line": {
          "color": "rgb(65,182,196)"
         },
         "marker": {
          "symbol": "circle"
         },
         "mode": "lines",
         "name": "2",
         "orientation": "v",
         "showlegend": true,
         "stackgroup": "1",
         "type": "scatter",
         "x": {
          "bdata": "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",
          "dtype": "f8"
         },
         "xaxis": "x",
         "y": {
          "bdata": "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",
          "dtype": "f8"
         },
         "yaxis": "y"
        },
        {
         "fillpattern": {
          "shape": ""
         },
         "hovertemplate": "number of topics=3<br>threshold=%{x}<br>share of reviews, %=%{y}<extra></extra>",
         "legendgroup": "3",
         "line": {
          "color": "rgb(29,145,192)"
         },
         "marker": {
          "symbol": "circle"
         },
         "mode": "lines",
         "name": "3",
         "orientation": "v",
         "showlegend": true,
         "stackgroup": "1",
         "type": "scatter",
         "x": {
          "bdata": "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",
          "dtype": "f8"
         },
         "xaxis": "x",
         "y": {
          "bdata": "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",
          "dtype": "f8"
         },
         "yaxis": "y"
        },
        {
         "fillpattern": {
          "shape": ""
         },
         "hovertemplate": "number of topics=4<br>threshold=%{x}<br>share of reviews, %=%{y}<extra></extra>",
         "legendgroup": "4",
         "line": {
          "color": "rgb(34,94,168)"
         },
         "marker": {
          "symbol": "circle"
         },
         "mode": "lines",
         "name": "4",
         "orientation": "v",
         "showlegend": true,
         "stackgroup": "1",
         "type": "scatter",
         "x": {
          "bdata": "AAAAAAAAAAD8qfHSTWJQP/yp8dJNYmA/+n5qvHSTaD/8qfHSTWJwP3sUrkfhenQ/+n5qvHSTeD956SYxCKx8P/yp8dJNYoA/PN9PjZdugj97FK5H4XqEP7pJDAIrh4Y/+n5qvHSTiD86tMh2vp+KP3npJjEIrIw/uB6F61G4jj/8qfHSTWKQP5zEILByaJE/PN9PjZdukj/b+X5qvHSTP3sUrkfhepQ/Gy/dJAaBlT+6SQwCK4eWP1pkO99PjZc/+n5qvHSTmD+amZmZmZmZPzq0yHa+n5o/2c73U+Olmz956SYxCKycPxkEVg4tsp0/uB6F61G4nj9YObTIdr6fP/yp8dJNYqA/TDeJQWDloD+cxCCwcmihP+xRuB6F66E/PN9PjZduoj+LbOf7qfGiP9v5fmq8dKM/K4cW2c73oz97FK5H4XqkP8uhRbbz/aQ/Gy/dJAaBpT9rvHSTGASmP7pJDAIrh6Y/CtejcD0Kpz9aZDvfT42nP6rx0k1iEKg/+n5qvHSTqD9KDAIrhxapP5qZmZmZmak/6iYxCKwcqj86tMh2vp+qP4lBYOXQIqs/2c73U+Olqz8pXI/C9SisP3npJjEIrKw/yXa+nxovrT8ZBFYOLbKtP2mR7Xw/Na4/uB6F61G4rj8IrBxaZDuvP1g5tMh2vq8/VOOlm8QgsD/8qfHSTWKwP6RwPQrXo7A/TDeJQWDlsD/0/dR46SaxP5zEILByaLE/RIts5/upsT/sUbgeheuxP5QYBFYOLbI/PN9PjZdusj/jpZvEILCyP4ts5/up8bI/MzMzMzMzsz/b+X5qvHSzP4PAyqFFtrM/K4cW2c73sz/TTWIQWDm0P3sUrkfherQ/I9v5fmq8tD/LoUW28/20P3Noke18P7U/Gy/dJAaBtT/D9Shcj8K1P2u8dJMYBLY/E4PAyqFFtj+6SQwCK4e2P2IQWDm0yLY/CtejcD0Ktz+yne+nxku3P1pkO99Pjbc/AiuHFtnOtz+q8dJNYhC4P1K4HoXrUbg/+n5qvHSTuD+iRbbz/dS4P0oMAiuHFrk/8tJNYhBYuT+amZmZmZm5P0Jg5dAi27k/6iYxCKwcuj+S7Xw/NV66Pzq0yHa+n7o/4XoUrkfhuj+JQWDl0CK7PzEIrBxaZLs/2c73U+Oluz+BlUOLbOe7Pylcj8L1KLw/0SLb+X5qvD956SYxCKy8PyGwcmiR7bw/yXa+nxovvT9xPQrXo3C9PxkEVg4tsr0/wcqhRbbzvT9pke18PzW+PxFYObTIdr4/uB6F61G4vj9g5dAi2/m+PwisHFpkO78/sHJoke18vz9YObTIdr6/PwAAAAAAAMA/VOOlm8QgwD+oxks3iUHAP/yp8dJNYsA/UI2XbhKDwD+kcD0K16PAP/hT46WbxMA/TDeJQWDlwD+gGi/dJAbBP/T91HjpJsE/SOF6FK5HwT+cxCCwcmjBP/Cnxks3icE/RIts5/upwT+YbhKDwMrBP+xRuB6F68E/QDVeukkMwj+UGARWDi3CP+j7qfHSTcI/PN9PjZduwj+PwvUoXI/CP+Olm8QgsMI/N4lBYOXQwj+LbOf7qfHCP99PjZduEsM/MzMzMzMzwz+HFtnO91PDP9v5fmq8dMM/L90kBoGVwz+DwMqhRbbDP9ejcD0K18M/K4cW2c73wz9/arx0kxjEP9NNYhBYOcQ/JzEIrBxaxD97FK5H4XrEP8/3U+Olm8Q/I9v5fmq8xD93vp8aL93EP8uhRbbz/cQ/H4XrUbgexT9zaJHtfD/FP8dLN4lBYMU/Gy/dJAaBxT9vEoPAyqHFP8P1KFyPwsU/F9nO91PjxT9rvHSTGATGP7+fGi/dJMY/E4PAyqFFxj9nZmZmZmbGP7pJDAIrh8Y/Di2yne+nxj9iEFg5tMjGP7bz/dR46cY/CtejcD0Kxz9eukkMAivHP7Kd76fGS8c/BoGVQ4tsxz9aZDvfT43HP65H4XoUrsc/AiuHFtnOxz9WDi2yne/HP6rx0k1iEMg//tR46SYxyD9SuB6F61HIP6abxCCwcsg/+n5qvHSTyD9OYhBYObTIP6JFtvP91Mg/9ihcj8L1yD9KDAIrhxbJP57vp8ZLN8k/8tJNYhBYyT9GtvP91HjJP5qZmZmZmck/7nw/NV66yT9CYOXQItvJP5ZDi2zn+8k/6iYxCKwcyj8+CtejcD3KP5LtfD81Xso/5tAi2/l+yj86tMh2vp/KP42XbhKDwMo/4XoUrkfhyj81XrpJDALLP4lBYOXQIss/3SQGgZVDyz8xCKwcWmTLP4XrUbgehcs/2c73U+Olyz8tsp3vp8bLP4GVQ4ts58s/1XjpJjEIzD8pXI/C9SjMP30/NV66Scw/0SLb+X5qzD8lBoGVQ4vMP3npJjEIrMw/zczMzMzMzD8hsHJoke3MP3WTGARWDs0/yXa+nxovzT8dWmQ730/NP3E9CtejcM0/xSCwcmiRzT8ZBFYOLbLNP23n+6nx0s0/wcqhRbbzzT8VrkfhehTOP2mR7Xw/Nc4/vXSTGARWzj8RWDm0yHbOP2U730+Nl84/uB6F61G4zj8MAiuHFtnOP2Dl0CLb+c4/tMh2vp8azz8IrBxaZDvPP1yPwvUoXM8/sHJoke18zz8EVg4tsp3PP1g5tMh2vs8/rBxaZDvfzz8AAAAAAADQP6rx0k1iENA/VOOlm8Qg0D/+1HjpJjHQP6jGSzeJQdA/UrgehetR0D/8qfHSTWLQP6abxCCwctA/UI2XbhKD0D/6fmq8dJPQP6RwPQrXo9A/TmIQWDm00D/4U+Olm8TQP6JFtvP91NA/TDeJQWDl0D/2KFyPwvXQP6AaL90kBtE/SgwCK4cW0T/0/dR46SbRP57vp8ZLN9E/SOF6FK5H0T/y0k1iEFjRP5zEILByaNE/Rrbz/dR40T/wp8ZLN4nRP5qZmZmZmdE/RIts5/up0T/ufD81XrrRP5huEoPAytE/QmDl0CLb0T/sUbgehevRP5ZDi2zn+9E/QDVeukkM0j/qJjEIrBzSP5QYBFYOLdI/PgrXo3A90j/o+6nx0k3SP5LtfD81XtI/PN9PjZdu0j/l0CLb+X7SP4/C9Shcj9I/ObTIdr6f0j/jpZvEILDSP42XbhKDwNI/N4lBYOXQ0j/hehSuR+HSP4ts5/up8dI/NV66SQwC0z/fT42XbhLTP4lBYOXQItM/MzMzMzMz0z/dJAaBlUPTP4cW2c73U9M/MQisHFpk0z/b+X5qvHTTP4XrUbgehdM/L90kBoGV0z/ZzvdT46XTP4PAyqFFttM/LbKd76fG0z/Xo3A9CtfTP4GVQ4ts59M/K4cW2c730z/VeOkmMQjUP39qvHSTGNQ/KVyPwvUo1D/TTWIQWDnUP30/NV66SdQ/JzEIrBxa1D/RItv5fmrUP3sUrkfhetQ/JQaBlUOL1D/P91PjpZvUP3npJjEIrNQ/I9v5fmq81D/NzMzMzMzUP3e+nxov3dQ/IbByaJHt1D/LoUW28/3UP3WTGARWDtU/H4XrUbge1T/Jdr6fGi/VP3Noke18P9U/HVpkO99P1T/HSzeJQWDVP3E9CtejcNU/Gy/dJAaB1T/FILByaJHVP28Sg8DKodU/GQRWDi2y1T/D9Shcj8LVP23n+6nx0tU/F9nO91Pj1T/ByqFFtvPVP2u8dJMYBNY/Fa5H4XoU1j+/nxov3STWP2mR7Xw/NdY/E4PAyqFF1j+9dJMYBFbWPw==",
          "dtype": "f8"
         },
         "xaxis": "x",
         "y": {
          "bdata": "AAAAAAAAAACQjqVMgl0hQJCOpUyCXSFAkI6lTIJdIUCQjqVMgl0hQJCOpUyCXSFAkI6lTIJdIUCQjqVMgl0hQJCOpUyCXSFAkI6lTIJdIUCQjqVMgl0hQJCOpUyCXSFAkI6lTIJdIUCQjqVMgl0hQJCOpUyCXSFAkI6lTIJdIUCQjqVMgl0hQJCOpUyCXSFAkI6lTIJdIUCQjqVMgl0hQJCOpUyCXSFAF6c12yeqIUCev8VpzfYhQKzw5YYYkCJArPDlhhiQIkCs8OWGGJAiQDMJdhW+3CJAuSEGpGMpI0C5IQakYykjQKzw5YYYkCJArPDlhhiQIkAzCXYVvtwiQKzw5YYYkCJAJdhV+HJDIkAl2FX4ckMiQCXYVfhyQyJArPDlhhiQIkAzCXYVvtwiQMdSJsGuwiNAx1Imwa7CI0BOa7ZPVA8kQNWDRt75WyRATmu2T1QPJEBOa7ZPVA8kQE5rtk9UDyRA1YNG3vlbJEBOa7ZPVA8kQNWDRt75WyRAx1Imwa7CI0BAOpYyCXYjQKzw5YYYkCJArPDlhhiQIkAzCXYVvtwiQLkhBqRjKSNAuSEGpGMpI0C5IQakYykjQEA6ljIJdiNAx1Imwa7CI0DVg0be+VskQOO0ZvtE9SRA8eWGGJCOJUBqzfaJ6kElQPHlhhiQjiVAas32iepBJUDx5YYYkI4lQP4WpzXbJyZAeP4WpzXbJUBqzfaJ6kElQHj+Fqc12yVA8eWGGJCOJUDx5YYYkI4lQHj+Fqc12yVADEjHUibBJkCFLzfEgHQmQJNgV+HLDSdAhS83xIB0JkB4/hanNdslQHj+Fqc12yVA8eWGGJCOJUBqzfaJ6kElQNWDRt75WyRAXJzWbJ+oJEDVg0be+VskQMdSJsGuwiNAQDqWMgl2I0BAOpYyCXYjQLkhBqRjKSNAuSEGpGMpI0Cs8OWGGJAiQDMJdhW+3CJAuSEGpGMpI0C5IQakYykjQLkhBqRjKSNAuSEGpGMpI0AzCXYVvtwiQKzw5YYYkCJArPDlhhiQIkAl2FX4ckMiQKzw5YYYkCJAJdhV+HJDIkAl2FX4ckMiQJ6/xWnN9iFAnr/Fac32IUAl2FX4ckMiQBenNdsnqiFAnr/Fac32IUAXpzXbJ6ohQJCOpUyCXSFAF6c12yeqIUAJdhW+3BAhQIJdhS83xCBACXYVvtwQIUC5IQakYykjQLkhBqRjKSNAuSEGpGMpI0Cs8OWGGJAiQKzw5YYYkCJAF6c12yeqIUAXpzXbJ6ohQLKUSbCr8B1ApGMpk2BXHUB70Mg7f4sbQG2fqB408hpAX26IAelYGkA22yeqB40YQDbbJ6oHjRhAGnnnb3FaF0BRPWjknb8ZQFE9aOSdvxlAQwxIx1ImGUAoqgeNvPMXQCiqB4288xdAKKoHjbzzF0AaeedvcVoXQOO0ZvtE9RRA1YNG3vlbFEC5IQakYykTQLkhBqRjKRNArPDlhhiQEkCev8VpzfYRQJCOpUyCXRFAkI6lTIJdEUCylEmwq/ANQLKUSbCr8A1AspRJsKvwDUCWMgl2Fb4MQJYyCXYVvgxAljIJdhW+DECylEmwq/ANQJYyCXYVvgxAljIJdhW+DECylEmwq/ANQJYyCXYVvgxAe9DIO3+LC0B70Mg7f4sLQF9uiAHpWApAX26IAelYCkAoqgeNvPMHQCiqB4288wdA8eWGGJCOBUC5IQakYykDQIJdhS83xABAzfaJ6kEj/z9fbogB6Vj6P5YyCXYVvvw/ljIJdhW+/D9fbogB6Vj6P19uiAHpWPo/8eWGGJCO9T/x5YYYkI71P/HlhhiQjvU/8eWGGJCO9T+5IQakYynzP7khBqRjKfM/gl2FLzfE8D+CXYUvN8TwP4JdhS83xPA/gl2FLzfE8D+CXYUvN8TwP4JdhS83xPA/KKoHjbzz5z+5IQakYynjP5YyCXYVvtw/uSEGpGMp0z+5IQakYynTP7khBqRjKdM/uSEGpGMp0z+5IQakYynTP7khBqRjKdM/uSEGpGMp0z+5IQakYynDP7khBqRjKcM/uSEGpGMpwz+5IQakYynDP7khBqRjKcM/uSEGpGMpwz+5IQakYynDP7khBqRjKcM/uSEGpGMpwz+5IQakYynDP7khBqRjKcM/uSEGpGMpwz+5IQakYynDPwAAAAAAAAAAAAAAAAAAAAAAAAAAAAAAAAAAAAAAAAAAAAAAAAAAAAAAAAAAAAAAAAAAAAAAAAAAAAAAAAAAAAAAAAAAAAAAAAAAAAAAAAAAAAAAAAAAAAAAAAAAAAAAAAAAAAAAAAAAAAAAAAAAAAAAAAAAAAAAAAAAAAAAAAAAAAAAAAAAAAAAAAAAAAAAAAAAAAAAAAAAAAAAAAAAAAAAAAAAAAAAAAAAAAAAAAAAAAAAAAAAAAAAAAAAAAAAAAAAAAAAAAAAAAAAAAAAAAAAAAAAAAAAAAAAAAAAAAAAAAAAAAAAAAAAAAAAAAAAAAAAAAAAAAAAAAAAAAAAAAAAAAAAAAAAAAAAAAAAAAAAAAAAAAAAAAAAAAAAAAAAAAAAAAAAAAAAAAAAAAAAAAAAAAAAAAAAAAAAAAAAAAAAAAAAAAAAAAAAAAAAAAAAAAAAAAAAAAAAAAAAAAAAAAAAAAAAAAAAAAAAAAAAAAAAAAAAAAAAAAAAAAAAAAAAAAAAAAAAAAAAAAAAAAAAAAAAAAAAAAAAAAAAAAAAAAAAAAAAAAAAAAAAAAAAAAAAAAAAAAAAAAAAAAAAAAAAAAAAAAAAAAAAAAAAAAAAAAAAAAAAAAAAAAAAAAAAAAAAAAAAAAAAAAAAAAAAAAAAAAAAAAAAAAAAAAAAAAAAAAAAAAAAAAAAAAAAAAAAAAAAAAAAAAAAAAAAAAAAAAAAAAAAAAAAAAAAAAAAAAAAAAAAAAAAAAAAAAAAAAAAAAAAAAAAAAAAAAAAAAAAAAAAAAAAAAAAAAAAAAAAAAAAAAAAAAAAAAAAAAAAAAAAAAAAAAAAAAAAAAAAAAAAAAAAAAAAAAAAAAAAAAAAAAAAAAAAAAAAAAAAAAAAAAAAAAAAAAAAAAAAAAAAAAAAAAAAAAAAAAAAAAAAAAAAAAAAAAAAAAAAAAAAAAAAAAAAAAAAAAAAAAAAAAAAAAAAAAAAAAAAAAAAAAAAAAAAAAAAAAAAAAAAAAAAAAAAAAAAAAAAAAAAAAAAAAAAAAAAAAAAAAAAAAAAAAAAAAAAAAAAAAAAAAAAAAAAAAAAAAAAAAAAAAAAAAAAAAAAAAAAAAAAAAAAAAAAAAAAAAAAAAAAAAAAAAAAAAAAAAAAAAAAAAAAAAAAAAAAAAAAAAAAAAAAAAAAAAAAAAAAAAAAAAAAAAAAAAAAAAAAAAAAAAAAAAAAAAAAAAAAAAAAAAAAAAAAAAAAAAAAAAAAAAAAAAAAAAAAAAAAAAAAAAAAAAAAAAAAAAAAAAAAAAAAAAAAAAAAAAAAAAAAAAAAAAAAAAAAAAAAAAAAAAAAAAAAAAAAAAAAAAAAAAAAAAAAAAAAAAAAAAAAAAAAAAAAAAAAAAAAAAAAAAAAAAAAAAAAAAAAAAAAAAAAAAAAAAAAAAAAAAAAAAAAAAAAAAAAAAAAAAAAAAAAAAAAAAAAAAAAAAAAAAAAAAAAAAAAAAAAAAAAAAAAAAAAAAAAAAAAAAAAAAAAAAAAAAAAAAAAAAAAAAAAAAAAAAAAAAAAAAAAAAAAAAAAAAAAAAAAAAAAAA==",
          "dtype": "f8"
         },
         "yaxis": "y"
        },
        {
         "fillpattern": {
          "shape": ""
         },
         "hovertemplate": "number of topics=5+<br>threshold=%{x}<br>share of reviews, %=%{y}<extra></extra>",
         "legendgroup": "5+",
         "line": {
          "color": "rgb(37,52,148)"
         },
         "marker": {
          "symbol": "circle"
         },
         "mode": "lines",
         "name": "5+",
         "orientation": "v",
         "showlegend": true,
         "stackgroup": "1",
         "type": "scatter",
         "x": {
          "bdata": "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",
          "dtype": "f8"
         },
         "xaxis": "x",
         "y": {
          "bdata": "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",
          "dtype": "f8"
         },
         "yaxis": "y"
        }
       ],
       "layout": {
        "legend": {
         "title": {
          "text": "number of topics"
         },
         "tracegroupgap": 0
        },
        "template": {
         "data": {
          "bar": [
           {
            "error_x": {
             "color": "#2a3f5f"
            },
            "error_y": {
             "color": "#2a3f5f"
            },
            "marker": {
             "line": {
              "color": "#E5ECF6",
              "width": 0.5
             },
             "pattern": {
              "fillmode": "overlay",
              "size": 10,
              "solidity": 0.2
             }
            },
            "type": "bar"
           }
          ],
          "barpolar": [
           {
            "marker": {
             "line": {
              "color": "#E5ECF6",
              "width": 0.5
             },
             "pattern": {
              "fillmode": "overlay",
              "size": 10,
              "solidity": 0.2
             }
            },
            "type": "barpolar"
           }
          ],
          "carpet": [
           {
            "aaxis": {
             "endlinecolor": "#2a3f5f",
             "gridcolor": "white",
             "linecolor": "white",
             "minorgridcolor": "white",
             "startlinecolor": "#2a3f5f"
            },
            "baxis": {
             "endlinecolor": "#2a3f5f",
             "gridcolor": "white",
             "linecolor": "white",
             "minorgridcolor": "white",
             "startlinecolor": "#2a3f5f"
            },
            "type": "carpet"
           }
          ],
          "choropleth": [
           {
            "colorbar": {
             "outlinewidth": 0,
             "ticks": ""
            },
            "type": "choropleth"
           }
          ],
          "contour": [
           {
            "colorbar": {
             "outlinewidth": 0,
             "ticks": ""
            },
            "colorscale": [
             [
              0,
              "#0d0887"
             ],
             [
              0.1111111111111111,
              "#46039f"
             ],
             [
              0.2222222222222222,
              "#7201a8"
             ],
             [
              0.3333333333333333,
              "#9c179e"
             ],
             [
              0.4444444444444444,
              "#bd3786"
             ],
             [
              0.5555555555555556,
              "#d8576b"
             ],
             [
              0.6666666666666666,
              "#ed7953"
             ],
             [
              0.7777777777777778,
              "#fb9f3a"
             ],
             [
              0.8888888888888888,
              "#fdca26"
             ],
             [
              1,
              "#f0f921"
             ]
            ],
            "type": "contour"
           }
          ],
          "contourcarpet": [
           {
            "colorbar": {
             "outlinewidth": 0,
             "ticks": ""
            },
            "type": "contourcarpet"
           }
          ],
          "heatmap": [
           {
            "colorbar": {
             "outlinewidth": 0,
             "ticks": ""
            },
            "colorscale": [
             [
              0,
              "#0d0887"
             ],
             [
              0.1111111111111111,
              "#46039f"
             ],
             [
              0.2222222222222222,
              "#7201a8"
             ],
             [
              0.3333333333333333,
              "#9c179e"
             ],
             [
              0.4444444444444444,
              "#bd3786"
             ],
             [
              0.5555555555555556,
              "#d8576b"
             ],
             [
              0.6666666666666666,
              "#ed7953"
             ],
             [
              0.7777777777777778,
              "#fb9f3a"
             ],
             [
              0.8888888888888888,
              "#fdca26"
             ],
             [
              1,
              "#f0f921"
             ]
            ],
            "type": "heatmap"
           }
          ],
          "histogram": [
           {
            "marker": {
             "pattern": {
              "fillmode": "overlay",
              "size": 10,
              "solidity": 0.2
             }
            },
            "type": "histogram"
           }
          ],
          "histogram2d": [
           {
            "colorbar": {
             "outlinewidth": 0,
             "ticks": ""
            },
            "colorscale": [
             [
              0,
              "#0d0887"
             ],
             [
              0.1111111111111111,
              "#46039f"
             ],
             [
              0.2222222222222222,
              "#7201a8"
             ],
             [
              0.3333333333333333,
              "#9c179e"
             ],
             [
              0.4444444444444444,
              "#bd3786"
             ],
             [
              0.5555555555555556,
              "#d8576b"
             ],
             [
              0.6666666666666666,
              "#ed7953"
             ],
             [
              0.7777777777777778,
              "#fb9f3a"
             ],
             [
              0.8888888888888888,
              "#fdca26"
             ],
             [
              1,
              "#f0f921"
             ]
            ],
            "type": "histogram2d"
           }
          ],
          "histogram2dcontour": [
           {
            "colorbar": {
             "outlinewidth": 0,
             "ticks": ""
            },
            "colorscale": [
             [
              0,
              "#0d0887"
             ],
             [
              0.1111111111111111,
              "#46039f"
             ],
             [
              0.2222222222222222,
              "#7201a8"
             ],
             [
              0.3333333333333333,
              "#9c179e"
             ],
             [
              0.4444444444444444,
              "#bd3786"
             ],
             [
              0.5555555555555556,
              "#d8576b"
             ],
             [
              0.6666666666666666,
              "#ed7953"
             ],
             [
              0.7777777777777778,
              "#fb9f3a"
             ],
             [
              0.8888888888888888,
              "#fdca26"
             ],
             [
              1,
              "#f0f921"
             ]
            ],
            "type": "histogram2dcontour"
           }
          ],
          "mesh3d": [
           {
            "colorbar": {
             "outlinewidth": 0,
             "ticks": ""
            },
            "type": "mesh3d"
           }
          ],
          "parcoords": [
           {
            "line": {
             "colorbar": {
              "outlinewidth": 0,
              "ticks": ""
             }
            },
            "type": "parcoords"
           }
          ],
          "pie": [
           {
            "automargin": true,
            "type": "pie"
           }
          ],
          "scatter": [
           {
            "fillpattern": {
             "fillmode": "overlay",
             "size": 10,
             "solidity": 0.2
            },
            "type": "scatter"
           }
          ],
          "scatter3d": [
           {
            "line": {
             "colorbar": {
              "outlinewidth": 0,
              "ticks": ""
             }
            },
            "marker": {
             "colorbar": {
              "outlinewidth": 0,
              "ticks": ""
             }
            },
            "type": "scatter3d"
           }
          ],
          "scattercarpet": [
           {
            "marker": {
             "colorbar": {
              "outlinewidth": 0,
              "ticks": ""
             }
            },
            "type": "scattercarpet"
           }
          ],
          "scattergeo": [
           {
            "marker": {
             "colorbar": {
              "outlinewidth": 0,
              "ticks": ""
             }
            },
            "type": "scattergeo"
           }
          ],
          "scattergl": [
           {
            "marker": {
             "colorbar": {
              "outlinewidth": 0,
              "ticks": ""
             }
            },
            "type": "scattergl"
           }
          ],
          "scattermap": [
           {
            "marker": {
             "colorbar": {
              "outlinewidth": 0,
              "ticks": ""
             }
            },
            "type": "scattermap"
           }
          ],
          "scattermapbox": [
           {
            "marker": {
             "colorbar": {
              "outlinewidth": 0,
              "ticks": ""
             }
            },
            "type": "scattermapbox"
           }
          ],
          "scatterpolar": [
           {
            "marker": {
             "colorbar": {
              "outlinewidth": 0,
              "ticks": ""
             }
            },
            "type": "scatterpolar"
           }
          ],
          "scatterpolargl": [
           {
            "marker": {
             "colorbar": {
              "outlinewidth": 0,
              "ticks": ""
             }
            },
            "type": "scatterpolargl"
           }
          ],
          "scatterternary": [
           {
            "marker": {
             "colorbar": {
              "outlinewidth": 0,
              "ticks": ""
             }
            },
            "type": "scatterternary"
           }
          ],
          "surface": [
           {
            "colorbar": {
             "outlinewidth": 0,
             "ticks": ""
            },
            "colorscale": [
             [
              0,
              "#0d0887"
             ],
             [
              0.1111111111111111,
              "#46039f"
             ],
             [
              0.2222222222222222,
              "#7201a8"
             ],
             [
              0.3333333333333333,
              "#9c179e"
             ],
             [
              0.4444444444444444,
              "#bd3786"
             ],
             [
              0.5555555555555556,
              "#d8576b"
             ],
             [
              0.6666666666666666,
              "#ed7953"
             ],
             [
              0.7777777777777778,
              "#fb9f3a"
             ],
             [
              0.8888888888888888,
              "#fdca26"
             ],
             [
              1,
              "#f0f921"
             ]
            ],
            "type": "surface"
           }
          ],
          "table": [
           {
            "cells": {
             "fill": {
              "color": "#EBF0F8"
             },
             "line": {
              "color": "white"
             }
            },
            "header": {
             "fill": {
              "color": "#C8D4E3"
             },
             "line": {
              "color": "white"
             }
            },
            "type": "table"
           }
          ]
         },
         "layout": {
          "annotationdefaults": {
           "arrowcolor": "#2a3f5f",
           "arrowhead": 0,
           "arrowwidth": 1
          },
          "autotypenumbers": "strict",
          "coloraxis": {
           "colorbar": {
            "outlinewidth": 0,
            "ticks": ""
           }
          },
          "colorscale": {
           "diverging": [
            [
             0,
             "#8e0152"
            ],
            [
             0.1,
             "#c51b7d"
            ],
            [
             0.2,
             "#de77ae"
            ],
            [
             0.3,
             "#f1b6da"
            ],
            [
             0.4,
             "#fde0ef"
            ],
            [
             0.5,
             "#f7f7f7"
            ],
            [
             0.6,
             "#e6f5d0"
            ],
            [
             0.7,
             "#b8e186"
            ],
            [
             0.8,
             "#7fbc41"
            ],
            [
             0.9,
             "#4d9221"
            ],
            [
             1,
             "#276419"
            ]
           ],
           "sequential": [
            [
             0,
             "#0d0887"
            ],
            [
             0.1111111111111111,
             "#46039f"
            ],
            [
             0.2222222222222222,
             "#7201a8"
            ],
            [
             0.3333333333333333,
             "#9c179e"
            ],
            [
             0.4444444444444444,
             "#bd3786"
            ],
            [
             0.5555555555555556,
             "#d8576b"
            ],
            [
             0.6666666666666666,
             "#ed7953"
            ],
            [
             0.7777777777777778,
             "#fb9f3a"
            ],
            [
             0.8888888888888888,
             "#fdca26"
            ],
            [
             1,
             "#f0f921"
            ]
           ],
           "sequentialminus": [
            [
             0,
             "#0d0887"
            ],
            [
             0.1111111111111111,
             "#46039f"
            ],
            [
             0.2222222222222222,
             "#7201a8"
            ],
            [
             0.3333333333333333,
             "#9c179e"
            ],
            [
             0.4444444444444444,
             "#bd3786"
            ],
            [
             0.5555555555555556,
             "#d8576b"
            ],
            [
             0.6666666666666666,
             "#ed7953"
            ],
            [
             0.7777777777777778,
             "#fb9f3a"
            ],
            [
             0.8888888888888888,
             "#fdca26"
            ],
            [
             1,
             "#f0f921"
            ]
           ]
          },
          "colorway": [
           "#636efa",
           "#EF553B",
           "#00cc96",
           "#ab63fa",
           "#FFA15A",
           "#19d3f3",
           "#FF6692",
           "#B6E880",
           "#FF97FF",
           "#FECB52"
          ],
          "font": {
           "color": "#2a3f5f"
          },
          "geo": {
           "bgcolor": "white",
           "lakecolor": "white",
           "landcolor": "#E5ECF6",
           "showlakes": true,
           "showland": true,
           "subunitcolor": "white"
          },
          "hoverlabel": {
           "align": "left"
          },
          "hovermode": "closest",
          "mapbox": {
           "style": "light"
          },
          "paper_bgcolor": "white",
          "plot_bgcolor": "#E5ECF6",
          "polar": {
           "angularaxis": {
            "gridcolor": "white",
            "linecolor": "white",
            "ticks": ""
           },
           "bgcolor": "#E5ECF6",
           "radialaxis": {
            "gridcolor": "white",
            "linecolor": "white",
            "ticks": ""
           }
          },
          "scene": {
           "xaxis": {
            "backgroundcolor": "#E5ECF6",
            "gridcolor": "white",
            "gridwidth": 2,
            "linecolor": "white",
            "showbackground": true,
            "ticks": "",
            "zerolinecolor": "white"
           },
           "yaxis": {
            "backgroundcolor": "#E5ECF6",
            "gridcolor": "white",
            "gridwidth": 2,
            "linecolor": "white",
            "showbackground": true,
            "ticks": "",
            "zerolinecolor": "white"
           },
           "zaxis": {
            "backgroundcolor": "#E5ECF6",
            "gridcolor": "white",
            "gridwidth": 2,
            "linecolor": "white",
            "showbackground": true,
            "ticks": "",
            "zerolinecolor": "white"
           }
          },
          "shapedefaults": {
           "line": {
            "color": "#2a3f5f"
           }
          },
          "ternary": {
           "aaxis": {
            "gridcolor": "white",
            "linecolor": "white",
            "ticks": ""
           },
           "baxis": {
            "gridcolor": "white",
            "linecolor": "white",
            "ticks": ""
           },
           "bgcolor": "#E5ECF6",
           "caxis": {
            "gridcolor": "white",
            "linecolor": "white",
            "ticks": ""
           }
          },
          "title": {
           "x": 0.05
          },
          "xaxis": {
           "automargin": true,
           "gridcolor": "white",
           "linecolor": "white",
           "ticks": "",
           "title": {
            "standoff": 15
           },
           "zerolinecolor": "white",
           "zerolinewidth": 2
          },
          "yaxis": {
           "automargin": true,
           "gridcolor": "white",
           "linecolor": "white",
           "ticks": "",
           "title": {
            "standoff": 15
           },
           "zerolinecolor": "white",
           "zerolinewidth": 2
          }
         }
        },
        "title": {
         "text": "Distribution of number of topics"
        },
        "xaxis": {
         "anchor": "y",
         "domain": [
          0,
          1
         ],
         "title": {
          "text": "threshold"
         }
        },
        "yaxis": {
         "anchor": "x",
         "domain": [
          0,
          1
         ],
         "title": {
          "text": "share of reviews, %"
         }
        }
       }
      }
     },
     "metadata": {},
     "output_type": "display_data"
    }
   ],
   "source": [
    "colormap = px.colors.sequential.YlGnBu\n",
    "px.area(num_topics_stats_df, \n",
    "       title = 'Distribution of number of topics',\n",
    "       labels = {'num_topics_group': 'number of topics',\n",
    "                'value': 'share of reviews, %'},\n",
    "       color_discrete_map = {\n",
    "          '0': colormap[0],\n",
    "          '1': colormap[3],\n",
    "          '2': colormap[4],\n",
    "          '3': colormap[5],\n",
    "          '4': colormap[6],\n",
    "          '5+': colormap[7]\n",
    "      })"
   ]
  },
  {
   "cell_type": "markdown",
   "metadata": {},
   "source": [
    "**Recomendation:** Select a threshold that minimizes outliers while avoiding excessive topic overlap for most documents."
   ]
  },
  {
   "cell_type": "code",
   "execution_count": 21,
   "metadata": {},
   "outputs": [],
   "source": [
    "threshold = 0.25\n",
    "\n",
    "# Define topic with probability > threshold for each document\n",
    "df['multiple_topics'] = list(map(\n",
    "    lambda doc_topic_distr: list(map(\n",
    "        lambda y: y[0], filter(lambda x: x[1] >= threshold, \n",
    "                               (enumerate(doc_topic_distr)))\n",
    "    )), topic_distr\n",
    "))\n",
    "            \n",
    "df[\"multiple_topics_name\"] = df[\"multiple_topics\"].map(lambda x: [topic_name_to_id.get(i, \"No topic\") for i in x])"
   ]
  },
  {
   "cell_type": "markdown",
   "metadata": {},
   "source": [
    "**The assigned topics for each document are saved**  \n",
    "\n",
    "Enabling further analysis, performed in the [Analysis Topics notebook](analysis_topics.ipynb)."
   ]
  },
  {
   "cell_type": "code",
   "execution_count": 22,
   "metadata": {},
   "outputs": [
    {
     "data": {
      "text/html": [
       "<div>\n",
       "<style scoped>\n",
       "    .dataframe tbody tr th:only-of-type {\n",
       "        vertical-align: middle;\n",
       "    }\n",
       "\n",
       "    .dataframe tbody tr th {\n",
       "        vertical-align: top;\n",
       "    }\n",
       "\n",
       "    .dataframe thead th {\n",
       "        text-align: right;\n",
       "    }\n",
       "</style>\n",
       "<table border=\"1\" class=\"dataframe\">\n",
       "  <thead>\n",
       "    <tr style=\"text-align: right;\">\n",
       "      <th></th>\n",
       "      <th>File Name</th>\n",
       "      <th>turn_index</th>\n",
       "      <th>Content</th>\n",
       "      <th>preprocessed_content</th>\n",
       "      <th>Experiment</th>\n",
       "      <th>Condition</th>\n",
       "      <th>Id</th>\n",
       "      <th>Speaker</th>\n",
       "      <th>Index</th>\n",
       "      <th>one_topic</th>\n",
       "      <th>one_topic_name</th>\n",
       "      <th>multiple_topics</th>\n",
       "      <th>multiple_topics_name</th>\n",
       "    </tr>\n",
       "  </thead>\n",
       "  <tbody>\n",
       "    <tr>\n",
       "      <th>0</th>\n",
       "      <td>ID 05</td>\n",
       "      <td>1</td>\n",
       "      <td>So, that was very, let's say, unexpected and s...</td>\n",
       "      <td>let unexpected surprising moment realize disco...</td>\n",
       "      <td>OBE1</td>\n",
       "      <td>1</td>\n",
       "      <td>5</td>\n",
       "      <td>Participant</td>\n",
       "      <td>0</td>\n",
       "      <td>3</td>\n",
       "      <td>3_reality_body_different_yourself</td>\n",
       "      <td>[3]</td>\n",
       "      <td>[3_reality_body_different_yourself]</td>\n",
       "    </tr>\n",
       "    <tr>\n",
       "      <th>1</th>\n",
       "      <td>ID 05</td>\n",
       "      <td>3</td>\n",
       "      <td>It was a little bit like, okay, well, so it's ...</td>\n",
       "      <td>watch outside special lot emotion explain moment</td>\n",
       "      <td>OBE1</td>\n",
       "      <td>1</td>\n",
       "      <td>5</td>\n",
       "      <td>Participant</td>\n",
       "      <td>1</td>\n",
       "      <td>-1</td>\n",
       "      <td>-1_myself_look_body_real</td>\n",
       "      <td>[3, 17]</td>\n",
       "      <td>[3_reality_body_different_yourself, 17_room_ce...</td>\n",
       "    </tr>\n",
       "    <tr>\n",
       "      <th>2</th>\n",
       "      <td>ID 05</td>\n",
       "      <td>5</td>\n",
       "      <td>So I'm not sure I've got all the perfect descr...</td>\n",
       "      <td>perfect description</td>\n",
       "      <td>OBE1</td>\n",
       "      <td>1</td>\n",
       "      <td>5</td>\n",
       "      <td>Participant</td>\n",
       "      <td>2</td>\n",
       "      <td>0</td>\n",
       "      <td>0_interesting_easy_nice_fine</td>\n",
       "      <td>[0]</td>\n",
       "      <td>[0_interesting_easy_nice_fine]</td>\n",
       "    </tr>\n",
       "    <tr>\n",
       "      <th>3</th>\n",
       "      <td>ID 05</td>\n",
       "      <td>7</td>\n",
       "      <td>The thing that I didn't really understand, but...</td>\n",
       "      <td>understand understand body touching basically ...</td>\n",
       "      <td>OBE1</td>\n",
       "      <td>1</td>\n",
       "      <td>5</td>\n",
       "      <td>Participant</td>\n",
       "      <td>3</td>\n",
       "      <td>6</td>\n",
       "      <td>6_touch_delay_scene_image</td>\n",
       "      <td>[0, 6]</td>\n",
       "      <td>[0_interesting_easy_nice_fine, 6_touch_delay_s...</td>\n",
       "    </tr>\n",
       "    <tr>\n",
       "      <th>4</th>\n",
       "      <td>ID 05</td>\n",
       "      <td>9</td>\n",
       "      <td>So I felt like a time lag in the last one of w...</td>\n",
       "      <td>lag body</td>\n",
       "      <td>OBE1</td>\n",
       "      <td>1</td>\n",
       "      <td>5</td>\n",
       "      <td>Participant</td>\n",
       "      <td>4</td>\n",
       "      <td>4</td>\n",
       "      <td>4_body_heavy_light_come</td>\n",
       "      <td>[4]</td>\n",
       "      <td>[4_body_heavy_light_come]</td>\n",
       "    </tr>\n",
       "  </tbody>\n",
       "</table>\n",
       "</div>"
      ],
      "text/plain": [
       "  File Name  turn_index                                            Content  \\\n",
       "0     ID 05           1  So, that was very, let's say, unexpected and s...   \n",
       "1     ID 05           3  It was a little bit like, okay, well, so it's ...   \n",
       "2     ID 05           5  So I'm not sure I've got all the perfect descr...   \n",
       "3     ID 05           7  The thing that I didn't really understand, but...   \n",
       "4     ID 05           9  So I felt like a time lag in the last one of w...   \n",
       "\n",
       "                                preprocessed_content Experiment Condition  Id  \\\n",
       "0  let unexpected surprising moment realize disco...       OBE1         1   5   \n",
       "1   watch outside special lot emotion explain moment       OBE1         1   5   \n",
       "2                                perfect description       OBE1         1   5   \n",
       "3  understand understand body touching basically ...       OBE1         1   5   \n",
       "4                                           lag body       OBE1         1   5   \n",
       "\n",
       "       Speaker  Index  one_topic                     one_topic_name  \\\n",
       "0  Participant      0          3  3_reality_body_different_yourself   \n",
       "1  Participant      1         -1           -1_myself_look_body_real   \n",
       "2  Participant      2          0       0_interesting_easy_nice_fine   \n",
       "3  Participant      3          6          6_touch_delay_scene_image   \n",
       "4  Participant      4          4            4_body_heavy_light_come   \n",
       "\n",
       "  multiple_topics                               multiple_topics_name  \n",
       "0             [3]                [3_reality_body_different_yourself]  \n",
       "1         [3, 17]  [3_reality_body_different_yourself, 17_room_ce...  \n",
       "2             [0]                     [0_interesting_easy_nice_fine]  \n",
       "3          [0, 6]  [0_interesting_easy_nice_fine, 6_touch_delay_s...  \n",
       "4             [4]                          [4_body_heavy_light_come]  "
      ]
     },
     "execution_count": 22,
     "metadata": {},
     "output_type": "execute_result"
    }
   ],
   "source": [
    "df.to_csv(\"outputs/topics/df_topic.csv\", index = False)\n",
    "df.head()"
   ]
  }
 ],
 "metadata": {
  "kernelspec": {
   "display_name": "tti",
   "language": "python",
   "name": "python3"
  },
  "language_info": {
   "codemirror_mode": {
    "name": "ipython",
    "version": 3
   },
   "file_extension": ".py",
   "mimetype": "text/x-python",
   "name": "python",
   "nbconvert_exporter": "python",
   "pygments_lexer": "ipython3",
   "version": "3.10.16"
  }
 },
 "nbformat": 4,
 "nbformat_minor": 2
}
