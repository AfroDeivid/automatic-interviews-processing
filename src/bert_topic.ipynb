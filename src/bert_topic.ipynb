{
 "cells": [
  {
   "cell_type": "markdown",
   "metadata": {},
   "source": [
    "# Topic Modeling with BERTopic\n",
    "This notebook explores topic modeling using the *BERTopic* library on conversational data, such as interview transcripts. The workflow is tailored to handle challenges inherent to conversational datasets, like shifting contexts and overlapping themes, ensuring meaningful and coherent topic extraction.\n",
    "\n",
    "The process includes:\n",
    "\n",
    "- **Document Preparation:** Preprocessing and segmenting transcripts to optimize context preservation.\n",
    "- **Topic Modeling Pipeline:** Combining embedding generation, dimensionality reduction, clustering, and topic representation for flexible and efficient topic extraction.\n",
    "- **Topic Assignment:** Exploring multiple topic assignments per document to reduce noise and improve analytical accuracy."
   ]
  },
  {
   "cell_type": "code",
   "execution_count": 24,
   "metadata": {},
   "outputs": [
    {
     "name": "stdout",
     "output_type": "stream",
     "text": [
      "The autoreload extension is already loaded. To reload it, use:\n",
      "  %reload_ext autoreload\n"
     ]
    }
   ],
   "source": [
    "%load_ext autoreload\n",
    "%autoreload 2"
   ]
  },
  {
   "cell_type": "code",
   "execution_count": 25,
   "metadata": {},
   "outputs": [],
   "source": [
    "from utils.analysis_helpers import *\n",
    "from bertopic import BERTopic"
   ]
  },
  {
   "cell_type": "markdown",
   "metadata": {},
   "source": [
    "# Defining and preprocessing Documents for Topic Modeling\n",
    "\n",
    "In this section, we focus on defining and preparing the dataset for topic modeling. Conversational data, such as interviews, requires specific preprocessing and representation strategies to ensure meaningful and coherent results. The main steps include:\n",
    "\n",
    "- Loading and filtering the dataset.\n",
    "- Preprocessing the text to clean and standardize the content.\n",
    "- Splitting the data into turns to preserve the local context.\n",
    "- Preparing the text for embedding generation and topic modeling."
   ]
  },
  {
   "cell_type": "code",
   "execution_count": 26,
   "metadata": {},
   "outputs": [
    {
     "name": "stdout",
     "output_type": "stream",
     "text": [
      "Unique conditions before filtering: ['1' 'C' 'I' '0']\n",
      "Number of interviews before filtering: 82\n",
      "Unique conditions after filtering: ['1' 'C' 'I']\n",
      "Number of interviews (File Name) after filtering: 75\n"
     ]
    }
   ],
   "source": [
    "df_all = pd.read_csv(\"../Dataset/meditation_interviews/transcripts_merged.csv\")\n",
    "\n",
    "print(f\"Unique conditions before filtering: {df_all['Condition'].unique()}\")\n",
    "print(f\"Number of interviews before filtering: {df_all['File Name'].nunique()}\")\n",
    "# *0*: No \"real\" interview (e.g., setup phase, small talk). We filter these out.\n",
    "df_all = df_all[df_all[\"Condition\"] != '0']\n",
    "print(f\"Unique conditions after filtering: {df_all['Condition'].unique()}\")\n",
    "print(f\"Number of interviews (File Name) after filtering: {df_all['File Name'].nunique()}\")"
   ]
  },
  {
   "cell_type": "markdown",
   "metadata": {},
   "source": [
    "## Preprocessing the Data\n",
    "\n",
    "- **Speaker and Experiment Filtering**  \n",
    "The dataset can be filtered to focus on specific speakers (Participants or Interviewers) and experiments.\n",
    "\n",
    "- **Text Cleaning Steps**\n",
    "    - **Lowercasing:** Text was converted to lowercase.\n",
    "    - **Lemmatization:** Words were reduced to their base forms.\n",
    "    - **Stop-word Removal:** Both generic and custom stop words were removed to produce meaningful topic.\n",
    "\n",
    "Rows with empty or non-informative content after preprocessing are removed to ensure high-quality input for modeling."
   ]
  },
  {
   "cell_type": "code",
   "execution_count": 27,
   "metadata": {},
   "outputs": [],
   "source": [
    "df = df_all.copy()\n",
    "# Focus only on the participant's or interviewer's speech or both\n",
    "df = df[df[\"Speaker\"] == \"Participant\"] #Interviewer\n",
    "\n",
    "# Focus only on some set of experiment\n",
    "#df = df[df[\"Experiment\"] != \"Compassion\"]\n",
    "\n",
    "# Preprocess the content\n",
    "extra_stopwords = [\n",
    "    # Filler Words: Common conversational placeholders without thematic value\n",
    "    \"yeah\", \"okay\", \"yes\", \"mean\", \"oh\", \"ah\", \"like\", \"kind\",\"kinda\", \"course\", \"way\",\n",
    "    # Vague/Ambiguous Words: Frequent but thematically irrelevant in conversations\n",
    "    \"think\", \"know\", \"really\", \"bit\", \"feel\", \"thing\", \"sort\", \"maybe\", \"little\", \"actually\",\n",
    "    \"sure\", \"exactly\", \"tell\", \"ask\", \"people\", \"think\",\n",
    "    # Broad terms or context-specific words overshadowing subtler themes\n",
    "    \"question\", \"sorry\", \"time\", \"first\", \"second\", \"later\", \"experience\", \"end\", \"meditation\"\n",
    "]\n",
    "df['preprocessed_content'] = df['Content'].apply(lambda x: preprocess_text(x, extra_stopwords=extra_stopwords, retain_stopwords=[\"yourself\", \"myself\"]))\n",
    "\n",
    "# Remove rows with empty content or content that's only punctuation after preprocessing\n",
    "df = df[df['preprocessed_content'].str.strip().str.len() > 0]"
   ]
  },
  {
   "cell_type": "markdown",
   "metadata": {},
   "source": [
    "## Splitting Data into Turns\n",
    "To address the challenges of conversational data, the text is split into *turns*:\n",
    "\n",
    "- A *turn* represents one speaker's uninterrupted speech until another speaker begins.\n",
    "- This approach preserves local context and avoids blending contributions from multiple speakers."
   ]
  },
  {
   "cell_type": "code",
   "execution_count": 28,
   "metadata": {},
   "outputs": [
    {
     "data": {
      "text/html": [
       "<div>\n",
       "<style scoped>\n",
       "    .dataframe tbody tr th:only-of-type {\n",
       "        vertical-align: middle;\n",
       "    }\n",
       "\n",
       "    .dataframe tbody tr th {\n",
       "        vertical-align: top;\n",
       "    }\n",
       "\n",
       "    .dataframe thead th {\n",
       "        text-align: right;\n",
       "    }\n",
       "</style>\n",
       "<table border=\"1\" class=\"dataframe\">\n",
       "  <thead>\n",
       "    <tr style=\"text-align: right;\">\n",
       "      <th></th>\n",
       "      <th>File Name</th>\n",
       "      <th>turn_index</th>\n",
       "      <th>Content</th>\n",
       "      <th>preprocessed_content</th>\n",
       "      <th>Experiment</th>\n",
       "      <th>Condition</th>\n",
       "      <th>Id</th>\n",
       "      <th>Speaker</th>\n",
       "    </tr>\n",
       "  </thead>\n",
       "  <tbody>\n",
       "    <tr>\n",
       "      <th>0</th>\n",
       "      <td>ID 05</td>\n",
       "      <td>1</td>\n",
       "      <td>So, that was very, let's say, unexpected and s...</td>\n",
       "      <td>let unexpected surprising moment realize disco...</td>\n",
       "      <td>OBE1</td>\n",
       "      <td>1</td>\n",
       "      <td>5</td>\n",
       "      <td>Participant</td>\n",
       "    </tr>\n",
       "    <tr>\n",
       "      <th>1</th>\n",
       "      <td>ID 05</td>\n",
       "      <td>3</td>\n",
       "      <td>It was a little bit like, okay, well, so it's ...</td>\n",
       "      <td>watch outside special lot emotion explain moment</td>\n",
       "      <td>OBE1</td>\n",
       "      <td>1</td>\n",
       "      <td>5</td>\n",
       "      <td>Participant</td>\n",
       "    </tr>\n",
       "  </tbody>\n",
       "</table>\n",
       "</div>"
      ],
      "text/plain": [
       "  File Name  turn_index                                            Content  \\\n",
       "0     ID 05           1  So, that was very, let's say, unexpected and s...   \n",
       "1     ID 05           3  It was a little bit like, okay, well, so it's ...   \n",
       "\n",
       "                                preprocessed_content Experiment Condition  Id  \\\n",
       "0  let unexpected surprising moment realize disco...       OBE1         1   5   \n",
       "1   watch outside special lot emotion explain moment       OBE1         1   5   \n",
       "\n",
       "       Speaker  \n",
       "0  Participant  \n",
       "1  Participant  "
      ]
     },
     "execution_count": 28,
     "metadata": {},
     "output_type": "execute_result"
    }
   ],
   "source": [
    "# Split the text into turns by interview (File Name)\n",
    "df = df.groupby(['File Name','turn_index']).agg({ \n",
    "    'Content': ' '.join,  # Combine raw text\n",
    "    'preprocessed_content': ' '.join,  # Combine preprocessed text\n",
    "    'Experiment': 'first',\n",
    "    'Condition': 'first', \n",
    "    'Id': 'first',  \n",
    "    'Speaker': 'first',   \n",
    "}).reset_index()\n",
    "df.head(2)"
   ]
  },
  {
   "cell_type": "markdown",
   "metadata": {},
   "source": [
    "The preprocessed text is converted into documents for embedding generation. The choice of document representation significantly impacts the quality and coherence of the topics generated:\n",
    "\n",
    "- **Preprocessed Content:** Cleaned and standardized text, which is ideal for improving topic coherence and ensuring embeddings capture meaningful content.  \n",
    "    - *Conversational datasets:* often involve shifting topics, filler words, and inconsistent sentence structures. For smaller datasets, preprocessing **before embedding generation** can yield better results by reducing noise and improving focus on meaningful terms.\n",
    "\n",
    "- **Original Content:** Raw, unprocessed text, retaining the original language structure. This is useful for preserving context but can produce noisier results, especially for **smaller** datasets &/or **conversational** data.  \n",
    "    - *Standard Approach:* Preprocessing (e.g., stop-word removal, lemmatization) is typically performed **after embeddings are generated** to preserve the raw context during vectorization. This ensures embeddings reflect the text's full semantic structure before clustering.\n",
    "\n",
    "I recommend testing both strategies with your dataset to determine which approach works best for your specific case. For this project, preprocessing **before embeddings** provided better results, as supported by the literature and testing."
   ]
  },
  {
   "cell_type": "code",
   "execution_count": 29,
   "metadata": {},
   "outputs": [
    {
     "name": "stdout",
     "output_type": "stream",
     "text": [
      "668\n"
     ]
    }
   ],
   "source": [
    "df[\"Index\"] = df.index\n",
    "docs = list(df.preprocessed_content)\n",
    "#docs = list(df.Content)\n",
    "print(len(docs))"
   ]
  },
  {
   "cell_type": "markdown",
   "metadata": {},
   "source": [
    "# Defining the Topic Modeling Pipeline\n",
    "This section outlines the pipeline for topic modeling, which includes embedding generation, dimensionality reduction, clustering, topic representation, and visualization. The pipeline is designed to efficiently process the dataset while allowing flexibility for fine-tuning the quality and number of topics.\n",
    "\n",
    "- **Embedding Model:** We use ``all-mpnet-base-v2`` from SentenceTransformers for generating high-quality embeddings. Alternatives use ``all-MiniLM-L6-v2`` for faster processing but slightly lower accuracy.\n",
    "- **Dimensionality Reduction:** UMAP reduces the high-dimensional embedding space to a lower-dimensional space to enhance clustering performance.\n",
    "- **Clustering:** HDBSCAN is used for clustering embeddings. It dynamically determines the number of clusters (topics) and identifies outliers.\n",
    "    - The parameter ``min_cluster_size`` controls the minimum number of documents per topic, allowing to fine-tuning the numbers of topics generated, especially critical for smaller datasets.\n",
    "- **Topic Representation and Vectorization (Optional):** When working with raw, unprocessed text, additional steps can refine topic quality and reduce noise."
   ]
  },
  {
   "cell_type": "code",
   "execution_count": 30,
   "metadata": {},
   "outputs": [
    {
     "data": {
      "application/vnd.jupyter.widget-view+json": {
       "model_id": "477dcc049414447bae008d1335ac5230",
       "version_major": 2,
       "version_minor": 0
      },
      "text/plain": [
       "Batches:   0%|          | 0/21 [00:00<?, ?it/s]"
      ]
     },
     "metadata": {},
     "output_type": "display_data"
    }
   ],
   "source": [
    "from sentence_transformers import SentenceTransformer\n",
    "\n",
    "# Pre-calculate embeddings\n",
    "embedding_model = SentenceTransformer(\"all-mpnet-base-v2\") # Better but slower: all-mpnet-base-v2 || Trade-off: all-MiniLM-L6-v2\n",
    "embeddings = embedding_model.encode(docs, show_progress_bar=True)"
   ]
  },
  {
   "cell_type": "code",
   "execution_count": 31,
   "metadata": {},
   "outputs": [],
   "source": [
    "# Fine-tune the numbers of topics generated\n",
    "# By increasing this value you reduce the number of topics\n",
    "# Adapt by respect the total number of documents (in our case number of turns)\n",
    "min_cluster_size = 8"
   ]
  },
  {
   "cell_type": "code",
   "execution_count": 32,
   "metadata": {},
   "outputs": [],
   "source": [
    "from umap import UMAP\n",
    "from hdbscan import HDBSCAN\n",
    "\n",
    "# Dimensionality reduction model\n",
    "umap_model = UMAP(n_neighbors=15, n_components=8, min_dist=0.0, metric='cosine', random_state=42)\n",
    "\n",
    "# Clustering model\n",
    "hdbscan_model = HDBSCAN(min_cluster_size=min_cluster_size, metric='euclidean', cluster_selection_method='eom')\n",
    "\n",
    "# Optional: Topic representation for raw content\n",
    "#from bertopic.representation import KeyBERTInspired, MaximalMarginalRelevance\n",
    "#representation_model = [KeyBERTInspired(), MaximalMarginalRelevance(diversity=.5)]\n",
    "\n",
    "# Optional: Vectorizer model for raw content\n",
    "#from sklearn.feature_extraction.text import CountVectorizer\n",
    "#stops_words = preprocess_text(\"sample\", return_stopwords=True, extra_stopwords=extra_stopwords, retain_stopwords=[\"yourself\", \"myself\"])\n",
    "#vectorizer_model = CountVectorizer(stop_words=stops_words)\n",
    "\n",
    "topic_model = BERTopic(                     \n",
    "embedding_model=embedding_model,  # Embedding generation\n",
    "umap_model=umap_model,            # Dimensionality reduction\n",
    "hdbscan_model=hdbscan_model,      # Clustering\n",
    "#vectorizer_model=vectorizer_model,\n",
    "#representation_model=representation_model,\n",
    "verbose=True)"
   ]
  },
  {
   "cell_type": "code",
   "execution_count": 33,
   "metadata": {},
   "outputs": [
    {
     "name": "stderr",
     "output_type": "stream",
     "text": [
      "2025-01-25 20:05:38,071 - BERTopic - Dimensionality - Fitting the dimensionality reduction algorithm\n",
      "2025-01-25 20:05:39,835 - BERTopic - Dimensionality - Completed ✓\n",
      "2025-01-25 20:05:39,838 - BERTopic - Cluster - Start clustering the reduced embeddings\n",
      "2025-01-25 20:05:39,907 - BERTopic - Cluster - Completed ✓\n",
      "2025-01-25 20:05:39,917 - BERTopic - Representation - Extracting topics from clusters using representation models.\n",
      "2025-01-25 20:05:39,975 - BERTopic - Representation - Completed ✓\n"
     ]
    },
    {
     "data": {
      "text/plain": [
       "20"
      ]
     },
     "execution_count": 33,
     "metadata": {},
     "output_type": "execute_result"
    }
   ],
   "source": [
    "topics, ini_probs = topic_model.fit_transform(docs, embeddings=embeddings)\n",
    "num_topics = len(topic_model.get_topics()) \n",
    "num_topics"
   ]
  },
  {
   "cell_type": "code",
   "execution_count": 34,
   "metadata": {},
   "outputs": [
    {
     "data": {
      "text/html": [
       "<div>\n",
       "<style scoped>\n",
       "    .dataframe tbody tr th:only-of-type {\n",
       "        vertical-align: middle;\n",
       "    }\n",
       "\n",
       "    .dataframe tbody tr th {\n",
       "        vertical-align: top;\n",
       "    }\n",
       "\n",
       "    .dataframe thead th {\n",
       "        text-align: right;\n",
       "    }\n",
       "</style>\n",
       "<table border=\"1\" class=\"dataframe\">\n",
       "  <thead>\n",
       "    <tr style=\"text-align: right;\">\n",
       "      <th></th>\n",
       "      <th>Topic</th>\n",
       "      <th>Count</th>\n",
       "      <th>Name</th>\n",
       "      <th>Representation</th>\n",
       "      <th>Representative_Docs</th>\n",
       "    </tr>\n",
       "  </thead>\n",
       "  <tbody>\n",
       "    <tr>\n",
       "      <th>0</th>\n",
       "      <td>-1</td>\n",
       "      <td>206</td>\n",
       "      <td>-1_myself_look_body_real</td>\n",
       "      <td>[myself, look, body, real, point, different, f...</td>\n",
       "      <td>[calm relax big natural comfortable environmen...</td>\n",
       "    </tr>\n",
       "    <tr>\n",
       "      <th>1</th>\n",
       "      <td>0</td>\n",
       "      <td>47</td>\n",
       "      <td>0_interesting_easy_nice_fine</td>\n",
       "      <td>[interesting, easy, nice, fine, fun, absolutel...</td>\n",
       "      <td>[interesting, easy nice, nice interesting]</td>\n",
       "    </tr>\n",
       "    <tr>\n",
       "      <th>2</th>\n",
       "      <td>1</td>\n",
       "      <td>46</td>\n",
       "      <td>1_focus_leg_eye_distract</td>\n",
       "      <td>[focus, leg, eye, distract, try, easy, concent...</td>\n",
       "      <td>[focus myself focus instruction eye closed hea...</td>\n",
       "    </tr>\n",
       "    <tr>\n",
       "      <th>3</th>\n",
       "      <td>2</td>\n",
       "      <td>46</td>\n",
       "      <td>2_relax_fall_sleep_asleep</td>\n",
       "      <td>[relax, fall, sleep, asleep, calm, relaxed, sl...</td>\n",
       "      <td>[calm want sleep, relaxed afraid fall sleep go...</td>\n",
       "    </tr>\n",
       "    <tr>\n",
       "      <th>4</th>\n",
       "      <td>3</td>\n",
       "      <td>44</td>\n",
       "      <td>3_reality_body_different_yourself</td>\n",
       "      <td>[reality, body, different, yourself, room, out...</td>\n",
       "      <td>[understand differently today want life illusi...</td>\n",
       "    </tr>\n",
       "    <tr>\n",
       "      <th>5</th>\n",
       "      <td>4</td>\n",
       "      <td>37</td>\n",
       "      <td>4_body_heavy_light_come</td>\n",
       "      <td>[body, heavy, light, come, half, phrase, outsi...</td>\n",
       "      <td>[body, body, body]</td>\n",
       "    </tr>\n",
       "    <tr>\n",
       "      <th>6</th>\n",
       "      <td>5</td>\n",
       "      <td>29</td>\n",
       "      <td>5_color_yellow_normal_difference</td>\n",
       "      <td>[color, yellow, normal, difference, change, di...</td>\n",
       "      <td>[yellow color blue color, notice change color,...</td>\n",
       "    </tr>\n",
       "    <tr>\n",
       "      <th>7</th>\n",
       "      <td>6</td>\n",
       "      <td>23</td>\n",
       "      <td>6_touch_delay_scene_image</td>\n",
       "      <td>[touch, delay, scene, image, catch, body, touc...</td>\n",
       "      <td>[touch image touch touch difference touch imag...</td>\n",
       "    </tr>\n",
       "    <tr>\n",
       "      <th>8</th>\n",
       "      <td>7</td>\n",
       "      <td>23</td>\n",
       "      <td>7_virtual_body_vr_myself</td>\n",
       "      <td>[virtual, body, vr, myself, hologram, actual, ...</td>\n",
       "      <td>[virtual body mind virtual body look myself ob...</td>\n",
       "    </tr>\n",
       "    <tr>\n",
       "      <th>9</th>\n",
       "      <td>8</td>\n",
       "      <td>23</td>\n",
       "      <td>8_forest_rock_tree_adventure</td>\n",
       "      <td>[forest, rock, tree, adventure, indonesia, riv...</td>\n",
       "      <td>[nice forest love forest good surprise calm re...</td>\n",
       "    </tr>\n",
       "    <tr>\n",
       "      <th>10</th>\n",
       "      <td>9</td>\n",
       "      <td>22</td>\n",
       "      <td>9_eye_open_close_condition</td>\n",
       "      <td>[eye, open, close, condition, 30, view, easy, ...</td>\n",
       "      <td>[eye close, close close normally close eye ope...</td>\n",
       "    </tr>\n",
       "    <tr>\n",
       "      <th>11</th>\n",
       "      <td>10</td>\n",
       "      <td>22</td>\n",
       "      <td>10_avatar_blink_myself_identify</td>\n",
       "      <td>[avatar, blink, myself, identify, recognize, s...</td>\n",
       "      <td>[refer avatar avatar myself, avatar blink, ava...</td>\n",
       "    </tr>\n",
       "    <tr>\n",
       "      <th>12</th>\n",
       "      <td>11</td>\n",
       "      <td>19</td>\n",
       "      <td>11_strange_weird_funny_creepy</td>\n",
       "      <td>[strange, weird, funny, creepy, accept, unders...</td>\n",
       "      <td>[strange accept strange, strange, strange]</td>\n",
       "    </tr>\n",
       "    <tr>\n",
       "      <th>13</th>\n",
       "      <td>12</td>\n",
       "      <td>15</td>\n",
       "      <td>12_want_mental_good_complicated</td>\n",
       "      <td>[want, mental, good, complicated, urgent, unne...</td>\n",
       "      <td>[good good come mental mental, want want, want]</td>\n",
       "    </tr>\n",
       "    <tr>\n",
       "      <th>14</th>\n",
       "      <td>13</td>\n",
       "      <td>14</td>\n",
       "      <td>13_voice_platform_rock_space</td>\n",
       "      <td>[voice, platform, rock, space, cool, sensation...</td>\n",
       "      <td>[cool voice let thought come body leave though...</td>\n",
       "    </tr>\n",
       "    <tr>\n",
       "      <th>15</th>\n",
       "      <td>14</td>\n",
       "      <td>13</td>\n",
       "      <td>14_notice_change_damn_small</td>\n",
       "      <td>[notice, change, damn, small, pay, check, subt...</td>\n",
       "      <td>[change change small short, notice notice thou...</td>\n",
       "    </tr>\n",
       "    <tr>\n",
       "      <th>16</th>\n",
       "      <td>15</td>\n",
       "      <td>12</td>\n",
       "      <td>15_strange_scary_feeling_look</td>\n",
       "      <td>[strange, scary, feeling, look, fully, discomf...</td>\n",
       "      <td>[strange body different separate lot word feel...</td>\n",
       "    </tr>\n",
       "    <tr>\n",
       "      <th>17</th>\n",
       "      <td>16</td>\n",
       "      <td>10</td>\n",
       "      <td>16_100_10_somewhat_percentage</td>\n",
       "      <td>[100, 10, somewhat, percentage, number, total,...</td>\n",
       "      <td>[help 100 term percentage 75, 100, 100]</td>\n",
       "    </tr>\n",
       "    <tr>\n",
       "      <th>18</th>\n",
       "      <td>17</td>\n",
       "      <td>9</td>\n",
       "      <td>17_room_center_mountain_especially</td>\n",
       "      <td>[room, center, mountain, especially, different...</td>\n",
       "      <td>[center square cube bother, room especially es...</td>\n",
       "    </tr>\n",
       "    <tr>\n",
       "      <th>19</th>\n",
       "      <td>18</td>\n",
       "      <td>8</td>\n",
       "      <td>18_quickly_happen_movement_constantly</td>\n",
       "      <td>[quickly, happen, movement, constantly, asynch...</td>\n",
       "      <td>[surprising use quickly enjoy, let happen quic...</td>\n",
       "    </tr>\n",
       "  </tbody>\n",
       "</table>\n",
       "</div>"
      ],
      "text/plain": [
       "    Topic  Count                                   Name  \\\n",
       "0      -1    206               -1_myself_look_body_real   \n",
       "1       0     47           0_interesting_easy_nice_fine   \n",
       "2       1     46               1_focus_leg_eye_distract   \n",
       "3       2     46              2_relax_fall_sleep_asleep   \n",
       "4       3     44      3_reality_body_different_yourself   \n",
       "5       4     37                4_body_heavy_light_come   \n",
       "6       5     29       5_color_yellow_normal_difference   \n",
       "7       6     23              6_touch_delay_scene_image   \n",
       "8       7     23               7_virtual_body_vr_myself   \n",
       "9       8     23           8_forest_rock_tree_adventure   \n",
       "10      9     22             9_eye_open_close_condition   \n",
       "11     10     22        10_avatar_blink_myself_identify   \n",
       "12     11     19          11_strange_weird_funny_creepy   \n",
       "13     12     15        12_want_mental_good_complicated   \n",
       "14     13     14           13_voice_platform_rock_space   \n",
       "15     14     13            14_notice_change_damn_small   \n",
       "16     15     12          15_strange_scary_feeling_look   \n",
       "17     16     10          16_100_10_somewhat_percentage   \n",
       "18     17      9     17_room_center_mountain_especially   \n",
       "19     18      8  18_quickly_happen_movement_constantly   \n",
       "\n",
       "                                       Representation  \\\n",
       "0   [myself, look, body, real, point, different, f...   \n",
       "1   [interesting, easy, nice, fine, fun, absolutel...   \n",
       "2   [focus, leg, eye, distract, try, easy, concent...   \n",
       "3   [relax, fall, sleep, asleep, calm, relaxed, sl...   \n",
       "4   [reality, body, different, yourself, room, out...   \n",
       "5   [body, heavy, light, come, half, phrase, outsi...   \n",
       "6   [color, yellow, normal, difference, change, di...   \n",
       "7   [touch, delay, scene, image, catch, body, touc...   \n",
       "8   [virtual, body, vr, myself, hologram, actual, ...   \n",
       "9   [forest, rock, tree, adventure, indonesia, riv...   \n",
       "10  [eye, open, close, condition, 30, view, easy, ...   \n",
       "11  [avatar, blink, myself, identify, recognize, s...   \n",
       "12  [strange, weird, funny, creepy, accept, unders...   \n",
       "13  [want, mental, good, complicated, urgent, unne...   \n",
       "14  [voice, platform, rock, space, cool, sensation...   \n",
       "15  [notice, change, damn, small, pay, check, subt...   \n",
       "16  [strange, scary, feeling, look, fully, discomf...   \n",
       "17  [100, 10, somewhat, percentage, number, total,...   \n",
       "18  [room, center, mountain, especially, different...   \n",
       "19  [quickly, happen, movement, constantly, asynch...   \n",
       "\n",
       "                                  Representative_Docs  \n",
       "0   [calm relax big natural comfortable environmen...  \n",
       "1          [interesting, easy nice, nice interesting]  \n",
       "2   [focus myself focus instruction eye closed hea...  \n",
       "3   [calm want sleep, relaxed afraid fall sleep go...  \n",
       "4   [understand differently today want life illusi...  \n",
       "5                                  [body, body, body]  \n",
       "6   [yellow color blue color, notice change color,...  \n",
       "7   [touch image touch touch difference touch imag...  \n",
       "8   [virtual body mind virtual body look myself ob...  \n",
       "9   [nice forest love forest good surprise calm re...  \n",
       "10  [eye close, close close normally close eye ope...  \n",
       "11  [refer avatar avatar myself, avatar blink, ava...  \n",
       "12         [strange accept strange, strange, strange]  \n",
       "13    [good good come mental mental, want want, want]  \n",
       "14  [cool voice let thought come body leave though...  \n",
       "15  [change change small short, notice notice thou...  \n",
       "16  [strange body different separate lot word feel...  \n",
       "17            [help 100 term percentage 75, 100, 100]  \n",
       "18  [center square cube bother, room especially es...  \n",
       "19  [surprising use quickly enjoy, let happen quic...  "
      ]
     },
     "execution_count": 34,
     "metadata": {},
     "output_type": "execute_result"
    }
   ],
   "source": [
    "os.makedirs(\"outputs/topics\", exist_ok=True)\n",
    "topic_model.get_topic_info().to_csv(\"outputs/topics/topic_names_info.csv\",index=False)\n",
    "topic_model.get_topic_info()"
   ]
  },
  {
   "cell_type": "code",
   "execution_count": 35,
   "metadata": {},
   "outputs": [
    {
     "data": {
      "application/vnd.plotly.v1+json": {
       "config": {
        "plotlyServerURL": "https://plot.ly"
       },
       "data": [
        {
         "marker": {
          "color": "#D55E00"
         },
         "orientation": "h",
         "type": "bar",
         "x": [
          0.1806781911325633,
          0.18455576233670096,
          0.2082725616881026,
          0.24654365923513602,
          0.2803821094456347
         ],
         "xaxis": "x",
         "y": [
          "fun  ",
          "fine  ",
          "nice  ",
          "easy  ",
          "interesting  "
         ],
         "yaxis": "y"
        },
        {
         "marker": {
          "color": "#0072B2"
         },
         "orientation": "h",
         "type": "bar",
         "x": [
          0.04157292675703238,
          0.04687644895766779,
          0.05078005756333089,
          0.06054192005578088,
          0.09774183481832728
         ],
         "xaxis": "x2",
         "y": [
          "try  ",
          "distract  ",
          "eye  ",
          "leg  ",
          "focus  "
         ],
         "yaxis": "y2"
        },
        {
         "marker": {
          "color": "#CC79A7"
         },
         "orientation": "h",
         "type": "bar",
         "x": [
          0.13122976992377663,
          0.14014845696813083,
          0.1480893432633952,
          0.1526256943864109,
          0.1565527374140179
         ],
         "xaxis": "x3",
         "y": [
          "calm  ",
          "asleep  ",
          "sleep  ",
          "fall  ",
          "relax  "
         ],
         "yaxis": "y3"
        },
        {
         "marker": {
          "color": "#E69F00"
         },
         "orientation": "h",
         "type": "bar",
         "x": [
          0.023830967354262753,
          0.02447249848062646,
          0.028368008814133625,
          0.030551485238913177,
          0.03603277165088155
         ],
         "xaxis": "x4",
         "y": [
          "room  ",
          "yourself  ",
          "different  ",
          "body  ",
          "reality  "
         ],
         "yaxis": "y4"
        },
        {
         "marker": {
          "color": "#56B4E9"
         },
         "orientation": "h",
         "type": "bar",
         "x": [
          0.07691982342444899,
          0.09000469182743577,
          0.13118975409007322,
          0.1567187161253315,
          0.25568271407259
         ],
         "xaxis": "x5",
         "y": [
          "half  ",
          "come  ",
          "light  ",
          "heavy  ",
          "body  "
         ],
         "yaxis": "y5"
        },
        {
         "marker": {
          "color": "#009E73"
         },
         "orientation": "h",
         "type": "bar",
         "x": [
          0.10190853816590308,
          0.1135387457300399,
          0.1158410554598168,
          0.13599433741160677,
          0.3651915243346428
         ],
         "xaxis": "x6",
         "y": [
          "change  ",
          "difference  ",
          "normal  ",
          "yellow  ",
          "color  "
         ],
         "yaxis": "y6"
        },
        {
         "marker": {
          "color": "#F0E442"
         },
         "orientation": "h",
         "type": "bar",
         "x": [
          0.06315841887280614,
          0.07632840050461652,
          0.07691759583839448,
          0.12087050774604846,
          0.2540248102884124
         ],
         "xaxis": "x7",
         "y": [
          "catch  ",
          "image  ",
          "scene  ",
          "delay  ",
          "touch  "
         ],
         "yaxis": "y7"
        },
        {
         "marker": {
          "color": "#D55E00"
         },
         "orientation": "h",
         "type": "bar",
         "x": [
          0.06002692336410228,
          0.061089835302982294,
          0.06458823185624397,
          0.06684059034717905,
          0.0717279256712652
         ],
         "xaxis": "x8",
         "y": [
          "hologram  ",
          "myself  ",
          "vr  ",
          "body  ",
          "virtual  "
         ],
         "yaxis": "y8"
        },
        {
         "marker": {
          "color": "#0072B2"
         },
         "orientation": "h",
         "type": "bar",
         "x": [
          0.08524459476594598,
          0.08524459476594598,
          0.0866460629528685,
          0.11233829011799189,
          0.3070991183568308
         ],
         "xaxis": "x9",
         "y": [
          "indonesia  ",
          "adventure  ",
          "tree  ",
          "rock  ",
          "forest  "
         ],
         "yaxis": "y9"
        },
        {
         "marker": {
          "color": "#CC79A7"
         },
         "orientation": "h",
         "type": "bar",
         "x": [
          0.09246184254103283,
          0.10459485824539465,
          0.21423603057013715,
          0.23251091938564297,
          0.29300607365905285
         ],
         "xaxis": "x10",
         "y": [
          "30  ",
          "condition  ",
          "close  ",
          "open  ",
          "eye  "
         ],
         "yaxis": "y10"
        },
        {
         "marker": {
          "color": "#E69F00"
         },
         "orientation": "h",
         "type": "bar",
         "x": [
          0.16070702291940636,
          0.16334913507507995,
          0.20113788741689426,
          0.24047330867755784,
          0.376768285298814
         ],
         "xaxis": "x11",
         "y": [
          "recognize  ",
          "identify  ",
          "myself  ",
          "blink  ",
          "avatar  "
         ],
         "yaxis": "y11"
        },
        {
         "marker": {
          "color": "#56B4E9"
         },
         "orientation": "h",
         "type": "bar",
         "x": [
          0.15530519390307934,
          0.15530519390307934,
          0.23421246998665612,
          0.24830085228788443,
          0.40056011640997613
         ],
         "xaxis": "x12",
         "y": [
          "accept  ",
          "creepy  ",
          "funny  ",
          "weird  ",
          "strange  "
         ],
         "yaxis": "y12"
        },
        {
         "marker": {
          "color": "#009E73"
         },
         "orientation": "h",
         "type": "bar",
         "x": [
          0.19279265450037436,
          0.19279265450037436,
          0.23117665557837516,
          0.3103317014020872,
          0.4086976927832337
         ],
         "xaxis": "x13",
         "y": [
          "urgent  ",
          "complicated  ",
          "good  ",
          "mental  ",
          "want  "
         ],
         "yaxis": "y13"
        },
        {
         "marker": {
          "color": "#F0E442"
         },
         "orientation": "h",
         "type": "bar",
         "x": [
          0.13095174075020932,
          0.13546997131735244,
          0.16422334784197967,
          0.17405981127360665,
          0.23407774765868522
         ],
         "xaxis": "x14",
         "y": [
          "cool  ",
          "space  ",
          "rock  ",
          "platform  ",
          "voice  "
         ],
         "yaxis": "y14"
        },
        {
         "marker": {
          "color": "#D55E00"
         },
         "orientation": "h",
         "type": "bar",
         "x": [
          0.17007054767747923,
          0.22788240323026002,
          0.2649494161644267,
          0.3984532032792968,
          0.42710749876446047
         ],
         "xaxis": "x15",
         "y": [
          "pay  ",
          "small  ",
          "damn  ",
          "change  ",
          "notice  "
         ],
         "yaxis": "y15"
        },
        {
         "marker": {
          "color": "#0072B2"
         },
         "orientation": "h",
         "type": "bar",
         "x": [
          0.09248234337814894,
          0.0937334676265468,
          0.10267626703038212,
          0.1080484620553841,
          0.15547346836397996
         ],
         "xaxis": "x16",
         "y": [
          "fully  ",
          "look  ",
          "feeling  ",
          "scary  ",
          "strange  "
         ],
         "yaxis": "y16"
        }
       ],
       "layout": {
        "annotations": [
         {
          "font": {
           "size": 16
          },
          "showarrow": false,
          "text": "Topic 0",
          "x": 0.0875,
          "xanchor": "center",
          "xref": "paper",
          "y": 1,
          "yanchor": "bottom",
          "yref": "paper"
         },
         {
          "font": {
           "size": 16
          },
          "showarrow": false,
          "text": "Topic 1",
          "x": 0.36250000000000004,
          "xanchor": "center",
          "xref": "paper",
          "y": 1,
          "yanchor": "bottom",
          "yref": "paper"
         },
         {
          "font": {
           "size": 16
          },
          "showarrow": false,
          "text": "Topic 2",
          "x": 0.6375000000000001,
          "xanchor": "center",
          "xref": "paper",
          "y": 1,
          "yanchor": "bottom",
          "yref": "paper"
         },
         {
          "font": {
           "size": 16
          },
          "showarrow": false,
          "text": "Topic 3",
          "x": 0.9125,
          "xanchor": "center",
          "xref": "paper",
          "y": 1,
          "yanchor": "bottom",
          "yref": "paper"
         },
         {
          "font": {
           "size": 16
          },
          "showarrow": false,
          "text": "Topic 4",
          "x": 0.0875,
          "xanchor": "center",
          "xref": "paper",
          "y": 0.7250000000000001,
          "yanchor": "bottom",
          "yref": "paper"
         },
         {
          "font": {
           "size": 16
          },
          "showarrow": false,
          "text": "Topic 5",
          "x": 0.36250000000000004,
          "xanchor": "center",
          "xref": "paper",
          "y": 0.7250000000000001,
          "yanchor": "bottom",
          "yref": "paper"
         },
         {
          "font": {
           "size": 16
          },
          "showarrow": false,
          "text": "Topic 6",
          "x": 0.6375000000000001,
          "xanchor": "center",
          "xref": "paper",
          "y": 0.7250000000000001,
          "yanchor": "bottom",
          "yref": "paper"
         },
         {
          "font": {
           "size": 16
          },
          "showarrow": false,
          "text": "Topic 7",
          "x": 0.9125,
          "xanchor": "center",
          "xref": "paper",
          "y": 0.7250000000000001,
          "yanchor": "bottom",
          "yref": "paper"
         },
         {
          "font": {
           "size": 16
          },
          "showarrow": false,
          "text": "Topic 8",
          "x": 0.0875,
          "xanchor": "center",
          "xref": "paper",
          "y": 0.45,
          "yanchor": "bottom",
          "yref": "paper"
         },
         {
          "font": {
           "size": 16
          },
          "showarrow": false,
          "text": "Topic 9",
          "x": 0.36250000000000004,
          "xanchor": "center",
          "xref": "paper",
          "y": 0.45,
          "yanchor": "bottom",
          "yref": "paper"
         },
         {
          "font": {
           "size": 16
          },
          "showarrow": false,
          "text": "Topic 10",
          "x": 0.6375000000000001,
          "xanchor": "center",
          "xref": "paper",
          "y": 0.45,
          "yanchor": "bottom",
          "yref": "paper"
         },
         {
          "font": {
           "size": 16
          },
          "showarrow": false,
          "text": "Topic 11",
          "x": 0.9125,
          "xanchor": "center",
          "xref": "paper",
          "y": 0.45,
          "yanchor": "bottom",
          "yref": "paper"
         },
         {
          "font": {
           "size": 16
          },
          "showarrow": false,
          "text": "Topic 12",
          "x": 0.0875,
          "xanchor": "center",
          "xref": "paper",
          "y": 0.175,
          "yanchor": "bottom",
          "yref": "paper"
         },
         {
          "font": {
           "size": 16
          },
          "showarrow": false,
          "text": "Topic 13",
          "x": 0.36250000000000004,
          "xanchor": "center",
          "xref": "paper",
          "y": 0.175,
          "yanchor": "bottom",
          "yref": "paper"
         },
         {
          "font": {
           "size": 16
          },
          "showarrow": false,
          "text": "Topic 14",
          "x": 0.6375000000000001,
          "xanchor": "center",
          "xref": "paper",
          "y": 0.175,
          "yanchor": "bottom",
          "yref": "paper"
         },
         {
          "font": {
           "size": 16
          },
          "showarrow": false,
          "text": "Topic 15",
          "x": 0.9125,
          "xanchor": "center",
          "xref": "paper",
          "y": 0.175,
          "yanchor": "bottom",
          "yref": "paper"
         }
        ],
        "height": 1000,
        "hoverlabel": {
         "bgcolor": "white",
         "font": {
          "family": "Rockwell",
          "size": 16
         }
        },
        "showlegend": false,
        "template": {
         "data": {
          "bar": [
           {
            "error_x": {
             "color": "#2a3f5f"
            },
            "error_y": {
             "color": "#2a3f5f"
            },
            "marker": {
             "line": {
              "color": "white",
              "width": 0.5
             },
             "pattern": {
              "fillmode": "overlay",
              "size": 10,
              "solidity": 0.2
             }
            },
            "type": "bar"
           }
          ],
          "barpolar": [
           {
            "marker": {
             "line": {
              "color": "white",
              "width": 0.5
             },
             "pattern": {
              "fillmode": "overlay",
              "size": 10,
              "solidity": 0.2
             }
            },
            "type": "barpolar"
           }
          ],
          "carpet": [
           {
            "aaxis": {
             "endlinecolor": "#2a3f5f",
             "gridcolor": "#C8D4E3",
             "linecolor": "#C8D4E3",
             "minorgridcolor": "#C8D4E3",
             "startlinecolor": "#2a3f5f"
            },
            "baxis": {
             "endlinecolor": "#2a3f5f",
             "gridcolor": "#C8D4E3",
             "linecolor": "#C8D4E3",
             "minorgridcolor": "#C8D4E3",
             "startlinecolor": "#2a3f5f"
            },
            "type": "carpet"
           }
          ],
          "choropleth": [
           {
            "colorbar": {
             "outlinewidth": 0,
             "ticks": ""
            },
            "type": "choropleth"
           }
          ],
          "contour": [
           {
            "colorbar": {
             "outlinewidth": 0,
             "ticks": ""
            },
            "colorscale": [
             [
              0,
              "#0d0887"
             ],
             [
              0.1111111111111111,
              "#46039f"
             ],
             [
              0.2222222222222222,
              "#7201a8"
             ],
             [
              0.3333333333333333,
              "#9c179e"
             ],
             [
              0.4444444444444444,
              "#bd3786"
             ],
             [
              0.5555555555555556,
              "#d8576b"
             ],
             [
              0.6666666666666666,
              "#ed7953"
             ],
             [
              0.7777777777777778,
              "#fb9f3a"
             ],
             [
              0.8888888888888888,
              "#fdca26"
             ],
             [
              1,
              "#f0f921"
             ]
            ],
            "type": "contour"
           }
          ],
          "contourcarpet": [
           {
            "colorbar": {
             "outlinewidth": 0,
             "ticks": ""
            },
            "type": "contourcarpet"
           }
          ],
          "heatmap": [
           {
            "colorbar": {
             "outlinewidth": 0,
             "ticks": ""
            },
            "colorscale": [
             [
              0,
              "#0d0887"
             ],
             [
              0.1111111111111111,
              "#46039f"
             ],
             [
              0.2222222222222222,
              "#7201a8"
             ],
             [
              0.3333333333333333,
              "#9c179e"
             ],
             [
              0.4444444444444444,
              "#bd3786"
             ],
             [
              0.5555555555555556,
              "#d8576b"
             ],
             [
              0.6666666666666666,
              "#ed7953"
             ],
             [
              0.7777777777777778,
              "#fb9f3a"
             ],
             [
              0.8888888888888888,
              "#fdca26"
             ],
             [
              1,
              "#f0f921"
             ]
            ],
            "type": "heatmap"
           }
          ],
          "heatmapgl": [
           {
            "colorbar": {
             "outlinewidth": 0,
             "ticks": ""
            },
            "colorscale": [
             [
              0,
              "#0d0887"
             ],
             [
              0.1111111111111111,
              "#46039f"
             ],
             [
              0.2222222222222222,
              "#7201a8"
             ],
             [
              0.3333333333333333,
              "#9c179e"
             ],
             [
              0.4444444444444444,
              "#bd3786"
             ],
             [
              0.5555555555555556,
              "#d8576b"
             ],
             [
              0.6666666666666666,
              "#ed7953"
             ],
             [
              0.7777777777777778,
              "#fb9f3a"
             ],
             [
              0.8888888888888888,
              "#fdca26"
             ],
             [
              1,
              "#f0f921"
             ]
            ],
            "type": "heatmapgl"
           }
          ],
          "histogram": [
           {
            "marker": {
             "pattern": {
              "fillmode": "overlay",
              "size": 10,
              "solidity": 0.2
             }
            },
            "type": "histogram"
           }
          ],
          "histogram2d": [
           {
            "colorbar": {
             "outlinewidth": 0,
             "ticks": ""
            },
            "colorscale": [
             [
              0,
              "#0d0887"
             ],
             [
              0.1111111111111111,
              "#46039f"
             ],
             [
              0.2222222222222222,
              "#7201a8"
             ],
             [
              0.3333333333333333,
              "#9c179e"
             ],
             [
              0.4444444444444444,
              "#bd3786"
             ],
             [
              0.5555555555555556,
              "#d8576b"
             ],
             [
              0.6666666666666666,
              "#ed7953"
             ],
             [
              0.7777777777777778,
              "#fb9f3a"
             ],
             [
              0.8888888888888888,
              "#fdca26"
             ],
             [
              1,
              "#f0f921"
             ]
            ],
            "type": "histogram2d"
           }
          ],
          "histogram2dcontour": [
           {
            "colorbar": {
             "outlinewidth": 0,
             "ticks": ""
            },
            "colorscale": [
             [
              0,
              "#0d0887"
             ],
             [
              0.1111111111111111,
              "#46039f"
             ],
             [
              0.2222222222222222,
              "#7201a8"
             ],
             [
              0.3333333333333333,
              "#9c179e"
             ],
             [
              0.4444444444444444,
              "#bd3786"
             ],
             [
              0.5555555555555556,
              "#d8576b"
             ],
             [
              0.6666666666666666,
              "#ed7953"
             ],
             [
              0.7777777777777778,
              "#fb9f3a"
             ],
             [
              0.8888888888888888,
              "#fdca26"
             ],
             [
              1,
              "#f0f921"
             ]
            ],
            "type": "histogram2dcontour"
           }
          ],
          "mesh3d": [
           {
            "colorbar": {
             "outlinewidth": 0,
             "ticks": ""
            },
            "type": "mesh3d"
           }
          ],
          "parcoords": [
           {
            "line": {
             "colorbar": {
              "outlinewidth": 0,
              "ticks": ""
             }
            },
            "type": "parcoords"
           }
          ],
          "pie": [
           {
            "automargin": true,
            "type": "pie"
           }
          ],
          "scatter": [
           {
            "fillpattern": {
             "fillmode": "overlay",
             "size": 10,
             "solidity": 0.2
            },
            "type": "scatter"
           }
          ],
          "scatter3d": [
           {
            "line": {
             "colorbar": {
              "outlinewidth": 0,
              "ticks": ""
             }
            },
            "marker": {
             "colorbar": {
              "outlinewidth": 0,
              "ticks": ""
             }
            },
            "type": "scatter3d"
           }
          ],
          "scattercarpet": [
           {
            "marker": {
             "colorbar": {
              "outlinewidth": 0,
              "ticks": ""
             }
            },
            "type": "scattercarpet"
           }
          ],
          "scattergeo": [
           {
            "marker": {
             "colorbar": {
              "outlinewidth": 0,
              "ticks": ""
             }
            },
            "type": "scattergeo"
           }
          ],
          "scattergl": [
           {
            "marker": {
             "colorbar": {
              "outlinewidth": 0,
              "ticks": ""
             }
            },
            "type": "scattergl"
           }
          ],
          "scattermapbox": [
           {
            "marker": {
             "colorbar": {
              "outlinewidth": 0,
              "ticks": ""
             }
            },
            "type": "scattermapbox"
           }
          ],
          "scatterpolar": [
           {
            "marker": {
             "colorbar": {
              "outlinewidth": 0,
              "ticks": ""
             }
            },
            "type": "scatterpolar"
           }
          ],
          "scatterpolargl": [
           {
            "marker": {
             "colorbar": {
              "outlinewidth": 0,
              "ticks": ""
             }
            },
            "type": "scatterpolargl"
           }
          ],
          "scatterternary": [
           {
            "marker": {
             "colorbar": {
              "outlinewidth": 0,
              "ticks": ""
             }
            },
            "type": "scatterternary"
           }
          ],
          "surface": [
           {
            "colorbar": {
             "outlinewidth": 0,
             "ticks": ""
            },
            "colorscale": [
             [
              0,
              "#0d0887"
             ],
             [
              0.1111111111111111,
              "#46039f"
             ],
             [
              0.2222222222222222,
              "#7201a8"
             ],
             [
              0.3333333333333333,
              "#9c179e"
             ],
             [
              0.4444444444444444,
              "#bd3786"
             ],
             [
              0.5555555555555556,
              "#d8576b"
             ],
             [
              0.6666666666666666,
              "#ed7953"
             ],
             [
              0.7777777777777778,
              "#fb9f3a"
             ],
             [
              0.8888888888888888,
              "#fdca26"
             ],
             [
              1,
              "#f0f921"
             ]
            ],
            "type": "surface"
           }
          ],
          "table": [
           {
            "cells": {
             "fill": {
              "color": "#EBF0F8"
             },
             "line": {
              "color": "white"
             }
            },
            "header": {
             "fill": {
              "color": "#C8D4E3"
             },
             "line": {
              "color": "white"
             }
            },
            "type": "table"
           }
          ]
         },
         "layout": {
          "annotationdefaults": {
           "arrowcolor": "#2a3f5f",
           "arrowhead": 0,
           "arrowwidth": 1
          },
          "autotypenumbers": "strict",
          "coloraxis": {
           "colorbar": {
            "outlinewidth": 0,
            "ticks": ""
           }
          },
          "colorscale": {
           "diverging": [
            [
             0,
             "#8e0152"
            ],
            [
             0.1,
             "#c51b7d"
            ],
            [
             0.2,
             "#de77ae"
            ],
            [
             0.3,
             "#f1b6da"
            ],
            [
             0.4,
             "#fde0ef"
            ],
            [
             0.5,
             "#f7f7f7"
            ],
            [
             0.6,
             "#e6f5d0"
            ],
            [
             0.7,
             "#b8e186"
            ],
            [
             0.8,
             "#7fbc41"
            ],
            [
             0.9,
             "#4d9221"
            ],
            [
             1,
             "#276419"
            ]
           ],
           "sequential": [
            [
             0,
             "#0d0887"
            ],
            [
             0.1111111111111111,
             "#46039f"
            ],
            [
             0.2222222222222222,
             "#7201a8"
            ],
            [
             0.3333333333333333,
             "#9c179e"
            ],
            [
             0.4444444444444444,
             "#bd3786"
            ],
            [
             0.5555555555555556,
             "#d8576b"
            ],
            [
             0.6666666666666666,
             "#ed7953"
            ],
            [
             0.7777777777777778,
             "#fb9f3a"
            ],
            [
             0.8888888888888888,
             "#fdca26"
            ],
            [
             1,
             "#f0f921"
            ]
           ],
           "sequentialminus": [
            [
             0,
             "#0d0887"
            ],
            [
             0.1111111111111111,
             "#46039f"
            ],
            [
             0.2222222222222222,
             "#7201a8"
            ],
            [
             0.3333333333333333,
             "#9c179e"
            ],
            [
             0.4444444444444444,
             "#bd3786"
            ],
            [
             0.5555555555555556,
             "#d8576b"
            ],
            [
             0.6666666666666666,
             "#ed7953"
            ],
            [
             0.7777777777777778,
             "#fb9f3a"
            ],
            [
             0.8888888888888888,
             "#fdca26"
            ],
            [
             1,
             "#f0f921"
            ]
           ]
          },
          "colorway": [
           "#636efa",
           "#EF553B",
           "#00cc96",
           "#ab63fa",
           "#FFA15A",
           "#19d3f3",
           "#FF6692",
           "#B6E880",
           "#FF97FF",
           "#FECB52"
          ],
          "font": {
           "color": "#2a3f5f"
          },
          "geo": {
           "bgcolor": "white",
           "lakecolor": "white",
           "landcolor": "white",
           "showlakes": true,
           "showland": true,
           "subunitcolor": "#C8D4E3"
          },
          "hoverlabel": {
           "align": "left"
          },
          "hovermode": "closest",
          "mapbox": {
           "style": "light"
          },
          "paper_bgcolor": "white",
          "plot_bgcolor": "white",
          "polar": {
           "angularaxis": {
            "gridcolor": "#EBF0F8",
            "linecolor": "#EBF0F8",
            "ticks": ""
           },
           "bgcolor": "white",
           "radialaxis": {
            "gridcolor": "#EBF0F8",
            "linecolor": "#EBF0F8",
            "ticks": ""
           }
          },
          "scene": {
           "xaxis": {
            "backgroundcolor": "white",
            "gridcolor": "#DFE8F3",
            "gridwidth": 2,
            "linecolor": "#EBF0F8",
            "showbackground": true,
            "ticks": "",
            "zerolinecolor": "#EBF0F8"
           },
           "yaxis": {
            "backgroundcolor": "white",
            "gridcolor": "#DFE8F3",
            "gridwidth": 2,
            "linecolor": "#EBF0F8",
            "showbackground": true,
            "ticks": "",
            "zerolinecolor": "#EBF0F8"
           },
           "zaxis": {
            "backgroundcolor": "white",
            "gridcolor": "#DFE8F3",
            "gridwidth": 2,
            "linecolor": "#EBF0F8",
            "showbackground": true,
            "ticks": "",
            "zerolinecolor": "#EBF0F8"
           }
          },
          "shapedefaults": {
           "line": {
            "color": "#2a3f5f"
           }
          },
          "ternary": {
           "aaxis": {
            "gridcolor": "#DFE8F3",
            "linecolor": "#A2B1C6",
            "ticks": ""
           },
           "baxis": {
            "gridcolor": "#DFE8F3",
            "linecolor": "#A2B1C6",
            "ticks": ""
           },
           "bgcolor": "white",
           "caxis": {
            "gridcolor": "#DFE8F3",
            "linecolor": "#A2B1C6",
            "ticks": ""
           }
          },
          "title": {
           "x": 0.05
          },
          "xaxis": {
           "automargin": true,
           "gridcolor": "#EBF0F8",
           "linecolor": "#EBF0F8",
           "ticks": "",
           "title": {
            "standoff": 15
           },
           "zerolinecolor": "#EBF0F8",
           "zerolinewidth": 2
          },
          "yaxis": {
           "automargin": true,
           "gridcolor": "#EBF0F8",
           "linecolor": "#EBF0F8",
           "ticks": "",
           "title": {
            "standoff": 15
           },
           "zerolinecolor": "#EBF0F8",
           "zerolinewidth": 2
          }
         }
        },
        "title": {
         "font": {
          "color": "Black",
          "size": 22
         },
         "text": "Topic Word Scores",
         "x": 0.5,
         "xanchor": "center",
         "yanchor": "top"
        },
        "width": 1000,
        "xaxis": {
         "anchor": "y",
         "domain": [
          0,
          0.175
         ],
         "showgrid": true
        },
        "xaxis10": {
         "anchor": "y10",
         "domain": [
          0.275,
          0.45
         ],
         "showgrid": true
        },
        "xaxis11": {
         "anchor": "y11",
         "domain": [
          0.55,
          0.7250000000000001
         ],
         "showgrid": true
        },
        "xaxis12": {
         "anchor": "y12",
         "domain": [
          0.825,
          1
         ],
         "showgrid": true
        },
        "xaxis13": {
         "anchor": "y13",
         "domain": [
          0,
          0.175
         ],
         "showgrid": true
        },
        "xaxis14": {
         "anchor": "y14",
         "domain": [
          0.275,
          0.45
         ],
         "showgrid": true
        },
        "xaxis15": {
         "anchor": "y15",
         "domain": [
          0.55,
          0.7250000000000001
         ],
         "showgrid": true
        },
        "xaxis16": {
         "anchor": "y16",
         "domain": [
          0.825,
          1
         ],
         "showgrid": true
        },
        "xaxis2": {
         "anchor": "y2",
         "domain": [
          0.275,
          0.45
         ],
         "showgrid": true
        },
        "xaxis3": {
         "anchor": "y3",
         "domain": [
          0.55,
          0.7250000000000001
         ],
         "showgrid": true
        },
        "xaxis4": {
         "anchor": "y4",
         "domain": [
          0.825,
          1
         ],
         "showgrid": true
        },
        "xaxis5": {
         "anchor": "y5",
         "domain": [
          0,
          0.175
         ],
         "showgrid": true
        },
        "xaxis6": {
         "anchor": "y6",
         "domain": [
          0.275,
          0.45
         ],
         "showgrid": true
        },
        "xaxis7": {
         "anchor": "y7",
         "domain": [
          0.55,
          0.7250000000000001
         ],
         "showgrid": true
        },
        "xaxis8": {
         "anchor": "y8",
         "domain": [
          0.825,
          1
         ],
         "showgrid": true
        },
        "xaxis9": {
         "anchor": "y9",
         "domain": [
          0,
          0.175
         ],
         "showgrid": true
        },
        "yaxis": {
         "anchor": "x",
         "domain": [
          0.825,
          1
         ],
         "showgrid": true
        },
        "yaxis10": {
         "anchor": "x10",
         "domain": [
          0.275,
          0.45
         ],
         "showgrid": true
        },
        "yaxis11": {
         "anchor": "x11",
         "domain": [
          0.275,
          0.45
         ],
         "showgrid": true
        },
        "yaxis12": {
         "anchor": "x12",
         "domain": [
          0.275,
          0.45
         ],
         "showgrid": true
        },
        "yaxis13": {
         "anchor": "x13",
         "domain": [
          0,
          0.175
         ],
         "showgrid": true
        },
        "yaxis14": {
         "anchor": "x14",
         "domain": [
          0,
          0.175
         ],
         "showgrid": true
        },
        "yaxis15": {
         "anchor": "x15",
         "domain": [
          0,
          0.175
         ],
         "showgrid": true
        },
        "yaxis16": {
         "anchor": "x16",
         "domain": [
          0,
          0.175
         ],
         "showgrid": true
        },
        "yaxis2": {
         "anchor": "x2",
         "domain": [
          0.825,
          1
         ],
         "showgrid": true
        },
        "yaxis3": {
         "anchor": "x3",
         "domain": [
          0.825,
          1
         ],
         "showgrid": true
        },
        "yaxis4": {
         "anchor": "x4",
         "domain": [
          0.825,
          1
         ],
         "showgrid": true
        },
        "yaxis5": {
         "anchor": "x5",
         "domain": [
          0.55,
          0.7250000000000001
         ],
         "showgrid": true
        },
        "yaxis6": {
         "anchor": "x6",
         "domain": [
          0.55,
          0.7250000000000001
         ],
         "showgrid": true
        },
        "yaxis7": {
         "anchor": "x7",
         "domain": [
          0.55,
          0.7250000000000001
         ],
         "showgrid": true
        },
        "yaxis8": {
         "anchor": "x8",
         "domain": [
          0.55,
          0.7250000000000001
         ],
         "showgrid": true
        },
        "yaxis9": {
         "anchor": "x9",
         "domain": [
          0.275,
          0.45
         ],
         "showgrid": true
        }
       }
      }
     },
     "metadata": {},
     "output_type": "display_data"
    }
   ],
   "source": [
    "topic_model.visualize_barchart(top_n_topics=16)"
   ]
  },
  {
   "cell_type": "code",
   "execution_count": 36,
   "metadata": {},
   "outputs": [
    {
     "data": {
      "application/vnd.plotly.v1+json": {
       "config": {
        "plotlyServerURL": "https://plot.ly"
       },
       "data": [
        {
         "customdata": [
          [
           0,
           "interesting | easy | nice | fine | fun",
           47
          ],
          [
           1,
           "focus | leg | eye | distract | try",
           46
          ],
          [
           2,
           "relax | fall | sleep | asleep | calm",
           46
          ],
          [
           3,
           "reality | body | different | yourself | room",
           44
          ],
          [
           4,
           "body | heavy | light | come | half",
           37
          ],
          [
           5,
           "color | yellow | normal | difference | change",
           29
          ],
          [
           6,
           "touch | delay | scene | image | catch",
           23
          ],
          [
           7,
           "virtual | body | vr | myself | hologram",
           23
          ],
          [
           8,
           "forest | rock | tree | adventure | indonesia",
           23
          ],
          [
           9,
           "eye | open | close | condition | 30",
           22
          ],
          [
           10,
           "avatar | blink | myself | identify | recognize",
           22
          ],
          [
           11,
           "strange | weird | funny | creepy | accept",
           19
          ],
          [
           12,
           "want | mental | good | complicated | urgent",
           15
          ],
          [
           13,
           "voice | platform | rock | space | cool",
           14
          ],
          [
           14,
           "notice | change | damn | small | pay",
           13
          ],
          [
           15,
           "strange | scary | feeling | look | fully",
           12
          ],
          [
           16,
           "100 | 10 | somewhat | percentage | number",
           10
          ],
          [
           17,
           "room | center | mountain | especially | different",
           9
          ],
          [
           18,
           "quickly | happen | movement | constantly | asynchrony",
           8
          ]
         ],
         "hovertemplate": "<b>Topic %{customdata[0]}</b><br>%{customdata[1]}<br>Size: %{customdata[2]}",
         "legendgroup": "",
         "marker": {
          "color": "#B0BEC5",
          "line": {
           "color": "DarkSlateGrey",
           "width": 2
          },
          "size": [
           47,
           46,
           46,
           44,
           37,
           29,
           23,
           23,
           23,
           22,
           22,
           19,
           15,
           14,
           13,
           12,
           10,
           9,
           8
          ],
          "sizemode": "area",
          "sizeref": 0.029375,
          "symbol": "circle"
         },
         "mode": "markers",
         "name": "",
         "orientation": "v",
         "showlegend": false,
         "type": "scatter",
         "x": [
          14.953855514526367,
          -6.73478364944458,
          -8.115899085998535,
          -7.749738693237305,
          -7.570990085601807,
          7.423183917999268,
          -8.14128589630127,
          -7.692111492156982,
          15.896580696105957,
          -6.387793064117432,
          -7.7994160652160645,
          14.687045097351074,
          15.431389808654785,
          -7.512413024902344,
          7.532723426818848,
          -7.876971244812012,
          15.044035911560059,
          15.656745910644531,
          15.101981163024902
         ],
         "xaxis": "x",
         "y": [
          8.410261154174805,
          -2.532177209854126,
          -3.2973170280456543,
          -2.3431451320648193,
          -3.328301191329956,
          1.711853265762329,
          -1.4258887767791748,
          -1.3062998056411743,
          9.990964889526367,
          -2.6038625240325928,
          -0.9690101742744446,
          8.607120513916016,
          8.971891403198242,
          -2.2454092502593994,
          1.8225454092025757,
          -2.9673891067504883,
          8.221939086914062,
          9.676116943359375,
          9.171124458312988
         ],
         "yaxis": "y"
        }
       ],
       "layout": {
        "annotations": [
         {
          "showarrow": false,
          "text": "D1",
          "x": -9.36247878074646,
          "y": 3.8310316264629365,
          "yshift": 10
         },
         {
          "showarrow": false,
          "text": "D2",
          "x": 4.459294509887695,
          "xshift": 10,
          "y": 11.489609622955323
         }
        ],
        "height": 650,
        "hoverlabel": {
         "bgcolor": "white",
         "font": {
          "family": "Rockwell",
          "size": 16
         }
        },
        "legend": {
         "itemsizing": "constant",
         "tracegroupgap": 0
        },
        "margin": {
         "t": 60
        },
        "shapes": [
         {
          "line": {
           "color": "#CFD8DC",
           "width": 2
          },
          "type": "line",
          "x0": 4.459294509887695,
          "x1": 4.459294509887695,
          "y0": -3.8275463700294496,
          "y1": 11.489609622955323
         },
         {
          "line": {
           "color": "#9E9E9E",
           "width": 2
          },
          "type": "line",
          "x0": -9.36247878074646,
          "x1": 18.28106780052185,
          "y0": 3.8310316264629365,
          "y1": 3.8310316264629365
         }
        ],
        "sliders": [
         {
          "active": 0,
          "pad": {
           "t": 50
          },
          "steps": [
           {
            "args": [
             {
              "marker.color": [
               [
                "red",
                "#B0BEC5",
                "#B0BEC5",
                "#B0BEC5",
                "#B0BEC5",
                "#B0BEC5",
                "#B0BEC5",
                "#B0BEC5",
                "#B0BEC5",
                "#B0BEC5",
                "#B0BEC5",
                "#B0BEC5",
                "#B0BEC5",
                "#B0BEC5",
                "#B0BEC5",
                "#B0BEC5",
                "#B0BEC5",
                "#B0BEC5",
                "#B0BEC5"
               ]
              ]
             }
            ],
            "label": "Topic 0",
            "method": "update"
           },
           {
            "args": [
             {
              "marker.color": [
               [
                "#B0BEC5",
                "red",
                "#B0BEC5",
                "#B0BEC5",
                "#B0BEC5",
                "#B0BEC5",
                "#B0BEC5",
                "#B0BEC5",
                "#B0BEC5",
                "#B0BEC5",
                "#B0BEC5",
                "#B0BEC5",
                "#B0BEC5",
                "#B0BEC5",
                "#B0BEC5",
                "#B0BEC5",
                "#B0BEC5",
                "#B0BEC5",
                "#B0BEC5"
               ]
              ]
             }
            ],
            "label": "Topic 1",
            "method": "update"
           },
           {
            "args": [
             {
              "marker.color": [
               [
                "#B0BEC5",
                "#B0BEC5",
                "red",
                "#B0BEC5",
                "#B0BEC5",
                "#B0BEC5",
                "#B0BEC5",
                "#B0BEC5",
                "#B0BEC5",
                "#B0BEC5",
                "#B0BEC5",
                "#B0BEC5",
                "#B0BEC5",
                "#B0BEC5",
                "#B0BEC5",
                "#B0BEC5",
                "#B0BEC5",
                "#B0BEC5",
                "#B0BEC5"
               ]
              ]
             }
            ],
            "label": "Topic 2",
            "method": "update"
           },
           {
            "args": [
             {
              "marker.color": [
               [
                "#B0BEC5",
                "#B0BEC5",
                "#B0BEC5",
                "red",
                "#B0BEC5",
                "#B0BEC5",
                "#B0BEC5",
                "#B0BEC5",
                "#B0BEC5",
                "#B0BEC5",
                "#B0BEC5",
                "#B0BEC5",
                "#B0BEC5",
                "#B0BEC5",
                "#B0BEC5",
                "#B0BEC5",
                "#B0BEC5",
                "#B0BEC5",
                "#B0BEC5"
               ]
              ]
             }
            ],
            "label": "Topic 3",
            "method": "update"
           },
           {
            "args": [
             {
              "marker.color": [
               [
                "#B0BEC5",
                "#B0BEC5",
                "#B0BEC5",
                "#B0BEC5",
                "red",
                "#B0BEC5",
                "#B0BEC5",
                "#B0BEC5",
                "#B0BEC5",
                "#B0BEC5",
                "#B0BEC5",
                "#B0BEC5",
                "#B0BEC5",
                "#B0BEC5",
                "#B0BEC5",
                "#B0BEC5",
                "#B0BEC5",
                "#B0BEC5",
                "#B0BEC5"
               ]
              ]
             }
            ],
            "label": "Topic 4",
            "method": "update"
           },
           {
            "args": [
             {
              "marker.color": [
               [
                "#B0BEC5",
                "#B0BEC5",
                "#B0BEC5",
                "#B0BEC5",
                "#B0BEC5",
                "red",
                "#B0BEC5",
                "#B0BEC5",
                "#B0BEC5",
                "#B0BEC5",
                "#B0BEC5",
                "#B0BEC5",
                "#B0BEC5",
                "#B0BEC5",
                "#B0BEC5",
                "#B0BEC5",
                "#B0BEC5",
                "#B0BEC5",
                "#B0BEC5"
               ]
              ]
             }
            ],
            "label": "Topic 5",
            "method": "update"
           },
           {
            "args": [
             {
              "marker.color": [
               [
                "#B0BEC5",
                "#B0BEC5",
                "#B0BEC5",
                "#B0BEC5",
                "#B0BEC5",
                "#B0BEC5",
                "red",
                "#B0BEC5",
                "#B0BEC5",
                "#B0BEC5",
                "#B0BEC5",
                "#B0BEC5",
                "#B0BEC5",
                "#B0BEC5",
                "#B0BEC5",
                "#B0BEC5",
                "#B0BEC5",
                "#B0BEC5",
                "#B0BEC5"
               ]
              ]
             }
            ],
            "label": "Topic 6",
            "method": "update"
           },
           {
            "args": [
             {
              "marker.color": [
               [
                "#B0BEC5",
                "#B0BEC5",
                "#B0BEC5",
                "#B0BEC5",
                "#B0BEC5",
                "#B0BEC5",
                "#B0BEC5",
                "red",
                "#B0BEC5",
                "#B0BEC5",
                "#B0BEC5",
                "#B0BEC5",
                "#B0BEC5",
                "#B0BEC5",
                "#B0BEC5",
                "#B0BEC5",
                "#B0BEC5",
                "#B0BEC5",
                "#B0BEC5"
               ]
              ]
             }
            ],
            "label": "Topic 7",
            "method": "update"
           },
           {
            "args": [
             {
              "marker.color": [
               [
                "#B0BEC5",
                "#B0BEC5",
                "#B0BEC5",
                "#B0BEC5",
                "#B0BEC5",
                "#B0BEC5",
                "#B0BEC5",
                "#B0BEC5",
                "red",
                "#B0BEC5",
                "#B0BEC5",
                "#B0BEC5",
                "#B0BEC5",
                "#B0BEC5",
                "#B0BEC5",
                "#B0BEC5",
                "#B0BEC5",
                "#B0BEC5",
                "#B0BEC5"
               ]
              ]
             }
            ],
            "label": "Topic 8",
            "method": "update"
           },
           {
            "args": [
             {
              "marker.color": [
               [
                "#B0BEC5",
                "#B0BEC5",
                "#B0BEC5",
                "#B0BEC5",
                "#B0BEC5",
                "#B0BEC5",
                "#B0BEC5",
                "#B0BEC5",
                "#B0BEC5",
                "red",
                "#B0BEC5",
                "#B0BEC5",
                "#B0BEC5",
                "#B0BEC5",
                "#B0BEC5",
                "#B0BEC5",
                "#B0BEC5",
                "#B0BEC5",
                "#B0BEC5"
               ]
              ]
             }
            ],
            "label": "Topic 9",
            "method": "update"
           },
           {
            "args": [
             {
              "marker.color": [
               [
                "#B0BEC5",
                "#B0BEC5",
                "#B0BEC5",
                "#B0BEC5",
                "#B0BEC5",
                "#B0BEC5",
                "#B0BEC5",
                "#B0BEC5",
                "#B0BEC5",
                "#B0BEC5",
                "red",
                "#B0BEC5",
                "#B0BEC5",
                "#B0BEC5",
                "#B0BEC5",
                "#B0BEC5",
                "#B0BEC5",
                "#B0BEC5",
                "#B0BEC5"
               ]
              ]
             }
            ],
            "label": "Topic 10",
            "method": "update"
           },
           {
            "args": [
             {
              "marker.color": [
               [
                "#B0BEC5",
                "#B0BEC5",
                "#B0BEC5",
                "#B0BEC5",
                "#B0BEC5",
                "#B0BEC5",
                "#B0BEC5",
                "#B0BEC5",
                "#B0BEC5",
                "#B0BEC5",
                "#B0BEC5",
                "red",
                "#B0BEC5",
                "#B0BEC5",
                "#B0BEC5",
                "#B0BEC5",
                "#B0BEC5",
                "#B0BEC5",
                "#B0BEC5"
               ]
              ]
             }
            ],
            "label": "Topic 11",
            "method": "update"
           },
           {
            "args": [
             {
              "marker.color": [
               [
                "#B0BEC5",
                "#B0BEC5",
                "#B0BEC5",
                "#B0BEC5",
                "#B0BEC5",
                "#B0BEC5",
                "#B0BEC5",
                "#B0BEC5",
                "#B0BEC5",
                "#B0BEC5",
                "#B0BEC5",
                "#B0BEC5",
                "red",
                "#B0BEC5",
                "#B0BEC5",
                "#B0BEC5",
                "#B0BEC5",
                "#B0BEC5",
                "#B0BEC5"
               ]
              ]
             }
            ],
            "label": "Topic 12",
            "method": "update"
           },
           {
            "args": [
             {
              "marker.color": [
               [
                "#B0BEC5",
                "#B0BEC5",
                "#B0BEC5",
                "#B0BEC5",
                "#B0BEC5",
                "#B0BEC5",
                "#B0BEC5",
                "#B0BEC5",
                "#B0BEC5",
                "#B0BEC5",
                "#B0BEC5",
                "#B0BEC5",
                "#B0BEC5",
                "red",
                "#B0BEC5",
                "#B0BEC5",
                "#B0BEC5",
                "#B0BEC5",
                "#B0BEC5"
               ]
              ]
             }
            ],
            "label": "Topic 13",
            "method": "update"
           },
           {
            "args": [
             {
              "marker.color": [
               [
                "#B0BEC5",
                "#B0BEC5",
                "#B0BEC5",
                "#B0BEC5",
                "#B0BEC5",
                "#B0BEC5",
                "#B0BEC5",
                "#B0BEC5",
                "#B0BEC5",
                "#B0BEC5",
                "#B0BEC5",
                "#B0BEC5",
                "#B0BEC5",
                "#B0BEC5",
                "red",
                "#B0BEC5",
                "#B0BEC5",
                "#B0BEC5",
                "#B0BEC5"
               ]
              ]
             }
            ],
            "label": "Topic 14",
            "method": "update"
           },
           {
            "args": [
             {
              "marker.color": [
               [
                "#B0BEC5",
                "#B0BEC5",
                "#B0BEC5",
                "#B0BEC5",
                "#B0BEC5",
                "#B0BEC5",
                "#B0BEC5",
                "#B0BEC5",
                "#B0BEC5",
                "#B0BEC5",
                "#B0BEC5",
                "#B0BEC5",
                "#B0BEC5",
                "#B0BEC5",
                "#B0BEC5",
                "red",
                "#B0BEC5",
                "#B0BEC5",
                "#B0BEC5"
               ]
              ]
             }
            ],
            "label": "Topic 15",
            "method": "update"
           },
           {
            "args": [
             {
              "marker.color": [
               [
                "#B0BEC5",
                "#B0BEC5",
                "#B0BEC5",
                "#B0BEC5",
                "#B0BEC5",
                "#B0BEC5",
                "#B0BEC5",
                "#B0BEC5",
                "#B0BEC5",
                "#B0BEC5",
                "#B0BEC5",
                "#B0BEC5",
                "#B0BEC5",
                "#B0BEC5",
                "#B0BEC5",
                "#B0BEC5",
                "red",
                "#B0BEC5",
                "#B0BEC5"
               ]
              ]
             }
            ],
            "label": "Topic 16",
            "method": "update"
           },
           {
            "args": [
             {
              "marker.color": [
               [
                "#B0BEC5",
                "#B0BEC5",
                "#B0BEC5",
                "#B0BEC5",
                "#B0BEC5",
                "#B0BEC5",
                "#B0BEC5",
                "#B0BEC5",
                "#B0BEC5",
                "#B0BEC5",
                "#B0BEC5",
                "#B0BEC5",
                "#B0BEC5",
                "#B0BEC5",
                "#B0BEC5",
                "#B0BEC5",
                "#B0BEC5",
                "red",
                "#B0BEC5"
               ]
              ]
             }
            ],
            "label": "Topic 17",
            "method": "update"
           },
           {
            "args": [
             {
              "marker.color": [
               [
                "#B0BEC5",
                "#B0BEC5",
                "#B0BEC5",
                "#B0BEC5",
                "#B0BEC5",
                "#B0BEC5",
                "#B0BEC5",
                "#B0BEC5",
                "#B0BEC5",
                "#B0BEC5",
                "#B0BEC5",
                "#B0BEC5",
                "#B0BEC5",
                "#B0BEC5",
                "#B0BEC5",
                "#B0BEC5",
                "#B0BEC5",
                "#B0BEC5",
                "red"
               ]
              ]
             }
            ],
            "label": "Topic 18",
            "method": "update"
           }
          ]
         }
        ],
        "template": {
         "data": {
          "bar": [
           {
            "error_x": {
             "color": "rgb(36,36,36)"
            },
            "error_y": {
             "color": "rgb(36,36,36)"
            },
            "marker": {
             "line": {
              "color": "white",
              "width": 0.5
             },
             "pattern": {
              "fillmode": "overlay",
              "size": 10,
              "solidity": 0.2
             }
            },
            "type": "bar"
           }
          ],
          "barpolar": [
           {
            "marker": {
             "line": {
              "color": "white",
              "width": 0.5
             },
             "pattern": {
              "fillmode": "overlay",
              "size": 10,
              "solidity": 0.2
             }
            },
            "type": "barpolar"
           }
          ],
          "carpet": [
           {
            "aaxis": {
             "endlinecolor": "rgb(36,36,36)",
             "gridcolor": "white",
             "linecolor": "white",
             "minorgridcolor": "white",
             "startlinecolor": "rgb(36,36,36)"
            },
            "baxis": {
             "endlinecolor": "rgb(36,36,36)",
             "gridcolor": "white",
             "linecolor": "white",
             "minorgridcolor": "white",
             "startlinecolor": "rgb(36,36,36)"
            },
            "type": "carpet"
           }
          ],
          "choropleth": [
           {
            "colorbar": {
             "outlinewidth": 1,
             "tickcolor": "rgb(36,36,36)",
             "ticks": "outside"
            },
            "type": "choropleth"
           }
          ],
          "contour": [
           {
            "colorbar": {
             "outlinewidth": 1,
             "tickcolor": "rgb(36,36,36)",
             "ticks": "outside"
            },
            "colorscale": [
             [
              0,
              "#440154"
             ],
             [
              0.1111111111111111,
              "#482878"
             ],
             [
              0.2222222222222222,
              "#3e4989"
             ],
             [
              0.3333333333333333,
              "#31688e"
             ],
             [
              0.4444444444444444,
              "#26828e"
             ],
             [
              0.5555555555555556,
              "#1f9e89"
             ],
             [
              0.6666666666666666,
              "#35b779"
             ],
             [
              0.7777777777777778,
              "#6ece58"
             ],
             [
              0.8888888888888888,
              "#b5de2b"
             ],
             [
              1,
              "#fde725"
             ]
            ],
            "type": "contour"
           }
          ],
          "contourcarpet": [
           {
            "colorbar": {
             "outlinewidth": 1,
             "tickcolor": "rgb(36,36,36)",
             "ticks": "outside"
            },
            "type": "contourcarpet"
           }
          ],
          "heatmap": [
           {
            "colorbar": {
             "outlinewidth": 1,
             "tickcolor": "rgb(36,36,36)",
             "ticks": "outside"
            },
            "colorscale": [
             [
              0,
              "#440154"
             ],
             [
              0.1111111111111111,
              "#482878"
             ],
             [
              0.2222222222222222,
              "#3e4989"
             ],
             [
              0.3333333333333333,
              "#31688e"
             ],
             [
              0.4444444444444444,
              "#26828e"
             ],
             [
              0.5555555555555556,
              "#1f9e89"
             ],
             [
              0.6666666666666666,
              "#35b779"
             ],
             [
              0.7777777777777778,
              "#6ece58"
             ],
             [
              0.8888888888888888,
              "#b5de2b"
             ],
             [
              1,
              "#fde725"
             ]
            ],
            "type": "heatmap"
           }
          ],
          "heatmapgl": [
           {
            "colorbar": {
             "outlinewidth": 1,
             "tickcolor": "rgb(36,36,36)",
             "ticks": "outside"
            },
            "colorscale": [
             [
              0,
              "#440154"
             ],
             [
              0.1111111111111111,
              "#482878"
             ],
             [
              0.2222222222222222,
              "#3e4989"
             ],
             [
              0.3333333333333333,
              "#31688e"
             ],
             [
              0.4444444444444444,
              "#26828e"
             ],
             [
              0.5555555555555556,
              "#1f9e89"
             ],
             [
              0.6666666666666666,
              "#35b779"
             ],
             [
              0.7777777777777778,
              "#6ece58"
             ],
             [
              0.8888888888888888,
              "#b5de2b"
             ],
             [
              1,
              "#fde725"
             ]
            ],
            "type": "heatmapgl"
           }
          ],
          "histogram": [
           {
            "marker": {
             "line": {
              "color": "white",
              "width": 0.6
             }
            },
            "type": "histogram"
           }
          ],
          "histogram2d": [
           {
            "colorbar": {
             "outlinewidth": 1,
             "tickcolor": "rgb(36,36,36)",
             "ticks": "outside"
            },
            "colorscale": [
             [
              0,
              "#440154"
             ],
             [
              0.1111111111111111,
              "#482878"
             ],
             [
              0.2222222222222222,
              "#3e4989"
             ],
             [
              0.3333333333333333,
              "#31688e"
             ],
             [
              0.4444444444444444,
              "#26828e"
             ],
             [
              0.5555555555555556,
              "#1f9e89"
             ],
             [
              0.6666666666666666,
              "#35b779"
             ],
             [
              0.7777777777777778,
              "#6ece58"
             ],
             [
              0.8888888888888888,
              "#b5de2b"
             ],
             [
              1,
              "#fde725"
             ]
            ],
            "type": "histogram2d"
           }
          ],
          "histogram2dcontour": [
           {
            "colorbar": {
             "outlinewidth": 1,
             "tickcolor": "rgb(36,36,36)",
             "ticks": "outside"
            },
            "colorscale": [
             [
              0,
              "#440154"
             ],
             [
              0.1111111111111111,
              "#482878"
             ],
             [
              0.2222222222222222,
              "#3e4989"
             ],
             [
              0.3333333333333333,
              "#31688e"
             ],
             [
              0.4444444444444444,
              "#26828e"
             ],
             [
              0.5555555555555556,
              "#1f9e89"
             ],
             [
              0.6666666666666666,
              "#35b779"
             ],
             [
              0.7777777777777778,
              "#6ece58"
             ],
             [
              0.8888888888888888,
              "#b5de2b"
             ],
             [
              1,
              "#fde725"
             ]
            ],
            "type": "histogram2dcontour"
           }
          ],
          "mesh3d": [
           {
            "colorbar": {
             "outlinewidth": 1,
             "tickcolor": "rgb(36,36,36)",
             "ticks": "outside"
            },
            "type": "mesh3d"
           }
          ],
          "parcoords": [
           {
            "line": {
             "colorbar": {
              "outlinewidth": 1,
              "tickcolor": "rgb(36,36,36)",
              "ticks": "outside"
             }
            },
            "type": "parcoords"
           }
          ],
          "pie": [
           {
            "automargin": true,
            "type": "pie"
           }
          ],
          "scatter": [
           {
            "fillpattern": {
             "fillmode": "overlay",
             "size": 10,
             "solidity": 0.2
            },
            "type": "scatter"
           }
          ],
          "scatter3d": [
           {
            "line": {
             "colorbar": {
              "outlinewidth": 1,
              "tickcolor": "rgb(36,36,36)",
              "ticks": "outside"
             }
            },
            "marker": {
             "colorbar": {
              "outlinewidth": 1,
              "tickcolor": "rgb(36,36,36)",
              "ticks": "outside"
             }
            },
            "type": "scatter3d"
           }
          ],
          "scattercarpet": [
           {
            "marker": {
             "colorbar": {
              "outlinewidth": 1,
              "tickcolor": "rgb(36,36,36)",
              "ticks": "outside"
             }
            },
            "type": "scattercarpet"
           }
          ],
          "scattergeo": [
           {
            "marker": {
             "colorbar": {
              "outlinewidth": 1,
              "tickcolor": "rgb(36,36,36)",
              "ticks": "outside"
             }
            },
            "type": "scattergeo"
           }
          ],
          "scattergl": [
           {
            "marker": {
             "colorbar": {
              "outlinewidth": 1,
              "tickcolor": "rgb(36,36,36)",
              "ticks": "outside"
             }
            },
            "type": "scattergl"
           }
          ],
          "scattermapbox": [
           {
            "marker": {
             "colorbar": {
              "outlinewidth": 1,
              "tickcolor": "rgb(36,36,36)",
              "ticks": "outside"
             }
            },
            "type": "scattermapbox"
           }
          ],
          "scatterpolar": [
           {
            "marker": {
             "colorbar": {
              "outlinewidth": 1,
              "tickcolor": "rgb(36,36,36)",
              "ticks": "outside"
             }
            },
            "type": "scatterpolar"
           }
          ],
          "scatterpolargl": [
           {
            "marker": {
             "colorbar": {
              "outlinewidth": 1,
              "tickcolor": "rgb(36,36,36)",
              "ticks": "outside"
             }
            },
            "type": "scatterpolargl"
           }
          ],
          "scatterternary": [
           {
            "marker": {
             "colorbar": {
              "outlinewidth": 1,
              "tickcolor": "rgb(36,36,36)",
              "ticks": "outside"
             }
            },
            "type": "scatterternary"
           }
          ],
          "surface": [
           {
            "colorbar": {
             "outlinewidth": 1,
             "tickcolor": "rgb(36,36,36)",
             "ticks": "outside"
            },
            "colorscale": [
             [
              0,
              "#440154"
             ],
             [
              0.1111111111111111,
              "#482878"
             ],
             [
              0.2222222222222222,
              "#3e4989"
             ],
             [
              0.3333333333333333,
              "#31688e"
             ],
             [
              0.4444444444444444,
              "#26828e"
             ],
             [
              0.5555555555555556,
              "#1f9e89"
             ],
             [
              0.6666666666666666,
              "#35b779"
             ],
             [
              0.7777777777777778,
              "#6ece58"
             ],
             [
              0.8888888888888888,
              "#b5de2b"
             ],
             [
              1,
              "#fde725"
             ]
            ],
            "type": "surface"
           }
          ],
          "table": [
           {
            "cells": {
             "fill": {
              "color": "rgb(237,237,237)"
             },
             "line": {
              "color": "white"
             }
            },
            "header": {
             "fill": {
              "color": "rgb(217,217,217)"
             },
             "line": {
              "color": "white"
             }
            },
            "type": "table"
           }
          ]
         },
         "layout": {
          "annotationdefaults": {
           "arrowhead": 0,
           "arrowwidth": 1
          },
          "autotypenumbers": "strict",
          "coloraxis": {
           "colorbar": {
            "outlinewidth": 1,
            "tickcolor": "rgb(36,36,36)",
            "ticks": "outside"
           }
          },
          "colorscale": {
           "diverging": [
            [
             0,
             "rgb(103,0,31)"
            ],
            [
             0.1,
             "rgb(178,24,43)"
            ],
            [
             0.2,
             "rgb(214,96,77)"
            ],
            [
             0.3,
             "rgb(244,165,130)"
            ],
            [
             0.4,
             "rgb(253,219,199)"
            ],
            [
             0.5,
             "rgb(247,247,247)"
            ],
            [
             0.6,
             "rgb(209,229,240)"
            ],
            [
             0.7,
             "rgb(146,197,222)"
            ],
            [
             0.8,
             "rgb(67,147,195)"
            ],
            [
             0.9,
             "rgb(33,102,172)"
            ],
            [
             1,
             "rgb(5,48,97)"
            ]
           ],
           "sequential": [
            [
             0,
             "#440154"
            ],
            [
             0.1111111111111111,
             "#482878"
            ],
            [
             0.2222222222222222,
             "#3e4989"
            ],
            [
             0.3333333333333333,
             "#31688e"
            ],
            [
             0.4444444444444444,
             "#26828e"
            ],
            [
             0.5555555555555556,
             "#1f9e89"
            ],
            [
             0.6666666666666666,
             "#35b779"
            ],
            [
             0.7777777777777778,
             "#6ece58"
            ],
            [
             0.8888888888888888,
             "#b5de2b"
            ],
            [
             1,
             "#fde725"
            ]
           ],
           "sequentialminus": [
            [
             0,
             "#440154"
            ],
            [
             0.1111111111111111,
             "#482878"
            ],
            [
             0.2222222222222222,
             "#3e4989"
            ],
            [
             0.3333333333333333,
             "#31688e"
            ],
            [
             0.4444444444444444,
             "#26828e"
            ],
            [
             0.5555555555555556,
             "#1f9e89"
            ],
            [
             0.6666666666666666,
             "#35b779"
            ],
            [
             0.7777777777777778,
             "#6ece58"
            ],
            [
             0.8888888888888888,
             "#b5de2b"
            ],
            [
             1,
             "#fde725"
            ]
           ]
          },
          "colorway": [
           "#1F77B4",
           "#FF7F0E",
           "#2CA02C",
           "#D62728",
           "#9467BD",
           "#8C564B",
           "#E377C2",
           "#7F7F7F",
           "#BCBD22",
           "#17BECF"
          ],
          "font": {
           "color": "rgb(36,36,36)"
          },
          "geo": {
           "bgcolor": "white",
           "lakecolor": "white",
           "landcolor": "white",
           "showlakes": true,
           "showland": true,
           "subunitcolor": "white"
          },
          "hoverlabel": {
           "align": "left"
          },
          "hovermode": "closest",
          "mapbox": {
           "style": "light"
          },
          "paper_bgcolor": "white",
          "plot_bgcolor": "white",
          "polar": {
           "angularaxis": {
            "gridcolor": "rgb(232,232,232)",
            "linecolor": "rgb(36,36,36)",
            "showgrid": false,
            "showline": true,
            "ticks": "outside"
           },
           "bgcolor": "white",
           "radialaxis": {
            "gridcolor": "rgb(232,232,232)",
            "linecolor": "rgb(36,36,36)",
            "showgrid": false,
            "showline": true,
            "ticks": "outside"
           }
          },
          "scene": {
           "xaxis": {
            "backgroundcolor": "white",
            "gridcolor": "rgb(232,232,232)",
            "gridwidth": 2,
            "linecolor": "rgb(36,36,36)",
            "showbackground": true,
            "showgrid": false,
            "showline": true,
            "ticks": "outside",
            "zeroline": false,
            "zerolinecolor": "rgb(36,36,36)"
           },
           "yaxis": {
            "backgroundcolor": "white",
            "gridcolor": "rgb(232,232,232)",
            "gridwidth": 2,
            "linecolor": "rgb(36,36,36)",
            "showbackground": true,
            "showgrid": false,
            "showline": true,
            "ticks": "outside",
            "zeroline": false,
            "zerolinecolor": "rgb(36,36,36)"
           },
           "zaxis": {
            "backgroundcolor": "white",
            "gridcolor": "rgb(232,232,232)",
            "gridwidth": 2,
            "linecolor": "rgb(36,36,36)",
            "showbackground": true,
            "showgrid": false,
            "showline": true,
            "ticks": "outside",
            "zeroline": false,
            "zerolinecolor": "rgb(36,36,36)"
           }
          },
          "shapedefaults": {
           "fillcolor": "black",
           "line": {
            "width": 0
           },
           "opacity": 0.3
          },
          "ternary": {
           "aaxis": {
            "gridcolor": "rgb(232,232,232)",
            "linecolor": "rgb(36,36,36)",
            "showgrid": false,
            "showline": true,
            "ticks": "outside"
           },
           "baxis": {
            "gridcolor": "rgb(232,232,232)",
            "linecolor": "rgb(36,36,36)",
            "showgrid": false,
            "showline": true,
            "ticks": "outside"
           },
           "bgcolor": "white",
           "caxis": {
            "gridcolor": "rgb(232,232,232)",
            "linecolor": "rgb(36,36,36)",
            "showgrid": false,
            "showline": true,
            "ticks": "outside"
           }
          },
          "title": {
           "x": 0.05
          },
          "xaxis": {
           "automargin": true,
           "gridcolor": "rgb(232,232,232)",
           "linecolor": "rgb(36,36,36)",
           "showgrid": false,
           "showline": true,
           "ticks": "outside",
           "title": {
            "standoff": 15
           },
           "zeroline": false,
           "zerolinecolor": "rgb(36,36,36)"
          },
          "yaxis": {
           "automargin": true,
           "gridcolor": "rgb(232,232,232)",
           "linecolor": "rgb(36,36,36)",
           "showgrid": false,
           "showline": true,
           "ticks": "outside",
           "title": {
            "standoff": 15
           },
           "zeroline": false,
           "zerolinecolor": "rgb(36,36,36)"
          }
         }
        },
        "title": {
         "font": {
          "color": "Black",
          "size": 22
         },
         "text": "<b>Intertopic Distance Map</b>",
         "x": 0.5,
         "xanchor": "center",
         "y": 0.95,
         "yanchor": "top"
        },
        "width": 650,
        "xaxis": {
         "anchor": "y",
         "domain": [
          0,
          1
         ],
         "range": [
          -9.36247878074646,
          18.28106780052185
         ],
         "title": {
          "text": ""
         },
         "visible": false
        },
        "yaxis": {
         "anchor": "x",
         "domain": [
          0,
          1
         ],
         "range": [
          -3.8275463700294496,
          11.489609622955323
         ],
         "title": {
          "text": ""
         },
         "visible": false
        }
       }
      }
     },
     "metadata": {},
     "output_type": "display_data"
    }
   ],
   "source": [
    "topic_model.visualize_topics()"
   ]
  },
  {
   "cell_type": "code",
   "execution_count": 37,
   "metadata": {},
   "outputs": [
    {
     "data": {
      "application/vnd.plotly.v1+json": {
       "config": {
        "plotlyServerURL": "https://plot.ly"
       },
       "data": [
        {
         "hoverinfo": "text",
         "hovertext": [
          "condition relaxed real condition eye open virtual reality disconcert look myself distracted flow state exercise",
          "true body point disconnect",
          "low resolution representation",
          "happy come happy",
          "start wander happen normal try focus example stone stone structure work",
          "girl talk mouse arround lag concentrate",
          "competition yourself try sense",
          "definitely lot sensation float body weight mask weird sit answer",
          "prefer impressive expect different disapointing place place place nice nice body prefer",
          "different direction scared clear correct word clear mind observe happen",
          "i. cloud image fast",
          "want prove body stand hand",
          "interesting double mind lie mind lot day",
          "section obviously use vr cool forest find interesting float strange myself body sense leave cool",
          "difficult blurry definition right",
          "awake conscious awake avatar feeling send myself",
          "necessarily avatar act anchor attention guess eye close blank slate brain fill guess eye open avatar offer lot change imagery stare fill busy brain able focus step eye close fill thought imagery distract easily specifically look",
          "need french impression distant sensation feeling session hard come session mask short long session setting easily",
          "moment mismatch headset realize physical body movement",
          "different normal life",
          "happen real a. lag notice",
          "wait type response",
          "remove headset realize mismatch",
          "middle",
          "long",
          "pretty easy somebody unfortunate annoyed perfectionist self critical",
          "follow resistance",
          "body image body real body image clear point point point flash flash understand want describe",
          "foot wind face sensation want want fit",
          "guess case",
          "forget itch forget friend eat weird pass imagine yourself walk forget body realize wow weight body float",
          "sync sync myself breathe",
          "instructive moment guide jar sense",
          "disconnection weird sensation describe",
          "strike outside setting forest sun light impression body light inside",
          "follow moment body",
          "explain imagine area heart emanate aura warm basically emotion feeling",
          "reassure sense artificial body necessary",
          "viewpoint look detach body cool cool body",
          "wonder choose pixelate oppose realistic",
          "represent mind body different body",
          "outside",
          "completely music monk din't understand look vertebrae clear vertebrae fact pineal gland effect great hand",
          "feeling elevate hear sound look body wow",
          "perception body real life",
          "able place place hand shoulder shoulder heart example word",
          "realize need follow instruction stop stop setting real wind wind tree leave sound tree leave natural tree place middle away clue real place sum explain myself setting element setting",
          "warmth send yourself body near myself person able touch body",
          "view different hard main difference fast",
          "equally myself high myself high person different feeling different experiment",
          "different everyday life",
          "particle picture",
          "relaxed point mind start wander wonder",
          "disturbing myself mirror blur",
          "sense i. happen buddy myself myself",
          "find easy state myself funny float air identify myself avatar moment imagine body definitely strong previous",
          "myself outside float beginning fascinating reach certain level myself outside session able ok reach certain level",
          "feeling body touch body body body body body",
          "understand body body happen body remember thought observe situation situation happen body",
          "initially guess initially focused breathing notice change aside breathing body",
          "wonder quick wonder point exercise long eventually disassociate touch possible fact start imagine probably look case distinction long start line start blur",
          "easy inner self physical self easy myself",
          "wonder link breath try link",
          "hand hand form view body strange body follow want real life",
          "easy relax look forest close eye hard enjoyable enjoyable close eye reference reference nature definitely nature allow stay calm scared close eye scary scary close eye guess feeling able control stuff",
          "need come real surrounding home myself easy control situation",
          "fact body pixel body weird explain strange pixel pixel teacher lot come",
          "fine observe nature scene immersive look screen film obviously head obviously flat screen natural",
          "beginning different slowly",
          "body strange beginning strange face weird start follow instruction myself sensation away sensation super quiet able follow good difficult try able sensation try concentrate instruction disturb easy try movement image experiment able sensation distract sound moment open eye letter read eye close let focus general perspective",
          "wait bring close",
          "watch outside special lot emotion explain moment",
          "turn head",
          "beginning use",
          "sense",
          "find",
          "day",
          "myself warm relaxed myself myself good good lot sensation feeling connection myself despite away image connection myself good",
          "definitely warmth inside connect try overall idea compassionate myself try compassionate leg foreign connect overall sense relaxed stuff exercise specifically try focus compassionate leg sense",
          "pretty noticeable slight difference pretty drastic control stuff high low pretty different sleepiness notice important consider different cause flexible",
          "float calm breathe calm notice dark exhale light bright inhale understand pattern cool breathe",
          "affraid moment happen use",
          "obviously identify direct association myself outside body pattern recognition",
          "nice cool design avatar clear pixelized",
          "audio mouse",
          "new stuff hard body self awareness challenging reason challenge myself",
          "normal beginning cool look aware posture look myself weird angle",
          "expect scene expect want strange feeling definitely scene start realistic platform platform probably",
          "different stage",
          "suprise din't expect expect trust understand exercice exercice real right beginning confused honest understand game pretty beginning real real recorded play sequence past disturbing tend want believe true relate fact 100 convinced game ok match point disconnected feeling pay attention feeling anymore watch movie guess difference match",
          "focus feeling notice youtube pixel strange notice picture",
          "look place place difficult self love",
          "true send love send person place myself image send love weird send love send image",
          "experiment nice include virtual reality change scenario great self image face person weird experiment myself body image sit look bad difficult focus tired experiment hard focus want answer",
          "couple difficult hard practice non judgmental lot weird period able collect myself calm come change stuff constant calm anxiety prompt guy variance",
          "hand body hand stange",
          "manage warmth relax voice relax",
          "enjoy",
          "body virtual visualization body",
          "previous life",
          "helpful distracted look leg shimmering stuff different avatar complete glittery find distract helpful try focus focus look avatar distract try aware body",
          "interesting vr sensation",
          "nature set try look natural reaction unknown let uncomfortable stare mind turn look slowly",
          "blink",
          "comment short mood let mood probably distracted mood",
          "easy home myself hear example noise outside fall natural light close eye connection real alignment",
          "tire",
          "mental representation body 50 50",
          "high fidelity",
          "enjoy",
          "intensity intense gauge control sensation intense able seize",
          "point twitch head notice look myself twitch head head remember head ago",
          "calm relax big natural comfortable environment surprise image body suddenly particularly strange video myself strange image myself strange correspond myself environment touching normal visually representation body touch obviously feeling spot definitely twice touch actual touch correspond visual guess long long eventually start sensation happen long disassociate guess certain boundary blur",
          "small identification",
          "comment sound distract sound machine listen bird stuff background noise distract focus attention focus wonder figure disturbing thought",
          "expect hit",
          "help forget body touch happen body jump body sensation whoa float",
          "elicit feeling thought moment feeling thought myself",
          "levitate sit platafrom high rock",
          "body weird myself touch waist knock knee sit direction look shoulder chest sit direction",
          "zoom body observe physical link yourself",
          "dealaye future past record happen month",
          "design",
          "probably different usually sound rainforest sound water sound whispering ear guide talk enjoyable oppose run water whisper weirdly ear",
          "cool pretty job point disconnect",
          "feedback technical person clearly",
          "lift hand lady lonely raise hand hear",
          "viewpoint outside",
          "minute half",
          "stop",
          "comfortable comfortable myself myself cute myself nice confirmation set close real real mountain setting easy let thinking concentrate bird setting beautiful voice visual",
          "particular emotion",
          "nature surrounding stay original location angle float body foot",
          "sense right suppose inner",
          "lady",
          "look solid r shape mind inside myself r shape",
          "guess fear intense",
          "quality image good forest understand real image body mosaic image",
          "long",
          "warmth",
          "relax pretty good weird stare representation body overall generally enjoyable",
          "hologram",
          "true young height fly stay city afraid height switzerland god god year come verbier high mountain come earth apparently come day mention environment room stay boundary reference",
          "learn new",
          "beginning look cctv closed circuit television myself",
          "guy",
          "nice recording",
          "technical point point point flash flash",
          "experiment want compare want",
          "hand",
          "vivid",
          "myself pixel stop paralyze",
          "noise long",
          "normal normal eye close look person real close eye fine normal hear focus fine real look",
          "minute",
          "computer mouse white girl",
          "guess viewpoint change rock disappear notice compare platform effectively platform rock world fact i. train station train environment train train start realise strange expect movement start immerse yourself scene effectively touching blurred expect touch body dissociate wonder lot sport lot probably aware body feeling lot run injury aware blurred interesting",
          "notice notice entire breathing sync",
          "control manage let myself completely conscious experiment point probably probably possible completely disconnect point point",
          "relaxing actual exercise sensation afraid intense overwhelming able come baseline find calmness",
          "concrete myself space physical connected simulation personal",
          "instruction moment hand obviously bad feeling example period intense",
          "possible stand",
          "right reason train myself train mood easy calm reason different mode calm",
          "notice hand repeat movement sad delay love exact easy",
          "different instruction correct exact personalise attention look look shape personalised previous previous ok repeat surrounding comfortable instruction particular attention follow attention happy amazing different reality",
          "interesting outside mind imagine",
          "break",
          "happy repeat happy long life",
          "zoom start look body obviously current moment point reverse start happen past weird point instead look myself look old version myself myself",
          "thank lot",
          "observe movement synchronize strange",
          "myself despite myself instruction send myself despite myself away",
          "begin begin begin switch reality setting start listen bird surround wind peaceful",
          "nice vr listen nice different real life recording",
          "distinct immediately real body example camera image project imagine projection camera",
          "din't",
          "forest alive movement great alive depend alive let movement movement bird repetitive fly real forest moment close eye inside",
          "cool immersive wear forget cool",
          "guess moment person try control breathing let point right aware feeling thought moment aware try control different touch confusing point happen point different look different person scene trait mixed feeling",
          "want realize especially light remember boy release control try control breathing let happen naturally guess",
          "frame reference create scene",
          "difference warm feeling chest love myself notice particular difference topic",
          "good quality pixel quality pixel good knowledge technical technical production",
          "stage experiment try foot ground literal metaphorical lifestyle moment come tap completely different virtual self pretty clear phase explain continuation screen screen delay start confuse fourth guess change perception",
          "blink",
          "help relate outside help connect connect apart link use",
          "try understand connect information image white cross help prove myself",
          "exist bring bring real person let",
          "follow",
          "cool platform sit forest elevate ground level right",
          "moment nature set",
          "wonder sensation different image clear pixelized",
          "strange myself look touch place",
          "stay hour day",
          "real",
          "shoulder movement outline voice pay attention difference look boy pay attention shoulder breathe flow guess pay attention surrounding differently",
          "confused float write bring relaxed strange place place peaceful peace round",
          "specific disconnection focus body focus heart listen heart sleep example lie bed focus heart breathing heart try listen heart help relax state true music meditate heard voice disconecte",
          "depend",
          "different disconnected surrounding happen surround example session session remove headset notice",
          "guess shocking headset",
          "lady come form sponge sit hand chest thank help help place hand foot thank support help remove help thank thank motivational speech",
          "long day",
          "shift strange",
          "phase",
          null
         ],
         "marker": {
          "color": "#CFD8DC",
          "opacity": 0.5,
          "size": 5
         },
         "mode": "markers+text",
         "name": "other",
         "showlegend": false,
         "type": "scattergl",
         "x": [
          -9.355754852294922,
          -9.005812644958496,
          -6.68453311920166,
          -4.310452938079834,
          -6.790685653686523,
          -7.162586688995361,
          -8.64900016784668,
          -8.850079536437988,
          -5.6130757331848145,
          -8.28553581237793,
          -7.303358554840088,
          -6.244422435760498,
          -4.781131267547607,
          -8.848301887512207,
          -6.784343719482422,
          -8.05337142944336,
          -8.896683692932129,
          -8.800743103027344,
          -9.063592910766602,
          -5.116025447845459,
          -7.174139022827148,
          -7.2203521728515625,
          -9.08603572845459,
          -6.218862056732178,
          -4.67621374130249,
          -7.912087440490723,
          -4.438108444213867,
          -9.181553840637207,
          -8.64294719696045,
          -3.8157413005828857,
          -8.103923797607422,
          -7.02559232711792,
          -8.794905662536621,
          -8.947152137756348,
          -9.059657096862793,
          -8.85574722290039,
          -8.053569793701172,
          -7.868896484375,
          -8.967269897460938,
          -6.7739644050598145,
          -9.554427146911621,
          -5.6839752197265625,
          -7.896568298339844,
          -7.8060784339904785,
          -7.90067195892334,
          -8.709942817687988,
          -6.8113298416137695,
          -7.699090480804443,
          -7.07752799987793,
          -9.126154899597168,
          -5.094446182250977,
          -8.96969985961914,
          -7.8816118240356445,
          -9.705817222595215,
          -7.475276470184326,
          -8.379437446594238,
          -8.750298500061035,
          -7.745359420776367,
          -8.642367362976074,
          -8.366991996765137,
          -8.12098217010498,
          -8.031038284301758,
          -6.493319511413574,
          -9.149333000183105,
          -7.935749530792236,
          -6.082242965698242,
          -7.167768955230713,
          -8.535375595092773,
          -9.01887321472168,
          -8.701793670654297,
          -5.193893909454346,
          -7.815182209014893,
          -7.157548427581787,
          -9.041352272033691,
          -7.50010871887207,
          -5.4550461769104,
          -4.653466701507568,
          -7.816516876220703,
          -7.873632907867432,
          -8.05756664276123,
          -8.232686042785645,
          -8.465692520141602,
          -8.533182144165039,
          -6.610861778259277,
          -7.148318767547607,
          -8.757551193237305,
          -8.939807891845703,
          -8.34610366821289,
          -6.903353214263916,
          -8.253994941711426,
          -6.799243450164795,
          -5.6660237312316895,
          -7.3071184158325195,
          -9.197243690490723,
          -7.7909440994262695,
          -6.192414283752441,
          -8.210780143737793,
          -3.644906997680664,
          -9.287796974182129,
          -8.198301315307617,
          -8.99013614654541,
          -9.231751441955566,
          -8.373960494995117,
          -6.451927185058594,
          -8.025521278381348,
          -6.890347957611084,
          -5.815642833709717,
          -9.520633697509766,
          -8.035237312316895,
          -3.639132022857666,
          -7.976108074188232,
          -7.445706367492676,
          -8.422005653381348,
          -5.674907684326172,
          -7.502383232116699,
          -8.187821388244629,
          -7.994554042816162,
          -8.159090995788574,
          -6.337287902832031,
          -8.12955093383789,
          -9.673216819763184,
          -5.545654773712158,
          -6.789212703704834,
          -8.0007963180542,
          -8.998520851135254,
          -6.756811141967773,
          -6.209837913513184,
          -5.944256782531738,
          -4.419976234436035,
          -5.0269694328308105,
          -7.410003662109375,
          -7.846810340881348,
          -8.481959342956543,
          -7.660721302032471,
          -4.538491249084473,
          -8.793601036071777,
          -8.022859573364258,
          -7.227408409118652,
          -4.670970439910889,
          -7.618500232696533,
          -9.113216400146484,
          -9.2315092086792,
          -7.31289529800415,
          -9.06406021118164,
          -8.86686897277832,
          -4.316050052642822,
          -2.591601610183716,
          -8.827454566955566,
          -9.18468952178955,
          -6.18174409866333,
          -7.988093376159668,
          -7.038554668426514,
          -4.766595840454102,
          -6.869234561920166,
          -4.529443264007568,
          -7.140552043914795,
          -8.446616172790527,
          -7.0911664962768555,
          -9.316370964050293,
          -7.785729885101318,
          -9.298469543457031,
          -8.3572416305542,
          -6.244487285614014,
          -8.165749549865723,
          -7.930133819580078,
          -8.634499549865723,
          -4.889150142669678,
          -4.77488374710083,
          -4.409559726715088,
          -9.684341430664062,
          -3.6638314723968506,
          -7.534942626953125,
          -9.586379051208496,
          -7.030095100402832,
          -9.275459289550781,
          -9.25251579284668,
          -5.03217077255249,
          -8.237479209899902,
          -8.916254997253418,
          -8.365294456481934,
          -8.33189868927002,
          -8.523289680480957,
          -7.668108940124512,
          -6.829078674316406,
          -8.35799789428711,
          -6.452756881713867,
          -8.475656509399414,
          -8.380986213684082,
          -8.46369743347168,
          -4.349681377410889,
          -6.266455173492432,
          -8.804696083068848,
          -6.709228515625,
          -7.599178314208984,
          -4.701952934265137,
          -8.461638450622559,
          -8.621243476867676,
          -7.306384563446045,
          -9.051642417907715,
          -2.2505433559417725,
          -9.042478561401367,
          -9.068235397338867,
          -8.644647598266602,
          -4.644752025604248,
          -8.239623069763184,
          -6.895696640014648,
          -7.468483924865723
         ],
         "y": [
          9.219498634338379,
          8.429449081420898,
          6.770964622497559,
          10.018230438232422,
          11.052937507629395,
          8.23260498046875,
          11.083399772644043,
          8.788820266723633,
          10.240460395812988,
          10.409135818481445,
          7.317073345184326,
          8.01500415802002,
          10.065495491027832,
          9.133587837219238,
          6.965152263641357,
          9.730544090270996,
          10.613386154174805,
          9.363834381103516,
          8.463766098022461,
          6.859851360321045,
          7.621870994567871,
          7.612971782684326,
          8.501328468322754,
          10.030523300170898,
          9.721101760864258,
          10.435879707336426,
          9.275919914245605,
          7.837364673614502,
          8.86567497253418,
          8.807860374450684,
          9.024099349975586,
          7.391912937164307,
          8.315677642822266,
          8.521805763244629,
          6.621813774108887,
          8.258666038513184,
          9.486495971679688,
          9.088083267211914,
          8.385275840759277,
          6.8858208656311035,
          9.707942962646484,
          10.330967903137207,
          11.873479843139648,
          9.857353210449219,
          9.08719253540039,
          10.378960609436035,
          11.075427055358887,
          9.968168258666992,
          13.00512981414795,
          9.789628982543945,
          6.912292957305908,
          8.046683311462402,
          11.304417610168457,
          9.636029243469238,
          8.853763580322266,
          10.357953071594238,
          9.154069900512695,
          8.906392097473145,
          9.833438873291016,
          9.247854232788086,
          8.227152824401855,
          10.496606826782227,
          7.658988952636719,
          8.653841972351074,
          10.974559783935547,
          10.390987396240234,
          7.079808712005615,
          9.41933822631836,
          10.991460800170898,
          9.903743743896484,
          9.268217086791992,
          9.471224784851074,
          12.377367973327637,
          10.956242561340332,
          9.381115913391113,
          9.705573081970215,
          9.898794174194336,
          9.973857879638672,
          10.459046363830566,
          10.877504348754883,
          9.003393173217773,
          8.442848205566406,
          8.012850761413574,
          6.664543151855469,
          8.247034072875977,
          10.662922859191895,
          10.852679252624512,
          9.363533973693848,
          9.011943817138672,
          9.543269157409668,
          6.962239742279053,
          10.14523983001709,
          10.03072738647461,
          9.59774112701416,
          10.525683403015137,
          7.982430934906006,
          11.550575256347656,
          9.973150253295898,
          7.873238563537598,
          9.388714790344238,
          10.58385181427002,
          8.907998085021973,
          10.842591285705566,
          6.288050651550293,
          10.74213981628418,
          12.723024368286133,
          9.39791202545166,
          9.680401802062988,
          9.868993759155273,
          9.987845420837402,
          9.892721176147461,
          12.165871620178223,
          9.209575653076172,
          6.3197102546691895,
          10.925225257873535,
          9.39761734008789,
          8.867542266845703,
          9.747319221496582,
          10.609367370605469,
          8.991992950439453,
          8.979707717895508,
          8.746245384216309,
          8.578557968139648,
          10.904284477233887,
          8.388556480407715,
          8.565587997436523,
          8.09355640411377,
          10.330657005310059,
          9.089214324951172,
          9.498224258422852,
          10.370655059814453,
          9.651164054870605,
          8.998564720153809,
          9.565159797668457,
          8.823119163513184,
          10.581592559814453,
          9.619653701782227,
          7.278961181640625,
          9.698317527770996,
          10.076122283935547,
          9.2604341506958,
          8.288817405700684,
          10.20746898651123,
          10.925816535949707,
          9.490272521972656,
          8.781045913696289,
          9.906728744506836,
          7.843141078948975,
          9.75717544555664,
          7.99137544631958,
          9.991840362548828,
          6.978705883026123,
          9.71830940246582,
          12.761518478393555,
          8.907397270202637,
          8.218801498413086,
          9.435277938842773,
          7.492432594299316,
          9.966463088989258,
          10.536869049072266,
          9.319607734680176,
          8.517165184020996,
          10.539878845214844,
          11.198140144348145,
          8.49640941619873,
          10.913982391357422,
          10.086769104003906,
          9.645663261413574,
          9.929197311401367,
          9.041133880615234,
          9.765114784240723,
          7.424015522003174,
          9.91955280303955,
          11.077522277832031,
          8.868528366088867,
          7.89597749710083,
          9.479815483093262,
          10.505342483520508,
          9.028507232666016,
          9.250011444091797,
          11.574746131896973,
          9.216691017150879,
          10.071269989013672,
          8.449312210083008,
          9.355114936828613,
          6.291067600250244,
          8.15688705444336,
          8.11181354522705,
          6.716631889343262,
          9.22598648071289,
          10.583121299743652,
          8.239158630371094,
          6.826993942260742,
          8.726898193359375,
          10.001302719116211,
          6.716763019561768,
          9.622244834899902,
          10.206368446350098,
          10.148758888244629,
          9.23743724822998,
          8.534749984741211,
          8.493307113647461,
          10.903006553649902,
          9.84134578704834,
          7.160494327545166,
          9.029266357421875,
          9.313501358032227
         ]
        },
        {
         "hoverinfo": "text",
         "hovertext": [
          "interesting knock",
          "definitely",
          "good world",
          "absolutely",
          "definitely",
          "perfect description",
          "interesting",
          "fine",
          "interesting",
          "nice",
          "problem great nice",
          "good",
          "interesting observe myself",
          "fun",
          "right",
          "cool",
          "interesting",
          "correct",
          "nice",
          "easy",
          "good",
          "easy nice",
          "positive",
          "pretty",
          "absolutely",
          "interesting",
          "ok",
          "fine fine",
          "pretty",
          "interesting publish",
          "easy myself",
          "fun",
          "basically",
          "free",
          "absolutely fine",
          "interesting",
          "nice",
          "easy compassion myself",
          "good wow",
          "easy",
          "cool",
          "easy easy imagine",
          "difficult",
          "definitely find easy situation easy",
          "probable",
          "fun nice",
          "nice interesting",
          null
         ],
         "marker": {
          "opacity": 0.5,
          "size": 5
         },
         "mode": "markers+text",
         "name": "0_interesting_easy_nice",
         "text": [
          "",
          "",
          "",
          "",
          "",
          "",
          "",
          "",
          "",
          "",
          "",
          "",
          "",
          "",
          "",
          "",
          "",
          "",
          "",
          "",
          "",
          "",
          "",
          "",
          "",
          "",
          "",
          "",
          "",
          "",
          "",
          "",
          "",
          "",
          "",
          "",
          "",
          "",
          "",
          "",
          "",
          "",
          "",
          "",
          "",
          "",
          "",
          "0_interesting_easy_nice"
         ],
         "textfont": {
          "size": 12
         },
         "type": "scattergl",
         "x": [
          -4.461297035217285,
          -2.062035083770752,
          -2.771235227584839,
          -2.0772147178649902,
          -2.0749294757843018,
          -2.419612407684326,
          -1.4032886028289795,
          -2.552861213684082,
          -1.40023934841156,
          -2.368722915649414,
          -2.625617027282715,
          -2.506491184234619,
          -1.40080726146698,
          -2.049100875854492,
          -2.065351963043213,
          -2.3705129623413086,
          -1.3998101949691772,
          -1.9361566305160522,
          -2.3849399089813232,
          -1.7585619688034058,
          -2.5245015621185303,
          -1.7942469120025635,
          -2.188265562057495,
          -2.37697696685791,
          -2.0781896114349365,
          -1.4413663148880005,
          -2.4986724853515625,
          -2.5897440910339355,
          -2.419579267501831,
          -1.3792530298233032,
          -1.7394851446151733,
          -2.062018871307373,
          -2.3746089935302734,
          -2.103764295578003,
          -2.560044050216675,
          -1.402197003364563,
          -2.379513740539551,
          -1.774267554283142,
          -2.5266170501708984,
          -1.776802897453308,
          -2.371204376220703,
          -1.7575500011444092,
          -1.716813087463379,
          -1.7410088777542114,
          -2.1522414684295654,
          -2.1277313232421875,
          -1.394680142402649,
          -2.1136200428009033
         ],
         "y": [
          7.931850910186768,
          9.17007827758789,
          9.62214183807373,
          9.174700736999512,
          9.19381332397461,
          8.76333236694336,
          8.851628303527832,
          9.440763473510742,
          8.844316482543945,
          9.824432373046875,
          9.55582046508789,
          9.52587890625,
          8.845918655395508,
          9.724592208862305,
          9.168851852416992,
          9.81967544555664,
          8.843374252319336,
          9.04636001586914,
          9.827617645263672,
          10.135148048400879,
          9.497929573059082,
          10.102304458618164,
          9.317184448242188,
          9.862480163574219,
          9.177953720092773,
          8.880536079406738,
          9.43559455871582,
          9.463868141174316,
          9.869824409484863,
          8.811502456665039,
          10.161033630371094,
          9.732422828674316,
          8.807969093322754,
          9.605952262878418,
          9.426859855651855,
          8.849611282348633,
          9.857726097106934,
          10.172380447387695,
          9.545870780944824,
          10.119242668151855,
          9.795289039611816,
          10.129474639892578,
          10.165653228759766,
          10.155309677124023,
          9.250898361206055,
          9.750182151794434,
          8.84228229522705,
          9.448885917663574
         ]
        },
        {
         "hoverinfo": "text",
         "hovertext": [
          "beginning certain point start look tree observe start sleep",
          "concentrated",
          "ok fascinating definitely practice decentere myself lose focus need work",
          "come come crescendo stick right away read myself concentrate body moment",
          "practice regularly compassion regularly imagine practice elicit feeling reaction easily practice foreign concept try elicit spot life changingly immediately",
          "concentrate remove thought emotion positive negative",
          "meditate open surprised observe myself",
          "difficult example let concentrate leg start leg try leg super easy myself focused leg focus heart super easy example leg bad let focus leg need leg need focus leg need leg order focus leg distract start leg order focus leg",
          "look tree fastly attention",
          "intensely eye closed receptive open eye potentially lose focus wander beautiful tree forget instruction need follow ear definitely prefer eye close",
          "honest body concentrate happen moment meditate normal distract din't compelling myslef compelling meditate basically concentrate moment myself singular meditating",
          "point point suppose suppose look nature focus",
          "point eye open face nature focus rock focus",
          "try hand hand hand hand nah nah try true reality point start observe stare myself close eye prefer intake eye close understand fact open eye prefer close",
          "definitely follow effort spend follow open look body lot easy pinpoint attention distract able follow step distract lot easy",
          "focused",
          "focus myself exercise yourself heart brain leg myself able focus image start image zine image remind myself focus totally focused exercise",
          "term try focus specific body past generally lot focus breathing try concentrate specific area",
          "realm relaxing easy follow induce sense ease diminish spend wait track track start instead focus induce feeling want focus spend got come partially successful sense able relax step instruct try induce feeling",
          "guess relate look place visit year moment distract start trip try focus task",
          "impact touching focus match focus forget rest focus tooth care tooth cool blink",
          "absolutely fight meditate try cut sense disconect outside world earplug usually close eye focus body",
          "zone stuff whithout distract",
          "gain focus tempt point forget body focus come come light moment forget breathe forget breathing focus personally understand focus different good stop focus try stop anybody stop nice focus breathe heart",
          "eye close find lot hard lot hard stay track guess stay focused minute step chaotic brain guess eye close compare eye open find myself drift lot lot easy drift suppose ignore thought sense eye open lot easy focus attention",
          "focus myself focus instruction eye closed hear strong hear type distract difficult eye close pay attention outside focus pay attention happen extremely focused follow section myself sensation start single let start",
          "good relate lot example focus lot relate focus precise",
          "find body strange express forest meditate close eye focus watch focus wow",
          "bunch stuff topic lot jump forth topic easy easy apply mindfulness bodily sensation cognition notice massive difference start begin flexibility cognitively let thought pass oppose getting stick judge notice big change notice notice change body gradual relaxation body",
          "use yoga class try guide youtube properly",
          "concentrate",
          "focused",
          "beginning concentrate body lose focus beginning",
          "help help focus talk raise hand hand raising help",
          "beginning look try follow voice allow myself follow goal",
          "guess sense able picture find myself focus head look head easy picture maintain focus image eye close head try probably pop head lot easy image head easily displace thought stare head anchor strongly hard stare",
          "try medidate notice brain need fight distract bring stupid thinking buy shop fight try focus focus body eventually conection disconection hope",
          "speak right voice low pitch calm close eye instinctively",
          "beginning control myself attention place slow slow unusual myself normally mirror rest imagine absolutely new position myself surprise concentrate body",
          "lot easy maintain focus expect long element new easy try stay moment",
          "having able look head chest distraction able focus cultivate feeling direct intended generate self compassion opposite effect eye close distract annoy distract suppose detract away task self compassion guess incorporate concentrate ability suppose distract annoy distract",
          "distract especially beginning body point",
          "tense beginning improve good enjoy eye open expect myself easy visualize body sensation prefer eye close",
          "physically focus",
          "focus leg imagine leg find easy eye shut visualize leg",
          "relax able eye open look guess remember eye close focus voice hear calm personal",
          null
         ],
         "marker": {
          "opacity": 0.5,
          "size": 5
         },
         "mode": "markers+text",
         "name": "1_focus_leg_eye",
         "text": [
          "",
          "",
          "",
          "",
          "",
          "",
          "",
          "",
          "",
          "",
          "",
          "",
          "",
          "",
          "",
          "",
          "",
          "",
          "",
          "",
          "",
          "",
          "",
          "",
          "",
          "",
          "",
          "",
          "",
          "",
          "",
          "",
          "",
          "",
          "",
          "",
          "",
          "",
          "",
          "",
          "",
          "",
          "",
          "",
          "",
          "",
          "1_focus_leg_eye"
         ],
         "textfont": {
          "size": 12
         },
         "type": "scattergl",
         "x": [
          -8.015525817871094,
          -8.669351577758789,
          -8.68698501586914,
          -8.774703979492188,
          -8.437076568603516,
          -8.54552936553955,
          -8.952401161193848,
          -8.622157096862793,
          -8.001108169555664,
          -7.950140953063965,
          -8.676027297973633,
          -8.189977645874023,
          -8.225211143493652,
          -8.5316743850708,
          -8.606350898742676,
          -8.650734901428223,
          -8.678208351135254,
          -8.58454418182373,
          -8.34174919128418,
          -8.142041206359863,
          -8.403376579284668,
          -8.556259155273438,
          -8.73786449432373,
          -8.548540115356445,
          -8.143167495727539,
          -8.68303108215332,
          -8.18740177154541,
          -8.83282470703125,
          -8.267204284667969,
          -8.89041519165039,
          -8.682928085327148,
          -8.658184051513672,
          -8.693198204040527,
          -8.643047332763672,
          -8.870827674865723,
          -8.126264572143555,
          -8.520771026611328,
          -8.271123886108398,
          -8.990001678466797,
          -8.43001651763916,
          -8.669633865356445,
          -8.737234115600586,
          -8.543754577636719,
          -8.630666732788086,
          -8.504528045654297,
          -8.3439359664917,
          -8.51842975616455
         ],
         "y": [
          11.997118949890137,
          12.185080528259277,
          11.396574020385742,
          11.602166175842285,
          11.44491958618164,
          11.501519203186035,
          10.935050010681152,
          11.743021965026855,
          11.994854927062988,
          11.947547912597656,
          11.586506843566895,
          12.171599388122559,
          12.223809242248535,
          11.341669082641602,
          11.333320617675781,
          12.195952415466309,
          11.650644302368164,
          11.696481704711914,
          11.124286651611328,
          11.724703788757324,
          12.152493476867676,
          11.570019721984863,
          11.779791831970215,
          11.597480773925781,
          11.826720237731934,
          11.627704620361328,
          12.208534240722656,
          10.946847915649414,
          10.761083602905273,
          11.137076377868652,
          12.141108512878418,
          12.1899995803833,
          12.10140323638916,
          11.733171463012695,
          11.169734954833984,
          11.806815147399902,
          11.488954544067383,
          11.494637489318848,
          10.959733963012695,
          11.661078453063965,
          11.509105682373047,
          11.770337104797363,
          11.24129867553711,
          12.131209373474121,
          11.833264350891113,
          11.637275695800781,
          11.658123970031738
         ]
        },
        {
         "hoverinfo": "text",
         "hovertext": [
          "calm calm",
          "come cool cool comeback",
          "person sit",
          "sleep",
          "fall asleep",
          "tiredness",
          "calm body",
          "ready sip water cushion",
          "head relax",
          "relaxed",
          "super nice relax want sleep point",
          "relaxed",
          "sleep easily",
          "true peaceful image calming relaxed",
          "calm",
          "relaxed afraid fall sleep good afraid fall asleep worry fall asleep voice tone voice relax hard relax relaxing want fall asleep sleep yesterday sleep worried nice myself body",
          "relax relax open release stress intense",
          "realize miss couple word relaxed eye close start sleepy",
          "place real relax",
          "overall pleasant setting",
          "session relaxing",
          "session",
          "fine sit",
          "close close close eye sleepy",
          "episode",
          "session",
          "relief relief absolutely",
          "problem comfortable",
          "relaxed",
          "edge fall asleep",
          "new expect peace relax alert want fall asleep good",
          "fact fact clear stress stress good",
          "calm want sleep",
          "help relax",
          "sleepy",
          "calm",
          "confortable myself position comfortable",
          "peaceful",
          "general person sit",
          "good sleepy usual",
          "general city calm",
          "annoy properly foggy tired",
          "session calm rest",
          "comfortable",
          "relief",
          "relax video great short nice focus",
          null
         ],
         "marker": {
          "opacity": 0.5,
          "size": 5
         },
         "mode": "markers+text",
         "name": "2_relax_fall_sleep",
         "text": [
          "",
          "",
          "",
          "",
          "",
          "",
          "",
          "",
          "",
          "",
          "",
          "",
          "",
          "",
          "",
          "",
          "",
          "",
          "",
          "",
          "",
          "",
          "",
          "",
          "",
          "",
          "",
          "",
          "",
          "",
          "",
          "",
          "",
          "",
          "",
          "",
          "",
          "",
          "",
          "",
          "",
          "",
          "",
          "",
          "",
          "",
          "2_relax_fall_sleep"
         ],
         "textfont": {
          "size": 12
         },
         "type": "scattergl",
         "x": [
          -4.6605000495910645,
          -4.578003406524658,
          -4.536653995513916,
          -5.598809719085693,
          -5.607107639312744,
          -5.728166580200195,
          -4.674395561218262,
          -4.557370662689209,
          -4.920351982116699,
          -4.819676876068115,
          -5.513179779052734,
          -4.839156150817871,
          -5.64547872543335,
          -4.841085433959961,
          -4.633066177368164,
          -5.916681289672852,
          -4.832615375518799,
          -6.1763129234313965,
          -5.148195743560791,
          -5.175241470336914,
          -4.993362903594971,
          -5.077066421508789,
          -4.550110816955566,
          -5.900786876678467,
          -5.048812389373779,
          -5.039953231811523,
          -4.796016693115234,
          -4.563652038574219,
          -4.788640022277832,
          -5.638415813446045,
          -5.751941204071045,
          -4.820872783660889,
          -5.505492687225342,
          -4.81837797164917,
          -5.6931328773498535,
          -4.650448799133301,
          -4.551246643066406,
          -4.615325927734375,
          -4.539523601531982,
          -5.609030723571777,
          -4.8495564460754395,
          -5.750323295593262,
          -4.926355361938477,
          -4.574145317077637,
          -4.771198749542236,
          -4.824814796447754,
          -5.066318511962891
         ],
         "y": [
          12.15390396118164,
          12.116776466369629,
          11.311405181884766,
          12.644250869750977,
          12.645813941955566,
          12.774658203125,
          12.239724159240723,
          11.341501235961914,
          11.943472862243652,
          11.95462703704834,
          12.539414405822754,
          11.967321395874023,
          12.660202980041504,
          11.982525825500488,
          12.202101707458496,
          12.485832214355469,
          12.031551361083984,
          12.538695335388184,
          11.394007682800293,
          11.262463569641113,
          11.588132858276367,
          11.506213188171387,
          11.351142883300781,
          12.84843921661377,
          11.502152442932129,
          11.551522254943848,
          11.915864944458008,
          11.354195594787598,
          12.005705833435059,
          12.653286933898926,
          12.532041549682617,
          12.128243446350098,
          12.530479431152344,
          12.034117698669434,
          12.75413990020752,
          12.194193840026855,
          11.319646835327148,
          12.211194038391113,
          11.307350158691406,
          12.666596412658691,
          11.887969970703125,
          12.814133644104004,
          11.805052757263184,
          11.373766899108887,
          11.918668746948242,
          11.959046363830566,
          12.041380882263184
         ]
        },
        {
         "hoverinfo": "text",
         "hovertext": [
          "understand differently today want life illusion game forgot illusion buddhist high level student today happy peaceful wrong problem night dream butterfly understand illusion life butterfly today illusion change different different virtual reality imagination trust need need touch smell different reality cute direction extremely cool concentration profound thinking",
          "a. consider warm feeling complete change mentality elicit feeling gratitude yourself step minor",
          "double safe hide real life live car life straight away frightening safe repeat safe hear confirm good fine visually sound nature voice nice opinion nice future create buy example buy dress different dress sporty classic virtual reality game press information program right thousand franc setting interesting future need store need need place good",
          "lot detail feeling feeling word mouth",
          "attention straight idea myself train mother observation observe reality place emotion picture different minute boring want want vibrant energy reality",
          "natural easy identify able identify right beginning attached easy body therapeutic nice perspective realise soul",
          "breath look brighter breathe oxygen breathe fade interesting want disappear breathe completely dissolve task definition sense task dark sense dark dark long dark room concept film dark walk person darkness interact dissolve person remind stranger walk wet floor dark stranger",
          "complete word use interesting relate lot",
          "example search job month unlucky find god manage suck figure aspect self criticism",
          "profound hear voice yourself outside disturbing example lot osteopath work colaboration start press body relax basically relax problem interesting yourself outside easy focus body outside interesting able visualize body outside let pain outside understand inside precise past correspond reality probably interception different different feeling outside process probably different guess different system probably describe definitely visualize outside",
          "situation introspective try push thought drift envision sense introspective",
          "moment room room talk instruction familiar change clothe suddenly environment change open eye forest strange",
          "let unexpected surprising moment realize disconnect getting disconnected body basically stay observe specific moment lot emotion come lot trouble moment try deal leave weird feeling basically big environment observe big big len interesting frightening oof earth reconnecte body discuss feeling connection reason mind reconnecte body",
          "lot participant study lot different person",
          "guess fear bodily sensation thought fear overwhelm able handle practice lot tap bodily sensation non judgmental scared embrace unfamiliar definitely sensation",
          "characterize nutshell incertitude certitude term react confident slow able trust myself practice able open armed stuff",
          "start different stuff mirror far close mirror sensation different quality body puzzle life god profoundly good example idea button home room office room virtual reality extremely high level picture good speaker sound buy room",
          "characteristic life body body barrier piece paper intensely separated distinctly body clean distinction non oneness stuff",
          "thunder thunder special click noise silence shock come astral journey outside travel astral journey travel rest need thought astral travel far journey mind travel",
          "hard look cross switch questionnaire stay answer automatically work",
          "real memory vivid bird sound forest remind bird sound home enhance emotion strong real dream dream emotional good expect peaceful draw attention surrounding super peaceful jump body entity currently body body touch touch body currently jump space look shell shell concrete stick solid barrier shell ghost physical real solid",
          "instability uncertainty interesting word use torment happen certitude relate",
          "separate separate yourself separate consciousness consciousness yourself different moment understand anymore",
          "lot emotion happen myself wave emotion myself real suddenly wave self love compassion believe exist want person sad stress sit forest adorable realise self love want perspective myself want protect myself weird come look emotional protective realise body life struggle mind body dissociation mind body right realise body exist separate having separate myself body realise body hard explain entity task",
          "real spiritual unnatural surrounding psychological connection forest therapeutic effect connect mind body real impactful sense abstract dream spiritual connection try find relationship yourself real life",
          "use idea experiment",
          "love sport sport hamam detach yourself reality reality compulsive thinking everybody love sadhguru sadhguru indian relax fun day train travel lot scenery understand normally reality mood deliberately spontaneously",
          "connected hand foot eye everyday sense use day explain sense use day sense use certain extent example voice pay attention specific color shape change shape right voice pay attention realize change light relaxing interesting enjoy",
          "glass physically want want come boring peaceful nice need come feeling unusual find myself extremely bored extremely calm relaxed",
          "example try identify myself focus focus forget focus avatar loss focus body forget body come constant let self come probably different region brain activate different feeling reality want body dream type change",
          "point meditate gear disturbing completely dissociate outside gear eye close disassociate room place virtual reality myself watch virtual reality easy focus body focus stay room inner eye close clear room relate person obviously previous close eye space mind hard relate focus attention leg heart mind main difference find elena strange answer relate myself relate angry compassionate answer general",
          "change interesting empower myself state change change perception self able myself state state achieve feeling outer body contribute sense calm guess control wrong word mindfulness allow guess scared sit upright close myself certain sensation thought",
          "exploration normally deep tree picture relaxation look detail nice idea distract myself thought completely blank beautiful world want sleep calm notice notice breath sport swimming breathe swim notice change breathe myself extremely slow different",
          "different forest instead observer inside body lot aware surrounding relation surrounding task relationship myself task forest feeling memory stuff scene garden twin sister hug vivid vivid ordinary memory",
          "nice option version reality illusion confirmation sophisticated virtual reality stuff 100 believe live today illusion extreme peace worry participation game change role apparently fast switch",
          "image 3d image appear point word telepathy trip dream example dream dream talk telepathy communicate world realize appear necessarily control control astral journey want body explain myself understand lsd lsd castaneda write book pretty clear program yourself ok",
          "real dissolve away personally personality bright",
          "peaceful unusual thought day separate body myself day separate yourself early interesting outside normally reason myself mirror feeling experiment slowly emotionally peaceful nice different different",
          "body absolutely thought head guess prime possibility start realize true especially touch attached vision realize myself close close body soul body lean notice allow myself notice lean connect vision body body look entity body fair body presence mind",
          "right nature set stage understand competent task answer competent task",
          "cry nervous weird let outside observe environment plus body big person big picture large picture ability look good sense frightening feeling stay reconnecte fact myself outside come touch myself",
          "example questionnaire virtual reality notice answer self love let eye open earth love self love",
          "use idea leave body metaphysical spiritual yourself body confusing bad shocking nature setting finish body integrate",
          "differ different relate physical love body watch myself find easy relate thought mind instead feeling thinking body",
          null
         ],
         "marker": {
          "opacity": 0.5,
          "size": 5
         },
         "mode": "markers+text",
         "name": "3_reality_body_different",
         "text": [
          "",
          "",
          "",
          "",
          "",
          "",
          "",
          "",
          "",
          "",
          "",
          "",
          "",
          "",
          "",
          "",
          "",
          "",
          "",
          "",
          "",
          "",
          "",
          "",
          "",
          "",
          "",
          "",
          "",
          "",
          "",
          "",
          "",
          "",
          "",
          "",
          "",
          "",
          "",
          "",
          "",
          "",
          "",
          "",
          "3_reality_body_different"
         ],
         "textfont": {
          "size": 12
         },
         "type": "scattergl",
         "x": [
          -8.287508964538574,
          -7.953158378601074,
          -8.395641326904297,
          -7.941356658935547,
          -8.416768074035645,
          -7.976607322692871,
          -8.427278518676758,
          -8.049683570861816,
          -8.00774097442627,
          -8.391888618469238,
          -8.353858947753906,
          -8.783234596252441,
          -9.063227653503418,
          -9.219547271728516,
          -8.132057189941406,
          -8.212363243103027,
          -8.421058654785156,
          -8.700997352600098,
          -8.419537544250488,
          -9.10979175567627,
          -8.49882984161377,
          -8.056032180786133,
          -8.982029914855957,
          -8.656559944152832,
          -8.993457794189453,
          -9.153619766235352,
          -8.064007759094238,
          -8.602219581604004,
          -8.350817680358887,
          -8.776935577392578,
          -8.63033676147461,
          -8.476819038391113,
          -8.334489822387695,
          -8.50296688079834,
          -8.274124145507812,
          -8.574333190917969,
          -8.05807113647461,
          -8.384613990783691,
          -8.671198844909668,
          -8.22849178314209,
          -8.294846534729004,
          -8.97319221496582,
          -8.987189292907715,
          -7.803205966949463,
          -8.46799373626709
         ],
         "y": [
          10.08232307434082,
          10.271150588989258,
          10.026369094848633,
          10.071975708007812,
          10.161798477172852,
          10.581924438476562,
          10.289609909057617,
          10.183362007141113,
          10.246475219726562,
          9.868206024169922,
          10.30056381225586,
          9.789617538452148,
          10.074573516845703,
          9.687881469726562,
          9.814830780029297,
          10.597464561462402,
          10.070501327514648,
          10.167242050170898,
          10.240538597106934,
          10.085454940795898,
          10.248562812805176,
          10.278739929199219,
          10.091401100158691,
          10.002021789550781,
          10.106876373291016,
          9.795074462890625,
          10.217453956604004,
          10.101607322692871,
          10.122712135314941,
          9.905887603759766,
          10.05136489868164,
          10.18301010131836,
          10.229633331298828,
          10.017827987670898,
          9.876876831054688,
          10.09118938446045,
          10.483573913574219,
          10.19550609588623,
          10.00834846496582,
          10.606767654418945,
          9.819664001464844,
          10.069365501403809,
          10.135986328125,
          10.345272064208984,
          10.127195358276367
         ]
        },
        {
         "hoverinfo": "text",
         "hovertext": [
          "real body",
          "light come heavy wow intense nice light want come body",
          "half body start half",
          "body body body body weird expect body appear",
          "body strange",
          "dream dream body",
          "body",
          "helpful leave thought heavy pack body",
          "different body",
          "body",
          "weird body imagine representation body",
          "come body noise come come",
          "body",
          "body clearly identify",
          "body",
          "lag body",
          "absolutely body expand boundary",
          "body",
          "body",
          "weird body",
          "difference body",
          "light body purpose effective",
          "hard phrase hard phrase body hard",
          "heavy",
          "beginning body",
          "cool body afar underneath interesting",
          "inside outside body dark",
          "heavy light scene heavy weight body",
          "light",
          "heavier",
          "leg",
          "outside outside outside body",
          "body",
          "nice prefer strange body",
          "body",
          "body",
          "probably concentrate body concentrate look din't pay attention weight",
          null
         ],
         "marker": {
          "opacity": 0.5,
          "size": 5
         },
         "mode": "markers+text",
         "name": "4_body_heavy_light",
         "text": [
          "",
          "",
          "",
          "",
          "",
          "",
          "",
          "",
          "",
          "",
          "",
          "",
          "",
          "",
          "",
          "",
          "",
          "",
          "",
          "",
          "",
          "",
          "",
          "",
          "",
          "",
          "",
          "",
          "",
          "",
          "",
          "",
          "",
          "",
          "",
          "",
          "",
          "4_body_heavy_light"
         ],
         "textfont": {
          "size": 12
         },
         "type": "scattergl",
         "x": [
          -9.760536193847656,
          -8.98314094543457,
          -9.740753173828125,
          -9.146455764770508,
          -8.717950820922852,
          -9.813126564025879,
          -9.815789222717285,
          -9.064347267150879,
          -9.383976936340332,
          -9.790667533874512,
          -9.017097473144531,
          -9.482572555541992,
          -9.835349082946777,
          -9.57125473022461,
          -9.812423706054688,
          -9.519786834716797,
          -9.70541000366211,
          -9.810779571533203,
          -9.778815269470215,
          -8.933568000793457,
          -9.610193252563477,
          -8.950404167175293,
          -9.85252857208252,
          -9.061338424682617,
          -9.783225059509277,
          -8.851186752319336,
          -9.091658592224121,
          -9.072591781616211,
          -8.942254066467285,
          -9.082427978515625,
          -9.646531105041504,
          -9.78074836730957,
          -9.826902389526367,
          -8.879268646240234,
          -9.832880020141602,
          -9.826239585876465,
          -9.233601570129395,
          -9.432642936706543
         ],
         "y": [
          6.216867446899414,
          6.099748611450195,
          6.326357364654541,
          6.784855842590332,
          7.107388496398926,
          6.166245937347412,
          6.169893264770508,
          6.02957820892334,
          6.402791976928711,
          6.144344329833984,
          7.259578227996826,
          6.5489373207092285,
          6.16351842880249,
          6.32714319229126,
          6.155611991882324,
          6.419102191925049,
          6.6248393058776855,
          6.16941499710083,
          6.190800666809082,
          6.95914363861084,
          6.2413153648376465,
          6.103601455688477,
          6.118708610534668,
          6.023676872253418,
          6.288107395172119,
          7.092820167541504,
          6.621651649475098,
          6.031060695648193,
          6.127817153930664,
          6.027144432067871,
          6.317806720733643,
          6.2041826248168945,
          6.19095516204834,
          7.017560005187988,
          6.145169734954834,
          6.1561198234558105,
          6.003412246704102,
          6.35073709487915
         ]
        },
        {
         "hoverinfo": "text",
         "hovertext": [
          "difference",
          "try difference hard",
          "different direction",
          "live anymore",
          "color come myself white gray imagination find yellow orange come yellow",
          "notice change color",
          "difference",
          "link breath dark",
          "yellow color blue color",
          "difference color head signal send rest look similar coat color clothe upper red wear jean let sit position sit",
          "hand different color",
          "challet person tutor notice high stylish change",
          "technology point color point bright",
          "angle different",
          "normal",
          "familiar repeat difference",
          "color wear trouser t shirt different color",
          "different normal",
          "yellow deep breath",
          "different color",
          "thought normal image",
          "color change fact experiment send signal receive aware situation relate",
          "different",
          "pixel body color change light darker",
          "color t shirt hair look",
          "different",
          "normal normal",
          "body color clothe gesture image",
          "nice focus change color grass notice realize color change",
          null
         ],
         "marker": {
          "opacity": 0.5,
          "size": 5
         },
         "mode": "markers+text",
         "name": "5_color_yellow_normal",
         "text": [
          "",
          "",
          "",
          "",
          "",
          "",
          "",
          "",
          "",
          "",
          "",
          "",
          "",
          "",
          "",
          "",
          "",
          "",
          "",
          "",
          "",
          "",
          "",
          "",
          "",
          "",
          "",
          "",
          "",
          "5_color_yellow_normal"
         ],
         "textfont": {
          "size": 12
         },
         "type": "scattergl",
         "x": [
          -4.897707462310791,
          -4.8872389793396,
          -5.08019495010376,
          -5.129471302032471,
          -5.825551509857178,
          -5.712951183319092,
          -4.92193603515625,
          -6.408559322357178,
          -5.827054500579834,
          -5.659251689910889,
          -6.032461166381836,
          -5.690139293670654,
          -5.881033420562744,
          -5.1178154945373535,
          -5.1878790855407715,
          -5.020895004272461,
          -5.834156036376953,
          -5.156757831573486,
          -6.194440841674805,
          -5.425160884857178,
          -5.3079729080200195,
          -5.727497100830078,
          -4.9536848068237305,
          -5.794672012329102,
          -5.841020584106445,
          -4.954402446746826,
          -5.1988749504089355,
          -6.039374351501465,
          -5.821574687957764,
          -5.501025676727295
         ],
         "y": [
          7.212667465209961,
          7.242733001708984,
          7.432929515838623,
          6.78199577331543,
          7.584216594696045,
          7.492542266845703,
          7.213918685913086,
          7.584685802459717,
          7.563453197479248,
          7.4898600578308105,
          7.819276332855225,
          7.610048294067383,
          7.448744297027588,
          7.322730541229248,
          6.759929180145264,
          7.074853420257568,
          7.62501859664917,
          6.8498454093933105,
          7.606047630310059,
          7.369793891906738,
          6.70128059387207,
          7.477344512939453,
          7.27501106262207,
          7.403696060180664,
          7.629751205444336,
          7.205791473388672,
          6.765783786773682,
          7.766391277313232,
          7.440128326416016,
          7.3362226486206055
         ]
        },
        {
         "hoverinfo": "text",
         "hovertext": [
          "delay touch stick",
          "understand understand body touching basically beginning interesting lag right",
          "especially come strange outside body touch touch",
          "repeat detect virtual real mind virtual touch backside",
          "touch touch",
          "easily fear touch virtual body touch scene touch backside real touch real touch use scene touch backside",
          "view touch scene happen confuse understand previous previous scene",
          "touching hard body perfect vision delay convincing body awareness delay body touch place getting touch disturb fact touch right place compute delay touch approximately",
          "touch limit body powerfull body normal",
          "touch weird difficult",
          "touch image touch touch difference touch image example session white cross ending session touch stop immediately moment notice real touch image image small technical detail help help mind notice real technical production",
          "clear follow instruction connection try share perception body stretch explain",
          "delay huge delay",
          "interesting experiment matter touching image myself synchronize feeling touching synchronize",
          "normal previous session myself scene body touch different weird different platform new happen session weird",
          "example prove myself feeling catch confusing focus image catch catch button touch button white white feeling want catch scene",
          "watch scene notice delay hand hand strange feeling understand body",
          "weird delay touch delay",
          "real body touch example touch real body react touch body immediate reaction reaction body body try avoid touch non awareness body help myself touch",
          "touch body touch avoid touch focus image myself touch head try try touch image help locate touch example try image middle reflect middle try combine middle need reflect confusing",
          "technical problem remember click image delay situation",
          "interesting point myself 3d notice pretty quickly reverse delay",
          "beginning body touch strange body especially strange",
          null
         ],
         "marker": {
          "opacity": 0.5,
          "size": 5
         },
         "mode": "markers+text",
         "name": "6_touch_delay_scene",
         "text": [
          "",
          "",
          "",
          "",
          "",
          "",
          "",
          "",
          "",
          "",
          "",
          "",
          "",
          "",
          "",
          "",
          "",
          "",
          "",
          "",
          "",
          "",
          "",
          "6_touch_delay_scene"
         ],
         "textfont": {
          "size": 12
         },
         "type": "scattergl",
         "x": [
          -7.587056636810303,
          -7.715220928192139,
          -7.6879448890686035,
          -7.806215763092041,
          -7.514282703399658,
          -7.779361248016357,
          -7.783463478088379,
          -7.756686687469482,
          -7.6931986808776855,
          -7.649662971496582,
          -8.05797290802002,
          -8.422807693481445,
          -7.362915992736816,
          -8.072345733642578,
          -7.788985729217529,
          -7.941959857940674,
          -7.835410118103027,
          -7.539894104003906,
          -7.777555465698242,
          -7.7848920822143555,
          -7.390631675720215,
          -7.427232265472412,
          -7.824079990386963,
          -7.747816562652588
         ],
         "y": [
          7.839226245880127,
          7.807966709136963,
          8.038419723510742,
          7.93434476852417,
          8.179439544677734,
          7.985200881958008,
          7.8905510902404785,
          7.845530033111572,
          8.087807655334473,
          7.923169136047363,
          8.050697326660156,
          8.162871360778809,
          7.631364345550537,
          7.868478298187256,
          7.816514492034912,
          8.04728889465332,
          7.9475603103637695,
          7.757253170013428,
          8.061957359313965,
          7.991790771484375,
          7.589653015136719,
          7.661498546600342,
          7.978332996368408,
          7.9172563552856445
         ]
        },
        {
         "hoverinfo": "text",
         "hovertext": [
          "surprisingly distract minute face disassociate fact sit virtual reality",
          "virtual reality beginning weird anxious tense minute start repeat phrase myself touch body normal enjoy",
          "control body wonder body",
          "answer want surprising saw body expect focus respiration good need french project body body inside energy",
          "body mirror body myself outside representation myself outside body internal state mirror example need focus meditate focus actual body",
          "good curious different vr kill zombie",
          "delay identify myself look myself 3d. notice delay myself copy recording myself point aware actual body stop trust start trust actual breathing instead person",
          "virtual body mind virtual body look myself observe image myself need body body shifting",
          "unpleasant probably pleasant unpleasant cool interesting myself perspective control puppet instead",
          "true exaggerated movement point purpose hologram movement reflect force myself exaggerated movement hologram purpose case help body consciousness conclusion help disturb distract follow actual goal stage",
          "outside observe paralyzed useful",
          "observe body correspond myself mirror sensation focus body",
          "enjoy include vr",
          "need example forget room change forest image change physical movement difficult forest focus virtual body look moment physical body need virtual body shift physical body headset realize true true stay",
          "want semester project use panorama vr equipment design come achieve object chalet collect hover chalet continue hover object hear music story achieve want",
          "body point sit float elevated chair look person myself body sit float person bag mind connected body change touch bag different connection visual change impact watch myself",
          "previously try need imagine brain focus myself continue imagine lose vr equipment need use brain easy",
          "try myself virtual person physical",
          "disturbing woman narrate stuff try focus movement shoulder pelvis distract real self try concentrate hologram right hologram accurate actual movement distract honestly",
          "relate fear height follow instruction session hologram virtual reality disturbing woman myself virtual self",
          "weird body vr",
          "usually vr lay machine sit watch different",
          "control myself interesting let control observe body yourself mirror myself 100 unusual",
          null
         ],
         "marker": {
          "opacity": 0.5,
          "size": 5
         },
         "mode": "markers+text",
         "name": "7_virtual_body_vr",
         "text": [
          "",
          "",
          "",
          "",
          "",
          "",
          "",
          "",
          "",
          "",
          "",
          "",
          "",
          "",
          "",
          "",
          "",
          "",
          "",
          "",
          "",
          "",
          "",
          "7_virtual_body_vr"
         ],
         "textfont": {
          "size": 12
         },
         "type": "scattergl",
         "x": [
          -9.298160552978516,
          -9.052765846252441,
          -9.55264663696289,
          -8.969326972961426,
          -9.653742790222168,
          -9.262259483337402,
          -9.1787109375,
          -9.4921293258667,
          -9.153741836547852,
          -9.465002059936523,
          -9.331334114074707,
          -9.63330078125,
          -9.223217010498047,
          -9.178765296936035,
          -9.132282257080078,
          -8.947416305541992,
          -9.341056823730469,
          -9.42192268371582,
          -9.466423034667969,
          -9.37667465209961,
          -9.223766326904297,
          -9.292195320129395,
          -9.600728988647461,
          -9.315112113952637
         ],
         "y": [
          9.030146598815918,
          9.252110481262207,
          9.71363353729248,
          9.805909156799316,
          9.688383102416992,
          8.881211280822754,
          9.440919876098633,
          9.523621559143066,
          9.358123779296875,
          9.145047187805176,
          9.679351806640625,
          9.582464218139648,
          9.07257080078125,
          9.508950233459473,
          9.421058654785156,
          9.498929023742676,
          9.13165283203125,
          9.291463851928711,
          9.256298065185547,
          9.187616348266602,
          8.740514755249023,
          8.95099925994873,
          9.80697250366211,
          9.34643268585205
         ]
        },
        {
         "hoverinfo": "text",
         "hovertext": [
          "love want try forest nice",
          "focus sound river bird relaxing landscape",
          "element nature tree sound river water help relax",
          "tall building",
          "grass cover",
          "smell want smell forest",
          "different want set forest contact",
          "forest",
          "nice forest love forest good surprise calm relax",
          "heavy nice setting forest nice sea sea",
          "appreciate real forest look rock tree",
          "away plataform away forest",
          "forest",
          "interesting moment enter forest shock",
          "easy forest dark",
          "simple happen tree rock diversity interesting",
          "grass near stone green brown notice",
          "environment effectively rock weird obviously expect happen",
          "session inspire adventure adventure forest",
          "start pile stone relax guess element love environment forest nature good",
          "rock forest border",
          "fact immerse forest helpful",
          "pleasant memory indonesia indonesia year jungle",
          null
         ],
         "marker": {
          "opacity": 0.5,
          "size": 5
         },
         "mode": "markers+text",
         "name": "8_forest_rock_tree",
         "text": [
          "",
          "",
          "",
          "",
          "",
          "",
          "",
          "",
          "",
          "",
          "",
          "",
          "",
          "",
          "",
          "",
          "",
          "",
          "",
          "",
          "",
          "",
          "",
          "8_forest_rock_tree"
         ],
         "textfont": {
          "size": 12
         },
         "type": "scattergl",
         "x": [
          -6.126945972442627,
          -6.5084547996521,
          -6.506004333496094,
          -6.193085193634033,
          -6.073751926422119,
          -6.070837020874023,
          -6.0921549797058105,
          -5.982209205627441,
          -6.214953899383545,
          -6.152811050415039,
          -6.13346004486084,
          -6.088578701019287,
          -6.001412391662598,
          -6.024448871612549,
          -6.011269569396973,
          -6.311396598815918,
          -6.147944450378418,
          -6.430980205535889,
          -5.910989761352539,
          -6.420724391937256,
          -6.095198631286621,
          -5.906532287597656,
          -6.671291351318359,
          -6.1771931648254395
         ],
         "y": [
          11.140832901000977,
          11.08825969696045,
          11.04872989654541,
          10.500248908996582,
          10.80811882019043,
          11.277351379394531,
          11.143096923828125,
          11.270600318908691,
          11.165000915527344,
          11.047826766967773,
          11.133482933044434,
          11.182690620422363,
          11.270934104919434,
          11.250558853149414,
          11.237456321716309,
          11.073907852172852,
          10.849602699279785,
          10.984109878540039,
          11.284255027770996,
          11.033346176147461,
          11.14538288116455,
          11.309215545654297,
          10.556204795837402,
          11.078313827514648
         ]
        },
        {
         "hoverinfo": "text",
         "hovertext": [
          "aware open eye fine closed eye start feeling point fall asleep visual clue",
          "relaxed start slip extremely eye open sense close associate close eye general",
          "eye close body scan feeling inside body",
          "78 focus teacher condition condition 30",
          "tendency close eye",
          "condition 70 eye open 30",
          "close close normally close eye open eye",
          "play role screen close eye natural environment tiring open",
          "real eye close instead eye open normally eye close hear instruction follow follow",
          "beginning eye close open",
          "30 eye open condition",
          "open eye hard different regular open eye hard explain difference",
          "simple active",
          "prefer version feeling eye open myself prefer vision angle point view remarkable difference point view great",
          "difficult eye open want close",
          "close eye different color meditate different color",
          "eye open eye close",
          "eye close",
          "eye close likewise",
          "easy eye close find easy eye open difficult",
          "easy eye close",
          "easy eye open",
          null
         ],
         "marker": {
          "opacity": 0.5,
          "size": 5
         },
         "mode": "markers+text",
         "name": "9_eye_open_close",
         "text": [
          "",
          "",
          "",
          "",
          "",
          "",
          "",
          "",
          "",
          "",
          "",
          "",
          "",
          "",
          "",
          "",
          "",
          "",
          "",
          "",
          "",
          "",
          "9_eye_open_close"
         ],
         "textfont": {
          "size": 12
         },
         "type": "scattergl",
         "x": [
          -6.504365921020508,
          -6.549612045288086,
          -6.511448860168457,
          -3.8081798553466797,
          -6.534793853759766,
          -6.445056438446045,
          -6.572993755340576,
          -6.797515392303467,
          -6.55286169052124,
          -6.557524681091309,
          -6.521743297576904,
          -6.730395317077637,
          -6.669305324554443,
          -6.61778450012207,
          -6.608956336975098,
          -6.547643661499023,
          -6.575180530548096,
          -6.548839092254639,
          -6.531485080718994,
          -6.601131916046143,
          -6.58109188079834,
          -6.614725112915039,
          -6.453756332397461
         ],
         "y": [
          12.870492935180664,
          13.251913070678711,
          13.166885375976562,
          8.797637939453125,
          13.288458824157715,
          13.198809623718262,
          13.208892822265625,
          13.034160614013672,
          13.192611694335938,
          13.255610466003418,
          13.244762420654297,
          13.259979248046875,
          13.457694053649902,
          13.145295143127441,
          13.305319786071777,
          13.19198989868164,
          13.22607707977295,
          13.272923469543457,
          13.231955528259277,
          13.366601943969727,
          13.354484558105469,
          13.384672164916992,
          13.032146453857422
         ]
        },
        {
         "hoverinfo": "text",
         "hovertext": [
          "notice look eye close blink different notice especially touch synchronize rest synchronize",
          "recognize myself work",
          "myself",
          "recognize myself",
          "body blink",
          "appear",
          "briefly myself normally",
          "guess similar look myself",
          "identify",
          "synchrony avatar completely",
          "avatar blink avatar",
          "frequently",
          "myself hit swicthe convice",
          "myself",
          "refer avatar avatar myself",
          "myself",
          "perceive actual avatar tiny",
          "identify look image",
          "myself",
          "identify myself",
          "avatar blink",
          "example myself avatar",
          null
         ],
         "marker": {
          "opacity": 0.5,
          "size": 5
         },
         "mode": "markers+text",
         "name": "10_avatar_blink_myself",
         "text": [
          "",
          "",
          "",
          "",
          "",
          "",
          "",
          "",
          "",
          "",
          "",
          "",
          "",
          "",
          "",
          "",
          "",
          "",
          "",
          "",
          "",
          "",
          "10_avatar_blink_myself"
         ],
         "textfont": {
          "size": 12
         },
         "type": "scattergl",
         "x": [
          -7.288211345672607,
          -5.597679138183594,
          -5.400094985961914,
          -5.576614856719971,
          -6.483892440795898,
          -5.969227313995361,
          -5.295680046081543,
          -5.590272426605225,
          -5.640780448913574,
          -6.576315879821777,
          -6.483540058135986,
          -5.301385402679443,
          -5.3866987228393555,
          -5.4000773429870605,
          -6.440661430358887,
          -5.41979455947876,
          -6.486365795135498,
          -5.602586269378662,
          -5.40392541885376,
          -5.610254764556885,
          -6.485758304595947,
          -6.468054294586182,
          -5.904902458190918
         ],
         "y": [
          7.3501505851745605,
          6.062067985534668,
          5.926226615905762,
          6.046823978424072,
          6.295079708099365,
          6.245728969573975,
          5.870896339416504,
          6.239583969116211,
          6.214660167694092,
          6.491450786590576,
          6.350409984588623,
          5.890609264373779,
          5.916296482086182,
          5.928193092346191,
          6.399526119232178,
          5.93354606628418,
          6.5557379722595215,
          6.288118839263916,
          5.919260501861572,
          6.061107158660889,
          6.3292951583862305,
          6.417695045471191,
          6.215111255645752
         ]
        },
        {
         "hoverinfo": "text",
         "hovertext": [
          "strange",
          "try understand",
          "strange lot",
          "weird",
          "understand",
          "creepy",
          "strange",
          "strange accept strange",
          "explain",
          "particularly unusual",
          "confused",
          "great wrong record find amazing strange wow",
          "strange nice",
          "funny weird funny",
          "scary",
          "probably weird myself",
          "guess curious",
          "weird",
          "wonder",
          null
         ],
         "marker": {
          "opacity": 0.5,
          "size": 5
         },
         "mode": "markers+text",
         "name": "11_strange_weird_funny",
         "text": [
          "",
          "",
          "",
          "",
          "",
          "",
          "",
          "",
          "",
          "",
          "",
          "",
          "",
          "",
          "",
          "",
          "",
          "",
          "",
          "11_strange_weird_funny"
         ],
         "textfont": {
          "size": 12
         },
         "type": "scattergl",
         "x": [
          -2.502856969833374,
          -2.7246174812316895,
          -2.505171537399292,
          -2.52246356010437,
          -2.7048258781433105,
          -2.505577325820923,
          -2.5461013317108154,
          -2.5062215328216553,
          -2.6674063205718994,
          -2.545797824859619,
          -2.7340142726898193,
          -2.5804715156555176,
          -2.4585840702056885,
          -2.510974168777466,
          -2.409184455871582,
          -2.5365710258483887,
          -3.3145713806152344,
          -2.4903628826141357,
          -3.3287315368652344,
          -2.6365528106689453
         ],
         "y": [
          7.6842474937438965,
          8.50757122039795,
          7.673654079437256,
          7.652796268463135,
          8.538887977600098,
          7.709962368011475,
          7.7084479331970215,
          7.710704803466797,
          8.546924591064453,
          7.6363139152526855,
          8.46045970916748,
          7.816226959228516,
          7.734905242919922,
          7.672852993011475,
          7.803001880645752,
          7.638318061828613,
          8.7020902633667,
          7.6622538566589355,
          8.714119911193848,
          7.977565765380859
         ]
        },
        {
         "hoverinfo": "text",
         "hovertext": [
          "want type",
          "urgent",
          "need",
          "love",
          "want want",
          "watching",
          "good good come mental mental",
          "help lot",
          "right guy want break",
          "miss",
          "want",
          "want fell complicated",
          "unnecessary",
          "need follow",
          "good love",
          null
         ],
         "marker": {
          "opacity": 0.5,
          "size": 5
         },
         "mode": "markers+text",
         "name": "12_want_mental_good",
         "text": [
          "",
          "",
          "",
          "",
          "",
          "",
          "",
          "",
          "",
          "",
          "",
          "",
          "",
          "",
          "",
          "12_want_mental_good"
         ],
         "textfont": {
          "size": 12
         },
         "type": "scattergl",
         "x": [
          -4.0809197425842285,
          -3.9575908184051514,
          -4.049587726593018,
          -5.096260070800781,
          -4.11644983291626,
          -4.348991394042969,
          -4.665604591369629,
          -3.8414807319641113,
          -4.25437593460083,
          -5.2404680252075195,
          -4.115682601928711,
          -4.137031555175781,
          -3.7293894290924072,
          -4.307677745819092,
          -4.470681667327881,
          -4.2941460609436035
         ],
         "y": [
          9.386094093322754,
          9.379472732543945,
          9.420246124267578,
          9.920287132263184,
          9.427372932434082,
          9.188531875610352,
          10.203605651855469,
          9.556474685668945,
          9.439417839050293,
          9.906970977783203,
          9.414955139160156,
          9.42158031463623,
          9.333070755004883,
          9.265549659729004,
          10.010250091552734,
          9.551591873168945
         ]
        },
        {
         "hoverinfo": "text",
         "hovertext": [
          "contact sensation sensation forest",
          "voice rock rock touch",
          "sensation platform",
          "voice",
          "sound",
          "space reference nice 3,000 meter riga nice instruction voice",
          "platform highly body great feeling",
          "platform rock",
          "try hear feedback hear secret stuff",
          "wave",
          "nice guide voice real",
          "cool strong body away beginning realize body realize whoa",
          "cool voice let thought come body leave thought cool",
          "space noise",
          null
         ],
         "marker": {
          "opacity": 0.5,
          "size": 5
         },
         "mode": "markers+text",
         "name": "13_voice_platform_rock",
         "text": [
          "",
          "",
          "",
          "",
          "",
          "",
          "",
          "",
          "",
          "",
          "",
          "",
          "",
          "",
          "13_voice_platform_rock"
         ],
         "textfont": {
          "size": 12
         },
         "type": "scattergl",
         "x": [
          -7.547994136810303,
          -7.045912265777588,
          -7.451324462890625,
          -6.982908725738525,
          -6.839904308319092,
          -6.922816276550293,
          -7.337467670440674,
          -7.288300037384033,
          -6.793595790863037,
          -6.800239086151123,
          -6.9861297607421875,
          -7.245234966278076,
          -7.150020599365234,
          -6.837012767791748,
          -7.087775707244873
         ],
         "y": [
          9.22347354888916,
          9.229826927185059,
          9.261286735534668,
          9.245193481445312,
          9.043638229370117,
          9.635501861572266,
          9.325276374816895,
          9.281614303588867,
          8.963985443115234,
          9.057251930236816,
          9.396015167236328,
          9.523092269897461,
          9.54819393157959,
          9.602595329284668,
          9.309782981872559
         ]
        },
        {
         "hoverinfo": "text",
         "hovertext": [
          "damn pay attention",
          "change game thinking realize minute damn",
          "check notice change notice pay attention",
          "notice",
          "small",
          "change change small short",
          "notice",
          "change",
          "water notice ' case worry",
          "change",
          "notice notice thought disappear remember notice change",
          "slightly",
          "subtle",
          null
         ],
         "marker": {
          "opacity": 0.5,
          "size": 5
         },
         "mode": "markers+text",
         "name": "14_notice_change_damn",
         "text": [
          "",
          "",
          "",
          "",
          "",
          "",
          "",
          "",
          "",
          "",
          "",
          "",
          "",
          "14_notice_change_damn"
         ],
         "textfont": {
          "size": 12
         },
         "type": "scattergl",
         "x": [
          -4.665791988372803,
          -5.1120219230651855,
          -4.704676628112793,
          -4.640781879425049,
          -5.750025272369385,
          -5.072675704956055,
          -4.670572757720947,
          -5.107421875,
          -4.667046546936035,
          -5.077967166900635,
          -4.716475963592529,
          -4.72092342376709,
          -4.706099033355713,
          -4.89326810836792
         ],
         "y": [
          7.9347004890441895,
          8.182783126831055,
          7.94612979888916,
          7.892239570617676,
          6.620105743408203,
          8.087830543518066,
          7.921768665313721,
          8.097721099853516,
          7.957883358001709,
          8.074180603027344,
          7.925396919250488,
          7.429511070251465,
          7.541718482971191,
          7.816305160522461
         ]
        },
        {
         "hoverinfo": "text",
         "hovertext": [
          "scary try let myself believe succe fully fully convince ok funny yourself form outside point match imagination imagine look probably usually imagine yourself outisde strange interesting",
          "scary whoa controlled realize feeling heavy",
          "strange body different separate lot word feeling word relevant comment interesting explain myself feeling body",
          "honestly disconcert myself weird myself",
          "let weirdness discomfort pleasant weird",
          "strange picture represent fact strange sensation day outside body",
          "scary look relate weird discomfort look",
          "uncomfortable myself relax body look look body bad feeling strange",
          "start feeling body",
          "strange present body sense alive sense removed physical sense unsure",
          "feeling body",
          "strange find strange look pay attention net unclear dream",
          null
         ],
         "marker": {
          "opacity": 0.5,
          "size": 5
         },
         "mode": "markers+text",
         "name": "15_strange_scary_feeling",
         "text": [
          "",
          "",
          "",
          "",
          "",
          "",
          "",
          "",
          "",
          "",
          "",
          "",
          "15_strange_scary_feeling"
         ],
         "textfont": {
          "size": 12
         },
         "type": "scattergl",
         "x": [
          -8.032370567321777,
          -8.990262985229492,
          -7.977508068084717,
          -7.750819206237793,
          -7.857790946960449,
          -8.157196044921875,
          -7.884840965270996,
          -7.855946063995361,
          -7.897944927215576,
          -8.07076358795166,
          -7.884336471557617,
          -7.996572494506836,
          -8.029696464538574
         ],
         "y": [
          8.809035301208496,
          6.0893707275390625,
          8.70703125,
          8.742037773132324,
          8.781935691833496,
          8.714922904968262,
          8.783592224121094,
          8.74522590637207,
          8.744402885437012,
          8.722907066345215,
          8.933923721313477,
          8.697956085205078,
          8.539361000061035
         ]
        },
        {
         "hoverinfo": "text",
         "hovertext": [
          "10",
          "guess practice answer",
          "5 10",
          "100",
          "100 somewhat",
          "80",
          "help 100 term percentage 75",
          "100",
          "number",
          "total",
          null
         ],
         "marker": {
          "opacity": 0.5,
          "size": 5
         },
         "mode": "markers+text",
         "name": "16_100_10_somewhat",
         "text": [
          "",
          "",
          "",
          "",
          "",
          "",
          "",
          "",
          "",
          "",
          "16_100_10_somewhat"
         ],
         "textfont": {
          "size": 12
         },
         "type": "scattergl",
         "x": [
          -3.729353666305542,
          -3.7242932319641113,
          -3.6860463619232178,
          -3.729860544204712,
          -3.7564773559570312,
          -3.727438449859619,
          -3.701430320739746,
          -3.75221586227417,
          -3.7625982761383057,
          -3.75352144241333,
          -3.732323408126831
         ],
         "y": [
          8.57087230682373,
          8.737997055053711,
          8.596771240234375,
          8.586008071899414,
          8.537055015563965,
          8.572728157043457,
          8.758561134338379,
          8.539310455322266,
          8.586291313171387,
          8.547686576843262,
          8.603326797485352
         ]
        },
        {
         "hoverinfo": "text",
         "hovertext": [
          "room especially especially mountain afraid mountain height special experientially push fine",
          "center square cube bother",
          "different room room different place",
          "center",
          "nice love location",
          "middle long forget moment",
          "different different reason myself room",
          "place",
          "beach",
          null
         ],
         "marker": {
          "opacity": 0.5,
          "size": 5
         },
         "mode": "markers+text",
         "name": "17_room_center_mountain",
         "text": [
          "",
          "",
          "",
          "",
          "",
          "",
          "",
          "",
          "",
          "17_room_center_mountain"
         ],
         "textfont": {
          "size": 12
         },
         "type": "scattergl",
         "x": [
          -6.166510105133057,
          -6.231006145477295,
          -5.9451775550842285,
          -6.190817356109619,
          -5.542286396026611,
          -6.396109580993652,
          -5.946277141571045,
          -5.720726490020752,
          -5.650111198425293,
          -5.976558208465576
         ],
         "y": [
          10.41736888885498,
          10.035396575927734,
          10.140073776245117,
          10.028602600097656,
          10.26775074005127,
          10.12998104095459,
          10.121902465820312,
          10.300877571105957,
          10.391533851623535,
          10.203721046447754
         ]
        },
        {
         "hoverinfo": "text",
         "hovertext": [
          "fly",
          "movement movement quick",
          "happen happen quickly",
          "fast",
          "surprising use quickly enjoy",
          "asynchrony",
          "drop constantly talk come",
          "let happen quickly real realize anymore slow different",
          null
         ],
         "marker": {
          "opacity": 0.5,
          "size": 5
         },
         "mode": "markers+text",
         "name": "18_quickly_happen_movement",
         "text": [
          "",
          "",
          "",
          "",
          "",
          "",
          "",
          "",
          "18_quickly_happen_movement"
         ],
         "textfont": {
          "size": 12
         },
         "type": "scattergl",
         "x": [
          -5.834061622619629,
          -5.532846927642822,
          -5.536668300628662,
          -5.452739715576172,
          -5.489047527313232,
          -7.1371965408325195,
          -5.614378452301025,
          -5.5839667320251465,
          -5.772613525390625
         ],
         "y": [
          9.164447784423828,
          8.910512924194336,
          8.893291473388672,
          8.90068531036377,
          8.908086776733398,
          7.555389404296875,
          9.040898323059082,
          8.915976524353027,
          8.786160469055176
         ]
        }
       ],
       "layout": {
        "annotations": [
         {
          "showarrow": false,
          "text": "D1",
          "x": -11.330407857894897,
          "y": 10.233305025100709,
          "yshift": 10
         },
         {
          "showarrow": false,
          "text": "D2",
          "x": -6.251386466622352,
          "xshift": 10,
          "y": 15.476348161697388
         }
        ],
        "height": 750,
        "shapes": [
         {
          "line": {
           "color": "#CFD8DC",
           "width": 2
          },
          "type": "line",
          "x0": -6.251386466622352,
          "x1": -6.251386466622352,
          "y0": 4.990261888504028,
          "y1": 15.476348161697388
         },
         {
          "line": {
           "color": "#9E9E9E",
           "width": 2
          },
          "type": "line",
          "x0": -11.330407857894897,
          "x1": -1.1723650753498078,
          "y0": 10.233305025100709,
          "y1": 10.233305025100709
         }
        ],
        "template": {
         "data": {
          "bar": [
           {
            "error_x": {
             "color": "rgb(36,36,36)"
            },
            "error_y": {
             "color": "rgb(36,36,36)"
            },
            "marker": {
             "line": {
              "color": "white",
              "width": 0.5
             },
             "pattern": {
              "fillmode": "overlay",
              "size": 10,
              "solidity": 0.2
             }
            },
            "type": "bar"
           }
          ],
          "barpolar": [
           {
            "marker": {
             "line": {
              "color": "white",
              "width": 0.5
             },
             "pattern": {
              "fillmode": "overlay",
              "size": 10,
              "solidity": 0.2
             }
            },
            "type": "barpolar"
           }
          ],
          "carpet": [
           {
            "aaxis": {
             "endlinecolor": "rgb(36,36,36)",
             "gridcolor": "white",
             "linecolor": "white",
             "minorgridcolor": "white",
             "startlinecolor": "rgb(36,36,36)"
            },
            "baxis": {
             "endlinecolor": "rgb(36,36,36)",
             "gridcolor": "white",
             "linecolor": "white",
             "minorgridcolor": "white",
             "startlinecolor": "rgb(36,36,36)"
            },
            "type": "carpet"
           }
          ],
          "choropleth": [
           {
            "colorbar": {
             "outlinewidth": 1,
             "tickcolor": "rgb(36,36,36)",
             "ticks": "outside"
            },
            "type": "choropleth"
           }
          ],
          "contour": [
           {
            "colorbar": {
             "outlinewidth": 1,
             "tickcolor": "rgb(36,36,36)",
             "ticks": "outside"
            },
            "colorscale": [
             [
              0,
              "#440154"
             ],
             [
              0.1111111111111111,
              "#482878"
             ],
             [
              0.2222222222222222,
              "#3e4989"
             ],
             [
              0.3333333333333333,
              "#31688e"
             ],
             [
              0.4444444444444444,
              "#26828e"
             ],
             [
              0.5555555555555556,
              "#1f9e89"
             ],
             [
              0.6666666666666666,
              "#35b779"
             ],
             [
              0.7777777777777778,
              "#6ece58"
             ],
             [
              0.8888888888888888,
              "#b5de2b"
             ],
             [
              1,
              "#fde725"
             ]
            ],
            "type": "contour"
           }
          ],
          "contourcarpet": [
           {
            "colorbar": {
             "outlinewidth": 1,
             "tickcolor": "rgb(36,36,36)",
             "ticks": "outside"
            },
            "type": "contourcarpet"
           }
          ],
          "heatmap": [
           {
            "colorbar": {
             "outlinewidth": 1,
             "tickcolor": "rgb(36,36,36)",
             "ticks": "outside"
            },
            "colorscale": [
             [
              0,
              "#440154"
             ],
             [
              0.1111111111111111,
              "#482878"
             ],
             [
              0.2222222222222222,
              "#3e4989"
             ],
             [
              0.3333333333333333,
              "#31688e"
             ],
             [
              0.4444444444444444,
              "#26828e"
             ],
             [
              0.5555555555555556,
              "#1f9e89"
             ],
             [
              0.6666666666666666,
              "#35b779"
             ],
             [
              0.7777777777777778,
              "#6ece58"
             ],
             [
              0.8888888888888888,
              "#b5de2b"
             ],
             [
              1,
              "#fde725"
             ]
            ],
            "type": "heatmap"
           }
          ],
          "heatmapgl": [
           {
            "colorbar": {
             "outlinewidth": 1,
             "tickcolor": "rgb(36,36,36)",
             "ticks": "outside"
            },
            "colorscale": [
             [
              0,
              "#440154"
             ],
             [
              0.1111111111111111,
              "#482878"
             ],
             [
              0.2222222222222222,
              "#3e4989"
             ],
             [
              0.3333333333333333,
              "#31688e"
             ],
             [
              0.4444444444444444,
              "#26828e"
             ],
             [
              0.5555555555555556,
              "#1f9e89"
             ],
             [
              0.6666666666666666,
              "#35b779"
             ],
             [
              0.7777777777777778,
              "#6ece58"
             ],
             [
              0.8888888888888888,
              "#b5de2b"
             ],
             [
              1,
              "#fde725"
             ]
            ],
            "type": "heatmapgl"
           }
          ],
          "histogram": [
           {
            "marker": {
             "line": {
              "color": "white",
              "width": 0.6
             }
            },
            "type": "histogram"
           }
          ],
          "histogram2d": [
           {
            "colorbar": {
             "outlinewidth": 1,
             "tickcolor": "rgb(36,36,36)",
             "ticks": "outside"
            },
            "colorscale": [
             [
              0,
              "#440154"
             ],
             [
              0.1111111111111111,
              "#482878"
             ],
             [
              0.2222222222222222,
              "#3e4989"
             ],
             [
              0.3333333333333333,
              "#31688e"
             ],
             [
              0.4444444444444444,
              "#26828e"
             ],
             [
              0.5555555555555556,
              "#1f9e89"
             ],
             [
              0.6666666666666666,
              "#35b779"
             ],
             [
              0.7777777777777778,
              "#6ece58"
             ],
             [
              0.8888888888888888,
              "#b5de2b"
             ],
             [
              1,
              "#fde725"
             ]
            ],
            "type": "histogram2d"
           }
          ],
          "histogram2dcontour": [
           {
            "colorbar": {
             "outlinewidth": 1,
             "tickcolor": "rgb(36,36,36)",
             "ticks": "outside"
            },
            "colorscale": [
             [
              0,
              "#440154"
             ],
             [
              0.1111111111111111,
              "#482878"
             ],
             [
              0.2222222222222222,
              "#3e4989"
             ],
             [
              0.3333333333333333,
              "#31688e"
             ],
             [
              0.4444444444444444,
              "#26828e"
             ],
             [
              0.5555555555555556,
              "#1f9e89"
             ],
             [
              0.6666666666666666,
              "#35b779"
             ],
             [
              0.7777777777777778,
              "#6ece58"
             ],
             [
              0.8888888888888888,
              "#b5de2b"
             ],
             [
              1,
              "#fde725"
             ]
            ],
            "type": "histogram2dcontour"
           }
          ],
          "mesh3d": [
           {
            "colorbar": {
             "outlinewidth": 1,
             "tickcolor": "rgb(36,36,36)",
             "ticks": "outside"
            },
            "type": "mesh3d"
           }
          ],
          "parcoords": [
           {
            "line": {
             "colorbar": {
              "outlinewidth": 1,
              "tickcolor": "rgb(36,36,36)",
              "ticks": "outside"
             }
            },
            "type": "parcoords"
           }
          ],
          "pie": [
           {
            "automargin": true,
            "type": "pie"
           }
          ],
          "scatter": [
           {
            "fillpattern": {
             "fillmode": "overlay",
             "size": 10,
             "solidity": 0.2
            },
            "type": "scatter"
           }
          ],
          "scatter3d": [
           {
            "line": {
             "colorbar": {
              "outlinewidth": 1,
              "tickcolor": "rgb(36,36,36)",
              "ticks": "outside"
             }
            },
            "marker": {
             "colorbar": {
              "outlinewidth": 1,
              "tickcolor": "rgb(36,36,36)",
              "ticks": "outside"
             }
            },
            "type": "scatter3d"
           }
          ],
          "scattercarpet": [
           {
            "marker": {
             "colorbar": {
              "outlinewidth": 1,
              "tickcolor": "rgb(36,36,36)",
              "ticks": "outside"
             }
            },
            "type": "scattercarpet"
           }
          ],
          "scattergeo": [
           {
            "marker": {
             "colorbar": {
              "outlinewidth": 1,
              "tickcolor": "rgb(36,36,36)",
              "ticks": "outside"
             }
            },
            "type": "scattergeo"
           }
          ],
          "scattergl": [
           {
            "marker": {
             "colorbar": {
              "outlinewidth": 1,
              "tickcolor": "rgb(36,36,36)",
              "ticks": "outside"
             }
            },
            "type": "scattergl"
           }
          ],
          "scattermapbox": [
           {
            "marker": {
             "colorbar": {
              "outlinewidth": 1,
              "tickcolor": "rgb(36,36,36)",
              "ticks": "outside"
             }
            },
            "type": "scattermapbox"
           }
          ],
          "scatterpolar": [
           {
            "marker": {
             "colorbar": {
              "outlinewidth": 1,
              "tickcolor": "rgb(36,36,36)",
              "ticks": "outside"
             }
            },
            "type": "scatterpolar"
           }
          ],
          "scatterpolargl": [
           {
            "marker": {
             "colorbar": {
              "outlinewidth": 1,
              "tickcolor": "rgb(36,36,36)",
              "ticks": "outside"
             }
            },
            "type": "scatterpolargl"
           }
          ],
          "scatterternary": [
           {
            "marker": {
             "colorbar": {
              "outlinewidth": 1,
              "tickcolor": "rgb(36,36,36)",
              "ticks": "outside"
             }
            },
            "type": "scatterternary"
           }
          ],
          "surface": [
           {
            "colorbar": {
             "outlinewidth": 1,
             "tickcolor": "rgb(36,36,36)",
             "ticks": "outside"
            },
            "colorscale": [
             [
              0,
              "#440154"
             ],
             [
              0.1111111111111111,
              "#482878"
             ],
             [
              0.2222222222222222,
              "#3e4989"
             ],
             [
              0.3333333333333333,
              "#31688e"
             ],
             [
              0.4444444444444444,
              "#26828e"
             ],
             [
              0.5555555555555556,
              "#1f9e89"
             ],
             [
              0.6666666666666666,
              "#35b779"
             ],
             [
              0.7777777777777778,
              "#6ece58"
             ],
             [
              0.8888888888888888,
              "#b5de2b"
             ],
             [
              1,
              "#fde725"
             ]
            ],
            "type": "surface"
           }
          ],
          "table": [
           {
            "cells": {
             "fill": {
              "color": "rgb(237,237,237)"
             },
             "line": {
              "color": "white"
             }
            },
            "header": {
             "fill": {
              "color": "rgb(217,217,217)"
             },
             "line": {
              "color": "white"
             }
            },
            "type": "table"
           }
          ]
         },
         "layout": {
          "annotationdefaults": {
           "arrowhead": 0,
           "arrowwidth": 1
          },
          "autotypenumbers": "strict",
          "coloraxis": {
           "colorbar": {
            "outlinewidth": 1,
            "tickcolor": "rgb(36,36,36)",
            "ticks": "outside"
           }
          },
          "colorscale": {
           "diverging": [
            [
             0,
             "rgb(103,0,31)"
            ],
            [
             0.1,
             "rgb(178,24,43)"
            ],
            [
             0.2,
             "rgb(214,96,77)"
            ],
            [
             0.3,
             "rgb(244,165,130)"
            ],
            [
             0.4,
             "rgb(253,219,199)"
            ],
            [
             0.5,
             "rgb(247,247,247)"
            ],
            [
             0.6,
             "rgb(209,229,240)"
            ],
            [
             0.7,
             "rgb(146,197,222)"
            ],
            [
             0.8,
             "rgb(67,147,195)"
            ],
            [
             0.9,
             "rgb(33,102,172)"
            ],
            [
             1,
             "rgb(5,48,97)"
            ]
           ],
           "sequential": [
            [
             0,
             "#440154"
            ],
            [
             0.1111111111111111,
             "#482878"
            ],
            [
             0.2222222222222222,
             "#3e4989"
            ],
            [
             0.3333333333333333,
             "#31688e"
            ],
            [
             0.4444444444444444,
             "#26828e"
            ],
            [
             0.5555555555555556,
             "#1f9e89"
            ],
            [
             0.6666666666666666,
             "#35b779"
            ],
            [
             0.7777777777777778,
             "#6ece58"
            ],
            [
             0.8888888888888888,
             "#b5de2b"
            ],
            [
             1,
             "#fde725"
            ]
           ],
           "sequentialminus": [
            [
             0,
             "#440154"
            ],
            [
             0.1111111111111111,
             "#482878"
            ],
            [
             0.2222222222222222,
             "#3e4989"
            ],
            [
             0.3333333333333333,
             "#31688e"
            ],
            [
             0.4444444444444444,
             "#26828e"
            ],
            [
             0.5555555555555556,
             "#1f9e89"
            ],
            [
             0.6666666666666666,
             "#35b779"
            ],
            [
             0.7777777777777778,
             "#6ece58"
            ],
            [
             0.8888888888888888,
             "#b5de2b"
            ],
            [
             1,
             "#fde725"
            ]
           ]
          },
          "colorway": [
           "#1F77B4",
           "#FF7F0E",
           "#2CA02C",
           "#D62728",
           "#9467BD",
           "#8C564B",
           "#E377C2",
           "#7F7F7F",
           "#BCBD22",
           "#17BECF"
          ],
          "font": {
           "color": "rgb(36,36,36)"
          },
          "geo": {
           "bgcolor": "white",
           "lakecolor": "white",
           "landcolor": "white",
           "showlakes": true,
           "showland": true,
           "subunitcolor": "white"
          },
          "hoverlabel": {
           "align": "left"
          },
          "hovermode": "closest",
          "mapbox": {
           "style": "light"
          },
          "paper_bgcolor": "white",
          "plot_bgcolor": "white",
          "polar": {
           "angularaxis": {
            "gridcolor": "rgb(232,232,232)",
            "linecolor": "rgb(36,36,36)",
            "showgrid": false,
            "showline": true,
            "ticks": "outside"
           },
           "bgcolor": "white",
           "radialaxis": {
            "gridcolor": "rgb(232,232,232)",
            "linecolor": "rgb(36,36,36)",
            "showgrid": false,
            "showline": true,
            "ticks": "outside"
           }
          },
          "scene": {
           "xaxis": {
            "backgroundcolor": "white",
            "gridcolor": "rgb(232,232,232)",
            "gridwidth": 2,
            "linecolor": "rgb(36,36,36)",
            "showbackground": true,
            "showgrid": false,
            "showline": true,
            "ticks": "outside",
            "zeroline": false,
            "zerolinecolor": "rgb(36,36,36)"
           },
           "yaxis": {
            "backgroundcolor": "white",
            "gridcolor": "rgb(232,232,232)",
            "gridwidth": 2,
            "linecolor": "rgb(36,36,36)",
            "showbackground": true,
            "showgrid": false,
            "showline": true,
            "ticks": "outside",
            "zeroline": false,
            "zerolinecolor": "rgb(36,36,36)"
           },
           "zaxis": {
            "backgroundcolor": "white",
            "gridcolor": "rgb(232,232,232)",
            "gridwidth": 2,
            "linecolor": "rgb(36,36,36)",
            "showbackground": true,
            "showgrid": false,
            "showline": true,
            "ticks": "outside",
            "zeroline": false,
            "zerolinecolor": "rgb(36,36,36)"
           }
          },
          "shapedefaults": {
           "fillcolor": "black",
           "line": {
            "width": 0
           },
           "opacity": 0.3
          },
          "ternary": {
           "aaxis": {
            "gridcolor": "rgb(232,232,232)",
            "linecolor": "rgb(36,36,36)",
            "showgrid": false,
            "showline": true,
            "ticks": "outside"
           },
           "baxis": {
            "gridcolor": "rgb(232,232,232)",
            "linecolor": "rgb(36,36,36)",
            "showgrid": false,
            "showline": true,
            "ticks": "outside"
           },
           "bgcolor": "white",
           "caxis": {
            "gridcolor": "rgb(232,232,232)",
            "linecolor": "rgb(36,36,36)",
            "showgrid": false,
            "showline": true,
            "ticks": "outside"
           }
          },
          "title": {
           "x": 0.05
          },
          "xaxis": {
           "automargin": true,
           "gridcolor": "rgb(232,232,232)",
           "linecolor": "rgb(36,36,36)",
           "showgrid": false,
           "showline": true,
           "ticks": "outside",
           "title": {
            "standoff": 15
           },
           "zeroline": false,
           "zerolinecolor": "rgb(36,36,36)"
          },
          "yaxis": {
           "automargin": true,
           "gridcolor": "rgb(232,232,232)",
           "linecolor": "rgb(36,36,36)",
           "showgrid": false,
           "showline": true,
           "ticks": "outside",
           "title": {
            "standoff": 15
           },
           "zeroline": false,
           "zerolinecolor": "rgb(36,36,36)"
          }
         }
        },
        "title": {
         "font": {
          "color": "Black",
          "size": 22
         },
         "text": "<b>Documents and Topics</b>",
         "x": 0.5,
         "xanchor": "center",
         "yanchor": "top"
        },
        "width": 1200,
        "xaxis": {
         "visible": false
        },
        "yaxis": {
         "visible": false
        }
       }
      }
     },
     "metadata": {},
     "output_type": "display_data"
    }
   ],
   "source": [
    "topic_model.visualize_documents(docs, embeddings=embeddings)"
   ]
  },
  {
   "cell_type": "code",
   "execution_count": 38,
   "metadata": {},
   "outputs": [],
   "source": [
    "#topics_per_class = topic_model.topics_per_class(docs, classes=df.Id)\n",
    "#topic_model.visualize_topics_per_class(topics_per_class)"
   ]
  },
  {
   "cell_type": "code",
   "execution_count": 39,
   "metadata": {},
   "outputs": [],
   "source": [
    "# hierarchical_topics = topic_model.hierarchical_topics(docs)\n",
    "# topic_model.visualize_hierarchy(hierarchical_topics=hierarchical_topics)"
   ]
  },
  {
   "cell_type": "code",
   "execution_count": 40,
   "metadata": {},
   "outputs": [],
   "source": [
    "df['one_topic'] = topics\n",
    "topic_name_to_id = dict(zip(topic_model.get_topic_info().Topic, topic_model.get_topic_info().Name))\n",
    "df['one_topic_name'] = df['one_topic'].map(topic_name_to_id)"
   ]
  },
  {
   "cell_type": "markdown",
   "metadata": {},
   "source": [
    "# Topic Distribution: Assigning Multiple Topics Per Document\n",
    "\n",
    "In some cases, documents may align with multiple topics rather than a single one. Assigning multiple topics to a document allows for:\n",
    "\n",
    "1. **Reducing Outliers:** Avoid documents being classified as noise due to marginal probabilities.\n",
    "2.**Improved Accuracy:** Mitigates false positives/negatives by acknowledging topic overlaps.\n",
    "3. **Detailed Analysis:** Useful for cases where a specific topic is of interest, ensuring documents are not incorrectly excluded."
   ]
  },
  {
   "cell_type": "code",
   "execution_count": 41,
   "metadata": {},
   "outputs": [
    {
     "name": "stderr",
     "output_type": "stream",
     "text": [
      "100%|██████████| 1/1 [00:00<00:00, 13.18it/s]\n"
     ]
    }
   ],
   "source": [
    "topic_distr, topic_token_distr = topic_model.approximate_distribution(\n",
    "      docs, window = 5, calculate_tokens=True)"
   ]
  },
  {
   "cell_type": "code",
   "execution_count": 42,
   "metadata": {},
   "outputs": [
    {
     "name": "stderr",
     "output_type": "stream",
     "text": [
      "100%|██████████| 350/350 [00:01<00:00, 183.07it/s]\n"
     ]
    }
   ],
   "source": [
    "import tqdm\n",
    "import numpy as np\n",
    "import plotly.express as px\n",
    "\n",
    "tmp_dfs = []\n",
    "\n",
    "# iterating through different threshold levels\n",
    "for thr in tqdm.tqdm(np.arange(0, 0.35, 0.001)):\n",
    "    # calculating number of topics with probability > threshold for each document\n",
    "    tmp_df = pd.DataFrame(list(map(lambda x: len(list(filter(lambda y: y >= thr, x))), topic_distr))).rename(\n",
    "        columns = {0: 'num_topics'}\n",
    "    )\n",
    "    tmp_df['num_docs'] = 1\n",
    "    \n",
    "    tmp_df['num_topics_group'] = tmp_df['num_topics']\\\n",
    "        .map(lambda x: str(x) if x < 5 else '5+')\n",
    "    \n",
    "    # aggregating stats\n",
    "    tmp_df_aggr = tmp_df.groupby('num_topics_group', as_index = False).num_docs.sum()\n",
    "    tmp_df_aggr['threshold'] = thr\n",
    "    \n",
    "    tmp_dfs.append(tmp_df_aggr)\n",
    "\n",
    "num_topics_stats_df = pd.concat(tmp_dfs).pivot(index = 'threshold', \n",
    "                              values = 'num_docs',\n",
    "                              columns = 'num_topics_group').fillna(0)\n",
    "\n",
    "num_topics_stats_df = num_topics_stats_df.apply(lambda x: 100.*x/num_topics_stats_df.sum(axis = 1))"
   ]
  },
  {
   "cell_type": "markdown",
   "metadata": {},
   "source": [
    "### Iterative Threshold Testing\n",
    "In this approach, multiple thresholds are tested to understand how the distribution of topics changes across documents. This allows for:\n",
    "\n",
    "- **Proportion Analysis:** Examining the number of topics assigned to documents at various confidence levels.\n",
    "- **Outlier Reduction:** Identifying a threshold that minimizes the number of documents classified as outliers (no assigned topics).\n",
    "- **Avoiding Overlap:** Ensuring that documents are not assigned an excessive number of topics, which could dilute interpretability."
   ]
  },
  {
   "cell_type": "code",
   "execution_count": 43,
   "metadata": {},
   "outputs": [
    {
     "data": {
      "application/vnd.plotly.v1+json": {
       "config": {
        "plotlyServerURL": "https://plot.ly"
       },
       "data": [
        {
         "fillpattern": {
          "shape": ""
         },
         "hovertemplate": "number of topics=0<br>threshold=%{x}<br>share of reviews, %=%{y}<extra></extra>",
         "legendgroup": "0",
         "line": {
          "color": "rgb(255,255,217)"
         },
         "marker": {
          "symbol": "circle"
         },
         "mode": "lines",
         "name": "0",
         "orientation": "v",
         "showlegend": true,
         "stackgroup": "1",
         "type": "scatter",
         "x": [
          0,
          0.001,
          0.002,
          0.003,
          0.004,
          0.005,
          0.006,
          0.007,
          0.008,
          0.009000000000000001,
          0.01,
          0.011,
          0.012,
          0.013000000000000001,
          0.014,
          0.015,
          0.016,
          0.017,
          0.018000000000000002,
          0.019,
          0.02,
          0.021,
          0.022,
          0.023,
          0.024,
          0.025,
          0.026000000000000002,
          0.027,
          0.028,
          0.029,
          0.03,
          0.031,
          0.032,
          0.033,
          0.034,
          0.035,
          0.036000000000000004,
          0.037,
          0.038,
          0.039,
          0.04,
          0.041,
          0.042,
          0.043000000000000003,
          0.044,
          0.045,
          0.046,
          0.047,
          0.048,
          0.049,
          0.05,
          0.051000000000000004,
          0.052000000000000005,
          0.053,
          0.054,
          0.055,
          0.056,
          0.057,
          0.058,
          0.059000000000000004,
          0.06,
          0.061,
          0.062,
          0.063,
          0.064,
          0.065,
          0.066,
          0.067,
          0.068,
          0.069,
          0.07,
          0.07100000000000001,
          0.07200000000000001,
          0.073,
          0.074,
          0.075,
          0.076,
          0.077,
          0.078,
          0.079,
          0.08,
          0.081,
          0.082,
          0.083,
          0.084,
          0.085,
          0.08600000000000001,
          0.08700000000000001,
          0.088,
          0.089,
          0.09,
          0.091,
          0.092,
          0.093,
          0.094,
          0.095,
          0.096,
          0.097,
          0.098,
          0.099,
          0.1,
          0.101,
          0.10200000000000001,
          0.10300000000000001,
          0.10400000000000001,
          0.105,
          0.106,
          0.107,
          0.108,
          0.109,
          0.11,
          0.111,
          0.112,
          0.113,
          0.114,
          0.115,
          0.116,
          0.117,
          0.11800000000000001,
          0.11900000000000001,
          0.12,
          0.121,
          0.122,
          0.123,
          0.124,
          0.125,
          0.126,
          0.127,
          0.128,
          0.129,
          0.13,
          0.131,
          0.132,
          0.133,
          0.134,
          0.135,
          0.136,
          0.137,
          0.138,
          0.139,
          0.14,
          0.14100000000000001,
          0.14200000000000002,
          0.14300000000000002,
          0.14400000000000002,
          0.145,
          0.146,
          0.147,
          0.148,
          0.149,
          0.15,
          0.151,
          0.152,
          0.153,
          0.154,
          0.155,
          0.156,
          0.157,
          0.158,
          0.159,
          0.16,
          0.161,
          0.162,
          0.163,
          0.164,
          0.165,
          0.166,
          0.167,
          0.168,
          0.169,
          0.17,
          0.171,
          0.17200000000000001,
          0.17300000000000001,
          0.17400000000000002,
          0.17500000000000002,
          0.176,
          0.177,
          0.178,
          0.179,
          0.18,
          0.181,
          0.182,
          0.183,
          0.184,
          0.185,
          0.186,
          0.187,
          0.188,
          0.189,
          0.19,
          0.191,
          0.192,
          0.193,
          0.194,
          0.195,
          0.196,
          0.197,
          0.198,
          0.199,
          0.2,
          0.201,
          0.202,
          0.203,
          0.20400000000000001,
          0.20500000000000002,
          0.20600000000000002,
          0.20700000000000002,
          0.20800000000000002,
          0.209,
          0.21,
          0.211,
          0.212,
          0.213,
          0.214,
          0.215,
          0.216,
          0.217,
          0.218,
          0.219,
          0.22,
          0.221,
          0.222,
          0.223,
          0.224,
          0.225,
          0.226,
          0.227,
          0.228,
          0.229,
          0.23,
          0.231,
          0.232,
          0.233,
          0.234,
          0.23500000000000001,
          0.23600000000000002,
          0.23700000000000002,
          0.23800000000000002,
          0.23900000000000002,
          0.24,
          0.241,
          0.242,
          0.243,
          0.244,
          0.245,
          0.246,
          0.247,
          0.248,
          0.249,
          0.25,
          0.251,
          0.252,
          0.253,
          0.254,
          0.255,
          0.256,
          0.257,
          0.258,
          0.259,
          0.26,
          0.261,
          0.262,
          0.263,
          0.264,
          0.265,
          0.266,
          0.267,
          0.268,
          0.269,
          0.27,
          0.271,
          0.272,
          0.273,
          0.274,
          0.275,
          0.276,
          0.277,
          0.278,
          0.279,
          0.28,
          0.281,
          0.28200000000000003,
          0.28300000000000003,
          0.28400000000000003,
          0.28500000000000003,
          0.28600000000000003,
          0.28700000000000003,
          0.28800000000000003,
          0.289,
          0.29,
          0.291,
          0.292,
          0.293,
          0.294,
          0.295,
          0.296,
          0.297,
          0.298,
          0.299,
          0.3,
          0.301,
          0.302,
          0.303,
          0.304,
          0.305,
          0.306,
          0.307,
          0.308,
          0.309,
          0.31,
          0.311,
          0.312,
          0.313,
          0.314,
          0.315,
          0.316,
          0.317,
          0.318,
          0.319,
          0.32,
          0.321,
          0.322,
          0.323,
          0.324,
          0.325,
          0.326,
          0.327,
          0.328,
          0.329,
          0.33,
          0.331,
          0.332,
          0.333,
          0.334,
          0.335,
          0.336,
          0.337,
          0.338,
          0.339,
          0.34,
          0.341,
          0.342,
          0.343,
          0.34400000000000003,
          0.34500000000000003,
          0.34600000000000003,
          0.34700000000000003,
          0.34800000000000003,
          0.34900000000000003
         ],
         "xaxis": "x",
         "y": [
          0,
          11.22754491017964,
          11.22754491017964,
          11.22754491017964,
          11.22754491017964,
          11.22754491017964,
          11.22754491017964,
          11.22754491017964,
          11.22754491017964,
          11.22754491017964,
          11.22754491017964,
          11.22754491017964,
          11.22754491017964,
          11.22754491017964,
          11.22754491017964,
          11.22754491017964,
          11.22754491017964,
          11.22754491017964,
          11.22754491017964,
          11.22754491017964,
          11.22754491017964,
          11.22754491017964,
          11.22754491017964,
          11.22754491017964,
          11.22754491017964,
          11.22754491017964,
          11.22754491017964,
          11.22754491017964,
          11.22754491017964,
          11.22754491017964,
          11.22754491017964,
          11.22754491017964,
          11.22754491017964,
          11.22754491017964,
          11.22754491017964,
          11.22754491017964,
          11.22754491017964,
          11.22754491017964,
          11.22754491017964,
          11.22754491017964,
          11.22754491017964,
          11.22754491017964,
          11.22754491017964,
          11.22754491017964,
          11.22754491017964,
          11.22754491017964,
          11.22754491017964,
          11.22754491017964,
          11.22754491017964,
          11.22754491017964,
          11.22754491017964,
          11.22754491017964,
          11.22754491017964,
          11.22754491017964,
          11.22754491017964,
          11.22754491017964,
          11.22754491017964,
          11.22754491017964,
          11.22754491017964,
          11.22754491017964,
          11.22754491017964,
          11.22754491017964,
          11.22754491017964,
          11.22754491017964,
          11.22754491017964,
          11.22754491017964,
          11.22754491017964,
          11.22754491017964,
          11.22754491017964,
          11.22754491017964,
          11.22754491017964,
          11.22754491017964,
          11.22754491017964,
          11.22754491017964,
          11.22754491017964,
          11.22754491017964,
          11.22754491017964,
          11.22754491017964,
          11.22754491017964,
          11.22754491017964,
          11.22754491017964,
          11.22754491017964,
          11.22754491017964,
          11.22754491017964,
          11.22754491017964,
          11.22754491017964,
          11.22754491017964,
          11.22754491017964,
          11.22754491017964,
          11.22754491017964,
          11.22754491017964,
          11.22754491017964,
          11.22754491017964,
          11.22754491017964,
          11.22754491017964,
          11.22754491017964,
          11.22754491017964,
          11.22754491017964,
          11.22754491017964,
          11.22754491017964,
          11.22754491017964,
          11.22754491017964,
          11.22754491017964,
          11.22754491017964,
          11.22754491017964,
          11.22754491017964,
          11.22754491017964,
          11.22754491017964,
          11.22754491017964,
          11.22754491017964,
          11.22754491017964,
          11.22754491017964,
          11.22754491017964,
          11.22754491017964,
          11.22754491017964,
          11.22754491017964,
          11.22754491017964,
          11.22754491017964,
          11.22754491017964,
          11.22754491017964,
          11.22754491017964,
          11.22754491017964,
          11.22754491017964,
          11.22754491017964,
          11.22754491017964,
          11.22754491017964,
          11.22754491017964,
          11.22754491017964,
          11.22754491017964,
          11.22754491017964,
          11.22754491017964,
          11.22754491017964,
          11.22754491017964,
          11.22754491017964,
          11.22754491017964,
          11.22754491017964,
          11.22754491017964,
          11.22754491017964,
          11.22754491017964,
          11.22754491017964,
          11.22754491017964,
          11.22754491017964,
          11.22754491017964,
          11.22754491017964,
          11.22754491017964,
          11.22754491017964,
          11.22754491017964,
          11.22754491017964,
          11.22754491017964,
          11.22754491017964,
          11.22754491017964,
          11.22754491017964,
          11.22754491017964,
          11.22754491017964,
          11.22754491017964,
          11.22754491017964,
          11.22754491017964,
          11.22754491017964,
          11.22754491017964,
          11.22754491017964,
          11.22754491017964,
          11.22754491017964,
          11.22754491017964,
          11.22754491017964,
          11.22754491017964,
          11.22754491017964,
          11.22754491017964,
          11.22754491017964,
          11.22754491017964,
          11.22754491017964,
          11.22754491017964,
          11.377245508982035,
          11.377245508982035,
          11.377245508982035,
          11.377245508982035,
          11.377245508982035,
          11.377245508982035,
          11.377245508982035,
          11.377245508982035,
          11.377245508982035,
          11.377245508982035,
          11.377245508982035,
          11.377245508982035,
          11.377245508982035,
          11.377245508982035,
          11.377245508982035,
          11.377245508982035,
          11.377245508982035,
          11.377245508982035,
          11.377245508982035,
          11.377245508982035,
          11.377245508982035,
          11.377245508982035,
          11.377245508982035,
          11.377245508982035,
          11.377245508982035,
          11.377245508982035,
          11.377245508982035,
          11.377245508982035,
          11.377245508982035,
          11.377245508982035,
          11.377245508982035,
          11.377245508982035,
          11.52694610778443,
          11.676646706586826,
          11.676646706586826,
          11.676646706586826,
          11.676646706586826,
          11.676646706586826,
          11.676646706586826,
          11.826347305389222,
          11.826347305389222,
          11.826347305389222,
          11.826347305389222,
          11.826347305389222,
          11.826347305389222,
          11.826347305389222,
          12.125748502994012,
          12.125748502994012,
          12.275449101796408,
          12.275449101796408,
          12.275449101796408,
          12.425149700598803,
          12.425149700598803,
          12.425149700598803,
          12.425149700598803,
          12.425149700598803,
          12.574850299401197,
          12.574850299401197,
          12.574850299401197,
          12.574850299401197,
          12.574850299401197,
          12.574850299401197,
          12.574850299401197,
          12.574850299401197,
          12.724550898203592,
          12.724550898203592,
          12.724550898203592,
          12.724550898203592,
          12.724550898203592,
          12.724550898203592,
          12.724550898203592,
          12.724550898203592,
          12.874251497005988,
          12.874251497005988,
          12.874251497005988,
          12.874251497005988,
          12.874251497005988,
          13.023952095808383,
          13.023952095808383,
          13.023952095808383,
          13.023952095808383,
          13.173652694610778,
          13.173652694610778,
          13.323353293413174,
          13.323353293413174,
          13.323353293413174,
          13.323353293413174,
          13.323353293413174,
          13.323353293413174,
          13.47305389221557,
          13.47305389221557,
          13.47305389221557,
          13.47305389221557,
          13.47305389221557,
          13.77245508982036,
          13.77245508982036,
          13.77245508982036,
          13.922155688622755,
          14.221556886227544,
          14.221556886227544,
          14.37125748502994,
          14.37125748502994,
          14.37125748502994,
          14.520958083832335,
          14.520958083832335,
          14.520958083832335,
          14.520958083832335,
          14.520958083832335,
          14.520958083832335,
          14.67065868263473,
          14.67065868263473,
          14.67065868263473,
          14.67065868263473,
          14.67065868263473,
          14.67065868263473,
          14.67065868263473,
          14.67065868263473,
          14.67065868263473,
          14.67065868263473,
          14.820359281437126,
          14.970059880239521,
          14.970059880239521,
          14.970059880239521,
          15.419161676646707,
          15.419161676646707,
          15.718562874251496,
          16.017964071856287,
          16.167664670658684,
          16.167664670658684,
          16.167664670658684,
          16.167664670658684,
          16.317365269461078,
          16.46706586826347,
          16.46706586826347,
          16.46706586826347,
          16.46706586826347,
          16.46706586826347,
          16.46706586826347,
          16.61676646706587,
          16.61676646706587,
          16.61676646706587,
          16.61676646706587,
          16.61676646706587,
          16.61676646706587,
          16.766467065868262,
          16.766467065868262,
          16.766467065868262,
          16.766467065868262,
          16.766467065868262,
          16.766467065868262,
          16.766467065868262,
          16.766467065868262,
          17.065868263473053,
          17.21556886227545,
          17.365269461077844,
          17.365269461077844,
          17.365269461077844,
          17.365269461077844,
          17.51497005988024,
          17.51497005988024,
          17.51497005988024,
          17.51497005988024,
          17.51497005988024,
          17.51497005988024,
          17.664670658682635,
          17.81437125748503,
          17.81437125748503,
          17.964071856287426,
          17.964071856287426,
          17.964071856287426,
          18.263473053892216,
          18.41317365269461,
          18.41317365269461,
          18.562874251497007,
          18.7125748502994,
          18.862275449101798,
          19.311377245508982,
          19.461077844311376,
          19.760479041916167
         ],
         "yaxis": "y"
        },
        {
         "fillpattern": {
          "shape": ""
         },
         "hovertemplate": "number of topics=1<br>threshold=%{x}<br>share of reviews, %=%{y}<extra></extra>",
         "legendgroup": "1",
         "line": {
          "color": "rgb(127,205,187)"
         },
         "marker": {
          "symbol": "circle"
         },
         "mode": "lines",
         "name": "1",
         "orientation": "v",
         "showlegend": true,
         "stackgroup": "1",
         "type": "scatter",
         "x": [
          0,
          0.001,
          0.002,
          0.003,
          0.004,
          0.005,
          0.006,
          0.007,
          0.008,
          0.009000000000000001,
          0.01,
          0.011,
          0.012,
          0.013000000000000001,
          0.014,
          0.015,
          0.016,
          0.017,
          0.018000000000000002,
          0.019,
          0.02,
          0.021,
          0.022,
          0.023,
          0.024,
          0.025,
          0.026000000000000002,
          0.027,
          0.028,
          0.029,
          0.03,
          0.031,
          0.032,
          0.033,
          0.034,
          0.035,
          0.036000000000000004,
          0.037,
          0.038,
          0.039,
          0.04,
          0.041,
          0.042,
          0.043000000000000003,
          0.044,
          0.045,
          0.046,
          0.047,
          0.048,
          0.049,
          0.05,
          0.051000000000000004,
          0.052000000000000005,
          0.053,
          0.054,
          0.055,
          0.056,
          0.057,
          0.058,
          0.059000000000000004,
          0.06,
          0.061,
          0.062,
          0.063,
          0.064,
          0.065,
          0.066,
          0.067,
          0.068,
          0.069,
          0.07,
          0.07100000000000001,
          0.07200000000000001,
          0.073,
          0.074,
          0.075,
          0.076,
          0.077,
          0.078,
          0.079,
          0.08,
          0.081,
          0.082,
          0.083,
          0.084,
          0.085,
          0.08600000000000001,
          0.08700000000000001,
          0.088,
          0.089,
          0.09,
          0.091,
          0.092,
          0.093,
          0.094,
          0.095,
          0.096,
          0.097,
          0.098,
          0.099,
          0.1,
          0.101,
          0.10200000000000001,
          0.10300000000000001,
          0.10400000000000001,
          0.105,
          0.106,
          0.107,
          0.108,
          0.109,
          0.11,
          0.111,
          0.112,
          0.113,
          0.114,
          0.115,
          0.116,
          0.117,
          0.11800000000000001,
          0.11900000000000001,
          0.12,
          0.121,
          0.122,
          0.123,
          0.124,
          0.125,
          0.126,
          0.127,
          0.128,
          0.129,
          0.13,
          0.131,
          0.132,
          0.133,
          0.134,
          0.135,
          0.136,
          0.137,
          0.138,
          0.139,
          0.14,
          0.14100000000000001,
          0.14200000000000002,
          0.14300000000000002,
          0.14400000000000002,
          0.145,
          0.146,
          0.147,
          0.148,
          0.149,
          0.15,
          0.151,
          0.152,
          0.153,
          0.154,
          0.155,
          0.156,
          0.157,
          0.158,
          0.159,
          0.16,
          0.161,
          0.162,
          0.163,
          0.164,
          0.165,
          0.166,
          0.167,
          0.168,
          0.169,
          0.17,
          0.171,
          0.17200000000000001,
          0.17300000000000001,
          0.17400000000000002,
          0.17500000000000002,
          0.176,
          0.177,
          0.178,
          0.179,
          0.18,
          0.181,
          0.182,
          0.183,
          0.184,
          0.185,
          0.186,
          0.187,
          0.188,
          0.189,
          0.19,
          0.191,
          0.192,
          0.193,
          0.194,
          0.195,
          0.196,
          0.197,
          0.198,
          0.199,
          0.2,
          0.201,
          0.202,
          0.203,
          0.20400000000000001,
          0.20500000000000002,
          0.20600000000000002,
          0.20700000000000002,
          0.20800000000000002,
          0.209,
          0.21,
          0.211,
          0.212,
          0.213,
          0.214,
          0.215,
          0.216,
          0.217,
          0.218,
          0.219,
          0.22,
          0.221,
          0.222,
          0.223,
          0.224,
          0.225,
          0.226,
          0.227,
          0.228,
          0.229,
          0.23,
          0.231,
          0.232,
          0.233,
          0.234,
          0.23500000000000001,
          0.23600000000000002,
          0.23700000000000002,
          0.23800000000000002,
          0.23900000000000002,
          0.24,
          0.241,
          0.242,
          0.243,
          0.244,
          0.245,
          0.246,
          0.247,
          0.248,
          0.249,
          0.25,
          0.251,
          0.252,
          0.253,
          0.254,
          0.255,
          0.256,
          0.257,
          0.258,
          0.259,
          0.26,
          0.261,
          0.262,
          0.263,
          0.264,
          0.265,
          0.266,
          0.267,
          0.268,
          0.269,
          0.27,
          0.271,
          0.272,
          0.273,
          0.274,
          0.275,
          0.276,
          0.277,
          0.278,
          0.279,
          0.28,
          0.281,
          0.28200000000000003,
          0.28300000000000003,
          0.28400000000000003,
          0.28500000000000003,
          0.28600000000000003,
          0.28700000000000003,
          0.28800000000000003,
          0.289,
          0.29,
          0.291,
          0.292,
          0.293,
          0.294,
          0.295,
          0.296,
          0.297,
          0.298,
          0.299,
          0.3,
          0.301,
          0.302,
          0.303,
          0.304,
          0.305,
          0.306,
          0.307,
          0.308,
          0.309,
          0.31,
          0.311,
          0.312,
          0.313,
          0.314,
          0.315,
          0.316,
          0.317,
          0.318,
          0.319,
          0.32,
          0.321,
          0.322,
          0.323,
          0.324,
          0.325,
          0.326,
          0.327,
          0.328,
          0.329,
          0.33,
          0.331,
          0.332,
          0.333,
          0.334,
          0.335,
          0.336,
          0.337,
          0.338,
          0.339,
          0.34,
          0.341,
          0.342,
          0.343,
          0.34400000000000003,
          0.34500000000000003,
          0.34600000000000003,
          0.34700000000000003,
          0.34800000000000003,
          0.34900000000000003
         ],
         "xaxis": "x",
         "y": [
          0,
          32.78443113772455,
          32.78443113772455,
          32.78443113772455,
          32.78443113772455,
          32.78443113772455,
          32.78443113772455,
          32.78443113772455,
          32.78443113772455,
          32.78443113772455,
          32.78443113772455,
          32.78443113772455,
          32.78443113772455,
          32.78443113772455,
          32.78443113772455,
          32.78443113772455,
          32.78443113772455,
          32.78443113772455,
          32.78443113772455,
          32.78443113772455,
          32.78443113772455,
          32.78443113772455,
          32.78443113772455,
          32.78443113772455,
          32.78443113772455,
          32.78443113772455,
          32.78443113772455,
          32.78443113772455,
          32.78443113772455,
          32.93413173652694,
          32.93413173652694,
          32.93413173652694,
          32.93413173652694,
          32.93413173652694,
          32.93413173652694,
          32.93413173652694,
          32.93413173652694,
          32.93413173652694,
          32.93413173652694,
          32.93413173652694,
          32.93413173652694,
          32.93413173652694,
          33.08383233532934,
          33.08383233532934,
          33.08383233532934,
          33.08383233532934,
          33.08383233532934,
          33.08383233532934,
          33.08383233532934,
          33.08383233532934,
          33.08383233532934,
          33.08383233532934,
          33.23353293413174,
          33.23353293413174,
          33.23353293413174,
          33.23353293413174,
          33.23353293413174,
          33.23353293413174,
          33.23353293413174,
          33.23353293413174,
          33.23353293413174,
          33.23353293413174,
          33.23353293413174,
          33.383233532934135,
          33.383233532934135,
          33.383233532934135,
          33.532934131736525,
          33.532934131736525,
          33.68263473053892,
          33.83233532934132,
          33.83233532934132,
          33.83233532934132,
          33.83233532934132,
          33.98203592814371,
          33.98203592814371,
          33.98203592814371,
          34.131736526946106,
          34.2814371257485,
          34.2814371257485,
          34.2814371257485,
          34.2814371257485,
          34.2814371257485,
          34.2814371257485,
          34.2814371257485,
          34.4311377245509,
          34.4311377245509,
          34.58083832335329,
          34.58083832335329,
          35.02994011976048,
          35.17964071856287,
          35.32934131736527,
          35.32934131736527,
          35.32934131736527,
          35.32934131736527,
          35.32934131736527,
          35.32934131736527,
          35.32934131736527,
          35.32934131736527,
          35.32934131736527,
          35.32934131736527,
          35.32934131736527,
          35.32934131736527,
          35.32934131736527,
          35.32934131736527,
          35.32934131736527,
          35.32934131736527,
          35.32934131736527,
          35.32934131736527,
          35.47904191616767,
          35.47904191616767,
          35.47904191616767,
          35.47904191616767,
          35.62874251497006,
          35.62874251497006,
          35.778443113772454,
          35.778443113772454,
          35.778443113772454,
          35.778443113772454,
          35.778443113772454,
          35.92814371257485,
          35.92814371257485,
          35.92814371257485,
          35.92814371257485,
          36.07784431137725,
          36.22754491017964,
          36.377245508982035,
          36.377245508982035,
          36.52694610778443,
          36.52694610778443,
          36.52694610778443,
          36.52694610778443,
          36.52694610778443,
          36.52694610778443,
          36.52694610778443,
          36.52694610778443,
          36.82634730538922,
          36.82634730538922,
          36.82634730538922,
          36.97604790419162,
          36.97604790419162,
          37.125748502994014,
          37.4251497005988,
          37.4251497005988,
          37.5748502994012,
          37.874251497005986,
          38.02395209580838,
          38.32335329341317,
          38.47305389221557,
          38.47305389221557,
          38.622754491017965,
          38.622754491017965,
          38.622754491017965,
          38.77245508982036,
          38.92215568862275,
          39.52095808383233,
          39.67065868263473,
          39.82035928143713,
          39.82035928143713,
          40.119760479041915,
          40.41916167664671,
          40.7185628742515,
          41.16766467065868,
          41.16766467065868,
          41.31736526946108,
          41.467065868263475,
          41.76646706586826,
          42.06586826347306,
          42.06586826347306,
          42.06586826347306,
          42.365269461077844,
          42.51497005988024,
          42.365269461077844,
          42.51497005988024,
          42.81437125748503,
          43.26347305389221,
          43.41317365269461,
          43.56287425149701,
          43.56287425149701,
          43.862275449101794,
          43.862275449101794,
          43.862275449101794,
          44.01197604790419,
          44.31137724550898,
          44.461077844311376,
          44.91017964071856,
          46.25748502994012,
          46.25748502994012,
          46.25748502994012,
          46.25748502994012,
          46.40718562874252,
          46.706586826347305,
          47.604790419161674,
          47.75449101796407,
          47.75449101796407,
          47.75449101796407,
          47.75449101796407,
          48.053892215568865,
          48.203592814371255,
          48.35329341317365,
          48.80239520958084,
          48.80239520958084,
          49.10179640718563,
          49.25149700598802,
          49.70059880239521,
          50.1497005988024,
          50.29940119760479,
          50.449101796407184,
          50.449101796407184,
          50.59880239520958,
          50.74850299401198,
          51.19760479041916,
          51.34730538922156,
          51.34730538922156,
          51.34730538922156,
          51.49700598802395,
          51.49700598802395,
          51.49700598802395,
          51.19760479041916,
          51.19760479041916,
          51.047904191616766,
          51.19760479041916,
          51.64670658682635,
          51.49700598802395,
          51.796407185628745,
          52.09580838323353,
          52.09580838323353,
          52.69461077844311,
          52.84431137724551,
          52.9940119760479,
          52.9940119760479,
          53.1437125748503,
          53.1437125748503,
          53.1437125748503,
          53.1437125748503,
          53.293413173652695,
          53.74251497005988,
          54.34131736526946,
          54.34131736526946,
          54.790419161676645,
          54.790419161676645,
          54.94011976047904,
          55.23952095808383,
          55.38922155688623,
          55.23952095808383,
          55.68862275449102,
          55.83832335329341,
          56.287425149700596,
          56.73652694610779,
          57.33532934131737,
          57.78443113772455,
          57.78443113772455,
          58.532934131736525,
          58.68263473053892,
          59.2814371257485,
          59.2814371257485,
          59.73053892215569,
          60.17964071856287,
          60.17964071856287,
          60.62874251497006,
          60.778443113772454,
          60.778443113772454,
          61.07784431137725,
          62.125748502994014,
          62.4251497005988,
          62.5748502994012,
          62.4251497005988,
          62.4251497005988,
          62.724550898203596,
          62.874251497005986,
          62.724550898203596,
          62.724550898203596,
          62.874251497005986,
          62.874251497005986,
          63.17365269461078,
          63.17365269461078,
          63.47305389221557,
          63.47305389221557,
          64.22155688622755,
          64.22155688622755,
          64.22155688622755,
          64.67065868263474,
          64.82035928143712,
          65.11976047904191,
          65.26946107784431,
          65.41916167664671,
          66.01796407185628,
          66.31736526946108,
          66.61676646706587,
          66.61676646706587,
          66.76646706586827,
          66.91616766467065,
          67.21556886227545,
          67.21556886227545,
          67.36526946107784,
          67.06586826347305,
          67.06586826347305,
          67.06586826347305,
          66.76646706586827,
          66.76646706586827,
          67.06586826347305,
          67.21556886227545,
          67.21556886227545,
          67.51497005988024,
          67.66467065868264,
          67.66467065868264,
          67.81437125748504,
          67.81437125748504,
          67.81437125748504,
          67.81437125748504,
          67.96407185628742,
          68.26347305389221,
          68.26347305389221,
          68.26347305389221,
          68.562874251497,
          68.7125748502994,
          68.562874251497,
          68.7125748502994,
          69.0119760479042,
          69.16167664670658,
          69.46107784431138,
          69.61077844311377,
          69.61077844311377,
          69.76047904191617,
          69.46107784431138,
          69.76047904191617,
          69.91017964071857,
          70.20958083832335,
          70.20958083832335,
          70.20958083832335,
          70.50898203592814,
          70.65868263473054,
          70.65868263473054,
          70.65868263473054,
          70.65868263473054,
          70.80838323353294,
          70.65868263473054,
          70.80838323353294,
          70.95808383233533,
          70.95808383233533,
          71.40718562874251,
          71.40718562874251,
          71.10778443113773,
          70.95808383233533,
          71.10778443113773,
          71.10778443113773,
          70.95808383233533,
          70.80838323353294,
          70.35928143712574,
          70.20958083832335,
          70.05988023952096
         ],
         "yaxis": "y"
        },
        {
         "fillpattern": {
          "shape": ""
         },
         "hovertemplate": "number of topics=2<br>threshold=%{x}<br>share of reviews, %=%{y}<extra></extra>",
         "legendgroup": "2",
         "line": {
          "color": "rgb(65,182,196)"
         },
         "marker": {
          "symbol": "circle"
         },
         "mode": "lines",
         "name": "2",
         "orientation": "v",
         "showlegend": true,
         "stackgroup": "1",
         "type": "scatter",
         "x": [
          0,
          0.001,
          0.002,
          0.003,
          0.004,
          0.005,
          0.006,
          0.007,
          0.008,
          0.009000000000000001,
          0.01,
          0.011,
          0.012,
          0.013000000000000001,
          0.014,
          0.015,
          0.016,
          0.017,
          0.018000000000000002,
          0.019,
          0.02,
          0.021,
          0.022,
          0.023,
          0.024,
          0.025,
          0.026000000000000002,
          0.027,
          0.028,
          0.029,
          0.03,
          0.031,
          0.032,
          0.033,
          0.034,
          0.035,
          0.036000000000000004,
          0.037,
          0.038,
          0.039,
          0.04,
          0.041,
          0.042,
          0.043000000000000003,
          0.044,
          0.045,
          0.046,
          0.047,
          0.048,
          0.049,
          0.05,
          0.051000000000000004,
          0.052000000000000005,
          0.053,
          0.054,
          0.055,
          0.056,
          0.057,
          0.058,
          0.059000000000000004,
          0.06,
          0.061,
          0.062,
          0.063,
          0.064,
          0.065,
          0.066,
          0.067,
          0.068,
          0.069,
          0.07,
          0.07100000000000001,
          0.07200000000000001,
          0.073,
          0.074,
          0.075,
          0.076,
          0.077,
          0.078,
          0.079,
          0.08,
          0.081,
          0.082,
          0.083,
          0.084,
          0.085,
          0.08600000000000001,
          0.08700000000000001,
          0.088,
          0.089,
          0.09,
          0.091,
          0.092,
          0.093,
          0.094,
          0.095,
          0.096,
          0.097,
          0.098,
          0.099,
          0.1,
          0.101,
          0.10200000000000001,
          0.10300000000000001,
          0.10400000000000001,
          0.105,
          0.106,
          0.107,
          0.108,
          0.109,
          0.11,
          0.111,
          0.112,
          0.113,
          0.114,
          0.115,
          0.116,
          0.117,
          0.11800000000000001,
          0.11900000000000001,
          0.12,
          0.121,
          0.122,
          0.123,
          0.124,
          0.125,
          0.126,
          0.127,
          0.128,
          0.129,
          0.13,
          0.131,
          0.132,
          0.133,
          0.134,
          0.135,
          0.136,
          0.137,
          0.138,
          0.139,
          0.14,
          0.14100000000000001,
          0.14200000000000002,
          0.14300000000000002,
          0.14400000000000002,
          0.145,
          0.146,
          0.147,
          0.148,
          0.149,
          0.15,
          0.151,
          0.152,
          0.153,
          0.154,
          0.155,
          0.156,
          0.157,
          0.158,
          0.159,
          0.16,
          0.161,
          0.162,
          0.163,
          0.164,
          0.165,
          0.166,
          0.167,
          0.168,
          0.169,
          0.17,
          0.171,
          0.17200000000000001,
          0.17300000000000001,
          0.17400000000000002,
          0.17500000000000002,
          0.176,
          0.177,
          0.178,
          0.179,
          0.18,
          0.181,
          0.182,
          0.183,
          0.184,
          0.185,
          0.186,
          0.187,
          0.188,
          0.189,
          0.19,
          0.191,
          0.192,
          0.193,
          0.194,
          0.195,
          0.196,
          0.197,
          0.198,
          0.199,
          0.2,
          0.201,
          0.202,
          0.203,
          0.20400000000000001,
          0.20500000000000002,
          0.20600000000000002,
          0.20700000000000002,
          0.20800000000000002,
          0.209,
          0.21,
          0.211,
          0.212,
          0.213,
          0.214,
          0.215,
          0.216,
          0.217,
          0.218,
          0.219,
          0.22,
          0.221,
          0.222,
          0.223,
          0.224,
          0.225,
          0.226,
          0.227,
          0.228,
          0.229,
          0.23,
          0.231,
          0.232,
          0.233,
          0.234,
          0.23500000000000001,
          0.23600000000000002,
          0.23700000000000002,
          0.23800000000000002,
          0.23900000000000002,
          0.24,
          0.241,
          0.242,
          0.243,
          0.244,
          0.245,
          0.246,
          0.247,
          0.248,
          0.249,
          0.25,
          0.251,
          0.252,
          0.253,
          0.254,
          0.255,
          0.256,
          0.257,
          0.258,
          0.259,
          0.26,
          0.261,
          0.262,
          0.263,
          0.264,
          0.265,
          0.266,
          0.267,
          0.268,
          0.269,
          0.27,
          0.271,
          0.272,
          0.273,
          0.274,
          0.275,
          0.276,
          0.277,
          0.278,
          0.279,
          0.28,
          0.281,
          0.28200000000000003,
          0.28300000000000003,
          0.28400000000000003,
          0.28500000000000003,
          0.28600000000000003,
          0.28700000000000003,
          0.28800000000000003,
          0.289,
          0.29,
          0.291,
          0.292,
          0.293,
          0.294,
          0.295,
          0.296,
          0.297,
          0.298,
          0.299,
          0.3,
          0.301,
          0.302,
          0.303,
          0.304,
          0.305,
          0.306,
          0.307,
          0.308,
          0.309,
          0.31,
          0.311,
          0.312,
          0.313,
          0.314,
          0.315,
          0.316,
          0.317,
          0.318,
          0.319,
          0.32,
          0.321,
          0.322,
          0.323,
          0.324,
          0.325,
          0.326,
          0.327,
          0.328,
          0.329,
          0.33,
          0.331,
          0.332,
          0.333,
          0.334,
          0.335,
          0.336,
          0.337,
          0.338,
          0.339,
          0.34,
          0.341,
          0.342,
          0.343,
          0.34400000000000003,
          0.34500000000000003,
          0.34600000000000003,
          0.34700000000000003,
          0.34800000000000003,
          0.34900000000000003
         ],
         "xaxis": "x",
         "y": [
          0,
          18.11377245508982,
          18.11377245508982,
          18.11377245508982,
          18.11377245508982,
          18.11377245508982,
          18.11377245508982,
          18.11377245508982,
          18.11377245508982,
          18.11377245508982,
          18.11377245508982,
          18.11377245508982,
          18.11377245508982,
          18.11377245508982,
          18.11377245508982,
          18.11377245508982,
          18.11377245508982,
          18.263473053892216,
          18.263473053892216,
          18.263473053892216,
          18.263473053892216,
          18.263473053892216,
          18.263473053892216,
          18.41317365269461,
          18.41317365269461,
          18.41317365269461,
          18.562874251497007,
          18.562874251497007,
          18.562874251497007,
          18.41317365269461,
          18.41317365269461,
          18.41317365269461,
          18.41317365269461,
          18.41317365269461,
          18.562874251497007,
          18.562874251497007,
          18.562874251497007,
          18.7125748502994,
          18.7125748502994,
          18.862275449101798,
          18.862275449101798,
          18.862275449101798,
          18.862275449101798,
          19.01197604790419,
          19.161676646706585,
          19.161676646706585,
          19.311377245508982,
          19.311377245508982,
          19.311377245508982,
          19.311377245508982,
          19.610778443113773,
          19.760479041916167,
          19.910179640718564,
          19.910179640718564,
          20.059880239520957,
          20.209580838323355,
          20.209580838323355,
          20.35928143712575,
          20.35928143712575,
          20.35928143712575,
          20.508982035928145,
          20.65868263473054,
          20.808383233532933,
          20.808383233532933,
          20.95808383233533,
          20.95808383233533,
          20.808383233532933,
          21.107784431137723,
          20.95808383233533,
          20.808383233532933,
          20.808383233532933,
          20.808383233532933,
          20.95808383233533,
          20.808383233532933,
          20.95808383233533,
          21.107784431137723,
          20.95808383233533,
          20.808383233532933,
          20.95808383233533,
          21.107784431137723,
          21.107784431137723,
          21.25748502994012,
          21.55688622754491,
          21.55688622754491,
          21.55688622754491,
          21.856287425149702,
          21.856287425149702,
          22.005988023952096,
          21.706586826347305,
          21.706586826347305,
          21.706586826347305,
          22.005988023952096,
          22.15568862275449,
          22.15568862275449,
          22.305389221556887,
          22.305389221556887,
          22.305389221556887,
          22.75449101796407,
          22.75449101796407,
          22.904191616766468,
          22.904191616766468,
          22.904191616766468,
          22.904191616766468,
          22.904191616766468,
          22.904191616766468,
          22.904191616766468,
          23.05389221556886,
          23.20359281437126,
          23.20359281437126,
          23.50299401197605,
          23.50299401197605,
          23.50299401197605,
          23.652694610778443,
          23.952095808383234,
          23.802395209580837,
          23.952095808383234,
          23.952095808383234,
          23.952095808383234,
          24.101796407185628,
          23.952095808383234,
          24.251497005988025,
          24.70059880239521,
          25.29940119760479,
          25.449101796407184,
          25.59880239520958,
          26.197604790419163,
          26.197604790419163,
          26.047904191616766,
          27.395209580838323,
          27.395209580838323,
          27.84431137724551,
          27.84431137724551,
          28.44311377245509,
          28.44311377245509,
          28.892215568862277,
          29.34131736526946,
          29.64071856287425,
          29.64071856287425,
          29.64071856287425,
          29.64071856287425,
          30.089820359281436,
          30.089820359281436,
          30.688622754491018,
          30.688622754491018,
          30.688622754491018,
          30.838323353293415,
          30.688622754491018,
          30.838323353293415,
          31.2874251497006,
          31.2874251497006,
          31.2874251497006,
          31.2874251497006,
          31.137724550898202,
          31.2874251497006,
          31.137724550898202,
          31.437125748502993,
          31.58682634730539,
          31.88622754491018,
          31.58682634730539,
          31.437125748502993,
          31.137724550898202,
          30.838323353293415,
          31.137724550898202,
          31.137724550898202,
          30.98802395209581,
          30.838323353293415,
          30.688622754491018,
          30.838323353293415,
          30.98802395209581,
          30.98802395209581,
          30.838323353293415,
          30.98802395209581,
          31.137724550898202,
          30.838323353293415,
          30.389221556886227,
          30.538922155688624,
          30.98802395209581,
          31.137724550898202,
          30.98802395209581,
          31.58682634730539,
          31.736526946107784,
          31.58682634730539,
          31.58682634730539,
          31.58682634730539,
          31.2874251497006,
          29.940119760479043,
          29.940119760479043,
          30.089820359281436,
          30.089820359281436,
          29.940119760479043,
          29.64071856287425,
          28.892215568862277,
          28.892215568862277,
          29.04191616766467,
          29.64071856287425,
          29.64071856287425,
          29.491017964071855,
          29.491017964071855,
          29.491017964071855,
          29.790419161676645,
          30.239520958083833,
          30.389221556886227,
          30.389221556886227,
          30.089820359281436,
          29.790419161676645,
          30.089820359281436,
          29.940119760479043,
          30.089820359281436,
          30.089820359281436,
          30.389221556886227,
          30.239520958083833,
          30.239520958083833,
          30.389221556886227,
          30.538922155688624,
          31.2874251497006,
          31.2874251497006,
          31.2874251497006,
          31.2874251497006,
          31.88622754491018,
          32.035928143712574,
          31.88622754491018,
          31.437125748502993,
          31.437125748502993,
          31.137724550898202,
          31.2874251497006,
          31.2874251497006,
          30.838323353293415,
          30.538922155688624,
          30.389221556886227,
          30.389221556886227,
          30.239520958083833,
          30.538922155688624,
          30.688622754491018,
          30.688622754491018,
          30.688622754491018,
          30.239520958083833,
          29.64071856287425,
          29.64071856287425,
          29.191616766467067,
          29.191616766467067,
          29.04191616766467,
          28.74251497005988,
          28.74251497005988,
          28.74251497005988,
          28.293413173652695,
          28.143712574850298,
          27.84431137724551,
          27.54491017964072,
          27.095808383233532,
          26.79640718562874,
          26.94610778443114,
          26.197604790419163,
          26.047904191616766,
          25.449101796407184,
          25.29940119760479,
          24.850299401197606,
          24.40119760479042,
          24.40119760479042,
          24.101796407185628,
          23.952095808383234,
          23.802395209580837,
          23.802395209580837,
          22.75449101796407,
          22.45508982035928,
          22.305389221556887,
          22.15568862275449,
          22.15568862275449,
          22.15568862275449,
          21.856287425149702,
          21.706586826347305,
          21.856287425149702,
          21.706586826347305,
          21.706586826347305,
          21.407185628742514,
          21.25748502994012,
          20.95808383233533,
          20.95808383233533,
          20.209580838323355,
          20.35928143712575,
          20.35928143712575,
          19.910179640718564,
          19.910179640718564,
          19.610778443113773,
          19.610778443113773,
          19.461077844311376,
          18.862275449101798,
          18.562874251497007,
          18.263473053892216,
          18.263473053892216,
          18.11377245508982,
          17.81437125748503,
          17.365269461077844,
          17.365269461077844,
          17.21556886227545,
          17.065868263473053,
          17.065868263473053,
          16.91616766467066,
          16.91616766467066,
          16.766467065868262,
          16.46706586826347,
          16.317365269461078,
          16.317365269461078,
          15.868263473053892,
          15.568862275449101,
          15.568862275449101,
          15.419161676646707,
          15.419161676646707,
          15.419161676646707,
          15.419161676646707,
          15.119760479041917,
          14.820359281437126,
          14.820359281437126,
          14.970059880239521,
          14.67065868263473,
          14.520958083832335,
          14.520958083832335,
          14.37125748502994,
          14.071856287425149,
          14.071856287425149,
          13.77245508982036,
          13.622754491017965,
          13.622754491017965,
          13.47305389221557,
          13.47305389221557,
          13.023952095808383,
          12.724550898203592,
          12.425149700598803,
          12.425149700598803,
          12.425149700598803,
          11.976047904191617,
          11.826347305389222,
          11.826347305389222,
          11.826347305389222,
          11.826347305389222,
          11.676646706586826,
          11.676646706586826,
          11.377245508982035,
          11.22754491017964,
          11.077844311377245,
          10.62874251497006,
          10.62874251497006,
          10.62874251497006,
          10.62874251497006,
          10.479041916167665,
          10.32934131736527,
          10.32934131736527,
          10.32934131736527,
          10.32934131736527,
          10.32934131736527,
          10.179640718562874
         ],
         "yaxis": "y"
        },
        {
         "fillpattern": {
          "shape": ""
         },
         "hovertemplate": "number of topics=3<br>threshold=%{x}<br>share of reviews, %=%{y}<extra></extra>",
         "legendgroup": "3",
         "line": {
          "color": "rgb(29,145,192)"
         },
         "marker": {
          "symbol": "circle"
         },
         "mode": "lines",
         "name": "3",
         "orientation": "v",
         "showlegend": true,
         "stackgroup": "1",
         "type": "scatter",
         "x": [
          0,
          0.001,
          0.002,
          0.003,
          0.004,
          0.005,
          0.006,
          0.007,
          0.008,
          0.009000000000000001,
          0.01,
          0.011,
          0.012,
          0.013000000000000001,
          0.014,
          0.015,
          0.016,
          0.017,
          0.018000000000000002,
          0.019,
          0.02,
          0.021,
          0.022,
          0.023,
          0.024,
          0.025,
          0.026000000000000002,
          0.027,
          0.028,
          0.029,
          0.03,
          0.031,
          0.032,
          0.033,
          0.034,
          0.035,
          0.036000000000000004,
          0.037,
          0.038,
          0.039,
          0.04,
          0.041,
          0.042,
          0.043000000000000003,
          0.044,
          0.045,
          0.046,
          0.047,
          0.048,
          0.049,
          0.05,
          0.051000000000000004,
          0.052000000000000005,
          0.053,
          0.054,
          0.055,
          0.056,
          0.057,
          0.058,
          0.059000000000000004,
          0.06,
          0.061,
          0.062,
          0.063,
          0.064,
          0.065,
          0.066,
          0.067,
          0.068,
          0.069,
          0.07,
          0.07100000000000001,
          0.07200000000000001,
          0.073,
          0.074,
          0.075,
          0.076,
          0.077,
          0.078,
          0.079,
          0.08,
          0.081,
          0.082,
          0.083,
          0.084,
          0.085,
          0.08600000000000001,
          0.08700000000000001,
          0.088,
          0.089,
          0.09,
          0.091,
          0.092,
          0.093,
          0.094,
          0.095,
          0.096,
          0.097,
          0.098,
          0.099,
          0.1,
          0.101,
          0.10200000000000001,
          0.10300000000000001,
          0.10400000000000001,
          0.105,
          0.106,
          0.107,
          0.108,
          0.109,
          0.11,
          0.111,
          0.112,
          0.113,
          0.114,
          0.115,
          0.116,
          0.117,
          0.11800000000000001,
          0.11900000000000001,
          0.12,
          0.121,
          0.122,
          0.123,
          0.124,
          0.125,
          0.126,
          0.127,
          0.128,
          0.129,
          0.13,
          0.131,
          0.132,
          0.133,
          0.134,
          0.135,
          0.136,
          0.137,
          0.138,
          0.139,
          0.14,
          0.14100000000000001,
          0.14200000000000002,
          0.14300000000000002,
          0.14400000000000002,
          0.145,
          0.146,
          0.147,
          0.148,
          0.149,
          0.15,
          0.151,
          0.152,
          0.153,
          0.154,
          0.155,
          0.156,
          0.157,
          0.158,
          0.159,
          0.16,
          0.161,
          0.162,
          0.163,
          0.164,
          0.165,
          0.166,
          0.167,
          0.168,
          0.169,
          0.17,
          0.171,
          0.17200000000000001,
          0.17300000000000001,
          0.17400000000000002,
          0.17500000000000002,
          0.176,
          0.177,
          0.178,
          0.179,
          0.18,
          0.181,
          0.182,
          0.183,
          0.184,
          0.185,
          0.186,
          0.187,
          0.188,
          0.189,
          0.19,
          0.191,
          0.192,
          0.193,
          0.194,
          0.195,
          0.196,
          0.197,
          0.198,
          0.199,
          0.2,
          0.201,
          0.202,
          0.203,
          0.20400000000000001,
          0.20500000000000002,
          0.20600000000000002,
          0.20700000000000002,
          0.20800000000000002,
          0.209,
          0.21,
          0.211,
          0.212,
          0.213,
          0.214,
          0.215,
          0.216,
          0.217,
          0.218,
          0.219,
          0.22,
          0.221,
          0.222,
          0.223,
          0.224,
          0.225,
          0.226,
          0.227,
          0.228,
          0.229,
          0.23,
          0.231,
          0.232,
          0.233,
          0.234,
          0.23500000000000001,
          0.23600000000000002,
          0.23700000000000002,
          0.23800000000000002,
          0.23900000000000002,
          0.24,
          0.241,
          0.242,
          0.243,
          0.244,
          0.245,
          0.246,
          0.247,
          0.248,
          0.249,
          0.25,
          0.251,
          0.252,
          0.253,
          0.254,
          0.255,
          0.256,
          0.257,
          0.258,
          0.259,
          0.26,
          0.261,
          0.262,
          0.263,
          0.264,
          0.265,
          0.266,
          0.267,
          0.268,
          0.269,
          0.27,
          0.271,
          0.272,
          0.273,
          0.274,
          0.275,
          0.276,
          0.277,
          0.278,
          0.279,
          0.28,
          0.281,
          0.28200000000000003,
          0.28300000000000003,
          0.28400000000000003,
          0.28500000000000003,
          0.28600000000000003,
          0.28700000000000003,
          0.28800000000000003,
          0.289,
          0.29,
          0.291,
          0.292,
          0.293,
          0.294,
          0.295,
          0.296,
          0.297,
          0.298,
          0.299,
          0.3,
          0.301,
          0.302,
          0.303,
          0.304,
          0.305,
          0.306,
          0.307,
          0.308,
          0.309,
          0.31,
          0.311,
          0.312,
          0.313,
          0.314,
          0.315,
          0.316,
          0.317,
          0.318,
          0.319,
          0.32,
          0.321,
          0.322,
          0.323,
          0.324,
          0.325,
          0.326,
          0.327,
          0.328,
          0.329,
          0.33,
          0.331,
          0.332,
          0.333,
          0.334,
          0.335,
          0.336,
          0.337,
          0.338,
          0.339,
          0.34,
          0.341,
          0.342,
          0.343,
          0.34400000000000003,
          0.34500000000000003,
          0.34600000000000003,
          0.34700000000000003,
          0.34800000000000003,
          0.34900000000000003
         ],
         "xaxis": "x",
         "y": [
          0,
          11.22754491017964,
          11.22754491017964,
          11.22754491017964,
          11.22754491017964,
          11.22754491017964,
          11.22754491017964,
          11.22754491017964,
          11.22754491017964,
          11.22754491017964,
          11.22754491017964,
          11.377245508982035,
          11.377245508982035,
          11.377245508982035,
          11.377245508982035,
          11.52694610778443,
          11.52694610778443,
          11.377245508982035,
          11.377245508982035,
          11.377245508982035,
          11.377245508982035,
          11.377245508982035,
          11.52694610778443,
          11.377245508982035,
          11.377245508982035,
          11.377245508982035,
          11.22754491017964,
          11.22754491017964,
          11.22754491017964,
          11.52694610778443,
          11.676646706586826,
          11.826347305389222,
          11.976047904191617,
          12.125748502994012,
          11.976047904191617,
          12.125748502994012,
          12.275449101796408,
          12.125748502994012,
          12.125748502994012,
          12.125748502994012,
          12.125748502994012,
          12.125748502994012,
          12.425149700598803,
          12.275449101796408,
          12.275449101796408,
          12.425149700598803,
          12.425149700598803,
          12.574850299401197,
          12.874251497005988,
          13.173652694610778,
          13.323353293413174,
          13.323353293413174,
          13.323353293413174,
          13.323353293413174,
          13.173652694610778,
          13.023952095808383,
          13.023952095808383,
          12.874251497005988,
          12.874251497005988,
          12.874251497005988,
          12.874251497005988,
          13.023952095808383,
          12.874251497005988,
          13.023952095808383,
          13.023952095808383,
          13.173652694610778,
          13.47305389221557,
          13.47305389221557,
          13.47305389221557,
          13.77245508982036,
          13.77245508982036,
          13.922155688622755,
          13.77245508982036,
          13.922155688622755,
          13.77245508982036,
          13.922155688622755,
          14.37125748502994,
          14.67065868263473,
          14.970059880239521,
          14.970059880239521,
          15.419161676646707,
          15.419161676646707,
          15.269461077844312,
          15.568862275449101,
          15.568862275449101,
          15.419161676646707,
          15.419161676646707,
          15.419161676646707,
          15.568862275449101,
          15.568862275449101,
          15.419161676646707,
          15.269461077844312,
          15.269461077844312,
          15.419161676646707,
          15.568862275449101,
          15.868263473053892,
          16.017964071856287,
          15.868263473053892,
          16.017964071856287,
          16.017964071856287,
          16.167664670658684,
          16.766467065868262,
          16.91616766467066,
          17.21556886227545,
          17.664670658682635,
          17.81437125748503,
          17.81437125748503,
          18.11377245508982,
          17.964071856287426,
          17.964071856287426,
          18.11377245508982,
          18.11377245508982,
          18.11377245508982,
          17.81437125748503,
          17.81437125748503,
          17.964071856287426,
          18.11377245508982,
          18.562874251497007,
          18.41317365269461,
          19.910179640718564,
          19.760479041916167,
          19.760479041916167,
          19.311377245508982,
          19.311377245508982,
          19.461077844311376,
          18.7125748502994,
          19.01197604790419,
          19.01197604790419,
          17.664670658682635,
          17.81437125748503,
          17.664670658682635,
          17.81437125748503,
          17.21556886227545,
          17.365269461077844,
          17.51497005988024,
          16.91616766467066,
          16.91616766467066,
          16.91616766467066,
          16.91616766467066,
          17.065868263473053,
          16.766467065868262,
          16.46706586826347,
          16.46706586826347,
          16.317365269461078,
          16.017964071856287,
          15.868263473053892,
          15.718562874251496,
          15.419161676646707,
          14.970059880239521,
          14.970059880239521,
          14.970059880239521,
          14.970059880239521,
          15.119760479041917,
          14.970059880239521,
          14.520958083832335,
          14.221556886227544,
          13.922155688622755,
          13.922155688622755,
          13.922155688622755,
          14.071856287425149,
          14.37125748502994,
          14.520958083832335,
          14.37125748502994,
          14.520958083832335,
          14.520958083832335,
          14.37125748502994,
          14.37125748502994,
          14.221556886227544,
          14.37125748502994,
          14.071856287425149,
          14.071856287425149,
          13.922155688622755,
          13.77245508982036,
          13.77245508982036,
          13.922155688622755,
          13.622754491017965,
          13.023952095808383,
          12.874251497005988,
          12.724550898203592,
          12.125748502994012,
          12.275449101796408,
          12.425149700598803,
          12.275449101796408,
          12.275449101796408,
          12.125748502994012,
          12.125748502994012,
          12.125748502994012,
          11.976047904191617,
          11.976047904191617,
          11.976047904191617,
          12.125748502994012,
          11.976047904191617,
          11.826347305389222,
          11.676646706586826,
          11.077844311377245,
          11.077844311377245,
          10.928143712574851,
          10.778443113772456,
          10.62874251497006,
          9.880239520958083,
          9.431137724550899,
          8.982035928143713,
          8.832335329341317,
          8.682634730538922,
          8.383233532934131,
          7.934131736526946,
          7.934131736526946,
          7.7844311377245505,
          7.634730538922156,
          7.18562874251497,
          6.736526946107785,
          6.586826347305389,
          6.437125748502994,
          6.287425149700598,
          5.389221556886228,
          5.389221556886228,
          5.389221556886228,
          5.389221556886228,
          4.790419161676646,
          4.640718562874252,
          4.640718562874252,
          4.640718562874252,
          4.640718562874252,
          4.640718562874252,
          4.191616766467066,
          4.191616766467066,
          4.041916167664671,
          4.041916167664671,
          4.041916167664671,
          4.041916167664671,
          4.041916167664671,
          3.7425149700598803,
          3.592814371257485,
          3.592814371257485,
          3.44311377245509,
          3.2934131736526946,
          3.2934131736526946,
          3.2934131736526946,
          3.2934131736526946,
          3.2934131736526946,
          3.2934131736526946,
          3.2934131736526946,
          3.143712574850299,
          3.143712574850299,
          3.143712574850299,
          3.143712574850299,
          2.9940119760479043,
          2.844311377245509,
          2.5449101796407185,
          2.395209580838323,
          2.245508982035928,
          2.245508982035928,
          2.095808383233533,
          2.095808383233533,
          2.095808383233533,
          2.095808383233533,
          2.095808383233533,
          2.095808383233533,
          1.9461077844311376,
          1.9461077844311376,
          1.9461077844311376,
          1.6467065868263473,
          1.6467065868263473,
          1.6467065868263473,
          1.6467065868263473,
          1.6467065868263473,
          1.6467065868263473,
          1.347305389221557,
          1.347305389221557,
          1.347305389221557,
          1.1976047904191616,
          1.0479041916167664,
          1.0479041916167664,
          1.0479041916167664,
          1.0479041916167664,
          1.0479041916167664,
          1.0479041916167664,
          1.0479041916167664,
          0.8982035928143712,
          0.8982035928143712,
          0.7485029940119761,
          0.5988023952095808,
          0.5988023952095808,
          0.4491017964071856,
          0.4491017964071856,
          0.4491017964071856,
          0.4491017964071856,
          0.4491017964071856,
          0.4491017964071856,
          0.4491017964071856,
          0.4491017964071856,
          0.4491017964071856,
          0.4491017964071856,
          0.4491017964071856,
          0.4491017964071856,
          0.4491017964071856,
          0.2994011976047904,
          0.2994011976047904,
          0.2994011976047904,
          0.2994011976047904,
          0.2994011976047904,
          0.2994011976047904,
          0.2994011976047904,
          0.2994011976047904,
          0.2994011976047904,
          0.2994011976047904,
          0.2994011976047904,
          0.2994011976047904,
          0.2994011976047904,
          0.2994011976047904,
          0.2994011976047904,
          0.2994011976047904,
          0.1497005988023952,
          0.1497005988023952,
          0.1497005988023952,
          0.1497005988023952,
          0.1497005988023952,
          0.1497005988023952,
          0,
          0,
          0,
          0,
          0,
          0,
          0,
          0,
          0,
          0,
          0,
          0,
          0,
          0,
          0,
          0,
          0,
          0,
          0,
          0,
          0,
          0,
          0,
          0,
          0,
          0,
          0,
          0,
          0,
          0,
          0,
          0
         ],
         "yaxis": "y"
        },
        {
         "fillpattern": {
          "shape": ""
         },
         "hovertemplate": "number of topics=4<br>threshold=%{x}<br>share of reviews, %=%{y}<extra></extra>",
         "legendgroup": "4",
         "line": {
          "color": "rgb(34,94,168)"
         },
         "marker": {
          "symbol": "circle"
         },
         "mode": "lines",
         "name": "4",
         "orientation": "v",
         "showlegend": true,
         "stackgroup": "1",
         "type": "scatter",
         "x": [
          0,
          0.001,
          0.002,
          0.003,
          0.004,
          0.005,
          0.006,
          0.007,
          0.008,
          0.009000000000000001,
          0.01,
          0.011,
          0.012,
          0.013000000000000001,
          0.014,
          0.015,
          0.016,
          0.017,
          0.018000000000000002,
          0.019,
          0.02,
          0.021,
          0.022,
          0.023,
          0.024,
          0.025,
          0.026000000000000002,
          0.027,
          0.028,
          0.029,
          0.03,
          0.031,
          0.032,
          0.033,
          0.034,
          0.035,
          0.036000000000000004,
          0.037,
          0.038,
          0.039,
          0.04,
          0.041,
          0.042,
          0.043000000000000003,
          0.044,
          0.045,
          0.046,
          0.047,
          0.048,
          0.049,
          0.05,
          0.051000000000000004,
          0.052000000000000005,
          0.053,
          0.054,
          0.055,
          0.056,
          0.057,
          0.058,
          0.059000000000000004,
          0.06,
          0.061,
          0.062,
          0.063,
          0.064,
          0.065,
          0.066,
          0.067,
          0.068,
          0.069,
          0.07,
          0.07100000000000001,
          0.07200000000000001,
          0.073,
          0.074,
          0.075,
          0.076,
          0.077,
          0.078,
          0.079,
          0.08,
          0.081,
          0.082,
          0.083,
          0.084,
          0.085,
          0.08600000000000001,
          0.08700000000000001,
          0.088,
          0.089,
          0.09,
          0.091,
          0.092,
          0.093,
          0.094,
          0.095,
          0.096,
          0.097,
          0.098,
          0.099,
          0.1,
          0.101,
          0.10200000000000001,
          0.10300000000000001,
          0.10400000000000001,
          0.105,
          0.106,
          0.107,
          0.108,
          0.109,
          0.11,
          0.111,
          0.112,
          0.113,
          0.114,
          0.115,
          0.116,
          0.117,
          0.11800000000000001,
          0.11900000000000001,
          0.12,
          0.121,
          0.122,
          0.123,
          0.124,
          0.125,
          0.126,
          0.127,
          0.128,
          0.129,
          0.13,
          0.131,
          0.132,
          0.133,
          0.134,
          0.135,
          0.136,
          0.137,
          0.138,
          0.139,
          0.14,
          0.14100000000000001,
          0.14200000000000002,
          0.14300000000000002,
          0.14400000000000002,
          0.145,
          0.146,
          0.147,
          0.148,
          0.149,
          0.15,
          0.151,
          0.152,
          0.153,
          0.154,
          0.155,
          0.156,
          0.157,
          0.158,
          0.159,
          0.16,
          0.161,
          0.162,
          0.163,
          0.164,
          0.165,
          0.166,
          0.167,
          0.168,
          0.169,
          0.17,
          0.171,
          0.17200000000000001,
          0.17300000000000001,
          0.17400000000000002,
          0.17500000000000002,
          0.176,
          0.177,
          0.178,
          0.179,
          0.18,
          0.181,
          0.182,
          0.183,
          0.184,
          0.185,
          0.186,
          0.187,
          0.188,
          0.189,
          0.19,
          0.191,
          0.192,
          0.193,
          0.194,
          0.195,
          0.196,
          0.197,
          0.198,
          0.199,
          0.2,
          0.201,
          0.202,
          0.203,
          0.20400000000000001,
          0.20500000000000002,
          0.20600000000000002,
          0.20700000000000002,
          0.20800000000000002,
          0.209,
          0.21,
          0.211,
          0.212,
          0.213,
          0.214,
          0.215,
          0.216,
          0.217,
          0.218,
          0.219,
          0.22,
          0.221,
          0.222,
          0.223,
          0.224,
          0.225,
          0.226,
          0.227,
          0.228,
          0.229,
          0.23,
          0.231,
          0.232,
          0.233,
          0.234,
          0.23500000000000001,
          0.23600000000000002,
          0.23700000000000002,
          0.23800000000000002,
          0.23900000000000002,
          0.24,
          0.241,
          0.242,
          0.243,
          0.244,
          0.245,
          0.246,
          0.247,
          0.248,
          0.249,
          0.25,
          0.251,
          0.252,
          0.253,
          0.254,
          0.255,
          0.256,
          0.257,
          0.258,
          0.259,
          0.26,
          0.261,
          0.262,
          0.263,
          0.264,
          0.265,
          0.266,
          0.267,
          0.268,
          0.269,
          0.27,
          0.271,
          0.272,
          0.273,
          0.274,
          0.275,
          0.276,
          0.277,
          0.278,
          0.279,
          0.28,
          0.281,
          0.28200000000000003,
          0.28300000000000003,
          0.28400000000000003,
          0.28500000000000003,
          0.28600000000000003,
          0.28700000000000003,
          0.28800000000000003,
          0.289,
          0.29,
          0.291,
          0.292,
          0.293,
          0.294,
          0.295,
          0.296,
          0.297,
          0.298,
          0.299,
          0.3,
          0.301,
          0.302,
          0.303,
          0.304,
          0.305,
          0.306,
          0.307,
          0.308,
          0.309,
          0.31,
          0.311,
          0.312,
          0.313,
          0.314,
          0.315,
          0.316,
          0.317,
          0.318,
          0.319,
          0.32,
          0.321,
          0.322,
          0.323,
          0.324,
          0.325,
          0.326,
          0.327,
          0.328,
          0.329,
          0.33,
          0.331,
          0.332,
          0.333,
          0.334,
          0.335,
          0.336,
          0.337,
          0.338,
          0.339,
          0.34,
          0.341,
          0.342,
          0.343,
          0.34400000000000003,
          0.34500000000000003,
          0.34600000000000003,
          0.34700000000000003,
          0.34800000000000003,
          0.34900000000000003
         ],
         "xaxis": "x",
         "y": [
          0,
          8.682634730538922,
          8.682634730538922,
          8.682634730538922,
          8.682634730538922,
          8.682634730538922,
          8.682634730538922,
          8.682634730538922,
          8.682634730538922,
          8.682634730538922,
          8.682634730538922,
          8.682634730538922,
          8.682634730538922,
          8.682634730538922,
          8.682634730538922,
          8.682634730538922,
          8.682634730538922,
          8.682634730538922,
          8.682634730538922,
          8.682634730538922,
          8.682634730538922,
          8.832335329341317,
          8.982035928143713,
          9.281437125748504,
          9.281437125748504,
          9.281437125748504,
          9.431137724550899,
          9.580838323353293,
          9.580838323353293,
          9.281437125748504,
          9.281437125748504,
          9.431137724550899,
          9.281437125748504,
          9.131736526946108,
          9.131736526946108,
          9.131736526946108,
          9.281437125748504,
          9.431137724550899,
          9.880239520958083,
          9.880239520958083,
          10.029940119760479,
          10.179640718562874,
          10.029940119760479,
          10.029940119760479,
          10.029940119760479,
          10.179640718562874,
          10.029940119760479,
          10.179640718562874,
          9.880239520958083,
          9.730538922155688,
          9.281437125748504,
          9.281437125748504,
          9.431137724550899,
          9.580838323353293,
          9.580838323353293,
          9.580838323353293,
          9.730538922155688,
          9.880239520958083,
          10.179640718562874,
          10.479041916167665,
          10.778443113772456,
          10.62874251497006,
          10.778443113772456,
          10.62874251497006,
          10.778443113772456,
          11.077844311377245,
          10.928143712574851,
          10.62874251497006,
          10.928143712574851,
          10.778443113772456,
          10.778443113772456,
          10.928143712574851,
          11.377245508982035,
          11.22754491017964,
          11.52694610778443,
          11.22754491017964,
          10.928143712574851,
          10.928143712574851,
          10.778443113772456,
          10.62874251497006,
          10.179640718562874,
          10.32934131736527,
          10.179640718562874,
          9.880239520958083,
          9.730538922155688,
          9.730538922155688,
          9.580838323353293,
          9.580838323353293,
          9.281437125748504,
          9.431137724550899,
          9.580838323353293,
          9.580838323353293,
          9.580838323353293,
          9.580838323353293,
          9.431137724550899,
          9.281437125748504,
          9.281437125748504,
          9.131736526946108,
          9.281437125748504,
          9.131736526946108,
          9.131736526946108,
          8.982035928143713,
          8.982035928143713,
          9.131736526946108,
          8.832335329341317,
          8.982035928143713,
          8.832335329341317,
          8.682634730538922,
          8.832335329341317,
          8.532934131736527,
          8.383233532934131,
          8.532934131736527,
          9.580838323353293,
          9.580838323353293,
          9.580838323353293,
          9.281437125748504,
          9.281437125748504,
          8.832335329341317,
          8.832335329341317,
          7.485029940119761,
          7.335329341317365,
          6.88622754491018,
          6.736526946107785,
          6.586826347305389,
          6.137724550898204,
          6.137724550898204,
          5.838323353293413,
          6.437125748502994,
          6.437125748502994,
          6.287425149700598,
          5.9880239520958085,
          5.9880239520958085,
          5.9880239520958085,
          5.838323353293413,
          5.2395209580838324,
          5.089820359281437,
          4.790419161676646,
          4.790419161676646,
          4.640718562874252,
          4.491017964071856,
          4.341317365269461,
          4.341317365269461,
          3.7425149700598803,
          3.7425149700598803,
          3.7425149700598803,
          3.592814371257485,
          3.592814371257485,
          3.592814371257485,
          3.7425149700598803,
          3.592814371257485,
          3.592814371257485,
          3.7425149700598803,
          3.592814371257485,
          3.44311377245509,
          3.44311377245509,
          3.2934131736526946,
          3.2934131736526946,
          2.9940119760479043,
          2.9940119760479043,
          2.694610778443114,
          2.395209580838323,
          2.095808383233533,
          1.9461077844311376,
          1.6467065868263473,
          1.7964071856287425,
          1.7964071856287425,
          1.6467065868263473,
          1.6467065868263473,
          1.347305389221557,
          1.347305389221557,
          1.347305389221557,
          1.347305389221557,
          1.1976047904191616,
          1.1976047904191616,
          1.0479041916167664,
          1.0479041916167664,
          1.0479041916167664,
          1.0479041916167664,
          1.0479041916167664,
          1.0479041916167664,
          0.7485029940119761,
          0.5988023952095808,
          0.4491017964071856,
          0.2994011976047904,
          0.2994011976047904,
          0.2994011976047904,
          0.2994011976047904,
          0.2994011976047904,
          0.2994011976047904,
          0.2994011976047904,
          0.1497005988023952,
          0.1497005988023952,
          0.1497005988023952,
          0.1497005988023952,
          0.1497005988023952,
          0.1497005988023952,
          0.1497005988023952,
          0.1497005988023952,
          0.1497005988023952,
          0.1497005988023952,
          0.1497005988023952,
          0.1497005988023952,
          0.1497005988023952,
          0,
          0,
          0,
          0,
          0,
          0,
          0,
          0,
          0,
          0,
          0,
          0,
          0,
          0,
          0,
          0,
          0,
          0,
          0,
          0,
          0,
          0,
          0,
          0,
          0,
          0,
          0,
          0,
          0,
          0,
          0,
          0,
          0,
          0,
          0,
          0,
          0,
          0,
          0,
          0,
          0,
          0,
          0,
          0,
          0,
          0,
          0,
          0,
          0,
          0,
          0,
          0,
          0,
          0,
          0,
          0,
          0,
          0,
          0,
          0,
          0,
          0,
          0,
          0,
          0,
          0,
          0,
          0,
          0,
          0,
          0,
          0,
          0,
          0,
          0,
          0,
          0,
          0,
          0,
          0,
          0,
          0,
          0,
          0,
          0,
          0,
          0,
          0,
          0,
          0,
          0,
          0,
          0,
          0,
          0,
          0,
          0,
          0,
          0,
          0,
          0,
          0,
          0,
          0,
          0,
          0,
          0,
          0,
          0,
          0,
          0,
          0,
          0,
          0,
          0,
          0,
          0,
          0,
          0,
          0,
          0,
          0,
          0,
          0,
          0,
          0,
          0,
          0,
          0,
          0,
          0,
          0,
          0,
          0,
          0,
          0,
          0,
          0,
          0,
          0,
          0,
          0,
          0,
          0,
          0,
          0,
          0
         ],
         "yaxis": "y"
        },
        {
         "fillpattern": {
          "shape": ""
         },
         "hovertemplate": "number of topics=5+<br>threshold=%{x}<br>share of reviews, %=%{y}<extra></extra>",
         "legendgroup": "5+",
         "line": {
          "color": "rgb(37,52,148)"
         },
         "marker": {
          "symbol": "circle"
         },
         "mode": "lines",
         "name": "5+",
         "orientation": "v",
         "showlegend": true,
         "stackgroup": "1",
         "type": "scatter",
         "x": [
          0,
          0.001,
          0.002,
          0.003,
          0.004,
          0.005,
          0.006,
          0.007,
          0.008,
          0.009000000000000001,
          0.01,
          0.011,
          0.012,
          0.013000000000000001,
          0.014,
          0.015,
          0.016,
          0.017,
          0.018000000000000002,
          0.019,
          0.02,
          0.021,
          0.022,
          0.023,
          0.024,
          0.025,
          0.026000000000000002,
          0.027,
          0.028,
          0.029,
          0.03,
          0.031,
          0.032,
          0.033,
          0.034,
          0.035,
          0.036000000000000004,
          0.037,
          0.038,
          0.039,
          0.04,
          0.041,
          0.042,
          0.043000000000000003,
          0.044,
          0.045,
          0.046,
          0.047,
          0.048,
          0.049,
          0.05,
          0.051000000000000004,
          0.052000000000000005,
          0.053,
          0.054,
          0.055,
          0.056,
          0.057,
          0.058,
          0.059000000000000004,
          0.06,
          0.061,
          0.062,
          0.063,
          0.064,
          0.065,
          0.066,
          0.067,
          0.068,
          0.069,
          0.07,
          0.07100000000000001,
          0.07200000000000001,
          0.073,
          0.074,
          0.075,
          0.076,
          0.077,
          0.078,
          0.079,
          0.08,
          0.081,
          0.082,
          0.083,
          0.084,
          0.085,
          0.08600000000000001,
          0.08700000000000001,
          0.088,
          0.089,
          0.09,
          0.091,
          0.092,
          0.093,
          0.094,
          0.095,
          0.096,
          0.097,
          0.098,
          0.099,
          0.1,
          0.101,
          0.10200000000000001,
          0.10300000000000001,
          0.10400000000000001,
          0.105,
          0.106,
          0.107,
          0.108,
          0.109,
          0.11,
          0.111,
          0.112,
          0.113,
          0.114,
          0.115,
          0.116,
          0.117,
          0.11800000000000001,
          0.11900000000000001,
          0.12,
          0.121,
          0.122,
          0.123,
          0.124,
          0.125,
          0.126,
          0.127,
          0.128,
          0.129,
          0.13,
          0.131,
          0.132,
          0.133,
          0.134,
          0.135,
          0.136,
          0.137,
          0.138,
          0.139,
          0.14,
          0.14100000000000001,
          0.14200000000000002,
          0.14300000000000002,
          0.14400000000000002,
          0.145,
          0.146,
          0.147,
          0.148,
          0.149,
          0.15,
          0.151,
          0.152,
          0.153,
          0.154,
          0.155,
          0.156,
          0.157,
          0.158,
          0.159,
          0.16,
          0.161,
          0.162,
          0.163,
          0.164,
          0.165,
          0.166,
          0.167,
          0.168,
          0.169,
          0.17,
          0.171,
          0.17200000000000001,
          0.17300000000000001,
          0.17400000000000002,
          0.17500000000000002,
          0.176,
          0.177,
          0.178,
          0.179,
          0.18,
          0.181,
          0.182,
          0.183,
          0.184,
          0.185,
          0.186,
          0.187,
          0.188,
          0.189,
          0.19,
          0.191,
          0.192,
          0.193,
          0.194,
          0.195,
          0.196,
          0.197,
          0.198,
          0.199,
          0.2,
          0.201,
          0.202,
          0.203,
          0.20400000000000001,
          0.20500000000000002,
          0.20600000000000002,
          0.20700000000000002,
          0.20800000000000002,
          0.209,
          0.21,
          0.211,
          0.212,
          0.213,
          0.214,
          0.215,
          0.216,
          0.217,
          0.218,
          0.219,
          0.22,
          0.221,
          0.222,
          0.223,
          0.224,
          0.225,
          0.226,
          0.227,
          0.228,
          0.229,
          0.23,
          0.231,
          0.232,
          0.233,
          0.234,
          0.23500000000000001,
          0.23600000000000002,
          0.23700000000000002,
          0.23800000000000002,
          0.23900000000000002,
          0.24,
          0.241,
          0.242,
          0.243,
          0.244,
          0.245,
          0.246,
          0.247,
          0.248,
          0.249,
          0.25,
          0.251,
          0.252,
          0.253,
          0.254,
          0.255,
          0.256,
          0.257,
          0.258,
          0.259,
          0.26,
          0.261,
          0.262,
          0.263,
          0.264,
          0.265,
          0.266,
          0.267,
          0.268,
          0.269,
          0.27,
          0.271,
          0.272,
          0.273,
          0.274,
          0.275,
          0.276,
          0.277,
          0.278,
          0.279,
          0.28,
          0.281,
          0.28200000000000003,
          0.28300000000000003,
          0.28400000000000003,
          0.28500000000000003,
          0.28600000000000003,
          0.28700000000000003,
          0.28800000000000003,
          0.289,
          0.29,
          0.291,
          0.292,
          0.293,
          0.294,
          0.295,
          0.296,
          0.297,
          0.298,
          0.299,
          0.3,
          0.301,
          0.302,
          0.303,
          0.304,
          0.305,
          0.306,
          0.307,
          0.308,
          0.309,
          0.31,
          0.311,
          0.312,
          0.313,
          0.314,
          0.315,
          0.316,
          0.317,
          0.318,
          0.319,
          0.32,
          0.321,
          0.322,
          0.323,
          0.324,
          0.325,
          0.326,
          0.327,
          0.328,
          0.329,
          0.33,
          0.331,
          0.332,
          0.333,
          0.334,
          0.335,
          0.336,
          0.337,
          0.338,
          0.339,
          0.34,
          0.341,
          0.342,
          0.343,
          0.34400000000000003,
          0.34500000000000003,
          0.34600000000000003,
          0.34700000000000003,
          0.34800000000000003,
          0.34900000000000003
         ],
         "xaxis": "x",
         "y": [
          100,
          17.964071856287426,
          17.964071856287426,
          17.964071856287426,
          17.964071856287426,
          17.964071856287426,
          17.964071856287426,
          17.964071856287426,
          17.964071856287426,
          17.964071856287426,
          17.964071856287426,
          17.81437125748503,
          17.81437125748503,
          17.81437125748503,
          17.81437125748503,
          17.664670658682635,
          17.664670658682635,
          17.664670658682635,
          17.664670658682635,
          17.664670658682635,
          17.664670658682635,
          17.51497005988024,
          17.21556886227545,
          16.91616766467066,
          16.91616766467066,
          16.91616766467066,
          16.766467065868262,
          16.61676646706587,
          16.61676646706587,
          16.61676646706587,
          16.46706586826347,
          16.167664670658684,
          16.167664670658684,
          16.167664670658684,
          16.167664670658684,
          16.017964071856287,
          15.718562874251496,
          15.568862275449101,
          15.119760479041917,
          14.970059880239521,
          14.820359281437126,
          14.67065868263473,
          14.37125748502994,
          14.37125748502994,
          14.221556886227544,
          13.922155688622755,
          13.922155688622755,
          13.622754491017965,
          13.622754491017965,
          13.47305389221557,
          13.47305389221557,
          13.323353293413174,
          12.874251497005988,
          12.724550898203592,
          12.724550898203592,
          12.724550898203592,
          12.574850299401197,
          12.425149700598803,
          12.125748502994012,
          11.826347305389222,
          11.377245508982035,
          11.22754491017964,
          11.077844311377245,
          10.928143712574851,
          10.62874251497006,
          10.179640718562874,
          10.029940119760479,
          10.029940119760479,
          9.730538922155688,
          9.580838323353293,
          9.580838323353293,
          9.281437125748504,
          8.832335329341317,
          8.832335329341317,
          8.532934131736527,
          8.532934131736527,
          8.383233532934131,
          8.083832335329342,
          7.7844311377245505,
          7.7844311377245505,
          7.7844311377245505,
          7.485029940119761,
          7.485029940119761,
          7.485029940119761,
          7.485029940119761,
          7.335329341317365,
          7.335329341317365,
          7.18562874251497,
          7.18562874251497,
          6.88622754491018,
          6.736526946107785,
          6.586826347305389,
          6.437125748502994,
          6.287425149700598,
          6.137724550898204,
          5.9880239520958085,
          5.838323353293413,
          5.688622754491018,
          5.389221556886228,
          5.389221556886228,
          5.2395209580838324,
          4.790419161676646,
          4.640718562874252,
          4.191616766467066,
          4.041916167664671,
          3.7425149700598803,
          3.7425149700598803,
          3.44311377245509,
          3.2934131736526946,
          3.2934131736526946,
          3.2934131736526946,
          3.143712574850299,
          1.7964071856287425,
          1.7964071856287425,
          1.7964071856287425,
          1.7964071856287425,
          1.6467065868263473,
          1.6467065868263473,
          1.6467065868263473,
          1.4970059880239521,
          1.4970059880239521,
          1.4970059880239521,
          1.4970059880239521,
          1.347305389221557,
          1.347305389221557,
          1.347305389221557,
          1.347305389221557,
          0.7485029940119761,
          0.7485029940119761,
          0.7485029940119761,
          0.7485029940119761,
          0.5988023952095808,
          0.5988023952095808,
          0.5988023952095808,
          0.5988023952095808,
          0.5988023952095808,
          0.5988023952095808,
          0.5988023952095808,
          0.5988023952095808,
          0.5988023952095808,
          0.4491017964071856,
          0.4491017964071856,
          0.4491017964071856,
          0.4491017964071856,
          0.4491017964071856,
          0.4491017964071856,
          0.4491017964071856,
          0.4491017964071856,
          0.2994011976047904,
          0.2994011976047904,
          0.2994011976047904,
          0.1497005988023952,
          0.1497005988023952,
          0.1497005988023952,
          0.1497005988023952,
          0.1497005988023952,
          0.1497005988023952,
          0.1497005988023952,
          0.1497005988023952,
          0.1497005988023952,
          0.1497005988023952,
          0.1497005988023952,
          0.1497005988023952,
          0.1497005988023952,
          0,
          0,
          0,
          0,
          0,
          0,
          0,
          0,
          0,
          0,
          0,
          0,
          0,
          0,
          0,
          0,
          0,
          0,
          0,
          0,
          0,
          0,
          0,
          0,
          0,
          0,
          0,
          0,
          0,
          0,
          0,
          0,
          0,
          0,
          0,
          0,
          0,
          0,
          0,
          0,
          0,
          0,
          0,
          0,
          0,
          0,
          0,
          0,
          0,
          0,
          0,
          0,
          0,
          0,
          0,
          0,
          0,
          0,
          0,
          0,
          0,
          0,
          0,
          0,
          0,
          0,
          0,
          0,
          0,
          0,
          0,
          0,
          0,
          0,
          0,
          0,
          0,
          0,
          0,
          0,
          0,
          0,
          0,
          0,
          0,
          0,
          0,
          0,
          0,
          0,
          0,
          0,
          0,
          0,
          0,
          0,
          0,
          0,
          0,
          0,
          0,
          0,
          0,
          0,
          0,
          0,
          0,
          0,
          0,
          0,
          0,
          0,
          0,
          0,
          0,
          0,
          0,
          0,
          0,
          0,
          0,
          0,
          0,
          0,
          0,
          0,
          0,
          0,
          0,
          0,
          0,
          0,
          0,
          0,
          0,
          0,
          0,
          0,
          0,
          0,
          0,
          0,
          0,
          0,
          0,
          0,
          0,
          0,
          0,
          0,
          0,
          0,
          0,
          0,
          0,
          0,
          0,
          0,
          0,
          0,
          0,
          0,
          0,
          0,
          0,
          0,
          0,
          0,
          0,
          0,
          0,
          0,
          0,
          0,
          0,
          0,
          0,
          0,
          0,
          0,
          0,
          0,
          0,
          0,
          0,
          0
         ],
         "yaxis": "y"
        }
       ],
       "layout": {
        "legend": {
         "title": {
          "text": "number of topics"
         },
         "tracegroupgap": 0
        },
        "template": {
         "data": {
          "bar": [
           {
            "error_x": {
             "color": "#2a3f5f"
            },
            "error_y": {
             "color": "#2a3f5f"
            },
            "marker": {
             "line": {
              "color": "#E5ECF6",
              "width": 0.5
             },
             "pattern": {
              "fillmode": "overlay",
              "size": 10,
              "solidity": 0.2
             }
            },
            "type": "bar"
           }
          ],
          "barpolar": [
           {
            "marker": {
             "line": {
              "color": "#E5ECF6",
              "width": 0.5
             },
             "pattern": {
              "fillmode": "overlay",
              "size": 10,
              "solidity": 0.2
             }
            },
            "type": "barpolar"
           }
          ],
          "carpet": [
           {
            "aaxis": {
             "endlinecolor": "#2a3f5f",
             "gridcolor": "white",
             "linecolor": "white",
             "minorgridcolor": "white",
             "startlinecolor": "#2a3f5f"
            },
            "baxis": {
             "endlinecolor": "#2a3f5f",
             "gridcolor": "white",
             "linecolor": "white",
             "minorgridcolor": "white",
             "startlinecolor": "#2a3f5f"
            },
            "type": "carpet"
           }
          ],
          "choropleth": [
           {
            "colorbar": {
             "outlinewidth": 0,
             "ticks": ""
            },
            "type": "choropleth"
           }
          ],
          "contour": [
           {
            "colorbar": {
             "outlinewidth": 0,
             "ticks": ""
            },
            "colorscale": [
             [
              0,
              "#0d0887"
             ],
             [
              0.1111111111111111,
              "#46039f"
             ],
             [
              0.2222222222222222,
              "#7201a8"
             ],
             [
              0.3333333333333333,
              "#9c179e"
             ],
             [
              0.4444444444444444,
              "#bd3786"
             ],
             [
              0.5555555555555556,
              "#d8576b"
             ],
             [
              0.6666666666666666,
              "#ed7953"
             ],
             [
              0.7777777777777778,
              "#fb9f3a"
             ],
             [
              0.8888888888888888,
              "#fdca26"
             ],
             [
              1,
              "#f0f921"
             ]
            ],
            "type": "contour"
           }
          ],
          "contourcarpet": [
           {
            "colorbar": {
             "outlinewidth": 0,
             "ticks": ""
            },
            "type": "contourcarpet"
           }
          ],
          "heatmap": [
           {
            "colorbar": {
             "outlinewidth": 0,
             "ticks": ""
            },
            "colorscale": [
             [
              0,
              "#0d0887"
             ],
             [
              0.1111111111111111,
              "#46039f"
             ],
             [
              0.2222222222222222,
              "#7201a8"
             ],
             [
              0.3333333333333333,
              "#9c179e"
             ],
             [
              0.4444444444444444,
              "#bd3786"
             ],
             [
              0.5555555555555556,
              "#d8576b"
             ],
             [
              0.6666666666666666,
              "#ed7953"
             ],
             [
              0.7777777777777778,
              "#fb9f3a"
             ],
             [
              0.8888888888888888,
              "#fdca26"
             ],
             [
              1,
              "#f0f921"
             ]
            ],
            "type": "heatmap"
           }
          ],
          "heatmapgl": [
           {
            "colorbar": {
             "outlinewidth": 0,
             "ticks": ""
            },
            "colorscale": [
             [
              0,
              "#0d0887"
             ],
             [
              0.1111111111111111,
              "#46039f"
             ],
             [
              0.2222222222222222,
              "#7201a8"
             ],
             [
              0.3333333333333333,
              "#9c179e"
             ],
             [
              0.4444444444444444,
              "#bd3786"
             ],
             [
              0.5555555555555556,
              "#d8576b"
             ],
             [
              0.6666666666666666,
              "#ed7953"
             ],
             [
              0.7777777777777778,
              "#fb9f3a"
             ],
             [
              0.8888888888888888,
              "#fdca26"
             ],
             [
              1,
              "#f0f921"
             ]
            ],
            "type": "heatmapgl"
           }
          ],
          "histogram": [
           {
            "marker": {
             "pattern": {
              "fillmode": "overlay",
              "size": 10,
              "solidity": 0.2
             }
            },
            "type": "histogram"
           }
          ],
          "histogram2d": [
           {
            "colorbar": {
             "outlinewidth": 0,
             "ticks": ""
            },
            "colorscale": [
             [
              0,
              "#0d0887"
             ],
             [
              0.1111111111111111,
              "#46039f"
             ],
             [
              0.2222222222222222,
              "#7201a8"
             ],
             [
              0.3333333333333333,
              "#9c179e"
             ],
             [
              0.4444444444444444,
              "#bd3786"
             ],
             [
              0.5555555555555556,
              "#d8576b"
             ],
             [
              0.6666666666666666,
              "#ed7953"
             ],
             [
              0.7777777777777778,
              "#fb9f3a"
             ],
             [
              0.8888888888888888,
              "#fdca26"
             ],
             [
              1,
              "#f0f921"
             ]
            ],
            "type": "histogram2d"
           }
          ],
          "histogram2dcontour": [
           {
            "colorbar": {
             "outlinewidth": 0,
             "ticks": ""
            },
            "colorscale": [
             [
              0,
              "#0d0887"
             ],
             [
              0.1111111111111111,
              "#46039f"
             ],
             [
              0.2222222222222222,
              "#7201a8"
             ],
             [
              0.3333333333333333,
              "#9c179e"
             ],
             [
              0.4444444444444444,
              "#bd3786"
             ],
             [
              0.5555555555555556,
              "#d8576b"
             ],
             [
              0.6666666666666666,
              "#ed7953"
             ],
             [
              0.7777777777777778,
              "#fb9f3a"
             ],
             [
              0.8888888888888888,
              "#fdca26"
             ],
             [
              1,
              "#f0f921"
             ]
            ],
            "type": "histogram2dcontour"
           }
          ],
          "mesh3d": [
           {
            "colorbar": {
             "outlinewidth": 0,
             "ticks": ""
            },
            "type": "mesh3d"
           }
          ],
          "parcoords": [
           {
            "line": {
             "colorbar": {
              "outlinewidth": 0,
              "ticks": ""
             }
            },
            "type": "parcoords"
           }
          ],
          "pie": [
           {
            "automargin": true,
            "type": "pie"
           }
          ],
          "scatter": [
           {
            "fillpattern": {
             "fillmode": "overlay",
             "size": 10,
             "solidity": 0.2
            },
            "type": "scatter"
           }
          ],
          "scatter3d": [
           {
            "line": {
             "colorbar": {
              "outlinewidth": 0,
              "ticks": ""
             }
            },
            "marker": {
             "colorbar": {
              "outlinewidth": 0,
              "ticks": ""
             }
            },
            "type": "scatter3d"
           }
          ],
          "scattercarpet": [
           {
            "marker": {
             "colorbar": {
              "outlinewidth": 0,
              "ticks": ""
             }
            },
            "type": "scattercarpet"
           }
          ],
          "scattergeo": [
           {
            "marker": {
             "colorbar": {
              "outlinewidth": 0,
              "ticks": ""
             }
            },
            "type": "scattergeo"
           }
          ],
          "scattergl": [
           {
            "marker": {
             "colorbar": {
              "outlinewidth": 0,
              "ticks": ""
             }
            },
            "type": "scattergl"
           }
          ],
          "scattermapbox": [
           {
            "marker": {
             "colorbar": {
              "outlinewidth": 0,
              "ticks": ""
             }
            },
            "type": "scattermapbox"
           }
          ],
          "scatterpolar": [
           {
            "marker": {
             "colorbar": {
              "outlinewidth": 0,
              "ticks": ""
             }
            },
            "type": "scatterpolar"
           }
          ],
          "scatterpolargl": [
           {
            "marker": {
             "colorbar": {
              "outlinewidth": 0,
              "ticks": ""
             }
            },
            "type": "scatterpolargl"
           }
          ],
          "scatterternary": [
           {
            "marker": {
             "colorbar": {
              "outlinewidth": 0,
              "ticks": ""
             }
            },
            "type": "scatterternary"
           }
          ],
          "surface": [
           {
            "colorbar": {
             "outlinewidth": 0,
             "ticks": ""
            },
            "colorscale": [
             [
              0,
              "#0d0887"
             ],
             [
              0.1111111111111111,
              "#46039f"
             ],
             [
              0.2222222222222222,
              "#7201a8"
             ],
             [
              0.3333333333333333,
              "#9c179e"
             ],
             [
              0.4444444444444444,
              "#bd3786"
             ],
             [
              0.5555555555555556,
              "#d8576b"
             ],
             [
              0.6666666666666666,
              "#ed7953"
             ],
             [
              0.7777777777777778,
              "#fb9f3a"
             ],
             [
              0.8888888888888888,
              "#fdca26"
             ],
             [
              1,
              "#f0f921"
             ]
            ],
            "type": "surface"
           }
          ],
          "table": [
           {
            "cells": {
             "fill": {
              "color": "#EBF0F8"
             },
             "line": {
              "color": "white"
             }
            },
            "header": {
             "fill": {
              "color": "#C8D4E3"
             },
             "line": {
              "color": "white"
             }
            },
            "type": "table"
           }
          ]
         },
         "layout": {
          "annotationdefaults": {
           "arrowcolor": "#2a3f5f",
           "arrowhead": 0,
           "arrowwidth": 1
          },
          "autotypenumbers": "strict",
          "coloraxis": {
           "colorbar": {
            "outlinewidth": 0,
            "ticks": ""
           }
          },
          "colorscale": {
           "diverging": [
            [
             0,
             "#8e0152"
            ],
            [
             0.1,
             "#c51b7d"
            ],
            [
             0.2,
             "#de77ae"
            ],
            [
             0.3,
             "#f1b6da"
            ],
            [
             0.4,
             "#fde0ef"
            ],
            [
             0.5,
             "#f7f7f7"
            ],
            [
             0.6,
             "#e6f5d0"
            ],
            [
             0.7,
             "#b8e186"
            ],
            [
             0.8,
             "#7fbc41"
            ],
            [
             0.9,
             "#4d9221"
            ],
            [
             1,
             "#276419"
            ]
           ],
           "sequential": [
            [
             0,
             "#0d0887"
            ],
            [
             0.1111111111111111,
             "#46039f"
            ],
            [
             0.2222222222222222,
             "#7201a8"
            ],
            [
             0.3333333333333333,
             "#9c179e"
            ],
            [
             0.4444444444444444,
             "#bd3786"
            ],
            [
             0.5555555555555556,
             "#d8576b"
            ],
            [
             0.6666666666666666,
             "#ed7953"
            ],
            [
             0.7777777777777778,
             "#fb9f3a"
            ],
            [
             0.8888888888888888,
             "#fdca26"
            ],
            [
             1,
             "#f0f921"
            ]
           ],
           "sequentialminus": [
            [
             0,
             "#0d0887"
            ],
            [
             0.1111111111111111,
             "#46039f"
            ],
            [
             0.2222222222222222,
             "#7201a8"
            ],
            [
             0.3333333333333333,
             "#9c179e"
            ],
            [
             0.4444444444444444,
             "#bd3786"
            ],
            [
             0.5555555555555556,
             "#d8576b"
            ],
            [
             0.6666666666666666,
             "#ed7953"
            ],
            [
             0.7777777777777778,
             "#fb9f3a"
            ],
            [
             0.8888888888888888,
             "#fdca26"
            ],
            [
             1,
             "#f0f921"
            ]
           ]
          },
          "colorway": [
           "#636efa",
           "#EF553B",
           "#00cc96",
           "#ab63fa",
           "#FFA15A",
           "#19d3f3",
           "#FF6692",
           "#B6E880",
           "#FF97FF",
           "#FECB52"
          ],
          "font": {
           "color": "#2a3f5f"
          },
          "geo": {
           "bgcolor": "white",
           "lakecolor": "white",
           "landcolor": "#E5ECF6",
           "showlakes": true,
           "showland": true,
           "subunitcolor": "white"
          },
          "hoverlabel": {
           "align": "left"
          },
          "hovermode": "closest",
          "mapbox": {
           "style": "light"
          },
          "paper_bgcolor": "white",
          "plot_bgcolor": "#E5ECF6",
          "polar": {
           "angularaxis": {
            "gridcolor": "white",
            "linecolor": "white",
            "ticks": ""
           },
           "bgcolor": "#E5ECF6",
           "radialaxis": {
            "gridcolor": "white",
            "linecolor": "white",
            "ticks": ""
           }
          },
          "scene": {
           "xaxis": {
            "backgroundcolor": "#E5ECF6",
            "gridcolor": "white",
            "gridwidth": 2,
            "linecolor": "white",
            "showbackground": true,
            "ticks": "",
            "zerolinecolor": "white"
           },
           "yaxis": {
            "backgroundcolor": "#E5ECF6",
            "gridcolor": "white",
            "gridwidth": 2,
            "linecolor": "white",
            "showbackground": true,
            "ticks": "",
            "zerolinecolor": "white"
           },
           "zaxis": {
            "backgroundcolor": "#E5ECF6",
            "gridcolor": "white",
            "gridwidth": 2,
            "linecolor": "white",
            "showbackground": true,
            "ticks": "",
            "zerolinecolor": "white"
           }
          },
          "shapedefaults": {
           "line": {
            "color": "#2a3f5f"
           }
          },
          "ternary": {
           "aaxis": {
            "gridcolor": "white",
            "linecolor": "white",
            "ticks": ""
           },
           "baxis": {
            "gridcolor": "white",
            "linecolor": "white",
            "ticks": ""
           },
           "bgcolor": "#E5ECF6",
           "caxis": {
            "gridcolor": "white",
            "linecolor": "white",
            "ticks": ""
           }
          },
          "title": {
           "x": 0.05
          },
          "xaxis": {
           "automargin": true,
           "gridcolor": "white",
           "linecolor": "white",
           "ticks": "",
           "title": {
            "standoff": 15
           },
           "zerolinecolor": "white",
           "zerolinewidth": 2
          },
          "yaxis": {
           "automargin": true,
           "gridcolor": "white",
           "linecolor": "white",
           "ticks": "",
           "title": {
            "standoff": 15
           },
           "zerolinecolor": "white",
           "zerolinewidth": 2
          }
         }
        },
        "title": {
         "text": "Distribution of number of topics"
        },
        "xaxis": {
         "anchor": "y",
         "domain": [
          0,
          1
         ],
         "title": {
          "text": "threshold"
         }
        },
        "yaxis": {
         "anchor": "x",
         "domain": [
          0,
          1
         ],
         "title": {
          "text": "share of reviews, %"
         }
        }
       }
      }
     },
     "metadata": {},
     "output_type": "display_data"
    }
   ],
   "source": [
    "colormap = px.colors.sequential.YlGnBu\n",
    "px.area(num_topics_stats_df, \n",
    "       title = 'Distribution of number of topics',\n",
    "       labels = {'num_topics_group': 'number of topics',\n",
    "                'value': 'share of reviews, %'},\n",
    "       color_discrete_map = {\n",
    "          '0': colormap[0],\n",
    "          '1': colormap[3],\n",
    "          '2': colormap[4],\n",
    "          '3': colormap[5],\n",
    "          '4': colormap[6],\n",
    "          '5+': colormap[7]\n",
    "      })"
   ]
  },
  {
   "cell_type": "markdown",
   "metadata": {},
   "source": [
    "**Recomendation:** Select a threshold that minimizes outliers while avoiding excessive topic overlap for most documents."
   ]
  },
  {
   "cell_type": "code",
   "execution_count": 44,
   "metadata": {},
   "outputs": [],
   "source": [
    "threshold = 0.25\n",
    "\n",
    "# Define topic with probability > threshold for each document\n",
    "df['multiple_topics'] = list(map(\n",
    "    lambda doc_topic_distr: list(map(\n",
    "        lambda y: y[0], filter(lambda x: x[1] >= threshold, \n",
    "                               (enumerate(doc_topic_distr)))\n",
    "    )), topic_distr\n",
    "))\n",
    "            \n",
    "df[\"multiple_topics_name\"] = df[\"multiple_topics\"].map(lambda x: [topic_name_to_id.get(i, \"No topic\") for i in x])"
   ]
  },
  {
   "cell_type": "markdown",
   "metadata": {},
   "source": [
    "**The assigned topics for each document are saved**  \n",
    "\n",
    "Enabling further analysis, performed in the [Analysis Topics notebook](analysis_topics.ipynb)."
   ]
  },
  {
   "cell_type": "code",
   "execution_count": 45,
   "metadata": {},
   "outputs": [
    {
     "data": {
      "text/html": [
       "<div>\n",
       "<style scoped>\n",
       "    .dataframe tbody tr th:only-of-type {\n",
       "        vertical-align: middle;\n",
       "    }\n",
       "\n",
       "    .dataframe tbody tr th {\n",
       "        vertical-align: top;\n",
       "    }\n",
       "\n",
       "    .dataframe thead th {\n",
       "        text-align: right;\n",
       "    }\n",
       "</style>\n",
       "<table border=\"1\" class=\"dataframe\">\n",
       "  <thead>\n",
       "    <tr style=\"text-align: right;\">\n",
       "      <th></th>\n",
       "      <th>File Name</th>\n",
       "      <th>turn_index</th>\n",
       "      <th>Content</th>\n",
       "      <th>preprocessed_content</th>\n",
       "      <th>Experiment</th>\n",
       "      <th>Condition</th>\n",
       "      <th>Id</th>\n",
       "      <th>Speaker</th>\n",
       "      <th>Index</th>\n",
       "      <th>one_topic</th>\n",
       "      <th>one_topic_name</th>\n",
       "      <th>multiple_topics</th>\n",
       "      <th>multiple_topics_name</th>\n",
       "    </tr>\n",
       "  </thead>\n",
       "  <tbody>\n",
       "    <tr>\n",
       "      <th>0</th>\n",
       "      <td>ID 05</td>\n",
       "      <td>1</td>\n",
       "      <td>So, that was very, let's say, unexpected and s...</td>\n",
       "      <td>let unexpected surprising moment realize disco...</td>\n",
       "      <td>OBE1</td>\n",
       "      <td>1</td>\n",
       "      <td>5</td>\n",
       "      <td>Participant</td>\n",
       "      <td>0</td>\n",
       "      <td>3</td>\n",
       "      <td>3_reality_body_different_yourself</td>\n",
       "      <td>[3]</td>\n",
       "      <td>[3_reality_body_different_yourself]</td>\n",
       "    </tr>\n",
       "    <tr>\n",
       "      <th>1</th>\n",
       "      <td>ID 05</td>\n",
       "      <td>3</td>\n",
       "      <td>It was a little bit like, okay, well, so it's ...</td>\n",
       "      <td>watch outside special lot emotion explain moment</td>\n",
       "      <td>OBE1</td>\n",
       "      <td>1</td>\n",
       "      <td>5</td>\n",
       "      <td>Participant</td>\n",
       "      <td>1</td>\n",
       "      <td>-1</td>\n",
       "      <td>-1_myself_look_body_real</td>\n",
       "      <td>[3, 17]</td>\n",
       "      <td>[3_reality_body_different_yourself, 17_room_ce...</td>\n",
       "    </tr>\n",
       "    <tr>\n",
       "      <th>2</th>\n",
       "      <td>ID 05</td>\n",
       "      <td>5</td>\n",
       "      <td>So I'm not sure I've got all the perfect descr...</td>\n",
       "      <td>perfect description</td>\n",
       "      <td>OBE1</td>\n",
       "      <td>1</td>\n",
       "      <td>5</td>\n",
       "      <td>Participant</td>\n",
       "      <td>2</td>\n",
       "      <td>0</td>\n",
       "      <td>0_interesting_easy_nice_fine</td>\n",
       "      <td>[0]</td>\n",
       "      <td>[0_interesting_easy_nice_fine]</td>\n",
       "    </tr>\n",
       "    <tr>\n",
       "      <th>3</th>\n",
       "      <td>ID 05</td>\n",
       "      <td>7</td>\n",
       "      <td>The thing that I didn't really understand, but...</td>\n",
       "      <td>understand understand body touching basically ...</td>\n",
       "      <td>OBE1</td>\n",
       "      <td>1</td>\n",
       "      <td>5</td>\n",
       "      <td>Participant</td>\n",
       "      <td>3</td>\n",
       "      <td>6</td>\n",
       "      <td>6_touch_delay_scene_image</td>\n",
       "      <td>[0, 6]</td>\n",
       "      <td>[0_interesting_easy_nice_fine, 6_touch_delay_s...</td>\n",
       "    </tr>\n",
       "    <tr>\n",
       "      <th>4</th>\n",
       "      <td>ID 05</td>\n",
       "      <td>9</td>\n",
       "      <td>So I felt like a time lag in the last one of w...</td>\n",
       "      <td>lag body</td>\n",
       "      <td>OBE1</td>\n",
       "      <td>1</td>\n",
       "      <td>5</td>\n",
       "      <td>Participant</td>\n",
       "      <td>4</td>\n",
       "      <td>4</td>\n",
       "      <td>4_body_heavy_light_come</td>\n",
       "      <td>[4]</td>\n",
       "      <td>[4_body_heavy_light_come]</td>\n",
       "    </tr>\n",
       "  </tbody>\n",
       "</table>\n",
       "</div>"
      ],
      "text/plain": [
       "  File Name  turn_index                                            Content  \\\n",
       "0     ID 05           1  So, that was very, let's say, unexpected and s...   \n",
       "1     ID 05           3  It was a little bit like, okay, well, so it's ...   \n",
       "2     ID 05           5  So I'm not sure I've got all the perfect descr...   \n",
       "3     ID 05           7  The thing that I didn't really understand, but...   \n",
       "4     ID 05           9  So I felt like a time lag in the last one of w...   \n",
       "\n",
       "                                preprocessed_content Experiment Condition  Id  \\\n",
       "0  let unexpected surprising moment realize disco...       OBE1         1   5   \n",
       "1   watch outside special lot emotion explain moment       OBE1         1   5   \n",
       "2                                perfect description       OBE1         1   5   \n",
       "3  understand understand body touching basically ...       OBE1         1   5   \n",
       "4                                           lag body       OBE1         1   5   \n",
       "\n",
       "       Speaker  Index  one_topic                     one_topic_name  \\\n",
       "0  Participant      0          3  3_reality_body_different_yourself   \n",
       "1  Participant      1         -1           -1_myself_look_body_real   \n",
       "2  Participant      2          0       0_interesting_easy_nice_fine   \n",
       "3  Participant      3          6          6_touch_delay_scene_image   \n",
       "4  Participant      4          4            4_body_heavy_light_come   \n",
       "\n",
       "  multiple_topics                               multiple_topics_name  \n",
       "0             [3]                [3_reality_body_different_yourself]  \n",
       "1         [3, 17]  [3_reality_body_different_yourself, 17_room_ce...  \n",
       "2             [0]                     [0_interesting_easy_nice_fine]  \n",
       "3          [0, 6]  [0_interesting_easy_nice_fine, 6_touch_delay_s...  \n",
       "4             [4]                          [4_body_heavy_light_come]  "
      ]
     },
     "execution_count": 45,
     "metadata": {},
     "output_type": "execute_result"
    }
   ],
   "source": [
    "df.to_csv(\"outputs/topics/df_topic.csv\", index = False)\n",
    "df.head()"
   ]
  }
 ],
 "metadata": {
  "kernelspec": {
   "display_name": "vamos",
   "language": "python",
   "name": "python3"
  },
  "language_info": {
   "codemirror_mode": {
    "name": "ipython",
    "version": 3
   },
   "file_extension": ".py",
   "mimetype": "text/x-python",
   "name": "python",
   "nbconvert_exporter": "python",
   "pygments_lexer": "ipython3",
   "version": "3.10.16"
  }
 },
 "nbformat": 4,
 "nbformat_minor": 2
}
