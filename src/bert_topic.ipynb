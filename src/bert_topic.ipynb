{
 "cells": [
  {
   "cell_type": "code",
   "execution_count": 1340,
   "metadata": {},
   "outputs": [
    {
     "name": "stdout",
     "output_type": "stream",
     "text": [
      "The autoreload extension is already loaded. To reload it, use:\n",
      "  %reload_ext autoreload\n"
     ]
    }
   ],
   "source": [
    "%load_ext autoreload\n",
    "%autoreload 2"
   ]
  },
  {
   "cell_type": "code",
   "execution_count": 1341,
   "metadata": {},
   "outputs": [],
   "source": [
    "from utils.analysis_helpers import *\n",
    "from bertopic import BERTopic"
   ]
  },
  {
   "cell_type": "markdown",
   "metadata": {},
   "source": [
    "# Define the Docs"
   ]
  },
  {
   "cell_type": "code",
   "execution_count": 1342,
   "metadata": {},
   "outputs": [],
   "source": [
    "# directory = '../Dataset/meditations_transcripts/transcripts_per_interview/csv/**/' \n",
    "\n",
    "# df_all = load_and_combine_csv(directory)\n",
    "# df_all = standardize_speaker_labels(df_all)\n",
    "\n",
    "# print(f\"Unique conditions before filtering: {df_all['Condition'].unique()}\")\n",
    "# print(f\"Number of interviews before filtering: {df_all['File Name'].nunique()}\")\n",
    "# # *0*: No \"real\" interview (e.g., setup phase, small talk). We filter these out.\n",
    "# df_all = df_all[df_all[\"Condition\"] != 0]\n",
    "# print(f\"Unique conditions after filtering: {df_all['Condition'].unique()}\")\n",
    "# print(f\"Number of interviews (File Name) after filtering: {df_all['File Name'].nunique()}\")"
   ]
  },
  {
   "cell_type": "code",
   "execution_count": 1343,
   "metadata": {},
   "outputs": [
    {
     "data": {
      "text/html": [
       "<div>\n",
       "<style scoped>\n",
       "    .dataframe tbody tr th:only-of-type {\n",
       "        vertical-align: middle;\n",
       "    }\n",
       "\n",
       "    .dataframe tbody tr th {\n",
       "        vertical-align: top;\n",
       "    }\n",
       "\n",
       "    .dataframe thead th {\n",
       "        text-align: right;\n",
       "    }\n",
       "</style>\n",
       "<table border=\"1\" class=\"dataframe\">\n",
       "  <thead>\n",
       "    <tr style=\"text-align: right;\">\n",
       "      <th></th>\n",
       "      <th>File Name</th>\n",
       "      <th>turn_index</th>\n",
       "      <th>Speaker</th>\n",
       "      <th>Experiment</th>\n",
       "      <th>Id</th>\n",
       "      <th>Condition</th>\n",
       "      <th>Full_Content</th>\n",
       "      <th>Content</th>\n",
       "    </tr>\n",
       "  </thead>\n",
       "  <tbody>\n",
       "    <tr>\n",
       "      <th>0</th>\n",
       "      <td>ID 05</td>\n",
       "      <td>0</td>\n",
       "      <td>Interviewer</td>\n",
       "      <td>OBE1</td>\n",
       "      <td>5</td>\n",
       "      <td>1</td>\n",
       "      <td>No, don't worry, it's just...</td>\n",
       "      <td>no, don't worry, it's just...</td>\n",
       "    </tr>\n",
       "    <tr>\n",
       "      <th>1</th>\n",
       "      <td>ID 05</td>\n",
       "      <td>1</td>\n",
       "      <td>Participant</td>\n",
       "      <td>OBE1</td>\n",
       "      <td>5</td>\n",
       "      <td>1</td>\n",
       "      <td>So, that was very, let's say, unexpected and s...</td>\n",
       "      <td>so, that was very, let's say, unexpected and s...</td>\n",
       "    </tr>\n",
       "    <tr>\n",
       "      <th>2</th>\n",
       "      <td>ID 05</td>\n",
       "      <td>1</td>\n",
       "      <td>Participant</td>\n",
       "      <td>OBE1</td>\n",
       "      <td>5</td>\n",
       "      <td>1</td>\n",
       "      <td>So, that was very, let's say, unexpected and s...</td>\n",
       "      <td>i mean, at least that's what i felt, that i wa...</td>\n",
       "    </tr>\n",
       "    <tr>\n",
       "      <th>3</th>\n",
       "      <td>ID 05</td>\n",
       "      <td>1</td>\n",
       "      <td>Participant</td>\n",
       "      <td>OBE1</td>\n",
       "      <td>5</td>\n",
       "      <td>1</td>\n",
       "      <td>So, that was very, let's say, unexpected and s...</td>\n",
       "      <td>and then i was observing it from above</td>\n",
       "    </tr>\n",
       "    <tr>\n",
       "      <th>4</th>\n",
       "      <td>ID 05</td>\n",
       "      <td>1</td>\n",
       "      <td>Participant</td>\n",
       "      <td>OBE1</td>\n",
       "      <td>5</td>\n",
       "      <td>1</td>\n",
       "      <td>So, that was very, let's say, unexpected and s...</td>\n",
       "      <td>and as i was saying, i felt at a specific mome...</td>\n",
       "    </tr>\n",
       "    <tr>\n",
       "      <th>...</th>\n",
       "      <td>...</td>\n",
       "      <td>...</td>\n",
       "      <td>...</td>\n",
       "      <td>...</td>\n",
       "      <td>...</td>\n",
       "      <td>...</td>\n",
       "      <td>...</td>\n",
       "      <td>...</td>\n",
       "    </tr>\n",
       "    <tr>\n",
       "      <th>2914</th>\n",
       "      <td>S313</td>\n",
       "      <td>39</td>\n",
       "      <td>Participant</td>\n",
       "      <td>Compassion</td>\n",
       "      <td>313</td>\n",
       "      <td>1</td>\n",
       "      <td>I know that's true. When I felt like sending l...</td>\n",
       "      <td>i know that's true when i felt like sending lo...</td>\n",
       "    </tr>\n",
       "    <tr>\n",
       "      <th>2915</th>\n",
       "      <td>S313</td>\n",
       "      <td>39</td>\n",
       "      <td>Participant</td>\n",
       "      <td>Compassion</td>\n",
       "      <td>313</td>\n",
       "      <td>1</td>\n",
       "      <td>I know that's true. When I felt like sending l...</td>\n",
       "      <td>i sent them to the person so maybe in both pla...</td>\n",
       "    </tr>\n",
       "    <tr>\n",
       "      <th>2916</th>\n",
       "      <td>S313</td>\n",
       "      <td>39</td>\n",
       "      <td>Participant</td>\n",
       "      <td>Compassion</td>\n",
       "      <td>313</td>\n",
       "      <td>1</td>\n",
       "      <td>I know that's true. When I felt like sending l...</td>\n",
       "      <td>i didn't feel it was me, but i felt it was mys...</td>\n",
       "    </tr>\n",
       "    <tr>\n",
       "      <th>2917</th>\n",
       "      <td>S313</td>\n",
       "      <td>40</td>\n",
       "      <td>Interviewer</td>\n",
       "      <td>Compassion</td>\n",
       "      <td>313</td>\n",
       "      <td>1</td>\n",
       "      <td>Okay, I see. The answers for my questions.</td>\n",
       "      <td>okay</td>\n",
       "    </tr>\n",
       "    <tr>\n",
       "      <th>2918</th>\n",
       "      <td>S313</td>\n",
       "      <td>40</td>\n",
       "      <td>Interviewer</td>\n",
       "      <td>Compassion</td>\n",
       "      <td>313</td>\n",
       "      <td>1</td>\n",
       "      <td>Okay, I see. The answers for my questions.</td>\n",
       "      <td>, i see the answers for my questions</td>\n",
       "    </tr>\n",
       "  </tbody>\n",
       "</table>\n",
       "<p>2919 rows × 8 columns</p>\n",
       "</div>"
      ],
      "text/plain": [
       "     File Name  turn_index      Speaker  Experiment   Id Condition  \\\n",
       "0        ID 05           0  Interviewer        OBE1    5         1   \n",
       "1        ID 05           1  Participant        OBE1    5         1   \n",
       "2        ID 05           1  Participant        OBE1    5         1   \n",
       "3        ID 05           1  Participant        OBE1    5         1   \n",
       "4        ID 05           1  Participant        OBE1    5         1   \n",
       "...        ...         ...          ...         ...  ...       ...   \n",
       "2914      S313          39  Participant  Compassion  313         1   \n",
       "2915      S313          39  Participant  Compassion  313         1   \n",
       "2916      S313          39  Participant  Compassion  313         1   \n",
       "2917      S313          40  Interviewer  Compassion  313         1   \n",
       "2918      S313          40  Interviewer  Compassion  313         1   \n",
       "\n",
       "                                           Full_Content  \\\n",
       "0                         No, don't worry, it's just...   \n",
       "1     So, that was very, let's say, unexpected and s...   \n",
       "2     So, that was very, let's say, unexpected and s...   \n",
       "3     So, that was very, let's say, unexpected and s...   \n",
       "4     So, that was very, let's say, unexpected and s...   \n",
       "...                                                 ...   \n",
       "2914  I know that's true. When I felt like sending l...   \n",
       "2915  I know that's true. When I felt like sending l...   \n",
       "2916  I know that's true. When I felt like sending l...   \n",
       "2917         Okay, I see. The answers for my questions.   \n",
       "2918         Okay, I see. The answers for my questions.   \n",
       "\n",
       "                                                Content  \n",
       "0                         no, don't worry, it's just...  \n",
       "1     so, that was very, let's say, unexpected and s...  \n",
       "2     i mean, at least that's what i felt, that i wa...  \n",
       "3               and then i was observing it from above   \n",
       "4     and as i was saying, i felt at a specific mome...  \n",
       "...                                                 ...  \n",
       "2914  i know that's true when i felt like sending lo...  \n",
       "2915  i sent them to the person so maybe in both pla...  \n",
       "2916  i didn't feel it was me, but i felt it was mys...  \n",
       "2917                                               okay  \n",
       "2918               , i see the answers for my questions  \n",
       "\n",
       "[2919 rows x 8 columns]"
      ]
     },
     "execution_count": 1343,
     "metadata": {},
     "output_type": "execute_result"
    }
   ],
   "source": [
    "df_all = pd.read_csv(\"segmented_sentences.csv\")\n",
    "# Rename Segmented_Sentence to Content\n",
    "df_all = df_all.rename(columns={\"Segmented_Sentence\": \"Content\"})\n",
    "df_all"
   ]
  },
  {
   "cell_type": "code",
   "execution_count": 1381,
   "metadata": {},
   "outputs": [],
   "source": [
    "# Preoprocessing\n",
    "df = df_all.copy()\n",
    "# For the moment only focus on the participants answers\n",
    "df = df[df[\"Speaker\"] == \"Participant\"]\n",
    "#df = df[df[\"Speaker\"] == \"Interviewer\"]\n",
    "\n",
    "# Select experiment\n",
    "df = df[df[\"Experiment\"] == \"Compassion\"]\n",
    "\n",
    "# Filter tokens (stopwords, punctuations) were removed using the spacy library, \n",
    "# All text was lowercased + lemmatized,\n",
    "# Plus extra_stopwords being the most frequents words in the corpus AND being meaningless \n",
    "extra_stopwords = [\n",
    "    # Filler Words: Common conversational placeholders without thematic value\n",
    "    \"yeah\", \"okay\", \"yes\", \"mean\", \"oh\", \"ah\", \"like\",\"kind\",\"kinda\",\"course\",\n",
    "    # Vague/Ambiguous Words: Frequent but thematically irrelevant in conversations\n",
    "    \"think\", \"know\", \"really\", \"bit\", \"feel\", \"thing\", \"sort\", \"maybe\", \"little\", \"actually\",\n",
    "    \"sure\", \"exactly\", \"tell\",\n",
    "    # Broad terms or context-specific words overshadowing subtler themes\n",
    "    \"question\", \"sorry\", \"time\", \"first\", \"second\", \"later\", \"experience\", \"end\", \"meditation\"#,\"part\",\"one\"\n",
    "]\n",
    "df['preprocessed_content'] = df['Content'].apply(lambda x: preprocess_text(x, extra_stopwords=extra_stopwords, retain_stopwords=[\"yourself\", \"myself\"]))\n",
    "\n",
    "# Remove rows with empty content or content that's only punctuation after preprocessing\n",
    "df = df[df['preprocessed_content'].str.strip().str.len() > 0]\n",
    "# File S225 is removed because it is empty after preprocessing (only two utterances, not meaningful words for topics)\n",
    "\n",
    "df.to_csv(\"preprocessed_content.csv\", index=False)"
   ]
  },
  {
   "cell_type": "code",
   "execution_count": 1382,
   "metadata": {},
   "outputs": [
    {
     "data": {
      "image/png": "[encoded data removed]",
      "text/plain": [
       "<Figure size 640x480 with 1 Axes>"
      ]
     },
     "metadata": {},
     "output_type": "display_data"
    }
   ],
   "source": [
    "# See the length of the preprocessed content\n",
    "df['preprocessed_content'].apply(lambda x: len(x.split())).hist(bins=50)\n",
    "plt.title(\"Length of content\")\n",
    "plt.xlabel(\"Number of words\")\n",
    "plt.ylabel(\"Number of utterances\")\n",
    "plt.show()"
   ]
  },
  {
   "cell_type": "code",
   "execution_count": 1383,
   "metadata": {},
   "outputs": [
    {
     "data": {
      "text/html": [
       "<div>\n",
       "<style scoped>\n",
       "    .dataframe tbody tr th:only-of-type {\n",
       "        vertical-align: middle;\n",
       "    }\n",
       "\n",
       "    .dataframe tbody tr th {\n",
       "        vertical-align: top;\n",
       "    }\n",
       "\n",
       "    .dataframe thead th {\n",
       "        text-align: right;\n",
       "    }\n",
       "</style>\n",
       "<table border=\"1\" class=\"dataframe\">\n",
       "  <thead>\n",
       "    <tr style=\"text-align: right;\">\n",
       "      <th></th>\n",
       "      <th>File Name</th>\n",
       "      <th>turn_index</th>\n",
       "      <th>Content</th>\n",
       "      <th>preprocessed_content</th>\n",
       "      <th>Experiment</th>\n",
       "      <th>Condition</th>\n",
       "      <th>Id</th>\n",
       "      <th>Speaker</th>\n",
       "    </tr>\n",
       "  </thead>\n",
       "  <tbody>\n",
       "    <tr>\n",
       "      <th>0</th>\n",
       "      <td>S301final</td>\n",
       "      <td>3</td>\n",
       "      <td>the points i think are like meditating i could...</td>\n",
       "      <td>point meditate gear disturbing completely diss...</td>\n",
       "      <td>Compassion</td>\n",
       "      <td>1</td>\n",
       "      <td>301</td>\n",
       "      <td>Participant</td>\n",
       "    </tr>\n",
       "    <tr>\n",
       "      <th>1</th>\n",
       "      <td>S301final</td>\n",
       "      <td>8</td>\n",
       "      <td>to it was easier, yeah, to my inner self yes b...</td>\n",
       "      <td>easy inner self physical self easy myself</td>\n",
       "      <td>Compassion</td>\n",
       "      <td>1</td>\n",
       "      <td>301</td>\n",
       "      <td>Participant</td>\n",
       "    </tr>\n",
       "    <tr>\n",
       "      <th>2</th>\n",
       "      <td>S301final</td>\n",
       "      <td>10</td>\n",
       "      <td>i didn't know this much difference between the...</td>\n",
       "      <td>difference warm feeling chest tube love myself...</td>\n",
       "      <td>Compassion</td>\n",
       "      <td>1</td>\n",
       "      <td>301</td>\n",
       "      <td>Participant</td>\n",
       "    </tr>\n",
       "    <tr>\n",
       "      <th>3</th>\n",
       "      <td>S301final</td>\n",
       "      <td>12</td>\n",
       "      <td>i don't know because i felt like it was very d...</td>\n",
       "      <td>differ different relate physical love body wat...</td>\n",
       "      <td>Compassion</td>\n",
       "      <td>1</td>\n",
       "      <td>301</td>\n",
       "      <td>Participant</td>\n",
       "    </tr>\n",
       "    <tr>\n",
       "      <th>4</th>\n",
       "      <td>S301final</td>\n",
       "      <td>18</td>\n",
       "      <td>no i think i have already said</td>\n",
       "      <td>say</td>\n",
       "      <td>Compassion</td>\n",
       "      <td>1</td>\n",
       "      <td>301</td>\n",
       "      <td>Participant</td>\n",
       "    </tr>\n",
       "    <tr>\n",
       "      <th>...</th>\n",
       "      <td>...</td>\n",
       "      <td>...</td>\n",
       "      <td>...</td>\n",
       "      <td>...</td>\n",
       "      <td>...</td>\n",
       "      <td>...</td>\n",
       "      <td>...</td>\n",
       "      <td>...</td>\n",
       "    </tr>\n",
       "    <tr>\n",
       "      <th>91</th>\n",
       "      <td>S313</td>\n",
       "      <td>30</td>\n",
       "      <td>i think it helped it helps you focus because y...</td>\n",
       "      <td>help help focus talk raise hand hand raise help</td>\n",
       "      <td>Compassion</td>\n",
       "      <td>1</td>\n",
       "      <td>313</td>\n",
       "      <td>Participant</td>\n",
       "    </tr>\n",
       "    <tr>\n",
       "      <th>92</th>\n",
       "      <td>S313</td>\n",
       "      <td>32</td>\n",
       "      <td>no i didn't even notice</td>\n",
       "      <td>notice</td>\n",
       "      <td>Compassion</td>\n",
       "      <td>1</td>\n",
       "      <td>313</td>\n",
       "      <td>Participant</td>\n",
       "    </tr>\n",
       "    <tr>\n",
       "      <th>93</th>\n",
       "      <td>S313</td>\n",
       "      <td>34</td>\n",
       "      <td>i definitely felt like i didn't have a lot of ...</td>\n",
       "      <td>definitely lot sensation float body weight mas...</td>\n",
       "      <td>Compassion</td>\n",
       "      <td>1</td>\n",
       "      <td>313</td>\n",
       "      <td>Participant</td>\n",
       "    </tr>\n",
       "    <tr>\n",
       "      <th>94</th>\n",
       "      <td>S313</td>\n",
       "      <td>36</td>\n",
       "      <td>no at my place</td>\n",
       "      <td>place</td>\n",
       "      <td>Compassion</td>\n",
       "      <td>1</td>\n",
       "      <td>313</td>\n",
       "      <td>Participant</td>\n",
       "    </tr>\n",
       "    <tr>\n",
       "      <th>95</th>\n",
       "      <td>S313</td>\n",
       "      <td>39</td>\n",
       "      <td>i know that's true when i felt like sending lo...</td>\n",
       "      <td>true send love send person place myself image ...</td>\n",
       "      <td>Compassion</td>\n",
       "      <td>1</td>\n",
       "      <td>313</td>\n",
       "      <td>Participant</td>\n",
       "    </tr>\n",
       "  </tbody>\n",
       "</table>\n",
       "<p>96 rows × 8 columns</p>\n",
       "</div>"
      ],
      "text/plain": [
       "    File Name  turn_index                                            Content  \\\n",
       "0   S301final           3  the points i think are like meditating i could...   \n",
       "1   S301final           8  to it was easier, yeah, to my inner self yes b...   \n",
       "2   S301final          10  i didn't know this much difference between the...   \n",
       "3   S301final          12  i don't know because i felt like it was very d...   \n",
       "4   S301final          18                     no i think i have already said   \n",
       "..        ...         ...                                                ...   \n",
       "91       S313          30  i think it helped it helps you focus because y...   \n",
       "92       S313          32                            no i didn't even notice   \n",
       "93       S313          34  i definitely felt like i didn't have a lot of ...   \n",
       "94       S313          36                                     no at my place   \n",
       "95       S313          39  i know that's true when i felt like sending lo...   \n",
       "\n",
       "                                 preprocessed_content  Experiment Condition  \\\n",
       "0   point meditate gear disturbing completely diss...  Compassion         1   \n",
       "1           easy inner self physical self easy myself  Compassion         1   \n",
       "2   difference warm feeling chest tube love myself...  Compassion         1   \n",
       "3   differ different relate physical love body wat...  Compassion         1   \n",
       "4                                                 say  Compassion         1   \n",
       "..                                                ...         ...       ...   \n",
       "91    help help focus talk raise hand hand raise help  Compassion         1   \n",
       "92                                             notice  Compassion         1   \n",
       "93  definitely lot sensation float body weight mas...  Compassion         1   \n",
       "94                                              place  Compassion         1   \n",
       "95  true send love send person place myself image ...  Compassion         1   \n",
       "\n",
       "     Id      Speaker  \n",
       "0   301  Participant  \n",
       "1   301  Participant  \n",
       "2   301  Participant  \n",
       "3   301  Participant  \n",
       "4   301  Participant  \n",
       "..  ...          ...  \n",
       "91  313  Participant  \n",
       "92  313  Participant  \n",
       "93  313  Participant  \n",
       "94  313  Participant  \n",
       "95  313  Participant  \n",
       "\n",
       "[96 rows x 8 columns]"
      ]
     },
     "execution_count": 1383,
     "metadata": {},
     "output_type": "execute_result"
    }
   ],
   "source": [
    "df = df.groupby(['File Name','turn_index']).agg({ \n",
    "    'Content': ' '.join,  # Combine raw text\n",
    "    'preprocessed_content': ' '.join,  # Combine preprocessed text\n",
    "    'Experiment': 'first',   # Keep the first \n",
    "    'Condition': 'first',   # Keep the first\n",
    "    'Id': 'first',   # Keep the first\n",
    "    'Speaker': 'first',   # Keep the first\n",
    "}).reset_index()\n",
    "df"
   ]
  },
  {
   "cell_type": "code",
   "execution_count": 1384,
   "metadata": {},
   "outputs": [
    {
     "name": "stdout",
     "output_type": "stream",
     "text": [
      "96\n"
     ]
    }
   ],
   "source": [
    "docs = list(df.preprocessed_content)\n",
    "print(len(docs))"
   ]
  },
  {
   "cell_type": "code",
   "execution_count": 1385,
   "metadata": {},
   "outputs": [
    {
     "data": {
      "text/html": [
       "<div>\n",
       "<style scoped>\n",
       "    .dataframe tbody tr th:only-of-type {\n",
       "        vertical-align: middle;\n",
       "    }\n",
       "\n",
       "    .dataframe tbody tr th {\n",
       "        vertical-align: top;\n",
       "    }\n",
       "\n",
       "    .dataframe thead th {\n",
       "        text-align: right;\n",
       "    }\n",
       "</style>\n",
       "<table border=\"1\" class=\"dataframe\">\n",
       "  <thead>\n",
       "    <tr style=\"text-align: right;\">\n",
       "      <th></th>\n",
       "      <th>File Name</th>\n",
       "      <th>turn_index</th>\n",
       "      <th>Content</th>\n",
       "      <th>preprocessed_content</th>\n",
       "      <th>Experiment</th>\n",
       "      <th>Condition</th>\n",
       "      <th>Id</th>\n",
       "      <th>Speaker</th>\n",
       "    </tr>\n",
       "  </thead>\n",
       "  <tbody>\n",
       "  </tbody>\n",
       "</table>\n",
       "</div>"
      ],
      "text/plain": [
       "Empty DataFrame\n",
       "Columns: [File Name, turn_index, Content, preprocessed_content, Experiment, Condition, Id, Speaker]\n",
       "Index: []"
      ]
     },
     "execution_count": 1385,
     "metadata": {},
     "output_type": "execute_result"
    }
   ],
   "source": [
    "# look rows with a specific word in the column preprocessed_content\n",
    "df[df['preprocessed_content'].str.contains(\"course\")]"
   ]
  },
  {
   "cell_type": "markdown",
   "metadata": {},
   "source": [
    "# Define the model"
   ]
  },
  {
   "cell_type": "code",
   "execution_count": 1386,
   "metadata": {},
   "outputs": [
    {
     "name": "stderr",
     "output_type": "stream",
     "text": [
      "Batches: 100%|██████████| 3/3 [00:03<00:00,  1.27s/it]\n"
     ]
    }
   ],
   "source": [
    "from sentence_transformers import SentenceTransformer\n",
    "\n",
    "# Pre-calculate embeddings\n",
    "embedding_model = SentenceTransformer(\"all-mpnet-base-v2\") # all-mpnet-base-v2, all-MiniLM-L6-v2\n",
    "embeddings = embedding_model.encode(docs, show_progress_bar=True)"
   ]
  },
  {
   "cell_type": "code",
   "execution_count": 1387,
   "metadata": {},
   "outputs": [],
   "source": [
    "from umap import UMAP\n",
    "from hdbscan import HDBSCAN\n",
    "\n",
    "# Dimensionality reduction model\n",
    "umap_model = UMAP(n_neighbors=15, n_components=8, min_dist=0.0, metric='cosine', random_state=42)\n",
    "\n",
    "# Clustering model\n",
    "hdbscan_model = HDBSCAN(min_cluster_size=3, metric='euclidean', cluster_selection_method='eom')\n",
    "\n",
    "topic_model = BERTopic(                       \n",
    "# Pipeline models\n",
    "embedding_model=embedding_model,\n",
    "umap_model=umap_model,\n",
    "hdbscan_model=hdbscan_model,\n",
    "#nr_topics=9,  # Number of topics\n",
    "\n",
    "# Hyperparameters\n",
    "verbose=True,)"
   ]
  },
  {
   "cell_type": "code",
   "execution_count": 1388,
   "metadata": {},
   "outputs": [
    {
     "name": "stderr",
     "output_type": "stream",
     "text": [
      "2025-01-06 18:37:11,788 - BERTopic - Embedding - Transforming documents to embeddings.\n",
      "Batches: 100%|██████████| 3/3 [00:03<00:00,  1.27s/it]\n",
      "2025-01-06 18:37:15,618 - BERTopic - Embedding - Completed ✓\n",
      "2025-01-06 18:37:15,618 - BERTopic - Dimensionality - Fitting the dimensionality reduction algorithm\n",
      "2025-01-06 18:37:15,844 - BERTopic - Dimensionality - Completed ✓\n",
      "2025-01-06 18:37:15,844 - BERTopic - Cluster - Start clustering the reduced embeddings\n",
      "2025-01-06 18:37:15,851 - BERTopic - Cluster - Completed ✓\n",
      "2025-01-06 18:37:15,857 - BERTopic - Representation - Extracting topics from clusters using representation models.\n",
      "2025-01-06 18:37:15,877 - BERTopic - Representation - Completed ✓\n"
     ]
    },
    {
     "data": {
      "text/plain": [
       "9"
      ]
     },
     "execution_count": 1388,
     "metadata": {},
     "output_type": "execute_result"
    }
   ],
   "source": [
    "topics, ini_probs = topic_model.fit_transform(docs)\n",
    "num_topics = len(topic_model.get_topics()) - 1\n",
    "num_topics"
   ]
  },
  {
   "cell_type": "code",
   "execution_count": 1389,
   "metadata": {},
   "outputs": [
    {
     "data": {
      "text/html": [
       "<div>\n",
       "<style scoped>\n",
       "    .dataframe tbody tr th:only-of-type {\n",
       "        vertical-align: middle;\n",
       "    }\n",
       "\n",
       "    .dataframe tbody tr th {\n",
       "        vertical-align: top;\n",
       "    }\n",
       "\n",
       "    .dataframe thead th {\n",
       "        text-align: right;\n",
       "    }\n",
       "</style>\n",
       "<table border=\"1\" class=\"dataframe\">\n",
       "  <thead>\n",
       "    <tr style=\"text-align: right;\">\n",
       "      <th></th>\n",
       "      <th>Topic</th>\n",
       "      <th>Count</th>\n",
       "      <th>Name</th>\n",
       "      <th>Representation</th>\n",
       "      <th>Representative_Docs</th>\n",
       "    </tr>\n",
       "  </thead>\n",
       "  <tbody>\n",
       "    <tr>\n",
       "      <th>0</th>\n",
       "      <td>-1</td>\n",
       "      <td>20</td>\n",
       "      <td>-1_good_myself_thank_practice</td>\n",
       "      <td>[good, myself, thank, practice, help, hard, pe...</td>\n",
       "      <td>[practice regularly call compassion regularly ...</td>\n",
       "    </tr>\n",
       "    <tr>\n",
       "      <th>1</th>\n",
       "      <td>0</td>\n",
       "      <td>18</td>\n",
       "      <td>0_focus_leg_lot_distract</td>\n",
       "      <td>[focus, leg, lot, distract, go, head, eye, gue...</td>\n",
       "      <td>[guess make sense able picture find myself foc...</td>\n",
       "    </tr>\n",
       "    <tr>\n",
       "      <th>2</th>\n",
       "      <td>1</td>\n",
       "      <td>11</td>\n",
       "      <td>1_send_place_love_happy</td>\n",
       "      <td>[send, place, love, happy, long, lady, room, d...</td>\n",
       "      <td>[say lift hand lady will lonely raise hand say...</td>\n",
       "    </tr>\n",
       "    <tr>\n",
       "      <th>3</th>\n",
       "      <td>2</td>\n",
       "      <td>11</td>\n",
       "      <td>2_see_myself_awake_love</td>\n",
       "      <td>[see, myself, awake, love, despite, notice, se...</td>\n",
       "      <td>[see cloud see image see move fast, easy see m...</td>\n",
       "    </tr>\n",
       "    <tr>\n",
       "      <th>4</th>\n",
       "      <td>3</td>\n",
       "      <td>9</td>\n",
       "      <td>3_feeling_warmth_warm_compassionate</td>\n",
       "      <td>[feeling, warmth, warm, compassionate, thought...</td>\n",
       "      <td>[differ different relate physical love body wa...</td>\n",
       "    </tr>\n",
       "    <tr>\n",
       "      <th>5</th>\n",
       "      <td>4</td>\n",
       "      <td>9</td>\n",
       "      <td>4_reality_virtual_experiment_sensation</td>\n",
       "      <td>[reality, virtual, experiment, sensation, soun...</td>\n",
       "      <td>[experiment nice include virtual reality chang...</td>\n",
       "    </tr>\n",
       "    <tr>\n",
       "      <th>6</th>\n",
       "      <td>5</td>\n",
       "      <td>6</td>\n",
       "      <td>5_eye_close_open_likewise</td>\n",
       "      <td>[eye, close, open, likewise, normally, 30, eas...</td>\n",
       "      <td>[eye close, say close close normally close eye...</td>\n",
       "    </tr>\n",
       "    <tr>\n",
       "      <th>7</th>\n",
       "      <td>6</td>\n",
       "      <td>5</td>\n",
       "      <td>6_condition_100_30_70</td>\n",
       "      <td>[condition, 100, 30, 70, 78, 75, teacher, 80, ...</td>\n",
       "      <td>[help 100 term percentage make 75, condition 7...</td>\n",
       "    </tr>\n",
       "    <tr>\n",
       "      <th>8</th>\n",
       "      <td>7</td>\n",
       "      <td>4</td>\n",
       "      <td>7_easy_fun_nice_imagine</td>\n",
       "      <td>[easy, fun, nice, imagine, difficult, , , , , ]</td>\n",
       "      <td>[fun, easy nice, easy easy imagine]</td>\n",
       "    </tr>\n",
       "    <tr>\n",
       "      <th>9</th>\n",
       "      <td>8</td>\n",
       "      <td>3</td>\n",
       "      <td>8_self_easy_critical_aspect</td>\n",
       "      <td>[self, easy, critical, aspect, criticism, figu...</td>\n",
       "      <td>[easy inner self physical self easy myself, pr...</td>\n",
       "    </tr>\n",
       "  </tbody>\n",
       "</table>\n",
       "</div>"
      ],
      "text/plain": [
       "   Topic  Count                                    Name  \\\n",
       "0     -1     20           -1_good_myself_thank_practice   \n",
       "1      0     18                0_focus_leg_lot_distract   \n",
       "2      1     11                 1_send_place_love_happy   \n",
       "3      2     11                 2_see_myself_awake_love   \n",
       "4      3      9     3_feeling_warmth_warm_compassionate   \n",
       "5      4      9  4_reality_virtual_experiment_sensation   \n",
       "6      5      6               5_eye_close_open_likewise   \n",
       "7      6      5                   6_condition_100_30_70   \n",
       "8      7      4                 7_easy_fun_nice_imagine   \n",
       "9      8      3             8_self_easy_critical_aspect   \n",
       "\n",
       "                                      Representation  \\\n",
       "0  [good, myself, thank, practice, help, hard, pe...   \n",
       "1  [focus, leg, lot, distract, go, head, eye, gue...   \n",
       "2  [send, place, love, happy, long, lady, room, d...   \n",
       "3  [see, myself, awake, love, despite, notice, se...   \n",
       "4  [feeling, warmth, warm, compassionate, thought...   \n",
       "5  [reality, virtual, experiment, sensation, soun...   \n",
       "6  [eye, close, open, likewise, normally, 30, eas...   \n",
       "7  [condition, 100, 30, 70, 78, 75, teacher, 80, ...   \n",
       "8    [easy, fun, nice, imagine, difficult, , , , , ]   \n",
       "9  [self, easy, critical, aspect, criticism, figu...   \n",
       "\n",
       "                                 Representative_Docs  \n",
       "0  [practice regularly call compassion regularly ...  \n",
       "1  [guess make sense able picture find myself foc...  \n",
       "2  [say lift hand lady will lonely raise hand say...  \n",
       "3  [see cloud see image see move fast, easy see m...  \n",
       "4  [differ different relate physical love body wa...  \n",
       "5  [experiment nice include virtual reality chang...  \n",
       "6  [eye close, say close close normally close eye...  \n",
       "7  [help 100 term percentage make 75, condition 7...  \n",
       "8                [fun, easy nice, easy easy imagine]  \n",
       "9  [easy inner self physical self easy myself, pr...  "
      ]
     },
     "execution_count": 1389,
     "metadata": {},
     "output_type": "execute_result"
    }
   ],
   "source": [
    "topic_model.get_topic_info().to_csv(\"topic_model.csv\")\n",
    "topic_model.get_topic_info()"
   ]
  },
  {
   "cell_type": "code",
   "execution_count": 1390,
   "metadata": {},
   "outputs": [],
   "source": [
    "# # Reduce outliers with pre-calculate embeddings\n",
    "# new_topics = topic_model.reduce_outliers(docs, topics, strategy=\"embeddings\", embeddings=embeddings)\n",
    "# topic_model.update_topics(docs, topics=new_topics)\n",
    "# topics = new_topics\n",
    "\n",
    "# # Display new topics\n",
    "# topic_model.get_topic_info()"
   ]
  },
  {
   "cell_type": "code",
   "execution_count": 1391,
   "metadata": {},
   "outputs": [
    {
     "data": {
      "application/vnd.plotly.v1+json": {
       "config": {
        "plotlyServerURL": "https://plot.ly"
       },
       "data": [
        {
         "marker": {
          "color": "#D55E00"
         },
         "orientation": "h",
         "type": "bar",
         "x": [
          0.04846654614236793,
          0.05692845765070791,
          0.05692845765070791,
          0.07624722840033574,
          0.09176770101690367
         ],
         "xaxis": "x",
         "y": [
          "go  ",
          "distract  ",
          "lot  ",
          "leg  ",
          "focus  "
         ],
         "yaxis": "y"
        },
        {
         "marker": {
          "color": "#0072B2"
         },
         "orientation": "h",
         "type": "bar",
         "x": [
          0.15992802806676795,
          0.15992802806676795,
          0.20450924910161164,
          0.25563656137701457,
          0.2665490586683414
         ],
         "xaxis": "x2",
         "y": [
          "long  ",
          "happy  ",
          "love  ",
          "place  ",
          "send  "
         ],
         "yaxis": "y2"
        },
        {
         "marker": {
          "color": "#CC79A7"
         },
         "orientation": "h",
         "type": "bar",
         "x": [
          0.12209722295336632,
          0.12998469222560063,
          0.13553222717522706,
          0.17648178070031187,
          0.25063794073282714
         ],
         "xaxis": "x3",
         "y": [
          "despite  ",
          "love  ",
          "awake  ",
          "myself  ",
          "see  "
         ],
         "yaxis": "y3"
        },
        {
         "marker": {
          "color": "#E69F00"
         },
         "orientation": "h",
         "type": "bar",
         "x": [
          0.08370864898017547,
          0.0996970752057733,
          0.0996970752057733,
          0.13292943360769774,
          0.1509713251187038
         ],
         "xaxis": "x4",
         "y": [
          "thought  ",
          "compassionate  ",
          "warm  ",
          "warmth  ",
          "feeling  "
         ],
         "yaxis": "y4"
        },
        {
         "marker": {
          "color": "#56B4E9"
         },
         "orientation": "h",
         "type": "bar",
         "x": [
          0.06240818479234636,
          0.06257020156533835,
          0.07298265161645526,
          0.07859967040392063,
          0.07859967040392063
         ],
         "xaxis": "x5",
         "y": [
          "sound  ",
          "sensation  ",
          "experiment  ",
          "virtual  ",
          "reality  "
         ],
         "yaxis": "y5"
        },
        {
         "marker": {
          "color": "#009E73"
         },
         "orientation": "h",
         "type": "bar",
         "x": [
          0.1614528009353179,
          0.1614528009353179,
          0.30655757038903575,
          0.4461787479424897,
          0.4634275284844319
         ],
         "xaxis": "x6",
         "y": [
          "normally  ",
          "likewise  ",
          "open  ",
          "close  ",
          "eye  "
         ],
         "yaxis": "y6"
        },
        {
         "marker": {
          "color": "#F0E442"
         },
         "orientation": "h",
         "type": "bar",
         "x": [
          0.234106561356211,
          0.234106561356211,
          0.36018680771243067,
          0.3998200701669199,
          0.4403442524226428
         ],
         "xaxis": "x7",
         "y": [
          "78  ",
          "70  ",
          "30  ",
          "100  ",
          "condition  "
         ],
         "yaxis": "y7"
        },
        {
         "marker": {
          "color": "#D55E00"
         },
         "orientation": "h",
         "type": "bar",
         "x": [
          0.3986126141913117,
          0.47474797717034906,
          0.5145525824463295,
          0.6688758895891742,
          0.7273472112228024
         ],
         "xaxis": "x8",
         "y": [
          "difficult  ",
          "imagine  ",
          "nice  ",
          "fun  ",
          "easy  "
         ],
         "yaxis": "y8"
        },
        {
         "marker": {
          "color": "#0072B2"
         },
         "orientation": "h",
         "type": "bar",
         "x": [
          0.16721897239729355,
          0.16721897239729355,
          0.16721897239729355,
          0.1818368028057006,
          0.338969907381042
         ],
         "xaxis": "x9",
         "y": [
          "criticism  ",
          "aspect  ",
          "critical  ",
          "easy  ",
          "self  "
         ],
         "yaxis": "y9"
        }
       ],
       "layout": {
        "annotations": [
         {
          "font": {
           "size": 16
          },
          "showarrow": false,
          "text": "Topic 0",
          "x": 0.0875,
          "xanchor": "center",
          "xref": "paper",
          "y": 1,
          "yanchor": "bottom",
          "yref": "paper"
         },
         {
          "font": {
           "size": 16
          },
          "showarrow": false,
          "text": "Topic 1",
          "x": 0.36250000000000004,
          "xanchor": "center",
          "xref": "paper",
          "y": 1,
          "yanchor": "bottom",
          "yref": "paper"
         },
         {
          "font": {
           "size": 16
          },
          "showarrow": false,
          "text": "Topic 2",
          "x": 0.6375000000000001,
          "xanchor": "center",
          "xref": "paper",
          "y": 1,
          "yanchor": "bottom",
          "yref": "paper"
         },
         {
          "font": {
           "size": 16
          },
          "showarrow": false,
          "text": "Topic 3",
          "x": 0.9125,
          "xanchor": "center",
          "xref": "paper",
          "y": 1,
          "yanchor": "bottom",
          "yref": "paper"
         },
         {
          "font": {
           "size": 16
          },
          "showarrow": false,
          "text": "Topic 4",
          "x": 0.0875,
          "xanchor": "center",
          "xref": "paper",
          "y": 0.6222222222222222,
          "yanchor": "bottom",
          "yref": "paper"
         },
         {
          "font": {
           "size": 16
          },
          "showarrow": false,
          "text": "Topic 5",
          "x": 0.36250000000000004,
          "xanchor": "center",
          "xref": "paper",
          "y": 0.6222222222222222,
          "yanchor": "bottom",
          "yref": "paper"
         },
         {
          "font": {
           "size": 16
          },
          "showarrow": false,
          "text": "Topic 6",
          "x": 0.6375000000000001,
          "xanchor": "center",
          "xref": "paper",
          "y": 0.6222222222222222,
          "yanchor": "bottom",
          "yref": "paper"
         },
         {
          "font": {
           "size": 16
          },
          "showarrow": false,
          "text": "Topic 7",
          "x": 0.9125,
          "xanchor": "center",
          "xref": "paper",
          "y": 0.6222222222222222,
          "yanchor": "bottom",
          "yref": "paper"
         },
         {
          "font": {
           "size": 16
          },
          "showarrow": false,
          "text": "Topic 8",
          "x": 0.0875,
          "xanchor": "center",
          "xref": "paper",
          "y": 0.24444444444444446,
          "yanchor": "bottom",
          "yref": "paper"
         }
        ],
        "height": 750,
        "hoverlabel": {
         "bgcolor": "white",
         "font": {
          "family": "Rockwell",
          "size": 16
         }
        },
        "showlegend": false,
        "template": {
         "data": {
          "bar": [
           {
            "error_x": {
             "color": "#2a3f5f"
            },
            "error_y": {
             "color": "#2a3f5f"
            },
            "marker": {
             "line": {
              "color": "white",
              "width": 0.5
             },
             "pattern": {
              "fillmode": "overlay",
              "size": 10,
              "solidity": 0.2
             }
            },
            "type": "bar"
           }
          ],
          "barpolar": [
           {
            "marker": {
             "line": {
              "color": "white",
              "width": 0.5
             },
             "pattern": {
              "fillmode": "overlay",
              "size": 10,
              "solidity": 0.2
             }
            },
            "type": "barpolar"
           }
          ],
          "carpet": [
           {
            "aaxis": {
             "endlinecolor": "#2a3f5f",
             "gridcolor": "#C8D4E3",
             "linecolor": "#C8D4E3",
             "minorgridcolor": "#C8D4E3",
             "startlinecolor": "#2a3f5f"
            },
            "baxis": {
             "endlinecolor": "#2a3f5f",
             "gridcolor": "#C8D4E3",
             "linecolor": "#C8D4E3",
             "minorgridcolor": "#C8D4E3",
             "startlinecolor": "#2a3f5f"
            },
            "type": "carpet"
           }
          ],
          "choropleth": [
           {
            "colorbar": {
             "outlinewidth": 0,
             "ticks": ""
            },
            "type": "choropleth"
           }
          ],
          "contour": [
           {
            "colorbar": {
             "outlinewidth": 0,
             "ticks": ""
            },
            "colorscale": [
             [
              0,
              "#0d0887"
             ],
             [
              0.1111111111111111,
              "#46039f"
             ],
             [
              0.2222222222222222,
              "#7201a8"
             ],
             [
              0.3333333333333333,
              "#9c179e"
             ],
             [
              0.4444444444444444,
              "#bd3786"
             ],
             [
              0.5555555555555556,
              "#d8576b"
             ],
             [
              0.6666666666666666,
              "#ed7953"
             ],
             [
              0.7777777777777778,
              "#fb9f3a"
             ],
             [
              0.8888888888888888,
              "#fdca26"
             ],
             [
              1,
              "#f0f921"
             ]
            ],
            "type": "contour"
           }
          ],
          "contourcarpet": [
           {
            "colorbar": {
             "outlinewidth": 0,
             "ticks": ""
            },
            "type": "contourcarpet"
           }
          ],
          "heatmap": [
           {
            "colorbar": {
             "outlinewidth": 0,
             "ticks": ""
            },
            "colorscale": [
             [
              0,
              "#0d0887"
             ],
             [
              0.1111111111111111,
              "#46039f"
             ],
             [
              0.2222222222222222,
              "#7201a8"
             ],
             [
              0.3333333333333333,
              "#9c179e"
             ],
             [
              0.4444444444444444,
              "#bd3786"
             ],
             [
              0.5555555555555556,
              "#d8576b"
             ],
             [
              0.6666666666666666,
              "#ed7953"
             ],
             [
              0.7777777777777778,
              "#fb9f3a"
             ],
             [
              0.8888888888888888,
              "#fdca26"
             ],
             [
              1,
              "#f0f921"
             ]
            ],
            "type": "heatmap"
           }
          ],
          "heatmapgl": [
           {
            "colorbar": {
             "outlinewidth": 0,
             "ticks": ""
            },
            "colorscale": [
             [
              0,
              "#0d0887"
             ],
             [
              0.1111111111111111,
              "#46039f"
             ],
             [
              0.2222222222222222,
              "#7201a8"
             ],
             [
              0.3333333333333333,
              "#9c179e"
             ],
             [
              0.4444444444444444,
              "#bd3786"
             ],
             [
              0.5555555555555556,
              "#d8576b"
             ],
             [
              0.6666666666666666,
              "#ed7953"
             ],
             [
              0.7777777777777778,
              "#fb9f3a"
             ],
             [
              0.8888888888888888,
              "#fdca26"
             ],
             [
              1,
              "#f0f921"
             ]
            ],
            "type": "heatmapgl"
           }
          ],
          "histogram": [
           {
            "marker": {
             "pattern": {
              "fillmode": "overlay",
              "size": 10,
              "solidity": 0.2
             }
            },
            "type": "histogram"
           }
          ],
          "histogram2d": [
           {
            "colorbar": {
             "outlinewidth": 0,
             "ticks": ""
            },
            "colorscale": [
             [
              0,
              "#0d0887"
             ],
             [
              0.1111111111111111,
              "#46039f"
             ],
             [
              0.2222222222222222,
              "#7201a8"
             ],
             [
              0.3333333333333333,
              "#9c179e"
             ],
             [
              0.4444444444444444,
              "#bd3786"
             ],
             [
              0.5555555555555556,
              "#d8576b"
             ],
             [
              0.6666666666666666,
              "#ed7953"
             ],
             [
              0.7777777777777778,
              "#fb9f3a"
             ],
             [
              0.8888888888888888,
              "#fdca26"
             ],
             [
              1,
              "#f0f921"
             ]
            ],
            "type": "histogram2d"
           }
          ],
          "histogram2dcontour": [
           {
            "colorbar": {
             "outlinewidth": 0,
             "ticks": ""
            },
            "colorscale": [
             [
              0,
              "#0d0887"
             ],
             [
              0.1111111111111111,
              "#46039f"
             ],
             [
              0.2222222222222222,
              "#7201a8"
             ],
             [
              0.3333333333333333,
              "#9c179e"
             ],
             [
              0.4444444444444444,
              "#bd3786"
             ],
             [
              0.5555555555555556,
              "#d8576b"
             ],
             [
              0.6666666666666666,
              "#ed7953"
             ],
             [
              0.7777777777777778,
              "#fb9f3a"
             ],
             [
              0.8888888888888888,
              "#fdca26"
             ],
             [
              1,
              "#f0f921"
             ]
            ],
            "type": "histogram2dcontour"
           }
          ],
          "mesh3d": [
           {
            "colorbar": {
             "outlinewidth": 0,
             "ticks": ""
            },
            "type": "mesh3d"
           }
          ],
          "parcoords": [
           {
            "line": {
             "colorbar": {
              "outlinewidth": 0,
              "ticks": ""
             }
            },
            "type": "parcoords"
           }
          ],
          "pie": [
           {
            "automargin": true,
            "type": "pie"
           }
          ],
          "scatter": [
           {
            "fillpattern": {
             "fillmode": "overlay",
             "size": 10,
             "solidity": 0.2
            },
            "type": "scatter"
           }
          ],
          "scatter3d": [
           {
            "line": {
             "colorbar": {
              "outlinewidth": 0,
              "ticks": ""
             }
            },
            "marker": {
             "colorbar": {
              "outlinewidth": 0,
              "ticks": ""
             }
            },
            "type": "scatter3d"
           }
          ],
          "scattercarpet": [
           {
            "marker": {
             "colorbar": {
              "outlinewidth": 0,
              "ticks": ""
             }
            },
            "type": "scattercarpet"
           }
          ],
          "scattergeo": [
           {
            "marker": {
             "colorbar": {
              "outlinewidth": 0,
              "ticks": ""
             }
            },
            "type": "scattergeo"
           }
          ],
          "scattergl": [
           {
            "marker": {
             "colorbar": {
              "outlinewidth": 0,
              "ticks": ""
             }
            },
            "type": "scattergl"
           }
          ],
          "scattermapbox": [
           {
            "marker": {
             "colorbar": {
              "outlinewidth": 0,
              "ticks": ""
             }
            },
            "type": "scattermapbox"
           }
          ],
          "scatterpolar": [
           {
            "marker": {
             "colorbar": {
              "outlinewidth": 0,
              "ticks": ""
             }
            },
            "type": "scatterpolar"
           }
          ],
          "scatterpolargl": [
           {
            "marker": {
             "colorbar": {
              "outlinewidth": 0,
              "ticks": ""
             }
            },
            "type": "scatterpolargl"
           }
          ],
          "scatterternary": [
           {
            "marker": {
             "colorbar": {
              "outlinewidth": 0,
              "ticks": ""
             }
            },
            "type": "scatterternary"
           }
          ],
          "surface": [
           {
            "colorbar": {
             "outlinewidth": 0,
             "ticks": ""
            },
            "colorscale": [
             [
              0,
              "#0d0887"
             ],
             [
              0.1111111111111111,
              "#46039f"
             ],
             [
              0.2222222222222222,
              "#7201a8"
             ],
             [
              0.3333333333333333,
              "#9c179e"
             ],
             [
              0.4444444444444444,
              "#bd3786"
             ],
             [
              0.5555555555555556,
              "#d8576b"
             ],
             [
              0.6666666666666666,
              "#ed7953"
             ],
             [
              0.7777777777777778,
              "#fb9f3a"
             ],
             [
              0.8888888888888888,
              "#fdca26"
             ],
             [
              1,
              "#f0f921"
             ]
            ],
            "type": "surface"
           }
          ],
          "table": [
           {
            "cells": {
             "fill": {
              "color": "#EBF0F8"
             },
             "line": {
              "color": "white"
             }
            },
            "header": {
             "fill": {
              "color": "#C8D4E3"
             },
             "line": {
              "color": "white"
             }
            },
            "type": "table"
           }
          ]
         },
         "layout": {
          "annotationdefaults": {
           "arrowcolor": "#2a3f5f",
           "arrowhead": 0,
           "arrowwidth": 1
          },
          "autotypenumbers": "strict",
          "coloraxis": {
           "colorbar": {
            "outlinewidth": 0,
            "ticks": ""
           }
          },
          "colorscale": {
           "diverging": [
            [
             0,
             "#8e0152"
            ],
            [
             0.1,
             "#c51b7d"
            ],
            [
             0.2,
             "#de77ae"
            ],
            [
             0.3,
             "#f1b6da"
            ],
            [
             0.4,
             "#fde0ef"
            ],
            [
             0.5,
             "#f7f7f7"
            ],
            [
             0.6,
             "#e6f5d0"
            ],
            [
             0.7,
             "#b8e186"
            ],
            [
             0.8,
             "#7fbc41"
            ],
            [
             0.9,
             "#4d9221"
            ],
            [
             1,
             "#276419"
            ]
           ],
           "sequential": [
            [
             0,
             "#0d0887"
            ],
            [
             0.1111111111111111,
             "#46039f"
            ],
            [
             0.2222222222222222,
             "#7201a8"
            ],
            [
             0.3333333333333333,
             "#9c179e"
            ],
            [
             0.4444444444444444,
             "#bd3786"
            ],
            [
             0.5555555555555556,
             "#d8576b"
            ],
            [
             0.6666666666666666,
             "#ed7953"
            ],
            [
             0.7777777777777778,
             "#fb9f3a"
            ],
            [
             0.8888888888888888,
             "#fdca26"
            ],
            [
             1,
             "#f0f921"
            ]
           ],
           "sequentialminus": [
            [
             0,
             "#0d0887"
            ],
            [
             0.1111111111111111,
             "#46039f"
            ],
            [
             0.2222222222222222,
             "#7201a8"
            ],
            [
             0.3333333333333333,
             "#9c179e"
            ],
            [
             0.4444444444444444,
             "#bd3786"
            ],
            [
             0.5555555555555556,
             "#d8576b"
            ],
            [
             0.6666666666666666,
             "#ed7953"
            ],
            [
             0.7777777777777778,
             "#fb9f3a"
            ],
            [
             0.8888888888888888,
             "#fdca26"
            ],
            [
             1,
             "#f0f921"
            ]
           ]
          },
          "colorway": [
           "#636efa",
           "#EF553B",
           "#00cc96",
           "#ab63fa",
           "#FFA15A",
           "#19d3f3",
           "#FF6692",
           "#B6E880",
           "#FF97FF",
           "#FECB52"
          ],
          "font": {
           "color": "#2a3f5f"
          },
          "geo": {
           "bgcolor": "white",
           "lakecolor": "white",
           "landcolor": "white",
           "showlakes": true,
           "showland": true,
           "subunitcolor": "#C8D4E3"
          },
          "hoverlabel": {
           "align": "left"
          },
          "hovermode": "closest",
          "mapbox": {
           "style": "light"
          },
          "paper_bgcolor": "white",
          "plot_bgcolor": "white",
          "polar": {
           "angularaxis": {
            "gridcolor": "#EBF0F8",
            "linecolor": "#EBF0F8",
            "ticks": ""
           },
           "bgcolor": "white",
           "radialaxis": {
            "gridcolor": "#EBF0F8",
            "linecolor": "#EBF0F8",
            "ticks": ""
           }
          },
          "scene": {
           "xaxis": {
            "backgroundcolor": "white",
            "gridcolor": "#DFE8F3",
            "gridwidth": 2,
            "linecolor": "#EBF0F8",
            "showbackground": true,
            "ticks": "",
            "zerolinecolor": "#EBF0F8"
           },
           "yaxis": {
            "backgroundcolor": "white",
            "gridcolor": "#DFE8F3",
            "gridwidth": 2,
            "linecolor": "#EBF0F8",
            "showbackground": true,
            "ticks": "",
            "zerolinecolor": "#EBF0F8"
           },
           "zaxis": {
            "backgroundcolor": "white",
            "gridcolor": "#DFE8F3",
            "gridwidth": 2,
            "linecolor": "#EBF0F8",
            "showbackground": true,
            "ticks": "",
            "zerolinecolor": "#EBF0F8"
           }
          },
          "shapedefaults": {
           "line": {
            "color": "#2a3f5f"
           }
          },
          "ternary": {
           "aaxis": {
            "gridcolor": "#DFE8F3",
            "linecolor": "#A2B1C6",
            "ticks": ""
           },
           "baxis": {
            "gridcolor": "#DFE8F3",
            "linecolor": "#A2B1C6",
            "ticks": ""
           },
           "bgcolor": "white",
           "caxis": {
            "gridcolor": "#DFE8F3",
            "linecolor": "#A2B1C6",
            "ticks": ""
           }
          },
          "title": {
           "x": 0.05
          },
          "xaxis": {
           "automargin": true,
           "gridcolor": "#EBF0F8",
           "linecolor": "#EBF0F8",
           "ticks": "",
           "title": {
            "standoff": 15
           },
           "zerolinecolor": "#EBF0F8",
           "zerolinewidth": 2
          },
          "yaxis": {
           "automargin": true,
           "gridcolor": "#EBF0F8",
           "linecolor": "#EBF0F8",
           "ticks": "",
           "title": {
            "standoff": 15
           },
           "zerolinecolor": "#EBF0F8",
           "zerolinewidth": 2
          }
         }
        },
        "title": {
         "font": {
          "color": "Black",
          "size": 22
         },
         "text": "Topic Word Scores",
         "x": 0.5,
         "xanchor": "center",
         "yanchor": "top"
        },
        "width": 1000,
        "xaxis": {
         "anchor": "y",
         "domain": [
          0,
          0.175
         ],
         "showgrid": true
        },
        "xaxis10": {
         "anchor": "y10",
         "domain": [
          0.275,
          0.45
         ],
         "showgrid": true
        },
        "xaxis11": {
         "anchor": "y11",
         "domain": [
          0.55,
          0.7250000000000001
         ],
         "showgrid": true
        },
        "xaxis12": {
         "anchor": "y12",
         "domain": [
          0.825,
          1
         ],
         "showgrid": true
        },
        "xaxis2": {
         "anchor": "y2",
         "domain": [
          0.275,
          0.45
         ],
         "showgrid": true
        },
        "xaxis3": {
         "anchor": "y3",
         "domain": [
          0.55,
          0.7250000000000001
         ],
         "showgrid": true
        },
        "xaxis4": {
         "anchor": "y4",
         "domain": [
          0.825,
          1
         ],
         "showgrid": true
        },
        "xaxis5": {
         "anchor": "y5",
         "domain": [
          0,
          0.175
         ],
         "showgrid": true
        },
        "xaxis6": {
         "anchor": "y6",
         "domain": [
          0.275,
          0.45
         ],
         "showgrid": true
        },
        "xaxis7": {
         "anchor": "y7",
         "domain": [
          0.55,
          0.7250000000000001
         ],
         "showgrid": true
        },
        "xaxis8": {
         "anchor": "y8",
         "domain": [
          0.825,
          1
         ],
         "showgrid": true
        },
        "xaxis9": {
         "anchor": "y9",
         "domain": [
          0,
          0.175
         ],
         "showgrid": true
        },
        "yaxis": {
         "anchor": "x",
         "domain": [
          0.7555555555555555,
          1
         ],
         "showgrid": true
        },
        "yaxis10": {
         "anchor": "x10",
         "domain": [
          0,
          0.24444444444444446
         ],
         "showgrid": true
        },
        "yaxis11": {
         "anchor": "x11",
         "domain": [
          0,
          0.24444444444444446
         ],
         "showgrid": true
        },
        "yaxis12": {
         "anchor": "x12",
         "domain": [
          0,
          0.24444444444444446
         ],
         "showgrid": true
        },
        "yaxis2": {
         "anchor": "x2",
         "domain": [
          0.7555555555555555,
          1
         ],
         "showgrid": true
        },
        "yaxis3": {
         "anchor": "x3",
         "domain": [
          0.7555555555555555,
          1
         ],
         "showgrid": true
        },
        "yaxis4": {
         "anchor": "x4",
         "domain": [
          0.7555555555555555,
          1
         ],
         "showgrid": true
        },
        "yaxis5": {
         "anchor": "x5",
         "domain": [
          0.37777777777777777,
          0.6222222222222222
         ],
         "showgrid": true
        },
        "yaxis6": {
         "anchor": "x6",
         "domain": [
          0.37777777777777777,
          0.6222222222222222
         ],
         "showgrid": true
        },
        "yaxis7": {
         "anchor": "x7",
         "domain": [
          0.37777777777777777,
          0.6222222222222222
         ],
         "showgrid": true
        },
        "yaxis8": {
         "anchor": "x8",
         "domain": [
          0.37777777777777777,
          0.6222222222222222
         ],
         "showgrid": true
        },
        "yaxis9": {
         "anchor": "x9",
         "domain": [
          0,
          0.24444444444444446
         ],
         "showgrid": true
        }
       }
      }
     },
     "metadata": {},
     "output_type": "display_data"
    }
   ],
   "source": [
    "topic_model.visualize_barchart(top_n_topics=16)"
   ]
  },
  {
   "cell_type": "code",
   "execution_count": 1392,
   "metadata": {},
   "outputs": [
    {
     "data": {
      "application/vnd.plotly.v1+json": {
       "config": {
        "plotlyServerURL": "https://plot.ly"
       },
       "data": [
        {
         "customdata": [
          [
           0,
           "focus | leg | lot | distract | go",
           18
          ],
          [
           1,
           "send | place | love | happy | long",
           11
          ],
          [
           2,
           "see | myself | awake | love | despite",
           11
          ],
          [
           3,
           "feeling | warmth | warm | compassionate | thought",
           9
          ],
          [
           4,
           "reality | virtual | experiment | sensation | sound",
           9
          ],
          [
           5,
           "eye | close | open | likewise | normally",
           6
          ],
          [
           6,
           "condition | 100 | 30 | 70 | 78",
           5
          ],
          [
           7,
           "easy | fun | nice | imagine | difficult",
           4
          ],
          [
           8,
           "self | easy | critical | aspect | criticism",
           3
          ]
         ],
         "hovertemplate": "<b>Topic %{customdata[0]}</b><br>%{customdata[1]}<br>Size: %{customdata[2]}",
         "legendgroup": "",
         "marker": {
          "color": "#B0BEC5",
          "line": {
           "color": "DarkSlateGrey",
           "width": 2
          },
          "size": [
           18,
           11,
           11,
           9,
           9,
           6,
           5,
           4,
           3
          ],
          "sizemode": "area",
          "sizeref": 0.01125,
          "symbol": "circle"
         },
         "mode": "markers",
         "name": "",
         "orientation": "v",
         "showlegend": false,
         "type": "scatter",
         "x": [
          17.34246253967285,
          25.45168685913086,
          25.1927433013916,
          18.145429611206055,
          17.798141479492188,
          16.906110763549805,
          16.62952995300293,
          24.121301651000977,
          24.567607879638672
         ],
         "xaxis": "x",
         "y": [
          10.902070999145508,
          0.5186640620231628,
          1.0612796545028687,
          11.850408554077148,
          11.445915222167969,
          10.415570259094238,
          10.113643646240234,
          0.49783486127853394,
          0.9329549074172974
         ],
         "yaxis": "y"
        }
       ],
       "layout": {
        "annotations": [
         {
          "showarrow": false,
          "text": "D1",
          "x": 14.135100364685059,
          "y": 7.025564670562744,
          "yshift": 10
         },
         {
          "showarrow": false,
          "text": "D2",
          "x": 21.7022705078125,
          "xshift": 10,
          "y": 13.627969741821289
         }
        ],
        "height": 650,
        "hoverlabel": {
         "bgcolor": "white",
         "font": {
          "family": "Rockwell",
          "size": 16
         }
        },
        "legend": {
         "itemsizing": "constant",
         "tracegroupgap": 0
        },
        "margin": {
         "t": 60
        },
        "shapes": [
         {
          "line": {
           "color": "#CFD8DC",
           "width": 2
          },
          "type": "line",
          "x0": 21.7022705078125,
          "x1": 21.7022705078125,
          "y0": 0.4231596291065216,
          "y1": 13.627969741821289
         },
         {
          "line": {
           "color": "#9E9E9E",
           "width": 2
          },
          "type": "line",
          "x0": 14.135100364685059,
          "x1": 29.269439697265625,
          "y0": 7.025564670562744,
          "y1": 7.025564670562744
         }
        ],
        "sliders": [
         {
          "active": 0,
          "pad": {
           "t": 50
          },
          "steps": [
           {
            "args": [
             {
              "marker.color": [
               [
                "red",
                "#B0BEC5",
                "#B0BEC5",
                "#B0BEC5",
                "#B0BEC5",
                "#B0BEC5",
                "#B0BEC5",
                "#B0BEC5",
                "#B0BEC5"
               ]
              ]
             }
            ],
            "label": "Topic 0",
            "method": "update"
           },
           {
            "args": [
             {
              "marker.color": [
               [
                "#B0BEC5",
                "red",
                "#B0BEC5",
                "#B0BEC5",
                "#B0BEC5",
                "#B0BEC5",
                "#B0BEC5",
                "#B0BEC5",
                "#B0BEC5"
               ]
              ]
             }
            ],
            "label": "Topic 1",
            "method": "update"
           },
           {
            "args": [
             {
              "marker.color": [
               [
                "#B0BEC5",
                "#B0BEC5",
                "red",
                "#B0BEC5",
                "#B0BEC5",
                "#B0BEC5",
                "#B0BEC5",
                "#B0BEC5",
                "#B0BEC5"
               ]
              ]
             }
            ],
            "label": "Topic 2",
            "method": "update"
           },
           {
            "args": [
             {
              "marker.color": [
               [
                "#B0BEC5",
                "#B0BEC5",
                "#B0BEC5",
                "red",
                "#B0BEC5",
                "#B0BEC5",
                "#B0BEC5",
                "#B0BEC5",
                "#B0BEC5"
               ]
              ]
             }
            ],
            "label": "Topic 3",
            "method": "update"
           },
           {
            "args": [
             {
              "marker.color": [
               [
                "#B0BEC5",
                "#B0BEC5",
                "#B0BEC5",
                "#B0BEC5",
                "red",
                "#B0BEC5",
                "#B0BEC5",
                "#B0BEC5",
                "#B0BEC5"
               ]
              ]
             }
            ],
            "label": "Topic 4",
            "method": "update"
           },
           {
            "args": [
             {
              "marker.color": [
               [
                "#B0BEC5",
                "#B0BEC5",
                "#B0BEC5",
                "#B0BEC5",
                "#B0BEC5",
                "red",
                "#B0BEC5",
                "#B0BEC5",
                "#B0BEC5"
               ]
              ]
             }
            ],
            "label": "Topic 5",
            "method": "update"
           },
           {
            "args": [
             {
              "marker.color": [
               [
                "#B0BEC5",
                "#B0BEC5",
                "#B0BEC5",
                "#B0BEC5",
                "#B0BEC5",
                "#B0BEC5",
                "red",
                "#B0BEC5",
                "#B0BEC5"
               ]
              ]
             }
            ],
            "label": "Topic 6",
            "method": "update"
           },
           {
            "args": [
             {
              "marker.color": [
               [
                "#B0BEC5",
                "#B0BEC5",
                "#B0BEC5",
                "#B0BEC5",
                "#B0BEC5",
                "#B0BEC5",
                "#B0BEC5",
                "red",
                "#B0BEC5"
               ]
              ]
             }
            ],
            "label": "Topic 7",
            "method": "update"
           },
           {
            "args": [
             {
              "marker.color": [
               [
                "#B0BEC5",
                "#B0BEC5",
                "#B0BEC5",
                "#B0BEC5",
                "#B0BEC5",
                "#B0BEC5",
                "#B0BEC5",
                "#B0BEC5",
                "red"
               ]
              ]
             }
            ],
            "label": "Topic 8",
            "method": "update"
           }
          ]
         }
        ],
        "template": {
         "data": {
          "bar": [
           {
            "error_x": {
             "color": "rgb(36,36,36)"
            },
            "error_y": {
             "color": "rgb(36,36,36)"
            },
            "marker": {
             "line": {
              "color": "white",
              "width": 0.5
             },
             "pattern": {
              "fillmode": "overlay",
              "size": 10,
              "solidity": 0.2
             }
            },
            "type": "bar"
           }
          ],
          "barpolar": [
           {
            "marker": {
             "line": {
              "color": "white",
              "width": 0.5
             },
             "pattern": {
              "fillmode": "overlay",
              "size": 10,
              "solidity": 0.2
             }
            },
            "type": "barpolar"
           }
          ],
          "carpet": [
           {
            "aaxis": {
             "endlinecolor": "rgb(36,36,36)",
             "gridcolor": "white",
             "linecolor": "white",
             "minorgridcolor": "white",
             "startlinecolor": "rgb(36,36,36)"
            },
            "baxis": {
             "endlinecolor": "rgb(36,36,36)",
             "gridcolor": "white",
             "linecolor": "white",
             "minorgridcolor": "white",
             "startlinecolor": "rgb(36,36,36)"
            },
            "type": "carpet"
           }
          ],
          "choropleth": [
           {
            "colorbar": {
             "outlinewidth": 1,
             "tickcolor": "rgb(36,36,36)",
             "ticks": "outside"
            },
            "type": "choropleth"
           }
          ],
          "contour": [
           {
            "colorbar": {
             "outlinewidth": 1,
             "tickcolor": "rgb(36,36,36)",
             "ticks": "outside"
            },
            "colorscale": [
             [
              0,
              "#440154"
             ],
             [
              0.1111111111111111,
              "#482878"
             ],
             [
              0.2222222222222222,
              "#3e4989"
             ],
             [
              0.3333333333333333,
              "#31688e"
             ],
             [
              0.4444444444444444,
              "#26828e"
             ],
             [
              0.5555555555555556,
              "#1f9e89"
             ],
             [
              0.6666666666666666,
              "#35b779"
             ],
             [
              0.7777777777777778,
              "#6ece58"
             ],
             [
              0.8888888888888888,
              "#b5de2b"
             ],
             [
              1,
              "#fde725"
             ]
            ],
            "type": "contour"
           }
          ],
          "contourcarpet": [
           {
            "colorbar": {
             "outlinewidth": 1,
             "tickcolor": "rgb(36,36,36)",
             "ticks": "outside"
            },
            "type": "contourcarpet"
           }
          ],
          "heatmap": [
           {
            "colorbar": {
             "outlinewidth": 1,
             "tickcolor": "rgb(36,36,36)",
             "ticks": "outside"
            },
            "colorscale": [
             [
              0,
              "#440154"
             ],
             [
              0.1111111111111111,
              "#482878"
             ],
             [
              0.2222222222222222,
              "#3e4989"
             ],
             [
              0.3333333333333333,
              "#31688e"
             ],
             [
              0.4444444444444444,
              "#26828e"
             ],
             [
              0.5555555555555556,
              "#1f9e89"
             ],
             [
              0.6666666666666666,
              "#35b779"
             ],
             [
              0.7777777777777778,
              "#6ece58"
             ],
             [
              0.8888888888888888,
              "#b5de2b"
             ],
             [
              1,
              "#fde725"
             ]
            ],
            "type": "heatmap"
           }
          ],
          "heatmapgl": [
           {
            "colorbar": {
             "outlinewidth": 1,
             "tickcolor": "rgb(36,36,36)",
             "ticks": "outside"
            },
            "colorscale": [
             [
              0,
              "#440154"
             ],
             [
              0.1111111111111111,
              "#482878"
             ],
             [
              0.2222222222222222,
              "#3e4989"
             ],
             [
              0.3333333333333333,
              "#31688e"
             ],
             [
              0.4444444444444444,
              "#26828e"
             ],
             [
              0.5555555555555556,
              "#1f9e89"
             ],
             [
              0.6666666666666666,
              "#35b779"
             ],
             [
              0.7777777777777778,
              "#6ece58"
             ],
             [
              0.8888888888888888,
              "#b5de2b"
             ],
             [
              1,
              "#fde725"
             ]
            ],
            "type": "heatmapgl"
           }
          ],
          "histogram": [
           {
            "marker": {
             "line": {
              "color": "white",
              "width": 0.6
             }
            },
            "type": "histogram"
           }
          ],
          "histogram2d": [
           {
            "colorbar": {
             "outlinewidth": 1,
             "tickcolor": "rgb(36,36,36)",
             "ticks": "outside"
            },
            "colorscale": [
             [
              0,
              "#440154"
             ],
             [
              0.1111111111111111,
              "#482878"
             ],
             [
              0.2222222222222222,
              "#3e4989"
             ],
             [
              0.3333333333333333,
              "#31688e"
             ],
             [
              0.4444444444444444,
              "#26828e"
             ],
             [
              0.5555555555555556,
              "#1f9e89"
             ],
             [
              0.6666666666666666,
              "#35b779"
             ],
             [
              0.7777777777777778,
              "#6ece58"
             ],
             [
              0.8888888888888888,
              "#b5de2b"
             ],
             [
              1,
              "#fde725"
             ]
            ],
            "type": "histogram2d"
           }
          ],
          "histogram2dcontour": [
           {
            "colorbar": {
             "outlinewidth": 1,
             "tickcolor": "rgb(36,36,36)",
             "ticks": "outside"
            },
            "colorscale": [
             [
              0,
              "#440154"
             ],
             [
              0.1111111111111111,
              "#482878"
             ],
             [
              0.2222222222222222,
              "#3e4989"
             ],
             [
              0.3333333333333333,
              "#31688e"
             ],
             [
              0.4444444444444444,
              "#26828e"
             ],
             [
              0.5555555555555556,
              "#1f9e89"
             ],
             [
              0.6666666666666666,
              "#35b779"
             ],
             [
              0.7777777777777778,
              "#6ece58"
             ],
             [
              0.8888888888888888,
              "#b5de2b"
             ],
             [
              1,
              "#fde725"
             ]
            ],
            "type": "histogram2dcontour"
           }
          ],
          "mesh3d": [
           {
            "colorbar": {
             "outlinewidth": 1,
             "tickcolor": "rgb(36,36,36)",
             "ticks": "outside"
            },
            "type": "mesh3d"
           }
          ],
          "parcoords": [
           {
            "line": {
             "colorbar": {
              "outlinewidth": 1,
              "tickcolor": "rgb(36,36,36)",
              "ticks": "outside"
             }
            },
            "type": "parcoords"
           }
          ],
          "pie": [
           {
            "automargin": true,
            "type": "pie"
           }
          ],
          "scatter": [
           {
            "fillpattern": {
             "fillmode": "overlay",
             "size": 10,
             "solidity": 0.2
            },
            "type": "scatter"
           }
          ],
          "scatter3d": [
           {
            "line": {
             "colorbar": {
              "outlinewidth": 1,
              "tickcolor": "rgb(36,36,36)",
              "ticks": "outside"
             }
            },
            "marker": {
             "colorbar": {
              "outlinewidth": 1,
              "tickcolor": "rgb(36,36,36)",
              "ticks": "outside"
             }
            },
            "type": "scatter3d"
           }
          ],
          "scattercarpet": [
           {
            "marker": {
             "colorbar": {
              "outlinewidth": 1,
              "tickcolor": "rgb(36,36,36)",
              "ticks": "outside"
             }
            },
            "type": "scattercarpet"
           }
          ],
          "scattergeo": [
           {
            "marker": {
             "colorbar": {
              "outlinewidth": 1,
              "tickcolor": "rgb(36,36,36)",
              "ticks": "outside"
             }
            },
            "type": "scattergeo"
           }
          ],
          "scattergl": [
           {
            "marker": {
             "colorbar": {
              "outlinewidth": 1,
              "tickcolor": "rgb(36,36,36)",
              "ticks": "outside"
             }
            },
            "type": "scattergl"
           }
          ],
          "scattermapbox": [
           {
            "marker": {
             "colorbar": {
              "outlinewidth": 1,
              "tickcolor": "rgb(36,36,36)",
              "ticks": "outside"
             }
            },
            "type": "scattermapbox"
           }
          ],
          "scatterpolar": [
           {
            "marker": {
             "colorbar": {
              "outlinewidth": 1,
              "tickcolor": "rgb(36,36,36)",
              "ticks": "outside"
             }
            },
            "type": "scatterpolar"
           }
          ],
          "scatterpolargl": [
           {
            "marker": {
             "colorbar": {
              "outlinewidth": 1,
              "tickcolor": "rgb(36,36,36)",
              "ticks": "outside"
             }
            },
            "type": "scatterpolargl"
           }
          ],
          "scatterternary": [
           {
            "marker": {
             "colorbar": {
              "outlinewidth": 1,
              "tickcolor": "rgb(36,36,36)",
              "ticks": "outside"
             }
            },
            "type": "scatterternary"
           }
          ],
          "surface": [
           {
            "colorbar": {
             "outlinewidth": 1,
             "tickcolor": "rgb(36,36,36)",
             "ticks": "outside"
            },
            "colorscale": [
             [
              0,
              "#440154"
             ],
             [
              0.1111111111111111,
              "#482878"
             ],
             [
              0.2222222222222222,
              "#3e4989"
             ],
             [
              0.3333333333333333,
              "#31688e"
             ],
             [
              0.4444444444444444,
              "#26828e"
             ],
             [
              0.5555555555555556,
              "#1f9e89"
             ],
             [
              0.6666666666666666,
              "#35b779"
             ],
             [
              0.7777777777777778,
              "#6ece58"
             ],
             [
              0.8888888888888888,
              "#b5de2b"
             ],
             [
              1,
              "#fde725"
             ]
            ],
            "type": "surface"
           }
          ],
          "table": [
           {
            "cells": {
             "fill": {
              "color": "rgb(237,237,237)"
             },
             "line": {
              "color": "white"
             }
            },
            "header": {
             "fill": {
              "color": "rgb(217,217,217)"
             },
             "line": {
              "color": "white"
             }
            },
            "type": "table"
           }
          ]
         },
         "layout": {
          "annotationdefaults": {
           "arrowhead": 0,
           "arrowwidth": 1
          },
          "autotypenumbers": "strict",
          "coloraxis": {
           "colorbar": {
            "outlinewidth": 1,
            "tickcolor": "rgb(36,36,36)",
            "ticks": "outside"
           }
          },
          "colorscale": {
           "diverging": [
            [
             0,
             "rgb(103,0,31)"
            ],
            [
             0.1,
             "rgb(178,24,43)"
            ],
            [
             0.2,
             "rgb(214,96,77)"
            ],
            [
             0.3,
             "rgb(244,165,130)"
            ],
            [
             0.4,
             "rgb(253,219,199)"
            ],
            [
             0.5,
             "rgb(247,247,247)"
            ],
            [
             0.6,
             "rgb(209,229,240)"
            ],
            [
             0.7,
             "rgb(146,197,222)"
            ],
            [
             0.8,
             "rgb(67,147,195)"
            ],
            [
             0.9,
             "rgb(33,102,172)"
            ],
            [
             1,
             "rgb(5,48,97)"
            ]
           ],
           "sequential": [
            [
             0,
             "#440154"
            ],
            [
             0.1111111111111111,
             "#482878"
            ],
            [
             0.2222222222222222,
             "#3e4989"
            ],
            [
             0.3333333333333333,
             "#31688e"
            ],
            [
             0.4444444444444444,
             "#26828e"
            ],
            [
             0.5555555555555556,
             "#1f9e89"
            ],
            [
             0.6666666666666666,
             "#35b779"
            ],
            [
             0.7777777777777778,
             "#6ece58"
            ],
            [
             0.8888888888888888,
             "#b5de2b"
            ],
            [
             1,
             "#fde725"
            ]
           ],
           "sequentialminus": [
            [
             0,
             "#440154"
            ],
            [
             0.1111111111111111,
             "#482878"
            ],
            [
             0.2222222222222222,
             "#3e4989"
            ],
            [
             0.3333333333333333,
             "#31688e"
            ],
            [
             0.4444444444444444,
             "#26828e"
            ],
            [
             0.5555555555555556,
             "#1f9e89"
            ],
            [
             0.6666666666666666,
             "#35b779"
            ],
            [
             0.7777777777777778,
             "#6ece58"
            ],
            [
             0.8888888888888888,
             "#b5de2b"
            ],
            [
             1,
             "#fde725"
            ]
           ]
          },
          "colorway": [
           "#1F77B4",
           "#FF7F0E",
           "#2CA02C",
           "#D62728",
           "#9467BD",
           "#8C564B",
           "#E377C2",
           "#7F7F7F",
           "#BCBD22",
           "#17BECF"
          ],
          "font": {
           "color": "rgb(36,36,36)"
          },
          "geo": {
           "bgcolor": "white",
           "lakecolor": "white",
           "landcolor": "white",
           "showlakes": true,
           "showland": true,
           "subunitcolor": "white"
          },
          "hoverlabel": {
           "align": "left"
          },
          "hovermode": "closest",
          "mapbox": {
           "style": "light"
          },
          "paper_bgcolor": "white",
          "plot_bgcolor": "white",
          "polar": {
           "angularaxis": {
            "gridcolor": "rgb(232,232,232)",
            "linecolor": "rgb(36,36,36)",
            "showgrid": false,
            "showline": true,
            "ticks": "outside"
           },
           "bgcolor": "white",
           "radialaxis": {
            "gridcolor": "rgb(232,232,232)",
            "linecolor": "rgb(36,36,36)",
            "showgrid": false,
            "showline": true,
            "ticks": "outside"
           }
          },
          "scene": {
           "xaxis": {
            "backgroundcolor": "white",
            "gridcolor": "rgb(232,232,232)",
            "gridwidth": 2,
            "linecolor": "rgb(36,36,36)",
            "showbackground": true,
            "showgrid": false,
            "showline": true,
            "ticks": "outside",
            "zeroline": false,
            "zerolinecolor": "rgb(36,36,36)"
           },
           "yaxis": {
            "backgroundcolor": "white",
            "gridcolor": "rgb(232,232,232)",
            "gridwidth": 2,
            "linecolor": "rgb(36,36,36)",
            "showbackground": true,
            "showgrid": false,
            "showline": true,
            "ticks": "outside",
            "zeroline": false,
            "zerolinecolor": "rgb(36,36,36)"
           },
           "zaxis": {
            "backgroundcolor": "white",
            "gridcolor": "rgb(232,232,232)",
            "gridwidth": 2,
            "linecolor": "rgb(36,36,36)",
            "showbackground": true,
            "showgrid": false,
            "showline": true,
            "ticks": "outside",
            "zeroline": false,
            "zerolinecolor": "rgb(36,36,36)"
           }
          },
          "shapedefaults": {
           "fillcolor": "black",
           "line": {
            "width": 0
           },
           "opacity": 0.3
          },
          "ternary": {
           "aaxis": {
            "gridcolor": "rgb(232,232,232)",
            "linecolor": "rgb(36,36,36)",
            "showgrid": false,
            "showline": true,
            "ticks": "outside"
           },
           "baxis": {
            "gridcolor": "rgb(232,232,232)",
            "linecolor": "rgb(36,36,36)",
            "showgrid": false,
            "showline": true,
            "ticks": "outside"
           },
           "bgcolor": "white",
           "caxis": {
            "gridcolor": "rgb(232,232,232)",
            "linecolor": "rgb(36,36,36)",
            "showgrid": false,
            "showline": true,
            "ticks": "outside"
           }
          },
          "title": {
           "x": 0.05
          },
          "xaxis": {
           "automargin": true,
           "gridcolor": "rgb(232,232,232)",
           "linecolor": "rgb(36,36,36)",
           "showgrid": false,
           "showline": true,
           "ticks": "outside",
           "title": {
            "standoff": 15
           },
           "zeroline": false,
           "zerolinecolor": "rgb(36,36,36)"
          },
          "yaxis": {
           "automargin": true,
           "gridcolor": "rgb(232,232,232)",
           "linecolor": "rgb(36,36,36)",
           "showgrid": false,
           "showline": true,
           "ticks": "outside",
           "title": {
            "standoff": 15
           },
           "zeroline": false,
           "zerolinecolor": "rgb(36,36,36)"
          }
         }
        },
        "title": {
         "font": {
          "color": "Black",
          "size": 22
         },
         "text": "<b>Intertopic Distance Map</b>",
         "x": 0.5,
         "xanchor": "center",
         "y": 0.95,
         "yanchor": "top"
        },
        "width": 650,
        "xaxis": {
         "anchor": "y",
         "domain": [
          0,
          1
         ],
         "range": [
          14.135100364685059,
          29.269439697265625
         ],
         "title": {
          "text": ""
         },
         "visible": false
        },
        "yaxis": {
         "anchor": "x",
         "domain": [
          0,
          1
         ],
         "range": [
          0.4231596291065216,
          13.627969741821289
         ],
         "title": {
          "text": ""
         },
         "visible": false
        }
       }
      }
     },
     "metadata": {},
     "output_type": "display_data"
    }
   ],
   "source": [
    "topic_model.visualize_topics()"
   ]
  },
  {
   "cell_type": "code",
   "execution_count": 1406,
   "metadata": {},
   "outputs": [],
   "source": [
    "#topic_model.visualize_heatmap(n_clusters = num_topics-1)"
   ]
  },
  {
   "cell_type": "code",
   "execution_count": 1410,
   "metadata": {},
   "outputs": [
    {
     "data": {
      "text/plain": [
       "array([301, 302, 303, 304, 305, 306, 307, 313])"
      ]
     },
     "execution_count": 1410,
     "metadata": {},
     "output_type": "execute_result"
    }
   ],
   "source": [
    "df.Id.unique()"
   ]
  },
  {
   "cell_type": "code",
   "execution_count": 1411,
   "metadata": {},
   "outputs": [
    {
     "name": "stderr",
     "output_type": "stream",
     "text": [
      "8it [00:00, 60.96it/s]\n"
     ]
    },
    {
     "data": {
      "application/vnd.plotly.v1+json": {
       "config": {
        "plotlyServerURL": "https://plot.ly"
       },
       "data": [
        {
         "hoverinfo": "text",
         "hovertext": [
          "<b>Topic 0</b><br>Words: color, trouser, wear, shirt, different",
          "<b>Topic 0</b><br>Words: lot, head, focus, distract, guess",
          "<b>Topic 0</b><br>Words: focus, leg, try, distract, specific",
          "<b>Topic 0</b><br>Words: leg, focus, start, need, focused",
          "<b>Topic 0</b><br>Words: help, raise, hand, short, video"
         ],
         "marker": {
          "color": "#E69F00"
         },
         "name": "0_focus_leg_lot_distract",
         "orientation": "h",
         "type": "bar",
         "visible": true,
         "x": [
          1,
          6,
          5,
          4,
          2
         ],
         "y": [
          302,
          303,
          304,
          306,
          313
         ]
        },
        {
         "hoverinfo": "text",
         "hovertext": [
          "<b>Topic 1</b><br>Words: happy, long, lady, place, room",
          "<b>Topic 1</b><br>Words: sit, person, send, place, love",
          "<b>Topic 1</b><br>Words: leg, send, place, love, happy",
          "<b>Topic 1</b><br>Words: place, love, difficult, look, self",
          "<b>Topic 1</b><br>Words: send, love, place, true, image"
         ],
         "marker": {
          "color": "#56B4E9"
         },
         "name": "1_send_place_love_happy",
         "orientation": "h",
         "type": "bar",
         "visible": "legendonly",
         "x": [
          6,
          1,
          1,
          1,
          2
         ],
         "y": [
          302,
          303,
          304,
          307,
          313
         ]
        },
        {
         "hoverinfo": "text",
         "hovertext": [
          "<b>Topic 2</b><br>Words: say, see, myself, awake, love",
          "<b>Topic 2</b><br>Words: see, cloud, appear, fast, move",
          "<b>Topic 2</b><br>Words: pattern, recognition, association, obviously, identify",
          "<b>Topic 2</b><br>Words: awake, see, myself, despite, send",
          "<b>Topic 2</b><br>Words: love, see, self, questionnaire, earth",
          "<b>Topic 2</b><br>Words: notice, see, myself, awake, love"
         ],
         "marker": {
          "color": "#009E73"
         },
         "name": "2_see_myself_awake_love",
         "orientation": "h",
         "type": "bar",
         "visible": "legendonly",
         "x": [
          1,
          4,
          1,
          2,
          2,
          1
         ],
         "y": [
          301,
          302,
          303,
          306,
          307,
          313
         ]
        },
        {
         "hoverinfo": "text",
         "hovertext": [
          "<b>Topic 3</b><br>Words: difference, feeling, relate, love, body",
          "<b>Topic 3</b><br>Words: feeling, elicit, thought, gratitude, consider",
          "<b>Topic 3</b><br>Words: compassionate, connect, overall, try, warmth",
          "<b>Topic 3</b><br>Words: warmth, relax, voice, manage, feeling",
          "<b>Topic 3</b><br>Words: near, body, warmth, touch, yourself",
          "<b>Topic 3</b><br>Words: explain, basically, emotion, aura, emanate"
         ],
         "marker": {
          "color": "#F0E442"
         },
         "name": "3_feeling_warmth_warm_compassionate",
         "orientation": "h",
         "type": "bar",
         "visible": "legendonly",
         "x": [
          2,
          2,
          1,
          2,
          1,
          1
         ],
         "y": [
          301,
          303,
          304,
          305,
          306,
          313
         ]
        },
        {
         "hoverinfo": "text",
         "hovertext": [
          "<b>Topic 4</b><br>Words: relate, room, people, reality, virtual",
          "<b>Topic 4</b><br>Words: use, idea, experiment, virtual, reality",
          "<b>Topic 4</b><br>Words: sound, water, ear, reality, virtual",
          "<b>Topic 4</b><br>Words: condition, real, state, flow, disconcert",
          "<b>Topic 4</b><br>Words: sensation, strange, able, instruction, try",
          "<b>Topic 4</b><br>Words: anxious, tense, touch, enjoy, repeat",
          "<b>Topic 4</b><br>Words: experiment, answer, sit, weird, virtual"
         ],
         "marker": {
          "color": "#D55E00"
         },
         "name": "4_reality_virtual_experiment_sensation",
         "orientation": "h",
         "type": "bar",
         "visible": "legendonly",
         "x": [
          1,
          1,
          2,
          1,
          1,
          1,
          2
         ],
         "y": [
          301,
          302,
          303,
          304,
          306,
          307,
          313
         ]
        },
        {
         "hoverinfo": "text",
         "hovertext": [
          "<b>Topic 5</b><br>Words: close, eye, open, likewise, normally",
          "<b>Topic 5</b><br>Words: eye, open, close, 30, easy"
         ],
         "marker": {
          "color": "#0072B2"
         },
         "name": "5_eye_close_open_likewise",
         "orientation": "h",
         "type": "bar",
         "visible": "legendonly",
         "x": [
          4,
          2
         ],
         "y": [
          302,
          304
         ]
        },
        {
         "hoverinfo": "text",
         "hovertext": [
          "<b>Topic 6</b><br>Words: condition, 30, 70, teacher, 78",
          "<b>Topic 6</b><br>Words: 100, percentage, 75, 80, term"
         ],
         "marker": {
          "color": "#CC79A7"
         },
         "name": "6_condition_100_30_70",
         "orientation": "h",
         "type": "bar",
         "visible": "legendonly",
         "x": [
          2,
          3
         ],
         "y": [
          304,
          313
         ]
        },
        {
         "hoverinfo": "text",
         "hovertext": [
          "<b>Topic 7</b><br>Words: fun, nice, easy, imagine, difficult",
          "<b>Topic 7</b><br>Words: easy, imagine, fun, nice, difficult",
          "<b>Topic 7</b><br>Words: difficult, easy, fun, nice, imagine"
         ],
         "marker": {
          "color": "#E69F00"
         },
         "name": "7_easy_fun_nice_imagine",
         "orientation": "h",
         "type": "bar",
         "visible": "legendonly",
         "x": [
          2,
          1,
          1
         ],
         "y": [
          302,
          307,
          313
         ]
        },
        {
         "hoverinfo": "text",
         "hovertext": [
          "<b>Topic 8</b><br>Words: self, inner, physical, easy, myself",
          "<b>Topic 8</b><br>Words: self, somebody, suck, unlucky, unfortunate"
         ],
         "marker": {
          "color": "#56B4E9"
         },
         "name": "8_self_easy_critical_aspect",
         "orientation": "h",
         "type": "bar",
         "visible": "legendonly",
         "x": [
          1,
          2
         ],
         "y": [
          301,
          303
         ]
        }
       ],
       "layout": {
        "height": 900,
        "hoverlabel": {
         "bgcolor": "white",
         "font": {
          "family": "Rockwell",
          "size": 16
         }
        },
        "legend": {
         "title": {
          "text": "<b>Global Topic Representation"
         }
        },
        "template": {
         "data": {
          "bar": [
           {
            "error_x": {
             "color": "rgb(36,36,36)"
            },
            "error_y": {
             "color": "rgb(36,36,36)"
            },
            "marker": {
             "line": {
              "color": "white",
              "width": 0.5
             },
             "pattern": {
              "fillmode": "overlay",
              "size": 10,
              "solidity": 0.2
             }
            },
            "type": "bar"
           }
          ],
          "barpolar": [
           {
            "marker": {
             "line": {
              "color": "white",
              "width": 0.5
             },
             "pattern": {
              "fillmode": "overlay",
              "size": 10,
              "solidity": 0.2
             }
            },
            "type": "barpolar"
           }
          ],
          "carpet": [
           {
            "aaxis": {
             "endlinecolor": "rgb(36,36,36)",
             "gridcolor": "white",
             "linecolor": "white",
             "minorgridcolor": "white",
             "startlinecolor": "rgb(36,36,36)"
            },
            "baxis": {
             "endlinecolor": "rgb(36,36,36)",
             "gridcolor": "white",
             "linecolor": "white",
             "minorgridcolor": "white",
             "startlinecolor": "rgb(36,36,36)"
            },
            "type": "carpet"
           }
          ],
          "choropleth": [
           {
            "colorbar": {
             "outlinewidth": 1,
             "tickcolor": "rgb(36,36,36)",
             "ticks": "outside"
            },
            "type": "choropleth"
           }
          ],
          "contour": [
           {
            "colorbar": {
             "outlinewidth": 1,
             "tickcolor": "rgb(36,36,36)",
             "ticks": "outside"
            },
            "colorscale": [
             [
              0,
              "#440154"
             ],
             [
              0.1111111111111111,
              "#482878"
             ],
             [
              0.2222222222222222,
              "#3e4989"
             ],
             [
              0.3333333333333333,
              "#31688e"
             ],
             [
              0.4444444444444444,
              "#26828e"
             ],
             [
              0.5555555555555556,
              "#1f9e89"
             ],
             [
              0.6666666666666666,
              "#35b779"
             ],
             [
              0.7777777777777778,
              "#6ece58"
             ],
             [
              0.8888888888888888,
              "#b5de2b"
             ],
             [
              1,
              "#fde725"
             ]
            ],
            "type": "contour"
           }
          ],
          "contourcarpet": [
           {
            "colorbar": {
             "outlinewidth": 1,
             "tickcolor": "rgb(36,36,36)",
             "ticks": "outside"
            },
            "type": "contourcarpet"
           }
          ],
          "heatmap": [
           {
            "colorbar": {
             "outlinewidth": 1,
             "tickcolor": "rgb(36,36,36)",
             "ticks": "outside"
            },
            "colorscale": [
             [
              0,
              "#440154"
             ],
             [
              0.1111111111111111,
              "#482878"
             ],
             [
              0.2222222222222222,
              "#3e4989"
             ],
             [
              0.3333333333333333,
              "#31688e"
             ],
             [
              0.4444444444444444,
              "#26828e"
             ],
             [
              0.5555555555555556,
              "#1f9e89"
             ],
             [
              0.6666666666666666,
              "#35b779"
             ],
             [
              0.7777777777777778,
              "#6ece58"
             ],
             [
              0.8888888888888888,
              "#b5de2b"
             ],
             [
              1,
              "#fde725"
             ]
            ],
            "type": "heatmap"
           }
          ],
          "heatmapgl": [
           {
            "colorbar": {
             "outlinewidth": 1,
             "tickcolor": "rgb(36,36,36)",
             "ticks": "outside"
            },
            "colorscale": [
             [
              0,
              "#440154"
             ],
             [
              0.1111111111111111,
              "#482878"
             ],
             [
              0.2222222222222222,
              "#3e4989"
             ],
             [
              0.3333333333333333,
              "#31688e"
             ],
             [
              0.4444444444444444,
              "#26828e"
             ],
             [
              0.5555555555555556,
              "#1f9e89"
             ],
             [
              0.6666666666666666,
              "#35b779"
             ],
             [
              0.7777777777777778,
              "#6ece58"
             ],
             [
              0.8888888888888888,
              "#b5de2b"
             ],
             [
              1,
              "#fde725"
             ]
            ],
            "type": "heatmapgl"
           }
          ],
          "histogram": [
           {
            "marker": {
             "line": {
              "color": "white",
              "width": 0.6
             }
            },
            "type": "histogram"
           }
          ],
          "histogram2d": [
           {
            "colorbar": {
             "outlinewidth": 1,
             "tickcolor": "rgb(36,36,36)",
             "ticks": "outside"
            },
            "colorscale": [
             [
              0,
              "#440154"
             ],
             [
              0.1111111111111111,
              "#482878"
             ],
             [
              0.2222222222222222,
              "#3e4989"
             ],
             [
              0.3333333333333333,
              "#31688e"
             ],
             [
              0.4444444444444444,
              "#26828e"
             ],
             [
              0.5555555555555556,
              "#1f9e89"
             ],
             [
              0.6666666666666666,
              "#35b779"
             ],
             [
              0.7777777777777778,
              "#6ece58"
             ],
             [
              0.8888888888888888,
              "#b5de2b"
             ],
             [
              1,
              "#fde725"
             ]
            ],
            "type": "histogram2d"
           }
          ],
          "histogram2dcontour": [
           {
            "colorbar": {
             "outlinewidth": 1,
             "tickcolor": "rgb(36,36,36)",
             "ticks": "outside"
            },
            "colorscale": [
             [
              0,
              "#440154"
             ],
             [
              0.1111111111111111,
              "#482878"
             ],
             [
              0.2222222222222222,
              "#3e4989"
             ],
             [
              0.3333333333333333,
              "#31688e"
             ],
             [
              0.4444444444444444,
              "#26828e"
             ],
             [
              0.5555555555555556,
              "#1f9e89"
             ],
             [
              0.6666666666666666,
              "#35b779"
             ],
             [
              0.7777777777777778,
              "#6ece58"
             ],
             [
              0.8888888888888888,
              "#b5de2b"
             ],
             [
              1,
              "#fde725"
             ]
            ],
            "type": "histogram2dcontour"
           }
          ],
          "mesh3d": [
           {
            "colorbar": {
             "outlinewidth": 1,
             "tickcolor": "rgb(36,36,36)",
             "ticks": "outside"
            },
            "type": "mesh3d"
           }
          ],
          "parcoords": [
           {
            "line": {
             "colorbar": {
              "outlinewidth": 1,
              "tickcolor": "rgb(36,36,36)",
              "ticks": "outside"
             }
            },
            "type": "parcoords"
           }
          ],
          "pie": [
           {
            "automargin": true,
            "type": "pie"
           }
          ],
          "scatter": [
           {
            "fillpattern": {
             "fillmode": "overlay",
             "size": 10,
             "solidity": 0.2
            },
            "type": "scatter"
           }
          ],
          "scatter3d": [
           {
            "line": {
             "colorbar": {
              "outlinewidth": 1,
              "tickcolor": "rgb(36,36,36)",
              "ticks": "outside"
             }
            },
            "marker": {
             "colorbar": {
              "outlinewidth": 1,
              "tickcolor": "rgb(36,36,36)",
              "ticks": "outside"
             }
            },
            "type": "scatter3d"
           }
          ],
          "scattercarpet": [
           {
            "marker": {
             "colorbar": {
              "outlinewidth": 1,
              "tickcolor": "rgb(36,36,36)",
              "ticks": "outside"
             }
            },
            "type": "scattercarpet"
           }
          ],
          "scattergeo": [
           {
            "marker": {
             "colorbar": {
              "outlinewidth": 1,
              "tickcolor": "rgb(36,36,36)",
              "ticks": "outside"
             }
            },
            "type": "scattergeo"
           }
          ],
          "scattergl": [
           {
            "marker": {
             "colorbar": {
              "outlinewidth": 1,
              "tickcolor": "rgb(36,36,36)",
              "ticks": "outside"
             }
            },
            "type": "scattergl"
           }
          ],
          "scattermapbox": [
           {
            "marker": {
             "colorbar": {
              "outlinewidth": 1,
              "tickcolor": "rgb(36,36,36)",
              "ticks": "outside"
             }
            },
            "type": "scattermapbox"
           }
          ],
          "scatterpolar": [
           {
            "marker": {
             "colorbar": {
              "outlinewidth": 1,
              "tickcolor": "rgb(36,36,36)",
              "ticks": "outside"
             }
            },
            "type": "scatterpolar"
           }
          ],
          "scatterpolargl": [
           {
            "marker": {
             "colorbar": {
              "outlinewidth": 1,
              "tickcolor": "rgb(36,36,36)",
              "ticks": "outside"
             }
            },
            "type": "scatterpolargl"
           }
          ],
          "scatterternary": [
           {
            "marker": {
             "colorbar": {
              "outlinewidth": 1,
              "tickcolor": "rgb(36,36,36)",
              "ticks": "outside"
             }
            },
            "type": "scatterternary"
           }
          ],
          "surface": [
           {
            "colorbar": {
             "outlinewidth": 1,
             "tickcolor": "rgb(36,36,36)",
             "ticks": "outside"
            },
            "colorscale": [
             [
              0,
              "#440154"
             ],
             [
              0.1111111111111111,
              "#482878"
             ],
             [
              0.2222222222222222,
              "#3e4989"
             ],
             [
              0.3333333333333333,
              "#31688e"
             ],
             [
              0.4444444444444444,
              "#26828e"
             ],
             [
              0.5555555555555556,
              "#1f9e89"
             ],
             [
              0.6666666666666666,
              "#35b779"
             ],
             [
              0.7777777777777778,
              "#6ece58"
             ],
             [
              0.8888888888888888,
              "#b5de2b"
             ],
             [
              1,
              "#fde725"
             ]
            ],
            "type": "surface"
           }
          ],
          "table": [
           {
            "cells": {
             "fill": {
              "color": "rgb(237,237,237)"
             },
             "line": {
              "color": "white"
             }
            },
            "header": {
             "fill": {
              "color": "rgb(217,217,217)"
             },
             "line": {
              "color": "white"
             }
            },
            "type": "table"
           }
          ]
         },
         "layout": {
          "annotationdefaults": {
           "arrowhead": 0,
           "arrowwidth": 1
          },
          "autotypenumbers": "strict",
          "coloraxis": {
           "colorbar": {
            "outlinewidth": 1,
            "tickcolor": "rgb(36,36,36)",
            "ticks": "outside"
           }
          },
          "colorscale": {
           "diverging": [
            [
             0,
             "rgb(103,0,31)"
            ],
            [
             0.1,
             "rgb(178,24,43)"
            ],
            [
             0.2,
             "rgb(214,96,77)"
            ],
            [
             0.3,
             "rgb(244,165,130)"
            ],
            [
             0.4,
             "rgb(253,219,199)"
            ],
            [
             0.5,
             "rgb(247,247,247)"
            ],
            [
             0.6,
             "rgb(209,229,240)"
            ],
            [
             0.7,
             "rgb(146,197,222)"
            ],
            [
             0.8,
             "rgb(67,147,195)"
            ],
            [
             0.9,
             "rgb(33,102,172)"
            ],
            [
             1,
             "rgb(5,48,97)"
            ]
           ],
           "sequential": [
            [
             0,
             "#440154"
            ],
            [
             0.1111111111111111,
             "#482878"
            ],
            [
             0.2222222222222222,
             "#3e4989"
            ],
            [
             0.3333333333333333,
             "#31688e"
            ],
            [
             0.4444444444444444,
             "#26828e"
            ],
            [
             0.5555555555555556,
             "#1f9e89"
            ],
            [
             0.6666666666666666,
             "#35b779"
            ],
            [
             0.7777777777777778,
             "#6ece58"
            ],
            [
             0.8888888888888888,
             "#b5de2b"
            ],
            [
             1,
             "#fde725"
            ]
           ],
           "sequentialminus": [
            [
             0,
             "#440154"
            ],
            [
             0.1111111111111111,
             "#482878"
            ],
            [
             0.2222222222222222,
             "#3e4989"
            ],
            [
             0.3333333333333333,
             "#31688e"
            ],
            [
             0.4444444444444444,
             "#26828e"
            ],
            [
             0.5555555555555556,
             "#1f9e89"
            ],
            [
             0.6666666666666666,
             "#35b779"
            ],
            [
             0.7777777777777778,
             "#6ece58"
            ],
            [
             0.8888888888888888,
             "#b5de2b"
            ],
            [
             1,
             "#fde725"
            ]
           ]
          },
          "colorway": [
           "#1F77B4",
           "#FF7F0E",
           "#2CA02C",
           "#D62728",
           "#9467BD",
           "#8C564B",
           "#E377C2",
           "#7F7F7F",
           "#BCBD22",
           "#17BECF"
          ],
          "font": {
           "color": "rgb(36,36,36)"
          },
          "geo": {
           "bgcolor": "white",
           "lakecolor": "white",
           "landcolor": "white",
           "showlakes": true,
           "showland": true,
           "subunitcolor": "white"
          },
          "hoverlabel": {
           "align": "left"
          },
          "hovermode": "closest",
          "mapbox": {
           "style": "light"
          },
          "paper_bgcolor": "white",
          "plot_bgcolor": "white",
          "polar": {
           "angularaxis": {
            "gridcolor": "rgb(232,232,232)",
            "linecolor": "rgb(36,36,36)",
            "showgrid": false,
            "showline": true,
            "ticks": "outside"
           },
           "bgcolor": "white",
           "radialaxis": {
            "gridcolor": "rgb(232,232,232)",
            "linecolor": "rgb(36,36,36)",
            "showgrid": false,
            "showline": true,
            "ticks": "outside"
           }
          },
          "scene": {
           "xaxis": {
            "backgroundcolor": "white",
            "gridcolor": "rgb(232,232,232)",
            "gridwidth": 2,
            "linecolor": "rgb(36,36,36)",
            "showbackground": true,
            "showgrid": false,
            "showline": true,
            "ticks": "outside",
            "zeroline": false,
            "zerolinecolor": "rgb(36,36,36)"
           },
           "yaxis": {
            "backgroundcolor": "white",
            "gridcolor": "rgb(232,232,232)",
            "gridwidth": 2,
            "linecolor": "rgb(36,36,36)",
            "showbackground": true,
            "showgrid": false,
            "showline": true,
            "ticks": "outside",
            "zeroline": false,
            "zerolinecolor": "rgb(36,36,36)"
           },
           "zaxis": {
            "backgroundcolor": "white",
            "gridcolor": "rgb(232,232,232)",
            "gridwidth": 2,
            "linecolor": "rgb(36,36,36)",
            "showbackground": true,
            "showgrid": false,
            "showline": true,
            "ticks": "outside",
            "zeroline": false,
            "zerolinecolor": "rgb(36,36,36)"
           }
          },
          "shapedefaults": {
           "fillcolor": "black",
           "line": {
            "width": 0
           },
           "opacity": 0.3
          },
          "ternary": {
           "aaxis": {
            "gridcolor": "rgb(232,232,232)",
            "linecolor": "rgb(36,36,36)",
            "showgrid": false,
            "showline": true,
            "ticks": "outside"
           },
           "baxis": {
            "gridcolor": "rgb(232,232,232)",
            "linecolor": "rgb(36,36,36)",
            "showgrid": false,
            "showline": true,
            "ticks": "outside"
           },
           "bgcolor": "white",
           "caxis": {
            "gridcolor": "rgb(232,232,232)",
            "linecolor": "rgb(36,36,36)",
            "showgrid": false,
            "showline": true,
            "ticks": "outside"
           }
          },
          "title": {
           "x": 0.05
          },
          "xaxis": {
           "automargin": true,
           "gridcolor": "rgb(232,232,232)",
           "linecolor": "rgb(36,36,36)",
           "showgrid": false,
           "showline": true,
           "ticks": "outside",
           "title": {
            "standoff": 15
           },
           "zeroline": false,
           "zerolinecolor": "rgb(36,36,36)"
          },
          "yaxis": {
           "automargin": true,
           "gridcolor": "rgb(232,232,232)",
           "linecolor": "rgb(36,36,36)",
           "showgrid": false,
           "showline": true,
           "ticks": "outside",
           "title": {
            "standoff": 15
           },
           "zeroline": false,
           "zerolinecolor": "rgb(36,36,36)"
          }
         }
        },
        "title": {
         "font": {
          "color": "Black",
          "size": 22
         },
         "text": "<b>Topics per Class</b>",
         "x": 0.4,
         "xanchor": "center",
         "y": 0.95,
         "yanchor": "top"
        },
        "width": 1250,
        "xaxis": {
         "showgrid": true,
         "title": {
          "text": "Frequency"
         }
        },
        "yaxis": {
         "showgrid": true,
         "title": {
          "text": "Class"
         }
        }
       }
      }
     },
     "metadata": {},
     "output_type": "display_data"
    }
   ],
   "source": [
    "topics_per_class = topic_model.topics_per_class(docs, classes=df.Id)\n",
    "topic_model.visualize_topics_per_class(topics_per_class)"
   ]
  },
  {
   "cell_type": "code",
   "execution_count": 1408,
   "metadata": {},
   "outputs": [
    {
     "data": {
      "text/html": [
       "<div>\n",
       "<style scoped>\n",
       "    .dataframe tbody tr th:only-of-type {\n",
       "        vertical-align: middle;\n",
       "    }\n",
       "\n",
       "    .dataframe tbody tr th {\n",
       "        vertical-align: top;\n",
       "    }\n",
       "\n",
       "    .dataframe thead th {\n",
       "        text-align: right;\n",
       "    }\n",
       "</style>\n",
       "<table border=\"1\" class=\"dataframe\">\n",
       "  <thead>\n",
       "    <tr style=\"text-align: right;\">\n",
       "      <th></th>\n",
       "      <th>Topic</th>\n",
       "      <th>Words</th>\n",
       "      <th>Frequency</th>\n",
       "      <th>Class</th>\n",
       "      <th>Name</th>\n",
       "    </tr>\n",
       "  </thead>\n",
       "  <tbody>\n",
       "    <tr>\n",
       "      <th>0</th>\n",
       "      <td>2</td>\n",
       "      <td>say, see, myself, awake, love</td>\n",
       "      <td>1</td>\n",
       "      <td>301</td>\n",
       "      <td>2_see_myself_awake_love</td>\n",
       "    </tr>\n",
       "    <tr>\n",
       "      <th>1</th>\n",
       "      <td>3</td>\n",
       "      <td>difference, feeling, relate, love, body</td>\n",
       "      <td>2</td>\n",
       "      <td>301</td>\n",
       "      <td>3_feeling_warmth_warm_compassionate</td>\n",
       "    </tr>\n",
       "    <tr>\n",
       "      <th>2</th>\n",
       "      <td>4</td>\n",
       "      <td>relate, room, people, reality, virtual</td>\n",
       "      <td>1</td>\n",
       "      <td>301</td>\n",
       "      <td>4_reality_virtual_experiment_sensation</td>\n",
       "    </tr>\n",
       "    <tr>\n",
       "      <th>3</th>\n",
       "      <td>8</td>\n",
       "      <td>self, inner, physical, easy, myself</td>\n",
       "      <td>1</td>\n",
       "      <td>301</td>\n",
       "      <td>8_self_easy_critical_aspect</td>\n",
       "    </tr>\n",
       "    <tr>\n",
       "      <th>4</th>\n",
       "      <td>-1</td>\n",
       "      <td>thank, help, hand, shoulder, place</td>\n",
       "      <td>4</td>\n",
       "      <td>302</td>\n",
       "      <td>-1_good_myself_thank_practice</td>\n",
       "    </tr>\n",
       "    <tr>\n",
       "      <th>5</th>\n",
       "      <td>0</td>\n",
       "      <td>color, trouser, wear, shirt, different</td>\n",
       "      <td>1</td>\n",
       "      <td>302</td>\n",
       "      <td>0_focus_leg_lot_distract</td>\n",
       "    </tr>\n",
       "    <tr>\n",
       "      <th>6</th>\n",
       "      <td>1</td>\n",
       "      <td>happy, long, lady, place, room</td>\n",
       "      <td>6</td>\n",
       "      <td>302</td>\n",
       "      <td>1_send_place_love_happy</td>\n",
       "    </tr>\n",
       "    <tr>\n",
       "      <th>7</th>\n",
       "      <td>2</td>\n",
       "      <td>see, cloud, appear, fast, move</td>\n",
       "      <td>4</td>\n",
       "      <td>302</td>\n",
       "      <td>2_see_myself_awake_love</td>\n",
       "    </tr>\n",
       "    <tr>\n",
       "      <th>8</th>\n",
       "      <td>4</td>\n",
       "      <td>use, idea, experiment, virtual, reality</td>\n",
       "      <td>1</td>\n",
       "      <td>302</td>\n",
       "      <td>4_reality_virtual_experiment_sensation</td>\n",
       "    </tr>\n",
       "    <tr>\n",
       "      <th>9</th>\n",
       "      <td>5</td>\n",
       "      <td>close, eye, open, likewise, normally</td>\n",
       "      <td>4</td>\n",
       "      <td>302</td>\n",
       "      <td>5_eye_close_open_likewise</td>\n",
       "    </tr>\n",
       "    <tr>\n",
       "      <th>10</th>\n",
       "      <td>7</td>\n",
       "      <td>fun, nice, easy, imagine, difficult</td>\n",
       "      <td>2</td>\n",
       "      <td>302</td>\n",
       "      <td>7_easy_fun_nice_imagine</td>\n",
       "    </tr>\n",
       "    <tr>\n",
       "      <th>11</th>\n",
       "      <td>-1</td>\n",
       "      <td>practice, regularly, introspective, sense, elicit</td>\n",
       "      <td>5</td>\n",
       "      <td>303</td>\n",
       "      <td>-1_good_myself_thank_practice</td>\n",
       "    </tr>\n",
       "    <tr>\n",
       "      <th>12</th>\n",
       "      <td>0</td>\n",
       "      <td>lot, head, focus, distract, guess</td>\n",
       "      <td>6</td>\n",
       "      <td>303</td>\n",
       "      <td>0_focus_leg_lot_distract</td>\n",
       "    </tr>\n",
       "    <tr>\n",
       "      <th>13</th>\n",
       "      <td>1</td>\n",
       "      <td>sit, person, send, place, love</td>\n",
       "      <td>1</td>\n",
       "      <td>303</td>\n",
       "      <td>1_send_place_love_happy</td>\n",
       "    </tr>\n",
       "    <tr>\n",
       "      <th>14</th>\n",
       "      <td>2</td>\n",
       "      <td>pattern, recognition, association, obviously, ...</td>\n",
       "      <td>1</td>\n",
       "      <td>303</td>\n",
       "      <td>2_see_myself_awake_love</td>\n",
       "    </tr>\n",
       "    <tr>\n",
       "      <th>15</th>\n",
       "      <td>3</td>\n",
       "      <td>feeling, elicit, thought, gratitude, consider</td>\n",
       "      <td>2</td>\n",
       "      <td>303</td>\n",
       "      <td>3_feeling_warmth_warm_compassionate</td>\n",
       "    </tr>\n",
       "    <tr>\n",
       "      <th>16</th>\n",
       "      <td>4</td>\n",
       "      <td>sound, water, ear, reality, virtual</td>\n",
       "      <td>2</td>\n",
       "      <td>303</td>\n",
       "      <td>4_reality_virtual_experiment_sensation</td>\n",
       "    </tr>\n",
       "    <tr>\n",
       "      <th>17</th>\n",
       "      <td>8</td>\n",
       "      <td>self, somebody, suck, unlucky, unfortunate</td>\n",
       "      <td>2</td>\n",
       "      <td>303</td>\n",
       "      <td>8_self_easy_critical_aspect</td>\n",
       "    </tr>\n",
       "    <tr>\n",
       "      <th>18</th>\n",
       "      <td>-1</td>\n",
       "      <td>tiny, perceive, actual, identify, avatar</td>\n",
       "      <td>2</td>\n",
       "      <td>304</td>\n",
       "      <td>-1_good_myself_thank_practice</td>\n",
       "    </tr>\n",
       "    <tr>\n",
       "      <th>19</th>\n",
       "      <td>0</td>\n",
       "      <td>focus, leg, try, distract, specific</td>\n",
       "      <td>5</td>\n",
       "      <td>304</td>\n",
       "      <td>0_focus_leg_lot_distract</td>\n",
       "    </tr>\n",
       "    <tr>\n",
       "      <th>20</th>\n",
       "      <td>1</td>\n",
       "      <td>leg, send, place, love, happy</td>\n",
       "      <td>1</td>\n",
       "      <td>304</td>\n",
       "      <td>1_send_place_love_happy</td>\n",
       "    </tr>\n",
       "    <tr>\n",
       "      <th>21</th>\n",
       "      <td>3</td>\n",
       "      <td>compassionate, connect, overall, try, warmth</td>\n",
       "      <td>1</td>\n",
       "      <td>304</td>\n",
       "      <td>3_feeling_warmth_warm_compassionate</td>\n",
       "    </tr>\n",
       "    <tr>\n",
       "      <th>22</th>\n",
       "      <td>4</td>\n",
       "      <td>condition, real, state, flow, disconcert</td>\n",
       "      <td>1</td>\n",
       "      <td>304</td>\n",
       "      <td>4_reality_virtual_experiment_sensation</td>\n",
       "    </tr>\n",
       "    <tr>\n",
       "      <th>23</th>\n",
       "      <td>5</td>\n",
       "      <td>eye, open, close, 30, easy</td>\n",
       "      <td>2</td>\n",
       "      <td>304</td>\n",
       "      <td>5_eye_close_open_likewise</td>\n",
       "    </tr>\n",
       "    <tr>\n",
       "      <th>24</th>\n",
       "      <td>6</td>\n",
       "      <td>condition, 30, 70, teacher, 78</td>\n",
       "      <td>2</td>\n",
       "      <td>304</td>\n",
       "      <td>6_condition_100_30_70</td>\n",
       "    </tr>\n",
       "    <tr>\n",
       "      <th>25</th>\n",
       "      <td>-1</td>\n",
       "      <td>hard, phrase, new, reason, challenging</td>\n",
       "      <td>2</td>\n",
       "      <td>305</td>\n",
       "      <td>-1_good_myself_thank_practice</td>\n",
       "    </tr>\n",
       "    <tr>\n",
       "      <th>26</th>\n",
       "      <td>3</td>\n",
       "      <td>warmth, relax, voice, manage, feeling</td>\n",
       "      <td>2</td>\n",
       "      <td>305</td>\n",
       "      <td>3_feeling_warmth_warm_compassionate</td>\n",
       "    </tr>\n",
       "    <tr>\n",
       "      <th>27</th>\n",
       "      <td>-1</td>\n",
       "      <td>good, connection, myself, relaxed, despite</td>\n",
       "      <td>1</td>\n",
       "      <td>306</td>\n",
       "      <td>-1_good_myself_thank_practice</td>\n",
       "    </tr>\n",
       "    <tr>\n",
       "      <th>28</th>\n",
       "      <td>0</td>\n",
       "      <td>leg, focus, start, need, focused</td>\n",
       "      <td>4</td>\n",
       "      <td>306</td>\n",
       "      <td>0_focus_leg_lot_distract</td>\n",
       "    </tr>\n",
       "    <tr>\n",
       "      <th>29</th>\n",
       "      <td>2</td>\n",
       "      <td>awake, see, myself, despite, send</td>\n",
       "      <td>2</td>\n",
       "      <td>306</td>\n",
       "      <td>2_see_myself_awake_love</td>\n",
       "    </tr>\n",
       "    <tr>\n",
       "      <th>30</th>\n",
       "      <td>3</td>\n",
       "      <td>near, body, warmth, touch, yourself</td>\n",
       "      <td>1</td>\n",
       "      <td>306</td>\n",
       "      <td>3_feeling_warmth_warm_compassionate</td>\n",
       "    </tr>\n",
       "    <tr>\n",
       "      <th>31</th>\n",
       "      <td>4</td>\n",
       "      <td>sensation, strange, able, instruction, try</td>\n",
       "      <td>1</td>\n",
       "      <td>306</td>\n",
       "      <td>4_reality_virtual_experiment_sensation</td>\n",
       "    </tr>\n",
       "    <tr>\n",
       "      <th>32</th>\n",
       "      <td>-1</td>\n",
       "      <td>myself, work, recognize, prefer, improve</td>\n",
       "      <td>4</td>\n",
       "      <td>307</td>\n",
       "      <td>-1_good_myself_thank_practice</td>\n",
       "    </tr>\n",
       "    <tr>\n",
       "      <th>33</th>\n",
       "      <td>1</td>\n",
       "      <td>place, love, difficult, look, self</td>\n",
       "      <td>1</td>\n",
       "      <td>307</td>\n",
       "      <td>1_send_place_love_happy</td>\n",
       "    </tr>\n",
       "    <tr>\n",
       "      <th>34</th>\n",
       "      <td>2</td>\n",
       "      <td>love, see, self, questionnaire, earth</td>\n",
       "      <td>2</td>\n",
       "      <td>307</td>\n",
       "      <td>2_see_myself_awake_love</td>\n",
       "    </tr>\n",
       "    <tr>\n",
       "      <th>35</th>\n",
       "      <td>4</td>\n",
       "      <td>anxious, tense, touch, enjoy, repeat</td>\n",
       "      <td>1</td>\n",
       "      <td>307</td>\n",
       "      <td>4_reality_virtual_experiment_sensation</td>\n",
       "    </tr>\n",
       "    <tr>\n",
       "      <th>36</th>\n",
       "      <td>7</td>\n",
       "      <td>easy, imagine, fun, nice, difficult</td>\n",
       "      <td>1</td>\n",
       "      <td>307</td>\n",
       "      <td>7_easy_fun_nice_imagine</td>\n",
       "    </tr>\n",
       "    <tr>\n",
       "      <th>37</th>\n",
       "      <td>-1</td>\n",
       "      <td>tiredness, technical, feedback, clearly, person</td>\n",
       "      <td>2</td>\n",
       "      <td>313</td>\n",
       "      <td>-1_good_myself_thank_practice</td>\n",
       "    </tr>\n",
       "    <tr>\n",
       "      <th>38</th>\n",
       "      <td>0</td>\n",
       "      <td>help, raise, hand, short, video</td>\n",
       "      <td>2</td>\n",
       "      <td>313</td>\n",
       "      <td>0_focus_leg_lot_distract</td>\n",
       "    </tr>\n",
       "    <tr>\n",
       "      <th>39</th>\n",
       "      <td>1</td>\n",
       "      <td>send, love, place, true, image</td>\n",
       "      <td>2</td>\n",
       "      <td>313</td>\n",
       "      <td>1_send_place_love_happy</td>\n",
       "    </tr>\n",
       "    <tr>\n",
       "      <th>40</th>\n",
       "      <td>2</td>\n",
       "      <td>notice, see, myself, awake, love</td>\n",
       "      <td>1</td>\n",
       "      <td>313</td>\n",
       "      <td>2_see_myself_awake_love</td>\n",
       "    </tr>\n",
       "    <tr>\n",
       "      <th>41</th>\n",
       "      <td>3</td>\n",
       "      <td>explain, basically, emotion, aura, emanate</td>\n",
       "      <td>1</td>\n",
       "      <td>313</td>\n",
       "      <td>3_feeling_warmth_warm_compassionate</td>\n",
       "    </tr>\n",
       "    <tr>\n",
       "      <th>42</th>\n",
       "      <td>4</td>\n",
       "      <td>experiment, answer, sit, weird, virtual</td>\n",
       "      <td>2</td>\n",
       "      <td>313</td>\n",
       "      <td>4_reality_virtual_experiment_sensation</td>\n",
       "    </tr>\n",
       "    <tr>\n",
       "      <th>43</th>\n",
       "      <td>6</td>\n",
       "      <td>100, percentage, 75, 80, term</td>\n",
       "      <td>3</td>\n",
       "      <td>313</td>\n",
       "      <td>6_condition_100_30_70</td>\n",
       "    </tr>\n",
       "    <tr>\n",
       "      <th>44</th>\n",
       "      <td>7</td>\n",
       "      <td>difficult, easy, fun, nice, imagine</td>\n",
       "      <td>1</td>\n",
       "      <td>313</td>\n",
       "      <td>7_easy_fun_nice_imagine</td>\n",
       "    </tr>\n",
       "  </tbody>\n",
       "</table>\n",
       "</div>"
      ],
      "text/plain": [
       "    Topic                                              Words  Frequency  \\\n",
       "0       2                      say, see, myself, awake, love          1   \n",
       "1       3            difference, feeling, relate, love, body          2   \n",
       "2       4             relate, room, people, reality, virtual          1   \n",
       "3       8                self, inner, physical, easy, myself          1   \n",
       "4      -1                 thank, help, hand, shoulder, place          4   \n",
       "5       0             color, trouser, wear, shirt, different          1   \n",
       "6       1                     happy, long, lady, place, room          6   \n",
       "7       2                     see, cloud, appear, fast, move          4   \n",
       "8       4            use, idea, experiment, virtual, reality          1   \n",
       "9       5               close, eye, open, likewise, normally          4   \n",
       "10      7                fun, nice, easy, imagine, difficult          2   \n",
       "11     -1  practice, regularly, introspective, sense, elicit          5   \n",
       "12      0                  lot, head, focus, distract, guess          6   \n",
       "13      1                     sit, person, send, place, love          1   \n",
       "14      2  pattern, recognition, association, obviously, ...          1   \n",
       "15      3      feeling, elicit, thought, gratitude, consider          2   \n",
       "16      4                sound, water, ear, reality, virtual          2   \n",
       "17      8         self, somebody, suck, unlucky, unfortunate          2   \n",
       "18     -1           tiny, perceive, actual, identify, avatar          2   \n",
       "19      0                focus, leg, try, distract, specific          5   \n",
       "20      1                      leg, send, place, love, happy          1   \n",
       "21      3       compassionate, connect, overall, try, warmth          1   \n",
       "22      4           condition, real, state, flow, disconcert          1   \n",
       "23      5                         eye, open, close, 30, easy          2   \n",
       "24      6                     condition, 30, 70, teacher, 78          2   \n",
       "25     -1             hard, phrase, new, reason, challenging          2   \n",
       "26      3              warmth, relax, voice, manage, feeling          2   \n",
       "27     -1         good, connection, myself, relaxed, despite          1   \n",
       "28      0                   leg, focus, start, need, focused          4   \n",
       "29      2                  awake, see, myself, despite, send          2   \n",
       "30      3                near, body, warmth, touch, yourself          1   \n",
       "31      4         sensation, strange, able, instruction, try          1   \n",
       "32     -1           myself, work, recognize, prefer, improve          4   \n",
       "33      1                 place, love, difficult, look, self          1   \n",
       "34      2              love, see, self, questionnaire, earth          2   \n",
       "35      4               anxious, tense, touch, enjoy, repeat          1   \n",
       "36      7                easy, imagine, fun, nice, difficult          1   \n",
       "37     -1    tiredness, technical, feedback, clearly, person          2   \n",
       "38      0                    help, raise, hand, short, video          2   \n",
       "39      1                     send, love, place, true, image          2   \n",
       "40      2                   notice, see, myself, awake, love          1   \n",
       "41      3         explain, basically, emotion, aura, emanate          1   \n",
       "42      4            experiment, answer, sit, weird, virtual          2   \n",
       "43      6                      100, percentage, 75, 80, term          3   \n",
       "44      7                difficult, easy, fun, nice, imagine          1   \n",
       "\n",
       "    Class                                    Name  \n",
       "0     301                 2_see_myself_awake_love  \n",
       "1     301     3_feeling_warmth_warm_compassionate  \n",
       "2     301  4_reality_virtual_experiment_sensation  \n",
       "3     301             8_self_easy_critical_aspect  \n",
       "4     302           -1_good_myself_thank_practice  \n",
       "5     302                0_focus_leg_lot_distract  \n",
       "6     302                 1_send_place_love_happy  \n",
       "7     302                 2_see_myself_awake_love  \n",
       "8     302  4_reality_virtual_experiment_sensation  \n",
       "9     302               5_eye_close_open_likewise  \n",
       "10    302                 7_easy_fun_nice_imagine  \n",
       "11    303           -1_good_myself_thank_practice  \n",
       "12    303                0_focus_leg_lot_distract  \n",
       "13    303                 1_send_place_love_happy  \n",
       "14    303                 2_see_myself_awake_love  \n",
       "15    303     3_feeling_warmth_warm_compassionate  \n",
       "16    303  4_reality_virtual_experiment_sensation  \n",
       "17    303             8_self_easy_critical_aspect  \n",
       "18    304           -1_good_myself_thank_practice  \n",
       "19    304                0_focus_leg_lot_distract  \n",
       "20    304                 1_send_place_love_happy  \n",
       "21    304     3_feeling_warmth_warm_compassionate  \n",
       "22    304  4_reality_virtual_experiment_sensation  \n",
       "23    304               5_eye_close_open_likewise  \n",
       "24    304                   6_condition_100_30_70  \n",
       "25    305           -1_good_myself_thank_practice  \n",
       "26    305     3_feeling_warmth_warm_compassionate  \n",
       "27    306           -1_good_myself_thank_practice  \n",
       "28    306                0_focus_leg_lot_distract  \n",
       "29    306                 2_see_myself_awake_love  \n",
       "30    306     3_feeling_warmth_warm_compassionate  \n",
       "31    306  4_reality_virtual_experiment_sensation  \n",
       "32    307           -1_good_myself_thank_practice  \n",
       "33    307                 1_send_place_love_happy  \n",
       "34    307                 2_see_myself_awake_love  \n",
       "35    307  4_reality_virtual_experiment_sensation  \n",
       "36    307                 7_easy_fun_nice_imagine  \n",
       "37    313           -1_good_myself_thank_practice  \n",
       "38    313                0_focus_leg_lot_distract  \n",
       "39    313                 1_send_place_love_happy  \n",
       "40    313                 2_see_myself_awake_love  \n",
       "41    313     3_feeling_warmth_warm_compassionate  \n",
       "42    313  4_reality_virtual_experiment_sensation  \n",
       "43    313                   6_condition_100_30_70  \n",
       "44    313                 7_easy_fun_nice_imagine  "
      ]
     },
     "execution_count": 1408,
     "metadata": {},
     "output_type": "execute_result"
    }
   ],
   "source": [
    "topics_per_class"
   ]
  },
  {
   "cell_type": "code",
   "execution_count": 1395,
   "metadata": {},
   "outputs": [],
   "source": [
    "#hierarchical_topics = topic_model.hierarchical_topics(docs)\n",
    "#topic_model.visualize_hierarchy(hierarchical_topics=hierarchical_topics)"
   ]
  },
  {
   "cell_type": "code",
   "execution_count": 1396,
   "metadata": {},
   "outputs": [],
   "source": [
    "df['one_topic'] = topics\n",
    "topic_name_to_id = dict(zip(topic_model.get_topic_info().Topic, topic_model.get_topic_info().Name))\n",
    "df['one_topic_name'] = df['one_topic'].map(topic_name_to_id)\n",
    "\n",
    "df.to_csv(\"df_topic.csv\", index = False)"
   ]
  },
  {
   "cell_type": "code",
   "execution_count": 1397,
   "metadata": {},
   "outputs": [
    {
     "data": {
      "text/plain": [
       "{-1: '-1_good_myself_thank_practice',\n",
       " 0: '0_focus_leg_lot_distract',\n",
       " 1: '1_send_place_love_happy',\n",
       " 2: '2_see_myself_awake_love',\n",
       " 3: '3_feeling_warmth_warm_compassionate',\n",
       " 4: '4_reality_virtual_experiment_sensation',\n",
       " 5: '5_eye_close_open_likewise',\n",
       " 6: '6_condition_100_30_70',\n",
       " 7: '7_easy_fun_nice_imagine',\n",
       " 8: '8_self_easy_critical_aspect'}"
      ]
     },
     "execution_count": 1397,
     "metadata": {},
     "output_type": "execute_result"
    }
   ],
   "source": [
    "topic_name_to_id"
   ]
  },
  {
   "cell_type": "markdown",
   "metadata": {},
   "source": [
    "# Topic Distribution (More than one topic per docs) \n",
    "- To reduce the numbers of outliers and avoid False Positive (Interesting when looking at one specif topic)"
   ]
  },
  {
   "cell_type": "markdown",
   "metadata": {},
   "source": [
    "### Look similarities"
   ]
  },
  {
   "cell_type": "code",
   "execution_count": 1398,
   "metadata": {},
   "outputs": [
    {
     "data": {
      "text/html": [
       "<div>\n",
       "<style scoped>\n",
       "    .dataframe tbody tr th:only-of-type {\n",
       "        vertical-align: middle;\n",
       "    }\n",
       "\n",
       "    .dataframe tbody tr th {\n",
       "        vertical-align: top;\n",
       "    }\n",
       "\n",
       "    .dataframe thead th {\n",
       "        text-align: right;\n",
       "    }\n",
       "</style>\n",
       "<table border=\"1\" class=\"dataframe\">\n",
       "  <thead>\n",
       "    <tr style=\"text-align: right;\">\n",
       "      <th></th>\n",
       "      <th>topic1</th>\n",
       "      <th>topic2</th>\n",
       "      <th>distance</th>\n",
       "    </tr>\n",
       "  </thead>\n",
       "  <tbody>\n",
       "    <tr>\n",
       "      <th>15</th>\n",
       "      <td>0_focus_leg_lot_distract</td>\n",
       "      <td>4_reality_virtual_experiment_sensation</td>\n",
       "      <td>0.728350</td>\n",
       "    </tr>\n",
       "    <tr>\n",
       "      <th>45</th>\n",
       "      <td>3_feeling_warmth_warm_compassionate</td>\n",
       "      <td>4_reality_virtual_experiment_sensation</td>\n",
       "      <td>0.652427</td>\n",
       "    </tr>\n",
       "    <tr>\n",
       "      <th>23</th>\n",
       "      <td>1_send_place_love_happy</td>\n",
       "      <td>2_see_myself_awake_love</td>\n",
       "      <td>0.565539</td>\n",
       "    </tr>\n",
       "    <tr>\n",
       "      <th>16</th>\n",
       "      <td>0_focus_leg_lot_distract</td>\n",
       "      <td>5_eye_close_open_likewise</td>\n",
       "      <td>0.544758</td>\n",
       "    </tr>\n",
       "    <tr>\n",
       "      <th>35</th>\n",
       "      <td>2_see_myself_awake_love</td>\n",
       "      <td>4_reality_virtual_experiment_sensation</td>\n",
       "      <td>0.543718</td>\n",
       "    </tr>\n",
       "    <tr>\n",
       "      <th>14</th>\n",
       "      <td>0_focus_leg_lot_distract</td>\n",
       "      <td>3_feeling_warmth_warm_compassionate</td>\n",
       "      <td>0.539695</td>\n",
       "    </tr>\n",
       "    <tr>\n",
       "      <th>39</th>\n",
       "      <td>2_see_myself_awake_love</td>\n",
       "      <td>8_self_easy_critical_aspect</td>\n",
       "      <td>0.502387</td>\n",
       "    </tr>\n",
       "    <tr>\n",
       "      <th>13</th>\n",
       "      <td>0_focus_leg_lot_distract</td>\n",
       "      <td>2_see_myself_awake_love</td>\n",
       "      <td>0.493842</td>\n",
       "    </tr>\n",
       "    <tr>\n",
       "      <th>34</th>\n",
       "      <td>2_see_myself_awake_love</td>\n",
       "      <td>3_feeling_warmth_warm_compassionate</td>\n",
       "      <td>0.493510</td>\n",
       "    </tr>\n",
       "    <tr>\n",
       "      <th>24</th>\n",
       "      <td>1_send_place_love_happy</td>\n",
       "      <td>3_feeling_warmth_warm_compassionate</td>\n",
       "      <td>0.492986</td>\n",
       "    </tr>\n",
       "    <tr>\n",
       "      <th>59</th>\n",
       "      <td>4_reality_virtual_experiment_sensation</td>\n",
       "      <td>8_self_easy_critical_aspect</td>\n",
       "      <td>0.492380</td>\n",
       "    </tr>\n",
       "    <tr>\n",
       "      <th>89</th>\n",
       "      <td>7_easy_fun_nice_imagine</td>\n",
       "      <td>8_self_easy_critical_aspect</td>\n",
       "      <td>0.468083</td>\n",
       "    </tr>\n",
       "    <tr>\n",
       "      <th>49</th>\n",
       "      <td>3_feeling_warmth_warm_compassionate</td>\n",
       "      <td>8_self_easy_critical_aspect</td>\n",
       "      <td>0.458323</td>\n",
       "    </tr>\n",
       "    <tr>\n",
       "      <th>38</th>\n",
       "      <td>2_see_myself_awake_love</td>\n",
       "      <td>7_easy_fun_nice_imagine</td>\n",
       "      <td>0.451088</td>\n",
       "    </tr>\n",
       "    <tr>\n",
       "      <th>25</th>\n",
       "      <td>1_send_place_love_happy</td>\n",
       "      <td>4_reality_virtual_experiment_sensation</td>\n",
       "      <td>0.432504</td>\n",
       "    </tr>\n",
       "    <tr>\n",
       "      <th>29</th>\n",
       "      <td>1_send_place_love_happy</td>\n",
       "      <td>8_self_easy_critical_aspect</td>\n",
       "      <td>0.427962</td>\n",
       "    </tr>\n",
       "    <tr>\n",
       "      <th>19</th>\n",
       "      <td>0_focus_leg_lot_distract</td>\n",
       "      <td>8_self_easy_critical_aspect</td>\n",
       "      <td>0.425807</td>\n",
       "    </tr>\n",
       "    <tr>\n",
       "      <th>36</th>\n",
       "      <td>2_see_myself_awake_love</td>\n",
       "      <td>5_eye_close_open_likewise</td>\n",
       "      <td>0.424076</td>\n",
       "    </tr>\n",
       "    <tr>\n",
       "      <th>56</th>\n",
       "      <td>4_reality_virtual_experiment_sensation</td>\n",
       "      <td>5_eye_close_open_likewise</td>\n",
       "      <td>0.419928</td>\n",
       "    </tr>\n",
       "    <tr>\n",
       "      <th>28</th>\n",
       "      <td>1_send_place_love_happy</td>\n",
       "      <td>7_easy_fun_nice_imagine</td>\n",
       "      <td>0.403589</td>\n",
       "    </tr>\n",
       "  </tbody>\n",
       "</table>\n",
       "</div>"
      ],
      "text/plain": [
       "                                    topic1  \\\n",
       "15                0_focus_leg_lot_distract   \n",
       "45     3_feeling_warmth_warm_compassionate   \n",
       "23                 1_send_place_love_happy   \n",
       "16                0_focus_leg_lot_distract   \n",
       "35                 2_see_myself_awake_love   \n",
       "14                0_focus_leg_lot_distract   \n",
       "39                 2_see_myself_awake_love   \n",
       "13                0_focus_leg_lot_distract   \n",
       "34                 2_see_myself_awake_love   \n",
       "24                 1_send_place_love_happy   \n",
       "59  4_reality_virtual_experiment_sensation   \n",
       "89                 7_easy_fun_nice_imagine   \n",
       "49     3_feeling_warmth_warm_compassionate   \n",
       "38                 2_see_myself_awake_love   \n",
       "25                 1_send_place_love_happy   \n",
       "29                 1_send_place_love_happy   \n",
       "19                0_focus_leg_lot_distract   \n",
       "36                 2_see_myself_awake_love   \n",
       "56  4_reality_virtual_experiment_sensation   \n",
       "28                 1_send_place_love_happy   \n",
       "\n",
       "                                    topic2  distance  \n",
       "15  4_reality_virtual_experiment_sensation  0.728350  \n",
       "45  4_reality_virtual_experiment_sensation  0.652427  \n",
       "23                 2_see_myself_awake_love  0.565539  \n",
       "16               5_eye_close_open_likewise  0.544758  \n",
       "35  4_reality_virtual_experiment_sensation  0.543718  \n",
       "14     3_feeling_warmth_warm_compassionate  0.539695  \n",
       "39             8_self_easy_critical_aspect  0.502387  \n",
       "13                 2_see_myself_awake_love  0.493842  \n",
       "34     3_feeling_warmth_warm_compassionate  0.493510  \n",
       "24     3_feeling_warmth_warm_compassionate  0.492986  \n",
       "59             8_self_easy_critical_aspect  0.492380  \n",
       "89             8_self_easy_critical_aspect  0.468083  \n",
       "49             8_self_easy_critical_aspect  0.458323  \n",
       "38                 7_easy_fun_nice_imagine  0.451088  \n",
       "25  4_reality_virtual_experiment_sensation  0.432504  \n",
       "29             8_self_easy_critical_aspect  0.427962  \n",
       "19             8_self_easy_critical_aspect  0.425807  \n",
       "36               5_eye_close_open_likewise  0.424076  \n",
       "56               5_eye_close_open_likewise  0.419928  \n",
       "28                 7_easy_fun_nice_imagine  0.403589  "
      ]
     },
     "execution_count": 1398,
     "metadata": {},
     "output_type": "execute_result"
    }
   ],
   "source": [
    "from sklearn.metrics.pairwise import cosine_similarity\n",
    "import numpy as np \n",
    "\n",
    "distance_matrix = cosine_similarity(np.array(topic_model.topic_embeddings_))\n",
    "dist_df = pd.DataFrame(distance_matrix, columns=topic_model.topic_labels_.values(), \n",
    "                       index=topic_model.topic_labels_.values())\n",
    "\n",
    "tmp = []\n",
    "for rec in dist_df.reset_index().to_dict('records'):\n",
    "    t1 = rec['index']\n",
    "    for t2 in rec:\n",
    "        if t2 == 'index': \n",
    "            continue\n",
    "        tmp.append(\n",
    "            {\n",
    "                'topic1': t1, \n",
    "                'topic2': t2, \n",
    "                'distance': rec[t2]\n",
    "            }\n",
    "        )\n",
    "\n",
    "pair_dist_df = pd.DataFrame(tmp)\n",
    "\n",
    "pair_dist_df = pair_dist_df[(pair_dist_df.topic1.map(\n",
    "      lambda x: not x.startswith('-1'))) & \n",
    "            (pair_dist_df.topic2.map(lambda x: not x.startswith('-1')))]\n",
    "pair_dist_df = pair_dist_df[pair_dist_df.topic1 < pair_dist_df.topic2]\n",
    "pair_dist_df.sort_values('distance', ascending = False).head(20)"
   ]
  },
  {
   "cell_type": "markdown",
   "metadata": {},
   "source": [
    "### Multiples topics"
   ]
  },
  {
   "cell_type": "code",
   "execution_count": 1399,
   "metadata": {},
   "outputs": [
    {
     "name": "stderr",
     "output_type": "stream",
     "text": [
      "100%|██████████| 1/1 [00:00<00:00, 46.63it/s]\n"
     ]
    }
   ],
   "source": [
    "topic_distr, topic_token_distr = topic_model.approximate_distribution(\n",
    "      docs, window = 5, calculate_tokens=True)"
   ]
  },
  {
   "cell_type": "code",
   "execution_count": 1400,
   "metadata": {},
   "outputs": [
    {
     "name": "stderr",
     "output_type": "stream",
     "text": [
      "100%|██████████| 350/350 [00:00<00:00, 391.36it/s]\n"
     ]
    },
    {
     "data": {
      "application/vnd.plotly.v1+json": {
       "config": {
        "plotlyServerURL": "https://plot.ly"
       },
       "data": [
        {
         "fillpattern": {
          "shape": ""
         },
         "hovertemplate": "number of topics=0<br>threshold=%{x}<br>share of reviews, %=%{y}<extra></extra>",
         "legendgroup": "0",
         "line": {
          "color": "rgb(255,255,217)"
         },
         "marker": {
          "symbol": "circle"
         },
         "mode": "lines",
         "name": "0",
         "orientation": "v",
         "showlegend": true,
         "stackgroup": "1",
         "type": "scatter",
         "x": [
          0,
          0.001,
          0.002,
          0.003,
          0.004,
          0.005,
          0.006,
          0.007,
          0.008,
          0.009000000000000001,
          0.01,
          0.011,
          0.012,
          0.013000000000000001,
          0.014,
          0.015,
          0.016,
          0.017,
          0.018000000000000002,
          0.019,
          0.02,
          0.021,
          0.022,
          0.023,
          0.024,
          0.025,
          0.026000000000000002,
          0.027,
          0.028,
          0.029,
          0.03,
          0.031,
          0.032,
          0.033,
          0.034,
          0.035,
          0.036000000000000004,
          0.037,
          0.038,
          0.039,
          0.04,
          0.041,
          0.042,
          0.043000000000000003,
          0.044,
          0.045,
          0.046,
          0.047,
          0.048,
          0.049,
          0.05,
          0.051000000000000004,
          0.052000000000000005,
          0.053,
          0.054,
          0.055,
          0.056,
          0.057,
          0.058,
          0.059000000000000004,
          0.06,
          0.061,
          0.062,
          0.063,
          0.064,
          0.065,
          0.066,
          0.067,
          0.068,
          0.069,
          0.07,
          0.07100000000000001,
          0.07200000000000001,
          0.073,
          0.074,
          0.075,
          0.076,
          0.077,
          0.078,
          0.079,
          0.08,
          0.081,
          0.082,
          0.083,
          0.084,
          0.085,
          0.08600000000000001,
          0.08700000000000001,
          0.088,
          0.089,
          0.09,
          0.091,
          0.092,
          0.093,
          0.094,
          0.095,
          0.096,
          0.097,
          0.098,
          0.099,
          0.1,
          0.101,
          0.10200000000000001,
          0.10300000000000001,
          0.10400000000000001,
          0.105,
          0.106,
          0.107,
          0.108,
          0.109,
          0.11,
          0.111,
          0.112,
          0.113,
          0.114,
          0.115,
          0.116,
          0.117,
          0.11800000000000001,
          0.11900000000000001,
          0.12,
          0.121,
          0.122,
          0.123,
          0.124,
          0.125,
          0.126,
          0.127,
          0.128,
          0.129,
          0.13,
          0.131,
          0.132,
          0.133,
          0.134,
          0.135,
          0.136,
          0.137,
          0.138,
          0.139,
          0.14,
          0.14100000000000001,
          0.14200000000000002,
          0.14300000000000002,
          0.14400000000000002,
          0.145,
          0.146,
          0.147,
          0.148,
          0.149,
          0.15,
          0.151,
          0.152,
          0.153,
          0.154,
          0.155,
          0.156,
          0.157,
          0.158,
          0.159,
          0.16,
          0.161,
          0.162,
          0.163,
          0.164,
          0.165,
          0.166,
          0.167,
          0.168,
          0.169,
          0.17,
          0.171,
          0.17200000000000001,
          0.17300000000000001,
          0.17400000000000002,
          0.17500000000000002,
          0.176,
          0.177,
          0.178,
          0.179,
          0.18,
          0.181,
          0.182,
          0.183,
          0.184,
          0.185,
          0.186,
          0.187,
          0.188,
          0.189,
          0.19,
          0.191,
          0.192,
          0.193,
          0.194,
          0.195,
          0.196,
          0.197,
          0.198,
          0.199,
          0.2,
          0.201,
          0.202,
          0.203,
          0.20400000000000001,
          0.20500000000000002,
          0.20600000000000002,
          0.20700000000000002,
          0.20800000000000002,
          0.209,
          0.21,
          0.211,
          0.212,
          0.213,
          0.214,
          0.215,
          0.216,
          0.217,
          0.218,
          0.219,
          0.22,
          0.221,
          0.222,
          0.223,
          0.224,
          0.225,
          0.226,
          0.227,
          0.228,
          0.229,
          0.23,
          0.231,
          0.232,
          0.233,
          0.234,
          0.23500000000000001,
          0.23600000000000002,
          0.23700000000000002,
          0.23800000000000002,
          0.23900000000000002,
          0.24,
          0.241,
          0.242,
          0.243,
          0.244,
          0.245,
          0.246,
          0.247,
          0.248,
          0.249,
          0.25,
          0.251,
          0.252,
          0.253,
          0.254,
          0.255,
          0.256,
          0.257,
          0.258,
          0.259,
          0.26,
          0.261,
          0.262,
          0.263,
          0.264,
          0.265,
          0.266,
          0.267,
          0.268,
          0.269,
          0.27,
          0.271,
          0.272,
          0.273,
          0.274,
          0.275,
          0.276,
          0.277,
          0.278,
          0.279,
          0.28,
          0.281,
          0.28200000000000003,
          0.28300000000000003,
          0.28400000000000003,
          0.28500000000000003,
          0.28600000000000003,
          0.28700000000000003,
          0.28800000000000003,
          0.289,
          0.29,
          0.291,
          0.292,
          0.293,
          0.294,
          0.295,
          0.296,
          0.297,
          0.298,
          0.299,
          0.3,
          0.301,
          0.302,
          0.303,
          0.304,
          0.305,
          0.306,
          0.307,
          0.308,
          0.309,
          0.31,
          0.311,
          0.312,
          0.313,
          0.314,
          0.315,
          0.316,
          0.317,
          0.318,
          0.319,
          0.32,
          0.321,
          0.322,
          0.323,
          0.324,
          0.325,
          0.326,
          0.327,
          0.328,
          0.329,
          0.33,
          0.331,
          0.332,
          0.333,
          0.334,
          0.335,
          0.336,
          0.337,
          0.338,
          0.339,
          0.34,
          0.341,
          0.342,
          0.343,
          0.34400000000000003,
          0.34500000000000003,
          0.34600000000000003,
          0.34700000000000003,
          0.34800000000000003,
          0.34900000000000003
         ],
         "xaxis": "x",
         "y": [
          0,
          6.25,
          6.25,
          6.25,
          6.25,
          6.25,
          6.25,
          6.25,
          6.25,
          6.25,
          6.25,
          6.25,
          6.25,
          6.25,
          6.25,
          6.25,
          6.25,
          6.25,
          6.25,
          6.25,
          6.25,
          6.25,
          6.25,
          6.25,
          6.25,
          6.25,
          6.25,
          6.25,
          6.25,
          6.25,
          6.25,
          6.25,
          6.25,
          6.25,
          6.25,
          6.25,
          6.25,
          6.25,
          6.25,
          6.25,
          6.25,
          6.25,
          6.25,
          6.25,
          6.25,
          6.25,
          6.25,
          6.25,
          6.25,
          6.25,
          6.25,
          6.25,
          6.25,
          6.25,
          6.25,
          6.25,
          6.25,
          6.25,
          6.25,
          6.25,
          6.25,
          6.25,
          6.25,
          6.25,
          6.25,
          6.25,
          6.25,
          6.25,
          6.25,
          6.25,
          6.25,
          6.25,
          6.25,
          6.25,
          6.25,
          6.25,
          6.25,
          6.25,
          6.25,
          6.25,
          6.25,
          6.25,
          6.25,
          6.25,
          6.25,
          6.25,
          6.25,
          6.25,
          6.25,
          6.25,
          6.25,
          6.25,
          6.25,
          6.25,
          6.25,
          6.25,
          6.25,
          6.25,
          6.25,
          6.25,
          6.25,
          6.25,
          6.25,
          6.25,
          6.25,
          6.25,
          6.25,
          6.25,
          6.25,
          6.25,
          6.25,
          6.25,
          6.25,
          6.25,
          6.25,
          6.25,
          6.25,
          6.25,
          6.25,
          6.25,
          6.25,
          6.25,
          6.25,
          6.25,
          6.25,
          6.25,
          6.25,
          6.25,
          6.25,
          6.25,
          6.25,
          6.25,
          6.25,
          6.25,
          6.25,
          6.25,
          6.25,
          6.25,
          6.25,
          6.25,
          6.25,
          6.25,
          6.25,
          6.25,
          6.25,
          6.25,
          6.25,
          6.25,
          6.25,
          6.25,
          6.25,
          6.25,
          6.25,
          6.25,
          6.25,
          6.25,
          6.25,
          6.25,
          6.25,
          6.25,
          6.25,
          6.25,
          6.25,
          6.25,
          6.25,
          6.25,
          6.25,
          6.25,
          6.25,
          6.25,
          6.25,
          6.25,
          6.25,
          6.25,
          6.25,
          6.25,
          6.25,
          6.25,
          6.25,
          6.25,
          6.25,
          6.25,
          6.25,
          6.25,
          6.25,
          6.25,
          6.25,
          6.25,
          6.25,
          6.25,
          6.25,
          6.25,
          6.25,
          6.25,
          6.25,
          6.25,
          6.25,
          6.25,
          6.25,
          6.25,
          6.25,
          6.25,
          6.25,
          6.25,
          6.25,
          6.25,
          6.25,
          6.25,
          6.25,
          6.25,
          6.25,
          6.25,
          6.25,
          6.25,
          6.25,
          6.25,
          6.25,
          6.25,
          6.25,
          6.25,
          6.25,
          6.25,
          6.25,
          6.25,
          6.25,
          6.25,
          6.25,
          6.25,
          6.25,
          6.25,
          6.25,
          6.25,
          6.25,
          6.25,
          6.25,
          6.25,
          6.25,
          6.25,
          6.25,
          6.25,
          6.25,
          6.25,
          6.25,
          6.25,
          6.25,
          6.25,
          6.25,
          6.25,
          6.25,
          6.25,
          6.25,
          6.25,
          6.25,
          6.25,
          6.25,
          6.25,
          6.25,
          6.25,
          6.25,
          6.25,
          6.25,
          6.25,
          6.25,
          6.25,
          6.25,
          6.25,
          6.25,
          6.25,
          6.25,
          6.25,
          6.25,
          6.25,
          6.25,
          6.25,
          6.25,
          6.25,
          6.25,
          6.25,
          6.25,
          6.25,
          6.25,
          6.25,
          6.25,
          6.25,
          6.25,
          6.25,
          6.25,
          6.25,
          6.25,
          6.25,
          6.25,
          6.25,
          6.25,
          6.25,
          6.25,
          6.25,
          6.25,
          6.25,
          6.25,
          6.25,
          6.25,
          6.25,
          6.25,
          6.25,
          6.25,
          6.25,
          6.25,
          6.25,
          6.25,
          6.25,
          6.25,
          6.25,
          6.25,
          6.25,
          6.25,
          6.25,
          6.25,
          6.25,
          6.25,
          6.25,
          6.25,
          6.25,
          6.25,
          6.25,
          6.25,
          6.25,
          6.25,
          6.25,
          6.25,
          6.25,
          6.25,
          6.25,
          6.25,
          6.25,
          6.25,
          6.25,
          6.25,
          6.25,
          7.291666666666667,
          7.291666666666667,
          7.291666666666667,
          7.291666666666667,
          7.291666666666667,
          7.291666666666667,
          7.291666666666667,
          7.291666666666667,
          7.291666666666667,
          7.291666666666667,
          7.291666666666667,
          7.291666666666667
         ],
         "yaxis": "y"
        },
        {
         "fillpattern": {
          "shape": ""
         },
         "hovertemplate": "number of topics=1<br>threshold=%{x}<br>share of reviews, %=%{y}<extra></extra>",
         "legendgroup": "1",
         "line": {
          "color": "rgb(127,205,187)"
         },
         "marker": {
          "symbol": "circle"
         },
         "mode": "lines",
         "name": "1",
         "orientation": "v",
         "showlegend": true,
         "stackgroup": "1",
         "type": "scatter",
         "x": [
          0,
          0.001,
          0.002,
          0.003,
          0.004,
          0.005,
          0.006,
          0.007,
          0.008,
          0.009000000000000001,
          0.01,
          0.011,
          0.012,
          0.013000000000000001,
          0.014,
          0.015,
          0.016,
          0.017,
          0.018000000000000002,
          0.019,
          0.02,
          0.021,
          0.022,
          0.023,
          0.024,
          0.025,
          0.026000000000000002,
          0.027,
          0.028,
          0.029,
          0.03,
          0.031,
          0.032,
          0.033,
          0.034,
          0.035,
          0.036000000000000004,
          0.037,
          0.038,
          0.039,
          0.04,
          0.041,
          0.042,
          0.043000000000000003,
          0.044,
          0.045,
          0.046,
          0.047,
          0.048,
          0.049,
          0.05,
          0.051000000000000004,
          0.052000000000000005,
          0.053,
          0.054,
          0.055,
          0.056,
          0.057,
          0.058,
          0.059000000000000004,
          0.06,
          0.061,
          0.062,
          0.063,
          0.064,
          0.065,
          0.066,
          0.067,
          0.068,
          0.069,
          0.07,
          0.07100000000000001,
          0.07200000000000001,
          0.073,
          0.074,
          0.075,
          0.076,
          0.077,
          0.078,
          0.079,
          0.08,
          0.081,
          0.082,
          0.083,
          0.084,
          0.085,
          0.08600000000000001,
          0.08700000000000001,
          0.088,
          0.089,
          0.09,
          0.091,
          0.092,
          0.093,
          0.094,
          0.095,
          0.096,
          0.097,
          0.098,
          0.099,
          0.1,
          0.101,
          0.10200000000000001,
          0.10300000000000001,
          0.10400000000000001,
          0.105,
          0.106,
          0.107,
          0.108,
          0.109,
          0.11,
          0.111,
          0.112,
          0.113,
          0.114,
          0.115,
          0.116,
          0.117,
          0.11800000000000001,
          0.11900000000000001,
          0.12,
          0.121,
          0.122,
          0.123,
          0.124,
          0.125,
          0.126,
          0.127,
          0.128,
          0.129,
          0.13,
          0.131,
          0.132,
          0.133,
          0.134,
          0.135,
          0.136,
          0.137,
          0.138,
          0.139,
          0.14,
          0.14100000000000001,
          0.14200000000000002,
          0.14300000000000002,
          0.14400000000000002,
          0.145,
          0.146,
          0.147,
          0.148,
          0.149,
          0.15,
          0.151,
          0.152,
          0.153,
          0.154,
          0.155,
          0.156,
          0.157,
          0.158,
          0.159,
          0.16,
          0.161,
          0.162,
          0.163,
          0.164,
          0.165,
          0.166,
          0.167,
          0.168,
          0.169,
          0.17,
          0.171,
          0.17200000000000001,
          0.17300000000000001,
          0.17400000000000002,
          0.17500000000000002,
          0.176,
          0.177,
          0.178,
          0.179,
          0.18,
          0.181,
          0.182,
          0.183,
          0.184,
          0.185,
          0.186,
          0.187,
          0.188,
          0.189,
          0.19,
          0.191,
          0.192,
          0.193,
          0.194,
          0.195,
          0.196,
          0.197,
          0.198,
          0.199,
          0.2,
          0.201,
          0.202,
          0.203,
          0.20400000000000001,
          0.20500000000000002,
          0.20600000000000002,
          0.20700000000000002,
          0.20800000000000002,
          0.209,
          0.21,
          0.211,
          0.212,
          0.213,
          0.214,
          0.215,
          0.216,
          0.217,
          0.218,
          0.219,
          0.22,
          0.221,
          0.222,
          0.223,
          0.224,
          0.225,
          0.226,
          0.227,
          0.228,
          0.229,
          0.23,
          0.231,
          0.232,
          0.233,
          0.234,
          0.23500000000000001,
          0.23600000000000002,
          0.23700000000000002,
          0.23800000000000002,
          0.23900000000000002,
          0.24,
          0.241,
          0.242,
          0.243,
          0.244,
          0.245,
          0.246,
          0.247,
          0.248,
          0.249,
          0.25,
          0.251,
          0.252,
          0.253,
          0.254,
          0.255,
          0.256,
          0.257,
          0.258,
          0.259,
          0.26,
          0.261,
          0.262,
          0.263,
          0.264,
          0.265,
          0.266,
          0.267,
          0.268,
          0.269,
          0.27,
          0.271,
          0.272,
          0.273,
          0.274,
          0.275,
          0.276,
          0.277,
          0.278,
          0.279,
          0.28,
          0.281,
          0.28200000000000003,
          0.28300000000000003,
          0.28400000000000003,
          0.28500000000000003,
          0.28600000000000003,
          0.28700000000000003,
          0.28800000000000003,
          0.289,
          0.29,
          0.291,
          0.292,
          0.293,
          0.294,
          0.295,
          0.296,
          0.297,
          0.298,
          0.299,
          0.3,
          0.301,
          0.302,
          0.303,
          0.304,
          0.305,
          0.306,
          0.307,
          0.308,
          0.309,
          0.31,
          0.311,
          0.312,
          0.313,
          0.314,
          0.315,
          0.316,
          0.317,
          0.318,
          0.319,
          0.32,
          0.321,
          0.322,
          0.323,
          0.324,
          0.325,
          0.326,
          0.327,
          0.328,
          0.329,
          0.33,
          0.331,
          0.332,
          0.333,
          0.334,
          0.335,
          0.336,
          0.337,
          0.338,
          0.339,
          0.34,
          0.341,
          0.342,
          0.343,
          0.34400000000000003,
          0.34500000000000003,
          0.34600000000000003,
          0.34700000000000003,
          0.34800000000000003,
          0.34900000000000003
         ],
         "xaxis": "x",
         "y": [
          0,
          31.25,
          31.25,
          31.25,
          31.25,
          31.25,
          31.25,
          31.25,
          31.25,
          31.25,
          31.25,
          31.25,
          31.25,
          31.25,
          31.25,
          31.25,
          31.25,
          31.25,
          31.25,
          31.25,
          31.25,
          31.25,
          31.25,
          31.25,
          31.25,
          31.25,
          31.25,
          31.25,
          31.25,
          31.25,
          31.25,
          31.25,
          31.25,
          31.25,
          31.25,
          31.25,
          31.25,
          31.25,
          31.25,
          31.25,
          31.25,
          31.25,
          31.25,
          31.25,
          31.25,
          31.25,
          31.25,
          31.25,
          31.25,
          31.25,
          31.25,
          31.25,
          31.25,
          31.25,
          31.25,
          31.25,
          31.25,
          31.25,
          32.291666666666664,
          32.291666666666664,
          32.291666666666664,
          32.291666666666664,
          32.291666666666664,
          32.291666666666664,
          32.291666666666664,
          33.333333333333336,
          33.333333333333336,
          34.375,
          34.375,
          34.375,
          34.375,
          34.375,
          34.375,
          34.375,
          34.375,
          34.375,
          34.375,
          34.375,
          34.375,
          34.375,
          35.416666666666664,
          35.416666666666664,
          35.416666666666664,
          35.416666666666664,
          35.416666666666664,
          35.416666666666664,
          35.416666666666664,
          35.416666666666664,
          35.416666666666664,
          35.416666666666664,
          35.416666666666664,
          35.416666666666664,
          35.416666666666664,
          35.416666666666664,
          35.416666666666664,
          35.416666666666664,
          35.416666666666664,
          36.458333333333336,
          36.458333333333336,
          37.5,
          37.5,
          37.5,
          37.5,
          37.5,
          37.5,
          37.5,
          37.5,
          37.5,
          37.5,
          37.5,
          37.5,
          38.541666666666664,
          38.541666666666664,
          38.541666666666664,
          38.541666666666664,
          38.541666666666664,
          38.541666666666664,
          38.541666666666664,
          38.541666666666664,
          38.541666666666664,
          38.541666666666664,
          38.541666666666664,
          38.541666666666664,
          39.583333333333336,
          39.583333333333336,
          39.583333333333336,
          39.583333333333336,
          39.583333333333336,
          39.583333333333336,
          39.583333333333336,
          39.583333333333336,
          39.583333333333336,
          39.583333333333336,
          39.583333333333336,
          39.583333333333336,
          39.583333333333336,
          39.583333333333336,
          39.583333333333336,
          39.583333333333336,
          39.583333333333336,
          39.583333333333336,
          40.625,
          41.666666666666664,
          41.666666666666664,
          41.666666666666664,
          41.666666666666664,
          42.708333333333336,
          42.708333333333336,
          42.708333333333336,
          44.791666666666664,
          45.833333333333336,
          45.833333333333336,
          46.875,
          47.916666666666664,
          50,
          50,
          51.041666666666664,
          52.083333333333336,
          52.083333333333336,
          53.125,
          54.166666666666664,
          54.166666666666664,
          54.166666666666664,
          54.166666666666664,
          54.166666666666664,
          54.166666666666664,
          54.166666666666664,
          54.166666666666664,
          56.25,
          57.291666666666664,
          58.333333333333336,
          59.375,
          59.375,
          59.375,
          59.375,
          59.375,
          59.375,
          60.416666666666664,
          60.416666666666664,
          61.458333333333336,
          61.458333333333336,
          61.458333333333336,
          61.458333333333336,
          61.458333333333336,
          61.458333333333336,
          61.458333333333336,
          61.458333333333336,
          61.458333333333336,
          61.458333333333336,
          61.458333333333336,
          61.458333333333336,
          61.458333333333336,
          61.458333333333336,
          61.458333333333336,
          61.458333333333336,
          62.5,
          62.5,
          62.5,
          62.5,
          63.541666666666664,
          64.58333333333333,
          64.58333333333333,
          64.58333333333333,
          64.58333333333333,
          64.58333333333333,
          65.625,
          65.625,
          65.625,
          65.625,
          65.625,
          65.625,
          65.625,
          65.625,
          65.625,
          65.625,
          65.625,
          65.625,
          65.625,
          65.625,
          65.625,
          65.625,
          65.625,
          65.625,
          65.625,
          65.625,
          65.625,
          65.625,
          65.625,
          65.625,
          65.625,
          65.625,
          66.66666666666667,
          66.66666666666667,
          66.66666666666667,
          66.66666666666667,
          66.66666666666667,
          66.66666666666667,
          66.66666666666667,
          66.66666666666667,
          66.66666666666667,
          66.66666666666667,
          66.66666666666667,
          66.66666666666667,
          66.66666666666667,
          66.66666666666667,
          66.66666666666667,
          66.66666666666667,
          66.66666666666667,
          66.66666666666667,
          68.75,
          68.75,
          70.83333333333333,
          70.83333333333333,
          70.83333333333333,
          70.83333333333333,
          70.83333333333333,
          70.83333333333333,
          70.83333333333333,
          70.83333333333333,
          70.83333333333333,
          71.875,
          71.875,
          71.875,
          71.875,
          71.875,
          71.875,
          72.91666666666667,
          73.95833333333333,
          73.95833333333333,
          73.95833333333333,
          75,
          75,
          75,
          75,
          76.04166666666667,
          76.04166666666667,
          77.08333333333333,
          77.08333333333333,
          77.08333333333333,
          77.08333333333333,
          78.125,
          79.16666666666667,
          79.16666666666667,
          79.16666666666667,
          79.16666666666667,
          79.16666666666667,
          79.16666666666667,
          79.16666666666667,
          79.16666666666667,
          79.16666666666667,
          79.16666666666667,
          79.16666666666667,
          79.16666666666667,
          79.16666666666667,
          79.16666666666667,
          79.16666666666667,
          79.16666666666667,
          79.16666666666667,
          79.16666666666667,
          79.16666666666667,
          79.16666666666667,
          79.16666666666667,
          79.16666666666667,
          79.16666666666667,
          80.20833333333333,
          80.20833333333333,
          81.25,
          81.25,
          81.25,
          81.25,
          81.25,
          81.25,
          81.25,
          81.25,
          81.25,
          81.25,
          81.25,
          81.25,
          81.25,
          81.25,
          81.25,
          81.25,
          81.25,
          81.25,
          81.25,
          81.25,
          82.29166666666667,
          82.29166666666667,
          82.29166666666667,
          82.29166666666667,
          84.375,
          84.375,
          84.375,
          84.375,
          84.375,
          84.375,
          85.41666666666667,
          85.41666666666667,
          84.375,
          84.375,
          84.375,
          84.375,
          84.375,
          84.375,
          84.375,
          84.375,
          84.375,
          84.375,
          84.375,
          84.375
         ],
         "yaxis": "y"
        },
        {
         "fillpattern": {
          "shape": ""
         },
         "hovertemplate": "number of topics=2<br>threshold=%{x}<br>share of reviews, %=%{y}<extra></extra>",
         "legendgroup": "2",
         "line": {
          "color": "rgb(65,182,196)"
         },
         "marker": {
          "symbol": "circle"
         },
         "mode": "lines",
         "name": "2",
         "orientation": "v",
         "showlegend": true,
         "stackgroup": "1",
         "type": "scatter",
         "x": [
          0,
          0.001,
          0.002,
          0.003,
          0.004,
          0.005,
          0.006,
          0.007,
          0.008,
          0.009000000000000001,
          0.01,
          0.011,
          0.012,
          0.013000000000000001,
          0.014,
          0.015,
          0.016,
          0.017,
          0.018000000000000002,
          0.019,
          0.02,
          0.021,
          0.022,
          0.023,
          0.024,
          0.025,
          0.026000000000000002,
          0.027,
          0.028,
          0.029,
          0.03,
          0.031,
          0.032,
          0.033,
          0.034,
          0.035,
          0.036000000000000004,
          0.037,
          0.038,
          0.039,
          0.04,
          0.041,
          0.042,
          0.043000000000000003,
          0.044,
          0.045,
          0.046,
          0.047,
          0.048,
          0.049,
          0.05,
          0.051000000000000004,
          0.052000000000000005,
          0.053,
          0.054,
          0.055,
          0.056,
          0.057,
          0.058,
          0.059000000000000004,
          0.06,
          0.061,
          0.062,
          0.063,
          0.064,
          0.065,
          0.066,
          0.067,
          0.068,
          0.069,
          0.07,
          0.07100000000000001,
          0.07200000000000001,
          0.073,
          0.074,
          0.075,
          0.076,
          0.077,
          0.078,
          0.079,
          0.08,
          0.081,
          0.082,
          0.083,
          0.084,
          0.085,
          0.08600000000000001,
          0.08700000000000001,
          0.088,
          0.089,
          0.09,
          0.091,
          0.092,
          0.093,
          0.094,
          0.095,
          0.096,
          0.097,
          0.098,
          0.099,
          0.1,
          0.101,
          0.10200000000000001,
          0.10300000000000001,
          0.10400000000000001,
          0.105,
          0.106,
          0.107,
          0.108,
          0.109,
          0.11,
          0.111,
          0.112,
          0.113,
          0.114,
          0.115,
          0.116,
          0.117,
          0.11800000000000001,
          0.11900000000000001,
          0.12,
          0.121,
          0.122,
          0.123,
          0.124,
          0.125,
          0.126,
          0.127,
          0.128,
          0.129,
          0.13,
          0.131,
          0.132,
          0.133,
          0.134,
          0.135,
          0.136,
          0.137,
          0.138,
          0.139,
          0.14,
          0.14100000000000001,
          0.14200000000000002,
          0.14300000000000002,
          0.14400000000000002,
          0.145,
          0.146,
          0.147,
          0.148,
          0.149,
          0.15,
          0.151,
          0.152,
          0.153,
          0.154,
          0.155,
          0.156,
          0.157,
          0.158,
          0.159,
          0.16,
          0.161,
          0.162,
          0.163,
          0.164,
          0.165,
          0.166,
          0.167,
          0.168,
          0.169,
          0.17,
          0.171,
          0.17200000000000001,
          0.17300000000000001,
          0.17400000000000002,
          0.17500000000000002,
          0.176,
          0.177,
          0.178,
          0.179,
          0.18,
          0.181,
          0.182,
          0.183,
          0.184,
          0.185,
          0.186,
          0.187,
          0.188,
          0.189,
          0.19,
          0.191,
          0.192,
          0.193,
          0.194,
          0.195,
          0.196,
          0.197,
          0.198,
          0.199,
          0.2,
          0.201,
          0.202,
          0.203,
          0.20400000000000001,
          0.20500000000000002,
          0.20600000000000002,
          0.20700000000000002,
          0.20800000000000002,
          0.209,
          0.21,
          0.211,
          0.212,
          0.213,
          0.214,
          0.215,
          0.216,
          0.217,
          0.218,
          0.219,
          0.22,
          0.221,
          0.222,
          0.223,
          0.224,
          0.225,
          0.226,
          0.227,
          0.228,
          0.229,
          0.23,
          0.231,
          0.232,
          0.233,
          0.234,
          0.23500000000000001,
          0.23600000000000002,
          0.23700000000000002,
          0.23800000000000002,
          0.23900000000000002,
          0.24,
          0.241,
          0.242,
          0.243,
          0.244,
          0.245,
          0.246,
          0.247,
          0.248,
          0.249,
          0.25,
          0.251,
          0.252,
          0.253,
          0.254,
          0.255,
          0.256,
          0.257,
          0.258,
          0.259,
          0.26,
          0.261,
          0.262,
          0.263,
          0.264,
          0.265,
          0.266,
          0.267,
          0.268,
          0.269,
          0.27,
          0.271,
          0.272,
          0.273,
          0.274,
          0.275,
          0.276,
          0.277,
          0.278,
          0.279,
          0.28,
          0.281,
          0.28200000000000003,
          0.28300000000000003,
          0.28400000000000003,
          0.28500000000000003,
          0.28600000000000003,
          0.28700000000000003,
          0.28800000000000003,
          0.289,
          0.29,
          0.291,
          0.292,
          0.293,
          0.294,
          0.295,
          0.296,
          0.297,
          0.298,
          0.299,
          0.3,
          0.301,
          0.302,
          0.303,
          0.304,
          0.305,
          0.306,
          0.307,
          0.308,
          0.309,
          0.31,
          0.311,
          0.312,
          0.313,
          0.314,
          0.315,
          0.316,
          0.317,
          0.318,
          0.319,
          0.32,
          0.321,
          0.322,
          0.323,
          0.324,
          0.325,
          0.326,
          0.327,
          0.328,
          0.329,
          0.33,
          0.331,
          0.332,
          0.333,
          0.334,
          0.335,
          0.336,
          0.337,
          0.338,
          0.339,
          0.34,
          0.341,
          0.342,
          0.343,
          0.34400000000000003,
          0.34500000000000003,
          0.34600000000000003,
          0.34700000000000003,
          0.34800000000000003,
          0.34900000000000003
         ],
         "xaxis": "x",
         "y": [
          0,
          17.708333333333332,
          17.708333333333332,
          17.708333333333332,
          17.708333333333332,
          17.708333333333332,
          17.708333333333332,
          17.708333333333332,
          17.708333333333332,
          17.708333333333332,
          17.708333333333332,
          17.708333333333332,
          17.708333333333332,
          17.708333333333332,
          17.708333333333332,
          17.708333333333332,
          17.708333333333332,
          17.708333333333332,
          17.708333333333332,
          17.708333333333332,
          17.708333333333332,
          17.708333333333332,
          17.708333333333332,
          17.708333333333332,
          18.75,
          18.75,
          18.75,
          18.75,
          18.75,
          18.75,
          18.75,
          18.75,
          18.75,
          18.75,
          18.75,
          18.75,
          18.75,
          18.75,
          18.75,
          18.75,
          18.75,
          18.75,
          18.75,
          19.791666666666668,
          19.791666666666668,
          19.791666666666668,
          19.791666666666668,
          19.791666666666668,
          19.791666666666668,
          19.791666666666668,
          20.833333333333332,
          20.833333333333332,
          20.833333333333332,
          20.833333333333332,
          20.833333333333332,
          20.833333333333332,
          20.833333333333332,
          20.833333333333332,
          19.791666666666668,
          19.791666666666668,
          19.791666666666668,
          19.791666666666668,
          19.791666666666668,
          19.791666666666668,
          20.833333333333332,
          19.791666666666668,
          19.791666666666668,
          18.75,
          19.791666666666668,
          19.791666666666668,
          19.791666666666668,
          19.791666666666668,
          19.791666666666668,
          19.791666666666668,
          19.791666666666668,
          19.791666666666668,
          19.791666666666668,
          19.791666666666668,
          20.833333333333332,
          20.833333333333332,
          19.791666666666668,
          19.791666666666668,
          19.791666666666668,
          19.791666666666668,
          20.833333333333332,
          20.833333333333332,
          20.833333333333332,
          20.833333333333332,
          21.875,
          21.875,
          21.875,
          21.875,
          21.875,
          23.958333333333332,
          23.958333333333332,
          25,
          25,
          23.958333333333332,
          25,
          23.958333333333332,
          23.958333333333332,
          23.958333333333332,
          23.958333333333332,
          25,
          25,
          26.041666666666668,
          26.041666666666668,
          26.041666666666668,
          26.041666666666668,
          26.041666666666668,
          26.041666666666668,
          25,
          25,
          25,
          25,
          25,
          26.041666666666668,
          26.041666666666668,
          26.041666666666668,
          27.083333333333332,
          28.125,
          28.125,
          28.125,
          27.083333333333332,
          27.083333333333332,
          27.083333333333332,
          27.083333333333332,
          29.166666666666668,
          29.166666666666668,
          29.166666666666668,
          30.208333333333332,
          30.208333333333332,
          30.208333333333332,
          30.208333333333332,
          30.208333333333332,
          30.208333333333332,
          31.25,
          31.25,
          32.291666666666664,
          32.291666666666664,
          33.333333333333336,
          34.375,
          33.333333333333336,
          33.333333333333336,
          34.375,
          34.375,
          33.333333333333336,
          33.333333333333336,
          34.375,
          32.291666666666664,
          31.25,
          31.25,
          30.208333333333332,
          29.166666666666668,
          27.083333333333332,
          27.083333333333332,
          26.041666666666668,
          26.041666666666668,
          26.041666666666668,
          25,
          25,
          25,
          26.041666666666668,
          27.083333333333332,
          27.083333333333332,
          27.083333333333332,
          28.125,
          28.125,
          26.041666666666668,
          26.041666666666668,
          27.083333333333332,
          26.041666666666668,
          26.041666666666668,
          26.041666666666668,
          26.041666666666668,
          26.041666666666668,
          27.083333333333332,
          26.041666666666668,
          26.041666666666668,
          25,
          26.041666666666668,
          26.041666666666668,
          26.041666666666668,
          26.041666666666668,
          26.041666666666668,
          26.041666666666668,
          26.041666666666668,
          26.041666666666668,
          26.041666666666668,
          26.041666666666668,
          26.041666666666668,
          28.125,
          29.166666666666668,
          29.166666666666668,
          29.166666666666668,
          29.166666666666668,
          29.166666666666668,
          29.166666666666668,
          29.166666666666668,
          28.125,
          27.083333333333332,
          27.083333333333332,
          28.125,
          28.125,
          28.125,
          27.083333333333332,
          27.083333333333332,
          27.083333333333332,
          27.083333333333332,
          27.083333333333332,
          27.083333333333332,
          27.083333333333332,
          27.083333333333332,
          27.083333333333332,
          27.083333333333332,
          27.083333333333332,
          27.083333333333332,
          27.083333333333332,
          27.083333333333332,
          27.083333333333332,
          27.083333333333332,
          27.083333333333332,
          27.083333333333332,
          27.083333333333332,
          27.083333333333332,
          27.083333333333332,
          27.083333333333332,
          27.083333333333332,
          27.083333333333332,
          27.083333333333332,
          27.083333333333332,
          26.041666666666668,
          26.041666666666668,
          26.041666666666668,
          26.041666666666668,
          26.041666666666668,
          26.041666666666668,
          26.041666666666668,
          26.041666666666668,
          26.041666666666668,
          26.041666666666668,
          26.041666666666668,
          26.041666666666668,
          26.041666666666668,
          26.041666666666668,
          26.041666666666668,
          26.041666666666668,
          26.041666666666668,
          26.041666666666668,
          23.958333333333332,
          23.958333333333332,
          21.875,
          21.875,
          21.875,
          21.875,
          21.875,
          21.875,
          21.875,
          21.875,
          21.875,
          20.833333333333332,
          20.833333333333332,
          20.833333333333332,
          20.833333333333332,
          20.833333333333332,
          20.833333333333332,
          19.791666666666668,
          18.75,
          18.75,
          18.75,
          17.708333333333332,
          17.708333333333332,
          17.708333333333332,
          17.708333333333332,
          16.666666666666668,
          16.666666666666668,
          15.625,
          15.625,
          16.666666666666668,
          16.666666666666668,
          15.625,
          14.583333333333334,
          14.583333333333334,
          14.583333333333334,
          14.583333333333334,
          14.583333333333334,
          14.583333333333334,
          14.583333333333334,
          14.583333333333334,
          14.583333333333334,
          14.583333333333334,
          14.583333333333334,
          14.583333333333334,
          14.583333333333334,
          14.583333333333334,
          14.583333333333334,
          14.583333333333334,
          14.583333333333334,
          14.583333333333334,
          14.583333333333334,
          14.583333333333334,
          14.583333333333334,
          14.583333333333334,
          14.583333333333334,
          13.541666666666666,
          13.541666666666666,
          12.5,
          12.5,
          12.5,
          12.5,
          12.5,
          12.5,
          12.5,
          12.5,
          12.5,
          12.5,
          12.5,
          12.5,
          12.5,
          12.5,
          12.5,
          12.5,
          12.5,
          12.5,
          12.5,
          12.5,
          11.458333333333334,
          11.458333333333334,
          11.458333333333334,
          11.458333333333334,
          9.375,
          9.375,
          9.375,
          9.375,
          9.375,
          9.375,
          8.333333333333334,
          8.333333333333334,
          8.333333333333334,
          8.333333333333334,
          8.333333333333334,
          8.333333333333334,
          8.333333333333334,
          8.333333333333334,
          8.333333333333334,
          8.333333333333334,
          8.333333333333334,
          8.333333333333334,
          8.333333333333334,
          8.333333333333334
         ],
         "yaxis": "y"
        },
        {
         "fillpattern": {
          "shape": ""
         },
         "hovertemplate": "number of topics=3<br>threshold=%{x}<br>share of reviews, %=%{y}<extra></extra>",
         "legendgroup": "3",
         "line": {
          "color": "rgb(29,145,192)"
         },
         "marker": {
          "symbol": "circle"
         },
         "mode": "lines",
         "name": "3",
         "orientation": "v",
         "showlegend": true,
         "stackgroup": "1",
         "type": "scatter",
         "x": [
          0,
          0.001,
          0.002,
          0.003,
          0.004,
          0.005,
          0.006,
          0.007,
          0.008,
          0.009000000000000001,
          0.01,
          0.011,
          0.012,
          0.013000000000000001,
          0.014,
          0.015,
          0.016,
          0.017,
          0.018000000000000002,
          0.019,
          0.02,
          0.021,
          0.022,
          0.023,
          0.024,
          0.025,
          0.026000000000000002,
          0.027,
          0.028,
          0.029,
          0.03,
          0.031,
          0.032,
          0.033,
          0.034,
          0.035,
          0.036000000000000004,
          0.037,
          0.038,
          0.039,
          0.04,
          0.041,
          0.042,
          0.043000000000000003,
          0.044,
          0.045,
          0.046,
          0.047,
          0.048,
          0.049,
          0.05,
          0.051000000000000004,
          0.052000000000000005,
          0.053,
          0.054,
          0.055,
          0.056,
          0.057,
          0.058,
          0.059000000000000004,
          0.06,
          0.061,
          0.062,
          0.063,
          0.064,
          0.065,
          0.066,
          0.067,
          0.068,
          0.069,
          0.07,
          0.07100000000000001,
          0.07200000000000001,
          0.073,
          0.074,
          0.075,
          0.076,
          0.077,
          0.078,
          0.079,
          0.08,
          0.081,
          0.082,
          0.083,
          0.084,
          0.085,
          0.08600000000000001,
          0.08700000000000001,
          0.088,
          0.089,
          0.09,
          0.091,
          0.092,
          0.093,
          0.094,
          0.095,
          0.096,
          0.097,
          0.098,
          0.099,
          0.1,
          0.101,
          0.10200000000000001,
          0.10300000000000001,
          0.10400000000000001,
          0.105,
          0.106,
          0.107,
          0.108,
          0.109,
          0.11,
          0.111,
          0.112,
          0.113,
          0.114,
          0.115,
          0.116,
          0.117,
          0.11800000000000001,
          0.11900000000000001,
          0.12,
          0.121,
          0.122,
          0.123,
          0.124,
          0.125,
          0.126,
          0.127,
          0.128,
          0.129,
          0.13,
          0.131,
          0.132,
          0.133,
          0.134,
          0.135,
          0.136,
          0.137,
          0.138,
          0.139,
          0.14,
          0.14100000000000001,
          0.14200000000000002,
          0.14300000000000002,
          0.14400000000000002,
          0.145,
          0.146,
          0.147,
          0.148,
          0.149,
          0.15,
          0.151,
          0.152,
          0.153,
          0.154,
          0.155,
          0.156,
          0.157,
          0.158,
          0.159,
          0.16,
          0.161,
          0.162,
          0.163,
          0.164,
          0.165,
          0.166,
          0.167,
          0.168,
          0.169,
          0.17,
          0.171,
          0.17200000000000001,
          0.17300000000000001,
          0.17400000000000002,
          0.17500000000000002,
          0.176,
          0.177,
          0.178,
          0.179,
          0.18,
          0.181,
          0.182,
          0.183,
          0.184,
          0.185,
          0.186,
          0.187,
          0.188,
          0.189,
          0.19,
          0.191,
          0.192,
          0.193,
          0.194,
          0.195,
          0.196,
          0.197,
          0.198,
          0.199,
          0.2,
          0.201,
          0.202,
          0.203,
          0.20400000000000001,
          0.20500000000000002,
          0.20600000000000002,
          0.20700000000000002,
          0.20800000000000002,
          0.209,
          0.21,
          0.211,
          0.212,
          0.213,
          0.214,
          0.215,
          0.216,
          0.217,
          0.218,
          0.219,
          0.22,
          0.221,
          0.222,
          0.223,
          0.224,
          0.225,
          0.226,
          0.227,
          0.228,
          0.229,
          0.23,
          0.231,
          0.232,
          0.233,
          0.234,
          0.23500000000000001,
          0.23600000000000002,
          0.23700000000000002,
          0.23800000000000002,
          0.23900000000000002,
          0.24,
          0.241,
          0.242,
          0.243,
          0.244,
          0.245,
          0.246,
          0.247,
          0.248,
          0.249,
          0.25,
          0.251,
          0.252,
          0.253,
          0.254,
          0.255,
          0.256,
          0.257,
          0.258,
          0.259,
          0.26,
          0.261,
          0.262,
          0.263,
          0.264,
          0.265,
          0.266,
          0.267,
          0.268,
          0.269,
          0.27,
          0.271,
          0.272,
          0.273,
          0.274,
          0.275,
          0.276,
          0.277,
          0.278,
          0.279,
          0.28,
          0.281,
          0.28200000000000003,
          0.28300000000000003,
          0.28400000000000003,
          0.28500000000000003,
          0.28600000000000003,
          0.28700000000000003,
          0.28800000000000003,
          0.289,
          0.29,
          0.291,
          0.292,
          0.293,
          0.294,
          0.295,
          0.296,
          0.297,
          0.298,
          0.299,
          0.3,
          0.301,
          0.302,
          0.303,
          0.304,
          0.305,
          0.306,
          0.307,
          0.308,
          0.309,
          0.31,
          0.311,
          0.312,
          0.313,
          0.314,
          0.315,
          0.316,
          0.317,
          0.318,
          0.319,
          0.32,
          0.321,
          0.322,
          0.323,
          0.324,
          0.325,
          0.326,
          0.327,
          0.328,
          0.329,
          0.33,
          0.331,
          0.332,
          0.333,
          0.334,
          0.335,
          0.336,
          0.337,
          0.338,
          0.339,
          0.34,
          0.341,
          0.342,
          0.343,
          0.34400000000000003,
          0.34500000000000003,
          0.34600000000000003,
          0.34700000000000003,
          0.34800000000000003,
          0.34900000000000003
         ],
         "xaxis": "x",
         "y": [
          0,
          17.708333333333332,
          17.708333333333332,
          17.708333333333332,
          17.708333333333332,
          17.708333333333332,
          17.708333333333332,
          17.708333333333332,
          17.708333333333332,
          17.708333333333332,
          17.708333333333332,
          17.708333333333332,
          17.708333333333332,
          17.708333333333332,
          17.708333333333332,
          17.708333333333332,
          17.708333333333332,
          17.708333333333332,
          17.708333333333332,
          17.708333333333332,
          17.708333333333332,
          17.708333333333332,
          17.708333333333332,
          17.708333333333332,
          16.666666666666668,
          16.666666666666668,
          16.666666666666668,
          16.666666666666668,
          16.666666666666668,
          17.708333333333332,
          17.708333333333332,
          17.708333333333332,
          17.708333333333332,
          17.708333333333332,
          17.708333333333332,
          17.708333333333332,
          17.708333333333332,
          17.708333333333332,
          17.708333333333332,
          17.708333333333332,
          19.791666666666668,
          20.833333333333332,
          20.833333333333332,
          19.791666666666668,
          19.791666666666668,
          19.791666666666668,
          19.791666666666668,
          20.833333333333332,
          20.833333333333332,
          20.833333333333332,
          19.791666666666668,
          19.791666666666668,
          19.791666666666668,
          19.791666666666668,
          20.833333333333332,
          20.833333333333332,
          20.833333333333332,
          20.833333333333332,
          21.875,
          21.875,
          21.875,
          21.875,
          21.875,
          21.875,
          20.833333333333332,
          21.875,
          21.875,
          21.875,
          20.833333333333332,
          21.875,
          21.875,
          22.916666666666668,
          22.916666666666668,
          22.916666666666668,
          22.916666666666668,
          22.916666666666668,
          22.916666666666668,
          22.916666666666668,
          21.875,
          21.875,
          21.875,
          22.916666666666668,
          22.916666666666668,
          22.916666666666668,
          21.875,
          23.958333333333332,
          23.958333333333332,
          23.958333333333332,
          22.916666666666668,
          23.958333333333332,
          23.958333333333332,
          25,
          25,
          22.916666666666668,
          22.916666666666668,
          21.875,
          21.875,
          22.916666666666668,
          21.875,
          22.916666666666668,
          23.958333333333332,
          23.958333333333332,
          23.958333333333332,
          22.916666666666668,
          22.916666666666668,
          21.875,
          21.875,
          21.875,
          21.875,
          22.916666666666668,
          22.916666666666668,
          22.916666666666668,
          23.958333333333332,
          23.958333333333332,
          23.958333333333332,
          23.958333333333332,
          22.916666666666668,
          22.916666666666668,
          23.958333333333332,
          22.916666666666668,
          22.916666666666668,
          22.916666666666668,
          22.916666666666668,
          22.916666666666668,
          23.958333333333332,
          23.958333333333332,
          23.958333333333332,
          21.875,
          21.875,
          21.875,
          21.875,
          21.875,
          21.875,
          21.875,
          21.875,
          21.875,
          20.833333333333332,
          20.833333333333332,
          19.791666666666668,
          19.791666666666668,
          18.75,
          16.666666666666668,
          16.666666666666668,
          16.666666666666668,
          15.625,
          15.625,
          15.625,
          15.625,
          14.583333333333334,
          14.583333333333334,
          15.625,
          16.666666666666668,
          16.666666666666668,
          16.666666666666668,
          16.666666666666668,
          16.666666666666668,
          16.666666666666668,
          15.625,
          15.625,
          15.625,
          14.583333333333334,
          14.583333333333334,
          13.541666666666666,
          12.5,
          12.5,
          12.5,
          11.458333333333334,
          11.458333333333334,
          11.458333333333334,
          10.416666666666666,
          8.333333333333334,
          8.333333333333334,
          8.333333333333334,
          8.333333333333334,
          8.333333333333334,
          8.333333333333334,
          7.291666666666667,
          7.291666666666667,
          7.291666666666667,
          7.291666666666667,
          6.25,
          6.25,
          6.25,
          6.25,
          6.25,
          6.25,
          6.25,
          6.25,
          6.25,
          6.25,
          6.25,
          4.166666666666667,
          3.125,
          3.125,
          3.125,
          2.0833333333333335,
          2.0833333333333335,
          2.0833333333333335,
          2.0833333333333335,
          2.0833333333333335,
          2.0833333333333335,
          2.0833333333333335,
          1.0416666666666667,
          1.0416666666666667,
          1.0416666666666667,
          1.0416666666666667,
          1.0416666666666667,
          1.0416666666666667,
          1.0416666666666667,
          1.0416666666666667,
          1.0416666666666667,
          1.0416666666666667,
          1.0416666666666667,
          1.0416666666666667,
          1.0416666666666667,
          1.0416666666666667,
          1.0416666666666667,
          1.0416666666666667,
          1.0416666666666667,
          1.0416666666666667,
          1.0416666666666667,
          1.0416666666666667,
          1.0416666666666667,
          1.0416666666666667,
          1.0416666666666667,
          1.0416666666666667,
          1.0416666666666667,
          1.0416666666666667,
          1.0416666666666667,
          1.0416666666666667,
          1.0416666666666667,
          1.0416666666666667,
          1.0416666666666667,
          1.0416666666666667,
          1.0416666666666667,
          1.0416666666666667,
          1.0416666666666667,
          1.0416666666666667,
          1.0416666666666667,
          1.0416666666666667,
          1.0416666666666667,
          1.0416666666666667,
          1.0416666666666667,
          1.0416666666666667,
          1.0416666666666667,
          1.0416666666666667,
          1.0416666666666667,
          1.0416666666666667,
          1.0416666666666667,
          1.0416666666666667,
          1.0416666666666667,
          1.0416666666666667,
          1.0416666666666667,
          1.0416666666666667,
          1.0416666666666667,
          1.0416666666666667,
          1.0416666666666667,
          1.0416666666666667,
          1.0416666666666667,
          1.0416666666666667,
          1.0416666666666667,
          1.0416666666666667,
          1.0416666666666667,
          1.0416666666666667,
          1.0416666666666667,
          1.0416666666666667,
          1.0416666666666667,
          1.0416666666666667,
          1.0416666666666667,
          1.0416666666666667,
          1.0416666666666667,
          1.0416666666666667,
          1.0416666666666667,
          1.0416666666666667,
          1.0416666666666667,
          1.0416666666666667,
          1.0416666666666667,
          1.0416666666666667,
          0,
          0,
          0,
          0,
          0,
          0,
          0,
          0,
          0,
          0,
          0,
          0,
          0,
          0,
          0,
          0,
          0,
          0,
          0,
          0,
          0,
          0,
          0,
          0,
          0,
          0,
          0,
          0,
          0,
          0,
          0,
          0,
          0,
          0,
          0,
          0,
          0,
          0,
          0,
          0,
          0,
          0,
          0,
          0,
          0,
          0,
          0,
          0,
          0,
          0,
          0,
          0,
          0,
          0,
          0,
          0,
          0,
          0,
          0,
          0,
          0,
          0,
          0,
          0,
          0,
          0,
          0,
          0,
          0,
          0,
          0,
          0
         ],
         "yaxis": "y"
        },
        {
         "fillpattern": {
          "shape": ""
         },
         "hovertemplate": "number of topics=4<br>threshold=%{x}<br>share of reviews, %=%{y}<extra></extra>",
         "legendgroup": "4",
         "line": {
          "color": "rgb(34,94,168)"
         },
         "marker": {
          "symbol": "circle"
         },
         "mode": "lines",
         "name": "4",
         "orientation": "v",
         "showlegend": true,
         "stackgroup": "1",
         "type": "scatter",
         "x": [
          0,
          0.001,
          0.002,
          0.003,
          0.004,
          0.005,
          0.006,
          0.007,
          0.008,
          0.009000000000000001,
          0.01,
          0.011,
          0.012,
          0.013000000000000001,
          0.014,
          0.015,
          0.016,
          0.017,
          0.018000000000000002,
          0.019,
          0.02,
          0.021,
          0.022,
          0.023,
          0.024,
          0.025,
          0.026000000000000002,
          0.027,
          0.028,
          0.029,
          0.03,
          0.031,
          0.032,
          0.033,
          0.034,
          0.035,
          0.036000000000000004,
          0.037,
          0.038,
          0.039,
          0.04,
          0.041,
          0.042,
          0.043000000000000003,
          0.044,
          0.045,
          0.046,
          0.047,
          0.048,
          0.049,
          0.05,
          0.051000000000000004,
          0.052000000000000005,
          0.053,
          0.054,
          0.055,
          0.056,
          0.057,
          0.058,
          0.059000000000000004,
          0.06,
          0.061,
          0.062,
          0.063,
          0.064,
          0.065,
          0.066,
          0.067,
          0.068,
          0.069,
          0.07,
          0.07100000000000001,
          0.07200000000000001,
          0.073,
          0.074,
          0.075,
          0.076,
          0.077,
          0.078,
          0.079,
          0.08,
          0.081,
          0.082,
          0.083,
          0.084,
          0.085,
          0.08600000000000001,
          0.08700000000000001,
          0.088,
          0.089,
          0.09,
          0.091,
          0.092,
          0.093,
          0.094,
          0.095,
          0.096,
          0.097,
          0.098,
          0.099,
          0.1,
          0.101,
          0.10200000000000001,
          0.10300000000000001,
          0.10400000000000001,
          0.105,
          0.106,
          0.107,
          0.108,
          0.109,
          0.11,
          0.111,
          0.112,
          0.113,
          0.114,
          0.115,
          0.116,
          0.117,
          0.11800000000000001,
          0.11900000000000001,
          0.12,
          0.121,
          0.122,
          0.123,
          0.124,
          0.125,
          0.126,
          0.127,
          0.128,
          0.129,
          0.13,
          0.131,
          0.132,
          0.133,
          0.134,
          0.135,
          0.136,
          0.137,
          0.138,
          0.139,
          0.14,
          0.14100000000000001,
          0.14200000000000002,
          0.14300000000000002,
          0.14400000000000002,
          0.145,
          0.146,
          0.147,
          0.148,
          0.149,
          0.15,
          0.151,
          0.152,
          0.153,
          0.154,
          0.155,
          0.156,
          0.157,
          0.158,
          0.159,
          0.16,
          0.161,
          0.162,
          0.163,
          0.164,
          0.165,
          0.166,
          0.167,
          0.168,
          0.169,
          0.17,
          0.171,
          0.17200000000000001,
          0.17300000000000001,
          0.17400000000000002,
          0.17500000000000002,
          0.176,
          0.177,
          0.178,
          0.179,
          0.18,
          0.181,
          0.182,
          0.183,
          0.184,
          0.185,
          0.186,
          0.187,
          0.188,
          0.189,
          0.19,
          0.191,
          0.192,
          0.193,
          0.194,
          0.195,
          0.196,
          0.197,
          0.198,
          0.199,
          0.2,
          0.201,
          0.202,
          0.203,
          0.20400000000000001,
          0.20500000000000002,
          0.20600000000000002,
          0.20700000000000002,
          0.20800000000000002,
          0.209,
          0.21,
          0.211,
          0.212,
          0.213,
          0.214,
          0.215,
          0.216,
          0.217,
          0.218,
          0.219,
          0.22,
          0.221,
          0.222,
          0.223,
          0.224,
          0.225,
          0.226,
          0.227,
          0.228,
          0.229,
          0.23,
          0.231,
          0.232,
          0.233,
          0.234,
          0.23500000000000001,
          0.23600000000000002,
          0.23700000000000002,
          0.23800000000000002,
          0.23900000000000002,
          0.24,
          0.241,
          0.242,
          0.243,
          0.244,
          0.245,
          0.246,
          0.247,
          0.248,
          0.249,
          0.25,
          0.251,
          0.252,
          0.253,
          0.254,
          0.255,
          0.256,
          0.257,
          0.258,
          0.259,
          0.26,
          0.261,
          0.262,
          0.263,
          0.264,
          0.265,
          0.266,
          0.267,
          0.268,
          0.269,
          0.27,
          0.271,
          0.272,
          0.273,
          0.274,
          0.275,
          0.276,
          0.277,
          0.278,
          0.279,
          0.28,
          0.281,
          0.28200000000000003,
          0.28300000000000003,
          0.28400000000000003,
          0.28500000000000003,
          0.28600000000000003,
          0.28700000000000003,
          0.28800000000000003,
          0.289,
          0.29,
          0.291,
          0.292,
          0.293,
          0.294,
          0.295,
          0.296,
          0.297,
          0.298,
          0.299,
          0.3,
          0.301,
          0.302,
          0.303,
          0.304,
          0.305,
          0.306,
          0.307,
          0.308,
          0.309,
          0.31,
          0.311,
          0.312,
          0.313,
          0.314,
          0.315,
          0.316,
          0.317,
          0.318,
          0.319,
          0.32,
          0.321,
          0.322,
          0.323,
          0.324,
          0.325,
          0.326,
          0.327,
          0.328,
          0.329,
          0.33,
          0.331,
          0.332,
          0.333,
          0.334,
          0.335,
          0.336,
          0.337,
          0.338,
          0.339,
          0.34,
          0.341,
          0.342,
          0.343,
          0.34400000000000003,
          0.34500000000000003,
          0.34600000000000003,
          0.34700000000000003,
          0.34800000000000003,
          0.34900000000000003
         ],
         "xaxis": "x",
         "y": [
          0,
          7.291666666666667,
          7.291666666666667,
          7.291666666666667,
          7.291666666666667,
          7.291666666666667,
          7.291666666666667,
          7.291666666666667,
          7.291666666666667,
          7.291666666666667,
          7.291666666666667,
          8.333333333333334,
          8.333333333333334,
          8.333333333333334,
          8.333333333333334,
          8.333333333333334,
          8.333333333333334,
          8.333333333333334,
          9.375,
          9.375,
          9.375,
          9.375,
          9.375,
          9.375,
          9.375,
          10.416666666666666,
          10.416666666666666,
          10.416666666666666,
          10.416666666666666,
          10.416666666666666,
          10.416666666666666,
          12.5,
          12.5,
          13.541666666666666,
          13.541666666666666,
          13.541666666666666,
          14.583333333333334,
          14.583333333333334,
          14.583333333333334,
          14.583333333333334,
          12.5,
          11.458333333333334,
          11.458333333333334,
          11.458333333333334,
          11.458333333333334,
          11.458333333333334,
          11.458333333333334,
          10.416666666666666,
          10.416666666666666,
          12.5,
          12.5,
          12.5,
          12.5,
          12.5,
          11.458333333333334,
          11.458333333333334,
          11.458333333333334,
          11.458333333333334,
          10.416666666666666,
          11.458333333333334,
          11.458333333333334,
          11.458333333333334,
          11.458333333333334,
          11.458333333333334,
          11.458333333333334,
          10.416666666666666,
          10.416666666666666,
          10.416666666666666,
          10.416666666666666,
          9.375,
          10.416666666666666,
          9.375,
          9.375,
          9.375,
          9.375,
          11.458333333333334,
          11.458333333333334,
          11.458333333333334,
          11.458333333333334,
          11.458333333333334,
          11.458333333333334,
          11.458333333333334,
          11.458333333333334,
          11.458333333333334,
          11.458333333333334,
          9.375,
          9.375,
          9.375,
          9.375,
          8.333333333333334,
          8.333333333333334,
          8.333333333333334,
          8.333333333333334,
          8.333333333333334,
          8.333333333333334,
          8.333333333333334,
          8.333333333333334,
          7.291666666666667,
          7.291666666666667,
          6.25,
          5.208333333333333,
          5.208333333333333,
          7.291666666666667,
          7.291666666666667,
          7.291666666666667,
          7.291666666666667,
          7.291666666666667,
          7.291666666666667,
          7.291666666666667,
          6.25,
          6.25,
          6.25,
          5.208333333333333,
          5.208333333333333,
          5.208333333333333,
          5.208333333333333,
          5.208333333333333,
          5.208333333333333,
          4.166666666666667,
          4.166666666666667,
          3.125,
          3.125,
          3.125,
          3.125,
          2.0833333333333335,
          2.0833333333333335,
          2.0833333333333335,
          2.0833333333333335,
          2.0833333333333335,
          2.0833333333333335,
          2.0833333333333335,
          2.0833333333333335,
          2.0833333333333335,
          2.0833333333333335,
          2.0833333333333335,
          2.0833333333333335,
          2.0833333333333335,
          2.0833333333333335,
          2.0833333333333335,
          2.0833333333333335,
          2.0833333333333335,
          2.0833333333333335,
          2.0833333333333335,
          2.0833333333333335,
          2.0833333333333335,
          2.0833333333333335,
          2.0833333333333335,
          2.0833333333333335,
          2.0833333333333335,
          2.0833333333333335,
          1.0416666666666667,
          0,
          0,
          0,
          0,
          0,
          0,
          0,
          0,
          0,
          0,
          0,
          0,
          0,
          0,
          0,
          0,
          0,
          0,
          0,
          0,
          0,
          0,
          0,
          0,
          0,
          0,
          0,
          0,
          0,
          0,
          0,
          0,
          0,
          0,
          0,
          0,
          0,
          0,
          0,
          0,
          0,
          0,
          0,
          0,
          0,
          0,
          0,
          0,
          0,
          0,
          0,
          0,
          0,
          0,
          0,
          0,
          0,
          0,
          0,
          0,
          0,
          0,
          0,
          0,
          0,
          0,
          0,
          0,
          0,
          0,
          0,
          0,
          0,
          0,
          0,
          0,
          0,
          0,
          0,
          0,
          0,
          0,
          0,
          0,
          0,
          0,
          0,
          0,
          0,
          0,
          0,
          0,
          0,
          0,
          0,
          0,
          0,
          0,
          0,
          0,
          0,
          0,
          0,
          0,
          0,
          0,
          0,
          0,
          0,
          0,
          0,
          0,
          0,
          0,
          0,
          0,
          0,
          0,
          0,
          0,
          0,
          0,
          0,
          0,
          0,
          0,
          0,
          0,
          0,
          0,
          0,
          0,
          0,
          0,
          0,
          0,
          0,
          0,
          0,
          0,
          0,
          0,
          0,
          0,
          0,
          0,
          0,
          0,
          0,
          0,
          0,
          0,
          0,
          0,
          0,
          0,
          0,
          0,
          0,
          0,
          0,
          0,
          0,
          0,
          0,
          0,
          0,
          0,
          0,
          0,
          0,
          0,
          0,
          0,
          0,
          0,
          0,
          0,
          0,
          0,
          0,
          0,
          0,
          0,
          0,
          0,
          0,
          0,
          0,
          0,
          0,
          0,
          0,
          0,
          0,
          0,
          0,
          0,
          0
         ],
         "yaxis": "y"
        },
        {
         "fillpattern": {
          "shape": ""
         },
         "hovertemplate": "number of topics=5+<br>threshold=%{x}<br>share of reviews, %=%{y}<extra></extra>",
         "legendgroup": "5+",
         "line": {
          "color": "rgb(37,52,148)"
         },
         "marker": {
          "symbol": "circle"
         },
         "mode": "lines",
         "name": "5+",
         "orientation": "v",
         "showlegend": true,
         "stackgroup": "1",
         "type": "scatter",
         "x": [
          0,
          0.001,
          0.002,
          0.003,
          0.004,
          0.005,
          0.006,
          0.007,
          0.008,
          0.009000000000000001,
          0.01,
          0.011,
          0.012,
          0.013000000000000001,
          0.014,
          0.015,
          0.016,
          0.017,
          0.018000000000000002,
          0.019,
          0.02,
          0.021,
          0.022,
          0.023,
          0.024,
          0.025,
          0.026000000000000002,
          0.027,
          0.028,
          0.029,
          0.03,
          0.031,
          0.032,
          0.033,
          0.034,
          0.035,
          0.036000000000000004,
          0.037,
          0.038,
          0.039,
          0.04,
          0.041,
          0.042,
          0.043000000000000003,
          0.044,
          0.045,
          0.046,
          0.047,
          0.048,
          0.049,
          0.05,
          0.051000000000000004,
          0.052000000000000005,
          0.053,
          0.054,
          0.055,
          0.056,
          0.057,
          0.058,
          0.059000000000000004,
          0.06,
          0.061,
          0.062,
          0.063,
          0.064,
          0.065,
          0.066,
          0.067,
          0.068,
          0.069,
          0.07,
          0.07100000000000001,
          0.07200000000000001,
          0.073,
          0.074,
          0.075,
          0.076,
          0.077,
          0.078,
          0.079,
          0.08,
          0.081,
          0.082,
          0.083,
          0.084,
          0.085,
          0.08600000000000001,
          0.08700000000000001,
          0.088,
          0.089,
          0.09,
          0.091,
          0.092,
          0.093,
          0.094,
          0.095,
          0.096,
          0.097,
          0.098,
          0.099,
          0.1,
          0.101,
          0.10200000000000001,
          0.10300000000000001,
          0.10400000000000001,
          0.105,
          0.106,
          0.107,
          0.108,
          0.109,
          0.11,
          0.111,
          0.112,
          0.113,
          0.114,
          0.115,
          0.116,
          0.117,
          0.11800000000000001,
          0.11900000000000001,
          0.12,
          0.121,
          0.122,
          0.123,
          0.124,
          0.125,
          0.126,
          0.127,
          0.128,
          0.129,
          0.13,
          0.131,
          0.132,
          0.133,
          0.134,
          0.135,
          0.136,
          0.137,
          0.138,
          0.139,
          0.14,
          0.14100000000000001,
          0.14200000000000002,
          0.14300000000000002,
          0.14400000000000002,
          0.145,
          0.146,
          0.147,
          0.148,
          0.149,
          0.15,
          0.151,
          0.152,
          0.153,
          0.154,
          0.155,
          0.156,
          0.157,
          0.158,
          0.159,
          0.16,
          0.161,
          0.162,
          0.163,
          0.164,
          0.165,
          0.166,
          0.167,
          0.168,
          0.169,
          0.17,
          0.171,
          0.17200000000000001,
          0.17300000000000001,
          0.17400000000000002,
          0.17500000000000002,
          0.176,
          0.177,
          0.178,
          0.179,
          0.18,
          0.181,
          0.182,
          0.183,
          0.184,
          0.185,
          0.186,
          0.187,
          0.188,
          0.189,
          0.19,
          0.191,
          0.192,
          0.193,
          0.194,
          0.195,
          0.196,
          0.197,
          0.198,
          0.199,
          0.2,
          0.201,
          0.202,
          0.203,
          0.20400000000000001,
          0.20500000000000002,
          0.20600000000000002,
          0.20700000000000002,
          0.20800000000000002,
          0.209,
          0.21,
          0.211,
          0.212,
          0.213,
          0.214,
          0.215,
          0.216,
          0.217,
          0.218,
          0.219,
          0.22,
          0.221,
          0.222,
          0.223,
          0.224,
          0.225,
          0.226,
          0.227,
          0.228,
          0.229,
          0.23,
          0.231,
          0.232,
          0.233,
          0.234,
          0.23500000000000001,
          0.23600000000000002,
          0.23700000000000002,
          0.23800000000000002,
          0.23900000000000002,
          0.24,
          0.241,
          0.242,
          0.243,
          0.244,
          0.245,
          0.246,
          0.247,
          0.248,
          0.249,
          0.25,
          0.251,
          0.252,
          0.253,
          0.254,
          0.255,
          0.256,
          0.257,
          0.258,
          0.259,
          0.26,
          0.261,
          0.262,
          0.263,
          0.264,
          0.265,
          0.266,
          0.267,
          0.268,
          0.269,
          0.27,
          0.271,
          0.272,
          0.273,
          0.274,
          0.275,
          0.276,
          0.277,
          0.278,
          0.279,
          0.28,
          0.281,
          0.28200000000000003,
          0.28300000000000003,
          0.28400000000000003,
          0.28500000000000003,
          0.28600000000000003,
          0.28700000000000003,
          0.28800000000000003,
          0.289,
          0.29,
          0.291,
          0.292,
          0.293,
          0.294,
          0.295,
          0.296,
          0.297,
          0.298,
          0.299,
          0.3,
          0.301,
          0.302,
          0.303,
          0.304,
          0.305,
          0.306,
          0.307,
          0.308,
          0.309,
          0.31,
          0.311,
          0.312,
          0.313,
          0.314,
          0.315,
          0.316,
          0.317,
          0.318,
          0.319,
          0.32,
          0.321,
          0.322,
          0.323,
          0.324,
          0.325,
          0.326,
          0.327,
          0.328,
          0.329,
          0.33,
          0.331,
          0.332,
          0.333,
          0.334,
          0.335,
          0.336,
          0.337,
          0.338,
          0.339,
          0.34,
          0.341,
          0.342,
          0.343,
          0.34400000000000003,
          0.34500000000000003,
          0.34600000000000003,
          0.34700000000000003,
          0.34800000000000003,
          0.34900000000000003
         ],
         "xaxis": "x",
         "y": [
          100,
          19.791666666666668,
          19.791666666666668,
          19.791666666666668,
          19.791666666666668,
          19.791666666666668,
          19.791666666666668,
          19.791666666666668,
          19.791666666666668,
          19.791666666666668,
          19.791666666666668,
          18.75,
          18.75,
          18.75,
          18.75,
          18.75,
          18.75,
          18.75,
          17.708333333333332,
          17.708333333333332,
          17.708333333333332,
          17.708333333333332,
          17.708333333333332,
          17.708333333333332,
          17.708333333333332,
          16.666666666666668,
          16.666666666666668,
          16.666666666666668,
          16.666666666666668,
          15.625,
          15.625,
          13.541666666666666,
          13.541666666666666,
          12.5,
          12.5,
          12.5,
          11.458333333333334,
          11.458333333333334,
          11.458333333333334,
          11.458333333333334,
          11.458333333333334,
          11.458333333333334,
          11.458333333333334,
          11.458333333333334,
          11.458333333333334,
          11.458333333333334,
          11.458333333333334,
          11.458333333333334,
          11.458333333333334,
          9.375,
          9.375,
          9.375,
          9.375,
          9.375,
          9.375,
          9.375,
          9.375,
          9.375,
          9.375,
          8.333333333333334,
          8.333333333333334,
          8.333333333333334,
          8.333333333333334,
          8.333333333333334,
          8.333333333333334,
          8.333333333333334,
          8.333333333333334,
          8.333333333333334,
          8.333333333333334,
          8.333333333333334,
          7.291666666666667,
          7.291666666666667,
          7.291666666666667,
          7.291666666666667,
          7.291666666666667,
          5.208333333333333,
          5.208333333333333,
          5.208333333333333,
          5.208333333333333,
          5.208333333333333,
          5.208333333333333,
          4.166666666666667,
          4.166666666666667,
          4.166666666666667,
          4.166666666666667,
          4.166666666666667,
          4.166666666666667,
          4.166666666666667,
          4.166666666666667,
          4.166666666666667,
          4.166666666666667,
          3.125,
          3.125,
          3.125,
          3.125,
          3.125,
          3.125,
          3.125,
          3.125,
          3.125,
          3.125,
          3.125,
          1.0416666666666667,
          1.0416666666666667,
          1.0416666666666667,
          1.0416666666666667,
          1.0416666666666667,
          1.0416666666666667,
          1.0416666666666667,
          1.0416666666666667,
          1.0416666666666667,
          1.0416666666666667,
          1.0416666666666667,
          1.0416666666666667,
          1.0416666666666667,
          1.0416666666666667,
          1.0416666666666667,
          1.0416666666666667,
          1.0416666666666667,
          1.0416666666666667,
          1.0416666666666667,
          1.0416666666666667,
          1.0416666666666667,
          1.0416666666666667,
          1.0416666666666667,
          1.0416666666666667,
          1.0416666666666667,
          1.0416666666666667,
          1.0416666666666667,
          1.0416666666666667,
          0,
          0,
          0,
          0,
          0,
          0,
          0,
          0,
          0,
          0,
          0,
          0,
          0,
          0,
          0,
          0,
          0,
          0,
          0,
          0,
          0,
          0,
          0,
          0,
          0,
          0,
          0,
          0,
          0,
          0,
          0,
          0,
          0,
          0,
          0,
          0,
          0,
          0,
          0,
          0,
          0,
          0,
          0,
          0,
          0,
          0,
          0,
          0,
          0,
          0,
          0,
          0,
          0,
          0,
          0,
          0,
          0,
          0,
          0,
          0,
          0,
          0,
          0,
          0,
          0,
          0,
          0,
          0,
          0,
          0,
          0,
          0,
          0,
          0,
          0,
          0,
          0,
          0,
          0,
          0,
          0,
          0,
          0,
          0,
          0,
          0,
          0,
          0,
          0,
          0,
          0,
          0,
          0,
          0,
          0,
          0,
          0,
          0,
          0,
          0,
          0,
          0,
          0,
          0,
          0,
          0,
          0,
          0,
          0,
          0,
          0,
          0,
          0,
          0,
          0,
          0,
          0,
          0,
          0,
          0,
          0,
          0,
          0,
          0,
          0,
          0,
          0,
          0,
          0,
          0,
          0,
          0,
          0,
          0,
          0,
          0,
          0,
          0,
          0,
          0,
          0,
          0,
          0,
          0,
          0,
          0,
          0,
          0,
          0,
          0,
          0,
          0,
          0,
          0,
          0,
          0,
          0,
          0,
          0,
          0,
          0,
          0,
          0,
          0,
          0,
          0,
          0,
          0,
          0,
          0,
          0,
          0,
          0,
          0,
          0,
          0,
          0,
          0,
          0,
          0,
          0,
          0,
          0,
          0,
          0,
          0,
          0,
          0,
          0,
          0,
          0,
          0,
          0,
          0,
          0,
          0,
          0,
          0,
          0,
          0,
          0,
          0,
          0,
          0,
          0,
          0,
          0,
          0,
          0,
          0,
          0,
          0,
          0,
          0,
          0,
          0,
          0,
          0,
          0,
          0
         ],
         "yaxis": "y"
        }
       ],
       "layout": {
        "legend": {
         "title": {
          "text": "number of topics"
         },
         "tracegroupgap": 0
        },
        "template": {
         "data": {
          "bar": [
           {
            "error_x": {
             "color": "#2a3f5f"
            },
            "error_y": {
             "color": "#2a3f5f"
            },
            "marker": {
             "line": {
              "color": "#E5ECF6",
              "width": 0.5
             },
             "pattern": {
              "fillmode": "overlay",
              "size": 10,
              "solidity": 0.2
             }
            },
            "type": "bar"
           }
          ],
          "barpolar": [
           {
            "marker": {
             "line": {
              "color": "#E5ECF6",
              "width": 0.5
             },
             "pattern": {
              "fillmode": "overlay",
              "size": 10,
              "solidity": 0.2
             }
            },
            "type": "barpolar"
           }
          ],
          "carpet": [
           {
            "aaxis": {
             "endlinecolor": "#2a3f5f",
             "gridcolor": "white",
             "linecolor": "white",
             "minorgridcolor": "white",
             "startlinecolor": "#2a3f5f"
            },
            "baxis": {
             "endlinecolor": "#2a3f5f",
             "gridcolor": "white",
             "linecolor": "white",
             "minorgridcolor": "white",
             "startlinecolor": "#2a3f5f"
            },
            "type": "carpet"
           }
          ],
          "choropleth": [
           {
            "colorbar": {
             "outlinewidth": 0,
             "ticks": ""
            },
            "type": "choropleth"
           }
          ],
          "contour": [
           {
            "colorbar": {
             "outlinewidth": 0,
             "ticks": ""
            },
            "colorscale": [
             [
              0,
              "#0d0887"
             ],
             [
              0.1111111111111111,
              "#46039f"
             ],
             [
              0.2222222222222222,
              "#7201a8"
             ],
             [
              0.3333333333333333,
              "#9c179e"
             ],
             [
              0.4444444444444444,
              "#bd3786"
             ],
             [
              0.5555555555555556,
              "#d8576b"
             ],
             [
              0.6666666666666666,
              "#ed7953"
             ],
             [
              0.7777777777777778,
              "#fb9f3a"
             ],
             [
              0.8888888888888888,
              "#fdca26"
             ],
             [
              1,
              "#f0f921"
             ]
            ],
            "type": "contour"
           }
          ],
          "contourcarpet": [
           {
            "colorbar": {
             "outlinewidth": 0,
             "ticks": ""
            },
            "type": "contourcarpet"
           }
          ],
          "heatmap": [
           {
            "colorbar": {
             "outlinewidth": 0,
             "ticks": ""
            },
            "colorscale": [
             [
              0,
              "#0d0887"
             ],
             [
              0.1111111111111111,
              "#46039f"
             ],
             [
              0.2222222222222222,
              "#7201a8"
             ],
             [
              0.3333333333333333,
              "#9c179e"
             ],
             [
              0.4444444444444444,
              "#bd3786"
             ],
             [
              0.5555555555555556,
              "#d8576b"
             ],
             [
              0.6666666666666666,
              "#ed7953"
             ],
             [
              0.7777777777777778,
              "#fb9f3a"
             ],
             [
              0.8888888888888888,
              "#fdca26"
             ],
             [
              1,
              "#f0f921"
             ]
            ],
            "type": "heatmap"
           }
          ],
          "heatmapgl": [
           {
            "colorbar": {
             "outlinewidth": 0,
             "ticks": ""
            },
            "colorscale": [
             [
              0,
              "#0d0887"
             ],
             [
              0.1111111111111111,
              "#46039f"
             ],
             [
              0.2222222222222222,
              "#7201a8"
             ],
             [
              0.3333333333333333,
              "#9c179e"
             ],
             [
              0.4444444444444444,
              "#bd3786"
             ],
             [
              0.5555555555555556,
              "#d8576b"
             ],
             [
              0.6666666666666666,
              "#ed7953"
             ],
             [
              0.7777777777777778,
              "#fb9f3a"
             ],
             [
              0.8888888888888888,
              "#fdca26"
             ],
             [
              1,
              "#f0f921"
             ]
            ],
            "type": "heatmapgl"
           }
          ],
          "histogram": [
           {
            "marker": {
             "pattern": {
              "fillmode": "overlay",
              "size": 10,
              "solidity": 0.2
             }
            },
            "type": "histogram"
           }
          ],
          "histogram2d": [
           {
            "colorbar": {
             "outlinewidth": 0,
             "ticks": ""
            },
            "colorscale": [
             [
              0,
              "#0d0887"
             ],
             [
              0.1111111111111111,
              "#46039f"
             ],
             [
              0.2222222222222222,
              "#7201a8"
             ],
             [
              0.3333333333333333,
              "#9c179e"
             ],
             [
              0.4444444444444444,
              "#bd3786"
             ],
             [
              0.5555555555555556,
              "#d8576b"
             ],
             [
              0.6666666666666666,
              "#ed7953"
             ],
             [
              0.7777777777777778,
              "#fb9f3a"
             ],
             [
              0.8888888888888888,
              "#fdca26"
             ],
             [
              1,
              "#f0f921"
             ]
            ],
            "type": "histogram2d"
           }
          ],
          "histogram2dcontour": [
           {
            "colorbar": {
             "outlinewidth": 0,
             "ticks": ""
            },
            "colorscale": [
             [
              0,
              "#0d0887"
             ],
             [
              0.1111111111111111,
              "#46039f"
             ],
             [
              0.2222222222222222,
              "#7201a8"
             ],
             [
              0.3333333333333333,
              "#9c179e"
             ],
             [
              0.4444444444444444,
              "#bd3786"
             ],
             [
              0.5555555555555556,
              "#d8576b"
             ],
             [
              0.6666666666666666,
              "#ed7953"
             ],
             [
              0.7777777777777778,
              "#fb9f3a"
             ],
             [
              0.8888888888888888,
              "#fdca26"
             ],
             [
              1,
              "#f0f921"
             ]
            ],
            "type": "histogram2dcontour"
           }
          ],
          "mesh3d": [
           {
            "colorbar": {
             "outlinewidth": 0,
             "ticks": ""
            },
            "type": "mesh3d"
           }
          ],
          "parcoords": [
           {
            "line": {
             "colorbar": {
              "outlinewidth": 0,
              "ticks": ""
             }
            },
            "type": "parcoords"
           }
          ],
          "pie": [
           {
            "automargin": true,
            "type": "pie"
           }
          ],
          "scatter": [
           {
            "fillpattern": {
             "fillmode": "overlay",
             "size": 10,
             "solidity": 0.2
            },
            "type": "scatter"
           }
          ],
          "scatter3d": [
           {
            "line": {
             "colorbar": {
              "outlinewidth": 0,
              "ticks": ""
             }
            },
            "marker": {
             "colorbar": {
              "outlinewidth": 0,
              "ticks": ""
             }
            },
            "type": "scatter3d"
           }
          ],
          "scattercarpet": [
           {
            "marker": {
             "colorbar": {
              "outlinewidth": 0,
              "ticks": ""
             }
            },
            "type": "scattercarpet"
           }
          ],
          "scattergeo": [
           {
            "marker": {
             "colorbar": {
              "outlinewidth": 0,
              "ticks": ""
             }
            },
            "type": "scattergeo"
           }
          ],
          "scattergl": [
           {
            "marker": {
             "colorbar": {
              "outlinewidth": 0,
              "ticks": ""
             }
            },
            "type": "scattergl"
           }
          ],
          "scattermapbox": [
           {
            "marker": {
             "colorbar": {
              "outlinewidth": 0,
              "ticks": ""
             }
            },
            "type": "scattermapbox"
           }
          ],
          "scatterpolar": [
           {
            "marker": {
             "colorbar": {
              "outlinewidth": 0,
              "ticks": ""
             }
            },
            "type": "scatterpolar"
           }
          ],
          "scatterpolargl": [
           {
            "marker": {
             "colorbar": {
              "outlinewidth": 0,
              "ticks": ""
             }
            },
            "type": "scatterpolargl"
           }
          ],
          "scatterternary": [
           {
            "marker": {
             "colorbar": {
              "outlinewidth": 0,
              "ticks": ""
             }
            },
            "type": "scatterternary"
           }
          ],
          "surface": [
           {
            "colorbar": {
             "outlinewidth": 0,
             "ticks": ""
            },
            "colorscale": [
             [
              0,
              "#0d0887"
             ],
             [
              0.1111111111111111,
              "#46039f"
             ],
             [
              0.2222222222222222,
              "#7201a8"
             ],
             [
              0.3333333333333333,
              "#9c179e"
             ],
             [
              0.4444444444444444,
              "#bd3786"
             ],
             [
              0.5555555555555556,
              "#d8576b"
             ],
             [
              0.6666666666666666,
              "#ed7953"
             ],
             [
              0.7777777777777778,
              "#fb9f3a"
             ],
             [
              0.8888888888888888,
              "#fdca26"
             ],
             [
              1,
              "#f0f921"
             ]
            ],
            "type": "surface"
           }
          ],
          "table": [
           {
            "cells": {
             "fill": {
              "color": "#EBF0F8"
             },
             "line": {
              "color": "white"
             }
            },
            "header": {
             "fill": {
              "color": "#C8D4E3"
             },
             "line": {
              "color": "white"
             }
            },
            "type": "table"
           }
          ]
         },
         "layout": {
          "annotationdefaults": {
           "arrowcolor": "#2a3f5f",
           "arrowhead": 0,
           "arrowwidth": 1
          },
          "autotypenumbers": "strict",
          "coloraxis": {
           "colorbar": {
            "outlinewidth": 0,
            "ticks": ""
           }
          },
          "colorscale": {
           "diverging": [
            [
             0,
             "#8e0152"
            ],
            [
             0.1,
             "#c51b7d"
            ],
            [
             0.2,
             "#de77ae"
            ],
            [
             0.3,
             "#f1b6da"
            ],
            [
             0.4,
             "#fde0ef"
            ],
            [
             0.5,
             "#f7f7f7"
            ],
            [
             0.6,
             "#e6f5d0"
            ],
            [
             0.7,
             "#b8e186"
            ],
            [
             0.8,
             "#7fbc41"
            ],
            [
             0.9,
             "#4d9221"
            ],
            [
             1,
             "#276419"
            ]
           ],
           "sequential": [
            [
             0,
             "#0d0887"
            ],
            [
             0.1111111111111111,
             "#46039f"
            ],
            [
             0.2222222222222222,
             "#7201a8"
            ],
            [
             0.3333333333333333,
             "#9c179e"
            ],
            [
             0.4444444444444444,
             "#bd3786"
            ],
            [
             0.5555555555555556,
             "#d8576b"
            ],
            [
             0.6666666666666666,
             "#ed7953"
            ],
            [
             0.7777777777777778,
             "#fb9f3a"
            ],
            [
             0.8888888888888888,
             "#fdca26"
            ],
            [
             1,
             "#f0f921"
            ]
           ],
           "sequentialminus": [
            [
             0,
             "#0d0887"
            ],
            [
             0.1111111111111111,
             "#46039f"
            ],
            [
             0.2222222222222222,
             "#7201a8"
            ],
            [
             0.3333333333333333,
             "#9c179e"
            ],
            [
             0.4444444444444444,
             "#bd3786"
            ],
            [
             0.5555555555555556,
             "#d8576b"
            ],
            [
             0.6666666666666666,
             "#ed7953"
            ],
            [
             0.7777777777777778,
             "#fb9f3a"
            ],
            [
             0.8888888888888888,
             "#fdca26"
            ],
            [
             1,
             "#f0f921"
            ]
           ]
          },
          "colorway": [
           "#636efa",
           "#EF553B",
           "#00cc96",
           "#ab63fa",
           "#FFA15A",
           "#19d3f3",
           "#FF6692",
           "#B6E880",
           "#FF97FF",
           "#FECB52"
          ],
          "font": {
           "color": "#2a3f5f"
          },
          "geo": {
           "bgcolor": "white",
           "lakecolor": "white",
           "landcolor": "#E5ECF6",
           "showlakes": true,
           "showland": true,
           "subunitcolor": "white"
          },
          "hoverlabel": {
           "align": "left"
          },
          "hovermode": "closest",
          "mapbox": {
           "style": "light"
          },
          "paper_bgcolor": "white",
          "plot_bgcolor": "#E5ECF6",
          "polar": {
           "angularaxis": {
            "gridcolor": "white",
            "linecolor": "white",
            "ticks": ""
           },
           "bgcolor": "#E5ECF6",
           "radialaxis": {
            "gridcolor": "white",
            "linecolor": "white",
            "ticks": ""
           }
          },
          "scene": {
           "xaxis": {
            "backgroundcolor": "#E5ECF6",
            "gridcolor": "white",
            "gridwidth": 2,
            "linecolor": "white",
            "showbackground": true,
            "ticks": "",
            "zerolinecolor": "white"
           },
           "yaxis": {
            "backgroundcolor": "#E5ECF6",
            "gridcolor": "white",
            "gridwidth": 2,
            "linecolor": "white",
            "showbackground": true,
            "ticks": "",
            "zerolinecolor": "white"
           },
           "zaxis": {
            "backgroundcolor": "#E5ECF6",
            "gridcolor": "white",
            "gridwidth": 2,
            "linecolor": "white",
            "showbackground": true,
            "ticks": "",
            "zerolinecolor": "white"
           }
          },
          "shapedefaults": {
           "line": {
            "color": "#2a3f5f"
           }
          },
          "ternary": {
           "aaxis": {
            "gridcolor": "white",
            "linecolor": "white",
            "ticks": ""
           },
           "baxis": {
            "gridcolor": "white",
            "linecolor": "white",
            "ticks": ""
           },
           "bgcolor": "#E5ECF6",
           "caxis": {
            "gridcolor": "white",
            "linecolor": "white",
            "ticks": ""
           }
          },
          "title": {
           "x": 0.05
          },
          "xaxis": {
           "automargin": true,
           "gridcolor": "white",
           "linecolor": "white",
           "ticks": "",
           "title": {
            "standoff": 15
           },
           "zerolinecolor": "white",
           "zerolinewidth": 2
          },
          "yaxis": {
           "automargin": true,
           "gridcolor": "white",
           "linecolor": "white",
           "ticks": "",
           "title": {
            "standoff": 15
           },
           "zerolinecolor": "white",
           "zerolinewidth": 2
          }
         }
        },
        "title": {
         "text": "Distribution of number of topics"
        },
        "xaxis": {
         "anchor": "y",
         "domain": [
          0,
          1
         ],
         "title": {
          "text": "threshold"
         }
        },
        "yaxis": {
         "anchor": "x",
         "domain": [
          0,
          1
         ],
         "title": {
          "text": "share of reviews, %"
         }
        }
       }
      }
     },
     "metadata": {},
     "output_type": "display_data"
    }
   ],
   "source": [
    "import tqdm\n",
    "import plotly.express as px\n",
    "\n",
    "tmp_dfs = []\n",
    "\n",
    "# iterating through different threshold levels\n",
    "for thr in tqdm.tqdm(np.arange(0, 0.35, 0.001)):\n",
    "    # calculating number of topics with probability > threshold for each document\n",
    "    tmp_df = pd.DataFrame(list(map(lambda x: len(list(filter(lambda y: y >= thr, x))), topic_distr))).rename(\n",
    "        columns = {0: 'num_topics'}\n",
    "    )\n",
    "    tmp_df['num_docs'] = 1\n",
    "    \n",
    "    tmp_df['num_topics_group'] = tmp_df['num_topics']\\\n",
    "        .map(lambda x: str(x) if x < 5 else '5+')\n",
    "    \n",
    "    # aggregating stats\n",
    "    tmp_df_aggr = tmp_df.groupby('num_topics_group', as_index = False).num_docs.sum()\n",
    "    tmp_df_aggr['threshold'] = thr\n",
    "    \n",
    "    tmp_dfs.append(tmp_df_aggr)\n",
    "\n",
    "num_topics_stats_df = pd.concat(tmp_dfs).pivot(index = 'threshold', \n",
    "                              values = 'num_docs',\n",
    "                              columns = 'num_topics_group').fillna(0)\n",
    "\n",
    "num_topics_stats_df = num_topics_stats_df.apply(lambda x: 100.*x/num_topics_stats_df.sum(axis = 1))\n",
    "\n",
    "# visualisation\n",
    "colormap = px.colors.sequential.YlGnBu\n",
    "px.area(num_topics_stats_df, \n",
    "       title = 'Distribution of number of topics',\n",
    "       labels = {'num_topics_group': 'number of topics',\n",
    "                'value': 'share of reviews, %'},\n",
    "       color_discrete_map = {\n",
    "          '0': colormap[0],\n",
    "          '1': colormap[3],\n",
    "          '2': colormap[4],\n",
    "          '3': colormap[5],\n",
    "          '4': colormap[6],\n",
    "          '5+': colormap[7]\n",
    "      })"
   ]
  },
  {
   "cell_type": "code",
   "execution_count": 1401,
   "metadata": {},
   "outputs": [],
   "source": [
    "threshold = 0.2\n",
    "\n",
    "# define topic with probability > 0.13 for each document\n",
    "df['multiple_topics'] = list(map(\n",
    "    lambda doc_topic_distr: list(map(\n",
    "        lambda y: y[0], filter(lambda x: x[1] >= threshold, \n",
    "                               (enumerate(doc_topic_distr)))\n",
    "    )), topic_distr\n",
    "))\n",
    "\n",
    "# creating a dataset with docid, topic\n",
    "tmp_data = []\n",
    "\n",
    "for rec in df.to_dict('records'):\n",
    "    if len(rec['multiple_topics']) != 0:\n",
    "        mult_topics = rec['multiple_topics']\n",
    "    else:\n",
    "        mult_topics = [-1]\n",
    "        \n",
    "    for topic in mult_topics: \n",
    "        tmp_data.append(\n",
    "            {\n",
    "                'topic': topic,\n",
    "                'id': rec['Content'],\n",
    "            }\n",
    "        )\n",
    "            \n",
    "mult_topics_df = pd.DataFrame(tmp_data)\n",
    "df[\"multiple_topics_name\"] = df[\"multiple_topics\"].map(lambda x: [topic_name_to_id.get(i, \"No topic\") for i in x])\n"
   ]
  },
  {
   "cell_type": "code",
   "execution_count": 1402,
   "metadata": {},
   "outputs": [
    {
     "data": {
      "text/html": [
       "<div>\n",
       "<style scoped>\n",
       "    .dataframe tbody tr th:only-of-type {\n",
       "        vertical-align: middle;\n",
       "    }\n",
       "\n",
       "    .dataframe tbody tr th {\n",
       "        vertical-align: top;\n",
       "    }\n",
       "\n",
       "    .dataframe thead th {\n",
       "        text-align: right;\n",
       "    }\n",
       "</style>\n",
       "<table border=\"1\" class=\"dataframe\">\n",
       "  <thead>\n",
       "    <tr style=\"text-align: right;\">\n",
       "      <th></th>\n",
       "      <th>File Name</th>\n",
       "      <th>turn_index</th>\n",
       "      <th>Content</th>\n",
       "      <th>preprocessed_content</th>\n",
       "      <th>Experiment</th>\n",
       "      <th>Condition</th>\n",
       "      <th>Id</th>\n",
       "      <th>Speaker</th>\n",
       "      <th>one_topic</th>\n",
       "      <th>one_topic_name</th>\n",
       "      <th>multiple_topics</th>\n",
       "      <th>multiple_topics_name</th>\n",
       "    </tr>\n",
       "  </thead>\n",
       "  <tbody>\n",
       "    <tr>\n",
       "      <th>0</th>\n",
       "      <td>S301final</td>\n",
       "      <td>3</td>\n",
       "      <td>the points i think are like meditating i could...</td>\n",
       "      <td>point meditate gear disturbing completely diss...</td>\n",
       "      <td>Compassion</td>\n",
       "      <td>1</td>\n",
       "      <td>301</td>\n",
       "      <td>Participant</td>\n",
       "      <td>4</td>\n",
       "      <td>4_reality_virtual_experiment_sensation</td>\n",
       "      <td>[4]</td>\n",
       "      <td>[4_reality_virtual_experiment_sensation]</td>\n",
       "    </tr>\n",
       "    <tr>\n",
       "      <th>1</th>\n",
       "      <td>S301final</td>\n",
       "      <td>8</td>\n",
       "      <td>to it was easier, yeah, to my inner self yes b...</td>\n",
       "      <td>easy inner self physical self easy myself</td>\n",
       "      <td>Compassion</td>\n",
       "      <td>1</td>\n",
       "      <td>301</td>\n",
       "      <td>Participant</td>\n",
       "      <td>8</td>\n",
       "      <td>8_self_easy_critical_aspect</td>\n",
       "      <td>[8]</td>\n",
       "      <td>[8_self_easy_critical_aspect]</td>\n",
       "    </tr>\n",
       "    <tr>\n",
       "      <th>2</th>\n",
       "      <td>S301final</td>\n",
       "      <td>10</td>\n",
       "      <td>i didn't know this much difference between the...</td>\n",
       "      <td>difference warm feeling chest tube love myself...</td>\n",
       "      <td>Compassion</td>\n",
       "      <td>1</td>\n",
       "      <td>301</td>\n",
       "      <td>Participant</td>\n",
       "      <td>3</td>\n",
       "      <td>3_feeling_warmth_warm_compassionate</td>\n",
       "      <td>[2, 3]</td>\n",
       "      <td>[2_see_myself_awake_love, 3_feeling_warmth_war...</td>\n",
       "    </tr>\n",
       "    <tr>\n",
       "      <th>3</th>\n",
       "      <td>S301final</td>\n",
       "      <td>12</td>\n",
       "      <td>i don't know because i felt like it was very d...</td>\n",
       "      <td>differ different relate physical love body wat...</td>\n",
       "      <td>Compassion</td>\n",
       "      <td>1</td>\n",
       "      <td>301</td>\n",
       "      <td>Participant</td>\n",
       "      <td>3</td>\n",
       "      <td>3_feeling_warmth_warm_compassionate</td>\n",
       "      <td>[3]</td>\n",
       "      <td>[3_feeling_warmth_warm_compassionate]</td>\n",
       "    </tr>\n",
       "    <tr>\n",
       "      <th>4</th>\n",
       "      <td>S301final</td>\n",
       "      <td>18</td>\n",
       "      <td>no i think i have already said</td>\n",
       "      <td>say</td>\n",
       "      <td>Compassion</td>\n",
       "      <td>1</td>\n",
       "      <td>301</td>\n",
       "      <td>Participant</td>\n",
       "      <td>2</td>\n",
       "      <td>2_see_myself_awake_love</td>\n",
       "      <td>[1, 5, 6]</td>\n",
       "      <td>[1_send_place_love_happy, 5_eye_close_open_lik...</td>\n",
       "    </tr>\n",
       "  </tbody>\n",
       "</table>\n",
       "</div>"
      ],
      "text/plain": [
       "   File Name  turn_index                                            Content  \\\n",
       "0  S301final           3  the points i think are like meditating i could...   \n",
       "1  S301final           8  to it was easier, yeah, to my inner self yes b...   \n",
       "2  S301final          10  i didn't know this much difference between the...   \n",
       "3  S301final          12  i don't know because i felt like it was very d...   \n",
       "4  S301final          18                     no i think i have already said   \n",
       "\n",
       "                                preprocessed_content  Experiment Condition  \\\n",
       "0  point meditate gear disturbing completely diss...  Compassion         1   \n",
       "1          easy inner self physical self easy myself  Compassion         1   \n",
       "2  difference warm feeling chest tube love myself...  Compassion         1   \n",
       "3  differ different relate physical love body wat...  Compassion         1   \n",
       "4                                                say  Compassion         1   \n",
       "\n",
       "    Id      Speaker  one_topic                          one_topic_name  \\\n",
       "0  301  Participant          4  4_reality_virtual_experiment_sensation   \n",
       "1  301  Participant          8             8_self_easy_critical_aspect   \n",
       "2  301  Participant          3     3_feeling_warmth_warm_compassionate   \n",
       "3  301  Participant          3     3_feeling_warmth_warm_compassionate   \n",
       "4  301  Participant          2                 2_see_myself_awake_love   \n",
       "\n",
       "  multiple_topics                               multiple_topics_name  \n",
       "0             [4]           [4_reality_virtual_experiment_sensation]  \n",
       "1             [8]                      [8_self_easy_critical_aspect]  \n",
       "2          [2, 3]  [2_see_myself_awake_love, 3_feeling_warmth_war...  \n",
       "3             [3]              [3_feeling_warmth_warm_compassionate]  \n",
       "4       [1, 5, 6]  [1_send_place_love_happy, 5_eye_close_open_lik...  "
      ]
     },
     "execution_count": 1402,
     "metadata": {},
     "output_type": "execute_result"
    }
   ],
   "source": [
    "df.to_csv(\"df_topic.csv\", index = False)\n",
    "df.head()"
   ]
  },
  {
   "cell_type": "markdown",
   "metadata": {},
   "source": [
    "### Look differences btw single and multiple topics"
   ]
  },
  {
   "cell_type": "code",
   "execution_count": 1403,
   "metadata": {},
   "outputs": [
    {
     "data": {
      "text/plain": [
       "{-1: '-1_good_myself_thank_practice',\n",
       " 0: '0_focus_leg_lot_distract',\n",
       " 1: '1_send_place_love_happy',\n",
       " 2: '2_see_myself_awake_love',\n",
       " 3: '3_feeling_warmth_warm_compassionate',\n",
       " 4: '4_reality_virtual_experiment_sensation',\n",
       " 5: '5_eye_close_open_likewise',\n",
       " 6: '6_condition_100_30_70',\n",
       " 7: '7_easy_fun_nice_imagine',\n",
       " 8: '8_self_easy_critical_aspect'}"
      ]
     },
     "execution_count": 1403,
     "metadata": {},
     "output_type": "execute_result"
    }
   ],
   "source": [
    "topic_name_to_id"
   ]
  },
  {
   "cell_type": "code",
   "execution_count": 1404,
   "metadata": {},
   "outputs": [
    {
     "name": "stdout",
     "output_type": "stream",
     "text": [
      "0\n"
     ]
    },
    {
     "data": {
      "text/html": [
       "<div>\n",
       "<style scoped>\n",
       "    .dataframe tbody tr th:only-of-type {\n",
       "        vertical-align: middle;\n",
       "    }\n",
       "\n",
       "    .dataframe tbody tr th {\n",
       "        vertical-align: top;\n",
       "    }\n",
       "\n",
       "    .dataframe thead th {\n",
       "        text-align: right;\n",
       "    }\n",
       "</style>\n",
       "<table border=\"1\" class=\"dataframe\">\n",
       "  <thead>\n",
       "    <tr style=\"text-align: right;\">\n",
       "      <th></th>\n",
       "      <th>Experiment</th>\n",
       "      <th>Id</th>\n",
       "      <th>Condition</th>\n",
       "      <th>Speaker</th>\n",
       "      <th>Content</th>\n",
       "      <th>multiple_topics_name</th>\n",
       "    </tr>\n",
       "  </thead>\n",
       "  <tbody>\n",
       "  </tbody>\n",
       "</table>\n",
       "</div>"
      ],
      "text/plain": [
       "Empty DataFrame\n",
       "Columns: [Experiment, Id, Condition, Speaker, Content, multiple_topics_name]\n",
       "Index: []"
      ]
     },
     "execution_count": 1404,
     "metadata": {},
     "output_type": "execute_result"
    }
   ],
   "source": [
    "# look for a specific topic the topic 12\n",
    "specific_topic = df[df['one_topic'] == 12]\n",
    "print(len(specific_topic))\n",
    "# look at specifc columns\n",
    "specific_topic[['Experiment','Id','Condition','Speaker','Content','multiple_topics_name']]"
   ]
  },
  {
   "cell_type": "code",
   "execution_count": 1405,
   "metadata": {},
   "outputs": [
    {
     "name": "stdout",
     "output_type": "stream",
     "text": [
      "0\n"
     ]
    },
    {
     "data": {
      "text/html": [
       "<div>\n",
       "<style scoped>\n",
       "    .dataframe tbody tr th:only-of-type {\n",
       "        vertical-align: middle;\n",
       "    }\n",
       "\n",
       "    .dataframe tbody tr th {\n",
       "        vertical-align: top;\n",
       "    }\n",
       "\n",
       "    .dataframe thead th {\n",
       "        text-align: right;\n",
       "    }\n",
       "</style>\n",
       "<table border=\"1\" class=\"dataframe\">\n",
       "  <thead>\n",
       "    <tr style=\"text-align: right;\">\n",
       "      <th></th>\n",
       "      <th>Experiment</th>\n",
       "      <th>Id</th>\n",
       "      <th>Condition</th>\n",
       "      <th>Speaker</th>\n",
       "      <th>Content</th>\n",
       "      <th>multiple_topics_name</th>\n",
       "    </tr>\n",
       "  </thead>\n",
       "  <tbody>\n",
       "  </tbody>\n",
       "</table>\n",
       "</div>"
      ],
      "text/plain": [
       "Empty DataFrame\n",
       "Columns: [Experiment, Id, Condition, Speaker, Content, multiple_topics_name]\n",
       "Index: []"
      ]
     },
     "execution_count": 1405,
     "metadata": {},
     "output_type": "execute_result"
    }
   ],
   "source": [
    "# look for a specific topic the topic 12\n",
    "specific_topic = df[df['multiple_topics'].map(lambda x: 12 in x)]\n",
    "print(len(specific_topic))\n",
    "# look at specifc columns\n",
    "specific_topic[['Experiment','Id','Condition','Speaker','Content','multiple_topics_name']]"
   ]
  }
 ],
 "metadata": {
  "kernelspec": {
   "display_name": "topic",
   "language": "python",
   "name": "python3"
  },
  "language_info": {
   "codemirror_mode": {
    "name": "ipython",
    "version": 3
   },
   "file_extension": ".py",
   "mimetype": "text/x-python",
   "name": "python",
   "nbconvert_exporter": "python",
   "pygments_lexer": "ipython3",
   "version": "3.10.16"
  }
 },
 "nbformat": 4,
 "nbformat_minor": 2
}
