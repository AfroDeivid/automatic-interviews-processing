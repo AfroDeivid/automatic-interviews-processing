{
 "cells": [
  {
   "cell_type": "code",
   "execution_count": 406,
   "metadata": {},
   "outputs": [
    {
     "name": "stdout",
     "output_type": "stream",
     "text": [
      "The autoreload extension is already loaded. To reload it, use:\n",
      "  %reload_ext autoreload\n"
     ]
    }
   ],
   "source": [
    "%load_ext autoreload\n",
    "%autoreload 2"
   ]
  },
  {
   "cell_type": "code",
   "execution_count": 407,
   "metadata": {},
   "outputs": [],
   "source": [
    "from utils.analysis_helpers import *\n",
    "from bertopic import BERTopic"
   ]
  },
  {
   "cell_type": "markdown",
   "metadata": {},
   "source": [
    "# Define the Docs"
   ]
  },
  {
   "cell_type": "code",
   "execution_count": 408,
   "metadata": {},
   "outputs": [
    {
     "data": {
      "text/html": [
       "<div>\n",
       "<style scoped>\n",
       "    .dataframe tbody tr th:only-of-type {\n",
       "        vertical-align: middle;\n",
       "    }\n",
       "\n",
       "    .dataframe tbody tr th {\n",
       "        vertical-align: top;\n",
       "    }\n",
       "\n",
       "    .dataframe thead th {\n",
       "        text-align: right;\n",
       "    }\n",
       "</style>\n",
       "<table border=\"1\" class=\"dataframe\">\n",
       "  <thead>\n",
       "    <tr style=\"text-align: right;\">\n",
       "      <th></th>\n",
       "      <th>File Name</th>\n",
       "      <th>turn_index</th>\n",
       "      <th>Speaker</th>\n",
       "      <th>Experiment</th>\n",
       "      <th>Id</th>\n",
       "      <th>Condition</th>\n",
       "      <th>Full_Content</th>\n",
       "      <th>Content</th>\n",
       "    </tr>\n",
       "  </thead>\n",
       "  <tbody>\n",
       "    <tr>\n",
       "      <th>0</th>\n",
       "      <td>ID 05</td>\n",
       "      <td>0</td>\n",
       "      <td>Interviewer</td>\n",
       "      <td>OBE1</td>\n",
       "      <td>5</td>\n",
       "      <td>1</td>\n",
       "      <td>No, don't worry, it's just...</td>\n",
       "      <td>no, don't worry, it's just...</td>\n",
       "    </tr>\n",
       "    <tr>\n",
       "      <th>1</th>\n",
       "      <td>ID 05</td>\n",
       "      <td>1</td>\n",
       "      <td>Participant</td>\n",
       "      <td>OBE1</td>\n",
       "      <td>5</td>\n",
       "      <td>1</td>\n",
       "      <td>So, that was very, let's say, unexpected and s...</td>\n",
       "      <td>so, that was very, let's say, unexpected and s...</td>\n",
       "    </tr>\n",
       "    <tr>\n",
       "      <th>2</th>\n",
       "      <td>ID 05</td>\n",
       "      <td>1</td>\n",
       "      <td>Participant</td>\n",
       "      <td>OBE1</td>\n",
       "      <td>5</td>\n",
       "      <td>1</td>\n",
       "      <td>So, that was very, let's say, unexpected and s...</td>\n",
       "      <td>i mean, at least that's what i felt, that i wa...</td>\n",
       "    </tr>\n",
       "    <tr>\n",
       "      <th>3</th>\n",
       "      <td>ID 05</td>\n",
       "      <td>1</td>\n",
       "      <td>Participant</td>\n",
       "      <td>OBE1</td>\n",
       "      <td>5</td>\n",
       "      <td>1</td>\n",
       "      <td>So, that was very, let's say, unexpected and s...</td>\n",
       "      <td>and then i was observing it from above</td>\n",
       "    </tr>\n",
       "    <tr>\n",
       "      <th>4</th>\n",
       "      <td>ID 05</td>\n",
       "      <td>1</td>\n",
       "      <td>Participant</td>\n",
       "      <td>OBE1</td>\n",
       "      <td>5</td>\n",
       "      <td>1</td>\n",
       "      <td>So, that was very, let's say, unexpected and s...</td>\n",
       "      <td>and as i was saying, i felt at a specific mome...</td>\n",
       "    </tr>\n",
       "    <tr>\n",
       "      <th>...</th>\n",
       "      <td>...</td>\n",
       "      <td>...</td>\n",
       "      <td>...</td>\n",
       "      <td>...</td>\n",
       "      <td>...</td>\n",
       "      <td>...</td>\n",
       "      <td>...</td>\n",
       "      <td>...</td>\n",
       "    </tr>\n",
       "    <tr>\n",
       "      <th>2914</th>\n",
       "      <td>S313</td>\n",
       "      <td>39</td>\n",
       "      <td>Participant</td>\n",
       "      <td>Compassion</td>\n",
       "      <td>313</td>\n",
       "      <td>1</td>\n",
       "      <td>I know that's true. When I felt like sending l...</td>\n",
       "      <td>i know that's true when i felt like sending lo...</td>\n",
       "    </tr>\n",
       "    <tr>\n",
       "      <th>2915</th>\n",
       "      <td>S313</td>\n",
       "      <td>39</td>\n",
       "      <td>Participant</td>\n",
       "      <td>Compassion</td>\n",
       "      <td>313</td>\n",
       "      <td>1</td>\n",
       "      <td>I know that's true. When I felt like sending l...</td>\n",
       "      <td>i sent them to the person so maybe in both pla...</td>\n",
       "    </tr>\n",
       "    <tr>\n",
       "      <th>2916</th>\n",
       "      <td>S313</td>\n",
       "      <td>39</td>\n",
       "      <td>Participant</td>\n",
       "      <td>Compassion</td>\n",
       "      <td>313</td>\n",
       "      <td>1</td>\n",
       "      <td>I know that's true. When I felt like sending l...</td>\n",
       "      <td>i didn't feel it was me, but i felt it was mys...</td>\n",
       "    </tr>\n",
       "    <tr>\n",
       "      <th>2917</th>\n",
       "      <td>S313</td>\n",
       "      <td>40</td>\n",
       "      <td>Interviewer</td>\n",
       "      <td>Compassion</td>\n",
       "      <td>313</td>\n",
       "      <td>1</td>\n",
       "      <td>Okay, I see. The answers for my questions.</td>\n",
       "      <td>okay</td>\n",
       "    </tr>\n",
       "    <tr>\n",
       "      <th>2918</th>\n",
       "      <td>S313</td>\n",
       "      <td>40</td>\n",
       "      <td>Interviewer</td>\n",
       "      <td>Compassion</td>\n",
       "      <td>313</td>\n",
       "      <td>1</td>\n",
       "      <td>Okay, I see. The answers for my questions.</td>\n",
       "      <td>, i see the answers for my questions</td>\n",
       "    </tr>\n",
       "  </tbody>\n",
       "</table>\n",
       "<p>2919 rows × 8 columns</p>\n",
       "</div>"
      ],
      "text/plain": [
       "     File Name  turn_index      Speaker  Experiment   Id Condition  \\\n",
       "0        ID 05           0  Interviewer        OBE1    5         1   \n",
       "1        ID 05           1  Participant        OBE1    5         1   \n",
       "2        ID 05           1  Participant        OBE1    5         1   \n",
       "3        ID 05           1  Participant        OBE1    5         1   \n",
       "4        ID 05           1  Participant        OBE1    5         1   \n",
       "...        ...         ...          ...         ...  ...       ...   \n",
       "2914      S313          39  Participant  Compassion  313         1   \n",
       "2915      S313          39  Participant  Compassion  313         1   \n",
       "2916      S313          39  Participant  Compassion  313         1   \n",
       "2917      S313          40  Interviewer  Compassion  313         1   \n",
       "2918      S313          40  Interviewer  Compassion  313         1   \n",
       "\n",
       "                                           Full_Content  \\\n",
       "0                         No, don't worry, it's just...   \n",
       "1     So, that was very, let's say, unexpected and s...   \n",
       "2     So, that was very, let's say, unexpected and s...   \n",
       "3     So, that was very, let's say, unexpected and s...   \n",
       "4     So, that was very, let's say, unexpected and s...   \n",
       "...                                                 ...   \n",
       "2914  I know that's true. When I felt like sending l...   \n",
       "2915  I know that's true. When I felt like sending l...   \n",
       "2916  I know that's true. When I felt like sending l...   \n",
       "2917         Okay, I see. The answers for my questions.   \n",
       "2918         Okay, I see. The answers for my questions.   \n",
       "\n",
       "                                                Content  \n",
       "0                         no, don't worry, it's just...  \n",
       "1     so, that was very, let's say, unexpected and s...  \n",
       "2     i mean, at least that's what i felt, that i wa...  \n",
       "3               and then i was observing it from above   \n",
       "4     and as i was saying, i felt at a specific mome...  \n",
       "...                                                 ...  \n",
       "2914  i know that's true when i felt like sending lo...  \n",
       "2915  i sent them to the person so maybe in both pla...  \n",
       "2916  i didn't feel it was me, but i felt it was mys...  \n",
       "2917                                               okay  \n",
       "2918               , i see the answers for my questions  \n",
       "\n",
       "[2919 rows x 8 columns]"
      ]
     },
     "execution_count": 408,
     "metadata": {},
     "output_type": "execute_result"
    }
   ],
   "source": [
    "df_all = pd.read_csv(\"segmented_sentences.csv\")\n",
    "# Rename Segmented_Sentence to Content\n",
    "df_all = df_all.rename(columns={\"Segmented_Sentence\": \"Content\"})\n",
    "df_all"
   ]
  },
  {
   "cell_type": "code",
   "execution_count": 626,
   "metadata": {},
   "outputs": [],
   "source": [
    "# Preoprocessing\n",
    "df = df_all.copy()\n",
    "# Focus only on the participant's or interviewer's speech or both\n",
    "df = df[df[\"Speaker\"] == \"Participant\"]\n",
    "#df = df[df[\"Speaker\"] == \"Interviewer\"]\n",
    "\n",
    "# Select experiment\n",
    "df = df[df[\"Experiment\"] != \"Compassion\"]\n",
    "\n",
    "# Filter tokens (stopwords, punctuations) were removed using the spacy library, \n",
    "# All text was lowercased + lemmatized,\n",
    "# Plus extra_stopwords being the most frequents words in the corpus AND being meaningless \n",
    "extra_stopwords = [\n",
    "    # Filler Words: Common conversational placeholders without thematic value\n",
    "    \"yeah\", \"okay\", \"yes\", \"mean\", \"oh\", \"ah\", \"like\", \"kind\",\"kinda\", \"course\", \"way\",\n",
    "    # Vague/Ambiguous Words: Frequent but thematically irrelevant in conversations\n",
    "    \"think\", \"know\", \"really\", \"bit\", \"feel\", \"thing\", \"sort\", \"maybe\", \"little\", \"actually\",\n",
    "    \"sure\", \"exactly\", \"tell\", \"ask\", \"people\", \"think\",\n",
    "    # Broad terms or context-specific words overshadowing subtler themes\n",
    "    \"question\", \"sorry\", \"time\", \"first\", \"second\", \"later\", \"experience\", \"end\", \"meditation\"\n",
    "]\n",
    "df['preprocessed_content'] = df['Content'].apply(lambda x: preprocess_text(x, extra_stopwords=extra_stopwords, retain_stopwords=[\"yourself\", \"myself\"]))\n",
    "\n",
    "# Remove rows with empty content or content that's only punctuation after preprocessing\n",
    "df = df[df['preprocessed_content'].str.strip().str.len() > 0]\n",
    "# File S225 is removed because it is empty after preprocessing (only two utterances, not meaningful words for topics)\n",
    " # -> it was the Intervention condition, so mostly only discuss the sencond condition (control)\n",
    "\n",
    "df.to_csv(\"preprocessed_content.csv\", index=False)"
   ]
  },
  {
   "cell_type": "code",
   "execution_count": 627,
   "metadata": {},
   "outputs": [
    {
     "data": {
      "image/png": "[encoded data removed]",
      "text/plain": [
       "<Figure size 640x480 with 1 Axes>"
      ]
     },
     "metadata": {},
     "output_type": "display_data"
    }
   ],
   "source": [
    "# See the length of the preprocessed content\n",
    "df['preprocessed_content'].apply(lambda x: len(x.split())).hist(bins=50)\n",
    "plt.title(\"Length of content\")\n",
    "plt.xlabel(\"Number of words\")\n",
    "plt.ylabel(\"Number of utterances\")\n",
    "plt.show()"
   ]
  },
  {
   "cell_type": "code",
   "execution_count": 628,
   "metadata": {},
   "outputs": [
    {
     "data": {
      "text/html": [
       "<div>\n",
       "<style scoped>\n",
       "    .dataframe tbody tr th:only-of-type {\n",
       "        vertical-align: middle;\n",
       "    }\n",
       "\n",
       "    .dataframe tbody tr th {\n",
       "        vertical-align: top;\n",
       "    }\n",
       "\n",
       "    .dataframe thead th {\n",
       "        text-align: right;\n",
       "    }\n",
       "</style>\n",
       "<table border=\"1\" class=\"dataframe\">\n",
       "  <thead>\n",
       "    <tr style=\"text-align: right;\">\n",
       "      <th></th>\n",
       "      <th>File Name</th>\n",
       "      <th>turn_index</th>\n",
       "      <th>Content</th>\n",
       "      <th>preprocessed_content</th>\n",
       "      <th>Experiment</th>\n",
       "      <th>Condition</th>\n",
       "      <th>Id</th>\n",
       "      <th>Speaker</th>\n",
       "    </tr>\n",
       "  </thead>\n",
       "  <tbody>\n",
       "    <tr>\n",
       "      <th>0</th>\n",
       "      <td>ID 05</td>\n",
       "      <td>1</td>\n",
       "      <td>so, that was very, let's say, unexpected and s...</td>\n",
       "      <td>let unexpected surprising moment go realize ge...</td>\n",
       "      <td>OBE1</td>\n",
       "      <td>1</td>\n",
       "      <td>5</td>\n",
       "      <td>Participant</td>\n",
       "    </tr>\n",
       "    <tr>\n",
       "      <th>1</th>\n",
       "      <td>ID 05</td>\n",
       "      <td>3</td>\n",
       "      <td>a little bit it was a little bit like, okay, w...</td>\n",
       "      <td>watch outside special give lot emotion explain...</td>\n",
       "      <td>OBE1</td>\n",
       "      <td>1</td>\n",
       "      <td>5</td>\n",
       "      <td>Participant</td>\n",
       "    </tr>\n",
       "    <tr>\n",
       "      <th>2</th>\n",
       "      <td>ID 05</td>\n",
       "      <td>5</td>\n",
       "      <td>yeah yeah i feel like i'm back it's okay but y...</td>\n",
       "      <td>get perfect description</td>\n",
       "      <td>OBE1</td>\n",
       "      <td>1</td>\n",
       "      <td>5</td>\n",
       "      <td>Participant</td>\n",
       "    </tr>\n",
       "    <tr>\n",
       "      <th>3</th>\n",
       "      <td>ID 05</td>\n",
       "      <td>7</td>\n",
       "      <td>the thing that i didn't really understand, but...</td>\n",
       "      <td>understand understand body touching basically ...</td>\n",
       "      <td>OBE1</td>\n",
       "      <td>1</td>\n",
       "      <td>5</td>\n",
       "      <td>Participant</td>\n",
       "    </tr>\n",
       "    <tr>\n",
       "      <th>4</th>\n",
       "      <td>ID 05</td>\n",
       "      <td>9</td>\n",
       "      <td>so i felt like a time lag in the last one of w...</td>\n",
       "      <td>lag see body</td>\n",
       "      <td>OBE1</td>\n",
       "      <td>1</td>\n",
       "      <td>5</td>\n",
       "      <td>Participant</td>\n",
       "    </tr>\n",
       "    <tr>\n",
       "      <th>...</th>\n",
       "      <td>...</td>\n",
       "      <td>...</td>\n",
       "      <td>...</td>\n",
       "      <td>...</td>\n",
       "      <td>...</td>\n",
       "      <td>...</td>\n",
       "      <td>...</td>\n",
       "      <td>...</td>\n",
       "    </tr>\n",
       "    <tr>\n",
       "      <th>576</th>\n",
       "      <td>S230 intervention</td>\n",
       "      <td>35</td>\n",
       "      <td>i don't know unpleasant  i probably say i'm no...</td>\n",
       "      <td>unpleasant probably pleasant unpleasant cool i...</td>\n",
       "      <td>OBE2</td>\n",
       "      <td>I</td>\n",
       "      <td>230</td>\n",
       "      <td>Participant</td>\n",
       "    </tr>\n",
       "    <tr>\n",
       "      <th>577</th>\n",
       "      <td>S230 intervention</td>\n",
       "      <td>37</td>\n",
       "      <td>to be honest when i was out of my body i was m...</td>\n",
       "      <td>honest body concentrate happen moment meditate...</td>\n",
       "      <td>OBE2</td>\n",
       "      <td>I</td>\n",
       "      <td>230</td>\n",
       "      <td>Participant</td>\n",
       "    </tr>\n",
       "    <tr>\n",
       "      <th>578</th>\n",
       "      <td>S230 intervention</td>\n",
       "      <td>39</td>\n",
       "      <td>probably yeah, i think i was less concentrate ...</td>\n",
       "      <td>probably concentrate body concentrate look din...</td>\n",
       "      <td>OBE2</td>\n",
       "      <td>I</td>\n",
       "      <td>230</td>\n",
       "      <td>Participant</td>\n",
       "    </tr>\n",
       "    <tr>\n",
       "      <th>579</th>\n",
       "      <td>S230 intervention</td>\n",
       "      <td>41</td>\n",
       "      <td>i don't think so what was the question about l...</td>\n",
       "      <td>have body</td>\n",
       "      <td>OBE2</td>\n",
       "      <td>I</td>\n",
       "      <td>230</td>\n",
       "      <td>Participant</td>\n",
       "    </tr>\n",
       "    <tr>\n",
       "      <th>580</th>\n",
       "      <td>S230 intervention</td>\n",
       "      <td>43</td>\n",
       "      <td>no, really i guess it felt kind of similar to ...</td>\n",
       "      <td>guess similar look myself</td>\n",
       "      <td>OBE2</td>\n",
       "      <td>I</td>\n",
       "      <td>230</td>\n",
       "      <td>Participant</td>\n",
       "    </tr>\n",
       "  </tbody>\n",
       "</table>\n",
       "<p>581 rows × 8 columns</p>\n",
       "</div>"
      ],
      "text/plain": [
       "             File Name  turn_index  \\\n",
       "0                ID 05           1   \n",
       "1                ID 05           3   \n",
       "2                ID 05           5   \n",
       "3                ID 05           7   \n",
       "4                ID 05           9   \n",
       "..                 ...         ...   \n",
       "576  S230 intervention          35   \n",
       "577  S230 intervention          37   \n",
       "578  S230 intervention          39   \n",
       "579  S230 intervention          41   \n",
       "580  S230 intervention          43   \n",
       "\n",
       "                                               Content  \\\n",
       "0    so, that was very, let's say, unexpected and s...   \n",
       "1    a little bit it was a little bit like, okay, w...   \n",
       "2    yeah yeah i feel like i'm back it's okay but y...   \n",
       "3    the thing that i didn't really understand, but...   \n",
       "4    so i felt like a time lag in the last one of w...   \n",
       "..                                                 ...   \n",
       "576  i don't know unpleasant  i probably say i'm no...   \n",
       "577  to be honest when i was out of my body i was m...   \n",
       "578  probably yeah, i think i was less concentrate ...   \n",
       "579  i don't think so what was the question about l...   \n",
       "580  no, really i guess it felt kind of similar to ...   \n",
       "\n",
       "                                  preprocessed_content Experiment Condition  \\\n",
       "0    let unexpected surprising moment go realize ge...       OBE1         1   \n",
       "1    watch outside special give lot emotion explain...       OBE1         1   \n",
       "2                              get perfect description       OBE1         1   \n",
       "3    understand understand body touching basically ...       OBE1         1   \n",
       "4                                         lag see body       OBE1         1   \n",
       "..                                                 ...        ...       ...   \n",
       "576  unpleasant probably pleasant unpleasant cool i...       OBE2         I   \n",
       "577  honest body concentrate happen moment meditate...       OBE2         I   \n",
       "578  probably concentrate body concentrate look din...       OBE2         I   \n",
       "579                                          have body       OBE2         I   \n",
       "580                          guess similar look myself       OBE2         I   \n",
       "\n",
       "      Id      Speaker  \n",
       "0      5  Participant  \n",
       "1      5  Participant  \n",
       "2      5  Participant  \n",
       "3      5  Participant  \n",
       "4      5  Participant  \n",
       "..   ...          ...  \n",
       "576  230  Participant  \n",
       "577  230  Participant  \n",
       "578  230  Participant  \n",
       "579  230  Participant  \n",
       "580  230  Participant  \n",
       "\n",
       "[581 rows x 8 columns]"
      ]
     },
     "execution_count": 628,
     "metadata": {},
     "output_type": "execute_result"
    }
   ],
   "source": [
    "df = df.groupby(['File Name','turn_index']).agg({ \n",
    "    'Content': ' '.join,  # Combine raw text\n",
    "    'preprocessed_content': ' '.join,  # Combine preprocessed text\n",
    "    'Experiment': 'first',   # Keep the first \n",
    "    'Condition': 'first',   # Keep the first\n",
    "    'Id': 'first',   # Keep the first\n",
    "    'Speaker': 'first',   # Keep the first\n",
    "}).reset_index()\n",
    "df"
   ]
  },
  {
   "cell_type": "code",
   "execution_count": 629,
   "metadata": {},
   "outputs": [
    {
     "name": "stdout",
     "output_type": "stream",
     "text": [
      "581\n"
     ]
    }
   ],
   "source": [
    "docs = list(df.preprocessed_content)\n",
    "print(len(docs))"
   ]
  },
  {
   "cell_type": "code",
   "execution_count": 630,
   "metadata": {},
   "outputs": [],
   "source": [
    "# look rows with a specific word in the column preprocessed_content\n",
    "#df[df['preprocessed_content'].str.contains(\"course\")]"
   ]
  },
  {
   "cell_type": "markdown",
   "metadata": {},
   "source": [
    "# Define the model"
   ]
  },
  {
   "cell_type": "code",
   "execution_count": 631,
   "metadata": {},
   "outputs": [
    {
     "name": "stderr",
     "output_type": "stream",
     "text": [
      "Batches: 100%|██████████| 19/19 [00:11<00:00,  1.64it/s]\n"
     ]
    }
   ],
   "source": [
    "from sentence_transformers import SentenceTransformer\n",
    "\n",
    "# Pre-calculate embeddings\n",
    "embedding_model = SentenceTransformer(\"all-mpnet-base-v2\") # Better but slower: all-mpnet-base-v2 || Trade-off: all-MiniLM-L6-v2\n",
    "embeddings = embedding_model.encode(docs, show_progress_bar=True)"
   ]
  },
  {
   "cell_type": "code",
   "execution_count": 632,
   "metadata": {},
   "outputs": [],
   "source": [
    "from umap import UMAP\n",
    "from hdbscan import HDBSCAN\n",
    "\n",
    "# Dimensionality reduction model\n",
    "umap_model = UMAP(n_neighbors=15, n_components=8, min_dist=0.0, metric='cosine', random_state=42)\n",
    "\n",
    "# Clustering model\n",
    "hdbscan_model = HDBSCAN(min_cluster_size=11, metric='euclidean', cluster_selection_method='eom')\n",
    "\n",
    "topic_model = BERTopic(                     \n",
    "# Pipeline models\n",
    "embedding_model=embedding_model,\n",
    "umap_model=umap_model,\n",
    "hdbscan_model=hdbscan_model,\n",
    "# Hyperparameters\n",
    "verbose=True)"
   ]
  },
  {
   "cell_type": "code",
   "execution_count": 633,
   "metadata": {},
   "outputs": [
    {
     "name": "stderr",
     "output_type": "stream",
     "text": [
      "2025-01-06 23:40:56,897 - BERTopic - Embedding - Transforming documents to embeddings.\n",
      "Batches: 100%|██████████| 19/19 [00:09<00:00,  1.93it/s]\n",
      "2025-01-06 23:41:06,782 - BERTopic - Embedding - Completed ✓\n",
      "2025-01-06 23:41:06,783 - BERTopic - Dimensionality - Fitting the dimensionality reduction algorithm\n",
      "2025-01-06 23:41:08,147 - BERTopic - Dimensionality - Completed ✓\n",
      "2025-01-06 23:41:08,148 - BERTopic - Cluster - Start clustering the reduced embeddings\n",
      "2025-01-06 23:41:08,164 - BERTopic - Cluster - Completed ✓\n",
      "2025-01-06 23:41:08,167 - BERTopic - Representation - Extracting topics from clusters using representation models.\n",
      "2025-01-06 23:41:08,193 - BERTopic - Representation - Completed ✓\n"
     ]
    },
    {
     "data": {
      "text/plain": [
       "10"
      ]
     },
     "execution_count": 633,
     "metadata": {},
     "output_type": "execute_result"
    }
   ],
   "source": [
    "topics, ini_probs = topic_model.fit_transform(docs)\n",
    "num_topics = len(topic_model.get_topics()) - 1\n",
    "num_topics"
   ]
  },
  {
   "cell_type": "code",
   "execution_count": 634,
   "metadata": {},
   "outputs": [
    {
     "data": {
      "text/html": [
       "<div>\n",
       "<style scoped>\n",
       "    .dataframe tbody tr th:only-of-type {\n",
       "        vertical-align: middle;\n",
       "    }\n",
       "\n",
       "    .dataframe tbody tr th {\n",
       "        vertical-align: top;\n",
       "    }\n",
       "\n",
       "    .dataframe thead th {\n",
       "        text-align: right;\n",
       "    }\n",
       "</style>\n",
       "<table border=\"1\" class=\"dataframe\">\n",
       "  <thead>\n",
       "    <tr style=\"text-align: right;\">\n",
       "      <th></th>\n",
       "      <th>Topic</th>\n",
       "      <th>Count</th>\n",
       "      <th>Name</th>\n",
       "      <th>Representation</th>\n",
       "      <th>Representative_Docs</th>\n",
       "    </tr>\n",
       "  </thead>\n",
       "  <tbody>\n",
       "    <tr>\n",
       "      <th>0</th>\n",
       "      <td>-1</td>\n",
       "      <td>117</td>\n",
       "      <td>-1_happen_interesting_move_notice</td>\n",
       "      <td>[happen, interesting, move, notice, realize, m...</td>\n",
       "      <td>[different disconnected surround happen surrou...</td>\n",
       "    </tr>\n",
       "    <tr>\n",
       "      <th>1</th>\n",
       "      <td>0</td>\n",
       "      <td>221</td>\n",
       "      <td>0_body_myself_touch_focus</td>\n",
       "      <td>[body, myself, touch, focus, see, look, feelin...</td>\n",
       "      <td>[see body mirror have body see see myself outs...</td>\n",
       "    </tr>\n",
       "    <tr>\n",
       "      <th>2</th>\n",
       "      <td>1</td>\n",
       "      <td>46</td>\n",
       "      <td>1_relax_sleep_asleep_calm</td>\n",
       "      <td>[relax, sleep, asleep, calm, fall, relaxed, re...</td>\n",
       "      <td>[fall asleep, calm want sleep, relaxed afraid ...</td>\n",
       "    </tr>\n",
       "    <tr>\n",
       "      <th>3</th>\n",
       "      <td>2</td>\n",
       "      <td>39</td>\n",
       "      <td>2_body_light_heavy_outside</td>\n",
       "      <td>[body, light, heavy, outside, see, come, insid...</td>\n",
       "      <td>[body, body, body]</td>\n",
       "    </tr>\n",
       "    <tr>\n",
       "      <th>4</th>\n",
       "      <td>3</td>\n",
       "      <td>31</td>\n",
       "      <td>3_want_follow_guy_minute</td>\n",
       "      <td>[want, follow, guy, minute, see, go, love, res...</td>\n",
       "      <td>[want, see guy, right guy want break]</td>\n",
       "    </tr>\n",
       "    <tr>\n",
       "      <th>5</th>\n",
       "      <td>4</td>\n",
       "      <td>30</td>\n",
       "      <td>4_nice_fine_absolutely_good</td>\n",
       "      <td>[nice, fine, absolutely, good, fun, pretty, de...</td>\n",
       "      <td>[nice, fun nice, absolutely fine]</td>\n",
       "    </tr>\n",
       "    <tr>\n",
       "      <th>6</th>\n",
       "      <td>5</td>\n",
       "      <td>28</td>\n",
       "      <td>5_forest_tree_rock_setting</td>\n",
       "      <td>[forest, tree, rock, setting, element, nice, a...</td>\n",
       "      <td>[realize need follow instruction stop stop par...</td>\n",
       "    </tr>\n",
       "    <tr>\n",
       "      <th>7</th>\n",
       "      <td>6</td>\n",
       "      <td>24</td>\n",
       "      <td>6_color_pixel_image_change</td>\n",
       "      <td>[color, pixel, image, change, see, yellow, qua...</td>\n",
       "      <td>[see difference color head signal send rest se...</td>\n",
       "    </tr>\n",
       "    <tr>\n",
       "      <th>8</th>\n",
       "      <td>7</td>\n",
       "      <td>18</td>\n",
       "      <td>7_different_difference_normal_hard</td>\n",
       "      <td>[different, difference, normal, hard, life, ma...</td>\n",
       "      <td>[view different hard main difference go fast, ...</td>\n",
       "    </tr>\n",
       "    <tr>\n",
       "      <th>9</th>\n",
       "      <td>8</td>\n",
       "      <td>14</td>\n",
       "      <td>8_avatar_blink_sync_link</td>\n",
       "      <td>[avatar, blink, sync, link, notice, synchroniz...</td>\n",
       "      <td>[refer avatar avatar myself, avatar blink avat...</td>\n",
       "    </tr>\n",
       "    <tr>\n",
       "      <th>10</th>\n",
       "      <td>9</td>\n",
       "      <td>13</td>\n",
       "      <td>9_strange_funny_weird_accept</td>\n",
       "      <td>[strange, funny, weird, accept, creepy, amazin...</td>\n",
       "      <td>[strange accept strange, strange, strange]</td>\n",
       "    </tr>\n",
       "  </tbody>\n",
       "</table>\n",
       "</div>"
      ],
      "text/plain": [
       "    Topic  Count                                Name  \\\n",
       "0      -1    117   -1_happen_interesting_move_notice   \n",
       "1       0    221           0_body_myself_touch_focus   \n",
       "2       1     46           1_relax_sleep_asleep_calm   \n",
       "3       2     39          2_body_light_heavy_outside   \n",
       "4       3     31            3_want_follow_guy_minute   \n",
       "5       4     30         4_nice_fine_absolutely_good   \n",
       "6       5     28          5_forest_tree_rock_setting   \n",
       "7       6     24          6_color_pixel_image_change   \n",
       "8       7     18  7_different_difference_normal_hard   \n",
       "9       8     14            8_avatar_blink_sync_link   \n",
       "10      9     13        9_strange_funny_weird_accept   \n",
       "\n",
       "                                       Representation  \\\n",
       "0   [happen, interesting, move, notice, realize, m...   \n",
       "1   [body, myself, touch, focus, see, look, feelin...   \n",
       "2   [relax, sleep, asleep, calm, fall, relaxed, re...   \n",
       "3   [body, light, heavy, outside, see, come, insid...   \n",
       "4   [want, follow, guy, minute, see, go, love, res...   \n",
       "5   [nice, fine, absolutely, good, fun, pretty, de...   \n",
       "6   [forest, tree, rock, setting, element, nice, a...   \n",
       "7   [color, pixel, image, change, see, yellow, qua...   \n",
       "8   [different, difference, normal, hard, life, ma...   \n",
       "9   [avatar, blink, sync, link, notice, synchroniz...   \n",
       "10  [strange, funny, weird, accept, creepy, amazin...   \n",
       "\n",
       "                                  Representative_Docs  \n",
       "0   [different disconnected surround happen surrou...  \n",
       "1   [see body mirror have body see see myself outs...  \n",
       "2   [fall asleep, calm want sleep, relaxed afraid ...  \n",
       "3                                  [body, body, body]  \n",
       "4               [want, see guy, right guy want break]  \n",
       "5                   [nice, fun nice, absolutely fine]  \n",
       "6   [realize need follow instruction stop stop par...  \n",
       "7   [see difference color head signal send rest se...  \n",
       "8   [view different hard main difference go fast, ...  \n",
       "9   [refer avatar avatar myself, avatar blink avat...  \n",
       "10         [strange accept strange, strange, strange]  "
      ]
     },
     "execution_count": 634,
     "metadata": {},
     "output_type": "execute_result"
    }
   ],
   "source": [
    "topic_model.get_topic_info().to_csv(\"topic_model.csv\")\n",
    "topic_model.get_topic_info()"
   ]
  },
  {
   "cell_type": "code",
   "execution_count": 635,
   "metadata": {},
   "outputs": [],
   "source": [
    "# # Reduce outliers with pre-calculate embeddings\n",
    "# new_topics = topic_model.reduce_outliers(docs, topics, strategy=\"embeddings\", embeddings=embeddings)\n",
    "# topic_model.update_topics(docs, topics=new_topics)\n",
    "# topics = new_topics\n",
    "\n",
    "# # Display new topics\n",
    "# topic_model.get_topic_info()"
   ]
  },
  {
   "cell_type": "code",
   "execution_count": 636,
   "metadata": {},
   "outputs": [
    {
     "data": {
      "application/vnd.plotly.v1+json": {
       "config": {
        "plotlyServerURL": "https://plot.ly"
       },
       "data": [
        {
         "marker": {
          "color": "#D55E00"
         },
         "orientation": "h",
         "type": "bar",
         "x": [
          0.031214611491532072,
          0.03217838142937133,
          0.03592574317342118,
          0.04139167372687174,
          0.050599785611534866
         ],
         "xaxis": "x",
         "y": [
          "see  ",
          "focus  ",
          "touch  ",
          "myself  ",
          "body  "
         ],
         "yaxis": "y"
        },
        {
         "marker": {
          "color": "#0072B2"
         },
         "orientation": "h",
         "type": "bar",
         "x": [
          0.1588040688325396,
          0.1643982152722949,
          0.16894002181534154,
          0.18033151239626669,
          0.19356536921355189
         ],
         "xaxis": "x2",
         "y": [
          "fall  ",
          "calm  ",
          "asleep  ",
          "sleep  ",
          "relax  "
         ],
         "yaxis": "y2"
        },
        {
         "marker": {
          "color": "#CC79A7"
         },
         "orientation": "h",
         "type": "bar",
         "x": [
          0.08726578398801477,
          0.09107075289175282,
          0.1624359858735494,
          0.166942303359093,
          0.2797588128264568
         ],
         "xaxis": "x3",
         "y": [
          "see  ",
          "outside  ",
          "heavy  ",
          "light  ",
          "body  "
         ],
         "yaxis": "y3"
        },
        {
         "marker": {
          "color": "#E69F00"
         },
         "orientation": "h",
         "type": "bar",
         "x": [
          0.1949554748668415,
          0.19844421677072624,
          0.21058552725013482,
          0.21493377638211536,
          0.257428295350249
         ],
         "xaxis": "x4",
         "y": [
          "see  ",
          "minute  ",
          "guy  ",
          "follow  ",
          "want  "
         ],
         "yaxis": "y4"
        },
        {
         "marker": {
          "color": "#56B4E9"
         },
         "orientation": "h",
         "type": "bar",
         "x": [
          0.25378255848093173,
          0.29150999117934173,
          0.30612935799245855,
          0.37622695562106434,
          0.3946075934556211
         ],
         "xaxis": "x5",
         "y": [
          "fun  ",
          "good  ",
          "absolutely  ",
          "fine  ",
          "nice  "
         ],
         "yaxis": "y5"
        },
        {
         "marker": {
          "color": "#009E73"
         },
         "orientation": "h",
         "type": "bar",
         "x": [
          0.07248869058205286,
          0.11140473383801378,
          0.114037704164934,
          0.11692850100601748,
          0.2307229926853959
         ],
         "xaxis": "x6",
         "y": [
          "element  ",
          "setting  ",
          "rock  ",
          "tree  ",
          "forest  "
         ],
         "yaxis": "y6"
        },
        {
         "marker": {
          "color": "#F0E442"
         },
         "orientation": "h",
         "type": "bar",
         "x": [
          0.0828285407343869,
          0.08785548045509108,
          0.11100029435177787,
          0.1625769324814304,
          0.25246248663685844
         ],
         "xaxis": "x7",
         "y": [
          "see  ",
          "change  ",
          "image  ",
          "pixel  ",
          "color  "
         ],
         "yaxis": "y7"
        },
        {
         "marker": {
          "color": "#D55E00"
         },
         "orientation": "h",
         "type": "bar",
         "x": [
          0.1761019079223152,
          0.18811347781053217,
          0.26967602850315026,
          0.4402547698057879,
          0.5187696982966563
         ],
         "xaxis": "x8",
         "y": [
          "life  ",
          "hard  ",
          "normal  ",
          "difference  ",
          "different  "
         ],
         "yaxis": "y8"
        },
        {
         "marker": {
          "color": "#0072B2"
         },
         "orientation": "h",
         "type": "bar",
         "x": [
          0.19148330956829226,
          0.25630680325905675,
          0.2855053782910482,
          0.4743315997123052,
          0.506315400189518
         ],
         "xaxis": "x9",
         "y": [
          "notice  ",
          "link  ",
          "sync  ",
          "blink  ",
          "avatar  "
         ],
         "yaxis": "y9"
        },
        {
         "marker": {
          "color": "#CC79A7"
         },
         "orientation": "h",
         "type": "bar",
         "x": [
          0.21580831548865645,
          0.21580831548865645,
          0.3084855489962185,
          0.3331027924365762,
          0.634743467764569
         ],
         "xaxis": "x10",
         "y": [
          "creepy  ",
          "accept  ",
          "weird  ",
          "funny  ",
          "strange  "
         ],
         "yaxis": "y10"
        }
       ],
       "layout": {
        "annotations": [
         {
          "font": {
           "size": 16
          },
          "showarrow": false,
          "text": "Topic 0",
          "x": 0.0875,
          "xanchor": "center",
          "xref": "paper",
          "y": 1,
          "yanchor": "bottom",
          "yref": "paper"
         },
         {
          "font": {
           "size": 16
          },
          "showarrow": false,
          "text": "Topic 1",
          "x": 0.36250000000000004,
          "xanchor": "center",
          "xref": "paper",
          "y": 1,
          "yanchor": "bottom",
          "yref": "paper"
         },
         {
          "font": {
           "size": 16
          },
          "showarrow": false,
          "text": "Topic 2",
          "x": 0.6375000000000001,
          "xanchor": "center",
          "xref": "paper",
          "y": 1,
          "yanchor": "bottom",
          "yref": "paper"
         },
         {
          "font": {
           "size": 16
          },
          "showarrow": false,
          "text": "Topic 3",
          "x": 0.9125,
          "xanchor": "center",
          "xref": "paper",
          "y": 1,
          "yanchor": "bottom",
          "yref": "paper"
         },
         {
          "font": {
           "size": 16
          },
          "showarrow": false,
          "text": "Topic 4",
          "x": 0.0875,
          "xanchor": "center",
          "xref": "paper",
          "y": 0.6222222222222222,
          "yanchor": "bottom",
          "yref": "paper"
         },
         {
          "font": {
           "size": 16
          },
          "showarrow": false,
          "text": "Topic 5",
          "x": 0.36250000000000004,
          "xanchor": "center",
          "xref": "paper",
          "y": 0.6222222222222222,
          "yanchor": "bottom",
          "yref": "paper"
         },
         {
          "font": {
           "size": 16
          },
          "showarrow": false,
          "text": "Topic 6",
          "x": 0.6375000000000001,
          "xanchor": "center",
          "xref": "paper",
          "y": 0.6222222222222222,
          "yanchor": "bottom",
          "yref": "paper"
         },
         {
          "font": {
           "size": 16
          },
          "showarrow": false,
          "text": "Topic 7",
          "x": 0.9125,
          "xanchor": "center",
          "xref": "paper",
          "y": 0.6222222222222222,
          "yanchor": "bottom",
          "yref": "paper"
         },
         {
          "font": {
           "size": 16
          },
          "showarrow": false,
          "text": "Topic 8",
          "x": 0.0875,
          "xanchor": "center",
          "xref": "paper",
          "y": 0.24444444444444446,
          "yanchor": "bottom",
          "yref": "paper"
         },
         {
          "font": {
           "size": 16
          },
          "showarrow": false,
          "text": "Topic 9",
          "x": 0.36250000000000004,
          "xanchor": "center",
          "xref": "paper",
          "y": 0.24444444444444446,
          "yanchor": "bottom",
          "yref": "paper"
         }
        ],
        "height": 750,
        "hoverlabel": {
         "bgcolor": "white",
         "font": {
          "family": "Rockwell",
          "size": 16
         }
        },
        "showlegend": false,
        "template": {
         "data": {
          "bar": [
           {
            "error_x": {
             "color": "#2a3f5f"
            },
            "error_y": {
             "color": "#2a3f5f"
            },
            "marker": {
             "line": {
              "color": "white",
              "width": 0.5
             },
             "pattern": {
              "fillmode": "overlay",
              "size": 10,
              "solidity": 0.2
             }
            },
            "type": "bar"
           }
          ],
          "barpolar": [
           {
            "marker": {
             "line": {
              "color": "white",
              "width": 0.5
             },
             "pattern": {
              "fillmode": "overlay",
              "size": 10,
              "solidity": 0.2
             }
            },
            "type": "barpolar"
           }
          ],
          "carpet": [
           {
            "aaxis": {
             "endlinecolor": "#2a3f5f",
             "gridcolor": "#C8D4E3",
             "linecolor": "#C8D4E3",
             "minorgridcolor": "#C8D4E3",
             "startlinecolor": "#2a3f5f"
            },
            "baxis": {
             "endlinecolor": "#2a3f5f",
             "gridcolor": "#C8D4E3",
             "linecolor": "#C8D4E3",
             "minorgridcolor": "#C8D4E3",
             "startlinecolor": "#2a3f5f"
            },
            "type": "carpet"
           }
          ],
          "choropleth": [
           {
            "colorbar": {
             "outlinewidth": 0,
             "ticks": ""
            },
            "type": "choropleth"
           }
          ],
          "contour": [
           {
            "colorbar": {
             "outlinewidth": 0,
             "ticks": ""
            },
            "colorscale": [
             [
              0,
              "#0d0887"
             ],
             [
              0.1111111111111111,
              "#46039f"
             ],
             [
              0.2222222222222222,
              "#7201a8"
             ],
             [
              0.3333333333333333,
              "#9c179e"
             ],
             [
              0.4444444444444444,
              "#bd3786"
             ],
             [
              0.5555555555555556,
              "#d8576b"
             ],
             [
              0.6666666666666666,
              "#ed7953"
             ],
             [
              0.7777777777777778,
              "#fb9f3a"
             ],
             [
              0.8888888888888888,
              "#fdca26"
             ],
             [
              1,
              "#f0f921"
             ]
            ],
            "type": "contour"
           }
          ],
          "contourcarpet": [
           {
            "colorbar": {
             "outlinewidth": 0,
             "ticks": ""
            },
            "type": "contourcarpet"
           }
          ],
          "heatmap": [
           {
            "colorbar": {
             "outlinewidth": 0,
             "ticks": ""
            },
            "colorscale": [
             [
              0,
              "#0d0887"
             ],
             [
              0.1111111111111111,
              "#46039f"
             ],
             [
              0.2222222222222222,
              "#7201a8"
             ],
             [
              0.3333333333333333,
              "#9c179e"
             ],
             [
              0.4444444444444444,
              "#bd3786"
             ],
             [
              0.5555555555555556,
              "#d8576b"
             ],
             [
              0.6666666666666666,
              "#ed7953"
             ],
             [
              0.7777777777777778,
              "#fb9f3a"
             ],
             [
              0.8888888888888888,
              "#fdca26"
             ],
             [
              1,
              "#f0f921"
             ]
            ],
            "type": "heatmap"
           }
          ],
          "heatmapgl": [
           {
            "colorbar": {
             "outlinewidth": 0,
             "ticks": ""
            },
            "colorscale": [
             [
              0,
              "#0d0887"
             ],
             [
              0.1111111111111111,
              "#46039f"
             ],
             [
              0.2222222222222222,
              "#7201a8"
             ],
             [
              0.3333333333333333,
              "#9c179e"
             ],
             [
              0.4444444444444444,
              "#bd3786"
             ],
             [
              0.5555555555555556,
              "#d8576b"
             ],
             [
              0.6666666666666666,
              "#ed7953"
             ],
             [
              0.7777777777777778,
              "#fb9f3a"
             ],
             [
              0.8888888888888888,
              "#fdca26"
             ],
             [
              1,
              "#f0f921"
             ]
            ],
            "type": "heatmapgl"
           }
          ],
          "histogram": [
           {
            "marker": {
             "pattern": {
              "fillmode": "overlay",
              "size": 10,
              "solidity": 0.2
             }
            },
            "type": "histogram"
           }
          ],
          "histogram2d": [
           {
            "colorbar": {
             "outlinewidth": 0,
             "ticks": ""
            },
            "colorscale": [
             [
              0,
              "#0d0887"
             ],
             [
              0.1111111111111111,
              "#46039f"
             ],
             [
              0.2222222222222222,
              "#7201a8"
             ],
             [
              0.3333333333333333,
              "#9c179e"
             ],
             [
              0.4444444444444444,
              "#bd3786"
             ],
             [
              0.5555555555555556,
              "#d8576b"
             ],
             [
              0.6666666666666666,
              "#ed7953"
             ],
             [
              0.7777777777777778,
              "#fb9f3a"
             ],
             [
              0.8888888888888888,
              "#fdca26"
             ],
             [
              1,
              "#f0f921"
             ]
            ],
            "type": "histogram2d"
           }
          ],
          "histogram2dcontour": [
           {
            "colorbar": {
             "outlinewidth": 0,
             "ticks": ""
            },
            "colorscale": [
             [
              0,
              "#0d0887"
             ],
             [
              0.1111111111111111,
              "#46039f"
             ],
             [
              0.2222222222222222,
              "#7201a8"
             ],
             [
              0.3333333333333333,
              "#9c179e"
             ],
             [
              0.4444444444444444,
              "#bd3786"
             ],
             [
              0.5555555555555556,
              "#d8576b"
             ],
             [
              0.6666666666666666,
              "#ed7953"
             ],
             [
              0.7777777777777778,
              "#fb9f3a"
             ],
             [
              0.8888888888888888,
              "#fdca26"
             ],
             [
              1,
              "#f0f921"
             ]
            ],
            "type": "histogram2dcontour"
           }
          ],
          "mesh3d": [
           {
            "colorbar": {
             "outlinewidth": 0,
             "ticks": ""
            },
            "type": "mesh3d"
           }
          ],
          "parcoords": [
           {
            "line": {
             "colorbar": {
              "outlinewidth": 0,
              "ticks": ""
             }
            },
            "type": "parcoords"
           }
          ],
          "pie": [
           {
            "automargin": true,
            "type": "pie"
           }
          ],
          "scatter": [
           {
            "fillpattern": {
             "fillmode": "overlay",
             "size": 10,
             "solidity": 0.2
            },
            "type": "scatter"
           }
          ],
          "scatter3d": [
           {
            "line": {
             "colorbar": {
              "outlinewidth": 0,
              "ticks": ""
             }
            },
            "marker": {
             "colorbar": {
              "outlinewidth": 0,
              "ticks": ""
             }
            },
            "type": "scatter3d"
           }
          ],
          "scattercarpet": [
           {
            "marker": {
             "colorbar": {
              "outlinewidth": 0,
              "ticks": ""
             }
            },
            "type": "scattercarpet"
           }
          ],
          "scattergeo": [
           {
            "marker": {
             "colorbar": {
              "outlinewidth": 0,
              "ticks": ""
             }
            },
            "type": "scattergeo"
           }
          ],
          "scattergl": [
           {
            "marker": {
             "colorbar": {
              "outlinewidth": 0,
              "ticks": ""
             }
            },
            "type": "scattergl"
           }
          ],
          "scattermapbox": [
           {
            "marker": {
             "colorbar": {
              "outlinewidth": 0,
              "ticks": ""
             }
            },
            "type": "scattermapbox"
           }
          ],
          "scatterpolar": [
           {
            "marker": {
             "colorbar": {
              "outlinewidth": 0,
              "ticks": ""
             }
            },
            "type": "scatterpolar"
           }
          ],
          "scatterpolargl": [
           {
            "marker": {
             "colorbar": {
              "outlinewidth": 0,
              "ticks": ""
             }
            },
            "type": "scatterpolargl"
           }
          ],
          "scatterternary": [
           {
            "marker": {
             "colorbar": {
              "outlinewidth": 0,
              "ticks": ""
             }
            },
            "type": "scatterternary"
           }
          ],
          "surface": [
           {
            "colorbar": {
             "outlinewidth": 0,
             "ticks": ""
            },
            "colorscale": [
             [
              0,
              "#0d0887"
             ],
             [
              0.1111111111111111,
              "#46039f"
             ],
             [
              0.2222222222222222,
              "#7201a8"
             ],
             [
              0.3333333333333333,
              "#9c179e"
             ],
             [
              0.4444444444444444,
              "#bd3786"
             ],
             [
              0.5555555555555556,
              "#d8576b"
             ],
             [
              0.6666666666666666,
              "#ed7953"
             ],
             [
              0.7777777777777778,
              "#fb9f3a"
             ],
             [
              0.8888888888888888,
              "#fdca26"
             ],
             [
              1,
              "#f0f921"
             ]
            ],
            "type": "surface"
           }
          ],
          "table": [
           {
            "cells": {
             "fill": {
              "color": "#EBF0F8"
             },
             "line": {
              "color": "white"
             }
            },
            "header": {
             "fill": {
              "color": "#C8D4E3"
             },
             "line": {
              "color": "white"
             }
            },
            "type": "table"
           }
          ]
         },
         "layout": {
          "annotationdefaults": {
           "arrowcolor": "#2a3f5f",
           "arrowhead": 0,
           "arrowwidth": 1
          },
          "autotypenumbers": "strict",
          "coloraxis": {
           "colorbar": {
            "outlinewidth": 0,
            "ticks": ""
           }
          },
          "colorscale": {
           "diverging": [
            [
             0,
             "#8e0152"
            ],
            [
             0.1,
             "#c51b7d"
            ],
            [
             0.2,
             "#de77ae"
            ],
            [
             0.3,
             "#f1b6da"
            ],
            [
             0.4,
             "#fde0ef"
            ],
            [
             0.5,
             "#f7f7f7"
            ],
            [
             0.6,
             "#e6f5d0"
            ],
            [
             0.7,
             "#b8e186"
            ],
            [
             0.8,
             "#7fbc41"
            ],
            [
             0.9,
             "#4d9221"
            ],
            [
             1,
             "#276419"
            ]
           ],
           "sequential": [
            [
             0,
             "#0d0887"
            ],
            [
             0.1111111111111111,
             "#46039f"
            ],
            [
             0.2222222222222222,
             "#7201a8"
            ],
            [
             0.3333333333333333,
             "#9c179e"
            ],
            [
             0.4444444444444444,
             "#bd3786"
            ],
            [
             0.5555555555555556,
             "#d8576b"
            ],
            [
             0.6666666666666666,
             "#ed7953"
            ],
            [
             0.7777777777777778,
             "#fb9f3a"
            ],
            [
             0.8888888888888888,
             "#fdca26"
            ],
            [
             1,
             "#f0f921"
            ]
           ],
           "sequentialminus": [
            [
             0,
             "#0d0887"
            ],
            [
             0.1111111111111111,
             "#46039f"
            ],
            [
             0.2222222222222222,
             "#7201a8"
            ],
            [
             0.3333333333333333,
             "#9c179e"
            ],
            [
             0.4444444444444444,
             "#bd3786"
            ],
            [
             0.5555555555555556,
             "#d8576b"
            ],
            [
             0.6666666666666666,
             "#ed7953"
            ],
            [
             0.7777777777777778,
             "#fb9f3a"
            ],
            [
             0.8888888888888888,
             "#fdca26"
            ],
            [
             1,
             "#f0f921"
            ]
           ]
          },
          "colorway": [
           "#636efa",
           "#EF553B",
           "#00cc96",
           "#ab63fa",
           "#FFA15A",
           "#19d3f3",
           "#FF6692",
           "#B6E880",
           "#FF97FF",
           "#FECB52"
          ],
          "font": {
           "color": "#2a3f5f"
          },
          "geo": {
           "bgcolor": "white",
           "lakecolor": "white",
           "landcolor": "white",
           "showlakes": true,
           "showland": true,
           "subunitcolor": "#C8D4E3"
          },
          "hoverlabel": {
           "align": "left"
          },
          "hovermode": "closest",
          "mapbox": {
           "style": "light"
          },
          "paper_bgcolor": "white",
          "plot_bgcolor": "white",
          "polar": {
           "angularaxis": {
            "gridcolor": "#EBF0F8",
            "linecolor": "#EBF0F8",
            "ticks": ""
           },
           "bgcolor": "white",
           "radialaxis": {
            "gridcolor": "#EBF0F8",
            "linecolor": "#EBF0F8",
            "ticks": ""
           }
          },
          "scene": {
           "xaxis": {
            "backgroundcolor": "white",
            "gridcolor": "#DFE8F3",
            "gridwidth": 2,
            "linecolor": "#EBF0F8",
            "showbackground": true,
            "ticks": "",
            "zerolinecolor": "#EBF0F8"
           },
           "yaxis": {
            "backgroundcolor": "white",
            "gridcolor": "#DFE8F3",
            "gridwidth": 2,
            "linecolor": "#EBF0F8",
            "showbackground": true,
            "ticks": "",
            "zerolinecolor": "#EBF0F8"
           },
           "zaxis": {
            "backgroundcolor": "white",
            "gridcolor": "#DFE8F3",
            "gridwidth": 2,
            "linecolor": "#EBF0F8",
            "showbackground": true,
            "ticks": "",
            "zerolinecolor": "#EBF0F8"
           }
          },
          "shapedefaults": {
           "line": {
            "color": "#2a3f5f"
           }
          },
          "ternary": {
           "aaxis": {
            "gridcolor": "#DFE8F3",
            "linecolor": "#A2B1C6",
            "ticks": ""
           },
           "baxis": {
            "gridcolor": "#DFE8F3",
            "linecolor": "#A2B1C6",
            "ticks": ""
           },
           "bgcolor": "white",
           "caxis": {
            "gridcolor": "#DFE8F3",
            "linecolor": "#A2B1C6",
            "ticks": ""
           }
          },
          "title": {
           "x": 0.05
          },
          "xaxis": {
           "automargin": true,
           "gridcolor": "#EBF0F8",
           "linecolor": "#EBF0F8",
           "ticks": "",
           "title": {
            "standoff": 15
           },
           "zerolinecolor": "#EBF0F8",
           "zerolinewidth": 2
          },
          "yaxis": {
           "automargin": true,
           "gridcolor": "#EBF0F8",
           "linecolor": "#EBF0F8",
           "ticks": "",
           "title": {
            "standoff": 15
           },
           "zerolinecolor": "#EBF0F8",
           "zerolinewidth": 2
          }
         }
        },
        "title": {
         "font": {
          "color": "Black",
          "size": 22
         },
         "text": "Topic Word Scores",
         "x": 0.5,
         "xanchor": "center",
         "yanchor": "top"
        },
        "width": 1000,
        "xaxis": {
         "anchor": "y",
         "domain": [
          0,
          0.175
         ],
         "showgrid": true
        },
        "xaxis10": {
         "anchor": "y10",
         "domain": [
          0.275,
          0.45
         ],
         "showgrid": true
        },
        "xaxis11": {
         "anchor": "y11",
         "domain": [
          0.55,
          0.7250000000000001
         ],
         "showgrid": true
        },
        "xaxis12": {
         "anchor": "y12",
         "domain": [
          0.825,
          1
         ],
         "showgrid": true
        },
        "xaxis2": {
         "anchor": "y2",
         "domain": [
          0.275,
          0.45
         ],
         "showgrid": true
        },
        "xaxis3": {
         "anchor": "y3",
         "domain": [
          0.55,
          0.7250000000000001
         ],
         "showgrid": true
        },
        "xaxis4": {
         "anchor": "y4",
         "domain": [
          0.825,
          1
         ],
         "showgrid": true
        },
        "xaxis5": {
         "anchor": "y5",
         "domain": [
          0,
          0.175
         ],
         "showgrid": true
        },
        "xaxis6": {
         "anchor": "y6",
         "domain": [
          0.275,
          0.45
         ],
         "showgrid": true
        },
        "xaxis7": {
         "anchor": "y7",
         "domain": [
          0.55,
          0.7250000000000001
         ],
         "showgrid": true
        },
        "xaxis8": {
         "anchor": "y8",
         "domain": [
          0.825,
          1
         ],
         "showgrid": true
        },
        "xaxis9": {
         "anchor": "y9",
         "domain": [
          0,
          0.175
         ],
         "showgrid": true
        },
        "yaxis": {
         "anchor": "x",
         "domain": [
          0.7555555555555555,
          1
         ],
         "showgrid": true
        },
        "yaxis10": {
         "anchor": "x10",
         "domain": [
          0,
          0.24444444444444446
         ],
         "showgrid": true
        },
        "yaxis11": {
         "anchor": "x11",
         "domain": [
          0,
          0.24444444444444446
         ],
         "showgrid": true
        },
        "yaxis12": {
         "anchor": "x12",
         "domain": [
          0,
          0.24444444444444446
         ],
         "showgrid": true
        },
        "yaxis2": {
         "anchor": "x2",
         "domain": [
          0.7555555555555555,
          1
         ],
         "showgrid": true
        },
        "yaxis3": {
         "anchor": "x3",
         "domain": [
          0.7555555555555555,
          1
         ],
         "showgrid": true
        },
        "yaxis4": {
         "anchor": "x4",
         "domain": [
          0.7555555555555555,
          1
         ],
         "showgrid": true
        },
        "yaxis5": {
         "anchor": "x5",
         "domain": [
          0.37777777777777777,
          0.6222222222222222
         ],
         "showgrid": true
        },
        "yaxis6": {
         "anchor": "x6",
         "domain": [
          0.37777777777777777,
          0.6222222222222222
         ],
         "showgrid": true
        },
        "yaxis7": {
         "anchor": "x7",
         "domain": [
          0.37777777777777777,
          0.6222222222222222
         ],
         "showgrid": true
        },
        "yaxis8": {
         "anchor": "x8",
         "domain": [
          0.37777777777777777,
          0.6222222222222222
         ],
         "showgrid": true
        },
        "yaxis9": {
         "anchor": "x9",
         "domain": [
          0,
          0.24444444444444446
         ],
         "showgrid": true
        }
       }
      }
     },
     "metadata": {},
     "output_type": "display_data"
    }
   ],
   "source": [
    "topic_model.visualize_barchart(top_n_topics=16)"
   ]
  },
  {
   "cell_type": "code",
   "execution_count": 637,
   "metadata": {},
   "outputs": [
    {
     "data": {
      "application/vnd.plotly.v1+json": {
       "config": {
        "plotlyServerURL": "https://plot.ly"
       },
       "data": [
        {
         "customdata": [
          [
           0,
           "body | myself | touch | focus | see",
           221
          ],
          [
           1,
           "relax | sleep | asleep | calm | fall",
           46
          ],
          [
           2,
           "body | light | heavy | outside | see",
           39
          ],
          [
           3,
           "want | follow | guy | minute | see",
           31
          ],
          [
           4,
           "nice | fine | absolutely | good | fun",
           30
          ],
          [
           5,
           "forest | tree | rock | setting | element",
           28
          ],
          [
           6,
           "color | pixel | image | change | see",
           24
          ],
          [
           7,
           "different | difference | normal | hard | life",
           18
          ],
          [
           8,
           "avatar | blink | sync | link | notice",
           14
          ],
          [
           9,
           "strange | funny | weird | accept | creepy",
           13
          ]
         ],
         "hovertemplate": "<b>Topic %{customdata[0]}</b><br>%{customdata[1]}<br>Size: %{customdata[2]}",
         "legendgroup": "",
         "marker": {
          "color": "#B0BEC5",
          "line": {
           "color": "DarkSlateGrey",
           "width": 2
          },
          "size": [
           221,
           46,
           39,
           31,
           30,
           28,
           24,
           18,
           14,
           13
          ],
          "sizemode": "area",
          "sizeref": 0.138125,
          "symbol": "circle"
         },
         "mode": "markers",
         "name": "",
         "orientation": "v",
         "showlegend": false,
         "type": "scatter",
         "x": [
          20.20008659362793,
          -7.249534606933594,
          20.71097755432129,
          -7.7642669677734375,
          -7.4626922607421875,
          20.575782775878906,
          19.668407440185547,
          -8.269933700561523,
          20.01591682434082,
          -7.317419052124023
         ],
         "xaxis": "x",
         "y": [
          19.012704849243164,
          4.422088146209717,
          19.185331344604492,
          4.008912563323975,
          5.011017322540283,
          18.439971923828125,
          18.725820541381836,
          4.192259788513184,
          19.55144500732422,
          3.559225082397461
         ],
         "yaxis": "y"
        }
       ],
       "layout": {
        "annotations": [
         {
          "showarrow": false,
          "text": "D1",
          "x": -9.51042366027832,
          "y": 12.754751205444336,
          "yshift": 10
         },
         {
          "showarrow": false,
          "text": "D2",
          "x": 7.153600692749023,
          "xshift": 10,
          "y": 22.484161376953125
         }
        ],
        "height": 650,
        "hoverlabel": {
         "bgcolor": "white",
         "font": {
          "family": "Rockwell",
          "size": 16
         }
        },
        "legend": {
         "itemsizing": "constant",
         "tracegroupgap": 0
        },
        "margin": {
         "t": 60
        },
        "shapes": [
         {
          "line": {
           "color": "#CFD8DC",
           "width": 2
          },
          "type": "line",
          "x0": 7.153600692749023,
          "x1": 7.153600692749023,
          "y0": 3.025341272354126,
          "y1": 22.484161376953125
         },
         {
          "line": {
           "color": "#9E9E9E",
           "width": 2
          },
          "type": "line",
          "x0": -9.51042366027832,
          "x1": 23.817625045776367,
          "y0": 12.754751205444336,
          "y1": 12.754751205444336
         }
        ],
        "sliders": [
         {
          "active": 0,
          "pad": {
           "t": 50
          },
          "steps": [
           {
            "args": [
             {
              "marker.color": [
               [
                "red",
                "#B0BEC5",
                "#B0BEC5",
                "#B0BEC5",
                "#B0BEC5",
                "#B0BEC5",
                "#B0BEC5",
                "#B0BEC5",
                "#B0BEC5",
                "#B0BEC5"
               ]
              ]
             }
            ],
            "label": "Topic 0",
            "method": "update"
           },
           {
            "args": [
             {
              "marker.color": [
               [
                "#B0BEC5",
                "red",
                "#B0BEC5",
                "#B0BEC5",
                "#B0BEC5",
                "#B0BEC5",
                "#B0BEC5",
                "#B0BEC5",
                "#B0BEC5",
                "#B0BEC5"
               ]
              ]
             }
            ],
            "label": "Topic 1",
            "method": "update"
           },
           {
            "args": [
             {
              "marker.color": [
               [
                "#B0BEC5",
                "#B0BEC5",
                "red",
                "#B0BEC5",
                "#B0BEC5",
                "#B0BEC5",
                "#B0BEC5",
                "#B0BEC5",
                "#B0BEC5",
                "#B0BEC5"
               ]
              ]
             }
            ],
            "label": "Topic 2",
            "method": "update"
           },
           {
            "args": [
             {
              "marker.color": [
               [
                "#B0BEC5",
                "#B0BEC5",
                "#B0BEC5",
                "red",
                "#B0BEC5",
                "#B0BEC5",
                "#B0BEC5",
                "#B0BEC5",
                "#B0BEC5",
                "#B0BEC5"
               ]
              ]
             }
            ],
            "label": "Topic 3",
            "method": "update"
           },
           {
            "args": [
             {
              "marker.color": [
               [
                "#B0BEC5",
                "#B0BEC5",
                "#B0BEC5",
                "#B0BEC5",
                "red",
                "#B0BEC5",
                "#B0BEC5",
                "#B0BEC5",
                "#B0BEC5",
                "#B0BEC5"
               ]
              ]
             }
            ],
            "label": "Topic 4",
            "method": "update"
           },
           {
            "args": [
             {
              "marker.color": [
               [
                "#B0BEC5",
                "#B0BEC5",
                "#B0BEC5",
                "#B0BEC5",
                "#B0BEC5",
                "red",
                "#B0BEC5",
                "#B0BEC5",
                "#B0BEC5",
                "#B0BEC5"
               ]
              ]
             }
            ],
            "label": "Topic 5",
            "method": "update"
           },
           {
            "args": [
             {
              "marker.color": [
               [
                "#B0BEC5",
                "#B0BEC5",
                "#B0BEC5",
                "#B0BEC5",
                "#B0BEC5",
                "#B0BEC5",
                "red",
                "#B0BEC5",
                "#B0BEC5",
                "#B0BEC5"
               ]
              ]
             }
            ],
            "label": "Topic 6",
            "method": "update"
           },
           {
            "args": [
             {
              "marker.color": [
               [
                "#B0BEC5",
                "#B0BEC5",
                "#B0BEC5",
                "#B0BEC5",
                "#B0BEC5",
                "#B0BEC5",
                "#B0BEC5",
                "red",
                "#B0BEC5",
                "#B0BEC5"
               ]
              ]
             }
            ],
            "label": "Topic 7",
            "method": "update"
           },
           {
            "args": [
             {
              "marker.color": [
               [
                "#B0BEC5",
                "#B0BEC5",
                "#B0BEC5",
                "#B0BEC5",
                "#B0BEC5",
                "#B0BEC5",
                "#B0BEC5",
                "#B0BEC5",
                "red",
                "#B0BEC5"
               ]
              ]
             }
            ],
            "label": "Topic 8",
            "method": "update"
           },
           {
            "args": [
             {
              "marker.color": [
               [
                "#B0BEC5",
                "#B0BEC5",
                "#B0BEC5",
                "#B0BEC5",
                "#B0BEC5",
                "#B0BEC5",
                "#B0BEC5",
                "#B0BEC5",
                "#B0BEC5",
                "red"
               ]
              ]
             }
            ],
            "label": "Topic 9",
            "method": "update"
           }
          ]
         }
        ],
        "template": {
         "data": {
          "bar": [
           {
            "error_x": {
             "color": "rgb(36,36,36)"
            },
            "error_y": {
             "color": "rgb(36,36,36)"
            },
            "marker": {
             "line": {
              "color": "white",
              "width": 0.5
             },
             "pattern": {
              "fillmode": "overlay",
              "size": 10,
              "solidity": 0.2
             }
            },
            "type": "bar"
           }
          ],
          "barpolar": [
           {
            "marker": {
             "line": {
              "color": "white",
              "width": 0.5
             },
             "pattern": {
              "fillmode": "overlay",
              "size": 10,
              "solidity": 0.2
             }
            },
            "type": "barpolar"
           }
          ],
          "carpet": [
           {
            "aaxis": {
             "endlinecolor": "rgb(36,36,36)",
             "gridcolor": "white",
             "linecolor": "white",
             "minorgridcolor": "white",
             "startlinecolor": "rgb(36,36,36)"
            },
            "baxis": {
             "endlinecolor": "rgb(36,36,36)",
             "gridcolor": "white",
             "linecolor": "white",
             "minorgridcolor": "white",
             "startlinecolor": "rgb(36,36,36)"
            },
            "type": "carpet"
           }
          ],
          "choropleth": [
           {
            "colorbar": {
             "outlinewidth": 1,
             "tickcolor": "rgb(36,36,36)",
             "ticks": "outside"
            },
            "type": "choropleth"
           }
          ],
          "contour": [
           {
            "colorbar": {
             "outlinewidth": 1,
             "tickcolor": "rgb(36,36,36)",
             "ticks": "outside"
            },
            "colorscale": [
             [
              0,
              "#440154"
             ],
             [
              0.1111111111111111,
              "#482878"
             ],
             [
              0.2222222222222222,
              "#3e4989"
             ],
             [
              0.3333333333333333,
              "#31688e"
             ],
             [
              0.4444444444444444,
              "#26828e"
             ],
             [
              0.5555555555555556,
              "#1f9e89"
             ],
             [
              0.6666666666666666,
              "#35b779"
             ],
             [
              0.7777777777777778,
              "#6ece58"
             ],
             [
              0.8888888888888888,
              "#b5de2b"
             ],
             [
              1,
              "#fde725"
             ]
            ],
            "type": "contour"
           }
          ],
          "contourcarpet": [
           {
            "colorbar": {
             "outlinewidth": 1,
             "tickcolor": "rgb(36,36,36)",
             "ticks": "outside"
            },
            "type": "contourcarpet"
           }
          ],
          "heatmap": [
           {
            "colorbar": {
             "outlinewidth": 1,
             "tickcolor": "rgb(36,36,36)",
             "ticks": "outside"
            },
            "colorscale": [
             [
              0,
              "#440154"
             ],
             [
              0.1111111111111111,
              "#482878"
             ],
             [
              0.2222222222222222,
              "#3e4989"
             ],
             [
              0.3333333333333333,
              "#31688e"
             ],
             [
              0.4444444444444444,
              "#26828e"
             ],
             [
              0.5555555555555556,
              "#1f9e89"
             ],
             [
              0.6666666666666666,
              "#35b779"
             ],
             [
              0.7777777777777778,
              "#6ece58"
             ],
             [
              0.8888888888888888,
              "#b5de2b"
             ],
             [
              1,
              "#fde725"
             ]
            ],
            "type": "heatmap"
           }
          ],
          "heatmapgl": [
           {
            "colorbar": {
             "outlinewidth": 1,
             "tickcolor": "rgb(36,36,36)",
             "ticks": "outside"
            },
            "colorscale": [
             [
              0,
              "#440154"
             ],
             [
              0.1111111111111111,
              "#482878"
             ],
             [
              0.2222222222222222,
              "#3e4989"
             ],
             [
              0.3333333333333333,
              "#31688e"
             ],
             [
              0.4444444444444444,
              "#26828e"
             ],
             [
              0.5555555555555556,
              "#1f9e89"
             ],
             [
              0.6666666666666666,
              "#35b779"
             ],
             [
              0.7777777777777778,
              "#6ece58"
             ],
             [
              0.8888888888888888,
              "#b5de2b"
             ],
             [
              1,
              "#fde725"
             ]
            ],
            "type": "heatmapgl"
           }
          ],
          "histogram": [
           {
            "marker": {
             "line": {
              "color": "white",
              "width": 0.6
             }
            },
            "type": "histogram"
           }
          ],
          "histogram2d": [
           {
            "colorbar": {
             "outlinewidth": 1,
             "tickcolor": "rgb(36,36,36)",
             "ticks": "outside"
            },
            "colorscale": [
             [
              0,
              "#440154"
             ],
             [
              0.1111111111111111,
              "#482878"
             ],
             [
              0.2222222222222222,
              "#3e4989"
             ],
             [
              0.3333333333333333,
              "#31688e"
             ],
             [
              0.4444444444444444,
              "#26828e"
             ],
             [
              0.5555555555555556,
              "#1f9e89"
             ],
             [
              0.6666666666666666,
              "#35b779"
             ],
             [
              0.7777777777777778,
              "#6ece58"
             ],
             [
              0.8888888888888888,
              "#b5de2b"
             ],
             [
              1,
              "#fde725"
             ]
            ],
            "type": "histogram2d"
           }
          ],
          "histogram2dcontour": [
           {
            "colorbar": {
             "outlinewidth": 1,
             "tickcolor": "rgb(36,36,36)",
             "ticks": "outside"
            },
            "colorscale": [
             [
              0,
              "#440154"
             ],
             [
              0.1111111111111111,
              "#482878"
             ],
             [
              0.2222222222222222,
              "#3e4989"
             ],
             [
              0.3333333333333333,
              "#31688e"
             ],
             [
              0.4444444444444444,
              "#26828e"
             ],
             [
              0.5555555555555556,
              "#1f9e89"
             ],
             [
              0.6666666666666666,
              "#35b779"
             ],
             [
              0.7777777777777778,
              "#6ece58"
             ],
             [
              0.8888888888888888,
              "#b5de2b"
             ],
             [
              1,
              "#fde725"
             ]
            ],
            "type": "histogram2dcontour"
           }
          ],
          "mesh3d": [
           {
            "colorbar": {
             "outlinewidth": 1,
             "tickcolor": "rgb(36,36,36)",
             "ticks": "outside"
            },
            "type": "mesh3d"
           }
          ],
          "parcoords": [
           {
            "line": {
             "colorbar": {
              "outlinewidth": 1,
              "tickcolor": "rgb(36,36,36)",
              "ticks": "outside"
             }
            },
            "type": "parcoords"
           }
          ],
          "pie": [
           {
            "automargin": true,
            "type": "pie"
           }
          ],
          "scatter": [
           {
            "fillpattern": {
             "fillmode": "overlay",
             "size": 10,
             "solidity": 0.2
            },
            "type": "scatter"
           }
          ],
          "scatter3d": [
           {
            "line": {
             "colorbar": {
              "outlinewidth": 1,
              "tickcolor": "rgb(36,36,36)",
              "ticks": "outside"
             }
            },
            "marker": {
             "colorbar": {
              "outlinewidth": 1,
              "tickcolor": "rgb(36,36,36)",
              "ticks": "outside"
             }
            },
            "type": "scatter3d"
           }
          ],
          "scattercarpet": [
           {
            "marker": {
             "colorbar": {
              "outlinewidth": 1,
              "tickcolor": "rgb(36,36,36)",
              "ticks": "outside"
             }
            },
            "type": "scattercarpet"
           }
          ],
          "scattergeo": [
           {
            "marker": {
             "colorbar": {
              "outlinewidth": 1,
              "tickcolor": "rgb(36,36,36)",
              "ticks": "outside"
             }
            },
            "type": "scattergeo"
           }
          ],
          "scattergl": [
           {
            "marker": {
             "colorbar": {
              "outlinewidth": 1,
              "tickcolor": "rgb(36,36,36)",
              "ticks": "outside"
             }
            },
            "type": "scattergl"
           }
          ],
          "scattermapbox": [
           {
            "marker": {
             "colorbar": {
              "outlinewidth": 1,
              "tickcolor": "rgb(36,36,36)",
              "ticks": "outside"
             }
            },
            "type": "scattermapbox"
           }
          ],
          "scatterpolar": [
           {
            "marker": {
             "colorbar": {
              "outlinewidth": 1,
              "tickcolor": "rgb(36,36,36)",
              "ticks": "outside"
             }
            },
            "type": "scatterpolar"
           }
          ],
          "scatterpolargl": [
           {
            "marker": {
             "colorbar": {
              "outlinewidth": 1,
              "tickcolor": "rgb(36,36,36)",
              "ticks": "outside"
             }
            },
            "type": "scatterpolargl"
           }
          ],
          "scatterternary": [
           {
            "marker": {
             "colorbar": {
              "outlinewidth": 1,
              "tickcolor": "rgb(36,36,36)",
              "ticks": "outside"
             }
            },
            "type": "scatterternary"
           }
          ],
          "surface": [
           {
            "colorbar": {
             "outlinewidth": 1,
             "tickcolor": "rgb(36,36,36)",
             "ticks": "outside"
            },
            "colorscale": [
             [
              0,
              "#440154"
             ],
             [
              0.1111111111111111,
              "#482878"
             ],
             [
              0.2222222222222222,
              "#3e4989"
             ],
             [
              0.3333333333333333,
              "#31688e"
             ],
             [
              0.4444444444444444,
              "#26828e"
             ],
             [
              0.5555555555555556,
              "#1f9e89"
             ],
             [
              0.6666666666666666,
              "#35b779"
             ],
             [
              0.7777777777777778,
              "#6ece58"
             ],
             [
              0.8888888888888888,
              "#b5de2b"
             ],
             [
              1,
              "#fde725"
             ]
            ],
            "type": "surface"
           }
          ],
          "table": [
           {
            "cells": {
             "fill": {
              "color": "rgb(237,237,237)"
             },
             "line": {
              "color": "white"
             }
            },
            "header": {
             "fill": {
              "color": "rgb(217,217,217)"
             },
             "line": {
              "color": "white"
             }
            },
            "type": "table"
           }
          ]
         },
         "layout": {
          "annotationdefaults": {
           "arrowhead": 0,
           "arrowwidth": 1
          },
          "autotypenumbers": "strict",
          "coloraxis": {
           "colorbar": {
            "outlinewidth": 1,
            "tickcolor": "rgb(36,36,36)",
            "ticks": "outside"
           }
          },
          "colorscale": {
           "diverging": [
            [
             0,
             "rgb(103,0,31)"
            ],
            [
             0.1,
             "rgb(178,24,43)"
            ],
            [
             0.2,
             "rgb(214,96,77)"
            ],
            [
             0.3,
             "rgb(244,165,130)"
            ],
            [
             0.4,
             "rgb(253,219,199)"
            ],
            [
             0.5,
             "rgb(247,247,247)"
            ],
            [
             0.6,
             "rgb(209,229,240)"
            ],
            [
             0.7,
             "rgb(146,197,222)"
            ],
            [
             0.8,
             "rgb(67,147,195)"
            ],
            [
             0.9,
             "rgb(33,102,172)"
            ],
            [
             1,
             "rgb(5,48,97)"
            ]
           ],
           "sequential": [
            [
             0,
             "#440154"
            ],
            [
             0.1111111111111111,
             "#482878"
            ],
            [
             0.2222222222222222,
             "#3e4989"
            ],
            [
             0.3333333333333333,
             "#31688e"
            ],
            [
             0.4444444444444444,
             "#26828e"
            ],
            [
             0.5555555555555556,
             "#1f9e89"
            ],
            [
             0.6666666666666666,
             "#35b779"
            ],
            [
             0.7777777777777778,
             "#6ece58"
            ],
            [
             0.8888888888888888,
             "#b5de2b"
            ],
            [
             1,
             "#fde725"
            ]
           ],
           "sequentialminus": [
            [
             0,
             "#440154"
            ],
            [
             0.1111111111111111,
             "#482878"
            ],
            [
             0.2222222222222222,
             "#3e4989"
            ],
            [
             0.3333333333333333,
             "#31688e"
            ],
            [
             0.4444444444444444,
             "#26828e"
            ],
            [
             0.5555555555555556,
             "#1f9e89"
            ],
            [
             0.6666666666666666,
             "#35b779"
            ],
            [
             0.7777777777777778,
             "#6ece58"
            ],
            [
             0.8888888888888888,
             "#b5de2b"
            ],
            [
             1,
             "#fde725"
            ]
           ]
          },
          "colorway": [
           "#1F77B4",
           "#FF7F0E",
           "#2CA02C",
           "#D62728",
           "#9467BD",
           "#8C564B",
           "#E377C2",
           "#7F7F7F",
           "#BCBD22",
           "#17BECF"
          ],
          "font": {
           "color": "rgb(36,36,36)"
          },
          "geo": {
           "bgcolor": "white",
           "lakecolor": "white",
           "landcolor": "white",
           "showlakes": true,
           "showland": true,
           "subunitcolor": "white"
          },
          "hoverlabel": {
           "align": "left"
          },
          "hovermode": "closest",
          "mapbox": {
           "style": "light"
          },
          "paper_bgcolor": "white",
          "plot_bgcolor": "white",
          "polar": {
           "angularaxis": {
            "gridcolor": "rgb(232,232,232)",
            "linecolor": "rgb(36,36,36)",
            "showgrid": false,
            "showline": true,
            "ticks": "outside"
           },
           "bgcolor": "white",
           "radialaxis": {
            "gridcolor": "rgb(232,232,232)",
            "linecolor": "rgb(36,36,36)",
            "showgrid": false,
            "showline": true,
            "ticks": "outside"
           }
          },
          "scene": {
           "xaxis": {
            "backgroundcolor": "white",
            "gridcolor": "rgb(232,232,232)",
            "gridwidth": 2,
            "linecolor": "rgb(36,36,36)",
            "showbackground": true,
            "showgrid": false,
            "showline": true,
            "ticks": "outside",
            "zeroline": false,
            "zerolinecolor": "rgb(36,36,36)"
           },
           "yaxis": {
            "backgroundcolor": "white",
            "gridcolor": "rgb(232,232,232)",
            "gridwidth": 2,
            "linecolor": "rgb(36,36,36)",
            "showbackground": true,
            "showgrid": false,
            "showline": true,
            "ticks": "outside",
            "zeroline": false,
            "zerolinecolor": "rgb(36,36,36)"
           },
           "zaxis": {
            "backgroundcolor": "white",
            "gridcolor": "rgb(232,232,232)",
            "gridwidth": 2,
            "linecolor": "rgb(36,36,36)",
            "showbackground": true,
            "showgrid": false,
            "showline": true,
            "ticks": "outside",
            "zeroline": false,
            "zerolinecolor": "rgb(36,36,36)"
           }
          },
          "shapedefaults": {
           "fillcolor": "black",
           "line": {
            "width": 0
           },
           "opacity": 0.3
          },
          "ternary": {
           "aaxis": {
            "gridcolor": "rgb(232,232,232)",
            "linecolor": "rgb(36,36,36)",
            "showgrid": false,
            "showline": true,
            "ticks": "outside"
           },
           "baxis": {
            "gridcolor": "rgb(232,232,232)",
            "linecolor": "rgb(36,36,36)",
            "showgrid": false,
            "showline": true,
            "ticks": "outside"
           },
           "bgcolor": "white",
           "caxis": {
            "gridcolor": "rgb(232,232,232)",
            "linecolor": "rgb(36,36,36)",
            "showgrid": false,
            "showline": true,
            "ticks": "outside"
           }
          },
          "title": {
           "x": 0.05
          },
          "xaxis": {
           "automargin": true,
           "gridcolor": "rgb(232,232,232)",
           "linecolor": "rgb(36,36,36)",
           "showgrid": false,
           "showline": true,
           "ticks": "outside",
           "title": {
            "standoff": 15
           },
           "zeroline": false,
           "zerolinecolor": "rgb(36,36,36)"
          },
          "yaxis": {
           "automargin": true,
           "gridcolor": "rgb(232,232,232)",
           "linecolor": "rgb(36,36,36)",
           "showgrid": false,
           "showline": true,
           "ticks": "outside",
           "title": {
            "standoff": 15
           },
           "zeroline": false,
           "zerolinecolor": "rgb(36,36,36)"
          }
         }
        },
        "title": {
         "font": {
          "color": "Black",
          "size": 22
         },
         "text": "<b>Intertopic Distance Map</b>",
         "x": 0.5,
         "xanchor": "center",
         "y": 0.95,
         "yanchor": "top"
        },
        "width": 650,
        "xaxis": {
         "anchor": "y",
         "domain": [
          0,
          1
         ],
         "range": [
          -9.51042366027832,
          23.817625045776367
         ],
         "title": {
          "text": ""
         },
         "visible": false
        },
        "yaxis": {
         "anchor": "x",
         "domain": [
          0,
          1
         ],
         "range": [
          3.025341272354126,
          22.484161376953125
         ],
         "title": {
          "text": ""
         },
         "visible": false
        }
       }
      }
     },
     "metadata": {},
     "output_type": "display_data"
    }
   ],
   "source": [
    "topic_model.visualize_topics()"
   ]
  },
  {
   "cell_type": "code",
   "execution_count": 638,
   "metadata": {},
   "outputs": [],
   "source": [
    "#topic_model.visualize_heatmap(n_clusters = num_topics-1)"
   ]
  },
  {
   "cell_type": "code",
   "execution_count": 639,
   "metadata": {},
   "outputs": [],
   "source": [
    "#topics_per_class = topic_model.topics_per_class(docs, classes=df.Id)\n",
    "#topic_model.visualize_topics_per_class(topics_per_class)"
   ]
  },
  {
   "cell_type": "code",
   "execution_count": 640,
   "metadata": {},
   "outputs": [],
   "source": [
    "#topics_per_class"
   ]
  },
  {
   "cell_type": "code",
   "execution_count": 641,
   "metadata": {},
   "outputs": [],
   "source": [
    "#hierarchical_topics = topic_model.hierarchical_topics(docs)\n",
    "#topic_model.visualize_hierarchy(hierarchical_topics=hierarchical_topics)"
   ]
  },
  {
   "cell_type": "code",
   "execution_count": 642,
   "metadata": {},
   "outputs": [],
   "source": [
    "df['one_topic'] = topics\n",
    "topic_name_to_id = dict(zip(topic_model.get_topic_info().Topic, topic_model.get_topic_info().Name))\n",
    "df['one_topic_name'] = df['one_topic'].map(topic_name_to_id)\n",
    "\n",
    "df.to_csv(\"df_topic.csv\", index = False)"
   ]
  },
  {
   "cell_type": "code",
   "execution_count": 643,
   "metadata": {},
   "outputs": [
    {
     "data": {
      "text/plain": [
       "{-1: '-1_happen_interesting_move_notice',\n",
       " 0: '0_body_myself_touch_focus',\n",
       " 1: '1_relax_sleep_asleep_calm',\n",
       " 2: '2_body_light_heavy_outside',\n",
       " 3: '3_want_follow_guy_minute',\n",
       " 4: '4_nice_fine_absolutely_good',\n",
       " 5: '5_forest_tree_rock_setting',\n",
       " 6: '6_color_pixel_image_change',\n",
       " 7: '7_different_difference_normal_hard',\n",
       " 8: '8_avatar_blink_sync_link',\n",
       " 9: '9_strange_funny_weird_accept'}"
      ]
     },
     "execution_count": 643,
     "metadata": {},
     "output_type": "execute_result"
    }
   ],
   "source": [
    "topic_name_to_id"
   ]
  },
  {
   "cell_type": "markdown",
   "metadata": {},
   "source": [
    "# Topic Distribution (More than one topic per docs) \n",
    "- To reduce the numbers of outliers and avoid False Positive (Interesting when looking at one specif topic)"
   ]
  },
  {
   "cell_type": "markdown",
   "metadata": {},
   "source": [
    "### Look similarities"
   ]
  },
  {
   "cell_type": "code",
   "execution_count": 644,
   "metadata": {},
   "outputs": [
    {
     "data": {
      "text/html": [
       "<div>\n",
       "<style scoped>\n",
       "    .dataframe tbody tr th:only-of-type {\n",
       "        vertical-align: middle;\n",
       "    }\n",
       "\n",
       "    .dataframe tbody tr th {\n",
       "        vertical-align: top;\n",
       "    }\n",
       "\n",
       "    .dataframe thead th {\n",
       "        text-align: right;\n",
       "    }\n",
       "</style>\n",
       "<table border=\"1\" class=\"dataframe\">\n",
       "  <thead>\n",
       "    <tr style=\"text-align: right;\">\n",
       "      <th></th>\n",
       "      <th>topic1</th>\n",
       "      <th>topic2</th>\n",
       "      <th>distance</th>\n",
       "    </tr>\n",
       "  </thead>\n",
       "  <tbody>\n",
       "    <tr>\n",
       "      <th>49</th>\n",
       "      <td>3_want_follow_guy_minute</td>\n",
       "      <td>4_nice_fine_absolutely_good</td>\n",
       "      <td>0.639760</td>\n",
       "    </tr>\n",
       "    <tr>\n",
       "      <th>14</th>\n",
       "      <td>0_body_myself_touch_focus</td>\n",
       "      <td>2_body_light_heavy_outside</td>\n",
       "      <td>0.609379</td>\n",
       "    </tr>\n",
       "    <tr>\n",
       "      <th>20</th>\n",
       "      <td>0_body_myself_touch_focus</td>\n",
       "      <td>8_avatar_blink_sync_link</td>\n",
       "      <td>0.574854</td>\n",
       "    </tr>\n",
       "    <tr>\n",
       "      <th>18</th>\n",
       "      <td>0_body_myself_touch_focus</td>\n",
       "      <td>6_color_pixel_image_change</td>\n",
       "      <td>0.572367</td>\n",
       "    </tr>\n",
       "    <tr>\n",
       "      <th>26</th>\n",
       "      <td>1_relax_sleep_asleep_calm</td>\n",
       "      <td>3_want_follow_guy_minute</td>\n",
       "      <td>0.550662</td>\n",
       "    </tr>\n",
       "    <tr>\n",
       "      <th>27</th>\n",
       "      <td>1_relax_sleep_asleep_calm</td>\n",
       "      <td>4_nice_fine_absolutely_good</td>\n",
       "      <td>0.540396</td>\n",
       "    </tr>\n",
       "    <tr>\n",
       "      <th>13</th>\n",
       "      <td>0_body_myself_touch_focus</td>\n",
       "      <td>1_relax_sleep_asleep_calm</td>\n",
       "      <td>0.532961</td>\n",
       "    </tr>\n",
       "    <tr>\n",
       "      <th>52</th>\n",
       "      <td>3_want_follow_guy_minute</td>\n",
       "      <td>7_different_difference_normal_hard</td>\n",
       "      <td>0.524671</td>\n",
       "    </tr>\n",
       "    <tr>\n",
       "      <th>54</th>\n",
       "      <td>3_want_follow_guy_minute</td>\n",
       "      <td>9_strange_funny_weird_accept</td>\n",
       "      <td>0.505017</td>\n",
       "    </tr>\n",
       "    <tr>\n",
       "      <th>98</th>\n",
       "      <td>7_different_difference_normal_hard</td>\n",
       "      <td>9_strange_funny_weird_accept</td>\n",
       "      <td>0.499553</td>\n",
       "    </tr>\n",
       "    <tr>\n",
       "      <th>37</th>\n",
       "      <td>2_body_light_heavy_outside</td>\n",
       "      <td>3_want_follow_guy_minute</td>\n",
       "      <td>0.499489</td>\n",
       "    </tr>\n",
       "    <tr>\n",
       "      <th>15</th>\n",
       "      <td>0_body_myself_touch_focus</td>\n",
       "      <td>3_want_follow_guy_minute</td>\n",
       "      <td>0.491698</td>\n",
       "    </tr>\n",
       "    <tr>\n",
       "      <th>65</th>\n",
       "      <td>4_nice_fine_absolutely_good</td>\n",
       "      <td>9_strange_funny_weird_accept</td>\n",
       "      <td>0.486715</td>\n",
       "    </tr>\n",
       "    <tr>\n",
       "      <th>53</th>\n",
       "      <td>3_want_follow_guy_minute</td>\n",
       "      <td>8_avatar_blink_sync_link</td>\n",
       "      <td>0.465887</td>\n",
       "    </tr>\n",
       "    <tr>\n",
       "      <th>17</th>\n",
       "      <td>0_body_myself_touch_focus</td>\n",
       "      <td>5_forest_tree_rock_setting</td>\n",
       "      <td>0.458980</td>\n",
       "    </tr>\n",
       "    <tr>\n",
       "      <th>86</th>\n",
       "      <td>6_color_pixel_image_change</td>\n",
       "      <td>8_avatar_blink_sync_link</td>\n",
       "      <td>0.449550</td>\n",
       "    </tr>\n",
       "    <tr>\n",
       "      <th>40</th>\n",
       "      <td>2_body_light_heavy_outside</td>\n",
       "      <td>6_color_pixel_image_change</td>\n",
       "      <td>0.442397</td>\n",
       "    </tr>\n",
       "    <tr>\n",
       "      <th>63</th>\n",
       "      <td>4_nice_fine_absolutely_good</td>\n",
       "      <td>7_different_difference_normal_hard</td>\n",
       "      <td>0.431288</td>\n",
       "    </tr>\n",
       "    <tr>\n",
       "      <th>28</th>\n",
       "      <td>1_relax_sleep_asleep_calm</td>\n",
       "      <td>5_forest_tree_rock_setting</td>\n",
       "      <td>0.426808</td>\n",
       "    </tr>\n",
       "    <tr>\n",
       "      <th>19</th>\n",
       "      <td>0_body_myself_touch_focus</td>\n",
       "      <td>7_different_difference_normal_hard</td>\n",
       "      <td>0.420550</td>\n",
       "    </tr>\n",
       "  </tbody>\n",
       "</table>\n",
       "</div>"
      ],
      "text/plain": [
       "                                topic1                              topic2  \\\n",
       "49            3_want_follow_guy_minute         4_nice_fine_absolutely_good   \n",
       "14           0_body_myself_touch_focus          2_body_light_heavy_outside   \n",
       "20           0_body_myself_touch_focus            8_avatar_blink_sync_link   \n",
       "18           0_body_myself_touch_focus          6_color_pixel_image_change   \n",
       "26           1_relax_sleep_asleep_calm            3_want_follow_guy_minute   \n",
       "27           1_relax_sleep_asleep_calm         4_nice_fine_absolutely_good   \n",
       "13           0_body_myself_touch_focus           1_relax_sleep_asleep_calm   \n",
       "52            3_want_follow_guy_minute  7_different_difference_normal_hard   \n",
       "54            3_want_follow_guy_minute        9_strange_funny_weird_accept   \n",
       "98  7_different_difference_normal_hard        9_strange_funny_weird_accept   \n",
       "37          2_body_light_heavy_outside            3_want_follow_guy_minute   \n",
       "15           0_body_myself_touch_focus            3_want_follow_guy_minute   \n",
       "65         4_nice_fine_absolutely_good        9_strange_funny_weird_accept   \n",
       "53            3_want_follow_guy_minute            8_avatar_blink_sync_link   \n",
       "17           0_body_myself_touch_focus          5_forest_tree_rock_setting   \n",
       "86          6_color_pixel_image_change            8_avatar_blink_sync_link   \n",
       "40          2_body_light_heavy_outside          6_color_pixel_image_change   \n",
       "63         4_nice_fine_absolutely_good  7_different_difference_normal_hard   \n",
       "28           1_relax_sleep_asleep_calm          5_forest_tree_rock_setting   \n",
       "19           0_body_myself_touch_focus  7_different_difference_normal_hard   \n",
       "\n",
       "    distance  \n",
       "49  0.639760  \n",
       "14  0.609379  \n",
       "20  0.574854  \n",
       "18  0.572367  \n",
       "26  0.550662  \n",
       "27  0.540396  \n",
       "13  0.532961  \n",
       "52  0.524671  \n",
       "54  0.505017  \n",
       "98  0.499553  \n",
       "37  0.499489  \n",
       "15  0.491698  \n",
       "65  0.486715  \n",
       "53  0.465887  \n",
       "17  0.458980  \n",
       "86  0.449550  \n",
       "40  0.442397  \n",
       "63  0.431288  \n",
       "28  0.426808  \n",
       "19  0.420550  "
      ]
     },
     "execution_count": 644,
     "metadata": {},
     "output_type": "execute_result"
    }
   ],
   "source": [
    "from sklearn.metrics.pairwise import cosine_similarity\n",
    "import numpy as np \n",
    "\n",
    "distance_matrix = cosine_similarity(np.array(topic_model.topic_embeddings_))\n",
    "dist_df = pd.DataFrame(distance_matrix, columns=topic_model.topic_labels_.values(), \n",
    "                       index=topic_model.topic_labels_.values())\n",
    "\n",
    "tmp = []\n",
    "for rec in dist_df.reset_index().to_dict('records'):\n",
    "    t1 = rec['index']\n",
    "    for t2 in rec:\n",
    "        if t2 == 'index': \n",
    "            continue\n",
    "        tmp.append(\n",
    "            {\n",
    "                'topic1': t1, \n",
    "                'topic2': t2, \n",
    "                'distance': rec[t2]\n",
    "            }\n",
    "        )\n",
    "\n",
    "pair_dist_df = pd.DataFrame(tmp)\n",
    "\n",
    "pair_dist_df = pair_dist_df[(pair_dist_df.topic1.map(\n",
    "      lambda x: not x.startswith('-1'))) & \n",
    "            (pair_dist_df.topic2.map(lambda x: not x.startswith('-1')))]\n",
    "pair_dist_df = pair_dist_df[pair_dist_df.topic1 < pair_dist_df.topic2]\n",
    "pair_dist_df.sort_values('distance', ascending = False).head(20)"
   ]
  },
  {
   "cell_type": "markdown",
   "metadata": {},
   "source": [
    "### Multiples topics"
   ]
  },
  {
   "cell_type": "code",
   "execution_count": 645,
   "metadata": {},
   "outputs": [
    {
     "name": "stderr",
     "output_type": "stream",
     "text": [
      "100%|██████████| 1/1 [00:00<00:00, 19.39it/s]\n"
     ]
    }
   ],
   "source": [
    "topic_distr, topic_token_distr = topic_model.approximate_distribution(\n",
    "      docs, window = 5, calculate_tokens=True)"
   ]
  },
  {
   "cell_type": "code",
   "execution_count": 646,
   "metadata": {},
   "outputs": [
    {
     "name": "stderr",
     "output_type": "stream",
     "text": [
      "100%|██████████| 350/350 [00:01<00:00, 248.11it/s]\n"
     ]
    },
    {
     "data": {
      "application/vnd.plotly.v1+json": {
       "config": {
        "plotlyServerURL": "https://plot.ly"
       },
       "data": [
        {
         "fillpattern": {
          "shape": ""
         },
         "hovertemplate": "number of topics=0<br>threshold=%{x}<br>share of reviews, %=%{y}<extra></extra>",
         "legendgroup": "0",
         "line": {
          "color": "rgb(255,255,217)"
         },
         "marker": {
          "symbol": "circle"
         },
         "mode": "lines",
         "name": "0",
         "orientation": "v",
         "showlegend": true,
         "stackgroup": "1",
         "type": "scatter",
         "x": [
          0,
          0.001,
          0.002,
          0.003,
          0.004,
          0.005,
          0.006,
          0.007,
          0.008,
          0.009000000000000001,
          0.01,
          0.011,
          0.012,
          0.013000000000000001,
          0.014,
          0.015,
          0.016,
          0.017,
          0.018000000000000002,
          0.019,
          0.02,
          0.021,
          0.022,
          0.023,
          0.024,
          0.025,
          0.026000000000000002,
          0.027,
          0.028,
          0.029,
          0.03,
          0.031,
          0.032,
          0.033,
          0.034,
          0.035,
          0.036000000000000004,
          0.037,
          0.038,
          0.039,
          0.04,
          0.041,
          0.042,
          0.043000000000000003,
          0.044,
          0.045,
          0.046,
          0.047,
          0.048,
          0.049,
          0.05,
          0.051000000000000004,
          0.052000000000000005,
          0.053,
          0.054,
          0.055,
          0.056,
          0.057,
          0.058,
          0.059000000000000004,
          0.06,
          0.061,
          0.062,
          0.063,
          0.064,
          0.065,
          0.066,
          0.067,
          0.068,
          0.069,
          0.07,
          0.07100000000000001,
          0.07200000000000001,
          0.073,
          0.074,
          0.075,
          0.076,
          0.077,
          0.078,
          0.079,
          0.08,
          0.081,
          0.082,
          0.083,
          0.084,
          0.085,
          0.08600000000000001,
          0.08700000000000001,
          0.088,
          0.089,
          0.09,
          0.091,
          0.092,
          0.093,
          0.094,
          0.095,
          0.096,
          0.097,
          0.098,
          0.099,
          0.1,
          0.101,
          0.10200000000000001,
          0.10300000000000001,
          0.10400000000000001,
          0.105,
          0.106,
          0.107,
          0.108,
          0.109,
          0.11,
          0.111,
          0.112,
          0.113,
          0.114,
          0.115,
          0.116,
          0.117,
          0.11800000000000001,
          0.11900000000000001,
          0.12,
          0.121,
          0.122,
          0.123,
          0.124,
          0.125,
          0.126,
          0.127,
          0.128,
          0.129,
          0.13,
          0.131,
          0.132,
          0.133,
          0.134,
          0.135,
          0.136,
          0.137,
          0.138,
          0.139,
          0.14,
          0.14100000000000001,
          0.14200000000000002,
          0.14300000000000002,
          0.14400000000000002,
          0.145,
          0.146,
          0.147,
          0.148,
          0.149,
          0.15,
          0.151,
          0.152,
          0.153,
          0.154,
          0.155,
          0.156,
          0.157,
          0.158,
          0.159,
          0.16,
          0.161,
          0.162,
          0.163,
          0.164,
          0.165,
          0.166,
          0.167,
          0.168,
          0.169,
          0.17,
          0.171,
          0.17200000000000001,
          0.17300000000000001,
          0.17400000000000002,
          0.17500000000000002,
          0.176,
          0.177,
          0.178,
          0.179,
          0.18,
          0.181,
          0.182,
          0.183,
          0.184,
          0.185,
          0.186,
          0.187,
          0.188,
          0.189,
          0.19,
          0.191,
          0.192,
          0.193,
          0.194,
          0.195,
          0.196,
          0.197,
          0.198,
          0.199,
          0.2,
          0.201,
          0.202,
          0.203,
          0.20400000000000001,
          0.20500000000000002,
          0.20600000000000002,
          0.20700000000000002,
          0.20800000000000002,
          0.209,
          0.21,
          0.211,
          0.212,
          0.213,
          0.214,
          0.215,
          0.216,
          0.217,
          0.218,
          0.219,
          0.22,
          0.221,
          0.222,
          0.223,
          0.224,
          0.225,
          0.226,
          0.227,
          0.228,
          0.229,
          0.23,
          0.231,
          0.232,
          0.233,
          0.234,
          0.23500000000000001,
          0.23600000000000002,
          0.23700000000000002,
          0.23800000000000002,
          0.23900000000000002,
          0.24,
          0.241,
          0.242,
          0.243,
          0.244,
          0.245,
          0.246,
          0.247,
          0.248,
          0.249,
          0.25,
          0.251,
          0.252,
          0.253,
          0.254,
          0.255,
          0.256,
          0.257,
          0.258,
          0.259,
          0.26,
          0.261,
          0.262,
          0.263,
          0.264,
          0.265,
          0.266,
          0.267,
          0.268,
          0.269,
          0.27,
          0.271,
          0.272,
          0.273,
          0.274,
          0.275,
          0.276,
          0.277,
          0.278,
          0.279,
          0.28,
          0.281,
          0.28200000000000003,
          0.28300000000000003,
          0.28400000000000003,
          0.28500000000000003,
          0.28600000000000003,
          0.28700000000000003,
          0.28800000000000003,
          0.289,
          0.29,
          0.291,
          0.292,
          0.293,
          0.294,
          0.295,
          0.296,
          0.297,
          0.298,
          0.299,
          0.3,
          0.301,
          0.302,
          0.303,
          0.304,
          0.305,
          0.306,
          0.307,
          0.308,
          0.309,
          0.31,
          0.311,
          0.312,
          0.313,
          0.314,
          0.315,
          0.316,
          0.317,
          0.318,
          0.319,
          0.32,
          0.321,
          0.322,
          0.323,
          0.324,
          0.325,
          0.326,
          0.327,
          0.328,
          0.329,
          0.33,
          0.331,
          0.332,
          0.333,
          0.334,
          0.335,
          0.336,
          0.337,
          0.338,
          0.339,
          0.34,
          0.341,
          0.342,
          0.343,
          0.34400000000000003,
          0.34500000000000003,
          0.34600000000000003,
          0.34700000000000003,
          0.34800000000000003,
          0.34900000000000003
         ],
         "xaxis": "x",
         "y": [
          0,
          18.416523235800344,
          18.416523235800344,
          18.416523235800344,
          18.416523235800344,
          18.416523235800344,
          18.416523235800344,
          18.416523235800344,
          18.416523235800344,
          18.416523235800344,
          18.416523235800344,
          18.416523235800344,
          18.416523235800344,
          18.416523235800344,
          18.416523235800344,
          18.416523235800344,
          18.416523235800344,
          18.416523235800344,
          18.416523235800344,
          18.416523235800344,
          18.416523235800344,
          18.416523235800344,
          18.416523235800344,
          18.416523235800344,
          18.416523235800344,
          18.416523235800344,
          18.416523235800344,
          18.416523235800344,
          18.416523235800344,
          18.416523235800344,
          18.416523235800344,
          18.416523235800344,
          18.416523235800344,
          18.416523235800344,
          18.416523235800344,
          18.416523235800344,
          18.416523235800344,
          18.416523235800344,
          18.416523235800344,
          18.416523235800344,
          18.416523235800344,
          18.416523235800344,
          18.416523235800344,
          18.416523235800344,
          18.416523235800344,
          18.416523235800344,
          18.416523235800344,
          18.416523235800344,
          18.416523235800344,
          18.416523235800344,
          18.416523235800344,
          18.416523235800344,
          18.416523235800344,
          18.416523235800344,
          18.416523235800344,
          18.416523235800344,
          18.416523235800344,
          18.416523235800344,
          18.416523235800344,
          18.416523235800344,
          18.416523235800344,
          18.416523235800344,
          18.416523235800344,
          18.416523235800344,
          18.416523235800344,
          18.416523235800344,
          18.416523235800344,
          18.416523235800344,
          18.416523235800344,
          18.416523235800344,
          18.416523235800344,
          18.416523235800344,
          18.416523235800344,
          18.416523235800344,
          18.416523235800344,
          18.416523235800344,
          18.416523235800344,
          18.416523235800344,
          18.416523235800344,
          18.416523235800344,
          18.416523235800344,
          18.416523235800344,
          18.416523235800344,
          18.416523235800344,
          18.416523235800344,
          18.416523235800344,
          18.416523235800344,
          18.416523235800344,
          18.416523235800344,
          18.416523235800344,
          18.416523235800344,
          18.416523235800344,
          18.416523235800344,
          18.416523235800344,
          18.416523235800344,
          18.416523235800344,
          18.416523235800344,
          18.416523235800344,
          18.416523235800344,
          18.416523235800344,
          18.416523235800344,
          18.416523235800344,
          18.416523235800344,
          18.416523235800344,
          18.416523235800344,
          18.416523235800344,
          18.416523235800344,
          18.416523235800344,
          18.416523235800344,
          18.416523235800344,
          18.416523235800344,
          18.416523235800344,
          18.416523235800344,
          18.416523235800344,
          18.416523235800344,
          18.416523235800344,
          18.416523235800344,
          18.416523235800344,
          18.416523235800344,
          18.416523235800344,
          18.416523235800344,
          18.416523235800344,
          18.416523235800344,
          18.416523235800344,
          18.416523235800344,
          18.416523235800344,
          18.416523235800344,
          18.416523235800344,
          18.416523235800344,
          18.416523235800344,
          18.416523235800344,
          18.416523235800344,
          18.416523235800344,
          18.416523235800344,
          18.416523235800344,
          18.416523235800344,
          18.416523235800344,
          18.416523235800344,
          18.416523235800344,
          18.416523235800344,
          18.416523235800344,
          18.416523235800344,
          18.416523235800344,
          18.416523235800344,
          18.416523235800344,
          18.416523235800344,
          18.416523235800344,
          18.416523235800344,
          18.416523235800344,
          18.416523235800344,
          18.416523235800344,
          18.416523235800344,
          18.416523235800344,
          18.416523235800344,
          18.416523235800344,
          18.416523235800344,
          18.416523235800344,
          18.416523235800344,
          18.416523235800344,
          18.416523235800344,
          18.416523235800344,
          18.416523235800344,
          18.416523235800344,
          18.416523235800344,
          18.416523235800344,
          18.416523235800344,
          18.416523235800344,
          18.416523235800344,
          18.416523235800344,
          18.416523235800344,
          18.416523235800344,
          18.416523235800344,
          18.416523235800344,
          18.416523235800344,
          18.416523235800344,
          18.416523235800344,
          18.416523235800344,
          18.416523235800344,
          18.416523235800344,
          18.416523235800344,
          18.416523235800344,
          18.416523235800344,
          18.416523235800344,
          18.416523235800344,
          18.416523235800344,
          18.416523235800344,
          18.416523235800344,
          18.416523235800344,
          18.416523235800344,
          18.416523235800344,
          18.416523235800344,
          18.416523235800344,
          18.416523235800344,
          18.416523235800344,
          18.416523235800344,
          18.416523235800344,
          18.416523235800344,
          18.416523235800344,
          18.416523235800344,
          18.416523235800344,
          18.416523235800344,
          18.416523235800344,
          18.416523235800344,
          18.416523235800344,
          18.416523235800344,
          18.416523235800344,
          18.416523235800344,
          18.416523235800344,
          18.416523235800344,
          18.416523235800344,
          18.416523235800344,
          18.416523235800344,
          18.416523235800344,
          18.416523235800344,
          18.416523235800344,
          18.416523235800344,
          18.416523235800344,
          18.416523235800344,
          18.416523235800344,
          18.416523235800344,
          18.416523235800344,
          18.416523235800344,
          18.416523235800344,
          18.416523235800344,
          18.416523235800344,
          18.416523235800344,
          18.416523235800344,
          18.416523235800344,
          18.416523235800344,
          18.416523235800344,
          18.416523235800344,
          18.416523235800344,
          18.416523235800344,
          18.416523235800344,
          18.416523235800344,
          18.416523235800344,
          18.416523235800344,
          18.416523235800344,
          18.416523235800344,
          18.416523235800344,
          18.416523235800344,
          18.416523235800344,
          18.416523235800344,
          18.416523235800344,
          18.416523235800344,
          18.416523235800344,
          18.416523235800344,
          18.588640275387263,
          18.588640275387263,
          18.588640275387263,
          18.588640275387263,
          18.588640275387263,
          18.588640275387263,
          18.588640275387263,
          18.588640275387263,
          18.588640275387263,
          18.588640275387263,
          18.588640275387263,
          18.588640275387263,
          18.588640275387263,
          18.588640275387263,
          18.76075731497418,
          18.76075731497418,
          18.76075731497418,
          18.76075731497418,
          18.9328743545611,
          18.9328743545611,
          18.9328743545611,
          18.9328743545611,
          18.9328743545611,
          18.9328743545611,
          18.9328743545611,
          18.9328743545611,
          18.9328743545611,
          18.9328743545611,
          19.10499139414802,
          19.10499139414802,
          19.27710843373494,
          19.27710843373494,
          19.27710843373494,
          19.27710843373494,
          19.27710843373494,
          19.27710843373494,
          19.27710843373494,
          19.27710843373494,
          19.27710843373494,
          19.27710843373494,
          19.27710843373494,
          19.27710843373494,
          19.27710843373494,
          19.27710843373494,
          19.27710843373494,
          19.27710843373494,
          19.27710843373494,
          19.27710843373494,
          19.27710843373494,
          19.44922547332186,
          19.44922547332186,
          19.44922547332186,
          19.44922547332186,
          19.44922547332186,
          19.44922547332186,
          19.44922547332186,
          19.44922547332186,
          19.44922547332186,
          19.44922547332186,
          19.44922547332186,
          19.44922547332186,
          19.44922547332186,
          19.44922547332186,
          19.44922547332186,
          19.44922547332186,
          19.44922547332186,
          19.44922547332186,
          19.62134251290878,
          19.793459552495698,
          19.793459552495698,
          19.965576592082616,
          19.965576592082616,
          19.965576592082616,
          19.965576592082616,
          19.965576592082616,
          19.965576592082616,
          19.965576592082616,
          19.965576592082616,
          19.965576592082616,
          19.965576592082616,
          20.137693631669535,
          20.309810671256454,
          20.309810671256454,
          20.481927710843372,
          20.481927710843372,
          20.481927710843372,
          20.65404475043029,
          20.826161790017213,
          20.826161790017213,
          20.998278829604132,
          20.998278829604132,
          20.998278829604132,
          20.998278829604132,
          21.17039586919105,
          21.17039586919105,
          21.17039586919105,
          21.17039586919105,
          21.17039586919105,
          21.858864027538726,
          21.858864027538726,
          21.858864027538726,
          21.858864027538726,
          22.030981067125644
         ],
         "yaxis": "y"
        },
        {
         "fillpattern": {
          "shape": ""
         },
         "hovertemplate": "number of topics=1<br>threshold=%{x}<br>share of reviews, %=%{y}<extra></extra>",
         "legendgroup": "1",
         "line": {
          "color": "rgb(127,205,187)"
         },
         "marker": {
          "symbol": "circle"
         },
         "mode": "lines",
         "name": "1",
         "orientation": "v",
         "showlegend": true,
         "stackgroup": "1",
         "type": "scatter",
         "x": [
          0,
          0.001,
          0.002,
          0.003,
          0.004,
          0.005,
          0.006,
          0.007,
          0.008,
          0.009000000000000001,
          0.01,
          0.011,
          0.012,
          0.013000000000000001,
          0.014,
          0.015,
          0.016,
          0.017,
          0.018000000000000002,
          0.019,
          0.02,
          0.021,
          0.022,
          0.023,
          0.024,
          0.025,
          0.026000000000000002,
          0.027,
          0.028,
          0.029,
          0.03,
          0.031,
          0.032,
          0.033,
          0.034,
          0.035,
          0.036000000000000004,
          0.037,
          0.038,
          0.039,
          0.04,
          0.041,
          0.042,
          0.043000000000000003,
          0.044,
          0.045,
          0.046,
          0.047,
          0.048,
          0.049,
          0.05,
          0.051000000000000004,
          0.052000000000000005,
          0.053,
          0.054,
          0.055,
          0.056,
          0.057,
          0.058,
          0.059000000000000004,
          0.06,
          0.061,
          0.062,
          0.063,
          0.064,
          0.065,
          0.066,
          0.067,
          0.068,
          0.069,
          0.07,
          0.07100000000000001,
          0.07200000000000001,
          0.073,
          0.074,
          0.075,
          0.076,
          0.077,
          0.078,
          0.079,
          0.08,
          0.081,
          0.082,
          0.083,
          0.084,
          0.085,
          0.08600000000000001,
          0.08700000000000001,
          0.088,
          0.089,
          0.09,
          0.091,
          0.092,
          0.093,
          0.094,
          0.095,
          0.096,
          0.097,
          0.098,
          0.099,
          0.1,
          0.101,
          0.10200000000000001,
          0.10300000000000001,
          0.10400000000000001,
          0.105,
          0.106,
          0.107,
          0.108,
          0.109,
          0.11,
          0.111,
          0.112,
          0.113,
          0.114,
          0.115,
          0.116,
          0.117,
          0.11800000000000001,
          0.11900000000000001,
          0.12,
          0.121,
          0.122,
          0.123,
          0.124,
          0.125,
          0.126,
          0.127,
          0.128,
          0.129,
          0.13,
          0.131,
          0.132,
          0.133,
          0.134,
          0.135,
          0.136,
          0.137,
          0.138,
          0.139,
          0.14,
          0.14100000000000001,
          0.14200000000000002,
          0.14300000000000002,
          0.14400000000000002,
          0.145,
          0.146,
          0.147,
          0.148,
          0.149,
          0.15,
          0.151,
          0.152,
          0.153,
          0.154,
          0.155,
          0.156,
          0.157,
          0.158,
          0.159,
          0.16,
          0.161,
          0.162,
          0.163,
          0.164,
          0.165,
          0.166,
          0.167,
          0.168,
          0.169,
          0.17,
          0.171,
          0.17200000000000001,
          0.17300000000000001,
          0.17400000000000002,
          0.17500000000000002,
          0.176,
          0.177,
          0.178,
          0.179,
          0.18,
          0.181,
          0.182,
          0.183,
          0.184,
          0.185,
          0.186,
          0.187,
          0.188,
          0.189,
          0.19,
          0.191,
          0.192,
          0.193,
          0.194,
          0.195,
          0.196,
          0.197,
          0.198,
          0.199,
          0.2,
          0.201,
          0.202,
          0.203,
          0.20400000000000001,
          0.20500000000000002,
          0.20600000000000002,
          0.20700000000000002,
          0.20800000000000002,
          0.209,
          0.21,
          0.211,
          0.212,
          0.213,
          0.214,
          0.215,
          0.216,
          0.217,
          0.218,
          0.219,
          0.22,
          0.221,
          0.222,
          0.223,
          0.224,
          0.225,
          0.226,
          0.227,
          0.228,
          0.229,
          0.23,
          0.231,
          0.232,
          0.233,
          0.234,
          0.23500000000000001,
          0.23600000000000002,
          0.23700000000000002,
          0.23800000000000002,
          0.23900000000000002,
          0.24,
          0.241,
          0.242,
          0.243,
          0.244,
          0.245,
          0.246,
          0.247,
          0.248,
          0.249,
          0.25,
          0.251,
          0.252,
          0.253,
          0.254,
          0.255,
          0.256,
          0.257,
          0.258,
          0.259,
          0.26,
          0.261,
          0.262,
          0.263,
          0.264,
          0.265,
          0.266,
          0.267,
          0.268,
          0.269,
          0.27,
          0.271,
          0.272,
          0.273,
          0.274,
          0.275,
          0.276,
          0.277,
          0.278,
          0.279,
          0.28,
          0.281,
          0.28200000000000003,
          0.28300000000000003,
          0.28400000000000003,
          0.28500000000000003,
          0.28600000000000003,
          0.28700000000000003,
          0.28800000000000003,
          0.289,
          0.29,
          0.291,
          0.292,
          0.293,
          0.294,
          0.295,
          0.296,
          0.297,
          0.298,
          0.299,
          0.3,
          0.301,
          0.302,
          0.303,
          0.304,
          0.305,
          0.306,
          0.307,
          0.308,
          0.309,
          0.31,
          0.311,
          0.312,
          0.313,
          0.314,
          0.315,
          0.316,
          0.317,
          0.318,
          0.319,
          0.32,
          0.321,
          0.322,
          0.323,
          0.324,
          0.325,
          0.326,
          0.327,
          0.328,
          0.329,
          0.33,
          0.331,
          0.332,
          0.333,
          0.334,
          0.335,
          0.336,
          0.337,
          0.338,
          0.339,
          0.34,
          0.341,
          0.342,
          0.343,
          0.34400000000000003,
          0.34500000000000003,
          0.34600000000000003,
          0.34700000000000003,
          0.34800000000000003,
          0.34900000000000003
         ],
         "xaxis": "x",
         "y": [
          0,
          33.56282271944922,
          33.56282271944922,
          33.56282271944922,
          33.56282271944922,
          33.56282271944922,
          33.56282271944922,
          33.56282271944922,
          33.56282271944922,
          33.56282271944922,
          33.56282271944922,
          33.56282271944922,
          33.56282271944922,
          33.56282271944922,
          33.56282271944922,
          33.56282271944922,
          33.56282271944922,
          33.56282271944922,
          33.56282271944922,
          33.56282271944922,
          33.56282271944922,
          33.56282271944922,
          33.56282271944922,
          33.56282271944922,
          33.56282271944922,
          33.56282271944922,
          33.56282271944922,
          33.56282271944922,
          33.56282271944922,
          33.56282271944922,
          33.56282271944922,
          33.56282271944922,
          33.56282271944922,
          33.56282271944922,
          33.56282271944922,
          33.56282271944922,
          33.56282271944922,
          33.56282271944922,
          33.56282271944922,
          33.56282271944922,
          33.56282271944922,
          33.56282271944922,
          33.56282271944922,
          33.56282271944922,
          33.56282271944922,
          33.56282271944922,
          33.56282271944922,
          33.56282271944922,
          33.56282271944922,
          33.56282271944922,
          33.56282271944922,
          33.56282271944922,
          33.56282271944922,
          33.56282271944922,
          33.56282271944922,
          33.56282271944922,
          33.56282271944922,
          33.734939759036145,
          33.734939759036145,
          33.734939759036145,
          33.734939759036145,
          33.734939759036145,
          33.734939759036145,
          33.734939759036145,
          33.734939759036145,
          33.734939759036145,
          33.734939759036145,
          33.734939759036145,
          33.734939759036145,
          33.734939759036145,
          33.734939759036145,
          33.734939759036145,
          33.734939759036145,
          33.734939759036145,
          33.734939759036145,
          33.734939759036145,
          33.734939759036145,
          33.734939759036145,
          33.734939759036145,
          33.734939759036145,
          33.734939759036145,
          33.90705679862307,
          33.90705679862307,
          33.90705679862307,
          33.90705679862307,
          33.90705679862307,
          33.90705679862307,
          33.90705679862307,
          34.251290877796905,
          34.251290877796905,
          34.251290877796905,
          34.251290877796905,
          34.251290877796905,
          34.251290877796905,
          34.251290877796905,
          34.251290877796905,
          34.251290877796905,
          34.251290877796905,
          34.251290877796905,
          34.59552495697074,
          34.59552495697074,
          34.59552495697074,
          34.76764199655766,
          34.76764199655766,
          34.76764199655766,
          34.76764199655766,
          34.76764199655766,
          34.76764199655766,
          34.93975903614458,
          34.93975903614458,
          34.93975903614458,
          35.28399311531842,
          35.45611015490534,
          35.45611015490534,
          35.628227194492254,
          35.628227194492254,
          35.800344234079176,
          35.800344234079176,
          35.800344234079176,
          35.800344234079176,
          35.800344234079176,
          35.97246127366609,
          35.97246127366609,
          35.97246127366609,
          35.97246127366609,
          35.97246127366609,
          35.97246127366609,
          36.144578313253014,
          36.31669535283993,
          36.48881239242685,
          36.48881239242685,
          36.48881239242685,
          36.48881239242685,
          36.48881239242685,
          36.660929432013766,
          36.660929432013766,
          36.660929432013766,
          36.660929432013766,
          36.83304647160069,
          36.83304647160069,
          37.177280550774526,
          37.177280550774526,
          37.34939759036145,
          37.34939759036145,
          37.34939759036145,
          37.34939759036145,
          37.34939759036145,
          37.52151462994836,
          37.693631669535286,
          37.8657487091222,
          37.8657487091222,
          37.8657487091222,
          37.8657487091222,
          37.8657487091222,
          38.03786574870912,
          38.20998278829604,
          38.20998278829604,
          38.20998278829604,
          38.20998278829604,
          38.20998278829604,
          38.20998278829604,
          38.20998278829604,
          38.38209982788296,
          38.55421686746988,
          38.55421686746988,
          38.55421686746988,
          38.55421686746988,
          38.55421686746988,
          38.55421686746988,
          38.55421686746988,
          38.7263339070568,
          38.89845094664372,
          38.89845094664372,
          38.89845094664372,
          38.89845094664372,
          39.070567986230635,
          39.070567986230635,
          39.070567986230635,
          39.070567986230635,
          39.070567986230635,
          39.070567986230635,
          39.070567986230635,
          39.070567986230635,
          39.24268502581756,
          39.41480206540447,
          39.41480206540447,
          39.586919104991395,
          39.75903614457831,
          39.93115318416523,
          40.103270223752155,
          40.27538726333907,
          40.27538726333907,
          40.44750430292599,
          40.44750430292599,
          40.61962134251291,
          40.963855421686745,
          40.963855421686745,
          40.963855421686745,
          41.13597246127367,
          41.13597246127367,
          41.13597246127367,
          41.30808950086058,
          41.65232358003443,
          41.82444061962134,
          42.68502581755594,
          42.857142857142854,
          42.857142857142854,
          43.029259896729776,
          43.545611015490536,
          43.88984509466437,
          43.88984509466437,
          43.88984509466437,
          44.06196213425129,
          44.06196213425129,
          44.06196213425129,
          44.06196213425129,
          44.06196213425129,
          44.06196213425129,
          44.406196213425126,
          44.406196213425126,
          44.406196213425126,
          44.75043029259897,
          44.922547332185886,
          45.26678141135972,
          45.438898450946645,
          45.438898450946645,
          45.78313253012048,
          46.47160068846816,
          46.64371772805508,
          46.64371772805508,
          46.98795180722892,
          47.332185886402755,
          47.50430292598967,
          47.50430292598967,
          47.50430292598967,
          47.67641996557659,
          48.02065404475043,
          48.19277108433735,
          48.36488812392427,
          48.709122203098104,
          48.88123924268503,
          48.88123924268503,
          49.397590361445786,
          49.741824440619624,
          49.91394148020654,
          50.94664371772806,
          50.94664371772806,
          50.94664371772806,
          51.11876075731497,
          51.63511187607573,
          51.63511187607573,
          51.63511187607573,
          52.49569707401033,
          52.49569707401033,
          52.49569707401033,
          52.49569707401033,
          52.49569707401033,
          52.49569707401033,
          52.49569707401033,
          52.667814113597245,
          52.83993115318417,
          52.83993115318417,
          52.83993115318417,
          52.83993115318417,
          52.83993115318417,
          52.83993115318417,
          53.184165232358005,
          53.184165232358005,
          53.52839931153184,
          53.52839931153184,
          53.70051635111876,
          53.70051635111876,
          54.38898450946644,
          54.73321858864028,
          54.73321858864028,
          54.73321858864028,
          54.73321858864028,
          54.73321858864028,
          54.90533562822719,
          55.24956970740103,
          55.593803786574874,
          55.76592082616179,
          55.76592082616179,
          55.76592082616179,
          55.76592082616179,
          55.76592082616179,
          55.76592082616179,
          56.11015490533563,
          56.28227194492255,
          56.7986230636833,
          56.970740103270224,
          56.970740103270224,
          56.970740103270224,
          56.970740103270224,
          56.970740103270224,
          56.970740103270224,
          56.970740103270224,
          57.142857142857146,
          57.48709122203098,
          57.48709122203098,
          57.6592082616179,
          58.003442340791736,
          58.003442340791736,
          58.003442340791736,
          58.34767641996557,
          58.34767641996557,
          58.519793459552496,
          58.519793459552496,
          58.519793459552496,
          58.519793459552496,
          58.69191049913942,
          58.86402753872633,
          59.036144578313255,
          59.036144578313255,
          59.036144578313255,
          59.20826161790017,
          59.20826161790017,
          59.036144578313255,
          59.38037865748709,
          60.413080895008605,
          60.58519793459553,
          60.58519793459553,
          60.75731497418244,
          60.929432013769365,
          60.929432013769365,
          60.929432013769365,
          60.929432013769365,
          60.75731497418244,
          61.10154905335628,
          61.10154905335628,
          60.929432013769365,
          61.10154905335628,
          61.10154905335628,
          61.10154905335628,
          61.2736660929432,
          62.306368330464714,
          62.306368330464714,
          62.306368330464714,
          62.47848537005164,
          62.47848537005164,
          62.306368330464714,
          62.47848537005164,
          62.65060240963855,
          62.822719449225474,
          62.822719449225474,
          62.1342512908778,
          62.306368330464714,
          62.306368330464714,
          62.306368330464714,
          62.822719449225474
         ],
         "yaxis": "y"
        },
        {
         "fillpattern": {
          "shape": ""
         },
         "hovertemplate": "number of topics=2<br>threshold=%{x}<br>share of reviews, %=%{y}<extra></extra>",
         "legendgroup": "2",
         "line": {
          "color": "rgb(65,182,196)"
         },
         "marker": {
          "symbol": "circle"
         },
         "mode": "lines",
         "name": "2",
         "orientation": "v",
         "showlegend": true,
         "stackgroup": "1",
         "type": "scatter",
         "x": [
          0,
          0.001,
          0.002,
          0.003,
          0.004,
          0.005,
          0.006,
          0.007,
          0.008,
          0.009000000000000001,
          0.01,
          0.011,
          0.012,
          0.013000000000000001,
          0.014,
          0.015,
          0.016,
          0.017,
          0.018000000000000002,
          0.019,
          0.02,
          0.021,
          0.022,
          0.023,
          0.024,
          0.025,
          0.026000000000000002,
          0.027,
          0.028,
          0.029,
          0.03,
          0.031,
          0.032,
          0.033,
          0.034,
          0.035,
          0.036000000000000004,
          0.037,
          0.038,
          0.039,
          0.04,
          0.041,
          0.042,
          0.043000000000000003,
          0.044,
          0.045,
          0.046,
          0.047,
          0.048,
          0.049,
          0.05,
          0.051000000000000004,
          0.052000000000000005,
          0.053,
          0.054,
          0.055,
          0.056,
          0.057,
          0.058,
          0.059000000000000004,
          0.06,
          0.061,
          0.062,
          0.063,
          0.064,
          0.065,
          0.066,
          0.067,
          0.068,
          0.069,
          0.07,
          0.07100000000000001,
          0.07200000000000001,
          0.073,
          0.074,
          0.075,
          0.076,
          0.077,
          0.078,
          0.079,
          0.08,
          0.081,
          0.082,
          0.083,
          0.084,
          0.085,
          0.08600000000000001,
          0.08700000000000001,
          0.088,
          0.089,
          0.09,
          0.091,
          0.092,
          0.093,
          0.094,
          0.095,
          0.096,
          0.097,
          0.098,
          0.099,
          0.1,
          0.101,
          0.10200000000000001,
          0.10300000000000001,
          0.10400000000000001,
          0.105,
          0.106,
          0.107,
          0.108,
          0.109,
          0.11,
          0.111,
          0.112,
          0.113,
          0.114,
          0.115,
          0.116,
          0.117,
          0.11800000000000001,
          0.11900000000000001,
          0.12,
          0.121,
          0.122,
          0.123,
          0.124,
          0.125,
          0.126,
          0.127,
          0.128,
          0.129,
          0.13,
          0.131,
          0.132,
          0.133,
          0.134,
          0.135,
          0.136,
          0.137,
          0.138,
          0.139,
          0.14,
          0.14100000000000001,
          0.14200000000000002,
          0.14300000000000002,
          0.14400000000000002,
          0.145,
          0.146,
          0.147,
          0.148,
          0.149,
          0.15,
          0.151,
          0.152,
          0.153,
          0.154,
          0.155,
          0.156,
          0.157,
          0.158,
          0.159,
          0.16,
          0.161,
          0.162,
          0.163,
          0.164,
          0.165,
          0.166,
          0.167,
          0.168,
          0.169,
          0.17,
          0.171,
          0.17200000000000001,
          0.17300000000000001,
          0.17400000000000002,
          0.17500000000000002,
          0.176,
          0.177,
          0.178,
          0.179,
          0.18,
          0.181,
          0.182,
          0.183,
          0.184,
          0.185,
          0.186,
          0.187,
          0.188,
          0.189,
          0.19,
          0.191,
          0.192,
          0.193,
          0.194,
          0.195,
          0.196,
          0.197,
          0.198,
          0.199,
          0.2,
          0.201,
          0.202,
          0.203,
          0.20400000000000001,
          0.20500000000000002,
          0.20600000000000002,
          0.20700000000000002,
          0.20800000000000002,
          0.209,
          0.21,
          0.211,
          0.212,
          0.213,
          0.214,
          0.215,
          0.216,
          0.217,
          0.218,
          0.219,
          0.22,
          0.221,
          0.222,
          0.223,
          0.224,
          0.225,
          0.226,
          0.227,
          0.228,
          0.229,
          0.23,
          0.231,
          0.232,
          0.233,
          0.234,
          0.23500000000000001,
          0.23600000000000002,
          0.23700000000000002,
          0.23800000000000002,
          0.23900000000000002,
          0.24,
          0.241,
          0.242,
          0.243,
          0.244,
          0.245,
          0.246,
          0.247,
          0.248,
          0.249,
          0.25,
          0.251,
          0.252,
          0.253,
          0.254,
          0.255,
          0.256,
          0.257,
          0.258,
          0.259,
          0.26,
          0.261,
          0.262,
          0.263,
          0.264,
          0.265,
          0.266,
          0.267,
          0.268,
          0.269,
          0.27,
          0.271,
          0.272,
          0.273,
          0.274,
          0.275,
          0.276,
          0.277,
          0.278,
          0.279,
          0.28,
          0.281,
          0.28200000000000003,
          0.28300000000000003,
          0.28400000000000003,
          0.28500000000000003,
          0.28600000000000003,
          0.28700000000000003,
          0.28800000000000003,
          0.289,
          0.29,
          0.291,
          0.292,
          0.293,
          0.294,
          0.295,
          0.296,
          0.297,
          0.298,
          0.299,
          0.3,
          0.301,
          0.302,
          0.303,
          0.304,
          0.305,
          0.306,
          0.307,
          0.308,
          0.309,
          0.31,
          0.311,
          0.312,
          0.313,
          0.314,
          0.315,
          0.316,
          0.317,
          0.318,
          0.319,
          0.32,
          0.321,
          0.322,
          0.323,
          0.324,
          0.325,
          0.326,
          0.327,
          0.328,
          0.329,
          0.33,
          0.331,
          0.332,
          0.333,
          0.334,
          0.335,
          0.336,
          0.337,
          0.338,
          0.339,
          0.34,
          0.341,
          0.342,
          0.343,
          0.34400000000000003,
          0.34500000000000003,
          0.34600000000000003,
          0.34700000000000003,
          0.34800000000000003,
          0.34900000000000003
         ],
         "xaxis": "x",
         "y": [
          0,
          21.34251290877797,
          21.34251290877797,
          21.34251290877797,
          21.34251290877797,
          21.34251290877797,
          21.34251290877797,
          21.34251290877797,
          21.34251290877797,
          21.34251290877797,
          21.34251290877797,
          21.34251290877797,
          21.34251290877797,
          21.34251290877797,
          21.34251290877797,
          21.34251290877797,
          21.34251290877797,
          21.34251290877797,
          21.34251290877797,
          21.34251290877797,
          21.34251290877797,
          21.34251290877797,
          21.34251290877797,
          21.34251290877797,
          21.34251290877797,
          21.34251290877797,
          21.34251290877797,
          21.34251290877797,
          21.34251290877797,
          21.34251290877797,
          21.34251290877797,
          21.34251290877797,
          21.514629948364888,
          21.686746987951807,
          21.686746987951807,
          21.686746987951807,
          21.686746987951807,
          21.686746987951807,
          21.686746987951807,
          21.686746987951807,
          21.686746987951807,
          21.686746987951807,
          21.686746987951807,
          22.203098106712563,
          22.375215146299485,
          22.375215146299485,
          22.375215146299485,
          22.547332185886404,
          22.547332185886404,
          22.719449225473323,
          22.89156626506024,
          22.89156626506024,
          22.89156626506024,
          22.89156626506024,
          22.89156626506024,
          23.06368330464716,
          23.06368330464716,
          22.89156626506024,
          22.89156626506024,
          23.23580034423408,
          23.23580034423408,
          23.23580034423408,
          23.23580034423408,
          23.407917383820998,
          23.752151462994835,
          23.752151462994835,
          23.924268502581757,
          23.924268502581757,
          24.096385542168676,
          24.268502581755595,
          24.268502581755595,
          24.268502581755595,
          24.612736660929432,
          24.612736660929432,
          24.78485370051635,
          24.95697074010327,
          24.95697074010327,
          24.95697074010327,
          24.95697074010327,
          24.95697074010327,
          24.95697074010327,
          24.78485370051635,
          24.78485370051635,
          24.95697074010327,
          25.129087779690188,
          25.301204819277107,
          25.47332185886403,
          25.47332185886403,
          25.129087779690188,
          25.129087779690188,
          25.301204819277107,
          25.301204819277107,
          25.301204819277107,
          25.301204819277107,
          25.301204819277107,
          25.301204819277107,
          25.645438898450948,
          25.645438898450948,
          25.645438898450948,
          25.301204819277107,
          25.301204819277107,
          25.47332185886403,
          25.47332185886403,
          25.47332185886403,
          25.645438898450948,
          25.645438898450948,
          25.645438898450948,
          25.817555938037867,
          25.645438898450948,
          25.645438898450948,
          25.645438898450948,
          25.301204819277107,
          25.301204819277107,
          25.301204819277107,
          25.129087779690188,
          25.129087779690188,
          24.95697074010327,
          24.95697074010327,
          25.129087779690188,
          25.129087779690188,
          25.301204819277107,
          25.129087779690188,
          25.301204819277107,
          25.301204819277107,
          25.47332185886403,
          25.645438898450948,
          25.645438898450948,
          25.47332185886403,
          25.645438898450948,
          25.47332185886403,
          25.47332185886403,
          25.817555938037867,
          25.989672977624785,
          25.989672977624785,
          25.817555938037867,
          25.817555938037867,
          25.817555938037867,
          26.161790017211704,
          25.989672977624785,
          25.989672977624785,
          25.817555938037867,
          25.817555938037867,
          25.817555938037867,
          25.817555938037867,
          25.817555938037867,
          25.989672977624785,
          25.989672977624785,
          25.989672977624785,
          25.817555938037867,
          25.817555938037867,
          25.817555938037867,
          25.817555938037867,
          25.817555938037867,
          25.989672977624785,
          25.989672977624785,
          25.989672977624785,
          26.161790017211704,
          26.333907056798623,
          26.67814113597246,
          26.85025817555938,
          27.36660929432014,
          27.538726333907057,
          27.538726333907057,
          27.36660929432014,
          27.36660929432014,
          27.538726333907057,
          27.882960413080895,
          27.882960413080895,
          28.227194492254732,
          28.227194492254732,
          28.055077452667813,
          27.882960413080895,
          27.882960413080895,
          27.882960413080895,
          28.055077452667813,
          27.882960413080895,
          28.227194492254732,
          28.571428571428573,
          28.571428571428573,
          28.74354561101549,
          29.08777969018933,
          29.432013769363166,
          29.604130808950085,
          29.604130808950085,
          29.776247848537004,
          30.120481927710845,
          29.948364888123923,
          30.120481927710845,
          30.120481927710845,
          29.948364888123923,
          30.120481927710845,
          30.120481927710845,
          30.464716006884682,
          30.6368330464716,
          30.6368330464716,
          30.292598967297764,
          30.464716006884682,
          30.80895008605852,
          30.6368330464716,
          30.6368330464716,
          30.6368330464716,
          30.464716006884682,
          30.292598967297764,
          30.464716006884682,
          30.292598967297764,
          30.120481927710845,
          30.292598967297764,
          30.464716006884682,
          29.948364888123923,
          29.604130808950085,
          29.604130808950085,
          29.948364888123923,
          29.776247848537004,
          29.776247848537004,
          29.776247848537004,
          29.776247848537004,
          29.948364888123923,
          29.948364888123923,
          29.776247848537004,
          30.464716006884682,
          31.325301204819276,
          31.153184165232357,
          30.98106712564544,
          30.80895008605852,
          30.80895008605852,
          30.80895008605852,
          30.98106712564544,
          30.464716006884682,
          30.464716006884682,
          30.80895008605852,
          30.464716006884682,
          30.120481927710845,
          30.464716006884682,
          30.6368330464716,
          30.80895008605852,
          30.6368330464716,
          30.464716006884682,
          30.292598967297764,
          30.120481927710845,
          29.776247848537004,
          29.604130808950085,
          29.776247848537004,
          29.432013769363166,
          29.08777969018933,
          29.08777969018933,
          28.055077452667813,
          28.055077452667813,
          27.882960413080895,
          27.710843373493976,
          27.19449225473322,
          27.19449225473322,
          27.19449225473322,
          26.50602409638554,
          26.50602409638554,
          26.67814113597246,
          26.85025817555938,
          26.85025817555938,
          26.85025817555938,
          26.85025817555938,
          26.67814113597246,
          26.50602409638554,
          26.50602409638554,
          26.67814113597246,
          26.67814113597246,
          26.67814113597246,
          26.50602409638554,
          26.161790017211704,
          26.161790017211704,
          25.817555938037867,
          25.817555938037867,
          25.645438898450948,
          25.645438898450948,
          25.301204819277107,
          24.95697074010327,
          25.129087779690188,
          24.95697074010327,
          24.95697074010327,
          24.95697074010327,
          24.78485370051635,
          24.440619621342513,
          24.096385542168676,
          23.924268502581757,
          23.924268502581757,
          23.924268502581757,
          23.924268502581757,
          23.924268502581757,
          24.096385542168676,
          23.752151462994835,
          23.752151462994835,
          23.23580034423408,
          23.06368330464716,
          23.06368330464716,
          23.23580034423408,
          23.23580034423408,
          23.23580034423408,
          23.23580034423408,
          23.06368330464716,
          22.89156626506024,
          22.547332185886404,
          22.547332185886404,
          22.375215146299485,
          22.030981067125644,
          22.030981067125644,
          22.030981067125644,
          21.858864027538726,
          21.858864027538726,
          21.686746987951807,
          21.686746987951807,
          21.686746987951807,
          21.686746987951807,
          21.514629948364888,
          21.34251290877797,
          21.17039586919105,
          21.17039586919105,
          20.998278829604132,
          20.65404475043029,
          20.826161790017213,
          20.826161790017213,
          20.481927710843372,
          19.44922547332186,
          19.27710843373494,
          19.27710843373494,
          19.10499139414802,
          18.9328743545611,
          18.9328743545611,
          18.9328743545611,
          18.9328743545611,
          19.10499139414802,
          18.588640275387263,
          18.588640275387263,
          18.588640275387263,
          18.416523235800344,
          18.416523235800344,
          18.244406196213426,
          17.900172117039588,
          16.867469879518072,
          16.695352839931154,
          16.695352839931154,
          16.523235800344235,
          16.523235800344235,
          16.523235800344235,
          16.351118760757316,
          16.179001721170398,
          16.006884681583475,
          16.006884681583475,
          16.006884681583475,
          15.834767641996558,
          15.834767641996558,
          15.834767641996558,
          15.146299483648882
         ],
         "yaxis": "y"
        },
        {
         "fillpattern": {
          "shape": ""
         },
         "hovertemplate": "number of topics=3<br>threshold=%{x}<br>share of reviews, %=%{y}<extra></extra>",
         "legendgroup": "3",
         "line": {
          "color": "rgb(29,145,192)"
         },
         "marker": {
          "symbol": "circle"
         },
         "mode": "lines",
         "name": "3",
         "orientation": "v",
         "showlegend": true,
         "stackgroup": "1",
         "type": "scatter",
         "x": [
          0,
          0.001,
          0.002,
          0.003,
          0.004,
          0.005,
          0.006,
          0.007,
          0.008,
          0.009000000000000001,
          0.01,
          0.011,
          0.012,
          0.013000000000000001,
          0.014,
          0.015,
          0.016,
          0.017,
          0.018000000000000002,
          0.019,
          0.02,
          0.021,
          0.022,
          0.023,
          0.024,
          0.025,
          0.026000000000000002,
          0.027,
          0.028,
          0.029,
          0.03,
          0.031,
          0.032,
          0.033,
          0.034,
          0.035,
          0.036000000000000004,
          0.037,
          0.038,
          0.039,
          0.04,
          0.041,
          0.042,
          0.043000000000000003,
          0.044,
          0.045,
          0.046,
          0.047,
          0.048,
          0.049,
          0.05,
          0.051000000000000004,
          0.052000000000000005,
          0.053,
          0.054,
          0.055,
          0.056,
          0.057,
          0.058,
          0.059000000000000004,
          0.06,
          0.061,
          0.062,
          0.063,
          0.064,
          0.065,
          0.066,
          0.067,
          0.068,
          0.069,
          0.07,
          0.07100000000000001,
          0.07200000000000001,
          0.073,
          0.074,
          0.075,
          0.076,
          0.077,
          0.078,
          0.079,
          0.08,
          0.081,
          0.082,
          0.083,
          0.084,
          0.085,
          0.08600000000000001,
          0.08700000000000001,
          0.088,
          0.089,
          0.09,
          0.091,
          0.092,
          0.093,
          0.094,
          0.095,
          0.096,
          0.097,
          0.098,
          0.099,
          0.1,
          0.101,
          0.10200000000000001,
          0.10300000000000001,
          0.10400000000000001,
          0.105,
          0.106,
          0.107,
          0.108,
          0.109,
          0.11,
          0.111,
          0.112,
          0.113,
          0.114,
          0.115,
          0.116,
          0.117,
          0.11800000000000001,
          0.11900000000000001,
          0.12,
          0.121,
          0.122,
          0.123,
          0.124,
          0.125,
          0.126,
          0.127,
          0.128,
          0.129,
          0.13,
          0.131,
          0.132,
          0.133,
          0.134,
          0.135,
          0.136,
          0.137,
          0.138,
          0.139,
          0.14,
          0.14100000000000001,
          0.14200000000000002,
          0.14300000000000002,
          0.14400000000000002,
          0.145,
          0.146,
          0.147,
          0.148,
          0.149,
          0.15,
          0.151,
          0.152,
          0.153,
          0.154,
          0.155,
          0.156,
          0.157,
          0.158,
          0.159,
          0.16,
          0.161,
          0.162,
          0.163,
          0.164,
          0.165,
          0.166,
          0.167,
          0.168,
          0.169,
          0.17,
          0.171,
          0.17200000000000001,
          0.17300000000000001,
          0.17400000000000002,
          0.17500000000000002,
          0.176,
          0.177,
          0.178,
          0.179,
          0.18,
          0.181,
          0.182,
          0.183,
          0.184,
          0.185,
          0.186,
          0.187,
          0.188,
          0.189,
          0.19,
          0.191,
          0.192,
          0.193,
          0.194,
          0.195,
          0.196,
          0.197,
          0.198,
          0.199,
          0.2,
          0.201,
          0.202,
          0.203,
          0.20400000000000001,
          0.20500000000000002,
          0.20600000000000002,
          0.20700000000000002,
          0.20800000000000002,
          0.209,
          0.21,
          0.211,
          0.212,
          0.213,
          0.214,
          0.215,
          0.216,
          0.217,
          0.218,
          0.219,
          0.22,
          0.221,
          0.222,
          0.223,
          0.224,
          0.225,
          0.226,
          0.227,
          0.228,
          0.229,
          0.23,
          0.231,
          0.232,
          0.233,
          0.234,
          0.23500000000000001,
          0.23600000000000002,
          0.23700000000000002,
          0.23800000000000002,
          0.23900000000000002,
          0.24,
          0.241,
          0.242,
          0.243,
          0.244,
          0.245,
          0.246,
          0.247,
          0.248,
          0.249,
          0.25,
          0.251,
          0.252,
          0.253,
          0.254,
          0.255,
          0.256,
          0.257,
          0.258,
          0.259,
          0.26,
          0.261,
          0.262,
          0.263,
          0.264,
          0.265,
          0.266,
          0.267,
          0.268,
          0.269,
          0.27,
          0.271,
          0.272,
          0.273,
          0.274,
          0.275,
          0.276,
          0.277,
          0.278,
          0.279,
          0.28,
          0.281,
          0.28200000000000003,
          0.28300000000000003,
          0.28400000000000003,
          0.28500000000000003,
          0.28600000000000003,
          0.28700000000000003,
          0.28800000000000003,
          0.289,
          0.29,
          0.291,
          0.292,
          0.293,
          0.294,
          0.295,
          0.296,
          0.297,
          0.298,
          0.299,
          0.3,
          0.301,
          0.302,
          0.303,
          0.304,
          0.305,
          0.306,
          0.307,
          0.308,
          0.309,
          0.31,
          0.311,
          0.312,
          0.313,
          0.314,
          0.315,
          0.316,
          0.317,
          0.318,
          0.319,
          0.32,
          0.321,
          0.322,
          0.323,
          0.324,
          0.325,
          0.326,
          0.327,
          0.328,
          0.329,
          0.33,
          0.331,
          0.332,
          0.333,
          0.334,
          0.335,
          0.336,
          0.337,
          0.338,
          0.339,
          0.34,
          0.341,
          0.342,
          0.343,
          0.34400000000000003,
          0.34500000000000003,
          0.34600000000000003,
          0.34700000000000003,
          0.34800000000000003,
          0.34900000000000003
         ],
         "xaxis": "x",
         "y": [
          0,
          13.42512908777969,
          13.42512908777969,
          13.42512908777969,
          13.42512908777969,
          13.42512908777969,
          13.42512908777969,
          13.42512908777969,
          13.42512908777969,
          13.42512908777969,
          13.42512908777969,
          13.42512908777969,
          13.42512908777969,
          13.42512908777969,
          13.42512908777969,
          13.42512908777969,
          13.59724612736661,
          13.59724612736661,
          13.59724612736661,
          13.59724612736661,
          13.769363166953529,
          13.769363166953529,
          13.941480206540447,
          13.941480206540447,
          13.941480206540447,
          13.941480206540447,
          14.113597246127366,
          14.113597246127366,
          14.113597246127366,
          14.285714285714286,
          14.457831325301205,
          14.629948364888124,
          14.974182444061961,
          14.802065404475043,
          14.802065404475043,
          14.802065404475043,
          14.802065404475043,
          14.802065404475043,
          14.802065404475043,
          14.974182444061961,
          14.974182444061961,
          15.146299483648882,
          15.3184165232358,
          14.802065404475043,
          14.629948364888124,
          14.802065404475043,
          14.974182444061961,
          14.802065404475043,
          14.802065404475043,
          14.629948364888124,
          14.457831325301205,
          14.457831325301205,
          14.457831325301205,
          14.457831325301205,
          14.457831325301205,
          14.285714285714286,
          14.285714285714286,
          14.457831325301205,
          14.457831325301205,
          14.113597246127366,
          14.113597246127366,
          14.113597246127366,
          14.285714285714286,
          14.113597246127366,
          13.769363166953529,
          13.941480206540447,
          13.941480206540447,
          14.113597246127366,
          13.941480206540447,
          13.769363166953529,
          13.769363166953529,
          13.769363166953529,
          13.59724612736661,
          13.769363166953529,
          13.941480206540447,
          13.769363166953529,
          13.769363166953529,
          13.941480206540447,
          14.285714285714286,
          14.285714285714286,
          14.457831325301205,
          14.629948364888124,
          14.629948364888124,
          14.457831325301205,
          14.285714285714286,
          14.113597246127366,
          13.941480206540447,
          13.941480206540447,
          13.941480206540447,
          14.285714285714286,
          14.113597246127366,
          14.285714285714286,
          14.457831325301205,
          14.457831325301205,
          14.802065404475043,
          14.802065404475043,
          14.629948364888124,
          14.629948364888124,
          14.629948364888124,
          14.802065404475043,
          14.802065404475043,
          14.629948364888124,
          14.457831325301205,
          14.802065404475043,
          14.629948364888124,
          14.974182444061961,
          15.146299483648882,
          14.974182444061961,
          15.3184165232358,
          15.3184165232358,
          15.49053356282272,
          15.49053356282272,
          15.3184165232358,
          15.49053356282272,
          15.662650602409638,
          15.834767641996558,
          15.834767641996558,
          15.834767641996558,
          15.662650602409638,
          15.662650602409638,
          15.49053356282272,
          15.49053356282272,
          15.3184165232358,
          15.3184165232358,
          15.3184165232358,
          15.3184165232358,
          15.3184165232358,
          15.3184165232358,
          15.3184165232358,
          15.3184165232358,
          15.3184165232358,
          15.146299483648882,
          14.974182444061961,
          14.974182444061961,
          14.974182444061961,
          15.3184165232358,
          15.49053356282272,
          15.3184165232358,
          15.3184165232358,
          15.3184165232358,
          15.146299483648882,
          15.146299483648882,
          15.3184165232358,
          15.3184165232358,
          15.3184165232358,
          15.146299483648882,
          15.3184165232358,
          15.146299483648882,
          15.146299483648882,
          14.974182444061961,
          14.974182444061961,
          14.974182444061961,
          14.974182444061961,
          14.802065404475043,
          14.629948364888124,
          14.457831325301205,
          14.285714285714286,
          14.285714285714286,
          13.941480206540447,
          13.769363166953529,
          14.113597246127366,
          14.113597246127366,
          13.941480206540447,
          13.941480206540447,
          13.941480206540447,
          13.941480206540447,
          13.59724612736661,
          13.59724612736661,
          13.25301204819277,
          13.25301204819277,
          13.25301204819277,
          13.25301204819277,
          13.25301204819277,
          13.42512908777969,
          13.42512908777969,
          13.42512908777969,
          13.080895008605852,
          12.736660929432015,
          12.736660929432015,
          12.564543889845094,
          12.392426850258175,
          12.048192771084338,
          11.876075731497417,
          11.703958691910499,
          11.359724612736661,
          11.015490533562822,
          11.015490533562822,
          10.671256454388985,
          10.499139414802066,
          10.499139414802066,
          10.154905335628227,
          10.154905335628227,
          9.63855421686747,
          9.46643717728055,
          9.294320137693632,
          9.294320137693632,
          9.122203098106713,
          8.777969018932874,
          8.777969018932874,
          8.777969018932874,
          8.777969018932874,
          8.777969018932874,
          8.605851979345955,
          8.261617900172118,
          7.573149741824441,
          7.74526678141136,
          7.573149741824441,
          7.228915662650603,
          7.228915662650603,
          7.228915662650603,
          7.917383820998279,
          7.573149741824441,
          7.573149741824441,
          7.573149741824441,
          7.573149741824441,
          7.573149741824441,
          7.401032702237521,
          7.401032702237521,
          7.228915662650603,
          6.712564543889845,
          5.851979345955249,
          5.679862306368331,
          5.679862306368331,
          5.507745266781411,
          5.335628227194492,
          5.335628227194492,
          4.819277108433735,
          4.647160068846816,
          4.475043029259897,
          4.130808950086059,
          4.130808950086059,
          4.130808950086059,
          3.6144578313253013,
          3.442340791738382,
          3.270223752151463,
          3.270223752151463,
          3.098106712564544,
          3.098106712564544,
          3.098106712564544,
          3.098106712564544,
          3.098106712564544,
          2.9259896729776247,
          2.7538726333907055,
          2.7538726333907055,
          2.5817555938037864,
          2.5817555938037864,
          2.5817555938037864,
          2.5817555938037864,
          2.5817555938037864,
          2.5817555938037864,
          2.5817555938037864,
          2.5817555938037864,
          2.4096385542168677,
          2.4096385542168677,
          2.2375215146299485,
          2.0654044750430294,
          2.0654044750430294,
          2.0654044750430294,
          2.0654044750430294,
          2.0654044750430294,
          2.0654044750430294,
          1.8932874354561102,
          1.721170395869191,
          1.721170395869191,
          1.721170395869191,
          1.721170395869191,
          1.721170395869191,
          1.721170395869191,
          1.721170395869191,
          1.721170395869191,
          1.721170395869191,
          1.721170395869191,
          1.3769363166953528,
          1.3769363166953528,
          1.2048192771084338,
          1.2048192771084338,
          1.2048192771084338,
          1.0327022375215147,
          1.0327022375215147,
          1.0327022375215147,
          1.0327022375215147,
          1.0327022375215147,
          1.0327022375215147,
          1.0327022375215147,
          1.0327022375215147,
          1.0327022375215147,
          0.8605851979345955,
          0.8605851979345955,
          0.6884681583476764,
          0.6884681583476764,
          0.6884681583476764,
          0.6884681583476764,
          0.5163511187607573,
          0.5163511187607573,
          0.5163511187607573,
          0.5163511187607573,
          0.5163511187607573,
          0.5163511187607573,
          0.5163511187607573,
          0.5163511187607573,
          0.5163511187607573,
          0.5163511187607573,
          0.5163511187607573,
          0.5163511187607573,
          0.3442340791738382,
          0.3442340791738382,
          0.3442340791738382,
          0.3442340791738382,
          0.3442340791738382,
          0.3442340791738382,
          0.3442340791738382,
          0.3442340791738382,
          0.3442340791738382,
          0.3442340791738382,
          0.3442340791738382,
          0.3442340791738382,
          0.1721170395869191,
          0.1721170395869191,
          0.1721170395869191,
          0.1721170395869191,
          0.1721170395869191,
          0.1721170395869191,
          0.1721170395869191,
          0.1721170395869191,
          0.1721170395869191,
          0.1721170395869191,
          0.1721170395869191,
          0,
          0,
          0,
          0,
          0,
          0,
          0,
          0,
          0,
          0,
          0,
          0,
          0,
          0,
          0,
          0,
          0,
          0,
          0,
          0,
          0,
          0,
          0
         ],
         "yaxis": "y"
        },
        {
         "fillpattern": {
          "shape": ""
         },
         "hovertemplate": "number of topics=4<br>threshold=%{x}<br>share of reviews, %=%{y}<extra></extra>",
         "legendgroup": "4",
         "line": {
          "color": "rgb(34,94,168)"
         },
         "marker": {
          "symbol": "circle"
         },
         "mode": "lines",
         "name": "4",
         "orientation": "v",
         "showlegend": true,
         "stackgroup": "1",
         "type": "scatter",
         "x": [
          0,
          0.001,
          0.002,
          0.003,
          0.004,
          0.005,
          0.006,
          0.007,
          0.008,
          0.009000000000000001,
          0.01,
          0.011,
          0.012,
          0.013000000000000001,
          0.014,
          0.015,
          0.016,
          0.017,
          0.018000000000000002,
          0.019,
          0.02,
          0.021,
          0.022,
          0.023,
          0.024,
          0.025,
          0.026000000000000002,
          0.027,
          0.028,
          0.029,
          0.03,
          0.031,
          0.032,
          0.033,
          0.034,
          0.035,
          0.036000000000000004,
          0.037,
          0.038,
          0.039,
          0.04,
          0.041,
          0.042,
          0.043000000000000003,
          0.044,
          0.045,
          0.046,
          0.047,
          0.048,
          0.049,
          0.05,
          0.051000000000000004,
          0.052000000000000005,
          0.053,
          0.054,
          0.055,
          0.056,
          0.057,
          0.058,
          0.059000000000000004,
          0.06,
          0.061,
          0.062,
          0.063,
          0.064,
          0.065,
          0.066,
          0.067,
          0.068,
          0.069,
          0.07,
          0.07100000000000001,
          0.07200000000000001,
          0.073,
          0.074,
          0.075,
          0.076,
          0.077,
          0.078,
          0.079,
          0.08,
          0.081,
          0.082,
          0.083,
          0.084,
          0.085,
          0.08600000000000001,
          0.08700000000000001,
          0.088,
          0.089,
          0.09,
          0.091,
          0.092,
          0.093,
          0.094,
          0.095,
          0.096,
          0.097,
          0.098,
          0.099,
          0.1,
          0.101,
          0.10200000000000001,
          0.10300000000000001,
          0.10400000000000001,
          0.105,
          0.106,
          0.107,
          0.108,
          0.109,
          0.11,
          0.111,
          0.112,
          0.113,
          0.114,
          0.115,
          0.116,
          0.117,
          0.11800000000000001,
          0.11900000000000001,
          0.12,
          0.121,
          0.122,
          0.123,
          0.124,
          0.125,
          0.126,
          0.127,
          0.128,
          0.129,
          0.13,
          0.131,
          0.132,
          0.133,
          0.134,
          0.135,
          0.136,
          0.137,
          0.138,
          0.139,
          0.14,
          0.14100000000000001,
          0.14200000000000002,
          0.14300000000000002,
          0.14400000000000002,
          0.145,
          0.146,
          0.147,
          0.148,
          0.149,
          0.15,
          0.151,
          0.152,
          0.153,
          0.154,
          0.155,
          0.156,
          0.157,
          0.158,
          0.159,
          0.16,
          0.161,
          0.162,
          0.163,
          0.164,
          0.165,
          0.166,
          0.167,
          0.168,
          0.169,
          0.17,
          0.171,
          0.17200000000000001,
          0.17300000000000001,
          0.17400000000000002,
          0.17500000000000002,
          0.176,
          0.177,
          0.178,
          0.179,
          0.18,
          0.181,
          0.182,
          0.183,
          0.184,
          0.185,
          0.186,
          0.187,
          0.188,
          0.189,
          0.19,
          0.191,
          0.192,
          0.193,
          0.194,
          0.195,
          0.196,
          0.197,
          0.198,
          0.199,
          0.2,
          0.201,
          0.202,
          0.203,
          0.20400000000000001,
          0.20500000000000002,
          0.20600000000000002,
          0.20700000000000002,
          0.20800000000000002,
          0.209,
          0.21,
          0.211,
          0.212,
          0.213,
          0.214,
          0.215,
          0.216,
          0.217,
          0.218,
          0.219,
          0.22,
          0.221,
          0.222,
          0.223,
          0.224,
          0.225,
          0.226,
          0.227,
          0.228,
          0.229,
          0.23,
          0.231,
          0.232,
          0.233,
          0.234,
          0.23500000000000001,
          0.23600000000000002,
          0.23700000000000002,
          0.23800000000000002,
          0.23900000000000002,
          0.24,
          0.241,
          0.242,
          0.243,
          0.244,
          0.245,
          0.246,
          0.247,
          0.248,
          0.249,
          0.25,
          0.251,
          0.252,
          0.253,
          0.254,
          0.255,
          0.256,
          0.257,
          0.258,
          0.259,
          0.26,
          0.261,
          0.262,
          0.263,
          0.264,
          0.265,
          0.266,
          0.267,
          0.268,
          0.269,
          0.27,
          0.271,
          0.272,
          0.273,
          0.274,
          0.275,
          0.276,
          0.277,
          0.278,
          0.279,
          0.28,
          0.281,
          0.28200000000000003,
          0.28300000000000003,
          0.28400000000000003,
          0.28500000000000003,
          0.28600000000000003,
          0.28700000000000003,
          0.28800000000000003,
          0.289,
          0.29,
          0.291,
          0.292,
          0.293,
          0.294,
          0.295,
          0.296,
          0.297,
          0.298,
          0.299,
          0.3,
          0.301,
          0.302,
          0.303,
          0.304,
          0.305,
          0.306,
          0.307,
          0.308,
          0.309,
          0.31,
          0.311,
          0.312,
          0.313,
          0.314,
          0.315,
          0.316,
          0.317,
          0.318,
          0.319,
          0.32,
          0.321,
          0.322,
          0.323,
          0.324,
          0.325,
          0.326,
          0.327,
          0.328,
          0.329,
          0.33,
          0.331,
          0.332,
          0.333,
          0.334,
          0.335,
          0.336,
          0.337,
          0.338,
          0.339,
          0.34,
          0.341,
          0.342,
          0.343,
          0.34400000000000003,
          0.34500000000000003,
          0.34600000000000003,
          0.34700000000000003,
          0.34800000000000003,
          0.34900000000000003
         ],
         "xaxis": "x",
         "y": [
          0,
          7.228915662650603,
          7.228915662650603,
          7.228915662650603,
          7.228915662650603,
          7.228915662650603,
          7.228915662650603,
          7.228915662650603,
          7.228915662650603,
          7.228915662650603,
          7.228915662650603,
          7.401032702237521,
          7.401032702237521,
          7.401032702237521,
          7.401032702237521,
          7.401032702237521,
          7.401032702237521,
          7.401032702237521,
          7.573149741824441,
          7.573149741824441,
          7.401032702237521,
          7.401032702237521,
          7.228915662650603,
          7.228915662650603,
          7.401032702237521,
          7.401032702237521,
          7.573149741824441,
          7.74526678141136,
          7.917383820998279,
          7.74526678141136,
          7.573149741824441,
          7.401032702237521,
          7.056798623063683,
          7.056798623063683,
          7.056798623063683,
          7.056798623063683,
          7.056798623063683,
          7.056798623063683,
          7.056798623063683,
          6.884681583476764,
          6.884681583476764,
          7.056798623063683,
          7.056798623063683,
          7.056798623063683,
          7.056798623063683,
          6.884681583476764,
          6.884681583476764,
          6.884681583476764,
          6.884681583476764,
          7.228915662650603,
          7.228915662650603,
          7.573149741824441,
          7.573149741824441,
          7.74526678141136,
          7.917383820998279,
          8.261617900172118,
          8.261617900172118,
          8.261617900172118,
          8.261617900172118,
          8.261617900172118,
          8.261617900172118,
          8.261617900172118,
          8.089500860585199,
          8.261617900172118,
          8.433734939759036,
          8.261617900172118,
          8.089500860585199,
          7.917383820998279,
          7.917383820998279,
          7.917383820998279,
          7.917383820998279,
          7.917383820998279,
          7.917383820998279,
          7.74526678141136,
          7.401032702237521,
          7.573149741824441,
          7.573149741824441,
          7.401032702237521,
          7.056798623063683,
          7.056798623063683,
          7.056798623063683,
          6.884681583476764,
          6.884681583476764,
          6.884681583476764,
          6.884681583476764,
          6.884681583476764,
          6.884681583476764,
          6.884681583476764,
          6.884681583476764,
          6.712564543889845,
          6.712564543889845,
          6.712564543889845,
          6.540447504302926,
          6.540447504302926,
          6.196213425129088,
          6.368330464716007,
          6.196213425129088,
          6.196213425129088,
          6.196213425129088,
          6.024096385542169,
          6.024096385542169,
          6.024096385542169,
          6.196213425129088,
          5.851979345955249,
          5.851979345955249,
          5.507745266781411,
          5.335628227194492,
          5.335628227194492,
          5.163511187607573,
          5.163511187607573,
          4.991394148020654,
          4.991394148020654,
          4.991394148020654,
          5.163511187607573,
          4.991394148020654,
          4.819277108433735,
          4.819277108433735,
          4.819277108433735,
          4.819277108433735,
          4.991394148020654,
          4.991394148020654,
          4.991394148020654,
          4.991394148020654,
          4.991394148020654,
          4.819277108433735,
          4.647160068846816,
          4.647160068846816,
          4.647160068846816,
          4.3029259896729775,
          4.3029259896729775,
          4.3029259896729775,
          4.130808950086059,
          4.130808950086059,
          4.130808950086059,
          4.130808950086059,
          3.7865748709122204,
          3.6144578313253013,
          3.442340791738382,
          3.442340791738382,
          3.442340791738382,
          3.442340791738382,
          3.442340791738382,
          3.098106712564544,
          3.098106712564544,
          3.098106712564544,
          3.098106712564544,
          2.9259896729776247,
          2.9259896729776247,
          2.9259896729776247,
          2.9259896729776247,
          2.9259896729776247,
          2.9259896729776247,
          2.9259896729776247,
          2.9259896729776247,
          2.9259896729776247,
          2.9259896729776247,
          2.9259896729776247,
          2.7538726333907055,
          2.7538726333907055,
          2.7538726333907055,
          1.8932874354561102,
          1.721170395869191,
          1.721170395869191,
          1.721170395869191,
          1.721170395869191,
          1.549053356282272,
          1.549053356282272,
          1.549053356282272,
          1.549053356282272,
          1.549053356282272,
          1.549053356282272,
          1.549053356282272,
          1.549053356282272,
          1.3769363166953528,
          1.2048192771084338,
          1.2048192771084338,
          1.2048192771084338,
          1.2048192771084338,
          1.2048192771084338,
          1.2048192771084338,
          1.0327022375215147,
          1.0327022375215147,
          1.0327022375215147,
          1.0327022375215147,
          1.0327022375215147,
          1.0327022375215147,
          1.0327022375215147,
          1.0327022375215147,
          1.0327022375215147,
          1.0327022375215147,
          1.0327022375215147,
          1.0327022375215147,
          1.0327022375215147,
          1.0327022375215147,
          1.0327022375215147,
          1.0327022375215147,
          1.0327022375215147,
          1.0327022375215147,
          1.0327022375215147,
          1.0327022375215147,
          1.0327022375215147,
          1.0327022375215147,
          1.0327022375215147,
          1.0327022375215147,
          1.0327022375215147,
          0.8605851979345955,
          0.8605851979345955,
          0.8605851979345955,
          0.8605851979345955,
          0.8605851979345955,
          0.1721170395869191,
          0.1721170395869191,
          0.1721170395869191,
          0.1721170395869191,
          0.1721170395869191,
          0.1721170395869191,
          0.1721170395869191,
          0.1721170395869191,
          0.1721170395869191,
          0,
          0,
          0,
          0,
          0,
          0,
          0,
          0,
          0,
          0,
          0,
          0,
          0,
          0,
          0,
          0,
          0,
          0,
          0,
          0,
          0,
          0,
          0,
          0,
          0,
          0,
          0,
          0,
          0,
          0,
          0,
          0,
          0,
          0,
          0,
          0,
          0,
          0,
          0,
          0,
          0,
          0,
          0,
          0,
          0,
          0,
          0,
          0,
          0,
          0,
          0,
          0,
          0,
          0,
          0,
          0,
          0,
          0,
          0,
          0,
          0,
          0,
          0,
          0,
          0,
          0,
          0,
          0,
          0,
          0,
          0,
          0,
          0,
          0,
          0,
          0,
          0,
          0,
          0,
          0,
          0,
          0,
          0,
          0,
          0,
          0,
          0,
          0,
          0,
          0,
          0,
          0,
          0,
          0,
          0,
          0,
          0,
          0,
          0,
          0,
          0,
          0,
          0,
          0,
          0,
          0,
          0,
          0,
          0,
          0,
          0,
          0,
          0,
          0,
          0,
          0,
          0,
          0,
          0,
          0,
          0,
          0,
          0,
          0,
          0,
          0,
          0,
          0,
          0,
          0,
          0
         ],
         "yaxis": "y"
        },
        {
         "fillpattern": {
          "shape": ""
         },
         "hovertemplate": "number of topics=5+<br>threshold=%{x}<br>share of reviews, %=%{y}<extra></extra>",
         "legendgroup": "5+",
         "line": {
          "color": "rgb(37,52,148)"
         },
         "marker": {
          "symbol": "circle"
         },
         "mode": "lines",
         "name": "5+",
         "orientation": "v",
         "showlegend": true,
         "stackgroup": "1",
         "type": "scatter",
         "x": [
          0,
          0.001,
          0.002,
          0.003,
          0.004,
          0.005,
          0.006,
          0.007,
          0.008,
          0.009000000000000001,
          0.01,
          0.011,
          0.012,
          0.013000000000000001,
          0.014,
          0.015,
          0.016,
          0.017,
          0.018000000000000002,
          0.019,
          0.02,
          0.021,
          0.022,
          0.023,
          0.024,
          0.025,
          0.026000000000000002,
          0.027,
          0.028,
          0.029,
          0.03,
          0.031,
          0.032,
          0.033,
          0.034,
          0.035,
          0.036000000000000004,
          0.037,
          0.038,
          0.039,
          0.04,
          0.041,
          0.042,
          0.043000000000000003,
          0.044,
          0.045,
          0.046,
          0.047,
          0.048,
          0.049,
          0.05,
          0.051000000000000004,
          0.052000000000000005,
          0.053,
          0.054,
          0.055,
          0.056,
          0.057,
          0.058,
          0.059000000000000004,
          0.06,
          0.061,
          0.062,
          0.063,
          0.064,
          0.065,
          0.066,
          0.067,
          0.068,
          0.069,
          0.07,
          0.07100000000000001,
          0.07200000000000001,
          0.073,
          0.074,
          0.075,
          0.076,
          0.077,
          0.078,
          0.079,
          0.08,
          0.081,
          0.082,
          0.083,
          0.084,
          0.085,
          0.08600000000000001,
          0.08700000000000001,
          0.088,
          0.089,
          0.09,
          0.091,
          0.092,
          0.093,
          0.094,
          0.095,
          0.096,
          0.097,
          0.098,
          0.099,
          0.1,
          0.101,
          0.10200000000000001,
          0.10300000000000001,
          0.10400000000000001,
          0.105,
          0.106,
          0.107,
          0.108,
          0.109,
          0.11,
          0.111,
          0.112,
          0.113,
          0.114,
          0.115,
          0.116,
          0.117,
          0.11800000000000001,
          0.11900000000000001,
          0.12,
          0.121,
          0.122,
          0.123,
          0.124,
          0.125,
          0.126,
          0.127,
          0.128,
          0.129,
          0.13,
          0.131,
          0.132,
          0.133,
          0.134,
          0.135,
          0.136,
          0.137,
          0.138,
          0.139,
          0.14,
          0.14100000000000001,
          0.14200000000000002,
          0.14300000000000002,
          0.14400000000000002,
          0.145,
          0.146,
          0.147,
          0.148,
          0.149,
          0.15,
          0.151,
          0.152,
          0.153,
          0.154,
          0.155,
          0.156,
          0.157,
          0.158,
          0.159,
          0.16,
          0.161,
          0.162,
          0.163,
          0.164,
          0.165,
          0.166,
          0.167,
          0.168,
          0.169,
          0.17,
          0.171,
          0.17200000000000001,
          0.17300000000000001,
          0.17400000000000002,
          0.17500000000000002,
          0.176,
          0.177,
          0.178,
          0.179,
          0.18,
          0.181,
          0.182,
          0.183,
          0.184,
          0.185,
          0.186,
          0.187,
          0.188,
          0.189,
          0.19,
          0.191,
          0.192,
          0.193,
          0.194,
          0.195,
          0.196,
          0.197,
          0.198,
          0.199,
          0.2,
          0.201,
          0.202,
          0.203,
          0.20400000000000001,
          0.20500000000000002,
          0.20600000000000002,
          0.20700000000000002,
          0.20800000000000002,
          0.209,
          0.21,
          0.211,
          0.212,
          0.213,
          0.214,
          0.215,
          0.216,
          0.217,
          0.218,
          0.219,
          0.22,
          0.221,
          0.222,
          0.223,
          0.224,
          0.225,
          0.226,
          0.227,
          0.228,
          0.229,
          0.23,
          0.231,
          0.232,
          0.233,
          0.234,
          0.23500000000000001,
          0.23600000000000002,
          0.23700000000000002,
          0.23800000000000002,
          0.23900000000000002,
          0.24,
          0.241,
          0.242,
          0.243,
          0.244,
          0.245,
          0.246,
          0.247,
          0.248,
          0.249,
          0.25,
          0.251,
          0.252,
          0.253,
          0.254,
          0.255,
          0.256,
          0.257,
          0.258,
          0.259,
          0.26,
          0.261,
          0.262,
          0.263,
          0.264,
          0.265,
          0.266,
          0.267,
          0.268,
          0.269,
          0.27,
          0.271,
          0.272,
          0.273,
          0.274,
          0.275,
          0.276,
          0.277,
          0.278,
          0.279,
          0.28,
          0.281,
          0.28200000000000003,
          0.28300000000000003,
          0.28400000000000003,
          0.28500000000000003,
          0.28600000000000003,
          0.28700000000000003,
          0.28800000000000003,
          0.289,
          0.29,
          0.291,
          0.292,
          0.293,
          0.294,
          0.295,
          0.296,
          0.297,
          0.298,
          0.299,
          0.3,
          0.301,
          0.302,
          0.303,
          0.304,
          0.305,
          0.306,
          0.307,
          0.308,
          0.309,
          0.31,
          0.311,
          0.312,
          0.313,
          0.314,
          0.315,
          0.316,
          0.317,
          0.318,
          0.319,
          0.32,
          0.321,
          0.322,
          0.323,
          0.324,
          0.325,
          0.326,
          0.327,
          0.328,
          0.329,
          0.33,
          0.331,
          0.332,
          0.333,
          0.334,
          0.335,
          0.336,
          0.337,
          0.338,
          0.339,
          0.34,
          0.341,
          0.342,
          0.343,
          0.34400000000000003,
          0.34500000000000003,
          0.34600000000000003,
          0.34700000000000003,
          0.34800000000000003,
          0.34900000000000003
         ],
         "xaxis": "x",
         "y": [
          100,
          6.024096385542169,
          6.024096385542169,
          6.024096385542169,
          6.024096385542169,
          6.024096385542169,
          6.024096385542169,
          6.024096385542169,
          6.024096385542169,
          6.024096385542169,
          6.024096385542169,
          5.851979345955249,
          5.851979345955249,
          5.851979345955249,
          5.851979345955249,
          5.851979345955249,
          5.679862306368331,
          5.679862306368331,
          5.507745266781411,
          5.507745266781411,
          5.507745266781411,
          5.507745266781411,
          5.507745266781411,
          5.507745266781411,
          5.335628227194492,
          5.335628227194492,
          4.991394148020654,
          4.819277108433735,
          4.647160068846816,
          4.647160068846816,
          4.647160068846816,
          4.647160068846816,
          4.475043029259897,
          4.475043029259897,
          4.475043029259897,
          4.475043029259897,
          4.475043029259897,
          4.475043029259897,
          4.475043029259897,
          4.475043029259897,
          4.475043029259897,
          4.130808950086059,
          3.9586919104991396,
          3.9586919104991396,
          3.9586919104991396,
          3.9586919104991396,
          3.7865748709122204,
          3.7865748709122204,
          3.7865748709122204,
          3.442340791738382,
          3.442340791738382,
          3.098106712564544,
          3.098106712564544,
          2.9259896729776247,
          2.7538726333907055,
          2.4096385542168677,
          2.4096385542168677,
          2.2375215146299485,
          2.2375215146299485,
          2.2375215146299485,
          2.2375215146299485,
          2.2375215146299485,
          2.2375215146299485,
          2.0654044750430294,
          1.8932874354561102,
          1.8932874354561102,
          1.8932874354561102,
          1.8932874354561102,
          1.8932874354561102,
          1.8932874354561102,
          1.8932874354561102,
          1.8932874354561102,
          1.721170395869191,
          1.721170395869191,
          1.721170395869191,
          1.549053356282272,
          1.549053356282272,
          1.549053356282272,
          1.549053356282272,
          1.549053356282272,
          1.3769363166953528,
          1.3769363166953528,
          1.3769363166953528,
          1.3769363166953528,
          1.3769363166953528,
          1.3769363166953528,
          1.3769363166953528,
          1.3769363166953528,
          1.3769363166953528,
          1.2048192771084338,
          1.2048192771084338,
          1.0327022375215147,
          1.0327022375215147,
          1.0327022375215147,
          1.0327022375215147,
          0.8605851979345955,
          0.8605851979345955,
          0.8605851979345955,
          0.8605851979345955,
          0.8605851979345955,
          0.8605851979345955,
          0.8605851979345955,
          0.6884681583476764,
          0.6884681583476764,
          0.6884681583476764,
          0.6884681583476764,
          0.6884681583476764,
          0.6884681583476764,
          0.5163511187607573,
          0.5163511187607573,
          0.5163511187607573,
          0.5163511187607573,
          0.5163511187607573,
          0.1721170395869191,
          0.1721170395869191,
          0.1721170395869191,
          0.1721170395869191,
          0.1721170395869191,
          0.1721170395869191,
          0,
          0,
          0,
          0,
          0,
          0,
          0,
          0,
          0,
          0,
          0,
          0,
          0,
          0,
          0,
          0,
          0,
          0,
          0,
          0,
          0,
          0,
          0,
          0,
          0,
          0,
          0,
          0,
          0,
          0,
          0,
          0,
          0,
          0,
          0,
          0,
          0,
          0,
          0,
          0,
          0,
          0,
          0,
          0,
          0,
          0,
          0,
          0,
          0,
          0,
          0,
          0,
          0,
          0,
          0,
          0,
          0,
          0,
          0,
          0,
          0,
          0,
          0,
          0,
          0,
          0,
          0,
          0,
          0,
          0,
          0,
          0,
          0,
          0,
          0,
          0,
          0,
          0,
          0,
          0,
          0,
          0,
          0,
          0,
          0,
          0,
          0,
          0,
          0,
          0,
          0,
          0,
          0,
          0,
          0,
          0,
          0,
          0,
          0,
          0,
          0,
          0,
          0,
          0,
          0,
          0,
          0,
          0,
          0,
          0,
          0,
          0,
          0,
          0,
          0,
          0,
          0,
          0,
          0,
          0,
          0,
          0,
          0,
          0,
          0,
          0,
          0,
          0,
          0,
          0,
          0,
          0,
          0,
          0,
          0,
          0,
          0,
          0,
          0,
          0,
          0,
          0,
          0,
          0,
          0,
          0,
          0,
          0,
          0,
          0,
          0,
          0,
          0,
          0,
          0,
          0,
          0,
          0,
          0,
          0,
          0,
          0,
          0,
          0,
          0,
          0,
          0,
          0,
          0,
          0,
          0,
          0,
          0,
          0,
          0,
          0,
          0,
          0,
          0,
          0,
          0,
          0,
          0,
          0,
          0,
          0,
          0,
          0,
          0,
          0,
          0,
          0,
          0,
          0,
          0,
          0,
          0,
          0,
          0,
          0,
          0,
          0,
          0,
          0,
          0,
          0,
          0,
          0,
          0,
          0,
          0,
          0,
          0,
          0,
          0,
          0,
          0,
          0,
          0,
          0,
          0,
          0,
          0,
          0,
          0,
          0,
          0,
          0,
          0,
          0,
          0
         ],
         "yaxis": "y"
        }
       ],
       "layout": {
        "legend": {
         "title": {
          "text": "number of topics"
         },
         "tracegroupgap": 0
        },
        "template": {
         "data": {
          "bar": [
           {
            "error_x": {
             "color": "#2a3f5f"
            },
            "error_y": {
             "color": "#2a3f5f"
            },
            "marker": {
             "line": {
              "color": "#E5ECF6",
              "width": 0.5
             },
             "pattern": {
              "fillmode": "overlay",
              "size": 10,
              "solidity": 0.2
             }
            },
            "type": "bar"
           }
          ],
          "barpolar": [
           {
            "marker": {
             "line": {
              "color": "#E5ECF6",
              "width": 0.5
             },
             "pattern": {
              "fillmode": "overlay",
              "size": 10,
              "solidity": 0.2
             }
            },
            "type": "barpolar"
           }
          ],
          "carpet": [
           {
            "aaxis": {
             "endlinecolor": "#2a3f5f",
             "gridcolor": "white",
             "linecolor": "white",
             "minorgridcolor": "white",
             "startlinecolor": "#2a3f5f"
            },
            "baxis": {
             "endlinecolor": "#2a3f5f",
             "gridcolor": "white",
             "linecolor": "white",
             "minorgridcolor": "white",
             "startlinecolor": "#2a3f5f"
            },
            "type": "carpet"
           }
          ],
          "choropleth": [
           {
            "colorbar": {
             "outlinewidth": 0,
             "ticks": ""
            },
            "type": "choropleth"
           }
          ],
          "contour": [
           {
            "colorbar": {
             "outlinewidth": 0,
             "ticks": ""
            },
            "colorscale": [
             [
              0,
              "#0d0887"
             ],
             [
              0.1111111111111111,
              "#46039f"
             ],
             [
              0.2222222222222222,
              "#7201a8"
             ],
             [
              0.3333333333333333,
              "#9c179e"
             ],
             [
              0.4444444444444444,
              "#bd3786"
             ],
             [
              0.5555555555555556,
              "#d8576b"
             ],
             [
              0.6666666666666666,
              "#ed7953"
             ],
             [
              0.7777777777777778,
              "#fb9f3a"
             ],
             [
              0.8888888888888888,
              "#fdca26"
             ],
             [
              1,
              "#f0f921"
             ]
            ],
            "type": "contour"
           }
          ],
          "contourcarpet": [
           {
            "colorbar": {
             "outlinewidth": 0,
             "ticks": ""
            },
            "type": "contourcarpet"
           }
          ],
          "heatmap": [
           {
            "colorbar": {
             "outlinewidth": 0,
             "ticks": ""
            },
            "colorscale": [
             [
              0,
              "#0d0887"
             ],
             [
              0.1111111111111111,
              "#46039f"
             ],
             [
              0.2222222222222222,
              "#7201a8"
             ],
             [
              0.3333333333333333,
              "#9c179e"
             ],
             [
              0.4444444444444444,
              "#bd3786"
             ],
             [
              0.5555555555555556,
              "#d8576b"
             ],
             [
              0.6666666666666666,
              "#ed7953"
             ],
             [
              0.7777777777777778,
              "#fb9f3a"
             ],
             [
              0.8888888888888888,
              "#fdca26"
             ],
             [
              1,
              "#f0f921"
             ]
            ],
            "type": "heatmap"
           }
          ],
          "heatmapgl": [
           {
            "colorbar": {
             "outlinewidth": 0,
             "ticks": ""
            },
            "colorscale": [
             [
              0,
              "#0d0887"
             ],
             [
              0.1111111111111111,
              "#46039f"
             ],
             [
              0.2222222222222222,
              "#7201a8"
             ],
             [
              0.3333333333333333,
              "#9c179e"
             ],
             [
              0.4444444444444444,
              "#bd3786"
             ],
             [
              0.5555555555555556,
              "#d8576b"
             ],
             [
              0.6666666666666666,
              "#ed7953"
             ],
             [
              0.7777777777777778,
              "#fb9f3a"
             ],
             [
              0.8888888888888888,
              "#fdca26"
             ],
             [
              1,
              "#f0f921"
             ]
            ],
            "type": "heatmapgl"
           }
          ],
          "histogram": [
           {
            "marker": {
             "pattern": {
              "fillmode": "overlay",
              "size": 10,
              "solidity": 0.2
             }
            },
            "type": "histogram"
           }
          ],
          "histogram2d": [
           {
            "colorbar": {
             "outlinewidth": 0,
             "ticks": ""
            },
            "colorscale": [
             [
              0,
              "#0d0887"
             ],
             [
              0.1111111111111111,
              "#46039f"
             ],
             [
              0.2222222222222222,
              "#7201a8"
             ],
             [
              0.3333333333333333,
              "#9c179e"
             ],
             [
              0.4444444444444444,
              "#bd3786"
             ],
             [
              0.5555555555555556,
              "#d8576b"
             ],
             [
              0.6666666666666666,
              "#ed7953"
             ],
             [
              0.7777777777777778,
              "#fb9f3a"
             ],
             [
              0.8888888888888888,
              "#fdca26"
             ],
             [
              1,
              "#f0f921"
             ]
            ],
            "type": "histogram2d"
           }
          ],
          "histogram2dcontour": [
           {
            "colorbar": {
             "outlinewidth": 0,
             "ticks": ""
            },
            "colorscale": [
             [
              0,
              "#0d0887"
             ],
             [
              0.1111111111111111,
              "#46039f"
             ],
             [
              0.2222222222222222,
              "#7201a8"
             ],
             [
              0.3333333333333333,
              "#9c179e"
             ],
             [
              0.4444444444444444,
              "#bd3786"
             ],
             [
              0.5555555555555556,
              "#d8576b"
             ],
             [
              0.6666666666666666,
              "#ed7953"
             ],
             [
              0.7777777777777778,
              "#fb9f3a"
             ],
             [
              0.8888888888888888,
              "#fdca26"
             ],
             [
              1,
              "#f0f921"
             ]
            ],
            "type": "histogram2dcontour"
           }
          ],
          "mesh3d": [
           {
            "colorbar": {
             "outlinewidth": 0,
             "ticks": ""
            },
            "type": "mesh3d"
           }
          ],
          "parcoords": [
           {
            "line": {
             "colorbar": {
              "outlinewidth": 0,
              "ticks": ""
             }
            },
            "type": "parcoords"
           }
          ],
          "pie": [
           {
            "automargin": true,
            "type": "pie"
           }
          ],
          "scatter": [
           {
            "fillpattern": {
             "fillmode": "overlay",
             "size": 10,
             "solidity": 0.2
            },
            "type": "scatter"
           }
          ],
          "scatter3d": [
           {
            "line": {
             "colorbar": {
              "outlinewidth": 0,
              "ticks": ""
             }
            },
            "marker": {
             "colorbar": {
              "outlinewidth": 0,
              "ticks": ""
             }
            },
            "type": "scatter3d"
           }
          ],
          "scattercarpet": [
           {
            "marker": {
             "colorbar": {
              "outlinewidth": 0,
              "ticks": ""
             }
            },
            "type": "scattercarpet"
           }
          ],
          "scattergeo": [
           {
            "marker": {
             "colorbar": {
              "outlinewidth": 0,
              "ticks": ""
             }
            },
            "type": "scattergeo"
           }
          ],
          "scattergl": [
           {
            "marker": {
             "colorbar": {
              "outlinewidth": 0,
              "ticks": ""
             }
            },
            "type": "scattergl"
           }
          ],
          "scattermapbox": [
           {
            "marker": {
             "colorbar": {
              "outlinewidth": 0,
              "ticks": ""
             }
            },
            "type": "scattermapbox"
           }
          ],
          "scatterpolar": [
           {
            "marker": {
             "colorbar": {
              "outlinewidth": 0,
              "ticks": ""
             }
            },
            "type": "scatterpolar"
           }
          ],
          "scatterpolargl": [
           {
            "marker": {
             "colorbar": {
              "outlinewidth": 0,
              "ticks": ""
             }
            },
            "type": "scatterpolargl"
           }
          ],
          "scatterternary": [
           {
            "marker": {
             "colorbar": {
              "outlinewidth": 0,
              "ticks": ""
             }
            },
            "type": "scatterternary"
           }
          ],
          "surface": [
           {
            "colorbar": {
             "outlinewidth": 0,
             "ticks": ""
            },
            "colorscale": [
             [
              0,
              "#0d0887"
             ],
             [
              0.1111111111111111,
              "#46039f"
             ],
             [
              0.2222222222222222,
              "#7201a8"
             ],
             [
              0.3333333333333333,
              "#9c179e"
             ],
             [
              0.4444444444444444,
              "#bd3786"
             ],
             [
              0.5555555555555556,
              "#d8576b"
             ],
             [
              0.6666666666666666,
              "#ed7953"
             ],
             [
              0.7777777777777778,
              "#fb9f3a"
             ],
             [
              0.8888888888888888,
              "#fdca26"
             ],
             [
              1,
              "#f0f921"
             ]
            ],
            "type": "surface"
           }
          ],
          "table": [
           {
            "cells": {
             "fill": {
              "color": "#EBF0F8"
             },
             "line": {
              "color": "white"
             }
            },
            "header": {
             "fill": {
              "color": "#C8D4E3"
             },
             "line": {
              "color": "white"
             }
            },
            "type": "table"
           }
          ]
         },
         "layout": {
          "annotationdefaults": {
           "arrowcolor": "#2a3f5f",
           "arrowhead": 0,
           "arrowwidth": 1
          },
          "autotypenumbers": "strict",
          "coloraxis": {
           "colorbar": {
            "outlinewidth": 0,
            "ticks": ""
           }
          },
          "colorscale": {
           "diverging": [
            [
             0,
             "#8e0152"
            ],
            [
             0.1,
             "#c51b7d"
            ],
            [
             0.2,
             "#de77ae"
            ],
            [
             0.3,
             "#f1b6da"
            ],
            [
             0.4,
             "#fde0ef"
            ],
            [
             0.5,
             "#f7f7f7"
            ],
            [
             0.6,
             "#e6f5d0"
            ],
            [
             0.7,
             "#b8e186"
            ],
            [
             0.8,
             "#7fbc41"
            ],
            [
             0.9,
             "#4d9221"
            ],
            [
             1,
             "#276419"
            ]
           ],
           "sequential": [
            [
             0,
             "#0d0887"
            ],
            [
             0.1111111111111111,
             "#46039f"
            ],
            [
             0.2222222222222222,
             "#7201a8"
            ],
            [
             0.3333333333333333,
             "#9c179e"
            ],
            [
             0.4444444444444444,
             "#bd3786"
            ],
            [
             0.5555555555555556,
             "#d8576b"
            ],
            [
             0.6666666666666666,
             "#ed7953"
            ],
            [
             0.7777777777777778,
             "#fb9f3a"
            ],
            [
             0.8888888888888888,
             "#fdca26"
            ],
            [
             1,
             "#f0f921"
            ]
           ],
           "sequentialminus": [
            [
             0,
             "#0d0887"
            ],
            [
             0.1111111111111111,
             "#46039f"
            ],
            [
             0.2222222222222222,
             "#7201a8"
            ],
            [
             0.3333333333333333,
             "#9c179e"
            ],
            [
             0.4444444444444444,
             "#bd3786"
            ],
            [
             0.5555555555555556,
             "#d8576b"
            ],
            [
             0.6666666666666666,
             "#ed7953"
            ],
            [
             0.7777777777777778,
             "#fb9f3a"
            ],
            [
             0.8888888888888888,
             "#fdca26"
            ],
            [
             1,
             "#f0f921"
            ]
           ]
          },
          "colorway": [
           "#636efa",
           "#EF553B",
           "#00cc96",
           "#ab63fa",
           "#FFA15A",
           "#19d3f3",
           "#FF6692",
           "#B6E880",
           "#FF97FF",
           "#FECB52"
          ],
          "font": {
           "color": "#2a3f5f"
          },
          "geo": {
           "bgcolor": "white",
           "lakecolor": "white",
           "landcolor": "#E5ECF6",
           "showlakes": true,
           "showland": true,
           "subunitcolor": "white"
          },
          "hoverlabel": {
           "align": "left"
          },
          "hovermode": "closest",
          "mapbox": {
           "style": "light"
          },
          "paper_bgcolor": "white",
          "plot_bgcolor": "#E5ECF6",
          "polar": {
           "angularaxis": {
            "gridcolor": "white",
            "linecolor": "white",
            "ticks": ""
           },
           "bgcolor": "#E5ECF6",
           "radialaxis": {
            "gridcolor": "white",
            "linecolor": "white",
            "ticks": ""
           }
          },
          "scene": {
           "xaxis": {
            "backgroundcolor": "#E5ECF6",
            "gridcolor": "white",
            "gridwidth": 2,
            "linecolor": "white",
            "showbackground": true,
            "ticks": "",
            "zerolinecolor": "white"
           },
           "yaxis": {
            "backgroundcolor": "#E5ECF6",
            "gridcolor": "white",
            "gridwidth": 2,
            "linecolor": "white",
            "showbackground": true,
            "ticks": "",
            "zerolinecolor": "white"
           },
           "zaxis": {
            "backgroundcolor": "#E5ECF6",
            "gridcolor": "white",
            "gridwidth": 2,
            "linecolor": "white",
            "showbackground": true,
            "ticks": "",
            "zerolinecolor": "white"
           }
          },
          "shapedefaults": {
           "line": {
            "color": "#2a3f5f"
           }
          },
          "ternary": {
           "aaxis": {
            "gridcolor": "white",
            "linecolor": "white",
            "ticks": ""
           },
           "baxis": {
            "gridcolor": "white",
            "linecolor": "white",
            "ticks": ""
           },
           "bgcolor": "#E5ECF6",
           "caxis": {
            "gridcolor": "white",
            "linecolor": "white",
            "ticks": ""
           }
          },
          "title": {
           "x": 0.05
          },
          "xaxis": {
           "automargin": true,
           "gridcolor": "white",
           "linecolor": "white",
           "ticks": "",
           "title": {
            "standoff": 15
           },
           "zerolinecolor": "white",
           "zerolinewidth": 2
          },
          "yaxis": {
           "automargin": true,
           "gridcolor": "white",
           "linecolor": "white",
           "ticks": "",
           "title": {
            "standoff": 15
           },
           "zerolinecolor": "white",
           "zerolinewidth": 2
          }
         }
        },
        "title": {
         "text": "Distribution of number of topics"
        },
        "xaxis": {
         "anchor": "y",
         "domain": [
          0,
          1
         ],
         "title": {
          "text": "threshold"
         }
        },
        "yaxis": {
         "anchor": "x",
         "domain": [
          0,
          1
         ],
         "title": {
          "text": "share of reviews, %"
         }
        }
       }
      }
     },
     "metadata": {},
     "output_type": "display_data"
    }
   ],
   "source": [
    "import tqdm\n",
    "import plotly.express as px\n",
    "\n",
    "tmp_dfs = []\n",
    "\n",
    "# iterating through different threshold levels\n",
    "for thr in tqdm.tqdm(np.arange(0, 0.35, 0.001)):\n",
    "    # calculating number of topics with probability > threshold for each document\n",
    "    tmp_df = pd.DataFrame(list(map(lambda x: len(list(filter(lambda y: y >= thr, x))), topic_distr))).rename(\n",
    "        columns = {0: 'num_topics'}\n",
    "    )\n",
    "    tmp_df['num_docs'] = 1\n",
    "    \n",
    "    tmp_df['num_topics_group'] = tmp_df['num_topics']\\\n",
    "        .map(lambda x: str(x) if x < 5 else '5+')\n",
    "    \n",
    "    # aggregating stats\n",
    "    tmp_df_aggr = tmp_df.groupby('num_topics_group', as_index = False).num_docs.sum()\n",
    "    tmp_df_aggr['threshold'] = thr\n",
    "    \n",
    "    tmp_dfs.append(tmp_df_aggr)\n",
    "\n",
    "num_topics_stats_df = pd.concat(tmp_dfs).pivot(index = 'threshold', \n",
    "                              values = 'num_docs',\n",
    "                              columns = 'num_topics_group').fillna(0)\n",
    "\n",
    "num_topics_stats_df = num_topics_stats_df.apply(lambda x: 100.*x/num_topics_stats_df.sum(axis = 1))\n",
    "\n",
    "# visualisation\n",
    "colormap = px.colors.sequential.YlGnBu\n",
    "px.area(num_topics_stats_df, \n",
    "       title = 'Distribution of number of topics',\n",
    "       labels = {'num_topics_group': 'number of topics',\n",
    "                'value': 'share of reviews, %'},\n",
    "       color_discrete_map = {\n",
    "          '0': colormap[0],\n",
    "          '1': colormap[3],\n",
    "          '2': colormap[4],\n",
    "          '3': colormap[5],\n",
    "          '4': colormap[6],\n",
    "          '5+': colormap[7]\n",
    "      })"
   ]
  },
  {
   "cell_type": "code",
   "execution_count": 647,
   "metadata": {},
   "outputs": [],
   "source": [
    "threshold = 0.2\n",
    "\n",
    "# define topic with probability > 0.13 for each document\n",
    "df['multiple_topics'] = list(map(\n",
    "    lambda doc_topic_distr: list(map(\n",
    "        lambda y: y[0], filter(lambda x: x[1] >= threshold, \n",
    "                               (enumerate(doc_topic_distr)))\n",
    "    )), topic_distr\n",
    "))\n",
    "\n",
    "# creating a dataset with docid, topic\n",
    "tmp_data = []\n",
    "\n",
    "for rec in df.to_dict('records'):\n",
    "    if len(rec['multiple_topics']) != 0:\n",
    "        mult_topics = rec['multiple_topics']\n",
    "    else:\n",
    "        mult_topics = [-1]\n",
    "        \n",
    "    for topic in mult_topics: \n",
    "        tmp_data.append(\n",
    "            {\n",
    "                'topic': topic,\n",
    "                'id': rec['Content'],\n",
    "            }\n",
    "        )\n",
    "            \n",
    "mult_topics_df = pd.DataFrame(tmp_data)\n",
    "df[\"multiple_topics_name\"] = df[\"multiple_topics\"].map(lambda x: [topic_name_to_id.get(i, \"No topic\") for i in x])\n"
   ]
  },
  {
   "cell_type": "code",
   "execution_count": 648,
   "metadata": {},
   "outputs": [
    {
     "data": {
      "text/html": [
       "<div>\n",
       "<style scoped>\n",
       "    .dataframe tbody tr th:only-of-type {\n",
       "        vertical-align: middle;\n",
       "    }\n",
       "\n",
       "    .dataframe tbody tr th {\n",
       "        vertical-align: top;\n",
       "    }\n",
       "\n",
       "    .dataframe thead th {\n",
       "        text-align: right;\n",
       "    }\n",
       "</style>\n",
       "<table border=\"1\" class=\"dataframe\">\n",
       "  <thead>\n",
       "    <tr style=\"text-align: right;\">\n",
       "      <th></th>\n",
       "      <th>File Name</th>\n",
       "      <th>turn_index</th>\n",
       "      <th>Content</th>\n",
       "      <th>preprocessed_content</th>\n",
       "      <th>Experiment</th>\n",
       "      <th>Condition</th>\n",
       "      <th>Id</th>\n",
       "      <th>Speaker</th>\n",
       "      <th>one_topic</th>\n",
       "      <th>one_topic_name</th>\n",
       "      <th>multiple_topics</th>\n",
       "      <th>multiple_topics_name</th>\n",
       "    </tr>\n",
       "  </thead>\n",
       "  <tbody>\n",
       "    <tr>\n",
       "      <th>0</th>\n",
       "      <td>ID 05</td>\n",
       "      <td>1</td>\n",
       "      <td>so, that was very, let's say, unexpected and s...</td>\n",
       "      <td>let unexpected surprising moment go realize ge...</td>\n",
       "      <td>OBE1</td>\n",
       "      <td>1</td>\n",
       "      <td>5</td>\n",
       "      <td>Participant</td>\n",
       "      <td>0</td>\n",
       "      <td>0_body_myself_touch_focus</td>\n",
       "      <td>[0]</td>\n",
       "      <td>[0_body_myself_touch_focus]</td>\n",
       "    </tr>\n",
       "    <tr>\n",
       "      <th>1</th>\n",
       "      <td>ID 05</td>\n",
       "      <td>3</td>\n",
       "      <td>a little bit it was a little bit like, okay, w...</td>\n",
       "      <td>watch outside special give lot emotion explain...</td>\n",
       "      <td>OBE1</td>\n",
       "      <td>1</td>\n",
       "      <td>5</td>\n",
       "      <td>Participant</td>\n",
       "      <td>0</td>\n",
       "      <td>0_body_myself_touch_focus</td>\n",
       "      <td>[0]</td>\n",
       "      <td>[0_body_myself_touch_focus]</td>\n",
       "    </tr>\n",
       "    <tr>\n",
       "      <th>2</th>\n",
       "      <td>ID 05</td>\n",
       "      <td>5</td>\n",
       "      <td>yeah yeah i feel like i'm back it's okay but y...</td>\n",
       "      <td>get perfect description</td>\n",
       "      <td>OBE1</td>\n",
       "      <td>1</td>\n",
       "      <td>5</td>\n",
       "      <td>Participant</td>\n",
       "      <td>0</td>\n",
       "      <td>0_body_myself_touch_focus</td>\n",
       "      <td>[]</td>\n",
       "      <td>[]</td>\n",
       "    </tr>\n",
       "    <tr>\n",
       "      <th>3</th>\n",
       "      <td>ID 05</td>\n",
       "      <td>7</td>\n",
       "      <td>the thing that i didn't really understand, but...</td>\n",
       "      <td>understand understand body touching basically ...</td>\n",
       "      <td>OBE1</td>\n",
       "      <td>1</td>\n",
       "      <td>5</td>\n",
       "      <td>Participant</td>\n",
       "      <td>0</td>\n",
       "      <td>0_body_myself_touch_focus</td>\n",
       "      <td>[0]</td>\n",
       "      <td>[0_body_myself_touch_focus]</td>\n",
       "    </tr>\n",
       "    <tr>\n",
       "      <th>4</th>\n",
       "      <td>ID 05</td>\n",
       "      <td>9</td>\n",
       "      <td>so i felt like a time lag in the last one of w...</td>\n",
       "      <td>lag see body</td>\n",
       "      <td>OBE1</td>\n",
       "      <td>1</td>\n",
       "      <td>5</td>\n",
       "      <td>Participant</td>\n",
       "      <td>2</td>\n",
       "      <td>2_body_light_heavy_outside</td>\n",
       "      <td>[0, 2]</td>\n",
       "      <td>[0_body_myself_touch_focus, 2_body_light_heavy...</td>\n",
       "    </tr>\n",
       "  </tbody>\n",
       "</table>\n",
       "</div>"
      ],
      "text/plain": [
       "  File Name  turn_index                                            Content  \\\n",
       "0     ID 05           1  so, that was very, let's say, unexpected and s...   \n",
       "1     ID 05           3  a little bit it was a little bit like, okay, w...   \n",
       "2     ID 05           5  yeah yeah i feel like i'm back it's okay but y...   \n",
       "3     ID 05           7  the thing that i didn't really understand, but...   \n",
       "4     ID 05           9  so i felt like a time lag in the last one of w...   \n",
       "\n",
       "                                preprocessed_content Experiment Condition  Id  \\\n",
       "0  let unexpected surprising moment go realize ge...       OBE1         1   5   \n",
       "1  watch outside special give lot emotion explain...       OBE1         1   5   \n",
       "2                            get perfect description       OBE1         1   5   \n",
       "3  understand understand body touching basically ...       OBE1         1   5   \n",
       "4                                       lag see body       OBE1         1   5   \n",
       "\n",
       "       Speaker  one_topic              one_topic_name multiple_topics  \\\n",
       "0  Participant          0   0_body_myself_touch_focus             [0]   \n",
       "1  Participant          0   0_body_myself_touch_focus             [0]   \n",
       "2  Participant          0   0_body_myself_touch_focus              []   \n",
       "3  Participant          0   0_body_myself_touch_focus             [0]   \n",
       "4  Participant          2  2_body_light_heavy_outside          [0, 2]   \n",
       "\n",
       "                                multiple_topics_name  \n",
       "0                        [0_body_myself_touch_focus]  \n",
       "1                        [0_body_myself_touch_focus]  \n",
       "2                                                 []  \n",
       "3                        [0_body_myself_touch_focus]  \n",
       "4  [0_body_myself_touch_focus, 2_body_light_heavy...  "
      ]
     },
     "execution_count": 648,
     "metadata": {},
     "output_type": "execute_result"
    }
   ],
   "source": [
    "df.to_csv(\"df_topic.csv\", index = False)\n",
    "df.head()"
   ]
  },
  {
   "cell_type": "markdown",
   "metadata": {},
   "source": [
    "### Look differences btw single and multiple topics"
   ]
  },
  {
   "cell_type": "code",
   "execution_count": 649,
   "metadata": {},
   "outputs": [
    {
     "data": {
      "text/plain": [
       "{-1: '-1_happen_interesting_move_notice',\n",
       " 0: '0_body_myself_touch_focus',\n",
       " 1: '1_relax_sleep_asleep_calm',\n",
       " 2: '2_body_light_heavy_outside',\n",
       " 3: '3_want_follow_guy_minute',\n",
       " 4: '4_nice_fine_absolutely_good',\n",
       " 5: '5_forest_tree_rock_setting',\n",
       " 6: '6_color_pixel_image_change',\n",
       " 7: '7_different_difference_normal_hard',\n",
       " 8: '8_avatar_blink_sync_link',\n",
       " 9: '9_strange_funny_weird_accept'}"
      ]
     },
     "execution_count": 649,
     "metadata": {},
     "output_type": "execute_result"
    }
   ],
   "source": [
    "topic_name_to_id"
   ]
  },
  {
   "cell_type": "code",
   "execution_count": 650,
   "metadata": {},
   "outputs": [
    {
     "name": "stdout",
     "output_type": "stream",
     "text": [
      "0\n"
     ]
    },
    {
     "data": {
      "text/html": [
       "<div>\n",
       "<style scoped>\n",
       "    .dataframe tbody tr th:only-of-type {\n",
       "        vertical-align: middle;\n",
       "    }\n",
       "\n",
       "    .dataframe tbody tr th {\n",
       "        vertical-align: top;\n",
       "    }\n",
       "\n",
       "    .dataframe thead th {\n",
       "        text-align: right;\n",
       "    }\n",
       "</style>\n",
       "<table border=\"1\" class=\"dataframe\">\n",
       "  <thead>\n",
       "    <tr style=\"text-align: right;\">\n",
       "      <th></th>\n",
       "      <th>Experiment</th>\n",
       "      <th>Id</th>\n",
       "      <th>Condition</th>\n",
       "      <th>Speaker</th>\n",
       "      <th>Content</th>\n",
       "      <th>multiple_topics_name</th>\n",
       "    </tr>\n",
       "  </thead>\n",
       "  <tbody>\n",
       "  </tbody>\n",
       "</table>\n",
       "</div>"
      ],
      "text/plain": [
       "Empty DataFrame\n",
       "Columns: [Experiment, Id, Condition, Speaker, Content, multiple_topics_name]\n",
       "Index: []"
      ]
     },
     "execution_count": 650,
     "metadata": {},
     "output_type": "execute_result"
    }
   ],
   "source": [
    "# look for a specific topic the topic 12\n",
    "specific_topic = df[df['one_topic'] == 12]\n",
    "print(len(specific_topic))\n",
    "# look at specifc columns\n",
    "specific_topic[['Experiment','Id','Condition','Speaker','Content','multiple_topics_name']]"
   ]
  },
  {
   "cell_type": "code",
   "execution_count": 651,
   "metadata": {},
   "outputs": [
    {
     "name": "stdout",
     "output_type": "stream",
     "text": [
      "0\n"
     ]
    },
    {
     "data": {
      "text/html": [
       "<div>\n",
       "<style scoped>\n",
       "    .dataframe tbody tr th:only-of-type {\n",
       "        vertical-align: middle;\n",
       "    }\n",
       "\n",
       "    .dataframe tbody tr th {\n",
       "        vertical-align: top;\n",
       "    }\n",
       "\n",
       "    .dataframe thead th {\n",
       "        text-align: right;\n",
       "    }\n",
       "</style>\n",
       "<table border=\"1\" class=\"dataframe\">\n",
       "  <thead>\n",
       "    <tr style=\"text-align: right;\">\n",
       "      <th></th>\n",
       "      <th>Experiment</th>\n",
       "      <th>Id</th>\n",
       "      <th>Condition</th>\n",
       "      <th>Speaker</th>\n",
       "      <th>Content</th>\n",
       "      <th>multiple_topics_name</th>\n",
       "    </tr>\n",
       "  </thead>\n",
       "  <tbody>\n",
       "  </tbody>\n",
       "</table>\n",
       "</div>"
      ],
      "text/plain": [
       "Empty DataFrame\n",
       "Columns: [Experiment, Id, Condition, Speaker, Content, multiple_topics_name]\n",
       "Index: []"
      ]
     },
     "execution_count": 651,
     "metadata": {},
     "output_type": "execute_result"
    }
   ],
   "source": [
    "# look for a specific topic the topic 12\n",
    "specific_topic = df[df['multiple_topics'].map(lambda x: 12 in x)]\n",
    "print(len(specific_topic))\n",
    "# look at specifc columns\n",
    "specific_topic[['Experiment','Id','Condition','Speaker','Content','multiple_topics_name']]"
   ]
  }
 ],
 "metadata": {
  "kernelspec": {
   "display_name": "topic",
   "language": "python",
   "name": "python3"
  },
  "language_info": {
   "codemirror_mode": {
    "name": "ipython",
    "version": 3
   },
   "file_extension": ".py",
   "mimetype": "text/x-python",
   "name": "python",
   "nbconvert_exporter": "python",
   "pygments_lexer": "ipython3",
   "version": "3.10.16"
  }
 },
 "nbformat": 4,
 "nbformat_minor": 2
}
