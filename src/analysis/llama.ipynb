{
 "cells": [
  {
   "cell_type": "markdown",
   "metadata": {},
   "source": [
    "# LLama"
   ]
  },
  {
   "cell_type": "code",
   "execution_count": 1,
   "metadata": {},
   "outputs": [],
   "source": [
    "import ollama"
   ]
  },
  {
   "cell_type": "code",
   "execution_count": 8,
   "metadata": {},
   "outputs": [
    {
     "data": {
      "text/plain": [
       "\"Clean the following transcription, don't add extra information, only remove fillers words and repetitions : \\nSpeaker 1: And you can just a little bit tell about your experience about this two-section, how you feel, could you relax, could you really follow everything she said, helping you and so on?\\n\\nSpeaker 2: There is no wrong or right to just saying your experience, what was nice, what was, if you had problems, whatever.\\n\\nSpeaker 1: to be anonym anyway. so just you to understand.\\n\\nSpeaker 0: uh the points i think are like uh meditating. i could feel i have. i had some uh the gear on me and that was a little bit disturbing because it's i couldn't uh completely dissociate from uh from outside and because i could feel the gear uh. and also while i had my eyes closed I could disassociate from this room and from this place more than when I had the virtual reality and so I saw myself in front of me. but on the other side while I was watching the virtual reality it was much easier for me to focus on part of me and part of my body and to put my focus on me and feel more. But it was still staying in this room and it was less inner than with eyes closed. I don't know if it's clear. I felt like I was still in this room was doing a kind of meditation. I could relate more with the person in front of me because obviously I could see him but I still felt like I was here and while in the previous one I felt like I was somewhere else because I closed my eyes and I could space more with my mind but it was harder for me to relate to me and to focus my attention to my legs or to my heart, to my mind. and And this is the main difference I found between the first and the second. And as I already told Elena about the question just after the meditation, it felt a little bit strange because I didn't know what to answer when the questions were related to other people because all the meditation was towards myself. And so it did not relate to other people. And when I was asked, like, if I feel angry, if I feel compassionate towards other people, it's more like, I answer more like what I feel in general, not what I feel after a meditation. Yeah, sure.\\n\\nSpeaker 1: Very nice, yes. Great.\\n\\nSpeaker 2: Okay.\\n\\nSpeaker 1: You want to add something?\\n\\nSpeaker 2: Yeah, so basically it was easier, to focus in the control condition, like to focus on your inner self\\n\\nSpeaker 0: to it was easier, yeah, to my inner self yes but to my physical self it was easier when i had myself in front of me.\\n\\nSpeaker 2: okay and yeah in this meditation. so as we talked you have it's a feeling meditation. so one of the goals Or anyway, one of the ways this meditation works is also by feeling love, in this case towards yourself. What does it mean feeling love? It means maybe that you have also a warm feeling in the chest. I don't know if you had something like this or not, and if there was any difference between the two. Like, as always, there is no right or wrong, you can just say how it was for you.\\n\\nSpeaker 0: I didn't know this much difference between the warm feeling in my chest during the tube and I felt a little bit Like I was feeling love to myself because all the meditation was about that and I felt it. But I didn't notice any particular difference between the first and the second one in this topic.\\n\\nSpeaker 1: okay in this case do you think like uh using the vr and using the body in front of you could help you to um to go to do the meditation like in um develop developing the love to watch yourself help you somehow to make the meditation easier than uh doing this in the good completely close, eyes close.\\n\\nSpeaker 0: uh i don't know because i felt like it was very differ... like two different kinds of meditation. it was actually related to the physical part and feeling love to your body. and while without watching myself I find it easier to relate to my thoughts my mind what I'm feeling instead of the feeling I get by thinking of my body.\\n\\nSpeaker 1: But even the tech is the same, even when you close the eye and the guy telling you to send love to your part of the body, but this is still the components of the thoughts and the inner self was stronger. And when you see yourself then the component of the real body, physical body was stronger.\\n\\nSpeaker 0: Yes.\\n\\nSpeaker 1: That's what you're trying to say.\\n\\nSpeaker 0: Yes, yes, yes.\\n\\nSpeaker 1: Yes. Okay. Yeah. Great. okay then uh it's anything you want to share or ?\\n\\nSpeaker 0: uh no i think i have already said.\\n\\nSpeaker 1: okay very nice.\\n\\n\""
      ]
     },
     "execution_count": 8,
     "metadata": {},
     "output_type": "execute_result"
    }
   ],
   "source": [
    "def read_input_file(file_path):\n",
    "    with open(file_path, 'r', encoding='utf-8') as file:\n",
    "        content = file.read()\n",
    "    return content\n",
    "\n",
    "# Read the text file and remove filler words\n",
    "input_txt_path = \"../interviews_corrected/raw/Compassion/S301final.txt\"\n",
    "\n",
    "text = read_input_file(input_txt_path)\n",
    "\n",
    "\n",
    "# Add this at the beginning of the text\n",
    "\n",
    "text = \"Clean the following transcription, don't add extra information, only remove fillers words and repetitions : \\n\" + text\n",
    "\n",
    "text"
   ]
  },
  {
   "cell_type": "code",
   "execution_count": 9,
   "metadata": {},
   "outputs": [
    {
     "name": "stdout",
     "output_type": "stream",
     "text": [
      "Here is the cleaned transcription:\n",
      "\n",
      "Speaker 2: There's no right or wrong, just say your experience, what was nice, what wasn't, if you had problems.\n",
      "\n",
      "Speaker 0: The points I think are like meditating. I could feel that. I had some gear on me and that was a little bit disturbing because I couldn't completely dissociate from outside and because I could feel the gear. And also while I had my eyes closed, I could disassociate from this room and from this place more than when I had the virtual reality. So I saw myself in front of me.\n",
      "\n",
      "But on the other side, while I was watching the virtual reality, it was much easier for me to focus on part of me and part of my body and to put my focus on me and feel more. But it was still staying in this room and it was less inner than with eyes closed. I don't know if that's clear.\n",
      "\n",
      "I felt like I was doing a kind of meditation. I could relate more with the person in front of me because I could see him, but I still felt like I was here. While in the previous one, I felt like I was somewhere else because I closed my eyes and I could space more with my mind, but it was harder for me to relate to me and to focus my attention to my legs or to my heart.\n",
      "\n",
      "And this is the main difference I found between the first and the second. As I already told Elena about the question just after the meditation, it felt a little bit strange because I didn't know what to answer when the questions were related to other people, because all the meditation was towards myself.\n",
      "\n",
      "Speaker 2: Okay.\n",
      "\n",
      "Speaker 0: It was easier to focus in the control condition, like to focus on your inner self. But to my physical self, it was easier when I had myself in front of me.\n",
      "\n",
      "Speaker 2: Okay and yeah in this meditation. So as we talked you have a feeling meditation. One of the ways this meditation works is also by feeling love, in this case towards yourself. What does it mean feeling love? It means maybe that you have a warm feeling in your chest.\n",
      "\n",
      "Speaker 0: I didn't know there was much difference between the warm feeling in my chest during the tube and feeling love to myself because all the meditation was about that and I felt it. But I didn't notice any particular difference between the first and the second one in this topic.\n",
      "\n",
      "Speaker 1: Okay, do you think using the VR and using the body in front of you could help you to develop developing the love to watch yourself? Help you somehow to make the meditation easier than doing this completely closed eyes?\n",
      "\n",
      "Speaker 0: I don't know. Because it was very different kinds of meditation. It was actually related to the physical part and feeling love to your body.\n",
      "\n",
      "Speaker 1: But even the tech is the same, even when you close the eye and the guy telling you to send love to your part of the body, but this is still the component of the thoughts and the inner self was stronger. And when you see yourself then the component of the real body, physical body was stronger.\n",
      "\n",
      "Speaker 0: Yes.\n",
      "\n",
      "Speaker 1: That's what you're trying to say.\n",
      "\n",
      "Speaker 0: Yes, yes, yes.\n",
      "\n",
      "Speaker 1: Yeah. Okay.\n"
     ]
    }
   ],
   "source": [
    "response = ollama.chat(model='llama3.1', messages=[\n",
    "   {\n",
    "      'role': 'user',\n",
    "      'content': text\n",
    "   }\n",
    "])\n",
    "\n",
    "print(response['message']['content'])"
   ]
  },
  {
   "cell_type": "code",
   "execution_count": 10,
   "metadata": {},
   "outputs": [],
   "source": [
    "# save the response in a text file\n",
    "output_txt_path = \"S301final_Olama.txt\"\n",
    "\n",
    "with open(output_txt_path, 'w', encoding='utf-8') as file:\n",
    "    file.write(response['message']['content'])"
   ]
  },
  {
   "cell_type": "code",
   "execution_count": null,
   "metadata": {},
   "outputs": [],
   "source": []
  }
 ],
 "metadata": {
  "kernelspec": {
   "display_name": "llama",
   "language": "python",
   "name": "python3"
  },
  "language_info": {
   "codemirror_mode": {
    "name": "ipython",
    "version": 3
   },
   "file_extension": ".py",
   "mimetype": "text/x-python",
   "name": "python",
   "nbconvert_exporter": "python",
   "pygments_lexer": "ipython3",
   "version": "3.10.15"
  }
 },
 "nbformat": 4,
 "nbformat_minor": 2
}
