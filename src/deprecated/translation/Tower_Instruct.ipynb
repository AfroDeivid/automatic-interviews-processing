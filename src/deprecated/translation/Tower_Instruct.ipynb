{
 "cells": [
  {
   "cell_type": "markdown",
   "metadata": {},
   "source": [
    "# Tower Instruct"
   ]
  },
  {
   "cell_type": "code",
   "execution_count": null,
   "metadata": {},
   "outputs": [],
   "source": [
    "# Install transformers from source - only needed for versions <= v4.34\n",
    "# pip install git+https://github.com/huggingface/transformers.git\n",
    "# pip install accelerate\n",
    "\n",
    "import torch\n",
    "from transformers import pipeline"
   ]
  },
  {
   "cell_type": "code",
   "execution_count": null,
   "metadata": {},
   "outputs": [
    {
     "data": {
      "text/plain": [
       "'pipe = pipeline(\"text-generation\", model=\"Unbabel/TowerInstruct-13B-v0.1\", torch_dtype=torch.bfloat16, device_map=\"auto\")\\n\\ndef translation(source_lang, target_lang, text):\\n    # We use the tokenizer’s chat template to format each message - see https://huggingface.co/docs/transformers/main/en/chat_templating\\n    messages = [\\n        {\"role\": \"user\", \"content\": f\"Translate the following text from {source_lang} into {target_lang}.\\n{source_lang}: {text}\\n{target_lang}:\"},\\n    ]\\n    prompt = pipe.tokenizer.apply_chat_template(messages, tokenize=False, add_generation_prompt=True)\\n    outputs = pipe(prompt, max_new_tokens=256, do_sample=False)\\n    \\n    return outputs[0][\"generated_text\"]\\n'"
      ]
     },
     "metadata": {},
     "output_type": "display_data"
    }
   ],
   "source": [
    "# Too long to run...\n",
    "\n",
    "\"\"\"pipe = pipeline(\"text-generation\", model=\"Unbabel/TowerInstruct-13B-v0.1\", torch_dtype=torch.bfloat16, device_map=\"auto\")\n",
    "\n",
    "def translation(source_lang, target_lang, text):\n",
    "    # We use the tokenizer’s chat template to format each message - see https://huggingface.co/docs/transformers/main/en/chat_templating\n",
    "    messages = [\n",
    "        {\"role\": \"user\", \"content\": f\"Translate the following text from {source_lang} into {target_lang}.\\n{source_lang}: {text}\\n{target_lang}:\"},\n",
    "    ]\n",
    "    prompt = pipe.tokenizer.apply_chat_template(messages, tokenize=False, add_generation_prompt=True)\n",
    "    outputs = pipe(prompt, max_new_tokens=256, do_sample=False)\n",
    "    \n",
    "    return outputs[0][\"generated_text\"]\n",
    "\"\"\""
   ]
  }
 ],
 "metadata": {
  "language_info": {
   "name": "python"
  }
 },
 "nbformat": 4,
 "nbformat_minor": 2
}
