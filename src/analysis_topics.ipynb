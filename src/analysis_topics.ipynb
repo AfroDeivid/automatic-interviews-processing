{
 "cells": [
  {
   "cell_type": "code",
   "execution_count": null,
   "metadata": {},
   "outputs": [],
   "source": [
    "%load_ext autoreload\n",
    "%autoreload 2"
   ]
  },
  {
   "cell_type": "code",
   "execution_count": 88,
   "metadata": {},
   "outputs": [],
   "source": [
    "import pandas as pd\n",
    "import matplotlib.pyplot as plt\n",
    "import matplotlib.colors as mcolors\n",
    "\n",
    "from utils.analysis_helpers import *"
   ]
  },
  {
   "cell_type": "code",
   "execution_count": 89,
   "metadata": {},
   "outputs": [],
   "source": [
    "df = pd.read_csv('./topics/df_topic_Compassion.csv')\n",
    "\n",
    "# Palette for the topics\n",
    "unique_topics = df['one_topic'].unique()\n",
    "cmap = plt.get_cmap('tab20', len(unique_topics))\n",
    "palette = {topic: mcolors.to_hex(cmap(i)) for i, topic in enumerate(sorted(unique_topics))}"
   ]
  },
  {
   "cell_type": "code",
   "execution_count": null,
   "metadata": {},
   "outputs": [],
   "source": [
    "df.head(2)"
   ]
  },
  {
   "cell_type": "code",
   "execution_count": null,
   "metadata": {},
   "outputs": [],
   "source": [
    "G = build_network_from_interviews(df, include_self_loops=False)\n",
    "plot_topic_transition_network(G, show_edge_labels=False, palette=palette, size_by=\"appearance\") # appearance , occurrence ,degree_centrality"
   ]
  },
  {
   "cell_type": "code",
   "execution_count": null,
   "metadata": {},
   "outputs": [],
   "source": [
    "# Build the network graph\n",
    "#G = build_network_from_interviews(df, include_self_loops=False)\n",
    "\n",
    "G = build_network_from_interviews(df[df.Condition == \"I\"], include_self_loops=False)\n",
    "\n",
    "\n",
    "plot_topic_transition_network(G, show_edge_labels=False, palette=palette, size_by=\"appearance\") # appearance , occurrence ,degree_centrality"
   ]
  },
  {
   "cell_type": "code",
   "execution_count": null,
   "metadata": {},
   "outputs": [],
   "source": [
    "# Build the network graph\n",
    "#G = build_network_from_interviews(df, include_self_loops=False)\n",
    "\n",
    "G = build_network_from_interviews(df[df.Condition == \"C\"], include_self_loops=False)\n",
    "\n",
    "\n",
    "plot_topic_transition_network(G, show_edge_labels=False, palette=palette, size_by=\"appearance\") # appearance , occurrence ,degree_centrality"
   ]
  },
  {
   "cell_type": "code",
   "execution_count": null,
   "metadata": {},
   "outputs": [],
   "source": [
    "# Build the network graph\n",
    "#G = build_network_from_interviews(df, include_self_loops=False)\n",
    "\n",
    "G = build_network_from_interviews(df[df.Condition == \"1\"], include_self_loops=False)\n",
    "\n",
    "\n",
    "plot_topic_transition_network(G, show_edge_labels=False, palette=palette, size_by=\"appearance\") # appearance , occurrence ,degree_centrality"
   ]
  },
  {
   "cell_type": "code",
   "execution_count": 95,
   "metadata": {},
   "outputs": [],
   "source": [
    "# for file in df[\"File Name\"].unique():\n",
    "#     print(file)\n",
    "#     G_single = build_network_from_interviews(df[df[\"File Name\"] == file], include_self_loops=False)\n",
    "#     plot_topic_transition_network(G_single, show_edge_labels=True,palette=palette, size_by=\"occurrence\")"
   ]
  },
  {
   "cell_type": "code",
   "execution_count": null,
   "metadata": {},
   "outputs": [],
   "source": [
    "df[\"File Name\"].unique()"
   ]
  },
  {
   "cell_type": "code",
   "execution_count": null,
   "metadata": {},
   "outputs": [],
   "source": [
    "df[df[\"File Name\"]==\"S302man\"]"
   ]
  },
  {
   "cell_type": "code",
   "execution_count": null,
   "metadata": {},
   "outputs": [],
   "source": [
    "# Build the network graph\n",
    "G_single = build_network_from_interviews(df[df[\"File Name\"] == \"S302man\"], include_self_loops=False)\n",
    "\n",
    "plot_topic_transition_network(G_single, show_edge_labels=True,palette=palette, size_by=\"occurrence\")"
   ]
  },
  {
   "cell_type": "code",
   "execution_count": null,
   "metadata": {},
   "outputs": [],
   "source": [
    "# 1. Count occurrences of each topic by participant\n",
    "participant_topic_counts = (\n",
    "    df.groupby([\"Id\", \"one_topic_name\"])[\"Content\"]\n",
    "    .size()\n",
    "    .reset_index(name=\"Count\")\n",
    ")\n",
    "\n",
    "# 2. Convert any Count > 0 to presence = 1\n",
    "participant_topic_counts[\"Presence\"] = (participant_topic_counts[\"Count\"] > 0).astype(int)\n",
    "\n",
    "# 3. Pivot to create a presence matrix\n",
    "presence_matrix = participant_topic_counts.pivot(\n",
    "    index=\"one_topic_name\", \n",
    "    columns=\"Id\", \n",
    "    values=\"Presence\"\n",
    ").fillna(0)\n",
    "\n",
    "# 4. Visualize as a heatmap\n",
    "plt.figure(figsize=(12, 6))\n",
    "sns.heatmap(\n",
    "    presence_matrix, \n",
    "    cmap=\"Blues\", \n",
    "    linewidths=.5,\n",
    ")\n",
    "plt.title(\"Participant × Topic Presence (1 = topic present, 0 = absent)\")\n",
    "plt.ylabel(\"Topics\")\n",
    "plt.xlabel(\"Participant (Id)\")\n",
    "plt.show()"
   ]
  },
  {
   "cell_type": "code",
   "execution_count": null,
   "metadata": {},
   "outputs": [],
   "source": [
    "df[df[\"File Name\"]==\"S230 intervention\"]"
   ]
  },
  {
   "cell_type": "code",
   "execution_count": null,
   "metadata": {},
   "outputs": [],
   "source": [
    "# make a plot showing the number of turn by file name\n",
    "df[\"File Name\"].value_counts().plot(kind=\"bar\", figsize=(12, 6))"
   ]
  }
 ],
 "metadata": {
  "kernelspec": {
   "display_name": "basic",
   "language": "python",
   "name": "python3"
  },
  "language_info": {
   "codemirror_mode": {
    "name": "ipython",
    "version": 3
   },
   "file_extension": ".py",
   "mimetype": "text/x-python",
   "name": "python",
   "nbconvert_exporter": "python",
   "pygments_lexer": "ipython3",
   "version": "3.10.15"
  }
 },
 "nbformat": 4,
 "nbformat_minor": 2
}
