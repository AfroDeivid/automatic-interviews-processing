{
 "cells": [
  {
   "cell_type": "code",
   "execution_count": 2,
   "metadata": {},
   "outputs": [],
   "source": [
    "%load_ext autoreload\n",
    "%autoreload 2"
   ]
  },
  {
   "cell_type": "code",
   "execution_count": 3,
   "metadata": {},
   "outputs": [
    {
     "name": "stderr",
     "output_type": "stream",
     "text": [
      "c:\\Users\\david\\anaconda3\\envs\\topic\\lib\\site-packages\\tqdm\\auto.py:21: TqdmWarning: IProgress not found. Please update jupyter and ipywidgets. See https://ipywidgets.readthedocs.io/en/stable/user_install.html\n",
      "  from .autonotebook import tqdm as notebook_tqdm\n"
     ]
    }
   ],
   "source": [
    "from utils.analysis_helpers import *\n",
    "from bertopic import BERTopic\n",
    "from sklearn.feature_extraction.text import CountVectorizer"
   ]
  },
  {
   "cell_type": "code",
   "execution_count": 4,
   "metadata": {},
   "outputs": [
    {
     "name": "stdout",
     "output_type": "stream",
     "text": [
      "Found 82 CSV files.\n",
      "Standardized speaker labels.\n",
      "Normalized text in 'Content' column.\n",
      "[1 'C' 'I' 0]\n",
      "[1 'C' 'I']\n"
     ]
    }
   ],
   "source": [
    "directory = '../interviews_corrected/6_final/**/' \n",
    "\n",
    "df_all = load_and_combine_csv(directory)\n",
    "df_all = standardize_data(df_all)\n",
    "\n",
    "print(df_all[\"Condition\"].unique())\n",
    "# Drop the rows equal to 0 for the column condition\n",
    "df_all = df_all[df_all[\"Condition\"] != 0]\n",
    "print(df_all[\"Condition\"].unique())"
   ]
  },
  {
   "cell_type": "code",
   "execution_count": 5,
   "metadata": {},
   "outputs": [
    {
     "data": {
      "text/html": [
       "<div>\n",
       "<style scoped>\n",
       "    .dataframe tbody tr th:only-of-type {\n",
       "        vertical-align: middle;\n",
       "    }\n",
       "\n",
       "    .dataframe tbody tr th {\n",
       "        vertical-align: top;\n",
       "    }\n",
       "\n",
       "    .dataframe thead th {\n",
       "        text-align: right;\n",
       "    }\n",
       "</style>\n",
       "<table border=\"1\" class=\"dataframe\">\n",
       "  <thead>\n",
       "    <tr style=\"text-align: right;\">\n",
       "      <th></th>\n",
       "      <th>File Name</th>\n",
       "      <th>utterance_index</th>\n",
       "      <th>preprocessed_content</th>\n",
       "      <th>Content</th>\n",
       "      <th>Experiment</th>\n",
       "    </tr>\n",
       "  </thead>\n",
       "  <tbody>\n",
       "    <tr>\n",
       "      <th>0</th>\n",
       "      <td>ID 05</td>\n",
       "      <td>1</td>\n",
       "      <td>let say unexpected surprising moment feel your...</td>\n",
       "      <td>so, that was very, let's say, unexpected and s...</td>\n",
       "      <td>OBE1</td>\n",
       "    </tr>\n",
       "    <tr>\n",
       "      <th>1</th>\n",
       "      <td>ID 05</td>\n",
       "      <td>3</td>\n",
       "      <td>little bit little bit well im watching outside...</td>\n",
       "      <td>a little bit. it was a little bit like, okay, ...</td>\n",
       "      <td>OBE1</td>\n",
       "    </tr>\n",
       "    <tr>\n",
       "      <th>2</th>\n",
       "      <td>ID 05</td>\n",
       "      <td>5</td>\n",
       "      <td>feel im back im sure ive got perfect descripti...</td>\n",
       "      <td>yeah yeah i feel like i'm back it's okay but y...</td>\n",
       "      <td>OBE1</td>\n",
       "    </tr>\n",
       "    <tr>\n",
       "      <th>3</th>\n",
       "      <td>ID 05</td>\n",
       "      <td>7</td>\n",
       "      <td>thing didnt understand perhaps understood end ...</td>\n",
       "      <td>the thing that i didn't really understand, but...</td>\n",
       "      <td>OBE1</td>\n",
       "    </tr>\n",
       "    <tr>\n",
       "      <th>4</th>\n",
       "      <td>ID 05</td>\n",
       "      <td>9</td>\n",
       "      <td>felt time lag last one experiencing seeing nev...</td>\n",
       "      <td>so i felt like a time lag in the last one of w...</td>\n",
       "      <td>OBE1</td>\n",
       "    </tr>\n",
       "    <tr>\n",
       "      <th>...</th>\n",
       "      <td>...</td>\n",
       "      <td>...</td>\n",
       "      <td>...</td>\n",
       "      <td>...</td>\n",
       "      <td>...</td>\n",
       "    </tr>\n",
       "    <tr>\n",
       "      <th>830</th>\n",
       "      <td>S313</td>\n",
       "      <td>30</td>\n",
       "      <td>think helped help focus see talk raise hand se...</td>\n",
       "      <td>i think it helped. it helps you focus because ...</td>\n",
       "      <td>Compassion</td>\n",
       "    </tr>\n",
       "    <tr>\n",
       "      <th>831</th>\n",
       "      <td>S313</td>\n",
       "      <td>32</td>\n",
       "      <td>didnt even notice</td>\n",
       "      <td>no i didn't even notice.</td>\n",
       "      <td>Compassion</td>\n",
       "    </tr>\n",
       "    <tr>\n",
       "      <th>832</th>\n",
       "      <td>S313</td>\n",
       "      <td>34</td>\n",
       "      <td>definitely felt didnt lot sensation floating b...</td>\n",
       "      <td>i definitely felt like i didn't have a lot of ...</td>\n",
       "      <td>Compassion</td>\n",
       "    </tr>\n",
       "    <tr>\n",
       "      <th>833</th>\n",
       "      <td>S313</td>\n",
       "      <td>36</td>\n",
       "      <td>place</td>\n",
       "      <td>no at my place.</td>\n",
       "      <td>Compassion</td>\n",
       "    </tr>\n",
       "    <tr>\n",
       "      <th>834</th>\n",
       "      <td>S313</td>\n",
       "      <td>39</td>\n",
       "      <td>thats true felt sending love would sent person...</td>\n",
       "      <td>i know that's true. when i felt like sending l...</td>\n",
       "      <td>Compassion</td>\n",
       "    </tr>\n",
       "  </tbody>\n",
       "</table>\n",
       "<p>835 rows × 5 columns</p>\n",
       "</div>"
      ],
      "text/plain": [
       "    File Name  utterance_index  \\\n",
       "0       ID 05                1   \n",
       "1       ID 05                3   \n",
       "2       ID 05                5   \n",
       "3       ID 05                7   \n",
       "4       ID 05                9   \n",
       "..        ...              ...   \n",
       "830      S313               30   \n",
       "831      S313               32   \n",
       "832      S313               34   \n",
       "833      S313               36   \n",
       "834      S313               39   \n",
       "\n",
       "                                  preprocessed_content  \\\n",
       "0    let say unexpected surprising moment feel your...   \n",
       "1    little bit little bit well im watching outside...   \n",
       "2    feel im back im sure ive got perfect descripti...   \n",
       "3    thing didnt understand perhaps understood end ...   \n",
       "4    felt time lag last one experiencing seeing nev...   \n",
       "..                                                 ...   \n",
       "830  think helped help focus see talk raise hand se...   \n",
       "831                                  didnt even notice   \n",
       "832  definitely felt didnt lot sensation floating b...   \n",
       "833                                              place   \n",
       "834  thats true felt sending love would sent person...   \n",
       "\n",
       "                                               Content  Experiment  \n",
       "0    so, that was very, let's say, unexpected and s...        OBE1  \n",
       "1    a little bit. it was a little bit like, okay, ...        OBE1  \n",
       "2    yeah yeah i feel like i'm back it's okay but y...        OBE1  \n",
       "3    the thing that i didn't really understand, but...        OBE1  \n",
       "4    so i felt like a time lag in the last one of w...        OBE1  \n",
       "..                                                 ...         ...  \n",
       "830  i think it helped. it helps you focus because ...  Compassion  \n",
       "831                           no i didn't even notice.  Compassion  \n",
       "832  i definitely felt like i didn't have a lot of ...  Compassion  \n",
       "833                                    no at my place.  Compassion  \n",
       "834  i know that's true. when i felt like sending l...  Compassion  \n",
       "\n",
       "[835 rows x 5 columns]"
      ]
     },
     "execution_count": 5,
     "metadata": {},
     "output_type": "execute_result"
    }
   ],
   "source": [
    "df = df_all[df_all[\"Speaker\"] == \"Participant\"].copy()\n",
    "#df = df[df[\"Experiment\"] == \"Compassion\"]\n",
    "\n",
    "extra_stopwords = {'yeah', 'yes', 'like', 'you', 'know', 'um', 'uh', 'really', 'okay','mm'}\n",
    "# Preprocess the text\n",
    "df['preprocessed_content'] = df['Content'].apply(lambda x: preprocess_text(x, extra_stopwords=extra_stopwords, ngrams=1))\n",
    "\n",
    "grouped_df = df.groupby(['File Name','utterance_index']).agg({\n",
    "    'preprocessed_content': ' '.join,  # Combine preprocessed text\n",
    "    'Content': ' '.join,  # Combine raw text\n",
    "    'Experiment': 'first',   # Keep the first (consistent if File Name is unique)         \n",
    "}).reset_index()\n",
    "\n",
    "grouped_df"
   ]
  },
  {
   "cell_type": "markdown",
   "metadata": {},
   "source": [
    "## Main topic"
   ]
  },
  {
   "cell_type": "code",
   "execution_count": 6,
   "metadata": {},
   "outputs": [
    {
     "name": "stdout",
     "output_type": "stream",
     "text": [
      "2225\n"
     ]
    }
   ],
   "source": [
    "docs = list(df.preprocessed_content)\n",
    "print(len(docs))"
   ]
  },
  {
   "cell_type": "code",
   "execution_count": 7,
   "metadata": {},
   "outputs": [
    {
     "name": "stderr",
     "output_type": "stream",
     "text": [
      "2024-11-21 00:21:10,885 - BERTopic - Embedding - Transforming documents to embeddings.\n",
      "Batches: 100%|██████████| 70/70 [00:05<00:00, 13.61it/s]\n",
      "2024-11-21 00:21:18,286 - BERTopic - Embedding - Completed ✓\n",
      "2024-11-21 00:21:18,291 - BERTopic - Dimensionality - Fitting the dimensionality reduction algorithm\n",
      "2024-11-21 00:21:35,206 - BERTopic - Dimensionality - Completed ✓\n",
      "2024-11-21 00:21:35,206 - BERTopic - Cluster - Start clustering the reduced embeddings\n",
      "2024-11-21 00:21:35,327 - BERTopic - Cluster - Completed ✓\n",
      "2024-11-21 00:21:35,338 - BERTopic - Representation - Extracting topics from clusters using representation models.\n",
      "2024-11-21 00:21:35,446 - BERTopic - Representation - Completed ✓\n"
     ]
    },
    {
     "data": {
      "text/plain": [
       "59"
      ]
     },
     "execution_count": 7,
     "metadata": {},
     "output_type": "execute_result"
    }
   ],
   "source": [
    "# Hyperparameters\n",
    "vectorizer_model = CountVectorizer(ngram_range=(1, 2))\n",
    "\n",
    "\n",
    "topic_model = BERTopic(vectorizer_model=vectorizer_model, verbose=True)\n",
    "topics, ini_probs = topic_model.fit_transform(docs)\n",
    "num_topics = len(topic_model.get_topics()) - 1\n",
    "num_topics"
   ]
  },
  {
   "cell_type": "code",
   "execution_count": 12,
   "metadata": {},
   "outputs": [
    {
     "data": {
      "text/html": [
       "<div>\n",
       "<style scoped>\n",
       "    .dataframe tbody tr th:only-of-type {\n",
       "        vertical-align: middle;\n",
       "    }\n",
       "\n",
       "    .dataframe tbody tr th {\n",
       "        vertical-align: top;\n",
       "    }\n",
       "\n",
       "    .dataframe thead th {\n",
       "        text-align: right;\n",
       "    }\n",
       "</style>\n",
       "<table border=\"1\" class=\"dataframe\">\n",
       "  <thead>\n",
       "    <tr style=\"text-align: right;\">\n",
       "      <th></th>\n",
       "      <th>Topic</th>\n",
       "      <th>Count</th>\n",
       "      <th>Name</th>\n",
       "      <th>Representation</th>\n",
       "      <th>Representative_Docs</th>\n",
       "    </tr>\n",
       "  </thead>\n",
       "  <tbody>\n",
       "    <tr>\n",
       "      <th>0</th>\n",
       "      <td>-1</td>\n",
       "      <td>552</td>\n",
       "      <td>-1_feeling_felt_feel_body</td>\n",
       "      <td>[feeling, felt, feel, body, something, could, ...</td>\n",
       "      <td>[second part dont dont dont dont feel little b...</td>\n",
       "    </tr>\n",
       "    <tr>\n",
       "      <th>1</th>\n",
       "      <td>0</td>\n",
       "      <td>167</td>\n",
       "      <td>0_dint___</td>\n",
       "      <td>[dint, , , , , , , , , ]</td>\n",
       "      <td>[, , ]</td>\n",
       "    </tr>\n",
       "    <tr>\n",
       "      <th>2</th>\n",
       "      <td>1</td>\n",
       "      <td>71</td>\n",
       "      <td>1_meditation_meditation meditation_journey_med...</td>\n",
       "      <td>[meditation, meditation meditation, journey, m...</td>\n",
       "      <td>[meditation, meditation, meditation]</td>\n",
       "    </tr>\n",
       "    <tr>\n",
       "      <th>3</th>\n",
       "      <td>2</td>\n",
       "      <td>67</td>\n",
       "      <td>2_think_think think_thinking_thought</td>\n",
       "      <td>[think, think think, thinking, thought, though...</td>\n",
       "      <td>[think, think, think]</td>\n",
       "    </tr>\n",
       "    <tr>\n",
       "      <th>4</th>\n",
       "      <td>3</td>\n",
       "      <td>59</td>\n",
       "      <td>3_focus_focusing_distracted_concentrate</td>\n",
       "      <td>[focus, focusing, distracted, concentrate, foc...</td>\n",
       "      <td>[try medidate always noticed something brain n...</td>\n",
       "    </tr>\n",
       "    <tr>\n",
       "      <th>5</th>\n",
       "      <td>4</td>\n",
       "      <td>56</td>\n",
       "      <td>4_eye_closed_eye closed_open</td>\n",
       "      <td>[eye, closed, eye closed, open, eye open, clos...</td>\n",
       "      <td>[first part eye closed, mean felt real eye clo...</td>\n",
       "    </tr>\n",
       "    <tr>\n",
       "      <th>6</th>\n",
       "      <td>5</td>\n",
       "      <td>54</td>\n",
       "      <td>5_one_second one_second_first one</td>\n",
       "      <td>[one, second one, second, first one, first, on...</td>\n",
       "      <td>[first one, first one, second one second one]</td>\n",
       "    </tr>\n",
       "    <tr>\n",
       "      <th>7</th>\n",
       "      <td>6</td>\n",
       "      <td>52</td>\n",
       "      <td>6_mirror_body_seeing_seeing body</td>\n",
       "      <td>[mirror, body, seeing, seeing body, see, front...</td>\n",
       "      <td>[seeing body, seeing body, seeing body mirror ...</td>\n",
       "    </tr>\n",
       "    <tr>\n",
       "      <th>8</th>\n",
       "      <td>7</td>\n",
       "      <td>51</td>\n",
       "      <td>7_outside_environment_go_room</td>\n",
       "      <td>[outside, environment, go, room, mountain, im ...</td>\n",
       "      <td>[im outside, one day train travel lot see see ...</td>\n",
       "    </tr>\n",
       "    <tr>\n",
       "      <th>9</th>\n",
       "      <td>8</td>\n",
       "      <td>44</td>\n",
       "      <td>8_hand_move_moved_platform</td>\n",
       "      <td>[hand, move, moved, platform, move hand, movem...</td>\n",
       "      <td>[move hand dont move hand see form another vie...</td>\n",
       "    </tr>\n",
       "  </tbody>\n",
       "</table>\n",
       "</div>"
      ],
      "text/plain": [
       "   Topic  Count                                               Name  \\\n",
       "0     -1    552                          -1_feeling_felt_feel_body   \n",
       "1      0    167                                          0_dint___   \n",
       "2      1     71  1_meditation_meditation meditation_journey_med...   \n",
       "3      2     67               2_think_think think_thinking_thought   \n",
       "4      3     59            3_focus_focusing_distracted_concentrate   \n",
       "5      4     56                       4_eye_closed_eye closed_open   \n",
       "6      5     54                  5_one_second one_second_first one   \n",
       "7      6     52                   6_mirror_body_seeing_seeing body   \n",
       "8      7     51                      7_outside_environment_go_room   \n",
       "9      8     44                         8_hand_move_moved_platform   \n",
       "\n",
       "                                      Representation  \\\n",
       "0  [feeling, felt, feel, body, something, could, ...   \n",
       "1                           [dint, , , , , , , , , ]   \n",
       "2  [meditation, meditation meditation, journey, m...   \n",
       "3  [think, think think, thinking, thought, though...   \n",
       "4  [focus, focusing, distracted, concentrate, foc...   \n",
       "5  [eye, closed, eye closed, open, eye open, clos...   \n",
       "6  [one, second one, second, first one, first, on...   \n",
       "7  [mirror, body, seeing, seeing body, see, front...   \n",
       "8  [outside, environment, go, room, mountain, im ...   \n",
       "9  [hand, move, moved, platform, move hand, movem...   \n",
       "\n",
       "                                 Representative_Docs  \n",
       "0  [second part dont dont dont dont feel little b...  \n",
       "1                                             [, , ]  \n",
       "2               [meditation, meditation, meditation]  \n",
       "3                              [think, think, think]  \n",
       "4  [try medidate always noticed something brain n...  \n",
       "5  [first part eye closed, mean felt real eye clo...  \n",
       "6      [first one, first one, second one second one]  \n",
       "7  [seeing body, seeing body, seeing body mirror ...  \n",
       "8  [im outside, one day train travel lot see see ...  \n",
       "9  [move hand dont move hand see form another vie...  "
      ]
     },
     "execution_count": 12,
     "metadata": {},
     "output_type": "execute_result"
    }
   ],
   "source": [
    "topic_model.get_topic_info().head(10)"
   ]
  },
  {
   "cell_type": "code",
   "execution_count": 13,
   "metadata": {},
   "outputs": [
    {
     "data": {
      "application/vnd.plotly.v1+json": {
       "config": {
        "plotlyServerURL": "https://plot.ly"
       },
       "data": [
        {
         "marker": {
          "color": "#D55E00"
         },
         "orientation": "h",
         "type": "bar",
         "x": [
          0.00001,
          0.00001,
          0.00001,
          0.00001,
          0.00001,
          0.00001,
          0.00001,
          0.00001,
          0.00001,
          4.213607983048918
         ],
         "xaxis": "x",
         "y": [
          "  ",
          "  ",
          "  ",
          "  ",
          "  ",
          "  ",
          "  ",
          "  ",
          "  ",
          "dint  "
         ],
         "yaxis": "y"
        },
        {
         "marker": {
          "color": "#0072B2"
         },
         "orientation": "h",
         "type": "bar",
         "x": [
          0.014638569404224696,
          0.014638569404224696,
          0.014638569404224696,
          0.01593449462619406,
          0.01742960903019201,
          0.018340387049565546,
          0.018340387049565546,
          0.018340387049565546,
          0.02178701128774001,
          0.11042080714967609
         ],
         "xaxis": "x2",
         "y": [
          "meditation second  ",
          "normal meditation  ",
          "say meditation  ",
          "felt  ",
          "travel  ",
          "astral  ",
          "meditating  ",
          "journey  ",
          "meditation meditation  ",
          "meditation  "
         ],
         "yaxis": "y2"
        },
        {
         "marker": {
          "color": "#CC79A7"
         },
         "orientation": "h",
         "type": "bar",
         "x": [
          0.019964847373353297,
          0.019964847373353297,
          0.021482312180038616,
          0.024229220634138127,
          0.027593560650848503,
          0.032854643142681626,
          0.04694311985293853,
          0.04744954095093109,
          0.07075367977607586,
          0.08852422613809852
         ],
         "xaxis": "x3",
         "y": [
          "much thought  ",
          "thought think  ",
          "would  ",
          "much  ",
          "thinking think  ",
          "thought would  ",
          "thought  ",
          "thinking  ",
          "think think  ",
          "think  "
         ],
         "yaxis": "y3"
        },
        {
         "marker": {
          "color": "#E69F00"
         },
         "orientation": "h",
         "type": "bar",
         "x": [
          0.018282818505116524,
          0.019979692056398816,
          0.01999339493736142,
          0.01999339493736142,
          0.021141739968467622,
          0.023355796566520905,
          0.02858745515068232,
          0.041554337315753115,
          0.042283479936935243,
          0.061118793398400414
         ],
         "xaxis": "x4",
         "y": [
          "got  ",
          "get  ",
          "focus something  ",
          "get distracted  ",
          "whatever  ",
          "focused  ",
          "concentrate  ",
          "distracted  ",
          "focusing  ",
          "focus  "
         ],
         "yaxis": "y4"
        },
        {
         "marker": {
          "color": "#56B4E9"
         },
         "orientation": "h",
         "type": "bar",
         "x": [
          0.023177161622931347,
          0.026628651076913503,
          0.026628651076913503,
          0.027223341561279712,
          0.03473937691658126,
          0.042379768321209245,
          0.05507079873499208,
          0.06554031331711113,
          0.06882207928526628,
          0.1125246265503911
         ],
         "xaxis": "x5",
         "y": [
          "keep eye  ",
          "keep  ",
          "open eye  ",
          "close eye  ",
          "close  ",
          "eye open  ",
          "open  ",
          "eye closed  ",
          "closed  ",
          "eye  "
         ],
         "yaxis": "y5"
        },
        {
         "marker": {
          "color": "#009E73"
         },
         "orientation": "h",
         "type": "bar",
         "x": [
          0.037342219881817816,
          0.03835096759066561,
          0.038374328376975214,
          0.041615881314063394,
          0.041615881314063394,
          0.06567722962252479,
          0.0733246949771571,
          0.09027520131295344,
          0.10091034753097083,
          0.10544661228410483
         ],
         "xaxis": "x6",
         "y": [
          "difference  ",
          "100  ",
          "three  ",
          "one second  ",
          "one think  ",
          "first  ",
          "first one  ",
          "second  ",
          "second one  ",
          "one  "
         ],
         "yaxis": "y6"
        },
        {
         "marker": {
          "color": "#F0E442"
         },
         "orientation": "h",
         "type": "bar",
         "x": [
          0.02337674113830828,
          0.024877849936529497,
          0.03116898818441104,
          0.03460270036129547,
          0.035912733523763785,
          0.037370307961323665,
          0.0395687972119896,
          0.050507712652430425,
          0.05524111557058034,
          0.057536512192508736
         ],
         "xaxis": "x7",
         "y": [
          "body seeing  ",
          "seeing mirror  ",
          "see mirror  ",
          "see body  ",
          "front  ",
          "see  ",
          "seeing body  ",
          "seeing  ",
          "body  ",
          "mirror  "
         ],
         "yaxis": "y7"
        },
        {
         "marker": {
          "color": "#D55E00"
         },
         "orientation": "h",
         "type": "bar",
         "x": [
          0.022415671597601397,
          0.02519105953091611,
          0.03897255840375519,
          0.03904185056897217,
          0.04003428012398022,
          0.04212625718985721,
          0.04480977119247883,
          0.045679227346535435,
          0.05038211906183222,
          0.06781001396974087
         ],
         "xaxis": "x8",
         "y": [
          "everywhere  ",
          "observing  ",
          "nature  ",
          "place  ",
          "im outside  ",
          "mountain  ",
          "room  ",
          "go  ",
          "environment  ",
          "outside  "
         ],
         "yaxis": "y8"
        },
        {
         "marker": {
          "color": "#0072B2"
         },
         "orientation": "h",
         "type": "bar",
         "x": [
          0.01914386299538363,
          0.030668125398095207,
          0.03937951386027026,
          0.04158617325034916,
          0.04522945510919243,
          0.04759458526744804,
          0.05439381173422633,
          0.06277827602324036,
          0.08189702077399957,
          0.10092268977314742
         ],
         "xaxis": "x9",
         "y": [
          "see hand  ",
          "saying  ",
          "hand see  ",
          "moving  ",
          "movement  ",
          "move hand  ",
          "platform  ",
          "moved  ",
          "move  ",
          "hand  "
         ],
         "yaxis": "y9"
        },
        {
         "marker": {
          "color": "#CC79A7"
         },
         "orientation": "h",
         "type": "bar",
         "x": [
          0.015588990414810109,
          0.015720303125913368,
          0.018084715163285848,
          0.02254399712988091,
          0.03206703183446665,
          0.0368423802570995,
          0.04429328657201078,
          0.061344982050107015,
          0.08339228355929622,
          0.0945094138248538
         ],
         "xaxis": "x10",
         "y": [
          "dress  ",
          "physical  ",
          "whatever  ",
          "kind  ",
          "virtual body  ",
          "illusion  ",
          "vr  ",
          "virtual reality  ",
          "virtual  ",
          "reality  "
         ],
         "yaxis": "y10"
        },
        {
         "marker": {
          "color": "#E69F00"
         },
         "orientation": "h",
         "type": "bar",
         "x": [
          0.08964979195894213,
          0.09363573295664264,
          0.10485553047322432,
          0.10485553047322432,
          0.11505290277199685,
          0.12484764394219018,
          0.13472541332319946,
          0.14774550830238195,
          0.1530109504255568,
          0.1896300352698414
         ],
         "xaxis": "x11",
         "y": [
          "wow  ",
          "thank  ",
          "wow oh  ",
          "good good  ",
          "great  ",
          "sorry  ",
          "ah  ",
          "good  ",
          "fine  ",
          "oh  "
         ],
         "yaxis": "y11"
        },
        {
         "marker": {
          "color": "#56B4E9"
         },
         "orientation": "h",
         "type": "bar",
         "x": [
          0.02294245804519495,
          0.02294245804519495,
          0.02294245804519495,
          0.02461646819864919,
          0.028744172247860425,
          0.03523593612962837,
          0.03923086520083367,
          0.039967367260455695,
          0.05605457871214734,
          0.10561389911890386
         ],
         "xaxis": "x12",
         "y": [
          "body touched  ",
          "real touch  ",
          "touch actually  ",
          "see  ",
          "feel touch  ",
          "back  ",
          "touch back  ",
          "touching  ",
          "touched  ",
          "touch  "
         ],
         "yaxis": "y12"
        },
        {
         "marker": {
          "color": "#009E73"
         },
         "orientation": "h",
         "type": "bar",
         "x": [
          0.03380187030538034,
          0.03696269306530837,
          0.038445895728266274,
          0.04671781060688212,
          0.049537174067375324,
          0.05681099644513247,
          0.058531862300098624,
          0.07580998654512644,
          0.0813856950485187,
          0.11369250627244776
         ],
         "xaxis": "x13",
         "y": [
          "relaxing second  ",
          "first  ",
          "extremely  ",
          "relief  ",
          "second session  ",
          "relax  ",
          "first session  ",
          "relaxed  ",
          "session  ",
          "relaxing  "
         ],
         "yaxis": "y13"
        },
        {
         "marker": {
          "color": "#F0E442"
         },
         "orientation": "h",
         "type": "bar",
         "x": [
          0.02417633882323644,
          0.02772663022879917,
          0.0308695410318202,
          0.0338670774135389,
          0.034774812307705655,
          0.03558493894620286,
          0.04016457530404016,
          0.05939643251386581,
          0.07591358820547031,
          0.0855902625817973
         ],
         "xaxis": "x14",
         "y": [
          "probably  ",
          "id  ",
          "could  ",
          "part  ",
          "annoyed  ",
          "didnt feel  ",
          "identify didnt  ",
          "guess  ",
          "thing  ",
          "identify  "
         ],
         "yaxis": "y14"
        },
        {
         "marker": {
          "color": "#D55E00"
         },
         "orientation": "h",
         "type": "bar",
         "x": [
          0.06873803156060565,
          0.06873803156060565,
          0.06873803156060565,
          0.06873803156060565,
          0.07555250205913451,
          0.07555250205913451,
          0.084837744625146,
          0.10343903355579348,
          0.14702988628889185,
          0.1665010355005269
         ],
         "xaxis": "x15",
         "y": [
          "strange bit  ",
          "nothing strange  ",
          "special kind  ",
          "normal normal  ",
          "nothing  ",
          "bit weird  ",
          "unusual  ",
          "normal  ",
          "weird  ",
          "strange  "
         ],
         "yaxis": "y15"
        },
        {
         "marker": {
          "color": "#0072B2"
         },
         "orientation": "h",
         "type": "bar",
         "x": [
          0.04899213888654664,
          0.04899213888654664,
          0.056585451395194705,
          0.056585451395194705,
          0.056585451395194705,
          0.056585451395194705,
          0.07820716361262586,
          0.08038864441384277,
          0.0869804747305431,
          0.10417045210749928
         ],
         "xaxis": "x16",
         "y": [
          "oh god  ",
          "god  ",
          "could dont  ",
          "kinda oh  ",
          "would would  ",
          "could maybe  ",
          "maybe maybe  ",
          "dont think  ",
          "would  ",
          "maybe  "
         ],
         "yaxis": "y16"
        }
       ],
       "layout": {
        "annotations": [
         {
          "font": {
           "size": 16
          },
          "showarrow": false,
          "text": "Topic 0",
          "x": 0.0875,
          "xanchor": "center",
          "xref": "paper",
          "y": 1,
          "yanchor": "bottom",
          "yref": "paper"
         },
         {
          "font": {
           "size": 16
          },
          "showarrow": false,
          "text": "Topic 1",
          "x": 0.36250000000000004,
          "xanchor": "center",
          "xref": "paper",
          "y": 1,
          "yanchor": "bottom",
          "yref": "paper"
         },
         {
          "font": {
           "size": 16
          },
          "showarrow": false,
          "text": "Topic 2",
          "x": 0.6375000000000001,
          "xanchor": "center",
          "xref": "paper",
          "y": 1,
          "yanchor": "bottom",
          "yref": "paper"
         },
         {
          "font": {
           "size": 16
          },
          "showarrow": false,
          "text": "Topic 3",
          "x": 0.9125,
          "xanchor": "center",
          "xref": "paper",
          "y": 1,
          "yanchor": "bottom",
          "yref": "paper"
         },
         {
          "font": {
           "size": 16
          },
          "showarrow": false,
          "text": "Topic 4",
          "x": 0.0875,
          "xanchor": "center",
          "xref": "paper",
          "y": 0.7250000000000001,
          "yanchor": "bottom",
          "yref": "paper"
         },
         {
          "font": {
           "size": 16
          },
          "showarrow": false,
          "text": "Topic 5",
          "x": 0.36250000000000004,
          "xanchor": "center",
          "xref": "paper",
          "y": 0.7250000000000001,
          "yanchor": "bottom",
          "yref": "paper"
         },
         {
          "font": {
           "size": 16
          },
          "showarrow": false,
          "text": "Topic 6",
          "x": 0.6375000000000001,
          "xanchor": "center",
          "xref": "paper",
          "y": 0.7250000000000001,
          "yanchor": "bottom",
          "yref": "paper"
         },
         {
          "font": {
           "size": 16
          },
          "showarrow": false,
          "text": "Topic 7",
          "x": 0.9125,
          "xanchor": "center",
          "xref": "paper",
          "y": 0.7250000000000001,
          "yanchor": "bottom",
          "yref": "paper"
         },
         {
          "font": {
           "size": 16
          },
          "showarrow": false,
          "text": "Topic 8",
          "x": 0.0875,
          "xanchor": "center",
          "xref": "paper",
          "y": 0.45,
          "yanchor": "bottom",
          "yref": "paper"
         },
         {
          "font": {
           "size": 16
          },
          "showarrow": false,
          "text": "Topic 9",
          "x": 0.36250000000000004,
          "xanchor": "center",
          "xref": "paper",
          "y": 0.45,
          "yanchor": "bottom",
          "yref": "paper"
         },
         {
          "font": {
           "size": 16
          },
          "showarrow": false,
          "text": "Topic 10",
          "x": 0.6375000000000001,
          "xanchor": "center",
          "xref": "paper",
          "y": 0.45,
          "yanchor": "bottom",
          "yref": "paper"
         },
         {
          "font": {
           "size": 16
          },
          "showarrow": false,
          "text": "Topic 11",
          "x": 0.9125,
          "xanchor": "center",
          "xref": "paper",
          "y": 0.45,
          "yanchor": "bottom",
          "yref": "paper"
         },
         {
          "font": {
           "size": 16
          },
          "showarrow": false,
          "text": "Topic 12",
          "x": 0.0875,
          "xanchor": "center",
          "xref": "paper",
          "y": 0.175,
          "yanchor": "bottom",
          "yref": "paper"
         },
         {
          "font": {
           "size": 16
          },
          "showarrow": false,
          "text": "Topic 13",
          "x": 0.36250000000000004,
          "xanchor": "center",
          "xref": "paper",
          "y": 0.175,
          "yanchor": "bottom",
          "yref": "paper"
         },
         {
          "font": {
           "size": 16
          },
          "showarrow": false,
          "text": "Topic 14",
          "x": 0.6375000000000001,
          "xanchor": "center",
          "xref": "paper",
          "y": 0.175,
          "yanchor": "bottom",
          "yref": "paper"
         },
         {
          "font": {
           "size": 16
          },
          "showarrow": false,
          "text": "Topic 15",
          "x": 0.9125,
          "xanchor": "center",
          "xref": "paper",
          "y": 0.175,
          "yanchor": "bottom",
          "yref": "paper"
         }
        ],
        "height": 1000,
        "hoverlabel": {
         "bgcolor": "white",
         "font": {
          "family": "Rockwell",
          "size": 16
         }
        },
        "showlegend": false,
        "template": {
         "data": {
          "bar": [
           {
            "error_x": {
             "color": "#2a3f5f"
            },
            "error_y": {
             "color": "#2a3f5f"
            },
            "marker": {
             "line": {
              "color": "white",
              "width": 0.5
             },
             "pattern": {
              "fillmode": "overlay",
              "size": 10,
              "solidity": 0.2
             }
            },
            "type": "bar"
           }
          ],
          "barpolar": [
           {
            "marker": {
             "line": {
              "color": "white",
              "width": 0.5
             },
             "pattern": {
              "fillmode": "overlay",
              "size": 10,
              "solidity": 0.2
             }
            },
            "type": "barpolar"
           }
          ],
          "carpet": [
           {
            "aaxis": {
             "endlinecolor": "#2a3f5f",
             "gridcolor": "#C8D4E3",
             "linecolor": "#C8D4E3",
             "minorgridcolor": "#C8D4E3",
             "startlinecolor": "#2a3f5f"
            },
            "baxis": {
             "endlinecolor": "#2a3f5f",
             "gridcolor": "#C8D4E3",
             "linecolor": "#C8D4E3",
             "minorgridcolor": "#C8D4E3",
             "startlinecolor": "#2a3f5f"
            },
            "type": "carpet"
           }
          ],
          "choropleth": [
           {
            "colorbar": {
             "outlinewidth": 0,
             "ticks": ""
            },
            "type": "choropleth"
           }
          ],
          "contour": [
           {
            "colorbar": {
             "outlinewidth": 0,
             "ticks": ""
            },
            "colorscale": [
             [
              0,
              "#0d0887"
             ],
             [
              0.1111111111111111,
              "#46039f"
             ],
             [
              0.2222222222222222,
              "#7201a8"
             ],
             [
              0.3333333333333333,
              "#9c179e"
             ],
             [
              0.4444444444444444,
              "#bd3786"
             ],
             [
              0.5555555555555556,
              "#d8576b"
             ],
             [
              0.6666666666666666,
              "#ed7953"
             ],
             [
              0.7777777777777778,
              "#fb9f3a"
             ],
             [
              0.8888888888888888,
              "#fdca26"
             ],
             [
              1,
              "#f0f921"
             ]
            ],
            "type": "contour"
           }
          ],
          "contourcarpet": [
           {
            "colorbar": {
             "outlinewidth": 0,
             "ticks": ""
            },
            "type": "contourcarpet"
           }
          ],
          "heatmap": [
           {
            "colorbar": {
             "outlinewidth": 0,
             "ticks": ""
            },
            "colorscale": [
             [
              0,
              "#0d0887"
             ],
             [
              0.1111111111111111,
              "#46039f"
             ],
             [
              0.2222222222222222,
              "#7201a8"
             ],
             [
              0.3333333333333333,
              "#9c179e"
             ],
             [
              0.4444444444444444,
              "#bd3786"
             ],
             [
              0.5555555555555556,
              "#d8576b"
             ],
             [
              0.6666666666666666,
              "#ed7953"
             ],
             [
              0.7777777777777778,
              "#fb9f3a"
             ],
             [
              0.8888888888888888,
              "#fdca26"
             ],
             [
              1,
              "#f0f921"
             ]
            ],
            "type": "heatmap"
           }
          ],
          "heatmapgl": [
           {
            "colorbar": {
             "outlinewidth": 0,
             "ticks": ""
            },
            "colorscale": [
             [
              0,
              "#0d0887"
             ],
             [
              0.1111111111111111,
              "#46039f"
             ],
             [
              0.2222222222222222,
              "#7201a8"
             ],
             [
              0.3333333333333333,
              "#9c179e"
             ],
             [
              0.4444444444444444,
              "#bd3786"
             ],
             [
              0.5555555555555556,
              "#d8576b"
             ],
             [
              0.6666666666666666,
              "#ed7953"
             ],
             [
              0.7777777777777778,
              "#fb9f3a"
             ],
             [
              0.8888888888888888,
              "#fdca26"
             ],
             [
              1,
              "#f0f921"
             ]
            ],
            "type": "heatmapgl"
           }
          ],
          "histogram": [
           {
            "marker": {
             "pattern": {
              "fillmode": "overlay",
              "size": 10,
              "solidity": 0.2
             }
            },
            "type": "histogram"
           }
          ],
          "histogram2d": [
           {
            "colorbar": {
             "outlinewidth": 0,
             "ticks": ""
            },
            "colorscale": [
             [
              0,
              "#0d0887"
             ],
             [
              0.1111111111111111,
              "#46039f"
             ],
             [
              0.2222222222222222,
              "#7201a8"
             ],
             [
              0.3333333333333333,
              "#9c179e"
             ],
             [
              0.4444444444444444,
              "#bd3786"
             ],
             [
              0.5555555555555556,
              "#d8576b"
             ],
             [
              0.6666666666666666,
              "#ed7953"
             ],
             [
              0.7777777777777778,
              "#fb9f3a"
             ],
             [
              0.8888888888888888,
              "#fdca26"
             ],
             [
              1,
              "#f0f921"
             ]
            ],
            "type": "histogram2d"
           }
          ],
          "histogram2dcontour": [
           {
            "colorbar": {
             "outlinewidth": 0,
             "ticks": ""
            },
            "colorscale": [
             [
              0,
              "#0d0887"
             ],
             [
              0.1111111111111111,
              "#46039f"
             ],
             [
              0.2222222222222222,
              "#7201a8"
             ],
             [
              0.3333333333333333,
              "#9c179e"
             ],
             [
              0.4444444444444444,
              "#bd3786"
             ],
             [
              0.5555555555555556,
              "#d8576b"
             ],
             [
              0.6666666666666666,
              "#ed7953"
             ],
             [
              0.7777777777777778,
              "#fb9f3a"
             ],
             [
              0.8888888888888888,
              "#fdca26"
             ],
             [
              1,
              "#f0f921"
             ]
            ],
            "type": "histogram2dcontour"
           }
          ],
          "mesh3d": [
           {
            "colorbar": {
             "outlinewidth": 0,
             "ticks": ""
            },
            "type": "mesh3d"
           }
          ],
          "parcoords": [
           {
            "line": {
             "colorbar": {
              "outlinewidth": 0,
              "ticks": ""
             }
            },
            "type": "parcoords"
           }
          ],
          "pie": [
           {
            "automargin": true,
            "type": "pie"
           }
          ],
          "scatter": [
           {
            "fillpattern": {
             "fillmode": "overlay",
             "size": 10,
             "solidity": 0.2
            },
            "type": "scatter"
           }
          ],
          "scatter3d": [
           {
            "line": {
             "colorbar": {
              "outlinewidth": 0,
              "ticks": ""
             }
            },
            "marker": {
             "colorbar": {
              "outlinewidth": 0,
              "ticks": ""
             }
            },
            "type": "scatter3d"
           }
          ],
          "scattercarpet": [
           {
            "marker": {
             "colorbar": {
              "outlinewidth": 0,
              "ticks": ""
             }
            },
            "type": "scattercarpet"
           }
          ],
          "scattergeo": [
           {
            "marker": {
             "colorbar": {
              "outlinewidth": 0,
              "ticks": ""
             }
            },
            "type": "scattergeo"
           }
          ],
          "scattergl": [
           {
            "marker": {
             "colorbar": {
              "outlinewidth": 0,
              "ticks": ""
             }
            },
            "type": "scattergl"
           }
          ],
          "scattermapbox": [
           {
            "marker": {
             "colorbar": {
              "outlinewidth": 0,
              "ticks": ""
             }
            },
            "type": "scattermapbox"
           }
          ],
          "scatterpolar": [
           {
            "marker": {
             "colorbar": {
              "outlinewidth": 0,
              "ticks": ""
             }
            },
            "type": "scatterpolar"
           }
          ],
          "scatterpolargl": [
           {
            "marker": {
             "colorbar": {
              "outlinewidth": 0,
              "ticks": ""
             }
            },
            "type": "scatterpolargl"
           }
          ],
          "scatterternary": [
           {
            "marker": {
             "colorbar": {
              "outlinewidth": 0,
              "ticks": ""
             }
            },
            "type": "scatterternary"
           }
          ],
          "surface": [
           {
            "colorbar": {
             "outlinewidth": 0,
             "ticks": ""
            },
            "colorscale": [
             [
              0,
              "#0d0887"
             ],
             [
              0.1111111111111111,
              "#46039f"
             ],
             [
              0.2222222222222222,
              "#7201a8"
             ],
             [
              0.3333333333333333,
              "#9c179e"
             ],
             [
              0.4444444444444444,
              "#bd3786"
             ],
             [
              0.5555555555555556,
              "#d8576b"
             ],
             [
              0.6666666666666666,
              "#ed7953"
             ],
             [
              0.7777777777777778,
              "#fb9f3a"
             ],
             [
              0.8888888888888888,
              "#fdca26"
             ],
             [
              1,
              "#f0f921"
             ]
            ],
            "type": "surface"
           }
          ],
          "table": [
           {
            "cells": {
             "fill": {
              "color": "#EBF0F8"
             },
             "line": {
              "color": "white"
             }
            },
            "header": {
             "fill": {
              "color": "#C8D4E3"
             },
             "line": {
              "color": "white"
             }
            },
            "type": "table"
           }
          ]
         },
         "layout": {
          "annotationdefaults": {
           "arrowcolor": "#2a3f5f",
           "arrowhead": 0,
           "arrowwidth": 1
          },
          "autotypenumbers": "strict",
          "coloraxis": {
           "colorbar": {
            "outlinewidth": 0,
            "ticks": ""
           }
          },
          "colorscale": {
           "diverging": [
            [
             0,
             "#8e0152"
            ],
            [
             0.1,
             "#c51b7d"
            ],
            [
             0.2,
             "#de77ae"
            ],
            [
             0.3,
             "#f1b6da"
            ],
            [
             0.4,
             "#fde0ef"
            ],
            [
             0.5,
             "#f7f7f7"
            ],
            [
             0.6,
             "#e6f5d0"
            ],
            [
             0.7,
             "#b8e186"
            ],
            [
             0.8,
             "#7fbc41"
            ],
            [
             0.9,
             "#4d9221"
            ],
            [
             1,
             "#276419"
            ]
           ],
           "sequential": [
            [
             0,
             "#0d0887"
            ],
            [
             0.1111111111111111,
             "#46039f"
            ],
            [
             0.2222222222222222,
             "#7201a8"
            ],
            [
             0.3333333333333333,
             "#9c179e"
            ],
            [
             0.4444444444444444,
             "#bd3786"
            ],
            [
             0.5555555555555556,
             "#d8576b"
            ],
            [
             0.6666666666666666,
             "#ed7953"
            ],
            [
             0.7777777777777778,
             "#fb9f3a"
            ],
            [
             0.8888888888888888,
             "#fdca26"
            ],
            [
             1,
             "#f0f921"
            ]
           ],
           "sequentialminus": [
            [
             0,
             "#0d0887"
            ],
            [
             0.1111111111111111,
             "#46039f"
            ],
            [
             0.2222222222222222,
             "#7201a8"
            ],
            [
             0.3333333333333333,
             "#9c179e"
            ],
            [
             0.4444444444444444,
             "#bd3786"
            ],
            [
             0.5555555555555556,
             "#d8576b"
            ],
            [
             0.6666666666666666,
             "#ed7953"
            ],
            [
             0.7777777777777778,
             "#fb9f3a"
            ],
            [
             0.8888888888888888,
             "#fdca26"
            ],
            [
             1,
             "#f0f921"
            ]
           ]
          },
          "colorway": [
           "#636efa",
           "#EF553B",
           "#00cc96",
           "#ab63fa",
           "#FFA15A",
           "#19d3f3",
           "#FF6692",
           "#B6E880",
           "#FF97FF",
           "#FECB52"
          ],
          "font": {
           "color": "#2a3f5f"
          },
          "geo": {
           "bgcolor": "white",
           "lakecolor": "white",
           "landcolor": "white",
           "showlakes": true,
           "showland": true,
           "subunitcolor": "#C8D4E3"
          },
          "hoverlabel": {
           "align": "left"
          },
          "hovermode": "closest",
          "mapbox": {
           "style": "light"
          },
          "paper_bgcolor": "white",
          "plot_bgcolor": "white",
          "polar": {
           "angularaxis": {
            "gridcolor": "#EBF0F8",
            "linecolor": "#EBF0F8",
            "ticks": ""
           },
           "bgcolor": "white",
           "radialaxis": {
            "gridcolor": "#EBF0F8",
            "linecolor": "#EBF0F8",
            "ticks": ""
           }
          },
          "scene": {
           "xaxis": {
            "backgroundcolor": "white",
            "gridcolor": "#DFE8F3",
            "gridwidth": 2,
            "linecolor": "#EBF0F8",
            "showbackground": true,
            "ticks": "",
            "zerolinecolor": "#EBF0F8"
           },
           "yaxis": {
            "backgroundcolor": "white",
            "gridcolor": "#DFE8F3",
            "gridwidth": 2,
            "linecolor": "#EBF0F8",
            "showbackground": true,
            "ticks": "",
            "zerolinecolor": "#EBF0F8"
           },
           "zaxis": {
            "backgroundcolor": "white",
            "gridcolor": "#DFE8F3",
            "gridwidth": 2,
            "linecolor": "#EBF0F8",
            "showbackground": true,
            "ticks": "",
            "zerolinecolor": "#EBF0F8"
           }
          },
          "shapedefaults": {
           "line": {
            "color": "#2a3f5f"
           }
          },
          "ternary": {
           "aaxis": {
            "gridcolor": "#DFE8F3",
            "linecolor": "#A2B1C6",
            "ticks": ""
           },
           "baxis": {
            "gridcolor": "#DFE8F3",
            "linecolor": "#A2B1C6",
            "ticks": ""
           },
           "bgcolor": "white",
           "caxis": {
            "gridcolor": "#DFE8F3",
            "linecolor": "#A2B1C6",
            "ticks": ""
           }
          },
          "title": {
           "x": 0.05
          },
          "xaxis": {
           "automargin": true,
           "gridcolor": "#EBF0F8",
           "linecolor": "#EBF0F8",
           "ticks": "",
           "title": {
            "standoff": 15
           },
           "zerolinecolor": "#EBF0F8",
           "zerolinewidth": 2
          },
          "yaxis": {
           "automargin": true,
           "gridcolor": "#EBF0F8",
           "linecolor": "#EBF0F8",
           "ticks": "",
           "title": {
            "standoff": 15
           },
           "zerolinecolor": "#EBF0F8",
           "zerolinewidth": 2
          }
         }
        },
        "title": {
         "font": {
          "color": "Black",
          "size": 22
         },
         "text": "Topic Word Scores",
         "x": 0.5,
         "xanchor": "center",
         "yanchor": "top"
        },
        "width": 1000,
        "xaxis": {
         "anchor": "y",
         "domain": [
          0,
          0.175
         ],
         "showgrid": true
        },
        "xaxis10": {
         "anchor": "y10",
         "domain": [
          0.275,
          0.45
         ],
         "showgrid": true
        },
        "xaxis11": {
         "anchor": "y11",
         "domain": [
          0.55,
          0.7250000000000001
         ],
         "showgrid": true
        },
        "xaxis12": {
         "anchor": "y12",
         "domain": [
          0.825,
          1
         ],
         "showgrid": true
        },
        "xaxis13": {
         "anchor": "y13",
         "domain": [
          0,
          0.175
         ],
         "showgrid": true
        },
        "xaxis14": {
         "anchor": "y14",
         "domain": [
          0.275,
          0.45
         ],
         "showgrid": true
        },
        "xaxis15": {
         "anchor": "y15",
         "domain": [
          0.55,
          0.7250000000000001
         ],
         "showgrid": true
        },
        "xaxis16": {
         "anchor": "y16",
         "domain": [
          0.825,
          1
         ],
         "showgrid": true
        },
        "xaxis2": {
         "anchor": "y2",
         "domain": [
          0.275,
          0.45
         ],
         "showgrid": true
        },
        "xaxis3": {
         "anchor": "y3",
         "domain": [
          0.55,
          0.7250000000000001
         ],
         "showgrid": true
        },
        "xaxis4": {
         "anchor": "y4",
         "domain": [
          0.825,
          1
         ],
         "showgrid": true
        },
        "xaxis5": {
         "anchor": "y5",
         "domain": [
          0,
          0.175
         ],
         "showgrid": true
        },
        "xaxis6": {
         "anchor": "y6",
         "domain": [
          0.275,
          0.45
         ],
         "showgrid": true
        },
        "xaxis7": {
         "anchor": "y7",
         "domain": [
          0.55,
          0.7250000000000001
         ],
         "showgrid": true
        },
        "xaxis8": {
         "anchor": "y8",
         "domain": [
          0.825,
          1
         ],
         "showgrid": true
        },
        "xaxis9": {
         "anchor": "y9",
         "domain": [
          0,
          0.175
         ],
         "showgrid": true
        },
        "yaxis": {
         "anchor": "x",
         "domain": [
          0.825,
          1
         ],
         "showgrid": true
        },
        "yaxis10": {
         "anchor": "x10",
         "domain": [
          0.275,
          0.45
         ],
         "showgrid": true
        },
        "yaxis11": {
         "anchor": "x11",
         "domain": [
          0.275,
          0.45
         ],
         "showgrid": true
        },
        "yaxis12": {
         "anchor": "x12",
         "domain": [
          0.275,
          0.45
         ],
         "showgrid": true
        },
        "yaxis13": {
         "anchor": "x13",
         "domain": [
          0,
          0.175
         ],
         "showgrid": true
        },
        "yaxis14": {
         "anchor": "x14",
         "domain": [
          0,
          0.175
         ],
         "showgrid": true
        },
        "yaxis15": {
         "anchor": "x15",
         "domain": [
          0,
          0.175
         ],
         "showgrid": true
        },
        "yaxis16": {
         "anchor": "x16",
         "domain": [
          0,
          0.175
         ],
         "showgrid": true
        },
        "yaxis2": {
         "anchor": "x2",
         "domain": [
          0.825,
          1
         ],
         "showgrid": true
        },
        "yaxis3": {
         "anchor": "x3",
         "domain": [
          0.825,
          1
         ],
         "showgrid": true
        },
        "yaxis4": {
         "anchor": "x4",
         "domain": [
          0.825,
          1
         ],
         "showgrid": true
        },
        "yaxis5": {
         "anchor": "x5",
         "domain": [
          0.55,
          0.7250000000000001
         ],
         "showgrid": true
        },
        "yaxis6": {
         "anchor": "x6",
         "domain": [
          0.55,
          0.7250000000000001
         ],
         "showgrid": true
        },
        "yaxis7": {
         "anchor": "x7",
         "domain": [
          0.55,
          0.7250000000000001
         ],
         "showgrid": true
        },
        "yaxis8": {
         "anchor": "x8",
         "domain": [
          0.55,
          0.7250000000000001
         ],
         "showgrid": true
        },
        "yaxis9": {
         "anchor": "x9",
         "domain": [
          0.275,
          0.45
         ],
         "showgrid": true
        }
       }
      }
     },
     "metadata": {},
     "output_type": "display_data"
    }
   ],
   "source": [
    "topic_model.visualize_barchart(top_n_topics = 16, n_words = 10)"
   ]
  },
  {
   "cell_type": "code",
   "execution_count": 14,
   "metadata": {},
   "outputs": [
    {
     "data": {
      "application/vnd.plotly.v1+json": {
       "config": {
        "plotlyServerURL": "https://plot.ly"
       },
       "data": [
        {
         "coloraxis": "coloraxis",
         "hovertemplate": "x: %{x}<br>y: %{y}<br>Similarity Score: %{z}<extra></extra>",
         "name": "0",
         "type": "heatmap",
         "x": [
          "0_dint__",
          "26___",
          "1_meditation_meditation med...",
          "3_focus_focusing_distracted",
          "4_eye_closed_eye closed",
          "28_breathing_noticed_breath",
          "56_leg_focus leg_heart",
          "2_think_think think_thinking",
          "13_identify_thing_guess",
          "17_question_explain_dont ex...",
          "5_one_second one_second",
          "15_maybe_would_dont think",
          "33_better_easy_easier",
          "39_sometimes_said sometimes...",
          "43_lot_relate lot_relate",
          "6_mirror_body_seeing",
          "8_hand_move_moved",
          "9_reality_virtual_virtual r...",
          "23_saw_saw saw_saw body",
          "7_outside_environment_go",
          "19_experience_experience ex...",
          "38_scary_fear_frightening",
          "52_dream_butterfly_dreaming",
          "10_oh_fine_good",
          "24_thats_thats thats_nah",
          "42_sure_im sure_sure im",
          "11_touch_touched_touching",
          "21_three_three body_third",
          "48_lighter_heavier_felt hea...",
          "53_sensation_feel sensation...",
          "12_relaxing_session_relaxed",
          "30_asleep_sleep_falling asl...",
          "40_calm_calm calm_calmer",
          "14_strange_weird_normal",
          "27_mean_mean mean_mean dont",
          "41_little_bit_little bit",
          "44_different_bit different_...",
          "16_forest_tree_rock",
          "18_voice_sound_bird",
          "20_dont dont_dont_want dont",
          "55_end_day_end day",
          "22_come_back_come back",
          "37_time_second time_time di...",
          "25_didnt_didnt see_notice",
          "34_see see_technical_see",
          "29_color_changing_color cha...",
          "31_felt_would make_see felt",
          "32_feel feel_feel_ah feel",
          "45_moment_emotion_moment dont",
          "57_didnt feel_didnt_felt di...",
          "58_felt_first saw_felt wave",
          "35_delay_wait_slow",
          "46_avatar_blinking_flash",
          "36_pixel_pixelized_quality ...",
          "50_image_camera_picture",
          "47_nice nice_nice_fun nice",
          "49_interesting_interesting ...",
          "51_cool_cool cool_cool nice",
          "54_peaceful_peace_feel peace"
         ],
         "xaxis": "x",
         "y": [
          "0_dint__",
          "26___",
          "1_meditation_meditation med...",
          "3_focus_focusing_distracted",
          "4_eye_closed_eye closed",
          "28_breathing_noticed_breath",
          "56_leg_focus leg_heart",
          "2_think_think think_thinking",
          "13_identify_thing_guess",
          "17_question_explain_dont ex...",
          "5_one_second one_second",
          "15_maybe_would_dont think",
          "33_better_easy_easier",
          "39_sometimes_said sometimes...",
          "43_lot_relate lot_relate",
          "6_mirror_body_seeing",
          "8_hand_move_moved",
          "9_reality_virtual_virtual r...",
          "23_saw_saw saw_saw body",
          "7_outside_environment_go",
          "19_experience_experience ex...",
          "38_scary_fear_frightening",
          "52_dream_butterfly_dreaming",
          "10_oh_fine_good",
          "24_thats_thats thats_nah",
          "42_sure_im sure_sure im",
          "11_touch_touched_touching",
          "21_three_three body_third",
          "48_lighter_heavier_felt hea...",
          "53_sensation_feel sensation...",
          "12_relaxing_session_relaxed",
          "30_asleep_sleep_falling asl...",
          "40_calm_calm calm_calmer",
          "14_strange_weird_normal",
          "27_mean_mean mean_mean dont",
          "41_little_bit_little bit",
          "44_different_bit different_...",
          "16_forest_tree_rock",
          "18_voice_sound_bird",
          "20_dont dont_dont_want dont",
          "55_end_day_end day",
          "22_come_back_come back",
          "37_time_second time_time di...",
          "25_didnt_didnt see_notice",
          "34_see see_technical_see",
          "29_color_changing_color cha...",
          "31_felt_would make_see felt",
          "32_feel feel_feel_ah feel",
          "45_moment_emotion_moment dont",
          "57_didnt feel_didnt_felt di...",
          "58_felt_first saw_felt wave",
          "35_delay_wait_slow",
          "46_avatar_blinking_flash",
          "36_pixel_pixelized_quality ...",
          "50_image_camera_picture",
          "47_nice nice_nice_fun nice",
          "49_interesting_interesting ...",
          "51_cool_cool cool_cool nice",
          "54_peaceful_peace_feel peace"
         ],
         "yaxis": "y",
         "z": [
          [
           1,
           0.9999853372573853,
           0.14383429288864136,
           0.21351715922355652,
           0.1844070553779602,
           0.1996239721775055,
           0.13805198669433594,
           0.34071099758148193,
           0.4578915238380432,
           0.4475095868110657,
           0.35772666335105896,
           0.4278748035430908,
           0.4620388150215149,
           0.40627431869506836,
           0.4418819546699524,
           0.3337390720844269,
           0.247900128364563,
           0.23352229595184326,
           0.27608752250671387,
           0.31546157598495483,
           0.2748330235481262,
           0.27583369612693787,
           0.2438441514968872,
           0.6331720352172852,
           0.44754451513290405,
           0.5223912596702576,
           0.23743349313735962,
           0.21815620362758636,
           0.2181447148323059,
           0.19968068599700928,
           0.284685879945755,
           0.1654430776834488,
           0.29764482378959656,
           0.4089006781578064,
           0.33233314752578735,
           0.3535166382789612,
           0.3354300558567047,
           0.20125798881053925,
           0.21015307307243347,
           0.377994179725647,
           0.31958717107772827,
           0.3342953622341156,
           0.26058900356292725,
           0.36771926283836365,
           0.4117070734500885,
           0.17471635341644287,
           0.2567494511604309,
           0.4463615417480469,
           0.2673935890197754,
           0.32798057794570923,
           0.18791210651397705,
           0.23091372847557068,
           0.3633161187171936,
           0.24623677134513855,
           0.32214170694351196,
           0.4791239798069,
           0.3305703103542328,
           0.4656749963760376,
           0.18950317800045013
          ],
          [
           0.9999853372573853,
           0.9999998807907104,
           0.14322490990161896,
           0.21293771266937256,
           0.18374696373939514,
           0.19910196959972382,
           0.13773733377456665,
           0.3395993411540985,
           0.4567267894744873,
           0.4459616541862488,
           0.35693663358688354,
           0.4266771078109741,
           0.4612573981285095,
           0.40526387095451355,
           0.4411153197288513,
           0.33308714628219604,
           0.24738743901252747,
           0.2329646199941635,
           0.27550384402275085,
           0.31462714076042175,
           0.2745019197463989,
           0.2754821479320526,
           0.2431337833404541,
           0.6321729421615601,
           0.44625186920166016,
           0.5216849446296692,
           0.2370491921901703,
           0.2174900472164154,
           0.21771709620952606,
           0.19934603571891785,
           0.28389430046081543,
           0.1644471287727356,
           0.29698529839515686,
           0.40768876671791077,
           0.3318251073360443,
           0.3522980213165283,
           0.33441150188446045,
           0.20079758763313293,
           0.20957402884960175,
           0.3762962222099304,
           0.31855541467666626,
           0.33342641592025757,
           0.25971752405166626,
           0.3668056130409241,
           0.41081351041793823,
           0.1743965744972229,
           0.255990207195282,
           0.4452366232872009,
           0.26649612188339233,
           0.3268051743507385,
           0.18712720274925232,
           0.23053985834121704,
           0.36297550797462463,
           0.24596214294433594,
           0.32165437936782837,
           0.478057861328125,
           0.33002930879592896,
           0.46505245566368103,
           0.18905414640903473
          ],
          [
           0.14383429288864136,
           0.14322490990161896,
           1,
           0.5815081596374512,
           0.4640842080116272,
           0.5258933305740356,
           0.4362275004386902,
           0.4605039954185486,
           0.33753079175949097,
           0.2932412624359131,
           0.2846416234970093,
           0.21209633350372314,
           0.2639960050582886,
           0.24909454584121704,
           0.2798164486885071,
           0.5079630613327026,
           0.4086587429046631,
           0.5633372068405151,
           0.3022956848144531,
           0.4466050863265991,
           0.44953882694244385,
           0.4418368637561798,
           0.42977938055992126,
           0.18333692848682404,
           0.18111473321914673,
           0.16921064257621765,
           0.4560309052467346,
           0.40919119119644165,
           0.33298277854919434,
           0.486904501914978,
           0.5768968462944031,
           0.44594499468803406,
           0.48042574524879456,
           0.2901915907859802,
           0.2345270812511444,
           0.23705065250396729,
           0.24108360707759857,
           0.36880388855934143,
           0.459313303232193,
           0.24708566069602966,
           0.18783032894134521,
           0.3333616554737091,
           0.3437899351119995,
           0.19988670945167542,
           0.1944599449634552,
           0.19264163076877594,
           0.4832971692085266,
           0.4098742604255676,
           0.45151442289352417,
           0.39782196283340454,
           0.6125214099884033,
           0.25251305103302,
           0.2433841973543167,
           0.22846460342407227,
           0.23494398593902588,
           0.17347721755504608,
           0.20902781188488007,
           0.09009082615375519,
           0.4729025959968567
          ],
          [
           0.21351715922355652,
           0.21293771266937256,
           0.5815081596374512,
           0.9999996423721313,
           0.6440656185150146,
           0.5745011568069458,
           0.6303690671920776,
           0.5642358064651489,
           0.4272336959838867,
           0.3871541917324066,
           0.35971200466156006,
           0.3132806122303009,
           0.3865814805030823,
           0.3138142228126526,
           0.34242773056030273,
           0.5294649004936218,
           0.4831307828426361,
           0.514492392539978,
           0.37526094913482666,
           0.4287877678871155,
           0.36172428727149963,
           0.41451144218444824,
           0.41005343198776245,
           0.23607097566127777,
           0.30209457874298096,
           0.2163565754890442,
           0.47471946477890015,
           0.35476332902908325,
           0.35953590273857117,
           0.4249936640262604,
           0.5119733810424805,
           0.46682384610176086,
           0.45847955346107483,
           0.26394256949424744,
           0.30282896757125854,
           0.31095248460769653,
           0.26312369108200073,
           0.3230312466621399,
           0.48923397064208984,
           0.29475727677345276,
           0.2177148461341858,
           0.314933717250824,
           0.42564302682876587,
           0.33064424991607666,
           0.31583675742149353,
           0.3750114440917969,
           0.41937658190727234,
           0.34712648391723633,
           0.5025115013122559,
           0.3687288165092468,
           0.4324626922607422,
           0.39719030261039734,
           0.4219461977481842,
           0.3275260925292969,
           0.3824199438095093,
           0.17749255895614624,
           0.19737200438976288,
           0.15242606401443481,
           0.23762163519859314
          ],
          [
           0.1844070553779602,
           0.18374696373939514,
           0.4640842080116272,
           0.6440656185150146,
           1.000000238418579,
           0.4768218994140625,
           0.5053874254226685,
           0.46952658891677856,
           0.4195517897605896,
           0.3603630065917969,
           0.3907698690891266,
           0.27901124954223633,
           0.33604931831359863,
           0.28970465064048767,
           0.29184359312057495,
           0.537807822227478,
           0.3831877112388611,
           0.45987141132354736,
           0.4163856506347656,
           0.4071885645389557,
           0.36295372247695923,
           0.457416832447052,
           0.4433492422103882,
           0.26901549100875854,
           0.2732551693916321,
           0.23394902050495148,
           0.4068499803543091,
           0.3281247615814209,
           0.24107959866523743,
           0.40961068868637085,
           0.44624602794647217,
           0.5272594094276428,
           0.3781074583530426,
           0.3120589554309845,
           0.2702685594558716,
           0.28596198558807373,
           0.26172617077827454,
           0.3108609914779663,
           0.4054867923259735,
           0.25343185663223267,
           0.24823880195617676,
           0.30655330419540405,
           0.380868136882782,
           0.3813377916812897,
           0.3826262354850769,
           0.37810537219047546,
           0.41220250725746155,
           0.33715081214904785,
           0.4051383435726166,
           0.33389919996261597,
           0.4739704132080078,
           0.3455263376235962,
           0.4606974124908447,
           0.30931586027145386,
           0.31855490803718567,
           0.1893221139907837,
           0.21787279844284058,
           0.20038676261901855,
           0.24149340391159058
          ],
          [
           0.1996239721775055,
           0.19910196959972382,
           0.5258933305740356,
           0.5745011568069458,
           0.4768218994140625,
           0.9999999403953552,
           0.4127845764160156,
           0.45260709524154663,
           0.4488118290901184,
           0.3248146176338196,
           0.33649224042892456,
           0.32295656204223633,
           0.2718580663204193,
           0.3363466262817383,
           0.29226839542388916,
           0.5414202809333801,
           0.41568464040756226,
           0.4422205686569214,
           0.4529421329498291,
           0.40810081362724304,
           0.35807156562805176,
           0.45420047640800476,
           0.38787373900413513,
           0.23422709107398987,
           0.30421823263168335,
           0.21602913737297058,
           0.40688905119895935,
           0.40396785736083984,
           0.38381147384643555,
           0.4708414673805237,
           0.4962264597415924,
           0.47552332282066345,
           0.41713765263557434,
           0.3783701956272125,
           0.22436025738716125,
           0.3112138509750366,
           0.27053186297416687,
           0.3427317142486572,
           0.5092912912368774,
           0.25181901454925537,
           0.2919163703918457,
           0.35995960235595703,
           0.40279096364974976,
           0.3914681673049927,
           0.2941892147064209,
           0.4108852744102478,
           0.4683908522129059,
           0.34838032722473145,
           0.43338197469711304,
           0.41392356157302856,
           0.4360048174858093,
           0.3858562111854553,
           0.320808470249176,
           0.2558298110961914,
           0.2377391755580902,
           0.18728914856910706,
           0.2784019708633423,
           0.12280813604593277,
           0.2510063052177429
          ],
          [
           0.13805198669433594,
           0.13773733377456665,
           0.4362275004386902,
           0.6303690671920776,
           0.5053874254226685,
           0.4127845764160156,
           1.0000001192092896,
           0.3662184476852417,
           0.297619104385376,
           0.26786476373672485,
           0.3265076279640198,
           0.1893766224384308,
           0.3125683069229126,
           0.23356355726718903,
           0.2806575298309326,
           0.4964250326156616,
           0.5684754848480225,
           0.40021422505378723,
           0.388958603143692,
           0.300788938999176,
           0.29427072405815125,
           0.31391268968582153,
           0.33096688985824585,
           0.20800235867500305,
           0.23485423624515533,
           0.1544063687324524,
           0.377895712852478,
           0.3954012989997864,
           0.3583917021751404,
           0.4411434531211853,
           0.40282124280929565,
           0.36047273874282837,
           0.2974253296852112,
           0.1645272970199585,
           0.19940167665481567,
           0.19778788089752197,
           0.21637487411499023,
           0.288897842168808,
           0.37573495507240295,
           0.2712843418121338,
           0.16680850088596344,
           0.2469206154346466,
           0.2881956398487091,
           0.20495760440826416,
           0.24953031539916992,
           0.2650836408138275,
           0.4160592555999756,
           0.3078813850879669,
           0.36053717136383057,
           0.31010809540748596,
           0.2661600708961487,
           0.2586471438407898,
           0.3090365529060364,
           0.24830977618694305,
           0.29801976680755615,
           0.14750534296035767,
           0.13800778985023499,
           0.10847878456115723,
           0.16175132989883423
          ],
          [
           0.34071099758148193,
           0.3395993411540985,
           0.4605039954185486,
           0.5642358064651489,
           0.46952658891677856,
           0.45260709524154663,
           0.3662184476852417,
           1,
           0.6377789974212646,
           0.6326864957809448,
           0.5372042655944824,
           0.6030632853507996,
           0.48928147554397583,
           0.5162343978881836,
           0.5218250155448914,
           0.49553704261779785,
           0.4442788362503052,
           0.49337542057037354,
           0.43714767694473267,
           0.4674065113067627,
           0.42391684651374817,
           0.5196614265441895,
           0.5572451949119568,
           0.41612496972084045,
           0.44300156831741333,
           0.4280375838279724,
           0.4090253412723541,
           0.4164135754108429,
           0.33408695459365845,
           0.3160766661167145,
           0.393079936504364,
           0.41369369626045227,
           0.3894389271736145,
           0.4385179579257965,
           0.4627835154533386,
           0.4343235492706299,
           0.44516226649284363,
           0.32450753450393677,
           0.33606594800949097,
           0.4741358757019043,
           0.4451901316642761,
           0.4800834655761719,
           0.5176682472229004,
           0.43363407254219055,
           0.5425481200218201,
           0.3861957788467407,
           0.46670347452163696,
           0.47634056210517883,
           0.5147793292999268,
           0.46260714530944824,
           0.4754961133003235,
           0.32453712821006775,
           0.37576156854629517,
           0.22968608140945435,
           0.34890854358673096,
           0.32484906911849976,
           0.4155828356742859,
           0.3181298077106476,
           0.34345436096191406
          ],
          [
           0.4578915238380432,
           0.4567267894744873,
           0.33753079175949097,
           0.4272336959838867,
           0.4195517897605896,
           0.4488118290901184,
           0.297619104385376,
           0.6377789974212646,
           1,
           0.6679648756980896,
           0.5742864608764648,
           0.5822700262069702,
           0.5924655199050903,
           0.5068259835243225,
           0.544861376285553,
           0.5921897888183594,
           0.43965357542037964,
           0.41607359051704407,
           0.5411673188209534,
           0.5211371183395386,
           0.47467195987701416,
           0.5031687617301941,
           0.5191132426261902,
           0.5206388831138611,
           0.4963635206222534,
           0.4836067855358124,
           0.4712666869163513,
           0.4746978282928467,
           0.429899126291275,
           0.45358026027679443,
           0.4522426724433899,
           0.4172346591949463,
           0.44526535272598267,
           0.5828129053115845,
           0.47844916582107544,
           0.6001327037811279,
           0.49919912219047546,
           0.43757373094558716,
           0.4417700171470642,
           0.42526981234550476,
           0.4246499240398407,
           0.42461538314819336,
           0.44883257150650024,
           0.5549848079681396,
           0.48297977447509766,
           0.4603108763694763,
           0.5793325304985046,
           0.5645002126693726,
           0.5127407908439636,
           0.5333268046379089,
           0.4845379590988159,
           0.42651522159576416,
           0.5042781829833984,
           0.3668593168258667,
           0.4869857430458069,
           0.4192606806755066,
           0.4578476548194885,
           0.37920302152633667,
           0.31425049901008606
          ],
          [
           0.4475095868110657,
           0.4459616541862488,
           0.2932412624359131,
           0.3871541917324066,
           0.3603630065917969,
           0.3248146176338196,
           0.26786476373672485,
           0.6326864957809448,
           0.6679648756980896,
           1.0000001192092896,
           0.574479341506958,
           0.6661953926086426,
           0.5861018896102905,
           0.5723761320114136,
           0.5664458274841309,
           0.4511525630950928,
           0.4145587682723999,
           0.3939966559410095,
           0.3849974274635315,
           0.5036419630050659,
           0.45110416412353516,
           0.44263625144958496,
           0.4640621244907379,
           0.6190553903579712,
           0.5979663133621216,
           0.5309919714927673,
           0.36335235834121704,
           0.4062672257423401,
           0.35480785369873047,
           0.2717263102531433,
           0.42031556367874146,
           0.3763878643512726,
           0.4336821138858795,
           0.5806659460067749,
           0.5275104641914368,
           0.5143330097198486,
           0.5980794429779053,
           0.328449547290802,
           0.29975980520248413,
           0.641299843788147,
           0.4782378077507019,
           0.47967761754989624,
           0.4722292423248291,
           0.568130373954773,
           0.5914789438247681,
           0.34161144495010376,
           0.38142573833465576,
           0.48745980858802795,
           0.4557338356971741,
           0.500656247138977,
           0.35580146312713623,
           0.3389768600463867,
           0.37206947803497314,
           0.3040108382701874,
           0.3898947238922119,
           0.45783913135528564,
           0.4918019473552704,
           0.42718178033828735,
           0.36839574575424194
          ],
          [
           0.35772666335105896,
           0.35693663358688354,
           0.2846416234970093,
           0.35971200466156006,
           0.3907698690891266,
           0.33649224042892456,
           0.3265076279640198,
           0.5372042655944824,
           0.5742864608764648,
           0.574479341506958,
           1.0000001192092896,
           0.515649676322937,
           0.557076096534729,
           0.4373176693916321,
           0.5116569399833679,
           0.40609532594680786,
           0.37714582681655884,
           0.3448600471019745,
           0.41478070616722107,
           0.4389086365699768,
           0.3842242956161499,
           0.3915655016899109,
           0.406667023897171,
           0.48712554574012756,
           0.43677395582199097,
           0.4762802720069885,
           0.36863812804222107,
           0.5737645030021667,
           0.31460273265838623,
           0.3417539596557617,
           0.4469202160835266,
           0.3033624291419983,
           0.3872302770614624,
           0.41859668493270874,
           0.394031822681427,
           0.4345529079437256,
           0.45044827461242676,
           0.32350409030914307,
           0.29775458574295044,
           0.3820425271987915,
           0.415715754032135,
           0.40198737382888794,
           0.5505563616752625,
           0.48923200368881226,
           0.46438533067703247,
           0.332807719707489,
           0.39514386653900146,
           0.4292634427547455,
           0.3699854016304016,
           0.39150470495224,
           0.3100053668022156,
           0.4014565944671631,
           0.3735003173351288,
           0.25490161776542664,
           0.33902984857559204,
           0.38104248046875,
           0.3675021529197693,
           0.3833252787590027,
           0.2849336564540863
          ],
          [
           0.4278748035430908,
           0.4266771078109741,
           0.21209633350372314,
           0.3132806122303009,
           0.27901124954223633,
           0.32295656204223633,
           0.1893766224384308,
           0.6030632853507996,
           0.5822700262069702,
           0.6661953926086426,
           0.515649676322937,
           1.0000001192092896,
           0.5346357822418213,
           0.5660181045532227,
           0.5296416282653809,
           0.3772459030151367,
           0.34852364659309387,
           0.3353635370731354,
           0.3664589524269104,
           0.42781364917755127,
           0.39751532673835754,
           0.4195583462715149,
           0.42101678252220154,
           0.5152536034584045,
           0.5497775077819824,
           0.6878355741500854,
           0.3176940679550171,
           0.3161023259162903,
           0.29660338163375854,
           0.2849411368370056,
           0.3445436358451843,
           0.30692780017852783,
           0.3336890637874603,
           0.5402805209159851,
           0.39522141218185425,
           0.4783681333065033,
           0.4938546419143677,
           0.2802734971046448,
           0.26002243161201477,
           0.4717872142791748,
           0.4777267575263977,
           0.4147704839706421,
           0.45241671800613403,
           0.4522222876548767,
           0.4659910202026367,
           0.315764844417572,
           0.3850087523460388,
           0.39339500665664673,
           0.35455527901649475,
           0.36678194999694824,
           0.2732226848602295,
           0.3535601496696472,
           0.3517152965068817,
           0.22576262056827545,
           0.2828160524368286,
           0.34959080815315247,
           0.49805277585983276,
           0.3379988372325897,
           0.25548553466796875
          ],
          [
           0.4620388150215149,
           0.4612573981285095,
           0.2639960050582886,
           0.3865814805030823,
           0.33604931831359863,
           0.2718580663204193,
           0.3125683069229126,
           0.48928147554397583,
           0.5924655199050903,
           0.5861018896102905,
           0.557076096534729,
           0.5346357822418213,
           1,
           0.5152245163917542,
           0.5039147734642029,
           0.3720453977584839,
           0.37491893768310547,
           0.32254594564437866,
           0.3179303705692291,
           0.41121208667755127,
           0.4336959719657898,
           0.4001006484031677,
           0.37680357694625854,
           0.5068448781967163,
           0.4190102219581604,
           0.42883366346359253,
           0.30969735980033875,
           0.3264484703540802,
           0.378079891204834,
           0.31578755378723145,
           0.47130483388900757,
           0.3067297339439392,
           0.4072510004043579,
           0.46125328540802,
           0.4293938875198364,
           0.5642492771148682,
           0.5074853301048279,
           0.2895136773586273,
           0.32237792015075684,
           0.3978903889656067,
           0.36939263343811035,
           0.36710619926452637,
           0.4294246435165405,
           0.3876369595527649,
           0.42986956238746643,
           0.26391494274139404,
           0.40000540018081665,
           0.4977855384349823,
           0.3829391598701477,
           0.4103236794471741,
           0.2987317740917206,
           0.29736900329589844,
           0.3382077217102051,
           0.24621614813804626,
           0.32958877086639404,
           0.4540693759918213,
           0.45651644468307495,
           0.360162615776062,
           0.33754026889801025
          ],
          [
           0.40627431869506836,
           0.40526387095451355,
           0.24909454584121704,
           0.3138142228126526,
           0.28970465064048767,
           0.3363466262817383,
           0.23356355726718903,
           0.5162343978881836,
           0.5068259835243225,
           0.5723761320114136,
           0.4373176693916321,
           0.5660181045532227,
           0.5152245163917542,
           1,
           0.5431885719299316,
           0.3812068700790405,
           0.3512248694896698,
           0.302111953496933,
           0.3192475140094757,
           0.4258909225463867,
           0.40595299005508423,
           0.38529670238494873,
           0.41624635457992554,
           0.49747467041015625,
           0.47933679819107056,
           0.5002214908599854,
           0.3120778799057007,
           0.30940133333206177,
           0.2805485725402832,
           0.25201016664505005,
           0.3745221495628357,
           0.3311927914619446,
           0.3268025517463684,
           0.5341276526451111,
           0.4284096956253052,
           0.42944347858428955,
           0.4021753966808319,
           0.2547342777252197,
           0.2982129156589508,
           0.4684126377105713,
           0.4238470792770386,
           0.472322940826416,
           0.5071600675582886,
           0.4533471465110779,
           0.48266005516052246,
           0.2321876883506775,
           0.33745336532592773,
           0.45112478733062744,
           0.3910983204841614,
           0.4505859613418579,
           0.32642662525177,
           0.27837276458740234,
           0.2967684864997864,
           0.24744567275047302,
           0.27880555391311646,
           0.35862302780151367,
           0.4253876209259033,
           0.33475449681282043,
           0.30126041173934937
          ],
          [
           0.4418819546699524,
           0.4411153197288513,
           0.2798164486885071,
           0.34242773056030273,
           0.29184359312057495,
           0.29226839542388916,
           0.2806575298309326,
           0.5218250155448914,
           0.544861376285553,
           0.5664458274841309,
           0.5116569399833679,
           0.5296416282653809,
           0.5039147734642029,
           0.5431885719299316,
           0.9999998807907104,
           0.3558339476585388,
           0.3520534634590149,
           0.3141886591911316,
           0.37270158529281616,
           0.4174901247024536,
           0.42709672451019287,
           0.3643392026424408,
           0.38567495346069336,
           0.5528838634490967,
           0.43814539909362793,
           0.4986507296562195,
           0.3051193952560425,
           0.29016751050949097,
           0.3831903338432312,
           0.2718396782875061,
           0.3386085629463196,
           0.3164606988430023,
           0.3159043788909912,
           0.44905951619148254,
           0.4024783968925476,
           0.5683417320251465,
           0.5007280111312866,
           0.30896320939064026,
           0.2844667136669159,
           0.3988485336303711,
           0.40134358406066895,
           0.3640758991241455,
           0.36430782079696655,
           0.4592691659927368,
           0.46733424067497253,
           0.2838660776615143,
           0.3344385027885437,
           0.4013923406600952,
           0.33782148361206055,
           0.3423219919204712,
           0.29504433274269104,
           0.22574111819267273,
           0.3140757381916046,
           0.252202570438385,
           0.3377078175544739,
           0.38417619466781616,
           0.42874401807785034,
           0.40045908093452454,
           0.25828781723976135
          ],
          [
           0.3337390720844269,
           0.33308714628219604,
           0.5079630613327026,
           0.5294649004936218,
           0.537807822227478,
           0.5414202809333801,
           0.4964250326156616,
           0.49553704261779785,
           0.5921897888183594,
           0.4511525630950928,
           0.40609532594680786,
           0.3772459030151367,
           0.3720453977584839,
           0.3812068700790405,
           0.3558339476585388,
           1,
           0.5596932172775269,
           0.6501177549362183,
           0.6231207847595215,
           0.5503315329551697,
           0.41708990931510925,
           0.48571521043777466,
           0.5451558828353882,
           0.3515179455280304,
           0.3757767379283905,
           0.3052462339401245,
           0.6626957654953003,
           0.6529453992843628,
           0.531613290309906,
           0.6111201643943787,
           0.43185511231422424,
           0.42933398485183716,
           0.35444605350494385,
           0.47345858812332153,
           0.38948535919189453,
           0.35619062185287476,
           0.39364534616470337,
           0.3478490114212036,
           0.3656594753265381,
           0.2934437394142151,
           0.28057724237442017,
           0.4511082172393799,
           0.40021419525146484,
           0.4679071307182312,
           0.46754008531570435,
           0.4848504066467285,
           0.6091718077659607,
           0.5212342739105225,
           0.4554210305213928,
           0.4836044907569885,
           0.5476850271224976,
           0.40026843547821045,
           0.4838079810142517,
           0.47722750902175903,
           0.5351331830024719,
           0.2680184841156006,
           0.27138781547546387,
           0.22292768955230713,
           0.2625451982021332
          ],
          [
           0.247900128364563,
           0.24738743901252747,
           0.4086587429046631,
           0.4831307828426361,
           0.3831877112388611,
           0.41568464040756226,
           0.5684754848480225,
           0.4442788362503052,
           0.43965357542037964,
           0.4145587682723999,
           0.37714582681655884,
           0.34852364659309387,
           0.37491893768310547,
           0.3512248694896698,
           0.3520534634590149,
           0.5596932172775269,
           0.9999998807907104,
           0.492808997631073,
           0.43320390582084656,
           0.4952831268310547,
           0.39880815148353577,
           0.4120824933052063,
           0.3828185796737671,
           0.32436949014663696,
           0.3650955557823181,
           0.2907470464706421,
           0.5808978080749512,
           0.47152411937713623,
           0.46554505825042725,
           0.5093687772750854,
           0.35786300897598267,
           0.34558045864105225,
           0.34478461742401123,
           0.37654179334640503,
           0.32140272855758667,
           0.42757970094680786,
           0.4102652668952942,
           0.36384427547454834,
           0.38181769847869873,
           0.2804785966873169,
           0.2949238419532776,
           0.4391348958015442,
           0.3889278173446655,
           0.38027137517929077,
           0.36828380823135376,
           0.3259810209274292,
           0.527963399887085,
           0.44590362906455994,
           0.5440025329589844,
           0.4508282542228699,
           0.4032976031303406,
           0.445038765668869,
           0.3497641086578369,
           0.28032222390174866,
           0.356640100479126,
           0.20497450232505798,
           0.23557505011558533,
           0.25463563203811646,
           0.33470040559768677
          ],
          [
           0.23352229595184326,
           0.2329646199941635,
           0.5633372068405151,
           0.514492392539978,
           0.45987141132354736,
           0.4422205686569214,
           0.40021422505378723,
           0.49337542057037354,
           0.41607359051704407,
           0.3939966559410095,
           0.3448600471019745,
           0.3353635370731354,
           0.32254594564437866,
           0.302111953496933,
           0.3141886591911316,
           0.6501177549362183,
           0.492808997631073,
           1.0000003576278687,
           0.423523485660553,
           0.4959349036216736,
           0.5281838774681091,
           0.5231218338012695,
           0.5217441320419312,
           0.2600438594818115,
           0.3039936125278473,
           0.24400125443935394,
           0.5004481673240662,
           0.5010240077972412,
           0.3636937141418457,
           0.4870813488960266,
           0.3920189142227173,
           0.3667844533920288,
           0.3014516830444336,
           0.3540961742401123,
           0.3078140914440155,
           0.3111512362957001,
           0.34624242782592773,
           0.32897064089775085,
           0.35301733016967773,
           0.2849504351615906,
           0.21886253356933594,
           0.3696972131729126,
           0.38939231634140015,
           0.28424084186553955,
           0.3328968286514282,
           0.26942914724349976,
           0.5023887157440186,
           0.424985408782959,
           0.4207302927970886,
           0.3816547989845276,
           0.5824897289276123,
           0.31758350133895874,
           0.42088961601257324,
           0.4705254137516022,
           0.4275439381599426,
           0.18387070298194885,
           0.259651780128479,
           0.18640731275081635,
           0.3110995292663574
          ],
          [
           0.27608752250671387,
           0.27550384402275085,
           0.3022956848144531,
           0.37526094913482666,
           0.4163856506347656,
           0.4529421329498291,
           0.388958603143692,
           0.43714767694473267,
           0.5411673188209534,
           0.3849974274635315,
           0.41478070616722107,
           0.3664589524269104,
           0.3179303705692291,
           0.3192475140094757,
           0.37270158529281616,
           0.6231207847595215,
           0.43320390582084656,
           0.423523485660553,
           1.0000001192092896,
           0.5088596343994141,
           0.4212641716003418,
           0.4325733780860901,
           0.38064873218536377,
           0.34944745898246765,
           0.3577388525009155,
           0.24278561770915985,
           0.47333264350891113,
           0.48231908679008484,
           0.42647039890289307,
           0.4694081246852875,
           0.2893105745315552,
           0.31384947896003723,
           0.290230393409729,
           0.42639559507369995,
           0.3326681852340698,
           0.34692877531051636,
           0.3693961501121521,
           0.5119302272796631,
           0.37141603231430054,
           0.2531167268753052,
           0.29873496294021606,
           0.3713919520378113,
           0.37179645895957947,
           0.4535152316093445,
           0.4484766721725464,
           0.44109582901000977,
           0.5725909471511841,
           0.37529855966567993,
           0.39022117853164673,
           0.4570579528808594,
           0.41368693113327026,
           0.36591964960098267,
           0.3213992714881897,
           0.380357563495636,
           0.3699347972869873,
           0.30336862802505493,
           0.2923498749732971,
           0.25282639265060425,
           0.17499443888664246
          ],
          [
           0.31546157598495483,
           0.31462714076042175,
           0.4466050863265991,
           0.4287877678871155,
           0.4071885645389557,
           0.40810081362724304,
           0.300788938999176,
           0.4674065113067627,
           0.5211371183395386,
           0.5036419630050659,
           0.4389086365699768,
           0.42781364917755127,
           0.41121208667755127,
           0.4258909225463867,
           0.4174901247024536,
           0.5503315329551697,
           0.4952831268310547,
           0.4959349036216736,
           0.5088596343994141,
           1.000000238418579,
           0.47850123047828674,
           0.43908071517944336,
           0.4827946126461029,
           0.36743053793907166,
           0.368047833442688,
           0.34794121980667114,
           0.41991958022117615,
           0.3739553689956665,
           0.33828219771385193,
           0.3484921157360077,
           0.46614572405815125,
           0.35428640246391296,
           0.3583657741546631,
           0.44559305906295776,
           0.377938449382782,
           0.44011232256889343,
           0.4108997583389282,
           0.5764868855476379,
           0.45156916975975037,
           0.32514989376068115,
           0.33780330419540405,
           0.4099924862384796,
           0.41568753123283386,
           0.40639376640319824,
           0.4174846410751343,
           0.31853368878364563,
           0.4600942134857178,
           0.4003709554672241,
           0.4216395616531372,
           0.3897550106048584,
           0.4776065945625305,
           0.30280357599258423,
           0.3434146046638489,
           0.3218279480934143,
           0.4598548412322998,
           0.3276984691619873,
           0.3396317660808563,
           0.3283466398715973,
           0.43422931432724
          ],
          [
           0.2748330235481262,
           0.2745019197463989,
           0.44953882694244385,
           0.36172428727149963,
           0.36295372247695923,
           0.35807156562805176,
           0.29427072405815125,
           0.42391684651374817,
           0.47467195987701416,
           0.45110416412353516,
           0.3842242956161499,
           0.39751532673835754,
           0.4336959719657898,
           0.40595299005508423,
           0.42709672451019287,
           0.41708990931510925,
           0.39880815148353577,
           0.5281838774681091,
           0.4212641716003418,
           0.47850123047828674,
           0.9999998211860657,
           0.5771732926368713,
           0.4594087600708008,
           0.3313026428222656,
           0.33075371384620667,
           0.2931356430053711,
           0.46339911222457886,
           0.4035071134567261,
           0.3917781412601471,
           0.5292170643806458,
           0.4921562373638153,
           0.35320061445236206,
           0.32359880208969116,
           0.44558095932006836,
           0.3487708270549774,
           0.37124836444854736,
           0.4842803478240967,
           0.39413946866989136,
           0.3488256335258484,
           0.28734612464904785,
           0.26853328943252563,
           0.38142600655555725,
           0.4976974129676819,
           0.3160827159881592,
           0.32842209935188293,
           0.2161952257156372,
           0.5317724943161011,
           0.48055338859558105,
           0.4966249465942383,
           0.4631774425506592,
           0.6064008474349976,
           0.29768455028533936,
           0.30781054496765137,
           0.26705002784729004,
           0.21779899299144745,
           0.27093905210494995,
           0.4011656641960144,
           0.22053371369838715,
           0.29536160826683044
          ],
          [
           0.27583369612693787,
           0.2754821479320526,
           0.4418368637561798,
           0.41451144218444824,
           0.457416832447052,
           0.45420047640800476,
           0.31391268968582153,
           0.5196614265441895,
           0.5031687617301941,
           0.44263625144958496,
           0.3915655016899109,
           0.4195583462715149,
           0.4001006484031677,
           0.38529670238494873,
           0.3643392026424408,
           0.48571521043777466,
           0.4120824933052063,
           0.5231218338012695,
           0.4325733780860901,
           0.43908071517944336,
           0.5771732926368713,
           1,
           0.5344477295875549,
           0.2830919623374939,
           0.3211238980293274,
           0.2608696520328522,
           0.4544599652290344,
           0.4189804494380951,
           0.3954692780971527,
           0.4995943307876587,
           0.46620333194732666,
           0.44498366117477417,
           0.4858665466308594,
           0.4327685832977295,
           0.40868160128593445,
           0.40590500831604004,
           0.3466613292694092,
           0.3804103434085846,
           0.38401514291763306,
           0.30903682112693787,
           0.2992255985736847,
           0.4278467893600464,
           0.40692442655563354,
           0.27847427129745483,
           0.33538302779197693,
           0.2953212559223175,
           0.5211842656135559,
           0.434357225894928,
           0.4773988723754883,
           0.4192342758178711,
           0.5397716760635376,
           0.3278852105140686,
           0.3889347016811371,
           0.2613057494163513,
           0.26046156883239746,
           0.23539936542510986,
           0.34116336703300476,
           0.1906556636095047,
           0.3825923204421997
          ],
          [
           0.2438441514968872,
           0.2431337833404541,
           0.42977938055992126,
           0.41005343198776245,
           0.4433492422103882,
           0.38787373900413513,
           0.33096688985824585,
           0.5572451949119568,
           0.5191132426261902,
           0.4640621244907379,
           0.406667023897171,
           0.42101678252220154,
           0.37680357694625854,
           0.41624635457992554,
           0.38567495346069336,
           0.5451558828353882,
           0.3828185796737671,
           0.5217441320419312,
           0.38064873218536377,
           0.4827946126461029,
           0.4594087600708008,
           0.5344477295875549,
           0.9999998807907104,
           0.3358337879180908,
           0.3514941334724426,
           0.32418856024742126,
           0.3531099557876587,
           0.41695237159729004,
           0.35154470801353455,
           0.3750403821468353,
           0.319391667842865,
           0.5083212852478027,
           0.3252139389514923,
           0.4261303246021271,
           0.3869200348854065,
           0.3126034140586853,
           0.3529791235923767,
           0.39990752935409546,
           0.3962487578392029,
           0.3608192503452301,
           0.31898951530456543,
           0.39017677307128906,
           0.38878536224365234,
           0.3032231330871582,
           0.32029080390930176,
           0.32114094495773315,
           0.4667721092700958,
           0.4470793306827545,
           0.4808046221733093,
           0.4024834930896759,
           0.5399398803710938,
           0.27050358057022095,
           0.46857190132141113,
           0.3121848404407501,
           0.37929248809814453,
           0.2783871293067932,
           0.3403371572494507,
           0.23998311161994934,
           0.33381953835487366
          ],
          [
           0.6331720352172852,
           0.6321729421615601,
           0.18333692848682404,
           0.23607097566127777,
           0.26901549100875854,
           0.23422709107398987,
           0.20800235867500305,
           0.41612496972084045,
           0.5206388831138611,
           0.6190553903579712,
           0.48712554574012756,
           0.5152536034584045,
           0.5068448781967163,
           0.49747467041015625,
           0.5528838634490967,
           0.3515179455280304,
           0.32436949014663696,
           0.2600438594818115,
           0.34944745898246765,
           0.36743053793907166,
           0.3313026428222656,
           0.2830919623374939,
           0.3358337879180908,
           1,
           0.6637736558914185,
           0.5780011415481567,
           0.2635195851325989,
           0.2803173065185547,
           0.2748040556907654,
           0.2346246838569641,
           0.3644784986972809,
           0.31230050325393677,
           0.35274970531463623,
           0.5391238331794739,
           0.4314287006855011,
           0.45292043685913086,
           0.5133983492851257,
           0.26999762654304504,
           0.2106536328792572,
           0.44432592391967773,
           0.409464031457901,
           0.3987487256526947,
           0.3861674666404724,
           0.5180497169494629,
           0.48220205307006836,
           0.24709376692771912,
           0.298861026763916,
           0.49117380380630493,
           0.3457750082015991,
           0.4159882366657257,
           0.2394607663154602,
           0.2996157109737396,
           0.34879791736602783,
           0.27657341957092285,
           0.3572199046611786,
           0.6843258142471313,
           0.4939254820346832,
           0.6538969278335571,
           0.24979349970817566
          ],
          [
           0.44754451513290405,
           0.44625186920166016,
           0.18111473321914673,
           0.30209457874298096,
           0.2732551693916321,
           0.30421823263168335,
           0.23485423624515533,
           0.44300156831741333,
           0.4963635206222534,
           0.5979663133621216,
           0.43677395582199097,
           0.5497775077819824,
           0.4190102219581604,
           0.47933679819107056,
           0.43814539909362793,
           0.3757767379283905,
           0.3650955557823181,
           0.3039936125278473,
           0.3577388525009155,
           0.368047833442688,
           0.33075371384620667,
           0.3211238980293274,
           0.3514941334724426,
           0.6637736558914185,
           1,
           0.4870200753211975,
           0.2704713046550751,
           0.3193856477737427,
           0.27953004837036133,
           0.22567301988601685,
           0.30966946482658386,
           0.27440592646598816,
           0.3361912667751312,
           0.46228763461112976,
           0.39752650260925293,
           0.3778761327266693,
           0.459342896938324,
           0.26289770007133484,
           0.23388472199440002,
           0.49572545289993286,
           0.41869428753852844,
           0.4014618992805481,
           0.3773708939552307,
           0.4655453562736511,
           0.46172094345092773,
           0.2735626995563507,
           0.2918350398540497,
           0.3856681287288666,
           0.3408261239528656,
           0.39343690872192383,
           0.24174970388412476,
           0.3239152431488037,
           0.27182403206825256,
           0.2456148862838745,
           0.282233864068985,
           0.4363251328468323,
           0.3982781171798706,
           0.4225207567214966,
           0.276969313621521
          ],
          [
           0.5223912596702576,
           0.5216849446296692,
           0.16921064257621765,
           0.2163565754890442,
           0.23394902050495148,
           0.21602913737297058,
           0.1544063687324524,
           0.4280375838279724,
           0.4836067855358124,
           0.5309919714927673,
           0.4762802720069885,
           0.6878355741500854,
           0.42883366346359253,
           0.5002214908599854,
           0.4986507296562195,
           0.3052462339401245,
           0.2907470464706421,
           0.24400125443935394,
           0.24278561770915985,
           0.34794121980667114,
           0.2931356430053711,
           0.2608696520328522,
           0.32418856024742126,
           0.5780011415481567,
           0.4870200753211975,
           1,
           0.23401156067848206,
           0.2456946074962616,
           0.21187415719032288,
           0.23411768674850464,
           0.29606667160987854,
           0.245711088180542,
           0.31875473260879517,
           0.38464584946632385,
           0.31599438190460205,
           0.4124740958213806,
           0.4030153155326843,
           0.20865488052368164,
           0.17428061366081238,
           0.43113863468170166,
           0.3529437780380249,
           0.38387125730514526,
           0.34436649084091187,
           0.39486613869667053,
           0.43936681747436523,
           0.22724449634552002,
           0.2761527895927429,
           0.40262937545776367,
           0.2865331470966339,
           0.2665582001209259,
           0.2172793447971344,
           0.29434844851493835,
           0.3013829290866852,
           0.21497903764247894,
           0.2596871256828308,
           0.4144601821899414,
           0.36981910467147827,
           0.48777830600738525,
           0.21952134370803833
          ],
          [
           0.23743349313735962,
           0.2370491921901703,
           0.4560309052467346,
           0.47471946477890015,
           0.4068499803543091,
           0.40688905119895935,
           0.377895712852478,
           0.4090253412723541,
           0.4712666869163513,
           0.36335235834121704,
           0.36863812804222107,
           0.3176940679550171,
           0.30969735980033875,
           0.3120778799057007,
           0.3051193952560425,
           0.6626957654953003,
           0.5808978080749512,
           0.5004481673240662,
           0.47333264350891113,
           0.41991958022117615,
           0.46339911222457886,
           0.4544599652290344,
           0.3531099557876587,
           0.2635195851325989,
           0.2704713046550751,
           0.23401156067848206,
           0.9999998807907104,
           0.5977978110313416,
           0.43483924865722656,
           0.6724783182144165,
           0.4281257390975952,
           0.3337971866130829,
           0.32946616411209106,
           0.3735698461532593,
           0.298301100730896,
           0.32938647270202637,
           0.31235232949256897,
           0.34033122658729553,
           0.3242180347442627,
           0.2433035671710968,
           0.23013988137245178,
           0.42240849137306213,
           0.4339790940284729,
           0.3591030240058899,
           0.31944048404693604,
           0.3750954866409302,
           0.635773777961731,
           0.4912799596786499,
           0.5297374725341797,
           0.5215691924095154,
           0.5442321300506592,
           0.3527461588382721,
           0.37745803594589233,
           0.33427661657333374,
           0.36514243483543396,
           0.173820361495018,
           0.22042813897132874,
           0.2012588083744049,
           0.27802300453186035
          ],
          [
           0.21815620362758636,
           0.2174900472164154,
           0.40919119119644165,
           0.35476332902908325,
           0.3281247615814209,
           0.40396785736083984,
           0.3954012989997864,
           0.4164135754108429,
           0.4746978282928467,
           0.4062672257423401,
           0.5737645030021667,
           0.3161023259162903,
           0.3264484703540802,
           0.30940133333206177,
           0.29016751050949097,
           0.6529453992843628,
           0.47152411937713623,
           0.5010240077972412,
           0.48231908679008484,
           0.3739553689956665,
           0.4035071134567261,
           0.4189804494380951,
           0.41695237159729004,
           0.2803173065185547,
           0.3193856477737427,
           0.2456946074962616,
           0.5977978110313416,
           0.9999997615814209,
           0.5308542847633362,
           0.5768152475357056,
           0.4139416217803955,
           0.36684179306030273,
           0.35560062527656555,
           0.36864039301872253,
           0.288968026638031,
           0.2763443887233734,
           0.2734285891056061,
           0.3207247257232666,
           0.2725202739238739,
           0.2799263000488281,
           0.30748969316482544,
           0.41946619749069214,
           0.4393666386604309,
           0.29435449838638306,
           0.2687171399593353,
           0.255047082901001,
           0.6133259534835815,
           0.5767744779586792,
           0.4595186114311218,
           0.5404045581817627,
           0.5547347068786621,
           0.350325345993042,
           0.32448649406433105,
           0.23355023562908173,
           0.2418711632490158,
           0.20377704501152039,
           0.19677472114562988,
           0.16620604693889618,
           0.28525838255882263
          ],
          [
           0.2181447148323059,
           0.21771709620952606,
           0.33298277854919434,
           0.35953590273857117,
           0.24107959866523743,
           0.38381147384643555,
           0.3583917021751404,
           0.33408695459365845,
           0.429899126291275,
           0.35480785369873047,
           0.31460273265838623,
           0.29660338163375854,
           0.378079891204834,
           0.2805485725402832,
           0.3831903338432312,
           0.531613290309906,
           0.46554505825042725,
           0.3636937141418457,
           0.42647039890289307,
           0.33828219771385193,
           0.3917781412601471,
           0.3954692780971527,
           0.35154470801353455,
           0.2748040556907654,
           0.27953004837036133,
           0.21187415719032288,
           0.43483924865722656,
           0.5308542847633362,
           1.0000003576278687,
           0.577290952205658,
           0.38779130578041077,
           0.3840426802635193,
           0.3770924210548401,
           0.36233875155448914,
           0.3233973979949951,
           0.3601771593093872,
           0.36810004711151123,
           0.3051548898220062,
           0.21246056258678436,
           0.25381919741630554,
           0.22834213078022003,
           0.379375696182251,
           0.28395429253578186,
           0.29046523571014404,
           0.2478225827217102,
           0.36822429299354553,
           0.6412467956542969,
           0.5909804105758667,
           0.3918091356754303,
           0.5315112471580505,
           0.47190219163894653,
           0.25217533111572266,
           0.2609013617038727,
           0.25370004773139954,
           0.23167690634727478,
           0.22148293256759644,
           0.21383948624134064,
           0.16459065675735474,
           0.2814164161682129
          ],
          [
           0.19968068599700928,
           0.19934603571891785,
           0.486904501914978,
           0.4249936640262604,
           0.40961068868637085,
           0.4708414673805237,
           0.4411434531211853,
           0.3160766661167145,
           0.45358026027679443,
           0.2717263102531433,
           0.3417539596557617,
           0.2849411368370056,
           0.31578755378723145,
           0.25201016664505005,
           0.2718396782875061,
           0.6111201643943787,
           0.5093687772750854,
           0.4870813488960266,
           0.4694081246852875,
           0.3484921157360077,
           0.5292170643806458,
           0.4995943307876587,
           0.3750403821468353,
           0.2346246838569641,
           0.22567301988601685,
           0.23411768674850464,
           0.6724783182144165,
           0.5768152475357056,
           0.577290952205658,
           0.9999999403953552,
           0.5286940336227417,
           0.4655720591545105,
           0.3875427544116974,
           0.3790167570114136,
           0.2577604055404663,
           0.29013505578041077,
           0.27890533208847046,
           0.32466936111450195,
           0.34533849358558655,
           0.21090325713157654,
           0.1651996523141861,
           0.32400208711624146,
           0.3499208688735962,
           0.28331565856933594,
           0.2640623152256012,
           0.29953908920288086,
           0.7479308843612671,
           0.6212226748466492,
           0.48984795808792114,
           0.5758298635482788,
           0.594257116317749,
           0.3347596824169159,
           0.3566058278083801,
           0.329567551612854,
           0.2662055790424347,
           0.17239393293857574,
           0.19390340149402618,
           0.13121646642684937,
           0.1847427785396576
          ],
          [
           0.284685879945755,
           0.28389430046081543,
           0.5768968462944031,
           0.5119733810424805,
           0.44624602794647217,
           0.4962264597415924,
           0.40282124280929565,
           0.393079936504364,
           0.4522426724433899,
           0.42031556367874146,
           0.4469202160835266,
           0.3445436358451843,
           0.47130483388900757,
           0.3745221495628357,
           0.3386085629463196,
           0.43185511231422424,
           0.35786300897598267,
           0.3920189142227173,
           0.2893105745315552,
           0.46614572405815125,
           0.4921562373638153,
           0.46620333194732666,
           0.319391667842865,
           0.3644784986972809,
           0.30966946482658386,
           0.29606667160987854,
           0.4281257390975952,
           0.4139416217803955,
           0.38779130578041077,
           0.5286940336227417,
           1.000000238418579,
           0.632817804813385,
           0.6251654624938965,
           0.39088693261146545,
           0.3123631179332733,
           0.3741650879383087,
           0.3168720006942749,
           0.3530343770980835,
           0.37834346294403076,
           0.3223300576210022,
           0.3390997350215912,
           0.474126935005188,
           0.5237205028533936,
           0.29171550273895264,
           0.29233330488204956,
           0.1908659189939499,
           0.48712265491485596,
           0.5287525057792664,
           0.48456794023513794,
           0.4444054365158081,
           0.46916037797927856,
           0.40015488862991333,
           0.320681631565094,
           0.17437231540679932,
           0.1846340447664261,
           0.2960200607776642,
           0.2989410161972046,
           0.23446054756641388,
           0.4447934329509735
          ],
          [
           0.1654430776834488,
           0.1644471287727356,
           0.44594499468803406,
           0.46682384610176086,
           0.5272594094276428,
           0.47552332282066345,
           0.36047273874282837,
           0.41369369626045227,
           0.4172346591949463,
           0.3763878643512726,
           0.3033624291419983,
           0.30692780017852783,
           0.3067297339439392,
           0.3311927914619446,
           0.3164606988430023,
           0.42933398485183716,
           0.34558045864105225,
           0.3667844533920288,
           0.31384947896003723,
           0.35428640246391296,
           0.35320061445236206,
           0.44498366117477417,
           0.5083212852478027,
           0.31230050325393677,
           0.27440592646598816,
           0.245711088180542,
           0.3337971866130829,
           0.36684179306030273,
           0.3840426802635193,
           0.4655720591545105,
           0.632817804813385,
           1,
           0.4834194779396057,
           0.38211607933044434,
           0.3087943196296692,
           0.32044166326522827,
           0.26751381158828735,
           0.3108446002006531,
           0.3524618148803711,
           0.31355080008506775,
           0.32782283425331116,
           0.4079926013946533,
           0.4190426468849182,
           0.29391834139823914,
           0.257597953081131,
           0.24974432587623596,
           0.44730037450790405,
           0.46668940782546997,
           0.46072089672088623,
           0.4705355167388916,
           0.4598637819290161,
           0.40075212717056274,
           0.38046643137931824,
           0.18460771441459656,
           0.1763675957918167,
           0.2352055013179779,
           0.2366807907819748,
           0.1617007553577423,
           0.32791492342948914
          ],
          [
           0.29764482378959656,
           0.29698529839515686,
           0.48042574524879456,
           0.45847955346107483,
           0.3781074583530426,
           0.41713765263557434,
           0.2974253296852112,
           0.3894389271736145,
           0.44526535272598267,
           0.4336821138858795,
           0.3872302770614624,
           0.3336890637874603,
           0.4072510004043579,
           0.3268025517463684,
           0.3159043788909912,
           0.35444605350494385,
           0.34478461742401123,
           0.3014516830444336,
           0.290230393409729,
           0.3583657741546631,
           0.32359880208969116,
           0.4858665466308594,
           0.3252139389514923,
           0.35274970531463623,
           0.3361912667751312,
           0.31875473260879517,
           0.32946616411209106,
           0.35560062527656555,
           0.3770924210548401,
           0.3875427544116974,
           0.6251654624938965,
           0.4834194779396057,
           1.000000238418579,
           0.352364718914032,
           0.35610878467559814,
           0.35358595848083496,
           0.31916388869285583,
           0.3091546893119812,
           0.37388768792152405,
           0.37185752391815186,
           0.24571652710437775,
           0.41962289810180664,
           0.3745844066143036,
           0.31026124954223633,
           0.3087790608406067,
           0.28345394134521484,
           0.4456501007080078,
           0.49195876717567444,
           0.4648309051990509,
           0.43729424476623535,
           0.3912371098995209,
           0.34541213512420654,
           0.3612994849681854,
           0.15551146864891052,
           0.18872866034507751,
           0.23844440281391144,
           0.2016635239124298,
           0.2590884566307068,
           0.5856492519378662
          ],
          [
           0.4089006781578064,
           0.40768876671791077,
           0.2901915907859802,
           0.26394256949424744,
           0.3120589554309845,
           0.3783701956272125,
           0.1645272970199585,
           0.4385179579257965,
           0.5828129053115845,
           0.5806659460067749,
           0.41859668493270874,
           0.5402805209159851,
           0.46125328540802,
           0.5341276526451111,
           0.44905951619148254,
           0.47345858812332153,
           0.37654179334640503,
           0.3540961742401123,
           0.42639559507369995,
           0.44559305906295776,
           0.44558095932006836,
           0.4327685832977295,
           0.4261303246021271,
           0.5391238331794739,
           0.46228763461112976,
           0.38464584946632385,
           0.3735698461532593,
           0.36864039301872253,
           0.36233875155448914,
           0.3790167570114136,
           0.39088693261146545,
           0.38211607933044434,
           0.352364718914032,
           1.0000003576278687,
           0.46532899141311646,
           0.5008976459503174,
           0.6053853034973145,
           0.28345707058906555,
           0.2947838306427002,
           0.36960846185684204,
           0.3365778923034668,
           0.3206191956996918,
           0.37832874059677124,
           0.5055276155471802,
           0.41920220851898193,
           0.3975393772125244,
           0.4066208600997925,
           0.44001710414886475,
           0.35379403829574585,
           0.43915730714797974,
           0.3725270628929138,
           0.33733877539634705,
           0.3114733099937439,
           0.29331308603286743,
           0.2944445013999939,
           0.5044423341751099,
           0.6020981073379517,
           0.3957788348197937,
           0.2945975065231323
          ],
          [
           0.33233314752578735,
           0.3318251073360443,
           0.2345270812511444,
           0.30282896757125854,
           0.2702685594558716,
           0.22436025738716125,
           0.19940167665481567,
           0.4627835154533386,
           0.47844916582107544,
           0.5275104641914368,
           0.394031822681427,
           0.39522141218185425,
           0.4293938875198364,
           0.4284096956253052,
           0.4024783968925476,
           0.38948535919189453,
           0.32140272855758667,
           0.3078140914440155,
           0.3326681852340698,
           0.377938449382782,
           0.3487708270549774,
           0.40868160128593445,
           0.3869200348854065,
           0.4314287006855011,
           0.39752650260925293,
           0.31599438190460205,
           0.298301100730896,
           0.288968026638031,
           0.3233973979949951,
           0.2577604055404663,
           0.3123631179332733,
           0.3087943196296692,
           0.35610878467559814,
           0.46532899141311646,
           1.0000001192092896,
           0.4142851233482361,
           0.40772759914398193,
           0.23690253496170044,
           0.22148364782333374,
           0.3408162295818329,
           0.33062615990638733,
           0.4170182943344116,
           0.3420979976654053,
           0.38501718640327454,
           0.38117945194244385,
           0.33802711963653564,
           0.40495049953460693,
           0.3735118508338928,
           0.4490039348602295,
           0.3702700436115265,
           0.37333542108535767,
           0.2889624536037445,
           0.27887970209121704,
           0.31118637323379517,
           0.2943898141384125,
           0.3246442675590515,
           0.24005842208862305,
           0.2542242407798767,
           0.35816890001296997
          ],
          [
           0.3535166382789612,
           0.3522980213165283,
           0.23705065250396729,
           0.31095248460769653,
           0.28596198558807373,
           0.3112138509750366,
           0.19778788089752197,
           0.4343235492706299,
           0.6001327037811279,
           0.5143330097198486,
           0.4345529079437256,
           0.4783681333065033,
           0.5642492771148682,
           0.42944347858428955,
           0.5683417320251465,
           0.35619062185287476,
           0.42757970094680786,
           0.3111512362957001,
           0.34692877531051636,
           0.44011232256889343,
           0.37124836444854736,
           0.40590500831604004,
           0.3126034140586853,
           0.45292043685913086,
           0.3778761327266693,
           0.4124740958213806,
           0.32938647270202637,
           0.2763443887233734,
           0.3601771593093872,
           0.29013505578041077,
           0.3741650879383087,
           0.32044166326522827,
           0.35358595848083496,
           0.5008976459503174,
           0.4142851233482361,
           1,
           0.5857681632041931,
           0.3276081681251526,
           0.32084715366363525,
           0.30502867698669434,
           0.32891637086868286,
           0.3959050476551056,
           0.38701462745666504,
           0.4430685043334961,
           0.35770145058631897,
           0.3415098786354065,
           0.4032416343688965,
           0.4328863024711609,
           0.43574756383895874,
           0.4131549298763275,
           0.36055856943130493,
           0.39451107382774353,
           0.36721503734588623,
           0.34108442068099976,
           0.323339581489563,
           0.393571674823761,
           0.3637124300003052,
           0.35301440954208374,
           0.286906361579895
          ],
          [
           0.3354300558567047,
           0.33441150188446045,
           0.24108360707759857,
           0.26312369108200073,
           0.26172617077827454,
           0.27053186297416687,
           0.21637487411499023,
           0.44516226649284363,
           0.49919912219047546,
           0.5980794429779053,
           0.45044827461242676,
           0.4938546419143677,
           0.5074853301048279,
           0.4021753966808319,
           0.5007280111312866,
           0.39364534616470337,
           0.4102652668952942,
           0.34624242782592773,
           0.3693961501121521,
           0.4108997583389282,
           0.4842803478240967,
           0.3466613292694092,
           0.3529791235923767,
           0.5133983492851257,
           0.459342896938324,
           0.4030153155326843,
           0.31235232949256897,
           0.2734285891056061,
           0.36810004711151123,
           0.27890533208847046,
           0.3168720006942749,
           0.26751381158828735,
           0.31916388869285583,
           0.6053853034973145,
           0.40772759914398193,
           0.5857681632041931,
           1,
           0.28654319047927856,
           0.2335343062877655,
           0.34819647669792175,
           0.33078935742378235,
           0.3365148901939392,
           0.34803059697151184,
           0.45775872468948364,
           0.40422523021698,
           0.40545397996902466,
           0.35800036787986755,
           0.4321882426738739,
           0.36902934312820435,
           0.39784157276153564,
           0.3306569755077362,
           0.31162720918655396,
           0.29243072867393494,
           0.3227139711380005,
           0.29281723499298096,
           0.41160041093826294,
           0.44286906719207764,
           0.384439617395401,
           0.267887681722641
          ],
          [
           0.20125798881053925,
           0.20079758763313293,
           0.36880388855934143,
           0.3230312466621399,
           0.3108609914779663,
           0.3427317142486572,
           0.288897842168808,
           0.32450753450393677,
           0.43757373094558716,
           0.328449547290802,
           0.32350409030914307,
           0.2802734971046448,
           0.2895136773586273,
           0.2547342777252197,
           0.30896320939064026,
           0.3478490114212036,
           0.36384427547454834,
           0.32897064089775085,
           0.5119302272796631,
           0.5764868855476379,
           0.39413946866989136,
           0.3804103434085846,
           0.39990752935409546,
           0.26999762654304504,
           0.26289770007133484,
           0.20865488052368164,
           0.34033122658729553,
           0.3207247257232666,
           0.3051548898220062,
           0.32466936111450195,
           0.3530343770980835,
           0.3108446002006531,
           0.3091546893119812,
           0.28345707058906555,
           0.23690253496170044,
           0.3276081681251526,
           0.28654319047927856,
           1.0000001192092896,
           0.4931606650352478,
           0.24552485346794128,
           0.2140073925256729,
           0.28562867641448975,
           0.32542192935943604,
           0.30619290471076965,
           0.24337482452392578,
           0.2908296585083008,
           0.45463523268699646,
           0.35729509592056274,
           0.34890174865722656,
           0.36780184507369995,
           0.42065203189849854,
           0.2631908357143402,
           0.26780498027801514,
           0.22465839982032776,
           0.22909337282180786,
           0.23812666535377502,
           0.2445058822631836,
           0.1996537297964096,
           0.31466054916381836
          ],
          [
           0.21015307307243347,
           0.20957402884960175,
           0.459313303232193,
           0.48923397064208984,
           0.4054867923259735,
           0.5092912912368774,
           0.37573495507240295,
           0.33606594800949097,
           0.4417700171470642,
           0.29975980520248413,
           0.29775458574295044,
           0.26002243161201477,
           0.32237792015075684,
           0.2982129156589508,
           0.2844667136669159,
           0.3656594753265381,
           0.38181769847869873,
           0.35301733016967773,
           0.37141603231430054,
           0.45156916975975037,
           0.3488256335258484,
           0.38401514291763306,
           0.3962487578392029,
           0.2106536328792572,
           0.23388472199440002,
           0.17428061366081238,
           0.3242180347442627,
           0.2725202739238739,
           0.21246056258678436,
           0.34533849358558655,
           0.37834346294403076,
           0.3524618148803711,
           0.37388768792152405,
           0.2947838306427002,
           0.22148364782333374,
           0.32084715366363525,
           0.2335343062877655,
           0.4931606650352478,
           1.0000001192092896,
           0.25159406661987305,
           0.21741323173046112,
           0.2755884528160095,
           0.3003438115119934,
           0.31252142786979675,
           0.23251360654830933,
           0.2903481721878052,
           0.3913782238960266,
           0.2595250904560089,
           0.3861731290817261,
           0.30362510681152344,
           0.37897589802742004,
           0.34558483958244324,
           0.32584911584854126,
           0.24221350252628326,
           0.2714571952819824,
           0.20734885334968567,
           0.20961293578147888,
           0.1693631261587143,
           0.31113606691360474
          ],
          [
           0.377994179725647,
           0.3762962222099304,
           0.24708566069602966,
           0.29475727677345276,
           0.25343185663223267,
           0.25181901454925537,
           0.2712843418121338,
           0.4741358757019043,
           0.42526981234550476,
           0.641299843788147,
           0.3820425271987915,
           0.4717872142791748,
           0.3978903889656067,
           0.4684126377105713,
           0.3988485336303711,
           0.2934437394142151,
           0.2804785966873169,
           0.2849504351615906,
           0.2531167268753052,
           0.32514989376068115,
           0.28734612464904785,
           0.30903682112693787,
           0.3608192503452301,
           0.44432592391967773,
           0.49572545289993286,
           0.43113863468170166,
           0.2433035671710968,
           0.2799263000488281,
           0.25381919741630554,
           0.21090325713157654,
           0.3223300576210022,
           0.31355080008506775,
           0.37185752391815186,
           0.36960846185684204,
           0.3408162295818329,
           0.30502867698669434,
           0.34819647669792175,
           0.24552485346794128,
           0.25159406661987305,
           1.000000238418579,
           0.38527989387512207,
           0.42539262771606445,
           0.3380414843559265,
           0.4536358714103699,
           0.42171716690063477,
           0.22422777116298676,
           0.2468133121728897,
           0.4090459942817688,
           0.3003964424133301,
           0.4607144594192505,
           0.2124924510717392,
           0.20183899998664856,
           0.259895920753479,
           0.17746779322624207,
           0.22764794528484344,
           0.40139439702033997,
           0.26576289534568787,
           0.29913973808288574,
           0.23602566123008728
          ],
          [
           0.31958717107772827,
           0.31855541467666626,
           0.18783032894134521,
           0.2177148461341858,
           0.24823880195617676,
           0.2919163703918457,
           0.16680850088596344,
           0.4451901316642761,
           0.4246499240398407,
           0.4782378077507019,
           0.415715754032135,
           0.4777267575263977,
           0.36939263343811035,
           0.4238470792770386,
           0.40134358406066895,
           0.28057724237442017,
           0.2949238419532776,
           0.21886253356933594,
           0.29873496294021606,
           0.33780330419540405,
           0.26853328943252563,
           0.2992255985736847,
           0.31898951530456543,
           0.409464031457901,
           0.41869428753852844,
           0.3529437780380249,
           0.23013988137245178,
           0.30748969316482544,
           0.22834213078022003,
           0.1651996523141861,
           0.3390997350215912,
           0.32782283425331116,
           0.24571652710437775,
           0.3365778923034668,
           0.33062615990638733,
           0.32891637086868286,
           0.33078935742378235,
           0.2140073925256729,
           0.21741323173046112,
           0.38527989387512207,
           1,
           0.45362961292266846,
           0.46238189935684204,
           0.28620606660842896,
           0.3513525724411011,
           0.20271465182304382,
           0.2656269669532776,
           0.36166417598724365,
           0.38522112369537354,
           0.28556832671165466,
           0.20072230696678162,
           0.3805570900440216,
           0.27809977531433105,
           0.13927897810935974,
           0.1935109794139862,
           0.30763667821884155,
           0.30466511845588684,
           0.24860712885856628,
           0.252806156873703
          ],
          [
           0.3342953622341156,
           0.33342641592025757,
           0.3333616554737091,
           0.314933717250824,
           0.30655330419540405,
           0.35995960235595703,
           0.2469206154346466,
           0.4800834655761719,
           0.42461538314819336,
           0.47967761754989624,
           0.40198737382888794,
           0.4147704839706421,
           0.36710619926452637,
           0.472322940826416,
           0.3640758991241455,
           0.4511082172393799,
           0.4391348958015442,
           0.3696972131729126,
           0.3713919520378113,
           0.4099924862384796,
           0.38142600655555725,
           0.4278467893600464,
           0.39017677307128906,
           0.3987487256526947,
           0.4014618992805481,
           0.38387125730514526,
           0.42240849137306213,
           0.41946619749069214,
           0.379375696182251,
           0.32400208711624146,
           0.474126935005188,
           0.4079926013946533,
           0.41962289810180664,
           0.3206191956996918,
           0.4170182943344116,
           0.3959050476551056,
           0.3365148901939392,
           0.28562867641448975,
           0.2755884528160095,
           0.42539262771606445,
           0.45362961292266846,
           0.999999463558197,
           0.5578217506408691,
           0.3516218364238739,
           0.392488956451416,
           0.2783265709877014,
           0.409390926361084,
           0.497631311416626,
           0.5088235139846802,
           0.5077689290046692,
           0.43640902638435364,
           0.36302435398101807,
           0.31813710927963257,
           0.19958072900772095,
           0.22642168402671814,
           0.27676352858543396,
           0.21372447907924652,
           0.30844444036483765,
           0.3856673240661621
          ],
          [
           0.26058900356292725,
           0.25971752405166626,
           0.3437899351119995,
           0.42564302682876587,
           0.380868136882782,
           0.40279096364974976,
           0.2881956398487091,
           0.5176682472229004,
           0.44883257150650024,
           0.4722292423248291,
           0.5505563616752625,
           0.45241671800613403,
           0.4294246435165405,
           0.5071600675582886,
           0.36430782079696655,
           0.40021419525146484,
           0.3889278173446655,
           0.38939231634140015,
           0.37179645895957947,
           0.41568753123283386,
           0.4976974129676819,
           0.40692442655563354,
           0.38878536224365234,
           0.3861674666404724,
           0.3773708939552307,
           0.34436649084091187,
           0.4339790940284729,
           0.4393666386604309,
           0.28395429253578186,
           0.3499208688735962,
           0.5237205028533936,
           0.4190426468849182,
           0.3745844066143036,
           0.37832874059677124,
           0.3420979976654053,
           0.38701462745666504,
           0.34803059697151184,
           0.32542192935943604,
           0.3003438115119934,
           0.3380414843559265,
           0.46238189935684204,
           0.5578217506408691,
           1,
           0.3822273015975952,
           0.34126174449920654,
           0.26459842920303345,
           0.3990936279296875,
           0.4344404935836792,
           0.5394799113273621,
           0.4753287434577942,
           0.42696452140808105,
           0.5746906995773315,
           0.332139253616333,
           0.21681460738182068,
           0.2396428883075714,
           0.27664241194725037,
           0.31898701190948486,
           0.27995750308036804,
           0.2678219676017761
          ],
          [
           0.36771926283836365,
           0.3668056130409241,
           0.19988670945167542,
           0.33064424991607666,
           0.3813377916812897,
           0.3914681673049927,
           0.20495760440826416,
           0.43363407254219055,
           0.5549848079681396,
           0.568130373954773,
           0.48923200368881226,
           0.4522222876548767,
           0.3876369595527649,
           0.4533471465110779,
           0.4592691659927368,
           0.4679071307182312,
           0.38027137517929077,
           0.28424084186553955,
           0.4535152316093445,
           0.40639376640319824,
           0.3160827159881592,
           0.27847427129745483,
           0.3032231330871582,
           0.5180497169494629,
           0.4655453562736511,
           0.39486613869667053,
           0.3591030240058899,
           0.29435449838638306,
           0.29046523571014404,
           0.28331565856933594,
           0.29171550273895264,
           0.29391834139823914,
           0.31026124954223633,
           0.5055276155471802,
           0.38501718640327454,
           0.4430685043334961,
           0.45775872468948364,
           0.30619290471076965,
           0.31252142786979675,
           0.4536358714103699,
           0.28620606660842896,
           0.3516218364238739,
           0.3822273015975952,
           0.9999999403953552,
           0.5665643215179443,
           0.44493457674980164,
           0.3392469584941864,
           0.35010069608688354,
           0.3336113691329956,
           0.5614961385726929,
           0.26681381464004517,
           0.3776012361049652,
           0.3604106307029724,
           0.31458500027656555,
           0.35701626539230347,
           0.42341500520706177,
           0.4248095154762268,
           0.43153899908065796,
           0.18906599283218384
          ],
          [
           0.4117070734500885,
           0.41081351041793823,
           0.1944599449634552,
           0.31583675742149353,
           0.3826262354850769,
           0.2941892147064209,
           0.24953031539916992,
           0.5425481200218201,
           0.48297977447509766,
           0.5914789438247681,
           0.46438533067703247,
           0.4659910202026367,
           0.42986956238746643,
           0.48266005516052246,
           0.46733424067497253,
           0.46754008531570435,
           0.36828380823135376,
           0.3328968286514282,
           0.4484766721725464,
           0.4174846410751343,
           0.32842209935188293,
           0.33538302779197693,
           0.32029080390930176,
           0.48220205307006836,
           0.46172094345092773,
           0.43936681747436523,
           0.31944048404693604,
           0.2687171399593353,
           0.2478225827217102,
           0.2640623152256012,
           0.29233330488204956,
           0.257597953081131,
           0.3087790608406067,
           0.41920220851898193,
           0.38117945194244385,
           0.35770145058631897,
           0.40422523021698,
           0.24337482452392578,
           0.23251360654830933,
           0.42171716690063477,
           0.3513525724411011,
           0.392488956451416,
           0.34126174449920654,
           0.5665643215179443,
           0.9999997615814209,
           0.34944701194763184,
           0.3335724472999573,
           0.3839912712574005,
           0.30515119433403015,
           0.3284643292427063,
           0.24465715885162354,
           0.28969401121139526,
           0.315970242023468,
           0.27633702754974365,
           0.3629947900772095,
           0.3773511052131653,
           0.4364335536956787,
           0.4114491641521454,
           0.23118022084236145
          ],
          [
           0.17471635341644287,
           0.1743965744972229,
           0.19264163076877594,
           0.3750114440917969,
           0.37810537219047546,
           0.4108852744102478,
           0.2650836408138275,
           0.3861957788467407,
           0.4603108763694763,
           0.34161144495010376,
           0.332807719707489,
           0.315764844417572,
           0.26391494274139404,
           0.2321876883506775,
           0.2838660776615143,
           0.4848504066467285,
           0.3259810209274292,
           0.26942914724349976,
           0.44109582901000977,
           0.31853368878364563,
           0.2161952257156372,
           0.2953212559223175,
           0.32114094495773315,
           0.24709376692771912,
           0.2735626995563507,
           0.22724449634552002,
           0.3750954866409302,
           0.255047082901001,
           0.36822429299354553,
           0.29953908920288086,
           0.1908659189939499,
           0.24974432587623596,
           0.28345394134521484,
           0.3975393772125244,
           0.33802711963653564,
           0.3415098786354065,
           0.40545397996902466,
           0.2908296585083008,
           0.2903481721878052,
           0.22422777116298676,
           0.20271465182304382,
           0.2783265709877014,
           0.26459842920303345,
           0.44493457674980164,
           0.34944701194763184,
           0.9999998807907104,
           0.40143296122550964,
           0.251884400844574,
           0.2761384844779968,
           0.29046469926834106,
           0.2859640419483185,
           0.3228285610675812,
           0.36925816535949707,
           0.38106924295425415,
           0.3665173649787903,
           0.24653974175453186,
           0.23331336677074432,
           0.20812717080116272,
           0.1627071052789688
          ],
          [
           0.2567494511604309,
           0.255990207195282,
           0.4832971692085266,
           0.41937658190727234,
           0.41220250725746155,
           0.4683908522129059,
           0.4160592555999756,
           0.46670347452163696,
           0.5793325304985046,
           0.38142573833465576,
           0.39514386653900146,
           0.3850087523460388,
           0.40000540018081665,
           0.33745336532592773,
           0.3344385027885437,
           0.6091718077659607,
           0.527963399887085,
           0.5023887157440186,
           0.5725909471511841,
           0.4600942134857178,
           0.5317724943161011,
           0.5211842656135559,
           0.4667721092700958,
           0.298861026763916,
           0.2918350398540497,
           0.2761527895927429,
           0.635773777961731,
           0.6133259534835815,
           0.6412467956542969,
           0.7479308843612671,
           0.48712265491485596,
           0.44730037450790405,
           0.4456501007080078,
           0.4066208600997925,
           0.40495049953460693,
           0.4032416343688965,
           0.35800036787986755,
           0.45463523268699646,
           0.3913782238960266,
           0.2468133121728897,
           0.2656269669532776,
           0.409390926361084,
           0.3990936279296875,
           0.3392469584941864,
           0.3335724472999573,
           0.40143296122550964,
           1,
           0.7249528765678406,
           0.6210141181945801,
           0.7196646928787231,
           0.7460643649101257,
           0.3458200693130493,
           0.3579379916191101,
           0.34150081872940063,
           0.310702919960022,
           0.2520187199115753,
           0.2608966827392578,
           0.19137516617774963,
           0.3863251209259033
          ],
          [
           0.4463615417480469,
           0.4452366232872009,
           0.4098742604255676,
           0.34712648391723633,
           0.33715081214904785,
           0.34838032722473145,
           0.3078813850879669,
           0.47634056210517883,
           0.5645002126693726,
           0.48745980858802795,
           0.4292634427547455,
           0.39339500665664673,
           0.4977855384349823,
           0.45112478733062744,
           0.4013923406600952,
           0.5212342739105225,
           0.44590362906455994,
           0.424985408782959,
           0.37529855966567993,
           0.4003709554672241,
           0.48055338859558105,
           0.434357225894928,
           0.4470793306827545,
           0.49117380380630493,
           0.3856681287288666,
           0.40262937545776367,
           0.4912799596786499,
           0.5767744779586792,
           0.5909804105758667,
           0.6212226748466492,
           0.5287525057792664,
           0.46668940782546997,
           0.49195876717567444,
           0.44001710414886475,
           0.3735118508338928,
           0.4328863024711609,
           0.4321882426738739,
           0.35729509592056274,
           0.2595250904560089,
           0.4090459942817688,
           0.36166417598724365,
           0.497631311416626,
           0.4344404935836792,
           0.35010069608688354,
           0.3839912712574005,
           0.251884400844574,
           0.7249528765678406,
           1.000000238418579,
           0.5720014572143555,
           0.7878103852272034,
           0.6574944257736206,
           0.3318173289299011,
           0.37465834617614746,
           0.2720852494239807,
           0.2867889702320099,
           0.3786979913711548,
           0.28550803661346436,
           0.37776821851730347,
           0.3960925340652466
          ],
          [
           0.2673935890197754,
           0.26649612188339233,
           0.45151442289352417,
           0.5025115013122559,
           0.4051383435726166,
           0.43338197469711304,
           0.36053717136383057,
           0.5147793292999268,
           0.5127407908439636,
           0.4557338356971741,
           0.3699854016304016,
           0.35455527901649475,
           0.3829391598701477,
           0.3910983204841614,
           0.33782148361206055,
           0.4554210305213928,
           0.5440025329589844,
           0.4207302927970886,
           0.39022117853164673,
           0.4216395616531372,
           0.4966249465942383,
           0.4773988723754883,
           0.4808046221733093,
           0.3457750082015991,
           0.3408261239528656,
           0.2865331470966339,
           0.5297374725341797,
           0.4595186114311218,
           0.3918091356754303,
           0.48984795808792114,
           0.48456794023513794,
           0.46072089672088623,
           0.4648309051990509,
           0.35379403829574585,
           0.4490039348602295,
           0.43574756383895874,
           0.36902934312820435,
           0.34890174865722656,
           0.3861731290817261,
           0.3003964424133301,
           0.38522112369537354,
           0.5088235139846802,
           0.5394799113273621,
           0.3336113691329956,
           0.30515119433403015,
           0.2761384844779968,
           0.6210141181945801,
           0.5720014572143555,
           0.9999997615814209,
           0.5875881910324097,
           0.6479424238204956,
           0.43475332856178284,
           0.3698139786720276,
           0.2622377574443817,
           0.3285001218318939,
           0.20922473073005676,
           0.21770784258842468,
           0.2066049724817276,
           0.4200822114944458
          ],
          [
           0.32798057794570923,
           0.3268051743507385,
           0.39782196283340454,
           0.3687288165092468,
           0.33389919996261597,
           0.41392356157302856,
           0.31010809540748596,
           0.46260714530944824,
           0.5333268046379089,
           0.500656247138977,
           0.39150470495224,
           0.36678194999694824,
           0.4103236794471741,
           0.4505859613418579,
           0.3423219919204712,
           0.4836044907569885,
           0.4508282542228699,
           0.3816547989845276,
           0.4570579528808594,
           0.3897550106048584,
           0.4631774425506592,
           0.4192342758178711,
           0.4024834930896759,
           0.4159882366657257,
           0.39343690872192383,
           0.2665582001209259,
           0.5215691924095154,
           0.5404045581817627,
           0.5315112471580505,
           0.5758298635482788,
           0.4444054365158081,
           0.4705355167388916,
           0.43729424476623535,
           0.43915730714797974,
           0.3702700436115265,
           0.4131549298763275,
           0.39784157276153564,
           0.36780184507369995,
           0.30362510681152344,
           0.4607144594192505,
           0.28556832671165466,
           0.5077689290046692,
           0.4753287434577942,
           0.5614961385726929,
           0.3284643292427063,
           0.29046469926834106,
           0.7196646928787231,
           0.7878103852272034,
           0.5875881910324097,
           0.9999998807907104,
           0.6358504295349121,
           0.3493362069129944,
           0.3062256872653961,
           0.24341127276420593,
           0.24547895789146423,
           0.33226415514945984,
           0.26532575488090515,
           0.2939107418060303,
           0.34557077288627625
          ],
          [
           0.18791210651397705,
           0.18712720274925232,
           0.6125214099884033,
           0.4324626922607422,
           0.4739704132080078,
           0.4360048174858093,
           0.2661600708961487,
           0.4754961133003235,
           0.4845379590988159,
           0.35580146312713623,
           0.3100053668022156,
           0.2732226848602295,
           0.2987317740917206,
           0.32642662525177,
           0.29504433274269104,
           0.5476850271224976,
           0.4032976031303406,
           0.5824897289276123,
           0.41368693113327026,
           0.4776065945625305,
           0.6064008474349976,
           0.5397716760635376,
           0.5399398803710938,
           0.2394607663154602,
           0.24174970388412476,
           0.2172793447971344,
           0.5442321300506592,
           0.5547347068786621,
           0.47190219163894653,
           0.594257116317749,
           0.46916037797927856,
           0.4598637819290161,
           0.3912371098995209,
           0.3725270628929138,
           0.37333542108535767,
           0.36055856943130493,
           0.3306569755077362,
           0.42065203189849854,
           0.37897589802742004,
           0.2124924510717392,
           0.20072230696678162,
           0.43640902638435364,
           0.42696452140808105,
           0.26681381464004517,
           0.24465715885162354,
           0.2859640419483185,
           0.7460643649101257,
           0.6574944257736206,
           0.6479424238204956,
           0.6358504295349121,
           0.9999996423721313,
           0.3154910206794739,
           0.29668301343917847,
           0.2761398255825043,
           0.2913503050804138,
           0.20304563641548157,
           0.2362021654844284,
           0.16066060960292816,
           0.4611390233039856
          ],
          [
           0.23091372847557068,
           0.23053985834121704,
           0.25251305103302,
           0.39719030261039734,
           0.3455263376235962,
           0.3858562111854553,
           0.2586471438407898,
           0.32453712821006775,
           0.42651522159576416,
           0.3389768600463867,
           0.4014565944671631,
           0.3535601496696472,
           0.29736900329589844,
           0.27837276458740234,
           0.22574111819267273,
           0.40026843547821045,
           0.445038765668869,
           0.31758350133895874,
           0.36591964960098267,
           0.30280357599258423,
           0.29768455028533936,
           0.3278852105140686,
           0.27050358057022095,
           0.2996157109737396,
           0.3239152431488037,
           0.29434844851493835,
           0.3527461588382721,
           0.350325345993042,
           0.25217533111572266,
           0.3347596824169159,
           0.40015488862991333,
           0.40075212717056274,
           0.34541213512420654,
           0.33733877539634705,
           0.2889624536037445,
           0.39451107382774353,
           0.31162720918655396,
           0.2631908357143402,
           0.34558483958244324,
           0.20183899998664856,
           0.3805570900440216,
           0.36302435398101807,
           0.5746906995773315,
           0.3776012361049652,
           0.28969401121139526,
           0.3228285610675812,
           0.3458200693130493,
           0.3318173289299011,
           0.43475332856178284,
           0.3493362069129944,
           0.3154910206794739,
           1.000000238418579,
           0.3736763000488281,
           0.32897311449050903,
           0.2451367825269699,
           0.19587573409080505,
           0.2105436623096466,
           0.19283972680568695,
           0.15705794095993042
          ],
          [
           0.3633161187171936,
           0.36297550797462463,
           0.2433841973543167,
           0.4219461977481842,
           0.4606974124908447,
           0.320808470249176,
           0.3090365529060364,
           0.37576156854629517,
           0.5042781829833984,
           0.37206947803497314,
           0.3735003173351288,
           0.3517152965068817,
           0.3382077217102051,
           0.2967684864997864,
           0.3140757381916046,
           0.4838079810142517,
           0.3497641086578369,
           0.42088961601257324,
           0.3213992714881897,
           0.3434146046638489,
           0.30781054496765137,
           0.3889347016811371,
           0.46857190132141113,
           0.34879791736602783,
           0.27182403206825256,
           0.3013829290866852,
           0.37745803594589233,
           0.32448649406433105,
           0.2609013617038727,
           0.3566058278083801,
           0.320681631565094,
           0.38046643137931824,
           0.3612994849681854,
           0.3114733099937439,
           0.27887970209121704,
           0.36721503734588623,
           0.29243072867393494,
           0.26780498027801514,
           0.32584911584854126,
           0.259895920753479,
           0.27809977531433105,
           0.31813710927963257,
           0.332139253616333,
           0.3604106307029724,
           0.315970242023468,
           0.36925816535949707,
           0.3579379916191101,
           0.37465834617614746,
           0.3698139786720276,
           0.3062256872653961,
           0.29668301343917847,
           0.3736763000488281,
           1.0000001192092896,
           0.40719184279441833,
           0.4831917881965637,
           0.26181596517562866,
           0.2232273519039154,
           0.2727512717247009,
           0.14587551355361938
          ],
          [
           0.24623677134513855,
           0.24596214294433594,
           0.22846460342407227,
           0.3275260925292969,
           0.30931586027145386,
           0.2558298110961914,
           0.24830977618694305,
           0.22968608140945435,
           0.3668593168258667,
           0.3040108382701874,
           0.25490161776542664,
           0.22576262056827545,
           0.24621614813804626,
           0.24744567275047302,
           0.252202570438385,
           0.47722750902175903,
           0.28032222390174866,
           0.4705254137516022,
           0.380357563495636,
           0.3218279480934143,
           0.26705002784729004,
           0.2613057494163513,
           0.3121848404407501,
           0.27657341957092285,
           0.2456148862838745,
           0.21497903764247894,
           0.33427661657333374,
           0.23355023562908173,
           0.25370004773139954,
           0.329567551612854,
           0.17437231540679932,
           0.18460771441459656,
           0.15551146864891052,
           0.29331308603286743,
           0.31118637323379517,
           0.34108442068099976,
           0.3227139711380005,
           0.22465839982032776,
           0.24221350252628326,
           0.17746779322624207,
           0.13927897810935974,
           0.19958072900772095,
           0.21681460738182068,
           0.31458500027656555,
           0.27633702754974365,
           0.38106924295425415,
           0.34150081872940063,
           0.2720852494239807,
           0.2622377574443817,
           0.24341127276420593,
           0.2761398255825043,
           0.32897311449050903,
           0.40719184279441833,
           0.9999999403953552,
           0.6028851270675659,
           0.19693559408187866,
           0.16689883172512054,
           0.2161387801170349,
           0.10078664124011993
          ],
          [
           0.32214170694351196,
           0.32165437936782837,
           0.23494398593902588,
           0.3824199438095093,
           0.31855490803718567,
           0.2377391755580902,
           0.29801976680755615,
           0.34890854358673096,
           0.4869857430458069,
           0.3898947238922119,
           0.33902984857559204,
           0.2828160524368286,
           0.32958877086639404,
           0.27880555391311646,
           0.3377078175544739,
           0.5351331830024719,
           0.356640100479126,
           0.4275439381599426,
           0.3699347972869873,
           0.4598548412322998,
           0.21779899299144745,
           0.26046156883239746,
           0.37929248809814453,
           0.3572199046611786,
           0.282233864068985,
           0.2596871256828308,
           0.36514243483543396,
           0.2418711632490158,
           0.23167690634727478,
           0.2662055790424347,
           0.1846340447664261,
           0.1763675957918167,
           0.18872866034507751,
           0.2944445013999939,
           0.2943898141384125,
           0.323339581489563,
           0.29281723499298096,
           0.22909337282180786,
           0.2714571952819824,
           0.22764794528484344,
           0.1935109794139862,
           0.22642168402671814,
           0.2396428883075714,
           0.35701626539230347,
           0.3629947900772095,
           0.3665173649787903,
           0.310702919960022,
           0.2867889702320099,
           0.3285001218318939,
           0.24547895789146423,
           0.2913503050804138,
           0.2451367825269699,
           0.4831917881965637,
           0.6028851270675659,
           1.000000238418579,
           0.3118489980697632,
           0.2095281481742859,
           0.33034709095954895,
           0.18560892343521118
          ],
          [
           0.4791239798069,
           0.478057861328125,
           0.17347721755504608,
           0.17749255895614624,
           0.1893221139907837,
           0.18728914856910706,
           0.14750534296035767,
           0.32484906911849976,
           0.4192606806755066,
           0.45783913135528564,
           0.38104248046875,
           0.34959080815315247,
           0.4540693759918213,
           0.35862302780151367,
           0.38417619466781616,
           0.2680184841156006,
           0.20497450232505798,
           0.18387070298194885,
           0.30336862802505493,
           0.3276984691619873,
           0.27093905210494995,
           0.23539936542510986,
           0.2783871293067932,
           0.6843258142471313,
           0.4363251328468323,
           0.4144601821899414,
           0.173820361495018,
           0.20377704501152039,
           0.22148293256759644,
           0.17239393293857574,
           0.2960200607776642,
           0.2352055013179779,
           0.23844440281391144,
           0.5044423341751099,
           0.3246442675590515,
           0.393571674823761,
           0.41160041093826294,
           0.23812666535377502,
           0.20734885334968567,
           0.40139439702033997,
           0.30763667821884155,
           0.27676352858543396,
           0.27664241194725037,
           0.42341500520706177,
           0.3773511052131653,
           0.24653974175453186,
           0.2520187199115753,
           0.3786979913711548,
           0.20922473073005676,
           0.33226415514945984,
           0.20304563641548157,
           0.19587573409080505,
           0.26181596517562866,
           0.19693559408187866,
           0.3118489980697632,
           0.9999998807907104,
           0.5172275900840759,
           0.6495084762573242,
           0.18245017528533936
          ],
          [
           0.3305703103542328,
           0.33002930879592896,
           0.20902781188488007,
           0.19737200438976288,
           0.21787279844284058,
           0.2784019708633423,
           0.13800778985023499,
           0.4155828356742859,
           0.4578476548194885,
           0.4918019473552704,
           0.3675021529197693,
           0.49805277585983276,
           0.45651644468307495,
           0.4253876209259033,
           0.42874401807785034,
           0.27138781547546387,
           0.23557505011558533,
           0.259651780128479,
           0.2923498749732971,
           0.3396317660808563,
           0.4011656641960144,
           0.34116336703300476,
           0.3403371572494507,
           0.4939254820346832,
           0.3982781171798706,
           0.36981910467147827,
           0.22042813897132874,
           0.19677472114562988,
           0.21383948624134064,
           0.19390340149402618,
           0.2989410161972046,
           0.2366807907819748,
           0.2016635239124298,
           0.6020981073379517,
           0.24005842208862305,
           0.3637124300003052,
           0.44286906719207764,
           0.2445058822631836,
           0.20961293578147888,
           0.26576289534568787,
           0.30466511845588684,
           0.21372447907924652,
           0.31898701190948486,
           0.4248095154762268,
           0.4364335536956787,
           0.23331336677074432,
           0.2608966827392578,
           0.28550803661346436,
           0.21770784258842468,
           0.26532575488090515,
           0.2362021654844284,
           0.2105436623096466,
           0.2232273519039154,
           0.16689883172512054,
           0.2095281481742859,
           0.5172275900840759,
           1.000000238418579,
           0.464200884103775,
           0.19685393571853638
          ],
          [
           0.4656749963760376,
           0.46505245566368103,
           0.09009082615375519,
           0.15242606401443481,
           0.20038676261901855,
           0.12280813604593277,
           0.10847878456115723,
           0.3181298077106476,
           0.37920302152633667,
           0.42718178033828735,
           0.3833252787590027,
           0.3379988372325897,
           0.360162615776062,
           0.33475449681282043,
           0.40045908093452454,
           0.22292768955230713,
           0.25463563203811646,
           0.18640731275081635,
           0.25282639265060425,
           0.3283466398715973,
           0.22053371369838715,
           0.1906556636095047,
           0.23998311161994934,
           0.6538969278335571,
           0.4225207567214966,
           0.48777830600738525,
           0.2012588083744049,
           0.16620604693889618,
           0.16459065675735474,
           0.13121646642684937,
           0.23446054756641388,
           0.1617007553577423,
           0.2590884566307068,
           0.3957788348197937,
           0.2542242407798767,
           0.35301440954208374,
           0.384439617395401,
           0.1996537297964096,
           0.1693631261587143,
           0.29913973808288574,
           0.24860712885856628,
           0.30844444036483765,
           0.27995750308036804,
           0.43153899908065796,
           0.4114491641521454,
           0.20812717080116272,
           0.19137516617774963,
           0.37776821851730347,
           0.2066049724817276,
           0.2939107418060303,
           0.16066060960292816,
           0.19283972680568695,
           0.2727512717247009,
           0.2161387801170349,
           0.33034709095954895,
           0.6495084762573242,
           0.464200884103775,
           1,
           0.1856747269630432
          ],
          [
           0.18950317800045013,
           0.18905414640903473,
           0.4729025959968567,
           0.23762163519859314,
           0.24149340391159058,
           0.2510063052177429,
           0.16175132989883423,
           0.34345436096191406,
           0.31425049901008606,
           0.36839574575424194,
           0.2849336564540863,
           0.25548553466796875,
           0.33754026889801025,
           0.30126041173934937,
           0.25828781723976135,
           0.2625451982021332,
           0.33470040559768677,
           0.3110995292663574,
           0.17499443888664246,
           0.43422931432724,
           0.29536160826683044,
           0.3825923204421997,
           0.33381953835487366,
           0.24979349970817566,
           0.276969313621521,
           0.21952134370803833,
           0.27802300453186035,
           0.28525838255882263,
           0.2814164161682129,
           0.1847427785396576,
           0.4447934329509735,
           0.32791492342948914,
           0.5856492519378662,
           0.2945975065231323,
           0.35816890001296997,
           0.286906361579895,
           0.267887681722641,
           0.31466054916381836,
           0.31113606691360474,
           0.23602566123008728,
           0.252806156873703,
           0.3856673240661621,
           0.2678219676017761,
           0.18906599283218384,
           0.23118022084236145,
           0.1627071052789688,
           0.3863251209259033,
           0.3960925340652466,
           0.4200822114944458,
           0.34557077288627625,
           0.4611390233039856,
           0.15705794095993042,
           0.14587551355361938,
           0.10078664124011993,
           0.18560892343521118,
           0.18245017528533936,
           0.19685393571853638,
           0.1856747269630432,
           1
          ]
         ]
        }
       ],
       "layout": {
        "coloraxis": {
         "colorbar": {
          "title": {
           "text": "Similarity Score"
          }
         },
         "colorscale": [
          [
           0,
           "rgb(247,252,240)"
          ],
          [
           0.125,
           "rgb(224,243,219)"
          ],
          [
           0.25,
           "rgb(204,235,197)"
          ],
          [
           0.375,
           "rgb(168,221,181)"
          ],
          [
           0.5,
           "rgb(123,204,196)"
          ],
          [
           0.625,
           "rgb(78,179,211)"
          ],
          [
           0.75,
           "rgb(43,140,190)"
          ],
          [
           0.875,
           "rgb(8,104,172)"
          ],
          [
           1,
           "rgb(8,64,129)"
          ]
         ]
        },
        "height": 1000,
        "hoverlabel": {
         "bgcolor": "white",
         "font": {
          "family": "Rockwell",
          "size": 16
         }
        },
        "legend": {
         "title": {
          "text": "Trend"
         }
        },
        "margin": {
         "t": 60
        },
        "showlegend": true,
        "template": {
         "data": {
          "bar": [
           {
            "error_x": {
             "color": "#2a3f5f"
            },
            "error_y": {
             "color": "#2a3f5f"
            },
            "marker": {
             "line": {
              "color": "#E5ECF6",
              "width": 0.5
             },
             "pattern": {
              "fillmode": "overlay",
              "size": 10,
              "solidity": 0.2
             }
            },
            "type": "bar"
           }
          ],
          "barpolar": [
           {
            "marker": {
             "line": {
              "color": "#E5ECF6",
              "width": 0.5
             },
             "pattern": {
              "fillmode": "overlay",
              "size": 10,
              "solidity": 0.2
             }
            },
            "type": "barpolar"
           }
          ],
          "carpet": [
           {
            "aaxis": {
             "endlinecolor": "#2a3f5f",
             "gridcolor": "white",
             "linecolor": "white",
             "minorgridcolor": "white",
             "startlinecolor": "#2a3f5f"
            },
            "baxis": {
             "endlinecolor": "#2a3f5f",
             "gridcolor": "white",
             "linecolor": "white",
             "minorgridcolor": "white",
             "startlinecolor": "#2a3f5f"
            },
            "type": "carpet"
           }
          ],
          "choropleth": [
           {
            "colorbar": {
             "outlinewidth": 0,
             "ticks": ""
            },
            "type": "choropleth"
           }
          ],
          "contour": [
           {
            "colorbar": {
             "outlinewidth": 0,
             "ticks": ""
            },
            "colorscale": [
             [
              0,
              "#0d0887"
             ],
             [
              0.1111111111111111,
              "#46039f"
             ],
             [
              0.2222222222222222,
              "#7201a8"
             ],
             [
              0.3333333333333333,
              "#9c179e"
             ],
             [
              0.4444444444444444,
              "#bd3786"
             ],
             [
              0.5555555555555556,
              "#d8576b"
             ],
             [
              0.6666666666666666,
              "#ed7953"
             ],
             [
              0.7777777777777778,
              "#fb9f3a"
             ],
             [
              0.8888888888888888,
              "#fdca26"
             ],
             [
              1,
              "#f0f921"
             ]
            ],
            "type": "contour"
           }
          ],
          "contourcarpet": [
           {
            "colorbar": {
             "outlinewidth": 0,
             "ticks": ""
            },
            "type": "contourcarpet"
           }
          ],
          "heatmap": [
           {
            "colorbar": {
             "outlinewidth": 0,
             "ticks": ""
            },
            "colorscale": [
             [
              0,
              "#0d0887"
             ],
             [
              0.1111111111111111,
              "#46039f"
             ],
             [
              0.2222222222222222,
              "#7201a8"
             ],
             [
              0.3333333333333333,
              "#9c179e"
             ],
             [
              0.4444444444444444,
              "#bd3786"
             ],
             [
              0.5555555555555556,
              "#d8576b"
             ],
             [
              0.6666666666666666,
              "#ed7953"
             ],
             [
              0.7777777777777778,
              "#fb9f3a"
             ],
             [
              0.8888888888888888,
              "#fdca26"
             ],
             [
              1,
              "#f0f921"
             ]
            ],
            "type": "heatmap"
           }
          ],
          "heatmapgl": [
           {
            "colorbar": {
             "outlinewidth": 0,
             "ticks": ""
            },
            "colorscale": [
             [
              0,
              "#0d0887"
             ],
             [
              0.1111111111111111,
              "#46039f"
             ],
             [
              0.2222222222222222,
              "#7201a8"
             ],
             [
              0.3333333333333333,
              "#9c179e"
             ],
             [
              0.4444444444444444,
              "#bd3786"
             ],
             [
              0.5555555555555556,
              "#d8576b"
             ],
             [
              0.6666666666666666,
              "#ed7953"
             ],
             [
              0.7777777777777778,
              "#fb9f3a"
             ],
             [
              0.8888888888888888,
              "#fdca26"
             ],
             [
              1,
              "#f0f921"
             ]
            ],
            "type": "heatmapgl"
           }
          ],
          "histogram": [
           {
            "marker": {
             "pattern": {
              "fillmode": "overlay",
              "size": 10,
              "solidity": 0.2
             }
            },
            "type": "histogram"
           }
          ],
          "histogram2d": [
           {
            "colorbar": {
             "outlinewidth": 0,
             "ticks": ""
            },
            "colorscale": [
             [
              0,
              "#0d0887"
             ],
             [
              0.1111111111111111,
              "#46039f"
             ],
             [
              0.2222222222222222,
              "#7201a8"
             ],
             [
              0.3333333333333333,
              "#9c179e"
             ],
             [
              0.4444444444444444,
              "#bd3786"
             ],
             [
              0.5555555555555556,
              "#d8576b"
             ],
             [
              0.6666666666666666,
              "#ed7953"
             ],
             [
              0.7777777777777778,
              "#fb9f3a"
             ],
             [
              0.8888888888888888,
              "#fdca26"
             ],
             [
              1,
              "#f0f921"
             ]
            ],
            "type": "histogram2d"
           }
          ],
          "histogram2dcontour": [
           {
            "colorbar": {
             "outlinewidth": 0,
             "ticks": ""
            },
            "colorscale": [
             [
              0,
              "#0d0887"
             ],
             [
              0.1111111111111111,
              "#46039f"
             ],
             [
              0.2222222222222222,
              "#7201a8"
             ],
             [
              0.3333333333333333,
              "#9c179e"
             ],
             [
              0.4444444444444444,
              "#bd3786"
             ],
             [
              0.5555555555555556,
              "#d8576b"
             ],
             [
              0.6666666666666666,
              "#ed7953"
             ],
             [
              0.7777777777777778,
              "#fb9f3a"
             ],
             [
              0.8888888888888888,
              "#fdca26"
             ],
             [
              1,
              "#f0f921"
             ]
            ],
            "type": "histogram2dcontour"
           }
          ],
          "mesh3d": [
           {
            "colorbar": {
             "outlinewidth": 0,
             "ticks": ""
            },
            "type": "mesh3d"
           }
          ],
          "parcoords": [
           {
            "line": {
             "colorbar": {
              "outlinewidth": 0,
              "ticks": ""
             }
            },
            "type": "parcoords"
           }
          ],
          "pie": [
           {
            "automargin": true,
            "type": "pie"
           }
          ],
          "scatter": [
           {
            "fillpattern": {
             "fillmode": "overlay",
             "size": 10,
             "solidity": 0.2
            },
            "type": "scatter"
           }
          ],
          "scatter3d": [
           {
            "line": {
             "colorbar": {
              "outlinewidth": 0,
              "ticks": ""
             }
            },
            "marker": {
             "colorbar": {
              "outlinewidth": 0,
              "ticks": ""
             }
            },
            "type": "scatter3d"
           }
          ],
          "scattercarpet": [
           {
            "marker": {
             "colorbar": {
              "outlinewidth": 0,
              "ticks": ""
             }
            },
            "type": "scattercarpet"
           }
          ],
          "scattergeo": [
           {
            "marker": {
             "colorbar": {
              "outlinewidth": 0,
              "ticks": ""
             }
            },
            "type": "scattergeo"
           }
          ],
          "scattergl": [
           {
            "marker": {
             "colorbar": {
              "outlinewidth": 0,
              "ticks": ""
             }
            },
            "type": "scattergl"
           }
          ],
          "scattermapbox": [
           {
            "marker": {
             "colorbar": {
              "outlinewidth": 0,
              "ticks": ""
             }
            },
            "type": "scattermapbox"
           }
          ],
          "scatterpolar": [
           {
            "marker": {
             "colorbar": {
              "outlinewidth": 0,
              "ticks": ""
             }
            },
            "type": "scatterpolar"
           }
          ],
          "scatterpolargl": [
           {
            "marker": {
             "colorbar": {
              "outlinewidth": 0,
              "ticks": ""
             }
            },
            "type": "scatterpolargl"
           }
          ],
          "scatterternary": [
           {
            "marker": {
             "colorbar": {
              "outlinewidth": 0,
              "ticks": ""
             }
            },
            "type": "scatterternary"
           }
          ],
          "surface": [
           {
            "colorbar": {
             "outlinewidth": 0,
             "ticks": ""
            },
            "colorscale": [
             [
              0,
              "#0d0887"
             ],
             [
              0.1111111111111111,
              "#46039f"
             ],
             [
              0.2222222222222222,
              "#7201a8"
             ],
             [
              0.3333333333333333,
              "#9c179e"
             ],
             [
              0.4444444444444444,
              "#bd3786"
             ],
             [
              0.5555555555555556,
              "#d8576b"
             ],
             [
              0.6666666666666666,
              "#ed7953"
             ],
             [
              0.7777777777777778,
              "#fb9f3a"
             ],
             [
              0.8888888888888888,
              "#fdca26"
             ],
             [
              1,
              "#f0f921"
             ]
            ],
            "type": "surface"
           }
          ],
          "table": [
           {
            "cells": {
             "fill": {
              "color": "#EBF0F8"
             },
             "line": {
              "color": "white"
             }
            },
            "header": {
             "fill": {
              "color": "#C8D4E3"
             },
             "line": {
              "color": "white"
             }
            },
            "type": "table"
           }
          ]
         },
         "layout": {
          "annotationdefaults": {
           "arrowcolor": "#2a3f5f",
           "arrowhead": 0,
           "arrowwidth": 1
          },
          "autotypenumbers": "strict",
          "coloraxis": {
           "colorbar": {
            "outlinewidth": 0,
            "ticks": ""
           }
          },
          "colorscale": {
           "diverging": [
            [
             0,
             "#8e0152"
            ],
            [
             0.1,
             "#c51b7d"
            ],
            [
             0.2,
             "#de77ae"
            ],
            [
             0.3,
             "#f1b6da"
            ],
            [
             0.4,
             "#fde0ef"
            ],
            [
             0.5,
             "#f7f7f7"
            ],
            [
             0.6,
             "#e6f5d0"
            ],
            [
             0.7,
             "#b8e186"
            ],
            [
             0.8,
             "#7fbc41"
            ],
            [
             0.9,
             "#4d9221"
            ],
            [
             1,
             "#276419"
            ]
           ],
           "sequential": [
            [
             0,
             "#0d0887"
            ],
            [
             0.1111111111111111,
             "#46039f"
            ],
            [
             0.2222222222222222,
             "#7201a8"
            ],
            [
             0.3333333333333333,
             "#9c179e"
            ],
            [
             0.4444444444444444,
             "#bd3786"
            ],
            [
             0.5555555555555556,
             "#d8576b"
            ],
            [
             0.6666666666666666,
             "#ed7953"
            ],
            [
             0.7777777777777778,
             "#fb9f3a"
            ],
            [
             0.8888888888888888,
             "#fdca26"
            ],
            [
             1,
             "#f0f921"
            ]
           ],
           "sequentialminus": [
            [
             0,
             "#0d0887"
            ],
            [
             0.1111111111111111,
             "#46039f"
            ],
            [
             0.2222222222222222,
             "#7201a8"
            ],
            [
             0.3333333333333333,
             "#9c179e"
            ],
            [
             0.4444444444444444,
             "#bd3786"
            ],
            [
             0.5555555555555556,
             "#d8576b"
            ],
            [
             0.6666666666666666,
             "#ed7953"
            ],
            [
             0.7777777777777778,
             "#fb9f3a"
            ],
            [
             0.8888888888888888,
             "#fdca26"
            ],
            [
             1,
             "#f0f921"
            ]
           ]
          },
          "colorway": [
           "#636efa",
           "#EF553B",
           "#00cc96",
           "#ab63fa",
           "#FFA15A",
           "#19d3f3",
           "#FF6692",
           "#B6E880",
           "#FF97FF",
           "#FECB52"
          ],
          "font": {
           "color": "#2a3f5f"
          },
          "geo": {
           "bgcolor": "white",
           "lakecolor": "white",
           "landcolor": "#E5ECF6",
           "showlakes": true,
           "showland": true,
           "subunitcolor": "white"
          },
          "hoverlabel": {
           "align": "left"
          },
          "hovermode": "closest",
          "mapbox": {
           "style": "light"
          },
          "paper_bgcolor": "white",
          "plot_bgcolor": "#E5ECF6",
          "polar": {
           "angularaxis": {
            "gridcolor": "white",
            "linecolor": "white",
            "ticks": ""
           },
           "bgcolor": "#E5ECF6",
           "radialaxis": {
            "gridcolor": "white",
            "linecolor": "white",
            "ticks": ""
           }
          },
          "scene": {
           "xaxis": {
            "backgroundcolor": "#E5ECF6",
            "gridcolor": "white",
            "gridwidth": 2,
            "linecolor": "white",
            "showbackground": true,
            "ticks": "",
            "zerolinecolor": "white"
           },
           "yaxis": {
            "backgroundcolor": "#E5ECF6",
            "gridcolor": "white",
            "gridwidth": 2,
            "linecolor": "white",
            "showbackground": true,
            "ticks": "",
            "zerolinecolor": "white"
           },
           "zaxis": {
            "backgroundcolor": "#E5ECF6",
            "gridcolor": "white",
            "gridwidth": 2,
            "linecolor": "white",
            "showbackground": true,
            "ticks": "",
            "zerolinecolor": "white"
           }
          },
          "shapedefaults": {
           "line": {
            "color": "#2a3f5f"
           }
          },
          "ternary": {
           "aaxis": {
            "gridcolor": "white",
            "linecolor": "white",
            "ticks": ""
           },
           "baxis": {
            "gridcolor": "white",
            "linecolor": "white",
            "ticks": ""
           },
           "bgcolor": "#E5ECF6",
           "caxis": {
            "gridcolor": "white",
            "linecolor": "white",
            "ticks": ""
           }
          },
          "title": {
           "x": 0.05
          },
          "xaxis": {
           "automargin": true,
           "gridcolor": "white",
           "linecolor": "white",
           "ticks": "",
           "title": {
            "standoff": 15
           },
           "zerolinecolor": "white",
           "zerolinewidth": 2
          },
          "yaxis": {
           "automargin": true,
           "gridcolor": "white",
           "linecolor": "white",
           "ticks": "",
           "title": {
            "standoff": 15
           },
           "zerolinecolor": "white",
           "zerolinewidth": 2
          }
         }
        },
        "title": {
         "font": {
          "color": "Black",
          "size": 22
         },
         "text": "<b>Similarity Matrix</b>",
         "x": 0.55,
         "xanchor": "center",
         "y": 0.95,
         "yanchor": "top"
        },
        "width": 1000,
        "xaxis": {
         "anchor": "y",
         "constrain": "domain",
         "domain": [
          0,
          1
         ],
         "scaleanchor": "y"
        },
        "yaxis": {
         "anchor": "x",
         "autorange": "reversed",
         "constrain": "domain",
         "domain": [
          0,
          1
         ]
        }
       }
      }
     },
     "metadata": {},
     "output_type": "display_data"
    }
   ],
   "source": [
    "topic_model.visualize_heatmap(n_clusters=20, width=1000, height=1000)"
   ]
  },
  {
   "cell_type": "code",
   "execution_count": 15,
   "metadata": {},
   "outputs": [
    {
     "data": {
      "application/vnd.plotly.v1+json": {
       "config": {
        "plotlyServerURL": "https://plot.ly"
       },
       "data": [
        {
         "customdata": [
          [
           0,
           "dint |  |  |  | ",
           167
          ],
          [
           1,
           "meditation | meditation meditation | journey | meditating | astral",
           71
          ],
          [
           2,
           "think | think think | thinking | thought | thought would",
           67
          ],
          [
           3,
           "focus | focusing | distracted | concentrate | focused",
           59
          ],
          [
           4,
           "eye | closed | eye closed | open | eye open",
           56
          ],
          [
           5,
           "one | second one | second | first one | first",
           54
          ],
          [
           6,
           "mirror | body | seeing | seeing body | see",
           52
          ],
          [
           7,
           "outside | environment | go | room | mountain",
           51
          ],
          [
           8,
           "hand | move | moved | platform | move hand",
           44
          ],
          [
           9,
           "reality | virtual | virtual reality | vr | illusion",
           43
          ],
          [
           10,
           "oh | fine | good | ah | sorry",
           41
          ],
          [
           11,
           "touch | touched | touching | touch back | back",
           41
          ],
          [
           12,
           "relaxing | session | relaxed | first session | relax",
           41
          ],
          [
           13,
           "identify | thing | guess | identify didnt | didnt feel",
           37
          ],
          [
           14,
           "strange | weird | normal | unusual | bit weird",
           36
          ],
          [
           15,
           "maybe | would | dont think | maybe maybe | could maybe",
           36
          ],
          [
           16,
           "forest | tree | rock | sitting forest | contact",
           32
          ],
          [
           17,
           "question | explain | dont explain | dont | im",
           32
          ],
          [
           18,
           "voice | sound | bird | guiding | ear",
           31
          ],
          [
           19,
           "experience | experience experience | different experience | experience interesting | say experience",
           30
          ],
          [
           20,
           "dont dont | dont | want dont | dont want | anything dont",
           30
          ],
          [
           21,
           "three | three body | third | body | two",
           29
          ],
          [
           22,
           "come | back | come back | back come | back youre",
           29
          ],
          [
           23,
           "saw | saw saw | saw body | body saw | dark",
           28
          ],
          [
           24,
           "thats | thats thats | nah | nah thats | true thats",
           27
          ],
          [
           25,
           "didnt | didnt see | notice | didnt pay | didnt notice",
           27
          ],
          [
           26,
           " |  |  |  | ",
           25
          ],
          [
           27,
           "mean | mean mean | mean dont | mean understand | mean thats",
           24
          ],
          [
           28,
           "breathing | noticed | breath | breathe | every time",
           23
          ],
          [
           29,
           "color | changing | color changing | yellow | different color",
           22
          ],
          [
           30,
           "asleep | sleep | falling asleep | fall | falling",
           19
          ],
          [
           31,
           "felt | would make | see felt | felt would | felt felt",
           19
          ],
          [
           32,
           "feel feel | feel | ah feel | equally feel | feel love",
           19
          ],
          [
           33,
           "better | easy | easier | difficult | better better",
           17
          ],
          [
           34,
           "see see | technical | see | technical production | production",
           17
          ],
          [
           35,
           "delay | wait | slow | delayed | bit delay",
           15
          ],
          [
           36,
           "pixel | pixelized | quality pixel | quality | wondering",
           14
          ],
          [
           37,
           "time | second time | time difference | time actually | second",
           14
          ],
          [
           38,
           "scary | fear | frightening | bit frightening | sensation thought",
           14
          ],
          [
           39,
           "sometimes | said sometimes | sometimes see | always sometimes | said",
           14
          ],
          [
           40,
           "calm | calm calm | calmer | calm feel | feel calmer",
           14
          ],
          [
           41,
           "little | bit | little bit | little change | change",
           13
          ],
          [
           42,
           "sure | im sure | sure im | course | im",
           13
          ],
          [
           43,
           "lot | relate lot | relate | much | lot dont",
           13
          ],
          [
           44,
           "different | bit different | different different | different everyday | ah change",
           13
          ],
          [
           45,
           "moment | emotion | moment dont | perhaps felt | perhaps",
           13
          ],
          [
           46,
           "avatar | blinking | flash | point point | blinking blinking",
           13
          ],
          [
           47,
           "nice nice | nice | fun nice | option thats | nice fun",
           12
          ],
          [
           48,
           "lighter | heavier | felt heavier | felt lighter | weight body",
           12
          ],
          [
           49,
           "interesting | interesting interesting | interesting better | fascinating interesting | interesting well",
           12
          ],
          [
           50,
           "image | camera | picture | camera example | click image",
           12
          ],
          [
           51,
           "cool | cool cool | cool nice | cool otherwise | nice cool",
           12
          ],
          [
           52,
           "dream | butterfly | dreaming | imagine | probably",
           11
          ],
          [
           53,
           "sensation | feel sensation | able | floating | definitely",
           11
          ],
          [
           54,
           "peaceful | peace | feel peace | peaceful nice | peaceful well",
           11
          ],
          [
           55,
           "end | day | end day | long | longer",
           11
          ],
          [
           56,
           "leg | focus leg | heart | focus | focus heart",
           10
          ],
          [
           57,
           "didnt feel | didnt | felt didnt | feel | stuff didnt",
           10
          ],
          [
           58,
           "felt | first saw | felt wave | wave | made",
           10
          ]
         ],
         "hovertemplate": "<b>Topic %{customdata[0]}</b><br>%{customdata[1]}<br>Size: %{customdata[2]}",
         "legendgroup": "",
         "marker": {
          "color": "#B0BEC5",
          "line": {
           "color": "DarkSlateGrey",
           "width": 2
          },
          "size": [
           167,
           71,
           67,
           59,
           56,
           54,
           52,
           51,
           44,
           43,
           41,
           41,
           41,
           37,
           36,
           36,
           32,
           32,
           31,
           30,
           30,
           29,
           29,
           28,
           27,
           27,
           25,
           24,
           23,
           22,
           19,
           19,
           19,
           17,
           17,
           15,
           14,
           14,
           14,
           14,
           14,
           13,
           13,
           13,
           13,
           13,
           13,
           12,
           12,
           12,
           12,
           12,
           11,
           11,
           11,
           11,
           10,
           10,
           10
          ],
          "sizemode": "area",
          "sizeref": 0.104375,
          "symbol": "circle"
         },
         "mode": "markers",
         "name": "",
         "orientation": "v",
         "showlegend": false,
         "type": "scatter",
         "x": [
          11.260817527770996,
          -7.039477348327637,
          10.291128158569336,
          -4.738391876220703,
          -4.778975486755371,
          8.641532897949219,
          -8.484094619750977,
          5.874120712280273,
          -7.783251762390137,
          -8.701228141784668,
          -0.0794469565153122,
          -7.853882312774658,
          -2.2519516944885254,
          10.054954528808594,
          15.81033992767334,
          3.24927020072937,
          5.8738837242126465,
          8.852570533752441,
          -4.913665294647217,
          -7.550142765045166,
          9.26949691772461,
          -8.410112380981445,
          4.383123397827148,
          -8.550426483154297,
          0.11389442533254623,
          8.799774169921875,
          11.260651588439941,
          8.881534576416016,
          -5.018651485443115,
          -8.681878089904785,
          -2.138720989227295,
          -7.516915321350098,
          6.44019889831543,
          10.187698364257812,
          8.987584114074707,
          4.2171454429626465,
          9.995097160339355,
          4.361891269683838,
          -7.564580917358398,
          8.899202346801758,
          -2.48372745513916,
          10.600811004638672,
          3.249223470687866,
          10.709183692932129,
          15.730009078979492,
          -7.39664888381958,
          10.281914710998535,
          -0.18823722004890442,
          -7.443602561950684,
          15.877609252929688,
          9.964482307434082,
          -0.07707234472036362,
          10.415335655212402,
          -7.597053050994873,
          -2.5516934394836426,
          8.545333862304688,
          -4.789313793182373,
          6.4401702880859375,
          -7.496419906616211
         ],
         "xaxis": "x",
         "y": [
          -5.637402534484863,
          16.629762649536133,
          -0.8916566967964172,
          0.7344920039176941,
          0.6935293078422546,
          -1.6745191812515259,
          14.971924781799316,
          9.478309631347656,
          14.890055656433105,
          14.854707717895508,
          -5.069941520690918,
          15.058145523071289,
          -8.434484481811523,
          -0.6674194931983948,
          -1.1233947277069092,
          -13.417020797729492,
          9.478219985961914,
          -1.733746886253357,
          0.5467818975448608,
          16.923418045043945,
          -1.7616832256317139,
          14.509601593017578,
          5.485208988189697,
          14.620099067687988,
          -4.876036167144775,
          -1.939340353012085,
          -5.6365742683410645,
          -1.1990382671356201,
          0.44577455520629883,
          14.76324462890625,
          -8.321386337280273,
          16.03628158569336,
          -7.136600017547607,
          -0.5582970976829529,
          -1.6892462968826294,
          5.6514787673950195,
          11.430617332458496,
          5.506843090057373,
          16.978750228881836,
          -1.5028949975967407,
          -8.665935516357422,
          0.06533920019865036,
          -13.416895866394043,
          0.17791277170181274,
          -1.0436952114105225,
          16.600624084472656,
          -0.48187148571014404,
          -5.180354118347168,
          15.918058395385742,
          -1.1908236742019653,
          11.400228500366211,
          -5.067331314086914,
          -1.0025644302368164,
          15.420063972473145,
          -8.733785629272461,
          -1.7870534658432007,
          0.6817764043807983,
          -7.136280536651611,
          16.65875244140625
         ],
         "yaxis": "y"
        }
       ],
       "layout": {
        "annotations": [
         {
          "showarrow": false,
          "text": "D1",
          "x": -10.006412506103516,
          "y": 2.0479941368103027,
          "yshift": 10
         },
         {
          "showarrow": false,
          "text": "D2",
          "x": 4.1264190673828125,
          "xshift": 10,
          "y": 19.525562286376953
         }
        ],
        "height": 650,
        "hoverlabel": {
         "bgcolor": "white",
         "font": {
          "family": "Rockwell",
          "size": 16
         }
        },
        "legend": {
         "itemsizing": "constant",
         "tracegroupgap": 0
        },
        "margin": {
         "t": 60
        },
        "shapes": [
         {
          "line": {
           "color": "#CFD8DC",
           "width": 2
          },
          "type": "line",
          "x0": 4.1264190673828125,
          "x1": 4.1264190673828125,
          "y0": -15.429574012756348,
          "y1": 19.525562286376953
         },
         {
          "line": {
           "color": "#9E9E9E",
           "width": 2
          },
          "type": "line",
          "x0": -10.006412506103516,
          "x1": 18.25925064086914,
          "y0": 2.0479941368103027,
          "y1": 2.0479941368103027
         }
        ],
        "sliders": [
         {
          "active": 0,
          "pad": {
           "t": 50
          },
          "steps": [
           {
            "args": [
             {
              "marker.color": [
               [
                "red",
                "#B0BEC5",
                "#B0BEC5",
                "#B0BEC5",
                "#B0BEC5",
                "#B0BEC5",
                "#B0BEC5",
                "#B0BEC5",
                "#B0BEC5",
                "#B0BEC5",
                "#B0BEC5",
                "#B0BEC5",
                "#B0BEC5",
                "#B0BEC5",
                "#B0BEC5",
                "#B0BEC5",
                "#B0BEC5",
                "#B0BEC5",
                "#B0BEC5",
                "#B0BEC5",
                "#B0BEC5",
                "#B0BEC5",
                "#B0BEC5",
                "#B0BEC5",
                "#B0BEC5",
                "#B0BEC5",
                "#B0BEC5",
                "#B0BEC5",
                "#B0BEC5",
                "#B0BEC5",
                "#B0BEC5",
                "#B0BEC5",
                "#B0BEC5",
                "#B0BEC5",
                "#B0BEC5",
                "#B0BEC5",
                "#B0BEC5",
                "#B0BEC5",
                "#B0BEC5",
                "#B0BEC5",
                "#B0BEC5",
                "#B0BEC5",
                "#B0BEC5",
                "#B0BEC5",
                "#B0BEC5",
                "#B0BEC5",
                "#B0BEC5",
                "#B0BEC5",
                "#B0BEC5",
                "#B0BEC5",
                "#B0BEC5",
                "#B0BEC5",
                "#B0BEC5",
                "#B0BEC5",
                "#B0BEC5",
                "#B0BEC5",
                "#B0BEC5",
                "#B0BEC5",
                "#B0BEC5"
               ]
              ]
             }
            ],
            "label": "Topic 0",
            "method": "update"
           },
           {
            "args": [
             {
              "marker.color": [
               [
                "#B0BEC5",
                "red",
                "#B0BEC5",
                "#B0BEC5",
                "#B0BEC5",
                "#B0BEC5",
                "#B0BEC5",
                "#B0BEC5",
                "#B0BEC5",
                "#B0BEC5",
                "#B0BEC5",
                "#B0BEC5",
                "#B0BEC5",
                "#B0BEC5",
                "#B0BEC5",
                "#B0BEC5",
                "#B0BEC5",
                "#B0BEC5",
                "#B0BEC5",
                "#B0BEC5",
                "#B0BEC5",
                "#B0BEC5",
                "#B0BEC5",
                "#B0BEC5",
                "#B0BEC5",
                "#B0BEC5",
                "#B0BEC5",
                "#B0BEC5",
                "#B0BEC5",
                "#B0BEC5",
                "#B0BEC5",
                "#B0BEC5",
                "#B0BEC5",
                "#B0BEC5",
                "#B0BEC5",
                "#B0BEC5",
                "#B0BEC5",
                "#B0BEC5",
                "#B0BEC5",
                "#B0BEC5",
                "#B0BEC5",
                "#B0BEC5",
                "#B0BEC5",
                "#B0BEC5",
                "#B0BEC5",
                "#B0BEC5",
                "#B0BEC5",
                "#B0BEC5",
                "#B0BEC5",
                "#B0BEC5",
                "#B0BEC5",
                "#B0BEC5",
                "#B0BEC5",
                "#B0BEC5",
                "#B0BEC5",
                "#B0BEC5",
                "#B0BEC5",
                "#B0BEC5",
                "#B0BEC5"
               ]
              ]
             }
            ],
            "label": "Topic 1",
            "method": "update"
           },
           {
            "args": [
             {
              "marker.color": [
               [
                "#B0BEC5",
                "#B0BEC5",
                "red",
                "#B0BEC5",
                "#B0BEC5",
                "#B0BEC5",
                "#B0BEC5",
                "#B0BEC5",
                "#B0BEC5",
                "#B0BEC5",
                "#B0BEC5",
                "#B0BEC5",
                "#B0BEC5",
                "#B0BEC5",
                "#B0BEC5",
                "#B0BEC5",
                "#B0BEC5",
                "#B0BEC5",
                "#B0BEC5",
                "#B0BEC5",
                "#B0BEC5",
                "#B0BEC5",
                "#B0BEC5",
                "#B0BEC5",
                "#B0BEC5",
                "#B0BEC5",
                "#B0BEC5",
                "#B0BEC5",
                "#B0BEC5",
                "#B0BEC5",
                "#B0BEC5",
                "#B0BEC5",
                "#B0BEC5",
                "#B0BEC5",
                "#B0BEC5",
                "#B0BEC5",
                "#B0BEC5",
                "#B0BEC5",
                "#B0BEC5",
                "#B0BEC5",
                "#B0BEC5",
                "#B0BEC5",
                "#B0BEC5",
                "#B0BEC5",
                "#B0BEC5",
                "#B0BEC5",
                "#B0BEC5",
                "#B0BEC5",
                "#B0BEC5",
                "#B0BEC5",
                "#B0BEC5",
                "#B0BEC5",
                "#B0BEC5",
                "#B0BEC5",
                "#B0BEC5",
                "#B0BEC5",
                "#B0BEC5",
                "#B0BEC5",
                "#B0BEC5"
               ]
              ]
             }
            ],
            "label": "Topic 2",
            "method": "update"
           },
           {
            "args": [
             {
              "marker.color": [
               [
                "#B0BEC5",
                "#B0BEC5",
                "#B0BEC5",
                "red",
                "#B0BEC5",
                "#B0BEC5",
                "#B0BEC5",
                "#B0BEC5",
                "#B0BEC5",
                "#B0BEC5",
                "#B0BEC5",
                "#B0BEC5",
                "#B0BEC5",
                "#B0BEC5",
                "#B0BEC5",
                "#B0BEC5",
                "#B0BEC5",
                "#B0BEC5",
                "#B0BEC5",
                "#B0BEC5",
                "#B0BEC5",
                "#B0BEC5",
                "#B0BEC5",
                "#B0BEC5",
                "#B0BEC5",
                "#B0BEC5",
                "#B0BEC5",
                "#B0BEC5",
                "#B0BEC5",
                "#B0BEC5",
                "#B0BEC5",
                "#B0BEC5",
                "#B0BEC5",
                "#B0BEC5",
                "#B0BEC5",
                "#B0BEC5",
                "#B0BEC5",
                "#B0BEC5",
                "#B0BEC5",
                "#B0BEC5",
                "#B0BEC5",
                "#B0BEC5",
                "#B0BEC5",
                "#B0BEC5",
                "#B0BEC5",
                "#B0BEC5",
                "#B0BEC5",
                "#B0BEC5",
                "#B0BEC5",
                "#B0BEC5",
                "#B0BEC5",
                "#B0BEC5",
                "#B0BEC5",
                "#B0BEC5",
                "#B0BEC5",
                "#B0BEC5",
                "#B0BEC5",
                "#B0BEC5",
                "#B0BEC5"
               ]
              ]
             }
            ],
            "label": "Topic 3",
            "method": "update"
           },
           {
            "args": [
             {
              "marker.color": [
               [
                "#B0BEC5",
                "#B0BEC5",
                "#B0BEC5",
                "#B0BEC5",
                "red",
                "#B0BEC5",
                "#B0BEC5",
                "#B0BEC5",
                "#B0BEC5",
                "#B0BEC5",
                "#B0BEC5",
                "#B0BEC5",
                "#B0BEC5",
                "#B0BEC5",
                "#B0BEC5",
                "#B0BEC5",
                "#B0BEC5",
                "#B0BEC5",
                "#B0BEC5",
                "#B0BEC5",
                "#B0BEC5",
                "#B0BEC5",
                "#B0BEC5",
                "#B0BEC5",
                "#B0BEC5",
                "#B0BEC5",
                "#B0BEC5",
                "#B0BEC5",
                "#B0BEC5",
                "#B0BEC5",
                "#B0BEC5",
                "#B0BEC5",
                "#B0BEC5",
                "#B0BEC5",
                "#B0BEC5",
                "#B0BEC5",
                "#B0BEC5",
                "#B0BEC5",
                "#B0BEC5",
                "#B0BEC5",
                "#B0BEC5",
                "#B0BEC5",
                "#B0BEC5",
                "#B0BEC5",
                "#B0BEC5",
                "#B0BEC5",
                "#B0BEC5",
                "#B0BEC5",
                "#B0BEC5",
                "#B0BEC5",
                "#B0BEC5",
                "#B0BEC5",
                "#B0BEC5",
                "#B0BEC5",
                "#B0BEC5",
                "#B0BEC5",
                "#B0BEC5",
                "#B0BEC5",
                "#B0BEC5"
               ]
              ]
             }
            ],
            "label": "Topic 4",
            "method": "update"
           },
           {
            "args": [
             {
              "marker.color": [
               [
                "#B0BEC5",
                "#B0BEC5",
                "#B0BEC5",
                "#B0BEC5",
                "#B0BEC5",
                "red",
                "#B0BEC5",
                "#B0BEC5",
                "#B0BEC5",
                "#B0BEC5",
                "#B0BEC5",
                "#B0BEC5",
                "#B0BEC5",
                "#B0BEC5",
                "#B0BEC5",
                "#B0BEC5",
                "#B0BEC5",
                "#B0BEC5",
                "#B0BEC5",
                "#B0BEC5",
                "#B0BEC5",
                "#B0BEC5",
                "#B0BEC5",
                "#B0BEC5",
                "#B0BEC5",
                "#B0BEC5",
                "#B0BEC5",
                "#B0BEC5",
                "#B0BEC5",
                "#B0BEC5",
                "#B0BEC5",
                "#B0BEC5",
                "#B0BEC5",
                "#B0BEC5",
                "#B0BEC5",
                "#B0BEC5",
                "#B0BEC5",
                "#B0BEC5",
                "#B0BEC5",
                "#B0BEC5",
                "#B0BEC5",
                "#B0BEC5",
                "#B0BEC5",
                "#B0BEC5",
                "#B0BEC5",
                "#B0BEC5",
                "#B0BEC5",
                "#B0BEC5",
                "#B0BEC5",
                "#B0BEC5",
                "#B0BEC5",
                "#B0BEC5",
                "#B0BEC5",
                "#B0BEC5",
                "#B0BEC5",
                "#B0BEC5",
                "#B0BEC5",
                "#B0BEC5",
                "#B0BEC5"
               ]
              ]
             }
            ],
            "label": "Topic 5",
            "method": "update"
           },
           {
            "args": [
             {
              "marker.color": [
               [
                "#B0BEC5",
                "#B0BEC5",
                "#B0BEC5",
                "#B0BEC5",
                "#B0BEC5",
                "#B0BEC5",
                "red",
                "#B0BEC5",
                "#B0BEC5",
                "#B0BEC5",
                "#B0BEC5",
                "#B0BEC5",
                "#B0BEC5",
                "#B0BEC5",
                "#B0BEC5",
                "#B0BEC5",
                "#B0BEC5",
                "#B0BEC5",
                "#B0BEC5",
                "#B0BEC5",
                "#B0BEC5",
                "#B0BEC5",
                "#B0BEC5",
                "#B0BEC5",
                "#B0BEC5",
                "#B0BEC5",
                "#B0BEC5",
                "#B0BEC5",
                "#B0BEC5",
                "#B0BEC5",
                "#B0BEC5",
                "#B0BEC5",
                "#B0BEC5",
                "#B0BEC5",
                "#B0BEC5",
                "#B0BEC5",
                "#B0BEC5",
                "#B0BEC5",
                "#B0BEC5",
                "#B0BEC5",
                "#B0BEC5",
                "#B0BEC5",
                "#B0BEC5",
                "#B0BEC5",
                "#B0BEC5",
                "#B0BEC5",
                "#B0BEC5",
                "#B0BEC5",
                "#B0BEC5",
                "#B0BEC5",
                "#B0BEC5",
                "#B0BEC5",
                "#B0BEC5",
                "#B0BEC5",
                "#B0BEC5",
                "#B0BEC5",
                "#B0BEC5",
                "#B0BEC5",
                "#B0BEC5"
               ]
              ]
             }
            ],
            "label": "Topic 6",
            "method": "update"
           },
           {
            "args": [
             {
              "marker.color": [
               [
                "#B0BEC5",
                "#B0BEC5",
                "#B0BEC5",
                "#B0BEC5",
                "#B0BEC5",
                "#B0BEC5",
                "#B0BEC5",
                "red",
                "#B0BEC5",
                "#B0BEC5",
                "#B0BEC5",
                "#B0BEC5",
                "#B0BEC5",
                "#B0BEC5",
                "#B0BEC5",
                "#B0BEC5",
                "#B0BEC5",
                "#B0BEC5",
                "#B0BEC5",
                "#B0BEC5",
                "#B0BEC5",
                "#B0BEC5",
                "#B0BEC5",
                "#B0BEC5",
                "#B0BEC5",
                "#B0BEC5",
                "#B0BEC5",
                "#B0BEC5",
                "#B0BEC5",
                "#B0BEC5",
                "#B0BEC5",
                "#B0BEC5",
                "#B0BEC5",
                "#B0BEC5",
                "#B0BEC5",
                "#B0BEC5",
                "#B0BEC5",
                "#B0BEC5",
                "#B0BEC5",
                "#B0BEC5",
                "#B0BEC5",
                "#B0BEC5",
                "#B0BEC5",
                "#B0BEC5",
                "#B0BEC5",
                "#B0BEC5",
                "#B0BEC5",
                "#B0BEC5",
                "#B0BEC5",
                "#B0BEC5",
                "#B0BEC5",
                "#B0BEC5",
                "#B0BEC5",
                "#B0BEC5",
                "#B0BEC5",
                "#B0BEC5",
                "#B0BEC5",
                "#B0BEC5",
                "#B0BEC5"
               ]
              ]
             }
            ],
            "label": "Topic 7",
            "method": "update"
           },
           {
            "args": [
             {
              "marker.color": [
               [
                "#B0BEC5",
                "#B0BEC5",
                "#B0BEC5",
                "#B0BEC5",
                "#B0BEC5",
                "#B0BEC5",
                "#B0BEC5",
                "#B0BEC5",
                "red",
                "#B0BEC5",
                "#B0BEC5",
                "#B0BEC5",
                "#B0BEC5",
                "#B0BEC5",
                "#B0BEC5",
                "#B0BEC5",
                "#B0BEC5",
                "#B0BEC5",
                "#B0BEC5",
                "#B0BEC5",
                "#B0BEC5",
                "#B0BEC5",
                "#B0BEC5",
                "#B0BEC5",
                "#B0BEC5",
                "#B0BEC5",
                "#B0BEC5",
                "#B0BEC5",
                "#B0BEC5",
                "#B0BEC5",
                "#B0BEC5",
                "#B0BEC5",
                "#B0BEC5",
                "#B0BEC5",
                "#B0BEC5",
                "#B0BEC5",
                "#B0BEC5",
                "#B0BEC5",
                "#B0BEC5",
                "#B0BEC5",
                "#B0BEC5",
                "#B0BEC5",
                "#B0BEC5",
                "#B0BEC5",
                "#B0BEC5",
                "#B0BEC5",
                "#B0BEC5",
                "#B0BEC5",
                "#B0BEC5",
                "#B0BEC5",
                "#B0BEC5",
                "#B0BEC5",
                "#B0BEC5",
                "#B0BEC5",
                "#B0BEC5",
                "#B0BEC5",
                "#B0BEC5",
                "#B0BEC5",
                "#B0BEC5"
               ]
              ]
             }
            ],
            "label": "Topic 8",
            "method": "update"
           },
           {
            "args": [
             {
              "marker.color": [
               [
                "#B0BEC5",
                "#B0BEC5",
                "#B0BEC5",
                "#B0BEC5",
                "#B0BEC5",
                "#B0BEC5",
                "#B0BEC5",
                "#B0BEC5",
                "#B0BEC5",
                "red",
                "#B0BEC5",
                "#B0BEC5",
                "#B0BEC5",
                "#B0BEC5",
                "#B0BEC5",
                "#B0BEC5",
                "#B0BEC5",
                "#B0BEC5",
                "#B0BEC5",
                "#B0BEC5",
                "#B0BEC5",
                "#B0BEC5",
                "#B0BEC5",
                "#B0BEC5",
                "#B0BEC5",
                "#B0BEC5",
                "#B0BEC5",
                "#B0BEC5",
                "#B0BEC5",
                "#B0BEC5",
                "#B0BEC5",
                "#B0BEC5",
                "#B0BEC5",
                "#B0BEC5",
                "#B0BEC5",
                "#B0BEC5",
                "#B0BEC5",
                "#B0BEC5",
                "#B0BEC5",
                "#B0BEC5",
                "#B0BEC5",
                "#B0BEC5",
                "#B0BEC5",
                "#B0BEC5",
                "#B0BEC5",
                "#B0BEC5",
                "#B0BEC5",
                "#B0BEC5",
                "#B0BEC5",
                "#B0BEC5",
                "#B0BEC5",
                "#B0BEC5",
                "#B0BEC5",
                "#B0BEC5",
                "#B0BEC5",
                "#B0BEC5",
                "#B0BEC5",
                "#B0BEC5",
                "#B0BEC5"
               ]
              ]
             }
            ],
            "label": "Topic 9",
            "method": "update"
           },
           {
            "args": [
             {
              "marker.color": [
               [
                "#B0BEC5",
                "#B0BEC5",
                "#B0BEC5",
                "#B0BEC5",
                "#B0BEC5",
                "#B0BEC5",
                "#B0BEC5",
                "#B0BEC5",
                "#B0BEC5",
                "#B0BEC5",
                "red",
                "#B0BEC5",
                "#B0BEC5",
                "#B0BEC5",
                "#B0BEC5",
                "#B0BEC5",
                "#B0BEC5",
                "#B0BEC5",
                "#B0BEC5",
                "#B0BEC5",
                "#B0BEC5",
                "#B0BEC5",
                "#B0BEC5",
                "#B0BEC5",
                "#B0BEC5",
                "#B0BEC5",
                "#B0BEC5",
                "#B0BEC5",
                "#B0BEC5",
                "#B0BEC5",
                "#B0BEC5",
                "#B0BEC5",
                "#B0BEC5",
                "#B0BEC5",
                "#B0BEC5",
                "#B0BEC5",
                "#B0BEC5",
                "#B0BEC5",
                "#B0BEC5",
                "#B0BEC5",
                "#B0BEC5",
                "#B0BEC5",
                "#B0BEC5",
                "#B0BEC5",
                "#B0BEC5",
                "#B0BEC5",
                "#B0BEC5",
                "#B0BEC5",
                "#B0BEC5",
                "#B0BEC5",
                "#B0BEC5",
                "#B0BEC5",
                "#B0BEC5",
                "#B0BEC5",
                "#B0BEC5",
                "#B0BEC5",
                "#B0BEC5",
                "#B0BEC5",
                "#B0BEC5"
               ]
              ]
             }
            ],
            "label": "Topic 10",
            "method": "update"
           },
           {
            "args": [
             {
              "marker.color": [
               [
                "#B0BEC5",
                "#B0BEC5",
                "#B0BEC5",
                "#B0BEC5",
                "#B0BEC5",
                "#B0BEC5",
                "#B0BEC5",
                "#B0BEC5",
                "#B0BEC5",
                "#B0BEC5",
                "#B0BEC5",
                "red",
                "#B0BEC5",
                "#B0BEC5",
                "#B0BEC5",
                "#B0BEC5",
                "#B0BEC5",
                "#B0BEC5",
                "#B0BEC5",
                "#B0BEC5",
                "#B0BEC5",
                "#B0BEC5",
                "#B0BEC5",
                "#B0BEC5",
                "#B0BEC5",
                "#B0BEC5",
                "#B0BEC5",
                "#B0BEC5",
                "#B0BEC5",
                "#B0BEC5",
                "#B0BEC5",
                "#B0BEC5",
                "#B0BEC5",
                "#B0BEC5",
                "#B0BEC5",
                "#B0BEC5",
                "#B0BEC5",
                "#B0BEC5",
                "#B0BEC5",
                "#B0BEC5",
                "#B0BEC5",
                "#B0BEC5",
                "#B0BEC5",
                "#B0BEC5",
                "#B0BEC5",
                "#B0BEC5",
                "#B0BEC5",
                "#B0BEC5",
                "#B0BEC5",
                "#B0BEC5",
                "#B0BEC5",
                "#B0BEC5",
                "#B0BEC5",
                "#B0BEC5",
                "#B0BEC5",
                "#B0BEC5",
                "#B0BEC5",
                "#B0BEC5",
                "#B0BEC5"
               ]
              ]
             }
            ],
            "label": "Topic 11",
            "method": "update"
           },
           {
            "args": [
             {
              "marker.color": [
               [
                "#B0BEC5",
                "#B0BEC5",
                "#B0BEC5",
                "#B0BEC5",
                "#B0BEC5",
                "#B0BEC5",
                "#B0BEC5",
                "#B0BEC5",
                "#B0BEC5",
                "#B0BEC5",
                "#B0BEC5",
                "#B0BEC5",
                "red",
                "#B0BEC5",
                "#B0BEC5",
                "#B0BEC5",
                "#B0BEC5",
                "#B0BEC5",
                "#B0BEC5",
                "#B0BEC5",
                "#B0BEC5",
                "#B0BEC5",
                "#B0BEC5",
                "#B0BEC5",
                "#B0BEC5",
                "#B0BEC5",
                "#B0BEC5",
                "#B0BEC5",
                "#B0BEC5",
                "#B0BEC5",
                "#B0BEC5",
                "#B0BEC5",
                "#B0BEC5",
                "#B0BEC5",
                "#B0BEC5",
                "#B0BEC5",
                "#B0BEC5",
                "#B0BEC5",
                "#B0BEC5",
                "#B0BEC5",
                "#B0BEC5",
                "#B0BEC5",
                "#B0BEC5",
                "#B0BEC5",
                "#B0BEC5",
                "#B0BEC5",
                "#B0BEC5",
                "#B0BEC5",
                "#B0BEC5",
                "#B0BEC5",
                "#B0BEC5",
                "#B0BEC5",
                "#B0BEC5",
                "#B0BEC5",
                "#B0BEC5",
                "#B0BEC5",
                "#B0BEC5",
                "#B0BEC5",
                "#B0BEC5"
               ]
              ]
             }
            ],
            "label": "Topic 12",
            "method": "update"
           },
           {
            "args": [
             {
              "marker.color": [
               [
                "#B0BEC5",
                "#B0BEC5",
                "#B0BEC5",
                "#B0BEC5",
                "#B0BEC5",
                "#B0BEC5",
                "#B0BEC5",
                "#B0BEC5",
                "#B0BEC5",
                "#B0BEC5",
                "#B0BEC5",
                "#B0BEC5",
                "#B0BEC5",
                "red",
                "#B0BEC5",
                "#B0BEC5",
                "#B0BEC5",
                "#B0BEC5",
                "#B0BEC5",
                "#B0BEC5",
                "#B0BEC5",
                "#B0BEC5",
                "#B0BEC5",
                "#B0BEC5",
                "#B0BEC5",
                "#B0BEC5",
                "#B0BEC5",
                "#B0BEC5",
                "#B0BEC5",
                "#B0BEC5",
                "#B0BEC5",
                "#B0BEC5",
                "#B0BEC5",
                "#B0BEC5",
                "#B0BEC5",
                "#B0BEC5",
                "#B0BEC5",
                "#B0BEC5",
                "#B0BEC5",
                "#B0BEC5",
                "#B0BEC5",
                "#B0BEC5",
                "#B0BEC5",
                "#B0BEC5",
                "#B0BEC5",
                "#B0BEC5",
                "#B0BEC5",
                "#B0BEC5",
                "#B0BEC5",
                "#B0BEC5",
                "#B0BEC5",
                "#B0BEC5",
                "#B0BEC5",
                "#B0BEC5",
                "#B0BEC5",
                "#B0BEC5",
                "#B0BEC5",
                "#B0BEC5",
                "#B0BEC5"
               ]
              ]
             }
            ],
            "label": "Topic 13",
            "method": "update"
           },
           {
            "args": [
             {
              "marker.color": [
               [
                "#B0BEC5",
                "#B0BEC5",
                "#B0BEC5",
                "#B0BEC5",
                "#B0BEC5",
                "#B0BEC5",
                "#B0BEC5",
                "#B0BEC5",
                "#B0BEC5",
                "#B0BEC5",
                "#B0BEC5",
                "#B0BEC5",
                "#B0BEC5",
                "#B0BEC5",
                "red",
                "#B0BEC5",
                "#B0BEC5",
                "#B0BEC5",
                "#B0BEC5",
                "#B0BEC5",
                "#B0BEC5",
                "#B0BEC5",
                "#B0BEC5",
                "#B0BEC5",
                "#B0BEC5",
                "#B0BEC5",
                "#B0BEC5",
                "#B0BEC5",
                "#B0BEC5",
                "#B0BEC5",
                "#B0BEC5",
                "#B0BEC5",
                "#B0BEC5",
                "#B0BEC5",
                "#B0BEC5",
                "#B0BEC5",
                "#B0BEC5",
                "#B0BEC5",
                "#B0BEC5",
                "#B0BEC5",
                "#B0BEC5",
                "#B0BEC5",
                "#B0BEC5",
                "#B0BEC5",
                "#B0BEC5",
                "#B0BEC5",
                "#B0BEC5",
                "#B0BEC5",
                "#B0BEC5",
                "#B0BEC5",
                "#B0BEC5",
                "#B0BEC5",
                "#B0BEC5",
                "#B0BEC5",
                "#B0BEC5",
                "#B0BEC5",
                "#B0BEC5",
                "#B0BEC5",
                "#B0BEC5"
               ]
              ]
             }
            ],
            "label": "Topic 14",
            "method": "update"
           },
           {
            "args": [
             {
              "marker.color": [
               [
                "#B0BEC5",
                "#B0BEC5",
                "#B0BEC5",
                "#B0BEC5",
                "#B0BEC5",
                "#B0BEC5",
                "#B0BEC5",
                "#B0BEC5",
                "#B0BEC5",
                "#B0BEC5",
                "#B0BEC5",
                "#B0BEC5",
                "#B0BEC5",
                "#B0BEC5",
                "#B0BEC5",
                "red",
                "#B0BEC5",
                "#B0BEC5",
                "#B0BEC5",
                "#B0BEC5",
                "#B0BEC5",
                "#B0BEC5",
                "#B0BEC5",
                "#B0BEC5",
                "#B0BEC5",
                "#B0BEC5",
                "#B0BEC5",
                "#B0BEC5",
                "#B0BEC5",
                "#B0BEC5",
                "#B0BEC5",
                "#B0BEC5",
                "#B0BEC5",
                "#B0BEC5",
                "#B0BEC5",
                "#B0BEC5",
                "#B0BEC5",
                "#B0BEC5",
                "#B0BEC5",
                "#B0BEC5",
                "#B0BEC5",
                "#B0BEC5",
                "#B0BEC5",
                "#B0BEC5",
                "#B0BEC5",
                "#B0BEC5",
                "#B0BEC5",
                "#B0BEC5",
                "#B0BEC5",
                "#B0BEC5",
                "#B0BEC5",
                "#B0BEC5",
                "#B0BEC5",
                "#B0BEC5",
                "#B0BEC5",
                "#B0BEC5",
                "#B0BEC5",
                "#B0BEC5",
                "#B0BEC5"
               ]
              ]
             }
            ],
            "label": "Topic 15",
            "method": "update"
           },
           {
            "args": [
             {
              "marker.color": [
               [
                "#B0BEC5",
                "#B0BEC5",
                "#B0BEC5",
                "#B0BEC5",
                "#B0BEC5",
                "#B0BEC5",
                "#B0BEC5",
                "#B0BEC5",
                "#B0BEC5",
                "#B0BEC5",
                "#B0BEC5",
                "#B0BEC5",
                "#B0BEC5",
                "#B0BEC5",
                "#B0BEC5",
                "#B0BEC5",
                "red",
                "#B0BEC5",
                "#B0BEC5",
                "#B0BEC5",
                "#B0BEC5",
                "#B0BEC5",
                "#B0BEC5",
                "#B0BEC5",
                "#B0BEC5",
                "#B0BEC5",
                "#B0BEC5",
                "#B0BEC5",
                "#B0BEC5",
                "#B0BEC5",
                "#B0BEC5",
                "#B0BEC5",
                "#B0BEC5",
                "#B0BEC5",
                "#B0BEC5",
                "#B0BEC5",
                "#B0BEC5",
                "#B0BEC5",
                "#B0BEC5",
                "#B0BEC5",
                "#B0BEC5",
                "#B0BEC5",
                "#B0BEC5",
                "#B0BEC5",
                "#B0BEC5",
                "#B0BEC5",
                "#B0BEC5",
                "#B0BEC5",
                "#B0BEC5",
                "#B0BEC5",
                "#B0BEC5",
                "#B0BEC5",
                "#B0BEC5",
                "#B0BEC5",
                "#B0BEC5",
                "#B0BEC5",
                "#B0BEC5",
                "#B0BEC5",
                "#B0BEC5"
               ]
              ]
             }
            ],
            "label": "Topic 16",
            "method": "update"
           },
           {
            "args": [
             {
              "marker.color": [
               [
                "#B0BEC5",
                "#B0BEC5",
                "#B0BEC5",
                "#B0BEC5",
                "#B0BEC5",
                "#B0BEC5",
                "#B0BEC5",
                "#B0BEC5",
                "#B0BEC5",
                "#B0BEC5",
                "#B0BEC5",
                "#B0BEC5",
                "#B0BEC5",
                "#B0BEC5",
                "#B0BEC5",
                "#B0BEC5",
                "#B0BEC5",
                "red",
                "#B0BEC5",
                "#B0BEC5",
                "#B0BEC5",
                "#B0BEC5",
                "#B0BEC5",
                "#B0BEC5",
                "#B0BEC5",
                "#B0BEC5",
                "#B0BEC5",
                "#B0BEC5",
                "#B0BEC5",
                "#B0BEC5",
                "#B0BEC5",
                "#B0BEC5",
                "#B0BEC5",
                "#B0BEC5",
                "#B0BEC5",
                "#B0BEC5",
                "#B0BEC5",
                "#B0BEC5",
                "#B0BEC5",
                "#B0BEC5",
                "#B0BEC5",
                "#B0BEC5",
                "#B0BEC5",
                "#B0BEC5",
                "#B0BEC5",
                "#B0BEC5",
                "#B0BEC5",
                "#B0BEC5",
                "#B0BEC5",
                "#B0BEC5",
                "#B0BEC5",
                "#B0BEC5",
                "#B0BEC5",
                "#B0BEC5",
                "#B0BEC5",
                "#B0BEC5",
                "#B0BEC5",
                "#B0BEC5",
                "#B0BEC5"
               ]
              ]
             }
            ],
            "label": "Topic 17",
            "method": "update"
           },
           {
            "args": [
             {
              "marker.color": [
               [
                "#B0BEC5",
                "#B0BEC5",
                "#B0BEC5",
                "#B0BEC5",
                "#B0BEC5",
                "#B0BEC5",
                "#B0BEC5",
                "#B0BEC5",
                "#B0BEC5",
                "#B0BEC5",
                "#B0BEC5",
                "#B0BEC5",
                "#B0BEC5",
                "#B0BEC5",
                "#B0BEC5",
                "#B0BEC5",
                "#B0BEC5",
                "#B0BEC5",
                "red",
                "#B0BEC5",
                "#B0BEC5",
                "#B0BEC5",
                "#B0BEC5",
                "#B0BEC5",
                "#B0BEC5",
                "#B0BEC5",
                "#B0BEC5",
                "#B0BEC5",
                "#B0BEC5",
                "#B0BEC5",
                "#B0BEC5",
                "#B0BEC5",
                "#B0BEC5",
                "#B0BEC5",
                "#B0BEC5",
                "#B0BEC5",
                "#B0BEC5",
                "#B0BEC5",
                "#B0BEC5",
                "#B0BEC5",
                "#B0BEC5",
                "#B0BEC5",
                "#B0BEC5",
                "#B0BEC5",
                "#B0BEC5",
                "#B0BEC5",
                "#B0BEC5",
                "#B0BEC5",
                "#B0BEC5",
                "#B0BEC5",
                "#B0BEC5",
                "#B0BEC5",
                "#B0BEC5",
                "#B0BEC5",
                "#B0BEC5",
                "#B0BEC5",
                "#B0BEC5",
                "#B0BEC5",
                "#B0BEC5"
               ]
              ]
             }
            ],
            "label": "Topic 18",
            "method": "update"
           },
           {
            "args": [
             {
              "marker.color": [
               [
                "#B0BEC5",
                "#B0BEC5",
                "#B0BEC5",
                "#B0BEC5",
                "#B0BEC5",
                "#B0BEC5",
                "#B0BEC5",
                "#B0BEC5",
                "#B0BEC5",
                "#B0BEC5",
                "#B0BEC5",
                "#B0BEC5",
                "#B0BEC5",
                "#B0BEC5",
                "#B0BEC5",
                "#B0BEC5",
                "#B0BEC5",
                "#B0BEC5",
                "#B0BEC5",
                "red",
                "#B0BEC5",
                "#B0BEC5",
                "#B0BEC5",
                "#B0BEC5",
                "#B0BEC5",
                "#B0BEC5",
                "#B0BEC5",
                "#B0BEC5",
                "#B0BEC5",
                "#B0BEC5",
                "#B0BEC5",
                "#B0BEC5",
                "#B0BEC5",
                "#B0BEC5",
                "#B0BEC5",
                "#B0BEC5",
                "#B0BEC5",
                "#B0BEC5",
                "#B0BEC5",
                "#B0BEC5",
                "#B0BEC5",
                "#B0BEC5",
                "#B0BEC5",
                "#B0BEC5",
                "#B0BEC5",
                "#B0BEC5",
                "#B0BEC5",
                "#B0BEC5",
                "#B0BEC5",
                "#B0BEC5",
                "#B0BEC5",
                "#B0BEC5",
                "#B0BEC5",
                "#B0BEC5",
                "#B0BEC5",
                "#B0BEC5",
                "#B0BEC5",
                "#B0BEC5",
                "#B0BEC5"
               ]
              ]
             }
            ],
            "label": "Topic 19",
            "method": "update"
           },
           {
            "args": [
             {
              "marker.color": [
               [
                "#B0BEC5",
                "#B0BEC5",
                "#B0BEC5",
                "#B0BEC5",
                "#B0BEC5",
                "#B0BEC5",
                "#B0BEC5",
                "#B0BEC5",
                "#B0BEC5",
                "#B0BEC5",
                "#B0BEC5",
                "#B0BEC5",
                "#B0BEC5",
                "#B0BEC5",
                "#B0BEC5",
                "#B0BEC5",
                "#B0BEC5",
                "#B0BEC5",
                "#B0BEC5",
                "#B0BEC5",
                "red",
                "#B0BEC5",
                "#B0BEC5",
                "#B0BEC5",
                "#B0BEC5",
                "#B0BEC5",
                "#B0BEC5",
                "#B0BEC5",
                "#B0BEC5",
                "#B0BEC5",
                "#B0BEC5",
                "#B0BEC5",
                "#B0BEC5",
                "#B0BEC5",
                "#B0BEC5",
                "#B0BEC5",
                "#B0BEC5",
                "#B0BEC5",
                "#B0BEC5",
                "#B0BEC5",
                "#B0BEC5",
                "#B0BEC5",
                "#B0BEC5",
                "#B0BEC5",
                "#B0BEC5",
                "#B0BEC5",
                "#B0BEC5",
                "#B0BEC5",
                "#B0BEC5",
                "#B0BEC5",
                "#B0BEC5",
                "#B0BEC5",
                "#B0BEC5",
                "#B0BEC5",
                "#B0BEC5",
                "#B0BEC5",
                "#B0BEC5",
                "#B0BEC5",
                "#B0BEC5"
               ]
              ]
             }
            ],
            "label": "Topic 20",
            "method": "update"
           },
           {
            "args": [
             {
              "marker.color": [
               [
                "#B0BEC5",
                "#B0BEC5",
                "#B0BEC5",
                "#B0BEC5",
                "#B0BEC5",
                "#B0BEC5",
                "#B0BEC5",
                "#B0BEC5",
                "#B0BEC5",
                "#B0BEC5",
                "#B0BEC5",
                "#B0BEC5",
                "#B0BEC5",
                "#B0BEC5",
                "#B0BEC5",
                "#B0BEC5",
                "#B0BEC5",
                "#B0BEC5",
                "#B0BEC5",
                "#B0BEC5",
                "#B0BEC5",
                "red",
                "#B0BEC5",
                "#B0BEC5",
                "#B0BEC5",
                "#B0BEC5",
                "#B0BEC5",
                "#B0BEC5",
                "#B0BEC5",
                "#B0BEC5",
                "#B0BEC5",
                "#B0BEC5",
                "#B0BEC5",
                "#B0BEC5",
                "#B0BEC5",
                "#B0BEC5",
                "#B0BEC5",
                "#B0BEC5",
                "#B0BEC5",
                "#B0BEC5",
                "#B0BEC5",
                "#B0BEC5",
                "#B0BEC5",
                "#B0BEC5",
                "#B0BEC5",
                "#B0BEC5",
                "#B0BEC5",
                "#B0BEC5",
                "#B0BEC5",
                "#B0BEC5",
                "#B0BEC5",
                "#B0BEC5",
                "#B0BEC5",
                "#B0BEC5",
                "#B0BEC5",
                "#B0BEC5",
                "#B0BEC5",
                "#B0BEC5",
                "#B0BEC5"
               ]
              ]
             }
            ],
            "label": "Topic 21",
            "method": "update"
           },
           {
            "args": [
             {
              "marker.color": [
               [
                "#B0BEC5",
                "#B0BEC5",
                "#B0BEC5",
                "#B0BEC5",
                "#B0BEC5",
                "#B0BEC5",
                "#B0BEC5",
                "#B0BEC5",
                "#B0BEC5",
                "#B0BEC5",
                "#B0BEC5",
                "#B0BEC5",
                "#B0BEC5",
                "#B0BEC5",
                "#B0BEC5",
                "#B0BEC5",
                "#B0BEC5",
                "#B0BEC5",
                "#B0BEC5",
                "#B0BEC5",
                "#B0BEC5",
                "#B0BEC5",
                "red",
                "#B0BEC5",
                "#B0BEC5",
                "#B0BEC5",
                "#B0BEC5",
                "#B0BEC5",
                "#B0BEC5",
                "#B0BEC5",
                "#B0BEC5",
                "#B0BEC5",
                "#B0BEC5",
                "#B0BEC5",
                "#B0BEC5",
                "#B0BEC5",
                "#B0BEC5",
                "#B0BEC5",
                "#B0BEC5",
                "#B0BEC5",
                "#B0BEC5",
                "#B0BEC5",
                "#B0BEC5",
                "#B0BEC5",
                "#B0BEC5",
                "#B0BEC5",
                "#B0BEC5",
                "#B0BEC5",
                "#B0BEC5",
                "#B0BEC5",
                "#B0BEC5",
                "#B0BEC5",
                "#B0BEC5",
                "#B0BEC5",
                "#B0BEC5",
                "#B0BEC5",
                "#B0BEC5",
                "#B0BEC5",
                "#B0BEC5"
               ]
              ]
             }
            ],
            "label": "Topic 22",
            "method": "update"
           },
           {
            "args": [
             {
              "marker.color": [
               [
                "#B0BEC5",
                "#B0BEC5",
                "#B0BEC5",
                "#B0BEC5",
                "#B0BEC5",
                "#B0BEC5",
                "#B0BEC5",
                "#B0BEC5",
                "#B0BEC5",
                "#B0BEC5",
                "#B0BEC5",
                "#B0BEC5",
                "#B0BEC5",
                "#B0BEC5",
                "#B0BEC5",
                "#B0BEC5",
                "#B0BEC5",
                "#B0BEC5",
                "#B0BEC5",
                "#B0BEC5",
                "#B0BEC5",
                "#B0BEC5",
                "#B0BEC5",
                "red",
                "#B0BEC5",
                "#B0BEC5",
                "#B0BEC5",
                "#B0BEC5",
                "#B0BEC5",
                "#B0BEC5",
                "#B0BEC5",
                "#B0BEC5",
                "#B0BEC5",
                "#B0BEC5",
                "#B0BEC5",
                "#B0BEC5",
                "#B0BEC5",
                "#B0BEC5",
                "#B0BEC5",
                "#B0BEC5",
                "#B0BEC5",
                "#B0BEC5",
                "#B0BEC5",
                "#B0BEC5",
                "#B0BEC5",
                "#B0BEC5",
                "#B0BEC5",
                "#B0BEC5",
                "#B0BEC5",
                "#B0BEC5",
                "#B0BEC5",
                "#B0BEC5",
                "#B0BEC5",
                "#B0BEC5",
                "#B0BEC5",
                "#B0BEC5",
                "#B0BEC5",
                "#B0BEC5",
                "#B0BEC5"
               ]
              ]
             }
            ],
            "label": "Topic 23",
            "method": "update"
           },
           {
            "args": [
             {
              "marker.color": [
               [
                "#B0BEC5",
                "#B0BEC5",
                "#B0BEC5",
                "#B0BEC5",
                "#B0BEC5",
                "#B0BEC5",
                "#B0BEC5",
                "#B0BEC5",
                "#B0BEC5",
                "#B0BEC5",
                "#B0BEC5",
                "#B0BEC5",
                "#B0BEC5",
                "#B0BEC5",
                "#B0BEC5",
                "#B0BEC5",
                "#B0BEC5",
                "#B0BEC5",
                "#B0BEC5",
                "#B0BEC5",
                "#B0BEC5",
                "#B0BEC5",
                "#B0BEC5",
                "#B0BEC5",
                "red",
                "#B0BEC5",
                "#B0BEC5",
                "#B0BEC5",
                "#B0BEC5",
                "#B0BEC5",
                "#B0BEC5",
                "#B0BEC5",
                "#B0BEC5",
                "#B0BEC5",
                "#B0BEC5",
                "#B0BEC5",
                "#B0BEC5",
                "#B0BEC5",
                "#B0BEC5",
                "#B0BEC5",
                "#B0BEC5",
                "#B0BEC5",
                "#B0BEC5",
                "#B0BEC5",
                "#B0BEC5",
                "#B0BEC5",
                "#B0BEC5",
                "#B0BEC5",
                "#B0BEC5",
                "#B0BEC5",
                "#B0BEC5",
                "#B0BEC5",
                "#B0BEC5",
                "#B0BEC5",
                "#B0BEC5",
                "#B0BEC5",
                "#B0BEC5",
                "#B0BEC5",
                "#B0BEC5"
               ]
              ]
             }
            ],
            "label": "Topic 24",
            "method": "update"
           },
           {
            "args": [
             {
              "marker.color": [
               [
                "#B0BEC5",
                "#B0BEC5",
                "#B0BEC5",
                "#B0BEC5",
                "#B0BEC5",
                "#B0BEC5",
                "#B0BEC5",
                "#B0BEC5",
                "#B0BEC5",
                "#B0BEC5",
                "#B0BEC5",
                "#B0BEC5",
                "#B0BEC5",
                "#B0BEC5",
                "#B0BEC5",
                "#B0BEC5",
                "#B0BEC5",
                "#B0BEC5",
                "#B0BEC5",
                "#B0BEC5",
                "#B0BEC5",
                "#B0BEC5",
                "#B0BEC5",
                "#B0BEC5",
                "#B0BEC5",
                "red",
                "#B0BEC5",
                "#B0BEC5",
                "#B0BEC5",
                "#B0BEC5",
                "#B0BEC5",
                "#B0BEC5",
                "#B0BEC5",
                "#B0BEC5",
                "#B0BEC5",
                "#B0BEC5",
                "#B0BEC5",
                "#B0BEC5",
                "#B0BEC5",
                "#B0BEC5",
                "#B0BEC5",
                "#B0BEC5",
                "#B0BEC5",
                "#B0BEC5",
                "#B0BEC5",
                "#B0BEC5",
                "#B0BEC5",
                "#B0BEC5",
                "#B0BEC5",
                "#B0BEC5",
                "#B0BEC5",
                "#B0BEC5",
                "#B0BEC5",
                "#B0BEC5",
                "#B0BEC5",
                "#B0BEC5",
                "#B0BEC5",
                "#B0BEC5",
                "#B0BEC5"
               ]
              ]
             }
            ],
            "label": "Topic 25",
            "method": "update"
           },
           {
            "args": [
             {
              "marker.color": [
               [
                "#B0BEC5",
                "#B0BEC5",
                "#B0BEC5",
                "#B0BEC5",
                "#B0BEC5",
                "#B0BEC5",
                "#B0BEC5",
                "#B0BEC5",
                "#B0BEC5",
                "#B0BEC5",
                "#B0BEC5",
                "#B0BEC5",
                "#B0BEC5",
                "#B0BEC5",
                "#B0BEC5",
                "#B0BEC5",
                "#B0BEC5",
                "#B0BEC5",
                "#B0BEC5",
                "#B0BEC5",
                "#B0BEC5",
                "#B0BEC5",
                "#B0BEC5",
                "#B0BEC5",
                "#B0BEC5",
                "#B0BEC5",
                "red",
                "#B0BEC5",
                "#B0BEC5",
                "#B0BEC5",
                "#B0BEC5",
                "#B0BEC5",
                "#B0BEC5",
                "#B0BEC5",
                "#B0BEC5",
                "#B0BEC5",
                "#B0BEC5",
                "#B0BEC5",
                "#B0BEC5",
                "#B0BEC5",
                "#B0BEC5",
                "#B0BEC5",
                "#B0BEC5",
                "#B0BEC5",
                "#B0BEC5",
                "#B0BEC5",
                "#B0BEC5",
                "#B0BEC5",
                "#B0BEC5",
                "#B0BEC5",
                "#B0BEC5",
                "#B0BEC5",
                "#B0BEC5",
                "#B0BEC5",
                "#B0BEC5",
                "#B0BEC5",
                "#B0BEC5",
                "#B0BEC5",
                "#B0BEC5"
               ]
              ]
             }
            ],
            "label": "Topic 26",
            "method": "update"
           },
           {
            "args": [
             {
              "marker.color": [
               [
                "#B0BEC5",
                "#B0BEC5",
                "#B0BEC5",
                "#B0BEC5",
                "#B0BEC5",
                "#B0BEC5",
                "#B0BEC5",
                "#B0BEC5",
                "#B0BEC5",
                "#B0BEC5",
                "#B0BEC5",
                "#B0BEC5",
                "#B0BEC5",
                "#B0BEC5",
                "#B0BEC5",
                "#B0BEC5",
                "#B0BEC5",
                "#B0BEC5",
                "#B0BEC5",
                "#B0BEC5",
                "#B0BEC5",
                "#B0BEC5",
                "#B0BEC5",
                "#B0BEC5",
                "#B0BEC5",
                "#B0BEC5",
                "#B0BEC5",
                "red",
                "#B0BEC5",
                "#B0BEC5",
                "#B0BEC5",
                "#B0BEC5",
                "#B0BEC5",
                "#B0BEC5",
                "#B0BEC5",
                "#B0BEC5",
                "#B0BEC5",
                "#B0BEC5",
                "#B0BEC5",
                "#B0BEC5",
                "#B0BEC5",
                "#B0BEC5",
                "#B0BEC5",
                "#B0BEC5",
                "#B0BEC5",
                "#B0BEC5",
                "#B0BEC5",
                "#B0BEC5",
                "#B0BEC5",
                "#B0BEC5",
                "#B0BEC5",
                "#B0BEC5",
                "#B0BEC5",
                "#B0BEC5",
                "#B0BEC5",
                "#B0BEC5",
                "#B0BEC5",
                "#B0BEC5",
                "#B0BEC5"
               ]
              ]
             }
            ],
            "label": "Topic 27",
            "method": "update"
           },
           {
            "args": [
             {
              "marker.color": [
               [
                "#B0BEC5",
                "#B0BEC5",
                "#B0BEC5",
                "#B0BEC5",
                "#B0BEC5",
                "#B0BEC5",
                "#B0BEC5",
                "#B0BEC5",
                "#B0BEC5",
                "#B0BEC5",
                "#B0BEC5",
                "#B0BEC5",
                "#B0BEC5",
                "#B0BEC5",
                "#B0BEC5",
                "#B0BEC5",
                "#B0BEC5",
                "#B0BEC5",
                "#B0BEC5",
                "#B0BEC5",
                "#B0BEC5",
                "#B0BEC5",
                "#B0BEC5",
                "#B0BEC5",
                "#B0BEC5",
                "#B0BEC5",
                "#B0BEC5",
                "#B0BEC5",
                "red",
                "#B0BEC5",
                "#B0BEC5",
                "#B0BEC5",
                "#B0BEC5",
                "#B0BEC5",
                "#B0BEC5",
                "#B0BEC5",
                "#B0BEC5",
                "#B0BEC5",
                "#B0BEC5",
                "#B0BEC5",
                "#B0BEC5",
                "#B0BEC5",
                "#B0BEC5",
                "#B0BEC5",
                "#B0BEC5",
                "#B0BEC5",
                "#B0BEC5",
                "#B0BEC5",
                "#B0BEC5",
                "#B0BEC5",
                "#B0BEC5",
                "#B0BEC5",
                "#B0BEC5",
                "#B0BEC5",
                "#B0BEC5",
                "#B0BEC5",
                "#B0BEC5",
                "#B0BEC5",
                "#B0BEC5"
               ]
              ]
             }
            ],
            "label": "Topic 28",
            "method": "update"
           },
           {
            "args": [
             {
              "marker.color": [
               [
                "#B0BEC5",
                "#B0BEC5",
                "#B0BEC5",
                "#B0BEC5",
                "#B0BEC5",
                "#B0BEC5",
                "#B0BEC5",
                "#B0BEC5",
                "#B0BEC5",
                "#B0BEC5",
                "#B0BEC5",
                "#B0BEC5",
                "#B0BEC5",
                "#B0BEC5",
                "#B0BEC5",
                "#B0BEC5",
                "#B0BEC5",
                "#B0BEC5",
                "#B0BEC5",
                "#B0BEC5",
                "#B0BEC5",
                "#B0BEC5",
                "#B0BEC5",
                "#B0BEC5",
                "#B0BEC5",
                "#B0BEC5",
                "#B0BEC5",
                "#B0BEC5",
                "#B0BEC5",
                "red",
                "#B0BEC5",
                "#B0BEC5",
                "#B0BEC5",
                "#B0BEC5",
                "#B0BEC5",
                "#B0BEC5",
                "#B0BEC5",
                "#B0BEC5",
                "#B0BEC5",
                "#B0BEC5",
                "#B0BEC5",
                "#B0BEC5",
                "#B0BEC5",
                "#B0BEC5",
                "#B0BEC5",
                "#B0BEC5",
                "#B0BEC5",
                "#B0BEC5",
                "#B0BEC5",
                "#B0BEC5",
                "#B0BEC5",
                "#B0BEC5",
                "#B0BEC5",
                "#B0BEC5",
                "#B0BEC5",
                "#B0BEC5",
                "#B0BEC5",
                "#B0BEC5",
                "#B0BEC5"
               ]
              ]
             }
            ],
            "label": "Topic 29",
            "method": "update"
           },
           {
            "args": [
             {
              "marker.color": [
               [
                "#B0BEC5",
                "#B0BEC5",
                "#B0BEC5",
                "#B0BEC5",
                "#B0BEC5",
                "#B0BEC5",
                "#B0BEC5",
                "#B0BEC5",
                "#B0BEC5",
                "#B0BEC5",
                "#B0BEC5",
                "#B0BEC5",
                "#B0BEC5",
                "#B0BEC5",
                "#B0BEC5",
                "#B0BEC5",
                "#B0BEC5",
                "#B0BEC5",
                "#B0BEC5",
                "#B0BEC5",
                "#B0BEC5",
                "#B0BEC5",
                "#B0BEC5",
                "#B0BEC5",
                "#B0BEC5",
                "#B0BEC5",
                "#B0BEC5",
                "#B0BEC5",
                "#B0BEC5",
                "#B0BEC5",
                "red",
                "#B0BEC5",
                "#B0BEC5",
                "#B0BEC5",
                "#B0BEC5",
                "#B0BEC5",
                "#B0BEC5",
                "#B0BEC5",
                "#B0BEC5",
                "#B0BEC5",
                "#B0BEC5",
                "#B0BEC5",
                "#B0BEC5",
                "#B0BEC5",
                "#B0BEC5",
                "#B0BEC5",
                "#B0BEC5",
                "#B0BEC5",
                "#B0BEC5",
                "#B0BEC5",
                "#B0BEC5",
                "#B0BEC5",
                "#B0BEC5",
                "#B0BEC5",
                "#B0BEC5",
                "#B0BEC5",
                "#B0BEC5",
                "#B0BEC5",
                "#B0BEC5"
               ]
              ]
             }
            ],
            "label": "Topic 30",
            "method": "update"
           },
           {
            "args": [
             {
              "marker.color": [
               [
                "#B0BEC5",
                "#B0BEC5",
                "#B0BEC5",
                "#B0BEC5",
                "#B0BEC5",
                "#B0BEC5",
                "#B0BEC5",
                "#B0BEC5",
                "#B0BEC5",
                "#B0BEC5",
                "#B0BEC5",
                "#B0BEC5",
                "#B0BEC5",
                "#B0BEC5",
                "#B0BEC5",
                "#B0BEC5",
                "#B0BEC5",
                "#B0BEC5",
                "#B0BEC5",
                "#B0BEC5",
                "#B0BEC5",
                "#B0BEC5",
                "#B0BEC5",
                "#B0BEC5",
                "#B0BEC5",
                "#B0BEC5",
                "#B0BEC5",
                "#B0BEC5",
                "#B0BEC5",
                "#B0BEC5",
                "#B0BEC5",
                "red",
                "#B0BEC5",
                "#B0BEC5",
                "#B0BEC5",
                "#B0BEC5",
                "#B0BEC5",
                "#B0BEC5",
                "#B0BEC5",
                "#B0BEC5",
                "#B0BEC5",
                "#B0BEC5",
                "#B0BEC5",
                "#B0BEC5",
                "#B0BEC5",
                "#B0BEC5",
                "#B0BEC5",
                "#B0BEC5",
                "#B0BEC5",
                "#B0BEC5",
                "#B0BEC5",
                "#B0BEC5",
                "#B0BEC5",
                "#B0BEC5",
                "#B0BEC5",
                "#B0BEC5",
                "#B0BEC5",
                "#B0BEC5",
                "#B0BEC5"
               ]
              ]
             }
            ],
            "label": "Topic 31",
            "method": "update"
           },
           {
            "args": [
             {
              "marker.color": [
               [
                "#B0BEC5",
                "#B0BEC5",
                "#B0BEC5",
                "#B0BEC5",
                "#B0BEC5",
                "#B0BEC5",
                "#B0BEC5",
                "#B0BEC5",
                "#B0BEC5",
                "#B0BEC5",
                "#B0BEC5",
                "#B0BEC5",
                "#B0BEC5",
                "#B0BEC5",
                "#B0BEC5",
                "#B0BEC5",
                "#B0BEC5",
                "#B0BEC5",
                "#B0BEC5",
                "#B0BEC5",
                "#B0BEC5",
                "#B0BEC5",
                "#B0BEC5",
                "#B0BEC5",
                "#B0BEC5",
                "#B0BEC5",
                "#B0BEC5",
                "#B0BEC5",
                "#B0BEC5",
                "#B0BEC5",
                "#B0BEC5",
                "#B0BEC5",
                "red",
                "#B0BEC5",
                "#B0BEC5",
                "#B0BEC5",
                "#B0BEC5",
                "#B0BEC5",
                "#B0BEC5",
                "#B0BEC5",
                "#B0BEC5",
                "#B0BEC5",
                "#B0BEC5",
                "#B0BEC5",
                "#B0BEC5",
                "#B0BEC5",
                "#B0BEC5",
                "#B0BEC5",
                "#B0BEC5",
                "#B0BEC5",
                "#B0BEC5",
                "#B0BEC5",
                "#B0BEC5",
                "#B0BEC5",
                "#B0BEC5",
                "#B0BEC5",
                "#B0BEC5",
                "#B0BEC5",
                "#B0BEC5"
               ]
              ]
             }
            ],
            "label": "Topic 32",
            "method": "update"
           },
           {
            "args": [
             {
              "marker.color": [
               [
                "#B0BEC5",
                "#B0BEC5",
                "#B0BEC5",
                "#B0BEC5",
                "#B0BEC5",
                "#B0BEC5",
                "#B0BEC5",
                "#B0BEC5",
                "#B0BEC5",
                "#B0BEC5",
                "#B0BEC5",
                "#B0BEC5",
                "#B0BEC5",
                "#B0BEC5",
                "#B0BEC5",
                "#B0BEC5",
                "#B0BEC5",
                "#B0BEC5",
                "#B0BEC5",
                "#B0BEC5",
                "#B0BEC5",
                "#B0BEC5",
                "#B0BEC5",
                "#B0BEC5",
                "#B0BEC5",
                "#B0BEC5",
                "#B0BEC5",
                "#B0BEC5",
                "#B0BEC5",
                "#B0BEC5",
                "#B0BEC5",
                "#B0BEC5",
                "#B0BEC5",
                "red",
                "#B0BEC5",
                "#B0BEC5",
                "#B0BEC5",
                "#B0BEC5",
                "#B0BEC5",
                "#B0BEC5",
                "#B0BEC5",
                "#B0BEC5",
                "#B0BEC5",
                "#B0BEC5",
                "#B0BEC5",
                "#B0BEC5",
                "#B0BEC5",
                "#B0BEC5",
                "#B0BEC5",
                "#B0BEC5",
                "#B0BEC5",
                "#B0BEC5",
                "#B0BEC5",
                "#B0BEC5",
                "#B0BEC5",
                "#B0BEC5",
                "#B0BEC5",
                "#B0BEC5",
                "#B0BEC5"
               ]
              ]
             }
            ],
            "label": "Topic 33",
            "method": "update"
           },
           {
            "args": [
             {
              "marker.color": [
               [
                "#B0BEC5",
                "#B0BEC5",
                "#B0BEC5",
                "#B0BEC5",
                "#B0BEC5",
                "#B0BEC5",
                "#B0BEC5",
                "#B0BEC5",
                "#B0BEC5",
                "#B0BEC5",
                "#B0BEC5",
                "#B0BEC5",
                "#B0BEC5",
                "#B0BEC5",
                "#B0BEC5",
                "#B0BEC5",
                "#B0BEC5",
                "#B0BEC5",
                "#B0BEC5",
                "#B0BEC5",
                "#B0BEC5",
                "#B0BEC5",
                "#B0BEC5",
                "#B0BEC5",
                "#B0BEC5",
                "#B0BEC5",
                "#B0BEC5",
                "#B0BEC5",
                "#B0BEC5",
                "#B0BEC5",
                "#B0BEC5",
                "#B0BEC5",
                "#B0BEC5",
                "#B0BEC5",
                "red",
                "#B0BEC5",
                "#B0BEC5",
                "#B0BEC5",
                "#B0BEC5",
                "#B0BEC5",
                "#B0BEC5",
                "#B0BEC5",
                "#B0BEC5",
                "#B0BEC5",
                "#B0BEC5",
                "#B0BEC5",
                "#B0BEC5",
                "#B0BEC5",
                "#B0BEC5",
                "#B0BEC5",
                "#B0BEC5",
                "#B0BEC5",
                "#B0BEC5",
                "#B0BEC5",
                "#B0BEC5",
                "#B0BEC5",
                "#B0BEC5",
                "#B0BEC5",
                "#B0BEC5"
               ]
              ]
             }
            ],
            "label": "Topic 34",
            "method": "update"
           },
           {
            "args": [
             {
              "marker.color": [
               [
                "#B0BEC5",
                "#B0BEC5",
                "#B0BEC5",
                "#B0BEC5",
                "#B0BEC5",
                "#B0BEC5",
                "#B0BEC5",
                "#B0BEC5",
                "#B0BEC5",
                "#B0BEC5",
                "#B0BEC5",
                "#B0BEC5",
                "#B0BEC5",
                "#B0BEC5",
                "#B0BEC5",
                "#B0BEC5",
                "#B0BEC5",
                "#B0BEC5",
                "#B0BEC5",
                "#B0BEC5",
                "#B0BEC5",
                "#B0BEC5",
                "#B0BEC5",
                "#B0BEC5",
                "#B0BEC5",
                "#B0BEC5",
                "#B0BEC5",
                "#B0BEC5",
                "#B0BEC5",
                "#B0BEC5",
                "#B0BEC5",
                "#B0BEC5",
                "#B0BEC5",
                "#B0BEC5",
                "#B0BEC5",
                "red",
                "#B0BEC5",
                "#B0BEC5",
                "#B0BEC5",
                "#B0BEC5",
                "#B0BEC5",
                "#B0BEC5",
                "#B0BEC5",
                "#B0BEC5",
                "#B0BEC5",
                "#B0BEC5",
                "#B0BEC5",
                "#B0BEC5",
                "#B0BEC5",
                "#B0BEC5",
                "#B0BEC5",
                "#B0BEC5",
                "#B0BEC5",
                "#B0BEC5",
                "#B0BEC5",
                "#B0BEC5",
                "#B0BEC5",
                "#B0BEC5",
                "#B0BEC5"
               ]
              ]
             }
            ],
            "label": "Topic 35",
            "method": "update"
           },
           {
            "args": [
             {
              "marker.color": [
               [
                "#B0BEC5",
                "#B0BEC5",
                "#B0BEC5",
                "#B0BEC5",
                "#B0BEC5",
                "#B0BEC5",
                "#B0BEC5",
                "#B0BEC5",
                "#B0BEC5",
                "#B0BEC5",
                "#B0BEC5",
                "#B0BEC5",
                "#B0BEC5",
                "#B0BEC5",
                "#B0BEC5",
                "#B0BEC5",
                "#B0BEC5",
                "#B0BEC5",
                "#B0BEC5",
                "#B0BEC5",
                "#B0BEC5",
                "#B0BEC5",
                "#B0BEC5",
                "#B0BEC5",
                "#B0BEC5",
                "#B0BEC5",
                "#B0BEC5",
                "#B0BEC5",
                "#B0BEC5",
                "#B0BEC5",
                "#B0BEC5",
                "#B0BEC5",
                "#B0BEC5",
                "#B0BEC5",
                "#B0BEC5",
                "#B0BEC5",
                "red",
                "#B0BEC5",
                "#B0BEC5",
                "#B0BEC5",
                "#B0BEC5",
                "#B0BEC5",
                "#B0BEC5",
                "#B0BEC5",
                "#B0BEC5",
                "#B0BEC5",
                "#B0BEC5",
                "#B0BEC5",
                "#B0BEC5",
                "#B0BEC5",
                "#B0BEC5",
                "#B0BEC5",
                "#B0BEC5",
                "#B0BEC5",
                "#B0BEC5",
                "#B0BEC5",
                "#B0BEC5",
                "#B0BEC5",
                "#B0BEC5"
               ]
              ]
             }
            ],
            "label": "Topic 36",
            "method": "update"
           },
           {
            "args": [
             {
              "marker.color": [
               [
                "#B0BEC5",
                "#B0BEC5",
                "#B0BEC5",
                "#B0BEC5",
                "#B0BEC5",
                "#B0BEC5",
                "#B0BEC5",
                "#B0BEC5",
                "#B0BEC5",
                "#B0BEC5",
                "#B0BEC5",
                "#B0BEC5",
                "#B0BEC5",
                "#B0BEC5",
                "#B0BEC5",
                "#B0BEC5",
                "#B0BEC5",
                "#B0BEC5",
                "#B0BEC5",
                "#B0BEC5",
                "#B0BEC5",
                "#B0BEC5",
                "#B0BEC5",
                "#B0BEC5",
                "#B0BEC5",
                "#B0BEC5",
                "#B0BEC5",
                "#B0BEC5",
                "#B0BEC5",
                "#B0BEC5",
                "#B0BEC5",
                "#B0BEC5",
                "#B0BEC5",
                "#B0BEC5",
                "#B0BEC5",
                "#B0BEC5",
                "#B0BEC5",
                "red",
                "#B0BEC5",
                "#B0BEC5",
                "#B0BEC5",
                "#B0BEC5",
                "#B0BEC5",
                "#B0BEC5",
                "#B0BEC5",
                "#B0BEC5",
                "#B0BEC5",
                "#B0BEC5",
                "#B0BEC5",
                "#B0BEC5",
                "#B0BEC5",
                "#B0BEC5",
                "#B0BEC5",
                "#B0BEC5",
                "#B0BEC5",
                "#B0BEC5",
                "#B0BEC5",
                "#B0BEC5",
                "#B0BEC5"
               ]
              ]
             }
            ],
            "label": "Topic 37",
            "method": "update"
           },
           {
            "args": [
             {
              "marker.color": [
               [
                "#B0BEC5",
                "#B0BEC5",
                "#B0BEC5",
                "#B0BEC5",
                "#B0BEC5",
                "#B0BEC5",
                "#B0BEC5",
                "#B0BEC5",
                "#B0BEC5",
                "#B0BEC5",
                "#B0BEC5",
                "#B0BEC5",
                "#B0BEC5",
                "#B0BEC5",
                "#B0BEC5",
                "#B0BEC5",
                "#B0BEC5",
                "#B0BEC5",
                "#B0BEC5",
                "#B0BEC5",
                "#B0BEC5",
                "#B0BEC5",
                "#B0BEC5",
                "#B0BEC5",
                "#B0BEC5",
                "#B0BEC5",
                "#B0BEC5",
                "#B0BEC5",
                "#B0BEC5",
                "#B0BEC5",
                "#B0BEC5",
                "#B0BEC5",
                "#B0BEC5",
                "#B0BEC5",
                "#B0BEC5",
                "#B0BEC5",
                "#B0BEC5",
                "#B0BEC5",
                "red",
                "#B0BEC5",
                "#B0BEC5",
                "#B0BEC5",
                "#B0BEC5",
                "#B0BEC5",
                "#B0BEC5",
                "#B0BEC5",
                "#B0BEC5",
                "#B0BEC5",
                "#B0BEC5",
                "#B0BEC5",
                "#B0BEC5",
                "#B0BEC5",
                "#B0BEC5",
                "#B0BEC5",
                "#B0BEC5",
                "#B0BEC5",
                "#B0BEC5",
                "#B0BEC5",
                "#B0BEC5"
               ]
              ]
             }
            ],
            "label": "Topic 38",
            "method": "update"
           },
           {
            "args": [
             {
              "marker.color": [
               [
                "#B0BEC5",
                "#B0BEC5",
                "#B0BEC5",
                "#B0BEC5",
                "#B0BEC5",
                "#B0BEC5",
                "#B0BEC5",
                "#B0BEC5",
                "#B0BEC5",
                "#B0BEC5",
                "#B0BEC5",
                "#B0BEC5",
                "#B0BEC5",
                "#B0BEC5",
                "#B0BEC5",
                "#B0BEC5",
                "#B0BEC5",
                "#B0BEC5",
                "#B0BEC5",
                "#B0BEC5",
                "#B0BEC5",
                "#B0BEC5",
                "#B0BEC5",
                "#B0BEC5",
                "#B0BEC5",
                "#B0BEC5",
                "#B0BEC5",
                "#B0BEC5",
                "#B0BEC5",
                "#B0BEC5",
                "#B0BEC5",
                "#B0BEC5",
                "#B0BEC5",
                "#B0BEC5",
                "#B0BEC5",
                "#B0BEC5",
                "#B0BEC5",
                "#B0BEC5",
                "#B0BEC5",
                "red",
                "#B0BEC5",
                "#B0BEC5",
                "#B0BEC5",
                "#B0BEC5",
                "#B0BEC5",
                "#B0BEC5",
                "#B0BEC5",
                "#B0BEC5",
                "#B0BEC5",
                "#B0BEC5",
                "#B0BEC5",
                "#B0BEC5",
                "#B0BEC5",
                "#B0BEC5",
                "#B0BEC5",
                "#B0BEC5",
                "#B0BEC5",
                "#B0BEC5",
                "#B0BEC5"
               ]
              ]
             }
            ],
            "label": "Topic 39",
            "method": "update"
           },
           {
            "args": [
             {
              "marker.color": [
               [
                "#B0BEC5",
                "#B0BEC5",
                "#B0BEC5",
                "#B0BEC5",
                "#B0BEC5",
                "#B0BEC5",
                "#B0BEC5",
                "#B0BEC5",
                "#B0BEC5",
                "#B0BEC5",
                "#B0BEC5",
                "#B0BEC5",
                "#B0BEC5",
                "#B0BEC5",
                "#B0BEC5",
                "#B0BEC5",
                "#B0BEC5",
                "#B0BEC5",
                "#B0BEC5",
                "#B0BEC5",
                "#B0BEC5",
                "#B0BEC5",
                "#B0BEC5",
                "#B0BEC5",
                "#B0BEC5",
                "#B0BEC5",
                "#B0BEC5",
                "#B0BEC5",
                "#B0BEC5",
                "#B0BEC5",
                "#B0BEC5",
                "#B0BEC5",
                "#B0BEC5",
                "#B0BEC5",
                "#B0BEC5",
                "#B0BEC5",
                "#B0BEC5",
                "#B0BEC5",
                "#B0BEC5",
                "#B0BEC5",
                "red",
                "#B0BEC5",
                "#B0BEC5",
                "#B0BEC5",
                "#B0BEC5",
                "#B0BEC5",
                "#B0BEC5",
                "#B0BEC5",
                "#B0BEC5",
                "#B0BEC5",
                "#B0BEC5",
                "#B0BEC5",
                "#B0BEC5",
                "#B0BEC5",
                "#B0BEC5",
                "#B0BEC5",
                "#B0BEC5",
                "#B0BEC5",
                "#B0BEC5"
               ]
              ]
             }
            ],
            "label": "Topic 40",
            "method": "update"
           },
           {
            "args": [
             {
              "marker.color": [
               [
                "#B0BEC5",
                "#B0BEC5",
                "#B0BEC5",
                "#B0BEC5",
                "#B0BEC5",
                "#B0BEC5",
                "#B0BEC5",
                "#B0BEC5",
                "#B0BEC5",
                "#B0BEC5",
                "#B0BEC5",
                "#B0BEC5",
                "#B0BEC5",
                "#B0BEC5",
                "#B0BEC5",
                "#B0BEC5",
                "#B0BEC5",
                "#B0BEC5",
                "#B0BEC5",
                "#B0BEC5",
                "#B0BEC5",
                "#B0BEC5",
                "#B0BEC5",
                "#B0BEC5",
                "#B0BEC5",
                "#B0BEC5",
                "#B0BEC5",
                "#B0BEC5",
                "#B0BEC5",
                "#B0BEC5",
                "#B0BEC5",
                "#B0BEC5",
                "#B0BEC5",
                "#B0BEC5",
                "#B0BEC5",
                "#B0BEC5",
                "#B0BEC5",
                "#B0BEC5",
                "#B0BEC5",
                "#B0BEC5",
                "#B0BEC5",
                "red",
                "#B0BEC5",
                "#B0BEC5",
                "#B0BEC5",
                "#B0BEC5",
                "#B0BEC5",
                "#B0BEC5",
                "#B0BEC5",
                "#B0BEC5",
                "#B0BEC5",
                "#B0BEC5",
                "#B0BEC5",
                "#B0BEC5",
                "#B0BEC5",
                "#B0BEC5",
                "#B0BEC5",
                "#B0BEC5",
                "#B0BEC5"
               ]
              ]
             }
            ],
            "label": "Topic 41",
            "method": "update"
           },
           {
            "args": [
             {
              "marker.color": [
               [
                "#B0BEC5",
                "#B0BEC5",
                "#B0BEC5",
                "#B0BEC5",
                "#B0BEC5",
                "#B0BEC5",
                "#B0BEC5",
                "#B0BEC5",
                "#B0BEC5",
                "#B0BEC5",
                "#B0BEC5",
                "#B0BEC5",
                "#B0BEC5",
                "#B0BEC5",
                "#B0BEC5",
                "#B0BEC5",
                "#B0BEC5",
                "#B0BEC5",
                "#B0BEC5",
                "#B0BEC5",
                "#B0BEC5",
                "#B0BEC5",
                "#B0BEC5",
                "#B0BEC5",
                "#B0BEC5",
                "#B0BEC5",
                "#B0BEC5",
                "#B0BEC5",
                "#B0BEC5",
                "#B0BEC5",
                "#B0BEC5",
                "#B0BEC5",
                "#B0BEC5",
                "#B0BEC5",
                "#B0BEC5",
                "#B0BEC5",
                "#B0BEC5",
                "#B0BEC5",
                "#B0BEC5",
                "#B0BEC5",
                "#B0BEC5",
                "#B0BEC5",
                "red",
                "#B0BEC5",
                "#B0BEC5",
                "#B0BEC5",
                "#B0BEC5",
                "#B0BEC5",
                "#B0BEC5",
                "#B0BEC5",
                "#B0BEC5",
                "#B0BEC5",
                "#B0BEC5",
                "#B0BEC5",
                "#B0BEC5",
                "#B0BEC5",
                "#B0BEC5",
                "#B0BEC5",
                "#B0BEC5"
               ]
              ]
             }
            ],
            "label": "Topic 42",
            "method": "update"
           },
           {
            "args": [
             {
              "marker.color": [
               [
                "#B0BEC5",
                "#B0BEC5",
                "#B0BEC5",
                "#B0BEC5",
                "#B0BEC5",
                "#B0BEC5",
                "#B0BEC5",
                "#B0BEC5",
                "#B0BEC5",
                "#B0BEC5",
                "#B0BEC5",
                "#B0BEC5",
                "#B0BEC5",
                "#B0BEC5",
                "#B0BEC5",
                "#B0BEC5",
                "#B0BEC5",
                "#B0BEC5",
                "#B0BEC5",
                "#B0BEC5",
                "#B0BEC5",
                "#B0BEC5",
                "#B0BEC5",
                "#B0BEC5",
                "#B0BEC5",
                "#B0BEC5",
                "#B0BEC5",
                "#B0BEC5",
                "#B0BEC5",
                "#B0BEC5",
                "#B0BEC5",
                "#B0BEC5",
                "#B0BEC5",
                "#B0BEC5",
                "#B0BEC5",
                "#B0BEC5",
                "#B0BEC5",
                "#B0BEC5",
                "#B0BEC5",
                "#B0BEC5",
                "#B0BEC5",
                "#B0BEC5",
                "#B0BEC5",
                "red",
                "#B0BEC5",
                "#B0BEC5",
                "#B0BEC5",
                "#B0BEC5",
                "#B0BEC5",
                "#B0BEC5",
                "#B0BEC5",
                "#B0BEC5",
                "#B0BEC5",
                "#B0BEC5",
                "#B0BEC5",
                "#B0BEC5",
                "#B0BEC5",
                "#B0BEC5",
                "#B0BEC5"
               ]
              ]
             }
            ],
            "label": "Topic 43",
            "method": "update"
           },
           {
            "args": [
             {
              "marker.color": [
               [
                "#B0BEC5",
                "#B0BEC5",
                "#B0BEC5",
                "#B0BEC5",
                "#B0BEC5",
                "#B0BEC5",
                "#B0BEC5",
                "#B0BEC5",
                "#B0BEC5",
                "#B0BEC5",
                "#B0BEC5",
                "#B0BEC5",
                "#B0BEC5",
                "#B0BEC5",
                "#B0BEC5",
                "#B0BEC5",
                "#B0BEC5",
                "#B0BEC5",
                "#B0BEC5",
                "#B0BEC5",
                "#B0BEC5",
                "#B0BEC5",
                "#B0BEC5",
                "#B0BEC5",
                "#B0BEC5",
                "#B0BEC5",
                "#B0BEC5",
                "#B0BEC5",
                "#B0BEC5",
                "#B0BEC5",
                "#B0BEC5",
                "#B0BEC5",
                "#B0BEC5",
                "#B0BEC5",
                "#B0BEC5",
                "#B0BEC5",
                "#B0BEC5",
                "#B0BEC5",
                "#B0BEC5",
                "#B0BEC5",
                "#B0BEC5",
                "#B0BEC5",
                "#B0BEC5",
                "#B0BEC5",
                "red",
                "#B0BEC5",
                "#B0BEC5",
                "#B0BEC5",
                "#B0BEC5",
                "#B0BEC5",
                "#B0BEC5",
                "#B0BEC5",
                "#B0BEC5",
                "#B0BEC5",
                "#B0BEC5",
                "#B0BEC5",
                "#B0BEC5",
                "#B0BEC5",
                "#B0BEC5"
               ]
              ]
             }
            ],
            "label": "Topic 44",
            "method": "update"
           },
           {
            "args": [
             {
              "marker.color": [
               [
                "#B0BEC5",
                "#B0BEC5",
                "#B0BEC5",
                "#B0BEC5",
                "#B0BEC5",
                "#B0BEC5",
                "#B0BEC5",
                "#B0BEC5",
                "#B0BEC5",
                "#B0BEC5",
                "#B0BEC5",
                "#B0BEC5",
                "#B0BEC5",
                "#B0BEC5",
                "#B0BEC5",
                "#B0BEC5",
                "#B0BEC5",
                "#B0BEC5",
                "#B0BEC5",
                "#B0BEC5",
                "#B0BEC5",
                "#B0BEC5",
                "#B0BEC5",
                "#B0BEC5",
                "#B0BEC5",
                "#B0BEC5",
                "#B0BEC5",
                "#B0BEC5",
                "#B0BEC5",
                "#B0BEC5",
                "#B0BEC5",
                "#B0BEC5",
                "#B0BEC5",
                "#B0BEC5",
                "#B0BEC5",
                "#B0BEC5",
                "#B0BEC5",
                "#B0BEC5",
                "#B0BEC5",
                "#B0BEC5",
                "#B0BEC5",
                "#B0BEC5",
                "#B0BEC5",
                "#B0BEC5",
                "#B0BEC5",
                "red",
                "#B0BEC5",
                "#B0BEC5",
                "#B0BEC5",
                "#B0BEC5",
                "#B0BEC5",
                "#B0BEC5",
                "#B0BEC5",
                "#B0BEC5",
                "#B0BEC5",
                "#B0BEC5",
                "#B0BEC5",
                "#B0BEC5",
                "#B0BEC5"
               ]
              ]
             }
            ],
            "label": "Topic 45",
            "method": "update"
           },
           {
            "args": [
             {
              "marker.color": [
               [
                "#B0BEC5",
                "#B0BEC5",
                "#B0BEC5",
                "#B0BEC5",
                "#B0BEC5",
                "#B0BEC5",
                "#B0BEC5",
                "#B0BEC5",
                "#B0BEC5",
                "#B0BEC5",
                "#B0BEC5",
                "#B0BEC5",
                "#B0BEC5",
                "#B0BEC5",
                "#B0BEC5",
                "#B0BEC5",
                "#B0BEC5",
                "#B0BEC5",
                "#B0BEC5",
                "#B0BEC5",
                "#B0BEC5",
                "#B0BEC5",
                "#B0BEC5",
                "#B0BEC5",
                "#B0BEC5",
                "#B0BEC5",
                "#B0BEC5",
                "#B0BEC5",
                "#B0BEC5",
                "#B0BEC5",
                "#B0BEC5",
                "#B0BEC5",
                "#B0BEC5",
                "#B0BEC5",
                "#B0BEC5",
                "#B0BEC5",
                "#B0BEC5",
                "#B0BEC5",
                "#B0BEC5",
                "#B0BEC5",
                "#B0BEC5",
                "#B0BEC5",
                "#B0BEC5",
                "#B0BEC5",
                "#B0BEC5",
                "#B0BEC5",
                "red",
                "#B0BEC5",
                "#B0BEC5",
                "#B0BEC5",
                "#B0BEC5",
                "#B0BEC5",
                "#B0BEC5",
                "#B0BEC5",
                "#B0BEC5",
                "#B0BEC5",
                "#B0BEC5",
                "#B0BEC5",
                "#B0BEC5"
               ]
              ]
             }
            ],
            "label": "Topic 46",
            "method": "update"
           },
           {
            "args": [
             {
              "marker.color": [
               [
                "#B0BEC5",
                "#B0BEC5",
                "#B0BEC5",
                "#B0BEC5",
                "#B0BEC5",
                "#B0BEC5",
                "#B0BEC5",
                "#B0BEC5",
                "#B0BEC5",
                "#B0BEC5",
                "#B0BEC5",
                "#B0BEC5",
                "#B0BEC5",
                "#B0BEC5",
                "#B0BEC5",
                "#B0BEC5",
                "#B0BEC5",
                "#B0BEC5",
                "#B0BEC5",
                "#B0BEC5",
                "#B0BEC5",
                "#B0BEC5",
                "#B0BEC5",
                "#B0BEC5",
                "#B0BEC5",
                "#B0BEC5",
                "#B0BEC5",
                "#B0BEC5",
                "#B0BEC5",
                "#B0BEC5",
                "#B0BEC5",
                "#B0BEC5",
                "#B0BEC5",
                "#B0BEC5",
                "#B0BEC5",
                "#B0BEC5",
                "#B0BEC5",
                "#B0BEC5",
                "#B0BEC5",
                "#B0BEC5",
                "#B0BEC5",
                "#B0BEC5",
                "#B0BEC5",
                "#B0BEC5",
                "#B0BEC5",
                "#B0BEC5",
                "#B0BEC5",
                "red",
                "#B0BEC5",
                "#B0BEC5",
                "#B0BEC5",
                "#B0BEC5",
                "#B0BEC5",
                "#B0BEC5",
                "#B0BEC5",
                "#B0BEC5",
                "#B0BEC5",
                "#B0BEC5",
                "#B0BEC5"
               ]
              ]
             }
            ],
            "label": "Topic 47",
            "method": "update"
           },
           {
            "args": [
             {
              "marker.color": [
               [
                "#B0BEC5",
                "#B0BEC5",
                "#B0BEC5",
                "#B0BEC5",
                "#B0BEC5",
                "#B0BEC5",
                "#B0BEC5",
                "#B0BEC5",
                "#B0BEC5",
                "#B0BEC5",
                "#B0BEC5",
                "#B0BEC5",
                "#B0BEC5",
                "#B0BEC5",
                "#B0BEC5",
                "#B0BEC5",
                "#B0BEC5",
                "#B0BEC5",
                "#B0BEC5",
                "#B0BEC5",
                "#B0BEC5",
                "#B0BEC5",
                "#B0BEC5",
                "#B0BEC5",
                "#B0BEC5",
                "#B0BEC5",
                "#B0BEC5",
                "#B0BEC5",
                "#B0BEC5",
                "#B0BEC5",
                "#B0BEC5",
                "#B0BEC5",
                "#B0BEC5",
                "#B0BEC5",
                "#B0BEC5",
                "#B0BEC5",
                "#B0BEC5",
                "#B0BEC5",
                "#B0BEC5",
                "#B0BEC5",
                "#B0BEC5",
                "#B0BEC5",
                "#B0BEC5",
                "#B0BEC5",
                "#B0BEC5",
                "#B0BEC5",
                "#B0BEC5",
                "#B0BEC5",
                "red",
                "#B0BEC5",
                "#B0BEC5",
                "#B0BEC5",
                "#B0BEC5",
                "#B0BEC5",
                "#B0BEC5",
                "#B0BEC5",
                "#B0BEC5",
                "#B0BEC5",
                "#B0BEC5"
               ]
              ]
             }
            ],
            "label": "Topic 48",
            "method": "update"
           },
           {
            "args": [
             {
              "marker.color": [
               [
                "#B0BEC5",
                "#B0BEC5",
                "#B0BEC5",
                "#B0BEC5",
                "#B0BEC5",
                "#B0BEC5",
                "#B0BEC5",
                "#B0BEC5",
                "#B0BEC5",
                "#B0BEC5",
                "#B0BEC5",
                "#B0BEC5",
                "#B0BEC5",
                "#B0BEC5",
                "#B0BEC5",
                "#B0BEC5",
                "#B0BEC5",
                "#B0BEC5",
                "#B0BEC5",
                "#B0BEC5",
                "#B0BEC5",
                "#B0BEC5",
                "#B0BEC5",
                "#B0BEC5",
                "#B0BEC5",
                "#B0BEC5",
                "#B0BEC5",
                "#B0BEC5",
                "#B0BEC5",
                "#B0BEC5",
                "#B0BEC5",
                "#B0BEC5",
                "#B0BEC5",
                "#B0BEC5",
                "#B0BEC5",
                "#B0BEC5",
                "#B0BEC5",
                "#B0BEC5",
                "#B0BEC5",
                "#B0BEC5",
                "#B0BEC5",
                "#B0BEC5",
                "#B0BEC5",
                "#B0BEC5",
                "#B0BEC5",
                "#B0BEC5",
                "#B0BEC5",
                "#B0BEC5",
                "#B0BEC5",
                "red",
                "#B0BEC5",
                "#B0BEC5",
                "#B0BEC5",
                "#B0BEC5",
                "#B0BEC5",
                "#B0BEC5",
                "#B0BEC5",
                "#B0BEC5",
                "#B0BEC5"
               ]
              ]
             }
            ],
            "label": "Topic 49",
            "method": "update"
           },
           {
            "args": [
             {
              "marker.color": [
               [
                "#B0BEC5",
                "#B0BEC5",
                "#B0BEC5",
                "#B0BEC5",
                "#B0BEC5",
                "#B0BEC5",
                "#B0BEC5",
                "#B0BEC5",
                "#B0BEC5",
                "#B0BEC5",
                "#B0BEC5",
                "#B0BEC5",
                "#B0BEC5",
                "#B0BEC5",
                "#B0BEC5",
                "#B0BEC5",
                "#B0BEC5",
                "#B0BEC5",
                "#B0BEC5",
                "#B0BEC5",
                "#B0BEC5",
                "#B0BEC5",
                "#B0BEC5",
                "#B0BEC5",
                "#B0BEC5",
                "#B0BEC5",
                "#B0BEC5",
                "#B0BEC5",
                "#B0BEC5",
                "#B0BEC5",
                "#B0BEC5",
                "#B0BEC5",
                "#B0BEC5",
                "#B0BEC5",
                "#B0BEC5",
                "#B0BEC5",
                "#B0BEC5",
                "#B0BEC5",
                "#B0BEC5",
                "#B0BEC5",
                "#B0BEC5",
                "#B0BEC5",
                "#B0BEC5",
                "#B0BEC5",
                "#B0BEC5",
                "#B0BEC5",
                "#B0BEC5",
                "#B0BEC5",
                "#B0BEC5",
                "#B0BEC5",
                "red",
                "#B0BEC5",
                "#B0BEC5",
                "#B0BEC5",
                "#B0BEC5",
                "#B0BEC5",
                "#B0BEC5",
                "#B0BEC5",
                "#B0BEC5"
               ]
              ]
             }
            ],
            "label": "Topic 50",
            "method": "update"
           },
           {
            "args": [
             {
              "marker.color": [
               [
                "#B0BEC5",
                "#B0BEC5",
                "#B0BEC5",
                "#B0BEC5",
                "#B0BEC5",
                "#B0BEC5",
                "#B0BEC5",
                "#B0BEC5",
                "#B0BEC5",
                "#B0BEC5",
                "#B0BEC5",
                "#B0BEC5",
                "#B0BEC5",
                "#B0BEC5",
                "#B0BEC5",
                "#B0BEC5",
                "#B0BEC5",
                "#B0BEC5",
                "#B0BEC5",
                "#B0BEC5",
                "#B0BEC5",
                "#B0BEC5",
                "#B0BEC5",
                "#B0BEC5",
                "#B0BEC5",
                "#B0BEC5",
                "#B0BEC5",
                "#B0BEC5",
                "#B0BEC5",
                "#B0BEC5",
                "#B0BEC5",
                "#B0BEC5",
                "#B0BEC5",
                "#B0BEC5",
                "#B0BEC5",
                "#B0BEC5",
                "#B0BEC5",
                "#B0BEC5",
                "#B0BEC5",
                "#B0BEC5",
                "#B0BEC5",
                "#B0BEC5",
                "#B0BEC5",
                "#B0BEC5",
                "#B0BEC5",
                "#B0BEC5",
                "#B0BEC5",
                "#B0BEC5",
                "#B0BEC5",
                "#B0BEC5",
                "#B0BEC5",
                "red",
                "#B0BEC5",
                "#B0BEC5",
                "#B0BEC5",
                "#B0BEC5",
                "#B0BEC5",
                "#B0BEC5",
                "#B0BEC5"
               ]
              ]
             }
            ],
            "label": "Topic 51",
            "method": "update"
           },
           {
            "args": [
             {
              "marker.color": [
               [
                "#B0BEC5",
                "#B0BEC5",
                "#B0BEC5",
                "#B0BEC5",
                "#B0BEC5",
                "#B0BEC5",
                "#B0BEC5",
                "#B0BEC5",
                "#B0BEC5",
                "#B0BEC5",
                "#B0BEC5",
                "#B0BEC5",
                "#B0BEC5",
                "#B0BEC5",
                "#B0BEC5",
                "#B0BEC5",
                "#B0BEC5",
                "#B0BEC5",
                "#B0BEC5",
                "#B0BEC5",
                "#B0BEC5",
                "#B0BEC5",
                "#B0BEC5",
                "#B0BEC5",
                "#B0BEC5",
                "#B0BEC5",
                "#B0BEC5",
                "#B0BEC5",
                "#B0BEC5",
                "#B0BEC5",
                "#B0BEC5",
                "#B0BEC5",
                "#B0BEC5",
                "#B0BEC5",
                "#B0BEC5",
                "#B0BEC5",
                "#B0BEC5",
                "#B0BEC5",
                "#B0BEC5",
                "#B0BEC5",
                "#B0BEC5",
                "#B0BEC5",
                "#B0BEC5",
                "#B0BEC5",
                "#B0BEC5",
                "#B0BEC5",
                "#B0BEC5",
                "#B0BEC5",
                "#B0BEC5",
                "#B0BEC5",
                "#B0BEC5",
                "#B0BEC5",
                "red",
                "#B0BEC5",
                "#B0BEC5",
                "#B0BEC5",
                "#B0BEC5",
                "#B0BEC5",
                "#B0BEC5"
               ]
              ]
             }
            ],
            "label": "Topic 52",
            "method": "update"
           },
           {
            "args": [
             {
              "marker.color": [
               [
                "#B0BEC5",
                "#B0BEC5",
                "#B0BEC5",
                "#B0BEC5",
                "#B0BEC5",
                "#B0BEC5",
                "#B0BEC5",
                "#B0BEC5",
                "#B0BEC5",
                "#B0BEC5",
                "#B0BEC5",
                "#B0BEC5",
                "#B0BEC5",
                "#B0BEC5",
                "#B0BEC5",
                "#B0BEC5",
                "#B0BEC5",
                "#B0BEC5",
                "#B0BEC5",
                "#B0BEC5",
                "#B0BEC5",
                "#B0BEC5",
                "#B0BEC5",
                "#B0BEC5",
                "#B0BEC5",
                "#B0BEC5",
                "#B0BEC5",
                "#B0BEC5",
                "#B0BEC5",
                "#B0BEC5",
                "#B0BEC5",
                "#B0BEC5",
                "#B0BEC5",
                "#B0BEC5",
                "#B0BEC5",
                "#B0BEC5",
                "#B0BEC5",
                "#B0BEC5",
                "#B0BEC5",
                "#B0BEC5",
                "#B0BEC5",
                "#B0BEC5",
                "#B0BEC5",
                "#B0BEC5",
                "#B0BEC5",
                "#B0BEC5",
                "#B0BEC5",
                "#B0BEC5",
                "#B0BEC5",
                "#B0BEC5",
                "#B0BEC5",
                "#B0BEC5",
                "#B0BEC5",
                "red",
                "#B0BEC5",
                "#B0BEC5",
                "#B0BEC5",
                "#B0BEC5",
                "#B0BEC5"
               ]
              ]
             }
            ],
            "label": "Topic 53",
            "method": "update"
           },
           {
            "args": [
             {
              "marker.color": [
               [
                "#B0BEC5",
                "#B0BEC5",
                "#B0BEC5",
                "#B0BEC5",
                "#B0BEC5",
                "#B0BEC5",
                "#B0BEC5",
                "#B0BEC5",
                "#B0BEC5",
                "#B0BEC5",
                "#B0BEC5",
                "#B0BEC5",
                "#B0BEC5",
                "#B0BEC5",
                "#B0BEC5",
                "#B0BEC5",
                "#B0BEC5",
                "#B0BEC5",
                "#B0BEC5",
                "#B0BEC5",
                "#B0BEC5",
                "#B0BEC5",
                "#B0BEC5",
                "#B0BEC5",
                "#B0BEC5",
                "#B0BEC5",
                "#B0BEC5",
                "#B0BEC5",
                "#B0BEC5",
                "#B0BEC5",
                "#B0BEC5",
                "#B0BEC5",
                "#B0BEC5",
                "#B0BEC5",
                "#B0BEC5",
                "#B0BEC5",
                "#B0BEC5",
                "#B0BEC5",
                "#B0BEC5",
                "#B0BEC5",
                "#B0BEC5",
                "#B0BEC5",
                "#B0BEC5",
                "#B0BEC5",
                "#B0BEC5",
                "#B0BEC5",
                "#B0BEC5",
                "#B0BEC5",
                "#B0BEC5",
                "#B0BEC5",
                "#B0BEC5",
                "#B0BEC5",
                "#B0BEC5",
                "#B0BEC5",
                "red",
                "#B0BEC5",
                "#B0BEC5",
                "#B0BEC5",
                "#B0BEC5"
               ]
              ]
             }
            ],
            "label": "Topic 54",
            "method": "update"
           },
           {
            "args": [
             {
              "marker.color": [
               [
                "#B0BEC5",
                "#B0BEC5",
                "#B0BEC5",
                "#B0BEC5",
                "#B0BEC5",
                "#B0BEC5",
                "#B0BEC5",
                "#B0BEC5",
                "#B0BEC5",
                "#B0BEC5",
                "#B0BEC5",
                "#B0BEC5",
                "#B0BEC5",
                "#B0BEC5",
                "#B0BEC5",
                "#B0BEC5",
                "#B0BEC5",
                "#B0BEC5",
                "#B0BEC5",
                "#B0BEC5",
                "#B0BEC5",
                "#B0BEC5",
                "#B0BEC5",
                "#B0BEC5",
                "#B0BEC5",
                "#B0BEC5",
                "#B0BEC5",
                "#B0BEC5",
                "#B0BEC5",
                "#B0BEC5",
                "#B0BEC5",
                "#B0BEC5",
                "#B0BEC5",
                "#B0BEC5",
                "#B0BEC5",
                "#B0BEC5",
                "#B0BEC5",
                "#B0BEC5",
                "#B0BEC5",
                "#B0BEC5",
                "#B0BEC5",
                "#B0BEC5",
                "#B0BEC5",
                "#B0BEC5",
                "#B0BEC5",
                "#B0BEC5",
                "#B0BEC5",
                "#B0BEC5",
                "#B0BEC5",
                "#B0BEC5",
                "#B0BEC5",
                "#B0BEC5",
                "#B0BEC5",
                "#B0BEC5",
                "#B0BEC5",
                "red",
                "#B0BEC5",
                "#B0BEC5",
                "#B0BEC5"
               ]
              ]
             }
            ],
            "label": "Topic 55",
            "method": "update"
           },
           {
            "args": [
             {
              "marker.color": [
               [
                "#B0BEC5",
                "#B0BEC5",
                "#B0BEC5",
                "#B0BEC5",
                "#B0BEC5",
                "#B0BEC5",
                "#B0BEC5",
                "#B0BEC5",
                "#B0BEC5",
                "#B0BEC5",
                "#B0BEC5",
                "#B0BEC5",
                "#B0BEC5",
                "#B0BEC5",
                "#B0BEC5",
                "#B0BEC5",
                "#B0BEC5",
                "#B0BEC5",
                "#B0BEC5",
                "#B0BEC5",
                "#B0BEC5",
                "#B0BEC5",
                "#B0BEC5",
                "#B0BEC5",
                "#B0BEC5",
                "#B0BEC5",
                "#B0BEC5",
                "#B0BEC5",
                "#B0BEC5",
                "#B0BEC5",
                "#B0BEC5",
                "#B0BEC5",
                "#B0BEC5",
                "#B0BEC5",
                "#B0BEC5",
                "#B0BEC5",
                "#B0BEC5",
                "#B0BEC5",
                "#B0BEC5",
                "#B0BEC5",
                "#B0BEC5",
                "#B0BEC5",
                "#B0BEC5",
                "#B0BEC5",
                "#B0BEC5",
                "#B0BEC5",
                "#B0BEC5",
                "#B0BEC5",
                "#B0BEC5",
                "#B0BEC5",
                "#B0BEC5",
                "#B0BEC5",
                "#B0BEC5",
                "#B0BEC5",
                "#B0BEC5",
                "#B0BEC5",
                "red",
                "#B0BEC5",
                "#B0BEC5"
               ]
              ]
             }
            ],
            "label": "Topic 56",
            "method": "update"
           },
           {
            "args": [
             {
              "marker.color": [
               [
                "#B0BEC5",
                "#B0BEC5",
                "#B0BEC5",
                "#B0BEC5",
                "#B0BEC5",
                "#B0BEC5",
                "#B0BEC5",
                "#B0BEC5",
                "#B0BEC5",
                "#B0BEC5",
                "#B0BEC5",
                "#B0BEC5",
                "#B0BEC5",
                "#B0BEC5",
                "#B0BEC5",
                "#B0BEC5",
                "#B0BEC5",
                "#B0BEC5",
                "#B0BEC5",
                "#B0BEC5",
                "#B0BEC5",
                "#B0BEC5",
                "#B0BEC5",
                "#B0BEC5",
                "#B0BEC5",
                "#B0BEC5",
                "#B0BEC5",
                "#B0BEC5",
                "#B0BEC5",
                "#B0BEC5",
                "#B0BEC5",
                "#B0BEC5",
                "#B0BEC5",
                "#B0BEC5",
                "#B0BEC5",
                "#B0BEC5",
                "#B0BEC5",
                "#B0BEC5",
                "#B0BEC5",
                "#B0BEC5",
                "#B0BEC5",
                "#B0BEC5",
                "#B0BEC5",
                "#B0BEC5",
                "#B0BEC5",
                "#B0BEC5",
                "#B0BEC5",
                "#B0BEC5",
                "#B0BEC5",
                "#B0BEC5",
                "#B0BEC5",
                "#B0BEC5",
                "#B0BEC5",
                "#B0BEC5",
                "#B0BEC5",
                "#B0BEC5",
                "#B0BEC5",
                "red",
                "#B0BEC5"
               ]
              ]
             }
            ],
            "label": "Topic 57",
            "method": "update"
           },
           {
            "args": [
             {
              "marker.color": [
               [
                "#B0BEC5",
                "#B0BEC5",
                "#B0BEC5",
                "#B0BEC5",
                "#B0BEC5",
                "#B0BEC5",
                "#B0BEC5",
                "#B0BEC5",
                "#B0BEC5",
                "#B0BEC5",
                "#B0BEC5",
                "#B0BEC5",
                "#B0BEC5",
                "#B0BEC5",
                "#B0BEC5",
                "#B0BEC5",
                "#B0BEC5",
                "#B0BEC5",
                "#B0BEC5",
                "#B0BEC5",
                "#B0BEC5",
                "#B0BEC5",
                "#B0BEC5",
                "#B0BEC5",
                "#B0BEC5",
                "#B0BEC5",
                "#B0BEC5",
                "#B0BEC5",
                "#B0BEC5",
                "#B0BEC5",
                "#B0BEC5",
                "#B0BEC5",
                "#B0BEC5",
                "#B0BEC5",
                "#B0BEC5",
                "#B0BEC5",
                "#B0BEC5",
                "#B0BEC5",
                "#B0BEC5",
                "#B0BEC5",
                "#B0BEC5",
                "#B0BEC5",
                "#B0BEC5",
                "#B0BEC5",
                "#B0BEC5",
                "#B0BEC5",
                "#B0BEC5",
                "#B0BEC5",
                "#B0BEC5",
                "#B0BEC5",
                "#B0BEC5",
                "#B0BEC5",
                "#B0BEC5",
                "#B0BEC5",
                "#B0BEC5",
                "#B0BEC5",
                "#B0BEC5",
                "#B0BEC5",
                "red"
               ]
              ]
             }
            ],
            "label": "Topic 58",
            "method": "update"
           }
          ]
         }
        ],
        "template": {
         "data": {
          "bar": [
           {
            "error_x": {
             "color": "rgb(36,36,36)"
            },
            "error_y": {
             "color": "rgb(36,36,36)"
            },
            "marker": {
             "line": {
              "color": "white",
              "width": 0.5
             },
             "pattern": {
              "fillmode": "overlay",
              "size": 10,
              "solidity": 0.2
             }
            },
            "type": "bar"
           }
          ],
          "barpolar": [
           {
            "marker": {
             "line": {
              "color": "white",
              "width": 0.5
             },
             "pattern": {
              "fillmode": "overlay",
              "size": 10,
              "solidity": 0.2
             }
            },
            "type": "barpolar"
           }
          ],
          "carpet": [
           {
            "aaxis": {
             "endlinecolor": "rgb(36,36,36)",
             "gridcolor": "white",
             "linecolor": "white",
             "minorgridcolor": "white",
             "startlinecolor": "rgb(36,36,36)"
            },
            "baxis": {
             "endlinecolor": "rgb(36,36,36)",
             "gridcolor": "white",
             "linecolor": "white",
             "minorgridcolor": "white",
             "startlinecolor": "rgb(36,36,36)"
            },
            "type": "carpet"
           }
          ],
          "choropleth": [
           {
            "colorbar": {
             "outlinewidth": 1,
             "tickcolor": "rgb(36,36,36)",
             "ticks": "outside"
            },
            "type": "choropleth"
           }
          ],
          "contour": [
           {
            "colorbar": {
             "outlinewidth": 1,
             "tickcolor": "rgb(36,36,36)",
             "ticks": "outside"
            },
            "colorscale": [
             [
              0,
              "#440154"
             ],
             [
              0.1111111111111111,
              "#482878"
             ],
             [
              0.2222222222222222,
              "#3e4989"
             ],
             [
              0.3333333333333333,
              "#31688e"
             ],
             [
              0.4444444444444444,
              "#26828e"
             ],
             [
              0.5555555555555556,
              "#1f9e89"
             ],
             [
              0.6666666666666666,
              "#35b779"
             ],
             [
              0.7777777777777778,
              "#6ece58"
             ],
             [
              0.8888888888888888,
              "#b5de2b"
             ],
             [
              1,
              "#fde725"
             ]
            ],
            "type": "contour"
           }
          ],
          "contourcarpet": [
           {
            "colorbar": {
             "outlinewidth": 1,
             "tickcolor": "rgb(36,36,36)",
             "ticks": "outside"
            },
            "type": "contourcarpet"
           }
          ],
          "heatmap": [
           {
            "colorbar": {
             "outlinewidth": 1,
             "tickcolor": "rgb(36,36,36)",
             "ticks": "outside"
            },
            "colorscale": [
             [
              0,
              "#440154"
             ],
             [
              0.1111111111111111,
              "#482878"
             ],
             [
              0.2222222222222222,
              "#3e4989"
             ],
             [
              0.3333333333333333,
              "#31688e"
             ],
             [
              0.4444444444444444,
              "#26828e"
             ],
             [
              0.5555555555555556,
              "#1f9e89"
             ],
             [
              0.6666666666666666,
              "#35b779"
             ],
             [
              0.7777777777777778,
              "#6ece58"
             ],
             [
              0.8888888888888888,
              "#b5de2b"
             ],
             [
              1,
              "#fde725"
             ]
            ],
            "type": "heatmap"
           }
          ],
          "heatmapgl": [
           {
            "colorbar": {
             "outlinewidth": 1,
             "tickcolor": "rgb(36,36,36)",
             "ticks": "outside"
            },
            "colorscale": [
             [
              0,
              "#440154"
             ],
             [
              0.1111111111111111,
              "#482878"
             ],
             [
              0.2222222222222222,
              "#3e4989"
             ],
             [
              0.3333333333333333,
              "#31688e"
             ],
             [
              0.4444444444444444,
              "#26828e"
             ],
             [
              0.5555555555555556,
              "#1f9e89"
             ],
             [
              0.6666666666666666,
              "#35b779"
             ],
             [
              0.7777777777777778,
              "#6ece58"
             ],
             [
              0.8888888888888888,
              "#b5de2b"
             ],
             [
              1,
              "#fde725"
             ]
            ],
            "type": "heatmapgl"
           }
          ],
          "histogram": [
           {
            "marker": {
             "line": {
              "color": "white",
              "width": 0.6
             }
            },
            "type": "histogram"
           }
          ],
          "histogram2d": [
           {
            "colorbar": {
             "outlinewidth": 1,
             "tickcolor": "rgb(36,36,36)",
             "ticks": "outside"
            },
            "colorscale": [
             [
              0,
              "#440154"
             ],
             [
              0.1111111111111111,
              "#482878"
             ],
             [
              0.2222222222222222,
              "#3e4989"
             ],
             [
              0.3333333333333333,
              "#31688e"
             ],
             [
              0.4444444444444444,
              "#26828e"
             ],
             [
              0.5555555555555556,
              "#1f9e89"
             ],
             [
              0.6666666666666666,
              "#35b779"
             ],
             [
              0.7777777777777778,
              "#6ece58"
             ],
             [
              0.8888888888888888,
              "#b5de2b"
             ],
             [
              1,
              "#fde725"
             ]
            ],
            "type": "histogram2d"
           }
          ],
          "histogram2dcontour": [
           {
            "colorbar": {
             "outlinewidth": 1,
             "tickcolor": "rgb(36,36,36)",
             "ticks": "outside"
            },
            "colorscale": [
             [
              0,
              "#440154"
             ],
             [
              0.1111111111111111,
              "#482878"
             ],
             [
              0.2222222222222222,
              "#3e4989"
             ],
             [
              0.3333333333333333,
              "#31688e"
             ],
             [
              0.4444444444444444,
              "#26828e"
             ],
             [
              0.5555555555555556,
              "#1f9e89"
             ],
             [
              0.6666666666666666,
              "#35b779"
             ],
             [
              0.7777777777777778,
              "#6ece58"
             ],
             [
              0.8888888888888888,
              "#b5de2b"
             ],
             [
              1,
              "#fde725"
             ]
            ],
            "type": "histogram2dcontour"
           }
          ],
          "mesh3d": [
           {
            "colorbar": {
             "outlinewidth": 1,
             "tickcolor": "rgb(36,36,36)",
             "ticks": "outside"
            },
            "type": "mesh3d"
           }
          ],
          "parcoords": [
           {
            "line": {
             "colorbar": {
              "outlinewidth": 1,
              "tickcolor": "rgb(36,36,36)",
              "ticks": "outside"
             }
            },
            "type": "parcoords"
           }
          ],
          "pie": [
           {
            "automargin": true,
            "type": "pie"
           }
          ],
          "scatter": [
           {
            "fillpattern": {
             "fillmode": "overlay",
             "size": 10,
             "solidity": 0.2
            },
            "type": "scatter"
           }
          ],
          "scatter3d": [
           {
            "line": {
             "colorbar": {
              "outlinewidth": 1,
              "tickcolor": "rgb(36,36,36)",
              "ticks": "outside"
             }
            },
            "marker": {
             "colorbar": {
              "outlinewidth": 1,
              "tickcolor": "rgb(36,36,36)",
              "ticks": "outside"
             }
            },
            "type": "scatter3d"
           }
          ],
          "scattercarpet": [
           {
            "marker": {
             "colorbar": {
              "outlinewidth": 1,
              "tickcolor": "rgb(36,36,36)",
              "ticks": "outside"
             }
            },
            "type": "scattercarpet"
           }
          ],
          "scattergeo": [
           {
            "marker": {
             "colorbar": {
              "outlinewidth": 1,
              "tickcolor": "rgb(36,36,36)",
              "ticks": "outside"
             }
            },
            "type": "scattergeo"
           }
          ],
          "scattergl": [
           {
            "marker": {
             "colorbar": {
              "outlinewidth": 1,
              "tickcolor": "rgb(36,36,36)",
              "ticks": "outside"
             }
            },
            "type": "scattergl"
           }
          ],
          "scattermapbox": [
           {
            "marker": {
             "colorbar": {
              "outlinewidth": 1,
              "tickcolor": "rgb(36,36,36)",
              "ticks": "outside"
             }
            },
            "type": "scattermapbox"
           }
          ],
          "scatterpolar": [
           {
            "marker": {
             "colorbar": {
              "outlinewidth": 1,
              "tickcolor": "rgb(36,36,36)",
              "ticks": "outside"
             }
            },
            "type": "scatterpolar"
           }
          ],
          "scatterpolargl": [
           {
            "marker": {
             "colorbar": {
              "outlinewidth": 1,
              "tickcolor": "rgb(36,36,36)",
              "ticks": "outside"
             }
            },
            "type": "scatterpolargl"
           }
          ],
          "scatterternary": [
           {
            "marker": {
             "colorbar": {
              "outlinewidth": 1,
              "tickcolor": "rgb(36,36,36)",
              "ticks": "outside"
             }
            },
            "type": "scatterternary"
           }
          ],
          "surface": [
           {
            "colorbar": {
             "outlinewidth": 1,
             "tickcolor": "rgb(36,36,36)",
             "ticks": "outside"
            },
            "colorscale": [
             [
              0,
              "#440154"
             ],
             [
              0.1111111111111111,
              "#482878"
             ],
             [
              0.2222222222222222,
              "#3e4989"
             ],
             [
              0.3333333333333333,
              "#31688e"
             ],
             [
              0.4444444444444444,
              "#26828e"
             ],
             [
              0.5555555555555556,
              "#1f9e89"
             ],
             [
              0.6666666666666666,
              "#35b779"
             ],
             [
              0.7777777777777778,
              "#6ece58"
             ],
             [
              0.8888888888888888,
              "#b5de2b"
             ],
             [
              1,
              "#fde725"
             ]
            ],
            "type": "surface"
           }
          ],
          "table": [
           {
            "cells": {
             "fill": {
              "color": "rgb(237,237,237)"
             },
             "line": {
              "color": "white"
             }
            },
            "header": {
             "fill": {
              "color": "rgb(217,217,217)"
             },
             "line": {
              "color": "white"
             }
            },
            "type": "table"
           }
          ]
         },
         "layout": {
          "annotationdefaults": {
           "arrowhead": 0,
           "arrowwidth": 1
          },
          "autotypenumbers": "strict",
          "coloraxis": {
           "colorbar": {
            "outlinewidth": 1,
            "tickcolor": "rgb(36,36,36)",
            "ticks": "outside"
           }
          },
          "colorscale": {
           "diverging": [
            [
             0,
             "rgb(103,0,31)"
            ],
            [
             0.1,
             "rgb(178,24,43)"
            ],
            [
             0.2,
             "rgb(214,96,77)"
            ],
            [
             0.3,
             "rgb(244,165,130)"
            ],
            [
             0.4,
             "rgb(253,219,199)"
            ],
            [
             0.5,
             "rgb(247,247,247)"
            ],
            [
             0.6,
             "rgb(209,229,240)"
            ],
            [
             0.7,
             "rgb(146,197,222)"
            ],
            [
             0.8,
             "rgb(67,147,195)"
            ],
            [
             0.9,
             "rgb(33,102,172)"
            ],
            [
             1,
             "rgb(5,48,97)"
            ]
           ],
           "sequential": [
            [
             0,
             "#440154"
            ],
            [
             0.1111111111111111,
             "#482878"
            ],
            [
             0.2222222222222222,
             "#3e4989"
            ],
            [
             0.3333333333333333,
             "#31688e"
            ],
            [
             0.4444444444444444,
             "#26828e"
            ],
            [
             0.5555555555555556,
             "#1f9e89"
            ],
            [
             0.6666666666666666,
             "#35b779"
            ],
            [
             0.7777777777777778,
             "#6ece58"
            ],
            [
             0.8888888888888888,
             "#b5de2b"
            ],
            [
             1,
             "#fde725"
            ]
           ],
           "sequentialminus": [
            [
             0,
             "#440154"
            ],
            [
             0.1111111111111111,
             "#482878"
            ],
            [
             0.2222222222222222,
             "#3e4989"
            ],
            [
             0.3333333333333333,
             "#31688e"
            ],
            [
             0.4444444444444444,
             "#26828e"
            ],
            [
             0.5555555555555556,
             "#1f9e89"
            ],
            [
             0.6666666666666666,
             "#35b779"
            ],
            [
             0.7777777777777778,
             "#6ece58"
            ],
            [
             0.8888888888888888,
             "#b5de2b"
            ],
            [
             1,
             "#fde725"
            ]
           ]
          },
          "colorway": [
           "#1F77B4",
           "#FF7F0E",
           "#2CA02C",
           "#D62728",
           "#9467BD",
           "#8C564B",
           "#E377C2",
           "#7F7F7F",
           "#BCBD22",
           "#17BECF"
          ],
          "font": {
           "color": "rgb(36,36,36)"
          },
          "geo": {
           "bgcolor": "white",
           "lakecolor": "white",
           "landcolor": "white",
           "showlakes": true,
           "showland": true,
           "subunitcolor": "white"
          },
          "hoverlabel": {
           "align": "left"
          },
          "hovermode": "closest",
          "mapbox": {
           "style": "light"
          },
          "paper_bgcolor": "white",
          "plot_bgcolor": "white",
          "polar": {
           "angularaxis": {
            "gridcolor": "rgb(232,232,232)",
            "linecolor": "rgb(36,36,36)",
            "showgrid": false,
            "showline": true,
            "ticks": "outside"
           },
           "bgcolor": "white",
           "radialaxis": {
            "gridcolor": "rgb(232,232,232)",
            "linecolor": "rgb(36,36,36)",
            "showgrid": false,
            "showline": true,
            "ticks": "outside"
           }
          },
          "scene": {
           "xaxis": {
            "backgroundcolor": "white",
            "gridcolor": "rgb(232,232,232)",
            "gridwidth": 2,
            "linecolor": "rgb(36,36,36)",
            "showbackground": true,
            "showgrid": false,
            "showline": true,
            "ticks": "outside",
            "zeroline": false,
            "zerolinecolor": "rgb(36,36,36)"
           },
           "yaxis": {
            "backgroundcolor": "white",
            "gridcolor": "rgb(232,232,232)",
            "gridwidth": 2,
            "linecolor": "rgb(36,36,36)",
            "showbackground": true,
            "showgrid": false,
            "showline": true,
            "ticks": "outside",
            "zeroline": false,
            "zerolinecolor": "rgb(36,36,36)"
           },
           "zaxis": {
            "backgroundcolor": "white",
            "gridcolor": "rgb(232,232,232)",
            "gridwidth": 2,
            "linecolor": "rgb(36,36,36)",
            "showbackground": true,
            "showgrid": false,
            "showline": true,
            "ticks": "outside",
            "zeroline": false,
            "zerolinecolor": "rgb(36,36,36)"
           }
          },
          "shapedefaults": {
           "fillcolor": "black",
           "line": {
            "width": 0
           },
           "opacity": 0.3
          },
          "ternary": {
           "aaxis": {
            "gridcolor": "rgb(232,232,232)",
            "linecolor": "rgb(36,36,36)",
            "showgrid": false,
            "showline": true,
            "ticks": "outside"
           },
           "baxis": {
            "gridcolor": "rgb(232,232,232)",
            "linecolor": "rgb(36,36,36)",
            "showgrid": false,
            "showline": true,
            "ticks": "outside"
           },
           "bgcolor": "white",
           "caxis": {
            "gridcolor": "rgb(232,232,232)",
            "linecolor": "rgb(36,36,36)",
            "showgrid": false,
            "showline": true,
            "ticks": "outside"
           }
          },
          "title": {
           "x": 0.05
          },
          "xaxis": {
           "automargin": true,
           "gridcolor": "rgb(232,232,232)",
           "linecolor": "rgb(36,36,36)",
           "showgrid": false,
           "showline": true,
           "ticks": "outside",
           "title": {
            "standoff": 15
           },
           "zeroline": false,
           "zerolinecolor": "rgb(36,36,36)"
          },
          "yaxis": {
           "automargin": true,
           "gridcolor": "rgb(232,232,232)",
           "linecolor": "rgb(36,36,36)",
           "showgrid": false,
           "showline": true,
           "ticks": "outside",
           "title": {
            "standoff": 15
           },
           "zeroline": false,
           "zerolinecolor": "rgb(36,36,36)"
          }
         }
        },
        "title": {
         "font": {
          "color": "Black",
          "size": 22
         },
         "text": "<b>Intertopic Distance Map</b>",
         "x": 0.5,
         "xanchor": "center",
         "y": 0.95,
         "yanchor": "top"
        },
        "width": 650,
        "xaxis": {
         "anchor": "y",
         "domain": [
          0,
          1
         ],
         "range": [
          -10.006412506103516,
          18.25925064086914
         ],
         "title": {
          "text": ""
         },
         "visible": false
        },
        "yaxis": {
         "anchor": "x",
         "domain": [
          0,
          1
         ],
         "range": [
          -15.429574012756348,
          19.525562286376953
         ],
         "title": {
          "text": ""
         },
         "visible": false
        }
       }
      }
     },
     "metadata": {},
     "output_type": "display_data"
    }
   ],
   "source": [
    "topic_model.visualize_topics()"
   ]
  },
  {
   "cell_type": "code",
   "execution_count": 16,
   "metadata": {},
   "outputs": [
    {
     "data": {
      "application/vnd.plotly.v1+json": {
       "config": {
        "plotlyServerURL": "https://plot.ly"
       },
       "data": [
        {
         "hoverinfo": "text",
         "hovertext": [
          "felt kind relaxed felt real experience",
          "pretty drastic actually",
          "sync",
          "warmth",
          "said student im well today say tell u",
          "well people put mouth",
          "go",
          "urgent",
          "imagine",
          "fly",
          "seeing everything feel warm",
          "otherwise effectively touching back little bit blurred",
          "feel think body",
          "still mind didnt felt connected body",
          "real memory felt vivid",
          "time without noise",
          "frame reference",
          "oh im living anymore",
          "solid empty",
          "delay touching stick",
          "example sometimes prove feeling would catch exactly back",
          "see feel weird see",
          "also point",
          "asynchrony",
          "felt someone else room",
          "well guess also shocking never headset",
          "could obviously dont expect happen",
          "example someone else searching job six month id oh thats unlucky youll find one",
          "think interesting able visualize body outside think ill let back pain whatever see outside understand",
          "beginning control put attention another place became even slower slower",
          "boring",
          "reassuring sense",
          "aspect selfcriticism",
          "particular emotion",
          "follow attention time everything gone",
          "first one minute said boring want get get",
          "make thing active",
          "strange see could see image",
          "way thing disconecting everything",
          "towards different direction",
          "seemed way",
          "well started feel quite realistic",
          "good go",
          "see little bit strange feeling",
          "wasnt",
          "maybe first time moving could see happen real time wasnt maybe would lag dont didnt notice",
          "disturbed fact touching right place could compute delay im going touching",
          "time go faster first one",
          "well thing forget something itch forget",
          "think im perfectionist selfcritical kind thing",
          "kind nice confirmation setting well close real",
          "mood",
          "getting mood mean probably im distracted",
          "exactly",
          "another time concentrated body dont",
          "felt touched thats body almost im currently one could jump one",
          "felt currently body felt knew body well could see touched",
          "felt separated going around",
          "something didnt notice massive difference start beginning flexibility cognitively",
          "well didnt see remarkable difference one told point view",
          "think space without noise",
          "didnt feeling outer body experience anything",
          "guess viewpoint change rock disappears within",
          "think probably thing said interception something much different different feeling outside",
          "word telepathy",
          "comfortable",
          "im second time",
          "took headset realized true actually",
          "want take vibrant energy reality",
          "less concentrated second time",
          "stayed actually time",
          "never anxiety prompted saw guy said",
          "overall generally quite enjoyable",
          "prefer vision angle point view think",
          "mixed feeling",
          "weird sitting way would",
          "interesting last experiment mean matter touching image see synchronized feeling",
          "point also right aware feeling thought still moment even though im aware still try control",
          "could relate person front obviously could see still felt previous one felt somewhere else closed eye could space mind harder relate focus attention leg heart mind",
          "think need say french impression distant sensation feeling second session",
          "easier inner self physical self easier front",
          "thats changed perception",
          "computer mouse",
          "follow",
          "maybe weight mask",
          "think maybe meditate wasnt sure close eye focus said watch focus thing",
          "obviously didnt get sort bad feeling thats example period get intense",
          "make sense didnt feel alive make sense",
          "obviously afterwards feeling wasnt spot",
          "something dealayed nothing future past thinking recorded maybe something happened next month maybe dont",
          "point sort get disconnected",
          "first part extremely focused im following section seeing feeling sensation second part get start every single thing everything",
          "closed eye guess feeling able control sort stuff",
          "new easier kind try stay",
          "think signal sending",
          "saw shoulder movement",
          "exactly",
          "maybe think body",
          "felt could still disassociate touching",
          "definitely never felt kind warmth inside",
          "actually related physical part feeling love body",
          "experience see many thing sometimes maybe tell lot detail others cant feeling feeling",
          "still connection real alignment",
          "feel even though touching synchronized see",
          "would say",
          "correct",
          "able",
          "see stick feel little little",
          "remembered moved head little bit ago",
          "felt solid barrier rather empty shell could less ghost physical real solid",
          "even said start wandering around happens normal always try focus example stone stone structure work quite well would say",
          "see feel overall sense relaxed stuff exercise specifically trying focus compassionate towards leg something didnt make sense",
          "think think ive experienced youre train station there train next cant see anything else environment train next",
          "felt quite different",
          "im home easy control situation",
          "feeling want catch scene exactly",
          "could see rshaped thing",
          "fun",
          "think nice recording",
          "focusing looking avatar kept distracting trying aware body",
          "tapping bodily sensation nonjudgmental way scared embracing quite unfamiliar",
          "sound",
          "wasnt helpful",
          "necessarily control",
          "moment think",
          "back earth dont say feel less love less selflove",
          "change",
          "something ive sort practiced",
          "bit tiring second time",
          "honestly kind disconcerting",
          "audio mouse thing",
          "game say ok matching",
          "felt everything intensely",
          "positive",
          "meditation zoomed started looking body obviously current moment point reversed started showing happening past something",
          "couldnt get flow state getting exercise well",
          "interesting feel outside mind",
          "im trying hear feedback hear secret stuff",
          "weird two body one",
          "think reminded something stranger thing shes walking wet floor dark",
          "felt real think everything else kind dissolving away",
          "enjoyed",
          "want go back body maybe little dream type change mean",
          "sort minor",
          "overall pleasant setting",
          "mean felt way highly body",
          "think point maybe even disconnected feeling",
          "sort introspective",
          "indonesia",
          "thats strange didnt felt maybe",
          "thats realized oh change",
          "absolutely",
          "see object chalet collect",
          "sort didnt happen way",
          "think getting attention",
          "need",
          "absolutely dont thats saying fight meditate try cut sense disconect outside world put earplug usually close eye focus body",
          "dont remember well noticed changed",
          "kind changed dont touched bag",
          "actually thing want say",
          "case dont worry",
          "something ive done regularly",
          "one stronger one felt even body saw away kind",
          "hear confirm good fine",
          "id rather many people hard alone feel think body selfawareness youre asking",
          "one control stuff first time put quite high one put quite low",
          "kind disconnection",
          "connection see there visual change feel",
          "need focus meditate focus actual body thing",
          "little bit immersive looking screen film obviously didnt move around much move think move head sort see behind thing obviously cant see flat screen",
          "depends",
          "difficult blurry definition wasnt right",
          "concentrate",
          "glass physically",
          "first four part knew wasnt",
          "probably say im sure actually pleasant unpleasant",
          "doesnt elicit feeling thought people moment",
          "dont dont think felt something different",
          "think strange see found bit strange",
          "im going take sip water",
          "part taken space",
          "previous life",
          "dont think succed fully always fully convince ok funny seing form outside",
          "ok maybe ive never reached certain level",
          "want get body",
          "head feel empty thinking relax",
          "previous ok",
          "mean sometimes im kind disconnected surrounding",
          "observing body seeing feel corresponded someone",
          "vertebra yesthat clear",
          "liked",
          "didnt help body consciousness part",
          "way cool interesting see perspective almost controlling puppet instead actually also sometimes felt",
          "felt looking 3d",
          "seems im something look didnt relate much thing weird bit bit discomfort see thing look",
          "almost want feel still feel elsewhere",
          "much personalised previous one",
          "person sitting across",
          "guess make sense first one able sort picture thing found",
          "either one topic im thinking lot thing jumping back forth topic",
          "guess thats thing paying attention surroundings",
          "absolutely",
          "there also bit instability uncertainty",
          "something never guess thats thats thats case well",
          "always kind kept control knowing experience",
          "want type",
          "actually distracted sound machine",
          "recorded something",
          "turned around looked around slowly",
          "think true feel body point disconnect",
          "beginning",
          "separated",
          "creepy",
          "bit disturbing",
          "wasnt wasnt",
          "difficult feel selflove",
          "bad feeling little bit strange",
          "found amazing see everything around feel",
          "gear little bit disturbing couldnt completely dissociate outside could feel gear",
          "created scene",
          "felt weird come look",
          "absolutely",
          "dont mind",
          "thats way would describe",
          "setting got",
          "literal way metaphorical way",
          "girl talking see mouse moving arround lagging couldnt concentrate",
          "pleasant memory",
          "way",
          "opened",
          "also felt less close body kind felt soul kind two",
          "im dint understood look",
          "alive",
          "think exercise feeling feeling heart brain leg thing im",
          "change feel different dont",
          "think bit dark",
          "help think relax",
          "afterwards",
          "made bit dont maybe bit weird also hasnt anything experiment seeing body image sitting",
          "seemed sort quite natural",
          "designed",
          "effectively first rock moved bit weird",
          "felt bigger person bigger picture larger picture",
          "synchrony feeling still feeling avatar completely",
          "oh cant",
          "memory",
          "complete change mentality anything could go elicit feeling gratitude towards kind thing step",
          "third time remember thought observed situation kind situation happening time",
          "could relate thing well",
          "thats turn around head little bit",
          "feel part said fear warmth sending felt feel body",
          "first time stay original location second time angle feel im floating see body foot",
          "could feel",
          "without watching find easier relate thought mind im feeling instead feeling get thinking body",
          "also need say french",
          "manage feel warmth also",
          "bit strange also see face bit weird",
          "instruction feeling im sending despite seeing away",
          "lot aware surroundings relation surroundings first task think relationship",
          "sound",
          "tutor",
          "although second part felt less real felt spiritual way",
          "vertebra fact make u get pineal gland",
          "way way around",
          "point twitched head noticed looking could see twitching head didnt actually move head",
          "semester also project",
          "feel center square cube",
          "flying staying city afraid height",
          "visual clue",
          "bit surprised felt observing",
          "eye closed got distracted would annoyed got distracted thinking thing supposed",
          "term percentage id say make think feel 75",
          "actually experience repeated actually detect virtual real mind virtual front im quite sure touch backside",
          "end first part feeling relaxed think think thing said",
          "ive done past generally lot focus breathing trying get never",
          "maybe got way towards end second task feel definition maybe",
          "saying felt specific moment lot emotion coming didnt",
          "someone going put back body whereas wasnt actually necessary",
          "still partially successful sense",
          "would say different feeling different experiment",
          "prefer version",
          "felt different",
          "good speaker sound buy room",
          "im probably maybe little bit quite aware body feeling lot running often injury thing maybe aware",
          "wasnt something could connect",
          "gone",
          "knew picture representing fact bit strange sensation go",
          "think changed didnt notice",
          "think gauging experience well exactly something may go control something",
          "could see difference looking first time",
          "part movement",
          "think would much easier somebody else something id go oh thats unfortunate whatever",
          "werent moving time",
          "maybe voice said see rock",
          "feeling elevated hear sound look body wow",
          "first thought normal image",
          "kind felt everything else kind dissolved felt person",
          "made realise im body",
          "expect youre actually dont",
          "youre playing sequence past",
          "feel outside body",
          "could feel emotion",
          "wasnt feeling outside body",
          "last one first time incertitude certitude term reacts experience one",
          "first part super easy seeing",
          "seeing video something",
          "exactly",
          "distracting see real self trying concentrate hologram didnt move",
          "felt weird",
          "water",
          "part could briefly see normally",
          "there part first nature setting part finish actually go back body integrate",
          "disturbing",
          "say clue told real place",
          "time spent going oh im thinking something else",
          "think could still disassociate could see could feel",
          "bit blurred",
          "sum im im explaining well setting element setting",
          "10 time",
          "felt shift strange",
          "second bit first first felt could almost jump",
          "friend eating little bit one time end first weird time pass",
          "felt somewhere else felt comfortable environment",
          "would different normal life",
          "didnt mean case",
          "able",
          "confusing",
          "intense",
          "aware",
          "second part dont dont dont dont feel little bit weird think part see front",
          "telepathy communicate go one world another without realizing",
          "exactly",
          "end felt shell became concrete actually felt seeing stick back",
          "even paying attention feeling anymore",
          "feeling thought",
          "liked",
          "sync",
          "said look look whats shape",
          "imagine would take practice elicit feeling sort reaction easily",
          "helped forget body",
          "exactly",
          "reason felt felt mind reconnected body somehow",
          "completely blank beautiful world",
          "thats natural reaction",
          "made feel emotional good way wasnt expecting feel much",
          "dont purpose effective think",
          "second time",
          "mean example try identify thing think always question focusing",
          "hear something typing get distracted",
          "first time feel",
          "looked empty kind",
          "thinking later felt would take bit would taken bit longer maybe eventually would feel see",
          "point become aware actual body stopped trusting",
          "wanted",
          "thought second realized needed follow instruction stopped",
          "said space reference",
          "didnt express thing",
          "think maybe sort getting relaxed think one two point time mind started wander wonder",
          "getting mood already",
          "start go give feeling shouldnt body dont feel",
          "felt confused also say said floating write",
          "go right unless guy want take break",
          "even theyre apart theyre still link used see",
          "problem im comfortable",
          "well opened eye forest strange",
          "absolutely",
          "best way stop thinking something think something else",
          "feel body hard",
          "third phase dont explain continuation back saw screen back",
          "could say",
          "something nice someone different never saw real life recording",
          "maybe halfway outofbody experience started end halfway maybe",
          "think point probably probably possible sort completely disconnect point maybe",
          "purpose hologram",
          "made realize first minute oh damn",
          "actually would think maybe wont immersive wear something kind forget",
          "repeat something make difference much",
          "confused",
          "rock",
          "one unusual thought may going one day separated body",
          "view different",
          "would say definitely something practice",
          "still didnt induce sense ease thing",
          "time dont distract sound everything",
          "end day feeling going outside body",
          "think actually body",
          "want describe",
          "beginning",
          "also im thinking actually",
          "forgot",
          "people took switzerland said oh god oh god",
          "experience intensely",
          "first time suprise dint expect maybe expecting also trust little bit understand exercice exercice actually real",
          "dont correct word clear mind observe happened",
          "definitely",
          "think ive always life always struggle mindbody dissociation sometimes feel mind body ive actually experienced",
          "right actually make realise im actually way body thought",
          "exactly",
          "want answer thing",
          "wasnt",
          "definitely",
          "way work thing",
          "still still sort realm",
          "said pretty clear wasnt either",
          "could see inside r shape",
          "mean sure helped maybe 100",
          "disturbing",
          "though afterwards thinking guess long enough maybe would take longer may eventually start feel sensation see rather actually",
          "missing something",
          "bit strange dont expect movement show start immerse little bit scene",
          "subtle",
          "maybe hologram accurate showing actual movement",
          "wasnt dont unpleasant",
          "could follow",
          "meditation touch felt saw strange felt body didnt feel",
          "time feel body",
          "didnt managed let go completely always conscious experiment",
          "could take space one almost looked shell also mine",
          "liked",
          "much think gain question im focussing tempt say",
          "think another impact watching",
          "drop thing someone constantly talking mean come back",
          "familiar",
          "knew body imagined representation body didnt feel",
          "lot actually sensation feeling feel one connection despite im away image feel connection",
          "see thing differently",
          "mean kind people say separate see",
          "say noise silence something",
          "dont connect",
          "receiving made aware situation related",
          "think nice see body",
          "get disconection hope still experience",
          "comfortable becomes oh im cute",
          "looking another person something felt body sitting floating somewhere person there front even though knew bag",
          "definitely scene",
          "relate people",
          "couldnt see movement reflected actually force exaggerated movement see hologram something purpose",
          "pretty wasnt",
          "saw one second later screen",
          "intensity",
          "go",
          "felt another place another place still",
          "sending love thats weird sending love sent image",
          "fun",
          "right",
          "kind one minute half gone",
          "see film dark youre walking towards person darkness youre interacting",
          "designed come achieve",
          "confirmation",
          "direction extremely cool",
          "true",
          "see scene",
          "removed headset realized mismatch actually",
          "least help relate two whether im outside still help connect connect",
          "beginning",
          "follow",
          "im control interesting let control think observing body",
          "watching scene notice little delay move hand move hand give strange feeling understand think meditation feel body",
          "natural",
          "thought towards different direction feel little bit scared without thinking feel say feel clear",
          "could actually expect would feel would feel hit",
          "first part feel body front although already bit strange beginning",
          "felt looking weird angle",
          "headset realized didnt move much didnt move time",
          "full energy something",
          "im thinking bunch stuff",
          "five sens use every day sense dont use certain extent",
          "imagine",
          "felt first question allowed notice felt actually leaning",
          "confusing",
          "beginning",
          "im good go",
          "dont strange could see still felt body make sense",
          "getting vivid",
          "wanted fell",
          "mean feel",
          "thing brain sometimes cant focus continue imagine lost vr equipment think dont need",
          "spontaneously",
          "felt sending love would sent person",
          "still felt dont bit part felt little bit removed physical sense felt unsure",
          "observe movement werent synchronized later",
          "moment could imagine body could see",
          "dont feel separated see separated",
          "yet least",
          "despite im seeing way feeling",
          "try understand connect information image",
          "case could still make distinction say think long enough might start line might start blur little bit",
          "cry second nervous",
          "told bit tense beginning",
          "two body",
          "one first repeated surroundings make comfortable instruction something particular took attention",
          "second part tapping back back completely different one saw virtual self",
          "felt everything discussed feeling connection everything",
          "double safe hide real life",
          "said feel competent task",
          "attention straight idea train mother gone",
          "first time sitting watching everything around",
          "felt tense",
          "definitely feel nature allowing stay calm less scared",
          "hover chalet continue hover object heard music story behind",
          "think think short get get mood",
          "noticed sometimes especially touch thing sometimes synchronized time could feel rest synchronized would say",
          "sort surprise see image body suddenly didnt seem particularly strange",
          "absolutely",
          "one feel helpful kind leave thought somewhere else",
          "imagine",
          "moment said",
          "im kind back earth kind reconnected body",
          "absolutely",
          "little bit could feel little bit would consider maybe sort warm feeling little bit",
          "second session end second session removed headset saw",
          "allow follow goal go",
          "let say unexpected surprising moment feel youre going realize youre getting disconnected mean least thats felt getting disconnected body basically staying observing",
          "wasnt expecting",
          "need go body thought body",
          "maybe probably different region brain activated different",
          "happens quickly think real time",
          "beginning",
          "learned something new time",
          "general",
          "even separated lot word saying feeling feeling",
          "nothing seeing",
          "think mostly getting confortable moving feeling move putting back position comfortable",
          "point instead feeling looking felt looking old version",
          "think way focus something else kind breathing heart whatever",
          "wonder maybe people quicker others feel wonder sort point exercise",
          "let start",
          "think also became brighter might done",
          "front change clothes",
          "little white thing",
          "changed perception self able see state",
          "beginning didnt realize went back actually body realized whoa",
          "perceive",
          "im right",
          "first knew kind body point felt sitting floating elevated chair something",
          "seen stranger thing",
          "immediate reaction",
          "think first one impressive first time saw everything",
          "also felt beginning body",
          "consciousness make see different way",
          "felt point point supposed make end supposed look nature couldnt couldnt focus",
          "still able go follow step",
          "smell",
          "didnt seem real one",
          "im guessing certain time boundary might blur",
          "become comfortable",
          "felt still present body",
          "think thats maybe sometimes less enjoyable sometimes enjoyable",
          "thunder thunder",
          "thats started getting confused",
          "actual exercise",
          "much normal beginning yet cool",
          null
         ],
         "marker": {
          "color": "#CFD8DC",
          "opacity": 0.5,
          "size": 5
         },
         "mode": "markers+text",
         "name": "other",
         "showlegend": false,
         "type": "scattergl",
         "x": [
          9.403200149536133,
          5.6853508949279785,
          11.735319137573242,
          6.889346122741699,
          6.093114852905273,
          4.494807243347168,
          6.500555038452148,
          6.4534406661987305,
          10.186298370361328,
          10.255207061767578,
          6.899799823760986,
          10.735047340393066,
          9.576384544372559,
          9.49236011505127,
          7.106278419494629,
          8.28477668762207,
          8.488201141357422,
          7.710140705108643,
          10.512467384338379,
          11.55138111114502,
          9.08486270904541,
          10.088887214660645,
          5.103985786437988,
          11.875236511230469,
          9.491008758544922,
          12.041783332824707,
          8.888312339782715,
          6.761782169342041,
          9.684782981872559,
          9.03956413269043,
          6.744674205780029,
          10.037388801574707,
          9.280843734741211,
          8.83364200592041,
          8.68665885925293,
          6.749507904052734,
          6.552474021911621,
          10.202349662780762,
          8.987133026123047,
          8.61219596862793,
          8.477200508117676,
          11.312108993530273,
          6.453245639801025,
          10.109423637390137,
          8.105449676513672,
          11.557826042175293,
          11.563984870910645,
          6.807015419006348,
          9.663578987121582,
          9.273490905761719,
          6.010184288024902,
          6.963647842407227,
          7.007986068725586,
          4.625688076019287,
          9.294610023498535,
          10.916472434997559,
          10.328600883483887,
          9.593107223510742,
          7.618716239929199,
          9.37078857421875,
          8.313813209533691,
          9.55516242980957,
          9.700547218322754,
          9.469989776611328,
          8.90398120880127,
          6.640471458435059,
          6.700695037841797,
          12.041253089904785,
          6.952617168426514,
          9.218582153320312,
          6.775224208831787,
          8.053492546081543,
          7.038227558135986,
          8.920748710632324,
          9.201059341430664,
          10.641969680786133,
          11.55909538269043,
          8.702977180480957,
          9.30201530456543,
          9.251168251037598,
          9.315680503845215,
          7.865618705749512,
          9.017045021057129,
          7.55446720123291,
          10.181024551391602,
          9.353363990783691,
          9.118048667907715,
          10.111641883850098,
          9.39499282836914,
          8.891325950622559,
          8.679280281066895,
          10.581080436706543,
          8.542835235595703,
          7.45949125289917,
          8.65412712097168,
          10.708440780639648,
          4.627557277679443,
          9.62336540222168,
          10.972854614257812,
          6.912724494934082,
          10.745712280273438,
          9.187870025634766,
          9.240555763244629,
          11.672747611999512,
          4.882427215576172,
          5.00678825378418,
          5.124064922332764,
          10.176433563232422,
          9.163455963134766,
          10.172513008117676,
          9.318400382995605,
          9.808735847473145,
          7.869434356689453,
          9.505291938781738,
          8.517319679260254,
          10.828485488891602,
          10.22740364074707,
          7.108497142791748,
          8.937943458557129,
          10.516304969787598,
          10.900529861450195,
          8.712993621826172,
          7.161953449249268,
          8.521003723144531,
          8.541303634643555,
          9.536177635192871,
          7.567309856414795,
          8.346816062927246,
          11.819123268127441,
          9.004570960998535,
          8.890351295471191,
          9.901759147644043,
          9.250226020812988,
          6.04095458984375,
          8.176956176757812,
          9.785467147827148,
          8.906365394592285,
          5.889819145202637,
          11.139352798461914,
          9.939275741577148,
          9.49329662322998,
          6.6437668800354,
          9.960234642028809,
          8.571335792541504,
          7.136064052581787,
          9.552264213562012,
          9.224143981933594,
          8.570512771606445,
          8.322938919067383,
          9.99499225616455,
          7.751757621765137,
          1.9119057655334473,
          10.0435791015625,
          8.572837829589844,
          8.725361824035645,
          6.397710800170898,
          9.564522743225098,
          10.80203628540039,
          10.841540336608887,
          6.287362098693848,
          6.8278374671936035,
          8.287060737609863,
          10.237546920776367,
          5.941286087036133,
          9.57568359375,
          8.4939546585083,
          9.007402420043945,
          9.35290813446045,
          9.54269027709961,
          10.793694496154785,
          1.9402592182159424,
          9.127812385559082,
          9.199325561523438,
          10.12660026550293,
          8.082802772521973,
          8.2516450881958,
          8.789639472961426,
          9.44273567199707,
          10.164041519165039,
          9.560310363769531,
          7.715597629547119,
          7.389059543609619,
          8.900920867919922,
          5.216347694396973,
          9.805421829223633,
          7.072308540344238,
          7.2446064949035645,
          9.033060073852539,
          10.227813720703125,
          10.634003639221191,
          6.649763107299805,
          9.341500282287598,
          9.210351943969727,
          10.019841194152832,
          10.003210067749023,
          9.392906188964844,
          7.351406097412109,
          10.596583366394043,
          8.583120346069336,
          5.832139492034912,
          8.369762420654297,
          1.9118820428848267,
          11.801398277282715,
          4.701827526092529,
          8.584099769592285,
          6.3256402015686035,
          8.739644050598145,
          8.928923606872559,
          9.030064582824707,
          9.458710670471191,
          11.68111801147461,
          9.288729667663574,
          7.546941757202148,
          7.576442241668701,
          8.093673706054688,
          9.326155662536621,
          9.970932960510254,
          10.074262619018555,
          10.645509719848633,
          10.744743347167969,
          9.999605178833008,
          1.9117470979690552,
          6.60166597366333,
          5.436005115509033,
          7.966157913208008,
          8.535131454467773,
          8.985284805297852,
          7.119462013244629,
          8.476887702941895,
          6.150665283203125,
          10.147146224975586,
          9.741843223571777,
          7.9528961181640625,
          9.835293769836426,
          7.586564540863037,
          9.921412467956543,
          6.838666915893555,
          8.457734107971191,
          10.212536811828613,
          8.273330688476562,
          7.502143383026123,
          10.855870246887207,
          9.610387802124023,
          11.694246292114258,
          5.147125244140625,
          7.153646945953369,
          9.20864200592041,
          8.2877836227417,
          6.350194931030273,
          9.03918170928955,
          10.364296913146973,
          10.520195960998535,
          9.146645545959473,
          8.845192909240723,
          6.3698906898498535,
          6.888351917266846,
          10.174060821533203,
          7.888770580291748,
          8.362518310546875,
          8.709871292114258,
          6.158322334289551,
          10.20438003540039,
          10.609551429748535,
          8.485208511352539,
          9.065065383911133,
          6.197636127471924,
          9.964208602905273,
          8.105295181274414,
          9.328022003173828,
          9.571755409240723,
          8.977088928222656,
          9.456305503845215,
          11.097607612609863,
          7.041059970855713,
          9.981698989868164,
          10.349324226379395,
          8.87024211883545,
          9.821250915527344,
          10.129085540771484,
          9.448627471923828,
          6.582469463348389,
          9.494175910949707,
          8.542186737060547,
          9.864224433898926,
          9.161385536193848,
          6.600464344024658,
          10.155878067016602,
          10.817273139953613,
          8.513230323791504,
          9.366501808166504,
          7.702071189880371,
          5.455781936645508,
          11.537487983703613,
          8.977394104003906,
          9.839518547058105,
          8.443219184875488,
          9.51977825164795,
          8.715803146362305,
          8.847686767578125,
          7.269128799438477,
          9.612447738647461,
          9.139384269714355,
          9.509050369262695,
          8.309218406677246,
          6.171969890594482,
          10.016461372375488,
          4.627964973449707,
          10.289518356323242,
          9.947468757629395,
          9.634230613708496,
          10.432156562805176,
          10.693136215209961,
          7.547408580780029,
          8.378528594970703,
          6.792935371398926,
          10.417261123657227,
          7.527312755584717,
          7.9890241622924805,
          6.735865592956543,
          9.972765922546387,
          11.777009963989258,
          10.992338180541992,
          9.470784187316895,
          7.273777961730957,
          6.888749122619629,
          5.115881443023682,
          5.888657569885254,
          6.690929889678955,
          4.7998881340026855,
          10.543891906738281,
          8.925463676452637,
          4.625244617462158,
          10.094279289245605,
          8.692941665649414,
          8.847807884216309,
          6.649465560913086,
          11.761489868164062,
          9.743785858154297,
          8.723593711853027,
          9.627315521240234,
          4.62540864944458,
          9.509980201721191,
          10.523283004760742,
          8.311969757080078,
          9.107215881347656,
          8.764326095581055,
          6.692502021789551,
          7.705993175506592,
          8.81287956237793,
          7.15813684463501,
          10.513492584228516,
          10.428688049316406,
          9.436349868774414,
          6.368727684020996,
          7.738792896270752,
          8.387779235839844,
          8.412644386291504,
          7.09572172164917,
          6.985448360443115,
          9.853471755981445,
          9.975478172302246,
          6.779623031616211,
          9.27574348449707,
          6.656879425048828,
          8.430145263671875,
          1.9116734266281128,
          8.787298202514648,
          9.811038970947266,
          11.169147491455078,
          4.9732890129089355,
          8.953726768493652,
          10.853123664855957,
          8.899201393127441,
          10.273941993713379,
          8.413914680480957,
          9.587470054626465,
          7.991788387298584,
          5.8649516105651855,
          8.787307739257812,
          9.540942192077637,
          9.349211692810059,
          8.340409278869629,
          10.25605583190918,
          8.568408966064453,
          9.61865234375,
          9.603779792785645,
          6.142081260681152,
          11.681426048278809,
          4.917068958282471,
          4.924983024597168,
          4.5294413566589355,
          6.7738356590271,
          8.895636558532715,
          8.389885902404785,
          1.9121350049972534,
          9.467511177062988,
          8.698250770568848,
          4.626583576202393,
          6.253368854522705,
          8.103716850280762,
          1.914858341217041,
          8.45719051361084,
          8.576557159423828,
          5.541504859924316,
          10.248608589172363,
          5.646471977233887,
          7.564759731292725,
          10.495116233825684,
          6.857860088348389,
          10.827635765075684,
          5.856813430786133,
          10.304925918579102,
          8.196858406066895,
          7.554065227508545,
          10.216684341430664,
          9.739143371582031,
          8.963868141174316,
          10.151725769042969,
          6.650540828704834,
          7.300275802612305,
          9.1102933883667,
          9.009779930114746,
          4.91148567199707,
          9.645708084106445,
          9.324554443359375,
          9.431970596313477,
          9.421797752380371,
          8.26198673248291,
          9.13803768157959,
          8.379427909851074,
          9.774419784545898,
          9.017242431640625,
          6.6534247398376465,
          10.424728393554688,
          10.713483810424805,
          6.390171527862549,
          10.309303283691406,
          8.091168403625488,
          10.91694164276123,
          6.835485458374023,
          6.5045342445373535,
          9.480177879333496,
          9.78352165222168,
          7.107560157775879,
          4.868292331695557,
          6.967960357666016,
          10.075699806213379,
          7.526795387268066,
          5.999908447265625,
          8.74034309387207,
          4.624841690063477,
          10.070570945739746,
          12.053766250610352,
          9.157449722290039,
          11.678938865661621,
          7.563651084899902,
          8.533411979675293,
          11.07104778289795,
          8.28229808807373,
          8.080191612243652,
          9.192795753479004,
          10.654361724853516,
          9.970537185668945,
          12.032127380371094,
          6.933286666870117,
          5.6863579750061035,
          9.176507949829102,
          10.186037063598633,
          9.856270790100098,
          5.877403736114502,
          11.680459976196289,
          6.445586204528809,
          10.153145790100098,
          6.938226699829102,
          8.65125846862793,
          9.522046089172363,
          9.428940773010254,
          8.383870124816895,
          9.80258846282959,
          10.352091789245605,
          11.62909984588623,
          8.803956985473633,
          9.319429397583008,
          4.617222785949707,
          9.488304138183594,
          9.38355541229248,
          6.9244771003723145,
          6.529149532318115,
          9.858759880065918,
          11.147820472717285,
          8.31535816192627,
          11.121248245239258,
          9.292335510253906,
          8.91036605834961,
          10.435896873474121,
          8.714144706726074,
          7.362216472625732,
          9.827046394348145,
          7.98363733291626,
          8.881261825561523,
          7.025890350341797,
          11.642769813537598,
          10.174727439880371,
          1.9120399951934814,
          9.171364784240723,
          10.187708854675293,
          8.564596176147461,
          9.505156517028809,
          1.911972999572754,
          10.232955932617188,
          12.027833938598633,
          7.55234956741333,
          9.092650413513184,
          8.190616607666016,
          9.67772388458252,
          10.52897834777832,
          8.199063301086426,
          11.683699607849121,
          7.406512260437012,
          5.98091459274292,
          9.237007141113281,
          7.013044834136963,
          11.292627334594727,
          9.886310577392578,
          10.008749008178711,
          8.806109428405762,
          11.686306953430176,
          10.171687126159668,
          10.46145248413086,
          7.52277946472168,
          9.414351463317871,
          10.813308715820312,
          9.388279914855957,
          4.85041618347168,
          10.55217456817627,
          9.917145729064941,
          8.432847023010254,
          7.5594024658203125,
          10.72243595123291,
          9.434235572814941,
          9.182641983032227,
          7.580718040466309,
          10.894301414489746,
          7.870704650878906,
          6.945526599884033,
          6.64619779586792,
          10.066559791564941,
          7.084190368652344,
          8.71511173248291,
          5.9041924476623535,
          9.741142272949219,
          11.667420387268066,
          8.614093780517578
         ],
         "y": [
          5.882884502410889,
          4.264641761779785,
          7.116469383239746,
          8.507196426391602,
          4.09553861618042,
          5.31114387512207,
          2.994795083999634,
          3.7493185997009277,
          4.296838283538818,
          4.7543511390686035,
          8.511649131774902,
          7.152121543884277,
          6.285999774932861,
          6.280102252960205,
          7.494467735290527,
          8.639631271362305,
          8.508667945861816,
          5.740146160125732,
          5.490999221801758,
          6.750699520111084,
          6.118098735809326,
          6.100610256195068,
          4.171361446380615,
          6.98751974105835,
          5.445627212524414,
          7.343546390533447,
          5.13593864440918,
          3.7957324981689453,
          6.629208087921143,
          8.892590522766113,
          9.008788108825684,
          5.5190300941467285,
          6.378767013549805,
          5.562125205993652,
          8.857163429260254,
          8.987298011779785,
          8.017516136169434,
          6.438674449920654,
          5.735500335693359,
          5.0533766746521,
          5.160564422607422,
          4.541915416717529,
          2.9313247203826904,
          6.160083770751953,
          4.382210731506348,
          7.426054954528809,
          6.751633644104004,
          6.636643886566162,
          8.98517894744873,
          6.311840534210205,
          3.0432684421539307,
          8.128807067871094,
          8.155840873718262,
          1.7060445547103882,
          8.974653244018555,
          6.4094133377075195,
          6.157196998596191,
          5.561875343322754,
          6.373008728027344,
          7.136754512786865,
          8.608941078186035,
          5.888633728027344,
          7.815623760223389,
          5.743000507354736,
          6.44990873336792,
          8.460081100463867,
          6.890550136566162,
          7.345911026000977,
          7.594442367553711,
          8.968945503234863,
          6.676368713378906,
          7.1647868156433105,
          7.09956693649292,
          7.479699611663818,
          5.139736652374268,
          6.984067440032959,
          7.044516086578369,
          6.290463447570801,
          6.773007392883301,
          6.03789758682251,
          6.336419105529785,
          5.891693115234375,
          8.730338096618652,
          8.628108978271484,
          5.1198859214782715,
          9.971153259277344,
          5.633941173553467,
          5.624361515045166,
          5.682165145874023,
          8.175676345825195,
          6.209749698638916,
          6.043408393859863,
          6.306388854980469,
          5.9016523361206055,
          6.584563255310059,
          7.498021125793457,
          1.6978487968444824,
          6.456264495849609,
          6.325799942016602,
          8.503034591674805,
          5.680429458618164,
          6.131283760070801,
          6.481011867523193,
          7.086045742034912,
          4.667727470397949,
          2.6081149578094482,
          3.318046808242798,
          6.156750202178955,
          9.694106101989746,
          5.522899627685547,
          9.366878509521484,
          9.683496475219727,
          7.9186272621154785,
          5.624505043029785,
          6.965244293212891,
          6.595641613006592,
          6.472175598144531,
          1.886325716972351,
          8.221293449401855,
          9.911625862121582,
          6.580906867980957,
          8.328680038452148,
          3.781367063522339,
          6.955856800079346,
          6.023751735687256,
          5.367712497711182,
          5.795533657073975,
          9.129186630249023,
          6.679074764251709,
          5.400505542755127,
          8.733752250671387,
          4.29133415222168,
          5.995062828063965,
          2.859738349914551,
          11.882953643798828,
          9.525160789489746,
          6.46671724319458,
          3.1182026863098145,
          5.788802623748779,
          7.638047695159912,
          5.739930629730225,
          2.513615369796753,
          4.465446472167969,
          6.301689624786377,
          7.346408367156982,
          3.205009698867798,
          6.061788558959961,
          6.319369316101074,
          7.7780680656433105,
          6.0438055992126465,
          5.817321300506592,
          10.101390838623047,
          7.366804122924805,
          6.287065505981445,
          9.033721923828125,
          3.693667411804199,
          9.69925308227539,
          8.57626724243164,
          8.440096855163574,
          3.9337499141693115,
          3.688380479812622,
          9.104608535766602,
          5.464854717254639,
          2.9863574504852295,
          6.220450401306152,
          6.964066028594971,
          5.885096549987793,
          6.621980667114258,
          9.701889038085938,
          7.724728107452393,
          10.067471504211426,
          9.439492225646973,
          8.990389823913574,
          5.55911111831665,
          4.42434549331665,
          4.573368072509766,
          6.230161190032959,
          5.609107971191406,
          6.274519920349121,
          7.8072614669799805,
          4.596986770629883,
          5.921674728393555,
          5.332174777984619,
          3.5025248527526855,
          6.566300392150879,
          8.133939743041992,
          5.937549114227295,
          5.742443561553955,
          6.805533409118652,
          7.114675998687744,
          2.499161958694458,
          6.905503749847412,
          6.5250678062438965,
          5.778595447540283,
          6.082941055297852,
          5.105495452880859,
          6.076038360595703,
          6.868383884429932,
          6.321518898010254,
          5.440990924835205,
          8.120990753173828,
          10.101360321044922,
          6.7224040031433105,
          4.019669532775879,
          6.817706108093262,
          3.7889955043792725,
          8.655233383178711,
          8.217193603515625,
          9.839240074157715,
          6.249824523925781,
          4.355599403381348,
          5.471515655517578,
          2.1146950721740723,
          2.137448310852051,
          4.383110046386719,
          5.949128150939941,
          6.005131244659424,
          5.915431499481201,
          6.165620803833008,
          6.644616603851318,
          6.043778896331787,
          10.101519584655762,
          3.7729251384735107,
          4.121431350708008,
          6.775838851928711,
          5.1505022048950195,
          8.798554420471191,
          7.499846935272217,
          5.146868705749512,
          3.3144426345825195,
          5.605165958404541,
          6.699643611907959,
          5.560641288757324,
          9.49168586730957,
          5.844244480133057,
          7.723367214202881,
          8.197772026062012,
          5.467580318450928,
          6.433155536651611,
          5.542276859283447,
          6.137820243835449,
          7.675119400024414,
          5.49592399597168,
          7.122040271759033,
          3.327648639678955,
          7.493927001953125,
          6.000609874725342,
          6.960752010345459,
          4.2713303565979,
          9.82347297668457,
          5.929471969604492,
          6.25380277633667,
          5.100358009338379,
          6.5196027755737305,
          3.8997538089752197,
          8.505396842956543,
          6.34614896774292,
          8.779579162597656,
          8.093299865722656,
          8.331167221069336,
          4.128715991973877,
          5.75563383102417,
          7.138865947723389,
          5.144247531890869,
          9.838085174560547,
          4.084170341491699,
          5.64808988571167,
          7.346225261688232,
          6.885785102844238,
          6.392021179199219,
          9.891170501708984,
          6.290890693664551,
          6.9993486404418945,
          8.060193061828613,
          9.24744701385498,
          5.522493362426758,
          5.631093978881836,
          4.670821666717529,
          5.523122787475586,
          5.613090515136719,
          5.291538238525391,
          5.599238395690918,
          8.245219230651855,
          9.421473503112793,
          6.241684913635254,
          3.1409614086151123,
          6.350441932678223,
          8.568381309509277,
          6.944216728210449,
          7.1072235107421875,
          4.570034503936768,
          5.739493370056152,
          7.445143699645996,
          8.04939079284668,
          9.4188871383667,
          3.238199234008789,
          5.767945289611816,
          6.079527854919434,
          5.1205620765686035,
          5.9594292640686035,
          5.9044189453125,
          5.222161293029785,
          5.776994705200195,
          7.202027797698975,
          5.125538349151611,
          7.630054473876953,
          1.7076029777526855,
          8.007247924804688,
          5.981073379516602,
          7.842921257019043,
          6.88400936126709,
          5.850189685821533,
          2.1145124435424805,
          6.702679634094238,
          6.649724960327148,
          5.944876194000244,
          5.393512725830078,
          6.781274318695068,
          6.8851637840271,
          6.0072855949401855,
          6.687932968139648,
          6.719141960144043,
          5.467008113861084,
          5.8544535636901855,
          3.7491230964660645,
          3.355625629425049,
          4.4223175048828125,
          7.390687465667725,
          3.3668229579925537,
          5.935405731201172,
          6.440840244293213,
          1.70514976978302,
          5.563355922698975,
          8.846386909484863,
          6.290724277496338,
          2.499145030975342,
          7.102720260620117,
          6.745828628540039,
          6.308267593383789,
          8.993317604064941,
          1.7072712182998657,
          6.183009147644043,
          5.460902214050293,
          5.577892780303955,
          5.595096588134766,
          9.166587829589844,
          6.925303936004639,
          5.199452877044678,
          8.950671195983887,
          6.893423080444336,
          5.4857707023620605,
          6.012825965881348,
          6.333143711090088,
          3.6749212741851807,
          8.747652053833008,
          8.506001472473145,
          4.4269819259643555,
          8.04565143585205,
          8.136099815368652,
          6.036044120788574,
          5.716235160827637,
          7.878793239593506,
          5.565359592437744,
          8.487154006958008,
          10.332476615905762,
          10.101542472839355,
          9.121822357177734,
          5.973672866821289,
          7.074834823608398,
          4.6419196128845215,
          8.2120361328125,
          5.567783832550049,
          6.032722473144531,
          7.986123561859131,
          5.9158430099487305,
          9.142050743103027,
          6.500727653503418,
          4.374100685119629,
          8.198925018310547,
          6.206032752990723,
          6.79486083984375,
          9.122754096984863,
          6.19304895401001,
          8.773470878601074,
          5.927555084228516,
          6.483215808868408,
          3.87150239944458,
          4.35496187210083,
          5.292957305908203,
          3.0000698566436768,
          5.255680084228516,
          7.507729530334473,
          5.250189781188965,
          7.193957805633545,
          10.10086727142334,
          6.286768913269043,
          6.120506763458252,
          1.7081999778747559,
          3.764590263366699,
          4.3814897537231445,
          10.098299026489258,
          5.141373157501221,
          6.294600963592529,
          4.159595489501953,
          6.541989326477051,
          5.409209728240967,
          2.112626075744629,
          5.969509124755859,
          3.2650980949401855,
          7.593554496765137,
          4.377274990081787,
          7.997260570526123,
          4.464043617248535,
          8.632224082946777,
          6.250726222991943,
          6.263765811920166,
          6.972780704498291,
          5.54604959487915,
          2.498530387878418,
          8.054669380187988,
          8.75259780883789,
          5.716914653778076,
          3.537071704864502,
          6.318934917449951,
          6.162018299102783,
          6.771060943603516,
          3.1062676906585693,
          8.671770095825195,
          6.281533718109131,
          7.1254377365112305,
          6.654424667358398,
          5.878596305847168,
          8.469640731811523,
          6.723471164703369,
          6.642370700836182,
          4.247405052185059,
          7.9883623123168945,
          4.382812023162842,
          7.731759548187256,
          7.493988037109375,
          2.9932215213775635,
          5.425999164581299,
          5.716071605682373,
          1.8880901336669922,
          2.5153961181640625,
          5.685920715332031,
          7.538352012634277,
          6.126498222351074,
          3.0225374698638916,
          4.863564968109131,
          1.7037248611450195,
          7.359488010406494,
          7.319509506225586,
          6.313342094421387,
          4.357726573944092,
          8.636190414428711,
          7.017250061035156,
          7.30698299407959,
          5.583385467529297,
          7.112856388092041,
          5.1072678565979,
          5.908115386962891,
          5.98438835144043,
          7.3450541496276855,
          7.544395446777344,
          5.333556652069092,
          10.016486167907715,
          4.295835018157959,
          5.970719337463379,
          4.399036407470703,
          4.356803894042969,
          2.9627366065979004,
          6.29254150390625,
          7.488522529602051,
          4.343983173370361,
          3.100121259689331,
          8.947698593139648,
          5.577212810516357,
          5.712248802185059,
          6.102359294891357,
          7.30776834487915,
          5.953526020050049,
          5.481817722320557,
          1.708117127418518,
          5.747064113616943,
          6.672561168670654,
          6.372939586639404,
          7.434171199798584,
          5.444033622741699,
          5.754838466644287,
          8.211844444274902,
          7.0447001457214355,
          6.060694217681885,
          7.467820167541504,
          5.402840614318848,
          8.855143547058105,
          6.966705799102783,
          5.470536708831787,
          7.208932399749756,
          8.705737113952637,
          8.124391555786133,
          7.192680358886719,
          6.360997200012207,
          10.101082801818848,
          6.044690132141113,
          4.29600715637207,
          5.9078779220581055,
          4.92926549911499,
          10.101128578186035,
          6.118254661560059,
          7.335021495819092,
          8.634040832519531,
          5.946445941925049,
          4.3891119956970215,
          6.437183856964111,
          6.643831253051758,
          6.510048866271973,
          4.352780342102051,
          5.958420276641846,
          2.1735544204711914,
          6.079901695251465,
          3.4601290225982666,
          8.013141632080078,
          6.180891036987305,
          9.269740104675293,
          6.381148815155029,
          4.350934982299805,
          8.674445152282715,
          7.349491119384766,
          5.283556938171387,
          6.7780022621154785,
          5.540968894958496,
          6.8074870109558105,
          2.6685402393341064,
          6.494896411895752,
          7.580475807189941,
          5.618085861206055,
          6.936579704284668,
          5.667281627655029,
          6.779768943786621,
          9.15964126586914,
          8.650781631469727,
          6.352740287780762,
          4.091432571411133,
          6.410356044769287,
          8.473767280578613,
          5.925333023071289,
          6.9816365242004395,
          8.317743301391602,
          4.394370079040527,
          9.433734893798828,
          4.363171100616455,
          6.306024074554443
         ]
        },
        {
         "hoverinfo": "text",
         "hovertext": [
          "",
          "",
          "",
          "",
          "",
          "",
          "",
          "",
          "",
          "",
          "",
          "",
          "",
          "",
          "",
          "",
          "",
          "",
          "",
          "",
          "",
          "",
          "",
          "",
          "",
          "",
          "",
          "",
          "",
          "",
          "",
          "",
          "",
          "",
          "",
          "",
          "",
          "",
          "",
          "",
          "",
          "",
          "",
          "",
          "",
          "",
          "",
          "",
          "",
          "",
          "",
          "",
          "",
          "",
          "",
          "",
          "",
          "",
          "",
          "",
          "",
          "",
          "",
          "",
          "",
          "",
          "",
          "",
          "",
          "",
          "",
          "",
          "",
          "",
          "",
          "",
          "",
          "",
          "",
          "",
          "",
          "",
          "",
          "",
          "",
          "",
          "",
          "",
          "",
          "",
          "",
          "",
          "",
          "",
          "",
          "",
          "",
          "",
          "",
          "",
          "",
          "",
          "",
          "",
          "",
          "",
          "",
          "",
          "",
          "",
          "",
          "",
          "",
          "",
          "",
          "",
          "",
          "",
          "",
          "",
          "",
          "",
          "",
          "",
          "",
          "",
          "",
          "",
          "",
          "",
          "",
          "",
          "",
          "",
          "",
          "",
          "",
          "",
          "",
          "",
          "",
          "",
          "",
          "dint",
          "",
          "",
          "",
          "",
          "",
          "",
          "",
          "",
          "",
          "",
          "",
          "",
          "",
          "",
          "",
          "",
          "",
          "",
          "",
          "",
          "",
          "",
          "",
          null
         ],
         "marker": {
          "opacity": 0.5,
          "size": 5
         },
         "mode": "markers+text",
         "name": "0_dint__",
         "text": [
          "",
          "",
          "",
          "",
          "",
          "",
          "",
          "",
          "",
          "",
          "",
          "",
          "",
          "",
          "",
          "",
          "",
          "",
          "",
          "",
          "",
          "",
          "",
          "",
          "",
          "",
          "",
          "",
          "",
          "",
          "",
          "",
          "",
          "",
          "",
          "",
          "",
          "",
          "",
          "",
          "",
          "",
          "",
          "",
          "",
          "",
          "",
          "",
          "",
          "",
          "",
          "",
          "",
          "",
          "",
          "",
          "",
          "",
          "",
          "",
          "",
          "",
          "",
          "",
          "",
          "",
          "",
          "",
          "",
          "",
          "",
          "",
          "",
          "",
          "",
          "",
          "",
          "",
          "",
          "",
          "",
          "",
          "",
          "",
          "",
          "",
          "",
          "",
          "",
          "",
          "",
          "",
          "",
          "",
          "",
          "",
          "",
          "",
          "",
          "",
          "",
          "",
          "",
          "",
          "",
          "",
          "",
          "",
          "",
          "",
          "",
          "",
          "",
          "",
          "",
          "",
          "",
          "",
          "",
          "",
          "",
          "",
          "",
          "",
          "",
          "",
          "",
          "",
          "",
          "",
          "",
          "",
          "",
          "",
          "",
          "",
          "",
          "",
          "",
          "",
          "",
          "",
          "",
          "",
          "",
          "",
          "",
          "",
          "",
          "",
          "",
          "",
          "",
          "",
          "",
          "",
          "",
          "",
          "",
          "",
          "",
          "",
          "",
          "",
          "",
          "",
          "",
          "0_dint__"
         ],
         "textfont": {
          "size": 12
         },
         "type": "scattergl",
         "x": [
          -9.144999504089355,
          -9.07361125946045,
          -9.12248420715332,
          -9.063817024230957,
          -9.12299633026123,
          -9.202930450439453,
          -9.149168968200684,
          -9.063435554504395,
          -9.096213340759277,
          -9.136088371276855,
          -9.131107330322266,
          -9.101362228393555,
          -8.933605194091797,
          -9.066792488098145,
          -9.127092361450195,
          -9.148453712463379,
          5.313377380371094,
          -11.27989387512207,
          -11.279867172241211,
          -11.280919075012207,
          -11.280085563659668,
          -11.280086517333984,
          -11.280045509338379,
          -11.279888153076172,
          -11.279939651489258,
          -11.279921531677246,
          -11.280019760131836,
          -11.279963493347168,
          -11.279906272888184,
          -11.279897689819336,
          -11.279915809631348,
          -9.130454063415527,
          5.313384532928467,
          -9.118425369262695,
          -9.076833724975586,
          -9.10915470123291,
          -9.113247871398926,
          -9.082664489746094,
          -9.091071128845215,
          -9.090060234069824,
          -9.088810920715332,
          -9.050850868225098,
          5.313384056091309,
          -9.059209823608398,
          -9.085599899291992,
          -9.08694839477539,
          -9.100945472717285,
          -8.877943992614746,
          -9.037248611450195,
          -9.060458183288574,
          -9.004496574401855,
          -8.95174503326416,
          5.313394069671631,
          -9.032740592956543,
          -9.082703590393066,
          -9.014241218566895,
          -8.987526893615723,
          -8.908564567565918,
          -8.971839904785156,
          -9.028292655944824,
          -8.971440315246582,
          -9.019862174987793,
          -8.938292503356934,
          -8.853497505187988,
          -9.051141738891602,
          -8.929759979248047,
          5.313406944274902,
          -8.889891624450684,
          -9.028656959533691,
          -9.001415252685547,
          -8.985462188720703,
          -9.036226272583008,
          -9.092018127441406,
          -9.08757495880127,
          -9.006437301635742,
          -9.07649040222168,
          -8.971304893493652,
          -9.100860595703125,
          -8.928568840026855,
          -8.950753211975098,
          -8.952351570129395,
          5.313381671905518,
          -8.987627983093262,
          -9.08251667022705,
          -8.958293914794922,
          -8.916217803955078,
          -8.997764587402344,
          -8.943327903747559,
          -9.02570915222168,
          -8.946166038513184,
          -9.032330513000488,
          -8.915325164794922,
          -9.056083679199219,
          -8.94030475616455,
          -8.996192932128906,
          -9.022236824035645,
          -8.99400806427002,
          -9.007210731506348,
          5.313394069671631,
          -8.892067909240723,
          -9.073643684387207,
          -8.98828125,
          -9.004434585571289,
          -9.014817237854004,
          -9.088480949401855,
          -9.07207202911377,
          -9.117926597595215,
          -9.112048149108887,
          -9.124966621398926,
          -9.210948944091797,
          -9.159146308898926,
          -9.1488676071167,
          -9.150775909423828,
          -9.160088539123535,
          -9.081217765808105,
          -9.133163452148438,
          -9.225032806396484,
          -9.223051071166992,
          -9.180809020996094,
          -9.02018928527832,
          5.313405513763428,
          -9.171738624572754,
          -8.982559204101562,
          -8.983173370361328,
          -9.184082984924316,
          -9.203444480895996,
          -9.12816047668457,
          -9.26121711730957,
          -8.894972801208496,
          -8.837440490722656,
          -9.202269554138184,
          -8.744771957397461,
          -9.362963676452637,
          -9.048797607421875,
          -9.276183128356934,
          -9.217238426208496,
          -9.140082359313965,
          -9.131110191345215,
          -9.262248992919922,
          -9.25284481048584,
          -8.983769416809082,
          -9.026266098022461,
          -8.86655044555664,
          -9.34770679473877,
          -8.981311798095703,
          -8.994033813476562,
          -9.156719207763672,
          5.3134050369262695,
          -9.198164939880371,
          -9.300710678100586,
          -9.11335563659668,
          -8.927042007446289,
          -8.939457893371582,
          -9.108642578125,
          -9.272818565368652,
          -9.005020141601562,
          -9.36194133758545,
          -9.103482246398926,
          -9.137904167175293,
          -9.237356185913086,
          -9.175397872924805,
          5.313388824462891,
          -9.206635475158691,
          -9.279452323913574,
          -8.829590797424316,
          -9.074820518493652,
          -9.156535148620605,
          -8.39316177368164
         ],
         "y": [
          -6.224274635314941,
          -6.204148292541504,
          -6.262317657470703,
          -6.28279447555542,
          -6.290848731994629,
          -6.068647384643555,
          -6.276320457458496,
          -6.223300933837891,
          -6.211460113525391,
          -6.221137046813965,
          -6.211490631103516,
          -6.277657985687256,
          -6.398831844329834,
          -6.317376613616943,
          -6.260870933532715,
          -6.289220333099365,
          -5.72444486618042,
          9.476716995239258,
          9.476693153381348,
          9.477761268615723,
          9.476895332336426,
          9.476902961730957,
          9.476871490478516,
          9.476717948913574,
          9.476762771606445,
          9.476738929748535,
          9.47685432434082,
          9.476791381835938,
          9.476717948913574,
          9.476710319519043,
          9.4767427444458,
          -6.206879138946533,
          -5.723952770233154,
          -6.248249053955078,
          -6.2243571281433105,
          -6.27424430847168,
          -6.324026107788086,
          -6.2108473777771,
          -6.134964466094971,
          -6.182116508483887,
          -6.176932334899902,
          -6.16707181930542,
          -5.724282741546631,
          -6.187662601470947,
          -6.260284900665283,
          -6.2201247215271,
          -6.22598934173584,
          -6.160053253173828,
          -6.215371608734131,
          -6.236924171447754,
          -6.173849105834961,
          -6.389243125915527,
          -5.724270343780518,
          -6.203789234161377,
          -6.187741756439209,
          -6.122925281524658,
          -6.180452346801758,
          -6.184331893920898,
          -6.2285685539245605,
          -6.229944705963135,
          -6.11609411239624,
          -6.340470790863037,
          -6.307520866394043,
          -6.254053115844727,
          -6.361429691314697,
          -6.316928863525391,
          -5.724319934844971,
          -6.1454644203186035,
          -6.247255325317383,
          -6.158763408660889,
          -6.2296366691589355,
          -6.289785861968994,
          -6.296896934509277,
          -6.346369743347168,
          -6.246344089508057,
          -6.260226249694824,
          -6.240848064422607,
          -6.161676406860352,
          -6.1100945472717285,
          -6.297388553619385,
          -6.178562641143799,
          -5.724340438842773,
          -6.198796272277832,
          -6.145840167999268,
          -6.150601863861084,
          -6.19967794418335,
          -6.216635704040527,
          -6.2694621086120605,
          -6.238349437713623,
          -6.166501045227051,
          -6.197727203369141,
          -6.114873886108398,
          -6.151939868927002,
          -6.1457014083862305,
          -6.191933631896973,
          -6.148808002471924,
          -6.190998077392578,
          -6.188208103179932,
          -5.724344253540039,
          -6.075234889984131,
          -6.133162975311279,
          -6.194868564605713,
          -6.12631893157959,
          -6.170613765716553,
          -6.107125759124756,
          -6.1627197265625,
          -6.119026184082031,
          -6.107983112335205,
          -6.143260478973389,
          -6.158914089202881,
          -6.285886287689209,
          -6.246557712554932,
          -6.272647380828857,
          -6.148100852966309,
          -6.164924144744873,
          -6.243717193603516,
          -6.214616775512695,
          -6.232559680938721,
          -6.2971110343933105,
          -6.382319927215576,
          -5.724401950836182,
          -6.325879096984863,
          -6.088634490966797,
          -6.3184356689453125,
          -6.201301097869873,
          -6.194814205169678,
          -6.077873229980469,
          -6.029240131378174,
          -6.34552001953125,
          -6.32685661315918,
          -6.506476402282715,
          -6.361308574676514,
          -6.046870708465576,
          -6.44468879699707,
          -6.383178234100342,
          -6.424386501312256,
          -6.379572868347168,
          -6.519953727722168,
          -6.052722454071045,
          -6.439408302307129,
          -6.336542129516602,
          -6.424465179443359,
          -5.964415073394775,
          -6.135129928588867,
          -6.441953182220459,
          -5.996131896972656,
          -6.416244029998779,
          -5.724442005157471,
          -6.263906002044678,
          -6.425446033477783,
          -5.96123743057251,
          -6.024376392364502,
          -6.220266342163086,
          -6.384515285491943,
          -6.2276506423950195,
          -6.1258978843688965,
          -6.2826642990112305,
          -6.364985466003418,
          -6.442480564117432,
          -6.358282566070557,
          -6.194414138793945,
          -5.724473476409912,
          -6.34526252746582,
          -6.306520462036133,
          -6.4454145431518555,
          -6.308975696563721,
          -6.363471031188965,
          -4.887319564819336
         ]
        },
        {
         "hoverinfo": "text",
         "hovertext": [
          "people meditate see different color",
          "first meditation word less relevant felt meditation second one comment interesting im explaining well feeling body thats felt less meditation",
          "outside thing meditation travel",
          "concentration meditation profound thinking",
          "focusing think way personally understand meditation",
          "dont felt differ two different kind meditation",
          "meditation",
          "something practice regularly think whats called compassion meditation",
          "dont never experienced real inperson meditation let say",
          "asked feel angry feel compassionate towards people answer feel general feel meditation",
          "meditating opened",
          "guess people practice meditation",
          "found easier get state meditation feel funny floating air could identify avatar seeing",
          "astral journey travel see thing feel thing",
          "journey mean mind travel see",
          "honest body much concentrating happening moment felt actually meditating normal meditation distracted dint feel compelling saw myslef compelling meditate basically concentrating moment singular thing",
          "normal meditation",
          "would say end enjoyed meditation",
          "think tried guided meditation youtube sometimes",
          "actually would see exists meditation actually brings brings back",
          "control astral journey",
          "sort detracts away task actually self compassion meditation",
          "say meditation imagine area heart emanating kind aura feel warm basically emotion feeling",
          "meditation",
          "didnt much difference warm feeling chest tube felt little bit feeling love meditation felt",
          "meditation",
          "would rather follow instruction meditation session without hologram",
          "would say dont im right reason time already trained would say training already mood easier calm wouldnt reason different mode meditation",
          "meditation",
          "meditation part especially go youre thats strange",
          "meditation",
          "astral travel also go little see",
          "relaxing meditation video",
          "think previously try meditation need imagine",
          "said im high level meditation",
          "meditation touching part kind hard feeling body perfect vision delay",
          "wouldnt say deliberately ever meditation",
          "completely music monk dont",
          "easier feel compassion without seeing",
          "easier much easier time applying mindfulness bodily sensation cognition",
          "felt part meditation bit artificial",
          "even think im meditation home still hear example noise outside",
          "true felt peaceful image saying calming felt relaxed meditation one another",
          "relaxing thing meditation",
          "felt still room kind meditation",
          "mean felt normal meditation",
          "disturbing distracting kept following actual goal meditation stage",
          "woman narrating meditation said said stuff try focus movement shoulder back pelvis part",
          "thing never course whatever meditation",
          "think meditation meditation",
          "astral journey",
          "better meditating experience",
          "different meditation gave instruction correct exact",
          "good enjoyed meditation",
          "think first one open meditation second time first time",
          "well feel trying overall idea compassionate towards trying think compassionate towards leg something felt bit kind foreign",
          "true people music something meditate heard voice",
          "meditation see becoming higher would say feel highest person",
          "already told elena question meditation felt little bit strange didnt answer question related people meditation towards",
          "would enjoy meditation",
          "point think meditating",
          "used go yoga would meditation end class",
          "right nature setting meditation stage question didnt understand",
          "ive never meditation stuff",
          "meditation see different color",
          "experience meditation part great",
          "let say meditation",
          "meditation",
          "meditation",
          "second task second meditation forest felt asked think feeling memory stuff experiencing scene garden twin sister hug vivid vivid ordinary",
          "relaxing pretty good meditation",
          null
         ],
         "marker": {
          "opacity": 0.5,
          "size": 5
         },
         "mode": "markers+text",
         "name": "1_meditation_meditation meditation_journey",
         "text": [
          "",
          "",
          "",
          "",
          "",
          "",
          "",
          "",
          "",
          "",
          "",
          "",
          "",
          "",
          "",
          "",
          "",
          "",
          "",
          "",
          "",
          "",
          "",
          "",
          "",
          "",
          "",
          "",
          "",
          "",
          "",
          "",
          "",
          "",
          "",
          "",
          "",
          "",
          "",
          "",
          "",
          "",
          "",
          "",
          "",
          "",
          "",
          "",
          "",
          "",
          "",
          "",
          "",
          "",
          "",
          "",
          "",
          "",
          "",
          "",
          "",
          "",
          "",
          "",
          "",
          "",
          "",
          "",
          "",
          "",
          "",
          "1_meditation_meditation meditation_journey"
         ],
         "textfont": {
          "size": 12
         },
         "type": "scattergl",
         "x": [
          7.842986106872559,
          7.942070484161377,
          7.796476364135742,
          7.8048529624938965,
          7.804236888885498,
          7.924671173095703,
          7.813182353973389,
          7.865143775939941,
          7.832488536834717,
          7.956888198852539,
          7.785561561584473,
          7.817461013793945,
          10.494481086730957,
          7.392195701599121,
          7.396994590759277,
          8.073148727416992,
          7.801332950592041,
          7.757845401763916,
          7.801999568939209,
          7.924060821533203,
          7.39402437210083,
          7.935025215148926,
          7.902523517608643,
          7.798439025878906,
          7.96483039855957,
          7.7972941398620605,
          7.817681789398193,
          7.93046236038208,
          7.787105083465576,
          7.916390419006348,
          7.7812724113464355,
          7.375305652618408,
          7.784882068634033,
          7.859382629394531,
          7.787557125091553,
          8.125565528869629,
          7.81878137588501,
          7.829714298248291,
          7.92935848236084,
          7.896547317504883,
          7.992647647857666,
          7.7180914878845215,
          7.932607173919678,
          7.774385452270508,
          7.925752639770508,
          7.878795146942139,
          7.948167324066162,
          7.880357265472412,
          7.794285297393799,
          7.79890775680542,
          7.395637512207031,
          7.838080406188965,
          7.845172882080078,
          7.766244888305664,
          7.826213359832764,
          7.977742671966553,
          7.821269512176514,
          7.785342693328857,
          7.906556129455566,
          7.804319858551025,
          7.867109298706055,
          7.743959903717041,
          7.7977213859558105,
          7.795811653137207,
          7.8475446701049805,
          7.904052257537842,
          7.816535472869873,
          7.814857482910156,
          7.782745361328125,
          7.925673007965088,
          7.761693000793457,
          7.858147621154785
         ],
         "y": [
          12.394028663635254,
          12.18418025970459,
          12.466952323913574,
          12.488085746765137,
          12.496794700622559,
          12.296284675598145,
          12.470876693725586,
          12.354568481445312,
          12.450639724731445,
          12.204076766967773,
          12.509428977966309,
          12.457000732421875,
          9.869889259338379,
          12.122418403625488,
          12.120282173156738,
          12.00377082824707,
          12.496503829956055,
          12.536096572875977,
          12.487434387207031,
          12.328953742980957,
          12.124268531799316,
          12.238319396972656,
          12.164789199829102,
          12.476666450500488,
          12.125397682189941,
          12.502108573913574,
          12.523553848266602,
          12.431462287902832,
          12.497298240661621,
          12.278915405273438,
          12.492785453796387,
          12.114748001098633,
          12.53895378112793,
          12.375871658325195,
          12.501011848449707,
          11.92185115814209,
          12.47907543182373,
          12.31928825378418,
          12.2299165725708,
          12.257803916931152,
          12.189789772033691,
          12.242541313171387,
          12.139261245727539,
          12.540660858154297,
          12.272695541381836,
          12.414494514465332,
          12.232211112976074,
          12.467808723449707,
          12.447855949401855,
          12.49242115020752,
          12.124078750610352,
          12.284797668457031,
          12.429630279541016,
          12.550274848937988,
          12.464274406433105,
          12.146052360534668,
          12.22658634185791,
          12.498284339904785,
          12.287922859191895,
          12.50150203704834,
          12.392070770263672,
          12.456315040588379,
          12.462356567382812,
          12.38820743560791,
          12.399398803710938,
          12.284090995788574,
          12.486212730407715,
          12.471782684326172,
          12.517647743225098,
          12.262086868286133,
          12.570940017700195,
          12.323614120483398
         ]
        },
        {
         "hoverinfo": "text",
         "hovertext": [
          "pretty clear think isnt",
          "quite easy let thinking go",
          "much thought would happen much thought would happen quickly",
          "think interesting",
          "think answer",
          "thought easy",
          "think",
          "trying let go believe",
          "different person think",
          "think",
          "let think",
          "think easy",
          "think",
          "dont think anybody stop thinking",
          "right think beginning bit confused honest",
          "thinking also would nice sea sea well thats",
          "comment",
          "tend sort want believe true think related fact 100 convinced seeing",
          "think already said",
          "think",
          "letting thought pas opposed getting stuck judging",
          "think would one comment",
          "think something else oh need follow say",
          "think another people think",
          "think",
          "better interesting think",
          "thought",
          "think situation made easier think",
          "think appear elsewhere",
          "think interesting part knock",
          "could mind",
          "think pretty job",
          "think much change little bit smaller shorter thought",
          "thinking",
          "guess related looked around made think place visited last year",
          "actually surprisingly thought would",
          "thought picture thing",
          "kind thing people today dont think",
          "thinking im thinking",
          "think sort situation sort become introspective im im trying push thought doesnt drift people much dont see envision think people sense",
          "thought would said",
          "think publish something",
          "think",
          "think see",
          "think",
          "use brain",
          "think",
          "think bit",
          "started thinking different stuff",
          "think thats way would say",
          "one difficult think",
          "see mind lie mind lot",
          "thats thought could",
          "think beginning certain point",
          "maybe fact maybe thinking fact clear",
          "kind much many time body thinking much",
          "oh think think speaking right",
          "think",
          "trying think",
          "see mental",
          "think",
          "think angle think different first second experience",
          "point time think started",
          "think different first time",
          "think easier",
          "think helped",
          "stopped thinking",
          null
         ],
         "marker": {
          "opacity": 0.5,
          "size": 5
         },
         "mode": "markers+text",
         "name": "2_think_think think_thinking",
         "text": [
          "",
          "",
          "",
          "",
          "",
          "",
          "",
          "",
          "",
          "",
          "",
          "",
          "",
          "",
          "",
          "",
          "",
          "",
          "",
          "",
          "",
          "",
          "",
          "",
          "",
          "",
          "",
          "",
          "",
          "",
          "",
          "",
          "",
          "",
          "",
          "",
          "",
          "",
          "",
          "",
          "",
          "",
          "",
          "",
          "",
          "",
          "",
          "",
          "",
          "",
          "",
          "",
          "",
          "",
          "",
          "",
          "",
          "",
          "",
          "",
          "",
          "",
          "",
          "",
          "",
          "",
          "",
          "2_think_think think_thinking"
         ],
         "textfont": {
          "size": 12
         },
         "type": "scattergl",
         "x": [
          5.285999774932861,
          5.1317291259765625,
          8.16674518585205,
          4.238105773925781,
          3.997232675552368,
          5.175418376922607,
          4.006253719329834,
          5.018510341644287,
          4.031741142272949,
          3.995842218399048,
          3.9881865978240967,
          5.212802410125732,
          3.9850013256073,
          4.695554733276367,
          6.929582595825195,
          4.5554022789001465,
          4.284989833831787,
          8.7271089553833,
          4.0556230545043945,
          3.994800329208374,
          8.073628425598145,
          4.229539394378662,
          4.048264980316162,
          4.018229961395264,
          3.9822797775268555,
          4.374077796936035,
          3.9797019958496094,
          8.158106803894043,
          4.2166972160339355,
          4.260976314544678,
          3.9791104793548584,
          3.978872299194336,
          7.842341899871826,
          4.79103946685791,
          8.301860809326172,
          4.526663303375244,
          4.013580799102783,
          4.53392219543457,
          4.792409420013428,
          8.600630760192871,
          4.326169967651367,
          4.478003025054932,
          3.9769127368927,
          3.999985933303833,
          4.008537769317627,
          4.557270526885986,
          3.9594814777374268,
          3.9806995391845703,
          5.131599426269531,
          4.675998210906982,
          5.2277092933654785,
          4.294365882873535,
          4.65565299987793,
          7.16464900970459,
          4.79526948928833,
          8.3513822555542,
          4.0763936042785645,
          3.963515520095825,
          4.018102645874023,
          4.397984504699707,
          3.9902586936950684,
          7.568457126617432,
          7.187105178833008,
          7.149465084075928,
          5.316948413848877,
          4.8672685623168945,
          4.98353910446167,
          5.063899993896484
         ],
         "y": [
          4.241134166717529,
          5.691735744476318,
          6.478164196014404,
          5.366279125213623,
          5.462871551513672,
          5.663595676422119,
          5.461749076843262,
          5.697817802429199,
          5.498738765716553,
          5.464367389678955,
          5.46591329574585,
          5.691246032714844,
          5.482295989990234,
          5.540735721588135,
          7.6307759284973145,
          5.196801662445068,
          5.216787338256836,
          6.445872783660889,
          5.420337677001953,
          5.466996192932129,
          6.602325916290283,
          5.214240550994873,
          5.4944915771484375,
          5.452359199523926,
          5.4703264236450195,
          5.23967170715332,
          5.4882893562316895,
          6.509410858154297,
          5.587367534637451,
          5.334498882293701,
          5.475144863128662,
          5.4615020751953125,
          6.319772720336914,
          5.625842094421387,
          6.464118957519531,
          4.795255661010742,
          5.5143656730651855,
          5.462283611297607,
          5.441041469573975,
          6.445536136627197,
          5.119802474975586,
          5.6341986656188965,
          5.471496105194092,
          5.475779056549072,
          5.451855182647705,
          5.795426845550537,
          5.492578029632568,
          5.474459171295166,
          5.764800071716309,
          4.772137641906738,
          5.675288200378418,
          5.641718864440918,
          4.708202838897705,
          6.862220764160156,
          4.368034362792969,
          6.494664669036865,
          5.412232875823975,
          5.487337112426758,
          5.601823806762695,
          5.725905895233154,
          5.4610161781311035,
          6.726775646209717,
          6.873486518859863,
          6.864565372467041,
          5.710253715515137,
          5.599703311920166,
          5.695220470428467,
          5.661836624145508
         ]
        },
        {
         "hoverinfo": "text",
         "hovertext": [
          "moment got distracted started thinking trip tried focus task",
          "youre focusing forget rest",
          "think im seeing focus instruction thing feeling thing",
          "think little bit disconcerting kind looking id get distracted",
          "physically couldnt focus",
          "distracting honestly",
          "focused respiration",
          "could get distracted lot easier",
          "focus trying stop thinking cant",
          "lot question related make think something could focus something precise",
          "ive got get back track start instead focusing inducing feeling wanting actually focus",
          "term never tried focus specific body part",
          "im going concentrate specific area",
          "feel kept decentering losing focus",
          "second part say difficult time focusing maybe already bit tired first experiment",
          "look detail nice idea distract whatever thought going",
          "focusing wondering figured disturbing thought",
          "got distracted",
          "thought would quite distracting mean five minute sort still feel youve got something face whatever",
          "concentrate",
          "focus head",
          "think could get zone kind think stuff whithout distracted",
          "second part could still follow effort spent making sure following rather first one open looking body lot easier sort pinpoint attention distracted much",
          "hear someone telling focus",
          "im going distracted",
          "actually little bit focus feeling seeing",
          "hard time focus",
          "think able focus another image im going start thinking thing image making zine image everything reminds",
          "fill whatever thought imagery get distracted easily",
          "felt second part lot easier maintain focus maybe knew expect knew long going go element kind werent",
          "could focus",
          "think first one able say kind saying look take head chest whatever less distraction able focus actually cultivating feeling directing towards intended thing generating selfcompassion whereas might opposite effect",
          "trying concentrate instruction get disturbed easy",
          "make think make easier focus part body see outside",
          "think focused",
          "got distracted especially beginning felt body point felt less less",
          "hard put practice nonjudgmental",
          "focused",
          "example feel cant couldnt think focus something",
          "focus something forget others thing focus avatar could loss focus body forget body come back",
          "im totally focused exercise nothing else",
          "focus tooth dont care teeth",
          "maybe 78 focusing",
          "second one focused",
          "let focus",
          "beginning couldnt concentrate body lost focus think beginning",
          "guess sort incorporated concentrate give ability im actually supposed rather distracted annoyed distracted",
          "focus im feeling im",
          "think focused",
          "try medidate always noticed something brain need fight get distracted bring back stupid thinking whatever buy something shop whatever",
          "probably think less concentrate body concentrate looking dint feel dont pay attention weight",
          "would sort fight try go back focusing focusing body",
          "focusing something different",
          "help focus see",
          "found distracting rather helpful make think kind rather trying think focusing",
          "focusing image",
          "focusing",
          "point forget body focus something else come back",
          "seeing focusing",
          null
         ],
         "marker": {
          "opacity": 0.5,
          "size": 5
         },
         "mode": "markers+text",
         "name": "3_focus_focusing_distracted",
         "text": [
          "",
          "",
          "",
          "",
          "",
          "",
          "",
          "",
          "",
          "",
          "",
          "",
          "",
          "",
          "",
          "",
          "",
          "",
          "",
          "",
          "",
          "",
          "",
          "",
          "",
          "",
          "",
          "",
          "",
          "",
          "",
          "",
          "",
          "",
          "",
          "",
          "",
          "",
          "",
          "",
          "",
          "",
          "",
          "",
          "",
          "",
          "",
          "",
          "",
          "",
          "",
          "",
          "",
          "",
          "",
          "",
          "",
          "",
          "",
          "3_focus_focusing_distracted"
         ],
         "textfont": {
          "size": 12
         },
         "type": "scattergl",
         "x": [
          9.01236629486084,
          9.400457382202148,
          9.046551704406738,
          8.769867897033691,
          9.116106033325195,
          8.770405769348145,
          9.245100021362305,
          8.923019409179688,
          9.053400039672852,
          8.93945598602295,
          9.283208847045898,
          9.181757926940918,
          9.190902709960938,
          9.265497207641602,
          9.184678077697754,
          8.71674633026123,
          8.939395904541016,
          8.888065338134766,
          8.719881057739258,
          9.191865921020508,
          9.081178665161133,
          8.932530403137207,
          8.987922668457031,
          9.085484504699707,
          8.850841522216797,
          9.091082572937012,
          9.08455753326416,
          9.081396102905273,
          8.844836235046387,
          9.09229564666748,
          9.091339111328125,
          8.899364471435547,
          9.149550437927246,
          9.124432563781738,
          8.942500114440918,
          9.23438549041748,
          8.72583293914795,
          9.073360443115234,
          8.965106010437012,
          9.43735122680664,
          9.60128116607666,
          9.07845687866211,
          9.091194152832031,
          9.066269874572754,
          9.121365547180176,
          9.238093376159668,
          8.891998291015625,
          9.175688743591309,
          8.90537166595459,
          8.851186752319336,
          9.253957748413086,
          9.178444862365723,
          9.104063034057617,
          9.114004135131836,
          8.833078384399414,
          9.093076705932617,
          9.101203918457031,
          9.320839881896973,
          9.107894897460938,
          9.063416481018066
         ],
         "y": [
          9.166448593139648,
          9.2888822555542,
          9.35456657409668,
          9.264235496520996,
          9.412647247314453,
          9.334859848022461,
          9.449254989624023,
          9.158665657043457,
          9.204536437988281,
          9.327642440795898,
          9.30436897277832,
          9.532357215881348,
          9.012609481811523,
          9.317011833190918,
          9.168655395507812,
          9.357645034790039,
          9.223325729370117,
          9.131217956542969,
          9.352799415588379,
          9.036351203918457,
          9.643251419067383,
          9.304657936096191,
          9.209667205810547,
          9.44270133972168,
          9.093742370605469,
          9.437331199645996,
          9.486048698425293,
          9.543235778808594,
          9.266573905944824,
          9.219925880432129,
          9.481415748596191,
          9.226781845092773,
          9.016260147094727,
          9.530512809753418,
          9.270866394042969,
          9.156413078308105,
          9.3792085647583,
          9.422460556030273,
          9.221047401428223,
          9.27456283569336,
          9.533146858215332,
          9.56313705444336,
          9.489084243774414,
          9.439196586608887,
          9.517922401428223,
          9.164490699768066,
          9.104913711547852,
          9.364726066589355,
          9.25278091430664,
          9.177071571350098,
          9.122050285339355,
          9.418309211730957,
          9.523065567016602,
          9.558036804199219,
          9.25952434539795,
          9.582318305969238,
          9.518350601196289,
          9.346264839172363,
          9.604544639587402,
          9.331588745117188
         ]
        },
        {
         "hoverinfo": "text",
         "hovertext": [
          "think felt connected hand foot eye everyday five sens use every day",
          "eye closed mean looking person real im closing eye fine",
          "feel closing eye",
          "difficult think eye closed im paying attention thing outside im focused im paying attention around thing happening around",
          "actually one moment opened little bit eye see letter read ah keep eye closed",
          "feel eye closed experience im much receptive",
          "feel closing eye instinctively",
          "ask close eye already inside well done",
          "eye open eye closed",
          "think open eye fine",
          "close eye im much scarier well mean wasnt scary",
          "first part eye closed",
          "eye open lot easier focus attention",
          "eye closed one found easy eye open one difficult",
          "could stare filled busy part brain able focus step eye closed",
          "opened eye hard say",
          "also understand fact open eye see whats going",
          "feeling third eye opened see",
          "eye open facing nature focused rock",
          "still fell natural light even close eye",
          "well whenever said close closed",
          "could keep eye open",
          "eye opened",
          "think one question felt uncomfortable knew someone staring didnt mind",
          "think also play role screen close eye",
          "think would easier eye closed",
          "beginning eye closed",
          "guess maybe ask remember would eye closed couldnt see anything",
          "beginning looked cctv closedcircuit television",
          "still staying room less inner eye closed",
          "mean felt real eye closed instead keeping eye open mean meditation normally keep eye closed hear instruction follow",
          "eye closed compared eye open one found drifting lot lot easier drift sort go way im supposed ignore thought make sense",
          "think closed eye didnt reference",
          "thats open eye thats also potentially lose focus wander around oh thats beautiful tree",
          "think prefer first part eye closed",
          "easier relax looking forest closed eye became harder",
          "think easier eye open",
          "first condition 70 eye open much less 30",
          "definitely prefer eye closed",
          "second part eye closed maybe heard stronger",
          "30 eye open condition",
          "sometimes would normally tell close eye sometimes open eye well",
          "close close time close eye sleepy",
          "eye close body scanning feeling inside body",
          "first thing notice look eye closed blinking bit different kind",
          "make tiring keep open",
          "observing staring sometimes ill even close eye prefer feel intake thing eye closed",
          "think thats also associate meditation closing eye",
          "relaxing able keep eye open look thing",
          "eye closed whole time find lot hard lot harder stay track guess stay focused minute step meditation",
          "whereas im staring head anchored quite strongly harder think something else im staring",
          "difficult keep eye open actually",
          "different regular time open eye",
          "eye opened didnt expect see",
          "first one eye closed time",
          "would look head easier picture maintain focus image whereas eye closed thinking head try im probably also going think something else pop head well lot easier image head easily displaced another thought",
          null
         ],
         "marker": {
          "opacity": 0.5,
          "size": 5
         },
         "mode": "markers+text",
         "name": "4_eye_closed_eye closed",
         "text": [
          "",
          "",
          "",
          "",
          "",
          "",
          "",
          "",
          "",
          "",
          "",
          "",
          "",
          "",
          "",
          "",
          "",
          "",
          "",
          "",
          "",
          "",
          "",
          "",
          "",
          "",
          "",
          "",
          "",
          "",
          "",
          "",
          "",
          "",
          "",
          "",
          "",
          "",
          "",
          "",
          "",
          "",
          "",
          "",
          "",
          "",
          "",
          "",
          "",
          "",
          "",
          "",
          "",
          "",
          "",
          "",
          "4_eye_closed_eye closed"
         ],
         "textfont": {
          "size": 12
         },
         "type": "scattergl",
         "x": [
          9.121235847473145,
          9.015809059143066,
          9.045671463012695,
          8.93468189239502,
          9.055484771728516,
          9.075758934020996,
          9.07064437866211,
          9.027594566345215,
          9.104793548583984,
          9.024070739746094,
          9.004931449890137,
          9.11866283416748,
          8.94390869140625,
          9.088662147521973,
          9.053667068481445,
          9.067129135131836,
          8.942383766174316,
          9.078124046325684,
          8.652092933654785,
          8.713132858276367,
          9.042540550231934,
          9.056318283081055,
          9.066595077514648,
          9.010248184204102,
          9.042309761047363,
          9.012190818786621,
          9.1007080078125,
          9.066523551940918,
          9.122580528259277,
          9.025162696838379,
          9.165802001953125,
          9.047195434570312,
          9.025497436523438,
          8.620394706726074,
          9.07734489440918,
          8.593486785888672,
          8.975399017333984,
          9.043267250061035,
          9.101436614990234,
          9.130589485168457,
          9.066610336303711,
          9.032235145568848,
          8.983574867248535,
          9.100605964660645,
          9.222553253173828,
          8.990424156188965,
          9.054154396057129,
          9.18069839477539,
          8.667559623718262,
          9.263338088989258,
          9.029709815979004,
          9.032176971435547,
          9.088675498962402,
          9.063554763793945,
          9.09961986541748,
          9.04602336883545,
          9.024742126464844
         ],
         "y": [
          10.313882827758789,
          10.485518455505371,
          10.40945053100586,
          10.06757640838623,
          10.577411651611328,
          10.384809494018555,
          10.383336067199707,
          10.484208106994629,
          10.575651168823242,
          10.508697509765625,
          10.494768142700195,
          10.622830390930176,
          10.14340591430664,
          10.602326393127441,
          10.10452651977539,
          10.584607124328613,
          10.54697322845459,
          10.56162166595459,
          10.282472610473633,
          10.27752685546875,
          10.520533561706543,
          10.490251541137695,
          10.604333877563477,
          10.069697380065918,
          10.432638168334961,
          10.387145042419434,
          10.610198974609375,
          10.19099235534668,
          10.599786758422852,
          10.467669486999512,
          10.234626770019531,
          10.527009963989258,
          10.446565628051758,
          10.271822929382324,
          10.535567283630371,
          10.301581382751465,
          10.42544174194336,
          10.505849838256836,
          10.563302040100098,
          10.651201248168945,
          10.538997650146484,
          10.473752975463867,
          10.517388343811035,
          10.37747859954834,
          10.491493225097656,
          10.444050788879395,
          10.24528980255127,
          10.347941398620605,
          10.298601150512695,
          10.126113891601562,
          10.007352828979492,
          10.517406463623047,
          10.547492027282715,
          10.595684051513672,
          10.590140342712402,
          9.877766609191895,
          10.415084838867188
         ]
        },
        {
         "hoverinfo": "text",
         "hovertext": [
          "second one definitely found easier",
          "didnt notice particular difference first second one topic",
          "fourth one",
          "first one",
          "second one bit worried",
          "well think first one easier",
          "still maybe 5050",
          "one watching",
          "one completed",
          "ill say enjoyed second one",
          "second",
          "longer first one",
          "first definitely",
          "teacher saying first condition second condition maybe 30",
          "actually hard explain difference",
          "think hard say think main difference think second one time go faster first one",
          "think second one intense",
          "first condition",
          "maybe 80",
          "dont think one",
          "whats difference second part",
          "first one went",
          "second experiment want first one compare",
          "three",
          "think maybe second one",
          "much second phase first one",
          "main difference found first second",
          "first one enjoy",
          "see another people second one",
          "100 somewhat",
          "100",
          "thats first episode",
          "think maybe last one previous well think im sure saw previous scene",
          "id say 100",
          "second one second one",
          "first one",
          "first one nice well",
          "first double",
          "second",
          "four stage part experiment",
          "idea first experiment",
          "also make effect well",
          "second one want",
          "second one see",
          "second one light",
          "think last one maybe number three",
          "think prefer second one",
          "three three",
          "100 three",
          "two differents stage",
          "two thousand franc two three setting",
          "one",
          "think 510 second",
          "less less appreciated first one",
          null
         ],
         "marker": {
          "opacity": 0.5,
          "size": 5
         },
         "mode": "markers+text",
         "name": "5_one_second one_second",
         "text": [
          "",
          "",
          "",
          "",
          "",
          "",
          "",
          "",
          "",
          "",
          "",
          "",
          "",
          "",
          "",
          "",
          "",
          "",
          "",
          "",
          "",
          "",
          "",
          "",
          "",
          "",
          "",
          "",
          "",
          "",
          "",
          "",
          "",
          "",
          "",
          "",
          "",
          "",
          "",
          "",
          "",
          "",
          "",
          "",
          "",
          "",
          "",
          "",
          "",
          "",
          "",
          "",
          "",
          "",
          "5_one_second one_second"
         ],
         "textfont": {
          "size": 12
         },
         "type": "scattergl",
         "x": [
          5.697115421295166,
          6.2061309814453125,
          5.775631904602051,
          5.741717338562012,
          5.693844795227051,
          5.543795585632324,
          5.724803447723389,
          5.784886837005615,
          5.765139102935791,
          5.7194342613220215,
          5.683113098144531,
          5.98923397064209,
          5.463252067565918,
          5.788536548614502,
          6.317018985748291,
          6.196330547332764,
          6.586737632751465,
          5.789379596710205,
          5.712440013885498,
          5.611807823181152,
          6.2521257400512695,
          5.737536430358887,
          6.3943586349487305,
          5.822530746459961,
          5.632927894592285,
          6.2629523277282715,
          6.257073879241943,
          5.729071140289307,
          5.6793212890625,
          5.723469257354736,
          5.7258710861206055,
          5.765908241271973,
          5.7095417976379395,
          5.727258682250977,
          5.718189239501953,
          5.740871429443359,
          5.728761672973633,
          5.7098069190979,
          5.675670623779297,
          6.3792829513549805,
          6.4639811515808105,
          6.5305705070495605,
          5.681615352630615,
          5.682527542114258,
          5.690454006195068,
          5.71817684173584,
          5.694162368774414,
          5.818817615509033,
          5.788156986236572,
          6.325784683227539,
          5.816414833068848,
          5.781417369842529,
          5.738746166229248,
          5.717594623565674,
          5.863171100616455
         ],
         "y": [
          5.825124263763428,
          5.6511712074279785,
          6.045891761779785,
          6.246389389038086,
          6.293036937713623,
          5.770548343658447,
          5.500308990478516,
          5.915793418884277,
          5.998229503631592,
          6.218378067016602,
          6.280548572540283,
          6.2453389167785645,
          6.205081462860107,
          6.319146633148193,
          5.61722993850708,
          5.688981533050537,
          7.303893566131592,
          6.314815521240234,
          5.51273775100708,
          5.743378639221191,
          5.67581033706665,
          6.241353511810303,
          5.708251476287842,
          5.764863014221191,
          5.787248611450195,
          5.88573694229126,
          5.684352874755859,
          6.243137836456299,
          6.295038223266602,
          5.5193657875061035,
          5.524085998535156,
          6.232277870178223,
          5.8446364402771,
          5.5193352699279785,
          6.262838363647461,
          6.252518177032471,
          6.2506866455078125,
          6.2605814933776855,
          6.270071983337402,
          5.737839698791504,
          5.6845502853393555,
          5.592289447784424,
          6.231348991394043,
          6.266952991485596,
          6.318875312805176,
          5.768729209899902,
          5.811100482940674,
          5.723118782043457,
          5.654321670532227,
          5.748445987701416,
          5.727046966552734,
          5.88901424407959,
          5.4935126304626465,
          6.253307819366455,
          5.959604263305664
         ]
        },
        {
         "hoverinfo": "text",
         "hovertext": [
          "maybe self image thing couldnt see face person",
          "dont feel used think idea leaving body metaphysical experience maybe spiritual experience could actually see body",
          "said early interesting experience see outside normally reason see mirror go dont feeling experiment",
          "center",
          "perception body real life",
          "seeing body mirror second body seeing something seeing outside representation outside",
          "seeing mirror doesnt feel sensation feel focus body",
          "unusual see back normally see mirror see front rest imagine",
          "another point different looking different person scene trait",
          "also wearing jean let say sitting position sitting",
          "body actually image body real body actually image see clear enough",
          "looked body",
          "kind aware posture",
          "happening time seeing body",
          "see front",
          "seeing body",
          "different part body",
          "found part body strange knowing",
          "sometimes middle back reflected",
          "mean real body",
          "middle back try combine two",
          "could distinctly feel body could make clean distinction there there nonme",
          "im ive seen something cloud",
          "seeing body moving front",
          "think could still see mental representation body given",
          "see mirror go closer mirror dont sensation",
          "thats consciousness",
          "front",
          "sometimes focus image would catch front front",
          "mean nice see body",
          "seeing mirror kind blurred",
          "project body way would see body empty inside would feel rather full",
          "part could see body back bit strange",
          "seeing body",
          "part knee seems sit direction",
          "body see mosaic way image",
          "body see doesnt internal state one see mirror example",
          "one difference sure could see body",
          "still seeing looking",
          "thats distinct immediately real body",
          "middle",
          "body",
          "perception every part body stretch",
          "prefer see strange body front",
          "im seeing body",
          "tired seeing",
          "bit weird staring representation body",
          "body",
          "look shoulder chest feel sit direction",
          "youre seeing mirror",
          "maybe feedback would technical part told couldnt see person clearly",
          "mean could see body",
          null
         ],
         "marker": {
          "opacity": 0.5,
          "size": 5
         },
         "mode": "markers+text",
         "name": "6_mirror_body_seeing",
         "text": [
          "",
          "",
          "",
          "",
          "",
          "",
          "",
          "",
          "",
          "",
          "",
          "",
          "",
          "",
          "",
          "",
          "",
          "",
          "",
          "",
          "",
          "",
          "",
          "",
          "",
          "",
          "",
          "",
          "",
          "",
          "",
          "",
          "",
          "",
          "",
          "",
          "",
          "",
          "",
          "",
          "",
          "",
          "",
          "",
          "",
          "",
          "",
          "",
          "",
          "",
          "",
          "",
          "6_mirror_body_seeing"
         ],
         "textfont": {
          "size": 12
         },
         "type": "scattergl",
         "x": [
          9.865287780761719,
          10.09106731414795,
          10.215806007385254,
          8.210293769836426,
          9.985433578491211,
          10.214481353759766,
          10.209761619567871,
          10.356159210205078,
          9.751972198486328,
          10.666851043701172,
          10.005838394165039,
          10.023774147033691,
          10.65914535522461,
          10.110950469970703,
          10.419048309326172,
          10.07731819152832,
          10.413137435913086,
          10.47093677520752,
          10.502694129943848,
          9.917230606079102,
          8.172446250915527,
          9.879094123840332,
          10.179866790771484,
          10.475377082824707,
          9.601946830749512,
          10.249336242675781,
          9.43177604675293,
          10.422601699829102,
          10.479081153869629,
          9.831188201904297,
          10.251679420471191,
          10.085890769958496,
          10.622905731201172,
          10.054611206054688,
          10.678967475891113,
          10.016324996948242,
          10.209505081176758,
          9.835643768310547,
          4.193371295928955,
          9.981234550476074,
          8.165888786315918,
          10.076044082641602,
          10.02699089050293,
          10.159124374389648,
          10.02574348449707,
          6.676258563995361,
          10.362321853637695,
          10.147857666015625,
          10.72258186340332,
          10.260080337524414,
          9.804411888122559,
          9.888218879699707,
          9.86799144744873
         ],
         "y": [
          6.880697250366211,
          6.8884124755859375,
          6.962965965270996,
          7.654600143432617,
          7.038862705230713,
          6.968387126922607,
          6.951414585113525,
          7.056193828582764,
          6.689857006072998,
          6.999013423919678,
          6.987585067749023,
          6.861181259155273,
          7.003840446472168,
          6.926152229309082,
          7.2665581703186035,
          6.910914897918701,
          6.693772315979004,
          6.706173896789551,
          7.129125595092773,
          6.8641180992126465,
          7.658371925354004,
          6.590432643890381,
          7.011779308319092,
          7.2911834716796875,
          6.607521057128906,
          6.985005855560303,
          6.799609661102295,
          7.254342079162598,
          7.298279762268066,
          6.761944770812988,
          7.009276390075684,
          6.89375638961792,
          6.936288833618164,
          6.94208288192749,
          7.016177654266357,
          7.093990325927734,
          6.975404262542725,
          6.868588924407959,
          6.2880859375,
          6.892102241516113,
          7.671591758728027,
          6.8039751052856445,
          6.952548027038574,
          6.945435523986816,
          6.899044036865234,
          8.842830657958984,
          6.827476978302002,
          6.797918319702148,
          7.102393627166748,
          7.008666515350342,
          6.8875322341918945,
          6.907729625701904,
          7.005023002624512
         ]
        },
        {
         "hoverinfo": "text",
         "hovertext": [
          "would say interesting see outside",
          "one day train travel lot see see scenery go go go understand normally dont go anywhere",
          "corresponded seeing environment",
          "little bit well im watching outside",
          "natural environment",
          "suddenly environment changed",
          "think bit say im nature surroundings",
          "viewpoint outside",
          "anyway place nice",
          "maybe place",
          "surrounding example",
          "would another place",
          "im outside observe paralyzed useful",
          "nice people never go 3000 meter riga",
          "kind observation observed",
          "make want perspective often see want protect",
          "interesting observing well",
          "viewpoint",
          "expand boundary",
          "first part nature setting",
          "tall building",
          "different room im seem one say room maybe different place",
          "kind unnatural dont surroundings",
          "say mentioned environment room stay boundary reference whatever kind",
          "im outside",
          "seemed quite observing nature scene something",
          "beach",
          "grass near stone",
          "definitely visualizing outside kind",
          "nice would love another location",
          "environment bit",
          "came verbier high mountain",
          "outside",
          "unless go somewhere",
          "sometimes sometimes go real mountain see setting quite often",
          "inside",
          "grass covering",
          "room especially whatever especially go mountain afraid mountain height",
          "reference wasnt nature",
          "first moment saw nature setting",
          "place",
          "everywhere",
          "outside",
          "putting",
          "im outside im outside body",
          "interesting future dont need go store need dont need go place",
          "everywhere",
          "landscape",
          "first moment room room",
          "whole time let say outside observing environment plus body",
          "saw outside floating beginning quite fascinating",
          null
         ],
         "marker": {
          "opacity": 0.5,
          "size": 5
         },
         "mode": "markers+text",
         "name": "7_outside_environment_go",
         "text": [
          "",
          "",
          "",
          "",
          "",
          "",
          "",
          "",
          "",
          "",
          "",
          "",
          "",
          "",
          "",
          "",
          "",
          "",
          "",
          "",
          "",
          "",
          "",
          "",
          "",
          "",
          "",
          "",
          "",
          "",
          "",
          "",
          "",
          "",
          "",
          "",
          "",
          "",
          "",
          "",
          "",
          "",
          "",
          "",
          "",
          "",
          "",
          "",
          "",
          "",
          "",
          "7_outside_environment_go"
         ],
         "textfont": {
          "size": 12
         },
         "type": "scattergl",
         "x": [
          8.691829681396484,
          7.803841590881348,
          8.700326919555664,
          8.487702369689941,
          8.302362442016602,
          8.314992904663086,
          8.372905731201172,
          8.767619132995605,
          7.930340766906738,
          7.91462516784668,
          8.544387817382812,
          7.89685583114624,
          8.56791877746582,
          7.806992053985596,
          8.756010055541992,
          8.882362365722656,
          8.672338485717773,
          9.020336151123047,
          8.58509349822998,
          8.405854225158691,
          8.229869842529297,
          8.102293968200684,
          8.38223648071289,
          8.32220458984375,
          8.349329948425293,
          8.645198822021484,
          8.215951919555664,
          8.315092086791992,
          8.821418762207031,
          7.929551601409912,
          8.352794647216797,
          8.08706283569336,
          8.266130447387695,
          7.829303741455078,
          8.121648788452148,
          8.126834869384766,
          8.36658000946045,
          8.102180480957031,
          8.39759635925293,
          8.424921035766602,
          8.058045387268066,
          8.002995491027832,
          8.270618438720703,
          8.0423002243042,
          8.415850639343262,
          7.744405269622803,
          8.017131805419922,
          8.288056373596191,
          8.13512897491455,
          8.62591552734375,
          8.966897010803223,
          8.32118034362793
         ],
         "y": [
          7.583667278289795,
          7.824168682098389,
          7.568127632141113,
          7.673925876617432,
          7.886169910430908,
          7.858135223388672,
          7.946710109710693,
          7.538384914398193,
          7.687023639678955,
          7.6916608810424805,
          7.442854881286621,
          7.722288131713867,
          7.590162754058838,
          7.788055419921875,
          7.688369274139404,
          7.479926586151123,
          7.669424533843994,
          7.210536956787109,
          7.440181255340576,
          7.974776744842529,
          7.63100528717041,
          7.7602691650390625,
          7.941028118133545,
          7.947025775909424,
          7.708559513092041,
          7.744753837585449,
          7.770246982574463,
          7.83679723739624,
          7.51870059967041,
          7.694299697875977,
          7.889405250549316,
          7.4767937660217285,
          7.710303783416748,
          7.762357234954834,
          7.515510082244873,
          7.710834980010986,
          7.80888032913208,
          7.5498151779174805,
          7.961888313293457,
          7.917895793914795,
          7.701337814331055,
          7.724585056304932,
          7.721538066864014,
          7.626011371612549,
          7.640894889831543,
          7.426104545593262,
          7.727211952209473,
          7.859951496124268,
          7.742289066314697,
          7.574209213256836,
          7.5264997482299805,
          7.693952560424805
         ]
        },
        {
         "hoverinfo": "text",
         "hovertext": [
          "fact youre saying actually everything else move end dont",
          "movement great",
          "move image move",
          "moving away",
          "moving platform",
          "beginning moved move different",
          "alive also let movement go towards",
          "need time example forget room change forest image changed didnt physical movement",
          "train start move feel youre moving realise actually one thats moving",
          "absolutely new position see",
          "saying lift hand lady course wont lonely raise hand thats question saying hear",
          "due instruction given said one moment say feel hand",
          "notice compared platform effectively platform rock world",
          "body moved little bit",
          "dont see body hand moving stange",
          "hand dont",
          "asking put hand chest say thank help helping place hand foot saying thank support make helping remove help",
          "physical body movement",
          "possible stand move",
          "move hand see hand move time move hand",
          "would say place place hand shoulder shoulder heart example say word said",
          "move hand",
          "actually think dont shifting maybe way",
          "mean movement made little movement quite quick",
          "sometimes move little bit avoid touch",
          "talk raise hand see hand raising",
          "moved moved represented mind body two different body time",
          "move hand dont move hand see form another view body seems strange body doesnt follow want real life",
          "move fine sit well",
          "see move maybe two second move hand",
          "well platform moved",
          "wanted kind prove body stand hand see",
          "didnt make exaggerated movement thats exactly point",
          "saying im try foot ground",
          "example moved avatar also moved",
          "youre think thing platform",
          "im moving",
          "also noticed time moved hand repeating movement time",
          "give sensation platform moving",
          "im moved moved slowly",
          "platform wasnt youd probably feel",
          "pushing im fine",
          "platform moving",
          "move hand doesnt move",
          null
         ],
         "marker": {
          "opacity": 0.5,
          "size": 5
         },
         "mode": "markers+text",
         "name": "8_hand_move_moved",
         "text": [
          "",
          "",
          "",
          "",
          "",
          "",
          "",
          "",
          "",
          "",
          "",
          "",
          "",
          "",
          "",
          "",
          "",
          "",
          "",
          "",
          "",
          "",
          "",
          "",
          "",
          "",
          "",
          "",
          "",
          "",
          "",
          "",
          "",
          "",
          "",
          "",
          "",
          "",
          "",
          "",
          "",
          "",
          "",
          "",
          "8_hand_move_moved"
         ],
         "textfont": {
          "size": 12
         },
         "type": "scattergl",
         "x": [
          11.507265090942383,
          11.34701919555664,
          11.469145774841309,
          11.505492210388184,
          11.814987182617188,
          11.50460433959961,
          11.247758865356445,
          11.530391693115234,
          11.44040584564209,
          11.311700820922852,
          11.14721965789795,
          11.104487419128418,
          11.823095321655273,
          11.156641960144043,
          11.246219635009766,
          11.222466468811035,
          11.076574325561523,
          10.922730445861816,
          11.382667541503906,
          11.38745403289795,
          10.944689750671387,
          11.343094825744629,
          11.471831321716309,
          11.322892189025879,
          11.32470417022705,
          11.209358215332031,
          11.516942977905273,
          11.242130279541016,
          11.375724792480469,
          11.37633228302002,
          11.810162544250488,
          11.18317985534668,
          11.337235450744629,
          11.091474533081055,
          11.514930725097656,
          11.820771217346191,
          11.467862129211426,
          11.584538459777832,
          11.820507049560547,
          11.474211692810059,
          11.822936058044434,
          11.420198440551758,
          11.819051742553711,
          11.356764793395996,
          11.404541969299316
         ],
         "y": [
          7.796477317810059,
          7.839687347412109,
          7.739991664886475,
          7.832497596740723,
          7.959620475769043,
          7.767079830169678,
          7.698702335357666,
          7.556545734405518,
          7.828423023223877,
          7.626987457275391,
          7.4556427001953125,
          7.465569496154785,
          7.969099044799805,
          7.5023722648620605,
          7.569479465484619,
          7.470693588256836,
          7.425270080566406,
          7.660916328430176,
          7.675618648529053,
          7.580605983734131,
          7.343467712402344,
          7.603921413421631,
          7.819879055023193,
          7.805088996887207,
          7.16359281539917,
          7.502869606018066,
          7.5473198890686035,
          7.558146953582764,
          7.869027614593506,
          7.577849388122559,
          7.957309246063232,
          7.426897048950195,
          7.805442810058594,
          7.394195079803467,
          7.704207897186279,
          7.9682793617248535,
          7.866249084472656,
          7.419068336486816,
          7.953619480133057,
          7.805074691772461,
          7.968446731567383,
          7.857219696044922,
          7.965263366699219,
          7.609921932220459,
          7.6798553466796875
         ]
        },
        {
         "hoverinfo": "text",
         "hovertext": [
          "doesnt sort disassociate fact youre sitting virtual reality little bit",
          "reality",
          "side watching virtual reality much easier focus part part body put focus feel",
          "see another illusion think kind buddhist",
          "would virtual person physical",
          "focused virtual body looked moment physical body needed go virtual body felt shift physical body",
          "whatever im happy whatever amazing different whatever reality",
          "kind illusion",
          "many thing go see different virtual reality people dont imagination trust whatever need",
          "even virtual body front see touch",
          "thought mean least someone never experienced virtual reality think bit disturbing",
          "first section dont ive obviously never used vr cool",
          "different first vr experience killing zombie something",
          "virtual body always actually kept mind virtual body",
          "sophisticated virtual reality stuff people 100 believe live today kind also kind illusion",
          "switched one reality another one",
          "first time virtual reality beginning weird bit anxious",
          "think always kind feeling reality",
          "example first questionnaire virtual reality noticed answering selflove let say second part",
          "love sport go sport hamam kind detach reality",
          "sometimes inside precise past corresponds reality thing",
          "maybe think also nice see vr listening",
          "kind reality go around",
          "use panorama vr equipment",
          "see three different reality",
          "interesting see vr",
          "future kind kind creating buy example buy dress different dress sporty classic virtual reality game press put kind information program right",
          "include vr everything",
          "also eye closed could disassociate room place virtual reality saw front",
          "body virtual visualization body",
          "first experiment felt nice including virtual reality meditation made feel change scenario everything",
          "became less simulation personal",
          "usually vr sometimes laying machine",
          "also another version reality illusion little bit",
          "second condition eye open virtual reality didnt feel could get meditation",
          "dont understand illusion",
          "reality compulsive thinking go",
          "look cross switched questionnaire stay answer question automatically",
          "weird see body vr",
          "woman virtual self",
          "ill say sometimes ill try see actually true reality",
          "profoundly would good example idea button home room office room virtual reality extremely high level",
          "well understand differently today want people say people life illusion game",
          null
         ],
         "marker": {
          "opacity": 0.5,
          "size": 5
         },
         "mode": "markers+text",
         "name": "9_reality_virtual_virtual reality",
         "text": [
          "",
          "",
          "",
          "",
          "",
          "",
          "",
          "",
          "",
          "",
          "",
          "",
          "",
          "",
          "",
          "",
          "",
          "",
          "",
          "",
          "",
          "",
          "",
          "",
          "",
          "",
          "",
          "",
          "",
          "",
          "",
          "",
          "",
          "",
          "",
          "",
          "",
          "",
          "",
          "",
          "",
          "",
          "",
          "9_reality_virtual_virtual reality"
         ],
         "textfont": {
          "size": 12
         },
         "type": "scattergl",
         "x": [
          9.6695556640625,
          8.78947925567627,
          9.668456077575684,
          9.323256492614746,
          9.917193412780762,
          9.95745849609375,
          8.804877281188965,
          9.32862377166748,
          9.565202713012695,
          9.963025093078613,
          9.58800983428955,
          9.733074188232422,
          9.76253604888916,
          9.939536094665527,
          9.477503776550293,
          8.79863452911377,
          9.735092163085938,
          8.816949844360352,
          9.702069282531738,
          8.887999534606934,
          8.735188484191895,
          9.673285484313965,
          8.778111457824707,
          9.766060829162598,
          8.797450065612793,
          9.75357437133789,
          9.564209938049316,
          9.764022827148438,
          9.619341850280762,
          9.963713645935059,
          9.618708610534668,
          9.615152359008789,
          9.767956733703613,
          9.402630805969238,
          9.61951732635498,
          9.36588191986084,
          8.75532341003418,
          9.693792343139648,
          9.839309692382812,
          9.941691398620605,
          8.812553405761719,
          9.558341026306152,
          9.418708801269531,
          9.471001625061035
         ],
         "y": [
          8.441594123840332,
          6.865375995635986,
          8.534452438354492,
          8.038806915283203,
          8.191756248474121,
          8.173480987548828,
          6.817777156829834,
          8.021261215209961,
          8.316362380981445,
          8.187788009643555,
          8.407512664794922,
          8.427910804748535,
          8.340804100036621,
          8.184308052062988,
          8.142374992370605,
          6.9147748947143555,
          8.394932746887207,
          6.6839447021484375,
          8.1956148147583,
          6.924358367919922,
          6.846683502197266,
          8.428196907043457,
          6.868873596191406,
          8.397832870483398,
          6.8847975730896,
          8.430709838867188,
          8.218297004699707,
          8.437223434448242,
          8.450133323669434,
          8.161764144897461,
          8.115239143371582,
          8.106127738952637,
          8.433237075805664,
          8.081517219543457,
          8.513047218322754,
          8.05032730102539,
          6.847832679748535,
          8.261225700378418,
          8.317482948303223,
          8.192237854003906,
          6.872031211853027,
          8.29064655303955,
          8.093332290649414,
          7.941953659057617
         ]
        },
        {
         "hoverinfo": "text",
         "hovertext": [
          "good",
          "youre good",
          "fine",
          "sorry",
          "actually",
          "fine",
          "thats fine",
          "ah still",
          "actually",
          "less thats ok",
          "thats fine",
          "oh",
          "oh good",
          "ok",
          "good oh wow",
          "thank lot",
          "good",
          "good",
          "oh wow",
          "ah one",
          "mine",
          "thank thank",
          "good",
          "good",
          "thats great",
          "youre",
          "ah",
          "great",
          "oh problem great actually nice",
          "oh well leg",
          "sorry",
          "oh",
          "sorry",
          "oh make sense",
          "oh mean",
          "youre",
          "wow",
          "oh fine fine",
          "oh great",
          "ah",
          "ah sorry",
          null
         ],
         "marker": {
          "opacity": 0.5,
          "size": 5
         },
         "mode": "markers+text",
         "name": "10_oh_fine_good",
         "text": [
          "",
          "",
          "",
          "",
          "",
          "",
          "",
          "",
          "",
          "",
          "",
          "",
          "",
          "",
          "",
          "",
          "",
          "",
          "",
          "",
          "",
          "",
          "",
          "",
          "",
          "",
          "",
          "",
          "",
          "",
          "",
          "",
          "",
          "",
          "",
          "",
          "",
          "",
          "",
          "",
          "",
          "10_oh_fine_good"
         ],
         "textfont": {
          "size": 12
         },
         "type": "scattergl",
         "x": [
          5.98305606842041,
          6.068593502044678,
          5.7947916984558105,
          5.217317581176758,
          5.297356128692627,
          5.818199634552002,
          5.755694389343262,
          5.307548522949219,
          5.285669326782227,
          5.780635356903076,
          5.766651153564453,
          5.360718727111816,
          5.525598526000977,
          5.77897310256958,
          5.5826191902160645,
          6.507902145385742,
          5.98617696762085,
          5.982040882110596,
          5.543102741241455,
          5.347592830657959,
          6.064175128936768,
          6.518689155578613,
          5.967510223388672,
          5.980956554412842,
          5.786959648132324,
          6.073817253112793,
          5.32039213180542,
          5.934544086456299,
          5.620854377746582,
          5.52081823348999,
          5.222536087036133,
          5.375891208648682,
          5.222714900970459,
          5.419620513916016,
          5.404952526092529,
          6.0842790603637695,
          5.614231109619141,
          5.767982482910156,
          5.570613384246826,
          5.331408977508545,
          5.208085060119629,
          5.675641059875488
         ],
         "y": [
          2.4562902450561523,
          2.5785574913024902,
          2.7573342323303223,
          2.828051805496216,
          2.5938947200775146,
          2.760654926300049,
          2.7315673828125,
          2.613659143447876,
          2.6086244583129883,
          2.7279200553894043,
          2.7435014247894287,
          2.565749406814575,
          2.5076870918273926,
          2.792296886444092,
          2.5015387535095215,
          2.674201011657715,
          2.456174850463867,
          2.45182466506958,
          2.4876608848571777,
          2.5604922771453857,
          2.566953182220459,
          2.547283172607422,
          2.4577598571777344,
          2.463031530380249,
          2.0979747772216797,
          2.5612072944641113,
          2.568183422088623,
          2.392937660217285,
          2.542445659637451,
          2.4950673580169678,
          2.8276100158691406,
          2.555553436279297,
          2.8272740840911865,
          2.5506434440612793,
          2.551727533340454,
          2.5837020874023438,
          2.4503173828125,
          2.7621049880981445,
          2.488206148147583,
          2.5704057216644287,
          2.8392586708068848,
          2.5877397060394287
         ]
        },
        {
         "hoverinfo": "text",
         "hovertext": [
          "white cross actually helped prove back side",
          "reaction body body trying avoid touch",
          "actually body help tell touch back",
          "view think think touching dont scene seing happening three second bit confuse understand",
          "easily fear touch back side",
          "thought head oh guess primed think even possibility started realizing actually true especially feel touch also see",
          "last part touch little confusing one point could feel happened",
          "actually head tried try put two thing together tell part touched",
          "touch back",
          "real touch image image",
          "feel real touch",
          "back touching could see waist could see youre back see front youre knocked",
          "touching basically beginning kind interesting kind see feeling third time felt wasnt last time felt time lag two right",
          "need see touch smell",
          "touched",
          "even touch touch",
          "first time touched thing",
          "think impact touching",
          "touching seemed quite normal could see first could see visually representation body touched",
          "normal previous session four time already saw scene got body touched back different",
          "see touch image feel time touch",
          "feel backside",
          "first minute started repeating phrase touching body normal",
          "dont afterwards thought maybe definitely even think twice could still feel touch think actual touch didnt correspond visual",
          "mean convincing body awareness delay sure body even knowing im going touched place see im actually getting touched",
          "experienced near told see another person able feel touching body",
          "see see touch",
          "thought touched one weird get see",
          "said feel touch exactly back difference touch back also image also example session",
          "touch backside",
          "feel someone used scene touch",
          "expecting feel touch seeing body end still dissociated",
          "example first touch actually real body reacted little bit touch",
          "real body touched",
          "actually image help locate touched",
          "feel real touch",
          "touched back could feel also touching back",
          "touch",
          "body actually know touch back",
          "strange see dont looked doesnt touch place",
          "white cross tell ending session touch back didnt stop immediately moment notice",
          null
         ],
         "marker": {
          "opacity": 0.5,
          "size": 5
         },
         "mode": "markers+text",
         "name": "11_touch_touched_touching",
         "text": [
          "",
          "",
          "",
          "",
          "",
          "",
          "",
          "",
          "",
          "",
          "",
          "",
          "",
          "",
          "",
          "",
          "",
          "",
          "",
          "",
          "",
          "",
          "",
          "",
          "",
          "",
          "",
          "",
          "",
          "",
          "",
          "",
          "",
          "",
          "",
          "",
          "",
          "",
          "",
          "",
          "",
          "11_touch_touched_touching"
         ],
         "textfont": {
          "size": 12
         },
         "type": "scattergl",
         "x": [
          10.999092102050781,
          11.213260650634766,
          11.135716438293457,
          11.302946090698242,
          11.13400650024414,
          11.219279289245605,
          11.224955558776855,
          11.317578315734863,
          11.190387725830078,
          11.36925220489502,
          11.312002182006836,
          10.951592445373535,
          11.279375076293945,
          11.360614776611328,
          11.389214515686035,
          11.396617889404297,
          11.378511428833008,
          11.441863059997559,
          11.126129150390625,
          11.13467788696289,
          11.372759819030762,
          11.153564453125,
          11.097087860107422,
          11.17675495147705,
          11.157133102416992,
          10.959234237670898,
          11.394278526306152,
          11.338834762573242,
          11.129584312438965,
          11.137861251831055,
          11.225833892822266,
          11.079033851623535,
          11.246021270751953,
          11.236958503723145,
          11.365021705627441,
          11.31124496459961,
          11.115241050720215,
          11.371382713317871,
          11.132007598876953,
          11.377670288085938,
          11.091715812683105,
          11.227957725524902
         ],
         "y": [
          6.9573073387146,
          6.8012237548828125,
          6.891617774963379,
          6.769792556762695,
          6.914742946624756,
          6.631077289581299,
          6.468181610107422,
          6.72800350189209,
          6.839319229125977,
          6.648321628570557,
          6.657462120056152,
          6.974327087402344,
          6.399917125701904,
          6.614831447601318,
          6.7072649002075195,
          6.739242076873779,
          6.72116231918335,
          6.72002649307251,
          6.688997745513916,
          6.847841739654541,
          6.63194465637207,
          6.811057090759277,
          6.766925811767578,
          6.5956854820251465,
          6.680890083312988,
          6.599696159362793,
          6.7062225341796875,
          6.6607666015625,
          6.885875701904297,
          6.897952079772949,
          6.580841064453125,
          6.506781578063965,
          6.719813346862793,
          6.705047130584717,
          6.681643962860107,
          6.657999038696289,
          6.85621452331543,
          6.7056965827941895,
          6.885343551635742,
          6.71533203125,
          6.8723344802856445,
          6.727920055389404
         ]
        },
        {
         "hoverinfo": "text",
         "hovertext": [
          "found extremely bored extremely calm relaxed",
          "relaxed",
          "kind telling u relax fun",
          "relaxing",
          "stressed stress",
          "helped relax",
          "relief",
          "relaxing second time first one",
          "break",
          "whereas second session could get back setting easily",
          "thought maybe reach certain level see outside second session",
          "shock",
          "feel second session",
          "basically tell relax problem",
          "first session quite",
          "still quite relaxing still easy follow",
          "oh relaxing",
          "relaxed",
          "relaxing",
          "something new didnt happen first session",
          "relaxed",
          "relaxing",
          "think youre relaxed start slipping extremely",
          "think second one dont light relaxing",
          "relax alert",
          "also harder come back first session",
          "discomfort pleasant much",
          "first session feel calm rest",
          "rest",
          "feel relaxed time",
          "surprising first ive ive used quickly enjoyed",
          "relaxing",
          "think maybe relief",
          "uncomfortable see relaxing body looked little bit",
          "relief",
          "started pile stone quite relaxing",
          "second session way relaxing first one",
          "first time release stress everything",
          "quite calming relaxing",
          "still able relax go step instructing try induce feeling",
          "maybe relaxed dont also",
          null
         ],
         "marker": {
          "opacity": 0.5,
          "size": 5
         },
         "mode": "markers+text",
         "name": "12_relaxing_session_relaxed",
         "text": [
          "",
          "",
          "",
          "",
          "",
          "",
          "",
          "",
          "",
          "",
          "",
          "",
          "",
          "",
          "",
          "",
          "",
          "",
          "",
          "",
          "",
          "",
          "",
          "",
          "",
          "",
          "",
          "",
          "",
          "",
          "",
          "",
          "",
          "",
          "",
          "",
          "",
          "",
          "",
          "",
          "",
          "12_relaxing_session_relaxed"
         ],
         "textfont": {
          "size": 12
         },
         "type": "scattergl",
         "x": [
          6.428557872772217,
          6.392215251922607,
          6.569791793823242,
          6.383471965789795,
          6.456295967102051,
          6.372222423553467,
          6.178374767303467,
          6.432304859161377,
          6.736248970031738,
          6.4055633544921875,
          6.4034929275512695,
          6.1339874267578125,
          6.40662145614624,
          6.487407207489014,
          6.392556190490723,
          6.389003753662109,
          6.376686096191406,
          6.413043022155762,
          6.375755310058594,
          6.379809856414795,
          6.408358573913574,
          6.372837066650391,
          6.4982194900512695,
          6.388891696929932,
          6.411569118499756,
          6.399782657623291,
          6.574714660644531,
          6.418087959289551,
          6.401988983154297,
          6.443748950958252,
          6.875819683074951,
          6.366906642913818,
          6.162430286407471,
          6.596774578094482,
          6.18092155456543,
          6.499192714691162,
          6.403929233551025,
          6.470315456390381,
          6.370293617248535,
          6.5369954109191895,
          6.41355562210083,
          6.422164440155029
         ],
         "y": [
          8.178816795349121,
          8.193094253540039,
          8.11214542388916,
          8.196246147155762,
          8.214696884155273,
          8.175848960876465,
          8.003756523132324,
          7.567315101623535,
          7.89661979675293,
          7.6395158767700195,
          7.64248514175415,
          7.945578098297119,
          7.639319896697998,
          8.222031593322754,
          7.6357245445251465,
          8.198275566101074,
          8.183073997497559,
          8.20642375946045,
          8.183549880981445,
          7.650187015533447,
          8.202130317687988,
          8.184343338012695,
          8.285085678100586,
          8.011719703674316,
          8.26310920715332,
          7.638587951660156,
          8.382802963256836,
          7.91187047958374,
          8.17614459991455,
          8.191255569458008,
          7.130977630615234,
          8.211664199829102,
          7.979348659515381,
          8.440032005310059,
          8.000961303710938,
          8.159600257873535,
          7.653947353363037,
          8.194287300109863,
          8.182732582092285,
          8.180523872375488,
          8.215381622314453,
          8.031249046325684
         ]
        },
        {
         "hoverinfo": "text",
         "hovertext": [
          "quite chaotic brain guess",
          "biggest thing",
          "feel still get identify",
          "many thing",
          "part",
          "could identify didnt feel",
          "first time think took anyway end able identify",
          "whole thing",
          "thing everybodys",
          "guess felt kind similar looking",
          "naturally guess",
          "challenging reason id",
          "he indian",
          "example thing",
          "identified",
          "thing",
          "there one thing barrier thing piece paper showed",
          "well thing annoyed could see properly thing next thing bottom little foggy",
          "something",
          "even second part",
          "anyone else",
          "guess element around",
          "id challenge",
          "good part",
          "could recognize",
          "small identification",
          "someone",
          "cant clearly identify",
          "part",
          "lady",
          "good love part",
          "watching movie front guess difference matching",
          "think felt natural easier identify",
          "could obviously identify didnt feel direct association",
          "could tell pattern recognition didnt feel",
          "thing would annoyed thing",
          "dont processed probably different guess two different system probably",
          null
         ],
         "marker": {
          "opacity": 0.5,
          "size": 5
         },
         "mode": "markers+text",
         "name": "13_identify_thing_guess",
         "text": [
          "",
          "",
          "",
          "",
          "",
          "",
          "",
          "",
          "",
          "",
          "",
          "",
          "",
          "",
          "",
          "",
          "",
          "",
          "",
          "",
          "",
          "",
          "",
          "",
          "",
          "",
          "",
          "",
          "",
          "",
          "",
          "",
          "",
          "",
          "",
          "",
          "",
          "13_identify_thing_guess"
         ],
         "textfont": {
          "size": 12
         },
         "type": "scattergl",
         "x": [
          8.219583511352539,
          7.289248466491699,
          8.09300422668457,
          7.26930046081543,
          7.674772262573242,
          8.102577209472656,
          8.059975624084473,
          7.527585029602051,
          7.235891342163086,
          8.316102981567383,
          8.221724510192871,
          7.665586471557617,
          7.5263671875,
          7.335677146911621,
          7.6986589431762695,
          7.286613464355469,
          7.363785743713379,
          9.354516983032227,
          7.29709005355835,
          7.635677814483643,
          7.263077735900879,
          8.188551902770996,
          7.687584400177002,
          7.669233798980713,
          8.012346267700195,
          7.685093402862549,
          7.421911716461182,
          7.751463413238525,
          7.6707024574279785,
          7.484595775604248,
          7.739413738250732,
          8.286575317382812,
          8.137584686279297,
          8.118146896362305,
          8.166823387145996,
          7.26108980178833,
          8.245534896850586,
          7.7827959060668945
         ],
         "y": [
          5.915585994720459,
          4.789435863494873,
          5.340313911437988,
          4.767185211181641,
          4.550818920135498,
          5.319647789001465,
          5.451166152954102,
          4.676098823547363,
          4.727532863616943,
          5.779817581176758,
          5.8633198738098145,
          5.146141529083252,
          5.1387176513671875,
          4.859227180480957,
          5.158302307128906,
          4.800477027893066,
          4.839718818664551,
          6.921807289123535,
          4.932386875152588,
          4.551276206970215,
          4.91221809387207,
          5.9646453857421875,
          5.150941371917725,
          4.499281883239746,
          5.204699993133545,
          5.143303871154785,
          5.004423141479492,
          5.1589531898498535,
          4.549909591674805,
          5.047828674316406,
          4.503846168518066,
          5.767776012420654,
          5.54351282119751,
          5.335206031799316,
          5.330928802490234,
          4.837446689605713,
          6.155503749847412,
          5.179443836212158
         ]
        },
        {
         "hoverinfo": "text",
         "hovertext": [
          "still strange",
          "normal",
          "kind nonawareness",
          "normal",
          "strange",
          "bit weird must say",
          "probably weird see",
          "strange actually",
          "strange wow",
          "bit strange lot say",
          "strange also dont",
          "kind",
          "kind surprise",
          "thats normal",
          "weird",
          "kind new",
          "kind",
          "special",
          "nothing strange",
          "bit weird see",
          "special",
          "let say weirdness",
          "bit strange",
          "little weird otherwise",
          "strange",
          "bit strange maybe thats didnt",
          "bit weird",
          "weird",
          "mean nothing particularly unusual",
          "kind unusual",
          "weird funny",
          "unusual",
          "thats weird",
          "feel normal",
          "normal",
          "accepting nothing strange",
          null
         ],
         "marker": {
          "opacity": 0.5,
          "size": 5
         },
         "mode": "markers+text",
         "name": "14_strange_weird_normal",
         "text": [
          "",
          "",
          "",
          "",
          "",
          "",
          "",
          "",
          "",
          "",
          "",
          "",
          "",
          "",
          "",
          "",
          "",
          "",
          "",
          "",
          "",
          "",
          "",
          "",
          "",
          "",
          "",
          "",
          "",
          "",
          "",
          "",
          "",
          "",
          "",
          "",
          "14_strange_weird_normal"
         ],
         "textfont": {
          "size": 12
         },
         "type": "scattergl",
         "x": [
          8.1845121383667,
          8.434475898742676,
          8.759243965148926,
          8.435038566589355,
          8.151989936828613,
          8.235904693603516,
          8.173337936401367,
          8.164581298828125,
          8.173871994018555,
          8.26425838470459,
          8.386364936828613,
          8.721965789794922,
          8.689608573913574,
          8.432143211364746,
          8.139444351196289,
          8.696687698364258,
          8.736212730407715,
          8.4767427444458,
          8.43976879119873,
          8.198745727539062,
          8.488204002380371,
          8.406848907470703,
          8.187859535217285,
          8.275383949279785,
          8.152214050292969,
          8.188180923461914,
          8.195011138916016,
          8.13614273071289,
          8.535642623901367,
          8.658853530883789,
          8.158882141113281,
          8.489666938781738,
          8.13524055480957,
          8.43812084197998,
          8.435219764709473,
          8.464681625366211,
          8.367807388305664
         ],
         "y": [
          2.4252490997314453,
          3.1550703048706055,
          2.7087221145629883,
          3.1509382724761963,
          2.404348373413086,
          2.475681781768799,
          2.419894218444824,
          2.413707971572876,
          2.419618844985962,
          2.515235185623169,
          2.6569836139678955,
          2.683675765991211,
          2.6595239639282227,
          3.148261308670044,
          2.3837428092956543,
          2.6536953449249268,
          2.6872267723083496,
          2.7861669063568115,
          2.6124794483184814,
          2.4426939487457275,
          2.765404462814331,
          2.6319680213928223,
          2.441222906112671,
          2.4976489543914795,
          2.402909994125366,
          2.4495649337768555,
          2.4399216175079346,
          2.3836617469787598,
          2.6584579944610596,
          2.6614789962768555,
          2.3957550525665283,
          2.6746935844421387,
          2.389805555343628,
          3.1528992652893066,
          3.1502315998077393,
          2.656951427459717,
          2.6265413761138916
         ]
        },
        {
         "hoverinfo": "text",
         "hovertext": [
          "dont think",
          "otherwise could",
          "kinda",
          "kinda",
          "im oh god cant manage suck",
          "first maybe",
          "maybe one question",
          "ok maybe cant",
          "oh depends people might",
          "maybe answer",
          "maybe thats something",
          "basically",
          "oh god could",
          "pretty much",
          "almost",
          "point could",
          "maybe want ask something",
          "guess first one said could",
          "maybe",
          "would loved exact time would easier would",
          "dont think",
          "dont think",
          "dont think maybe second part",
          "maybe",
          "almost",
          "maybe",
          "seemed quite natural would",
          "maybe",
          "maybe get familiar",
          "would catch button",
          "could",
          "maybe would",
          "would eventually get conection",
          "last question would",
          "would",
          "would unnecessary",
          null
         ],
         "marker": {
          "opacity": 0.5,
          "size": 5
         },
         "mode": "markers+text",
         "name": "15_maybe_would_dont think",
         "text": [
          "",
          "",
          "",
          "",
          "",
          "",
          "",
          "",
          "",
          "",
          "",
          "",
          "",
          "",
          "",
          "",
          "",
          "",
          "",
          "",
          "",
          "",
          "",
          "",
          "",
          "",
          "",
          "",
          "",
          "",
          "",
          "",
          "",
          "",
          "",
          "",
          "15_maybe_would_dont think"
         ],
         "textfont": {
          "size": 12
         },
         "type": "scattergl",
         "x": [
          5.2566657066345215,
          4.839695453643799,
          4.544922351837158,
          4.538935661315918,
          4.920733451843262,
          4.579800605773926,
          4.649255275726318,
          5.176400184631348,
          4.549917697906494,
          4.6377105712890625,
          4.5932745933532715,
          4.554173469543457,
          4.846877574920654,
          4.530624866485596,
          4.529019832611084,
          4.938232421875,
          4.647312641143799,
          4.847959518432617,
          4.536170482635498,
          4.641275882720947,
          5.2558112144470215,
          5.275134086608887,
          5.274531841278076,
          4.527862071990967,
          4.520699501037598,
          4.547618389129639,
          4.667193412780762,
          4.544013023376465,
          4.821874141693115,
          4.592436790466309,
          4.899534702301025,
          4.603600978851318,
          4.589463233947754,
          4.617883205413818,
          4.65033483505249,
          4.6487812995910645,
          4.733214855194092
         ],
         "y": [
          5.275008201599121,
          4.445212364196777,
          4.115719795227051,
          4.113200664520264,
          4.52740478515625,
          4.1506428718566895,
          4.122572422027588,
          3.406529188156128,
          4.236666679382324,
          4.069103717803955,
          4.061817646026611,
          4.0889129638671875,
          4.4986958503723145,
          4.076801300048828,
          4.066354274749756,
          4.376971244812012,
          4.06817626953125,
          4.466387748718262,
          4.1313090324401855,
          4.553020000457764,
          5.285473346710205,
          5.287032604217529,
          5.301618576049805,
          4.1679368019104,
          4.058464527130127,
          4.140834808349609,
          4.600793838500977,
          4.133309364318848,
          3.7852041721343994,
          4.577836990356445,
          4.393983840942383,
          4.368894577026367,
          4.569291591644287,
          4.583158016204834,
          4.54391622543335,
          4.585241794586182,
          4.3675971031188965
         ]
        },
        {
         "hoverinfo": "text",
         "hovertext": [
          "love sadhguru actually",
          "part forest",
          "forest",
          "tree placed middle nowhere",
          "one want set forest contact feeling",
          "forest dark",
          "whereas forest therapeutic effect connect mind body way real impactful sense whereas second one bit abstract",
          "also nice setting forest everything",
          "felt platform sitting forest elevated ground level right",
          "loved experience wanted try even forest would nice",
          "first bit forest felt instead observer experiencing felt inside body",
          "sadhguru",
          "second session inspired something adventure adventure forest",
          "forest",
          "cant believe im existing wouldnt want person ever feel sad stressed theyre sitting forest adorable",
          "felt kind meditation would better real forest asked look rock tree",
          "nice forest",
          "love forest",
          "well anything else could looking tree fastly putting attention somewhere else",
          "quality image see good forest",
          "difficult think im forest",
          "simple much happening tree rock also diversity interesting",
          "plataform thing moving away forest",
          "mean love environment forest nature feel quite good",
          "fact immersed forest helpful think",
          "exactly exploration normally dont go deep tree picture relaxation",
          "actually first moment entered forest shock",
          "see rock forest border",
          "forest alive",
          "said im contact sensation sensation forest",
          "felt forest",
          "also want smell forest",
          null
         ],
         "marker": {
          "opacity": 0.5,
          "size": 5
         },
         "mode": "markers+text",
         "name": "16_forest_tree_rock",
         "text": [
          "",
          "",
          "",
          "",
          "",
          "",
          "",
          "",
          "",
          "",
          "",
          "",
          "",
          "",
          "",
          "",
          "",
          "",
          "",
          "",
          "",
          "",
          "",
          "",
          "",
          "",
          "",
          "",
          "",
          "",
          "",
          "",
          "16_forest_tree_rock"
         ],
         "textfont": {
          "size": 12
         },
         "type": "scattergl",
         "x": [
          7.163741111755371,
          7.479031085968018,
          7.457121849060059,
          7.50342321395874,
          7.467488765716553,
          7.440546035766602,
          7.469470977783203,
          7.4407854080200195,
          7.451897621154785,
          7.437936782836914,
          7.491495132446289,
          7.021083831787109,
          7.466069221496582,
          7.472646713256836,
          7.431371688842773,
          7.464901447296143,
          7.463605880737305,
          7.453728199005127,
          7.87926721572876,
          7.480039119720459,
          7.4691548347473145,
          7.410821437835693,
          7.469170093536377,
          7.416510581970215,
          7.472426891326904,
          7.581413745880127,
          7.492075443267822,
          7.429342746734619,
          7.4799089431762695,
          7.514102458953857,
          7.447412967681885,
          7.453732967376709,
          7.455366134643555
         ],
         "y": [
          10.152880668640137,
          10.232942581176758,
          10.273655891418457,
          10.275081634521484,
          10.266193389892578,
          10.303288459777832,
          10.294305801391602,
          10.272379875183105,
          10.255699157714844,
          10.288690567016602,
          10.177863121032715,
          10.09197998046875,
          10.267182350158691,
          10.255980491638184,
          10.258906364440918,
          10.282391548156738,
          10.285572052001953,
          10.269180297851562,
          10.16330623626709,
          10.286916732788086,
          10.271656036376953,
          10.32192611694336,
          10.261329650878906,
          10.221457481384277,
          10.284347534179688,
          10.309481620788574,
          10.182328224182129,
          10.308937072753906,
          10.212157249450684,
          10.287699699401855,
          10.254121780395508,
          10.27116870880127,
          10.254405975341797
         ]
        },
        {
         "hoverinfo": "text",
         "hovertext": [
          "dont unknown let say",
          "dont teacher lot question came",
          "im sure ive got perfect description thats",
          "youre competition try something make sense",
          "tell later",
          "good question",
          "dont dont explain",
          "everything around say net unclear",
          "dont clear",
          "guess im curious",
          "dont explain",
          "think im",
          "question",
          "tell actually",
          "explain",
          "dont say",
          "never got point",
          "understand well",
          "dont tell",
          "question",
          "sorry im im im saying maybe something",
          "dont describe",
          "dont understand question",
          "question",
          "dont dont ask",
          "profound question",
          "another question",
          "dont explain",
          "im used",
          "try understand",
          "dont explain im",
          "im curious",
          null
         ],
         "marker": {
          "opacity": 0.5,
          "size": 5
         },
         "mode": "markers+text",
         "name": "17_question_explain_dont explain",
         "text": [
          "",
          "",
          "",
          "",
          "",
          "",
          "",
          "",
          "",
          "",
          "",
          "",
          "",
          "",
          "",
          "",
          "",
          "",
          "",
          "",
          "",
          "",
          "",
          "",
          "",
          "",
          "",
          "",
          "",
          "",
          "",
          "",
          "17_question_explain_dont explain"
         ],
         "textfont": {
          "size": 12
         },
         "type": "scattergl",
         "x": [
          5.397532939910889,
          6.132606506347656,
          5.569029331207275,
          5.790976047515869,
          5.501134395599365,
          5.691034317016602,
          5.512727737426758,
          5.5043864250183105,
          5.497339248657227,
          5.4914469718933105,
          5.533677577972412,
          5.103347301483154,
          5.682361602783203,
          5.499501705169678,
          5.759016990661621,
          5.37490701675415,
          5.259119033813477,
          5.840760231018066,
          5.469686508178711,
          5.686156272888184,
          5.231433391571045,
          5.534173488616943,
          5.713224411010742,
          5.710537910461426,
          5.4949727058410645,
          5.683321952819824,
          5.67989444732666,
          5.5439534187316895,
          5.424783706665039,
          5.794720649719238,
          5.4822163581848145,
          5.5411834716796875,
          5.566598892211914
         ],
         "y": [
          4.162580490112305,
          4.093685626983643,
          4.041782855987549,
          3.8445701599121094,
          4.043091297149658,
          3.4036178588867188,
          4.003271579742432,
          4.163530349731445,
          4.082585334777832,
          3.587355136871338,
          3.9994451999664307,
          3.6202921867370605,
          3.4110476970672607,
          4.012928485870361,
          4.196130752563477,
          4.177917957305908,
          4.153498649597168,
          3.7935028076171875,
          4.070282936096191,
          3.4149487018585205,
          3.5640082359313965,
          4.016259670257568,
          3.87494158744812,
          3.3970675468444824,
          4.029711723327637,
          3.406127452850342,
          3.4153754711151123,
          3.9975523948669434,
          3.749141216278076,
          3.8701744079589844,
          3.8515992164611816,
          3.6098744869232178,
          3.8455593585968018
         ]
        },
        {
         "hoverinfo": "text",
         "hovertext": [
          "hearing voice seeing outside always disturbing",
          "even though see shape right voice tell pay attention",
          "quite enjoyable opposed sort running water someone whispering kind weirdly ear",
          "also guiding another voice felt real",
          "bird sound forest reminding bird sound home way enhancing experience",
          "part setting real wind",
          "without voice",
          "talking gave instruction",
          "visually sound nature voice nice opinion nice",
          "motivational speech",
          "focusing voice heard",
          "actually little bit guiding talking actually quite liked",
          "relaxing voice",
          "forget instruction need follow ear",
          "usually would sound rainforest sound water sound someone sort whispering ear",
          "voice kind lower pitch calming",
          "element also nature tree sound river water something",
          "beautiful voice visual",
          "sometimes bird one side repetitive fly real one part forest moment",
          "wind tree leaf sound tree leaf",
          "concentrating bird setting",
          "beginning looked around afterwards tried follow voice exactly",
          "way focusing sound river bird",
          "started listening bird surrounding wind little bit",
          "instruction voice",
          "guiding wasnt jarring make sense",
          "voice asked pay attention specific thing color shape change",
          "clear follow instruction didnt feel connection tried share",
          "experience listen bird stuff everything background noise",
          "super quiet able follow everything good",
          "program say",
          null
         ],
         "marker": {
          "opacity": 0.5,
          "size": 5
         },
         "mode": "markers+text",
         "name": "18_voice_sound_bird",
         "text": [
          "",
          "",
          "",
          "",
          "",
          "",
          "",
          "",
          "",
          "",
          "",
          "",
          "",
          "",
          "",
          "",
          "",
          "",
          "",
          "",
          "",
          "",
          "",
          "",
          "",
          "",
          "",
          "",
          "",
          "",
          "",
          "18_voice_sound_bird"
         ],
         "textfont": {
          "size": 12
         },
         "type": "scattergl",
         "x": [
          7.758984565734863,
          7.887574672698975,
          7.656186103820801,
          7.799619197845459,
          7.70281457901001,
          7.656233310699463,
          7.7514472007751465,
          7.843417167663574,
          7.816910266876221,
          7.740333557128906,
          7.830808162689209,
          7.828996181488037,
          7.663291931152344,
          7.8245344161987305,
          7.7009100914001465,
          7.677731990814209,
          7.7072553634643555,
          7.799818515777588,
          7.582718372344971,
          7.674537658691406,
          7.701677322387695,
          7.8140740394592285,
          7.705856800079346,
          7.691992282867432,
          7.734856128692627,
          7.857646942138672,
          7.897435188293457,
          7.790681838989258,
          7.719433307647705,
          7.721011638641357,
          7.818831920623779,
          7.753471851348877
         ],
         "y": [
          9.443714141845703,
          9.097061157226562,
          9.505758285522461,
          9.069635391235352,
          9.603596687316895,
          9.678592681884766,
          9.11463737487793,
          8.855620384216309,
          9.23378849029541,
          9.09380054473877,
          9.146065711975098,
          9.037946701049805,
          9.15205192565918,
          8.826948165893555,
          9.544182777404785,
          9.143560409545898,
          9.584634780883789,
          9.150837898254395,
          9.92064094543457,
          9.630800247192383,
          9.616644859313965,
          8.851094245910645,
          9.600835800170898,
          9.615571022033691,
          9.027169227600098,
          9.000011444091797,
          9.184199333190918,
          8.701897621154785,
          9.576292037963867,
          8.707157135009766,
          8.841517448425293,
          9.24375057220459
         ]
        },
        {
         "hoverinfo": "text",
         "hovertext": [
          "maybe im use experience",
          "wasnt change experience",
          "prefer close experience",
          "one experience taking lsd experience",
          "thats characteristic life experience",
          "experience actually see outisde think kinda strange interesting experience",
          "never experience",
          "say experience weird ups down",
          "wondering whether people experience",
          "pretty much experience first one",
          "definitely stronger anyway previous experience",
          "experience",
          "quite good experience",
          "experience without",
          "take lsd castaneda wrote six book say",
          "experience",
          "interesting almost empowering see state didnt change anything else experience",
          "change something experience",
          "different experience sure dont caused much flexible",
          "would say last experience would say actually",
          "experience interesting",
          "experienced last year",
          "felt much confident one much slowed able trusted also practice able openarmed experience stuff",
          "pretty different experience",
          "also end first one good experience go world",
          "think experience achieved want",
          "im sure tell everything experience",
          "sort little bit foreign concept trying elicit thing experience spot",
          "took time special experientially",
          "experience",
          null
         ],
         "marker": {
          "opacity": 0.5,
          "size": 5
         },
         "mode": "markers+text",
         "name": "19_experience_experience experience_different experience",
         "text": [
          "",
          "",
          "",
          "",
          "",
          "",
          "",
          "",
          "",
          "",
          "",
          "",
          "",
          "",
          "",
          "",
          "",
          "",
          "",
          "",
          "",
          "",
          "",
          "",
          "",
          "",
          "",
          "",
          "",
          "",
          "19_experience_experience experience_different experience"
         ],
         "textfont": {
          "size": 12
         },
         "type": "scattergl",
         "x": [
          7.417854309082031,
          7.554900169372559,
          7.458606719970703,
          7.504037380218506,
          7.404209136962891,
          7.658982753753662,
          7.453171253204346,
          7.538880825042725,
          7.505360126495361,
          7.463473796844482,
          10.047272682189941,
          7.455016136169434,
          7.46353816986084,
          7.450376033782959,
          7.521601676940918,
          7.475183963775635,
          7.732061386108398,
          7.505284786224365,
          7.549102783203125,
          7.466352462768555,
          7.494019508361816,
          7.466425895690918,
          7.42931604385376,
          7.509383201599121,
          7.483074188232422,
          7.446267604827881,
          7.5692033767700195,
          7.48927640914917,
          7.387327194213867,
          7.443732738494873,
          7.5781097412109375
         ],
         "y": [
          6.448185443878174,
          6.35589599609375,
          6.5190839767456055,
          6.590914249420166,
          6.426019668579102,
          6.597999572753906,
          6.5035223960876465,
          6.538372993469238,
          6.547309398651123,
          6.5152201652526855,
          5.154132843017578,
          6.497643947601318,
          6.514010429382324,
          6.522434711456299,
          6.7186503410339355,
          6.479127407073975,
          6.618458271026611,
          6.399524688720703,
          6.363314628601074,
          6.474949359893799,
          6.543705463409424,
          6.505508899688721,
          6.460878849029541,
          6.331280708312988,
          6.617590427398682,
          6.500962734222412,
          6.399806976318359,
          6.5686211585998535,
          6.5435566902160645,
          6.476748943328857,
          6.457780838012695
         ]
        },
        {
         "hoverinfo": "text",
         "hovertext": [
          "dont called",
          "dont",
          "nothing else say dont",
          "dont",
          "dont",
          "dont",
          "dont",
          "dont",
          "dont",
          "click",
          "dont anything",
          "dont answer question",
          "dont",
          "dont",
          "dont",
          "oh dont want dont want",
          "dont strange",
          "dont dont exactly",
          "dont",
          "dont",
          "dont",
          "dont",
          "two buddy dont",
          "dont actually",
          "dont",
          "dont",
          "dont",
          "dont",
          "maybe dont",
          "doesnt",
          null
         ],
         "marker": {
          "opacity": 0.5,
          "size": 5
         },
         "mode": "markers+text",
         "name": "20_dont dont_dont_want dont",
         "text": [
          "",
          "",
          "",
          "",
          "",
          "",
          "",
          "",
          "",
          "",
          "",
          "",
          "",
          "",
          "",
          "",
          "",
          "",
          "",
          "",
          "",
          "",
          "",
          "",
          "",
          "",
          "",
          "",
          "",
          "",
          "20_dont dont_dont_want dont"
         ],
         "textfont": {
          "size": 12
         },
         "type": "scattergl",
         "x": [
          1.7028456926345825,
          1.700783371925354,
          1.8807376623153687,
          1.7031028270721436,
          1.7050268650054932,
          1.7052154541015625,
          1.70399808883667,
          1.7068036794662476,
          1.689217448234558,
          1.8166836500167847,
          1.887223720550537,
          1.9100680351257324,
          1.6896629333496094,
          1.700264573097229,
          1.7024928331375122,
          9.089456558227539,
          8.369288444519043,
          1.7442348003387451,
          1.6997392177581787,
          1.696515440940857,
          1.7059987783432007,
          1.6934657096862793,
          1.7684006690979004,
          1.7012605667114258,
          1.6865895986557007,
          1.7036762237548828,
          1.7001436948776245,
          1.7011593580245972,
          1.7133331298828125,
          1.6995844841003418,
          2.19589900970459
         ],
         "y": [
          0.7374158501625061,
          0.735599160194397,
          0.9001362323760986,
          0.7377604246139526,
          0.7395806312561035,
          0.7397733330726624,
          0.7385793328285217,
          0.7415573000907898,
          0.7239252328872681,
          0.8572234511375427,
          0.9121035933494568,
          0.9411187171936035,
          0.7244951128959656,
          0.7349071502685547,
          0.7371940016746521,
          3.747947931289673,
          2.675870656967163,
          0.7735396027565002,
          0.7343173027038574,
          0.7310452461242676,
          0.7406579852104187,
          0.7282689809799194,
          0.8068389296531677,
          0.7358575463294983,
          0.7215998768806458,
          0.7384374737739563,
          0.7348777055740356,
          0.7359320521354675,
          0.7489065527915955,
          0.7344335913658142,
          0.9263301491737366
         ]
        },
        {
         "hoverinfo": "text",
         "hovertext": [
          "anyway thing question feel felt three body",
          "never felt three body",
          "question three body",
          "there third wave",
          "first second two body together",
          "thing didnt understand perhaps understood end question part three body",
          "actually third body something leaning",
          "felt third thing",
          "hard explain felt third entity thing second task",
          "actually first two time dont understand three body think see one body feel happen time",
          "wondering would third body",
          "third one supposed somehow inner",
          "felt third kind two",
          "felt two body third entity could two",
          "feeling body touch body see body feel see im feeling see body feel body sometimes another body three",
          "felt two could see one would three",
          "maybe threebody",
          "first time asked feel three body",
          "question always feel three body never ask feel two body think always three body mean feel three body",
          "question third body feeling body",
          "dont control question last one feel three body",
          "three body three",
          "always feel two maybe three",
          "right beginning think felt attached easier kind get threebody experience",
          "dont fair say body third presence",
          "answered three wasnt sure way less competent task",
          "end felt connected vision felt body body kind looking whether third entity isnt body dont",
          "feeling three body havent felt",
          "expecting question feel two body never appear",
          null
         ],
         "marker": {
          "opacity": 0.5,
          "size": 5
         },
         "mode": "markers+text",
         "name": "21_three_three body_third",
         "text": [
          "",
          "",
          "",
          "",
          "",
          "",
          "",
          "",
          "",
          "",
          "",
          "",
          "",
          "",
          "",
          "",
          "",
          "",
          "",
          "",
          "",
          "",
          "",
          "",
          "",
          "",
          "",
          "",
          "",
          "21_three_three body_third"
         ],
         "textfont": {
          "size": 12
         },
         "type": "scattergl",
         "x": [
          11.255313873291016,
          11.268239974975586,
          11.086030960083008,
          11.228898048400879,
          11.163726806640625,
          11.101839065551758,
          11.24210262298584,
          11.226078033447266,
          11.197355270385742,
          11.208233833312988,
          11.23453140258789,
          11.227959632873535,
          11.219172477722168,
          11.234033584594727,
          11.241971015930176,
          11.23086166381836,
          11.268052101135254,
          11.258986473083496,
          11.27670669555664,
          11.235153198242188,
          11.23752498626709,
          11.243573188781738,
          11.272542953491211,
          11.158879280090332,
          11.244656562805176,
          10.552637100219727,
          11.093620300292969,
          11.267770767211914,
          11.226540565490723,
          11.196654319763184
         ],
         "y": [
          5.484161376953125,
          5.461067199707031,
          5.708619594573975,
          5.432415962219238,
          5.718072414398193,
          5.69600248336792,
          5.500702857971191,
          5.431255340576172,
          5.452421188354492,
          5.553438186645508,
          5.46895694732666,
          5.43593692779541,
          5.4261274337768555,
          5.465678691864014,
          5.488320827484131,
          5.433408737182617,
          5.458612442016602,
          5.472508430480957,
          5.48354959487915,
          5.511198997497559,
          5.449759483337402,
          5.484601974487305,
          5.462060451507568,
          5.54892110824585,
          5.471923351287842,
          5.395603656768799,
          5.594908237457275,
          5.455824851989746,
          5.557770252227783,
          5.500132083892822
         ]
        },
        {
         "hoverinfo": "text",
         "hovertext": [
          "feel im back",
          "come body noise come come back",
          "said want dont want come back",
          "feel go come back",
          "went back feeling heavy",
          "think always constant let self go come back",
          "apparently said come back gone two day",
          "dont come back youre",
          "actually go back",
          "especially come back strange",
          "didnt think left cool",
          "come back",
          "got come back",
          "never look back",
          "good come back see mental take",
          "exactly may happy",
          "im going back cushion",
          "come crescendo",
          "im ready go back",
          "realize youre anymore go back kind",
          "say repeat may happy longer life",
          "cool end said voice said let go thought said come back body felt left thought",
          "come",
          "cool comeback",
          "controlled time kind realize feeling youre going back youre back youre heavy",
          "come earth",
          "come back less happy",
          "stop thinking going back say",
          "almost didnt want come back body",
          null
         ],
         "marker": {
          "opacity": 0.5,
          "size": 5
         },
         "mode": "markers+text",
         "name": "22_come_back_come back",
         "text": [
          "",
          "",
          "",
          "",
          "",
          "",
          "",
          "",
          "",
          "",
          "",
          "",
          "",
          "",
          "",
          "",
          "",
          "",
          "",
          "",
          "",
          "",
          "",
          "",
          "",
          "",
          "",
          "",
          "",
          "22_come_back_come back"
         ],
         "textfont": {
          "size": 12
         },
         "type": "scattergl",
         "x": [
          9.458433151245117,
          9.359115600585938,
          9.274284362792969,
          9.289460182189941,
          9.743539810180664,
          9.29532241821289,
          9.254873275756836,
          9.254532814025879,
          9.256782531738281,
          9.23214340209961,
          8.813654899597168,
          9.252832412719727,
          9.243300437927246,
          9.254472732543945,
          9.24828815460205,
          9.080039978027344,
          9.578511238098145,
          9.244994163513184,
          9.35314655303955,
          9.260610580444336,
          9.015195846557617,
          9.27700424194336,
          9.216766357421875,
          9.251592636108398,
          9.439103126525879,
          9.276132583618164,
          9.207846641540527,
          9.243602752685547,
          9.682328224182129,
          9.288204193115234
         ],
         "y": [
          4.573625087738037,
          4.489134311676025,
          4.191096305847168,
          4.369080543518066,
          4.7296552658081055,
          4.415996074676514,
          4.204347610473633,
          4.209229946136475,
          4.221309661865234,
          4.141749858856201,
          4.724523544311523,
          4.2047438621521,
          4.180872440338135,
          4.246041297912598,
          4.216269016265869,
          4.4883928298950195,
          4.655937671661377,
          4.189876079559326,
          4.302699565887451,
          4.2943620681762695,
          4.519215106964111,
          4.540003776550293,
          4.1739277839660645,
          4.212543487548828,
          4.5492682456970215,
          4.174789905548096,
          4.3881449699401855,
          4.226874351501465,
          4.511223793029785,
          4.356721878051758
         ]
        },
        {
         "hoverinfo": "text",
         "hovertext": [
          "saw didnt technology",
          "saw bit different",
          "saw guy whole thing",
          "rest saw",
          "saw",
          "saw back also different quality body puzzle life",
          "saw body",
          "saw rock wont touch",
          "thought always exist separated separated saw body realised actually body",
          "thats saw",
          "thats saw",
          "felt cool saw body afar nothing underneath",
          "feel see saw lady come form sponge maybe one",
          "kind sense even though second task see front kind dark everywhere sense everything getting darker darker almost longer dark room concept",
          "mean saw didnt feel weird different",
          "first strange saw body",
          "saw behind girl",
          "second one expecting maybe see something different kinda bit disapointing saw place",
          "body saw sometimes bit dark",
          "saw",
          "ive seen experienced image saw also moving faster",
          "went indonesia last year dont made think jungle saw",
          "saw",
          "back much saw dont voice telling pay attention part",
          "saw im going",
          "saw hit saw swicthing side convice would part",
          "struck bit outside setting forest sun bit light impression body also light inside",
          "think first thing want say surprising saw body",
          null
         ],
         "marker": {
          "opacity": 0.5,
          "size": 5
         },
         "mode": "markers+text",
         "name": "23_saw_saw saw_saw body",
         "text": [
          "",
          "",
          "",
          "",
          "",
          "",
          "",
          "",
          "",
          "",
          "",
          "",
          "",
          "",
          "",
          "",
          "",
          "",
          "",
          "",
          "",
          "",
          "",
          "",
          "",
          "",
          "",
          "",
          "23_saw_saw saw_saw body"
         ],
         "textfont": {
          "size": 12
         },
         "type": "scattergl",
         "x": [
          9.368465423583984,
          9.399429321289062,
          9.423293113708496,
          9.368898391723633,
          9.386310577392578,
          9.546056747436523,
          9.521108627319336,
          9.544503211975098,
          9.57348918914795,
          9.383334159851074,
          9.381518363952637,
          9.570234298706055,
          9.30188274383545,
          9.876036643981934,
          9.459228515625,
          9.536039352416992,
          9.511239051818848,
          9.437535285949707,
          9.804628372192383,
          9.378315925598145,
          9.967010498046875,
          9.314286231994629,
          9.380840301513672,
          9.265624046325684,
          9.364972114562988,
          9.365753173828125,
          9.778903007507324,
          9.444162368774414,
          9.487610816955566
         ],
         "y": [
          7.597387790679932,
          7.153087139129639,
          7.505834102630615,
          7.566877365112305,
          7.561191558837891,
          7.379265785217285,
          7.465664863586426,
          7.658156394958496,
          7.248185634613037,
          7.5721001625061035,
          7.559178352355957,
          7.440419673919678,
          7.52524995803833,
          7.855554580688477,
          7.258575439453125,
          7.388383865356445,
          7.4639668464660645,
          7.2894673347473145,
          7.674475193023682,
          7.573178291320801,
          7.708402633666992,
          7.562377452850342,
          7.5609660148620605,
          7.654674530029297,
          7.564572811126709,
          7.583592891693115,
          7.690742015838623,
          7.314108848571777,
          7.513415336608887
         ]
        },
        {
         "hoverinfo": "text",
         "hovertext": [
          "thats got away",
          "thats important thing consider",
          "thats conclusion",
          "nah thats",
          "thats",
          "thats",
          "thats",
          "thats funny",
          "thats im",
          "thats",
          "oh im challet person",
          "didnt well thats true",
          "thats told",
          "im nah thats",
          "thats sit",
          "thats need actually work",
          "thats",
          "thats true",
          "thats lifestyle",
          "thats general perspective",
          "thats question",
          "oh thats look bad",
          "thats",
          "thats state achieve",
          "thats one thing",
          "thats",
          "thats thats characterize nutshell",
          null
         ],
         "marker": {
          "opacity": 0.5,
          "size": 5
         },
         "mode": "markers+text",
         "name": "24_thats_thats thats_nah",
         "text": [
          "",
          "",
          "",
          "",
          "",
          "",
          "",
          "",
          "",
          "",
          "",
          "",
          "",
          "",
          "",
          "",
          "",
          "",
          "",
          "",
          "",
          "",
          "",
          "",
          "",
          "",
          "",
          "24_thats_thats thats_nah"
         ],
         "textfont": {
          "size": 12
         },
         "type": "scattergl",
         "x": [
          5.682504177093506,
          5.915655612945557,
          5.705045223236084,
          5.6726393699646,
          5.686824798583984,
          5.6835103034973145,
          5.704938888549805,
          5.951930522918701,
          5.687777996063232,
          5.661438465118408,
          5.611237049102783,
          5.807767868041992,
          5.719012260437012,
          5.661590099334717,
          9.385457992553711,
          5.761558532714844,
          5.701752662658691,
          5.687468528747559,
          7.219661712646484,
          5.863600254058838,
          5.699878692626953,
          9.568870544433594,
          5.6956071853637695,
          5.647544860839844,
          5.839852333068848,
          5.70745849609375,
          5.788976669311523,
          6.063687324523926
         ],
         "y": [
          1.5031461715698242,
          1.6363860368728638,
          1.5391645431518555,
          1.5150525569915771,
          1.5058406591415405,
          1.4957212209701538,
          1.5123001337051392,
          1.3144557476043701,
          1.5228769779205322,
          1.479254961013794,
          1.6007555723190308,
          1.683957815170288,
          1.544574499130249,
          1.5354645252227783,
          7.548703193664551,
          1.609718680381775,
          1.5153793096542358,
          1.5484341382980347,
          5.93255090713501,
          1.8932403326034546,
          1.5200320482254028,
          7.004279136657715,
          1.5188782215118408,
          1.4829275608062744,
          1.6322475671768188,
          1.4997410774230957,
          1.6716158390045166,
          2.139507532119751
         ]
        },
        {
         "hoverinfo": "text",
         "hovertext": [
          "didnt even notice",
          "didnt didnt looked didnt pay attention thing",
          "dont need anything",
          "didnt notice much",
          "didnt say much",
          "im looking thing",
          "damn didnt see",
          "dont specifically looking",
          "maybe didnt pay attention",
          "noticed",
          "dont see anything",
          "didnt see happened",
          "didnt find",
          "never asked first time might noticed",
          "pretty noticeable",
          "tried see link didnt see anything",
          "didnt see",
          "didnt notice first time",
          "didnt help",
          "first tried look around",
          "didnt notice",
          "didnt pay attention",
          "didnt check didnt notice",
          "actually noticed there",
          "sure didnt see",
          "didnt recognize work",
          "dont see",
          null
         ],
         "marker": {
          "opacity": 0.5,
          "size": 5
         },
         "mode": "markers+text",
         "name": "25_didnt_didnt see_notice",
         "text": [
          "",
          "",
          "",
          "",
          "",
          "",
          "",
          "",
          "",
          "",
          "",
          "",
          "",
          "",
          "",
          "",
          "",
          "",
          "",
          "",
          "",
          "",
          "",
          "",
          "",
          "",
          "",
          "25_didnt_didnt see_notice"
         ],
         "textfont": {
          "size": 12
         },
         "type": "scattergl",
         "x": [
          7.1847405433654785,
          8.522028923034668,
          6.618841171264648,
          7.161673069000244,
          6.969203472137451,
          6.598703861236572,
          7.139219760894775,
          6.647510528564453,
          7.2133355140686035,
          7.177229404449463,
          7.00778865814209,
          7.1394572257995605,
          7.105428218841553,
          7.344982147216797,
          7.14638614654541,
          7.049149990081787,
          7.127827167510986,
          7.243486404418945,
          7.112219333648682,
          7.003721237182617,
          7.206288814544678,
          7.176656246185303,
          7.1889729499816895,
          7.172770023345947,
          7.150001049041748,
          7.1092658042907715,
          6.993281841278076,
          7.130006790161133
         ],
         "y": [
          3.5447800159454346,
          9.521759986877441,
          3.7018425464630127,
          3.557100534439087,
          3.684298038482666,
          3.7594332695007324,
          3.537632465362549,
          3.7074079513549805,
          3.605994701385498,
          3.5447728633880615,
          3.5001096725463867,
          3.5451905727386475,
          3.5410585403442383,
          3.539186954498291,
          3.6201608180999756,
          3.50634765625,
          3.5238544940948486,
          3.541440725326538,
          3.72503924369812,
          3.477935791015625,
          3.5137829780578613,
          3.5926380157470703,
          3.518202304840088,
          3.5351366996765137,
          3.5208592414855957,
          3.61383318901062,
          3.5014023780822754,
          3.7955996990203857
         ]
        },
        {
         "hoverinfo": "text",
         "hovertext": [
          "",
          "",
          "",
          "",
          "",
          "",
          "",
          "",
          "",
          "",
          "",
          "",
          "",
          "",
          "",
          "",
          "",
          "",
          "",
          "",
          "",
          "",
          "",
          "",
          "",
          null
         ],
         "marker": {
          "opacity": 0.5,
          "size": 5
         },
         "mode": "markers+text",
         "name": "26___",
         "text": [
          "",
          "",
          "",
          "",
          "",
          "",
          "",
          "",
          "",
          "",
          "",
          "",
          "",
          "",
          "",
          "",
          "",
          "",
          "",
          "",
          "",
          "",
          "",
          "",
          "",
          "26___"
         ],
         "textfont": {
          "size": 12
         },
         "type": "scattergl",
         "x": [
          -9.14768123626709,
          -9.059486389160156,
          -8.863783836364746,
          -9.04137134552002,
          -9.194531440734863,
          -8.886157035827637,
          -8.984790802001953,
          -8.761219024658203,
          -9.175052642822266,
          -9.002615928649902,
          -8.920489311218262,
          -9.191290855407715,
          -9.074307441711426,
          -9.082842826843262,
          -9.02657699584961,
          -9.074917793273926,
          -9.027140617370605,
          -9.07430362701416,
          -9.13028335571289,
          -8.975605964660645,
          -9.03697681427002,
          -9.045896530151367,
          -9.082719802856445,
          -9.019335746765137,
          -9.089982032775879,
          -9.038775444030762
         ],
         "y": [
          -6.27725887298584,
          -6.33209753036499,
          -6.303003311157227,
          -6.295799732208252,
          -6.32257080078125,
          -6.206943988800049,
          -6.105869293212891,
          -6.143213272094727,
          -6.173655033111572,
          -6.03808069229126,
          -6.188144207000732,
          -6.1961822509765625,
          -6.198943138122559,
          -6.190767288208008,
          -6.315011024475098,
          -6.101314067840576,
          -6.0341877937316895,
          -6.097811698913574,
          -6.2976861000061035,
          -6.088164329528809,
          -6.145796298980713,
          -6.055894374847412,
          -6.204216480255127,
          -6.000153064727783,
          -6.04286527633667,
          -6.174225330352783
         ]
        },
        {
         "hoverinfo": "text",
         "hovertext": [
          "mean slightly",
          "mean outline",
          "mean nice",
          "mean first time question make sense",
          "mean",
          "mean kind weird",
          "mean dont",
          "mean phrase mean",
          "properly mean",
          "mean thats personal",
          "mean",
          "people mean",
          "mean one",
          "mean",
          "mean general person sitting getting",
          "understand mean",
          "mean",
          "mean great also short nice focus",
          "mean seems real looking",
          "mean thats first time",
          "understood game mean knew pretty much beginning real real well done",
          "mean dont noticed first",
          "variance rather",
          "understand mean",
          null
         ],
         "marker": {
          "opacity": 0.5,
          "size": 5
         },
         "mode": "markers+text",
         "name": "27_mean_mean mean_mean dont",
         "text": [
          "",
          "",
          "",
          "",
          "",
          "",
          "",
          "",
          "",
          "",
          "",
          "",
          "",
          "",
          "",
          "",
          "",
          "",
          "",
          "",
          "",
          "",
          "",
          "",
          "27_mean_mean mean_mean dont"
         ],
         "textfont": {
          "size": 12
         },
         "type": "scattergl",
         "x": [
          9.485769271850586,
          9.493958473205566,
          9.477750778198242,
          9.466678619384766,
          9.463675498962402,
          9.024877548217773,
          9.44716739654541,
          9.465812683105469,
          9.471256256103516,
          9.464632987976074,
          9.478402137756348,
          9.466354370117188,
          9.428288459777832,
          9.478472709655762,
          9.416522026062012,
          9.497313499450684,
          9.476346969604492,
          9.484212875366211,
          9.502999305725098,
          9.406901359558105,
          9.526017189025879,
          9.457565307617188,
          9.475701332092285,
          9.492886543273926,
          9.452065467834473
         ],
         "y": [
          2.9085912704467773,
          2.882303237915039,
          2.888943672180176,
          2.9056687355041504,
          2.9048209190368652,
          2.7749783992767334,
          2.884709596633911,
          2.8544626235961914,
          2.887176275253296,
          2.89486026763916,
          2.895663261413574,
          2.888122320175171,
          2.9396276473999023,
          2.8955938816070557,
          2.9542155265808105,
          2.897693157196045,
          2.894740104675293,
          2.88037371635437,
          2.899982452392578,
          2.9598584175109863,
          2.9119606018066406,
          2.896008253097534,
          2.8868165016174316,
          2.8913121223449707,
          2.8949368000030518
         ]
        },
        {
         "hoverinfo": "text",
         "hovertext": [
          "sport swimming",
          "noticed notice breath sometimes",
          "noticed noticed entire thing even breathing sync",
          "understand pattern put little bit school seeing breathing",
          "noticed noticed one time afterwards thought disappeared",
          "initially guess initially focused breathing",
          "guess one moment well one think person asked try control breathing sort let go",
          "oh breath think looked brighter every time breathed",
          "first time saw thing thinking floating calmed seeing breathing calmed noticed became darker exhale little bit light brighter inhale",
          "sometimes think im sure maybe linked breath",
          "think went yellow took every time took deep breath",
          "could see breathing",
          "noticed change breathing",
          "wondering linked breath",
          "think breathe something else forget breathing",
          "interesting made didnt want disappear breathe much going completely dissolve",
          "think realized especially light part think remember think boy sort asked release control try control breathing let happen",
          "boy told pay attention shoulder breathe move even back flow",
          "noticed change aside breathing even body",
          "oxygen every time breathe seemed kind fade",
          "started trusting actual breathing instead saw person",
          "breathe swim",
          "didnt notice big change noticed noticed change body gradual relaxation body",
          null
         ],
         "marker": {
          "opacity": 0.5,
          "size": 5
         },
         "mode": "markers+text",
         "name": "28_breathing_noticed_breath",
         "text": [
          "",
          "",
          "",
          "",
          "",
          "",
          "",
          "",
          "",
          "",
          "",
          "",
          "",
          "",
          "",
          "",
          "",
          "",
          "",
          "",
          "",
          "",
          "",
          "28_breathing_noticed_breath"
         ],
         "textfont": {
          "size": 12
         },
         "type": "scattergl",
         "x": [
          9.733012199401855,
          10.376336097717285,
          10.473316192626953,
          10.237256050109863,
          10.503755569458008,
          10.215180397033691,
          10.19710922241211,
          10.300082206726074,
          10.320281028747559,
          10.21967601776123,
          10.392009735107422,
          10.326939582824707,
          10.367578506469727,
          10.246685981750488,
          10.142061233520508,
          10.201959609985352,
          10.195508003234863,
          10.318329811096191,
          10.390284538269043,
          10.246989250183105,
          10.195828437805176,
          10.22396469116211,
          10.42947769165039,
          10.271897315979004
         ],
         "y": [
          7.90158224105835,
          8.856817245483398,
          8.757577896118164,
          9.02907943725586,
          8.73343276977539,
          9.049077987670898,
          9.063498497009277,
          8.909085273742676,
          8.913654327392578,
          9.037409782409668,
          8.866374969482422,
          8.859696388244629,
          8.86474609375,
          8.98692798614502,
          9.102551460266113,
          8.898355484008789,
          9.092119216918945,
          8.915117263793945,
          8.802081108093262,
          8.944531440734863,
          9.05253791809082,
          8.968311309814453,
          8.75283145904541,
          8.885104179382324
         ]
        },
        {
         "hoverinfo": "text",
         "hovertext": [
          "mean kept focusing changing color grass",
          "color came back",
          "color wearing trouser",
          "moving color changing lighter darker",
          "mean didnt realize color changing",
          "see button white white something end",
          "color clothes gesture",
          "mean hand different color",
          "saw difference color head",
          "question close eye see different color",
          "well color changing made think fact im part experiment im something im sending signal",
          "didnt think white gray maybe imagination im sure",
          "mean could see color tshirt hair look behind",
          "see tshirt one maybe different color",
          "looked similar coat color clothes",
          "found yellow orange came back maybe sometimes saw yellow im sure sure",
          "upper part kind red",
          "noticed higher stylish changed",
          "saw yellow color blue color",
          "think noticed changed color",
          "green sometimes brown",
          "point saw become less color point saw sort bright",
          null
         ],
         "marker": {
          "opacity": 0.5,
          "size": 5
         },
         "mode": "markers+text",
         "name": "29_color_changing_color changing",
         "text": [
          "",
          "",
          "",
          "",
          "",
          "",
          "",
          "",
          "",
          "",
          "",
          "",
          "",
          "",
          "",
          "",
          "",
          "",
          "",
          "",
          "",
          "",
          "29_color_changing_color changing"
         ],
         "textfont": {
          "size": 12
         },
         "type": "scattergl",
         "x": [
          10.797224998474121,
          10.751972198486328,
          10.861898422241211,
          10.740100860595703,
          10.755900382995605,
          10.726507186889648,
          10.864718437194824,
          10.823371887207031,
          10.73468017578125,
          10.724867820739746,
          10.702164649963379,
          10.797712326049805,
          10.832569122314453,
          10.858667373657227,
          10.884162902832031,
          10.719010353088379,
          10.837705612182617,
          10.778801918029785,
          10.721125602722168,
          10.769903182983398,
          10.800682067871094,
          10.734844207763672,
          10.78266429901123
         ],
         "y": [
          8.598199844360352,
          8.661445617675781,
          8.561423301696777,
          8.570079803466797,
          8.645764350891113,
          8.636943817138672,
          8.539194107055664,
          8.594839096069336,
          8.653553009033203,
          8.669001579284668,
          8.580406188964844,
          8.6079683303833,
          8.578269004821777,
          8.559364318847656,
          8.521103858947754,
          8.697089195251465,
          8.53931713104248,
          8.632692337036133,
          8.695459365844727,
          8.63664722442627,
          8.662603378295898,
          8.651455879211426,
          8.613310813903809
         ]
        },
        {
         "hoverinfo": "text",
         "hovertext": [
          "think fell asleep",
          "maybe good dont afraid falling asleep always worrying dont fall asleep well",
          "wanted sleep little bit",
          "im awake im conscious im awake seeing avatar feel feeling im sending",
          "started look tree observe move started feel sleeping",
          "edge falling asleep",
          "tiredness",
          "afraid fall sleep",
          "sometimes felt bit sleep",
          "maybe realized missed couple word think relaxed eye closed starting feel little bit sleepy",
          "closed eye think start think question saying feeling maybe point time youre almost falling asleep",
          "didnt sleep well anything",
          "could always say maybe sleepiness something didnt notice well",
          "little sleepy usual",
          "dont maybe voice tone voice relaxing hard relaxing relaxing want fall asleep slept well yesterday",
          "dont want feel asleep",
          "feel sleepy",
          "sleep easily",
          "wanted sleep point",
          null
         ],
         "marker": {
          "opacity": 0.5,
          "size": 5
         },
         "mode": "markers+text",
         "name": "30_asleep_sleep_falling asleep",
         "text": [
          "",
          "",
          "",
          "",
          "",
          "",
          "",
          "",
          "",
          "",
          "",
          "",
          "",
          "",
          "",
          "",
          "",
          "",
          "",
          "30_asleep_sleep_falling asleep"
         ],
         "textfont": {
          "size": 12
         },
         "type": "scattergl",
         "x": [
          6.535815238952637,
          6.5172014236450195,
          6.2732086181640625,
          6.534811496734619,
          6.657166957855225,
          6.525179386138916,
          6.568259239196777,
          6.520060062408447,
          6.534114360809326,
          6.56718111038208,
          6.611572265625,
          6.511726379394531,
          6.573286533355713,
          6.493953704833984,
          6.591384410858154,
          6.506533622741699,
          6.548398494720459,
          6.51538610458374,
          6.3305816650390625,
          6.521885395050049
         ],
         "y": [
          9.08431625366211,
          9.08458137512207,
          8.966130256652832,
          9.071388244628906,
          9.163018226623535,
          9.079580307006836,
          8.962053298950195,
          9.068131446838379,
          9.044190406799316,
          9.047133445739746,
          9.114230155944824,
          9.070230484008789,
          9.02470588684082,
          9.004362106323242,
          9.063515663146973,
          9.068852424621582,
          9.048896789550781,
          9.080816268920898,
          9.009014129638672,
          9.055533409118652
         ]
        },
        {
         "hoverinfo": "text",
         "hovertext": [
          "physical felt connected",
          "felt would make sense two right",
          "felt",
          "second part found interesting felt floating still felt could see",
          "felt im looking something felt detached body",
          "felt approximately way",
          "also felt follow say resistance",
          "foot also wind face sensation felt wanted feel wanted fit",
          "felt protective",
          "felt would make sense close",
          "could still feel im sure possible actually enough fact start feel see",
          "felt",
          "good felt couldnt",
          "felt image",
          "felt becoming concrete",
          "felt tendency",
          "brings felt",
          "could see felt",
          "felt got maybe distracted kind looking leg sort shimmering stuff",
          null
         ],
         "marker": {
          "opacity": 0.5,
          "size": 5
         },
         "mode": "markers+text",
         "name": "31_felt_would make_see felt",
         "text": [
          "",
          "",
          "",
          "",
          "",
          "",
          "",
          "",
          "",
          "",
          "",
          "",
          "",
          "",
          "",
          "",
          "",
          "",
          "",
          "31_felt_would make_see felt"
         ],
         "textfont": {
          "size": 12
         },
         "type": "scattergl",
         "x": [
          9.979662895202637,
          10.078644752502441,
          9.936278343200684,
          10.171568870544434,
          10.074365615844727,
          9.889055252075195,
          9.984579086303711,
          10.223316192626953,
          9.96901798248291,
          10.052350044250488,
          10.189165115356445,
          9.979588508605957,
          9.966927528381348,
          9.976517677307129,
          10.011531829833984,
          9.908832550048828,
          9.978517532348633,
          10.060608863830566,
          10.068001747131348,
          10.026238441467285
         ],
         "y": [
          5.561067581176758,
          5.594576835632324,
          5.51624870300293,
          5.867347240447998,
          5.888238430023193,
          5.526704788208008,
          5.637146472930908,
          5.836238384246826,
          5.567665100097656,
          5.581284523010254,
          5.562116622924805,
          5.559052467346191,
          5.528719425201416,
          5.69336462020874,
          5.578212261199951,
          5.602961540222168,
          5.567477226257324,
          5.681451320648193,
          5.857518672943115,
          5.642494201660156
         ]
        },
        {
         "hoverinfo": "text",
         "hovertext": [
          "feel",
          "im gon na feel",
          "feel",
          "feel",
          "ah feel",
          "greater feeling",
          "feel actually",
          "love",
          "feel",
          "feel",
          "wouldnt feel",
          "feel prefer one",
          "feel im floating",
          "feel equally",
          "match feel",
          "happy",
          "oh feel",
          "feel want close",
          "feel free",
          null
         ],
         "marker": {
          "opacity": 0.5,
          "size": 5
         },
         "mode": "markers+text",
         "name": "32_feel feel_feel_ah feel",
         "text": [
          "",
          "",
          "",
          "",
          "",
          "",
          "",
          "",
          "",
          "",
          "",
          "",
          "",
          "",
          "",
          "",
          "",
          "",
          "",
          "32_feel feel_feel_ah feel"
         ],
         "textfont": {
          "size": 12
         },
         "type": "scattergl",
         "x": [
          9.250268936157227,
          9.265225410461426,
          9.247052192687988,
          9.262101173400879,
          9.235487937927246,
          9.282180786132812,
          9.254183769226074,
          9.00649642944336,
          9.270499229431152,
          9.291379928588867,
          9.125974655151367,
          9.244617462158203,
          9.462312698364258,
          9.292901039123535,
          9.892928123474121,
          8.99485969543457,
          9.241925239562988,
          9.385039329528809,
          9.28152084350586,
          9.2782621383667
         ],
         "y": [
          4.812901496887207,
          4.79931116104126,
          4.813162803649902,
          4.824256420135498,
          4.803133010864258,
          4.823846817016602,
          4.803547382354736,
          4.662923812866211,
          4.792501926422119,
          4.865313529968262,
          4.954310894012451,
          4.778845310211182,
          4.871747016906738,
          4.798288345336914,
          4.333150863647461,
          4.594532012939453,
          4.796147346496582,
          5.002877235412598,
          4.810540199279785,
          4.786386013031006
         ]
        },
        {
         "hoverinfo": "text",
         "hovertext": [
          "improved",
          "quite simple",
          "easy",
          "better",
          "dont better worse",
          "much feel easier",
          "easier",
          "easy nice",
          "complicated",
          "easier",
          "easier without seeing",
          "super easy",
          "perhaps phrase hardest part",
          "difficult",
          "hard",
          "better",
          "difficult",
          null
         ],
         "marker": {
          "opacity": 0.5,
          "size": 5
         },
         "mode": "markers+text",
         "name": "33_better_easy_easier",
         "text": [
          "",
          "",
          "",
          "",
          "",
          "",
          "",
          "",
          "",
          "",
          "",
          "",
          "",
          "",
          "",
          "",
          "",
          "33_better_easy_easier"
         ],
         "textfont": {
          "size": 12
         },
         "type": "scattergl",
         "x": [
          6.5388312339782715,
          6.020761489868164,
          6.072188854217529,
          6.523168087005615,
          6.519850730895996,
          6.098799705505371,
          6.103498458862305,
          6.085134983062744,
          5.9951982498168945,
          6.103590488433838,
          6.122779846191406,
          6.085967540740967,
          6.137761116027832,
          6.096898555755615,
          6.089539527893066,
          6.519317150115967,
          6.084543704986572,
          6.188107013702393
         ],
         "y": [
          5.2793660163879395,
          4.8541951179504395,
          4.989659309387207,
          5.236990928649902,
          5.228635787963867,
          5.0550055503845215,
          5.029271602630615,
          4.983728408813477,
          4.749464988708496,
          5.037505626678467,
          5.074404239654541,
          4.990226745605469,
          4.953400611877441,
          4.957365036010742,
          4.961525917053223,
          5.230896472930908,
          4.96163272857666,
          5.033722400665283
         ]
        },
        {
         "hoverinfo": "text",
         "hovertext": [
          "knowledge technical technical production",
          "see say",
          "see",
          "actually small technical detail help help mind actually notice real technical production",
          "see one day",
          "youll see question",
          "see",
          "shocking actually see",
          "see",
          "see technical thing",
          "see",
          "see",
          "see see",
          "trying see",
          "see",
          "see see see",
          "see first",
          null
         ],
         "marker": {
          "opacity": 0.5,
          "size": 5
         },
         "mode": "markers+text",
         "name": "34_see see_technical_see",
         "text": [
          "",
          "",
          "",
          "",
          "",
          "",
          "",
          "",
          "",
          "",
          "",
          "",
          "",
          "",
          "",
          "",
          "",
          "34_see see_technical_see"
         ],
         "textfont": {
          "size": 12
         },
         "type": "scattergl",
         "x": [
          9.223990440368652,
          4.057134628295898,
          4.010654449462891,
          9.23946762084961,
          3.9984476566314697,
          4.007084369659424,
          4.009331226348877,
          4.027180194854736,
          4.009677410125732,
          9.255082130432129,
          4.009962558746338,
          4.008801460266113,
          4.00705099105835,
          4.071500778198242,
          4.009255409240723,
          3.9927196502685547,
          4.033799648284912,
          4.939478874206543
         ],
         "y": [
          7.648481369018555,
          6.247777938842773,
          6.336392879486084,
          7.678902626037598,
          6.336581707000732,
          6.33611536026001,
          6.337611675262451,
          6.339997291564941,
          6.338895320892334,
          7.6610307693481445,
          6.338930130004883,
          6.340963840484619,
          6.34656286239624,
          6.278923511505127,
          6.340023994445801,
          6.354846477508545,
          6.358543872833252,
          6.565916538238525
         ]
        },
        {
         "hoverinfo": "text",
         "hovertext": [
          "delayed exactly",
          "took mask took short time long time anyway",
          "felt time lag last one experiencing seeing",
          "diminished would spend time going wait im track",
          "would wait bring closer",
          "slow going back",
          "mean point could see 3d noticed pretty quickly wasnt actually reverse delayed something",
          "wait one type response",
          "sometimes extremely slow sometimes different",
          "sad oh there delay",
          "bit delay huge delay time couldnt",
          "noticed delay still felt either someone copying recording",
          "second part delay touched seeing bit delay moving moving time",
          "delay kind situation",
          "well delay could identify",
          null
         ],
         "marker": {
          "opacity": 0.5,
          "size": 5
         },
         "mode": "markers+text",
         "name": "35_delay_wait_slow",
         "text": [
          "",
          "",
          "",
          "",
          "",
          "",
          "",
          "",
          "",
          "",
          "",
          "",
          "",
          "",
          "",
          "35_delay_wait_slow"
         ],
         "textfont": {
          "size": 12
         },
         "type": "scattergl",
         "x": [
          11.931124687194824,
          11.916258811950684,
          11.461654663085938,
          10.430452346801758,
          11.875198364257812,
          7.511666774749756,
          11.520905494689941,
          11.927712440490723,
          7.497659206390381,
          11.926078796386719,
          11.879920959472656,
          11.863764762878418,
          11.763741493225098,
          11.931117057800293,
          11.929274559020996,
          11.157770156860352
         ],
         "y": [
          6.804824352264404,
          6.815385818481445,
          7.318742752075195,
          6.014916896820068,
          6.782366752624512,
          5.988143444061279,
          7.243369102478027,
          6.818209648132324,
          6.230874538421631,
          6.810328483581543,
          6.766234397888184,
          6.819864749908447,
          6.771519660949707,
          6.832728862762451,
          6.833286762237549,
          6.723386287689209
         ]
        },
        {
         "hoverinfo": "text",
         "hovertext": [
          "mean good quality pixel",
          "said oh thats first time saw pixel stopped paralyzed",
          "also wondering choose pixelated opposed realistic",
          "part design avatar clear mean pixelized",
          "bit 3d image appears point",
          "hologram",
          "quality pixel good",
          "well actually didnt notice much well youtube pixel",
          "weird explain bit strange see pixel pixel",
          "wondering sensation would different image clearer less pixelized",
          "pixel moving body",
          "fact body pixel",
          "high fidelity",
          "low resolution representation",
          null
         ],
         "marker": {
          "opacity": 0.5,
          "size": 5
         },
         "mode": "markers+text",
         "name": "36_pixel_pixelized_quality pixel",
         "text": [
          "",
          "",
          "",
          "",
          "",
          "",
          "",
          "",
          "",
          "",
          "",
          "",
          "",
          "",
          "36_pixel_pixelized_quality pixel"
         ],
         "textfont": {
          "size": 12
         },
         "type": "scattergl",
         "x": [
          10.485383987426758,
          10.48731517791748,
          10.490019798278809,
          10.51130199432373,
          10.465402603149414,
          10.293981552124023,
          10.491291999816895,
          10.502228736877441,
          10.511354446411133,
          10.505324363708496,
          10.52762222290039,
          10.356916427612305,
          10.365033149719238,
          10.44386100769043,
          10.45978832244873
         ],
         "y": [
          7.878737926483154,
          7.777581691741943,
          7.878415584564209,
          7.860311031341553,
          7.616180896759033,
          7.9546284675598145,
          7.865346431732178,
          7.848128795623779,
          7.819922924041748,
          7.865878582000732,
          7.636016845703125,
          7.517822742462158,
          7.938215732574463,
          7.881630897521973,
          7.809915065765381
         ]
        },
        {
         "hoverinfo": "text",
         "hovertext": [
          "middle back need time actually reflect confusing actually",
          "maybe think second time harder first time",
          "second time around maybe time scene kind expect feel",
          "im sure whether first time second time place think real relax",
          "time actually second time thats happened felt",
          "time",
          "time much actually",
          "likewise second time also",
          "time",
          "second time intense",
          "needed time come back real surrounding",
          "sometimes think maybe little time difference",
          "think try time difference",
          "ive done couple time",
          null
         ],
         "marker": {
          "opacity": 0.5,
          "size": 5
         },
         "mode": "markers+text",
         "name": "37_time_second time_time difference",
         "text": [
          "",
          "",
          "",
          "",
          "",
          "",
          "",
          "",
          "",
          "",
          "",
          "",
          "",
          "",
          "37_time_second time_time difference"
         ],
         "textfont": {
          "size": 12
         },
         "type": "scattergl",
         "x": [
          7.014697074890137,
          6.771590709686279,
          6.764176845550537,
          6.693265914916992,
          6.795596122741699,
          6.74717903137207,
          6.790275573730469,
          6.685577392578125,
          6.724641799926758,
          6.655420303344727,
          6.8203535079956055,
          7.120973110198975,
          6.924644470214844,
          6.75866174697876,
          6.804789066314697
         ],
         "y": [
          6.7198357582092285,
          6.919256687164307,
          6.832068920135498,
          7.147796154022217,
          6.767581939697266,
          6.672558307647705,
          6.676196098327637,
          6.915172100067139,
          6.6396684646606445,
          7.198017120361328,
          6.712281703948975,
          6.636239051818848,
          6.49534273147583,
          6.853061199188232,
          6.798933982849121
         ]
        },
        {
         "hoverinfo": "text",
         "hovertext": [
          "perhaps bit frightening would say well felt back oof",
          "guess fear bodily sensation thought fear overwhelmed much something wont able handle seeing something dont practice lot",
          "contributed sense calm guess control wrong word thats mindfulness allowed guess less scared experience sit upright close certain sensation thought sure",
          "exactly less scary experience bit whoa kind",
          "think related fear height",
          "would say scary",
          "people live going car life straight away bit frightening little bit sometimes",
          "ability look thing good sense frightening bit",
          "scary",
          "true young liked height",
          "thought question interesting except word used torment knowing whats going happen certitude",
          "safe repeat safe",
          "guess almost fear experience going intense",
          "scary",
          null
         ],
         "marker": {
          "opacity": 0.5,
          "size": 5
         },
         "mode": "markers+text",
         "name": "38_scary_fear_frightening",
         "text": [
          "",
          "",
          "",
          "",
          "",
          "",
          "",
          "",
          "",
          "",
          "",
          "",
          "",
          "",
          "38_scary_fear_frightening"
         ],
         "textfont": {
          "size": 12
         },
         "type": "scattergl",
         "x": [
          8.195556640625,
          8.068559646606445,
          8.070879936218262,
          8.100242614746094,
          8.0841064453125,
          7.484871864318848,
          8.11440658569336,
          8.296637535095215,
          7.529603481292725,
          8.096473693847656,
          7.857494831085205,
          8.718830108642578,
          8.057040214538574,
          7.5386643409729,
          8.015241622924805
         ],
         "y": [
          7.008184432983398,
          7.165762901306152,
          7.136276721954346,
          6.978184223175049,
          7.244485855102539,
          2.1806819438934326,
          6.975531101226807,
          6.98060941696167,
          2.1117918491363525,
          7.307583808898926,
          6.738290309906006,
          7.315848350524902,
          7.14307975769043,
          2.1222808361053467,
          6.029185771942139
         ]
        },
        {
         "hoverinfo": "text",
         "hovertext": [
          "never",
          "said",
          "always",
          "sometimes sometimes see sometimes see",
          "always",
          "read said",
          "said sometimes",
          "sometimes",
          "said",
          "sometimes",
          "thats kind hard sometimes",
          "quite frequently",
          "sometimes dont",
          "sometimes word",
          null
         ],
         "marker": {
          "opacity": 0.5,
          "size": 5
         },
         "mode": "markers+text",
         "name": "39_sometimes_said sometimes_sometimes see",
         "text": [
          "",
          "",
          "",
          "",
          "",
          "",
          "",
          "",
          "",
          "",
          "",
          "",
          "",
          "",
          "39_sometimes_said sometimes_sometimes see"
         ],
         "textfont": {
          "size": 12
         },
         "type": "scattergl",
         "x": [
          4.886496543884277,
          4.530270099639893,
          4.898120403289795,
          4.914233207702637,
          4.89829158782959,
          4.5174150466918945,
          4.902395725250244,
          4.9014363288879395,
          4.526343822479248,
          4.901474475860596,
          4.901334762573242,
          4.895493030548096,
          4.9017558097839355,
          4.909059524536133,
          4.820294380187988
         ],
         "y": [
          11.016249656677246,
          5.124719142913818,
          11.021149635314941,
          11.023017883300781,
          11.021666526794434,
          5.111424446105957,
          11.019968032836914,
          11.01953411102295,
          5.112003803253174,
          11.019536018371582,
          11.020150184631348,
          11.003993034362793,
          11.020723342895508,
          11.023585319519043,
          9.754122734069824
         ]
        },
        {
         "hoverinfo": "text",
         "hovertext": [
          "best surprise already felt calm",
          "calm",
          "saw stuff constant always calm",
          "already calm",
          "calm wanted sleep",
          "calm",
          "think think sensation afraid theyre intense theyre overwhelming wouldnt would much wouldnt able come baseline find calmness",
          "feel calmer body",
          "calm",
          "there period able kind collect kind calm would come go wasnt",
          "feel calm see thing",
          "maybe general city maybe calmer",
          "calm",
          "feel calmer",
          null
         ],
         "marker": {
          "opacity": 0.5,
          "size": 5
         },
         "mode": "markers+text",
         "name": "40_calm_calm calm_calmer",
         "text": [
          "",
          "",
          "",
          "",
          "",
          "",
          "",
          "",
          "",
          "",
          "",
          "",
          "",
          "",
          "40_calm_calm calm_calmer"
         ],
         "textfont": {
          "size": 12
         },
         "type": "scattergl",
         "x": [
          5.928058624267578,
          5.940910816192627,
          5.987766265869141,
          5.9386887550354,
          6.009324550628662,
          5.943233966827393,
          5.992214679718018,
          5.944469451904297,
          5.94040584564209,
          5.990111351013184,
          5.947264194488525,
          5.944967269897461,
          5.9407501220703125,
          5.919100761413574,
          5.954804420471191
         ],
         "y": [
          8.830965995788574,
          8.847328186035156,
          8.783130645751953,
          8.84865951538086,
          8.897862434387207,
          8.853372573852539,
          8.7542142868042,
          8.782352447509766,
          8.848151206970215,
          8.863493919372559,
          8.79248332977295,
          8.828790664672852,
          8.847806930541992,
          8.79703140258789,
          8.826830863952637
         ]
        },
        {
         "hoverinfo": "text",
         "hovertext": [
          "little",
          "id say sort little bit life changingly immediately kind thing",
          "little bit",
          "less thing going",
          "appear bit",
          "bothered little bit",
          "got smaller",
          "little change",
          "little change put little bit game thinking",
          "tiny bit",
          "wasnt little bit",
          "bit",
          "worry kind participation game change role apparently fast switch",
          null
         ],
         "marker": {
          "opacity": 0.5,
          "size": 5
         },
         "mode": "markers+text",
         "name": "41_little_bit_little bit",
         "text": [
          "",
          "",
          "",
          "",
          "",
          "",
          "",
          "",
          "",
          "",
          "",
          "",
          "",
          "41_little_bit_little bit"
         ],
         "textfont": {
          "size": 12
         },
         "type": "scattergl",
         "x": [
          7.508727073669434,
          7.693856716156006,
          7.460323810577393,
          7.500576496124268,
          7.530221939086914,
          7.456592082977295,
          7.55271577835083,
          7.498393535614014,
          7.594210147857666,
          7.477156639099121,
          7.4696831703186035,
          7.463079929351807,
          9.342096328735352,
          7.657509803771973
         ],
         "y": [
          5.327342510223389,
          5.6468825340271,
          5.313490867614746,
          5.447146415710449,
          5.357593059539795,
          5.299098968505859,
          5.3477959632873535,
          5.470705986022949,
          5.553229331970215,
          5.321673393249512,
          5.307329177856445,
          5.276495933532715,
          8.490242004394531,
          5.627617835998535
         ]
        },
        {
         "hoverinfo": "text",
         "hovertext": [
          "course",
          "sure",
          "im sure probable",
          "im sure",
          "im sure",
          "sure",
          "think im sure",
          "sure",
          "also",
          "course",
          "course",
          "im sure",
          "already",
          null
         ],
         "marker": {
          "opacity": 0.5,
          "size": 5
         },
         "mode": "markers+text",
         "name": "42_sure_im sure_sure im",
         "text": [
          "",
          "",
          "",
          "",
          "",
          "",
          "",
          "",
          "",
          "",
          "",
          "",
          "",
          "42_sure_im sure_sure im"
         ],
         "textfont": {
          "size": 12
         },
         "type": "scattergl",
         "x": [
          4.4671244621276855,
          4.46135950088501,
          4.46336555480957,
          4.4606614112854,
          4.459630012512207,
          4.459963798522949,
          4.488269805908203,
          4.45742654800415,
          4.720943450927734,
          4.466773986816406,
          4.467530727386475,
          4.459092617034912,
          4.565183639526367,
          4.492101669311523
         ],
         "y": [
          3.1438257694244385,
          3.141077995300293,
          3.148777484893799,
          3.1403322219848633,
          3.135939836502075,
          3.145916700363159,
          3.164717435836792,
          3.1386704444885254,
          3.200678825378418,
          3.142885684967041,
          3.1423892974853516,
          3.139078140258789,
          3.165104627609253,
          3.1499531269073486
         ]
        },
        {
         "hoverinfo": "text",
         "hovertext": [
          "would say helped",
          "help lot",
          "total",
          "bit much",
          "cant relate lot question",
          "lot participant study",
          "dont lot",
          "lot",
          "much",
          "much",
          "word used interesting couldnt relate lot",
          "lot",
          "wonder lot sport lot thing",
          null
         ],
         "marker": {
          "opacity": 0.5,
          "size": 5
         },
         "mode": "markers+text",
         "name": "43_lot_relate lot_relate",
         "text": [
          "",
          "",
          "",
          "",
          "",
          "",
          "",
          "",
          "",
          "",
          "",
          "",
          "",
          "43_lot_relate lot_relate"
         ],
         "textfont": {
          "size": 12
         },
         "type": "scattergl",
         "x": [
          5.604394435882568,
          6.495268821716309,
          6.560200214385986,
          6.647825717926025,
          6.379005432128906,
          6.397885322570801,
          6.541882038116455,
          6.557810306549072,
          6.561948299407959,
          6.564305782318115,
          6.375001430511475,
          6.532295227050781,
          6.439651012420654,
          6.435190200805664
         ],
         "y": [
          5.307248592376709,
          4.050712585449219,
          4.047721862792969,
          4.196048259735107,
          4.1986188888549805,
          4.15374231338501,
          3.9796435832977295,
          4.0534563064575195,
          4.105983734130859,
          4.077127933502197,
          4.19252872467041,
          4.043201923370361,
          4.166159629821777,
          4.197861194610596
         ]
        },
        {
         "hoverinfo": "text",
         "hovertext": [
          "different",
          "bit different think",
          "probably bit different",
          "ah change",
          "different everyday life",
          "thats different",
          "wasnt changing imagery anything",
          "different",
          "wouldnt say slight difference",
          "dont different",
          "different",
          "little bit different",
          "bit different ive done",
          null
         ],
         "marker": {
          "opacity": 0.5,
          "size": 5
         },
         "mode": "markers+text",
         "name": "44_different_bit different_different different",
         "text": [
          "",
          "",
          "",
          "",
          "",
          "",
          "",
          "",
          "",
          "",
          "",
          "",
          "",
          "44_different_bit different_different different"
         ],
         "textfont": {
          "size": 12
         },
         "type": "scattergl",
         "x": [
          7.086584568023682,
          7.069725513458252,
          7.074343681335449,
          7.607858657836914,
          7.257380962371826,
          7.071427345275879,
          7.6472039222717285,
          7.114800453186035,
          6.931674003601074,
          7.079555511474609,
          7.09583854675293,
          7.097984313964844,
          7.062259197235107,
          7.168971538543701
         ],
         "y": [
          5.561752796173096,
          5.555657863616943,
          5.5441060066223145,
          5.71809196472168,
          5.840489387512207,
          5.539673328399658,
          6.273521900177002,
          5.568466663360596,
          5.543506622314453,
          5.587622165679932,
          5.566291332244873,
          5.540059566497803,
          5.570563316345215,
          5.646908283233643
         ]
        },
        {
         "hoverinfo": "text",
         "hovertext": [
          "moment feel mismatch",
          "instructive doesnt take moment",
          "emotional way",
          "always knew wasnt moment came",
          "perhaps felt dont lot trouble moment im trying deal perhaps felt somehow leaving",
          "end middle end longer forget moment",
          "feel little bit little bit affraid moment dont happen get used",
          "moment dont understand anything anymore",
          "said mean moment see see body",
          "moment forget",
          "gave lot emotion couldnt explain moment",
          "kind put place emotion picture different",
          "concentrating removed thought emotion positive negative",
          null
         ],
         "marker": {
          "opacity": 0.5,
          "size": 5
         },
         "mode": "markers+text",
         "name": "45_moment_emotion_moment dont",
         "text": [
          "",
          "",
          "",
          "",
          "",
          "",
          "",
          "",
          "",
          "",
          "",
          "",
          "",
          "45_moment_emotion_moment dont"
         ],
         "textfont": {
          "size": 12
         },
         "type": "scattergl",
         "x": [
          8.643199920654297,
          8.601611137390137,
          8.790907859802246,
          8.585854530334473,
          8.688243865966797,
          8.536959648132324,
          8.677485466003418,
          8.61047649383545,
          8.754857063293457,
          8.58404541015625,
          8.864689826965332,
          8.84689712524414,
          8.803038597106934,
          8.69140625
         ],
         "y": [
          5.907138347625732,
          5.911470413208008,
          5.46830415725708,
          5.904702186584473,
          5.833038806915283,
          5.9061174392700195,
          5.859624862670898,
          5.8855977058410645,
          5.990520477294922,
          5.907093524932861,
          5.601936340332031,
          5.5601301193237305,
          9.232285499572754,
          6.074458122253418
         ]
        },
        {
         "hoverinfo": "text",
         "hovertext": [
          "dont would different avatar complete less glittery",
          "avatar blinking",
          "blinking",
          "refer avatar avatar",
          "could feel actual avatar",
          "point point point flash flash",
          "dont whether necessarily avatar whether maybe acted something anchor attention guess eye closed blank slate brain fill whatever guess eye open dont whether maybe seeing avatar something moving much didnt offer",
          "point point point flash flash",
          "avatar",
          "blinking",
          "blinking",
          "body blinking",
          "avatar blinking",
          null
         ],
         "marker": {
          "opacity": 0.5,
          "size": 5
         },
         "mode": "markers+text",
         "name": "46_avatar_blinking_flash",
         "text": [
          "",
          "",
          "",
          "",
          "",
          "",
          "",
          "",
          "",
          "",
          "",
          "",
          "",
          "46_avatar_blinking_flash"
         ],
         "textfont": {
          "size": 12
         },
         "type": "scattergl",
         "x": [
          10.725422859191895,
          10.784205436706543,
          10.804850578308105,
          10.713558197021484,
          10.714102745056152,
          10.812458038330078,
          10.551741600036621,
          10.817953109741211,
          10.731212615966797,
          10.809497833251953,
          10.810344696044922,
          10.806644439697266,
          10.766153335571289,
          10.757549285888672
         ],
         "y": [
          10.038435935974121,
          10.149721145629883,
          10.181373596191406,
          10.054444313049316,
          9.971572875976562,
          10.189909934997559,
          9.936763763427734,
          10.198087692260742,
          10.054295539855957,
          10.18525218963623,
          10.187750816345215,
          10.189803123474121,
          10.129289627075195,
          10.112823486328125
         ]
        },
        {
         "hoverinfo": "text",
         "hovertext": [
          "nice",
          "nice",
          "cute",
          "nice",
          "nice",
          "nice",
          "nice",
          "nice option thats",
          "nice",
          "super nice",
          "nice",
          "fun nice",
          null
         ],
         "marker": {
          "opacity": 0.5,
          "size": 5
         },
         "mode": "markers+text",
         "name": "47_nice nice_nice_fun nice",
         "text": [
          "",
          "",
          "",
          "",
          "",
          "",
          "",
          "",
          "",
          "",
          "",
          "",
          "47_nice nice_nice_fun nice"
         ],
         "textfont": {
          "size": 12
         },
         "type": "scattergl",
         "x": [
          6.6389288902282715,
          6.632085800170898,
          6.585434913635254,
          6.633446216583252,
          6.632778167724609,
          6.635280609130859,
          6.633646488189697,
          6.495602607727051,
          6.6306915283203125,
          6.628724098205566,
          6.6185150146484375,
          7.02996301651001,
          6.649591445922852
         ],
         "y": [
          1.2997815608978271,
          1.3066288232803345,
          1.4775702953338623,
          1.308764100074768,
          1.3071637153625488,
          1.309099793434143,
          1.3062056303024292,
          1.3576586246490479,
          1.3006248474121094,
          1.3017650842666626,
          1.2935751676559448,
          1.8100324869155884,
          1.364905834197998
         ]
        },
        {
         "hoverinfo": "text",
         "hovertext": [
          "heavy",
          "felt heavier packing body",
          "feeling heavy weight body",
          "dont felt heavier better",
          "lighter",
          "didnt feel much limit body powerfull still felt body normal",
          "dont felt lighter body",
          "kind felt lighter came back felt heavier",
          "heavier felt something",
          "imagine walking forget little body realize wow dont feel weight body",
          "lighter whatever",
          "much lighter top whole scene",
          null
         ],
         "marker": {
          "opacity": 0.5,
          "size": 5
         },
         "mode": "markers+text",
         "name": "48_lighter_heavier_felt heavier",
         "text": [
          "",
          "",
          "",
          "",
          "",
          "",
          "",
          "",
          "",
          "",
          "",
          "",
          "48_lighter_heavier_felt heavier"
         ],
         "textfont": {
          "size": 12
         },
         "type": "scattergl",
         "x": [
          10.153458595275879,
          10.148137092590332,
          10.098816871643066,
          10.114824295043945,
          10.143400192260742,
          10.105571746826172,
          10.138690948486328,
          10.145486831665039,
          10.147781372070312,
          10.096860885620117,
          10.159605979919434,
          10.1558256149292,
          10.134037971496582
         ],
         "y": [
          5.0230021476745605,
          5.078642845153809,
          5.0879340171813965,
          5.044200897216797,
          5.015563011169434,
          5.114799499511719,
          5.051146030426025,
          5.030498504638672,
          5.076546669006348,
          5.114381313323975,
          4.99929141998291,
          5.023472785949707,
          5.054955959320068
         ]
        },
        {
         "hoverinfo": "text",
         "hovertext": [
          "interesting",
          "interesting",
          "interesting",
          "nice interesting",
          "better interesting",
          "well thats interesting",
          "interesting",
          "interesting would say",
          "interesting",
          "interesting",
          "interesting",
          "quite fascinating",
          null
         ],
         "marker": {
          "opacity": 0.5,
          "size": 5
         },
         "mode": "markers+text",
         "name": "49_interesting_interesting interesting_interesting better",
         "text": [
          "",
          "",
          "",
          "",
          "",
          "",
          "",
          "",
          "",
          "",
          "",
          "",
          "49_interesting_interesting interesting_interesting better"
         ],
         "textfont": {
          "size": 12
         },
         "type": "scattergl",
         "x": [
          7.334285736083984,
          7.336201190948486,
          7.336945533752441,
          7.338855266571045,
          7.34234094619751,
          7.336833953857422,
          7.339199066162109,
          7.351212024688721,
          7.329068660736084,
          7.339120864868164,
          7.339388370513916,
          7.349611282348633,
          7.33942174911499
         ],
         "y": [
          -0.47376149892807007,
          -0.4708240032196045,
          -0.4713706970214844,
          -0.4685719907283783,
          -0.46061229705810547,
          -0.46408623456954956,
          -0.4683522582054138,
          -0.45667603611946106,
          -0.4790925085544586,
          -0.46890977025032043,
          -0.46855759620666504,
          -0.4584771394729614,
          -0.46744099259376526
         ]
        },
        {
         "hoverinfo": "text",
         "hovertext": [
          "observing image thing",
          "figure",
          "example camera image project",
          "picture everything",
          "particle picture",
          "projection camera",
          "image",
          "image",
          "example try give image",
          "dont technical problem remember click image show",
          "kind zooming body observe physical make link",
          "u real image something",
          null
         ],
         "marker": {
          "opacity": 0.5,
          "size": 5
         },
         "mode": "markers+text",
         "name": "50_image_camera_picture",
         "text": [
          "",
          "",
          "",
          "",
          "",
          "",
          "",
          "",
          "",
          "",
          "",
          "",
          "50_image_camera_picture"
         ],
         "textfont": {
          "size": 12
         },
         "type": "scattergl",
         "x": [
          10.052716255187988,
          9.907273292541504,
          10.014701843261719,
          9.95267391204834,
          9.994087219238281,
          10.053360939025879,
          9.94300365447998,
          9.939643859863281,
          9.933154106140137,
          9.878312110900879,
          10.18707275390625,
          9.956473350524902,
          9.984373092651367
         ],
         "y": [
          7.616412162780762,
          7.4559454917907715,
          7.649998188018799,
          7.494277477264404,
          7.53210973739624,
          7.841763973236084,
          7.495048522949219,
          7.4665679931640625,
          7.479891777038574,
          7.459949970245361,
          7.741485118865967,
          7.4253411293029785,
          7.554899215698242
         ]
        },
        {
         "hoverinfo": "text",
         "hovertext": [
          "cool cool",
          "cool",
          "cool",
          "nice cool",
          "cool",
          "cool",
          "cool",
          "cool",
          "cool",
          "cool",
          "otherwise cool",
          "cool",
          null
         ],
         "marker": {
          "opacity": 0.5,
          "size": 5
         },
         "mode": "markers+text",
         "name": "51_cool_cool cool_cool nice",
         "text": [
          "",
          "",
          "",
          "",
          "",
          "",
          "",
          "",
          "",
          "",
          "",
          "",
          "51_cool_cool cool_cool nice"
         ],
         "textfont": {
          "size": 12
         },
         "type": "scattergl",
         "x": [
          10.484042167663574,
          10.483481407165527,
          10.483506202697754,
          10.465709686279297,
          10.483494758605957,
          10.48340892791748,
          10.479340553283691,
          10.482933044433594,
          10.482792854309082,
          10.482582092285156,
          10.479557037353516,
          10.482415199279785,
          10.481104850769043
         ],
         "y": [
          -3.994816780090332,
          -3.9941272735595703,
          -3.994175910949707,
          -3.9778220653533936,
          -3.9941635131835938,
          -3.9941024780273438,
          -3.9895920753479004,
          -3.9936063289642334,
          -3.993447780609131,
          -3.9932219982147217,
          -3.989039897918701,
          -3.9929916858673096,
          -3.9917590618133545
         ]
        },
        {
         "hoverinfo": "text",
         "hovertext": [
          "sometimes dream im body",
          "match imagination",
          "strong kind almost real dream feel youre dream",
          "dream dont talk people",
          "dream",
          "life butterfly",
          "imagine look something probably see usually imagine",
          "imagine thats probably part youre looking well",
          "dreaming",
          "night dreaming butterfly",
          "trip dream example dream also something else",
          null
         ],
         "marker": {
          "opacity": 0.5,
          "size": 5
         },
         "mode": "markers+text",
         "name": "52_dream_butterfly_dreaming",
         "text": [
          "",
          "",
          "",
          "",
          "",
          "",
          "",
          "",
          "",
          "",
          "",
          "52_dream_butterfly_dreaming"
         ],
         "textfont": {
          "size": 12
         },
         "type": "scattergl",
         "x": [
          10.215717315673828,
          10.070651054382324,
          10.221827507019043,
          10.218664169311523,
          10.223838806152344,
          10.269026756286621,
          10.183850288391113,
          9.882262229919434,
          10.22634506225586,
          10.255425453186035,
          10.210122108459473,
          10.179794311523438
         ],
         "y": [
          4.432619094848633,
          4.300099849700928,
          4.445554733276367,
          4.405432224273682,
          4.408294200897217,
          4.712423324584961,
          4.301112174987793,
          6.576543807983398,
          4.4110894203186035,
          4.502241134643555,
          4.403948783874512,
          4.6272149085998535
         ]
        },
        {
         "hoverinfo": "text",
         "hovertext": [
          "definitely felt didnt lot sensation floating body felt",
          "also jump body get sensation whoa im floating",
          "weird sensation",
          "easier visualize body course feel sensation",
          "started following instruction seeing thing felt sensation away sensation",
          "feel sensation",
          "sensation may intense wouldnt able seize",
          "felt levitating kinda sitting platafrom maybe higher rock something",
          "definitely sensation sure",
          "second part felt difficult trying able feel sensation",
          "tried movement image last experiment able feeling sensation",
          null
         ],
         "marker": {
          "opacity": 0.5,
          "size": 5
         },
         "mode": "markers+text",
         "name": "53_sensation_feel sensation_able",
         "text": [
          "",
          "",
          "",
          "",
          "",
          "",
          "",
          "",
          "",
          "",
          "",
          "53_sensation_feel sensation_able"
         ],
         "textfont": {
          "size": 12
         },
         "type": "scattergl",
         "x": [
          10.304306030273438,
          10.555512428283691,
          10.307962417602539,
          10.422493934631348,
          10.366488456726074,
          10.343935012817383,
          10.451720237731934,
          10.558849334716797,
          10.41366958618164,
          10.448188781738281,
          10.414998054504395,
          10.417101860046387
         ],
         "y": [
          5.879829406738281,
          6.244171619415283,
          6.048442840576172,
          6.117531776428223,
          6.068825721740723,
          5.9484968185424805,
          6.04441499710083,
          6.282012462615967,
          5.9601616859436035,
          6.0205512046813965,
          6.141664981842041,
          6.068736553192139
         ]
        },
        {
         "hoverinfo": "text",
         "hovertext": [
          "drawing attention surroundings made feel super peaceful",
          "well id say thats new experience didnt expect feel peace",
          "kind peaceful",
          "becomes peaceful nice dont need come",
          "peaceful well",
          "give extreme peace many thing",
          "peaceful",
          "peaceful",
          "think maybe already knew place place peaceful already feel peace first round",
          "said dont ask im telling always happy peaceful say something wrong must problem",
          "slowly emotionally peaceful nice different different",
          null
         ],
         "marker": {
          "opacity": 0.5,
          "size": 5
         },
         "mode": "markers+text",
         "name": "54_peaceful_peace_feel peace",
         "text": [
          "",
          "",
          "",
          "",
          "",
          "",
          "",
          "",
          "",
          "",
          "",
          "54_peaceful_peace_feel peace"
         ],
         "textfont": {
          "size": 12
         },
         "type": "scattergl",
         "x": [
          6.78200101852417,
          6.744804859161377,
          6.745840549468994,
          6.724928379058838,
          6.74509859085083,
          6.738259315490723,
          6.735494136810303,
          6.736526012420654,
          6.738158226013184,
          6.7167863845825195,
          6.739817142486572,
          6.740701198577881
         ],
         "y": [
          9.946261405944824,
          9.982696533203125,
          9.991947174072266,
          9.97258472442627,
          9.997308731079102,
          9.992451667785645,
          9.991362571716309,
          9.991559982299805,
          9.99047565460205,
          9.980389595031738,
          9.987805366516113,
          9.984077453613281
         ]
        },
        {
         "hoverinfo": "text",
         "hovertext": [
          "end day",
          "long per day",
          "would say end",
          "end day",
          "longer",
          "people stay three hour every day",
          "end ah maybe wrong record",
          "think maybe longer may end",
          "think maybe dont three four minute ending",
          "long",
          "maybe end",
          null
         ],
         "marker": {
          "opacity": 0.5,
          "size": 5
         },
         "mode": "markers+text",
         "name": "55_end_day_end day",
         "text": [
          "",
          "",
          "",
          "",
          "",
          "",
          "",
          "",
          "",
          "",
          "",
          "55_end_day_end day"
         ],
         "textfont": {
          "size": 12
         },
         "type": "scattergl",
         "x": [
          6.711178779602051,
          6.550791263580322,
          6.726315498352051,
          6.717370510101318,
          6.486012935638428,
          6.66420841217041,
          6.74545955657959,
          6.715674877166748,
          6.751580238342285,
          6.522238731384277,
          6.716559410095215,
          6.664308071136475
         ],
         "y": [
          6.065977096557617,
          6.302568435668945,
          6.053093433380127,
          6.068037033081055,
          6.243693828582764,
          6.34921932220459,
          6.047606468200684,
          6.068342685699463,
          6.005553722381592,
          6.333081245422363,
          6.050100326538086,
          6.1442975997924805
         ]
        },
        {
         "hoverinfo": "text",
         "hovertext": [
          "feel find quite easy eye shut visualize leg",
          "said focus leg would imagine leg",
          "let focus leg would need move leg need focus leg",
          "everything specific one way get disconnection focus body focus heart listen heart first think cant sleep example lying im bed focus heart breathing heart try listen heart help relax state",
          "need move leg order focus leg",
          "difficult example say dont let concentrate leg start moving leg try feel leg",
          "second part example leg worst",
          "part start moving leg order im going focus leg",
          "im focused leg focus heart",
          "example lot go osteopath work quite well colaboration think start press somewhere body relax part",
          null
         ],
         "marker": {
          "opacity": 0.5,
          "size": 5
         },
         "mode": "markers+text",
         "name": "56_leg_focus leg_heart",
         "text": [
          "",
          "",
          "",
          "",
          "",
          "",
          "",
          "",
          "",
          "",
          "56_leg_focus leg_heart"
         ],
         "textfont": {
          "size": 12
         },
         "type": "scattergl",
         "x": [
          9.814478874206543,
          9.822982788085938,
          9.818453788757324,
          9.778088569641113,
          9.821638107299805,
          9.807995796203613,
          9.831546783447266,
          9.823965072631836,
          9.818909645080566,
          9.794251441955566,
          9.813230514526367
         ],
         "y": [
          9.764617919921875,
          9.77441120147705,
          9.750858306884766,
          9.58950424194336,
          9.7485990524292,
          9.686492919921875,
          9.748847007751465,
          9.743412971496582,
          9.710031509399414,
          9.669724464416504,
          9.718649864196777
         ]
        },
        {
         "hoverinfo": "text",
         "hovertext": [
          "didnt feel oneness stuff",
          "didnt feeling",
          "didnt feel right away",
          "didnt feel",
          "never felt",
          "dont felt",
          "didnt feel",
          "didnt feel felt",
          "reason didnt feel",
          "didnt feel looking onto",
          null
         ],
         "marker": {
          "opacity": 0.5,
          "size": 5
         },
         "mode": "markers+text",
         "name": "57_didnt feel_didnt_felt didnt",
         "text": [
          "",
          "",
          "",
          "",
          "",
          "",
          "",
          "",
          "",
          "",
          "57_didnt feel_didnt_felt didnt"
         ],
         "textfont": {
          "size": 12
         },
         "type": "scattergl",
         "x": [
          8.557112693786621,
          8.463066101074219,
          8.515427589416504,
          8.534147262573242,
          8.693928718566895,
          8.572246551513672,
          8.547676086425781,
          8.613264083862305,
          8.578194618225098,
          8.508886337280273,
          8.558395385742188
         ],
         "y": [
          4.543617248535156,
          4.471253395080566,
          4.492427349090576,
          4.507265090942383,
          4.59293794631958,
          4.552662372589111,
          4.516989707946777,
          4.574199676513672,
          4.540715217590332,
          4.47741174697876,
          4.526947975158691
         ]
        },
        {
         "hoverinfo": "text",
         "hovertext": [
          "question kind personalised felt took attention",
          "made realise felt selflove",
          "first actually felt lot emotion first saw dont whats happening first saw felt wave emotion ive never seen real time suddenly made felt wave selflove compassion",
          "feeling kind stayed never felt reconnecting fact could see made feel outside come back little bit touch",
          "felt getting attached vision becoming realizing kind becoming closer",
          "felt personally personality",
          "felt therapeutic felt nice perspective kind realise soul",
          "yet weird feeling feel basically youre big environment youre observing bigger bigger lens",
          "feel bit dream bit spiritual connection youre trying find relationship real life",
          "felt psychological connection",
          null
         ],
         "marker": {
          "opacity": 0.5,
          "size": 5
         },
         "mode": "markers+text",
         "name": "58_felt_first saw_felt wave",
         "text": [
          "",
          "",
          "",
          "",
          "",
          "",
          "",
          "",
          "",
          "",
          "58_felt_first saw_felt wave"
         ],
         "textfont": {
          "size": 12
         },
         "type": "scattergl",
         "x": [
          9.396245002746582,
          9.344663619995117,
          9.372625350952148,
          9.54317855834961,
          9.46446418762207,
          9.365446090698242,
          9.390185356140137,
          9.558867454528809,
          9.3223876953125,
          9.304047584533691,
          9.406210899353027
         ],
         "y": [
          5.844293594360352,
          5.921289920806885,
          5.952103614807129,
          5.7957868576049805,
          5.873048305511475,
          5.891996383666992,
          5.906266689300537,
          5.8760457038879395,
          6.012531757354736,
          6.0733442306518555,
          5.914670467376709
         ]
        }
       ],
       "layout": {
        "annotations": [
         {
          "showarrow": false,
          "text": "D1",
          "x": -12.97305679321289,
          "y": 3.4793171882629395,
          "yshift": 10
         },
         {
          "showarrow": false,
          "text": "D2",
          "x": 0.44438743591308594,
          "xshift": 10,
          "y": 14.456581115722656
         }
        ],
        "height": 750,
        "shapes": [
         {
          "line": {
           "color": "#CFD8DC",
           "width": 2
          },
          "type": "line",
          "x0": 0.44438743591308594,
          "x1": 0.44438743591308594,
          "y0": -7.497946739196777,
          "y1": 14.456581115722656
         },
         {
          "line": {
           "color": "#9E9E9E",
           "width": 2
          },
          "type": "line",
          "x0": -12.97305679321289,
          "x1": 13.861831665039062,
          "y0": 3.4793171882629395,
          "y1": 3.4793171882629395
         }
        ],
        "template": {
         "data": {
          "bar": [
           {
            "error_x": {
             "color": "rgb(36,36,36)"
            },
            "error_y": {
             "color": "rgb(36,36,36)"
            },
            "marker": {
             "line": {
              "color": "white",
              "width": 0.5
             },
             "pattern": {
              "fillmode": "overlay",
              "size": 10,
              "solidity": 0.2
             }
            },
            "type": "bar"
           }
          ],
          "barpolar": [
           {
            "marker": {
             "line": {
              "color": "white",
              "width": 0.5
             },
             "pattern": {
              "fillmode": "overlay",
              "size": 10,
              "solidity": 0.2
             }
            },
            "type": "barpolar"
           }
          ],
          "carpet": [
           {
            "aaxis": {
             "endlinecolor": "rgb(36,36,36)",
             "gridcolor": "white",
             "linecolor": "white",
             "minorgridcolor": "white",
             "startlinecolor": "rgb(36,36,36)"
            },
            "baxis": {
             "endlinecolor": "rgb(36,36,36)",
             "gridcolor": "white",
             "linecolor": "white",
             "minorgridcolor": "white",
             "startlinecolor": "rgb(36,36,36)"
            },
            "type": "carpet"
           }
          ],
          "choropleth": [
           {
            "colorbar": {
             "outlinewidth": 1,
             "tickcolor": "rgb(36,36,36)",
             "ticks": "outside"
            },
            "type": "choropleth"
           }
          ],
          "contour": [
           {
            "colorbar": {
             "outlinewidth": 1,
             "tickcolor": "rgb(36,36,36)",
             "ticks": "outside"
            },
            "colorscale": [
             [
              0,
              "#440154"
             ],
             [
              0.1111111111111111,
              "#482878"
             ],
             [
              0.2222222222222222,
              "#3e4989"
             ],
             [
              0.3333333333333333,
              "#31688e"
             ],
             [
              0.4444444444444444,
              "#26828e"
             ],
             [
              0.5555555555555556,
              "#1f9e89"
             ],
             [
              0.6666666666666666,
              "#35b779"
             ],
             [
              0.7777777777777778,
              "#6ece58"
             ],
             [
              0.8888888888888888,
              "#b5de2b"
             ],
             [
              1,
              "#fde725"
             ]
            ],
            "type": "contour"
           }
          ],
          "contourcarpet": [
           {
            "colorbar": {
             "outlinewidth": 1,
             "tickcolor": "rgb(36,36,36)",
             "ticks": "outside"
            },
            "type": "contourcarpet"
           }
          ],
          "heatmap": [
           {
            "colorbar": {
             "outlinewidth": 1,
             "tickcolor": "rgb(36,36,36)",
             "ticks": "outside"
            },
            "colorscale": [
             [
              0,
              "#440154"
             ],
             [
              0.1111111111111111,
              "#482878"
             ],
             [
              0.2222222222222222,
              "#3e4989"
             ],
             [
              0.3333333333333333,
              "#31688e"
             ],
             [
              0.4444444444444444,
              "#26828e"
             ],
             [
              0.5555555555555556,
              "#1f9e89"
             ],
             [
              0.6666666666666666,
              "#35b779"
             ],
             [
              0.7777777777777778,
              "#6ece58"
             ],
             [
              0.8888888888888888,
              "#b5de2b"
             ],
             [
              1,
              "#fde725"
             ]
            ],
            "type": "heatmap"
           }
          ],
          "heatmapgl": [
           {
            "colorbar": {
             "outlinewidth": 1,
             "tickcolor": "rgb(36,36,36)",
             "ticks": "outside"
            },
            "colorscale": [
             [
              0,
              "#440154"
             ],
             [
              0.1111111111111111,
              "#482878"
             ],
             [
              0.2222222222222222,
              "#3e4989"
             ],
             [
              0.3333333333333333,
              "#31688e"
             ],
             [
              0.4444444444444444,
              "#26828e"
             ],
             [
              0.5555555555555556,
              "#1f9e89"
             ],
             [
              0.6666666666666666,
              "#35b779"
             ],
             [
              0.7777777777777778,
              "#6ece58"
             ],
             [
              0.8888888888888888,
              "#b5de2b"
             ],
             [
              1,
              "#fde725"
             ]
            ],
            "type": "heatmapgl"
           }
          ],
          "histogram": [
           {
            "marker": {
             "line": {
              "color": "white",
              "width": 0.6
             }
            },
            "type": "histogram"
           }
          ],
          "histogram2d": [
           {
            "colorbar": {
             "outlinewidth": 1,
             "tickcolor": "rgb(36,36,36)",
             "ticks": "outside"
            },
            "colorscale": [
             [
              0,
              "#440154"
             ],
             [
              0.1111111111111111,
              "#482878"
             ],
             [
              0.2222222222222222,
              "#3e4989"
             ],
             [
              0.3333333333333333,
              "#31688e"
             ],
             [
              0.4444444444444444,
              "#26828e"
             ],
             [
              0.5555555555555556,
              "#1f9e89"
             ],
             [
              0.6666666666666666,
              "#35b779"
             ],
             [
              0.7777777777777778,
              "#6ece58"
             ],
             [
              0.8888888888888888,
              "#b5de2b"
             ],
             [
              1,
              "#fde725"
             ]
            ],
            "type": "histogram2d"
           }
          ],
          "histogram2dcontour": [
           {
            "colorbar": {
             "outlinewidth": 1,
             "tickcolor": "rgb(36,36,36)",
             "ticks": "outside"
            },
            "colorscale": [
             [
              0,
              "#440154"
             ],
             [
              0.1111111111111111,
              "#482878"
             ],
             [
              0.2222222222222222,
              "#3e4989"
             ],
             [
              0.3333333333333333,
              "#31688e"
             ],
             [
              0.4444444444444444,
              "#26828e"
             ],
             [
              0.5555555555555556,
              "#1f9e89"
             ],
             [
              0.6666666666666666,
              "#35b779"
             ],
             [
              0.7777777777777778,
              "#6ece58"
             ],
             [
              0.8888888888888888,
              "#b5de2b"
             ],
             [
              1,
              "#fde725"
             ]
            ],
            "type": "histogram2dcontour"
           }
          ],
          "mesh3d": [
           {
            "colorbar": {
             "outlinewidth": 1,
             "tickcolor": "rgb(36,36,36)",
             "ticks": "outside"
            },
            "type": "mesh3d"
           }
          ],
          "parcoords": [
           {
            "line": {
             "colorbar": {
              "outlinewidth": 1,
              "tickcolor": "rgb(36,36,36)",
              "ticks": "outside"
             }
            },
            "type": "parcoords"
           }
          ],
          "pie": [
           {
            "automargin": true,
            "type": "pie"
           }
          ],
          "scatter": [
           {
            "fillpattern": {
             "fillmode": "overlay",
             "size": 10,
             "solidity": 0.2
            },
            "type": "scatter"
           }
          ],
          "scatter3d": [
           {
            "line": {
             "colorbar": {
              "outlinewidth": 1,
              "tickcolor": "rgb(36,36,36)",
              "ticks": "outside"
             }
            },
            "marker": {
             "colorbar": {
              "outlinewidth": 1,
              "tickcolor": "rgb(36,36,36)",
              "ticks": "outside"
             }
            },
            "type": "scatter3d"
           }
          ],
          "scattercarpet": [
           {
            "marker": {
             "colorbar": {
              "outlinewidth": 1,
              "tickcolor": "rgb(36,36,36)",
              "ticks": "outside"
             }
            },
            "type": "scattercarpet"
           }
          ],
          "scattergeo": [
           {
            "marker": {
             "colorbar": {
              "outlinewidth": 1,
              "tickcolor": "rgb(36,36,36)",
              "ticks": "outside"
             }
            },
            "type": "scattergeo"
           }
          ],
          "scattergl": [
           {
            "marker": {
             "colorbar": {
              "outlinewidth": 1,
              "tickcolor": "rgb(36,36,36)",
              "ticks": "outside"
             }
            },
            "type": "scattergl"
           }
          ],
          "scattermapbox": [
           {
            "marker": {
             "colorbar": {
              "outlinewidth": 1,
              "tickcolor": "rgb(36,36,36)",
              "ticks": "outside"
             }
            },
            "type": "scattermapbox"
           }
          ],
          "scatterpolar": [
           {
            "marker": {
             "colorbar": {
              "outlinewidth": 1,
              "tickcolor": "rgb(36,36,36)",
              "ticks": "outside"
             }
            },
            "type": "scatterpolar"
           }
          ],
          "scatterpolargl": [
           {
            "marker": {
             "colorbar": {
              "outlinewidth": 1,
              "tickcolor": "rgb(36,36,36)",
              "ticks": "outside"
             }
            },
            "type": "scatterpolargl"
           }
          ],
          "scatterternary": [
           {
            "marker": {
             "colorbar": {
              "outlinewidth": 1,
              "tickcolor": "rgb(36,36,36)",
              "ticks": "outside"
             }
            },
            "type": "scatterternary"
           }
          ],
          "surface": [
           {
            "colorbar": {
             "outlinewidth": 1,
             "tickcolor": "rgb(36,36,36)",
             "ticks": "outside"
            },
            "colorscale": [
             [
              0,
              "#440154"
             ],
             [
              0.1111111111111111,
              "#482878"
             ],
             [
              0.2222222222222222,
              "#3e4989"
             ],
             [
              0.3333333333333333,
              "#31688e"
             ],
             [
              0.4444444444444444,
              "#26828e"
             ],
             [
              0.5555555555555556,
              "#1f9e89"
             ],
             [
              0.6666666666666666,
              "#35b779"
             ],
             [
              0.7777777777777778,
              "#6ece58"
             ],
             [
              0.8888888888888888,
              "#b5de2b"
             ],
             [
              1,
              "#fde725"
             ]
            ],
            "type": "surface"
           }
          ],
          "table": [
           {
            "cells": {
             "fill": {
              "color": "rgb(237,237,237)"
             },
             "line": {
              "color": "white"
             }
            },
            "header": {
             "fill": {
              "color": "rgb(217,217,217)"
             },
             "line": {
              "color": "white"
             }
            },
            "type": "table"
           }
          ]
         },
         "layout": {
          "annotationdefaults": {
           "arrowhead": 0,
           "arrowwidth": 1
          },
          "autotypenumbers": "strict",
          "coloraxis": {
           "colorbar": {
            "outlinewidth": 1,
            "tickcolor": "rgb(36,36,36)",
            "ticks": "outside"
           }
          },
          "colorscale": {
           "diverging": [
            [
             0,
             "rgb(103,0,31)"
            ],
            [
             0.1,
             "rgb(178,24,43)"
            ],
            [
             0.2,
             "rgb(214,96,77)"
            ],
            [
             0.3,
             "rgb(244,165,130)"
            ],
            [
             0.4,
             "rgb(253,219,199)"
            ],
            [
             0.5,
             "rgb(247,247,247)"
            ],
            [
             0.6,
             "rgb(209,229,240)"
            ],
            [
             0.7,
             "rgb(146,197,222)"
            ],
            [
             0.8,
             "rgb(67,147,195)"
            ],
            [
             0.9,
             "rgb(33,102,172)"
            ],
            [
             1,
             "rgb(5,48,97)"
            ]
           ],
           "sequential": [
            [
             0,
             "#440154"
            ],
            [
             0.1111111111111111,
             "#482878"
            ],
            [
             0.2222222222222222,
             "#3e4989"
            ],
            [
             0.3333333333333333,
             "#31688e"
            ],
            [
             0.4444444444444444,
             "#26828e"
            ],
            [
             0.5555555555555556,
             "#1f9e89"
            ],
            [
             0.6666666666666666,
             "#35b779"
            ],
            [
             0.7777777777777778,
             "#6ece58"
            ],
            [
             0.8888888888888888,
             "#b5de2b"
            ],
            [
             1,
             "#fde725"
            ]
           ],
           "sequentialminus": [
            [
             0,
             "#440154"
            ],
            [
             0.1111111111111111,
             "#482878"
            ],
            [
             0.2222222222222222,
             "#3e4989"
            ],
            [
             0.3333333333333333,
             "#31688e"
            ],
            [
             0.4444444444444444,
             "#26828e"
            ],
            [
             0.5555555555555556,
             "#1f9e89"
            ],
            [
             0.6666666666666666,
             "#35b779"
            ],
            [
             0.7777777777777778,
             "#6ece58"
            ],
            [
             0.8888888888888888,
             "#b5de2b"
            ],
            [
             1,
             "#fde725"
            ]
           ]
          },
          "colorway": [
           "#1F77B4",
           "#FF7F0E",
           "#2CA02C",
           "#D62728",
           "#9467BD",
           "#8C564B",
           "#E377C2",
           "#7F7F7F",
           "#BCBD22",
           "#17BECF"
          ],
          "font": {
           "color": "rgb(36,36,36)"
          },
          "geo": {
           "bgcolor": "white",
           "lakecolor": "white",
           "landcolor": "white",
           "showlakes": true,
           "showland": true,
           "subunitcolor": "white"
          },
          "hoverlabel": {
           "align": "left"
          },
          "hovermode": "closest",
          "mapbox": {
           "style": "light"
          },
          "paper_bgcolor": "white",
          "plot_bgcolor": "white",
          "polar": {
           "angularaxis": {
            "gridcolor": "rgb(232,232,232)",
            "linecolor": "rgb(36,36,36)",
            "showgrid": false,
            "showline": true,
            "ticks": "outside"
           },
           "bgcolor": "white",
           "radialaxis": {
            "gridcolor": "rgb(232,232,232)",
            "linecolor": "rgb(36,36,36)",
            "showgrid": false,
            "showline": true,
            "ticks": "outside"
           }
          },
          "scene": {
           "xaxis": {
            "backgroundcolor": "white",
            "gridcolor": "rgb(232,232,232)",
            "gridwidth": 2,
            "linecolor": "rgb(36,36,36)",
            "showbackground": true,
            "showgrid": false,
            "showline": true,
            "ticks": "outside",
            "zeroline": false,
            "zerolinecolor": "rgb(36,36,36)"
           },
           "yaxis": {
            "backgroundcolor": "white",
            "gridcolor": "rgb(232,232,232)",
            "gridwidth": 2,
            "linecolor": "rgb(36,36,36)",
            "showbackground": true,
            "showgrid": false,
            "showline": true,
            "ticks": "outside",
            "zeroline": false,
            "zerolinecolor": "rgb(36,36,36)"
           },
           "zaxis": {
            "backgroundcolor": "white",
            "gridcolor": "rgb(232,232,232)",
            "gridwidth": 2,
            "linecolor": "rgb(36,36,36)",
            "showbackground": true,
            "showgrid": false,
            "showline": true,
            "ticks": "outside",
            "zeroline": false,
            "zerolinecolor": "rgb(36,36,36)"
           }
          },
          "shapedefaults": {
           "fillcolor": "black",
           "line": {
            "width": 0
           },
           "opacity": 0.3
          },
          "ternary": {
           "aaxis": {
            "gridcolor": "rgb(232,232,232)",
            "linecolor": "rgb(36,36,36)",
            "showgrid": false,
            "showline": true,
            "ticks": "outside"
           },
           "baxis": {
            "gridcolor": "rgb(232,232,232)",
            "linecolor": "rgb(36,36,36)",
            "showgrid": false,
            "showline": true,
            "ticks": "outside"
           },
           "bgcolor": "white",
           "caxis": {
            "gridcolor": "rgb(232,232,232)",
            "linecolor": "rgb(36,36,36)",
            "showgrid": false,
            "showline": true,
            "ticks": "outside"
           }
          },
          "title": {
           "x": 0.05
          },
          "xaxis": {
           "automargin": true,
           "gridcolor": "rgb(232,232,232)",
           "linecolor": "rgb(36,36,36)",
           "showgrid": false,
           "showline": true,
           "ticks": "outside",
           "title": {
            "standoff": 15
           },
           "zeroline": false,
           "zerolinecolor": "rgb(36,36,36)"
          },
          "yaxis": {
           "automargin": true,
           "gridcolor": "rgb(232,232,232)",
           "linecolor": "rgb(36,36,36)",
           "showgrid": false,
           "showline": true,
           "ticks": "outside",
           "title": {
            "standoff": 15
           },
           "zeroline": false,
           "zerolinecolor": "rgb(36,36,36)"
          }
         }
        },
        "title": {
         "font": {
          "color": "Black",
          "size": 22
         },
         "text": "<b>Documents and Topics</b>",
         "x": 0.5,
         "xanchor": "center",
         "yanchor": "top"
        },
        "width": 1200,
        "xaxis": {
         "visible": false
        },
        "yaxis": {
         "visible": false
        }
       }
      }
     },
     "metadata": {},
     "output_type": "display_data"
    }
   ],
   "source": [
    "topic_model.visualize_documents(docs)"
   ]
  },
  {
   "cell_type": "code",
   "execution_count": 17,
   "metadata": {},
   "outputs": [
    {
     "name": "stderr",
     "output_type": "stream",
     "text": [
      "3it [00:00, 18.01it/s]\n"
     ]
    },
    {
     "data": {
      "application/vnd.plotly.v1+json": {
       "config": {
        "plotlyServerURL": "https://plot.ly"
       },
       "data": [
        {
         "hoverinfo": "text",
         "hovertext": [
          "<b>Topic 0</b><br>Words: dint, , , , ",
          "<b>Topic 0</b><br>Words: dint, , , , ",
          "<b>Topic 0</b><br>Words: dint, , , , "
         ],
         "marker": {
          "color": "#E69F00"
         },
         "name": "0_dint___",
         "orientation": "h",
         "type": "bar",
         "visible": true,
         "x": [
          0.8437788405899801,
          0.4781413430009887,
          0.24375833172599426
         ],
         "y": [
          "OBE2",
          "OBE1",
          "Compassion"
         ]
        },
        {
         "hoverinfo": "text",
         "hovertext": [
          "<b>Topic 1</b><br>Words: meditation, meditation meditation, meditating, meditate, would",
          "<b>Topic 1</b><br>Words: meditation, journey, astral, travel, astral journey",
          "<b>Topic 1</b><br>Words: meditation, towards, compassion, compassionate, compassionate towards"
         ],
         "marker": {
          "color": "#56B4E9"
         },
         "name": "1_meditation_meditation meditation_journ...",
         "orientation": "h",
         "type": "bar",
         "visible": "legendonly",
         "x": [
          0.8760057597568056,
          0.30660201591488195,
          0.3723024478966424
         ],
         "y": [
          "OBE2",
          "OBE1",
          "Compassion"
         ]
        },
        {
         "hoverinfo": "text",
         "hovertext": [
          "<b>Topic 2</b><br>Words: think, think think, thinking, thought, thought would",
          "<b>Topic 2</b><br>Words: think, think think, thought, think isnt, thought pas",
          "<b>Topic 2</b><br>Words: thought, think, think think, thought easy, thought doesnt"
         ],
         "marker": {
          "color": "#009E73"
         },
         "name": "2_think_think think_thinking_thought",
         "orientation": "h",
         "type": "bar",
         "visible": "legendonly",
         "x": [
          0.9605765189189449,
          0.24014412972973623,
          0.14008407567567946
         ],
         "y": [
          "OBE2",
          "OBE1",
          "Compassion"
         ]
        },
        {
         "hoverinfo": "text",
         "hovertext": [
          "<b>Topic 3</b><br>Words: focus, focusing, distracted, concentrate, forget",
          "<b>Topic 3</b><br>Words: focus, could focus, focus something, knew, example feel",
          "<b>Topic 3</b><br>Words: focus, distracted, focusing, get, concentrate"
         ],
         "marker": {
          "color": "#F0E442"
         },
         "name": "3_focus_focusing_distracted_concentrate",
         "orientation": "h",
         "type": "bar",
         "visible": "legendonly",
         "x": [
          0.667438374922596,
          0.18688274497832685,
          0.7208334449164037
         ],
         "y": [
          "OBE2",
          "OBE1",
          "Compassion"
         ]
        },
        {
         "hoverinfo": "text",
         "hovertext": [
          "<b>Topic 4</b><br>Words: eye, eye closed, closed, open, close",
          "<b>Topic 4</b><br>Words: eye, closed, open, eye closed, eye open",
          "<b>Topic 4</b><br>Words: eye, closed, eye closed, open, eye open"
         ],
         "marker": {
          "color": "#D55E00"
         },
         "name": "4_eye_closed_eye closed_open",
         "orientation": "h",
         "type": "bar",
         "visible": "legendonly",
         "x": [
          0.6651414606725905,
          0.3930381358519853,
          0.6349077579147455
         ],
         "y": [
          "OBE2",
          "OBE1",
          "Compassion"
         ]
        },
        {
         "hoverinfo": "text",
         "hovertext": [
          "<b>Topic 5</b><br>Words: one, second one, second, first one, first",
          "<b>Topic 5</b><br>Words: first one, one, first, three also, went one",
          "<b>Topic 5</b><br>Words: second, second one, one, first, condition"
         ],
         "marker": {
          "color": "#0072B2"
         },
         "name": "5_one_second one_second_first one",
         "orientation": "h",
         "type": "bar",
         "visible": "legendonly",
         "x": [
          0.9402330557800264,
          0.18282309417944959,
          0.2872934337105636
         ],
         "y": [
          "OBE2",
          "OBE1",
          "Compassion"
         ]
        },
        {
         "hoverinfo": "text",
         "hovertext": [
          "<b>Topic 6</b><br>Words: mirror, body, seeing, see, seeing body",
          "<b>Topic 6</b><br>Words: body, seeing body, part body, seeing, there",
          "<b>Topic 6</b><br>Words: couldnt see, couldnt, person, still seeing, weird staring"
         ],
         "marker": {
          "color": "#CC79A7"
         },
         "name": "6_mirror_body_seeing_seeing body",
         "orientation": "h",
         "type": "bar",
         "visible": "legendonly",
         "x": [
          0.9598255785917446,
          0.2334710866844784,
          0.15564739112298562
         ],
         "y": [
          "OBE2",
          "OBE1",
          "Compassion"
         ]
        },
        {
         "hoverinfo": "text",
         "hovertext": [
          "<b>Topic 7</b><br>Words: outside, go, mountain, im outside, room",
          "<b>Topic 7</b><br>Words: environment, grass, outside, nature, observing",
          "<b>Topic 7</b><br>Words: place, room, building place, different place, seem one"
         ],
         "marker": {
          "color": "#E69F00"
         },
         "name": "7_outside_environment_go_room",
         "orientation": "h",
         "type": "bar",
         "visible": "legendonly",
         "x": [
          0.9746954552479198,
          0.19993752928162456,
          0.09996876464081228
         ],
         "y": [
          "OBE2",
          "OBE1",
          "Compassion"
         ]
        },
        {
         "hoverinfo": "text",
         "hovertext": [
          "<b>Topic 8</b><br>Words: move, hand, moved, move hand, movement",
          "<b>Topic 8</b><br>Words: platform, hand, moving, movement, move",
          "<b>Topic 8</b><br>Words: hand, saying, raise, helping, place hand"
         ],
         "marker": {
          "color": "#56B4E9"
         },
         "name": "8_hand_move_moved_platform",
         "orientation": "h",
         "type": "bar",
         "visible": "legendonly",
         "x": [
          0.849534582538231,
          0.5097207495229387,
          0.13592553320611697
         ],
         "y": [
          "OBE2",
          "OBE1",
          "Compassion"
         ]
        },
        {
         "hoverinfo": "text",
         "hovertext": [
          "<b>Topic 9</b><br>Words: reality, virtual, virtual reality, illusion, vr",
          "<b>Topic 9</b><br>Words: vr, vr interesting, first section, obviously never, never used",
          "<b>Topic 9</b><br>Words: reality, virtual reality, virtual, disassociate, questionnaire"
         ],
         "marker": {
          "color": "#009E73"
         },
         "name": "9_reality_virtual_virtual reality_vr",
         "orientation": "h",
         "type": "bar",
         "visible": "legendonly",
         "x": [
          0.9696969696969697,
          0.12121212121212122,
          0.21212121212121213
         ],
         "y": [
          "OBE2",
          "OBE1",
          "Compassion"
         ]
        }
       ],
       "layout": {
        "height": 900,
        "hoverlabel": {
         "bgcolor": "white",
         "font": {
          "family": "Rockwell",
          "size": 16
         }
        },
        "legend": {
         "title": {
          "text": "<b>Global Topic Representation"
         }
        },
        "template": {
         "data": {
          "bar": [
           {
            "error_x": {
             "color": "rgb(36,36,36)"
            },
            "error_y": {
             "color": "rgb(36,36,36)"
            },
            "marker": {
             "line": {
              "color": "white",
              "width": 0.5
             },
             "pattern": {
              "fillmode": "overlay",
              "size": 10,
              "solidity": 0.2
             }
            },
            "type": "bar"
           }
          ],
          "barpolar": [
           {
            "marker": {
             "line": {
              "color": "white",
              "width": 0.5
             },
             "pattern": {
              "fillmode": "overlay",
              "size": 10,
              "solidity": 0.2
             }
            },
            "type": "barpolar"
           }
          ],
          "carpet": [
           {
            "aaxis": {
             "endlinecolor": "rgb(36,36,36)",
             "gridcolor": "white",
             "linecolor": "white",
             "minorgridcolor": "white",
             "startlinecolor": "rgb(36,36,36)"
            },
            "baxis": {
             "endlinecolor": "rgb(36,36,36)",
             "gridcolor": "white",
             "linecolor": "white",
             "minorgridcolor": "white",
             "startlinecolor": "rgb(36,36,36)"
            },
            "type": "carpet"
           }
          ],
          "choropleth": [
           {
            "colorbar": {
             "outlinewidth": 1,
             "tickcolor": "rgb(36,36,36)",
             "ticks": "outside"
            },
            "type": "choropleth"
           }
          ],
          "contour": [
           {
            "colorbar": {
             "outlinewidth": 1,
             "tickcolor": "rgb(36,36,36)",
             "ticks": "outside"
            },
            "colorscale": [
             [
              0,
              "#440154"
             ],
             [
              0.1111111111111111,
              "#482878"
             ],
             [
              0.2222222222222222,
              "#3e4989"
             ],
             [
              0.3333333333333333,
              "#31688e"
             ],
             [
              0.4444444444444444,
              "#26828e"
             ],
             [
              0.5555555555555556,
              "#1f9e89"
             ],
             [
              0.6666666666666666,
              "#35b779"
             ],
             [
              0.7777777777777778,
              "#6ece58"
             ],
             [
              0.8888888888888888,
              "#b5de2b"
             ],
             [
              1,
              "#fde725"
             ]
            ],
            "type": "contour"
           }
          ],
          "contourcarpet": [
           {
            "colorbar": {
             "outlinewidth": 1,
             "tickcolor": "rgb(36,36,36)",
             "ticks": "outside"
            },
            "type": "contourcarpet"
           }
          ],
          "heatmap": [
           {
            "colorbar": {
             "outlinewidth": 1,
             "tickcolor": "rgb(36,36,36)",
             "ticks": "outside"
            },
            "colorscale": [
             [
              0,
              "#440154"
             ],
             [
              0.1111111111111111,
              "#482878"
             ],
             [
              0.2222222222222222,
              "#3e4989"
             ],
             [
              0.3333333333333333,
              "#31688e"
             ],
             [
              0.4444444444444444,
              "#26828e"
             ],
             [
              0.5555555555555556,
              "#1f9e89"
             ],
             [
              0.6666666666666666,
              "#35b779"
             ],
             [
              0.7777777777777778,
              "#6ece58"
             ],
             [
              0.8888888888888888,
              "#b5de2b"
             ],
             [
              1,
              "#fde725"
             ]
            ],
            "type": "heatmap"
           }
          ],
          "heatmapgl": [
           {
            "colorbar": {
             "outlinewidth": 1,
             "tickcolor": "rgb(36,36,36)",
             "ticks": "outside"
            },
            "colorscale": [
             [
              0,
              "#440154"
             ],
             [
              0.1111111111111111,
              "#482878"
             ],
             [
              0.2222222222222222,
              "#3e4989"
             ],
             [
              0.3333333333333333,
              "#31688e"
             ],
             [
              0.4444444444444444,
              "#26828e"
             ],
             [
              0.5555555555555556,
              "#1f9e89"
             ],
             [
              0.6666666666666666,
              "#35b779"
             ],
             [
              0.7777777777777778,
              "#6ece58"
             ],
             [
              0.8888888888888888,
              "#b5de2b"
             ],
             [
              1,
              "#fde725"
             ]
            ],
            "type": "heatmapgl"
           }
          ],
          "histogram": [
           {
            "marker": {
             "line": {
              "color": "white",
              "width": 0.6
             }
            },
            "type": "histogram"
           }
          ],
          "histogram2d": [
           {
            "colorbar": {
             "outlinewidth": 1,
             "tickcolor": "rgb(36,36,36)",
             "ticks": "outside"
            },
            "colorscale": [
             [
              0,
              "#440154"
             ],
             [
              0.1111111111111111,
              "#482878"
             ],
             [
              0.2222222222222222,
              "#3e4989"
             ],
             [
              0.3333333333333333,
              "#31688e"
             ],
             [
              0.4444444444444444,
              "#26828e"
             ],
             [
              0.5555555555555556,
              "#1f9e89"
             ],
             [
              0.6666666666666666,
              "#35b779"
             ],
             [
              0.7777777777777778,
              "#6ece58"
             ],
             [
              0.8888888888888888,
              "#b5de2b"
             ],
             [
              1,
              "#fde725"
             ]
            ],
            "type": "histogram2d"
           }
          ],
          "histogram2dcontour": [
           {
            "colorbar": {
             "outlinewidth": 1,
             "tickcolor": "rgb(36,36,36)",
             "ticks": "outside"
            },
            "colorscale": [
             [
              0,
              "#440154"
             ],
             [
              0.1111111111111111,
              "#482878"
             ],
             [
              0.2222222222222222,
              "#3e4989"
             ],
             [
              0.3333333333333333,
              "#31688e"
             ],
             [
              0.4444444444444444,
              "#26828e"
             ],
             [
              0.5555555555555556,
              "#1f9e89"
             ],
             [
              0.6666666666666666,
              "#35b779"
             ],
             [
              0.7777777777777778,
              "#6ece58"
             ],
             [
              0.8888888888888888,
              "#b5de2b"
             ],
             [
              1,
              "#fde725"
             ]
            ],
            "type": "histogram2dcontour"
           }
          ],
          "mesh3d": [
           {
            "colorbar": {
             "outlinewidth": 1,
             "tickcolor": "rgb(36,36,36)",
             "ticks": "outside"
            },
            "type": "mesh3d"
           }
          ],
          "parcoords": [
           {
            "line": {
             "colorbar": {
              "outlinewidth": 1,
              "tickcolor": "rgb(36,36,36)",
              "ticks": "outside"
             }
            },
            "type": "parcoords"
           }
          ],
          "pie": [
           {
            "automargin": true,
            "type": "pie"
           }
          ],
          "scatter": [
           {
            "fillpattern": {
             "fillmode": "overlay",
             "size": 10,
             "solidity": 0.2
            },
            "type": "scatter"
           }
          ],
          "scatter3d": [
           {
            "line": {
             "colorbar": {
              "outlinewidth": 1,
              "tickcolor": "rgb(36,36,36)",
              "ticks": "outside"
             }
            },
            "marker": {
             "colorbar": {
              "outlinewidth": 1,
              "tickcolor": "rgb(36,36,36)",
              "ticks": "outside"
             }
            },
            "type": "scatter3d"
           }
          ],
          "scattercarpet": [
           {
            "marker": {
             "colorbar": {
              "outlinewidth": 1,
              "tickcolor": "rgb(36,36,36)",
              "ticks": "outside"
             }
            },
            "type": "scattercarpet"
           }
          ],
          "scattergeo": [
           {
            "marker": {
             "colorbar": {
              "outlinewidth": 1,
              "tickcolor": "rgb(36,36,36)",
              "ticks": "outside"
             }
            },
            "type": "scattergeo"
           }
          ],
          "scattergl": [
           {
            "marker": {
             "colorbar": {
              "outlinewidth": 1,
              "tickcolor": "rgb(36,36,36)",
              "ticks": "outside"
             }
            },
            "type": "scattergl"
           }
          ],
          "scattermapbox": [
           {
            "marker": {
             "colorbar": {
              "outlinewidth": 1,
              "tickcolor": "rgb(36,36,36)",
              "ticks": "outside"
             }
            },
            "type": "scattermapbox"
           }
          ],
          "scatterpolar": [
           {
            "marker": {
             "colorbar": {
              "outlinewidth": 1,
              "tickcolor": "rgb(36,36,36)",
              "ticks": "outside"
             }
            },
            "type": "scatterpolar"
           }
          ],
          "scatterpolargl": [
           {
            "marker": {
             "colorbar": {
              "outlinewidth": 1,
              "tickcolor": "rgb(36,36,36)",
              "ticks": "outside"
             }
            },
            "type": "scatterpolargl"
           }
          ],
          "scatterternary": [
           {
            "marker": {
             "colorbar": {
              "outlinewidth": 1,
              "tickcolor": "rgb(36,36,36)",
              "ticks": "outside"
             }
            },
            "type": "scatterternary"
           }
          ],
          "surface": [
           {
            "colorbar": {
             "outlinewidth": 1,
             "tickcolor": "rgb(36,36,36)",
             "ticks": "outside"
            },
            "colorscale": [
             [
              0,
              "#440154"
             ],
             [
              0.1111111111111111,
              "#482878"
             ],
             [
              0.2222222222222222,
              "#3e4989"
             ],
             [
              0.3333333333333333,
              "#31688e"
             ],
             [
              0.4444444444444444,
              "#26828e"
             ],
             [
              0.5555555555555556,
              "#1f9e89"
             ],
             [
              0.6666666666666666,
              "#35b779"
             ],
             [
              0.7777777777777778,
              "#6ece58"
             ],
             [
              0.8888888888888888,
              "#b5de2b"
             ],
             [
              1,
              "#fde725"
             ]
            ],
            "type": "surface"
           }
          ],
          "table": [
           {
            "cells": {
             "fill": {
              "color": "rgb(237,237,237)"
             },
             "line": {
              "color": "white"
             }
            },
            "header": {
             "fill": {
              "color": "rgb(217,217,217)"
             },
             "line": {
              "color": "white"
             }
            },
            "type": "table"
           }
          ]
         },
         "layout": {
          "annotationdefaults": {
           "arrowhead": 0,
           "arrowwidth": 1
          },
          "autotypenumbers": "strict",
          "coloraxis": {
           "colorbar": {
            "outlinewidth": 1,
            "tickcolor": "rgb(36,36,36)",
            "ticks": "outside"
           }
          },
          "colorscale": {
           "diverging": [
            [
             0,
             "rgb(103,0,31)"
            ],
            [
             0.1,
             "rgb(178,24,43)"
            ],
            [
             0.2,
             "rgb(214,96,77)"
            ],
            [
             0.3,
             "rgb(244,165,130)"
            ],
            [
             0.4,
             "rgb(253,219,199)"
            ],
            [
             0.5,
             "rgb(247,247,247)"
            ],
            [
             0.6,
             "rgb(209,229,240)"
            ],
            [
             0.7,
             "rgb(146,197,222)"
            ],
            [
             0.8,
             "rgb(67,147,195)"
            ],
            [
             0.9,
             "rgb(33,102,172)"
            ],
            [
             1,
             "rgb(5,48,97)"
            ]
           ],
           "sequential": [
            [
             0,
             "#440154"
            ],
            [
             0.1111111111111111,
             "#482878"
            ],
            [
             0.2222222222222222,
             "#3e4989"
            ],
            [
             0.3333333333333333,
             "#31688e"
            ],
            [
             0.4444444444444444,
             "#26828e"
            ],
            [
             0.5555555555555556,
             "#1f9e89"
            ],
            [
             0.6666666666666666,
             "#35b779"
            ],
            [
             0.7777777777777778,
             "#6ece58"
            ],
            [
             0.8888888888888888,
             "#b5de2b"
            ],
            [
             1,
             "#fde725"
            ]
           ],
           "sequentialminus": [
            [
             0,
             "#440154"
            ],
            [
             0.1111111111111111,
             "#482878"
            ],
            [
             0.2222222222222222,
             "#3e4989"
            ],
            [
             0.3333333333333333,
             "#31688e"
            ],
            [
             0.4444444444444444,
             "#26828e"
            ],
            [
             0.5555555555555556,
             "#1f9e89"
            ],
            [
             0.6666666666666666,
             "#35b779"
            ],
            [
             0.7777777777777778,
             "#6ece58"
            ],
            [
             0.8888888888888888,
             "#b5de2b"
            ],
            [
             1,
             "#fde725"
            ]
           ]
          },
          "colorway": [
           "#1F77B4",
           "#FF7F0E",
           "#2CA02C",
           "#D62728",
           "#9467BD",
           "#8C564B",
           "#E377C2",
           "#7F7F7F",
           "#BCBD22",
           "#17BECF"
          ],
          "font": {
           "color": "rgb(36,36,36)"
          },
          "geo": {
           "bgcolor": "white",
           "lakecolor": "white",
           "landcolor": "white",
           "showlakes": true,
           "showland": true,
           "subunitcolor": "white"
          },
          "hoverlabel": {
           "align": "left"
          },
          "hovermode": "closest",
          "mapbox": {
           "style": "light"
          },
          "paper_bgcolor": "white",
          "plot_bgcolor": "white",
          "polar": {
           "angularaxis": {
            "gridcolor": "rgb(232,232,232)",
            "linecolor": "rgb(36,36,36)",
            "showgrid": false,
            "showline": true,
            "ticks": "outside"
           },
           "bgcolor": "white",
           "radialaxis": {
            "gridcolor": "rgb(232,232,232)",
            "linecolor": "rgb(36,36,36)",
            "showgrid": false,
            "showline": true,
            "ticks": "outside"
           }
          },
          "scene": {
           "xaxis": {
            "backgroundcolor": "white",
            "gridcolor": "rgb(232,232,232)",
            "gridwidth": 2,
            "linecolor": "rgb(36,36,36)",
            "showbackground": true,
            "showgrid": false,
            "showline": true,
            "ticks": "outside",
            "zeroline": false,
            "zerolinecolor": "rgb(36,36,36)"
           },
           "yaxis": {
            "backgroundcolor": "white",
            "gridcolor": "rgb(232,232,232)",
            "gridwidth": 2,
            "linecolor": "rgb(36,36,36)",
            "showbackground": true,
            "showgrid": false,
            "showline": true,
            "ticks": "outside",
            "zeroline": false,
            "zerolinecolor": "rgb(36,36,36)"
           },
           "zaxis": {
            "backgroundcolor": "white",
            "gridcolor": "rgb(232,232,232)",
            "gridwidth": 2,
            "linecolor": "rgb(36,36,36)",
            "showbackground": true,
            "showgrid": false,
            "showline": true,
            "ticks": "outside",
            "zeroline": false,
            "zerolinecolor": "rgb(36,36,36)"
           }
          },
          "shapedefaults": {
           "fillcolor": "black",
           "line": {
            "width": 0
           },
           "opacity": 0.3
          },
          "ternary": {
           "aaxis": {
            "gridcolor": "rgb(232,232,232)",
            "linecolor": "rgb(36,36,36)",
            "showgrid": false,
            "showline": true,
            "ticks": "outside"
           },
           "baxis": {
            "gridcolor": "rgb(232,232,232)",
            "linecolor": "rgb(36,36,36)",
            "showgrid": false,
            "showline": true,
            "ticks": "outside"
           },
           "bgcolor": "white",
           "caxis": {
            "gridcolor": "rgb(232,232,232)",
            "linecolor": "rgb(36,36,36)",
            "showgrid": false,
            "showline": true,
            "ticks": "outside"
           }
          },
          "title": {
           "x": 0.05
          },
          "xaxis": {
           "automargin": true,
           "gridcolor": "rgb(232,232,232)",
           "linecolor": "rgb(36,36,36)",
           "showgrid": false,
           "showline": true,
           "ticks": "outside",
           "title": {
            "standoff": 15
           },
           "zeroline": false,
           "zerolinecolor": "rgb(36,36,36)"
          },
          "yaxis": {
           "automargin": true,
           "gridcolor": "rgb(232,232,232)",
           "linecolor": "rgb(36,36,36)",
           "showgrid": false,
           "showline": true,
           "ticks": "outside",
           "title": {
            "standoff": 15
           },
           "zeroline": false,
           "zerolinecolor": "rgb(36,36,36)"
          }
         }
        },
        "title": {
         "font": {
          "color": "Black",
          "size": 22
         },
         "text": "<b>Topics per Class</b>",
         "x": 0.4,
         "xanchor": "center",
         "y": 0.95,
         "yanchor": "top"
        },
        "width": 1250,
        "xaxis": {
         "showgrid": true,
         "title": {
          "text": "Normalized Frequency"
         }
        },
        "yaxis": {
         "showgrid": true,
         "title": {
          "text": "Class"
         }
        }
       }
      }
     },
     "metadata": {},
     "output_type": "display_data"
    }
   ],
   "source": [
    "topics_per_class = topic_model.topics_per_class(docs, classes=df.Experiment)\n",
    "topic_model.visualize_topics_per_class(topics_per_class, top_n_topics=10,normalize_frequency = True)"
   ]
  },
  {
   "cell_type": "markdown",
   "metadata": {},
   "source": [
    "## Play with Hyperparametes"
   ]
  },
  {
   "cell_type": "code",
   "execution_count": 76,
   "metadata": {},
   "outputs": [
    {
     "name": "stdout",
     "output_type": "stream",
     "text": [
      "4031\n"
     ]
    }
   ],
   "source": [
    "docs = list(df_all.Content)\n",
    "print(len(docs))"
   ]
  },
  {
   "cell_type": "code",
   "execution_count": null,
   "metadata": {},
   "outputs": [],
   "source": [
    "from bertopic.representation import KeyBERTInspired, PartOfSpeech, MaximalMarginalRelevance\n",
    "\n",
    "main_representation_model = KeyBERTInspired()\n",
    "aspect_representation_model1 = PartOfSpeech(\"en_core_web_sm\")\n",
    "aspect_representation_model2 = [KeyBERTInspired(top_n_words=30), \n",
    "                                MaximalMarginalRelevance(diversity=.5)]\n",
    "\n",
    "representation_model = {\n",
    "   \"Main\": main_representation_model,\n",
    "   \"Aspect1\":  aspect_representation_model1,\n",
    "   \"Aspect2\":  aspect_representation_model2 \n",
    "}\n",
    "\n",
    "vectorizer_model = CountVectorizer(min_df=5, stop_words = 'english', ngram_range=(1, 2))\n",
    "\n",
    "topic_model = BERTopic(nr_topics = 'auto', \n",
    "                      vectorizer_model = vectorizer_model,\n",
    "                      representation_model = representation_model)\n",
    "\n",
    "topics, ini_probs = topic_model.fit_transform(docs)"
   ]
  },
  {
   "cell_type": "code",
   "execution_count": 78,
   "metadata": {},
   "outputs": [
    {
     "data": {
      "text/html": [
       "<div>\n",
       "<style scoped>\n",
       "    .dataframe tbody tr th:only-of-type {\n",
       "        vertical-align: middle;\n",
       "    }\n",
       "\n",
       "    .dataframe tbody tr th {\n",
       "        vertical-align: top;\n",
       "    }\n",
       "\n",
       "    .dataframe thead th {\n",
       "        text-align: right;\n",
       "    }\n",
       "</style>\n",
       "<table border=\"1\" class=\"dataframe\">\n",
       "  <thead>\n",
       "    <tr style=\"text-align: right;\">\n",
       "      <th></th>\n",
       "      <th>Count</th>\n",
       "      <th>Share</th>\n",
       "      <th>CumulativeShare</th>\n",
       "      <th>Name</th>\n",
       "      <th>Representation</th>\n",
       "      <th>Aspect1</th>\n",
       "      <th>Aspect2</th>\n",
       "    </tr>\n",
       "    <tr>\n",
       "      <th>Topic</th>\n",
       "      <th></th>\n",
       "      <th></th>\n",
       "      <th></th>\n",
       "      <th></th>\n",
       "      <th></th>\n",
       "      <th></th>\n",
       "      <th></th>\n",
       "    </tr>\n",
       "  </thead>\n",
       "  <tbody>\n",
       "    <tr>\n",
       "      <th>-1</th>\n",
       "      <td>1335</td>\n",
       "      <td>33.118333</td>\n",
       "      <td>33.118333</td>\n",
       "      <td>-1_felt like_felt_feel like_feel</td>\n",
       "      <td>[felt like, felt, feel like, feel, feeling, se...</td>\n",
       "      <td>[body, eyes, feeling, kind, real, things, bit,...</td>\n",
       "      <td>[felt, feel like, sensation, feelings, experie...</td>\n",
       "    </tr>\n",
       "    <tr>\n",
       "      <th>0</th>\n",
       "      <td>1042</td>\n",
       "      <td>25.849665</td>\n",
       "      <td>58.967998</td>\n",
       "      <td>0_felt like_feel like_felt_feeling</td>\n",
       "      <td>[felt like, feel like, felt, feeling, did feel...</td>\n",
       "      <td>[body, experience, nice, bit, interesting, str...</td>\n",
       "      <td>[feel like, felt, sensation, experience, body,...</td>\n",
       "    </tr>\n",
       "    <tr>\n",
       "      <th>1</th>\n",
       "      <td>382</td>\n",
       "      <td>9.476557</td>\n",
       "      <td>68.444555</td>\n",
       "      <td>1_okay okay_okay_okay yeah_okay just</td>\n",
       "      <td>[okay okay, okay, okay yeah, okay just, yeah o...</td>\n",
       "      <td>[general, course, way, example, thing, , , , , ]</td>\n",
       "      <td>[okay okay, okay just, okay dont, great okay, ...</td>\n",
       "    </tr>\n",
       "    <tr>\n",
       "      <th>2</th>\n",
       "      <td>189</td>\n",
       "      <td>4.688663</td>\n",
       "      <td>73.133218</td>\n",
       "      <td>2_meditation_relaxed_mind_felt</td>\n",
       "      <td>[meditation, relaxed, mind, felt, relax, think...</td>\n",
       "      <td>[meditation, relaxed, experience, different, v...</td>\n",
       "      <td>[meditation, mind, practice, body like, scene,...</td>\n",
       "    </tr>\n",
       "    <tr>\n",
       "      <th>3</th>\n",
       "      <td>87</td>\n",
       "      <td>2.158273</td>\n",
       "      <td>75.291491</td>\n",
       "      <td>3_thinking_like think_thoughts_mind</td>\n",
       "      <td>[thinking, like think, thoughts, mind, think, ...</td>\n",
       "      <td>[focus, mind, brain, stuff, head, lot, able, i...</td>\n",
       "      <td>[thinking, like think, relax, yeah maybe, focu...</td>\n",
       "    </tr>\n",
       "    <tr>\n",
       "      <th>4</th>\n",
       "      <td>68</td>\n",
       "      <td>1.686926</td>\n",
       "      <td>76.978417</td>\n",
       "      <td>4_questions_ask_asked_question</td>\n",
       "      <td>[questions, ask, asked, question, things, answ...</td>\n",
       "      <td>[questions, question, great, thoughts, clear, ...</td>\n",
       "      <td>[ask, things, talk, great okay, let know, dont...</td>\n",
       "    </tr>\n",
       "    <tr>\n",
       "      <th>5</th>\n",
       "      <td>63</td>\n",
       "      <td>1.562888</td>\n",
       "      <td>78.541305</td>\n",
       "      <td>5_moving_hand_felt_felt like</td>\n",
       "      <td>[moving, hand, felt, felt like, feel like, try...</td>\n",
       "      <td>[hand, time, times, way, real, place, fact, st...</td>\n",
       "      <td>[moving, hand, felt, strange, like time, obser...</td>\n",
       "    </tr>\n",
       "    <tr>\n",
       "      <th>6</th>\n",
       "      <td>49</td>\n",
       "      <td>1.215579</td>\n",
       "      <td>79.756884</td>\n",
       "      <td>6_second_second time_scene_difference</td>\n",
       "      <td>[second, second time, scene, difference, diffe...</td>\n",
       "      <td>[second, difference, time, easier, parts, view...</td>\n",
       "      <td>[second time, scene, focused, time, easier, vi...</td>\n",
       "    </tr>\n",
       "    <tr>\n",
       "      <th>7</th>\n",
       "      <td>44</td>\n",
       "      <td>1.091541</td>\n",
       "      <td>80.848425</td>\n",
       "      <td>7_reality_focus_thinking_brain</td>\n",
       "      <td>[reality, focus, thinking, brain, meditation, ...</td>\n",
       "      <td>[reality, room, kind, people, things, focus, b...</td>\n",
       "      <td>[focus, brain, meditation, experience, like th...</td>\n",
       "    </tr>\n",
       "    <tr>\n",
       "      <th>8</th>\n",
       "      <td>39</td>\n",
       "      <td>0.967502</td>\n",
       "      <td>81.815927</td>\n",
       "      <td>8_dont know_dont think_im sure_ask</td>\n",
       "      <td>[dont know, dont think, im sure, ask, question...</td>\n",
       "      <td>[sure, small, question, , , , , , , ]</td>\n",
       "      <td>[dont know, dont think, im sure, ask, question...</td>\n",
       "    </tr>\n",
       "  </tbody>\n",
       "</table>\n",
       "</div>"
      ],
      "text/plain": [
       "       Count      Share  CumulativeShare  \\\n",
       "Topic                                      \n",
       "-1      1335  33.118333        33.118333   \n",
       " 0      1042  25.849665        58.967998   \n",
       " 1       382   9.476557        68.444555   \n",
       " 2       189   4.688663        73.133218   \n",
       " 3        87   2.158273        75.291491   \n",
       " 4        68   1.686926        76.978417   \n",
       " 5        63   1.562888        78.541305   \n",
       " 6        49   1.215579        79.756884   \n",
       " 7        44   1.091541        80.848425   \n",
       " 8        39   0.967502        81.815927   \n",
       "\n",
       "                                        Name  \\\n",
       "Topic                                          \n",
       "-1          -1_felt like_felt_feel like_feel   \n",
       " 0        0_felt like_feel like_felt_feeling   \n",
       " 1      1_okay okay_okay_okay yeah_okay just   \n",
       " 2            2_meditation_relaxed_mind_felt   \n",
       " 3       3_thinking_like think_thoughts_mind   \n",
       " 4            4_questions_ask_asked_question   \n",
       " 5              5_moving_hand_felt_felt like   \n",
       " 6     6_second_second time_scene_difference   \n",
       " 7            7_reality_focus_thinking_brain   \n",
       " 8        8_dont know_dont think_im sure_ask   \n",
       "\n",
       "                                          Representation  \\\n",
       "Topic                                                      \n",
       "-1     [felt like, felt, feel like, feel, feeling, se...   \n",
       " 0     [felt like, feel like, felt, feeling, did feel...   \n",
       " 1     [okay okay, okay, okay yeah, okay just, yeah o...   \n",
       " 2     [meditation, relaxed, mind, felt, relax, think...   \n",
       " 3     [thinking, like think, thoughts, mind, think, ...   \n",
       " 4     [questions, ask, asked, question, things, answ...   \n",
       " 5     [moving, hand, felt, felt like, feel like, try...   \n",
       " 6     [second, second time, scene, difference, diffe...   \n",
       " 7     [reality, focus, thinking, brain, meditation, ...   \n",
       " 8     [dont know, dont think, im sure, ask, question...   \n",
       "\n",
       "                                                 Aspect1  \\\n",
       "Topic                                                      \n",
       "-1     [body, eyes, feeling, kind, real, things, bit,...   \n",
       " 0     [body, experience, nice, bit, interesting, str...   \n",
       " 1      [general, course, way, example, thing, , , , , ]   \n",
       " 2     [meditation, relaxed, experience, different, v...   \n",
       " 3     [focus, mind, brain, stuff, head, lot, able, i...   \n",
       " 4     [questions, question, great, thoughts, clear, ...   \n",
       " 5     [hand, time, times, way, real, place, fact, st...   \n",
       " 6     [second, difference, time, easier, parts, view...   \n",
       " 7     [reality, room, kind, people, things, focus, b...   \n",
       " 8                 [sure, small, question, , , , , , , ]   \n",
       "\n",
       "                                                 Aspect2  \n",
       "Topic                                                     \n",
       "-1     [felt, feel like, sensation, feelings, experie...  \n",
       " 0     [feel like, felt, sensation, experience, body,...  \n",
       " 1     [okay okay, okay just, okay dont, great okay, ...  \n",
       " 2     [meditation, mind, practice, body like, scene,...  \n",
       " 3     [thinking, like think, relax, yeah maybe, focu...  \n",
       " 4     [ask, things, talk, great okay, let know, dont...  \n",
       " 5     [moving, hand, felt, strange, like time, obser...  \n",
       " 6     [second time, scene, focused, time, easier, vi...  \n",
       " 7     [focus, brain, meditation, experience, like th...  \n",
       " 8     [dont know, dont think, im sure, ask, question...  "
      ]
     },
     "execution_count": 78,
     "metadata": {},
     "output_type": "execute_result"
    }
   ],
   "source": [
    "def get_topic_stats(topic_model, extra_cols = []):\n",
    "    topics_info_df = topic_model.get_topic_info().sort_values('Count', ascending = False)\n",
    "    topics_info_df['Share'] = 100.*topics_info_df['Count']/topics_info_df['Count'].sum()\n",
    "    topics_info_df['CumulativeShare'] = 100.*topics_info_df['Count'].cumsum()/topics_info_df['Count'].sum()\n",
    "    return topics_info_df[['Topic', 'Count', 'Share', 'CumulativeShare', \n",
    "                           'Name', 'Representation'] + extra_cols]\n",
    "\n",
    "get_topic_stats(topic_model, ['Aspect1', 'Aspect2']).head(10)\\\n",
    "    .set_index('Topic')"
   ]
  },
  {
   "cell_type": "code",
   "execution_count": 79,
   "metadata": {},
   "outputs": [
    {
     "data": {
      "text/plain": [
       "45"
      ]
     },
     "execution_count": 79,
     "metadata": {},
     "output_type": "execute_result"
    }
   ],
   "source": [
    "num_topics = len(topic_model.get_topics()) - 1\n",
    "num_topics"
   ]
  },
  {
   "cell_type": "code",
   "execution_count": 81,
   "metadata": {},
   "outputs": [
    {
     "data": {
      "application/vnd.plotly.v1+json": {
       "config": {
        "plotlyServerURL": "https://plot.ly"
       },
       "data": [
        {
         "marker": {
          "color": "#D55E00"
         },
         "orientation": "h",
         "type": "bar",
         "x": [
          0.32636234164237976,
          0.32951486110687256,
          0.4032942056655884,
          0.4265215992927551,
          0.46111994981765747,
          0.4620175361633301,
          0.4862140715122223,
          0.49984824657440186,
          0.5014772415161133,
          0.5134792923927307
         ],
         "xaxis": "x",
         "y": [
          "body like  ",
          "really like  ",
          "sensation  ",
          "didnt feel  ",
          "feel  ",
          "did feel  ",
          "feeling  ",
          "felt  ",
          "feel like  ",
          "felt like  "
         ],
         "yaxis": "y"
        },
        {
         "marker": {
          "color": "#0072B2"
         },
         "orientation": "h",
         "type": "bar",
         "x": [
          0.5016574859619141,
          0.5365264415740967,
          0.5372980833053589,
          0.5595468282699585,
          0.5700794458389282,
          0.5943657755851746,
          0.5969417095184326,
          0.6213129758834839,
          0.739344596862793,
          0.7802163362503052
         ],
         "xaxis": "x2",
         "y": [
          "yes okay  ",
          "okay like  ",
          "great okay  ",
          "okay yes  ",
          "okay dont  ",
          "yeah okay  ",
          "okay just  ",
          "okay yeah  ",
          "okay  ",
          "okay okay  "
         ],
         "yaxis": "y2"
        },
        {
         "marker": {
          "color": "#CC79A7"
         },
         "orientation": "h",
         "type": "bar",
         "x": [
          0.30011266469955444,
          0.30207446217536926,
          0.3266434073448181,
          0.336375892162323,
          0.3555428981781006,
          0.3574920892715454,
          0.3598249852657318,
          0.3764868378639221,
          0.414543092250824,
          0.8636895418167114
         ],
         "xaxis": "x3",
         "y": [
          "control  ",
          "felt like  ",
          "practice  ",
          "thoughts  ",
          "thinking  ",
          "relax  ",
          "felt  ",
          "mind  ",
          "relaxed  ",
          "meditation  "
         ],
         "yaxis": "y3"
        },
        {
         "marker": {
          "color": "#E69F00"
         },
         "orientation": "h",
         "type": "bar",
         "x": [
          0.3158832788467407,
          0.32985836267471313,
          0.37453794479370117,
          0.37760311365127563,
          0.3808377683162689,
          0.44687968492507935,
          0.4584548771381378,
          0.4818926751613617,
          0.4882555902004242,
          0.591541051864624
         ],
         "xaxis": "x4",
         "y": [
          "relax  ",
          "idea  ",
          "wonder  ",
          "yeah think  ",
          "wondering  ",
          "think  ",
          "mind  ",
          "thoughts  ",
          "like think  ",
          "thinking  "
         ],
         "yaxis": "y4"
        },
        {
         "marker": {
          "color": "#56B4E9"
         },
         "orientation": "h",
         "type": "bar",
         "x": [
          0.305949330329895,
          0.314479261636734,
          0.314904123544693,
          0.31999140977859497,
          0.3212883472442627,
          0.35071417689323425,
          0.3665566146373749,
          0.49348777532577515,
          0.5605739951133728,
          0.6856170892715454
         ],
         "xaxis": "x5",
         "y": [
          "yeah okay  ",
          "great okay  ",
          "talk  ",
          "okay  ",
          "answer  ",
          "things  ",
          "question  ",
          "asked  ",
          "ask  ",
          "questions  "
         ],
         "yaxis": "y5"
        },
        {
         "marker": {
          "color": "#009E73"
         },
         "orientation": "h",
         "type": "bar",
         "x": [
          0.2264614701271057,
          0.2316587120294571,
          0.2547440826892853,
          0.25626543164253235,
          0.2609010338783264,
          0.27151575684547424,
          0.30140525102615356,
          0.3130373954772949,
          0.33906668424606323,
          0.5223070383071899
         ],
         "xaxis": "x6",
         "y": [
          "body  ",
          "observe  ",
          "like time  ",
          "strange  ",
          "try  ",
          "feel like  ",
          "felt like  ",
          "felt  ",
          "hand  ",
          "moving  "
         ],
         "yaxis": "y6"
        },
        {
         "marker": {
          "color": "#F0E442"
         },
         "orientation": "h",
         "type": "bar",
         "x": [
          0.2369641661643982,
          0.25345689058303833,
          0.25467467308044434,
          0.25486594438552856,
          0.28030163049697876,
          0.28756049275398254,
          0.3621339797973633,
          0.36804652214050293,
          0.4123780131340027,
          0.501219630241394
         ],
         "xaxis": "x7",
         "y": [
          "better  ",
          "prefer  ",
          "yeah  ",
          "place  ",
          "yes  ",
          "different  ",
          "difference  ",
          "scene  ",
          "second time  ",
          "second  "
         ],
         "yaxis": "y7"
        },
        {
         "marker": {
          "color": "#D55E00"
         },
         "orientation": "h",
         "type": "bar",
         "x": [
          0.3386143445968628,
          0.33890455961227417,
          0.34650328755378723,
          0.35604432225227356,
          0.37467262148857117,
          0.3771085739135742,
          0.39150571823120117,
          0.40653589367866516,
          0.469388484954834,
          0.6004692912101746
         ],
         "xaxis": "x8",
         "y": [
          "life  ",
          "focused  ",
          "things  ",
          "experience  ",
          "imagine  ",
          "meditation  ",
          "brain  ",
          "thinking  ",
          "focus  ",
          "reality  "
         ],
         "yaxis": "y8"
        },
        {
         "marker": {
          "color": "#0072B2"
         },
         "orientation": "h",
         "type": "bar",
         "x": [
          0.23649996519088745,
          0.25720682740211487,
          0.27054184675216675,
          0.2717822194099426,
          0.27272531390190125,
          0.28693297505378723,
          0.3205745220184326,
          0.32060039043426514,
          0.3824142813682556,
          0.6527110934257507
         ],
         "xaxis": "x9",
         "y": [
          "  ",
          "asked  ",
          "yeah maybe  ",
          "probably  ",
          "maybe  ",
          "question  ",
          "ask  ",
          "im sure  ",
          "dont think  ",
          "dont know  "
         ],
         "yaxis": "y9"
        },
        {
         "marker": {
          "color": "#CC79A7"
         },
         "orientation": "h",
         "type": "bar",
         "x": [
          0.2274075448513031,
          0.23353256285190582,
          0.23539580404758453,
          0.24769338965415955,
          0.25361835956573486,
          0.47703680396080017,
          0.5118880271911621,
          0.5662500858306885,
          0.6459403038024902,
          0.7005406618118286
         ],
         "xaxis": "x10",
         "y": [
          "like really  ",
          "know  ",
          "really  ",
          "practice  ",
          "quite  ",
          "easy  ",
          "hard  ",
          "harder  ",
          "easier  ",
          "difficult  "
         ],
         "yaxis": "y10"
        },
        {
         "marker": {
          "color": "#E69F00"
         },
         "orientation": "h",
         "type": "bar",
         "x": [
          0.2555105686187744,
          0.26355990767478943,
          0.26442527770996094,
          0.26621201634407043,
          0.26842600107192993,
          0.30994367599487305,
          0.5245984196662903,
          0.5312069654464722,
          0.6331140398979187,
          0.6744382381439209
         ],
         "xaxis": "x11",
         "y": [
          "okay did  ",
          "actually  ",
          "realize  ",
          "didnt  ",
          "yeah  ",
          "didnt didnt  ",
          "noticed  ",
          "notice  ",
          "did notice  ",
          "didnt notice  "
         ],
         "yaxis": "y11"
        },
        {
         "marker": {
          "color": "#56B4E9"
         },
         "orientation": "h",
         "type": "bar",
         "x": [
          0.28280875086784363,
          0.2967451214790344,
          0.30233830213546753,
          0.3094477653503418,
          0.3170274496078491,
          0.3179808259010315,
          0.32528287172317505,
          0.3607660233974457,
          0.4969196915626526,
          0.5858116745948792
         ],
         "xaxis": "x12",
         "y": [
          "bit  ",
          "example  ",
          "mean  ",
          "mean yeah  ",
          "ive  ",
          "okay  ",
          "course  ",
          "yeah  ",
          "understood  ",
          "understand  "
         ],
         "yaxis": "y12"
        },
        {
         "marker": {
          "color": "#009E73"
         },
         "orientation": "h",
         "type": "bar",
         "x": [
          0.25283312797546387,
          0.2567107081413269,
          0.2589837908744812,
          0.2703949213027954,
          0.2757279872894287,
          0.31499987840652466,
          0.3254687190055847,
          0.327928364276886,
          0.3336031436920166,
          0.7535437941551208
         ],
         "xaxis": "x13",
         "y": [
          "think like  ",
          "moment  ",
          "maybe like  ",
          "middle  ",
          "yes  ",
          "like  ",
          "end  ",
          "later  ",
          "just  ",
          "beginning  "
         ],
         "yaxis": "y13"
        },
        {
         "marker": {
          "color": "#F0E442"
         },
         "orientation": "h",
         "type": "bar",
         "x": [
          0.1921272873878479,
          0.1928558051586151,
          0.19618451595306396,
          0.2013176530599594,
          0.20466376841068268,
          0.23675838112831116,
          0.3192307949066162,
          0.4028266370296478,
          0.5672926902770996,
          0.6010690927505493
         ],
         "xaxis": "x14",
         "y": [
          "prefer  ",
          "like  ",
          "just  ",
          "know  ",
          "okay like  ",
          "easier  ",
          "maybe  ",
          "okay maybe  ",
          "sitting  ",
          "sit  "
         ],
         "yaxis": "y14"
        },
        {
         "marker": {
          "color": "#D55E00"
         },
         "orientation": "h",
         "type": "bar",
         "x": [
          0.2527918815612793,
          0.27318936586380005,
          0.27702438831329346,
          0.291223406791687,
          0.3073667883872986,
          0.3299527168273926,
          0.3446654677391052,
          0.3532092273235321,
          0.3952706456184387,
          0.40786314010620117
         ],
         "xaxis": "x15",
         "y": [
          "little bit  ",
          "later  ",
          "good  ",
          "did  ",
          "feel  ",
          "eyes closed  ",
          "felt  ",
          "relaxed  ",
          "did feel  ",
          "felt like  "
         ],
         "yaxis": "y15"
        },
        {
         "marker": {
          "color": "#0072B2"
         },
         "orientation": "h",
         "type": "bar",
         "x": [
          0.19609323143959045,
          0.20107491314411163,
          0.20983251929283142,
          0.23486468195915222,
          0.23631083965301514,
          0.2377835065126419,
          0.25584858655929565,
          0.2759357690811157,
          0.2777644991874695,
          0.6503281593322754
         ],
         "xaxis": "x16",
         "y": [
          "right  ",
          "just  ",
          "yeah  ",
          "like think  ",
          "like  ",
          "really like  ",
          "yes  ",
          "attention  ",
          "just like  ",
          "voice  "
         ],
         "yaxis": "y16"
        }
       ],
       "layout": {
        "annotations": [
         {
          "font": {
           "size": 16
          },
          "showarrow": false,
          "text": "Topic 0",
          "x": 0.0875,
          "xanchor": "center",
          "xref": "paper",
          "y": 1,
          "yanchor": "bottom",
          "yref": "paper"
         },
         {
          "font": {
           "size": 16
          },
          "showarrow": false,
          "text": "Topic 1",
          "x": 0.36250000000000004,
          "xanchor": "center",
          "xref": "paper",
          "y": 1,
          "yanchor": "bottom",
          "yref": "paper"
         },
         {
          "font": {
           "size": 16
          },
          "showarrow": false,
          "text": "Topic 2",
          "x": 0.6375000000000001,
          "xanchor": "center",
          "xref": "paper",
          "y": 1,
          "yanchor": "bottom",
          "yref": "paper"
         },
         {
          "font": {
           "size": 16
          },
          "showarrow": false,
          "text": "Topic 3",
          "x": 0.9125,
          "xanchor": "center",
          "xref": "paper",
          "y": 1,
          "yanchor": "bottom",
          "yref": "paper"
         },
         {
          "font": {
           "size": 16
          },
          "showarrow": false,
          "text": "Topic 4",
          "x": 0.0875,
          "xanchor": "center",
          "xref": "paper",
          "y": 0.7250000000000001,
          "yanchor": "bottom",
          "yref": "paper"
         },
         {
          "font": {
           "size": 16
          },
          "showarrow": false,
          "text": "Topic 5",
          "x": 0.36250000000000004,
          "xanchor": "center",
          "xref": "paper",
          "y": 0.7250000000000001,
          "yanchor": "bottom",
          "yref": "paper"
         },
         {
          "font": {
           "size": 16
          },
          "showarrow": false,
          "text": "Topic 6",
          "x": 0.6375000000000001,
          "xanchor": "center",
          "xref": "paper",
          "y": 0.7250000000000001,
          "yanchor": "bottom",
          "yref": "paper"
         },
         {
          "font": {
           "size": 16
          },
          "showarrow": false,
          "text": "Topic 7",
          "x": 0.9125,
          "xanchor": "center",
          "xref": "paper",
          "y": 0.7250000000000001,
          "yanchor": "bottom",
          "yref": "paper"
         },
         {
          "font": {
           "size": 16
          },
          "showarrow": false,
          "text": "Topic 8",
          "x": 0.0875,
          "xanchor": "center",
          "xref": "paper",
          "y": 0.45,
          "yanchor": "bottom",
          "yref": "paper"
         },
         {
          "font": {
           "size": 16
          },
          "showarrow": false,
          "text": "Topic 9",
          "x": 0.36250000000000004,
          "xanchor": "center",
          "xref": "paper",
          "y": 0.45,
          "yanchor": "bottom",
          "yref": "paper"
         },
         {
          "font": {
           "size": 16
          },
          "showarrow": false,
          "text": "Topic 10",
          "x": 0.6375000000000001,
          "xanchor": "center",
          "xref": "paper",
          "y": 0.45,
          "yanchor": "bottom",
          "yref": "paper"
         },
         {
          "font": {
           "size": 16
          },
          "showarrow": false,
          "text": "Topic 11",
          "x": 0.9125,
          "xanchor": "center",
          "xref": "paper",
          "y": 0.45,
          "yanchor": "bottom",
          "yref": "paper"
         },
         {
          "font": {
           "size": 16
          },
          "showarrow": false,
          "text": "Topic 12",
          "x": 0.0875,
          "xanchor": "center",
          "xref": "paper",
          "y": 0.175,
          "yanchor": "bottom",
          "yref": "paper"
         },
         {
          "font": {
           "size": 16
          },
          "showarrow": false,
          "text": "Topic 13",
          "x": 0.36250000000000004,
          "xanchor": "center",
          "xref": "paper",
          "y": 0.175,
          "yanchor": "bottom",
          "yref": "paper"
         },
         {
          "font": {
           "size": 16
          },
          "showarrow": false,
          "text": "Topic 14",
          "x": 0.6375000000000001,
          "xanchor": "center",
          "xref": "paper",
          "y": 0.175,
          "yanchor": "bottom",
          "yref": "paper"
         },
         {
          "font": {
           "size": 16
          },
          "showarrow": false,
          "text": "Topic 15",
          "x": 0.9125,
          "xanchor": "center",
          "xref": "paper",
          "y": 0.175,
          "yanchor": "bottom",
          "yref": "paper"
         }
        ],
        "height": 1000,
        "hoverlabel": {
         "bgcolor": "white",
         "font": {
          "family": "Rockwell",
          "size": 16
         }
        },
        "showlegend": false,
        "template": {
         "data": {
          "bar": [
           {
            "error_x": {
             "color": "#2a3f5f"
            },
            "error_y": {
             "color": "#2a3f5f"
            },
            "marker": {
             "line": {
              "color": "white",
              "width": 0.5
             },
             "pattern": {
              "fillmode": "overlay",
              "size": 10,
              "solidity": 0.2
             }
            },
            "type": "bar"
           }
          ],
          "barpolar": [
           {
            "marker": {
             "line": {
              "color": "white",
              "width": 0.5
             },
             "pattern": {
              "fillmode": "overlay",
              "size": 10,
              "solidity": 0.2
             }
            },
            "type": "barpolar"
           }
          ],
          "carpet": [
           {
            "aaxis": {
             "endlinecolor": "#2a3f5f",
             "gridcolor": "#C8D4E3",
             "linecolor": "#C8D4E3",
             "minorgridcolor": "#C8D4E3",
             "startlinecolor": "#2a3f5f"
            },
            "baxis": {
             "endlinecolor": "#2a3f5f",
             "gridcolor": "#C8D4E3",
             "linecolor": "#C8D4E3",
             "minorgridcolor": "#C8D4E3",
             "startlinecolor": "#2a3f5f"
            },
            "type": "carpet"
           }
          ],
          "choropleth": [
           {
            "colorbar": {
             "outlinewidth": 0,
             "ticks": ""
            },
            "type": "choropleth"
           }
          ],
          "contour": [
           {
            "colorbar": {
             "outlinewidth": 0,
             "ticks": ""
            },
            "colorscale": [
             [
              0,
              "#0d0887"
             ],
             [
              0.1111111111111111,
              "#46039f"
             ],
             [
              0.2222222222222222,
              "#7201a8"
             ],
             [
              0.3333333333333333,
              "#9c179e"
             ],
             [
              0.4444444444444444,
              "#bd3786"
             ],
             [
              0.5555555555555556,
              "#d8576b"
             ],
             [
              0.6666666666666666,
              "#ed7953"
             ],
             [
              0.7777777777777778,
              "#fb9f3a"
             ],
             [
              0.8888888888888888,
              "#fdca26"
             ],
             [
              1,
              "#f0f921"
             ]
            ],
            "type": "contour"
           }
          ],
          "contourcarpet": [
           {
            "colorbar": {
             "outlinewidth": 0,
             "ticks": ""
            },
            "type": "contourcarpet"
           }
          ],
          "heatmap": [
           {
            "colorbar": {
             "outlinewidth": 0,
             "ticks": ""
            },
            "colorscale": [
             [
              0,
              "#0d0887"
             ],
             [
              0.1111111111111111,
              "#46039f"
             ],
             [
              0.2222222222222222,
              "#7201a8"
             ],
             [
              0.3333333333333333,
              "#9c179e"
             ],
             [
              0.4444444444444444,
              "#bd3786"
             ],
             [
              0.5555555555555556,
              "#d8576b"
             ],
             [
              0.6666666666666666,
              "#ed7953"
             ],
             [
              0.7777777777777778,
              "#fb9f3a"
             ],
             [
              0.8888888888888888,
              "#fdca26"
             ],
             [
              1,
              "#f0f921"
             ]
            ],
            "type": "heatmap"
           }
          ],
          "heatmapgl": [
           {
            "colorbar": {
             "outlinewidth": 0,
             "ticks": ""
            },
            "colorscale": [
             [
              0,
              "#0d0887"
             ],
             [
              0.1111111111111111,
              "#46039f"
             ],
             [
              0.2222222222222222,
              "#7201a8"
             ],
             [
              0.3333333333333333,
              "#9c179e"
             ],
             [
              0.4444444444444444,
              "#bd3786"
             ],
             [
              0.5555555555555556,
              "#d8576b"
             ],
             [
              0.6666666666666666,
              "#ed7953"
             ],
             [
              0.7777777777777778,
              "#fb9f3a"
             ],
             [
              0.8888888888888888,
              "#fdca26"
             ],
             [
              1,
              "#f0f921"
             ]
            ],
            "type": "heatmapgl"
           }
          ],
          "histogram": [
           {
            "marker": {
             "pattern": {
              "fillmode": "overlay",
              "size": 10,
              "solidity": 0.2
             }
            },
            "type": "histogram"
           }
          ],
          "histogram2d": [
           {
            "colorbar": {
             "outlinewidth": 0,
             "ticks": ""
            },
            "colorscale": [
             [
              0,
              "#0d0887"
             ],
             [
              0.1111111111111111,
              "#46039f"
             ],
             [
              0.2222222222222222,
              "#7201a8"
             ],
             [
              0.3333333333333333,
              "#9c179e"
             ],
             [
              0.4444444444444444,
              "#bd3786"
             ],
             [
              0.5555555555555556,
              "#d8576b"
             ],
             [
              0.6666666666666666,
              "#ed7953"
             ],
             [
              0.7777777777777778,
              "#fb9f3a"
             ],
             [
              0.8888888888888888,
              "#fdca26"
             ],
             [
              1,
              "#f0f921"
             ]
            ],
            "type": "histogram2d"
           }
          ],
          "histogram2dcontour": [
           {
            "colorbar": {
             "outlinewidth": 0,
             "ticks": ""
            },
            "colorscale": [
             [
              0,
              "#0d0887"
             ],
             [
              0.1111111111111111,
              "#46039f"
             ],
             [
              0.2222222222222222,
              "#7201a8"
             ],
             [
              0.3333333333333333,
              "#9c179e"
             ],
             [
              0.4444444444444444,
              "#bd3786"
             ],
             [
              0.5555555555555556,
              "#d8576b"
             ],
             [
              0.6666666666666666,
              "#ed7953"
             ],
             [
              0.7777777777777778,
              "#fb9f3a"
             ],
             [
              0.8888888888888888,
              "#fdca26"
             ],
             [
              1,
              "#f0f921"
             ]
            ],
            "type": "histogram2dcontour"
           }
          ],
          "mesh3d": [
           {
            "colorbar": {
             "outlinewidth": 0,
             "ticks": ""
            },
            "type": "mesh3d"
           }
          ],
          "parcoords": [
           {
            "line": {
             "colorbar": {
              "outlinewidth": 0,
              "ticks": ""
             }
            },
            "type": "parcoords"
           }
          ],
          "pie": [
           {
            "automargin": true,
            "type": "pie"
           }
          ],
          "scatter": [
           {
            "fillpattern": {
             "fillmode": "overlay",
             "size": 10,
             "solidity": 0.2
            },
            "type": "scatter"
           }
          ],
          "scatter3d": [
           {
            "line": {
             "colorbar": {
              "outlinewidth": 0,
              "ticks": ""
             }
            },
            "marker": {
             "colorbar": {
              "outlinewidth": 0,
              "ticks": ""
             }
            },
            "type": "scatter3d"
           }
          ],
          "scattercarpet": [
           {
            "marker": {
             "colorbar": {
              "outlinewidth": 0,
              "ticks": ""
             }
            },
            "type": "scattercarpet"
           }
          ],
          "scattergeo": [
           {
            "marker": {
             "colorbar": {
              "outlinewidth": 0,
              "ticks": ""
             }
            },
            "type": "scattergeo"
           }
          ],
          "scattergl": [
           {
            "marker": {
             "colorbar": {
              "outlinewidth": 0,
              "ticks": ""
             }
            },
            "type": "scattergl"
           }
          ],
          "scattermapbox": [
           {
            "marker": {
             "colorbar": {
              "outlinewidth": 0,
              "ticks": ""
             }
            },
            "type": "scattermapbox"
           }
          ],
          "scatterpolar": [
           {
            "marker": {
             "colorbar": {
              "outlinewidth": 0,
              "ticks": ""
             }
            },
            "type": "scatterpolar"
           }
          ],
          "scatterpolargl": [
           {
            "marker": {
             "colorbar": {
              "outlinewidth": 0,
              "ticks": ""
             }
            },
            "type": "scatterpolargl"
           }
          ],
          "scatterternary": [
           {
            "marker": {
             "colorbar": {
              "outlinewidth": 0,
              "ticks": ""
             }
            },
            "type": "scatterternary"
           }
          ],
          "surface": [
           {
            "colorbar": {
             "outlinewidth": 0,
             "ticks": ""
            },
            "colorscale": [
             [
              0,
              "#0d0887"
             ],
             [
              0.1111111111111111,
              "#46039f"
             ],
             [
              0.2222222222222222,
              "#7201a8"
             ],
             [
              0.3333333333333333,
              "#9c179e"
             ],
             [
              0.4444444444444444,
              "#bd3786"
             ],
             [
              0.5555555555555556,
              "#d8576b"
             ],
             [
              0.6666666666666666,
              "#ed7953"
             ],
             [
              0.7777777777777778,
              "#fb9f3a"
             ],
             [
              0.8888888888888888,
              "#fdca26"
             ],
             [
              1,
              "#f0f921"
             ]
            ],
            "type": "surface"
           }
          ],
          "table": [
           {
            "cells": {
             "fill": {
              "color": "#EBF0F8"
             },
             "line": {
              "color": "white"
             }
            },
            "header": {
             "fill": {
              "color": "#C8D4E3"
             },
             "line": {
              "color": "white"
             }
            },
            "type": "table"
           }
          ]
         },
         "layout": {
          "annotationdefaults": {
           "arrowcolor": "#2a3f5f",
           "arrowhead": 0,
           "arrowwidth": 1
          },
          "autotypenumbers": "strict",
          "coloraxis": {
           "colorbar": {
            "outlinewidth": 0,
            "ticks": ""
           }
          },
          "colorscale": {
           "diverging": [
            [
             0,
             "#8e0152"
            ],
            [
             0.1,
             "#c51b7d"
            ],
            [
             0.2,
             "#de77ae"
            ],
            [
             0.3,
             "#f1b6da"
            ],
            [
             0.4,
             "#fde0ef"
            ],
            [
             0.5,
             "#f7f7f7"
            ],
            [
             0.6,
             "#e6f5d0"
            ],
            [
             0.7,
             "#b8e186"
            ],
            [
             0.8,
             "#7fbc41"
            ],
            [
             0.9,
             "#4d9221"
            ],
            [
             1,
             "#276419"
            ]
           ],
           "sequential": [
            [
             0,
             "#0d0887"
            ],
            [
             0.1111111111111111,
             "#46039f"
            ],
            [
             0.2222222222222222,
             "#7201a8"
            ],
            [
             0.3333333333333333,
             "#9c179e"
            ],
            [
             0.4444444444444444,
             "#bd3786"
            ],
            [
             0.5555555555555556,
             "#d8576b"
            ],
            [
             0.6666666666666666,
             "#ed7953"
            ],
            [
             0.7777777777777778,
             "#fb9f3a"
            ],
            [
             0.8888888888888888,
             "#fdca26"
            ],
            [
             1,
             "#f0f921"
            ]
           ],
           "sequentialminus": [
            [
             0,
             "#0d0887"
            ],
            [
             0.1111111111111111,
             "#46039f"
            ],
            [
             0.2222222222222222,
             "#7201a8"
            ],
            [
             0.3333333333333333,
             "#9c179e"
            ],
            [
             0.4444444444444444,
             "#bd3786"
            ],
            [
             0.5555555555555556,
             "#d8576b"
            ],
            [
             0.6666666666666666,
             "#ed7953"
            ],
            [
             0.7777777777777778,
             "#fb9f3a"
            ],
            [
             0.8888888888888888,
             "#fdca26"
            ],
            [
             1,
             "#f0f921"
            ]
           ]
          },
          "colorway": [
           "#636efa",
           "#EF553B",
           "#00cc96",
           "#ab63fa",
           "#FFA15A",
           "#19d3f3",
           "#FF6692",
           "#B6E880",
           "#FF97FF",
           "#FECB52"
          ],
          "font": {
           "color": "#2a3f5f"
          },
          "geo": {
           "bgcolor": "white",
           "lakecolor": "white",
           "landcolor": "white",
           "showlakes": true,
           "showland": true,
           "subunitcolor": "#C8D4E3"
          },
          "hoverlabel": {
           "align": "left"
          },
          "hovermode": "closest",
          "mapbox": {
           "style": "light"
          },
          "paper_bgcolor": "white",
          "plot_bgcolor": "white",
          "polar": {
           "angularaxis": {
            "gridcolor": "#EBF0F8",
            "linecolor": "#EBF0F8",
            "ticks": ""
           },
           "bgcolor": "white",
           "radialaxis": {
            "gridcolor": "#EBF0F8",
            "linecolor": "#EBF0F8",
            "ticks": ""
           }
          },
          "scene": {
           "xaxis": {
            "backgroundcolor": "white",
            "gridcolor": "#DFE8F3",
            "gridwidth": 2,
            "linecolor": "#EBF0F8",
            "showbackground": true,
            "ticks": "",
            "zerolinecolor": "#EBF0F8"
           },
           "yaxis": {
            "backgroundcolor": "white",
            "gridcolor": "#DFE8F3",
            "gridwidth": 2,
            "linecolor": "#EBF0F8",
            "showbackground": true,
            "ticks": "",
            "zerolinecolor": "#EBF0F8"
           },
           "zaxis": {
            "backgroundcolor": "white",
            "gridcolor": "#DFE8F3",
            "gridwidth": 2,
            "linecolor": "#EBF0F8",
            "showbackground": true,
            "ticks": "",
            "zerolinecolor": "#EBF0F8"
           }
          },
          "shapedefaults": {
           "line": {
            "color": "#2a3f5f"
           }
          },
          "ternary": {
           "aaxis": {
            "gridcolor": "#DFE8F3",
            "linecolor": "#A2B1C6",
            "ticks": ""
           },
           "baxis": {
            "gridcolor": "#DFE8F3",
            "linecolor": "#A2B1C6",
            "ticks": ""
           },
           "bgcolor": "white",
           "caxis": {
            "gridcolor": "#DFE8F3",
            "linecolor": "#A2B1C6",
            "ticks": ""
           }
          },
          "title": {
           "x": 0.05
          },
          "xaxis": {
           "automargin": true,
           "gridcolor": "#EBF0F8",
           "linecolor": "#EBF0F8",
           "ticks": "",
           "title": {
            "standoff": 15
           },
           "zerolinecolor": "#EBF0F8",
           "zerolinewidth": 2
          },
          "yaxis": {
           "automargin": true,
           "gridcolor": "#EBF0F8",
           "linecolor": "#EBF0F8",
           "ticks": "",
           "title": {
            "standoff": 15
           },
           "zerolinecolor": "#EBF0F8",
           "zerolinewidth": 2
          }
         }
        },
        "title": {
         "font": {
          "color": "Black",
          "size": 22
         },
         "text": "Topic Word Scores",
         "x": 0.5,
         "xanchor": "center",
         "yanchor": "top"
        },
        "width": 1000,
        "xaxis": {
         "anchor": "y",
         "domain": [
          0,
          0.175
         ],
         "showgrid": true
        },
        "xaxis10": {
         "anchor": "y10",
         "domain": [
          0.275,
          0.45
         ],
         "showgrid": true
        },
        "xaxis11": {
         "anchor": "y11",
         "domain": [
          0.55,
          0.7250000000000001
         ],
         "showgrid": true
        },
        "xaxis12": {
         "anchor": "y12",
         "domain": [
          0.825,
          1
         ],
         "showgrid": true
        },
        "xaxis13": {
         "anchor": "y13",
         "domain": [
          0,
          0.175
         ],
         "showgrid": true
        },
        "xaxis14": {
         "anchor": "y14",
         "domain": [
          0.275,
          0.45
         ],
         "showgrid": true
        },
        "xaxis15": {
         "anchor": "y15",
         "domain": [
          0.55,
          0.7250000000000001
         ],
         "showgrid": true
        },
        "xaxis16": {
         "anchor": "y16",
         "domain": [
          0.825,
          1
         ],
         "showgrid": true
        },
        "xaxis2": {
         "anchor": "y2",
         "domain": [
          0.275,
          0.45
         ],
         "showgrid": true
        },
        "xaxis3": {
         "anchor": "y3",
         "domain": [
          0.55,
          0.7250000000000001
         ],
         "showgrid": true
        },
        "xaxis4": {
         "anchor": "y4",
         "domain": [
          0.825,
          1
         ],
         "showgrid": true
        },
        "xaxis5": {
         "anchor": "y5",
         "domain": [
          0,
          0.175
         ],
         "showgrid": true
        },
        "xaxis6": {
         "anchor": "y6",
         "domain": [
          0.275,
          0.45
         ],
         "showgrid": true
        },
        "xaxis7": {
         "anchor": "y7",
         "domain": [
          0.55,
          0.7250000000000001
         ],
         "showgrid": true
        },
        "xaxis8": {
         "anchor": "y8",
         "domain": [
          0.825,
          1
         ],
         "showgrid": true
        },
        "xaxis9": {
         "anchor": "y9",
         "domain": [
          0,
          0.175
         ],
         "showgrid": true
        },
        "yaxis": {
         "anchor": "x",
         "domain": [
          0.825,
          1
         ],
         "showgrid": true
        },
        "yaxis10": {
         "anchor": "x10",
         "domain": [
          0.275,
          0.45
         ],
         "showgrid": true
        },
        "yaxis11": {
         "anchor": "x11",
         "domain": [
          0.275,
          0.45
         ],
         "showgrid": true
        },
        "yaxis12": {
         "anchor": "x12",
         "domain": [
          0.275,
          0.45
         ],
         "showgrid": true
        },
        "yaxis13": {
         "anchor": "x13",
         "domain": [
          0,
          0.175
         ],
         "showgrid": true
        },
        "yaxis14": {
         "anchor": "x14",
         "domain": [
          0,
          0.175
         ],
         "showgrid": true
        },
        "yaxis15": {
         "anchor": "x15",
         "domain": [
          0,
          0.175
         ],
         "showgrid": true
        },
        "yaxis16": {
         "anchor": "x16",
         "domain": [
          0,
          0.175
         ],
         "showgrid": true
        },
        "yaxis2": {
         "anchor": "x2",
         "domain": [
          0.825,
          1
         ],
         "showgrid": true
        },
        "yaxis3": {
         "anchor": "x3",
         "domain": [
          0.825,
          1
         ],
         "showgrid": true
        },
        "yaxis4": {
         "anchor": "x4",
         "domain": [
          0.825,
          1
         ],
         "showgrid": true
        },
        "yaxis5": {
         "anchor": "x5",
         "domain": [
          0.55,
          0.7250000000000001
         ],
         "showgrid": true
        },
        "yaxis6": {
         "anchor": "x6",
         "domain": [
          0.55,
          0.7250000000000001
         ],
         "showgrid": true
        },
        "yaxis7": {
         "anchor": "x7",
         "domain": [
          0.55,
          0.7250000000000001
         ],
         "showgrid": true
        },
        "yaxis8": {
         "anchor": "x8",
         "domain": [
          0.55,
          0.7250000000000001
         ],
         "showgrid": true
        },
        "yaxis9": {
         "anchor": "x9",
         "domain": [
          0.275,
          0.45
         ],
         "showgrid": true
        }
       }
      }
     },
     "metadata": {},
     "output_type": "display_data"
    }
   ],
   "source": [
    "topic_model.visualize_barchart(top_n_topics = 16, n_words = 10)"
   ]
  },
  {
   "cell_type": "code",
   "execution_count": 80,
   "metadata": {},
   "outputs": [
    {
     "data": {
      "text/html": [
       "<div>\n",
       "<style scoped>\n",
       "    .dataframe tbody tr th:only-of-type {\n",
       "        vertical-align: middle;\n",
       "    }\n",
       "\n",
       "    .dataframe tbody tr th {\n",
       "        vertical-align: top;\n",
       "    }\n",
       "\n",
       "    .dataframe thead th {\n",
       "        text-align: right;\n",
       "    }\n",
       "</style>\n",
       "<table border=\"1\" class=\"dataframe\">\n",
       "  <thead>\n",
       "    <tr style=\"text-align: right;\">\n",
       "      <th></th>\n",
       "      <th>topic1</th>\n",
       "      <th>topic2</th>\n",
       "      <th>distance</th>\n",
       "    </tr>\n",
       "  </thead>\n",
       "  <tbody>\n",
       "    <tr>\n",
       "      <th>169</th>\n",
       "      <td>2_meditation_relaxed_mind_felt</td>\n",
       "      <td>30_meditation_feelings_self_feeling</td>\n",
       "      <td>0.700752</td>\n",
       "    </tr>\n",
       "    <tr>\n",
       "      <th>49</th>\n",
       "      <td>0_felt like_feel like_felt_feeling</td>\n",
       "      <td>2_meditation_relaxed_mind_felt</td>\n",
       "      <td>0.667365</td>\n",
       "    </tr>\n",
       "    <tr>\n",
       "      <th>50</th>\n",
       "      <td>0_felt like_feel like_felt_feeling</td>\n",
       "      <td>3_thinking_like think_thoughts_mind</td>\n",
       "      <td>0.665126</td>\n",
       "    </tr>\n",
       "    <tr>\n",
       "      <th>52</th>\n",
       "      <td>0_felt like_feel like_felt_feeling</td>\n",
       "      <td>5_moving_hand_felt_felt like</td>\n",
       "      <td>0.653609</td>\n",
       "    </tr>\n",
       "    <tr>\n",
       "      <th>1617</th>\n",
       "      <td>34_second time_yeah second_second_times</td>\n",
       "      <td>6_second_second time_scene_difference</td>\n",
       "      <td>0.649071</td>\n",
       "    </tr>\n",
       "    <tr>\n",
       "      <th>142</th>\n",
       "      <td>2_meditation_relaxed_mind_felt</td>\n",
       "      <td>3_thinking_like think_thoughts_mind</td>\n",
       "      <td>0.646431</td>\n",
       "    </tr>\n",
       "    <tr>\n",
       "      <th>54</th>\n",
       "      <td>0_felt like_feel like_felt_feeling</td>\n",
       "      <td>7_reality_focus_thinking_brain</td>\n",
       "      <td>0.645557</td>\n",
       "    </tr>\n",
       "    <tr>\n",
       "      <th>1293</th>\n",
       "      <td>27_questions_ask_okay just_okay maybe</td>\n",
       "      <td>4_questions_ask_asked_question</td>\n",
       "      <td>0.642726</td>\n",
       "    </tr>\n",
       "    <tr>\n",
       "      <th>81</th>\n",
       "      <td>0_felt like_feel like_felt_feeling</td>\n",
       "      <td>34_second time_yeah second_second_times</td>\n",
       "      <td>0.633870</td>\n",
       "    </tr>\n",
       "    <tr>\n",
       "      <th>61</th>\n",
       "      <td>0_felt like_feel like_felt_feeling</td>\n",
       "      <td>14_felt like_did feel_relaxed_felt</td>\n",
       "      <td>0.619168</td>\n",
       "    </tr>\n",
       "    <tr>\n",
       "      <th>533</th>\n",
       "      <td>10_didnt notice_did notice_notice_noticed</td>\n",
       "      <td>26_attention_think_happened_didnt</td>\n",
       "      <td>0.613274</td>\n",
       "    </tr>\n",
       "    <tr>\n",
       "      <th>128</th>\n",
       "      <td>1_okay okay_okay_okay yeah_okay just</td>\n",
       "      <td>35_okay_okay yeah_yeah_</td>\n",
       "      <td>0.612683</td>\n",
       "    </tr>\n",
       "    <tr>\n",
       "      <th>57</th>\n",
       "      <td>0_felt like_feel like_felt_feeling</td>\n",
       "      <td>10_didnt notice_did notice_notice_noticed</td>\n",
       "      <td>0.609902</td>\n",
       "    </tr>\n",
       "    <tr>\n",
       "      <th>58</th>\n",
       "      <td>0_felt like_feel like_felt_feeling</td>\n",
       "      <td>11_understand_understood_yeah_course</td>\n",
       "      <td>0.603851</td>\n",
       "    </tr>\n",
       "    <tr>\n",
       "      <th>784</th>\n",
       "      <td>16_fine_yeah okay_great okay_okay yeah</td>\n",
       "      <td>1_okay okay_okay_okay yeah_okay just</td>\n",
       "      <td>0.600291</td>\n",
       "    </tr>\n",
       "    <tr>\n",
       "      <th>1752</th>\n",
       "      <td>37_focus_focused_moving_relaxed</td>\n",
       "      <td>3_thinking_like think_thoughts_mind</td>\n",
       "      <td>0.596353</td>\n",
       "    </tr>\n",
       "    <tr>\n",
       "      <th>1605</th>\n",
       "      <td>33_relax_yeah just_maybe just_yeah</td>\n",
       "      <td>40_feel_like really_place_yes like</td>\n",
       "      <td>0.592293</td>\n",
       "    </tr>\n",
       "    <tr>\n",
       "      <th>192</th>\n",
       "      <td>3_thinking_like think_thoughts_mind</td>\n",
       "      <td>7_reality_focus_thinking_brain</td>\n",
       "      <td>0.588591</td>\n",
       "    </tr>\n",
       "    <tr>\n",
       "      <th>116</th>\n",
       "      <td>1_okay okay_okay_okay yeah_okay just</td>\n",
       "      <td>23_thats_know_think thats_</td>\n",
       "      <td>0.586168</td>\n",
       "    </tr>\n",
       "    <tr>\n",
       "      <th>190</th>\n",
       "      <td>3_thinking_like think_thoughts_mind</td>\n",
       "      <td>5_moving_hand_felt_felt like</td>\n",
       "      <td>0.582383</td>\n",
       "    </tr>\n",
       "  </tbody>\n",
       "</table>\n",
       "</div>"
      ],
      "text/plain": [
       "                                         topic1  \\\n",
       "169              2_meditation_relaxed_mind_felt   \n",
       "49           0_felt like_feel like_felt_feeling   \n",
       "50           0_felt like_feel like_felt_feeling   \n",
       "52           0_felt like_feel like_felt_feeling   \n",
       "1617    34_second time_yeah second_second_times   \n",
       "142              2_meditation_relaxed_mind_felt   \n",
       "54           0_felt like_feel like_felt_feeling   \n",
       "1293      27_questions_ask_okay just_okay maybe   \n",
       "81           0_felt like_feel like_felt_feeling   \n",
       "61           0_felt like_feel like_felt_feeling   \n",
       "533   10_didnt notice_did notice_notice_noticed   \n",
       "128        1_okay okay_okay_okay yeah_okay just   \n",
       "57           0_felt like_feel like_felt_feeling   \n",
       "58           0_felt like_feel like_felt_feeling   \n",
       "784      16_fine_yeah okay_great okay_okay yeah   \n",
       "1752            37_focus_focused_moving_relaxed   \n",
       "1605         33_relax_yeah just_maybe just_yeah   \n",
       "192         3_thinking_like think_thoughts_mind   \n",
       "116        1_okay okay_okay_okay yeah_okay just   \n",
       "190         3_thinking_like think_thoughts_mind   \n",
       "\n",
       "                                         topic2  distance  \n",
       "169         30_meditation_feelings_self_feeling  0.700752  \n",
       "49               2_meditation_relaxed_mind_felt  0.667365  \n",
       "50          3_thinking_like think_thoughts_mind  0.665126  \n",
       "52                 5_moving_hand_felt_felt like  0.653609  \n",
       "1617      6_second_second time_scene_difference  0.649071  \n",
       "142         3_thinking_like think_thoughts_mind  0.646431  \n",
       "54               7_reality_focus_thinking_brain  0.645557  \n",
       "1293             4_questions_ask_asked_question  0.642726  \n",
       "81      34_second time_yeah second_second_times  0.633870  \n",
       "61           14_felt like_did feel_relaxed_felt  0.619168  \n",
       "533           26_attention_think_happened_didnt  0.613274  \n",
       "128                     35_okay_okay yeah_yeah_  0.612683  \n",
       "57    10_didnt notice_did notice_notice_noticed  0.609902  \n",
       "58         11_understand_understood_yeah_course  0.603851  \n",
       "784        1_okay okay_okay_okay yeah_okay just  0.600291  \n",
       "1752        3_thinking_like think_thoughts_mind  0.596353  \n",
       "1605         40_feel_like really_place_yes like  0.592293  \n",
       "192              7_reality_focus_thinking_brain  0.588591  \n",
       "116                  23_thats_know_think thats_  0.586168  \n",
       "190                5_moving_hand_felt_felt like  0.582383  "
      ]
     },
     "execution_count": 80,
     "metadata": {},
     "output_type": "execute_result"
    }
   ],
   "source": [
    "from sklearn.metrics.pairwise import cosine_similarity\n",
    "import numpy as np \n",
    "\n",
    "distance_matrix = cosine_similarity(np.array(topic_model.topic_embeddings_))\n",
    "dist_df = pd.DataFrame(distance_matrix, columns=topic_model.topic_labels_.values(), \n",
    "                       index=topic_model.topic_labels_.values())\n",
    "\n",
    "tmp = []\n",
    "for rec in dist_df.reset_index().to_dict('records'):\n",
    "    t1 = rec['index']\n",
    "    for t2 in rec:\n",
    "        if t2 == 'index': \n",
    "            continue\n",
    "        tmp.append(\n",
    "            {\n",
    "                'topic1': t1, \n",
    "                'topic2': t2, \n",
    "                'distance': rec[t2]\n",
    "            }\n",
    "        )\n",
    "\n",
    "pair_dist_df = pd.DataFrame(tmp)\n",
    "\n",
    "pair_dist_df = pair_dist_df[(pair_dist_df.topic1.map(\n",
    "      lambda x: not x.startswith('-1'))) & \n",
    "            (pair_dist_df.topic2.map(lambda x: not x.startswith('-1')))]\n",
    "pair_dist_df = pair_dist_df[pair_dist_df.topic1 < pair_dist_df.topic2]\n",
    "pair_dist_df.sort_values('distance', ascending = False).head(20)"
   ]
  },
  {
   "cell_type": "code",
   "execution_count": 20,
   "metadata": {},
   "outputs": [],
   "source": [
    "topic_distr, topic_token_distr = topic_model.approximate_distribution(\n",
    "      docs, window = 4, calculate_tokens=True)"
   ]
  },
  {
   "cell_type": "code",
   "execution_count": 25,
   "metadata": {},
   "outputs": [
    {
     "data": {
      "text/plain": [
       "array([[0.09886111, 0.09305857, 0.        , ..., 0.        , 0.        ,\n",
       "        0.        ],\n",
       "       [0.27191272, 0.16671716, 0.        , ..., 0.        , 0.        ,\n",
       "        0.29846385],\n",
       "       [0.35234395, 0.        , 0.        , ..., 0.        , 0.        ,\n",
       "        0.        ],\n",
       "       ...,\n",
       "       [0.16145042, 0.09054749, 0.        , ..., 0.        , 0.        ,\n",
       "        0.11348758],\n",
       "       [0.51123825, 0.        , 0.        , ..., 0.        , 0.        ,\n",
       "        0.        ],\n",
       "       [0.28741406, 0.1986851 , 0.        , ..., 0.        , 0.        ,\n",
       "        0.        ]])"
      ]
     },
     "execution_count": 25,
     "metadata": {},
     "output_type": "execute_result"
    }
   ],
   "source": [
    "topic_distr"
   ]
  },
  {
   "cell_type": "code",
   "execution_count": 27,
   "metadata": {},
   "outputs": [
    {
     "data": {
      "application/vnd.plotly.v1+json": {
       "config": {
        "plotlyServerURL": "https://plot.ly"
       },
       "data": [
        {
         "marker": {
          "color": "#C8D2D7",
          "line": {
           "color": "#6E8484",
           "width": 1
          }
         },
         "orientation": "h",
         "type": "bar",
         "x": [
          0.7186059056997774,
          0.17804899159427517,
          0.10334510270594735
         ],
         "y": [
          "<b>Topic 2</b>: eye_focus_focused_closed...",
          "<b>Topic 12</b>: feeling_felt_feel_close...",
          "<b>Topic 16</b>: avatar_eye_body__"
         ]
        }
       ],
       "layout": {
        "height": 600,
        "hoverlabel": {
         "bgcolor": "white",
         "font": {
          "family": "Rockwell",
          "size": 16
         }
        },
        "template": {
         "data": {
          "bar": [
           {
            "error_x": {
             "color": "rgb(36,36,36)"
            },
            "error_y": {
             "color": "rgb(36,36,36)"
            },
            "marker": {
             "line": {
              "color": "white",
              "width": 0.5
             },
             "pattern": {
              "fillmode": "overlay",
              "size": 10,
              "solidity": 0.2
             }
            },
            "type": "bar"
           }
          ],
          "barpolar": [
           {
            "marker": {
             "line": {
              "color": "white",
              "width": 0.5
             },
             "pattern": {
              "fillmode": "overlay",
              "size": 10,
              "solidity": 0.2
             }
            },
            "type": "barpolar"
           }
          ],
          "carpet": [
           {
            "aaxis": {
             "endlinecolor": "rgb(36,36,36)",
             "gridcolor": "white",
             "linecolor": "white",
             "minorgridcolor": "white",
             "startlinecolor": "rgb(36,36,36)"
            },
            "baxis": {
             "endlinecolor": "rgb(36,36,36)",
             "gridcolor": "white",
             "linecolor": "white",
             "minorgridcolor": "white",
             "startlinecolor": "rgb(36,36,36)"
            },
            "type": "carpet"
           }
          ],
          "choropleth": [
           {
            "colorbar": {
             "outlinewidth": 1,
             "tickcolor": "rgb(36,36,36)",
             "ticks": "outside"
            },
            "type": "choropleth"
           }
          ],
          "contour": [
           {
            "colorbar": {
             "outlinewidth": 1,
             "tickcolor": "rgb(36,36,36)",
             "ticks": "outside"
            },
            "colorscale": [
             [
              0,
              "#440154"
             ],
             [
              0.1111111111111111,
              "#482878"
             ],
             [
              0.2222222222222222,
              "#3e4989"
             ],
             [
              0.3333333333333333,
              "#31688e"
             ],
             [
              0.4444444444444444,
              "#26828e"
             ],
             [
              0.5555555555555556,
              "#1f9e89"
             ],
             [
              0.6666666666666666,
              "#35b779"
             ],
             [
              0.7777777777777778,
              "#6ece58"
             ],
             [
              0.8888888888888888,
              "#b5de2b"
             ],
             [
              1,
              "#fde725"
             ]
            ],
            "type": "contour"
           }
          ],
          "contourcarpet": [
           {
            "colorbar": {
             "outlinewidth": 1,
             "tickcolor": "rgb(36,36,36)",
             "ticks": "outside"
            },
            "type": "contourcarpet"
           }
          ],
          "heatmap": [
           {
            "colorbar": {
             "outlinewidth": 1,
             "tickcolor": "rgb(36,36,36)",
             "ticks": "outside"
            },
            "colorscale": [
             [
              0,
              "#440154"
             ],
             [
              0.1111111111111111,
              "#482878"
             ],
             [
              0.2222222222222222,
              "#3e4989"
             ],
             [
              0.3333333333333333,
              "#31688e"
             ],
             [
              0.4444444444444444,
              "#26828e"
             ],
             [
              0.5555555555555556,
              "#1f9e89"
             ],
             [
              0.6666666666666666,
              "#35b779"
             ],
             [
              0.7777777777777778,
              "#6ece58"
             ],
             [
              0.8888888888888888,
              "#b5de2b"
             ],
             [
              1,
              "#fde725"
             ]
            ],
            "type": "heatmap"
           }
          ],
          "heatmapgl": [
           {
            "colorbar": {
             "outlinewidth": 1,
             "tickcolor": "rgb(36,36,36)",
             "ticks": "outside"
            },
            "colorscale": [
             [
              0,
              "#440154"
             ],
             [
              0.1111111111111111,
              "#482878"
             ],
             [
              0.2222222222222222,
              "#3e4989"
             ],
             [
              0.3333333333333333,
              "#31688e"
             ],
             [
              0.4444444444444444,
              "#26828e"
             ],
             [
              0.5555555555555556,
              "#1f9e89"
             ],
             [
              0.6666666666666666,
              "#35b779"
             ],
             [
              0.7777777777777778,
              "#6ece58"
             ],
             [
              0.8888888888888888,
              "#b5de2b"
             ],
             [
              1,
              "#fde725"
             ]
            ],
            "type": "heatmapgl"
           }
          ],
          "histogram": [
           {
            "marker": {
             "line": {
              "color": "white",
              "width": 0.6
             }
            },
            "type": "histogram"
           }
          ],
          "histogram2d": [
           {
            "colorbar": {
             "outlinewidth": 1,
             "tickcolor": "rgb(36,36,36)",
             "ticks": "outside"
            },
            "colorscale": [
             [
              0,
              "#440154"
             ],
             [
              0.1111111111111111,
              "#482878"
             ],
             [
              0.2222222222222222,
              "#3e4989"
             ],
             [
              0.3333333333333333,
              "#31688e"
             ],
             [
              0.4444444444444444,
              "#26828e"
             ],
             [
              0.5555555555555556,
              "#1f9e89"
             ],
             [
              0.6666666666666666,
              "#35b779"
             ],
             [
              0.7777777777777778,
              "#6ece58"
             ],
             [
              0.8888888888888888,
              "#b5de2b"
             ],
             [
              1,
              "#fde725"
             ]
            ],
            "type": "histogram2d"
           }
          ],
          "histogram2dcontour": [
           {
            "colorbar": {
             "outlinewidth": 1,
             "tickcolor": "rgb(36,36,36)",
             "ticks": "outside"
            },
            "colorscale": [
             [
              0,
              "#440154"
             ],
             [
              0.1111111111111111,
              "#482878"
             ],
             [
              0.2222222222222222,
              "#3e4989"
             ],
             [
              0.3333333333333333,
              "#31688e"
             ],
             [
              0.4444444444444444,
              "#26828e"
             ],
             [
              0.5555555555555556,
              "#1f9e89"
             ],
             [
              0.6666666666666666,
              "#35b779"
             ],
             [
              0.7777777777777778,
              "#6ece58"
             ],
             [
              0.8888888888888888,
              "#b5de2b"
             ],
             [
              1,
              "#fde725"
             ]
            ],
            "type": "histogram2dcontour"
           }
          ],
          "mesh3d": [
           {
            "colorbar": {
             "outlinewidth": 1,
             "tickcolor": "rgb(36,36,36)",
             "ticks": "outside"
            },
            "type": "mesh3d"
           }
          ],
          "parcoords": [
           {
            "line": {
             "colorbar": {
              "outlinewidth": 1,
              "tickcolor": "rgb(36,36,36)",
              "ticks": "outside"
             }
            },
            "type": "parcoords"
           }
          ],
          "pie": [
           {
            "automargin": true,
            "type": "pie"
           }
          ],
          "scatter": [
           {
            "fillpattern": {
             "fillmode": "overlay",
             "size": 10,
             "solidity": 0.2
            },
            "type": "scatter"
           }
          ],
          "scatter3d": [
           {
            "line": {
             "colorbar": {
              "outlinewidth": 1,
              "tickcolor": "rgb(36,36,36)",
              "ticks": "outside"
             }
            },
            "marker": {
             "colorbar": {
              "outlinewidth": 1,
              "tickcolor": "rgb(36,36,36)",
              "ticks": "outside"
             }
            },
            "type": "scatter3d"
           }
          ],
          "scattercarpet": [
           {
            "marker": {
             "colorbar": {
              "outlinewidth": 1,
              "tickcolor": "rgb(36,36,36)",
              "ticks": "outside"
             }
            },
            "type": "scattercarpet"
           }
          ],
          "scattergeo": [
           {
            "marker": {
             "colorbar": {
              "outlinewidth": 1,
              "tickcolor": "rgb(36,36,36)",
              "ticks": "outside"
             }
            },
            "type": "scattergeo"
           }
          ],
          "scattergl": [
           {
            "marker": {
             "colorbar": {
              "outlinewidth": 1,
              "tickcolor": "rgb(36,36,36)",
              "ticks": "outside"
             }
            },
            "type": "scattergl"
           }
          ],
          "scattermapbox": [
           {
            "marker": {
             "colorbar": {
              "outlinewidth": 1,
              "tickcolor": "rgb(36,36,36)",
              "ticks": "outside"
             }
            },
            "type": "scattermapbox"
           }
          ],
          "scatterpolar": [
           {
            "marker": {
             "colorbar": {
              "outlinewidth": 1,
              "tickcolor": "rgb(36,36,36)",
              "ticks": "outside"
             }
            },
            "type": "scatterpolar"
           }
          ],
          "scatterpolargl": [
           {
            "marker": {
             "colorbar": {
              "outlinewidth": 1,
              "tickcolor": "rgb(36,36,36)",
              "ticks": "outside"
             }
            },
            "type": "scatterpolargl"
           }
          ],
          "scatterternary": [
           {
            "marker": {
             "colorbar": {
              "outlinewidth": 1,
              "tickcolor": "rgb(36,36,36)",
              "ticks": "outside"
             }
            },
            "type": "scatterternary"
           }
          ],
          "surface": [
           {
            "colorbar": {
             "outlinewidth": 1,
             "tickcolor": "rgb(36,36,36)",
             "ticks": "outside"
            },
            "colorscale": [
             [
              0,
              "#440154"
             ],
             [
              0.1111111111111111,
              "#482878"
             ],
             [
              0.2222222222222222,
              "#3e4989"
             ],
             [
              0.3333333333333333,
              "#31688e"
             ],
             [
              0.4444444444444444,
              "#26828e"
             ],
             [
              0.5555555555555556,
              "#1f9e89"
             ],
             [
              0.6666666666666666,
              "#35b779"
             ],
             [
              0.7777777777777778,
              "#6ece58"
             ],
             [
              0.8888888888888888,
              "#b5de2b"
             ],
             [
              1,
              "#fde725"
             ]
            ],
            "type": "surface"
           }
          ],
          "table": [
           {
            "cells": {
             "fill": {
              "color": "rgb(237,237,237)"
             },
             "line": {
              "color": "white"
             }
            },
            "header": {
             "fill": {
              "color": "rgb(217,217,217)"
             },
             "line": {
              "color": "white"
             }
            },
            "type": "table"
           }
          ]
         },
         "layout": {
          "annotationdefaults": {
           "arrowhead": 0,
           "arrowwidth": 1
          },
          "autotypenumbers": "strict",
          "coloraxis": {
           "colorbar": {
            "outlinewidth": 1,
            "tickcolor": "rgb(36,36,36)",
            "ticks": "outside"
           }
          },
          "colorscale": {
           "diverging": [
            [
             0,
             "rgb(103,0,31)"
            ],
            [
             0.1,
             "rgb(178,24,43)"
            ],
            [
             0.2,
             "rgb(214,96,77)"
            ],
            [
             0.3,
             "rgb(244,165,130)"
            ],
            [
             0.4,
             "rgb(253,219,199)"
            ],
            [
             0.5,
             "rgb(247,247,247)"
            ],
            [
             0.6,
             "rgb(209,229,240)"
            ],
            [
             0.7,
             "rgb(146,197,222)"
            ],
            [
             0.8,
             "rgb(67,147,195)"
            ],
            [
             0.9,
             "rgb(33,102,172)"
            ],
            [
             1,
             "rgb(5,48,97)"
            ]
           ],
           "sequential": [
            [
             0,
             "#440154"
            ],
            [
             0.1111111111111111,
             "#482878"
            ],
            [
             0.2222222222222222,
             "#3e4989"
            ],
            [
             0.3333333333333333,
             "#31688e"
            ],
            [
             0.4444444444444444,
             "#26828e"
            ],
            [
             0.5555555555555556,
             "#1f9e89"
            ],
            [
             0.6666666666666666,
             "#35b779"
            ],
            [
             0.7777777777777778,
             "#6ece58"
            ],
            [
             0.8888888888888888,
             "#b5de2b"
            ],
            [
             1,
             "#fde725"
            ]
           ],
           "sequentialminus": [
            [
             0,
             "#440154"
            ],
            [
             0.1111111111111111,
             "#482878"
            ],
            [
             0.2222222222222222,
             "#3e4989"
            ],
            [
             0.3333333333333333,
             "#31688e"
            ],
            [
             0.4444444444444444,
             "#26828e"
            ],
            [
             0.5555555555555556,
             "#1f9e89"
            ],
            [
             0.6666666666666666,
             "#35b779"
            ],
            [
             0.7777777777777778,
             "#6ece58"
            ],
            [
             0.8888888888888888,
             "#b5de2b"
            ],
            [
             1,
             "#fde725"
            ]
           ]
          },
          "colorway": [
           "#1F77B4",
           "#FF7F0E",
           "#2CA02C",
           "#D62728",
           "#9467BD",
           "#8C564B",
           "#E377C2",
           "#7F7F7F",
           "#BCBD22",
           "#17BECF"
          ],
          "font": {
           "color": "rgb(36,36,36)"
          },
          "geo": {
           "bgcolor": "white",
           "lakecolor": "white",
           "landcolor": "white",
           "showlakes": true,
           "showland": true,
           "subunitcolor": "white"
          },
          "hoverlabel": {
           "align": "left"
          },
          "hovermode": "closest",
          "mapbox": {
           "style": "light"
          },
          "paper_bgcolor": "white",
          "plot_bgcolor": "white",
          "polar": {
           "angularaxis": {
            "gridcolor": "rgb(232,232,232)",
            "linecolor": "rgb(36,36,36)",
            "showgrid": false,
            "showline": true,
            "ticks": "outside"
           },
           "bgcolor": "white",
           "radialaxis": {
            "gridcolor": "rgb(232,232,232)",
            "linecolor": "rgb(36,36,36)",
            "showgrid": false,
            "showline": true,
            "ticks": "outside"
           }
          },
          "scene": {
           "xaxis": {
            "backgroundcolor": "white",
            "gridcolor": "rgb(232,232,232)",
            "gridwidth": 2,
            "linecolor": "rgb(36,36,36)",
            "showbackground": true,
            "showgrid": false,
            "showline": true,
            "ticks": "outside",
            "zeroline": false,
            "zerolinecolor": "rgb(36,36,36)"
           },
           "yaxis": {
            "backgroundcolor": "white",
            "gridcolor": "rgb(232,232,232)",
            "gridwidth": 2,
            "linecolor": "rgb(36,36,36)",
            "showbackground": true,
            "showgrid": false,
            "showline": true,
            "ticks": "outside",
            "zeroline": false,
            "zerolinecolor": "rgb(36,36,36)"
           },
           "zaxis": {
            "backgroundcolor": "white",
            "gridcolor": "rgb(232,232,232)",
            "gridwidth": 2,
            "linecolor": "rgb(36,36,36)",
            "showbackground": true,
            "showgrid": false,
            "showline": true,
            "ticks": "outside",
            "zeroline": false,
            "zerolinecolor": "rgb(36,36,36)"
           }
          },
          "shapedefaults": {
           "fillcolor": "black",
           "line": {
            "width": 0
           },
           "opacity": 0.3
          },
          "ternary": {
           "aaxis": {
            "gridcolor": "rgb(232,232,232)",
            "linecolor": "rgb(36,36,36)",
            "showgrid": false,
            "showline": true,
            "ticks": "outside"
           },
           "baxis": {
            "gridcolor": "rgb(232,232,232)",
            "linecolor": "rgb(36,36,36)",
            "showgrid": false,
            "showline": true,
            "ticks": "outside"
           },
           "bgcolor": "white",
           "caxis": {
            "gridcolor": "rgb(232,232,232)",
            "linecolor": "rgb(36,36,36)",
            "showgrid": false,
            "showline": true,
            "ticks": "outside"
           }
          },
          "title": {
           "x": 0.05
          },
          "xaxis": {
           "automargin": true,
           "gridcolor": "rgb(232,232,232)",
           "linecolor": "rgb(36,36,36)",
           "showgrid": false,
           "showline": true,
           "ticks": "outside",
           "title": {
            "standoff": 15
           },
           "zeroline": false,
           "zerolinecolor": "rgb(36,36,36)"
          },
          "yaxis": {
           "automargin": true,
           "gridcolor": "rgb(232,232,232)",
           "linecolor": "rgb(36,36,36)",
           "showgrid": false,
           "showline": true,
           "ticks": "outside",
           "title": {
            "standoff": 15
           },
           "zeroline": false,
           "zerolinecolor": "rgb(36,36,36)"
          }
         }
        },
        "title": {
         "font": {
          "color": "Black",
          "size": 22
         },
         "text": "<b>Topic Probability Distribution</b>",
         "x": 0.5,
         "xanchor": "center",
         "y": 0.95,
         "yanchor": "top"
        },
        "width": 800,
        "xaxis": {
         "title": {
          "text": "Probability"
         }
        }
       }
      }
     },
     "metadata": {},
     "output_type": "display_data"
    }
   ],
   "source": [
    "topic_model.visualize_distribution(topic_distr[5], min_probability=0.05)"
   ]
  },
  {
   "cell_type": "markdown",
   "metadata": {},
   "source": [
    "## Topic ditributions (Spilt each doc into tokens)"
   ]
  },
  {
   "cell_type": "code",
   "execution_count": 66,
   "metadata": {},
   "outputs": [
    {
     "data": {
      "text/html": [
       "<div>\n",
       "<style scoped>\n",
       "    .dataframe tbody tr th:only-of-type {\n",
       "        vertical-align: middle;\n",
       "    }\n",
       "\n",
       "    .dataframe tbody tr th {\n",
       "        vertical-align: top;\n",
       "    }\n",
       "\n",
       "    .dataframe thead th {\n",
       "        text-align: right;\n",
       "    }\n",
       "</style>\n",
       "<table border=\"1\" class=\"dataframe\">\n",
       "  <thead>\n",
       "    <tr style=\"text-align: right;\">\n",
       "      <th></th>\n",
       "      <th>Experiment</th>\n",
       "      <th>File Name</th>\n",
       "      <th>Id</th>\n",
       "      <th>Start Time</th>\n",
       "      <th>End Time</th>\n",
       "      <th>Speaker</th>\n",
       "      <th>Content</th>\n",
       "      <th>Condition</th>\n",
       "      <th>Order Condition</th>\n",
       "      <th>utterance_index</th>\n",
       "      <th>preprocessed_content</th>\n",
       "    </tr>\n",
       "  </thead>\n",
       "  <tbody>\n",
       "    <tr>\n",
       "      <th>0</th>\n",
       "      <td>Compassion</td>\n",
       "      <td>S301final</td>\n",
       "      <td>301</td>\n",
       "      <td>00:00:00,060</td>\n",
       "      <td>00:00:12,100</td>\n",
       "      <td>Interviewer</td>\n",
       "      <td>and you can just a little bit tell about your ...</td>\n",
       "      <td>1</td>\n",
       "      <td>Unknown</td>\n",
       "      <td>0</td>\n",
       "      <td>little bit tell experience twosection feel cou...</td>\n",
       "    </tr>\n",
       "  </tbody>\n",
       "</table>\n",
       "</div>"
      ],
      "text/plain": [
       "   Experiment  File Name   Id    Start Time      End Time      Speaker  \\\n",
       "0  Compassion  S301final  301  00:00:00,060  00:00:12,100  Interviewer   \n",
       "\n",
       "                                             Content Condition  \\\n",
       "0  and you can just a little bit tell about your ...         1   \n",
       "\n",
       "  Order Condition  utterance_index  \\\n",
       "0         Unknown                0   \n",
       "\n",
       "                                preprocessed_content  \n",
       "0  little bit tell experience twosection feel cou...  "
      ]
     },
     "execution_count": 66,
     "metadata": {},
     "output_type": "execute_result"
    }
   ],
   "source": [
    "df_all.head(1)"
   ]
  },
  {
   "cell_type": "code",
   "execution_count": 68,
   "metadata": {},
   "outputs": [],
   "source": [
    "df = df_all#[df_all[\"Speaker\"] == \"Participant\"].copy()\n",
    "#df = df[df[\"Experiment\"] == \"Compassion\"]\n",
    "\n",
    "extra_stopwords = {'yeah', 'yes', 'like', 'you', 'know', 'um', 'uh', 'really', 'okay','mm'}\n",
    "# Preprocess the text\n",
    "df['preprocessed_content'] = df['Content'].apply(lambda x: preprocess_text(x, extra_stopwords=extra_stopwords, ngrams=1))\n",
    "\n",
    "grouped_df = df.groupby(['File Name','utterance_index']).agg({\n",
    "    'preprocessed_content': ' '.join,  # Combine preprocessed text\n",
    "    'Content': ' '.join,  # Combine raw text\n",
    "    'Experiment': 'first',   # Keep the first (consistent if File Name is unique)         \n",
    "}).reset_index()"
   ]
  },
  {
   "cell_type": "code",
   "execution_count": 69,
   "metadata": {},
   "outputs": [
    {
     "name": "stdout",
     "output_type": "stream",
     "text": [
      "1776\n"
     ]
    }
   ],
   "source": [
    "docs = list(grouped_df.Content)\n",
    "print(len(docs))"
   ]
  },
  {
   "cell_type": "code",
   "execution_count": 70,
   "metadata": {},
   "outputs": [
    {
     "data": {
      "text/plain": [
       "41"
      ]
     },
     "execution_count": 70,
     "metadata": {},
     "output_type": "execute_result"
    }
   ],
   "source": [
    "topic_model = BERTopic().fit(docs)\n",
    "num_topics = len(topic_model.get_topics()) - 1\n",
    "num_topics"
   ]
  },
  {
   "cell_type": "code",
   "execution_count": 71,
   "metadata": {},
   "outputs": [
    {
     "data": {
      "text/html": [
       "<div>\n",
       "<style scoped>\n",
       "    .dataframe tbody tr th:only-of-type {\n",
       "        vertical-align: middle;\n",
       "    }\n",
       "\n",
       "    .dataframe tbody tr th {\n",
       "        vertical-align: top;\n",
       "    }\n",
       "\n",
       "    .dataframe thead th {\n",
       "        text-align: right;\n",
       "    }\n",
       "</style>\n",
       "<table border=\"1\" class=\"dataframe\">\n",
       "  <thead>\n",
       "    <tr style=\"text-align: right;\">\n",
       "      <th></th>\n",
       "      <th>Topic</th>\n",
       "      <th>Count</th>\n",
       "      <th>Name</th>\n",
       "      <th>Representation</th>\n",
       "      <th>Representative_Docs</th>\n",
       "    </tr>\n",
       "  </thead>\n",
       "  <tbody>\n",
       "    <tr>\n",
       "      <th>0</th>\n",
       "      <td>-1</td>\n",
       "      <td>729</td>\n",
       "      <td>-1_it_like_the_was</td>\n",
       "      <td>[it, like, the, was, of, you, and, to, that, but]</td>\n",
       "      <td>[yeah yeah it was. it was like a real memory b...</td>\n",
       "    </tr>\n",
       "    <tr>\n",
       "      <th>1</th>\n",
       "      <td>0</td>\n",
       "      <td>59</td>\n",
       "      <td>0_where_yourself_you_did</td>\n",
       "      <td>[where, yourself, you, did, outside, saw, body...</td>\n",
       "      <td>[i mean it's strange experience. so it's fine ...</td>\n",
       "    </tr>\n",
       "    <tr>\n",
       "      <th>2</th>\n",
       "      <td>1</td>\n",
       "      <td>56</td>\n",
       "      <td>1_okay_mm_ok_confused</td>\n",
       "      <td>[okay, mm, ok, confused, perfect, all, thats, ...</td>\n",
       "      <td>[okay., okay., okay.]</td>\n",
       "    </tr>\n",
       "    <tr>\n",
       "      <th>3</th>\n",
       "      <td>2</td>\n",
       "      <td>49</td>\n",
       "      <td>2_questions_okay_any_other</td>\n",
       "      <td>[questions, okay, any, other, have, ask, want,...</td>\n",
       "      <td>[do you have any questions?, do you maybe have...</td>\n",
       "    </tr>\n",
       "    <tr>\n",
       "      <th>4</th>\n",
       "      <td>3</td>\n",
       "      <td>45</td>\n",
       "      <td>3_yeah_subtle_definitely_ah</td>\n",
       "      <td>[yeah, subtle, definitely, ah, right, follow, ...</td>\n",
       "      <td>[yeah., yeah., yeah.]</td>\n",
       "    </tr>\n",
       "    <tr>\n",
       "      <th>5</th>\n",
       "      <td>4</td>\n",
       "      <td>42</td>\n",
       "      <td>4_meditation_how_the_did</td>\n",
       "      <td>[meditation, how, the, did, during, was, or, i...</td>\n",
       "      <td>[so how was this meditation? this experience m...</td>\n",
       "    </tr>\n",
       "    <tr>\n",
       "      <th>6</th>\n",
       "      <td>5</td>\n",
       "      <td>42</td>\n",
       "      <td>5_blinking_particles_those_changing</td>\n",
       "      <td>[blinking, particles, those, changing, pixel, ...</td>\n",
       "      <td>[yes, and those particles, like, did they get ...</td>\n",
       "    </tr>\n",
       "    <tr>\n",
       "      <th>7</th>\n",
       "      <td>6</td>\n",
       "      <td>39</td>\n",
       "      <td>6_yes_no__</td>\n",
       "      <td>[yes, no, , , , , , , , ]</td>\n",
       "      <td>[yes., yes., yes.]</td>\n",
       "    </tr>\n",
       "    <tr>\n",
       "      <th>8</th>\n",
       "      <td>7</td>\n",
       "      <td>35</td>\n",
       "      <td>7_forest_the_in_very</td>\n",
       "      <td>[forest, the, in, very, some, real, it, bit, w...</td>\n",
       "      <td>[okay, that's very good. what did you like abo...</td>\n",
       "    </tr>\n",
       "    <tr>\n",
       "      <th>9</th>\n",
       "      <td>8</td>\n",
       "      <td>35</td>\n",
       "      <td>8_color_did_notice_changing</td>\n",
       "      <td>[color, did, notice, changing, colors, darker,...</td>\n",
       "      <td>[it was nice. i mean, i kept focusing on the c...</td>\n",
       "    </tr>\n",
       "  </tbody>\n",
       "</table>\n",
       "</div>"
      ],
      "text/plain": [
       "   Topic  Count                                 Name  \\\n",
       "0     -1    729                   -1_it_like_the_was   \n",
       "1      0     59             0_where_yourself_you_did   \n",
       "2      1     56                1_okay_mm_ok_confused   \n",
       "3      2     49           2_questions_okay_any_other   \n",
       "4      3     45          3_yeah_subtle_definitely_ah   \n",
       "5      4     42             4_meditation_how_the_did   \n",
       "6      5     42  5_blinking_particles_those_changing   \n",
       "7      6     39                           6_yes_no__   \n",
       "8      7     35                 7_forest_the_in_very   \n",
       "9      8     35          8_color_did_notice_changing   \n",
       "\n",
       "                                      Representation  \\\n",
       "0  [it, like, the, was, of, you, and, to, that, but]   \n",
       "1  [where, yourself, you, did, outside, saw, body...   \n",
       "2  [okay, mm, ok, confused, perfect, all, thats, ...   \n",
       "3  [questions, okay, any, other, have, ask, want,...   \n",
       "4  [yeah, subtle, definitely, ah, right, follow, ...   \n",
       "5  [meditation, how, the, did, during, was, or, i...   \n",
       "6  [blinking, particles, those, changing, pixel, ...   \n",
       "7                          [yes, no, , , , , , , , ]   \n",
       "8  [forest, the, in, very, some, real, it, bit, w...   \n",
       "9  [color, did, notice, changing, colors, darker,...   \n",
       "\n",
       "                                 Representative_Docs  \n",
       "0  [yeah yeah it was. it was like a real memory b...  \n",
       "1  [i mean it's strange experience. so it's fine ...  \n",
       "2                              [okay., okay., okay.]  \n",
       "3  [do you have any questions?, do you maybe have...  \n",
       "4                              [yeah., yeah., yeah.]  \n",
       "5  [so how was this meditation? this experience m...  \n",
       "6  [yes, and those particles, like, did they get ...  \n",
       "7                                 [yes., yes., yes.]  \n",
       "8  [okay, that's very good. what did you like abo...  \n",
       "9  [it was nice. i mean, i kept focusing on the c...  "
      ]
     },
     "execution_count": 71,
     "metadata": {},
     "output_type": "execute_result"
    }
   ],
   "source": [
    "topic_model.get_topic_info().head(10)"
   ]
  },
  {
   "cell_type": "code",
   "execution_count": 72,
   "metadata": {},
   "outputs": [],
   "source": [
    "topic_distr, topic_token_distr = topic_model.approximate_distribution(\n",
    "      docs, window = 5, calculate_tokens=True)"
   ]
  },
  {
   "cell_type": "code",
   "execution_count": 73,
   "metadata": {},
   "outputs": [
    {
     "data": {
      "application/vnd.plotly.v1+json": {
       "config": {
        "plotlyServerURL": "https://plot.ly"
       },
       "data": [
        {
         "marker": {
          "color": "#C8D2D7",
          "line": {
           "color": "#6E8484",
           "width": 1
          }
         },
         "orientation": "h",
         "type": "bar",
         "x": [
          0.0727722379593415,
          0.022977298268217913,
          0.07184660877777917,
          0.01703797871693335,
          0.04327694400910509,
          0.027650183215454704,
          0.021171218352894764,
          0.01836880533557866,
          0.0180186704037184,
          0.07397164823684582,
          0.05871265298573408,
          0.06259717540811321,
          0.015777758108144916,
          0.03230526879912875,
          0.03286524696997951,
          0.07448580301836366,
          0.017448022681183683,
          0.07502400067081905,
          0.06257165964244309,
          0.024755953240242892,
          0.04398336845741812,
          0.025417770343904706,
          0.017925195849963594
         ],
         "y": [
          "<b>Topic 0</b>: where_yourself_you_did_o...",
          "<b>Topic 1</b>: okay_mm_ok_confused_perf...",
          "<b>Topic 4</b>: meditation_how_the_did_d...",
          "<b>Topic 5</b>: blinking_particles_those...",
          "<b>Topic 7</b>: forest_the_in_very_some",
          "<b>Topic 8</b>: color_did_notice_changin...",
          "<b>Topic 10</b>: okay_nice_thats_yeah_ex...",
          "<b>Topic 12</b>: will_can_chair_sit_want",
          "<b>Topic 13</b>: how_experience_was_sess...",
          "<b>Topic 14</b>: my_focus_on_like_legs",
          "<b>Topic 16</b>: me_identify_didnt_ident...",
          "<b>Topic 17</b>: touch_back_the_touched_...",
          "<b>Topic 18</b>: calm_relaxed_calmer_rel...",
          "<b>Topic 19</b>: delay_moving_was_there_...",
          "<b>Topic 20</b>: dont_know_maybe_questio...",
          "<b>Topic 21</b>: bodies_three_third_felt...",
          "<b>Topic 23</b>: fun_nice_it_was_compari...",
          "<b>Topic 24</b>: normal_weird_strange_di...",
          "<b>Topic 25</b>: back_happy_go_when_feel",
          "<b>Topic 28</b>: vr_virtual_reality_this...",
          "<b>Topic 29</b>: separation_point_no_sep...",
          "<b>Topic 30</b>: eyes_closed_close_medit...",
          "<b>Topic 35</b>: body_real_too_your_expa..."
         ]
        }
       ],
       "layout": {
        "height": 600,
        "hoverlabel": {
         "bgcolor": "white",
         "font": {
          "family": "Rockwell",
          "size": 16
         }
        },
        "template": {
         "data": {
          "bar": [
           {
            "error_x": {
             "color": "rgb(36,36,36)"
            },
            "error_y": {
             "color": "rgb(36,36,36)"
            },
            "marker": {
             "line": {
              "color": "white",
              "width": 0.5
             },
             "pattern": {
              "fillmode": "overlay",
              "size": 10,
              "solidity": 0.2
             }
            },
            "type": "bar"
           }
          ],
          "barpolar": [
           {
            "marker": {
             "line": {
              "color": "white",
              "width": 0.5
             },
             "pattern": {
              "fillmode": "overlay",
              "size": 10,
              "solidity": 0.2
             }
            },
            "type": "barpolar"
           }
          ],
          "carpet": [
           {
            "aaxis": {
             "endlinecolor": "rgb(36,36,36)",
             "gridcolor": "white",
             "linecolor": "white",
             "minorgridcolor": "white",
             "startlinecolor": "rgb(36,36,36)"
            },
            "baxis": {
             "endlinecolor": "rgb(36,36,36)",
             "gridcolor": "white",
             "linecolor": "white",
             "minorgridcolor": "white",
             "startlinecolor": "rgb(36,36,36)"
            },
            "type": "carpet"
           }
          ],
          "choropleth": [
           {
            "colorbar": {
             "outlinewidth": 1,
             "tickcolor": "rgb(36,36,36)",
             "ticks": "outside"
            },
            "type": "choropleth"
           }
          ],
          "contour": [
           {
            "colorbar": {
             "outlinewidth": 1,
             "tickcolor": "rgb(36,36,36)",
             "ticks": "outside"
            },
            "colorscale": [
             [
              0,
              "#440154"
             ],
             [
              0.1111111111111111,
              "#482878"
             ],
             [
              0.2222222222222222,
              "#3e4989"
             ],
             [
              0.3333333333333333,
              "#31688e"
             ],
             [
              0.4444444444444444,
              "#26828e"
             ],
             [
              0.5555555555555556,
              "#1f9e89"
             ],
             [
              0.6666666666666666,
              "#35b779"
             ],
             [
              0.7777777777777778,
              "#6ece58"
             ],
             [
              0.8888888888888888,
              "#b5de2b"
             ],
             [
              1,
              "#fde725"
             ]
            ],
            "type": "contour"
           }
          ],
          "contourcarpet": [
           {
            "colorbar": {
             "outlinewidth": 1,
             "tickcolor": "rgb(36,36,36)",
             "ticks": "outside"
            },
            "type": "contourcarpet"
           }
          ],
          "heatmap": [
           {
            "colorbar": {
             "outlinewidth": 1,
             "tickcolor": "rgb(36,36,36)",
             "ticks": "outside"
            },
            "colorscale": [
             [
              0,
              "#440154"
             ],
             [
              0.1111111111111111,
              "#482878"
             ],
             [
              0.2222222222222222,
              "#3e4989"
             ],
             [
              0.3333333333333333,
              "#31688e"
             ],
             [
              0.4444444444444444,
              "#26828e"
             ],
             [
              0.5555555555555556,
              "#1f9e89"
             ],
             [
              0.6666666666666666,
              "#35b779"
             ],
             [
              0.7777777777777778,
              "#6ece58"
             ],
             [
              0.8888888888888888,
              "#b5de2b"
             ],
             [
              1,
              "#fde725"
             ]
            ],
            "type": "heatmap"
           }
          ],
          "heatmapgl": [
           {
            "colorbar": {
             "outlinewidth": 1,
             "tickcolor": "rgb(36,36,36)",
             "ticks": "outside"
            },
            "colorscale": [
             [
              0,
              "#440154"
             ],
             [
              0.1111111111111111,
              "#482878"
             ],
             [
              0.2222222222222222,
              "#3e4989"
             ],
             [
              0.3333333333333333,
              "#31688e"
             ],
             [
              0.4444444444444444,
              "#26828e"
             ],
             [
              0.5555555555555556,
              "#1f9e89"
             ],
             [
              0.6666666666666666,
              "#35b779"
             ],
             [
              0.7777777777777778,
              "#6ece58"
             ],
             [
              0.8888888888888888,
              "#b5de2b"
             ],
             [
              1,
              "#fde725"
             ]
            ],
            "type": "heatmapgl"
           }
          ],
          "histogram": [
           {
            "marker": {
             "line": {
              "color": "white",
              "width": 0.6
             }
            },
            "type": "histogram"
           }
          ],
          "histogram2d": [
           {
            "colorbar": {
             "outlinewidth": 1,
             "tickcolor": "rgb(36,36,36)",
             "ticks": "outside"
            },
            "colorscale": [
             [
              0,
              "#440154"
             ],
             [
              0.1111111111111111,
              "#482878"
             ],
             [
              0.2222222222222222,
              "#3e4989"
             ],
             [
              0.3333333333333333,
              "#31688e"
             ],
             [
              0.4444444444444444,
              "#26828e"
             ],
             [
              0.5555555555555556,
              "#1f9e89"
             ],
             [
              0.6666666666666666,
              "#35b779"
             ],
             [
              0.7777777777777778,
              "#6ece58"
             ],
             [
              0.8888888888888888,
              "#b5de2b"
             ],
             [
              1,
              "#fde725"
             ]
            ],
            "type": "histogram2d"
           }
          ],
          "histogram2dcontour": [
           {
            "colorbar": {
             "outlinewidth": 1,
             "tickcolor": "rgb(36,36,36)",
             "ticks": "outside"
            },
            "colorscale": [
             [
              0,
              "#440154"
             ],
             [
              0.1111111111111111,
              "#482878"
             ],
             [
              0.2222222222222222,
              "#3e4989"
             ],
             [
              0.3333333333333333,
              "#31688e"
             ],
             [
              0.4444444444444444,
              "#26828e"
             ],
             [
              0.5555555555555556,
              "#1f9e89"
             ],
             [
              0.6666666666666666,
              "#35b779"
             ],
             [
              0.7777777777777778,
              "#6ece58"
             ],
             [
              0.8888888888888888,
              "#b5de2b"
             ],
             [
              1,
              "#fde725"
             ]
            ],
            "type": "histogram2dcontour"
           }
          ],
          "mesh3d": [
           {
            "colorbar": {
             "outlinewidth": 1,
             "tickcolor": "rgb(36,36,36)",
             "ticks": "outside"
            },
            "type": "mesh3d"
           }
          ],
          "parcoords": [
           {
            "line": {
             "colorbar": {
              "outlinewidth": 1,
              "tickcolor": "rgb(36,36,36)",
              "ticks": "outside"
             }
            },
            "type": "parcoords"
           }
          ],
          "pie": [
           {
            "automargin": true,
            "type": "pie"
           }
          ],
          "scatter": [
           {
            "fillpattern": {
             "fillmode": "overlay",
             "size": 10,
             "solidity": 0.2
            },
            "type": "scatter"
           }
          ],
          "scatter3d": [
           {
            "line": {
             "colorbar": {
              "outlinewidth": 1,
              "tickcolor": "rgb(36,36,36)",
              "ticks": "outside"
             }
            },
            "marker": {
             "colorbar": {
              "outlinewidth": 1,
              "tickcolor": "rgb(36,36,36)",
              "ticks": "outside"
             }
            },
            "type": "scatter3d"
           }
          ],
          "scattercarpet": [
           {
            "marker": {
             "colorbar": {
              "outlinewidth": 1,
              "tickcolor": "rgb(36,36,36)",
              "ticks": "outside"
             }
            },
            "type": "scattercarpet"
           }
          ],
          "scattergeo": [
           {
            "marker": {
             "colorbar": {
              "outlinewidth": 1,
              "tickcolor": "rgb(36,36,36)",
              "ticks": "outside"
             }
            },
            "type": "scattergeo"
           }
          ],
          "scattergl": [
           {
            "marker": {
             "colorbar": {
              "outlinewidth": 1,
              "tickcolor": "rgb(36,36,36)",
              "ticks": "outside"
             }
            },
            "type": "scattergl"
           }
          ],
          "scattermapbox": [
           {
            "marker": {
             "colorbar": {
              "outlinewidth": 1,
              "tickcolor": "rgb(36,36,36)",
              "ticks": "outside"
             }
            },
            "type": "scattermapbox"
           }
          ],
          "scatterpolar": [
           {
            "marker": {
             "colorbar": {
              "outlinewidth": 1,
              "tickcolor": "rgb(36,36,36)",
              "ticks": "outside"
             }
            },
            "type": "scatterpolar"
           }
          ],
          "scatterpolargl": [
           {
            "marker": {
             "colorbar": {
              "outlinewidth": 1,
              "tickcolor": "rgb(36,36,36)",
              "ticks": "outside"
             }
            },
            "type": "scatterpolargl"
           }
          ],
          "scatterternary": [
           {
            "marker": {
             "colorbar": {
              "outlinewidth": 1,
              "tickcolor": "rgb(36,36,36)",
              "ticks": "outside"
             }
            },
            "type": "scatterternary"
           }
          ],
          "surface": [
           {
            "colorbar": {
             "outlinewidth": 1,
             "tickcolor": "rgb(36,36,36)",
             "ticks": "outside"
            },
            "colorscale": [
             [
              0,
              "#440154"
             ],
             [
              0.1111111111111111,
              "#482878"
             ],
             [
              0.2222222222222222,
              "#3e4989"
             ],
             [
              0.3333333333333333,
              "#31688e"
             ],
             [
              0.4444444444444444,
              "#26828e"
             ],
             [
              0.5555555555555556,
              "#1f9e89"
             ],
             [
              0.6666666666666666,
              "#35b779"
             ],
             [
              0.7777777777777778,
              "#6ece58"
             ],
             [
              0.8888888888888888,
              "#b5de2b"
             ],
             [
              1,
              "#fde725"
             ]
            ],
            "type": "surface"
           }
          ],
          "table": [
           {
            "cells": {
             "fill": {
              "color": "rgb(237,237,237)"
             },
             "line": {
              "color": "white"
             }
            },
            "header": {
             "fill": {
              "color": "rgb(217,217,217)"
             },
             "line": {
              "color": "white"
             }
            },
            "type": "table"
           }
          ]
         },
         "layout": {
          "annotationdefaults": {
           "arrowhead": 0,
           "arrowwidth": 1
          },
          "autotypenumbers": "strict",
          "coloraxis": {
           "colorbar": {
            "outlinewidth": 1,
            "tickcolor": "rgb(36,36,36)",
            "ticks": "outside"
           }
          },
          "colorscale": {
           "diverging": [
            [
             0,
             "rgb(103,0,31)"
            ],
            [
             0.1,
             "rgb(178,24,43)"
            ],
            [
             0.2,
             "rgb(214,96,77)"
            ],
            [
             0.3,
             "rgb(244,165,130)"
            ],
            [
             0.4,
             "rgb(253,219,199)"
            ],
            [
             0.5,
             "rgb(247,247,247)"
            ],
            [
             0.6,
             "rgb(209,229,240)"
            ],
            [
             0.7,
             "rgb(146,197,222)"
            ],
            [
             0.8,
             "rgb(67,147,195)"
            ],
            [
             0.9,
             "rgb(33,102,172)"
            ],
            [
             1,
             "rgb(5,48,97)"
            ]
           ],
           "sequential": [
            [
             0,
             "#440154"
            ],
            [
             0.1111111111111111,
             "#482878"
            ],
            [
             0.2222222222222222,
             "#3e4989"
            ],
            [
             0.3333333333333333,
             "#31688e"
            ],
            [
             0.4444444444444444,
             "#26828e"
            ],
            [
             0.5555555555555556,
             "#1f9e89"
            ],
            [
             0.6666666666666666,
             "#35b779"
            ],
            [
             0.7777777777777778,
             "#6ece58"
            ],
            [
             0.8888888888888888,
             "#b5de2b"
            ],
            [
             1,
             "#fde725"
            ]
           ],
           "sequentialminus": [
            [
             0,
             "#440154"
            ],
            [
             0.1111111111111111,
             "#482878"
            ],
            [
             0.2222222222222222,
             "#3e4989"
            ],
            [
             0.3333333333333333,
             "#31688e"
            ],
            [
             0.4444444444444444,
             "#26828e"
            ],
            [
             0.5555555555555556,
             "#1f9e89"
            ],
            [
             0.6666666666666666,
             "#35b779"
            ],
            [
             0.7777777777777778,
             "#6ece58"
            ],
            [
             0.8888888888888888,
             "#b5de2b"
            ],
            [
             1,
             "#fde725"
            ]
           ]
          },
          "colorway": [
           "#1F77B4",
           "#FF7F0E",
           "#2CA02C",
           "#D62728",
           "#9467BD",
           "#8C564B",
           "#E377C2",
           "#7F7F7F",
           "#BCBD22",
           "#17BECF"
          ],
          "font": {
           "color": "rgb(36,36,36)"
          },
          "geo": {
           "bgcolor": "white",
           "lakecolor": "white",
           "landcolor": "white",
           "showlakes": true,
           "showland": true,
           "subunitcolor": "white"
          },
          "hoverlabel": {
           "align": "left"
          },
          "hovermode": "closest",
          "mapbox": {
           "style": "light"
          },
          "paper_bgcolor": "white",
          "plot_bgcolor": "white",
          "polar": {
           "angularaxis": {
            "gridcolor": "rgb(232,232,232)",
            "linecolor": "rgb(36,36,36)",
            "showgrid": false,
            "showline": true,
            "ticks": "outside"
           },
           "bgcolor": "white",
           "radialaxis": {
            "gridcolor": "rgb(232,232,232)",
            "linecolor": "rgb(36,36,36)",
            "showgrid": false,
            "showline": true,
            "ticks": "outside"
           }
          },
          "scene": {
           "xaxis": {
            "backgroundcolor": "white",
            "gridcolor": "rgb(232,232,232)",
            "gridwidth": 2,
            "linecolor": "rgb(36,36,36)",
            "showbackground": true,
            "showgrid": false,
            "showline": true,
            "ticks": "outside",
            "zeroline": false,
            "zerolinecolor": "rgb(36,36,36)"
           },
           "yaxis": {
            "backgroundcolor": "white",
            "gridcolor": "rgb(232,232,232)",
            "gridwidth": 2,
            "linecolor": "rgb(36,36,36)",
            "showbackground": true,
            "showgrid": false,
            "showline": true,
            "ticks": "outside",
            "zeroline": false,
            "zerolinecolor": "rgb(36,36,36)"
           },
           "zaxis": {
            "backgroundcolor": "white",
            "gridcolor": "rgb(232,232,232)",
            "gridwidth": 2,
            "linecolor": "rgb(36,36,36)",
            "showbackground": true,
            "showgrid": false,
            "showline": true,
            "ticks": "outside",
            "zeroline": false,
            "zerolinecolor": "rgb(36,36,36)"
           }
          },
          "shapedefaults": {
           "fillcolor": "black",
           "line": {
            "width": 0
           },
           "opacity": 0.3
          },
          "ternary": {
           "aaxis": {
            "gridcolor": "rgb(232,232,232)",
            "linecolor": "rgb(36,36,36)",
            "showgrid": false,
            "showline": true,
            "ticks": "outside"
           },
           "baxis": {
            "gridcolor": "rgb(232,232,232)",
            "linecolor": "rgb(36,36,36)",
            "showgrid": false,
            "showline": true,
            "ticks": "outside"
           },
           "bgcolor": "white",
           "caxis": {
            "gridcolor": "rgb(232,232,232)",
            "linecolor": "rgb(36,36,36)",
            "showgrid": false,
            "showline": true,
            "ticks": "outside"
           }
          },
          "title": {
           "x": 0.05
          },
          "xaxis": {
           "automargin": true,
           "gridcolor": "rgb(232,232,232)",
           "linecolor": "rgb(36,36,36)",
           "showgrid": false,
           "showline": true,
           "ticks": "outside",
           "title": {
            "standoff": 15
           },
           "zeroline": false,
           "zerolinecolor": "rgb(36,36,36)"
          },
          "yaxis": {
           "automargin": true,
           "gridcolor": "rgb(232,232,232)",
           "linecolor": "rgb(36,36,36)",
           "showgrid": false,
           "showline": true,
           "ticks": "outside",
           "title": {
            "standoff": 15
           },
           "zeroline": false,
           "zerolinecolor": "rgb(36,36,36)"
          }
         }
        },
        "title": {
         "font": {
          "color": "Black",
          "size": 22
         },
         "text": "<b>Topic Probability Distribution</b>",
         "x": 0.5,
         "xanchor": "center",
         "y": 0.95,
         "yanchor": "top"
        },
        "width": 800,
        "xaxis": {
         "title": {
          "text": "Probability"
         }
        }
       }
      }
     },
     "metadata": {},
     "output_type": "display_data"
    }
   ],
   "source": [
    "topic_model.visualize_distribution(topic_distr[1])"
   ]
  },
  {
   "cell_type": "code",
   "execution_count": 74,
   "metadata": {},
   "outputs": [],
   "source": [
    "doc_id = 9"
   ]
  },
  {
   "cell_type": "code",
   "execution_count": 75,
   "metadata": {},
   "outputs": [
    {
     "data": {
      "text/html": [
       "<style type=\"text/css\">\n",
       "#T_c9523_row0_col0, #T_c9523_row0_col1, #T_c9523_row0_col2, #T_c9523_row0_col3, #T_c9523_row0_col5, #T_c9523_row6_col8, #T_c9523_row6_col9, #T_c9523_row6_col10, #T_c9523_row6_col11, #T_c9523_row11_col5, #T_c9523_row12_col8, #T_c9523_row12_col9, #T_c9523_row12_col10, #T_c9523_row12_col11, #T_c9523_row13_col22 {\n",
       "  background-color: #e5eff9;\n",
       "  color: #000000;\n",
       "  color: black;\n",
       "}\n",
       "#T_c9523_row0_col4, #T_c9523_row0_col12, #T_c9523_row0_col13, #T_c9523_row0_col14, #T_c9523_row0_col15, #T_c9523_row0_col16, #T_c9523_row0_col17, #T_c9523_row0_col18, #T_c9523_row0_col19, #T_c9523_row0_col20, #T_c9523_row0_col21, #T_c9523_row0_col22, #T_c9523_row0_col23, #T_c9523_row1_col0, #T_c9523_row1_col1, #T_c9523_row1_col2, #T_c9523_row1_col3, #T_c9523_row1_col4, #T_c9523_row1_col5, #T_c9523_row1_col6, #T_c9523_row1_col7, #T_c9523_row1_col12, #T_c9523_row1_col13, #T_c9523_row1_col14, #T_c9523_row1_col15, #T_c9523_row1_col16, #T_c9523_row1_col17, #T_c9523_row1_col18, #T_c9523_row1_col19, #T_c9523_row1_col20, #T_c9523_row1_col21, #T_c9523_row1_col22, #T_c9523_row1_col23, #T_c9523_row2_col0, #T_c9523_row2_col1, #T_c9523_row2_col2, #T_c9523_row2_col3, #T_c9523_row2_col4, #T_c9523_row2_col5, #T_c9523_row2_col6, #T_c9523_row2_col7, #T_c9523_row2_col12, #T_c9523_row2_col13, #T_c9523_row2_col14, #T_c9523_row2_col15, #T_c9523_row2_col16, #T_c9523_row2_col17, #T_c9523_row2_col18, #T_c9523_row2_col19, #T_c9523_row2_col20, #T_c9523_row2_col21, #T_c9523_row2_col22, #T_c9523_row2_col23, #T_c9523_row3_col0, #T_c9523_row3_col1, #T_c9523_row3_col2, #T_c9523_row3_col3, #T_c9523_row3_col4, #T_c9523_row3_col5, #T_c9523_row3_col6, #T_c9523_row3_col7, #T_c9523_row3_col12, #T_c9523_row3_col13, #T_c9523_row3_col14, #T_c9523_row3_col15, #T_c9523_row3_col16, #T_c9523_row3_col17, #T_c9523_row3_col18, #T_c9523_row3_col19, #T_c9523_row3_col20, #T_c9523_row3_col21, #T_c9523_row3_col22, #T_c9523_row3_col23, #T_c9523_row4_col4, #T_c9523_row4_col5, #T_c9523_row4_col6, #T_c9523_row4_col7, #T_c9523_row4_col8, #T_c9523_row4_col9, #T_c9523_row4_col10, #T_c9523_row4_col11, #T_c9523_row4_col12, #T_c9523_row4_col13, #T_c9523_row4_col14, #T_c9523_row4_col15, #T_c9523_row4_col16, #T_c9523_row4_col17, #T_c9523_row4_col18, #T_c9523_row4_col19, #T_c9523_row4_col20, #T_c9523_row4_col21, #T_c9523_row4_col22, #T_c9523_row4_col23, #T_c9523_row5_col0, #T_c9523_row5_col1, #T_c9523_row5_col2, #T_c9523_row5_col3, #T_c9523_row5_col4, #T_c9523_row5_col5, #T_c9523_row5_col6, #T_c9523_row5_col7, #T_c9523_row5_col12, #T_c9523_row5_col13, #T_c9523_row5_col14, #T_c9523_row5_col15, #T_c9523_row5_col16, #T_c9523_row5_col17, #T_c9523_row5_col18, #T_c9523_row5_col19, #T_c9523_row5_col20, #T_c9523_row5_col21, #T_c9523_row5_col22, #T_c9523_row5_col23, #T_c9523_row6_col4, #T_c9523_row6_col5, #T_c9523_row6_col6, #T_c9523_row6_col7, #T_c9523_row6_col12, #T_c9523_row6_col13, #T_c9523_row6_col14, #T_c9523_row6_col15, #T_c9523_row6_col16, #T_c9523_row6_col17, #T_c9523_row6_col18, #T_c9523_row6_col19, #T_c9523_row6_col20, #T_c9523_row6_col21, #T_c9523_row6_col22, #T_c9523_row6_col23, #T_c9523_row7_col4, #T_c9523_row7_col5, #T_c9523_row7_col6, #T_c9523_row7_col7, #T_c9523_row7_col12, #T_c9523_row7_col21, #T_c9523_row7_col22, #T_c9523_row7_col23, #T_c9523_row8_col0, #T_c9523_row8_col1, #T_c9523_row8_col2, #T_c9523_row8_col3, #T_c9523_row8_col4, #T_c9523_row8_col12, #T_c9523_row8_col13, #T_c9523_row8_col14, #T_c9523_row8_col15, #T_c9523_row8_col16, #T_c9523_row8_col17, #T_c9523_row8_col18, #T_c9523_row9_col7, #T_c9523_row9_col8, #T_c9523_row9_col9, #T_c9523_row9_col10, #T_c9523_row9_col11, #T_c9523_row9_col12, #T_c9523_row9_col13, #T_c9523_row9_col14, #T_c9523_row9_col15, #T_c9523_row9_col16, #T_c9523_row9_col17, #T_c9523_row9_col18, #T_c9523_row9_col19, #T_c9523_row9_col20, #T_c9523_row9_col21, #T_c9523_row9_col22, #T_c9523_row9_col23, #T_c9523_row10_col12, #T_c9523_row11_col0, #T_c9523_row11_col1, #T_c9523_row11_col2, #T_c9523_row11_col3, #T_c9523_row11_col4, #T_c9523_row11_col12, #T_c9523_row11_col13, #T_c9523_row11_col14, #T_c9523_row11_col15, #T_c9523_row11_col16, #T_c9523_row11_col17, #T_c9523_row11_col18, #T_c9523_row11_col19, #T_c9523_row11_col20, #T_c9523_row11_col21, #T_c9523_row11_col22, #T_c9523_row11_col23, #T_c9523_row12_col0, #T_c9523_row12_col1, #T_c9523_row12_col2, #T_c9523_row12_col3, #T_c9523_row12_col4, #T_c9523_row12_col5, #T_c9523_row12_col6, #T_c9523_row12_col7, #T_c9523_row12_col12, #T_c9523_row12_col17, #T_c9523_row12_col18, #T_c9523_row12_col19, #T_c9523_row12_col20, #T_c9523_row12_col21, #T_c9523_row12_col22, #T_c9523_row12_col23, #T_c9523_row13_col4, #T_c9523_row13_col5, #T_c9523_row13_col6, #T_c9523_row13_col7, #T_c9523_row13_col8, #T_c9523_row13_col9, #T_c9523_row13_col10, #T_c9523_row13_col11, #T_c9523_row13_col12, #T_c9523_row13_col13, #T_c9523_row13_col14, #T_c9523_row13_col15, #T_c9523_row13_col16, #T_c9523_row13_col23, #T_c9523_row14_col4, #T_c9523_row14_col5, #T_c9523_row14_col6, #T_c9523_row14_col7, #T_c9523_row14_col12, #T_c9523_row14_col13, #T_c9523_row14_col14, #T_c9523_row14_col15, #T_c9523_row14_col16, #T_c9523_row14_col17, #T_c9523_row14_col18, #T_c9523_row14_col19, #T_c9523_row14_col20, #T_c9523_row14_col21, #T_c9523_row14_col22, #T_c9523_row14_col23, #T_c9523_row15_col0, #T_c9523_row15_col1, #T_c9523_row15_col2, #T_c9523_row15_col3, #T_c9523_row15_col4, #T_c9523_row15_col5, #T_c9523_row15_col6, #T_c9523_row15_col7, #T_c9523_row15_col12, #T_c9523_row15_col13, #T_c9523_row15_col14, #T_c9523_row15_col15, #T_c9523_row15_col16, #T_c9523_row15_col17, #T_c9523_row15_col18, #T_c9523_row15_col19, #T_c9523_row15_col20, #T_c9523_row15_col21, #T_c9523_row15_col22, #T_c9523_row15_col23, #T_c9523_row16_col0, #T_c9523_row16_col1, #T_c9523_row16_col2, #T_c9523_row16_col3, #T_c9523_row16_col4, #T_c9523_row16_col5, #T_c9523_row16_col6, #T_c9523_row16_col7, #T_c9523_row16_col8, #T_c9523_row16_col9, #T_c9523_row16_col10, #T_c9523_row16_col11, #T_c9523_row16_col12, #T_c9523_row16_col13, #T_c9523_row16_col18, #T_c9523_row16_col19, #T_c9523_row16_col20, #T_c9523_row16_col21, #T_c9523_row16_col22, #T_c9523_row16_col23, #T_c9523_row17_col4, #T_c9523_row17_col5, #T_c9523_row17_col6, #T_c9523_row17_col7, #T_c9523_row17_col8, #T_c9523_row17_col9, #T_c9523_row17_col10, #T_c9523_row17_col11, #T_c9523_row17_col12, #T_c9523_row17_col13, #T_c9523_row17_col14, #T_c9523_row17_col15, #T_c9523_row17_col16, #T_c9523_row17_col17, #T_c9523_row17_col18, #T_c9523_row17_col19, #T_c9523_row17_col20, #T_c9523_row17_col21, #T_c9523_row17_col22, #T_c9523_row17_col23, #T_c9523_row18_col12, #T_c9523_row18_col13, #T_c9523_row18_col14, #T_c9523_row18_col15, #T_c9523_row18_col16, #T_c9523_row18_col17, #T_c9523_row18_col18, #T_c9523_row18_col19, #T_c9523_row18_col20, #T_c9523_row18_col21, #T_c9523_row18_col22, #T_c9523_row18_col23 {\n",
       "  background-color: #f7fbff;\n",
       "  color: #000000;\n",
       "  color: white;\n",
       "  background-color: white;\n",
       "}\n",
       "#T_c9523_row0_col6, #T_c9523_row7_col14, #T_c9523_row7_col15, #T_c9523_row7_col16, #T_c9523_row11_col10 {\n",
       "  background-color: #d6e5f4;\n",
       "  color: #000000;\n",
       "  color: black;\n",
       "}\n",
       "#T_c9523_row0_col7 {\n",
       "  background-color: #c7dbef;\n",
       "  color: #000000;\n",
       "  color: black;\n",
       "}\n",
       "#T_c9523_row0_col8 {\n",
       "  background-color: #a5cde3;\n",
       "  color: #000000;\n",
       "  color: black;\n",
       "}\n",
       "#T_c9523_row0_col9 {\n",
       "  background-color: #c2d9ee;\n",
       "  color: #000000;\n",
       "  color: black;\n",
       "}\n",
       "#T_c9523_row0_col10 {\n",
       "  background-color: #d3e4f3;\n",
       "  color: #000000;\n",
       "  color: black;\n",
       "}\n",
       "#T_c9523_row0_col11, #T_c9523_row5_col8, #T_c9523_row5_col9, #T_c9523_row5_col10, #T_c9523_row5_col11, #T_c9523_row9_col0 {\n",
       "  background-color: #e3eef8;\n",
       "  color: #000000;\n",
       "  color: black;\n",
       "}\n",
       "#T_c9523_row1_col8, #T_c9523_row1_col9, #T_c9523_row1_col10, #T_c9523_row1_col11, #T_c9523_row9_col6, #T_c9523_row10_col6, #T_c9523_row14_col8, #T_c9523_row14_col9, #T_c9523_row14_col10, #T_c9523_row14_col11, #T_c9523_row15_col8, #T_c9523_row15_col9, #T_c9523_row15_col10, #T_c9523_row15_col11 {\n",
       "  background-color: #e8f1fa;\n",
       "  color: #000000;\n",
       "  color: black;\n",
       "}\n",
       "#T_c9523_row2_col8, #T_c9523_row2_col9, #T_c9523_row2_col10, #T_c9523_row2_col11, #T_c9523_row7_col13, #T_c9523_row13_col17, #T_c9523_row16_col14, #T_c9523_row16_col15, #T_c9523_row16_col16, #T_c9523_row16_col17 {\n",
       "  background-color: #e7f1fa;\n",
       "  color: #000000;\n",
       "  color: black;\n",
       "}\n",
       "#T_c9523_row3_col8, #T_c9523_row3_col9, #T_c9523_row3_col10, #T_c9523_row3_col11, #T_c9523_row12_col13, #T_c9523_row12_col14, #T_c9523_row12_col15, #T_c9523_row12_col16 {\n",
       "  background-color: #eaf2fb;\n",
       "  color: #000000;\n",
       "  color: black;\n",
       "}\n",
       "#T_c9523_row4_col0, #T_c9523_row4_col1, #T_c9523_row4_col2, #T_c9523_row4_col3, #T_c9523_row6_col0, #T_c9523_row6_col1, #T_c9523_row6_col2, #T_c9523_row6_col3, #T_c9523_row7_col18, #T_c9523_row7_col19, #T_c9523_row7_col20, #T_c9523_row10_col13 {\n",
       "  background-color: #e9f2fa;\n",
       "  color: #000000;\n",
       "  color: black;\n",
       "}\n",
       "#T_c9523_row7_col0, #T_c9523_row7_col1, #T_c9523_row7_col2, #T_c9523_row7_col3, #T_c9523_row7_col8, #T_c9523_row7_col9, #T_c9523_row7_col10, #T_c9523_row7_col11, #T_c9523_row17_col0, #T_c9523_row17_col1, #T_c9523_row17_col2, #T_c9523_row17_col3 {\n",
       "  background-color: #e7f0fa;\n",
       "  color: #000000;\n",
       "  color: black;\n",
       "}\n",
       "#T_c9523_row7_col17, #T_c9523_row9_col5, #T_c9523_row10_col5 {\n",
       "  background-color: #d8e7f5;\n",
       "  color: #000000;\n",
       "  color: black;\n",
       "}\n",
       "#T_c9523_row8_col5 {\n",
       "  background-color: #c9ddf0;\n",
       "  color: #000000;\n",
       "  color: black;\n",
       "}\n",
       "#T_c9523_row8_col6 {\n",
       "  background-color: #7db8da;\n",
       "  color: #000000;\n",
       "  color: black;\n",
       "}\n",
       "#T_c9523_row8_col7 {\n",
       "  background-color: #3a8ac2;\n",
       "  color: #f1f1f1;\n",
       "  color: black;\n",
       "}\n",
       "#T_c9523_row8_col8 {\n",
       "  background-color: #09529d;\n",
       "  color: #f1f1f1;\n",
       "  color: black;\n",
       "}\n",
       "#T_c9523_row8_col9 {\n",
       "  background-color: #4090c5;\n",
       "  color: #f1f1f1;\n",
       "  color: black;\n",
       "}\n",
       "#T_c9523_row8_col10 {\n",
       "  background-color: #8fc2de;\n",
       "  color: #000000;\n",
       "  color: black;\n",
       "}\n",
       "#T_c9523_row8_col11 {\n",
       "  background-color: #cde0f1;\n",
       "  color: #000000;\n",
       "  color: black;\n",
       "}\n",
       "#T_c9523_row8_col19 {\n",
       "  background-color: #dfebf7;\n",
       "  color: #000000;\n",
       "  color: black;\n",
       "}\n",
       "#T_c9523_row8_col20, #T_c9523_row8_col21, #T_c9523_row8_col22, #T_c9523_row10_col15 {\n",
       "  background-color: #cbdef1;\n",
       "  color: #000000;\n",
       "  color: black;\n",
       "}\n",
       "#T_c9523_row8_col23 {\n",
       "  background-color: #e3eef9;\n",
       "  color: #000000;\n",
       "  color: black;\n",
       "}\n",
       "#T_c9523_row9_col1, #T_c9523_row10_col0, #T_c9523_row11_col6 {\n",
       "  background-color: #d5e5f4;\n",
       "  color: #000000;\n",
       "  color: black;\n",
       "}\n",
       "#T_c9523_row9_col2, #T_c9523_row11_col7, #T_c9523_row13_col19, #T_c9523_row13_col20 {\n",
       "  background-color: #c4daee;\n",
       "  color: #000000;\n",
       "  color: black;\n",
       "}\n",
       "#T_c9523_row9_col3, #T_c9523_row10_col16 {\n",
       "  background-color: #abd0e6;\n",
       "  color: #000000;\n",
       "  color: black;\n",
       "}\n",
       "#T_c9523_row9_col4 {\n",
       "  background-color: #cadef0;\n",
       "  color: #000000;\n",
       "  color: black;\n",
       "}\n",
       "#T_c9523_row10_col1 {\n",
       "  background-color: #bcd7eb;\n",
       "  color: #000000;\n",
       "  color: black;\n",
       "}\n",
       "#T_c9523_row10_col2 {\n",
       "  background-color: #a1cbe2;\n",
       "  color: #000000;\n",
       "  color: black;\n",
       "}\n",
       "#T_c9523_row10_col3 {\n",
       "  background-color: #82bbdb;\n",
       "  color: #000000;\n",
       "  color: black;\n",
       "}\n",
       "#T_c9523_row10_col4 {\n",
       "  background-color: #c1d9ed;\n",
       "  color: #000000;\n",
       "  color: black;\n",
       "}\n",
       "#T_c9523_row10_col7, #T_c9523_row11_col11 {\n",
       "  background-color: #e6f0f9;\n",
       "  color: #000000;\n",
       "  color: black;\n",
       "}\n",
       "#T_c9523_row10_col8, #T_c9523_row10_col9, #T_c9523_row10_col10 {\n",
       "  background-color: #d1e2f3;\n",
       "  color: #000000;\n",
       "  color: black;\n",
       "}\n",
       "#T_c9523_row10_col11 {\n",
       "  background-color: #e2edf8;\n",
       "  color: #000000;\n",
       "  color: black;\n",
       "}\n",
       "#T_c9523_row10_col14, #T_c9523_row13_col0, #T_c9523_row13_col1, #T_c9523_row13_col2, #T_c9523_row13_col3 {\n",
       "  background-color: #dae8f6;\n",
       "  color: #000000;\n",
       "  color: black;\n",
       "}\n",
       "#T_c9523_row10_col17 {\n",
       "  background-color: #94c4df;\n",
       "  color: #000000;\n",
       "  color: black;\n",
       "}\n",
       "#T_c9523_row10_col18, #T_c9523_row18_col3 {\n",
       "  background-color: #74b3d8;\n",
       "  color: #000000;\n",
       "  color: black;\n",
       "}\n",
       "#T_c9523_row10_col19, #T_c9523_row10_col22 {\n",
       "  background-color: #2c7cba;\n",
       "  color: #f1f1f1;\n",
       "  color: black;\n",
       "}\n",
       "#T_c9523_row10_col20 {\n",
       "  background-color: #08306b;\n",
       "  color: #f1f1f1;\n",
       "  color: black;\n",
       "}\n",
       "#T_c9523_row10_col21 {\n",
       "  background-color: #0a549e;\n",
       "  color: #f1f1f1;\n",
       "  color: black;\n",
       "}\n",
       "#T_c9523_row10_col23 {\n",
       "  background-color: #92c4de;\n",
       "  color: #000000;\n",
       "  color: black;\n",
       "}\n",
       "#T_c9523_row11_col8, #T_c9523_row18_col9 {\n",
       "  background-color: #a8cee4;\n",
       "  color: #000000;\n",
       "  color: black;\n",
       "}\n",
       "#T_c9523_row11_col9 {\n",
       "  background-color: #c6dbef;\n",
       "  color: #000000;\n",
       "  color: black;\n",
       "}\n",
       "#T_c9523_row13_col18 {\n",
       "  background-color: #d6e6f4;\n",
       "  color: #000000;\n",
       "  color: black;\n",
       "}\n",
       "#T_c9523_row13_col21 {\n",
       "  background-color: #d4e4f4;\n",
       "  color: #000000;\n",
       "  color: black;\n",
       "}\n",
       "#T_c9523_row14_col0, #T_c9523_row14_col1, #T_c9523_row14_col2, #T_c9523_row14_col3 {\n",
       "  background-color: #dceaf6;\n",
       "  color: #000000;\n",
       "  color: black;\n",
       "}\n",
       "#T_c9523_row18_col0 {\n",
       "  background-color: #cfe1f2;\n",
       "  color: #000000;\n",
       "  color: black;\n",
       "}\n",
       "#T_c9523_row18_col1 {\n",
       "  background-color: #b8d5ea;\n",
       "  color: #000000;\n",
       "  color: black;\n",
       "}\n",
       "#T_c9523_row18_col2 {\n",
       "  background-color: #9ac8e0;\n",
       "  color: #000000;\n",
       "  color: black;\n",
       "}\n",
       "#T_c9523_row18_col4 {\n",
       "  background-color: #bfd8ed;\n",
       "  color: #000000;\n",
       "  color: black;\n",
       "}\n",
       "#T_c9523_row18_col5 {\n",
       "  background-color: #b7d4ea;\n",
       "  color: #000000;\n",
       "  color: black;\n",
       "}\n",
       "#T_c9523_row18_col6 {\n",
       "  background-color: #b2d2e8;\n",
       "  color: #000000;\n",
       "  color: black;\n",
       "}\n",
       "#T_c9523_row18_col7 {\n",
       "  background-color: #b3d3e8;\n",
       "  color: #000000;\n",
       "  color: black;\n",
       "}\n",
       "#T_c9523_row18_col8 {\n",
       "  background-color: #7cb7da;\n",
       "  color: #000000;\n",
       "  color: black;\n",
       "}\n",
       "#T_c9523_row18_col10 {\n",
       "  background-color: #c8dcf0;\n",
       "  color: #000000;\n",
       "  color: black;\n",
       "}\n",
       "#T_c9523_row18_col11 {\n",
       "  background-color: #d9e8f5;\n",
       "  color: #000000;\n",
       "  color: black;\n",
       "}\n",
       "</style>\n",
       "<table id=\"T_c9523\">\n",
       "  <thead>\n",
       "    <tr>\n",
       "      <th class=\"blank level0\" >&nbsp;</th>\n",
       "      <th id=\"T_c9523_level0_col0\" class=\"col_heading level0 col0\" >so</th>\n",
       "      <th id=\"T_c9523_level0_col1\" class=\"col_heading level0 col1\" >felt </th>\n",
       "      <th id=\"T_c9523_level0_col2\" class=\"col_heading level0 col2\" >like  </th>\n",
       "      <th id=\"T_c9523_level0_col3\" class=\"col_heading level0 col3\" >time   </th>\n",
       "      <th id=\"T_c9523_level0_col4\" class=\"col_heading level0 col4\" >lag    </th>\n",
       "      <th id=\"T_c9523_level0_col5\" class=\"col_heading level0 col5\" >in     </th>\n",
       "      <th id=\"T_c9523_level0_col6\" class=\"col_heading level0 col6\" >the      </th>\n",
       "      <th id=\"T_c9523_level0_col7\" class=\"col_heading level0 col7\" >last       </th>\n",
       "      <th id=\"T_c9523_level0_col8\" class=\"col_heading level0 col8\" >one        </th>\n",
       "      <th id=\"T_c9523_level0_col9\" class=\"col_heading level0 col9\" >of         </th>\n",
       "      <th id=\"T_c9523_level0_col10\" class=\"col_heading level0 col10\" >what          </th>\n",
       "      <th id=\"T_c9523_level0_col11\" class=\"col_heading level0 col11\" >was           </th>\n",
       "      <th id=\"T_c9523_level0_col12\" class=\"col_heading level0 col12\" >experiencing            </th>\n",
       "      <th id=\"T_c9523_level0_col13\" class=\"col_heading level0 col13\" >and             </th>\n",
       "      <th id=\"T_c9523_level0_col14\" class=\"col_heading level0 col14\" >what              </th>\n",
       "      <th id=\"T_c9523_level0_col15\" class=\"col_heading level0 col15\" >was               </th>\n",
       "      <th id=\"T_c9523_level0_col16\" class=\"col_heading level0 col16\" >seeing                </th>\n",
       "      <th id=\"T_c9523_level0_col17\" class=\"col_heading level0 col17\" >but                 </th>\n",
       "      <th id=\"T_c9523_level0_col18\" class=\"col_heading level0 col18\" >never                  </th>\n",
       "      <th id=\"T_c9523_level0_col19\" class=\"col_heading level0 col19\" >felt                   </th>\n",
       "      <th id=\"T_c9523_level0_col20\" class=\"col_heading level0 col20\" >like                    </th>\n",
       "      <th id=\"T_c9523_level0_col21\" class=\"col_heading level0 col21\" >had                     </th>\n",
       "      <th id=\"T_c9523_level0_col22\" class=\"col_heading level0 col22\" >three                      </th>\n",
       "      <th id=\"T_c9523_level0_col23\" class=\"col_heading level0 col23\" >bodies                       </th>\n",
       "    </tr>\n",
       "  </thead>\n",
       "  <tbody>\n",
       "    <tr>\n",
       "      <th id=\"T_c9523_level0_row0\" class=\"row_heading level0 row0\" >4_meditation_how_the_did</th>\n",
       "      <td id=\"T_c9523_row0_col0\" class=\"data row0 col0\" >0.136</td>\n",
       "      <td id=\"T_c9523_row0_col1\" class=\"data row0 col1\" >0.136</td>\n",
       "      <td id=\"T_c9523_row0_col2\" class=\"data row0 col2\" >0.136</td>\n",
       "      <td id=\"T_c9523_row0_col3\" class=\"data row0 col3\" >0.136</td>\n",
       "      <td id=\"T_c9523_row0_col4\" class=\"data row0 col4\" >0.000</td>\n",
       "      <td id=\"T_c9523_row0_col5\" class=\"data row0 col5\" >0.132</td>\n",
       "      <td id=\"T_c9523_row0_col6\" class=\"data row0 col6\" >0.252</td>\n",
       "      <td id=\"T_c9523_row0_col7\" class=\"data row0 col7\" >0.365</td>\n",
       "      <td id=\"T_c9523_row0_col8\" class=\"data row0 col8\" >0.516</td>\n",
       "      <td id=\"T_c9523_row0_col9\" class=\"data row0 col9\" >0.384</td>\n",
       "      <td id=\"T_c9523_row0_col10\" class=\"data row0 col10\" >0.265</td>\n",
       "      <td id=\"T_c9523_row0_col11\" class=\"data row0 col11\" >0.151</td>\n",
       "      <td id=\"T_c9523_row0_col12\" class=\"data row0 col12\" >0.000</td>\n",
       "      <td id=\"T_c9523_row0_col13\" class=\"data row0 col13\" >0.000</td>\n",
       "      <td id=\"T_c9523_row0_col14\" class=\"data row0 col14\" >0.000</td>\n",
       "      <td id=\"T_c9523_row0_col15\" class=\"data row0 col15\" >0.000</td>\n",
       "      <td id=\"T_c9523_row0_col16\" class=\"data row0 col16\" >0.000</td>\n",
       "      <td id=\"T_c9523_row0_col17\" class=\"data row0 col17\" >0.000</td>\n",
       "      <td id=\"T_c9523_row0_col18\" class=\"data row0 col18\" >0.000</td>\n",
       "      <td id=\"T_c9523_row0_col19\" class=\"data row0 col19\" >0.000</td>\n",
       "      <td id=\"T_c9523_row0_col20\" class=\"data row0 col20\" >0.000</td>\n",
       "      <td id=\"T_c9523_row0_col21\" class=\"data row0 col21\" >0.000</td>\n",
       "      <td id=\"T_c9523_row0_col22\" class=\"data row0 col22\" >0.000</td>\n",
       "      <td id=\"T_c9523_row0_col23\" class=\"data row0 col23\" >0.000</td>\n",
       "    </tr>\n",
       "    <tr>\n",
       "      <th id=\"T_c9523_level0_row1\" class=\"row_heading level0 row1\" >5_blinking_particles_those_changing</th>\n",
       "      <td id=\"T_c9523_row1_col0\" class=\"data row1 col0\" >0.000</td>\n",
       "      <td id=\"T_c9523_row1_col1\" class=\"data row1 col1\" >0.000</td>\n",
       "      <td id=\"T_c9523_row1_col2\" class=\"data row1 col2\" >0.000</td>\n",
       "      <td id=\"T_c9523_row1_col3\" class=\"data row1 col3\" >0.000</td>\n",
       "      <td id=\"T_c9523_row1_col4\" class=\"data row1 col4\" >0.000</td>\n",
       "      <td id=\"T_c9523_row1_col5\" class=\"data row1 col5\" >0.000</td>\n",
       "      <td id=\"T_c9523_row1_col6\" class=\"data row1 col6\" >0.000</td>\n",
       "      <td id=\"T_c9523_row1_col7\" class=\"data row1 col7\" >0.000</td>\n",
       "      <td id=\"T_c9523_row1_col8\" class=\"data row1 col8\" >0.114</td>\n",
       "      <td id=\"T_c9523_row1_col9\" class=\"data row1 col9\" >0.114</td>\n",
       "      <td id=\"T_c9523_row1_col10\" class=\"data row1 col10\" >0.114</td>\n",
       "      <td id=\"T_c9523_row1_col11\" class=\"data row1 col11\" >0.114</td>\n",
       "      <td id=\"T_c9523_row1_col12\" class=\"data row1 col12\" >0.000</td>\n",
       "      <td id=\"T_c9523_row1_col13\" class=\"data row1 col13\" >0.000</td>\n",
       "      <td id=\"T_c9523_row1_col14\" class=\"data row1 col14\" >0.000</td>\n",
       "      <td id=\"T_c9523_row1_col15\" class=\"data row1 col15\" >0.000</td>\n",
       "      <td id=\"T_c9523_row1_col16\" class=\"data row1 col16\" >0.000</td>\n",
       "      <td id=\"T_c9523_row1_col17\" class=\"data row1 col17\" >0.000</td>\n",
       "      <td id=\"T_c9523_row1_col18\" class=\"data row1 col18\" >0.000</td>\n",
       "      <td id=\"T_c9523_row1_col19\" class=\"data row1 col19\" >0.000</td>\n",
       "      <td id=\"T_c9523_row1_col20\" class=\"data row1 col20\" >0.000</td>\n",
       "      <td id=\"T_c9523_row1_col21\" class=\"data row1 col21\" >0.000</td>\n",
       "      <td id=\"T_c9523_row1_col22\" class=\"data row1 col22\" >0.000</td>\n",
       "      <td id=\"T_c9523_row1_col23\" class=\"data row1 col23\" >0.000</td>\n",
       "    </tr>\n",
       "    <tr>\n",
       "      <th id=\"T_c9523_level0_row2\" class=\"row_heading level0 row2\" >7_forest_the_in_very</th>\n",
       "      <td id=\"T_c9523_row2_col0\" class=\"data row2 col0\" >0.000</td>\n",
       "      <td id=\"T_c9523_row2_col1\" class=\"data row2 col1\" >0.000</td>\n",
       "      <td id=\"T_c9523_row2_col2\" class=\"data row2 col2\" >0.000</td>\n",
       "      <td id=\"T_c9523_row2_col3\" class=\"data row2 col3\" >0.000</td>\n",
       "      <td id=\"T_c9523_row2_col4\" class=\"data row2 col4\" >0.000</td>\n",
       "      <td id=\"T_c9523_row2_col5\" class=\"data row2 col5\" >0.000</td>\n",
       "      <td id=\"T_c9523_row2_col6\" class=\"data row2 col6\" >0.000</td>\n",
       "      <td id=\"T_c9523_row2_col7\" class=\"data row2 col7\" >0.000</td>\n",
       "      <td id=\"T_c9523_row2_col8\" class=\"data row2 col8\" >0.120</td>\n",
       "      <td id=\"T_c9523_row2_col9\" class=\"data row2 col9\" >0.120</td>\n",
       "      <td id=\"T_c9523_row2_col10\" class=\"data row2 col10\" >0.120</td>\n",
       "      <td id=\"T_c9523_row2_col11\" class=\"data row2 col11\" >0.120</td>\n",
       "      <td id=\"T_c9523_row2_col12\" class=\"data row2 col12\" >0.000</td>\n",
       "      <td id=\"T_c9523_row2_col13\" class=\"data row2 col13\" >0.000</td>\n",
       "      <td id=\"T_c9523_row2_col14\" class=\"data row2 col14\" >0.000</td>\n",
       "      <td id=\"T_c9523_row2_col15\" class=\"data row2 col15\" >0.000</td>\n",
       "      <td id=\"T_c9523_row2_col16\" class=\"data row2 col16\" >0.000</td>\n",
       "      <td id=\"T_c9523_row2_col17\" class=\"data row2 col17\" >0.000</td>\n",
       "      <td id=\"T_c9523_row2_col18\" class=\"data row2 col18\" >0.000</td>\n",
       "      <td id=\"T_c9523_row2_col19\" class=\"data row2 col19\" >0.000</td>\n",
       "      <td id=\"T_c9523_row2_col20\" class=\"data row2 col20\" >0.000</td>\n",
       "      <td id=\"T_c9523_row2_col21\" class=\"data row2 col21\" >0.000</td>\n",
       "      <td id=\"T_c9523_row2_col22\" class=\"data row2 col22\" >0.000</td>\n",
       "      <td id=\"T_c9523_row2_col23\" class=\"data row2 col23\" >0.000</td>\n",
       "    </tr>\n",
       "    <tr>\n",
       "      <th id=\"T_c9523_level0_row3\" class=\"row_heading level0 row3\" >8_color_did_notice_changing</th>\n",
       "      <td id=\"T_c9523_row3_col0\" class=\"data row3 col0\" >0.000</td>\n",
       "      <td id=\"T_c9523_row3_col1\" class=\"data row3 col1\" >0.000</td>\n",
       "      <td id=\"T_c9523_row3_col2\" class=\"data row3 col2\" >0.000</td>\n",
       "      <td id=\"T_c9523_row3_col3\" class=\"data row3 col3\" >0.000</td>\n",
       "      <td id=\"T_c9523_row3_col4\" class=\"data row3 col4\" >0.000</td>\n",
       "      <td id=\"T_c9523_row3_col5\" class=\"data row3 col5\" >0.000</td>\n",
       "      <td id=\"T_c9523_row3_col6\" class=\"data row3 col6\" >0.000</td>\n",
       "      <td id=\"T_c9523_row3_col7\" class=\"data row3 col7\" >0.000</td>\n",
       "      <td id=\"T_c9523_row3_col8\" class=\"data row3 col8\" >0.101</td>\n",
       "      <td id=\"T_c9523_row3_col9\" class=\"data row3 col9\" >0.101</td>\n",
       "      <td id=\"T_c9523_row3_col10\" class=\"data row3 col10\" >0.101</td>\n",
       "      <td id=\"T_c9523_row3_col11\" class=\"data row3 col11\" >0.101</td>\n",
       "      <td id=\"T_c9523_row3_col12\" class=\"data row3 col12\" >0.000</td>\n",
       "      <td id=\"T_c9523_row3_col13\" class=\"data row3 col13\" >0.000</td>\n",
       "      <td id=\"T_c9523_row3_col14\" class=\"data row3 col14\" >0.000</td>\n",
       "      <td id=\"T_c9523_row3_col15\" class=\"data row3 col15\" >0.000</td>\n",
       "      <td id=\"T_c9523_row3_col16\" class=\"data row3 col16\" >0.000</td>\n",
       "      <td id=\"T_c9523_row3_col17\" class=\"data row3 col17\" >0.000</td>\n",
       "      <td id=\"T_c9523_row3_col18\" class=\"data row3 col18\" >0.000</td>\n",
       "      <td id=\"T_c9523_row3_col19\" class=\"data row3 col19\" >0.000</td>\n",
       "      <td id=\"T_c9523_row3_col20\" class=\"data row3 col20\" >0.000</td>\n",
       "      <td id=\"T_c9523_row3_col21\" class=\"data row3 col21\" >0.000</td>\n",
       "      <td id=\"T_c9523_row3_col22\" class=\"data row3 col22\" >0.000</td>\n",
       "      <td id=\"T_c9523_row3_col23\" class=\"data row3 col23\" >0.000</td>\n",
       "    </tr>\n",
       "    <tr>\n",
       "      <th id=\"T_c9523_level0_row4\" class=\"row_heading level0 row4\" >9_eyes_open_closed_close</th>\n",
       "      <td id=\"T_c9523_row4_col0\" class=\"data row4 col0\" >0.106</td>\n",
       "      <td id=\"T_c9523_row4_col1\" class=\"data row4 col1\" >0.106</td>\n",
       "      <td id=\"T_c9523_row4_col2\" class=\"data row4 col2\" >0.106</td>\n",
       "      <td id=\"T_c9523_row4_col3\" class=\"data row4 col3\" >0.106</td>\n",
       "      <td id=\"T_c9523_row4_col4\" class=\"data row4 col4\" >0.000</td>\n",
       "      <td id=\"T_c9523_row4_col5\" class=\"data row4 col5\" >0.000</td>\n",
       "      <td id=\"T_c9523_row4_col6\" class=\"data row4 col6\" >0.000</td>\n",
       "      <td id=\"T_c9523_row4_col7\" class=\"data row4 col7\" >0.000</td>\n",
       "      <td id=\"T_c9523_row4_col8\" class=\"data row4 col8\" >0.000</td>\n",
       "      <td id=\"T_c9523_row4_col9\" class=\"data row4 col9\" >0.000</td>\n",
       "      <td id=\"T_c9523_row4_col10\" class=\"data row4 col10\" >0.000</td>\n",
       "      <td id=\"T_c9523_row4_col11\" class=\"data row4 col11\" >0.000</td>\n",
       "      <td id=\"T_c9523_row4_col12\" class=\"data row4 col12\" >0.000</td>\n",
       "      <td id=\"T_c9523_row4_col13\" class=\"data row4 col13\" >0.000</td>\n",
       "      <td id=\"T_c9523_row4_col14\" class=\"data row4 col14\" >0.000</td>\n",
       "      <td id=\"T_c9523_row4_col15\" class=\"data row4 col15\" >0.000</td>\n",
       "      <td id=\"T_c9523_row4_col16\" class=\"data row4 col16\" >0.000</td>\n",
       "      <td id=\"T_c9523_row4_col17\" class=\"data row4 col17\" >0.000</td>\n",
       "      <td id=\"T_c9523_row4_col18\" class=\"data row4 col18\" >0.000</td>\n",
       "      <td id=\"T_c9523_row4_col19\" class=\"data row4 col19\" >0.000</td>\n",
       "      <td id=\"T_c9523_row4_col20\" class=\"data row4 col20\" >0.000</td>\n",
       "      <td id=\"T_c9523_row4_col21\" class=\"data row4 col21\" >0.000</td>\n",
       "      <td id=\"T_c9523_row4_col22\" class=\"data row4 col22\" >0.000</td>\n",
       "      <td id=\"T_c9523_row4_col23\" class=\"data row4 col23\" >0.000</td>\n",
       "    </tr>\n",
       "    <tr>\n",
       "      <th id=\"T_c9523_level0_row5\" class=\"row_heading level0 row5\" >11_easier_difficult_do_to</th>\n",
       "      <td id=\"T_c9523_row5_col0\" class=\"data row5 col0\" >0.000</td>\n",
       "      <td id=\"T_c9523_row5_col1\" class=\"data row5 col1\" >0.000</td>\n",
       "      <td id=\"T_c9523_row5_col2\" class=\"data row5 col2\" >0.000</td>\n",
       "      <td id=\"T_c9523_row5_col3\" class=\"data row5 col3\" >0.000</td>\n",
       "      <td id=\"T_c9523_row5_col4\" class=\"data row5 col4\" >0.000</td>\n",
       "      <td id=\"T_c9523_row5_col5\" class=\"data row5 col5\" >0.000</td>\n",
       "      <td id=\"T_c9523_row5_col6\" class=\"data row5 col6\" >0.000</td>\n",
       "      <td id=\"T_c9523_row5_col7\" class=\"data row5 col7\" >0.000</td>\n",
       "      <td id=\"T_c9523_row5_col8\" class=\"data row5 col8\" >0.153</td>\n",
       "      <td id=\"T_c9523_row5_col9\" class=\"data row5 col9\" >0.153</td>\n",
       "      <td id=\"T_c9523_row5_col10\" class=\"data row5 col10\" >0.153</td>\n",
       "      <td id=\"T_c9523_row5_col11\" class=\"data row5 col11\" >0.153</td>\n",
       "      <td id=\"T_c9523_row5_col12\" class=\"data row5 col12\" >0.000</td>\n",
       "      <td id=\"T_c9523_row5_col13\" class=\"data row5 col13\" >0.000</td>\n",
       "      <td id=\"T_c9523_row5_col14\" class=\"data row5 col14\" >0.000</td>\n",
       "      <td id=\"T_c9523_row5_col15\" class=\"data row5 col15\" >0.000</td>\n",
       "      <td id=\"T_c9523_row5_col16\" class=\"data row5 col16\" >0.000</td>\n",
       "      <td id=\"T_c9523_row5_col17\" class=\"data row5 col17\" >0.000</td>\n",
       "      <td id=\"T_c9523_row5_col18\" class=\"data row5 col18\" >0.000</td>\n",
       "      <td id=\"T_c9523_row5_col19\" class=\"data row5 col19\" >0.000</td>\n",
       "      <td id=\"T_c9523_row5_col20\" class=\"data row5 col20\" >0.000</td>\n",
       "      <td id=\"T_c9523_row5_col21\" class=\"data row5 col21\" >0.000</td>\n",
       "      <td id=\"T_c9523_row5_col22\" class=\"data row5 col22\" >0.000</td>\n",
       "      <td id=\"T_c9523_row5_col23\" class=\"data row5 col23\" >0.000</td>\n",
       "    </tr>\n",
       "    <tr>\n",
       "      <th id=\"T_c9523_level0_row6\" class=\"row_heading level0 row6\" >13_how_experience_was_session</th>\n",
       "      <td id=\"T_c9523_row6_col0\" class=\"data row6 col0\" >0.109</td>\n",
       "      <td id=\"T_c9523_row6_col1\" class=\"data row6 col1\" >0.109</td>\n",
       "      <td id=\"T_c9523_row6_col2\" class=\"data row6 col2\" >0.109</td>\n",
       "      <td id=\"T_c9523_row6_col3\" class=\"data row6 col3\" >0.109</td>\n",
       "      <td id=\"T_c9523_row6_col4\" class=\"data row6 col4\" >0.000</td>\n",
       "      <td id=\"T_c9523_row6_col5\" class=\"data row6 col5\" >0.000</td>\n",
       "      <td id=\"T_c9523_row6_col6\" class=\"data row6 col6\" >0.000</td>\n",
       "      <td id=\"T_c9523_row6_col7\" class=\"data row6 col7\" >0.000</td>\n",
       "      <td id=\"T_c9523_row6_col8\" class=\"data row6 col8\" >0.134</td>\n",
       "      <td id=\"T_c9523_row6_col9\" class=\"data row6 col9\" >0.134</td>\n",
       "      <td id=\"T_c9523_row6_col10\" class=\"data row6 col10\" >0.134</td>\n",
       "      <td id=\"T_c9523_row6_col11\" class=\"data row6 col11\" >0.134</td>\n",
       "      <td id=\"T_c9523_row6_col12\" class=\"data row6 col12\" >0.000</td>\n",
       "      <td id=\"T_c9523_row6_col13\" class=\"data row6 col13\" >0.000</td>\n",
       "      <td id=\"T_c9523_row6_col14\" class=\"data row6 col14\" >0.000</td>\n",
       "      <td id=\"T_c9523_row6_col15\" class=\"data row6 col15\" >0.000</td>\n",
       "      <td id=\"T_c9523_row6_col16\" class=\"data row6 col16\" >0.000</td>\n",
       "      <td id=\"T_c9523_row6_col17\" class=\"data row6 col17\" >0.000</td>\n",
       "      <td id=\"T_c9523_row6_col18\" class=\"data row6 col18\" >0.000</td>\n",
       "      <td id=\"T_c9523_row6_col19\" class=\"data row6 col19\" >0.000</td>\n",
       "      <td id=\"T_c9523_row6_col20\" class=\"data row6 col20\" >0.000</td>\n",
       "      <td id=\"T_c9523_row6_col21\" class=\"data row6 col21\" >0.000</td>\n",
       "      <td id=\"T_c9523_row6_col22\" class=\"data row6 col22\" >0.000</td>\n",
       "      <td id=\"T_c9523_row6_col23\" class=\"data row6 col23\" >0.000</td>\n",
       "    </tr>\n",
       "    <tr>\n",
       "      <th id=\"T_c9523_level0_row7\" class=\"row_heading level0 row7\" >14_my_focus_on_like</th>\n",
       "      <td id=\"T_c9523_row7_col0\" class=\"data row7 col0\" >0.126</td>\n",
       "      <td id=\"T_c9523_row7_col1\" class=\"data row7 col1\" >0.126</td>\n",
       "      <td id=\"T_c9523_row7_col2\" class=\"data row7 col2\" >0.126</td>\n",
       "      <td id=\"T_c9523_row7_col3\" class=\"data row7 col3\" >0.126</td>\n",
       "      <td id=\"T_c9523_row7_col4\" class=\"data row7 col4\" >0.000</td>\n",
       "      <td id=\"T_c9523_row7_col5\" class=\"data row7 col5\" >0.000</td>\n",
       "      <td id=\"T_c9523_row7_col6\" class=\"data row7 col6\" >0.000</td>\n",
       "      <td id=\"T_c9523_row7_col7\" class=\"data row7 col7\" >0.000</td>\n",
       "      <td id=\"T_c9523_row7_col8\" class=\"data row7 col8\" >0.126</td>\n",
       "      <td id=\"T_c9523_row7_col9\" class=\"data row7 col9\" >0.126</td>\n",
       "      <td id=\"T_c9523_row7_col10\" class=\"data row7 col10\" >0.126</td>\n",
       "      <td id=\"T_c9523_row7_col11\" class=\"data row7 col11\" >0.126</td>\n",
       "      <td id=\"T_c9523_row7_col12\" class=\"data row7 col12\" >0.000</td>\n",
       "      <td id=\"T_c9523_row7_col13\" class=\"data row7 col13\" >0.119</td>\n",
       "      <td id=\"T_c9523_row7_col14\" class=\"data row7 col14\" >0.247</td>\n",
       "      <td id=\"T_c9523_row7_col15\" class=\"data row7 col15\" >0.247</td>\n",
       "      <td id=\"T_c9523_row7_col16\" class=\"data row7 col16\" >0.247</td>\n",
       "      <td id=\"T_c9523_row7_col17\" class=\"data row7 col17\" >0.234</td>\n",
       "      <td id=\"T_c9523_row7_col18\" class=\"data row7 col18\" >0.106</td>\n",
       "      <td id=\"T_c9523_row7_col19\" class=\"data row7 col19\" >0.106</td>\n",
       "      <td id=\"T_c9523_row7_col20\" class=\"data row7 col20\" >0.106</td>\n",
       "      <td id=\"T_c9523_row7_col21\" class=\"data row7 col21\" >0.000</td>\n",
       "      <td id=\"T_c9523_row7_col22\" class=\"data row7 col22\" >0.000</td>\n",
       "      <td id=\"T_c9523_row7_col23\" class=\"data row7 col23\" >0.000</td>\n",
       "    </tr>\n",
       "    <tr>\n",
       "      <th id=\"T_c9523_level0_row8\" class=\"row_heading level0 row8\" >15_one_second_first_100</th>\n",
       "      <td id=\"T_c9523_row8_col0\" class=\"data row8 col0\" >0.000</td>\n",
       "      <td id=\"T_c9523_row8_col1\" class=\"data row8 col1\" >0.000</td>\n",
       "      <td id=\"T_c9523_row8_col2\" class=\"data row8 col2\" >0.000</td>\n",
       "      <td id=\"T_c9523_row8_col3\" class=\"data row8 col3\" >0.000</td>\n",
       "      <td id=\"T_c9523_row8_col4\" class=\"data row8 col4\" >0.000</td>\n",
       "      <td id=\"T_c9523_row8_col5\" class=\"data row8 col5\" >0.347</td>\n",
       "      <td id=\"T_c9523_row8_col6\" class=\"data row8 col6\" >0.667</td>\n",
       "      <td id=\"T_c9523_row8_col7\" class=\"data row8 col7\" >0.960</td>\n",
       "      <td id=\"T_c9523_row8_col8\" class=\"data row8 col8\" >1.273</td>\n",
       "      <td id=\"T_c9523_row8_col9\" class=\"data row8 col9\" >0.926</td>\n",
       "      <td id=\"T_c9523_row8_col10\" class=\"data row8 col10\" >0.606</td>\n",
       "      <td id=\"T_c9523_row8_col11\" class=\"data row8 col11\" >0.313</td>\n",
       "      <td id=\"T_c9523_row8_col12\" class=\"data row8 col12\" >0.000</td>\n",
       "      <td id=\"T_c9523_row8_col13\" class=\"data row8 col13\" >0.000</td>\n",
       "      <td id=\"T_c9523_row8_col14\" class=\"data row8 col14\" >0.000</td>\n",
       "      <td id=\"T_c9523_row8_col15\" class=\"data row8 col15\" >0.000</td>\n",
       "      <td id=\"T_c9523_row8_col16\" class=\"data row8 col16\" >0.000</td>\n",
       "      <td id=\"T_c9523_row8_col17\" class=\"data row8 col17\" >0.000</td>\n",
       "      <td id=\"T_c9523_row8_col18\" class=\"data row8 col18\" >0.000</td>\n",
       "      <td id=\"T_c9523_row8_col19\" class=\"data row8 col19\" >0.180</td>\n",
       "      <td id=\"T_c9523_row8_col20\" class=\"data row8 col20\" >0.328</td>\n",
       "      <td id=\"T_c9523_row8_col21\" class=\"data row8 col21\" >0.328</td>\n",
       "      <td id=\"T_c9523_row8_col22\" class=\"data row8 col22\" >0.328</td>\n",
       "      <td id=\"T_c9523_row8_col23\" class=\"data row8 col23\" >0.147</td>\n",
       "    </tr>\n",
       "    <tr>\n",
       "      <th id=\"T_c9523_level0_row9\" class=\"row_heading level0 row9\" >19_delay_moving_was_there</th>\n",
       "      <td id=\"T_c9523_row9_col0\" class=\"data row9 col0\" >0.153</td>\n",
       "      <td id=\"T_c9523_row9_col1\" class=\"data row9 col1\" >0.257</td>\n",
       "      <td id=\"T_c9523_row9_col2\" class=\"data row9 col2\" >0.375</td>\n",
       "      <td id=\"T_c9523_row9_col3\" class=\"data row9 col3\" >0.489</td>\n",
       "      <td id=\"T_c9523_row9_col4\" class=\"data row9 col4\" >0.336</td>\n",
       "      <td id=\"T_c9523_row9_col5\" class=\"data row9 col5\" >0.231</td>\n",
       "      <td id=\"T_c9523_row9_col6\" class=\"data row9 col6\" >0.114</td>\n",
       "      <td id=\"T_c9523_row9_col7\" class=\"data row9 col7\" >0.000</td>\n",
       "      <td id=\"T_c9523_row9_col8\" class=\"data row9 col8\" >0.000</td>\n",
       "      <td id=\"T_c9523_row9_col9\" class=\"data row9 col9\" >0.000</td>\n",
       "      <td id=\"T_c9523_row9_col10\" class=\"data row9 col10\" >0.000</td>\n",
       "      <td id=\"T_c9523_row9_col11\" class=\"data row9 col11\" >0.000</td>\n",
       "      <td id=\"T_c9523_row9_col12\" class=\"data row9 col12\" >0.000</td>\n",
       "      <td id=\"T_c9523_row9_col13\" class=\"data row9 col13\" >0.000</td>\n",
       "      <td id=\"T_c9523_row9_col14\" class=\"data row9 col14\" >0.000</td>\n",
       "      <td id=\"T_c9523_row9_col15\" class=\"data row9 col15\" >0.000</td>\n",
       "      <td id=\"T_c9523_row9_col16\" class=\"data row9 col16\" >0.000</td>\n",
       "      <td id=\"T_c9523_row9_col17\" class=\"data row9 col17\" >0.000</td>\n",
       "      <td id=\"T_c9523_row9_col18\" class=\"data row9 col18\" >0.000</td>\n",
       "      <td id=\"T_c9523_row9_col19\" class=\"data row9 col19\" >0.000</td>\n",
       "      <td id=\"T_c9523_row9_col20\" class=\"data row9 col20\" >0.000</td>\n",
       "      <td id=\"T_c9523_row9_col21\" class=\"data row9 col21\" >0.000</td>\n",
       "      <td id=\"T_c9523_row9_col22\" class=\"data row9 col22\" >0.000</td>\n",
       "      <td id=\"T_c9523_row9_col23\" class=\"data row9 col23\" >0.000</td>\n",
       "    </tr>\n",
       "    <tr>\n",
       "      <th id=\"T_c9523_level0_row10\" class=\"row_heading level0 row10\" >21_bodies_three_third_felt</th>\n",
       "      <td id=\"T_c9523_row10_col0\" class=\"data row10 col0\" >0.255</td>\n",
       "      <td id=\"T_c9523_row10_col1\" class=\"data row10 col1\" >0.417</td>\n",
       "      <td id=\"T_c9523_row10_col2\" class=\"data row10 col2\" >0.537</td>\n",
       "      <td id=\"T_c9523_row10_col3\" class=\"data row10 col3\" >0.649</td>\n",
       "      <td id=\"T_c9523_row10_col4\" class=\"data row10 col4\" >0.395</td>\n",
       "      <td id=\"T_c9523_row10_col5\" class=\"data row10 col5\" >0.232</td>\n",
       "      <td id=\"T_c9523_row10_col6\" class=\"data row10 col6\" >0.113</td>\n",
       "      <td id=\"T_c9523_row10_col7\" class=\"data row10 col7\" >0.126</td>\n",
       "      <td id=\"T_c9523_row10_col8\" class=\"data row10 col8\" >0.286</td>\n",
       "      <td id=\"T_c9523_row10_col9\" class=\"data row10 col9\" >0.286</td>\n",
       "      <td id=\"T_c9523_row10_col10\" class=\"data row10 col10\" >0.286</td>\n",
       "      <td id=\"T_c9523_row10_col11\" class=\"data row10 col11\" >0.159</td>\n",
       "      <td id=\"T_c9523_row10_col12\" class=\"data row10 col12\" >0.000</td>\n",
       "      <td id=\"T_c9523_row10_col13\" class=\"data row10 col13\" >0.107</td>\n",
       "      <td id=\"T_c9523_row10_col14\" class=\"data row10 col14\" >0.217</td>\n",
       "      <td id=\"T_c9523_row10_col15\" class=\"data row10 col15\" >0.329</td>\n",
       "      <td id=\"T_c9523_row10_col16\" class=\"data row10 col16\" >0.491</td>\n",
       "      <td id=\"T_c9523_row10_col17\" class=\"data row10 col17\" >0.589</td>\n",
       "      <td id=\"T_c9523_row10_col18\" class=\"data row10 col18\" >0.701</td>\n",
       "      <td id=\"T_c9523_row10_col19\" class=\"data row10 col19\" >1.039</td>\n",
       "      <td id=\"T_c9523_row10_col20\" class=\"data row10 col20\" >1.468</td>\n",
       "      <td id=\"T_c9523_row10_col21\" class=\"data row10 col21\" >1.262</td>\n",
       "      <td id=\"T_c9523_row10_col22\" class=\"data row10 col22\" >1.040</td>\n",
       "      <td id=\"T_c9523_row10_col23\" class=\"data row10 col23\" >0.591</td>\n",
       "    </tr>\n",
       "    <tr>\n",
       "      <th id=\"T_c9523_level0_row11\" class=\"row_heading level0 row11\" >22_meditation_only_competent_right</th>\n",
       "      <td id=\"T_c9523_row11_col0\" class=\"data row11 col0\" >0.000</td>\n",
       "      <td id=\"T_c9523_row11_col1\" class=\"data row11 col1\" >0.000</td>\n",
       "      <td id=\"T_c9523_row11_col2\" class=\"data row11 col2\" >0.000</td>\n",
       "      <td id=\"T_c9523_row11_col3\" class=\"data row11 col3\" >0.000</td>\n",
       "      <td id=\"T_c9523_row11_col4\" class=\"data row11 col4\" >0.000</td>\n",
       "      <td id=\"T_c9523_row11_col5\" class=\"data row11 col5\" >0.137</td>\n",
       "      <td id=\"T_c9523_row11_col6\" class=\"data row11 col6\" >0.258</td>\n",
       "      <td id=\"T_c9523_row11_col7\" class=\"data row11 col7\" >0.376</td>\n",
       "      <td id=\"T_c9523_row11_col8\" class=\"data row11 col8\" >0.507</td>\n",
       "      <td id=\"T_c9523_row11_col9\" class=\"data row11 col9\" >0.369</td>\n",
       "      <td id=\"T_c9523_row11_col10\" class=\"data row11 col10\" >0.249</td>\n",
       "      <td id=\"T_c9523_row11_col11\" class=\"data row11 col11\" >0.130</td>\n",
       "      <td id=\"T_c9523_row11_col12\" class=\"data row11 col12\" >0.000</td>\n",
       "      <td id=\"T_c9523_row11_col13\" class=\"data row11 col13\" >0.000</td>\n",
       "      <td id=\"T_c9523_row11_col14\" class=\"data row11 col14\" >0.000</td>\n",
       "      <td id=\"T_c9523_row11_col15\" class=\"data row11 col15\" >0.000</td>\n",
       "      <td id=\"T_c9523_row11_col16\" class=\"data row11 col16\" >0.000</td>\n",
       "      <td id=\"T_c9523_row11_col17\" class=\"data row11 col17\" >0.000</td>\n",
       "      <td id=\"T_c9523_row11_col18\" class=\"data row11 col18\" >0.000</td>\n",
       "      <td id=\"T_c9523_row11_col19\" class=\"data row11 col19\" >0.000</td>\n",
       "      <td id=\"T_c9523_row11_col20\" class=\"data row11 col20\" >0.000</td>\n",
       "      <td id=\"T_c9523_row11_col21\" class=\"data row11 col21\" >0.000</td>\n",
       "      <td id=\"T_c9523_row11_col22\" class=\"data row11 col22\" >0.000</td>\n",
       "      <td id=\"T_c9523_row11_col23\" class=\"data row11 col23\" >0.000</td>\n",
       "    </tr>\n",
       "    <tr>\n",
       "      <th id=\"T_c9523_level0_row12\" class=\"row_heading level0 row12\" >23_fun_nice_it_was</th>\n",
       "      <td id=\"T_c9523_row12_col0\" class=\"data row12 col0\" >0.000</td>\n",
       "      <td id=\"T_c9523_row12_col1\" class=\"data row12 col1\" >0.000</td>\n",
       "      <td id=\"T_c9523_row12_col2\" class=\"data row12 col2\" >0.000</td>\n",
       "      <td id=\"T_c9523_row12_col3\" class=\"data row12 col3\" >0.000</td>\n",
       "      <td id=\"T_c9523_row12_col4\" class=\"data row12 col4\" >0.000</td>\n",
       "      <td id=\"T_c9523_row12_col5\" class=\"data row12 col5\" >0.000</td>\n",
       "      <td id=\"T_c9523_row12_col6\" class=\"data row12 col6\" >0.000</td>\n",
       "      <td id=\"T_c9523_row12_col7\" class=\"data row12 col7\" >0.000</td>\n",
       "      <td id=\"T_c9523_row12_col8\" class=\"data row12 col8\" >0.134</td>\n",
       "      <td id=\"T_c9523_row12_col9\" class=\"data row12 col9\" >0.134</td>\n",
       "      <td id=\"T_c9523_row12_col10\" class=\"data row12 col10\" >0.134</td>\n",
       "      <td id=\"T_c9523_row12_col11\" class=\"data row12 col11\" >0.134</td>\n",
       "      <td id=\"T_c9523_row12_col12\" class=\"data row12 col12\" >0.000</td>\n",
       "      <td id=\"T_c9523_row12_col13\" class=\"data row12 col13\" >0.101</td>\n",
       "      <td id=\"T_c9523_row12_col14\" class=\"data row12 col14\" >0.101</td>\n",
       "      <td id=\"T_c9523_row12_col15\" class=\"data row12 col15\" >0.101</td>\n",
       "      <td id=\"T_c9523_row12_col16\" class=\"data row12 col16\" >0.101</td>\n",
       "      <td id=\"T_c9523_row12_col17\" class=\"data row12 col17\" >0.000</td>\n",
       "      <td id=\"T_c9523_row12_col18\" class=\"data row12 col18\" >0.000</td>\n",
       "      <td id=\"T_c9523_row12_col19\" class=\"data row12 col19\" >0.000</td>\n",
       "      <td id=\"T_c9523_row12_col20\" class=\"data row12 col20\" >0.000</td>\n",
       "      <td id=\"T_c9523_row12_col21\" class=\"data row12 col21\" >0.000</td>\n",
       "      <td id=\"T_c9523_row12_col22\" class=\"data row12 col22\" >0.000</td>\n",
       "      <td id=\"T_c9523_row12_col23\" class=\"data row12 col23\" >0.000</td>\n",
       "    </tr>\n",
       "    <tr>\n",
       "      <th id=\"T_c9523_level0_row13\" class=\"row_heading level0 row13\" >24_normal_weird_strange_different</th>\n",
       "      <td id=\"T_c9523_row13_col0\" class=\"data row13 col0\" >0.218</td>\n",
       "      <td id=\"T_c9523_row13_col1\" class=\"data row13 col1\" >0.218</td>\n",
       "      <td id=\"T_c9523_row13_col2\" class=\"data row13 col2\" >0.218</td>\n",
       "      <td id=\"T_c9523_row13_col3\" class=\"data row13 col3\" >0.218</td>\n",
       "      <td id=\"T_c9523_row13_col4\" class=\"data row13 col4\" >0.000</td>\n",
       "      <td id=\"T_c9523_row13_col5\" class=\"data row13 col5\" >0.000</td>\n",
       "      <td id=\"T_c9523_row13_col6\" class=\"data row13 col6\" >0.000</td>\n",
       "      <td id=\"T_c9523_row13_col7\" class=\"data row13 col7\" >0.000</td>\n",
       "      <td id=\"T_c9523_row13_col8\" class=\"data row13 col8\" >0.000</td>\n",
       "      <td id=\"T_c9523_row13_col9\" class=\"data row13 col9\" >0.000</td>\n",
       "      <td id=\"T_c9523_row13_col10\" class=\"data row13 col10\" >0.000</td>\n",
       "      <td id=\"T_c9523_row13_col11\" class=\"data row13 col11\" >0.000</td>\n",
       "      <td id=\"T_c9523_row13_col12\" class=\"data row13 col12\" >0.000</td>\n",
       "      <td id=\"T_c9523_row13_col13\" class=\"data row13 col13\" >0.000</td>\n",
       "      <td id=\"T_c9523_row13_col14\" class=\"data row13 col14\" >0.000</td>\n",
       "      <td id=\"T_c9523_row13_col15\" class=\"data row13 col15\" >0.000</td>\n",
       "      <td id=\"T_c9523_row13_col16\" class=\"data row13 col16\" >0.000</td>\n",
       "      <td id=\"T_c9523_row13_col17\" class=\"data row13 col17\" >0.119</td>\n",
       "      <td id=\"T_c9523_row13_col18\" class=\"data row13 col18\" >0.245</td>\n",
       "      <td id=\"T_c9523_row13_col19\" class=\"data row13 col19\" >0.378</td>\n",
       "      <td id=\"T_c9523_row13_col20\" class=\"data row13 col20\" >0.378</td>\n",
       "      <td id=\"T_c9523_row13_col21\" class=\"data row13 col21\" >0.259</td>\n",
       "      <td id=\"T_c9523_row13_col22\" class=\"data row13 col22\" >0.133</td>\n",
       "      <td id=\"T_c9523_row13_col23\" class=\"data row13 col23\" >0.000</td>\n",
       "    </tr>\n",
       "    <tr>\n",
       "      <th id=\"T_c9523_level0_row14\" class=\"row_heading level0 row14\" >26_without_noise_lady_she</th>\n",
       "      <td id=\"T_c9523_row14_col0\" class=\"data row14 col0\" >0.197</td>\n",
       "      <td id=\"T_c9523_row14_col1\" class=\"data row14 col1\" >0.197</td>\n",
       "      <td id=\"T_c9523_row14_col2\" class=\"data row14 col2\" >0.197</td>\n",
       "      <td id=\"T_c9523_row14_col3\" class=\"data row14 col3\" >0.197</td>\n",
       "      <td id=\"T_c9523_row14_col4\" class=\"data row14 col4\" >0.000</td>\n",
       "      <td id=\"T_c9523_row14_col5\" class=\"data row14 col5\" >0.000</td>\n",
       "      <td id=\"T_c9523_row14_col6\" class=\"data row14 col6\" >0.000</td>\n",
       "      <td id=\"T_c9523_row14_col7\" class=\"data row14 col7\" >0.000</td>\n",
       "      <td id=\"T_c9523_row14_col8\" class=\"data row14 col8\" >0.109</td>\n",
       "      <td id=\"T_c9523_row14_col9\" class=\"data row14 col9\" >0.109</td>\n",
       "      <td id=\"T_c9523_row14_col10\" class=\"data row14 col10\" >0.109</td>\n",
       "      <td id=\"T_c9523_row14_col11\" class=\"data row14 col11\" >0.109</td>\n",
       "      <td id=\"T_c9523_row14_col12\" class=\"data row14 col12\" >0.000</td>\n",
       "      <td id=\"T_c9523_row14_col13\" class=\"data row14 col13\" >0.000</td>\n",
       "      <td id=\"T_c9523_row14_col14\" class=\"data row14 col14\" >0.000</td>\n",
       "      <td id=\"T_c9523_row14_col15\" class=\"data row14 col15\" >0.000</td>\n",
       "      <td id=\"T_c9523_row14_col16\" class=\"data row14 col16\" >0.000</td>\n",
       "      <td id=\"T_c9523_row14_col17\" class=\"data row14 col17\" >0.000</td>\n",
       "      <td id=\"T_c9523_row14_col18\" class=\"data row14 col18\" >0.000</td>\n",
       "      <td id=\"T_c9523_row14_col19\" class=\"data row14 col19\" >0.000</td>\n",
       "      <td id=\"T_c9523_row14_col20\" class=\"data row14 col20\" >0.000</td>\n",
       "      <td id=\"T_c9523_row14_col21\" class=\"data row14 col21\" >0.000</td>\n",
       "      <td id=\"T_c9523_row14_col22\" class=\"data row14 col22\" >0.000</td>\n",
       "      <td id=\"T_c9523_row14_col23\" class=\"data row14 col23\" >0.000</td>\n",
       "    </tr>\n",
       "    <tr>\n",
       "      <th id=\"T_c9523_level0_row15\" class=\"row_heading level0 row15\" >29_separation_point_no_separated</th>\n",
       "      <td id=\"T_c9523_row15_col0\" class=\"data row15 col0\" >0.000</td>\n",
       "      <td id=\"T_c9523_row15_col1\" class=\"data row15 col1\" >0.000</td>\n",
       "      <td id=\"T_c9523_row15_col2\" class=\"data row15 col2\" >0.000</td>\n",
       "      <td id=\"T_c9523_row15_col3\" class=\"data row15 col3\" >0.000</td>\n",
       "      <td id=\"T_c9523_row15_col4\" class=\"data row15 col4\" >0.000</td>\n",
       "      <td id=\"T_c9523_row15_col5\" class=\"data row15 col5\" >0.000</td>\n",
       "      <td id=\"T_c9523_row15_col6\" class=\"data row15 col6\" >0.000</td>\n",
       "      <td id=\"T_c9523_row15_col7\" class=\"data row15 col7\" >0.000</td>\n",
       "      <td id=\"T_c9523_row15_col8\" class=\"data row15 col8\" >0.110</td>\n",
       "      <td id=\"T_c9523_row15_col9\" class=\"data row15 col9\" >0.110</td>\n",
       "      <td id=\"T_c9523_row15_col10\" class=\"data row15 col10\" >0.110</td>\n",
       "      <td id=\"T_c9523_row15_col11\" class=\"data row15 col11\" >0.110</td>\n",
       "      <td id=\"T_c9523_row15_col12\" class=\"data row15 col12\" >0.000</td>\n",
       "      <td id=\"T_c9523_row15_col13\" class=\"data row15 col13\" >0.000</td>\n",
       "      <td id=\"T_c9523_row15_col14\" class=\"data row15 col14\" >0.000</td>\n",
       "      <td id=\"T_c9523_row15_col15\" class=\"data row15 col15\" >0.000</td>\n",
       "      <td id=\"T_c9523_row15_col16\" class=\"data row15 col16\" >0.000</td>\n",
       "      <td id=\"T_c9523_row15_col17\" class=\"data row15 col17\" >0.000</td>\n",
       "      <td id=\"T_c9523_row15_col18\" class=\"data row15 col18\" >0.000</td>\n",
       "      <td id=\"T_c9523_row15_col19\" class=\"data row15 col19\" >0.000</td>\n",
       "      <td id=\"T_c9523_row15_col20\" class=\"data row15 col20\" >0.000</td>\n",
       "      <td id=\"T_c9523_row15_col21\" class=\"data row15 col21\" >0.000</td>\n",
       "      <td id=\"T_c9523_row15_col22\" class=\"data row15 col22\" >0.000</td>\n",
       "      <td id=\"T_c9523_row15_col23\" class=\"data row15 col23\" >0.000</td>\n",
       "    </tr>\n",
       "    <tr>\n",
       "      <th id=\"T_c9523_level0_row16\" class=\"row_heading level0 row16\" >37_breathing_breath_initially_calmed</th>\n",
       "      <td id=\"T_c9523_row16_col0\" class=\"data row16 col0\" >0.000</td>\n",
       "      <td id=\"T_c9523_row16_col1\" class=\"data row16 col1\" >0.000</td>\n",
       "      <td id=\"T_c9523_row16_col2\" class=\"data row16 col2\" >0.000</td>\n",
       "      <td id=\"T_c9523_row16_col3\" class=\"data row16 col3\" >0.000</td>\n",
       "      <td id=\"T_c9523_row16_col4\" class=\"data row16 col4\" >0.000</td>\n",
       "      <td id=\"T_c9523_row16_col5\" class=\"data row16 col5\" >0.000</td>\n",
       "      <td id=\"T_c9523_row16_col6\" class=\"data row16 col6\" >0.000</td>\n",
       "      <td id=\"T_c9523_row16_col7\" class=\"data row16 col7\" >0.000</td>\n",
       "      <td id=\"T_c9523_row16_col8\" class=\"data row16 col8\" >0.000</td>\n",
       "      <td id=\"T_c9523_row16_col9\" class=\"data row16 col9\" >0.000</td>\n",
       "      <td id=\"T_c9523_row16_col10\" class=\"data row16 col10\" >0.000</td>\n",
       "      <td id=\"T_c9523_row16_col11\" class=\"data row16 col11\" >0.000</td>\n",
       "      <td id=\"T_c9523_row16_col12\" class=\"data row16 col12\" >0.000</td>\n",
       "      <td id=\"T_c9523_row16_col13\" class=\"data row16 col13\" >0.000</td>\n",
       "      <td id=\"T_c9523_row16_col14\" class=\"data row16 col14\" >0.119</td>\n",
       "      <td id=\"T_c9523_row16_col15\" class=\"data row16 col15\" >0.119</td>\n",
       "      <td id=\"T_c9523_row16_col16\" class=\"data row16 col16\" >0.119</td>\n",
       "      <td id=\"T_c9523_row16_col17\" class=\"data row16 col17\" >0.119</td>\n",
       "      <td id=\"T_c9523_row16_col18\" class=\"data row16 col18\" >0.000</td>\n",
       "      <td id=\"T_c9523_row16_col19\" class=\"data row16 col19\" >0.000</td>\n",
       "      <td id=\"T_c9523_row16_col20\" class=\"data row16 col20\" >0.000</td>\n",
       "      <td id=\"T_c9523_row16_col21\" class=\"data row16 col21\" >0.000</td>\n",
       "      <td id=\"T_c9523_row16_col22\" class=\"data row16 col22\" >0.000</td>\n",
       "      <td id=\"T_c9523_row16_col23\" class=\"data row16 col23\" >0.000</td>\n",
       "    </tr>\n",
       "    <tr>\n",
       "      <th id=\"T_c9523_level0_row17\" class=\"row_heading level0 row17\" >38_option_years_covid_since</th>\n",
       "      <td id=\"T_c9523_row17_col0\" class=\"data row17 col0\" >0.124</td>\n",
       "      <td id=\"T_c9523_row17_col1\" class=\"data row17 col1\" >0.124</td>\n",
       "      <td id=\"T_c9523_row17_col2\" class=\"data row17 col2\" >0.124</td>\n",
       "      <td id=\"T_c9523_row17_col3\" class=\"data row17 col3\" >0.124</td>\n",
       "      <td id=\"T_c9523_row17_col4\" class=\"data row17 col4\" >0.000</td>\n",
       "      <td id=\"T_c9523_row17_col5\" class=\"data row17 col5\" >0.000</td>\n",
       "      <td id=\"T_c9523_row17_col6\" class=\"data row17 col6\" >0.000</td>\n",
       "      <td id=\"T_c9523_row17_col7\" class=\"data row17 col7\" >0.000</td>\n",
       "      <td id=\"T_c9523_row17_col8\" class=\"data row17 col8\" >0.000</td>\n",
       "      <td id=\"T_c9523_row17_col9\" class=\"data row17 col9\" >0.000</td>\n",
       "      <td id=\"T_c9523_row17_col10\" class=\"data row17 col10\" >0.000</td>\n",
       "      <td id=\"T_c9523_row17_col11\" class=\"data row17 col11\" >0.000</td>\n",
       "      <td id=\"T_c9523_row17_col12\" class=\"data row17 col12\" >0.000</td>\n",
       "      <td id=\"T_c9523_row17_col13\" class=\"data row17 col13\" >0.000</td>\n",
       "      <td id=\"T_c9523_row17_col14\" class=\"data row17 col14\" >0.000</td>\n",
       "      <td id=\"T_c9523_row17_col15\" class=\"data row17 col15\" >0.000</td>\n",
       "      <td id=\"T_c9523_row17_col16\" class=\"data row17 col16\" >0.000</td>\n",
       "      <td id=\"T_c9523_row17_col17\" class=\"data row17 col17\" >0.000</td>\n",
       "      <td id=\"T_c9523_row17_col18\" class=\"data row17 col18\" >0.000</td>\n",
       "      <td id=\"T_c9523_row17_col19\" class=\"data row17 col19\" >0.000</td>\n",
       "      <td id=\"T_c9523_row17_col20\" class=\"data row17 col20\" >0.000</td>\n",
       "      <td id=\"T_c9523_row17_col21\" class=\"data row17 col21\" >0.000</td>\n",
       "      <td id=\"T_c9523_row17_col22\" class=\"data row17 col22\" >0.000</td>\n",
       "      <td id=\"T_c9523_row17_col23\" class=\"data row17 col23\" >0.000</td>\n",
       "    </tr>\n",
       "    <tr>\n",
       "      <th id=\"T_c9523_level0_row18\" class=\"row_heading level0 row18\" >39_first_time_one_impacted</th>\n",
       "      <td id=\"T_c9523_row18_col0\" class=\"data row18 col0\" >0.304</td>\n",
       "      <td id=\"T_c9523_row18_col1\" class=\"data row18 col1\" >0.434</td>\n",
       "      <td id=\"T_c9523_row18_col2\" class=\"data row18 col2\" >0.566</td>\n",
       "      <td id=\"T_c9523_row18_col3\" class=\"data row18 col3\" >0.703</td>\n",
       "      <td id=\"T_c9523_row18_col4\" class=\"data row18 col4\" >0.399</td>\n",
       "      <td id=\"T_c9523_row18_col5\" class=\"data row18 col5\" >0.437</td>\n",
       "      <td id=\"T_c9523_row18_col6\" class=\"data row18 col6\" >0.459</td>\n",
       "      <td id=\"T_c9523_row18_col7\" class=\"data row18 col7\" >0.453</td>\n",
       "      <td id=\"T_c9523_row18_col8\" class=\"data row18 col8\" >0.675</td>\n",
       "      <td id=\"T_c9523_row18_col9\" class=\"data row18 col9\" >0.507</td>\n",
       "      <td id=\"T_c9523_row18_col10\" class=\"data row18 col10\" >0.352</td>\n",
       "      <td id=\"T_c9523_row18_col11\" class=\"data row18 col11\" >0.221</td>\n",
       "      <td id=\"T_c9523_row18_col12\" class=\"data row18 col12\" >0.000</td>\n",
       "      <td id=\"T_c9523_row18_col13\" class=\"data row18 col13\" >0.000</td>\n",
       "      <td id=\"T_c9523_row18_col14\" class=\"data row18 col14\" >0.000</td>\n",
       "      <td id=\"T_c9523_row18_col15\" class=\"data row18 col15\" >0.000</td>\n",
       "      <td id=\"T_c9523_row18_col16\" class=\"data row18 col16\" >0.000</td>\n",
       "      <td id=\"T_c9523_row18_col17\" class=\"data row18 col17\" >0.000</td>\n",
       "      <td id=\"T_c9523_row18_col18\" class=\"data row18 col18\" >0.000</td>\n",
       "      <td id=\"T_c9523_row18_col19\" class=\"data row18 col19\" >0.000</td>\n",
       "      <td id=\"T_c9523_row18_col20\" class=\"data row18 col20\" >0.000</td>\n",
       "      <td id=\"T_c9523_row18_col21\" class=\"data row18 col21\" >0.000</td>\n",
       "      <td id=\"T_c9523_row18_col22\" class=\"data row18 col22\" >0.000</td>\n",
       "      <td id=\"T_c9523_row18_col23\" class=\"data row18 col23\" >0.000</td>\n",
       "    </tr>\n",
       "  </tbody>\n",
       "</table>\n"
      ],
      "text/plain": [
       "<pandas.io.formats.style.Styler at 0x24983468e50>"
      ]
     },
     "execution_count": 75,
     "metadata": {},
     "output_type": "execute_result"
    }
   ],
   "source": [
    "# Calculate the topic distributions on a token-level\n",
    "topic_distr, topic_token_distr = topic_model.approximate_distribution(docs, calculate_tokens=True)\n",
    "\n",
    "# Visualize the token-level distributions\n",
    "df = topic_model.visualize_approximate_distribution(docs[doc_id], topic_token_distr[doc_id])\n",
    "df\n"
   ]
  },
  {
   "cell_type": "code",
   "execution_count": null,
   "metadata": {},
   "outputs": [],
   "source": []
  }
 ],
 "metadata": {
  "kernelspec": {
   "display_name": "topic",
   "language": "python",
   "name": "python3"
  },
  "language_info": {
   "codemirror_mode": {
    "name": "ipython",
    "version": 3
   },
   "file_extension": ".py",
   "mimetype": "text/x-python",
   "name": "python",
   "nbconvert_exporter": "python",
   "pygments_lexer": "ipython3",
   "version": "3.10.15"
  }
 },
 "nbformat": 4,
 "nbformat_minor": 2
}
