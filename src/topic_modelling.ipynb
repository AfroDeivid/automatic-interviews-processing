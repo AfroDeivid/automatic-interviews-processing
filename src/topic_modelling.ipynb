{
 "cells": [
  {
   "cell_type": "code",
   "execution_count": 1,
   "metadata": {},
   "outputs": [],
   "source": [
    "%load_ext autoreload\n",
    "%autoreload 2"
   ]
  },
  {
   "cell_type": "code",
   "execution_count": 2,
   "metadata": {},
   "outputs": [
    {
     "name": "stderr",
     "output_type": "stream",
     "text": [
      "c:\\Users\\david\\anaconda3\\envs\\topic\\lib\\site-packages\\tqdm\\auto.py:21: TqdmWarning: IProgress not found. Please update jupyter and ipywidgets. See https://ipywidgets.readthedocs.io/en/stable/user_install.html\n",
      "  from .autonotebook import tqdm as notebook_tqdm\n"
     ]
    }
   ],
   "source": [
    "from utils.analysis_helpers import *\n",
    "from bertopic import BERTopic\n",
    "from sklearn.feature_extraction.text import CountVectorizer"
   ]
  },
  {
   "cell_type": "markdown",
   "metadata": {},
   "source": [
    "# Define the Docs"
   ]
  },
  {
   "cell_type": "code",
   "execution_count": 3,
   "metadata": {},
   "outputs": [
    {
     "name": "stdout",
     "output_type": "stream",
     "text": [
      "Found 82 CSV files.\n",
      "Standardized speaker labels.\n",
      "Normalized text in 'Content' column.\n",
      "[1 'C' 'I' 0]\n",
      "[1 'C' 'I']\n"
     ]
    }
   ],
   "source": [
    "directory = '../interviews_corrected/6_final/**/' \n",
    "\n",
    "df_all = load_and_combine_csv(directory)\n",
    "df_all = standardize_data(df_all)\n",
    "\n",
    "print(df_all[\"Condition\"].unique())\n",
    "# Drop the rows equal to 0 for the column condition\n",
    "df_all = df_all[df_all[\"Condition\"] != 0]\n",
    "print(df_all[\"Condition\"].unique())"
   ]
  },
  {
   "cell_type": "code",
   "execution_count": 4,
   "metadata": {},
   "outputs": [],
   "source": [
    "# Preoprocessing\n",
    "# For the moment only focus on the participants answers\n",
    "df = df_all[df_all[\"Speaker\"] == \"Participant\"].copy()\n",
    "\n",
    "# Stop words were removed using the NLTK library of stop words. \n",
    "# All text was lowercased + lemmatized\n",
    "# Plus extra_stopwords being the most frequents words in the corpus AND being meaningless (e.g. keep \"body\")\n",
    "extra_stopwords = [\"yeah\", \"like\", \"think\", \"know\", \"dont\",\"yes\", \"one\",\"okay\",\"mm\", \"really\",\"bit\",\"could\",\"thats\",\"see\",\"feel\",\"felt\"]\n",
    "df['preprocessed_content'] = df['Content'].apply(lambda x: preprocess_text(x, extra_stopwords=extra_stopwords, ngrams=1))\n",
    "\n",
    "# Remove rows with empty content or content that's only punctuation after preprocessing\n",
    "df = df[df['preprocessed_content'].str.strip().str.len() > 0]"
   ]
  },
  {
   "cell_type": "code",
   "execution_count": 5,
   "metadata": {},
   "outputs": [
    {
     "name": "stdout",
     "output_type": "stream",
     "text": [
      "1971\n"
     ]
    }
   ],
   "source": [
    "docs = list(df.preprocessed_content)\n",
    "print(len(docs))"
   ]
  },
  {
   "cell_type": "markdown",
   "metadata": {},
   "source": [
    "# Define the model"
   ]
  },
  {
   "cell_type": "code",
   "execution_count": 6,
   "metadata": {},
   "outputs": [],
   "source": [
    "# ! python -m spacy download en_core_web_sm\n",
    "from bertopic.representation import KeyBERTInspired, PartOfSpeech, MaximalMarginalRelevance\n",
    "\n",
    "main_representation_model = KeyBERTInspired()\n",
    "aspect_representation_model1 = PartOfSpeech(\"en_core_web_sm\")\n",
    "aspect_representation_model2 = [KeyBERTInspired(top_n_words=30), \n",
    "                                MaximalMarginalRelevance(diversity=.5)]\n",
    "\n",
    "representation_model = {\n",
    "   \"Main\": main_representation_model,\n",
    "   \"Aspect1\":  aspect_representation_model1,\n",
    "   \"Aspect2\":  aspect_representation_model2 \n",
    "}\n",
    "\n",
    "# embedding_model = \"paraphrase-MiniLM-L6-v2\" Modify this to use a different model\n",
    "#vectorizer_model = CountVectorizer(ngram_range=(1, 2))\n",
    "topic_model = BERTopic(representation_model = representation_model, verbose=True) #vectorizer_model=vectorizer_model) #min_topic_size=5)"
   ]
  },
  {
   "cell_type": "code",
   "execution_count": 7,
   "metadata": {},
   "outputs": [
    {
     "name": "stderr",
     "output_type": "stream",
     "text": [
      "2024-11-25 15:51:42,457 - BERTopic - Embedding - Transforming documents to embeddings.\n",
      "Batches: 100%|██████████| 62/62 [00:03<00:00, 15.79it/s]\n",
      "2024-11-25 15:51:48,719 - BERTopic - Embedding - Completed ✓\n",
      "2024-11-25 15:51:48,719 - BERTopic - Dimensionality - Fitting the dimensionality reduction algorithm\n",
      "2024-11-25 15:52:02,668 - BERTopic - Dimensionality - Completed ✓\n",
      "2024-11-25 15:52:02,668 - BERTopic - Cluster - Start clustering the reduced embeddings\n",
      "2024-11-25 15:52:02,738 - BERTopic - Cluster - Completed ✓\n",
      "2024-11-25 15:52:02,748 - BERTopic - Representation - Extracting topics from clusters using representation models.\n",
      "2024-11-25 15:52:14,163 - BERTopic - Representation - Completed ✓\n"
     ]
    },
    {
     "data": {
      "text/plain": [
       "58"
      ]
     },
     "execution_count": 7,
     "metadata": {},
     "output_type": "execute_result"
    }
   ],
   "source": [
    "topics, ini_probs = topic_model.fit_transform(docs)\n",
    "num_topics = len(topic_model.get_topics()) - 1\n",
    "num_topics"
   ]
  },
  {
   "cell_type": "code",
   "execution_count": 8,
   "metadata": {},
   "outputs": [
    {
     "data": {
      "text/html": [
       "<div>\n",
       "<style scoped>\n",
       "    .dataframe tbody tr th:only-of-type {\n",
       "        vertical-align: middle;\n",
       "    }\n",
       "\n",
       "    .dataframe tbody tr th {\n",
       "        vertical-align: top;\n",
       "    }\n",
       "\n",
       "    .dataframe thead th {\n",
       "        text-align: right;\n",
       "    }\n",
       "</style>\n",
       "<table border=\"1\" class=\"dataframe\">\n",
       "  <thead>\n",
       "    <tr style=\"text-align: right;\">\n",
       "      <th></th>\n",
       "      <th>Topic</th>\n",
       "      <th>Count</th>\n",
       "      <th>Name</th>\n",
       "      <th>Representation</th>\n",
       "      <th>Aspect1</th>\n",
       "      <th>Aspect2</th>\n",
       "      <th>Representative_Docs</th>\n",
       "    </tr>\n",
       "  </thead>\n",
       "  <tbody>\n",
       "    <tr>\n",
       "      <th>0</th>\n",
       "      <td>-1</td>\n",
       "      <td>385</td>\n",
       "      <td>-1_focus_feeling_watching_thought</td>\n",
       "      <td>[focus, feeling, watching, thought, emotion, s...</td>\n",
       "      <td>[first, front, control, time, body, technical,...</td>\n",
       "      <td>[focus, sitting, scene, selflove, dream, mood,...</td>\n",
       "      <td>[right actually make realise im actually way b...</td>\n",
       "    </tr>\n",
       "    <tr>\n",
       "      <th>1</th>\n",
       "      <td>0</td>\n",
       "      <td>96</td>\n",
       "      <td>0_thinking_mind_feeling_thought</td>\n",
       "      <td>[thinking, mind, feeling, thought, telepathy, ...</td>\n",
       "      <td>[sort, thinking, thought, sensation, relate, m...</td>\n",
       "      <td>[thinking, telepathy, mindbody, introspective,...</td>\n",
       "      <td>[sort situation sort become introspective im i...</td>\n",
       "    </tr>\n",
       "    <tr>\n",
       "      <th>2</th>\n",
       "      <td>1</td>\n",
       "      <td>76</td>\n",
       "      <td>1_body_seeing_consciousness_soul</td>\n",
       "      <td>[body, seeing, consciousness, soul, vision, mi...</td>\n",
       "      <td>[body, mirror, representation, empty, middle, ...</td>\n",
       "      <td>[body, consciousness, vision, mirror, staring,...</td>\n",
       "      <td>[seeing body, seeing body, seeing body mirror ...</td>\n",
       "    </tr>\n",
       "    <tr>\n",
       "      <th>3</th>\n",
       "      <td>2</td>\n",
       "      <td>73</td>\n",
       "      <td>2_meditation_meditate_meditating_mindfulness</td>\n",
       "      <td>[meditation, meditate, meditating, mindfulness...</td>\n",
       "      <td>[meditation, meditating, journey, travel, comp...</td>\n",
       "      <td>[meditation, yoga, practice, compassionate, gu...</td>\n",
       "      <td>[meditation, meditation, meditation]</td>\n",
       "    </tr>\n",
       "    <tr>\n",
       "      <th>4</th>\n",
       "      <td>3</td>\n",
       "      <td>73</td>\n",
       "      <td>3_distracted_focus_focused_focusing</td>\n",
       "      <td>[distracted, focus, focused, focusing, distrac...</td>\n",
       "      <td>[focus, distracted, concentrate, leg, focused,...</td>\n",
       "      <td>[distracted, focusing, concentrate, blurry, me...</td>\n",
       "      <td>[got distracted, eye closed got distracted wou...</td>\n",
       "    </tr>\n",
       "    <tr>\n",
       "      <th>5</th>\n",
       "      <td>4</td>\n",
       "      <td>62</td>\n",
       "      <td>4_outside_surrounding_inside_scenery</td>\n",
       "      <td>[outside, surrounding, inside, scenery, beach,...</td>\n",
       "      <td>[environment, room, place, mountain, nature, h...</td>\n",
       "      <td>[outside, scenery, beach, surroundings, nature...</td>\n",
       "      <td>[im outside im outside body, outside, outside]</td>\n",
       "    </tr>\n",
       "    <tr>\n",
       "      <th>6</th>\n",
       "      <td>5</td>\n",
       "      <td>54</td>\n",
       "      <td>5_eye_closedcircuit_closing_staring</td>\n",
       "      <td>[eye, closedcircuit, closing, staring, closed,...</td>\n",
       "      <td>[eye, closed, open, close, closing, harder, ea...</td>\n",
       "      <td>[closedcircuit, stare, focused, screen, easier...</td>\n",
       "      <td>[first part eye closed, first eye closed time,...</td>\n",
       "    </tr>\n",
       "    <tr>\n",
       "      <th>7</th>\n",
       "      <td>6</td>\n",
       "      <td>51</td>\n",
       "      <td>6_sound_audio_hearing_voice</td>\n",
       "      <td>[sound, audio, hearing, voice, noise, listenin...</td>\n",
       "      <td>[voice, sound, follow, bird, instruction, guid...</td>\n",
       "      <td>[hearing, voice, whispering, bird, instruction...</td>\n",
       "      <td>[bird sound forest reminding bird sound home w...</td>\n",
       "    </tr>\n",
       "    <tr>\n",
       "      <th>8</th>\n",
       "      <td>7</td>\n",
       "      <td>48</td>\n",
       "      <td>7_touch_touched_touching_tapping</td>\n",
       "      <td>[touch, touched, touching, tapping, back, body...</td>\n",
       "      <td>[touch, touching, body, image, delay, real, sc...</td>\n",
       "      <td>[touch, jump, reacted, experienced, delay, sme...</td>\n",
       "      <td>[touch, touched back also touching back, touch...</td>\n",
       "    </tr>\n",
       "    <tr>\n",
       "      <th>9</th>\n",
       "      <td>8</td>\n",
       "      <td>46</td>\n",
       "      <td>8_reality_vr_illusion_virtual</td>\n",
       "      <td>[reality, vr, illusion, virtual, imagination, ...</td>\n",
       "      <td>[reality, virtual, illusion, kind, dress, phys...</td>\n",
       "      <td>[reality, vr, illusion, immersive, perspective...</td>\n",
       "      <td>[sophisticated virtual reality stuff people 10...</td>\n",
       "    </tr>\n",
       "  </tbody>\n",
       "</table>\n",
       "</div>"
      ],
      "text/plain": [
       "   Topic  Count                                          Name  \\\n",
       "0     -1    385             -1_focus_feeling_watching_thought   \n",
       "1      0     96               0_thinking_mind_feeling_thought   \n",
       "2      1     76              1_body_seeing_consciousness_soul   \n",
       "3      2     73  2_meditation_meditate_meditating_mindfulness   \n",
       "4      3     73           3_distracted_focus_focused_focusing   \n",
       "5      4     62          4_outside_surrounding_inside_scenery   \n",
       "6      5     54           5_eye_closedcircuit_closing_staring   \n",
       "7      6     51                   6_sound_audio_hearing_voice   \n",
       "8      7     48              7_touch_touched_touching_tapping   \n",
       "9      8     46                 8_reality_vr_illusion_virtual   \n",
       "\n",
       "                                      Representation  \\\n",
       "0  [focus, feeling, watching, thought, emotion, s...   \n",
       "1  [thinking, mind, feeling, thought, telepathy, ...   \n",
       "2  [body, seeing, consciousness, soul, vision, mi...   \n",
       "3  [meditation, meditate, meditating, mindfulness...   \n",
       "4  [distracted, focus, focused, focusing, distrac...   \n",
       "5  [outside, surrounding, inside, scenery, beach,...   \n",
       "6  [eye, closedcircuit, closing, staring, closed,...   \n",
       "7  [sound, audio, hearing, voice, noise, listenin...   \n",
       "8  [touch, touched, touching, tapping, back, body...   \n",
       "9  [reality, vr, illusion, virtual, imagination, ...   \n",
       "\n",
       "                                             Aspect1  \\\n",
       "0  [first, front, control, time, body, technical,...   \n",
       "1  [sort, thinking, thought, sensation, relate, m...   \n",
       "2  [body, mirror, representation, empty, middle, ...   \n",
       "3  [meditation, meditating, journey, travel, comp...   \n",
       "4  [focus, distracted, concentrate, leg, focused,...   \n",
       "5  [environment, room, place, mountain, nature, h...   \n",
       "6  [eye, closed, open, close, closing, harder, ea...   \n",
       "7  [voice, sound, follow, bird, instruction, guid...   \n",
       "8  [touch, touching, body, image, delay, real, sc...   \n",
       "9  [reality, virtual, illusion, kind, dress, phys...   \n",
       "\n",
       "                                             Aspect2  \\\n",
       "0  [focus, sitting, scene, selflove, dream, mood,...   \n",
       "1  [thinking, telepathy, mindbody, introspective,...   \n",
       "2  [body, consciousness, vision, mirror, staring,...   \n",
       "3  [meditation, yoga, practice, compassionate, gu...   \n",
       "4  [distracted, focusing, concentrate, blurry, me...   \n",
       "5  [outside, scenery, beach, surroundings, nature...   \n",
       "6  [closedcircuit, stare, focused, screen, easier...   \n",
       "7  [hearing, voice, whispering, bird, instruction...   \n",
       "8  [touch, jump, reacted, experienced, delay, sme...   \n",
       "9  [reality, vr, illusion, immersive, perspective...   \n",
       "\n",
       "                                 Representative_Docs  \n",
       "0  [right actually make realise im actually way b...  \n",
       "1  [sort situation sort become introspective im i...  \n",
       "2  [seeing body, seeing body, seeing body mirror ...  \n",
       "3               [meditation, meditation, meditation]  \n",
       "4  [got distracted, eye closed got distracted wou...  \n",
       "5     [im outside im outside body, outside, outside]  \n",
       "6  [first part eye closed, first eye closed time,...  \n",
       "7  [bird sound forest reminding bird sound home w...  \n",
       "8  [touch, touched back also touching back, touch...  \n",
       "9  [sophisticated virtual reality stuff people 10...  "
      ]
     },
     "execution_count": 8,
     "metadata": {},
     "output_type": "execute_result"
    }
   ],
   "source": [
    "topic_model.get_topic_info().to_csv(\"topic_info.csv\")\n",
    "topic_model.get_topic_info().head(10)"
   ]
  },
  {
   "cell_type": "code",
   "execution_count": 9,
   "metadata": {},
   "outputs": [
    {
     "data": {
      "application/vnd.plotly.v1+json": {
       "config": {
        "plotlyServerURL": "https://plot.ly"
       },
       "data": [
        {
         "marker": {
          "color": "#D55E00"
         },
         "orientation": "h",
         "type": "bar",
         "x": [
          0.407549113035202,
          0.4354546368122101,
          0.4377065896987915,
          0.4529125690460205,
          0.4768640398979187,
          0.4830787777900696,
          0.48666542768478394,
          0.499808132648468,
          0.5490574240684509,
          0.6411329507827759
         ],
         "xaxis": "x",
         "y": [
          "introspective  ",
          "sort  ",
          "brain  ",
          "mindbody  ",
          "relate  ",
          "telepathy  ",
          "thought  ",
          "feeling  ",
          "mind  ",
          "thinking  "
         ],
         "yaxis": "y"
        },
        {
         "marker": {
          "color": "#0072B2"
         },
         "orientation": "h",
         "type": "bar",
         "x": [
          0.47327685356140137,
          0.4879601001739502,
          0.5001405477523804,
          0.5006027221679688,
          0.5034785270690918,
          0.5199304819107056,
          0.5205451846122742,
          0.5285365581512451,
          0.5411664843559265,
          0.8781569600105286
         ],
         "xaxis": "x2",
         "y": [
          "appear  ",
          "feeling  ",
          "perceive  ",
          "staring  ",
          "mirror  ",
          "vision  ",
          "soul  ",
          "consciousness  ",
          "seeing  ",
          "body  "
         ],
         "yaxis": "y2"
        },
        {
         "marker": {
          "color": "#CC79A7"
         },
         "orientation": "h",
         "type": "bar",
         "x": [
          0.42833295464515686,
          0.4383028745651245,
          0.44095945358276367,
          0.4860055446624756,
          0.536434531211853,
          0.5381483435630798,
          0.7606180906295776,
          0.8565288782119751,
          0.8651211261749268,
          0.9999997615814209
         ],
         "xaxis": "x3",
         "y": [
          "compassion  ",
          "astral  ",
          "emanating  ",
          "concentrating  ",
          "relaxing  ",
          "yoga  ",
          "mindfulness  ",
          "meditating  ",
          "meditate  ",
          "meditation  "
         ],
         "yaxis": "y3"
        },
        {
         "marker": {
          "color": "#E69F00"
         },
         "orientation": "h",
         "type": "bar",
         "x": [
          0.4049175977706909,
          0.47096380591392517,
          0.47736668586730957,
          0.49257272481918335,
          0.6106768846511841,
          0.6231464147567749,
          0.7699734568595886,
          0.7931444644927979,
          0.8128469586372375,
          0.8428896069526672
         ],
         "xaxis": "x4",
         "y": [
          "meditate  ",
          "typing  ",
          "blurry  ",
          "thinking  ",
          "concentrate  ",
          "distracting  ",
          "focusing  ",
          "focused  ",
          "focus  ",
          "distracted  "
         ],
         "yaxis": "y4"
        },
        {
         "marker": {
          "color": "#56B4E9"
         },
         "orientation": "h",
         "type": "bar",
         "x": [
          0.4412565231323242,
          0.4640464186668396,
          0.47908613085746765,
          0.48941361904144287,
          0.498491108417511,
          0.5007919669151306,
          0.5053293704986572,
          0.5435495972633362,
          0.5558243989944458,
          0.9377976655960083
         ],
         "xaxis": "x5",
         "y": [
          "location  ",
          "nature  ",
          "surroundings  ",
          "grass  ",
          "environment  ",
          "beach  ",
          "scenery  ",
          "inside  ",
          "surrounding  ",
          "outside  "
         ],
         "yaxis": "y5"
        },
        {
         "marker": {
          "color": "#009E73"
         },
         "orientation": "h",
         "type": "bar",
         "x": [
          0.3405255079269409,
          0.35051095485687256,
          0.3718422055244446,
          0.3845518231391907,
          0.41825300455093384,
          0.43502098321914673,
          0.44572097063064575,
          0.4772372245788574,
          0.49478679895401,
          0.5959298610687256
         ],
         "xaxis": "x6",
         "y": [
          "opened  ",
          "close  ",
          "open  ",
          "focused  ",
          "stare  ",
          "closed  ",
          "staring  ",
          "closing  ",
          "closedcircuit  ",
          "eye  "
         ],
         "yaxis": "y6"
        },
        {
         "marker": {
          "color": "#F0E442"
         },
         "orientation": "h",
         "type": "bar",
         "x": [
          0.5019911527633667,
          0.5055487155914307,
          0.5098036527633667,
          0.5296820402145386,
          0.540484607219696,
          0.5927246809005737,
          0.6401961445808411,
          0.6567426323890686,
          0.6773054599761963,
          0.6988304257392883
         ],
         "xaxis": "x7",
         "y": [
          "bird  ",
          "music  ",
          "ear  ",
          "whispering  ",
          "listening  ",
          "noise  ",
          "voice  ",
          "hearing  ",
          "audio  ",
          "sound  "
         ],
         "yaxis": "y7"
        },
        {
         "marker": {
          "color": "#D55E00"
         },
         "orientation": "h",
         "type": "bar",
         "x": [
          0.36992719769477844,
          0.37073656916618347,
          0.37741535902023315,
          0.37869367003440857,
          0.39887312054634094,
          0.40237289667129517,
          0.5569931268692017,
          0.8251585960388184,
          0.842348575592041,
          0.9415554404258728
         ],
         "xaxis": "x8",
         "y": [
          "stick  ",
          "scene  ",
          "reacted  ",
          "jump  ",
          "body  ",
          "back  ",
          "tapping  ",
          "touching  ",
          "touched  ",
          "touch  "
         ],
         "yaxis": "y8"
        },
        {
         "marker": {
          "color": "#0072B2"
         },
         "orientation": "h",
         "type": "bar",
         "x": [
          0.4226936399936676,
          0.4359133839607239,
          0.4548718333244324,
          0.4947355091571808,
          0.5065476894378662,
          0.5193676948547363,
          0.5356399416923523,
          0.5593843460083008,
          0.5774046182632446,
          0.751173734664917
         ],
         "xaxis": "x9",
         "y": [
          "physical  ",
          "vision  ",
          "believe  ",
          "perspective  ",
          "immersive  ",
          "imagination  ",
          "virtual  ",
          "illusion  ",
          "vr  ",
          "reality  "
         ],
         "yaxis": "y9"
        },
        {
         "marker": {
          "color": "#CC79A7"
         },
         "orientation": "h",
         "type": "bar",
         "x": [
          0.38447749614715576,
          0.3952180743217468,
          0.39693260192871094,
          0.3982953131198883,
          0.4137829542160034,
          0.4267967939376831,
          0.44206032156944275,
          0.5465126037597656,
          0.8020643591880798,
          0.9706603288650513
         ],
         "xaxis": "x10",
         "y": [
          "change  ",
          "achieved  ",
          "changing  ",
          "empowering  ",
          "different  ",
          "previous  ",
          "learned  ",
          "experientially  ",
          "experienced  ",
          "experience  "
         ],
         "yaxis": "y10"
        },
        {
         "marker": {
          "color": "#E69F00"
         },
         "orientation": "h",
         "type": "bar",
         "x": [
          0.43546074628829956,
          0.43921971321105957,
          0.45758986473083496,
          0.46070829033851624,
          0.4681854844093323,
          0.4850268065929413,
          0.49744364619255066,
          0.6296437978744507,
          0.736887514591217,
          0.9660998582839966
         ],
         "xaxis": "x11",
         "y": [
          "want  ",
          "also  ",
          "harder  ",
          "double  ",
          "later  ",
          "last  ",
          "previous  ",
          "first  ",
          "third  ",
          "second  "
         ],
         "yaxis": "y11"
        },
        {
         "marker": {
          "color": "#56B4E9"
         },
         "orientation": "h",
         "type": "bar",
         "x": [
          0.39397385716438293,
          0.4000166058540344,
          0.4061083495616913,
          0.43252310156822205,
          0.44073718786239624,
          0.4858734607696533,
          0.578681230545044,
          0.7246029376983643,
          0.9264784455299377,
          0.9955638647079468
         ],
         "xaxis": "x12",
         "y": [
          "actually  ",
          "probably  ",
          "maybe  ",
          "special  ",
          "funny  ",
          "normal  ",
          "unusual  ",
          "weirdness  ",
          "weird  ",
          "strange  "
         ],
         "yaxis": "y12"
        },
        {
         "marker": {
          "color": "#009E73"
         },
         "orientation": "h",
         "type": "bar",
         "x": [
          0.4974706172943115,
          0.5114243030548096,
          0.523780107498169,
          0.5331019163131714,
          0.5346966981887817,
          0.595563530921936,
          0.6270576119422913,
          0.6934635639190674,
          0.8547423481941223,
          0.9915448427200317
         ],
         "xaxis": "x13",
         "y": [
          "discomfort  ",
          "asleep  ",
          "comfortable  ",
          "rest  ",
          "stress  ",
          "stressed  ",
          "calming  ",
          "relax  ",
          "relaxed  ",
          "relaxing  "
         ],
         "yaxis": "y13"
        },
        {
         "marker": {
          "color": "#F0E442"
         },
         "orientation": "h",
         "type": "bar",
         "x": [
          0.33486926555633545,
          0.41418221592903137,
          0.42277422547340393,
          0.500125527381897,
          0.5282871723175049,
          0.5402743816375732,
          0.5783525109291077,
          0.6422365307807922,
          0.6476073861122131,
          0.6714110374450684
         ],
         "xaxis": "x14",
         "y": [
          "towards  ",
          "lift  ",
          "pushing  ",
          "shift  ",
          "moved  ",
          "shifting  ",
          "hand  ",
          "moving  ",
          "movement  ",
          "move  "
         ],
         "yaxis": "y14"
        },
        {
         "marker": {
          "color": "#D55E00"
         },
         "orientation": "h",
         "type": "bar",
         "x": [
          0.33114004135131836,
          0.36581748723983765,
          0.387114942073822,
          0.3909621834754944,
          0.393873929977417,
          0.4159280061721802,
          0.6252255439758301,
          0.6398380994796753,
          0.7546180486679077,
          0.8727152943611145
         ],
         "xaxis": "x15",
         "y": [
          "wondering  ",
          "second  ",
          "together  ",
          "100  ",
          "number  ",
          "body  ",
          "two  ",
          "third  ",
          "threebody  ",
          "three  "
         ],
         "yaxis": "y15"
        },
        {
         "marker": {
          "color": "#0072B2"
         },
         "orientation": "h",
         "type": "bar",
         "x": [
          0.45781409740448,
          0.4832684099674225,
          0.5062078833580017,
          0.533994197845459,
          0.5483454465866089,
          0.5658211708068848,
          0.5688201785087585,
          0.5806472301483154,
          0.7354364991188049,
          0.9887560606002808
         ],
         "xaxis": "x16",
         "y": [
          "comment  ",
          "point  ",
          "confusing  ",
          "confused  ",
          "curious  ",
          "explain  ",
          "understood  ",
          "understand  ",
          "answer  ",
          "question  "
         ],
         "yaxis": "y16"
        }
       ],
       "layout": {
        "annotations": [
         {
          "font": {
           "size": 16
          },
          "showarrow": false,
          "text": "Topic 0",
          "x": 0.0875,
          "xanchor": "center",
          "xref": "paper",
          "y": 1,
          "yanchor": "bottom",
          "yref": "paper"
         },
         {
          "font": {
           "size": 16
          },
          "showarrow": false,
          "text": "Topic 1",
          "x": 0.36250000000000004,
          "xanchor": "center",
          "xref": "paper",
          "y": 1,
          "yanchor": "bottom",
          "yref": "paper"
         },
         {
          "font": {
           "size": 16
          },
          "showarrow": false,
          "text": "Topic 2",
          "x": 0.6375000000000001,
          "xanchor": "center",
          "xref": "paper",
          "y": 1,
          "yanchor": "bottom",
          "yref": "paper"
         },
         {
          "font": {
           "size": 16
          },
          "showarrow": false,
          "text": "Topic 3",
          "x": 0.9125,
          "xanchor": "center",
          "xref": "paper",
          "y": 1,
          "yanchor": "bottom",
          "yref": "paper"
         },
         {
          "font": {
           "size": 16
          },
          "showarrow": false,
          "text": "Topic 4",
          "x": 0.0875,
          "xanchor": "center",
          "xref": "paper",
          "y": 0.7250000000000001,
          "yanchor": "bottom",
          "yref": "paper"
         },
         {
          "font": {
           "size": 16
          },
          "showarrow": false,
          "text": "Topic 5",
          "x": 0.36250000000000004,
          "xanchor": "center",
          "xref": "paper",
          "y": 0.7250000000000001,
          "yanchor": "bottom",
          "yref": "paper"
         },
         {
          "font": {
           "size": 16
          },
          "showarrow": false,
          "text": "Topic 6",
          "x": 0.6375000000000001,
          "xanchor": "center",
          "xref": "paper",
          "y": 0.7250000000000001,
          "yanchor": "bottom",
          "yref": "paper"
         },
         {
          "font": {
           "size": 16
          },
          "showarrow": false,
          "text": "Topic 7",
          "x": 0.9125,
          "xanchor": "center",
          "xref": "paper",
          "y": 0.7250000000000001,
          "yanchor": "bottom",
          "yref": "paper"
         },
         {
          "font": {
           "size": 16
          },
          "showarrow": false,
          "text": "Topic 8",
          "x": 0.0875,
          "xanchor": "center",
          "xref": "paper",
          "y": 0.45,
          "yanchor": "bottom",
          "yref": "paper"
         },
         {
          "font": {
           "size": 16
          },
          "showarrow": false,
          "text": "Topic 9",
          "x": 0.36250000000000004,
          "xanchor": "center",
          "xref": "paper",
          "y": 0.45,
          "yanchor": "bottom",
          "yref": "paper"
         },
         {
          "font": {
           "size": 16
          },
          "showarrow": false,
          "text": "Topic 10",
          "x": 0.6375000000000001,
          "xanchor": "center",
          "xref": "paper",
          "y": 0.45,
          "yanchor": "bottom",
          "yref": "paper"
         },
         {
          "font": {
           "size": 16
          },
          "showarrow": false,
          "text": "Topic 11",
          "x": 0.9125,
          "xanchor": "center",
          "xref": "paper",
          "y": 0.45,
          "yanchor": "bottom",
          "yref": "paper"
         },
         {
          "font": {
           "size": 16
          },
          "showarrow": false,
          "text": "Topic 12",
          "x": 0.0875,
          "xanchor": "center",
          "xref": "paper",
          "y": 0.175,
          "yanchor": "bottom",
          "yref": "paper"
         },
         {
          "font": {
           "size": 16
          },
          "showarrow": false,
          "text": "Topic 13",
          "x": 0.36250000000000004,
          "xanchor": "center",
          "xref": "paper",
          "y": 0.175,
          "yanchor": "bottom",
          "yref": "paper"
         },
         {
          "font": {
           "size": 16
          },
          "showarrow": false,
          "text": "Topic 14",
          "x": 0.6375000000000001,
          "xanchor": "center",
          "xref": "paper",
          "y": 0.175,
          "yanchor": "bottom",
          "yref": "paper"
         },
         {
          "font": {
           "size": 16
          },
          "showarrow": false,
          "text": "Topic 15",
          "x": 0.9125,
          "xanchor": "center",
          "xref": "paper",
          "y": 0.175,
          "yanchor": "bottom",
          "yref": "paper"
         }
        ],
        "height": 1000,
        "hoverlabel": {
         "bgcolor": "white",
         "font": {
          "family": "Rockwell",
          "size": 16
         }
        },
        "showlegend": false,
        "template": {
         "data": {
          "bar": [
           {
            "error_x": {
             "color": "#2a3f5f"
            },
            "error_y": {
             "color": "#2a3f5f"
            },
            "marker": {
             "line": {
              "color": "white",
              "width": 0.5
             },
             "pattern": {
              "fillmode": "overlay",
              "size": 10,
              "solidity": 0.2
             }
            },
            "type": "bar"
           }
          ],
          "barpolar": [
           {
            "marker": {
             "line": {
              "color": "white",
              "width": 0.5
             },
             "pattern": {
              "fillmode": "overlay",
              "size": 10,
              "solidity": 0.2
             }
            },
            "type": "barpolar"
           }
          ],
          "carpet": [
           {
            "aaxis": {
             "endlinecolor": "#2a3f5f",
             "gridcolor": "#C8D4E3",
             "linecolor": "#C8D4E3",
             "minorgridcolor": "#C8D4E3",
             "startlinecolor": "#2a3f5f"
            },
            "baxis": {
             "endlinecolor": "#2a3f5f",
             "gridcolor": "#C8D4E3",
             "linecolor": "#C8D4E3",
             "minorgridcolor": "#C8D4E3",
             "startlinecolor": "#2a3f5f"
            },
            "type": "carpet"
           }
          ],
          "choropleth": [
           {
            "colorbar": {
             "outlinewidth": 0,
             "ticks": ""
            },
            "type": "choropleth"
           }
          ],
          "contour": [
           {
            "colorbar": {
             "outlinewidth": 0,
             "ticks": ""
            },
            "colorscale": [
             [
              0,
              "#0d0887"
             ],
             [
              0.1111111111111111,
              "#46039f"
             ],
             [
              0.2222222222222222,
              "#7201a8"
             ],
             [
              0.3333333333333333,
              "#9c179e"
             ],
             [
              0.4444444444444444,
              "#bd3786"
             ],
             [
              0.5555555555555556,
              "#d8576b"
             ],
             [
              0.6666666666666666,
              "#ed7953"
             ],
             [
              0.7777777777777778,
              "#fb9f3a"
             ],
             [
              0.8888888888888888,
              "#fdca26"
             ],
             [
              1,
              "#f0f921"
             ]
            ],
            "type": "contour"
           }
          ],
          "contourcarpet": [
           {
            "colorbar": {
             "outlinewidth": 0,
             "ticks": ""
            },
            "type": "contourcarpet"
           }
          ],
          "heatmap": [
           {
            "colorbar": {
             "outlinewidth": 0,
             "ticks": ""
            },
            "colorscale": [
             [
              0,
              "#0d0887"
             ],
             [
              0.1111111111111111,
              "#46039f"
             ],
             [
              0.2222222222222222,
              "#7201a8"
             ],
             [
              0.3333333333333333,
              "#9c179e"
             ],
             [
              0.4444444444444444,
              "#bd3786"
             ],
             [
              0.5555555555555556,
              "#d8576b"
             ],
             [
              0.6666666666666666,
              "#ed7953"
             ],
             [
              0.7777777777777778,
              "#fb9f3a"
             ],
             [
              0.8888888888888888,
              "#fdca26"
             ],
             [
              1,
              "#f0f921"
             ]
            ],
            "type": "heatmap"
           }
          ],
          "heatmapgl": [
           {
            "colorbar": {
             "outlinewidth": 0,
             "ticks": ""
            },
            "colorscale": [
             [
              0,
              "#0d0887"
             ],
             [
              0.1111111111111111,
              "#46039f"
             ],
             [
              0.2222222222222222,
              "#7201a8"
             ],
             [
              0.3333333333333333,
              "#9c179e"
             ],
             [
              0.4444444444444444,
              "#bd3786"
             ],
             [
              0.5555555555555556,
              "#d8576b"
             ],
             [
              0.6666666666666666,
              "#ed7953"
             ],
             [
              0.7777777777777778,
              "#fb9f3a"
             ],
             [
              0.8888888888888888,
              "#fdca26"
             ],
             [
              1,
              "#f0f921"
             ]
            ],
            "type": "heatmapgl"
           }
          ],
          "histogram": [
           {
            "marker": {
             "pattern": {
              "fillmode": "overlay",
              "size": 10,
              "solidity": 0.2
             }
            },
            "type": "histogram"
           }
          ],
          "histogram2d": [
           {
            "colorbar": {
             "outlinewidth": 0,
             "ticks": ""
            },
            "colorscale": [
             [
              0,
              "#0d0887"
             ],
             [
              0.1111111111111111,
              "#46039f"
             ],
             [
              0.2222222222222222,
              "#7201a8"
             ],
             [
              0.3333333333333333,
              "#9c179e"
             ],
             [
              0.4444444444444444,
              "#bd3786"
             ],
             [
              0.5555555555555556,
              "#d8576b"
             ],
             [
              0.6666666666666666,
              "#ed7953"
             ],
             [
              0.7777777777777778,
              "#fb9f3a"
             ],
             [
              0.8888888888888888,
              "#fdca26"
             ],
             [
              1,
              "#f0f921"
             ]
            ],
            "type": "histogram2d"
           }
          ],
          "histogram2dcontour": [
           {
            "colorbar": {
             "outlinewidth": 0,
             "ticks": ""
            },
            "colorscale": [
             [
              0,
              "#0d0887"
             ],
             [
              0.1111111111111111,
              "#46039f"
             ],
             [
              0.2222222222222222,
              "#7201a8"
             ],
             [
              0.3333333333333333,
              "#9c179e"
             ],
             [
              0.4444444444444444,
              "#bd3786"
             ],
             [
              0.5555555555555556,
              "#d8576b"
             ],
             [
              0.6666666666666666,
              "#ed7953"
             ],
             [
              0.7777777777777778,
              "#fb9f3a"
             ],
             [
              0.8888888888888888,
              "#fdca26"
             ],
             [
              1,
              "#f0f921"
             ]
            ],
            "type": "histogram2dcontour"
           }
          ],
          "mesh3d": [
           {
            "colorbar": {
             "outlinewidth": 0,
             "ticks": ""
            },
            "type": "mesh3d"
           }
          ],
          "parcoords": [
           {
            "line": {
             "colorbar": {
              "outlinewidth": 0,
              "ticks": ""
             }
            },
            "type": "parcoords"
           }
          ],
          "pie": [
           {
            "automargin": true,
            "type": "pie"
           }
          ],
          "scatter": [
           {
            "fillpattern": {
             "fillmode": "overlay",
             "size": 10,
             "solidity": 0.2
            },
            "type": "scatter"
           }
          ],
          "scatter3d": [
           {
            "line": {
             "colorbar": {
              "outlinewidth": 0,
              "ticks": ""
             }
            },
            "marker": {
             "colorbar": {
              "outlinewidth": 0,
              "ticks": ""
             }
            },
            "type": "scatter3d"
           }
          ],
          "scattercarpet": [
           {
            "marker": {
             "colorbar": {
              "outlinewidth": 0,
              "ticks": ""
             }
            },
            "type": "scattercarpet"
           }
          ],
          "scattergeo": [
           {
            "marker": {
             "colorbar": {
              "outlinewidth": 0,
              "ticks": ""
             }
            },
            "type": "scattergeo"
           }
          ],
          "scattergl": [
           {
            "marker": {
             "colorbar": {
              "outlinewidth": 0,
              "ticks": ""
             }
            },
            "type": "scattergl"
           }
          ],
          "scattermapbox": [
           {
            "marker": {
             "colorbar": {
              "outlinewidth": 0,
              "ticks": ""
             }
            },
            "type": "scattermapbox"
           }
          ],
          "scatterpolar": [
           {
            "marker": {
             "colorbar": {
              "outlinewidth": 0,
              "ticks": ""
             }
            },
            "type": "scatterpolar"
           }
          ],
          "scatterpolargl": [
           {
            "marker": {
             "colorbar": {
              "outlinewidth": 0,
              "ticks": ""
             }
            },
            "type": "scatterpolargl"
           }
          ],
          "scatterternary": [
           {
            "marker": {
             "colorbar": {
              "outlinewidth": 0,
              "ticks": ""
             }
            },
            "type": "scatterternary"
           }
          ],
          "surface": [
           {
            "colorbar": {
             "outlinewidth": 0,
             "ticks": ""
            },
            "colorscale": [
             [
              0,
              "#0d0887"
             ],
             [
              0.1111111111111111,
              "#46039f"
             ],
             [
              0.2222222222222222,
              "#7201a8"
             ],
             [
              0.3333333333333333,
              "#9c179e"
             ],
             [
              0.4444444444444444,
              "#bd3786"
             ],
             [
              0.5555555555555556,
              "#d8576b"
             ],
             [
              0.6666666666666666,
              "#ed7953"
             ],
             [
              0.7777777777777778,
              "#fb9f3a"
             ],
             [
              0.8888888888888888,
              "#fdca26"
             ],
             [
              1,
              "#f0f921"
             ]
            ],
            "type": "surface"
           }
          ],
          "table": [
           {
            "cells": {
             "fill": {
              "color": "#EBF0F8"
             },
             "line": {
              "color": "white"
             }
            },
            "header": {
             "fill": {
              "color": "#C8D4E3"
             },
             "line": {
              "color": "white"
             }
            },
            "type": "table"
           }
          ]
         },
         "layout": {
          "annotationdefaults": {
           "arrowcolor": "#2a3f5f",
           "arrowhead": 0,
           "arrowwidth": 1
          },
          "autotypenumbers": "strict",
          "coloraxis": {
           "colorbar": {
            "outlinewidth": 0,
            "ticks": ""
           }
          },
          "colorscale": {
           "diverging": [
            [
             0,
             "#8e0152"
            ],
            [
             0.1,
             "#c51b7d"
            ],
            [
             0.2,
             "#de77ae"
            ],
            [
             0.3,
             "#f1b6da"
            ],
            [
             0.4,
             "#fde0ef"
            ],
            [
             0.5,
             "#f7f7f7"
            ],
            [
             0.6,
             "#e6f5d0"
            ],
            [
             0.7,
             "#b8e186"
            ],
            [
             0.8,
             "#7fbc41"
            ],
            [
             0.9,
             "#4d9221"
            ],
            [
             1,
             "#276419"
            ]
           ],
           "sequential": [
            [
             0,
             "#0d0887"
            ],
            [
             0.1111111111111111,
             "#46039f"
            ],
            [
             0.2222222222222222,
             "#7201a8"
            ],
            [
             0.3333333333333333,
             "#9c179e"
            ],
            [
             0.4444444444444444,
             "#bd3786"
            ],
            [
             0.5555555555555556,
             "#d8576b"
            ],
            [
             0.6666666666666666,
             "#ed7953"
            ],
            [
             0.7777777777777778,
             "#fb9f3a"
            ],
            [
             0.8888888888888888,
             "#fdca26"
            ],
            [
             1,
             "#f0f921"
            ]
           ],
           "sequentialminus": [
            [
             0,
             "#0d0887"
            ],
            [
             0.1111111111111111,
             "#46039f"
            ],
            [
             0.2222222222222222,
             "#7201a8"
            ],
            [
             0.3333333333333333,
             "#9c179e"
            ],
            [
             0.4444444444444444,
             "#bd3786"
            ],
            [
             0.5555555555555556,
             "#d8576b"
            ],
            [
             0.6666666666666666,
             "#ed7953"
            ],
            [
             0.7777777777777778,
             "#fb9f3a"
            ],
            [
             0.8888888888888888,
             "#fdca26"
            ],
            [
             1,
             "#f0f921"
            ]
           ]
          },
          "colorway": [
           "#636efa",
           "#EF553B",
           "#00cc96",
           "#ab63fa",
           "#FFA15A",
           "#19d3f3",
           "#FF6692",
           "#B6E880",
           "#FF97FF",
           "#FECB52"
          ],
          "font": {
           "color": "#2a3f5f"
          },
          "geo": {
           "bgcolor": "white",
           "lakecolor": "white",
           "landcolor": "white",
           "showlakes": true,
           "showland": true,
           "subunitcolor": "#C8D4E3"
          },
          "hoverlabel": {
           "align": "left"
          },
          "hovermode": "closest",
          "mapbox": {
           "style": "light"
          },
          "paper_bgcolor": "white",
          "plot_bgcolor": "white",
          "polar": {
           "angularaxis": {
            "gridcolor": "#EBF0F8",
            "linecolor": "#EBF0F8",
            "ticks": ""
           },
           "bgcolor": "white",
           "radialaxis": {
            "gridcolor": "#EBF0F8",
            "linecolor": "#EBF0F8",
            "ticks": ""
           }
          },
          "scene": {
           "xaxis": {
            "backgroundcolor": "white",
            "gridcolor": "#DFE8F3",
            "gridwidth": 2,
            "linecolor": "#EBF0F8",
            "showbackground": true,
            "ticks": "",
            "zerolinecolor": "#EBF0F8"
           },
           "yaxis": {
            "backgroundcolor": "white",
            "gridcolor": "#DFE8F3",
            "gridwidth": 2,
            "linecolor": "#EBF0F8",
            "showbackground": true,
            "ticks": "",
            "zerolinecolor": "#EBF0F8"
           },
           "zaxis": {
            "backgroundcolor": "white",
            "gridcolor": "#DFE8F3",
            "gridwidth": 2,
            "linecolor": "#EBF0F8",
            "showbackground": true,
            "ticks": "",
            "zerolinecolor": "#EBF0F8"
           }
          },
          "shapedefaults": {
           "line": {
            "color": "#2a3f5f"
           }
          },
          "ternary": {
           "aaxis": {
            "gridcolor": "#DFE8F3",
            "linecolor": "#A2B1C6",
            "ticks": ""
           },
           "baxis": {
            "gridcolor": "#DFE8F3",
            "linecolor": "#A2B1C6",
            "ticks": ""
           },
           "bgcolor": "white",
           "caxis": {
            "gridcolor": "#DFE8F3",
            "linecolor": "#A2B1C6",
            "ticks": ""
           }
          },
          "title": {
           "x": 0.05
          },
          "xaxis": {
           "automargin": true,
           "gridcolor": "#EBF0F8",
           "linecolor": "#EBF0F8",
           "ticks": "",
           "title": {
            "standoff": 15
           },
           "zerolinecolor": "#EBF0F8",
           "zerolinewidth": 2
          },
          "yaxis": {
           "automargin": true,
           "gridcolor": "#EBF0F8",
           "linecolor": "#EBF0F8",
           "ticks": "",
           "title": {
            "standoff": 15
           },
           "zerolinecolor": "#EBF0F8",
           "zerolinewidth": 2
          }
         }
        },
        "title": {
         "font": {
          "color": "Black",
          "size": 22
         },
         "text": "Topic Word Scores",
         "x": 0.5,
         "xanchor": "center",
         "yanchor": "top"
        },
        "width": 1000,
        "xaxis": {
         "anchor": "y",
         "domain": [
          0,
          0.175
         ],
         "showgrid": true
        },
        "xaxis10": {
         "anchor": "y10",
         "domain": [
          0.275,
          0.45
         ],
         "showgrid": true
        },
        "xaxis11": {
         "anchor": "y11",
         "domain": [
          0.55,
          0.7250000000000001
         ],
         "showgrid": true
        },
        "xaxis12": {
         "anchor": "y12",
         "domain": [
          0.825,
          1
         ],
         "showgrid": true
        },
        "xaxis13": {
         "anchor": "y13",
         "domain": [
          0,
          0.175
         ],
         "showgrid": true
        },
        "xaxis14": {
         "anchor": "y14",
         "domain": [
          0.275,
          0.45
         ],
         "showgrid": true
        },
        "xaxis15": {
         "anchor": "y15",
         "domain": [
          0.55,
          0.7250000000000001
         ],
         "showgrid": true
        },
        "xaxis16": {
         "anchor": "y16",
         "domain": [
          0.825,
          1
         ],
         "showgrid": true
        },
        "xaxis2": {
         "anchor": "y2",
         "domain": [
          0.275,
          0.45
         ],
         "showgrid": true
        },
        "xaxis3": {
         "anchor": "y3",
         "domain": [
          0.55,
          0.7250000000000001
         ],
         "showgrid": true
        },
        "xaxis4": {
         "anchor": "y4",
         "domain": [
          0.825,
          1
         ],
         "showgrid": true
        },
        "xaxis5": {
         "anchor": "y5",
         "domain": [
          0,
          0.175
         ],
         "showgrid": true
        },
        "xaxis6": {
         "anchor": "y6",
         "domain": [
          0.275,
          0.45
         ],
         "showgrid": true
        },
        "xaxis7": {
         "anchor": "y7",
         "domain": [
          0.55,
          0.7250000000000001
         ],
         "showgrid": true
        },
        "xaxis8": {
         "anchor": "y8",
         "domain": [
          0.825,
          1
         ],
         "showgrid": true
        },
        "xaxis9": {
         "anchor": "y9",
         "domain": [
          0,
          0.175
         ],
         "showgrid": true
        },
        "yaxis": {
         "anchor": "x",
         "domain": [
          0.825,
          1
         ],
         "showgrid": true
        },
        "yaxis10": {
         "anchor": "x10",
         "domain": [
          0.275,
          0.45
         ],
         "showgrid": true
        },
        "yaxis11": {
         "anchor": "x11",
         "domain": [
          0.275,
          0.45
         ],
         "showgrid": true
        },
        "yaxis12": {
         "anchor": "x12",
         "domain": [
          0.275,
          0.45
         ],
         "showgrid": true
        },
        "yaxis13": {
         "anchor": "x13",
         "domain": [
          0,
          0.175
         ],
         "showgrid": true
        },
        "yaxis14": {
         "anchor": "x14",
         "domain": [
          0,
          0.175
         ],
         "showgrid": true
        },
        "yaxis15": {
         "anchor": "x15",
         "domain": [
          0,
          0.175
         ],
         "showgrid": true
        },
        "yaxis16": {
         "anchor": "x16",
         "domain": [
          0,
          0.175
         ],
         "showgrid": true
        },
        "yaxis2": {
         "anchor": "x2",
         "domain": [
          0.825,
          1
         ],
         "showgrid": true
        },
        "yaxis3": {
         "anchor": "x3",
         "domain": [
          0.825,
          1
         ],
         "showgrid": true
        },
        "yaxis4": {
         "anchor": "x4",
         "domain": [
          0.825,
          1
         ],
         "showgrid": true
        },
        "yaxis5": {
         "anchor": "x5",
         "domain": [
          0.55,
          0.7250000000000001
         ],
         "showgrid": true
        },
        "yaxis6": {
         "anchor": "x6",
         "domain": [
          0.55,
          0.7250000000000001
         ],
         "showgrid": true
        },
        "yaxis7": {
         "anchor": "x7",
         "domain": [
          0.55,
          0.7250000000000001
         ],
         "showgrid": true
        },
        "yaxis8": {
         "anchor": "x8",
         "domain": [
          0.55,
          0.7250000000000001
         ],
         "showgrid": true
        },
        "yaxis9": {
         "anchor": "x9",
         "domain": [
          0.275,
          0.45
         ],
         "showgrid": true
        }
       }
      }
     },
     "metadata": {},
     "output_type": "display_data"
    }
   ],
   "source": [
    "topic_model.visualize_barchart(top_n_topics = 16, n_words = 10)"
   ]
  },
  {
   "cell_type": "code",
   "execution_count": null,
   "metadata": {},
   "outputs": [],
   "source": [
    "#topic_model.visualize_heatmap(n_clusters=9, width=1000, height=1000)"
   ]
  },
  {
   "cell_type": "code",
   "execution_count": null,
   "metadata": {},
   "outputs": [],
   "source": [
    "topic_model.visualize_topics()"
   ]
  },
  {
   "cell_type": "code",
   "execution_count": null,
   "metadata": {},
   "outputs": [],
   "source": [
    "#topic_model.visualize_documents(docs)"
   ]
  },
  {
   "cell_type": "code",
   "execution_count": 16,
   "metadata": {},
   "outputs": [
    {
     "data": {
      "application/vnd.plotly.v1+json": {
       "config": {
        "plotlyServerURL": "https://plot.ly"
       },
       "data": [
        {
         "hoverinfo": "text",
         "marker": {
          "color": "rgb(61,153,112)"
         },
         "mode": "lines",
         "type": "scatter",
         "x": [
          0,
          0.8750543417905635,
          0.8750543417905635,
          0
         ],
         "xaxis": "x",
         "y": [
          -15,
          -15,
          -25,
          -25
         ],
         "yaxis": "y"
        },
        {
         "hoverinfo": "text",
         "marker": {
          "color": "rgb(61,153,112)"
         },
         "mode": "lines",
         "type": "scatter",
         "x": [
          0.8750543417905635,
          0.9758663859981653,
          0.9758663859981653,
          0
         ],
         "xaxis": "x",
         "y": [
          -20,
          -20,
          -35,
          -35
         ],
         "yaxis": "y"
        },
        {
         "hoverinfo": "text",
         "marker": {
          "color": "rgb(61,153,112)"
         },
         "mode": "lines",
         "type": "scatter",
         "x": [
          0,
          0.9880380809094529,
          0.9880380809094529,
          0.9758663859981653
         ],
         "xaxis": "x",
         "y": [
          -5,
          -5,
          -27.5,
          -27.5
         ],
         "yaxis": "y"
        },
        {
         "hoverinfo": "text",
         "marker": {
          "color": "rgb(255,65,54)"
         },
         "mode": "lines",
         "type": "scatter",
         "x": [
          0,
          0.8814053709456762,
          0.8814053709456762,
          0
         ],
         "xaxis": "x",
         "y": [
          -45,
          -45,
          -55,
          -55
         ],
         "yaxis": "y"
        },
        {
         "hoverinfo": "text",
         "marker": {
          "color": "rgb(35,205,205)"
         },
         "mode": "lines",
         "type": "scatter",
         "x": [
          0,
          0.83493614383971,
          0.83493614383971,
          0
         ],
         "xaxis": "x",
         "y": [
          -75,
          -75,
          -85,
          -85
         ],
         "yaxis": "y"
        },
        {
         "hoverinfo": "text",
         "marker": {
          "color": "rgb(35,205,205)"
         },
         "mode": "lines",
         "type": "scatter",
         "x": [
          0,
          0.9285350071367122,
          0.9285350071367122,
          0.83493614383971
         ],
         "xaxis": "x",
         "y": [
          -65,
          -65,
          -80,
          -80
         ],
         "yaxis": "y"
        },
        {
         "hoverinfo": "text",
         "marker": {
          "color": "rgb(35,205,205)"
         },
         "mode": "lines",
         "type": "scatter",
         "x": [
          0.9285350071367122,
          0.9543576116285498,
          0.9543576116285498,
          0
         ],
         "xaxis": "x",
         "y": [
          -72.5,
          -72.5,
          -95,
          -95
         ],
         "yaxis": "y"
        },
        {
         "hoverinfo": "text",
         "marker": {
          "color": "rgb(0,116,217)"
         },
         "mode": "lines",
         "type": "scatter",
         "x": [
          0.8814053709456762,
          1.039992669546037,
          1.039992669546037,
          0.9543576116285498
         ],
         "xaxis": "x",
         "y": [
          -50,
          -50,
          -83.75,
          -83.75
         ],
         "yaxis": "y"
        },
        {
         "hoverinfo": "text",
         "marker": {
          "color": "rgb(0,116,217)"
         },
         "mode": "lines",
         "type": "scatter",
         "x": [
          0.9880380809094529,
          1.0629602948021353,
          1.0629602948021353,
          1.039992669546037
         ],
         "xaxis": "x",
         "y": [
          -16.25,
          -16.25,
          -66.875,
          -66.875
         ],
         "yaxis": "y"
        },
        {
         "hoverinfo": "text",
         "marker": {
          "color": "rgb(133,20,75)"
         },
         "mode": "lines",
         "type": "scatter",
         "x": [
          0,
          0.705005457563467,
          0.705005457563467,
          0
         ],
         "xaxis": "x",
         "y": [
          -105,
          -105,
          -115,
          -115
         ],
         "yaxis": "y"
        },
        {
         "hoverinfo": "text",
         "marker": {
          "color": "rgb(0,116,217)"
         },
         "mode": "lines",
         "type": "scatter",
         "x": [
          1.0629602948021353,
          1.1119998710091876,
          1.1119998710091876,
          0.705005457563467
         ],
         "xaxis": "x",
         "y": [
          -41.5625,
          -41.5625,
          -110,
          -110
         ],
         "yaxis": "y"
        },
        {
         "hoverinfo": "text",
         "marker": {
          "color": "rgb(255,220,0)"
         },
         "mode": "lines",
         "type": "scatter",
         "x": [
          0,
          0.7161409404691845,
          0.7161409404691845,
          0
         ],
         "xaxis": "x",
         "y": [
          -125,
          -125,
          -135,
          -135
         ],
         "yaxis": "y"
        },
        {
         "hoverinfo": "text",
         "marker": {
          "color": "rgb(0,116,217)"
         },
         "mode": "lines",
         "type": "scatter",
         "x": [
          1.1119998710091876,
          1.1379930281808661,
          1.1379930281808661,
          0.7161409404691845
         ],
         "xaxis": "x",
         "y": [
          -75.78125,
          -75.78125,
          -130,
          -130
         ],
         "yaxis": "y"
        },
        {
         "hoverinfo": "text",
         "marker": {
          "color": "rgb(40,35,35)"
         },
         "mode": "lines",
         "type": "scatter",
         "x": [
          0,
          0.9295826251454739,
          0.9295826251454739,
          0
         ],
         "xaxis": "x",
         "y": [
          -155,
          -155,
          -165,
          -165
         ],
         "yaxis": "y"
        },
        {
         "hoverinfo": "text",
         "marker": {
          "color": "rgb(40,35,35)"
         },
         "mode": "lines",
         "type": "scatter",
         "x": [
          0,
          0.9688004299852603,
          0.9688004299852603,
          0.9295826251454739
         ],
         "xaxis": "x",
         "y": [
          -145,
          -145,
          -160,
          -160
         ],
         "yaxis": "y"
        },
        {
         "hoverinfo": "text",
         "marker": {
          "color": "rgb(61,153,112)"
         },
         "mode": "lines",
         "type": "scatter",
         "x": [
          0,
          0.861498102091877,
          0.861498102091877,
          0
         ],
         "xaxis": "x",
         "y": [
          -175,
          -175,
          -185,
          -185
         ],
         "yaxis": "y"
        },
        {
         "hoverinfo": "text",
         "marker": {
          "color": "rgb(0,116,217)"
         },
         "mode": "lines",
         "type": "scatter",
         "x": [
          0.9688004299852603,
          1.0075096865306414,
          1.0075096865306414,
          0.861498102091877
         ],
         "xaxis": "x",
         "y": [
          -152.5,
          -152.5,
          -180,
          -180
         ],
         "yaxis": "y"
        },
        {
         "hoverinfo": "text",
         "marker": {
          "color": "rgb(255,65,54)"
         },
         "mode": "lines",
         "type": "scatter",
         "x": [
          0,
          0.8776415502654653,
          0.8776415502654653,
          0
         ],
         "xaxis": "x",
         "y": [
          -195,
          -195,
          -205,
          -205
         ],
         "yaxis": "y"
        },
        {
         "hoverinfo": "text",
         "marker": {
          "color": "rgb(0,116,217)"
         },
         "mode": "lines",
         "type": "scatter",
         "x": [
          1.0075096865306414,
          1.0275641694631894,
          1.0275641694631894,
          0.8776415502654653
         ],
         "xaxis": "x",
         "y": [
          -166.25,
          -166.25,
          -200,
          -200
         ],
         "yaxis": "y"
        },
        {
         "hoverinfo": "text",
         "marker": {
          "color": "rgb(35,205,205)"
         },
         "mode": "lines",
         "type": "scatter",
         "x": [
          0,
          0.8935307863258618,
          0.8935307863258618,
          0
         ],
         "xaxis": "x",
         "y": [
          -225,
          -225,
          -235,
          -235
         ],
         "yaxis": "y"
        },
        {
         "hoverinfo": "text",
         "marker": {
          "color": "rgb(35,205,205)"
         },
         "mode": "lines",
         "type": "scatter",
         "x": [
          0,
          0.7595971913790897,
          0.7595971913790897,
          0
         ],
         "xaxis": "x",
         "y": [
          -245,
          -245,
          -255,
          -255
         ],
         "yaxis": "y"
        },
        {
         "hoverinfo": "text",
         "marker": {
          "color": "rgb(35,205,205)"
         },
         "mode": "lines",
         "type": "scatter",
         "x": [
          0.7595971913790897,
          0.8616464311473482,
          0.8616464311473482,
          0
         ],
         "xaxis": "x",
         "y": [
          -250,
          -250,
          -265,
          -265
         ],
         "yaxis": "y"
        },
        {
         "hoverinfo": "text",
         "marker": {
          "color": "rgb(35,205,205)"
         },
         "mode": "lines",
         "type": "scatter",
         "x": [
          0.8935307863258618,
          0.9459958109361982,
          0.9459958109361982,
          0.8616464311473482
         ],
         "xaxis": "x",
         "y": [
          -230,
          -230,
          -257.5,
          -257.5
         ],
         "yaxis": "y"
        },
        {
         "hoverinfo": "text",
         "marker": {
          "color": "rgb(35,205,205)"
         },
         "mode": "lines",
         "type": "scatter",
         "x": [
          0,
          0.9839553553504192,
          0.9839553553504192,
          0.9459958109361982
         ],
         "xaxis": "x",
         "y": [
          -215,
          -215,
          -243.75,
          -243.75
         ],
         "yaxis": "y"
        },
        {
         "hoverinfo": "text",
         "marker": {
          "color": "rgb(61,153,112)"
         },
         "mode": "lines",
         "type": "scatter",
         "x": [
          0,
          0.9097794044374449,
          0.9097794044374449,
          0
         ],
         "xaxis": "x",
         "y": [
          -275,
          -275,
          -285,
          -285
         ],
         "yaxis": "y"
        },
        {
         "hoverinfo": "text",
         "marker": {
          "color": "rgb(61,153,112)"
         },
         "mode": "lines",
         "type": "scatter",
         "x": [
          0.9097794044374449,
          0.9707687910436277,
          0.9707687910436277,
          0
         ],
         "xaxis": "x",
         "y": [
          -280,
          -280,
          -295,
          -295
         ],
         "yaxis": "y"
        },
        {
         "hoverinfo": "text",
         "marker": {
          "color": "rgb(0,116,217)"
         },
         "mode": "lines",
         "type": "scatter",
         "x": [
          0.9839553553504192,
          1.009745797888005,
          1.009745797888005,
          0.9707687910436277
         ],
         "xaxis": "x",
         "y": [
          -229.375,
          -229.375,
          -287.5,
          -287.5
         ],
         "yaxis": "y"
        },
        {
         "hoverinfo": "text",
         "marker": {
          "color": "rgb(0,116,217)"
         },
         "mode": "lines",
         "type": "scatter",
         "x": [
          1.0275641694631894,
          1.0682342953741966,
          1.0682342953741966,
          1.009745797888005
         ],
         "xaxis": "x",
         "y": [
          -183.125,
          -183.125,
          -258.4375,
          -258.4375
         ],
         "yaxis": "y"
        },
        {
         "hoverinfo": "text",
         "marker": {
          "color": "rgb(255,65,54)"
         },
         "mode": "lines",
         "type": "scatter",
         "x": [
          0,
          0.9241815421541976,
          0.9241815421541976,
          0
         ],
         "xaxis": "x",
         "y": [
          -305,
          -305,
          -315,
          -315
         ],
         "yaxis": "y"
        },
        {
         "hoverinfo": "text",
         "marker": {
          "color": "rgb(255,65,54)"
         },
         "mode": "lines",
         "type": "scatter",
         "x": [
          0,
          0.8146930002428783,
          0.8146930002428783,
          0
         ],
         "xaxis": "x",
         "y": [
          -325,
          -325,
          -335,
          -335
         ],
         "yaxis": "y"
        },
        {
         "hoverinfo": "text",
         "marker": {
          "color": "rgb(255,65,54)"
         },
         "mode": "lines",
         "type": "scatter",
         "x": [
          0.9241815421541976,
          0.956738290505109,
          0.956738290505109,
          0.8146930002428783
         ],
         "xaxis": "x",
         "y": [
          -310,
          -310,
          -330,
          -330
         ],
         "yaxis": "y"
        },
        {
         "hoverinfo": "text",
         "marker": {
          "color": "rgb(35,205,205)"
         },
         "mode": "lines",
         "type": "scatter",
         "x": [
          0,
          0.8648658159251013,
          0.8648658159251013,
          0
         ],
         "xaxis": "x",
         "y": [
          -345,
          -345,
          -355,
          -355
         ],
         "yaxis": "y"
        },
        {
         "hoverinfo": "text",
         "marker": {
          "color": "rgb(0,116,217)"
         },
         "mode": "lines",
         "type": "scatter",
         "x": [
          0.956738290505109,
          1.0075063414509262,
          1.0075063414509262,
          0.8648658159251013
         ],
         "xaxis": "x",
         "y": [
          -320,
          -320,
          -350,
          -350
         ],
         "yaxis": "y"
        },
        {
         "hoverinfo": "text",
         "marker": {
          "color": "rgb(133,20,75)"
         },
         "mode": "lines",
         "type": "scatter",
         "x": [
          0,
          0.9378725792569135,
          0.9378725792569135,
          0
         ],
         "xaxis": "x",
         "y": [
          -365,
          -365,
          -375,
          -375
         ],
         "yaxis": "y"
        },
        {
         "hoverinfo": "text",
         "marker": {
          "color": "rgb(133,20,75)"
         },
         "mode": "lines",
         "type": "scatter",
         "x": [
          0,
          0.8522242952666085,
          0.8522242952666085,
          0
         ],
         "xaxis": "x",
         "y": [
          -385,
          -385,
          -395,
          -395
         ],
         "yaxis": "y"
        },
        {
         "hoverinfo": "text",
         "marker": {
          "color": "rgb(133,20,75)"
         },
         "mode": "lines",
         "type": "scatter",
         "x": [
          0.9378725792569135,
          0.9761643234591616,
          0.9761643234591616,
          0.8522242952666085
         ],
         "xaxis": "x",
         "y": [
          -370,
          -370,
          -390,
          -390
         ],
         "yaxis": "y"
        },
        {
         "hoverinfo": "text",
         "marker": {
          "color": "rgb(255,220,0)"
         },
         "mode": "lines",
         "type": "scatter",
         "x": [
          0,
          0.9324981641616673,
          0.9324981641616673,
          0
         ],
         "xaxis": "x",
         "y": [
          -405,
          -405,
          -415,
          -415
         ],
         "yaxis": "y"
        },
        {
         "hoverinfo": "text",
         "marker": {
          "color": "rgb(255,220,0)"
         },
         "mode": "lines",
         "type": "scatter",
         "x": [
          0,
          0.9032172752450104,
          0.9032172752450104,
          0
         ],
         "xaxis": "x",
         "y": [
          -425,
          -425,
          -435,
          -435
         ],
         "yaxis": "y"
        },
        {
         "hoverinfo": "text",
         "marker": {
          "color": "rgb(255,220,0)"
         },
         "mode": "lines",
         "type": "scatter",
         "x": [
          0.9324981641616673,
          0.9879990531756138,
          0.9879990531756138,
          0.9032172752450104
         ],
         "xaxis": "x",
         "y": [
          -410,
          -410,
          -430,
          -430
         ],
         "yaxis": "y"
        },
        {
         "hoverinfo": "text",
         "marker": {
          "color": "rgb(40,35,35)"
         },
         "mode": "lines",
         "type": "scatter",
         "x": [
          0,
          0.917107246400747,
          0.917107246400747,
          0
         ],
         "xaxis": "x",
         "y": [
          -445,
          -445,
          -455,
          -455
         ],
         "yaxis": "y"
        },
        {
         "hoverinfo": "text",
         "marker": {
          "color": "rgb(0,116,217)"
         },
         "mode": "lines",
         "type": "scatter",
         "x": [
          0.9879990531756138,
          1.0403198163268095,
          1.0403198163268095,
          0.917107246400747
         ],
         "xaxis": "x",
         "y": [
          -420,
          -420,
          -450,
          -450
         ],
         "yaxis": "y"
        },
        {
         "hoverinfo": "text",
         "marker": {
          "color": "rgb(0,116,217)"
         },
         "mode": "lines",
         "type": "scatter",
         "x": [
          0.9761643234591616,
          1.079948470968338,
          1.079948470968338,
          1.0403198163268095
         ],
         "xaxis": "x",
         "y": [
          -380,
          -380,
          -435,
          -435
         ],
         "yaxis": "y"
        },
        {
         "hoverinfo": "text",
         "marker": {
          "color": "rgb(0,116,217)"
         },
         "mode": "lines",
         "type": "scatter",
         "x": [
          1.0075063414509262,
          1.120129332535691,
          1.120129332535691,
          1.079948470968338
         ],
         "xaxis": "x",
         "y": [
          -335,
          -335,
          -407.5,
          -407.5
         ],
         "yaxis": "y"
        },
        {
         "hoverinfo": "text",
         "marker": {
          "color": "rgb(0,116,217)"
         },
         "mode": "lines",
         "type": "scatter",
         "x": [
          1.0682342953741966,
          1.1307890872940516,
          1.1307890872940516,
          1.120129332535691
         ],
         "xaxis": "x",
         "y": [
          -220.78125,
          -220.78125,
          -371.25,
          -371.25
         ],
         "yaxis": "y"
        },
        {
         "hoverinfo": "text",
         "marker": {
          "color": "rgb(61,153,112)"
         },
         "mode": "lines",
         "type": "scatter",
         "x": [
          0,
          0.8219787341203829,
          0.8219787341203829,
          0
         ],
         "xaxis": "x",
         "y": [
          -475,
          -475,
          -485,
          -485
         ],
         "yaxis": "y"
        },
        {
         "hoverinfo": "text",
         "marker": {
          "color": "rgb(61,153,112)"
         },
         "mode": "lines",
         "type": "scatter",
         "x": [
          0,
          0.888196473048614,
          0.888196473048614,
          0.8219787341203829
         ],
         "xaxis": "x",
         "y": [
          -465,
          -465,
          -480,
          -480
         ],
         "yaxis": "y"
        },
        {
         "hoverinfo": "text",
         "marker": {
          "color": "rgb(255,65,54)"
         },
         "mode": "lines",
         "type": "scatter",
         "x": [
          0,
          0.9166037611469166,
          0.9166037611469166,
          0
         ],
         "xaxis": "x",
         "y": [
          -495,
          -495,
          -505,
          -505
         ],
         "yaxis": "y"
        },
        {
         "hoverinfo": "text",
         "marker": {
          "color": "rgb(35,205,205)"
         },
         "mode": "lines",
         "type": "scatter",
         "x": [
          0,
          0.9326296217488372,
          0.9326296217488372,
          0
         ],
         "xaxis": "x",
         "y": [
          -515,
          -515,
          -525,
          -525
         ],
         "yaxis": "y"
        },
        {
         "hoverinfo": "text",
         "marker": {
          "color": "rgb(35,205,205)"
         },
         "mode": "lines",
         "type": "scatter",
         "x": [
          0,
          0.9119112709770169,
          0.9119112709770169,
          0
         ],
         "xaxis": "x",
         "y": [
          -535,
          -535,
          -545,
          -545
         ],
         "yaxis": "y"
        },
        {
         "hoverinfo": "text",
         "marker": {
          "color": "rgb(35,205,205)"
         },
         "mode": "lines",
         "type": "scatter",
         "x": [
          0.9326296217488372,
          0.9917354387555969,
          0.9917354387555969,
          0.9119112709770169
         ],
         "xaxis": "x",
         "y": [
          -520,
          -520,
          -540,
          -540
         ],
         "yaxis": "y"
        },
        {
         "hoverinfo": "text",
         "marker": {
          "color": "rgb(0,116,217)"
         },
         "mode": "lines",
         "type": "scatter",
         "x": [
          0.9166037611469166,
          1.0334981797008012,
          1.0334981797008012,
          0.9917354387555969
         ],
         "xaxis": "x",
         "y": [
          -500,
          -500,
          -530,
          -530
         ],
         "yaxis": "y"
        },
        {
         "hoverinfo": "text",
         "marker": {
          "color": "rgb(61,153,112)"
         },
         "mode": "lines",
         "type": "scatter",
         "x": [
          0,
          0.8816174471878246,
          0.8816174471878246,
          0
         ],
         "xaxis": "x",
         "y": [
          -555,
          -555,
          -565,
          -565
         ],
         "yaxis": "y"
        },
        {
         "hoverinfo": "text",
         "marker": {
          "color": "rgb(61,153,112)"
         },
         "mode": "lines",
         "type": "scatter",
         "x": [
          0.8816174471878246,
          0.9874344333918565,
          0.9874344333918565,
          0
         ],
         "xaxis": "x",
         "y": [
          -560,
          -560,
          -575,
          -575
         ],
         "yaxis": "y"
        },
        {
         "hoverinfo": "text",
         "marker": {
          "color": "rgb(0,116,217)"
         },
         "mode": "lines",
         "type": "scatter",
         "x": [
          1.0334981797008012,
          1.0858355292236916,
          1.0858355292236916,
          0.9874344333918565
         ],
         "xaxis": "x",
         "y": [
          -515,
          -515,
          -567.5,
          -567.5
         ],
         "yaxis": "y"
        },
        {
         "hoverinfo": "text",
         "marker": {
          "color": "rgb(0,116,217)"
         },
         "mode": "lines",
         "type": "scatter",
         "x": [
          0.888196473048614,
          1.1450944043254083,
          1.1450944043254083,
          1.0858355292236916
         ],
         "xaxis": "x",
         "y": [
          -472.5,
          -472.5,
          -541.25,
          -541.25
         ],
         "yaxis": "y"
        },
        {
         "hoverinfo": "text",
         "marker": {
          "color": "rgb(0,116,217)"
         },
         "mode": "lines",
         "type": "scatter",
         "x": [
          1.1307890872940516,
          1.2044601558554613,
          1.2044601558554613,
          1.1450944043254083
         ],
         "xaxis": "x",
         "y": [
          -296.015625,
          -296.015625,
          -506.875,
          -506.875
         ],
         "yaxis": "y"
        },
        {
         "hoverinfo": "text",
         "marker": {
          "color": "rgb(0,116,217)"
         },
         "mode": "lines",
         "type": "scatter",
         "x": [
          1.1379930281808661,
          1.2286038294723642,
          1.2286038294723642,
          1.2044601558554613
         ],
         "xaxis": "x",
         "y": [
          -102.890625,
          -102.890625,
          -401.4453125,
          -401.4453125
         ],
         "yaxis": "y"
        }
       ],
       "layout": {
        "autosize": false,
        "height": 1070,
        "hoverlabel": {
         "bgcolor": "white",
         "font": {
          "family": "Rockwell",
          "size": 16
         }
        },
        "hovermode": "closest",
        "plot_bgcolor": "#ECEFF1",
        "showlegend": false,
        "template": {
         "data": {
          "bar": [
           {
            "error_x": {
             "color": "#2a3f5f"
            },
            "error_y": {
             "color": "#2a3f5f"
            },
            "marker": {
             "line": {
              "color": "white",
              "width": 0.5
             },
             "pattern": {
              "fillmode": "overlay",
              "size": 10,
              "solidity": 0.2
             }
            },
            "type": "bar"
           }
          ],
          "barpolar": [
           {
            "marker": {
             "line": {
              "color": "white",
              "width": 0.5
             },
             "pattern": {
              "fillmode": "overlay",
              "size": 10,
              "solidity": 0.2
             }
            },
            "type": "barpolar"
           }
          ],
          "carpet": [
           {
            "aaxis": {
             "endlinecolor": "#2a3f5f",
             "gridcolor": "#C8D4E3",
             "linecolor": "#C8D4E3",
             "minorgridcolor": "#C8D4E3",
             "startlinecolor": "#2a3f5f"
            },
            "baxis": {
             "endlinecolor": "#2a3f5f",
             "gridcolor": "#C8D4E3",
             "linecolor": "#C8D4E3",
             "minorgridcolor": "#C8D4E3",
             "startlinecolor": "#2a3f5f"
            },
            "type": "carpet"
           }
          ],
          "choropleth": [
           {
            "colorbar": {
             "outlinewidth": 0,
             "ticks": ""
            },
            "type": "choropleth"
           }
          ],
          "contour": [
           {
            "colorbar": {
             "outlinewidth": 0,
             "ticks": ""
            },
            "colorscale": [
             [
              0,
              "#0d0887"
             ],
             [
              0.1111111111111111,
              "#46039f"
             ],
             [
              0.2222222222222222,
              "#7201a8"
             ],
             [
              0.3333333333333333,
              "#9c179e"
             ],
             [
              0.4444444444444444,
              "#bd3786"
             ],
             [
              0.5555555555555556,
              "#d8576b"
             ],
             [
              0.6666666666666666,
              "#ed7953"
             ],
             [
              0.7777777777777778,
              "#fb9f3a"
             ],
             [
              0.8888888888888888,
              "#fdca26"
             ],
             [
              1,
              "#f0f921"
             ]
            ],
            "type": "contour"
           }
          ],
          "contourcarpet": [
           {
            "colorbar": {
             "outlinewidth": 0,
             "ticks": ""
            },
            "type": "contourcarpet"
           }
          ],
          "heatmap": [
           {
            "colorbar": {
             "outlinewidth": 0,
             "ticks": ""
            },
            "colorscale": [
             [
              0,
              "#0d0887"
             ],
             [
              0.1111111111111111,
              "#46039f"
             ],
             [
              0.2222222222222222,
              "#7201a8"
             ],
             [
              0.3333333333333333,
              "#9c179e"
             ],
             [
              0.4444444444444444,
              "#bd3786"
             ],
             [
              0.5555555555555556,
              "#d8576b"
             ],
             [
              0.6666666666666666,
              "#ed7953"
             ],
             [
              0.7777777777777778,
              "#fb9f3a"
             ],
             [
              0.8888888888888888,
              "#fdca26"
             ],
             [
              1,
              "#f0f921"
             ]
            ],
            "type": "heatmap"
           }
          ],
          "heatmapgl": [
           {
            "colorbar": {
             "outlinewidth": 0,
             "ticks": ""
            },
            "colorscale": [
             [
              0,
              "#0d0887"
             ],
             [
              0.1111111111111111,
              "#46039f"
             ],
             [
              0.2222222222222222,
              "#7201a8"
             ],
             [
              0.3333333333333333,
              "#9c179e"
             ],
             [
              0.4444444444444444,
              "#bd3786"
             ],
             [
              0.5555555555555556,
              "#d8576b"
             ],
             [
              0.6666666666666666,
              "#ed7953"
             ],
             [
              0.7777777777777778,
              "#fb9f3a"
             ],
             [
              0.8888888888888888,
              "#fdca26"
             ],
             [
              1,
              "#f0f921"
             ]
            ],
            "type": "heatmapgl"
           }
          ],
          "histogram": [
           {
            "marker": {
             "pattern": {
              "fillmode": "overlay",
              "size": 10,
              "solidity": 0.2
             }
            },
            "type": "histogram"
           }
          ],
          "histogram2d": [
           {
            "colorbar": {
             "outlinewidth": 0,
             "ticks": ""
            },
            "colorscale": [
             [
              0,
              "#0d0887"
             ],
             [
              0.1111111111111111,
              "#46039f"
             ],
             [
              0.2222222222222222,
              "#7201a8"
             ],
             [
              0.3333333333333333,
              "#9c179e"
             ],
             [
              0.4444444444444444,
              "#bd3786"
             ],
             [
              0.5555555555555556,
              "#d8576b"
             ],
             [
              0.6666666666666666,
              "#ed7953"
             ],
             [
              0.7777777777777778,
              "#fb9f3a"
             ],
             [
              0.8888888888888888,
              "#fdca26"
             ],
             [
              1,
              "#f0f921"
             ]
            ],
            "type": "histogram2d"
           }
          ],
          "histogram2dcontour": [
           {
            "colorbar": {
             "outlinewidth": 0,
             "ticks": ""
            },
            "colorscale": [
             [
              0,
              "#0d0887"
             ],
             [
              0.1111111111111111,
              "#46039f"
             ],
             [
              0.2222222222222222,
              "#7201a8"
             ],
             [
              0.3333333333333333,
              "#9c179e"
             ],
             [
              0.4444444444444444,
              "#bd3786"
             ],
             [
              0.5555555555555556,
              "#d8576b"
             ],
             [
              0.6666666666666666,
              "#ed7953"
             ],
             [
              0.7777777777777778,
              "#fb9f3a"
             ],
             [
              0.8888888888888888,
              "#fdca26"
             ],
             [
              1,
              "#f0f921"
             ]
            ],
            "type": "histogram2dcontour"
           }
          ],
          "mesh3d": [
           {
            "colorbar": {
             "outlinewidth": 0,
             "ticks": ""
            },
            "type": "mesh3d"
           }
          ],
          "parcoords": [
           {
            "line": {
             "colorbar": {
              "outlinewidth": 0,
              "ticks": ""
             }
            },
            "type": "parcoords"
           }
          ],
          "pie": [
           {
            "automargin": true,
            "type": "pie"
           }
          ],
          "scatter": [
           {
            "fillpattern": {
             "fillmode": "overlay",
             "size": 10,
             "solidity": 0.2
            },
            "type": "scatter"
           }
          ],
          "scatter3d": [
           {
            "line": {
             "colorbar": {
              "outlinewidth": 0,
              "ticks": ""
             }
            },
            "marker": {
             "colorbar": {
              "outlinewidth": 0,
              "ticks": ""
             }
            },
            "type": "scatter3d"
           }
          ],
          "scattercarpet": [
           {
            "marker": {
             "colorbar": {
              "outlinewidth": 0,
              "ticks": ""
             }
            },
            "type": "scattercarpet"
           }
          ],
          "scattergeo": [
           {
            "marker": {
             "colorbar": {
              "outlinewidth": 0,
              "ticks": ""
             }
            },
            "type": "scattergeo"
           }
          ],
          "scattergl": [
           {
            "marker": {
             "colorbar": {
              "outlinewidth": 0,
              "ticks": ""
             }
            },
            "type": "scattergl"
           }
          ],
          "scattermapbox": [
           {
            "marker": {
             "colorbar": {
              "outlinewidth": 0,
              "ticks": ""
             }
            },
            "type": "scattermapbox"
           }
          ],
          "scatterpolar": [
           {
            "marker": {
             "colorbar": {
              "outlinewidth": 0,
              "ticks": ""
             }
            },
            "type": "scatterpolar"
           }
          ],
          "scatterpolargl": [
           {
            "marker": {
             "colorbar": {
              "outlinewidth": 0,
              "ticks": ""
             }
            },
            "type": "scatterpolargl"
           }
          ],
          "scatterternary": [
           {
            "marker": {
             "colorbar": {
              "outlinewidth": 0,
              "ticks": ""
             }
            },
            "type": "scatterternary"
           }
          ],
          "surface": [
           {
            "colorbar": {
             "outlinewidth": 0,
             "ticks": ""
            },
            "colorscale": [
             [
              0,
              "#0d0887"
             ],
             [
              0.1111111111111111,
              "#46039f"
             ],
             [
              0.2222222222222222,
              "#7201a8"
             ],
             [
              0.3333333333333333,
              "#9c179e"
             ],
             [
              0.4444444444444444,
              "#bd3786"
             ],
             [
              0.5555555555555556,
              "#d8576b"
             ],
             [
              0.6666666666666666,
              "#ed7953"
             ],
             [
              0.7777777777777778,
              "#fb9f3a"
             ],
             [
              0.8888888888888888,
              "#fdca26"
             ],
             [
              1,
              "#f0f921"
             ]
            ],
            "type": "surface"
           }
          ],
          "table": [
           {
            "cells": {
             "fill": {
              "color": "#EBF0F8"
             },
             "line": {
              "color": "white"
             }
            },
            "header": {
             "fill": {
              "color": "#C8D4E3"
             },
             "line": {
              "color": "white"
             }
            },
            "type": "table"
           }
          ]
         },
         "layout": {
          "annotationdefaults": {
           "arrowcolor": "#2a3f5f",
           "arrowhead": 0,
           "arrowwidth": 1
          },
          "autotypenumbers": "strict",
          "coloraxis": {
           "colorbar": {
            "outlinewidth": 0,
            "ticks": ""
           }
          },
          "colorscale": {
           "diverging": [
            [
             0,
             "#8e0152"
            ],
            [
             0.1,
             "#c51b7d"
            ],
            [
             0.2,
             "#de77ae"
            ],
            [
             0.3,
             "#f1b6da"
            ],
            [
             0.4,
             "#fde0ef"
            ],
            [
             0.5,
             "#f7f7f7"
            ],
            [
             0.6,
             "#e6f5d0"
            ],
            [
             0.7,
             "#b8e186"
            ],
            [
             0.8,
             "#7fbc41"
            ],
            [
             0.9,
             "#4d9221"
            ],
            [
             1,
             "#276419"
            ]
           ],
           "sequential": [
            [
             0,
             "#0d0887"
            ],
            [
             0.1111111111111111,
             "#46039f"
            ],
            [
             0.2222222222222222,
             "#7201a8"
            ],
            [
             0.3333333333333333,
             "#9c179e"
            ],
            [
             0.4444444444444444,
             "#bd3786"
            ],
            [
             0.5555555555555556,
             "#d8576b"
            ],
            [
             0.6666666666666666,
             "#ed7953"
            ],
            [
             0.7777777777777778,
             "#fb9f3a"
            ],
            [
             0.8888888888888888,
             "#fdca26"
            ],
            [
             1,
             "#f0f921"
            ]
           ],
           "sequentialminus": [
            [
             0,
             "#0d0887"
            ],
            [
             0.1111111111111111,
             "#46039f"
            ],
            [
             0.2222222222222222,
             "#7201a8"
            ],
            [
             0.3333333333333333,
             "#9c179e"
            ],
            [
             0.4444444444444444,
             "#bd3786"
            ],
            [
             0.5555555555555556,
             "#d8576b"
            ],
            [
             0.6666666666666666,
             "#ed7953"
            ],
            [
             0.7777777777777778,
             "#fb9f3a"
            ],
            [
             0.8888888888888888,
             "#fdca26"
            ],
            [
             1,
             "#f0f921"
            ]
           ]
          },
          "colorway": [
           "#636efa",
           "#EF553B",
           "#00cc96",
           "#ab63fa",
           "#FFA15A",
           "#19d3f3",
           "#FF6692",
           "#B6E880",
           "#FF97FF",
           "#FECB52"
          ],
          "font": {
           "color": "#2a3f5f"
          },
          "geo": {
           "bgcolor": "white",
           "lakecolor": "white",
           "landcolor": "white",
           "showlakes": true,
           "showland": true,
           "subunitcolor": "#C8D4E3"
          },
          "hoverlabel": {
           "align": "left"
          },
          "hovermode": "closest",
          "mapbox": {
           "style": "light"
          },
          "paper_bgcolor": "white",
          "plot_bgcolor": "white",
          "polar": {
           "angularaxis": {
            "gridcolor": "#EBF0F8",
            "linecolor": "#EBF0F8",
            "ticks": ""
           },
           "bgcolor": "white",
           "radialaxis": {
            "gridcolor": "#EBF0F8",
            "linecolor": "#EBF0F8",
            "ticks": ""
           }
          },
          "scene": {
           "xaxis": {
            "backgroundcolor": "white",
            "gridcolor": "#DFE8F3",
            "gridwidth": 2,
            "linecolor": "#EBF0F8",
            "showbackground": true,
            "ticks": "",
            "zerolinecolor": "#EBF0F8"
           },
           "yaxis": {
            "backgroundcolor": "white",
            "gridcolor": "#DFE8F3",
            "gridwidth": 2,
            "linecolor": "#EBF0F8",
            "showbackground": true,
            "ticks": "",
            "zerolinecolor": "#EBF0F8"
           },
           "zaxis": {
            "backgroundcolor": "white",
            "gridcolor": "#DFE8F3",
            "gridwidth": 2,
            "linecolor": "#EBF0F8",
            "showbackground": true,
            "ticks": "",
            "zerolinecolor": "#EBF0F8"
           }
          },
          "shapedefaults": {
           "line": {
            "color": "#2a3f5f"
           }
          },
          "ternary": {
           "aaxis": {
            "gridcolor": "#DFE8F3",
            "linecolor": "#A2B1C6",
            "ticks": ""
           },
           "baxis": {
            "gridcolor": "#DFE8F3",
            "linecolor": "#A2B1C6",
            "ticks": ""
           },
           "bgcolor": "white",
           "caxis": {
            "gridcolor": "#DFE8F3",
            "linecolor": "#A2B1C6",
            "ticks": ""
           }
          },
          "title": {
           "x": 0.05
          },
          "xaxis": {
           "automargin": true,
           "gridcolor": "#EBF0F8",
           "linecolor": "#EBF0F8",
           "ticks": "",
           "title": {
            "standoff": 15
           },
           "zerolinecolor": "#EBF0F8",
           "zerolinewidth": 2
          },
          "yaxis": {
           "automargin": true,
           "gridcolor": "#EBF0F8",
           "linecolor": "#EBF0F8",
           "ticks": "",
           "title": {
            "standoff": 15
           },
           "zerolinecolor": "#EBF0F8",
           "zerolinewidth": 2
          }
         }
        },
        "title": {
         "font": {
          "color": "Black",
          "size": 22
         },
         "text": "<b>Hierarchical Clustering</b>",
         "x": 0.5,
         "xanchor": "center",
         "yanchor": "top"
        },
        "width": 1000,
        "xaxis": {
         "mirror": "allticks",
         "rangemode": "tozero",
         "showgrid": false,
         "showline": true,
         "showticklabels": true,
         "ticks": "outside",
         "type": "linear",
         "zeroline": false
        },
        "yaxis": {
         "mirror": "allticks",
         "range": [
          -580,
          0
         ],
         "rangemode": "tozero",
         "showgrid": false,
         "showline": true,
         "showticklabels": true,
         "tickmode": "array",
         "ticks": "outside",
         "ticktext": [
          "51_lighter_heavier_heavy",
          "20_saw_seen_view",
          "26_color_blue_yellow",
          "53_sure_im_course",
          "38_little_tiny_smaller",
          "30_different_differently_di...",
          "27_breathing_breathe_breath",
          "25_delay_delayed_lag",
          "7_touch_touched_touching",
          "50_sometimes_always_frequen...",
          "10_second_third_first",
          "52_difference_compare_faster",
          "45_noticed_notice_changed",
          "32_didnt_doesnt_happened",
          "44_identify_identified_iden...",
          "21_say_told_said",
          "35_guess_reaction_clue",
          "9_experience_experienced_ex...",
          "29_frightening_fear_scared",
          "22_would_wouldnt_maybe",
          "15_question_answer_understand",
          "41_avatar_blinking_eye",
          "31_easier_easy_difficult",
          "5_eye_closedcircuit_closing",
          "3_distracted_focus_focused",
          "0_thinking_mind_feeling",
          "2_meditation_meditate_medit...",
          "19_moment_imagine_mean",
          "39_lot_much_total",
          "28_thing_something_stuff",
          "34_end_ending_longer",
          "24_come_back_comeback",
          "1_body_seeing_consciousness",
          "14_three_threebody_third",
          "54_kind_type_helpful",
          "8_reality_vr_illusion",
          "17_forest_tree_nature",
          "43_part_whole_briefly",
          "37_interesting_fascinating_...",
          "4_outside_surrounding_inside",
          "48_peaceful_peace_sadhguru",
          "57_surroundings_attention_m...",
          "6_sound_audio_hearing",
          "12_relaxing_relaxed_relax",
          "42_sleep_asleep_sleepiness",
          "40_calm_calmer_clear",
          "23_nice_great_good",
          "46_im_youre_na",
          "18_oh_ah_",
          "36_fine_ok_good",
          "13_move_movement_moving",
          "16_mean_tendency_understand",
          "47_pixelized_pixel_pixelated",
          "11_strange_weird_weirdness",
          "33_image_picture_camera",
          "49_cool_nice_",
          "55_beginning_start_started",
          "56_exactly_true_yet"
         ],
         "tickvals": [
          -5,
          -15,
          -25,
          -35,
          -45,
          -55,
          -65,
          -75,
          -85,
          -95,
          -105,
          -115,
          -125,
          -135,
          -145,
          -155,
          -165,
          -175,
          -185,
          -195,
          -205,
          -215,
          -225,
          -235,
          -245,
          -255,
          -265,
          -275,
          -285,
          -295,
          -305,
          -315,
          -325,
          -335,
          -345,
          -355,
          -365,
          -375,
          -385,
          -395,
          -405,
          -415,
          -425,
          -435,
          -445,
          -455,
          -465,
          -475,
          -485,
          -495,
          -505,
          -515,
          -525,
          -535,
          -545,
          -555,
          -565,
          -575
         ],
         "type": "linear",
         "zeroline": false
        }
       }
      }
     },
     "metadata": {},
     "output_type": "display_data"
    }
   ],
   "source": [
    "topic_model.visualize_hierarchy()\n"
   ]
  },
  {
   "cell_type": "code",
   "execution_count": 10,
   "metadata": {},
   "outputs": [],
   "source": [
    "df['basic_topic'] = topics"
   ]
  },
  {
   "cell_type": "markdown",
   "metadata": {},
   "source": [
    "# Topic Distribution (More than one topic per docs) \n",
    "To reduce the numbers of outliers"
   ]
  },
  {
   "cell_type": "code",
   "execution_count": 11,
   "metadata": {},
   "outputs": [],
   "source": [
    "def get_topic_stats(topic_model, extra_cols = []):\n",
    "    topics_info_df = topic_model.get_topic_info().sort_values('Count', ascending = False)\n",
    "    topics_info_df['Share'] = 100.*topics_info_df['Count']/topics_info_df['Count'].sum()\n",
    "    topics_info_df['CumulativeShare'] = 100.*topics_info_df['Count'].cumsum()/topics_info_df['Count'].sum()\n",
    "    return topics_info_df[['Topic', 'Count', 'Share', 'CumulativeShare', \n",
    "                           'Name', 'Representation'] + extra_cols]"
   ]
  },
  {
   "cell_type": "code",
   "execution_count": 12,
   "metadata": {},
   "outputs": [
    {
     "data": {
      "text/html": [
       "<div>\n",
       "<style scoped>\n",
       "    .dataframe tbody tr th:only-of-type {\n",
       "        vertical-align: middle;\n",
       "    }\n",
       "\n",
       "    .dataframe tbody tr th {\n",
       "        vertical-align: top;\n",
       "    }\n",
       "\n",
       "    .dataframe thead th {\n",
       "        text-align: right;\n",
       "    }\n",
       "</style>\n",
       "<table border=\"1\" class=\"dataframe\">\n",
       "  <thead>\n",
       "    <tr style=\"text-align: right;\">\n",
       "      <th></th>\n",
       "      <th>topic1</th>\n",
       "      <th>topic2</th>\n",
       "      <th>distance</th>\n",
       "    </tr>\n",
       "  </thead>\n",
       "  <tbody>\n",
       "    <tr>\n",
       "      <th>79</th>\n",
       "      <td>0_thinking_mind_feeling_thought</td>\n",
       "      <td>19_moment_imagine_mean_dreaming</td>\n",
       "      <td>0.717763</td>\n",
       "    </tr>\n",
       "    <tr>\n",
       "      <th>1453</th>\n",
       "      <td>23_nice_great_good_cute</td>\n",
       "      <td>36_fine_ok_good_able</td>\n",
       "      <td>0.692685</td>\n",
       "    </tr>\n",
       "    <tr>\n",
       "      <th>95</th>\n",
       "      <td>0_thinking_mind_feeling_thought</td>\n",
       "      <td>35_guess_reaction_clue_case</td>\n",
       "      <td>0.687575</td>\n",
       "    </tr>\n",
       "    <tr>\n",
       "      <th>966</th>\n",
       "      <td>15_question_answer_understand_understood</td>\n",
       "      <td>21_say_told_said_tell</td>\n",
       "      <td>0.676203</td>\n",
       "    </tr>\n",
       "    <tr>\n",
       "      <th>117</th>\n",
       "      <td>0_thinking_mind_feeling_thought</td>\n",
       "      <td>57_surroundings_attention_mind_observe</td>\n",
       "      <td>0.670970</td>\n",
       "    </tr>\n",
       "    <tr>\n",
       "      <th>1466</th>\n",
       "      <td>23_nice_great_good_cute</td>\n",
       "      <td>49_cool_nice__</td>\n",
       "      <td>0.662225</td>\n",
       "    </tr>\n",
       "    <tr>\n",
       "      <th>61</th>\n",
       "      <td>0_thinking_mind_feeling_thought</td>\n",
       "      <td>1_body_seeing_consciousness_soul</td>\n",
       "      <td>0.660022</td>\n",
       "    </tr>\n",
       "    <tr>\n",
       "      <th>68</th>\n",
       "      <td>0_thinking_mind_feeling_thought</td>\n",
       "      <td>8_reality_vr_illusion_virtual</td>\n",
       "      <td>0.659438</td>\n",
       "    </tr>\n",
       "    <tr>\n",
       "      <th>2230</th>\n",
       "      <td>36_fine_ok_good_able</td>\n",
       "      <td>46_im_youre_na_gon</td>\n",
       "      <td>0.655459</td>\n",
       "    </tr>\n",
       "    <tr>\n",
       "      <th>702</th>\n",
       "      <td>10_second_third_first_previous</td>\n",
       "      <td>52_difference_compare_faster_first</td>\n",
       "      <td>0.654287</td>\n",
       "    </tr>\n",
       "    <tr>\n",
       "      <th>1145</th>\n",
       "      <td>18_oh_ah__</td>\n",
       "      <td>23_nice_great_good_cute</td>\n",
       "      <td>0.653177</td>\n",
       "    </tr>\n",
       "    <tr>\n",
       "      <th>887</th>\n",
       "      <td>14_three_threebody_third_two</td>\n",
       "      <td>1_body_seeing_consciousness_soul</td>\n",
       "      <td>0.651927</td>\n",
       "    </tr>\n",
       "    <tr>\n",
       "      <th>1463</th>\n",
       "      <td>23_nice_great_good_cute</td>\n",
       "      <td>46_im_youre_na_gon</td>\n",
       "      <td>0.646891</td>\n",
       "    </tr>\n",
       "    <tr>\n",
       "      <th>1411</th>\n",
       "      <td>22_would_wouldnt_maybe_might</td>\n",
       "      <td>53_sure_im_course_probable</td>\n",
       "      <td>0.646021</td>\n",
       "    </tr>\n",
       "    <tr>\n",
       "      <th>89</th>\n",
       "      <td>0_thinking_mind_feeling_thought</td>\n",
       "      <td>29_frightening_fear_scared_anxiety</td>\n",
       "      <td>0.638029</td>\n",
       "    </tr>\n",
       "    <tr>\n",
       "      <th>1751</th>\n",
       "      <td>28_thing_something_stuff_anything</td>\n",
       "      <td>39_lot_much_total_thing</td>\n",
       "      <td>0.637048</td>\n",
       "    </tr>\n",
       "    <tr>\n",
       "      <th>69</th>\n",
       "      <td>0_thinking_mind_feeling_thought</td>\n",
       "      <td>9_experience_experienced_experientially_learned</td>\n",
       "      <td>0.635877</td>\n",
       "    </tr>\n",
       "    <tr>\n",
       "      <th>810</th>\n",
       "      <td>12_relaxing_relaxed_relax_calming</td>\n",
       "      <td>42_sleep_asleep_sleepiness_sleepy</td>\n",
       "      <td>0.632533</td>\n",
       "    </tr>\n",
       "    <tr>\n",
       "      <th>976</th>\n",
       "      <td>15_question_answer_understand_understood</td>\n",
       "      <td>31_easier_easy_difficult_hard</td>\n",
       "      <td>0.631910</td>\n",
       "    </tr>\n",
       "    <tr>\n",
       "      <th>242</th>\n",
       "      <td>3_distracted_focus_focused_focusing</td>\n",
       "      <td>5_eye_closedcircuit_closing_staring</td>\n",
       "      <td>0.630281</td>\n",
       "    </tr>\n",
       "  </tbody>\n",
       "</table>\n",
       "</div>"
      ],
      "text/plain": [
       "                                        topic1  \\\n",
       "79             0_thinking_mind_feeling_thought   \n",
       "1453                   23_nice_great_good_cute   \n",
       "95             0_thinking_mind_feeling_thought   \n",
       "966   15_question_answer_understand_understood   \n",
       "117            0_thinking_mind_feeling_thought   \n",
       "1466                   23_nice_great_good_cute   \n",
       "61             0_thinking_mind_feeling_thought   \n",
       "68             0_thinking_mind_feeling_thought   \n",
       "2230                      36_fine_ok_good_able   \n",
       "702             10_second_third_first_previous   \n",
       "1145                                18_oh_ah__   \n",
       "887               14_three_threebody_third_two   \n",
       "1463                   23_nice_great_good_cute   \n",
       "1411              22_would_wouldnt_maybe_might   \n",
       "89             0_thinking_mind_feeling_thought   \n",
       "1751         28_thing_something_stuff_anything   \n",
       "69             0_thinking_mind_feeling_thought   \n",
       "810          12_relaxing_relaxed_relax_calming   \n",
       "976   15_question_answer_understand_understood   \n",
       "242        3_distracted_focus_focused_focusing   \n",
       "\n",
       "                                               topic2  distance  \n",
       "79                    19_moment_imagine_mean_dreaming  0.717763  \n",
       "1453                             36_fine_ok_good_able  0.692685  \n",
       "95                        35_guess_reaction_clue_case  0.687575  \n",
       "966                             21_say_told_said_tell  0.676203  \n",
       "117            57_surroundings_attention_mind_observe  0.670970  \n",
       "1466                                   49_cool_nice__  0.662225  \n",
       "61                   1_body_seeing_consciousness_soul  0.660022  \n",
       "68                      8_reality_vr_illusion_virtual  0.659438  \n",
       "2230                               46_im_youre_na_gon  0.655459  \n",
       "702                52_difference_compare_faster_first  0.654287  \n",
       "1145                          23_nice_great_good_cute  0.653177  \n",
       "887                  1_body_seeing_consciousness_soul  0.651927  \n",
       "1463                               46_im_youre_na_gon  0.646891  \n",
       "1411                       53_sure_im_course_probable  0.646021  \n",
       "89                 29_frightening_fear_scared_anxiety  0.638029  \n",
       "1751                          39_lot_much_total_thing  0.637048  \n",
       "69    9_experience_experienced_experientially_learned  0.635877  \n",
       "810                 42_sleep_asleep_sleepiness_sleepy  0.632533  \n",
       "976                     31_easier_easy_difficult_hard  0.631910  \n",
       "242               5_eye_closedcircuit_closing_staring  0.630281  "
      ]
     },
     "execution_count": 12,
     "metadata": {},
     "output_type": "execute_result"
    }
   ],
   "source": [
    "from sklearn.metrics.pairwise import cosine_similarity\n",
    "import numpy as np \n",
    "\n",
    "distance_matrix = cosine_similarity(np.array(topic_model.topic_embeddings_))\n",
    "dist_df = pd.DataFrame(distance_matrix, columns=topic_model.topic_labels_.values(), \n",
    "                       index=topic_model.topic_labels_.values())\n",
    "\n",
    "tmp = []\n",
    "for rec in dist_df.reset_index().to_dict('records'):\n",
    "    t1 = rec['index']\n",
    "    for t2 in rec:\n",
    "        if t2 == 'index': \n",
    "            continue\n",
    "        tmp.append(\n",
    "            {\n",
    "                'topic1': t1, \n",
    "                'topic2': t2, \n",
    "                'distance': rec[t2]\n",
    "            }\n",
    "        )\n",
    "\n",
    "pair_dist_df = pd.DataFrame(tmp)\n",
    "\n",
    "pair_dist_df = pair_dist_df[(pair_dist_df.topic1.map(\n",
    "      lambda x: not x.startswith('-1'))) & \n",
    "            (pair_dist_df.topic2.map(lambda x: not x.startswith('-1')))]\n",
    "pair_dist_df = pair_dist_df[pair_dist_df.topic1 < pair_dist_df.topic2]\n",
    "pair_dist_df.sort_values('distance', ascending = False).head(20)"
   ]
  },
  {
   "cell_type": "code",
   "execution_count": 13,
   "metadata": {},
   "outputs": [
    {
     "name": "stderr",
     "output_type": "stream",
     "text": [
      "100%|██████████| 2/2 [00:00<00:00, 16.17it/s]\n"
     ]
    }
   ],
   "source": [
    "topic_distr, topic_token_distr = topic_model.approximate_distribution(\n",
    "      docs, window = 5, calculate_tokens=True)"
   ]
  },
  {
   "cell_type": "code",
   "execution_count": 14,
   "metadata": {},
   "outputs": [
    {
     "name": "stderr",
     "output_type": "stream",
     "text": [
      "100%|██████████| 350/350 [00:07<00:00, 49.46it/s]\n"
     ]
    },
    {
     "data": {
      "application/vnd.plotly.v1+json": {
       "config": {
        "plotlyServerURL": "https://plot.ly"
       },
       "data": [
        {
         "fillpattern": {
          "shape": ""
         },
         "hovertemplate": "number of topics=0<br>threshold=%{x}<br>share of reviews, %=%{y}<extra></extra>",
         "legendgroup": "0",
         "line": {
          "color": "rgb(255,255,217)"
         },
         "marker": {
          "symbol": "circle"
         },
         "mode": "lines",
         "name": "0",
         "orientation": "v",
         "showlegend": true,
         "stackgroup": "1",
         "type": "scatter",
         "x": [
          0,
          0.001,
          0.002,
          0.003,
          0.004,
          0.005,
          0.006,
          0.007,
          0.008,
          0.009000000000000001,
          0.01,
          0.011,
          0.012,
          0.013000000000000001,
          0.014,
          0.015,
          0.016,
          0.017,
          0.018000000000000002,
          0.019,
          0.02,
          0.021,
          0.022,
          0.023,
          0.024,
          0.025,
          0.026000000000000002,
          0.027,
          0.028,
          0.029,
          0.03,
          0.031,
          0.032,
          0.033,
          0.034,
          0.035,
          0.036000000000000004,
          0.037,
          0.038,
          0.039,
          0.04,
          0.041,
          0.042,
          0.043000000000000003,
          0.044,
          0.045,
          0.046,
          0.047,
          0.048,
          0.049,
          0.05,
          0.051000000000000004,
          0.052000000000000005,
          0.053,
          0.054,
          0.055,
          0.056,
          0.057,
          0.058,
          0.059000000000000004,
          0.06,
          0.061,
          0.062,
          0.063,
          0.064,
          0.065,
          0.066,
          0.067,
          0.068,
          0.069,
          0.07,
          0.07100000000000001,
          0.07200000000000001,
          0.073,
          0.074,
          0.075,
          0.076,
          0.077,
          0.078,
          0.079,
          0.08,
          0.081,
          0.082,
          0.083,
          0.084,
          0.085,
          0.08600000000000001,
          0.08700000000000001,
          0.088,
          0.089,
          0.09,
          0.091,
          0.092,
          0.093,
          0.094,
          0.095,
          0.096,
          0.097,
          0.098,
          0.099,
          0.1,
          0.101,
          0.10200000000000001,
          0.10300000000000001,
          0.10400000000000001,
          0.105,
          0.106,
          0.107,
          0.108,
          0.109,
          0.11,
          0.111,
          0.112,
          0.113,
          0.114,
          0.115,
          0.116,
          0.117,
          0.11800000000000001,
          0.11900000000000001,
          0.12,
          0.121,
          0.122,
          0.123,
          0.124,
          0.125,
          0.126,
          0.127,
          0.128,
          0.129,
          0.13,
          0.131,
          0.132,
          0.133,
          0.134,
          0.135,
          0.136,
          0.137,
          0.138,
          0.139,
          0.14,
          0.14100000000000001,
          0.14200000000000002,
          0.14300000000000002,
          0.14400000000000002,
          0.145,
          0.146,
          0.147,
          0.148,
          0.149,
          0.15,
          0.151,
          0.152,
          0.153,
          0.154,
          0.155,
          0.156,
          0.157,
          0.158,
          0.159,
          0.16,
          0.161,
          0.162,
          0.163,
          0.164,
          0.165,
          0.166,
          0.167,
          0.168,
          0.169,
          0.17,
          0.171,
          0.17200000000000001,
          0.17300000000000001,
          0.17400000000000002,
          0.17500000000000002,
          0.176,
          0.177,
          0.178,
          0.179,
          0.18,
          0.181,
          0.182,
          0.183,
          0.184,
          0.185,
          0.186,
          0.187,
          0.188,
          0.189,
          0.19,
          0.191,
          0.192,
          0.193,
          0.194,
          0.195,
          0.196,
          0.197,
          0.198,
          0.199,
          0.2,
          0.201,
          0.202,
          0.203,
          0.20400000000000001,
          0.20500000000000002,
          0.20600000000000002,
          0.20700000000000002,
          0.20800000000000002,
          0.209,
          0.21,
          0.211,
          0.212,
          0.213,
          0.214,
          0.215,
          0.216,
          0.217,
          0.218,
          0.219,
          0.22,
          0.221,
          0.222,
          0.223,
          0.224,
          0.225,
          0.226,
          0.227,
          0.228,
          0.229,
          0.23,
          0.231,
          0.232,
          0.233,
          0.234,
          0.23500000000000001,
          0.23600000000000002,
          0.23700000000000002,
          0.23800000000000002,
          0.23900000000000002,
          0.24,
          0.241,
          0.242,
          0.243,
          0.244,
          0.245,
          0.246,
          0.247,
          0.248,
          0.249,
          0.25,
          0.251,
          0.252,
          0.253,
          0.254,
          0.255,
          0.256,
          0.257,
          0.258,
          0.259,
          0.26,
          0.261,
          0.262,
          0.263,
          0.264,
          0.265,
          0.266,
          0.267,
          0.268,
          0.269,
          0.27,
          0.271,
          0.272,
          0.273,
          0.274,
          0.275,
          0.276,
          0.277,
          0.278,
          0.279,
          0.28,
          0.281,
          0.28200000000000003,
          0.28300000000000003,
          0.28400000000000003,
          0.28500000000000003,
          0.28600000000000003,
          0.28700000000000003,
          0.28800000000000003,
          0.289,
          0.29,
          0.291,
          0.292,
          0.293,
          0.294,
          0.295,
          0.296,
          0.297,
          0.298,
          0.299,
          0.3,
          0.301,
          0.302,
          0.303,
          0.304,
          0.305,
          0.306,
          0.307,
          0.308,
          0.309,
          0.31,
          0.311,
          0.312,
          0.313,
          0.314,
          0.315,
          0.316,
          0.317,
          0.318,
          0.319,
          0.32,
          0.321,
          0.322,
          0.323,
          0.324,
          0.325,
          0.326,
          0.327,
          0.328,
          0.329,
          0.33,
          0.331,
          0.332,
          0.333,
          0.334,
          0.335,
          0.336,
          0.337,
          0.338,
          0.339,
          0.34,
          0.341,
          0.342,
          0.343,
          0.34400000000000003,
          0.34500000000000003,
          0.34600000000000003,
          0.34700000000000003,
          0.34800000000000003,
          0.34900000000000003
         ],
         "xaxis": "x",
         "y": [
          0,
          8.67579908675799,
          8.67579908675799,
          8.67579908675799,
          8.67579908675799,
          8.67579908675799,
          8.67579908675799,
          8.67579908675799,
          8.67579908675799,
          8.67579908675799,
          8.67579908675799,
          8.67579908675799,
          8.67579908675799,
          8.67579908675799,
          8.67579908675799,
          8.67579908675799,
          8.67579908675799,
          8.67579908675799,
          8.67579908675799,
          8.67579908675799,
          8.67579908675799,
          8.67579908675799,
          8.67579908675799,
          8.67579908675799,
          8.67579908675799,
          8.67579908675799,
          8.67579908675799,
          8.67579908675799,
          8.67579908675799,
          8.67579908675799,
          8.67579908675799,
          8.67579908675799,
          8.67579908675799,
          8.67579908675799,
          8.67579908675799,
          8.67579908675799,
          8.67579908675799,
          8.67579908675799,
          8.67579908675799,
          8.67579908675799,
          8.67579908675799,
          8.67579908675799,
          8.67579908675799,
          8.67579908675799,
          8.67579908675799,
          8.67579908675799,
          8.67579908675799,
          8.67579908675799,
          8.67579908675799,
          8.67579908675799,
          8.67579908675799,
          8.67579908675799,
          8.67579908675799,
          8.67579908675799,
          8.67579908675799,
          8.67579908675799,
          8.67579908675799,
          8.67579908675799,
          8.67579908675799,
          8.67579908675799,
          8.67579908675799,
          8.67579908675799,
          8.67579908675799,
          8.67579908675799,
          8.67579908675799,
          8.67579908675799,
          8.67579908675799,
          8.67579908675799,
          8.67579908675799,
          8.67579908675799,
          8.67579908675799,
          8.67579908675799,
          8.67579908675799,
          8.67579908675799,
          8.67579908675799,
          8.67579908675799,
          8.67579908675799,
          8.67579908675799,
          8.67579908675799,
          8.67579908675799,
          8.67579908675799,
          8.67579908675799,
          8.67579908675799,
          8.67579908675799,
          8.67579908675799,
          8.67579908675799,
          8.67579908675799,
          8.67579908675799,
          8.67579908675799,
          8.67579908675799,
          8.67579908675799,
          8.67579908675799,
          8.67579908675799,
          8.67579908675799,
          8.67579908675799,
          8.67579908675799,
          8.67579908675799,
          8.67579908675799,
          8.67579908675799,
          8.67579908675799,
          8.67579908675799,
          8.67579908675799,
          8.67579908675799,
          8.67579908675799,
          8.67579908675799,
          8.67579908675799,
          8.67579908675799,
          8.67579908675799,
          8.67579908675799,
          8.67579908675799,
          8.67579908675799,
          8.67579908675799,
          8.67579908675799,
          8.67579908675799,
          8.67579908675799,
          8.67579908675799,
          8.67579908675799,
          8.67579908675799,
          8.67579908675799,
          8.67579908675799,
          8.67579908675799,
          8.67579908675799,
          8.67579908675799,
          8.67579908675799,
          8.67579908675799,
          8.67579908675799,
          8.67579908675799,
          8.67579908675799,
          8.67579908675799,
          8.67579908675799,
          8.67579908675799,
          8.67579908675799,
          8.67579908675799,
          8.67579908675799,
          8.67579908675799,
          8.67579908675799,
          8.67579908675799,
          8.67579908675799,
          8.67579908675799,
          8.67579908675799,
          8.67579908675799,
          8.67579908675799,
          8.67579908675799,
          8.67579908675799,
          8.67579908675799,
          8.67579908675799,
          8.67579908675799,
          8.67579908675799,
          8.67579908675799,
          8.67579908675799,
          8.67579908675799,
          8.67579908675799,
          8.67579908675799,
          8.726534753932015,
          8.726534753932015,
          8.726534753932015,
          8.726534753932015,
          8.726534753932015,
          8.726534753932015,
          8.726534753932015,
          8.726534753932015,
          8.726534753932015,
          8.726534753932015,
          8.726534753932015,
          8.726534753932015,
          8.726534753932015,
          8.726534753932015,
          8.726534753932015,
          8.726534753932015,
          8.726534753932015,
          8.726534753932015,
          8.726534753932015,
          8.726534753932015,
          8.726534753932015,
          8.726534753932015,
          8.726534753932015,
          8.726534753932015,
          8.726534753932015,
          8.726534753932015,
          8.777270421106037,
          8.777270421106037,
          8.777270421106037,
          8.777270421106037,
          8.82800608828006,
          8.82800608828006,
          8.82800608828006,
          8.82800608828006,
          8.878741755454085,
          8.878741755454085,
          8.878741755454085,
          8.878741755454085,
          8.878741755454085,
          8.929477422628107,
          8.929477422628107,
          8.929477422628107,
          8.929477422628107,
          8.929477422628107,
          8.929477422628107,
          8.929477422628107,
          8.929477422628107,
          8.929477422628107,
          8.929477422628107,
          8.980213089802131,
          8.980213089802131,
          8.980213089802131,
          8.980213089802131,
          8.980213089802131,
          8.980213089802131,
          9.030948756976155,
          9.030948756976155,
          9.030948756976155,
          9.030948756976155,
          9.030948756976155,
          9.030948756976155,
          9.030948756976155,
          9.030948756976155,
          9.081684424150177,
          9.081684424150177,
          9.081684424150177,
          9.081684424150177,
          9.081684424150177,
          9.081684424150177,
          9.081684424150177,
          9.081684424150177,
          9.081684424150177,
          9.081684424150177,
          9.081684424150177,
          9.081684424150177,
          9.081684424150177,
          9.081684424150177,
          9.081684424150177,
          9.081684424150177,
          9.081684424150177,
          9.132420091324201,
          9.183155758498224,
          9.183155758498224,
          9.183155758498224,
          9.233891425672248,
          9.233891425672248,
          9.233891425672248,
          9.284627092846272,
          9.284627092846272,
          9.284627092846272,
          9.284627092846272,
          9.284627092846272,
          9.284627092846272,
          9.284627092846272,
          9.284627092846272,
          9.335362760020294,
          9.335362760020294,
          9.335362760020294,
          9.386098427194318,
          9.436834094368342,
          9.436834094368342,
          9.487569761542364,
          9.487569761542364,
          9.538305428716388,
          9.690512430238458,
          9.74124809741248,
          9.791983764586504,
          9.791983764586504,
          9.791983764586504,
          9.842719431760528,
          9.842719431760528,
          9.89345509893455,
          9.944190766108575,
          9.944190766108575,
          9.944190766108575,
          10.045662100456621,
          10.045662100456621,
          10.096397767630645,
          10.096397767630645,
          10.096397767630645,
          10.096397767630645,
          10.096397767630645,
          10.147133434804667,
          10.147133434804667,
          10.248604769152715,
          10.299340436326737,
          10.299340436326737,
          10.299340436326737,
          10.299340436326737,
          10.350076103500761,
          10.350076103500761,
          10.451547437848808,
          10.502283105022832,
          10.603754439370878,
          10.654490106544902,
          10.705225773718924,
          10.705225773718924,
          10.755961440892948,
          10.755961440892948,
          10.755961440892948,
          10.755961440892948,
          10.80669710806697,
          10.908168442415018,
          10.908168442415018,
          10.908168442415018,
          10.95890410958904,
          11.060375443937088,
          11.11111111111111,
          11.161846778285135,
          11.212582445459157,
          11.314053779807205,
          11.364789446981227,
          11.466260781329275,
          11.516996448503297,
          11.567732115677321,
          11.669203450025368,
          11.669203450025368,
          11.770674784373414,
          11.821410451547438,
          11.821410451547438,
          11.872146118721462,
          12.024353120243532,
          12.024353120243532,
          12.024353120243532,
          12.024353120243532,
          12.075088787417554,
          12.1765601217656,
          12.1765601217656,
          12.278031456113649,
          12.32876712328767,
          12.430238457635719,
          12.480974124809741,
          12.480974124809741,
          12.633181126331811,
          12.734652460679857,
          12.886859462201928,
          12.988330796549974,
          12.988330796549974,
          13.343480466768138,
          13.444951801116185,
          13.495687468290209,
          13.54642313546423,
          13.597158802638255,
          13.698630136986301,
          13.850837138508371,
          13.901572805682395,
          14.053779807204466,
          14.104515474378488,
          14.155251141552512,
          14.205986808726534,
          14.307458143074582,
          14.307458143074582,
          14.358193810248604,
          14.358193810248604,
          14.510400811770674,
          14.510400811770674,
          14.561136478944698
         ],
         "yaxis": "y"
        },
        {
         "fillpattern": {
          "shape": ""
         },
         "hovertemplate": "number of topics=1<br>threshold=%{x}<br>share of reviews, %=%{y}<extra></extra>",
         "legendgroup": "1",
         "line": {
          "color": "rgb(127,205,187)"
         },
         "marker": {
          "symbol": "circle"
         },
         "mode": "lines",
         "name": "1",
         "orientation": "v",
         "showlegend": true,
         "stackgroup": "1",
         "type": "scatter",
         "x": [
          0,
          0.001,
          0.002,
          0.003,
          0.004,
          0.005,
          0.006,
          0.007,
          0.008,
          0.009000000000000001,
          0.01,
          0.011,
          0.012,
          0.013000000000000001,
          0.014,
          0.015,
          0.016,
          0.017,
          0.018000000000000002,
          0.019,
          0.02,
          0.021,
          0.022,
          0.023,
          0.024,
          0.025,
          0.026000000000000002,
          0.027,
          0.028,
          0.029,
          0.03,
          0.031,
          0.032,
          0.033,
          0.034,
          0.035,
          0.036000000000000004,
          0.037,
          0.038,
          0.039,
          0.04,
          0.041,
          0.042,
          0.043000000000000003,
          0.044,
          0.045,
          0.046,
          0.047,
          0.048,
          0.049,
          0.05,
          0.051000000000000004,
          0.052000000000000005,
          0.053,
          0.054,
          0.055,
          0.056,
          0.057,
          0.058,
          0.059000000000000004,
          0.06,
          0.061,
          0.062,
          0.063,
          0.064,
          0.065,
          0.066,
          0.067,
          0.068,
          0.069,
          0.07,
          0.07100000000000001,
          0.07200000000000001,
          0.073,
          0.074,
          0.075,
          0.076,
          0.077,
          0.078,
          0.079,
          0.08,
          0.081,
          0.082,
          0.083,
          0.084,
          0.085,
          0.08600000000000001,
          0.08700000000000001,
          0.088,
          0.089,
          0.09,
          0.091,
          0.092,
          0.093,
          0.094,
          0.095,
          0.096,
          0.097,
          0.098,
          0.099,
          0.1,
          0.101,
          0.10200000000000001,
          0.10300000000000001,
          0.10400000000000001,
          0.105,
          0.106,
          0.107,
          0.108,
          0.109,
          0.11,
          0.111,
          0.112,
          0.113,
          0.114,
          0.115,
          0.116,
          0.117,
          0.11800000000000001,
          0.11900000000000001,
          0.12,
          0.121,
          0.122,
          0.123,
          0.124,
          0.125,
          0.126,
          0.127,
          0.128,
          0.129,
          0.13,
          0.131,
          0.132,
          0.133,
          0.134,
          0.135,
          0.136,
          0.137,
          0.138,
          0.139,
          0.14,
          0.14100000000000001,
          0.14200000000000002,
          0.14300000000000002,
          0.14400000000000002,
          0.145,
          0.146,
          0.147,
          0.148,
          0.149,
          0.15,
          0.151,
          0.152,
          0.153,
          0.154,
          0.155,
          0.156,
          0.157,
          0.158,
          0.159,
          0.16,
          0.161,
          0.162,
          0.163,
          0.164,
          0.165,
          0.166,
          0.167,
          0.168,
          0.169,
          0.17,
          0.171,
          0.17200000000000001,
          0.17300000000000001,
          0.17400000000000002,
          0.17500000000000002,
          0.176,
          0.177,
          0.178,
          0.179,
          0.18,
          0.181,
          0.182,
          0.183,
          0.184,
          0.185,
          0.186,
          0.187,
          0.188,
          0.189,
          0.19,
          0.191,
          0.192,
          0.193,
          0.194,
          0.195,
          0.196,
          0.197,
          0.198,
          0.199,
          0.2,
          0.201,
          0.202,
          0.203,
          0.20400000000000001,
          0.20500000000000002,
          0.20600000000000002,
          0.20700000000000002,
          0.20800000000000002,
          0.209,
          0.21,
          0.211,
          0.212,
          0.213,
          0.214,
          0.215,
          0.216,
          0.217,
          0.218,
          0.219,
          0.22,
          0.221,
          0.222,
          0.223,
          0.224,
          0.225,
          0.226,
          0.227,
          0.228,
          0.229,
          0.23,
          0.231,
          0.232,
          0.233,
          0.234,
          0.23500000000000001,
          0.23600000000000002,
          0.23700000000000002,
          0.23800000000000002,
          0.23900000000000002,
          0.24,
          0.241,
          0.242,
          0.243,
          0.244,
          0.245,
          0.246,
          0.247,
          0.248,
          0.249,
          0.25,
          0.251,
          0.252,
          0.253,
          0.254,
          0.255,
          0.256,
          0.257,
          0.258,
          0.259,
          0.26,
          0.261,
          0.262,
          0.263,
          0.264,
          0.265,
          0.266,
          0.267,
          0.268,
          0.269,
          0.27,
          0.271,
          0.272,
          0.273,
          0.274,
          0.275,
          0.276,
          0.277,
          0.278,
          0.279,
          0.28,
          0.281,
          0.28200000000000003,
          0.28300000000000003,
          0.28400000000000003,
          0.28500000000000003,
          0.28600000000000003,
          0.28700000000000003,
          0.28800000000000003,
          0.289,
          0.29,
          0.291,
          0.292,
          0.293,
          0.294,
          0.295,
          0.296,
          0.297,
          0.298,
          0.299,
          0.3,
          0.301,
          0.302,
          0.303,
          0.304,
          0.305,
          0.306,
          0.307,
          0.308,
          0.309,
          0.31,
          0.311,
          0.312,
          0.313,
          0.314,
          0.315,
          0.316,
          0.317,
          0.318,
          0.319,
          0.32,
          0.321,
          0.322,
          0.323,
          0.324,
          0.325,
          0.326,
          0.327,
          0.328,
          0.329,
          0.33,
          0.331,
          0.332,
          0.333,
          0.334,
          0.335,
          0.336,
          0.337,
          0.338,
          0.339,
          0.34,
          0.341,
          0.342,
          0.343,
          0.34400000000000003,
          0.34500000000000003,
          0.34600000000000003,
          0.34700000000000003,
          0.34800000000000003,
          0.34900000000000003
         ],
         "xaxis": "x",
         "y": [
          0,
          32.36935565702689,
          32.36935565702689,
          32.36935565702689,
          32.36935565702689,
          32.36935565702689,
          32.36935565702689,
          32.36935565702689,
          32.36935565702689,
          32.36935565702689,
          32.36935565702689,
          32.36935565702689,
          32.36935565702689,
          32.36935565702689,
          32.36935565702689,
          32.36935565702689,
          32.36935565702689,
          32.36935565702689,
          32.36935565702689,
          32.36935565702689,
          32.36935565702689,
          32.36935565702689,
          32.36935565702689,
          32.36935565702689,
          32.36935565702689,
          32.36935565702689,
          32.36935565702689,
          32.36935565702689,
          32.36935565702689,
          32.36935565702689,
          32.36935565702689,
          32.36935565702689,
          32.36935565702689,
          32.36935565702689,
          32.36935565702689,
          32.36935565702689,
          32.36935565702689,
          32.36935565702689,
          32.36935565702689,
          32.36935565702689,
          32.36935565702689,
          32.36935565702689,
          32.36935565702689,
          32.36935565702689,
          32.36935565702689,
          32.36935565702689,
          32.42009132420091,
          32.42009132420091,
          32.42009132420091,
          32.42009132420091,
          32.42009132420091,
          32.42009132420091,
          32.42009132420091,
          32.42009132420091,
          32.42009132420091,
          32.42009132420091,
          32.42009132420091,
          32.42009132420091,
          32.42009132420091,
          32.42009132420091,
          32.42009132420091,
          32.42009132420091,
          32.42009132420091,
          32.42009132420091,
          32.42009132420091,
          32.42009132420091,
          32.470826991374935,
          32.470826991374935,
          32.470826991374935,
          32.470826991374935,
          32.470826991374935,
          32.470826991374935,
          32.57229832572298,
          32.57229832572298,
          32.57229832572298,
          32.67376966007103,
          32.724505327245055,
          32.77524099441908,
          32.77524099441908,
          32.77524099441908,
          32.77524099441908,
          32.77524099441908,
          32.77524099441908,
          32.77524099441908,
          32.77524099441908,
          32.77524099441908,
          32.77524099441908,
          32.77524099441908,
          32.77524099441908,
          32.77524099441908,
          32.77524099441908,
          32.77524099441908,
          32.77524099441908,
          32.77524099441908,
          32.77524099441908,
          32.77524099441908,
          32.77524099441908,
          32.77524099441908,
          32.77524099441908,
          32.87671232876713,
          32.87671232876713,
          32.87671232876713,
          32.87671232876713,
          32.87671232876713,
          32.87671232876713,
          32.87671232876713,
          32.87671232876713,
          32.87671232876713,
          33.38406900050736,
          33.38406900050736,
          33.4855403348554,
          33.63774733637747,
          33.6884830035515,
          33.6884830035515,
          33.6884830035515,
          34.09436834094368,
          34.09436834094368,
          34.09436834094368,
          34.29731100963978,
          34.29731100963978,
          34.44951801116185,
          34.44951801116185,
          34.50025367833587,
          34.55098934550989,
          34.55098934550989,
          34.55098934550989,
          34.65246067985794,
          34.65246067985794,
          34.70319634703196,
          34.95687468290208,
          34.95687468290208,
          35.10908168442415,
          35.10908168442415,
          35.10908168442415,
          35.26128868594622,
          35.26128868594622,
          35.26128868594622,
          35.36276002029427,
          35.41349568746829,
          35.51496702181634,
          35.51496702181634,
          35.71790969051243,
          35.71790969051243,
          35.76864535768645,
          35.97158802638255,
          36.02232369355657,
          36.12379502790462,
          36.17453069507864,
          36.276002029426685,
          36.68188736681888,
          36.93556570268899,
          37.08777270421106,
          37.23997970573313,
          37.29071537290715,
          37.341451040081175,
          37.49365804160325,
          37.595129375951295,
          37.595129375951295,
          37.64586504312532,
          37.69660071029934,
          37.74733637747337,
          37.950279046169456,
          38.00101471334348,
          38.051750380517504,
          38.406900050735665,
          38.60984271943176,
          38.76204972095383,
          38.863521055301874,
          39.015728056823946,
          39.16793505834602,
          39.370877727042114,
          39.5738203957382,
          39.62455606291223,
          39.726027397260275,
          39.82749873160832,
          39.97970573313039,
          40.081177067478436,
          40.23338406900051,
          40.436326737696604,
          40.537798072044644,
          40.58853373921867,
          40.74074074074074,
          40.84221207508879,
          40.99441907661086,
          41.146626078132925,
          41.298833079655,
          41.34956874682902,
          41.603247082699134,
          41.603247082699134,
          41.90766108574328,
          41.90766108574328,
          42.009132420091326,
          42.05986808726535,
          42.110603754439374,
          42.31354642313546,
          42.465753424657535,
          42.61796042617961,
          42.87163876204972,
          43.074581430745816,
          43.37899543378995,
          43.58193810248605,
          44.03855910705226,
          44.19076610857433,
          44.19076610857433,
          44.29223744292238,
          44.54591577879249,
          44.85032978183663,
          45.0025367833587,
          45.053272450532724,
          45.15474378488077,
          45.35768645357687,
          45.662100456621005,
          45.96651445966514,
          45.96651445966514,
          46.16945712836124,
          46.372399797057334,
          46.67681380010147,
          46.727549467275495,
          47.13343480466768,
          47.59005580923389,
          47.84373414510401,
          48.09741248097413,
          48.30035514967022,
          48.95991882293252,
          49.31506849315068,
          49.5687468290208,
          49.77168949771689,
          49.923896499238964,
          50.22831050228311,
          50.32978183663115,
          50.32978183663115,
          50.58346017250127,
          50.989345509893454,
          51.141552511415526,
          51.39523084728564,
          51.80111618467783,
          52.15626585489599,
          52.40994419076611,
          52.71435819381025,
          52.76509386098427,
          52.8158295281583,
          52.96803652968037,
          53.17097919837646,
          53.4753932014206,
          53.881278538812786,
          54.28716387620497,
          54.591577879249115,
          54.84525621511923,
          54.84525621511923,
          55.048198883815324,
          55.14967021816337,
          55.14967021816337,
          55.45408422120751,
          55.70776255707762,
          55.91070522577372,
          55.96144089294774,
          56.06291222729579,
          56.16438356164384,
          56.57026889903602,
          56.57026889903602,
          56.823947234906136,
          56.925418569254184,
          57.077625570776256,
          57.331303906646376,
          57.534246575342465,
          57.787924911212585,
          57.94013191273465,
          58.29528158295282,
          58.54895991882293,
          58.9041095890411,
          58.9041095890411,
          59.208523592085236,
          59.30999492643328,
          59.563673262303396,
          59.86808726534754,
          59.96955859969559,
          60.17250126839168,
          60.37544393708777,
          60.37544393708777,
          60.629122272957886,
          60.882800608828006,
          60.984271943176054,
          61.23795027904617,
          61.39015728056824,
          61.593099949264335,
          61.7453069507864,
          61.694571283612376,
          61.796042617960424,
          61.84677828513445,
          62.201927955352616,
          62.404870624048705,
          63.013698630136986,
          63.31811263318112,
          63.36884830035515,
          64.02841197361745,
          64.1298833079655,
          64.48503297818367,
          64.7894469812278,
          65.04312531709792,
          65.34753932014206,
          65.49974632166413,
          65.6519533231862,
          65.90563165905631,
          65.90563165905631,
          66.21004566210046,
          66.3115169964485,
          66.61593099949265,
          66.7174023338407,
          66.81887366818874,
          66.92034500253678,
          66.9710806697108,
          67.02181633688483,
          67.12328767123287,
          67.27549467275495,
          67.1740233384069,
          67.22475900558092,
          67.22475900558092,
          67.376966007103,
          67.68138001014714,
          67.73211567732116,
          67.88432267884323,
          67.88432267884323,
          68.08726534753932,
          68.13800101471334,
          68.13800101471334,
          68.29020801623541,
          68.29020801623541,
          68.39167935058346,
          68.39167935058346,
          68.39167935058346,
          68.44241501775748,
          68.44241501775748,
          68.6960933536276,
          68.94977168949772,
          69.00050735667175,
          69.05124302384576,
          69.20345002536783,
          69.20345002536783,
          69.40639269406392,
          69.3556570268899,
          69.76154236428209,
          69.76154236428209,
          69.91374936580416,
          69.86301369863014,
          69.91374936580416,
          70.06595636732624,
          70.47184170471841,
          70.52257737189244,
          70.67478437341451,
          70.72552004058853
         ],
         "yaxis": "y"
        },
        {
         "fillpattern": {
          "shape": ""
         },
         "hovertemplate": "number of topics=2<br>threshold=%{x}<br>share of reviews, %=%{y}<extra></extra>",
         "legendgroup": "2",
         "line": {
          "color": "rgb(65,182,196)"
         },
         "marker": {
          "symbol": "circle"
         },
         "mode": "lines",
         "name": "2",
         "orientation": "v",
         "showlegend": true,
         "stackgroup": "1",
         "type": "scatter",
         "x": [
          0,
          0.001,
          0.002,
          0.003,
          0.004,
          0.005,
          0.006,
          0.007,
          0.008,
          0.009000000000000001,
          0.01,
          0.011,
          0.012,
          0.013000000000000001,
          0.014,
          0.015,
          0.016,
          0.017,
          0.018000000000000002,
          0.019,
          0.02,
          0.021,
          0.022,
          0.023,
          0.024,
          0.025,
          0.026000000000000002,
          0.027,
          0.028,
          0.029,
          0.03,
          0.031,
          0.032,
          0.033,
          0.034,
          0.035,
          0.036000000000000004,
          0.037,
          0.038,
          0.039,
          0.04,
          0.041,
          0.042,
          0.043000000000000003,
          0.044,
          0.045,
          0.046,
          0.047,
          0.048,
          0.049,
          0.05,
          0.051000000000000004,
          0.052000000000000005,
          0.053,
          0.054,
          0.055,
          0.056,
          0.057,
          0.058,
          0.059000000000000004,
          0.06,
          0.061,
          0.062,
          0.063,
          0.064,
          0.065,
          0.066,
          0.067,
          0.068,
          0.069,
          0.07,
          0.07100000000000001,
          0.07200000000000001,
          0.073,
          0.074,
          0.075,
          0.076,
          0.077,
          0.078,
          0.079,
          0.08,
          0.081,
          0.082,
          0.083,
          0.084,
          0.085,
          0.08600000000000001,
          0.08700000000000001,
          0.088,
          0.089,
          0.09,
          0.091,
          0.092,
          0.093,
          0.094,
          0.095,
          0.096,
          0.097,
          0.098,
          0.099,
          0.1,
          0.101,
          0.10200000000000001,
          0.10300000000000001,
          0.10400000000000001,
          0.105,
          0.106,
          0.107,
          0.108,
          0.109,
          0.11,
          0.111,
          0.112,
          0.113,
          0.114,
          0.115,
          0.116,
          0.117,
          0.11800000000000001,
          0.11900000000000001,
          0.12,
          0.121,
          0.122,
          0.123,
          0.124,
          0.125,
          0.126,
          0.127,
          0.128,
          0.129,
          0.13,
          0.131,
          0.132,
          0.133,
          0.134,
          0.135,
          0.136,
          0.137,
          0.138,
          0.139,
          0.14,
          0.14100000000000001,
          0.14200000000000002,
          0.14300000000000002,
          0.14400000000000002,
          0.145,
          0.146,
          0.147,
          0.148,
          0.149,
          0.15,
          0.151,
          0.152,
          0.153,
          0.154,
          0.155,
          0.156,
          0.157,
          0.158,
          0.159,
          0.16,
          0.161,
          0.162,
          0.163,
          0.164,
          0.165,
          0.166,
          0.167,
          0.168,
          0.169,
          0.17,
          0.171,
          0.17200000000000001,
          0.17300000000000001,
          0.17400000000000002,
          0.17500000000000002,
          0.176,
          0.177,
          0.178,
          0.179,
          0.18,
          0.181,
          0.182,
          0.183,
          0.184,
          0.185,
          0.186,
          0.187,
          0.188,
          0.189,
          0.19,
          0.191,
          0.192,
          0.193,
          0.194,
          0.195,
          0.196,
          0.197,
          0.198,
          0.199,
          0.2,
          0.201,
          0.202,
          0.203,
          0.20400000000000001,
          0.20500000000000002,
          0.20600000000000002,
          0.20700000000000002,
          0.20800000000000002,
          0.209,
          0.21,
          0.211,
          0.212,
          0.213,
          0.214,
          0.215,
          0.216,
          0.217,
          0.218,
          0.219,
          0.22,
          0.221,
          0.222,
          0.223,
          0.224,
          0.225,
          0.226,
          0.227,
          0.228,
          0.229,
          0.23,
          0.231,
          0.232,
          0.233,
          0.234,
          0.23500000000000001,
          0.23600000000000002,
          0.23700000000000002,
          0.23800000000000002,
          0.23900000000000002,
          0.24,
          0.241,
          0.242,
          0.243,
          0.244,
          0.245,
          0.246,
          0.247,
          0.248,
          0.249,
          0.25,
          0.251,
          0.252,
          0.253,
          0.254,
          0.255,
          0.256,
          0.257,
          0.258,
          0.259,
          0.26,
          0.261,
          0.262,
          0.263,
          0.264,
          0.265,
          0.266,
          0.267,
          0.268,
          0.269,
          0.27,
          0.271,
          0.272,
          0.273,
          0.274,
          0.275,
          0.276,
          0.277,
          0.278,
          0.279,
          0.28,
          0.281,
          0.28200000000000003,
          0.28300000000000003,
          0.28400000000000003,
          0.28500000000000003,
          0.28600000000000003,
          0.28700000000000003,
          0.28800000000000003,
          0.289,
          0.29,
          0.291,
          0.292,
          0.293,
          0.294,
          0.295,
          0.296,
          0.297,
          0.298,
          0.299,
          0.3,
          0.301,
          0.302,
          0.303,
          0.304,
          0.305,
          0.306,
          0.307,
          0.308,
          0.309,
          0.31,
          0.311,
          0.312,
          0.313,
          0.314,
          0.315,
          0.316,
          0.317,
          0.318,
          0.319,
          0.32,
          0.321,
          0.322,
          0.323,
          0.324,
          0.325,
          0.326,
          0.327,
          0.328,
          0.329,
          0.33,
          0.331,
          0.332,
          0.333,
          0.334,
          0.335,
          0.336,
          0.337,
          0.338,
          0.339,
          0.34,
          0.341,
          0.342,
          0.343,
          0.34400000000000003,
          0.34500000000000003,
          0.34600000000000003,
          0.34700000000000003,
          0.34800000000000003,
          0.34900000000000003
         ],
         "xaxis": "x",
         "y": [
          0,
          26.230339928970064,
          26.230339928970064,
          26.230339928970064,
          26.230339928970064,
          26.230339928970064,
          26.230339928970064,
          26.230339928970064,
          26.230339928970064,
          26.230339928970064,
          26.230339928970064,
          26.230339928970064,
          26.230339928970064,
          26.230339928970064,
          26.230339928970064,
          26.230339928970064,
          26.230339928970064,
          26.230339928970064,
          26.230339928970064,
          26.230339928970064,
          26.230339928970064,
          26.230339928970064,
          26.230339928970064,
          26.230339928970064,
          26.230339928970064,
          26.230339928970064,
          26.230339928970064,
          26.230339928970064,
          26.230339928970064,
          26.230339928970064,
          26.230339928970064,
          26.230339928970064,
          26.230339928970064,
          26.230339928970064,
          26.28107559614409,
          26.28107559614409,
          26.28107559614409,
          26.28107559614409,
          26.331811263318112,
          26.331811263318112,
          26.331811263318112,
          26.382546930492136,
          26.43328259766616,
          26.43328259766616,
          26.43328259766616,
          26.43328259766616,
          26.382546930492136,
          26.43328259766616,
          26.484018264840184,
          26.484018264840184,
          26.484018264840184,
          26.484018264840184,
          26.58548959918823,
          26.686960933536277,
          26.686960933536277,
          26.686960933536277,
          26.686960933536277,
          26.78843226788432,
          26.839167935058345,
          26.839167935058345,
          26.940639269406393,
          27.09284627092846,
          27.143581938102486,
          27.19431760527651,
          27.19431760527651,
          27.346524606798578,
          27.346524606798578,
          27.346524606798578,
          27.346524606798578,
          27.346524606798578,
          27.397260273972602,
          27.397260273972602,
          27.295788939624558,
          27.295788939624558,
          27.397260273972602,
          27.295788939624558,
          27.295788939624558,
          27.295788939624558,
          27.346524606798578,
          27.397260273972602,
          27.49873160832065,
          27.49873160832065,
          27.549467275494674,
          27.600202942668695,
          27.600202942668695,
          27.701674277016743,
          27.904616945712835,
          28.056823947234907,
          28.056823947234907,
          28.310502283105023,
          28.361237950279047,
          28.411973617453068,
          28.462709284627092,
          28.56418061897514,
          28.614916286149164,
          28.665651953323188,
          28.71638762049721,
          28.71638762049721,
          28.970065956367325,
          28.919330289193304,
          28.970065956367325,
          29.02080162354135,
          29.02080162354135,
          29.22374429223744,
          29.52815829528158,
          29.731100963977678,
          29.781836631151698,
          29.883307965499746,
          29.52815829528158,
          29.731100963977678,
          29.883307965499746,
          29.93404363267377,
          30.08625063419584,
          30.187721968543887,
          30.289193302891935,
          30.035514967021815,
          30.035514967021815,
          30.339928970065955,
          30.289193302891935,
          30.441400304414003,
          30.39066463723998,
          30.54287163876205,
          30.644342973110096,
          30.796549974632168,
          31.050228310502284,
          31.506849315068493,
          31.60832064941654,
          31.861998985286657,
          31.91273465246068,
          31.76052765093861,
          32.014205986808726,
          32.014205986808726,
          32.115677321156774,
          32.31861998985287,
          32.42009132420091,
          32.77524099441908,
          33.02891933028919,
          33.181126331811264,
          33.38406900050736,
          33.58701166920345,
          33.84069000507357,
          33.89142567224759,
          34.09436834094368,
          34.3480466768138,
          34.24657534246575,
          34.3480466768138,
          34.3480466768138,
          34.50025367833587,
          34.50025367833587,
          34.24657534246575,
          34.19583967529173,
          34.145104008117706,
          34.19583967529173,
          34.50025367833587,
          34.65246067985794,
          34.95687468290208,
          35.007610350076106,
          35.41349568746829,
          35.464231354642315,
          35.819381024860476,
          36.17453069507864,
          36.17453069507864,
          36.42820903094876,
          36.529680365296805,
          36.276002029426685,
          36.47894469812278,
          36.529680365296805,
          36.83409436834094,
          36.93556570268899,
          36.986301369863014,
          37.138508371385086,
          37.138508371385086,
          37.3921867072552,
          37.3921867072552,
          37.3921867072552,
          37.3921867072552,
          37.54439370877727,
          37.595129375951295,
          37.54439370877727,
          37.49365804160325,
          37.74733637747337,
          37.74733637747337,
          37.74733637747337,
          37.798072044647384,
          37.69660071029934,
          37.798072044647384,
          38.051750380517504,
          37.950279046169456,
          38.10248604769153,
          38.051750380517504,
          38.406900050735665,
          38.45763571790969,
          38.60984271943176,
          38.9142567224759,
          38.9142567224759,
          38.81278538812786,
          38.863521055301874,
          38.81278538812786,
          38.71131405377981,
          38.71131405377981,
          38.76204972095383,
          38.71131405377981,
          38.71131405377981,
          38.81278538812786,
          38.9142567224759,
          38.863521055301874,
          38.71131405377981,
          38.660578386605785,
          38.660578386605785,
          38.863521055301874,
          38.76204972095383,
          38.60984271943176,
          38.45763571790969,
          38.50837138508371,
          38.406900050735665,
          38.305428716387624,
          38.203957382039576,
          38.15322171486555,
          37.89954337899543,
          37.595129375951295,
          37.54439370877727,
          37.3921867072552,
          37.341451040081175,
          36.83409436834094,
          36.58041603247083,
          36.529680365296805,
          36.32673769660071,
          36.276002029426685,
          35.97158802638255,
          36.073059360730596,
          36.17453069507864,
          36.02232369355657,
          35.61643835616438,
          35.41349568746829,
          35.464231354642315,
          35.10908168442415,
          34.80466768138001,
          34.55098934550989,
          34.50025367833587,
          34.55098934550989,
          34.55098934550989,
          34.601725012683914,
          34.44951801116185,
          34.29731100963978,
          33.94216133942162,
          33.73921867072552,
          33.4855403348554,
          33.28259766615931,
          33.23186199898529,
          33.181126331811264,
          33.181126331811264,
          33.181126331811264,
          32.8259766615931,
          32.62303399289701,
          32.42009132420091,
          32.470826991374935,
          32.31861998985287,
          32.115677321156774,
          31.65905631659056,
          31.60832064941654,
          31.45611364789447,
          31.354642313546425,
          31.202435312024352,
          30.99949264332826,
          30.796549974632168,
          30.492135971588027,
          30.339928970065955,
          30.035514967021815,
          29.680365296803654,
          29.47742262810756,
          29.47742262810756,
          29.22374429223744,
          29.17300862506342,
          28.919330289193304,
          28.665651953323188,
          28.56418061897514,
          28.411973617453068,
          28.15829528158295,
          28.10755961440893,
          27.85388127853881,
          27.65093860984272,
          27.600202942668695,
          27.397260273972602,
          27.295788939624558,
          26.991374936580417,
          26.839167935058345,
          26.88990360223237,
          26.7376966007103,
          26.636225266362253,
          26.28107559614409,
          26.179604261796044,
          25.570776255707763,
          25.266362252663622,
          25.2156265854896,
          24.505327245053273,
          24.403855910705225,
          24.099441907661085,
          23.845763571790968,
          23.59208523592085,
          23.186199898528667,
          22.98325722983257,
          22.78031456113648,
          22.526636225266362,
          22.425164890918314,
          22.070015220700153,
          21.86707255200406,
          21.511922881785896,
          21.359715880263824,
          21.15677321156773,
          21.106037544393708,
          20.95383054287164,
          20.903094875697615,
          20.801623541349567,
          20.598680872653475,
          20.54794520547945,
          20.49720953830543,
          20.49720953830543,
          20.395738203957382,
          20.040588533739218,
          19.88838153221715,
          19.736174530695077,
          19.634703196347033,
          19.381024860476916,
          19.330289193302892,
          19.27955352612887,
          19.1273465246068,
          19.025875190258752,
          18.82293252156266,
          18.670725520040587,
          18.569254185692543,
          18.569254185692543,
          18.21410451547438,
          17.858954845256214,
          17.554540842212074,
          17.45306950786403,
          17.35159817351598,
          17.097919837645865,
          16.945712836123796,
          16.69203450025368,
          16.590563165905632,
          16.133942161339423,
          16.0832064941654,
          15.880263825469305,
          15.82952815829528,
          15.778792491121258,
          15.575849822425164,
          15.169964485032978,
          14.967021816336885,
          14.814814814814815,
          14.713343480466769
         ],
         "yaxis": "y"
        },
        {
         "fillpattern": {
          "shape": ""
         },
         "hovertemplate": "number of topics=3<br>threshold=%{x}<br>share of reviews, %=%{y}<extra></extra>",
         "legendgroup": "3",
         "line": {
          "color": "rgb(29,145,192)"
         },
         "marker": {
          "symbol": "circle"
         },
         "mode": "lines",
         "name": "3",
         "orientation": "v",
         "showlegend": true,
         "stackgroup": "1",
         "type": "scatter",
         "x": [
          0,
          0.001,
          0.002,
          0.003,
          0.004,
          0.005,
          0.006,
          0.007,
          0.008,
          0.009000000000000001,
          0.01,
          0.011,
          0.012,
          0.013000000000000001,
          0.014,
          0.015,
          0.016,
          0.017,
          0.018000000000000002,
          0.019,
          0.02,
          0.021,
          0.022,
          0.023,
          0.024,
          0.025,
          0.026000000000000002,
          0.027,
          0.028,
          0.029,
          0.03,
          0.031,
          0.032,
          0.033,
          0.034,
          0.035,
          0.036000000000000004,
          0.037,
          0.038,
          0.039,
          0.04,
          0.041,
          0.042,
          0.043000000000000003,
          0.044,
          0.045,
          0.046,
          0.047,
          0.048,
          0.049,
          0.05,
          0.051000000000000004,
          0.052000000000000005,
          0.053,
          0.054,
          0.055,
          0.056,
          0.057,
          0.058,
          0.059000000000000004,
          0.06,
          0.061,
          0.062,
          0.063,
          0.064,
          0.065,
          0.066,
          0.067,
          0.068,
          0.069,
          0.07,
          0.07100000000000001,
          0.07200000000000001,
          0.073,
          0.074,
          0.075,
          0.076,
          0.077,
          0.078,
          0.079,
          0.08,
          0.081,
          0.082,
          0.083,
          0.084,
          0.085,
          0.08600000000000001,
          0.08700000000000001,
          0.088,
          0.089,
          0.09,
          0.091,
          0.092,
          0.093,
          0.094,
          0.095,
          0.096,
          0.097,
          0.098,
          0.099,
          0.1,
          0.101,
          0.10200000000000001,
          0.10300000000000001,
          0.10400000000000001,
          0.105,
          0.106,
          0.107,
          0.108,
          0.109,
          0.11,
          0.111,
          0.112,
          0.113,
          0.114,
          0.115,
          0.116,
          0.117,
          0.11800000000000001,
          0.11900000000000001,
          0.12,
          0.121,
          0.122,
          0.123,
          0.124,
          0.125,
          0.126,
          0.127,
          0.128,
          0.129,
          0.13,
          0.131,
          0.132,
          0.133,
          0.134,
          0.135,
          0.136,
          0.137,
          0.138,
          0.139,
          0.14,
          0.14100000000000001,
          0.14200000000000002,
          0.14300000000000002,
          0.14400000000000002,
          0.145,
          0.146,
          0.147,
          0.148,
          0.149,
          0.15,
          0.151,
          0.152,
          0.153,
          0.154,
          0.155,
          0.156,
          0.157,
          0.158,
          0.159,
          0.16,
          0.161,
          0.162,
          0.163,
          0.164,
          0.165,
          0.166,
          0.167,
          0.168,
          0.169,
          0.17,
          0.171,
          0.17200000000000001,
          0.17300000000000001,
          0.17400000000000002,
          0.17500000000000002,
          0.176,
          0.177,
          0.178,
          0.179,
          0.18,
          0.181,
          0.182,
          0.183,
          0.184,
          0.185,
          0.186,
          0.187,
          0.188,
          0.189,
          0.19,
          0.191,
          0.192,
          0.193,
          0.194,
          0.195,
          0.196,
          0.197,
          0.198,
          0.199,
          0.2,
          0.201,
          0.202,
          0.203,
          0.20400000000000001,
          0.20500000000000002,
          0.20600000000000002,
          0.20700000000000002,
          0.20800000000000002,
          0.209,
          0.21,
          0.211,
          0.212,
          0.213,
          0.214,
          0.215,
          0.216,
          0.217,
          0.218,
          0.219,
          0.22,
          0.221,
          0.222,
          0.223,
          0.224,
          0.225,
          0.226,
          0.227,
          0.228,
          0.229,
          0.23,
          0.231,
          0.232,
          0.233,
          0.234,
          0.23500000000000001,
          0.23600000000000002,
          0.23700000000000002,
          0.23800000000000002,
          0.23900000000000002,
          0.24,
          0.241,
          0.242,
          0.243,
          0.244,
          0.245,
          0.246,
          0.247,
          0.248,
          0.249,
          0.25,
          0.251,
          0.252,
          0.253,
          0.254,
          0.255,
          0.256,
          0.257,
          0.258,
          0.259,
          0.26,
          0.261,
          0.262,
          0.263,
          0.264,
          0.265,
          0.266,
          0.267,
          0.268,
          0.269,
          0.27,
          0.271,
          0.272,
          0.273,
          0.274,
          0.275,
          0.276,
          0.277,
          0.278,
          0.279,
          0.28,
          0.281,
          0.28200000000000003,
          0.28300000000000003,
          0.28400000000000003,
          0.28500000000000003,
          0.28600000000000003,
          0.28700000000000003,
          0.28800000000000003,
          0.289,
          0.29,
          0.291,
          0.292,
          0.293,
          0.294,
          0.295,
          0.296,
          0.297,
          0.298,
          0.299,
          0.3,
          0.301,
          0.302,
          0.303,
          0.304,
          0.305,
          0.306,
          0.307,
          0.308,
          0.309,
          0.31,
          0.311,
          0.312,
          0.313,
          0.314,
          0.315,
          0.316,
          0.317,
          0.318,
          0.319,
          0.32,
          0.321,
          0.322,
          0.323,
          0.324,
          0.325,
          0.326,
          0.327,
          0.328,
          0.329,
          0.33,
          0.331,
          0.332,
          0.333,
          0.334,
          0.335,
          0.336,
          0.337,
          0.338,
          0.339,
          0.34,
          0.341,
          0.342,
          0.343,
          0.34400000000000003,
          0.34500000000000003,
          0.34600000000000003,
          0.34700000000000003,
          0.34800000000000003,
          0.34900000000000003
         ],
         "xaxis": "x",
         "y": [
          0,
          13.647894469812279,
          13.647894469812279,
          13.647894469812279,
          13.647894469812279,
          13.647894469812279,
          13.647894469812279,
          13.647894469812279,
          13.647894469812279,
          13.647894469812279,
          13.647894469812279,
          13.647894469812279,
          13.647894469812279,
          13.647894469812279,
          13.647894469812279,
          13.647894469812279,
          13.647894469812279,
          13.647894469812279,
          13.647894469812279,
          13.647894469812279,
          13.647894469812279,
          13.698630136986301,
          13.698630136986301,
          13.749365804160325,
          13.749365804160325,
          13.749365804160325,
          13.749365804160325,
          13.749365804160325,
          13.749365804160325,
          13.749365804160325,
          13.749365804160325,
          13.749365804160325,
          13.850837138508371,
          13.850837138508371,
          13.850837138508371,
          13.901572805682395,
          13.952308472856418,
          13.952308472856418,
          13.952308472856418,
          14.104515474378488,
          14.155251141552512,
          14.307458143074582,
          14.307458143074582,
          14.408929477422628,
          14.459665144596652,
          14.459665144596652,
          14.510400811770674,
          14.459665144596652,
          14.408929477422628,
          14.459665144596652,
          14.510400811770674,
          14.61187214611872,
          14.561136478944698,
          14.561136478944698,
          14.713343480466769,
          14.814814814814815,
          14.916286149162861,
          14.865550481988839,
          14.916286149162861,
          15.068493150684931,
          15.119228817858955,
          15.169964485032978,
          15.169964485032978,
          15.271435819381026,
          15.372907153729072,
          15.322171486555048,
          15.322171486555048,
          15.423642820903094,
          15.525114155251142,
          15.575849822425164,
          15.626585489599188,
          15.677321156773212,
          15.728056823947234,
          15.930999492643329,
          15.930999492643329,
          16.0832064941654,
          16.235413495687467,
          16.489091831557584,
          16.641298833079656,
          16.69203450025368,
          16.69203450025368,
          16.69203450025368,
          16.69203450025368,
          16.69203450025368,
          16.996448503297817,
          17.14865550481989,
          16.996448503297817,
          16.894977168949772,
          16.996448503297817,
          16.793505834601724,
          16.894977168949772,
          17.097919837645865,
          17.300862506341957,
          17.402333840690005,
          17.554540842212074,
          17.605276509386098,
          17.80821917808219,
          17.858954845256214,
          18.06189751395231,
          18.21410451547438,
          18.264840182648403,
          18.264840182648403,
          18.41704718417047,
          18.72146118721461,
          18.670725520040587,
          18.569254185692543,
          18.82293252156266,
          19.025875190258752,
          18.975139523084728,
          18.975139523084728,
          18.82293252156266,
          18.670725520040587,
          18.72146118721461,
          18.72146118721461,
          18.772196854388636,
          18.670725520040587,
          18.670725520040587,
          18.41704718417047,
          18.41704718417047,
          18.41704718417047,
          18.467782851344495,
          18.569254185692543,
          18.619989852866563,
          18.51851851851852,
          18.366311516996447,
          18.163368848300355,
          18.11263318112633,
          17.960426179604262,
          17.909690512430238,
          17.909690512430238,
          17.75748351090817,
          17.75748351090817,
          17.858954845256214,
          17.80821917808219,
          18.11263318112633,
          18.06189751395231,
          17.960426179604262,
          17.960426179604262,
          17.858954845256214,
          17.706747843734146,
          17.45306950786403,
          17.300862506341957,
          17.097919837645865,
          16.894977168949772,
          16.996448503297817,
          16.996448503297817,
          16.996448503297817,
          16.894977168949772,
          16.996448503297817,
          16.945712836123796,
          16.793505834601724,
          16.793505834601724,
          16.7427701674277,
          16.336884830035515,
          16.336884830035515,
          16.0832064941654,
          16.0832064941654,
          15.728056823947234,
          15.728056823947234,
          15.372907153729072,
          15.068493150684931,
          14.865550481988839,
          14.713343480466769,
          14.561136478944698,
          14.459665144596652,
          14.155251141552512,
          14.003044140030442,
          13.597158802638255,
          13.444951801116185,
          13.292744799594114,
          12.937595129375952,
          12.886859462201928,
          12.633181126331811,
          12.531709791983765,
          12.531709791983765,
          12.379502790461695,
          12.125824454591578,
          11.973617453069508,
          11.821410451547438,
          11.719939117199392,
          11.415525114155251,
          11.314053779807205,
          11.314053779807205,
          11.161846778285135,
          11.11111111111111,
          10.95890410958904,
          10.705225773718924,
          10.553018772196854,
          10.400811770674784,
          10.197869101978691,
          9.89345509893455,
          9.842719431760528,
          9.58904109589041,
          9.284627092846272,
          9.081684424150177,
          9.030948756976155,
          8.82800608828006,
          8.625063419583968,
          8.52359208523592,
          8.269913749365804,
          8.117706747843734,
          7.711821410451547,
          7.610350076103501,
          7.508878741755454,
          7.30593607305936,
          7.153729071537291,
          7.052257737189244,
          7.001522070015221,
          6.900050735667174,
          6.69710806697108,
          6.646372399797057,
          6.494165398274987,
          6.392694063926941,
          6.341958396752918,
          6.2404870624048705,
          6.139015728056824,
          5.885337392186707,
          5.885337392186707,
          5.733130390664638,
          5.580923389142567,
          5.377980720446474,
          5.276509386098427,
          5.124302384576358,
          4.972095383054287,
          4.972095383054287,
          4.769152714358194,
          4.769152714358194,
          4.667681380010147,
          4.667681380010147,
          4.4647387113140535,
          4.363267376966007,
          4.26179604261796,
          4.26179604261796,
          4.26179604261796,
          3.906646372399797,
          3.8559107052257735,
          3.8051750380517504,
          3.754439370877727,
          3.5514967021816335,
          3.450025367833587,
          3.34855403348554,
          3.145611364789447,
          3.0948756976154237,
          2.9426686960933535,
          2.8919330289193304,
          2.688990360223237,
          2.6382546930492135,
          2.5875190258751903,
          2.5875190258751903,
          2.43531202435312,
          2.3338406900050734,
          2.2831050228310503,
          2.2831050228310503,
          2.2323693556570268,
          2.1816336884830037,
          2.080162354134957,
          2.080162354134957,
          2.0294266869609334,
          2.0294266869609334,
          2.0294266869609334,
          1.9279553526128868,
          1.9279553526128868,
          1.8772196854388634,
          1.82648401826484,
          1.7757483510908167,
          1.7757483510908167,
          1.7757483510908167,
          1.7250126839167934,
          1.7250126839167934,
          1.5728056823947234,
          1.5220700152207,
          1.4713343480466767,
          1.4205986808726534,
          1.4205986808726534,
          1.36986301369863,
          1.3191273465246067,
          1.2683916793505834,
          1.21765601217656,
          1.21765601217656,
          1.21765601217656,
          1.1669203450025367,
          1.1161846778285134,
          1.0147133434804667,
          0.9639776763064434,
          0.9639776763064434,
          0.91324200913242,
          0.8117706747843734,
          0.8117706747843734,
          0.8117706747843734,
          0.8117706747843734,
          0.6595636732623034,
          0.6595636732623034,
          0.6595636732623034,
          0.6595636732623034,
          0.6595636732623034,
          0.5580923389142567,
          0.5073566717402334,
          0.45662100456621,
          0.4058853373921867,
          0.4058853373921867,
          0.4058853373921867,
          0.4058853373921867,
          0.35514967021816335,
          0.35514967021816335,
          0.35514967021816335,
          0.35514967021816335,
          0.35514967021816335,
          0.35514967021816335,
          0.35514967021816335,
          0.30441400304414,
          0.30441400304414,
          0.2536783358701167,
          0.2536783358701167,
          0.2536783358701167,
          0.2536783358701167,
          0.2536783358701167,
          0.2536783358701167,
          0.20294266869609334,
          0.20294266869609334,
          0.20294266869609334,
          0.20294266869609334,
          0.20294266869609334,
          0.20294266869609334,
          0.10147133434804667,
          0.10147133434804667,
          0.10147133434804667,
          0.050735667174023336,
          0.050735667174023336,
          0.050735667174023336,
          0.050735667174023336,
          0,
          0,
          0,
          0,
          0,
          0,
          0,
          0,
          0,
          0,
          0,
          0,
          0,
          0,
          0,
          0,
          0,
          0,
          0,
          0
         ],
         "yaxis": "y"
        },
        {
         "fillpattern": {
          "shape": ""
         },
         "hovertemplate": "number of topics=4<br>threshold=%{x}<br>share of reviews, %=%{y}<extra></extra>",
         "legendgroup": "4",
         "line": {
          "color": "rgb(34,94,168)"
         },
         "marker": {
          "symbol": "circle"
         },
         "mode": "lines",
         "name": "4",
         "orientation": "v",
         "showlegend": true,
         "stackgroup": "1",
         "type": "scatter",
         "x": [
          0,
          0.001,
          0.002,
          0.003,
          0.004,
          0.005,
          0.006,
          0.007,
          0.008,
          0.009000000000000001,
          0.01,
          0.011,
          0.012,
          0.013000000000000001,
          0.014,
          0.015,
          0.016,
          0.017,
          0.018000000000000002,
          0.019,
          0.02,
          0.021,
          0.022,
          0.023,
          0.024,
          0.025,
          0.026000000000000002,
          0.027,
          0.028,
          0.029,
          0.03,
          0.031,
          0.032,
          0.033,
          0.034,
          0.035,
          0.036000000000000004,
          0.037,
          0.038,
          0.039,
          0.04,
          0.041,
          0.042,
          0.043000000000000003,
          0.044,
          0.045,
          0.046,
          0.047,
          0.048,
          0.049,
          0.05,
          0.051000000000000004,
          0.052000000000000005,
          0.053,
          0.054,
          0.055,
          0.056,
          0.057,
          0.058,
          0.059000000000000004,
          0.06,
          0.061,
          0.062,
          0.063,
          0.064,
          0.065,
          0.066,
          0.067,
          0.068,
          0.069,
          0.07,
          0.07100000000000001,
          0.07200000000000001,
          0.073,
          0.074,
          0.075,
          0.076,
          0.077,
          0.078,
          0.079,
          0.08,
          0.081,
          0.082,
          0.083,
          0.084,
          0.085,
          0.08600000000000001,
          0.08700000000000001,
          0.088,
          0.089,
          0.09,
          0.091,
          0.092,
          0.093,
          0.094,
          0.095,
          0.096,
          0.097,
          0.098,
          0.099,
          0.1,
          0.101,
          0.10200000000000001,
          0.10300000000000001,
          0.10400000000000001,
          0.105,
          0.106,
          0.107,
          0.108,
          0.109,
          0.11,
          0.111,
          0.112,
          0.113,
          0.114,
          0.115,
          0.116,
          0.117,
          0.11800000000000001,
          0.11900000000000001,
          0.12,
          0.121,
          0.122,
          0.123,
          0.124,
          0.125,
          0.126,
          0.127,
          0.128,
          0.129,
          0.13,
          0.131,
          0.132,
          0.133,
          0.134,
          0.135,
          0.136,
          0.137,
          0.138,
          0.139,
          0.14,
          0.14100000000000001,
          0.14200000000000002,
          0.14300000000000002,
          0.14400000000000002,
          0.145,
          0.146,
          0.147,
          0.148,
          0.149,
          0.15,
          0.151,
          0.152,
          0.153,
          0.154,
          0.155,
          0.156,
          0.157,
          0.158,
          0.159,
          0.16,
          0.161,
          0.162,
          0.163,
          0.164,
          0.165,
          0.166,
          0.167,
          0.168,
          0.169,
          0.17,
          0.171,
          0.17200000000000001,
          0.17300000000000001,
          0.17400000000000002,
          0.17500000000000002,
          0.176,
          0.177,
          0.178,
          0.179,
          0.18,
          0.181,
          0.182,
          0.183,
          0.184,
          0.185,
          0.186,
          0.187,
          0.188,
          0.189,
          0.19,
          0.191,
          0.192,
          0.193,
          0.194,
          0.195,
          0.196,
          0.197,
          0.198,
          0.199,
          0.2,
          0.201,
          0.202,
          0.203,
          0.20400000000000001,
          0.20500000000000002,
          0.20600000000000002,
          0.20700000000000002,
          0.20800000000000002,
          0.209,
          0.21,
          0.211,
          0.212,
          0.213,
          0.214,
          0.215,
          0.216,
          0.217,
          0.218,
          0.219,
          0.22,
          0.221,
          0.222,
          0.223,
          0.224,
          0.225,
          0.226,
          0.227,
          0.228,
          0.229,
          0.23,
          0.231,
          0.232,
          0.233,
          0.234,
          0.23500000000000001,
          0.23600000000000002,
          0.23700000000000002,
          0.23800000000000002,
          0.23900000000000002,
          0.24,
          0.241,
          0.242,
          0.243,
          0.244,
          0.245,
          0.246,
          0.247,
          0.248,
          0.249,
          0.25,
          0.251,
          0.252,
          0.253,
          0.254,
          0.255,
          0.256,
          0.257,
          0.258,
          0.259,
          0.26,
          0.261,
          0.262,
          0.263,
          0.264,
          0.265,
          0.266,
          0.267,
          0.268,
          0.269,
          0.27,
          0.271,
          0.272,
          0.273,
          0.274,
          0.275,
          0.276,
          0.277,
          0.278,
          0.279,
          0.28,
          0.281,
          0.28200000000000003,
          0.28300000000000003,
          0.28400000000000003,
          0.28500000000000003,
          0.28600000000000003,
          0.28700000000000003,
          0.28800000000000003,
          0.289,
          0.29,
          0.291,
          0.292,
          0.293,
          0.294,
          0.295,
          0.296,
          0.297,
          0.298,
          0.299,
          0.3,
          0.301,
          0.302,
          0.303,
          0.304,
          0.305,
          0.306,
          0.307,
          0.308,
          0.309,
          0.31,
          0.311,
          0.312,
          0.313,
          0.314,
          0.315,
          0.316,
          0.317,
          0.318,
          0.319,
          0.32,
          0.321,
          0.322,
          0.323,
          0.324,
          0.325,
          0.326,
          0.327,
          0.328,
          0.329,
          0.33,
          0.331,
          0.332,
          0.333,
          0.334,
          0.335,
          0.336,
          0.337,
          0.338,
          0.339,
          0.34,
          0.341,
          0.342,
          0.343,
          0.34400000000000003,
          0.34500000000000003,
          0.34600000000000003,
          0.34700000000000003,
          0.34800000000000003,
          0.34900000000000003
         ],
         "xaxis": "x",
         "y": [
          0,
          8.980213089802131,
          8.980213089802131,
          8.980213089802131,
          8.980213089802131,
          8.980213089802131,
          8.980213089802131,
          8.980213089802131,
          8.980213089802131,
          8.980213089802131,
          8.980213089802131,
          8.980213089802131,
          8.980213089802131,
          8.980213089802131,
          8.980213089802131,
          8.980213089802131,
          8.980213089802131,
          8.980213089802131,
          8.980213089802131,
          8.980213089802131,
          8.980213089802131,
          8.980213089802131,
          9.030948756976155,
          8.980213089802131,
          9.081684424150177,
          9.183155758498224,
          9.183155758498224,
          9.183155758498224,
          9.284627092846272,
          9.284627092846272,
          9.335362760020294,
          9.335362760020294,
          9.335362760020294,
          9.386098427194318,
          9.436834094368342,
          9.436834094368342,
          9.538305428716388,
          9.538305428716388,
          9.538305428716388,
          9.436834094368342,
          9.58904109589041,
          9.58904109589041,
          9.639776763064434,
          9.58904109589041,
          9.58904109589041,
          9.791983764586504,
          9.842719431760528,
          9.842719431760528,
          9.89345509893455,
          9.89345509893455,
          9.994926433282597,
          10.147133434804667,
          10.147133434804667,
          10.147133434804667,
          10.248604769152715,
          10.147133434804667,
          10.248604769152715,
          10.350076103500761,
          10.400811770674784,
          10.248604769152715,
          10.147133434804667,
          9.994926433282597,
          10.045662100456621,
          9.944190766108575,
          9.842719431760528,
          9.842719431760528,
          9.89345509893455,
          9.89345509893455,
          9.944190766108575,
          9.944190766108575,
          9.994926433282597,
          10.096397767630645,
          10.096397767630645,
          9.994926433282597,
          9.944190766108575,
          9.944190766108575,
          9.89345509893455,
          9.690512430238458,
          9.538305428716388,
          9.436834094368342,
          9.487569761542364,
          9.58904109589041,
          9.538305428716388,
          9.58904109589041,
          9.436834094368342,
          9.538305428716388,
          9.58904109589041,
          9.58904109589041,
          9.639776763064434,
          9.639776763064434,
          9.58904109589041,
          9.487569761542364,
          9.386098427194318,
          9.284627092846272,
          9.183155758498224,
          9.081684424150177,
          9.233891425672248,
          9.183155758498224,
          8.878741755454085,
          8.82800608828006,
          8.726534753932015,
          8.878741755454085,
          8.777270421106037,
          8.320649416539828,
          8.117706747843734,
          8.066971080669711,
          7.864028411973617,
          7.711821410451547,
          7.610350076103501,
          7.407407407407407,
          7.356671740233384,
          7.407407407407407,
          7.30593607305936,
          7.204464738711314,
          7.102993404363267,
          7.204464738711314,
          7.30593607305936,
          7.356671740233384,
          7.255200405885337,
          7.153729071537291,
          7.052257737189244,
          6.8493150684931505,
          6.646372399797057,
          6.544901065449011,
          6.494165398274987,
          6.291222729578894,
          6.189751395230847,
          6.2404870624048705,
          6.189751395230847,
          6.189751395230847,
          6.0882800608828,
          5.986808726534754,
          5.783866057838661,
          5.682394723490614,
          5.124302384576358,
          4.87062404870624,
          4.718417047184171,
          4.4647387113140535,
          4.312531709791984,
          4.211060375443937,
          4.211060375443937,
          4.160324708269914,
          4.160324708269914,
          4.058853373921867,
          3.8559107052257735,
          3.7037037037037037,
          3.602232369355657,
          3.5007610350076104,
          3.297818366311517,
          3.1963470319634704,
          3.145611364789447,
          3.0948756976154237,
          2.993404363267377,
          3.0441400304414,
          2.841197361745307,
          2.688990360223237,
          2.536783358701167,
          2.4860476915271437,
          2.384576357179097,
          2.3338406900050734,
          2.2323693556570268,
          2.2323693556570268,
          2.080162354134957,
          2.13089802130898,
          2.13089802130898,
          2.0294266869609334,
          1.97869101978691,
          1.97869101978691,
          1.8772196854388634,
          1.82648401826484,
          1.82648401826484,
          1.67427701674277,
          1.6235413495687467,
          1.6235413495687467,
          1.5220700152207,
          1.5220700152207,
          1.5220700152207,
          1.4713343480466767,
          1.4713343480466767,
          1.4713343480466767,
          1.4713343480466767,
          1.4205986808726534,
          1.3191273465246067,
          1.21765601217656,
          1.21765601217656,
          1.1161846778285134,
          1.06544901065449,
          1.0147133434804667,
          1.0147133434804667,
          0.9639776763064434,
          0.91324200913242,
          0.8117706747843734,
          0.8117706747843734,
          0.76103500761035,
          0.76103500761035,
          0.76103500761035,
          0.76103500761035,
          0.76103500761035,
          0.76103500761035,
          0.7102993404363267,
          0.60882800608828,
          0.60882800608828,
          0.5073566717402334,
          0.5073566717402334,
          0.5073566717402334,
          0.45662100456621,
          0.4058853373921867,
          0.35514967021816335,
          0.35514967021816335,
          0.2536783358701167,
          0.20294266869609334,
          0.20294266869609334,
          0.15220700152207,
          0.15220700152207,
          0.15220700152207,
          0.15220700152207,
          0.15220700152207,
          0.15220700152207,
          0.15220700152207,
          0.15220700152207,
          0.15220700152207,
          0.15220700152207,
          0.15220700152207,
          0.15220700152207,
          0.050735667174023336,
          0.050735667174023336,
          0.050735667174023336,
          0.050735667174023336,
          0.050735667174023336,
          0.050735667174023336,
          0.050735667174023336,
          0.050735667174023336,
          0.050735667174023336,
          0.050735667174023336,
          0.050735667174023336,
          0.050735667174023336,
          0.050735667174023336,
          0.050735667174023336,
          0,
          0,
          0,
          0,
          0,
          0,
          0,
          0,
          0,
          0,
          0,
          0,
          0,
          0,
          0,
          0,
          0,
          0,
          0,
          0,
          0,
          0,
          0,
          0,
          0,
          0,
          0,
          0,
          0,
          0,
          0,
          0,
          0,
          0,
          0,
          0,
          0,
          0,
          0,
          0,
          0,
          0,
          0,
          0,
          0,
          0,
          0,
          0,
          0,
          0,
          0,
          0,
          0,
          0,
          0,
          0,
          0,
          0,
          0,
          0,
          0,
          0,
          0,
          0,
          0,
          0,
          0,
          0,
          0,
          0,
          0,
          0,
          0,
          0,
          0,
          0,
          0,
          0,
          0,
          0,
          0,
          0,
          0,
          0,
          0,
          0,
          0,
          0,
          0,
          0,
          0,
          0,
          0,
          0,
          0,
          0,
          0,
          0,
          0,
          0,
          0,
          0,
          0,
          0,
          0,
          0,
          0,
          0,
          0,
          0,
          0,
          0
         ],
         "yaxis": "y"
        },
        {
         "fillpattern": {
          "shape": ""
         },
         "hovertemplate": "number of topics=5+<br>threshold=%{x}<br>share of reviews, %=%{y}<extra></extra>",
         "legendgroup": "5+",
         "line": {
          "color": "rgb(37,52,148)"
         },
         "marker": {
          "symbol": "circle"
         },
         "mode": "lines",
         "name": "5+",
         "orientation": "v",
         "showlegend": true,
         "stackgroup": "1",
         "type": "scatter",
         "x": [
          0,
          0.001,
          0.002,
          0.003,
          0.004,
          0.005,
          0.006,
          0.007,
          0.008,
          0.009000000000000001,
          0.01,
          0.011,
          0.012,
          0.013000000000000001,
          0.014,
          0.015,
          0.016,
          0.017,
          0.018000000000000002,
          0.019,
          0.02,
          0.021,
          0.022,
          0.023,
          0.024,
          0.025,
          0.026000000000000002,
          0.027,
          0.028,
          0.029,
          0.03,
          0.031,
          0.032,
          0.033,
          0.034,
          0.035,
          0.036000000000000004,
          0.037,
          0.038,
          0.039,
          0.04,
          0.041,
          0.042,
          0.043000000000000003,
          0.044,
          0.045,
          0.046,
          0.047,
          0.048,
          0.049,
          0.05,
          0.051000000000000004,
          0.052000000000000005,
          0.053,
          0.054,
          0.055,
          0.056,
          0.057,
          0.058,
          0.059000000000000004,
          0.06,
          0.061,
          0.062,
          0.063,
          0.064,
          0.065,
          0.066,
          0.067,
          0.068,
          0.069,
          0.07,
          0.07100000000000001,
          0.07200000000000001,
          0.073,
          0.074,
          0.075,
          0.076,
          0.077,
          0.078,
          0.079,
          0.08,
          0.081,
          0.082,
          0.083,
          0.084,
          0.085,
          0.08600000000000001,
          0.08700000000000001,
          0.088,
          0.089,
          0.09,
          0.091,
          0.092,
          0.093,
          0.094,
          0.095,
          0.096,
          0.097,
          0.098,
          0.099,
          0.1,
          0.101,
          0.10200000000000001,
          0.10300000000000001,
          0.10400000000000001,
          0.105,
          0.106,
          0.107,
          0.108,
          0.109,
          0.11,
          0.111,
          0.112,
          0.113,
          0.114,
          0.115,
          0.116,
          0.117,
          0.11800000000000001,
          0.11900000000000001,
          0.12,
          0.121,
          0.122,
          0.123,
          0.124,
          0.125,
          0.126,
          0.127,
          0.128,
          0.129,
          0.13,
          0.131,
          0.132,
          0.133,
          0.134,
          0.135,
          0.136,
          0.137,
          0.138,
          0.139,
          0.14,
          0.14100000000000001,
          0.14200000000000002,
          0.14300000000000002,
          0.14400000000000002,
          0.145,
          0.146,
          0.147,
          0.148,
          0.149,
          0.15,
          0.151,
          0.152,
          0.153,
          0.154,
          0.155,
          0.156,
          0.157,
          0.158,
          0.159,
          0.16,
          0.161,
          0.162,
          0.163,
          0.164,
          0.165,
          0.166,
          0.167,
          0.168,
          0.169,
          0.17,
          0.171,
          0.17200000000000001,
          0.17300000000000001,
          0.17400000000000002,
          0.17500000000000002,
          0.176,
          0.177,
          0.178,
          0.179,
          0.18,
          0.181,
          0.182,
          0.183,
          0.184,
          0.185,
          0.186,
          0.187,
          0.188,
          0.189,
          0.19,
          0.191,
          0.192,
          0.193,
          0.194,
          0.195,
          0.196,
          0.197,
          0.198,
          0.199,
          0.2,
          0.201,
          0.202,
          0.203,
          0.20400000000000001,
          0.20500000000000002,
          0.20600000000000002,
          0.20700000000000002,
          0.20800000000000002,
          0.209,
          0.21,
          0.211,
          0.212,
          0.213,
          0.214,
          0.215,
          0.216,
          0.217,
          0.218,
          0.219,
          0.22,
          0.221,
          0.222,
          0.223,
          0.224,
          0.225,
          0.226,
          0.227,
          0.228,
          0.229,
          0.23,
          0.231,
          0.232,
          0.233,
          0.234,
          0.23500000000000001,
          0.23600000000000002,
          0.23700000000000002,
          0.23800000000000002,
          0.23900000000000002,
          0.24,
          0.241,
          0.242,
          0.243,
          0.244,
          0.245,
          0.246,
          0.247,
          0.248,
          0.249,
          0.25,
          0.251,
          0.252,
          0.253,
          0.254,
          0.255,
          0.256,
          0.257,
          0.258,
          0.259,
          0.26,
          0.261,
          0.262,
          0.263,
          0.264,
          0.265,
          0.266,
          0.267,
          0.268,
          0.269,
          0.27,
          0.271,
          0.272,
          0.273,
          0.274,
          0.275,
          0.276,
          0.277,
          0.278,
          0.279,
          0.28,
          0.281,
          0.28200000000000003,
          0.28300000000000003,
          0.28400000000000003,
          0.28500000000000003,
          0.28600000000000003,
          0.28700000000000003,
          0.28800000000000003,
          0.289,
          0.29,
          0.291,
          0.292,
          0.293,
          0.294,
          0.295,
          0.296,
          0.297,
          0.298,
          0.299,
          0.3,
          0.301,
          0.302,
          0.303,
          0.304,
          0.305,
          0.306,
          0.307,
          0.308,
          0.309,
          0.31,
          0.311,
          0.312,
          0.313,
          0.314,
          0.315,
          0.316,
          0.317,
          0.318,
          0.319,
          0.32,
          0.321,
          0.322,
          0.323,
          0.324,
          0.325,
          0.326,
          0.327,
          0.328,
          0.329,
          0.33,
          0.331,
          0.332,
          0.333,
          0.334,
          0.335,
          0.336,
          0.337,
          0.338,
          0.339,
          0.34,
          0.341,
          0.342,
          0.343,
          0.34400000000000003,
          0.34500000000000003,
          0.34600000000000003,
          0.34700000000000003,
          0.34800000000000003,
          0.34900000000000003
         ],
         "xaxis": "x",
         "y": [
          100,
          10.096397767630645,
          10.096397767630645,
          10.096397767630645,
          10.096397767630645,
          10.096397767630645,
          10.096397767630645,
          10.096397767630645,
          10.096397767630645,
          10.096397767630645,
          10.096397767630645,
          10.096397767630645,
          10.096397767630645,
          10.096397767630645,
          10.096397767630645,
          10.096397767630645,
          10.096397767630645,
          10.096397767630645,
          10.096397767630645,
          10.096397767630645,
          10.096397767630645,
          10.045662100456621,
          9.994926433282597,
          9.994926433282597,
          9.89345509893455,
          9.791983764586504,
          9.791983764586504,
          9.791983764586504,
          9.690512430238458,
          9.690512430238458,
          9.639776763064434,
          9.639776763064434,
          9.538305428716388,
          9.487569761542364,
          9.386098427194318,
          9.335362760020294,
          9.183155758498224,
          9.183155758498224,
          9.132420091324201,
          9.081684424150177,
          8.878741755454085,
          8.67579908675799,
          8.574327752409944,
          8.52359208523592,
          8.472856418061898,
          8.269913749365804,
          8.168442415017758,
          8.168442415017758,
          8.117706747843734,
          8.066971080669711,
          7.91476407914764,
          7.661085743277524,
          7.610350076103501,
          7.508878741755454,
          7.255200405885337,
          7.255200405885337,
          7.052257737189244,
          6.900050735667174,
          6.747843734145104,
          6.747843734145104,
          6.69710806697108,
          6.646372399797057,
          6.544901065449011,
          6.494165398274987,
          6.494165398274987,
          6.392694063926941,
          6.291222729578894,
          6.189751395230847,
          6.037544393708777,
          5.986808726534754,
          5.834601725012684,
          5.682394723490614,
          5.6316590563165905,
          5.530187721968544,
          5.47945205479452,
          5.327245053272451,
          5.175038051750381,
          5.073566717402334,
          5.0228310502283104,
          5.0228310502283104,
          4.87062404870624,
          4.769152714358194,
          4.769152714358194,
          4.667681380010147,
          4.5154743784880775,
          4.160324708269914,
          4.058853373921867,
          4.008117706747844,
          3.8559107052257735,
          3.8051750380517504,
          3.7037037037037037,
          3.5514967021816335,
          3.3992897006595637,
          3.297818366311517,
          3.1963470319634704,
          3.1963470319634704,
          2.7904616945712837,
          2.7904616945712837,
          2.6382546930492135,
          2.4860476915271437,
          2.4860476915271437,
          2.2831050228310503,
          2.2323693556570268,
          2.1816336884830037,
          2.13089802130898,
          2.080162354134957,
          1.97869101978691,
          1.82648401826484,
          1.82648401826484,
          1.82648401826484,
          1.7757483510908167,
          1.67427701674277,
          1.5220700152207,
          1.5220700152207,
          1.4713343480466767,
          1.3191273465246067,
          1.21765601217656,
          1.1161846778285134,
          1.06544901065449,
          1.0147133434804667,
          0.9639776763064434,
          0.91324200913242,
          0.91324200913242,
          0.91324200913242,
          0.8625063419583967,
          0.8117706747843734,
          0.76103500761035,
          0.60882800608828,
          0.60882800608828,
          0.5073566717402334,
          0.5073566717402334,
          0.45662100456621,
          0.45662100456621,
          0.4058853373921867,
          0.4058853373921867,
          0.35514967021816335,
          0.35514967021816335,
          0.35514967021816335,
          0.35514967021816335,
          0.30441400304414,
          0.30441400304414,
          0.2536783358701167,
          0.2536783358701167,
          0.2536783358701167,
          0.2536783358701167,
          0.2536783358701167,
          0.2536783358701167,
          0.2536783358701167,
          0.2536783358701167,
          0.2536783358701167,
          0.2536783358701167,
          0.20294266869609334,
          0.15220700152207,
          0.10147133434804667,
          0.10147133434804667,
          0.050735667174023336,
          0.050735667174023336,
          0.050735667174023336,
          0.050735667174023336,
          0.050735667174023336,
          0.050735667174023336,
          0.050735667174023336,
          0.050735667174023336,
          0,
          0,
          0,
          0,
          0,
          0,
          0,
          0,
          0,
          0,
          0,
          0,
          0,
          0,
          0,
          0,
          0,
          0,
          0,
          0,
          0,
          0,
          0,
          0,
          0,
          0,
          0,
          0,
          0,
          0,
          0,
          0,
          0,
          0,
          0,
          0,
          0,
          0,
          0,
          0,
          0,
          0,
          0,
          0,
          0,
          0,
          0,
          0,
          0,
          0,
          0,
          0,
          0,
          0,
          0,
          0,
          0,
          0,
          0,
          0,
          0,
          0,
          0,
          0,
          0,
          0,
          0,
          0,
          0,
          0,
          0,
          0,
          0,
          0,
          0,
          0,
          0,
          0,
          0,
          0,
          0,
          0,
          0,
          0,
          0,
          0,
          0,
          0,
          0,
          0,
          0,
          0,
          0,
          0,
          0,
          0,
          0,
          0,
          0,
          0,
          0,
          0,
          0,
          0,
          0,
          0,
          0,
          0,
          0,
          0,
          0,
          0,
          0,
          0,
          0,
          0,
          0,
          0,
          0,
          0,
          0,
          0,
          0,
          0,
          0,
          0,
          0,
          0,
          0,
          0,
          0,
          0,
          0,
          0,
          0,
          0,
          0,
          0,
          0,
          0,
          0,
          0,
          0,
          0,
          0,
          0,
          0,
          0,
          0,
          0,
          0,
          0,
          0,
          0,
          0,
          0,
          0,
          0,
          0,
          0,
          0,
          0,
          0,
          0,
          0,
          0,
          0,
          0,
          0,
          0,
          0,
          0,
          0,
          0,
          0,
          0,
          0,
          0,
          0,
          0,
          0,
          0,
          0,
          0,
          0,
          0,
          0
         ],
         "yaxis": "y"
        }
       ],
       "layout": {
        "legend": {
         "title": {
          "text": "number of topics"
         },
         "tracegroupgap": 0
        },
        "template": {
         "data": {
          "bar": [
           {
            "error_x": {
             "color": "#2a3f5f"
            },
            "error_y": {
             "color": "#2a3f5f"
            },
            "marker": {
             "line": {
              "color": "#E5ECF6",
              "width": 0.5
             },
             "pattern": {
              "fillmode": "overlay",
              "size": 10,
              "solidity": 0.2
             }
            },
            "type": "bar"
           }
          ],
          "barpolar": [
           {
            "marker": {
             "line": {
              "color": "#E5ECF6",
              "width": 0.5
             },
             "pattern": {
              "fillmode": "overlay",
              "size": 10,
              "solidity": 0.2
             }
            },
            "type": "barpolar"
           }
          ],
          "carpet": [
           {
            "aaxis": {
             "endlinecolor": "#2a3f5f",
             "gridcolor": "white",
             "linecolor": "white",
             "minorgridcolor": "white",
             "startlinecolor": "#2a3f5f"
            },
            "baxis": {
             "endlinecolor": "#2a3f5f",
             "gridcolor": "white",
             "linecolor": "white",
             "minorgridcolor": "white",
             "startlinecolor": "#2a3f5f"
            },
            "type": "carpet"
           }
          ],
          "choropleth": [
           {
            "colorbar": {
             "outlinewidth": 0,
             "ticks": ""
            },
            "type": "choropleth"
           }
          ],
          "contour": [
           {
            "colorbar": {
             "outlinewidth": 0,
             "ticks": ""
            },
            "colorscale": [
             [
              0,
              "#0d0887"
             ],
             [
              0.1111111111111111,
              "#46039f"
             ],
             [
              0.2222222222222222,
              "#7201a8"
             ],
             [
              0.3333333333333333,
              "#9c179e"
             ],
             [
              0.4444444444444444,
              "#bd3786"
             ],
             [
              0.5555555555555556,
              "#d8576b"
             ],
             [
              0.6666666666666666,
              "#ed7953"
             ],
             [
              0.7777777777777778,
              "#fb9f3a"
             ],
             [
              0.8888888888888888,
              "#fdca26"
             ],
             [
              1,
              "#f0f921"
             ]
            ],
            "type": "contour"
           }
          ],
          "contourcarpet": [
           {
            "colorbar": {
             "outlinewidth": 0,
             "ticks": ""
            },
            "type": "contourcarpet"
           }
          ],
          "heatmap": [
           {
            "colorbar": {
             "outlinewidth": 0,
             "ticks": ""
            },
            "colorscale": [
             [
              0,
              "#0d0887"
             ],
             [
              0.1111111111111111,
              "#46039f"
             ],
             [
              0.2222222222222222,
              "#7201a8"
             ],
             [
              0.3333333333333333,
              "#9c179e"
             ],
             [
              0.4444444444444444,
              "#bd3786"
             ],
             [
              0.5555555555555556,
              "#d8576b"
             ],
             [
              0.6666666666666666,
              "#ed7953"
             ],
             [
              0.7777777777777778,
              "#fb9f3a"
             ],
             [
              0.8888888888888888,
              "#fdca26"
             ],
             [
              1,
              "#f0f921"
             ]
            ],
            "type": "heatmap"
           }
          ],
          "heatmapgl": [
           {
            "colorbar": {
             "outlinewidth": 0,
             "ticks": ""
            },
            "colorscale": [
             [
              0,
              "#0d0887"
             ],
             [
              0.1111111111111111,
              "#46039f"
             ],
             [
              0.2222222222222222,
              "#7201a8"
             ],
             [
              0.3333333333333333,
              "#9c179e"
             ],
             [
              0.4444444444444444,
              "#bd3786"
             ],
             [
              0.5555555555555556,
              "#d8576b"
             ],
             [
              0.6666666666666666,
              "#ed7953"
             ],
             [
              0.7777777777777778,
              "#fb9f3a"
             ],
             [
              0.8888888888888888,
              "#fdca26"
             ],
             [
              1,
              "#f0f921"
             ]
            ],
            "type": "heatmapgl"
           }
          ],
          "histogram": [
           {
            "marker": {
             "pattern": {
              "fillmode": "overlay",
              "size": 10,
              "solidity": 0.2
             }
            },
            "type": "histogram"
           }
          ],
          "histogram2d": [
           {
            "colorbar": {
             "outlinewidth": 0,
             "ticks": ""
            },
            "colorscale": [
             [
              0,
              "#0d0887"
             ],
             [
              0.1111111111111111,
              "#46039f"
             ],
             [
              0.2222222222222222,
              "#7201a8"
             ],
             [
              0.3333333333333333,
              "#9c179e"
             ],
             [
              0.4444444444444444,
              "#bd3786"
             ],
             [
              0.5555555555555556,
              "#d8576b"
             ],
             [
              0.6666666666666666,
              "#ed7953"
             ],
             [
              0.7777777777777778,
              "#fb9f3a"
             ],
             [
              0.8888888888888888,
              "#fdca26"
             ],
             [
              1,
              "#f0f921"
             ]
            ],
            "type": "histogram2d"
           }
          ],
          "histogram2dcontour": [
           {
            "colorbar": {
             "outlinewidth": 0,
             "ticks": ""
            },
            "colorscale": [
             [
              0,
              "#0d0887"
             ],
             [
              0.1111111111111111,
              "#46039f"
             ],
             [
              0.2222222222222222,
              "#7201a8"
             ],
             [
              0.3333333333333333,
              "#9c179e"
             ],
             [
              0.4444444444444444,
              "#bd3786"
             ],
             [
              0.5555555555555556,
              "#d8576b"
             ],
             [
              0.6666666666666666,
              "#ed7953"
             ],
             [
              0.7777777777777778,
              "#fb9f3a"
             ],
             [
              0.8888888888888888,
              "#fdca26"
             ],
             [
              1,
              "#f0f921"
             ]
            ],
            "type": "histogram2dcontour"
           }
          ],
          "mesh3d": [
           {
            "colorbar": {
             "outlinewidth": 0,
             "ticks": ""
            },
            "type": "mesh3d"
           }
          ],
          "parcoords": [
           {
            "line": {
             "colorbar": {
              "outlinewidth": 0,
              "ticks": ""
             }
            },
            "type": "parcoords"
           }
          ],
          "pie": [
           {
            "automargin": true,
            "type": "pie"
           }
          ],
          "scatter": [
           {
            "fillpattern": {
             "fillmode": "overlay",
             "size": 10,
             "solidity": 0.2
            },
            "type": "scatter"
           }
          ],
          "scatter3d": [
           {
            "line": {
             "colorbar": {
              "outlinewidth": 0,
              "ticks": ""
             }
            },
            "marker": {
             "colorbar": {
              "outlinewidth": 0,
              "ticks": ""
             }
            },
            "type": "scatter3d"
           }
          ],
          "scattercarpet": [
           {
            "marker": {
             "colorbar": {
              "outlinewidth": 0,
              "ticks": ""
             }
            },
            "type": "scattercarpet"
           }
          ],
          "scattergeo": [
           {
            "marker": {
             "colorbar": {
              "outlinewidth": 0,
              "ticks": ""
             }
            },
            "type": "scattergeo"
           }
          ],
          "scattergl": [
           {
            "marker": {
             "colorbar": {
              "outlinewidth": 0,
              "ticks": ""
             }
            },
            "type": "scattergl"
           }
          ],
          "scattermapbox": [
           {
            "marker": {
             "colorbar": {
              "outlinewidth": 0,
              "ticks": ""
             }
            },
            "type": "scattermapbox"
           }
          ],
          "scatterpolar": [
           {
            "marker": {
             "colorbar": {
              "outlinewidth": 0,
              "ticks": ""
             }
            },
            "type": "scatterpolar"
           }
          ],
          "scatterpolargl": [
           {
            "marker": {
             "colorbar": {
              "outlinewidth": 0,
              "ticks": ""
             }
            },
            "type": "scatterpolargl"
           }
          ],
          "scatterternary": [
           {
            "marker": {
             "colorbar": {
              "outlinewidth": 0,
              "ticks": ""
             }
            },
            "type": "scatterternary"
           }
          ],
          "surface": [
           {
            "colorbar": {
             "outlinewidth": 0,
             "ticks": ""
            },
            "colorscale": [
             [
              0,
              "#0d0887"
             ],
             [
              0.1111111111111111,
              "#46039f"
             ],
             [
              0.2222222222222222,
              "#7201a8"
             ],
             [
              0.3333333333333333,
              "#9c179e"
             ],
             [
              0.4444444444444444,
              "#bd3786"
             ],
             [
              0.5555555555555556,
              "#d8576b"
             ],
             [
              0.6666666666666666,
              "#ed7953"
             ],
             [
              0.7777777777777778,
              "#fb9f3a"
             ],
             [
              0.8888888888888888,
              "#fdca26"
             ],
             [
              1,
              "#f0f921"
             ]
            ],
            "type": "surface"
           }
          ],
          "table": [
           {
            "cells": {
             "fill": {
              "color": "#EBF0F8"
             },
             "line": {
              "color": "white"
             }
            },
            "header": {
             "fill": {
              "color": "#C8D4E3"
             },
             "line": {
              "color": "white"
             }
            },
            "type": "table"
           }
          ]
         },
         "layout": {
          "annotationdefaults": {
           "arrowcolor": "#2a3f5f",
           "arrowhead": 0,
           "arrowwidth": 1
          },
          "autotypenumbers": "strict",
          "coloraxis": {
           "colorbar": {
            "outlinewidth": 0,
            "ticks": ""
           }
          },
          "colorscale": {
           "diverging": [
            [
             0,
             "#8e0152"
            ],
            [
             0.1,
             "#c51b7d"
            ],
            [
             0.2,
             "#de77ae"
            ],
            [
             0.3,
             "#f1b6da"
            ],
            [
             0.4,
             "#fde0ef"
            ],
            [
             0.5,
             "#f7f7f7"
            ],
            [
             0.6,
             "#e6f5d0"
            ],
            [
             0.7,
             "#b8e186"
            ],
            [
             0.8,
             "#7fbc41"
            ],
            [
             0.9,
             "#4d9221"
            ],
            [
             1,
             "#276419"
            ]
           ],
           "sequential": [
            [
             0,
             "#0d0887"
            ],
            [
             0.1111111111111111,
             "#46039f"
            ],
            [
             0.2222222222222222,
             "#7201a8"
            ],
            [
             0.3333333333333333,
             "#9c179e"
            ],
            [
             0.4444444444444444,
             "#bd3786"
            ],
            [
             0.5555555555555556,
             "#d8576b"
            ],
            [
             0.6666666666666666,
             "#ed7953"
            ],
            [
             0.7777777777777778,
             "#fb9f3a"
            ],
            [
             0.8888888888888888,
             "#fdca26"
            ],
            [
             1,
             "#f0f921"
            ]
           ],
           "sequentialminus": [
            [
             0,
             "#0d0887"
            ],
            [
             0.1111111111111111,
             "#46039f"
            ],
            [
             0.2222222222222222,
             "#7201a8"
            ],
            [
             0.3333333333333333,
             "#9c179e"
            ],
            [
             0.4444444444444444,
             "#bd3786"
            ],
            [
             0.5555555555555556,
             "#d8576b"
            ],
            [
             0.6666666666666666,
             "#ed7953"
            ],
            [
             0.7777777777777778,
             "#fb9f3a"
            ],
            [
             0.8888888888888888,
             "#fdca26"
            ],
            [
             1,
             "#f0f921"
            ]
           ]
          },
          "colorway": [
           "#636efa",
           "#EF553B",
           "#00cc96",
           "#ab63fa",
           "#FFA15A",
           "#19d3f3",
           "#FF6692",
           "#B6E880",
           "#FF97FF",
           "#FECB52"
          ],
          "font": {
           "color": "#2a3f5f"
          },
          "geo": {
           "bgcolor": "white",
           "lakecolor": "white",
           "landcolor": "#E5ECF6",
           "showlakes": true,
           "showland": true,
           "subunitcolor": "white"
          },
          "hoverlabel": {
           "align": "left"
          },
          "hovermode": "closest",
          "mapbox": {
           "style": "light"
          },
          "paper_bgcolor": "white",
          "plot_bgcolor": "#E5ECF6",
          "polar": {
           "angularaxis": {
            "gridcolor": "white",
            "linecolor": "white",
            "ticks": ""
           },
           "bgcolor": "#E5ECF6",
           "radialaxis": {
            "gridcolor": "white",
            "linecolor": "white",
            "ticks": ""
           }
          },
          "scene": {
           "xaxis": {
            "backgroundcolor": "#E5ECF6",
            "gridcolor": "white",
            "gridwidth": 2,
            "linecolor": "white",
            "showbackground": true,
            "ticks": "",
            "zerolinecolor": "white"
           },
           "yaxis": {
            "backgroundcolor": "#E5ECF6",
            "gridcolor": "white",
            "gridwidth": 2,
            "linecolor": "white",
            "showbackground": true,
            "ticks": "",
            "zerolinecolor": "white"
           },
           "zaxis": {
            "backgroundcolor": "#E5ECF6",
            "gridcolor": "white",
            "gridwidth": 2,
            "linecolor": "white",
            "showbackground": true,
            "ticks": "",
            "zerolinecolor": "white"
           }
          },
          "shapedefaults": {
           "line": {
            "color": "#2a3f5f"
           }
          },
          "ternary": {
           "aaxis": {
            "gridcolor": "white",
            "linecolor": "white",
            "ticks": ""
           },
           "baxis": {
            "gridcolor": "white",
            "linecolor": "white",
            "ticks": ""
           },
           "bgcolor": "#E5ECF6",
           "caxis": {
            "gridcolor": "white",
            "linecolor": "white",
            "ticks": ""
           }
          },
          "title": {
           "x": 0.05
          },
          "xaxis": {
           "automargin": true,
           "gridcolor": "white",
           "linecolor": "white",
           "ticks": "",
           "title": {
            "standoff": 15
           },
           "zerolinecolor": "white",
           "zerolinewidth": 2
          },
          "yaxis": {
           "automargin": true,
           "gridcolor": "white",
           "linecolor": "white",
           "ticks": "",
           "title": {
            "standoff": 15
           },
           "zerolinecolor": "white",
           "zerolinewidth": 2
          }
         }
        },
        "title": {
         "text": "Distribution of number of topics"
        },
        "xaxis": {
         "anchor": "y",
         "domain": [
          0,
          1
         ],
         "title": {
          "text": "threshold"
         }
        },
        "yaxis": {
         "anchor": "x",
         "domain": [
          0,
          1
         ],
         "title": {
          "text": "share of reviews, %"
         }
        }
       }
      }
     },
     "metadata": {},
     "output_type": "display_data"
    }
   ],
   "source": [
    "import tqdm\n",
    "import plotly.express as px\n",
    "\n",
    "tmp_dfs = []\n",
    "\n",
    "# iterating through different threshold levels\n",
    "for thr in tqdm.tqdm(np.arange(0, 0.35, 0.001)):\n",
    "    # calculating number of topics with probability > threshold for each document\n",
    "    tmp_df = pd.DataFrame(list(map(lambda x: len(list(filter(lambda y: y >= thr, x))), topic_distr))).rename(\n",
    "        columns = {0: 'num_topics'}\n",
    "    )\n",
    "    tmp_df['num_docs'] = 1\n",
    "    \n",
    "    tmp_df['num_topics_group'] = tmp_df['num_topics']\\\n",
    "        .map(lambda x: str(x) if x < 5 else '5+')\n",
    "    \n",
    "    # aggregating stats\n",
    "    tmp_df_aggr = tmp_df.groupby('num_topics_group', as_index = False).num_docs.sum()\n",
    "    tmp_df_aggr['threshold'] = thr\n",
    "    \n",
    "    tmp_dfs.append(tmp_df_aggr)\n",
    "\n",
    "num_topics_stats_df = pd.concat(tmp_dfs).pivot(index = 'threshold', \n",
    "                              values = 'num_docs',\n",
    "                              columns = 'num_topics_group').fillna(0)\n",
    "\n",
    "num_topics_stats_df = num_topics_stats_df.apply(lambda x: 100.*x/num_topics_stats_df.sum(axis = 1))\n",
    "\n",
    "# visualisation\n",
    "colormap = px.colors.sequential.YlGnBu\n",
    "px.area(num_topics_stats_df, \n",
    "       title = 'Distribution of number of topics',\n",
    "       labels = {'num_topics_group': 'number of topics',\n",
    "                'value': 'share of reviews, %'},\n",
    "       color_discrete_map = {\n",
    "          '0': colormap[0],\n",
    "          '1': colormap[3],\n",
    "          '2': colormap[4],\n",
    "          '3': colormap[5],\n",
    "          '4': colormap[6],\n",
    "          '5+': colormap[7]\n",
    "      })"
   ]
  },
  {
   "cell_type": "code",
   "execution_count": 28,
   "metadata": {},
   "outputs": [],
   "source": [
    "threshold = 0.35\n",
    "\n",
    "# define topic with probability > 0.13 for each document\n",
    "df['multiple_topics'] = list(map(\n",
    "    lambda doc_topic_distr: list(map(\n",
    "        lambda y: y[0], filter(lambda x: x[1] >= threshold, \n",
    "                               (enumerate(doc_topic_distr)))\n",
    "    )), topic_distr\n",
    "))\n",
    "\n",
    "# creating a dataset with docid, topic\n",
    "tmp_data = []\n",
    "\n",
    "for rec in df.to_dict('records'):\n",
    "    if len(rec['multiple_topics']) != 0:\n",
    "        mult_topics = rec['multiple_topics']\n",
    "    else:\n",
    "        mult_topics = [-1]\n",
    "        \n",
    "    for topic in mult_topics: \n",
    "        tmp_data.append(\n",
    "            {\n",
    "                'topic': topic,\n",
    "                'id': rec['Content'],\n",
    "            }\n",
    "        )\n",
    "            \n",
    "mult_topics_df = pd.DataFrame(tmp_data)"
   ]
  },
  {
   "cell_type": "code",
   "execution_count": null,
   "metadata": {},
   "outputs": [
    {
     "data": {
      "text/html": [
       "<div>\n",
       "<style scoped>\n",
       "    .dataframe tbody tr th:only-of-type {\n",
       "        vertical-align: middle;\n",
       "    }\n",
       "\n",
       "    .dataframe tbody tr th {\n",
       "        vertical-align: top;\n",
       "    }\n",
       "\n",
       "    .dataframe thead th {\n",
       "        text-align: right;\n",
       "    }\n",
       "</style>\n",
       "<table border=\"1\" class=\"dataframe\">\n",
       "  <thead>\n",
       "    <tr style=\"text-align: right;\">\n",
       "      <th></th>\n",
       "      <th>topic</th>\n",
       "      <th>Count</th>\n",
       "      <th>id</th>\n",
       "      <th>Name</th>\n",
       "    </tr>\n",
       "  </thead>\n",
       "  <tbody>\n",
       "    <tr>\n",
       "      <th>0</th>\n",
       "      <td>2</td>\n",
       "      <td>73</td>\n",
       "      <td>the points i think are like meditating.</td>\n",
       "      <td>2_meditation_meditate_meditating_mindfulness</td>\n",
       "    </tr>\n",
       "    <tr>\n",
       "      <th>1</th>\n",
       "      <td>38</td>\n",
       "      <td>15</td>\n",
       "      <td>i had some the gear on me and that was a littl...</td>\n",
       "      <td>38_little_tiny_smaller_less</td>\n",
       "    </tr>\n",
       "    <tr>\n",
       "      <th>2</th>\n",
       "      <td>8</td>\n",
       "      <td>46</td>\n",
       "      <td>and also while i had my eyes closed i could di...</td>\n",
       "      <td>8_reality_vr_illusion_virtual</td>\n",
       "    </tr>\n",
       "    <tr>\n",
       "      <th>3</th>\n",
       "      <td>-1</td>\n",
       "      <td>385</td>\n",
       "      <td>but on the other side while i was watching the...</td>\n",
       "      <td>-1_focus_feeling_watching_thought</td>\n",
       "    </tr>\n",
       "    <tr>\n",
       "      <th>4</th>\n",
       "      <td>4</td>\n",
       "      <td>62</td>\n",
       "      <td>but it was still staying in this room and it w...</td>\n",
       "      <td>4_outside_surrounding_inside_scenery</td>\n",
       "    </tr>\n",
       "    <tr>\n",
       "      <th>...</th>\n",
       "      <td>...</td>\n",
       "      <td>...</td>\n",
       "      <td>...</td>\n",
       "      <td>...</td>\n",
       "    </tr>\n",
       "    <tr>\n",
       "      <th>2251</th>\n",
       "      <td>2</td>\n",
       "      <td>73</td>\n",
       "      <td>to be honest when i was out of my body i was m...</td>\n",
       "      <td>2_meditation_meditate_meditating_mindfulness</td>\n",
       "    </tr>\n",
       "    <tr>\n",
       "      <th>2252</th>\n",
       "      <td>9</td>\n",
       "      <td>43</td>\n",
       "      <td>yeah so it was a better meditating experience.</td>\n",
       "      <td>9_experience_experienced_experientially_learned</td>\n",
       "    </tr>\n",
       "    <tr>\n",
       "      <th>2253</th>\n",
       "      <td>3</td>\n",
       "      <td>73</td>\n",
       "      <td>probably yeah, i think i was less concentrate ...</td>\n",
       "      <td>3_distracted_focus_focused_focusing</td>\n",
       "    </tr>\n",
       "    <tr>\n",
       "      <th>2254</th>\n",
       "      <td>14</td>\n",
       "      <td>33</td>\n",
       "      <td>what was the question about like having three ...</td>\n",
       "      <td>14_three_threebody_third_two</td>\n",
       "    </tr>\n",
       "    <tr>\n",
       "      <th>2255</th>\n",
       "      <td>35</td>\n",
       "      <td>17</td>\n",
       "      <td>no, really i guess it felt kind of similar to ...</td>\n",
       "      <td>35_guess_reaction_clue_case</td>\n",
       "    </tr>\n",
       "  </tbody>\n",
       "</table>\n",
       "<p>2256 rows × 4 columns</p>\n",
       "</div>"
      ],
      "text/plain": [
       "      topic  Count                                                 id  \\\n",
       "0         2     73            the points i think are like meditating.   \n",
       "1        38     15  i had some the gear on me and that was a littl...   \n",
       "2         8     46  and also while i had my eyes closed i could di...   \n",
       "3        -1    385  but on the other side while i was watching the...   \n",
       "4         4     62  but it was still staying in this room and it w...   \n",
       "...     ...    ...                                                ...   \n",
       "2251      2     73  to be honest when i was out of my body i was m...   \n",
       "2252      9     43     yeah so it was a better meditating experience.   \n",
       "2253      3     73  probably yeah, i think i was less concentrate ...   \n",
       "2254     14     33  what was the question about like having three ...   \n",
       "2255     35     17  no, really i guess it felt kind of similar to ...   \n",
       "\n",
       "                                                 Name  \n",
       "0        2_meditation_meditate_meditating_mindfulness  \n",
       "1                         38_little_tiny_smaller_less  \n",
       "2                       8_reality_vr_illusion_virtual  \n",
       "3                   -1_focus_feeling_watching_thought  \n",
       "4                4_outside_surrounding_inside_scenery  \n",
       "...                                               ...  \n",
       "2251     2_meditation_meditate_meditating_mindfulness  \n",
       "2252  9_experience_experienced_experientially_learned  \n",
       "2253              3_distracted_focus_focused_focusing  \n",
       "2254                     14_three_threebody_third_two  \n",
       "2255                      35_guess_reaction_clue_case  \n",
       "\n",
       "[2256 rows x 4 columns]"
      ]
     },
     "execution_count": 29,
     "metadata": {},
     "output_type": "execute_result"
    }
   ],
   "source": [
    "# add topic names\n",
    "mult_topics_df = mult_topics_df.merge(\n",
    "    topic_model.get_topic_info().rename(columns = {'Topic': 'topic'}),\n",
    "    on = 'topic', how = 'left'\n",
    ")\n",
    "\n",
    "mult_topics_df = mult_topics_df[['topic', 'id', 'Name']]\n",
    "mult_topics_df"
   ]
  },
  {
   "cell_type": "code",
   "execution_count": 30,
   "metadata": {},
   "outputs": [
    {
     "data": {
      "text/html": [
       "<div>\n",
       "<style scoped>\n",
       "    .dataframe tbody tr th:only-of-type {\n",
       "        vertical-align: middle;\n",
       "    }\n",
       "\n",
       "    .dataframe tbody tr th {\n",
       "        vertical-align: top;\n",
       "    }\n",
       "\n",
       "    .dataframe thead th {\n",
       "        text-align: right;\n",
       "    }\n",
       "</style>\n",
       "<table border=\"1\" class=\"dataframe\">\n",
       "  <thead>\n",
       "    <tr style=\"text-align: right;\">\n",
       "      <th></th>\n",
       "      <th>topic</th>\n",
       "      <th>Name</th>\n",
       "      <th>Count</th>\n",
       "    </tr>\n",
       "  </thead>\n",
       "  <tbody>\n",
       "    <tr>\n",
       "      <th>0</th>\n",
       "      <td>-1</td>\n",
       "      <td>-1_focus_feeling_watching_thought</td>\n",
       "      <td>293</td>\n",
       "    </tr>\n",
       "    <tr>\n",
       "      <th>1</th>\n",
       "      <td>0</td>\n",
       "      <td>0_thinking_mind_feeling_thought</td>\n",
       "      <td>66</td>\n",
       "    </tr>\n",
       "    <tr>\n",
       "      <th>2</th>\n",
       "      <td>1</td>\n",
       "      <td>1_body_seeing_consciousness_soul</td>\n",
       "      <td>59</td>\n",
       "    </tr>\n",
       "    <tr>\n",
       "      <th>3</th>\n",
       "      <td>2</td>\n",
       "      <td>2_meditation_meditate_meditating_mindfulness</td>\n",
       "      <td>48</td>\n",
       "    </tr>\n",
       "    <tr>\n",
       "      <th>4</th>\n",
       "      <td>3</td>\n",
       "      <td>3_distracted_focus_focused_focusing</td>\n",
       "      <td>70</td>\n",
       "    </tr>\n",
       "    <tr>\n",
       "      <th>5</th>\n",
       "      <td>4</td>\n",
       "      <td>4_outside_surrounding_inside_scenery</td>\n",
       "      <td>53</td>\n",
       "    </tr>\n",
       "    <tr>\n",
       "      <th>6</th>\n",
       "      <td>5</td>\n",
       "      <td>5_eye_closedcircuit_closing_staring</td>\n",
       "      <td>51</td>\n",
       "    </tr>\n",
       "    <tr>\n",
       "      <th>7</th>\n",
       "      <td>6</td>\n",
       "      <td>6_sound_audio_hearing_voice</td>\n",
       "      <td>52</td>\n",
       "    </tr>\n",
       "    <tr>\n",
       "      <th>8</th>\n",
       "      <td>7</td>\n",
       "      <td>7_touch_touched_touching_tapping</td>\n",
       "      <td>44</td>\n",
       "    </tr>\n",
       "    <tr>\n",
       "      <th>9</th>\n",
       "      <td>8</td>\n",
       "      <td>8_reality_vr_illusion_virtual</td>\n",
       "      <td>43</td>\n",
       "    </tr>\n",
       "    <tr>\n",
       "      <th>10</th>\n",
       "      <td>9</td>\n",
       "      <td>9_experience_experienced_experientially_learned</td>\n",
       "      <td>47</td>\n",
       "    </tr>\n",
       "    <tr>\n",
       "      <th>11</th>\n",
       "      <td>10</td>\n",
       "      <td>10_second_third_first_previous</td>\n",
       "      <td>55</td>\n",
       "    </tr>\n",
       "    <tr>\n",
       "      <th>12</th>\n",
       "      <td>11</td>\n",
       "      <td>11_strange_weird_weirdness_unusual</td>\n",
       "      <td>61</td>\n",
       "    </tr>\n",
       "    <tr>\n",
       "      <th>13</th>\n",
       "      <td>12</td>\n",
       "      <td>12_relaxing_relaxed_relax_calming</td>\n",
       "      <td>42</td>\n",
       "    </tr>\n",
       "    <tr>\n",
       "      <th>14</th>\n",
       "      <td>13</td>\n",
       "      <td>13_move_movement_moving_hand</td>\n",
       "      <td>40</td>\n",
       "    </tr>\n",
       "    <tr>\n",
       "      <th>15</th>\n",
       "      <td>14</td>\n",
       "      <td>14_three_threebody_third_two</td>\n",
       "      <td>40</td>\n",
       "    </tr>\n",
       "    <tr>\n",
       "      <th>16</th>\n",
       "      <td>15</td>\n",
       "      <td>15_question_answer_understand_understood</td>\n",
       "      <td>36</td>\n",
       "    </tr>\n",
       "    <tr>\n",
       "      <th>17</th>\n",
       "      <td>16</td>\n",
       "      <td>16_mean_tendency_understand_short</td>\n",
       "      <td>38</td>\n",
       "    </tr>\n",
       "    <tr>\n",
       "      <th>18</th>\n",
       "      <td>17</td>\n",
       "      <td>17_forest_tree_nature_environment</td>\n",
       "      <td>34</td>\n",
       "    </tr>\n",
       "    <tr>\n",
       "      <th>19</th>\n",
       "      <td>18</td>\n",
       "      <td>18_oh_ah__</td>\n",
       "      <td>47</td>\n",
       "    </tr>\n",
       "    <tr>\n",
       "      <th>20</th>\n",
       "      <td>19</td>\n",
       "      <td>19_moment_imagine_mean_dreaming</td>\n",
       "      <td>38</td>\n",
       "    </tr>\n",
       "    <tr>\n",
       "      <th>21</th>\n",
       "      <td>20</td>\n",
       "      <td>20_saw_seen_view_part</td>\n",
       "      <td>32</td>\n",
       "    </tr>\n",
       "    <tr>\n",
       "      <th>22</th>\n",
       "      <td>21</td>\n",
       "      <td>21_say_told_said_tell</td>\n",
       "      <td>39</td>\n",
       "    </tr>\n",
       "    <tr>\n",
       "      <th>23</th>\n",
       "      <td>22</td>\n",
       "      <td>22_would_wouldnt_maybe_might</td>\n",
       "      <td>36</td>\n",
       "    </tr>\n",
       "    <tr>\n",
       "      <th>24</th>\n",
       "      <td>23</td>\n",
       "      <td>23_nice_great_good_cute</td>\n",
       "      <td>43</td>\n",
       "    </tr>\n",
       "    <tr>\n",
       "      <th>25</th>\n",
       "      <td>24</td>\n",
       "      <td>24_come_back_comeback_go</td>\n",
       "      <td>40</td>\n",
       "    </tr>\n",
       "    <tr>\n",
       "      <th>26</th>\n",
       "      <td>25</td>\n",
       "      <td>25_delay_delayed_lag_slow</td>\n",
       "      <td>27</td>\n",
       "    </tr>\n",
       "    <tr>\n",
       "      <th>27</th>\n",
       "      <td>26</td>\n",
       "      <td>26_color_blue_yellow_gray</td>\n",
       "      <td>25</td>\n",
       "    </tr>\n",
       "    <tr>\n",
       "      <th>28</th>\n",
       "      <td>27</td>\n",
       "      <td>27_breathing_breathe_breath_exhale</td>\n",
       "      <td>23</td>\n",
       "    </tr>\n",
       "    <tr>\n",
       "      <th>29</th>\n",
       "      <td>28</td>\n",
       "      <td>28_thing_something_stuff_anything</td>\n",
       "      <td>28</td>\n",
       "    </tr>\n",
       "    <tr>\n",
       "      <th>30</th>\n",
       "      <td>29</td>\n",
       "      <td>29_frightening_fear_scared_anxiety</td>\n",
       "      <td>31</td>\n",
       "    </tr>\n",
       "    <tr>\n",
       "      <th>31</th>\n",
       "      <td>30</td>\n",
       "      <td>30_different_differently_difference_change</td>\n",
       "      <td>37</td>\n",
       "    </tr>\n",
       "    <tr>\n",
       "      <th>32</th>\n",
       "      <td>31</td>\n",
       "      <td>31_easier_easy_difficult_hard</td>\n",
       "      <td>34</td>\n",
       "    </tr>\n",
       "    <tr>\n",
       "      <th>33</th>\n",
       "      <td>32</td>\n",
       "      <td>32_didnt_doesnt_happened_well</td>\n",
       "      <td>31</td>\n",
       "    </tr>\n",
       "    <tr>\n",
       "      <th>34</th>\n",
       "      <td>33</td>\n",
       "      <td>33_image_picture_camera_figure</td>\n",
       "      <td>29</td>\n",
       "    </tr>\n",
       "    <tr>\n",
       "      <th>35</th>\n",
       "      <td>34</td>\n",
       "      <td>34_end_ending_longer_long</td>\n",
       "      <td>34</td>\n",
       "    </tr>\n",
       "    <tr>\n",
       "      <th>36</th>\n",
       "      <td>35</td>\n",
       "      <td>35_guess_reaction_clue_case</td>\n",
       "      <td>28</td>\n",
       "    </tr>\n",
       "    <tr>\n",
       "      <th>37</th>\n",
       "      <td>36</td>\n",
       "      <td>36_fine_ok_good_able</td>\n",
       "      <td>25</td>\n",
       "    </tr>\n",
       "    <tr>\n",
       "      <th>38</th>\n",
       "      <td>37</td>\n",
       "      <td>37_interesting_fascinating_funny_nice</td>\n",
       "      <td>29</td>\n",
       "    </tr>\n",
       "    <tr>\n",
       "      <th>39</th>\n",
       "      <td>38</td>\n",
       "      <td>38_little_tiny_smaller_less</td>\n",
       "      <td>28</td>\n",
       "    </tr>\n",
       "    <tr>\n",
       "      <th>40</th>\n",
       "      <td>39</td>\n",
       "      <td>39_lot_much_total_thing</td>\n",
       "      <td>26</td>\n",
       "    </tr>\n",
       "    <tr>\n",
       "      <th>41</th>\n",
       "      <td>40</td>\n",
       "      <td>40_calm_calmer_clear_</td>\n",
       "      <td>18</td>\n",
       "    </tr>\n",
       "    <tr>\n",
       "      <th>42</th>\n",
       "      <td>41</td>\n",
       "      <td>41_avatar_blinking_eye_flash</td>\n",
       "      <td>18</td>\n",
       "    </tr>\n",
       "    <tr>\n",
       "      <th>43</th>\n",
       "      <td>42</td>\n",
       "      <td>42_sleep_asleep_sleepiness_sleepy</td>\n",
       "      <td>18</td>\n",
       "    </tr>\n",
       "    <tr>\n",
       "      <th>44</th>\n",
       "      <td>43</td>\n",
       "      <td>43_part_whole_briefly_perhaps</td>\n",
       "      <td>30</td>\n",
       "    </tr>\n",
       "    <tr>\n",
       "      <th>45</th>\n",
       "      <td>44</td>\n",
       "      <td>44_identify_identified_identification_recognize</td>\n",
       "      <td>19</td>\n",
       "    </tr>\n",
       "    <tr>\n",
       "      <th>46</th>\n",
       "      <td>45</td>\n",
       "      <td>45_noticed_notice_changed_didnt</td>\n",
       "      <td>16</td>\n",
       "    </tr>\n",
       "    <tr>\n",
       "      <th>47</th>\n",
       "      <td>46</td>\n",
       "      <td>46_im_youre_na_gon</td>\n",
       "      <td>21</td>\n",
       "    </tr>\n",
       "    <tr>\n",
       "      <th>48</th>\n",
       "      <td>47</td>\n",
       "      <td>47_pixelized_pixel_pixelated_hologram</td>\n",
       "      <td>17</td>\n",
       "    </tr>\n",
       "    <tr>\n",
       "      <th>49</th>\n",
       "      <td>48</td>\n",
       "      <td>48_peaceful_peace_sadhguru_emotionally</td>\n",
       "      <td>13</td>\n",
       "    </tr>\n",
       "    <tr>\n",
       "      <th>50</th>\n",
       "      <td>49</td>\n",
       "      <td>49_cool_nice__</td>\n",
       "      <td>18</td>\n",
       "    </tr>\n",
       "    <tr>\n",
       "      <th>51</th>\n",
       "      <td>50</td>\n",
       "      <td>50_sometimes_always_frequently_quite</td>\n",
       "      <td>26</td>\n",
       "    </tr>\n",
       "    <tr>\n",
       "      <th>52</th>\n",
       "      <td>51</td>\n",
       "      <td>51_lighter_heavier_heavy_weight</td>\n",
       "      <td>14</td>\n",
       "    </tr>\n",
       "    <tr>\n",
       "      <th>53</th>\n",
       "      <td>52</td>\n",
       "      <td>52_difference_compare_faster_first</td>\n",
       "      <td>24</td>\n",
       "    </tr>\n",
       "    <tr>\n",
       "      <th>54</th>\n",
       "      <td>53</td>\n",
       "      <td>53_sure_im_course_probable</td>\n",
       "      <td>26</td>\n",
       "    </tr>\n",
       "    <tr>\n",
       "      <th>55</th>\n",
       "      <td>54</td>\n",
       "      <td>54_kind_type_helpful_nonawareness</td>\n",
       "      <td>27</td>\n",
       "    </tr>\n",
       "    <tr>\n",
       "      <th>56</th>\n",
       "      <td>55</td>\n",
       "      <td>55_beginning_start_started_first</td>\n",
       "      <td>25</td>\n",
       "    </tr>\n",
       "    <tr>\n",
       "      <th>57</th>\n",
       "      <td>56</td>\n",
       "      <td>56_exactly_true_yet_otherwise</td>\n",
       "      <td>20</td>\n",
       "    </tr>\n",
       "    <tr>\n",
       "      <th>58</th>\n",
       "      <td>57</td>\n",
       "      <td>57_surroundings_attention_mind_observe</td>\n",
       "      <td>24</td>\n",
       "    </tr>\n",
       "  </tbody>\n",
       "</table>\n",
       "</div>"
      ],
      "text/plain": [
       "    topic                                             Name  Count\n",
       "0      -1                -1_focus_feeling_watching_thought    293\n",
       "1       0                  0_thinking_mind_feeling_thought     66\n",
       "2       1                 1_body_seeing_consciousness_soul     59\n",
       "3       2     2_meditation_meditate_meditating_mindfulness     48\n",
       "4       3              3_distracted_focus_focused_focusing     70\n",
       "5       4             4_outside_surrounding_inside_scenery     53\n",
       "6       5              5_eye_closedcircuit_closing_staring     51\n",
       "7       6                      6_sound_audio_hearing_voice     52\n",
       "8       7                 7_touch_touched_touching_tapping     44\n",
       "9       8                    8_reality_vr_illusion_virtual     43\n",
       "10      9  9_experience_experienced_experientially_learned     47\n",
       "11     10                   10_second_third_first_previous     55\n",
       "12     11               11_strange_weird_weirdness_unusual     61\n",
       "13     12                12_relaxing_relaxed_relax_calming     42\n",
       "14     13                     13_move_movement_moving_hand     40\n",
       "15     14                     14_three_threebody_third_two     40\n",
       "16     15         15_question_answer_understand_understood     36\n",
       "17     16                16_mean_tendency_understand_short     38\n",
       "18     17                17_forest_tree_nature_environment     34\n",
       "19     18                                       18_oh_ah__     47\n",
       "20     19                  19_moment_imagine_mean_dreaming     38\n",
       "21     20                            20_saw_seen_view_part     32\n",
       "22     21                            21_say_told_said_tell     39\n",
       "23     22                     22_would_wouldnt_maybe_might     36\n",
       "24     23                          23_nice_great_good_cute     43\n",
       "25     24                         24_come_back_comeback_go     40\n",
       "26     25                        25_delay_delayed_lag_slow     27\n",
       "27     26                        26_color_blue_yellow_gray     25\n",
       "28     27               27_breathing_breathe_breath_exhale     23\n",
       "29     28                28_thing_something_stuff_anything     28\n",
       "30     29               29_frightening_fear_scared_anxiety     31\n",
       "31     30       30_different_differently_difference_change     37\n",
       "32     31                    31_easier_easy_difficult_hard     34\n",
       "33     32                    32_didnt_doesnt_happened_well     31\n",
       "34     33                   33_image_picture_camera_figure     29\n",
       "35     34                        34_end_ending_longer_long     34\n",
       "36     35                      35_guess_reaction_clue_case     28\n",
       "37     36                             36_fine_ok_good_able     25\n",
       "38     37            37_interesting_fascinating_funny_nice     29\n",
       "39     38                      38_little_tiny_smaller_less     28\n",
       "40     39                          39_lot_much_total_thing     26\n",
       "41     40                            40_calm_calmer_clear_     18\n",
       "42     41                     41_avatar_blinking_eye_flash     18\n",
       "43     42                42_sleep_asleep_sleepiness_sleepy     18\n",
       "44     43                    43_part_whole_briefly_perhaps     30\n",
       "45     44  44_identify_identified_identification_recognize     19\n",
       "46     45                  45_noticed_notice_changed_didnt     16\n",
       "47     46                               46_im_youre_na_gon     21\n",
       "48     47            47_pixelized_pixel_pixelated_hologram     17\n",
       "49     48           48_peaceful_peace_sadhguru_emotionally     13\n",
       "50     49                                   49_cool_nice__     18\n",
       "51     50             50_sometimes_always_frequently_quite     26\n",
       "52     51                  51_lighter_heavier_heavy_weight     14\n",
       "53     52               52_difference_compare_faster_first     24\n",
       "54     53                       53_sure_im_course_probable     26\n",
       "55     54                54_kind_type_helpful_nonawareness     27\n",
       "56     55                 55_beginning_start_started_first     25\n",
       "57     56                    56_exactly_true_yet_otherwise     20\n",
       "58     57           57_surroundings_attention_mind_observe     24"
      ]
     },
     "execution_count": 30,
     "metadata": {},
     "output_type": "execute_result"
    }
   ],
   "source": [
    "# count the number of documents per topic\n",
    "mult_topics_df['Count'] = 1\n",
    "mult_topics_df.groupby(['topic', 'Name'], as_index = False).Count.sum()"
   ]
  },
  {
   "cell_type": "code",
   "execution_count": 34,
   "metadata": {},
   "outputs": [],
   "source": [
    "# see the docs from one specific topic\n",
    "topic_id = 1\n",
    "mult_topics_df[mult_topics_df.topic == topic_id].to_csv(f\"topic_{topic_id}.csv\")"
   ]
  },
  {
   "cell_type": "markdown",
   "metadata": {},
   "source": [
    "# Compute the porportion of topics per participants"
   ]
  },
  {
   "cell_type": "code",
   "execution_count": null,
   "metadata": {},
   "outputs": [],
   "source": [
    "# Assign topics back to the DataFrame\n",
    "df['Topic'] = topics\n",
    "df"
   ]
  },
  {
   "cell_type": "code",
   "execution_count": null,
   "metadata": {},
   "outputs": [],
   "source": [
    "topic_counts = df['Topic'].value_counts().reset_index()\n",
    "topic_counts.columns = ['Topic', 'Count']\n",
    "\n",
    "total_segments = len(df)\n",
    "topic_counts['Proportion'] = topic_counts['Count'] / total_segments"
   ]
  },
  {
   "cell_type": "code",
   "execution_count": null,
   "metadata": {},
   "outputs": [],
   "source": [
    "# Group by 'Id' and 'Topic' to calculate the counts\n",
    "participant_topic_counts = df.groupby(['Id', 'Topic']).size().reset_index(name='Count')\n",
    "\n",
    "# Calculate proportion of each topic for each participant using transform\n",
    "participant_topic_counts['Proportion'] = (\n",
    "    participant_topic_counts.groupby('Id')['Count'].transform(lambda x: x / x.sum())\n",
    ")"
   ]
  }
 ],
 "metadata": {
  "kernelspec": {
   "display_name": "topic",
   "language": "python",
   "name": "python3"
  },
  "language_info": {
   "codemirror_mode": {
    "name": "ipython",
    "version": 3
   },
   "file_extension": ".py",
   "mimetype": "text/x-python",
   "name": "python",
   "nbconvert_exporter": "python",
   "pygments_lexer": "ipython3",
   "version": "3.10.15"
  }
 },
 "nbformat": 4,
 "nbformat_minor": 2
}
