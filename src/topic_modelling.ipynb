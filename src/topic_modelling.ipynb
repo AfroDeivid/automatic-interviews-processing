{
 "cells": [
  {
   "cell_type": "code",
   "execution_count": 1,
   "metadata": {},
   "outputs": [],
   "source": [
    "%load_ext autoreload\n",
    "%autoreload 2"
   ]
  },
  {
   "cell_type": "code",
   "execution_count": 2,
   "metadata": {},
   "outputs": [
    {
     "name": "stderr",
     "output_type": "stream",
     "text": [
      "c:\\Users\\david\\anaconda3\\envs\\topic\\lib\\site-packages\\tqdm\\auto.py:21: TqdmWarning: IProgress not found. Please update jupyter and ipywidgets. See https://ipywidgets.readthedocs.io/en/stable/user_install.html\n",
      "  from .autonotebook import tqdm as notebook_tqdm\n"
     ]
    }
   ],
   "source": [
    "from utils.analysis_helpers import *\n",
    "from bertopic import BERTopic\n",
    "from sklearn.feature_extraction.text import CountVectorizer"
   ]
  },
  {
   "cell_type": "code",
   "execution_count": 3,
   "metadata": {},
   "outputs": [
    {
     "name": "stdout",
     "output_type": "stream",
     "text": [
      "Found 82 CSV files.\n",
      "Standardized speaker labels.\n",
      "Normalized text in 'Content' column.\n",
      "[1 'C' 'I' 0]\n",
      "[1 'C' 'I']\n"
     ]
    }
   ],
   "source": [
    "directory = '../interviews_corrected/6_final/**/' \n",
    "\n",
    "df_all = load_and_combine_csv(directory)\n",
    "df_all = standardize_data(df_all)\n",
    "\n",
    "print(df_all[\"Condition\"].unique())\n",
    "# Drop the rows equal to 0 for the column condition\n",
    "df_all = df_all[df_all[\"Condition\"] != 0]\n",
    "print(df_all[\"Condition\"].unique())"
   ]
  },
  {
   "cell_type": "code",
   "execution_count": 4,
   "metadata": {},
   "outputs": [
    {
     "data": {
      "text/plain": [
       "\"grouped_df = df.groupby(['File Name','utterance_index']).agg({\\n    'preprocessed_content': ' '.join,  # Combine preprocessed text\\n    'Content': ' '.join,  # Combine raw text\\n    'Experiment': 'first',   # Keep the first (consistent if File Name is unique)         \\n}).reset_index()\\ngrouped_df\""
      ]
     },
     "execution_count": 4,
     "metadata": {},
     "output_type": "execute_result"
    }
   ],
   "source": [
    "df = df_all[df_all[\"Speaker\"] == \"Participant\"].copy()\n",
    "#df = df[df[\"Experiment\"] == \"Compassion\"]\n",
    "\n",
    "extra_stopwords = ['yeah', 'yes', 'like', 'you', 'know','really', 'okay','mm', 'one','mean','first']\n",
    "\n",
    "# Preprocess the text\n",
    "df['preprocessed_content'] = df['Content'].apply(lambda x: preprocess_text(x, extra_stopwords=extra_stopwords, ngrams=1))\n",
    "\n",
    "\"\"\"grouped_df = df.groupby(['File Name','utterance_index']).agg({\n",
    "    'preprocessed_content': ' '.join,  # Combine preprocessed text\n",
    "    'Content': ' '.join,  # Combine raw text\n",
    "    'Experiment': 'first',   # Keep the first (consistent if File Name is unique)         \n",
    "}).reset_index()\n",
    "grouped_df\"\"\""
   ]
  },
  {
   "cell_type": "markdown",
   "metadata": {},
   "source": [
    "## Main topic"
   ]
  },
  {
   "cell_type": "code",
   "execution_count": 5,
   "metadata": {},
   "outputs": [
    {
     "name": "stdout",
     "output_type": "stream",
     "text": [
      "2225\n"
     ]
    }
   ],
   "source": [
    "docs = list(df.Content)\n",
    "print(len(docs))"
   ]
  },
  {
   "cell_type": "code",
   "execution_count": 6,
   "metadata": {},
   "outputs": [
    {
     "name": "stderr",
     "output_type": "stream",
     "text": [
      "2024-11-21 13:53:27,652 - BERTopic - Embedding - Transforming documents to embeddings.\n",
      "Batches: 100%|██████████| 70/70 [00:14<00:00,  4.95it/s]\n",
      "2024-11-21 13:53:44,214 - BERTopic - Embedding - Completed ✓\n",
      "2024-11-21 13:53:44,215 - BERTopic - Dimensionality - Fitting the dimensionality reduction algorithm\n",
      "2024-11-21 13:54:04,623 - BERTopic - Dimensionality - Completed ✓\n",
      "2024-11-21 13:54:04,623 - BERTopic - Cluster - Start clustering the reduced embeddings\n",
      "2024-11-21 13:54:04,753 - BERTopic - Cluster - Completed ✓\n",
      "2024-11-21 13:54:04,762 - BERTopic - Representation - Extracting topics from clusters using representation models.\n",
      "2024-11-21 13:54:04,946 - BERTopic - Representation - Completed ✓\n"
     ]
    },
    {
     "data": {
      "text/plain": [
       "48"
      ]
     },
     "execution_count": 6,
     "metadata": {},
     "output_type": "execute_result"
    }
   ],
   "source": [
    "# Hyperparameters\n",
    "vectorizer_model = CountVectorizer(ngram_range=(1, 2))\n",
    "\n",
    "\n",
    "topic_model = BERTopic(vectorizer_model=vectorizer_model, verbose=True)\n",
    "topics, ini_probs = topic_model.fit_transform(docs)\n",
    "num_topics = len(topic_model.get_topics()) - 1\n",
    "num_topics"
   ]
  },
  {
   "cell_type": "code",
   "execution_count": 7,
   "metadata": {},
   "outputs": [
    {
     "data": {
      "text/html": [
       "<div>\n",
       "<style scoped>\n",
       "    .dataframe tbody tr th:only-of-type {\n",
       "        vertical-align: middle;\n",
       "    }\n",
       "\n",
       "    .dataframe tbody tr th {\n",
       "        vertical-align: top;\n",
       "    }\n",
       "\n",
       "    .dataframe thead th {\n",
       "        text-align: right;\n",
       "    }\n",
       "</style>\n",
       "<table border=\"1\" class=\"dataframe\">\n",
       "  <thead>\n",
       "    <tr style=\"text-align: right;\">\n",
       "      <th></th>\n",
       "      <th>Topic</th>\n",
       "      <th>Count</th>\n",
       "      <th>Name</th>\n",
       "      <th>Representation</th>\n",
       "      <th>Representative_Docs</th>\n",
       "    </tr>\n",
       "  </thead>\n",
       "  <tbody>\n",
       "    <tr>\n",
       "      <th>0</th>\n",
       "      <td>-1</td>\n",
       "      <td>746</td>\n",
       "      <td>-1_like_to_the_it</td>\n",
       "      <td>[like, to, the, it, and, was, you, of, that, but]</td>\n",
       "      <td>[and in the second task, in the second meditat...</td>\n",
       "    </tr>\n",
       "    <tr>\n",
       "      <th>1</th>\n",
       "      <td>0</td>\n",
       "      <td>129</td>\n",
       "      <td>0_body_my body_my_felt</td>\n",
       "      <td>[body, my body, my, felt, that, was, like, of,...</td>\n",
       "      <td>[i knew it was my body but i just imagined it ...</td>\n",
       "    </tr>\n",
       "    <tr>\n",
       "      <th>2</th>\n",
       "      <td>1</td>\n",
       "      <td>87</td>\n",
       "      <td>1_forest_the forest_the_in</td>\n",
       "      <td>[forest, the forest, the, in, environment, in ...</td>\n",
       "      <td>[it was so nice to be in the forest., i felt l...</td>\n",
       "    </tr>\n",
       "    <tr>\n",
       "      <th>3</th>\n",
       "      <td>2</td>\n",
       "      <td>63</td>\n",
       "      <td>2_yeah yeah_yeah_so yeah_yeah so</td>\n",
       "      <td>[yeah yeah, yeah, so yeah, yeah so, yeah right...</td>\n",
       "      <td>[yeah, yeah., yeah, yeah., yeah, yeah.]</td>\n",
       "    </tr>\n",
       "    <tr>\n",
       "      <th>4</th>\n",
       "      <td>3</td>\n",
       "      <td>62</td>\n",
       "      <td>3_focus_about_on_distracted</td>\n",
       "      <td>[focus, about, on, distracted, focusing, focus...</td>\n",
       "      <td>[that at some point i forget about my body and...</td>\n",
       "    </tr>\n",
       "  </tbody>\n",
       "</table>\n",
       "</div>"
      ],
      "text/plain": [
       "   Topic  Count                              Name  \\\n",
       "0     -1    746                 -1_like_to_the_it   \n",
       "1      0    129            0_body_my body_my_felt   \n",
       "2      1     87        1_forest_the forest_the_in   \n",
       "3      2     63  2_yeah yeah_yeah_so yeah_yeah so   \n",
       "4      3     62       3_focus_about_on_distracted   \n",
       "\n",
       "                                      Representation  \\\n",
       "0  [like, to, the, it, and, was, you, of, that, but]   \n",
       "1  [body, my body, my, felt, that, was, like, of,...   \n",
       "2  [forest, the forest, the, in, environment, in ...   \n",
       "3  [yeah yeah, yeah, so yeah, yeah so, yeah right...   \n",
       "4  [focus, about, on, distracted, focusing, focus...   \n",
       "\n",
       "                                 Representative_Docs  \n",
       "0  [and in the second task, in the second meditat...  \n",
       "1  [i knew it was my body but i just imagined it ...  \n",
       "2  [it was so nice to be in the forest., i felt l...  \n",
       "3            [yeah, yeah., yeah, yeah., yeah, yeah.]  \n",
       "4  [that at some point i forget about my body and...  "
      ]
     },
     "execution_count": 7,
     "metadata": {},
     "output_type": "execute_result"
    }
   ],
   "source": [
    "topic_model.get_topic_info().to_csv(\"all.csv\")\n",
    "topic_model.get_topic_info().head()"
   ]
  },
  {
   "cell_type": "code",
   "execution_count": 8,
   "metadata": {},
   "outputs": [
    {
     "data": {
      "application/vnd.plotly.v1+json": {
       "config": {
        "plotlyServerURL": "https://plot.ly"
       },
       "data": [
        {
         "marker": {
          "color": "#D55E00"
         },
         "orientation": "h",
         "type": "bar",
         "x": [
          0.012629216383708956,
          0.015165070943558713,
          0.016364150572564785,
          0.016490927652311953,
          0.017315334766316512,
          0.018158620622514485,
          0.01968633290331543,
          0.02322519603809258,
          0.027441123249745188,
          0.038930958431820976
         ],
         "xaxis": "x",
         "y": [
          "in  ",
          "felt like  ",
          "of  ",
          "like  ",
          "was  ",
          "that  ",
          "felt  ",
          "my  ",
          "my body  ",
          "body  "
         ],
         "yaxis": "y"
        },
        {
         "marker": {
          "color": "#0072B2"
         },
         "orientation": "h",
         "type": "bar",
         "x": [
          0.01265178981548684,
          0.013452563254463942,
          0.01432044792606031,
          0.014982479921898509,
          0.016932819796763938,
          0.017105584346495943,
          0.019939932826004866,
          0.028455222461975977,
          0.03416087650683023,
          0.03866480551953525
         ],
         "xaxis": "x2",
         "y": [
          "trees  ",
          "is  ",
          "the environment  ",
          "and  ",
          "in the  ",
          "environment  ",
          "in  ",
          "the  ",
          "the forest  ",
          "forest  "
         ],
         "yaxis": "y2"
        },
        {
         "marker": {
          "color": "#CC79A7"
         },
         "orientation": "h",
         "type": "bar",
         "x": [
          0.04586486885503621,
          0.04586486885503621,
          0.04586486885503621,
          0.04586486885503621,
          0.04586486885503621,
          0.04586486885503621,
          0.05694340601856558,
          0.058959418358225824,
          0.5628507433664648,
          1.0847129176475667
         ],
         "xaxis": "x3",
         "y": [
          "aware yeah  ",
          "basically yeah  ",
          "yeah basically  ",
          "yeah ah  ",
          "right yeah  ",
          "yeah right  ",
          "yeah so  ",
          "so yeah  ",
          "yeah  ",
          "yeah yeah  "
         ],
         "yaxis": "y3"
        },
        {
         "marker": {
          "color": "#E69F00"
         },
         "orientation": "h",
         "type": "bar",
         "x": [
          0.018887784693958826,
          0.018995112611495,
          0.019029638077981324,
          0.019322771607784173,
          0.01943258803025956,
          0.02386913076761888,
          0.02748236043747758,
          0.02903014851662367,
          0.029305372736477892,
          0.032965909371798184
         ],
         "xaxis": "x4",
         "y": [
          "then  ",
          "forget  ",
          "something  ",
          "to  ",
          "focus on  ",
          "focusing  ",
          "distracted  ",
          "on  ",
          "about  ",
          "focus  "
         ],
         "yaxis": "y4"
        },
        {
         "marker": {
          "color": "#56B4E9"
         },
         "orientation": "h",
         "type": "bar",
         "x": [
          0.03448841587542445,
          0.03901346262967616,
          0.039422248178602244,
          0.04956025291323869,
          0.059349069997935384,
          0.059401146496339145,
          0.05957722922182366,
          0.07319160112029689,
          0.07618156715630234,
          0.07989602348542127
         ],
         "xaxis": "x5",
         "y": [
          "second time  ",
          "one was  ",
          "the  ",
          "first one  ",
          "first  ",
          "the first  ",
          "second one  ",
          "the second  ",
          "second  ",
          "one  "
         ],
         "yaxis": "y5"
        },
        {
         "marker": {
          "color": "#009E73"
         },
         "orientation": "h",
         "type": "bar",
         "x": [
          0.0376383256845146,
          0.04140520006472491,
          0.04549310446800792,
          0.048246503718789434,
          0.048246503718789434,
          0.05228879434557746,
          0.05553281323291435,
          0.06911755975487018,
          0.09028753510855772,
          0.09933434531415308
         ],
         "xaxis": "x6",
         "y": [
          "really cool  ",
          "really  ",
          "was really  ",
          "was nice  ",
          "was cool  ",
          "was  ",
          "it  ",
          "it was  ",
          "nice  ",
          "cool  "
         ],
         "yaxis": "y6"
        },
        {
         "marker": {
          "color": "#F0E442"
         },
         "orientation": "h",
         "type": "bar",
         "x": [
          0.01733319668144904,
          0.01736752241102222,
          0.01877672259424567,
          0.024672720751138768,
          0.026505697560526804,
          0.02713648183730186,
          0.03011207839464706,
          0.030399432987263136,
          0.030428981057649036,
          0.044010635423177374
         ],
         "xaxis": "x7",
         "y": [
          "from  ",
          "my  ",
          "from the  ",
          "touching  ",
          "the  ",
          "touched  ",
          "back  ",
          "the touch  ",
          "the back  ",
          "touch  "
         ],
         "yaxis": "y7"
        },
        {
         "marker": {
          "color": "#D55E00"
         },
         "orientation": "h",
         "type": "bar",
         "x": [
          0.02622107780367103,
          0.027211245416592145,
          0.029103486356177946,
          0.030817003278702078,
          0.03391199314782929,
          0.03391199314782929,
          0.03597016590992193,
          0.04030925969258061,
          0.042946023301741375,
          0.0634486236508584
         ],
         "xaxis": "x8",
         "y": [
          "noticed that  ",
          "didnt notice  ",
          "saw it  ",
          "didnt see  ",
          "attention  ",
          "noticed  ",
          "notice  ",
          "saw  ",
          "did  ",
          "didnt  "
         ],
         "yaxis": "y8"
        },
        {
         "marker": {
          "color": "#0072B2"
         },
         "orientation": "h",
         "type": "bar",
         "x": [
          0.0234289620723035,
          0.023902948189445904,
          0.02562018342615705,
          0.026171450169959566,
          0.026171450169959566,
          0.03505509688077841,
          0.03613167266808352,
          0.05193571139051091,
          0.057376259032989936,
          0.08966098238460038
         ],
         "xaxis": "x9",
         "y": [
          "my  ",
          "your eyes  ",
          "close  ",
          "the eyes  ",
          "eyes open  ",
          "eyes closed  ",
          "open  ",
          "my eyes  ",
          "closed  ",
          "eyes  "
         ],
         "yaxis": "y9"
        },
        {
         "marker": {
          "color": "#CC79A7"
         },
         "orientation": "h",
         "type": "bar",
         "x": [
          0.03486784388771379,
          0.036420310318143884,
          0.036420310318143884,
          0.03861403784915367,
          0.039897475932136536,
          0.04101655463191506,
          0.046915201653431785,
          0.0516684461979487,
          0.07857088267759633,
          0.10521123997808916
         ],
         "xaxis": "x10",
         "y": [
          "it  ",
          "very strange  ",
          "bit weird  ",
          "bit  ",
          "was  ",
          "bit strange  ",
          "normal  ",
          "it was  ",
          "weird  ",
          "strange  "
         ],
         "yaxis": "y10"
        },
        {
         "marker": {
          "color": "#E69F00"
         },
         "orientation": "h",
         "type": "bar",
         "x": [
          0.018678983259214473,
          0.01887245202916725,
          0.020177787180733396,
          0.023197598898939784,
          0.023903156584885517,
          0.026083696003127602,
          0.027805164272962434,
          0.03228873910993495,
          0.03463537210319175,
          0.05124315563722427
         ],
         "xaxis": "x11",
         "y": [
          "weird  ",
          "of myself  ",
          "looking at  ",
          "seeing  ",
          "to see  ",
          "looking  ",
          "like  ",
          "see myself  ",
          "see  ",
          "myself  "
         ],
         "yaxis": "y11"
        },
        {
         "marker": {
          "color": "#56B4E9"
         },
         "orientation": "h",
         "type": "bar",
         "x": [
          0.06258916303917117,
          0.06520286420052676,
          0.07333446885485623,
          0.0814775905542408,
          0.0814775905542408,
          0.0814775905542408,
          0.0814775905542408,
          0.0814775905542408,
          0.9044187108502709,
          1.3097242127025206
         ],
         "xaxis": "x12",
         "y": [
          "he said  ",
          "said yes  ",
          "also yes  ",
          "yes he  ",
          "yes only  ",
          "yes also  ",
          "one yes  ",
          "only one  ",
          "yes  ",
          "yes yes  "
         ],
         "yaxis": "y12"
        },
        {
         "marker": {
          "color": "#009E73"
         },
         "orientation": "h",
         "type": "bar",
         "x": [
          0.014313271762715912,
          0.0143143922617639,
          0.014328535043704535,
          0.01505575047124162,
          0.01569118585799315,
          0.015953428646157907,
          0.019874584204476554,
          0.02151778854371659,
          0.050355608299952996,
          0.10176174735424857
         ],
         "xaxis": "x13",
         "y": [
          "brings you  ",
          "like  ",
          "to  ",
          "is  ",
          "think  ",
          "during  ",
          "or  ",
          "the  ",
          "the meditation  ",
          "meditation  "
         ],
         "yaxis": "y13"
        },
        {
         "marker": {
          "color": "#F0E442"
         },
         "orientation": "h",
         "type": "bar",
         "x": [
          0.042401746163584594,
          0.04307756160590728,
          0.04307756160590728,
          0.04841556689078148,
          0.0490361597734143,
          0.050473116215892955,
          0.050473116215892955,
          0.050473116215892955,
          0.07757790753126007,
          0.11957117140013897
         ],
         "xaxis": "x14",
         "y": [
          "say  ",
          "no think  ",
          "answer  ",
          "think  ",
          "have  ",
          "curious  ",
          "question yes  ",
          "have one  ",
          "maybe  ",
          "question  "
         ],
         "yaxis": "y14"
        },
        {
         "marker": {
          "color": "#D55E00"
         },
         "orientation": "h",
         "type": "bar",
         "x": [
          0.021668698339565858,
          0.022179252564126103,
          0.02504982569277002,
          0.026660757521626412,
          0.027479867896917493,
          0.04525351598865559,
          0.04690880730402038,
          0.05338206086137341,
          0.06933535739556458,
          0.07818134550670064
         ],
         "xaxis": "x15",
         "y": [
          "like  ",
          "feel  ",
          "body  ",
          "like had  ",
          "two bodies  ",
          "third  ",
          "two  ",
          "three bodies  ",
          "bodies  ",
          "three  "
         ],
         "yaxis": "y15"
        },
        {
         "marker": {
          "color": "#0072B2"
         },
         "orientation": "h",
         "type": "bar",
         "x": [
          0.06353757061569237,
          0.11437485968188588,
          0.11437485968188588,
          0.11437485968188588,
          0.11437485968188588,
          0.1335689821071378,
          0.19523225168181835,
          0.21725680955938054,
          0.35618395228570077,
          0.4777048791212441
         ],
         "xaxis": "x16",
         "y": [
          "ah still  ",
          "okay ah  ",
          "sorry okay  ",
          "oh okay  ",
          "ah okay  ",
          "yeah okay  ",
          "sorry  ",
          "ah  ",
          "okay okay  ",
          "okay  "
         ],
         "yaxis": "y16"
        }
       ],
       "layout": {
        "annotations": [
         {
          "font": {
           "size": 16
          },
          "showarrow": false,
          "text": "Topic 0",
          "x": 0.0875,
          "xanchor": "center",
          "xref": "paper",
          "y": 1,
          "yanchor": "bottom",
          "yref": "paper"
         },
         {
          "font": {
           "size": 16
          },
          "showarrow": false,
          "text": "Topic 1",
          "x": 0.36250000000000004,
          "xanchor": "center",
          "xref": "paper",
          "y": 1,
          "yanchor": "bottom",
          "yref": "paper"
         },
         {
          "font": {
           "size": 16
          },
          "showarrow": false,
          "text": "Topic 2",
          "x": 0.6375000000000001,
          "xanchor": "center",
          "xref": "paper",
          "y": 1,
          "yanchor": "bottom",
          "yref": "paper"
         },
         {
          "font": {
           "size": 16
          },
          "showarrow": false,
          "text": "Topic 3",
          "x": 0.9125,
          "xanchor": "center",
          "xref": "paper",
          "y": 1,
          "yanchor": "bottom",
          "yref": "paper"
         },
         {
          "font": {
           "size": 16
          },
          "showarrow": false,
          "text": "Topic 4",
          "x": 0.0875,
          "xanchor": "center",
          "xref": "paper",
          "y": 0.7250000000000001,
          "yanchor": "bottom",
          "yref": "paper"
         },
         {
          "font": {
           "size": 16
          },
          "showarrow": false,
          "text": "Topic 5",
          "x": 0.36250000000000004,
          "xanchor": "center",
          "xref": "paper",
          "y": 0.7250000000000001,
          "yanchor": "bottom",
          "yref": "paper"
         },
         {
          "font": {
           "size": 16
          },
          "showarrow": false,
          "text": "Topic 6",
          "x": 0.6375000000000001,
          "xanchor": "center",
          "xref": "paper",
          "y": 0.7250000000000001,
          "yanchor": "bottom",
          "yref": "paper"
         },
         {
          "font": {
           "size": 16
          },
          "showarrow": false,
          "text": "Topic 7",
          "x": 0.9125,
          "xanchor": "center",
          "xref": "paper",
          "y": 0.7250000000000001,
          "yanchor": "bottom",
          "yref": "paper"
         },
         {
          "font": {
           "size": 16
          },
          "showarrow": false,
          "text": "Topic 8",
          "x": 0.0875,
          "xanchor": "center",
          "xref": "paper",
          "y": 0.45,
          "yanchor": "bottom",
          "yref": "paper"
         },
         {
          "font": {
           "size": 16
          },
          "showarrow": false,
          "text": "Topic 9",
          "x": 0.36250000000000004,
          "xanchor": "center",
          "xref": "paper",
          "y": 0.45,
          "yanchor": "bottom",
          "yref": "paper"
         },
         {
          "font": {
           "size": 16
          },
          "showarrow": false,
          "text": "Topic 10",
          "x": 0.6375000000000001,
          "xanchor": "center",
          "xref": "paper",
          "y": 0.45,
          "yanchor": "bottom",
          "yref": "paper"
         },
         {
          "font": {
           "size": 16
          },
          "showarrow": false,
          "text": "Topic 11",
          "x": 0.9125,
          "xanchor": "center",
          "xref": "paper",
          "y": 0.45,
          "yanchor": "bottom",
          "yref": "paper"
         },
         {
          "font": {
           "size": 16
          },
          "showarrow": false,
          "text": "Topic 12",
          "x": 0.0875,
          "xanchor": "center",
          "xref": "paper",
          "y": 0.175,
          "yanchor": "bottom",
          "yref": "paper"
         },
         {
          "font": {
           "size": 16
          },
          "showarrow": false,
          "text": "Topic 13",
          "x": 0.36250000000000004,
          "xanchor": "center",
          "xref": "paper",
          "y": 0.175,
          "yanchor": "bottom",
          "yref": "paper"
         },
         {
          "font": {
           "size": 16
          },
          "showarrow": false,
          "text": "Topic 14",
          "x": 0.6375000000000001,
          "xanchor": "center",
          "xref": "paper",
          "y": 0.175,
          "yanchor": "bottom",
          "yref": "paper"
         },
         {
          "font": {
           "size": 16
          },
          "showarrow": false,
          "text": "Topic 15",
          "x": 0.9125,
          "xanchor": "center",
          "xref": "paper",
          "y": 0.175,
          "yanchor": "bottom",
          "yref": "paper"
         }
        ],
        "height": 1000,
        "hoverlabel": {
         "bgcolor": "white",
         "font": {
          "family": "Rockwell",
          "size": 16
         }
        },
        "showlegend": false,
        "template": {
         "data": {
          "bar": [
           {
            "error_x": {
             "color": "#2a3f5f"
            },
            "error_y": {
             "color": "#2a3f5f"
            },
            "marker": {
             "line": {
              "color": "white",
              "width": 0.5
             },
             "pattern": {
              "fillmode": "overlay",
              "size": 10,
              "solidity": 0.2
             }
            },
            "type": "bar"
           }
          ],
          "barpolar": [
           {
            "marker": {
             "line": {
              "color": "white",
              "width": 0.5
             },
             "pattern": {
              "fillmode": "overlay",
              "size": 10,
              "solidity": 0.2
             }
            },
            "type": "barpolar"
           }
          ],
          "carpet": [
           {
            "aaxis": {
             "endlinecolor": "#2a3f5f",
             "gridcolor": "#C8D4E3",
             "linecolor": "#C8D4E3",
             "minorgridcolor": "#C8D4E3",
             "startlinecolor": "#2a3f5f"
            },
            "baxis": {
             "endlinecolor": "#2a3f5f",
             "gridcolor": "#C8D4E3",
             "linecolor": "#C8D4E3",
             "minorgridcolor": "#C8D4E3",
             "startlinecolor": "#2a3f5f"
            },
            "type": "carpet"
           }
          ],
          "choropleth": [
           {
            "colorbar": {
             "outlinewidth": 0,
             "ticks": ""
            },
            "type": "choropleth"
           }
          ],
          "contour": [
           {
            "colorbar": {
             "outlinewidth": 0,
             "ticks": ""
            },
            "colorscale": [
             [
              0,
              "#0d0887"
             ],
             [
              0.1111111111111111,
              "#46039f"
             ],
             [
              0.2222222222222222,
              "#7201a8"
             ],
             [
              0.3333333333333333,
              "#9c179e"
             ],
             [
              0.4444444444444444,
              "#bd3786"
             ],
             [
              0.5555555555555556,
              "#d8576b"
             ],
             [
              0.6666666666666666,
              "#ed7953"
             ],
             [
              0.7777777777777778,
              "#fb9f3a"
             ],
             [
              0.8888888888888888,
              "#fdca26"
             ],
             [
              1,
              "#f0f921"
             ]
            ],
            "type": "contour"
           }
          ],
          "contourcarpet": [
           {
            "colorbar": {
             "outlinewidth": 0,
             "ticks": ""
            },
            "type": "contourcarpet"
           }
          ],
          "heatmap": [
           {
            "colorbar": {
             "outlinewidth": 0,
             "ticks": ""
            },
            "colorscale": [
             [
              0,
              "#0d0887"
             ],
             [
              0.1111111111111111,
              "#46039f"
             ],
             [
              0.2222222222222222,
              "#7201a8"
             ],
             [
              0.3333333333333333,
              "#9c179e"
             ],
             [
              0.4444444444444444,
              "#bd3786"
             ],
             [
              0.5555555555555556,
              "#d8576b"
             ],
             [
              0.6666666666666666,
              "#ed7953"
             ],
             [
              0.7777777777777778,
              "#fb9f3a"
             ],
             [
              0.8888888888888888,
              "#fdca26"
             ],
             [
              1,
              "#f0f921"
             ]
            ],
            "type": "heatmap"
           }
          ],
          "heatmapgl": [
           {
            "colorbar": {
             "outlinewidth": 0,
             "ticks": ""
            },
            "colorscale": [
             [
              0,
              "#0d0887"
             ],
             [
              0.1111111111111111,
              "#46039f"
             ],
             [
              0.2222222222222222,
              "#7201a8"
             ],
             [
              0.3333333333333333,
              "#9c179e"
             ],
             [
              0.4444444444444444,
              "#bd3786"
             ],
             [
              0.5555555555555556,
              "#d8576b"
             ],
             [
              0.6666666666666666,
              "#ed7953"
             ],
             [
              0.7777777777777778,
              "#fb9f3a"
             ],
             [
              0.8888888888888888,
              "#fdca26"
             ],
             [
              1,
              "#f0f921"
             ]
            ],
            "type": "heatmapgl"
           }
          ],
          "histogram": [
           {
            "marker": {
             "pattern": {
              "fillmode": "overlay",
              "size": 10,
              "solidity": 0.2
             }
            },
            "type": "histogram"
           }
          ],
          "histogram2d": [
           {
            "colorbar": {
             "outlinewidth": 0,
             "ticks": ""
            },
            "colorscale": [
             [
              0,
              "#0d0887"
             ],
             [
              0.1111111111111111,
              "#46039f"
             ],
             [
              0.2222222222222222,
              "#7201a8"
             ],
             [
              0.3333333333333333,
              "#9c179e"
             ],
             [
              0.4444444444444444,
              "#bd3786"
             ],
             [
              0.5555555555555556,
              "#d8576b"
             ],
             [
              0.6666666666666666,
              "#ed7953"
             ],
             [
              0.7777777777777778,
              "#fb9f3a"
             ],
             [
              0.8888888888888888,
              "#fdca26"
             ],
             [
              1,
              "#f0f921"
             ]
            ],
            "type": "histogram2d"
           }
          ],
          "histogram2dcontour": [
           {
            "colorbar": {
             "outlinewidth": 0,
             "ticks": ""
            },
            "colorscale": [
             [
              0,
              "#0d0887"
             ],
             [
              0.1111111111111111,
              "#46039f"
             ],
             [
              0.2222222222222222,
              "#7201a8"
             ],
             [
              0.3333333333333333,
              "#9c179e"
             ],
             [
              0.4444444444444444,
              "#bd3786"
             ],
             [
              0.5555555555555556,
              "#d8576b"
             ],
             [
              0.6666666666666666,
              "#ed7953"
             ],
             [
              0.7777777777777778,
              "#fb9f3a"
             ],
             [
              0.8888888888888888,
              "#fdca26"
             ],
             [
              1,
              "#f0f921"
             ]
            ],
            "type": "histogram2dcontour"
           }
          ],
          "mesh3d": [
           {
            "colorbar": {
             "outlinewidth": 0,
             "ticks": ""
            },
            "type": "mesh3d"
           }
          ],
          "parcoords": [
           {
            "line": {
             "colorbar": {
              "outlinewidth": 0,
              "ticks": ""
             }
            },
            "type": "parcoords"
           }
          ],
          "pie": [
           {
            "automargin": true,
            "type": "pie"
           }
          ],
          "scatter": [
           {
            "fillpattern": {
             "fillmode": "overlay",
             "size": 10,
             "solidity": 0.2
            },
            "type": "scatter"
           }
          ],
          "scatter3d": [
           {
            "line": {
             "colorbar": {
              "outlinewidth": 0,
              "ticks": ""
             }
            },
            "marker": {
             "colorbar": {
              "outlinewidth": 0,
              "ticks": ""
             }
            },
            "type": "scatter3d"
           }
          ],
          "scattercarpet": [
           {
            "marker": {
             "colorbar": {
              "outlinewidth": 0,
              "ticks": ""
             }
            },
            "type": "scattercarpet"
           }
          ],
          "scattergeo": [
           {
            "marker": {
             "colorbar": {
              "outlinewidth": 0,
              "ticks": ""
             }
            },
            "type": "scattergeo"
           }
          ],
          "scattergl": [
           {
            "marker": {
             "colorbar": {
              "outlinewidth": 0,
              "ticks": ""
             }
            },
            "type": "scattergl"
           }
          ],
          "scattermapbox": [
           {
            "marker": {
             "colorbar": {
              "outlinewidth": 0,
              "ticks": ""
             }
            },
            "type": "scattermapbox"
           }
          ],
          "scatterpolar": [
           {
            "marker": {
             "colorbar": {
              "outlinewidth": 0,
              "ticks": ""
             }
            },
            "type": "scatterpolar"
           }
          ],
          "scatterpolargl": [
           {
            "marker": {
             "colorbar": {
              "outlinewidth": 0,
              "ticks": ""
             }
            },
            "type": "scatterpolargl"
           }
          ],
          "scatterternary": [
           {
            "marker": {
             "colorbar": {
              "outlinewidth": 0,
              "ticks": ""
             }
            },
            "type": "scatterternary"
           }
          ],
          "surface": [
           {
            "colorbar": {
             "outlinewidth": 0,
             "ticks": ""
            },
            "colorscale": [
             [
              0,
              "#0d0887"
             ],
             [
              0.1111111111111111,
              "#46039f"
             ],
             [
              0.2222222222222222,
              "#7201a8"
             ],
             [
              0.3333333333333333,
              "#9c179e"
             ],
             [
              0.4444444444444444,
              "#bd3786"
             ],
             [
              0.5555555555555556,
              "#d8576b"
             ],
             [
              0.6666666666666666,
              "#ed7953"
             ],
             [
              0.7777777777777778,
              "#fb9f3a"
             ],
             [
              0.8888888888888888,
              "#fdca26"
             ],
             [
              1,
              "#f0f921"
             ]
            ],
            "type": "surface"
           }
          ],
          "table": [
           {
            "cells": {
             "fill": {
              "color": "#EBF0F8"
             },
             "line": {
              "color": "white"
             }
            },
            "header": {
             "fill": {
              "color": "#C8D4E3"
             },
             "line": {
              "color": "white"
             }
            },
            "type": "table"
           }
          ]
         },
         "layout": {
          "annotationdefaults": {
           "arrowcolor": "#2a3f5f",
           "arrowhead": 0,
           "arrowwidth": 1
          },
          "autotypenumbers": "strict",
          "coloraxis": {
           "colorbar": {
            "outlinewidth": 0,
            "ticks": ""
           }
          },
          "colorscale": {
           "diverging": [
            [
             0,
             "#8e0152"
            ],
            [
             0.1,
             "#c51b7d"
            ],
            [
             0.2,
             "#de77ae"
            ],
            [
             0.3,
             "#f1b6da"
            ],
            [
             0.4,
             "#fde0ef"
            ],
            [
             0.5,
             "#f7f7f7"
            ],
            [
             0.6,
             "#e6f5d0"
            ],
            [
             0.7,
             "#b8e186"
            ],
            [
             0.8,
             "#7fbc41"
            ],
            [
             0.9,
             "#4d9221"
            ],
            [
             1,
             "#276419"
            ]
           ],
           "sequential": [
            [
             0,
             "#0d0887"
            ],
            [
             0.1111111111111111,
             "#46039f"
            ],
            [
             0.2222222222222222,
             "#7201a8"
            ],
            [
             0.3333333333333333,
             "#9c179e"
            ],
            [
             0.4444444444444444,
             "#bd3786"
            ],
            [
             0.5555555555555556,
             "#d8576b"
            ],
            [
             0.6666666666666666,
             "#ed7953"
            ],
            [
             0.7777777777777778,
             "#fb9f3a"
            ],
            [
             0.8888888888888888,
             "#fdca26"
            ],
            [
             1,
             "#f0f921"
            ]
           ],
           "sequentialminus": [
            [
             0,
             "#0d0887"
            ],
            [
             0.1111111111111111,
             "#46039f"
            ],
            [
             0.2222222222222222,
             "#7201a8"
            ],
            [
             0.3333333333333333,
             "#9c179e"
            ],
            [
             0.4444444444444444,
             "#bd3786"
            ],
            [
             0.5555555555555556,
             "#d8576b"
            ],
            [
             0.6666666666666666,
             "#ed7953"
            ],
            [
             0.7777777777777778,
             "#fb9f3a"
            ],
            [
             0.8888888888888888,
             "#fdca26"
            ],
            [
             1,
             "#f0f921"
            ]
           ]
          },
          "colorway": [
           "#636efa",
           "#EF553B",
           "#00cc96",
           "#ab63fa",
           "#FFA15A",
           "#19d3f3",
           "#FF6692",
           "#B6E880",
           "#FF97FF",
           "#FECB52"
          ],
          "font": {
           "color": "#2a3f5f"
          },
          "geo": {
           "bgcolor": "white",
           "lakecolor": "white",
           "landcolor": "white",
           "showlakes": true,
           "showland": true,
           "subunitcolor": "#C8D4E3"
          },
          "hoverlabel": {
           "align": "left"
          },
          "hovermode": "closest",
          "mapbox": {
           "style": "light"
          },
          "paper_bgcolor": "white",
          "plot_bgcolor": "white",
          "polar": {
           "angularaxis": {
            "gridcolor": "#EBF0F8",
            "linecolor": "#EBF0F8",
            "ticks": ""
           },
           "bgcolor": "white",
           "radialaxis": {
            "gridcolor": "#EBF0F8",
            "linecolor": "#EBF0F8",
            "ticks": ""
           }
          },
          "scene": {
           "xaxis": {
            "backgroundcolor": "white",
            "gridcolor": "#DFE8F3",
            "gridwidth": 2,
            "linecolor": "#EBF0F8",
            "showbackground": true,
            "ticks": "",
            "zerolinecolor": "#EBF0F8"
           },
           "yaxis": {
            "backgroundcolor": "white",
            "gridcolor": "#DFE8F3",
            "gridwidth": 2,
            "linecolor": "#EBF0F8",
            "showbackground": true,
            "ticks": "",
            "zerolinecolor": "#EBF0F8"
           },
           "zaxis": {
            "backgroundcolor": "white",
            "gridcolor": "#DFE8F3",
            "gridwidth": 2,
            "linecolor": "#EBF0F8",
            "showbackground": true,
            "ticks": "",
            "zerolinecolor": "#EBF0F8"
           }
          },
          "shapedefaults": {
           "line": {
            "color": "#2a3f5f"
           }
          },
          "ternary": {
           "aaxis": {
            "gridcolor": "#DFE8F3",
            "linecolor": "#A2B1C6",
            "ticks": ""
           },
           "baxis": {
            "gridcolor": "#DFE8F3",
            "linecolor": "#A2B1C6",
            "ticks": ""
           },
           "bgcolor": "white",
           "caxis": {
            "gridcolor": "#DFE8F3",
            "linecolor": "#A2B1C6",
            "ticks": ""
           }
          },
          "title": {
           "x": 0.05
          },
          "xaxis": {
           "automargin": true,
           "gridcolor": "#EBF0F8",
           "linecolor": "#EBF0F8",
           "ticks": "",
           "title": {
            "standoff": 15
           },
           "zerolinecolor": "#EBF0F8",
           "zerolinewidth": 2
          },
          "yaxis": {
           "automargin": true,
           "gridcolor": "#EBF0F8",
           "linecolor": "#EBF0F8",
           "ticks": "",
           "title": {
            "standoff": 15
           },
           "zerolinecolor": "#EBF0F8",
           "zerolinewidth": 2
          }
         }
        },
        "title": {
         "font": {
          "color": "Black",
          "size": 22
         },
         "text": "Topic Word Scores",
         "x": 0.5,
         "xanchor": "center",
         "yanchor": "top"
        },
        "width": 1000,
        "xaxis": {
         "anchor": "y",
         "domain": [
          0,
          0.175
         ],
         "showgrid": true
        },
        "xaxis10": {
         "anchor": "y10",
         "domain": [
          0.275,
          0.45
         ],
         "showgrid": true
        },
        "xaxis11": {
         "anchor": "y11",
         "domain": [
          0.55,
          0.7250000000000001
         ],
         "showgrid": true
        },
        "xaxis12": {
         "anchor": "y12",
         "domain": [
          0.825,
          1
         ],
         "showgrid": true
        },
        "xaxis13": {
         "anchor": "y13",
         "domain": [
          0,
          0.175
         ],
         "showgrid": true
        },
        "xaxis14": {
         "anchor": "y14",
         "domain": [
          0.275,
          0.45
         ],
         "showgrid": true
        },
        "xaxis15": {
         "anchor": "y15",
         "domain": [
          0.55,
          0.7250000000000001
         ],
         "showgrid": true
        },
        "xaxis16": {
         "anchor": "y16",
         "domain": [
          0.825,
          1
         ],
         "showgrid": true
        },
        "xaxis2": {
         "anchor": "y2",
         "domain": [
          0.275,
          0.45
         ],
         "showgrid": true
        },
        "xaxis3": {
         "anchor": "y3",
         "domain": [
          0.55,
          0.7250000000000001
         ],
         "showgrid": true
        },
        "xaxis4": {
         "anchor": "y4",
         "domain": [
          0.825,
          1
         ],
         "showgrid": true
        },
        "xaxis5": {
         "anchor": "y5",
         "domain": [
          0,
          0.175
         ],
         "showgrid": true
        },
        "xaxis6": {
         "anchor": "y6",
         "domain": [
          0.275,
          0.45
         ],
         "showgrid": true
        },
        "xaxis7": {
         "anchor": "y7",
         "domain": [
          0.55,
          0.7250000000000001
         ],
         "showgrid": true
        },
        "xaxis8": {
         "anchor": "y8",
         "domain": [
          0.825,
          1
         ],
         "showgrid": true
        },
        "xaxis9": {
         "anchor": "y9",
         "domain": [
          0,
          0.175
         ],
         "showgrid": true
        },
        "yaxis": {
         "anchor": "x",
         "domain": [
          0.825,
          1
         ],
         "showgrid": true
        },
        "yaxis10": {
         "anchor": "x10",
         "domain": [
          0.275,
          0.45
         ],
         "showgrid": true
        },
        "yaxis11": {
         "anchor": "x11",
         "domain": [
          0.275,
          0.45
         ],
         "showgrid": true
        },
        "yaxis12": {
         "anchor": "x12",
         "domain": [
          0.275,
          0.45
         ],
         "showgrid": true
        },
        "yaxis13": {
         "anchor": "x13",
         "domain": [
          0,
          0.175
         ],
         "showgrid": true
        },
        "yaxis14": {
         "anchor": "x14",
         "domain": [
          0,
          0.175
         ],
         "showgrid": true
        },
        "yaxis15": {
         "anchor": "x15",
         "domain": [
          0,
          0.175
         ],
         "showgrid": true
        },
        "yaxis16": {
         "anchor": "x16",
         "domain": [
          0,
          0.175
         ],
         "showgrid": true
        },
        "yaxis2": {
         "anchor": "x2",
         "domain": [
          0.825,
          1
         ],
         "showgrid": true
        },
        "yaxis3": {
         "anchor": "x3",
         "domain": [
          0.825,
          1
         ],
         "showgrid": true
        },
        "yaxis4": {
         "anchor": "x4",
         "domain": [
          0.825,
          1
         ],
         "showgrid": true
        },
        "yaxis5": {
         "anchor": "x5",
         "domain": [
          0.55,
          0.7250000000000001
         ],
         "showgrid": true
        },
        "yaxis6": {
         "anchor": "x6",
         "domain": [
          0.55,
          0.7250000000000001
         ],
         "showgrid": true
        },
        "yaxis7": {
         "anchor": "x7",
         "domain": [
          0.55,
          0.7250000000000001
         ],
         "showgrid": true
        },
        "yaxis8": {
         "anchor": "x8",
         "domain": [
          0.55,
          0.7250000000000001
         ],
         "showgrid": true
        },
        "yaxis9": {
         "anchor": "x9",
         "domain": [
          0.275,
          0.45
         ],
         "showgrid": true
        }
       }
      }
     },
     "metadata": {},
     "output_type": "display_data"
    }
   ],
   "source": [
    "topic_model.visualize_barchart(top_n_topics = 16, n_words = 10)"
   ]
  },
  {
   "cell_type": "code",
   "execution_count": 64,
   "metadata": {},
   "outputs": [
    {
     "data": {
      "application/vnd.plotly.v1+json": {
       "config": {
        "plotlyServerURL": "https://plot.ly"
       },
       "data": [
        {
         "coloraxis": "coloraxis",
         "hovertemplate": "x: %{x}<br>y: %{y}<br>Similarity Score: %{z}<extra></extra>",
         "name": "0",
         "type": "heatmap",
         "x": [
          "0_meditation_felt_still",
          "1_feel_sensation_felt",
          "2_dont_easy_think",
          "3_distracted_focus_im",
          "4_longer lot_lot time_longer",
          "6___",
          "5_eye_closed_eye closed",
          "7_see_didnt_see see",
          "8_leg_focus leg_focus",
          "9_liked_thank_good"
         ],
         "xaxis": "x",
         "y": [
          "0_meditation_felt_still",
          "1_feel_sensation_felt",
          "2_dont_easy_think",
          "3_distracted_focus_im",
          "4_longer lot_lot time_longer",
          "6___",
          "5_eye_closed_eye closed",
          "7_see_didnt_see see",
          "8_leg_focus leg_focus",
          "9_liked_thank_good"
         ],
         "yaxis": "y",
         "z": [
          [
           1.0000001192092896,
           0.6946082711219788,
           0.504326581954956,
           0.6195018291473389,
           0.2473905384540558,
           0.22547858953475952,
           0.4160618484020233,
           0.3700268864631653,
           0.48999685049057007,
           0.39066436886787415
          ],
          [
           0.6946082711219788,
           1,
           0.5180555582046509,
           0.503354012966156,
           0.3391248881816864,
           0.3150653839111328,
           0.3789014220237732,
           0.495822012424469,
           0.5088247060775757,
           0.445972204208374
          ],
          [
           0.504326581954956,
           0.5180555582046509,
           1.0000003576278687,
           0.5121233463287354,
           0.5578975677490234,
           0.5082112550735474,
           0.3994019031524658,
           0.6180739998817444,
           0.38704079389572144,
           0.6867964267730713
          ],
          [
           0.6195018291473389,
           0.503354012966156,
           0.5121233463287354,
           1.000000238418579,
           0.2277638018131256,
           0.20291167497634888,
           0.562850832939148,
           0.4043336510658264,
           0.531350314617157,
           0.27902331948280334
          ],
          [
           0.2473905384540558,
           0.3391248881816864,
           0.5578975677490234,
           0.2277638018131256,
           1.000000238418579,
           0.992016077041626,
           0.1873602569103241,
           0.44450002908706665,
           0.19248631596565247,
           0.6393135190010071
          ],
          [
           0.22547858953475952,
           0.3150653839111328,
           0.5082112550735474,
           0.20291167497634888,
           0.992016077041626,
           0.9999997019767761,
           0.1638728231191635,
           0.4136604368686676,
           0.17399701476097107,
           0.5978294610977173
          ],
          [
           0.4160618484020233,
           0.3789014220237732,
           0.3994019031524658,
           0.562850832939148,
           0.1873602569103241,
           0.1638728231191635,
           1,
           0.40256714820861816,
           0.40129995346069336,
           0.3065659701824188
          ],
          [
           0.3700268864631653,
           0.495822012424469,
           0.6180739998817444,
           0.4043336510658264,
           0.44450002908706665,
           0.4136604368686676,
           0.40256714820861816,
           0.9999998211860657,
           0.31307727098464966,
           0.5088649988174438
          ],
          [
           0.48999685049057007,
           0.5088247060775757,
           0.38704079389572144,
           0.531350314617157,
           0.19248631596565247,
           0.17399701476097107,
           0.40129995346069336,
           0.31307727098464966,
           1.0000001192092896,
           0.29575562477111816
          ],
          [
           0.39066436886787415,
           0.445972204208374,
           0.6867964267730713,
           0.27902331948280334,
           0.6393135190010071,
           0.5978294610977173,
           0.3065659701824188,
           0.5088649988174438,
           0.29575562477111816,
           1
          ]
         ]
        }
       ],
       "layout": {
        "coloraxis": {
         "colorbar": {
          "title": {
           "text": "Similarity Score"
          }
         },
         "colorscale": [
          [
           0,
           "rgb(247,252,240)"
          ],
          [
           0.125,
           "rgb(224,243,219)"
          ],
          [
           0.25,
           "rgb(204,235,197)"
          ],
          [
           0.375,
           "rgb(168,221,181)"
          ],
          [
           0.5,
           "rgb(123,204,196)"
          ],
          [
           0.625,
           "rgb(78,179,211)"
          ],
          [
           0.75,
           "rgb(43,140,190)"
          ],
          [
           0.875,
           "rgb(8,104,172)"
          ],
          [
           1,
           "rgb(8,64,129)"
          ]
         ]
        },
        "height": 1000,
        "hoverlabel": {
         "bgcolor": "white",
         "font": {
          "family": "Rockwell",
          "size": 16
         }
        },
        "legend": {
         "title": {
          "text": "Trend"
         }
        },
        "margin": {
         "t": 60
        },
        "showlegend": true,
        "template": {
         "data": {
          "bar": [
           {
            "error_x": {
             "color": "#2a3f5f"
            },
            "error_y": {
             "color": "#2a3f5f"
            },
            "marker": {
             "line": {
              "color": "#E5ECF6",
              "width": 0.5
             },
             "pattern": {
              "fillmode": "overlay",
              "size": 10,
              "solidity": 0.2
             }
            },
            "type": "bar"
           }
          ],
          "barpolar": [
           {
            "marker": {
             "line": {
              "color": "#E5ECF6",
              "width": 0.5
             },
             "pattern": {
              "fillmode": "overlay",
              "size": 10,
              "solidity": 0.2
             }
            },
            "type": "barpolar"
           }
          ],
          "carpet": [
           {
            "aaxis": {
             "endlinecolor": "#2a3f5f",
             "gridcolor": "white",
             "linecolor": "white",
             "minorgridcolor": "white",
             "startlinecolor": "#2a3f5f"
            },
            "baxis": {
             "endlinecolor": "#2a3f5f",
             "gridcolor": "white",
             "linecolor": "white",
             "minorgridcolor": "white",
             "startlinecolor": "#2a3f5f"
            },
            "type": "carpet"
           }
          ],
          "choropleth": [
           {
            "colorbar": {
             "outlinewidth": 0,
             "ticks": ""
            },
            "type": "choropleth"
           }
          ],
          "contour": [
           {
            "colorbar": {
             "outlinewidth": 0,
             "ticks": ""
            },
            "colorscale": [
             [
              0,
              "#0d0887"
             ],
             [
              0.1111111111111111,
              "#46039f"
             ],
             [
              0.2222222222222222,
              "#7201a8"
             ],
             [
              0.3333333333333333,
              "#9c179e"
             ],
             [
              0.4444444444444444,
              "#bd3786"
             ],
             [
              0.5555555555555556,
              "#d8576b"
             ],
             [
              0.6666666666666666,
              "#ed7953"
             ],
             [
              0.7777777777777778,
              "#fb9f3a"
             ],
             [
              0.8888888888888888,
              "#fdca26"
             ],
             [
              1,
              "#f0f921"
             ]
            ],
            "type": "contour"
           }
          ],
          "contourcarpet": [
           {
            "colorbar": {
             "outlinewidth": 0,
             "ticks": ""
            },
            "type": "contourcarpet"
           }
          ],
          "heatmap": [
           {
            "colorbar": {
             "outlinewidth": 0,
             "ticks": ""
            },
            "colorscale": [
             [
              0,
              "#0d0887"
             ],
             [
              0.1111111111111111,
              "#46039f"
             ],
             [
              0.2222222222222222,
              "#7201a8"
             ],
             [
              0.3333333333333333,
              "#9c179e"
             ],
             [
              0.4444444444444444,
              "#bd3786"
             ],
             [
              0.5555555555555556,
              "#d8576b"
             ],
             [
              0.6666666666666666,
              "#ed7953"
             ],
             [
              0.7777777777777778,
              "#fb9f3a"
             ],
             [
              0.8888888888888888,
              "#fdca26"
             ],
             [
              1,
              "#f0f921"
             ]
            ],
            "type": "heatmap"
           }
          ],
          "heatmapgl": [
           {
            "colorbar": {
             "outlinewidth": 0,
             "ticks": ""
            },
            "colorscale": [
             [
              0,
              "#0d0887"
             ],
             [
              0.1111111111111111,
              "#46039f"
             ],
             [
              0.2222222222222222,
              "#7201a8"
             ],
             [
              0.3333333333333333,
              "#9c179e"
             ],
             [
              0.4444444444444444,
              "#bd3786"
             ],
             [
              0.5555555555555556,
              "#d8576b"
             ],
             [
              0.6666666666666666,
              "#ed7953"
             ],
             [
              0.7777777777777778,
              "#fb9f3a"
             ],
             [
              0.8888888888888888,
              "#fdca26"
             ],
             [
              1,
              "#f0f921"
             ]
            ],
            "type": "heatmapgl"
           }
          ],
          "histogram": [
           {
            "marker": {
             "pattern": {
              "fillmode": "overlay",
              "size": 10,
              "solidity": 0.2
             }
            },
            "type": "histogram"
           }
          ],
          "histogram2d": [
           {
            "colorbar": {
             "outlinewidth": 0,
             "ticks": ""
            },
            "colorscale": [
             [
              0,
              "#0d0887"
             ],
             [
              0.1111111111111111,
              "#46039f"
             ],
             [
              0.2222222222222222,
              "#7201a8"
             ],
             [
              0.3333333333333333,
              "#9c179e"
             ],
             [
              0.4444444444444444,
              "#bd3786"
             ],
             [
              0.5555555555555556,
              "#d8576b"
             ],
             [
              0.6666666666666666,
              "#ed7953"
             ],
             [
              0.7777777777777778,
              "#fb9f3a"
             ],
             [
              0.8888888888888888,
              "#fdca26"
             ],
             [
              1,
              "#f0f921"
             ]
            ],
            "type": "histogram2d"
           }
          ],
          "histogram2dcontour": [
           {
            "colorbar": {
             "outlinewidth": 0,
             "ticks": ""
            },
            "colorscale": [
             [
              0,
              "#0d0887"
             ],
             [
              0.1111111111111111,
              "#46039f"
             ],
             [
              0.2222222222222222,
              "#7201a8"
             ],
             [
              0.3333333333333333,
              "#9c179e"
             ],
             [
              0.4444444444444444,
              "#bd3786"
             ],
             [
              0.5555555555555556,
              "#d8576b"
             ],
             [
              0.6666666666666666,
              "#ed7953"
             ],
             [
              0.7777777777777778,
              "#fb9f3a"
             ],
             [
              0.8888888888888888,
              "#fdca26"
             ],
             [
              1,
              "#f0f921"
             ]
            ],
            "type": "histogram2dcontour"
           }
          ],
          "mesh3d": [
           {
            "colorbar": {
             "outlinewidth": 0,
             "ticks": ""
            },
            "type": "mesh3d"
           }
          ],
          "parcoords": [
           {
            "line": {
             "colorbar": {
              "outlinewidth": 0,
              "ticks": ""
             }
            },
            "type": "parcoords"
           }
          ],
          "pie": [
           {
            "automargin": true,
            "type": "pie"
           }
          ],
          "scatter": [
           {
            "fillpattern": {
             "fillmode": "overlay",
             "size": 10,
             "solidity": 0.2
            },
            "type": "scatter"
           }
          ],
          "scatter3d": [
           {
            "line": {
             "colorbar": {
              "outlinewidth": 0,
              "ticks": ""
             }
            },
            "marker": {
             "colorbar": {
              "outlinewidth": 0,
              "ticks": ""
             }
            },
            "type": "scatter3d"
           }
          ],
          "scattercarpet": [
           {
            "marker": {
             "colorbar": {
              "outlinewidth": 0,
              "ticks": ""
             }
            },
            "type": "scattercarpet"
           }
          ],
          "scattergeo": [
           {
            "marker": {
             "colorbar": {
              "outlinewidth": 0,
              "ticks": ""
             }
            },
            "type": "scattergeo"
           }
          ],
          "scattergl": [
           {
            "marker": {
             "colorbar": {
              "outlinewidth": 0,
              "ticks": ""
             }
            },
            "type": "scattergl"
           }
          ],
          "scattermapbox": [
           {
            "marker": {
             "colorbar": {
              "outlinewidth": 0,
              "ticks": ""
             }
            },
            "type": "scattermapbox"
           }
          ],
          "scatterpolar": [
           {
            "marker": {
             "colorbar": {
              "outlinewidth": 0,
              "ticks": ""
             }
            },
            "type": "scatterpolar"
           }
          ],
          "scatterpolargl": [
           {
            "marker": {
             "colorbar": {
              "outlinewidth": 0,
              "ticks": ""
             }
            },
            "type": "scatterpolargl"
           }
          ],
          "scatterternary": [
           {
            "marker": {
             "colorbar": {
              "outlinewidth": 0,
              "ticks": ""
             }
            },
            "type": "scatterternary"
           }
          ],
          "surface": [
           {
            "colorbar": {
             "outlinewidth": 0,
             "ticks": ""
            },
            "colorscale": [
             [
              0,
              "#0d0887"
             ],
             [
              0.1111111111111111,
              "#46039f"
             ],
             [
              0.2222222222222222,
              "#7201a8"
             ],
             [
              0.3333333333333333,
              "#9c179e"
             ],
             [
              0.4444444444444444,
              "#bd3786"
             ],
             [
              0.5555555555555556,
              "#d8576b"
             ],
             [
              0.6666666666666666,
              "#ed7953"
             ],
             [
              0.7777777777777778,
              "#fb9f3a"
             ],
             [
              0.8888888888888888,
              "#fdca26"
             ],
             [
              1,
              "#f0f921"
             ]
            ],
            "type": "surface"
           }
          ],
          "table": [
           {
            "cells": {
             "fill": {
              "color": "#EBF0F8"
             },
             "line": {
              "color": "white"
             }
            },
            "header": {
             "fill": {
              "color": "#C8D4E3"
             },
             "line": {
              "color": "white"
             }
            },
            "type": "table"
           }
          ]
         },
         "layout": {
          "annotationdefaults": {
           "arrowcolor": "#2a3f5f",
           "arrowhead": 0,
           "arrowwidth": 1
          },
          "autotypenumbers": "strict",
          "coloraxis": {
           "colorbar": {
            "outlinewidth": 0,
            "ticks": ""
           }
          },
          "colorscale": {
           "diverging": [
            [
             0,
             "#8e0152"
            ],
            [
             0.1,
             "#c51b7d"
            ],
            [
             0.2,
             "#de77ae"
            ],
            [
             0.3,
             "#f1b6da"
            ],
            [
             0.4,
             "#fde0ef"
            ],
            [
             0.5,
             "#f7f7f7"
            ],
            [
             0.6,
             "#e6f5d0"
            ],
            [
             0.7,
             "#b8e186"
            ],
            [
             0.8,
             "#7fbc41"
            ],
            [
             0.9,
             "#4d9221"
            ],
            [
             1,
             "#276419"
            ]
           ],
           "sequential": [
            [
             0,
             "#0d0887"
            ],
            [
             0.1111111111111111,
             "#46039f"
            ],
            [
             0.2222222222222222,
             "#7201a8"
            ],
            [
             0.3333333333333333,
             "#9c179e"
            ],
            [
             0.4444444444444444,
             "#bd3786"
            ],
            [
             0.5555555555555556,
             "#d8576b"
            ],
            [
             0.6666666666666666,
             "#ed7953"
            ],
            [
             0.7777777777777778,
             "#fb9f3a"
            ],
            [
             0.8888888888888888,
             "#fdca26"
            ],
            [
             1,
             "#f0f921"
            ]
           ],
           "sequentialminus": [
            [
             0,
             "#0d0887"
            ],
            [
             0.1111111111111111,
             "#46039f"
            ],
            [
             0.2222222222222222,
             "#7201a8"
            ],
            [
             0.3333333333333333,
             "#9c179e"
            ],
            [
             0.4444444444444444,
             "#bd3786"
            ],
            [
             0.5555555555555556,
             "#d8576b"
            ],
            [
             0.6666666666666666,
             "#ed7953"
            ],
            [
             0.7777777777777778,
             "#fb9f3a"
            ],
            [
             0.8888888888888888,
             "#fdca26"
            ],
            [
             1,
             "#f0f921"
            ]
           ]
          },
          "colorway": [
           "#636efa",
           "#EF553B",
           "#00cc96",
           "#ab63fa",
           "#FFA15A",
           "#19d3f3",
           "#FF6692",
           "#B6E880",
           "#FF97FF",
           "#FECB52"
          ],
          "font": {
           "color": "#2a3f5f"
          },
          "geo": {
           "bgcolor": "white",
           "lakecolor": "white",
           "landcolor": "#E5ECF6",
           "showlakes": true,
           "showland": true,
           "subunitcolor": "white"
          },
          "hoverlabel": {
           "align": "left"
          },
          "hovermode": "closest",
          "mapbox": {
           "style": "light"
          },
          "paper_bgcolor": "white",
          "plot_bgcolor": "#E5ECF6",
          "polar": {
           "angularaxis": {
            "gridcolor": "white",
            "linecolor": "white",
            "ticks": ""
           },
           "bgcolor": "#E5ECF6",
           "radialaxis": {
            "gridcolor": "white",
            "linecolor": "white",
            "ticks": ""
           }
          },
          "scene": {
           "xaxis": {
            "backgroundcolor": "#E5ECF6",
            "gridcolor": "white",
            "gridwidth": 2,
            "linecolor": "white",
            "showbackground": true,
            "ticks": "",
            "zerolinecolor": "white"
           },
           "yaxis": {
            "backgroundcolor": "#E5ECF6",
            "gridcolor": "white",
            "gridwidth": 2,
            "linecolor": "white",
            "showbackground": true,
            "ticks": "",
            "zerolinecolor": "white"
           },
           "zaxis": {
            "backgroundcolor": "#E5ECF6",
            "gridcolor": "white",
            "gridwidth": 2,
            "linecolor": "white",
            "showbackground": true,
            "ticks": "",
            "zerolinecolor": "white"
           }
          },
          "shapedefaults": {
           "line": {
            "color": "#2a3f5f"
           }
          },
          "ternary": {
           "aaxis": {
            "gridcolor": "white",
            "linecolor": "white",
            "ticks": ""
           },
           "baxis": {
            "gridcolor": "white",
            "linecolor": "white",
            "ticks": ""
           },
           "bgcolor": "#E5ECF6",
           "caxis": {
            "gridcolor": "white",
            "linecolor": "white",
            "ticks": ""
           }
          },
          "title": {
           "x": 0.05
          },
          "xaxis": {
           "automargin": true,
           "gridcolor": "white",
           "linecolor": "white",
           "ticks": "",
           "title": {
            "standoff": 15
           },
           "zerolinecolor": "white",
           "zerolinewidth": 2
          },
          "yaxis": {
           "automargin": true,
           "gridcolor": "white",
           "linecolor": "white",
           "ticks": "",
           "title": {
            "standoff": 15
           },
           "zerolinecolor": "white",
           "zerolinewidth": 2
          }
         }
        },
        "title": {
         "font": {
          "color": "Black",
          "size": 22
         },
         "text": "<b>Similarity Matrix</b>",
         "x": 0.55,
         "xanchor": "center",
         "y": 0.95,
         "yanchor": "top"
        },
        "width": 1000,
        "xaxis": {
         "anchor": "y",
         "constrain": "domain",
         "domain": [
          0,
          1
         ],
         "scaleanchor": "y"
        },
        "yaxis": {
         "anchor": "x",
         "autorange": "reversed",
         "constrain": "domain",
         "domain": [
          0,
          1
         ]
        }
       }
      }
     },
     "metadata": {},
     "output_type": "display_data"
    }
   ],
   "source": [
    "topic_model.visualize_heatmap(n_clusters=9, width=1000, height=1000)"
   ]
  },
  {
   "cell_type": "code",
   "execution_count": 65,
   "metadata": {},
   "outputs": [
    {
     "data": {
      "application/vnd.plotly.v1+json": {
       "config": {
        "plotlyServerURL": "https://plot.ly"
       },
       "data": [
        {
         "customdata": [
          [
           0,
           "meditation | felt | still | relaxing | feeling",
           37
          ],
          [
           1,
           "feel | sensation | felt | body | love",
           36
          ],
          [
           2,
           "dont | easy | think | thought | dont think",
           34
          ],
          [
           3,
           "distracted | focus | im | think | get",
           34
          ],
          [
           4,
           "longer lot | lot time | longer | time | lot",
           17
          ],
          [
           5,
           "eye | closed | eye closed | open | eye open",
           16
          ],
          [
           6,
           " |  |  |  | ",
           13
          ],
          [
           7,
           "see | didnt | see see | notice | didnt notice",
           12
          ],
          [
           8,
           "leg | focus leg | focus | need | exercise",
           12
          ],
          [
           9,
           "liked | thank | good | definitely seemed | could great",
           11
          ]
         ],
         "hovertemplate": "<b>Topic %{customdata[0]}</b><br>%{customdata[1]}<br>Size: %{customdata[2]}",
         "legendgroup": "",
         "marker": {
          "color": "#B0BEC5",
          "line": {
           "color": "DarkSlateGrey",
           "width": 2
          },
          "size": [
           37,
           36,
           34,
           34,
           17,
           16,
           13,
           12,
           12,
           11
          ],
          "sizemode": "area",
          "sizeref": 0.023125,
          "symbol": "circle"
         },
         "mode": "markers",
         "name": "",
         "orientation": "v",
         "showlegend": false,
         "type": "scatter",
         "x": [
          11.668349266052246,
          11.161758422851562,
          20.5870361328125,
          12.218469619750977,
          15.13792610168457,
          12.289159774780273,
          14.86108684539795,
          20.215381622314453,
          12.50150203704834,
          20.871450424194336
         ],
         "xaxis": "x",
         "y": [
          -8.272716522216797,
          -8.302630424499512,
          32.02912139892578,
          -7.946784973144531,
          -15.466115951538086,
          -7.328044891357422,
          -15.18989086151123,
          31.657419204711914,
          -8.311951637268066,
          32.31346130371094
         ],
         "yaxis": "y"
        }
       ],
       "layout": {
        "annotations": [
         {
          "showarrow": false,
          "text": "D1",
          "x": 9.487494468688965,
          "y": 9.687223434448242,
          "yshift": 10
         },
         {
          "showarrow": false,
          "text": "D2",
          "x": 16.744831085205078,
          "xshift": 10,
          "y": 37.16048049926758
         }
        ],
        "height": 650,
        "hoverlabel": {
         "bgcolor": "white",
         "font": {
          "family": "Rockwell",
          "size": 16
         }
        },
        "legend": {
         "itemsizing": "constant",
         "tracegroupgap": 0
        },
        "margin": {
         "t": 60
        },
        "shapes": [
         {
          "line": {
           "color": "#CFD8DC",
           "width": 2
          },
          "type": "line",
          "x0": 16.744831085205078,
          "x1": 16.744831085205078,
          "y0": -17.786033630371094,
          "y1": 37.16048049926758
         },
         {
          "line": {
           "color": "#9E9E9E",
           "width": 2
          },
          "type": "line",
          "x0": 9.487494468688965,
          "x1": 24.002168655395508,
          "y0": 9.687223434448242,
          "y1": 9.687223434448242
         }
        ],
        "sliders": [
         {
          "active": 0,
          "pad": {
           "t": 50
          },
          "steps": [
           {
            "args": [
             {
              "marker.color": [
               [
                "red",
                "#B0BEC5",
                "#B0BEC5",
                "#B0BEC5",
                "#B0BEC5",
                "#B0BEC5",
                "#B0BEC5",
                "#B0BEC5",
                "#B0BEC5",
                "#B0BEC5"
               ]
              ]
             }
            ],
            "label": "Topic 0",
            "method": "update"
           },
           {
            "args": [
             {
              "marker.color": [
               [
                "#B0BEC5",
                "red",
                "#B0BEC5",
                "#B0BEC5",
                "#B0BEC5",
                "#B0BEC5",
                "#B0BEC5",
                "#B0BEC5",
                "#B0BEC5",
                "#B0BEC5"
               ]
              ]
             }
            ],
            "label": "Topic 1",
            "method": "update"
           },
           {
            "args": [
             {
              "marker.color": [
               [
                "#B0BEC5",
                "#B0BEC5",
                "red",
                "#B0BEC5",
                "#B0BEC5",
                "#B0BEC5",
                "#B0BEC5",
                "#B0BEC5",
                "#B0BEC5",
                "#B0BEC5"
               ]
              ]
             }
            ],
            "label": "Topic 2",
            "method": "update"
           },
           {
            "args": [
             {
              "marker.color": [
               [
                "#B0BEC5",
                "#B0BEC5",
                "#B0BEC5",
                "red",
                "#B0BEC5",
                "#B0BEC5",
                "#B0BEC5",
                "#B0BEC5",
                "#B0BEC5",
                "#B0BEC5"
               ]
              ]
             }
            ],
            "label": "Topic 3",
            "method": "update"
           },
           {
            "args": [
             {
              "marker.color": [
               [
                "#B0BEC5",
                "#B0BEC5",
                "#B0BEC5",
                "#B0BEC5",
                "red",
                "#B0BEC5",
                "#B0BEC5",
                "#B0BEC5",
                "#B0BEC5",
                "#B0BEC5"
               ]
              ]
             }
            ],
            "label": "Topic 4",
            "method": "update"
           },
           {
            "args": [
             {
              "marker.color": [
               [
                "#B0BEC5",
                "#B0BEC5",
                "#B0BEC5",
                "#B0BEC5",
                "#B0BEC5",
                "red",
                "#B0BEC5",
                "#B0BEC5",
                "#B0BEC5",
                "#B0BEC5"
               ]
              ]
             }
            ],
            "label": "Topic 5",
            "method": "update"
           },
           {
            "args": [
             {
              "marker.color": [
               [
                "#B0BEC5",
                "#B0BEC5",
                "#B0BEC5",
                "#B0BEC5",
                "#B0BEC5",
                "#B0BEC5",
                "red",
                "#B0BEC5",
                "#B0BEC5",
                "#B0BEC5"
               ]
              ]
             }
            ],
            "label": "Topic 6",
            "method": "update"
           },
           {
            "args": [
             {
              "marker.color": [
               [
                "#B0BEC5",
                "#B0BEC5",
                "#B0BEC5",
                "#B0BEC5",
                "#B0BEC5",
                "#B0BEC5",
                "#B0BEC5",
                "red",
                "#B0BEC5",
                "#B0BEC5"
               ]
              ]
             }
            ],
            "label": "Topic 7",
            "method": "update"
           },
           {
            "args": [
             {
              "marker.color": [
               [
                "#B0BEC5",
                "#B0BEC5",
                "#B0BEC5",
                "#B0BEC5",
                "#B0BEC5",
                "#B0BEC5",
                "#B0BEC5",
                "#B0BEC5",
                "red",
                "#B0BEC5"
               ]
              ]
             }
            ],
            "label": "Topic 8",
            "method": "update"
           },
           {
            "args": [
             {
              "marker.color": [
               [
                "#B0BEC5",
                "#B0BEC5",
                "#B0BEC5",
                "#B0BEC5",
                "#B0BEC5",
                "#B0BEC5",
                "#B0BEC5",
                "#B0BEC5",
                "#B0BEC5",
                "red"
               ]
              ]
             }
            ],
            "label": "Topic 9",
            "method": "update"
           }
          ]
         }
        ],
        "template": {
         "data": {
          "bar": [
           {
            "error_x": {
             "color": "rgb(36,36,36)"
            },
            "error_y": {
             "color": "rgb(36,36,36)"
            },
            "marker": {
             "line": {
              "color": "white",
              "width": 0.5
             },
             "pattern": {
              "fillmode": "overlay",
              "size": 10,
              "solidity": 0.2
             }
            },
            "type": "bar"
           }
          ],
          "barpolar": [
           {
            "marker": {
             "line": {
              "color": "white",
              "width": 0.5
             },
             "pattern": {
              "fillmode": "overlay",
              "size": 10,
              "solidity": 0.2
             }
            },
            "type": "barpolar"
           }
          ],
          "carpet": [
           {
            "aaxis": {
             "endlinecolor": "rgb(36,36,36)",
             "gridcolor": "white",
             "linecolor": "white",
             "minorgridcolor": "white",
             "startlinecolor": "rgb(36,36,36)"
            },
            "baxis": {
             "endlinecolor": "rgb(36,36,36)",
             "gridcolor": "white",
             "linecolor": "white",
             "minorgridcolor": "white",
             "startlinecolor": "rgb(36,36,36)"
            },
            "type": "carpet"
           }
          ],
          "choropleth": [
           {
            "colorbar": {
             "outlinewidth": 1,
             "tickcolor": "rgb(36,36,36)",
             "ticks": "outside"
            },
            "type": "choropleth"
           }
          ],
          "contour": [
           {
            "colorbar": {
             "outlinewidth": 1,
             "tickcolor": "rgb(36,36,36)",
             "ticks": "outside"
            },
            "colorscale": [
             [
              0,
              "#440154"
             ],
             [
              0.1111111111111111,
              "#482878"
             ],
             [
              0.2222222222222222,
              "#3e4989"
             ],
             [
              0.3333333333333333,
              "#31688e"
             ],
             [
              0.4444444444444444,
              "#26828e"
             ],
             [
              0.5555555555555556,
              "#1f9e89"
             ],
             [
              0.6666666666666666,
              "#35b779"
             ],
             [
              0.7777777777777778,
              "#6ece58"
             ],
             [
              0.8888888888888888,
              "#b5de2b"
             ],
             [
              1,
              "#fde725"
             ]
            ],
            "type": "contour"
           }
          ],
          "contourcarpet": [
           {
            "colorbar": {
             "outlinewidth": 1,
             "tickcolor": "rgb(36,36,36)",
             "ticks": "outside"
            },
            "type": "contourcarpet"
           }
          ],
          "heatmap": [
           {
            "colorbar": {
             "outlinewidth": 1,
             "tickcolor": "rgb(36,36,36)",
             "ticks": "outside"
            },
            "colorscale": [
             [
              0,
              "#440154"
             ],
             [
              0.1111111111111111,
              "#482878"
             ],
             [
              0.2222222222222222,
              "#3e4989"
             ],
             [
              0.3333333333333333,
              "#31688e"
             ],
             [
              0.4444444444444444,
              "#26828e"
             ],
             [
              0.5555555555555556,
              "#1f9e89"
             ],
             [
              0.6666666666666666,
              "#35b779"
             ],
             [
              0.7777777777777778,
              "#6ece58"
             ],
             [
              0.8888888888888888,
              "#b5de2b"
             ],
             [
              1,
              "#fde725"
             ]
            ],
            "type": "heatmap"
           }
          ],
          "heatmapgl": [
           {
            "colorbar": {
             "outlinewidth": 1,
             "tickcolor": "rgb(36,36,36)",
             "ticks": "outside"
            },
            "colorscale": [
             [
              0,
              "#440154"
             ],
             [
              0.1111111111111111,
              "#482878"
             ],
             [
              0.2222222222222222,
              "#3e4989"
             ],
             [
              0.3333333333333333,
              "#31688e"
             ],
             [
              0.4444444444444444,
              "#26828e"
             ],
             [
              0.5555555555555556,
              "#1f9e89"
             ],
             [
              0.6666666666666666,
              "#35b779"
             ],
             [
              0.7777777777777778,
              "#6ece58"
             ],
             [
              0.8888888888888888,
              "#b5de2b"
             ],
             [
              1,
              "#fde725"
             ]
            ],
            "type": "heatmapgl"
           }
          ],
          "histogram": [
           {
            "marker": {
             "line": {
              "color": "white",
              "width": 0.6
             }
            },
            "type": "histogram"
           }
          ],
          "histogram2d": [
           {
            "colorbar": {
             "outlinewidth": 1,
             "tickcolor": "rgb(36,36,36)",
             "ticks": "outside"
            },
            "colorscale": [
             [
              0,
              "#440154"
             ],
             [
              0.1111111111111111,
              "#482878"
             ],
             [
              0.2222222222222222,
              "#3e4989"
             ],
             [
              0.3333333333333333,
              "#31688e"
             ],
             [
              0.4444444444444444,
              "#26828e"
             ],
             [
              0.5555555555555556,
              "#1f9e89"
             ],
             [
              0.6666666666666666,
              "#35b779"
             ],
             [
              0.7777777777777778,
              "#6ece58"
             ],
             [
              0.8888888888888888,
              "#b5de2b"
             ],
             [
              1,
              "#fde725"
             ]
            ],
            "type": "histogram2d"
           }
          ],
          "histogram2dcontour": [
           {
            "colorbar": {
             "outlinewidth": 1,
             "tickcolor": "rgb(36,36,36)",
             "ticks": "outside"
            },
            "colorscale": [
             [
              0,
              "#440154"
             ],
             [
              0.1111111111111111,
              "#482878"
             ],
             [
              0.2222222222222222,
              "#3e4989"
             ],
             [
              0.3333333333333333,
              "#31688e"
             ],
             [
              0.4444444444444444,
              "#26828e"
             ],
             [
              0.5555555555555556,
              "#1f9e89"
             ],
             [
              0.6666666666666666,
              "#35b779"
             ],
             [
              0.7777777777777778,
              "#6ece58"
             ],
             [
              0.8888888888888888,
              "#b5de2b"
             ],
             [
              1,
              "#fde725"
             ]
            ],
            "type": "histogram2dcontour"
           }
          ],
          "mesh3d": [
           {
            "colorbar": {
             "outlinewidth": 1,
             "tickcolor": "rgb(36,36,36)",
             "ticks": "outside"
            },
            "type": "mesh3d"
           }
          ],
          "parcoords": [
           {
            "line": {
             "colorbar": {
              "outlinewidth": 1,
              "tickcolor": "rgb(36,36,36)",
              "ticks": "outside"
             }
            },
            "type": "parcoords"
           }
          ],
          "pie": [
           {
            "automargin": true,
            "type": "pie"
           }
          ],
          "scatter": [
           {
            "fillpattern": {
             "fillmode": "overlay",
             "size": 10,
             "solidity": 0.2
            },
            "type": "scatter"
           }
          ],
          "scatter3d": [
           {
            "line": {
             "colorbar": {
              "outlinewidth": 1,
              "tickcolor": "rgb(36,36,36)",
              "ticks": "outside"
             }
            },
            "marker": {
             "colorbar": {
              "outlinewidth": 1,
              "tickcolor": "rgb(36,36,36)",
              "ticks": "outside"
             }
            },
            "type": "scatter3d"
           }
          ],
          "scattercarpet": [
           {
            "marker": {
             "colorbar": {
              "outlinewidth": 1,
              "tickcolor": "rgb(36,36,36)",
              "ticks": "outside"
             }
            },
            "type": "scattercarpet"
           }
          ],
          "scattergeo": [
           {
            "marker": {
             "colorbar": {
              "outlinewidth": 1,
              "tickcolor": "rgb(36,36,36)",
              "ticks": "outside"
             }
            },
            "type": "scattergeo"
           }
          ],
          "scattergl": [
           {
            "marker": {
             "colorbar": {
              "outlinewidth": 1,
              "tickcolor": "rgb(36,36,36)",
              "ticks": "outside"
             }
            },
            "type": "scattergl"
           }
          ],
          "scattermapbox": [
           {
            "marker": {
             "colorbar": {
              "outlinewidth": 1,
              "tickcolor": "rgb(36,36,36)",
              "ticks": "outside"
             }
            },
            "type": "scattermapbox"
           }
          ],
          "scatterpolar": [
           {
            "marker": {
             "colorbar": {
              "outlinewidth": 1,
              "tickcolor": "rgb(36,36,36)",
              "ticks": "outside"
             }
            },
            "type": "scatterpolar"
           }
          ],
          "scatterpolargl": [
           {
            "marker": {
             "colorbar": {
              "outlinewidth": 1,
              "tickcolor": "rgb(36,36,36)",
              "ticks": "outside"
             }
            },
            "type": "scatterpolargl"
           }
          ],
          "scatterternary": [
           {
            "marker": {
             "colorbar": {
              "outlinewidth": 1,
              "tickcolor": "rgb(36,36,36)",
              "ticks": "outside"
             }
            },
            "type": "scatterternary"
           }
          ],
          "surface": [
           {
            "colorbar": {
             "outlinewidth": 1,
             "tickcolor": "rgb(36,36,36)",
             "ticks": "outside"
            },
            "colorscale": [
             [
              0,
              "#440154"
             ],
             [
              0.1111111111111111,
              "#482878"
             ],
             [
              0.2222222222222222,
              "#3e4989"
             ],
             [
              0.3333333333333333,
              "#31688e"
             ],
             [
              0.4444444444444444,
              "#26828e"
             ],
             [
              0.5555555555555556,
              "#1f9e89"
             ],
             [
              0.6666666666666666,
              "#35b779"
             ],
             [
              0.7777777777777778,
              "#6ece58"
             ],
             [
              0.8888888888888888,
              "#b5de2b"
             ],
             [
              1,
              "#fde725"
             ]
            ],
            "type": "surface"
           }
          ],
          "table": [
           {
            "cells": {
             "fill": {
              "color": "rgb(237,237,237)"
             },
             "line": {
              "color": "white"
             }
            },
            "header": {
             "fill": {
              "color": "rgb(217,217,217)"
             },
             "line": {
              "color": "white"
             }
            },
            "type": "table"
           }
          ]
         },
         "layout": {
          "annotationdefaults": {
           "arrowhead": 0,
           "arrowwidth": 1
          },
          "autotypenumbers": "strict",
          "coloraxis": {
           "colorbar": {
            "outlinewidth": 1,
            "tickcolor": "rgb(36,36,36)",
            "ticks": "outside"
           }
          },
          "colorscale": {
           "diverging": [
            [
             0,
             "rgb(103,0,31)"
            ],
            [
             0.1,
             "rgb(178,24,43)"
            ],
            [
             0.2,
             "rgb(214,96,77)"
            ],
            [
             0.3,
             "rgb(244,165,130)"
            ],
            [
             0.4,
             "rgb(253,219,199)"
            ],
            [
             0.5,
             "rgb(247,247,247)"
            ],
            [
             0.6,
             "rgb(209,229,240)"
            ],
            [
             0.7,
             "rgb(146,197,222)"
            ],
            [
             0.8,
             "rgb(67,147,195)"
            ],
            [
             0.9,
             "rgb(33,102,172)"
            ],
            [
             1,
             "rgb(5,48,97)"
            ]
           ],
           "sequential": [
            [
             0,
             "#440154"
            ],
            [
             0.1111111111111111,
             "#482878"
            ],
            [
             0.2222222222222222,
             "#3e4989"
            ],
            [
             0.3333333333333333,
             "#31688e"
            ],
            [
             0.4444444444444444,
             "#26828e"
            ],
            [
             0.5555555555555556,
             "#1f9e89"
            ],
            [
             0.6666666666666666,
             "#35b779"
            ],
            [
             0.7777777777777778,
             "#6ece58"
            ],
            [
             0.8888888888888888,
             "#b5de2b"
            ],
            [
             1,
             "#fde725"
            ]
           ],
           "sequentialminus": [
            [
             0,
             "#440154"
            ],
            [
             0.1111111111111111,
             "#482878"
            ],
            [
             0.2222222222222222,
             "#3e4989"
            ],
            [
             0.3333333333333333,
             "#31688e"
            ],
            [
             0.4444444444444444,
             "#26828e"
            ],
            [
             0.5555555555555556,
             "#1f9e89"
            ],
            [
             0.6666666666666666,
             "#35b779"
            ],
            [
             0.7777777777777778,
             "#6ece58"
            ],
            [
             0.8888888888888888,
             "#b5de2b"
            ],
            [
             1,
             "#fde725"
            ]
           ]
          },
          "colorway": [
           "#1F77B4",
           "#FF7F0E",
           "#2CA02C",
           "#D62728",
           "#9467BD",
           "#8C564B",
           "#E377C2",
           "#7F7F7F",
           "#BCBD22",
           "#17BECF"
          ],
          "font": {
           "color": "rgb(36,36,36)"
          },
          "geo": {
           "bgcolor": "white",
           "lakecolor": "white",
           "landcolor": "white",
           "showlakes": true,
           "showland": true,
           "subunitcolor": "white"
          },
          "hoverlabel": {
           "align": "left"
          },
          "hovermode": "closest",
          "mapbox": {
           "style": "light"
          },
          "paper_bgcolor": "white",
          "plot_bgcolor": "white",
          "polar": {
           "angularaxis": {
            "gridcolor": "rgb(232,232,232)",
            "linecolor": "rgb(36,36,36)",
            "showgrid": false,
            "showline": true,
            "ticks": "outside"
           },
           "bgcolor": "white",
           "radialaxis": {
            "gridcolor": "rgb(232,232,232)",
            "linecolor": "rgb(36,36,36)",
            "showgrid": false,
            "showline": true,
            "ticks": "outside"
           }
          },
          "scene": {
           "xaxis": {
            "backgroundcolor": "white",
            "gridcolor": "rgb(232,232,232)",
            "gridwidth": 2,
            "linecolor": "rgb(36,36,36)",
            "showbackground": true,
            "showgrid": false,
            "showline": true,
            "ticks": "outside",
            "zeroline": false,
            "zerolinecolor": "rgb(36,36,36)"
           },
           "yaxis": {
            "backgroundcolor": "white",
            "gridcolor": "rgb(232,232,232)",
            "gridwidth": 2,
            "linecolor": "rgb(36,36,36)",
            "showbackground": true,
            "showgrid": false,
            "showline": true,
            "ticks": "outside",
            "zeroline": false,
            "zerolinecolor": "rgb(36,36,36)"
           },
           "zaxis": {
            "backgroundcolor": "white",
            "gridcolor": "rgb(232,232,232)",
            "gridwidth": 2,
            "linecolor": "rgb(36,36,36)",
            "showbackground": true,
            "showgrid": false,
            "showline": true,
            "ticks": "outside",
            "zeroline": false,
            "zerolinecolor": "rgb(36,36,36)"
           }
          },
          "shapedefaults": {
           "fillcolor": "black",
           "line": {
            "width": 0
           },
           "opacity": 0.3
          },
          "ternary": {
           "aaxis": {
            "gridcolor": "rgb(232,232,232)",
            "linecolor": "rgb(36,36,36)",
            "showgrid": false,
            "showline": true,
            "ticks": "outside"
           },
           "baxis": {
            "gridcolor": "rgb(232,232,232)",
            "linecolor": "rgb(36,36,36)",
            "showgrid": false,
            "showline": true,
            "ticks": "outside"
           },
           "bgcolor": "white",
           "caxis": {
            "gridcolor": "rgb(232,232,232)",
            "linecolor": "rgb(36,36,36)",
            "showgrid": false,
            "showline": true,
            "ticks": "outside"
           }
          },
          "title": {
           "x": 0.05
          },
          "xaxis": {
           "automargin": true,
           "gridcolor": "rgb(232,232,232)",
           "linecolor": "rgb(36,36,36)",
           "showgrid": false,
           "showline": true,
           "ticks": "outside",
           "title": {
            "standoff": 15
           },
           "zeroline": false,
           "zerolinecolor": "rgb(36,36,36)"
          },
          "yaxis": {
           "automargin": true,
           "gridcolor": "rgb(232,232,232)",
           "linecolor": "rgb(36,36,36)",
           "showgrid": false,
           "showline": true,
           "ticks": "outside",
           "title": {
            "standoff": 15
           },
           "zeroline": false,
           "zerolinecolor": "rgb(36,36,36)"
          }
         }
        },
        "title": {
         "font": {
          "color": "Black",
          "size": 22
         },
         "text": "<b>Intertopic Distance Map</b>",
         "x": 0.5,
         "xanchor": "center",
         "y": 0.95,
         "yanchor": "top"
        },
        "width": 650,
        "xaxis": {
         "anchor": "y",
         "domain": [
          0,
          1
         ],
         "range": [
          9.487494468688965,
          24.002168655395508
         ],
         "title": {
          "text": ""
         },
         "visible": false
        },
        "yaxis": {
         "anchor": "x",
         "domain": [
          0,
          1
         ],
         "range": [
          -17.786033630371094,
          37.16048049926758
         ],
         "title": {
          "text": ""
         },
         "visible": false
        }
       }
      }
     },
     "metadata": {},
     "output_type": "display_data"
    }
   ],
   "source": [
    "topic_model.visualize_topics()"
   ]
  },
  {
   "cell_type": "code",
   "execution_count": null,
   "metadata": {},
   "outputs": [],
   "source": [
    "topic_model.visualize_documents(docs)"
   ]
  },
  {
   "cell_type": "code",
   "execution_count": 12,
   "metadata": {},
   "outputs": [
    {
     "name": "stderr",
     "output_type": "stream",
     "text": [
      "3it [00:00, 10.24it/s]\n"
     ]
    },
    {
     "data": {
      "application/vnd.plotly.v1+json": {
       "config": {
        "plotlyServerURL": "https://plot.ly"
       },
       "data": [
        {
         "hoverinfo": "text",
         "hovertext": [
          "<b>Topic 0</b><br>Words: dint, , , , ",
          "<b>Topic 0</b><br>Words: dint, , , , ",
          "<b>Topic 0</b><br>Words: dint, , , , "
         ],
         "marker": {
          "color": "#E69F00"
         },
         "name": "0_dint___",
         "orientation": "h",
         "type": "bar",
         "visible": true,
         "x": [
          0.8437788405899801,
          0.4781413430009887,
          0.24375833172599426
         ],
         "y": [
          "OBE2",
          "OBE1",
          "Compassion"
         ]
        },
        {
         "hoverinfo": "text",
         "hovertext": [
          "<b>Topic 1</b><br>Words: focus, focusing, distracted, heart, concentrate",
          "<b>Topic 1</b><br>Words: focus, focus example, could focus, couldnt, concentrate",
          "<b>Topic 1</b><br>Words: focus, leg, distracted, focus leg, get"
         ],
         "marker": {
          "color": "#56B4E9"
         },
         "name": "1_focus_leg_focusing_distracted",
         "orientation": "h",
         "type": "bar",
         "visible": "legendonly",
         "x": [
          0.6730441780236112,
          0.20565238772943675,
          0.7104355212471452
         ],
         "y": [
          "OBE2",
          "OBE1",
          "Compassion"
         ]
        },
        {
         "hoverinfo": "text",
         "hovertext": [
          "<b>Topic 2</b><br>Words: felt, sensation, feel, shell, becoming",
          "<b>Topic 2</b><br>Words: felt, bigger, sensation, feeling, feel",
          "<b>Topic 2</b><br>Words: felt, sensation, feel, gear, despite im"
         ],
         "marker": {
          "color": "#009E73"
         },
         "name": "2_felt_sensation_feel_bigger",
         "orientation": "h",
         "type": "bar",
         "visible": "legendonly",
         "x": [
          0.8369922322356853,
          0.4583528890814467,
          0.2989257972270305
         ],
         "y": [
          "OBE2",
          "OBE1",
          "Compassion"
         ]
        },
        {
         "hoverinfo": "text",
         "hovertext": [
          "<b>Topic 3</b><br>Words: meditation, meditation meditation, meditating, meditate, would",
          "<b>Topic 3</b><br>Words: meditation, journey, astral, travel, astral journey",
          "<b>Topic 3</b><br>Words: meditation, towards, compassionate towards, compassionate, compassion"
         ],
         "marker": {
          "color": "#F0E442"
         },
         "name": "3_meditation_meditation meditation_astra...",
         "orientation": "h",
         "type": "bar",
         "visible": "legendonly",
         "x": [
          0.8760057597568056,
          0.30660201591488195,
          0.3723024478966424
         ],
         "y": [
          "OBE2",
          "OBE1",
          "Compassion"
         ]
        },
        {
         "hoverinfo": "text",
         "hovertext": [
          "<b>Topic 4</b><br>Words: think, think think, thinking, thought would, thinking think",
          "<b>Topic 4</b><br>Words: think, think think, thought, elsewhere pretty, clear think",
          "<b>Topic 4</b><br>Words: think, thought, think think, thought would, people"
         ],
         "marker": {
          "color": "#D55E00"
         },
         "name": "4_think_think think_thinking_thought",
         "orientation": "h",
         "type": "bar",
         "visible": "legendonly",
         "x": [
          0.9589578582176914,
          0.22931600957379578,
          0.16677527969003328
         ],
         "y": [
          "OBE2",
          "OBE1",
          "Compassion"
         ]
        },
        {
         "hoverinfo": "text",
         "hovertext": [
          "<b>Topic 5</b><br>Words: eye, eye closed, closed, open, close",
          "<b>Topic 5</b><br>Words: eye, closed, open, eye closed, eye open",
          "<b>Topic 5</b><br>Words: eye, closed, eye closed, open, eye open"
         ],
         "marker": {
          "color": "#0072B2"
         },
         "name": "5_eye_closed_eye closed_open",
         "orientation": "h",
         "type": "bar",
         "visible": "legendonly",
         "x": [
          0.6651414606725905,
          0.3930381358519853,
          0.6349077579147455
         ],
         "y": [
          "OBE2",
          "OBE1",
          "Compassion"
         ]
        },
        {
         "hoverinfo": "text",
         "hovertext": [
          "<b>Topic 6</b><br>Words: outside, go, mountain, im outside, room",
          "<b>Topic 6</b><br>Words: environment, grass, outside, observing, nature",
          "<b>Topic 6</b><br>Words: place, room, tall building, tall, different place"
         ],
         "marker": {
          "color": "#CC79A7"
         },
         "name": "6_outside_environment_go_room",
         "orientation": "h",
         "type": "bar",
         "visible": "legendonly",
         "x": [
          0.9723396111750604,
          0.21344040245306203,
          0.09486240109024979
         ],
         "y": [
          "OBE2",
          "OBE1",
          "Compassion"
         ]
        },
        {
         "hoverinfo": "text",
         "hovertext": [
          "<b>Topic 7</b><br>Words: one, second one, second, first one, one think",
          "<b>Topic 7</b><br>Words: went one, somewhat, somewhat thats, one went, episode",
          "<b>Topic 7</b><br>Words: second, second one, one, first, condition"
         ],
         "marker": {
          "color": "#E69F00"
         },
         "name": "7_one_second one_second_first one",
         "orientation": "h",
         "type": "bar",
         "visible": "legendonly",
         "x": [
          0.9355285539274978,
          0.14617633655117152,
          0.3215879404125773
         ],
         "y": [
          "OBE2",
          "OBE1",
          "Compassion"
         ]
        },
        {
         "hoverinfo": "text",
         "hovertext": [
          "<b>Topic 8</b><br>Words: mirror, body, seeing, seeing body, see",
          "<b>Topic 8</b><br>Words: body, seeing body, perception, consciousness, part body",
          "<b>Topic 8</b><br>Words: couldnt see, couldnt, body still, staring representation, told couldnt"
         ],
         "marker": {
          "color": "#56B4E9"
         },
         "name": "8_body_mirror_seeing_seeing body",
         "orientation": "h",
         "type": "bar",
         "visible": "legendonly",
         "x": [
          0.9179789598577317,
          0.34819891580810514,
          0.18992668134987553
         ],
         "y": [
          "OBE2",
          "OBE1",
          "Compassion"
         ]
        },
        {
         "hoverinfo": "text",
         "hovertext": [
          "<b>Topic 9</b><br>Words: reality, virtual, virtual reality, illusion, vr",
          "<b>Topic 9</b><br>Words: vr, body vr, visualization body, virtual visualization, visualization",
          "<b>Topic 9</b><br>Words: virtual, virtual reality, reality, disassociate, questionnaire"
         ],
         "marker": {
          "color": "#009E73"
         },
         "name": "9_virtual_reality_virtual reality_vr",
         "orientation": "h",
         "type": "bar",
         "visible": "legendonly",
         "x": [
          0.9730184719546422,
          0.1144727614064285,
          0.20032733246124987
         ],
         "y": [
          "OBE2",
          "OBE1",
          "Compassion"
         ]
        }
       ],
       "layout": {
        "height": 900,
        "hoverlabel": {
         "bgcolor": "white",
         "font": {
          "family": "Rockwell",
          "size": 16
         }
        },
        "legend": {
         "title": {
          "text": "<b>Global Topic Representation"
         }
        },
        "template": {
         "data": {
          "bar": [
           {
            "error_x": {
             "color": "rgb(36,36,36)"
            },
            "error_y": {
             "color": "rgb(36,36,36)"
            },
            "marker": {
             "line": {
              "color": "white",
              "width": 0.5
             },
             "pattern": {
              "fillmode": "overlay",
              "size": 10,
              "solidity": 0.2
             }
            },
            "type": "bar"
           }
          ],
          "barpolar": [
           {
            "marker": {
             "line": {
              "color": "white",
              "width": 0.5
             },
             "pattern": {
              "fillmode": "overlay",
              "size": 10,
              "solidity": 0.2
             }
            },
            "type": "barpolar"
           }
          ],
          "carpet": [
           {
            "aaxis": {
             "endlinecolor": "rgb(36,36,36)",
             "gridcolor": "white",
             "linecolor": "white",
             "minorgridcolor": "white",
             "startlinecolor": "rgb(36,36,36)"
            },
            "baxis": {
             "endlinecolor": "rgb(36,36,36)",
             "gridcolor": "white",
             "linecolor": "white",
             "minorgridcolor": "white",
             "startlinecolor": "rgb(36,36,36)"
            },
            "type": "carpet"
           }
          ],
          "choropleth": [
           {
            "colorbar": {
             "outlinewidth": 1,
             "tickcolor": "rgb(36,36,36)",
             "ticks": "outside"
            },
            "type": "choropleth"
           }
          ],
          "contour": [
           {
            "colorbar": {
             "outlinewidth": 1,
             "tickcolor": "rgb(36,36,36)",
             "ticks": "outside"
            },
            "colorscale": [
             [
              0,
              "#440154"
             ],
             [
              0.1111111111111111,
              "#482878"
             ],
             [
              0.2222222222222222,
              "#3e4989"
             ],
             [
              0.3333333333333333,
              "#31688e"
             ],
             [
              0.4444444444444444,
              "#26828e"
             ],
             [
              0.5555555555555556,
              "#1f9e89"
             ],
             [
              0.6666666666666666,
              "#35b779"
             ],
             [
              0.7777777777777778,
              "#6ece58"
             ],
             [
              0.8888888888888888,
              "#b5de2b"
             ],
             [
              1,
              "#fde725"
             ]
            ],
            "type": "contour"
           }
          ],
          "contourcarpet": [
           {
            "colorbar": {
             "outlinewidth": 1,
             "tickcolor": "rgb(36,36,36)",
             "ticks": "outside"
            },
            "type": "contourcarpet"
           }
          ],
          "heatmap": [
           {
            "colorbar": {
             "outlinewidth": 1,
             "tickcolor": "rgb(36,36,36)",
             "ticks": "outside"
            },
            "colorscale": [
             [
              0,
              "#440154"
             ],
             [
              0.1111111111111111,
              "#482878"
             ],
             [
              0.2222222222222222,
              "#3e4989"
             ],
             [
              0.3333333333333333,
              "#31688e"
             ],
             [
              0.4444444444444444,
              "#26828e"
             ],
             [
              0.5555555555555556,
              "#1f9e89"
             ],
             [
              0.6666666666666666,
              "#35b779"
             ],
             [
              0.7777777777777778,
              "#6ece58"
             ],
             [
              0.8888888888888888,
              "#b5de2b"
             ],
             [
              1,
              "#fde725"
             ]
            ],
            "type": "heatmap"
           }
          ],
          "heatmapgl": [
           {
            "colorbar": {
             "outlinewidth": 1,
             "tickcolor": "rgb(36,36,36)",
             "ticks": "outside"
            },
            "colorscale": [
             [
              0,
              "#440154"
             ],
             [
              0.1111111111111111,
              "#482878"
             ],
             [
              0.2222222222222222,
              "#3e4989"
             ],
             [
              0.3333333333333333,
              "#31688e"
             ],
             [
              0.4444444444444444,
              "#26828e"
             ],
             [
              0.5555555555555556,
              "#1f9e89"
             ],
             [
              0.6666666666666666,
              "#35b779"
             ],
             [
              0.7777777777777778,
              "#6ece58"
             ],
             [
              0.8888888888888888,
              "#b5de2b"
             ],
             [
              1,
              "#fde725"
             ]
            ],
            "type": "heatmapgl"
           }
          ],
          "histogram": [
           {
            "marker": {
             "line": {
              "color": "white",
              "width": 0.6
             }
            },
            "type": "histogram"
           }
          ],
          "histogram2d": [
           {
            "colorbar": {
             "outlinewidth": 1,
             "tickcolor": "rgb(36,36,36)",
             "ticks": "outside"
            },
            "colorscale": [
             [
              0,
              "#440154"
             ],
             [
              0.1111111111111111,
              "#482878"
             ],
             [
              0.2222222222222222,
              "#3e4989"
             ],
             [
              0.3333333333333333,
              "#31688e"
             ],
             [
              0.4444444444444444,
              "#26828e"
             ],
             [
              0.5555555555555556,
              "#1f9e89"
             ],
             [
              0.6666666666666666,
              "#35b779"
             ],
             [
              0.7777777777777778,
              "#6ece58"
             ],
             [
              0.8888888888888888,
              "#b5de2b"
             ],
             [
              1,
              "#fde725"
             ]
            ],
            "type": "histogram2d"
           }
          ],
          "histogram2dcontour": [
           {
            "colorbar": {
             "outlinewidth": 1,
             "tickcolor": "rgb(36,36,36)",
             "ticks": "outside"
            },
            "colorscale": [
             [
              0,
              "#440154"
             ],
             [
              0.1111111111111111,
              "#482878"
             ],
             [
              0.2222222222222222,
              "#3e4989"
             ],
             [
              0.3333333333333333,
              "#31688e"
             ],
             [
              0.4444444444444444,
              "#26828e"
             ],
             [
              0.5555555555555556,
              "#1f9e89"
             ],
             [
              0.6666666666666666,
              "#35b779"
             ],
             [
              0.7777777777777778,
              "#6ece58"
             ],
             [
              0.8888888888888888,
              "#b5de2b"
             ],
             [
              1,
              "#fde725"
             ]
            ],
            "type": "histogram2dcontour"
           }
          ],
          "mesh3d": [
           {
            "colorbar": {
             "outlinewidth": 1,
             "tickcolor": "rgb(36,36,36)",
             "ticks": "outside"
            },
            "type": "mesh3d"
           }
          ],
          "parcoords": [
           {
            "line": {
             "colorbar": {
              "outlinewidth": 1,
              "tickcolor": "rgb(36,36,36)",
              "ticks": "outside"
             }
            },
            "type": "parcoords"
           }
          ],
          "pie": [
           {
            "automargin": true,
            "type": "pie"
           }
          ],
          "scatter": [
           {
            "fillpattern": {
             "fillmode": "overlay",
             "size": 10,
             "solidity": 0.2
            },
            "type": "scatter"
           }
          ],
          "scatter3d": [
           {
            "line": {
             "colorbar": {
              "outlinewidth": 1,
              "tickcolor": "rgb(36,36,36)",
              "ticks": "outside"
             }
            },
            "marker": {
             "colorbar": {
              "outlinewidth": 1,
              "tickcolor": "rgb(36,36,36)",
              "ticks": "outside"
             }
            },
            "type": "scatter3d"
           }
          ],
          "scattercarpet": [
           {
            "marker": {
             "colorbar": {
              "outlinewidth": 1,
              "tickcolor": "rgb(36,36,36)",
              "ticks": "outside"
             }
            },
            "type": "scattercarpet"
           }
          ],
          "scattergeo": [
           {
            "marker": {
             "colorbar": {
              "outlinewidth": 1,
              "tickcolor": "rgb(36,36,36)",
              "ticks": "outside"
             }
            },
            "type": "scattergeo"
           }
          ],
          "scattergl": [
           {
            "marker": {
             "colorbar": {
              "outlinewidth": 1,
              "tickcolor": "rgb(36,36,36)",
              "ticks": "outside"
             }
            },
            "type": "scattergl"
           }
          ],
          "scattermapbox": [
           {
            "marker": {
             "colorbar": {
              "outlinewidth": 1,
              "tickcolor": "rgb(36,36,36)",
              "ticks": "outside"
             }
            },
            "type": "scattermapbox"
           }
          ],
          "scatterpolar": [
           {
            "marker": {
             "colorbar": {
              "outlinewidth": 1,
              "tickcolor": "rgb(36,36,36)",
              "ticks": "outside"
             }
            },
            "type": "scatterpolar"
           }
          ],
          "scatterpolargl": [
           {
            "marker": {
             "colorbar": {
              "outlinewidth": 1,
              "tickcolor": "rgb(36,36,36)",
              "ticks": "outside"
             }
            },
            "type": "scatterpolargl"
           }
          ],
          "scatterternary": [
           {
            "marker": {
             "colorbar": {
              "outlinewidth": 1,
              "tickcolor": "rgb(36,36,36)",
              "ticks": "outside"
             }
            },
            "type": "scatterternary"
           }
          ],
          "surface": [
           {
            "colorbar": {
             "outlinewidth": 1,
             "tickcolor": "rgb(36,36,36)",
             "ticks": "outside"
            },
            "colorscale": [
             [
              0,
              "#440154"
             ],
             [
              0.1111111111111111,
              "#482878"
             ],
             [
              0.2222222222222222,
              "#3e4989"
             ],
             [
              0.3333333333333333,
              "#31688e"
             ],
             [
              0.4444444444444444,
              "#26828e"
             ],
             [
              0.5555555555555556,
              "#1f9e89"
             ],
             [
              0.6666666666666666,
              "#35b779"
             ],
             [
              0.7777777777777778,
              "#6ece58"
             ],
             [
              0.8888888888888888,
              "#b5de2b"
             ],
             [
              1,
              "#fde725"
             ]
            ],
            "type": "surface"
           }
          ],
          "table": [
           {
            "cells": {
             "fill": {
              "color": "rgb(237,237,237)"
             },
             "line": {
              "color": "white"
             }
            },
            "header": {
             "fill": {
              "color": "rgb(217,217,217)"
             },
             "line": {
              "color": "white"
             }
            },
            "type": "table"
           }
          ]
         },
         "layout": {
          "annotationdefaults": {
           "arrowhead": 0,
           "arrowwidth": 1
          },
          "autotypenumbers": "strict",
          "coloraxis": {
           "colorbar": {
            "outlinewidth": 1,
            "tickcolor": "rgb(36,36,36)",
            "ticks": "outside"
           }
          },
          "colorscale": {
           "diverging": [
            [
             0,
             "rgb(103,0,31)"
            ],
            [
             0.1,
             "rgb(178,24,43)"
            ],
            [
             0.2,
             "rgb(214,96,77)"
            ],
            [
             0.3,
             "rgb(244,165,130)"
            ],
            [
             0.4,
             "rgb(253,219,199)"
            ],
            [
             0.5,
             "rgb(247,247,247)"
            ],
            [
             0.6,
             "rgb(209,229,240)"
            ],
            [
             0.7,
             "rgb(146,197,222)"
            ],
            [
             0.8,
             "rgb(67,147,195)"
            ],
            [
             0.9,
             "rgb(33,102,172)"
            ],
            [
             1,
             "rgb(5,48,97)"
            ]
           ],
           "sequential": [
            [
             0,
             "#440154"
            ],
            [
             0.1111111111111111,
             "#482878"
            ],
            [
             0.2222222222222222,
             "#3e4989"
            ],
            [
             0.3333333333333333,
             "#31688e"
            ],
            [
             0.4444444444444444,
             "#26828e"
            ],
            [
             0.5555555555555556,
             "#1f9e89"
            ],
            [
             0.6666666666666666,
             "#35b779"
            ],
            [
             0.7777777777777778,
             "#6ece58"
            ],
            [
             0.8888888888888888,
             "#b5de2b"
            ],
            [
             1,
             "#fde725"
            ]
           ],
           "sequentialminus": [
            [
             0,
             "#440154"
            ],
            [
             0.1111111111111111,
             "#482878"
            ],
            [
             0.2222222222222222,
             "#3e4989"
            ],
            [
             0.3333333333333333,
             "#31688e"
            ],
            [
             0.4444444444444444,
             "#26828e"
            ],
            [
             0.5555555555555556,
             "#1f9e89"
            ],
            [
             0.6666666666666666,
             "#35b779"
            ],
            [
             0.7777777777777778,
             "#6ece58"
            ],
            [
             0.8888888888888888,
             "#b5de2b"
            ],
            [
             1,
             "#fde725"
            ]
           ]
          },
          "colorway": [
           "#1F77B4",
           "#FF7F0E",
           "#2CA02C",
           "#D62728",
           "#9467BD",
           "#8C564B",
           "#E377C2",
           "#7F7F7F",
           "#BCBD22",
           "#17BECF"
          ],
          "font": {
           "color": "rgb(36,36,36)"
          },
          "geo": {
           "bgcolor": "white",
           "lakecolor": "white",
           "landcolor": "white",
           "showlakes": true,
           "showland": true,
           "subunitcolor": "white"
          },
          "hoverlabel": {
           "align": "left"
          },
          "hovermode": "closest",
          "mapbox": {
           "style": "light"
          },
          "paper_bgcolor": "white",
          "plot_bgcolor": "white",
          "polar": {
           "angularaxis": {
            "gridcolor": "rgb(232,232,232)",
            "linecolor": "rgb(36,36,36)",
            "showgrid": false,
            "showline": true,
            "ticks": "outside"
           },
           "bgcolor": "white",
           "radialaxis": {
            "gridcolor": "rgb(232,232,232)",
            "linecolor": "rgb(36,36,36)",
            "showgrid": false,
            "showline": true,
            "ticks": "outside"
           }
          },
          "scene": {
           "xaxis": {
            "backgroundcolor": "white",
            "gridcolor": "rgb(232,232,232)",
            "gridwidth": 2,
            "linecolor": "rgb(36,36,36)",
            "showbackground": true,
            "showgrid": false,
            "showline": true,
            "ticks": "outside",
            "zeroline": false,
            "zerolinecolor": "rgb(36,36,36)"
           },
           "yaxis": {
            "backgroundcolor": "white",
            "gridcolor": "rgb(232,232,232)",
            "gridwidth": 2,
            "linecolor": "rgb(36,36,36)",
            "showbackground": true,
            "showgrid": false,
            "showline": true,
            "ticks": "outside",
            "zeroline": false,
            "zerolinecolor": "rgb(36,36,36)"
           },
           "zaxis": {
            "backgroundcolor": "white",
            "gridcolor": "rgb(232,232,232)",
            "gridwidth": 2,
            "linecolor": "rgb(36,36,36)",
            "showbackground": true,
            "showgrid": false,
            "showline": true,
            "ticks": "outside",
            "zeroline": false,
            "zerolinecolor": "rgb(36,36,36)"
           }
          },
          "shapedefaults": {
           "fillcolor": "black",
           "line": {
            "width": 0
           },
           "opacity": 0.3
          },
          "ternary": {
           "aaxis": {
            "gridcolor": "rgb(232,232,232)",
            "linecolor": "rgb(36,36,36)",
            "showgrid": false,
            "showline": true,
            "ticks": "outside"
           },
           "baxis": {
            "gridcolor": "rgb(232,232,232)",
            "linecolor": "rgb(36,36,36)",
            "showgrid": false,
            "showline": true,
            "ticks": "outside"
           },
           "bgcolor": "white",
           "caxis": {
            "gridcolor": "rgb(232,232,232)",
            "linecolor": "rgb(36,36,36)",
            "showgrid": false,
            "showline": true,
            "ticks": "outside"
           }
          },
          "title": {
           "x": 0.05
          },
          "xaxis": {
           "automargin": true,
           "gridcolor": "rgb(232,232,232)",
           "linecolor": "rgb(36,36,36)",
           "showgrid": false,
           "showline": true,
           "ticks": "outside",
           "title": {
            "standoff": 15
           },
           "zeroline": false,
           "zerolinecolor": "rgb(36,36,36)"
          },
          "yaxis": {
           "automargin": true,
           "gridcolor": "rgb(232,232,232)",
           "linecolor": "rgb(36,36,36)",
           "showgrid": false,
           "showline": true,
           "ticks": "outside",
           "title": {
            "standoff": 15
           },
           "zeroline": false,
           "zerolinecolor": "rgb(36,36,36)"
          }
         }
        },
        "title": {
         "font": {
          "color": "Black",
          "size": 22
         },
         "text": "<b>Topics per Class</b>",
         "x": 0.4,
         "xanchor": "center",
         "y": 0.95,
         "yanchor": "top"
        },
        "width": 1250,
        "xaxis": {
         "showgrid": true,
         "title": {
          "text": "Normalized Frequency"
         }
        },
        "yaxis": {
         "showgrid": true,
         "title": {
          "text": "Class"
         }
        }
       }
      }
     },
     "metadata": {},
     "output_type": "display_data"
    }
   ],
   "source": [
    "topics_per_class = topic_model.topics_per_class(docs, classes=df.Experiment)\n",
    "topic_model.visualize_topics_per_class(topics_per_class, top_n_topics=10,normalize_frequency = True)"
   ]
  },
  {
   "cell_type": "markdown",
   "metadata": {},
   "source": [
    "## Play with Hyperparametes"
   ]
  },
  {
   "cell_type": "code",
   "execution_count": 13,
   "metadata": {},
   "outputs": [
    {
     "name": "stdout",
     "output_type": "stream",
     "text": [
      "4031\n"
     ]
    }
   ],
   "source": [
    "docs = list(df_all.Content)\n",
    "print(len(docs))"
   ]
  },
  {
   "cell_type": "code",
   "execution_count": 14,
   "metadata": {},
   "outputs": [],
   "source": [
    "from bertopic.representation import KeyBERTInspired, PartOfSpeech, MaximalMarginalRelevance\n",
    "\n",
    "main_representation_model = KeyBERTInspired()\n",
    "aspect_representation_model1 = PartOfSpeech(\"en_core_web_sm\")\n",
    "aspect_representation_model2 = [KeyBERTInspired(top_n_words=30), \n",
    "                                MaximalMarginalRelevance(diversity=.5)]\n",
    "\n",
    "representation_model = {\n",
    "   \"Main\": main_representation_model,\n",
    "   \"Aspect1\":  aspect_representation_model1,\n",
    "   \"Aspect2\":  aspect_representation_model2 \n",
    "}\n",
    "\n",
    "vectorizer_model = CountVectorizer(min_df=5, stop_words = 'english', ngram_range=(1, 2))\n",
    "\n",
    "topic_model = BERTopic(nr_topics = 'auto', \n",
    "                      vectorizer_model = vectorizer_model,\n",
    "                      representation_model = representation_model)\n",
    "\n",
    "topics, ini_probs = topic_model.fit_transform(docs)"
   ]
  },
  {
   "cell_type": "code",
   "execution_count": 15,
   "metadata": {},
   "outputs": [
    {
     "data": {
      "text/html": [
       "<div>\n",
       "<style scoped>\n",
       "    .dataframe tbody tr th:only-of-type {\n",
       "        vertical-align: middle;\n",
       "    }\n",
       "\n",
       "    .dataframe tbody tr th {\n",
       "        vertical-align: top;\n",
       "    }\n",
       "\n",
       "    .dataframe thead th {\n",
       "        text-align: right;\n",
       "    }\n",
       "</style>\n",
       "<table border=\"1\" class=\"dataframe\">\n",
       "  <thead>\n",
       "    <tr style=\"text-align: right;\">\n",
       "      <th></th>\n",
       "      <th>Count</th>\n",
       "      <th>Share</th>\n",
       "      <th>CumulativeShare</th>\n",
       "      <th>Name</th>\n",
       "      <th>Representation</th>\n",
       "      <th>Aspect1</th>\n",
       "      <th>Aspect2</th>\n",
       "    </tr>\n",
       "    <tr>\n",
       "      <th>Topic</th>\n",
       "      <th></th>\n",
       "      <th></th>\n",
       "      <th></th>\n",
       "      <th></th>\n",
       "      <th></th>\n",
       "      <th></th>\n",
       "      <th></th>\n",
       "    </tr>\n",
       "  </thead>\n",
       "  <tbody>\n",
       "    <tr>\n",
       "      <th>-1</th>\n",
       "      <td>1271</td>\n",
       "      <td>31.530638</td>\n",
       "      <td>31.530638</td>\n",
       "      <td>-1_felt like_felt_feel_feel like</td>\n",
       "      <td>[felt like, felt, feel, feel like, feeling, se...</td>\n",
       "      <td>[body, bit, things, kind, feeling, thing, litt...</td>\n",
       "      <td>[felt, sensation, feeling like, experience, th...</td>\n",
       "    </tr>\n",
       "    <tr>\n",
       "      <th>0</th>\n",
       "      <td>471</td>\n",
       "      <td>11.684446</td>\n",
       "      <td>43.215083</td>\n",
       "      <td>0_experience_felt like_felt really_did feel</td>\n",
       "      <td>[experience, felt like, felt really, did feel,...</td>\n",
       "      <td>[experience, body, nice, feeling, cool, real, ...</td>\n",
       "      <td>[experience, felt like, felt, feel body, like ...</td>\n",
       "    </tr>\n",
       "    <tr>\n",
       "      <th>1</th>\n",
       "      <td>351</td>\n",
       "      <td>8.707517</td>\n",
       "      <td>51.922600</td>\n",
       "      <td>1_okay okay_okay_okay yeah_yeah okay</td>\n",
       "      <td>[okay okay, okay, okay yeah, yeah okay, okay j...</td>\n",
       "      <td>[okay, fine, course, sorry, good, sure, new, g...</td>\n",
       "      <td>[okay im, yes okay, fine, like okay, sure, oka...</td>\n",
       "    </tr>\n",
       "    <tr>\n",
       "      <th>2</th>\n",
       "      <td>114</td>\n",
       "      <td>2.828082</td>\n",
       "      <td>54.750682</td>\n",
       "      <td>2_meditation_felt_like feeling_sensation</td>\n",
       "      <td>[meditation, felt, like feeling, sensation, wa...</td>\n",
       "      <td>[meditation, feeling, normal, experience, task...</td>\n",
       "      <td>[meditation, sensation, like feel, body, effec...</td>\n",
       "    </tr>\n",
       "    <tr>\n",
       "      <th>3</th>\n",
       "      <td>102</td>\n",
       "      <td>2.530389</td>\n",
       "      <td>57.281072</td>\n",
       "      <td>3_questions_ask_asked_okay just</td>\n",
       "      <td>[questions, ask, asked, okay just, okay maybe,...</td>\n",
       "      <td>[questions, question, small, thoughts, great, ...</td>\n",
       "      <td>[ask, okay maybe, great okay, feedback, talk, ...</td>\n",
       "    </tr>\n",
       "    <tr>\n",
       "      <th>4</th>\n",
       "      <td>83</td>\n",
       "      <td>2.059042</td>\n",
       "      <td>59.340114</td>\n",
       "      <td>4_eyes closed_close eyes_eyes_closed</td>\n",
       "      <td>[eyes closed, close eyes, eyes, closed, focus,...</td>\n",
       "      <td>[eyes, closed, open, close, lot, condition, ti...</td>\n",
       "      <td>[eyes closed, focus, relax, meditation, though...</td>\n",
       "    </tr>\n",
       "    <tr>\n",
       "      <th>5</th>\n",
       "      <td>82</td>\n",
       "      <td>2.034235</td>\n",
       "      <td>61.374349</td>\n",
       "      <td>5_thinking_like think_thoughts_mind</td>\n",
       "      <td>[thinking, like think, thoughts, mind, think, ...</td>\n",
       "      <td>[focus, mind, stuff, lot, image, beginning, mo...</td>\n",
       "      <td>[thinking, like think, relax, focus, concentra...</td>\n",
       "    </tr>\n",
       "    <tr>\n",
       "      <th>6</th>\n",
       "      <td>78</td>\n",
       "      <td>1.935004</td>\n",
       "      <td>63.309353</td>\n",
       "      <td>6_thats nice_nice okay_nice_great okay</td>\n",
       "      <td>[thats nice, nice okay, nice, great okay, yeah...</td>\n",
       "      <td>[nice, great, good, interesting, cool, positiv...</td>\n",
       "      <td>[thats nice, nice okay, yeah great, okay yeah,...</td>\n",
       "    </tr>\n",
       "    <tr>\n",
       "      <th>7</th>\n",
       "      <td>72</td>\n",
       "      <td>1.786157</td>\n",
       "      <td>65.095510</td>\n",
       "      <td>7_felt_like body_body body_scene</td>\n",
       "      <td>[felt, like body, body body, scene, body like,...</td>\n",
       "      <td>[scene, image, real, body, end, normal, sessio...</td>\n",
       "      <td>[felt, scene, body like, normal, feeling like,...</td>\n",
       "    </tr>\n",
       "    <tr>\n",
       "      <th>8</th>\n",
       "      <td>71</td>\n",
       "      <td>1.761350</td>\n",
       "      <td>66.856859</td>\n",
       "      <td>8_different_bit different_difference_changes</td>\n",
       "      <td>[different, bit different, difference, changes...</td>\n",
       "      <td>[different, difference, bit, sort, life, posit...</td>\n",
       "      <td>[bit different, changes, like quite, kind like...</td>\n",
       "    </tr>\n",
       "  </tbody>\n",
       "</table>\n",
       "</div>"
      ],
      "text/plain": [
       "       Count      Share  CumulativeShare  \\\n",
       "Topic                                      \n",
       "-1      1271  31.530638        31.530638   \n",
       " 0       471  11.684446        43.215083   \n",
       " 1       351   8.707517        51.922600   \n",
       " 2       114   2.828082        54.750682   \n",
       " 3       102   2.530389        57.281072   \n",
       " 4        83   2.059042        59.340114   \n",
       " 5        82   2.034235        61.374349   \n",
       " 6        78   1.935004        63.309353   \n",
       " 7        72   1.786157        65.095510   \n",
       " 8        71   1.761350        66.856859   \n",
       "\n",
       "                                               Name  \\\n",
       "Topic                                                 \n",
       "-1                 -1_felt like_felt_feel_feel like   \n",
       " 0      0_experience_felt like_felt really_did feel   \n",
       " 1             1_okay okay_okay_okay yeah_yeah okay   \n",
       " 2         2_meditation_felt_like feeling_sensation   \n",
       " 3                  3_questions_ask_asked_okay just   \n",
       " 4             4_eyes closed_close eyes_eyes_closed   \n",
       " 5              5_thinking_like think_thoughts_mind   \n",
       " 6           6_thats nice_nice okay_nice_great okay   \n",
       " 7                 7_felt_like body_body body_scene   \n",
       " 8     8_different_bit different_difference_changes   \n",
       "\n",
       "                                          Representation  \\\n",
       "Topic                                                      \n",
       "-1     [felt like, felt, feel, feel like, feeling, se...   \n",
       " 0     [experience, felt like, felt really, did feel,...   \n",
       " 1     [okay okay, okay, okay yeah, yeah okay, okay j...   \n",
       " 2     [meditation, felt, like feeling, sensation, wa...   \n",
       " 3     [questions, ask, asked, okay just, okay maybe,...   \n",
       " 4     [eyes closed, close eyes, eyes, closed, focus,...   \n",
       " 5     [thinking, like think, thoughts, mind, think, ...   \n",
       " 6     [thats nice, nice okay, nice, great okay, yeah...   \n",
       " 7     [felt, like body, body body, scene, body like,...   \n",
       " 8     [different, bit different, difference, changes...   \n",
       "\n",
       "                                                 Aspect1  \\\n",
       "Topic                                                      \n",
       "-1     [body, bit, things, kind, feeling, thing, litt...   \n",
       " 0     [experience, body, nice, feeling, cool, real, ...   \n",
       " 1     [okay, fine, course, sorry, good, sure, new, g...   \n",
       " 2     [meditation, feeling, normal, experience, task...   \n",
       " 3     [questions, question, small, thoughts, great, ...   \n",
       " 4     [eyes, closed, open, close, lot, condition, ti...   \n",
       " 5     [focus, mind, stuff, lot, image, beginning, mo...   \n",
       " 6     [nice, great, good, interesting, cool, positiv...   \n",
       " 7     [scene, image, real, body, end, normal, sessio...   \n",
       " 8     [different, difference, bit, sort, life, posit...   \n",
       "\n",
       "                                                 Aspect2  \n",
       "Topic                                                     \n",
       "-1     [felt, sensation, feeling like, experience, th...  \n",
       " 0     [experience, felt like, felt, feel body, like ...  \n",
       " 1     [okay im, yes okay, fine, like okay, sure, oka...  \n",
       " 2     [meditation, sensation, like feel, body, effec...  \n",
       " 3     [ask, okay maybe, great okay, feedback, talk, ...  \n",
       " 4     [eyes closed, focus, relax, meditation, though...  \n",
       " 5     [thinking, like think, relax, focus, concentra...  \n",
       " 6     [thats nice, nice okay, yeah great, okay yeah,...  \n",
       " 7     [felt, scene, body like, normal, feeling like,...  \n",
       " 8     [bit different, changes, like quite, kind like...  "
      ]
     },
     "execution_count": 15,
     "metadata": {},
     "output_type": "execute_result"
    }
   ],
   "source": [
    "def get_topic_stats(topic_model, extra_cols = []):\n",
    "    topics_info_df = topic_model.get_topic_info().sort_values('Count', ascending = False)\n",
    "    topics_info_df['Share'] = 100.*topics_info_df['Count']/topics_info_df['Count'].sum()\n",
    "    topics_info_df['CumulativeShare'] = 100.*topics_info_df['Count'].cumsum()/topics_info_df['Count'].sum()\n",
    "    return topics_info_df[['Topic', 'Count', 'Share', 'CumulativeShare', \n",
    "                           'Name', 'Representation'] + extra_cols]\n",
    "\n",
    "get_topic_stats(topic_model, ['Aspect1', 'Aspect2']).head(10)\\\n",
    "    .set_index('Topic')"
   ]
  },
  {
   "cell_type": "code",
   "execution_count": 16,
   "metadata": {},
   "outputs": [
    {
     "data": {
      "text/plain": [
       "63"
      ]
     },
     "execution_count": 16,
     "metadata": {},
     "output_type": "execute_result"
    }
   ],
   "source": [
    "num_topics = len(topic_model.get_topics()) - 1\n",
    "num_topics"
   ]
  },
  {
   "cell_type": "code",
   "execution_count": 17,
   "metadata": {},
   "outputs": [
    {
     "data": {
      "application/vnd.plotly.v1+json": {
       "config": {
        "plotlyServerURL": "https://plot.ly"
       },
       "data": [
        {
         "marker": {
          "color": "#D55E00"
         },
         "orientation": "h",
         "type": "bar",
         "x": [
          0.31873035430908203,
          0.3263360261917114,
          0.3376067876815796,
          0.3488721251487732,
          0.3716251254081726,
          0.37728720903396606,
          0.3986431360244751,
          0.4300554394721985,
          0.4476841688156128,
          0.4915158152580261
         ],
         "xaxis": "x",
         "y": [
          "feeling like  ",
          "feel  ",
          "feeling  ",
          "feel body  ",
          "feel like  ",
          "felt  ",
          "did feel  ",
          "felt really  ",
          "felt like  ",
          "experience  "
         ],
         "yaxis": "y"
        },
        {
         "marker": {
          "color": "#0072B2"
         },
         "orientation": "h",
         "type": "bar",
         "x": [
          0.5665943622589111,
          0.5813341736793518,
          0.5901197195053101,
          0.6060313582420349,
          0.6083673238754272,
          0.6311700344085693,
          0.7135890126228333,
          0.7263283729553223,
          0.7445884943008423,
          0.7788277864456177
         ],
         "xaxis": "x2",
         "y": [
          "okay dont  ",
          "great okay  ",
          "okay like  ",
          "okay im  ",
          "okay yes  ",
          "okay just  ",
          "yeah okay  ",
          "okay yeah  ",
          "okay  ",
          "okay okay  "
         ],
         "yaxis": "y2"
        },
        {
         "marker": {
          "color": "#CC79A7"
         },
         "orientation": "h",
         "type": "bar",
         "x": [
          0.27685195207595825,
          0.2769923806190491,
          0.2837916314601898,
          0.2893221974372864,
          0.3043779134750366,
          0.30655747652053833,
          0.3142474889755249,
          0.31548011302948,
          0.34476277232170105,
          0.8351865410804749
         ],
         "xaxis": "x3",
         "y": [
          "body  ",
          "feeling  ",
          "like feel  ",
          "scene  ",
          "felt like  ",
          "watching  ",
          "sensation  ",
          "like feeling  ",
          "felt  ",
          "meditation  "
         ],
         "yaxis": "y3"
        },
        {
         "marker": {
          "color": "#E69F00"
         },
         "orientation": "h",
         "type": "bar",
         "x": [
          0.33011239767074585,
          0.333091139793396,
          0.34462615847587585,
          0.34598615765571594,
          0.34720930457115173,
          0.388724684715271,
          0.3975520431995392,
          0.5119162201881409,
          0.5980268120765686,
          0.6209400296211243
         ],
         "xaxis": "x4",
         "y": [
          "great okay  ",
          "question  ",
          "yeah okay  ",
          "okay  ",
          "okay yeah  ",
          "okay maybe  ",
          "okay just  ",
          "asked  ",
          "ask  ",
          "questions  "
         ],
         "yaxis": "y4"
        },
        {
         "marker": {
          "color": "#56B4E9"
         },
         "orientation": "h",
         "type": "bar",
         "x": [
          0.2624697685241699,
          0.26751840114593506,
          0.27183064818382263,
          0.2732953131198883,
          0.29201939702033997,
          0.33641618490219116,
          0.35139864683151245,
          0.5196382999420166,
          0.6592227220535278,
          0.7642949819564819
         ],
         "xaxis": "x5",
         "y": [
          "close  ",
          "relax  ",
          "question  ",
          "open  ",
          "focused  ",
          "focus  ",
          "closed  ",
          "eyes  ",
          "close eyes  ",
          "eyes closed  "
         ],
         "yaxis": "y5"
        },
        {
         "marker": {
          "color": "#009E73"
         },
         "orientation": "h",
         "type": "bar",
         "x": [
          0.3679594397544861,
          0.36840203404426575,
          0.3723159730434418,
          0.38168853521347046,
          0.43415337800979614,
          0.4655013680458069,
          0.49366632103919983,
          0.5160666704177856,
          0.5268094539642334,
          0.6401381492614746
         ],
         "xaxis": "x6",
         "y": [
          "focus  ",
          "relax  ",
          "wondering  ",
          "wonder  ",
          "think really  ",
          "think  ",
          "mind  ",
          "thoughts  ",
          "like think  ",
          "thinking  "
         ],
         "yaxis": "y6"
        },
        {
         "marker": {
          "color": "#F0E442"
         },
         "orientation": "h",
         "type": "bar",
         "x": [
          0.4454098343849182,
          0.44840729236602783,
          0.47121670842170715,
          0.4781743586063385,
          0.5305058360099792,
          0.5567233562469482,
          0.5628014802932739,
          0.6092267036437988,
          0.6749181747436523,
          0.684040904045105
         ],
         "xaxis": "x7",
         "y": [
          "okay yeah  ",
          "okay okay  ",
          "okay  ",
          "cool  ",
          "great  ",
          "yeah great  ",
          "great okay  ",
          "nice  ",
          "nice okay  ",
          "thats nice  "
         ],
         "yaxis": "y7"
        },
        {
         "marker": {
          "color": "#D55E00"
         },
         "orientation": "h",
         "type": "bar",
         "x": [
          0.2717989683151245,
          0.2792890667915344,
          0.2896403968334198,
          0.29719144105911255,
          0.3081936240196228,
          0.3219754099845886,
          0.3297494649887085,
          0.3424523174762726,
          0.34280264377593994,
          0.34527871012687683
         ],
         "xaxis": "x8",
         "y": [
          "really feel  ",
          "feeling  ",
          "feel  ",
          "body  ",
          "felt like  ",
          "body like  ",
          "scene  ",
          "body body  ",
          "like body  ",
          "felt  "
         ],
         "yaxis": "y8"
        },
        {
         "marker": {
          "color": "#0072B2"
         },
         "orientation": "h",
         "type": "bar",
         "x": [
          0.3192157447338104,
          0.3221327066421509,
          0.3366672098636627,
          0.3406948149204254,
          0.343064546585083,
          0.36481642723083496,
          0.37947505712509155,
          0.4891756772994995,
          0.6077007055282593,
          0.6403355002403259
         ],
         "xaxis": "x9",
         "y": [
          "kind like  ",
          "like quite  ",
          "know yeah  ",
          "ah  ",
          "yeah yeah  ",
          "yeah  ",
          "changes  ",
          "difference  ",
          "bit different  ",
          "different  "
         ],
         "yaxis": "y9"
        },
        {
         "marker": {
          "color": "#CC79A7"
         },
         "orientation": "h",
         "type": "bar",
         "x": [
          0.2930600643157959,
          0.29312482476234436,
          0.2932881712913513,
          0.2998083233833313,
          0.3070559501647949,
          0.3588765263557434,
          0.3663283884525299,
          0.6216990947723389,
          0.6244901418685913,
          0.641229510307312
         ],
         "xaxis": "x10",
         "y": [
          "like yeah  ",
          "actually  ",
          "wasnt  ",
          "yeah really  ",
          "really  ",
          "disturbing  ",
          "normal  ",
          "weird  ",
          "bit strange  ",
          "strange  "
         ],
         "yaxis": "y10"
        },
        {
         "marker": {
          "color": "#E69F00"
         },
         "orientation": "h",
         "type": "bar",
         "x": [
          0.20176421105861664,
          0.20491120219230652,
          0.21901316940784454,
          0.21913287043571472,
          0.23449158668518066,
          0.2453167587518692,
          0.26214683055877686,
          0.3713928461074829,
          0.4577198028564453,
          0.7633708119392395
         ],
         "xaxis": "x11",
         "y": [
          "sense  ",
          "like oh  ",
          "inside  ",
          "focus  ",
          "observe  ",
          "moving  ",
          "away  ",
          "environment  ",
          "nature  ",
          "forest  "
         ],
         "yaxis": "y11"
        },
        {
         "marker": {
          "color": "#56B4E9"
         },
         "orientation": "h",
         "type": "bar",
         "x": [
          0.25291991233825684,
          0.2614932060241699,
          0.2672123610973358,
          0.279468297958374,
          0.2896248400211334,
          0.29034027457237244,
          0.3640580177307129,
          0.3687947392463684,
          0.4181714653968811,
          0.4858410656452179
         ],
         "xaxis": "x12",
         "y": [
          "better  ",
          "place  ",
          "yeah  ",
          "previous  ",
          "different  ",
          "yes  ",
          "scene  ",
          "difference  ",
          "second time  ",
          "second  "
         ],
         "yaxis": "y12"
        },
        {
         "marker": {
          "color": "#009E73"
         },
         "orientation": "h",
         "type": "bar",
         "x": [
          0.35303598642349243,
          0.3819822072982788,
          0.3826291561126709,
          0.3936039209365845,
          0.4014972746372223,
          0.4036414325237274,
          0.42152220010757446,
          0.4272192716598511,
          0.43299347162246704,
          0.5878376960754395
         ],
         "xaxis": "x13",
         "y": [
          "know yeah  ",
          "really  ",
          "yeah like  ",
          "yeah  ",
          "yeah yeah  ",
          "yeah just  ",
          "like yeah  ",
          "general  ",
          "just like  ",
          "just general  "
         ],
         "yaxis": "y13"
        },
        {
         "marker": {
          "color": "#F0E442"
         },
         "orientation": "h",
         "type": "bar",
         "x": [
          0.26705071330070496,
          0.26924270391464233,
          0.28248855471611023,
          0.28301388025283813,
          0.2859468460083008,
          0.3079231381416321,
          0.3489799499511719,
          0.364751398563385,
          0.4178805351257324,
          0.6397709846496582
         ],
         "xaxis": "x14",
         "y": [
          "close eyes  ",
          "mind  ",
          "self  ",
          "life  ",
          "focused  ",
          "like think  ",
          "meditation  ",
          "thinking  ",
          "focus  ",
          "reality  "
         ],
         "yaxis": "y14"
        },
        {
         "marker": {
          "color": "#D55E00"
         },
         "orientation": "h",
         "type": "bar",
         "x": [
          0.23469498753547668,
          0.234793558716774,
          0.23805978894233704,
          0.25265589356422424,
          0.2541497051715851,
          0.49326157569885254,
          0.522140383720398,
          0.6152846217155457,
          0.684231698513031,
          0.7059373259544373
         ],
         "xaxis": "x15",
         "y": [
          "like really  ",
          "really  ",
          "know  ",
          "quite  ",
          "different  ",
          "easy  ",
          "hard  ",
          "harder  ",
          "easier  ",
          "difficult  "
         ],
         "yaxis": "y15"
        },
        {
         "marker": {
          "color": "#0072B2"
         },
         "orientation": "h",
         "type": "bar",
         "x": [
          0.320850133895874,
          0.3229304552078247,
          0.3277294635772705,
          0.3358907401561737,
          0.3476649522781372,
          0.3558807671070099,
          0.3712438642978668,
          0.5058163404464722,
          0.6337469816207886,
          0.8749586939811707
         ],
         "xaxis": "x16",
         "y": [
          "felt  ",
          "second session  ",
          "felt like  ",
          "feel  ",
          "rest  ",
          "session  ",
          "feel like  ",
          "calm  ",
          "relax  ",
          "relaxed  "
         ],
         "yaxis": "y16"
        }
       ],
       "layout": {
        "annotations": [
         {
          "font": {
           "size": 16
          },
          "showarrow": false,
          "text": "Topic 0",
          "x": 0.0875,
          "xanchor": "center",
          "xref": "paper",
          "y": 1,
          "yanchor": "bottom",
          "yref": "paper"
         },
         {
          "font": {
           "size": 16
          },
          "showarrow": false,
          "text": "Topic 1",
          "x": 0.36250000000000004,
          "xanchor": "center",
          "xref": "paper",
          "y": 1,
          "yanchor": "bottom",
          "yref": "paper"
         },
         {
          "font": {
           "size": 16
          },
          "showarrow": false,
          "text": "Topic 2",
          "x": 0.6375000000000001,
          "xanchor": "center",
          "xref": "paper",
          "y": 1,
          "yanchor": "bottom",
          "yref": "paper"
         },
         {
          "font": {
           "size": 16
          },
          "showarrow": false,
          "text": "Topic 3",
          "x": 0.9125,
          "xanchor": "center",
          "xref": "paper",
          "y": 1,
          "yanchor": "bottom",
          "yref": "paper"
         },
         {
          "font": {
           "size": 16
          },
          "showarrow": false,
          "text": "Topic 4",
          "x": 0.0875,
          "xanchor": "center",
          "xref": "paper",
          "y": 0.7250000000000001,
          "yanchor": "bottom",
          "yref": "paper"
         },
         {
          "font": {
           "size": 16
          },
          "showarrow": false,
          "text": "Topic 5",
          "x": 0.36250000000000004,
          "xanchor": "center",
          "xref": "paper",
          "y": 0.7250000000000001,
          "yanchor": "bottom",
          "yref": "paper"
         },
         {
          "font": {
           "size": 16
          },
          "showarrow": false,
          "text": "Topic 6",
          "x": 0.6375000000000001,
          "xanchor": "center",
          "xref": "paper",
          "y": 0.7250000000000001,
          "yanchor": "bottom",
          "yref": "paper"
         },
         {
          "font": {
           "size": 16
          },
          "showarrow": false,
          "text": "Topic 7",
          "x": 0.9125,
          "xanchor": "center",
          "xref": "paper",
          "y": 0.7250000000000001,
          "yanchor": "bottom",
          "yref": "paper"
         },
         {
          "font": {
           "size": 16
          },
          "showarrow": false,
          "text": "Topic 8",
          "x": 0.0875,
          "xanchor": "center",
          "xref": "paper",
          "y": 0.45,
          "yanchor": "bottom",
          "yref": "paper"
         },
         {
          "font": {
           "size": 16
          },
          "showarrow": false,
          "text": "Topic 9",
          "x": 0.36250000000000004,
          "xanchor": "center",
          "xref": "paper",
          "y": 0.45,
          "yanchor": "bottom",
          "yref": "paper"
         },
         {
          "font": {
           "size": 16
          },
          "showarrow": false,
          "text": "Topic 10",
          "x": 0.6375000000000001,
          "xanchor": "center",
          "xref": "paper",
          "y": 0.45,
          "yanchor": "bottom",
          "yref": "paper"
         },
         {
          "font": {
           "size": 16
          },
          "showarrow": false,
          "text": "Topic 11",
          "x": 0.9125,
          "xanchor": "center",
          "xref": "paper",
          "y": 0.45,
          "yanchor": "bottom",
          "yref": "paper"
         },
         {
          "font": {
           "size": 16
          },
          "showarrow": false,
          "text": "Topic 12",
          "x": 0.0875,
          "xanchor": "center",
          "xref": "paper",
          "y": 0.175,
          "yanchor": "bottom",
          "yref": "paper"
         },
         {
          "font": {
           "size": 16
          },
          "showarrow": false,
          "text": "Topic 13",
          "x": 0.36250000000000004,
          "xanchor": "center",
          "xref": "paper",
          "y": 0.175,
          "yanchor": "bottom",
          "yref": "paper"
         },
         {
          "font": {
           "size": 16
          },
          "showarrow": false,
          "text": "Topic 14",
          "x": 0.6375000000000001,
          "xanchor": "center",
          "xref": "paper",
          "y": 0.175,
          "yanchor": "bottom",
          "yref": "paper"
         },
         {
          "font": {
           "size": 16
          },
          "showarrow": false,
          "text": "Topic 15",
          "x": 0.9125,
          "xanchor": "center",
          "xref": "paper",
          "y": 0.175,
          "yanchor": "bottom",
          "yref": "paper"
         }
        ],
        "height": 1000,
        "hoverlabel": {
         "bgcolor": "white",
         "font": {
          "family": "Rockwell",
          "size": 16
         }
        },
        "showlegend": false,
        "template": {
         "data": {
          "bar": [
           {
            "error_x": {
             "color": "#2a3f5f"
            },
            "error_y": {
             "color": "#2a3f5f"
            },
            "marker": {
             "line": {
              "color": "white",
              "width": 0.5
             },
             "pattern": {
              "fillmode": "overlay",
              "size": 10,
              "solidity": 0.2
             }
            },
            "type": "bar"
           }
          ],
          "barpolar": [
           {
            "marker": {
             "line": {
              "color": "white",
              "width": 0.5
             },
             "pattern": {
              "fillmode": "overlay",
              "size": 10,
              "solidity": 0.2
             }
            },
            "type": "barpolar"
           }
          ],
          "carpet": [
           {
            "aaxis": {
             "endlinecolor": "#2a3f5f",
             "gridcolor": "#C8D4E3",
             "linecolor": "#C8D4E3",
             "minorgridcolor": "#C8D4E3",
             "startlinecolor": "#2a3f5f"
            },
            "baxis": {
             "endlinecolor": "#2a3f5f",
             "gridcolor": "#C8D4E3",
             "linecolor": "#C8D4E3",
             "minorgridcolor": "#C8D4E3",
             "startlinecolor": "#2a3f5f"
            },
            "type": "carpet"
           }
          ],
          "choropleth": [
           {
            "colorbar": {
             "outlinewidth": 0,
             "ticks": ""
            },
            "type": "choropleth"
           }
          ],
          "contour": [
           {
            "colorbar": {
             "outlinewidth": 0,
             "ticks": ""
            },
            "colorscale": [
             [
              0,
              "#0d0887"
             ],
             [
              0.1111111111111111,
              "#46039f"
             ],
             [
              0.2222222222222222,
              "#7201a8"
             ],
             [
              0.3333333333333333,
              "#9c179e"
             ],
             [
              0.4444444444444444,
              "#bd3786"
             ],
             [
              0.5555555555555556,
              "#d8576b"
             ],
             [
              0.6666666666666666,
              "#ed7953"
             ],
             [
              0.7777777777777778,
              "#fb9f3a"
             ],
             [
              0.8888888888888888,
              "#fdca26"
             ],
             [
              1,
              "#f0f921"
             ]
            ],
            "type": "contour"
           }
          ],
          "contourcarpet": [
           {
            "colorbar": {
             "outlinewidth": 0,
             "ticks": ""
            },
            "type": "contourcarpet"
           }
          ],
          "heatmap": [
           {
            "colorbar": {
             "outlinewidth": 0,
             "ticks": ""
            },
            "colorscale": [
             [
              0,
              "#0d0887"
             ],
             [
              0.1111111111111111,
              "#46039f"
             ],
             [
              0.2222222222222222,
              "#7201a8"
             ],
             [
              0.3333333333333333,
              "#9c179e"
             ],
             [
              0.4444444444444444,
              "#bd3786"
             ],
             [
              0.5555555555555556,
              "#d8576b"
             ],
             [
              0.6666666666666666,
              "#ed7953"
             ],
             [
              0.7777777777777778,
              "#fb9f3a"
             ],
             [
              0.8888888888888888,
              "#fdca26"
             ],
             [
              1,
              "#f0f921"
             ]
            ],
            "type": "heatmap"
           }
          ],
          "heatmapgl": [
           {
            "colorbar": {
             "outlinewidth": 0,
             "ticks": ""
            },
            "colorscale": [
             [
              0,
              "#0d0887"
             ],
             [
              0.1111111111111111,
              "#46039f"
             ],
             [
              0.2222222222222222,
              "#7201a8"
             ],
             [
              0.3333333333333333,
              "#9c179e"
             ],
             [
              0.4444444444444444,
              "#bd3786"
             ],
             [
              0.5555555555555556,
              "#d8576b"
             ],
             [
              0.6666666666666666,
              "#ed7953"
             ],
             [
              0.7777777777777778,
              "#fb9f3a"
             ],
             [
              0.8888888888888888,
              "#fdca26"
             ],
             [
              1,
              "#f0f921"
             ]
            ],
            "type": "heatmapgl"
           }
          ],
          "histogram": [
           {
            "marker": {
             "pattern": {
              "fillmode": "overlay",
              "size": 10,
              "solidity": 0.2
             }
            },
            "type": "histogram"
           }
          ],
          "histogram2d": [
           {
            "colorbar": {
             "outlinewidth": 0,
             "ticks": ""
            },
            "colorscale": [
             [
              0,
              "#0d0887"
             ],
             [
              0.1111111111111111,
              "#46039f"
             ],
             [
              0.2222222222222222,
              "#7201a8"
             ],
             [
              0.3333333333333333,
              "#9c179e"
             ],
             [
              0.4444444444444444,
              "#bd3786"
             ],
             [
              0.5555555555555556,
              "#d8576b"
             ],
             [
              0.6666666666666666,
              "#ed7953"
             ],
             [
              0.7777777777777778,
              "#fb9f3a"
             ],
             [
              0.8888888888888888,
              "#fdca26"
             ],
             [
              1,
              "#f0f921"
             ]
            ],
            "type": "histogram2d"
           }
          ],
          "histogram2dcontour": [
           {
            "colorbar": {
             "outlinewidth": 0,
             "ticks": ""
            },
            "colorscale": [
             [
              0,
              "#0d0887"
             ],
             [
              0.1111111111111111,
              "#46039f"
             ],
             [
              0.2222222222222222,
              "#7201a8"
             ],
             [
              0.3333333333333333,
              "#9c179e"
             ],
             [
              0.4444444444444444,
              "#bd3786"
             ],
             [
              0.5555555555555556,
              "#d8576b"
             ],
             [
              0.6666666666666666,
              "#ed7953"
             ],
             [
              0.7777777777777778,
              "#fb9f3a"
             ],
             [
              0.8888888888888888,
              "#fdca26"
             ],
             [
              1,
              "#f0f921"
             ]
            ],
            "type": "histogram2dcontour"
           }
          ],
          "mesh3d": [
           {
            "colorbar": {
             "outlinewidth": 0,
             "ticks": ""
            },
            "type": "mesh3d"
           }
          ],
          "parcoords": [
           {
            "line": {
             "colorbar": {
              "outlinewidth": 0,
              "ticks": ""
             }
            },
            "type": "parcoords"
           }
          ],
          "pie": [
           {
            "automargin": true,
            "type": "pie"
           }
          ],
          "scatter": [
           {
            "fillpattern": {
             "fillmode": "overlay",
             "size": 10,
             "solidity": 0.2
            },
            "type": "scatter"
           }
          ],
          "scatter3d": [
           {
            "line": {
             "colorbar": {
              "outlinewidth": 0,
              "ticks": ""
             }
            },
            "marker": {
             "colorbar": {
              "outlinewidth": 0,
              "ticks": ""
             }
            },
            "type": "scatter3d"
           }
          ],
          "scattercarpet": [
           {
            "marker": {
             "colorbar": {
              "outlinewidth": 0,
              "ticks": ""
             }
            },
            "type": "scattercarpet"
           }
          ],
          "scattergeo": [
           {
            "marker": {
             "colorbar": {
              "outlinewidth": 0,
              "ticks": ""
             }
            },
            "type": "scattergeo"
           }
          ],
          "scattergl": [
           {
            "marker": {
             "colorbar": {
              "outlinewidth": 0,
              "ticks": ""
             }
            },
            "type": "scattergl"
           }
          ],
          "scattermapbox": [
           {
            "marker": {
             "colorbar": {
              "outlinewidth": 0,
              "ticks": ""
             }
            },
            "type": "scattermapbox"
           }
          ],
          "scatterpolar": [
           {
            "marker": {
             "colorbar": {
              "outlinewidth": 0,
              "ticks": ""
             }
            },
            "type": "scatterpolar"
           }
          ],
          "scatterpolargl": [
           {
            "marker": {
             "colorbar": {
              "outlinewidth": 0,
              "ticks": ""
             }
            },
            "type": "scatterpolargl"
           }
          ],
          "scatterternary": [
           {
            "marker": {
             "colorbar": {
              "outlinewidth": 0,
              "ticks": ""
             }
            },
            "type": "scatterternary"
           }
          ],
          "surface": [
           {
            "colorbar": {
             "outlinewidth": 0,
             "ticks": ""
            },
            "colorscale": [
             [
              0,
              "#0d0887"
             ],
             [
              0.1111111111111111,
              "#46039f"
             ],
             [
              0.2222222222222222,
              "#7201a8"
             ],
             [
              0.3333333333333333,
              "#9c179e"
             ],
             [
              0.4444444444444444,
              "#bd3786"
             ],
             [
              0.5555555555555556,
              "#d8576b"
             ],
             [
              0.6666666666666666,
              "#ed7953"
             ],
             [
              0.7777777777777778,
              "#fb9f3a"
             ],
             [
              0.8888888888888888,
              "#fdca26"
             ],
             [
              1,
              "#f0f921"
             ]
            ],
            "type": "surface"
           }
          ],
          "table": [
           {
            "cells": {
             "fill": {
              "color": "#EBF0F8"
             },
             "line": {
              "color": "white"
             }
            },
            "header": {
             "fill": {
              "color": "#C8D4E3"
             },
             "line": {
              "color": "white"
             }
            },
            "type": "table"
           }
          ]
         },
         "layout": {
          "annotationdefaults": {
           "arrowcolor": "#2a3f5f",
           "arrowhead": 0,
           "arrowwidth": 1
          },
          "autotypenumbers": "strict",
          "coloraxis": {
           "colorbar": {
            "outlinewidth": 0,
            "ticks": ""
           }
          },
          "colorscale": {
           "diverging": [
            [
             0,
             "#8e0152"
            ],
            [
             0.1,
             "#c51b7d"
            ],
            [
             0.2,
             "#de77ae"
            ],
            [
             0.3,
             "#f1b6da"
            ],
            [
             0.4,
             "#fde0ef"
            ],
            [
             0.5,
             "#f7f7f7"
            ],
            [
             0.6,
             "#e6f5d0"
            ],
            [
             0.7,
             "#b8e186"
            ],
            [
             0.8,
             "#7fbc41"
            ],
            [
             0.9,
             "#4d9221"
            ],
            [
             1,
             "#276419"
            ]
           ],
           "sequential": [
            [
             0,
             "#0d0887"
            ],
            [
             0.1111111111111111,
             "#46039f"
            ],
            [
             0.2222222222222222,
             "#7201a8"
            ],
            [
             0.3333333333333333,
             "#9c179e"
            ],
            [
             0.4444444444444444,
             "#bd3786"
            ],
            [
             0.5555555555555556,
             "#d8576b"
            ],
            [
             0.6666666666666666,
             "#ed7953"
            ],
            [
             0.7777777777777778,
             "#fb9f3a"
            ],
            [
             0.8888888888888888,
             "#fdca26"
            ],
            [
             1,
             "#f0f921"
            ]
           ],
           "sequentialminus": [
            [
             0,
             "#0d0887"
            ],
            [
             0.1111111111111111,
             "#46039f"
            ],
            [
             0.2222222222222222,
             "#7201a8"
            ],
            [
             0.3333333333333333,
             "#9c179e"
            ],
            [
             0.4444444444444444,
             "#bd3786"
            ],
            [
             0.5555555555555556,
             "#d8576b"
            ],
            [
             0.6666666666666666,
             "#ed7953"
            ],
            [
             0.7777777777777778,
             "#fb9f3a"
            ],
            [
             0.8888888888888888,
             "#fdca26"
            ],
            [
             1,
             "#f0f921"
            ]
           ]
          },
          "colorway": [
           "#636efa",
           "#EF553B",
           "#00cc96",
           "#ab63fa",
           "#FFA15A",
           "#19d3f3",
           "#FF6692",
           "#B6E880",
           "#FF97FF",
           "#FECB52"
          ],
          "font": {
           "color": "#2a3f5f"
          },
          "geo": {
           "bgcolor": "white",
           "lakecolor": "white",
           "landcolor": "white",
           "showlakes": true,
           "showland": true,
           "subunitcolor": "#C8D4E3"
          },
          "hoverlabel": {
           "align": "left"
          },
          "hovermode": "closest",
          "mapbox": {
           "style": "light"
          },
          "paper_bgcolor": "white",
          "plot_bgcolor": "white",
          "polar": {
           "angularaxis": {
            "gridcolor": "#EBF0F8",
            "linecolor": "#EBF0F8",
            "ticks": ""
           },
           "bgcolor": "white",
           "radialaxis": {
            "gridcolor": "#EBF0F8",
            "linecolor": "#EBF0F8",
            "ticks": ""
           }
          },
          "scene": {
           "xaxis": {
            "backgroundcolor": "white",
            "gridcolor": "#DFE8F3",
            "gridwidth": 2,
            "linecolor": "#EBF0F8",
            "showbackground": true,
            "ticks": "",
            "zerolinecolor": "#EBF0F8"
           },
           "yaxis": {
            "backgroundcolor": "white",
            "gridcolor": "#DFE8F3",
            "gridwidth": 2,
            "linecolor": "#EBF0F8",
            "showbackground": true,
            "ticks": "",
            "zerolinecolor": "#EBF0F8"
           },
           "zaxis": {
            "backgroundcolor": "white",
            "gridcolor": "#DFE8F3",
            "gridwidth": 2,
            "linecolor": "#EBF0F8",
            "showbackground": true,
            "ticks": "",
            "zerolinecolor": "#EBF0F8"
           }
          },
          "shapedefaults": {
           "line": {
            "color": "#2a3f5f"
           }
          },
          "ternary": {
           "aaxis": {
            "gridcolor": "#DFE8F3",
            "linecolor": "#A2B1C6",
            "ticks": ""
           },
           "baxis": {
            "gridcolor": "#DFE8F3",
            "linecolor": "#A2B1C6",
            "ticks": ""
           },
           "bgcolor": "white",
           "caxis": {
            "gridcolor": "#DFE8F3",
            "linecolor": "#A2B1C6",
            "ticks": ""
           }
          },
          "title": {
           "x": 0.05
          },
          "xaxis": {
           "automargin": true,
           "gridcolor": "#EBF0F8",
           "linecolor": "#EBF0F8",
           "ticks": "",
           "title": {
            "standoff": 15
           },
           "zerolinecolor": "#EBF0F8",
           "zerolinewidth": 2
          },
          "yaxis": {
           "automargin": true,
           "gridcolor": "#EBF0F8",
           "linecolor": "#EBF0F8",
           "ticks": "",
           "title": {
            "standoff": 15
           },
           "zerolinecolor": "#EBF0F8",
           "zerolinewidth": 2
          }
         }
        },
        "title": {
         "font": {
          "color": "Black",
          "size": 22
         },
         "text": "Topic Word Scores",
         "x": 0.5,
         "xanchor": "center",
         "yanchor": "top"
        },
        "width": 1000,
        "xaxis": {
         "anchor": "y",
         "domain": [
          0,
          0.175
         ],
         "showgrid": true
        },
        "xaxis10": {
         "anchor": "y10",
         "domain": [
          0.275,
          0.45
         ],
         "showgrid": true
        },
        "xaxis11": {
         "anchor": "y11",
         "domain": [
          0.55,
          0.7250000000000001
         ],
         "showgrid": true
        },
        "xaxis12": {
         "anchor": "y12",
         "domain": [
          0.825,
          1
         ],
         "showgrid": true
        },
        "xaxis13": {
         "anchor": "y13",
         "domain": [
          0,
          0.175
         ],
         "showgrid": true
        },
        "xaxis14": {
         "anchor": "y14",
         "domain": [
          0.275,
          0.45
         ],
         "showgrid": true
        },
        "xaxis15": {
         "anchor": "y15",
         "domain": [
          0.55,
          0.7250000000000001
         ],
         "showgrid": true
        },
        "xaxis16": {
         "anchor": "y16",
         "domain": [
          0.825,
          1
         ],
         "showgrid": true
        },
        "xaxis2": {
         "anchor": "y2",
         "domain": [
          0.275,
          0.45
         ],
         "showgrid": true
        },
        "xaxis3": {
         "anchor": "y3",
         "domain": [
          0.55,
          0.7250000000000001
         ],
         "showgrid": true
        },
        "xaxis4": {
         "anchor": "y4",
         "domain": [
          0.825,
          1
         ],
         "showgrid": true
        },
        "xaxis5": {
         "anchor": "y5",
         "domain": [
          0,
          0.175
         ],
         "showgrid": true
        },
        "xaxis6": {
         "anchor": "y6",
         "domain": [
          0.275,
          0.45
         ],
         "showgrid": true
        },
        "xaxis7": {
         "anchor": "y7",
         "domain": [
          0.55,
          0.7250000000000001
         ],
         "showgrid": true
        },
        "xaxis8": {
         "anchor": "y8",
         "domain": [
          0.825,
          1
         ],
         "showgrid": true
        },
        "xaxis9": {
         "anchor": "y9",
         "domain": [
          0,
          0.175
         ],
         "showgrid": true
        },
        "yaxis": {
         "anchor": "x",
         "domain": [
          0.825,
          1
         ],
         "showgrid": true
        },
        "yaxis10": {
         "anchor": "x10",
         "domain": [
          0.275,
          0.45
         ],
         "showgrid": true
        },
        "yaxis11": {
         "anchor": "x11",
         "domain": [
          0.275,
          0.45
         ],
         "showgrid": true
        },
        "yaxis12": {
         "anchor": "x12",
         "domain": [
          0.275,
          0.45
         ],
         "showgrid": true
        },
        "yaxis13": {
         "anchor": "x13",
         "domain": [
          0,
          0.175
         ],
         "showgrid": true
        },
        "yaxis14": {
         "anchor": "x14",
         "domain": [
          0,
          0.175
         ],
         "showgrid": true
        },
        "yaxis15": {
         "anchor": "x15",
         "domain": [
          0,
          0.175
         ],
         "showgrid": true
        },
        "yaxis16": {
         "anchor": "x16",
         "domain": [
          0,
          0.175
         ],
         "showgrid": true
        },
        "yaxis2": {
         "anchor": "x2",
         "domain": [
          0.825,
          1
         ],
         "showgrid": true
        },
        "yaxis3": {
         "anchor": "x3",
         "domain": [
          0.825,
          1
         ],
         "showgrid": true
        },
        "yaxis4": {
         "anchor": "x4",
         "domain": [
          0.825,
          1
         ],
         "showgrid": true
        },
        "yaxis5": {
         "anchor": "x5",
         "domain": [
          0.55,
          0.7250000000000001
         ],
         "showgrid": true
        },
        "yaxis6": {
         "anchor": "x6",
         "domain": [
          0.55,
          0.7250000000000001
         ],
         "showgrid": true
        },
        "yaxis7": {
         "anchor": "x7",
         "domain": [
          0.55,
          0.7250000000000001
         ],
         "showgrid": true
        },
        "yaxis8": {
         "anchor": "x8",
         "domain": [
          0.55,
          0.7250000000000001
         ],
         "showgrid": true
        },
        "yaxis9": {
         "anchor": "x9",
         "domain": [
          0.275,
          0.45
         ],
         "showgrid": true
        }
       }
      }
     },
     "metadata": {},
     "output_type": "display_data"
    }
   ],
   "source": [
    "topic_model.visualize_barchart(top_n_topics = 16, n_words = 10)"
   ]
  },
  {
   "cell_type": "code",
   "execution_count": 18,
   "metadata": {},
   "outputs": [
    {
     "data": {
      "text/html": [
       "<div>\n",
       "<style scoped>\n",
       "    .dataframe tbody tr th:only-of-type {\n",
       "        vertical-align: middle;\n",
       "    }\n",
       "\n",
       "    .dataframe tbody tr th {\n",
       "        vertical-align: top;\n",
       "    }\n",
       "\n",
       "    .dataframe thead th {\n",
       "        text-align: right;\n",
       "    }\n",
       "</style>\n",
       "<table border=\"1\" class=\"dataframe\">\n",
       "  <thead>\n",
       "    <tr style=\"text-align: right;\">\n",
       "      <th></th>\n",
       "      <th>topic1</th>\n",
       "      <th>topic2</th>\n",
       "      <th>distance</th>\n",
       "    </tr>\n",
       "  </thead>\n",
       "  <tbody>\n",
       "    <tr>\n",
       "      <th>790</th>\n",
       "      <td>11_second_second time_difference_scene</td>\n",
       "      <td>21_second time_second session_second_yeah second</td>\n",
       "      <td>0.714310</td>\n",
       "    </tr>\n",
       "    <tr>\n",
       "      <th>858</th>\n",
       "      <td>12_just general_just like_general_like yeah</td>\n",
       "      <td>25_explain_understand_understood_tell</td>\n",
       "      <td>0.710718</td>\n",
       "    </tr>\n",
       "    <tr>\n",
       "      <th>2540</th>\n",
       "      <td>38_color_colors_different_bit different</td>\n",
       "      <td>43_light_colors_color_did notice</td>\n",
       "      <td>0.677473</td>\n",
       "    </tr>\n",
       "    <tr>\n",
       "      <th>1073</th>\n",
       "      <td>15_relaxed_relax_calm_feel like</td>\n",
       "      <td>48_calm_relax_okay_felt</td>\n",
       "      <td>0.673938</td>\n",
       "    </tr>\n",
       "    <tr>\n",
       "      <th>109</th>\n",
       "      <td>0_experience_felt like_felt really_did feel</td>\n",
       "      <td>44_yeah felt_feel like_felt like_felt</td>\n",
       "      <td>0.672791</td>\n",
       "    </tr>\n",
       "    <tr>\n",
       "      <th>74</th>\n",
       "      <td>0_experience_felt like_felt really_did feel</td>\n",
       "      <td>9_strange_bit strange_weird_normal</td>\n",
       "      <td>0.670280</td>\n",
       "    </tr>\n",
       "    <tr>\n",
       "      <th>72</th>\n",
       "      <td>0_experience_felt like_felt really_did feel</td>\n",
       "      <td>7_felt_like body_body body_scene</td>\n",
       "      <td>0.663319</td>\n",
       "    </tr>\n",
       "    <tr>\n",
       "      <th>135</th>\n",
       "      <td>1_okay okay_okay_okay yeah_yeah okay</td>\n",
       "      <td>6_thats nice_nice okay_nice_great okay</td>\n",
       "      <td>0.659395</td>\n",
       "    </tr>\n",
       "    <tr>\n",
       "      <th>586</th>\n",
       "      <td>8_different_bit different_difference_changes</td>\n",
       "      <td>9_strange_bit strange_weird_normal</td>\n",
       "      <td>0.654075</td>\n",
       "    </tr>\n",
       "    <tr>\n",
       "      <th>176</th>\n",
       "      <td>1_okay okay_okay_okay yeah_yeah okay</td>\n",
       "      <td>47____</td>\n",
       "      <td>0.651914</td>\n",
       "    </tr>\n",
       "    <tr>\n",
       "      <th>1047</th>\n",
       "      <td>15_relaxed_relax_calm_feel like</td>\n",
       "      <td>22_felt like_did feel_relaxed_felt</td>\n",
       "      <td>0.648333</td>\n",
       "    </tr>\n",
       "    <tr>\n",
       "      <th>86</th>\n",
       "      <td>0_experience_felt like_felt really_did feel</td>\n",
       "      <td>21_second time_second session_second_yeah second</td>\n",
       "      <td>0.647396</td>\n",
       "    </tr>\n",
       "    <tr>\n",
       "      <th>745</th>\n",
       "      <td>10_forest_nature_environment_away</td>\n",
       "      <td>40_environment_nature_like_changed</td>\n",
       "      <td>0.645536</td>\n",
       "    </tr>\n",
       "    <tr>\n",
       "      <th>85</th>\n",
       "      <td>0_experience_felt like_felt really_did feel</td>\n",
       "      <td>20_like feeling_feel body_feeling_feel like</td>\n",
       "      <td>0.644889</td>\n",
       "    </tr>\n",
       "    <tr>\n",
       "      <th>1256</th>\n",
       "      <td>18_didnt notice_did notice_notice_noticed</td>\n",
       "      <td>39_attention_think_okay think_didnt</td>\n",
       "      <td>0.637916</td>\n",
       "    </tr>\n",
       "    <tr>\n",
       "      <th>96</th>\n",
       "      <td>0_experience_felt like_felt really_did feel</td>\n",
       "      <td>31_avatar_image_body_love</td>\n",
       "      <td>0.634310</td>\n",
       "    </tr>\n",
       "    <tr>\n",
       "      <th>117</th>\n",
       "      <td>0_experience_felt like_felt really_did feel</td>\n",
       "      <td>52_like feeling_like feel_feel body_sensation</td>\n",
       "      <td>0.631679</td>\n",
       "    </tr>\n",
       "    <tr>\n",
       "      <th>175</th>\n",
       "      <td>1_okay okay_okay_okay yeah_yeah okay</td>\n",
       "      <td>46_ah_oh_okay_yeah</td>\n",
       "      <td>0.630770</td>\n",
       "    </tr>\n",
       "    <tr>\n",
       "      <th>326</th>\n",
       "      <td>4_eyes closed_close eyes_eyes_closed</td>\n",
       "      <td>5_thinking_like think_thoughts_mind</td>\n",
       "      <td>0.628781</td>\n",
       "    </tr>\n",
       "    <tr>\n",
       "      <th>73</th>\n",
       "      <td>0_experience_felt like_felt really_did feel</td>\n",
       "      <td>8_different_bit different_difference_changes</td>\n",
       "      <td>0.625852</td>\n",
       "    </tr>\n",
       "  </tbody>\n",
       "</table>\n",
       "</div>"
      ],
      "text/plain": [
       "                                            topic1  \\\n",
       "790         11_second_second time_difference_scene   \n",
       "858    12_just general_just like_general_like yeah   \n",
       "2540       38_color_colors_different_bit different   \n",
       "1073               15_relaxed_relax_calm_feel like   \n",
       "109    0_experience_felt like_felt really_did feel   \n",
       "74     0_experience_felt like_felt really_did feel   \n",
       "72     0_experience_felt like_felt really_did feel   \n",
       "135           1_okay okay_okay_okay yeah_yeah okay   \n",
       "586   8_different_bit different_difference_changes   \n",
       "176           1_okay okay_okay_okay yeah_yeah okay   \n",
       "1047               15_relaxed_relax_calm_feel like   \n",
       "86     0_experience_felt like_felt really_did feel   \n",
       "745              10_forest_nature_environment_away   \n",
       "85     0_experience_felt like_felt really_did feel   \n",
       "1256     18_didnt notice_did notice_notice_noticed   \n",
       "96     0_experience_felt like_felt really_did feel   \n",
       "117    0_experience_felt like_felt really_did feel   \n",
       "175           1_okay okay_okay_okay yeah_yeah okay   \n",
       "326           4_eyes closed_close eyes_eyes_closed   \n",
       "73     0_experience_felt like_felt really_did feel   \n",
       "\n",
       "                                                topic2  distance  \n",
       "790   21_second time_second session_second_yeah second  0.714310  \n",
       "858              25_explain_understand_understood_tell  0.710718  \n",
       "2540                  43_light_colors_color_did notice  0.677473  \n",
       "1073                           48_calm_relax_okay_felt  0.673938  \n",
       "109              44_yeah felt_feel like_felt like_felt  0.672791  \n",
       "74                  9_strange_bit strange_weird_normal  0.670280  \n",
       "72                    7_felt_like body_body body_scene  0.663319  \n",
       "135             6_thats nice_nice okay_nice_great okay  0.659395  \n",
       "586                 9_strange_bit strange_weird_normal  0.654075  \n",
       "176                                             47____  0.651914  \n",
       "1047                22_felt like_did feel_relaxed_felt  0.648333  \n",
       "86    21_second time_second session_second_yeah second  0.647396  \n",
       "745                 40_environment_nature_like_changed  0.645536  \n",
       "85         20_like feeling_feel body_feeling_feel like  0.644889  \n",
       "1256               39_attention_think_okay think_didnt  0.637916  \n",
       "96                           31_avatar_image_body_love  0.634310  \n",
       "117      52_like feeling_like feel_feel body_sensation  0.631679  \n",
       "175                                 46_ah_oh_okay_yeah  0.630770  \n",
       "326                5_thinking_like think_thoughts_mind  0.628781  \n",
       "73        8_different_bit different_difference_changes  0.625852  "
      ]
     },
     "execution_count": 18,
     "metadata": {},
     "output_type": "execute_result"
    }
   ],
   "source": [
    "from sklearn.metrics.pairwise import cosine_similarity\n",
    "import numpy as np \n",
    "\n",
    "distance_matrix = cosine_similarity(np.array(topic_model.topic_embeddings_))\n",
    "dist_df = pd.DataFrame(distance_matrix, columns=topic_model.topic_labels_.values(), \n",
    "                       index=topic_model.topic_labels_.values())\n",
    "\n",
    "tmp = []\n",
    "for rec in dist_df.reset_index().to_dict('records'):\n",
    "    t1 = rec['index']\n",
    "    for t2 in rec:\n",
    "        if t2 == 'index': \n",
    "            continue\n",
    "        tmp.append(\n",
    "            {\n",
    "                'topic1': t1, \n",
    "                'topic2': t2, \n",
    "                'distance': rec[t2]\n",
    "            }\n",
    "        )\n",
    "\n",
    "pair_dist_df = pd.DataFrame(tmp)\n",
    "\n",
    "pair_dist_df = pair_dist_df[(pair_dist_df.topic1.map(\n",
    "      lambda x: not x.startswith('-1'))) & \n",
    "            (pair_dist_df.topic2.map(lambda x: not x.startswith('-1')))]\n",
    "pair_dist_df = pair_dist_df[pair_dist_df.topic1 < pair_dist_df.topic2]\n",
    "pair_dist_df.sort_values('distance', ascending = False).head(20)"
   ]
  },
  {
   "cell_type": "code",
   "execution_count": 19,
   "metadata": {},
   "outputs": [],
   "source": [
    "topic_distr, topic_token_distr = topic_model.approximate_distribution(\n",
    "      docs, window = 4, calculate_tokens=True)"
   ]
  },
  {
   "cell_type": "code",
   "execution_count": 20,
   "metadata": {},
   "outputs": [
    {
     "data": {
      "text/plain": [
       "array([[0.10487924, 0.        , 0.        , ..., 0.07352498, 0.06612508,\n",
       "        0.        ],\n",
       "       [0.18705952, 0.        , 0.        , ..., 0.03906357, 0.        ,\n",
       "        0.        ],\n",
       "       [0.        , 0.        , 0.        , ..., 0.        , 0.        ,\n",
       "        0.        ],\n",
       "       ...,\n",
       "       [0.        , 0.17757246, 0.        , ..., 0.        , 0.        ,\n",
       "        0.        ],\n",
       "       [0.        , 0.        , 0.        , ..., 0.        , 0.        ,\n",
       "        0.        ],\n",
       "       [0.        , 0.        , 0.        , ..., 0.        , 0.        ,\n",
       "        0.        ]])"
      ]
     },
     "execution_count": 20,
     "metadata": {},
     "output_type": "execute_result"
    }
   ],
   "source": [
    "topic_distr"
   ]
  },
  {
   "cell_type": "code",
   "execution_count": 21,
   "metadata": {},
   "outputs": [
    {
     "data": {
      "application/vnd.plotly.v1+json": {
       "config": {
        "plotlyServerURL": "https://plot.ly"
       },
       "data": [
        {
         "marker": {
          "color": "#C8D2D7",
          "line": {
           "color": "#6E8484",
           "width": 1
          }
         },
         "orientation": "h",
         "type": "bar",
         "x": [
          0.1275786276001437,
          0.05609606199906347,
          0.10768163896036365,
          0.08663929517742287,
          0.07930541120031805,
          0.09235698693689048,
          0.11113817563291854,
          0.07688288609280668
         ],
         "y": [
          "<b>Topic 0</b>: experience_felt like_fel...",
          "<b>Topic 7</b>: felt_like body_body body...",
          "<b>Topic 9</b>: strange_bit strange_weir...",
          "<b>Topic 22</b>: felt like_did feel_rela...",
          "<b>Topic 42</b>: effect_did observe_obse...",
          "<b>Topic 45</b>: little bit_bit_little_y...",
          "<b>Topic 52</b>: like feeling_like feel_...",
          "<b>Topic 60</b>: intense_feel like_exper..."
         ]
        }
       ],
       "layout": {
        "height": 600,
        "hoverlabel": {
         "bgcolor": "white",
         "font": {
          "family": "Rockwell",
          "size": 16
         }
        },
        "template": {
         "data": {
          "bar": [
           {
            "error_x": {
             "color": "rgb(36,36,36)"
            },
            "error_y": {
             "color": "rgb(36,36,36)"
            },
            "marker": {
             "line": {
              "color": "white",
              "width": 0.5
             },
             "pattern": {
              "fillmode": "overlay",
              "size": 10,
              "solidity": 0.2
             }
            },
            "type": "bar"
           }
          ],
          "barpolar": [
           {
            "marker": {
             "line": {
              "color": "white",
              "width": 0.5
             },
             "pattern": {
              "fillmode": "overlay",
              "size": 10,
              "solidity": 0.2
             }
            },
            "type": "barpolar"
           }
          ],
          "carpet": [
           {
            "aaxis": {
             "endlinecolor": "rgb(36,36,36)",
             "gridcolor": "white",
             "linecolor": "white",
             "minorgridcolor": "white",
             "startlinecolor": "rgb(36,36,36)"
            },
            "baxis": {
             "endlinecolor": "rgb(36,36,36)",
             "gridcolor": "white",
             "linecolor": "white",
             "minorgridcolor": "white",
             "startlinecolor": "rgb(36,36,36)"
            },
            "type": "carpet"
           }
          ],
          "choropleth": [
           {
            "colorbar": {
             "outlinewidth": 1,
             "tickcolor": "rgb(36,36,36)",
             "ticks": "outside"
            },
            "type": "choropleth"
           }
          ],
          "contour": [
           {
            "colorbar": {
             "outlinewidth": 1,
             "tickcolor": "rgb(36,36,36)",
             "ticks": "outside"
            },
            "colorscale": [
             [
              0,
              "#440154"
             ],
             [
              0.1111111111111111,
              "#482878"
             ],
             [
              0.2222222222222222,
              "#3e4989"
             ],
             [
              0.3333333333333333,
              "#31688e"
             ],
             [
              0.4444444444444444,
              "#26828e"
             ],
             [
              0.5555555555555556,
              "#1f9e89"
             ],
             [
              0.6666666666666666,
              "#35b779"
             ],
             [
              0.7777777777777778,
              "#6ece58"
             ],
             [
              0.8888888888888888,
              "#b5de2b"
             ],
             [
              1,
              "#fde725"
             ]
            ],
            "type": "contour"
           }
          ],
          "contourcarpet": [
           {
            "colorbar": {
             "outlinewidth": 1,
             "tickcolor": "rgb(36,36,36)",
             "ticks": "outside"
            },
            "type": "contourcarpet"
           }
          ],
          "heatmap": [
           {
            "colorbar": {
             "outlinewidth": 1,
             "tickcolor": "rgb(36,36,36)",
             "ticks": "outside"
            },
            "colorscale": [
             [
              0,
              "#440154"
             ],
             [
              0.1111111111111111,
              "#482878"
             ],
             [
              0.2222222222222222,
              "#3e4989"
             ],
             [
              0.3333333333333333,
              "#31688e"
             ],
             [
              0.4444444444444444,
              "#26828e"
             ],
             [
              0.5555555555555556,
              "#1f9e89"
             ],
             [
              0.6666666666666666,
              "#35b779"
             ],
             [
              0.7777777777777778,
              "#6ece58"
             ],
             [
              0.8888888888888888,
              "#b5de2b"
             ],
             [
              1,
              "#fde725"
             ]
            ],
            "type": "heatmap"
           }
          ],
          "heatmapgl": [
           {
            "colorbar": {
             "outlinewidth": 1,
             "tickcolor": "rgb(36,36,36)",
             "ticks": "outside"
            },
            "colorscale": [
             [
              0,
              "#440154"
             ],
             [
              0.1111111111111111,
              "#482878"
             ],
             [
              0.2222222222222222,
              "#3e4989"
             ],
             [
              0.3333333333333333,
              "#31688e"
             ],
             [
              0.4444444444444444,
              "#26828e"
             ],
             [
              0.5555555555555556,
              "#1f9e89"
             ],
             [
              0.6666666666666666,
              "#35b779"
             ],
             [
              0.7777777777777778,
              "#6ece58"
             ],
             [
              0.8888888888888888,
              "#b5de2b"
             ],
             [
              1,
              "#fde725"
             ]
            ],
            "type": "heatmapgl"
           }
          ],
          "histogram": [
           {
            "marker": {
             "line": {
              "color": "white",
              "width": 0.6
             }
            },
            "type": "histogram"
           }
          ],
          "histogram2d": [
           {
            "colorbar": {
             "outlinewidth": 1,
             "tickcolor": "rgb(36,36,36)",
             "ticks": "outside"
            },
            "colorscale": [
             [
              0,
              "#440154"
             ],
             [
              0.1111111111111111,
              "#482878"
             ],
             [
              0.2222222222222222,
              "#3e4989"
             ],
             [
              0.3333333333333333,
              "#31688e"
             ],
             [
              0.4444444444444444,
              "#26828e"
             ],
             [
              0.5555555555555556,
              "#1f9e89"
             ],
             [
              0.6666666666666666,
              "#35b779"
             ],
             [
              0.7777777777777778,
              "#6ece58"
             ],
             [
              0.8888888888888888,
              "#b5de2b"
             ],
             [
              1,
              "#fde725"
             ]
            ],
            "type": "histogram2d"
           }
          ],
          "histogram2dcontour": [
           {
            "colorbar": {
             "outlinewidth": 1,
             "tickcolor": "rgb(36,36,36)",
             "ticks": "outside"
            },
            "colorscale": [
             [
              0,
              "#440154"
             ],
             [
              0.1111111111111111,
              "#482878"
             ],
             [
              0.2222222222222222,
              "#3e4989"
             ],
             [
              0.3333333333333333,
              "#31688e"
             ],
             [
              0.4444444444444444,
              "#26828e"
             ],
             [
              0.5555555555555556,
              "#1f9e89"
             ],
             [
              0.6666666666666666,
              "#35b779"
             ],
             [
              0.7777777777777778,
              "#6ece58"
             ],
             [
              0.8888888888888888,
              "#b5de2b"
             ],
             [
              1,
              "#fde725"
             ]
            ],
            "type": "histogram2dcontour"
           }
          ],
          "mesh3d": [
           {
            "colorbar": {
             "outlinewidth": 1,
             "tickcolor": "rgb(36,36,36)",
             "ticks": "outside"
            },
            "type": "mesh3d"
           }
          ],
          "parcoords": [
           {
            "line": {
             "colorbar": {
              "outlinewidth": 1,
              "tickcolor": "rgb(36,36,36)",
              "ticks": "outside"
             }
            },
            "type": "parcoords"
           }
          ],
          "pie": [
           {
            "automargin": true,
            "type": "pie"
           }
          ],
          "scatter": [
           {
            "fillpattern": {
             "fillmode": "overlay",
             "size": 10,
             "solidity": 0.2
            },
            "type": "scatter"
           }
          ],
          "scatter3d": [
           {
            "line": {
             "colorbar": {
              "outlinewidth": 1,
              "tickcolor": "rgb(36,36,36)",
              "ticks": "outside"
             }
            },
            "marker": {
             "colorbar": {
              "outlinewidth": 1,
              "tickcolor": "rgb(36,36,36)",
              "ticks": "outside"
             }
            },
            "type": "scatter3d"
           }
          ],
          "scattercarpet": [
           {
            "marker": {
             "colorbar": {
              "outlinewidth": 1,
              "tickcolor": "rgb(36,36,36)",
              "ticks": "outside"
             }
            },
            "type": "scattercarpet"
           }
          ],
          "scattergeo": [
           {
            "marker": {
             "colorbar": {
              "outlinewidth": 1,
              "tickcolor": "rgb(36,36,36)",
              "ticks": "outside"
             }
            },
            "type": "scattergeo"
           }
          ],
          "scattergl": [
           {
            "marker": {
             "colorbar": {
              "outlinewidth": 1,
              "tickcolor": "rgb(36,36,36)",
              "ticks": "outside"
             }
            },
            "type": "scattergl"
           }
          ],
          "scattermapbox": [
           {
            "marker": {
             "colorbar": {
              "outlinewidth": 1,
              "tickcolor": "rgb(36,36,36)",
              "ticks": "outside"
             }
            },
            "type": "scattermapbox"
           }
          ],
          "scatterpolar": [
           {
            "marker": {
             "colorbar": {
              "outlinewidth": 1,
              "tickcolor": "rgb(36,36,36)",
              "ticks": "outside"
             }
            },
            "type": "scatterpolar"
           }
          ],
          "scatterpolargl": [
           {
            "marker": {
             "colorbar": {
              "outlinewidth": 1,
              "tickcolor": "rgb(36,36,36)",
              "ticks": "outside"
             }
            },
            "type": "scatterpolargl"
           }
          ],
          "scatterternary": [
           {
            "marker": {
             "colorbar": {
              "outlinewidth": 1,
              "tickcolor": "rgb(36,36,36)",
              "ticks": "outside"
             }
            },
            "type": "scatterternary"
           }
          ],
          "surface": [
           {
            "colorbar": {
             "outlinewidth": 1,
             "tickcolor": "rgb(36,36,36)",
             "ticks": "outside"
            },
            "colorscale": [
             [
              0,
              "#440154"
             ],
             [
              0.1111111111111111,
              "#482878"
             ],
             [
              0.2222222222222222,
              "#3e4989"
             ],
             [
              0.3333333333333333,
              "#31688e"
             ],
             [
              0.4444444444444444,
              "#26828e"
             ],
             [
              0.5555555555555556,
              "#1f9e89"
             ],
             [
              0.6666666666666666,
              "#35b779"
             ],
             [
              0.7777777777777778,
              "#6ece58"
             ],
             [
              0.8888888888888888,
              "#b5de2b"
             ],
             [
              1,
              "#fde725"
             ]
            ],
            "type": "surface"
           }
          ],
          "table": [
           {
            "cells": {
             "fill": {
              "color": "rgb(237,237,237)"
             },
             "line": {
              "color": "white"
             }
            },
            "header": {
             "fill": {
              "color": "rgb(217,217,217)"
             },
             "line": {
              "color": "white"
             }
            },
            "type": "table"
           }
          ]
         },
         "layout": {
          "annotationdefaults": {
           "arrowhead": 0,
           "arrowwidth": 1
          },
          "autotypenumbers": "strict",
          "coloraxis": {
           "colorbar": {
            "outlinewidth": 1,
            "tickcolor": "rgb(36,36,36)",
            "ticks": "outside"
           }
          },
          "colorscale": {
           "diverging": [
            [
             0,
             "rgb(103,0,31)"
            ],
            [
             0.1,
             "rgb(178,24,43)"
            ],
            [
             0.2,
             "rgb(214,96,77)"
            ],
            [
             0.3,
             "rgb(244,165,130)"
            ],
            [
             0.4,
             "rgb(253,219,199)"
            ],
            [
             0.5,
             "rgb(247,247,247)"
            ],
            [
             0.6,
             "rgb(209,229,240)"
            ],
            [
             0.7,
             "rgb(146,197,222)"
            ],
            [
             0.8,
             "rgb(67,147,195)"
            ],
            [
             0.9,
             "rgb(33,102,172)"
            ],
            [
             1,
             "rgb(5,48,97)"
            ]
           ],
           "sequential": [
            [
             0,
             "#440154"
            ],
            [
             0.1111111111111111,
             "#482878"
            ],
            [
             0.2222222222222222,
             "#3e4989"
            ],
            [
             0.3333333333333333,
             "#31688e"
            ],
            [
             0.4444444444444444,
             "#26828e"
            ],
            [
             0.5555555555555556,
             "#1f9e89"
            ],
            [
             0.6666666666666666,
             "#35b779"
            ],
            [
             0.7777777777777778,
             "#6ece58"
            ],
            [
             0.8888888888888888,
             "#b5de2b"
            ],
            [
             1,
             "#fde725"
            ]
           ],
           "sequentialminus": [
            [
             0,
             "#440154"
            ],
            [
             0.1111111111111111,
             "#482878"
            ],
            [
             0.2222222222222222,
             "#3e4989"
            ],
            [
             0.3333333333333333,
             "#31688e"
            ],
            [
             0.4444444444444444,
             "#26828e"
            ],
            [
             0.5555555555555556,
             "#1f9e89"
            ],
            [
             0.6666666666666666,
             "#35b779"
            ],
            [
             0.7777777777777778,
             "#6ece58"
            ],
            [
             0.8888888888888888,
             "#b5de2b"
            ],
            [
             1,
             "#fde725"
            ]
           ]
          },
          "colorway": [
           "#1F77B4",
           "#FF7F0E",
           "#2CA02C",
           "#D62728",
           "#9467BD",
           "#8C564B",
           "#E377C2",
           "#7F7F7F",
           "#BCBD22",
           "#17BECF"
          ],
          "font": {
           "color": "rgb(36,36,36)"
          },
          "geo": {
           "bgcolor": "white",
           "lakecolor": "white",
           "landcolor": "white",
           "showlakes": true,
           "showland": true,
           "subunitcolor": "white"
          },
          "hoverlabel": {
           "align": "left"
          },
          "hovermode": "closest",
          "mapbox": {
           "style": "light"
          },
          "paper_bgcolor": "white",
          "plot_bgcolor": "white",
          "polar": {
           "angularaxis": {
            "gridcolor": "rgb(232,232,232)",
            "linecolor": "rgb(36,36,36)",
            "showgrid": false,
            "showline": true,
            "ticks": "outside"
           },
           "bgcolor": "white",
           "radialaxis": {
            "gridcolor": "rgb(232,232,232)",
            "linecolor": "rgb(36,36,36)",
            "showgrid": false,
            "showline": true,
            "ticks": "outside"
           }
          },
          "scene": {
           "xaxis": {
            "backgroundcolor": "white",
            "gridcolor": "rgb(232,232,232)",
            "gridwidth": 2,
            "linecolor": "rgb(36,36,36)",
            "showbackground": true,
            "showgrid": false,
            "showline": true,
            "ticks": "outside",
            "zeroline": false,
            "zerolinecolor": "rgb(36,36,36)"
           },
           "yaxis": {
            "backgroundcolor": "white",
            "gridcolor": "rgb(232,232,232)",
            "gridwidth": 2,
            "linecolor": "rgb(36,36,36)",
            "showbackground": true,
            "showgrid": false,
            "showline": true,
            "ticks": "outside",
            "zeroline": false,
            "zerolinecolor": "rgb(36,36,36)"
           },
           "zaxis": {
            "backgroundcolor": "white",
            "gridcolor": "rgb(232,232,232)",
            "gridwidth": 2,
            "linecolor": "rgb(36,36,36)",
            "showbackground": true,
            "showgrid": false,
            "showline": true,
            "ticks": "outside",
            "zeroline": false,
            "zerolinecolor": "rgb(36,36,36)"
           }
          },
          "shapedefaults": {
           "fillcolor": "black",
           "line": {
            "width": 0
           },
           "opacity": 0.3
          },
          "ternary": {
           "aaxis": {
            "gridcolor": "rgb(232,232,232)",
            "linecolor": "rgb(36,36,36)",
            "showgrid": false,
            "showline": true,
            "ticks": "outside"
           },
           "baxis": {
            "gridcolor": "rgb(232,232,232)",
            "linecolor": "rgb(36,36,36)",
            "showgrid": false,
            "showline": true,
            "ticks": "outside"
           },
           "bgcolor": "white",
           "caxis": {
            "gridcolor": "rgb(232,232,232)",
            "linecolor": "rgb(36,36,36)",
            "showgrid": false,
            "showline": true,
            "ticks": "outside"
           }
          },
          "title": {
           "x": 0.05
          },
          "xaxis": {
           "automargin": true,
           "gridcolor": "rgb(232,232,232)",
           "linecolor": "rgb(36,36,36)",
           "showgrid": false,
           "showline": true,
           "ticks": "outside",
           "title": {
            "standoff": 15
           },
           "zeroline": false,
           "zerolinecolor": "rgb(36,36,36)"
          },
          "yaxis": {
           "automargin": true,
           "gridcolor": "rgb(232,232,232)",
           "linecolor": "rgb(36,36,36)",
           "showgrid": false,
           "showline": true,
           "ticks": "outside",
           "title": {
            "standoff": 15
           },
           "zeroline": false,
           "zerolinecolor": "rgb(36,36,36)"
          }
         }
        },
        "title": {
         "font": {
          "color": "Black",
          "size": 22
         },
         "text": "<b>Topic Probability Distribution</b>",
         "x": 0.5,
         "xanchor": "center",
         "y": 0.95,
         "yanchor": "top"
        },
        "width": 800,
        "xaxis": {
         "title": {
          "text": "Probability"
         }
        }
       }
      }
     },
     "metadata": {},
     "output_type": "display_data"
    }
   ],
   "source": [
    "topic_model.visualize_distribution(topic_distr[5], min_probability=0.05)"
   ]
  },
  {
   "cell_type": "markdown",
   "metadata": {},
   "source": [
    "## Topic ditributions (Spilt each doc into tokens)"
   ]
  },
  {
   "cell_type": "code",
   "execution_count": 22,
   "metadata": {},
   "outputs": [
    {
     "data": {
      "text/html": [
       "<div>\n",
       "<style scoped>\n",
       "    .dataframe tbody tr th:only-of-type {\n",
       "        vertical-align: middle;\n",
       "    }\n",
       "\n",
       "    .dataframe tbody tr th {\n",
       "        vertical-align: top;\n",
       "    }\n",
       "\n",
       "    .dataframe thead th {\n",
       "        text-align: right;\n",
       "    }\n",
       "</style>\n",
       "<table border=\"1\" class=\"dataframe\">\n",
       "  <thead>\n",
       "    <tr style=\"text-align: right;\">\n",
       "      <th></th>\n",
       "      <th>Experiment</th>\n",
       "      <th>File Name</th>\n",
       "      <th>Id</th>\n",
       "      <th>Start Time</th>\n",
       "      <th>End Time</th>\n",
       "      <th>Speaker</th>\n",
       "      <th>Content</th>\n",
       "      <th>Condition</th>\n",
       "      <th>Order Condition</th>\n",
       "      <th>utterance_index</th>\n",
       "    </tr>\n",
       "  </thead>\n",
       "  <tbody>\n",
       "    <tr>\n",
       "      <th>0</th>\n",
       "      <td>Compassion</td>\n",
       "      <td>S301final</td>\n",
       "      <td>301</td>\n",
       "      <td>00:00:00,060</td>\n",
       "      <td>00:00:12,100</td>\n",
       "      <td>Interviewer</td>\n",
       "      <td>and you can just a little bit tell about your ...</td>\n",
       "      <td>1</td>\n",
       "      <td>Unknown</td>\n",
       "      <td>0</td>\n",
       "    </tr>\n",
       "  </tbody>\n",
       "</table>\n",
       "</div>"
      ],
      "text/plain": [
       "   Experiment  File Name   Id    Start Time      End Time      Speaker  \\\n",
       "0  Compassion  S301final  301  00:00:00,060  00:00:12,100  Interviewer   \n",
       "\n",
       "                                             Content Condition  \\\n",
       "0  and you can just a little bit tell about your ...         1   \n",
       "\n",
       "  Order Condition  utterance_index  \n",
       "0         Unknown                0  "
      ]
     },
     "execution_count": 22,
     "metadata": {},
     "output_type": "execute_result"
    }
   ],
   "source": [
    "df_all.head(1)"
   ]
  },
  {
   "cell_type": "code",
   "execution_count": 23,
   "metadata": {},
   "outputs": [],
   "source": [
    "df = df_all#[df_all[\"Speaker\"] == \"Participant\"].copy()\n",
    "#df = df[df[\"Experiment\"] == \"Compassion\"]\n",
    "\n",
    "extra_stopwords = {'yeah', 'yes', 'like', 'you', 'know', 'um', 'uh', 'really', 'okay','mm'}\n",
    "# Preprocess the text\n",
    "df['preprocessed_content'] = df['Content'].apply(lambda x: preprocess_text(x, extra_stopwords=extra_stopwords, ngrams=1))\n",
    "\n",
    "grouped_df = df.groupby(['File Name','utterance_index']).agg({\n",
    "    'preprocessed_content': ' '.join,  # Combine preprocessed text\n",
    "    'Content': ' '.join,  # Combine raw text\n",
    "    'Experiment': 'first',   # Keep the first (consistent if File Name is unique)         \n",
    "}).reset_index()"
   ]
  },
  {
   "cell_type": "code",
   "execution_count": 24,
   "metadata": {},
   "outputs": [
    {
     "name": "stdout",
     "output_type": "stream",
     "text": [
      "1776\n"
     ]
    }
   ],
   "source": [
    "docs = list(grouped_df.Content)\n",
    "print(len(docs))"
   ]
  },
  {
   "cell_type": "code",
   "execution_count": 25,
   "metadata": {},
   "outputs": [
    {
     "data": {
      "text/plain": [
       "36"
      ]
     },
     "execution_count": 25,
     "metadata": {},
     "output_type": "execute_result"
    }
   ],
   "source": [
    "topic_model = BERTopic().fit(docs)\n",
    "num_topics = len(topic_model.get_topics()) - 1\n",
    "num_topics"
   ]
  },
  {
   "cell_type": "code",
   "execution_count": 26,
   "metadata": {},
   "outputs": [
    {
     "data": {
      "text/html": [
       "<div>\n",
       "<style scoped>\n",
       "    .dataframe tbody tr th:only-of-type {\n",
       "        vertical-align: middle;\n",
       "    }\n",
       "\n",
       "    .dataframe tbody tr th {\n",
       "        vertical-align: top;\n",
       "    }\n",
       "\n",
       "    .dataframe thead th {\n",
       "        text-align: right;\n",
       "    }\n",
       "</style>\n",
       "<table border=\"1\" class=\"dataframe\">\n",
       "  <thead>\n",
       "    <tr style=\"text-align: right;\">\n",
       "      <th></th>\n",
       "      <th>Topic</th>\n",
       "      <th>Count</th>\n",
       "      <th>Name</th>\n",
       "      <th>Representation</th>\n",
       "      <th>Representative_Docs</th>\n",
       "    </tr>\n",
       "  </thead>\n",
       "  <tbody>\n",
       "    <tr>\n",
       "      <th>0</th>\n",
       "      <td>-1</td>\n",
       "      <td>716</td>\n",
       "      <td>-1_it_the_was_like</td>\n",
       "      <td>[it, the, was, like, and, you, to, of, that, but]</td>\n",
       "      <td>[the first time i was suprise, because i din't...</td>\n",
       "    </tr>\n",
       "    <tr>\n",
       "      <th>1</th>\n",
       "      <td>0</td>\n",
       "      <td>77</td>\n",
       "      <td>0_yeah_exactly_course_yes</td>\n",
       "      <td>[yeah, exactly, course, yes, absolutely, missi...</td>\n",
       "      <td>[yeah., yeah., yeah.]</td>\n",
       "    </tr>\n",
       "    <tr>\n",
       "      <th>2</th>\n",
       "      <td>1</td>\n",
       "      <td>76</td>\n",
       "      <td>1_yourself_you_where_body</td>\n",
       "      <td>[yourself, you, where, body, did, saw, outside...</td>\n",
       "      <td>[i mean it's strange experience. so it's fine ...</td>\n",
       "    </tr>\n",
       "    <tr>\n",
       "      <th>3</th>\n",
       "      <td>2</td>\n",
       "      <td>56</td>\n",
       "      <td>2_okay_mm_ok_confused</td>\n",
       "      <td>[okay, mm, ok, confused, perfect, all, thats, ...</td>\n",
       "      <td>[okay., okay., okay.]</td>\n",
       "    </tr>\n",
       "    <tr>\n",
       "      <th>4</th>\n",
       "      <td>3</td>\n",
       "      <td>49</td>\n",
       "      <td>3_you_feel_back_when</td>\n",
       "      <td>[you, feel, back, when, go, out, body, is, sep...</td>\n",
       "      <td>[think it's. i don't know how to feel about it...</td>\n",
       "    </tr>\n",
       "    <tr>\n",
       "      <th>5</th>\n",
       "      <td>4</td>\n",
       "      <td>49</td>\n",
       "      <td>4_questions_okay_any_have</td>\n",
       "      <td>[questions, okay, any, have, other, want, thou...</td>\n",
       "      <td>[do you have any questions? do you have any qu...</td>\n",
       "    </tr>\n",
       "    <tr>\n",
       "      <th>6</th>\n",
       "      <td>5</td>\n",
       "      <td>42</td>\n",
       "      <td>5_okay_nice_thats_yeah</td>\n",
       "      <td>[okay, nice, thats, yeah, ah, oh, yes, great, ...</td>\n",
       "      <td>[okay. okay. okay., okay, okay., okay yeah okay.]</td>\n",
       "    </tr>\n",
       "    <tr>\n",
       "      <th>7</th>\n",
       "      <td>6</td>\n",
       "      <td>42</td>\n",
       "      <td>6_blinking_particles_those_changing</td>\n",
       "      <td>[blinking, particles, those, changing, changes...</td>\n",
       "      <td>[yes, and those particles, like, did they get ...</td>\n",
       "    </tr>\n",
       "    <tr>\n",
       "      <th>8</th>\n",
       "      <td>7</td>\n",
       "      <td>40</td>\n",
       "      <td>7_delay_time_without_was</td>\n",
       "      <td>[delay, time, without, was, moving, it, there,...</td>\n",
       "      <td>[there was a bit of a delay like there was a h...</td>\n",
       "    </tr>\n",
       "    <tr>\n",
       "      <th>9</th>\n",
       "      <td>8</td>\n",
       "      <td>39</td>\n",
       "      <td>8_focus_my_like_on</td>\n",
       "      <td>[focus, my, like, on, was, legs, to, but, and,...</td>\n",
       "      <td>[yeah, i think it's because i was really, real...</td>\n",
       "    </tr>\n",
       "  </tbody>\n",
       "</table>\n",
       "</div>"
      ],
      "text/plain": [
       "   Topic  Count                                 Name  \\\n",
       "0     -1    716                   -1_it_the_was_like   \n",
       "1      0     77            0_yeah_exactly_course_yes   \n",
       "2      1     76            1_yourself_you_where_body   \n",
       "3      2     56                2_okay_mm_ok_confused   \n",
       "4      3     49                 3_you_feel_back_when   \n",
       "5      4     49            4_questions_okay_any_have   \n",
       "6      5     42               5_okay_nice_thats_yeah   \n",
       "7      6     42  6_blinking_particles_those_changing   \n",
       "8      7     40             7_delay_time_without_was   \n",
       "9      8     39                   8_focus_my_like_on   \n",
       "\n",
       "                                      Representation  \\\n",
       "0  [it, the, was, like, and, you, to, of, that, but]   \n",
       "1  [yeah, exactly, course, yes, absolutely, missi...   \n",
       "2  [yourself, you, where, body, did, saw, outside...   \n",
       "3  [okay, mm, ok, confused, perfect, all, thats, ...   \n",
       "4  [you, feel, back, when, go, out, body, is, sep...   \n",
       "5  [questions, okay, any, have, other, want, thou...   \n",
       "6  [okay, nice, thats, yeah, ah, oh, yes, great, ...   \n",
       "7  [blinking, particles, those, changing, changes...   \n",
       "8  [delay, time, without, was, moving, it, there,...   \n",
       "9  [focus, my, like, on, was, legs, to, but, and,...   \n",
       "\n",
       "                                 Representative_Docs  \n",
       "0  [the first time i was suprise, because i din't...  \n",
       "1                              [yeah., yeah., yeah.]  \n",
       "2  [i mean it's strange experience. so it's fine ...  \n",
       "3                              [okay., okay., okay.]  \n",
       "4  [think it's. i don't know how to feel about it...  \n",
       "5  [do you have any questions? do you have any qu...  \n",
       "6  [okay. okay. okay., okay, okay., okay yeah okay.]  \n",
       "7  [yes, and those particles, like, did they get ...  \n",
       "8  [there was a bit of a delay like there was a h...  \n",
       "9  [yeah, i think it's because i was really, real...  "
      ]
     },
     "execution_count": 26,
     "metadata": {},
     "output_type": "execute_result"
    }
   ],
   "source": [
    "topic_model.get_topic_info().head(10)"
   ]
  },
  {
   "cell_type": "code",
   "execution_count": 27,
   "metadata": {},
   "outputs": [],
   "source": [
    "topic_distr, topic_token_distr = topic_model.approximate_distribution(\n",
    "      docs, window = 5, calculate_tokens=True)"
   ]
  },
  {
   "cell_type": "code",
   "execution_count": 28,
   "metadata": {},
   "outputs": [
    {
     "data": {
      "application/vnd.plotly.v1+json": {
       "config": {
        "plotlyServerURL": "https://plot.ly"
       },
       "data": [
        {
         "marker": {
          "color": "#C8D2D7",
          "line": {
           "color": "#6E8484",
           "width": 1
          }
         },
         "orientation": "h",
         "type": "bar",
         "x": [
          0.08302347472385109,
          0.022338637897208413,
          0.08798247526396913,
          0.01855370512226021,
          0.01584561607976578,
          0.029609115619282304,
          0.08667410005285572,
          0.0680344155132903,
          0.0358786306441484,
          0.044016573658215506,
          0.019084376406985907,
          0.018539899095925308,
          0.06371163833519591,
          0.03687145148944328,
          0.0742781322777138,
          0.032675554679943826,
          0.0450726073282298,
          0.06698100669480322,
          0.04346806183322487,
          0.017322886384445884
         ],
         "y": [
          "<b>Topic 1</b>: yourself_you_where_body_...",
          "<b>Topic 2</b>: okay_mm_ok_confused_perf...",
          "<b>Topic 3</b>: you_feel_back_when_go",
          "<b>Topic 5</b>: okay_nice_thats_yeah_ah",
          "<b>Topic 6</b>: blinking_particles_those...",
          "<b>Topic 7</b>: delay_time_without_was_m...",
          "<b>Topic 8</b>: focus_my_like_on_was",
          "<b>Topic 10</b>: meditation_how_did_the_...",
          "<b>Topic 11</b>: notice_did_darker_breat...",
          "<b>Topic 12</b>: forest_the_in_very_some",
          "<b>Topic 14</b>: how_experience_was_sess...",
          "<b>Topic 15</b>: will_can_chair_sit_want",
          "<b>Topic 17</b>: touch_back_the_touched_...",
          "<b>Topic 18</b>: me_identify_identificat...",
          "<b>Topic 19</b>: bodies_three_third_two_...",
          "<b>Topic 20</b>: dont_know_maybe_questio...",
          "<b>Topic 23</b>: vr_virtual_we_this_and",
          "<b>Topic 24</b>: strange_normal_weird_di...",
          "<b>Topic 33</b>: platform_train_the_its_...",
          "<b>Topic 35</b>: eyes_closed_close_open_..."
         ]
        }
       ],
       "layout": {
        "height": 600,
        "hoverlabel": {
         "bgcolor": "white",
         "font": {
          "family": "Rockwell",
          "size": 16
         }
        },
        "template": {
         "data": {
          "bar": [
           {
            "error_x": {
             "color": "rgb(36,36,36)"
            },
            "error_y": {
             "color": "rgb(36,36,36)"
            },
            "marker": {
             "line": {
              "color": "white",
              "width": 0.5
             },
             "pattern": {
              "fillmode": "overlay",
              "size": 10,
              "solidity": 0.2
             }
            },
            "type": "bar"
           }
          ],
          "barpolar": [
           {
            "marker": {
             "line": {
              "color": "white",
              "width": 0.5
             },
             "pattern": {
              "fillmode": "overlay",
              "size": 10,
              "solidity": 0.2
             }
            },
            "type": "barpolar"
           }
          ],
          "carpet": [
           {
            "aaxis": {
             "endlinecolor": "rgb(36,36,36)",
             "gridcolor": "white",
             "linecolor": "white",
             "minorgridcolor": "white",
             "startlinecolor": "rgb(36,36,36)"
            },
            "baxis": {
             "endlinecolor": "rgb(36,36,36)",
             "gridcolor": "white",
             "linecolor": "white",
             "minorgridcolor": "white",
             "startlinecolor": "rgb(36,36,36)"
            },
            "type": "carpet"
           }
          ],
          "choropleth": [
           {
            "colorbar": {
             "outlinewidth": 1,
             "tickcolor": "rgb(36,36,36)",
             "ticks": "outside"
            },
            "type": "choropleth"
           }
          ],
          "contour": [
           {
            "colorbar": {
             "outlinewidth": 1,
             "tickcolor": "rgb(36,36,36)",
             "ticks": "outside"
            },
            "colorscale": [
             [
              0,
              "#440154"
             ],
             [
              0.1111111111111111,
              "#482878"
             ],
             [
              0.2222222222222222,
              "#3e4989"
             ],
             [
              0.3333333333333333,
              "#31688e"
             ],
             [
              0.4444444444444444,
              "#26828e"
             ],
             [
              0.5555555555555556,
              "#1f9e89"
             ],
             [
              0.6666666666666666,
              "#35b779"
             ],
             [
              0.7777777777777778,
              "#6ece58"
             ],
             [
              0.8888888888888888,
              "#b5de2b"
             ],
             [
              1,
              "#fde725"
             ]
            ],
            "type": "contour"
           }
          ],
          "contourcarpet": [
           {
            "colorbar": {
             "outlinewidth": 1,
             "tickcolor": "rgb(36,36,36)",
             "ticks": "outside"
            },
            "type": "contourcarpet"
           }
          ],
          "heatmap": [
           {
            "colorbar": {
             "outlinewidth": 1,
             "tickcolor": "rgb(36,36,36)",
             "ticks": "outside"
            },
            "colorscale": [
             [
              0,
              "#440154"
             ],
             [
              0.1111111111111111,
              "#482878"
             ],
             [
              0.2222222222222222,
              "#3e4989"
             ],
             [
              0.3333333333333333,
              "#31688e"
             ],
             [
              0.4444444444444444,
              "#26828e"
             ],
             [
              0.5555555555555556,
              "#1f9e89"
             ],
             [
              0.6666666666666666,
              "#35b779"
             ],
             [
              0.7777777777777778,
              "#6ece58"
             ],
             [
              0.8888888888888888,
              "#b5de2b"
             ],
             [
              1,
              "#fde725"
             ]
            ],
            "type": "heatmap"
           }
          ],
          "heatmapgl": [
           {
            "colorbar": {
             "outlinewidth": 1,
             "tickcolor": "rgb(36,36,36)",
             "ticks": "outside"
            },
            "colorscale": [
             [
              0,
              "#440154"
             ],
             [
              0.1111111111111111,
              "#482878"
             ],
             [
              0.2222222222222222,
              "#3e4989"
             ],
             [
              0.3333333333333333,
              "#31688e"
             ],
             [
              0.4444444444444444,
              "#26828e"
             ],
             [
              0.5555555555555556,
              "#1f9e89"
             ],
             [
              0.6666666666666666,
              "#35b779"
             ],
             [
              0.7777777777777778,
              "#6ece58"
             ],
             [
              0.8888888888888888,
              "#b5de2b"
             ],
             [
              1,
              "#fde725"
             ]
            ],
            "type": "heatmapgl"
           }
          ],
          "histogram": [
           {
            "marker": {
             "line": {
              "color": "white",
              "width": 0.6
             }
            },
            "type": "histogram"
           }
          ],
          "histogram2d": [
           {
            "colorbar": {
             "outlinewidth": 1,
             "tickcolor": "rgb(36,36,36)",
             "ticks": "outside"
            },
            "colorscale": [
             [
              0,
              "#440154"
             ],
             [
              0.1111111111111111,
              "#482878"
             ],
             [
              0.2222222222222222,
              "#3e4989"
             ],
             [
              0.3333333333333333,
              "#31688e"
             ],
             [
              0.4444444444444444,
              "#26828e"
             ],
             [
              0.5555555555555556,
              "#1f9e89"
             ],
             [
              0.6666666666666666,
              "#35b779"
             ],
             [
              0.7777777777777778,
              "#6ece58"
             ],
             [
              0.8888888888888888,
              "#b5de2b"
             ],
             [
              1,
              "#fde725"
             ]
            ],
            "type": "histogram2d"
           }
          ],
          "histogram2dcontour": [
           {
            "colorbar": {
             "outlinewidth": 1,
             "tickcolor": "rgb(36,36,36)",
             "ticks": "outside"
            },
            "colorscale": [
             [
              0,
              "#440154"
             ],
             [
              0.1111111111111111,
              "#482878"
             ],
             [
              0.2222222222222222,
              "#3e4989"
             ],
             [
              0.3333333333333333,
              "#31688e"
             ],
             [
              0.4444444444444444,
              "#26828e"
             ],
             [
              0.5555555555555556,
              "#1f9e89"
             ],
             [
              0.6666666666666666,
              "#35b779"
             ],
             [
              0.7777777777777778,
              "#6ece58"
             ],
             [
              0.8888888888888888,
              "#b5de2b"
             ],
             [
              1,
              "#fde725"
             ]
            ],
            "type": "histogram2dcontour"
           }
          ],
          "mesh3d": [
           {
            "colorbar": {
             "outlinewidth": 1,
             "tickcolor": "rgb(36,36,36)",
             "ticks": "outside"
            },
            "type": "mesh3d"
           }
          ],
          "parcoords": [
           {
            "line": {
             "colorbar": {
              "outlinewidth": 1,
              "tickcolor": "rgb(36,36,36)",
              "ticks": "outside"
             }
            },
            "type": "parcoords"
           }
          ],
          "pie": [
           {
            "automargin": true,
            "type": "pie"
           }
          ],
          "scatter": [
           {
            "fillpattern": {
             "fillmode": "overlay",
             "size": 10,
             "solidity": 0.2
            },
            "type": "scatter"
           }
          ],
          "scatter3d": [
           {
            "line": {
             "colorbar": {
              "outlinewidth": 1,
              "tickcolor": "rgb(36,36,36)",
              "ticks": "outside"
             }
            },
            "marker": {
             "colorbar": {
              "outlinewidth": 1,
              "tickcolor": "rgb(36,36,36)",
              "ticks": "outside"
             }
            },
            "type": "scatter3d"
           }
          ],
          "scattercarpet": [
           {
            "marker": {
             "colorbar": {
              "outlinewidth": 1,
              "tickcolor": "rgb(36,36,36)",
              "ticks": "outside"
             }
            },
            "type": "scattercarpet"
           }
          ],
          "scattergeo": [
           {
            "marker": {
             "colorbar": {
              "outlinewidth": 1,
              "tickcolor": "rgb(36,36,36)",
              "ticks": "outside"
             }
            },
            "type": "scattergeo"
           }
          ],
          "scattergl": [
           {
            "marker": {
             "colorbar": {
              "outlinewidth": 1,
              "tickcolor": "rgb(36,36,36)",
              "ticks": "outside"
             }
            },
            "type": "scattergl"
           }
          ],
          "scattermapbox": [
           {
            "marker": {
             "colorbar": {
              "outlinewidth": 1,
              "tickcolor": "rgb(36,36,36)",
              "ticks": "outside"
             }
            },
            "type": "scattermapbox"
           }
          ],
          "scatterpolar": [
           {
            "marker": {
             "colorbar": {
              "outlinewidth": 1,
              "tickcolor": "rgb(36,36,36)",
              "ticks": "outside"
             }
            },
            "type": "scatterpolar"
           }
          ],
          "scatterpolargl": [
           {
            "marker": {
             "colorbar": {
              "outlinewidth": 1,
              "tickcolor": "rgb(36,36,36)",
              "ticks": "outside"
             }
            },
            "type": "scatterpolargl"
           }
          ],
          "scatterternary": [
           {
            "marker": {
             "colorbar": {
              "outlinewidth": 1,
              "tickcolor": "rgb(36,36,36)",
              "ticks": "outside"
             }
            },
            "type": "scatterternary"
           }
          ],
          "surface": [
           {
            "colorbar": {
             "outlinewidth": 1,
             "tickcolor": "rgb(36,36,36)",
             "ticks": "outside"
            },
            "colorscale": [
             [
              0,
              "#440154"
             ],
             [
              0.1111111111111111,
              "#482878"
             ],
             [
              0.2222222222222222,
              "#3e4989"
             ],
             [
              0.3333333333333333,
              "#31688e"
             ],
             [
              0.4444444444444444,
              "#26828e"
             ],
             [
              0.5555555555555556,
              "#1f9e89"
             ],
             [
              0.6666666666666666,
              "#35b779"
             ],
             [
              0.7777777777777778,
              "#6ece58"
             ],
             [
              0.8888888888888888,
              "#b5de2b"
             ],
             [
              1,
              "#fde725"
             ]
            ],
            "type": "surface"
           }
          ],
          "table": [
           {
            "cells": {
             "fill": {
              "color": "rgb(237,237,237)"
             },
             "line": {
              "color": "white"
             }
            },
            "header": {
             "fill": {
              "color": "rgb(217,217,217)"
             },
             "line": {
              "color": "white"
             }
            },
            "type": "table"
           }
          ]
         },
         "layout": {
          "annotationdefaults": {
           "arrowhead": 0,
           "arrowwidth": 1
          },
          "autotypenumbers": "strict",
          "coloraxis": {
           "colorbar": {
            "outlinewidth": 1,
            "tickcolor": "rgb(36,36,36)",
            "ticks": "outside"
           }
          },
          "colorscale": {
           "diverging": [
            [
             0,
             "rgb(103,0,31)"
            ],
            [
             0.1,
             "rgb(178,24,43)"
            ],
            [
             0.2,
             "rgb(214,96,77)"
            ],
            [
             0.3,
             "rgb(244,165,130)"
            ],
            [
             0.4,
             "rgb(253,219,199)"
            ],
            [
             0.5,
             "rgb(247,247,247)"
            ],
            [
             0.6,
             "rgb(209,229,240)"
            ],
            [
             0.7,
             "rgb(146,197,222)"
            ],
            [
             0.8,
             "rgb(67,147,195)"
            ],
            [
             0.9,
             "rgb(33,102,172)"
            ],
            [
             1,
             "rgb(5,48,97)"
            ]
           ],
           "sequential": [
            [
             0,
             "#440154"
            ],
            [
             0.1111111111111111,
             "#482878"
            ],
            [
             0.2222222222222222,
             "#3e4989"
            ],
            [
             0.3333333333333333,
             "#31688e"
            ],
            [
             0.4444444444444444,
             "#26828e"
            ],
            [
             0.5555555555555556,
             "#1f9e89"
            ],
            [
             0.6666666666666666,
             "#35b779"
            ],
            [
             0.7777777777777778,
             "#6ece58"
            ],
            [
             0.8888888888888888,
             "#b5de2b"
            ],
            [
             1,
             "#fde725"
            ]
           ],
           "sequentialminus": [
            [
             0,
             "#440154"
            ],
            [
             0.1111111111111111,
             "#482878"
            ],
            [
             0.2222222222222222,
             "#3e4989"
            ],
            [
             0.3333333333333333,
             "#31688e"
            ],
            [
             0.4444444444444444,
             "#26828e"
            ],
            [
             0.5555555555555556,
             "#1f9e89"
            ],
            [
             0.6666666666666666,
             "#35b779"
            ],
            [
             0.7777777777777778,
             "#6ece58"
            ],
            [
             0.8888888888888888,
             "#b5de2b"
            ],
            [
             1,
             "#fde725"
            ]
           ]
          },
          "colorway": [
           "#1F77B4",
           "#FF7F0E",
           "#2CA02C",
           "#D62728",
           "#9467BD",
           "#8C564B",
           "#E377C2",
           "#7F7F7F",
           "#BCBD22",
           "#17BECF"
          ],
          "font": {
           "color": "rgb(36,36,36)"
          },
          "geo": {
           "bgcolor": "white",
           "lakecolor": "white",
           "landcolor": "white",
           "showlakes": true,
           "showland": true,
           "subunitcolor": "white"
          },
          "hoverlabel": {
           "align": "left"
          },
          "hovermode": "closest",
          "mapbox": {
           "style": "light"
          },
          "paper_bgcolor": "white",
          "plot_bgcolor": "white",
          "polar": {
           "angularaxis": {
            "gridcolor": "rgb(232,232,232)",
            "linecolor": "rgb(36,36,36)",
            "showgrid": false,
            "showline": true,
            "ticks": "outside"
           },
           "bgcolor": "white",
           "radialaxis": {
            "gridcolor": "rgb(232,232,232)",
            "linecolor": "rgb(36,36,36)",
            "showgrid": false,
            "showline": true,
            "ticks": "outside"
           }
          },
          "scene": {
           "xaxis": {
            "backgroundcolor": "white",
            "gridcolor": "rgb(232,232,232)",
            "gridwidth": 2,
            "linecolor": "rgb(36,36,36)",
            "showbackground": true,
            "showgrid": false,
            "showline": true,
            "ticks": "outside",
            "zeroline": false,
            "zerolinecolor": "rgb(36,36,36)"
           },
           "yaxis": {
            "backgroundcolor": "white",
            "gridcolor": "rgb(232,232,232)",
            "gridwidth": 2,
            "linecolor": "rgb(36,36,36)",
            "showbackground": true,
            "showgrid": false,
            "showline": true,
            "ticks": "outside",
            "zeroline": false,
            "zerolinecolor": "rgb(36,36,36)"
           },
           "zaxis": {
            "backgroundcolor": "white",
            "gridcolor": "rgb(232,232,232)",
            "gridwidth": 2,
            "linecolor": "rgb(36,36,36)",
            "showbackground": true,
            "showgrid": false,
            "showline": true,
            "ticks": "outside",
            "zeroline": false,
            "zerolinecolor": "rgb(36,36,36)"
           }
          },
          "shapedefaults": {
           "fillcolor": "black",
           "line": {
            "width": 0
           },
           "opacity": 0.3
          },
          "ternary": {
           "aaxis": {
            "gridcolor": "rgb(232,232,232)",
            "linecolor": "rgb(36,36,36)",
            "showgrid": false,
            "showline": true,
            "ticks": "outside"
           },
           "baxis": {
            "gridcolor": "rgb(232,232,232)",
            "linecolor": "rgb(36,36,36)",
            "showgrid": false,
            "showline": true,
            "ticks": "outside"
           },
           "bgcolor": "white",
           "caxis": {
            "gridcolor": "rgb(232,232,232)",
            "linecolor": "rgb(36,36,36)",
            "showgrid": false,
            "showline": true,
            "ticks": "outside"
           }
          },
          "title": {
           "x": 0.05
          },
          "xaxis": {
           "automargin": true,
           "gridcolor": "rgb(232,232,232)",
           "linecolor": "rgb(36,36,36)",
           "showgrid": false,
           "showline": true,
           "ticks": "outside",
           "title": {
            "standoff": 15
           },
           "zeroline": false,
           "zerolinecolor": "rgb(36,36,36)"
          },
          "yaxis": {
           "automargin": true,
           "gridcolor": "rgb(232,232,232)",
           "linecolor": "rgb(36,36,36)",
           "showgrid": false,
           "showline": true,
           "ticks": "outside",
           "title": {
            "standoff": 15
           },
           "zeroline": false,
           "zerolinecolor": "rgb(36,36,36)"
          }
         }
        },
        "title": {
         "font": {
          "color": "Black",
          "size": 22
         },
         "text": "<b>Topic Probability Distribution</b>",
         "x": 0.5,
         "xanchor": "center",
         "y": 0.95,
         "yanchor": "top"
        },
        "width": 800,
        "xaxis": {
         "title": {
          "text": "Probability"
         }
        }
       }
      }
     },
     "metadata": {},
     "output_type": "display_data"
    }
   ],
   "source": [
    "topic_model.visualize_distribution(topic_distr[1])"
   ]
  },
  {
   "cell_type": "code",
   "execution_count": 29,
   "metadata": {},
   "outputs": [],
   "source": [
    "doc_id = 9"
   ]
  },
  {
   "cell_type": "code",
   "execution_count": 30,
   "metadata": {},
   "outputs": [
    {
     "data": {
      "text/html": [
       "<style type=\"text/css\">\n",
       "#T_a33d4_row0_col0, #T_a33d4_row0_col1, #T_a33d4_row0_col2, #T_a33d4_row0_col3, #T_a33d4_row0_col4, #T_a33d4_row0_col5, #T_a33d4_row0_col6, #T_a33d4_row0_col7, #T_a33d4_row0_col12, #T_a33d4_row0_col13, #T_a33d4_row0_col14, #T_a33d4_row0_col15, #T_a33d4_row0_col16, #T_a33d4_row0_col17, #T_a33d4_row0_col18, #T_a33d4_row0_col19, #T_a33d4_row0_col20, #T_a33d4_row0_col21, #T_a33d4_row0_col22, #T_a33d4_row0_col23, #T_a33d4_row1_col0, #T_a33d4_row1_col1, #T_a33d4_row1_col2, #T_a33d4_row1_col3, #T_a33d4_row1_col4, #T_a33d4_row1_col5, #T_a33d4_row1_col6, #T_a33d4_row1_col7, #T_a33d4_row1_col12, #T_a33d4_row1_col17, #T_a33d4_row1_col18, #T_a33d4_row1_col19, #T_a33d4_row1_col20, #T_a33d4_row1_col21, #T_a33d4_row1_col22, #T_a33d4_row1_col23, #T_a33d4_row2_col0, #T_a33d4_row2_col1, #T_a33d4_row2_col2, #T_a33d4_row2_col3, #T_a33d4_row2_col4, #T_a33d4_row2_col5, #T_a33d4_row2_col6, #T_a33d4_row2_col7, #T_a33d4_row2_col12, #T_a33d4_row2_col13, #T_a33d4_row2_col14, #T_a33d4_row2_col15, #T_a33d4_row2_col16, #T_a33d4_row2_col17, #T_a33d4_row2_col18, #T_a33d4_row2_col19, #T_a33d4_row2_col20, #T_a33d4_row2_col21, #T_a33d4_row2_col22, #T_a33d4_row2_col23, #T_a33d4_row3_col7, #T_a33d4_row3_col12, #T_a33d4_row3_col13, #T_a33d4_row3_col14, #T_a33d4_row3_col15, #T_a33d4_row3_col16, #T_a33d4_row3_col17, #T_a33d4_row3_col18, #T_a33d4_row3_col19, #T_a33d4_row3_col20, #T_a33d4_row3_col21, #T_a33d4_row3_col22, #T_a33d4_row3_col23, #T_a33d4_row4_col4, #T_a33d4_row4_col5, #T_a33d4_row4_col6, #T_a33d4_row4_col7, #T_a33d4_row4_col12, #T_a33d4_row4_col21, #T_a33d4_row4_col22, #T_a33d4_row4_col23, #T_a33d4_row5_col4, #T_a33d4_row5_col12, #T_a33d4_row5_col13, #T_a33d4_row5_col14, #T_a33d4_row5_col15, #T_a33d4_row5_col16, #T_a33d4_row5_col17, #T_a33d4_row5_col18, #T_a33d4_row5_col19, #T_a33d4_row5_col20, #T_a33d4_row5_col21, #T_a33d4_row5_col22, #T_a33d4_row5_col23, #T_a33d4_row6_col0, #T_a33d4_row6_col1, #T_a33d4_row6_col2, #T_a33d4_row6_col3, #T_a33d4_row6_col4, #T_a33d4_row6_col12, #T_a33d4_row6_col13, #T_a33d4_row6_col14, #T_a33d4_row6_col15, #T_a33d4_row6_col16, #T_a33d4_row6_col17, #T_a33d4_row6_col18, #T_a33d4_row6_col19, #T_a33d4_row6_col20, #T_a33d4_row6_col21, #T_a33d4_row6_col22, #T_a33d4_row6_col23, #T_a33d4_row7_col4, #T_a33d4_row7_col5, #T_a33d4_row7_col6, #T_a33d4_row7_col7, #T_a33d4_row7_col8, #T_a33d4_row7_col9, #T_a33d4_row7_col10, #T_a33d4_row7_col11, #T_a33d4_row7_col12, #T_a33d4_row7_col13, #T_a33d4_row7_col14, #T_a33d4_row7_col15, #T_a33d4_row7_col16, #T_a33d4_row7_col17, #T_a33d4_row7_col18, #T_a33d4_row7_col19, #T_a33d4_row7_col20, #T_a33d4_row7_col21, #T_a33d4_row7_col22, #T_a33d4_row7_col23, #T_a33d4_row8_col4, #T_a33d4_row8_col5, #T_a33d4_row8_col6, #T_a33d4_row8_col7, #T_a33d4_row8_col12, #T_a33d4_row8_col13, #T_a33d4_row8_col14, #T_a33d4_row8_col15, #T_a33d4_row8_col16, #T_a33d4_row8_col17, #T_a33d4_row8_col18, #T_a33d4_row8_col19, #T_a33d4_row8_col20, #T_a33d4_row8_col21, #T_a33d4_row8_col22, #T_a33d4_row8_col23, #T_a33d4_row9_col0, #T_a33d4_row9_col1, #T_a33d4_row9_col2, #T_a33d4_row9_col3, #T_a33d4_row9_col4, #T_a33d4_row9_col5, #T_a33d4_row9_col6, #T_a33d4_row9_col7, #T_a33d4_row9_col12, #T_a33d4_row9_col13, #T_a33d4_row9_col14, #T_a33d4_row9_col15, #T_a33d4_row9_col16, #T_a33d4_row9_col17, #T_a33d4_row9_col18, #T_a33d4_row9_col19, #T_a33d4_row9_col20, #T_a33d4_row9_col21, #T_a33d4_row9_col22, #T_a33d4_row9_col23, #T_a33d4_row10_col0, #T_a33d4_row10_col1, #T_a33d4_row10_col2, #T_a33d4_row10_col3, #T_a33d4_row10_col4, #T_a33d4_row10_col9, #T_a33d4_row10_col10, #T_a33d4_row10_col11, #T_a33d4_row10_col12, #T_a33d4_row10_col13, #T_a33d4_row10_col14, #T_a33d4_row10_col15, #T_a33d4_row10_col16, #T_a33d4_row10_col17, #T_a33d4_row10_col18, #T_a33d4_row10_col19, #T_a33d4_row10_col20, #T_a33d4_row10_col21, #T_a33d4_row10_col22, #T_a33d4_row10_col23, #T_a33d4_row11_col12, #T_a33d4_row12_col0, #T_a33d4_row12_col1, #T_a33d4_row12_col2, #T_a33d4_row12_col3, #T_a33d4_row12_col4, #T_a33d4_row12_col12, #T_a33d4_row12_col13, #T_a33d4_row12_col14, #T_a33d4_row12_col15, #T_a33d4_row12_col16, #T_a33d4_row12_col17, #T_a33d4_row12_col18, #T_a33d4_row12_col19, #T_a33d4_row12_col20, #T_a33d4_row12_col21, #T_a33d4_row12_col22, #T_a33d4_row12_col23, #T_a33d4_row13_col4, #T_a33d4_row13_col5, #T_a33d4_row13_col6, #T_a33d4_row13_col7, #T_a33d4_row13_col8, #T_a33d4_row13_col9, #T_a33d4_row13_col10, #T_a33d4_row13_col11, #T_a33d4_row13_col12, #T_a33d4_row13_col13, #T_a33d4_row13_col14, #T_a33d4_row13_col15, #T_a33d4_row13_col16, #T_a33d4_row13_col17, #T_a33d4_row13_col18, #T_a33d4_row13_col19, #T_a33d4_row13_col20, #T_a33d4_row13_col21, #T_a33d4_row13_col22, #T_a33d4_row13_col23, #T_a33d4_row14_col4, #T_a33d4_row14_col5, #T_a33d4_row14_col6, #T_a33d4_row14_col7, #T_a33d4_row14_col8, #T_a33d4_row14_col9, #T_a33d4_row14_col10, #T_a33d4_row14_col11, #T_a33d4_row14_col12, #T_a33d4_row14_col13, #T_a33d4_row14_col14, #T_a33d4_row14_col15, #T_a33d4_row14_col16, #T_a33d4_row14_col23, #T_a33d4_row15_col0, #T_a33d4_row15_col1, #T_a33d4_row15_col2, #T_a33d4_row15_col3, #T_a33d4_row15_col4, #T_a33d4_row15_col12, #T_a33d4_row15_col13, #T_a33d4_row15_col14, #T_a33d4_row15_col15, #T_a33d4_row15_col16, #T_a33d4_row15_col17, #T_a33d4_row15_col18, #T_a33d4_row15_col19, #T_a33d4_row15_col20, #T_a33d4_row15_col21, #T_a33d4_row15_col22, #T_a33d4_row15_col23, #T_a33d4_row16_col4, #T_a33d4_row16_col5, #T_a33d4_row16_col6, #T_a33d4_row16_col7, #T_a33d4_row16_col8, #T_a33d4_row16_col9, #T_a33d4_row16_col10, #T_a33d4_row16_col11, #T_a33d4_row16_col12, #T_a33d4_row16_col19, #T_a33d4_row16_col20, #T_a33d4_row16_col21, #T_a33d4_row16_col22, #T_a33d4_row16_col23 {\n",
       "  background-color: #f7fbff;\n",
       "  color: #000000;\n",
       "  color: white;\n",
       "  background-color: white;\n",
       "}\n",
       "#T_a33d4_row0_col8, #T_a33d4_row0_col9, #T_a33d4_row0_col10, #T_a33d4_row0_col11, #T_a33d4_row6_col5, #T_a33d4_row6_col6, #T_a33d4_row6_col7, #T_a33d4_row10_col5, #T_a33d4_row10_col6, #T_a33d4_row10_col7, #T_a33d4_row10_col8, #T_a33d4_row16_col18 {\n",
       "  background-color: #eaf2fb;\n",
       "  color: #000000;\n",
       "  color: black;\n",
       "}\n",
       "#T_a33d4_row1_col8, #T_a33d4_row1_col9, #T_a33d4_row1_col10, #T_a33d4_row1_col11, #T_a33d4_row3_col6, #T_a33d4_row5_col0, #T_a33d4_row5_col1, #T_a33d4_row5_col2, #T_a33d4_row5_col3, #T_a33d4_row11_col7, #T_a33d4_row12_col11, #T_a33d4_row13_col0, #T_a33d4_row13_col1, #T_a33d4_row13_col2, #T_a33d4_row13_col3, #T_a33d4_row14_col22, #T_a33d4_row16_col13 {\n",
       "  background-color: #e6f0f9;\n",
       "  color: #000000;\n",
       "  color: black;\n",
       "}\n",
       "#T_a33d4_row1_col13, #T_a33d4_row1_col14, #T_a33d4_row1_col15, #T_a33d4_row1_col16, #T_a33d4_row2_col8, #T_a33d4_row2_col9, #T_a33d4_row2_col10, #T_a33d4_row2_col11, #T_a33d4_row3_col8, #T_a33d4_row3_col9, #T_a33d4_row3_col10, #T_a33d4_row3_col11, #T_a33d4_row5_col5, #T_a33d4_row7_col0, #T_a33d4_row7_col1, #T_a33d4_row7_col2, #T_a33d4_row7_col3, #T_a33d4_row8_col0, #T_a33d4_row8_col1, #T_a33d4_row8_col2, #T_a33d4_row8_col3, #T_a33d4_row14_col17 {\n",
       "  background-color: #e7f1fa;\n",
       "  color: #000000;\n",
       "  color: black;\n",
       "}\n",
       "#T_a33d4_row3_col0, #T_a33d4_row14_col0, #T_a33d4_row14_col1, #T_a33d4_row14_col2, #T_a33d4_row14_col3 {\n",
       "  background-color: #dbe9f6;\n",
       "  color: #000000;\n",
       "  color: black;\n",
       "}\n",
       "#T_a33d4_row3_col1, #T_a33d4_row5_col7 {\n",
       "  background-color: #cadef0;\n",
       "  color: #000000;\n",
       "  color: black;\n",
       "}\n",
       "#T_a33d4_row3_col2 {\n",
       "  background-color: #afd1e7;\n",
       "  color: #000000;\n",
       "  color: black;\n",
       "}\n",
       "#T_a33d4_row3_col3, #T_a33d4_row11_col17 {\n",
       "  background-color: #91c3de;\n",
       "  color: #000000;\n",
       "  color: black;\n",
       "}\n",
       "#T_a33d4_row3_col4 {\n",
       "  background-color: #c2d9ee;\n",
       "  color: #000000;\n",
       "  color: black;\n",
       "}\n",
       "#T_a33d4_row3_col5 {\n",
       "  background-color: #d4e4f4;\n",
       "  color: #000000;\n",
       "  color: black;\n",
       "}\n",
       "#T_a33d4_row4_col0, #T_a33d4_row4_col1, #T_a33d4_row4_col2, #T_a33d4_row4_col3, #T_a33d4_row5_col11 {\n",
       "  background-color: #e5eff9;\n",
       "  color: #000000;\n",
       "  color: black;\n",
       "}\n",
       "#T_a33d4_row4_col8, #T_a33d4_row4_col9, #T_a33d4_row4_col10, #T_a33d4_row4_col11, #T_a33d4_row16_col0, #T_a33d4_row16_col1, #T_a33d4_row16_col2, #T_a33d4_row16_col3 {\n",
       "  background-color: #e3eef8;\n",
       "  color: #000000;\n",
       "  color: black;\n",
       "}\n",
       "#T_a33d4_row4_col13, #T_a33d4_row9_col8, #T_a33d4_row9_col9, #T_a33d4_row9_col10, #T_a33d4_row9_col11, #T_a33d4_row12_col5 {\n",
       "  background-color: #e3eef9;\n",
       "  color: #000000;\n",
       "  color: black;\n",
       "}\n",
       "#T_a33d4_row4_col14 {\n",
       "  background-color: #cee0f2;\n",
       "  color: #000000;\n",
       "  color: black;\n",
       "}\n",
       "#T_a33d4_row4_col15 {\n",
       "  background-color: #bcd7eb;\n",
       "  color: #000000;\n",
       "  color: black;\n",
       "}\n",
       "#T_a33d4_row4_col16 {\n",
       "  background-color: #a5cde3;\n",
       "  color: #000000;\n",
       "  color: black;\n",
       "}\n",
       "#T_a33d4_row4_col17, #T_a33d4_row15_col6 {\n",
       "  background-color: #add0e6;\n",
       "  color: #000000;\n",
       "  color: black;\n",
       "}\n",
       "#T_a33d4_row4_col18 {\n",
       "  background-color: #cbdef1;\n",
       "  color: #000000;\n",
       "  color: black;\n",
       "}\n",
       "#T_a33d4_row4_col19 {\n",
       "  background-color: #dae8f6;\n",
       "  color: #000000;\n",
       "  color: black;\n",
       "}\n",
       "#T_a33d4_row4_col20, #T_a33d4_row11_col6, #T_a33d4_row11_col13 {\n",
       "  background-color: #e8f1fa;\n",
       "  color: #000000;\n",
       "  color: black;\n",
       "}\n",
       "#T_a33d4_row5_col6, #T_a33d4_row6_col8, #T_a33d4_row11_col14 {\n",
       "  background-color: #d9e7f5;\n",
       "  color: #000000;\n",
       "  color: black;\n",
       "}\n",
       "#T_a33d4_row5_col8 {\n",
       "  background-color: #b0d2e7;\n",
       "  color: #000000;\n",
       "  color: black;\n",
       "}\n",
       "#T_a33d4_row5_col9 {\n",
       "  background-color: #c8dcf0;\n",
       "  color: #000000;\n",
       "  color: black;\n",
       "}\n",
       "#T_a33d4_row5_col10, #T_a33d4_row14_col18, #T_a33d4_row15_col5, #T_a33d4_row16_col17 {\n",
       "  background-color: #d6e6f4;\n",
       "  color: #000000;\n",
       "  color: black;\n",
       "}\n",
       "#T_a33d4_row6_col9, #T_a33d4_row6_col10, #T_a33d4_row6_col11 {\n",
       "  background-color: #e7f0fa;\n",
       "  color: #000000;\n",
       "  color: black;\n",
       "}\n",
       "#T_a33d4_row8_col8, #T_a33d4_row8_col9, #T_a33d4_row8_col10, #T_a33d4_row8_col11 {\n",
       "  background-color: #e0ecf8;\n",
       "  color: #000000;\n",
       "  color: black;\n",
       "}\n",
       "#T_a33d4_row11_col0 {\n",
       "  background-color: #d5e5f4;\n",
       "  color: #000000;\n",
       "  color: black;\n",
       "}\n",
       "#T_a33d4_row11_col1 {\n",
       "  background-color: #bad6eb;\n",
       "  color: #000000;\n",
       "  color: black;\n",
       "}\n",
       "#T_a33d4_row11_col2 {\n",
       "  background-color: #a0cbe2;\n",
       "  color: #000000;\n",
       "  color: black;\n",
       "}\n",
       "#T_a33d4_row11_col3 {\n",
       "  background-color: #81badb;\n",
       "  color: #000000;\n",
       "  color: black;\n",
       "}\n",
       "#T_a33d4_row11_col4, #T_a33d4_row12_col7 {\n",
       "  background-color: #bfd8ed;\n",
       "  color: #000000;\n",
       "  color: black;\n",
       "}\n",
       "#T_a33d4_row11_col5 {\n",
       "  background-color: #d8e7f5;\n",
       "  color: #000000;\n",
       "  color: black;\n",
       "}\n",
       "#T_a33d4_row11_col8, #T_a33d4_row11_col9, #T_a33d4_row11_col10 {\n",
       "  background-color: #d0e2f2;\n",
       "  color: #000000;\n",
       "  color: black;\n",
       "}\n",
       "#T_a33d4_row11_col11 {\n",
       "  background-color: #e1edf8;\n",
       "  color: #000000;\n",
       "  color: black;\n",
       "}\n",
       "#T_a33d4_row11_col15 {\n",
       "  background-color: #caddf0;\n",
       "  color: #000000;\n",
       "  color: black;\n",
       "}\n",
       "#T_a33d4_row11_col16 {\n",
       "  background-color: #a9cfe5;\n",
       "  color: #000000;\n",
       "  color: black;\n",
       "}\n",
       "#T_a33d4_row11_col18, #T_a33d4_row15_col7 {\n",
       "  background-color: #72b2d8;\n",
       "  color: #f1f1f1;\n",
       "  color: black;\n",
       "}\n",
       "#T_a33d4_row11_col19 {\n",
       "  background-color: #2c7cba;\n",
       "  color: #f1f1f1;\n",
       "  color: black;\n",
       "}\n",
       "#T_a33d4_row11_col20 {\n",
       "  background-color: #08306b;\n",
       "  color: #f1f1f1;\n",
       "  color: black;\n",
       "}\n",
       "#T_a33d4_row11_col21 {\n",
       "  background-color: #0b559f;\n",
       "  color: #f1f1f1;\n",
       "  color: black;\n",
       "}\n",
       "#T_a33d4_row11_col22 {\n",
       "  background-color: #2d7dbb;\n",
       "  color: #f1f1f1;\n",
       "  color: black;\n",
       "}\n",
       "#T_a33d4_row11_col23 {\n",
       "  background-color: #92c4de;\n",
       "  color: #000000;\n",
       "  color: black;\n",
       "}\n",
       "#T_a33d4_row12_col6 {\n",
       "  background-color: #d2e3f3;\n",
       "  color: #000000;\n",
       "  color: black;\n",
       "}\n",
       "#T_a33d4_row12_col8 {\n",
       "  background-color: #a3cce3;\n",
       "  color: #000000;\n",
       "  color: black;\n",
       "}\n",
       "#T_a33d4_row12_col9 {\n",
       "  background-color: #c3daee;\n",
       "  color: #000000;\n",
       "  color: black;\n",
       "}\n",
       "#T_a33d4_row12_col10, #T_a33d4_row14_col21 {\n",
       "  background-color: #d6e5f4;\n",
       "  color: #000000;\n",
       "  color: black;\n",
       "}\n",
       "#T_a33d4_row14_col19, #T_a33d4_row14_col20 {\n",
       "  background-color: #c6dbef;\n",
       "  color: #000000;\n",
       "  color: black;\n",
       "}\n",
       "#T_a33d4_row15_col8 {\n",
       "  background-color: #3484bf;\n",
       "  color: #f1f1f1;\n",
       "  color: black;\n",
       "}\n",
       "#T_a33d4_row15_col9 {\n",
       "  background-color: #68acd5;\n",
       "  color: #f1f1f1;\n",
       "  color: black;\n",
       "}\n",
       "#T_a33d4_row15_col10 {\n",
       "  background-color: #a6cee4;\n",
       "  color: #000000;\n",
       "  color: black;\n",
       "}\n",
       "#T_a33d4_row15_col11 {\n",
       "  background-color: #d1e2f3;\n",
       "  color: #000000;\n",
       "  color: black;\n",
       "}\n",
       "#T_a33d4_row16_col14 {\n",
       "  background-color: #d3e3f3;\n",
       "  color: #000000;\n",
       "  color: black;\n",
       "}\n",
       "#T_a33d4_row16_col15, #T_a33d4_row16_col16 {\n",
       "  background-color: #c4daee;\n",
       "  color: #000000;\n",
       "  color: black;\n",
       "}\n",
       "</style>\n",
       "<table id=\"T_a33d4\">\n",
       "  <thead>\n",
       "    <tr>\n",
       "      <th class=\"blank level0\" >&nbsp;</th>\n",
       "      <th id=\"T_a33d4_level0_col0\" class=\"col_heading level0 col0\" >so</th>\n",
       "      <th id=\"T_a33d4_level0_col1\" class=\"col_heading level0 col1\" >felt </th>\n",
       "      <th id=\"T_a33d4_level0_col2\" class=\"col_heading level0 col2\" >like  </th>\n",
       "      <th id=\"T_a33d4_level0_col3\" class=\"col_heading level0 col3\" >time   </th>\n",
       "      <th id=\"T_a33d4_level0_col4\" class=\"col_heading level0 col4\" >lag    </th>\n",
       "      <th id=\"T_a33d4_level0_col5\" class=\"col_heading level0 col5\" >in     </th>\n",
       "      <th id=\"T_a33d4_level0_col6\" class=\"col_heading level0 col6\" >the      </th>\n",
       "      <th id=\"T_a33d4_level0_col7\" class=\"col_heading level0 col7\" >last       </th>\n",
       "      <th id=\"T_a33d4_level0_col8\" class=\"col_heading level0 col8\" >one        </th>\n",
       "      <th id=\"T_a33d4_level0_col9\" class=\"col_heading level0 col9\" >of         </th>\n",
       "      <th id=\"T_a33d4_level0_col10\" class=\"col_heading level0 col10\" >what          </th>\n",
       "      <th id=\"T_a33d4_level0_col11\" class=\"col_heading level0 col11\" >was           </th>\n",
       "      <th id=\"T_a33d4_level0_col12\" class=\"col_heading level0 col12\" >experiencing            </th>\n",
       "      <th id=\"T_a33d4_level0_col13\" class=\"col_heading level0 col13\" >and             </th>\n",
       "      <th id=\"T_a33d4_level0_col14\" class=\"col_heading level0 col14\" >what              </th>\n",
       "      <th id=\"T_a33d4_level0_col15\" class=\"col_heading level0 col15\" >was               </th>\n",
       "      <th id=\"T_a33d4_level0_col16\" class=\"col_heading level0 col16\" >seeing                </th>\n",
       "      <th id=\"T_a33d4_level0_col17\" class=\"col_heading level0 col17\" >but                 </th>\n",
       "      <th id=\"T_a33d4_level0_col18\" class=\"col_heading level0 col18\" >never                  </th>\n",
       "      <th id=\"T_a33d4_level0_col19\" class=\"col_heading level0 col19\" >felt                   </th>\n",
       "      <th id=\"T_a33d4_level0_col20\" class=\"col_heading level0 col20\" >like                    </th>\n",
       "      <th id=\"T_a33d4_level0_col21\" class=\"col_heading level0 col21\" >had                     </th>\n",
       "      <th id=\"T_a33d4_level0_col22\" class=\"col_heading level0 col22\" >three                      </th>\n",
       "      <th id=\"T_a33d4_level0_col23\" class=\"col_heading level0 col23\" >bodies                       </th>\n",
       "    </tr>\n",
       "  </thead>\n",
       "  <tbody>\n",
       "    <tr>\n",
       "      <th id=\"T_a33d4_level0_row0\" class=\"row_heading level0 row0\" >1_yourself_you_where_body</th>\n",
       "      <td id=\"T_a33d4_row0_col0\" class=\"data row0 col0\" >0.000</td>\n",
       "      <td id=\"T_a33d4_row0_col1\" class=\"data row0 col1\" >0.000</td>\n",
       "      <td id=\"T_a33d4_row0_col2\" class=\"data row0 col2\" >0.000</td>\n",
       "      <td id=\"T_a33d4_row0_col3\" class=\"data row0 col3\" >0.000</td>\n",
       "      <td id=\"T_a33d4_row0_col4\" class=\"data row0 col4\" >0.000</td>\n",
       "      <td id=\"T_a33d4_row0_col5\" class=\"data row0 col5\" >0.000</td>\n",
       "      <td id=\"T_a33d4_row0_col6\" class=\"data row0 col6\" >0.000</td>\n",
       "      <td id=\"T_a33d4_row0_col7\" class=\"data row0 col7\" >0.000</td>\n",
       "      <td id=\"T_a33d4_row0_col8\" class=\"data row0 col8\" >0.101</td>\n",
       "      <td id=\"T_a33d4_row0_col9\" class=\"data row0 col9\" >0.101</td>\n",
       "      <td id=\"T_a33d4_row0_col10\" class=\"data row0 col10\" >0.101</td>\n",
       "      <td id=\"T_a33d4_row0_col11\" class=\"data row0 col11\" >0.101</td>\n",
       "      <td id=\"T_a33d4_row0_col12\" class=\"data row0 col12\" >0.000</td>\n",
       "      <td id=\"T_a33d4_row0_col13\" class=\"data row0 col13\" >0.000</td>\n",
       "      <td id=\"T_a33d4_row0_col14\" class=\"data row0 col14\" >0.000</td>\n",
       "      <td id=\"T_a33d4_row0_col15\" class=\"data row0 col15\" >0.000</td>\n",
       "      <td id=\"T_a33d4_row0_col16\" class=\"data row0 col16\" >0.000</td>\n",
       "      <td id=\"T_a33d4_row0_col17\" class=\"data row0 col17\" >0.000</td>\n",
       "      <td id=\"T_a33d4_row0_col18\" class=\"data row0 col18\" >0.000</td>\n",
       "      <td id=\"T_a33d4_row0_col19\" class=\"data row0 col19\" >0.000</td>\n",
       "      <td id=\"T_a33d4_row0_col20\" class=\"data row0 col20\" >0.000</td>\n",
       "      <td id=\"T_a33d4_row0_col21\" class=\"data row0 col21\" >0.000</td>\n",
       "      <td id=\"T_a33d4_row0_col22\" class=\"data row0 col22\" >0.000</td>\n",
       "      <td id=\"T_a33d4_row0_col23\" class=\"data row0 col23\" >0.000</td>\n",
       "    </tr>\n",
       "    <tr>\n",
       "      <th id=\"T_a33d4_level0_row1\" class=\"row_heading level0 row1\" >3_you_feel_back_when</th>\n",
       "      <td id=\"T_a33d4_row1_col0\" class=\"data row1 col0\" >0.000</td>\n",
       "      <td id=\"T_a33d4_row1_col1\" class=\"data row1 col1\" >0.000</td>\n",
       "      <td id=\"T_a33d4_row1_col2\" class=\"data row1 col2\" >0.000</td>\n",
       "      <td id=\"T_a33d4_row1_col3\" class=\"data row1 col3\" >0.000</td>\n",
       "      <td id=\"T_a33d4_row1_col4\" class=\"data row1 col4\" >0.000</td>\n",
       "      <td id=\"T_a33d4_row1_col5\" class=\"data row1 col5\" >0.000</td>\n",
       "      <td id=\"T_a33d4_row1_col6\" class=\"data row1 col6\" >0.000</td>\n",
       "      <td id=\"T_a33d4_row1_col7\" class=\"data row1 col7\" >0.000</td>\n",
       "      <td id=\"T_a33d4_row1_col8\" class=\"data row1 col8\" >0.126</td>\n",
       "      <td id=\"T_a33d4_row1_col9\" class=\"data row1 col9\" >0.126</td>\n",
       "      <td id=\"T_a33d4_row1_col10\" class=\"data row1 col10\" >0.126</td>\n",
       "      <td id=\"T_a33d4_row1_col11\" class=\"data row1 col11\" >0.126</td>\n",
       "      <td id=\"T_a33d4_row1_col12\" class=\"data row1 col12\" >0.000</td>\n",
       "      <td id=\"T_a33d4_row1_col13\" class=\"data row1 col13\" >0.114</td>\n",
       "      <td id=\"T_a33d4_row1_col14\" class=\"data row1 col14\" >0.114</td>\n",
       "      <td id=\"T_a33d4_row1_col15\" class=\"data row1 col15\" >0.114</td>\n",
       "      <td id=\"T_a33d4_row1_col16\" class=\"data row1 col16\" >0.114</td>\n",
       "      <td id=\"T_a33d4_row1_col17\" class=\"data row1 col17\" >0.000</td>\n",
       "      <td id=\"T_a33d4_row1_col18\" class=\"data row1 col18\" >0.000</td>\n",
       "      <td id=\"T_a33d4_row1_col19\" class=\"data row1 col19\" >0.000</td>\n",
       "      <td id=\"T_a33d4_row1_col20\" class=\"data row1 col20\" >0.000</td>\n",
       "      <td id=\"T_a33d4_row1_col21\" class=\"data row1 col21\" >0.000</td>\n",
       "      <td id=\"T_a33d4_row1_col22\" class=\"data row1 col22\" >0.000</td>\n",
       "      <td id=\"T_a33d4_row1_col23\" class=\"data row1 col23\" >0.000</td>\n",
       "    </tr>\n",
       "    <tr>\n",
       "      <th id=\"T_a33d4_level0_row2\" class=\"row_heading level0 row2\" >6_blinking_particles_those_changing</th>\n",
       "      <td id=\"T_a33d4_row2_col0\" class=\"data row2 col0\" >0.000</td>\n",
       "      <td id=\"T_a33d4_row2_col1\" class=\"data row2 col1\" >0.000</td>\n",
       "      <td id=\"T_a33d4_row2_col2\" class=\"data row2 col2\" >0.000</td>\n",
       "      <td id=\"T_a33d4_row2_col3\" class=\"data row2 col3\" >0.000</td>\n",
       "      <td id=\"T_a33d4_row2_col4\" class=\"data row2 col4\" >0.000</td>\n",
       "      <td id=\"T_a33d4_row2_col5\" class=\"data row2 col5\" >0.000</td>\n",
       "      <td id=\"T_a33d4_row2_col6\" class=\"data row2 col6\" >0.000</td>\n",
       "      <td id=\"T_a33d4_row2_col7\" class=\"data row2 col7\" >0.000</td>\n",
       "      <td id=\"T_a33d4_row2_col8\" class=\"data row2 col8\" >0.116</td>\n",
       "      <td id=\"T_a33d4_row2_col9\" class=\"data row2 col9\" >0.116</td>\n",
       "      <td id=\"T_a33d4_row2_col10\" class=\"data row2 col10\" >0.116</td>\n",
       "      <td id=\"T_a33d4_row2_col11\" class=\"data row2 col11\" >0.116</td>\n",
       "      <td id=\"T_a33d4_row2_col12\" class=\"data row2 col12\" >0.000</td>\n",
       "      <td id=\"T_a33d4_row2_col13\" class=\"data row2 col13\" >0.000</td>\n",
       "      <td id=\"T_a33d4_row2_col14\" class=\"data row2 col14\" >0.000</td>\n",
       "      <td id=\"T_a33d4_row2_col15\" class=\"data row2 col15\" >0.000</td>\n",
       "      <td id=\"T_a33d4_row2_col16\" class=\"data row2 col16\" >0.000</td>\n",
       "      <td id=\"T_a33d4_row2_col17\" class=\"data row2 col17\" >0.000</td>\n",
       "      <td id=\"T_a33d4_row2_col18\" class=\"data row2 col18\" >0.000</td>\n",
       "      <td id=\"T_a33d4_row2_col19\" class=\"data row2 col19\" >0.000</td>\n",
       "      <td id=\"T_a33d4_row2_col20\" class=\"data row2 col20\" >0.000</td>\n",
       "      <td id=\"T_a33d4_row2_col21\" class=\"data row2 col21\" >0.000</td>\n",
       "      <td id=\"T_a33d4_row2_col22\" class=\"data row2 col22\" >0.000</td>\n",
       "      <td id=\"T_a33d4_row2_col23\" class=\"data row2 col23\" >0.000</td>\n",
       "    </tr>\n",
       "    <tr>\n",
       "      <th id=\"T_a33d4_level0_row3\" class=\"row_heading level0 row3\" >7_delay_time_without_was</th>\n",
       "      <td id=\"T_a33d4_row3_col0\" class=\"data row3 col0\" >0.210</td>\n",
       "      <td id=\"T_a33d4_row3_col1\" class=\"data row3 col1\" >0.335</td>\n",
       "      <td id=\"T_a33d4_row3_col2\" class=\"data row3 col2\" >0.467</td>\n",
       "      <td id=\"T_a33d4_row3_col3\" class=\"data row3 col3\" >0.597</td>\n",
       "      <td id=\"T_a33d4_row3_col4\" class=\"data row3 col4\" >0.387</td>\n",
       "      <td id=\"T_a33d4_row3_col5\" class=\"data row3 col5\" >0.262</td>\n",
       "      <td id=\"T_a33d4_row3_col6\" class=\"data row3 col6\" >0.130</td>\n",
       "      <td id=\"T_a33d4_row3_col7\" class=\"data row3 col7\" >0.000</td>\n",
       "      <td id=\"T_a33d4_row3_col8\" class=\"data row3 col8\" >0.119</td>\n",
       "      <td id=\"T_a33d4_row3_col9\" class=\"data row3 col9\" >0.119</td>\n",
       "      <td id=\"T_a33d4_row3_col10\" class=\"data row3 col10\" >0.119</td>\n",
       "      <td id=\"T_a33d4_row3_col11\" class=\"data row3 col11\" >0.119</td>\n",
       "      <td id=\"T_a33d4_row3_col12\" class=\"data row3 col12\" >0.000</td>\n",
       "      <td id=\"T_a33d4_row3_col13\" class=\"data row3 col13\" >0.000</td>\n",
       "      <td id=\"T_a33d4_row3_col14\" class=\"data row3 col14\" >0.000</td>\n",
       "      <td id=\"T_a33d4_row3_col15\" class=\"data row3 col15\" >0.000</td>\n",
       "      <td id=\"T_a33d4_row3_col16\" class=\"data row3 col16\" >0.000</td>\n",
       "      <td id=\"T_a33d4_row3_col17\" class=\"data row3 col17\" >0.000</td>\n",
       "      <td id=\"T_a33d4_row3_col18\" class=\"data row3 col18\" >0.000</td>\n",
       "      <td id=\"T_a33d4_row3_col19\" class=\"data row3 col19\" >0.000</td>\n",
       "      <td id=\"T_a33d4_row3_col20\" class=\"data row3 col20\" >0.000</td>\n",
       "      <td id=\"T_a33d4_row3_col21\" class=\"data row3 col21\" >0.000</td>\n",
       "      <td id=\"T_a33d4_row3_col22\" class=\"data row3 col22\" >0.000</td>\n",
       "      <td id=\"T_a33d4_row3_col23\" class=\"data row3 col23\" >0.000</td>\n",
       "    </tr>\n",
       "    <tr>\n",
       "      <th id=\"T_a33d4_level0_row4\" class=\"row_heading level0 row4\" >8_focus_my_like_on</th>\n",
       "      <td id=\"T_a33d4_row4_col0\" class=\"data row4 col0\" >0.135</td>\n",
       "      <td id=\"T_a33d4_row4_col1\" class=\"data row4 col1\" >0.135</td>\n",
       "      <td id=\"T_a33d4_row4_col2\" class=\"data row4 col2\" >0.135</td>\n",
       "      <td id=\"T_a33d4_row4_col3\" class=\"data row4 col3\" >0.135</td>\n",
       "      <td id=\"T_a33d4_row4_col4\" class=\"data row4 col4\" >0.000</td>\n",
       "      <td id=\"T_a33d4_row4_col5\" class=\"data row4 col5\" >0.000</td>\n",
       "      <td id=\"T_a33d4_row4_col6\" class=\"data row4 col6\" >0.000</td>\n",
       "      <td id=\"T_a33d4_row4_col7\" class=\"data row4 col7\" >0.000</td>\n",
       "      <td id=\"T_a33d4_row4_col8\" class=\"data row4 col8\" >0.152</td>\n",
       "      <td id=\"T_a33d4_row4_col9\" class=\"data row4 col9\" >0.152</td>\n",
       "      <td id=\"T_a33d4_row4_col10\" class=\"data row4 col10\" >0.152</td>\n",
       "      <td id=\"T_a33d4_row4_col11\" class=\"data row4 col11\" >0.152</td>\n",
       "      <td id=\"T_a33d4_row4_col12\" class=\"data row4 col12\" >0.000</td>\n",
       "      <td id=\"T_a33d4_row4_col13\" class=\"data row4 col13\" >0.146</td>\n",
       "      <td id=\"T_a33d4_row4_col14\" class=\"data row4 col14\" >0.303</td>\n",
       "      <td id=\"T_a33d4_row4_col15\" class=\"data row4 col15\" >0.414</td>\n",
       "      <td id=\"T_a33d4_row4_col16\" class=\"data row4 col16\" >0.517</td>\n",
       "      <td id=\"T_a33d4_row4_col17\" class=\"data row4 col17\" >0.482</td>\n",
       "      <td id=\"T_a33d4_row4_col18\" class=\"data row4 col18\" >0.325</td>\n",
       "      <td id=\"T_a33d4_row4_col19\" class=\"data row4 col19\" >0.214</td>\n",
       "      <td id=\"T_a33d4_row4_col20\" class=\"data row4 col20\" >0.111</td>\n",
       "      <td id=\"T_a33d4_row4_col21\" class=\"data row4 col21\" >0.000</td>\n",
       "      <td id=\"T_a33d4_row4_col22\" class=\"data row4 col22\" >0.000</td>\n",
       "      <td id=\"T_a33d4_row4_col23\" class=\"data row4 col23\" >0.000</td>\n",
       "    </tr>\n",
       "    <tr>\n",
       "      <th id=\"T_a33d4_level0_row5\" class=\"row_heading level0 row5\" >10_meditation_how_did_the</th>\n",
       "      <td id=\"T_a33d4_row5_col0\" class=\"data row5 col0\" >0.128</td>\n",
       "      <td id=\"T_a33d4_row5_col1\" class=\"data row5 col1\" >0.128</td>\n",
       "      <td id=\"T_a33d4_row5_col2\" class=\"data row5 col2\" >0.128</td>\n",
       "      <td id=\"T_a33d4_row5_col3\" class=\"data row5 col3\" >0.128</td>\n",
       "      <td id=\"T_a33d4_row5_col4\" class=\"data row5 col4\" >0.000</td>\n",
       "      <td id=\"T_a33d4_row5_col5\" class=\"data row5 col5\" >0.116</td>\n",
       "      <td id=\"T_a33d4_row5_col6\" class=\"data row5 col6\" >0.226</td>\n",
       "      <td id=\"T_a33d4_row5_col7\" class=\"data row5 col7\" >0.334</td>\n",
       "      <td id=\"T_a33d4_row5_col8\" class=\"data row5 col8\" >0.466</td>\n",
       "      <td id=\"T_a33d4_row5_col9\" class=\"data row5 col9\" >0.351</td>\n",
       "      <td id=\"T_a33d4_row5_col10\" class=\"data row5 col10\" >0.241</td>\n",
       "      <td id=\"T_a33d4_row5_col11\" class=\"data row5 col11\" >0.132</td>\n",
       "      <td id=\"T_a33d4_row5_col12\" class=\"data row5 col12\" >0.000</td>\n",
       "      <td id=\"T_a33d4_row5_col13\" class=\"data row5 col13\" >0.000</td>\n",
       "      <td id=\"T_a33d4_row5_col14\" class=\"data row5 col14\" >0.000</td>\n",
       "      <td id=\"T_a33d4_row5_col15\" class=\"data row5 col15\" >0.000</td>\n",
       "      <td id=\"T_a33d4_row5_col16\" class=\"data row5 col16\" >0.000</td>\n",
       "      <td id=\"T_a33d4_row5_col17\" class=\"data row5 col17\" >0.000</td>\n",
       "      <td id=\"T_a33d4_row5_col18\" class=\"data row5 col18\" >0.000</td>\n",
       "      <td id=\"T_a33d4_row5_col19\" class=\"data row5 col19\" >0.000</td>\n",
       "      <td id=\"T_a33d4_row5_col20\" class=\"data row5 col20\" >0.000</td>\n",
       "      <td id=\"T_a33d4_row5_col21\" class=\"data row5 col21\" >0.000</td>\n",
       "      <td id=\"T_a33d4_row5_col22\" class=\"data row5 col22\" >0.000</td>\n",
       "      <td id=\"T_a33d4_row5_col23\" class=\"data row5 col23\" >0.000</td>\n",
       "    </tr>\n",
       "    <tr>\n",
       "      <th id=\"T_a33d4_level0_row6\" class=\"row_heading level0 row6\" >12_forest_the_in_very</th>\n",
       "      <td id=\"T_a33d4_row6_col0\" class=\"data row6 col0\" >0.000</td>\n",
       "      <td id=\"T_a33d4_row6_col1\" class=\"data row6 col1\" >0.000</td>\n",
       "      <td id=\"T_a33d4_row6_col2\" class=\"data row6 col2\" >0.000</td>\n",
       "      <td id=\"T_a33d4_row6_col3\" class=\"data row6 col3\" >0.000</td>\n",
       "      <td id=\"T_a33d4_row6_col4\" class=\"data row6 col4\" >0.000</td>\n",
       "      <td id=\"T_a33d4_row6_col5\" class=\"data row6 col5\" >0.102</td>\n",
       "      <td id=\"T_a33d4_row6_col6\" class=\"data row6 col6\" >0.102</td>\n",
       "      <td id=\"T_a33d4_row6_col7\" class=\"data row6 col7\" >0.102</td>\n",
       "      <td id=\"T_a33d4_row6_col8\" class=\"data row6 col8\" >0.225</td>\n",
       "      <td id=\"T_a33d4_row6_col9\" class=\"data row6 col9\" >0.123</td>\n",
       "      <td id=\"T_a33d4_row6_col10\" class=\"data row6 col10\" >0.123</td>\n",
       "      <td id=\"T_a33d4_row6_col11\" class=\"data row6 col11\" >0.123</td>\n",
       "      <td id=\"T_a33d4_row6_col12\" class=\"data row6 col12\" >0.000</td>\n",
       "      <td id=\"T_a33d4_row6_col13\" class=\"data row6 col13\" >0.000</td>\n",
       "      <td id=\"T_a33d4_row6_col14\" class=\"data row6 col14\" >0.000</td>\n",
       "      <td id=\"T_a33d4_row6_col15\" class=\"data row6 col15\" >0.000</td>\n",
       "      <td id=\"T_a33d4_row6_col16\" class=\"data row6 col16\" >0.000</td>\n",
       "      <td id=\"T_a33d4_row6_col17\" class=\"data row6 col17\" >0.000</td>\n",
       "      <td id=\"T_a33d4_row6_col18\" class=\"data row6 col18\" >0.000</td>\n",
       "      <td id=\"T_a33d4_row6_col19\" class=\"data row6 col19\" >0.000</td>\n",
       "      <td id=\"T_a33d4_row6_col20\" class=\"data row6 col20\" >0.000</td>\n",
       "      <td id=\"T_a33d4_row6_col21\" class=\"data row6 col21\" >0.000</td>\n",
       "      <td id=\"T_a33d4_row6_col22\" class=\"data row6 col22\" >0.000</td>\n",
       "      <td id=\"T_a33d4_row6_col23\" class=\"data row6 col23\" >0.000</td>\n",
       "    </tr>\n",
       "    <tr>\n",
       "      <th id=\"T_a33d4_level0_row7\" class=\"row_heading level0 row7\" >13_eyes_open_closed_close</th>\n",
       "      <td id=\"T_a33d4_row7_col0\" class=\"data row7 col0\" >0.117</td>\n",
       "      <td id=\"T_a33d4_row7_col1\" class=\"data row7 col1\" >0.117</td>\n",
       "      <td id=\"T_a33d4_row7_col2\" class=\"data row7 col2\" >0.117</td>\n",
       "      <td id=\"T_a33d4_row7_col3\" class=\"data row7 col3\" >0.117</td>\n",
       "      <td id=\"T_a33d4_row7_col4\" class=\"data row7 col4\" >0.000</td>\n",
       "      <td id=\"T_a33d4_row7_col5\" class=\"data row7 col5\" >0.000</td>\n",
       "      <td id=\"T_a33d4_row7_col6\" class=\"data row7 col6\" >0.000</td>\n",
       "      <td id=\"T_a33d4_row7_col7\" class=\"data row7 col7\" >0.000</td>\n",
       "      <td id=\"T_a33d4_row7_col8\" class=\"data row7 col8\" >0.000</td>\n",
       "      <td id=\"T_a33d4_row7_col9\" class=\"data row7 col9\" >0.000</td>\n",
       "      <td id=\"T_a33d4_row7_col10\" class=\"data row7 col10\" >0.000</td>\n",
       "      <td id=\"T_a33d4_row7_col11\" class=\"data row7 col11\" >0.000</td>\n",
       "      <td id=\"T_a33d4_row7_col12\" class=\"data row7 col12\" >0.000</td>\n",
       "      <td id=\"T_a33d4_row7_col13\" class=\"data row7 col13\" >0.000</td>\n",
       "      <td id=\"T_a33d4_row7_col14\" class=\"data row7 col14\" >0.000</td>\n",
       "      <td id=\"T_a33d4_row7_col15\" class=\"data row7 col15\" >0.000</td>\n",
       "      <td id=\"T_a33d4_row7_col16\" class=\"data row7 col16\" >0.000</td>\n",
       "      <td id=\"T_a33d4_row7_col17\" class=\"data row7 col17\" >0.000</td>\n",
       "      <td id=\"T_a33d4_row7_col18\" class=\"data row7 col18\" >0.000</td>\n",
       "      <td id=\"T_a33d4_row7_col19\" class=\"data row7 col19\" >0.000</td>\n",
       "      <td id=\"T_a33d4_row7_col20\" class=\"data row7 col20\" >0.000</td>\n",
       "      <td id=\"T_a33d4_row7_col21\" class=\"data row7 col21\" >0.000</td>\n",
       "      <td id=\"T_a33d4_row7_col22\" class=\"data row7 col22\" >0.000</td>\n",
       "      <td id=\"T_a33d4_row7_col23\" class=\"data row7 col23\" >0.000</td>\n",
       "    </tr>\n",
       "    <tr>\n",
       "      <th id=\"T_a33d4_level0_row8\" class=\"row_heading level0 row8\" >14_how_experience_was_session</th>\n",
       "      <td id=\"T_a33d4_row8_col0\" class=\"data row8 col0\" >0.118</td>\n",
       "      <td id=\"T_a33d4_row8_col1\" class=\"data row8 col1\" >0.118</td>\n",
       "      <td id=\"T_a33d4_row8_col2\" class=\"data row8 col2\" >0.118</td>\n",
       "      <td id=\"T_a33d4_row8_col3\" class=\"data row8 col3\" >0.118</td>\n",
       "      <td id=\"T_a33d4_row8_col4\" class=\"data row8 col4\" >0.000</td>\n",
       "      <td id=\"T_a33d4_row8_col5\" class=\"data row8 col5\" >0.000</td>\n",
       "      <td id=\"T_a33d4_row8_col6\" class=\"data row8 col6\" >0.000</td>\n",
       "      <td id=\"T_a33d4_row8_col7\" class=\"data row8 col7\" >0.000</td>\n",
       "      <td id=\"T_a33d4_row8_col8\" class=\"data row8 col8\" >0.166</td>\n",
       "      <td id=\"T_a33d4_row8_col9\" class=\"data row8 col9\" >0.166</td>\n",
       "      <td id=\"T_a33d4_row8_col10\" class=\"data row8 col10\" >0.166</td>\n",
       "      <td id=\"T_a33d4_row8_col11\" class=\"data row8 col11\" >0.166</td>\n",
       "      <td id=\"T_a33d4_row8_col12\" class=\"data row8 col12\" >0.000</td>\n",
       "      <td id=\"T_a33d4_row8_col13\" class=\"data row8 col13\" >0.000</td>\n",
       "      <td id=\"T_a33d4_row8_col14\" class=\"data row8 col14\" >0.000</td>\n",
       "      <td id=\"T_a33d4_row8_col15\" class=\"data row8 col15\" >0.000</td>\n",
       "      <td id=\"T_a33d4_row8_col16\" class=\"data row8 col16\" >0.000</td>\n",
       "      <td id=\"T_a33d4_row8_col17\" class=\"data row8 col17\" >0.000</td>\n",
       "      <td id=\"T_a33d4_row8_col18\" class=\"data row8 col18\" >0.000</td>\n",
       "      <td id=\"T_a33d4_row8_col19\" class=\"data row8 col19\" >0.000</td>\n",
       "      <td id=\"T_a33d4_row8_col20\" class=\"data row8 col20\" >0.000</td>\n",
       "      <td id=\"T_a33d4_row8_col21\" class=\"data row8 col21\" >0.000</td>\n",
       "      <td id=\"T_a33d4_row8_col22\" class=\"data row8 col22\" >0.000</td>\n",
       "      <td id=\"T_a33d4_row8_col23\" class=\"data row8 col23\" >0.000</td>\n",
       "    </tr>\n",
       "    <tr>\n",
       "      <th id=\"T_a33d4_level0_row9\" class=\"row_heading level0 row9\" >16_easier_difficult_do_to</th>\n",
       "      <td id=\"T_a33d4_row9_col0\" class=\"data row9 col0\" >0.000</td>\n",
       "      <td id=\"T_a33d4_row9_col1\" class=\"data row9 col1\" >0.000</td>\n",
       "      <td id=\"T_a33d4_row9_col2\" class=\"data row9 col2\" >0.000</td>\n",
       "      <td id=\"T_a33d4_row9_col3\" class=\"data row9 col3\" >0.000</td>\n",
       "      <td id=\"T_a33d4_row9_col4\" class=\"data row9 col4\" >0.000</td>\n",
       "      <td id=\"T_a33d4_row9_col5\" class=\"data row9 col5\" >0.000</td>\n",
       "      <td id=\"T_a33d4_row9_col6\" class=\"data row9 col6\" >0.000</td>\n",
       "      <td id=\"T_a33d4_row9_col7\" class=\"data row9 col7\" >0.000</td>\n",
       "      <td id=\"T_a33d4_row9_col8\" class=\"data row9 col8\" >0.147</td>\n",
       "      <td id=\"T_a33d4_row9_col9\" class=\"data row9 col9\" >0.147</td>\n",
       "      <td id=\"T_a33d4_row9_col10\" class=\"data row9 col10\" >0.147</td>\n",
       "      <td id=\"T_a33d4_row9_col11\" class=\"data row9 col11\" >0.147</td>\n",
       "      <td id=\"T_a33d4_row9_col12\" class=\"data row9 col12\" >0.000</td>\n",
       "      <td id=\"T_a33d4_row9_col13\" class=\"data row9 col13\" >0.000</td>\n",
       "      <td id=\"T_a33d4_row9_col14\" class=\"data row9 col14\" >0.000</td>\n",
       "      <td id=\"T_a33d4_row9_col15\" class=\"data row9 col15\" >0.000</td>\n",
       "      <td id=\"T_a33d4_row9_col16\" class=\"data row9 col16\" >0.000</td>\n",
       "      <td id=\"T_a33d4_row9_col17\" class=\"data row9 col17\" >0.000</td>\n",
       "      <td id=\"T_a33d4_row9_col18\" class=\"data row9 col18\" >0.000</td>\n",
       "      <td id=\"T_a33d4_row9_col19\" class=\"data row9 col19\" >0.000</td>\n",
       "      <td id=\"T_a33d4_row9_col20\" class=\"data row9 col20\" >0.000</td>\n",
       "      <td id=\"T_a33d4_row9_col21\" class=\"data row9 col21\" >0.000</td>\n",
       "      <td id=\"T_a33d4_row9_col22\" class=\"data row9 col22\" >0.000</td>\n",
       "      <td id=\"T_a33d4_row9_col23\" class=\"data row9 col23\" >0.000</td>\n",
       "    </tr>\n",
       "    <tr>\n",
       "      <th id=\"T_a33d4_level0_row10\" class=\"row_heading level0 row10\" >17_touch_back_the_touched</th>\n",
       "      <td id=\"T_a33d4_row10_col0\" class=\"data row10 col0\" >0.000</td>\n",
       "      <td id=\"T_a33d4_row10_col1\" class=\"data row10 col1\" >0.000</td>\n",
       "      <td id=\"T_a33d4_row10_col2\" class=\"data row10 col2\" >0.000</td>\n",
       "      <td id=\"T_a33d4_row10_col3\" class=\"data row10 col3\" >0.000</td>\n",
       "      <td id=\"T_a33d4_row10_col4\" class=\"data row10 col4\" >0.000</td>\n",
       "      <td id=\"T_a33d4_row10_col5\" class=\"data row10 col5\" >0.102</td>\n",
       "      <td id=\"T_a33d4_row10_col6\" class=\"data row10 col6\" >0.102</td>\n",
       "      <td id=\"T_a33d4_row10_col7\" class=\"data row10 col7\" >0.102</td>\n",
       "      <td id=\"T_a33d4_row10_col8\" class=\"data row10 col8\" >0.102</td>\n",
       "      <td id=\"T_a33d4_row10_col9\" class=\"data row10 col9\" >0.000</td>\n",
       "      <td id=\"T_a33d4_row10_col10\" class=\"data row10 col10\" >0.000</td>\n",
       "      <td id=\"T_a33d4_row10_col11\" class=\"data row10 col11\" >0.000</td>\n",
       "      <td id=\"T_a33d4_row10_col12\" class=\"data row10 col12\" >0.000</td>\n",
       "      <td id=\"T_a33d4_row10_col13\" class=\"data row10 col13\" >0.000</td>\n",
       "      <td id=\"T_a33d4_row10_col14\" class=\"data row10 col14\" >0.000</td>\n",
       "      <td id=\"T_a33d4_row10_col15\" class=\"data row10 col15\" >0.000</td>\n",
       "      <td id=\"T_a33d4_row10_col16\" class=\"data row10 col16\" >0.000</td>\n",
       "      <td id=\"T_a33d4_row10_col17\" class=\"data row10 col17\" >0.000</td>\n",
       "      <td id=\"T_a33d4_row10_col18\" class=\"data row10 col18\" >0.000</td>\n",
       "      <td id=\"T_a33d4_row10_col19\" class=\"data row10 col19\" >0.000</td>\n",
       "      <td id=\"T_a33d4_row10_col20\" class=\"data row10 col20\" >0.000</td>\n",
       "      <td id=\"T_a33d4_row10_col21\" class=\"data row10 col21\" >0.000</td>\n",
       "      <td id=\"T_a33d4_row10_col22\" class=\"data row10 col22\" >0.000</td>\n",
       "      <td id=\"T_a33d4_row10_col23\" class=\"data row10 col23\" >0.000</td>\n",
       "    </tr>\n",
       "    <tr>\n",
       "      <th id=\"T_a33d4_level0_row11\" class=\"row_heading level0 row11\" >19_bodies_three_third_two</th>\n",
       "      <td id=\"T_a33d4_row11_col0\" class=\"data row11 col0\" >0.256</td>\n",
       "      <td id=\"T_a33d4_row11_col1\" class=\"data row11 col1\" >0.419</td>\n",
       "      <td id=\"T_a33d4_row11_col2\" class=\"data row11 col2\" >0.538</td>\n",
       "      <td id=\"T_a33d4_row11_col3\" class=\"data row11 col3\" >0.651</td>\n",
       "      <td id=\"T_a33d4_row11_col4\" class=\"data row11 col4\" >0.395</td>\n",
       "      <td id=\"T_a33d4_row11_col5\" class=\"data row11 col5\" >0.232</td>\n",
       "      <td id=\"T_a33d4_row11_col6\" class=\"data row11 col6\" >0.113</td>\n",
       "      <td id=\"T_a33d4_row11_col7\" class=\"data row11 col7\" >0.126</td>\n",
       "      <td id=\"T_a33d4_row11_col8\" class=\"data row11 col8\" >0.288</td>\n",
       "      <td id=\"T_a33d4_row11_col9\" class=\"data row11 col9\" >0.288</td>\n",
       "      <td id=\"T_a33d4_row11_col10\" class=\"data row11 col10\" >0.288</td>\n",
       "      <td id=\"T_a33d4_row11_col11\" class=\"data row11 col11\" >0.161</td>\n",
       "      <td id=\"T_a33d4_row11_col12\" class=\"data row11 col12\" >0.000</td>\n",
       "      <td id=\"T_a33d4_row11_col13\" class=\"data row11 col13\" >0.110</td>\n",
       "      <td id=\"T_a33d4_row11_col14\" class=\"data row11 col14\" >0.225</td>\n",
       "      <td id=\"T_a33d4_row11_col15\" class=\"data row11 col15\" >0.338</td>\n",
       "      <td id=\"T_a33d4_row11_col16\" class=\"data row11 col16\" >0.500</td>\n",
       "      <td id=\"T_a33d4_row11_col17\" class=\"data row11 col17\" >0.597</td>\n",
       "      <td id=\"T_a33d4_row11_col18\" class=\"data row11 col18\" >0.704</td>\n",
       "      <td id=\"T_a33d4_row11_col19\" class=\"data row11 col19\" >1.032</td>\n",
       "      <td id=\"T_a33d4_row11_col20\" class=\"data row11 col20\" >1.457</td>\n",
       "      <td id=\"T_a33d4_row11_col21\" class=\"data row11 col21\" >1.250</td>\n",
       "      <td id=\"T_a33d4_row11_col22\" class=\"data row11 col22\" >1.028</td>\n",
       "      <td id=\"T_a33d4_row11_col23\" class=\"data row11 col23\" >0.587</td>\n",
       "    </tr>\n",
       "    <tr>\n",
       "      <th id=\"T_a33d4_level0_row12\" class=\"row_heading level0 row12\" >22_meditation_only_competent_right</th>\n",
       "      <td id=\"T_a33d4_row12_col0\" class=\"data row12 col0\" >0.000</td>\n",
       "      <td id=\"T_a33d4_row12_col1\" class=\"data row12 col1\" >0.000</td>\n",
       "      <td id=\"T_a33d4_row12_col2\" class=\"data row12 col2\" >0.000</td>\n",
       "      <td id=\"T_a33d4_row12_col3\" class=\"data row12 col3\" >0.000</td>\n",
       "      <td id=\"T_a33d4_row12_col4\" class=\"data row12 col4\" >0.000</td>\n",
       "      <td id=\"T_a33d4_row12_col5\" class=\"data row12 col5\" >0.145</td>\n",
       "      <td id=\"T_a33d4_row12_col6\" class=\"data row12 col6\" >0.278</td>\n",
       "      <td id=\"T_a33d4_row12_col7\" class=\"data row12 col7\" >0.398</td>\n",
       "      <td id=\"T_a33d4_row12_col8\" class=\"data row12 col8\" >0.526</td>\n",
       "      <td id=\"T_a33d4_row12_col9\" class=\"data row12 col9\" >0.380</td>\n",
       "      <td id=\"T_a33d4_row12_col10\" class=\"data row12 col10\" >0.248</td>\n",
       "      <td id=\"T_a33d4_row12_col11\" class=\"data row12 col11\" >0.128</td>\n",
       "      <td id=\"T_a33d4_row12_col12\" class=\"data row12 col12\" >0.000</td>\n",
       "      <td id=\"T_a33d4_row12_col13\" class=\"data row12 col13\" >0.000</td>\n",
       "      <td id=\"T_a33d4_row12_col14\" class=\"data row12 col14\" >0.000</td>\n",
       "      <td id=\"T_a33d4_row12_col15\" class=\"data row12 col15\" >0.000</td>\n",
       "      <td id=\"T_a33d4_row12_col16\" class=\"data row12 col16\" >0.000</td>\n",
       "      <td id=\"T_a33d4_row12_col17\" class=\"data row12 col17\" >0.000</td>\n",
       "      <td id=\"T_a33d4_row12_col18\" class=\"data row12 col18\" >0.000</td>\n",
       "      <td id=\"T_a33d4_row12_col19\" class=\"data row12 col19\" >0.000</td>\n",
       "      <td id=\"T_a33d4_row12_col20\" class=\"data row12 col20\" >0.000</td>\n",
       "      <td id=\"T_a33d4_row12_col21\" class=\"data row12 col21\" >0.000</td>\n",
       "      <td id=\"T_a33d4_row12_col22\" class=\"data row12 col22\" >0.000</td>\n",
       "      <td id=\"T_a33d4_row12_col23\" class=\"data row12 col23\" >0.000</td>\n",
       "    </tr>\n",
       "    <tr>\n",
       "      <th id=\"T_a33d4_level0_row13\" class=\"row_heading level0 row13\" >23_vr_virtual_we_this</th>\n",
       "      <td id=\"T_a33d4_row13_col0\" class=\"data row13 col0\" >0.130</td>\n",
       "      <td id=\"T_a33d4_row13_col1\" class=\"data row13 col1\" >0.130</td>\n",
       "      <td id=\"T_a33d4_row13_col2\" class=\"data row13 col2\" >0.130</td>\n",
       "      <td id=\"T_a33d4_row13_col3\" class=\"data row13 col3\" >0.130</td>\n",
       "      <td id=\"T_a33d4_row13_col4\" class=\"data row13 col4\" >0.000</td>\n",
       "      <td id=\"T_a33d4_row13_col5\" class=\"data row13 col5\" >0.000</td>\n",
       "      <td id=\"T_a33d4_row13_col6\" class=\"data row13 col6\" >0.000</td>\n",
       "      <td id=\"T_a33d4_row13_col7\" class=\"data row13 col7\" >0.000</td>\n",
       "      <td id=\"T_a33d4_row13_col8\" class=\"data row13 col8\" >0.000</td>\n",
       "      <td id=\"T_a33d4_row13_col9\" class=\"data row13 col9\" >0.000</td>\n",
       "      <td id=\"T_a33d4_row13_col10\" class=\"data row13 col10\" >0.000</td>\n",
       "      <td id=\"T_a33d4_row13_col11\" class=\"data row13 col11\" >0.000</td>\n",
       "      <td id=\"T_a33d4_row13_col12\" class=\"data row13 col12\" >0.000</td>\n",
       "      <td id=\"T_a33d4_row13_col13\" class=\"data row13 col13\" >0.000</td>\n",
       "      <td id=\"T_a33d4_row13_col14\" class=\"data row13 col14\" >0.000</td>\n",
       "      <td id=\"T_a33d4_row13_col15\" class=\"data row13 col15\" >0.000</td>\n",
       "      <td id=\"T_a33d4_row13_col16\" class=\"data row13 col16\" >0.000</td>\n",
       "      <td id=\"T_a33d4_row13_col17\" class=\"data row13 col17\" >0.000</td>\n",
       "      <td id=\"T_a33d4_row13_col18\" class=\"data row13 col18\" >0.000</td>\n",
       "      <td id=\"T_a33d4_row13_col19\" class=\"data row13 col19\" >0.000</td>\n",
       "      <td id=\"T_a33d4_row13_col20\" class=\"data row13 col20\" >0.000</td>\n",
       "      <td id=\"T_a33d4_row13_col21\" class=\"data row13 col21\" >0.000</td>\n",
       "      <td id=\"T_a33d4_row13_col22\" class=\"data row13 col22\" >0.000</td>\n",
       "      <td id=\"T_a33d4_row13_col23\" class=\"data row13 col23\" >0.000</td>\n",
       "    </tr>\n",
       "    <tr>\n",
       "      <th id=\"T_a33d4_level0_row14\" class=\"row_heading level0 row14\" >24_strange_normal_weird_different</th>\n",
       "      <td id=\"T_a33d4_row14_col0\" class=\"data row14 col0\" >0.210</td>\n",
       "      <td id=\"T_a33d4_row14_col1\" class=\"data row14 col1\" >0.210</td>\n",
       "      <td id=\"T_a33d4_row14_col2\" class=\"data row14 col2\" >0.210</td>\n",
       "      <td id=\"T_a33d4_row14_col3\" class=\"data row14 col3\" >0.210</td>\n",
       "      <td id=\"T_a33d4_row14_col4\" class=\"data row14 col4\" >0.000</td>\n",
       "      <td id=\"T_a33d4_row14_col5\" class=\"data row14 col5\" >0.000</td>\n",
       "      <td id=\"T_a33d4_row14_col6\" class=\"data row14 col6\" >0.000</td>\n",
       "      <td id=\"T_a33d4_row14_col7\" class=\"data row14 col7\" >0.000</td>\n",
       "      <td id=\"T_a33d4_row14_col8\" class=\"data row14 col8\" >0.000</td>\n",
       "      <td id=\"T_a33d4_row14_col9\" class=\"data row14 col9\" >0.000</td>\n",
       "      <td id=\"T_a33d4_row14_col10\" class=\"data row14 col10\" >0.000</td>\n",
       "      <td id=\"T_a33d4_row14_col11\" class=\"data row14 col11\" >0.000</td>\n",
       "      <td id=\"T_a33d4_row14_col12\" class=\"data row14 col12\" >0.000</td>\n",
       "      <td id=\"T_a33d4_row14_col13\" class=\"data row14 col13\" >0.000</td>\n",
       "      <td id=\"T_a33d4_row14_col14\" class=\"data row14 col14\" >0.000</td>\n",
       "      <td id=\"T_a33d4_row14_col15\" class=\"data row14 col15\" >0.000</td>\n",
       "      <td id=\"T_a33d4_row14_col16\" class=\"data row14 col16\" >0.000</td>\n",
       "      <td id=\"T_a33d4_row14_col17\" class=\"data row14 col17\" >0.119</td>\n",
       "      <td id=\"T_a33d4_row14_col18\" class=\"data row14 col18\" >0.240</td>\n",
       "      <td id=\"T_a33d4_row14_col19\" class=\"data row14 col19\" >0.369</td>\n",
       "      <td id=\"T_a33d4_row14_col20\" class=\"data row14 col20\" >0.369</td>\n",
       "      <td id=\"T_a33d4_row14_col21\" class=\"data row14 col21\" >0.250</td>\n",
       "      <td id=\"T_a33d4_row14_col22\" class=\"data row14 col22\" >0.128</td>\n",
       "      <td id=\"T_a33d4_row14_col23\" class=\"data row14 col23\" >0.000</td>\n",
       "    </tr>\n",
       "    <tr>\n",
       "      <th id=\"T_a33d4_level0_row15\" class=\"row_heading level0 row15\" >26_second_part_one_first</th>\n",
       "      <td id=\"T_a33d4_row15_col0\" class=\"data row15 col0\" >0.000</td>\n",
       "      <td id=\"T_a33d4_row15_col1\" class=\"data row15 col1\" >0.000</td>\n",
       "      <td id=\"T_a33d4_row15_col2\" class=\"data row15 col2\" >0.000</td>\n",
       "      <td id=\"T_a33d4_row15_col3\" class=\"data row15 col3\" >0.000</td>\n",
       "      <td id=\"T_a33d4_row15_col4\" class=\"data row15 col4\" >0.000</td>\n",
       "      <td id=\"T_a33d4_row15_col5\" class=\"data row15 col5\" >0.244</td>\n",
       "      <td id=\"T_a33d4_row15_col6\" class=\"data row15 col6\" >0.480</td>\n",
       "      <td id=\"T_a33d4_row15_col7\" class=\"data row15 col7\" >0.705</td>\n",
       "      <td id=\"T_a33d4_row15_col8\" class=\"data row15 col8\" >0.988</td>\n",
       "      <td id=\"T_a33d4_row15_col9\" class=\"data row15 col9\" >0.744</td>\n",
       "      <td id=\"T_a33d4_row15_col10\" class=\"data row15 col10\" >0.508</td>\n",
       "      <td id=\"T_a33d4_row15_col11\" class=\"data row15 col11\" >0.283</td>\n",
       "      <td id=\"T_a33d4_row15_col12\" class=\"data row15 col12\" >0.000</td>\n",
       "      <td id=\"T_a33d4_row15_col13\" class=\"data row15 col13\" >0.000</td>\n",
       "      <td id=\"T_a33d4_row15_col14\" class=\"data row15 col14\" >0.000</td>\n",
       "      <td id=\"T_a33d4_row15_col15\" class=\"data row15 col15\" >0.000</td>\n",
       "      <td id=\"T_a33d4_row15_col16\" class=\"data row15 col16\" >0.000</td>\n",
       "      <td id=\"T_a33d4_row15_col17\" class=\"data row15 col17\" >0.000</td>\n",
       "      <td id=\"T_a33d4_row15_col18\" class=\"data row15 col18\" >0.000</td>\n",
       "      <td id=\"T_a33d4_row15_col19\" class=\"data row15 col19\" >0.000</td>\n",
       "      <td id=\"T_a33d4_row15_col20\" class=\"data row15 col20\" >0.000</td>\n",
       "      <td id=\"T_a33d4_row15_col21\" class=\"data row15 col21\" >0.000</td>\n",
       "      <td id=\"T_a33d4_row15_col22\" class=\"data row15 col22\" >0.000</td>\n",
       "      <td id=\"T_a33d4_row15_col23\" class=\"data row15 col23\" >0.000</td>\n",
       "    </tr>\n",
       "    <tr>\n",
       "      <th id=\"T_a33d4_level0_row16\" class=\"row_heading level0 row16\" >33_platform_train_the_its</th>\n",
       "      <td id=\"T_a33d4_row16_col0\" class=\"data row16 col0\" >0.149</td>\n",
       "      <td id=\"T_a33d4_row16_col1\" class=\"data row16 col1\" >0.149</td>\n",
       "      <td id=\"T_a33d4_row16_col2\" class=\"data row16 col2\" >0.149</td>\n",
       "      <td id=\"T_a33d4_row16_col3\" class=\"data row16 col3\" >0.149</td>\n",
       "      <td id=\"T_a33d4_row16_col4\" class=\"data row16 col4\" >0.000</td>\n",
       "      <td id=\"T_a33d4_row16_col5\" class=\"data row16 col5\" >0.000</td>\n",
       "      <td id=\"T_a33d4_row16_col6\" class=\"data row16 col6\" >0.000</td>\n",
       "      <td id=\"T_a33d4_row16_col7\" class=\"data row16 col7\" >0.000</td>\n",
       "      <td id=\"T_a33d4_row16_col8\" class=\"data row16 col8\" >0.000</td>\n",
       "      <td id=\"T_a33d4_row16_col9\" class=\"data row16 col9\" >0.000</td>\n",
       "      <td id=\"T_a33d4_row16_col10\" class=\"data row16 col10\" >0.000</td>\n",
       "      <td id=\"T_a33d4_row16_col11\" class=\"data row16 col11\" >0.000</td>\n",
       "      <td id=\"T_a33d4_row16_col12\" class=\"data row16 col12\" >0.000</td>\n",
       "      <td id=\"T_a33d4_row16_col13\" class=\"data row16 col13\" >0.128</td>\n",
       "      <td id=\"T_a33d4_row16_col14\" class=\"data row16 col14\" >0.271</td>\n",
       "      <td id=\"T_a33d4_row16_col15\" class=\"data row16 col15\" >0.372</td>\n",
       "      <td id=\"T_a33d4_row16_col16\" class=\"data row16 col16\" >0.372</td>\n",
       "      <td id=\"T_a33d4_row16_col17\" class=\"data row16 col17\" >0.244</td>\n",
       "      <td id=\"T_a33d4_row16_col18\" class=\"data row16 col18\" >0.101</td>\n",
       "      <td id=\"T_a33d4_row16_col19\" class=\"data row16 col19\" >0.000</td>\n",
       "      <td id=\"T_a33d4_row16_col20\" class=\"data row16 col20\" >0.000</td>\n",
       "      <td id=\"T_a33d4_row16_col21\" class=\"data row16 col21\" >0.000</td>\n",
       "      <td id=\"T_a33d4_row16_col22\" class=\"data row16 col22\" >0.000</td>\n",
       "      <td id=\"T_a33d4_row16_col23\" class=\"data row16 col23\" >0.000</td>\n",
       "    </tr>\n",
       "  </tbody>\n",
       "</table>\n"
      ],
      "text/plain": [
       "<pandas.io.formats.style.Styler at 0x17c835268f0>"
      ]
     },
     "execution_count": 30,
     "metadata": {},
     "output_type": "execute_result"
    }
   ],
   "source": [
    "# Calculate the topic distributions on a token-level\n",
    "topic_distr, topic_token_distr = topic_model.approximate_distribution(docs, calculate_tokens=True)\n",
    "\n",
    "# Visualize the token-level distributions\n",
    "df = topic_model.visualize_approximate_distribution(docs[doc_id], topic_token_distr[doc_id])\n",
    "df\n"
   ]
  },
  {
   "cell_type": "code",
   "execution_count": null,
   "metadata": {},
   "outputs": [],
   "source": []
  }
 ],
 "metadata": {
  "kernelspec": {
   "display_name": "topic",
   "language": "python",
   "name": "python3"
  },
  "language_info": {
   "codemirror_mode": {
    "name": "ipython",
    "version": 3
   },
   "file_extension": ".py",
   "mimetype": "text/x-python",
   "name": "python",
   "nbconvert_exporter": "python",
   "pygments_lexer": "ipython3",
   "version": "3.10.15"
  }
 },
 "nbformat": 4,
 "nbformat_minor": 2
}
