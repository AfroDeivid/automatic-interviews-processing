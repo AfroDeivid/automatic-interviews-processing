{
 "cells": [
  {
   "cell_type": "markdown",
   "metadata": {},
   "source": [
    "# Word (.docx) to CSV"
   ]
  },
  {
   "cell_type": "code",
   "execution_count": 6,
   "metadata": {},
   "outputs": [],
   "source": [
    "import csv\n",
    "import docx # pip install python-docx\n",
    "import unicodedata"
   ]
  },
  {
   "cell_type": "code",
   "execution_count": 32,
   "metadata": {},
   "outputs": [],
   "source": [
    "# Function to read the Word document and extract dialogue\n",
    "def extract_dialogue_from_docx(docx_file):\n",
    "    # Load the Word document\n",
    "    doc = docx.Document(docx_file)\n",
    "    dialogues = []\n",
    "    current_text = []\n",
    "    \n",
    "    # Loop through each paragraph in the document\n",
    "    for paragraph in doc.paragraphs:\n",
    "        text = unicodedata.normalize('NFKD', paragraph.text.strip())\n",
    "\n",
    "        # Only look after the separator after encountering an empty line\n",
    "        # Allow to handle with the combination of a line break and separator within the text at the same time !\n",
    "        if not text:\n",
    "            # If there's accumulated text, check for the separator and save the dialogue\n",
    "            if current_text:\n",
    "                combined_text = ' '.join(current_text).strip()\n",
    "                if \" : \" in combined_text:\n",
    "                    # Only look at the first separator, to avoid separator within the text\n",
    "                    parts = combined_text.split(\" : \", 1)\n",
    "                    if len(parts) == 2:\n",
    "                        speaker = parts[0].strip()\n",
    "                        dialogue_text = parts[1].strip()\n",
    "                        dialogues.append({\"Speaker\": speaker, \"Text\": dialogue_text})\n",
    "                current_text = []\n",
    "            continue\n",
    "\n",
    "        # Accumulate text for the current speaker\n",
    "        current_text.append(text)\n",
    "\n",
    "    # Add the last accumulated dialogue\n",
    "    if current_text:\n",
    "        combined_text = ' '.join(current_text).strip()\n",
    "        if \" : \" in combined_text:\n",
    "            parts = combined_text.split(\" : \", 1)\n",
    "            if len(parts) == 2:\n",
    "                speaker = parts[0].strip()\n",
    "                dialogue_text = parts[1].strip()\n",
    "                dialogues.append({\"Speaker\": speaker, \"Text\": dialogue_text})\n",
    "\n",
    "    return dialogues\n",
    "\n",
    "# Function to save the extracted dialogue to a CSV file\n",
    "def save_to_csv(data, output_file):\n",
    "    with open(output_file, mode='w', newline='', encoding='utf-8') as file:\n",
    "        writer = csv.DictWriter(file, fieldnames=[\"Speaker\", \"Text\"])\n",
    "        writer.writeheader()\n",
    "        for row in data:\n",
    "            writer.writerow(row)"
   ]
  },
  {
   "cell_type": "code",
   "execution_count": 33,
   "metadata": {},
   "outputs": [],
   "source": [
    "# Provide the path to your Word file and the desired CSV output file\n",
    "word_file = '../../data/text_julian/script_interview_clinique_1.docx'\n",
    "csv_file = 'output-interview.csv'\n",
    "\n",
    "# Extract dialogues from the Word file\n",
    "dialogues = extract_dialogue_from_docx(word_file)\n",
    "\n",
    "# Save dialogues to the CSV file\n",
    "save_to_csv(dialogues, csv_file)"
   ]
  }
 ],
 "metadata": {
  "kernelspec": {
   "display_name": "text",
   "language": "python",
   "name": "python3"
  },
  "language_info": {
   "codemirror_mode": {
    "name": "ipython",
    "version": 3
   },
   "file_extension": ".py",
   "mimetype": "text/x-python",
   "name": "python",
   "nbconvert_exporter": "python",
   "pygments_lexer": "ipython3",
   "version": "3.10.15"
  }
 },
 "nbformat": 4,
 "nbformat_minor": 2
}
