{
 "cells": [
  {
   "cell_type": "markdown",
   "metadata": {},
   "source": [
    "# Seamless"
   ]
  },
  {
   "cell_type": "code",
   "execution_count": 12,
   "metadata": {},
   "outputs": [],
   "source": [
    "import csv\n",
    "import os\n",
    "from tqdm import tqdm\n",
    "from transformers import SeamlessM4Tv2ForTextToText, AutoProcessor"
   ]
  },
  {
   "cell_type": "code",
   "execution_count": 13,
   "metadata": {},
   "outputs": [
    {
     "name": "stdout",
     "output_type": "stream",
     "text": [
      "True\n",
      "1\n",
      "NVIDIA GeForce RTX 2060\n"
     ]
    }
   ],
   "source": [
    "import torch\n",
    "print(torch.cuda.is_available())\n",
    "print(torch.cuda.device_count())\n",
    "print(torch.cuda.get_device_name(0) if torch.cuda.is_available() else \"No GPU found\")"
   ]
  },
  {
   "cell_type": "code",
   "execution_count": 14,
   "metadata": {},
   "outputs": [
    {
     "name": "stderr",
     "output_type": "stream",
     "text": [
      "Loading checkpoint shards: 100%|██████████| 2/2 [00:00<00:00,  2.18it/s]\n"
     ]
    }
   ],
   "source": [
    "model = SeamlessM4Tv2ForTextToText.from_pretrained(\"facebook/seamless-m4t-v2-large\")\n",
    "processor = AutoProcessor.from_pretrained(\"facebook/seamless-m4t-v2-large\")\n",
    "\n",
    "if torch.cuda.is_available():\n",
    "    model = model.to(\"cuda\")"
   ]
  },
  {
   "cell_type": "code",
   "execution_count": 15,
   "metadata": {},
   "outputs": [],
   "source": [
    "def translation(source_lang, target_lang, text, cuda = False):\n",
    "\n",
    "    if cuda:\n",
    "        text_inputs = processor(text, return_tensors=\"pt\", src_lang=source_lang).to(\"cuda\")\n",
    "    else:\n",
    "        text_inputs = processor(text, return_tensors=\"pt\", src_lang=source_lang)\n",
    "        \n",
    "    output_tokens = model.generate(**text_inputs, tgt_lang=target_lang)\n",
    "    translated_text = processor.decode(output_tokens[0], skip_special_tokens=True)\n",
    "\n",
    "    return translated_text"
   ]
  },
  {
   "cell_type": "markdown",
   "metadata": {},
   "source": [
    "### Translation CSV"
   ]
  },
  {
   "cell_type": "code",
   "execution_count": 16,
   "metadata": {},
   "outputs": [],
   "source": [
    "# CSV translation function with line-by-line saving\n",
    "def translate_csv(input_csv, source_lang, target_lang):\n",
    "    encoding = 'utf-8'\n",
    "    output_csv = f\"{os.path.splitext(input_csv)[0]}_{target_lang}.csv\"\n",
    "\n",
    "    if torch.cuda.is_available():\n",
    "        cuda = True\n",
    "\n",
    "    # Count the number of rows already processed in the output file\n",
    "    processed_rows = 0\n",
    "    try:\n",
    "        with open(output_csv, mode='r', encoding=encoding) as outfile:\n",
    "            reader = csv.reader(outfile)\n",
    "            processed_rows = sum(1 for row in reader) - 1  # Subtract 1 for the header row\n",
    "    except FileNotFoundError:\n",
    "        pass\n",
    "\n",
    "    # Open the input file for reading\n",
    "    with open(input_csv, mode='r', encoding=encoding) as infile:\n",
    "        reader = csv.DictReader(infile)\n",
    "\n",
    "        # Open the output file in append mode so that progress is saved after each row\n",
    "        with open(output_csv, mode='a', newline='', encoding=encoding) as outfile:\n",
    "            writer = csv.DictWriter(outfile, fieldnames=[\"Speaker\", \"Translated_Text\"])\n",
    "    \n",
    "            # Check if the file is empty to avoid writing headers multiple times\n",
    "            if infile.tell() == 0: # File is empty\n",
    "                writer.writeheader() # Header == Columns names\n",
    "  \n",
    "            # Skip the already processed rows in the input file\n",
    "            for _ in range(processed_rows):\n",
    "                next(reader)\n",
    "            \n",
    "            # Use tqdm to display a progress bar\n",
    "            rows = list(reader)\n",
    "            for row in tqdm(rows, desc=\"Translating\", unit=\"row\"):\n",
    "                speaker = row[\"Speaker\"]\n",
    "                text = row[\"Text\"]\n",
    "\n",
    "                # Translate the text\n",
    "                translated_text = translation(source_lang, target_lang, text, cuda)\n",
    "\n",
    "                # Write the speaker and translated text to the new CSV file immediately\n",
    "                writer.writerow({\"Speaker\": speaker, \"Translated_Text\": translated_text})"
   ]
  },
  {
   "cell_type": "code",
   "execution_count": 17,
   "metadata": {},
   "outputs": [
    {
     "name": "stderr",
     "output_type": "stream",
     "text": [
      "Translating: 100%|██████████| 191/191 [03:58<00:00,  1.25s/row]\n"
     ]
    }
   ],
   "source": [
    "source_lang = \"fra\" # French\n",
    "target_lang = \"eng\" # English\n",
    "path_file = \"csv/7-1_script_interview_clinique_2_21-08-2020.csv\"\n",
    "\n",
    "translate_csv(path_file, source_lang, target_lang)"
   ]
  }
 ],
 "metadata": {
  "kernelspec": {
   "display_name": "text",
   "language": "python",
   "name": "python3"
  },
  "language_info": {
   "codemirror_mode": {
    "name": "ipython",
    "version": 3
   },
   "file_extension": ".py",
   "mimetype": "text/x-python",
   "name": "python",
   "nbconvert_exporter": "python",
   "pygments_lexer": "ipython3",
   "version": "3.10.14"
  }
 },
 "nbformat": 4,
 "nbformat_minor": 2
}
