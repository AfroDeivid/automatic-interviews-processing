{
 "cells": [
  {
   "cell_type": "markdown",
   "metadata": {},
   "source": [
    "# Evaluation of the transcripts: Metrics & time passed to verify"
   ]
  },
  {
   "cell_type": "markdown",
   "metadata": {},
   "source": [
    "- The first part of this notebook is designed to assess the performance of predictions after manual verification. *(Also providing enhanced visual HTML files to help interpret metrics clearly.)*\n",
    "\n",
    "    - After manually verifying transcripts, you can use the verified transcripts as reference (ground truth) data to test the accuracy of various models.\n",
    "    \n",
    "    - **However**, it's essential to note that if the reference file (ground truth) was created by using a model’s predictions as a template the ground truth may carry a bias towards that initial model. *For instance, if a model omitted interruptions or adjusted sentence structure and the verifier found these changes accurate in context, these modifications might remain, unintentionally favoring that model.*\n",
    "\n",
    "- The second part of the notebook focuses on tracking the time spent verifying each transcript. This data allows you to quantify time savings, providing insights into the efficiency of each model based on verification time."
   ]
  },
  {
   "cell_type": "code",
   "execution_count": 1,
   "metadata": {},
   "outputs": [],
   "source": [
    "%load_ext autoreload\n",
    "%autoreload 2"
   ]
  },
  {
   "cell_type": "code",
   "execution_count": 2,
   "metadata": {},
   "outputs": [],
   "source": [
    "import pandas as pd\n",
    "import numpy as np\n",
    "import shutil\n",
    "import os\n",
    "\n",
    "import matplotlib.pyplot as plt\n",
    "import plotly.express as px\n",
    "import seaborn as sns\n",
    "sns.set()\n",
    "\n",
    "from utils.evaluation_helpers import process_folder_csv, load_data_time, compute_der, process_folder_text\n",
    "from utils.format_helpers import get_files"
   ]
  },
  {
   "cell_type": "markdown",
   "metadata": {},
   "source": [
    "# Predictions vs References: Performance evaluation (ASR & Diarization)"
   ]
  },
  {
   "cell_type": "markdown",
   "metadata": {},
   "source": [
    "## CSV Files"
   ]
  },
  {
   "cell_type": "markdown",
   "metadata": {},
   "source": [
    "### Preparing evaluation folder (Predictions vs References)"
   ]
  },
  {
   "cell_type": "markdown",
   "metadata": {},
   "source": [
    "Usefull if want to test/compare differents models."
   ]
  },
  {
   "cell_type": "code",
   "execution_count": 3,
   "metadata": {},
   "outputs": [],
   "source": [
    "directories = ['../results/Compassion', '../results/OBE1', '../results/OBE2'] # The csv file that you want to compare\n",
    "pred_folder = '../evaluation/predictions' # Specify the name if trying to compare different ASR/Diarization models.\n",
    "\n",
    "def copy_csv_files(directories, pred_folder):\n",
    "    pred_files = []\n",
    "    for directory in directories:\n",
    "        pred_files.append(get_files(directory, 'csv'))\n",
    "    pred_files = [item for sublist in pred_files for item in sublist]\n",
    "\n",
    "    os.makedirs(pred_folder, exist_ok=True)\n",
    "    for file in pred_files:\n",
    "        shutil.copy(file, pred_folder)\n",
    "\n",
    "copy_csv_files(directories, pred_folder)"
   ]
  },
  {
   "cell_type": "markdown",
   "metadata": {},
   "source": [
    "### ASR and Diarization metrics + Visual Tool to easily understand missmatch"
   ]
  },
  {
   "cell_type": "code",
   "execution_count": 4,
   "metadata": {},
   "outputs": [
    {
     "name": "stdout",
     "output_type": "stream",
     "text": [
      "Processing file: ID 05.csv\n",
      "Combined HTML file saved as ../evaluation/predictions\\visual_comparison\\ID 05_Diarization.html\n",
      "Processed file: ID 05.csv\n",
      "Processing file: Id 08.csv\n",
      "Combined HTML file saved as ../evaluation/predictions\\visual_comparison\\Id 08_Diarization.html\n",
      "Processed file: Id 08.csv\n",
      "Processing file: Id 13.csv\n",
      "Combined HTML file saved as ../evaluation/predictions\\visual_comparison\\Id 13_Diarization.html\n",
      "Processed file: Id 13.csv\n",
      "Processing file: Id 13b.csv\n",
      "Combined HTML file saved as ../evaluation/predictions\\visual_comparison\\Id 13b_Diarization.html\n",
      "Processed file: Id 13b.csv\n",
      "Processing file: Id 14.csv\n",
      "Combined HTML file saved as ../evaluation/predictions\\visual_comparison\\Id 14_Diarization.html\n",
      "Processed file: Id 14.csv\n",
      "Processing file: Id 15.csv\n",
      "Combined HTML file saved as ../evaluation/predictions\\visual_comparison\\Id 15_Diarization.html\n",
      "Processed file: Id 15.csv\n",
      "Processing file: Id 16.csv\n",
      "Combined HTML file saved as ../evaluation/predictions\\visual_comparison\\Id 16_Diarization.html\n",
      "Processed file: Id 16.csv\n",
      "Processing file: Id 17.csv\n",
      "Combined HTML file saved as ../evaluation/predictions\\visual_comparison\\Id 17_Diarization.html\n",
      "Processed file: Id 17.csv\n",
      "Processing file: Id 18.csv\n",
      "Combined HTML file saved as ../evaluation/predictions\\visual_comparison\\Id 18_Diarization.html\n",
      "Processed file: Id 18.csv\n",
      "Processing file: Id 19.csv\n",
      "Combined HTML file saved as ../evaluation/predictions\\visual_comparison\\Id 19_Diarization.html\n",
      "Processed file: Id 19.csv\n",
      "Processing file: Id 19b.csv\n",
      "Combined HTML file saved as ../evaluation/predictions\\visual_comparison\\Id 19b_Diarization.html\n",
      "Processed file: Id 19b.csv\n",
      "Processing file: Id 22.csv\n",
      "Combined HTML file saved as ../evaluation/predictions\\visual_comparison\\Id 22_Diarization.html\n",
      "Processed file: Id 22.csv\n",
      "Processing file: Id 23.csv\n",
      "Combined HTML file saved as ../evaluation/predictions\\visual_comparison\\Id 23_Diarization.html\n",
      "Processed file: Id 23.csv\n",
      "Processing file: Id 24.csv\n",
      "Combined HTML file saved as ../evaluation/predictions\\visual_comparison\\Id 24_Diarization.html\n",
      "Processed file: Id 24.csv\n",
      "Processing file: Id 24b.csv\n",
      "Combined HTML file saved as ../evaluation/predictions\\visual_comparison\\Id 24b_Diarization.html\n",
      "Processed file: Id 24b.csv\n",
      "Processing file: Id 7a.csv\n",
      "Combined HTML file saved as ../evaluation/predictions\\visual_comparison\\Id 7a_Diarization.html\n",
      "Processed file: Id 7a.csv\n",
      "Processing file: Id 7b.csv\n",
      "Combined HTML file saved as ../evaluation/predictions\\visual_comparison\\Id 7b_Diarization.html\n",
      "Processed file: Id 7b.csv\n",
      "Processing file: Participant 20 interview.csv\n",
      "Combined HTML file saved as ../evaluation/predictions\\visual_comparison\\Participant 20 interview_Diarization.html\n",
      "Processed file: Participant 20 interview.csv\n",
      "Processing file: S201-1.csv\n",
      "Combined HTML file saved as ../evaluation/predictions\\visual_comparison\\S201-1_Diarization.html\n",
      "Processed file: S201-1.csv\n",
      "Processing file: S201-2.csv\n",
      "Combined HTML file saved as ../evaluation/predictions\\visual_comparison\\S201-2_Diarization.html\n",
      "Processed file: S201-2.csv\n",
      "Processing file: S201-3.csv\n",
      "Combined HTML file saved as ../evaluation/predictions\\visual_comparison\\S201-3_Diarization.html\n",
      "Processed file: S201-3.csv\n",
      "Processing file: S202-1.csv\n",
      "Combined HTML file saved as ../evaluation/predictions\\visual_comparison\\S202-1_Diarization.html\n",
      "Processed file: S202-1.csv\n",
      "Processing file: S203-1.csv\n",
      "Combined HTML file saved as ../evaluation/predictions\\visual_comparison\\S203-1_Diarization.html\n",
      "Processed file: S203-1.csv\n",
      "Processing file: S204-1.csv\n",
      "Combined HTML file saved as ../evaluation/predictions\\visual_comparison\\S204-1_Diarization.html\n",
      "Processed file: S204-1.csv\n",
      "Processing file: S204-2.csv\n",
      "Combined HTML file saved as ../evaluation/predictions\\visual_comparison\\S204-2_Diarization.html\n",
      "Processed file: S204-2.csv\n",
      "Processing file: S205-1.csv\n",
      "Combined HTML file saved as ../evaluation/predictions\\visual_comparison\\S205-1_Diarization.html\n",
      "Processed file: S205-1.csv\n",
      "Processing file: S205-2.csv\n",
      "Combined HTML file saved as ../evaluation/predictions\\visual_comparison\\S205-2_Diarization.html\n",
      "Processed file: S205-2.csv\n",
      "Processing file: S206-1.csv\n",
      "Combined HTML file saved as ../evaluation/predictions\\visual_comparison\\S206-1_Diarization.html\n",
      "Processed file: S206-1.csv\n",
      "Processing file: S206-2.csv\n",
      "Combined HTML file saved as ../evaluation/predictions\\visual_comparison\\S206-2_Diarization.html\n",
      "Processed file: S206-2.csv\n",
      "Processing file: S207-1.csv\n",
      "Combined HTML file saved as ../evaluation/predictions\\visual_comparison\\S207-1_Diarization.html\n",
      "Processed file: S207-1.csv\n",
      "Processing file: S207-2.csv\n",
      "Combined HTML file saved as ../evaluation/predictions\\visual_comparison\\S207-2_Diarization.html\n",
      "Processed file: S207-2.csv\n",
      "Processing file: S208-1.csv\n",
      "Combined HTML file saved as ../evaluation/predictions\\visual_comparison\\S208-1_Diarization.html\n",
      "Processed file: S208-1.csv\n",
      "Processing file: S208-2.csv\n",
      "Combined HTML file saved as ../evaluation/predictions\\visual_comparison\\S208-2_Diarization.html\n",
      "Processed file: S208-2.csv\n",
      "Processing file: S209-1.csv\n",
      "Combined HTML file saved as ../evaluation/predictions\\visual_comparison\\S209-1_Diarization.html\n",
      "Processed file: S209-1.csv\n",
      "Processing file: S209-2.csv\n",
      "Combined HTML file saved as ../evaluation/predictions\\visual_comparison\\S209-2_Diarization.html\n",
      "Processed file: S209-2.csv\n",
      "Processing file: S209-3.csv\n",
      "Combined HTML file saved as ../evaluation/predictions\\visual_comparison\\S209-3_Diarization.html\n",
      "Processed file: S209-3.csv\n",
      "Processing file: S209-4.csv\n",
      "Combined HTML file saved as ../evaluation/predictions\\visual_comparison\\S209-4_Diarization.html\n",
      "Processed file: S209-4.csv\n",
      "Processing file: S210-1.csv\n",
      "Combined HTML file saved as ../evaluation/predictions\\visual_comparison\\S210-1_Diarization.html\n",
      "Processed file: S210-1.csv\n",
      "Processing file: S210-2.csv\n",
      "Combined HTML file saved as ../evaluation/predictions\\visual_comparison\\S210-2_Diarization.html\n",
      "Processed file: S210-2.csv\n",
      "Processing file: S210-3.csv\n",
      "Combined HTML file saved as ../evaluation/predictions\\visual_comparison\\S210-3_Diarization.html\n",
      "Processed file: S210-3.csv\n",
      "Processing file: S211_1.csv\n",
      "Combined HTML file saved as ../evaluation/predictions\\visual_comparison\\S211_1_Diarization.html\n",
      "Processed file: S211_1.csv\n",
      "Processing file: S211_2.csv\n",
      "Combined HTML file saved as ../evaluation/predictions\\visual_comparison\\S211_2_Diarization.html\n",
      "Processed file: S211_2.csv\n",
      "Processing file: S211_3 (partially in french).csv\n",
      "Combined HTML file saved as ../evaluation/predictions\\visual_comparison\\S211_3 (partially in french)_Diarization.html\n",
      "Processed file: S211_3 (partially in french).csv\n",
      "Processing file: S212_1.csv\n",
      "Combined HTML file saved as ../evaluation/predictions\\visual_comparison\\S212_1_Diarization.html\n",
      "Processed file: S212_1.csv\n",
      "Processing file: S212_2.csv\n",
      "Combined HTML file saved as ../evaluation/predictions\\visual_comparison\\S212_2_Diarization.html\n",
      "Processed file: S212_2.csv\n",
      "Processing file: S213_1.csv\n",
      "Combined HTML file saved as ../evaluation/predictions\\visual_comparison\\S213_1_Diarization.html\n",
      "Processed file: S213_1.csv\n",
      "Processing file: S213_2.csv\n",
      "Combined HTML file saved as ../evaluation/predictions\\visual_comparison\\S213_2_Diarization.html\n",
      "Processed file: S213_2.csv\n",
      "Processing file: S214_1.csv\n",
      "Combined HTML file saved as ../evaluation/predictions\\visual_comparison\\S214_1_Diarization.html\n",
      "Processed file: S214_1.csv\n",
      "Processing file: S214_2.csv\n",
      "Combined HTML file saved as ../evaluation/predictions\\visual_comparison\\S214_2_Diarization.html\n",
      "Processed file: S214_2.csv\n",
      "Processing file: S217.csv\n",
      "Combined HTML file saved as ../evaluation/predictions\\visual_comparison\\S217_Diarization.html\n",
      "Processed file: S217.csv\n",
      "Processing file: S218-1.csv\n",
      "Combined HTML file saved as ../evaluation/predictions\\visual_comparison\\S218-1_Diarization.html\n",
      "Processed file: S218-1.csv\n",
      "Processing file: S218-2.csv\n",
      "Combined HTML file saved as ../evaluation/predictions\\visual_comparison\\S218-2_Diarization.html\n",
      "Processed file: S218-2.csv\n",
      "Processing file: S219-1.csv\n",
      "Combined HTML file saved as ../evaluation/predictions\\visual_comparison\\S219-1_Diarization.html\n",
      "Processed file: S219-1.csv\n",
      "Processing file: S219-2.csv\n",
      "Combined HTML file saved as ../evaluation/predictions\\visual_comparison\\S219-2_Diarization.html\n",
      "Processed file: S219-2.csv\n",
      "Processing file: S220-1.csv\n",
      "Combined HTML file saved as ../evaluation/predictions\\visual_comparison\\S220-1_Diarization.html\n",
      "Processed file: S220-1.csv\n",
      "Processing file: S220-2.csv\n",
      "Combined HTML file saved as ../evaluation/predictions\\visual_comparison\\S220-2_Diarization.html\n",
      "Processed file: S220-2.csv\n",
      "Processing file: S222_c.csv\n",
      "Combined HTML file saved as ../evaluation/predictions\\visual_comparison\\S222_c_Diarization.html\n",
      "Processed file: S222_c.csv\n",
      "Processing file: S222_m.csv\n",
      "Combined HTML file saved as ../evaluation/predictions\\visual_comparison\\S222_m_Diarization.html\n",
      "Processed file: S222_m.csv\n",
      "Processing file: S223.csv\n",
      "Combined HTML file saved as ../evaluation/predictions\\visual_comparison\\S223_Diarization.html\n",
      "Processed file: S223.csv\n",
      "Processing file: S225.csv\n",
      "Combined HTML file saved as ../evaluation/predictions\\visual_comparison\\S225_Diarization.html\n",
      "Processed file: S225.csv\n",
      "Processing file: S225[1].csv\n",
      "Combined HTML file saved as ../evaluation/predictions\\visual_comparison\\S225[1]_Diarization.html\n",
      "Processed file: S225[1].csv\n",
      "Processing file: S226.csv\n",
      "Combined HTML file saved as ../evaluation/predictions\\visual_comparison\\S226_Diarization.html\n",
      "Processed file: S226.csv\n",
      "Processing file: S226[1].csv\n",
      "Combined HTML file saved as ../evaluation/predictions\\visual_comparison\\S226[1]_Diarization.html\n",
      "Processed file: S226[1].csv\n",
      "Processing file: S226[2].csv\n",
      "Combined HTML file saved as ../evaluation/predictions\\visual_comparison\\S226[2]_Diarization.html\n",
      "Processed file: S226[2].csv\n",
      "Processing file: S227 control interview.csv\n",
      "Combined HTML file saved as ../evaluation/predictions\\visual_comparison\\S227 control interview_Diarization.html\n",
      "Processed file: S227 control interview.csv\n",
      "Processing file: S227 intervention.csv\n",
      "Combined HTML file saved as ../evaluation/predictions\\visual_comparison\\S227 intervention_Diarization.html\n",
      "Processed file: S227 intervention.csv\n",
      "Processing file: S228 control.csv\n",
      "Combined HTML file saved as ../evaluation/predictions\\visual_comparison\\S228 control_Diarization.html\n",
      "Processed file: S228 control.csv\n",
      "Processing file: S228 intervention.csv\n",
      "Combined HTML file saved as ../evaluation/predictions\\visual_comparison\\S228 intervention_Diarization.html\n",
      "Processed file: S228 intervention.csv\n",
      "Processing file: S229 control.csv\n",
      "Combined HTML file saved as ../evaluation/predictions\\visual_comparison\\S229 control_Diarization.html\n",
      "Processed file: S229 control.csv\n",
      "Processing file: S229 intervention.csv\n",
      "Combined HTML file saved as ../evaluation/predictions\\visual_comparison\\S229 intervention_Diarization.html\n",
      "Processed file: S229 intervention.csv\n",
      "Processing file: S230 control.csv\n",
      "Combined HTML file saved as ../evaluation/predictions\\visual_comparison\\S230 control_Diarization.html\n",
      "Processed file: S230 control.csv\n",
      "Processing file: S230 intervention.csv\n",
      "Combined HTML file saved as ../evaluation/predictions\\visual_comparison\\S230 intervention_Diarization.html\n",
      "Processed file: S230 intervention.csv\n",
      "Processing file: S301final.csv\n",
      "Combined HTML file saved as ../evaluation/predictions\\visual_comparison\\S301final_Diarization.html\n",
      "Processed file: S301final.csv\n",
      "Processing file: S302con.csv\n",
      "Combined HTML file saved as ../evaluation/predictions\\visual_comparison\\S302con_Diarization.html\n",
      "Processed file: S302con.csv\n",
      "Processing file: S302man.csv\n",
      "Combined HTML file saved as ../evaluation/predictions\\visual_comparison\\S302man_Diarization.html\n",
      "Processed file: S302man.csv\n",
      "Processing file: S303con.csv\n",
      "Combined HTML file saved as ../evaluation/predictions\\visual_comparison\\S303con_Diarization.html\n",
      "Processed file: S303con.csv\n",
      "Processing file: S303man.csv\n",
      "Combined HTML file saved as ../evaluation/predictions\\visual_comparison\\S303man_Diarization.html\n",
      "Processed file: S303man.csv\n",
      "Processing file: S304.csv\n",
      "Combined HTML file saved as ../evaluation/predictions\\visual_comparison\\S304_Diarization.html\n",
      "Processed file: S304.csv\n",
      "Processing file: S305con.csv\n",
      "Combined HTML file saved as ../evaluation/predictions\\visual_comparison\\S305con_Diarization.html\n",
      "Processed file: S305con.csv\n",
      "Processing file: S306.csv\n",
      "Combined HTML file saved as ../evaluation/predictions\\visual_comparison\\S306_Diarization.html\n",
      "Processed file: S306.csv\n",
      "Processing file: S307.csv\n",
      "Combined HTML file saved as ../evaluation/predictions\\visual_comparison\\S307_Diarization.html\n",
      "Processed file: S307.csv\n",
      "Processing file: S313.csv\n",
      "Combined HTML file saved as ../evaluation/predictions\\visual_comparison\\S313_Diarization.html\n",
      "Processed file: S313.csv\n"
     ]
    }
   ],
   "source": [
    "prediction_folder = \"../evaluation/predictions\"\n",
    "reference_folder = \"../evaluation/references\"\n",
    "\n",
    "# Provide the original duration of the audio files.\n",
    "# This ensures the diarization error rate (DER) metric accounts for the total audio duration, not just the speech segments detected by the model.\n",
    "# If this information is missing, DER calculations may be inaccurate as they consider only the detected speech intervals, worsening the DER metric.\n",
    "orignal_info = pd.read_csv(\"./outputs/audio_data.csv\")\n",
    "\n",
    "metric = process_folder_csv(prediction_folder, reference_folder, info=orignal_info)\n",
    "metric.to_csv('../evaluation/metrics.csv', index=False)"
   ]
  },
  {
   "cell_type": "markdown",
   "metadata": {},
   "source": [
    "### (Optional) Dialogue DER Analysis in CSV instead than in HTML"
   ]
  },
  {
   "cell_type": "code",
   "execution_count": 5,
   "metadata": {},
   "outputs": [],
   "source": [
    "def dialogue_DER(reference_file, prediction_file, output_file):\n",
    "    df_ref, df_pred = load_data_time(reference_file, prediction_file)\n",
    "    dialogue_df, error_durations = compute_der(df_ref, df_pred)\n",
    "\n",
    "    # Display error durations and DER\n",
    "    print(\"\\nError Durations and DER:\")\n",
    "    for key, value in error_durations.items():\n",
    "        if key == 'DER':\n",
    "            print(f\"{key}: {value:.2%}\")\n",
    "        else:\n",
    "            print(f\"{key}: {value:.3f} seconds\")\n",
    "\n",
    "    # Optionally, save the DataFrame to a CSV file\n",
    "    dialogue_df.to_csv(output_file, index=False)"
   ]
  },
  {
   "cell_type": "code",
   "execution_count": 6,
   "metadata": {},
   "outputs": [
    {
     "name": "stdout",
     "output_type": "stream",
     "text": [
      "\n",
      "Error Durations and DER:\n",
      "DER: 6.79%\n",
      "Reference Speech Duration: 342.280 seconds\n",
      "Missed Duration: 0.000 seconds\n",
      "False Alarm Duration: 0.000 seconds\n",
      "Confusion Duration: 23.240 seconds\n"
     ]
    }
   ],
   "source": [
    "reference_file = \"../evaluation/references/S301final.csv\"\n",
    "prediction_file = \"../evaluation/predictions/S301final.csv\"\n",
    "output_file = 'dia_S301final_new.csv'\n",
    "\n",
    "dialogue_DER(reference_file, prediction_file, output_file)"
   ]
  },
  {
   "cell_type": "markdown",
   "metadata": {},
   "source": [
    "# Text File \n",
    "When corrections are made directly in a text file rather than adjusting timestamps in a CSV (as was done for the Grief dataset interviews), a simplified approach to DER is required:\n",
    "\n",
    "Since time segments are not adjusted, we ignore missed speech and false alarm errors. Instead, we focus solely on confusion errors, defined as the number of words reassigned from one speaker to another. *This replaces the traditional time-based DER calculations with a straightforward, text-based method.*\n",
    "\n",
    "**Note:** This approach can be preferred as it accelerates the manual correction process by providing a better visual representation, with segments concatenated by turn in the text file and by neglecting the need to correct timestamps, it offers significant time savings without compromising the core analysis."
   ]
  },
  {
   "cell_type": "code",
   "execution_count": 45,
   "metadata": {},
   "outputs": [
    {
     "name": "stdout",
     "output_type": "stream",
     "text": [
      "Processing text file: ADE_pilot_003_merged.txt\n",
      "Index:11 Conflict Ins/Del 'speaker_label': Participant\n",
      "    Index:12 Added words:3 Unmodified label:False\n",
      "Index:13 Speaker:Participant | conflict_speaker_label:Participant | last_correct_speaker_label:Interviewer\n",
      "Index:13 Conflict solved same speaker \n",
      "\n",
      "Index:15 Conflict Ins/Del 'speaker_label': Interviewer\n",
      "    Index:16 Added words:2 Unmodified label:False\n",
      "Index:17 Speaker:Interviewer | conflict_speaker_label:Interviewer | last_correct_speaker_label:Interviewer\n",
      "Index:17 Conflict solved same speaker \n",
      "\n",
      "Index:21 Conflict Ins/Del 'speaker_label': Participant\n",
      "    Index:22 Added words:6 Unmodified label:False\n",
      "Index:23 Speaker:Participant | conflict_speaker_label:Participant | last_correct_speaker_label:Interviewer\n",
      "Index:23 Conflict solved same speaker \n",
      "\n",
      "Index:25 Conflict Ins/Del 'speaker_label': Participant\n",
      "    Index:26 Added words:6 Unmodified label:False\n",
      "Index:27 Speaker:Interviewer 2 | conflict_speaker_label:Participant | last_correct_speaker_label:Interviewer\n",
      "    Index:28 Added words:7 Unmodified label:False\n",
      "Index:29 Speaker:Participant | conflict_speaker_label:Interviewer 2 | last_correct_speaker_label:Interviewer\n",
      "    Index:30 Added words:3 Unmodified label:True\n",
      "Index:30 Conflict solved found Unmodified 'speaker_label'\n",
      "\n",
      "Index:62 Conflict Ins/Del 'speaker_label': Interviewer\n",
      "    Index:63 Added words:3 Unmodified label:False\n",
      "Index:64 Speaker:Participant | conflict_speaker_label:Interviewer | last_correct_speaker_label:Participant\n",
      "Index:64 Conflict solved it was an comment inside a bigger segment of 'correct_speaker_label'\n",
      "\n",
      "Index:70 Conflict Ins/Del 'speaker_label': Participant\n",
      "    Index:71 Added words:3 Unmodified label:False\n",
      "Index:72 Speaker:Participant | conflict_speaker_label:Participant | last_correct_speaker_label:Interviewer\n",
      "Index:72 Conflict solved same speaker \n",
      "\n",
      "Index:88 Conflict Ins/Del 'speaker_label': Interviewer\n",
      "    Index:89 Added words:1 Unmodified label:False\n",
      "Index:90 Speaker:Interviewer | conflict_speaker_label:Interviewer | last_correct_speaker_label:Participant\n",
      "Index:90 Conflict solved same speaker \n",
      "\n",
      "Index:100 Conflict Ins/Del 'speaker_label': Participant\n",
      "    Index:101 Added words:1 Unmodified label:False\n",
      "Index:102 Speaker:Interviewer | conflict_speaker_label:Participant | last_correct_speaker_label:Interviewer\n",
      "Index:102 Conflict solved it was an comment inside a bigger segment of 'correct_speaker_label'\n",
      "\n",
      "Index:104 Conflict Ins/Del 'speaker_label': Participant\n",
      "    Index:105 Added words:1 Unmodified label:False\n",
      "Index:106 Speaker:Interviewer | conflict_speaker_label:Participant | last_correct_speaker_label:Interviewer\n",
      "Index:106 Conflict solved it was an comment inside a bigger segment of 'correct_speaker_label'\n",
      "\n",
      "Index:118 Conflict Ins/Del 'speaker_label': Interviewer\n",
      "    Index:119 Added words:4 Unmodified label:False\n",
      "Index:120 Speaker:Interviewer | conflict_speaker_label:Interviewer | last_correct_speaker_label:Participant\n",
      "Index:120 Conflict solved same speaker \n",
      "\n",
      "Index:126 Conflict Ins/Del 'speaker_label': Interviewer\n",
      "    Index:127 Added words:5 Unmodified label:False\n",
      "Index:128 Speaker:Participant | conflict_speaker_label:Interviewer | last_correct_speaker_label:Participant\n",
      "Index:128 Conflict solved it was an comment inside a bigger segment of 'correct_speaker_label'\n",
      "\n",
      "Index:132 Conflict Sustitution 'speaker_label': None\n",
      ". yeah so Yeah : [ Interviewer ]\n",
      "    Index:132 Added words:3 Unmodified label:True\n",
      "Index:132 Conflict solved just move some words with Sustitution'\n",
      "\n",
      "Index:156 Conflict Ins/Del 'speaker_label': Interviewer\n",
      "    Index:157 Added words:1 Unmodified label:False\n",
      "Index:158 Speaker:Interviewer | conflict_speaker_label:Interviewer | last_correct_speaker_label:Participant\n",
      "Index:158 Conflict solved same speaker \n",
      "\n",
      "Index:166 Conflict Ins/Del 'speaker_label': Participant\n",
      "    Index:167 Added words:4 Unmodified label:False\n",
      "Index:168 Speaker:Participant | conflict_speaker_label:Participant | last_correct_speaker_label:Interviewer\n",
      "Index:168 Conflict solved same speaker \n",
      "\n",
      "Index:170 Conflict Sustitution 'speaker_label': None\n",
      ". yeah , yeah , Yeah : [ Interviewer ]\n",
      "    Index:170 Added words:3 Unmodified label:True\n",
      "Index:170 Conflict solved just move some words with Sustitution'\n",
      "\n",
      "Index:180 Conflict Sustitution 'speaker_label': None\n",
      ". Yeah : [ Interviewer ]\n",
      "    Index:180 Added words:1 Unmodified label:True\n",
      "Index:180 Conflict solved just move some words with Sustitution'\n",
      "\n",
      "Index:190 Conflict Ins/Del 'speaker_label': Interviewer\n",
      "    Index:191 Added words:1 Unmodified label:False\n",
      "Index:192 Speaker:Interviewer | conflict_speaker_label:Interviewer | last_correct_speaker_label:Participant\n",
      "Index:192 Conflict solved same speaker \n",
      "\n",
      "Index:212 Conflict Ins/Del 'speaker_label': Interviewer\n",
      "    Index:213 Added words:6 Unmodified label:False\n",
      "Index:214 Speaker:Participant | conflict_speaker_label:Interviewer | last_correct_speaker_label:Participant\n",
      "Index:214 Conflict solved it was an comment inside a bigger segment of 'correct_speaker_label'\n",
      "\n",
      "Index:348 Conflict Ins/Del 'speaker_label': Participant\n",
      "    Index:349 Added words:1 Unmodified label:False\n",
      "Index:350 Speaker:Participant | conflict_speaker_label:Participant | last_correct_speaker_label:Interviewer\n",
      "Index:350 Conflict solved same speaker \n",
      "\n",
      "Index:384 Conflict Ins/Del 'speaker_label': Interviewer\n",
      "    Index:385 Added words:2 Unmodified label:False\n",
      "Index:386 Speaker:Participant | conflict_speaker_label:Interviewer | last_correct_speaker_label:Participant\n",
      "Index:386 Conflict solved it was an comment inside a bigger segment of 'correct_speaker_label'\n",
      "\n",
      "Index:388 Conflict Ins/Del 'speaker_label': Interviewer\n",
      "    Index:389 Added words:2 Unmodified label:False\n",
      "Index:390 Speaker:Participant | conflict_speaker_label:Interviewer | last_correct_speaker_label:Participant\n",
      "Index:390 Conflict solved it was an comment inside a bigger segment of 'correct_speaker_label'\n",
      "\n",
      "Index:413 Conflict Sustitution 'speaker_label': None\n",
      ". yeah , Yeah : [ Interviewer ]\n",
      "    Index:413 Added words:2 Unmodified label:True\n",
      "Index:413 Conflict solved just move some words with Sustitution'\n",
      "\n",
      "Index:437 Conflict Ins/Del 'speaker_label': Interviewer\n",
      "    Index:438 Added words:6 Unmodified label:False\n",
      "Index:439 Speaker:Participant | conflict_speaker_label:Interviewer | last_correct_speaker_label:Participant\n",
      "Index:439 Conflict solved it was an comment inside a bigger segment of 'correct_speaker_label'\n",
      "\n",
      "Index:449 Conflict Ins/Del 'speaker_label': Participant\n",
      "    Index:450 Added words:4 Unmodified label:False\n",
      "Index:451 Speaker:Participant | conflict_speaker_label:Participant | last_correct_speaker_label:Interviewer\n",
      "Index:451 Conflict solved same speaker \n",
      "\n",
      "Index:465 Conflict Ins/Del 'speaker_label': Interviewer\n",
      "    Index:466 Added words:4 Unmodified label:False\n",
      "Index:467 Speaker:Participant | conflict_speaker_label:Interviewer | last_correct_speaker_label:Participant\n",
      "Index:467 Conflict solved it was an comment inside a bigger segment of 'correct_speaker_label'\n",
      "\n",
      "Index:469 Conflict Sustitution 'speaker_label': None\n",
      ". yeah , Yeah : [ Interviewer ]\n",
      "    Index:469 Added words:2 Unmodified label:True\n",
      "Index:469 Conflict solved just move some words with Sustitution'\n",
      "\n",
      "Index:481 Conflict Ins/Del 'speaker_label': Interviewer\n",
      "    Index:482 Added words:3 Unmodified label:False\n",
      "Index:483 Speaker:Participant | conflict_speaker_label:Interviewer | last_correct_speaker_label:Participant\n",
      "Index:483 Conflict solved it was an comment inside a bigger segment of 'correct_speaker_label'\n",
      "\n",
      "Index:505 Conflict Ins/Del 'speaker_label': Interviewer\n",
      "    Index:506 Added words:3 Unmodified label:False\n",
      "Index:507 Speaker:Participant | conflict_speaker_label:Interviewer | last_correct_speaker_label:Participant\n",
      "Index:507 Conflict solved it was an comment inside a bigger segment of 'correct_speaker_label'\n",
      "\n",
      "Index:509 Conflict Ins/Del 'speaker_label': Interviewer\n",
      "    Index:510 Added words:4 Unmodified label:False\n",
      "Index:511 Speaker:Interviewer | conflict_speaker_label:Interviewer | last_correct_speaker_label:Participant\n",
      "Index:511 Conflict solved same speaker \n",
      "\n",
      "Index:513 Conflict Sustitution 'speaker_label': None\n",
      "course.Very Of : [ Interviewer ]\n",
      "    Index:513 Added words:3 Unmodified label:True\n",
      "Index:513 Conflict solved just move some words with Sustitution'\n",
      "\n",
      "Index:515 Conflict Ins/Del 'speaker_label': Interviewer\n",
      "    Index:516 Added words:1 Unmodified label:False\n",
      "Index:517 Speaker:Interviewer | conflict_speaker_label:Interviewer | last_correct_speaker_label:Participant\n",
      "Index:517 Conflict solved same speaker \n",
      "\n",
      "Index:529 Conflict detected: 'text_ends_with_bracket\n",
      "    Speaker pred: Participant | Speaker ref: Inteviewer 2\n",
      "    Index:531 Added words:7 Unmodified label:False\n",
      "Index:532 Speaker:Participant | conflict_speaker_label:Participant | last_correct_speaker_label:Inteviewer 2\n",
      "Index:532 Conflict solved same speaker \n",
      "\n",
      "Index:540 Conflict Ins/Del 'speaker_label': Interviewer\n",
      "    Index:541 Added words:1 Unmodified label:False\n",
      "Index:543 Speaker:Participant | conflict_speaker_label:Interviewer | last_correct_speaker_label:Participant\n",
      "Index:543 Conflict solved it was an comment inside a bigger segment of 'correct_speaker_label'\n",
      "\n",
      "Index:551 Conflict Ins/Del 'speaker_label': Participant\n",
      "    Index:552 Added words:2 Unmodified label:False\n",
      "Index:553 Speaker:Interviewer | conflict_speaker_label:Participant | last_correct_speaker_label:Interviewer\n",
      "Index:553 Conflict solved it was an comment inside a bigger segment of 'correct_speaker_label'\n",
      "\n",
      "Index:581 Conflict Ins/Del 'speaker_label': Participant\n",
      "    Index:582 Added words:1 Unmodified label:False\n",
      "Index:583 Speaker:Participant | conflict_speaker_label:Participant | last_correct_speaker_label:Interviewer\n",
      "Index:583 Conflict solved same speaker \n",
      "\n",
      "Index:589 Conflict Ins/Del 'speaker_label': Participant\n",
      "    Index:590 Added words:4 Unmodified label:False\n",
      "Index:591 Speaker:Participant | conflict_speaker_label:Participant | last_correct_speaker_label:Interviewer\n",
      "Index:591 Conflict solved same speaker \n",
      "\n",
      "Index:594 Conflict Ins/Del 'speaker_label': Participant\n",
      "    Index:595 Added words:1 Unmodified label:False\n",
      "Index:596 Speaker:Interviewer | conflict_speaker_label:Participant | last_correct_speaker_label:Interviewer\n",
      "Index:596 Conflict solved it was an comment inside a bigger segment of 'correct_speaker_label'\n",
      "\n",
      "Index:603 Conflict Ins/Del 'speaker_label': Participant\n",
      "    Index:604 Added words:4 Unmodified label:False\n",
      "Index:605 Speaker:Participant | conflict_speaker_label:Participant | last_correct_speaker_label:Interviewer\n",
      "Index:605 Conflict solved same speaker \n",
      "\n",
      "Index:607 Conflict Ins/Del 'speaker_label': Interviewer 2\n",
      "    Index:608 Added words:16 Unmodified label:False\n",
      "Index:609 Speaker:Participant | conflict_speaker_label:Interviewer 2 | last_correct_speaker_label:Interviewer\n",
      "    Index:610 Added words:54 Unmodified label:True\n",
      "Index:610 Conflict solved found Unmodified 'speaker_label'\n",
      "\n",
      "Index:623 Conflict Ins/Del 'speaker_label': Interviewer\n",
      "    Index:624 Added words:8 Unmodified label:False\n",
      "Index:625 Speaker:Participant | conflict_speaker_label:Interviewer | last_correct_speaker_label:Participant\n",
      "Index:625 Conflict solved it was an comment inside a bigger segment of 'correct_speaker_label'\n",
      "\n",
      "Index:627 Conflict Ins/Del 'speaker_label': Interviewer\n",
      "    Index:628 Added words:6 Unmodified label:False\n",
      "Index:629 Speaker:Participant | conflict_speaker_label:Interviewer | last_correct_speaker_label:Participant\n",
      "Index:629 Conflict solved it was an comment inside a bigger segment of 'correct_speaker_label'\n",
      "\n",
      "Index:631 Conflict Ins/Del 'speaker_label': Participant\n",
      "    Index:632 Added words:2 Unmodified label:False\n",
      "Index:633 Speaker:Participant | conflict_speaker_label:Participant | last_correct_speaker_label:Interviewer\n",
      "Index:633 Conflict solved same speaker \n",
      "\n",
      "Index:635 Conflict Ins/Del 'speaker_label': Interviewer\n",
      "    Index:636 Added words:1 Unmodified label:False\n",
      "Index:637 Speaker:Interviewer | conflict_speaker_label:Interviewer | last_correct_speaker_label:Interviewer\n",
      "Index:637 Conflict solved same speaker \n",
      "\n",
      "Index:647 Conflict Ins/Del 'speaker_label': Interviewer\n",
      "    Index:648 Added words:1 Unmodified label:False\n",
      "Index:649 Speaker:Interviewer | conflict_speaker_label:Interviewer | last_correct_speaker_label:Participant\n",
      "Index:649 Conflict solved same speaker \n",
      "\n",
      "Index:655 Conflict Ins/Del 'speaker_label': Participant\n",
      "    Index:656 Added words:2 Unmodified label:False\n",
      "Index:657 Speaker:Interviewer | conflict_speaker_label:Participant | last_correct_speaker_label:Interviewer\n",
      "Index:657 Conflict solved it was an comment inside a bigger segment of 'correct_speaker_label'\n",
      "\n",
      "Index:663 Conflict Sustitution 'speaker_label': None\n",
      ",\n",
      "    Index:663 Added words:0 Unmodified label:False\n",
      "Index:665 Conflict Ins/Del 'speaker_label': Interviewer\n",
      "    Index:666 Added words:8 Unmodified label:True\n",
      "Index:666 Conflict solved found Unmodified 'speaker_label'\n",
      "\n",
      "Index:669 Conflict Ins/Del 'speaker_label': Interviewer\n",
      "    Index:670 Added words:7 Unmodified label:False\n",
      "Index:671 Speaker:Participant | conflict_speaker_label:Interviewer | last_correct_speaker_label:Participant\n",
      "Index:671 Conflict solved it was an comment inside a bigger segment of 'correct_speaker_label'\n",
      "\n",
      "Index:683 Conflict Ins/Del 'speaker_label': Interviewer\n",
      "    Index:684 Added words:5 Unmodified label:False\n",
      "Index:685 Speaker:Participant | conflict_speaker_label:Interviewer | last_correct_speaker_label:Participant\n",
      "Index:685 Conflict solved it was an comment inside a bigger segment of 'correct_speaker_label'\n",
      "\n",
      "Index:687 Conflict Sustitution 'speaker_label': None\n",
      ",\n",
      "    Index:687 Added words:0 Unmodified label:False\n",
      "Index:689 Conflict Ins/Del 'speaker_label': Interviewer\n",
      "    Index:690 Added words:19 Unmodified label:True\n",
      "Index:690 Conflict solved found Unmodified 'speaker_label'\n",
      "\n",
      "Index:693 Conflict Ins/Del 'speaker_label': Interviewer\n",
      "    Index:694 Added words:3 Unmodified label:False\n",
      "Index:695 Speaker:Participant | conflict_speaker_label:Interviewer | last_correct_speaker_label:Participant\n",
      "Index:695 Conflict solved it was an comment inside a bigger segment of 'correct_speaker_label'\n",
      "\n",
      "Index:697 Conflict Ins/Del 'speaker_label': Participant\n",
      "    Index:698 Added words:1 Unmodified label:False\n",
      "Index:699 Speaker:Interviewer | conflict_speaker_label:Participant | last_correct_speaker_label:Interviewer\n",
      "Index:699 Conflict solved it was an comment inside a bigger segment of 'correct_speaker_label'\n",
      "\n",
      "Index:701 Conflict Ins/Del 'speaker_label': Interviewer\n",
      "    Index:702 Added words:2 Unmodified label:False\n",
      "Index:703 Speaker:Interviewer | conflict_speaker_label:Interviewer | last_correct_speaker_label:Participant\n",
      "Index:703 Conflict solved same speaker \n",
      "\n",
      "Index:717 Conflict Ins/Del 'speaker_label': Interviewer\n",
      "    Index:718 Added words:1 Unmodified label:False\n",
      "Index:719 Speaker:Interviewer | conflict_speaker_label:Interviewer | last_correct_speaker_label:Participant\n",
      "Index:719 Conflict solved same speaker \n",
      "\n",
      "Index:721 Conflict Ins/Del 'speaker_label': Interviewer\n",
      "    Index:722 Added words:1 Unmodified label:False\n",
      "Index:723 Speaker:Interviewer | conflict_speaker_label:Interviewer | last_correct_speaker_label:Participant\n",
      "Index:723 Conflict solved same speaker \n",
      "\n",
      "Index:728 Conflict detected: 'text_ends_with_bracket\n",
      "    Speaker pred: Participant | Speaker ref: Interviewer 2\n",
      "    Index:730 Added words:6 Unmodified label:False\n",
      "    Index:732 Added words:0 Unmodified label:True\n",
      "Index:732 Conflict solved found Unmodified 'speaker_label'\n",
      "\n",
      "Misassigned words: 264\n",
      "Total words reference: 11614\n",
      "Processed file: ADE_pilot_003_merged.txt\n",
      "Processing text file: ADE_pilot_004_merged.txt\n",
      "Index:41 Conflict Ins/Del 'speaker_label': Interviewer\n",
      "    Index:42 Added words:1 Unmodified label:False\n",
      "Index:43 Speaker:Interviewer | conflict_speaker_label:Interviewer | last_correct_speaker_label:Participant\n",
      "Index:43 Conflict solved same speaker \n",
      "\n",
      "Index:57 Conflict Ins/Del 'speaker_label': Interviewer\n",
      "    Index:58 Added words:10 Unmodified label:False\n",
      "Index:59 Speaker:Participant | conflict_speaker_label:Interviewer | last_correct_speaker_label:Participant\n",
      "Index:59 Conflict solved it was an comment inside a bigger segment of 'correct_speaker_label'\n",
      "\n",
      "Index:80 Conflict Ins/Del 'speaker_label': Participant\n",
      "    Index:81 Added words:5 Unmodified label:False\n",
      "Index:82 Speaker:Participant | conflict_speaker_label:Participant | last_correct_speaker_label:Interviewer\n",
      "Index:82 Conflict solved same speaker \n",
      "\n",
      "Index:116 Conflict Ins/Del 'speaker_label': Participant\n",
      "    Index:117 Added words:2 Unmodified label:False\n",
      "Index:118 Speaker:Interviewer | conflict_speaker_label:Participant | last_correct_speaker_label:Interviewer\n",
      "Index:118 Conflict solved it was an comment inside a bigger segment of 'correct_speaker_label'\n",
      "\n",
      "Index:122 Conflict Ins/Del 'speaker_label': Participant\n",
      "    Index:123 Added words:1 Unmodified label:False\n",
      "Index:124 Speaker:Interviewer | conflict_speaker_label:Participant | last_correct_speaker_label:Interviewer\n",
      "Index:124 Conflict solved it was an comment inside a bigger segment of 'correct_speaker_label'\n",
      "\n",
      "Index:126 Conflict Ins/Del 'speaker_label': Participant\n",
      "    Index:127 Added words:1 Unmodified label:False\n",
      "Index:128 Speaker:Interviewer | conflict_speaker_label:Participant | last_correct_speaker_label:Interviewer\n",
      "Index:128 Conflict solved it was an comment inside a bigger segment of 'correct_speaker_label'\n",
      "\n",
      "Index:136 Conflict Ins/Del 'speaker_label': Participant\n",
      "    Index:137 Added words:7 Unmodified label:False\n",
      "Index:138 Speaker:Interviewer | conflict_speaker_label:Participant | last_correct_speaker_label:Interviewer\n",
      "Index:138 Conflict solved it was an comment inside a bigger segment of 'correct_speaker_label'\n",
      "\n",
      "Index:140 Conflict Ins/Del 'speaker_label': Participant\n",
      "    Index:141 Added words:28 Unmodified label:False\n",
      "    Index:143 Added words:21 Unmodified label:True\n",
      "Index:143 Conflict solved found Unmodified 'speaker_label'\n",
      "\n",
      "Index:183 Conflict Sustitution 'speaker_label': None\n",
      "And\n",
      "    Index:183 Added words:1 Unmodified label:False\n",
      "Index:209 Conflict Ins/Del 'speaker_label': Participant\n",
      "    Index:210 Added words:4 Unmodified label:False\n",
      "Index:211 Speaker:Interviewer | conflict_speaker_label:Participant | last_correct_speaker_label:Interviewer\n",
      "Index:211 Conflict solved it was an comment inside a bigger segment of 'correct_speaker_label'\n",
      "\n",
      "Index:213 Conflict Ins/Del 'speaker_label': Participant\n",
      "    Index:214 Added words:8 Unmodified label:False\n",
      "Index:215 Speaker:Participant | conflict_speaker_label:Participant | last_correct_speaker_label:Interviewer\n",
      "Index:215 Conflict solved same speaker \n",
      "\n",
      "Index:217 Conflict Sustitution 'speaker_label': None\n",
      ". know n't do I but yeah ,\n",
      "    Index:217 Added words:7 Unmodified label:False\n",
      "Index:219 Conflict Ins/Del 'speaker_label': Interviewer\n",
      "    Index:220 Added words:10 Unmodified label:True\n",
      "Index:220 Conflict solved found Unmodified 'speaker_label'\n",
      "\n",
      "Index:249 Conflict Ins/Del 'speaker_label': Interviewer\n",
      "    Index:250 Added words:7 Unmodified label:False\n",
      "Index:251 Speaker:Participant | conflict_speaker_label:Interviewer | last_correct_speaker_label:Participant\n",
      "Index:251 Conflict solved it was an comment inside a bigger segment of 'correct_speaker_label'\n",
      "\n",
      "Index:257 Conflict Ins/Del 'speaker_label': Interviewer\n",
      "    Index:258 Added words:4 Unmodified label:False\n",
      "    Index:261 Added words:13 Unmodified label:False\n",
      "Index:262 Speaker:Interviewer | conflict_speaker_label:Interviewer | last_correct_speaker_label:Participant\n",
      "Index:262 Conflict solved same speaker \n",
      "\n",
      "Index:264 Conflict Ins/Del 'speaker_label': Interviewer\n",
      "    Index:265 Added words:9 Unmodified label:True\n",
      "Index:265 Conflict solved found Unmodified 'speaker_label'\n",
      "\n",
      "Index:302 Conflict Ins/Del 'speaker_label': Participant\n",
      "    Index:303 Added words:5 Unmodified label:False\n",
      "Index:304 Speaker:Participant | conflict_speaker_label:Participant | last_correct_speaker_label:Interviewer\n",
      "Index:304 Conflict solved same speaker \n",
      "\n",
      "Misassigned words: 144\n",
      "Total words reference: 9830\n",
      "Processed file: ADE_pilot_004_merged.txt\n",
      "Processing text file: ADE_pilot_005_merged.txt\n",
      "Index:3 Conflict Ins/Del 'speaker_label': Interviewer\n",
      "    Index:4 Added words:1 Unmodified label:False\n",
      "Index:5 Speaker:Participant | conflict_speaker_label:Interviewer | last_correct_speaker_label:Participant\n",
      "Index:5 Conflict solved it was an comment inside a bigger segment of 'correct_speaker_label'\n",
      "\n",
      "Index:19 Conflict Ins/Del 'speaker_label': Interviewer\n",
      "    Index:20 Added words:1 Unmodified label:False\n",
      "    Index:22 Added words:1 Unmodified label:False\n",
      "Index:23 Speaker:Interviewer | conflict_speaker_label:Interviewer | last_correct_speaker_label:Participant\n",
      "Index:23 Conflict solved same speaker \n",
      "\n",
      "Index:31 Conflict Ins/Del 'speaker_label': Participant\n",
      "    Index:32 Added words:1 Unmodified label:False\n",
      "Index:33 Speaker:Interviewer | conflict_speaker_label:Participant | last_correct_speaker_label:Participant\n",
      "    Index:34 Added words:3 Unmodified label:False\n",
      "Index:35 Speaker:Participant | conflict_speaker_label:Interviewer | last_correct_speaker_label:Participant\n",
      "Index:35 Conflict solved it was an comment inside a bigger segment of 'correct_speaker_label'\n",
      "\n",
      "Index:36 Conflict detected: 'text_ends_with_bracket\n",
      "    Speaker pred: Participant ] : | Speaker ref: Interviewer ] : Yes ,\n",
      "    Index:38 Added words:2 Unmodified label:False\n",
      "Index:39 Speaker:Participant | conflict_speaker_label:Participant ] : | last_correct_speaker_label:Interviewer ] : Yes ,\n",
      "    Index:40 Added words:121 Unmodified label:True\n",
      "Index:40 Conflict solved found Unmodified 'speaker_label'\n",
      "\n",
      "Index:50 Conflict Ins/Del 'speaker_label': Participant\n",
      "    Index:51 Added words:1 Unmodified label:False\n",
      "Index:52 Speaker:Interviewer | conflict_speaker_label:Participant | last_correct_speaker_label:Interviewer\n",
      "Index:52 Conflict solved it was an comment inside a bigger segment of 'correct_speaker_label'\n",
      "\n",
      "Index:56 Conflict Ins/Del 'speaker_label': Participant\n",
      "    Index:57 Added words:1 Unmodified label:False\n",
      "Index:58 Speaker:Interviewer | conflict_speaker_label:Participant | last_correct_speaker_label:Interviewer\n",
      "Index:58 Conflict solved it was an comment inside a bigger segment of 'correct_speaker_label'\n",
      "\n",
      "Index:61 Conflict Ins/Del 'speaker_label': Participant\n",
      "    Index:62 Added words:1 Unmodified label:False\n",
      "Index:63 Speaker:Interviewer | conflict_speaker_label:Participant | last_correct_speaker_label:Interviewer\n",
      "Index:63 Conflict solved it was an comment inside a bigger segment of 'correct_speaker_label'\n",
      "\n",
      "Index:75 Conflict Sustitution 'speaker_label': None\n",
      ",\n",
      "    Index:75 Added words:0 Unmodified label:False\n",
      "Index:77 Conflict Ins/Del 'speaker_label': Interviewer\n",
      "    Index:78 Added words:15 Unmodified label:True\n",
      "Index:78 Conflict solved found Unmodified 'speaker_label'\n",
      "\n",
      "Index:81 Conflict Ins/Del 'speaker_label': Interviewer\n",
      "    Index:82 Added words:9 Unmodified label:False\n",
      "    Index:85 Added words:18 Unmodified label:False\n",
      "Index:86 Speaker:Interviewer | conflict_speaker_label:Interviewer | last_correct_speaker_label:Participant\n",
      "Index:86 Conflict solved same speaker \n",
      "\n",
      "Index:93 Conflict Ins/Del 'speaker_label': Participant\n",
      "    Index:94 Added words:1 Unmodified label:False\n",
      "Index:95 Speaker:Interviewer | conflict_speaker_label:Participant | last_correct_speaker_label:Interviewer\n",
      "Index:95 Conflict solved it was an comment inside a bigger segment of 'correct_speaker_label'\n",
      "\n",
      "Index:101 Conflict Ins/Del 'speaker_label': Participant\n",
      "    Index:102 Added words:19 Unmodified label:True\n",
      "Index:102 Conflict solved found Unmodified 'speaker_label'\n",
      "\n",
      "Index:103 Conflict Ins/Del 'speaker_label': Participant\n",
      "    Index:104 Added words:6 Unmodified label:False\n",
      "Index:105 Speaker:Interviewer | conflict_speaker_label:Participant | last_correct_speaker_label:Interviewer\n",
      "Index:105 Conflict solved it was an comment inside a bigger segment of 'correct_speaker_label'\n",
      "\n",
      "Index:107 Conflict Ins/Del 'speaker_label': Participant\n",
      "    Index:108 Added words:3 Unmodified label:False\n",
      "Index:109 Speaker:Interviewer | conflict_speaker_label:Participant | last_correct_speaker_label:Interviewer\n",
      "Index:109 Conflict solved it was an comment inside a bigger segment of 'correct_speaker_label'\n",
      "\n",
      "Index:130 Conflict Ins/Del 'speaker_label': Participant\n",
      "    Index:131 Added words:11 Unmodified label:False\n",
      "Index:132 Speaker:Interviewer | conflict_speaker_label:Participant | last_correct_speaker_label:Interviewer\n",
      "Index:132 Conflict solved it was an comment inside a bigger segment of 'correct_speaker_label'\n",
      "\n",
      "Index:136 Conflict Ins/Del 'speaker_label': Interviewer\n",
      "    Index:137 Added words:1 Unmodified label:False\n",
      "Index:139 Speaker:Participant | conflict_speaker_label:Interviewer | last_correct_speaker_label:Participant\n",
      "Index:139 Conflict solved it was an comment inside a bigger segment of 'correct_speaker_label'\n",
      "\n",
      "Index:141 Conflict Ins/Del 'speaker_label': Participant\n",
      "    Index:142 Added words:2 Unmodified label:False\n",
      "Index:143 Speaker:Participant | conflict_speaker_label:Participant | last_correct_speaker_label:Interviewer\n",
      "Index:143 Conflict solved same speaker \n",
      "\n",
      "Index:151 Conflict Ins/Del 'speaker_label': Participant\n",
      "    Index:152 Added words:4 Unmodified label:False\n",
      "Index:153 Speaker:Interviewer | conflict_speaker_label:Participant | last_correct_speaker_label:Interviewer\n",
      "Index:153 Conflict solved it was an comment inside a bigger segment of 'correct_speaker_label'\n",
      "\n",
      "Index:155 Conflict Ins/Del 'speaker_label': Participant\n",
      "    Index:156 Added words:2 Unmodified label:False\n",
      "Index:157 Speaker:Interviewer | conflict_speaker_label:Participant | last_correct_speaker_label:Interviewer\n",
      "Index:157 Conflict solved it was an comment inside a bigger segment of 'correct_speaker_label'\n",
      "\n",
      "Index:159 Conflict Ins/Del 'speaker_label': Participant\n",
      "    Index:160 Added words:2 Unmodified label:False\n",
      "Index:161 Speaker:Interviewer | conflict_speaker_label:Participant | last_correct_speaker_label:Interviewer\n",
      "Index:161 Conflict solved it was an comment inside a bigger segment of 'correct_speaker_label'\n",
      "\n",
      "Index:167 Conflict Ins/Del 'speaker_label': Interviewer\n",
      "    Index:168 Added words:7 Unmodified label:False\n",
      "Index:169 Speaker:Participant | conflict_speaker_label:Interviewer | last_correct_speaker_label:Participant\n",
      "Index:169 Conflict solved it was an comment inside a bigger segment of 'correct_speaker_label'\n",
      "\n",
      "Index:179 Conflict Ins/Del 'speaker_label': Interviewer\n",
      "    Index:180 Added words:1 Unmodified label:False\n",
      "Index:181 Speaker:Interviewer | conflict_speaker_label:Interviewer | last_correct_speaker_label:Participant\n",
      "Index:181 Conflict solved same speaker \n",
      "\n",
      "Index:185 Conflict Ins/Del 'speaker_label': Interviewer\n",
      "    Index:186 Added words:2 Unmodified label:False\n",
      "    Index:188 Added words:1 Unmodified label:False\n",
      "    Index:190 Added words:2 Unmodified label:False\n",
      "Index:191 Speaker:Participant | conflict_speaker_label:Interviewer | last_correct_speaker_label:Participant\n",
      "Index:191 Conflict solved it was an comment inside a bigger segment of 'correct_speaker_label'\n",
      "\n",
      "Index:193 Conflict Ins/Del 'speaker_label': Participant\n",
      "    Index:194 Added words:1 Unmodified label:False\n",
      "Index:195 Speaker:Interviewer | conflict_speaker_label:Participant | last_correct_speaker_label:Interviewer\n",
      "Index:195 Conflict solved it was an comment inside a bigger segment of 'correct_speaker_label'\n",
      "\n",
      "Index:205 Conflict Ins/Del 'speaker_label': Participant\n",
      "    Index:206 Added words:1 Unmodified label:False\n",
      "Index:207 Speaker:Interviewer | conflict_speaker_label:Participant | last_correct_speaker_label:Interviewer\n",
      "Index:207 Conflict solved it was an comment inside a bigger segment of 'correct_speaker_label'\n",
      "\n",
      "Index:215 Conflict Ins/Del 'speaker_label': Interviewer\n",
      "    Index:216 Added words:1 Unmodified label:False\n",
      "Index:217 Speaker:Participant | conflict_speaker_label:Interviewer | last_correct_speaker_label:Participant\n",
      "Index:217 Conflict solved it was an comment inside a bigger segment of 'correct_speaker_label'\n",
      "\n",
      "Index:229 Conflict Ins/Del 'speaker_label': Interviewer\n",
      "    Index:230 Added words:4 Unmodified label:False\n",
      "Index:231 Speaker:Interviewer | conflict_speaker_label:Interviewer | last_correct_speaker_label:Participant\n",
      "Index:231 Conflict solved same speaker \n",
      "\n",
      "Misassigned words: 246\n",
      "Total words reference: 6051\n",
      "Processed file: ADE_pilot_005_merged.txt\n",
      "Processing text file: ADE_pilot_006_merged.txt\n",
      "Index:7 Conflict Ins/Del 'speaker_label': Interviewer\n",
      "    Index:8 Added words:67 Unmodified label:True\n",
      "Index:8 Conflict solved found Unmodified 'speaker_label'\n",
      "\n",
      "Index:15 Conflict Ins/Del 'speaker_label': Participant\n",
      "    Index:16 Added words:1 Unmodified label:False\n",
      "Index:17 Speaker:Interviewer | conflict_speaker_label:Participant | last_correct_speaker_label:Interviewer\n",
      "Index:17 Conflict solved it was an comment inside a bigger segment of 'correct_speaker_label'\n",
      "\n",
      "Index:29 Conflict Ins/Del 'speaker_label': Interviewer\n",
      "    Index:30 Added words:6 Unmodified label:False\n",
      "Index:31 Speaker:Participant | conflict_speaker_label:Interviewer | last_correct_speaker_label:Participant\n",
      "Index:31 Conflict solved it was an comment inside a bigger segment of 'correct_speaker_label'\n",
      "\n",
      "Index:35 Conflict Sustitution 'speaker_label': None\n",
      ". Okay : [ Interviewer ]\n",
      "    Index:35 Added words:1 Unmodified label:True\n",
      "Index:35 Conflict solved just move some words with Sustitution'\n",
      "\n",
      "Index:57 Conflict Ins/Del 'speaker_label': Participant\n",
      "    Index:58 Added words:1 Unmodified label:False\n",
      "Index:59 Speaker:Interviewer | conflict_speaker_label:Participant | last_correct_speaker_label:Interviewer\n",
      "Index:59 Conflict solved it was an comment inside a bigger segment of 'correct_speaker_label'\n",
      "\n",
      "Index:61 Conflict Ins/Del 'speaker_label': Interviewer\n",
      "    Index:62 Added words:4 Unmodified label:False\n",
      "Index:63 Speaker:Participant | conflict_speaker_label:Interviewer | last_correct_speaker_label:Participant\n",
      "Index:63 Conflict solved it was an comment inside a bigger segment of 'correct_speaker_label'\n",
      "\n",
      "Index:67 Conflict Ins/Del 'speaker_label': Interviewer 2\n",
      "    Index:68 Added words:4 Unmodified label:True\n",
      "Index:68 Conflict solved found Unmodified 'speaker_label'\n",
      "\n",
      "Index:80 Conflict Ins/Del 'speaker_label': Participant\n",
      "    Index:81 Added words:12 Unmodified label:False\n",
      "    Index:83 Added words:11 Unmodified label:False\n",
      "    Index:85 Added words:6 Unmodified label:True\n",
      "Index:85 Conflict solved found Unmodified 'speaker_label'\n",
      "\n",
      "Index:110 Conflict Ins/Del 'speaker_label': Participant\n",
      "    Index:111 Added words:1 Unmodified label:False\n",
      "Index:112 Speaker:Interviewer | conflict_speaker_label:Participant | last_correct_speaker_label:Interviewer\n",
      "Index:112 Conflict solved it was an comment inside a bigger segment of 'correct_speaker_label'\n",
      "\n",
      "Index:118 Conflict Sustitution 'speaker_label': None\n",
      ". Yeah : [ Participant ] . Okay\n",
      "    Index:118 Added words:1 Unmodified label:True\n",
      "Index:118 Conflict solved just move some words with Sustitution'\n",
      "\n",
      "Index:120 Conflict Ins/Del 'speaker_label': Participant\n",
      "    Index:121 Added words:1 Unmodified label:False\n",
      "Index:122 Speaker:Interviewer | conflict_speaker_label:Participant | last_correct_speaker_label:Interviewer\n",
      "Index:122 Conflict solved it was an comment inside a bigger segment of 'correct_speaker_label'\n",
      "\n",
      "Index:126 Conflict Ins/Del 'speaker_label': Participant\n",
      "    Index:127 Added words:1 Unmodified label:False\n",
      "Index:128 Speaker:Interviewer | conflict_speaker_label:Participant | last_correct_speaker_label:Interviewer\n",
      "Index:128 Conflict solved it was an comment inside a bigger segment of 'correct_speaker_label'\n",
      "\n",
      "Index:132 Conflict Ins/Del 'speaker_label': Participant\n",
      "    Index:133 Added words:14 Unmodified label:True\n",
      "Index:133 Conflict solved found Unmodified 'speaker_label'\n",
      "\n",
      "Index:144 Conflict Ins/Del 'speaker_label': Interviewer\n",
      "    Index:145 Added words:4 Unmodified label:False\n",
      "Index:146 Speaker:Interviewer | conflict_speaker_label:Interviewer | last_correct_speaker_label:Interviewer\n",
      "Index:146 Conflict solved same speaker \n",
      "\n",
      "Index:148 Conflict Ins/Del 'speaker_label': Participant\n",
      "    Index:149 Added words:1 Unmodified label:False\n",
      "    Index:152 Added words:4 Unmodified label:True\n",
      "Index:152 Conflict solved found Unmodified 'speaker_label'\n",
      "\n",
      "Index:153 Conflict Sustitution 'speaker_label': None\n",
      ". Yeah : [ Participant ]\n",
      "    Index:153 Added words:1 Unmodified label:True\n",
      "Index:153 Conflict solved just move some words with Sustitution'\n",
      "\n",
      "Index:163 Conflict Sustitution 'speaker_label': None\n",
      ". Okay : [ Interviewer ]\n",
      "    Index:163 Added words:1 Unmodified label:True\n",
      "Index:163 Conflict solved just move some words with Sustitution'\n",
      "\n",
      "Index:171 Conflict Ins/Del 'speaker_label': Participant\n",
      "    Index:172 Added words:1 Unmodified label:False\n",
      "Index:173 Speaker:Interviewer | conflict_speaker_label:Participant | last_correct_speaker_label:Interviewer\n",
      "Index:173 Conflict solved it was an comment inside a bigger segment of 'correct_speaker_label'\n",
      "\n",
      "Index:175 Conflict Ins/Del 'speaker_label': Interviewer\n",
      "    Index:176 Added words:1 Unmodified label:False\n",
      "Index:177 Speaker:Interviewer | conflict_speaker_label:Interviewer | last_correct_speaker_label:Participant\n",
      "Index:177 Conflict solved same speaker \n",
      "\n",
      "Index:183 Conflict Sustitution 'speaker_label': None\n",
      ". Yeah : [ Participant ]\n",
      "    Index:183 Added words:1 Unmodified label:True\n",
      "Index:183 Conflict solved just move some words with Sustitution'\n",
      "\n",
      "Index:199 Conflict Ins/Del 'speaker_label': Participant\n",
      "    Index:200 Added words:3 Unmodified label:False\n",
      "Index:201 Speaker:Interviewer | conflict_speaker_label:Participant | last_correct_speaker_label:Interviewer\n",
      "Index:201 Conflict solved it was an comment inside a bigger segment of 'correct_speaker_label'\n",
      "\n",
      "Index:209 Conflict Sustitution 'speaker_label': None\n",
      ". Okay : [ Interviewer ]\n",
      "    Index:209 Added words:1 Unmodified label:True\n",
      "Index:209 Conflict solved just move some words with Sustitution'\n",
      "\n",
      "Index:211 Conflict Sustitution 'speaker_label': None\n",
      ". Okay : [ Interviewer ] . Yeah\n",
      "    Index:211 Added words:1 Unmodified label:True\n",
      "Index:211 Conflict solved just move some words with Sustitution'\n",
      "\n",
      "Index:217 Conflict Ins/Del 'speaker_label': Participant\n",
      "    Index:218 Added words:1 Unmodified label:False\n",
      "Index:219 Speaker:Interviewer | conflict_speaker_label:Participant | last_correct_speaker_label:Interviewer\n",
      "Index:219 Conflict solved it was an comment inside a bigger segment of 'correct_speaker_label'\n",
      "\n",
      "Index:231 Conflict Sustitution 'speaker_label': None\n",
      ". Yeah : [ Interviewer ]\n",
      "    Index:231 Added words:1 Unmodified label:True\n",
      "Index:231 Conflict solved just move some words with Sustitution'\n",
      "\n",
      "Index:247 Conflict Sustitution 'speaker_label': None\n",
      ". Okay : [ Interviewer ] . yeah , But\n",
      "    Index:247 Added words:1 Unmodified label:True\n",
      "Index:247 Conflict solved just move some words with Sustitution'\n",
      "\n",
      "Index:251 Conflict Sustitution 'speaker_label': None\n",
      ". Yeah : [ Interviewer ]\n",
      "    Index:251 Added words:1 Unmodified label:True\n",
      "Index:251 Conflict solved just move some words with Sustitution'\n",
      "\n",
      "Index:254 Conflict detected: 'text_ends_with_bracket\n",
      "    Speaker pred: Interviewer 2 ] : Okay . [ Interviewer 1 ] : | Speaker ref: Participant ] : Yeah . [ Interviewer ] : Okay .\n",
      "    Index:256 Added words:47 Unmodified label:True\n",
      "Index:256 Conflict solved found Unmodified 'speaker_label'\n",
      "\n",
      "Index:269 Conflict Ins/Del 'speaker_label': Participant\n",
      "    Index:270 Added words:19 Unmodified label:True\n",
      "Index:270 Conflict solved found Unmodified 'speaker_label'\n",
      "\n",
      "Index:281 Conflict Ins/Del 'speaker_label': Interviewer 2\n",
      "    Index:282 Added words:7 Unmodified label:False\n",
      "    Index:284 Added words:7 Unmodified label:False\n",
      "Misassigned words: 234\n",
      "Total words reference: 7461\n",
      "Processed file: ADE_pilot_006_merged.txt\n",
      "Processing text file: ADE_pilot_007_merged.txt\n",
      "Index:1 Conflict Ins/Del 'speaker_label': Interviewer 2\n",
      "    Index:2 Added words:1 Unmodified label:False\n",
      "Index:4 Speaker:Interviewer | conflict_speaker_label:Interviewer 2 | last_correct_speaker_label:Interviewer\n",
      "Index:4 Conflict solved it was an comment inside a bigger segment of 'correct_speaker_label'\n",
      "\n",
      "Index:16 Conflict Sustitution 'speaker_label': None\n",
      "So .\n",
      "    Index:16 Added words:1 Unmodified label:False\n",
      "Index:22 Conflict Ins/Del 'speaker_label': Interviewer\n",
      "    Index:23 Added words:10 Unmodified label:False\n",
      "Index:24 Speaker:Participant | conflict_speaker_label:Interviewer | last_correct_speaker_label:Participant\n",
      "Index:24 Conflict solved it was an comment inside a bigger segment of 'correct_speaker_label'\n",
      "\n",
      "Index:30 Conflict Sustitution 'speaker_label': None\n",
      "And\n",
      "    Index:30 Added words:1 Unmodified label:False\n",
      "Index:34 Conflict Ins/Del 'speaker_label': Participant\n",
      "    Index:35 Added words:5 Unmodified label:False\n",
      "Index:36 Speaker:Interviewer | conflict_speaker_label:Participant | last_correct_speaker_label:Interviewer\n",
      "Index:36 Conflict solved it was an comment inside a bigger segment of 'correct_speaker_label'\n",
      "\n",
      "Index:48 Conflict Ins/Del 'speaker_label': Interviewer\n",
      "    Index:49 Added words:7 Unmodified label:False\n",
      "Index:50 Speaker:Interviewer | conflict_speaker_label:Interviewer | last_correct_speaker_label:Participant\n",
      "Index:50 Conflict solved same speaker \n",
      "\n",
      "Index:52 Conflict Ins/Del 'speaker_label': Participant\n",
      "    Index:53 Added words:2 Unmodified label:False\n",
      "Index:54 Speaker:Interviewer | conflict_speaker_label:Participant | last_correct_speaker_label:Interviewer\n",
      "Index:54 Conflict solved it was an comment inside a bigger segment of 'correct_speaker_label'\n",
      "\n",
      "Index:58 Conflict Ins/Del 'speaker_label': Participant\n",
      "    Index:59 Added words:1 Unmodified label:False\n",
      "Index:60 Speaker:Interviewer | conflict_speaker_label:Participant | last_correct_speaker_label:Interviewer\n",
      "Index:60 Conflict solved it was an comment inside a bigger segment of 'correct_speaker_label'\n",
      "\n",
      "Index:62 Conflict Ins/Del 'speaker_label': Participant\n",
      "    Index:63 Added words:4 Unmodified label:False\n",
      "Index:64 Speaker:Interviewer | conflict_speaker_label:Participant | last_correct_speaker_label:Interviewer\n",
      "Index:64 Conflict solved it was an comment inside a bigger segment of 'correct_speaker_label'\n",
      "\n",
      "Index:68 Conflict Ins/Del 'speaker_label': Interviewer\n",
      "    Index:69 Added words:11 Unmodified label:False\n",
      "Index:70 Speaker:Participant | conflict_speaker_label:Interviewer | last_correct_speaker_label:Participant\n",
      "Index:70 Conflict solved it was an comment inside a bigger segment of 'correct_speaker_label'\n",
      "\n",
      "Index:72 Conflict Ins/Del 'speaker_label': Interviewer 2\n",
      "    Index:73 Added words:7 Unmodified label:True\n",
      "Index:73 Conflict solved found Unmodified 'speaker_label'\n",
      "\n",
      "Index:78 Conflict Ins/Del 'speaker_label': Interviewer\n",
      "    Index:79 Added words:4 Unmodified label:False\n",
      "Index:80 Speaker:Participant | conflict_speaker_label:Interviewer | last_correct_speaker_label:Participant\n",
      "Index:80 Conflict solved it was an comment inside a bigger segment of 'correct_speaker_label'\n",
      "\n",
      "Index:82 Conflict Ins/Del 'speaker_label': Interviewer\n",
      "    Index:83 Added words:0 Unmodified label:False\n",
      "Index:84 Speaker:Participant | conflict_speaker_label:Interviewer | last_correct_speaker_label:Participant\n",
      "Index:84 Conflict solved it was an comment inside a bigger segment of 'correct_speaker_label'\n",
      "\n",
      "Index:102 Conflict Ins/Del 'speaker_label': Interviewer\n",
      "    Index:103 Added words:2 Unmodified label:False\n",
      "    Index:105 Added words:1 Unmodified label:False\n",
      "    Index:107 Added words:0 Unmodified label:False\n",
      "Index:108 Speaker:Participant | conflict_speaker_label:Interviewer | last_correct_speaker_label:Participant\n",
      "Index:108 Conflict solved it was an comment inside a bigger segment of 'correct_speaker_label'\n",
      "\n",
      "Index:110 Conflict Ins/Del 'speaker_label': Interviewer\n",
      "    Index:111 Added words:1 Unmodified label:False\n",
      "Index:112 Speaker:Participant | conflict_speaker_label:Interviewer | last_correct_speaker_label:Participant\n",
      "Index:112 Conflict solved it was an comment inside a bigger segment of 'correct_speaker_label'\n",
      "\n",
      "Index:116 Conflict Ins/Del 'speaker_label': Participant\n",
      "    Index:117 Added words:6 Unmodified label:False\n",
      "Index:118 Speaker:Interviewer | conflict_speaker_label:Participant | last_correct_speaker_label:Interviewer\n",
      "Index:118 Conflict solved it was an comment inside a bigger segment of 'correct_speaker_label'\n",
      "\n",
      "Index:130 Conflict Ins/Del 'speaker_label': Interviewer\n",
      "    Index:131 Added words:3 Unmodified label:False\n",
      "Index:132 Speaker:Participant | conflict_speaker_label:Interviewer | last_correct_speaker_label:Participant\n",
      "Index:132 Conflict solved it was an comment inside a bigger segment of 'correct_speaker_label'\n",
      "\n",
      "Index:134 Conflict Ins/Del 'speaker_label': Interviewer\n",
      "    Index:135 Added words:17 Unmodified label:True\n",
      "Index:135 Conflict solved found Unmodified 'speaker_label'\n",
      "\n",
      "Index:138 Conflict Ins/Del 'speaker_label': Interviewer\n",
      "    Index:139 Added words:5 Unmodified label:False\n",
      "Index:140 Speaker:Participant | conflict_speaker_label:Interviewer | last_correct_speaker_label:Participant\n",
      "Index:140 Conflict solved it was an comment inside a bigger segment of 'correct_speaker_label'\n",
      "\n",
      "Index:144 Conflict Ins/Del 'speaker_label': Interviewer\n",
      "    Index:145 Added words:3 Unmodified label:True\n",
      "Index:145 Conflict solved found Unmodified 'speaker_label'\n",
      "\n",
      "Index:146 Conflict Ins/Del 'speaker_label': Participant\n",
      "    Index:147 Added words:2 Unmodified label:False\n",
      "Index:148 Speaker:Interviewer | conflict_speaker_label:Participant | last_correct_speaker_label:Interviewer\n",
      "Index:148 Conflict solved it was an comment inside a bigger segment of 'correct_speaker_label'\n",
      "\n",
      "Index:150 Conflict Ins/Del 'speaker_label': Participant\n",
      "    Index:151 Added words:2 Unmodified label:False\n",
      "Index:152 Speaker:Interviewer | conflict_speaker_label:Participant | last_correct_speaker_label:Interviewer\n",
      "Index:152 Conflict solved it was an comment inside a bigger segment of 'correct_speaker_label'\n",
      "\n",
      "Index:154 Conflict Ins/Del 'speaker_label': Participant\n",
      "    Index:155 Added words:2 Unmodified label:False\n",
      "Index:156 Speaker:Interviewer | conflict_speaker_label:Participant | last_correct_speaker_label:Interviewer\n",
      "Index:156 Conflict solved it was an comment inside a bigger segment of 'correct_speaker_label'\n",
      "\n",
      "Index:162 Conflict Ins/Del 'speaker_label': Interviewer\n",
      "    Index:163 Added words:16 Unmodified label:False\n",
      "Index:164 Speaker:Interviewer | conflict_speaker_label:Interviewer | last_correct_speaker_label:Participant\n",
      "Index:164 Conflict solved same speaker \n",
      "\n",
      "Index:168 Conflict Ins/Del 'speaker_label': Interviewer\n",
      "    Index:169 Added words:1 Unmodified label:False\n",
      "Index:170 Speaker:Interviewer | conflict_speaker_label:Interviewer | last_correct_speaker_label:Participant\n",
      "Index:170 Conflict solved same speaker \n",
      "\n",
      "Index:172 Conflict Ins/Del 'speaker_label': Interviewer\n",
      "    Index:173 Added words:12 Unmodified label:False\n",
      "Index:174 Speaker:Interviewer | conflict_speaker_label:Interviewer | last_correct_speaker_label:Participant\n",
      "Index:174 Conflict solved same speaker \n",
      "\n",
      "Index:178 Conflict Ins/Del 'speaker_label': Interviewer 2\n",
      "    Index:179 Added words:1 Unmodified label:False\n",
      "Index:180 Speaker:Interviewer | conflict_speaker_label:Interviewer 2 | last_correct_speaker_label:Interviewer\n",
      "Index:180 Conflict solved it was an comment inside a bigger segment of 'correct_speaker_label'\n",
      "\n",
      "Misassigned words: 128\n",
      "Total words reference: 9491\n",
      "Processed file: ADE_pilot_007_merged.txt\n",
      "Processing text file: ADE_pilot_008_merged.txt\n",
      "Index:0 Conflict Ins/Del 'speaker_label': Participant\n",
      "    Index:1 Added words:0 Unmodified label:True\n",
      "Index:1 Conflict solved found Unmodified 'speaker_label'\n",
      "\n",
      "Index:154 Conflict Sustitution 'speaker_label': None\n",
      "or\n",
      "    Index:154 Added words:1 Unmodified label:False\n",
      "Index:156 Conflict Ins/Del 'speaker_label': Participant\n",
      "    Index:157 Added words:7 Unmodified label:False\n",
      "    Index:159 Added words:22 Unmodified label:False\n",
      "    Index:161 Added words:111 Unmodified label:False\n",
      "Index:162 Speaker:Interviewer | conflict_speaker_label:Participant | last_correct_speaker_label:Interviewer\n",
      "Index:162 Conflict solved it was an comment inside a bigger segment of 'correct_speaker_label'\n",
      "\n",
      "Index:164 Conflict Ins/Del 'speaker_label': Participant\n",
      "    Index:165 Added words:49 Unmodified label:False\n",
      "    Index:167 Added words:30 Unmodified label:False\n",
      "    Index:169 Added words:7 Unmodified label:False\n",
      "    Index:171 Added words:42 Unmodified label:True\n",
      "Index:171 Conflict solved found Unmodified 'speaker_label'\n",
      "\n",
      "Index:184 Conflict Ins/Del 'speaker_label': Interviewer\n",
      "    Index:185 Added words:8 Unmodified label:False\n",
      "Index:186 Speaker:Participant | conflict_speaker_label:Interviewer | last_correct_speaker_label:Participant\n",
      "Index:186 Conflict solved it was an comment inside a bigger segment of 'correct_speaker_label'\n",
      "\n",
      "Misassigned words: 277\n",
      "Total words reference: 14198\n",
      "Processed file: ADE_pilot_008_merged.txt\n",
      "Processing text file: ADE_pilot_009_merged.txt\n",
      "Index:1 Conflict Ins/Del 'speaker_label': Participant\n",
      "    Index:2 Added words:1 Unmodified label:False\n",
      "Index:3 Speaker:Participant | conflict_speaker_label:Participant | last_correct_speaker_label:Interviewer\n",
      "Index:3 Conflict solved same speaker \n",
      "\n",
      "Index:11 Conflict Ins/Del 'speaker_label': Interviewer\n",
      "    Index:12 Added words:1 Unmodified label:False\n",
      "Index:13 Speaker:Interviewer | conflict_speaker_label:Interviewer | last_correct_speaker_label:Participant\n",
      "Index:13 Conflict solved same speaker \n",
      "\n",
      "Index:19 Conflict Ins/Del 'speaker_label': Interviewer\n",
      "    Index:20 Added words:2 Unmodified label:False\n",
      "Index:21 Speaker:Interviewer | conflict_speaker_label:Interviewer | last_correct_speaker_label:Participant\n",
      "Index:21 Conflict solved same speaker \n",
      "\n",
      "Index:23 Conflict Ins/Del 'speaker_label': Participant\n",
      "    Index:24 Added words:5 Unmodified label:False\n",
      "Index:25 Speaker:Interviewer | conflict_speaker_label:Participant | last_correct_speaker_label:Participant\n",
      "    Index:26 Added words:18 Unmodified label:True\n",
      "Index:26 Conflict solved found Unmodified 'speaker_label'\n",
      "\n",
      "Index:33 Conflict Ins/Del 'speaker_label': Interviewer\n",
      "    Index:34 Added words:5 Unmodified label:False\n",
      "Index:35 Speaker:Interviewer | conflict_speaker_label:Interviewer | last_correct_speaker_label:Participant\n",
      "Index:35 Conflict solved same speaker \n",
      "\n",
      "Index:37 Conflict Ins/Del 'speaker_label': Participant\n",
      "    Index:38 Added words:1 Unmodified label:False\n",
      "Index:39 Speaker:Interviewer | conflict_speaker_label:Participant | last_correct_speaker_label:Participant\n",
      "    Index:40 Added words:21 Unmodified label:True\n",
      "Index:40 Conflict solved found Unmodified 'speaker_label'\n",
      "\n",
      "Index:41 Conflict Ins/Del 'speaker_label': Interviewer\n",
      "    Index:42 Added words:6 Unmodified label:False\n",
      "Index:43 Speaker:Participant | conflict_speaker_label:Interviewer | last_correct_speaker_label:Participant\n",
      "Index:43 Conflict solved it was an comment inside a bigger segment of 'correct_speaker_label'\n",
      "\n",
      "Index:45 Conflict Sustitution 'speaker_label': None\n",
      ". Yeah : [ Interviewer ]\n",
      "    Index:45 Added words:1 Unmodified label:True\n",
      "Index:45 Conflict solved just move some words with Sustitution'\n",
      "\n",
      "Index:61 Conflict Ins/Del 'speaker_label': Interviewer\n",
      "    Index:62 Added words:3 Unmodified label:False\n",
      "Index:63 Speaker:Interviewer | conflict_speaker_label:Interviewer | last_correct_speaker_label:Participant\n",
      "Index:63 Conflict solved same speaker \n",
      "\n",
      "Index:75 Conflict Ins/Del 'speaker_label': Interviewer\n",
      "    Index:76 Added words:3 Unmodified label:False\n",
      "Index:77 Speaker:Interviewer | conflict_speaker_label:Interviewer | last_correct_speaker_label:Participant\n",
      "Index:77 Conflict solved same speaker \n",
      "\n",
      "Index:85 Conflict Ins/Del 'speaker_label': Participant\n",
      "    Index:86 Added words:3 Unmodified label:False\n",
      "Index:87 Speaker:Interviewer | conflict_speaker_label:Participant | last_correct_speaker_label:Interviewer\n",
      "Index:87 Conflict solved it was an comment inside a bigger segment of 'correct_speaker_label'\n",
      "\n",
      "Index:91 Conflict Ins/Del 'speaker_label': Interviewer\n",
      "    Index:92 Added words:2 Unmodified label:False\n",
      "Index:93 Speaker:Participant | conflict_speaker_label:Interviewer | last_correct_speaker_label:Participant\n",
      "Index:93 Conflict solved it was an comment inside a bigger segment of 'correct_speaker_label'\n",
      "\n",
      "Index:97 Conflict Ins/Del 'speaker_label': Interviewer\n",
      "    Index:98 Added words:1 Unmodified label:False\n",
      "Index:99 Speaker:Interviewer | conflict_speaker_label:Interviewer | last_correct_speaker_label:Participant\n",
      "Index:99 Conflict solved same speaker \n",
      "\n",
      "Index:102 Conflict Ins/Del 'speaker_label': Interviewer\n",
      "    Index:103 Added words:1 Unmodified label:False\n",
      "Index:104 Speaker:Participant | conflict_speaker_label:Interviewer | last_correct_speaker_label:Participant\n",
      "Index:104 Conflict solved it was an comment inside a bigger segment of 'correct_speaker_label'\n",
      "\n",
      "Index:110 Conflict Ins/Del 'speaker_label': Interviewer\n",
      "    Index:111 Added words:1 Unmodified label:False\n",
      "Index:112 Speaker:Participant | conflict_speaker_label:Interviewer | last_correct_speaker_label:Participant\n",
      "Index:112 Conflict solved it was an comment inside a bigger segment of 'correct_speaker_label'\n",
      "\n",
      "Index:122 Conflict Ins/Del 'speaker_label': Interviewer\n",
      "    Index:123 Added words:1 Unmodified label:False\n",
      "Index:124 Speaker:Participant | conflict_speaker_label:Interviewer | last_correct_speaker_label:Participant\n",
      "Index:124 Conflict solved it was an comment inside a bigger segment of 'correct_speaker_label'\n",
      "\n",
      "Index:126 Conflict Ins/Del 'speaker_label': Interviewer\n",
      "    Index:127 Added words:2 Unmodified label:False\n",
      "Index:128 Speaker:Participant | conflict_speaker_label:Interviewer | last_correct_speaker_label:Participant\n",
      "Index:128 Conflict solved it was an comment inside a bigger segment of 'correct_speaker_label'\n",
      "\n",
      "Index:130 Conflict Ins/Del 'speaker_label': Interviewer\n",
      "    Index:131 Added words:5 Unmodified label:False\n",
      "Index:132 Speaker:Participant | conflict_speaker_label:Interviewer | last_correct_speaker_label:Participant\n",
      "Index:132 Conflict solved it was an comment inside a bigger segment of 'correct_speaker_label'\n",
      "\n",
      "Index:136 Conflict Ins/Del 'speaker_label': Interviewer\n",
      "    Index:137 Added words:6 Unmodified label:False\n",
      "Index:138 Speaker:Interviewer | conflict_speaker_label:Interviewer | last_correct_speaker_label:Participant\n",
      "Index:138 Conflict solved same speaker \n",
      "\n",
      "Index:140 Conflict Ins/Del 'speaker_label': Participant\n",
      "    Index:141 Added words:1 Unmodified label:False\n",
      "Index:142 Speaker:Participant | conflict_speaker_label:Participant | last_correct_speaker_label:Participant\n",
      "Index:142 Conflict solved same speaker \n",
      "\n",
      "Index:144 Conflict Ins/Del 'speaker_label': Interviewer\n",
      "    Index:145 Added words:4 Unmodified label:False\n",
      "Index:146 Speaker:Participant | conflict_speaker_label:Interviewer | last_correct_speaker_label:Participant\n",
      "Index:146 Conflict solved it was an comment inside a bigger segment of 'correct_speaker_label'\n",
      "\n",
      "Index:148 Conflict Ins/Del 'speaker_label': Interviewer\n",
      "    Index:149 Added words:8 Unmodified label:False\n",
      "    Index:151 Added words:2 Unmodified label:False\n",
      "    Index:153 Added words:4 Unmodified label:False\n",
      "    Index:155 Added words:9 Unmodified label:True\n",
      "Index:155 Conflict solved found Unmodified 'speaker_label'\n",
      "\n",
      "Index:172 Conflict Ins/Del 'speaker_label': Interviewer\n",
      "    Index:173 Added words:1 Unmodified label:False\n",
      "Index:174 Speaker:Interviewer | conflict_speaker_label:Interviewer | last_correct_speaker_label:Participant\n",
      "Index:174 Conflict solved same speaker \n",
      "\n",
      "Index:178 Conflict Ins/Del 'speaker_label': Interviewer\n",
      "    Index:179 Added words:2 Unmodified label:False\n",
      "Index:180 Speaker:Participant | conflict_speaker_label:Interviewer | last_correct_speaker_label:Participant\n",
      "Index:180 Conflict solved it was an comment inside a bigger segment of 'correct_speaker_label'\n",
      "\n",
      "Index:184 Conflict Sustitution 'speaker_label': None\n",
      ". Yeah : [ Interviewer ]\n",
      "    Index:184 Added words:1 Unmodified label:True\n",
      "Index:184 Conflict solved just move some words with Sustitution'\n",
      "\n",
      "Index:190 Conflict Ins/Del 'speaker_label': Interviewer\n",
      "    Index:191 Added words:4 Unmodified label:False\n",
      "Index:192 Speaker:Interviewer | conflict_speaker_label:Interviewer | last_correct_speaker_label:Participant\n",
      "Index:192 Conflict solved same speaker \n",
      "\n",
      "Index:206 Conflict Ins/Del 'speaker_label': Interviewer\n",
      "    Index:207 Added words:5 Unmodified label:False\n",
      "Index:208 Speaker:Participant | conflict_speaker_label:Interviewer | last_correct_speaker_label:Participant\n",
      "Index:208 Conflict solved it was an comment inside a bigger segment of 'correct_speaker_label'\n",
      "\n",
      "Index:210 Conflict Ins/Del 'speaker_label': Participant\n",
      "    Index:211 Added words:6 Unmodified label:False\n",
      "    Index:213 Added words:4 Unmodified label:False\n",
      "Index:214 Speaker:Participant | conflict_speaker_label:Participant | last_correct_speaker_label:Interviewer\n",
      "Index:214 Conflict solved same speaker \n",
      "\n",
      "Index:218 Conflict Ins/Del 'speaker_label': Interviewer\n",
      "    Index:219 Added words:4 Unmodified label:False\n",
      "Index:220 Speaker:Interviewer | conflict_speaker_label:Interviewer | last_correct_speaker_label:Participant\n",
      "Index:220 Conflict solved same speaker \n",
      "\n",
      "Index:222 Conflict Ins/Del 'speaker_label': Interviewer\n",
      "    Index:223 Added words:3 Unmodified label:False\n",
      "Index:224 Speaker:Participant | conflict_speaker_label:Interviewer | last_correct_speaker_label:Participant\n",
      "Index:224 Conflict solved it was an comment inside a bigger segment of 'correct_speaker_label'\n",
      "\n",
      "Index:240 Conflict Sustitution 'speaker_label': None\n",
      "Yeah : [ Participant ]\n",
      "    Index:240 Added words:1 Unmodified label:True\n",
      "Index:240 Conflict solved just move some words with Sustitution'\n",
      "\n",
      "Index:242 Conflict Ins/Del 'speaker_label': Participant\n",
      "    Index:243 Added words:6 Unmodified label:False\n",
      "Index:244 Speaker:Interviewer | conflict_speaker_label:Participant | last_correct_speaker_label:Interviewer\n",
      "Index:244 Conflict solved it was an comment inside a bigger segment of 'correct_speaker_label'\n",
      "\n",
      "Index:246 Conflict Ins/Del 'speaker_label': Interviewer\n",
      "    Index:247 Added words:12 Unmodified label:False\n",
      "Index:248 Speaker:Interviewer | conflict_speaker_label:Interviewer | last_correct_speaker_label:Participant\n",
      "Index:248 Conflict solved same speaker \n",
      "\n",
      "Index:250 Conflict Ins/Del 'speaker_label': Participant\n",
      "    Index:251 Added words:11 Unmodified label:False\n",
      "Index:252 Speaker:Participant | conflict_speaker_label:Participant | last_correct_speaker_label:Participant\n",
      "Index:252 Conflict solved same speaker \n",
      "\n",
      "Index:256 Conflict Ins/Del 'speaker_label': Interviewer\n",
      "    Index:257 Added words:3 Unmodified label:False\n",
      "Index:258 Speaker:Interviewer | conflict_speaker_label:Interviewer | last_correct_speaker_label:Participant\n",
      "Index:258 Conflict solved same speaker \n",
      "\n",
      "Index:260 Conflict Ins/Del 'speaker_label': Participant\n",
      "    Index:261 Added words:2 Unmodified label:False\n",
      "Index:262 Speaker:Interviewer | conflict_speaker_label:Participant | last_correct_speaker_label:Interviewer\n",
      "Index:262 Conflict solved it was an comment inside a bigger segment of 'correct_speaker_label'\n",
      "\n",
      "Index:266 Conflict Ins/Del 'speaker_label': Participant\n",
      "    Index:267 Added words:2 Unmodified label:False\n",
      "Index:268 Speaker:Interviewer | conflict_speaker_label:Participant | last_correct_speaker_label:Interviewer\n",
      "Index:268 Conflict solved it was an comment inside a bigger segment of 'correct_speaker_label'\n",
      "\n",
      "Index:270 Conflict Ins/Del 'speaker_label': Interviewer\n",
      "    Index:271 Added words:3 Unmodified label:False\n",
      "Index:272 Speaker:Participant | conflict_speaker_label:Interviewer | last_correct_speaker_label:Participant\n",
      "Index:272 Conflict solved it was an comment inside a bigger segment of 'correct_speaker_label'\n",
      "\n",
      "Misassigned words: 187\n",
      "Total words reference: 10642\n",
      "Processed file: ADE_pilot_009_merged.txt\n",
      "Processing text file: ADE_pilot_012_merged.txt\n",
      "Index:1 Conflict Ins/Del 'speaker_label': Interviewer\n",
      "    Index:2 Added words:3 Unmodified label:False\n",
      "Index:3 Speaker:Participant | conflict_speaker_label:Interviewer | last_correct_speaker_label:Participant\n",
      "Index:3 Conflict solved it was an comment inside a bigger segment of 'correct_speaker_label'\n",
      "\n",
      "Index:49 Conflict Ins/Del 'speaker_label': Interviewer\n",
      "    Index:50 Added words:4 Unmodified label:False\n",
      "Index:51 Speaker:Participant | conflict_speaker_label:Interviewer | last_correct_speaker_label:Participant\n",
      "Index:51 Conflict solved it was an comment inside a bigger segment of 'correct_speaker_label'\n",
      "\n",
      "Index:213 Conflict Ins/Del 'speaker_label': Interviewer\n",
      "    Index:214 Added words:2 Unmodified label:False\n",
      "Index:216 Speaker:Participant | conflict_speaker_label:Interviewer | last_correct_speaker_label:Participant\n",
      "Index:216 Conflict solved it was an comment inside a bigger segment of 'correct_speaker_label'\n",
      "\n",
      "Index:384 Conflict Ins/Del 'speaker_label': Interviewer\n",
      "    Index:385 Added words:4 Unmodified label:False\n",
      "Index:386 Speaker:Participant | conflict_speaker_label:Interviewer | last_correct_speaker_label:Participant\n",
      "Index:386 Conflict solved it was an comment inside a bigger segment of 'correct_speaker_label'\n",
      "\n",
      "Index:422 Conflict Ins/Del 'speaker_label': Interviewer\n",
      "    Index:423 Added words:1 Unmodified label:False\n",
      "Index:425 Speaker:Participant | conflict_speaker_label:Interviewer | last_correct_speaker_label:Participant\n",
      "Index:425 Conflict solved it was an comment inside a bigger segment of 'correct_speaker_label'\n",
      "\n",
      "Misassigned words: 14\n",
      "Total words reference: 23336\n",
      "Processed file: ADE_pilot_012_merged.txt\n"
     ]
    }
   ],
   "source": [
    "prediction_folder = \"../evaluation/grief_text\"\n",
    "reference_folder = \"../Dataset/grief_transcripts/text_corrected\"\n",
    "\n",
    "metric = process_folder_text(prediction_folder, reference_folder,dir_visual=\"grief_visual\")\n",
    "metric.to_csv('../evaluation/grief_metrics.csv', index=False)"
   ]
  },
  {
   "cell_type": "code",
   "execution_count": 9,
   "metadata": {},
   "outputs": [],
   "source": [
    "from utils.text_html import process_html_text"
   ]
  },
  {
   "cell_type": "code",
   "execution_count": 42,
   "metadata": {},
   "outputs": [
    {
     "name": "stdout",
     "output_type": "stream",
     "text": [
      "Index:1 Conflict Ins/Del 'speaker_label': Interviewer 2\n",
      "    Index:2 Added words:1 Unmodified label:False\n",
      "Index:4 Speaker:Interviewer | conflict_speaker_label:Interviewer 2 | last_correct_speaker_label:Interviewer\n",
      "Index:4 Conflict solved it was an comment inside a bigger segment of 'correct_speaker_label'\n",
      "\n",
      "Index:16 Conflict Sustitution 'speaker_label': None\n",
      "So .\n",
      "    Index:16 Added words:1 Unmodified label:False\n",
      "Index:22 Conflict Ins/Del 'speaker_label': Interviewer\n",
      "    Index:23 Added words:10 Unmodified label:False\n",
      "Index:24 Speaker:Participant | conflict_speaker_label:Interviewer | last_correct_speaker_label:Participant\n",
      "Index:24 Conflict solved it was an comment inside a bigger segment of 'correct_speaker_label'\n",
      "\n",
      "Index:30 Conflict Sustitution 'speaker_label': None\n",
      "And\n",
      "    Index:30 Added words:1 Unmodified label:False\n",
      "Index:34 Conflict Ins/Del 'speaker_label': Participant\n",
      "    Index:35 Added words:5 Unmodified label:False\n",
      "Index:36 Speaker:Interviewer | conflict_speaker_label:Participant | last_correct_speaker_label:Interviewer\n",
      "Index:36 Conflict solved it was an comment inside a bigger segment of 'correct_speaker_label'\n",
      "\n",
      "Index:48 Conflict Ins/Del 'speaker_label': Interviewer\n",
      "    Index:49 Added words:7 Unmodified label:False\n",
      "Index:50 Speaker:Interviewer | conflict_speaker_label:Interviewer | last_correct_speaker_label:Participant\n",
      "Index:50 Conflict solved same speaker \n",
      "\n",
      "Index:52 Conflict Ins/Del 'speaker_label': Participant\n",
      "    Index:53 Added words:2 Unmodified label:False\n",
      "Index:54 Speaker:Interviewer | conflict_speaker_label:Participant | last_correct_speaker_label:Interviewer\n",
      "Index:54 Conflict solved it was an comment inside a bigger segment of 'correct_speaker_label'\n",
      "\n",
      "Index:58 Conflict Ins/Del 'speaker_label': Participant\n",
      "    Index:59 Added words:1 Unmodified label:False\n",
      "Index:60 Speaker:Interviewer | conflict_speaker_label:Participant | last_correct_speaker_label:Interviewer\n",
      "Index:60 Conflict solved it was an comment inside a bigger segment of 'correct_speaker_label'\n",
      "\n",
      "Index:62 Conflict Ins/Del 'speaker_label': Participant\n",
      "    Index:63 Added words:4 Unmodified label:False\n",
      "Index:64 Speaker:Interviewer | conflict_speaker_label:Participant | last_correct_speaker_label:Interviewer\n",
      "Index:64 Conflict solved it was an comment inside a bigger segment of 'correct_speaker_label'\n",
      "\n",
      "Index:68 Conflict Ins/Del 'speaker_label': Interviewer\n",
      "    Index:69 Added words:11 Unmodified label:False\n",
      "Index:70 Speaker:Participant | conflict_speaker_label:Interviewer | last_correct_speaker_label:Participant\n",
      "Index:70 Conflict solved it was an comment inside a bigger segment of 'correct_speaker_label'\n",
      "\n",
      "Index:72 Conflict Ins/Del 'speaker_label': Interviewer 2\n",
      "    Index:73 Added words:7 Unmodified label:True\n",
      "Index:73 Conflict solved found Unmodified 'speaker_label'\n",
      "\n",
      "Index:78 Conflict Ins/Del 'speaker_label': Interviewer\n",
      "    Index:79 Added words:4 Unmodified label:False\n",
      "Index:80 Speaker:Participant | conflict_speaker_label:Interviewer | last_correct_speaker_label:Participant\n",
      "Index:80 Conflict solved it was an comment inside a bigger segment of 'correct_speaker_label'\n",
      "\n",
      "Index:82 Conflict Ins/Del 'speaker_label': Interviewer\n",
      "    Index:83 Added words:0 Unmodified label:False\n",
      "Index:84 Speaker:Participant | conflict_speaker_label:Interviewer | last_correct_speaker_label:Participant\n",
      "Index:84 Conflict solved it was an comment inside a bigger segment of 'correct_speaker_label'\n",
      "\n",
      "Index:102 Conflict Ins/Del 'speaker_label': Interviewer\n",
      "    Index:103 Added words:2 Unmodified label:False\n",
      "    Index:105 Added words:1 Unmodified label:False\n",
      "    Index:107 Added words:0 Unmodified label:False\n",
      "Index:108 Speaker:Participant | conflict_speaker_label:Interviewer | last_correct_speaker_label:Participant\n",
      "Index:108 Conflict solved it was an comment inside a bigger segment of 'correct_speaker_label'\n",
      "\n",
      "Index:110 Conflict Ins/Del 'speaker_label': Interviewer\n",
      "    Index:111 Added words:1 Unmodified label:False\n",
      "Index:112 Speaker:Participant | conflict_speaker_label:Interviewer | last_correct_speaker_label:Participant\n",
      "Index:112 Conflict solved it was an comment inside a bigger segment of 'correct_speaker_label'\n",
      "\n",
      "Index:116 Conflict Ins/Del 'speaker_label': Participant\n",
      "    Index:117 Added words:6 Unmodified label:False\n",
      "Index:118 Speaker:Interviewer | conflict_speaker_label:Participant | last_correct_speaker_label:Interviewer\n",
      "Index:118 Conflict solved it was an comment inside a bigger segment of 'correct_speaker_label'\n",
      "\n",
      "Index:130 Conflict Ins/Del 'speaker_label': Interviewer\n",
      "    Index:131 Added words:3 Unmodified label:False\n",
      "Index:132 Speaker:Participant | conflict_speaker_label:Interviewer | last_correct_speaker_label:Participant\n",
      "Index:132 Conflict solved it was an comment inside a bigger segment of 'correct_speaker_label'\n",
      "\n",
      "Index:134 Conflict Ins/Del 'speaker_label': Interviewer\n",
      "    Index:135 Added words:17 Unmodified label:True\n",
      "Index:135 Conflict solved found Unmodified 'speaker_label'\n",
      "\n",
      "Index:138 Conflict Ins/Del 'speaker_label': Interviewer\n",
      "    Index:139 Added words:5 Unmodified label:False\n",
      "Index:140 Speaker:Participant | conflict_speaker_label:Interviewer | last_correct_speaker_label:Participant\n",
      "Index:140 Conflict solved it was an comment inside a bigger segment of 'correct_speaker_label'\n",
      "\n",
      "Index:144 Conflict Ins/Del 'speaker_label': Interviewer\n",
      "    Index:145 Added words:3 Unmodified label:True\n",
      "Index:145 Conflict solved found Unmodified 'speaker_label'\n",
      "\n",
      "Index:146 Conflict Ins/Del 'speaker_label': Participant\n",
      "    Index:147 Added words:2 Unmodified label:False\n",
      "Index:148 Speaker:Interviewer | conflict_speaker_label:Participant | last_correct_speaker_label:Interviewer\n",
      "Index:148 Conflict solved it was an comment inside a bigger segment of 'correct_speaker_label'\n",
      "\n",
      "Index:150 Conflict Ins/Del 'speaker_label': Participant\n",
      "    Index:151 Added words:2 Unmodified label:False\n",
      "Index:152 Speaker:Interviewer | conflict_speaker_label:Participant | last_correct_speaker_label:Interviewer\n",
      "Index:152 Conflict solved it was an comment inside a bigger segment of 'correct_speaker_label'\n",
      "\n",
      "Index:154 Conflict Ins/Del 'speaker_label': Participant\n",
      "    Index:155 Added words:2 Unmodified label:False\n",
      "Index:156 Speaker:Interviewer | conflict_speaker_label:Participant | last_correct_speaker_label:Interviewer\n",
      "Index:156 Conflict solved it was an comment inside a bigger segment of 'correct_speaker_label'\n",
      "\n",
      "Index:162 Conflict Ins/Del 'speaker_label': Interviewer\n",
      "    Index:163 Added words:16 Unmodified label:False\n",
      "Index:164 Speaker:Interviewer | conflict_speaker_label:Interviewer | last_correct_speaker_label:Participant\n",
      "Index:164 Conflict solved same speaker \n",
      "\n",
      "Index:168 Conflict Ins/Del 'speaker_label': Interviewer\n",
      "    Index:169 Added words:1 Unmodified label:False\n",
      "Index:170 Speaker:Interviewer | conflict_speaker_label:Interviewer | last_correct_speaker_label:Participant\n",
      "Index:170 Conflict solved same speaker \n",
      "\n",
      "Index:172 Conflict Ins/Del 'speaker_label': Interviewer\n",
      "    Index:173 Added words:12 Unmodified label:False\n",
      "Index:174 Speaker:Interviewer | conflict_speaker_label:Interviewer | last_correct_speaker_label:Participant\n",
      "Index:174 Conflict solved same speaker \n",
      "\n",
      "Index:178 Conflict Ins/Del 'speaker_label': Interviewer 2\n",
      "    Index:179 Added words:1 Unmodified label:False\n",
      "Index:180 Speaker:Interviewer | conflict_speaker_label:Interviewer 2 | last_correct_speaker_label:Interviewer\n",
      "Index:180 Conflict solved it was an comment inside a bigger segment of 'correct_speaker_label'\n",
      "\n",
      "Misassigned words: 128\n",
      "Total words reference: 9491\n"
     ]
    }
   ],
   "source": [
    "DER, misassigned_count ,chunked_result = process_html_text(\"../evaluation/grief_text/grief_visual/ADE_pilot_007_merged_DER_support.html\",9491, return_chunked_result=True)"
   ]
  },
  {
   "cell_type": "code",
   "execution_count": 40,
   "metadata": {},
   "outputs": [
    {
     "data": {
      "text/plain": [
       "(0.027815825518912655, 264)"
      ]
     },
     "execution_count": 40,
     "metadata": {},
     "output_type": "execute_result"
    }
   ],
   "source": [
    "DER, misassigned_count"
   ]
  },
  {
   "cell_type": "code",
   "execution_count": 44,
   "metadata": {},
   "outputs": [
    {
     "name": "stdout",
     "output_type": "stream",
     "text": [
      "Chunk 14:\n",
      "  Content: '<span style=\"background-color: yellow;\"><s>here</s> → ill</span>'\n",
      "  Type:    span\n",
      "Speaker Label: None\n",
      "  Extra:   sub\n",
      "--------------------------------------------------\n",
      "Chunk 15:\n",
      "  Content: \"for a long time . And also with Alzheimer 's you lose contact with the person , you do n't recognize it anymore , so it 's kind of like ... I was n't super sad , I was mostly maybe sad for my mom . And then , but it was , so , like , the funeral was nice , because , like , we got her all together , all the family , and we had a good time , and we had also lunch together\"\n",
      "  Type:    text\n",
      "Speaker Label: None\n",
      "  Extra:   None\n",
      "--------------------------------------------------\n",
      "Chunk 16:\n",
      "  Content: '<span style=\"background-color: yellow;\"><s>, . [ Interviewer ] : And . [ Participant ] : So I \\'d</s> → . So</span>'\n",
      "  Type:    span\n",
      "Speaker Label: True\n",
      "  Extra:   sub\n",
      "--------------------------------------------------\n",
      "Chunk 17:\n",
      "  Content: \"like to celebrate her , but , yeah , I had , like , I was really close with her , like , when she was , she was fine , but then , of course , like , after she got to a point where she could n't , like , now she could like even recognize like the person around her yeah and so it was a bit uh I like sentimentally detached from her like it was a long time before she died . So when she died it was also like a bit of relief because like uh for my mom\"\n",
      "  Type:    text\n",
      "Speaker Label: None\n",
      "  Extra:   None\n",
      "--------------------------------------------------\n",
      "Chunk 18:\n",
      "  Content: '<span style=\"background-color: lightgreen;\">,</span>'\n",
      "  Type:    span\n",
      "Speaker Label: None\n",
      "  Extra:   ins\n",
      "--------------------------------------------------\n",
      "Chunk 19:\n",
      "  Content: \"her sister was really a struggle to to stay behind her and to just like care for her because she she always stayed at home . So at her home not with my mom or any other but still like with people carrying like taking care of her like during the night during the day and then coordinating all those people and they had to take vacation and you need to find replacement and then of course you need to go there and your mom does n't recognize you . So it 's so it was\"\n",
      "  Type:    text\n",
      "Speaker Label: None\n",
      "  Extra:   None\n",
      "--------------------------------------------------\n",
      "Chunk 20:\n",
      "  Content: '<span style=\"background-color: yellow;\"><s>really forced</s> → a relief also</span>'\n",
      "  Type:    span\n",
      "Speaker Label: None\n",
      "  Extra:   sub\n",
      "--------------------------------------------------\n",
      "Chunk 21:\n",
      "  Content: \"for my mom let 's say and at the end of the day and so yeah\"\n",
      "  Type:    text\n",
      "Speaker Label: None\n",
      "  Extra:   None\n",
      "--------------------------------------------------\n",
      "Chunk 22:\n",
      "  Content: '<span style=\"background-color: lightgreen;\">[ Interviewer ] :</span>'\n",
      "  Type:    span\n",
      "Speaker Label: True\n",
      "  Extra:   ins\n",
      "--------------------------------------------------\n",
      "Chunk 23:\n",
      "  Content: \"Yeah , Alzheimer 's is really , really hard in this way .\"\n",
      "  Type:    text\n",
      "Speaker Label: None\n",
      "  Extra:   None\n",
      "--------------------------------------------------\n",
      "Chunk 24:\n",
      "  Content: '<span style=\"background-color: lightgreen;\">[ Participant ] :</span>'\n",
      "  Type:    span\n",
      "Speaker Label: True\n",
      "  Extra:   ins\n",
      "--------------------------------------------------\n",
      "Chunk 25:\n",
      "  Content: \"Yeah . Yeah . [ Interviewer ] : Can you tell me more about the funeral that you had for her and like the celebration you experienced with your family ? [ Participant ] : Yes , so I came back and yeah , we had the funeral like in a church , Catholic church . And then after that , we went for lunch all together . So I have a part of the family is from France as well , from Bordeaux . So they also came from France . So it 's always nice , you know , to see them because I do n't see them very often . So , I mean , the vibe was good during the lunch and there was no sadness , you know , just like we 're all together as a family . And we just stayed there until , I do n't know , I do n't remember now , but there was n't like sadness , you know , in the air . It was just like ... [ Interviewer ] : Happy to be together and when you had the service in the church was her her body there with you ? or did you ? did you have a casket ? or what was the ? [ Participant ] : No\"\n",
      "  Type:    text\n",
      "Speaker Label: True\n",
      "  Extra:   None\n",
      "--------------------------------------------------\n",
      "Chunk 26:\n",
      "  Content: '<span style=\"background-color: yellow;\"><s>?</s> → ,</span>'\n",
      "  Type:    span\n",
      "Speaker Label: None\n",
      "  Extra:   sub\n",
      "--------------------------------------------------\n",
      "Chunk 27:\n",
      "  Content: \"so I I was able to see the body before the ceremony and so that was a bit . Uh the first time I saw like a dead body and especially like of my grandma and she was really like another person was like she lost a lot of weight and so She had gained a lot of weight , but then after the cancer she lost a lot of weight . So when I saw her all dressed up in the coffin , it was a bit strange , let 's say . So that moment was maybe the hardest moment of that day . But yeah , then during the ceremony , the coffin was closed . It was n't disposed of the body . At least in Italy , like , we just , you can see the body before the ceremony . Like , a few people that want to , like , close family . And then , but then during the ceremony , it 's always , like , close . I see , like , in American movies , sometimes it 's open , like , during the ceremony as well . But , like , I do n't think in Italy we do it this way . [ Interviewer ] : Okay . [ Participant ] : Yeah . [ Interviewer ] : Did you interact with her at all whenever you saw her body ? Did you speak to her ? Did you touch her ? [ Participant ] : No . Because I was a bit , you know , I did n't like that . That that thing not staying there with her like it was n't . I mean I could see like . I know she was maybe in peace let 's say like she was like relaxed but I do n't know if I would do it again . No , maybe it 's kind of nice to do it because I 'd like to say goodbye to the person for the last time , but , yeah , no , I did n't really try to interact with her . [ Interviewer ] : Okay . [ Participant ] : I would n't say that . [ Interviewer ] : Yeah . So , I mean , you 've kind of said both ways , so if you had to put an answer to it , would you do it again ? Would you see her again or see somebody else that you know ? [ Participant ] : Yeah . I think I would do it again just as a form of respect yeah but and last goodbye . But I think I would feel uncomfortable doing it and I would n't feel like I need to communicate with her and say like it just would be like a bit you know and um but I would do it just as a form of respect and last goodbye . For like close family let 's say not for other people . [ Interviewer ] : Yeah no it makes sense . And with the service that you did in the church , was it a full Catholic service , like a formal Catholic mass type of funeral ? [ Participant ] : Yeah , it was like , basically it 's like a normal mass , and then at some point they say a few words , and also people can say their words , but it 's a normal mass ceremony at the end of the day . [ Interviewer ] : Did anyone speak from your family or anything like this ? [ Participant ] : I do n't , like , I do n't remember , but , like , not from my close family\"\n",
      "  Type:    text\n",
      "Speaker Label: True\n",
      "  Extra:   None\n",
      "--------------------------------------------------\n",
      "Chunk 28:\n",
      "  Content: '<span style=\"background-color: lightcoral;\"><s>. Okay</s></span>'\n",
      "  Type:    span\n",
      "Speaker Label: None\n",
      "  Extra:   del\n",
      "--------------------------------------------------\n",
      "Chunk 29:\n",
      "  Content: \". So I 'm not really sure that someone said , but not from my close family . [ Interviewer ] : Okay . And was she , was she buried ? [ Participant ] : So we have , like , a family , I do n't know , how is it called , like , in the cemetery , like , family space where it 's not , buried , but it 's , like , put in the ... [ Interviewer ] : Like , what would you call it in Italian ? [ Participant ] : I do n't even know , like ... [ Interviewer ] : Because you might call it , like , a mausoleum or a tomb ? [ Participant ] : Yeah , like , yeah , something like this . So , like , you have a small , like , let 's say , little chapel where you have , like , this , like , big drawers where you put the bodies of different members of the family . So she was buried , like , with my ... And my grandfather as well , and other members of the family . [ Interviewer ] : Did you go whenever she was placed there ? [ Participant ] : Yes , we all went to the cemetery . [ Interviewer ] : So it was in the cemetery , but in your family 's space , basically . [ Participant ] : Yes , but she was n't buried underground . [ Interviewer ] : Right , right , it 's above ground . And then it was from there that you went to sort of an after ... [ Participant ] : Yeah , so after the ceremony we went to the cemetery and after we went to lunch . [ Interviewer ] : Okay . And when you think back on the day , does anything particular come to mind ? Do you think about anything about that day ? [ Participant ] : Just like us laughing at the table . So even like remember moments with her and just like , you know . Good moments with her so like I remember like a good atmosphere and at the table so and also with the with all the family . Yeah yeah it 's mainly like a happy memory let 's say not a sad memory . [ Interviewer ] : Yeah yeah I think that 's I think that 's important . [ Participant ] : Yeah yeah for sure for sure because I think also there was a general sense of relief as well For her and for the sisters , let 's say . [ Interviewer ] : Right , right . Yeah . And can you tell me about the time since your grandmother died ? Like , as far as what you think about or your experiences since she died ? [ Participant ] : Like , with her ? [ Interviewer ] : Yeah , with thoughts of her or even with interactions with your other family members with respect to her . [ Participant ] : We do n't speak too much about her like just when like I do n't speak with my mom too much about her like whenever we gather with all the family . That 's when sometimes we talk about her just like funny moments you know like and we talk about . You know how she was what she should say and stuff like this . And but yeah I do n't really think about her . And um yeah sometimes there are times where I speak about with my mom as well I have to say yeah and but they 're not super frequent . [ Interviewer ] : Let 's say yeah . [ Participant ] : And uh yeah it 's mostly about and maybe her relationship with her when she was young .\"\n",
      "  Type:    text\n",
      "Speaker Label: True\n",
      "  Extra:   None\n",
      "--------------------------------------------------\n",
      "Chunk 30:\n",
      "  Content: '<span style=\"background-color: yellow;\"><s>[ Interviewer ] : And . [ Participant ] :</s> → And</span>'\n",
      "  Type:    span\n",
      "Speaker Label: True\n",
      "  Extra:   sub\n",
      "--------------------------------------------------\n",
      "Chunk 31:\n",
      "  Content: \"Things like this because I I 'm curious about like you know Her life as well like when I got older you know I had the opportunity to ask her like in a more adult way you know like things about her past and about her family how was her life when she was like a teenager all this kind of stuff how she met my dad how she met other people . You know things like this . And also her relationship with my grandma . And so that 's just memories . You know talking about memories but I do n't think about her in a way like where is she now ? what is she doing ? or like uh she 's with me . [ Interviewer ] : Yeah you do n't have those feelings .\"\n",
      "  Type:    text\n",
      "Speaker Label: True\n",
      "  Extra:   None\n",
      "--------------------------------------------------\n",
      "Chunk 32:\n",
      "  Content: '<span style=\"background-color: lightcoral;\"><s>No</s></span>'\n",
      "  Type:    span\n",
      "Speaker Label: None\n",
      "  Extra:   del\n",
      "--------------------------------------------------\n",
      "Chunk 33:\n",
      "  Content: \"have you visited where she 's ? uh where she is in the cemetery ?\"\n",
      "  Type:    text\n",
      "Speaker Label: None\n",
      "  Extra:   None\n",
      "--------------------------------------------------\n",
      "Chunk 34:\n",
      "  Content: '<span style=\"background-color: lightgreen;\">[ Participant ] :</span>'\n",
      "  Type:    span\n",
      "Speaker Label: True\n",
      "  Extra:   ins\n",
      "--------------------------------------------------\n",
      "Chunk 35:\n",
      "  Content: 'no never actually no no'\n",
      "  Type:    text\n",
      "Speaker Label: None\n",
      "  Extra:   None\n",
      "--------------------------------------------------\n",
      "Chunk 36:\n",
      "  Content: '<span style=\"background-color: lightgreen;\">[ Interviewer ] :</span>'\n",
      "  Type:    span\n",
      "Speaker Label: True\n",
      "  Extra:   ins\n",
      "--------------------------------------------------\n",
      "Chunk 37:\n",
      "  Content: 'no interest or no uh pull to do that . No desire'\n",
      "  Type:    text\n",
      "Speaker Label: None\n",
      "  Extra:   None\n",
      "--------------------------------------------------\n",
      "Chunk 38:\n",
      "  Content: '<span style=\"background-color: yellow;\"><s>.</s> → ?</span>'\n",
      "  Type:    span\n",
      "Speaker Label: None\n",
      "  Extra:   sub\n",
      "--------------------------------------------------\n",
      "Chunk 39:\n",
      "  Content: \"[ Participant ] : Yeah actually that 's the first time I think about this and um and also it 's feels like bit strange that\"\n",
      "  Type:    text\n",
      "Speaker Label: True\n",
      "  Extra:   None\n",
      "--------------------------------------------------\n",
      "Chunk 40:\n",
      "  Content: '<span style=\"background-color: yellow;\"><s>he</s> → I</span>'\n",
      "  Type:    span\n",
      "Speaker Label: None\n",
      "  Extra:   sub\n",
      "--------------------------------------------------\n",
      "Chunk 41:\n",
      "  Content: \"never went . But also like my mom I do n't . I do n't even know if my mom ever went . So yeah and uh yeah like my other grand grand grandfather . So from\"\n",
      "  Type:    text\n",
      "Speaker Label: None\n",
      "  Extra:   None\n",
      "--------------------------------------------------\n",
      "Chunk 42:\n",
      "  Content: '<span style=\"background-color: yellow;\"><s>that</s> → my dad \\'s</span>'\n",
      "  Type:    span\n",
      "Speaker Label: None\n",
      "  Extra:   sub\n",
      "--------------------------------------------------\n",
      "Chunk 43:\n",
      "  Content: 'side he always speaks how he goes to the cemetery to to pay respect to the the dead ones'\n",
      "  Type:    text\n",
      "Speaker Label: None\n",
      "  Extra:   None\n",
      "--------------------------------------------------\n",
      "Chunk 44:\n",
      "  Content: '<span style=\"background-color: lightgreen;\">of</span>'\n",
      "  Type:    span\n",
      "Speaker Label: None\n",
      "  Extra:   ins\n",
      "--------------------------------------------------\n",
      "Chunk 45:\n",
      "  Content: 'the family and uh . And he told me that a few times he went also to see my my grandma that now'\n",
      "  Type:    text\n",
      "Speaker Label: None\n",
      "  Extra:   None\n",
      "--------------------------------------------------\n",
      "Chunk 46:\n",
      "  Content: '<span style=\"background-color: yellow;\"><s>they</s> → I</span>'\n",
      "  Type:    span\n",
      "Speaker Label: None\n",
      "  Extra:   sub\n",
      "--------------------------------------------------\n",
      "Chunk 47:\n",
      "  Content: \"recall but maybe on my mom 's side we do n't have this kind of like tradition to go and pay visits and uh so yeah no I never went . I also like um I never lived in italy from that moment on . So it 's also like you know when I go back for occasions like I tend not to think about going to the cemetery .\"\n",
      "  Type:    text\n",
      "Speaker Label: None\n",
      "  Extra:   None\n",
      "--------------------------------------------------\n",
      "Chunk 48:\n",
      "  Content: '<span style=\"background-color: lightcoral;\"><s>[ Interviewer ] :</s></span>'\n",
      "  Type:    span\n",
      "Speaker Label: True\n",
      "  Extra:   del\n",
      "--------------------------------------------------\n",
      "Chunk 49:\n",
      "  Content: 'Maybe spend time with people and enjoy'\n",
      "  Type:    text\n",
      "Speaker Label: None\n",
      "  Extra:   None\n",
      "--------------------------------------------------\n",
      "Chunk 50:\n",
      "  Content: '<span style=\"background-color: lightgreen;\">[ Interviewer ] :</span>'\n",
      "  Type:    span\n",
      "Speaker Label: True\n",
      "  Extra:   ins\n",
      "--------------------------------------------------\n",
      "Chunk 51:\n",
      "  Content: \"But the cemetery that she 's buried in is where your family lives . [ Participant ] : Yeah . [ Interviewer ] : It 's in the city where they live . [ Participant ] : It 's reachable , yeah . [ Interviewer ] : Yeah , yeah . Okay . I know that makes sense . Yeah . Well , have you ever had any experience where you felt or saw or heard your grandmother after she had died or another person who you know to be deceased ?\"\n",
      "  Type:    text\n",
      "Speaker Label: True\n",
      "  Extra:   None\n",
      "--------------------------------------------------\n",
      "Chunk 52:\n",
      "  Content: '<span style=\"background-color: lightgreen;\">[ Participant ] :</span>'\n",
      "  Type:    span\n",
      "Speaker Label: True\n",
      "  Extra:   ins\n",
      "--------------------------------------------------\n",
      "Chunk 53:\n",
      "  Content: 'No . No ,'\n",
      "  Type:    text\n",
      "Speaker Label: None\n",
      "  Extra:   None\n",
      "--------------------------------------------------\n",
      "Chunk 54:\n",
      "  Content: '<span style=\"background-color: lightgreen;\">[ Interviewer ] :</span>'\n",
      "  Type:    span\n",
      "Speaker Label: True\n",
      "  Extra:   ins\n",
      "--------------------------------------------------\n",
      "Chunk 55:\n",
      "  Content: \"you 've never had these experiences ?\"\n",
      "  Type:    text\n",
      "Speaker Label: None\n",
      "  Extra:   None\n",
      "--------------------------------------------------\n",
      "Chunk 56:\n",
      "  Content: '<span style=\"background-color: lightcoral;\"><s>No .</s></span>'\n",
      "  Type:    span\n",
      "Speaker Label: None\n",
      "  Extra:   del\n",
      "--------------------------------------------------\n",
      "Chunk 57:\n",
      "  Content: \"Have you ever felt that someone is behind you or close to you when no one 's there ?\"\n",
      "  Type:    text\n",
      "Speaker Label: None\n",
      "  Extra:   None\n",
      "--------------------------------------------------\n",
      "Chunk 58:\n",
      "  Content: '<span style=\"background-color: lightgreen;\">[ Participant ] :</span>'\n",
      "  Type:    span\n",
      "Speaker Label: True\n",
      "  Extra:   ins\n",
      "--------------------------------------------------\n",
      "Chunk 59:\n",
      "  Content: 'No .'\n",
      "  Type:    text\n",
      "Speaker Label: None\n",
      "  Extra:   None\n",
      "--------------------------------------------------\n",
      "Chunk 60:\n",
      "  Content: '<span style=\"background-color: lightgreen;\">[ Interviewer ] :</span>'\n",
      "  Type:    span\n",
      "Speaker Label: True\n",
      "  Extra:   ins\n",
      "--------------------------------------------------\n",
      "Chunk 61:\n",
      "  Content: 'Even just any sense of this ?'\n",
      "  Type:    text\n",
      "Speaker Label: None\n",
      "  Extra:   None\n",
      "--------------------------------------------------\n",
      "Chunk 62:\n",
      "  Content: '<span style=\"background-color: lightgreen;\">[ Participant ] :</span>'\n",
      "  Type:    span\n",
      "Speaker Label: True\n",
      "  Extra:   ins\n",
      "--------------------------------------------------\n",
      "Chunk 63:\n",
      "  Content: 'No , not really , no .'\n",
      "  Type:    text\n",
      "Speaker Label: None\n",
      "  Extra:   None\n",
      "--------------------------------------------------\n",
      "Chunk 64:\n",
      "  Content: '<span style=\"background-color: lightgreen;\">[ Interviewer ] :</span>'\n",
      "  Type:    span\n",
      "Speaker Label: True\n",
      "  Extra:   ins\n",
      "--------------------------------------------------\n",
      "Chunk 65:\n",
      "  Content: 'No ?'\n",
      "  Type:    text\n",
      "Speaker Label: None\n",
      "  Extra:   None\n",
      "--------------------------------------------------\n",
      "Chunk 66:\n",
      "  Content: '<span style=\"background-color: lightcoral;\"><s>No .</s></span>'\n",
      "  Type:    span\n",
      "Speaker Label: None\n",
      "  Extra:   del\n",
      "--------------------------------------------------\n",
      "Chunk 67:\n",
      "  Content: \"Have you ever felt that there was someone or something or a shadow ? moving or passing by your sides ? it does n't necessarily have to be a person but even just a sense of a presence or a shadow . [ Participant ] : I do n't know . Maybe sometimes when I 'm walking alone I just like . Maybe I like I just turn like because I do n't know maybe there 's someone behind you behind me because it 's dark and But it 's never the case . Like , I do n't really feel . Just maybe , like , in certain , like , situations where I felt like I was a bit in danger . I was about , like , very aware and I tried to , you know , like , be looking back to see if someone was there , like , things like this . But not that normally , like , when I 'm walking or , like , ever felt , like , a presence . [ Interviewer ] : And can you think of , like , an example where you felt like ... Like , you needed to turn around ? Can you think of , like , an example of that in your mind ? [ Participant ] : I do n't know , maybe in Amsterdam when I was in a not very nice neighborhood and I felt like , I do n't know , maybe someone was , could , I do n't know , rob me or attack me . [ Interviewer ] : Yeah . Do you remember there being , like , a reason that you turned around ? [ Participant ] : I do n't know , maybe , like , just a noise , something like this . I do n't know . [ Interviewer ] : Yeah . [ Participant ] : Yeah . No , I do n't recall a particular moment . [ Interviewer ] : Okay . No , it 's okay . And this is kind of a specific example , but have you ever seen something else instead of a real object or a living thing ? So , for example , like you see an animal instead of a bush , or you see a stain on the floor and it transforms into an insect , or there 's a stationary object but you see it moving . Have you ever had any of these sorts of experiences ? [ Participant ] : Maybe , yeah . Maybe sometimes you do n't see things clearly , so in your head you associate it with something that is not . Maybe when you get close to it , it 's not an animal . For sure with animals , maybe it happened to me . I thought I saw an animal , then I got close and it was n't an animal . [ Interviewer ] : Can you think of a particular example where this happened to you ? Or is it sort of like a general memory of it ? [ Participant ] : I think just like a general memory , yeah . [ Interviewer ] : Okay . [ Participant ] : Yeah , I think so . Maybe like I had like a house in the hills when I was young . And maybe sometimes I could be like a snake . And if I was a snake , maybe just like different colors on the grass . Maybe that could be .\"\n",
      "  Type:    text\n",
      "Speaker Label: True\n",
      "  Extra:   None\n",
      "--------------------------------------------------\n",
      "Chunk 68:\n",
      "  Content: '<span style=\"background-color: lightgreen;\">[ Interviewer ] :</span>'\n",
      "  Type:    span\n",
      "Speaker Label: True\n",
      "  Extra:   ins\n",
      "--------------------------------------------------\n",
      "Chunk 69:\n",
      "  Content: 'Yeah . That could be , yeah . An example that you remember specifically'\n",
      "  Type:    text\n",
      "Speaker Label: None\n",
      "  Extra:   None\n",
      "--------------------------------------------------\n",
      "Chunk 70:\n",
      "  Content: '<span style=\"background-color: lightgreen;\">[ Participant ] :</span>'\n",
      "  Type:    span\n",
      "Speaker Label: True\n",
      "  Extra:   ins\n",
      "--------------------------------------------------\n",
      "Chunk 71:\n",
      "  Content: 'not specifically but probably like uh probably happened to me . [ Interviewer ] : Yeah okay okay'\n",
      "  Type:    text\n",
      "Speaker Label: True\n",
      "  Extra:   None\n",
      "--------------------------------------------------\n",
      "Chunk 72:\n",
      "  Content: '<span style=\"background-color: lightgreen;\">[ Interviewer 2 ] :</span>'\n",
      "  Type:    span\n",
      "Speaker Label: True\n",
      "  Extra:   ins\n",
      "--------------------------------------------------\n",
      "Chunk 73:\n",
      "  Content: \"how frequent does it happen to you ? [ Participant ] : I ca n't say um you know just like I 'm trying to recall a moment that I ca n't . But uh I can . I can say that It happened that I saw , like , you know , I do n't know , even when you 're in the dark and you see , like , maybe you see some eyes , like , you think you saw some eyes and then it 's just , like , I do n't know , light , I do n't know . But there 's no , like , a specific moment that I can say , okay , or how\"\n",
      "  Type:    text\n",
      "Speaker Label: True\n",
      "  Extra:   None\n",
      "--------------------------------------------------\n",
      "Chunk 74:\n",
      "  Content: '<span style=\"background-color: yellow;\"><s>freaking</s> → frequent</span>'\n",
      "  Type:    span\n",
      "Speaker Label: None\n",
      "  Extra:   sub\n",
      "--------------------------------------------------\n",
      "Chunk 75:\n",
      "  Content: ', how'\n",
      "  Type:    text\n",
      "Speaker Label: None\n",
      "  Extra:   None\n",
      "--------------------------------------------------\n",
      "Chunk 76:\n",
      "  Content: '<span style=\"background-color: yellow;\"><s>freaking</s> → frequent</span>'\n",
      "  Type:    span\n",
      "Speaker Label: None\n",
      "  Extra:   sub\n",
      "--------------------------------------------------\n",
      "Chunk 77:\n",
      "  Content: \"that is . I would n't say that it 's very frequent . I would say , like , if it happened , like , it happened maybe , like , five times max . In my whole life . So it 's not also because like . I think if you 're like a lot of in nature like you spend a lot of time in nature that can happen like more easily . But since I lived most of my life in like cities and in cities like never happened to me I can say that just like in nature . [ Interviewer ] : Yeah okay that makes sense . Um can you tell me about your experience growing up ? [ Participant ] : Yeah like in general\"\n",
      "  Type:    text\n",
      "Speaker Label: True\n",
      "  Extra:   None\n",
      "--------------------------------------------------\n",
      "Chunk 78:\n",
      "  Content: '<span style=\"background-color: lightgreen;\">? [ Interviewer ] :</span>'\n",
      "  Type:    span\n",
      "Speaker Label: True\n",
      "  Extra:   ins\n",
      "--------------------------------------------------\n",
      "Chunk 79:\n",
      "  Content: 'yeah just in general'\n",
      "  Type:    text\n",
      "Speaker Label: None\n",
      "  Extra:   None\n",
      "--------------------------------------------------\n",
      "Chunk 80:\n",
      "  Content: '<span style=\"background-color: lightgreen;\">. [ Participant ] :</span>'\n",
      "  Type:    span\n",
      "Speaker Label: True\n",
      "  Extra:   ins\n",
      "--------------------------------------------------\n",
      "Chunk 81:\n",
      "  Content: 'like my upbringing'\n",
      "  Type:    text\n",
      "Speaker Label: None\n",
      "  Extra:   None\n",
      "--------------------------------------------------\n",
      "Chunk 82:\n",
      "  Content: '<span style=\"background-color: lightgreen;\">? [ Interviewer ] : Yeah upbringing</span>'\n",
      "  Type:    span\n",
      "Speaker Label: True\n",
      "  Extra:   ins\n",
      "--------------------------------------------------\n",
      "Chunk 83:\n",
      "  Content: '.'\n",
      "  Type:    text\n",
      "Speaker Label: None\n",
      "  Extra:   None\n",
      "--------------------------------------------------\n",
      "Chunk 84:\n",
      "  Content: '<span style=\"background-color: lightgreen;\">[ Participant ] :</span>'\n",
      "  Type:    span\n",
      "Speaker Label: True\n",
      "  Extra:   ins\n",
      "--------------------------------------------------\n",
      "Chunk 85:\n",
      "  Content: \"So yeah I I was I grew up in a in a let 's say small city close to padova . There 's like the big cities like it was like 50 minutes drive . But then like yeah I spent most of my childhood like there . And um yeah it was a happy happy childhood . And uh I remember that I had a lot of friends when I was little . Also thanks to my mom , because she was like very , you know , she was inviting them like , I remember every Friday night she was like making pizza and then inviting like my little friends , but when we were like four , three , four , so like very little . And that was kind of a tradition . And then I also grew up like in the church , like I was ... Going to the church a lot in the sense that I was doing catechism because like basically every kid was doing it . So it was like just a chance on Saturday to see your friends again . And so we 're just going there and one or two hours one hour of catechism and then we 're just like playing in the oratory like football or whatever like we would play and And , yeah , it was , so , like , I have happy memories of , let 's say , the period from when I started to have , like , to have memory to , let 's say\"\n",
      "  Type:    text\n",
      "Speaker Label: None\n",
      "  Extra:   None\n",
      "--------------------------------------------------\n",
      "Chunk 86:\n",
      "  Content: '<span style=\"background-color: yellow;\"><s>,</s> → til</span>'\n",
      "  Type:    span\n",
      "Speaker Label: None\n",
      "  Extra:   sub\n",
      "--------------------------------------------------\n",
      "Chunk 87:\n",
      "  Content: \"middle school . And also my parents , they divorced when I was in middle school . So in the time I was in elementary school , I was , they were together . So also , like , that was ... Think about that as a happy time . Because like after you know it was n't that happy in terms of like family . And so we 're going to vacation a lot to Greece to Sardinia and I remember like those those times are really nice . Like when we 're just the four of us and for two weeks the sea and and then my I have to say , like , when I was little , like , my parents were n't very , like , were n't giving me , like , much affection . And that 's something that I also discovered , like , in a more , when I grew up , because of my mom , like , she told me , like , how she realized that when I was a bit , let 's say , eight , nine . Because on on her side she never got this from her parents . So she thought that that was normal and so then she started to give me affection . And but I was like . I was loved and and everything . But I was n't like out of like hugging and like cuddles things like this . I did n't receive much of those and um but I still like had like . I had a great relationship with my mom and my dad but at the same time I thought it was normal not to have like too much affection that now if I think about it like maybe I should have received more . And then with my dad it was n't like playing a lot with me and that 's something that I wished he did more . So I remember when we were like in vacation like it was always like reading the newspaper and and I was trying you know to always like try to make him play with me . But those times were\"\n",
      "  Type:    text\n",
      "Speaker Label: None\n",
      "  Extra:   None\n",
      "--------------------------------------------------\n",
      "Chunk 88:\n",
      "  Content: '<span style=\"background-color: lightgreen;\">n\\'t</span>'\n",
      "  Type:    span\n",
      "Speaker Label: None\n",
      "  Extra:   ins\n",
      "--------------------------------------------------\n",
      "Chunk 89:\n",
      "  Content: \"very frequent and and I still can recall those times where he was giving me attention . And so yeah it 's with my mom on the other side like she always gave me attention she always like you know . And but now I can say that uh my dad\"\n",
      "  Type:    text\n",
      "Speaker Label: None\n",
      "  Extra:   None\n",
      "--------------------------------------------------\n",
      "Chunk 90:\n",
      "  Content: '<span style=\"background-color: yellow;\"><s>locked</s> → lacked</span>'\n",
      "  Type:    span\n",
      "Speaker Label: None\n",
      "  Extra:   sub\n",
      "--------------------------------------------------\n",
      "Chunk 91:\n",
      "  Content: 'a bit in attention towards me like when when I was a kid and also like in terms like'\n",
      "  Type:    text\n",
      "Speaker Label: None\n",
      "  Extra:   None\n",
      "--------------------------------------------------\n",
      "Chunk 92:\n",
      "  Content: '<span style=\"background-color: yellow;\"><s>she</s> → he</span>'\n",
      "  Type:    span\n",
      "Speaker Label: None\n",
      "  Extra:   sub\n",
      "--------------------------------------------------\n",
      "Chunk 93:\n",
      "  Content: \"was n't helping too much like my mom was doing like most of the work like she was cooking she was also working so my dad was all like was just like coming home for work and she was just like finding like and the dinner ready and and was normal . But now that I also like I 'm approaching you know relationship and I 'm starting to have like a serious relationship I know how like that is not good let 's say and so yeah I can say that yeah my dad\"\n",
      "  Type:    text\n",
      "Speaker Label: None\n",
      "  Extra:   None\n",
      "--------------------------------------------------\n",
      "Chunk 94:\n",
      "  Content: '<span style=\"background-color: yellow;\"><s>locked</s> → lacked</span>'\n",
      "  Type:    span\n",
      "Speaker Label: None\n",
      "  Extra:   sub\n",
      "--------------------------------------------------\n",
      "Chunk 95:\n",
      "  Content: \"up like a bit of attention towards me but also like helping my mom and all this kind of thing . But at the same time it 's also like his upbringing that brought him to be a bit this way . So let 's say a whole generation of let 's say families where the mom was just in charge of basically everything and but then when things changed and also moms went to work I think in that generation when things like transitioned and the roles remained the same . But so the mom was just working as a work and working at home . So she was doing double job and um . But in general like very very happy happy memories from my from my childhood and until like the first like uh big let 's say shake in my memories when they they separated\"\n",
      "  Type:    text\n",
      "Speaker Label: None\n",
      "  Extra:   None\n",
      "--------------------------------------------------\n",
      "Chunk 96:\n",
      "  Content: '<span style=\"background-color: lightgreen;\">, they</span>'\n",
      "  Type:    span\n",
      "Speaker Label: None\n",
      "  Extra:   ins\n",
      "--------------------------------------------------\n",
      "Chunk 97:\n",
      "  Content: \"divorced And that was pretty hard on me because I was like 11 . So I could really understand what was happening , but I was too young to really comprehend it and to accept it . Especially because growing up in a very , let 's say , Christian , Catholic society , and all my friends were like with the ... I had no friends with parents divorced . So when they divorced like for me was very sad at the beginning and very abnormal because like I was like .\"\n",
      "  Type:    text\n",
      "Speaker Label: None\n",
      "  Extra:   None\n",
      "--------------------------------------------------\n",
      "Chunk 98:\n",
      "  Content: '<span style=\"background-color: lightgreen;\">``</span>'\n",
      "  Type:    span\n",
      "Speaker Label: None\n",
      "  Extra:   ins\n",
      "--------------------------------------------------\n",
      "Chunk 99:\n",
      "  Content: 'How is this how is this happening to me'\n",
      "  Type:    text\n",
      "Speaker Label: None\n",
      "  Extra:   None\n",
      "--------------------------------------------------\n",
      "Chunk 100:\n",
      "  Content: '<span style=\"background-color: lightgreen;\">\\'\\'</span>'\n",
      "  Type:    span\n",
      "Speaker Label: None\n",
      "  Extra:   ins\n",
      "--------------------------------------------------\n",
      "Chunk 101:\n",
      "  Content: \"like and no one no one is in this situation ? I am and I was . I was ashamed of this like I would n't tell my friends because I was . I was afraid they were judging me and even if they were of course they were n't of course . And yeah , I felt like I was very unlucky and like . Something really bad happened to me . I never thought my life as with two different parents . And then the few kids at school that had parents like this , they were the kids that were a bit weird or like ... Maybe bullies , so , like , kids , like , really were affected by this situation at home , and I also , like , I was , like , I , from , till that moment , I was always being , like , a good kid , and also , like , good kid in school , so , so it was , so it was , like , what , what is gon na happen to me , like , I 'm gon na become a different person , I 'm gon na do bad in school , I 'm gon na do bad , like , in sports , and all this kind of , like , thoughts , you know , this never happened . Like . I also like understood how like bad things do n't really affect my let 's say life or career or like school life I was always able to put put it aside and keep going . And but yeah for sure at that moment I learned also how to to hide a bit my feelings and and not to show them . You know I wanted to to be seen as as as the Carlo that was before not as a kid that was suffering and so I also yeah I was able to to get along with my life normally . But at the same time I also learned how to not express express my feelings and stuff . And then you know from middle school at this this thing and also like I I started like let 's say I started to like to see like you know girls and stuff and I felt like I was . I need now to I feel I fell a bit behind because I was n't like I was a bit shy with like girls and so other like maybe friends had already like girls and stuff or like many friends me I was like starting to be less a bit shy . So compared to like when I was when I was when I was a kid that like many friends and like I started to feel like a bit less popular let 's say and less a bit a bit more on the side and and that brought me also to try to to show a bit that . So I tried to . I tried with all my first together like a girlfriend you know even if I did n't want it . And that brought me to have this this girlfriend . Let 's say that after like two weeks I I said like I do n't want to be with you anymore because like I did n't actually want to have a girlfriend just wanted to say hi hi I have a girlfriend I had a girlfriend you know and because I did n't want to stay behind you know and uh and I was n't going out that much . So like I there was like group of kids . For me that was always like outside every day with a group of friends . I did n't really have like a group of friends because all the other friends had from like primary school . They just like went to different schools . So like and we did . We lost a bit contact . Now now I regain contact later but those time I was um I was I had a few friends but I was n't hanging out too much with them . I was n't like , let 's say , doing it as maybe the other kids . And so I felt a bit different , let 's say . I wanted to have more friends . I wanted to have more attention , let 's say . And that brought me ... Am I speaking too much ?\"\n",
      "  Type:    text\n",
      "Speaker Label: None\n",
      "  Extra:   None\n",
      "--------------------------------------------------\n",
      "Chunk 102:\n",
      "  Content: '<span style=\"background-color: lightgreen;\">[ Interviewer ] :</span>'\n",
      "  Type:    span\n",
      "Speaker Label: True\n",
      "  Extra:   ins\n",
      "--------------------------------------------------\n",
      "Chunk 103:\n",
      "  Content: 'No , no ,'\n",
      "  Type:    text\n",
      "Speaker Label: None\n",
      "  Extra:   None\n",
      "--------------------------------------------------\n",
      "Chunk 104:\n",
      "  Content: '<span style=\"background-color: yellow;\"><s>it \\'s</s> → you \\'re</span>'\n",
      "  Type:    span\n",
      "Speaker Label: None\n",
      "  Extra:   sub\n",
      "--------------------------------------------------\n",
      "Chunk 105:\n",
      "  Content: 'good'\n",
      "  Type:    text\n",
      "Speaker Label: None\n",
      "  Extra:   None\n",
      "--------------------------------------------------\n",
      "Chunk 106:\n",
      "  Content: '<span style=\"background-color: lightgreen;\">, it \\'s good</span>'\n",
      "  Type:    span\n",
      "Speaker Label: None\n",
      "  Extra:   ins\n",
      "--------------------------------------------------\n",
      "Chunk 107:\n",
      "  Content: '.'\n",
      "  Type:    text\n",
      "Speaker Label: None\n",
      "  Extra:   None\n",
      "--------------------------------------------------\n",
      "Chunk 108:\n",
      "  Content: '<span style=\"background-color: lightgreen;\">[ Participant ] :</span>'\n",
      "  Type:    span\n",
      "Speaker Label: True\n",
      "  Extra:   ins\n",
      "--------------------------------------------------\n",
      "Chunk 109:\n",
      "  Content: \"And that brought me to ... To high school where also the first two years were a bit like this . So I was n't able to to find like friends like that . I could like you know hang out often that I would just like had friends like in my classroom but like that 's remained in the classroom so I was n't going out with them . And in the evening , let 's say , so at those ages you start also to do that , like the weekends you go out in the city center and you start also to explore the main town and not just your little village . But even I have those group of friends that really brought me to that kind of situation . And there I felt even more left behind , let 's say . Because now I was like 14 , 15 , so now ... If in like middle school was still fine to stay home let 's say Saturday night now I was n't anymore at least in my head and but I always played rugby when I was young since I was like eight and and then like when I was in high school I was transferred like I went to a different team like a better team and where I could train more and play on more competitive levels , let 's say . And there I met , let 's say , my friend , my group of friends that still is right now , and that really brought me out of my shell , let 's say . And in that sense , I started to feel good again and to have a group of friends . I was going out , I was going to bars , to discos . I was really having fun . I recall those times as very happy times with no worries about life and just feeling like top of the world . It was like 16 , 17 , 18 . And you feel like the king of the world especially if you have like a group of friends that they 're really close you always want to meet they will be always together with them . It 's like like brothers you know and um yeah and then um and then so like the last years of high school were really great and uh in terms also like relationship I started to have like girlfriends and stuff . So like I was exploring like the sentimental side and all these kind of things and I felt really really good . And also like going to school for me never had been a problem . Also like was having fun going to school because like um you know as even there apart from like rugby friends had like . I started to make many friends in schools like every let 's say in Italy at 11 you have to break 15 minutes and I was going with all these friends just\"\n",
      "  Type:    text\n",
      "Speaker Label: None\n",
      "  Extra:   None\n",
      "--------------------------------------------------\n",
      "Chunk 110:\n",
      "  Content: '<span style=\"background-color: lightcoral;\"><s>. [ Interviewer ] :</s></span>'\n",
      "  Type:    span\n",
      "Speaker Label: True\n",
      "  Extra:   del\n",
      "--------------------------------------------------\n",
      "Chunk 111:\n",
      "  Content: 'Smoke'\n",
      "  Type:    text\n",
      "Speaker Label: None\n",
      "  Extra:   None\n",
      "--------------------------------------------------\n",
      "Chunk 112:\n",
      "  Content: '<span style=\"background-color: lightcoral;\"><s>. [ Participant ] :</s></span>'\n",
      "  Type:    span\n",
      "Speaker Label: True\n",
      "  Extra:   del\n",
      "--------------------------------------------------\n",
      "Chunk 113:\n",
      "  Content: 'Cigarettes and in the in the backyard and like talking and so like school like especially the last three years of high school was were a very good time for'\n",
      "  Type:    text\n",
      "Speaker Label: None\n",
      "  Extra:   None\n",
      "--------------------------------------------------\n",
      "Chunk 114:\n",
      "  Content: '<span style=\"background-color: lightgreen;\">me , yeah</span>'\n",
      "  Type:    span\n",
      "Speaker Label: None\n",
      "  Extra:   ins\n",
      "--------------------------------------------------\n",
      "Chunk 115:\n",
      "  Content: '. [ Interviewer ] :'\n",
      "  Type:    text\n",
      "Speaker Label: True\n",
      "  Extra:   None\n",
      "--------------------------------------------------\n",
      "Chunk 116:\n",
      "  Content: '<span style=\"background-color: lightcoral;\"><s>Me . [ Participant ] :</s></span>'\n",
      "  Type:    span\n",
      "Speaker Label: True\n",
      "  Extra:   del\n",
      "--------------------------------------------------\n",
      "Chunk 117:\n",
      "  Content: \"Yeah I think that 's good .\"\n",
      "  Type:    text\n",
      "Speaker Label: None\n",
      "  Extra:   None\n",
      "--------------------------------------------------\n",
      "Chunk 118:\n",
      "  Content: '<span style=\"background-color: lightcoral;\"><s>[ Interviewer ] :</s></span>'\n",
      "  Type:    span\n",
      "Speaker Label: True\n",
      "  Extra:   del\n",
      "--------------------------------------------------\n",
      "Chunk 119:\n",
      "  Content: \"And so I wonder , so you sort of went through this transition period when your parents separated . Yes . So what did your home life look like after they separated ? So did you live with one parent and visit the other parent ? [ Participant ] : Yeah , so my dad left the house and he found another place very close by , like 500 meters , so just to be close to us . So that was nice . And then we were spending , like , half the week with one parent , with my mom , and half the week with my dad . And then weekends alternated . [ Interviewer ] : Okay . [ Participant ] : So it was nice because I was seeing them , like , the same amount of time , but at the same time it was tough because , like , we always had , like , to move , basically . Like , through the week as well , like , bags of , like , you know , like , all the ... Books from school that you had to gather all the books for like three days and then bring them to your dad and your clothes as well . And then like all the rugby gear and for my sister was the same . So it was a bit like you know tough to move basically house every every two times per week and luckily like they were really close like if something was missing and we could just like walk there and grab it . Or But yeah , when I was pretty busy , even in middle school , because like I was going to school and coming back , eating and then going to training , coming back and going to bed basically . So I did n't have much time to just go around . And I was also like training a lot , like four times per week . And so it was a bit of a struggle . And then at the same time , when we were with my dad , that was like Monday and Tuesdays . And we were basically staying with my grandparents .\"\n",
      "  Type:    text\n",
      "Speaker Label: True\n",
      "  Extra:   None\n",
      "--------------------------------------------------\n",
      "Chunk 120:\n",
      "  Content: '<span style=\"background-color: lightcoral;\"><s>Okay .</s></span>'\n",
      "  Type:    span\n",
      "Speaker Label: None\n",
      "  Extra:   del\n",
      "--------------------------------------------------\n",
      "Chunk 121:\n",
      "  Content: 'Because my dad was working until late . So , and dad was'\n",
      "  Type:    text\n",
      "Speaker Label: None\n",
      "  Extra:   None\n",
      "--------------------------------------------------\n",
      "Chunk 122:\n",
      "  Content: '<span style=\"background-color: yellow;\"><s>in</s> → n\\'t</span>'\n",
      "  Type:    span\n",
      "Speaker Label: None\n",
      "  Extra:   sub\n",
      "--------------------------------------------------\n",
      "Chunk 123:\n",
      "  Content: \"our house , so , yeah . And it was , yeah , it was a struggle for sure . For me and my sister , yeah . [ Interviewer ] : Yeah . And you mentioned earlier in your description , you sort of had this tradition where your mom made ... Pizzas on Fridays , did you have other sort of family traditions that happened before the separation or continued through the separation , like family traditions that you had ? [ Participant ] : We always celebrate like birthdays or like Christmas , like every festivity , let 's say , in a very nice way , like a nice dinner . Like candles and lights and presents . But yeah , I think that remained . This relation with my mom and pizza was just like through when I was a little kid . Then it did n't continue . And at Christmas , we were always spending Christmas Eve at my grandparents ' from my dad 's side . And then on Sunday , we were spending with the other family , mom 's family . And so that was kind of tradition that a bit changed after that because I do n't know sometimes you know my mom wanted to celebrate the Christmas Eve . So we 're just switching a bit . And yeah but in terms of like family tradition like yeah apart from what I told you know they were n't like a special tradition . That Even going to holidays was a bit of a tradition , let 's say . Because those two weeks per year , we 're always going to a nice place . And I was really very excited every time we were going . So after that , it was a bit different . And it was n't as joyful as it was before . I was still going with my dad and then with my mom . So it was double , let 's say . It was n't the same thing . It was n't the same . [ Interviewer ] : Yeah . And so did you celebrate all , like , the religious holidays as well ? You mentioned your family 's Catholic . Did you ? [ Participant ] : So my family , like , let 's say it 's Catholic , but not very active in the sense that , like , I was going , I was more Catholic than them , let 's say , because I was really , like , going to catechism and stuff . But them , they were n't , like . They did it for me , basically . When I stopped being active in that sense , they stopped as well . They do n't go to mass , they do n't do things . They were just doing it for me because my friends were doing it . But we 're not really a Catholic family , I would n't say that . [ Interviewer ] : So would you describe your parents as religious or spiritual or something else or nothing ? [ Participant ] : No . For sure , my dad , no . My mom tried a little bit more when we were , like , young . But , like , right now , she 's not\"\n",
      "  Type:    text\n",
      "Speaker Label: True\n",
      "  Extra:   None\n",
      "--------------------------------------------------\n",
      "Chunk 124:\n",
      "  Content: '<span style=\"background-color: yellow;\"><s>ready</s> → really</span>'\n",
      "  Type:    span\n",
      "Speaker Label: None\n",
      "  Extra:   sub\n",
      "--------------------------------------------------\n",
      "Chunk 125:\n",
      "  Content: '. [ Interviewer ] : No . What about your grandparents ? Would any of them be described as ... [ Participant ] : Yeah , my grandfather is the one that was visiting'\n",
      "  Type:    text\n",
      "Speaker Label: True\n",
      "  Extra:   None\n",
      "--------------------------------------------------\n",
      "Chunk 126:\n",
      "  Content: '<span style=\"background-color: lightgreen;\">in</span>'\n",
      "  Type:    span\n",
      "Speaker Label: None\n",
      "  Extra:   ins\n",
      "--------------------------------------------------\n",
      "Chunk 127:\n",
      "  Content: \"the cemetery , like , often . Like , he 's not ... Let 's say he 's not ... He does n't go to mass and stuff , but , like ... He 's very catholic he prays a lot and then he went also to Medjugorje . It 's like this place in Serbia I think where just like . Where this like like Lourdes like in France .\"\n",
      "  Type:    text\n",
      "Speaker Label: None\n",
      "  Extra:   None\n",
      "--------------------------------------------------\n",
      "Chunk 128:\n",
      "  Content: '<span style=\"background-color: lightcoral;\"><s>Okay</s></span>'\n",
      "  Type:    span\n",
      "Speaker Label: None\n",
      "  Extra:   del\n",
      "--------------------------------------------------\n",
      "Chunk 129:\n",
      "  Content: 'yeah just like place where the Holy Mary appears'\n",
      "  Type:    text\n",
      "Speaker Label: None\n",
      "  Extra:   None\n",
      "--------------------------------------------------\n",
      "Chunk 130:\n",
      "  Content: '<span style=\"background-color: lightgreen;\">[ Interviewer ] : Like</span>'\n",
      "  Type:    span\n",
      "Speaker Label: True\n",
      "  Extra:   ins\n",
      "--------------------------------------------------\n",
      "Chunk 131:\n",
      "  Content: 'holy place yeah .'\n",
      "  Type:    text\n",
      "Speaker Label: None\n",
      "  Extra:   None\n",
      "--------------------------------------------------\n",
      "Chunk 132:\n",
      "  Content: '<span style=\"background-color: lightgreen;\">[ Participant ] :</span>'\n",
      "  Type:    span\n",
      "Speaker Label: True\n",
      "  Extra:   ins\n",
      "--------------------------------------------------\n",
      "Chunk 133:\n",
      "  Content: \"And so he visit there and so it 's . He 's very catholic but he does n't go to mass . [ Interviewer ] : So he just like by himself let 's say\"\n",
      "  Type:    text\n",
      "Speaker Label: True\n",
      "  Extra:   None\n",
      "--------------------------------------------------\n",
      "Chunk 134:\n",
      "  Content: '<span style=\"background-color: lightgreen;\">[ Interviewer ] :</span>'\n",
      "  Type:    span\n",
      "Speaker Label: True\n",
      "  Extra:   ins\n",
      "--------------------------------------------------\n",
      "Chunk 135:\n",
      "  Content: \"So when you celebrated Christmas and things like this , your family did n't go to Mass ? [ Participant ] : No , we did\"\n",
      "  Type:    text\n",
      "Speaker Label: True\n",
      "  Extra:   None\n",
      "--------------------------------------------------\n",
      "Chunk 136:\n",
      "  Content: '<span style=\"background-color: lightcoral;\"><s>n\\'t</s></span>'\n",
      "  Type:    span\n",
      "Speaker Label: None\n",
      "  Extra:   del\n",
      "--------------------------------------------------\n",
      "Chunk 137:\n",
      "  Content: 'go to Mass .'\n",
      "  Type:    text\n",
      "Speaker Label: None\n",
      "  Extra:   None\n",
      "--------------------------------------------------\n",
      "Chunk 138:\n",
      "  Content: '<span style=\"background-color: lightgreen;\">[ Interviewer ] :</span>'\n",
      "  Type:    span\n",
      "Speaker Label: True\n",
      "  Extra:   ins\n",
      "--------------------------------------------------\n",
      "Chunk 139:\n",
      "  Content: 'You did go to Mass .'\n",
      "  Type:    text\n",
      "Speaker Label: None\n",
      "  Extra:   None\n",
      "--------------------------------------------------\n",
      "Chunk 140:\n",
      "  Content: '<span style=\"background-color: lightgreen;\">[ Participant ] :</span>'\n",
      "  Type:    span\n",
      "Speaker Label: True\n",
      "  Extra:   ins\n",
      "--------------------------------------------------\n",
      "Chunk 141:\n",
      "  Content: \"Let 's say that that was the only time where Mass was , let 's say , mandatory for us as well . Not right now , but when we were kids , you know . Then on Sundays , like if ... Because I was always playing on Sunday usually , so I was n't going that much . So when I could , I would go . But like Easter and Christmas were very important , like holidays . So that 's where you go to mass . So we 're going those times always . [ Interviewer ] : Yeah , when you were young . [ Participant ] : Yeah . [ Interviewer ] : And then does your family go now for the Christmas and Easter holidays ? [ Participant ] : No . [ Interviewer ] : No . Okay . Um , can you , can you tell me about your beliefs now ? [ Participant ] : Yeah . So , uh , as I said , like , uh , my upbringing was , uh , was Catholic . And , uh , I also like when I was in middle school , I went for three weeks to the Vatican city to , to serve as an altar boy . [ Interviewer ] : Wow . [ Participant ] : Yeah . And , uh , and that was actually because I was doing altar boys at my . In my little town , and there was this program that later I discovered was a program trying to make kids become priests , let 's say . But of course they did n't know it at that time , and also my parents did n't know it . But it was super nice because I really saw things that the Vatican City owns . They 're not open to the public . So all the the gardens inside the vatican city . So we 're actually living inside the vatican city and and they were like kids from all over italy . So we 're just like playing in the in the vatican gardens and they 're they 're huge they 're super nice . And then we saw the sistine chapel like with no one just us you know . So like they 're like\"\n",
      "  Type:    text\n",
      "Speaker Label: True\n",
      "  Extra:   None\n",
      "--------------------------------------------------\n",
      "Chunk 142:\n",
      "  Content: '<span style=\"background-color: lightgreen;\">adjacent</span>'\n",
      "  Type:    span\n",
      "Speaker Label: None\n",
      "  Extra:   ins\n",
      "--------------------------------------------------\n",
      "Chunk 143:\n",
      "  Content: \"they have like like rooms in the Sistine Chapel . They 're like also super beautiful but not open to the public . And then we 're going like to swimming pools like all owned by Vatican City . So they tried to sell us like as as good as they could like everything that they owned . And so even like we visit like a lot of churches a lot of like nice museum and stuff and And we were just like doing mass like from 7 to 8 in the morning and that was it . The other time we were just like going around . So it was n't like super strict . But yeah , and those times I really believed , you know , and I was also going to colonies and where it was , you know , where every family at the same time we had also this like Christian part where we had to pray and stuff . But then when I grew up , I started to ... Lose interest as any other kid . And and then because like when I would choose to be for like going out on saturday night and going to mass there was no question of course . And in the same time I started to see like all the let 's say limits of the church and like all the things that they do and all the things that they preach . And so yeah right now Yeah , I do n't believe in Christian . I 'm not Christian , I would say . Like , my imprinting is Christian , but I do n't believe in what they say when you preach\"\n",
      "  Type:    text\n",
      "Speaker Label: None\n",
      "  Extra:   None\n",
      "--------------------------------------------------\n",
      "Chunk 144:\n",
      "  Content: '<span style=\"background-color: lightcoral;\"><s>. [ Interviewer ] : You know . [ Participant ] :</s></span>'\n",
      "  Type:    span\n",
      "Speaker Label: True\n",
      "  Extra:   del\n",
      "--------------------------------------------------\n",
      "Chunk 145:\n",
      "  Content: \"And so , yeah . [ Interviewer ] : What age do you think that really changed for you ? [ Participant ] : Like 16 , 17 . [ Interviewer ] : Okay . Yeah . [ Participant ] : 16 , 17 , I just started not to go . But then when I got older I started to even like actively think about what I believed in and what I did n't want to believe in . And yeah I started to see also like the bad things that they do and all the controversy that there is in the church . So yeah . [ Interviewer ] : So if I were to ask you , so would you describe yourself now as religious or spiritual or something else ? [ Participant ] : No . [ Interviewer ] : No ? [ Participant ] : I would n't say so . [ Interviewer ] : No . Do you ever go to mass ? [ Participant ] : No . I just , I like to go to church just to like see the architecture and look at the really beautiful and the paintings . I would n't mind go to mass like one day , one time just , but yeah , I do n't go to mass . It 's been ... Five , six years ago , I guess . I do n't even recall the last time I went . [ Interviewer ] : But when you were small , you did your catechism , you did your communion , your first communion . Yeah , I did all of that . You did all of the steps when you were small . [ Participant ] : I did all of that . [ Interviewer ] : Do you celebrate any of the holidays ? [ Participant ] : Yeah , like ... Like Christmas , but not in a Catholic way . And Easter , but just because there 's vacation and it 's time to gather with your family , but not in the Christian way , let 's say . [ Interviewer ] : Okay . Do you do any of the other practices ? Do you pray ? Do you light candles ? [ Participant ] : No . No . [ Interviewer ] : Okay . You 're not married , right ? No . Do you think you 'll have a Catholic wedding ?\"\n",
      "  Type:    text\n",
      "Speaker Label: True\n",
      "  Extra:   None\n",
      "--------------------------------------------------\n",
      "Chunk 146:\n",
      "  Content: '<span style=\"background-color: lightgreen;\">[ Participant ] :</span>'\n",
      "  Type:    span\n",
      "Speaker Label: True\n",
      "  Extra:   ins\n",
      "--------------------------------------------------\n",
      "Chunk 147:\n",
      "  Content: 'No . No ?'\n",
      "  Type:    text\n",
      "Speaker Label: None\n",
      "  Extra:   None\n",
      "--------------------------------------------------\n",
      "Chunk 148:\n",
      "  Content: '<span style=\"background-color: lightgreen;\">[ Interviewer ] :</span>'\n",
      "  Type:    span\n",
      "Speaker Label: True\n",
      "  Extra:   ins\n",
      "--------------------------------------------------\n",
      "Chunk 149:\n",
      "  Content: \"Okay . It 's interesting . And so , in your family , you said your family does n't really go to Mass either anymore .\"\n",
      "  Type:    text\n",
      "Speaker Label: None\n",
      "  Extra:   None\n",
      "--------------------------------------------------\n",
      "Chunk 150:\n",
      "  Content: '<span style=\"background-color: lightgreen;\">[ Participant ] :</span>'\n",
      "  Type:    span\n",
      "Speaker Label: True\n",
      "  Extra:   ins\n",
      "--------------------------------------------------\n",
      "Chunk 151:\n",
      "  Content: 'Yeah , yeah .'\n",
      "  Type:    text\n",
      "Speaker Label: None\n",
      "  Extra:   None\n",
      "--------------------------------------------------\n",
      "Chunk 152:\n",
      "  Content: '<span style=\"background-color: lightgreen;\">[ Interviewer ] :</span>'\n",
      "  Type:    span\n",
      "Speaker Label: True\n",
      "  Extra:   ins\n",
      "--------------------------------------------------\n",
      "Chunk 153:\n",
      "  Content: \"Okay . And would your , and your grandparents do n't go ? You mentioned the one grandfather , he does n't go . [ Participant ] : No , he does n't go . [ Interviewer ] : Would your , the grandmother who died a few years ago , would she have gone before , maybe before her Alzheimer 's diagnosis ?\"\n",
      "  Type:    text\n",
      "Speaker Label: True\n",
      "  Extra:   None\n",
      "--------------------------------------------------\n",
      "Chunk 154:\n",
      "  Content: '<span style=\"background-color: lightgreen;\">[ Participant ] :</span>'\n",
      "  Type:    span\n",
      "Speaker Label: True\n",
      "  Extra:   ins\n",
      "--------------------------------------------------\n",
      "Chunk 155:\n",
      "  Content: 'No . No .'\n",
      "  Type:    text\n",
      "Speaker Label: None\n",
      "  Extra:   None\n",
      "--------------------------------------------------\n",
      "Chunk 156:\n",
      "  Content: '<span style=\"background-color: lightgreen;\">[ Interviewer ] :</span>'\n",
      "  Type:    span\n",
      "Speaker Label: True\n",
      "  Extra:   ins\n",
      "--------------------------------------------------\n",
      "Chunk 157:\n",
      "  Content: \"Okay . Well , what do you believe happens when we die ? [ Participant ] : Good question . I do n't know . Sometimes I think about it . Yeah , I do n't like to ... Rationally , I would say nothing happens , you know ? So I could just die , basically . But in my head , like ... Do n't really want to believe that . Let 's say it feels kind of like I know that everything finishes like this everything that you thought everything they felt during your life . It just like it go because it 's gone like this . So I do n't really know . And I know they would like to still exist as another form I do n't know . And uh just not disappear for good . And uh but yeah sometimes I ask myself this question but I still did n't find like an answer or something that I believe it 's gon na happen . For sure it 's nothing that related or any religion you know . So that is like whichever religion . So I do n't think that 's uh what they say is gon na happen because like they 're still like they 're humans like us . So how can they know ? and ? But yeah , it 's Like . I 'm also very rational . So at the same time we 're just like . It 's also a bit arrogant let 's say to say how sorry as humans who are gon na we 're gon na be we 're gon na live an afterlife . And then animals what about them ? what about plants ? I know so it 's . It 's also a bit very . You know you homo sapiens focus thinking like okay we 're we 're so good and we 're so nice that we need to to have an\"\n",
      "  Type:    text\n",
      "Speaker Label: True\n",
      "  Extra:   None\n",
      "--------------------------------------------------\n",
      "Chunk 158:\n",
      "  Content: '<span style=\"background-color: lightcoral;\"><s>art</s></span>'\n",
      "  Type:    span\n",
      "Speaker Label: None\n",
      "  Extra:   del\n",
      "--------------------------------------------------\n",
      "Chunk 159:\n",
      "  Content: \"afterlife . And so yeah I do n't I do n't know . I I wish I wish there 's something that does n't put\"\n",
      "  Type:    text\n",
      "Speaker Label: None\n",
      "  Extra:   None\n",
      "--------------------------------------------------\n",
      "Chunk 160:\n",
      "  Content: '<span style=\"background-color: yellow;\"><s>hand</s> → an end</span>'\n",
      "  Type:    span\n",
      "Speaker Label: None\n",
      "  Extra:   sub\n",
      "--------------------------------------------------\n",
      "Chunk 161:\n",
      "  Content: \"to everything . But yeah even if there is yeah it 's like this I do n't know . [ Interviewer ] : So when you think about what might happen , do you think of the spirit or the soul or consciousness continuing ? Or how do you imagine that ? to look ? [ Participant ] : Yeah , maybe just like a little cloud with just your soul and just your ...\"\n",
      "  Type:    text\n",
      "Speaker Label: True\n",
      "  Extra:   None\n",
      "--------------------------------------------------\n",
      "Chunk 162:\n",
      "  Content: '<span style=\"background-color: lightcoral;\"><s>[ Interviewer ] :</s></span>'\n",
      "  Type:    span\n",
      "Speaker Label: True\n",
      "  Extra:   del\n",
      "--------------------------------------------------\n",
      "Chunk 163:\n",
      "  Content: 'Your thinking your feelings things like this if I have to imagine like yeah like this'\n",
      "  Type:    text\n",
      "Speaker Label: None\n",
      "  Extra:   None\n",
      "--------------------------------------------------\n",
      "Chunk 164:\n",
      "  Content: '<span style=\"background-color: lightgreen;\">[ Interviewer ] :</span>'\n",
      "  Type:    span\n",
      "Speaker Label: True\n",
      "  Extra:   ins\n",
      "--------------------------------------------------\n",
      "Chunk 165:\n",
      "  Content: \"Do you believe that we can have experiences with those who have died ? [ Participant ] : Maybe yeah like I do n't know . There are like many people they say they can\"\n",
      "  Type:    text\n",
      "Speaker Label: True\n",
      "  Extra:   None\n",
      "--------------------------------------------------\n",
      "Chunk 166:\n",
      "  Content: '<span style=\"background-color: lightgreen;\">that</span>'\n",
      "  Type:    span\n",
      "Speaker Label: None\n",
      "  Extra:   ins\n",
      "--------------------------------------------------\n",
      "Chunk 167:\n",
      "  Content: \"they had experiences and they saw things . They did n't say things but that 's also very rational to me . But you know I never say never like . I 'm always hoping to even listen to people that say that they experience these things like and maybe like . Right now I do n't believe it because I did n't have like an experience myself . I never talked to someone that really like maybe convinced me and I also think it 's a lot can be in in their head you know and that 's also fine by me . Like if you if you 're able to use you know say uh you know my dad or is is behind me and he 's helping me that 's that 's . Uh that 's good for you . Because like you feel that you feel like your dad is with you and whatever you do whatever you you 're not doing . But I also think that even if it 's not real it 's still like it 's a nice thing to have or to experience . So I would say I would say like it 's for sure like it 's possible to experience it but I think it 's still like not let 's say the real person behind you but it 's just like in your head but that 's fine as well yeah\"\n",
      "  Type:    text\n",
      "Speaker Label: None\n",
      "  Extra:   None\n",
      "--------------------------------------------------\n",
      "Chunk 168:\n",
      "  Content: '<span style=\"background-color: lightgreen;\">. [ Interviewer ] :</span>'\n",
      "  Type:    span\n",
      "Speaker Label: True\n",
      "  Extra:   ins\n",
      "--------------------------------------------------\n",
      "Chunk 169:\n",
      "  Content: 'Okay .'\n",
      "  Type:    text\n",
      "Speaker Label: None\n",
      "  Extra:   None\n",
      "--------------------------------------------------\n",
      "Chunk 170:\n",
      "  Content: '<span style=\"background-color: lightcoral;\"><s>[ Interviewer ] :</s></span>'\n",
      "  Type:    span\n",
      "Speaker Label: True\n",
      "  Extra:   del\n",
      "--------------------------------------------------\n",
      "Chunk 171:\n",
      "  Content: \"And so if you think back to your experience with the robotic device that you did a couple of days ago , so did you have any experience during that ? [ Participant ] : No , as I was saying to her the last time . So after the second round , when I received for the first time the questions , I did n't think about an external , like someone touching me or anything . Then when I read the question , I was like , should I feel something or should I try to get into this part ? So for the first 10 seconds of the second round , I felt maybe like I was trying to just convince myself that ... Trying to alineate from the situation . But then I got back straight to thinking like just robotic arm and then it became very with repetition became very mechanical as an experiment like as a situation . So I was just like a bit of confusion at the end of the beginning of the second round but I never felt like someone was behind me or touching me\"\n",
      "  Type:    text\n",
      "Speaker Label: True\n",
      "  Extra:   None\n",
      "--------------------------------------------------\n",
      "Chunk 172:\n",
      "  Content: '<span style=\"background-color: lightgreen;\">[ Interviewer ] :</span>'\n",
      "  Type:    span\n",
      "Speaker Label: True\n",
      "  Extra:   ins\n",
      "--------------------------------------------------\n",
      "Chunk 173:\n",
      "  Content: 'right never felt like something other than the robot was there really .'\n",
      "  Type:    text\n",
      "Speaker Label: None\n",
      "  Extra:   None\n",
      "--------------------------------------------------\n",
      "Chunk 174:\n",
      "  Content: '<span style=\"background-color: lightcoral;\"><s>[ Interviewer ] :</s></span>'\n",
      "  Type:    span\n",
      "Speaker Label: True\n",
      "  Extra:   del\n",
      "--------------------------------------------------\n",
      "Chunk 175:\n",
      "  Content: \"Yeah okay yeah yeah pretty typical yeah but it 's interesting so can you ? uh so you mentioned in the first couple of seconds you actually were trying to like almost imagine yourself as like having some sort of persons be touching you . Can you say more about it ? [ Participant ] : Yeah because I think like it 's it 's . Everything is about how you approach the thing . Like if you if I just close my eyes and like think thought about like anyone touching me or I think I would have like felt that way you know but I choose not to do it . Let 's say but I think with imagination you can you can actually do it and have like a let 's say an experience like this . But I also did n't want to like let 's say bias the study in the sense like I did n't want to like just do it for my kind of like experiment you know and I wanted to keep it like as real as possible yeah and so just yeah . I think if I focused on this situation I would have maybe felt like someone yeah maybe imagine like . I know that the study was about like griefing . So I could have like imagine like my grandmother touching me and then her body , like , behind me , but , yeah , it was just a bit inside my head , yeah . [ Interviewer ] : So you were thinking about this rather than it coming from the experience itself more ? [ Participant ] : Yeah . I was just thinking , like , if now I start to think about this and try to get myself in this situation , I 'm going to have a different experience . [ Interviewer ] : Yeah , I know , it 's true . Yeah , that 's really interesting . Have you ever had an experience like that with the robot ? Like , have you ever done anything similar to that before ? [ Participant ] : No . [ Interviewer ] : No . Was that kind of like a novel or new experience for you\"\n",
      "  Type:    text\n",
      "Speaker Label: True\n",
      "  Extra:   None\n",
      "--------------------------------------------------\n",
      "Chunk 176:\n",
      "  Content: '<span style=\"background-color: yellow;\"><s>?</s> → .</span>'\n",
      "  Type:    span\n",
      "Speaker Label: None\n",
      "  Extra:   sub\n",
      "--------------------------------------------------\n",
      "Chunk 177:\n",
      "  Content: \"Interesting . Okay . Well , is there anything else that related to some of the things we 've talked about or related to your experiences of grief with your grandmother that we have n't talked about ? that you want to share ? [ Participant ] : No . [ Interviewer ] : No ? I do n't think so . Feels pretty comprehensive , all the things . [ Participant ] : Yeah , yeah , yeah . [ Interviewer ] : Okay . And Caroline , do you have any questions ?\"\n",
      "  Type:    text\n",
      "Speaker Label: True\n",
      "  Extra:   None\n",
      "--------------------------------------------------\n",
      "Chunk 178:\n",
      "  Content: '<span style=\"background-color: lightgreen;\">[ Interviewer 2 ] :</span>'\n",
      "  Type:    span\n",
      "Speaker Label: True\n",
      "  Extra:   ins\n",
      "--------------------------------------------------\n",
      "Chunk 179:\n",
      "  Content: 'No .'\n",
      "  Type:    text\n",
      "Speaker Label: None\n",
      "  Extra:   None\n",
      "--------------------------------------------------\n",
      "Chunk 180:\n",
      "  Content: '<span style=\"background-color: lightgreen;\">[ Interviewer ] :</span>'\n",
      "  Type:    span\n",
      "Speaker Label: True\n",
      "  Extra:   ins\n",
      "--------------------------------------------------\n",
      "Chunk 181:\n",
      "  Content: 'No .'\n",
      "  Type:    text\n",
      "Speaker Label: no_label\n",
      "  Extra:   no_label\n",
      "--------------------------------------------------\n"
     ]
    }
   ],
   "source": [
    "start = 14\n",
    "\n",
    "for i, (content, ctype, speaker_label, extra) in enumerate(chunked_result[start:], start=start):\n",
    "    print(f\"Chunk {i}:\")\n",
    "    print(\"  Content:\", repr(content))\n",
    "    print(\"  Type:   \", ctype)\n",
    "    print(\"Speaker Label:\", speaker_label)\n",
    "    print(\"  Extra:  \", extra)\n",
    "    print(\"--------------------------------------------------\")"
   ]
  },
  {
   "cell_type": "markdown",
   "metadata": {},
   "source": [
    "# Visualize performance metrics"
   ]
  },
  {
   "cell_type": "markdown",
   "metadata": {},
   "source": [
    "## Meditations Visualisation"
   ]
  },
  {
   "cell_type": "code",
   "execution_count": 13,
   "metadata": {},
   "outputs": [
    {
     "data": {
      "text/html": [
       "<div>\n",
       "<style scoped>\n",
       "    .dataframe tbody tr th:only-of-type {\n",
       "        vertical-align: middle;\n",
       "    }\n",
       "\n",
       "    .dataframe tbody tr th {\n",
       "        vertical-align: top;\n",
       "    }\n",
       "\n",
       "    .dataframe thead th {\n",
       "        text-align: right;\n",
       "    }\n",
       "</style>\n",
       "<table border=\"1\" class=\"dataframe\">\n",
       "  <thead>\n",
       "    <tr style=\"text-align: right;\">\n",
       "      <th></th>\n",
       "      <th>Filename</th>\n",
       "      <th>WER</th>\n",
       "      <th>DER</th>\n",
       "      <th>Total Words</th>\n",
       "      <th>Deletions</th>\n",
       "      <th>Insertions</th>\n",
       "      <th>Substitutions</th>\n",
       "      <th>Reference Speech Duration</th>\n",
       "      <th>Missed Duration</th>\n",
       "      <th>False Alarm Duration</th>\n",
       "      <th>Confusion Duration</th>\n",
       "      <th>Experiment</th>\n",
       "    </tr>\n",
       "  </thead>\n",
       "  <tbody>\n",
       "    <tr>\n",
       "      <th>0</th>\n",
       "      <td>ID 05</td>\n",
       "      <td>0.0271</td>\n",
       "      <td>0.1156</td>\n",
       "      <td>1106</td>\n",
       "      <td>1</td>\n",
       "      <td>25</td>\n",
       "      <td>4</td>\n",
       "      <td>615.68</td>\n",
       "      <td>4.0</td>\n",
       "      <td>0.0</td>\n",
       "      <td>67.200</td>\n",
       "      <td>OBE1</td>\n",
       "    </tr>\n",
       "    <tr>\n",
       "      <th>1</th>\n",
       "      <td>Id 08</td>\n",
       "      <td>0.0187</td>\n",
       "      <td>0.0564</td>\n",
       "      <td>695</td>\n",
       "      <td>1</td>\n",
       "      <td>8</td>\n",
       "      <td>4</td>\n",
       "      <td>274.65</td>\n",
       "      <td>0.0</td>\n",
       "      <td>0.0</td>\n",
       "      <td>15.500</td>\n",
       "      <td>OBE1</td>\n",
       "    </tr>\n",
       "    <tr>\n",
       "      <th>2</th>\n",
       "      <td>Id 13</td>\n",
       "      <td>0.0230</td>\n",
       "      <td>0.0657</td>\n",
       "      <td>1479</td>\n",
       "      <td>6</td>\n",
       "      <td>27</td>\n",
       "      <td>1</td>\n",
       "      <td>439.70</td>\n",
       "      <td>0.0</td>\n",
       "      <td>0.0</td>\n",
       "      <td>28.880</td>\n",
       "      <td>OBE1</td>\n",
       "    </tr>\n",
       "    <tr>\n",
       "      <th>3</th>\n",
       "      <td>Id 13b</td>\n",
       "      <td>0.0017</td>\n",
       "      <td>0.0541</td>\n",
       "      <td>576</td>\n",
       "      <td>0</td>\n",
       "      <td>0</td>\n",
       "      <td>1</td>\n",
       "      <td>201.60</td>\n",
       "      <td>0.0</td>\n",
       "      <td>0.0</td>\n",
       "      <td>10.900</td>\n",
       "      <td>OBE1</td>\n",
       "    </tr>\n",
       "    <tr>\n",
       "      <th>4</th>\n",
       "      <td>Id 14</td>\n",
       "      <td>0.0317</td>\n",
       "      <td>0.0568</td>\n",
       "      <td>505</td>\n",
       "      <td>1</td>\n",
       "      <td>9</td>\n",
       "      <td>6</td>\n",
       "      <td>172.97</td>\n",
       "      <td>0.0</td>\n",
       "      <td>0.0</td>\n",
       "      <td>9.820</td>\n",
       "      <td>OBE1</td>\n",
       "    </tr>\n",
       "    <tr>\n",
       "      <th>...</th>\n",
       "      <td>...</td>\n",
       "      <td>...</td>\n",
       "      <td>...</td>\n",
       "      <td>...</td>\n",
       "      <td>...</td>\n",
       "      <td>...</td>\n",
       "      <td>...</td>\n",
       "      <td>...</td>\n",
       "      <td>...</td>\n",
       "      <td>...</td>\n",
       "      <td>...</td>\n",
       "      <td>...</td>\n",
       "    </tr>\n",
       "    <tr>\n",
       "      <th>77</th>\n",
       "      <td>S304</td>\n",
       "      <td>0.0266</td>\n",
       "      <td>0.1214</td>\n",
       "      <td>1203</td>\n",
       "      <td>5</td>\n",
       "      <td>21</td>\n",
       "      <td>6</td>\n",
       "      <td>425.92</td>\n",
       "      <td>0.0</td>\n",
       "      <td>0.0</td>\n",
       "      <td>51.699</td>\n",
       "      <td>Compassion</td>\n",
       "    </tr>\n",
       "    <tr>\n",
       "      <th>78</th>\n",
       "      <td>S305con</td>\n",
       "      <td>0.1518</td>\n",
       "      <td>0.0148</td>\n",
       "      <td>191</td>\n",
       "      <td>0</td>\n",
       "      <td>29</td>\n",
       "      <td>0</td>\n",
       "      <td>101.10</td>\n",
       "      <td>1.0</td>\n",
       "      <td>0.0</td>\n",
       "      <td>0.500</td>\n",
       "      <td>Compassion</td>\n",
       "    </tr>\n",
       "    <tr>\n",
       "      <th>79</th>\n",
       "      <td>S306</td>\n",
       "      <td>0.0097</td>\n",
       "      <td>0.0780</td>\n",
       "      <td>1450</td>\n",
       "      <td>1</td>\n",
       "      <td>3</td>\n",
       "      <td>10</td>\n",
       "      <td>530.71</td>\n",
       "      <td>0.0</td>\n",
       "      <td>0.0</td>\n",
       "      <td>41.400</td>\n",
       "      <td>Compassion</td>\n",
       "    </tr>\n",
       "    <tr>\n",
       "      <th>80</th>\n",
       "      <td>S307</td>\n",
       "      <td>0.0272</td>\n",
       "      <td>0.1578</td>\n",
       "      <td>734</td>\n",
       "      <td>3</td>\n",
       "      <td>4</td>\n",
       "      <td>13</td>\n",
       "      <td>375.70</td>\n",
       "      <td>0.0</td>\n",
       "      <td>0.0</td>\n",
       "      <td>59.300</td>\n",
       "      <td>Compassion</td>\n",
       "    </tr>\n",
       "    <tr>\n",
       "      <th>81</th>\n",
       "      <td>S313</td>\n",
       "      <td>0.0194</td>\n",
       "      <td>0.0359</td>\n",
       "      <td>1441</td>\n",
       "      <td>3</td>\n",
       "      <td>3</td>\n",
       "      <td>22</td>\n",
       "      <td>576.62</td>\n",
       "      <td>0.0</td>\n",
       "      <td>0.0</td>\n",
       "      <td>20.680</td>\n",
       "      <td>Compassion</td>\n",
       "    </tr>\n",
       "  </tbody>\n",
       "</table>\n",
       "<p>82 rows × 12 columns</p>\n",
       "</div>"
      ],
      "text/plain": [
       "   Filename     WER     DER  Total Words  Deletions  Insertions  \\\n",
       "0     ID 05  0.0271  0.1156         1106          1          25   \n",
       "1     Id 08  0.0187  0.0564          695          1           8   \n",
       "2     Id 13  0.0230  0.0657         1479          6          27   \n",
       "3    Id 13b  0.0017  0.0541          576          0           0   \n",
       "4     Id 14  0.0317  0.0568          505          1           9   \n",
       "..      ...     ...     ...          ...        ...         ...   \n",
       "77     S304  0.0266  0.1214         1203          5          21   \n",
       "78  S305con  0.1518  0.0148          191          0          29   \n",
       "79     S306  0.0097  0.0780         1450          1           3   \n",
       "80     S307  0.0272  0.1578          734          3           4   \n",
       "81     S313  0.0194  0.0359         1441          3           3   \n",
       "\n",
       "    Substitutions  Reference Speech Duration  Missed Duration  \\\n",
       "0               4                     615.68              4.0   \n",
       "1               4                     274.65              0.0   \n",
       "2               1                     439.70              0.0   \n",
       "3               1                     201.60              0.0   \n",
       "4               6                     172.97              0.0   \n",
       "..            ...                        ...              ...   \n",
       "77              6                     425.92              0.0   \n",
       "78              0                     101.10              1.0   \n",
       "79             10                     530.71              0.0   \n",
       "80             13                     375.70              0.0   \n",
       "81             22                     576.62              0.0   \n",
       "\n",
       "    False Alarm Duration  Confusion Duration  Experiment  \n",
       "0                    0.0              67.200        OBE1  \n",
       "1                    0.0              15.500        OBE1  \n",
       "2                    0.0              28.880        OBE1  \n",
       "3                    0.0              10.900        OBE1  \n",
       "4                    0.0               9.820        OBE1  \n",
       "..                   ...                 ...         ...  \n",
       "77                   0.0              51.699  Compassion  \n",
       "78                   0.0               0.500  Compassion  \n",
       "79                   0.0              41.400  Compassion  \n",
       "80                   0.0              59.300  Compassion  \n",
       "81                   0.0              20.680  Compassion  \n",
       "\n",
       "[82 rows x 12 columns]"
      ]
     },
     "execution_count": 13,
     "metadata": {},
     "output_type": "execute_result"
    }
   ],
   "source": [
    "# Create a mapping of Filename to Experiment\n",
    "df_audio = pd.read_csv('./outputs/audio_data.csv')\n",
    "filename_to_experiment = dict(zip(df_audio['File Name'],df_audio['Experiment']))\n",
    "\n",
    "df = pd.read_csv('../evaluation/metrics.csv')\n",
    "df['Experiment'] = df['Filename'].map(filename_to_experiment)\n",
    "df"
   ]
  },
  {
   "cell_type": "code",
   "execution_count": 14,
   "metadata": {},
   "outputs": [],
   "source": [
    "def plot_histograms(df):\n",
    "    \"\"\"\n",
    "    Plots histograms for WER and DER distributions.\n",
    "    \n",
    "    Args:\n",
    "        df (pd.DataFrame): DataFrame containing the metrics.\n",
    "    \"\"\"\n",
    "    plt.figure(figsize=(12, 6))\n",
    "\n",
    "    # Define bins dynamically based on the maximum values in the data\n",
    "    wer_max = df['WER'].max()\n",
    "    der_max = df['DER'].max()\n",
    "    \n",
    "    wer_bins = np.arange(0, wer_max + 0.05, 0.05)  # Bins for WER\n",
    "    der_bins = np.arange(0, der_max + 0.05, 0.05)  # Bins for DER\n",
    "    \n",
    "    # Histogram for WER\n",
    "    plt.subplot(1, 2, 1)\n",
    "    ax1 = sns.histplot(df['WER'], bins=wer_bins, kde=True, color='skyblue')\n",
    "    plt.xlabel('Word Error Rate (WER)')\n",
    "    #plt.title('Distribution of WER')\n",
    "    plt.xticks(np.arange(0, wer_max + 0.1, 0.1))  # X-ticks at 10% intervals\n",
    "\n",
    "    # Annotate each bar with percentage\n",
    "    for p in ax1.patches:\n",
    "        height = p.get_height()\n",
    "        if height > 0:\n",
    "            percentage = (height / df['WER'].shape[0]) * 100\n",
    "            ax1.annotate(f'{percentage:.1f}%', \n",
    "                         (p.get_x() + p.get_width() / 2., height),\n",
    "                         ha='center', va='bottom', fontsize=10, color='black')\n",
    "    \n",
    "    # Histogram for DER\n",
    "    plt.subplot(1, 2, 2)\n",
    "    ax2 = sns.histplot(df['DER'], bins=der_bins, kde=True, color='salmon')\n",
    "    plt.xlabel('Diarization Error Rate (DER)')\n",
    "    #plt.title('Distribution of DER')\n",
    "    plt.xticks(np.arange(0, der_max + 0.1, 0.1))  # X-ticks at 10% intervals\n",
    "\n",
    "    # Annotate each bar with percentage\n",
    "    for p in ax2.patches:\n",
    "        height = p.get_height()\n",
    "        if height > 0:\n",
    "            percentage = (height / df['DER'].shape[0]) * 100\n",
    "            ax2.annotate(f'{percentage:.1f}%', \n",
    "                         (p.get_x() + p.get_width() / 2., height),\n",
    "                         ha='center', va='bottom', fontsize=10, color='black')\n",
    "    \n",
    "    plt.tight_layout()\n",
    "    plt.show()\n",
    "\n",
    "def plot_boxplots(df):\n",
    "    \"\"\"\n",
    "    Plots box plots for WER and DER.\n",
    "    \n",
    "    Args:\n",
    "        df (pd.DataFrame): DataFrame containing the metrics.\n",
    "    \"\"\"\n",
    "    plt.figure(figsize=(8, 4))\n",
    "    \n",
    "    # Melt the DataFrame for easier plotting with Seaborn\n",
    "    melted_df = df.melt(id_vars='Filename', value_vars=['WER', 'DER'], var_name='Metric', value_name='Value')\n",
    "    sns.boxplot(x='Metric', y='Value',hue=\"Metric\" ,data=melted_df, palette=['skyblue', 'salmon'])\n",
    "    plt.ylabel('Error Rate')\n",
    "    plt.xlabel('')\n",
    "    \n",
    "    plt.tight_layout()\n",
    "    plt.show()\n",
    "\n",
    "def plot_wer_vs_der_scatter(df):\n",
    "    \"\"\"\n",
    "    Plots an interactive scatter plot of WER vs. DER using Plotly.\n",
    "    \n",
    "    Args:\n",
    "        df (pd.DataFrame): DataFrame containing the metrics, must include 'WER', 'DER', and 'Filename' columns.\n",
    "    \"\"\"\n",
    "    fig = px.scatter(\n",
    "        df,\n",
    "        x='WER',\n",
    "        y='DER',\n",
    "        color='Filename',\n",
    "        hover_data=['Filename','Experiment'],  # Show filenames on hover\n",
    "        labels={\n",
    "            'WER': 'Word Error Rate (WER)',\n",
    "            'DER': 'Diarization Error Rate (DER)'\n",
    "        },\n",
    "        title='Interactive Scatter Plot of WER vs. DER'\n",
    "    )\n",
    "    fig.update_traces(marker=dict(size=10))\n",
    "    fig.update_layout(\n",
    "        xaxis_title='Word Error Rate (WER)',\n",
    "        yaxis_title='Diarization Error Rate (DER)',\n",
    "        showlegend=False\n",
    "    )\n",
    "    fig.show()"
   ]
  },
  {
   "cell_type": "code",
   "execution_count": 15,
   "metadata": {},
   "outputs": [
    {
     "data": {
      "image/png": "[encoded data removed]",
      "text/plain": [
       "<Figure size 800x400 with 1 Axes>"
      ]
     },
     "metadata": {},
     "output_type": "display_data"
    },
    {
     "data": {
      "image/png": "[encoded data removed]",
      "text/plain": [
       "<Figure size 1200x600 with 2 Axes>"
      ]
     },
     "metadata": {},
     "output_type": "display_data"
    },
    {
     "data": {
      "application/vnd.plotly.v1+json": {
       "config": {
        "plotlyServerURL": "https://plot.ly"
       },
       "data": [
        {
         "customdata": [
          [
           "ID 05",
           "OBE1"
          ]
         ],
         "hovertemplate": "Filename=%{customdata[0]}<br>Word Error Rate (WER)=%{x}<br>Diarization Error Rate (DER)=%{y}<br>Experiment=%{customdata[1]}<extra></extra>",
         "legendgroup": "ID 05",
         "marker": {
          "color": "#636efa",
          "size": 10,
          "symbol": "circle"
         },
         "mode": "markers",
         "name": "ID 05",
         "orientation": "v",
         "showlegend": true,
         "type": "scatter",
         "x": [
          0.0271
         ],
         "xaxis": "x",
         "y": [
          0.1156
         ],
         "yaxis": "y"
        },
        {
         "customdata": [
          [
           "Id 08",
           "OBE1"
          ]
         ],
         "hovertemplate": "Filename=%{customdata[0]}<br>Word Error Rate (WER)=%{x}<br>Diarization Error Rate (DER)=%{y}<br>Experiment=%{customdata[1]}<extra></extra>",
         "legendgroup": "Id 08",
         "marker": {
          "color": "#EF553B",
          "size": 10,
          "symbol": "circle"
         },
         "mode": "markers",
         "name": "Id 08",
         "orientation": "v",
         "showlegend": true,
         "type": "scatter",
         "x": [
          0.0187
         ],
         "xaxis": "x",
         "y": [
          0.0564
         ],
         "yaxis": "y"
        },
        {
         "customdata": [
          [
           "Id 13",
           "OBE1"
          ]
         ],
         "hovertemplate": "Filename=%{customdata[0]}<br>Word Error Rate (WER)=%{x}<br>Diarization Error Rate (DER)=%{y}<br>Experiment=%{customdata[1]}<extra></extra>",
         "legendgroup": "Id 13",
         "marker": {
          "color": "#00cc96",
          "size": 10,
          "symbol": "circle"
         },
         "mode": "markers",
         "name": "Id 13",
         "orientation": "v",
         "showlegend": true,
         "type": "scatter",
         "x": [
          0.023
         ],
         "xaxis": "x",
         "y": [
          0.0657
         ],
         "yaxis": "y"
        },
        {
         "customdata": [
          [
           "Id 13b",
           "OBE1"
          ]
         ],
         "hovertemplate": "Filename=%{customdata[0]}<br>Word Error Rate (WER)=%{x}<br>Diarization Error Rate (DER)=%{y}<br>Experiment=%{customdata[1]}<extra></extra>",
         "legendgroup": "Id 13b",
         "marker": {
          "color": "#ab63fa",
          "size": 10,
          "symbol": "circle"
         },
         "mode": "markers",
         "name": "Id 13b",
         "orientation": "v",
         "showlegend": true,
         "type": "scatter",
         "x": [
          0.0017
         ],
         "xaxis": "x",
         "y": [
          0.0541
         ],
         "yaxis": "y"
        },
        {
         "customdata": [
          [
           "Id 14",
           "OBE1"
          ]
         ],
         "hovertemplate": "Filename=%{customdata[0]}<br>Word Error Rate (WER)=%{x}<br>Diarization Error Rate (DER)=%{y}<br>Experiment=%{customdata[1]}<extra></extra>",
         "legendgroup": "Id 14",
         "marker": {
          "color": "#FFA15A",
          "size": 10,
          "symbol": "circle"
         },
         "mode": "markers",
         "name": "Id 14",
         "orientation": "v",
         "showlegend": true,
         "type": "scatter",
         "x": [
          0.0317
         ],
         "xaxis": "x",
         "y": [
          0.0568
         ],
         "yaxis": "y"
        },
        {
         "customdata": [
          [
           "Id 15",
           "OBE1"
          ]
         ],
         "hovertemplate": "Filename=%{customdata[0]}<br>Word Error Rate (WER)=%{x}<br>Diarization Error Rate (DER)=%{y}<br>Experiment=%{customdata[1]}<extra></extra>",
         "legendgroup": "Id 15",
         "marker": {
          "color": "#19d3f3",
          "size": 10,
          "symbol": "circle"
         },
         "mode": "markers",
         "name": "Id 15",
         "orientation": "v",
         "showlegend": true,
         "type": "scatter",
         "x": [
          0
         ],
         "xaxis": "x",
         "y": [
          0
         ],
         "yaxis": "y"
        },
        {
         "customdata": [
          [
           "Id 16",
           "OBE1"
          ]
         ],
         "hovertemplate": "Filename=%{customdata[0]}<br>Word Error Rate (WER)=%{x}<br>Diarization Error Rate (DER)=%{y}<br>Experiment=%{customdata[1]}<extra></extra>",
         "legendgroup": "Id 16",
         "marker": {
          "color": "#FF6692",
          "size": 10,
          "symbol": "circle"
         },
         "mode": "markers",
         "name": "Id 16",
         "orientation": "v",
         "showlegend": true,
         "type": "scatter",
         "x": [
          0.0231
         ],
         "xaxis": "x",
         "y": [
          0.0838
         ],
         "yaxis": "y"
        },
        {
         "customdata": [
          [
           "Id 17",
           "OBE1"
          ]
         ],
         "hovertemplate": "Filename=%{customdata[0]}<br>Word Error Rate (WER)=%{x}<br>Diarization Error Rate (DER)=%{y}<br>Experiment=%{customdata[1]}<extra></extra>",
         "legendgroup": "Id 17",
         "marker": {
          "color": "#B6E880",
          "size": 10,
          "symbol": "circle"
         },
         "mode": "markers",
         "name": "Id 17",
         "orientation": "v",
         "showlegend": true,
         "type": "scatter",
         "x": [
          0.0042
         ],
         "xaxis": "x",
         "y": [
          0.0209
         ],
         "yaxis": "y"
        },
        {
         "customdata": [
          [
           "Id 18",
           "OBE1"
          ]
         ],
         "hovertemplate": "Filename=%{customdata[0]}<br>Word Error Rate (WER)=%{x}<br>Diarization Error Rate (DER)=%{y}<br>Experiment=%{customdata[1]}<extra></extra>",
         "legendgroup": "Id 18",
         "marker": {
          "color": "#FF97FF",
          "size": 10,
          "symbol": "circle"
         },
         "mode": "markers",
         "name": "Id 18",
         "orientation": "v",
         "showlegend": true,
         "type": "scatter",
         "x": [
          0.0163
         ],
         "xaxis": "x",
         "y": [
          0.0926
         ],
         "yaxis": "y"
        },
        {
         "customdata": [
          [
           "Id 19",
           "OBE1"
          ]
         ],
         "hovertemplate": "Filename=%{customdata[0]}<br>Word Error Rate (WER)=%{x}<br>Diarization Error Rate (DER)=%{y}<br>Experiment=%{customdata[1]}<extra></extra>",
         "legendgroup": "Id 19",
         "marker": {
          "color": "#FECB52",
          "size": 10,
          "symbol": "circle"
         },
         "mode": "markers",
         "name": "Id 19",
         "orientation": "v",
         "showlegend": true,
         "type": "scatter",
         "x": [
          0.0023
         ],
         "xaxis": "x",
         "y": [
          0.0402
         ],
         "yaxis": "y"
        },
        {
         "customdata": [
          [
           "Id 19b",
           "OBE1"
          ]
         ],
         "hovertemplate": "Filename=%{customdata[0]}<br>Word Error Rate (WER)=%{x}<br>Diarization Error Rate (DER)=%{y}<br>Experiment=%{customdata[1]}<extra></extra>",
         "legendgroup": "Id 19b",
         "marker": {
          "color": "#636efa",
          "size": 10,
          "symbol": "circle"
         },
         "mode": "markers",
         "name": "Id 19b",
         "orientation": "v",
         "showlegend": true,
         "type": "scatter",
         "x": [
          0.011
         ],
         "xaxis": "x",
         "y": [
          0.1006
         ],
         "yaxis": "y"
        },
        {
         "customdata": [
          [
           "Id 22",
           "OBE1"
          ]
         ],
         "hovertemplate": "Filename=%{customdata[0]}<br>Word Error Rate (WER)=%{x}<br>Diarization Error Rate (DER)=%{y}<br>Experiment=%{customdata[1]}<extra></extra>",
         "legendgroup": "Id 22",
         "marker": {
          "color": "#EF553B",
          "size": 10,
          "symbol": "circle"
         },
         "mode": "markers",
         "name": "Id 22",
         "orientation": "v",
         "showlegend": true,
         "type": "scatter",
         "x": [
          0.0161
         ],
         "xaxis": "x",
         "y": [
          0.1051
         ],
         "yaxis": "y"
        },
        {
         "customdata": [
          [
           "Id 23",
           "OBE1"
          ]
         ],
         "hovertemplate": "Filename=%{customdata[0]}<br>Word Error Rate (WER)=%{x}<br>Diarization Error Rate (DER)=%{y}<br>Experiment=%{customdata[1]}<extra></extra>",
         "legendgroup": "Id 23",
         "marker": {
          "color": "#00cc96",
          "size": 10,
          "symbol": "circle"
         },
         "mode": "markers",
         "name": "Id 23",
         "orientation": "v",
         "showlegend": true,
         "type": "scatter",
         "x": [
          0.0247
         ],
         "xaxis": "x",
         "y": [
          0.0505
         ],
         "yaxis": "y"
        },
        {
         "customdata": [
          [
           "Id 24",
           "OBE1"
          ]
         ],
         "hovertemplate": "Filename=%{customdata[0]}<br>Word Error Rate (WER)=%{x}<br>Diarization Error Rate (DER)=%{y}<br>Experiment=%{customdata[1]}<extra></extra>",
         "legendgroup": "Id 24",
         "marker": {
          "color": "#ab63fa",
          "size": 10,
          "symbol": "circle"
         },
         "mode": "markers",
         "name": "Id 24",
         "orientation": "v",
         "showlegend": true,
         "type": "scatter",
         "x": [
          0.0184
         ],
         "xaxis": "x",
         "y": [
          0.4916
         ],
         "yaxis": "y"
        },
        {
         "customdata": [
          [
           "Id 24b",
           "OBE1"
          ]
         ],
         "hovertemplate": "Filename=%{customdata[0]}<br>Word Error Rate (WER)=%{x}<br>Diarization Error Rate (DER)=%{y}<br>Experiment=%{customdata[1]}<extra></extra>",
         "legendgroup": "Id 24b",
         "marker": {
          "color": "#FFA15A",
          "size": 10,
          "symbol": "circle"
         },
         "mode": "markers",
         "name": "Id 24b",
         "orientation": "v",
         "showlegend": true,
         "type": "scatter",
         "x": [
          0.0079
         ],
         "xaxis": "x",
         "y": [
          0.0201
         ],
         "yaxis": "y"
        },
        {
         "customdata": [
          [
           "Id 7a",
           "OBE1"
          ]
         ],
         "hovertemplate": "Filename=%{customdata[0]}<br>Word Error Rate (WER)=%{x}<br>Diarization Error Rate (DER)=%{y}<br>Experiment=%{customdata[1]}<extra></extra>",
         "legendgroup": "Id 7a",
         "marker": {
          "color": "#19d3f3",
          "size": 10,
          "symbol": "circle"
         },
         "mode": "markers",
         "name": "Id 7a",
         "orientation": "v",
         "showlegend": true,
         "type": "scatter",
         "x": [
          0.2945
         ],
         "xaxis": "x",
         "y": [
          0.2549
         ],
         "yaxis": "y"
        },
        {
         "customdata": [
          [
           "Id 7b",
           "OBE1"
          ]
         ],
         "hovertemplate": "Filename=%{customdata[0]}<br>Word Error Rate (WER)=%{x}<br>Diarization Error Rate (DER)=%{y}<br>Experiment=%{customdata[1]}<extra></extra>",
         "legendgroup": "Id 7b",
         "marker": {
          "color": "#FF6692",
          "size": 10,
          "symbol": "circle"
         },
         "mode": "markers",
         "name": "Id 7b",
         "orientation": "v",
         "showlegend": true,
         "type": "scatter",
         "x": [
          0.0034
         ],
         "xaxis": "x",
         "y": [
          0.2113
         ],
         "yaxis": "y"
        },
        {
         "customdata": [
          [
           "Participant 20 interview",
           "OBE1"
          ]
         ],
         "hovertemplate": "Filename=%{customdata[0]}<br>Word Error Rate (WER)=%{x}<br>Diarization Error Rate (DER)=%{y}<br>Experiment=%{customdata[1]}<extra></extra>",
         "legendgroup": "Participant 20 interview",
         "marker": {
          "color": "#B6E880",
          "size": 10,
          "symbol": "circle"
         },
         "mode": "markers",
         "name": "Participant 20 interview",
         "orientation": "v",
         "showlegend": true,
         "type": "scatter",
         "x": [
          0.0097
         ],
         "xaxis": "x",
         "y": [
          0.0849
         ],
         "yaxis": "y"
        },
        {
         "customdata": [
          [
           "S201-1",
           "OBE2"
          ]
         ],
         "hovertemplate": "Filename=%{customdata[0]}<br>Word Error Rate (WER)=%{x}<br>Diarization Error Rate (DER)=%{y}<br>Experiment=%{customdata[1]}<extra></extra>",
         "legendgroup": "S201-1",
         "marker": {
          "color": "#FF97FF",
          "size": 10,
          "symbol": "circle"
         },
         "mode": "markers",
         "name": "S201-1",
         "orientation": "v",
         "showlegend": true,
         "type": "scatter",
         "x": [
          0.0303
         ],
         "xaxis": "x",
         "y": [
          0.0634
         ],
         "yaxis": "y"
        },
        {
         "customdata": [
          [
           "S201-2",
           "OBE2"
          ]
         ],
         "hovertemplate": "Filename=%{customdata[0]}<br>Word Error Rate (WER)=%{x}<br>Diarization Error Rate (DER)=%{y}<br>Experiment=%{customdata[1]}<extra></extra>",
         "legendgroup": "S201-2",
         "marker": {
          "color": "#FECB52",
          "size": 10,
          "symbol": "circle"
         },
         "mode": "markers",
         "name": "S201-2",
         "orientation": "v",
         "showlegend": true,
         "type": "scatter",
         "x": [
          0.0163
         ],
         "xaxis": "x",
         "y": [
          0.1184
         ],
         "yaxis": "y"
        },
        {
         "customdata": [
          [
           "S201-3",
           "OBE2"
          ]
         ],
         "hovertemplate": "Filename=%{customdata[0]}<br>Word Error Rate (WER)=%{x}<br>Diarization Error Rate (DER)=%{y}<br>Experiment=%{customdata[1]}<extra></extra>",
         "legendgroup": "S201-3",
         "marker": {
          "color": "#636efa",
          "size": 10,
          "symbol": "circle"
         },
         "mode": "markers",
         "name": "S201-3",
         "orientation": "v",
         "showlegend": true,
         "type": "scatter",
         "x": [
          0.0036
         ],
         "xaxis": "x",
         "y": [
          0.0171
         ],
         "yaxis": "y"
        },
        {
         "customdata": [
          [
           "S202-1",
           "OBE2"
          ]
         ],
         "hovertemplate": "Filename=%{customdata[0]}<br>Word Error Rate (WER)=%{x}<br>Diarization Error Rate (DER)=%{y}<br>Experiment=%{customdata[1]}<extra></extra>",
         "legendgroup": "S202-1",
         "marker": {
          "color": "#EF553B",
          "size": 10,
          "symbol": "circle"
         },
         "mode": "markers",
         "name": "S202-1",
         "orientation": "v",
         "showlegend": true,
         "type": "scatter",
         "x": [
          0.0052
         ],
         "xaxis": "x",
         "y": [
          0.4168
         ],
         "yaxis": "y"
        },
        {
         "customdata": [
          [
           "S203-1",
           "OBE2"
          ]
         ],
         "hovertemplate": "Filename=%{customdata[0]}<br>Word Error Rate (WER)=%{x}<br>Diarization Error Rate (DER)=%{y}<br>Experiment=%{customdata[1]}<extra></extra>",
         "legendgroup": "S203-1",
         "marker": {
          "color": "#00cc96",
          "size": 10,
          "symbol": "circle"
         },
         "mode": "markers",
         "name": "S203-1",
         "orientation": "v",
         "showlegend": true,
         "type": "scatter",
         "x": [
          0.3621
         ],
         "xaxis": "x",
         "y": [
          0.1394
         ],
         "yaxis": "y"
        },
        {
         "customdata": [
          [
           "S204-1",
           "OBE2"
          ]
         ],
         "hovertemplate": "Filename=%{customdata[0]}<br>Word Error Rate (WER)=%{x}<br>Diarization Error Rate (DER)=%{y}<br>Experiment=%{customdata[1]}<extra></extra>",
         "legendgroup": "S204-1",
         "marker": {
          "color": "#ab63fa",
          "size": 10,
          "symbol": "circle"
         },
         "mode": "markers",
         "name": "S204-1",
         "orientation": "v",
         "showlegend": true,
         "type": "scatter",
         "x": [
          0.0242
         ],
         "xaxis": "x",
         "y": [
          0.3457
         ],
         "yaxis": "y"
        },
        {
         "customdata": [
          [
           "S204-2",
           "OBE2"
          ]
         ],
         "hovertemplate": "Filename=%{customdata[0]}<br>Word Error Rate (WER)=%{x}<br>Diarization Error Rate (DER)=%{y}<br>Experiment=%{customdata[1]}<extra></extra>",
         "legendgroup": "S204-2",
         "marker": {
          "color": "#FFA15A",
          "size": 10,
          "symbol": "circle"
         },
         "mode": "markers",
         "name": "S204-2",
         "orientation": "v",
         "showlegend": true,
         "type": "scatter",
         "x": [
          0.0173
         ],
         "xaxis": "x",
         "y": [
          0.3756
         ],
         "yaxis": "y"
        },
        {
         "customdata": [
          [
           "S205-1",
           "OBE2"
          ]
         ],
         "hovertemplate": "Filename=%{customdata[0]}<br>Word Error Rate (WER)=%{x}<br>Diarization Error Rate (DER)=%{y}<br>Experiment=%{customdata[1]}<extra></extra>",
         "legendgroup": "S205-1",
         "marker": {
          "color": "#19d3f3",
          "size": 10,
          "symbol": "circle"
         },
         "mode": "markers",
         "name": "S205-1",
         "orientation": "v",
         "showlegend": true,
         "type": "scatter",
         "x": [
          0.0143
         ],
         "xaxis": "x",
         "y": [
          0.2685
         ],
         "yaxis": "y"
        },
        {
         "customdata": [
          [
           "S205-2",
           "OBE2"
          ]
         ],
         "hovertemplate": "Filename=%{customdata[0]}<br>Word Error Rate (WER)=%{x}<br>Diarization Error Rate (DER)=%{y}<br>Experiment=%{customdata[1]}<extra></extra>",
         "legendgroup": "S205-2",
         "marker": {
          "color": "#FF6692",
          "size": 10,
          "symbol": "circle"
         },
         "mode": "markers",
         "name": "S205-2",
         "orientation": "v",
         "showlegend": true,
         "type": "scatter",
         "x": [
          0.0943
         ],
         "xaxis": "x",
         "y": [
          0.1425
         ],
         "yaxis": "y"
        },
        {
         "customdata": [
          [
           "S206-1",
           "OBE2"
          ]
         ],
         "hovertemplate": "Filename=%{customdata[0]}<br>Word Error Rate (WER)=%{x}<br>Diarization Error Rate (DER)=%{y}<br>Experiment=%{customdata[1]}<extra></extra>",
         "legendgroup": "S206-1",
         "marker": {
          "color": "#B6E880",
          "size": 10,
          "symbol": "circle"
         },
         "mode": "markers",
         "name": "S206-1",
         "orientation": "v",
         "showlegend": true,
         "type": "scatter",
         "x": [
          0.0496
         ],
         "xaxis": "x",
         "y": [
          0.0836
         ],
         "yaxis": "y"
        },
        {
         "customdata": [
          [
           "S206-2",
           "OBE2"
          ]
         ],
         "hovertemplate": "Filename=%{customdata[0]}<br>Word Error Rate (WER)=%{x}<br>Diarization Error Rate (DER)=%{y}<br>Experiment=%{customdata[1]}<extra></extra>",
         "legendgroup": "S206-2",
         "marker": {
          "color": "#FF97FF",
          "size": 10,
          "symbol": "circle"
         },
         "mode": "markers",
         "name": "S206-2",
         "orientation": "v",
         "showlegend": true,
         "type": "scatter",
         "x": [
          0.0556
         ],
         "xaxis": "x",
         "y": [
          0.0538
         ],
         "yaxis": "y"
        },
        {
         "customdata": [
          [
           "S207-1",
           "OBE2"
          ]
         ],
         "hovertemplate": "Filename=%{customdata[0]}<br>Word Error Rate (WER)=%{x}<br>Diarization Error Rate (DER)=%{y}<br>Experiment=%{customdata[1]}<extra></extra>",
         "legendgroup": "S207-1",
         "marker": {
          "color": "#FECB52",
          "size": 10,
          "symbol": "circle"
         },
         "mode": "markers",
         "name": "S207-1",
         "orientation": "v",
         "showlegend": true,
         "type": "scatter",
         "x": [
          0.1699
         ],
         "xaxis": "x",
         "y": [
          0.1928
         ],
         "yaxis": "y"
        },
        {
         "customdata": [
          [
           "S207-2",
           "OBE2"
          ]
         ],
         "hovertemplate": "Filename=%{customdata[0]}<br>Word Error Rate (WER)=%{x}<br>Diarization Error Rate (DER)=%{y}<br>Experiment=%{customdata[1]}<extra></extra>",
         "legendgroup": "S207-2",
         "marker": {
          "color": "#636efa",
          "size": 10,
          "symbol": "circle"
         },
         "mode": "markers",
         "name": "S207-2",
         "orientation": "v",
         "showlegend": true,
         "type": "scatter",
         "x": [
          0
         ],
         "xaxis": "x",
         "y": [
          0
         ],
         "yaxis": "y"
        },
        {
         "customdata": [
          [
           "S208-1",
           "OBE2"
          ]
         ],
         "hovertemplate": "Filename=%{customdata[0]}<br>Word Error Rate (WER)=%{x}<br>Diarization Error Rate (DER)=%{y}<br>Experiment=%{customdata[1]}<extra></extra>",
         "legendgroup": "S208-1",
         "marker": {
          "color": "#EF553B",
          "size": 10,
          "symbol": "circle"
         },
         "mode": "markers",
         "name": "S208-1",
         "orientation": "v",
         "showlegend": true,
         "type": "scatter",
         "x": [
          0.0138
         ],
         "xaxis": "x",
         "y": [
          0.106
         ],
         "yaxis": "y"
        },
        {
         "customdata": [
          [
           "S208-2",
           "OBE2"
          ]
         ],
         "hovertemplate": "Filename=%{customdata[0]}<br>Word Error Rate (WER)=%{x}<br>Diarization Error Rate (DER)=%{y}<br>Experiment=%{customdata[1]}<extra></extra>",
         "legendgroup": "S208-2",
         "marker": {
          "color": "#00cc96",
          "size": 10,
          "symbol": "circle"
         },
         "mode": "markers",
         "name": "S208-2",
         "orientation": "v",
         "showlegend": true,
         "type": "scatter",
         "x": [
          0.011
         ],
         "xaxis": "x",
         "y": [
          0.1569
         ],
         "yaxis": "y"
        },
        {
         "customdata": [
          [
           "S209-1",
           "OBE2"
          ]
         ],
         "hovertemplate": "Filename=%{customdata[0]}<br>Word Error Rate (WER)=%{x}<br>Diarization Error Rate (DER)=%{y}<br>Experiment=%{customdata[1]}<extra></extra>",
         "legendgroup": "S209-1",
         "marker": {
          "color": "#ab63fa",
          "size": 10,
          "symbol": "circle"
         },
         "mode": "markers",
         "name": "S209-1",
         "orientation": "v",
         "showlegend": true,
         "type": "scatter",
         "x": [
          0.0221
         ],
         "xaxis": "x",
         "y": [
          0.1626
         ],
         "yaxis": "y"
        },
        {
         "customdata": [
          [
           "S209-2",
           "OBE2"
          ]
         ],
         "hovertemplate": "Filename=%{customdata[0]}<br>Word Error Rate (WER)=%{x}<br>Diarization Error Rate (DER)=%{y}<br>Experiment=%{customdata[1]}<extra></extra>",
         "legendgroup": "S209-2",
         "marker": {
          "color": "#FFA15A",
          "size": 10,
          "symbol": "circle"
         },
         "mode": "markers",
         "name": "S209-2",
         "orientation": "v",
         "showlegend": true,
         "type": "scatter",
         "x": [
          0
         ],
         "xaxis": "x",
         "y": [
          0.0227
         ],
         "yaxis": "y"
        },
        {
         "customdata": [
          [
           "S209-3",
           "OBE2"
          ]
         ],
         "hovertemplate": "Filename=%{customdata[0]}<br>Word Error Rate (WER)=%{x}<br>Diarization Error Rate (DER)=%{y}<br>Experiment=%{customdata[1]}<extra></extra>",
         "legendgroup": "S209-3",
         "marker": {
          "color": "#19d3f3",
          "size": 10,
          "symbol": "circle"
         },
         "mode": "markers",
         "name": "S209-3",
         "orientation": "v",
         "showlegend": true,
         "type": "scatter",
         "x": [
          0.042
         ],
         "xaxis": "x",
         "y": [
          0.0837
         ],
         "yaxis": "y"
        },
        {
         "customdata": [
          [
           "S209-4",
           "OBE2"
          ]
         ],
         "hovertemplate": "Filename=%{customdata[0]}<br>Word Error Rate (WER)=%{x}<br>Diarization Error Rate (DER)=%{y}<br>Experiment=%{customdata[1]}<extra></extra>",
         "legendgroup": "S209-4",
         "marker": {
          "color": "#FF6692",
          "size": 10,
          "symbol": "circle"
         },
         "mode": "markers",
         "name": "S209-4",
         "orientation": "v",
         "showlegend": true,
         "type": "scatter",
         "x": [
          0.0363
         ],
         "xaxis": "x",
         "y": [
          0.0349
         ],
         "yaxis": "y"
        },
        {
         "customdata": [
          [
           "S210-1",
           "OBE2"
          ]
         ],
         "hovertemplate": "Filename=%{customdata[0]}<br>Word Error Rate (WER)=%{x}<br>Diarization Error Rate (DER)=%{y}<br>Experiment=%{customdata[1]}<extra></extra>",
         "legendgroup": "S210-1",
         "marker": {
          "color": "#B6E880",
          "size": 10,
          "symbol": "circle"
         },
         "mode": "markers",
         "name": "S210-1",
         "orientation": "v",
         "showlegend": true,
         "type": "scatter",
         "x": [
          0.05
         ],
         "xaxis": "x",
         "y": [
          0.4525
         ],
         "yaxis": "y"
        },
        {
         "customdata": [
          [
           "S210-2",
           "OBE2"
          ]
         ],
         "hovertemplate": "Filename=%{customdata[0]}<br>Word Error Rate (WER)=%{x}<br>Diarization Error Rate (DER)=%{y}<br>Experiment=%{customdata[1]}<extra></extra>",
         "legendgroup": "S210-2",
         "marker": {
          "color": "#FF97FF",
          "size": 10,
          "symbol": "circle"
         },
         "mode": "markers",
         "name": "S210-2",
         "orientation": "v",
         "showlegend": true,
         "type": "scatter",
         "x": [
          0
         ],
         "xaxis": "x",
         "y": [
          0.0017
         ],
         "yaxis": "y"
        },
        {
         "customdata": [
          [
           "S210-3",
           "OBE2"
          ]
         ],
         "hovertemplate": "Filename=%{customdata[0]}<br>Word Error Rate (WER)=%{x}<br>Diarization Error Rate (DER)=%{y}<br>Experiment=%{customdata[1]}<extra></extra>",
         "legendgroup": "S210-3",
         "marker": {
          "color": "#FECB52",
          "size": 10,
          "symbol": "circle"
         },
         "mode": "markers",
         "name": "S210-3",
         "orientation": "v",
         "showlegend": true,
         "type": "scatter",
         "x": [
          0.0397
         ],
         "xaxis": "x",
         "y": [
          0.25
         ],
         "yaxis": "y"
        },
        {
         "customdata": [
          [
           "S211_1",
           "OBE2"
          ]
         ],
         "hovertemplate": "Filename=%{customdata[0]}<br>Word Error Rate (WER)=%{x}<br>Diarization Error Rate (DER)=%{y}<br>Experiment=%{customdata[1]}<extra></extra>",
         "legendgroup": "S211_1",
         "marker": {
          "color": "#636efa",
          "size": 10,
          "symbol": "circle"
         },
         "mode": "markers",
         "name": "S211_1",
         "orientation": "v",
         "showlegend": true,
         "type": "scatter",
         "x": [
          0.122
         ],
         "xaxis": "x",
         "y": [
          0.2128
         ],
         "yaxis": "y"
        },
        {
         "customdata": [
          [
           "S211_2",
           "OBE2"
          ]
         ],
         "hovertemplate": "Filename=%{customdata[0]}<br>Word Error Rate (WER)=%{x}<br>Diarization Error Rate (DER)=%{y}<br>Experiment=%{customdata[1]}<extra></extra>",
         "legendgroup": "S211_2",
         "marker": {
          "color": "#EF553B",
          "size": 10,
          "symbol": "circle"
         },
         "mode": "markers",
         "name": "S211_2",
         "orientation": "v",
         "showlegend": true,
         "type": "scatter",
         "x": [
          0
         ],
         "xaxis": "x",
         "y": [
          0.0295
         ],
         "yaxis": "y"
        },
        {
         "customdata": [
          [
           "S211_3 (partially in french)",
           "OBE2"
          ]
         ],
         "hovertemplate": "Filename=%{customdata[0]}<br>Word Error Rate (WER)=%{x}<br>Diarization Error Rate (DER)=%{y}<br>Experiment=%{customdata[1]}<extra></extra>",
         "legendgroup": "S211_3 (partially in french)",
         "marker": {
          "color": "#00cc96",
          "size": 10,
          "symbol": "circle"
         },
         "mode": "markers",
         "name": "S211_3 (partially in french)",
         "orientation": "v",
         "showlegend": true,
         "type": "scatter",
         "x": [
          0.0434
         ],
         "xaxis": "x",
         "y": [
          0.0729
         ],
         "yaxis": "y"
        },
        {
         "customdata": [
          [
           "S212_1",
           "OBE2"
          ]
         ],
         "hovertemplate": "Filename=%{customdata[0]}<br>Word Error Rate (WER)=%{x}<br>Diarization Error Rate (DER)=%{y}<br>Experiment=%{customdata[1]}<extra></extra>",
         "legendgroup": "S212_1",
         "marker": {
          "color": "#ab63fa",
          "size": 10,
          "symbol": "circle"
         },
         "mode": "markers",
         "name": "S212_1",
         "orientation": "v",
         "showlegend": true,
         "type": "scatter",
         "x": [
          0.0131
         ],
         "xaxis": "x",
         "y": [
          0.3822
         ],
         "yaxis": "y"
        },
        {
         "customdata": [
          [
           "S212_2",
           "OBE2"
          ]
         ],
         "hovertemplate": "Filename=%{customdata[0]}<br>Word Error Rate (WER)=%{x}<br>Diarization Error Rate (DER)=%{y}<br>Experiment=%{customdata[1]}<extra></extra>",
         "legendgroup": "S212_2",
         "marker": {
          "color": "#FFA15A",
          "size": 10,
          "symbol": "circle"
         },
         "mode": "markers",
         "name": "S212_2",
         "orientation": "v",
         "showlegend": true,
         "type": "scatter",
         "x": [
          0.0087
         ],
         "xaxis": "x",
         "y": [
          0.106
         ],
         "yaxis": "y"
        },
        {
         "customdata": [
          [
           "S213_1",
           "OBE2"
          ]
         ],
         "hovertemplate": "Filename=%{customdata[0]}<br>Word Error Rate (WER)=%{x}<br>Diarization Error Rate (DER)=%{y}<br>Experiment=%{customdata[1]}<extra></extra>",
         "legendgroup": "S213_1",
         "marker": {
          "color": "#19d3f3",
          "size": 10,
          "symbol": "circle"
         },
         "mode": "markers",
         "name": "S213_1",
         "orientation": "v",
         "showlegend": true,
         "type": "scatter",
         "x": [
          0.0127
         ],
         "xaxis": "x",
         "y": [
          0.0438
         ],
         "yaxis": "y"
        },
        {
         "customdata": [
          [
           "S213_2",
           "OBE2"
          ]
         ],
         "hovertemplate": "Filename=%{customdata[0]}<br>Word Error Rate (WER)=%{x}<br>Diarization Error Rate (DER)=%{y}<br>Experiment=%{customdata[1]}<extra></extra>",
         "legendgroup": "S213_2",
         "marker": {
          "color": "#FF6692",
          "size": 10,
          "symbol": "circle"
         },
         "mode": "markers",
         "name": "S213_2",
         "orientation": "v",
         "showlegend": true,
         "type": "scatter",
         "x": [
          0.0394
         ],
         "xaxis": "x",
         "y": [
          0.3204
         ],
         "yaxis": "y"
        },
        {
         "customdata": [
          [
           "S214_1",
           "OBE2"
          ]
         ],
         "hovertemplate": "Filename=%{customdata[0]}<br>Word Error Rate (WER)=%{x}<br>Diarization Error Rate (DER)=%{y}<br>Experiment=%{customdata[1]}<extra></extra>",
         "legendgroup": "S214_1",
         "marker": {
          "color": "#B6E880",
          "size": 10,
          "symbol": "circle"
         },
         "mode": "markers",
         "name": "S214_1",
         "orientation": "v",
         "showlegend": true,
         "type": "scatter",
         "x": [
          0.0761
         ],
         "xaxis": "x",
         "y": [
          0.1899
         ],
         "yaxis": "y"
        },
        {
         "customdata": [
          [
           "S214_2",
           "OBE2"
          ]
         ],
         "hovertemplate": "Filename=%{customdata[0]}<br>Word Error Rate (WER)=%{x}<br>Diarization Error Rate (DER)=%{y}<br>Experiment=%{customdata[1]}<extra></extra>",
         "legendgroup": "S214_2",
         "marker": {
          "color": "#FF97FF",
          "size": 10,
          "symbol": "circle"
         },
         "mode": "markers",
         "name": "S214_2",
         "orientation": "v",
         "showlegend": true,
         "type": "scatter",
         "x": [
          0.0396
         ],
         "xaxis": "x",
         "y": [
          0.5861
         ],
         "yaxis": "y"
        },
        {
         "customdata": [
          [
           "S217",
           "OBE2"
          ]
         ],
         "hovertemplate": "Filename=%{customdata[0]}<br>Word Error Rate (WER)=%{x}<br>Diarization Error Rate (DER)=%{y}<br>Experiment=%{customdata[1]}<extra></extra>",
         "legendgroup": "S217",
         "marker": {
          "color": "#FECB52",
          "size": 10,
          "symbol": "circle"
         },
         "mode": "markers",
         "name": "S217",
         "orientation": "v",
         "showlegend": true,
         "type": "scatter",
         "x": [
          0.0394
         ],
         "xaxis": "x",
         "y": [
          0.0191
         ],
         "yaxis": "y"
        },
        {
         "customdata": [
          [
           "S218-1",
           "OBE2"
          ]
         ],
         "hovertemplate": "Filename=%{customdata[0]}<br>Word Error Rate (WER)=%{x}<br>Diarization Error Rate (DER)=%{y}<br>Experiment=%{customdata[1]}<extra></extra>",
         "legendgroup": "S218-1",
         "marker": {
          "color": "#636efa",
          "size": 10,
          "symbol": "circle"
         },
         "mode": "markers",
         "name": "S218-1",
         "orientation": "v",
         "showlegend": true,
         "type": "scatter",
         "x": [
          0.0679
         ],
         "xaxis": "x",
         "y": [
          0.4707
         ],
         "yaxis": "y"
        },
        {
         "customdata": [
          [
           "S218-2",
           "OBE2"
          ]
         ],
         "hovertemplate": "Filename=%{customdata[0]}<br>Word Error Rate (WER)=%{x}<br>Diarization Error Rate (DER)=%{y}<br>Experiment=%{customdata[1]}<extra></extra>",
         "legendgroup": "S218-2",
         "marker": {
          "color": "#EF553B",
          "size": 10,
          "symbol": "circle"
         },
         "mode": "markers",
         "name": "S218-2",
         "orientation": "v",
         "showlegend": true,
         "type": "scatter",
         "x": [
          0.0032
         ],
         "xaxis": "x",
         "y": [
          0.0361
         ],
         "yaxis": "y"
        },
        {
         "customdata": [
          [
           "S219-1",
           "OBE2"
          ]
         ],
         "hovertemplate": "Filename=%{customdata[0]}<br>Word Error Rate (WER)=%{x}<br>Diarization Error Rate (DER)=%{y}<br>Experiment=%{customdata[1]}<extra></extra>",
         "legendgroup": "S219-1",
         "marker": {
          "color": "#00cc96",
          "size": 10,
          "symbol": "circle"
         },
         "mode": "markers",
         "name": "S219-1",
         "orientation": "v",
         "showlegend": true,
         "type": "scatter",
         "x": [
          0.1238
         ],
         "xaxis": "x",
         "y": [
          0.3428
         ],
         "yaxis": "y"
        },
        {
         "customdata": [
          [
           "S219-2",
           "OBE2"
          ]
         ],
         "hovertemplate": "Filename=%{customdata[0]}<br>Word Error Rate (WER)=%{x}<br>Diarization Error Rate (DER)=%{y}<br>Experiment=%{customdata[1]}<extra></extra>",
         "legendgroup": "S219-2",
         "marker": {
          "color": "#ab63fa",
          "size": 10,
          "symbol": "circle"
         },
         "mode": "markers",
         "name": "S219-2",
         "orientation": "v",
         "showlegend": true,
         "type": "scatter",
         "x": [
          0.0126
         ],
         "xaxis": "x",
         "y": [
          0.0157
         ],
         "yaxis": "y"
        },
        {
         "customdata": [
          [
           "S220-1",
           "OBE2"
          ]
         ],
         "hovertemplate": "Filename=%{customdata[0]}<br>Word Error Rate (WER)=%{x}<br>Diarization Error Rate (DER)=%{y}<br>Experiment=%{customdata[1]}<extra></extra>",
         "legendgroup": "S220-1",
         "marker": {
          "color": "#FFA15A",
          "size": 10,
          "symbol": "circle"
         },
         "mode": "markers",
         "name": "S220-1",
         "orientation": "v",
         "showlegend": true,
         "type": "scatter",
         "x": [
          0.0948
         ],
         "xaxis": "x",
         "y": [
          0.1394
         ],
         "yaxis": "y"
        },
        {
         "customdata": [
          [
           "S220-2",
           "OBE2"
          ]
         ],
         "hovertemplate": "Filename=%{customdata[0]}<br>Word Error Rate (WER)=%{x}<br>Diarization Error Rate (DER)=%{y}<br>Experiment=%{customdata[1]}<extra></extra>",
         "legendgroup": "S220-2",
         "marker": {
          "color": "#19d3f3",
          "size": 10,
          "symbol": "circle"
         },
         "mode": "markers",
         "name": "S220-2",
         "orientation": "v",
         "showlegend": true,
         "type": "scatter",
         "x": [
          0.121
         ],
         "xaxis": "x",
         "y": [
          0.1033
         ],
         "yaxis": "y"
        },
        {
         "customdata": [
          [
           "S222_c",
           "OBE2"
          ]
         ],
         "hovertemplate": "Filename=%{customdata[0]}<br>Word Error Rate (WER)=%{x}<br>Diarization Error Rate (DER)=%{y}<br>Experiment=%{customdata[1]}<extra></extra>",
         "legendgroup": "S222_c",
         "marker": {
          "color": "#FF6692",
          "size": 10,
          "symbol": "circle"
         },
         "mode": "markers",
         "name": "S222_c",
         "orientation": "v",
         "showlegend": true,
         "type": "scatter",
         "x": [
          0.0032
         ],
         "xaxis": "x",
         "y": [
          0.1282
         ],
         "yaxis": "y"
        },
        {
         "customdata": [
          [
           "S222_m",
           "OBE2"
          ]
         ],
         "hovertemplate": "Filename=%{customdata[0]}<br>Word Error Rate (WER)=%{x}<br>Diarization Error Rate (DER)=%{y}<br>Experiment=%{customdata[1]}<extra></extra>",
         "legendgroup": "S222_m",
         "marker": {
          "color": "#B6E880",
          "size": 10,
          "symbol": "circle"
         },
         "mode": "markers",
         "name": "S222_m",
         "orientation": "v",
         "showlegend": true,
         "type": "scatter",
         "x": [
          0.0094
         ],
         "xaxis": "x",
         "y": [
          0.1375
         ],
         "yaxis": "y"
        },
        {
         "customdata": [
          [
           "S223",
           "OBE2"
          ]
         ],
         "hovertemplate": "Filename=%{customdata[0]}<br>Word Error Rate (WER)=%{x}<br>Diarization Error Rate (DER)=%{y}<br>Experiment=%{customdata[1]}<extra></extra>",
         "legendgroup": "S223",
         "marker": {
          "color": "#FF97FF",
          "size": 10,
          "symbol": "circle"
         },
         "mode": "markers",
         "name": "S223",
         "orientation": "v",
         "showlegend": true,
         "type": "scatter",
         "x": [
          0.0893
         ],
         "xaxis": "x",
         "y": [
          0.5887
         ],
         "yaxis": "y"
        },
        {
         "customdata": [
          [
           "S225",
           "OBE2"
          ]
         ],
         "hovertemplate": "Filename=%{customdata[0]}<br>Word Error Rate (WER)=%{x}<br>Diarization Error Rate (DER)=%{y}<br>Experiment=%{customdata[1]}<extra></extra>",
         "legendgroup": "S225",
         "marker": {
          "color": "#FECB52",
          "size": 10,
          "symbol": "circle"
         },
         "mode": "markers",
         "name": "S225",
         "orientation": "v",
         "showlegend": true,
         "type": "scatter",
         "x": [
          0.2273
         ],
         "xaxis": "x",
         "y": [
          0.142
         ],
         "yaxis": "y"
        },
        {
         "customdata": [
          [
           "S225[1]",
           "OBE2"
          ]
         ],
         "hovertemplate": "Filename=%{customdata[0]}<br>Word Error Rate (WER)=%{x}<br>Diarization Error Rate (DER)=%{y}<br>Experiment=%{customdata[1]}<extra></extra>",
         "legendgroup": "S225[1]",
         "marker": {
          "color": "#636efa",
          "size": 10,
          "symbol": "circle"
         },
         "mode": "markers",
         "name": "S225[1]",
         "orientation": "v",
         "showlegend": true,
         "type": "scatter",
         "x": [
          0.0109
         ],
         "xaxis": "x",
         "y": [
          0.0305
         ],
         "yaxis": "y"
        },
        {
         "customdata": [
          [
           "S226",
           "OBE2"
          ]
         ],
         "hovertemplate": "Filename=%{customdata[0]}<br>Word Error Rate (WER)=%{x}<br>Diarization Error Rate (DER)=%{y}<br>Experiment=%{customdata[1]}<extra></extra>",
         "legendgroup": "S226",
         "marker": {
          "color": "#EF553B",
          "size": 10,
          "symbol": "circle"
         },
         "mode": "markers",
         "name": "S226",
         "orientation": "v",
         "showlegend": true,
         "type": "scatter",
         "x": [
          0.4536
         ],
         "xaxis": "x",
         "y": [
          0.3477
         ],
         "yaxis": "y"
        },
        {
         "customdata": [
          [
           "S226[1]",
           "OBE2"
          ]
         ],
         "hovertemplate": "Filename=%{customdata[0]}<br>Word Error Rate (WER)=%{x}<br>Diarization Error Rate (DER)=%{y}<br>Experiment=%{customdata[1]}<extra></extra>",
         "legendgroup": "S226[1]",
         "marker": {
          "color": "#00cc96",
          "size": 10,
          "symbol": "circle"
         },
         "mode": "markers",
         "name": "S226[1]",
         "orientation": "v",
         "showlegend": true,
         "type": "scatter",
         "x": [
          0.1282
         ],
         "xaxis": "x",
         "y": [
          0.5689
         ],
         "yaxis": "y"
        },
        {
         "customdata": [
          [
           "S226[2]",
           "OBE2"
          ]
         ],
         "hovertemplate": "Filename=%{customdata[0]}<br>Word Error Rate (WER)=%{x}<br>Diarization Error Rate (DER)=%{y}<br>Experiment=%{customdata[1]}<extra></extra>",
         "legendgroup": "S226[2]",
         "marker": {
          "color": "#ab63fa",
          "size": 10,
          "symbol": "circle"
         },
         "mode": "markers",
         "name": "S226[2]",
         "orientation": "v",
         "showlegend": true,
         "type": "scatter",
         "x": [
          0.0198
         ],
         "xaxis": "x",
         "y": [
          0.1916
         ],
         "yaxis": "y"
        },
        {
         "customdata": [
          [
           "S227 control interview",
           "OBE2"
          ]
         ],
         "hovertemplate": "Filename=%{customdata[0]}<br>Word Error Rate (WER)=%{x}<br>Diarization Error Rate (DER)=%{y}<br>Experiment=%{customdata[1]}<extra></extra>",
         "legendgroup": "S227 control interview",
         "marker": {
          "color": "#FFA15A",
          "size": 10,
          "symbol": "circle"
         },
         "mode": "markers",
         "name": "S227 control interview",
         "orientation": "v",
         "showlegend": true,
         "type": "scatter",
         "x": [
          0.1452
         ],
         "xaxis": "x",
         "y": [
          0.497
         ],
         "yaxis": "y"
        },
        {
         "customdata": [
          [
           "S227 intervention",
           "OBE2"
          ]
         ],
         "hovertemplate": "Filename=%{customdata[0]}<br>Word Error Rate (WER)=%{x}<br>Diarization Error Rate (DER)=%{y}<br>Experiment=%{customdata[1]}<extra></extra>",
         "legendgroup": "S227 intervention",
         "marker": {
          "color": "#19d3f3",
          "size": 10,
          "symbol": "circle"
         },
         "mode": "markers",
         "name": "S227 intervention",
         "orientation": "v",
         "showlegend": true,
         "type": "scatter",
         "x": [
          0.0844
         ],
         "xaxis": "x",
         "y": [
          0.3152
         ],
         "yaxis": "y"
        },
        {
         "customdata": [
          [
           "S228 control",
           "OBE2"
          ]
         ],
         "hovertemplate": "Filename=%{customdata[0]}<br>Word Error Rate (WER)=%{x}<br>Diarization Error Rate (DER)=%{y}<br>Experiment=%{customdata[1]}<extra></extra>",
         "legendgroup": "S228 control",
         "marker": {
          "color": "#FF6692",
          "size": 10,
          "symbol": "circle"
         },
         "mode": "markers",
         "name": "S228 control",
         "orientation": "v",
         "showlegend": true,
         "type": "scatter",
         "x": [
          0.0159
         ],
         "xaxis": "x",
         "y": [
          0.1639
         ],
         "yaxis": "y"
        },
        {
         "customdata": [
          [
           "S228 intervention",
           "OBE2"
          ]
         ],
         "hovertemplate": "Filename=%{customdata[0]}<br>Word Error Rate (WER)=%{x}<br>Diarization Error Rate (DER)=%{y}<br>Experiment=%{customdata[1]}<extra></extra>",
         "legendgroup": "S228 intervention",
         "marker": {
          "color": "#B6E880",
          "size": 10,
          "symbol": "circle"
         },
         "mode": "markers",
         "name": "S228 intervention",
         "orientation": "v",
         "showlegend": true,
         "type": "scatter",
         "x": [
          0.0266
         ],
         "xaxis": "x",
         "y": [
          0.1079
         ],
         "yaxis": "y"
        },
        {
         "customdata": [
          [
           "S229 control",
           "OBE2"
          ]
         ],
         "hovertemplate": "Filename=%{customdata[0]}<br>Word Error Rate (WER)=%{x}<br>Diarization Error Rate (DER)=%{y}<br>Experiment=%{customdata[1]}<extra></extra>",
         "legendgroup": "S229 control",
         "marker": {
          "color": "#FF97FF",
          "size": 10,
          "symbol": "circle"
         },
         "mode": "markers",
         "name": "S229 control",
         "orientation": "v",
         "showlegend": true,
         "type": "scatter",
         "x": [
          0.4253
         ],
         "xaxis": "x",
         "y": [
          0.256
         ],
         "yaxis": "y"
        },
        {
         "customdata": [
          [
           "S229 intervention",
           "OBE2"
          ]
         ],
         "hovertemplate": "Filename=%{customdata[0]}<br>Word Error Rate (WER)=%{x}<br>Diarization Error Rate (DER)=%{y}<br>Experiment=%{customdata[1]}<extra></extra>",
         "legendgroup": "S229 intervention",
         "marker": {
          "color": "#FECB52",
          "size": 10,
          "symbol": "circle"
         },
         "mode": "markers",
         "name": "S229 intervention",
         "orientation": "v",
         "showlegend": true,
         "type": "scatter",
         "x": [
          0.3021
         ],
         "xaxis": "x",
         "y": [
          0.0901
         ],
         "yaxis": "y"
        },
        {
         "customdata": [
          [
           "S230 control",
           "OBE2"
          ]
         ],
         "hovertemplate": "Filename=%{customdata[0]}<br>Word Error Rate (WER)=%{x}<br>Diarization Error Rate (DER)=%{y}<br>Experiment=%{customdata[1]}<extra></extra>",
         "legendgroup": "S230 control",
         "marker": {
          "color": "#636efa",
          "size": 10,
          "symbol": "circle"
         },
         "mode": "markers",
         "name": "S230 control",
         "orientation": "v",
         "showlegend": true,
         "type": "scatter",
         "x": [
          0.1978
         ],
         "xaxis": "x",
         "y": [
          0.0983
         ],
         "yaxis": "y"
        },
        {
         "customdata": [
          [
           "S230 intervention",
           "OBE2"
          ]
         ],
         "hovertemplate": "Filename=%{customdata[0]}<br>Word Error Rate (WER)=%{x}<br>Diarization Error Rate (DER)=%{y}<br>Experiment=%{customdata[1]}<extra></extra>",
         "legendgroup": "S230 intervention",
         "marker": {
          "color": "#EF553B",
          "size": 10,
          "symbol": "circle"
         },
         "mode": "markers",
         "name": "S230 intervention",
         "orientation": "v",
         "showlegend": true,
         "type": "scatter",
         "x": [
          0.1543
         ],
         "xaxis": "x",
         "y": [
          0.0549
         ],
         "yaxis": "y"
        },
        {
         "customdata": [
          [
           "S301final",
           "Compassion"
          ]
         ],
         "hovertemplate": "Filename=%{customdata[0]}<br>Word Error Rate (WER)=%{x}<br>Diarization Error Rate (DER)=%{y}<br>Experiment=%{customdata[1]}<extra></extra>",
         "legendgroup": "S301final",
         "marker": {
          "color": "#00cc96",
          "size": 10,
          "symbol": "circle"
         },
         "mode": "markers",
         "name": "S301final",
         "orientation": "v",
         "showlegend": true,
         "type": "scatter",
         "x": [
          0.0293
         ],
         "xaxis": "x",
         "y": [
          0.0618
         ],
         "yaxis": "y"
        },
        {
         "customdata": [
          [
           "S302con",
           "Compassion"
          ]
         ],
         "hovertemplate": "Filename=%{customdata[0]}<br>Word Error Rate (WER)=%{x}<br>Diarization Error Rate (DER)=%{y}<br>Experiment=%{customdata[1]}<extra></extra>",
         "legendgroup": "S302con",
         "marker": {
          "color": "#ab63fa",
          "size": 10,
          "symbol": "circle"
         },
         "mode": "markers",
         "name": "S302con",
         "orientation": "v",
         "showlegend": true,
         "type": "scatter",
         "x": [
          0.2349
         ],
         "xaxis": "x",
         "y": [
          0.2563
         ],
         "yaxis": "y"
        },
        {
         "customdata": [
          [
           "S302man",
           "Compassion"
          ]
         ],
         "hovertemplate": "Filename=%{customdata[0]}<br>Word Error Rate (WER)=%{x}<br>Diarization Error Rate (DER)=%{y}<br>Experiment=%{customdata[1]}<extra></extra>",
         "legendgroup": "S302man",
         "marker": {
          "color": "#FFA15A",
          "size": 10,
          "symbol": "circle"
         },
         "mode": "markers",
         "name": "S302man",
         "orientation": "v",
         "showlegend": true,
         "type": "scatter",
         "x": [
          0.0734
         ],
         "xaxis": "x",
         "y": [
          0.0617
         ],
         "yaxis": "y"
        },
        {
         "customdata": [
          [
           "S303con",
           "Compassion"
          ]
         ],
         "hovertemplate": "Filename=%{customdata[0]}<br>Word Error Rate (WER)=%{x}<br>Diarization Error Rate (DER)=%{y}<br>Experiment=%{customdata[1]}<extra></extra>",
         "legendgroup": "S303con",
         "marker": {
          "color": "#19d3f3",
          "size": 10,
          "symbol": "circle"
         },
         "mode": "markers",
         "name": "S303con",
         "orientation": "v",
         "showlegend": true,
         "type": "scatter",
         "x": [
          0.0078
         ],
         "xaxis": "x",
         "y": [
          0.027
         ],
         "yaxis": "y"
        },
        {
         "customdata": [
          [
           "S303man",
           "Compassion"
          ]
         ],
         "hovertemplate": "Filename=%{customdata[0]}<br>Word Error Rate (WER)=%{x}<br>Diarization Error Rate (DER)=%{y}<br>Experiment=%{customdata[1]}<extra></extra>",
         "legendgroup": "S303man",
         "marker": {
          "color": "#FF6692",
          "size": 10,
          "symbol": "circle"
         },
         "mode": "markers",
         "name": "S303man",
         "orientation": "v",
         "showlegend": true,
         "type": "scatter",
         "x": [
          0.0088
         ],
         "xaxis": "x",
         "y": [
          0.1613
         ],
         "yaxis": "y"
        },
        {
         "customdata": [
          [
           "S304",
           "Compassion"
          ]
         ],
         "hovertemplate": "Filename=%{customdata[0]}<br>Word Error Rate (WER)=%{x}<br>Diarization Error Rate (DER)=%{y}<br>Experiment=%{customdata[1]}<extra></extra>",
         "legendgroup": "S304",
         "marker": {
          "color": "#B6E880",
          "size": 10,
          "symbol": "circle"
         },
         "mode": "markers",
         "name": "S304",
         "orientation": "v",
         "showlegend": true,
         "type": "scatter",
         "x": [
          0.0266
         ],
         "xaxis": "x",
         "y": [
          0.1214
         ],
         "yaxis": "y"
        },
        {
         "customdata": [
          [
           "S305con",
           "Compassion"
          ]
         ],
         "hovertemplate": "Filename=%{customdata[0]}<br>Word Error Rate (WER)=%{x}<br>Diarization Error Rate (DER)=%{y}<br>Experiment=%{customdata[1]}<extra></extra>",
         "legendgroup": "S305con",
         "marker": {
          "color": "#FF97FF",
          "size": 10,
          "symbol": "circle"
         },
         "mode": "markers",
         "name": "S305con",
         "orientation": "v",
         "showlegend": true,
         "type": "scatter",
         "x": [
          0.1518
         ],
         "xaxis": "x",
         "y": [
          0.0148
         ],
         "yaxis": "y"
        },
        {
         "customdata": [
          [
           "S306",
           "Compassion"
          ]
         ],
         "hovertemplate": "Filename=%{customdata[0]}<br>Word Error Rate (WER)=%{x}<br>Diarization Error Rate (DER)=%{y}<br>Experiment=%{customdata[1]}<extra></extra>",
         "legendgroup": "S306",
         "marker": {
          "color": "#FECB52",
          "size": 10,
          "symbol": "circle"
         },
         "mode": "markers",
         "name": "S306",
         "orientation": "v",
         "showlegend": true,
         "type": "scatter",
         "x": [
          0.0097
         ],
         "xaxis": "x",
         "y": [
          0.078
         ],
         "yaxis": "y"
        },
        {
         "customdata": [
          [
           "S307",
           "Compassion"
          ]
         ],
         "hovertemplate": "Filename=%{customdata[0]}<br>Word Error Rate (WER)=%{x}<br>Diarization Error Rate (DER)=%{y}<br>Experiment=%{customdata[1]}<extra></extra>",
         "legendgroup": "S307",
         "marker": {
          "color": "#636efa",
          "size": 10,
          "symbol": "circle"
         },
         "mode": "markers",
         "name": "S307",
         "orientation": "v",
         "showlegend": true,
         "type": "scatter",
         "x": [
          0.0272
         ],
         "xaxis": "x",
         "y": [
          0.1578
         ],
         "yaxis": "y"
        },
        {
         "customdata": [
          [
           "S313",
           "Compassion"
          ]
         ],
         "hovertemplate": "Filename=%{customdata[0]}<br>Word Error Rate (WER)=%{x}<br>Diarization Error Rate (DER)=%{y}<br>Experiment=%{customdata[1]}<extra></extra>",
         "legendgroup": "S313",
         "marker": {
          "color": "#EF553B",
          "size": 10,
          "symbol": "circle"
         },
         "mode": "markers",
         "name": "S313",
         "orientation": "v",
         "showlegend": true,
         "type": "scatter",
         "x": [
          0.0194
         ],
         "xaxis": "x",
         "y": [
          0.0359
         ],
         "yaxis": "y"
        }
       ],
       "layout": {
        "legend": {
         "title": {
          "text": "Filename"
         },
         "tracegroupgap": 0
        },
        "showlegend": false,
        "template": {
         "data": {
          "bar": [
           {
            "error_x": {
             "color": "#2a3f5f"
            },
            "error_y": {
             "color": "#2a3f5f"
            },
            "marker": {
             "line": {
              "color": "#E5ECF6",
              "width": 0.5
             },
             "pattern": {
              "fillmode": "overlay",
              "size": 10,
              "solidity": 0.2
             }
            },
            "type": "bar"
           }
          ],
          "barpolar": [
           {
            "marker": {
             "line": {
              "color": "#E5ECF6",
              "width": 0.5
             },
             "pattern": {
              "fillmode": "overlay",
              "size": 10,
              "solidity": 0.2
             }
            },
            "type": "barpolar"
           }
          ],
          "carpet": [
           {
            "aaxis": {
             "endlinecolor": "#2a3f5f",
             "gridcolor": "white",
             "linecolor": "white",
             "minorgridcolor": "white",
             "startlinecolor": "#2a3f5f"
            },
            "baxis": {
             "endlinecolor": "#2a3f5f",
             "gridcolor": "white",
             "linecolor": "white",
             "minorgridcolor": "white",
             "startlinecolor": "#2a3f5f"
            },
            "type": "carpet"
           }
          ],
          "choropleth": [
           {
            "colorbar": {
             "outlinewidth": 0,
             "ticks": ""
            },
            "type": "choropleth"
           }
          ],
          "contour": [
           {
            "colorbar": {
             "outlinewidth": 0,
             "ticks": ""
            },
            "colorscale": [
             [
              0,
              "#0d0887"
             ],
             [
              0.1111111111111111,
              "#46039f"
             ],
             [
              0.2222222222222222,
              "#7201a8"
             ],
             [
              0.3333333333333333,
              "#9c179e"
             ],
             [
              0.4444444444444444,
              "#bd3786"
             ],
             [
              0.5555555555555556,
              "#d8576b"
             ],
             [
              0.6666666666666666,
              "#ed7953"
             ],
             [
              0.7777777777777778,
              "#fb9f3a"
             ],
             [
              0.8888888888888888,
              "#fdca26"
             ],
             [
              1,
              "#f0f921"
             ]
            ],
            "type": "contour"
           }
          ],
          "contourcarpet": [
           {
            "colorbar": {
             "outlinewidth": 0,
             "ticks": ""
            },
            "type": "contourcarpet"
           }
          ],
          "heatmap": [
           {
            "colorbar": {
             "outlinewidth": 0,
             "ticks": ""
            },
            "colorscale": [
             [
              0,
              "#0d0887"
             ],
             [
              0.1111111111111111,
              "#46039f"
             ],
             [
              0.2222222222222222,
              "#7201a8"
             ],
             [
              0.3333333333333333,
              "#9c179e"
             ],
             [
              0.4444444444444444,
              "#bd3786"
             ],
             [
              0.5555555555555556,
              "#d8576b"
             ],
             [
              0.6666666666666666,
              "#ed7953"
             ],
             [
              0.7777777777777778,
              "#fb9f3a"
             ],
             [
              0.8888888888888888,
              "#fdca26"
             ],
             [
              1,
              "#f0f921"
             ]
            ],
            "type": "heatmap"
           }
          ],
          "heatmapgl": [
           {
            "colorbar": {
             "outlinewidth": 0,
             "ticks": ""
            },
            "colorscale": [
             [
              0,
              "#0d0887"
             ],
             [
              0.1111111111111111,
              "#46039f"
             ],
             [
              0.2222222222222222,
              "#7201a8"
             ],
             [
              0.3333333333333333,
              "#9c179e"
             ],
             [
              0.4444444444444444,
              "#bd3786"
             ],
             [
              0.5555555555555556,
              "#d8576b"
             ],
             [
              0.6666666666666666,
              "#ed7953"
             ],
             [
              0.7777777777777778,
              "#fb9f3a"
             ],
             [
              0.8888888888888888,
              "#fdca26"
             ],
             [
              1,
              "#f0f921"
             ]
            ],
            "type": "heatmapgl"
           }
          ],
          "histogram": [
           {
            "marker": {
             "pattern": {
              "fillmode": "overlay",
              "size": 10,
              "solidity": 0.2
             }
            },
            "type": "histogram"
           }
          ],
          "histogram2d": [
           {
            "colorbar": {
             "outlinewidth": 0,
             "ticks": ""
            },
            "colorscale": [
             [
              0,
              "#0d0887"
             ],
             [
              0.1111111111111111,
              "#46039f"
             ],
             [
              0.2222222222222222,
              "#7201a8"
             ],
             [
              0.3333333333333333,
              "#9c179e"
             ],
             [
              0.4444444444444444,
              "#bd3786"
             ],
             [
              0.5555555555555556,
              "#d8576b"
             ],
             [
              0.6666666666666666,
              "#ed7953"
             ],
             [
              0.7777777777777778,
              "#fb9f3a"
             ],
             [
              0.8888888888888888,
              "#fdca26"
             ],
             [
              1,
              "#f0f921"
             ]
            ],
            "type": "histogram2d"
           }
          ],
          "histogram2dcontour": [
           {
            "colorbar": {
             "outlinewidth": 0,
             "ticks": ""
            },
            "colorscale": [
             [
              0,
              "#0d0887"
             ],
             [
              0.1111111111111111,
              "#46039f"
             ],
             [
              0.2222222222222222,
              "#7201a8"
             ],
             [
              0.3333333333333333,
              "#9c179e"
             ],
             [
              0.4444444444444444,
              "#bd3786"
             ],
             [
              0.5555555555555556,
              "#d8576b"
             ],
             [
              0.6666666666666666,
              "#ed7953"
             ],
             [
              0.7777777777777778,
              "#fb9f3a"
             ],
             [
              0.8888888888888888,
              "#fdca26"
             ],
             [
              1,
              "#f0f921"
             ]
            ],
            "type": "histogram2dcontour"
           }
          ],
          "mesh3d": [
           {
            "colorbar": {
             "outlinewidth": 0,
             "ticks": ""
            },
            "type": "mesh3d"
           }
          ],
          "parcoords": [
           {
            "line": {
             "colorbar": {
              "outlinewidth": 0,
              "ticks": ""
             }
            },
            "type": "parcoords"
           }
          ],
          "pie": [
           {
            "automargin": true,
            "type": "pie"
           }
          ],
          "scatter": [
           {
            "fillpattern": {
             "fillmode": "overlay",
             "size": 10,
             "solidity": 0.2
            },
            "type": "scatter"
           }
          ],
          "scatter3d": [
           {
            "line": {
             "colorbar": {
              "outlinewidth": 0,
              "ticks": ""
             }
            },
            "marker": {
             "colorbar": {
              "outlinewidth": 0,
              "ticks": ""
             }
            },
            "type": "scatter3d"
           }
          ],
          "scattercarpet": [
           {
            "marker": {
             "colorbar": {
              "outlinewidth": 0,
              "ticks": ""
             }
            },
            "type": "scattercarpet"
           }
          ],
          "scattergeo": [
           {
            "marker": {
             "colorbar": {
              "outlinewidth": 0,
              "ticks": ""
             }
            },
            "type": "scattergeo"
           }
          ],
          "scattergl": [
           {
            "marker": {
             "colorbar": {
              "outlinewidth": 0,
              "ticks": ""
             }
            },
            "type": "scattergl"
           }
          ],
          "scattermapbox": [
           {
            "marker": {
             "colorbar": {
              "outlinewidth": 0,
              "ticks": ""
             }
            },
            "type": "scattermapbox"
           }
          ],
          "scatterpolar": [
           {
            "marker": {
             "colorbar": {
              "outlinewidth": 0,
              "ticks": ""
             }
            },
            "type": "scatterpolar"
           }
          ],
          "scatterpolargl": [
           {
            "marker": {
             "colorbar": {
              "outlinewidth": 0,
              "ticks": ""
             }
            },
            "type": "scatterpolargl"
           }
          ],
          "scatterternary": [
           {
            "marker": {
             "colorbar": {
              "outlinewidth": 0,
              "ticks": ""
             }
            },
            "type": "scatterternary"
           }
          ],
          "surface": [
           {
            "colorbar": {
             "outlinewidth": 0,
             "ticks": ""
            },
            "colorscale": [
             [
              0,
              "#0d0887"
             ],
             [
              0.1111111111111111,
              "#46039f"
             ],
             [
              0.2222222222222222,
              "#7201a8"
             ],
             [
              0.3333333333333333,
              "#9c179e"
             ],
             [
              0.4444444444444444,
              "#bd3786"
             ],
             [
              0.5555555555555556,
              "#d8576b"
             ],
             [
              0.6666666666666666,
              "#ed7953"
             ],
             [
              0.7777777777777778,
              "#fb9f3a"
             ],
             [
              0.8888888888888888,
              "#fdca26"
             ],
             [
              1,
              "#f0f921"
             ]
            ],
            "type": "surface"
           }
          ],
          "table": [
           {
            "cells": {
             "fill": {
              "color": "#EBF0F8"
             },
             "line": {
              "color": "white"
             }
            },
            "header": {
             "fill": {
              "color": "#C8D4E3"
             },
             "line": {
              "color": "white"
             }
            },
            "type": "table"
           }
          ]
         },
         "layout": {
          "annotationdefaults": {
           "arrowcolor": "#2a3f5f",
           "arrowhead": 0,
           "arrowwidth": 1
          },
          "autotypenumbers": "strict",
          "coloraxis": {
           "colorbar": {
            "outlinewidth": 0,
            "ticks": ""
           }
          },
          "colorscale": {
           "diverging": [
            [
             0,
             "#8e0152"
            ],
            [
             0.1,
             "#c51b7d"
            ],
            [
             0.2,
             "#de77ae"
            ],
            [
             0.3,
             "#f1b6da"
            ],
            [
             0.4,
             "#fde0ef"
            ],
            [
             0.5,
             "#f7f7f7"
            ],
            [
             0.6,
             "#e6f5d0"
            ],
            [
             0.7,
             "#b8e186"
            ],
            [
             0.8,
             "#7fbc41"
            ],
            [
             0.9,
             "#4d9221"
            ],
            [
             1,
             "#276419"
            ]
           ],
           "sequential": [
            [
             0,
             "#0d0887"
            ],
            [
             0.1111111111111111,
             "#46039f"
            ],
            [
             0.2222222222222222,
             "#7201a8"
            ],
            [
             0.3333333333333333,
             "#9c179e"
            ],
            [
             0.4444444444444444,
             "#bd3786"
            ],
            [
             0.5555555555555556,
             "#d8576b"
            ],
            [
             0.6666666666666666,
             "#ed7953"
            ],
            [
             0.7777777777777778,
             "#fb9f3a"
            ],
            [
             0.8888888888888888,
             "#fdca26"
            ],
            [
             1,
             "#f0f921"
            ]
           ],
           "sequentialminus": [
            [
             0,
             "#0d0887"
            ],
            [
             0.1111111111111111,
             "#46039f"
            ],
            [
             0.2222222222222222,
             "#7201a8"
            ],
            [
             0.3333333333333333,
             "#9c179e"
            ],
            [
             0.4444444444444444,
             "#bd3786"
            ],
            [
             0.5555555555555556,
             "#d8576b"
            ],
            [
             0.6666666666666666,
             "#ed7953"
            ],
            [
             0.7777777777777778,
             "#fb9f3a"
            ],
            [
             0.8888888888888888,
             "#fdca26"
            ],
            [
             1,
             "#f0f921"
            ]
           ]
          },
          "colorway": [
           "#636efa",
           "#EF553B",
           "#00cc96",
           "#ab63fa",
           "#FFA15A",
           "#19d3f3",
           "#FF6692",
           "#B6E880",
           "#FF97FF",
           "#FECB52"
          ],
          "font": {
           "color": "#2a3f5f"
          },
          "geo": {
           "bgcolor": "white",
           "lakecolor": "white",
           "landcolor": "#E5ECF6",
           "showlakes": true,
           "showland": true,
           "subunitcolor": "white"
          },
          "hoverlabel": {
           "align": "left"
          },
          "hovermode": "closest",
          "mapbox": {
           "style": "light"
          },
          "paper_bgcolor": "white",
          "plot_bgcolor": "#E5ECF6",
          "polar": {
           "angularaxis": {
            "gridcolor": "white",
            "linecolor": "white",
            "ticks": ""
           },
           "bgcolor": "#E5ECF6",
           "radialaxis": {
            "gridcolor": "white",
            "linecolor": "white",
            "ticks": ""
           }
          },
          "scene": {
           "xaxis": {
            "backgroundcolor": "#E5ECF6",
            "gridcolor": "white",
            "gridwidth": 2,
            "linecolor": "white",
            "showbackground": true,
            "ticks": "",
            "zerolinecolor": "white"
           },
           "yaxis": {
            "backgroundcolor": "#E5ECF6",
            "gridcolor": "white",
            "gridwidth": 2,
            "linecolor": "white",
            "showbackground": true,
            "ticks": "",
            "zerolinecolor": "white"
           },
           "zaxis": {
            "backgroundcolor": "#E5ECF6",
            "gridcolor": "white",
            "gridwidth": 2,
            "linecolor": "white",
            "showbackground": true,
            "ticks": "",
            "zerolinecolor": "white"
           }
          },
          "shapedefaults": {
           "line": {
            "color": "#2a3f5f"
           }
          },
          "ternary": {
           "aaxis": {
            "gridcolor": "white",
            "linecolor": "white",
            "ticks": ""
           },
           "baxis": {
            "gridcolor": "white",
            "linecolor": "white",
            "ticks": ""
           },
           "bgcolor": "#E5ECF6",
           "caxis": {
            "gridcolor": "white",
            "linecolor": "white",
            "ticks": ""
           }
          },
          "title": {
           "x": 0.05
          },
          "xaxis": {
           "automargin": true,
           "gridcolor": "white",
           "linecolor": "white",
           "ticks": "",
           "title": {
            "standoff": 15
           },
           "zerolinecolor": "white",
           "zerolinewidth": 2
          },
          "yaxis": {
           "automargin": true,
           "gridcolor": "white",
           "linecolor": "white",
           "ticks": "",
           "title": {
            "standoff": 15
           },
           "zerolinecolor": "white",
           "zerolinewidth": 2
          }
         }
        },
        "title": {
         "text": "Interactive Scatter Plot of WER vs. DER"
        },
        "xaxis": {
         "anchor": "y",
         "domain": [
          0,
          1
         ],
         "title": {
          "text": "Word Error Rate (WER)"
         }
        },
        "yaxis": {
         "anchor": "x",
         "domain": [
          0,
          1
         ],
         "title": {
          "text": "Diarization Error Rate (DER)"
         }
        }
       }
      }
     },
     "metadata": {},
     "output_type": "display_data"
    }
   ],
   "source": [
    "plot_boxplots(df)\n",
    "plot_histograms(df)\n",
    "plot_wer_vs_der_scatter(df)"
   ]
  },
  {
   "cell_type": "code",
   "execution_count": 16,
   "metadata": {},
   "outputs": [
    {
     "data": {
      "image/png": "[encoded data removed]",
      "text/plain": [
       "<Figure size 800x400 with 1 Axes>"
      ]
     },
     "metadata": {},
     "output_type": "display_data"
    },
    {
     "data": {
      "image/png": "[encoded data removed]",
      "text/plain": [
       "<Figure size 1200x600 with 2 Axes>"
      ]
     },
     "metadata": {},
     "output_type": "display_data"
    },
    {
     "data": {
      "application/vnd.plotly.v1+json": {
       "config": {
        "plotlyServerURL": "https://plot.ly"
       },
       "data": [
        {
         "customdata": [
          [
           "ID 05",
           "OBE1"
          ]
         ],
         "hovertemplate": "Filename=%{customdata[0]}<br>Word Error Rate (WER)=%{x}<br>Diarization Error Rate (DER)=%{y}<br>Experiment=%{customdata[1]}<extra></extra>",
         "legendgroup": "ID 05",
         "marker": {
          "color": "#636efa",
          "size": 10,
          "symbol": "circle"
         },
         "mode": "markers",
         "name": "ID 05",
         "orientation": "v",
         "showlegend": true,
         "type": "scatter",
         "x": [
          0.0271
         ],
         "xaxis": "x",
         "y": [
          0.1156
         ],
         "yaxis": "y"
        },
        {
         "customdata": [
          [
           "Id 08",
           "OBE1"
          ]
         ],
         "hovertemplate": "Filename=%{customdata[0]}<br>Word Error Rate (WER)=%{x}<br>Diarization Error Rate (DER)=%{y}<br>Experiment=%{customdata[1]}<extra></extra>",
         "legendgroup": "Id 08",
         "marker": {
          "color": "#EF553B",
          "size": 10,
          "symbol": "circle"
         },
         "mode": "markers",
         "name": "Id 08",
         "orientation": "v",
         "showlegend": true,
         "type": "scatter",
         "x": [
          0.0187
         ],
         "xaxis": "x",
         "y": [
          0.0564
         ],
         "yaxis": "y"
        },
        {
         "customdata": [
          [
           "Id 13",
           "OBE1"
          ]
         ],
         "hovertemplate": "Filename=%{customdata[0]}<br>Word Error Rate (WER)=%{x}<br>Diarization Error Rate (DER)=%{y}<br>Experiment=%{customdata[1]}<extra></extra>",
         "legendgroup": "Id 13",
         "marker": {
          "color": "#00cc96",
          "size": 10,
          "symbol": "circle"
         },
         "mode": "markers",
         "name": "Id 13",
         "orientation": "v",
         "showlegend": true,
         "type": "scatter",
         "x": [
          0.023
         ],
         "xaxis": "x",
         "y": [
          0.0657
         ],
         "yaxis": "y"
        },
        {
         "customdata": [
          [
           "Id 13b",
           "OBE1"
          ]
         ],
         "hovertemplate": "Filename=%{customdata[0]}<br>Word Error Rate (WER)=%{x}<br>Diarization Error Rate (DER)=%{y}<br>Experiment=%{customdata[1]}<extra></extra>",
         "legendgroup": "Id 13b",
         "marker": {
          "color": "#ab63fa",
          "size": 10,
          "symbol": "circle"
         },
         "mode": "markers",
         "name": "Id 13b",
         "orientation": "v",
         "showlegend": true,
         "type": "scatter",
         "x": [
          0.0017
         ],
         "xaxis": "x",
         "y": [
          0.0541
         ],
         "yaxis": "y"
        },
        {
         "customdata": [
          [
           "Id 14",
           "OBE1"
          ]
         ],
         "hovertemplate": "Filename=%{customdata[0]}<br>Word Error Rate (WER)=%{x}<br>Diarization Error Rate (DER)=%{y}<br>Experiment=%{customdata[1]}<extra></extra>",
         "legendgroup": "Id 14",
         "marker": {
          "color": "#FFA15A",
          "size": 10,
          "symbol": "circle"
         },
         "mode": "markers",
         "name": "Id 14",
         "orientation": "v",
         "showlegend": true,
         "type": "scatter",
         "x": [
          0.0317
         ],
         "xaxis": "x",
         "y": [
          0.0568
         ],
         "yaxis": "y"
        },
        {
         "customdata": [
          [
           "Id 15",
           "OBE1"
          ]
         ],
         "hovertemplate": "Filename=%{customdata[0]}<br>Word Error Rate (WER)=%{x}<br>Diarization Error Rate (DER)=%{y}<br>Experiment=%{customdata[1]}<extra></extra>",
         "legendgroup": "Id 15",
         "marker": {
          "color": "#19d3f3",
          "size": 10,
          "symbol": "circle"
         },
         "mode": "markers",
         "name": "Id 15",
         "orientation": "v",
         "showlegend": true,
         "type": "scatter",
         "x": [
          0
         ],
         "xaxis": "x",
         "y": [
          0
         ],
         "yaxis": "y"
        },
        {
         "customdata": [
          [
           "Id 16",
           "OBE1"
          ]
         ],
         "hovertemplate": "Filename=%{customdata[0]}<br>Word Error Rate (WER)=%{x}<br>Diarization Error Rate (DER)=%{y}<br>Experiment=%{customdata[1]}<extra></extra>",
         "legendgroup": "Id 16",
         "marker": {
          "color": "#FF6692",
          "size": 10,
          "symbol": "circle"
         },
         "mode": "markers",
         "name": "Id 16",
         "orientation": "v",
         "showlegend": true,
         "type": "scatter",
         "x": [
          0.0231
         ],
         "xaxis": "x",
         "y": [
          0.0838
         ],
         "yaxis": "y"
        },
        {
         "customdata": [
          [
           "Id 17",
           "OBE1"
          ]
         ],
         "hovertemplate": "Filename=%{customdata[0]}<br>Word Error Rate (WER)=%{x}<br>Diarization Error Rate (DER)=%{y}<br>Experiment=%{customdata[1]}<extra></extra>",
         "legendgroup": "Id 17",
         "marker": {
          "color": "#B6E880",
          "size": 10,
          "symbol": "circle"
         },
         "mode": "markers",
         "name": "Id 17",
         "orientation": "v",
         "showlegend": true,
         "type": "scatter",
         "x": [
          0.0042
         ],
         "xaxis": "x",
         "y": [
          0.0209
         ],
         "yaxis": "y"
        },
        {
         "customdata": [
          [
           "Id 18",
           "OBE1"
          ]
         ],
         "hovertemplate": "Filename=%{customdata[0]}<br>Word Error Rate (WER)=%{x}<br>Diarization Error Rate (DER)=%{y}<br>Experiment=%{customdata[1]}<extra></extra>",
         "legendgroup": "Id 18",
         "marker": {
          "color": "#FF97FF",
          "size": 10,
          "symbol": "circle"
         },
         "mode": "markers",
         "name": "Id 18",
         "orientation": "v",
         "showlegend": true,
         "type": "scatter",
         "x": [
          0.0163
         ],
         "xaxis": "x",
         "y": [
          0.0926
         ],
         "yaxis": "y"
        },
        {
         "customdata": [
          [
           "Id 19",
           "OBE1"
          ]
         ],
         "hovertemplate": "Filename=%{customdata[0]}<br>Word Error Rate (WER)=%{x}<br>Diarization Error Rate (DER)=%{y}<br>Experiment=%{customdata[1]}<extra></extra>",
         "legendgroup": "Id 19",
         "marker": {
          "color": "#FECB52",
          "size": 10,
          "symbol": "circle"
         },
         "mode": "markers",
         "name": "Id 19",
         "orientation": "v",
         "showlegend": true,
         "type": "scatter",
         "x": [
          0.0023
         ],
         "xaxis": "x",
         "y": [
          0.0402
         ],
         "yaxis": "y"
        },
        {
         "customdata": [
          [
           "Id 19b",
           "OBE1"
          ]
         ],
         "hovertemplate": "Filename=%{customdata[0]}<br>Word Error Rate (WER)=%{x}<br>Diarization Error Rate (DER)=%{y}<br>Experiment=%{customdata[1]}<extra></extra>",
         "legendgroup": "Id 19b",
         "marker": {
          "color": "#636efa",
          "size": 10,
          "symbol": "circle"
         },
         "mode": "markers",
         "name": "Id 19b",
         "orientation": "v",
         "showlegend": true,
         "type": "scatter",
         "x": [
          0.011
         ],
         "xaxis": "x",
         "y": [
          0.1006
         ],
         "yaxis": "y"
        },
        {
         "customdata": [
          [
           "Id 22",
           "OBE1"
          ]
         ],
         "hovertemplate": "Filename=%{customdata[0]}<br>Word Error Rate (WER)=%{x}<br>Diarization Error Rate (DER)=%{y}<br>Experiment=%{customdata[1]}<extra></extra>",
         "legendgroup": "Id 22",
         "marker": {
          "color": "#EF553B",
          "size": 10,
          "symbol": "circle"
         },
         "mode": "markers",
         "name": "Id 22",
         "orientation": "v",
         "showlegend": true,
         "type": "scatter",
         "x": [
          0.0161
         ],
         "xaxis": "x",
         "y": [
          0.1051
         ],
         "yaxis": "y"
        },
        {
         "customdata": [
          [
           "Id 23",
           "OBE1"
          ]
         ],
         "hovertemplate": "Filename=%{customdata[0]}<br>Word Error Rate (WER)=%{x}<br>Diarization Error Rate (DER)=%{y}<br>Experiment=%{customdata[1]}<extra></extra>",
         "legendgroup": "Id 23",
         "marker": {
          "color": "#00cc96",
          "size": 10,
          "symbol": "circle"
         },
         "mode": "markers",
         "name": "Id 23",
         "orientation": "v",
         "showlegend": true,
         "type": "scatter",
         "x": [
          0.0247
         ],
         "xaxis": "x",
         "y": [
          0.0505
         ],
         "yaxis": "y"
        },
        {
         "customdata": [
          [
           "Id 24",
           "OBE1"
          ]
         ],
         "hovertemplate": "Filename=%{customdata[0]}<br>Word Error Rate (WER)=%{x}<br>Diarization Error Rate (DER)=%{y}<br>Experiment=%{customdata[1]}<extra></extra>",
         "legendgroup": "Id 24",
         "marker": {
          "color": "#ab63fa",
          "size": 10,
          "symbol": "circle"
         },
         "mode": "markers",
         "name": "Id 24",
         "orientation": "v",
         "showlegend": true,
         "type": "scatter",
         "x": [
          0.0184
         ],
         "xaxis": "x",
         "y": [
          0.4916
         ],
         "yaxis": "y"
        },
        {
         "customdata": [
          [
           "Id 24b",
           "OBE1"
          ]
         ],
         "hovertemplate": "Filename=%{customdata[0]}<br>Word Error Rate (WER)=%{x}<br>Diarization Error Rate (DER)=%{y}<br>Experiment=%{customdata[1]}<extra></extra>",
         "legendgroup": "Id 24b",
         "marker": {
          "color": "#FFA15A",
          "size": 10,
          "symbol": "circle"
         },
         "mode": "markers",
         "name": "Id 24b",
         "orientation": "v",
         "showlegend": true,
         "type": "scatter",
         "x": [
          0.0079
         ],
         "xaxis": "x",
         "y": [
          0.0201
         ],
         "yaxis": "y"
        },
        {
         "customdata": [
          [
           "Id 7a",
           "OBE1"
          ]
         ],
         "hovertemplate": "Filename=%{customdata[0]}<br>Word Error Rate (WER)=%{x}<br>Diarization Error Rate (DER)=%{y}<br>Experiment=%{customdata[1]}<extra></extra>",
         "legendgroup": "Id 7a",
         "marker": {
          "color": "#19d3f3",
          "size": 10,
          "symbol": "circle"
         },
         "mode": "markers",
         "name": "Id 7a",
         "orientation": "v",
         "showlegend": true,
         "type": "scatter",
         "x": [
          0.2945
         ],
         "xaxis": "x",
         "y": [
          0.2549
         ],
         "yaxis": "y"
        },
        {
         "customdata": [
          [
           "Id 7b",
           "OBE1"
          ]
         ],
         "hovertemplate": "Filename=%{customdata[0]}<br>Word Error Rate (WER)=%{x}<br>Diarization Error Rate (DER)=%{y}<br>Experiment=%{customdata[1]}<extra></extra>",
         "legendgroup": "Id 7b",
         "marker": {
          "color": "#FF6692",
          "size": 10,
          "symbol": "circle"
         },
         "mode": "markers",
         "name": "Id 7b",
         "orientation": "v",
         "showlegend": true,
         "type": "scatter",
         "x": [
          0.0034
         ],
         "xaxis": "x",
         "y": [
          0.2113
         ],
         "yaxis": "y"
        },
        {
         "customdata": [
          [
           "Participant 20 interview",
           "OBE1"
          ]
         ],
         "hovertemplate": "Filename=%{customdata[0]}<br>Word Error Rate (WER)=%{x}<br>Diarization Error Rate (DER)=%{y}<br>Experiment=%{customdata[1]}<extra></extra>",
         "legendgroup": "Participant 20 interview",
         "marker": {
          "color": "#B6E880",
          "size": 10,
          "symbol": "circle"
         },
         "mode": "markers",
         "name": "Participant 20 interview",
         "orientation": "v",
         "showlegend": true,
         "type": "scatter",
         "x": [
          0.0097
         ],
         "xaxis": "x",
         "y": [
          0.0849
         ],
         "yaxis": "y"
        },
        {
         "customdata": [
          [
           "S201-1",
           "OBE2"
          ]
         ],
         "hovertemplate": "Filename=%{customdata[0]}<br>Word Error Rate (WER)=%{x}<br>Diarization Error Rate (DER)=%{y}<br>Experiment=%{customdata[1]}<extra></extra>",
         "legendgroup": "S201-1",
         "marker": {
          "color": "#FF97FF",
          "size": 10,
          "symbol": "circle"
         },
         "mode": "markers",
         "name": "S201-1",
         "orientation": "v",
         "showlegend": true,
         "type": "scatter",
         "x": [
          0.0303
         ],
         "xaxis": "x",
         "y": [
          0.0634
         ],
         "yaxis": "y"
        },
        {
         "customdata": [
          [
           "S201-2",
           "OBE2"
          ]
         ],
         "hovertemplate": "Filename=%{customdata[0]}<br>Word Error Rate (WER)=%{x}<br>Diarization Error Rate (DER)=%{y}<br>Experiment=%{customdata[1]}<extra></extra>",
         "legendgroup": "S201-2",
         "marker": {
          "color": "#FECB52",
          "size": 10,
          "symbol": "circle"
         },
         "mode": "markers",
         "name": "S201-2",
         "orientation": "v",
         "showlegend": true,
         "type": "scatter",
         "x": [
          0.0163
         ],
         "xaxis": "x",
         "y": [
          0.1184
         ],
         "yaxis": "y"
        },
        {
         "customdata": [
          [
           "S201-3",
           "OBE2"
          ]
         ],
         "hovertemplate": "Filename=%{customdata[0]}<br>Word Error Rate (WER)=%{x}<br>Diarization Error Rate (DER)=%{y}<br>Experiment=%{customdata[1]}<extra></extra>",
         "legendgroup": "S201-3",
         "marker": {
          "color": "#636efa",
          "size": 10,
          "symbol": "circle"
         },
         "mode": "markers",
         "name": "S201-3",
         "orientation": "v",
         "showlegend": true,
         "type": "scatter",
         "x": [
          0.0036
         ],
         "xaxis": "x",
         "y": [
          0.0171
         ],
         "yaxis": "y"
        },
        {
         "customdata": [
          [
           "S202-1",
           "OBE2"
          ]
         ],
         "hovertemplate": "Filename=%{customdata[0]}<br>Word Error Rate (WER)=%{x}<br>Diarization Error Rate (DER)=%{y}<br>Experiment=%{customdata[1]}<extra></extra>",
         "legendgroup": "S202-1",
         "marker": {
          "color": "#EF553B",
          "size": 10,
          "symbol": "circle"
         },
         "mode": "markers",
         "name": "S202-1",
         "orientation": "v",
         "showlegend": true,
         "type": "scatter",
         "x": [
          0.0052
         ],
         "xaxis": "x",
         "y": [
          0.4168
         ],
         "yaxis": "y"
        },
        {
         "customdata": [
          [
           "S203-1",
           "OBE2"
          ]
         ],
         "hovertemplate": "Filename=%{customdata[0]}<br>Word Error Rate (WER)=%{x}<br>Diarization Error Rate (DER)=%{y}<br>Experiment=%{customdata[1]}<extra></extra>",
         "legendgroup": "S203-1",
         "marker": {
          "color": "#00cc96",
          "size": 10,
          "symbol": "circle"
         },
         "mode": "markers",
         "name": "S203-1",
         "orientation": "v",
         "showlegend": true,
         "type": "scatter",
         "x": [
          0.3621
         ],
         "xaxis": "x",
         "y": [
          0.1394
         ],
         "yaxis": "y"
        },
        {
         "customdata": [
          [
           "S204-1",
           "OBE2"
          ]
         ],
         "hovertemplate": "Filename=%{customdata[0]}<br>Word Error Rate (WER)=%{x}<br>Diarization Error Rate (DER)=%{y}<br>Experiment=%{customdata[1]}<extra></extra>",
         "legendgroup": "S204-1",
         "marker": {
          "color": "#ab63fa",
          "size": 10,
          "symbol": "circle"
         },
         "mode": "markers",
         "name": "S204-1",
         "orientation": "v",
         "showlegend": true,
         "type": "scatter",
         "x": [
          0.0242
         ],
         "xaxis": "x",
         "y": [
          0.3457
         ],
         "yaxis": "y"
        },
        {
         "customdata": [
          [
           "S204-2",
           "OBE2"
          ]
         ],
         "hovertemplate": "Filename=%{customdata[0]}<br>Word Error Rate (WER)=%{x}<br>Diarization Error Rate (DER)=%{y}<br>Experiment=%{customdata[1]}<extra></extra>",
         "legendgroup": "S204-2",
         "marker": {
          "color": "#FFA15A",
          "size": 10,
          "symbol": "circle"
         },
         "mode": "markers",
         "name": "S204-2",
         "orientation": "v",
         "showlegend": true,
         "type": "scatter",
         "x": [
          0.0173
         ],
         "xaxis": "x",
         "y": [
          0.3756
         ],
         "yaxis": "y"
        },
        {
         "customdata": [
          [
           "S205-1",
           "OBE2"
          ]
         ],
         "hovertemplate": "Filename=%{customdata[0]}<br>Word Error Rate (WER)=%{x}<br>Diarization Error Rate (DER)=%{y}<br>Experiment=%{customdata[1]}<extra></extra>",
         "legendgroup": "S205-1",
         "marker": {
          "color": "#19d3f3",
          "size": 10,
          "symbol": "circle"
         },
         "mode": "markers",
         "name": "S205-1",
         "orientation": "v",
         "showlegend": true,
         "type": "scatter",
         "x": [
          0.0143
         ],
         "xaxis": "x",
         "y": [
          0.2685
         ],
         "yaxis": "y"
        },
        {
         "customdata": [
          [
           "S205-2",
           "OBE2"
          ]
         ],
         "hovertemplate": "Filename=%{customdata[0]}<br>Word Error Rate (WER)=%{x}<br>Diarization Error Rate (DER)=%{y}<br>Experiment=%{customdata[1]}<extra></extra>",
         "legendgroup": "S205-2",
         "marker": {
          "color": "#FF6692",
          "size": 10,
          "symbol": "circle"
         },
         "mode": "markers",
         "name": "S205-2",
         "orientation": "v",
         "showlegend": true,
         "type": "scatter",
         "x": [
          0.0943
         ],
         "xaxis": "x",
         "y": [
          0.1425
         ],
         "yaxis": "y"
        },
        {
         "customdata": [
          [
           "S206-1",
           "OBE2"
          ]
         ],
         "hovertemplate": "Filename=%{customdata[0]}<br>Word Error Rate (WER)=%{x}<br>Diarization Error Rate (DER)=%{y}<br>Experiment=%{customdata[1]}<extra></extra>",
         "legendgroup": "S206-1",
         "marker": {
          "color": "#B6E880",
          "size": 10,
          "symbol": "circle"
         },
         "mode": "markers",
         "name": "S206-1",
         "orientation": "v",
         "showlegend": true,
         "type": "scatter",
         "x": [
          0.0496
         ],
         "xaxis": "x",
         "y": [
          0.0836
         ],
         "yaxis": "y"
        },
        {
         "customdata": [
          [
           "S206-2",
           "OBE2"
          ]
         ],
         "hovertemplate": "Filename=%{customdata[0]}<br>Word Error Rate (WER)=%{x}<br>Diarization Error Rate (DER)=%{y}<br>Experiment=%{customdata[1]}<extra></extra>",
         "legendgroup": "S206-2",
         "marker": {
          "color": "#FF97FF",
          "size": 10,
          "symbol": "circle"
         },
         "mode": "markers",
         "name": "S206-2",
         "orientation": "v",
         "showlegend": true,
         "type": "scatter",
         "x": [
          0.0556
         ],
         "xaxis": "x",
         "y": [
          0.0538
         ],
         "yaxis": "y"
        },
        {
         "customdata": [
          [
           "S207-1",
           "OBE2"
          ]
         ],
         "hovertemplate": "Filename=%{customdata[0]}<br>Word Error Rate (WER)=%{x}<br>Diarization Error Rate (DER)=%{y}<br>Experiment=%{customdata[1]}<extra></extra>",
         "legendgroup": "S207-1",
         "marker": {
          "color": "#FECB52",
          "size": 10,
          "symbol": "circle"
         },
         "mode": "markers",
         "name": "S207-1",
         "orientation": "v",
         "showlegend": true,
         "type": "scatter",
         "x": [
          0.1699
         ],
         "xaxis": "x",
         "y": [
          0.1928
         ],
         "yaxis": "y"
        },
        {
         "customdata": [
          [
           "S207-2",
           "OBE2"
          ]
         ],
         "hovertemplate": "Filename=%{customdata[0]}<br>Word Error Rate (WER)=%{x}<br>Diarization Error Rate (DER)=%{y}<br>Experiment=%{customdata[1]}<extra></extra>",
         "legendgroup": "S207-2",
         "marker": {
          "color": "#636efa",
          "size": 10,
          "symbol": "circle"
         },
         "mode": "markers",
         "name": "S207-2",
         "orientation": "v",
         "showlegend": true,
         "type": "scatter",
         "x": [
          0
         ],
         "xaxis": "x",
         "y": [
          0
         ],
         "yaxis": "y"
        },
        {
         "customdata": [
          [
           "S208-1",
           "OBE2"
          ]
         ],
         "hovertemplate": "Filename=%{customdata[0]}<br>Word Error Rate (WER)=%{x}<br>Diarization Error Rate (DER)=%{y}<br>Experiment=%{customdata[1]}<extra></extra>",
         "legendgroup": "S208-1",
         "marker": {
          "color": "#EF553B",
          "size": 10,
          "symbol": "circle"
         },
         "mode": "markers",
         "name": "S208-1",
         "orientation": "v",
         "showlegend": true,
         "type": "scatter",
         "x": [
          0.0138
         ],
         "xaxis": "x",
         "y": [
          0.106
         ],
         "yaxis": "y"
        },
        {
         "customdata": [
          [
           "S208-2",
           "OBE2"
          ]
         ],
         "hovertemplate": "Filename=%{customdata[0]}<br>Word Error Rate (WER)=%{x}<br>Diarization Error Rate (DER)=%{y}<br>Experiment=%{customdata[1]}<extra></extra>",
         "legendgroup": "S208-2",
         "marker": {
          "color": "#00cc96",
          "size": 10,
          "symbol": "circle"
         },
         "mode": "markers",
         "name": "S208-2",
         "orientation": "v",
         "showlegend": true,
         "type": "scatter",
         "x": [
          0.011
         ],
         "xaxis": "x",
         "y": [
          0.1569
         ],
         "yaxis": "y"
        },
        {
         "customdata": [
          [
           "S209-1",
           "OBE2"
          ]
         ],
         "hovertemplate": "Filename=%{customdata[0]}<br>Word Error Rate (WER)=%{x}<br>Diarization Error Rate (DER)=%{y}<br>Experiment=%{customdata[1]}<extra></extra>",
         "legendgroup": "S209-1",
         "marker": {
          "color": "#ab63fa",
          "size": 10,
          "symbol": "circle"
         },
         "mode": "markers",
         "name": "S209-1",
         "orientation": "v",
         "showlegend": true,
         "type": "scatter",
         "x": [
          0.0221
         ],
         "xaxis": "x",
         "y": [
          0.1626
         ],
         "yaxis": "y"
        },
        {
         "customdata": [
          [
           "S209-2",
           "OBE2"
          ]
         ],
         "hovertemplate": "Filename=%{customdata[0]}<br>Word Error Rate (WER)=%{x}<br>Diarization Error Rate (DER)=%{y}<br>Experiment=%{customdata[1]}<extra></extra>",
         "legendgroup": "S209-2",
         "marker": {
          "color": "#FFA15A",
          "size": 10,
          "symbol": "circle"
         },
         "mode": "markers",
         "name": "S209-2",
         "orientation": "v",
         "showlegend": true,
         "type": "scatter",
         "x": [
          0
         ],
         "xaxis": "x",
         "y": [
          0.0227
         ],
         "yaxis": "y"
        },
        {
         "customdata": [
          [
           "S209-3",
           "OBE2"
          ]
         ],
         "hovertemplate": "Filename=%{customdata[0]}<br>Word Error Rate (WER)=%{x}<br>Diarization Error Rate (DER)=%{y}<br>Experiment=%{customdata[1]}<extra></extra>",
         "legendgroup": "S209-3",
         "marker": {
          "color": "#19d3f3",
          "size": 10,
          "symbol": "circle"
         },
         "mode": "markers",
         "name": "S209-3",
         "orientation": "v",
         "showlegend": true,
         "type": "scatter",
         "x": [
          0.042
         ],
         "xaxis": "x",
         "y": [
          0.0837
         ],
         "yaxis": "y"
        },
        {
         "customdata": [
          [
           "S209-4",
           "OBE2"
          ]
         ],
         "hovertemplate": "Filename=%{customdata[0]}<br>Word Error Rate (WER)=%{x}<br>Diarization Error Rate (DER)=%{y}<br>Experiment=%{customdata[1]}<extra></extra>",
         "legendgroup": "S209-4",
         "marker": {
          "color": "#FF6692",
          "size": 10,
          "symbol": "circle"
         },
         "mode": "markers",
         "name": "S209-4",
         "orientation": "v",
         "showlegend": true,
         "type": "scatter",
         "x": [
          0.0363
         ],
         "xaxis": "x",
         "y": [
          0.0349
         ],
         "yaxis": "y"
        },
        {
         "customdata": [
          [
           "S210-1",
           "OBE2"
          ]
         ],
         "hovertemplate": "Filename=%{customdata[0]}<br>Word Error Rate (WER)=%{x}<br>Diarization Error Rate (DER)=%{y}<br>Experiment=%{customdata[1]}<extra></extra>",
         "legendgroup": "S210-1",
         "marker": {
          "color": "#B6E880",
          "size": 10,
          "symbol": "circle"
         },
         "mode": "markers",
         "name": "S210-1",
         "orientation": "v",
         "showlegend": true,
         "type": "scatter",
         "x": [
          0.05
         ],
         "xaxis": "x",
         "y": [
          0.4525
         ],
         "yaxis": "y"
        },
        {
         "customdata": [
          [
           "S210-2",
           "OBE2"
          ]
         ],
         "hovertemplate": "Filename=%{customdata[0]}<br>Word Error Rate (WER)=%{x}<br>Diarization Error Rate (DER)=%{y}<br>Experiment=%{customdata[1]}<extra></extra>",
         "legendgroup": "S210-2",
         "marker": {
          "color": "#FF97FF",
          "size": 10,
          "symbol": "circle"
         },
         "mode": "markers",
         "name": "S210-2",
         "orientation": "v",
         "showlegend": true,
         "type": "scatter",
         "x": [
          0
         ],
         "xaxis": "x",
         "y": [
          0.0017
         ],
         "yaxis": "y"
        },
        {
         "customdata": [
          [
           "S210-3",
           "OBE2"
          ]
         ],
         "hovertemplate": "Filename=%{customdata[0]}<br>Word Error Rate (WER)=%{x}<br>Diarization Error Rate (DER)=%{y}<br>Experiment=%{customdata[1]}<extra></extra>",
         "legendgroup": "S210-3",
         "marker": {
          "color": "#FECB52",
          "size": 10,
          "symbol": "circle"
         },
         "mode": "markers",
         "name": "S210-3",
         "orientation": "v",
         "showlegend": true,
         "type": "scatter",
         "x": [
          0.0397
         ],
         "xaxis": "x",
         "y": [
          0.25
         ],
         "yaxis": "y"
        },
        {
         "customdata": [
          [
           "S211_1",
           "OBE2"
          ]
         ],
         "hovertemplate": "Filename=%{customdata[0]}<br>Word Error Rate (WER)=%{x}<br>Diarization Error Rate (DER)=%{y}<br>Experiment=%{customdata[1]}<extra></extra>",
         "legendgroup": "S211_1",
         "marker": {
          "color": "#636efa",
          "size": 10,
          "symbol": "circle"
         },
         "mode": "markers",
         "name": "S211_1",
         "orientation": "v",
         "showlegend": true,
         "type": "scatter",
         "x": [
          0.122
         ],
         "xaxis": "x",
         "y": [
          0.2128
         ],
         "yaxis": "y"
        },
        {
         "customdata": [
          [
           "S211_2",
           "OBE2"
          ]
         ],
         "hovertemplate": "Filename=%{customdata[0]}<br>Word Error Rate (WER)=%{x}<br>Diarization Error Rate (DER)=%{y}<br>Experiment=%{customdata[1]}<extra></extra>",
         "legendgroup": "S211_2",
         "marker": {
          "color": "#EF553B",
          "size": 10,
          "symbol": "circle"
         },
         "mode": "markers",
         "name": "S211_2",
         "orientation": "v",
         "showlegend": true,
         "type": "scatter",
         "x": [
          0
         ],
         "xaxis": "x",
         "y": [
          0.0295
         ],
         "yaxis": "y"
        },
        {
         "customdata": [
          [
           "S211_3 (partially in french)",
           "OBE2"
          ]
         ],
         "hovertemplate": "Filename=%{customdata[0]}<br>Word Error Rate (WER)=%{x}<br>Diarization Error Rate (DER)=%{y}<br>Experiment=%{customdata[1]}<extra></extra>",
         "legendgroup": "S211_3 (partially in french)",
         "marker": {
          "color": "#00cc96",
          "size": 10,
          "symbol": "circle"
         },
         "mode": "markers",
         "name": "S211_3 (partially in french)",
         "orientation": "v",
         "showlegend": true,
         "type": "scatter",
         "x": [
          0.0434
         ],
         "xaxis": "x",
         "y": [
          0.0729
         ],
         "yaxis": "y"
        },
        {
         "customdata": [
          [
           "S212_1",
           "OBE2"
          ]
         ],
         "hovertemplate": "Filename=%{customdata[0]}<br>Word Error Rate (WER)=%{x}<br>Diarization Error Rate (DER)=%{y}<br>Experiment=%{customdata[1]}<extra></extra>",
         "legendgroup": "S212_1",
         "marker": {
          "color": "#ab63fa",
          "size": 10,
          "symbol": "circle"
         },
         "mode": "markers",
         "name": "S212_1",
         "orientation": "v",
         "showlegend": true,
         "type": "scatter",
         "x": [
          0.0131
         ],
         "xaxis": "x",
         "y": [
          0.3822
         ],
         "yaxis": "y"
        },
        {
         "customdata": [
          [
           "S212_2",
           "OBE2"
          ]
         ],
         "hovertemplate": "Filename=%{customdata[0]}<br>Word Error Rate (WER)=%{x}<br>Diarization Error Rate (DER)=%{y}<br>Experiment=%{customdata[1]}<extra></extra>",
         "legendgroup": "S212_2",
         "marker": {
          "color": "#FFA15A",
          "size": 10,
          "symbol": "circle"
         },
         "mode": "markers",
         "name": "S212_2",
         "orientation": "v",
         "showlegend": true,
         "type": "scatter",
         "x": [
          0.0087
         ],
         "xaxis": "x",
         "y": [
          0.106
         ],
         "yaxis": "y"
        },
        {
         "customdata": [
          [
           "S213_1",
           "OBE2"
          ]
         ],
         "hovertemplate": "Filename=%{customdata[0]}<br>Word Error Rate (WER)=%{x}<br>Diarization Error Rate (DER)=%{y}<br>Experiment=%{customdata[1]}<extra></extra>",
         "legendgroup": "S213_1",
         "marker": {
          "color": "#19d3f3",
          "size": 10,
          "symbol": "circle"
         },
         "mode": "markers",
         "name": "S213_1",
         "orientation": "v",
         "showlegend": true,
         "type": "scatter",
         "x": [
          0.0127
         ],
         "xaxis": "x",
         "y": [
          0.0438
         ],
         "yaxis": "y"
        },
        {
         "customdata": [
          [
           "S213_2",
           "OBE2"
          ]
         ],
         "hovertemplate": "Filename=%{customdata[0]}<br>Word Error Rate (WER)=%{x}<br>Diarization Error Rate (DER)=%{y}<br>Experiment=%{customdata[1]}<extra></extra>",
         "legendgroup": "S213_2",
         "marker": {
          "color": "#FF6692",
          "size": 10,
          "symbol": "circle"
         },
         "mode": "markers",
         "name": "S213_2",
         "orientation": "v",
         "showlegend": true,
         "type": "scatter",
         "x": [
          0.0394
         ],
         "xaxis": "x",
         "y": [
          0.3204
         ],
         "yaxis": "y"
        },
        {
         "customdata": [
          [
           "S214_1",
           "OBE2"
          ]
         ],
         "hovertemplate": "Filename=%{customdata[0]}<br>Word Error Rate (WER)=%{x}<br>Diarization Error Rate (DER)=%{y}<br>Experiment=%{customdata[1]}<extra></extra>",
         "legendgroup": "S214_1",
         "marker": {
          "color": "#B6E880",
          "size": 10,
          "symbol": "circle"
         },
         "mode": "markers",
         "name": "S214_1",
         "orientation": "v",
         "showlegend": true,
         "type": "scatter",
         "x": [
          0.0761
         ],
         "xaxis": "x",
         "y": [
          0.1899
         ],
         "yaxis": "y"
        },
        {
         "customdata": [
          [
           "S214_2",
           "OBE2"
          ]
         ],
         "hovertemplate": "Filename=%{customdata[0]}<br>Word Error Rate (WER)=%{x}<br>Diarization Error Rate (DER)=%{y}<br>Experiment=%{customdata[1]}<extra></extra>",
         "legendgroup": "S214_2",
         "marker": {
          "color": "#FF97FF",
          "size": 10,
          "symbol": "circle"
         },
         "mode": "markers",
         "name": "S214_2",
         "orientation": "v",
         "showlegend": true,
         "type": "scatter",
         "x": [
          0.0396
         ],
         "xaxis": "x",
         "y": [
          0.5861
         ],
         "yaxis": "y"
        },
        {
         "customdata": [
          [
           "S217",
           "OBE2"
          ]
         ],
         "hovertemplate": "Filename=%{customdata[0]}<br>Word Error Rate (WER)=%{x}<br>Diarization Error Rate (DER)=%{y}<br>Experiment=%{customdata[1]}<extra></extra>",
         "legendgroup": "S217",
         "marker": {
          "color": "#FECB52",
          "size": 10,
          "symbol": "circle"
         },
         "mode": "markers",
         "name": "S217",
         "orientation": "v",
         "showlegend": true,
         "type": "scatter",
         "x": [
          0.0394
         ],
         "xaxis": "x",
         "y": [
          0.0191
         ],
         "yaxis": "y"
        },
        {
         "customdata": [
          [
           "S218-1",
           "OBE2"
          ]
         ],
         "hovertemplate": "Filename=%{customdata[0]}<br>Word Error Rate (WER)=%{x}<br>Diarization Error Rate (DER)=%{y}<br>Experiment=%{customdata[1]}<extra></extra>",
         "legendgroup": "S218-1",
         "marker": {
          "color": "#636efa",
          "size": 10,
          "symbol": "circle"
         },
         "mode": "markers",
         "name": "S218-1",
         "orientation": "v",
         "showlegend": true,
         "type": "scatter",
         "x": [
          0.0679
         ],
         "xaxis": "x",
         "y": [
          0.4707
         ],
         "yaxis": "y"
        },
        {
         "customdata": [
          [
           "S218-2",
           "OBE2"
          ]
         ],
         "hovertemplate": "Filename=%{customdata[0]}<br>Word Error Rate (WER)=%{x}<br>Diarization Error Rate (DER)=%{y}<br>Experiment=%{customdata[1]}<extra></extra>",
         "legendgroup": "S218-2",
         "marker": {
          "color": "#EF553B",
          "size": 10,
          "symbol": "circle"
         },
         "mode": "markers",
         "name": "S218-2",
         "orientation": "v",
         "showlegend": true,
         "type": "scatter",
         "x": [
          0.0032
         ],
         "xaxis": "x",
         "y": [
          0.0361
         ],
         "yaxis": "y"
        },
        {
         "customdata": [
          [
           "S219-1",
           "OBE2"
          ]
         ],
         "hovertemplate": "Filename=%{customdata[0]}<br>Word Error Rate (WER)=%{x}<br>Diarization Error Rate (DER)=%{y}<br>Experiment=%{customdata[1]}<extra></extra>",
         "legendgroup": "S219-1",
         "marker": {
          "color": "#00cc96",
          "size": 10,
          "symbol": "circle"
         },
         "mode": "markers",
         "name": "S219-1",
         "orientation": "v",
         "showlegend": true,
         "type": "scatter",
         "x": [
          0.1238
         ],
         "xaxis": "x",
         "y": [
          0.3428
         ],
         "yaxis": "y"
        },
        {
         "customdata": [
          [
           "S219-2",
           "OBE2"
          ]
         ],
         "hovertemplate": "Filename=%{customdata[0]}<br>Word Error Rate (WER)=%{x}<br>Diarization Error Rate (DER)=%{y}<br>Experiment=%{customdata[1]}<extra></extra>",
         "legendgroup": "S219-2",
         "marker": {
          "color": "#ab63fa",
          "size": 10,
          "symbol": "circle"
         },
         "mode": "markers",
         "name": "S219-2",
         "orientation": "v",
         "showlegend": true,
         "type": "scatter",
         "x": [
          0.0126
         ],
         "xaxis": "x",
         "y": [
          0.0157
         ],
         "yaxis": "y"
        },
        {
         "customdata": [
          [
           "S220-1",
           "OBE2"
          ]
         ],
         "hovertemplate": "Filename=%{customdata[0]}<br>Word Error Rate (WER)=%{x}<br>Diarization Error Rate (DER)=%{y}<br>Experiment=%{customdata[1]}<extra></extra>",
         "legendgroup": "S220-1",
         "marker": {
          "color": "#FFA15A",
          "size": 10,
          "symbol": "circle"
         },
         "mode": "markers",
         "name": "S220-1",
         "orientation": "v",
         "showlegend": true,
         "type": "scatter",
         "x": [
          0.0948
         ],
         "xaxis": "x",
         "y": [
          0.1394
         ],
         "yaxis": "y"
        },
        {
         "customdata": [
          [
           "S220-2",
           "OBE2"
          ]
         ],
         "hovertemplate": "Filename=%{customdata[0]}<br>Word Error Rate (WER)=%{x}<br>Diarization Error Rate (DER)=%{y}<br>Experiment=%{customdata[1]}<extra></extra>",
         "legendgroup": "S220-2",
         "marker": {
          "color": "#19d3f3",
          "size": 10,
          "symbol": "circle"
         },
         "mode": "markers",
         "name": "S220-2",
         "orientation": "v",
         "showlegend": true,
         "type": "scatter",
         "x": [
          0.121
         ],
         "xaxis": "x",
         "y": [
          0.1033
         ],
         "yaxis": "y"
        },
        {
         "customdata": [
          [
           "S222_c",
           "OBE2"
          ]
         ],
         "hovertemplate": "Filename=%{customdata[0]}<br>Word Error Rate (WER)=%{x}<br>Diarization Error Rate (DER)=%{y}<br>Experiment=%{customdata[1]}<extra></extra>",
         "legendgroup": "S222_c",
         "marker": {
          "color": "#FF6692",
          "size": 10,
          "symbol": "circle"
         },
         "mode": "markers",
         "name": "S222_c",
         "orientation": "v",
         "showlegend": true,
         "type": "scatter",
         "x": [
          0.0032
         ],
         "xaxis": "x",
         "y": [
          0.1282
         ],
         "yaxis": "y"
        },
        {
         "customdata": [
          [
           "S222_m",
           "OBE2"
          ]
         ],
         "hovertemplate": "Filename=%{customdata[0]}<br>Word Error Rate (WER)=%{x}<br>Diarization Error Rate (DER)=%{y}<br>Experiment=%{customdata[1]}<extra></extra>",
         "legendgroup": "S222_m",
         "marker": {
          "color": "#B6E880",
          "size": 10,
          "symbol": "circle"
         },
         "mode": "markers",
         "name": "S222_m",
         "orientation": "v",
         "showlegend": true,
         "type": "scatter",
         "x": [
          0.0094
         ],
         "xaxis": "x",
         "y": [
          0.1375
         ],
         "yaxis": "y"
        },
        {
         "customdata": [
          [
           "S223",
           "OBE2"
          ]
         ],
         "hovertemplate": "Filename=%{customdata[0]}<br>Word Error Rate (WER)=%{x}<br>Diarization Error Rate (DER)=%{y}<br>Experiment=%{customdata[1]}<extra></extra>",
         "legendgroup": "S223",
         "marker": {
          "color": "#FF97FF",
          "size": 10,
          "symbol": "circle"
         },
         "mode": "markers",
         "name": "S223",
         "orientation": "v",
         "showlegend": true,
         "type": "scatter",
         "x": [
          0.0893
         ],
         "xaxis": "x",
         "y": [
          0.5887
         ],
         "yaxis": "y"
        },
        {
         "customdata": [
          [
           "S225",
           "OBE2"
          ]
         ],
         "hovertemplate": "Filename=%{customdata[0]}<br>Word Error Rate (WER)=%{x}<br>Diarization Error Rate (DER)=%{y}<br>Experiment=%{customdata[1]}<extra></extra>",
         "legendgroup": "S225",
         "marker": {
          "color": "#FECB52",
          "size": 10,
          "symbol": "circle"
         },
         "mode": "markers",
         "name": "S225",
         "orientation": "v",
         "showlegend": true,
         "type": "scatter",
         "x": [
          0.2273
         ],
         "xaxis": "x",
         "y": [
          0.142
         ],
         "yaxis": "y"
        },
        {
         "customdata": [
          [
           "S225[1]",
           "OBE2"
          ]
         ],
         "hovertemplate": "Filename=%{customdata[0]}<br>Word Error Rate (WER)=%{x}<br>Diarization Error Rate (DER)=%{y}<br>Experiment=%{customdata[1]}<extra></extra>",
         "legendgroup": "S225[1]",
         "marker": {
          "color": "#636efa",
          "size": 10,
          "symbol": "circle"
         },
         "mode": "markers",
         "name": "S225[1]",
         "orientation": "v",
         "showlegend": true,
         "type": "scatter",
         "x": [
          0.0109
         ],
         "xaxis": "x",
         "y": [
          0.0305
         ],
         "yaxis": "y"
        },
        {
         "customdata": [
          [
           "S226",
           "OBE2"
          ]
         ],
         "hovertemplate": "Filename=%{customdata[0]}<br>Word Error Rate (WER)=%{x}<br>Diarization Error Rate (DER)=%{y}<br>Experiment=%{customdata[1]}<extra></extra>",
         "legendgroup": "S226",
         "marker": {
          "color": "#EF553B",
          "size": 10,
          "symbol": "circle"
         },
         "mode": "markers",
         "name": "S226",
         "orientation": "v",
         "showlegend": true,
         "type": "scatter",
         "x": [
          0.4536
         ],
         "xaxis": "x",
         "y": [
          0.3477
         ],
         "yaxis": "y"
        },
        {
         "customdata": [
          [
           "S226[1]",
           "OBE2"
          ]
         ],
         "hovertemplate": "Filename=%{customdata[0]}<br>Word Error Rate (WER)=%{x}<br>Diarization Error Rate (DER)=%{y}<br>Experiment=%{customdata[1]}<extra></extra>",
         "legendgroup": "S226[1]",
         "marker": {
          "color": "#00cc96",
          "size": 10,
          "symbol": "circle"
         },
         "mode": "markers",
         "name": "S226[1]",
         "orientation": "v",
         "showlegend": true,
         "type": "scatter",
         "x": [
          0.1282
         ],
         "xaxis": "x",
         "y": [
          0.5689
         ],
         "yaxis": "y"
        },
        {
         "customdata": [
          [
           "S226[2]",
           "OBE2"
          ]
         ],
         "hovertemplate": "Filename=%{customdata[0]}<br>Word Error Rate (WER)=%{x}<br>Diarization Error Rate (DER)=%{y}<br>Experiment=%{customdata[1]}<extra></extra>",
         "legendgroup": "S226[2]",
         "marker": {
          "color": "#ab63fa",
          "size": 10,
          "symbol": "circle"
         },
         "mode": "markers",
         "name": "S226[2]",
         "orientation": "v",
         "showlegend": true,
         "type": "scatter",
         "x": [
          0.0198
         ],
         "xaxis": "x",
         "y": [
          0.1916
         ],
         "yaxis": "y"
        },
        {
         "customdata": [
          [
           "S227 control interview",
           "OBE2"
          ]
         ],
         "hovertemplate": "Filename=%{customdata[0]}<br>Word Error Rate (WER)=%{x}<br>Diarization Error Rate (DER)=%{y}<br>Experiment=%{customdata[1]}<extra></extra>",
         "legendgroup": "S227 control interview",
         "marker": {
          "color": "#FFA15A",
          "size": 10,
          "symbol": "circle"
         },
         "mode": "markers",
         "name": "S227 control interview",
         "orientation": "v",
         "showlegend": true,
         "type": "scatter",
         "x": [
          0.1452
         ],
         "xaxis": "x",
         "y": [
          0.497
         ],
         "yaxis": "y"
        },
        {
         "customdata": [
          [
           "S227 intervention",
           "OBE2"
          ]
         ],
         "hovertemplate": "Filename=%{customdata[0]}<br>Word Error Rate (WER)=%{x}<br>Diarization Error Rate (DER)=%{y}<br>Experiment=%{customdata[1]}<extra></extra>",
         "legendgroup": "S227 intervention",
         "marker": {
          "color": "#19d3f3",
          "size": 10,
          "symbol": "circle"
         },
         "mode": "markers",
         "name": "S227 intervention",
         "orientation": "v",
         "showlegend": true,
         "type": "scatter",
         "x": [
          0.0844
         ],
         "xaxis": "x",
         "y": [
          0.3152
         ],
         "yaxis": "y"
        },
        {
         "customdata": [
          [
           "S228 control",
           "OBE2"
          ]
         ],
         "hovertemplate": "Filename=%{customdata[0]}<br>Word Error Rate (WER)=%{x}<br>Diarization Error Rate (DER)=%{y}<br>Experiment=%{customdata[1]}<extra></extra>",
         "legendgroup": "S228 control",
         "marker": {
          "color": "#FF6692",
          "size": 10,
          "symbol": "circle"
         },
         "mode": "markers",
         "name": "S228 control",
         "orientation": "v",
         "showlegend": true,
         "type": "scatter",
         "x": [
          0.0159
         ],
         "xaxis": "x",
         "y": [
          0.1639
         ],
         "yaxis": "y"
        },
        {
         "customdata": [
          [
           "S228 intervention",
           "OBE2"
          ]
         ],
         "hovertemplate": "Filename=%{customdata[0]}<br>Word Error Rate (WER)=%{x}<br>Diarization Error Rate (DER)=%{y}<br>Experiment=%{customdata[1]}<extra></extra>",
         "legendgroup": "S228 intervention",
         "marker": {
          "color": "#B6E880",
          "size": 10,
          "symbol": "circle"
         },
         "mode": "markers",
         "name": "S228 intervention",
         "orientation": "v",
         "showlegend": true,
         "type": "scatter",
         "x": [
          0.0266
         ],
         "xaxis": "x",
         "y": [
          0.1079
         ],
         "yaxis": "y"
        },
        {
         "customdata": [
          [
           "S229 control",
           "OBE2"
          ]
         ],
         "hovertemplate": "Filename=%{customdata[0]}<br>Word Error Rate (WER)=%{x}<br>Diarization Error Rate (DER)=%{y}<br>Experiment=%{customdata[1]}<extra></extra>",
         "legendgroup": "S229 control",
         "marker": {
          "color": "#FF97FF",
          "size": 10,
          "symbol": "circle"
         },
         "mode": "markers",
         "name": "S229 control",
         "orientation": "v",
         "showlegend": true,
         "type": "scatter",
         "x": [
          0.4253
         ],
         "xaxis": "x",
         "y": [
          0.256
         ],
         "yaxis": "y"
        },
        {
         "customdata": [
          [
           "S229 intervention",
           "OBE2"
          ]
         ],
         "hovertemplate": "Filename=%{customdata[0]}<br>Word Error Rate (WER)=%{x}<br>Diarization Error Rate (DER)=%{y}<br>Experiment=%{customdata[1]}<extra></extra>",
         "legendgroup": "S229 intervention",
         "marker": {
          "color": "#FECB52",
          "size": 10,
          "symbol": "circle"
         },
         "mode": "markers",
         "name": "S229 intervention",
         "orientation": "v",
         "showlegend": true,
         "type": "scatter",
         "x": [
          0.3021
         ],
         "xaxis": "x",
         "y": [
          0.0901
         ],
         "yaxis": "y"
        },
        {
         "customdata": [
          [
           "S230 control",
           "OBE2"
          ]
         ],
         "hovertemplate": "Filename=%{customdata[0]}<br>Word Error Rate (WER)=%{x}<br>Diarization Error Rate (DER)=%{y}<br>Experiment=%{customdata[1]}<extra></extra>",
         "legendgroup": "S230 control",
         "marker": {
          "color": "#636efa",
          "size": 10,
          "symbol": "circle"
         },
         "mode": "markers",
         "name": "S230 control",
         "orientation": "v",
         "showlegend": true,
         "type": "scatter",
         "x": [
          0.1978
         ],
         "xaxis": "x",
         "y": [
          0.0983
         ],
         "yaxis": "y"
        },
        {
         "customdata": [
          [
           "S230 intervention",
           "OBE2"
          ]
         ],
         "hovertemplate": "Filename=%{customdata[0]}<br>Word Error Rate (WER)=%{x}<br>Diarization Error Rate (DER)=%{y}<br>Experiment=%{customdata[1]}<extra></extra>",
         "legendgroup": "S230 intervention",
         "marker": {
          "color": "#EF553B",
          "size": 10,
          "symbol": "circle"
         },
         "mode": "markers",
         "name": "S230 intervention",
         "orientation": "v",
         "showlegend": true,
         "type": "scatter",
         "x": [
          0.1543
         ],
         "xaxis": "x",
         "y": [
          0.0549
         ],
         "yaxis": "y"
        },
        {
         "customdata": [
          [
           "S301final",
           "Compassion"
          ]
         ],
         "hovertemplate": "Filename=%{customdata[0]}<br>Word Error Rate (WER)=%{x}<br>Diarization Error Rate (DER)=%{y}<br>Experiment=%{customdata[1]}<extra></extra>",
         "legendgroup": "S301final",
         "marker": {
          "color": "#00cc96",
          "size": 10,
          "symbol": "circle"
         },
         "mode": "markers",
         "name": "S301final",
         "orientation": "v",
         "showlegend": true,
         "type": "scatter",
         "x": [
          0.0293
         ],
         "xaxis": "x",
         "y": [
          0.0618
         ],
         "yaxis": "y"
        },
        {
         "customdata": [
          [
           "S302con",
           "Compassion"
          ]
         ],
         "hovertemplate": "Filename=%{customdata[0]}<br>Word Error Rate (WER)=%{x}<br>Diarization Error Rate (DER)=%{y}<br>Experiment=%{customdata[1]}<extra></extra>",
         "legendgroup": "S302con",
         "marker": {
          "color": "#ab63fa",
          "size": 10,
          "symbol": "circle"
         },
         "mode": "markers",
         "name": "S302con",
         "orientation": "v",
         "showlegend": true,
         "type": "scatter",
         "x": [
          0.2349
         ],
         "xaxis": "x",
         "y": [
          0.2563
         ],
         "yaxis": "y"
        },
        {
         "customdata": [
          [
           "S302man",
           "Compassion"
          ]
         ],
         "hovertemplate": "Filename=%{customdata[0]}<br>Word Error Rate (WER)=%{x}<br>Diarization Error Rate (DER)=%{y}<br>Experiment=%{customdata[1]}<extra></extra>",
         "legendgroup": "S302man",
         "marker": {
          "color": "#FFA15A",
          "size": 10,
          "symbol": "circle"
         },
         "mode": "markers",
         "name": "S302man",
         "orientation": "v",
         "showlegend": true,
         "type": "scatter",
         "x": [
          0.0734
         ],
         "xaxis": "x",
         "y": [
          0.0617
         ],
         "yaxis": "y"
        },
        {
         "customdata": [
          [
           "S303con",
           "Compassion"
          ]
         ],
         "hovertemplate": "Filename=%{customdata[0]}<br>Word Error Rate (WER)=%{x}<br>Diarization Error Rate (DER)=%{y}<br>Experiment=%{customdata[1]}<extra></extra>",
         "legendgroup": "S303con",
         "marker": {
          "color": "#19d3f3",
          "size": 10,
          "symbol": "circle"
         },
         "mode": "markers",
         "name": "S303con",
         "orientation": "v",
         "showlegend": true,
         "type": "scatter",
         "x": [
          0.0078
         ],
         "xaxis": "x",
         "y": [
          0.027
         ],
         "yaxis": "y"
        },
        {
         "customdata": [
          [
           "S303man",
           "Compassion"
          ]
         ],
         "hovertemplate": "Filename=%{customdata[0]}<br>Word Error Rate (WER)=%{x}<br>Diarization Error Rate (DER)=%{y}<br>Experiment=%{customdata[1]}<extra></extra>",
         "legendgroup": "S303man",
         "marker": {
          "color": "#FF6692",
          "size": 10,
          "symbol": "circle"
         },
         "mode": "markers",
         "name": "S303man",
         "orientation": "v",
         "showlegend": true,
         "type": "scatter",
         "x": [
          0.0088
         ],
         "xaxis": "x",
         "y": [
          0.1613
         ],
         "yaxis": "y"
        },
        {
         "customdata": [
          [
           "S304",
           "Compassion"
          ]
         ],
         "hovertemplate": "Filename=%{customdata[0]}<br>Word Error Rate (WER)=%{x}<br>Diarization Error Rate (DER)=%{y}<br>Experiment=%{customdata[1]}<extra></extra>",
         "legendgroup": "S304",
         "marker": {
          "color": "#B6E880",
          "size": 10,
          "symbol": "circle"
         },
         "mode": "markers",
         "name": "S304",
         "orientation": "v",
         "showlegend": true,
         "type": "scatter",
         "x": [
          0.0266
         ],
         "xaxis": "x",
         "y": [
          0.1214
         ],
         "yaxis": "y"
        },
        {
         "customdata": [
          [
           "S305con",
           "Compassion"
          ]
         ],
         "hovertemplate": "Filename=%{customdata[0]}<br>Word Error Rate (WER)=%{x}<br>Diarization Error Rate (DER)=%{y}<br>Experiment=%{customdata[1]}<extra></extra>",
         "legendgroup": "S305con",
         "marker": {
          "color": "#FF97FF",
          "size": 10,
          "symbol": "circle"
         },
         "mode": "markers",
         "name": "S305con",
         "orientation": "v",
         "showlegend": true,
         "type": "scatter",
         "x": [
          0.1518
         ],
         "xaxis": "x",
         "y": [
          0.0148
         ],
         "yaxis": "y"
        },
        {
         "customdata": [
          [
           "S306",
           "Compassion"
          ]
         ],
         "hovertemplate": "Filename=%{customdata[0]}<br>Word Error Rate (WER)=%{x}<br>Diarization Error Rate (DER)=%{y}<br>Experiment=%{customdata[1]}<extra></extra>",
         "legendgroup": "S306",
         "marker": {
          "color": "#FECB52",
          "size": 10,
          "symbol": "circle"
         },
         "mode": "markers",
         "name": "S306",
         "orientation": "v",
         "showlegend": true,
         "type": "scatter",
         "x": [
          0.0097
         ],
         "xaxis": "x",
         "y": [
          0.078
         ],
         "yaxis": "y"
        },
        {
         "customdata": [
          [
           "S307",
           "Compassion"
          ]
         ],
         "hovertemplate": "Filename=%{customdata[0]}<br>Word Error Rate (WER)=%{x}<br>Diarization Error Rate (DER)=%{y}<br>Experiment=%{customdata[1]}<extra></extra>",
         "legendgroup": "S307",
         "marker": {
          "color": "#636efa",
          "size": 10,
          "symbol": "circle"
         },
         "mode": "markers",
         "name": "S307",
         "orientation": "v",
         "showlegend": true,
         "type": "scatter",
         "x": [
          0.0272
         ],
         "xaxis": "x",
         "y": [
          0.1578
         ],
         "yaxis": "y"
        },
        {
         "customdata": [
          [
           "S313",
           "Compassion"
          ]
         ],
         "hovertemplate": "Filename=%{customdata[0]}<br>Word Error Rate (WER)=%{x}<br>Diarization Error Rate (DER)=%{y}<br>Experiment=%{customdata[1]}<extra></extra>",
         "legendgroup": "S313",
         "marker": {
          "color": "#EF553B",
          "size": 10,
          "symbol": "circle"
         },
         "mode": "markers",
         "name": "S313",
         "orientation": "v",
         "showlegend": true,
         "type": "scatter",
         "x": [
          0.0194
         ],
         "xaxis": "x",
         "y": [
          0.0359
         ],
         "yaxis": "y"
        }
       ],
       "layout": {
        "legend": {
         "title": {
          "text": "Filename"
         },
         "tracegroupgap": 0
        },
        "showlegend": false,
        "template": {
         "data": {
          "bar": [
           {
            "error_x": {
             "color": "#2a3f5f"
            },
            "error_y": {
             "color": "#2a3f5f"
            },
            "marker": {
             "line": {
              "color": "#E5ECF6",
              "width": 0.5
             },
             "pattern": {
              "fillmode": "overlay",
              "size": 10,
              "solidity": 0.2
             }
            },
            "type": "bar"
           }
          ],
          "barpolar": [
           {
            "marker": {
             "line": {
              "color": "#E5ECF6",
              "width": 0.5
             },
             "pattern": {
              "fillmode": "overlay",
              "size": 10,
              "solidity": 0.2
             }
            },
            "type": "barpolar"
           }
          ],
          "carpet": [
           {
            "aaxis": {
             "endlinecolor": "#2a3f5f",
             "gridcolor": "white",
             "linecolor": "white",
             "minorgridcolor": "white",
             "startlinecolor": "#2a3f5f"
            },
            "baxis": {
             "endlinecolor": "#2a3f5f",
             "gridcolor": "white",
             "linecolor": "white",
             "minorgridcolor": "white",
             "startlinecolor": "#2a3f5f"
            },
            "type": "carpet"
           }
          ],
          "choropleth": [
           {
            "colorbar": {
             "outlinewidth": 0,
             "ticks": ""
            },
            "type": "choropleth"
           }
          ],
          "contour": [
           {
            "colorbar": {
             "outlinewidth": 0,
             "ticks": ""
            },
            "colorscale": [
             [
              0,
              "#0d0887"
             ],
             [
              0.1111111111111111,
              "#46039f"
             ],
             [
              0.2222222222222222,
              "#7201a8"
             ],
             [
              0.3333333333333333,
              "#9c179e"
             ],
             [
              0.4444444444444444,
              "#bd3786"
             ],
             [
              0.5555555555555556,
              "#d8576b"
             ],
             [
              0.6666666666666666,
              "#ed7953"
             ],
             [
              0.7777777777777778,
              "#fb9f3a"
             ],
             [
              0.8888888888888888,
              "#fdca26"
             ],
             [
              1,
              "#f0f921"
             ]
            ],
            "type": "contour"
           }
          ],
          "contourcarpet": [
           {
            "colorbar": {
             "outlinewidth": 0,
             "ticks": ""
            },
            "type": "contourcarpet"
           }
          ],
          "heatmap": [
           {
            "colorbar": {
             "outlinewidth": 0,
             "ticks": ""
            },
            "colorscale": [
             [
              0,
              "#0d0887"
             ],
             [
              0.1111111111111111,
              "#46039f"
             ],
             [
              0.2222222222222222,
              "#7201a8"
             ],
             [
              0.3333333333333333,
              "#9c179e"
             ],
             [
              0.4444444444444444,
              "#bd3786"
             ],
             [
              0.5555555555555556,
              "#d8576b"
             ],
             [
              0.6666666666666666,
              "#ed7953"
             ],
             [
              0.7777777777777778,
              "#fb9f3a"
             ],
             [
              0.8888888888888888,
              "#fdca26"
             ],
             [
              1,
              "#f0f921"
             ]
            ],
            "type": "heatmap"
           }
          ],
          "heatmapgl": [
           {
            "colorbar": {
             "outlinewidth": 0,
             "ticks": ""
            },
            "colorscale": [
             [
              0,
              "#0d0887"
             ],
             [
              0.1111111111111111,
              "#46039f"
             ],
             [
              0.2222222222222222,
              "#7201a8"
             ],
             [
              0.3333333333333333,
              "#9c179e"
             ],
             [
              0.4444444444444444,
              "#bd3786"
             ],
             [
              0.5555555555555556,
              "#d8576b"
             ],
             [
              0.6666666666666666,
              "#ed7953"
             ],
             [
              0.7777777777777778,
              "#fb9f3a"
             ],
             [
              0.8888888888888888,
              "#fdca26"
             ],
             [
              1,
              "#f0f921"
             ]
            ],
            "type": "heatmapgl"
           }
          ],
          "histogram": [
           {
            "marker": {
             "pattern": {
              "fillmode": "overlay",
              "size": 10,
              "solidity": 0.2
             }
            },
            "type": "histogram"
           }
          ],
          "histogram2d": [
           {
            "colorbar": {
             "outlinewidth": 0,
             "ticks": ""
            },
            "colorscale": [
             [
              0,
              "#0d0887"
             ],
             [
              0.1111111111111111,
              "#46039f"
             ],
             [
              0.2222222222222222,
              "#7201a8"
             ],
             [
              0.3333333333333333,
              "#9c179e"
             ],
             [
              0.4444444444444444,
              "#bd3786"
             ],
             [
              0.5555555555555556,
              "#d8576b"
             ],
             [
              0.6666666666666666,
              "#ed7953"
             ],
             [
              0.7777777777777778,
              "#fb9f3a"
             ],
             [
              0.8888888888888888,
              "#fdca26"
             ],
             [
              1,
              "#f0f921"
             ]
            ],
            "type": "histogram2d"
           }
          ],
          "histogram2dcontour": [
           {
            "colorbar": {
             "outlinewidth": 0,
             "ticks": ""
            },
            "colorscale": [
             [
              0,
              "#0d0887"
             ],
             [
              0.1111111111111111,
              "#46039f"
             ],
             [
              0.2222222222222222,
              "#7201a8"
             ],
             [
              0.3333333333333333,
              "#9c179e"
             ],
             [
              0.4444444444444444,
              "#bd3786"
             ],
             [
              0.5555555555555556,
              "#d8576b"
             ],
             [
              0.6666666666666666,
              "#ed7953"
             ],
             [
              0.7777777777777778,
              "#fb9f3a"
             ],
             [
              0.8888888888888888,
              "#fdca26"
             ],
             [
              1,
              "#f0f921"
             ]
            ],
            "type": "histogram2dcontour"
           }
          ],
          "mesh3d": [
           {
            "colorbar": {
             "outlinewidth": 0,
             "ticks": ""
            },
            "type": "mesh3d"
           }
          ],
          "parcoords": [
           {
            "line": {
             "colorbar": {
              "outlinewidth": 0,
              "ticks": ""
             }
            },
            "type": "parcoords"
           }
          ],
          "pie": [
           {
            "automargin": true,
            "type": "pie"
           }
          ],
          "scatter": [
           {
            "fillpattern": {
             "fillmode": "overlay",
             "size": 10,
             "solidity": 0.2
            },
            "type": "scatter"
           }
          ],
          "scatter3d": [
           {
            "line": {
             "colorbar": {
              "outlinewidth": 0,
              "ticks": ""
             }
            },
            "marker": {
             "colorbar": {
              "outlinewidth": 0,
              "ticks": ""
             }
            },
            "type": "scatter3d"
           }
          ],
          "scattercarpet": [
           {
            "marker": {
             "colorbar": {
              "outlinewidth": 0,
              "ticks": ""
             }
            },
            "type": "scattercarpet"
           }
          ],
          "scattergeo": [
           {
            "marker": {
             "colorbar": {
              "outlinewidth": 0,
              "ticks": ""
             }
            },
            "type": "scattergeo"
           }
          ],
          "scattergl": [
           {
            "marker": {
             "colorbar": {
              "outlinewidth": 0,
              "ticks": ""
             }
            },
            "type": "scattergl"
           }
          ],
          "scattermapbox": [
           {
            "marker": {
             "colorbar": {
              "outlinewidth": 0,
              "ticks": ""
             }
            },
            "type": "scattermapbox"
           }
          ],
          "scatterpolar": [
           {
            "marker": {
             "colorbar": {
              "outlinewidth": 0,
              "ticks": ""
             }
            },
            "type": "scatterpolar"
           }
          ],
          "scatterpolargl": [
           {
            "marker": {
             "colorbar": {
              "outlinewidth": 0,
              "ticks": ""
             }
            },
            "type": "scatterpolargl"
           }
          ],
          "scatterternary": [
           {
            "marker": {
             "colorbar": {
              "outlinewidth": 0,
              "ticks": ""
             }
            },
            "type": "scatterternary"
           }
          ],
          "surface": [
           {
            "colorbar": {
             "outlinewidth": 0,
             "ticks": ""
            },
            "colorscale": [
             [
              0,
              "#0d0887"
             ],
             [
              0.1111111111111111,
              "#46039f"
             ],
             [
              0.2222222222222222,
              "#7201a8"
             ],
             [
              0.3333333333333333,
              "#9c179e"
             ],
             [
              0.4444444444444444,
              "#bd3786"
             ],
             [
              0.5555555555555556,
              "#d8576b"
             ],
             [
              0.6666666666666666,
              "#ed7953"
             ],
             [
              0.7777777777777778,
              "#fb9f3a"
             ],
             [
              0.8888888888888888,
              "#fdca26"
             ],
             [
              1,
              "#f0f921"
             ]
            ],
            "type": "surface"
           }
          ],
          "table": [
           {
            "cells": {
             "fill": {
              "color": "#EBF0F8"
             },
             "line": {
              "color": "white"
             }
            },
            "header": {
             "fill": {
              "color": "#C8D4E3"
             },
             "line": {
              "color": "white"
             }
            },
            "type": "table"
           }
          ]
         },
         "layout": {
          "annotationdefaults": {
           "arrowcolor": "#2a3f5f",
           "arrowhead": 0,
           "arrowwidth": 1
          },
          "autotypenumbers": "strict",
          "coloraxis": {
           "colorbar": {
            "outlinewidth": 0,
            "ticks": ""
           }
          },
          "colorscale": {
           "diverging": [
            [
             0,
             "#8e0152"
            ],
            [
             0.1,
             "#c51b7d"
            ],
            [
             0.2,
             "#de77ae"
            ],
            [
             0.3,
             "#f1b6da"
            ],
            [
             0.4,
             "#fde0ef"
            ],
            [
             0.5,
             "#f7f7f7"
            ],
            [
             0.6,
             "#e6f5d0"
            ],
            [
             0.7,
             "#b8e186"
            ],
            [
             0.8,
             "#7fbc41"
            ],
            [
             0.9,
             "#4d9221"
            ],
            [
             1,
             "#276419"
            ]
           ],
           "sequential": [
            [
             0,
             "#0d0887"
            ],
            [
             0.1111111111111111,
             "#46039f"
            ],
            [
             0.2222222222222222,
             "#7201a8"
            ],
            [
             0.3333333333333333,
             "#9c179e"
            ],
            [
             0.4444444444444444,
             "#bd3786"
            ],
            [
             0.5555555555555556,
             "#d8576b"
            ],
            [
             0.6666666666666666,
             "#ed7953"
            ],
            [
             0.7777777777777778,
             "#fb9f3a"
            ],
            [
             0.8888888888888888,
             "#fdca26"
            ],
            [
             1,
             "#f0f921"
            ]
           ],
           "sequentialminus": [
            [
             0,
             "#0d0887"
            ],
            [
             0.1111111111111111,
             "#46039f"
            ],
            [
             0.2222222222222222,
             "#7201a8"
            ],
            [
             0.3333333333333333,
             "#9c179e"
            ],
            [
             0.4444444444444444,
             "#bd3786"
            ],
            [
             0.5555555555555556,
             "#d8576b"
            ],
            [
             0.6666666666666666,
             "#ed7953"
            ],
            [
             0.7777777777777778,
             "#fb9f3a"
            ],
            [
             0.8888888888888888,
             "#fdca26"
            ],
            [
             1,
             "#f0f921"
            ]
           ]
          },
          "colorway": [
           "#636efa",
           "#EF553B",
           "#00cc96",
           "#ab63fa",
           "#FFA15A",
           "#19d3f3",
           "#FF6692",
           "#B6E880",
           "#FF97FF",
           "#FECB52"
          ],
          "font": {
           "color": "#2a3f5f"
          },
          "geo": {
           "bgcolor": "white",
           "lakecolor": "white",
           "landcolor": "#E5ECF6",
           "showlakes": true,
           "showland": true,
           "subunitcolor": "white"
          },
          "hoverlabel": {
           "align": "left"
          },
          "hovermode": "closest",
          "mapbox": {
           "style": "light"
          },
          "paper_bgcolor": "white",
          "plot_bgcolor": "#E5ECF6",
          "polar": {
           "angularaxis": {
            "gridcolor": "white",
            "linecolor": "white",
            "ticks": ""
           },
           "bgcolor": "#E5ECF6",
           "radialaxis": {
            "gridcolor": "white",
            "linecolor": "white",
            "ticks": ""
           }
          },
          "scene": {
           "xaxis": {
            "backgroundcolor": "#E5ECF6",
            "gridcolor": "white",
            "gridwidth": 2,
            "linecolor": "white",
            "showbackground": true,
            "ticks": "",
            "zerolinecolor": "white"
           },
           "yaxis": {
            "backgroundcolor": "#E5ECF6",
            "gridcolor": "white",
            "gridwidth": 2,
            "linecolor": "white",
            "showbackground": true,
            "ticks": "",
            "zerolinecolor": "white"
           },
           "zaxis": {
            "backgroundcolor": "#E5ECF6",
            "gridcolor": "white",
            "gridwidth": 2,
            "linecolor": "white",
            "showbackground": true,
            "ticks": "",
            "zerolinecolor": "white"
           }
          },
          "shapedefaults": {
           "line": {
            "color": "#2a3f5f"
           }
          },
          "ternary": {
           "aaxis": {
            "gridcolor": "white",
            "linecolor": "white",
            "ticks": ""
           },
           "baxis": {
            "gridcolor": "white",
            "linecolor": "white",
            "ticks": ""
           },
           "bgcolor": "#E5ECF6",
           "caxis": {
            "gridcolor": "white",
            "linecolor": "white",
            "ticks": ""
           }
          },
          "title": {
           "x": 0.05
          },
          "xaxis": {
           "automargin": true,
           "gridcolor": "white",
           "linecolor": "white",
           "ticks": "",
           "title": {
            "standoff": 15
           },
           "zerolinecolor": "white",
           "zerolinewidth": 2
          },
          "yaxis": {
           "automargin": true,
           "gridcolor": "white",
           "linecolor": "white",
           "ticks": "",
           "title": {
            "standoff": 15
           },
           "zerolinecolor": "white",
           "zerolinewidth": 2
          }
         }
        },
        "title": {
         "text": "Interactive Scatter Plot of WER vs. DER"
        },
        "xaxis": {
         "anchor": "y",
         "domain": [
          0,
          1
         ],
         "title": {
          "text": "Word Error Rate (WER)"
         }
        },
        "yaxis": {
         "anchor": "x",
         "domain": [
          0,
          1
         ],
         "title": {
          "text": "Diarization Error Rate (DER)"
         }
        }
       }
      }
     },
     "metadata": {},
     "output_type": "display_data"
    }
   ],
   "source": [
    "plot_boxplots(df)\n",
    "plot_histograms(df)\n",
    "plot_wer_vs_der_scatter(df)"
   ]
  },
  {
   "cell_type": "code",
   "execution_count": 17,
   "metadata": {},
   "outputs": [
    {
     "data": {
      "image/png": "[encoded data removed]",
      "text/plain": [
       "<Figure size 1000x600 with 1 Axes>"
      ]
     },
     "metadata": {},
     "output_type": "display_data"
    }
   ],
   "source": [
    "def plot_boxplot_experiment(df):\n",
    "    \"\"\"\n",
    "    Plots box plots for WER and DER, grouped by Experiment.\n",
    "    \n",
    "    Args:\n",
    "        df (pd.DataFrame): DataFrame containing the metrics and Experiment column.\n",
    "    \"\"\"\n",
    "    plt.figure(figsize=(10, 6))\n",
    "    \n",
    "    # Melt the DataFrame for easier plotting with Seaborn\n",
    "    melted_df = df.melt(id_vars=['Filename', 'Experiment'], \n",
    "                        value_vars=['WER', 'DER'], \n",
    "                        var_name='Metric', \n",
    "                        value_name='Value')\n",
    "    \n",
    "    # Create the boxplot with Experiment as hue\n",
    "    sns.boxplot(x='Metric', y='Value', hue='Experiment', data=melted_df, palette='pastel')\n",
    "    sns.stripplot(x='Metric', y='Value', hue='Experiment', data=melted_df, size=4, linewidth=1,dodge=True, jitter=True, legend=False, edgecolor=\"k\")\n",
    "    \n",
    "    plt.ylabel('Error Rate')\n",
    "    plt.xlabel('')\n",
    "    #plt.title('Boxplots of WER and DER by Experiment')\n",
    "    plt.legend(title='Experiment')\n",
    "    plt.tight_layout()\n",
    "    plt.show()\n",
    "\n",
    "plot_boxplot_experiment(df)"
   ]
  },
  {
   "cell_type": "markdown",
   "metadata": {},
   "source": [
    "## Grief Visualisation"
   ]
  },
  {
   "cell_type": "code",
   "execution_count": 18,
   "metadata": {},
   "outputs": [],
   "source": [
    "df = pd.read_csv('../evaluation/grief_metrics.csv')"
   ]
  },
  {
   "cell_type": "code",
   "execution_count": 19,
   "metadata": {},
   "outputs": [
    {
     "data": {
      "image/png": "[encoded data removed]",
      "text/plain": [
       "<Figure size 800x400 with 1 Axes>"
      ]
     },
     "metadata": {},
     "output_type": "display_data"
    }
   ],
   "source": [
    "plot_boxplots(df)"
   ]
  },
  {
   "cell_type": "markdown",
   "metadata": {},
   "source": [
    "# Estimation of time passed verify transcription"
   ]
  },
  {
   "cell_type": "code",
   "execution_count": 20,
   "metadata": {},
   "outputs": [],
   "source": [
    "df_time = pd.read_csv(\"outputs/time_data.csv\")\n",
    "\n",
    "# Function to convert HH:MM:SS to total seconds\n",
    "def time_to_seconds(time_str):\n",
    "    try:\n",
    "        h, m, s = map(int, time_str.split(':'))\n",
    "        return h * 3600 + m * 60 + s\n",
    "    except:\n",
    "        return np.nan  # Return NaN if time_str is not a valid format\n",
    "\n",
    "df_time['Verification_sec'] = df_time['Verification_time'].apply(time_to_seconds)\n",
    "\n",
    "# Drop rows where 'Verification_sec' is NaN\n",
    "df_time = df_time.dropna(subset=['Verification_sec'])\n",
    "\n",
    "df_time.loc[:, 'Ratio'] = df_time['Verification_sec'] / df_time['Duration_sec'] "
   ]
  },
  {
   "cell_type": "code",
   "execution_count": 21,
   "metadata": {},
   "outputs": [
    {
     "data": {
      "image/png": "[encoded data removed]",
      "text/plain": [
       "<Figure size 1200x600 with 1 Axes>"
      ]
     },
     "metadata": {},
     "output_type": "display_data"
    }
   ],
   "source": [
    "# Add a new row for the \"All\" category\n",
    "df_all = df_time.copy()\n",
    "df_all['Experiment'] = 'All'\n",
    "\n",
    "# Concatenate the original data with the \"All\" data\n",
    "df_combined = pd.concat([df_all, df_time])\n",
    "default_palette = sns.color_palette(\"deep\")  \n",
    "palette = {experiment: (default_palette[0] if experiment != 'All' else default_palette[3]) for experiment in df_combined['Experiment'].unique()}\n",
    "\n",
    "# Plot the box plot with \"All\" as an additional category\n",
    "plt.figure(figsize=(12, 6))\n",
    "sns.boxplot(data=df_combined, x='Experiment', y='Ratio', palette=palette, hue='Experiment')\n",
    "sns.stripplot(data=df_combined, x='Experiment', y='Ratio', size=4, linewidth=1, dodge=True, jitter=True, edgecolor='k', color='gray')\n",
    "plt.title('Ratio of Verification Time to Recording Duration')\n",
    "plt.xlabel('Experiment')\n",
    "plt.ylabel('Time Spent / Recording Duration')\n",
    "plt.show()"
   ]
  },
  {
   "cell_type": "code",
   "execution_count": 22,
   "metadata": {},
   "outputs": [
    {
     "data": {
      "image/png": "[encoded data removed]",
      "text/plain": [
       "<Figure size 1000x600 with 1 Axes>"
      ]
     },
     "metadata": {},
     "output_type": "display_data"
    }
   ],
   "source": [
    "plt.figure(figsize=(10, 6))\n",
    "sns.histplot(df_time['Ratio'].dropna(), kde=True, bins=20)\n",
    "plt.title('Distribution of Time Spent as ratio of Recording Duration')\n",
    "plt.xlabel('Time Spent Verifying / Recording Duration (Ratio)')\n",
    "plt.ylabel('Frequency')\n",
    "plt.show()"
   ]
  }
 ],
 "metadata": {
  "kernelspec": {
   "display_name": "basic",
   "language": "python",
   "name": "python3"
  },
  "language_info": {
   "codemirror_mode": {
    "name": "ipython",
    "version": 3
   },
   "file_extension": ".py",
   "mimetype": "text/x-python",
   "name": "python",
   "nbconvert_exporter": "python",
   "pygments_lexer": "ipython3",
   "version": "3.10.15"
  }
 },
 "nbformat": 4,
 "nbformat_minor": 2
}
