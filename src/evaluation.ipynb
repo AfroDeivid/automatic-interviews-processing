{
 "cells": [
  {
   "cell_type": "markdown",
   "metadata": {},
   "source": [
    "# Evaluation of the transcripts: Metrics & time passed to verify"
   ]
  },
  {
   "cell_type": "markdown",
   "metadata": {},
   "source": [
    "- The first part of this notebook is designed to assess the performance of predictions after manual verification. *(Also providing enhanced visual HTML files to help interpret metrics clearly.)*\n",
    "\n",
    "    - After manually verifying transcripts, you can use the verified transcripts as reference (ground truth) data to test the accuracy of various models.\n",
    "    \n",
    "    - **However**, it's essential to note that if the reference file (ground truth) was created by using a model’s predictions as a template the ground truth may carry a bias towards that initial model. *For instance, if a model omitted interruptions or adjusted sentence structure and the verifier found these changes accurate in context, these modifications might remain, unintentionally favoring that model.*\n",
    "\n",
    "- The second part of the notebook focuses on tracking the time spent verifying each transcript. This data allows you to quantify time savings, providing insights into the efficiency of each model based on verification time."
   ]
  },
  {
   "cell_type": "code",
   "execution_count": 1,
   "metadata": {},
   "outputs": [],
   "source": [
    "%load_ext autoreload\n",
    "%autoreload 2"
   ]
  },
  {
   "cell_type": "code",
   "execution_count": 2,
   "metadata": {},
   "outputs": [],
   "source": [
    "import pandas as pd\n",
    "import shutil\n",
    "import os\n",
    "\n",
    "import matplotlib.pyplot as plt\n",
    "import seaborn as sns\n",
    "sns.set()\n",
    "\n",
    "from utils.evaluation_helpers import process_folder_csv, load_data_time, compute_der, process_folder_text\n",
    "from utils.format_helpers import get_files"
   ]
  },
  {
   "cell_type": "markdown",
   "metadata": {},
   "source": [
    "# Predictions vs References: Performance evaluation (ASR & Diarization)"
   ]
  },
  {
   "cell_type": "markdown",
   "metadata": {},
   "source": [
    "## CSV Files\n",
    "\n",
    "When corrections are made directly in the CSV file and timestamps are adjusted, it ensures a more robust computation of the DER (Diarization Error Rate) metric. However, for simplicity and efficiency during the verification process, the **Text File** method described below is recommended."
   ]
  },
  {
   "cell_type": "markdown",
   "metadata": {},
   "source": [
    "### Preparing evaluation folder (Predictions vs References)\n",
    "\n",
    "Useful if want to test/compare differents models."
   ]
  },
  {
   "cell_type": "code",
   "execution_count": 3,
   "metadata": {},
   "outputs": [],
   "source": [
    "directories = ['../results/Compassion', '../results/OBE1', '../results/OBE2'] # The csv file that you want to compare\n",
    "pred_folder = '../evaluation/predictions' # Specify the name if trying to compare different ASR/Diarization models.\n",
    "\n",
    "def copy_csv_files(directories, pred_folder):\n",
    "    pred_files = []\n",
    "    for directory in directories:\n",
    "        pred_files.append(get_files(directory, 'csv'))\n",
    "    pred_files = [item for sublist in pred_files for item in sublist]\n",
    "\n",
    "    os.makedirs(pred_folder, exist_ok=True)\n",
    "    for file in pred_files:\n",
    "        shutil.copy(file, pred_folder)\n",
    "\n",
    "copy_csv_files(directories, pred_folder)"
   ]
  },
  {
   "cell_type": "markdown",
   "metadata": {},
   "source": [
    "### ASR and Diarization metrics + Visual Tool to easily understand missmatch"
   ]
  },
  {
   "cell_type": "code",
   "execution_count": 4,
   "metadata": {},
   "outputs": [
    {
     "name": "stdout",
     "output_type": "stream",
     "text": [
      "Processing file: ID 05.csv\n",
      "Combined HTML file saved as ../evaluation/predictions\\visual_comparison\\ID 05_Diarization.html\n",
      "Processed file: ID 05.csv\n",
      "Processing file: Id 08.csv\n",
      "Combined HTML file saved as ../evaluation/predictions\\visual_comparison\\Id 08_Diarization.html\n",
      "Processed file: Id 08.csv\n",
      "Processing file: Id 13.csv\n",
      "Combined HTML file saved as ../evaluation/predictions\\visual_comparison\\Id 13_Diarization.html\n",
      "Processed file: Id 13.csv\n",
      "Processing file: Id 13b.csv\n",
      "Combined HTML file saved as ../evaluation/predictions\\visual_comparison\\Id 13b_Diarization.html\n",
      "Processed file: Id 13b.csv\n",
      "Processing file: Id 14.csv\n",
      "Combined HTML file saved as ../evaluation/predictions\\visual_comparison\\Id 14_Diarization.html\n",
      "Processed file: Id 14.csv\n",
      "Processing file: Id 15.csv\n",
      "Combined HTML file saved as ../evaluation/predictions\\visual_comparison\\Id 15_Diarization.html\n",
      "Processed file: Id 15.csv\n",
      "Processing file: Id 16.csv\n",
      "Combined HTML file saved as ../evaluation/predictions\\visual_comparison\\Id 16_Diarization.html\n",
      "Processed file: Id 16.csv\n",
      "Processing file: Id 17.csv\n",
      "Combined HTML file saved as ../evaluation/predictions\\visual_comparison\\Id 17_Diarization.html\n",
      "Processed file: Id 17.csv\n",
      "Processing file: Id 18.csv\n",
      "Combined HTML file saved as ../evaluation/predictions\\visual_comparison\\Id 18_Diarization.html\n",
      "Processed file: Id 18.csv\n",
      "Processing file: Id 19.csv\n",
      "Combined HTML file saved as ../evaluation/predictions\\visual_comparison\\Id 19_Diarization.html\n",
      "Processed file: Id 19.csv\n",
      "Processing file: Id 19b.csv\n",
      "Combined HTML file saved as ../evaluation/predictions\\visual_comparison\\Id 19b_Diarization.html\n",
      "Processed file: Id 19b.csv\n",
      "Processing file: Id 22.csv\n",
      "Combined HTML file saved as ../evaluation/predictions\\visual_comparison\\Id 22_Diarization.html\n",
      "Processed file: Id 22.csv\n",
      "Processing file: Id 23.csv\n",
      "Combined HTML file saved as ../evaluation/predictions\\visual_comparison\\Id 23_Diarization.html\n",
      "Processed file: Id 23.csv\n",
      "Processing file: Id 24.csv\n",
      "Combined HTML file saved as ../evaluation/predictions\\visual_comparison\\Id 24_Diarization.html\n",
      "Processed file: Id 24.csv\n",
      "Processing file: Id 24b.csv\n",
      "Combined HTML file saved as ../evaluation/predictions\\visual_comparison\\Id 24b_Diarization.html\n",
      "Processed file: Id 24b.csv\n",
      "Processing file: Id 7a.csv\n",
      "Combined HTML file saved as ../evaluation/predictions\\visual_comparison\\Id 7a_Diarization.html\n",
      "Processed file: Id 7a.csv\n",
      "Processing file: Id 7b.csv\n",
      "Combined HTML file saved as ../evaluation/predictions\\visual_comparison\\Id 7b_Diarization.html\n",
      "Processed file: Id 7b.csv\n",
      "Processing file: Participant 20 interview.csv\n",
      "Combined HTML file saved as ../evaluation/predictions\\visual_comparison\\Participant 20 interview_Diarization.html\n",
      "Processed file: Participant 20 interview.csv\n",
      "Processing file: S201-1.csv\n",
      "Combined HTML file saved as ../evaluation/predictions\\visual_comparison\\S201-1_Diarization.html\n",
      "Processed file: S201-1.csv\n",
      "Processing file: S201-2.csv\n",
      "Combined HTML file saved as ../evaluation/predictions\\visual_comparison\\S201-2_Diarization.html\n",
      "Processed file: S201-2.csv\n",
      "Processing file: S201-3.csv\n",
      "Combined HTML file saved as ../evaluation/predictions\\visual_comparison\\S201-3_Diarization.html\n",
      "Processed file: S201-3.csv\n",
      "Processing file: S202-1.csv\n",
      "Combined HTML file saved as ../evaluation/predictions\\visual_comparison\\S202-1_Diarization.html\n",
      "Processed file: S202-1.csv\n",
      "Processing file: S203-1.csv\n",
      "Combined HTML file saved as ../evaluation/predictions\\visual_comparison\\S203-1_Diarization.html\n",
      "Processed file: S203-1.csv\n",
      "Processing file: S204-1.csv\n",
      "Combined HTML file saved as ../evaluation/predictions\\visual_comparison\\S204-1_Diarization.html\n",
      "Processed file: S204-1.csv\n",
      "Processing file: S204-2.csv\n",
      "Combined HTML file saved as ../evaluation/predictions\\visual_comparison\\S204-2_Diarization.html\n",
      "Processed file: S204-2.csv\n",
      "Processing file: S205-1.csv\n",
      "Combined HTML file saved as ../evaluation/predictions\\visual_comparison\\S205-1_Diarization.html\n",
      "Processed file: S205-1.csv\n",
      "Processing file: S205-2.csv\n",
      "Combined HTML file saved as ../evaluation/predictions\\visual_comparison\\S205-2_Diarization.html\n",
      "Processed file: S205-2.csv\n",
      "Processing file: S206-1.csv\n",
      "Combined HTML file saved as ../evaluation/predictions\\visual_comparison\\S206-1_Diarization.html\n",
      "Processed file: S206-1.csv\n",
      "Processing file: S206-2.csv\n",
      "Combined HTML file saved as ../evaluation/predictions\\visual_comparison\\S206-2_Diarization.html\n",
      "Processed file: S206-2.csv\n",
      "Processing file: S207-1.csv\n",
      "Combined HTML file saved as ../evaluation/predictions\\visual_comparison\\S207-1_Diarization.html\n",
      "Processed file: S207-1.csv\n",
      "Processing file: S207-2.csv\n",
      "Combined HTML file saved as ../evaluation/predictions\\visual_comparison\\S207-2_Diarization.html\n",
      "Processed file: S207-2.csv\n",
      "Processing file: S208-1.csv\n",
      "Combined HTML file saved as ../evaluation/predictions\\visual_comparison\\S208-1_Diarization.html\n",
      "Processed file: S208-1.csv\n",
      "Processing file: S208-2.csv\n",
      "Combined HTML file saved as ../evaluation/predictions\\visual_comparison\\S208-2_Diarization.html\n",
      "Processed file: S208-2.csv\n",
      "Processing file: S209-1.csv\n",
      "Combined HTML file saved as ../evaluation/predictions\\visual_comparison\\S209-1_Diarization.html\n",
      "Processed file: S209-1.csv\n",
      "Processing file: S209-2.csv\n",
      "Combined HTML file saved as ../evaluation/predictions\\visual_comparison\\S209-2_Diarization.html\n",
      "Processed file: S209-2.csv\n",
      "Processing file: S209-3.csv\n",
      "Combined HTML file saved as ../evaluation/predictions\\visual_comparison\\S209-3_Diarization.html\n",
      "Processed file: S209-3.csv\n",
      "Processing file: S209-4.csv\n",
      "Combined HTML file saved as ../evaluation/predictions\\visual_comparison\\S209-4_Diarization.html\n",
      "Processed file: S209-4.csv\n",
      "Processing file: S210-1.csv\n",
      "Combined HTML file saved as ../evaluation/predictions\\visual_comparison\\S210-1_Diarization.html\n",
      "Processed file: S210-1.csv\n",
      "Processing file: S210-2.csv\n",
      "Combined HTML file saved as ../evaluation/predictions\\visual_comparison\\S210-2_Diarization.html\n",
      "Processed file: S210-2.csv\n",
      "Processing file: S210-3.csv\n",
      "Combined HTML file saved as ../evaluation/predictions\\visual_comparison\\S210-3_Diarization.html\n",
      "Processed file: S210-3.csv\n",
      "Processing file: S211_1.csv\n",
      "Combined HTML file saved as ../evaluation/predictions\\visual_comparison\\S211_1_Diarization.html\n",
      "Processed file: S211_1.csv\n",
      "Processing file: S211_2.csv\n",
      "Combined HTML file saved as ../evaluation/predictions\\visual_comparison\\S211_2_Diarization.html\n",
      "Processed file: S211_2.csv\n",
      "Processing file: S211_3 (partially in french).csv\n",
      "Combined HTML file saved as ../evaluation/predictions\\visual_comparison\\S211_3 (partially in french)_Diarization.html\n",
      "Processed file: S211_3 (partially in french).csv\n",
      "Processing file: S212_1.csv\n",
      "Combined HTML file saved as ../evaluation/predictions\\visual_comparison\\S212_1_Diarization.html\n",
      "Processed file: S212_1.csv\n",
      "Processing file: S212_2.csv\n",
      "Combined HTML file saved as ../evaluation/predictions\\visual_comparison\\S212_2_Diarization.html\n",
      "Processed file: S212_2.csv\n",
      "Processing file: S213_1.csv\n",
      "Combined HTML file saved as ../evaluation/predictions\\visual_comparison\\S213_1_Diarization.html\n",
      "Processed file: S213_1.csv\n",
      "Processing file: S213_2.csv\n",
      "Combined HTML file saved as ../evaluation/predictions\\visual_comparison\\S213_2_Diarization.html\n",
      "Processed file: S213_2.csv\n",
      "Processing file: S214_1.csv\n",
      "Combined HTML file saved as ../evaluation/predictions\\visual_comparison\\S214_1_Diarization.html\n",
      "Processed file: S214_1.csv\n",
      "Processing file: S214_2.csv\n",
      "Combined HTML file saved as ../evaluation/predictions\\visual_comparison\\S214_2_Diarization.html\n",
      "Processed file: S214_2.csv\n",
      "Processing file: S217.csv\n",
      "Combined HTML file saved as ../evaluation/predictions\\visual_comparison\\S217_Diarization.html\n",
      "Processed file: S217.csv\n",
      "Processing file: S218-1.csv\n",
      "Combined HTML file saved as ../evaluation/predictions\\visual_comparison\\S218-1_Diarization.html\n",
      "Processed file: S218-1.csv\n",
      "Processing file: S218-2.csv\n",
      "Combined HTML file saved as ../evaluation/predictions\\visual_comparison\\S218-2_Diarization.html\n",
      "Processed file: S218-2.csv\n",
      "Processing file: S219-1.csv\n",
      "Combined HTML file saved as ../evaluation/predictions\\visual_comparison\\S219-1_Diarization.html\n",
      "Processed file: S219-1.csv\n",
      "Processing file: S219-2.csv\n",
      "Combined HTML file saved as ../evaluation/predictions\\visual_comparison\\S219-2_Diarization.html\n",
      "Processed file: S219-2.csv\n",
      "Processing file: S220-1.csv\n",
      "Combined HTML file saved as ../evaluation/predictions\\visual_comparison\\S220-1_Diarization.html\n",
      "Processed file: S220-1.csv\n",
      "Processing file: S220-2.csv\n",
      "Combined HTML file saved as ../evaluation/predictions\\visual_comparison\\S220-2_Diarization.html\n",
      "Processed file: S220-2.csv\n",
      "Processing file: S222_c.csv\n",
      "Combined HTML file saved as ../evaluation/predictions\\visual_comparison\\S222_c_Diarization.html\n",
      "Processed file: S222_c.csv\n",
      "Processing file: S222_m.csv\n",
      "Combined HTML file saved as ../evaluation/predictions\\visual_comparison\\S222_m_Diarization.html\n",
      "Processed file: S222_m.csv\n",
      "Processing file: S223.csv\n",
      "Combined HTML file saved as ../evaluation/predictions\\visual_comparison\\S223_Diarization.html\n",
      "Processed file: S223.csv\n",
      "Processing file: S225.csv\n",
      "Combined HTML file saved as ../evaluation/predictions\\visual_comparison\\S225_Diarization.html\n",
      "Processed file: S225.csv\n",
      "Processing file: S225[1].csv\n",
      "Combined HTML file saved as ../evaluation/predictions\\visual_comparison\\S225[1]_Diarization.html\n",
      "Processed file: S225[1].csv\n",
      "Processing file: S226.csv\n",
      "Combined HTML file saved as ../evaluation/predictions\\visual_comparison\\S226_Diarization.html\n",
      "Processed file: S226.csv\n",
      "Processing file: S226[1].csv\n",
      "Combined HTML file saved as ../evaluation/predictions\\visual_comparison\\S226[1]_Diarization.html\n",
      "Processed file: S226[1].csv\n",
      "Processing file: S226[2].csv\n",
      "Combined HTML file saved as ../evaluation/predictions\\visual_comparison\\S226[2]_Diarization.html\n",
      "Processed file: S226[2].csv\n",
      "Processing file: S227 control interview.csv\n",
      "Combined HTML file saved as ../evaluation/predictions\\visual_comparison\\S227 control interview_Diarization.html\n",
      "Processed file: S227 control interview.csv\n",
      "Processing file: S227 intervention.csv\n",
      "Combined HTML file saved as ../evaluation/predictions\\visual_comparison\\S227 intervention_Diarization.html\n",
      "Processed file: S227 intervention.csv\n",
      "Processing file: S228 control.csv\n",
      "Combined HTML file saved as ../evaluation/predictions\\visual_comparison\\S228 control_Diarization.html\n",
      "Processed file: S228 control.csv\n",
      "Processing file: S228 intervention.csv\n",
      "Combined HTML file saved as ../evaluation/predictions\\visual_comparison\\S228 intervention_Diarization.html\n",
      "Processed file: S228 intervention.csv\n",
      "Processing file: S229 control.csv\n",
      "Combined HTML file saved as ../evaluation/predictions\\visual_comparison\\S229 control_Diarization.html\n",
      "Processed file: S229 control.csv\n",
      "Processing file: S229 intervention.csv\n",
      "Combined HTML file saved as ../evaluation/predictions\\visual_comparison\\S229 intervention_Diarization.html\n",
      "Processed file: S229 intervention.csv\n",
      "Processing file: S230 control.csv\n",
      "Combined HTML file saved as ../evaluation/predictions\\visual_comparison\\S230 control_Diarization.html\n",
      "Processed file: S230 control.csv\n",
      "Processing file: S230 intervention.csv\n",
      "Combined HTML file saved as ../evaluation/predictions\\visual_comparison\\S230 intervention_Diarization.html\n",
      "Processed file: S230 intervention.csv\n",
      "Processing file: S301final.csv\n",
      "Combined HTML file saved as ../evaluation/predictions\\visual_comparison\\S301final_Diarization.html\n",
      "Processed file: S301final.csv\n",
      "Processing file: S302con.csv\n",
      "Combined HTML file saved as ../evaluation/predictions\\visual_comparison\\S302con_Diarization.html\n",
      "Processed file: S302con.csv\n",
      "Processing file: S302man.csv\n",
      "Combined HTML file saved as ../evaluation/predictions\\visual_comparison\\S302man_Diarization.html\n",
      "Processed file: S302man.csv\n",
      "Processing file: S303con.csv\n",
      "Combined HTML file saved as ../evaluation/predictions\\visual_comparison\\S303con_Diarization.html\n",
      "Processed file: S303con.csv\n",
      "Processing file: S303man.csv\n",
      "Combined HTML file saved as ../evaluation/predictions\\visual_comparison\\S303man_Diarization.html\n",
      "Processed file: S303man.csv\n",
      "Processing file: S304.csv\n",
      "Combined HTML file saved as ../evaluation/predictions\\visual_comparison\\S304_Diarization.html\n",
      "Processed file: S304.csv\n",
      "Processing file: S305con.csv\n",
      "Combined HTML file saved as ../evaluation/predictions\\visual_comparison\\S305con_Diarization.html\n",
      "Processed file: S305con.csv\n",
      "Processing file: S306.csv\n",
      "Combined HTML file saved as ../evaluation/predictions\\visual_comparison\\S306_Diarization.html\n",
      "Processed file: S306.csv\n",
      "Processing file: S307.csv\n",
      "Combined HTML file saved as ../evaluation/predictions\\visual_comparison\\S307_Diarization.html\n",
      "Processed file: S307.csv\n",
      "Processing file: S313.csv\n",
      "Combined HTML file saved as ../evaluation/predictions\\visual_comparison\\S313_Diarization.html\n",
      "Processed file: S313.csv\n"
     ]
    }
   ],
   "source": [
    "prediction_folder = \"../evaluation/predictions\"\n",
    "reference_folder = \"../evaluation/references\"\n",
    "\n",
    "# Provide the original duration of the audio files.\n",
    "# This ensures the diarization error rate (DER) metric accounts for the total audio duration, not just the speech segments detected by the model.\n",
    "# If this information is missing, DER calculations may be inaccurate as they consider only the detected speech intervals, worsening the DER metric.\n",
    "orignal_info = pd.read_csv(\"./outputs/audio_data.csv\")\n",
    "\n",
    "metric = process_folder_csv(prediction_folder, reference_folder, info=orignal_info)\n",
    "metric.to_csv('../evaluation/metrics.csv', index=False)"
   ]
  },
  {
   "cell_type": "markdown",
   "metadata": {},
   "source": [
    "### (Optional) Dialogue DER Analysis in CSV instead than in HTML"
   ]
  },
  {
   "cell_type": "code",
   "execution_count": 5,
   "metadata": {},
   "outputs": [],
   "source": [
    "def dialogue_DER(reference_file, prediction_file, output_file=None):\n",
    "    df_ref, df_pred = load_data_time(reference_file, prediction_file)\n",
    "    dialogue_df, error_durations = compute_der(df_ref, df_pred)\n",
    "\n",
    "    # Display error durations and DER\n",
    "    print(\"\\nError Durations and DER:\")\n",
    "    for key, value in error_durations.items():\n",
    "        if key == 'DER':\n",
    "            print(f\"{key}: {value:.2%}\")\n",
    "        else:\n",
    "            print(f\"{key}: {value:.3f} seconds\")\n",
    "\n",
    "    if output_file:\n",
    "        dialogue_df.to_csv(output_file, index=False)"
   ]
  },
  {
   "cell_type": "code",
   "execution_count": 6,
   "metadata": {},
   "outputs": [
    {
     "name": "stdout",
     "output_type": "stream",
     "text": [
      "\n",
      "Error Durations and DER:\n",
      "DER: 6.79%\n",
      "Reference Speech Duration: 342.280 seconds\n",
      "Missed Duration: 0.000 seconds\n",
      "False Alarm Duration: 0.000 seconds\n",
      "Confusion Duration: 23.240 seconds\n"
     ]
    }
   ],
   "source": [
    "reference_file = \"../evaluation/references/S301final.csv\"\n",
    "prediction_file = \"../evaluation/predictions/S301final.csv\"\n",
    "output_file = '../outputs/dia_S301final.csv'\n",
    "\n",
    "dialogue_DER(reference_file, prediction_file)#, output_file)"
   ]
  },
  {
   "cell_type": "markdown",
   "metadata": {},
   "source": [
    "# Text Files \n",
    "When corrections are made directly in a text file rather than adjusting timestamps in a CSV (as was done for the Grief dataset interviews), a simplified approach to DER is required:\n",
    "\n",
    "Since time segments are not adjusted, we ignore missed speech and false alarm errors. Instead, we focus solely on confusion errors, defined as the number of words reassigned from one speaker to another. *This replaces the traditional time-based DER calculations with a straightforward, text-based method.*\n",
    "\n",
    "**Note:** This approach can be preferred as it accelerates the manual correction process by providing a better visual representation, with segments concatenated by turn in the text file and by neglecting the need to correct timestamps, it offers significant time savings without compromising the core analysis."
   ]
  },
  {
   "cell_type": "code",
   "execution_count": 8,
   "metadata": {},
   "outputs": [
    {
     "name": "stdout",
     "output_type": "stream",
     "text": [
      "Processing text file: ID 05.txt\n",
      "Misassigned words: 130\n",
      "Total words reference: 1106\n",
      "Processed file: ID 05.txt\n",
      "Processing text file: Id 08.txt\n",
      "Misassigned words: 87\n",
      "Total words reference: 698\n",
      "Processed file: Id 08.txt\n",
      "Processing text file: Id 13.txt\n",
      "Misassigned words: 121\n",
      "Total words reference: 1480\n",
      "Processed file: Id 13.txt\n",
      "Processing text file: Id 13b.txt\n",
      "Misassigned words: 11\n",
      "Total words reference: 576\n",
      "Processed file: Id 13b.txt\n",
      "Processing text file: Id 14.txt\n",
      "Misassigned words: 20\n",
      "Total words reference: 511\n",
      "Processed file: Id 14.txt\n",
      "Processing text file: Id 15.txt\n",
      "Misassigned words: 0\n",
      "Total words reference: 325\n",
      "Processed file: Id 15.txt\n",
      "Processing text file: Id 16.txt\n",
      "Misassigned words: 59\n",
      "Total words reference: 436\n",
      "Processed file: Id 16.txt\n",
      "Processing text file: Id 17.txt\n",
      "Misassigned words: 6\n",
      "Total words reference: 472\n",
      "Processed file: Id 17.txt\n",
      "Processing text file: Id 18.txt\n",
      "Misassigned words: 42\n",
      "Total words reference: 491\n",
      "Processed file: Id 18.txt\n",
      "Processing text file: Id 19.txt\n",
      "Misassigned words: 24\n",
      "Total words reference: 878\n",
      "Processed file: Id 19.txt\n",
      "Processing text file: Id 19b.txt\n",
      "Misassigned words: 201\n",
      "Total words reference: 732\n",
      "Processed file: Id 19b.txt\n",
      "Processing text file: Id 22.txt\n",
      "Misassigned words: 118\n",
      "Total words reference: 937\n",
      "Processed file: Id 22.txt\n",
      "Processing text file: Id 23.txt\n",
      "Misassigned words: 67\n",
      "Total words reference: 731\n",
      "Processed file: Id 23.txt\n",
      "Processing text file: Id 24.txt\n",
      "Misassigned words: 180\n",
      "Total words reference: 328\n",
      "Processed file: Id 24.txt\n",
      "Processing text file: Id 24b.txt\n",
      "Misassigned words: 13\n",
      "Total words reference: 765\n",
      "Processed file: Id 24b.txt\n",
      "Processing text file: Id 7a.txt\n",
      "Misassigned words: 94\n",
      "Total words reference: 866\n",
      "Processed file: Id 7a.txt\n",
      "Processing text file: Id 7b.txt\n",
      "Misassigned words: 108\n",
      "Total words reference: 595\n",
      "Processed file: Id 7b.txt\n",
      "Processing text file: Participant 20 interview.txt\n",
      "Misassigned words: 46\n",
      "Total words reference: 518\n",
      "Processed file: Participant 20 interview.txt\n",
      "Processing text file: S201-1.txt\n",
      "Misassigned words: 134\n",
      "Total words reference: 661\n",
      "Processed file: S201-1.txt\n",
      "Processing text file: S201-2.txt\n",
      "Misassigned words: 319\n",
      "Total words reference: 1848\n",
      "Processed file: S201-2.txt\n",
      "Processing text file: S201-3.txt\n",
      "Misassigned words: 4\n",
      "Total words reference: 278\n",
      "Processed file: S201-3.txt\n",
      "Processing text file: S202-1.txt\n",
      "Misassigned words: 353\n",
      "Total words reference: 1163\n",
      "Processed file: S202-1.txt\n",
      "Processing text file: S203-1.txt\n",
      "Misassigned words: 47\n",
      "Total words reference: 980\n",
      "Processed file: S203-1.txt\n",
      "Processing text file: S204-1.txt\n",
      "Misassigned words: 48\n",
      "Total words reference: 124\n",
      "Processed file: S204-1.txt\n",
      "Processing text file: S204-2.txt\n",
      "Misassigned words: 386\n",
      "Total words reference: 636\n",
      "Processed file: S204-2.txt\n",
      "Processing text file: S205-1.txt\n",
      "Misassigned words: 10\n",
      "Total words reference: 70\n",
      "Processed file: S205-1.txt\n",
      "Processing text file: S205-2.txt\n",
      "Misassigned words: 323\n",
      "Total words reference: 882\n",
      "Processed file: S205-2.txt\n",
      "Processing text file: S206-1.txt\n",
      "Misassigned words: 14\n",
      "Total words reference: 141\n",
      "Processed file: S206-1.txt\n",
      "Processing text file: S206-2.txt\n",
      "Misassigned words: 63\n",
      "Total words reference: 397\n",
      "Processed file: S206-2.txt\n",
      "Processing text file: S207-1.txt\n",
      "Misassigned words: 116\n",
      "Total words reference: 206\n",
      "Processed file: S207-1.txt\n",
      "Processing text file: S207-2.txt\n",
      "Misassigned words: 0\n",
      "Total words reference: 85\n",
      "Processed file: S207-2.txt\n",
      "Processing text file: S208-1.txt\n",
      "Misassigned words: 369\n",
      "Total words reference: 873\n",
      "Processed file: S208-1.txt\n",
      "Processing text file: S208-2.txt\n",
      "Misassigned words: 212\n",
      "Total words reference: 726\n",
      "Processed file: S208-2.txt\n",
      "Processing text file: S209-1.txt\n",
      "Misassigned words: 242\n",
      "Total words reference: 903\n",
      "Processed file: S209-1.txt\n",
      "Processing text file: S209-2.txt\n",
      "Misassigned words: 20\n",
      "Total words reference: 268\n",
      "Processed file: S209-2.txt\n",
      "Processing text file: S209-3.txt\n",
      "Misassigned words: 30\n",
      "Total words reference: 143\n",
      "Processed file: S209-3.txt\n",
      "Processing text file: S209-4.txt\n",
      "Misassigned words: 97\n",
      "Total words reference: 1541\n",
      "Processed file: S209-4.txt\n",
      "Processing text file: S210-1.txt\n",
      "Misassigned words: 123\n",
      "Total words reference: 380\n",
      "Processed file: S210-1.txt\n",
      "Processing text file: S210-2.txt\n",
      "Misassigned words: 6\n",
      "Total words reference: 54\n",
      "Processed file: S210-2.txt\n",
      "Processing text file: S210-3.txt\n",
      "Misassigned words: 549\n",
      "Total words reference: 1213\n",
      "Processed file: S210-3.txt\n",
      "Processing text file: S211_1.txt\n",
      "Misassigned words: 218\n",
      "Total words reference: 411\n",
      "Processed file: S211_1.txt\n",
      "Processing text file: S211_2.txt\n",
      "Misassigned words: 5\n",
      "Total words reference: 177\n",
      "Processed file: S211_2.txt\n",
      "Processing text file: S211_3 (partially in french).txt\n",
      "Misassigned words: 89\n",
      "Total words reference: 669\n",
      "Processed file: S211_3 (partially in french).txt\n",
      "Processing text file: S212_1.txt\n",
      "Misassigned words: 196\n",
      "Total words reference: 383\n",
      "Processed file: S212_1.txt\n",
      "Processing text file: S212_2.txt\n",
      "Misassigned words: 101\n",
      "Total words reference: 1050\n",
      "Processed file: S212_2.txt\n",
      "Processing text file: S213_1.txt\n",
      "Misassigned words: 10\n",
      "Total words reference: 158\n",
      "Processed file: S213_1.txt\n",
      "Processing text file: S213_2.txt\n",
      "Misassigned words: 116\n",
      "Total words reference: 585\n",
      "Processed file: S213_2.txt\n",
      "Processing text file: S214_1.txt\n",
      "Misassigned words: 54\n",
      "Total words reference: 198\n",
      "Processed file: S214_1.txt\n",
      "Processing text file: S214_2.txt\n",
      "Misassigned words: 59\n",
      "Total words reference: 102\n",
      "Processed file: S214_2.txt\n",
      "Processing text file: S217.txt\n",
      "Misassigned words: 14\n",
      "Total words reference: 761\n",
      "Processed file: S217.txt\n",
      "Processing text file: S218-1.txt\n",
      "Misassigned words: 181\n",
      "Total words reference: 368\n",
      "Processed file: S218-1.txt\n",
      "Processing text file: S218-2.txt\n",
      "Misassigned words: 17\n",
      "Total words reference: 621\n",
      "Processed file: S218-2.txt\n",
      "Processing text file: S219-1.txt\n",
      "Misassigned words: 61\n",
      "Total words reference: 106\n",
      "Processed file: S219-1.txt\n",
      "Processing text file: S219-2.txt\n",
      "Misassigned words: 27\n",
      "Total words reference: 477\n",
      "Processed file: S219-2.txt\n",
      "Processing text file: S220-1.txt\n",
      "Misassigned words: 66\n",
      "Total words reference: 423\n",
      "Processed file: S220-1.txt\n",
      "Processing text file: S220-2.txt\n",
      "Misassigned words: 107\n",
      "Total words reference: 440\n",
      "Processed file: S220-2.txt\n",
      "Processing text file: S222_c.txt\n",
      "Misassigned words: 62\n",
      "Total words reference: 939\n",
      "Processed file: S222_c.txt\n",
      "Processing text file: S222_m.txt\n",
      "Misassigned words: 461\n",
      "Total words reference: 1272\n",
      "Processed file: S222_m.txt\n",
      "Processing text file: S223.txt\n",
      "Misassigned words: 444\n",
      "Total words reference: 720\n",
      "Processed file: S223.txt\n",
      "Processing text file: S225.txt\n",
      "Misassigned words: 3\n",
      "Total words reference: 23\n",
      "Processed file: S225.txt\n",
      "Processing text file: S225[1].txt\n",
      "Misassigned words: 85\n",
      "Total words reference: 2197\n",
      "Processed file: S225[1].txt\n",
      "Processing text file: S226.txt\n",
      "Misassigned words: 16\n",
      "Total words reference: 101\n",
      "Processed file: S226.txt\n",
      "Processing text file: S226[1].txt\n",
      "Misassigned words: 17\n",
      "Total words reference: 39\n",
      "Processed file: S226[1].txt\n",
      "Processing text file: S226[2].txt\n",
      "Misassigned words: 110\n",
      "Total words reference: 556\n",
      "Processed file: S226[2].txt\n",
      "Processing text file: S227 control interview.txt\n",
      "Misassigned words: 70\n",
      "Total words reference: 187\n",
      "Processed file: S227 control interview.txt\n",
      "Processing text file: S227 intervention.txt\n",
      "Misassigned words: 194\n",
      "Total words reference: 655\n",
      "Processed file: S227 intervention.txt\n",
      "Processing text file: S228 control.txt\n",
      "Misassigned words: 120\n",
      "Total words reference: 629\n",
      "Processed file: S228 control.txt\n",
      "Processing text file: S228 intervention.txt\n",
      "Misassigned words: 132\n",
      "Total words reference: 1057\n",
      "Processed file: S228 intervention.txt\n",
      "Processing text file: S229 control.txt\n",
      "Misassigned words: 123\n",
      "Total words reference: 667\n",
      "Processed file: S229 control.txt\n",
      "Processing text file: S229 intervention.txt\n",
      "Misassigned words: 254\n",
      "Total words reference: 1507\n",
      "Processed file: S229 intervention.txt\n",
      "Processing text file: S230 control.txt\n",
      "Misassigned words: 93\n",
      "Total words reference: 453\n",
      "Processed file: S230 control.txt\n",
      "Processing text file: S230 intervention.txt\n",
      "Misassigned words: 25\n",
      "Total words reference: 1191\n",
      "Processed file: S230 intervention.txt\n",
      "Processing text file: S301final.txt\n",
      "Misassigned words: 438\n",
      "Total words reference: 924\n",
      "Processed file: S301final.txt\n",
      "Processing text file: S302con.txt\n",
      "Misassigned words: 100\n",
      "Total words reference: 583\n",
      "Processed file: S302con.txt\n",
      "Processing text file: S302man.txt\n",
      "Misassigned words: 93\n",
      "Total words reference: 575\n",
      "Processed file: S302man.txt\n",
      "Processing text file: S303con.txt\n",
      "Misassigned words: 57\n",
      "Total words reference: 1537\n",
      "Processed file: S303con.txt\n",
      "Processing text file: S303man.txt\n",
      "Misassigned words: 73\n",
      "Total words reference: 798\n",
      "Processed file: S303man.txt\n",
      "Processing text file: S304.txt\n",
      "Misassigned words: 140\n",
      "Total words reference: 1205\n",
      "Processed file: S304.txt\n",
      "Processing text file: S305con.txt\n",
      "Misassigned words: 21\n",
      "Total words reference: 191\n",
      "Processed file: S305con.txt\n",
      "Processing text file: S306.txt\n",
      "Misassigned words: 88\n",
      "Total words reference: 1450\n",
      "Processed file: S306.txt\n",
      "Processing text file: S307.txt\n",
      "Misassigned words: 98\n",
      "Total words reference: 734\n",
      "Processed file: S307.txt\n",
      "Processing text file: S313.txt\n",
      "Misassigned words: 100\n",
      "Total words reference: 1442\n",
      "Processed file: S313.txt\n"
     ]
    }
   ],
   "source": [
    "prediction_folder = \"../evaluation/predictions_text\"\n",
    "reference_folder = \"../evaluation/references_text\"\n",
    "\n",
    "metric = process_folder_text(prediction_folder, reference_folder,dir_visual=\"meditation_visual_text\")\n",
    "metric.to_csv('../evaluation/med_metrics_text.csv', index=False)"
   ]
  },
  {
   "cell_type": "markdown",
   "metadata": {},
   "source": [
    "# Visualize performance metrics"
   ]
  },
  {
   "cell_type": "markdown",
   "metadata": {},
   "source": [
    "## Meditations Visualisation"
   ]
  },
  {
   "cell_type": "code",
   "execution_count": 9,
   "metadata": {},
   "outputs": [
    {
     "data": {
      "text/html": [
       "<div>\n",
       "<style scoped>\n",
       "    .dataframe tbody tr th:only-of-type {\n",
       "        vertical-align: middle;\n",
       "    }\n",
       "\n",
       "    .dataframe tbody tr th {\n",
       "        vertical-align: top;\n",
       "    }\n",
       "\n",
       "    .dataframe thead th {\n",
       "        text-align: right;\n",
       "    }\n",
       "</style>\n",
       "<table border=\"1\" class=\"dataframe\">\n",
       "  <thead>\n",
       "    <tr style=\"text-align: right;\">\n",
       "      <th></th>\n",
       "      <th>Filename</th>\n",
       "      <th>WER</th>\n",
       "      <th>DER</th>\n",
       "      <th>Total Words</th>\n",
       "      <th>Deletions</th>\n",
       "      <th>Insertions</th>\n",
       "      <th>Substitutions</th>\n",
       "      <th>Reference Speech Duration</th>\n",
       "      <th>Missed Duration</th>\n",
       "      <th>False Alarm Duration</th>\n",
       "      <th>Confusion Duration</th>\n",
       "      <th>Experiment</th>\n",
       "    </tr>\n",
       "  </thead>\n",
       "  <tbody>\n",
       "    <tr>\n",
       "      <th>0</th>\n",
       "      <td>ID 05</td>\n",
       "      <td>0.0271</td>\n",
       "      <td>0.1156</td>\n",
       "      <td>1106</td>\n",
       "      <td>1</td>\n",
       "      <td>25</td>\n",
       "      <td>4</td>\n",
       "      <td>615.68</td>\n",
       "      <td>4.0</td>\n",
       "      <td>0.0</td>\n",
       "      <td>67.200</td>\n",
       "      <td>OBE1</td>\n",
       "    </tr>\n",
       "    <tr>\n",
       "      <th>1</th>\n",
       "      <td>Id 08</td>\n",
       "      <td>0.0187</td>\n",
       "      <td>0.0564</td>\n",
       "      <td>695</td>\n",
       "      <td>1</td>\n",
       "      <td>8</td>\n",
       "      <td>4</td>\n",
       "      <td>274.65</td>\n",
       "      <td>0.0</td>\n",
       "      <td>0.0</td>\n",
       "      <td>15.500</td>\n",
       "      <td>OBE1</td>\n",
       "    </tr>\n",
       "    <tr>\n",
       "      <th>2</th>\n",
       "      <td>Id 13</td>\n",
       "      <td>0.0230</td>\n",
       "      <td>0.0657</td>\n",
       "      <td>1479</td>\n",
       "      <td>6</td>\n",
       "      <td>27</td>\n",
       "      <td>1</td>\n",
       "      <td>439.70</td>\n",
       "      <td>0.0</td>\n",
       "      <td>0.0</td>\n",
       "      <td>28.880</td>\n",
       "      <td>OBE1</td>\n",
       "    </tr>\n",
       "    <tr>\n",
       "      <th>3</th>\n",
       "      <td>Id 13b</td>\n",
       "      <td>0.0017</td>\n",
       "      <td>0.0541</td>\n",
       "      <td>576</td>\n",
       "      <td>0</td>\n",
       "      <td>0</td>\n",
       "      <td>1</td>\n",
       "      <td>201.60</td>\n",
       "      <td>0.0</td>\n",
       "      <td>0.0</td>\n",
       "      <td>10.900</td>\n",
       "      <td>OBE1</td>\n",
       "    </tr>\n",
       "    <tr>\n",
       "      <th>4</th>\n",
       "      <td>Id 14</td>\n",
       "      <td>0.0317</td>\n",
       "      <td>0.0568</td>\n",
       "      <td>505</td>\n",
       "      <td>1</td>\n",
       "      <td>9</td>\n",
       "      <td>6</td>\n",
       "      <td>172.97</td>\n",
       "      <td>0.0</td>\n",
       "      <td>0.0</td>\n",
       "      <td>9.820</td>\n",
       "      <td>OBE1</td>\n",
       "    </tr>\n",
       "    <tr>\n",
       "      <th>...</th>\n",
       "      <td>...</td>\n",
       "      <td>...</td>\n",
       "      <td>...</td>\n",
       "      <td>...</td>\n",
       "      <td>...</td>\n",
       "      <td>...</td>\n",
       "      <td>...</td>\n",
       "      <td>...</td>\n",
       "      <td>...</td>\n",
       "      <td>...</td>\n",
       "      <td>...</td>\n",
       "      <td>...</td>\n",
       "    </tr>\n",
       "    <tr>\n",
       "      <th>77</th>\n",
       "      <td>S304</td>\n",
       "      <td>0.0266</td>\n",
       "      <td>0.1214</td>\n",
       "      <td>1203</td>\n",
       "      <td>5</td>\n",
       "      <td>21</td>\n",
       "      <td>6</td>\n",
       "      <td>425.92</td>\n",
       "      <td>0.0</td>\n",
       "      <td>0.0</td>\n",
       "      <td>51.699</td>\n",
       "      <td>Compassion</td>\n",
       "    </tr>\n",
       "    <tr>\n",
       "      <th>78</th>\n",
       "      <td>S305con</td>\n",
       "      <td>0.1518</td>\n",
       "      <td>0.0148</td>\n",
       "      <td>191</td>\n",
       "      <td>0</td>\n",
       "      <td>29</td>\n",
       "      <td>0</td>\n",
       "      <td>101.10</td>\n",
       "      <td>1.0</td>\n",
       "      <td>0.0</td>\n",
       "      <td>0.500</td>\n",
       "      <td>Compassion</td>\n",
       "    </tr>\n",
       "    <tr>\n",
       "      <th>79</th>\n",
       "      <td>S306</td>\n",
       "      <td>0.0097</td>\n",
       "      <td>0.0780</td>\n",
       "      <td>1450</td>\n",
       "      <td>1</td>\n",
       "      <td>3</td>\n",
       "      <td>10</td>\n",
       "      <td>530.71</td>\n",
       "      <td>0.0</td>\n",
       "      <td>0.0</td>\n",
       "      <td>41.400</td>\n",
       "      <td>Compassion</td>\n",
       "    </tr>\n",
       "    <tr>\n",
       "      <th>80</th>\n",
       "      <td>S307</td>\n",
       "      <td>0.0272</td>\n",
       "      <td>0.1578</td>\n",
       "      <td>734</td>\n",
       "      <td>3</td>\n",
       "      <td>4</td>\n",
       "      <td>13</td>\n",
       "      <td>375.70</td>\n",
       "      <td>0.0</td>\n",
       "      <td>0.0</td>\n",
       "      <td>59.300</td>\n",
       "      <td>Compassion</td>\n",
       "    </tr>\n",
       "    <tr>\n",
       "      <th>81</th>\n",
       "      <td>S313</td>\n",
       "      <td>0.0194</td>\n",
       "      <td>0.0359</td>\n",
       "      <td>1441</td>\n",
       "      <td>3</td>\n",
       "      <td>3</td>\n",
       "      <td>22</td>\n",
       "      <td>576.62</td>\n",
       "      <td>0.0</td>\n",
       "      <td>0.0</td>\n",
       "      <td>20.680</td>\n",
       "      <td>Compassion</td>\n",
       "    </tr>\n",
       "  </tbody>\n",
       "</table>\n",
       "<p>82 rows × 12 columns</p>\n",
       "</div>"
      ],
      "text/plain": [
       "   Filename     WER     DER  Total Words  Deletions  Insertions  \\\n",
       "0     ID 05  0.0271  0.1156         1106          1          25   \n",
       "1     Id 08  0.0187  0.0564          695          1           8   \n",
       "2     Id 13  0.0230  0.0657         1479          6          27   \n",
       "3    Id 13b  0.0017  0.0541          576          0           0   \n",
       "4     Id 14  0.0317  0.0568          505          1           9   \n",
       "..      ...     ...     ...          ...        ...         ...   \n",
       "77     S304  0.0266  0.1214         1203          5          21   \n",
       "78  S305con  0.1518  0.0148          191          0          29   \n",
       "79     S306  0.0097  0.0780         1450          1           3   \n",
       "80     S307  0.0272  0.1578          734          3           4   \n",
       "81     S313  0.0194  0.0359         1441          3           3   \n",
       "\n",
       "    Substitutions  Reference Speech Duration  Missed Duration  \\\n",
       "0               4                     615.68              4.0   \n",
       "1               4                     274.65              0.0   \n",
       "2               1                     439.70              0.0   \n",
       "3               1                     201.60              0.0   \n",
       "4               6                     172.97              0.0   \n",
       "..            ...                        ...              ...   \n",
       "77              6                     425.92              0.0   \n",
       "78              0                     101.10              1.0   \n",
       "79             10                     530.71              0.0   \n",
       "80             13                     375.70              0.0   \n",
       "81             22                     576.62              0.0   \n",
       "\n",
       "    False Alarm Duration  Confusion Duration  Experiment  \n",
       "0                    0.0              67.200        OBE1  \n",
       "1                    0.0              15.500        OBE1  \n",
       "2                    0.0              28.880        OBE1  \n",
       "3                    0.0              10.900        OBE1  \n",
       "4                    0.0               9.820        OBE1  \n",
       "..                   ...                 ...         ...  \n",
       "77                   0.0              51.699  Compassion  \n",
       "78                   0.0               0.500  Compassion  \n",
       "79                   0.0              41.400  Compassion  \n",
       "80                   0.0              59.300  Compassion  \n",
       "81                   0.0              20.680  Compassion  \n",
       "\n",
       "[82 rows x 12 columns]"
      ]
     },
     "execution_count": 9,
     "metadata": {},
     "output_type": "execute_result"
    }
   ],
   "source": [
    "# Create a mapping of Filename to Experiment\n",
    "df_audio = pd.read_csv('./outputs/audio_data.csv')\n",
    "filename_to_experiment = dict(zip(df_audio['File Name'],df_audio['Experiment']))\n",
    "\n",
    "df = pd.read_csv('../evaluation/metrics.csv')\n",
    "df['Experiment'] = df['Filename'].map(filename_to_experiment)\n",
    "df"
   ]
  },
  {
   "cell_type": "code",
   "execution_count": 10,
   "metadata": {},
   "outputs": [],
   "source": [
    "def plot_boxplots(df, title=None, file_name=None):\n",
    "    \"\"\"\n",
    "    Plots box plots for WER and DER.\n",
    "    \n",
    "    Args:\n",
    "        df (pd.DataFrame): DataFrame containing the metrics.\n",
    "    \"\"\"\n",
    "    plt.figure(figsize=(8, 4))\n",
    "    \n",
    "    # Melt the DataFrame for easier plotting with Seaborn\n",
    "    melted_df = df.melt(id_vars='Filename', value_vars=['WER', 'DER'], var_name='Metric', value_name='Value')\n",
    "    ax = sns.boxplot(x='Metric', y='Value',hue=\"Metric\" ,data=melted_df,)# palette=['skyblue', 'salmon'])\n",
    "    plt.ylabel('Error Rate')\n",
    "    plt.xlabel('')\n",
    "    if title:\n",
    "        plt.title(title)\n",
    "    \n",
    "    # Calculate and print medians\n",
    "    medians = melted_df.groupby('Metric')['Value'].median()\n",
    "    print(\"Median Values:\")\n",
    "    for metric, median_value in medians.items():\n",
    "        print(f\"  {metric}: {median_value:.3f}\")\n",
    "    \n",
    "    plt.tight_layout()\n",
    "    if file_name:\n",
    "        plt.savefig(file_name, dpi=600)\n",
    "    plt.show()"
   ]
  },
  {
   "cell_type": "code",
   "execution_count": null,
   "metadata": {},
   "outputs": [
    {
     "name": "stdout",
     "output_type": "stream",
     "text": [
      "Median Values:\n",
      "  DER: 0.106\n",
      "  WER: 0.024\n"
     ]
    },
    {
     "data": {
      "image/png": "[encoded data removed]",
      "text/plain": [
       "<Figure size 800x400 with 1 Axes>"
      ]
     },
     "metadata": {},
     "output_type": "display_data"
    },
    {
     "data": {
      "image/png": "[encoded data removed]",
      "text/plain": [
       "<Figure size 1200x600 with 2 Axes>"
      ]
     },
     "metadata": {},
     "output_type": "display_data"
    },
    {
     "data": {
      "application/vnd.plotly.v1+json": {
       "config": {
        "plotlyServerURL": "https://plot.ly"
       },
       "data": [
        {
         "customdata": [
          [
           "ID 05",
           "OBE1"
          ]
         ],
         "hovertemplate": "Filename=%{customdata[0]}<br>Word Error Rate (WER)=%{x}<br>Diarization Error Rate (DER)=%{y}<br>Experiment=%{customdata[1]}<extra></extra>",
         "legendgroup": "ID 05",
         "marker": {
          "color": "#636efa",
          "size": 10,
          "symbol": "circle"
         },
         "mode": "markers",
         "name": "ID 05",
         "orientation": "v",
         "showlegend": true,
         "type": "scatter",
         "x": [
          0.0271
         ],
         "xaxis": "x",
         "y": [
          0.1156
         ],
         "yaxis": "y"
        },
        {
         "customdata": [
          [
           "Id 08",
           "OBE1"
          ]
         ],
         "hovertemplate": "Filename=%{customdata[0]}<br>Word Error Rate (WER)=%{x}<br>Diarization Error Rate (DER)=%{y}<br>Experiment=%{customdata[1]}<extra></extra>",
         "legendgroup": "Id 08",
         "marker": {
          "color": "#EF553B",
          "size": 10,
          "symbol": "circle"
         },
         "mode": "markers",
         "name": "Id 08",
         "orientation": "v",
         "showlegend": true,
         "type": "scatter",
         "x": [
          0.0187
         ],
         "xaxis": "x",
         "y": [
          0.0564
         ],
         "yaxis": "y"
        },
        {
         "customdata": [
          [
           "Id 13",
           "OBE1"
          ]
         ],
         "hovertemplate": "Filename=%{customdata[0]}<br>Word Error Rate (WER)=%{x}<br>Diarization Error Rate (DER)=%{y}<br>Experiment=%{customdata[1]}<extra></extra>",
         "legendgroup": "Id 13",
         "marker": {
          "color": "#00cc96",
          "size": 10,
          "symbol": "circle"
         },
         "mode": "markers",
         "name": "Id 13",
         "orientation": "v",
         "showlegend": true,
         "type": "scatter",
         "x": [
          0.023
         ],
         "xaxis": "x",
         "y": [
          0.0657
         ],
         "yaxis": "y"
        },
        {
         "customdata": [
          [
           "Id 13b",
           "OBE1"
          ]
         ],
         "hovertemplate": "Filename=%{customdata[0]}<br>Word Error Rate (WER)=%{x}<br>Diarization Error Rate (DER)=%{y}<br>Experiment=%{customdata[1]}<extra></extra>",
         "legendgroup": "Id 13b",
         "marker": {
          "color": "#ab63fa",
          "size": 10,
          "symbol": "circle"
         },
         "mode": "markers",
         "name": "Id 13b",
         "orientation": "v",
         "showlegend": true,
         "type": "scatter",
         "x": [
          0.0017
         ],
         "xaxis": "x",
         "y": [
          0.0541
         ],
         "yaxis": "y"
        },
        {
         "customdata": [
          [
           "Id 14",
           "OBE1"
          ]
         ],
         "hovertemplate": "Filename=%{customdata[0]}<br>Word Error Rate (WER)=%{x}<br>Diarization Error Rate (DER)=%{y}<br>Experiment=%{customdata[1]}<extra></extra>",
         "legendgroup": "Id 14",
         "marker": {
          "color": "#FFA15A",
          "size": 10,
          "symbol": "circle"
         },
         "mode": "markers",
         "name": "Id 14",
         "orientation": "v",
         "showlegend": true,
         "type": "scatter",
         "x": [
          0.0317
         ],
         "xaxis": "x",
         "y": [
          0.0568
         ],
         "yaxis": "y"
        },
        {
         "customdata": [
          [
           "Id 15",
           "OBE1"
          ]
         ],
         "hovertemplate": "Filename=%{customdata[0]}<br>Word Error Rate (WER)=%{x}<br>Diarization Error Rate (DER)=%{y}<br>Experiment=%{customdata[1]}<extra></extra>",
         "legendgroup": "Id 15",
         "marker": {
          "color": "#19d3f3",
          "size": 10,
          "symbol": "circle"
         },
         "mode": "markers",
         "name": "Id 15",
         "orientation": "v",
         "showlegend": true,
         "type": "scatter",
         "x": [
          0
         ],
         "xaxis": "x",
         "y": [
          0
         ],
         "yaxis": "y"
        },
        {
         "customdata": [
          [
           "Id 16",
           "OBE1"
          ]
         ],
         "hovertemplate": "Filename=%{customdata[0]}<br>Word Error Rate (WER)=%{x}<br>Diarization Error Rate (DER)=%{y}<br>Experiment=%{customdata[1]}<extra></extra>",
         "legendgroup": "Id 16",
         "marker": {
          "color": "#FF6692",
          "size": 10,
          "symbol": "circle"
         },
         "mode": "markers",
         "name": "Id 16",
         "orientation": "v",
         "showlegend": true,
         "type": "scatter",
         "x": [
          0.0231
         ],
         "xaxis": "x",
         "y": [
          0.0838
         ],
         "yaxis": "y"
        },
        {
         "customdata": [
          [
           "Id 17",
           "OBE1"
          ]
         ],
         "hovertemplate": "Filename=%{customdata[0]}<br>Word Error Rate (WER)=%{x}<br>Diarization Error Rate (DER)=%{y}<br>Experiment=%{customdata[1]}<extra></extra>",
         "legendgroup": "Id 17",
         "marker": {
          "color": "#B6E880",
          "size": 10,
          "symbol": "circle"
         },
         "mode": "markers",
         "name": "Id 17",
         "orientation": "v",
         "showlegend": true,
         "type": "scatter",
         "x": [
          0.0042
         ],
         "xaxis": "x",
         "y": [
          0.0209
         ],
         "yaxis": "y"
        },
        {
         "customdata": [
          [
           "Id 18",
           "OBE1"
          ]
         ],
         "hovertemplate": "Filename=%{customdata[0]}<br>Word Error Rate (WER)=%{x}<br>Diarization Error Rate (DER)=%{y}<br>Experiment=%{customdata[1]}<extra></extra>",
         "legendgroup": "Id 18",
         "marker": {
          "color": "#FF97FF",
          "size": 10,
          "symbol": "circle"
         },
         "mode": "markers",
         "name": "Id 18",
         "orientation": "v",
         "showlegend": true,
         "type": "scatter",
         "x": [
          0.0163
         ],
         "xaxis": "x",
         "y": [
          0.0926
         ],
         "yaxis": "y"
        },
        {
         "customdata": [
          [
           "Id 19",
           "OBE1"
          ]
         ],
         "hovertemplate": "Filename=%{customdata[0]}<br>Word Error Rate (WER)=%{x}<br>Diarization Error Rate (DER)=%{y}<br>Experiment=%{customdata[1]}<extra></extra>",
         "legendgroup": "Id 19",
         "marker": {
          "color": "#FECB52",
          "size": 10,
          "symbol": "circle"
         },
         "mode": "markers",
         "name": "Id 19",
         "orientation": "v",
         "showlegend": true,
         "type": "scatter",
         "x": [
          0.0023
         ],
         "xaxis": "x",
         "y": [
          0.0402
         ],
         "yaxis": "y"
        },
        {
         "customdata": [
          [
           "Id 19b",
           "OBE1"
          ]
         ],
         "hovertemplate": "Filename=%{customdata[0]}<br>Word Error Rate (WER)=%{x}<br>Diarization Error Rate (DER)=%{y}<br>Experiment=%{customdata[1]}<extra></extra>",
         "legendgroup": "Id 19b",
         "marker": {
          "color": "#636efa",
          "size": 10,
          "symbol": "circle"
         },
         "mode": "markers",
         "name": "Id 19b",
         "orientation": "v",
         "showlegend": true,
         "type": "scatter",
         "x": [
          0.011
         ],
         "xaxis": "x",
         "y": [
          0.1006
         ],
         "yaxis": "y"
        },
        {
         "customdata": [
          [
           "Id 22",
           "OBE1"
          ]
         ],
         "hovertemplate": "Filename=%{customdata[0]}<br>Word Error Rate (WER)=%{x}<br>Diarization Error Rate (DER)=%{y}<br>Experiment=%{customdata[1]}<extra></extra>",
         "legendgroup": "Id 22",
         "marker": {
          "color": "#EF553B",
          "size": 10,
          "symbol": "circle"
         },
         "mode": "markers",
         "name": "Id 22",
         "orientation": "v",
         "showlegend": true,
         "type": "scatter",
         "x": [
          0.0161
         ],
         "xaxis": "x",
         "y": [
          0.1051
         ],
         "yaxis": "y"
        },
        {
         "customdata": [
          [
           "Id 23",
           "OBE1"
          ]
         ],
         "hovertemplate": "Filename=%{customdata[0]}<br>Word Error Rate (WER)=%{x}<br>Diarization Error Rate (DER)=%{y}<br>Experiment=%{customdata[1]}<extra></extra>",
         "legendgroup": "Id 23",
         "marker": {
          "color": "#00cc96",
          "size": 10,
          "symbol": "circle"
         },
         "mode": "markers",
         "name": "Id 23",
         "orientation": "v",
         "showlegend": true,
         "type": "scatter",
         "x": [
          0.0247
         ],
         "xaxis": "x",
         "y": [
          0.0505
         ],
         "yaxis": "y"
        },
        {
         "customdata": [
          [
           "Id 24",
           "OBE1"
          ]
         ],
         "hovertemplate": "Filename=%{customdata[0]}<br>Word Error Rate (WER)=%{x}<br>Diarization Error Rate (DER)=%{y}<br>Experiment=%{customdata[1]}<extra></extra>",
         "legendgroup": "Id 24",
         "marker": {
          "color": "#ab63fa",
          "size": 10,
          "symbol": "circle"
         },
         "mode": "markers",
         "name": "Id 24",
         "orientation": "v",
         "showlegend": true,
         "type": "scatter",
         "x": [
          0.0184
         ],
         "xaxis": "x",
         "y": [
          0.4916
         ],
         "yaxis": "y"
        },
        {
         "customdata": [
          [
           "Id 24b",
           "OBE1"
          ]
         ],
         "hovertemplate": "Filename=%{customdata[0]}<br>Word Error Rate (WER)=%{x}<br>Diarization Error Rate (DER)=%{y}<br>Experiment=%{customdata[1]}<extra></extra>",
         "legendgroup": "Id 24b",
         "marker": {
          "color": "#FFA15A",
          "size": 10,
          "symbol": "circle"
         },
         "mode": "markers",
         "name": "Id 24b",
         "orientation": "v",
         "showlegend": true,
         "type": "scatter",
         "x": [
          0.0079
         ],
         "xaxis": "x",
         "y": [
          0.0201
         ],
         "yaxis": "y"
        },
        {
         "customdata": [
          [
           "Id 7a",
           "OBE1"
          ]
         ],
         "hovertemplate": "Filename=%{customdata[0]}<br>Word Error Rate (WER)=%{x}<br>Diarization Error Rate (DER)=%{y}<br>Experiment=%{customdata[1]}<extra></extra>",
         "legendgroup": "Id 7a",
         "marker": {
          "color": "#19d3f3",
          "size": 10,
          "symbol": "circle"
         },
         "mode": "markers",
         "name": "Id 7a",
         "orientation": "v",
         "showlegend": true,
         "type": "scatter",
         "x": [
          0.2945
         ],
         "xaxis": "x",
         "y": [
          0.2549
         ],
         "yaxis": "y"
        },
        {
         "customdata": [
          [
           "Id 7b",
           "OBE1"
          ]
         ],
         "hovertemplate": "Filename=%{customdata[0]}<br>Word Error Rate (WER)=%{x}<br>Diarization Error Rate (DER)=%{y}<br>Experiment=%{customdata[1]}<extra></extra>",
         "legendgroup": "Id 7b",
         "marker": {
          "color": "#FF6692",
          "size": 10,
          "symbol": "circle"
         },
         "mode": "markers",
         "name": "Id 7b",
         "orientation": "v",
         "showlegend": true,
         "type": "scatter",
         "x": [
          0.0034
         ],
         "xaxis": "x",
         "y": [
          0.2113
         ],
         "yaxis": "y"
        },
        {
         "customdata": [
          [
           "Participant 20 interview",
           "OBE1"
          ]
         ],
         "hovertemplate": "Filename=%{customdata[0]}<br>Word Error Rate (WER)=%{x}<br>Diarization Error Rate (DER)=%{y}<br>Experiment=%{customdata[1]}<extra></extra>",
         "legendgroup": "Participant 20 interview",
         "marker": {
          "color": "#B6E880",
          "size": 10,
          "symbol": "circle"
         },
         "mode": "markers",
         "name": "Participant 20 interview",
         "orientation": "v",
         "showlegend": true,
         "type": "scatter",
         "x": [
          0.0097
         ],
         "xaxis": "x",
         "y": [
          0.0849
         ],
         "yaxis": "y"
        },
        {
         "customdata": [
          [
           "S201-1",
           "OBE2"
          ]
         ],
         "hovertemplate": "Filename=%{customdata[0]}<br>Word Error Rate (WER)=%{x}<br>Diarization Error Rate (DER)=%{y}<br>Experiment=%{customdata[1]}<extra></extra>",
         "legendgroup": "S201-1",
         "marker": {
          "color": "#FF97FF",
          "size": 10,
          "symbol": "circle"
         },
         "mode": "markers",
         "name": "S201-1",
         "orientation": "v",
         "showlegend": true,
         "type": "scatter",
         "x": [
          0.0303
         ],
         "xaxis": "x",
         "y": [
          0.0634
         ],
         "yaxis": "y"
        },
        {
         "customdata": [
          [
           "S201-2",
           "OBE2"
          ]
         ],
         "hovertemplate": "Filename=%{customdata[0]}<br>Word Error Rate (WER)=%{x}<br>Diarization Error Rate (DER)=%{y}<br>Experiment=%{customdata[1]}<extra></extra>",
         "legendgroup": "S201-2",
         "marker": {
          "color": "#FECB52",
          "size": 10,
          "symbol": "circle"
         },
         "mode": "markers",
         "name": "S201-2",
         "orientation": "v",
         "showlegend": true,
         "type": "scatter",
         "x": [
          0.0163
         ],
         "xaxis": "x",
         "y": [
          0.1184
         ],
         "yaxis": "y"
        },
        {
         "customdata": [
          [
           "S201-3",
           "OBE2"
          ]
         ],
         "hovertemplate": "Filename=%{customdata[0]}<br>Word Error Rate (WER)=%{x}<br>Diarization Error Rate (DER)=%{y}<br>Experiment=%{customdata[1]}<extra></extra>",
         "legendgroup": "S201-3",
         "marker": {
          "color": "#636efa",
          "size": 10,
          "symbol": "circle"
         },
         "mode": "markers",
         "name": "S201-3",
         "orientation": "v",
         "showlegend": true,
         "type": "scatter",
         "x": [
          0.0036
         ],
         "xaxis": "x",
         "y": [
          0.0171
         ],
         "yaxis": "y"
        },
        {
         "customdata": [
          [
           "S202-1",
           "OBE2"
          ]
         ],
         "hovertemplate": "Filename=%{customdata[0]}<br>Word Error Rate (WER)=%{x}<br>Diarization Error Rate (DER)=%{y}<br>Experiment=%{customdata[1]}<extra></extra>",
         "legendgroup": "S202-1",
         "marker": {
          "color": "#EF553B",
          "size": 10,
          "symbol": "circle"
         },
         "mode": "markers",
         "name": "S202-1",
         "orientation": "v",
         "showlegend": true,
         "type": "scatter",
         "x": [
          0.0052
         ],
         "xaxis": "x",
         "y": [
          0.2791
         ],
         "yaxis": "y"
        },
        {
         "customdata": [
          [
           "S203-1",
           "OBE2"
          ]
         ],
         "hovertemplate": "Filename=%{customdata[0]}<br>Word Error Rate (WER)=%{x}<br>Diarization Error Rate (DER)=%{y}<br>Experiment=%{customdata[1]}<extra></extra>",
         "legendgroup": "S203-1",
         "marker": {
          "color": "#00cc96",
          "size": 10,
          "symbol": "circle"
         },
         "mode": "markers",
         "name": "S203-1",
         "orientation": "v",
         "showlegend": true,
         "type": "scatter",
         "x": [
          0.3621
         ],
         "xaxis": "x",
         "y": [
          0.1394
         ],
         "yaxis": "y"
        },
        {
         "customdata": [
          [
           "S204-1",
           "OBE2"
          ]
         ],
         "hovertemplate": "Filename=%{customdata[0]}<br>Word Error Rate (WER)=%{x}<br>Diarization Error Rate (DER)=%{y}<br>Experiment=%{customdata[1]}<extra></extra>",
         "legendgroup": "S204-1",
         "marker": {
          "color": "#ab63fa",
          "size": 10,
          "symbol": "circle"
         },
         "mode": "markers",
         "name": "S204-1",
         "orientation": "v",
         "showlegend": true,
         "type": "scatter",
         "x": [
          0.0242
         ],
         "xaxis": "x",
         "y": [
          0.3457
         ],
         "yaxis": "y"
        },
        {
         "customdata": [
          [
           "S204-2",
           "OBE2"
          ]
         ],
         "hovertemplate": "Filename=%{customdata[0]}<br>Word Error Rate (WER)=%{x}<br>Diarization Error Rate (DER)=%{y}<br>Experiment=%{customdata[1]}<extra></extra>",
         "legendgroup": "S204-2",
         "marker": {
          "color": "#FFA15A",
          "size": 10,
          "symbol": "circle"
         },
         "mode": "markers",
         "name": "S204-2",
         "orientation": "v",
         "showlegend": true,
         "type": "scatter",
         "x": [
          0.0173
         ],
         "xaxis": "x",
         "y": [
          0.3756
         ],
         "yaxis": "y"
        },
        {
         "customdata": [
          [
           "S205-1",
           "OBE2"
          ]
         ],
         "hovertemplate": "Filename=%{customdata[0]}<br>Word Error Rate (WER)=%{x}<br>Diarization Error Rate (DER)=%{y}<br>Experiment=%{customdata[1]}<extra></extra>",
         "legendgroup": "S205-1",
         "marker": {
          "color": "#19d3f3",
          "size": 10,
          "symbol": "circle"
         },
         "mode": "markers",
         "name": "S205-1",
         "orientation": "v",
         "showlegend": true,
         "type": "scatter",
         "x": [
          0.0143
         ],
         "xaxis": "x",
         "y": [
          0.2685
         ],
         "yaxis": "y"
        },
        {
         "customdata": [
          [
           "S205-2",
           "OBE2"
          ]
         ],
         "hovertemplate": "Filename=%{customdata[0]}<br>Word Error Rate (WER)=%{x}<br>Diarization Error Rate (DER)=%{y}<br>Experiment=%{customdata[1]}<extra></extra>",
         "legendgroup": "S205-2",
         "marker": {
          "color": "#FF6692",
          "size": 10,
          "symbol": "circle"
         },
         "mode": "markers",
         "name": "S205-2",
         "orientation": "v",
         "showlegend": true,
         "type": "scatter",
         "x": [
          0.0943
         ],
         "xaxis": "x",
         "y": [
          0.1425
         ],
         "yaxis": "y"
        },
        {
         "customdata": [
          [
           "S206-1",
           "OBE2"
          ]
         ],
         "hovertemplate": "Filename=%{customdata[0]}<br>Word Error Rate (WER)=%{x}<br>Diarization Error Rate (DER)=%{y}<br>Experiment=%{customdata[1]}<extra></extra>",
         "legendgroup": "S206-1",
         "marker": {
          "color": "#B6E880",
          "size": 10,
          "symbol": "circle"
         },
         "mode": "markers",
         "name": "S206-1",
         "orientation": "v",
         "showlegend": true,
         "type": "scatter",
         "x": [
          0.0496
         ],
         "xaxis": "x",
         "y": [
          0.0836
         ],
         "yaxis": "y"
        },
        {
         "customdata": [
          [
           "S206-2",
           "OBE2"
          ]
         ],
         "hovertemplate": "Filename=%{customdata[0]}<br>Word Error Rate (WER)=%{x}<br>Diarization Error Rate (DER)=%{y}<br>Experiment=%{customdata[1]}<extra></extra>",
         "legendgroup": "S206-2",
         "marker": {
          "color": "#FF97FF",
          "size": 10,
          "symbol": "circle"
         },
         "mode": "markers",
         "name": "S206-2",
         "orientation": "v",
         "showlegend": true,
         "type": "scatter",
         "x": [
          0.0556
         ],
         "xaxis": "x",
         "y": [
          0.0538
         ],
         "yaxis": "y"
        },
        {
         "customdata": [
          [
           "S207-1",
           "OBE2"
          ]
         ],
         "hovertemplate": "Filename=%{customdata[0]}<br>Word Error Rate (WER)=%{x}<br>Diarization Error Rate (DER)=%{y}<br>Experiment=%{customdata[1]}<extra></extra>",
         "legendgroup": "S207-1",
         "marker": {
          "color": "#FECB52",
          "size": 10,
          "symbol": "circle"
         },
         "mode": "markers",
         "name": "S207-1",
         "orientation": "v",
         "showlegend": true,
         "type": "scatter",
         "x": [
          0.1699
         ],
         "xaxis": "x",
         "y": [
          0.1928
         ],
         "yaxis": "y"
        },
        {
         "customdata": [
          [
           "S207-2",
           "OBE2"
          ]
         ],
         "hovertemplate": "Filename=%{customdata[0]}<br>Word Error Rate (WER)=%{x}<br>Diarization Error Rate (DER)=%{y}<br>Experiment=%{customdata[1]}<extra></extra>",
         "legendgroup": "S207-2",
         "marker": {
          "color": "#636efa",
          "size": 10,
          "symbol": "circle"
         },
         "mode": "markers",
         "name": "S207-2",
         "orientation": "v",
         "showlegend": true,
         "type": "scatter",
         "x": [
          0
         ],
         "xaxis": "x",
         "y": [
          0
         ],
         "yaxis": "y"
        },
        {
         "customdata": [
          [
           "S208-1",
           "OBE2"
          ]
         ],
         "hovertemplate": "Filename=%{customdata[0]}<br>Word Error Rate (WER)=%{x}<br>Diarization Error Rate (DER)=%{y}<br>Experiment=%{customdata[1]}<extra></extra>",
         "legendgroup": "S208-1",
         "marker": {
          "color": "#EF553B",
          "size": 10,
          "symbol": "circle"
         },
         "mode": "markers",
         "name": "S208-1",
         "orientation": "v",
         "showlegend": true,
         "type": "scatter",
         "x": [
          0.0138
         ],
         "xaxis": "x",
         "y": [
          0.106
         ],
         "yaxis": "y"
        },
        {
         "customdata": [
          [
           "S208-2",
           "OBE2"
          ]
         ],
         "hovertemplate": "Filename=%{customdata[0]}<br>Word Error Rate (WER)=%{x}<br>Diarization Error Rate (DER)=%{y}<br>Experiment=%{customdata[1]}<extra></extra>",
         "legendgroup": "S208-2",
         "marker": {
          "color": "#00cc96",
          "size": 10,
          "symbol": "circle"
         },
         "mode": "markers",
         "name": "S208-2",
         "orientation": "v",
         "showlegend": true,
         "type": "scatter",
         "x": [
          0.011
         ],
         "xaxis": "x",
         "y": [
          0.1569
         ],
         "yaxis": "y"
        },
        {
         "customdata": [
          [
           "S209-1",
           "OBE2"
          ]
         ],
         "hovertemplate": "Filename=%{customdata[0]}<br>Word Error Rate (WER)=%{x}<br>Diarization Error Rate (DER)=%{y}<br>Experiment=%{customdata[1]}<extra></extra>",
         "legendgroup": "S209-1",
         "marker": {
          "color": "#ab63fa",
          "size": 10,
          "symbol": "circle"
         },
         "mode": "markers",
         "name": "S209-1",
         "orientation": "v",
         "showlegend": true,
         "type": "scatter",
         "x": [
          0.0221
         ],
         "xaxis": "x",
         "y": [
          0.1626
         ],
         "yaxis": "y"
        },
        {
         "customdata": [
          [
           "S209-2",
           "OBE2"
          ]
         ],
         "hovertemplate": "Filename=%{customdata[0]}<br>Word Error Rate (WER)=%{x}<br>Diarization Error Rate (DER)=%{y}<br>Experiment=%{customdata[1]}<extra></extra>",
         "legendgroup": "S209-2",
         "marker": {
          "color": "#FFA15A",
          "size": 10,
          "symbol": "circle"
         },
         "mode": "markers",
         "name": "S209-2",
         "orientation": "v",
         "showlegend": true,
         "type": "scatter",
         "x": [
          0
         ],
         "xaxis": "x",
         "y": [
          0.0227
         ],
         "yaxis": "y"
        },
        {
         "customdata": [
          [
           "S209-3",
           "OBE2"
          ]
         ],
         "hovertemplate": "Filename=%{customdata[0]}<br>Word Error Rate (WER)=%{x}<br>Diarization Error Rate (DER)=%{y}<br>Experiment=%{customdata[1]}<extra></extra>",
         "legendgroup": "S209-3",
         "marker": {
          "color": "#19d3f3",
          "size": 10,
          "symbol": "circle"
         },
         "mode": "markers",
         "name": "S209-3",
         "orientation": "v",
         "showlegend": true,
         "type": "scatter",
         "x": [
          0.042
         ],
         "xaxis": "x",
         "y": [
          0.0837
         ],
         "yaxis": "y"
        },
        {
         "customdata": [
          [
           "S209-4",
           "OBE2"
          ]
         ],
         "hovertemplate": "Filename=%{customdata[0]}<br>Word Error Rate (WER)=%{x}<br>Diarization Error Rate (DER)=%{y}<br>Experiment=%{customdata[1]}<extra></extra>",
         "legendgroup": "S209-4",
         "marker": {
          "color": "#FF6692",
          "size": 10,
          "symbol": "circle"
         },
         "mode": "markers",
         "name": "S209-4",
         "orientation": "v",
         "showlegend": true,
         "type": "scatter",
         "x": [
          0.0363
         ],
         "xaxis": "x",
         "y": [
          0.0349
         ],
         "yaxis": "y"
        },
        {
         "customdata": [
          [
           "S210-1",
           "OBE2"
          ]
         ],
         "hovertemplate": "Filename=%{customdata[0]}<br>Word Error Rate (WER)=%{x}<br>Diarization Error Rate (DER)=%{y}<br>Experiment=%{customdata[1]}<extra></extra>",
         "legendgroup": "S210-1",
         "marker": {
          "color": "#B6E880",
          "size": 10,
          "symbol": "circle"
         },
         "mode": "markers",
         "name": "S210-1",
         "orientation": "v",
         "showlegend": true,
         "type": "scatter",
         "x": [
          0.05
         ],
         "xaxis": "x",
         "y": [
          0.4525
         ],
         "yaxis": "y"
        },
        {
         "customdata": [
          [
           "S210-2",
           "OBE2"
          ]
         ],
         "hovertemplate": "Filename=%{customdata[0]}<br>Word Error Rate (WER)=%{x}<br>Diarization Error Rate (DER)=%{y}<br>Experiment=%{customdata[1]}<extra></extra>",
         "legendgroup": "S210-2",
         "marker": {
          "color": "#FF97FF",
          "size": 10,
          "symbol": "circle"
         },
         "mode": "markers",
         "name": "S210-2",
         "orientation": "v",
         "showlegend": true,
         "type": "scatter",
         "x": [
          0
         ],
         "xaxis": "x",
         "y": [
          0.0017
         ],
         "yaxis": "y"
        },
        {
         "customdata": [
          [
           "S210-3",
           "OBE2"
          ]
         ],
         "hovertemplate": "Filename=%{customdata[0]}<br>Word Error Rate (WER)=%{x}<br>Diarization Error Rate (DER)=%{y}<br>Experiment=%{customdata[1]}<extra></extra>",
         "legendgroup": "S210-3",
         "marker": {
          "color": "#FECB52",
          "size": 10,
          "symbol": "circle"
         },
         "mode": "markers",
         "name": "S210-3",
         "orientation": "v",
         "showlegend": true,
         "type": "scatter",
         "x": [
          0.0397
         ],
         "xaxis": "x",
         "y": [
          0.25
         ],
         "yaxis": "y"
        },
        {
         "customdata": [
          [
           "S211_1",
           "OBE2"
          ]
         ],
         "hovertemplate": "Filename=%{customdata[0]}<br>Word Error Rate (WER)=%{x}<br>Diarization Error Rate (DER)=%{y}<br>Experiment=%{customdata[1]}<extra></extra>",
         "legendgroup": "S211_1",
         "marker": {
          "color": "#636efa",
          "size": 10,
          "symbol": "circle"
         },
         "mode": "markers",
         "name": "S211_1",
         "orientation": "v",
         "showlegend": true,
         "type": "scatter",
         "x": [
          0.122
         ],
         "xaxis": "x",
         "y": [
          0.2128
         ],
         "yaxis": "y"
        },
        {
         "customdata": [
          [
           "S211_2",
           "OBE2"
          ]
         ],
         "hovertemplate": "Filename=%{customdata[0]}<br>Word Error Rate (WER)=%{x}<br>Diarization Error Rate (DER)=%{y}<br>Experiment=%{customdata[1]}<extra></extra>",
         "legendgroup": "S211_2",
         "marker": {
          "color": "#EF553B",
          "size": 10,
          "symbol": "circle"
         },
         "mode": "markers",
         "name": "S211_2",
         "orientation": "v",
         "showlegend": true,
         "type": "scatter",
         "x": [
          0
         ],
         "xaxis": "x",
         "y": [
          0.0295
         ],
         "yaxis": "y"
        },
        {
         "customdata": [
          [
           "S211_3 (partially in french)",
           "OBE2"
          ]
         ],
         "hovertemplate": "Filename=%{customdata[0]}<br>Word Error Rate (WER)=%{x}<br>Diarization Error Rate (DER)=%{y}<br>Experiment=%{customdata[1]}<extra></extra>",
         "legendgroup": "S211_3 (partially in french)",
         "marker": {
          "color": "#00cc96",
          "size": 10,
          "symbol": "circle"
         },
         "mode": "markers",
         "name": "S211_3 (partially in french)",
         "orientation": "v",
         "showlegend": true,
         "type": "scatter",
         "x": [
          0.0434
         ],
         "xaxis": "x",
         "y": [
          0.0729
         ],
         "yaxis": "y"
        },
        {
         "customdata": [
          [
           "S212_1",
           "OBE2"
          ]
         ],
         "hovertemplate": "Filename=%{customdata[0]}<br>Word Error Rate (WER)=%{x}<br>Diarization Error Rate (DER)=%{y}<br>Experiment=%{customdata[1]}<extra></extra>",
         "legendgroup": "S212_1",
         "marker": {
          "color": "#ab63fa",
          "size": 10,
          "symbol": "circle"
         },
         "mode": "markers",
         "name": "S212_1",
         "orientation": "v",
         "showlegend": true,
         "type": "scatter",
         "x": [
          0.0131
         ],
         "xaxis": "x",
         "y": [
          0.3822
         ],
         "yaxis": "y"
        },
        {
         "customdata": [
          [
           "S212_2",
           "OBE2"
          ]
         ],
         "hovertemplate": "Filename=%{customdata[0]}<br>Word Error Rate (WER)=%{x}<br>Diarization Error Rate (DER)=%{y}<br>Experiment=%{customdata[1]}<extra></extra>",
         "legendgroup": "S212_2",
         "marker": {
          "color": "#FFA15A",
          "size": 10,
          "symbol": "circle"
         },
         "mode": "markers",
         "name": "S212_2",
         "orientation": "v",
         "showlegend": true,
         "type": "scatter",
         "x": [
          0.0087
         ],
         "xaxis": "x",
         "y": [
          0.106
         ],
         "yaxis": "y"
        },
        {
         "customdata": [
          [
           "S213_1",
           "OBE2"
          ]
         ],
         "hovertemplate": "Filename=%{customdata[0]}<br>Word Error Rate (WER)=%{x}<br>Diarization Error Rate (DER)=%{y}<br>Experiment=%{customdata[1]}<extra></extra>",
         "legendgroup": "S213_1",
         "marker": {
          "color": "#19d3f3",
          "size": 10,
          "symbol": "circle"
         },
         "mode": "markers",
         "name": "S213_1",
         "orientation": "v",
         "showlegend": true,
         "type": "scatter",
         "x": [
          0.0127
         ],
         "xaxis": "x",
         "y": [
          0.0438
         ],
         "yaxis": "y"
        },
        {
         "customdata": [
          [
           "S213_2",
           "OBE2"
          ]
         ],
         "hovertemplate": "Filename=%{customdata[0]}<br>Word Error Rate (WER)=%{x}<br>Diarization Error Rate (DER)=%{y}<br>Experiment=%{customdata[1]}<extra></extra>",
         "legendgroup": "S213_2",
         "marker": {
          "color": "#FF6692",
          "size": 10,
          "symbol": "circle"
         },
         "mode": "markers",
         "name": "S213_2",
         "orientation": "v",
         "showlegend": true,
         "type": "scatter",
         "x": [
          0.0394
         ],
         "xaxis": "x",
         "y": [
          0.3204
         ],
         "yaxis": "y"
        },
        {
         "customdata": [
          [
           "S214_1",
           "OBE2"
          ]
         ],
         "hovertemplate": "Filename=%{customdata[0]}<br>Word Error Rate (WER)=%{x}<br>Diarization Error Rate (DER)=%{y}<br>Experiment=%{customdata[1]}<extra></extra>",
         "legendgroup": "S214_1",
         "marker": {
          "color": "#B6E880",
          "size": 10,
          "symbol": "circle"
         },
         "mode": "markers",
         "name": "S214_1",
         "orientation": "v",
         "showlegend": true,
         "type": "scatter",
         "x": [
          0.0761
         ],
         "xaxis": "x",
         "y": [
          0.1899
         ],
         "yaxis": "y"
        },
        {
         "customdata": [
          [
           "S214_2",
           "OBE2"
          ]
         ],
         "hovertemplate": "Filename=%{customdata[0]}<br>Word Error Rate (WER)=%{x}<br>Diarization Error Rate (DER)=%{y}<br>Experiment=%{customdata[1]}<extra></extra>",
         "legendgroup": "S214_2",
         "marker": {
          "color": "#FF97FF",
          "size": 10,
          "symbol": "circle"
         },
         "mode": "markers",
         "name": "S214_2",
         "orientation": "v",
         "showlegend": true,
         "type": "scatter",
         "x": [
          0.0396
         ],
         "xaxis": "x",
         "y": [
          0.5861
         ],
         "yaxis": "y"
        },
        {
         "customdata": [
          [
           "S217",
           "OBE2"
          ]
         ],
         "hovertemplate": "Filename=%{customdata[0]}<br>Word Error Rate (WER)=%{x}<br>Diarization Error Rate (DER)=%{y}<br>Experiment=%{customdata[1]}<extra></extra>",
         "legendgroup": "S217",
         "marker": {
          "color": "#FECB52",
          "size": 10,
          "symbol": "circle"
         },
         "mode": "markers",
         "name": "S217",
         "orientation": "v",
         "showlegend": true,
         "type": "scatter",
         "x": [
          0.0394
         ],
         "xaxis": "x",
         "y": [
          0.0191
         ],
         "yaxis": "y"
        },
        {
         "customdata": [
          [
           "S218-1",
           "OBE2"
          ]
         ],
         "hovertemplate": "Filename=%{customdata[0]}<br>Word Error Rate (WER)=%{x}<br>Diarization Error Rate (DER)=%{y}<br>Experiment=%{customdata[1]}<extra></extra>",
         "legendgroup": "S218-1",
         "marker": {
          "color": "#636efa",
          "size": 10,
          "symbol": "circle"
         },
         "mode": "markers",
         "name": "S218-1",
         "orientation": "v",
         "showlegend": true,
         "type": "scatter",
         "x": [
          0.0679
         ],
         "xaxis": "x",
         "y": [
          0.4707
         ],
         "yaxis": "y"
        },
        {
         "customdata": [
          [
           "S218-2",
           "OBE2"
          ]
         ],
         "hovertemplate": "Filename=%{customdata[0]}<br>Word Error Rate (WER)=%{x}<br>Diarization Error Rate (DER)=%{y}<br>Experiment=%{customdata[1]}<extra></extra>",
         "legendgroup": "S218-2",
         "marker": {
          "color": "#EF553B",
          "size": 10,
          "symbol": "circle"
         },
         "mode": "markers",
         "name": "S218-2",
         "orientation": "v",
         "showlegend": true,
         "type": "scatter",
         "x": [
          0.0032
         ],
         "xaxis": "x",
         "y": [
          0.0361
         ],
         "yaxis": "y"
        },
        {
         "customdata": [
          [
           "S219-1",
           "OBE2"
          ]
         ],
         "hovertemplate": "Filename=%{customdata[0]}<br>Word Error Rate (WER)=%{x}<br>Diarization Error Rate (DER)=%{y}<br>Experiment=%{customdata[1]}<extra></extra>",
         "legendgroup": "S219-1",
         "marker": {
          "color": "#00cc96",
          "size": 10,
          "symbol": "circle"
         },
         "mode": "markers",
         "name": "S219-1",
         "orientation": "v",
         "showlegend": true,
         "type": "scatter",
         "x": [
          0.1238
         ],
         "xaxis": "x",
         "y": [
          0.3428
         ],
         "yaxis": "y"
        },
        {
         "customdata": [
          [
           "S219-2",
           "OBE2"
          ]
         ],
         "hovertemplate": "Filename=%{customdata[0]}<br>Word Error Rate (WER)=%{x}<br>Diarization Error Rate (DER)=%{y}<br>Experiment=%{customdata[1]}<extra></extra>",
         "legendgroup": "S219-2",
         "marker": {
          "color": "#ab63fa",
          "size": 10,
          "symbol": "circle"
         },
         "mode": "markers",
         "name": "S219-2",
         "orientation": "v",
         "showlegend": true,
         "type": "scatter",
         "x": [
          0.0126
         ],
         "xaxis": "x",
         "y": [
          0.0157
         ],
         "yaxis": "y"
        },
        {
         "customdata": [
          [
           "S220-1",
           "OBE2"
          ]
         ],
         "hovertemplate": "Filename=%{customdata[0]}<br>Word Error Rate (WER)=%{x}<br>Diarization Error Rate (DER)=%{y}<br>Experiment=%{customdata[1]}<extra></extra>",
         "legendgroup": "S220-1",
         "marker": {
          "color": "#FFA15A",
          "size": 10,
          "symbol": "circle"
         },
         "mode": "markers",
         "name": "S220-1",
         "orientation": "v",
         "showlegend": true,
         "type": "scatter",
         "x": [
          0.0948
         ],
         "xaxis": "x",
         "y": [
          0.1394
         ],
         "yaxis": "y"
        },
        {
         "customdata": [
          [
           "S220-2",
           "OBE2"
          ]
         ],
         "hovertemplate": "Filename=%{customdata[0]}<br>Word Error Rate (WER)=%{x}<br>Diarization Error Rate (DER)=%{y}<br>Experiment=%{customdata[1]}<extra></extra>",
         "legendgroup": "S220-2",
         "marker": {
          "color": "#19d3f3",
          "size": 10,
          "symbol": "circle"
         },
         "mode": "markers",
         "name": "S220-2",
         "orientation": "v",
         "showlegend": true,
         "type": "scatter",
         "x": [
          0.121
         ],
         "xaxis": "x",
         "y": [
          0.1033
         ],
         "yaxis": "y"
        },
        {
         "customdata": [
          [
           "S222_c",
           "OBE2"
          ]
         ],
         "hovertemplate": "Filename=%{customdata[0]}<br>Word Error Rate (WER)=%{x}<br>Diarization Error Rate (DER)=%{y}<br>Experiment=%{customdata[1]}<extra></extra>",
         "legendgroup": "S222_c",
         "marker": {
          "color": "#FF6692",
          "size": 10,
          "symbol": "circle"
         },
         "mode": "markers",
         "name": "S222_c",
         "orientation": "v",
         "showlegend": true,
         "type": "scatter",
         "x": [
          0.0032
         ],
         "xaxis": "x",
         "y": [
          0.1282
         ],
         "yaxis": "y"
        },
        {
         "customdata": [
          [
           "S222_m",
           "OBE2"
          ]
         ],
         "hovertemplate": "Filename=%{customdata[0]}<br>Word Error Rate (WER)=%{x}<br>Diarization Error Rate (DER)=%{y}<br>Experiment=%{customdata[1]}<extra></extra>",
         "legendgroup": "S222_m",
         "marker": {
          "color": "#B6E880",
          "size": 10,
          "symbol": "circle"
         },
         "mode": "markers",
         "name": "S222_m",
         "orientation": "v",
         "showlegend": true,
         "type": "scatter",
         "x": [
          0.0094
         ],
         "xaxis": "x",
         "y": [
          0.1375
         ],
         "yaxis": "y"
        },
        {
         "customdata": [
          [
           "S223",
           "OBE2"
          ]
         ],
         "hovertemplate": "Filename=%{customdata[0]}<br>Word Error Rate (WER)=%{x}<br>Diarization Error Rate (DER)=%{y}<br>Experiment=%{customdata[1]}<extra></extra>",
         "legendgroup": "S223",
         "marker": {
          "color": "#FF97FF",
          "size": 10,
          "symbol": "circle"
         },
         "mode": "markers",
         "name": "S223",
         "orientation": "v",
         "showlegend": true,
         "type": "scatter",
         "x": [
          0.0893
         ],
         "xaxis": "x",
         "y": [
          0.5887
         ],
         "yaxis": "y"
        },
        {
         "customdata": [
          [
           "S225",
           "OBE2"
          ]
         ],
         "hovertemplate": "Filename=%{customdata[0]}<br>Word Error Rate (WER)=%{x}<br>Diarization Error Rate (DER)=%{y}<br>Experiment=%{customdata[1]}<extra></extra>",
         "legendgroup": "S225",
         "marker": {
          "color": "#FECB52",
          "size": 10,
          "symbol": "circle"
         },
         "mode": "markers",
         "name": "S225",
         "orientation": "v",
         "showlegend": true,
         "type": "scatter",
         "x": [
          0.2273
         ],
         "xaxis": "x",
         "y": [
          0.142
         ],
         "yaxis": "y"
        },
        {
         "customdata": [
          [
           "S225[1]",
           "OBE2"
          ]
         ],
         "hovertemplate": "Filename=%{customdata[0]}<br>Word Error Rate (WER)=%{x}<br>Diarization Error Rate (DER)=%{y}<br>Experiment=%{customdata[1]}<extra></extra>",
         "legendgroup": "S225[1]",
         "marker": {
          "color": "#636efa",
          "size": 10,
          "symbol": "circle"
         },
         "mode": "markers",
         "name": "S225[1]",
         "orientation": "v",
         "showlegend": true,
         "type": "scatter",
         "x": [
          0.0109
         ],
         "xaxis": "x",
         "y": [
          0.0305
         ],
         "yaxis": "y"
        },
        {
         "customdata": [
          [
           "S226",
           "OBE2"
          ]
         ],
         "hovertemplate": "Filename=%{customdata[0]}<br>Word Error Rate (WER)=%{x}<br>Diarization Error Rate (DER)=%{y}<br>Experiment=%{customdata[1]}<extra></extra>",
         "legendgroup": "S226",
         "marker": {
          "color": "#EF553B",
          "size": 10,
          "symbol": "circle"
         },
         "mode": "markers",
         "name": "S226",
         "orientation": "v",
         "showlegend": true,
         "type": "scatter",
         "x": [
          0.4536
         ],
         "xaxis": "x",
         "y": [
          0.3477
         ],
         "yaxis": "y"
        },
        {
         "customdata": [
          [
           "S226[1]",
           "OBE2"
          ]
         ],
         "hovertemplate": "Filename=%{customdata[0]}<br>Word Error Rate (WER)=%{x}<br>Diarization Error Rate (DER)=%{y}<br>Experiment=%{customdata[1]}<extra></extra>",
         "legendgroup": "S226[1]",
         "marker": {
          "color": "#00cc96",
          "size": 10,
          "symbol": "circle"
         },
         "mode": "markers",
         "name": "S226[1]",
         "orientation": "v",
         "showlegend": true,
         "type": "scatter",
         "x": [
          0.1282
         ],
         "xaxis": "x",
         "y": [
          0.5689
         ],
         "yaxis": "y"
        },
        {
         "customdata": [
          [
           "S226[2]",
           "OBE2"
          ]
         ],
         "hovertemplate": "Filename=%{customdata[0]}<br>Word Error Rate (WER)=%{x}<br>Diarization Error Rate (DER)=%{y}<br>Experiment=%{customdata[1]}<extra></extra>",
         "legendgroup": "S226[2]",
         "marker": {
          "color": "#ab63fa",
          "size": 10,
          "symbol": "circle"
         },
         "mode": "markers",
         "name": "S226[2]",
         "orientation": "v",
         "showlegend": true,
         "type": "scatter",
         "x": [
          0.0198
         ],
         "xaxis": "x",
         "y": [
          0.1916
         ],
         "yaxis": "y"
        },
        {
         "customdata": [
          [
           "S227 control interview",
           "OBE2"
          ]
         ],
         "hovertemplate": "Filename=%{customdata[0]}<br>Word Error Rate (WER)=%{x}<br>Diarization Error Rate (DER)=%{y}<br>Experiment=%{customdata[1]}<extra></extra>",
         "legendgroup": "S227 control interview",
         "marker": {
          "color": "#FFA15A",
          "size": 10,
          "symbol": "circle"
         },
         "mode": "markers",
         "name": "S227 control interview",
         "orientation": "v",
         "showlegend": true,
         "type": "scatter",
         "x": [
          0.1452
         ],
         "xaxis": "x",
         "y": [
          0.497
         ],
         "yaxis": "y"
        },
        {
         "customdata": [
          [
           "S227 intervention",
           "OBE2"
          ]
         ],
         "hovertemplate": "Filename=%{customdata[0]}<br>Word Error Rate (WER)=%{x}<br>Diarization Error Rate (DER)=%{y}<br>Experiment=%{customdata[1]}<extra></extra>",
         "legendgroup": "S227 intervention",
         "marker": {
          "color": "#19d3f3",
          "size": 10,
          "symbol": "circle"
         },
         "mode": "markers",
         "name": "S227 intervention",
         "orientation": "v",
         "showlegend": true,
         "type": "scatter",
         "x": [
          0.0844
         ],
         "xaxis": "x",
         "y": [
          0.3152
         ],
         "yaxis": "y"
        },
        {
         "customdata": [
          [
           "S228 control",
           "OBE2"
          ]
         ],
         "hovertemplate": "Filename=%{customdata[0]}<br>Word Error Rate (WER)=%{x}<br>Diarization Error Rate (DER)=%{y}<br>Experiment=%{customdata[1]}<extra></extra>",
         "legendgroup": "S228 control",
         "marker": {
          "color": "#FF6692",
          "size": 10,
          "symbol": "circle"
         },
         "mode": "markers",
         "name": "S228 control",
         "orientation": "v",
         "showlegend": true,
         "type": "scatter",
         "x": [
          0.0159
         ],
         "xaxis": "x",
         "y": [
          0.1639
         ],
         "yaxis": "y"
        },
        {
         "customdata": [
          [
           "S228 intervention",
           "OBE2"
          ]
         ],
         "hovertemplate": "Filename=%{customdata[0]}<br>Word Error Rate (WER)=%{x}<br>Diarization Error Rate (DER)=%{y}<br>Experiment=%{customdata[1]}<extra></extra>",
         "legendgroup": "S228 intervention",
         "marker": {
          "color": "#B6E880",
          "size": 10,
          "symbol": "circle"
         },
         "mode": "markers",
         "name": "S228 intervention",
         "orientation": "v",
         "showlegend": true,
         "type": "scatter",
         "x": [
          0.0266
         ],
         "xaxis": "x",
         "y": [
          0.1079
         ],
         "yaxis": "y"
        },
        {
         "customdata": [
          [
           "S229 control",
           "OBE2"
          ]
         ],
         "hovertemplate": "Filename=%{customdata[0]}<br>Word Error Rate (WER)=%{x}<br>Diarization Error Rate (DER)=%{y}<br>Experiment=%{customdata[1]}<extra></extra>",
         "legendgroup": "S229 control",
         "marker": {
          "color": "#FF97FF",
          "size": 10,
          "symbol": "circle"
         },
         "mode": "markers",
         "name": "S229 control",
         "orientation": "v",
         "showlegend": true,
         "type": "scatter",
         "x": [
          0.4253
         ],
         "xaxis": "x",
         "y": [
          0.256
         ],
         "yaxis": "y"
        },
        {
         "customdata": [
          [
           "S229 intervention",
           "OBE2"
          ]
         ],
         "hovertemplate": "Filename=%{customdata[0]}<br>Word Error Rate (WER)=%{x}<br>Diarization Error Rate (DER)=%{y}<br>Experiment=%{customdata[1]}<extra></extra>",
         "legendgroup": "S229 intervention",
         "marker": {
          "color": "#FECB52",
          "size": 10,
          "symbol": "circle"
         },
         "mode": "markers",
         "name": "S229 intervention",
         "orientation": "v",
         "showlegend": true,
         "type": "scatter",
         "x": [
          0.3021
         ],
         "xaxis": "x",
         "y": [
          0.0901
         ],
         "yaxis": "y"
        },
        {
         "customdata": [
          [
           "S230 control",
           "OBE2"
          ]
         ],
         "hovertemplate": "Filename=%{customdata[0]}<br>Word Error Rate (WER)=%{x}<br>Diarization Error Rate (DER)=%{y}<br>Experiment=%{customdata[1]}<extra></extra>",
         "legendgroup": "S230 control",
         "marker": {
          "color": "#636efa",
          "size": 10,
          "symbol": "circle"
         },
         "mode": "markers",
         "name": "S230 control",
         "orientation": "v",
         "showlegend": true,
         "type": "scatter",
         "x": [
          0.1978
         ],
         "xaxis": "x",
         "y": [
          0.0983
         ],
         "yaxis": "y"
        },
        {
         "customdata": [
          [
           "S230 intervention",
           "OBE2"
          ]
         ],
         "hovertemplate": "Filename=%{customdata[0]}<br>Word Error Rate (WER)=%{x}<br>Diarization Error Rate (DER)=%{y}<br>Experiment=%{customdata[1]}<extra></extra>",
         "legendgroup": "S230 intervention",
         "marker": {
          "color": "#EF553B",
          "size": 10,
          "symbol": "circle"
         },
         "mode": "markers",
         "name": "S230 intervention",
         "orientation": "v",
         "showlegend": true,
         "type": "scatter",
         "x": [
          0.1543
         ],
         "xaxis": "x",
         "y": [
          0.0549
         ],
         "yaxis": "y"
        },
        {
         "customdata": [
          [
           "S301final",
           "Compassion"
          ]
         ],
         "hovertemplate": "Filename=%{customdata[0]}<br>Word Error Rate (WER)=%{x}<br>Diarization Error Rate (DER)=%{y}<br>Experiment=%{customdata[1]}<extra></extra>",
         "legendgroup": "S301final",
         "marker": {
          "color": "#00cc96",
          "size": 10,
          "symbol": "circle"
         },
         "mode": "markers",
         "name": "S301final",
         "orientation": "v",
         "showlegend": true,
         "type": "scatter",
         "x": [
          0.0293
         ],
         "xaxis": "x",
         "y": [
          0.0618
         ],
         "yaxis": "y"
        },
        {
         "customdata": [
          [
           "S302con",
           "Compassion"
          ]
         ],
         "hovertemplate": "Filename=%{customdata[0]}<br>Word Error Rate (WER)=%{x}<br>Diarization Error Rate (DER)=%{y}<br>Experiment=%{customdata[1]}<extra></extra>",
         "legendgroup": "S302con",
         "marker": {
          "color": "#ab63fa",
          "size": 10,
          "symbol": "circle"
         },
         "mode": "markers",
         "name": "S302con",
         "orientation": "v",
         "showlegend": true,
         "type": "scatter",
         "x": [
          0.2349
         ],
         "xaxis": "x",
         "y": [
          0.2563
         ],
         "yaxis": "y"
        },
        {
         "customdata": [
          [
           "S302man",
           "Compassion"
          ]
         ],
         "hovertemplate": "Filename=%{customdata[0]}<br>Word Error Rate (WER)=%{x}<br>Diarization Error Rate (DER)=%{y}<br>Experiment=%{customdata[1]}<extra></extra>",
         "legendgroup": "S302man",
         "marker": {
          "color": "#FFA15A",
          "size": 10,
          "symbol": "circle"
         },
         "mode": "markers",
         "name": "S302man",
         "orientation": "v",
         "showlegend": true,
         "type": "scatter",
         "x": [
          0.0734
         ],
         "xaxis": "x",
         "y": [
          0.0617
         ],
         "yaxis": "y"
        },
        {
         "customdata": [
          [
           "S303con",
           "Compassion"
          ]
         ],
         "hovertemplate": "Filename=%{customdata[0]}<br>Word Error Rate (WER)=%{x}<br>Diarization Error Rate (DER)=%{y}<br>Experiment=%{customdata[1]}<extra></extra>",
         "legendgroup": "S303con",
         "marker": {
          "color": "#19d3f3",
          "size": 10,
          "symbol": "circle"
         },
         "mode": "markers",
         "name": "S303con",
         "orientation": "v",
         "showlegend": true,
         "type": "scatter",
         "x": [
          0.0078
         ],
         "xaxis": "x",
         "y": [
          0.027
         ],
         "yaxis": "y"
        },
        {
         "customdata": [
          [
           "S303man",
           "Compassion"
          ]
         ],
         "hovertemplate": "Filename=%{customdata[0]}<br>Word Error Rate (WER)=%{x}<br>Diarization Error Rate (DER)=%{y}<br>Experiment=%{customdata[1]}<extra></extra>",
         "legendgroup": "S303man",
         "marker": {
          "color": "#FF6692",
          "size": 10,
          "symbol": "circle"
         },
         "mode": "markers",
         "name": "S303man",
         "orientation": "v",
         "showlegend": true,
         "type": "scatter",
         "x": [
          0.0088
         ],
         "xaxis": "x",
         "y": [
          0.1613
         ],
         "yaxis": "y"
        },
        {
         "customdata": [
          [
           "S304",
           "Compassion"
          ]
         ],
         "hovertemplate": "Filename=%{customdata[0]}<br>Word Error Rate (WER)=%{x}<br>Diarization Error Rate (DER)=%{y}<br>Experiment=%{customdata[1]}<extra></extra>",
         "legendgroup": "S304",
         "marker": {
          "color": "#B6E880",
          "size": 10,
          "symbol": "circle"
         },
         "mode": "markers",
         "name": "S304",
         "orientation": "v",
         "showlegend": true,
         "type": "scatter",
         "x": [
          0.0266
         ],
         "xaxis": "x",
         "y": [
          0.1214
         ],
         "yaxis": "y"
        },
        {
         "customdata": [
          [
           "S305con",
           "Compassion"
          ]
         ],
         "hovertemplate": "Filename=%{customdata[0]}<br>Word Error Rate (WER)=%{x}<br>Diarization Error Rate (DER)=%{y}<br>Experiment=%{customdata[1]}<extra></extra>",
         "legendgroup": "S305con",
         "marker": {
          "color": "#FF97FF",
          "size": 10,
          "symbol": "circle"
         },
         "mode": "markers",
         "name": "S305con",
         "orientation": "v",
         "showlegend": true,
         "type": "scatter",
         "x": [
          0.1518
         ],
         "xaxis": "x",
         "y": [
          0.0148
         ],
         "yaxis": "y"
        },
        {
         "customdata": [
          [
           "S306",
           "Compassion"
          ]
         ],
         "hovertemplate": "Filename=%{customdata[0]}<br>Word Error Rate (WER)=%{x}<br>Diarization Error Rate (DER)=%{y}<br>Experiment=%{customdata[1]}<extra></extra>",
         "legendgroup": "S306",
         "marker": {
          "color": "#FECB52",
          "size": 10,
          "symbol": "circle"
         },
         "mode": "markers",
         "name": "S306",
         "orientation": "v",
         "showlegend": true,
         "type": "scatter",
         "x": [
          0.0097
         ],
         "xaxis": "x",
         "y": [
          0.078
         ],
         "yaxis": "y"
        },
        {
         "customdata": [
          [
           "S307",
           "Compassion"
          ]
         ],
         "hovertemplate": "Filename=%{customdata[0]}<br>Word Error Rate (WER)=%{x}<br>Diarization Error Rate (DER)=%{y}<br>Experiment=%{customdata[1]}<extra></extra>",
         "legendgroup": "S307",
         "marker": {
          "color": "#636efa",
          "size": 10,
          "symbol": "circle"
         },
         "mode": "markers",
         "name": "S307",
         "orientation": "v",
         "showlegend": true,
         "type": "scatter",
         "x": [
          0.0272
         ],
         "xaxis": "x",
         "y": [
          0.1578
         ],
         "yaxis": "y"
        },
        {
         "customdata": [
          [
           "S313",
           "Compassion"
          ]
         ],
         "hovertemplate": "Filename=%{customdata[0]}<br>Word Error Rate (WER)=%{x}<br>Diarization Error Rate (DER)=%{y}<br>Experiment=%{customdata[1]}<extra></extra>",
         "legendgroup": "S313",
         "marker": {
          "color": "#EF553B",
          "size": 10,
          "symbol": "circle"
         },
         "mode": "markers",
         "name": "S313",
         "orientation": "v",
         "showlegend": true,
         "type": "scatter",
         "x": [
          0.0194
         ],
         "xaxis": "x",
         "y": [
          0.0359
         ],
         "yaxis": "y"
        }
       ],
       "layout": {
        "legend": {
         "title": {
          "text": "Filename"
         },
         "tracegroupgap": 0
        },
        "showlegend": false,
        "template": {
         "data": {
          "bar": [
           {
            "error_x": {
             "color": "#2a3f5f"
            },
            "error_y": {
             "color": "#2a3f5f"
            },
            "marker": {
             "line": {
              "color": "#E5ECF6",
              "width": 0.5
             },
             "pattern": {
              "fillmode": "overlay",
              "size": 10,
              "solidity": 0.2
             }
            },
            "type": "bar"
           }
          ],
          "barpolar": [
           {
            "marker": {
             "line": {
              "color": "#E5ECF6",
              "width": 0.5
             },
             "pattern": {
              "fillmode": "overlay",
              "size": 10,
              "solidity": 0.2
             }
            },
            "type": "barpolar"
           }
          ],
          "carpet": [
           {
            "aaxis": {
             "endlinecolor": "#2a3f5f",
             "gridcolor": "white",
             "linecolor": "white",
             "minorgridcolor": "white",
             "startlinecolor": "#2a3f5f"
            },
            "baxis": {
             "endlinecolor": "#2a3f5f",
             "gridcolor": "white",
             "linecolor": "white",
             "minorgridcolor": "white",
             "startlinecolor": "#2a3f5f"
            },
            "type": "carpet"
           }
          ],
          "choropleth": [
           {
            "colorbar": {
             "outlinewidth": 0,
             "ticks": ""
            },
            "type": "choropleth"
           }
          ],
          "contour": [
           {
            "colorbar": {
             "outlinewidth": 0,
             "ticks": ""
            },
            "colorscale": [
             [
              0,
              "#0d0887"
             ],
             [
              0.1111111111111111,
              "#46039f"
             ],
             [
              0.2222222222222222,
              "#7201a8"
             ],
             [
              0.3333333333333333,
              "#9c179e"
             ],
             [
              0.4444444444444444,
              "#bd3786"
             ],
             [
              0.5555555555555556,
              "#d8576b"
             ],
             [
              0.6666666666666666,
              "#ed7953"
             ],
             [
              0.7777777777777778,
              "#fb9f3a"
             ],
             [
              0.8888888888888888,
              "#fdca26"
             ],
             [
              1,
              "#f0f921"
             ]
            ],
            "type": "contour"
           }
          ],
          "contourcarpet": [
           {
            "colorbar": {
             "outlinewidth": 0,
             "ticks": ""
            },
            "type": "contourcarpet"
           }
          ],
          "heatmap": [
           {
            "colorbar": {
             "outlinewidth": 0,
             "ticks": ""
            },
            "colorscale": [
             [
              0,
              "#0d0887"
             ],
             [
              0.1111111111111111,
              "#46039f"
             ],
             [
              0.2222222222222222,
              "#7201a8"
             ],
             [
              0.3333333333333333,
              "#9c179e"
             ],
             [
              0.4444444444444444,
              "#bd3786"
             ],
             [
              0.5555555555555556,
              "#d8576b"
             ],
             [
              0.6666666666666666,
              "#ed7953"
             ],
             [
              0.7777777777777778,
              "#fb9f3a"
             ],
             [
              0.8888888888888888,
              "#fdca26"
             ],
             [
              1,
              "#f0f921"
             ]
            ],
            "type": "heatmap"
           }
          ],
          "heatmapgl": [
           {
            "colorbar": {
             "outlinewidth": 0,
             "ticks": ""
            },
            "colorscale": [
             [
              0,
              "#0d0887"
             ],
             [
              0.1111111111111111,
              "#46039f"
             ],
             [
              0.2222222222222222,
              "#7201a8"
             ],
             [
              0.3333333333333333,
              "#9c179e"
             ],
             [
              0.4444444444444444,
              "#bd3786"
             ],
             [
              0.5555555555555556,
              "#d8576b"
             ],
             [
              0.6666666666666666,
              "#ed7953"
             ],
             [
              0.7777777777777778,
              "#fb9f3a"
             ],
             [
              0.8888888888888888,
              "#fdca26"
             ],
             [
              1,
              "#f0f921"
             ]
            ],
            "type": "heatmapgl"
           }
          ],
          "histogram": [
           {
            "marker": {
             "pattern": {
              "fillmode": "overlay",
              "size": 10,
              "solidity": 0.2
             }
            },
            "type": "histogram"
           }
          ],
          "histogram2d": [
           {
            "colorbar": {
             "outlinewidth": 0,
             "ticks": ""
            },
            "colorscale": [
             [
              0,
              "#0d0887"
             ],
             [
              0.1111111111111111,
              "#46039f"
             ],
             [
              0.2222222222222222,
              "#7201a8"
             ],
             [
              0.3333333333333333,
              "#9c179e"
             ],
             [
              0.4444444444444444,
              "#bd3786"
             ],
             [
              0.5555555555555556,
              "#d8576b"
             ],
             [
              0.6666666666666666,
              "#ed7953"
             ],
             [
              0.7777777777777778,
              "#fb9f3a"
             ],
             [
              0.8888888888888888,
              "#fdca26"
             ],
             [
              1,
              "#f0f921"
             ]
            ],
            "type": "histogram2d"
           }
          ],
          "histogram2dcontour": [
           {
            "colorbar": {
             "outlinewidth": 0,
             "ticks": ""
            },
            "colorscale": [
             [
              0,
              "#0d0887"
             ],
             [
              0.1111111111111111,
              "#46039f"
             ],
             [
              0.2222222222222222,
              "#7201a8"
             ],
             [
              0.3333333333333333,
              "#9c179e"
             ],
             [
              0.4444444444444444,
              "#bd3786"
             ],
             [
              0.5555555555555556,
              "#d8576b"
             ],
             [
              0.6666666666666666,
              "#ed7953"
             ],
             [
              0.7777777777777778,
              "#fb9f3a"
             ],
             [
              0.8888888888888888,
              "#fdca26"
             ],
             [
              1,
              "#f0f921"
             ]
            ],
            "type": "histogram2dcontour"
           }
          ],
          "mesh3d": [
           {
            "colorbar": {
             "outlinewidth": 0,
             "ticks": ""
            },
            "type": "mesh3d"
           }
          ],
          "parcoords": [
           {
            "line": {
             "colorbar": {
              "outlinewidth": 0,
              "ticks": ""
             }
            },
            "type": "parcoords"
           }
          ],
          "pie": [
           {
            "automargin": true,
            "type": "pie"
           }
          ],
          "scatter": [
           {
            "fillpattern": {
             "fillmode": "overlay",
             "size": 10,
             "solidity": 0.2
            },
            "type": "scatter"
           }
          ],
          "scatter3d": [
           {
            "line": {
             "colorbar": {
              "outlinewidth": 0,
              "ticks": ""
             }
            },
            "marker": {
             "colorbar": {
              "outlinewidth": 0,
              "ticks": ""
             }
            },
            "type": "scatter3d"
           }
          ],
          "scattercarpet": [
           {
            "marker": {
             "colorbar": {
              "outlinewidth": 0,
              "ticks": ""
             }
            },
            "type": "scattercarpet"
           }
          ],
          "scattergeo": [
           {
            "marker": {
             "colorbar": {
              "outlinewidth": 0,
              "ticks": ""
             }
            },
            "type": "scattergeo"
           }
          ],
          "scattergl": [
           {
            "marker": {
             "colorbar": {
              "outlinewidth": 0,
              "ticks": ""
             }
            },
            "type": "scattergl"
           }
          ],
          "scattermapbox": [
           {
            "marker": {
             "colorbar": {
              "outlinewidth": 0,
              "ticks": ""
             }
            },
            "type": "scattermapbox"
           }
          ],
          "scatterpolar": [
           {
            "marker": {
             "colorbar": {
              "outlinewidth": 0,
              "ticks": ""
             }
            },
            "type": "scatterpolar"
           }
          ],
          "scatterpolargl": [
           {
            "marker": {
             "colorbar": {
              "outlinewidth": 0,
              "ticks": ""
             }
            },
            "type": "scatterpolargl"
           }
          ],
          "scatterternary": [
           {
            "marker": {
             "colorbar": {
              "outlinewidth": 0,
              "ticks": ""
             }
            },
            "type": "scatterternary"
           }
          ],
          "surface": [
           {
            "colorbar": {
             "outlinewidth": 0,
             "ticks": ""
            },
            "colorscale": [
             [
              0,
              "#0d0887"
             ],
             [
              0.1111111111111111,
              "#46039f"
             ],
             [
              0.2222222222222222,
              "#7201a8"
             ],
             [
              0.3333333333333333,
              "#9c179e"
             ],
             [
              0.4444444444444444,
              "#bd3786"
             ],
             [
              0.5555555555555556,
              "#d8576b"
             ],
             [
              0.6666666666666666,
              "#ed7953"
             ],
             [
              0.7777777777777778,
              "#fb9f3a"
             ],
             [
              0.8888888888888888,
              "#fdca26"
             ],
             [
              1,
              "#f0f921"
             ]
            ],
            "type": "surface"
           }
          ],
          "table": [
           {
            "cells": {
             "fill": {
              "color": "#EBF0F8"
             },
             "line": {
              "color": "white"
             }
            },
            "header": {
             "fill": {
              "color": "#C8D4E3"
             },
             "line": {
              "color": "white"
             }
            },
            "type": "table"
           }
          ]
         },
         "layout": {
          "annotationdefaults": {
           "arrowcolor": "#2a3f5f",
           "arrowhead": 0,
           "arrowwidth": 1
          },
          "autotypenumbers": "strict",
          "coloraxis": {
           "colorbar": {
            "outlinewidth": 0,
            "ticks": ""
           }
          },
          "colorscale": {
           "diverging": [
            [
             0,
             "#8e0152"
            ],
            [
             0.1,
             "#c51b7d"
            ],
            [
             0.2,
             "#de77ae"
            ],
            [
             0.3,
             "#f1b6da"
            ],
            [
             0.4,
             "#fde0ef"
            ],
            [
             0.5,
             "#f7f7f7"
            ],
            [
             0.6,
             "#e6f5d0"
            ],
            [
             0.7,
             "#b8e186"
            ],
            [
             0.8,
             "#7fbc41"
            ],
            [
             0.9,
             "#4d9221"
            ],
            [
             1,
             "#276419"
            ]
           ],
           "sequential": [
            [
             0,
             "#0d0887"
            ],
            [
             0.1111111111111111,
             "#46039f"
            ],
            [
             0.2222222222222222,
             "#7201a8"
            ],
            [
             0.3333333333333333,
             "#9c179e"
            ],
            [
             0.4444444444444444,
             "#bd3786"
            ],
            [
             0.5555555555555556,
             "#d8576b"
            ],
            [
             0.6666666666666666,
             "#ed7953"
            ],
            [
             0.7777777777777778,
             "#fb9f3a"
            ],
            [
             0.8888888888888888,
             "#fdca26"
            ],
            [
             1,
             "#f0f921"
            ]
           ],
           "sequentialminus": [
            [
             0,
             "#0d0887"
            ],
            [
             0.1111111111111111,
             "#46039f"
            ],
            [
             0.2222222222222222,
             "#7201a8"
            ],
            [
             0.3333333333333333,
             "#9c179e"
            ],
            [
             0.4444444444444444,
             "#bd3786"
            ],
            [
             0.5555555555555556,
             "#d8576b"
            ],
            [
             0.6666666666666666,
             "#ed7953"
            ],
            [
             0.7777777777777778,
             "#fb9f3a"
            ],
            [
             0.8888888888888888,
             "#fdca26"
            ],
            [
             1,
             "#f0f921"
            ]
           ]
          },
          "colorway": [
           "#636efa",
           "#EF553B",
           "#00cc96",
           "#ab63fa",
           "#FFA15A",
           "#19d3f3",
           "#FF6692",
           "#B6E880",
           "#FF97FF",
           "#FECB52"
          ],
          "font": {
           "color": "#2a3f5f"
          },
          "geo": {
           "bgcolor": "white",
           "lakecolor": "white",
           "landcolor": "#E5ECF6",
           "showlakes": true,
           "showland": true,
           "subunitcolor": "white"
          },
          "hoverlabel": {
           "align": "left"
          },
          "hovermode": "closest",
          "mapbox": {
           "style": "light"
          },
          "paper_bgcolor": "white",
          "plot_bgcolor": "#E5ECF6",
          "polar": {
           "angularaxis": {
            "gridcolor": "white",
            "linecolor": "white",
            "ticks": ""
           },
           "bgcolor": "#E5ECF6",
           "radialaxis": {
            "gridcolor": "white",
            "linecolor": "white",
            "ticks": ""
           }
          },
          "scene": {
           "xaxis": {
            "backgroundcolor": "#E5ECF6",
            "gridcolor": "white",
            "gridwidth": 2,
            "linecolor": "white",
            "showbackground": true,
            "ticks": "",
            "zerolinecolor": "white"
           },
           "yaxis": {
            "backgroundcolor": "#E5ECF6",
            "gridcolor": "white",
            "gridwidth": 2,
            "linecolor": "white",
            "showbackground": true,
            "ticks": "",
            "zerolinecolor": "white"
           },
           "zaxis": {
            "backgroundcolor": "#E5ECF6",
            "gridcolor": "white",
            "gridwidth": 2,
            "linecolor": "white",
            "showbackground": true,
            "ticks": "",
            "zerolinecolor": "white"
           }
          },
          "shapedefaults": {
           "line": {
            "color": "#2a3f5f"
           }
          },
          "ternary": {
           "aaxis": {
            "gridcolor": "white",
            "linecolor": "white",
            "ticks": ""
           },
           "baxis": {
            "gridcolor": "white",
            "linecolor": "white",
            "ticks": ""
           },
           "bgcolor": "#E5ECF6",
           "caxis": {
            "gridcolor": "white",
            "linecolor": "white",
            "ticks": ""
           }
          },
          "title": {
           "x": 0.05
          },
          "xaxis": {
           "automargin": true,
           "gridcolor": "white",
           "linecolor": "white",
           "ticks": "",
           "title": {
            "standoff": 15
           },
           "zerolinecolor": "white",
           "zerolinewidth": 2
          },
          "yaxis": {
           "automargin": true,
           "gridcolor": "white",
           "linecolor": "white",
           "ticks": "",
           "title": {
            "standoff": 15
           },
           "zerolinecolor": "white",
           "zerolinewidth": 2
          }
         }
        },
        "title": {
         "text": "Interactive Scatter Plot of WER vs. DER"
        },
        "xaxis": {
         "anchor": "y",
         "domain": [
          0,
          1
         ],
         "title": {
          "text": "Word Error Rate (WER)"
         }
        },
        "yaxis": {
         "anchor": "x",
         "domain": [
          0,
          1
         ],
         "title": {
          "text": "Diarization Error Rate (DER)"
         }
        }
       }
      }
     },
     "metadata": {},
     "output_type": "display_data"
    }
   ],
   "source": [
    "plot_boxplots(df, file_name='outputs/images/boxplot_DER_time.png')"
   ]
  },
  {
   "cell_type": "code",
   "execution_count": 12,
   "metadata": {},
   "outputs": [
    {
     "data": {
      "image/png": "[encoded data removed]",
      "text/plain": [
       "<Figure size 1000x600 with 1 Axes>"
      ]
     },
     "metadata": {},
     "output_type": "display_data"
    }
   ],
   "source": [
    "def plot_boxplot_experiment(df):\n",
    "    \"\"\"\n",
    "    Plots box plots for WER and DER, grouped by Experiment.\n",
    "    \n",
    "    Args:\n",
    "        df (pd.DataFrame): DataFrame containing the metrics and Experiment column.\n",
    "    \"\"\"\n",
    "    plt.figure(figsize=(10, 6))\n",
    "    \n",
    "    # Melt the DataFrame for easier plotting with Seaborn\n",
    "    melted_df = df.melt(id_vars=['Filename', 'Experiment'], \n",
    "                        value_vars=['WER', 'DER'], \n",
    "                        var_name='Metric', \n",
    "                        value_name='Value')\n",
    "    \n",
    "    # Create the boxplot with Experiment as hue\n",
    "    sns.boxplot(x='Metric', y='Value', hue='Experiment', data=melted_df, palette='pastel')\n",
    "    sns.stripplot(x='Metric', y='Value', hue='Experiment', data=melted_df, size=4, linewidth=1,dodge=True, jitter=True, legend=False, edgecolor=\"k\")\n",
    "    \n",
    "    plt.ylabel('Error Rate')\n",
    "    plt.xlabel('')\n",
    "    #plt.title('Boxplots of WER and DER by Experiment')\n",
    "    plt.legend(title='Experiment')\n",
    "    plt.tight_layout()\n",
    "    plt.show()\n",
    "\n",
    "plot_boxplot_experiment(df)"
   ]
  },
  {
   "cell_type": "markdown",
   "metadata": {},
   "source": [
    "## Grief & Meditation Comparaison"
   ]
  },
  {
   "cell_type": "code",
   "execution_count": 13,
   "metadata": {},
   "outputs": [],
   "source": [
    "df_g = pd.read_csv('../evaluation/grief_metrics_text.csv')\n",
    "df_m = pd.read_csv('../evaluation/med_metrics_text.csv')"
   ]
  },
  {
   "cell_type": "code",
   "execution_count": 14,
   "metadata": {},
   "outputs": [
    {
     "data": {
      "text/html": [
       "<div>\n",
       "<style scoped>\n",
       "    .dataframe tbody tr th:only-of-type {\n",
       "        vertical-align: middle;\n",
       "    }\n",
       "\n",
       "    .dataframe tbody tr th {\n",
       "        vertical-align: top;\n",
       "    }\n",
       "\n",
       "    .dataframe thead th {\n",
       "        text-align: right;\n",
       "    }\n",
       "</style>\n",
       "<table border=\"1\" class=\"dataframe\">\n",
       "  <thead>\n",
       "    <tr style=\"text-align: right;\">\n",
       "      <th></th>\n",
       "      <th>Filename</th>\n",
       "      <th>WER</th>\n",
       "      <th>DER</th>\n",
       "      <th>Total Words</th>\n",
       "      <th>Deletions</th>\n",
       "      <th>Insertions</th>\n",
       "      <th>Substitutions</th>\n",
       "      <th>Words Confusions</th>\n",
       "      <th>Group</th>\n",
       "    </tr>\n",
       "  </thead>\n",
       "  <tbody>\n",
       "    <tr>\n",
       "      <th>0</th>\n",
       "      <td>ID 05</td>\n",
       "      <td>0.0271</td>\n",
       "      <td>0.117541</td>\n",
       "      <td>1106</td>\n",
       "      <td>1</td>\n",
       "      <td>25</td>\n",
       "      <td>4</td>\n",
       "      <td>130</td>\n",
       "      <td>Meditation</td>\n",
       "    </tr>\n",
       "    <tr>\n",
       "      <th>1</th>\n",
       "      <td>Id 08</td>\n",
       "      <td>0.0229</td>\n",
       "      <td>0.124642</td>\n",
       "      <td>698</td>\n",
       "      <td>1</td>\n",
       "      <td>11</td>\n",
       "      <td>4</td>\n",
       "      <td>87</td>\n",
       "      <td>Meditation</td>\n",
       "    </tr>\n",
       "    <tr>\n",
       "      <th>2</th>\n",
       "      <td>Id 13</td>\n",
       "      <td>0.0236</td>\n",
       "      <td>0.081757</td>\n",
       "      <td>1480</td>\n",
       "      <td>6</td>\n",
       "      <td>27</td>\n",
       "      <td>2</td>\n",
       "      <td>121</td>\n",
       "      <td>Meditation</td>\n",
       "    </tr>\n",
       "    <tr>\n",
       "      <th>3</th>\n",
       "      <td>Id 13b</td>\n",
       "      <td>0.0017</td>\n",
       "      <td>0.019097</td>\n",
       "      <td>576</td>\n",
       "      <td>0</td>\n",
       "      <td>0</td>\n",
       "      <td>1</td>\n",
       "      <td>11</td>\n",
       "      <td>Meditation</td>\n",
       "    </tr>\n",
       "    <tr>\n",
       "      <th>4</th>\n",
       "      <td>Id 14</td>\n",
       "      <td>0.0372</td>\n",
       "      <td>0.039139</td>\n",
       "      <td>511</td>\n",
       "      <td>0</td>\n",
       "      <td>15</td>\n",
       "      <td>4</td>\n",
       "      <td>20</td>\n",
       "      <td>Meditation</td>\n",
       "    </tr>\n",
       "    <tr>\n",
       "      <th>...</th>\n",
       "      <td>...</td>\n",
       "      <td>...</td>\n",
       "      <td>...</td>\n",
       "      <td>...</td>\n",
       "      <td>...</td>\n",
       "      <td>...</td>\n",
       "      <td>...</td>\n",
       "      <td>...</td>\n",
       "      <td>...</td>\n",
       "    </tr>\n",
       "    <tr>\n",
       "      <th>85</th>\n",
       "      <td>ADE_pilot_006_merged</td>\n",
       "      <td>0.0251</td>\n",
       "      <td>0.032703</td>\n",
       "      <td>7461</td>\n",
       "      <td>61</td>\n",
       "      <td>72</td>\n",
       "      <td>54</td>\n",
       "      <td>244</td>\n",
       "      <td>Grief</td>\n",
       "    </tr>\n",
       "    <tr>\n",
       "      <th>86</th>\n",
       "      <td>ADE_pilot_007_merged</td>\n",
       "      <td>0.0081</td>\n",
       "      <td>0.013486</td>\n",
       "      <td>9491</td>\n",
       "      <td>22</td>\n",
       "      <td>23</td>\n",
       "      <td>32</td>\n",
       "      <td>128</td>\n",
       "      <td>Grief</td>\n",
       "    </tr>\n",
       "    <tr>\n",
       "      <th>87</th>\n",
       "      <td>ADE_pilot_008_merged</td>\n",
       "      <td>0.0083</td>\n",
       "      <td>0.019510</td>\n",
       "      <td>14198</td>\n",
       "      <td>39</td>\n",
       "      <td>51</td>\n",
       "      <td>28</td>\n",
       "      <td>277</td>\n",
       "      <td>Grief</td>\n",
       "    </tr>\n",
       "    <tr>\n",
       "      <th>88</th>\n",
       "      <td>ADE_pilot_009_merged</td>\n",
       "      <td>0.0159</td>\n",
       "      <td>0.017572</td>\n",
       "      <td>10642</td>\n",
       "      <td>78</td>\n",
       "      <td>54</td>\n",
       "      <td>37</td>\n",
       "      <td>187</td>\n",
       "      <td>Grief</td>\n",
       "    </tr>\n",
       "    <tr>\n",
       "      <th>89</th>\n",
       "      <td>ADE_pilot_012_merged</td>\n",
       "      <td>0.0196</td>\n",
       "      <td>0.000600</td>\n",
       "      <td>23336</td>\n",
       "      <td>115</td>\n",
       "      <td>166</td>\n",
       "      <td>176</td>\n",
       "      <td>14</td>\n",
       "      <td>Grief</td>\n",
       "    </tr>\n",
       "  </tbody>\n",
       "</table>\n",
       "<p>90 rows × 9 columns</p>\n",
       "</div>"
      ],
      "text/plain": [
       "                Filename     WER       DER  Total Words  Deletions  \\\n",
       "0                  ID 05  0.0271  0.117541         1106          1   \n",
       "1                  Id 08  0.0229  0.124642          698          1   \n",
       "2                  Id 13  0.0236  0.081757         1480          6   \n",
       "3                 Id 13b  0.0017  0.019097          576          0   \n",
       "4                  Id 14  0.0372  0.039139          511          0   \n",
       "..                   ...     ...       ...          ...        ...   \n",
       "85  ADE_pilot_006_merged  0.0251  0.032703         7461         61   \n",
       "86  ADE_pilot_007_merged  0.0081  0.013486         9491         22   \n",
       "87  ADE_pilot_008_merged  0.0083  0.019510        14198         39   \n",
       "88  ADE_pilot_009_merged  0.0159  0.017572        10642         78   \n",
       "89  ADE_pilot_012_merged  0.0196  0.000600        23336        115   \n",
       "\n",
       "    Insertions  Substitutions  Words Confusions       Group  \n",
       "0           25              4               130  Meditation  \n",
       "1           11              4                87  Meditation  \n",
       "2           27              2               121  Meditation  \n",
       "3            0              1                11  Meditation  \n",
       "4           15              4                20  Meditation  \n",
       "..         ...            ...               ...         ...  \n",
       "85          72             54               244       Grief  \n",
       "86          23             32               128       Grief  \n",
       "87          51             28               277       Grief  \n",
       "88          54             37               187       Grief  \n",
       "89         166            176                14       Grief  \n",
       "\n",
       "[90 rows x 9 columns]"
      ]
     },
     "execution_count": 14,
     "metadata": {},
     "output_type": "execute_result"
    }
   ],
   "source": [
    "df_g[\"Group\"] = \"Grief\"\n",
    "df_m[\"Group\"] = \"Meditation\"\n",
    "\n",
    "# Concatenate the two DataFrames\n",
    "df_text = pd.concat([df_m, df_g], ignore_index=True)\n",
    "df_text"
   ]
  },
  {
   "cell_type": "code",
   "execution_count": null,
   "metadata": {},
   "outputs": [
    {
     "name": "stdout",
     "output_type": "stream",
     "text": [
      "Median Values:\n",
      "  DER: 0.019\n",
      "  WER: 0.020\n"
     ]
    },
    {
     "data": {
      "image/png": "[encoded data removed]",
      "text/plain": [
       "<Figure size 800x400 with 1 Axes>"
      ]
     },
     "metadata": {},
     "output_type": "display_data"
    }
   ],
   "source": [
    "plot_boxplots(df_g,title=\"Grief Text\", file_name=\"outputs/images/grief_text_boxplot.png\")"
   ]
  },
  {
   "cell_type": "code",
   "execution_count": null,
   "metadata": {},
   "outputs": [
    {
     "name": "stdout",
     "output_type": "stream",
     "text": [
      "Median Values:\n",
      "  DER: 0.139\n",
      "  WER: 0.027\n"
     ]
    },
    {
     "data": {
      "image/png": "[encoded data removed]",
      "text/plain": [
       "<Figure size 800x400 with 1 Axes>"
      ]
     },
     "metadata": {},
     "output_type": "display_data"
    }
   ],
   "source": [
    "plot_boxplots(df_m,title=\"Meditation Text\", file_name=\"outputs/images/med_text_boxplot.png\")"
   ]
  },
  {
   "cell_type": "code",
   "execution_count": 17,
   "metadata": {},
   "outputs": [],
   "source": [
    "def plot_boxplots_group(df, tittle=None, file_name=None):\n",
    "    \"\"\"\n",
    "    Plots two boxplots in subplots for WER and DER, grouped by the 'Group' column.\n",
    "    \n",
    "    Args:\n",
    "        df (pd.DataFrame): DataFrame containing the metrics.\n",
    "    \"\"\"\n",
    "    # Melt the DataFrame for easier plotting with Seaborn\n",
    "    melted_df = df.melt(\n",
    "        id_vars=['Filename', 'Group'], \n",
    "        value_vars=['WER', 'DER'], \n",
    "        var_name='Metric', \n",
    "        value_name='Value',\n",
    "    )\n",
    "    \n",
    "    # Calculate medians grouped by Metric and Group\n",
    "    medians = melted_df.groupby(['Metric', 'Group'])['Value'].median()\n",
    "    print(\"Median Values:\")\n",
    "    print(\"-\" * 50)\n",
    "    print(medians.to_string())\n",
    "\n",
    "    \n",
    "    # Create the subplots\n",
    "    fig, axes = plt.subplots(2, 1, figsize=(8, 10), sharey=False)\n",
    "    \n",
    "    # Plot WER boxplot\n",
    "    sns.boxplot(\n",
    "        ax=axes[0],\n",
    "        x='Group', y='Value', \n",
    "        data=melted_df[melted_df['Metric'] == 'WER'], \n",
    "        hue='Group'\n",
    "    )\n",
    "    axes[0].set_title('WER by Dataset')\n",
    "    axes[0].set_ylabel('WER')\n",
    "    axes[0].set_xlabel('')\n",
    "    \n",
    "    # Plot DER boxplot\n",
    "    sns.boxplot(\n",
    "        ax=axes[1],\n",
    "        x='Group', y='Value', \n",
    "        data=melted_df[melted_df['Metric'] == 'DER'], \n",
    "        hue='Group'\n",
    "    )\n",
    "    axes[1].set_title('DER by Group')\n",
    "    axes[1].set_ylabel('DER')\n",
    "    axes[1].set_xlabel('')\n",
    "\n",
    "    if tittle:\n",
    "        fig.suptitle(tittle, fontsize=16)\n",
    "    \n",
    "    # Adjust layout\n",
    "    plt.tight_layout()\n",
    "    if file_name:\n",
    "        plt.savefig(file_name, dpi=600)\n",
    "    plt.show()"
   ]
  },
  {
   "cell_type": "code",
   "execution_count": null,
   "metadata": {},
   "outputs": [
    {
     "name": "stdout",
     "output_type": "stream",
     "text": [
      "Median Values:\n",
      "--------------------------------------------------\n",
      "Metric  Group     \n",
      "DER     Grief         0.018541\n",
      "        Meditation    0.139089\n",
      "WER     Grief         0.019950\n",
      "        Meditation    0.026550\n"
     ]
    },
    {
     "data": {
      "image/png": "[encoded data removed]",
      "text/plain": [
       "<Figure size 800x1000 with 2 Axes>"
      ]
     },
     "metadata": {},
     "output_type": "display_data"
    }
   ],
   "source": [
    "plot_boxplots_group(df_text, file_name=\"outputs/images/comparaison_boxplot_2sub.png\")"
   ]
  }
 ],
 "metadata": {
  "kernelspec": {
   "display_name": "basic",
   "language": "python",
   "name": "python3"
  },
  "language_info": {
   "codemirror_mode": {
    "name": "ipython",
    "version": 3
   },
   "file_extension": ".py",
   "mimetype": "text/x-python",
   "name": "python",
   "nbconvert_exporter": "python",
   "pygments_lexer": "ipython3",
   "version": "3.10.15"
  }
 },
 "nbformat": 4,
 "nbformat_minor": 2
}
