{
 "cells": [
  {
   "cell_type": "markdown",
   "metadata": {},
   "source": [
    "# Evaluation of the transcripts: Metrics & time passed to verify"
   ]
  },
  {
   "cell_type": "markdown",
   "metadata": {},
   "source": [
    "- The first part of this notebook is designed to assess the performance of predictions after manual verification. *(Also providing enhanced visual HTML files to help interpret metrics clearly.)*\n",
    "\n",
    "    - After manually verifying transcripts, you can use the verified transcripts as reference (ground truth) data to test the accuracy of various models.\n",
    "    \n",
    "    - **However**, it's essential to note that if the reference file (ground truth) was created by using a model’s predictions as a template the ground truth may carry a bias towards that initial model. *For instance, if a model omitted interruptions or adjusted sentence structure and the verifier found these changes accurate in context, these modifications might remain, unintentionally favoring that model.*\n",
    "\n",
    "- The second part of the notebook focuses on tracking the time spent verifying each transcript. This data allows you to quantify time savings, providing insights into the efficiency of each model based on verification time."
   ]
  },
  {
   "cell_type": "code",
   "execution_count": 5,
   "metadata": {},
   "outputs": [],
   "source": [
    "import pandas as pd\n",
    "import numpy as np\n",
    "import shutil\n",
    "import os\n",
    "\n",
    "import matplotlib.pyplot as plt\n",
    "import plotly.express as px\n",
    "import seaborn as sns\n",
    "sns.set()\n",
    "\n",
    "from utils.evaluation_helpers import process_folder, load_data_time, compute_der\n",
    "from utils.format_helpers import get_files"
   ]
  },
  {
   "cell_type": "markdown",
   "metadata": {},
   "source": [
    "## Predictions vs References: Performance evaluation (ASR & Diarization)"
   ]
  },
  {
   "cell_type": "markdown",
   "metadata": {},
   "source": [
    "### Preparing evaluation folder (Predictions vs References)"
   ]
  },
  {
   "cell_type": "markdown",
   "metadata": {},
   "source": [
    "Usefull if want to test/compare differents models."
   ]
  },
  {
   "cell_type": "code",
   "execution_count": 2,
   "metadata": {},
   "outputs": [],
   "source": [
    "directories = ['../results/Compassion', '../results/OBE1', '../results/OBE2'] # The csv file that you want to compare\n",
    "pred_folder = '../evaluation/predictions' # Specify the name if trying to compare different ASR/Diarization models.\n",
    "\n",
    "def copy_csv_files(directories, pred_folder):\n",
    "    pred_files = []\n",
    "    for directory in directories:\n",
    "        pred_files.append(get_files(directory, 'csv'))\n",
    "    pred_files = [item for sublist in pred_files for item in sublist]\n",
    "\n",
    "    os.makedirs(pred_folder, exist_ok=True)\n",
    "    for file in pred_files:\n",
    "        shutil.copy(file, pred_folder)\n",
    "\n",
    "copy_csv_files(directories, pred_folder)"
   ]
  },
  {
   "cell_type": "markdown",
   "metadata": {},
   "source": [
    "### ASR and Diarization metrics + Visual Tool to easily understand missmatch"
   ]
  },
  {
   "cell_type": "code",
   "execution_count": 3,
   "metadata": {},
   "outputs": [
    {
     "name": "stdout",
     "output_type": "stream",
     "text": [
      "Processing file: ID 05.csv\n",
      "Combined HTML file saved as ../evaluation/predictions\\visual_comparison\\ID 05_Diarization.html\n",
      "Processed file: ID 05.csv\n",
      "Processing file: Id 08.csv\n",
      "Combined HTML file saved as ../evaluation/predictions\\visual_comparison\\Id 08_Diarization.html\n",
      "Processed file: Id 08.csv\n",
      "Processing file: Id 13.csv\n",
      "Combined HTML file saved as ../evaluation/predictions\\visual_comparison\\Id 13_Diarization.html\n",
      "Processed file: Id 13.csv\n",
      "Processing file: Id 13b.csv\n",
      "Combined HTML file saved as ../evaluation/predictions\\visual_comparison\\Id 13b_Diarization.html\n",
      "Processed file: Id 13b.csv\n",
      "Processing file: Id 14.csv\n",
      "Combined HTML file saved as ../evaluation/predictions\\visual_comparison\\Id 14_Diarization.html\n",
      "Processed file: Id 14.csv\n",
      "Processing file: Id 15.csv\n",
      "Combined HTML file saved as ../evaluation/predictions\\visual_comparison\\Id 15_Diarization.html\n",
      "Processed file: Id 15.csv\n",
      "Processing file: Id 16.csv\n",
      "Combined HTML file saved as ../evaluation/predictions\\visual_comparison\\Id 16_Diarization.html\n",
      "Processed file: Id 16.csv\n",
      "Processing file: Id 17.csv\n",
      "Combined HTML file saved as ../evaluation/predictions\\visual_comparison\\Id 17_Diarization.html\n",
      "Processed file: Id 17.csv\n",
      "Processing file: Id 18.csv\n",
      "Combined HTML file saved as ../evaluation/predictions\\visual_comparison\\Id 18_Diarization.html\n",
      "Processed file: Id 18.csv\n",
      "Processing file: Id 19.csv\n",
      "Combined HTML file saved as ../evaluation/predictions\\visual_comparison\\Id 19_Diarization.html\n",
      "Processed file: Id 19.csv\n",
      "Processing file: Id 19b.csv\n",
      "Combined HTML file saved as ../evaluation/predictions\\visual_comparison\\Id 19b_Diarization.html\n",
      "Processed file: Id 19b.csv\n",
      "Processing file: Id 22.csv\n",
      "Combined HTML file saved as ../evaluation/predictions\\visual_comparison\\Id 22_Diarization.html\n",
      "Processed file: Id 22.csv\n",
      "Processing file: Id 23.csv\n",
      "Combined HTML file saved as ../evaluation/predictions\\visual_comparison\\Id 23_Diarization.html\n",
      "Processed file: Id 23.csv\n",
      "Processing file: Id 24.csv\n",
      "Combined HTML file saved as ../evaluation/predictions\\visual_comparison\\Id 24_Diarization.html\n",
      "Processed file: Id 24.csv\n",
      "Processing file: Id 24b.csv\n",
      "Combined HTML file saved as ../evaluation/predictions\\visual_comparison\\Id 24b_Diarization.html\n",
      "Processed file: Id 24b.csv\n",
      "Processing file: Id 7a.csv\n",
      "Combined HTML file saved as ../evaluation/predictions\\visual_comparison\\Id 7a_Diarization.html\n",
      "Processed file: Id 7a.csv\n",
      "Processing file: Id 7b.csv\n",
      "Combined HTML file saved as ../evaluation/predictions\\visual_comparison\\Id 7b_Diarization.html\n",
      "Processed file: Id 7b.csv\n",
      "Processing file: Participant 20 interview.csv\n",
      "Combined HTML file saved as ../evaluation/predictions\\visual_comparison\\Participant 20 interview_Diarization.html\n",
      "Processed file: Participant 20 interview.csv\n",
      "Processing file: S201-1.csv\n",
      "Combined HTML file saved as ../evaluation/predictions\\visual_comparison\\S201-1_Diarization.html\n",
      "Processed file: S201-1.csv\n",
      "Processing file: S201-2.csv\n",
      "Combined HTML file saved as ../evaluation/predictions\\visual_comparison\\S201-2_Diarization.html\n",
      "Processed file: S201-2.csv\n",
      "Processing file: S201-3.csv\n",
      "Combined HTML file saved as ../evaluation/predictions\\visual_comparison\\S201-3_Diarization.html\n",
      "Processed file: S201-3.csv\n",
      "Processing file: S202-1.csv\n",
      "Combined HTML file saved as ../evaluation/predictions\\visual_comparison\\S202-1_Diarization.html\n",
      "Processed file: S202-1.csv\n",
      "Processing file: S203-1.csv\n",
      "Combined HTML file saved as ../evaluation/predictions\\visual_comparison\\S203-1_Diarization.html\n",
      "Processed file: S203-1.csv\n",
      "Processing file: S204-1.csv\n",
      "Combined HTML file saved as ../evaluation/predictions\\visual_comparison\\S204-1_Diarization.html\n",
      "Processed file: S204-1.csv\n",
      "Processing file: S204-2.csv\n",
      "Combined HTML file saved as ../evaluation/predictions\\visual_comparison\\S204-2_Diarization.html\n",
      "Processed file: S204-2.csv\n",
      "Processing file: S205-1.csv\n",
      "Combined HTML file saved as ../evaluation/predictions\\visual_comparison\\S205-1_Diarization.html\n",
      "Processed file: S205-1.csv\n",
      "Processing file: S205-2.csv\n",
      "Combined HTML file saved as ../evaluation/predictions\\visual_comparison\\S205-2_Diarization.html\n",
      "Processed file: S205-2.csv\n",
      "Processing file: S206-1.csv\n",
      "Combined HTML file saved as ../evaluation/predictions\\visual_comparison\\S206-1_Diarization.html\n",
      "Processed file: S206-1.csv\n",
      "Processing file: S206-2.csv\n",
      "Combined HTML file saved as ../evaluation/predictions\\visual_comparison\\S206-2_Diarization.html\n",
      "Processed file: S206-2.csv\n",
      "Processing file: S207-1.csv\n",
      "Combined HTML file saved as ../evaluation/predictions\\visual_comparison\\S207-1_Diarization.html\n",
      "Processed file: S207-1.csv\n",
      "Processing file: S207-2.csv\n",
      "Combined HTML file saved as ../evaluation/predictions\\visual_comparison\\S207-2_Diarization.html\n",
      "Processed file: S207-2.csv\n",
      "Processing file: S208-1.csv\n",
      "Combined HTML file saved as ../evaluation/predictions\\visual_comparison\\S208-1_Diarization.html\n",
      "Processed file: S208-1.csv\n",
      "Processing file: S208-2.csv\n",
      "Combined HTML file saved as ../evaluation/predictions\\visual_comparison\\S208-2_Diarization.html\n",
      "Processed file: S208-2.csv\n",
      "Processing file: S209-1.csv\n",
      "Combined HTML file saved as ../evaluation/predictions\\visual_comparison\\S209-1_Diarization.html\n",
      "Processed file: S209-1.csv\n",
      "Processing file: S209-2.csv\n",
      "Combined HTML file saved as ../evaluation/predictions\\visual_comparison\\S209-2_Diarization.html\n",
      "Processed file: S209-2.csv\n",
      "Processing file: S209-3.csv\n",
      "Combined HTML file saved as ../evaluation/predictions\\visual_comparison\\S209-3_Diarization.html\n",
      "Processed file: S209-3.csv\n",
      "Processing file: S209-4.csv\n",
      "Combined HTML file saved as ../evaluation/predictions\\visual_comparison\\S209-4_Diarization.html\n",
      "Processed file: S209-4.csv\n",
      "Processing file: S210-1.csv\n",
      "Combined HTML file saved as ../evaluation/predictions\\visual_comparison\\S210-1_Diarization.html\n",
      "Processed file: S210-1.csv\n",
      "Processing file: S210-2.csv\n",
      "Combined HTML file saved as ../evaluation/predictions\\visual_comparison\\S210-2_Diarization.html\n",
      "Processed file: S210-2.csv\n",
      "Processing file: S210-3.csv\n",
      "Combined HTML file saved as ../evaluation/predictions\\visual_comparison\\S210-3_Diarization.html\n",
      "Processed file: S210-3.csv\n",
      "Processing file: S211_1.csv\n",
      "Combined HTML file saved as ../evaluation/predictions\\visual_comparison\\S211_1_Diarization.html\n",
      "Processed file: S211_1.csv\n",
      "Processing file: S211_2.csv\n",
      "Combined HTML file saved as ../evaluation/predictions\\visual_comparison\\S211_2_Diarization.html\n",
      "Processed file: S211_2.csv\n",
      "Processing file: S211_3 (partially in french).csv\n",
      "Combined HTML file saved as ../evaluation/predictions\\visual_comparison\\S211_3 (partially in french)_Diarization.html\n",
      "Processed file: S211_3 (partially in french).csv\n",
      "Processing file: S212_1.csv\n",
      "Combined HTML file saved as ../evaluation/predictions\\visual_comparison\\S212_1_Diarization.html\n",
      "Processed file: S212_1.csv\n",
      "Processing file: S212_2.csv\n",
      "Combined HTML file saved as ../evaluation/predictions\\visual_comparison\\S212_2_Diarization.html\n",
      "Processed file: S212_2.csv\n",
      "Processing file: S213_1.csv\n",
      "Combined HTML file saved as ../evaluation/predictions\\visual_comparison\\S213_1_Diarization.html\n",
      "Processed file: S213_1.csv\n",
      "Processing file: S213_2.csv\n",
      "Combined HTML file saved as ../evaluation/predictions\\visual_comparison\\S213_2_Diarization.html\n",
      "Processed file: S213_2.csv\n",
      "Processing file: S214_1.csv\n",
      "Combined HTML file saved as ../evaluation/predictions\\visual_comparison\\S214_1_Diarization.html\n",
      "Processed file: S214_1.csv\n",
      "Processing file: S214_2.csv\n",
      "Combined HTML file saved as ../evaluation/predictions\\visual_comparison\\S214_2_Diarization.html\n",
      "Processed file: S214_2.csv\n",
      "Processing file: S217.csv\n",
      "Combined HTML file saved as ../evaluation/predictions\\visual_comparison\\S217_Diarization.html\n",
      "Processed file: S217.csv\n",
      "Processing file: S218-1.csv\n",
      "Combined HTML file saved as ../evaluation/predictions\\visual_comparison\\S218-1_Diarization.html\n",
      "Processed file: S218-1.csv\n",
      "Processing file: S218-2.csv\n",
      "Combined HTML file saved as ../evaluation/predictions\\visual_comparison\\S218-2_Diarization.html\n",
      "Processed file: S218-2.csv\n",
      "Processing file: S219-1.csv\n",
      "Combined HTML file saved as ../evaluation/predictions\\visual_comparison\\S219-1_Diarization.html\n",
      "Processed file: S219-1.csv\n",
      "Processing file: S219-2.csv\n",
      "Combined HTML file saved as ../evaluation/predictions\\visual_comparison\\S219-2_Diarization.html\n",
      "Processed file: S219-2.csv\n",
      "Processing file: S220-1.csv\n",
      "Combined HTML file saved as ../evaluation/predictions\\visual_comparison\\S220-1_Diarization.html\n",
      "Processed file: S220-1.csv\n",
      "Processing file: S220-2.csv\n",
      "Combined HTML file saved as ../evaluation/predictions\\visual_comparison\\S220-2_Diarization.html\n",
      "Processed file: S220-2.csv\n",
      "Processing file: S222_c.csv\n",
      "Combined HTML file saved as ../evaluation/predictions\\visual_comparison\\S222_c_Diarization.html\n",
      "Processed file: S222_c.csv\n",
      "Processing file: S222_m.csv\n",
      "Combined HTML file saved as ../evaluation/predictions\\visual_comparison\\S222_m_Diarization.html\n",
      "Processed file: S222_m.csv\n",
      "Processing file: S223.csv\n",
      "Combined HTML file saved as ../evaluation/predictions\\visual_comparison\\S223_Diarization.html\n",
      "Processed file: S223.csv\n",
      "Processing file: S225.csv\n",
      "Combined HTML file saved as ../evaluation/predictions\\visual_comparison\\S225_Diarization.html\n",
      "Processed file: S225.csv\n",
      "Processing file: S225[1].csv\n",
      "Combined HTML file saved as ../evaluation/predictions\\visual_comparison\\S225[1]_Diarization.html\n",
      "Processed file: S225[1].csv\n",
      "Processing file: S226.csv\n",
      "Combined HTML file saved as ../evaluation/predictions\\visual_comparison\\S226_Diarization.html\n",
      "Processed file: S226.csv\n",
      "Processing file: S226[1].csv\n",
      "Combined HTML file saved as ../evaluation/predictions\\visual_comparison\\S226[1]_Diarization.html\n",
      "Processed file: S226[1].csv\n",
      "Processing file: S226[2].csv\n",
      "Combined HTML file saved as ../evaluation/predictions\\visual_comparison\\S226[2]_Diarization.html\n",
      "Processed file: S226[2].csv\n",
      "Processing file: S227 control interview.csv\n",
      "Combined HTML file saved as ../evaluation/predictions\\visual_comparison\\S227 control interview_Diarization.html\n",
      "Processed file: S227 control interview.csv\n",
      "Processing file: S227 intervention.csv\n",
      "Combined HTML file saved as ../evaluation/predictions\\visual_comparison\\S227 intervention_Diarization.html\n",
      "Processed file: S227 intervention.csv\n",
      "Processing file: S228 control.csv\n",
      "Combined HTML file saved as ../evaluation/predictions\\visual_comparison\\S228 control_Diarization.html\n",
      "Processed file: S228 control.csv\n",
      "Processing file: S228 intervention.csv\n",
      "Combined HTML file saved as ../evaluation/predictions\\visual_comparison\\S228 intervention_Diarization.html\n",
      "Processed file: S228 intervention.csv\n",
      "Processing file: S229 control.csv\n",
      "Combined HTML file saved as ../evaluation/predictions\\visual_comparison\\S229 control_Diarization.html\n",
      "Processed file: S229 control.csv\n",
      "Processing file: S229 intervention.csv\n",
      "Combined HTML file saved as ../evaluation/predictions\\visual_comparison\\S229 intervention_Diarization.html\n",
      "Processed file: S229 intervention.csv\n",
      "Processing file: S230 control.csv\n",
      "Combined HTML file saved as ../evaluation/predictions\\visual_comparison\\S230 control_Diarization.html\n",
      "Processed file: S230 control.csv\n",
      "Processing file: S230 intervention.csv\n",
      "Combined HTML file saved as ../evaluation/predictions\\visual_comparison\\S230 intervention_Diarization.html\n",
      "Processed file: S230 intervention.csv\n",
      "Processing file: S301final.csv\n",
      "Combined HTML file saved as ../evaluation/predictions\\visual_comparison\\S301final_Diarization.html\n",
      "Processed file: S301final.csv\n",
      "Processing file: S302con.csv\n",
      "Combined HTML file saved as ../evaluation/predictions\\visual_comparison\\S302con_Diarization.html\n",
      "Processed file: S302con.csv\n",
      "Processing file: S302man.csv\n",
      "Combined HTML file saved as ../evaluation/predictions\\visual_comparison\\S302man_Diarization.html\n",
      "Processed file: S302man.csv\n",
      "Processing file: S303con.csv\n",
      "Combined HTML file saved as ../evaluation/predictions\\visual_comparison\\S303con_Diarization.html\n",
      "Processed file: S303con.csv\n",
      "Processing file: S303man.csv\n",
      "Combined HTML file saved as ../evaluation/predictions\\visual_comparison\\S303man_Diarization.html\n",
      "Processed file: S303man.csv\n",
      "Processing file: S304.csv\n",
      "Combined HTML file saved as ../evaluation/predictions\\visual_comparison\\S304_Diarization.html\n",
      "Processed file: S304.csv\n",
      "Processing file: S305con.csv\n",
      "Combined HTML file saved as ../evaluation/predictions\\visual_comparison\\S305con_Diarization.html\n",
      "Processed file: S305con.csv\n",
      "Processing file: S306.csv\n",
      "Combined HTML file saved as ../evaluation/predictions\\visual_comparison\\S306_Diarization.html\n",
      "Processed file: S306.csv\n",
      "Processing file: S307.csv\n",
      "Combined HTML file saved as ../evaluation/predictions\\visual_comparison\\S307_Diarization.html\n",
      "Processed file: S307.csv\n",
      "Processing file: S313.csv\n",
      "Combined HTML file saved as ../evaluation/predictions\\visual_comparison\\S313_Diarization.html\n",
      "Processed file: S313.csv\n"
     ]
    }
   ],
   "source": [
    "prediction_folder = \"../evaluation/predictions\"\n",
    "reference_folder = \"../evaluation/references\"\n",
    "\n",
    "# Provide the original duration of the audio files.\n",
    "# This ensures the diarization error rate (DER) metric accounts for the total audio duration, not just the speech segments detected by the model.\n",
    "# If this information is missing, DER calculations may be inaccurate as they consider only the detected speech intervals, worsening the DER metric.\n",
    "orignal_info = pd.read_csv(\"./outputs/audio_data.csv\")\n",
    "\n",
    "metric = process_folder(prediction_folder, reference_folder, info=orignal_info)\n",
    "metric.to_csv('../evaluation/metrics.csv', index=False)"
   ]
  },
  {
   "cell_type": "markdown",
   "metadata": {},
   "source": [
    "### (Optional) Dialogue DER Analysis in CSV instead than in HTML"
   ]
  },
  {
   "cell_type": "code",
   "execution_count": null,
   "metadata": {},
   "outputs": [],
   "source": [
    "def dialogue_DER(reference_file, prediction_file, output_file):\n",
    "    df_ref, df_pred = load_data_time(reference_file, prediction_file)\n",
    "    dialogue_df, error_durations = compute_der(df_ref, df_pred)\n",
    "\n",
    "    # Display error durations and DER\n",
    "    print(\"\\nError Durations and DER:\")\n",
    "    for key, value in error_durations.items():\n",
    "        if key == 'DER':\n",
    "            print(f\"{key}: {value:.2%}\")\n",
    "        else:\n",
    "            print(f\"{key}: {value:.3f} seconds\")\n",
    "\n",
    "    # Optionally, save the DataFrame to a CSV file\n",
    "    dialogue_df.to_csv(output_file, index=False)"
   ]
  },
  {
   "cell_type": "code",
   "execution_count": null,
   "metadata": {},
   "outputs": [
    {
     "name": "stdout",
     "output_type": "stream",
     "text": [
      "\n",
      "Error Durations and DER:\n",
      "DER: 6.79%\n",
      "Reference Speech Duration: 342.280 seconds\n",
      "Missed Duration: 0.000 seconds\n",
      "False Alarm Duration: 0.000 seconds\n",
      "Confusion Duration: 23.240 seconds\n"
     ]
    }
   ],
   "source": [
    "reference_file = \"../evaluation/references/S301final.csv\"\n",
    "prediction_file = \"../evaluation/predictions/S301final.csv\"\n",
    "output_file = 'dia_S301final_new.csv'\n",
    "\n",
    "dialogue_DER(reference_file, prediction_file, output_file)"
   ]
  },
  {
   "cell_type": "markdown",
   "metadata": {},
   "source": [
    "## Visualize performance metrics"
   ]
  },
  {
   "cell_type": "code",
   "execution_count": 6,
   "metadata": {},
   "outputs": [
    {
     "data": {
      "text/html": [
       "<div>\n",
       "<style scoped>\n",
       "    .dataframe tbody tr th:only-of-type {\n",
       "        vertical-align: middle;\n",
       "    }\n",
       "\n",
       "    .dataframe tbody tr th {\n",
       "        vertical-align: top;\n",
       "    }\n",
       "\n",
       "    .dataframe thead th {\n",
       "        text-align: right;\n",
       "    }\n",
       "</style>\n",
       "<table border=\"1\" class=\"dataframe\">\n",
       "  <thead>\n",
       "    <tr style=\"text-align: right;\">\n",
       "      <th></th>\n",
       "      <th>Filename</th>\n",
       "      <th>WER</th>\n",
       "      <th>DER</th>\n",
       "      <th>Total Words</th>\n",
       "      <th>Deletions</th>\n",
       "      <th>Insertions</th>\n",
       "      <th>Substitutions</th>\n",
       "      <th>Reference Speech Duration</th>\n",
       "      <th>Missed Duration</th>\n",
       "      <th>False Alarm Duration</th>\n",
       "      <th>Confusion Duration</th>\n",
       "      <th>Experiment</th>\n",
       "    </tr>\n",
       "  </thead>\n",
       "  <tbody>\n",
       "    <tr>\n",
       "      <th>0</th>\n",
       "      <td>ID 05</td>\n",
       "      <td>0.0271</td>\n",
       "      <td>0.1156</td>\n",
       "      <td>1106</td>\n",
       "      <td>1</td>\n",
       "      <td>25</td>\n",
       "      <td>4</td>\n",
       "      <td>615.68</td>\n",
       "      <td>4.0</td>\n",
       "      <td>0.0</td>\n",
       "      <td>67.200</td>\n",
       "      <td>OBE1</td>\n",
       "    </tr>\n",
       "    <tr>\n",
       "      <th>1</th>\n",
       "      <td>Id 08</td>\n",
       "      <td>0.0187</td>\n",
       "      <td>0.0564</td>\n",
       "      <td>695</td>\n",
       "      <td>1</td>\n",
       "      <td>8</td>\n",
       "      <td>4</td>\n",
       "      <td>274.65</td>\n",
       "      <td>0.0</td>\n",
       "      <td>0.0</td>\n",
       "      <td>15.500</td>\n",
       "      <td>OBE1</td>\n",
       "    </tr>\n",
       "    <tr>\n",
       "      <th>2</th>\n",
       "      <td>Id 13</td>\n",
       "      <td>0.0230</td>\n",
       "      <td>0.0657</td>\n",
       "      <td>1479</td>\n",
       "      <td>6</td>\n",
       "      <td>27</td>\n",
       "      <td>1</td>\n",
       "      <td>439.70</td>\n",
       "      <td>0.0</td>\n",
       "      <td>0.0</td>\n",
       "      <td>28.880</td>\n",
       "      <td>OBE1</td>\n",
       "    </tr>\n",
       "    <tr>\n",
       "      <th>3</th>\n",
       "      <td>Id 13b</td>\n",
       "      <td>0.0017</td>\n",
       "      <td>0.0541</td>\n",
       "      <td>576</td>\n",
       "      <td>0</td>\n",
       "      <td>0</td>\n",
       "      <td>1</td>\n",
       "      <td>201.60</td>\n",
       "      <td>0.0</td>\n",
       "      <td>0.0</td>\n",
       "      <td>10.900</td>\n",
       "      <td>OBE1</td>\n",
       "    </tr>\n",
       "    <tr>\n",
       "      <th>4</th>\n",
       "      <td>Id 14</td>\n",
       "      <td>0.0317</td>\n",
       "      <td>0.0568</td>\n",
       "      <td>505</td>\n",
       "      <td>1</td>\n",
       "      <td>9</td>\n",
       "      <td>6</td>\n",
       "      <td>172.97</td>\n",
       "      <td>0.0</td>\n",
       "      <td>0.0</td>\n",
       "      <td>9.820</td>\n",
       "      <td>OBE1</td>\n",
       "    </tr>\n",
       "    <tr>\n",
       "      <th>...</th>\n",
       "      <td>...</td>\n",
       "      <td>...</td>\n",
       "      <td>...</td>\n",
       "      <td>...</td>\n",
       "      <td>...</td>\n",
       "      <td>...</td>\n",
       "      <td>...</td>\n",
       "      <td>...</td>\n",
       "      <td>...</td>\n",
       "      <td>...</td>\n",
       "      <td>...</td>\n",
       "      <td>...</td>\n",
       "    </tr>\n",
       "    <tr>\n",
       "      <th>77</th>\n",
       "      <td>S304</td>\n",
       "      <td>0.0266</td>\n",
       "      <td>0.1214</td>\n",
       "      <td>1203</td>\n",
       "      <td>5</td>\n",
       "      <td>21</td>\n",
       "      <td>6</td>\n",
       "      <td>425.92</td>\n",
       "      <td>0.0</td>\n",
       "      <td>0.0</td>\n",
       "      <td>51.699</td>\n",
       "      <td>Compassion</td>\n",
       "    </tr>\n",
       "    <tr>\n",
       "      <th>78</th>\n",
       "      <td>S305con</td>\n",
       "      <td>0.1518</td>\n",
       "      <td>0.0148</td>\n",
       "      <td>191</td>\n",
       "      <td>0</td>\n",
       "      <td>29</td>\n",
       "      <td>0</td>\n",
       "      <td>101.10</td>\n",
       "      <td>1.0</td>\n",
       "      <td>0.0</td>\n",
       "      <td>0.500</td>\n",
       "      <td>Compassion</td>\n",
       "    </tr>\n",
       "    <tr>\n",
       "      <th>79</th>\n",
       "      <td>S306</td>\n",
       "      <td>0.0097</td>\n",
       "      <td>0.0780</td>\n",
       "      <td>1450</td>\n",
       "      <td>1</td>\n",
       "      <td>3</td>\n",
       "      <td>10</td>\n",
       "      <td>530.71</td>\n",
       "      <td>0.0</td>\n",
       "      <td>0.0</td>\n",
       "      <td>41.400</td>\n",
       "      <td>Compassion</td>\n",
       "    </tr>\n",
       "    <tr>\n",
       "      <th>80</th>\n",
       "      <td>S307</td>\n",
       "      <td>0.0272</td>\n",
       "      <td>0.1578</td>\n",
       "      <td>734</td>\n",
       "      <td>3</td>\n",
       "      <td>4</td>\n",
       "      <td>13</td>\n",
       "      <td>375.70</td>\n",
       "      <td>0.0</td>\n",
       "      <td>0.0</td>\n",
       "      <td>59.300</td>\n",
       "      <td>Compassion</td>\n",
       "    </tr>\n",
       "    <tr>\n",
       "      <th>81</th>\n",
       "      <td>S313</td>\n",
       "      <td>0.0194</td>\n",
       "      <td>0.0359</td>\n",
       "      <td>1441</td>\n",
       "      <td>3</td>\n",
       "      <td>3</td>\n",
       "      <td>22</td>\n",
       "      <td>576.62</td>\n",
       "      <td>0.0</td>\n",
       "      <td>0.0</td>\n",
       "      <td>20.680</td>\n",
       "      <td>Compassion</td>\n",
       "    </tr>\n",
       "  </tbody>\n",
       "</table>\n",
       "<p>82 rows × 12 columns</p>\n",
       "</div>"
      ],
      "text/plain": [
       "   Filename     WER     DER  Total Words  Deletions  Insertions  \\\n",
       "0     ID 05  0.0271  0.1156         1106          1          25   \n",
       "1     Id 08  0.0187  0.0564          695          1           8   \n",
       "2     Id 13  0.0230  0.0657         1479          6          27   \n",
       "3    Id 13b  0.0017  0.0541          576          0           0   \n",
       "4     Id 14  0.0317  0.0568          505          1           9   \n",
       "..      ...     ...     ...          ...        ...         ...   \n",
       "77     S304  0.0266  0.1214         1203          5          21   \n",
       "78  S305con  0.1518  0.0148          191          0          29   \n",
       "79     S306  0.0097  0.0780         1450          1           3   \n",
       "80     S307  0.0272  0.1578          734          3           4   \n",
       "81     S313  0.0194  0.0359         1441          3           3   \n",
       "\n",
       "    Substitutions  Reference Speech Duration  Missed Duration  \\\n",
       "0               4                     615.68              4.0   \n",
       "1               4                     274.65              0.0   \n",
       "2               1                     439.70              0.0   \n",
       "3               1                     201.60              0.0   \n",
       "4               6                     172.97              0.0   \n",
       "..            ...                        ...              ...   \n",
       "77              6                     425.92              0.0   \n",
       "78              0                     101.10              1.0   \n",
       "79             10                     530.71              0.0   \n",
       "80             13                     375.70              0.0   \n",
       "81             22                     576.62              0.0   \n",
       "\n",
       "    False Alarm Duration  Confusion Duration  Experiment  \n",
       "0                    0.0              67.200        OBE1  \n",
       "1                    0.0              15.500        OBE1  \n",
       "2                    0.0              28.880        OBE1  \n",
       "3                    0.0              10.900        OBE1  \n",
       "4                    0.0               9.820        OBE1  \n",
       "..                   ...                 ...         ...  \n",
       "77                   0.0              51.699  Compassion  \n",
       "78                   0.0               0.500  Compassion  \n",
       "79                   0.0              41.400  Compassion  \n",
       "80                   0.0              59.300  Compassion  \n",
       "81                   0.0              20.680  Compassion  \n",
       "\n",
       "[82 rows x 12 columns]"
      ]
     },
     "execution_count": 6,
     "metadata": {},
     "output_type": "execute_result"
    }
   ],
   "source": [
    "# Create a mapping of Filename to Experiment\n",
    "df_audio = pd.read_csv('./outputs/audio_data.csv')\n",
    "filename_to_experiment = dict(zip(df_audio['File_name'],df_audio['Experiment']))\n",
    "\n",
    "df = pd.read_csv('../evaluation/metrics.csv')\n",
    "df['Experiment'] = df['Filename'].map(filename_to_experiment)\n",
    "df"
   ]
  },
  {
   "cell_type": "code",
   "execution_count": 7,
   "metadata": {},
   "outputs": [],
   "source": [
    "def plot_histograms(df):\n",
    "    \"\"\"\n",
    "    Plots histograms for WER and DER distributions.\n",
    "    \n",
    "    Args:\n",
    "        df (pd.DataFrame): DataFrame containing the metrics.\n",
    "    \"\"\"\n",
    "    plt.figure(figsize=(12, 6))\n",
    "\n",
    "    # Define bins dynamically based on the maximum values in the data\n",
    "    wer_max = df['WER'].max()\n",
    "    der_max = df['DER'].max()\n",
    "    \n",
    "    wer_bins = np.arange(0, wer_max + 0.05, 0.05)  # Bins for WER\n",
    "    der_bins = np.arange(0, der_max + 0.05, 0.05)  # Bins for DER\n",
    "    \n",
    "    # Histogram for WER\n",
    "    plt.subplot(1, 2, 1)\n",
    "    ax1 = sns.histplot(df['WER'], bins=wer_bins, kde=True, color='skyblue')\n",
    "    plt.xlabel('Word Error Rate (WER)')\n",
    "    #plt.title('Distribution of WER')\n",
    "    plt.xticks(np.arange(0, wer_max + 0.1, 0.1))  # X-ticks at 10% intervals\n",
    "\n",
    "    # Annotate each bar with percentage\n",
    "    for p in ax1.patches:\n",
    "        height = p.get_height()\n",
    "        if height > 0:\n",
    "            percentage = (height / df['WER'].shape[0]) * 100\n",
    "            ax1.annotate(f'{percentage:.1f}%', \n",
    "                         (p.get_x() + p.get_width() / 2., height),\n",
    "                         ha='center', va='bottom', fontsize=10, color='black')\n",
    "    \n",
    "    # Histogram for DER\n",
    "    plt.subplot(1, 2, 2)\n",
    "    ax2 = sns.histplot(df['DER'], bins=der_bins, kde=True, color='salmon')\n",
    "    plt.xlabel('Diarization Error Rate (DER)')\n",
    "    #plt.title('Distribution of DER')\n",
    "    plt.xticks(np.arange(0, der_max + 0.1, 0.1))  # X-ticks at 10% intervals\n",
    "\n",
    "    # Annotate each bar with percentage\n",
    "    for p in ax2.patches:\n",
    "        height = p.get_height()\n",
    "        if height > 0:\n",
    "            percentage = (height / df['DER'].shape[0]) * 100\n",
    "            ax2.annotate(f'{percentage:.1f}%', \n",
    "                         (p.get_x() + p.get_width() / 2., height),\n",
    "                         ha='center', va='bottom', fontsize=10, color='black')\n",
    "    \n",
    "    plt.tight_layout()\n",
    "    plt.show()\n",
    "\n",
    "def plot_boxplots(df):\n",
    "    \"\"\"\n",
    "    Plots box plots for WER and DER.\n",
    "    \n",
    "    Args:\n",
    "        df (pd.DataFrame): DataFrame containing the metrics.\n",
    "    \"\"\"\n",
    "    plt.figure(figsize=(8, 4))\n",
    "    \n",
    "    # Melt the DataFrame for easier plotting with Seaborn\n",
    "    melted_df = df.melt(id_vars='Filename', value_vars=['WER', 'DER'], var_name='Metric', value_name='Value')\n",
    "    sns.boxplot(x='Metric', y='Value',hue=\"Metric\" ,data=melted_df, palette=['skyblue', 'salmon'])\n",
    "    plt.ylabel('Error Rate')\n",
    "    plt.xlabel('')\n",
    "    \n",
    "    plt.tight_layout()\n",
    "    plt.show()\n",
    "\n",
    "def plot_wer_vs_der_scatter(df):\n",
    "    \"\"\"\n",
    "    Plots an interactive scatter plot of WER vs. DER using Plotly.\n",
    "    \n",
    "    Args:\n",
    "        df (pd.DataFrame): DataFrame containing the metrics, must include 'WER', 'DER', and 'Filename' columns.\n",
    "    \"\"\"\n",
    "    fig = px.scatter(\n",
    "        df,\n",
    "        x='WER',\n",
    "        y='DER',\n",
    "        color='Filename',\n",
    "        hover_data=['Filename','Experiment'],  # Show filenames on hover\n",
    "        labels={\n",
    "            'WER': 'Word Error Rate (WER)',\n",
    "            'DER': 'Diarization Error Rate (DER)'\n",
    "        },\n",
    "        title='Interactive Scatter Plot of WER vs. DER'\n",
    "    )\n",
    "    fig.update_traces(marker=dict(size=10))\n",
    "    fig.update_layout(\n",
    "        xaxis_title='Word Error Rate (WER)',\n",
    "        yaxis_title='Diarization Error Rate (DER)',\n",
    "        showlegend=False\n",
    "    )\n",
    "    fig.show()"
   ]
  },
  {
   "cell_type": "code",
   "execution_count": 8,
   "metadata": {},
   "outputs": [
    {
     "data": {
      "image/png": "[encoded data removed]",
      "text/plain": [
       "<Figure size 800x400 with 1 Axes>"
      ]
     },
     "metadata": {},
     "output_type": "display_data"
    },
    {
     "data": {
      "image/png": "[encoded data removed]",
      "text/plain": [
       "<Figure size 1200x600 with 2 Axes>"
      ]
     },
     "metadata": {},
     "output_type": "display_data"
    },
    {
     "data": {
      "application/vnd.plotly.v1+json": {
       "config": {
        "plotlyServerURL": "https://plot.ly"
       },
       "data": [
        {
         "customdata": [
          [
           "ID 05",
           "OBE1"
          ]
         ],
         "hovertemplate": "Filename=%{customdata[0]}<br>Word Error Rate (WER)=%{x}<br>Diarization Error Rate (DER)=%{y}<br>Experiment=%{customdata[1]}<extra></extra>",
         "legendgroup": "ID 05",
         "marker": {
          "color": "#636efa",
          "size": 10,
          "symbol": "circle"
         },
         "mode": "markers",
         "name": "ID 05",
         "orientation": "v",
         "showlegend": true,
         "type": "scatter",
         "x": [
          0.0271
         ],
         "xaxis": "x",
         "y": [
          0.1156
         ],
         "yaxis": "y"
        },
        {
         "customdata": [
          [
           "Id 08",
           "OBE1"
          ]
         ],
         "hovertemplate": "Filename=%{customdata[0]}<br>Word Error Rate (WER)=%{x}<br>Diarization Error Rate (DER)=%{y}<br>Experiment=%{customdata[1]}<extra></extra>",
         "legendgroup": "Id 08",
         "marker": {
          "color": "#EF553B",
          "size": 10,
          "symbol": "circle"
         },
         "mode": "markers",
         "name": "Id 08",
         "orientation": "v",
         "showlegend": true,
         "type": "scatter",
         "x": [
          0.0187
         ],
         "xaxis": "x",
         "y": [
          0.0564
         ],
         "yaxis": "y"
        },
        {
         "customdata": [
          [
           "Id 13",
           "OBE1"
          ]
         ],
         "hovertemplate": "Filename=%{customdata[0]}<br>Word Error Rate (WER)=%{x}<br>Diarization Error Rate (DER)=%{y}<br>Experiment=%{customdata[1]}<extra></extra>",
         "legendgroup": "Id 13",
         "marker": {
          "color": "#00cc96",
          "size": 10,
          "symbol": "circle"
         },
         "mode": "markers",
         "name": "Id 13",
         "orientation": "v",
         "showlegend": true,
         "type": "scatter",
         "x": [
          0.023
         ],
         "xaxis": "x",
         "y": [
          0.0657
         ],
         "yaxis": "y"
        },
        {
         "customdata": [
          [
           "Id 13b",
           "OBE1"
          ]
         ],
         "hovertemplate": "Filename=%{customdata[0]}<br>Word Error Rate (WER)=%{x}<br>Diarization Error Rate (DER)=%{y}<br>Experiment=%{customdata[1]}<extra></extra>",
         "legendgroup": "Id 13b",
         "marker": {
          "color": "#ab63fa",
          "size": 10,
          "symbol": "circle"
         },
         "mode": "markers",
         "name": "Id 13b",
         "orientation": "v",
         "showlegend": true,
         "type": "scatter",
         "x": [
          0.0017
         ],
         "xaxis": "x",
         "y": [
          0.0541
         ],
         "yaxis": "y"
        },
        {
         "customdata": [
          [
           "Id 14",
           "OBE1"
          ]
         ],
         "hovertemplate": "Filename=%{customdata[0]}<br>Word Error Rate (WER)=%{x}<br>Diarization Error Rate (DER)=%{y}<br>Experiment=%{customdata[1]}<extra></extra>",
         "legendgroup": "Id 14",
         "marker": {
          "color": "#FFA15A",
          "size": 10,
          "symbol": "circle"
         },
         "mode": "markers",
         "name": "Id 14",
         "orientation": "v",
         "showlegend": true,
         "type": "scatter",
         "x": [
          0.0317
         ],
         "xaxis": "x",
         "y": [
          0.0568
         ],
         "yaxis": "y"
        },
        {
         "customdata": [
          [
           "Id 15",
           "OBE1"
          ]
         ],
         "hovertemplate": "Filename=%{customdata[0]}<br>Word Error Rate (WER)=%{x}<br>Diarization Error Rate (DER)=%{y}<br>Experiment=%{customdata[1]}<extra></extra>",
         "legendgroup": "Id 15",
         "marker": {
          "color": "#19d3f3",
          "size": 10,
          "symbol": "circle"
         },
         "mode": "markers",
         "name": "Id 15",
         "orientation": "v",
         "showlegend": true,
         "type": "scatter",
         "x": [
          0
         ],
         "xaxis": "x",
         "y": [
          0
         ],
         "yaxis": "y"
        },
        {
         "customdata": [
          [
           "Id 16",
           "OBE1"
          ]
         ],
         "hovertemplate": "Filename=%{customdata[0]}<br>Word Error Rate (WER)=%{x}<br>Diarization Error Rate (DER)=%{y}<br>Experiment=%{customdata[1]}<extra></extra>",
         "legendgroup": "Id 16",
         "marker": {
          "color": "#FF6692",
          "size": 10,
          "symbol": "circle"
         },
         "mode": "markers",
         "name": "Id 16",
         "orientation": "v",
         "showlegend": true,
         "type": "scatter",
         "x": [
          0.0231
         ],
         "xaxis": "x",
         "y": [
          0.0838
         ],
         "yaxis": "y"
        },
        {
         "customdata": [
          [
           "Id 17",
           "OBE1"
          ]
         ],
         "hovertemplate": "Filename=%{customdata[0]}<br>Word Error Rate (WER)=%{x}<br>Diarization Error Rate (DER)=%{y}<br>Experiment=%{customdata[1]}<extra></extra>",
         "legendgroup": "Id 17",
         "marker": {
          "color": "#B6E880",
          "size": 10,
          "symbol": "circle"
         },
         "mode": "markers",
         "name": "Id 17",
         "orientation": "v",
         "showlegend": true,
         "type": "scatter",
         "x": [
          0.0042
         ],
         "xaxis": "x",
         "y": [
          0.0209
         ],
         "yaxis": "y"
        },
        {
         "customdata": [
          [
           "Id 18",
           "OBE1"
          ]
         ],
         "hovertemplate": "Filename=%{customdata[0]}<br>Word Error Rate (WER)=%{x}<br>Diarization Error Rate (DER)=%{y}<br>Experiment=%{customdata[1]}<extra></extra>",
         "legendgroup": "Id 18",
         "marker": {
          "color": "#FF97FF",
          "size": 10,
          "symbol": "circle"
         },
         "mode": "markers",
         "name": "Id 18",
         "orientation": "v",
         "showlegend": true,
         "type": "scatter",
         "x": [
          0.0163
         ],
         "xaxis": "x",
         "y": [
          0.0926
         ],
         "yaxis": "y"
        },
        {
         "customdata": [
          [
           "Id 19",
           "OBE1"
          ]
         ],
         "hovertemplate": "Filename=%{customdata[0]}<br>Word Error Rate (WER)=%{x}<br>Diarization Error Rate (DER)=%{y}<br>Experiment=%{customdata[1]}<extra></extra>",
         "legendgroup": "Id 19",
         "marker": {
          "color": "#FECB52",
          "size": 10,
          "symbol": "circle"
         },
         "mode": "markers",
         "name": "Id 19",
         "orientation": "v",
         "showlegend": true,
         "type": "scatter",
         "x": [
          0.0023
         ],
         "xaxis": "x",
         "y": [
          0.0402
         ],
         "yaxis": "y"
        },
        {
         "customdata": [
          [
           "Id 19b",
           "OBE1"
          ]
         ],
         "hovertemplate": "Filename=%{customdata[0]}<br>Word Error Rate (WER)=%{x}<br>Diarization Error Rate (DER)=%{y}<br>Experiment=%{customdata[1]}<extra></extra>",
         "legendgroup": "Id 19b",
         "marker": {
          "color": "#636efa",
          "size": 10,
          "symbol": "circle"
         },
         "mode": "markers",
         "name": "Id 19b",
         "orientation": "v",
         "showlegend": true,
         "type": "scatter",
         "x": [
          0.011
         ],
         "xaxis": "x",
         "y": [
          0.1006
         ],
         "yaxis": "y"
        },
        {
         "customdata": [
          [
           "Id 22",
           "OBE1"
          ]
         ],
         "hovertemplate": "Filename=%{customdata[0]}<br>Word Error Rate (WER)=%{x}<br>Diarization Error Rate (DER)=%{y}<br>Experiment=%{customdata[1]}<extra></extra>",
         "legendgroup": "Id 22",
         "marker": {
          "color": "#EF553B",
          "size": 10,
          "symbol": "circle"
         },
         "mode": "markers",
         "name": "Id 22",
         "orientation": "v",
         "showlegend": true,
         "type": "scatter",
         "x": [
          0.0161
         ],
         "xaxis": "x",
         "y": [
          0.1051
         ],
         "yaxis": "y"
        },
        {
         "customdata": [
          [
           "Id 23",
           "OBE1"
          ]
         ],
         "hovertemplate": "Filename=%{customdata[0]}<br>Word Error Rate (WER)=%{x}<br>Diarization Error Rate (DER)=%{y}<br>Experiment=%{customdata[1]}<extra></extra>",
         "legendgroup": "Id 23",
         "marker": {
          "color": "#00cc96",
          "size": 10,
          "symbol": "circle"
         },
         "mode": "markers",
         "name": "Id 23",
         "orientation": "v",
         "showlegend": true,
         "type": "scatter",
         "x": [
          0.0247
         ],
         "xaxis": "x",
         "y": [
          0.0505
         ],
         "yaxis": "y"
        },
        {
         "customdata": [
          [
           "Id 24",
           "OBE1"
          ]
         ],
         "hovertemplate": "Filename=%{customdata[0]}<br>Word Error Rate (WER)=%{x}<br>Diarization Error Rate (DER)=%{y}<br>Experiment=%{customdata[1]}<extra></extra>",
         "legendgroup": "Id 24",
         "marker": {
          "color": "#ab63fa",
          "size": 10,
          "symbol": "circle"
         },
         "mode": "markers",
         "name": "Id 24",
         "orientation": "v",
         "showlegend": true,
         "type": "scatter",
         "x": [
          0.0184
         ],
         "xaxis": "x",
         "y": [
          0.4916
         ],
         "yaxis": "y"
        },
        {
         "customdata": [
          [
           "Id 24b",
           "OBE1"
          ]
         ],
         "hovertemplate": "Filename=%{customdata[0]}<br>Word Error Rate (WER)=%{x}<br>Diarization Error Rate (DER)=%{y}<br>Experiment=%{customdata[1]}<extra></extra>",
         "legendgroup": "Id 24b",
         "marker": {
          "color": "#FFA15A",
          "size": 10,
          "symbol": "circle"
         },
         "mode": "markers",
         "name": "Id 24b",
         "orientation": "v",
         "showlegend": true,
         "type": "scatter",
         "x": [
          0.0079
         ],
         "xaxis": "x",
         "y": [
          0.0201
         ],
         "yaxis": "y"
        },
        {
         "customdata": [
          [
           "Id 7a",
           "OBE1"
          ]
         ],
         "hovertemplate": "Filename=%{customdata[0]}<br>Word Error Rate (WER)=%{x}<br>Diarization Error Rate (DER)=%{y}<br>Experiment=%{customdata[1]}<extra></extra>",
         "legendgroup": "Id 7a",
         "marker": {
          "color": "#19d3f3",
          "size": 10,
          "symbol": "circle"
         },
         "mode": "markers",
         "name": "Id 7a",
         "orientation": "v",
         "showlegend": true,
         "type": "scatter",
         "x": [
          0.2945
         ],
         "xaxis": "x",
         "y": [
          0.2549
         ],
         "yaxis": "y"
        },
        {
         "customdata": [
          [
           "Id 7b",
           "OBE1"
          ]
         ],
         "hovertemplate": "Filename=%{customdata[0]}<br>Word Error Rate (WER)=%{x}<br>Diarization Error Rate (DER)=%{y}<br>Experiment=%{customdata[1]}<extra></extra>",
         "legendgroup": "Id 7b",
         "marker": {
          "color": "#FF6692",
          "size": 10,
          "symbol": "circle"
         },
         "mode": "markers",
         "name": "Id 7b",
         "orientation": "v",
         "showlegend": true,
         "type": "scatter",
         "x": [
          0.0034
         ],
         "xaxis": "x",
         "y": [
          0.2113
         ],
         "yaxis": "y"
        },
        {
         "customdata": [
          [
           "Participant 20 interview",
           "OBE1"
          ]
         ],
         "hovertemplate": "Filename=%{customdata[0]}<br>Word Error Rate (WER)=%{x}<br>Diarization Error Rate (DER)=%{y}<br>Experiment=%{customdata[1]}<extra></extra>",
         "legendgroup": "Participant 20 interview",
         "marker": {
          "color": "#B6E880",
          "size": 10,
          "symbol": "circle"
         },
         "mode": "markers",
         "name": "Participant 20 interview",
         "orientation": "v",
         "showlegend": true,
         "type": "scatter",
         "x": [
          0.0097
         ],
         "xaxis": "x",
         "y": [
          0.0849
         ],
         "yaxis": "y"
        },
        {
         "customdata": [
          [
           "S201-1",
           "OBE2"
          ]
         ],
         "hovertemplate": "Filename=%{customdata[0]}<br>Word Error Rate (WER)=%{x}<br>Diarization Error Rate (DER)=%{y}<br>Experiment=%{customdata[1]}<extra></extra>",
         "legendgroup": "S201-1",
         "marker": {
          "color": "#FF97FF",
          "size": 10,
          "symbol": "circle"
         },
         "mode": "markers",
         "name": "S201-1",
         "orientation": "v",
         "showlegend": true,
         "type": "scatter",
         "x": [
          0.0303
         ],
         "xaxis": "x",
         "y": [
          0.0634
         ],
         "yaxis": "y"
        },
        {
         "customdata": [
          [
           "S201-2",
           "OBE2"
          ]
         ],
         "hovertemplate": "Filename=%{customdata[0]}<br>Word Error Rate (WER)=%{x}<br>Diarization Error Rate (DER)=%{y}<br>Experiment=%{customdata[1]}<extra></extra>",
         "legendgroup": "S201-2",
         "marker": {
          "color": "#FECB52",
          "size": 10,
          "symbol": "circle"
         },
         "mode": "markers",
         "name": "S201-2",
         "orientation": "v",
         "showlegend": true,
         "type": "scatter",
         "x": [
          0.0163
         ],
         "xaxis": "x",
         "y": [
          0.1184
         ],
         "yaxis": "y"
        },
        {
         "customdata": [
          [
           "S201-3",
           "OBE2"
          ]
         ],
         "hovertemplate": "Filename=%{customdata[0]}<br>Word Error Rate (WER)=%{x}<br>Diarization Error Rate (DER)=%{y}<br>Experiment=%{customdata[1]}<extra></extra>",
         "legendgroup": "S201-3",
         "marker": {
          "color": "#636efa",
          "size": 10,
          "symbol": "circle"
         },
         "mode": "markers",
         "name": "S201-3",
         "orientation": "v",
         "showlegend": true,
         "type": "scatter",
         "x": [
          0.0036
         ],
         "xaxis": "x",
         "y": [
          0.0171
         ],
         "yaxis": "y"
        },
        {
         "customdata": [
          [
           "S202-1",
           "OBE2"
          ]
         ],
         "hovertemplate": "Filename=%{customdata[0]}<br>Word Error Rate (WER)=%{x}<br>Diarization Error Rate (DER)=%{y}<br>Experiment=%{customdata[1]}<extra></extra>",
         "legendgroup": "S202-1",
         "marker": {
          "color": "#EF553B",
          "size": 10,
          "symbol": "circle"
         },
         "mode": "markers",
         "name": "S202-1",
         "orientation": "v",
         "showlegend": true,
         "type": "scatter",
         "x": [
          0.0052
         ],
         "xaxis": "x",
         "y": [
          0.4168
         ],
         "yaxis": "y"
        },
        {
         "customdata": [
          [
           "S203-1",
           "OBE2"
          ]
         ],
         "hovertemplate": "Filename=%{customdata[0]}<br>Word Error Rate (WER)=%{x}<br>Diarization Error Rate (DER)=%{y}<br>Experiment=%{customdata[1]}<extra></extra>",
         "legendgroup": "S203-1",
         "marker": {
          "color": "#00cc96",
          "size": 10,
          "symbol": "circle"
         },
         "mode": "markers",
         "name": "S203-1",
         "orientation": "v",
         "showlegend": true,
         "type": "scatter",
         "x": [
          0.3621
         ],
         "xaxis": "x",
         "y": [
          0.1394
         ],
         "yaxis": "y"
        },
        {
         "customdata": [
          [
           "S204-1",
           "OBE2"
          ]
         ],
         "hovertemplate": "Filename=%{customdata[0]}<br>Word Error Rate (WER)=%{x}<br>Diarization Error Rate (DER)=%{y}<br>Experiment=%{customdata[1]}<extra></extra>",
         "legendgroup": "S204-1",
         "marker": {
          "color": "#ab63fa",
          "size": 10,
          "symbol": "circle"
         },
         "mode": "markers",
         "name": "S204-1",
         "orientation": "v",
         "showlegend": true,
         "type": "scatter",
         "x": [
          0.0242
         ],
         "xaxis": "x",
         "y": [
          0.3457
         ],
         "yaxis": "y"
        },
        {
         "customdata": [
          [
           "S204-2",
           "OBE2"
          ]
         ],
         "hovertemplate": "Filename=%{customdata[0]}<br>Word Error Rate (WER)=%{x}<br>Diarization Error Rate (DER)=%{y}<br>Experiment=%{customdata[1]}<extra></extra>",
         "legendgroup": "S204-2",
         "marker": {
          "color": "#FFA15A",
          "size": 10,
          "symbol": "circle"
         },
         "mode": "markers",
         "name": "S204-2",
         "orientation": "v",
         "showlegend": true,
         "type": "scatter",
         "x": [
          0.0173
         ],
         "xaxis": "x",
         "y": [
          0.3756
         ],
         "yaxis": "y"
        },
        {
         "customdata": [
          [
           "S205-1",
           "OBE2"
          ]
         ],
         "hovertemplate": "Filename=%{customdata[0]}<br>Word Error Rate (WER)=%{x}<br>Diarization Error Rate (DER)=%{y}<br>Experiment=%{customdata[1]}<extra></extra>",
         "legendgroup": "S205-1",
         "marker": {
          "color": "#19d3f3",
          "size": 10,
          "symbol": "circle"
         },
         "mode": "markers",
         "name": "S205-1",
         "orientation": "v",
         "showlegend": true,
         "type": "scatter",
         "x": [
          0.0143
         ],
         "xaxis": "x",
         "y": [
          0.2685
         ],
         "yaxis": "y"
        },
        {
         "customdata": [
          [
           "S205-2",
           "OBE2"
          ]
         ],
         "hovertemplate": "Filename=%{customdata[0]}<br>Word Error Rate (WER)=%{x}<br>Diarization Error Rate (DER)=%{y}<br>Experiment=%{customdata[1]}<extra></extra>",
         "legendgroup": "S205-2",
         "marker": {
          "color": "#FF6692",
          "size": 10,
          "symbol": "circle"
         },
         "mode": "markers",
         "name": "S205-2",
         "orientation": "v",
         "showlegend": true,
         "type": "scatter",
         "x": [
          0.0943
         ],
         "xaxis": "x",
         "y": [
          0.1425
         ],
         "yaxis": "y"
        },
        {
         "customdata": [
          [
           "S206-1",
           "OBE2"
          ]
         ],
         "hovertemplate": "Filename=%{customdata[0]}<br>Word Error Rate (WER)=%{x}<br>Diarization Error Rate (DER)=%{y}<br>Experiment=%{customdata[1]}<extra></extra>",
         "legendgroup": "S206-1",
         "marker": {
          "color": "#B6E880",
          "size": 10,
          "symbol": "circle"
         },
         "mode": "markers",
         "name": "S206-1",
         "orientation": "v",
         "showlegend": true,
         "type": "scatter",
         "x": [
          0.0496
         ],
         "xaxis": "x",
         "y": [
          0.0836
         ],
         "yaxis": "y"
        },
        {
         "customdata": [
          [
           "S206-2",
           "OBE2"
          ]
         ],
         "hovertemplate": "Filename=%{customdata[0]}<br>Word Error Rate (WER)=%{x}<br>Diarization Error Rate (DER)=%{y}<br>Experiment=%{customdata[1]}<extra></extra>",
         "legendgroup": "S206-2",
         "marker": {
          "color": "#FF97FF",
          "size": 10,
          "symbol": "circle"
         },
         "mode": "markers",
         "name": "S206-2",
         "orientation": "v",
         "showlegend": true,
         "type": "scatter",
         "x": [
          0.0556
         ],
         "xaxis": "x",
         "y": [
          0.0538
         ],
         "yaxis": "y"
        },
        {
         "customdata": [
          [
           "S207-1",
           "OBE2"
          ]
         ],
         "hovertemplate": "Filename=%{customdata[0]}<br>Word Error Rate (WER)=%{x}<br>Diarization Error Rate (DER)=%{y}<br>Experiment=%{customdata[1]}<extra></extra>",
         "legendgroup": "S207-1",
         "marker": {
          "color": "#FECB52",
          "size": 10,
          "symbol": "circle"
         },
         "mode": "markers",
         "name": "S207-1",
         "orientation": "v",
         "showlegend": true,
         "type": "scatter",
         "x": [
          0.1699
         ],
         "xaxis": "x",
         "y": [
          0.1928
         ],
         "yaxis": "y"
        },
        {
         "customdata": [
          [
           "S207-2",
           "OBE2"
          ]
         ],
         "hovertemplate": "Filename=%{customdata[0]}<br>Word Error Rate (WER)=%{x}<br>Diarization Error Rate (DER)=%{y}<br>Experiment=%{customdata[1]}<extra></extra>",
         "legendgroup": "S207-2",
         "marker": {
          "color": "#636efa",
          "size": 10,
          "symbol": "circle"
         },
         "mode": "markers",
         "name": "S207-2",
         "orientation": "v",
         "showlegend": true,
         "type": "scatter",
         "x": [
          0
         ],
         "xaxis": "x",
         "y": [
          0
         ],
         "yaxis": "y"
        },
        {
         "customdata": [
          [
           "S208-1",
           "OBE2"
          ]
         ],
         "hovertemplate": "Filename=%{customdata[0]}<br>Word Error Rate (WER)=%{x}<br>Diarization Error Rate (DER)=%{y}<br>Experiment=%{customdata[1]}<extra></extra>",
         "legendgroup": "S208-1",
         "marker": {
          "color": "#EF553B",
          "size": 10,
          "symbol": "circle"
         },
         "mode": "markers",
         "name": "S208-1",
         "orientation": "v",
         "showlegend": true,
         "type": "scatter",
         "x": [
          0.0138
         ],
         "xaxis": "x",
         "y": [
          0.106
         ],
         "yaxis": "y"
        },
        {
         "customdata": [
          [
           "S208-2",
           "OBE2"
          ]
         ],
         "hovertemplate": "Filename=%{customdata[0]}<br>Word Error Rate (WER)=%{x}<br>Diarization Error Rate (DER)=%{y}<br>Experiment=%{customdata[1]}<extra></extra>",
         "legendgroup": "S208-2",
         "marker": {
          "color": "#00cc96",
          "size": 10,
          "symbol": "circle"
         },
         "mode": "markers",
         "name": "S208-2",
         "orientation": "v",
         "showlegend": true,
         "type": "scatter",
         "x": [
          0.011
         ],
         "xaxis": "x",
         "y": [
          0.1569
         ],
         "yaxis": "y"
        },
        {
         "customdata": [
          [
           "S209-1",
           "OBE2"
          ]
         ],
         "hovertemplate": "Filename=%{customdata[0]}<br>Word Error Rate (WER)=%{x}<br>Diarization Error Rate (DER)=%{y}<br>Experiment=%{customdata[1]}<extra></extra>",
         "legendgroup": "S209-1",
         "marker": {
          "color": "#ab63fa",
          "size": 10,
          "symbol": "circle"
         },
         "mode": "markers",
         "name": "S209-1",
         "orientation": "v",
         "showlegend": true,
         "type": "scatter",
         "x": [
          0.0221
         ],
         "xaxis": "x",
         "y": [
          0.1626
         ],
         "yaxis": "y"
        },
        {
         "customdata": [
          [
           "S209-2",
           "OBE2"
          ]
         ],
         "hovertemplate": "Filename=%{customdata[0]}<br>Word Error Rate (WER)=%{x}<br>Diarization Error Rate (DER)=%{y}<br>Experiment=%{customdata[1]}<extra></extra>",
         "legendgroup": "S209-2",
         "marker": {
          "color": "#FFA15A",
          "size": 10,
          "symbol": "circle"
         },
         "mode": "markers",
         "name": "S209-2",
         "orientation": "v",
         "showlegend": true,
         "type": "scatter",
         "x": [
          0
         ],
         "xaxis": "x",
         "y": [
          0.0227
         ],
         "yaxis": "y"
        },
        {
         "customdata": [
          [
           "S209-3",
           "OBE2"
          ]
         ],
         "hovertemplate": "Filename=%{customdata[0]}<br>Word Error Rate (WER)=%{x}<br>Diarization Error Rate (DER)=%{y}<br>Experiment=%{customdata[1]}<extra></extra>",
         "legendgroup": "S209-3",
         "marker": {
          "color": "#19d3f3",
          "size": 10,
          "symbol": "circle"
         },
         "mode": "markers",
         "name": "S209-3",
         "orientation": "v",
         "showlegend": true,
         "type": "scatter",
         "x": [
          0.042
         ],
         "xaxis": "x",
         "y": [
          0.0837
         ],
         "yaxis": "y"
        },
        {
         "customdata": [
          [
           "S209-4",
           "OBE2"
          ]
         ],
         "hovertemplate": "Filename=%{customdata[0]}<br>Word Error Rate (WER)=%{x}<br>Diarization Error Rate (DER)=%{y}<br>Experiment=%{customdata[1]}<extra></extra>",
         "legendgroup": "S209-4",
         "marker": {
          "color": "#FF6692",
          "size": 10,
          "symbol": "circle"
         },
         "mode": "markers",
         "name": "S209-4",
         "orientation": "v",
         "showlegend": true,
         "type": "scatter",
         "x": [
          0.0363
         ],
         "xaxis": "x",
         "y": [
          0.0349
         ],
         "yaxis": "y"
        },
        {
         "customdata": [
          [
           "S210-1",
           "OBE2"
          ]
         ],
         "hovertemplate": "Filename=%{customdata[0]}<br>Word Error Rate (WER)=%{x}<br>Diarization Error Rate (DER)=%{y}<br>Experiment=%{customdata[1]}<extra></extra>",
         "legendgroup": "S210-1",
         "marker": {
          "color": "#B6E880",
          "size": 10,
          "symbol": "circle"
         },
         "mode": "markers",
         "name": "S210-1",
         "orientation": "v",
         "showlegend": true,
         "type": "scatter",
         "x": [
          0.05
         ],
         "xaxis": "x",
         "y": [
          0.4525
         ],
         "yaxis": "y"
        },
        {
         "customdata": [
          [
           "S210-2",
           "OBE2"
          ]
         ],
         "hovertemplate": "Filename=%{customdata[0]}<br>Word Error Rate (WER)=%{x}<br>Diarization Error Rate (DER)=%{y}<br>Experiment=%{customdata[1]}<extra></extra>",
         "legendgroup": "S210-2",
         "marker": {
          "color": "#FF97FF",
          "size": 10,
          "symbol": "circle"
         },
         "mode": "markers",
         "name": "S210-2",
         "orientation": "v",
         "showlegend": true,
         "type": "scatter",
         "x": [
          0
         ],
         "xaxis": "x",
         "y": [
          0.0017
         ],
         "yaxis": "y"
        },
        {
         "customdata": [
          [
           "S210-3",
           "OBE2"
          ]
         ],
         "hovertemplate": "Filename=%{customdata[0]}<br>Word Error Rate (WER)=%{x}<br>Diarization Error Rate (DER)=%{y}<br>Experiment=%{customdata[1]}<extra></extra>",
         "legendgroup": "S210-3",
         "marker": {
          "color": "#FECB52",
          "size": 10,
          "symbol": "circle"
         },
         "mode": "markers",
         "name": "S210-3",
         "orientation": "v",
         "showlegend": true,
         "type": "scatter",
         "x": [
          0.0397
         ],
         "xaxis": "x",
         "y": [
          0.25
         ],
         "yaxis": "y"
        },
        {
         "customdata": [
          [
           "S211_1",
           "OBE2"
          ]
         ],
         "hovertemplate": "Filename=%{customdata[0]}<br>Word Error Rate (WER)=%{x}<br>Diarization Error Rate (DER)=%{y}<br>Experiment=%{customdata[1]}<extra></extra>",
         "legendgroup": "S211_1",
         "marker": {
          "color": "#636efa",
          "size": 10,
          "symbol": "circle"
         },
         "mode": "markers",
         "name": "S211_1",
         "orientation": "v",
         "showlegend": true,
         "type": "scatter",
         "x": [
          0.122
         ],
         "xaxis": "x",
         "y": [
          0.2128
         ],
         "yaxis": "y"
        },
        {
         "customdata": [
          [
           "S211_2",
           "OBE2"
          ]
         ],
         "hovertemplate": "Filename=%{customdata[0]}<br>Word Error Rate (WER)=%{x}<br>Diarization Error Rate (DER)=%{y}<br>Experiment=%{customdata[1]}<extra></extra>",
         "legendgroup": "S211_2",
         "marker": {
          "color": "#EF553B",
          "size": 10,
          "symbol": "circle"
         },
         "mode": "markers",
         "name": "S211_2",
         "orientation": "v",
         "showlegend": true,
         "type": "scatter",
         "x": [
          0
         ],
         "xaxis": "x",
         "y": [
          0.0295
         ],
         "yaxis": "y"
        },
        {
         "customdata": [
          [
           "S211_3 (partially in french)",
           "OBE2"
          ]
         ],
         "hovertemplate": "Filename=%{customdata[0]}<br>Word Error Rate (WER)=%{x}<br>Diarization Error Rate (DER)=%{y}<br>Experiment=%{customdata[1]}<extra></extra>",
         "legendgroup": "S211_3 (partially in french)",
         "marker": {
          "color": "#00cc96",
          "size": 10,
          "symbol": "circle"
         },
         "mode": "markers",
         "name": "S211_3 (partially in french)",
         "orientation": "v",
         "showlegend": true,
         "type": "scatter",
         "x": [
          0.0434
         ],
         "xaxis": "x",
         "y": [
          0.0729
         ],
         "yaxis": "y"
        },
        {
         "customdata": [
          [
           "S212_1",
           "OBE2"
          ]
         ],
         "hovertemplate": "Filename=%{customdata[0]}<br>Word Error Rate (WER)=%{x}<br>Diarization Error Rate (DER)=%{y}<br>Experiment=%{customdata[1]}<extra></extra>",
         "legendgroup": "S212_1",
         "marker": {
          "color": "#ab63fa",
          "size": 10,
          "symbol": "circle"
         },
         "mode": "markers",
         "name": "S212_1",
         "orientation": "v",
         "showlegend": true,
         "type": "scatter",
         "x": [
          0.0131
         ],
         "xaxis": "x",
         "y": [
          0.3822
         ],
         "yaxis": "y"
        },
        {
         "customdata": [
          [
           "S212_2",
           "OBE2"
          ]
         ],
         "hovertemplate": "Filename=%{customdata[0]}<br>Word Error Rate (WER)=%{x}<br>Diarization Error Rate (DER)=%{y}<br>Experiment=%{customdata[1]}<extra></extra>",
         "legendgroup": "S212_2",
         "marker": {
          "color": "#FFA15A",
          "size": 10,
          "symbol": "circle"
         },
         "mode": "markers",
         "name": "S212_2",
         "orientation": "v",
         "showlegend": true,
         "type": "scatter",
         "x": [
          0.0087
         ],
         "xaxis": "x",
         "y": [
          0.106
         ],
         "yaxis": "y"
        },
        {
         "customdata": [
          [
           "S213_1",
           "OBE2"
          ]
         ],
         "hovertemplate": "Filename=%{customdata[0]}<br>Word Error Rate (WER)=%{x}<br>Diarization Error Rate (DER)=%{y}<br>Experiment=%{customdata[1]}<extra></extra>",
         "legendgroup": "S213_1",
         "marker": {
          "color": "#19d3f3",
          "size": 10,
          "symbol": "circle"
         },
         "mode": "markers",
         "name": "S213_1",
         "orientation": "v",
         "showlegend": true,
         "type": "scatter",
         "x": [
          0.0127
         ],
         "xaxis": "x",
         "y": [
          0.0438
         ],
         "yaxis": "y"
        },
        {
         "customdata": [
          [
           "S213_2",
           "OBE2"
          ]
         ],
         "hovertemplate": "Filename=%{customdata[0]}<br>Word Error Rate (WER)=%{x}<br>Diarization Error Rate (DER)=%{y}<br>Experiment=%{customdata[1]}<extra></extra>",
         "legendgroup": "S213_2",
         "marker": {
          "color": "#FF6692",
          "size": 10,
          "symbol": "circle"
         },
         "mode": "markers",
         "name": "S213_2",
         "orientation": "v",
         "showlegend": true,
         "type": "scatter",
         "x": [
          0.0394
         ],
         "xaxis": "x",
         "y": [
          0.3204
         ],
         "yaxis": "y"
        },
        {
         "customdata": [
          [
           "S214_1",
           "OBE2"
          ]
         ],
         "hovertemplate": "Filename=%{customdata[0]}<br>Word Error Rate (WER)=%{x}<br>Diarization Error Rate (DER)=%{y}<br>Experiment=%{customdata[1]}<extra></extra>",
         "legendgroup": "S214_1",
         "marker": {
          "color": "#B6E880",
          "size": 10,
          "symbol": "circle"
         },
         "mode": "markers",
         "name": "S214_1",
         "orientation": "v",
         "showlegend": true,
         "type": "scatter",
         "x": [
          0.0761
         ],
         "xaxis": "x",
         "y": [
          0.1899
         ],
         "yaxis": "y"
        },
        {
         "customdata": [
          [
           "S214_2",
           "OBE2"
          ]
         ],
         "hovertemplate": "Filename=%{customdata[0]}<br>Word Error Rate (WER)=%{x}<br>Diarization Error Rate (DER)=%{y}<br>Experiment=%{customdata[1]}<extra></extra>",
         "legendgroup": "S214_2",
         "marker": {
          "color": "#FF97FF",
          "size": 10,
          "symbol": "circle"
         },
         "mode": "markers",
         "name": "S214_2",
         "orientation": "v",
         "showlegend": true,
         "type": "scatter",
         "x": [
          0.0396
         ],
         "xaxis": "x",
         "y": [
          0.5861
         ],
         "yaxis": "y"
        },
        {
         "customdata": [
          [
           "S217",
           "OBE2"
          ]
         ],
         "hovertemplate": "Filename=%{customdata[0]}<br>Word Error Rate (WER)=%{x}<br>Diarization Error Rate (DER)=%{y}<br>Experiment=%{customdata[1]}<extra></extra>",
         "legendgroup": "S217",
         "marker": {
          "color": "#FECB52",
          "size": 10,
          "symbol": "circle"
         },
         "mode": "markers",
         "name": "S217",
         "orientation": "v",
         "showlegend": true,
         "type": "scatter",
         "x": [
          0.0394
         ],
         "xaxis": "x",
         "y": [
          0.0191
         ],
         "yaxis": "y"
        },
        {
         "customdata": [
          [
           "S218-1",
           "OBE2"
          ]
         ],
         "hovertemplate": "Filename=%{customdata[0]}<br>Word Error Rate (WER)=%{x}<br>Diarization Error Rate (DER)=%{y}<br>Experiment=%{customdata[1]}<extra></extra>",
         "legendgroup": "S218-1",
         "marker": {
          "color": "#636efa",
          "size": 10,
          "symbol": "circle"
         },
         "mode": "markers",
         "name": "S218-1",
         "orientation": "v",
         "showlegend": true,
         "type": "scatter",
         "x": [
          0.0679
         ],
         "xaxis": "x",
         "y": [
          0.4707
         ],
         "yaxis": "y"
        },
        {
         "customdata": [
          [
           "S218-2",
           "OBE2"
          ]
         ],
         "hovertemplate": "Filename=%{customdata[0]}<br>Word Error Rate (WER)=%{x}<br>Diarization Error Rate (DER)=%{y}<br>Experiment=%{customdata[1]}<extra></extra>",
         "legendgroup": "S218-2",
         "marker": {
          "color": "#EF553B",
          "size": 10,
          "symbol": "circle"
         },
         "mode": "markers",
         "name": "S218-2",
         "orientation": "v",
         "showlegend": true,
         "type": "scatter",
         "x": [
          0.0032
         ],
         "xaxis": "x",
         "y": [
          0.0361
         ],
         "yaxis": "y"
        },
        {
         "customdata": [
          [
           "S219-1",
           "OBE2"
          ]
         ],
         "hovertemplate": "Filename=%{customdata[0]}<br>Word Error Rate (WER)=%{x}<br>Diarization Error Rate (DER)=%{y}<br>Experiment=%{customdata[1]}<extra></extra>",
         "legendgroup": "S219-1",
         "marker": {
          "color": "#00cc96",
          "size": 10,
          "symbol": "circle"
         },
         "mode": "markers",
         "name": "S219-1",
         "orientation": "v",
         "showlegend": true,
         "type": "scatter",
         "x": [
          0.1238
         ],
         "xaxis": "x",
         "y": [
          0.3428
         ],
         "yaxis": "y"
        },
        {
         "customdata": [
          [
           "S219-2",
           "OBE2"
          ]
         ],
         "hovertemplate": "Filename=%{customdata[0]}<br>Word Error Rate (WER)=%{x}<br>Diarization Error Rate (DER)=%{y}<br>Experiment=%{customdata[1]}<extra></extra>",
         "legendgroup": "S219-2",
         "marker": {
          "color": "#ab63fa",
          "size": 10,
          "symbol": "circle"
         },
         "mode": "markers",
         "name": "S219-2",
         "orientation": "v",
         "showlegend": true,
         "type": "scatter",
         "x": [
          0.0126
         ],
         "xaxis": "x",
         "y": [
          0.0157
         ],
         "yaxis": "y"
        },
        {
         "customdata": [
          [
           "S220-1",
           "OBE2"
          ]
         ],
         "hovertemplate": "Filename=%{customdata[0]}<br>Word Error Rate (WER)=%{x}<br>Diarization Error Rate (DER)=%{y}<br>Experiment=%{customdata[1]}<extra></extra>",
         "legendgroup": "S220-1",
         "marker": {
          "color": "#FFA15A",
          "size": 10,
          "symbol": "circle"
         },
         "mode": "markers",
         "name": "S220-1",
         "orientation": "v",
         "showlegend": true,
         "type": "scatter",
         "x": [
          0.0948
         ],
         "xaxis": "x",
         "y": [
          0.1394
         ],
         "yaxis": "y"
        },
        {
         "customdata": [
          [
           "S220-2",
           "OBE2"
          ]
         ],
         "hovertemplate": "Filename=%{customdata[0]}<br>Word Error Rate (WER)=%{x}<br>Diarization Error Rate (DER)=%{y}<br>Experiment=%{customdata[1]}<extra></extra>",
         "legendgroup": "S220-2",
         "marker": {
          "color": "#19d3f3",
          "size": 10,
          "symbol": "circle"
         },
         "mode": "markers",
         "name": "S220-2",
         "orientation": "v",
         "showlegend": true,
         "type": "scatter",
         "x": [
          0.121
         ],
         "xaxis": "x",
         "y": [
          0.1033
         ],
         "yaxis": "y"
        },
        {
         "customdata": [
          [
           "S222_c",
           "OBE2"
          ]
         ],
         "hovertemplate": "Filename=%{customdata[0]}<br>Word Error Rate (WER)=%{x}<br>Diarization Error Rate (DER)=%{y}<br>Experiment=%{customdata[1]}<extra></extra>",
         "legendgroup": "S222_c",
         "marker": {
          "color": "#FF6692",
          "size": 10,
          "symbol": "circle"
         },
         "mode": "markers",
         "name": "S222_c",
         "orientation": "v",
         "showlegend": true,
         "type": "scatter",
         "x": [
          0.0032
         ],
         "xaxis": "x",
         "y": [
          0.1282
         ],
         "yaxis": "y"
        },
        {
         "customdata": [
          [
           "S222_m",
           "OBE2"
          ]
         ],
         "hovertemplate": "Filename=%{customdata[0]}<br>Word Error Rate (WER)=%{x}<br>Diarization Error Rate (DER)=%{y}<br>Experiment=%{customdata[1]}<extra></extra>",
         "legendgroup": "S222_m",
         "marker": {
          "color": "#B6E880",
          "size": 10,
          "symbol": "circle"
         },
         "mode": "markers",
         "name": "S222_m",
         "orientation": "v",
         "showlegend": true,
         "type": "scatter",
         "x": [
          0.0094
         ],
         "xaxis": "x",
         "y": [
          0.1375
         ],
         "yaxis": "y"
        },
        {
         "customdata": [
          [
           "S223",
           "OBE2"
          ]
         ],
         "hovertemplate": "Filename=%{customdata[0]}<br>Word Error Rate (WER)=%{x}<br>Diarization Error Rate (DER)=%{y}<br>Experiment=%{customdata[1]}<extra></extra>",
         "legendgroup": "S223",
         "marker": {
          "color": "#FF97FF",
          "size": 10,
          "symbol": "circle"
         },
         "mode": "markers",
         "name": "S223",
         "orientation": "v",
         "showlegend": true,
         "type": "scatter",
         "x": [
          0.0893
         ],
         "xaxis": "x",
         "y": [
          0.5887
         ],
         "yaxis": "y"
        },
        {
         "customdata": [
          [
           "S225",
           "OBE2"
          ]
         ],
         "hovertemplate": "Filename=%{customdata[0]}<br>Word Error Rate (WER)=%{x}<br>Diarization Error Rate (DER)=%{y}<br>Experiment=%{customdata[1]}<extra></extra>",
         "legendgroup": "S225",
         "marker": {
          "color": "#FECB52",
          "size": 10,
          "symbol": "circle"
         },
         "mode": "markers",
         "name": "S225",
         "orientation": "v",
         "showlegend": true,
         "type": "scatter",
         "x": [
          0.2273
         ],
         "xaxis": "x",
         "y": [
          0.142
         ],
         "yaxis": "y"
        },
        {
         "customdata": [
          [
           "S225[1]",
           "OBE2"
          ]
         ],
         "hovertemplate": "Filename=%{customdata[0]}<br>Word Error Rate (WER)=%{x}<br>Diarization Error Rate (DER)=%{y}<br>Experiment=%{customdata[1]}<extra></extra>",
         "legendgroup": "S225[1]",
         "marker": {
          "color": "#636efa",
          "size": 10,
          "symbol": "circle"
         },
         "mode": "markers",
         "name": "S225[1]",
         "orientation": "v",
         "showlegend": true,
         "type": "scatter",
         "x": [
          0.0109
         ],
         "xaxis": "x",
         "y": [
          0.0305
         ],
         "yaxis": "y"
        },
        {
         "customdata": [
          [
           "S226",
           "OBE2"
          ]
         ],
         "hovertemplate": "Filename=%{customdata[0]}<br>Word Error Rate (WER)=%{x}<br>Diarization Error Rate (DER)=%{y}<br>Experiment=%{customdata[1]}<extra></extra>",
         "legendgroup": "S226",
         "marker": {
          "color": "#EF553B",
          "size": 10,
          "symbol": "circle"
         },
         "mode": "markers",
         "name": "S226",
         "orientation": "v",
         "showlegend": true,
         "type": "scatter",
         "x": [
          0.4536
         ],
         "xaxis": "x",
         "y": [
          0.3477
         ],
         "yaxis": "y"
        },
        {
         "customdata": [
          [
           "S226[1]",
           "OBE2"
          ]
         ],
         "hovertemplate": "Filename=%{customdata[0]}<br>Word Error Rate (WER)=%{x}<br>Diarization Error Rate (DER)=%{y}<br>Experiment=%{customdata[1]}<extra></extra>",
         "legendgroup": "S226[1]",
         "marker": {
          "color": "#00cc96",
          "size": 10,
          "symbol": "circle"
         },
         "mode": "markers",
         "name": "S226[1]",
         "orientation": "v",
         "showlegend": true,
         "type": "scatter",
         "x": [
          0.1282
         ],
         "xaxis": "x",
         "y": [
          0.5689
         ],
         "yaxis": "y"
        },
        {
         "customdata": [
          [
           "S226[2]",
           "OBE2"
          ]
         ],
         "hovertemplate": "Filename=%{customdata[0]}<br>Word Error Rate (WER)=%{x}<br>Diarization Error Rate (DER)=%{y}<br>Experiment=%{customdata[1]}<extra></extra>",
         "legendgroup": "S226[2]",
         "marker": {
          "color": "#ab63fa",
          "size": 10,
          "symbol": "circle"
         },
         "mode": "markers",
         "name": "S226[2]",
         "orientation": "v",
         "showlegend": true,
         "type": "scatter",
         "x": [
          0.0198
         ],
         "xaxis": "x",
         "y": [
          0.1916
         ],
         "yaxis": "y"
        },
        {
         "customdata": [
          [
           "S227 control interview",
           "OBE2"
          ]
         ],
         "hovertemplate": "Filename=%{customdata[0]}<br>Word Error Rate (WER)=%{x}<br>Diarization Error Rate (DER)=%{y}<br>Experiment=%{customdata[1]}<extra></extra>",
         "legendgroup": "S227 control interview",
         "marker": {
          "color": "#FFA15A",
          "size": 10,
          "symbol": "circle"
         },
         "mode": "markers",
         "name": "S227 control interview",
         "orientation": "v",
         "showlegend": true,
         "type": "scatter",
         "x": [
          0.1452
         ],
         "xaxis": "x",
         "y": [
          0.497
         ],
         "yaxis": "y"
        },
        {
         "customdata": [
          [
           "S227 intervention",
           "OBE2"
          ]
         ],
         "hovertemplate": "Filename=%{customdata[0]}<br>Word Error Rate (WER)=%{x}<br>Diarization Error Rate (DER)=%{y}<br>Experiment=%{customdata[1]}<extra></extra>",
         "legendgroup": "S227 intervention",
         "marker": {
          "color": "#19d3f3",
          "size": 10,
          "symbol": "circle"
         },
         "mode": "markers",
         "name": "S227 intervention",
         "orientation": "v",
         "showlegend": true,
         "type": "scatter",
         "x": [
          0.0844
         ],
         "xaxis": "x",
         "y": [
          0.3152
         ],
         "yaxis": "y"
        },
        {
         "customdata": [
          [
           "S228 control",
           "OBE2"
          ]
         ],
         "hovertemplate": "Filename=%{customdata[0]}<br>Word Error Rate (WER)=%{x}<br>Diarization Error Rate (DER)=%{y}<br>Experiment=%{customdata[1]}<extra></extra>",
         "legendgroup": "S228 control",
         "marker": {
          "color": "#FF6692",
          "size": 10,
          "symbol": "circle"
         },
         "mode": "markers",
         "name": "S228 control",
         "orientation": "v",
         "showlegend": true,
         "type": "scatter",
         "x": [
          0.0159
         ],
         "xaxis": "x",
         "y": [
          0.1639
         ],
         "yaxis": "y"
        },
        {
         "customdata": [
          [
           "S228 intervention",
           "OBE2"
          ]
         ],
         "hovertemplate": "Filename=%{customdata[0]}<br>Word Error Rate (WER)=%{x}<br>Diarization Error Rate (DER)=%{y}<br>Experiment=%{customdata[1]}<extra></extra>",
         "legendgroup": "S228 intervention",
         "marker": {
          "color": "#B6E880",
          "size": 10,
          "symbol": "circle"
         },
         "mode": "markers",
         "name": "S228 intervention",
         "orientation": "v",
         "showlegend": true,
         "type": "scatter",
         "x": [
          0.0266
         ],
         "xaxis": "x",
         "y": [
          0.1079
         ],
         "yaxis": "y"
        },
        {
         "customdata": [
          [
           "S229 control",
           "OBE2"
          ]
         ],
         "hovertemplate": "Filename=%{customdata[0]}<br>Word Error Rate (WER)=%{x}<br>Diarization Error Rate (DER)=%{y}<br>Experiment=%{customdata[1]}<extra></extra>",
         "legendgroup": "S229 control",
         "marker": {
          "color": "#FF97FF",
          "size": 10,
          "symbol": "circle"
         },
         "mode": "markers",
         "name": "S229 control",
         "orientation": "v",
         "showlegend": true,
         "type": "scatter",
         "x": [
          0.4253
         ],
         "xaxis": "x",
         "y": [
          0.256
         ],
         "yaxis": "y"
        },
        {
         "customdata": [
          [
           "S229 intervention",
           "OBE2"
          ]
         ],
         "hovertemplate": "Filename=%{customdata[0]}<br>Word Error Rate (WER)=%{x}<br>Diarization Error Rate (DER)=%{y}<br>Experiment=%{customdata[1]}<extra></extra>",
         "legendgroup": "S229 intervention",
         "marker": {
          "color": "#FECB52",
          "size": 10,
          "symbol": "circle"
         },
         "mode": "markers",
         "name": "S229 intervention",
         "orientation": "v",
         "showlegend": true,
         "type": "scatter",
         "x": [
          0.3021
         ],
         "xaxis": "x",
         "y": [
          0.0901
         ],
         "yaxis": "y"
        },
        {
         "customdata": [
          [
           "S230 control",
           "OBE2"
          ]
         ],
         "hovertemplate": "Filename=%{customdata[0]}<br>Word Error Rate (WER)=%{x}<br>Diarization Error Rate (DER)=%{y}<br>Experiment=%{customdata[1]}<extra></extra>",
         "legendgroup": "S230 control",
         "marker": {
          "color": "#636efa",
          "size": 10,
          "symbol": "circle"
         },
         "mode": "markers",
         "name": "S230 control",
         "orientation": "v",
         "showlegend": true,
         "type": "scatter",
         "x": [
          0.1978
         ],
         "xaxis": "x",
         "y": [
          0.0983
         ],
         "yaxis": "y"
        },
        {
         "customdata": [
          [
           "S230 intervention",
           "OBE2"
          ]
         ],
         "hovertemplate": "Filename=%{customdata[0]}<br>Word Error Rate (WER)=%{x}<br>Diarization Error Rate (DER)=%{y}<br>Experiment=%{customdata[1]}<extra></extra>",
         "legendgroup": "S230 intervention",
         "marker": {
          "color": "#EF553B",
          "size": 10,
          "symbol": "circle"
         },
         "mode": "markers",
         "name": "S230 intervention",
         "orientation": "v",
         "showlegend": true,
         "type": "scatter",
         "x": [
          0.1543
         ],
         "xaxis": "x",
         "y": [
          0.0549
         ],
         "yaxis": "y"
        },
        {
         "customdata": [
          [
           "S301final",
           "Compassion"
          ]
         ],
         "hovertemplate": "Filename=%{customdata[0]}<br>Word Error Rate (WER)=%{x}<br>Diarization Error Rate (DER)=%{y}<br>Experiment=%{customdata[1]}<extra></extra>",
         "legendgroup": "S301final",
         "marker": {
          "color": "#00cc96",
          "size": 10,
          "symbol": "circle"
         },
         "mode": "markers",
         "name": "S301final",
         "orientation": "v",
         "showlegend": true,
         "type": "scatter",
         "x": [
          0.0293
         ],
         "xaxis": "x",
         "y": [
          0.0618
         ],
         "yaxis": "y"
        },
        {
         "customdata": [
          [
           "S302con",
           "Compassion"
          ]
         ],
         "hovertemplate": "Filename=%{customdata[0]}<br>Word Error Rate (WER)=%{x}<br>Diarization Error Rate (DER)=%{y}<br>Experiment=%{customdata[1]}<extra></extra>",
         "legendgroup": "S302con",
         "marker": {
          "color": "#ab63fa",
          "size": 10,
          "symbol": "circle"
         },
         "mode": "markers",
         "name": "S302con",
         "orientation": "v",
         "showlegend": true,
         "type": "scatter",
         "x": [
          0.2349
         ],
         "xaxis": "x",
         "y": [
          0.2563
         ],
         "yaxis": "y"
        },
        {
         "customdata": [
          [
           "S302man",
           "Compassion"
          ]
         ],
         "hovertemplate": "Filename=%{customdata[0]}<br>Word Error Rate (WER)=%{x}<br>Diarization Error Rate (DER)=%{y}<br>Experiment=%{customdata[1]}<extra></extra>",
         "legendgroup": "S302man",
         "marker": {
          "color": "#FFA15A",
          "size": 10,
          "symbol": "circle"
         },
         "mode": "markers",
         "name": "S302man",
         "orientation": "v",
         "showlegend": true,
         "type": "scatter",
         "x": [
          0.0734
         ],
         "xaxis": "x",
         "y": [
          0.0617
         ],
         "yaxis": "y"
        },
        {
         "customdata": [
          [
           "S303con",
           "Compassion"
          ]
         ],
         "hovertemplate": "Filename=%{customdata[0]}<br>Word Error Rate (WER)=%{x}<br>Diarization Error Rate (DER)=%{y}<br>Experiment=%{customdata[1]}<extra></extra>",
         "legendgroup": "S303con",
         "marker": {
          "color": "#19d3f3",
          "size": 10,
          "symbol": "circle"
         },
         "mode": "markers",
         "name": "S303con",
         "orientation": "v",
         "showlegend": true,
         "type": "scatter",
         "x": [
          0.0078
         ],
         "xaxis": "x",
         "y": [
          0.027
         ],
         "yaxis": "y"
        },
        {
         "customdata": [
          [
           "S303man",
           "Compassion"
          ]
         ],
         "hovertemplate": "Filename=%{customdata[0]}<br>Word Error Rate (WER)=%{x}<br>Diarization Error Rate (DER)=%{y}<br>Experiment=%{customdata[1]}<extra></extra>",
         "legendgroup": "S303man",
         "marker": {
          "color": "#FF6692",
          "size": 10,
          "symbol": "circle"
         },
         "mode": "markers",
         "name": "S303man",
         "orientation": "v",
         "showlegend": true,
         "type": "scatter",
         "x": [
          0.0088
         ],
         "xaxis": "x",
         "y": [
          0.1613
         ],
         "yaxis": "y"
        },
        {
         "customdata": [
          [
           "S304",
           "Compassion"
          ]
         ],
         "hovertemplate": "Filename=%{customdata[0]}<br>Word Error Rate (WER)=%{x}<br>Diarization Error Rate (DER)=%{y}<br>Experiment=%{customdata[1]}<extra></extra>",
         "legendgroup": "S304",
         "marker": {
          "color": "#B6E880",
          "size": 10,
          "symbol": "circle"
         },
         "mode": "markers",
         "name": "S304",
         "orientation": "v",
         "showlegend": true,
         "type": "scatter",
         "x": [
          0.0266
         ],
         "xaxis": "x",
         "y": [
          0.1214
         ],
         "yaxis": "y"
        },
        {
         "customdata": [
          [
           "S305con",
           "Compassion"
          ]
         ],
         "hovertemplate": "Filename=%{customdata[0]}<br>Word Error Rate (WER)=%{x}<br>Diarization Error Rate (DER)=%{y}<br>Experiment=%{customdata[1]}<extra></extra>",
         "legendgroup": "S305con",
         "marker": {
          "color": "#FF97FF",
          "size": 10,
          "symbol": "circle"
         },
         "mode": "markers",
         "name": "S305con",
         "orientation": "v",
         "showlegend": true,
         "type": "scatter",
         "x": [
          0.1518
         ],
         "xaxis": "x",
         "y": [
          0.0148
         ],
         "yaxis": "y"
        },
        {
         "customdata": [
          [
           "S306",
           "Compassion"
          ]
         ],
         "hovertemplate": "Filename=%{customdata[0]}<br>Word Error Rate (WER)=%{x}<br>Diarization Error Rate (DER)=%{y}<br>Experiment=%{customdata[1]}<extra></extra>",
         "legendgroup": "S306",
         "marker": {
          "color": "#FECB52",
          "size": 10,
          "symbol": "circle"
         },
         "mode": "markers",
         "name": "S306",
         "orientation": "v",
         "showlegend": true,
         "type": "scatter",
         "x": [
          0.0097
         ],
         "xaxis": "x",
         "y": [
          0.078
         ],
         "yaxis": "y"
        },
        {
         "customdata": [
          [
           "S307",
           "Compassion"
          ]
         ],
         "hovertemplate": "Filename=%{customdata[0]}<br>Word Error Rate (WER)=%{x}<br>Diarization Error Rate (DER)=%{y}<br>Experiment=%{customdata[1]}<extra></extra>",
         "legendgroup": "S307",
         "marker": {
          "color": "#636efa",
          "size": 10,
          "symbol": "circle"
         },
         "mode": "markers",
         "name": "S307",
         "orientation": "v",
         "showlegend": true,
         "type": "scatter",
         "x": [
          0.0272
         ],
         "xaxis": "x",
         "y": [
          0.1578
         ],
         "yaxis": "y"
        },
        {
         "customdata": [
          [
           "S313",
           "Compassion"
          ]
         ],
         "hovertemplate": "Filename=%{customdata[0]}<br>Word Error Rate (WER)=%{x}<br>Diarization Error Rate (DER)=%{y}<br>Experiment=%{customdata[1]}<extra></extra>",
         "legendgroup": "S313",
         "marker": {
          "color": "#EF553B",
          "size": 10,
          "symbol": "circle"
         },
         "mode": "markers",
         "name": "S313",
         "orientation": "v",
         "showlegend": true,
         "type": "scatter",
         "x": [
          0.0194
         ],
         "xaxis": "x",
         "y": [
          0.0359
         ],
         "yaxis": "y"
        }
       ],
       "layout": {
        "legend": {
         "title": {
          "text": "Filename"
         },
         "tracegroupgap": 0
        },
        "showlegend": false,
        "template": {
         "data": {
          "bar": [
           {
            "error_x": {
             "color": "#2a3f5f"
            },
            "error_y": {
             "color": "#2a3f5f"
            },
            "marker": {
             "line": {
              "color": "#E5ECF6",
              "width": 0.5
             },
             "pattern": {
              "fillmode": "overlay",
              "size": 10,
              "solidity": 0.2
             }
            },
            "type": "bar"
           }
          ],
          "barpolar": [
           {
            "marker": {
             "line": {
              "color": "#E5ECF6",
              "width": 0.5
             },
             "pattern": {
              "fillmode": "overlay",
              "size": 10,
              "solidity": 0.2
             }
            },
            "type": "barpolar"
           }
          ],
          "carpet": [
           {
            "aaxis": {
             "endlinecolor": "#2a3f5f",
             "gridcolor": "white",
             "linecolor": "white",
             "minorgridcolor": "white",
             "startlinecolor": "#2a3f5f"
            },
            "baxis": {
             "endlinecolor": "#2a3f5f",
             "gridcolor": "white",
             "linecolor": "white",
             "minorgridcolor": "white",
             "startlinecolor": "#2a3f5f"
            },
            "type": "carpet"
           }
          ],
          "choropleth": [
           {
            "colorbar": {
             "outlinewidth": 0,
             "ticks": ""
            },
            "type": "choropleth"
           }
          ],
          "contour": [
           {
            "colorbar": {
             "outlinewidth": 0,
             "ticks": ""
            },
            "colorscale": [
             [
              0,
              "#0d0887"
             ],
             [
              0.1111111111111111,
              "#46039f"
             ],
             [
              0.2222222222222222,
              "#7201a8"
             ],
             [
              0.3333333333333333,
              "#9c179e"
             ],
             [
              0.4444444444444444,
              "#bd3786"
             ],
             [
              0.5555555555555556,
              "#d8576b"
             ],
             [
              0.6666666666666666,
              "#ed7953"
             ],
             [
              0.7777777777777778,
              "#fb9f3a"
             ],
             [
              0.8888888888888888,
              "#fdca26"
             ],
             [
              1,
              "#f0f921"
             ]
            ],
            "type": "contour"
           }
          ],
          "contourcarpet": [
           {
            "colorbar": {
             "outlinewidth": 0,
             "ticks": ""
            },
            "type": "contourcarpet"
           }
          ],
          "heatmap": [
           {
            "colorbar": {
             "outlinewidth": 0,
             "ticks": ""
            },
            "colorscale": [
             [
              0,
              "#0d0887"
             ],
             [
              0.1111111111111111,
              "#46039f"
             ],
             [
              0.2222222222222222,
              "#7201a8"
             ],
             [
              0.3333333333333333,
              "#9c179e"
             ],
             [
              0.4444444444444444,
              "#bd3786"
             ],
             [
              0.5555555555555556,
              "#d8576b"
             ],
             [
              0.6666666666666666,
              "#ed7953"
             ],
             [
              0.7777777777777778,
              "#fb9f3a"
             ],
             [
              0.8888888888888888,
              "#fdca26"
             ],
             [
              1,
              "#f0f921"
             ]
            ],
            "type": "heatmap"
           }
          ],
          "heatmapgl": [
           {
            "colorbar": {
             "outlinewidth": 0,
             "ticks": ""
            },
            "colorscale": [
             [
              0,
              "#0d0887"
             ],
             [
              0.1111111111111111,
              "#46039f"
             ],
             [
              0.2222222222222222,
              "#7201a8"
             ],
             [
              0.3333333333333333,
              "#9c179e"
             ],
             [
              0.4444444444444444,
              "#bd3786"
             ],
             [
              0.5555555555555556,
              "#d8576b"
             ],
             [
              0.6666666666666666,
              "#ed7953"
             ],
             [
              0.7777777777777778,
              "#fb9f3a"
             ],
             [
              0.8888888888888888,
              "#fdca26"
             ],
             [
              1,
              "#f0f921"
             ]
            ],
            "type": "heatmapgl"
           }
          ],
          "histogram": [
           {
            "marker": {
             "pattern": {
              "fillmode": "overlay",
              "size": 10,
              "solidity": 0.2
             }
            },
            "type": "histogram"
           }
          ],
          "histogram2d": [
           {
            "colorbar": {
             "outlinewidth": 0,
             "ticks": ""
            },
            "colorscale": [
             [
              0,
              "#0d0887"
             ],
             [
              0.1111111111111111,
              "#46039f"
             ],
             [
              0.2222222222222222,
              "#7201a8"
             ],
             [
              0.3333333333333333,
              "#9c179e"
             ],
             [
              0.4444444444444444,
              "#bd3786"
             ],
             [
              0.5555555555555556,
              "#d8576b"
             ],
             [
              0.6666666666666666,
              "#ed7953"
             ],
             [
              0.7777777777777778,
              "#fb9f3a"
             ],
             [
              0.8888888888888888,
              "#fdca26"
             ],
             [
              1,
              "#f0f921"
             ]
            ],
            "type": "histogram2d"
           }
          ],
          "histogram2dcontour": [
           {
            "colorbar": {
             "outlinewidth": 0,
             "ticks": ""
            },
            "colorscale": [
             [
              0,
              "#0d0887"
             ],
             [
              0.1111111111111111,
              "#46039f"
             ],
             [
              0.2222222222222222,
              "#7201a8"
             ],
             [
              0.3333333333333333,
              "#9c179e"
             ],
             [
              0.4444444444444444,
              "#bd3786"
             ],
             [
              0.5555555555555556,
              "#d8576b"
             ],
             [
              0.6666666666666666,
              "#ed7953"
             ],
             [
              0.7777777777777778,
              "#fb9f3a"
             ],
             [
              0.8888888888888888,
              "#fdca26"
             ],
             [
              1,
              "#f0f921"
             ]
            ],
            "type": "histogram2dcontour"
           }
          ],
          "mesh3d": [
           {
            "colorbar": {
             "outlinewidth": 0,
             "ticks": ""
            },
            "type": "mesh3d"
           }
          ],
          "parcoords": [
           {
            "line": {
             "colorbar": {
              "outlinewidth": 0,
              "ticks": ""
             }
            },
            "type": "parcoords"
           }
          ],
          "pie": [
           {
            "automargin": true,
            "type": "pie"
           }
          ],
          "scatter": [
           {
            "fillpattern": {
             "fillmode": "overlay",
             "size": 10,
             "solidity": 0.2
            },
            "type": "scatter"
           }
          ],
          "scatter3d": [
           {
            "line": {
             "colorbar": {
              "outlinewidth": 0,
              "ticks": ""
             }
            },
            "marker": {
             "colorbar": {
              "outlinewidth": 0,
              "ticks": ""
             }
            },
            "type": "scatter3d"
           }
          ],
          "scattercarpet": [
           {
            "marker": {
             "colorbar": {
              "outlinewidth": 0,
              "ticks": ""
             }
            },
            "type": "scattercarpet"
           }
          ],
          "scattergeo": [
           {
            "marker": {
             "colorbar": {
              "outlinewidth": 0,
              "ticks": ""
             }
            },
            "type": "scattergeo"
           }
          ],
          "scattergl": [
           {
            "marker": {
             "colorbar": {
              "outlinewidth": 0,
              "ticks": ""
             }
            },
            "type": "scattergl"
           }
          ],
          "scattermapbox": [
           {
            "marker": {
             "colorbar": {
              "outlinewidth": 0,
              "ticks": ""
             }
            },
            "type": "scattermapbox"
           }
          ],
          "scatterpolar": [
           {
            "marker": {
             "colorbar": {
              "outlinewidth": 0,
              "ticks": ""
             }
            },
            "type": "scatterpolar"
           }
          ],
          "scatterpolargl": [
           {
            "marker": {
             "colorbar": {
              "outlinewidth": 0,
              "ticks": ""
             }
            },
            "type": "scatterpolargl"
           }
          ],
          "scatterternary": [
           {
            "marker": {
             "colorbar": {
              "outlinewidth": 0,
              "ticks": ""
             }
            },
            "type": "scatterternary"
           }
          ],
          "surface": [
           {
            "colorbar": {
             "outlinewidth": 0,
             "ticks": ""
            },
            "colorscale": [
             [
              0,
              "#0d0887"
             ],
             [
              0.1111111111111111,
              "#46039f"
             ],
             [
              0.2222222222222222,
              "#7201a8"
             ],
             [
              0.3333333333333333,
              "#9c179e"
             ],
             [
              0.4444444444444444,
              "#bd3786"
             ],
             [
              0.5555555555555556,
              "#d8576b"
             ],
             [
              0.6666666666666666,
              "#ed7953"
             ],
             [
              0.7777777777777778,
              "#fb9f3a"
             ],
             [
              0.8888888888888888,
              "#fdca26"
             ],
             [
              1,
              "#f0f921"
             ]
            ],
            "type": "surface"
           }
          ],
          "table": [
           {
            "cells": {
             "fill": {
              "color": "#EBF0F8"
             },
             "line": {
              "color": "white"
             }
            },
            "header": {
             "fill": {
              "color": "#C8D4E3"
             },
             "line": {
              "color": "white"
             }
            },
            "type": "table"
           }
          ]
         },
         "layout": {
          "annotationdefaults": {
           "arrowcolor": "#2a3f5f",
           "arrowhead": 0,
           "arrowwidth": 1
          },
          "autotypenumbers": "strict",
          "coloraxis": {
           "colorbar": {
            "outlinewidth": 0,
            "ticks": ""
           }
          },
          "colorscale": {
           "diverging": [
            [
             0,
             "#8e0152"
            ],
            [
             0.1,
             "#c51b7d"
            ],
            [
             0.2,
             "#de77ae"
            ],
            [
             0.3,
             "#f1b6da"
            ],
            [
             0.4,
             "#fde0ef"
            ],
            [
             0.5,
             "#f7f7f7"
            ],
            [
             0.6,
             "#e6f5d0"
            ],
            [
             0.7,
             "#b8e186"
            ],
            [
             0.8,
             "#7fbc41"
            ],
            [
             0.9,
             "#4d9221"
            ],
            [
             1,
             "#276419"
            ]
           ],
           "sequential": [
            [
             0,
             "#0d0887"
            ],
            [
             0.1111111111111111,
             "#46039f"
            ],
            [
             0.2222222222222222,
             "#7201a8"
            ],
            [
             0.3333333333333333,
             "#9c179e"
            ],
            [
             0.4444444444444444,
             "#bd3786"
            ],
            [
             0.5555555555555556,
             "#d8576b"
            ],
            [
             0.6666666666666666,
             "#ed7953"
            ],
            [
             0.7777777777777778,
             "#fb9f3a"
            ],
            [
             0.8888888888888888,
             "#fdca26"
            ],
            [
             1,
             "#f0f921"
            ]
           ],
           "sequentialminus": [
            [
             0,
             "#0d0887"
            ],
            [
             0.1111111111111111,
             "#46039f"
            ],
            [
             0.2222222222222222,
             "#7201a8"
            ],
            [
             0.3333333333333333,
             "#9c179e"
            ],
            [
             0.4444444444444444,
             "#bd3786"
            ],
            [
             0.5555555555555556,
             "#d8576b"
            ],
            [
             0.6666666666666666,
             "#ed7953"
            ],
            [
             0.7777777777777778,
             "#fb9f3a"
            ],
            [
             0.8888888888888888,
             "#fdca26"
            ],
            [
             1,
             "#f0f921"
            ]
           ]
          },
          "colorway": [
           "#636efa",
           "#EF553B",
           "#00cc96",
           "#ab63fa",
           "#FFA15A",
           "#19d3f3",
           "#FF6692",
           "#B6E880",
           "#FF97FF",
           "#FECB52"
          ],
          "font": {
           "color": "#2a3f5f"
          },
          "geo": {
           "bgcolor": "white",
           "lakecolor": "white",
           "landcolor": "#E5ECF6",
           "showlakes": true,
           "showland": true,
           "subunitcolor": "white"
          },
          "hoverlabel": {
           "align": "left"
          },
          "hovermode": "closest",
          "mapbox": {
           "style": "light"
          },
          "paper_bgcolor": "white",
          "plot_bgcolor": "#E5ECF6",
          "polar": {
           "angularaxis": {
            "gridcolor": "white",
            "linecolor": "white",
            "ticks": ""
           },
           "bgcolor": "#E5ECF6",
           "radialaxis": {
            "gridcolor": "white",
            "linecolor": "white",
            "ticks": ""
           }
          },
          "scene": {
           "xaxis": {
            "backgroundcolor": "#E5ECF6",
            "gridcolor": "white",
            "gridwidth": 2,
            "linecolor": "white",
            "showbackground": true,
            "ticks": "",
            "zerolinecolor": "white"
           },
           "yaxis": {
            "backgroundcolor": "#E5ECF6",
            "gridcolor": "white",
            "gridwidth": 2,
            "linecolor": "white",
            "showbackground": true,
            "ticks": "",
            "zerolinecolor": "white"
           },
           "zaxis": {
            "backgroundcolor": "#E5ECF6",
            "gridcolor": "white",
            "gridwidth": 2,
            "linecolor": "white",
            "showbackground": true,
            "ticks": "",
            "zerolinecolor": "white"
           }
          },
          "shapedefaults": {
           "line": {
            "color": "#2a3f5f"
           }
          },
          "ternary": {
           "aaxis": {
            "gridcolor": "white",
            "linecolor": "white",
            "ticks": ""
           },
           "baxis": {
            "gridcolor": "white",
            "linecolor": "white",
            "ticks": ""
           },
           "bgcolor": "#E5ECF6",
           "caxis": {
            "gridcolor": "white",
            "linecolor": "white",
            "ticks": ""
           }
          },
          "title": {
           "x": 0.05
          },
          "xaxis": {
           "automargin": true,
           "gridcolor": "white",
           "linecolor": "white",
           "ticks": "",
           "title": {
            "standoff": 15
           },
           "zerolinecolor": "white",
           "zerolinewidth": 2
          },
          "yaxis": {
           "automargin": true,
           "gridcolor": "white",
           "linecolor": "white",
           "ticks": "",
           "title": {
            "standoff": 15
           },
           "zerolinecolor": "white",
           "zerolinewidth": 2
          }
         }
        },
        "title": {
         "text": "Interactive Scatter Plot of WER vs. DER"
        },
        "xaxis": {
         "anchor": "y",
         "domain": [
          0,
          1
         ],
         "title": {
          "text": "Word Error Rate (WER)"
         }
        },
        "yaxis": {
         "anchor": "x",
         "domain": [
          0,
          1
         ],
         "title": {
          "text": "Diarization Error Rate (DER)"
         }
        }
       }
      }
     },
     "metadata": {},
     "output_type": "display_data"
    }
   ],
   "source": [
    "plot_boxplots(df)\n",
    "plot_histograms(df)\n",
    "plot_wer_vs_der_scatter(df)"
   ]
  },
  {
   "cell_type": "code",
   "execution_count": null,
   "metadata": {},
   "outputs": [
    {
     "data": {
      "image/png": "[encoded data removed]",
      "text/plain": [
       "<Figure size 1000x600 with 1 Axes>"
      ]
     },
     "metadata": {},
     "output_type": "display_data"
    }
   ],
   "source": [
    "def plot_boxplot_experiment(df):\n",
    "    \"\"\"\n",
    "    Plots box plots for WER and DER, grouped by Experiment.\n",
    "    \n",
    "    Args:\n",
    "        df (pd.DataFrame): DataFrame containing the metrics and Experiment column.\n",
    "    \"\"\"\n",
    "    plt.figure(figsize=(10, 6))\n",
    "    \n",
    "    # Melt the DataFrame for easier plotting with Seaborn\n",
    "    melted_df = df.melt(id_vars=['Filename', 'Experiment'], \n",
    "                        value_vars=['WER', 'DER'], \n",
    "                        var_name='Metric', \n",
    "                        value_name='Value')\n",
    "    \n",
    "    # Create the boxplot with Experiment as hue\n",
    "    sns.boxplot(x='Metric', y='Value', hue='Experiment', data=melted_df, palette='pastel')\n",
    "    sns.stripplot(x='Metric', y='Value', hue='Experiment', data=melted_df, size=4, linewidth=1,dodge=True, jitter=True, legend=False, edgecolor=\"k\")\n",
    "    \n",
    "    plt.ylabel('Error Rate')\n",
    "    plt.xlabel('')\n",
    "    #plt.title('Boxplots of WER and DER by Experiment')\n",
    "    plt.legend(title='Experiment')\n",
    "    plt.tight_layout()\n",
    "    plt.show()\n",
    "\n",
    "plot_boxplot_experiment(df)"
   ]
  },
  {
   "cell_type": "code",
   "execution_count": null,
   "metadata": {},
   "outputs": [
    {
     "data": {
      "image/png": "[encoded data removed]",
      "text/plain": [
       "<Figure size 1000x800 with 2 Axes>"
      ]
     },
     "metadata": {},
     "output_type": "display_data"
    }
   ],
   "source": [
    "# Drop a column if it is not needed\n",
    "df_c = df.drop(columns=['Filename']).copy()\n",
    "correlation_matrix = df_c.corr()\n",
    "\n",
    "# Create a heatmap for the correlation matrix\n",
    "plt.figure(figsize=(10, 8))\n",
    "sns.heatmap(correlation_matrix, annot=True, fmt=\".2f\", cmap=\"coolwarm\", cbar=True)\n",
    "plt.title(\"Correlation Matrix of Performance Metrics\")\n",
    "plt.tight_layout()\n",
    "plt.show()"
   ]
  },
  {
   "cell_type": "markdown",
   "metadata": {},
   "source": [
    "## Estimation of time passed verify transcription"
   ]
  },
  {
   "cell_type": "code",
   "execution_count": 6,
   "metadata": {},
   "outputs": [],
   "source": [
    "df_time = pd.read_csv(\"outputs/time_data.csv\")\n",
    "\n",
    "# Function to convert HH:MM:SS to total seconds\n",
    "def time_to_seconds(time_str):\n",
    "    try:\n",
    "        h, m, s = map(int, time_str.split(':'))\n",
    "        return h * 3600 + m * 60 + s\n",
    "    except:\n",
    "        return np.nan  # Return NaN if time_str is not a valid format\n",
    "\n",
    "df_time['Verification_sec'] = df_time['Verification_time'].apply(time_to_seconds)\n",
    "\n",
    "# Drop rows where 'Verification_sec' is NaN\n",
    "df_time = df_time.dropna(subset=['Verification_sec'])\n",
    "\n",
    "df_time.loc[:, 'Ratio'] = df_time['Verification_sec'] / df_time['Duration_sec'] "
   ]
  },
  {
   "cell_type": "code",
   "execution_count": 7,
   "metadata": {},
   "outputs": [
    {
     "data": {
      "image/png": "[encoded data removed]",
      "text/plain": [
       "<Figure size 1000x600 with 1 Axes>"
      ]
     },
     "metadata": {},
     "output_type": "display_data"
    }
   ],
   "source": [
    "plt.figure(figsize=(10, 6))\n",
    "sns.histplot(df_time['Ratio'].dropna(), kde=True, bins=20)\n",
    "plt.title('Distribution of Time Spent as ratio of Recording Duration')\n",
    "plt.xlabel('Time Spent Verifying / Recording Duration (Ratio)')\n",
    "plt.ylabel('Frequency')\n",
    "plt.show()"
   ]
  },
  {
   "cell_type": "code",
   "execution_count": 10,
   "metadata": {},
   "outputs": [
    {
     "data": {
      "image/png": "[encoded data removed]",
      "text/plain": [
       "<Figure size 1200x600 with 1 Axes>"
      ]
     },
     "metadata": {},
     "output_type": "display_data"
    }
   ],
   "source": [
    "# Add a new row for the \"All\" category\n",
    "df_all = df_time.copy()\n",
    "df_all['Experiment'] = 'All'\n",
    "\n",
    "# Concatenate the original data with the \"All\" data\n",
    "df_combined = pd.concat([df_all, df_time])\n",
    "\n",
    "# Plot the box plot with \"All\" as an additional category\n",
    "plt.figure(figsize=(12, 6))\n",
    "sns.boxplot(data=df_combined, x='Experiment', y='Ratio')\n",
    "sns.stripplot(data=df_combined, x='Experiment', y='Ratio', size=4, linewidth=1, dodge=True, jitter=True, edgecolor='black')\n",
    "plt.title('Ratio of Verification Time to Recording Duration')\n",
    "plt.xlabel('Experiment')\n",
    "plt.ylabel('Time Spent / Recording Duration')\n",
    "plt.show()"
   ]
  },
  {
   "cell_type": "code",
   "execution_count": null,
   "metadata": {},
   "outputs": [],
   "source": []
  }
 ],
 "metadata": {
  "kernelspec": {
   "display_name": "basic",
   "language": "python",
   "name": "python3"
  },
  "language_info": {
   "codemirror_mode": {
    "name": "ipython",
    "version": 3
   },
   "file_extension": ".py",
   "mimetype": "text/x-python",
   "name": "python",
   "nbconvert_exporter": "python",
   "pygments_lexer": "ipython3",
   "version": "3.10.15"
  }
 },
 "nbformat": 4,
 "nbformat_minor": 2
}
