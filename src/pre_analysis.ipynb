{
 "cells": [
  {
   "cell_type": "markdown",
   "metadata": {},
   "source": [
    "# Pre-Analysis of the audios files"
   ]
  },
  {
   "cell_type": "code",
   "execution_count": null,
   "metadata": {},
   "outputs": [],
   "source": [
    "%load_ext autoreload\n",
    "%autoreload 2"
   ]
  },
  {
   "cell_type": "code",
   "execution_count": 3,
   "metadata": {},
   "outputs": [],
   "source": [
    "import pandas as pd\n",
    "from utils.format_helpers import analyze_audio_files, extract_id\n",
    "\n",
    "import matplotlib.pyplot as plt\n",
    "import seaborn as sns\n",
    "sns.set()"
   ]
  },
  {
   "cell_type": "markdown",
   "metadata": {},
   "source": [
    "## Raw Audio Analysis (Meditation)"
   ]
  },
  {
   "cell_type": "code",
   "execution_count": null,
   "metadata": {},
   "outputs": [],
   "source": [
    "directories = [\"../data/OBE1\",\"../data/OBE2\",\"../data/Compassion\"]\n",
    "extensions = [\"m4a\",\"wav\",\"mp4\"]\n",
    "\n",
    "df = analyze_audio_files(directories, extensions)\n",
    "\n",
    "# Sort by alphabetical order of experiment names\n",
    "df = df.sort_values(by=\"Experiment\", ascending=True)\n",
    "df.to_csv(\"outputs/audio_data.csv\", index=False)\n",
    "df"
   ]
  },
  {
   "cell_type": "code",
   "execution_count": null,
   "metadata": {},
   "outputs": [],
   "source": [
    "# Group by 'Experiment' and sum durations\n",
    "print(df.groupby('Experiment')['Duration_timedelta'].sum())\n",
    "print(df['Duration_timedelta'].sum())"
   ]
  },
  {
   "cell_type": "code",
   "execution_count": null,
   "metadata": {},
   "outputs": [],
   "source": [
    "# Create a mapping of Filename to Experiment\n",
    "df_conditon = pd.read_csv('./outputs/overview_interviews.csv')\n",
    "filename_to_condition = dict(zip(df_conditon['File Name'],df_conditon['Condition']))\n",
    "\n",
    "df = pd.read_csv(\"outputs/audio_data.csv\")\n",
    "df['Condition'] = df['File Name'].map(filename_to_condition)\n",
    "df"
   ]
  },
  {
   "cell_type": "code",
   "execution_count": null,
   "metadata": {},
   "outputs": [],
   "source": [
    "# Add a new row for the \"All\" category\n",
    "df_all = df.copy()\n",
    "df_all['Experiment'] = 'All'\n",
    "\n",
    "# Concatenate the original data with the \"All\" data\n",
    "df_combined = pd.concat([df_all, df])\n",
    "default_palette = sns.color_palette(\"deep\")  \n",
    "palette = {experiment: (default_palette[0] if experiment != 'All' else default_palette[3]) for experiment in df_combined['Experiment'].unique()}\n",
    "\n",
    "# Add a new column for duration in minutes\n",
    "df_combined['Duration_min'] = df_combined['Duration_sec'] / 60\n",
    "\n",
    "# Plot\n",
    "plt.figure(figsize=(10, 5))\n",
    "sns.boxplot(x='Experiment', y='Duration_min', data=df_combined, palette=palette, hue='Experiment')\n",
    "sns.stripplot(x='Experiment', y='Duration_min', data=df_combined, alpha=0.7, edgecolor='k', color='gray',linewidth=1)\n",
    "\n",
    "# Set titles and labels\n",
    "plt.title('Audio Duration by Experiment')\n",
    "plt.xlabel('Experiments')\n",
    "plt.ylabel('Duration (minutes)')\n",
    "\n",
    "plt.tight_layout()\n",
    "plt.show()"
   ]
  },
  {
   "cell_type": "code",
   "execution_count": null,
   "metadata": {},
   "outputs": [],
   "source": [
    "plt.figure(figsize=(12, 4))\n",
    "sns.countplot(x='Id', hue='Experiment', data=df, palette='Set2')\n",
    "\n",
    "plt.title('Number of Interviews by Participant')\n",
    "plt.xlabel('Participant ID')\n",
    "plt.ylabel('Number of Interviews')\n",
    "plt.xticks(rotation=45)\n",
    "plt.legend(title='Experiment')\n",
    "# Set y-axis to show only integers\n",
    "plt.yticks(range(0, int(df['Id'].value_counts().max()) + 1))\n",
    "\n",
    "plt.tight_layout()\n",
    "#plt.savefig('interviews_by_participant.png', dpi=600)\n",
    "plt.show()"
   ]
  },
  {
   "cell_type": "code",
   "execution_count": null,
   "metadata": {},
   "outputs": [],
   "source": [
    "# Count the number of file name per experiment\n",
    "df_count = df.groupby('Experiment')['File Name'].nunique().reset_index()\n",
    "df_count"
   ]
  },
  {
   "cell_type": "code",
   "execution_count": null,
   "metadata": {},
   "outputs": [],
   "source": [
    "df_count.sum()"
   ]
  },
  {
   "cell_type": "code",
   "execution_count": null,
   "metadata": {},
   "outputs": [],
   "source": [
    "# Count the number of id per experiment\n",
    "df_count = df.groupby('Experiment')['Id'].nunique().reset_index()\n",
    "df_count"
   ]
  },
  {
   "cell_type": "markdown",
   "metadata": {},
   "source": [
    "## Get the order of the conditions for each experiment (Meditation)"
   ]
  },
  {
   "cell_type": "markdown",
   "metadata": {},
   "source": [
    "Final version, need to be completed & verified manually. \n",
    "- Done and actually located at ``interviews_corrected`` folder.\n",
    "\n",
    "**C** : Control ; **I** : Intervention ; **1** : Only one interview ; **0** : No interview (eg. Set-up)"
   ]
  },
  {
   "cell_type": "code",
   "execution_count": null,
   "metadata": {},
   "outputs": [],
   "source": [
    "df = pd.read_csv(\"outputs/audio_data.csv\")\n",
    "# Compassion\n",
    "conditions_compassion = pd.read_csv(\"../data/Compassion/Compassion_orders.csv\")\n",
    "conditions_compassion[\"Id\"] = conditions_compassion[\"Number\"].apply(extract_id)\n",
    "# If the first word is control -> CI, otherwise -> IC\n",
    "conditions_compassion[\"Order_Condition\"] = conditions_compassion[\"order\"].apply(lambda x: \"CI\" if x.split()[0] == \"control\" else \"IC\")\n",
    "\n",
    "# OBE2\n",
    "conditions_obe2 = pd.read_excel(\"../Data/OBE2/Order_of_conditions.xlsx\")\n",
    "conditions_obe2[\"Id\"] = conditions_obe2[\"Identification No.\"].apply(extract_id)\n",
    "# CM -> CI, otherwise -> IC\n",
    "conditions_obe2[\"Order_Condition\"] = conditions_obe2[\"Order\"].apply(lambda x: \"CI\" if x == \"CM\" else \"IC\")\n",
    "\n",
    "# OBE1\n",
    "conditions_obe1 = pd.read_csv(\"../Data/OBE1/order_OBE1.csv\")\n",
    "conditions_obe1[\"Id\"] = conditions_obe1[\"subjID\"]\n",
    "conditions_obe1[\"Order_Condition\"] = conditions_obe1[\"order\"].apply(lambda x: \"CI\" if x == \"CM\" else \"IC\")\n",
    "\n",
    "# Combine all conditions\n",
    "conditions = pd.concat([conditions_compassion, conditions_obe2, conditions_obe1], ignore_index=True)\n",
    "df = pd.merge(df, conditions[[\"Id\",\"Order_Condition\"]], on=\"Id\", how=\"left\")\n",
    "\n",
    "# Create the 'Condition' column and set initial values to None\n",
    "df[\"Condition\"] = None\n",
    "df = df.sort_values(by=['Id', 'File_name'])\n",
    "\n",
    "def assign_condition(row):\n",
    "    # Get rows for the same Id in any experiment\n",
    "    id_group = df[df['Id'] == row['Id']]\n",
    "    \n",
    "    # If there is only one file for this Id, set Condition to \"1\"\n",
    "    if len(id_group) == 1:\n",
    "        return \"1\"\n",
    "    \n",
    "    # Assign 'Condition' based on alphabetical order in 'OBE2' and 'OBE1'\n",
    "    if row['Experiment'] in ['OBE1', 'OBE2']  and len(id_group) == 2:\n",
    "        if row.name == id_group.index[0]:\n",
    "            return row['Order_Condition'][0]\n",
    "        elif row.name == id_group.index[1]:\n",
    "            return row['Order_Condition'][1]\n",
    "    \n",
    "    # For other cases, leave Condition as None\n",
    "    return row['Condition']\n",
    "\n",
    "# Apply the function to assign conditions\n",
    "df['Condition'] = df.apply(assign_condition, axis=1)\n",
    "\n",
    "# Select specific columns and save the final structured data\n",
    "df = df[[\"Experiment\", \"File_name\", \"Id\", \"Duration\", \"Order_Condition\", \"Condition\"]]\n",
    "\n",
    "df.to_csv(\"outputs/structured_data.csv\", index=False)\n",
    "df"
   ]
  },
  {
   "cell_type": "markdown",
   "metadata": {},
   "source": [
    "## Raw Audio Analysis (Grief)"
   ]
  },
  {
   "cell_type": "code",
   "execution_count": null,
   "metadata": {},
   "outputs": [],
   "source": [
    "directories = [\"../data/Grief/eng\",\"../data/Grief/fr\"]\n",
    "extensions = [\"m4a\",\"wav\",\"mp4\"]\n",
    "\n",
    "df = analyze_audio_files(directories, extensions)\n",
    "\n",
    "df.to_csv(\"outputs/GRIEF_audio_data.csv\", index=False)\n",
    "df"
   ]
  },
  {
   "cell_type": "code",
   "execution_count": null,
   "metadata": {},
   "outputs": [],
   "source": [
    "# Group by 'Experiment' and sum durations\n",
    "print(df.groupby('Experiment')['Duration_timedelta'].sum())\n",
    "print(df['Duration_timedelta'].sum())"
   ]
  },
  {
   "cell_type": "code",
   "execution_count": null,
   "metadata": {},
   "outputs": [],
   "source": [
    "len(df['Id'].unique())"
   ]
  },
  {
   "cell_type": "code",
   "execution_count": null,
   "metadata": {},
   "outputs": [],
   "source": [
    "df_summarized = df.groupby(['Id', 'Experiment'], as_index=False)['Duration_sec'].sum()\n",
    "\n",
    "# Add a new column for duration in minutes\n",
    "df_summarized['Duration_min'] = df_summarized['Duration_sec'] / 60\n",
    "\n",
    "# Add a new row for the \"All\" category\n",
    "df_summarized_all = df_summarized.copy()\n",
    "df_summarized_all['Experiment'] = 'All'\n",
    "\n",
    "# Combine the \"All\" data with the original data\n",
    "df_combined = pd.concat([df_summarized_all,df_summarized])\n",
    "\n",
    "# Plot\n",
    "plt.figure(figsize=(10, 5))\n",
    "sns.boxplot(x='Experiment', y='Duration_min', data=df_combined)\n",
    "sns.stripplot(x='Experiment', y='Duration_min', data=df_combined, alpha=0.7, edgecolor='k', linewidth=1)\n",
    "\n",
    "# Set titles and labels\n",
    "plt.title('Audio Duration by Experiment (Summed by Participant ID)')\n",
    "plt.xlabel('Experiments')\n",
    "plt.ylabel('Duration (minutes)')\n",
    "\n",
    "plt.tight_layout()\n",
    "plt.show()"
   ]
  },
  {
   "cell_type": "code",
   "execution_count": null,
   "metadata": {},
   "outputs": [],
   "source": []
  }
 ],
 "metadata": {
  "kernelspec": {
   "display_name": "basic",
   "language": "python",
   "name": "python3"
  },
  "language_info": {
   "codemirror_mode": {
    "name": "ipython",
    "version": 3
   },
   "file_extension": ".py",
   "mimetype": "text/x-python",
   "name": "python",
   "nbconvert_exporter": "python",
   "pygments_lexer": "ipython3",
   "version": "3.10.15"
  }
 },
 "nbformat": 4,
 "nbformat_minor": 2
}
