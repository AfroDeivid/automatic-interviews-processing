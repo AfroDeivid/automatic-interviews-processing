{
 "cells": [
  {
   "cell_type": "code",
   "execution_count": 1,
   "metadata": {},
   "outputs": [],
   "source": [
    "%load_ext autoreload\n",
    "%autoreload 2"
   ]
  },
  {
   "cell_type": "markdown",
   "metadata": {},
   "source": [
    "# Word (.docx) to CSV"
   ]
  },
  {
   "cell_type": "code",
   "execution_count": 2,
   "metadata": {},
   "outputs": [
    {
     "data": {
      "text/plain": [
       "'from utils.translation_helpers import docx_to_csv\\n\\nword_file = \"../data/Parkinson/en/7-1_script_interview_clinique_1 English.docx\"\\ndocx_to_csv(word_file, data_directory=\"../data\")'"
      ]
     },
     "execution_count": 2,
     "metadata": {},
     "output_type": "execute_result"
    }
   ],
   "source": [
    "\"\"\"from utils.translation_helpers import docx_to_csv\n",
    "\n",
    "word_file = \"../data/Parkinson/en/7-1_script_interview_clinique_1 English.docx\"\n",
    "docx_to_csv(word_file, data_directory=\"../data\")\"\"\""
   ]
  },
  {
   "cell_type": "markdown",
   "metadata": {},
   "source": [
    "# Translation"
   ]
  },
  {
   "cell_type": "code",
   "execution_count": 3,
   "metadata": {},
   "outputs": [
    {
     "name": "stderr",
     "output_type": "stream",
     "text": [
      "c:\\Users\\david\\anaconda3\\envs\\seam\\lib\\site-packages\\transformers\\deepspeed.py:24: FutureWarning: transformers.deepspeed module is deprecated and will be removed in a future version. Please import deepspeed modules directly from transformers.integrations\n",
      "  warnings.warn(\n"
     ]
    }
   ],
   "source": [
    "from transformers import SeamlessM4Tv2ForTextToText, AutoProcessor\n",
    "import torch\n",
    "from translation_helpers import *"
   ]
  },
  {
   "cell_type": "code",
   "execution_count": 4,
   "metadata": {},
   "outputs": [
    {
     "name": "stdout",
     "output_type": "stream",
     "text": [
      "True\n",
      "1\n",
      "NVIDIA GeForce GTX 1050 Ti\n"
     ]
    }
   ],
   "source": [
    "print(torch.cuda.is_available())\n",
    "print(torch.cuda.device_count())\n",
    "print(torch.cuda.get_device_name(0) if torch.cuda.is_available() else \"No GPU found\")"
   ]
  },
  {
   "cell_type": "code",
   "execution_count": 5,
   "metadata": {},
   "outputs": [
    {
     "data": {
      "application/vnd.jupyter.widget-view+json": {
       "model_id": "544e630c41cf4cf48aa3f3d000e5c363",
       "version_major": 2,
       "version_minor": 0
      },
      "text/plain": [
       "Loading checkpoint shards:   0%|          | 0/2 [00:00<?, ?it/s]"
      ]
     },
     "metadata": {},
     "output_type": "display_data"
    }
   ],
   "source": [
    "model = SeamlessM4Tv2ForTextToText.from_pretrained(\"facebook/seamless-m4t-v2-large\")\n",
    "processor = AutoProcessor.from_pretrained(\"facebook/seamless-m4t-v2-large\")\n",
    "cuda = True\n",
    "\n",
    "if cuda and torch.cuda.is_available():\n",
    "    model = model.to(\"cuda\")"
   ]
  },
  {
   "cell_type": "code",
   "execution_count": 6,
   "metadata": {},
   "outputs": [
    {
     "name": "stdout",
     "output_type": "stream",
     "text": [
      "Max INPUT token length: 4096\n",
      "Max OUTPUT tokens: 256\n"
     ]
    }
   ],
   "source": [
    "# Check the max position embeddings (equivalent to max token length)\n",
    "max_length = model.config.max_position_embeddings\n",
    "print(f\"Max INPUT token length: {max_length}\")\n",
    "\n",
    "# Check the max new tokens (equivalent to max OUTPUT token length)\n",
    "model.config.max_new_tokens\n",
    "print(f\"Max OUTPUT tokens: {model.config.max_new_tokens}\")"
   ]
  },
  {
   "cell_type": "markdown",
   "metadata": {},
   "source": [
    "### Translate one file"
   ]
  },
  {
   "cell_type": "code",
   "execution_count": 7,
   "metadata": {},
   "outputs": [],
   "source": [
    "# source_lang = \"fra\" # French\n",
    "# target_lang = \"eng\" # English\n",
    "# path_file = \"../results/Parkinson/fr/7-1_script_interview_clinique_4_21-08-2020.csv\" # short file"
   ]
  },
  {
   "cell_type": "code",
   "execution_count": 8,
   "metadata": {},
   "outputs": [],
   "source": [
    "#translate_by_row_csv_with_chunking(path_file, source_lang, target_lang, model, processor, max_tokens=200, use_cuda=True)"
   ]
  },
  {
   "cell_type": "markdown",
   "metadata": {},
   "source": [
    "### Translate all files inside a folder"
   ]
  },
  {
   "cell_type": "code",
   "execution_count": 9,
   "metadata": {},
   "outputs": [
    {
     "name": "stderr",
     "output_type": "stream",
     "text": [
      "Translating 7-1_script_interview_clinique_1.csv: 100%|██████████| 355/355 [36:28<00:00,  6.16s/it]\n",
      "Processing Files:  12%|█▎        | 1/8 [36:28<4:15:16, 2188.08s/it]"
     ]
    },
    {
     "name": "stdout",
     "output_type": "stream",
     "text": [
      "Translation completed for 7-1_script_interview_clinique_1.csv. Output saved to c:\\Users\\david\\Documents\\GitHub\\Meditation-Interviews\\results\\Parkinson\\translation_fra_to_eng\\7-1_script_interview_clinique_1.csv.\n"
     ]
    },
    {
     "name": "stderr",
     "output_type": "stream",
     "text": [
      "Translating 7-1_script_interview_clinique_2_21-08-2020.csv: 100%|██████████| 191/191 [19:06<00:00,  6.00s/it]\n",
      "Processing Files:  25%|██▌       | 2/8 [55:34<2:37:32, 1575.39s/it]"
     ]
    },
    {
     "name": "stdout",
     "output_type": "stream",
     "text": [
      "Translation completed for 7-1_script_interview_clinique_2_21-08-2020.csv. Output saved to c:\\Users\\david\\Documents\\GitHub\\Meditation-Interviews\\results\\Parkinson\\translation_fra_to_eng\\7-1_script_interview_clinique_2_21-08-2020.csv.\n"
     ]
    },
    {
     "name": "stderr",
     "output_type": "stream",
     "text": [
      "Translating 7-1_script_interview_clinique_3_21-08-2020.csv: 100%|██████████| 40/40 [05:26<00:00,  8.16s/it]\n",
      "Processing Files:  38%|███▊      | 3/8 [1:01:01<1:23:45, 1005.15s/it]"
     ]
    },
    {
     "name": "stdout",
     "output_type": "stream",
     "text": [
      "Translation completed for 7-1_script_interview_clinique_3_21-08-2020.csv. Output saved to c:\\Users\\david\\Documents\\GitHub\\Meditation-Interviews\\results\\Parkinson\\translation_fra_to_eng\\7-1_script_interview_clinique_3_21-08-2020.csv.\n"
     ]
    },
    {
     "name": "stderr",
     "output_type": "stream",
     "text": [
      "Translating 7-1_script_interview_clinique_4_21-08-2020.csv: 100%|██████████| 21/21 [02:01<00:00,  5.78s/it]\n",
      "Processing Files:  50%|█████     | 4/8 [1:03:02<43:44, 656.24s/it]   "
     ]
    },
    {
     "name": "stdout",
     "output_type": "stream",
     "text": [
      "Translation completed for 7-1_script_interview_clinique_4_21-08-2020.csv. Output saved to c:\\Users\\david\\Documents\\GitHub\\Meditation-Interviews\\results\\Parkinson\\translation_fra_to_eng\\7-1_script_interview_clinique_4_21-08-2020.csv.\n"
     ]
    },
    {
     "name": "stderr",
     "output_type": "stream",
     "text": [
      "Translating 7-1_script_interview_clinique_5_21-08-2020.csv: 100%|██████████| 102/102 [10:24<00:00,  6.13s/it]\n",
      "Processing Files:  62%|██████▎   | 5/8 [1:13:27<32:14, 644.92s/it]"
     ]
    },
    {
     "name": "stdout",
     "output_type": "stream",
     "text": [
      "Translation completed for 7-1_script_interview_clinique_5_21-08-2020.csv. Output saved to c:\\Users\\david\\Documents\\GitHub\\Meditation-Interviews\\results\\Parkinson\\translation_fra_to_eng\\7-1_script_interview_clinique_5_21-08-2020.csv.\n"
     ]
    },
    {
     "name": "stderr",
     "output_type": "stream",
     "text": [
      "Translating 7-2_script_interview_clinique_1_13-08-2020.csv: 100%|██████████| 231/231 [29:38<00:00,  7.70s/it]\n",
      "Processing Files:  75%|███████▌  | 6/8 [1:43:06<34:20, 1030.42s/it]"
     ]
    },
    {
     "name": "stdout",
     "output_type": "stream",
     "text": [
      "Translation completed for 7-2_script_interview_clinique_1_13-08-2020.csv. Output saved to c:\\Users\\david\\Documents\\GitHub\\Meditation-Interviews\\results\\Parkinson\\translation_fra_to_eng\\7-2_script_interview_clinique_1_13-08-2020.csv.\n"
     ]
    },
    {
     "name": "stderr",
     "output_type": "stream",
     "text": [
      "Translating 7-2_script_interview_clinique_2_13-08-2020.csv: 100%|██████████| 19/19 [02:31<00:00,  8.00s/it]\n",
      "Processing Files:  88%|████████▊ | 7/8 [1:45:38<12:23, 743.25s/it] "
     ]
    },
    {
     "name": "stdout",
     "output_type": "stream",
     "text": [
      "Translation completed for 7-2_script_interview_clinique_2_13-08-2020.csv. Output saved to c:\\Users\\david\\Documents\\GitHub\\Meditation-Interviews\\results\\Parkinson\\translation_fra_to_eng\\7-2_script_interview_clinique_2_13-08-2020.csv.\n"
     ]
    },
    {
     "name": "stderr",
     "output_type": "stream",
     "text": [
      "Translating 7-2_script_interview_clinique_3_13-08-2020.csv: 100%|██████████| 171/171 [27:21<00:00,  9.60s/it]\n",
      "Processing Files: 100%|██████████| 8/8 [2:12:59<00:00, 997.49s/it] \n"
     ]
    },
    {
     "name": "stdout",
     "output_type": "stream",
     "text": [
      "Translation completed for 7-2_script_interview_clinique_3_13-08-2020.csv. Output saved to c:\\Users\\david\\Documents\\GitHub\\Meditation-Interviews\\results\\Parkinson\\translation_fra_to_eng\\7-2_script_interview_clinique_3_13-08-2020.csv.\n"
     ]
    }
   ],
   "source": [
    "# Example configuration\n",
    "input_folder = \"../results/Parkinson/fr\" # Folder containing the files to translate\n",
    "source_lang = \"fra\" # French\n",
    "target_lang = \"eng\" # English\n",
    "override = False  # Skip files if output already exists\n",
    "\n",
    "translate_folder(input_folder, source_lang, target_lang, model, processor, use_cuda=True)"
   ]
  }
 ],
 "metadata": {
  "kernelspec": {
   "display_name": "seam",
   "language": "python",
   "name": "python3"
  },
  "language_info": {
   "codemirror_mode": {
    "name": "ipython",
    "version": 3
   },
   "file_extension": ".py",
   "mimetype": "text/x-python",
   "name": "python",
   "nbconvert_exporter": "python",
   "pygments_lexer": "ipython3",
   "version": "3.10.15"
  }
 },
 "nbformat": 4,
 "nbformat_minor": 2
}
